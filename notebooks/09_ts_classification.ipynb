{
 "cells": [
  {
   "cell_type": "markdown",
   "id": "d79a68c5",
   "metadata": {
    "papermill": {
     "duration": 0.027305,
     "end_time": "2023-02-27T15:10:23.743250",
     "exception": false,
     "start_time": "2023-02-27T15:10:23.715945",
     "status": "completed"
    },
    "tags": []
   },
   "source": [
    "# Time Series Classification"
   ]
  },
  {
   "cell_type": "code",
   "execution_count": 1,
   "id": "8a0cb2b0",
   "metadata": {
    "execution": {
     "iopub.execute_input": "2023-02-27T15:10:23.800281Z",
     "iopub.status.busy": "2023-02-27T15:10:23.799786Z",
     "iopub.status.idle": "2023-02-27T15:10:25.585581Z",
     "shell.execute_reply": "2023-02-27T15:10:25.584736Z"
    },
    "papermill": {
     "duration": 1.818509,
     "end_time": "2023-02-27T15:10:25.587745",
     "exception": false,
     "start_time": "2023-02-27T15:10:23.769236",
     "status": "completed"
    },
    "tags": []
   },
   "outputs": [],
   "source": [
    "%matplotlib inline\n",
    "import pandas as pd\n",
    "import numpy as np\n",
    "import matplotlib.pyplot as plt\n",
    "import seaborn as sns\n",
    "import re\n",
    "import os\n",
    "from sklearn.preprocessing import StandardScaler\n",
    "from sklearn.decomposition import PCA\n",
    "import joblib\n",
    "from tslearn.utils import to_time_series_dataset, save_time_series_txt, load_time_series_txt\n",
    "import random\n",
    "from sklearn.model_selection import train_test_split\n",
    "from sklearn.metrics import accuracy_score, f1_score, precision_score, recall_score, classification_report\n",
    "import pickle"
   ]
  },
  {
   "cell_type": "code",
   "execution_count": 2,
   "id": "acc03405",
   "metadata": {
    "execution": {
     "iopub.execute_input": "2023-02-27T15:10:25.649660Z",
     "iopub.status.busy": "2023-02-27T15:10:25.649188Z",
     "iopub.status.idle": "2023-02-27T15:10:25.655477Z",
     "shell.execute_reply": "2023-02-27T15:10:25.653947Z"
    },
    "papermill": {
     "duration": 0.042139,
     "end_time": "2023-02-27T15:10:25.659776",
     "exception": false,
     "start_time": "2023-02-27T15:10:25.617637",
     "status": "completed"
    },
    "tags": [
     "parameters"
    ]
   },
   "outputs": [],
   "source": [
    "data_path = '/home/mattiapggioli/lyrics2ts/data/classification/pp-rc/sbert/'\n",
    "truncate=100\n",
    "max_iter = 2000\n",
    "paa_window_size = None\n",
    "undersampling = None"
   ]
  },
  {
   "cell_type": "code",
   "execution_count": 3,
   "id": "a4f0c774",
   "metadata": {
    "execution": {
     "iopub.execute_input": "2023-02-27T15:10:25.698010Z",
     "iopub.status.busy": "2023-02-27T15:10:25.697331Z",
     "iopub.status.idle": "2023-02-27T15:10:49.741479Z",
     "shell.execute_reply": "2023-02-27T15:10:49.740515Z"
    },
    "papermill": {
     "duration": 24.058966,
     "end_time": "2023-02-27T15:10:49.744462",
     "exception": false,
     "start_time": "2023-02-27T15:10:25.685496",
     "status": "completed"
    },
    "tags": []
   },
   "outputs": [],
   "source": [
    "ts = load_time_series_txt(f'{data_path}/ts.txt')"
   ]
  },
  {
   "cell_type": "code",
   "execution_count": 4,
   "id": "5c48d154",
   "metadata": {
    "execution": {
     "iopub.execute_input": "2023-02-27T15:10:49.807251Z",
     "iopub.status.busy": "2023-02-27T15:10:49.806956Z",
     "iopub.status.idle": "2023-02-27T15:10:49.814677Z",
     "shell.execute_reply": "2023-02-27T15:10:49.813460Z"
    },
    "papermill": {
     "duration": 0.047912,
     "end_time": "2023-02-27T15:10:49.822789",
     "exception": false,
     "start_time": "2023-02-27T15:10:49.774877",
     "status": "completed"
    },
    "tags": []
   },
   "outputs": [
    {
     "data": {
      "text/plain": [
       "(24000, 130, 1)"
      ]
     },
     "execution_count": 4,
     "metadata": {},
     "output_type": "execute_result"
    }
   ],
   "source": [
    "ts.shape"
   ]
  },
  {
   "cell_type": "code",
   "execution_count": 5,
   "id": "f6274d40",
   "metadata": {
    "execution": {
     "iopub.execute_input": "2023-02-27T15:10:49.860441Z",
     "iopub.status.busy": "2023-02-27T15:10:49.859608Z",
     "iopub.status.idle": "2023-02-27T15:10:49.869737Z",
     "shell.execute_reply": "2023-02-27T15:10:49.868426Z"
    },
    "papermill": {
     "duration": 0.024861,
     "end_time": "2023-02-27T15:10:49.871925",
     "exception": false,
     "start_time": "2023-02-27T15:10:49.847064",
     "status": "completed"
    },
    "tags": []
   },
   "outputs": [],
   "source": [
    "with open(f'{data_path}/y_class.npy', 'rb') as f:\n",
    "    y = np.load(f, allow_pickle=True)"
   ]
  },
  {
   "cell_type": "code",
   "execution_count": 6,
   "id": "9d42fa3b",
   "metadata": {
    "execution": {
     "iopub.execute_input": "2023-02-27T15:10:49.897618Z",
     "iopub.status.busy": "2023-02-27T15:10:49.896936Z",
     "iopub.status.idle": "2023-02-27T15:10:49.907377Z",
     "shell.execute_reply": "2023-02-27T15:10:49.906246Z"
    },
    "papermill": {
     "duration": 0.025649,
     "end_time": "2023-02-27T15:10:49.909439",
     "exception": false,
     "start_time": "2023-02-27T15:10:49.883790",
     "status": "completed"
    },
    "tags": []
   },
   "outputs": [],
   "source": [
    "with open(f'{data_path}/X.npy', 'rb') as f:\n",
    "    X = np.load(f, allow_pickle=True)"
   ]
  },
  {
   "cell_type": "code",
   "execution_count": 7,
   "id": "1158a9da",
   "metadata": {},
   "outputs": [
    {
     "data": {
      "text/plain": [
       "(24000, 384)"
      ]
     },
     "execution_count": 7,
     "metadata": {},
     "output_type": "execute_result"
    }
   ],
   "source": [
    "X.shape"
   ]
  },
  {
   "cell_type": "code",
   "execution_count": 8,
   "id": "47239790",
   "metadata": {
    "execution": {
     "iopub.execute_input": "2023-02-27T15:10:49.937769Z",
     "iopub.status.busy": "2023-02-27T15:10:49.937299Z",
     "iopub.status.idle": "2023-02-27T15:10:49.946317Z",
     "shell.execute_reply": "2023-02-27T15:10:49.945134Z"
    },
    "papermill": {
     "duration": 0.023667,
     "end_time": "2023-02-27T15:10:49.948231",
     "exception": false,
     "start_time": "2023-02-27T15:10:49.924564",
     "status": "completed"
    },
    "tags": []
   },
   "outputs": [
    {
     "data": {
      "text/plain": [
       "{'pop', 'rock'}"
      ]
     },
     "execution_count": 8,
     "metadata": {},
     "output_type": "execute_result"
    }
   ],
   "source": [
    "set(y)"
   ]
  },
  {
   "cell_type": "code",
   "execution_count": 9,
   "id": "37609992",
   "metadata": {
    "execution": {
     "iopub.execute_input": "2023-02-27T15:10:49.972353Z",
     "iopub.status.busy": "2023-02-27T15:10:49.971894Z",
     "iopub.status.idle": "2023-02-27T15:10:49.995112Z",
     "shell.execute_reply": "2023-02-27T15:10:49.993853Z"
    },
    "papermill": {
     "duration": 0.037739,
     "end_time": "2023-02-27T15:10:49.997296",
     "exception": false,
     "start_time": "2023-02-27T15:10:49.959557",
     "status": "completed"
    },
    "tags": []
   },
   "outputs": [],
   "source": [
    "ts_train, ts_test, y_train, y_test = train_test_split(ts, y, test_size=0.20, random_state=42)"
   ]
  },
  {
   "cell_type": "code",
   "execution_count": 10,
   "id": "34508fe4",
   "metadata": {
    "execution": {
     "iopub.execute_input": "2023-02-27T15:10:50.023105Z",
     "iopub.status.busy": "2023-02-27T15:10:50.022652Z",
     "iopub.status.idle": "2023-02-27T15:10:50.033727Z",
     "shell.execute_reply": "2023-02-27T15:10:50.032411Z"
    },
    "papermill": {
     "duration": 0.025196,
     "end_time": "2023-02-27T15:10:50.035812",
     "exception": false,
     "start_time": "2023-02-27T15:10:50.010616",
     "status": "completed"
    },
    "tags": []
   },
   "outputs": [],
   "source": [
    "X_train, X_test, y_train, y_test = train_test_split(X, y, test_size=0.20, random_state=42)"
   ]
  },
  {
   "cell_type": "code",
   "execution_count": 11,
   "id": "076afac9",
   "metadata": {
    "execution": {
     "iopub.execute_input": "2023-02-27T15:10:50.063796Z",
     "iopub.status.busy": "2023-02-27T15:10:50.063322Z",
     "iopub.status.idle": "2023-02-27T15:10:50.075616Z",
     "shell.execute_reply": "2023-02-27T15:10:50.074678Z"
    },
    "papermill": {
     "duration": 0.026755,
     "end_time": "2023-02-27T15:10:50.077488",
     "exception": false,
     "start_time": "2023-02-27T15:10:50.050733",
     "status": "completed"
    },
    "tags": []
   },
   "outputs": [
    {
     "data": {
      "text/plain": [
       "array([[-3.89640169e-01],\n",
       "       [-1.11372636e+00],\n",
       "       [-1.11606015e+00],\n",
       "       [ 1.07142410e-01],\n",
       "       [ 9.09976069e-01],\n",
       "       [-7.56652205e-01],\n",
       "       [ 8.77988497e-01],\n",
       "       [-6.77124513e-01],\n",
       "       [-1.05611830e+00],\n",
       "       [ 9.57621670e-01],\n",
       "       [ 1.48331486e+00],\n",
       "       [ 2.24691510e+00],\n",
       "       [ 1.93815680e+00],\n",
       "       [ 7.54681752e-01],\n",
       "       [ 1.28207011e+00],\n",
       "       [ 2.41091556e+00],\n",
       "       [ 2.00717469e+00],\n",
       "       [ 6.62401921e-01],\n",
       "       [ 5.68369858e-01],\n",
       "       [ 2.69482707e-01],\n",
       "       [-8.97606568e-01],\n",
       "       [-1.36598796e+00],\n",
       "       [ 8.63738287e-04],\n",
       "       [ 9.57621670e-01],\n",
       "       [ 1.48331486e+00],\n",
       "       [ 2.24691510e+00],\n",
       "       [ 1.93815680e+00],\n",
       "       [ 1.31675576e-01],\n",
       "       [-6.37456735e-01],\n",
       "       [-8.11714728e-01],\n",
       "       [ 7.24943906e-01],\n",
       "       [-1.65813796e+00],\n",
       "       [-5.45685281e-01],\n",
       "       [-1.62064671e+00],\n",
       "       [-3.46353613e-01],\n",
       "       [-5.55156746e-02],\n",
       "       [-1.71930326e+00],\n",
       "       [ 7.24943906e-01],\n",
       "       [-1.05764692e+00],\n",
       "       [-6.99947736e-01],\n",
       "       [ 2.84568966e-01],\n",
       "       [ 5.61294716e-01],\n",
       "       [ 2.84568966e-01],\n",
       "       [ 7.09738243e-01],\n",
       "       [ 6.69647155e-01],\n",
       "       [-2.45314810e-01],\n",
       "       [ 9.57621670e-01],\n",
       "       [ 1.48331486e+00],\n",
       "       [ 2.24691510e+00],\n",
       "       [ 1.93815680e+00],\n",
       "       [ 1.89915090e-01],\n",
       "       [-9.23145967e-01],\n",
       "       [ 7.24943906e-01],\n",
       "       [-1.65813796e+00],\n",
       "       [-5.45685281e-01],\n",
       "       [-1.62064671e+00],\n",
       "       [-3.46353613e-01],\n",
       "       [-5.55156746e-02],\n",
       "       [-1.71930326e+00],\n",
       "       [ 7.24943906e-01],\n",
       "       [-1.05764692e+00],\n",
       "       [-1.50903410e+00],\n",
       "       [ 1.87654575e-01],\n",
       "       [-1.04699734e+00],\n",
       "       [ 2.69480528e-01],\n",
       "       [ 1.87654575e-01],\n",
       "       [-1.04699734e+00],\n",
       "       [-2.22910855e+00],\n",
       "       [-2.39151049e+00],\n",
       "       [            nan],\n",
       "       [            nan],\n",
       "       [            nan],\n",
       "       [            nan],\n",
       "       [            nan],\n",
       "       [            nan],\n",
       "       [            nan],\n",
       "       [            nan],\n",
       "       [            nan],\n",
       "       [            nan],\n",
       "       [            nan],\n",
       "       [            nan],\n",
       "       [            nan],\n",
       "       [            nan],\n",
       "       [            nan],\n",
       "       [            nan],\n",
       "       [            nan],\n",
       "       [            nan],\n",
       "       [            nan],\n",
       "       [            nan],\n",
       "       [            nan],\n",
       "       [            nan],\n",
       "       [            nan],\n",
       "       [            nan],\n",
       "       [            nan],\n",
       "       [            nan],\n",
       "       [            nan],\n",
       "       [            nan],\n",
       "       [            nan],\n",
       "       [            nan],\n",
       "       [            nan],\n",
       "       [            nan],\n",
       "       [            nan],\n",
       "       [            nan],\n",
       "       [            nan],\n",
       "       [            nan],\n",
       "       [            nan],\n",
       "       [            nan],\n",
       "       [            nan],\n",
       "       [            nan],\n",
       "       [            nan],\n",
       "       [            nan],\n",
       "       [            nan],\n",
       "       [            nan],\n",
       "       [            nan],\n",
       "       [            nan],\n",
       "       [            nan],\n",
       "       [            nan],\n",
       "       [            nan],\n",
       "       [            nan],\n",
       "       [            nan],\n",
       "       [            nan],\n",
       "       [            nan],\n",
       "       [            nan],\n",
       "       [            nan],\n",
       "       [            nan],\n",
       "       [            nan],\n",
       "       [            nan],\n",
       "       [            nan],\n",
       "       [            nan],\n",
       "       [            nan]])"
      ]
     },
     "execution_count": 11,
     "metadata": {},
     "output_type": "execute_result"
    }
   ],
   "source": [
    "random.choice(ts_train)"
   ]
  },
  {
   "cell_type": "code",
   "execution_count": 12,
   "id": "ca66457a",
   "metadata": {
    "execution": {
     "iopub.execute_input": "2023-02-27T15:10:50.102771Z",
     "iopub.status.busy": "2023-02-27T15:10:50.102318Z",
     "iopub.status.idle": "2023-02-27T15:10:50.636367Z",
     "shell.execute_reply": "2023-02-27T15:10:50.635650Z"
    },
    "papermill": {
     "duration": 0.54993,
     "end_time": "2023-02-27T15:10:50.639837",
     "exception": false,
     "start_time": "2023-02-27T15:10:50.089907",
     "status": "completed"
    },
    "tags": []
   },
   "outputs": [
    {
     "data": {
      "text/plain": [
       "<AxesSubplot:ylabel='Count'>"
      ]
     },
     "execution_count": 12,
     "metadata": {},
     "output_type": "execute_result"
    },
    {
     "data": {
      "image/png": "[encoded data removed]",
      "text/plain": [
       "<Figure size 640x480 with 1 Axes>"
      ]
     },
     "metadata": {},
     "output_type": "display_data"
    }
   ],
   "source": [
    "sns.histplot([t[~np.any(np.isnan(t), axis=1)].shape[0] for t in ts_train])"
   ]
  },
  {
   "cell_type": "code",
   "execution_count": 13,
   "id": "c2ae286f",
   "metadata": {
    "execution": {
     "iopub.execute_input": "2023-02-27T15:10:50.743219Z",
     "iopub.status.busy": "2023-02-27T15:10:50.742399Z",
     "iopub.status.idle": "2023-02-27T15:10:50.748157Z",
     "shell.execute_reply": "2023-02-27T15:10:50.747100Z"
    },
    "papermill": {
     "duration": 0.020406,
     "end_time": "2023-02-27T15:10:50.749840",
     "exception": false,
     "start_time": "2023-02-27T15:10:50.729434",
     "status": "completed"
    },
    "tags": []
   },
   "outputs": [],
   "source": [
    "ts_train = ts_train[:, :truncate, :]\n",
    "ts_test = ts_test[:, :truncate, :]"
   ]
  },
  {
   "cell_type": "code",
   "execution_count": 14,
   "id": "3218baa4",
   "metadata": {
    "execution": {
     "iopub.execute_input": "2023-02-27T15:10:50.774640Z",
     "iopub.status.busy": "2023-02-27T15:10:50.773878Z",
     "iopub.status.idle": "2023-02-27T15:10:50.886575Z",
     "shell.execute_reply": "2023-02-27T15:10:50.885918Z"
    },
    "papermill": {
     "duration": 0.127098,
     "end_time": "2023-02-27T15:10:50.888512",
     "exception": false,
     "start_time": "2023-02-27T15:10:50.761414",
     "status": "completed"
    },
    "tags": []
   },
   "outputs": [],
   "source": [
    "mean_arr = np.nanmean(ts_train, axis=1, keepdims=True)\n",
    "nan_indices = np.isnan(ts_train)\n",
    "ts_train[nan_indices] = np.take(mean_arr, np.nonzero(nan_indices)[0])\n",
    "\n",
    "mean_arr = np.nanmean(ts_test, axis=1, keepdims=True)\n",
    "nan_indices = np.isnan(ts_test)\n",
    "ts_test[nan_indices] = np.take(mean_arr, np.nonzero(nan_indices)[0])"
   ]
  },
  {
   "cell_type": "code",
   "execution_count": 15,
   "id": "d369691b",
   "metadata": {
    "execution": {
     "iopub.execute_input": "2023-02-27T15:10:50.916150Z",
     "iopub.status.busy": "2023-02-27T15:10:50.915481Z",
     "iopub.status.idle": "2023-02-27T15:10:50.921638Z",
     "shell.execute_reply": "2023-02-27T15:10:50.920805Z"
    },
    "papermill": {
     "duration": 0.019976,
     "end_time": "2023-02-27T15:10:50.923203",
     "exception": false,
     "start_time": "2023-02-27T15:10:50.903227",
     "status": "completed"
    },
    "tags": []
   },
   "outputs": [
    {
     "data": {
      "text/plain": [
       "0"
      ]
     },
     "execution_count": 15,
     "metadata": {},
     "output_type": "execute_result"
    }
   ],
   "source": [
    "np.count_nonzero(np.isnan(X_train))"
   ]
  },
  {
   "cell_type": "code",
   "execution_count": 16,
   "id": "0d602e18",
   "metadata": {
    "execution": {
     "iopub.execute_input": "2023-02-27T15:10:50.949108Z",
     "iopub.status.busy": "2023-02-27T15:10:50.948227Z",
     "iopub.status.idle": "2023-02-27T15:10:50.954925Z",
     "shell.execute_reply": "2023-02-27T15:10:50.953550Z"
    },
    "papermill": {
     "duration": 0.022022,
     "end_time": "2023-02-27T15:10:50.956539",
     "exception": false,
     "start_time": "2023-02-27T15:10:50.934517",
     "status": "completed"
    },
    "tags": []
   },
   "outputs": [],
   "source": [
    "X_train[np.isnan(X_train)] = 0\n",
    "X_test[np.isnan(X_test)] = 0"
   ]
  },
  {
   "cell_type": "code",
   "execution_count": 17,
   "id": "45c5102c",
   "metadata": {
    "execution": {
     "iopub.execute_input": "2023-02-27T15:10:50.981524Z",
     "iopub.status.busy": "2023-02-27T15:10:50.980653Z",
     "iopub.status.idle": "2023-02-27T15:10:54.221758Z",
     "shell.execute_reply": "2023-02-27T15:10:54.220511Z"
    },
    "papermill": {
     "duration": 3.256935,
     "end_time": "2023-02-27T15:10:54.225001",
     "exception": false,
     "start_time": "2023-02-27T15:10:50.968066",
     "status": "completed"
    },
    "tags": []
   },
   "outputs": [],
   "source": [
    "save_time_series_txt(f'{data_path}/ts_train.txt', ts_train)\n",
    "save_time_series_txt(f'{data_path}/ts_test.txt', ts_test)"
   ]
  },
  {
   "cell_type": "code",
   "execution_count": 18,
   "id": "39830f37",
   "metadata": {
    "execution": {
     "iopub.execute_input": "2023-02-27T15:10:54.270830Z",
     "iopub.status.busy": "2023-02-27T15:10:54.270466Z",
     "iopub.status.idle": "2023-02-27T15:10:54.280655Z",
     "shell.execute_reply": "2023-02-27T15:10:54.279176Z"
    },
    "papermill": {
     "duration": 0.026082,
     "end_time": "2023-02-27T15:10:54.283912",
     "exception": false,
     "start_time": "2023-02-27T15:10:54.257830",
     "status": "completed"
    },
    "tags": []
   },
   "outputs": [],
   "source": [
    "with open(f'{data_path}/X_train.npy', 'wb') as f:\n",
    "    np.save(f, X_train, allow_pickle=True)\n",
    "\n",
    "with open(f'{data_path}/X_test.npy', 'wb') as f:\n",
    "    np.save(f, X_test, allow_pickle=True)"
   ]
  },
  {
   "cell_type": "code",
   "execution_count": 19,
   "id": "795fd2be",
   "metadata": {
    "execution": {
     "iopub.execute_input": "2023-02-27T15:10:54.335864Z",
     "iopub.status.busy": "2023-02-27T15:10:54.334914Z",
     "iopub.status.idle": "2023-02-27T15:10:54.346263Z",
     "shell.execute_reply": "2023-02-27T15:10:54.344686Z"
    },
    "papermill": {
     "duration": 0.032493,
     "end_time": "2023-02-27T15:10:54.348322",
     "exception": false,
     "start_time": "2023-02-27T15:10:54.315829",
     "status": "completed"
    },
    "tags": []
   },
   "outputs": [],
   "source": [
    "with open(f'{data_path}/y_train.npy', 'wb') as f:\n",
    "    np.save(f, y_train, allow_pickle=True)\n",
    "\n",
    "with open(f'{data_path}/y_test.npy', 'wb') as f:\n",
    "    np.save(f, y_test, allow_pickle=True)"
   ]
  },
  {
   "cell_type": "code",
   "execution_count": 20,
   "id": "08bda153",
   "metadata": {
    "execution": {
     "iopub.execute_input": "2023-02-27T15:10:54.374719Z",
     "iopub.status.busy": "2023-02-27T15:10:54.374079Z",
     "iopub.status.idle": "2023-02-27T15:10:54.593950Z",
     "shell.execute_reply": "2023-02-27T15:10:54.593155Z"
    },
    "papermill": {
     "duration": 0.235288,
     "end_time": "2023-02-27T15:10:54.596725",
     "exception": false,
     "start_time": "2023-02-27T15:10:54.361437",
     "status": "completed"
    },
    "tags": []
   },
   "outputs": [
    {
     "data": {
      "text/plain": [
       "[<matplotlib.lines.Line2D at 0x7fd9059aebb0>]"
      ]
     },
     "execution_count": 20,
     "metadata": {},
     "output_type": "execute_result"
    },
    {
     "data": {
      "image/png": "[encoded data removed]",
      "text/plain": [
       "<Figure size 640x480 with 1 Axes>"
      ]
     },
     "metadata": {},
     "output_type": "display_data"
    }
   ],
   "source": [
    "plt.plot(random.choice(ts_train))"
   ]
  },
  {
   "cell_type": "code",
   "execution_count": 29,
   "id": "98ce9d63",
   "metadata": {
    "execution": {
     "iopub.execute_input": "2023-02-27T15:10:54.665680Z",
     "iopub.status.busy": "2023-02-27T15:10:54.665387Z",
     "iopub.status.idle": "2023-02-27T15:10:54.670981Z",
     "shell.execute_reply": "2023-02-27T15:10:54.670329Z"
    },
    "papermill": {
     "duration": 0.044303,
     "end_time": "2023-02-27T15:10:54.674523",
     "exception": false,
     "start_time": "2023-02-27T15:10:54.630220",
     "status": "completed"
    },
    "tags": []
   },
   "outputs": [],
   "source": [
    "# Parameters that require knowing if it's binary or multiclass (LightGBM, metrics)\n",
    "if len(set(y)) == 2:\n",
    "    avg_par = 'macro'\n",
    "    obj_par = 'binary'\n",
    "elif len(set(y)) > 2:\n",
    "    avg_par = 'macro'\n",
    "    obj_par = 'multiclass'"
   ]
  },
  {
   "cell_type": "markdown",
   "id": "228f1b39",
   "metadata": {
    "papermill": {
     "duration": 0.011574,
     "end_time": "2023-02-27T15:10:54.710550",
     "exception": false,
     "start_time": "2023-02-27T15:10:54.698976",
     "status": "completed"
    },
    "tags": []
   },
   "source": [
    "## Classification"
   ]
  },
  {
   "cell_type": "code",
   "execution_count": 31,
   "id": "34bb73ff",
   "metadata": {
    "execution": {
     "iopub.execute_input": "2023-02-27T15:10:54.737270Z",
     "iopub.status.busy": "2023-02-27T15:10:54.736200Z",
     "iopub.status.idle": "2023-02-27T15:10:54.789597Z",
     "shell.execute_reply": "2023-02-27T15:10:54.788782Z"
    },
    "papermill": {
     "duration": 0.068934,
     "end_time": "2023-02-27T15:10:54.791428",
     "exception": false,
     "start_time": "2023-02-27T15:10:54.722494",
     "status": "completed"
    },
    "tags": []
   },
   "outputs": [],
   "source": [
    "from sklearn.tree import DecisionTreeClassifier\n",
    "import lightgbm as lgbm\n",
    "from sklearn.ensemble import RandomForestClassifier"
   ]
  },
  {
   "cell_type": "code",
   "execution_count": 32,
   "id": "02aaee18",
   "metadata": {
    "execution": {
     "iopub.execute_input": "2023-02-27T15:10:54.819472Z",
     "iopub.status.busy": "2023-02-27T15:10:54.819188Z",
     "iopub.status.idle": "2023-02-27T15:10:54.823263Z",
     "shell.execute_reply": "2023-02-27T15:10:54.822439Z"
    },
    "papermill": {
     "duration": 0.0197,
     "end_time": "2023-02-27T15:10:54.824951",
     "exception": false,
     "start_time": "2023-02-27T15:10:54.805251",
     "status": "completed"
    },
    "tags": []
   },
   "outputs": [],
   "source": [
    "metrics_data = {}"
   ]
  },
  {
   "cell_type": "markdown",
   "id": "b49309ed",
   "metadata": {
    "papermill": {
     "duration": 0.012643,
     "end_time": "2023-02-27T15:10:54.849504",
     "exception": false,
     "start_time": "2023-02-27T15:10:54.836861",
     "status": "completed"
    },
    "tags": []
   },
   "source": [
    "### Baseline: global features (No Time Series)"
   ]
  },
  {
   "cell_type": "code",
   "execution_count": 33,
   "id": "35eb9f66",
   "metadata": {
    "execution": {
     "iopub.execute_input": "2023-02-27T15:10:54.874369Z",
     "iopub.status.busy": "2023-02-27T15:10:54.874093Z",
     "iopub.status.idle": "2023-02-27T15:10:54.878367Z",
     "shell.execute_reply": "2023-02-27T15:10:54.877381Z"
    },
    "papermill": {
     "duration": 0.018772,
     "end_time": "2023-02-27T15:10:54.879997",
     "exception": false,
     "start_time": "2023-02-27T15:10:54.861225",
     "status": "completed"
    },
    "tags": []
   },
   "outputs": [],
   "source": [
    "metrics_data['Global'] = {}"
   ]
  },
  {
   "cell_type": "markdown",
   "id": "29cd5044",
   "metadata": {
    "papermill": {
     "duration": 0.011553,
     "end_time": "2023-02-27T15:10:54.903688",
     "exception": false,
     "start_time": "2023-02-27T15:10:54.892135",
     "status": "completed"
    },
    "tags": []
   },
   "source": [
    "**Decision Tree**"
   ]
  },
  {
   "cell_type": "code",
   "execution_count": 34,
   "id": "9ef4f037",
   "metadata": {
    "execution": {
     "iopub.execute_input": "2023-02-27T15:10:54.928922Z",
     "iopub.status.busy": "2023-02-27T15:10:54.928649Z",
     "iopub.status.idle": "2023-02-27T15:10:55.212698Z",
     "shell.execute_reply": "2023-02-27T15:10:55.211710Z"
    },
    "papermill": {
     "duration": 0.29875,
     "end_time": "2023-02-27T15:10:55.214580",
     "exception": false,
     "start_time": "2023-02-27T15:10:54.915830",
     "status": "completed"
    },
    "tags": []
   },
   "outputs": [
    {
     "data": {
      "text/html": [
       "<style>#sk-container-id-2 {color: black;background-color: white;}#sk-container-id-2 pre{padding: 0;}#sk-container-id-2 div.sk-toggleable {background-color: white;}#sk-container-id-2 label.sk-toggleable__label {cursor: pointer;display: block;width: 100%;margin-bottom: 0;padding: 0.3em;box-sizing: border-box;text-align: center;}#sk-container-id-2 label.sk-toggleable__label-arrow:before {content: \"▸\";float: left;margin-right: 0.25em;color: #696969;}#sk-container-id-2 label.sk-toggleable__label-arrow:hover:before {color: black;}#sk-container-id-2 div.sk-estimator:hover label.sk-toggleable__label-arrow:before {color: black;}#sk-container-id-2 div.sk-toggleable__content {max-height: 0;max-width: 0;overflow: hidden;text-align: left;background-color: #f0f8ff;}#sk-container-id-2 div.sk-toggleable__content pre {margin: 0.2em;color: black;border-radius: 0.25em;background-color: #f0f8ff;}#sk-container-id-2 input.sk-toggleable__control:checked~div.sk-toggleable__content {max-height: 200px;max-width: 100%;overflow: auto;}#sk-container-id-2 input.sk-toggleable__control:checked~label.sk-toggleable__label-arrow:before {content: \"▾\";}#sk-container-id-2 div.sk-estimator input.sk-toggleable__control:checked~label.sk-toggleable__label {background-color: #d4ebff;}#sk-container-id-2 div.sk-label input.sk-toggleable__control:checked~label.sk-toggleable__label {background-color: #d4ebff;}#sk-container-id-2 input.sk-hidden--visually {border: 0;clip: rect(1px 1px 1px 1px);clip: rect(1px, 1px, 1px, 1px);height: 1px;margin: -1px;overflow: hidden;padding: 0;position: absolute;width: 1px;}#sk-container-id-2 div.sk-estimator {font-family: monospace;background-color: #f0f8ff;border: 1px dotted black;border-radius: 0.25em;box-sizing: border-box;margin-bottom: 0.5em;}#sk-container-id-2 div.sk-estimator:hover {background-color: #d4ebff;}#sk-container-id-2 div.sk-parallel-item::after {content: \"\";width: 100%;border-bottom: 1px solid gray;flex-grow: 1;}#sk-container-id-2 div.sk-label:hover label.sk-toggleable__label {background-color: #d4ebff;}#sk-container-id-2 div.sk-serial::before {content: \"\";position: absolute;border-left: 1px solid gray;box-sizing: border-box;top: 0;bottom: 0;left: 50%;z-index: 0;}#sk-container-id-2 div.sk-serial {display: flex;flex-direction: column;align-items: center;background-color: white;padding-right: 0.2em;padding-left: 0.2em;position: relative;}#sk-container-id-2 div.sk-item {position: relative;z-index: 1;}#sk-container-id-2 div.sk-parallel {display: flex;align-items: stretch;justify-content: center;background-color: white;position: relative;}#sk-container-id-2 div.sk-item::before, #sk-container-id-2 div.sk-parallel-item::before {content: \"\";position: absolute;border-left: 1px solid gray;box-sizing: border-box;top: 0;bottom: 0;left: 50%;z-index: -1;}#sk-container-id-2 div.sk-parallel-item {display: flex;flex-direction: column;z-index: 1;position: relative;background-color: white;}#sk-container-id-2 div.sk-parallel-item:first-child::after {align-self: flex-end;width: 50%;}#sk-container-id-2 div.sk-parallel-item:last-child::after {align-self: flex-start;width: 50%;}#sk-container-id-2 div.sk-parallel-item:only-child::after {width: 0;}#sk-container-id-2 div.sk-dashed-wrapped {border: 1px dashed gray;margin: 0 0.4em 0.5em 0.4em;box-sizing: border-box;padding-bottom: 0.4em;background-color: white;}#sk-container-id-2 div.sk-label label {font-family: monospace;font-weight: bold;display: inline-block;line-height: 1.2em;}#sk-container-id-2 div.sk-label-container {text-align: center;}#sk-container-id-2 div.sk-container {/* jupyter's `normalize.less` sets `[hidden] { display: none; }` but bootstrap.min.css set `[hidden] { display: none !important; }` so we also need the `!important` here to be able to override the default hidden behavior on the sphinx rendered scikit-learn.org. See: https://github.com/scikit-learn/scikit-learn/issues/21755 */display: inline-block !important;position: relative;}#sk-container-id-2 div.sk-text-repr-fallback {display: none;}</style><div id=\"sk-container-id-2\" class=\"sk-top-container\"><div class=\"sk-text-repr-fallback\"><pre>DecisionTreeClassifier()</pre><b>In a Jupyter environment, please rerun this cell to show the HTML representation or trust the notebook. <br />On GitHub, the HTML representation is unable to render, please try loading this page with nbviewer.org.</b></div><div class=\"sk-container\" hidden><div class=\"sk-item\"><div class=\"sk-estimator sk-toggleable\"><input class=\"sk-toggleable__control sk-hidden--visually\" id=\"sk-estimator-id-2\" type=\"checkbox\" checked><label for=\"sk-estimator-id-2\" class=\"sk-toggleable__label sk-toggleable__label-arrow\">DecisionTreeClassifier</label><div class=\"sk-toggleable__content\"><pre>DecisionTreeClassifier()</pre></div></div></div></div></div>"
      ],
      "text/plain": [
       "DecisionTreeClassifier()"
      ]
     },
     "execution_count": 34,
     "metadata": {},
     "output_type": "execute_result"
    }
   ],
   "source": [
    "clf = DecisionTreeClassifier()\n",
    "clf.fit(X_train, y_train)"
   ]
  },
  {
   "cell_type": "code",
   "execution_count": 35,
   "id": "9c50acc4",
   "metadata": {
    "execution": {
     "iopub.execute_input": "2023-02-27T15:10:55.244383Z",
     "iopub.status.busy": "2023-02-27T15:10:55.244057Z",
     "iopub.status.idle": "2023-02-27T15:10:55.390249Z",
     "shell.execute_reply": "2023-02-27T15:10:55.389178Z"
    },
    "papermill": {
     "duration": 0.162765,
     "end_time": "2023-02-27T15:10:55.392138",
     "exception": false,
     "start_time": "2023-02-27T15:10:55.229373",
     "status": "completed"
    },
    "tags": []
   },
   "outputs": [
    {
     "name": "stdout",
     "output_type": "stream",
     "text": [
      "              precision    recall  f1-score   support\n",
      "\n",
      "         pop       0.58      0.60      0.59      2391\n",
      "        rock       0.59      0.57      0.58      2409\n",
      "\n",
      "    accuracy                           0.58      4800\n",
      "   macro avg       0.58      0.58      0.58      4800\n",
      "weighted avg       0.58      0.58      0.58      4800\n",
      "\n"
     ]
    }
   ],
   "source": [
    "y_pred = clf.predict(X_test)\n",
    "print(classification_report(y_test, y_pred))"
   ]
  },
  {
   "cell_type": "code",
   "execution_count": 36,
   "id": "8866c3c3",
   "metadata": {
    "execution": {
     "iopub.execute_input": "2023-02-27T15:10:55.417943Z",
     "iopub.status.busy": "2023-02-27T15:10:55.417691Z",
     "iopub.status.idle": "2023-02-27T15:10:55.545370Z",
     "shell.execute_reply": "2023-02-27T15:10:55.544415Z"
    },
    "papermill": {
     "duration": 0.142602,
     "end_time": "2023-02-27T15:10:55.547129",
     "exception": false,
     "start_time": "2023-02-27T15:10:55.404527",
     "status": "completed"
    },
    "tags": []
   },
   "outputs": [],
   "source": [
    "acc = accuracy_score(y_test, y_pred)\n",
    "pre = precision_score(y_test, y_pred, average=avg_par)\n",
    "rec = recall_score(y_test, y_pred, average=avg_par)\n",
    "f1 = f1_score(y_test, y_pred, average=avg_par)\n",
    "\n",
    "metrics_data['Global']['DecisionTree'] = {'Accuracy': acc, 'Precision': pre, 'Recall': rec, 'F1': f1}"
   ]
  },
  {
   "cell_type": "markdown",
   "id": "28aa5a63",
   "metadata": {
    "papermill": {
     "duration": 0.011737,
     "end_time": "2023-02-27T15:10:55.571128",
     "exception": false,
     "start_time": "2023-02-27T15:10:55.559391",
     "status": "completed"
    },
    "tags": []
   },
   "source": [
    "**Random Forest**"
   ]
  },
  {
   "cell_type": "code",
   "execution_count": 37,
   "id": "0e5e2310",
   "metadata": {
    "execution": {
     "iopub.execute_input": "2023-02-27T15:10:55.597228Z",
     "iopub.status.busy": "2023-02-27T15:10:55.596591Z",
     "iopub.status.idle": "2023-02-27T15:11:01.368187Z",
     "shell.execute_reply": "2023-02-27T15:11:01.367375Z"
    },
    "papermill": {
     "duration": 5.786576,
     "end_time": "2023-02-27T15:11:01.369848",
     "exception": false,
     "start_time": "2023-02-27T15:10:55.583272",
     "status": "completed"
    },
    "tags": []
   },
   "outputs": [
    {
     "data": {
      "text/html": [
       "<style>#sk-container-id-3 {color: black;background-color: white;}#sk-container-id-3 pre{padding: 0;}#sk-container-id-3 div.sk-toggleable {background-color: white;}#sk-container-id-3 label.sk-toggleable__label {cursor: pointer;display: block;width: 100%;margin-bottom: 0;padding: 0.3em;box-sizing: border-box;text-align: center;}#sk-container-id-3 label.sk-toggleable__label-arrow:before {content: \"▸\";float: left;margin-right: 0.25em;color: #696969;}#sk-container-id-3 label.sk-toggleable__label-arrow:hover:before {color: black;}#sk-container-id-3 div.sk-estimator:hover label.sk-toggleable__label-arrow:before {color: black;}#sk-container-id-3 div.sk-toggleable__content {max-height: 0;max-width: 0;overflow: hidden;text-align: left;background-color: #f0f8ff;}#sk-container-id-3 div.sk-toggleable__content pre {margin: 0.2em;color: black;border-radius: 0.25em;background-color: #f0f8ff;}#sk-container-id-3 input.sk-toggleable__control:checked~div.sk-toggleable__content {max-height: 200px;max-width: 100%;overflow: auto;}#sk-container-id-3 input.sk-toggleable__control:checked~label.sk-toggleable__label-arrow:before {content: \"▾\";}#sk-container-id-3 div.sk-estimator input.sk-toggleable__control:checked~label.sk-toggleable__label {background-color: #d4ebff;}#sk-container-id-3 div.sk-label input.sk-toggleable__control:checked~label.sk-toggleable__label {background-color: #d4ebff;}#sk-container-id-3 input.sk-hidden--visually {border: 0;clip: rect(1px 1px 1px 1px);clip: rect(1px, 1px, 1px, 1px);height: 1px;margin: -1px;overflow: hidden;padding: 0;position: absolute;width: 1px;}#sk-container-id-3 div.sk-estimator {font-family: monospace;background-color: #f0f8ff;border: 1px dotted black;border-radius: 0.25em;box-sizing: border-box;margin-bottom: 0.5em;}#sk-container-id-3 div.sk-estimator:hover {background-color: #d4ebff;}#sk-container-id-3 div.sk-parallel-item::after {content: \"\";width: 100%;border-bottom: 1px solid gray;flex-grow: 1;}#sk-container-id-3 div.sk-label:hover label.sk-toggleable__label {background-color: #d4ebff;}#sk-container-id-3 div.sk-serial::before {content: \"\";position: absolute;border-left: 1px solid gray;box-sizing: border-box;top: 0;bottom: 0;left: 50%;z-index: 0;}#sk-container-id-3 div.sk-serial {display: flex;flex-direction: column;align-items: center;background-color: white;padding-right: 0.2em;padding-left: 0.2em;position: relative;}#sk-container-id-3 div.sk-item {position: relative;z-index: 1;}#sk-container-id-3 div.sk-parallel {display: flex;align-items: stretch;justify-content: center;background-color: white;position: relative;}#sk-container-id-3 div.sk-item::before, #sk-container-id-3 div.sk-parallel-item::before {content: \"\";position: absolute;border-left: 1px solid gray;box-sizing: border-box;top: 0;bottom: 0;left: 50%;z-index: -1;}#sk-container-id-3 div.sk-parallel-item {display: flex;flex-direction: column;z-index: 1;position: relative;background-color: white;}#sk-container-id-3 div.sk-parallel-item:first-child::after {align-self: flex-end;width: 50%;}#sk-container-id-3 div.sk-parallel-item:last-child::after {align-self: flex-start;width: 50%;}#sk-container-id-3 div.sk-parallel-item:only-child::after {width: 0;}#sk-container-id-3 div.sk-dashed-wrapped {border: 1px dashed gray;margin: 0 0.4em 0.5em 0.4em;box-sizing: border-box;padding-bottom: 0.4em;background-color: white;}#sk-container-id-3 div.sk-label label {font-family: monospace;font-weight: bold;display: inline-block;line-height: 1.2em;}#sk-container-id-3 div.sk-label-container {text-align: center;}#sk-container-id-3 div.sk-container {/* jupyter's `normalize.less` sets `[hidden] { display: none; }` but bootstrap.min.css set `[hidden] { display: none !important; }` so we also need the `!important` here to be able to override the default hidden behavior on the sphinx rendered scikit-learn.org. See: https://github.com/scikit-learn/scikit-learn/issues/21755 */display: inline-block !important;position: relative;}#sk-container-id-3 div.sk-text-repr-fallback {display: none;}</style><div id=\"sk-container-id-3\" class=\"sk-top-container\"><div class=\"sk-text-repr-fallback\"><pre>RandomForestClassifier(random_state=42)</pre><b>In a Jupyter environment, please rerun this cell to show the HTML representation or trust the notebook. <br />On GitHub, the HTML representation is unable to render, please try loading this page with nbviewer.org.</b></div><div class=\"sk-container\" hidden><div class=\"sk-item\"><div class=\"sk-estimator sk-toggleable\"><input class=\"sk-toggleable__control sk-hidden--visually\" id=\"sk-estimator-id-3\" type=\"checkbox\" checked><label for=\"sk-estimator-id-3\" class=\"sk-toggleable__label sk-toggleable__label-arrow\">RandomForestClassifier</label><div class=\"sk-toggleable__content\"><pre>RandomForestClassifier(random_state=42)</pre></div></div></div></div></div>"
      ],
      "text/plain": [
       "RandomForestClassifier(random_state=42)"
      ]
     },
     "execution_count": 37,
     "metadata": {},
     "output_type": "execute_result"
    }
   ],
   "source": [
    "clf = RandomForestClassifier(random_state=42)\n",
    "clf.fit(X_train, y_train)"
   ]
  },
  {
   "cell_type": "code",
   "execution_count": 38,
   "id": "4bd1304b",
   "metadata": {
    "execution": {
     "iopub.execute_input": "2023-02-27T15:11:01.395589Z",
     "iopub.status.busy": "2023-02-27T15:11:01.395339Z",
     "iopub.status.idle": "2023-02-27T15:11:01.694134Z",
     "shell.execute_reply": "2023-02-27T15:11:01.693211Z"
    },
    "papermill": {
     "duration": 0.314747,
     "end_time": "2023-02-27T15:11:01.696911",
     "exception": false,
     "start_time": "2023-02-27T15:11:01.382164",
     "status": "completed"
    },
    "tags": []
   },
   "outputs": [
    {
     "name": "stdout",
     "output_type": "stream",
     "text": [
      "              precision    recall  f1-score   support\n",
      "\n",
      "         pop       0.65      0.67      0.66      2391\n",
      "        rock       0.66      0.65      0.66      2409\n",
      "\n",
      "    accuracy                           0.66      4800\n",
      "   macro avg       0.66      0.66      0.66      4800\n",
      "weighted avg       0.66      0.66      0.66      4800\n",
      "\n"
     ]
    }
   ],
   "source": [
    "y_pred = clf.predict(X_test)\n",
    "print(classification_report(y_test, y_pred))"
   ]
  },
  {
   "cell_type": "code",
   "execution_count": 39,
   "id": "43174ba2",
   "metadata": {
    "execution": {
     "iopub.execute_input": "2023-02-27T15:11:01.769318Z",
     "iopub.status.busy": "2023-02-27T15:11:01.768923Z",
     "iopub.status.idle": "2023-02-27T15:11:01.880906Z",
     "shell.execute_reply": "2023-02-27T15:11:01.880106Z"
    },
    "papermill": {
     "duration": 0.151541,
     "end_time": "2023-02-27T15:11:01.883701",
     "exception": false,
     "start_time": "2023-02-27T15:11:01.732160",
     "status": "completed"
    },
    "tags": []
   },
   "outputs": [],
   "source": [
    "acc = accuracy_score(y_test, y_pred)\n",
    "pre = precision_score(y_test, y_pred, average=avg_par)\n",
    "rec = recall_score(y_test, y_pred, average=avg_par)\n",
    "f1 = f1_score(y_test, y_pred, average=avg_par)\n",
    "\n",
    "metrics_data['Global']['RandomForest'] = {'Accuracy': acc, 'Precision': pre, 'Recall': rec, 'F1': f1}"
   ]
  },
  {
   "cell_type": "markdown",
   "id": "22c98ac5",
   "metadata": {
    "papermill": {
     "duration": 0.032361,
     "end_time": "2023-02-27T15:11:01.950642",
     "exception": false,
     "start_time": "2023-02-27T15:11:01.918281",
     "status": "completed"
    },
    "tags": []
   },
   "source": [
    "**LightGBM**"
   ]
  },
  {
   "cell_type": "code",
   "execution_count": 40,
   "id": "c93b818c",
   "metadata": {
    "execution": {
     "iopub.execute_input": "2023-02-27T15:11:01.984976Z",
     "iopub.status.busy": "2023-02-27T15:11:01.984567Z",
     "iopub.status.idle": "2023-02-27T15:11:02.407159Z",
     "shell.execute_reply": "2023-02-27T15:11:02.406535Z"
    },
    "papermill": {
     "duration": 0.438187,
     "end_time": "2023-02-27T15:11:02.408934",
     "exception": false,
     "start_time": "2023-02-27T15:11:01.970747",
     "status": "completed"
    },
    "tags": []
   },
   "outputs": [
    {
     "data": {
      "text/html": [
       "<style>#sk-container-id-4 {color: black;background-color: white;}#sk-container-id-4 pre{padding: 0;}#sk-container-id-4 div.sk-toggleable {background-color: white;}#sk-container-id-4 label.sk-toggleable__label {cursor: pointer;display: block;width: 100%;margin-bottom: 0;padding: 0.3em;box-sizing: border-box;text-align: center;}#sk-container-id-4 label.sk-toggleable__label-arrow:before {content: \"▸\";float: left;margin-right: 0.25em;color: #696969;}#sk-container-id-4 label.sk-toggleable__label-arrow:hover:before {color: black;}#sk-container-id-4 div.sk-estimator:hover label.sk-toggleable__label-arrow:before {color: black;}#sk-container-id-4 div.sk-toggleable__content {max-height: 0;max-width: 0;overflow: hidden;text-align: left;background-color: #f0f8ff;}#sk-container-id-4 div.sk-toggleable__content pre {margin: 0.2em;color: black;border-radius: 0.25em;background-color: #f0f8ff;}#sk-container-id-4 input.sk-toggleable__control:checked~div.sk-toggleable__content {max-height: 200px;max-width: 100%;overflow: auto;}#sk-container-id-4 input.sk-toggleable__control:checked~label.sk-toggleable__label-arrow:before {content: \"▾\";}#sk-container-id-4 div.sk-estimator input.sk-toggleable__control:checked~label.sk-toggleable__label {background-color: #d4ebff;}#sk-container-id-4 div.sk-label input.sk-toggleable__control:checked~label.sk-toggleable__label {background-color: #d4ebff;}#sk-container-id-4 input.sk-hidden--visually {border: 0;clip: rect(1px 1px 1px 1px);clip: rect(1px, 1px, 1px, 1px);height: 1px;margin: -1px;overflow: hidden;padding: 0;position: absolute;width: 1px;}#sk-container-id-4 div.sk-estimator {font-family: monospace;background-color: #f0f8ff;border: 1px dotted black;border-radius: 0.25em;box-sizing: border-box;margin-bottom: 0.5em;}#sk-container-id-4 div.sk-estimator:hover {background-color: #d4ebff;}#sk-container-id-4 div.sk-parallel-item::after {content: \"\";width: 100%;border-bottom: 1px solid gray;flex-grow: 1;}#sk-container-id-4 div.sk-label:hover label.sk-toggleable__label {background-color: #d4ebff;}#sk-container-id-4 div.sk-serial::before {content: \"\";position: absolute;border-left: 1px solid gray;box-sizing: border-box;top: 0;bottom: 0;left: 50%;z-index: 0;}#sk-container-id-4 div.sk-serial {display: flex;flex-direction: column;align-items: center;background-color: white;padding-right: 0.2em;padding-left: 0.2em;position: relative;}#sk-container-id-4 div.sk-item {position: relative;z-index: 1;}#sk-container-id-4 div.sk-parallel {display: flex;align-items: stretch;justify-content: center;background-color: white;position: relative;}#sk-container-id-4 div.sk-item::before, #sk-container-id-4 div.sk-parallel-item::before {content: \"\";position: absolute;border-left: 1px solid gray;box-sizing: border-box;top: 0;bottom: 0;left: 50%;z-index: -1;}#sk-container-id-4 div.sk-parallel-item {display: flex;flex-direction: column;z-index: 1;position: relative;background-color: white;}#sk-container-id-4 div.sk-parallel-item:first-child::after {align-self: flex-end;width: 50%;}#sk-container-id-4 div.sk-parallel-item:last-child::after {align-self: flex-start;width: 50%;}#sk-container-id-4 div.sk-parallel-item:only-child::after {width: 0;}#sk-container-id-4 div.sk-dashed-wrapped {border: 1px dashed gray;margin: 0 0.4em 0.5em 0.4em;box-sizing: border-box;padding-bottom: 0.4em;background-color: white;}#sk-container-id-4 div.sk-label label {font-family: monospace;font-weight: bold;display: inline-block;line-height: 1.2em;}#sk-container-id-4 div.sk-label-container {text-align: center;}#sk-container-id-4 div.sk-container {/* jupyter's `normalize.less` sets `[hidden] { display: none; }` but bootstrap.min.css set `[hidden] { display: none !important; }` so we also need the `!important` here to be able to override the default hidden behavior on the sphinx rendered scikit-learn.org. See: https://github.com/scikit-learn/scikit-learn/issues/21755 */display: inline-block !important;position: relative;}#sk-container-id-4 div.sk-text-repr-fallback {display: none;}</style><div id=\"sk-container-id-4\" class=\"sk-top-container\"><div class=\"sk-text-repr-fallback\"><pre>LGBMClassifier(objective=&#x27;binary&#x27;)</pre><b>In a Jupyter environment, please rerun this cell to show the HTML representation or trust the notebook. <br />On GitHub, the HTML representation is unable to render, please try loading this page with nbviewer.org.</b></div><div class=\"sk-container\" hidden><div class=\"sk-item\"><div class=\"sk-estimator sk-toggleable\"><input class=\"sk-toggleable__control sk-hidden--visually\" id=\"sk-estimator-id-4\" type=\"checkbox\" checked><label for=\"sk-estimator-id-4\" class=\"sk-toggleable__label sk-toggleable__label-arrow\">LGBMClassifier</label><div class=\"sk-toggleable__content\"><pre>LGBMClassifier(objective=&#x27;binary&#x27;)</pre></div></div></div></div></div>"
      ],
      "text/plain": [
       "LGBMClassifier(objective='binary')"
      ]
     },
     "execution_count": 40,
     "metadata": {},
     "output_type": "execute_result"
    }
   ],
   "source": [
    "clf = lgbm.LGBMClassifier(objective=obj_par) \n",
    "clf.fit(X_train, y_train)"
   ]
  },
  {
   "cell_type": "code",
   "execution_count": 41,
   "id": "600a663a",
   "metadata": {
    "execution": {
     "iopub.execute_input": "2023-02-27T15:11:02.437727Z",
     "iopub.status.busy": "2023-02-27T15:11:02.437319Z",
     "iopub.status.idle": "2023-02-27T15:11:02.627687Z",
     "shell.execute_reply": "2023-02-27T15:11:02.626869Z"
    },
    "papermill": {
     "duration": 0.206653,
     "end_time": "2023-02-27T15:11:02.629384",
     "exception": false,
     "start_time": "2023-02-27T15:11:02.422731",
     "status": "completed"
    },
    "tags": []
   },
   "outputs": [
    {
     "name": "stdout",
     "output_type": "stream",
     "text": [
      "              precision    recall  f1-score   support\n",
      "\n",
      "         pop       0.67      0.69      0.68      2391\n",
      "        rock       0.68      0.66      0.67      2409\n",
      "\n",
      "    accuracy                           0.68      4800\n",
      "   macro avg       0.68      0.68      0.68      4800\n",
      "weighted avg       0.68      0.68      0.68      4800\n",
      "\n"
     ]
    }
   ],
   "source": [
    "y_pred = clf.predict(X_test)\n",
    "print(classification_report(y_test, y_pred))"
   ]
  },
  {
   "cell_type": "code",
   "execution_count": 42,
   "id": "508d831d",
   "metadata": {
    "execution": {
     "iopub.execute_input": "2023-02-27T15:11:02.703157Z",
     "iopub.status.busy": "2023-02-27T15:11:02.702813Z",
     "iopub.status.idle": "2023-02-27T15:11:02.836073Z",
     "shell.execute_reply": "2023-02-27T15:11:02.835475Z"
    },
    "papermill": {
     "duration": 0.174256,
     "end_time": "2023-02-27T15:11:02.838843",
     "exception": false,
     "start_time": "2023-02-27T15:11:02.664587",
     "status": "completed"
    },
    "tags": []
   },
   "outputs": [],
   "source": [
    "acc = accuracy_score(y_test, y_pred)\n",
    "pre = precision_score(y_test, y_pred, average=avg_par)\n",
    "rec = recall_score(y_test, y_pred, average=avg_par)\n",
    "f1 = f1_score(y_test, y_pred, average=avg_par)\n",
    "\n",
    "metrics_data['Global']['LightGBM'] = {'Accuracy': acc, 'Precision': pre, 'Recall': rec, 'F1': f1}"
   ]
  },
  {
   "cell_type": "markdown",
   "id": "14b86894",
   "metadata": {
    "papermill": {
     "duration": 0.035374,
     "end_time": "2023-02-27T15:11:02.909441",
     "exception": false,
     "start_time": "2023-02-27T15:11:02.874067",
     "status": "completed"
    },
    "tags": []
   },
   "source": [
    "### Time Series Classification"
   ]
  },
  {
   "cell_type": "markdown",
   "id": "84c55533",
   "metadata": {
    "papermill": {
     "duration": 0.013069,
     "end_time": "2023-02-27T15:11:02.940795",
     "exception": false,
     "start_time": "2023-02-27T15:11:02.927726",
     "status": "completed"
    },
    "tags": []
   },
   "source": [
    "#### Learning Shapelets"
   ]
  },
  {
   "cell_type": "code",
   "execution_count": 34,
   "id": "488d8eb7",
   "metadata": {
    "execution": {
     "iopub.execute_input": "2023-02-27T15:11:02.967878Z",
     "iopub.status.busy": "2023-02-27T15:11:02.967470Z",
     "iopub.status.idle": "2023-02-27T15:11:05.623952Z",
     "shell.execute_reply": "2023-02-27T15:11:05.623050Z"
    },
    "papermill": {
     "duration": 2.672311,
     "end_time": "2023-02-27T15:11:05.625774",
     "exception": false,
     "start_time": "2023-02-27T15:11:02.953463",
     "status": "completed"
    },
    "tags": []
   },
   "outputs": [
    {
     "name": "stderr",
     "output_type": "stream",
     "text": [
      "2023-03-08 11:11:37.161348: I tensorflow/core/platform/cpu_feature_guard.cc:193] This TensorFlow binary is optimized with oneAPI Deep Neural Network Library (oneDNN) to use the following CPU instructions in performance-critical operations:  AVX2 FMA\n",
      "To enable them in other operations, rebuild TensorFlow with the appropriate compiler flags.\n",
      "2023-03-08 11:11:37.324604: W tensorflow/compiler/xla/stream_executor/platform/default/dso_loader.cc:64] Could not load dynamic library 'libcudart.so.11.0'; dlerror: libcudart.so.11.0: cannot open shared object file: No such file or directory\n",
      "2023-03-08 11:11:37.324626: I tensorflow/compiler/xla/stream_executor/cuda/cudart_stub.cc:29] Ignore above cudart dlerror if you do not have a GPU set up on your machine.\n",
      "2023-03-08 11:11:37.967701: W tensorflow/compiler/xla/stream_executor/platform/default/dso_loader.cc:64] Could not load dynamic library 'libnvinfer.so.7'; dlerror: libnvinfer.so.7: cannot open shared object file: No such file or directory\n",
      "2023-03-08 11:11:37.967772: W tensorflow/compiler/xla/stream_executor/platform/default/dso_loader.cc:64] Could not load dynamic library 'libnvinfer_plugin.so.7'; dlerror: libnvinfer_plugin.so.7: cannot open shared object file: No such file or directory\n",
      "2023-03-08 11:11:37.967781: W tensorflow/compiler/tf2tensorrt/utils/py_utils.cc:38] TF-TRT Warning: Cannot dlopen some TensorRT libraries. If you would like to use Nvidia GPU with TensorRT, please make sure the missing libraries mentioned above are installed properly.\n"
     ]
    }
   ],
   "source": [
    "from tslearn.shapelets import LearningShapelets, grabocka_params_to_shapelet_size_dict"
   ]
  },
  {
   "cell_type": "code",
   "execution_count": 35,
   "id": "eb677959",
   "metadata": {
    "execution": {
     "iopub.execute_input": "2023-02-27T15:11:05.656964Z",
     "iopub.status.busy": "2023-02-27T15:11:05.656205Z",
     "iopub.status.idle": "2023-02-27T15:11:05.664150Z",
     "shell.execute_reply": "2023-02-27T15:11:05.662886Z"
    },
    "papermill": {
     "duration": 0.02667,
     "end_time": "2023-02-27T15:11:05.667110",
     "exception": false,
     "start_time": "2023-02-27T15:11:05.640440",
     "status": "completed"
    },
    "tags": []
   },
   "outputs": [],
   "source": [
    "n_ts, ts_sz, _ = ts_train.shape\n",
    "n_classes = len(set(y_train))"
   ]
  },
  {
   "cell_type": "code",
   "execution_count": 36,
   "id": "776ed3dd",
   "metadata": {
    "execution": {
     "iopub.execute_input": "2023-02-27T15:11:05.732503Z",
     "iopub.status.busy": "2023-02-27T15:11:05.732049Z",
     "iopub.status.idle": "2023-02-27T15:11:05.739932Z",
     "shell.execute_reply": "2023-02-27T15:11:05.738902Z"
    },
    "papermill": {
     "duration": 0.031314,
     "end_time": "2023-02-27T15:11:05.741661",
     "exception": false,
     "start_time": "2023-02-27T15:11:05.710347",
     "status": "completed"
    },
    "tags": []
   },
   "outputs": [
    {
     "name": "stdout",
     "output_type": "stream",
     "text": [
      "n_ts 1420\n",
      "ts_sz 100\n",
      "n_classes 6\n",
      "shapelet_sizes {10: 5}\n"
     ]
    }
   ],
   "source": [
    "# Set the number of shapelets per size as done in the original paper\n",
    "g_shapelet_sizes = grabocka_params_to_shapelet_size_dict(n_ts=n_ts,\n",
    "                                                         ts_sz=ts_sz,\n",
    "                                                         n_classes=n_classes,\n",
    "                                                         l=0.1,\n",
    "                                                         r=1)\n",
    "\n",
    "print('n_ts', n_ts)\n",
    "print('ts_sz', ts_sz)\n",
    "print('n_classes', n_classes)\n",
    "print('shapelet_sizes', g_shapelet_sizes)"
   ]
  },
  {
   "cell_type": "code",
   "execution_count": 37,
   "id": "90ed707e",
   "metadata": {
    "execution": {
     "iopub.execute_input": "2023-02-27T15:11:05.807529Z",
     "iopub.status.busy": "2023-02-27T15:11:05.806606Z",
     "iopub.status.idle": "2023-02-27T15:11:05.812624Z",
     "shell.execute_reply": "2023-02-27T15:11:05.811691Z"
    },
    "papermill": {
     "duration": 0.022195,
     "end_time": "2023-02-27T15:11:05.814316",
     "exception": false,
     "start_time": "2023-02-27T15:11:05.792121",
     "status": "completed"
    },
    "tags": []
   },
   "outputs": [
    {
     "data": {
      "text/plain": [
       "{10: 5, 20: 5, 5: 5}"
      ]
     },
     "execution_count": 37,
     "metadata": {},
     "output_type": "execute_result"
    }
   ],
   "source": [
    "shapelet_sizes = {}\n",
    "for key in g_shapelet_sizes:\n",
    "    shapelet_sizes[key] = g_shapelet_sizes[key]\n",
    "    shapelet_sizes[key*2] = g_shapelet_sizes[key]\n",
    "    shapelet_sizes[key//2] = g_shapelet_sizes[key]\n",
    "shapelet_sizes"
   ]
  },
  {
   "cell_type": "code",
   "execution_count": 39,
   "id": "3507fb9c",
   "metadata": {
    "execution": {
     "iopub.execute_input": "2023-02-27T15:11:05.841623Z",
     "iopub.status.busy": "2023-02-27T15:11:05.841168Z",
     "iopub.status.idle": "2023-02-27T15:11:05.848221Z",
     "shell.execute_reply": "2023-02-27T15:11:05.847113Z"
    },
    "papermill": {
     "duration": 0.022725,
     "end_time": "2023-02-27T15:11:05.849905",
     "exception": false,
     "start_time": "2023-02-27T15:11:05.827180",
     "status": "completed"
    },
    "tags": []
   },
   "outputs": [],
   "source": [
    "model = LearningShapelets(n_shapelets_per_size=shapelet_sizes,\n",
    "                          optimizer=\"adam\", \n",
    "                          weight_regularizer=.01, \n",
    "                          max_iter=max_iter, verbose=0, random_state=42)"
   ]
  },
  {
   "cell_type": "code",
   "execution_count": null,
   "id": "73b1fe2e",
   "metadata": {
    "execution": {
     "iopub.execute_input": "2023-02-27T15:11:05.878329Z",
     "iopub.status.busy": "2023-02-27T15:11:05.877878Z"
    },
    "papermill": {
     "duration": 1020.846403,
     "end_time": "2023-02-27T15:28:06.709240",
     "exception": false,
     "start_time": "2023-02-27T15:11:05.862837",
     "status": "completed"
    },
    "tags": []
   },
   "outputs": [
    {
     "name": "stderr",
     "output_type": "stream",
     "text": [
      "2023-03-08 11:13:04.117606: W tensorflow/compiler/xla/stream_executor/platform/default/dso_loader.cc:64] Could not load dynamic library 'libcuda.so.1'; dlerror: libcuda.so.1: cannot open shared object file: No such file or directory\n",
      "2023-03-08 11:13:04.117630: W tensorflow/compiler/xla/stream_executor/cuda/cuda_driver.cc:265] failed call to cuInit: UNKNOWN ERROR (303)\n",
      "2023-03-08 11:13:04.117649: I tensorflow/compiler/xla/stream_executor/cuda/cuda_diagnostics.cc:156] kernel driver does not appear to be running on this host (mattiapggioli-ThinkPad-E595): /proc/driver/nvidia/version does not exist\n",
      "2023-03-08 11:13:04.118173: I tensorflow/core/platform/cpu_feature_guard.cc:193] This TensorFlow binary is optimized with oneAPI Deep Neural Network Library (oneDNN) to use the following CPU instructions in performance-critical operations:  AVX2 FMA\n",
      "To enable them in other operations, rebuild TensorFlow with the appropriate compiler flags.\n"
     ]
    }
   ],
   "source": [
    "%%time\n",
    "model.fit(ts_train, y_train)"
   ]
  },
  {
   "cell_type": "code",
   "execution_count": 41,
   "id": "51706baa",
   "metadata": {
    "execution": {
     "iopub.execute_input": "2023-02-07T23:44:29.777062Z",
     "iopub.status.busy": "2023-02-07T23:44:29.776333Z",
     "iopub.status.idle": "2023-02-07T23:44:29.863707Z",
     "shell.execute_reply": "2023-02-07T23:44:29.863052Z"
    },
    "papermill": {
     "duration": null,
     "end_time": null,
     "exception": null,
     "start_time": null,
     "status": "pending"
    },
    "tags": []
   },
   "outputs": [],
   "source": [
    "model.to_pickle(f'{data_path}/shapelets.pkl')"
   ]
  },
  {
   "cell_type": "markdown",
   "id": "309f70dc",
   "metadata": {
    "papermill": {
     "duration": null,
     "end_time": null,
     "exception": null,
     "start_time": null,
     "status": "pending"
    },
    "tags": []
   },
   "source": [
    "#### Shapelet-Based Classification"
   ]
  },
  {
   "cell_type": "code",
   "execution_count": 42,
   "id": "60125dff",
   "metadata": {
    "papermill": {
     "duration": null,
     "end_time": null,
     "exception": null,
     "start_time": null,
     "status": "pending"
    },
    "tags": []
   },
   "outputs": [],
   "source": [
    "metrics_data['Shapelets'] = {}"
   ]
  },
  {
   "cell_type": "code",
   "execution_count": 43,
   "id": "efb8984d",
   "metadata": {
    "execution": {
     "iopub.execute_input": "2023-02-07T23:46:04.915183Z",
     "iopub.status.busy": "2023-02-07T23:46:04.914726Z",
     "iopub.status.idle": "2023-02-07T23:46:07.230026Z",
     "shell.execute_reply": "2023-02-07T23:46:07.229314Z"
    },
    "papermill": {
     "duration": null,
     "end_time": null,
     "exception": null,
     "start_time": null,
     "status": "pending"
    },
    "tags": []
   },
   "outputs": [],
   "source": [
    "X_train = model.transform(ts_train)\n",
    "X_test = model.transform(ts_test)"
   ]
  },
  {
   "cell_type": "code",
   "execution_count": 44,
   "id": "2e6c0f22",
   "metadata": {
    "execution": {
     "iopub.execute_input": "2023-02-07T23:46:23.959363Z",
     "iopub.status.busy": "2023-02-07T23:46:23.958468Z",
     "iopub.status.idle": "2023-02-07T23:46:23.981793Z",
     "shell.execute_reply": "2023-02-07T23:46:23.980779Z"
    },
    "papermill": {
     "duration": null,
     "end_time": null,
     "exception": null,
     "start_time": null,
     "status": "pending"
    },
    "tags": []
   },
   "outputs": [
    {
     "data": {
      "text/html": [
       "<div>\n",
       "<style scoped>\n",
       "    .dataframe tbody tr th:only-of-type {\n",
       "        vertical-align: middle;\n",
       "    }\n",
       "\n",
       "    .dataframe tbody tr th {\n",
       "        vertical-align: top;\n",
       "    }\n",
       "\n",
       "    .dataframe thead th {\n",
       "        text-align: right;\n",
       "    }\n",
       "</style>\n",
       "<table border=\"1\" class=\"dataframe\">\n",
       "  <thead>\n",
       "    <tr style=\"text-align: right;\">\n",
       "      <th></th>\n",
       "      <th>0</th>\n",
       "      <th>1</th>\n",
       "      <th>2</th>\n",
       "      <th>3</th>\n",
       "      <th>4</th>\n",
       "      <th>5</th>\n",
       "      <th>6</th>\n",
       "      <th>7</th>\n",
       "      <th>8</th>\n",
       "      <th>9</th>\n",
       "      <th>10</th>\n",
       "      <th>11</th>\n",
       "      <th>12</th>\n",
       "      <th>13</th>\n",
       "      <th>14</th>\n",
       "      <th>15</th>\n",
       "      <th>16</th>\n",
       "      <th>17</th>\n",
       "    </tr>\n",
       "  </thead>\n",
       "  <tbody>\n",
       "    <tr>\n",
       "      <th>0</th>\n",
       "      <td>6.662282</td>\n",
       "      <td>5.523741</td>\n",
       "      <td>3.292470</td>\n",
       "      <td>7.422489</td>\n",
       "      <td>5.888717</td>\n",
       "      <td>2.957287</td>\n",
       "      <td>5.854249</td>\n",
       "      <td>3.231288</td>\n",
       "      <td>3.279649</td>\n",
       "      <td>2.714551</td>\n",
       "      <td>2.760746</td>\n",
       "      <td>3.296390</td>\n",
       "      <td>6.561180</td>\n",
       "      <td>5.379394</td>\n",
       "      <td>43.399841</td>\n",
       "      <td>5.470015</td>\n",
       "      <td>5.497833</td>\n",
       "      <td>6.862443</td>\n",
       "    </tr>\n",
       "    <tr>\n",
       "      <th>1</th>\n",
       "      <td>6.517953</td>\n",
       "      <td>4.915958</td>\n",
       "      <td>3.294261</td>\n",
       "      <td>6.735422</td>\n",
       "      <td>4.818554</td>\n",
       "      <td>2.667261</td>\n",
       "      <td>6.132645</td>\n",
       "      <td>3.418318</td>\n",
       "      <td>3.528390</td>\n",
       "      <td>2.775469</td>\n",
       "      <td>2.712259</td>\n",
       "      <td>3.544681</td>\n",
       "      <td>7.244728</td>\n",
       "      <td>5.008254</td>\n",
       "      <td>43.848076</td>\n",
       "      <td>5.171350</td>\n",
       "      <td>4.824230</td>\n",
       "      <td>7.269975</td>\n",
       "    </tr>\n",
       "    <tr>\n",
       "      <th>2</th>\n",
       "      <td>7.037992</td>\n",
       "      <td>5.687197</td>\n",
       "      <td>4.106562</td>\n",
       "      <td>8.451282</td>\n",
       "      <td>6.169182</td>\n",
       "      <td>2.983976</td>\n",
       "      <td>6.435407</td>\n",
       "      <td>3.874899</td>\n",
       "      <td>3.526426</td>\n",
       "      <td>2.745763</td>\n",
       "      <td>2.858178</td>\n",
       "      <td>3.521083</td>\n",
       "      <td>7.220769</td>\n",
       "      <td>5.694877</td>\n",
       "      <td>44.647018</td>\n",
       "      <td>5.762385</td>\n",
       "      <td>5.919614</td>\n",
       "      <td>7.361225</td>\n",
       "    </tr>\n",
       "    <tr>\n",
       "      <th>3</th>\n",
       "      <td>6.392230</td>\n",
       "      <td>5.218866</td>\n",
       "      <td>3.809686</td>\n",
       "      <td>8.012120</td>\n",
       "      <td>5.505461</td>\n",
       "      <td>2.939744</td>\n",
       "      <td>6.401866</td>\n",
       "      <td>3.562108</td>\n",
       "      <td>3.602288</td>\n",
       "      <td>2.677584</td>\n",
       "      <td>2.913071</td>\n",
       "      <td>3.543126</td>\n",
       "      <td>7.035871</td>\n",
       "      <td>5.694799</td>\n",
       "      <td>44.228088</td>\n",
       "      <td>5.788557</td>\n",
       "      <td>5.750975</td>\n",
       "      <td>7.083966</td>\n",
       "    </tr>\n",
       "    <tr>\n",
       "      <th>4</th>\n",
       "      <td>8.364944</td>\n",
       "      <td>5.535240</td>\n",
       "      <td>3.064540</td>\n",
       "      <td>8.931025</td>\n",
       "      <td>6.241264</td>\n",
       "      <td>2.069019</td>\n",
       "      <td>7.174678</td>\n",
       "      <td>2.877514</td>\n",
       "      <td>2.165159</td>\n",
       "      <td>1.877643</td>\n",
       "      <td>1.852118</td>\n",
       "      <td>2.119174</td>\n",
       "      <td>5.254804</td>\n",
       "      <td>7.111127</td>\n",
       "      <td>39.065598</td>\n",
       "      <td>7.077094</td>\n",
       "      <td>6.835816</td>\n",
       "      <td>5.482317</td>\n",
       "    </tr>\n",
       "    <tr>\n",
       "      <th>...</th>\n",
       "      <td>...</td>\n",
       "      <td>...</td>\n",
       "      <td>...</td>\n",
       "      <td>...</td>\n",
       "      <td>...</td>\n",
       "      <td>...</td>\n",
       "      <td>...</td>\n",
       "      <td>...</td>\n",
       "      <td>...</td>\n",
       "      <td>...</td>\n",
       "      <td>...</td>\n",
       "      <td>...</td>\n",
       "      <td>...</td>\n",
       "      <td>...</td>\n",
       "      <td>...</td>\n",
       "      <td>...</td>\n",
       "      <td>...</td>\n",
       "      <td>...</td>\n",
       "    </tr>\n",
       "    <tr>\n",
       "      <th>7195</th>\n",
       "      <td>7.428640</td>\n",
       "      <td>5.045612</td>\n",
       "      <td>2.893758</td>\n",
       "      <td>8.161864</td>\n",
       "      <td>5.929986</td>\n",
       "      <td>2.412205</td>\n",
       "      <td>6.396420</td>\n",
       "      <td>2.956687</td>\n",
       "      <td>2.980810</td>\n",
       "      <td>2.506999</td>\n",
       "      <td>2.623611</td>\n",
       "      <td>2.964911</td>\n",
       "      <td>6.420388</td>\n",
       "      <td>5.895232</td>\n",
       "      <td>41.931793</td>\n",
       "      <td>5.853682</td>\n",
       "      <td>6.111726</td>\n",
       "      <td>6.697709</td>\n",
       "    </tr>\n",
       "    <tr>\n",
       "      <th>7196</th>\n",
       "      <td>7.002017</td>\n",
       "      <td>5.725966</td>\n",
       "      <td>3.042786</td>\n",
       "      <td>7.139513</td>\n",
       "      <td>5.501321</td>\n",
       "      <td>2.186597</td>\n",
       "      <td>6.233046</td>\n",
       "      <td>3.243282</td>\n",
       "      <td>2.903263</td>\n",
       "      <td>2.259184</td>\n",
       "      <td>2.406770</td>\n",
       "      <td>2.901722</td>\n",
       "      <td>6.320835</td>\n",
       "      <td>5.593498</td>\n",
       "      <td>42.398281</td>\n",
       "      <td>5.799568</td>\n",
       "      <td>5.940485</td>\n",
       "      <td>6.329617</td>\n",
       "    </tr>\n",
       "    <tr>\n",
       "      <th>7197</th>\n",
       "      <td>7.354607</td>\n",
       "      <td>5.574260</td>\n",
       "      <td>2.895782</td>\n",
       "      <td>7.836240</td>\n",
       "      <td>6.059998</td>\n",
       "      <td>2.222797</td>\n",
       "      <td>6.688269</td>\n",
       "      <td>3.165904</td>\n",
       "      <td>2.690587</td>\n",
       "      <td>2.052405</td>\n",
       "      <td>2.087345</td>\n",
       "      <td>2.662144</td>\n",
       "      <td>5.698635</td>\n",
       "      <td>6.307705</td>\n",
       "      <td>40.853451</td>\n",
       "      <td>6.433056</td>\n",
       "      <td>6.326950</td>\n",
       "      <td>5.904438</td>\n",
       "    </tr>\n",
       "    <tr>\n",
       "      <th>7198</th>\n",
       "      <td>8.021232</td>\n",
       "      <td>5.047649</td>\n",
       "      <td>3.239869</td>\n",
       "      <td>8.374660</td>\n",
       "      <td>5.475948</td>\n",
       "      <td>2.394566</td>\n",
       "      <td>7.278851</td>\n",
       "      <td>3.577485</td>\n",
       "      <td>2.607295</td>\n",
       "      <td>2.053325</td>\n",
       "      <td>2.251283</td>\n",
       "      <td>2.626518</td>\n",
       "      <td>6.119936</td>\n",
       "      <td>6.378182</td>\n",
       "      <td>41.454803</td>\n",
       "      <td>6.535767</td>\n",
       "      <td>6.545374</td>\n",
       "      <td>6.115516</td>\n",
       "    </tr>\n",
       "    <tr>\n",
       "      <th>7199</th>\n",
       "      <td>6.229157</td>\n",
       "      <td>5.214194</td>\n",
       "      <td>3.152493</td>\n",
       "      <td>6.844893</td>\n",
       "      <td>4.634208</td>\n",
       "      <td>2.860392</td>\n",
       "      <td>5.848770</td>\n",
       "      <td>3.695975</td>\n",
       "      <td>3.180307</td>\n",
       "      <td>2.602818</td>\n",
       "      <td>2.680468</td>\n",
       "      <td>3.193817</td>\n",
       "      <td>6.917749</td>\n",
       "      <td>5.070072</td>\n",
       "      <td>44.310833</td>\n",
       "      <td>5.109116</td>\n",
       "      <td>4.999132</td>\n",
       "      <td>6.987017</td>\n",
       "    </tr>\n",
       "  </tbody>\n",
       "</table>\n",
       "<p>7200 rows × 18 columns</p>\n",
       "</div>"
      ],
      "text/plain": [
       "            0         1         2         3         4         5         6   \\\n",
       "0     6.662282  5.523741  3.292470  7.422489  5.888717  2.957287  5.854249   \n",
       "1     6.517953  4.915958  3.294261  6.735422  4.818554  2.667261  6.132645   \n",
       "2     7.037992  5.687197  4.106562  8.451282  6.169182  2.983976  6.435407   \n",
       "3     6.392230  5.218866  3.809686  8.012120  5.505461  2.939744  6.401866   \n",
       "4     8.364944  5.535240  3.064540  8.931025  6.241264  2.069019  7.174678   \n",
       "...        ...       ...       ...       ...       ...       ...       ...   \n",
       "7195  7.428640  5.045612  2.893758  8.161864  5.929986  2.412205  6.396420   \n",
       "7196  7.002017  5.725966  3.042786  7.139513  5.501321  2.186597  6.233046   \n",
       "7197  7.354607  5.574260  2.895782  7.836240  6.059998  2.222797  6.688269   \n",
       "7198  8.021232  5.047649  3.239869  8.374660  5.475948  2.394566  7.278851   \n",
       "7199  6.229157  5.214194  3.152493  6.844893  4.634208  2.860392  5.848770   \n",
       "\n",
       "            7         8         9         10        11        12        13  \\\n",
       "0     3.231288  3.279649  2.714551  2.760746  3.296390  6.561180  5.379394   \n",
       "1     3.418318  3.528390  2.775469  2.712259  3.544681  7.244728  5.008254   \n",
       "2     3.874899  3.526426  2.745763  2.858178  3.521083  7.220769  5.694877   \n",
       "3     3.562108  3.602288  2.677584  2.913071  3.543126  7.035871  5.694799   \n",
       "4     2.877514  2.165159  1.877643  1.852118  2.119174  5.254804  7.111127   \n",
       "...        ...       ...       ...       ...       ...       ...       ...   \n",
       "7195  2.956687  2.980810  2.506999  2.623611  2.964911  6.420388  5.895232   \n",
       "7196  3.243282  2.903263  2.259184  2.406770  2.901722  6.320835  5.593498   \n",
       "7197  3.165904  2.690587  2.052405  2.087345  2.662144  5.698635  6.307705   \n",
       "7198  3.577485  2.607295  2.053325  2.251283  2.626518  6.119936  6.378182   \n",
       "7199  3.695975  3.180307  2.602818  2.680468  3.193817  6.917749  5.070072   \n",
       "\n",
       "             14        15        16        17  \n",
       "0     43.399841  5.470015  5.497833  6.862443  \n",
       "1     43.848076  5.171350  4.824230  7.269975  \n",
       "2     44.647018  5.762385  5.919614  7.361225  \n",
       "3     44.228088  5.788557  5.750975  7.083966  \n",
       "4     39.065598  7.077094  6.835816  5.482317  \n",
       "...         ...       ...       ...       ...  \n",
       "7195  41.931793  5.853682  6.111726  6.697709  \n",
       "7196  42.398281  5.799568  5.940485  6.329617  \n",
       "7197  40.853451  6.433056  6.326950  5.904438  \n",
       "7198  41.454803  6.535767  6.545374  6.115516  \n",
       "7199  44.310833  5.109116  4.999132  6.987017  \n",
       "\n",
       "[7200 rows x 18 columns]"
      ]
     },
     "execution_count": 44,
     "metadata": {},
     "output_type": "execute_result"
    }
   ],
   "source": [
    "pd.DataFrame(X_test)"
   ]
  },
  {
   "cell_type": "markdown",
   "id": "5fa024f7",
   "metadata": {
    "execution": {
     "iopub.execute_input": "2023-02-07T23:47:19.876941Z",
     "iopub.status.busy": "2023-02-07T23:47:19.876424Z",
     "iopub.status.idle": "2023-02-07T23:47:20.399488Z",
     "shell.execute_reply": "2023-02-07T23:47:20.398142Z"
    },
    "papermill": {
     "duration": null,
     "end_time": null,
     "exception": null,
     "start_time": null,
     "status": "pending"
    },
    "tags": []
   },
   "source": [
    "**Decision Tree**"
   ]
  },
  {
   "cell_type": "code",
   "execution_count": 45,
   "id": "4f5400c9",
   "metadata": {
    "papermill": {
     "duration": null,
     "end_time": null,
     "exception": null,
     "start_time": null,
     "status": "pending"
    },
    "tags": []
   },
   "outputs": [
    {
     "data": {
      "text/html": [
       "<style>#sk-container-id-5 {color: black;background-color: white;}#sk-container-id-5 pre{padding: 0;}#sk-container-id-5 div.sk-toggleable {background-color: white;}#sk-container-id-5 label.sk-toggleable__label {cursor: pointer;display: block;width: 100%;margin-bottom: 0;padding: 0.3em;box-sizing: border-box;text-align: center;}#sk-container-id-5 label.sk-toggleable__label-arrow:before {content: \"▸\";float: left;margin-right: 0.25em;color: #696969;}#sk-container-id-5 label.sk-toggleable__label-arrow:hover:before {color: black;}#sk-container-id-5 div.sk-estimator:hover label.sk-toggleable__label-arrow:before {color: black;}#sk-container-id-5 div.sk-toggleable__content {max-height: 0;max-width: 0;overflow: hidden;text-align: left;background-color: #f0f8ff;}#sk-container-id-5 div.sk-toggleable__content pre {margin: 0.2em;color: black;border-radius: 0.25em;background-color: #f0f8ff;}#sk-container-id-5 input.sk-toggleable__control:checked~div.sk-toggleable__content {max-height: 200px;max-width: 100%;overflow: auto;}#sk-container-id-5 input.sk-toggleable__control:checked~label.sk-toggleable__label-arrow:before {content: \"▾\";}#sk-container-id-5 div.sk-estimator input.sk-toggleable__control:checked~label.sk-toggleable__label {background-color: #d4ebff;}#sk-container-id-5 div.sk-label input.sk-toggleable__control:checked~label.sk-toggleable__label {background-color: #d4ebff;}#sk-container-id-5 input.sk-hidden--visually {border: 0;clip: rect(1px 1px 1px 1px);clip: rect(1px, 1px, 1px, 1px);height: 1px;margin: -1px;overflow: hidden;padding: 0;position: absolute;width: 1px;}#sk-container-id-5 div.sk-estimator {font-family: monospace;background-color: #f0f8ff;border: 1px dotted black;border-radius: 0.25em;box-sizing: border-box;margin-bottom: 0.5em;}#sk-container-id-5 div.sk-estimator:hover {background-color: #d4ebff;}#sk-container-id-5 div.sk-parallel-item::after {content: \"\";width: 100%;border-bottom: 1px solid gray;flex-grow: 1;}#sk-container-id-5 div.sk-label:hover label.sk-toggleable__label {background-color: #d4ebff;}#sk-container-id-5 div.sk-serial::before {content: \"\";position: absolute;border-left: 1px solid gray;box-sizing: border-box;top: 0;bottom: 0;left: 50%;z-index: 0;}#sk-container-id-5 div.sk-serial {display: flex;flex-direction: column;align-items: center;background-color: white;padding-right: 0.2em;padding-left: 0.2em;position: relative;}#sk-container-id-5 div.sk-item {position: relative;z-index: 1;}#sk-container-id-5 div.sk-parallel {display: flex;align-items: stretch;justify-content: center;background-color: white;position: relative;}#sk-container-id-5 div.sk-item::before, #sk-container-id-5 div.sk-parallel-item::before {content: \"\";position: absolute;border-left: 1px solid gray;box-sizing: border-box;top: 0;bottom: 0;left: 50%;z-index: -1;}#sk-container-id-5 div.sk-parallel-item {display: flex;flex-direction: column;z-index: 1;position: relative;background-color: white;}#sk-container-id-5 div.sk-parallel-item:first-child::after {align-self: flex-end;width: 50%;}#sk-container-id-5 div.sk-parallel-item:last-child::after {align-self: flex-start;width: 50%;}#sk-container-id-5 div.sk-parallel-item:only-child::after {width: 0;}#sk-container-id-5 div.sk-dashed-wrapped {border: 1px dashed gray;margin: 0 0.4em 0.5em 0.4em;box-sizing: border-box;padding-bottom: 0.4em;background-color: white;}#sk-container-id-5 div.sk-label label {font-family: monospace;font-weight: bold;display: inline-block;line-height: 1.2em;}#sk-container-id-5 div.sk-label-container {text-align: center;}#sk-container-id-5 div.sk-container {/* jupyter's `normalize.less` sets `[hidden] { display: none; }` but bootstrap.min.css set `[hidden] { display: none !important; }` so we also need the `!important` here to be able to override the default hidden behavior on the sphinx rendered scikit-learn.org. See: https://github.com/scikit-learn/scikit-learn/issues/21755 */display: inline-block !important;position: relative;}#sk-container-id-5 div.sk-text-repr-fallback {display: none;}</style><div id=\"sk-container-id-5\" class=\"sk-top-container\"><div class=\"sk-text-repr-fallback\"><pre>DecisionTreeClassifier(random_state=42)</pre><b>In a Jupyter environment, please rerun this cell to show the HTML representation or trust the notebook. <br />On GitHub, the HTML representation is unable to render, please try loading this page with nbviewer.org.</b></div><div class=\"sk-container\" hidden><div class=\"sk-item\"><div class=\"sk-estimator sk-toggleable\"><input class=\"sk-toggleable__control sk-hidden--visually\" id=\"sk-estimator-id-5\" type=\"checkbox\" checked><label for=\"sk-estimator-id-5\" class=\"sk-toggleable__label sk-toggleable__label-arrow\">DecisionTreeClassifier</label><div class=\"sk-toggleable__content\"><pre>DecisionTreeClassifier(random_state=42)</pre></div></div></div></div></div>"
      ],
      "text/plain": [
       "DecisionTreeClassifier(random_state=42)"
      ]
     },
     "execution_count": 45,
     "metadata": {},
     "output_type": "execute_result"
    }
   ],
   "source": [
    "clf = DecisionTreeClassifier(random_state=42)\n",
    "clf.fit(X_train, y_train)"
   ]
  },
  {
   "cell_type": "code",
   "execution_count": 46,
   "id": "3b56d190",
   "metadata": {
    "papermill": {
     "duration": null,
     "end_time": null,
     "exception": null,
     "start_time": null,
     "status": "pending"
    },
    "tags": []
   },
   "outputs": [
    {
     "name": "stdout",
     "output_type": "stream",
     "text": [
      "              precision    recall  f1-score   support\n",
      "\n",
      "         pop       0.43      0.44      0.43      2400\n",
      "         rap       0.63      0.63      0.63      2376\n",
      "        rock       0.47      0.45      0.46      2424\n",
      "\n",
      "    accuracy                           0.51      7200\n",
      "   macro avg       0.51      0.51      0.51      7200\n",
      "weighted avg       0.51      0.51      0.51      7200\n",
      "\n"
     ]
    }
   ],
   "source": [
    "y_pred = clf.predict(X_test)\n",
    "print(classification_report(y_test, y_pred))"
   ]
  },
  {
   "cell_type": "code",
   "execution_count": 47,
   "id": "42bc91ff",
   "metadata": {
    "papermill": {
     "duration": null,
     "end_time": null,
     "exception": null,
     "start_time": null,
     "status": "pending"
    },
    "tags": []
   },
   "outputs": [],
   "source": [
    "pickle.dump(clf, open(f'{data_path}/decision_tree.pkl', 'wb'))"
   ]
  },
  {
   "cell_type": "code",
   "execution_count": 48,
   "id": "ea9be210",
   "metadata": {
    "papermill": {
     "duration": null,
     "end_time": null,
     "exception": null,
     "start_time": null,
     "status": "pending"
    },
    "tags": []
   },
   "outputs": [],
   "source": [
    "acc = accuracy_score(y_test, y_pred)\n",
    "pre = precision_score(y_test, y_pred, average=avg_par)\n",
    "rec = recall_score(y_test, y_pred, average=avg_par)\n",
    "f1 = f1_score(y_test, y_pred, average=avg_par)\n",
    "\n",
    "metrics_data['Shapelets']['DecisionTree'] = {'Accuracy': acc, 'Precision': pre, 'Recall': rec, 'F1': f1}"
   ]
  },
  {
   "cell_type": "markdown",
   "id": "3ca3443b",
   "metadata": {
    "papermill": {
     "duration": null,
     "end_time": null,
     "exception": null,
     "start_time": null,
     "status": "pending"
    },
    "tags": []
   },
   "source": [
    "**Random Forest**"
   ]
  },
  {
   "cell_type": "code",
   "execution_count": 49,
   "id": "37795e21",
   "metadata": {
    "execution": {
     "iopub.execute_input": "2023-02-07T23:46:40.850423Z",
     "iopub.status.busy": "2023-02-07T23:46:40.849888Z",
     "iopub.status.idle": "2023-02-07T23:46:46.582487Z",
     "shell.execute_reply": "2023-02-07T23:46:46.581402Z"
    },
    "papermill": {
     "duration": null,
     "end_time": null,
     "exception": null,
     "start_time": null,
     "status": "pending"
    },
    "tags": []
   },
   "outputs": [
    {
     "data": {
      "text/html": [
       "<style>#sk-container-id-6 {color: black;background-color: white;}#sk-container-id-6 pre{padding: 0;}#sk-container-id-6 div.sk-toggleable {background-color: white;}#sk-container-id-6 label.sk-toggleable__label {cursor: pointer;display: block;width: 100%;margin-bottom: 0;padding: 0.3em;box-sizing: border-box;text-align: center;}#sk-container-id-6 label.sk-toggleable__label-arrow:before {content: \"▸\";float: left;margin-right: 0.25em;color: #696969;}#sk-container-id-6 label.sk-toggleable__label-arrow:hover:before {color: black;}#sk-container-id-6 div.sk-estimator:hover label.sk-toggleable__label-arrow:before {color: black;}#sk-container-id-6 div.sk-toggleable__content {max-height: 0;max-width: 0;overflow: hidden;text-align: left;background-color: #f0f8ff;}#sk-container-id-6 div.sk-toggleable__content pre {margin: 0.2em;color: black;border-radius: 0.25em;background-color: #f0f8ff;}#sk-container-id-6 input.sk-toggleable__control:checked~div.sk-toggleable__content {max-height: 200px;max-width: 100%;overflow: auto;}#sk-container-id-6 input.sk-toggleable__control:checked~label.sk-toggleable__label-arrow:before {content: \"▾\";}#sk-container-id-6 div.sk-estimator input.sk-toggleable__control:checked~label.sk-toggleable__label {background-color: #d4ebff;}#sk-container-id-6 div.sk-label input.sk-toggleable__control:checked~label.sk-toggleable__label {background-color: #d4ebff;}#sk-container-id-6 input.sk-hidden--visually {border: 0;clip: rect(1px 1px 1px 1px);clip: rect(1px, 1px, 1px, 1px);height: 1px;margin: -1px;overflow: hidden;padding: 0;position: absolute;width: 1px;}#sk-container-id-6 div.sk-estimator {font-family: monospace;background-color: #f0f8ff;border: 1px dotted black;border-radius: 0.25em;box-sizing: border-box;margin-bottom: 0.5em;}#sk-container-id-6 div.sk-estimator:hover {background-color: #d4ebff;}#sk-container-id-6 div.sk-parallel-item::after {content: \"\";width: 100%;border-bottom: 1px solid gray;flex-grow: 1;}#sk-container-id-6 div.sk-label:hover label.sk-toggleable__label {background-color: #d4ebff;}#sk-container-id-6 div.sk-serial::before {content: \"\";position: absolute;border-left: 1px solid gray;box-sizing: border-box;top: 0;bottom: 0;left: 50%;z-index: 0;}#sk-container-id-6 div.sk-serial {display: flex;flex-direction: column;align-items: center;background-color: white;padding-right: 0.2em;padding-left: 0.2em;position: relative;}#sk-container-id-6 div.sk-item {position: relative;z-index: 1;}#sk-container-id-6 div.sk-parallel {display: flex;align-items: stretch;justify-content: center;background-color: white;position: relative;}#sk-container-id-6 div.sk-item::before, #sk-container-id-6 div.sk-parallel-item::before {content: \"\";position: absolute;border-left: 1px solid gray;box-sizing: border-box;top: 0;bottom: 0;left: 50%;z-index: -1;}#sk-container-id-6 div.sk-parallel-item {display: flex;flex-direction: column;z-index: 1;position: relative;background-color: white;}#sk-container-id-6 div.sk-parallel-item:first-child::after {align-self: flex-end;width: 50%;}#sk-container-id-6 div.sk-parallel-item:last-child::after {align-self: flex-start;width: 50%;}#sk-container-id-6 div.sk-parallel-item:only-child::after {width: 0;}#sk-container-id-6 div.sk-dashed-wrapped {border: 1px dashed gray;margin: 0 0.4em 0.5em 0.4em;box-sizing: border-box;padding-bottom: 0.4em;background-color: white;}#sk-container-id-6 div.sk-label label {font-family: monospace;font-weight: bold;display: inline-block;line-height: 1.2em;}#sk-container-id-6 div.sk-label-container {text-align: center;}#sk-container-id-6 div.sk-container {/* jupyter's `normalize.less` sets `[hidden] { display: none; }` but bootstrap.min.css set `[hidden] { display: none !important; }` so we also need the `!important` here to be able to override the default hidden behavior on the sphinx rendered scikit-learn.org. See: https://github.com/scikit-learn/scikit-learn/issues/21755 */display: inline-block !important;position: relative;}#sk-container-id-6 div.sk-text-repr-fallback {display: none;}</style><div id=\"sk-container-id-6\" class=\"sk-top-container\"><div class=\"sk-text-repr-fallback\"><pre>RandomForestClassifier(random_state=42)</pre><b>In a Jupyter environment, please rerun this cell to show the HTML representation or trust the notebook. <br />On GitHub, the HTML representation is unable to render, please try loading this page with nbviewer.org.</b></div><div class=\"sk-container\" hidden><div class=\"sk-item\"><div class=\"sk-estimator sk-toggleable\"><input class=\"sk-toggleable__control sk-hidden--visually\" id=\"sk-estimator-id-6\" type=\"checkbox\" checked><label for=\"sk-estimator-id-6\" class=\"sk-toggleable__label sk-toggleable__label-arrow\">RandomForestClassifier</label><div class=\"sk-toggleable__content\"><pre>RandomForestClassifier(random_state=42)</pre></div></div></div></div></div>"
      ],
      "text/plain": [
       "RandomForestClassifier(random_state=42)"
      ]
     },
     "execution_count": 49,
     "metadata": {},
     "output_type": "execute_result"
    }
   ],
   "source": [
    "clf = RandomForestClassifier(random_state=42)\n",
    "clf.fit(X_train, y_train)"
   ]
  },
  {
   "cell_type": "code",
   "execution_count": 50,
   "id": "581ab90a",
   "metadata": {
    "execution": {
     "iopub.execute_input": "2023-02-07T23:47:03.286761Z",
     "iopub.status.busy": "2023-02-07T23:47:03.286201Z",
     "iopub.status.idle": "2023-02-07T23:47:03.474751Z",
     "shell.execute_reply": "2023-02-07T23:47:03.473983Z"
    },
    "papermill": {
     "duration": null,
     "end_time": null,
     "exception": null,
     "start_time": null,
     "status": "pending"
    },
    "tags": []
   },
   "outputs": [
    {
     "name": "stdout",
     "output_type": "stream",
     "text": [
      "              precision    recall  f1-score   support\n",
      "\n",
      "         pop       0.51      0.52      0.52      2400\n",
      "         rap       0.73      0.77      0.75      2376\n",
      "        rock       0.57      0.54      0.55      2424\n",
      "\n",
      "    accuracy                           0.61      7200\n",
      "   macro avg       0.60      0.61      0.61      7200\n",
      "weighted avg       0.60      0.61      0.61      7200\n",
      "\n"
     ]
    }
   ],
   "source": [
    "y_pred = clf.predict(X_test)\n",
    "print(classification_report(y_test, y_pred))"
   ]
  },
  {
   "cell_type": "code",
   "execution_count": 51,
   "id": "faf1d7f4",
   "metadata": {
    "papermill": {
     "duration": null,
     "end_time": null,
     "exception": null,
     "start_time": null,
     "status": "pending"
    },
    "tags": []
   },
   "outputs": [],
   "source": [
    "acc = accuracy_score(y_test, y_pred)\n",
    "pre = precision_score(y_test, y_pred, average=avg_par)\n",
    "rec = recall_score(y_test, y_pred, average=avg_par)\n",
    "f1 = f1_score(y_test, y_pred, average=avg_par)\n",
    "\n",
    "metrics_data['Shapelets']['RandomForest'] = {'Accuracy': acc, 'Precision': pre, 'Recall': rec, 'F1': f1}"
   ]
  },
  {
   "cell_type": "markdown",
   "id": "61fceefb",
   "metadata": {
    "papermill": {
     "duration": null,
     "end_time": null,
     "exception": null,
     "start_time": null,
     "status": "pending"
    },
    "tags": []
   },
   "source": [
    "**LightGBM**"
   ]
  },
  {
   "cell_type": "code",
   "execution_count": 52,
   "id": "194189da",
   "metadata": {
    "papermill": {
     "duration": null,
     "end_time": null,
     "exception": null,
     "start_time": null,
     "status": "pending"
    },
    "tags": []
   },
   "outputs": [
    {
     "data": {
      "text/html": [
       "<style>#sk-container-id-7 {color: black;background-color: white;}#sk-container-id-7 pre{padding: 0;}#sk-container-id-7 div.sk-toggleable {background-color: white;}#sk-container-id-7 label.sk-toggleable__label {cursor: pointer;display: block;width: 100%;margin-bottom: 0;padding: 0.3em;box-sizing: border-box;text-align: center;}#sk-container-id-7 label.sk-toggleable__label-arrow:before {content: \"▸\";float: left;margin-right: 0.25em;color: #696969;}#sk-container-id-7 label.sk-toggleable__label-arrow:hover:before {color: black;}#sk-container-id-7 div.sk-estimator:hover label.sk-toggleable__label-arrow:before {color: black;}#sk-container-id-7 div.sk-toggleable__content {max-height: 0;max-width: 0;overflow: hidden;text-align: left;background-color: #f0f8ff;}#sk-container-id-7 div.sk-toggleable__content pre {margin: 0.2em;color: black;border-radius: 0.25em;background-color: #f0f8ff;}#sk-container-id-7 input.sk-toggleable__control:checked~div.sk-toggleable__content {max-height: 200px;max-width: 100%;overflow: auto;}#sk-container-id-7 input.sk-toggleable__control:checked~label.sk-toggleable__label-arrow:before {content: \"▾\";}#sk-container-id-7 div.sk-estimator input.sk-toggleable__control:checked~label.sk-toggleable__label {background-color: #d4ebff;}#sk-container-id-7 div.sk-label input.sk-toggleable__control:checked~label.sk-toggleable__label {background-color: #d4ebff;}#sk-container-id-7 input.sk-hidden--visually {border: 0;clip: rect(1px 1px 1px 1px);clip: rect(1px, 1px, 1px, 1px);height: 1px;margin: -1px;overflow: hidden;padding: 0;position: absolute;width: 1px;}#sk-container-id-7 div.sk-estimator {font-family: monospace;background-color: #f0f8ff;border: 1px dotted black;border-radius: 0.25em;box-sizing: border-box;margin-bottom: 0.5em;}#sk-container-id-7 div.sk-estimator:hover {background-color: #d4ebff;}#sk-container-id-7 div.sk-parallel-item::after {content: \"\";width: 100%;border-bottom: 1px solid gray;flex-grow: 1;}#sk-container-id-7 div.sk-label:hover label.sk-toggleable__label {background-color: #d4ebff;}#sk-container-id-7 div.sk-serial::before {content: \"\";position: absolute;border-left: 1px solid gray;box-sizing: border-box;top: 0;bottom: 0;left: 50%;z-index: 0;}#sk-container-id-7 div.sk-serial {display: flex;flex-direction: column;align-items: center;background-color: white;padding-right: 0.2em;padding-left: 0.2em;position: relative;}#sk-container-id-7 div.sk-item {position: relative;z-index: 1;}#sk-container-id-7 div.sk-parallel {display: flex;align-items: stretch;justify-content: center;background-color: white;position: relative;}#sk-container-id-7 div.sk-item::before, #sk-container-id-7 div.sk-parallel-item::before {content: \"\";position: absolute;border-left: 1px solid gray;box-sizing: border-box;top: 0;bottom: 0;left: 50%;z-index: -1;}#sk-container-id-7 div.sk-parallel-item {display: flex;flex-direction: column;z-index: 1;position: relative;background-color: white;}#sk-container-id-7 div.sk-parallel-item:first-child::after {align-self: flex-end;width: 50%;}#sk-container-id-7 div.sk-parallel-item:last-child::after {align-self: flex-start;width: 50%;}#sk-container-id-7 div.sk-parallel-item:only-child::after {width: 0;}#sk-container-id-7 div.sk-dashed-wrapped {border: 1px dashed gray;margin: 0 0.4em 0.5em 0.4em;box-sizing: border-box;padding-bottom: 0.4em;background-color: white;}#sk-container-id-7 div.sk-label label {font-family: monospace;font-weight: bold;display: inline-block;line-height: 1.2em;}#sk-container-id-7 div.sk-label-container {text-align: center;}#sk-container-id-7 div.sk-container {/* jupyter's `normalize.less` sets `[hidden] { display: none; }` but bootstrap.min.css set `[hidden] { display: none !important; }` so we also need the `!important` here to be able to override the default hidden behavior on the sphinx rendered scikit-learn.org. See: https://github.com/scikit-learn/scikit-learn/issues/21755 */display: inline-block !important;position: relative;}#sk-container-id-7 div.sk-text-repr-fallback {display: none;}</style><div id=\"sk-container-id-7\" class=\"sk-top-container\"><div class=\"sk-text-repr-fallback\"><pre>LGBMClassifier(objective=&#x27;multiclass&#x27;)</pre><b>In a Jupyter environment, please rerun this cell to show the HTML representation or trust the notebook. <br />On GitHub, the HTML representation is unable to render, please try loading this page with nbviewer.org.</b></div><div class=\"sk-container\" hidden><div class=\"sk-item\"><div class=\"sk-estimator sk-toggleable\"><input class=\"sk-toggleable__control sk-hidden--visually\" id=\"sk-estimator-id-7\" type=\"checkbox\" checked><label for=\"sk-estimator-id-7\" class=\"sk-toggleable__label sk-toggleable__label-arrow\">LGBMClassifier</label><div class=\"sk-toggleable__content\"><pre>LGBMClassifier(objective=&#x27;multiclass&#x27;)</pre></div></div></div></div></div>"
      ],
      "text/plain": [
       "LGBMClassifier(objective='multiclass')"
      ]
     },
     "execution_count": 52,
     "metadata": {},
     "output_type": "execute_result"
    }
   ],
   "source": [
    "clf = lgbm.LGBMClassifier(objective=obj_par) \n",
    "clf.fit(X_train, y_train)"
   ]
  },
  {
   "cell_type": "code",
   "execution_count": 53,
   "id": "355a078b",
   "metadata": {
    "papermill": {
     "duration": null,
     "end_time": null,
     "exception": null,
     "start_time": null,
     "status": "pending"
    },
    "tags": []
   },
   "outputs": [
    {
     "name": "stdout",
     "output_type": "stream",
     "text": [
      "              precision    recall  f1-score   support\n",
      "\n",
      "         pop       0.52      0.51      0.51      2400\n",
      "         rap       0.73      0.77      0.75      2376\n",
      "        rock       0.57      0.55      0.56      2424\n",
      "\n",
      "    accuracy                           0.61      7200\n",
      "   macro avg       0.61      0.61      0.61      7200\n",
      "weighted avg       0.60      0.61      0.61      7200\n",
      "\n"
     ]
    }
   ],
   "source": [
    "y_pred = clf.predict(X_test)\n",
    "print(classification_report(y_test, y_pred))"
   ]
  },
  {
   "cell_type": "code",
   "execution_count": 54,
   "id": "f22b911e",
   "metadata": {
    "papermill": {
     "duration": null,
     "end_time": null,
     "exception": null,
     "start_time": null,
     "status": "pending"
    },
    "tags": []
   },
   "outputs": [],
   "source": [
    "acc = accuracy_score(y_test, y_pred)\n",
    "pre = precision_score(y_test, y_pred, average=avg_par)\n",
    "rec = recall_score(y_test, y_pred, average=avg_par)\n",
    "f1 = f1_score(y_test, y_pred, average=avg_par)\n",
    "\n",
    "metrics_data['Shapelets']['LightGBM'] = {'Accuracy': acc, 'Precision': pre, 'Recall': rec, 'F1': f1}"
   ]
  },
  {
   "cell_type": "markdown",
   "id": "0809af9f",
   "metadata": {
    "papermill": {
     "duration": null,
     "end_time": null,
     "exception": null,
     "start_time": null,
     "status": "pending"
    },
    "tags": []
   },
   "source": [
    "#### KNN"
   ]
  },
  {
   "cell_type": "code",
   "execution_count": 21,
   "id": "1c9237e0",
   "metadata": {
    "papermill": {
     "duration": null,
     "end_time": null,
     "exception": null,
     "start_time": null,
     "status": "pending"
    },
    "tags": []
   },
   "outputs": [],
   "source": [
    "X_train = ts_train.reshape((ts_train.shape[0], ts_train.shape[1]))\n",
    "X_test = ts_test.reshape((ts_test.shape[0], ts_test.shape[1]))"
   ]
  },
  {
   "cell_type": "code",
   "execution_count": 22,
   "id": "192f3c3f",
   "metadata": {
    "papermill": {
     "duration": null,
     "end_time": null,
     "exception": null,
     "start_time": null,
     "status": "pending"
    },
    "tags": []
   },
   "outputs": [
    {
     "data": {
      "text/plain": [
       "(28800, 100)"
      ]
     },
     "execution_count": 22,
     "metadata": {},
     "output_type": "execute_result"
    }
   ],
   "source": [
    "X_train.shape"
   ]
  },
  {
   "cell_type": "code",
   "execution_count": 23,
   "id": "de0e5000",
   "metadata": {
    "execution": {
     "iopub.execute_input": "2023-02-26T22:06:56.849471Z",
     "iopub.status.busy": "2023-02-26T22:06:56.848722Z",
     "iopub.status.idle": "2023-02-26T22:06:56.853892Z",
     "shell.execute_reply": "2023-02-26T22:06:56.853020Z"
    },
    "papermill": {
     "duration": null,
     "end_time": null,
     "exception": null,
     "start_time": null,
     "status": "pending"
    },
    "tags": []
   },
   "outputs": [
    {
     "ename": "NameError",
     "evalue": "name 'metrics_data' is not defined",
     "output_type": "error",
     "traceback": [
      "\u001b[0;31m---------------------------------------------------------------------------\u001b[0m",
      "\u001b[0;31mNameError\u001b[0m                                 Traceback (most recent call last)",
      "Cell \u001b[0;32mIn[23], line 1\u001b[0m\n\u001b[0;32m----> 1\u001b[0m \u001b[43mmetrics_data\u001b[49m[\u001b[38;5;124m'\u001b[39m\u001b[38;5;124mKNN\u001b[39m\u001b[38;5;124m'\u001b[39m] \u001b[38;5;241m=\u001b[39m {}\n",
      "\u001b[0;31mNameError\u001b[0m: name 'metrics_data' is not defined"
     ]
    }
   ],
   "source": [
    "metrics_data['KNN'] = {}"
   ]
  },
  {
   "cell_type": "markdown",
   "id": "8ee39c05",
   "metadata": {
    "papermill": {
     "duration": null,
     "end_time": null,
     "exception": null,
     "start_time": null,
     "status": "pending"
    },
    "tags": []
   },
   "source": [
    "**Euclidean Distance**"
   ]
  },
  {
   "cell_type": "code",
   "execution_count": 24,
   "id": "55db1f58",
   "metadata": {
    "execution": {
     "iopub.execute_input": "2023-02-26T22:06:56.917742Z",
     "iopub.status.busy": "2023-02-26T22:06:56.917160Z",
     "iopub.status.idle": "2023-02-26T22:06:56.922254Z",
     "shell.execute_reply": "2023-02-26T22:06:56.921097Z"
    },
    "papermill": {
     "duration": null,
     "end_time": null,
     "exception": null,
     "start_time": null,
     "status": "pending"
    },
    "tags": []
   },
   "outputs": [],
   "source": [
    "from sklearn.neighbors import KNeighborsClassifier"
   ]
  },
  {
   "cell_type": "code",
   "execution_count": 25,
   "id": "132c2537",
   "metadata": {
    "execution": {
     "iopub.execute_input": "2023-02-26T22:06:56.955456Z",
     "iopub.status.busy": "2023-02-26T22:06:56.954881Z",
     "iopub.status.idle": "2023-02-26T22:06:57.012931Z",
     "shell.execute_reply": "2023-02-26T22:06:57.011965Z"
    },
    "papermill": {
     "duration": null,
     "end_time": null,
     "exception": null,
     "start_time": null,
     "status": "pending"
    },
    "tags": []
   },
   "outputs": [
    {
     "data": {
      "text/html": [
       "<style>#sk-container-id-1 {color: black;background-color: white;}#sk-container-id-1 pre{padding: 0;}#sk-container-id-1 div.sk-toggleable {background-color: white;}#sk-container-id-1 label.sk-toggleable__label {cursor: pointer;display: block;width: 100%;margin-bottom: 0;padding: 0.3em;box-sizing: border-box;text-align: center;}#sk-container-id-1 label.sk-toggleable__label-arrow:before {content: \"▸\";float: left;margin-right: 0.25em;color: #696969;}#sk-container-id-1 label.sk-toggleable__label-arrow:hover:before {color: black;}#sk-container-id-1 div.sk-estimator:hover label.sk-toggleable__label-arrow:before {color: black;}#sk-container-id-1 div.sk-toggleable__content {max-height: 0;max-width: 0;overflow: hidden;text-align: left;background-color: #f0f8ff;}#sk-container-id-1 div.sk-toggleable__content pre {margin: 0.2em;color: black;border-radius: 0.25em;background-color: #f0f8ff;}#sk-container-id-1 input.sk-toggleable__control:checked~div.sk-toggleable__content {max-height: 200px;max-width: 100%;overflow: auto;}#sk-container-id-1 input.sk-toggleable__control:checked~label.sk-toggleable__label-arrow:before {content: \"▾\";}#sk-container-id-1 div.sk-estimator input.sk-toggleable__control:checked~label.sk-toggleable__label {background-color: #d4ebff;}#sk-container-id-1 div.sk-label input.sk-toggleable__control:checked~label.sk-toggleable__label {background-color: #d4ebff;}#sk-container-id-1 input.sk-hidden--visually {border: 0;clip: rect(1px 1px 1px 1px);clip: rect(1px, 1px, 1px, 1px);height: 1px;margin: -1px;overflow: hidden;padding: 0;position: absolute;width: 1px;}#sk-container-id-1 div.sk-estimator {font-family: monospace;background-color: #f0f8ff;border: 1px dotted black;border-radius: 0.25em;box-sizing: border-box;margin-bottom: 0.5em;}#sk-container-id-1 div.sk-estimator:hover {background-color: #d4ebff;}#sk-container-id-1 div.sk-parallel-item::after {content: \"\";width: 100%;border-bottom: 1px solid gray;flex-grow: 1;}#sk-container-id-1 div.sk-label:hover label.sk-toggleable__label {background-color: #d4ebff;}#sk-container-id-1 div.sk-serial::before {content: \"\";position: absolute;border-left: 1px solid gray;box-sizing: border-box;top: 0;bottom: 0;left: 50%;z-index: 0;}#sk-container-id-1 div.sk-serial {display: flex;flex-direction: column;align-items: center;background-color: white;padding-right: 0.2em;padding-left: 0.2em;position: relative;}#sk-container-id-1 div.sk-item {position: relative;z-index: 1;}#sk-container-id-1 div.sk-parallel {display: flex;align-items: stretch;justify-content: center;background-color: white;position: relative;}#sk-container-id-1 div.sk-item::before, #sk-container-id-1 div.sk-parallel-item::before {content: \"\";position: absolute;border-left: 1px solid gray;box-sizing: border-box;top: 0;bottom: 0;left: 50%;z-index: -1;}#sk-container-id-1 div.sk-parallel-item {display: flex;flex-direction: column;z-index: 1;position: relative;background-color: white;}#sk-container-id-1 div.sk-parallel-item:first-child::after {align-self: flex-end;width: 50%;}#sk-container-id-1 div.sk-parallel-item:last-child::after {align-self: flex-start;width: 50%;}#sk-container-id-1 div.sk-parallel-item:only-child::after {width: 0;}#sk-container-id-1 div.sk-dashed-wrapped {border: 1px dashed gray;margin: 0 0.4em 0.5em 0.4em;box-sizing: border-box;padding-bottom: 0.4em;background-color: white;}#sk-container-id-1 div.sk-label label {font-family: monospace;font-weight: bold;display: inline-block;line-height: 1.2em;}#sk-container-id-1 div.sk-label-container {text-align: center;}#sk-container-id-1 div.sk-container {/* jupyter's `normalize.less` sets `[hidden] { display: none; }` but bootstrap.min.css set `[hidden] { display: none !important; }` so we also need the `!important` here to be able to override the default hidden behavior on the sphinx rendered scikit-learn.org. See: https://github.com/scikit-learn/scikit-learn/issues/21755 */display: inline-block !important;position: relative;}#sk-container-id-1 div.sk-text-repr-fallback {display: none;}</style><div id=\"sk-container-id-1\" class=\"sk-top-container\"><div class=\"sk-text-repr-fallback\"><pre>KNeighborsClassifier()</pre><b>In a Jupyter environment, please rerun this cell to show the HTML representation or trust the notebook. <br />On GitHub, the HTML representation is unable to render, please try loading this page with nbviewer.org.</b></div><div class=\"sk-container\" hidden><div class=\"sk-item\"><div class=\"sk-estimator sk-toggleable\"><input class=\"sk-toggleable__control sk-hidden--visually\" id=\"sk-estimator-id-1\" type=\"checkbox\" checked><label for=\"sk-estimator-id-1\" class=\"sk-toggleable__label sk-toggleable__label-arrow\">KNeighborsClassifier</label><div class=\"sk-toggleable__content\"><pre>KNeighborsClassifier()</pre></div></div></div></div></div>"
      ],
      "text/plain": [
       "KNeighborsClassifier()"
      ]
     },
     "execution_count": 25,
     "metadata": {},
     "output_type": "execute_result"
    }
   ],
   "source": [
    "clf = KNeighborsClassifier(n_neighbors=5, weights='uniform')\n",
    "clf.fit(X_train, y_train)"
   ]
  },
  {
   "cell_type": "code",
   "execution_count": 26,
   "id": "0afad62a",
   "metadata": {
    "execution": {
     "iopub.execute_input": "2023-02-26T22:06:57.051955Z",
     "iopub.status.busy": "2023-02-26T22:06:57.050809Z",
     "iopub.status.idle": "2023-02-26T22:06:59.469195Z",
     "shell.execute_reply": "2023-02-26T22:06:59.468202Z"
    },
    "papermill": {
     "duration": null,
     "end_time": null,
     "exception": null,
     "start_time": null,
     "status": "pending"
    },
    "tags": []
   },
   "outputs": [
    {
     "name": "stdout",
     "output_type": "stream",
     "text": [
      "              precision    recall  f1-score   support\n",
      "\n",
      "         pop       0.36      0.38      0.37      2400\n",
      "         rap       0.60      0.03      0.06      2376\n",
      "        rock       0.36      0.67      0.47      2424\n",
      "\n",
      "    accuracy                           0.36      7200\n",
      "   macro avg       0.44      0.36      0.30      7200\n",
      "weighted avg       0.44      0.36      0.30      7200\n",
      "\n"
     ]
    }
   ],
   "source": [
    "y_pred = clf.predict(X_test)\n",
    "print(classification_report(y_test, y_pred))"
   ]
  },
  {
   "cell_type": "code",
   "execution_count": 43,
   "id": "2d709070",
   "metadata": {
    "execution": {
     "iopub.execute_input": "2023-02-26T22:06:59.561501Z",
     "iopub.status.busy": "2023-02-26T22:06:59.561175Z",
     "iopub.status.idle": "2023-02-26T22:06:59.691477Z",
     "shell.execute_reply": "2023-02-26T22:06:59.690842Z"
    },
    "papermill": {
     "duration": null,
     "end_time": null,
     "exception": null,
     "start_time": null,
     "status": "pending"
    },
    "tags": []
   },
   "outputs": [],
   "source": [
    "acc = accuracy_score(y_test, y_pred)\n",
    "pre = precision_score(y_test, y_pred, average=avg_par)\n",
    "rec = recall_score(y_test, y_pred, average=avg_par)\n",
    "f1 = f1_score(y_test, y_pred, average=avg_par)\n",
    "\n",
    "metrics_data['KNN']['Euclidean'] = {'Accuracy': acc, 'Precision': pre, 'Recall': rec, 'F1': f1}"
   ]
  },
  {
   "cell_type": "markdown",
   "id": "c5ec2a09",
   "metadata": {
    "papermill": {
     "duration": null,
     "end_time": null,
     "exception": null,
     "start_time": null,
     "status": "pending"
    },
    "tags": []
   },
   "source": [
    "**Dynamic Time Warping**"
   ]
  },
  {
   "cell_type": "code",
   "execution_count": 29,
   "id": "2df913d8",
   "metadata": {
    "execution": {
     "iopub.execute_input": "2023-02-26T22:06:59.752341Z",
     "iopub.status.busy": "2023-02-26T22:06:59.751870Z",
     "iopub.status.idle": "2023-02-26T22:07:00.196268Z",
     "shell.execute_reply": "2023-02-26T22:07:00.195525Z"
    },
    "papermill": {
     "duration": null,
     "end_time": null,
     "exception": null,
     "start_time": null,
     "status": "pending"
    },
    "tags": []
   },
   "outputs": [],
   "source": [
    "from pyts.classification import KNeighborsClassifier\n",
    "from pyts.approximation import PiecewiseAggregateApproximation\n",
    "from imblearn.under_sampling import ClusterCentroids\n",
    "from sklearn_extra.cluster import KMedoids"
   ]
  },
  {
   "cell_type": "code",
   "execution_count": 27,
   "id": "db1604ec",
   "metadata": {
    "papermill": {
     "duration": null,
     "end_time": null,
     "exception": null,
     "start_time": null,
     "status": "pending"
    },
    "tags": []
   },
   "outputs": [],
   "source": [
    "if paa_window_size:\n",
    "    paa = PiecewiseAggregateApproximation(window_size=paa_window_size)\n",
    "    X_train = paa.transform(X_train)\n",
    "    X_test = paa.transform(X_test)\n",
    "    X_train.shape"
   ]
  },
  {
   "cell_type": "code",
   "execution_count": 30,
   "id": "59fa27aa",
   "metadata": {
    "papermill": {
     "duration": null,
     "end_time": null,
     "exception": null,
     "start_time": null,
     "status": "pending"
    },
    "tags": []
   },
   "outputs": [
    {
     "name": "stdout",
     "output_type": "stream",
     "text": [
      "{'pop': 960, 'rap': 962, 'rock': 957}\n"
     ]
    },
    {
     "name": "stderr",
     "output_type": "stream",
     "text": [
      "/home/mattiapggioli/lyrics2ts/.venv/lib/python3.9/site-packages/sklearn_extra/cluster/_k_medoids.py:275: UserWarning: Cluster 112 is empty! self.labels_[self.medoid_indices_[112]] may not be labeled with its corresponding cluster (112).\n",
      "  warnings.warn(\n",
      "/home/mattiapggioli/lyrics2ts/.venv/lib/python3.9/site-packages/sklearn_extra/cluster/_k_medoids.py:275: UserWarning: Cluster 138 is empty! self.labels_[self.medoid_indices_[138]] may not be labeled with its corresponding cluster (138).\n",
      "  warnings.warn(\n",
      "/home/mattiapggioli/lyrics2ts/.venv/lib/python3.9/site-packages/sklearn_extra/cluster/_k_medoids.py:275: UserWarning: Cluster 144 is empty! self.labels_[self.medoid_indices_[144]] may not be labeled with its corresponding cluster (144).\n",
      "  warnings.warn(\n",
      "/home/mattiapggioli/lyrics2ts/.venv/lib/python3.9/site-packages/sklearn_extra/cluster/_k_medoids.py:275: UserWarning: Cluster 215 is empty! self.labels_[self.medoid_indices_[215]] may not be labeled with its corresponding cluster (215).\n",
      "  warnings.warn(\n",
      "/home/mattiapggioli/lyrics2ts/.venv/lib/python3.9/site-packages/sklearn_extra/cluster/_k_medoids.py:275: UserWarning: Cluster 232 is empty! self.labels_[self.medoid_indices_[232]] may not be labeled with its corresponding cluster (232).\n",
      "  warnings.warn(\n",
      "/home/mattiapggioli/lyrics2ts/.venv/lib/python3.9/site-packages/sklearn_extra/cluster/_k_medoids.py:275: UserWarning: Cluster 233 is empty! self.labels_[self.medoid_indices_[233]] may not be labeled with its corresponding cluster (233).\n",
      "  warnings.warn(\n",
      "/home/mattiapggioli/lyrics2ts/.venv/lib/python3.9/site-packages/sklearn_extra/cluster/_k_medoids.py:275: UserWarning: Cluster 295 is empty! self.labels_[self.medoid_indices_[295]] may not be labeled with its corresponding cluster (295).\n",
      "  warnings.warn(\n",
      "/home/mattiapggioli/lyrics2ts/.venv/lib/python3.9/site-packages/sklearn_extra/cluster/_k_medoids.py:275: UserWarning: Cluster 177 is empty! self.labels_[self.medoid_indices_[177]] may not be labeled with its corresponding cluster (177).\n",
      "  warnings.warn(\n",
      "/home/mattiapggioli/lyrics2ts/.venv/lib/python3.9/site-packages/sklearn_extra/cluster/_k_medoids.py:275: UserWarning: Cluster 182 is empty! self.labels_[self.medoid_indices_[182]] may not be labeled with its corresponding cluster (182).\n",
      "  warnings.warn(\n",
      "/home/mattiapggioli/lyrics2ts/.venv/lib/python3.9/site-packages/sklearn_extra/cluster/_k_medoids.py:275: UserWarning: Cluster 730 is empty! self.labels_[self.medoid_indices_[730]] may not be labeled with its corresponding cluster (730).\n",
      "  warnings.warn(\n",
      "/home/mattiapggioli/lyrics2ts/.venv/lib/python3.9/site-packages/sklearn_extra/cluster/_k_medoids.py:275: UserWarning: Cluster 206 is empty! self.labels_[self.medoid_indices_[206]] may not be labeled with its corresponding cluster (206).\n",
      "  warnings.warn(\n",
      "/home/mattiapggioli/lyrics2ts/.venv/lib/python3.9/site-packages/sklearn_extra/cluster/_k_medoids.py:275: UserWarning: Cluster 233 is empty! self.labels_[self.medoid_indices_[233]] may not be labeled with its corresponding cluster (233).\n",
      "  warnings.warn(\n",
      "/home/mattiapggioli/lyrics2ts/.venv/lib/python3.9/site-packages/sklearn_extra/cluster/_k_medoids.py:275: UserWarning: Cluster 244 is empty! self.labels_[self.medoid_indices_[244]] may not be labeled with its corresponding cluster (244).\n",
      "  warnings.warn(\n",
      "/home/mattiapggioli/lyrics2ts/.venv/lib/python3.9/site-packages/sklearn_extra/cluster/_k_medoids.py:275: UserWarning: Cluster 291 is empty! self.labels_[self.medoid_indices_[291]] may not be labeled with its corresponding cluster (291).\n",
      "  warnings.warn(\n",
      "/home/mattiapggioli/lyrics2ts/.venv/lib/python3.9/site-packages/sklearn_extra/cluster/_k_medoids.py:275: UserWarning: Cluster 338 is empty! self.labels_[self.medoid_indices_[338]] may not be labeled with its corresponding cluster (338).\n",
      "  warnings.warn(\n",
      "/home/mattiapggioli/lyrics2ts/.venv/lib/python3.9/site-packages/sklearn_extra/cluster/_k_medoids.py:275: UserWarning: Cluster 394 is empty! self.labels_[self.medoid_indices_[394]] may not be labeled with its corresponding cluster (394).\n",
      "  warnings.warn(\n",
      "/home/mattiapggioli/lyrics2ts/.venv/lib/python3.9/site-packages/sklearn_extra/cluster/_k_medoids.py:275: UserWarning: Cluster 632 is empty! self.labels_[self.medoid_indices_[632]] may not be labeled with its corresponding cluster (632).\n",
      "  warnings.warn(\n",
      "/home/mattiapggioli/lyrics2ts/.venv/lib/python3.9/site-packages/sklearn_extra/cluster/_k_medoids.py:275: UserWarning: Cluster 637 is empty! self.labels_[self.medoid_indices_[637]] may not be labeled with its corresponding cluster (637).\n",
      "  warnings.warn(\n",
      "/home/mattiapggioli/lyrics2ts/.venv/lib/python3.9/site-packages/sklearn_extra/cluster/_k_medoids.py:275: UserWarning: Cluster 653 is empty! self.labels_[self.medoid_indices_[653]] may not be labeled with its corresponding cluster (653).\n",
      "  warnings.warn(\n",
      "/home/mattiapggioli/lyrics2ts/.venv/lib/python3.9/site-packages/sklearn_extra/cluster/_k_medoids.py:275: UserWarning: Cluster 655 is empty! self.labels_[self.medoid_indices_[655]] may not be labeled with its corresponding cluster (655).\n",
      "  warnings.warn(\n"
     ]
    }
   ],
   "source": [
    "if undersampling:\n",
    "    total_samples = len(y_train)\n",
    "    unique_classes, class_counts = np.unique(y_train, return_counts=True)\n",
    "    samp_strat = dict(zip(unique_classes, np.floor(class_counts * undersampling).astype(int)))\n",
    "    print(samp_strat)\n",
    "    cc = ClusterCentroids(estimator=KMedoids(\n",
    "        random_state=42), sampling_strategy=samp_strat, random_state=42)\n",
    "    X_train, y_train = cc.fit_resample(X_train, y_train)\n",
    "    X_train.shape"
   ]
  },
  {
   "cell_type": "code",
   "execution_count": null,
   "id": "e7ac6b44",
   "metadata": {
    "execution": {
     "iopub.execute_input": "2023-02-26T22:07:01.109984Z",
     "iopub.status.busy": "2023-02-26T22:07:01.108508Z",
     "iopub.status.idle": "2023-02-27T07:17:58.644386Z",
     "shell.execute_reply": "2023-02-27T07:17:58.642041Z"
    },
    "papermill": {
     "duration": null,
     "end_time": null,
     "exception": null,
     "start_time": null,
     "status": "pending"
    },
    "tags": []
   },
   "outputs": [],
   "source": [
    "clf = KNeighborsClassifier(metric='dtw_sakoechiba',  metric_params={'window_size':3})\n",
    "\n",
    "clf.fit(X_train, y_train)"
   ]
  },
  {
   "cell_type": "code",
   "execution_count": 70,
   "id": "8109d19d",
   "metadata": {
    "execution": {
     "iopub.execute_input": "2023-02-26T22:07:00.991967Z",
     "iopub.status.busy": "2023-02-26T22:07:00.990921Z",
     "iopub.status.idle": "2023-02-26T22:07:01.052095Z",
     "shell.execute_reply": "2023-02-26T22:07:01.050909Z"
    },
    "papermill": {
     "duration": null,
     "end_time": null,
     "exception": null,
     "start_time": null,
     "status": "pending"
    },
    "tags": []
   },
   "outputs": [
    {
     "data": {
      "text/html": [
       "<style>#sk-container-id-9 {color: black;background-color: white;}#sk-container-id-9 pre{padding: 0;}#sk-container-id-9 div.sk-toggleable {background-color: white;}#sk-container-id-9 label.sk-toggleable__label {cursor: pointer;display: block;width: 100%;margin-bottom: 0;padding: 0.3em;box-sizing: border-box;text-align: center;}#sk-container-id-9 label.sk-toggleable__label-arrow:before {content: \"▸\";float: left;margin-right: 0.25em;color: #696969;}#sk-container-id-9 label.sk-toggleable__label-arrow:hover:before {color: black;}#sk-container-id-9 div.sk-estimator:hover label.sk-toggleable__label-arrow:before {color: black;}#sk-container-id-9 div.sk-toggleable__content {max-height: 0;max-width: 0;overflow: hidden;text-align: left;background-color: #f0f8ff;}#sk-container-id-9 div.sk-toggleable__content pre {margin: 0.2em;color: black;border-radius: 0.25em;background-color: #f0f8ff;}#sk-container-id-9 input.sk-toggleable__control:checked~div.sk-toggleable__content {max-height: 200px;max-width: 100%;overflow: auto;}#sk-container-id-9 input.sk-toggleable__control:checked~label.sk-toggleable__label-arrow:before {content: \"▾\";}#sk-container-id-9 div.sk-estimator input.sk-toggleable__control:checked~label.sk-toggleable__label {background-color: #d4ebff;}#sk-container-id-9 div.sk-label input.sk-toggleable__control:checked~label.sk-toggleable__label {background-color: #d4ebff;}#sk-container-id-9 input.sk-hidden--visually {border: 0;clip: rect(1px 1px 1px 1px);clip: rect(1px, 1px, 1px, 1px);height: 1px;margin: -1px;overflow: hidden;padding: 0;position: absolute;width: 1px;}#sk-container-id-9 div.sk-estimator {font-family: monospace;background-color: #f0f8ff;border: 1px dotted black;border-radius: 0.25em;box-sizing: border-box;margin-bottom: 0.5em;}#sk-container-id-9 div.sk-estimator:hover {background-color: #d4ebff;}#sk-container-id-9 div.sk-parallel-item::after {content: \"\";width: 100%;border-bottom: 1px solid gray;flex-grow: 1;}#sk-container-id-9 div.sk-label:hover label.sk-toggleable__label {background-color: #d4ebff;}#sk-container-id-9 div.sk-serial::before {content: \"\";position: absolute;border-left: 1px solid gray;box-sizing: border-box;top: 0;bottom: 0;left: 50%;z-index: 0;}#sk-container-id-9 div.sk-serial {display: flex;flex-direction: column;align-items: center;background-color: white;padding-right: 0.2em;padding-left: 0.2em;position: relative;}#sk-container-id-9 div.sk-item {position: relative;z-index: 1;}#sk-container-id-9 div.sk-parallel {display: flex;align-items: stretch;justify-content: center;background-color: white;position: relative;}#sk-container-id-9 div.sk-item::before, #sk-container-id-9 div.sk-parallel-item::before {content: \"\";position: absolute;border-left: 1px solid gray;box-sizing: border-box;top: 0;bottom: 0;left: 50%;z-index: -1;}#sk-container-id-9 div.sk-parallel-item {display: flex;flex-direction: column;z-index: 1;position: relative;background-color: white;}#sk-container-id-9 div.sk-parallel-item:first-child::after {align-self: flex-end;width: 50%;}#sk-container-id-9 div.sk-parallel-item:last-child::after {align-self: flex-start;width: 50%;}#sk-container-id-9 div.sk-parallel-item:only-child::after {width: 0;}#sk-container-id-9 div.sk-dashed-wrapped {border: 1px dashed gray;margin: 0 0.4em 0.5em 0.4em;box-sizing: border-box;padding-bottom: 0.4em;background-color: white;}#sk-container-id-9 div.sk-label label {font-family: monospace;font-weight: bold;display: inline-block;line-height: 1.2em;}#sk-container-id-9 div.sk-label-container {text-align: center;}#sk-container-id-9 div.sk-container {/* jupyter's `normalize.less` sets `[hidden] { display: none; }` but bootstrap.min.css set `[hidden] { display: none !important; }` so we also need the `!important` here to be able to override the default hidden behavior on the sphinx rendered scikit-learn.org. See: https://github.com/scikit-learn/scikit-learn/issues/21755 */display: inline-block !important;position: relative;}#sk-container-id-9 div.sk-text-repr-fallback {display: none;}</style><div id=\"sk-container-id-9\" class=\"sk-top-container\"><div class=\"sk-text-repr-fallback\"><pre>KNeighborsClassifier(metric=&#x27;dtw_sakoechiba&#x27;, metric_params={&#x27;window_size&#x27;: 3})</pre><b>In a Jupyter environment, please rerun this cell to show the HTML representation or trust the notebook. <br />On GitHub, the HTML representation is unable to render, please try loading this page with nbviewer.org.</b></div><div class=\"sk-container\" hidden><div class=\"sk-item\"><div class=\"sk-estimator sk-toggleable\"><input class=\"sk-toggleable__control sk-hidden--visually\" id=\"sk-estimator-id-9\" type=\"checkbox\" checked><label for=\"sk-estimator-id-9\" class=\"sk-toggleable__label sk-toggleable__label-arrow\">KNeighborsClassifier</label><div class=\"sk-toggleable__content\"><pre>KNeighborsClassifier(metric=&#x27;dtw_sakoechiba&#x27;, metric_params={&#x27;window_size&#x27;: 3})</pre></div></div></div></div></div>"
      ],
      "text/plain": [
       "KNeighborsClassifier(metric='dtw_sakoechiba', metric_params={'window_size': 3})"
      ]
     },
     "execution_count": 70,
     "metadata": {},
     "output_type": "execute_result"
    }
   ],
   "source": [
    "%%time\n",
    "y_pred = clf.predict(X_test)\n",
    "print(classification_report(y_test, y_pred))"
   ]
  },
  {
   "cell_type": "code",
   "execution_count": null,
   "id": "b09f5cdf",
   "metadata": {
    "execution": {
     "iopub.execute_input": "2023-02-21T11:13:28.607567Z",
     "iopub.status.busy": "2023-02-21T11:13:28.607113Z",
     "iopub.status.idle": "2023-02-21T11:13:28.614596Z",
     "shell.execute_reply": "2023-02-21T11:13:28.613534Z"
    },
    "papermill": {
     "duration": null,
     "end_time": null,
     "exception": null,
     "start_time": null,
     "status": "pending"
    },
    "tags": []
   },
   "outputs": [],
   "source": [
    "acc = accuracy_score(y_test, y_pred)\n",
    "pre = precision_score(y_test, y_pred, average=avg_par)\n",
    "rec = recall_score(y_test, y_pred, average=avg_par)\n",
    "f1 = f1_score(y_test, y_pred, average=avg_par)\n",
    "\n",
    "metrics_data['KNN']['DTW'] = {'Accuracy': acc, 'Precision': pre, 'Recall': rec, 'F1': f1}"
   ]
  },
  {
   "cell_type": "markdown",
   "id": "e0e700a7",
   "metadata": {
    "papermill": {
     "duration": null,
     "end_time": null,
     "exception": null,
     "start_time": null,
     "status": "pending"
    },
    "tags": []
   },
   "source": [
    "## Overall Results"
   ]
  },
  {
   "cell_type": "code",
   "execution_count": null,
   "id": "d003c193",
   "metadata": {
    "papermill": {
     "duration": null,
     "end_time": null,
     "exception": null,
     "start_time": null,
     "status": "pending"
    },
    "tags": []
   },
   "outputs": [],
   "source": [
    "metrics_data = pd.DataFrame.from_dict({(i,j): metrics_data[i][j] \n",
    "                                       for i in metrics_data.keys() \n",
    "                                       for j in metrics_data[i].keys()},\n",
    "                                       orient='index')"
   ]
  },
  {
   "cell_type": "code",
   "execution_count": null,
   "id": "0944fe84",
   "metadata": {
    "papermill": {
     "duration": null,
     "end_time": null,
     "exception": null,
     "start_time": null,
     "status": "pending"
    },
    "tags": []
   },
   "outputs": [],
   "source": [
    "acc = accuracy_score(y_test, y_pred)\n",
    "pre = precision_score(y_test, y_pred, average=avg_par)\n",
    "rec = recall_score(y_test, y_pred, average=avg_par)\n",
    "f1 = f1_score(y_test, y_pred, average=avg_par)"
   ]
  },
  {
   "cell_type": "code",
   "execution_count": null,
   "id": "7ee1b347",
   "metadata": {
    "papermill": {
     "duration": null,
     "end_time": null,
     "exception": null,
     "start_time": null,
     "status": "pending"
    },
    "tags": []
   },
   "outputs": [],
   "source": [
    "metrics_data"
   ]
  },
  {
   "cell_type": "code",
   "execution_count": null,
   "id": "3efc173e",
   "metadata": {
    "papermill": {
     "duration": null,
     "end_time": null,
     "exception": null,
     "start_time": null,
     "status": "pending"
    },
    "tags": []
   },
   "outputs": [],
   "source": [
    "metrics_data.to_csv(f'{data_path}/metrics.csv')"
   ]
  },
  {
   "cell_type": "code",
   "execution_count": null,
   "id": "d21f5304",
   "metadata": {
    "papermill": {
     "duration": null,
     "end_time": null,
     "exception": null,
     "start_time": null,
     "status": "pending"
    },
    "tags": []
   },
   "outputs": [],
   "source": []
  }
 ],
 "metadata": {
  "celltoolbar": "Tags",
  "kernelspec": {
   "display_name": "Python 3 (ipykernel)",
   "language": "python",
   "name": "python3"
  },
  "language_info": {
   "codemirror_mode": {
    "name": "ipython",
    "version": 3
   },
   "file_extension": ".py",
   "mimetype": "text/x-python",
   "name": "python",
   "nbconvert_exporter": "python",
   "pygments_lexer": "ipython3",
   "version": "3.9.16"
  },
  "papermill": {
   "default_parameters": {},
   "duration": null,
   "end_time": null,
   "environment_variables": {},
   "exception": null,
   "input_path": "09_ts_classification-Copy1.ipynb",
   "output_path": "09_ts_classification-Copy1.ipynb",
   "parameters": {},
   "start_time": "2023-02-27T15:10:22.373227",
   "version": "2.4.0"
  },
  "vscode": {
   "interpreter": {
    "hash": "eb8d1ded7c87c6f9c253b40add648304d6b51d2e38393955e855effc7e6f899a"
   }
  }
 },
 "nbformat": 4,
 "nbformat_minor": 5
}
