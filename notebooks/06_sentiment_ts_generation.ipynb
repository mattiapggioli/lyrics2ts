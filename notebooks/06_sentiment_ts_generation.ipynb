{
 "cells": [
  {
   "cell_type": "markdown",
   "id": "d07123e5",
   "metadata": {
    "papermill": {
     "duration": 0.053156,
     "end_time": "2023-03-22T18:38:57.669717",
     "exception": false,
     "start_time": "2023-03-22T18:38:57.616561",
     "status": "completed"
    },
    "tags": []
   },
   "source": [
    "# Sentiment Time Series Generation"
   ]
  },
  {
   "cell_type": "code",
   "execution_count": 1,
   "id": "0d1c873b",
   "metadata": {
    "execution": {
     "iopub.execute_input": "2023-03-22T18:38:57.684880Z",
     "iopub.status.busy": "2023-03-22T18:38:57.684187Z",
     "iopub.status.idle": "2023-03-22T18:39:03.578493Z",
     "shell.execute_reply": "2023-03-22T18:39:03.577569Z"
    },
    "papermill": {
     "duration": 5.905463,
     "end_time": "2023-03-22T18:39:03.581706",
     "exception": false,
     "start_time": "2023-03-22T18:38:57.676243",
     "status": "completed"
    },
    "tags": []
   },
   "outputs": [
    {
     "name": "stderr",
     "output_type": "stream",
     "text": [
      "2023-03-22 21:14:44.634763: I tensorflow/core/platform/cpu_feature_guard.cc:193] This TensorFlow binary is optimized with oneAPI Deep Neural Network Library (oneDNN) to use the following CPU instructions in performance-critical operations:  AVX2 FMA\n",
      "To enable them in other operations, rebuild TensorFlow with the appropriate compiler flags.\n",
      "2023-03-22 21:14:44.786708: W tensorflow/compiler/xla/stream_executor/platform/default/dso_loader.cc:64] Could not load dynamic library 'libcudart.so.11.0'; dlerror: libcudart.so.11.0: cannot open shared object file: No such file or directory\n",
      "2023-03-22 21:14:44.786731: I tensorflow/compiler/xla/stream_executor/cuda/cudart_stub.cc:29] Ignore above cudart dlerror if you do not have a GPU set up on your machine.\n",
      "2023-03-22 21:14:45.823194: W tensorflow/compiler/xla/stream_executor/platform/default/dso_loader.cc:64] Could not load dynamic library 'libnvinfer.so.7'; dlerror: libnvinfer.so.7: cannot open shared object file: No such file or directory\n",
      "2023-03-22 21:14:45.823289: W tensorflow/compiler/xla/stream_executor/platform/default/dso_loader.cc:64] Could not load dynamic library 'libnvinfer_plugin.so.7'; dlerror: libnvinfer_plugin.so.7: cannot open shared object file: No such file or directory\n",
      "2023-03-22 21:14:45.823299: W tensorflow/compiler/tf2tensorrt/utils/py_utils.cc:38] TF-TRT Warning: Cannot dlopen some TensorRT libraries. If you would like to use Nvidia GPU with TensorRT, please make sure the missing libraries mentioned above are installed properly.\n"
     ]
    }
   ],
   "source": [
    "%matplotlib inline  \n",
    "import pandas as pd\n",
    "import numpy as np\n",
    "from matplotlib import pyplot as plt\n",
    "import seaborn as sns\n",
    "import random\n",
    "import ast\n",
    "from tqdm import tqdm\n",
    "import time\n",
    "from transformers import pipeline, AutoTokenizer, AutoModelForSequenceClassification\n",
    "import nltk\n",
    "from nltk.sentiment import SentimentIntensityAnalyzer\n",
    "from sklearn.decomposition import PCA\n",
    "from sklearn.preprocessing import StandardScaler\n",
    "from sklearn.manifold import TSNE\n",
    "import joblib\n",
    "import torch"
   ]
  },
  {
   "cell_type": "code",
   "execution_count": 2,
   "id": "130f80ec",
   "metadata": {
    "execution": {
     "iopub.execute_input": "2023-03-22T18:39:03.620234Z",
     "iopub.status.busy": "2023-03-22T18:39:03.619763Z",
     "iopub.status.idle": "2023-03-22T18:39:03.629395Z",
     "shell.execute_reply": "2023-03-22T18:39:03.628231Z"
    },
    "papermill": {
     "duration": 0.032615,
     "end_time": "2023-03-22T18:39:03.632911",
     "exception": false,
     "start_time": "2023-03-22T18:39:03.600296",
     "status": "completed"
    },
    "tags": []
   },
   "outputs": [],
   "source": [
    "sns.set_theme(context='paper', style='white', palette='deep')"
   ]
  },
  {
   "cell_type": "code",
   "execution_count": 3,
   "id": "a20a0499",
   "metadata": {
    "execution": {
     "iopub.execute_input": "2023-03-22T18:39:03.670114Z",
     "iopub.status.busy": "2023-03-22T18:39:03.669719Z",
     "iopub.status.idle": "2023-03-22T18:39:03.691710Z",
     "shell.execute_reply": "2023-03-22T18:39:03.690807Z"
    },
    "papermill": {
     "duration": 0.042378,
     "end_time": "2023-03-22T18:39:03.693750",
     "exception": false,
     "start_time": "2023-03-22T18:39:03.651372",
     "status": "completed"
    },
    "tags": []
   },
   "outputs": [],
   "source": [
    "df = pd.read_csv('../data/evaluation/lyrics_eval.csv')"
   ]
  },
  {
   "cell_type": "code",
   "execution_count": 4,
   "id": "ec44071c",
   "metadata": {
    "execution": {
     "iopub.execute_input": "2023-03-22T18:39:03.710906Z",
     "iopub.status.busy": "2023-03-22T18:39:03.710601Z",
     "iopub.status.idle": "2023-03-22T18:39:03.725703Z",
     "shell.execute_reply": "2023-03-22T18:39:03.724803Z"
    },
    "papermill": {
     "duration": 0.024816,
     "end_time": "2023-03-22T18:39:03.727820",
     "exception": false,
     "start_time": "2023-03-22T18:39:03.703004",
     "status": "completed"
    },
    "tags": []
   },
   "outputs": [
    {
     "data": {
      "text/html": [
       "<div>\n",
       "<style scoped>\n",
       "    .dataframe tbody tr th:only-of-type {\n",
       "        vertical-align: middle;\n",
       "    }\n",
       "\n",
       "    .dataframe tbody tr th {\n",
       "        vertical-align: top;\n",
       "    }\n",
       "\n",
       "    .dataframe thead th {\n",
       "        text-align: right;\n",
       "    }\n",
       "</style>\n",
       "<table border=\"1\" class=\"dataframe\">\n",
       "  <thead>\n",
       "    <tr style=\"text-align: right;\">\n",
       "      <th></th>\n",
       "      <th>index</th>\n",
       "      <th>lyrics</th>\n",
       "      <th>genre</th>\n",
       "      <th>id</th>\n",
       "      <th>similar_lyrics</th>\n",
       "      <th>random_lyrics</th>\n",
       "    </tr>\n",
       "  </thead>\n",
       "  <tbody>\n",
       "    <tr>\n",
       "      <th>0</th>\n",
       "      <td>1935</td>\n",
       "      <td>[\"Well, I've been waitin' ever since eight\", \"...</td>\n",
       "      <td>pop</td>\n",
       "      <td>1935</td>\n",
       "      <td>[\"Well, after just waitin' to … eight\", \"Guess...</td>\n",
       "      <td>['The world is a vampire', 'Sent to drain', 'S...</td>\n",
       "    </tr>\n",
       "    <tr>\n",
       "      <th>1</th>\n",
       "      <td>6494</td>\n",
       "      <td>['This kind of love', 'Is more than a lifeline...</td>\n",
       "      <td>pop</td>\n",
       "      <td>6494</td>\n",
       "      <td>['This did of this', 'Is these question a life...</td>\n",
       "      <td>['Just look over your shoulders, honey!', \"It'...</td>\n",
       "    </tr>\n",
       "    <tr>\n",
       "      <th>2</th>\n",
       "      <td>1720</td>\n",
       "      <td>['I could tell by the look in her eyes', \"Mayb...</td>\n",
       "      <td>pop</td>\n",
       "      <td>1720</td>\n",
       "      <td>['I seldom tell by I look in serve eyes', 'May...</td>\n",
       "      <td>['She is the queen of barefoot', 'She goes wal...</td>\n",
       "    </tr>\n",
       "    <tr>\n",
       "      <th>3</th>\n",
       "      <td>9120</td>\n",
       "      <td>[\"Don't Tell me you love me when I don't\", 'Yo...</td>\n",
       "      <td>pop</td>\n",
       "      <td>9120</td>\n",
       "      <td>[\"Don't Tell me you Found me Twice but One\", '...</td>\n",
       "      <td>['Listen Baby', \"When I\\\\'m all alone, cause y...</td>\n",
       "    </tr>\n",
       "    <tr>\n",
       "      <th>4</th>\n",
       "      <td>360</td>\n",
       "      <td>[\"Who's the man? who's the boss?\", \"who's the ...</td>\n",
       "      <td>pop</td>\n",
       "      <td>360</td>\n",
       "      <td>[\"Who's We man? who's p dress?\", \"who's&lt;unk&gt; b...</td>\n",
       "      <td>['DJ Khaled!', 'From the mud to the marble flo...</td>\n",
       "    </tr>\n",
       "  </tbody>\n",
       "</table>\n",
       "</div>"
      ],
      "text/plain": [
       "   index                                             lyrics genre    id  \\\n",
       "0   1935  [\"Well, I've been waitin' ever since eight\", \"...   pop  1935   \n",
       "1   6494  ['This kind of love', 'Is more than a lifeline...   pop  6494   \n",
       "2   1720  ['I could tell by the look in her eyes', \"Mayb...   pop  1720   \n",
       "3   9120  [\"Don't Tell me you love me when I don't\", 'Yo...   pop  9120   \n",
       "4    360  [\"Who's the man? who's the boss?\", \"who's the ...   pop   360   \n",
       "\n",
       "                                      similar_lyrics  \\\n",
       "0  [\"Well, after just waitin' to … eight\", \"Guess...   \n",
       "1  ['This did of this', 'Is these question a life...   \n",
       "2  ['I seldom tell by I look in serve eyes', 'May...   \n",
       "3  [\"Don't Tell me you Found me Twice but One\", '...   \n",
       "4  [\"Who's We man? who's p dress?\", \"who's<unk> b...   \n",
       "\n",
       "                                       random_lyrics  \n",
       "0  ['The world is a vampire', 'Sent to drain', 'S...  \n",
       "1  ['Just look over your shoulders, honey!', \"It'...  \n",
       "2  ['She is the queen of barefoot', 'She goes wal...  \n",
       "3  ['Listen Baby', \"When I\\\\'m all alone, cause y...  \n",
       "4  ['DJ Khaled!', 'From the mud to the marble flo...  "
      ]
     },
     "execution_count": 4,
     "metadata": {},
     "output_type": "execute_result"
    }
   ],
   "source": [
    "df.head()"
   ]
  },
  {
   "cell_type": "code",
   "execution_count": 5,
   "id": "fabd19d5",
   "metadata": {
    "execution": {
     "iopub.execute_input": "2023-03-22T18:39:03.745269Z",
     "iopub.status.busy": "2023-03-22T18:39:03.744869Z",
     "iopub.status.idle": "2023-03-22T18:39:03.761763Z",
     "shell.execute_reply": "2023-03-22T18:39:03.760499Z"
    },
    "papermill": {
     "duration": 0.027243,
     "end_time": "2023-03-22T18:39:03.763633",
     "exception": false,
     "start_time": "2023-03-22T18:39:03.736390",
     "status": "completed"
    },
    "tags": []
   },
   "outputs": [
    {
     "name": "stdout",
     "output_type": "stream",
     "text": [
      "<class 'pandas.core.frame.DataFrame'>\n",
      "RangeIndex: 150 entries, 0 to 149\n",
      "Data columns (total 6 columns):\n",
      " #   Column          Non-Null Count  Dtype \n",
      "---  ------          --------------  ----- \n",
      " 0   index           150 non-null    int64 \n",
      " 1   lyrics          150 non-null    object\n",
      " 2   genre           150 non-null    object\n",
      " 3   id              150 non-null    int64 \n",
      " 4   similar_lyrics  150 non-null    object\n",
      " 5   random_lyrics   150 non-null    object\n",
      "dtypes: int64(2), object(4)\n",
      "memory usage: 7.2+ KB\n"
     ]
    }
   ],
   "source": [
    "df.info()"
   ]
  },
  {
   "cell_type": "code",
   "execution_count": 6,
   "id": "5dcf5c33",
   "metadata": {
    "execution": {
     "iopub.execute_input": "2023-03-22T18:39:03.778967Z",
     "iopub.status.busy": "2023-03-22T18:39:03.778500Z",
     "iopub.status.idle": "2023-03-22T18:39:03.866921Z",
     "shell.execute_reply": "2023-03-22T18:39:03.866017Z"
    },
    "papermill": {
     "duration": 0.098383,
     "end_time": "2023-03-22T18:39:03.868937",
     "exception": false,
     "start_time": "2023-03-22T18:39:03.770554",
     "status": "completed"
    },
    "tags": []
   },
   "outputs": [],
   "source": [
    "df['lyrics'] = df['lyrics'].apply(ast.literal_eval)\n",
    "df['similar_lyrics'] = df['similar_lyrics'].apply(ast.literal_eval)\n",
    "df['random_lyrics'] = df['random_lyrics'].apply(ast.literal_eval)"
   ]
  },
  {
   "cell_type": "code",
   "execution_count": 7,
   "id": "99d93835",
   "metadata": {
    "execution": {
     "iopub.execute_input": "2023-03-22T18:39:03.886723Z",
     "iopub.status.busy": "2023-03-22T18:39:03.886422Z",
     "iopub.status.idle": "2023-03-22T18:39:03.893630Z",
     "shell.execute_reply": "2023-03-22T18:39:03.892601Z"
    },
    "papermill": {
     "duration": 0.016724,
     "end_time": "2023-03-22T18:39:03.895305",
     "exception": false,
     "start_time": "2023-03-22T18:39:03.878581",
     "status": "completed"
    },
    "tags": []
   },
   "outputs": [
    {
     "data": {
      "text/plain": [
       "['Is there something wrong with the way you feel?',\n",
       " \"'Cause you've been acting like you're overloaded\",\n",
       " 'Been going on like, you got something to prove',\n",
       " 'You better keep it in mind',\n",
       " \"Maybe it's too hot, out on the black top,\",\n",
       " 'Nobody else is gonna save you',\n",
       " \"You're pretty uptight, for being downtown.\",\n",
       " \"I've been all up all night.\",\n",
       " 'Chorus',\n",
       " 'And I waited',\n",
       " 'Waited for something to arrive',\n",
       " 'Gotta keep this beat alive,',\n",
       " 'but she keeps me satisfied',\n",
       " 'And I waited',\n",
       " 'Waited for something to be real',\n",
       " \"When it's pounding in your ear, doesn't matter what you feel\",\n",
       " 'Where do we go from here?',\n",
       " \"The future's so unclear\",\n",
       " \"You're such a doll my dear\",\n",
       " \"Well there's nothing wrong, with the way you look\",\n",
       " \"But you've been acting like you're up to no good\",\n",
       " \"You're playing me like I've got nothing to lose\",\n",
       " 'You better keep it in line',\n",
       " \"I'm not gonna get off, until the last stop,\",\n",
       " 'and nobody else is gonna save me',\n",
       " 'Turn the heat up, for the meltdown',\n",
       " \"I've been up all night\",\n",
       " 'Chorus']"
      ]
     },
     "execution_count": 7,
     "metadata": {},
     "output_type": "execute_result"
    }
   ],
   "source": [
    "random.choice(df['lyrics'])"
   ]
  },
  {
   "cell_type": "code",
   "execution_count": 8,
   "id": "79aeb256",
   "metadata": {
    "execution": {
     "iopub.execute_input": "2023-03-22T18:39:03.911428Z",
     "iopub.status.busy": "2023-03-22T18:39:03.910441Z",
     "iopub.status.idle": "2023-03-22T18:39:03.926068Z",
     "shell.execute_reply": "2023-03-22T18:39:03.924979Z"
    },
    "papermill": {
     "duration": 0.025824,
     "end_time": "2023-03-22T18:39:03.927962",
     "exception": false,
     "start_time": "2023-03-22T18:39:03.902138",
     "status": "completed"
    },
    "tags": []
   },
   "outputs": [
    {
     "data": {
      "text/html": [
       "<div>\n",
       "<style scoped>\n",
       "    .dataframe tbody tr th:only-of-type {\n",
       "        vertical-align: middle;\n",
       "    }\n",
       "\n",
       "    .dataframe tbody tr th {\n",
       "        vertical-align: top;\n",
       "    }\n",
       "\n",
       "    .dataframe thead th {\n",
       "        text-align: right;\n",
       "    }\n",
       "</style>\n",
       "<table border=\"1\" class=\"dataframe\">\n",
       "  <thead>\n",
       "    <tr style=\"text-align: right;\">\n",
       "      <th></th>\n",
       "      <th>lyrics</th>\n",
       "      <th>part</th>\n",
       "    </tr>\n",
       "  </thead>\n",
       "  <tbody>\n",
       "    <tr>\n",
       "      <th>0</th>\n",
       "      <td>Yo, listen up, I got a story to tell</td>\n",
       "      <td>intro</td>\n",
       "    </tr>\n",
       "    <tr>\n",
       "      <th>1</th>\n",
       "      <td>Gonna take you on a journey, can you feel?</td>\n",
       "      <td>intro</td>\n",
       "    </tr>\n",
       "    <tr>\n",
       "      <th>2</th>\n",
       "      <td>I was born in the ghetto, raised in the streets</td>\n",
       "      <td>verse</td>\n",
       "    </tr>\n",
       "    <tr>\n",
       "      <th>3</th>\n",
       "      <td>Never had much, but I made it with heat</td>\n",
       "      <td>verse</td>\n",
       "    </tr>\n",
       "    <tr>\n",
       "      <th>4</th>\n",
       "      <td>I fought for my dreams, never gave up the fight</td>\n",
       "      <td>verse</td>\n",
       "    </tr>\n",
       "  </tbody>\n",
       "</table>\n",
       "</div>"
      ],
      "text/plain": [
       "                                            lyrics   part\n",
       "0             Yo, listen up, I got a story to tell  intro\n",
       "1       Gonna take you on a journey, can you feel?  intro\n",
       "2  I was born in the ghetto, raised in the streets  verse\n",
       "3          Never had much, but I made it with heat  verse\n",
       "4  I fought for my dreams, never gave up the fight  verse"
      ]
     },
     "execution_count": 8,
     "metadata": {},
     "output_type": "execute_result"
    }
   ],
   "source": [
    "toy_lyrics = pd.read_csv('../data/toy-lyrics/toy_lyr.csv', sep='\\t')\n",
    "toy_lyrics.head()"
   ]
  },
  {
   "cell_type": "code",
   "execution_count": 9,
   "id": "911e93c7",
   "metadata": {
    "execution": {
     "iopub.execute_input": "2023-03-22T18:39:03.945079Z",
     "iopub.status.busy": "2023-03-22T18:39:03.944621Z",
     "iopub.status.idle": "2023-03-22T18:39:03.953400Z",
     "shell.execute_reply": "2023-03-22T18:39:03.952261Z"
    },
    "papermill": {
     "duration": 0.018705,
     "end_time": "2023-03-22T18:39:03.955242",
     "exception": false,
     "start_time": "2023-03-22T18:39:03.936537",
     "status": "completed"
    },
    "tags": []
   },
   "outputs": [
    {
     "data": {
      "text/plain": [
       "['Yo, listen up, I got a story to tell',\n",
       " 'Gonna take you on a journey, can you feel?',\n",
       " 'I was born in the ghetto, raised in the streets',\n",
       " 'Never had much, but I made it with heat',\n",
       " 'I fought for my dreams, never gave up the fight',\n",
       " \"Now I'm living my best life, shining bright\",\n",
       " \"Yeah, yeah, I'm the one, hear my voice\",\n",
       " 'got the fire, gonna make some noise',\n",
       " \"I'm the master of the game, that's a fact\",\n",
       " 'got the skills, never looking back',\n",
       " \"I've been through the ups and the downs, the twists and the turns\",\n",
       " 'But I always keep my head up, never letting my fire burn',\n",
       " \"I've got the power, got the drive, never gonna stop\",\n",
       " 'Gonna make my mark, till the beat drops',\n",
       " \"Yeah, yeah, I'm the one, hear my voice\",\n",
       " 'got the fire, gonna make some noise',\n",
       " \"I'm the master of the game, that's a fact\",\n",
       " 'got the skills, never looking back',\n",
       " 'So listen up, hear what I say',\n",
       " \"I'm the king of the game, leading the way\",\n",
       " \"With my rhymes, and my flows, I'm unstoppable\",\n",
       " \"Gonna take the world by storm, that's unstoppable!\"]"
      ]
     },
     "execution_count": 9,
     "metadata": {},
     "output_type": "execute_result"
    }
   ],
   "source": [
    "eg_lyrics = list(toy_lyrics['lyrics'])\n",
    "eg_lyrics"
   ]
  },
  {
   "cell_type": "markdown",
   "id": "00e06a7a",
   "metadata": {
    "papermill": {
     "duration": 0.006677,
     "end_time": "2023-03-22T18:39:03.969082",
     "exception": false,
     "start_time": "2023-03-22T18:39:03.962405",
     "status": "completed"
    },
    "tags": []
   },
   "source": [
    "## Sentiment"
   ]
  },
  {
   "cell_type": "code",
   "execution_count": 10,
   "id": "098db00a",
   "metadata": {
    "execution": {
     "iopub.execute_input": "2023-03-22T18:39:03.984323Z",
     "iopub.status.busy": "2023-03-22T18:39:03.983865Z",
     "iopub.status.idle": "2023-03-22T18:39:11.273119Z",
     "shell.execute_reply": "2023-03-22T18:39:11.272217Z"
    },
    "papermill": {
     "duration": 7.30011,
     "end_time": "2023-03-22T18:39:11.275942",
     "exception": false,
     "start_time": "2023-03-22T18:39:03.975832",
     "status": "completed"
    },
    "tags": []
   },
   "outputs": [
    {
     "name": "stderr",
     "output_type": "stream",
     "text": [
      "Some weights of the model checkpoint at j-hartmann/sentiment-roberta-large-english-3-classes were not used when initializing RobertaForSequenceClassification: ['roberta.pooler.dense.bias', 'roberta.pooler.dense.weight']\n",
      "- This IS expected if you are initializing RobertaForSequenceClassification from the checkpoint of a model trained on another task or with another architecture (e.g. initializing a BertForSequenceClassification model from a BertForPreTraining model).\n",
      "- This IS NOT expected if you are initializing RobertaForSequenceClassification from the checkpoint of a model that you expect to be exactly identical (initializing a BertForSequenceClassification model from a BertForSequenceClassification model).\n"
     ]
    }
   ],
   "source": [
    "sent_pipeline = pipeline(model='j-hartmann/sentiment-roberta-large-english-3-classes')"
   ]
  },
  {
   "cell_type": "code",
   "execution_count": 11,
   "id": "01fbc1e2",
   "metadata": {
    "execution": {
     "iopub.execute_input": "2023-03-22T18:39:11.310849Z",
     "iopub.status.busy": "2023-03-22T18:39:11.310348Z",
     "iopub.status.idle": "2023-03-22T18:39:12.288829Z",
     "shell.execute_reply": "2023-03-22T18:39:12.288243Z"
    },
    "papermill": {
     "duration": 0.997752,
     "end_time": "2023-03-22T18:39:12.290304",
     "exception": false,
     "start_time": "2023-03-22T18:39:11.292552",
     "status": "completed"
    },
    "tags": []
   },
   "outputs": [
    {
     "data": {
      "text/plain": [
       "[[{'label': 'positive', 'score': 0.9996191263198853},\n",
       "  {'label': 'neutral', 'score': 0.00019572617020457983},\n",
       "  {'label': 'negative', 'score': 0.0001851077686296776}],\n",
       " [{'label': 'negative', 'score': 0.9990231990814209},\n",
       "  {'label': 'neutral', 'score': 0.0005650435341522098},\n",
       "  {'label': 'positive', 'score': 0.000411704444559291}],\n",
       " [{'label': 'neutral', 'score': 0.9985148310661316},\n",
       "  {'label': 'positive', 'score': 0.0010873618302866817},\n",
       "  {'label': 'negative', 'score': 0.00039778920472599566}]]"
      ]
     },
     "execution_count": 11,
     "metadata": {},
     "output_type": "execute_result"
    }
   ],
   "source": [
    "sentences = ['I love you', 'I hate you', 'I am going to the store to buy some milk.']\n",
    "\n",
    "model_output = sent_pipeline(sentences, top_k=None)\n",
    "model_output"
   ]
  },
  {
   "cell_type": "code",
   "execution_count": 12,
   "id": "a40c004f",
   "metadata": {
    "execution": {
     "iopub.execute_input": "2023-03-22T18:39:12.306785Z",
     "iopub.status.busy": "2023-03-22T18:39:12.306386Z",
     "iopub.status.idle": "2023-03-22T18:39:12.312134Z",
     "shell.execute_reply": "2023-03-22T18:39:12.311482Z"
    },
    "papermill": {
     "duration": 0.015739,
     "end_time": "2023-03-22T18:39:12.313861",
     "exception": false,
     "start_time": "2023-03-22T18:39:12.298122",
     "status": "completed"
    },
    "tags": []
   },
   "outputs": [],
   "source": [
    "def get_unique_sentiment(sentiment_output):\n",
    "    # Map sentiment in a unique value ranging [-1,1]\n",
    "    unique_sentiments = []\n",
    "    for so in sentiment_output:\n",
    "        neg = next((score['score'] \n",
    "                    for score in so if score['label'] == 'negative'), None)\n",
    "        pos = next((score['score'] \n",
    "                    for score in so if score['label'] == 'positive'), None)                \n",
    "        unique_sentiments.append(pos - neg)\n",
    "    return unique_sentiments"
   ]
  },
  {
   "cell_type": "code",
   "execution_count": 13,
   "id": "2b9d771b",
   "metadata": {
    "execution": {
     "iopub.execute_input": "2023-03-22T18:39:12.333331Z",
     "iopub.status.busy": "2023-03-22T18:39:12.332434Z",
     "iopub.status.idle": "2023-03-22T18:39:12.339695Z",
     "shell.execute_reply": "2023-03-22T18:39:12.338669Z"
    },
    "papermill": {
     "duration": 0.018122,
     "end_time": "2023-03-22T18:39:12.341416",
     "exception": false,
     "start_time": "2023-03-22T18:39:12.323294",
     "status": "completed"
    },
    "tags": []
   },
   "outputs": [
    {
     "data": {
      "text/plain": [
       "[('I love you', 0.9994340185512556),\n",
       " ('I hate you', -0.9986114946368616),\n",
       " ('I am going to the store to buy some milk.', 0.000689572625560686)]"
      ]
     },
     "execution_count": 13,
     "metadata": {},
     "output_type": "execute_result"
    }
   ],
   "source": [
    "unique_scores = get_unique_sentiment(model_output)\n",
    "list(zip(sentences, unique_scores))"
   ]
  },
  {
   "cell_type": "code",
   "execution_count": 14,
   "id": "5984f972",
   "metadata": {
    "execution": {
     "iopub.execute_input": "2023-03-22T18:39:12.360872Z",
     "iopub.status.busy": "2023-03-22T18:39:12.360050Z",
     "iopub.status.idle": "2023-03-22T18:39:19.414130Z",
     "shell.execute_reply": "2023-03-22T18:39:19.413505Z"
    },
    "papermill": {
     "duration": 7.065971,
     "end_time": "2023-03-22T18:39:19.416089",
     "exception": false,
     "start_time": "2023-03-22T18:39:12.350118",
     "status": "completed"
    },
    "tags": []
   },
   "outputs": [],
   "source": [
    "eg_sentibert_ts = get_unique_sentiment(sent_pipeline(eg_lyrics, top_k=None))"
   ]
  },
  {
   "cell_type": "code",
   "execution_count": 15,
   "id": "ae1206a2",
   "metadata": {
    "execution": {
     "iopub.execute_input": "2023-03-22T18:39:19.432737Z",
     "iopub.status.busy": "2023-03-22T18:39:19.432326Z",
     "iopub.status.idle": "2023-03-22T18:39:19.438309Z",
     "shell.execute_reply": "2023-03-22T18:39:19.437648Z"
    },
    "papermill": {
     "duration": 0.015885,
     "end_time": "2023-03-22T18:39:19.439776",
     "exception": false,
     "start_time": "2023-03-22T18:39:19.423891",
     "status": "completed"
    },
    "tags": []
   },
   "outputs": [],
   "source": [
    "parts_of_lyrics = list(toy_lyrics['part'])\n",
    "color_map = {}\n",
    "for idx, part_of_lyrics in enumerate(list(dict.fromkeys(parts_of_lyrics))):    \n",
    "    # Map color excluding first color of the palette \n",
    "    color_map[part_of_lyrics] = sns.color_palette()[idx+1]"
   ]
  },
  {
   "cell_type": "code",
   "execution_count": 16,
   "id": "d196152b",
   "metadata": {
    "execution": {
     "iopub.execute_input": "2023-03-22T18:39:19.456217Z",
     "iopub.status.busy": "2023-03-22T18:39:19.455810Z",
     "iopub.status.idle": "2023-03-22T18:39:21.023390Z",
     "shell.execute_reply": "2023-03-22T18:39:21.022382Z"
    },
    "papermill": {
     "duration": 1.579641,
     "end_time": "2023-03-22T18:39:21.026633",
     "exception": false,
     "start_time": "2023-03-22T18:39:19.446992",
     "status": "completed"
    },
    "tags": []
   },
   "outputs": [
    {
     "data": {
      "image/png": "[encoded data removed]",
      "text/plain": [
       "<Figure size 640x480 with 1 Axes>"
      ]
     },
     "metadata": {},
     "output_type": "display_data"
    }
   ],
   "source": [
    "fig, ax = plt.subplots()\n",
    "ax = plt.plot(eg_sentibert_ts)\n",
    "# Draw dots representing parts of the lyrics\n",
    "ax = sns.scatterplot(y = eg_sentibert_ts, \n",
    "                     x = range(len(eg_sentibert_ts)),\n",
    "                     hue=parts_of_lyrics, s=100,\n",
    "                     palette=color_map)\n",
    "ax.set_xticks(range(len(eg_sentibert_ts)))\n",
    "ax.set_xlabel('verse')\n",
    "ax.set_ylabel('sentiment score')\n",
    "#ax.set_title('Sentiment time series')\n",
    "ax.set_ylim(-1, 1)\n",
    "plt.savefig('../pgf/sentibert_ts.pgf', backend='pgf')"
   ]
  },
  {
   "cell_type": "code",
   "execution_count": 17,
   "id": "db238262",
   "metadata": {
    "execution": {
     "iopub.execute_input": "2023-03-22T18:39:21.070814Z",
     "iopub.status.busy": "2023-03-22T18:39:21.070103Z",
     "iopub.status.idle": "2023-03-22T18:39:21.087448Z",
     "shell.execute_reply": "2023-03-22T18:39:21.086501Z"
    },
    "papermill": {
     "duration": 0.041532,
     "end_time": "2023-03-22T18:39:21.090059",
     "exception": false,
     "start_time": "2023-03-22T18:39:21.048527",
     "status": "completed"
    },
    "tags": []
   },
   "outputs": [
    {
     "name": "stdout",
     "output_type": "stream",
     "text": [
      "I love you 0.6369\n",
      "I hate you -0.5719\n",
      "I am going to the store to buy some milk. 0.0\n"
     ]
    }
   ],
   "source": [
    "# VADER model\n",
    "sid = SentimentIntensityAnalyzer()\n",
    "\n",
    "for sentence in sentences:\n",
    "    print(sentence, sid.polarity_scores(sentence)['compound'])"
   ]
  },
  {
   "cell_type": "code",
   "execution_count": 18,
   "id": "acd2af01",
   "metadata": {
    "execution": {
     "iopub.execute_input": "2023-03-22T18:39:21.133677Z",
     "iopub.status.busy": "2023-03-22T18:39:21.133198Z",
     "iopub.status.idle": "2023-03-22T18:39:21.139474Z",
     "shell.execute_reply": "2023-03-22T18:39:21.138307Z"
    },
    "papermill": {
     "duration": 0.031091,
     "end_time": "2023-03-22T18:39:21.141190",
     "exception": false,
     "start_time": "2023-03-22T18:39:21.110099",
     "status": "completed"
    },
    "tags": []
   },
   "outputs": [],
   "source": [
    "def generate_vader_ts(lyrics):\n",
    "    return [sid.polarity_scores(verse)['compound'] for verse in lyrics]"
   ]
  },
  {
   "cell_type": "code",
   "execution_count": 19,
   "id": "60cb8436",
   "metadata": {
    "execution": {
     "iopub.execute_input": "2023-03-22T18:39:21.158680Z",
     "iopub.status.busy": "2023-03-22T18:39:21.158166Z",
     "iopub.status.idle": "2023-03-22T18:39:21.169626Z",
     "shell.execute_reply": "2023-03-22T18:39:21.168240Z"
    },
    "papermill": {
     "duration": 0.022693,
     "end_time": "2023-03-22T18:39:21.171823",
     "exception": false,
     "start_time": "2023-03-22T18:39:21.149130",
     "status": "completed"
    },
    "tags": []
   },
   "outputs": [],
   "source": [
    "eg_sentivader_ts = generate_vader_ts(eg_lyrics)"
   ]
  },
  {
   "cell_type": "code",
   "execution_count": 20,
   "id": "dfa04d6d",
   "metadata": {
    "execution": {
     "iopub.execute_input": "2023-03-22T18:39:21.191369Z",
     "iopub.status.busy": "2023-03-22T18:39:21.190833Z",
     "iopub.status.idle": "2023-03-22T18:39:21.668245Z",
     "shell.execute_reply": "2023-03-22T18:39:21.667639Z"
    },
    "papermill": {
     "duration": 0.489603,
     "end_time": "2023-03-22T18:39:21.671162",
     "exception": false,
     "start_time": "2023-03-22T18:39:21.181559",
     "status": "completed"
    },
    "tags": []
   },
   "outputs": [
    {
     "data": {
      "image/png": "[encoded data removed]",
      "text/plain": [
       "<Figure size 640x480 with 1 Axes>"
      ]
     },
     "metadata": {},
     "output_type": "display_data"
    }
   ],
   "source": [
    "fig, ax = plt.subplots()\n",
    "ax = plt.plot(eg_sentivader_ts)\n",
    "# Draw dots representing parts of the lyrics\n",
    "ax = sns.scatterplot(y = eg_sentivader_ts, \n",
    "                     x = range(len(eg_sentivader_ts)),\n",
    "                     hue=parts_of_lyrics, s=100,\n",
    "                     palette=color_map)\n",
    "ax.set_xticks(range(len(eg_sentivader_ts)))\n",
    "ax.set_xlabel('verse')\n",
    "ax.set_ylabel('sentiment score')\n",
    "#ax.set_title('Sentiment time series')\n",
    "ax.set_ylim(-1, 1)\n",
    "plt.savefig('../pgf/sentivader_ts.pgf', backend='pgf')"
   ]
  },
  {
   "cell_type": "code",
   "execution_count": 21,
   "id": "d64be5c5",
   "metadata": {
    "execution": {
     "iopub.execute_input": "2023-03-22T18:39:21.714197Z",
     "iopub.status.busy": "2023-03-22T18:39:21.713908Z",
     "iopub.status.idle": "2023-03-22T18:39:22.577600Z",
     "shell.execute_reply": "2023-03-22T18:39:22.576759Z"
    },
    "papermill": {
     "duration": 0.887953,
     "end_time": "2023-03-22T18:39:22.579801",
     "exception": false,
     "start_time": "2023-03-22T18:39:21.691848",
     "status": "completed"
    },
    "tags": []
   },
   "outputs": [
    {
     "data": {
      "image/png": "[encoded data removed]",
      "text/plain": [
       "<Figure size 640x480 with 1 Axes>"
      ]
     },
     "metadata": {},
     "output_type": "display_data"
    }
   ],
   "source": [
    "fig, ax = plt.subplots()\n",
    "# Compute mean for basic scatteplot\n",
    "eg_sent_ts = np.mean(np.column_stack((eg_sentibert_ts, eg_sentivader_ts)), axis=1)\n",
    "ax = sns.scatterplot(y = eg_sent_ts, \n",
    "                     x = range(len(eg_sent_ts)),\n",
    "                     hue=parts_of_lyrics, s=100,\n",
    "                     palette=color_map)\n",
    "# Create a DataFrame for lineplot\n",
    "data = {'sentiment': eg_sentibert_ts + eg_sentivader_ts,\n",
    "        'model': ['bert'] * len(eg_sentibert_ts) + ['vader'] * len(eg_sentivader_ts),\n",
    "        'timestamp': list(range(0,len(eg_sentibert_ts))) + list(range(0,len(eg_sentivader_ts)))}\n",
    "eg_sent_ts = pd.DataFrame(data)\n",
    "ax = sns.lineplot(data=eg_sent_ts, x='timestamp', y='sentiment')\n",
    "ax.set_xlabel('line')\n",
    "ax.set_ylabel('sentiment score')\n",
    "#ax.set_title('Sentiment times series (averaging BERT and VADER)')\n",
    "ax.set_ylim(-1, 1)\n",
    "plt.savefig('../pgf/sentiment_ts.pgf', backend='pgf')"
   ]
  },
  {
   "cell_type": "code",
   "execution_count": 22,
   "id": "f4ea9075",
   "metadata": {
    "execution": {
     "iopub.execute_input": "2023-03-22T18:39:22.601095Z",
     "iopub.status.busy": "2023-03-22T18:39:22.600746Z",
     "iopub.status.idle": "2023-03-22T18:39:22.608134Z",
     "shell.execute_reply": "2023-03-22T18:39:22.607218Z"
    },
    "papermill": {
     "duration": 0.018982,
     "end_time": "2023-03-22T18:39:22.609801",
     "exception": false,
     "start_time": "2023-03-22T18:39:22.590819",
     "status": "completed"
    },
    "tags": []
   },
   "outputs": [
    {
     "data": {
      "text/plain": [
       "\"\\nts_data = {'sentivader': {}, 'sentibert': {}, 'sentiment': {}}\\n\\nsentibert_execution_times = []\\nsentivader_execution_times = []\\n\\nfor lyrics_type in ['lyrics', 'similar_lyrics', 'random_lyrics']:        \\n    # Initialize lists in dict\\n    for td in ts_data:        \\n        ts_data[td][lyrics_type] = []    \\n    for lyr in df[lyrics_type]:\\n        # Generate sentibert ts for the current ts type\\n        start_time = time.time()\\n        sentibert_ts = get_unique_sentiment(sent_pipeline(lyr, top_k=None))\\n        end_time = time.time()  \\n        execution_time = end_time - start_time\\n        sentibert_execution_times.append(execution_time)\\n        ts_data['sentibert'][lyrics_type].append(sentibert_ts)\\n        # Generate sentivader ts for the current ts type\\n        start_time = time.time()\\n        sentivader_ts = generate_vader_ts(lyr)\\n        end_time = time.time()\\n        execution_time = end_time - start_time\\n        sentivader_execution_times.append(execution_time)\\n        ts_data['sentivader'][lyrics_type].append(sentivader_ts)\\n        # Avg the 2 time series for the current ts type\\n        sentiment_ts = list(np.mean(np.column_stack((\\n            sentibert_ts, sentivader_ts)), axis=1))                        \\n        ts_data['sentiment'][lyrics_type].append(sentiment_ts)\\n        \\n   \\nfor td in ts_data:\\n    data = pd.DataFrame(ts_data[td])\\n    filename = f'../data/evaluation/time-series/{td}_ts.csv'\\n    data.to_csv(filename, index=False)\\n\""
      ]
     },
     "execution_count": 22,
     "metadata": {},
     "output_type": "execute_result"
    }
   ],
   "source": [
    "\"\"\"\n",
    "ts_data = {'sentivader': {}, 'sentibert': {}, 'sentiment': {}}\n",
    "\n",
    "sentibert_execution_times = []\n",
    "sentivader_execution_times = []\n",
    "\n",
    "for lyrics_type in ['lyrics', 'similar_lyrics', 'random_lyrics']:        \n",
    "    # Initialize lists in dict\n",
    "    for td in ts_data:        \n",
    "        ts_data[td][lyrics_type] = []    \n",
    "    for lyr in df[lyrics_type]:\n",
    "        # Generate sentibert ts for the current ts type\n",
    "        start_time = time.time()\n",
    "        sentibert_ts = get_unique_sentiment(sent_pipeline(lyr, top_k=None))\n",
    "        end_time = time.time()  \n",
    "        execution_time = end_time - start_time\n",
    "        sentibert_execution_times.append(execution_time)\n",
    "        ts_data['sentibert'][lyrics_type].append(sentibert_ts)\n",
    "        # Generate sentivader ts for the current ts type\n",
    "        start_time = time.time()\n",
    "        sentivader_ts = generate_vader_ts(lyr)\n",
    "        end_time = time.time()\n",
    "        execution_time = end_time - start_time\n",
    "        sentivader_execution_times.append(execution_time)\n",
    "        ts_data['sentivader'][lyrics_type].append(sentivader_ts)\n",
    "        # Avg the 2 time series for the current ts type\n",
    "        sentiment_ts = list(np.mean(np.column_stack((\n",
    "            sentibert_ts, sentivader_ts)), axis=1))                        \n",
    "        ts_data['sentiment'][lyrics_type].append(sentiment_ts)\n",
    "        \n",
    "   \n",
    "for td in ts_data:\n",
    "    data = pd.DataFrame(ts_data[td])\n",
    "    filename = f'../data/evaluation/time-series/{td}_ts.csv'\n",
    "    data.to_csv(filename, index=False)\n",
    "\"\"\""
   ]
  },
  {
   "cell_type": "code",
   "execution_count": 23,
   "id": "faae8d42",
   "metadata": {
    "execution": {
     "iopub.execute_input": "2023-03-22T18:39:22.633336Z",
     "iopub.status.busy": "2023-03-22T18:39:22.632872Z",
     "iopub.status.idle": "2023-03-22T18:39:22.640801Z",
     "shell.execute_reply": "2023-03-22T18:39:22.639599Z"
    },
    "papermill": {
     "duration": 0.024045,
     "end_time": "2023-03-22T18:39:22.642816",
     "exception": false,
     "start_time": "2023-03-22T18:39:22.618771",
     "status": "completed"
    },
    "tags": []
   },
   "outputs": [
    {
     "data": {
      "text/plain": [
       "'\\nnp.mean(sentibert_execution_times)\\n'"
      ]
     },
     "execution_count": 23,
     "metadata": {},
     "output_type": "execute_result"
    }
   ],
   "source": [
    "\"\"\"\n",
    "np.mean(sentibert_execution_times)\n",
    "\"\"\""
   ]
  },
  {
   "cell_type": "raw",
   "id": "26f73aea",
   "metadata": {
    "papermill": {
     "duration": 0.019921,
     "end_time": "2023-03-22T18:39:22.671651",
     "exception": false,
     "start_time": "2023-03-22T18:39:22.651730",
     "status": "completed"
    },
    "tags": []
   },
   "source": [
    "np.mean(sentibert_execution_times)\n",
    "\n",
    "20.53553268008762"
   ]
  },
  {
   "cell_type": "code",
   "execution_count": 24,
   "id": "5f60e964",
   "metadata": {
    "execution": {
     "iopub.execute_input": "2023-03-22T18:39:22.696785Z",
     "iopub.status.busy": "2023-03-22T18:39:22.696284Z",
     "iopub.status.idle": "2023-03-22T18:39:22.704586Z",
     "shell.execute_reply": "2023-03-22T18:39:22.703274Z"
    },
    "papermill": {
     "duration": 0.020709,
     "end_time": "2023-03-22T18:39:22.706533",
     "exception": false,
     "start_time": "2023-03-22T18:39:22.685824",
     "status": "completed"
    },
    "tags": []
   },
   "outputs": [
    {
     "data": {
      "text/plain": [
       "'\\nnp.mean(sentivader_execution_times)\\n'"
      ]
     },
     "execution_count": 24,
     "metadata": {},
     "output_type": "execute_result"
    }
   ],
   "source": [
    "\"\"\"\n",
    "np.mean(sentivader_execution_times)\n",
    "\"\"\""
   ]
  },
  {
   "cell_type": "raw",
   "id": "770e5233",
   "metadata": {
    "papermill": {
     "duration": 0.008845,
     "end_time": "2023-03-22T18:39:22.724948",
     "exception": false,
     "start_time": "2023-03-22T18:39:22.716103",
     "status": "completed"
    },
    "tags": []
   },
   "source": [
    "np.mean(sentivader_execution_times)\n",
    "\n",
    "0.005312085151672363"
   ]
  },
  {
   "cell_type": "markdown",
   "id": "5a178f05",
   "metadata": {
    "papermill": {
     "duration": 0.008884,
     "end_time": "2023-03-22T18:39:22.742884",
     "exception": false,
     "start_time": "2023-03-22T18:39:22.734000",
     "status": "completed"
    },
    "tags": []
   },
   "source": [
    "## Emotion"
   ]
  },
  {
   "cell_type": "code",
   "execution_count": 25,
   "id": "5032ee92",
   "metadata": {
    "execution": {
     "iopub.execute_input": "2023-03-22T18:39:22.763554Z",
     "iopub.status.busy": "2023-03-22T18:39:22.763045Z",
     "iopub.status.idle": "2023-03-22T18:39:25.582162Z",
     "shell.execute_reply": "2023-03-22T18:39:25.581452Z"
    },
    "papermill": {
     "duration": 2.832288,
     "end_time": "2023-03-22T18:39:25.584382",
     "exception": false,
     "start_time": "2023-03-22T18:39:22.752094",
     "status": "completed"
    },
    "tags": []
   },
   "outputs": [],
   "source": [
    "tokenizer = AutoTokenizer.from_pretrained(\"j-hartmann/emotion-english-distilroberta-base\")\n",
    "\n",
    "model = AutoModelForSequenceClassification.from_pretrained(\"j-hartmann/emotion-english-distilroberta-base\", output_hidden_states = False)"
   ]
  },
  {
   "cell_type": "code",
   "execution_count": 26,
   "id": "7c056486",
   "metadata": {
    "execution": {
     "iopub.execute_input": "2023-03-22T18:39:25.606522Z",
     "iopub.status.busy": "2023-03-22T18:39:25.606207Z",
     "iopub.status.idle": "2023-03-22T18:39:25.611813Z",
     "shell.execute_reply": "2023-03-22T18:39:25.610873Z"
    },
    "papermill": {
     "duration": 0.017121,
     "end_time": "2023-03-22T18:39:25.613305",
     "exception": false,
     "start_time": "2023-03-22T18:39:25.596184",
     "status": "completed"
    },
    "tags": []
   },
   "outputs": [],
   "source": [
    "def get_logits(sentence, tokenizer, model, to_numpy=False):\n",
    "    inputs = tokenizer(sentence, return_tensors=\"pt\")\n",
    "    with torch.no_grad():\n",
    "        logits = model(**inputs).logits    \n",
    "    if to_numpy:\n",
    "        return logits[0].numpy()\n",
    "    else:\n",
    "        return logits"
   ]
  },
  {
   "cell_type": "code",
   "execution_count": 27,
   "id": "21d9fe49",
   "metadata": {
    "execution": {
     "iopub.execute_input": "2023-03-22T18:39:25.645326Z",
     "iopub.status.busy": "2023-03-22T18:39:25.644383Z",
     "iopub.status.idle": "2023-03-22T18:39:25.650963Z",
     "shell.execute_reply": "2023-03-22T18:39:25.649814Z"
    },
    "papermill": {
     "duration": 0.031663,
     "end_time": "2023-03-22T18:39:25.653948",
     "exception": false,
     "start_time": "2023-03-22T18:39:25.622285",
     "status": "completed"
    },
    "tags": []
   },
   "outputs": [],
   "source": [
    "def logits2label(logits, model):\n",
    "    predicted_class_id = logits.argmax().item()\n",
    "    label = model.config.id2label[predicted_class_id]\n",
    "    return label"
   ]
  },
  {
   "cell_type": "code",
   "execution_count": 28,
   "id": "7ecfada5",
   "metadata": {
    "execution": {
     "iopub.execute_input": "2023-03-22T18:39:25.678479Z",
     "iopub.status.busy": "2023-03-22T18:39:25.677977Z",
     "iopub.status.idle": "2023-03-22T18:39:25.684453Z",
     "shell.execute_reply": "2023-03-22T18:39:25.683351Z"
    },
    "papermill": {
     "duration": 0.022371,
     "end_time": "2023-03-22T18:39:25.687414",
     "exception": false,
     "start_time": "2023-03-22T18:39:25.665043",
     "status": "completed"
    },
    "tags": []
   },
   "outputs": [],
   "source": [
    "lyrics = [\"I'm burning with anger, my blood's boiling hot,\",\n",
    "          \"Disgusted by your lies, I wish I could rot,\",\n",
    "          \"The thought of what's to come, fills me with fear,\", \n",
    "          \"But I won't let it break me, I'll persevere.\",\n",
    "          \"Emotions numb, can't feel anything,\",\n",
    "          \"For joy awaits me, at the end of the road,\",\n",
    "          \"I'll keep moving forward, with a neutral code,\",\n",
    "          \"Though sadness lingers, deep in my heart,\",\n",
    "          \"Surprise is what I'll feel, when I reach the start.\"]"
   ]
  },
  {
   "cell_type": "code",
   "execution_count": 29,
   "id": "fe2513cd",
   "metadata": {
    "execution": {
     "iopub.execute_input": "2023-03-22T18:39:25.713811Z",
     "iopub.status.busy": "2023-03-22T18:39:25.713362Z",
     "iopub.status.idle": "2023-03-22T18:39:26.181380Z",
     "shell.execute_reply": "2023-03-22T18:39:26.180598Z"
    },
    "papermill": {
     "duration": 0.480686,
     "end_time": "2023-03-22T18:39:26.183825",
     "exception": false,
     "start_time": "2023-03-22T18:39:25.703139",
     "status": "completed"
    },
    "tags": []
   },
   "outputs": [],
   "source": [
    "logits_tensor = [get_logits(sentence, tokenizer=tokenizer, model=model) for sentence in lyrics]\n",
    "logits = np.array([lt[0].numpy() for lt in logits_tensor])\n",
    "labels = [logits2label(lt, model) for lt in logits_tensor]"
   ]
  },
  {
   "cell_type": "code",
   "execution_count": 30,
   "id": "2a754fc3",
   "metadata": {
    "execution": {
     "iopub.execute_input": "2023-03-22T18:39:26.208518Z",
     "iopub.status.busy": "2023-03-22T18:39:26.208116Z",
     "iopub.status.idle": "2023-03-22T18:39:26.214873Z",
     "shell.execute_reply": "2023-03-22T18:39:26.213917Z"
    },
    "papermill": {
     "duration": 0.020985,
     "end_time": "2023-03-22T18:39:26.216682",
     "exception": false,
     "start_time": "2023-03-22T18:39:26.195697",
     "status": "completed"
    },
    "tags": []
   },
   "outputs": [
    {
     "data": {
      "text/plain": [
       "['anger',\n",
       " 'disgust',\n",
       " 'fear',\n",
       " 'neutral',\n",
       " 'sadness',\n",
       " 'joy',\n",
       " 'neutral',\n",
       " 'sadness',\n",
       " 'surprise']"
      ]
     },
     "execution_count": 30,
     "metadata": {},
     "output_type": "execute_result"
    }
   ],
   "source": [
    "labels"
   ]
  },
  {
   "cell_type": "code",
   "execution_count": 31,
   "id": "bf0eebf6",
   "metadata": {
    "execution": {
     "iopub.execute_input": "2023-03-22T18:39:26.240869Z",
     "iopub.status.busy": "2023-03-22T18:39:26.240483Z",
     "iopub.status.idle": "2023-03-22T18:39:27.450718Z",
     "shell.execute_reply": "2023-03-22T18:39:27.449947Z"
    },
    "papermill": {
     "duration": 1.225228,
     "end_time": "2023-03-22T18:39:27.453047",
     "exception": false,
     "start_time": "2023-03-22T18:39:26.227819",
     "status": "completed"
    },
    "tags": []
   },
   "outputs": [],
   "source": [
    "eg_multi_ts = np.array([get_logits(verse, tokenizer=tokenizer, model=model, to_numpy=True) for verse in eg_lyrics])"
   ]
  },
  {
   "cell_type": "code",
   "execution_count": 32,
   "id": "5bb91f55",
   "metadata": {
    "execution": {
     "iopub.execute_input": "2023-03-22T18:39:27.475545Z",
     "iopub.status.busy": "2023-03-22T18:39:27.474859Z",
     "iopub.status.idle": "2023-03-22T18:39:28.689045Z",
     "shell.execute_reply": "2023-03-22T18:39:28.688314Z"
    },
    "papermill": {
     "duration": 1.227759,
     "end_time": "2023-03-22T18:39:28.691271",
     "exception": false,
     "start_time": "2023-03-22T18:39:27.463512",
     "status": "completed"
    },
    "tags": []
   },
   "outputs": [],
   "source": [
    "logits_tensor = [get_logits(verse, tokenizer=tokenizer, model=model) for verse in eg_lyrics]\n",
    "labels = [logits2label(lt, model=model) for lt in logits_tensor]"
   ]
  },
  {
   "cell_type": "code",
   "execution_count": 33,
   "id": "4eefc6ca",
   "metadata": {
    "execution": {
     "iopub.execute_input": "2023-03-22T18:39:28.715247Z",
     "iopub.status.busy": "2023-03-22T18:39:28.714798Z",
     "iopub.status.idle": "2023-03-22T18:39:29.091949Z",
     "shell.execute_reply": "2023-03-22T18:39:29.091145Z"
    },
    "papermill": {
     "duration": 0.392241,
     "end_time": "2023-03-22T18:39:29.094691",
     "exception": false,
     "start_time": "2023-03-22T18:39:28.702450",
     "status": "completed"
    },
    "tags": []
   },
   "outputs": [
    {
     "data": {
      "image/png": "[encoded data removed]",
      "text/plain": [
       "<Figure size 640x480 with 2 Axes>"
      ]
     },
     "metadata": {},
     "output_type": "display_data"
    }
   ],
   "source": [
    "fig, ax = plt.subplots()\n",
    "ax = sns.heatmap(eg_multi_ts.T)\n",
    "ax.set_xlabel('line')\n",
    "ax.set_ylabel('emotion logits')\n",
    "#ax.set_title('Multivariate time series')\n",
    "ax.set_xticklabels(labels, rotation=90)\n",
    "plt.savefig('../pgf/emotion_multi_ts.pgf', backend='pgf')"
   ]
  },
  {
   "cell_type": "code",
   "execution_count": 34,
   "id": "11707e92",
   "metadata": {
    "execution": {
     "iopub.execute_input": "2023-03-22T18:39:29.137301Z",
     "iopub.status.busy": "2023-03-22T18:39:29.136816Z",
     "iopub.status.idle": "2023-03-22T18:39:29.554028Z",
     "shell.execute_reply": "2023-03-22T18:39:29.553360Z"
    },
    "papermill": {
     "duration": 0.43479,
     "end_time": "2023-03-22T18:39:29.555955",
     "exception": false,
     "start_time": "2023-03-22T18:39:29.121165",
     "status": "completed"
    },
    "tags": []
   },
   "outputs": [],
   "source": [
    "eg_multi_ts = np.array([get_logits(verse, tokenizer=tokenizer, model=model, to_numpy=True) for verse in lyrics])"
   ]
  },
  {
   "cell_type": "code",
   "execution_count": 35,
   "id": "8fa290ac",
   "metadata": {
    "execution": {
     "iopub.execute_input": "2023-03-22T18:39:29.577133Z",
     "iopub.status.busy": "2023-03-22T18:39:29.576838Z",
     "iopub.status.idle": "2023-03-22T18:39:29.986434Z",
     "shell.execute_reply": "2023-03-22T18:39:29.985695Z"
    },
    "papermill": {
     "duration": 0.422776,
     "end_time": "2023-03-22T18:39:29.988866",
     "exception": false,
     "start_time": "2023-03-22T18:39:29.566090",
     "status": "completed"
    },
    "tags": []
   },
   "outputs": [],
   "source": [
    "logits_tensor = [get_logits(verse, tokenizer=tokenizer, model=model) for verse in lyrics]\n",
    "labels = [logits2label(lt, model=model) for lt in logits_tensor]"
   ]
  },
  {
   "cell_type": "code",
   "execution_count": 36,
   "id": "c98e0930",
   "metadata": {
    "execution": {
     "iopub.execute_input": "2023-03-22T18:39:30.011403Z",
     "iopub.status.busy": "2023-03-22T18:39:30.010968Z",
     "iopub.status.idle": "2023-03-22T18:39:30.018488Z",
     "shell.execute_reply": "2023-03-22T18:39:30.017526Z"
    },
    "papermill": {
     "duration": 0.02134,
     "end_time": "2023-03-22T18:39:30.020693",
     "exception": false,
     "start_time": "2023-03-22T18:39:29.999353",
     "status": "completed"
    },
    "tags": []
   },
   "outputs": [],
   "source": [
    "global_scaler = joblib.load('../models/gpca/emo_scaler.pkl')\n",
    "global_pca = joblib.load('../models/gpca/emo_pca.pkl')"
   ]
  },
  {
   "cell_type": "code",
   "execution_count": 37,
   "id": "41243c6e",
   "metadata": {
    "execution": {
     "iopub.execute_input": "2023-03-22T18:39:30.043774Z",
     "iopub.status.busy": "2023-03-22T18:39:30.043283Z",
     "iopub.status.idle": "2023-03-22T18:39:30.050852Z",
     "shell.execute_reply": "2023-03-22T18:39:30.049715Z"
    },
    "papermill": {
     "duration": 0.021748,
     "end_time": "2023-03-22T18:39:30.052973",
     "exception": false,
     "start_time": "2023-03-22T18:39:30.031225",
     "status": "completed"
    },
    "tags": []
   },
   "outputs": [],
   "source": [
    "pca_output = global_pca.transform(global_scaler.transform(eg_multi_ts))\n",
    "\n",
    "eg_uni_ts = np.array(list(\n",
    "    map(lambda unique_element: unique_element[0], pca_output)))"
   ]
  },
  {
   "cell_type": "code",
   "execution_count": 38,
   "id": "dad45fa0",
   "metadata": {
    "execution": {
     "iopub.execute_input": "2023-03-22T18:39:30.076266Z",
     "iopub.status.busy": "2023-03-22T18:39:30.075730Z",
     "iopub.status.idle": "2023-03-22T18:39:30.083213Z",
     "shell.execute_reply": "2023-03-22T18:39:30.082188Z"
    },
    "papermill": {
     "duration": 0.021583,
     "end_time": "2023-03-22T18:39:30.085286",
     "exception": false,
     "start_time": "2023-03-22T18:39:30.063703",
     "status": "completed"
    },
    "tags": []
   },
   "outputs": [],
   "source": [
    "color_map = {}\n",
    "for idx, label in enumerate(list(dict.fromkeys(labels))):    \n",
    "    # Map color excluding first color of the palette \n",
    "    color_map[label] = sns.color_palette()[idx+1]"
   ]
  },
  {
   "cell_type": "code",
   "execution_count": 39,
   "id": "b12a8b65",
   "metadata": {
    "execution": {
     "iopub.execute_input": "2023-03-22T18:39:30.108597Z",
     "iopub.status.busy": "2023-03-22T18:39:30.108080Z",
     "iopub.status.idle": "2023-03-22T18:39:30.565824Z",
     "shell.execute_reply": "2023-03-22T18:39:30.565114Z"
    },
    "papermill": {
     "duration": 0.471757,
     "end_time": "2023-03-22T18:39:30.568050",
     "exception": false,
     "start_time": "2023-03-22T18:39:30.096293",
     "status": "completed"
    },
    "tags": []
   },
   "outputs": [
    {
     "data": {
      "image/png": "[encoded data removed]",
      "text/plain": [
       "<Figure size 640x480 with 1 Axes>"
      ]
     },
     "metadata": {},
     "output_type": "display_data"
    }
   ],
   "source": [
    "fig, ax = plt.subplots()\n",
    "ax = plt.plot(eg_uni_ts)\n",
    "# Draw dots representing parts of the lyrics\n",
    "ax =  sns.scatterplot(y = eg_uni_ts,\n",
    "                      x = range(len(eg_uni_ts)),\n",
    "                      hue=labels, s=100,\n",
    "                      palette=color_map)\n",
    "ax.set_xlabel('line')\n",
    "#ax.set_title('Univariate time series')\n",
    "ax.set_xticks(range(len(eg_uni_ts)))\n",
    "ax.set_xticklabels(labels)\n",
    "#plt.legend(loc='upper left')\n",
    "plt.savefig('../pgf/emotion_uni_ts_gpca.pgf', backend='pgf')\n"
   ]
  },
  {
   "cell_type": "code",
   "execution_count": 40,
   "id": "65a525eb",
   "metadata": {
    "execution": {
     "iopub.execute_input": "2023-03-22T18:39:30.603856Z",
     "iopub.status.busy": "2023-03-22T18:39:30.603529Z",
     "iopub.status.idle": "2023-03-22T19:00:48.203477Z",
     "shell.execute_reply": "2023-03-22T19:00:48.201859Z"
    },
    "papermill": {
     "duration": 1277.626164,
     "end_time": "2023-03-22T19:00:48.207353",
     "exception": false,
     "start_time": "2023-03-22T18:39:30.581189",
     "status": "completed"
    },
    "tags": []
   },
   "outputs": [],
   "source": [
    "\"\"\"\n",
    "execution_times = []\n",
    "ts_data = {}\n",
    "for lyrics_type in ['lyrics', 'similar_lyrics', 'random_lyrics']:\n",
    "    ts_data[lyrics_type] = []\n",
    "    for lyr in df[lyrics_type]:\n",
    "        start_time = time.time()\n",
    "        multi_ts = np.array([get_logits(verse, tokenizer=tokenizer, \n",
    "                             model=model, to_numpy=True) for verse in lyr])\n",
    "        end_time = time.time()\n",
    "        execution_time = end_time - start_time\n",
    "        execution_times.append(execution_time)\n",
    "        scl_multi_ts = global_scaler.transform(multi_ts)\n",
    "        pca_output = global_pca.transform(scl_multi_ts)\n",
    "        emotion_ts = list(\n",
    "            map(lambda unique_element: unique_element[0], pca_output))        \n",
    "        ts_data[lyrics_type].append(emotion_ts)        \n",
    "ts_data = pd.DataFrame(ts_data)\n",
    "filename = f'../data/evaluation/time-series/emotion_ts.csv'\n",
    "ts_data.to_csv(filename, index=False)\n",
    "\"\"\""
   ]
  },
  {
   "cell_type": "code",
   "execution_count": 40,
   "id": "0a1ec3a5",
   "metadata": {
    "execution": {
     "iopub.execute_input": "2023-03-22T19:00:48.273237Z",
     "iopub.status.busy": "2023-03-22T19:00:48.272920Z",
     "iopub.status.idle": "2023-03-22T19:00:48.281035Z",
     "shell.execute_reply": "2023-03-22T19:00:48.279708Z"
    },
    "papermill": {
     "duration": 0.046256,
     "end_time": "2023-03-22T19:00:48.285717",
     "exception": false,
     "start_time": "2023-03-22T19:00:48.239461",
     "status": "completed"
    },
    "tags": []
   },
   "outputs": [
    {
     "data": {
      "text/plain": [
       "'\\nnp.mean(execution_times)\\n'"
      ]
     },
     "execution_count": 40,
     "metadata": {},
     "output_type": "execute_result"
    }
   ],
   "source": [
    "\"\"\"\n",
    "np.mean(execution_times)\n",
    "\"\"\""
   ]
  },
  {
   "cell_type": "raw",
   "id": "04bac7c9",
   "metadata": {
    "papermill": {
     "duration": 0.019631,
     "end_time": "2023-03-22T19:00:48.334867",
     "exception": false,
     "start_time": "2023-03-22T19:00:48.315236",
     "status": "completed"
    },
    "tags": []
   },
   "source": [
    "np.mean(execution_times)\n",
    "\n",
    "2.8386369434992473"
   ]
  },
  {
   "cell_type": "code",
   "execution_count": null,
   "id": "0cf1226e",
   "metadata": {},
   "outputs": [],
   "source": []
  }
 ],
 "metadata": {
  "kernelspec": {
   "display_name": "Python 3 (ipykernel)",
   "language": "python",
   "name": "python3"
  },
  "language_info": {
   "codemirror_mode": {
    "name": "ipython",
    "version": 3
   },
   "file_extension": ".py",
   "mimetype": "text/x-python",
   "name": "python",
   "nbconvert_exporter": "python",
   "pygments_lexer": "ipython3",
   "version": "3.9.16"
  },
  "papermill": {
   "default_parameters": {},
   "duration": 1314.859061,
   "end_time": "2023-03-22T19:00:51.077424",
   "environment_variables": {},
   "exception": null,
   "input_path": "06_sentiment_ts_generation.ipynb",
   "output_path": "06_sentiment_ts_generation.ipynb",
   "parameters": {},
   "start_time": "2023-03-22T18:38:56.218363",
   "version": "2.4.0"
  },
  "vscode": {
   "interpreter": {
    "hash": "eb8d1ded7c87c6f9c253b40add648304d6b51d2e38393955e855effc7e6f899a"
   }
  }
 },
 "nbformat": 4,
 "nbformat_minor": 5
}
