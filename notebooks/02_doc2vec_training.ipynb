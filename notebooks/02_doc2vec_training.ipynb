{
 "cells": [
  {
   "cell_type": "markdown",
   "id": "6e528373",
   "metadata": {
    "papermill": {
     "duration": 0.006578,
     "end_time": "2023-03-04T13:52:35.547142",
     "exception": false,
     "start_time": "2023-03-04T13:52:35.540564",
     "status": "completed"
    },
    "tags": []
   },
   "source": [
    "# Doc2Vec Model Training"
   ]
  },
  {
   "cell_type": "code",
   "execution_count": 1,
   "id": "65db735e",
   "metadata": {
    "execution": {
     "iopub.execute_input": "2023-03-04T13:52:35.561106Z",
     "iopub.status.busy": "2023-03-04T13:52:35.560553Z",
     "iopub.status.idle": "2023-03-04T13:52:36.967637Z",
     "shell.execute_reply": "2023-03-04T13:52:36.966698Z"
    },
    "papermill": {
     "duration": 1.416292,
     "end_time": "2023-03-04T13:52:36.969458",
     "exception": false,
     "start_time": "2023-03-04T13:52:35.553166",
     "status": "completed"
    },
    "tags": []
   },
   "outputs": [],
   "source": [
    "%matplotlib inline\n",
    "import pandas as pd\n",
    "import numpy as np\n",
    "import ast\n",
    "from nltk.corpus import stopwords\n",
    "from gensim.utils import tokenize\n",
    "from gensim.models.doc2vec import Doc2Vec, TaggedDocument"
   ]
  },
  {
   "cell_type": "code",
   "execution_count": 2,
   "id": "7b37dd7d",
   "metadata": {
    "execution": {
     "iopub.execute_input": "2023-03-04T13:52:36.977698Z",
     "iopub.status.busy": "2023-03-04T13:52:36.977204Z",
     "iopub.status.idle": "2023-03-04T13:52:37.541933Z",
     "shell.execute_reply": "2023-03-04T13:52:37.541065Z"
    },
    "papermill": {
     "duration": 0.571938,
     "end_time": "2023-03-04T13:52:37.544871",
     "exception": false,
     "start_time": "2023-03-04T13:52:36.972933",
     "status": "completed"
    },
    "tags": []
   },
   "outputs": [],
   "source": [
    "df = pd.read_csv('../data/lyrics.csv')"
   ]
  },
  {
   "cell_type": "code",
   "execution_count": 3,
   "id": "9bff5497",
   "metadata": {
    "execution": {
     "iopub.execute_input": "2023-03-04T13:52:37.557860Z",
     "iopub.status.busy": "2023-03-04T13:52:37.557558Z",
     "iopub.status.idle": "2023-03-04T13:52:37.569644Z",
     "shell.execute_reply": "2023-03-04T13:52:37.568565Z"
    },
    "papermill": {
     "duration": 0.022677,
     "end_time": "2023-03-04T13:52:37.573242",
     "exception": false,
     "start_time": "2023-03-04T13:52:37.550565",
     "status": "completed"
    },
    "tags": []
   },
   "outputs": [
    {
     "data": {
      "text/html": [
       "<div>\n",
       "<style scoped>\n",
       "    .dataframe tbody tr th:only-of-type {\n",
       "        vertical-align: middle;\n",
       "    }\n",
       "\n",
       "    .dataframe tbody tr th {\n",
       "        vertical-align: top;\n",
       "    }\n",
       "\n",
       "    .dataframe thead th {\n",
       "        text-align: right;\n",
       "    }\n",
       "</style>\n",
       "<table border=\"1\" class=\"dataframe\">\n",
       "  <thead>\n",
       "    <tr style=\"text-align: right;\">\n",
       "      <th></th>\n",
       "      <th>lyrics</th>\n",
       "      <th>genre</th>\n",
       "      <th>id</th>\n",
       "    </tr>\n",
       "  </thead>\n",
       "  <tbody>\n",
       "    <tr>\n",
       "      <th>0</th>\n",
       "      <td>['So long', 'My sweet love', 'I miss you', \"Mo...</td>\n",
       "      <td>pop</td>\n",
       "      <td>0</td>\n",
       "    </tr>\n",
       "    <tr>\n",
       "      <th>1</th>\n",
       "      <td>[\"It won't be long before I'm leaving here\", \"...</td>\n",
       "      <td>pop</td>\n",
       "      <td>1</td>\n",
       "    </tr>\n",
       "    <tr>\n",
       "      <th>2</th>\n",
       "      <td>['Are we crazy?', 'Living our lives through a ...</td>\n",
       "      <td>pop</td>\n",
       "      <td>2</td>\n",
       "    </tr>\n",
       "    <tr>\n",
       "      <th>3</th>\n",
       "      <td>['When did it go wrong, I will never know', 'I...</td>\n",
       "      <td>pop</td>\n",
       "      <td>3</td>\n",
       "    </tr>\n",
       "    <tr>\n",
       "      <th>4</th>\n",
       "      <td>[\"I've waited all this time\", 'Counting minute...</td>\n",
       "      <td>pop</td>\n",
       "      <td>4</td>\n",
       "    </tr>\n",
       "  </tbody>\n",
       "</table>\n",
       "</div>"
      ],
      "text/plain": [
       "                                              lyrics genre  id\n",
       "0  ['So long', 'My sweet love', 'I miss you', \"Mo...   pop   0\n",
       "1  [\"It won't be long before I'm leaving here\", \"...   pop   1\n",
       "2  ['Are we crazy?', 'Living our lives through a ...   pop   2\n",
       "3  ['When did it go wrong, I will never know', 'I...   pop   3\n",
       "4  [\"I've waited all this time\", 'Counting minute...   pop   4"
      ]
     },
     "execution_count": 3,
     "metadata": {},
     "output_type": "execute_result"
    }
   ],
   "source": [
    "df.head()"
   ]
  },
  {
   "cell_type": "code",
   "execution_count": 4,
   "id": "1fe2942e",
   "metadata": {
    "execution": {
     "iopub.execute_input": "2023-03-04T13:52:37.635816Z",
     "iopub.status.busy": "2023-03-04T13:52:37.635349Z",
     "iopub.status.idle": "2023-03-04T13:52:37.679257Z",
     "shell.execute_reply": "2023-03-04T13:52:37.678113Z"
    },
    "papermill": {
     "duration": 0.05355,
     "end_time": "2023-03-04T13:52:37.681304",
     "exception": false,
     "start_time": "2023-03-04T13:52:37.627754",
     "status": "completed"
    },
    "tags": []
   },
   "outputs": [
    {
     "name": "stdout",
     "output_type": "stream",
     "text": [
      "<class 'pandas.core.frame.DataFrame'>\n",
      "RangeIndex: 36000 entries, 0 to 35999\n",
      "Data columns (total 3 columns):\n",
      " #   Column  Non-Null Count  Dtype \n",
      "---  ------  --------------  ----- \n",
      " 0   lyrics  36000 non-null  object\n",
      " 1   genre   36000 non-null  object\n",
      " 2   id      36000 non-null  int64 \n",
      "dtypes: int64(1), object(2)\n",
      "memory usage: 843.9+ KB\n"
     ]
    }
   ],
   "source": [
    "df.info()"
   ]
  },
  {
   "cell_type": "code",
   "execution_count": 5,
   "id": "708ef208",
   "metadata": {
    "execution": {
     "iopub.execute_input": "2023-03-04T13:52:37.689597Z",
     "iopub.status.busy": "2023-03-04T13:52:37.688998Z",
     "iopub.status.idle": "2023-03-04T13:52:40.947582Z",
     "shell.execute_reply": "2023-03-04T13:52:40.946563Z"
    },
    "papermill": {
     "duration": 3.266155,
     "end_time": "2023-03-04T13:52:40.950677",
     "exception": false,
     "start_time": "2023-03-04T13:52:37.684522",
     "status": "completed"
    },
    "tags": []
   },
   "outputs": [],
   "source": [
    "df['lyrics'] = df['lyrics'].apply(ast.literal_eval)"
   ]
  },
  {
   "cell_type": "code",
   "execution_count": 6,
   "id": "7ef40c51",
   "metadata": {
    "execution": {
     "iopub.execute_input": "2023-03-04T13:52:40.965084Z",
     "iopub.status.busy": "2023-03-04T13:52:40.964750Z",
     "iopub.status.idle": "2023-03-04T13:52:40.989771Z",
     "shell.execute_reply": "2023-03-04T13:52:40.988792Z"
    },
    "papermill": {
     "duration": 0.035546,
     "end_time": "2023-03-04T13:52:40.992493",
     "exception": false,
     "start_time": "2023-03-04T13:52:40.956947",
     "status": "completed"
    },
    "tags": []
   },
   "outputs": [],
   "source": [
    "idxs_eval = pd.read_csv('../data/evaluation/lyrics_eval.csv')['id']\n",
    "df = df.drop(idxs_eval)\n",
    "df = df.reset_index()"
   ]
  },
  {
   "cell_type": "code",
   "execution_count": 7,
   "id": "1a10eef2",
   "metadata": {
    "execution": {
     "iopub.execute_input": "2023-03-04T13:52:41.005900Z",
     "iopub.status.busy": "2023-03-04T13:52:41.005587Z",
     "iopub.status.idle": "2023-03-04T13:52:41.087947Z",
     "shell.execute_reply": "2023-03-04T13:52:41.087048Z"
    },
    "papermill": {
     "duration": 0.092398,
     "end_time": "2023-03-04T13:52:41.090675",
     "exception": false,
     "start_time": "2023-03-04T13:52:40.998277",
     "status": "completed"
    },
    "tags": []
   },
   "outputs": [],
   "source": [
    "verses = [verse for lyrics in df['lyrics'] for verse in lyrics]"
   ]
  },
  {
   "cell_type": "code",
   "execution_count": 8,
   "id": "4e67e205",
   "metadata": {
    "execution": {
     "iopub.execute_input": "2023-03-04T13:52:41.104854Z",
     "iopub.status.busy": "2023-03-04T13:52:41.104535Z",
     "iopub.status.idle": "2023-03-04T13:52:56.225789Z",
     "shell.execute_reply": "2023-03-04T13:52:56.224752Z"
    },
    "papermill": {
     "duration": 15.131942,
     "end_time": "2023-03-04T13:52:56.228847",
     "exception": false,
     "start_time": "2023-03-04T13:52:41.096905",
     "status": "completed"
    },
    "tags": []
   },
   "outputs": [],
   "source": [
    "tokenized_verses = [list(tokenize(verse, lowercase=True)) for verse in verses]"
   ]
  },
  {
   "cell_type": "code",
   "execution_count": 9,
   "id": "32149e05",
   "metadata": {
    "execution": {
     "iopub.execute_input": "2023-03-04T13:52:56.243112Z",
     "iopub.status.busy": "2023-03-04T13:52:56.242811Z",
     "iopub.status.idle": "2023-03-04T13:53:03.881306Z",
     "shell.execute_reply": "2023-03-04T13:53:03.880417Z"
    },
    "papermill": {
     "duration": 7.648349,
     "end_time": "2023-03-04T13:53:03.883684",
     "exception": false,
     "start_time": "2023-03-04T13:52:56.235335",
     "status": "completed"
    },
    "tags": []
   },
   "outputs": [],
   "source": [
    "documents = [TaggedDocument(verse, [i]) for i, verse in enumerate(tokenized_verses)]"
   ]
  },
  {
   "cell_type": "code",
   "execution_count": 10,
   "id": "897a96d5",
   "metadata": {
    "execution": {
     "iopub.execute_input": "2023-03-04T13:53:03.892188Z",
     "iopub.status.busy": "2023-03-04T13:53:03.891887Z",
     "iopub.status.idle": "2023-03-04T14:48:28.859741Z",
     "shell.execute_reply": "2023-03-04T14:48:28.857742Z"
    },
    "papermill": {
     "duration": 3324.982281,
     "end_time": "2023-03-04T14:48:28.869604",
     "exception": false,
     "start_time": "2023-03-04T13:53:03.887323",
     "status": "completed"
    },
    "tags": []
   },
   "outputs": [
    {
     "name": "stdout",
     "output_type": "stream",
     "text": [
      "CPU times: user 1h 4min 26s, sys: 10min 52s, total: 1h 15min 19s\n",
      "Wall time: 55min 24s\n"
     ]
    }
   ],
   "source": [
    "%%time\n",
    "model = Doc2Vec(min_count=2, epochs=20, vector_size=100)\n",
    "\n",
    "model.build_vocab(documents)\n",
    "\n",
    "model.train(documents, total_examples=model.corpus_count, epochs=model.epochs)\n",
    "\n",
    "model.save('../models/d2v/doc2vec.model')\n"
   ]
  },
  {
   "cell_type": "code",
   "execution_count": null,
   "id": "c9599dc6",
   "metadata": {
    "papermill": {
     "duration": 0.006549,
     "end_time": "2023-03-04T14:48:28.883320",
     "exception": false,
     "start_time": "2023-03-04T14:48:28.876771",
     "status": "completed"
    },
    "tags": []
   },
   "outputs": [],
   "source": []
  }
 ],
 "metadata": {
  "kernelspec": {
   "display_name": "Python 3 (ipykernel)",
   "language": "python",
   "name": "python3"
  },
  "language_info": {
   "codemirror_mode": {
    "name": "ipython",
    "version": 3
   },
   "file_extension": ".py",
   "mimetype": "text/x-python",
   "name": "python",
   "nbconvert_exporter": "python",
   "pygments_lexer": "ipython3",
   "version": "3.9.16"
  },
  "papermill": {
   "default_parameters": {},
   "duration": 3357.197939,
   "end_time": "2023-03-04T14:48:31.558063",
   "environment_variables": {},
   "exception": null,
   "input_path": "02_doc2vec_training.ipynb",
   "output_path": "02_doc2vec_training.ipynb",
   "parameters": {},
   "start_time": "2023-03-04T13:52:34.360124",
   "version": "2.4.0"
  },
  "vscode": {
   "interpreter": {
    "hash": "eb8d1ded7c87c6f9c253b40add648304d6b51d2e38393955e855effc7e6f899a"
   }
  }
 },
 "nbformat": 4,
 "nbformat_minor": 5
}