{
 "cells": [
  {
   "cell_type": "markdown",
   "id": "6e528373",
   "metadata": {
    "papermill": {
     "duration": 0.0107,
     "end_time": "2023-03-14T20:27:28.984992",
     "exception": false,
     "start_time": "2023-03-14T20:27:28.974292",
     "status": "completed"
    },
    "tags": []
   },
   "source": [
    "# Doc2Vec Model Training"
   ]
  },
  {
   "cell_type": "code",
   "execution_count": 1,
   "id": "65db735e",
   "metadata": {
    "execution": {
     "iopub.execute_input": "2023-03-14T20:27:29.001149Z",
     "iopub.status.busy": "2023-03-14T20:27:29.000748Z",
     "iopub.status.idle": "2023-03-14T20:27:30.748710Z",
     "shell.execute_reply": "2023-03-14T20:27:30.747881Z"
    },
    "papermill": {
     "duration": 1.759267,
     "end_time": "2023-03-14T20:27:30.751872",
     "exception": false,
     "start_time": "2023-03-14T20:27:28.992605",
     "status": "completed"
    },
    "tags": []
   },
   "outputs": [],
   "source": [
    "%matplotlib inline\n",
    "import pandas as pd\n",
    "import numpy as np\n",
    "import ast\n",
    "from nltk.corpus import stopwords\n",
    "from gensim.utils import tokenize\n",
    "from gensim.models.doc2vec import Doc2Vec, TaggedDocument"
   ]
  },
  {
   "cell_type": "code",
   "execution_count": 2,
   "id": "7b37dd7d",
   "metadata": {
    "execution": {
     "iopub.execute_input": "2023-03-14T20:27:30.819279Z",
     "iopub.status.busy": "2023-03-14T20:27:30.817318Z",
     "iopub.status.idle": "2023-03-14T20:27:31.521303Z",
     "shell.execute_reply": "2023-03-14T20:27:31.520632Z"
    },
    "papermill": {
     "duration": 0.714946,
     "end_time": "2023-03-14T20:27:31.524617",
     "exception": false,
     "start_time": "2023-03-14T20:27:30.809671",
     "status": "completed"
    },
    "tags": []
   },
   "outputs": [],
   "source": [
    "df = pd.read_csv('../data/lyrics.csv')"
   ]
  },
  {
   "cell_type": "code",
   "execution_count": 3,
   "id": "9bff5497",
   "metadata": {
    "execution": {
     "iopub.execute_input": "2023-03-14T20:27:31.539625Z",
     "iopub.status.busy": "2023-03-14T20:27:31.539308Z",
     "iopub.status.idle": "2023-03-14T20:27:31.552492Z",
     "shell.execute_reply": "2023-03-14T20:27:31.551667Z"
    },
    "papermill": {
     "duration": 0.024288,
     "end_time": "2023-03-14T20:27:31.555880",
     "exception": false,
     "start_time": "2023-03-14T20:27:31.531592",
     "status": "completed"
    },
    "tags": []
   },
   "outputs": [
    {
     "data": {
      "text/html": [
       "<div>\n",
       "<style scoped>\n",
       "    .dataframe tbody tr th:only-of-type {\n",
       "        vertical-align: middle;\n",
       "    }\n",
       "\n",
       "    .dataframe tbody tr th {\n",
       "        vertical-align: top;\n",
       "    }\n",
       "\n",
       "    .dataframe thead th {\n",
       "        text-align: right;\n",
       "    }\n",
       "</style>\n",
       "<table border=\"1\" class=\"dataframe\">\n",
       "  <thead>\n",
       "    <tr style=\"text-align: right;\">\n",
       "      <th></th>\n",
       "      <th>lyrics</th>\n",
       "      <th>genre</th>\n",
       "      <th>id</th>\n",
       "    </tr>\n",
       "  </thead>\n",
       "  <tbody>\n",
       "    <tr>\n",
       "      <th>0</th>\n",
       "      <td>['So long', 'My sweet love', 'I miss you', \"Mo...</td>\n",
       "      <td>pop</td>\n",
       "      <td>0</td>\n",
       "    </tr>\n",
       "    <tr>\n",
       "      <th>1</th>\n",
       "      <td>[\"It won't be long before I'm leaving here\", \"...</td>\n",
       "      <td>pop</td>\n",
       "      <td>1</td>\n",
       "    </tr>\n",
       "    <tr>\n",
       "      <th>2</th>\n",
       "      <td>['Are we crazy?', 'Living our lives through a ...</td>\n",
       "      <td>pop</td>\n",
       "      <td>2</td>\n",
       "    </tr>\n",
       "    <tr>\n",
       "      <th>3</th>\n",
       "      <td>['When did it go wrong, I will never know', 'I...</td>\n",
       "      <td>pop</td>\n",
       "      <td>3</td>\n",
       "    </tr>\n",
       "    <tr>\n",
       "      <th>4</th>\n",
       "      <td>[\"I've waited all this time\", 'Counting minute...</td>\n",
       "      <td>pop</td>\n",
       "      <td>4</td>\n",
       "    </tr>\n",
       "  </tbody>\n",
       "</table>\n",
       "</div>"
      ],
      "text/plain": [
       "                                              lyrics genre  id\n",
       "0  ['So long', 'My sweet love', 'I miss you', \"Mo...   pop   0\n",
       "1  [\"It won't be long before I'm leaving here\", \"...   pop   1\n",
       "2  ['Are we crazy?', 'Living our lives through a ...   pop   2\n",
       "3  ['When did it go wrong, I will never know', 'I...   pop   3\n",
       "4  [\"I've waited all this time\", 'Counting minute...   pop   4"
      ]
     },
     "execution_count": 3,
     "metadata": {},
     "output_type": "execute_result"
    }
   ],
   "source": [
    "df.head()"
   ]
  },
  {
   "cell_type": "code",
   "execution_count": 4,
   "id": "1fe2942e",
   "metadata": {
    "execution": {
     "iopub.execute_input": "2023-03-14T20:27:31.566163Z",
     "iopub.status.busy": "2023-03-14T20:27:31.565058Z",
     "iopub.status.idle": "2023-03-14T20:27:31.605854Z",
     "shell.execute_reply": "2023-03-14T20:27:31.604979Z"
    },
    "papermill": {
     "duration": 0.04881,
     "end_time": "2023-03-14T20:27:31.609169",
     "exception": false,
     "start_time": "2023-03-14T20:27:31.560359",
     "status": "completed"
    },
    "tags": []
   },
   "outputs": [
    {
     "name": "stdout",
     "output_type": "stream",
     "text": [
      "<class 'pandas.core.frame.DataFrame'>\n",
      "RangeIndex: 36000 entries, 0 to 35999\n",
      "Data columns (total 3 columns):\n",
      " #   Column  Non-Null Count  Dtype \n",
      "---  ------  --------------  ----- \n",
      " 0   lyrics  36000 non-null  object\n",
      " 1   genre   36000 non-null  object\n",
      " 2   id      36000 non-null  int64 \n",
      "dtypes: int64(1), object(2)\n",
      "memory usage: 843.9+ KB\n"
     ]
    }
   ],
   "source": [
    "df.info()"
   ]
  },
  {
   "cell_type": "code",
   "execution_count": 5,
   "id": "708ef208",
   "metadata": {
    "execution": {
     "iopub.execute_input": "2023-03-14T20:27:31.625354Z",
     "iopub.status.busy": "2023-03-14T20:27:31.624416Z",
     "iopub.status.idle": "2023-03-14T20:27:35.122291Z",
     "shell.execute_reply": "2023-03-14T20:27:35.121280Z"
    },
    "papermill": {
     "duration": 3.509235,
     "end_time": "2023-03-14T20:27:35.125420",
     "exception": false,
     "start_time": "2023-03-14T20:27:31.616185",
     "status": "completed"
    },
    "tags": []
   },
   "outputs": [],
   "source": [
    "df['lyrics'] = df['lyrics'].apply(ast.literal_eval)"
   ]
  },
  {
   "cell_type": "code",
   "execution_count": 6,
   "id": "7ef40c51",
   "metadata": {
    "execution": {
     "iopub.execute_input": "2023-03-14T20:27:35.141088Z",
     "iopub.status.busy": "2023-03-14T20:27:35.140420Z",
     "iopub.status.idle": "2023-03-14T20:27:35.170445Z",
     "shell.execute_reply": "2023-03-14T20:27:35.169493Z"
    },
    "papermill": {
     "duration": 0.041256,
     "end_time": "2023-03-14T20:27:35.173484",
     "exception": false,
     "start_time": "2023-03-14T20:27:35.132228",
     "status": "completed"
    },
    "tags": []
   },
   "outputs": [],
   "source": [
    "idxs_eval = pd.read_csv('../data/evaluation/lyrics_eval.csv')['id']\n",
    "df = df.drop(idxs_eval)\n",
    "df = df.reset_index()"
   ]
  },
  {
   "cell_type": "code",
   "execution_count": 7,
   "id": "1a10eef2",
   "metadata": {
    "execution": {
     "iopub.execute_input": "2023-03-14T20:27:35.183055Z",
     "iopub.status.busy": "2023-03-14T20:27:35.182688Z",
     "iopub.status.idle": "2023-03-14T20:27:35.274734Z",
     "shell.execute_reply": "2023-03-14T20:27:35.273962Z"
    },
    "papermill": {
     "duration": 0.099117,
     "end_time": "2023-03-14T20:27:35.277094",
     "exception": false,
     "start_time": "2023-03-14T20:27:35.177977",
     "status": "completed"
    },
    "tags": []
   },
   "outputs": [
    {
     "data": {
      "text/plain": [
       "1828701"
      ]
     },
     "execution_count": 7,
     "metadata": {},
     "output_type": "execute_result"
    }
   ],
   "source": [
    "verses = [verse for lyrics in df['lyrics'] for verse in lyrics]\n",
    "len(verses)"
   ]
  },
  {
   "cell_type": "code",
   "execution_count": 8,
   "id": "4e67e205",
   "metadata": {
    "execution": {
     "iopub.execute_input": "2023-03-14T20:27:35.287808Z",
     "iopub.status.busy": "2023-03-14T20:27:35.287484Z",
     "iopub.status.idle": "2023-03-14T20:27:52.946312Z",
     "shell.execute_reply": "2023-03-14T20:27:52.945458Z"
    },
    "papermill": {
     "duration": 17.667765,
     "end_time": "2023-03-14T20:27:52.948752",
     "exception": false,
     "start_time": "2023-03-14T20:27:35.280987",
     "status": "completed"
    },
    "tags": []
   },
   "outputs": [],
   "source": [
    "tokenized_verses = [list(tokenize(verse, lowercase=True)) for verse in verses]"
   ]
  },
  {
   "cell_type": "code",
   "execution_count": 9,
   "id": "8e51cdb7",
   "metadata": {},
   "outputs": [
    {
     "data": {
      "text/plain": [
       "6.986738674064267"
      ]
     },
     "execution_count": 9,
     "metadata": {},
     "output_type": "execute_result"
    }
   ],
   "source": [
    "np.mean([len(tv) for tv in tokenized_verses])"
   ]
  },
  {
   "cell_type": "code",
   "execution_count": 10,
   "id": "3df0322d",
   "metadata": {},
   "outputs": [
    {
     "data": {
      "text/plain": [
       "2.9800500074973097"
      ]
     },
     "execution_count": 10,
     "metadata": {},
     "output_type": "execute_result"
    }
   ],
   "source": [
    "np.std([len(tv) for tv in tokenized_verses])"
   ]
  },
  {
   "cell_type": "code",
   "execution_count": 11,
   "id": "32149e05",
   "metadata": {
    "execution": {
     "iopub.execute_input": "2023-03-14T20:27:52.957886Z",
     "iopub.status.busy": "2023-03-14T20:27:52.957514Z",
     "iopub.status.idle": "2023-03-14T20:28:01.497593Z",
     "shell.execute_reply": "2023-03-14T20:28:01.496737Z"
    },
    "papermill": {
     "duration": 8.547906,
     "end_time": "2023-03-14T20:28:01.500824",
     "exception": false,
     "start_time": "2023-03-14T20:27:52.952918",
     "status": "completed"
    },
    "tags": []
   },
   "outputs": [],
   "source": [
    "documents = [TaggedDocument(verse, [i]) for i, verse in enumerate(tokenized_verses)]"
   ]
  },
  {
   "cell_type": "code",
   "execution_count": 12,
   "id": "897a96d5",
   "metadata": {
    "execution": {
     "iopub.execute_input": "2023-03-14T20:28:01.513915Z",
     "iopub.status.busy": "2023-03-14T20:28:01.513609Z",
     "iopub.status.idle": "2023-03-14T21:15:44.123139Z",
     "shell.execute_reply": "2023-03-14T21:15:44.115347Z"
    },
    "papermill": {
     "duration": 2862.640254,
     "end_time": "2023-03-14T21:15:44.147094",
     "exception": false,
     "start_time": "2023-03-14T20:28:01.506840",
     "status": "completed"
    },
    "tags": []
   },
   "outputs": [
    {
     "data": {
      "text/plain": [
       "\"\\n%%time\\nmodel = Doc2Vec(min_count=2, epochs=20, vector_size=100)\\n\\nmodel.build_vocab(documents)\\n\\nmodel.train(documents, total_examples=model.corpus_count, epochs=model.epochs)\\n\\nmodel.save('../models/d2v/doc2vec.model')\\n\""
      ]
     },
     "execution_count": 12,
     "metadata": {},
     "output_type": "execute_result"
    }
   ],
   "source": [
    "\"\"\"\n",
    "%%time\n",
    "model = Doc2Vec(min_count=2, epochs=20, vector_size=100)\n",
    "\n",
    "model.build_vocab(documents)\n",
    "\n",
    "model.train(documents, total_examples=model.corpus_count, epochs=model.epochs)\n",
    "\n",
    "model.save('../models/d2v/doc2vec.model')\n",
    "\"\"\""
   ]
  },
  {
   "cell_type": "raw",
   "id": "b8d8654c",
   "metadata": {
    "papermill": {
     "duration": 0.003437,
     "end_time": "2023-03-14T21:15:44.154428",
     "exception": false,
     "start_time": "2023-03-14T21:15:44.150991",
     "status": "completed"
    },
    "tags": []
   },
   "source": [
    "CPU times: user 55min 43s, sys: 9min 47s, total: 1h 5min 30s\n",
    "Wall time: 47min 42s"
   ]
  }
 ],
 "metadata": {
  "kernelspec": {
   "display_name": "Python 3 (ipykernel)",
   "language": "python",
   "name": "python3"
  },
  "language_info": {
   "codemirror_mode": {
    "name": "ipython",
    "version": 3
   },
   "file_extension": ".py",
   "mimetype": "text/x-python",
   "name": "python",
   "nbconvert_exporter": "python",
   "pygments_lexer": "ipython3",
   "version": "3.9.16"
  },
  "papermill": {
   "default_parameters": {},
   "duration": 2899.182084,
   "end_time": "2023-03-14T21:15:46.936144",
   "environment_variables": {},
   "exception": null,
   "input_path": "02_doc2vec_training.ipynb",
   "output_path": "02_doc2vec_training.ipynb",
   "parameters": {},
   "start_time": "2023-03-14T20:27:27.754060",
   "version": "2.4.0"
  },
  "vscode": {
   "interpreter": {
    "hash": "eb8d1ded7c87c6f9c253b40add648304d6b51d2e38393955e855effc7e6f899a"
   }
  }
 },
 "nbformat": 4,
 "nbformat_minor": 5
}
