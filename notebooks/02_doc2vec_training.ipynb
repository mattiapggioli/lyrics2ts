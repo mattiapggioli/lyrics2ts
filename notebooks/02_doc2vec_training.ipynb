{
 "cells": [
  {
   "cell_type": "markdown",
   "id": "6e528373",
   "metadata": {
    "papermill": {
     "duration": 0.006507,
     "end_time": "2023-03-06T10:56:50.331422",
     "exception": false,
     "start_time": "2023-03-06T10:56:50.324915",
     "status": "completed"
    },
    "tags": []
   },
   "source": [
    "# Doc2Vec Model Training"
   ]
  },
  {
   "cell_type": "code",
   "execution_count": 1,
   "id": "65db735e",
   "metadata": {
    "execution": {
     "iopub.execute_input": "2023-03-06T10:56:50.345162Z",
     "iopub.status.busy": "2023-03-06T10:56:50.344593Z",
     "iopub.status.idle": "2023-03-06T10:56:51.863044Z",
     "shell.execute_reply": "2023-03-06T10:56:51.862111Z"
    },
    "papermill": {
     "duration": 1.529003,
     "end_time": "2023-03-06T10:56:51.866301",
     "exception": false,
     "start_time": "2023-03-06T10:56:50.337298",
     "status": "completed"
    },
    "tags": []
   },
   "outputs": [],
   "source": [
    "%matplotlib inline\n",
    "import pandas as pd\n",
    "import numpy as np\n",
    "import ast\n",
    "from nltk.corpus import stopwords\n",
    "from gensim.utils import tokenize\n",
    "from gensim.models.doc2vec import Doc2Vec, TaggedDocument"
   ]
  },
  {
   "cell_type": "code",
   "execution_count": 2,
   "id": "7b37dd7d",
   "metadata": {
    "execution": {
     "iopub.execute_input": "2023-03-06T10:56:51.882177Z",
     "iopub.status.busy": "2023-03-06T10:56:51.881620Z",
     "iopub.status.idle": "2023-03-06T10:56:52.499303Z",
     "shell.execute_reply": "2023-03-06T10:56:52.498642Z"
    },
    "papermill": {
     "duration": 0.628217,
     "end_time": "2023-03-06T10:56:52.502430",
     "exception": false,
     "start_time": "2023-03-06T10:56:51.874213",
     "status": "completed"
    },
    "tags": []
   },
   "outputs": [],
   "source": [
    "df = pd.read_csv('../data/lyrics.csv')"
   ]
  },
  {
   "cell_type": "code",
   "execution_count": 3,
   "id": "9bff5497",
   "metadata": {
    "execution": {
     "iopub.execute_input": "2023-03-06T10:56:52.515923Z",
     "iopub.status.busy": "2023-03-06T10:56:52.515610Z",
     "iopub.status.idle": "2023-03-06T10:56:52.527107Z",
     "shell.execute_reply": "2023-03-06T10:56:52.526379Z"
    },
    "papermill": {
     "duration": 0.022941,
     "end_time": "2023-03-06T10:56:52.530993",
     "exception": false,
     "start_time": "2023-03-06T10:56:52.508052",
     "status": "completed"
    },
    "tags": []
   },
   "outputs": [
    {
     "data": {
      "text/html": [
       "<div>\n",
       "<style scoped>\n",
       "    .dataframe tbody tr th:only-of-type {\n",
       "        vertical-align: middle;\n",
       "    }\n",
       "\n",
       "    .dataframe tbody tr th {\n",
       "        vertical-align: top;\n",
       "    }\n",
       "\n",
       "    .dataframe thead th {\n",
       "        text-align: right;\n",
       "    }\n",
       "</style>\n",
       "<table border=\"1\" class=\"dataframe\">\n",
       "  <thead>\n",
       "    <tr style=\"text-align: right;\">\n",
       "      <th></th>\n",
       "      <th>lyrics</th>\n",
       "      <th>genre</th>\n",
       "      <th>id</th>\n",
       "    </tr>\n",
       "  </thead>\n",
       "  <tbody>\n",
       "    <tr>\n",
       "      <th>0</th>\n",
       "      <td>['So long', 'My sweet love', 'I miss you', \"Mo...</td>\n",
       "      <td>pop</td>\n",
       "      <td>0</td>\n",
       "    </tr>\n",
       "    <tr>\n",
       "      <th>1</th>\n",
       "      <td>[\"It won't be long before I'm leaving here\", \"...</td>\n",
       "      <td>pop</td>\n",
       "      <td>1</td>\n",
       "    </tr>\n",
       "    <tr>\n",
       "      <th>2</th>\n",
       "      <td>['Are we crazy?', 'Living our lives through a ...</td>\n",
       "      <td>pop</td>\n",
       "      <td>2</td>\n",
       "    </tr>\n",
       "    <tr>\n",
       "      <th>3</th>\n",
       "      <td>['When did it go wrong, I will never know', 'I...</td>\n",
       "      <td>pop</td>\n",
       "      <td>3</td>\n",
       "    </tr>\n",
       "    <tr>\n",
       "      <th>4</th>\n",
       "      <td>[\"I've waited all this time\", 'Counting minute...</td>\n",
       "      <td>pop</td>\n",
       "      <td>4</td>\n",
       "    </tr>\n",
       "  </tbody>\n",
       "</table>\n",
       "</div>"
      ],
      "text/plain": [
       "                                              lyrics genre  id\n",
       "0  ['So long', 'My sweet love', 'I miss you', \"Mo...   pop   0\n",
       "1  [\"It won't be long before I'm leaving here\", \"...   pop   1\n",
       "2  ['Are we crazy?', 'Living our lives through a ...   pop   2\n",
       "3  ['When did it go wrong, I will never know', 'I...   pop   3\n",
       "4  [\"I've waited all this time\", 'Counting minute...   pop   4"
      ]
     },
     "execution_count": 3,
     "metadata": {},
     "output_type": "execute_result"
    }
   ],
   "source": [
    "df.head()"
   ]
  },
  {
   "cell_type": "code",
   "execution_count": 4,
   "id": "1fe2942e",
   "metadata": {
    "execution": {
     "iopub.execute_input": "2023-03-06T10:56:52.593901Z",
     "iopub.status.busy": "2023-03-06T10:56:52.593507Z",
     "iopub.status.idle": "2023-03-06T10:56:52.639489Z",
     "shell.execute_reply": "2023-03-06T10:56:52.637992Z"
    },
    "papermill": {
     "duration": 0.056822,
     "end_time": "2023-03-06T10:56:52.642797",
     "exception": false,
     "start_time": "2023-03-06T10:56:52.585975",
     "status": "completed"
    },
    "tags": []
   },
   "outputs": [
    {
     "name": "stdout",
     "output_type": "stream",
     "text": [
      "<class 'pandas.core.frame.DataFrame'>\n",
      "RangeIndex: 36000 entries, 0 to 35999\n",
      "Data columns (total 3 columns):\n",
      " #   Column  Non-Null Count  Dtype \n",
      "---  ------  --------------  ----- \n",
      " 0   lyrics  36000 non-null  object\n",
      " 1   genre   36000 non-null  object\n",
      " 2   id      36000 non-null  int64 \n",
      "dtypes: int64(1), object(2)\n",
      "memory usage: 843.9+ KB\n"
     ]
    }
   ],
   "source": [
    "df.info()"
   ]
  },
  {
   "cell_type": "code",
   "execution_count": 5,
   "id": "708ef208",
   "metadata": {
    "execution": {
     "iopub.execute_input": "2023-03-06T10:56:52.657055Z",
     "iopub.status.busy": "2023-03-06T10:56:52.656456Z",
     "iopub.status.idle": "2023-03-06T10:56:55.905276Z",
     "shell.execute_reply": "2023-03-06T10:56:55.904513Z"
    },
    "papermill": {
     "duration": 3.259475,
     "end_time": "2023-03-06T10:56:55.908373",
     "exception": false,
     "start_time": "2023-03-06T10:56:52.648898",
     "status": "completed"
    },
    "tags": []
   },
   "outputs": [],
   "source": [
    "df['lyrics'] = df['lyrics'].apply(ast.literal_eval)"
   ]
  },
  {
   "cell_type": "code",
   "execution_count": 6,
   "id": "7ef40c51",
   "metadata": {
    "execution": {
     "iopub.execute_input": "2023-03-06T10:56:55.922854Z",
     "iopub.status.busy": "2023-03-06T10:56:55.922525Z",
     "iopub.status.idle": "2023-03-06T10:56:55.946641Z",
     "shell.execute_reply": "2023-03-06T10:56:55.945965Z"
    },
    "papermill": {
     "duration": 0.034774,
     "end_time": "2023-03-06T10:56:55.949431",
     "exception": false,
     "start_time": "2023-03-06T10:56:55.914657",
     "status": "completed"
    },
    "tags": []
   },
   "outputs": [],
   "source": [
    "idxs_eval = pd.read_csv('../data/evaluation/lyrics_eval.csv')['id']\n",
    "df = df.drop(idxs_eval)\n",
    "df = df.reset_index()"
   ]
  },
  {
   "cell_type": "code",
   "execution_count": 7,
   "id": "1a10eef2",
   "metadata": {
    "execution": {
     "iopub.execute_input": "2023-03-06T10:56:55.962780Z",
     "iopub.status.busy": "2023-03-06T10:56:55.962466Z",
     "iopub.status.idle": "2023-03-06T10:56:56.038889Z",
     "shell.execute_reply": "2023-03-06T10:56:56.038242Z"
    },
    "papermill": {
     "duration": 0.0864,
     "end_time": "2023-03-06T10:56:56.041569",
     "exception": false,
     "start_time": "2023-03-06T10:56:55.955169",
     "status": "completed"
    },
    "tags": []
   },
   "outputs": [],
   "source": [
    "verses = [verse for lyrics in df['lyrics'] for verse in lyrics]"
   ]
  },
  {
   "cell_type": "code",
   "execution_count": 8,
   "id": "4e67e205",
   "metadata": {
    "execution": {
     "iopub.execute_input": "2023-03-06T10:56:56.055432Z",
     "iopub.status.busy": "2023-03-06T10:56:56.055131Z",
     "iopub.status.idle": "2023-03-06T10:57:10.924083Z",
     "shell.execute_reply": "2023-03-06T10:57:10.923399Z"
    },
    "papermill": {
     "duration": 14.879567,
     "end_time": "2023-03-06T10:57:10.927128",
     "exception": false,
     "start_time": "2023-03-06T10:56:56.047561",
     "status": "completed"
    },
    "tags": []
   },
   "outputs": [],
   "source": [
    "tokenized_verses = [list(tokenize(verse, lowercase=True)) for verse in verses]"
   ]
  },
  {
   "cell_type": "code",
   "execution_count": 9,
   "id": "32149e05",
   "metadata": {
    "execution": {
     "iopub.execute_input": "2023-03-06T10:57:10.941337Z",
     "iopub.status.busy": "2023-03-06T10:57:10.941032Z",
     "iopub.status.idle": "2023-03-06T10:57:18.591007Z",
     "shell.execute_reply": "2023-03-06T10:57:18.590363Z"
    },
    "papermill": {
     "duration": 7.660718,
     "end_time": "2023-03-06T10:57:18.594010",
     "exception": false,
     "start_time": "2023-03-06T10:57:10.933292",
     "status": "completed"
    },
    "tags": []
   },
   "outputs": [],
   "source": [
    "documents = [TaggedDocument(verse, [i]) for i, verse in enumerate(tokenized_verses)]"
   ]
  },
  {
   "cell_type": "code",
   "execution_count": 10,
   "id": "897a96d5",
   "metadata": {
    "execution": {
     "iopub.execute_input": "2023-03-06T10:57:18.607946Z",
     "iopub.status.busy": "2023-03-06T10:57:18.607623Z",
     "iopub.status.idle": "2023-03-06T11:52:44.712388Z",
     "shell.execute_reply": "2023-03-06T11:52:44.711117Z"
    },
    "papermill": {
     "duration": 3326.117058,
     "end_time": "2023-03-06T11:52:44.717168",
     "exception": false,
     "start_time": "2023-03-06T10:57:18.600110",
     "status": "completed"
    },
    "tags": []
   },
   "outputs": [
    {
     "name": "stdout",
     "output_type": "stream",
     "text": [
      "CPU times: user 1h 4min 36s, sys: 10min 58s, total: 1h 15min 35s\n",
      "Wall time: 55min 26s\n"
     ]
    }
   ],
   "source": [
    "%%time\n",
    "model = Doc2Vec(min_count=2, epochs=20, vector_size=100)\n",
    "\n",
    "model.build_vocab(documents)\n",
    "\n",
    "model.train(documents, total_examples=model.corpus_count, epochs=model.epochs)\n",
    "\n",
    "model.save('../models/d2v/doc2vec.model')\n"
   ]
  },
  {
   "cell_type": "code",
   "execution_count": null,
   "id": "c9599dc6",
   "metadata": {
    "papermill": {
     "duration": 0.002514,
     "end_time": "2023-03-06T11:52:44.724085",
     "exception": false,
     "start_time": "2023-03-06T11:52:44.721571",
     "status": "completed"
    },
    "tags": []
   },
   "outputs": [],
   "source": []
  }
 ],
 "metadata": {
  "kernelspec": {
   "display_name": "Python 3 (ipykernel)",
   "language": "python",
   "name": "python3"
  },
  "language_info": {
   "codemirror_mode": {
    "name": "ipython",
    "version": 3
   },
   "file_extension": ".py",
   "mimetype": "text/x-python",
   "name": "python",
   "nbconvert_exporter": "python",
   "pygments_lexer": "ipython3",
   "version": "3.9.16"
  },
  "papermill": {
   "default_parameters": {},
   "duration": 3358.222155,
   "end_time": "2023-03-06T11:52:47.362683",
   "environment_variables": {},
   "exception": null,
   "input_path": "02_doc2vec_training.ipynb",
   "output_path": "02_doc2vec_training.ipynb",
   "parameters": {},
   "start_time": "2023-03-06T10:56:49.140528",
   "version": "2.4.0"
  },
  "vscode": {
   "interpreter": {
    "hash": "eb8d1ded7c87c6f9c253b40add648304d6b51d2e38393955e855effc7e6f899a"
   }
  }
 },
 "nbformat": 4,
 "nbformat_minor": 5
}