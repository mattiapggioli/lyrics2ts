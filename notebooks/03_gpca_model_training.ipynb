{
 "cells": [
  {
   "cell_type": "markdown",
   "id": "16138821",
   "metadata": {
    "tags": [
     "papermill-error-cell-tag"
    ]
   },
   "source": [
    "<span style=\"color:red; font-family:Helvetica Neue, Helvetica, Arial, sans-serif; font-size:2em;\">An Exception was encountered at '<a href=\"#papermill-error-cell\">In [19]</a>'.</span>"
   ]
  },
  {
   "cell_type": "markdown",
   "id": "3457c8e5",
   "metadata": {
    "papermill": {
     "duration": 0.069662,
     "end_time": "2023-03-04T14:48:33.566219",
     "exception": false,
     "start_time": "2023-03-04T14:48:33.496557",
     "status": "completed"
    },
    "tags": []
   },
   "source": [
    "# Global PCA model training"
   ]
  },
  {
   "cell_type": "code",
   "execution_count": 1,
   "id": "c846075c",
   "metadata": {
    "execution": {
     "iopub.execute_input": "2023-03-04T14:48:33.591524Z",
     "iopub.status.busy": "2023-03-04T14:48:33.591060Z",
     "iopub.status.idle": "2023-03-04T14:48:38.944785Z",
     "shell.execute_reply": "2023-03-04T14:48:38.944129Z"
    },
    "papermill": {
     "duration": 5.364112,
     "end_time": "2023-03-04T14:48:38.946963",
     "exception": false,
     "start_time": "2023-03-04T14:48:33.582851",
     "status": "completed"
    },
    "tags": []
   },
   "outputs": [
    {
     "name": "stderr",
     "output_type": "stream",
     "text": [
      "2023-03-04 15:48:36.595833: I tensorflow/core/platform/cpu_feature_guard.cc:193] This TensorFlow binary is optimized with oneAPI Deep Neural Network Library (oneDNN) to use the following CPU instructions in performance-critical operations:  AVX2 FMA\n",
      "To enable them in other operations, rebuild TensorFlow with the appropriate compiler flags.\n"
     ]
    },
    {
     "name": "stderr",
     "output_type": "stream",
     "text": [
      "2023-03-04 15:48:37.974871: W tensorflow/compiler/xla/stream_executor/platform/default/dso_loader.cc:64] Could not load dynamic library 'libnvinfer.so.7'; dlerror: libnvinfer.so.7: cannot open shared object file: No such file or directory\n",
      "2023-03-04 15:48:37.975530: W tensorflow/compiler/xla/stream_executor/platform/default/dso_loader.cc:64] Could not load dynamic library 'libnvinfer_plugin.so.7'; dlerror: libnvinfer_plugin.so.7: cannot open shared object file: No such file or directory\n",
      "2023-03-04 15:48:37.975541: W tensorflow/compiler/tf2tensorrt/utils/py_utils.cc:38] TF-TRT Warning: Cannot dlopen some TensorRT libraries. If you would like to use Nvidia GPU with TensorRT, please make sure the missing libraries mentioned above are installed properly.\n"
     ]
    }
   ],
   "source": [
    "%matplotlib inline\n",
    "import pandas as pd\n",
    "import numpy as np\n",
    "from matplotlib import pyplot as plt\n",
    "import seaborn as sns\n",
    "import tikzplotlib\n",
    "import random\n",
    "import ast\n",
    "import math\n",
    "from nltk.corpus import stopwords\n",
    "from gensim.utils import tokenize\n",
    "from lyrics_stats import lyrics_statistics\n",
    "from sklearn.preprocessing import StandardScaler\n",
    "from sklearn.manifold import TSNE\n",
    "from sentence_transformers import SentenceTransformer\n",
    "from sklearn.decomposition import PCA\n",
    "from sklearn.manifold import TSNE\n",
    "import joblib\n",
    "from gensim.models.doc2vec import Doc2Vec\n",
    "from transformers import AutoTokenizer, AutoModelForSequenceClassification\n",
    "import torch"
   ]
  },
  {
   "cell_type": "code",
   "execution_count": 2,
   "id": "b0278b3f",
   "metadata": {
    "execution": {
     "iopub.execute_input": "2023-03-04T14:48:38.966284Z",
     "iopub.status.busy": "2023-03-04T14:48:38.965281Z",
     "iopub.status.idle": "2023-03-04T14:48:38.970321Z",
     "shell.execute_reply": "2023-03-04T14:48:38.969704Z"
    },
    "papermill": {
     "duration": 0.016125,
     "end_time": "2023-03-04T14:48:38.972153",
     "exception": false,
     "start_time": "2023-03-04T14:48:38.956028",
     "status": "completed"
    },
    "tags": []
   },
   "outputs": [],
   "source": [
    "sns.set_theme(context='paper', style='white', palette='deep')"
   ]
  },
  {
   "cell_type": "code",
   "execution_count": 3,
   "id": "e68efd57",
   "metadata": {
    "execution": {
     "iopub.execute_input": "2023-03-04T14:48:38.989226Z",
     "iopub.status.busy": "2023-03-04T14:48:38.988918Z",
     "iopub.status.idle": "2023-03-04T14:48:39.560645Z",
     "shell.execute_reply": "2023-03-04T14:48:39.559756Z"
    },
    "papermill": {
     "duration": 0.581919,
     "end_time": "2023-03-04T14:48:39.563274",
     "exception": false,
     "start_time": "2023-03-04T14:48:38.981355",
     "status": "completed"
    },
    "tags": []
   },
   "outputs": [],
   "source": [
    "df = pd.read_csv('../data/lyrics.csv')"
   ]
  },
  {
   "cell_type": "code",
   "execution_count": 4,
   "id": "3dfa9fa4",
   "metadata": {
    "execution": {
     "iopub.execute_input": "2023-03-04T14:48:39.591331Z",
     "iopub.status.busy": "2023-03-04T14:48:39.591041Z",
     "iopub.status.idle": "2023-03-04T14:48:39.603913Z",
     "shell.execute_reply": "2023-03-04T14:48:39.602994Z"
    },
    "papermill": {
     "duration": 0.033991,
     "end_time": "2023-03-04T14:48:39.606937",
     "exception": false,
     "start_time": "2023-03-04T14:48:39.572946",
     "status": "completed"
    },
    "tags": []
   },
   "outputs": [
    {
     "data": {
      "text/html": [
       "<div>\n",
       "<style scoped>\n",
       "    .dataframe tbody tr th:only-of-type {\n",
       "        vertical-align: middle;\n",
       "    }\n",
       "\n",
       "    .dataframe tbody tr th {\n",
       "        vertical-align: top;\n",
       "    }\n",
       "\n",
       "    .dataframe thead th {\n",
       "        text-align: right;\n",
       "    }\n",
       "</style>\n",
       "<table border=\"1\" class=\"dataframe\">\n",
       "  <thead>\n",
       "    <tr style=\"text-align: right;\">\n",
       "      <th></th>\n",
       "      <th>lyrics</th>\n",
       "      <th>genre</th>\n",
       "      <th>id</th>\n",
       "    </tr>\n",
       "  </thead>\n",
       "  <tbody>\n",
       "    <tr>\n",
       "      <th>0</th>\n",
       "      <td>['So long', 'My sweet love', 'I miss you', \"Mo...</td>\n",
       "      <td>pop</td>\n",
       "      <td>0</td>\n",
       "    </tr>\n",
       "    <tr>\n",
       "      <th>1</th>\n",
       "      <td>[\"It won't be long before I'm leaving here\", \"...</td>\n",
       "      <td>pop</td>\n",
       "      <td>1</td>\n",
       "    </tr>\n",
       "    <tr>\n",
       "      <th>2</th>\n",
       "      <td>['Are we crazy?', 'Living our lives through a ...</td>\n",
       "      <td>pop</td>\n",
       "      <td>2</td>\n",
       "    </tr>\n",
       "    <tr>\n",
       "      <th>3</th>\n",
       "      <td>['When did it go wrong, I will never know', 'I...</td>\n",
       "      <td>pop</td>\n",
       "      <td>3</td>\n",
       "    </tr>\n",
       "    <tr>\n",
       "      <th>4</th>\n",
       "      <td>[\"I've waited all this time\", 'Counting minute...</td>\n",
       "      <td>pop</td>\n",
       "      <td>4</td>\n",
       "    </tr>\n",
       "  </tbody>\n",
       "</table>\n",
       "</div>"
      ],
      "text/plain": [
       "                                              lyrics genre  id\n",
       "0  ['So long', 'My sweet love', 'I miss you', \"Mo...   pop   0\n",
       "1  [\"It won't be long before I'm leaving here\", \"...   pop   1\n",
       "2  ['Are we crazy?', 'Living our lives through a ...   pop   2\n",
       "3  ['When did it go wrong, I will never know', 'I...   pop   3\n",
       "4  [\"I've waited all this time\", 'Counting minute...   pop   4"
      ]
     },
     "execution_count": 4,
     "metadata": {},
     "output_type": "execute_result"
    }
   ],
   "source": [
    "df.head()"
   ]
  },
  {
   "cell_type": "code",
   "execution_count": 5,
   "id": "e2b3a208",
   "metadata": {
    "execution": {
     "iopub.execute_input": "2023-03-04T14:48:39.647832Z",
     "iopub.status.busy": "2023-03-04T14:48:39.646899Z",
     "iopub.status.idle": "2023-03-04T14:48:39.685628Z",
     "shell.execute_reply": "2023-03-04T14:48:39.684608Z"
    },
    "papermill": {
     "duration": 0.062493,
     "end_time": "2023-03-04T14:48:39.688854",
     "exception": false,
     "start_time": "2023-03-04T14:48:39.626361",
     "status": "completed"
    },
    "tags": []
   },
   "outputs": [
    {
     "name": "stdout",
     "output_type": "stream",
     "text": [
      "<class 'pandas.core.frame.DataFrame'>\n",
      "RangeIndex: 36000 entries, 0 to 35999\n",
      "Data columns (total 3 columns):\n",
      " #   Column  Non-Null Count  Dtype \n",
      "---  ------  --------------  ----- \n",
      " 0   lyrics  36000 non-null  object\n",
      " 1   genre   36000 non-null  object\n",
      " 2   id      36000 non-null  int64 \n",
      "dtypes: int64(1), object(2)\n",
      "memory usage: 843.9+ KB\n"
     ]
    }
   ],
   "source": [
    "df.info()"
   ]
  },
  {
   "cell_type": "code",
   "execution_count": 6,
   "id": "a2c92562",
   "metadata": {
    "execution": {
     "iopub.execute_input": "2023-03-04T14:48:39.729482Z",
     "iopub.status.busy": "2023-03-04T14:48:39.728915Z",
     "iopub.status.idle": "2023-03-04T14:48:42.692540Z",
     "shell.execute_reply": "2023-03-04T14:48:42.691616Z"
    },
    "papermill": {
     "duration": 2.987422,
     "end_time": "2023-03-04T14:48:42.695607",
     "exception": false,
     "start_time": "2023-03-04T14:48:39.708185",
     "status": "completed"
    },
    "tags": []
   },
   "outputs": [],
   "source": [
    "df['lyrics'] = df['lyrics'].apply(ast.literal_eval)"
   ]
  },
  {
   "cell_type": "code",
   "execution_count": 7,
   "id": "f31d6429",
   "metadata": {
    "execution": {
     "iopub.execute_input": "2023-03-04T14:48:42.736177Z",
     "iopub.status.busy": "2023-03-04T14:48:42.735875Z",
     "iopub.status.idle": "2023-03-04T14:48:42.752099Z",
     "shell.execute_reply": "2023-03-04T14:48:42.751190Z"
    },
    "papermill": {
     "duration": 0.039806,
     "end_time": "2023-03-04T14:48:42.754868",
     "exception": false,
     "start_time": "2023-03-04T14:48:42.715062",
     "status": "completed"
    },
    "tags": []
   },
   "outputs": [],
   "source": [
    "idxs_eval = pd.read_csv('../data/evaluation/lyrics_eval.csv')['id']"
   ]
  },
  {
   "cell_type": "code",
   "execution_count": 8,
   "id": "2a2ee62b",
   "metadata": {
    "execution": {
     "iopub.execute_input": "2023-03-04T14:48:42.795296Z",
     "iopub.status.busy": "2023-03-04T14:48:42.794785Z",
     "iopub.status.idle": "2023-03-04T14:48:42.815443Z",
     "shell.execute_reply": "2023-03-04T14:48:42.814109Z"
    },
    "papermill": {
     "duration": 0.044901,
     "end_time": "2023-03-04T14:48:42.818784",
     "exception": false,
     "start_time": "2023-03-04T14:48:42.773883",
     "status": "completed"
    },
    "tags": []
   },
   "outputs": [],
   "source": [
    "df = df.drop(idxs_eval)\n",
    "df = df.reset_index()"
   ]
  },
  {
   "cell_type": "code",
   "execution_count": 9,
   "id": "10969c23",
   "metadata": {
    "execution": {
     "iopub.execute_input": "2023-03-04T14:48:42.856675Z",
     "iopub.status.busy": "2023-03-04T14:48:42.856169Z",
     "iopub.status.idle": "2023-03-04T14:48:44.126758Z",
     "shell.execute_reply": "2023-03-04T14:48:44.125855Z"
    },
    "papermill": {
     "duration": 1.292711,
     "end_time": "2023-03-04T14:48:44.129641",
     "exception": false,
     "start_time": "2023-03-04T14:48:42.836930",
     "status": "completed"
    },
    "tags": []
   },
   "outputs": [],
   "source": [
    "lyrics = list(df['lyrics'])\n",
    "genres = list(df['genre'])\n",
    "\n",
    "verses = [verse for lyr in lyrics for verse in lyr]\n",
    "genres_by_verse = [genre for lyr, genre in zip(lyrics, genres) for verse in lyr]\n",
    "\n",
    "lyrics_indexes = [i for i, lyr in enumerate(lyrics) for verse in lyr]\n",
    "verse_indexes = [i for lyr in lyrics for i, verse in enumerate(lyr)]\n",
    "\n",
    "df_verse = pd.DataFrame({'verse': verses, 'genre': genres_by_verse, \n",
    "                         'lyrics_id': lyrics_indexes, 'verse_id': verse_indexes})\n",
    "\n",
    "#df_verse = df_verse.groupby('genre').sample(frac=0.05, random_state=42).reset_index()\n",
    "#df_verse = df_verse.groupby('genre').sample(n=25, random_state=42).reset_index()"
   ]
  },
  {
   "cell_type": "code",
   "execution_count": 10,
   "id": "e46bab13",
   "metadata": {
    "execution": {
     "iopub.execute_input": "2023-03-04T14:48:44.170193Z",
     "iopub.status.busy": "2023-03-04T14:48:44.169904Z",
     "iopub.status.idle": "2023-03-04T14:48:49.511696Z",
     "shell.execute_reply": "2023-03-04T14:48:49.510672Z"
    },
    "papermill": {
     "duration": 5.364743,
     "end_time": "2023-03-04T14:48:49.513644",
     "exception": false,
     "start_time": "2023-03-04T14:48:44.148901",
     "status": "completed"
    },
    "tags": []
   },
   "outputs": [],
   "source": [
    "opening_verse = df_verse.loc[df_verse.groupby('lyrics_id')['verse_id'].idxmin()]\n",
    "final_verse = df_verse.loc[df_verse.groupby('lyrics_id')['verse_id'].idxmax()]\n",
    "middle_verse = df_verse.groupby('lyrics_id')['verse_id'].apply(lambda x: x.iloc[math.ceil(len(x)/2)-1]).reset_index()[['lyrics_id', 'verse_id']]"
   ]
  },
  {
   "cell_type": "code",
   "execution_count": 11,
   "id": "4a18ddbd",
   "metadata": {
    "execution": {
     "iopub.execute_input": "2023-03-04T14:48:49.531842Z",
     "iopub.status.busy": "2023-03-04T14:48:49.531587Z",
     "iopub.status.idle": "2023-03-04T14:48:49.578095Z",
     "shell.execute_reply": "2023-03-04T14:48:49.577115Z"
    },
    "papermill": {
     "duration": 0.055982,
     "end_time": "2023-03-04T14:48:49.579771",
     "exception": false,
     "start_time": "2023-03-04T14:48:49.523789",
     "status": "completed"
    },
    "tags": []
   },
   "outputs": [],
   "source": [
    "df_verse = pd.concat([opening_verse, final_verse, middle_verse]).reset_index(drop=True)"
   ]
  },
  {
   "cell_type": "markdown",
   "id": "529f6fbc",
   "metadata": {
    "papermill": {
     "duration": 0.006581,
     "end_time": "2023-03-04T14:48:49.593278",
     "exception": false,
     "start_time": "2023-03-04T14:48:49.586697",
     "status": "completed"
    },
    "tags": []
   },
   "source": [
    "## Features"
   ]
  },
  {
   "cell_type": "code",
   "execution_count": 12,
   "id": "81ec6447",
   "metadata": {
    "execution": {
     "iopub.execute_input": "2023-03-04T14:48:49.607862Z",
     "iopub.status.busy": "2023-03-04T14:48:49.607623Z",
     "iopub.status.idle": "2023-03-04T15:56:01.553418Z",
     "shell.execute_reply": "2023-03-04T15:56:01.552483Z"
    },
    "papermill": {
     "duration": 4031.956372,
     "end_time": "2023-03-04T15:56:01.556267",
     "exception": false,
     "start_time": "2023-03-04T14:48:49.599895",
     "status": "completed"
    },
    "tags": []
   },
   "outputs": [],
   "source": [
    "# Get features from a specific verse based on its index in the lyrics\n",
    "def get_features_verse(lyrics_features, verse_idx):\n",
    "    return [lyrics_features[verse_idx] for lyrics_features in lyrics_features.values()]\n",
    "\n",
    "# Compute lyrics statistics of lyrics with index_id i, get verse statistics from verse_id j\n",
    "features_by_verse = [get_features_verse(lyrics_statistics(df['lyrics'][row['lyrics_id']]), row['verse_id']) \n",
    "                    for index, row in df_verse.iterrows()]\n",
    "\n",
    "features_by_verse = np.array(features_by_verse)"
   ]
  },
  {
   "cell_type": "code",
   "execution_count": 13,
   "id": "519b7fb0",
   "metadata": {
    "execution": {
     "iopub.execute_input": "2023-03-04T15:56:01.596954Z",
     "iopub.status.busy": "2023-03-04T15:56:01.596668Z",
     "iopub.status.idle": "2023-03-04T15:56:01.633256Z",
     "shell.execute_reply": "2023-03-04T15:56:01.632447Z"
    },
    "papermill": {
     "duration": 0.05897,
     "end_time": "2023-03-04T15:56:01.634997",
     "exception": false,
     "start_time": "2023-03-04T15:56:01.576027",
     "status": "completed"
    },
    "tags": []
   },
   "outputs": [],
   "source": [
    "scaler = StandardScaler()\n",
    "scl_features_by_verse = scaler.fit_transform(np.array(features_by_verse))"
   ]
  },
  {
   "cell_type": "code",
   "execution_count": 14,
   "id": "fcac1091",
   "metadata": {
    "execution": {
     "iopub.execute_input": "2023-03-04T15:56:01.649813Z",
     "iopub.status.busy": "2023-03-04T15:56:01.649573Z",
     "iopub.status.idle": "2023-03-04T15:56:02.321237Z",
     "shell.execute_reply": "2023-03-04T15:56:02.320403Z"
    },
    "papermill": {
     "duration": 0.681461,
     "end_time": "2023-03-04T15:56:02.323349",
     "exception": false,
     "start_time": "2023-03-04T15:56:01.641888",
     "status": "completed"
    },
    "tags": []
   },
   "outputs": [
    {
     "data": {
      "text/html": [
       "<style>#sk-container-id-1 {color: black;background-color: white;}#sk-container-id-1 pre{padding: 0;}#sk-container-id-1 div.sk-toggleable {background-color: white;}#sk-container-id-1 label.sk-toggleable__label {cursor: pointer;display: block;width: 100%;margin-bottom: 0;padding: 0.3em;box-sizing: border-box;text-align: center;}#sk-container-id-1 label.sk-toggleable__label-arrow:before {content: \"▸\";float: left;margin-right: 0.25em;color: #696969;}#sk-container-id-1 label.sk-toggleable__label-arrow:hover:before {color: black;}#sk-container-id-1 div.sk-estimator:hover label.sk-toggleable__label-arrow:before {color: black;}#sk-container-id-1 div.sk-toggleable__content {max-height: 0;max-width: 0;overflow: hidden;text-align: left;background-color: #f0f8ff;}#sk-container-id-1 div.sk-toggleable__content pre {margin: 0.2em;color: black;border-radius: 0.25em;background-color: #f0f8ff;}#sk-container-id-1 input.sk-toggleable__control:checked~div.sk-toggleable__content {max-height: 200px;max-width: 100%;overflow: auto;}#sk-container-id-1 input.sk-toggleable__control:checked~label.sk-toggleable__label-arrow:before {content: \"▾\";}#sk-container-id-1 div.sk-estimator input.sk-toggleable__control:checked~label.sk-toggleable__label {background-color: #d4ebff;}#sk-container-id-1 div.sk-label input.sk-toggleable__control:checked~label.sk-toggleable__label {background-color: #d4ebff;}#sk-container-id-1 input.sk-hidden--visually {border: 0;clip: rect(1px 1px 1px 1px);clip: rect(1px, 1px, 1px, 1px);height: 1px;margin: -1px;overflow: hidden;padding: 0;position: absolute;width: 1px;}#sk-container-id-1 div.sk-estimator {font-family: monospace;background-color: #f0f8ff;border: 1px dotted black;border-radius: 0.25em;box-sizing: border-box;margin-bottom: 0.5em;}#sk-container-id-1 div.sk-estimator:hover {background-color: #d4ebff;}#sk-container-id-1 div.sk-parallel-item::after {content: \"\";width: 100%;border-bottom: 1px solid gray;flex-grow: 1;}#sk-container-id-1 div.sk-label:hover label.sk-toggleable__label {background-color: #d4ebff;}#sk-container-id-1 div.sk-serial::before {content: \"\";position: absolute;border-left: 1px solid gray;box-sizing: border-box;top: 0;bottom: 0;left: 50%;z-index: 0;}#sk-container-id-1 div.sk-serial {display: flex;flex-direction: column;align-items: center;background-color: white;padding-right: 0.2em;padding-left: 0.2em;position: relative;}#sk-container-id-1 div.sk-item {position: relative;z-index: 1;}#sk-container-id-1 div.sk-parallel {display: flex;align-items: stretch;justify-content: center;background-color: white;position: relative;}#sk-container-id-1 div.sk-item::before, #sk-container-id-1 div.sk-parallel-item::before {content: \"\";position: absolute;border-left: 1px solid gray;box-sizing: border-box;top: 0;bottom: 0;left: 50%;z-index: -1;}#sk-container-id-1 div.sk-parallel-item {display: flex;flex-direction: column;z-index: 1;position: relative;background-color: white;}#sk-container-id-1 div.sk-parallel-item:first-child::after {align-self: flex-end;width: 50%;}#sk-container-id-1 div.sk-parallel-item:last-child::after {align-self: flex-start;width: 50%;}#sk-container-id-1 div.sk-parallel-item:only-child::after {width: 0;}#sk-container-id-1 div.sk-dashed-wrapped {border: 1px dashed gray;margin: 0 0.4em 0.5em 0.4em;box-sizing: border-box;padding-bottom: 0.4em;background-color: white;}#sk-container-id-1 div.sk-label label {font-family: monospace;font-weight: bold;display: inline-block;line-height: 1.2em;}#sk-container-id-1 div.sk-label-container {text-align: center;}#sk-container-id-1 div.sk-container {/* jupyter's `normalize.less` sets `[hidden] { display: none; }` but bootstrap.min.css set `[hidden] { display: none !important; }` so we also need the `!important` here to be able to override the default hidden behavior on the sphinx rendered scikit-learn.org. See: https://github.com/scikit-learn/scikit-learn/issues/21755 */display: inline-block !important;position: relative;}#sk-container-id-1 div.sk-text-repr-fallback {display: none;}</style><div id=\"sk-container-id-1\" class=\"sk-top-container\"><div class=\"sk-text-repr-fallback\"><pre>PCA(n_components=1, random_state=42)</pre><b>In a Jupyter environment, please rerun this cell to show the HTML representation or trust the notebook. <br />On GitHub, the HTML representation is unable to render, please try loading this page with nbviewer.org.</b></div><div class=\"sk-container\" hidden><div class=\"sk-item\"><div class=\"sk-estimator sk-toggleable\"><input class=\"sk-toggleable__control sk-hidden--visually\" id=\"sk-estimator-id-1\" type=\"checkbox\" checked><label for=\"sk-estimator-id-1\" class=\"sk-toggleable__label sk-toggleable__label-arrow\">PCA</label><div class=\"sk-toggleable__content\"><pre>PCA(n_components=1, random_state=42)</pre></div></div></div></div></div>"
      ],
      "text/plain": [
       "PCA(n_components=1, random_state=42)"
      ]
     },
     "execution_count": 14,
     "metadata": {},
     "output_type": "execute_result"
    }
   ],
   "source": [
    "pca = PCA(n_components=1, random_state=42)\n",
    "pca.fit(scl_features_by_verse)"
   ]
  },
  {
   "cell_type": "code",
   "execution_count": 15,
   "id": "25f6455b",
   "metadata": {
    "execution": {
     "iopub.execute_input": "2023-03-04T15:56:02.349147Z",
     "iopub.status.busy": "2023-03-04T15:56:02.348734Z",
     "iopub.status.idle": "2023-03-04T15:56:02.357436Z",
     "shell.execute_reply": "2023-03-04T15:56:02.356572Z"
    },
    "papermill": {
     "duration": 0.023767,
     "end_time": "2023-03-04T15:56:02.359466",
     "exception": false,
     "start_time": "2023-03-04T15:56:02.335699",
     "status": "completed"
    },
    "tags": []
   },
   "outputs": [
    {
     "data": {
      "text/plain": [
       "['../models/gpca/features_scaler.pkl']"
      ]
     },
     "execution_count": 15,
     "metadata": {},
     "output_type": "execute_result"
    }
   ],
   "source": [
    "joblib.dump(pca, '../models/gpca/features_pca.pkl')\n",
    "joblib.dump(scaler, '../models/gpca/features_scaler.pkl')"
   ]
  },
  {
   "cell_type": "code",
   "execution_count": 16,
   "id": "2999ef9f",
   "metadata": {
    "execution": {
     "iopub.execute_input": "2023-03-04T15:56:02.384907Z",
     "iopub.status.busy": "2023-03-04T15:56:02.384487Z",
     "iopub.status.idle": "2023-03-04T15:56:02.390518Z",
     "shell.execute_reply": "2023-03-04T15:56:02.389722Z"
    },
    "papermill": {
     "duration": 0.020887,
     "end_time": "2023-03-04T15:56:02.392522",
     "exception": false,
     "start_time": "2023-03-04T15:56:02.371635",
     "status": "completed"
    },
    "tags": []
   },
   "outputs": [],
   "source": [
    "scaler = joblib.load('../models/gpca/features_scaler.pkl')\n",
    "pca = joblib.load('../models/gpca/features_pca.pkl')"
   ]
  },
  {
   "cell_type": "code",
   "execution_count": 17,
   "id": "bf25909f",
   "metadata": {
    "execution": {
     "iopub.execute_input": "2023-03-04T15:56:02.417878Z",
     "iopub.status.busy": "2023-03-04T15:56:02.417539Z",
     "iopub.status.idle": "2023-03-04T15:56:02.599262Z",
     "shell.execute_reply": "2023-03-04T15:56:02.598439Z"
    },
    "papermill": {
     "duration": 0.198382,
     "end_time": "2023-03-04T15:56:02.602897",
     "exception": false,
     "start_time": "2023-03-04T15:56:02.404515",
     "status": "completed"
    },
    "tags": []
   },
   "outputs": [
    {
     "name": "stdout",
     "output_type": "stream",
     "text": [
      "['Answer me', 'Oh my love', 'Just what sin have I been guilty of', 'Tell me how I came to lose your love', 'Please answer me sweetheart', 'You were mine yesterday', 'I believed that love was here to stay', \"Won't you tell me how I've gone astray\", 'Please answer me my love', \"If you're happier without me\", \"I'll try not to care\", 'But if you still think about me', 'Please listen to my prayer', \"You must know that I've been true\", \"Won't you say that we can start anew\", 'In my sorrow now I turn to you', 'Please answer me my love', \"If you're happier without me\", \"I'll try not to care\", 'But if you still think about me', 'Please listen to my prayer', \"You must know that I've been true\", \"Won't you say that we can start anew\", 'In my sorrow now I turn to you', 'Please answer me my love', 'Answer me my love']\n"
     ]
    },
    {
     "data": {
      "text/plain": [
       "[<matplotlib.lines.Line2D at 0x7fdac8ba1730>]"
      ]
     },
     "execution_count": 17,
     "metadata": {},
     "output_type": "execute_result"
    },
    {
     "data": {
      "image/png": "[encoded data removed]",
      "text/plain": [
       "<Figure size 640x480 with 1 Axes>"
      ]
     },
     "metadata": {},
     "output_type": "display_data"
    }
   ],
   "source": [
    "random_lyrics = random.choice(df['lyrics'])\n",
    "\n",
    "print(random_lyrics)\n",
    "\n",
    "eg_multi_ts = pd.DataFrame(lyrics_statistics(random_lyrics)).values\n",
    "eg_scl_multi_ts = scaler.transform(eg_multi_ts)\n",
    "eg_uni_ts = list(map(\n",
    "    lambda unique_element: unique_element[0], pca.transform(eg_scl_multi_ts)))\n",
    "plt.plot(eg_uni_ts)"
   ]
  },
  {
   "cell_type": "markdown",
   "id": "bd5d022a",
   "metadata": {
    "papermill": {
     "duration": 0.021393,
     "end_time": "2023-03-04T15:56:02.646501",
     "exception": false,
     "start_time": "2023-03-04T15:56:02.625108",
     "status": "completed"
    },
    "tags": []
   },
   "source": [
    "## Sentence BERT"
   ]
  },
  {
   "cell_type": "code",
   "execution_count": 18,
   "id": "2c5d8f3a",
   "metadata": {
    "execution": {
     "iopub.execute_input": "2023-03-04T15:56:02.684033Z",
     "iopub.status.busy": "2023-03-04T15:56:02.683303Z",
     "iopub.status.idle": "2023-03-04T15:56:03.095755Z",
     "shell.execute_reply": "2023-03-04T15:56:03.094964Z"
    },
    "papermill": {
     "duration": 0.430482,
     "end_time": "2023-03-04T15:56:03.098631",
     "exception": false,
     "start_time": "2023-03-04T15:56:02.668149",
     "status": "completed"
    },
    "tags": []
   },
   "outputs": [],
   "source": [
    "model = SentenceTransformer('all-MiniLM-L6-v2')"
   ]
  },
  {
   "cell_type": "markdown",
   "id": "f3d49bf3",
   "metadata": {
    "tags": [
     "papermill-error-cell-tag"
    ]
   },
   "source": [
    "<span id=\"papermill-error-cell\" style=\"color:red; font-family:Helvetica Neue, Helvetica, Arial, sans-serif; font-size:2em;\">Execution using papermill encountered an exception here and stopped:</span>"
   ]
  },
  {
   "cell_type": "code",
   "execution_count": 19,
   "id": "d51ef09e",
   "metadata": {
    "execution": {
     "iopub.execute_input": "2023-03-04T15:56:03.118002Z",
     "iopub.status.busy": "2023-03-04T15:56:03.117688Z",
     "iopub.status.idle": "2023-03-04T16:17:00.655082Z",
     "shell.execute_reply": "2023-03-04T16:17:00.654003Z"
    },
    "papermill": {
     "duration": 1257.571199,
     "end_time": "2023-03-04T16:17:00.680339",
     "exception": true,
     "start_time": "2023-03-04T15:56:03.109140",
     "status": "failed"
    },
    "tags": []
   },
   "outputs": [
    {
     "ename": "TypeError",
     "evalue": "'float' object is not subscriptable",
     "output_type": "error",
     "traceback": [
      "\u001b[0;31m---------------------------------------------------------------------------\u001b[0m",
      "\u001b[0;31mTypeError\u001b[0m                                 Traceback (most recent call last)",
      "Cell \u001b[0;32mIn[19], line 1\u001b[0m\n\u001b[0;32m----> 1\u001b[0m embeddings \u001b[38;5;241m=\u001b[39m \u001b[43mdf_verse\u001b[49m\u001b[43m[\u001b[49m\u001b[38;5;124;43m'\u001b[39;49m\u001b[38;5;124;43mverse\u001b[39;49m\u001b[38;5;124;43m'\u001b[39;49m\u001b[43m]\u001b[49m\u001b[38;5;241;43m.\u001b[39;49m\u001b[43mapply\u001b[49m\u001b[43m(\u001b[49m\u001b[38;5;28;43;01mlambda\u001b[39;49;00m\u001b[43m \u001b[49m\u001b[43mx\u001b[49m\u001b[43m:\u001b[49m\u001b[43m \u001b[49m\u001b[43mmodel\u001b[49m\u001b[38;5;241;43m.\u001b[39;49m\u001b[43mencode\u001b[49m\u001b[43m(\u001b[49m\u001b[43m[\u001b[49m\u001b[43mx\u001b[49m\u001b[43m]\u001b[49m\u001b[43m)\u001b[49m\u001b[43m)\u001b[49m\n\u001b[1;32m      2\u001b[0m embeddings \u001b[38;5;241m=\u001b[39m np\u001b[38;5;241m.\u001b[39mconcatenate(embeddings, axis\u001b[38;5;241m=\u001b[39m\u001b[38;5;241m0\u001b[39m)\n",
      "File \u001b[0;32m~/lyrics2ts/.venv/lib/python3.9/site-packages/pandas/core/series.py:4771\u001b[0m, in \u001b[0;36mSeries.apply\u001b[0;34m(self, func, convert_dtype, args, **kwargs)\u001b[0m\n\u001b[1;32m   4661\u001b[0m \u001b[38;5;28;01mdef\u001b[39;00m \u001b[38;5;21mapply\u001b[39m(\n\u001b[1;32m   4662\u001b[0m     \u001b[38;5;28mself\u001b[39m,\n\u001b[1;32m   4663\u001b[0m     func: AggFuncType,\n\u001b[0;32m   (...)\u001b[0m\n\u001b[1;32m   4666\u001b[0m     \u001b[38;5;241m*\u001b[39m\u001b[38;5;241m*\u001b[39mkwargs,\n\u001b[1;32m   4667\u001b[0m ) \u001b[38;5;241m-\u001b[39m\u001b[38;5;241m>\u001b[39m DataFrame \u001b[38;5;241m|\u001b[39m Series:\n\u001b[1;32m   4668\u001b[0m \u001b[38;5;250m    \u001b[39m\u001b[38;5;124;03m\"\"\"\u001b[39;00m\n\u001b[1;32m   4669\u001b[0m \u001b[38;5;124;03m    Invoke function on values of Series.\u001b[39;00m\n\u001b[1;32m   4670\u001b[0m \n\u001b[0;32m   (...)\u001b[0m\n\u001b[1;32m   4769\u001b[0m \u001b[38;5;124;03m    dtype: float64\u001b[39;00m\n\u001b[1;32m   4770\u001b[0m \u001b[38;5;124;03m    \"\"\"\u001b[39;00m\n\u001b[0;32m-> 4771\u001b[0m     \u001b[38;5;28;01mreturn\u001b[39;00m \u001b[43mSeriesApply\u001b[49m\u001b[43m(\u001b[49m\u001b[38;5;28;43mself\u001b[39;49m\u001b[43m,\u001b[49m\u001b[43m \u001b[49m\u001b[43mfunc\u001b[49m\u001b[43m,\u001b[49m\u001b[43m \u001b[49m\u001b[43mconvert_dtype\u001b[49m\u001b[43m,\u001b[49m\u001b[43m \u001b[49m\u001b[43margs\u001b[49m\u001b[43m,\u001b[49m\u001b[43m \u001b[49m\u001b[43mkwargs\u001b[49m\u001b[43m)\u001b[49m\u001b[38;5;241;43m.\u001b[39;49m\u001b[43mapply\u001b[49m\u001b[43m(\u001b[49m\u001b[43m)\u001b[49m\n",
      "File \u001b[0;32m~/lyrics2ts/.venv/lib/python3.9/site-packages/pandas/core/apply.py:1123\u001b[0m, in \u001b[0;36mSeriesApply.apply\u001b[0;34m(self)\u001b[0m\n\u001b[1;32m   1120\u001b[0m     \u001b[38;5;28;01mreturn\u001b[39;00m \u001b[38;5;28mself\u001b[39m\u001b[38;5;241m.\u001b[39mapply_str()\n\u001b[1;32m   1122\u001b[0m \u001b[38;5;66;03m# self.f is Callable\u001b[39;00m\n\u001b[0;32m-> 1123\u001b[0m \u001b[38;5;28;01mreturn\u001b[39;00m \u001b[38;5;28;43mself\u001b[39;49m\u001b[38;5;241;43m.\u001b[39;49m\u001b[43mapply_standard\u001b[49m\u001b[43m(\u001b[49m\u001b[43m)\u001b[49m\n",
      "File \u001b[0;32m~/lyrics2ts/.venv/lib/python3.9/site-packages/pandas/core/apply.py:1174\u001b[0m, in \u001b[0;36mSeriesApply.apply_standard\u001b[0;34m(self)\u001b[0m\n\u001b[1;32m   1172\u001b[0m     \u001b[38;5;28;01melse\u001b[39;00m:\n\u001b[1;32m   1173\u001b[0m         values \u001b[38;5;241m=\u001b[39m obj\u001b[38;5;241m.\u001b[39mastype(\u001b[38;5;28mobject\u001b[39m)\u001b[38;5;241m.\u001b[39m_values\n\u001b[0;32m-> 1174\u001b[0m         mapped \u001b[38;5;241m=\u001b[39m \u001b[43mlib\u001b[49m\u001b[38;5;241;43m.\u001b[39;49m\u001b[43mmap_infer\u001b[49m\u001b[43m(\u001b[49m\n\u001b[1;32m   1175\u001b[0m \u001b[43m            \u001b[49m\u001b[43mvalues\u001b[49m\u001b[43m,\u001b[49m\n\u001b[1;32m   1176\u001b[0m \u001b[43m            \u001b[49m\u001b[43mf\u001b[49m\u001b[43m,\u001b[49m\n\u001b[1;32m   1177\u001b[0m \u001b[43m            \u001b[49m\u001b[43mconvert\u001b[49m\u001b[38;5;241;43m=\u001b[39;49m\u001b[38;5;28;43mself\u001b[39;49m\u001b[38;5;241;43m.\u001b[39;49m\u001b[43mconvert_dtype\u001b[49m\u001b[43m,\u001b[49m\n\u001b[1;32m   1178\u001b[0m \u001b[43m        \u001b[49m\u001b[43m)\u001b[49m\n\u001b[1;32m   1180\u001b[0m \u001b[38;5;28;01mif\u001b[39;00m \u001b[38;5;28mlen\u001b[39m(mapped) \u001b[38;5;129;01mand\u001b[39;00m \u001b[38;5;28misinstance\u001b[39m(mapped[\u001b[38;5;241m0\u001b[39m], ABCSeries):\n\u001b[1;32m   1181\u001b[0m     \u001b[38;5;66;03m# GH#43986 Need to do list(mapped) in order to get treated as nested\u001b[39;00m\n\u001b[1;32m   1182\u001b[0m     \u001b[38;5;66;03m#  See also GH#25959 regarding EA support\u001b[39;00m\n\u001b[1;32m   1183\u001b[0m     \u001b[38;5;28;01mreturn\u001b[39;00m obj\u001b[38;5;241m.\u001b[39m_constructor_expanddim(\u001b[38;5;28mlist\u001b[39m(mapped), index\u001b[38;5;241m=\u001b[39mobj\u001b[38;5;241m.\u001b[39mindex)\n",
      "File \u001b[0;32m~/lyrics2ts/.venv/lib/python3.9/site-packages/pandas/_libs/lib.pyx:2924\u001b[0m, in \u001b[0;36mpandas._libs.lib.map_infer\u001b[0;34m()\u001b[0m\n",
      "Cell \u001b[0;32mIn[19], line 1\u001b[0m, in \u001b[0;36m<lambda>\u001b[0;34m(x)\u001b[0m\n\u001b[0;32m----> 1\u001b[0m embeddings \u001b[38;5;241m=\u001b[39m df_verse[\u001b[38;5;124m'\u001b[39m\u001b[38;5;124mverse\u001b[39m\u001b[38;5;124m'\u001b[39m]\u001b[38;5;241m.\u001b[39mapply(\u001b[38;5;28;01mlambda\u001b[39;00m x: \u001b[43mmodel\u001b[49m\u001b[38;5;241;43m.\u001b[39;49m\u001b[43mencode\u001b[49m\u001b[43m(\u001b[49m\u001b[43m[\u001b[49m\u001b[43mx\u001b[49m\u001b[43m]\u001b[49m\u001b[43m)\u001b[49m)\n\u001b[1;32m      2\u001b[0m embeddings \u001b[38;5;241m=\u001b[39m np\u001b[38;5;241m.\u001b[39mconcatenate(embeddings, axis\u001b[38;5;241m=\u001b[39m\u001b[38;5;241m0\u001b[39m)\n",
      "File \u001b[0;32m~/lyrics2ts/.venv/lib/python3.9/site-packages/sentence_transformers/SentenceTransformer.py:161\u001b[0m, in \u001b[0;36mSentenceTransformer.encode\u001b[0;34m(self, sentences, batch_size, show_progress_bar, output_value, convert_to_numpy, convert_to_tensor, device, normalize_embeddings)\u001b[0m\n\u001b[1;32m    159\u001b[0m \u001b[38;5;28;01mfor\u001b[39;00m start_index \u001b[38;5;129;01min\u001b[39;00m trange(\u001b[38;5;241m0\u001b[39m, \u001b[38;5;28mlen\u001b[39m(sentences), batch_size, desc\u001b[38;5;241m=\u001b[39m\u001b[38;5;124m\"\u001b[39m\u001b[38;5;124mBatches\u001b[39m\u001b[38;5;124m\"\u001b[39m, disable\u001b[38;5;241m=\u001b[39m\u001b[38;5;129;01mnot\u001b[39;00m show_progress_bar):\n\u001b[1;32m    160\u001b[0m     sentences_batch \u001b[38;5;241m=\u001b[39m sentences_sorted[start_index:start_index\u001b[38;5;241m+\u001b[39mbatch_size]\n\u001b[0;32m--> 161\u001b[0m     features \u001b[38;5;241m=\u001b[39m \u001b[38;5;28;43mself\u001b[39;49m\u001b[38;5;241;43m.\u001b[39;49m\u001b[43mtokenize\u001b[49m\u001b[43m(\u001b[49m\u001b[43msentences_batch\u001b[49m\u001b[43m)\u001b[49m\n\u001b[1;32m    162\u001b[0m     features \u001b[38;5;241m=\u001b[39m batch_to_device(features, device)\n\u001b[1;32m    164\u001b[0m     \u001b[38;5;28;01mwith\u001b[39;00m torch\u001b[38;5;241m.\u001b[39mno_grad():\n",
      "File \u001b[0;32m~/lyrics2ts/.venv/lib/python3.9/site-packages/sentence_transformers/SentenceTransformer.py:319\u001b[0m, in \u001b[0;36mSentenceTransformer.tokenize\u001b[0;34m(self, texts)\u001b[0m\n\u001b[1;32m    315\u001b[0m \u001b[38;5;28;01mdef\u001b[39;00m \u001b[38;5;21mtokenize\u001b[39m(\u001b[38;5;28mself\u001b[39m, texts: Union[List[\u001b[38;5;28mstr\u001b[39m], List[Dict], List[Tuple[\u001b[38;5;28mstr\u001b[39m, \u001b[38;5;28mstr\u001b[39m]]]):\n\u001b[1;32m    316\u001b[0m \u001b[38;5;250m    \u001b[39m\u001b[38;5;124;03m\"\"\"\u001b[39;00m\n\u001b[1;32m    317\u001b[0m \u001b[38;5;124;03m    Tokenizes the texts\u001b[39;00m\n\u001b[1;32m    318\u001b[0m \u001b[38;5;124;03m    \"\"\"\u001b[39;00m\n\u001b[0;32m--> 319\u001b[0m     \u001b[38;5;28;01mreturn\u001b[39;00m \u001b[38;5;28;43mself\u001b[39;49m\u001b[38;5;241;43m.\u001b[39;49m\u001b[43m_first_module\u001b[49m\u001b[43m(\u001b[49m\u001b[43m)\u001b[49m\u001b[38;5;241;43m.\u001b[39;49m\u001b[43mtokenize\u001b[49m\u001b[43m(\u001b[49m\u001b[43mtexts\u001b[49m\u001b[43m)\u001b[49m\n",
      "File \u001b[0;32m~/lyrics2ts/.venv/lib/python3.9/site-packages/sentence_transformers/models/Transformer.py:102\u001b[0m, in \u001b[0;36mTransformer.tokenize\u001b[0;34m(self, texts)\u001b[0m\n\u001b[1;32m    100\u001b[0m batch1, batch2 \u001b[38;5;241m=\u001b[39m [], []\n\u001b[1;32m    101\u001b[0m \u001b[38;5;28;01mfor\u001b[39;00m text_tuple \u001b[38;5;129;01min\u001b[39;00m texts:\n\u001b[0;32m--> 102\u001b[0m     batch1\u001b[38;5;241m.\u001b[39mappend(\u001b[43mtext_tuple\u001b[49m\u001b[43m[\u001b[49m\u001b[38;5;241;43m0\u001b[39;49m\u001b[43m]\u001b[49m)\n\u001b[1;32m    103\u001b[0m     batch2\u001b[38;5;241m.\u001b[39mappend(text_tuple[\u001b[38;5;241m1\u001b[39m])\n\u001b[1;32m    104\u001b[0m to_tokenize \u001b[38;5;241m=\u001b[39m [batch1, batch2]\n",
      "\u001b[0;31mTypeError\u001b[0m: 'float' object is not subscriptable"
     ]
    }
   ],
   "source": [
    "embeddings = df_verse['verse'].apply(lambda x: model.encode([x]))\n",
    "embeddings = np.concatenate(embeddings, axis=0)"
   ]
  },
  {
   "cell_type": "code",
   "execution_count": null,
   "id": "71443d27",
   "metadata": {
    "execution": {
     "iopub.execute_input": "2023-03-01T23:24:25.421295Z",
     "iopub.status.busy": "2023-03-01T23:24:25.421037Z",
     "iopub.status.idle": "2023-03-01T23:24:27.226816Z",
     "shell.execute_reply": "2023-03-01T23:24:27.225949Z"
    },
    "papermill": {
     "duration": null,
     "end_time": null,
     "exception": null,
     "start_time": null,
     "status": "pending"
    },
    "tags": []
   },
   "outputs": [],
   "source": [
    "pca = PCA(n_components=1, random_state=42)\n",
    "pca.fit(embeddings)"
   ]
  },
  {
   "cell_type": "code",
   "execution_count": null,
   "id": "eba8dbaa",
   "metadata": {
    "execution": {
     "iopub.execute_input": "2023-03-01T23:24:27.261906Z",
     "iopub.status.busy": "2023-03-01T23:24:27.261453Z",
     "iopub.status.idle": "2023-03-01T23:24:27.269086Z",
     "shell.execute_reply": "2023-03-01T23:24:27.268266Z"
    },
    "papermill": {
     "duration": null,
     "end_time": null,
     "exception": null,
     "start_time": null,
     "status": "pending"
    },
    "tags": []
   },
   "outputs": [],
   "source": [
    "joblib.dump(pca, '../models/gpca/sbert_pca.pkl')"
   ]
  },
  {
   "cell_type": "code",
   "execution_count": null,
   "id": "4075f6d6",
   "metadata": {
    "execution": {
     "iopub.execute_input": "2023-03-01T23:24:27.299500Z",
     "iopub.status.busy": "2023-03-01T23:24:27.298973Z",
     "iopub.status.idle": "2023-03-01T23:24:27.303991Z",
     "shell.execute_reply": "2023-03-01T23:24:27.303234Z"
    },
    "papermill": {
     "duration": null,
     "end_time": null,
     "exception": null,
     "start_time": null,
     "status": "pending"
    },
    "tags": []
   },
   "outputs": [],
   "source": [
    "pca = joblib.load('../models/gpca/sbert_pca.pkl')"
   ]
  },
  {
   "cell_type": "code",
   "execution_count": null,
   "id": "f82da6bb",
   "metadata": {
    "execution": {
     "iopub.execute_input": "2023-03-01T23:24:27.326922Z",
     "iopub.status.busy": "2023-03-01T23:24:27.326604Z",
     "iopub.status.idle": "2023-03-01T23:24:28.283676Z",
     "shell.execute_reply": "2023-03-01T23:24:28.282911Z"
    },
    "papermill": {
     "duration": null,
     "end_time": null,
     "exception": null,
     "start_time": null,
     "status": "pending"
    },
    "tags": []
   },
   "outputs": [],
   "source": [
    "random_lyrics = random.choice(df['lyrics'])\n",
    "\n",
    "print(random_lyrics)\n",
    "\n",
    "eg_multi_ts = np.array([model.encode(verse) for verse in random_lyrics])\n",
    "eg_uni_ts = list(map(\n",
    "    lambda unique_element: unique_element[0], pca.transform(eg_multi_ts)))\n",
    "plt.plot(eg_uni_ts)"
   ]
  },
  {
   "cell_type": "markdown",
   "id": "654e5f61",
   "metadata": {
    "papermill": {
     "duration": null,
     "end_time": null,
     "exception": null,
     "start_time": null,
     "status": "pending"
    },
    "tags": []
   },
   "source": [
    "## Doc2Vec"
   ]
  },
  {
   "cell_type": "code",
   "execution_count": null,
   "id": "b4667dc7",
   "metadata": {
    "execution": {
     "iopub.execute_input": "2023-03-01T23:24:28.372352Z",
     "iopub.status.busy": "2023-03-01T23:24:28.372044Z",
     "iopub.status.idle": "2023-03-01T23:24:30.366027Z",
     "shell.execute_reply": "2023-03-01T23:24:30.365182Z"
    },
    "papermill": {
     "duration": null,
     "end_time": null,
     "exception": null,
     "start_time": null,
     "status": "pending"
    },
    "tags": []
   },
   "outputs": [],
   "source": [
    "model = Doc2Vec.load(\"../models/d2v/doc2vec.model\")"
   ]
  },
  {
   "cell_type": "code",
   "execution_count": null,
   "id": "f2e559a6",
   "metadata": {
    "execution": {
     "iopub.execute_input": "2023-03-01T23:24:30.418786Z",
     "iopub.status.busy": "2023-03-01T23:24:30.418494Z",
     "iopub.status.idle": "2023-03-01T23:24:31.453621Z",
     "shell.execute_reply": "2023-03-01T23:24:31.452625Z"
    },
    "papermill": {
     "duration": null,
     "end_time": null,
     "exception": null,
     "start_time": null,
     "status": "pending"
    },
    "tags": []
   },
   "outputs": [],
   "source": [
    "tokenized_verses = df_verse['verse'].apply(lambda x: list(tokenize(x, lowercase=True)))"
   ]
  },
  {
   "cell_type": "code",
   "execution_count": null,
   "id": "74599e76",
   "metadata": {
    "execution": {
     "iopub.execute_input": "2023-03-01T23:24:31.505808Z",
     "iopub.status.busy": "2023-03-01T23:24:31.505514Z",
     "iopub.status.idle": "2023-03-01T23:26:38.841766Z",
     "shell.execute_reply": "2023-03-01T23:26:38.840808Z"
    },
    "papermill": {
     "duration": null,
     "end_time": null,
     "exception": null,
     "start_time": null,
     "status": "pending"
    },
    "tags": []
   },
   "outputs": [],
   "source": [
    "embeddings = np.array([model.infer_vector(verse) for verse in tokenized_verses if verse])"
   ]
  },
  {
   "cell_type": "code",
   "execution_count": null,
   "id": "dc13089e",
   "metadata": {
    "execution": {
     "iopub.execute_input": "2023-03-01T23:26:38.894354Z",
     "iopub.status.busy": "2023-03-01T23:26:38.893782Z",
     "iopub.status.idle": "2023-03-01T23:26:39.009791Z",
     "shell.execute_reply": "2023-03-01T23:26:39.008976Z"
    },
    "papermill": {
     "duration": null,
     "end_time": null,
     "exception": null,
     "start_time": null,
     "status": "pending"
    },
    "tags": []
   },
   "outputs": [],
   "source": [
    "scaler = StandardScaler()\n",
    "scl_embeddings = scaler.fit_transform(embeddings)"
   ]
  },
  {
   "cell_type": "code",
   "execution_count": null,
   "id": "2425fdc0",
   "metadata": {
    "execution": {
     "iopub.execute_input": "2023-03-01T23:26:39.061527Z",
     "iopub.status.busy": "2023-03-01T23:26:39.061204Z",
     "iopub.status.idle": "2023-03-01T23:26:39.683328Z",
     "shell.execute_reply": "2023-03-01T23:26:39.682616Z"
    },
    "papermill": {
     "duration": null,
     "end_time": null,
     "exception": null,
     "start_time": null,
     "status": "pending"
    },
    "tags": []
   },
   "outputs": [],
   "source": [
    "pca = PCA(n_components=1, random_state=42)\n",
    "pca.fit(scl_embeddings)"
   ]
  },
  {
   "cell_type": "code",
   "execution_count": null,
   "id": "a27066a2",
   "metadata": {
    "execution": {
     "iopub.execute_input": "2023-03-01T23:26:39.715076Z",
     "iopub.status.busy": "2023-03-01T23:26:39.714691Z",
     "iopub.status.idle": "2023-03-01T23:26:39.722864Z",
     "shell.execute_reply": "2023-03-01T23:26:39.722139Z"
    },
    "papermill": {
     "duration": null,
     "end_time": null,
     "exception": null,
     "start_time": null,
     "status": "pending"
    },
    "tags": []
   },
   "outputs": [],
   "source": [
    "joblib.dump(pca, '../models/gpca/d2v_pca.pkl')\n",
    "joblib.dump(scaler, '../models/gpca/d2v_scaler.pkl')"
   ]
  },
  {
   "cell_type": "code",
   "execution_count": null,
   "id": "2d18b9ed",
   "metadata": {
    "execution": {
     "iopub.execute_input": "2023-03-01T23:26:39.754763Z",
     "iopub.status.busy": "2023-03-01T23:26:39.754438Z",
     "iopub.status.idle": "2023-03-01T23:26:39.759776Z",
     "shell.execute_reply": "2023-03-01T23:26:39.759041Z"
    },
    "papermill": {
     "duration": null,
     "end_time": null,
     "exception": null,
     "start_time": null,
     "status": "pending"
    },
    "tags": []
   },
   "outputs": [],
   "source": [
    "scaler = joblib.load('../models/gpca/d2v_scaler.pkl')\n",
    "pca = joblib.load('../models/gpca/d2v_pca.pkl')"
   ]
  },
  {
   "cell_type": "code",
   "execution_count": null,
   "id": "218928a2",
   "metadata": {
    "execution": {
     "iopub.execute_input": "2023-03-01T23:26:39.784479Z",
     "iopub.status.busy": "2023-03-01T23:26:39.783836Z",
     "iopub.status.idle": "2023-03-01T23:26:40.028241Z",
     "shell.execute_reply": "2023-03-01T23:26:40.027469Z"
    },
    "papermill": {
     "duration": null,
     "end_time": null,
     "exception": null,
     "start_time": null,
     "status": "pending"
    },
    "tags": []
   },
   "outputs": [],
   "source": [
    "random_lyrics = random.choice(df['lyrics'])\n",
    "\n",
    "print(random_lyrics)\n",
    "\n",
    "tokenized_lyrics = [list(tokenize(verse, lowercase=True)) for verse in random_lyrics]\n",
    "    \n",
    "eg_multi_ts = np.array([model.infer_vector(verse) for verse in tokenized_lyrics])\n",
    "eg_uni_ts = list(map(\n",
    "    lambda unique_element: unique_element[0], pca.transform(eg_multi_ts)))\n",
    "plt.plot(eg_uni_ts)"
   ]
  },
  {
   "cell_type": "markdown",
   "id": "37b4b8df",
   "metadata": {
    "papermill": {
     "duration": null,
     "end_time": null,
     "exception": null,
     "start_time": null,
     "status": "pending"
    },
    "tags": []
   },
   "source": [
    "## Emotion"
   ]
  },
  {
   "cell_type": "code",
   "execution_count": null,
   "id": "3a36b0b5",
   "metadata": {
    "execution": {
     "iopub.execute_input": "2023-03-01T23:26:40.073345Z",
     "iopub.status.busy": "2023-03-01T23:26:40.072578Z",
     "iopub.status.idle": "2023-03-01T23:26:41.300039Z",
     "shell.execute_reply": "2023-03-01T23:26:41.299241Z"
    },
    "papermill": {
     "duration": null,
     "end_time": null,
     "exception": null,
     "start_time": null,
     "status": "pending"
    },
    "tags": []
   },
   "outputs": [],
   "source": [
    "tokenizer = AutoTokenizer.from_pretrained(\"j-hartmann/emotion-english-distilroberta-base\")\n",
    "\n",
    "model = AutoModelForSequenceClassification.from_pretrained(\"j-hartmann/emotion-english-distilroberta-base\", output_hidden_states = False)"
   ]
  },
  {
   "cell_type": "code",
   "execution_count": null,
   "id": "8fb0717f",
   "metadata": {
    "execution": {
     "iopub.execute_input": "2023-03-01T23:26:41.350930Z",
     "iopub.status.busy": "2023-03-01T23:26:41.350635Z",
     "iopub.status.idle": "2023-03-01T23:26:41.356909Z",
     "shell.execute_reply": "2023-03-01T23:26:41.356005Z"
    },
    "papermill": {
     "duration": null,
     "end_time": null,
     "exception": null,
     "start_time": null,
     "status": "pending"
    },
    "tags": []
   },
   "outputs": [],
   "source": [
    "def get_logits(sentence, tokenizer, model):\n",
    "    inputs = tokenizer(sentence, return_tensors=\"pt\")\n",
    "    with torch.no_grad():\n",
    "        logits = model(**inputs).logits    \n",
    "    return logits"
   ]
  },
  {
   "cell_type": "code",
   "execution_count": null,
   "id": "4ba38879",
   "metadata": {
    "execution": {
     "iopub.execute_input": "2023-03-01T23:26:41.393696Z",
     "iopub.status.busy": "2023-03-01T23:26:41.393121Z",
     "iopub.status.idle": "2023-03-01T23:26:41.398772Z",
     "shell.execute_reply": "2023-03-01T23:26:41.397778Z"
    },
    "papermill": {
     "duration": null,
     "end_time": null,
     "exception": null,
     "start_time": null,
     "status": "pending"
    },
    "tags": []
   },
   "outputs": [],
   "source": [
    "def logits2label(logits, model):\n",
    "    predicted_class_id = logits.argmax().item()\n",
    "    label = model.config.id2label[predicted_class_id]\n",
    "    return label"
   ]
  },
  {
   "cell_type": "code",
   "execution_count": null,
   "id": "e15f630e",
   "metadata": {
    "execution": {
     "iopub.execute_input": "2023-03-01T23:26:41.420334Z",
     "iopub.status.busy": "2023-03-01T23:26:41.419686Z",
     "iopub.status.idle": "2023-03-02T00:50:31.069584Z",
     "shell.execute_reply": "2023-03-02T00:50:31.068578Z"
    },
    "papermill": {
     "duration": null,
     "end_time": null,
     "exception": null,
     "start_time": null,
     "status": "pending"
    },
    "tags": []
   },
   "outputs": [],
   "source": [
    "logits_tensor = df_verse['verse'].apply(get_logits, tokenizer=tokenizer, model=model)"
   ]
  },
  {
   "cell_type": "code",
   "execution_count": null,
   "id": "264e2a40",
   "metadata": {
    "execution": {
     "iopub.execute_input": "2023-03-02T00:50:31.097281Z",
     "iopub.status.busy": "2023-03-02T00:50:31.096410Z",
     "iopub.status.idle": "2023-03-02T00:50:32.572891Z",
     "shell.execute_reply": "2023-03-02T00:50:32.571882Z"
    },
    "papermill": {
     "duration": null,
     "end_time": null,
     "exception": null,
     "start_time": null,
     "status": "pending"
    },
    "tags": []
   },
   "outputs": [],
   "source": [
    "# Convert tensors to numpy array\n",
    "logits = np.array([lt[0].numpy() for lt in logits_tensor])\n",
    "labels = [logits2label(lt, model) for lt in logits_tensor]"
   ]
  },
  {
   "cell_type": "code",
   "execution_count": null,
   "id": "43871218",
   "metadata": {
    "execution": {
     "iopub.execute_input": "2023-03-02T00:50:32.629197Z",
     "iopub.status.busy": "2023-03-02T00:50:32.628904Z",
     "iopub.status.idle": "2023-03-02T00:50:32.634409Z",
     "shell.execute_reply": "2023-03-02T00:50:32.633101Z"
    },
    "papermill": {
     "duration": null,
     "end_time": null,
     "exception": null,
     "start_time": null,
     "status": "pending"
    },
    "tags": []
   },
   "outputs": [],
   "source": [
    "tsne_model = TSNE(n_components=2, random_state=42, init='pca')"
   ]
  },
  {
   "cell_type": "code",
   "execution_count": null,
   "id": "60c237d0",
   "metadata": {
    "execution": {
     "iopub.execute_input": "2023-03-02T00:50:32.675760Z",
     "iopub.status.busy": "2023-03-02T00:50:32.675303Z",
     "iopub.status.idle": "2023-03-02T00:59:32.331720Z",
     "shell.execute_reply": "2023-03-02T00:59:32.330896Z"
    },
    "papermill": {
     "duration": null,
     "end_time": null,
     "exception": null,
     "start_time": null,
     "status": "pending"
    },
    "tags": []
   },
   "outputs": [],
   "source": [
    "tsne_logits = pd.DataFrame(tsne_model.fit_transform(logits), columns=['x','y'])\n",
    "tsne_logits['label'] = labels"
   ]
  },
  {
   "cell_type": "code",
   "execution_count": null,
   "id": "151a3aee",
   "metadata": {
    "execution": {
     "iopub.execute_input": "2023-03-02T00:59:32.356160Z",
     "iopub.status.busy": "2023-03-02T00:59:32.355547Z",
     "iopub.status.idle": "2023-03-02T00:59:42.483845Z",
     "shell.execute_reply": "2023-03-02T00:59:42.482967Z"
    },
    "papermill": {
     "duration": null,
     "end_time": null,
     "exception": null,
     "start_time": null,
     "status": "pending"
    },
    "tags": []
   },
   "outputs": [],
   "source": [
    "fig, ax = plt.subplots()\n",
    "ax = sns.scatterplot(data=tsne_logits, x='x', y='y', hue='label')\n",
    "ax.set_title('T-SNE representation of emotion logits')\n",
    "tikzplotlib.save('../tikz/tsne_emotions.tex')"
   ]
  },
  {
   "cell_type": "code",
   "execution_count": null,
   "id": "7456d3bd",
   "metadata": {
    "execution": {
     "iopub.execute_input": "2023-03-02T00:59:42.518436Z",
     "iopub.status.busy": "2023-03-02T00:59:42.517956Z",
     "iopub.status.idle": "2023-03-02T00:59:42.541141Z",
     "shell.execute_reply": "2023-03-02T00:59:42.540167Z"
    },
    "papermill": {
     "duration": null,
     "end_time": null,
     "exception": null,
     "start_time": null,
     "status": "pending"
    },
    "tags": []
   },
   "outputs": [],
   "source": [
    "scaler = StandardScaler()\n",
    "scl_logits = scaler.fit_transform(logits)"
   ]
  },
  {
   "cell_type": "code",
   "execution_count": null,
   "id": "f3ac301d",
   "metadata": {
    "execution": {
     "iopub.execute_input": "2023-03-02T00:59:42.602557Z",
     "iopub.status.busy": "2023-03-02T00:59:42.601695Z",
     "iopub.status.idle": "2023-03-02T00:59:42.688261Z",
     "shell.execute_reply": "2023-03-02T00:59:42.687428Z"
    },
    "papermill": {
     "duration": null,
     "end_time": null,
     "exception": null,
     "start_time": null,
     "status": "pending"
    },
    "tags": []
   },
   "outputs": [],
   "source": [
    "pca = PCA(n_components=1, random_state=42)\n",
    "pca.fit(scl_logits)"
   ]
  },
  {
   "cell_type": "code",
   "execution_count": null,
   "id": "e9923828",
   "metadata": {
    "execution": {
     "iopub.execute_input": "2023-03-02T00:59:42.741584Z",
     "iopub.status.busy": "2023-03-02T00:59:42.741212Z",
     "iopub.status.idle": "2023-03-02T00:59:42.750382Z",
     "shell.execute_reply": "2023-03-02T00:59:42.749419Z"
    },
    "papermill": {
     "duration": null,
     "end_time": null,
     "exception": null,
     "start_time": null,
     "status": "pending"
    },
    "tags": []
   },
   "outputs": [],
   "source": [
    "joblib.dump(pca, '../models/gpca/emo_pca.pkl')\n",
    "joblib.dump(scaler, '../models/gpca/emo_scaler.pkl')"
   ]
  },
  {
   "cell_type": "code",
   "execution_count": null,
   "id": "66851372",
   "metadata": {
    "execution": {
     "iopub.execute_input": "2023-03-02T00:59:42.799220Z",
     "iopub.status.busy": "2023-03-02T00:59:42.798633Z",
     "iopub.status.idle": "2023-03-02T00:59:42.803709Z",
     "shell.execute_reply": "2023-03-02T00:59:42.802879Z"
    },
    "papermill": {
     "duration": null,
     "end_time": null,
     "exception": null,
     "start_time": null,
     "status": "pending"
    },
    "tags": []
   },
   "outputs": [],
   "source": [
    "scaler = joblib.load('../models/gpca/emo_scaler.pkl')\n",
    "pca = joblib.load('../models/gpca/emo_pca.pkl')"
   ]
  },
  {
   "cell_type": "code",
   "execution_count": null,
   "id": "829ba6db",
   "metadata": {
    "execution": {
     "iopub.execute_input": "2023-03-02T00:59:42.836826Z",
     "iopub.status.busy": "2023-03-02T00:59:42.836406Z",
     "iopub.status.idle": "2023-03-02T00:59:44.508791Z",
     "shell.execute_reply": "2023-03-02T00:59:44.507798Z"
    },
    "papermill": {
     "duration": null,
     "end_time": null,
     "exception": null,
     "start_time": null,
     "status": "pending"
    },
    "tags": []
   },
   "outputs": [],
   "source": [
    "random_lyrics = random.choice(df['lyrics'])\n",
    "\n",
    "print(random_lyrics)\n",
    "\n",
    "logits_tensor = [get_logits(verse, tokenizer=tokenizer, model=model) for verse in random_lyrics]\n",
    "\n",
    "# Convert tensors to numpy array\n",
    "eg_multi_ts = np.array([lt[0].numpy() for lt in logits_tensor])\n",
    "eg_uni_ts = list(map(\n",
    "    lambda unique_element: unique_element[0], pca.transform(eg_multi_ts)))\n",
    "plt.plot(eg_uni_ts)"
   ]
  }
 ],
 "metadata": {
  "kernelspec": {
   "display_name": "Python 3 (ipykernel)",
   "language": "python",
   "name": "python3"
  },
  "language_info": {
   "codemirror_mode": {
    "name": "ipython",
    "version": 3
   },
   "file_extension": ".py",
   "mimetype": "text/x-python",
   "name": "python",
   "nbconvert_exporter": "python",
   "pygments_lexer": "ipython3",
   "version": "3.9.16"
  },
  "papermill": {
   "default_parameters": {},
   "duration": 5311.861736,
   "end_time": "2023-03-04T16:17:04.064215",
   "environment_variables": {},
   "exception": true,
   "input_path": "03_gpca_model_training.ipynb",
   "output_path": "03_gpca_model_training.ipynb",
   "parameters": {},
   "start_time": "2023-03-04T14:48:32.202479",
   "version": "2.4.0"
  },
  "vscode": {
   "interpreter": {
    "hash": "eb8d1ded7c87c6f9c253b40add648304d6b51d2e38393955e855effc7e6f899a"
   }
  }
 },
 "nbformat": 4,
 "nbformat_minor": 5
}