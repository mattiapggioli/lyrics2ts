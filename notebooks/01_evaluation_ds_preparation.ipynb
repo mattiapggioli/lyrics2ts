{
 "cells": [
  {
   "cell_type": "markdown",
   "id": "cf5baa12",
   "metadata": {
    "papermill": {
     "duration": 0.008802,
     "end_time": "2023-03-14T19:32:27.374981",
     "exception": false,
     "start_time": "2023-03-14T19:32:27.366179",
     "status": "completed"
    },
    "tags": []
   },
   "source": [
    "## Evaluation Dataset Preparation"
   ]
  },
  {
   "cell_type": "code",
   "execution_count": 1,
   "id": "464a1f1f",
   "metadata": {
    "execution": {
     "iopub.execute_input": "2023-03-14T19:32:27.398368Z",
     "iopub.status.busy": "2023-03-14T19:32:27.397244Z",
     "iopub.status.idle": "2023-03-14T19:32:33.342360Z",
     "shell.execute_reply": "2023-03-14T19:32:33.341523Z"
    },
    "papermill": {
     "duration": 5.960854,
     "end_time": "2023-03-14T19:32:33.345430",
     "exception": false,
     "start_time": "2023-03-14T19:32:27.384576",
     "status": "completed"
    },
    "tags": []
   },
   "outputs": [
    {
     "name": "stderr",
     "output_type": "stream",
     "text": [
      "2023-03-14 20:32:30.331542: I tensorflow/core/platform/cpu_feature_guard.cc:193] This TensorFlow binary is optimized with oneAPI Deep Neural Network Library (oneDNN) to use the following CPU instructions in performance-critical operations:  AVX2 FMA\n",
      "To enable them in other operations, rebuild TensorFlow with the appropriate compiler flags.\n"
     ]
    },
    {
     "name": "stderr",
     "output_type": "stream",
     "text": [
      "2023-03-14 20:32:31.897564: W tensorflow/compiler/xla/stream_executor/platform/default/dso_loader.cc:64] Could not load dynamic library 'libnvinfer.so.7'; dlerror: libnvinfer.so.7: cannot open shared object file: No such file or directory\n",
      "2023-03-14 20:32:31.897763: W tensorflow/compiler/xla/stream_executor/platform/default/dso_loader.cc:64] Could not load dynamic library 'libnvinfer_plugin.so.7'; dlerror: libnvinfer_plugin.so.7: cannot open shared object file: No such file or directory\n",
      "2023-03-14 20:32:31.897773: W tensorflow/compiler/tf2tensorrt/utils/py_utils.cc:38] TF-TRT Warning: Cannot dlopen some TensorRT libraries. If you would like to use Nvidia GPU with TensorRT, please make sure the missing libraries mentioned above are installed properly.\n"
     ]
    }
   ],
   "source": [
    "import pandas as pd\n",
    "import numpy as np\n",
    "import random\n",
    "import ast\n",
    "import nlpaug.augmenter.word as naw\n",
    "from math import sqrt\n",
    "from sklearn.model_selection import train_test_split"
   ]
  },
  {
   "cell_type": "code",
   "execution_count": 2,
   "id": "16168973",
   "metadata": {
    "execution": {
     "iopub.execute_input": "2023-03-14T19:32:33.362595Z",
     "iopub.status.busy": "2023-03-14T19:32:33.361809Z",
     "iopub.status.idle": "2023-03-14T19:32:33.986939Z",
     "shell.execute_reply": "2023-03-14T19:32:33.986115Z"
    },
    "papermill": {
     "duration": 0.636457,
     "end_time": "2023-03-14T19:32:33.989590",
     "exception": false,
     "start_time": "2023-03-14T19:32:33.353133",
     "status": "completed"
    },
    "tags": []
   },
   "outputs": [],
   "source": [
    "df = pd.read_csv('../data/lyrics.csv')"
   ]
  },
  {
   "cell_type": "code",
   "execution_count": 3,
   "id": "cc4df961",
   "metadata": {
    "execution": {
     "iopub.execute_input": "2023-03-14T19:32:34.059906Z",
     "iopub.status.busy": "2023-03-14T19:32:34.059504Z",
     "iopub.status.idle": "2023-03-14T19:32:34.073424Z",
     "shell.execute_reply": "2023-03-14T19:32:34.072649Z"
    },
    "papermill": {
     "duration": 0.027715,
     "end_time": "2023-03-14T19:32:34.076647",
     "exception": false,
     "start_time": "2023-03-14T19:32:34.048932",
     "status": "completed"
    },
    "tags": []
   },
   "outputs": [
    {
     "data": {
      "text/html": [
       "<div>\n",
       "<style scoped>\n",
       "    .dataframe tbody tr th:only-of-type {\n",
       "        vertical-align: middle;\n",
       "    }\n",
       "\n",
       "    .dataframe tbody tr th {\n",
       "        vertical-align: top;\n",
       "    }\n",
       "\n",
       "    .dataframe thead th {\n",
       "        text-align: right;\n",
       "    }\n",
       "</style>\n",
       "<table border=\"1\" class=\"dataframe\">\n",
       "  <thead>\n",
       "    <tr style=\"text-align: right;\">\n",
       "      <th></th>\n",
       "      <th>lyrics</th>\n",
       "      <th>genre</th>\n",
       "      <th>id</th>\n",
       "    </tr>\n",
       "  </thead>\n",
       "  <tbody>\n",
       "    <tr>\n",
       "      <th>0</th>\n",
       "      <td>['So long', 'My sweet love', 'I miss you', \"Mo...</td>\n",
       "      <td>pop</td>\n",
       "      <td>0</td>\n",
       "    </tr>\n",
       "    <tr>\n",
       "      <th>1</th>\n",
       "      <td>[\"It won't be long before I'm leaving here\", \"...</td>\n",
       "      <td>pop</td>\n",
       "      <td>1</td>\n",
       "    </tr>\n",
       "    <tr>\n",
       "      <th>2</th>\n",
       "      <td>['Are we crazy?', 'Living our lives through a ...</td>\n",
       "      <td>pop</td>\n",
       "      <td>2</td>\n",
       "    </tr>\n",
       "    <tr>\n",
       "      <th>3</th>\n",
       "      <td>['When did it go wrong, I will never know', 'I...</td>\n",
       "      <td>pop</td>\n",
       "      <td>3</td>\n",
       "    </tr>\n",
       "    <tr>\n",
       "      <th>4</th>\n",
       "      <td>[\"I've waited all this time\", 'Counting minute...</td>\n",
       "      <td>pop</td>\n",
       "      <td>4</td>\n",
       "    </tr>\n",
       "  </tbody>\n",
       "</table>\n",
       "</div>"
      ],
      "text/plain": [
       "                                              lyrics genre  id\n",
       "0  ['So long', 'My sweet love', 'I miss you', \"Mo...   pop   0\n",
       "1  [\"It won't be long before I'm leaving here\", \"...   pop   1\n",
       "2  ['Are we crazy?', 'Living our lives through a ...   pop   2\n",
       "3  ['When did it go wrong, I will never know', 'I...   pop   3\n",
       "4  [\"I've waited all this time\", 'Counting minute...   pop   4"
      ]
     },
     "execution_count": 3,
     "metadata": {},
     "output_type": "execute_result"
    }
   ],
   "source": [
    "df.head()"
   ]
  },
  {
   "cell_type": "code",
   "execution_count": 4,
   "id": "bc8a9a7c",
   "metadata": {
    "execution": {
     "iopub.execute_input": "2023-03-14T19:32:34.094274Z",
     "iopub.status.busy": "2023-03-14T19:32:34.093976Z",
     "iopub.status.idle": "2023-03-14T19:32:34.125373Z",
     "shell.execute_reply": "2023-03-14T19:32:34.124186Z"
    },
    "papermill": {
     "duration": 0.043615,
     "end_time": "2023-03-14T19:32:34.128157",
     "exception": false,
     "start_time": "2023-03-14T19:32:34.084542",
     "status": "completed"
    },
    "tags": []
   },
   "outputs": [
    {
     "name": "stdout",
     "output_type": "stream",
     "text": [
      "<class 'pandas.core.frame.DataFrame'>\n",
      "RangeIndex: 36000 entries, 0 to 35999\n",
      "Data columns (total 3 columns):\n",
      " #   Column  Non-Null Count  Dtype \n",
      "---  ------  --------------  ----- \n",
      " 0   lyrics  36000 non-null  object\n",
      " 1   genre   36000 non-null  object\n",
      " 2   id      36000 non-null  int64 \n",
      "dtypes: int64(1), object(2)\n",
      "memory usage: 843.9+ KB\n"
     ]
    }
   ],
   "source": [
    "df.info()"
   ]
  },
  {
   "cell_type": "code",
   "execution_count": 5,
   "id": "4321c08a",
   "metadata": {
    "execution": {
     "iopub.execute_input": "2023-03-14T19:32:34.147248Z",
     "iopub.status.busy": "2023-03-14T19:32:34.146030Z",
     "iopub.status.idle": "2023-03-14T19:32:37.576505Z",
     "shell.execute_reply": "2023-03-14T19:32:37.575644Z"
    },
    "papermill": {
     "duration": 3.443326,
     "end_time": "2023-03-14T19:32:37.578998",
     "exception": false,
     "start_time": "2023-03-14T19:32:34.135672",
     "status": "completed"
    },
    "tags": []
   },
   "outputs": [],
   "source": [
    "df['lyrics'] = df['lyrics'].apply(ast.literal_eval)"
   ]
  },
  {
   "cell_type": "code",
   "execution_count": 6,
   "id": "25e04d13",
   "metadata": {
    "execution": {
     "iopub.execute_input": "2023-03-14T19:32:37.590067Z",
     "iopub.status.busy": "2023-03-14T19:32:37.589667Z",
     "iopub.status.idle": "2023-03-14T19:32:37.598913Z",
     "shell.execute_reply": "2023-03-14T19:32:37.598069Z"
    },
    "papermill": {
     "duration": 0.016504,
     "end_time": "2023-03-14T19:32:37.600783",
     "exception": false,
     "start_time": "2023-03-14T19:32:37.584279",
     "status": "completed"
    },
    "tags": []
   },
   "outputs": [],
   "source": [
    "df0 = df.copy()"
   ]
  },
  {
   "cell_type": "code",
   "execution_count": 7,
   "id": "fd6271df",
   "metadata": {
    "execution": {
     "iopub.execute_input": "2023-03-14T19:32:37.612258Z",
     "iopub.status.busy": "2023-03-14T19:32:37.610920Z",
     "iopub.status.idle": "2023-03-14T19:32:37.631619Z",
     "shell.execute_reply": "2023-03-14T19:32:37.630677Z"
    },
    "papermill": {
     "duration": 0.029202,
     "end_time": "2023-03-14T19:32:37.633730",
     "exception": false,
     "start_time": "2023-03-14T19:32:37.604528",
     "status": "completed"
    },
    "tags": []
   },
   "outputs": [],
   "source": [
    "df = df.groupby(\"genre\").sample(n=50, random_state=42).reset_index()"
   ]
  },
  {
   "cell_type": "code",
   "execution_count": 8,
   "id": "6c6bd385",
   "metadata": {
    "execution": {
     "iopub.execute_input": "2023-03-14T19:32:37.644643Z",
     "iopub.status.busy": "2023-03-14T19:32:37.643234Z",
     "iopub.status.idle": "2023-03-14T19:32:37.651016Z",
     "shell.execute_reply": "2023-03-14T19:32:37.650098Z"
    },
    "papermill": {
     "duration": 0.014475,
     "end_time": "2023-03-14T19:32:37.652539",
     "exception": false,
     "start_time": "2023-03-14T19:32:37.638064",
     "status": "completed"
    },
    "tags": []
   },
   "outputs": [
    {
     "data": {
      "text/plain": [
       "['You give me the shakes',\n",
       " 'You give me the cold sweats',\n",
       " \"You're giving me reasons to turn my tear drops\",\n",
       " 'Into death threats',\n",
       " \"You're going straight to machine\",\n",
       " 'So I kiss my brothers',\n",
       " 'I never took off my chains',\n",
       " 'They never took my colors',\n",
       " \"Take 'em on in the morning luv\",\n",
       " \"I'm digging deep for my midas touch\",\n",
       " 'We could be chasing the waves',\n",
       " \"I know it isn't much\",\n",
       " 'Let it drop. Let it drop',\n",
       " \"People don't make it easy\",\n",
       " 'Let it drop. Let it drop',\n",
       " \"Isn't it strange\",\n",
       " 'The way you move me so',\n",
       " 'You love me with hot hammers',\n",
       " 'And then your blood runs cold',\n",
       " 'For my next trick',\n",
       " 'Gonna be like: where she go?',\n",
       " 'Make an exit',\n",
       " 'like adios amigos',\n",
       " 'It got too complicated',\n",
       " 'Cool it down and refridgerate it',\n",
       " 'We could be lassoing the stars',\n",
       " \"But people don't make it easy\",\n",
       " 'Let it drop. Let it drop',\n",
       " 'Let it drop',\n",
       " \"Let it drop. People don't make it easy\",\n",
       " 'Let it drop. Let it drop',\n",
       " 'Let it drop']"
      ]
     },
     "execution_count": 8,
     "metadata": {},
     "output_type": "execute_result"
    }
   ],
   "source": [
    "eg_lyrics = random.choice(df['lyrics'])\n",
    "eg_lyrics"
   ]
  },
  {
   "cell_type": "code",
   "execution_count": 9,
   "id": "c1f7bdbd",
   "metadata": {
    "execution": {
     "iopub.execute_input": "2023-03-14T19:32:37.660915Z",
     "iopub.status.busy": "2023-03-14T19:32:37.660628Z",
     "iopub.status.idle": "2023-03-14T19:32:47.187238Z",
     "shell.execute_reply": "2023-03-14T19:32:47.185970Z"
    },
    "papermill": {
     "duration": 9.533723,
     "end_time": "2023-03-14T19:32:47.189965",
     "exception": false,
     "start_time": "2023-03-14T19:32:37.656242",
     "status": "completed"
    },
    "tags": []
   },
   "outputs": [],
   "source": [
    "aug = naw.ContextualWordEmbsAug(model_path='roberta-base', action=\"substitute\")"
   ]
  },
  {
   "cell_type": "code",
   "execution_count": 10,
   "id": "737ac3e7",
   "metadata": {
    "execution": {
     "iopub.execute_input": "2023-03-14T19:32:47.200143Z",
     "iopub.status.busy": "2023-03-14T19:32:47.199857Z",
     "iopub.status.idle": "2023-03-14T19:32:47.205087Z",
     "shell.execute_reply": "2023-03-14T19:32:47.204208Z"
    },
    "papermill": {
     "duration": 0.011576,
     "end_time": "2023-03-14T19:32:47.206700",
     "exception": false,
     "start_time": "2023-03-14T19:32:47.195124",
     "status": "completed"
    },
    "tags": []
   },
   "outputs": [],
   "source": [
    "def misalign_lyrics(lyrics, repetitions, repeat_verse):\n",
    "    verses2repeat = random.sample(range(0, len(lyrics)), repetitions)\n",
    "    misaligned_lyrics = []\n",
    "    for idx, verse in enumerate(lyrics):\n",
    "        if idx in verses2repeat:\n",
    "            misaligned_lyrics.extend([verse] * repeat_verse)\n",
    "        else:\n",
    "            misaligned_lyrics.append(verse)\n",
    "    return misaligned_lyrics"
   ]
  },
  {
   "cell_type": "code",
   "execution_count": 11,
   "id": "afd1c5ca",
   "metadata": {
    "execution": {
     "iopub.execute_input": "2023-03-14T19:32:47.214760Z",
     "iopub.status.busy": "2023-03-14T19:32:47.214482Z",
     "iopub.status.idle": "2023-03-14T19:32:47.222293Z",
     "shell.execute_reply": "2023-03-14T19:32:47.221496Z"
    },
    "papermill": {
     "duration": 0.014323,
     "end_time": "2023-03-14T19:32:47.224333",
     "exception": false,
     "start_time": "2023-03-14T19:32:47.210010",
     "status": "completed"
    },
    "tags": []
   },
   "outputs": [],
   "source": [
    "evaluation_ids = list(df['id'])\n",
    "\n",
    "all_lyrics = df0.drop(index=evaluation_ids)['lyrics']"
   ]
  },
  {
   "cell_type": "code",
   "execution_count": 12,
   "id": "250f950f",
   "metadata": {
    "execution": {
     "iopub.execute_input": "2023-03-14T19:32:47.240472Z",
     "iopub.status.busy": "2023-03-14T19:32:47.240154Z",
     "iopub.status.idle": "2023-03-14T19:32:47.860346Z",
     "shell.execute_reply": "2023-03-14T19:32:47.859457Z"
    },
    "papermill": {
     "duration": 0.633599,
     "end_time": "2023-03-14T19:32:47.862745",
     "exception": false,
     "start_time": "2023-03-14T19:32:47.229146",
     "status": "completed"
    },
    "tags": []
   },
   "outputs": [
    {
     "name": "stdout",
     "output_type": "stream",
     "text": [
      "Original verse:\n",
      "Cool it down and refridgerate it\n",
      "Augmented:\n"
     ]
    },
    {
     "data": {
      "text/plain": [
       "['Cool ice completely and refridgerate later']"
      ]
     },
     "execution_count": 12,
     "metadata": {},
     "output_type": "execute_result"
    }
   ],
   "source": [
    "eg_verse = random.choice(eg_lyrics)\n",
    "print('Original verse:')\n",
    "print(eg_verse)\n",
    "\n",
    "print('Augmented:')\n",
    "aug.augment(eg_verse)"
   ]
  },
  {
   "cell_type": "code",
   "execution_count": 13,
   "id": "cfa3b071",
   "metadata": {
    "execution": {
     "iopub.execute_input": "2023-03-14T19:32:47.873091Z",
     "iopub.status.busy": "2023-03-14T19:32:47.872674Z",
     "iopub.status.idle": "2023-03-14T19:32:52.289971Z",
     "shell.execute_reply": "2023-03-14T19:32:52.288990Z"
    },
    "papermill": {
     "duration": 4.425676,
     "end_time": "2023-03-14T19:32:52.292980",
     "exception": false,
     "start_time": "2023-03-14T19:32:47.867304",
     "status": "completed"
    },
    "tags": []
   },
   "outputs": [
    {
     "name": "stdout",
     "output_type": "stream",
     "text": [
      "ORIGINAL lyrics:\n",
      "['She was from San Mateo', 'Her dad was in the CIA-o', 'She was on her way to Pasadena', \"But nobody says they've seen her\", \"She's a teenage runaway\", 'He works at the record place', \"Now she's got his acid baby\", 'Tonight, tonight, hey hey hey', \"She don't know what to do now\", 'The baby always has the flu now', 'No more looking like a queen', 'Overdosed on Afro-sheen.', \"She's a teenage runaway\", \"Vegas ain't no place to stay\", 'She just had to get away', 'Tonight, tonight', 'She was from San Mateo', 'Her dad was in the CIA-o', 'She was on her way to Pasadena', \"But nobody says they've seen her\", \"She's a teenage runaway\", 'He works at the record place', \"Now she's got his acid baby\", 'Tonight, tonight, hey hey hey', 'Hey hey hey', 'Hey hey Hey', 'Hey hey hey']\n",
      "\n",
      "AUGMENTED lyrics:\n",
      "Aligned:\n",
      "['She was from Saint Miguel', 'Her mother was probably a CIA-o', 'She was on another road towards Pasadena', \"But nobody said they've tried enough\", \"She's another teen runaway\", 'He died at your record place', 'Now Bob got his electric bill', 'Tonight, sir, and hey ho', 'She said tell how to do now', 'The baby Bird has a father now', 'No fun thinking like a queen', 'Overdosed with rough-sheen.', \"She's no teenage boy\", 'Vegas - how Vegas to stay', 'She simply had to look away', 'Tonight, Sunday', 'She was from Montreal Bruno', 'Her dad took all the photo-o', 'She remembers spending her way to Florida', 'But nobody says he lost five', \"She's a helicopter mother\", 'He is for the record place', 'Now Scott paid his acid bill', 'Tonight, yeah, hey … |', 'Hey a hey', 'Hey Oh Hey', 'Hey hey good']\n",
      "\n",
      "Misaligned:\n",
      "['She was from Saint Miguel', 'Her mother was probably a CIA-o', 'She was on another road towards Pasadena', \"But nobody said they've tried enough\", \"She's another teen runaway\", 'He died at your record place', 'Now Bob got his electric bill', 'Tonight, sir, and hey ho', 'Tonight, sir, and hey ho', 'She said tell how to do now', 'The baby Bird has a father now', 'No fun thinking like a queen', 'Overdosed with rough-sheen.', \"She's no teenage boy\", 'Vegas - how Vegas to stay', 'Vegas - how Vegas to stay', 'She simply had to look away', 'She simply had to look away', 'Tonight, Sunday', 'She was from Montreal Bruno', 'Her dad took all the photo-o', 'She remembers spending her way to Florida', 'But nobody says he lost five', \"She's a helicopter mother\", 'He is for the record place', 'He is for the record place', 'Now Scott paid his acid bill', 'Tonight, yeah, hey … |', 'Hey a hey', 'Hey a hey', 'Hey Oh Hey', 'Hey hey good']\n",
      "\n",
      "RANDOM lyrics:\n",
      "['I see what people do', 'I hear what people say', 'I know theres trouble everywhere', 'I see ít everyday', \"Some things won't get better\", \"Some people won't get through\", 'But I can dream of a better world', 'If I want to', 'If I want to imagine peace on every hand', 'I close my eyes', 'And dream my dreams', 'In dreams I make a stand', 'Anytime I start missing', 'Human harmony I listen hard', 'Until I hear the music ínside of me', 'I can sing of a better world if I want to', 'I can dream of a better world if I want to', 'And I want to', 'You walk down any stieet', \"You dorít know what you'll find\", 'Sornetimes it takes me ali I have', 'To face a world unkind', \"I won't give up trying\", 'I worít just let it go', 'I still believe you can plant a dream', 'If you want to']\n"
     ]
    }
   ],
   "source": [
    "eg_lyrics = random.choice(df['lyrics'])\n",
    "\n",
    "eg_aug_lyrics = aug.augment(eg_lyrics)\n",
    "\n",
    "eg_aug_misl_lyrics = misalign_lyrics(eg_aug_lyrics, \n",
    "                                     repetitions=round(sqrt(len(eg_lyrics))), \n",
    "                                     repeat_verse=2)\n",
    "\n",
    "eg_fake_lyrics = random.choice(all_lyrics)\n",
    "\n",
    "print('ORIGINAL lyrics:')\n",
    "print(eg_lyrics)\n",
    "print()\n",
    "print('AUGMENTED lyrics:')\n",
    "print('Aligned:')\n",
    "print(eg_aug_lyrics)\n",
    "print()\n",
    "print('Misaligned:')\n",
    "print(eg_aug_misl_lyrics)\n",
    "print()\n",
    "print('RANDOM lyrics:')\n",
    "print(eg_fake_lyrics)"
   ]
  },
  {
   "cell_type": "code",
   "execution_count": 14,
   "id": "ef726478",
   "metadata": {
    "execution": {
     "iopub.execute_input": "2023-03-14T19:32:52.320927Z",
     "iopub.status.busy": "2023-03-14T19:32:52.319625Z",
     "iopub.status.idle": "2023-03-14T20:27:23.456045Z",
     "shell.execute_reply": "2023-03-14T20:27:23.455176Z"
    },
    "papermill": {
     "duration": 3271.15521,
     "end_time": "2023-03-14T20:27:23.459215",
     "exception": false,
     "start_time": "2023-03-14T19:32:52.304005",
     "status": "completed"
    },
    "tags": []
   },
   "outputs": [],
   "source": [
    "aug_lyrics = df['lyrics'].apply(lambda x: aug.augment(x))\n",
    "\n",
    "\n",
    "misl_aug_lyrics = [misalign_lyrics(aug_lyr, repetitions=round(sqrt(\n",
    "    len(aug_lyr))), repeat_verse=random.choice([2,3])) for aug_lyr in aug_lyrics]\n",
    "\n",
    "                                   \n",
    "df['similar_lyrics'] = misl_aug_lyrics\n",
    "df['random_lyrics'] = random.sample(list(all_lyrics), len(df['lyrics']))"
   ]
  },
  {
   "cell_type": "code",
   "execution_count": 15,
   "id": "616ecc4e",
   "metadata": {
    "execution": {
     "iopub.execute_input": "2023-03-14T20:27:23.485854Z",
     "iopub.status.busy": "2023-03-14T20:27:23.485211Z",
     "iopub.status.idle": "2023-03-14T20:27:23.514536Z",
     "shell.execute_reply": "2023-03-14T20:27:23.513837Z"
    },
    "papermill": {
     "duration": 0.045237,
     "end_time": "2023-03-14T20:27:23.517474",
     "exception": false,
     "start_time": "2023-03-14T20:27:23.472237",
     "status": "completed"
    },
    "tags": []
   },
   "outputs": [
    {
     "data": {
      "text/html": [
       "<div>\n",
       "<style scoped>\n",
       "    .dataframe tbody tr th:only-of-type {\n",
       "        vertical-align: middle;\n",
       "    }\n",
       "\n",
       "    .dataframe tbody tr th {\n",
       "        vertical-align: top;\n",
       "    }\n",
       "\n",
       "    .dataframe thead th {\n",
       "        text-align: right;\n",
       "    }\n",
       "</style>\n",
       "<table border=\"1\" class=\"dataframe\">\n",
       "  <thead>\n",
       "    <tr style=\"text-align: right;\">\n",
       "      <th></th>\n",
       "      <th>index</th>\n",
       "      <th>lyrics</th>\n",
       "      <th>genre</th>\n",
       "      <th>id</th>\n",
       "      <th>similar_lyrics</th>\n",
       "      <th>random_lyrics</th>\n",
       "    </tr>\n",
       "  </thead>\n",
       "  <tbody>\n",
       "    <tr>\n",
       "      <th>0</th>\n",
       "      <td>1935</td>\n",
       "      <td>[Well, I've been waitin' ever since eight, Gue...</td>\n",
       "      <td>pop</td>\n",
       "      <td>1935</td>\n",
       "      <td>[Well, after just waitin' to … eight, Guess wh...</td>\n",
       "      <td>[The world is a vampire, Sent to drain, Secret...</td>\n",
       "    </tr>\n",
       "    <tr>\n",
       "      <th>1</th>\n",
       "      <td>6494</td>\n",
       "      <td>[This kind of love, Is more than a lifeline, F...</td>\n",
       "      <td>pop</td>\n",
       "      <td>6494</td>\n",
       "      <td>[This did of this, Is these question a lifelin...</td>\n",
       "      <td>[Just look over your shoulders, honey!, It's b...</td>\n",
       "    </tr>\n",
       "    <tr>\n",
       "      <th>2</th>\n",
       "      <td>1720</td>\n",
       "      <td>[I could tell by the look in her eyes, Maybe I...</td>\n",
       "      <td>pop</td>\n",
       "      <td>1720</td>\n",
       "      <td>[I seldom tell by I look in serve eyes, Maybe ...</td>\n",
       "      <td>[She is the queen of barefoot, She goes walk o...</td>\n",
       "    </tr>\n",
       "    <tr>\n",
       "      <th>3</th>\n",
       "      <td>9120</td>\n",
       "      <td>[Don't Tell me you love me when I don't, You k...</td>\n",
       "      <td>pop</td>\n",
       "      <td>9120</td>\n",
       "      <td>[Don't Tell me you Found me Twice but One, You...</td>\n",
       "      <td>[Listen Baby, When I\\'m all alone, cause you\\'...</td>\n",
       "    </tr>\n",
       "    <tr>\n",
       "      <th>4</th>\n",
       "      <td>360</td>\n",
       "      <td>[Who's the man? who's the boss?, who's the nig...</td>\n",
       "      <td>pop</td>\n",
       "      <td>360</td>\n",
       "      <td>[Who's We man? who's p dress?, who's&lt;unk&gt; butt...</td>\n",
       "      <td>[DJ Khaled!, From the mud to the marble floors...</td>\n",
       "    </tr>\n",
       "  </tbody>\n",
       "</table>\n",
       "</div>"
      ],
      "text/plain": [
       "   index                                             lyrics genre    id  \\\n",
       "0   1935  [Well, I've been waitin' ever since eight, Gue...   pop  1935   \n",
       "1   6494  [This kind of love, Is more than a lifeline, F...   pop  6494   \n",
       "2   1720  [I could tell by the look in her eyes, Maybe I...   pop  1720   \n",
       "3   9120  [Don't Tell me you love me when I don't, You k...   pop  9120   \n",
       "4    360  [Who's the man? who's the boss?, who's the nig...   pop   360   \n",
       "\n",
       "                                      similar_lyrics  \\\n",
       "0  [Well, after just waitin' to … eight, Guess wh...   \n",
       "1  [This did of this, Is these question a lifelin...   \n",
       "2  [I seldom tell by I look in serve eyes, Maybe ...   \n",
       "3  [Don't Tell me you Found me Twice but One, You...   \n",
       "4  [Who's We man? who's p dress?, who's<unk> butt...   \n",
       "\n",
       "                                       random_lyrics  \n",
       "0  [The world is a vampire, Sent to drain, Secret...  \n",
       "1  [Just look over your shoulders, honey!, It's b...  \n",
       "2  [She is the queen of barefoot, She goes walk o...  \n",
       "3  [Listen Baby, When I\\'m all alone, cause you\\'...  \n",
       "4  [DJ Khaled!, From the mud to the marble floors...  "
      ]
     },
     "execution_count": 15,
     "metadata": {},
     "output_type": "execute_result"
    }
   ],
   "source": [
    "df.head()"
   ]
  },
  {
   "cell_type": "code",
   "execution_count": 16,
   "id": "6b3eec25",
   "metadata": {
    "execution": {
     "iopub.execute_input": "2023-03-14T20:27:23.540856Z",
     "iopub.status.busy": "2023-03-14T20:27:23.540120Z",
     "iopub.status.idle": "2023-03-14T20:27:23.601155Z",
     "shell.execute_reply": "2023-03-14T20:27:23.600277Z"
    },
    "papermill": {
     "duration": 0.076044,
     "end_time": "2023-03-14T20:27:23.604227",
     "exception": false,
     "start_time": "2023-03-14T20:27:23.528183",
     "status": "completed"
    },
    "tags": []
   },
   "outputs": [],
   "source": [
    "df.to_csv('../data/evaluation/lyrics_eval.csv', index=False)"
   ]
  }
 ],
 "metadata": {
  "kernelspec": {
   "display_name": "Python 3 (ipykernel)",
   "language": "python",
   "name": "python3"
  },
  "language_info": {
   "codemirror_mode": {
    "name": "ipython",
    "version": 3
   },
   "file_extension": ".py",
   "mimetype": "text/x-python",
   "name": "python",
   "nbconvert_exporter": "python",
   "pygments_lexer": "ipython3",
   "version": "3.9.16"
  },
  "papermill": {
   "default_parameters": {},
   "duration": 3301.222299,
   "end_time": "2023-03-14T20:27:27.100497",
   "environment_variables": {},
   "exception": null,
   "input_path": "01_evaluation_ds_preparation.ipynb",
   "output_path": "01_evaluation_ds_preparation.ipynb",
   "parameters": {},
   "start_time": "2023-03-14T19:32:25.878198",
   "version": "2.4.0"
  },
  "vscode": {
   "interpreter": {
    "hash": "eb8d1ded7c87c6f9c253b40add648304d6b51d2e38393955e855effc7e6f899a"
   }
  }
 },
 "nbformat": 4,
 "nbformat_minor": 5
}