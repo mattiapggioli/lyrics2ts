{
 "cells": [
  {
   "cell_type": "markdown",
   "id": "cf5baa12",
   "metadata": {
    "papermill": {
     "duration": 0.008647,
     "end_time": "2023-03-04T13:13:30.188468",
     "exception": false,
     "start_time": "2023-03-04T13:13:30.179821",
     "status": "completed"
    },
    "tags": []
   },
   "source": [
    "## Evaluation Dataset Preparation"
   ]
  },
  {
   "cell_type": "code",
   "execution_count": 1,
   "id": "464a1f1f",
   "metadata": {
    "execution": {
     "iopub.execute_input": "2023-03-04T13:13:30.208798Z",
     "iopub.status.busy": "2023-03-04T13:13:30.208307Z",
     "iopub.status.idle": "2023-03-04T13:13:35.385311Z",
     "shell.execute_reply": "2023-03-04T13:13:35.384677Z"
    },
    "papermill": {
     "duration": 5.191671,
     "end_time": "2023-03-04T13:13:35.388226",
     "exception": false,
     "start_time": "2023-03-04T13:13:30.196555",
     "status": "completed"
    },
    "tags": []
   },
   "outputs": [
    {
     "name": "stderr",
     "output_type": "stream",
     "text": [
      "2023-03-04 14:13:32.757170: I tensorflow/core/platform/cpu_feature_guard.cc:193] This TensorFlow binary is optimized with oneAPI Deep Neural Network Library (oneDNN) to use the following CPU instructions in performance-critical operations:  AVX2 FMA\n",
      "To enable them in other operations, rebuild TensorFlow with the appropriate compiler flags.\n"
     ]
    },
    {
     "name": "stderr",
     "output_type": "stream",
     "text": [
      "2023-03-04 14:13:34.143525: W tensorflow/compiler/xla/stream_executor/platform/default/dso_loader.cc:64] Could not load dynamic library 'libnvinfer.so.7'; dlerror: libnvinfer.so.7: cannot open shared object file: No such file or directory\n",
      "2023-03-04 14:13:34.143609: W tensorflow/compiler/xla/stream_executor/platform/default/dso_loader.cc:64] Could not load dynamic library 'libnvinfer_plugin.so.7'; dlerror: libnvinfer_plugin.so.7: cannot open shared object file: No such file or directory\n",
      "2023-03-04 14:13:34.143618: W tensorflow/compiler/tf2tensorrt/utils/py_utils.cc:38] TF-TRT Warning: Cannot dlopen some TensorRT libraries. If you would like to use Nvidia GPU with TensorRT, please make sure the missing libraries mentioned above are installed properly.\n"
     ]
    }
   ],
   "source": [
    "import pandas as pd\n",
    "import numpy as np\n",
    "import random\n",
    "import ast\n",
    "import nlpaug.augmenter.word as naw\n",
    "from math import sqrt\n",
    "from sklearn.model_selection import train_test_split"
   ]
  },
  {
   "cell_type": "code",
   "execution_count": 2,
   "id": "16168973",
   "metadata": {
    "execution": {
     "iopub.execute_input": "2023-03-04T13:13:35.406361Z",
     "iopub.status.busy": "2023-03-04T13:13:35.405669Z",
     "iopub.status.idle": "2023-03-04T13:13:35.956601Z",
     "shell.execute_reply": "2023-03-04T13:13:35.955941Z"
    },
    "papermill": {
     "duration": 0.563486,
     "end_time": "2023-03-04T13:13:35.959689",
     "exception": false,
     "start_time": "2023-03-04T13:13:35.396203",
     "status": "completed"
    },
    "tags": []
   },
   "outputs": [],
   "source": [
    "df = pd.read_csv('../data/lyrics.csv')"
   ]
  },
  {
   "cell_type": "code",
   "execution_count": 3,
   "id": "cc4df961",
   "metadata": {
    "execution": {
     "iopub.execute_input": "2023-03-04T13:13:36.025216Z",
     "iopub.status.busy": "2023-03-04T13:13:36.024900Z",
     "iopub.status.idle": "2023-03-04T13:13:36.042506Z",
     "shell.execute_reply": "2023-03-04T13:13:36.040912Z"
    },
    "papermill": {
     "duration": 0.03062,
     "end_time": "2023-03-04T13:13:36.046190",
     "exception": false,
     "start_time": "2023-03-04T13:13:36.015570",
     "status": "completed"
    },
    "tags": []
   },
   "outputs": [
    {
     "data": {
      "text/html": [
       "<div>\n",
       "<style scoped>\n",
       "    .dataframe tbody tr th:only-of-type {\n",
       "        vertical-align: middle;\n",
       "    }\n",
       "\n",
       "    .dataframe tbody tr th {\n",
       "        vertical-align: top;\n",
       "    }\n",
       "\n",
       "    .dataframe thead th {\n",
       "        text-align: right;\n",
       "    }\n",
       "</style>\n",
       "<table border=\"1\" class=\"dataframe\">\n",
       "  <thead>\n",
       "    <tr style=\"text-align: right;\">\n",
       "      <th></th>\n",
       "      <th>lyrics</th>\n",
       "      <th>genre</th>\n",
       "      <th>id</th>\n",
       "    </tr>\n",
       "  </thead>\n",
       "  <tbody>\n",
       "    <tr>\n",
       "      <th>0</th>\n",
       "      <td>['So long', 'My sweet love', 'I miss you', \"Mo...</td>\n",
       "      <td>pop</td>\n",
       "      <td>0</td>\n",
       "    </tr>\n",
       "    <tr>\n",
       "      <th>1</th>\n",
       "      <td>[\"It won't be long before I'm leaving here\", \"...</td>\n",
       "      <td>pop</td>\n",
       "      <td>1</td>\n",
       "    </tr>\n",
       "    <tr>\n",
       "      <th>2</th>\n",
       "      <td>['Are we crazy?', 'Living our lives through a ...</td>\n",
       "      <td>pop</td>\n",
       "      <td>2</td>\n",
       "    </tr>\n",
       "    <tr>\n",
       "      <th>3</th>\n",
       "      <td>['When did it go wrong, I will never know', 'I...</td>\n",
       "      <td>pop</td>\n",
       "      <td>3</td>\n",
       "    </tr>\n",
       "    <tr>\n",
       "      <th>4</th>\n",
       "      <td>[\"I've waited all this time\", 'Counting minute...</td>\n",
       "      <td>pop</td>\n",
       "      <td>4</td>\n",
       "    </tr>\n",
       "  </tbody>\n",
       "</table>\n",
       "</div>"
      ],
      "text/plain": [
       "                                              lyrics genre  id\n",
       "0  ['So long', 'My sweet love', 'I miss you', \"Mo...   pop   0\n",
       "1  [\"It won't be long before I'm leaving here\", \"...   pop   1\n",
       "2  ['Are we crazy?', 'Living our lives through a ...   pop   2\n",
       "3  ['When did it go wrong, I will never know', 'I...   pop   3\n",
       "4  [\"I've waited all this time\", 'Counting minute...   pop   4"
      ]
     },
     "execution_count": 3,
     "metadata": {},
     "output_type": "execute_result"
    }
   ],
   "source": [
    "df.head()"
   ]
  },
  {
   "cell_type": "code",
   "execution_count": 4,
   "id": "bc8a9a7c",
   "metadata": {
    "execution": {
     "iopub.execute_input": "2023-03-04T13:13:36.064266Z",
     "iopub.status.busy": "2023-03-04T13:13:36.063059Z",
     "iopub.status.idle": "2023-03-04T13:13:36.108184Z",
     "shell.execute_reply": "2023-03-04T13:13:36.106765Z"
    },
    "papermill": {
     "duration": 0.057649,
     "end_time": "2023-03-04T13:13:36.111436",
     "exception": false,
     "start_time": "2023-03-04T13:13:36.053787",
     "status": "completed"
    },
    "tags": []
   },
   "outputs": [
    {
     "name": "stdout",
     "output_type": "stream",
     "text": [
      "<class 'pandas.core.frame.DataFrame'>\n",
      "RangeIndex: 36000 entries, 0 to 35999\n",
      "Data columns (total 3 columns):\n",
      " #   Column  Non-Null Count  Dtype \n",
      "---  ------  --------------  ----- \n",
      " 0   lyrics  36000 non-null  object\n",
      " 1   genre   36000 non-null  object\n",
      " 2   id      36000 non-null  int64 \n",
      "dtypes: int64(1), object(2)\n",
      "memory usage: 843.9+ KB\n"
     ]
    }
   ],
   "source": [
    "df.info()"
   ]
  },
  {
   "cell_type": "code",
   "execution_count": 5,
   "id": "4321c08a",
   "metadata": {
    "execution": {
     "iopub.execute_input": "2023-03-04T13:13:36.129805Z",
     "iopub.status.busy": "2023-03-04T13:13:36.128627Z",
     "iopub.status.idle": "2023-03-04T13:13:39.116328Z",
     "shell.execute_reply": "2023-03-04T13:13:39.115633Z"
    },
    "papermill": {
     "duration": 3.000192,
     "end_time": "2023-03-04T13:13:39.119588",
     "exception": false,
     "start_time": "2023-03-04T13:13:36.119396",
     "status": "completed"
    },
    "tags": []
   },
   "outputs": [],
   "source": [
    "df['lyrics'] = df['lyrics'].apply(ast.literal_eval)"
   ]
  },
  {
   "cell_type": "code",
   "execution_count": 6,
   "id": "25e04d13",
   "metadata": {
    "execution": {
     "iopub.execute_input": "2023-03-04T13:13:39.138065Z",
     "iopub.status.busy": "2023-03-04T13:13:39.137767Z",
     "iopub.status.idle": "2023-03-04T13:13:39.147362Z",
     "shell.execute_reply": "2023-03-04T13:13:39.146564Z"
    },
    "papermill": {
     "duration": 0.022871,
     "end_time": "2023-03-04T13:13:39.150689",
     "exception": false,
     "start_time": "2023-03-04T13:13:39.127818",
     "status": "completed"
    },
    "tags": []
   },
   "outputs": [],
   "source": [
    "df0 = df.copy()"
   ]
  },
  {
   "cell_type": "code",
   "execution_count": 7,
   "id": "fd6271df",
   "metadata": {
    "execution": {
     "iopub.execute_input": "2023-03-04T13:13:39.169416Z",
     "iopub.status.busy": "2023-03-04T13:13:39.169088Z",
     "iopub.status.idle": "2023-03-04T13:13:39.185434Z",
     "shell.execute_reply": "2023-03-04T13:13:39.184739Z"
    },
    "papermill": {
     "duration": 0.029356,
     "end_time": "2023-03-04T13:13:39.188574",
     "exception": false,
     "start_time": "2023-03-04T13:13:39.159218",
     "status": "completed"
    },
    "tags": []
   },
   "outputs": [],
   "source": [
    "df = df.groupby(\"genre\").sample(n=50, random_state=42).reset_index()"
   ]
  },
  {
   "cell_type": "code",
   "execution_count": 8,
   "id": "6c6bd385",
   "metadata": {
    "execution": {
     "iopub.execute_input": "2023-03-04T13:13:39.208433Z",
     "iopub.status.busy": "2023-03-04T13:13:39.207997Z",
     "iopub.status.idle": "2023-03-04T13:13:39.219088Z",
     "shell.execute_reply": "2023-03-04T13:13:39.217549Z"
    },
    "papermill": {
     "duration": 0.024744,
     "end_time": "2023-03-04T13:13:39.222348",
     "exception": false,
     "start_time": "2023-03-04T13:13:39.197604",
     "status": "completed"
    },
    "tags": []
   },
   "outputs": [
    {
     "data": {
      "text/plain": [
       "['Warning, warning, warning, the drama queen is in the building',\n",
       " 'The drama queen is in the building',\n",
       " \"I'm not the one, I'm not the one\",\n",
       " 'Everybody wanna talk about kim',\n",
       " \"But ain't nothing soft about kim\",\n",
       " 'Everything you walk about kim',\n",
       " \"Through all that I've been\",\n",
       " 'Picture me being broke and I can auction my pen, please',\n",
       " \"I ain't never worry about hens, they worry about me\",\n",
       " \"But I ain't worry about them\",\n",
       " \"I'd rather see them coughing up flem\",\n",
       " \"Off with they heads, guillotine kim so it's off with they limbs\",\n",
       " 'Why pop cork with my men',\n",
       " 'When I was up north in the pen, my fans wrote me',\n",
       " 'They said queen keep doing ya thing right songs so we can quote thee',\n",
       " \"The rest of ya'll we\",\n",
       " \"See our downfall, so I don't come around y'all\",\n",
       " \"Now I'm beyond rich, the spittin magician poof be gone bitch\",\n",
       " \"Bitch couldn't walk a mile in my louboutins\",\n",
       " \"Me against you that's asalan\",\n",
       " 'Qb bout the bomb, taliban',\n",
       " 'Coming through the north trench, caliban',\n",
       " \"Bitch you was just a child of mine and I'm casey omma get off scott free\",\n",
       " 'Sipping don pee on palm beach',\n",
       " 'Original og, my alonski',\n",
       " 'Break bread with the irs family',\n",
       " 'While these jamie hoes tryna get fancy',\n",
       " \"I live the life of a queen I'm royalty bitch\",\n",
       " 'Bow down kiss the ring, money, power, respect is the song I sing',\n",
       " 'All I see is dollar signs, all I hear is cha ching',\n",
       " 'Bow into your fears have u staring at a long gun?',\n",
       " \"Didn't realize you fucked with the wrong one\",\n",
       " \"I'm not the one, I'm not the one\",\n",
       " \"I'm not the one, I'm not the one?\"]"
      ]
     },
     "execution_count": 8,
     "metadata": {},
     "output_type": "execute_result"
    }
   ],
   "source": [
    "eg_lyrics = random.choice(df['lyrics'])\n",
    "eg_lyrics"
   ]
  },
  {
   "cell_type": "code",
   "execution_count": 9,
   "id": "c1f7bdbd",
   "metadata": {
    "execution": {
     "iopub.execute_input": "2023-03-04T13:13:39.241137Z",
     "iopub.status.busy": "2023-03-04T13:13:39.240252Z",
     "iopub.status.idle": "2023-03-04T13:13:45.118758Z",
     "shell.execute_reply": "2023-03-04T13:13:45.117913Z"
    },
    "papermill": {
     "duration": 5.890883,
     "end_time": "2023-03-04T13:13:45.121516",
     "exception": false,
     "start_time": "2023-03-04T13:13:39.230633",
     "status": "completed"
    },
    "tags": []
   },
   "outputs": [],
   "source": [
    "aug = naw.ContextualWordEmbsAug(model_path='roberta-base', action=\"substitute\")"
   ]
  },
  {
   "cell_type": "code",
   "execution_count": 10,
   "id": "737ac3e7",
   "metadata": {
    "execution": {
     "iopub.execute_input": "2023-03-04T13:13:45.140005Z",
     "iopub.status.busy": "2023-03-04T13:13:45.139696Z",
     "iopub.status.idle": "2023-03-04T13:13:45.145000Z",
     "shell.execute_reply": "2023-03-04T13:13:45.144163Z"
    },
    "papermill": {
     "duration": 0.018405,
     "end_time": "2023-03-04T13:13:45.148231",
     "exception": false,
     "start_time": "2023-03-04T13:13:45.129826",
     "status": "completed"
    },
    "tags": []
   },
   "outputs": [],
   "source": [
    "def misalign_lyrics(lyrics, repetitions, repeat_verse):\n",
    "    verses2repeat = random.sample(range(0, len(lyrics)), repetitions)\n",
    "    misaligned_lyrics = []\n",
    "    for idx, verse in enumerate(lyrics):\n",
    "        if idx in verses2repeat:\n",
    "            misaligned_lyrics.extend([verse] * repeat_verse)\n",
    "        else:\n",
    "            misaligned_lyrics.append(verse)\n",
    "    return misaligned_lyrics"
   ]
  },
  {
   "cell_type": "code",
   "execution_count": 11,
   "id": "afd1c5ca",
   "metadata": {
    "execution": {
     "iopub.execute_input": "2023-03-04T13:13:45.167429Z",
     "iopub.status.busy": "2023-03-04T13:13:45.167124Z",
     "iopub.status.idle": "2023-03-04T13:13:45.177062Z",
     "shell.execute_reply": "2023-03-04T13:13:45.175628Z"
    },
    "papermill": {
     "duration": 0.022919,
     "end_time": "2023-03-04T13:13:45.180324",
     "exception": false,
     "start_time": "2023-03-04T13:13:45.157405",
     "status": "completed"
    },
    "tags": []
   },
   "outputs": [],
   "source": [
    "evaluation_ids = list(df['id'])\n",
    "\n",
    "all_lyrics = df0.drop(index=evaluation_ids)['lyrics']"
   ]
  },
  {
   "cell_type": "code",
   "execution_count": 12,
   "id": "250f950f",
   "metadata": {
    "execution": {
     "iopub.execute_input": "2023-03-04T13:13:45.198810Z",
     "iopub.status.busy": "2023-03-04T13:13:45.197705Z",
     "iopub.status.idle": "2023-03-04T13:13:45.900303Z",
     "shell.execute_reply": "2023-03-04T13:13:45.899623Z"
    },
    "papermill": {
     "duration": 0.71377,
     "end_time": "2023-03-04T13:13:45.902119",
     "exception": false,
     "start_time": "2023-03-04T13:13:45.188349",
     "status": "completed"
    },
    "tags": []
   },
   "outputs": [
    {
     "name": "stdout",
     "output_type": "stream",
     "text": [
      "Original verse:\n",
      "When I was up north in the pen, my fans wrote me\n",
      "Augmented:\n"
     ]
    },
    {
     "data": {
      "text/plain": [
       "['When Mark was up and in the pen, Jets fans missed me']"
      ]
     },
     "execution_count": 12,
     "metadata": {},
     "output_type": "execute_result"
    }
   ],
   "source": [
    "eg_verse = random.choice(eg_lyrics)\n",
    "print('Original verse:')\n",
    "print(eg_verse)\n",
    "\n",
    "print('Augmented:')\n",
    "aug.augment(eg_verse)"
   ]
  },
  {
   "cell_type": "code",
   "execution_count": 13,
   "id": "cfa3b071",
   "metadata": {
    "execution": {
     "iopub.execute_input": "2023-03-04T13:13:45.910706Z",
     "iopub.status.busy": "2023-03-04T13:13:45.910286Z",
     "iopub.status.idle": "2023-03-04T13:13:56.104871Z",
     "shell.execute_reply": "2023-03-04T13:13:56.104094Z"
    },
    "papermill": {
     "duration": 10.201035,
     "end_time": "2023-03-04T13:13:56.106818",
     "exception": false,
     "start_time": "2023-03-04T13:13:45.905783",
     "status": "completed"
    },
    "tags": []
   },
   "outputs": [
    {
     "name": "stdout",
     "output_type": "stream",
     "text": [
      "ORIGINAL lyrics:\n",
      "['Mirror, mirror on the wall', 'Tell me, mirror, what is wrong?', 'Can it be my De La clothes', 'Or is it just my De La song?', \"What I do ain't make-beleive\", 'People say I sit and try', 'But whan it comes to being De La', \"It's just me myself and I\", \"It's just me myself and I\", \"It's just me myself and I\", \"It's just me myself and I\", 'Now you tease my Plug One style', 'And my Plug One spectacles', 'You say Plug One and Two are hippies', \"No, we're not, that's pure Plug bull\", \"Always pushing that we've formed an image\", \"There's no need to lie\", 'When it comes to being Plug One', \"It's just me myself and I\", \"It's just me myself and I\", \"It's just me myself and I\", \"It's just me myself and I\", \"Proud, I'm proud of what I am\", 'Poems I speak are Plug Two type', 'Please oh please let Plug Two be', 'Himself, not what you read or write', 'Right is wrong when hype is written', 'On the Soul, De La that is,', 'Style is surely our own thing', 'Not the false disguise of showbiz', 'De La Soul is from the soul', \"And this fact I can't deny\", 'Strictly from the Dan called Stuckie', 'And from me myself and I', \"It's just me myself and I\", \"It's just me myself and I\", \"It's just me myself and I\", 'Glory, glory hallelu', 'Glory for Plugs One and Two', \"But that glory's been denied\", 'By kizids and dookie eyes', 'People think they dis my person', \"By stating I'm darkly pack\", 'I know this so I point at Q-Tip', \"And he states, 'Black is Black'\", 'Mirror mirror on the wall,', 'Shovel chestnuts in my path', 'Please keep on up with the nuts', \"So I don't get in aftermath\", \"But if I do I'll calmly punch them\", 'In the fourth day of July', \"'Cause they tried to mess with\", \"Third degree, that's me myself and I\", \"It's just me myself and I\", \"It's just me myself and I\", \"It's just me myself and I\", \"It's just me myself and I\"]\n",
      "\n",
      "AUGMENTED lyrics:\n",
      "Aligned:\n",
      "['Mirror, Lot on Edge Stevens', 'Tell @, mirror, in is from?', 'Can the in my her La clothes', 'Or is it just at saying La when?', 'What I added right him-beleive', 'People say I Gl and king', 'But whan it images and Two De La', \"It's just gazing myself it so\", \"It's move me in programmers I\", \"It's what me myself accent I\", \"It's not on myself the I\", 'Now you who of Plug off style', \"And my Plug '. and\", 'You when this One and door are hippies', \"No, we're doing, right in Plug fridge\", \"Always that that we've for my image\", \"There's no should […] lie\", 'When it comes not just Plug anyway', \"It's as me myself of until\", \"It's just<unk> making us I\", \"It's<unk> me Mr and —\", \"It's<unk> me myself Z -\", \"Proud, I'm<unk> thinking so I am\", 'Poems I speak<unk> talking Two so', 'Please oh<unk> and Plug Two -', 'Himself,<unk> what<unk><unk> or write', 'Right is<unk> when<unk><unk> written', 'On<unk><unk>, De La that<unk>,', 'Style is<unk> our<unk> thing', 'Not<unk> false disguise<unk><unk>', 'De La Soul is<unk><unk><unk>', \"And<unk><unk> I can't<unk>\", 'Strictly<unk> the<unk><unk> Stuckie', 'And from me<unk> and<unk>', \"It's just<unk> myself<unk><unk>\", \"It's just<unk><unk><unk> I\", \"It's<unk> me myself<unk><unk>\", 'Glory,<unk><unk>', 'Glory for<unk> One<unk><unk>', 'But<unk><unk> been denied', 'By<unk><unk> dookie<unk>', 'People think they dis<unk><unk>', 'By<unk><unk><unk> pack', 'I know this<unk><unk> point<unk> Q-Tip', \"And he<unk>,<unk><unk> Black'\", 'Mirror mirror<unk><unk><unk>,', 'Shovel<unk><unk> my<unk>', 'Please<unk> on up<unk><unk> nuts', 'So<unk><unk> get in<unk>', 'But if<unk> do<unk> calmly punch<unk>', 'In the fourth<unk><unk> July', \"'Cause<unk> tried<unk> mess<unk>\", \"Third degree, that's<unk><unk><unk> I\", \"It's<unk><unk><unk> and I\", \"It's just<unk><unk><unk> I\", \"It's<unk> me<unk><unk> I\", \"It's just<unk><unk><unk> I\"]\n",
      "\n",
      "Misaligned:\n",
      "['Mirror, Lot on Edge Stevens', 'Tell @, mirror, in is from?', 'Tell @, mirror, in is from?', 'Can the in my her La clothes', 'Or is it just at saying La when?', 'What I added right him-beleive', 'People say I Gl and king', 'But whan it images and Two De La', \"It's just gazing myself it so\", \"It's move me in programmers I\", \"It's move me in programmers I\", \"It's what me myself accent I\", \"It's not on myself the I\", \"It's not on myself the I\", 'Now you who of Plug off style', \"And my Plug '. and\", 'You when this One and door are hippies', \"No, we're doing, right in Plug fridge\", \"Always that that we've for my image\", \"Always that that we've for my image\", \"There's no should […] lie\", 'When it comes not just Plug anyway', \"It's as me myself of until\", \"It's just<unk> making us I\", \"It's<unk> me Mr and —\", \"It's<unk> me myself Z -\", \"Proud, I'm<unk> thinking so I am\", 'Poems I speak<unk> talking Two so', 'Please oh<unk> and Plug Two -', 'Please oh<unk> and Plug Two -', 'Himself,<unk> what<unk><unk> or write', 'Right is<unk> when<unk><unk> written', 'On<unk><unk>, De La that<unk>,', 'Style is<unk> our<unk> thing', 'Not<unk> false disguise<unk><unk>', 'De La Soul is<unk><unk><unk>', \"And<unk><unk> I can't<unk>\", 'Strictly<unk> the<unk><unk> Stuckie', 'And from me<unk> and<unk>', 'And from me<unk> and<unk>', \"It's just<unk> myself<unk><unk>\", \"It's just<unk><unk><unk> I\", \"It's<unk> me myself<unk><unk>\", 'Glory,<unk><unk>', 'Glory for<unk> One<unk><unk>', 'But<unk><unk> been denied', 'By<unk><unk> dookie<unk>', 'People think they dis<unk><unk>', 'By<unk><unk><unk> pack', 'I know this<unk><unk> point<unk> Q-Tip', 'I know this<unk><unk> point<unk> Q-Tip', \"And he<unk>,<unk><unk> Black'\", 'Mirror mirror<unk><unk><unk>,', 'Shovel<unk><unk> my<unk>', 'Please<unk> on up<unk><unk> nuts', 'So<unk><unk> get in<unk>', 'But if<unk> do<unk> calmly punch<unk>', 'In the fourth<unk><unk> July', 'In the fourth<unk><unk> July', \"'Cause<unk> tried<unk> mess<unk>\", \"Third degree, that's<unk><unk><unk> I\", \"It's<unk><unk><unk> and I\", \"It's just<unk><unk><unk> I\", \"It's<unk> me<unk><unk> I\", \"It's just<unk><unk><unk> I\"]\n",
      "\n",
      "RANDOM lyrics:\n",
      "['HOOODY HOOOOO! Knuckle up nigga', \"When we catch y'all..\", \"WE GON' BUST Y'ALL AND Y'ALL DICKS UP\", 'ALL BITCH ASS NIGGAZ', \"Bitches STOP PLAYIN well y'all better stop playin wit me \", 'Tear da club up nigga! ', 'Whassup NOW?? HUH!', 'Tear da club up nigga! ', \"Now y'all didn't know that I was a 3rd Ward psycho\", 'I grew up kinda crazy drink a fifth my uncle bought', 'Ask Michael and at ten, I was a motherfuckin fool', 'And at the age of eleven, I was already - packin that tool', \"Now y'all couldn't feel me, cause I was a killer, at twelve\", \"And at thirteen, I ain't give a fuck, if I died and went to hell\", \"See I'm vicious, fuck it, nightlight's on\", 'And at fourteen, I hit a nigga, with that chrome', \"Now y'all want mercy, but y'all bitches, can't hurt me\", 'Cause I used to sell dope, with my daddy, big Percy', \"And at sixteen I was headed straight to juve'\", 'for a hot fuckin car, some dope, and a uzi', \"And then at eighteen nigga I'm back on the streets\", \"Hooked up with my cousin Jimmy now I'm back on my feet\", \"I'm back to slangin rocks, rollin coke and pushin powder\", 'Thangs is goin good, bought moms a Caddy me an old school Impala', \"Came nuttin fade me now I'm chillin\", 'with my lady, she bought to have a baby', \"That's when shit got shady, I mean it got crazy\", 'Niggaz rolled through and bust  we hit the dust', 'They killed the old man but the bitches missed us', \"Bitches STOP PLAYIN well y'all better stop playin wit me \", 'Pick up the paper, couple of niggaz, deceased', 'Who the fuck are you -- the Feds or the police?', 'I changed my fuckin life and moved to Cali', \"No mo' standin on the corner, no mo' slangin, in no alleys\", \"When you try to do right, that's when shit, goes wrong\", 'I got a phone call sayin you gotta come home', \"My little brother dead, and I'm back, on the streets\", \"And I'm cryin to myself, cause it shoulda, been me\", 'Now I gotta ride with the homies once again', \"And I don't give a fuck, if I go, to the pen \", \"Bitches STOP PLAYIN well y'all better stop playin wit me \", 'Now in the rap game, well it just like the dope game', 'Cause niggaz jack and kill for lyrics and beats', \"like it's crack, or cocaine\", 'But thugs die screamin East and West', \"That's why me and these soldiers pack pistols\", 'and wear bulletproof vests', 'And to you rookies talkin shit, and fuckin wit No Limit', \"Now y'all niggaz can start, but we gon' ride and finish it\", \"Bitches STOP PLAYIN well y'all better stop playin wit me \", \"Y'all better stop playin with these motherfuckin veterans rookies!\", 'With some motherfuckin hands on flats', 'Stop playin wit me', 'Stop playin wit me', 'Stop playin wit me', \"Y'all better stop playin wit me\"]\n"
     ]
    }
   ],
   "source": [
    "eg_lyrics = random.choice(df['lyrics'])\n",
    "\n",
    "eg_aug_lyrics = aug.augment(eg_lyrics)\n",
    "\n",
    "eg_aug_misl_lyrics = misalign_lyrics(eg_aug_lyrics, \n",
    "                                     repetitions=round(sqrt(len(eg_lyrics))), \n",
    "                                     repeat_verse=2)\n",
    "\n",
    "eg_fake_lyrics = random.choice(all_lyrics)\n",
    "\n",
    "print('ORIGINAL lyrics:')\n",
    "print(eg_lyrics)\n",
    "print()\n",
    "print('AUGMENTED lyrics:')\n",
    "print('Aligned:')\n",
    "print(eg_aug_lyrics)\n",
    "print()\n",
    "print('Misaligned:')\n",
    "print(eg_aug_misl_lyrics)\n",
    "print()\n",
    "print('RANDOM lyrics:')\n",
    "print(eg_fake_lyrics)"
   ]
  },
  {
   "cell_type": "code",
   "execution_count": 14,
   "id": "ef726478",
   "metadata": {
    "execution": {
     "iopub.execute_input": "2023-03-04T13:13:56.121445Z",
     "iopub.status.busy": "2023-03-04T13:13:56.121139Z",
     "iopub.status.idle": "2023-03-04T13:52:30.633841Z",
     "shell.execute_reply": "2023-03-04T13:52:30.632703Z"
    },
    "papermill": {
     "duration": 2314.524678,
     "end_time": "2023-03-04T13:52:30.636475",
     "exception": false,
     "start_time": "2023-03-04T13:13:56.111797",
     "status": "completed"
    },
    "tags": []
   },
   "outputs": [],
   "source": [
    "aug_lyrics = df['lyrics'].apply(lambda x: aug.augment(x))\n",
    "\n",
    "\n",
    "misl_aug_lyrics = [misalign_lyrics(aug_lyr, repetitions=round(sqrt(\n",
    "    len(aug_lyr))), repeat_verse=random.choice([2,3])) for aug_lyr in aug_lyrics]\n",
    "\n",
    "                                   \n",
    "df['similar_lyrics'] = misl_aug_lyrics\n",
    "df['random_lyrics'] = random.sample(list(all_lyrics), len(df['lyrics']))"
   ]
  },
  {
   "cell_type": "code",
   "execution_count": 15,
   "id": "616ecc4e",
   "metadata": {
    "execution": {
     "iopub.execute_input": "2023-03-04T13:52:30.649314Z",
     "iopub.status.busy": "2023-03-04T13:52:30.648949Z",
     "iopub.status.idle": "2023-03-04T13:52:30.671652Z",
     "shell.execute_reply": "2023-03-04T13:52:30.670475Z"
    },
    "papermill": {
     "duration": 0.031067,
     "end_time": "2023-03-04T13:52:30.673647",
     "exception": false,
     "start_time": "2023-03-04T13:52:30.642580",
     "status": "completed"
    },
    "tags": []
   },
   "outputs": [
    {
     "data": {
      "text/html": [
       "<div>\n",
       "<style scoped>\n",
       "    .dataframe tbody tr th:only-of-type {\n",
       "        vertical-align: middle;\n",
       "    }\n",
       "\n",
       "    .dataframe tbody tr th {\n",
       "        vertical-align: top;\n",
       "    }\n",
       "\n",
       "    .dataframe thead th {\n",
       "        text-align: right;\n",
       "    }\n",
       "</style>\n",
       "<table border=\"1\" class=\"dataframe\">\n",
       "  <thead>\n",
       "    <tr style=\"text-align: right;\">\n",
       "      <th></th>\n",
       "      <th>index</th>\n",
       "      <th>lyrics</th>\n",
       "      <th>genre</th>\n",
       "      <th>id</th>\n",
       "      <th>similar_lyrics</th>\n",
       "      <th>random_lyrics</th>\n",
       "    </tr>\n",
       "  </thead>\n",
       "  <tbody>\n",
       "    <tr>\n",
       "      <th>0</th>\n",
       "      <td>1935</td>\n",
       "      <td>[Well, I've been waitin' ever since eight, Gue...</td>\n",
       "      <td>pop</td>\n",
       "      <td>1935</td>\n",
       "      <td>[Well, never been happily' ever after …, Guess...</td>\n",
       "      <td>[I've seen a lot of things in my life, A lot o...</td>\n",
       "    </tr>\n",
       "    <tr>\n",
       "      <th>1</th>\n",
       "      <td>6494</td>\n",
       "      <td>[This kind of love, Is more than a lifeline, F...</td>\n",
       "      <td>pop</td>\n",
       "      <td>6494</td>\n",
       "      <td>[This kind about one, Is more new a reception,...</td>\n",
       "      <td>[Tell 'em, go home 'cause I'ma go hard, I'ma g...</td>\n",
       "    </tr>\n",
       "    <tr>\n",
       "      <th>2</th>\n",
       "      <td>1720</td>\n",
       "      <td>[I could tell by the look in her eyes, Maybe I...</td>\n",
       "      <td>pop</td>\n",
       "      <td>1720</td>\n",
       "      <td>[I would tell by the look must too eyes, Maybe...</td>\n",
       "      <td>[Let it rain, let it snow, Let it rain, let it...</td>\n",
       "    </tr>\n",
       "    <tr>\n",
       "      <th>3</th>\n",
       "      <td>9120</td>\n",
       "      <td>[Don't Tell me you love me when I don't, You k...</td>\n",
       "      <td>pop</td>\n",
       "      <td>9120</td>\n",
       "      <td>[Don't Tell Anyone you trust me else I A, You ...</td>\n",
       "      <td>[I feel weak, we've been here before, 'Cause I...</td>\n",
       "    </tr>\n",
       "    <tr>\n",
       "      <th>4</th>\n",
       "      <td>360</td>\n",
       "      <td>[Who's the man? who's the boss?, who's the nig...</td>\n",
       "      <td>pop</td>\n",
       "      <td>360</td>\n",
       "      <td>[Who's i they? who's I boss?, Who's i they? wh...</td>\n",
       "      <td>[Now this shit right here, Goes out all my cat...</td>\n",
       "    </tr>\n",
       "  </tbody>\n",
       "</table>\n",
       "</div>"
      ],
      "text/plain": [
       "   index                                             lyrics genre    id  \\\n",
       "0   1935  [Well, I've been waitin' ever since eight, Gue...   pop  1935   \n",
       "1   6494  [This kind of love, Is more than a lifeline, F...   pop  6494   \n",
       "2   1720  [I could tell by the look in her eyes, Maybe I...   pop  1720   \n",
       "3   9120  [Don't Tell me you love me when I don't, You k...   pop  9120   \n",
       "4    360  [Who's the man? who's the boss?, who's the nig...   pop   360   \n",
       "\n",
       "                                      similar_lyrics  \\\n",
       "0  [Well, never been happily' ever after …, Guess...   \n",
       "1  [This kind about one, Is more new a reception,...   \n",
       "2  [I would tell by the look must too eyes, Maybe...   \n",
       "3  [Don't Tell Anyone you trust me else I A, You ...   \n",
       "4  [Who's i they? who's I boss?, Who's i they? wh...   \n",
       "\n",
       "                                       random_lyrics  \n",
       "0  [I've seen a lot of things in my life, A lot o...  \n",
       "1  [Tell 'em, go home 'cause I'ma go hard, I'ma g...  \n",
       "2  [Let it rain, let it snow, Let it rain, let it...  \n",
       "3  [I feel weak, we've been here before, 'Cause I...  \n",
       "4  [Now this shit right here, Goes out all my cat...  "
      ]
     },
     "execution_count": 15,
     "metadata": {},
     "output_type": "execute_result"
    }
   ],
   "source": [
    "df.head()"
   ]
  },
  {
   "cell_type": "code",
   "execution_count": 16,
   "id": "6b3eec25",
   "metadata": {
    "execution": {
     "iopub.execute_input": "2023-03-04T13:52:30.683035Z",
     "iopub.status.busy": "2023-03-04T13:52:30.682744Z",
     "iopub.status.idle": "2023-03-04T13:52:30.709247Z",
     "shell.execute_reply": "2023-03-04T13:52:30.708321Z"
    },
    "papermill": {
     "duration": 0.033379,
     "end_time": "2023-03-04T13:52:30.711056",
     "exception": false,
     "start_time": "2023-03-04T13:52:30.677677",
     "status": "completed"
    },
    "tags": []
   },
   "outputs": [],
   "source": [
    "df.to_csv('../data/evaluation/lyrics_eval.csv', index=False)"
   ]
  }
 ],
 "metadata": {
  "kernelspec": {
   "display_name": "Python 3 (ipykernel)",
   "language": "python",
   "name": "python3"
  },
  "language_info": {
   "codemirror_mode": {
    "name": "ipython",
    "version": 3
   },
   "file_extension": ".py",
   "mimetype": "text/x-python",
   "name": "python",
   "nbconvert_exporter": "python",
   "pygments_lexer": "ipython3",
   "version": "3.9.16"
  },
  "papermill": {
   "default_parameters": {},
   "duration": 2344.815118,
   "end_time": "2023-03-04T13:52:33.806846",
   "environment_variables": {},
   "exception": null,
   "input_path": "01_evaluation_ds_preparation.ipynb",
   "output_path": "01_evaluation_ds_preparation.ipynb",
   "parameters": {},
   "start_time": "2023-03-04T13:13:28.991728",
   "version": "2.4.0"
  },
  "vscode": {
   "interpreter": {
    "hash": "eb8d1ded7c87c6f9c253b40add648304d6b51d2e38393955e855effc7e6f899a"
   }
  }
 },
 "nbformat": 4,
 "nbformat_minor": 5
}