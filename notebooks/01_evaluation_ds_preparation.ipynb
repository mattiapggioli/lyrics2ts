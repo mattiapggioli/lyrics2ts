{
 "cells": [
  {
   "cell_type": "markdown",
   "id": "cf5baa12",
   "metadata": {
    "papermill": {
     "duration": 0.008802,
     "end_time": "2023-03-14T19:32:27.374981",
     "exception": false,
     "start_time": "2023-03-14T19:32:27.366179",
     "status": "completed"
    },
    "tags": []
   },
   "source": [
    "## Evaluation Dataset Preparation"
   ]
  },
  {
   "cell_type": "code",
   "execution_count": 1,
   "id": "464a1f1f",
   "metadata": {
    "execution": {
     "iopub.execute_input": "2023-03-14T19:32:27.398368Z",
     "iopub.status.busy": "2023-03-14T19:32:27.397244Z",
     "iopub.status.idle": "2023-03-14T19:32:33.342360Z",
     "shell.execute_reply": "2023-03-14T19:32:33.341523Z"
    },
    "papermill": {
     "duration": 5.960854,
     "end_time": "2023-03-14T19:32:33.345430",
     "exception": false,
     "start_time": "2023-03-14T19:32:27.384576",
     "status": "completed"
    },
    "tags": []
   },
   "outputs": [
    {
     "name": "stderr",
     "output_type": "stream",
     "text": [
      "2023-03-22 20:53:27.614329: I tensorflow/core/platform/cpu_feature_guard.cc:193] This TensorFlow binary is optimized with oneAPI Deep Neural Network Library (oneDNN) to use the following CPU instructions in performance-critical operations:  AVX2 FMA\n",
      "To enable them in other operations, rebuild TensorFlow with the appropriate compiler flags.\n",
      "2023-03-22 20:53:29.088083: W tensorflow/compiler/xla/stream_executor/platform/default/dso_loader.cc:64] Could not load dynamic library 'libnvinfer.so.7'; dlerror: libnvinfer.so.7: cannot open shared object file: No such file or directory\n",
      "2023-03-22 20:53:29.088306: W tensorflow/compiler/xla/stream_executor/platform/default/dso_loader.cc:64] Could not load dynamic library 'libnvinfer_plugin.so.7'; dlerror: libnvinfer_plugin.so.7: cannot open shared object file: No such file or directory\n",
      "2023-03-22 20:53:29.088316: W tensorflow/compiler/tf2tensorrt/utils/py_utils.cc:38] TF-TRT Warning: Cannot dlopen some TensorRT libraries. If you would like to use Nvidia GPU with TensorRT, please make sure the missing libraries mentioned above are installed properly.\n"
     ]
    }
   ],
   "source": [
    "import pandas as pd\n",
    "import numpy as np\n",
    "import random\n",
    "import ast\n",
    "import nlpaug.augmenter.word as naw\n",
    "from math import sqrt\n",
    "from sklearn.model_selection import train_test_split"
   ]
  },
  {
   "cell_type": "code",
   "execution_count": 2,
   "id": "16168973",
   "metadata": {
    "execution": {
     "iopub.execute_input": "2023-03-14T19:32:33.362595Z",
     "iopub.status.busy": "2023-03-14T19:32:33.361809Z",
     "iopub.status.idle": "2023-03-14T19:32:33.986939Z",
     "shell.execute_reply": "2023-03-14T19:32:33.986115Z"
    },
    "papermill": {
     "duration": 0.636457,
     "end_time": "2023-03-14T19:32:33.989590",
     "exception": false,
     "start_time": "2023-03-14T19:32:33.353133",
     "status": "completed"
    },
    "tags": []
   },
   "outputs": [],
   "source": [
    "df = pd.read_csv('../data/lyrics.csv')"
   ]
  },
  {
   "cell_type": "code",
   "execution_count": 3,
   "id": "cc4df961",
   "metadata": {
    "execution": {
     "iopub.execute_input": "2023-03-14T19:32:34.059906Z",
     "iopub.status.busy": "2023-03-14T19:32:34.059504Z",
     "iopub.status.idle": "2023-03-14T19:32:34.073424Z",
     "shell.execute_reply": "2023-03-14T19:32:34.072649Z"
    },
    "papermill": {
     "duration": 0.027715,
     "end_time": "2023-03-14T19:32:34.076647",
     "exception": false,
     "start_time": "2023-03-14T19:32:34.048932",
     "status": "completed"
    },
    "tags": []
   },
   "outputs": [
    {
     "data": {
      "text/html": [
       "<div>\n",
       "<style scoped>\n",
       "    .dataframe tbody tr th:only-of-type {\n",
       "        vertical-align: middle;\n",
       "    }\n",
       "\n",
       "    .dataframe tbody tr th {\n",
       "        vertical-align: top;\n",
       "    }\n",
       "\n",
       "    .dataframe thead th {\n",
       "        text-align: right;\n",
       "    }\n",
       "</style>\n",
       "<table border=\"1\" class=\"dataframe\">\n",
       "  <thead>\n",
       "    <tr style=\"text-align: right;\">\n",
       "      <th></th>\n",
       "      <th>lyrics</th>\n",
       "      <th>genre</th>\n",
       "      <th>id</th>\n",
       "    </tr>\n",
       "  </thead>\n",
       "  <tbody>\n",
       "    <tr>\n",
       "      <th>0</th>\n",
       "      <td>['So long', 'My sweet love', 'I miss you', \"Mo...</td>\n",
       "      <td>pop</td>\n",
       "      <td>0</td>\n",
       "    </tr>\n",
       "    <tr>\n",
       "      <th>1</th>\n",
       "      <td>[\"It won't be long before I'm leaving here\", \"...</td>\n",
       "      <td>pop</td>\n",
       "      <td>1</td>\n",
       "    </tr>\n",
       "    <tr>\n",
       "      <th>2</th>\n",
       "      <td>['Are we crazy?', 'Living our lives through a ...</td>\n",
       "      <td>pop</td>\n",
       "      <td>2</td>\n",
       "    </tr>\n",
       "    <tr>\n",
       "      <th>3</th>\n",
       "      <td>['When did it go wrong, I will never know', 'I...</td>\n",
       "      <td>pop</td>\n",
       "      <td>3</td>\n",
       "    </tr>\n",
       "    <tr>\n",
       "      <th>4</th>\n",
       "      <td>[\"I've waited all this time\", 'Counting minute...</td>\n",
       "      <td>pop</td>\n",
       "      <td>4</td>\n",
       "    </tr>\n",
       "  </tbody>\n",
       "</table>\n",
       "</div>"
      ],
      "text/plain": [
       "                                              lyrics genre  id\n",
       "0  ['So long', 'My sweet love', 'I miss you', \"Mo...   pop   0\n",
       "1  [\"It won't be long before I'm leaving here\", \"...   pop   1\n",
       "2  ['Are we crazy?', 'Living our lives through a ...   pop   2\n",
       "3  ['When did it go wrong, I will never know', 'I...   pop   3\n",
       "4  [\"I've waited all this time\", 'Counting minute...   pop   4"
      ]
     },
     "execution_count": 3,
     "metadata": {},
     "output_type": "execute_result"
    }
   ],
   "source": [
    "df.head()"
   ]
  },
  {
   "cell_type": "code",
   "execution_count": 4,
   "id": "bc8a9a7c",
   "metadata": {
    "execution": {
     "iopub.execute_input": "2023-03-14T19:32:34.094274Z",
     "iopub.status.busy": "2023-03-14T19:32:34.093976Z",
     "iopub.status.idle": "2023-03-14T19:32:34.125373Z",
     "shell.execute_reply": "2023-03-14T19:32:34.124186Z"
    },
    "papermill": {
     "duration": 0.043615,
     "end_time": "2023-03-14T19:32:34.128157",
     "exception": false,
     "start_time": "2023-03-14T19:32:34.084542",
     "status": "completed"
    },
    "tags": []
   },
   "outputs": [
    {
     "name": "stdout",
     "output_type": "stream",
     "text": [
      "<class 'pandas.core.frame.DataFrame'>\n",
      "RangeIndex: 36000 entries, 0 to 35999\n",
      "Data columns (total 3 columns):\n",
      " #   Column  Non-Null Count  Dtype \n",
      "---  ------  --------------  ----- \n",
      " 0   lyrics  36000 non-null  object\n",
      " 1   genre   36000 non-null  object\n",
      " 2   id      36000 non-null  int64 \n",
      "dtypes: int64(1), object(2)\n",
      "memory usage: 843.9+ KB\n"
     ]
    }
   ],
   "source": [
    "df.info()"
   ]
  },
  {
   "cell_type": "code",
   "execution_count": 5,
   "id": "4321c08a",
   "metadata": {
    "execution": {
     "iopub.execute_input": "2023-03-14T19:32:34.147248Z",
     "iopub.status.busy": "2023-03-14T19:32:34.146030Z",
     "iopub.status.idle": "2023-03-14T19:32:37.576505Z",
     "shell.execute_reply": "2023-03-14T19:32:37.575644Z"
    },
    "papermill": {
     "duration": 3.443326,
     "end_time": "2023-03-14T19:32:37.578998",
     "exception": false,
     "start_time": "2023-03-14T19:32:34.135672",
     "status": "completed"
    },
    "tags": []
   },
   "outputs": [],
   "source": [
    "df['lyrics'] = df['lyrics'].apply(ast.literal_eval)"
   ]
  },
  {
   "cell_type": "code",
   "execution_count": 6,
   "id": "25e04d13",
   "metadata": {
    "execution": {
     "iopub.execute_input": "2023-03-14T19:32:37.590067Z",
     "iopub.status.busy": "2023-03-14T19:32:37.589667Z",
     "iopub.status.idle": "2023-03-14T19:32:37.598913Z",
     "shell.execute_reply": "2023-03-14T19:32:37.598069Z"
    },
    "papermill": {
     "duration": 0.016504,
     "end_time": "2023-03-14T19:32:37.600783",
     "exception": false,
     "start_time": "2023-03-14T19:32:37.584279",
     "status": "completed"
    },
    "tags": []
   },
   "outputs": [],
   "source": [
    "df0 = df.copy()"
   ]
  },
  {
   "cell_type": "code",
   "execution_count": 7,
   "id": "fd6271df",
   "metadata": {
    "execution": {
     "iopub.execute_input": "2023-03-14T19:32:37.612258Z",
     "iopub.status.busy": "2023-03-14T19:32:37.610920Z",
     "iopub.status.idle": "2023-03-14T19:32:37.631619Z",
     "shell.execute_reply": "2023-03-14T19:32:37.630677Z"
    },
    "papermill": {
     "duration": 0.029202,
     "end_time": "2023-03-14T19:32:37.633730",
     "exception": false,
     "start_time": "2023-03-14T19:32:37.604528",
     "status": "completed"
    },
    "tags": []
   },
   "outputs": [],
   "source": [
    "df = df.groupby(\"genre\").sample(n=50, random_state=42).reset_index()"
   ]
  },
  {
   "cell_type": "code",
   "execution_count": 8,
   "id": "6c6bd385",
   "metadata": {
    "execution": {
     "iopub.execute_input": "2023-03-14T19:32:37.644643Z",
     "iopub.status.busy": "2023-03-14T19:32:37.643234Z",
     "iopub.status.idle": "2023-03-14T19:32:37.651016Z",
     "shell.execute_reply": "2023-03-14T19:32:37.650098Z"
    },
    "papermill": {
     "duration": 0.014475,
     "end_time": "2023-03-14T19:32:37.652539",
     "exception": false,
     "start_time": "2023-03-14T19:32:37.638064",
     "status": "completed"
    },
    "tags": []
   },
   "outputs": [
    {
     "data": {
      "text/plain": [
       "[\"What's up hater\",\n",
       " \"Sod money game guess I'm master ?\",\n",
       " 'Everywhere we go we are getting paid',\n",
       " \"What's up to my haters\",\n",
       " 'Yeah I love my haters',\n",
       " 'My haters make me greater',\n",
       " 'This song goes out to my haters',\n",
       " \"What's up hater do you remember me?\",\n",
       " \"Sod money game guess I'm master ?\",\n",
       " 'Shall I ?I can wait for my fans to .. army',\n",
       " 'Every time I step on stage I see a hater',\n",
       " \".. They know they aren't greater\",\n",
       " '.. Getting paper.. making me a favor',\n",
       " 'And they make me famous',\n",
       " \".. I'm gonna go so crazy\",\n",
       " 'Cause I love my haters',\n",
       " 'My haters are my babies',\n",
       " 'All my haters got me so much money',\n",
       " '.. Everywhere I go my haters ..',\n",
       " 'Talking about me about my new music ..',\n",
       " \"What's up hater\",\n",
       " \"Sod money game guess I'm master ?\",\n",
       " 'Everywhere we go we are getting paid',\n",
       " \"What's up to my haters\",\n",
       " 'Yeah I love my haters',\n",
       " 'My haters make me greater',\n",
       " 'This song goes out to my haters',\n",
       " 'Talking bad on me the sod game',\n",
       " '? you know I smoke .. when I hit the back door',\n",
       " \".. All you see it's my name it ain't even got my name .. video\",\n",
       " '.. I wonder why they still ?',\n",
       " 'This song goes out to my haters',\n",
       " '.. Getting paper.. making me a favor',\n",
       " 'And they make me famous',\n",
       " \"What's up hater\",\n",
       " \"Sod money game guess I'm master ?\",\n",
       " 'Everywhere we go we are getting paid',\n",
       " \"What's up to my haters\",\n",
       " 'Yeah I love my haters',\n",
       " 'My haters make me greater',\n",
       " 'This song goes out to my haters',\n",
       " \"What's up to my hater s\",\n",
       " \"Sod money game guess I'm master\",\n",
       " 'I love my haters',\n",
       " 'My haters make me greater',\n",
       " 'This song goes out to my haters']"
      ]
     },
     "execution_count": 8,
     "metadata": {},
     "output_type": "execute_result"
    }
   ],
   "source": [
    "eg_lyrics = random.choice(df['lyrics'])\n",
    "eg_lyrics"
   ]
  },
  {
   "cell_type": "code",
   "execution_count": 9,
   "id": "c1f7bdbd",
   "metadata": {
    "execution": {
     "iopub.execute_input": "2023-03-14T19:32:37.660915Z",
     "iopub.status.busy": "2023-03-14T19:32:37.660628Z",
     "iopub.status.idle": "2023-03-14T19:32:47.187238Z",
     "shell.execute_reply": "2023-03-14T19:32:47.185970Z"
    },
    "papermill": {
     "duration": 9.533723,
     "end_time": "2023-03-14T19:32:47.189965",
     "exception": false,
     "start_time": "2023-03-14T19:32:37.656242",
     "status": "completed"
    },
    "tags": []
   },
   "outputs": [],
   "source": [
    "aug = naw.ContextualWordEmbsAug(model_path='roberta-base', action=\"substitute\")"
   ]
  },
  {
   "cell_type": "code",
   "execution_count": 10,
   "id": "737ac3e7",
   "metadata": {
    "execution": {
     "iopub.execute_input": "2023-03-14T19:32:47.200143Z",
     "iopub.status.busy": "2023-03-14T19:32:47.199857Z",
     "iopub.status.idle": "2023-03-14T19:32:47.205087Z",
     "shell.execute_reply": "2023-03-14T19:32:47.204208Z"
    },
    "papermill": {
     "duration": 0.011576,
     "end_time": "2023-03-14T19:32:47.206700",
     "exception": false,
     "start_time": "2023-03-14T19:32:47.195124",
     "status": "completed"
    },
    "tags": []
   },
   "outputs": [],
   "source": [
    "def misalign_lyrics(lyrics, repetitions, repeat_verse):\n",
    "    verses2repeat = random.sample(range(0, len(lyrics)), repetitions)\n",
    "    misaligned_lyrics = []\n",
    "    for idx, verse in enumerate(lyrics):\n",
    "        if idx in verses2repeat:\n",
    "            misaligned_lyrics.extend([verse] * repeat_verse)\n",
    "        else:\n",
    "            misaligned_lyrics.append(verse)\n",
    "    return misaligned_lyrics"
   ]
  },
  {
   "cell_type": "code",
   "execution_count": 11,
   "id": "afd1c5ca",
   "metadata": {
    "execution": {
     "iopub.execute_input": "2023-03-14T19:32:47.214760Z",
     "iopub.status.busy": "2023-03-14T19:32:47.214482Z",
     "iopub.status.idle": "2023-03-14T19:32:47.222293Z",
     "shell.execute_reply": "2023-03-14T19:32:47.221496Z"
    },
    "papermill": {
     "duration": 0.014323,
     "end_time": "2023-03-14T19:32:47.224333",
     "exception": false,
     "start_time": "2023-03-14T19:32:47.210010",
     "status": "completed"
    },
    "tags": []
   },
   "outputs": [],
   "source": [
    "evaluation_ids = list(df['id'])\n",
    "\n",
    "all_lyrics = df0.drop(index=evaluation_ids)['lyrics']"
   ]
  },
  {
   "cell_type": "code",
   "execution_count": 12,
   "id": "250f950f",
   "metadata": {
    "execution": {
     "iopub.execute_input": "2023-03-14T19:32:47.240472Z",
     "iopub.status.busy": "2023-03-14T19:32:47.240154Z",
     "iopub.status.idle": "2023-03-14T19:32:47.860346Z",
     "shell.execute_reply": "2023-03-14T19:32:47.859457Z"
    },
    "papermill": {
     "duration": 0.633599,
     "end_time": "2023-03-14T19:32:47.862745",
     "exception": false,
     "start_time": "2023-03-14T19:32:47.229146",
     "status": "completed"
    },
    "tags": []
   },
   "outputs": [
    {
     "name": "stdout",
     "output_type": "stream",
     "text": [
      "Original verse:\n",
      ".. All you see it's my name it ain't even got my name .. video\n",
      "Augmented:\n"
     ]
    },
    {
     "data": {
      "text/plain": [
       "['.. All you see had no name it was i changed my name no video']"
      ]
     },
     "execution_count": 12,
     "metadata": {},
     "output_type": "execute_result"
    }
   ],
   "source": [
    "eg_verse = random.choice(eg_lyrics)\n",
    "print('Original verse:')\n",
    "print(eg_verse)\n",
    "\n",
    "print('Augmented:')\n",
    "aug.augment(eg_verse)"
   ]
  },
  {
   "cell_type": "code",
   "execution_count": 18,
   "id": "cfa3b071",
   "metadata": {
    "execution": {
     "iopub.execute_input": "2023-03-14T19:32:47.873091Z",
     "iopub.status.busy": "2023-03-14T19:32:47.872674Z",
     "iopub.status.idle": "2023-03-14T19:32:52.289971Z",
     "shell.execute_reply": "2023-03-14T19:32:52.288990Z"
    },
    "papermill": {
     "duration": 4.425676,
     "end_time": "2023-03-14T19:32:52.292980",
     "exception": false,
     "start_time": "2023-03-14T19:32:47.867304",
     "status": "completed"
    },
    "tags": []
   },
   "outputs": [
    {
     "name": "stdout",
     "output_type": "stream",
     "text": [
      "ORIGINAL lyrics:\n",
      "['Listen, pretty mama', 'I want to be with you tonight, oh yeah', 'I know you left me', 'For someone younger than I, oh yeah', 'Listen up for goodness sakes', \"Me, I've never have much breaks\", 'Opened up my heart and then they all just let me down', 'Whoa, down', 'Listen, sweet baby, yeah', \"I know it's too late to 'xplain, oh yeah\", \"Why I can't please you\", 'I got you when I was sane, yeah', 'Listen up for goodness sakes', \"Me, I've never have much breaks\", 'Opened up my heart and then they all just let me down', 'Whoa, down', 'And the love you gave to me', 'Will increase my will to be, be... down, yeah', 'Listen up for goodness sakes', \"Me, I've never have much breaks\", 'Opened up my heart and then they all just let me down', 'Whoa, down', 'And the love you bring to me', 'Will increase my will to be, be... down, yeah yeah', 'Down, yeah', 'Down, yeah']\n",
      "\n",
      "AUGMENTED lyrics:\n",
      "Aligned:\n",
      "['Listen, or soon', 'I got more play with you tonight, oh yeah', 'I imagine you left you', 'For anybody other than I, like yeah', 'Listen tight for goodness knows', 'Me, he only have enough breaks', 'Opened up my heart and then they also kindly helped me walk', 'Whoa, boss', 'Listen, sweet ear, Listen', \"I know it's too hot ot run, ok yeah\", \"Why friendships can't please friends\", 'I went there when you was sane, yeah', 'Listen up if Christ sakes', 'Me, she never eaten lunch breaks', 'Opened from my heart and then they should just let that know', 'Whoa, universe', 'And the love flies watch over me', 'Will use my will to kill, … Yeah, yeah', 'Listen ye g goodness sakes', 'Me, you actually been much breaks', 'Opened again about heart and then how all just let my down', 'Whoa, Batman', 'And the love we gave to us', 'Will increase my will we go, be... be, yeah?', 'Down, out', 'Down, earth']\n",
      "\n",
      "Misaligned:\n",
      "['Listen, or soon', 'I got more play with you tonight, oh yeah', 'I imagine you left you', 'For anybody other than I, like yeah', 'For anybody other than I, like yeah', 'Listen tight for goodness knows', 'Listen tight for goodness knows', 'Me, he only have enough breaks', 'Opened up my heart and then they also kindly helped me walk', 'Whoa, boss', 'Whoa, boss', 'Listen, sweet ear, Listen', \"I know it's too hot ot run, ok yeah\", \"Why friendships can't please friends\", 'I went there when you was sane, yeah', 'Listen up if Christ sakes', 'Listen up if Christ sakes', 'Me, she never eaten lunch breaks', 'Opened from my heart and then they should just let that know', 'Whoa, universe', 'Whoa, universe', 'And the love flies watch over me', 'Will use my will to kill, … Yeah, yeah', 'Listen ye g goodness sakes', 'Me, you actually been much breaks', 'Opened again about heart and then how all just let my down', 'Whoa, Batman', 'And the love we gave to us', 'Will increase my will we go, be... be, yeah?', 'Down, out', 'Down, earth']\n",
      "\n",
      "RANDOM lyrics:\n",
      "[\" What's the difference between me and you? \", 'Back when Cube - was rollin wit Lorenzo in a Benzo', 'I was bangin wit a gang of instrumentals', 'Got the pens and pencils, got down to business; but sometimes', 'the business end of this shit can turn your friends against you', 'But you was a real nigga, I could sense it in you', 'I still remember the window of the car that you went through', \"That's fucked up, but I'll never forget the shit we been through\", \"And I'ma do whatever it takes to convince you\", \"Cuz you my nigga Doc, and Eazy I'm still wit you\", \"Fuck the beef, nigga I miss you, and that's just bein real wit you\", 'You see the truth is', 'Everybody wanna know how close me and Snoop is', \"And who I'm still cool wit\", 'Then I got these fake-ass niggaz I first drew with', 'Claimin that they non-violent, talkin like they *voice sample*', 'Spit venom in interviews, speakin on reunions', 'Move units, then talk shit and we can do this', \"Until then - I ain't even speakin your name\", \"Just keep my name outta yo' mouth and we can keep it the same\", \"Nigga, it ain't that I'm too big to listen to the rumors\", \"It's just that I'm too damn big to pay attention to 'em\", \"That's the difference\", 'Chorus: Kurupt ', \"What's the difference between me and you?\", \"You talk a good one - but you don't do what you supposed to do\", 'I act on what I feel and never deal wit emotions', \"I'm used to livin big dog style and straight coastin\", 'Yo I stay wit it', 'While you try to perpetrate, play wit it', 'Never knew about the next level until Dre did it ', 'I stay committed while you motherfuckers baby-sitted', 'I smash you critics like a overhand right from Riddick', ' Come and get it, shitted on villians by the millions', 'I be catchin bitches while bitches be catchin feelings', 'So what the fuck am I supposed to do?', 'I pop bottles and hot hollow-points at each and all of you ', 'A heartless bastard, high and plastered', 'My style is like the reaction from too much acid - never come down', \"Pass it around if you can't handle it\", 'Hang Hollywood niggaz by they Soul Train laminates', \"What's the difference between me and you? \", 'About five bank accounts, three ounces and two vehicles', \"Until my death, I'm Bangladesh\", \"I suggest you hold yo' breath til ain't none left\", \"Yo that's the difference\", 'Chorus', 'Aight, hold up hold up!', 'STOP THE BEAT A MINUTE!! I got somethin to say', 'Dre; I wanna tell you this shit right now while this fuckin weed is in me', \" I don't know if I ever told you this, but I love you dawg\", 'I got your motherfuckin back, just know this shit', \" Riiight? .. Slim, I don't know if you noticed it\", \"But I've had your back from day one, nigga let's blow this bitch\", \" I mean it dawg, you ever need somebody offed - who's throat is it?\", \" Well if you ever kill that Kim bitch, I'll show you where the ocean is\", \"Well that's cool, and I appreciate the offer\", \"But if I do decide to really murder my daughter's momma\", \"I'ma sit her up in the front seat and put sunglasses on her\", 'And cruise around wit her for seven hours through California', 'And have her wavin at people  Then drop her off on the corner', 'at the police station and drive off honkin the horn for her', 'Raw dawg, get your arm gnawed off', 'Drop the sawed off and beat you wit the piece it was sawed off of', 'Fuck blood, I wanna see some lungs coughed up', 'Get shot up in the hot tub til the bubbles pop up', 'and they nose and cough snot up, mucus in hot water', \"That's for tryin to talk like The Chronic was lost product\", \"That's for even THINKIN of havin them thoughts thought up!\", \"You better show some respect whenever the Doc's brought up!!\", \"So what's the difference between us? We can start at the penis\", 'Or we can scream, \"I Just Don\\'t Give a Fuck,\" and see who means it!', 'Chorus 1.25X']\n"
     ]
    }
   ],
   "source": [
    "eg_lyrics = random.choice(df['lyrics'])\n",
    "\n",
    "eg_aug_lyrics = aug.augment(eg_lyrics)\n",
    "\n",
    "eg_aug_misl_lyrics = misalign_lyrics(eg_aug_lyrics, \n",
    "                                     repetitions=round(sqrt(len(eg_lyrics))), \n",
    "                                     repeat_verse=2)\n",
    "\n",
    "eg_fake_lyrics = random.choice(all_lyrics)\n",
    "\n",
    "print('ORIGINAL lyrics:')\n",
    "print(eg_lyrics)\n",
    "print()\n",
    "print('AUGMENTED lyrics:')\n",
    "print('Aligned:')\n",
    "print(eg_aug_lyrics)\n",
    "print()\n",
    "print('Misaligned:')\n",
    "print(eg_aug_misl_lyrics)\n",
    "print()\n",
    "print('RANDOM lyrics:')\n",
    "print(eg_fake_lyrics)"
   ]
  },
  {
   "cell_type": "code",
   "execution_count": 14,
   "id": "ef726478",
   "metadata": {
    "execution": {
     "iopub.execute_input": "2023-03-14T19:32:52.320927Z",
     "iopub.status.busy": "2023-03-14T19:32:52.319625Z",
     "iopub.status.idle": "2023-03-14T20:27:23.456045Z",
     "shell.execute_reply": "2023-03-14T20:27:23.455176Z"
    },
    "papermill": {
     "duration": 3271.15521,
     "end_time": "2023-03-14T20:27:23.459215",
     "exception": false,
     "start_time": "2023-03-14T19:32:52.304005",
     "status": "completed"
    },
    "tags": []
   },
   "outputs": [
    {
     "data": {
      "text/plain": [
       "\"\\naug_lyrics = df['lyrics'].apply(lambda x: aug.augment(x))\\n\\n\\nmisl_aug_lyrics = [misalign_lyrics(aug_lyr, repetitions=round(sqrt(\\n    len(aug_lyr))), repeat_verse=random.choice([2,3])) for aug_lyr in aug_lyrics]\\n\\n                                   \\ndf['similar_lyrics'] = misl_aug_lyrics\\ndf['random_lyrics'] = random.sample(list(all_lyrics), len(df['lyrics']))\\n\""
      ]
     },
     "execution_count": 14,
     "metadata": {},
     "output_type": "execute_result"
    }
   ],
   "source": [
    "\"\"\"\n",
    "aug_lyrics = df['lyrics'].apply(lambda x: aug.augment(x))\n",
    "\n",
    "\n",
    "misl_aug_lyrics = [misalign_lyrics(aug_lyr, repetitions=round(sqrt(\n",
    "    len(aug_lyr))), repeat_verse=random.choice([2,3])) for aug_lyr in aug_lyrics]\n",
    "\n",
    "                                   \n",
    "df['similar_lyrics'] = misl_aug_lyrics\n",
    "df['random_lyrics'] = random.sample(list(all_lyrics), len(df['lyrics']))\n",
    "\"\"\""
   ]
  },
  {
   "cell_type": "code",
   "execution_count": 15,
   "id": "616ecc4e",
   "metadata": {
    "execution": {
     "iopub.execute_input": "2023-03-14T20:27:23.485854Z",
     "iopub.status.busy": "2023-03-14T20:27:23.485211Z",
     "iopub.status.idle": "2023-03-14T20:27:23.514536Z",
     "shell.execute_reply": "2023-03-14T20:27:23.513837Z"
    },
    "papermill": {
     "duration": 0.045237,
     "end_time": "2023-03-14T20:27:23.517474",
     "exception": false,
     "start_time": "2023-03-14T20:27:23.472237",
     "status": "completed"
    },
    "tags": []
   },
   "outputs": [
    {
     "data": {
      "text/plain": [
       "'\\ndf.head()\\n'"
      ]
     },
     "execution_count": 15,
     "metadata": {},
     "output_type": "execute_result"
    }
   ],
   "source": [
    "\"\"\"\n",
    "df.head()\n",
    "\"\"\""
   ]
  },
  {
   "cell_type": "code",
   "execution_count": 16,
   "id": "6b3eec25",
   "metadata": {
    "execution": {
     "iopub.execute_input": "2023-03-14T20:27:23.540856Z",
     "iopub.status.busy": "2023-03-14T20:27:23.540120Z",
     "iopub.status.idle": "2023-03-14T20:27:23.601155Z",
     "shell.execute_reply": "2023-03-14T20:27:23.600277Z"
    },
    "papermill": {
     "duration": 0.076044,
     "end_time": "2023-03-14T20:27:23.604227",
     "exception": false,
     "start_time": "2023-03-14T20:27:23.528183",
     "status": "completed"
    },
    "tags": []
   },
   "outputs": [
    {
     "data": {
      "text/plain": [
       "\"\\n#df.to_csv('../data/evaluation/lyrics_eval.csv', index=False)\\n\""
      ]
     },
     "execution_count": 16,
     "metadata": {},
     "output_type": "execute_result"
    }
   ],
   "source": [
    "\"\"\"\n",
    "#df.to_csv('../data/evaluation/lyrics_eval.csv', index=False)\n",
    "\"\"\""
   ]
  }
 ],
 "metadata": {
  "kernelspec": {
   "display_name": "Python 3 (ipykernel)",
   "language": "python",
   "name": "python3"
  },
  "language_info": {
   "codemirror_mode": {
    "name": "ipython",
    "version": 3
   },
   "file_extension": ".py",
   "mimetype": "text/x-python",
   "name": "python",
   "nbconvert_exporter": "python",
   "pygments_lexer": "ipython3",
   "version": "3.9.16"
  },
  "papermill": {
   "default_parameters": {},
   "duration": 3301.222299,
   "end_time": "2023-03-14T20:27:27.100497",
   "environment_variables": {},
   "exception": null,
   "input_path": "01_evaluation_ds_preparation.ipynb",
   "output_path": "01_evaluation_ds_preparation.ipynb",
   "parameters": {},
   "start_time": "2023-03-14T19:32:25.878198",
   "version": "2.4.0"
  },
  "vscode": {
   "interpreter": {
    "hash": "eb8d1ded7c87c6f9c253b40add648304d6b51d2e38393955e855effc7e6f899a"
   }
  }
 },
 "nbformat": 4,
 "nbformat_minor": 5
}
