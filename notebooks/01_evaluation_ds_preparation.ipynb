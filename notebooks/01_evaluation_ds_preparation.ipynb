{
 "cells": [
  {
   "cell_type": "markdown",
   "id": "cf5baa12",
   "metadata": {
    "papermill": {
     "duration": 0.008312,
     "end_time": "2023-03-06T10:19:21.137912",
     "exception": false,
     "start_time": "2023-03-06T10:19:21.129600",
     "status": "completed"
    },
    "tags": []
   },
   "source": [
    "## Evaluation Dataset Preparation"
   ]
  },
  {
   "cell_type": "code",
   "execution_count": 1,
   "id": "464a1f1f",
   "metadata": {
    "execution": {
     "iopub.execute_input": "2023-03-06T10:19:21.157305Z",
     "iopub.status.busy": "2023-03-06T10:19:21.156794Z",
     "iopub.status.idle": "2023-03-06T10:19:26.410372Z",
     "shell.execute_reply": "2023-03-06T10:19:26.409415Z"
    },
    "papermill": {
     "duration": 5.267763,
     "end_time": "2023-03-06T10:19:26.413244",
     "exception": false,
     "start_time": "2023-03-06T10:19:21.145481",
     "status": "completed"
    },
    "tags": []
   },
   "outputs": [
    {
     "name": "stderr",
     "output_type": "stream",
     "text": [
      "2023-03-06 11:19:23.815825: I tensorflow/core/platform/cpu_feature_guard.cc:193] This TensorFlow binary is optimized with oneAPI Deep Neural Network Library (oneDNN) to use the following CPU instructions in performance-critical operations:  AVX2 FMA\n",
      "To enable them in other operations, rebuild TensorFlow with the appropriate compiler flags.\n"
     ]
    },
    {
     "name": "stderr",
     "output_type": "stream",
     "text": [
      "2023-03-06 11:19:25.175774: W tensorflow/compiler/xla/stream_executor/platform/default/dso_loader.cc:64] Could not load dynamic library 'libnvinfer.so.7'; dlerror: libnvinfer.so.7: cannot open shared object file: No such file or directory\n",
      "2023-03-06 11:19:25.175884: W tensorflow/compiler/xla/stream_executor/platform/default/dso_loader.cc:64] Could not load dynamic library 'libnvinfer_plugin.so.7'; dlerror: libnvinfer_plugin.so.7: cannot open shared object file: No such file or directory\n",
      "2023-03-06 11:19:25.175895: W tensorflow/compiler/tf2tensorrt/utils/py_utils.cc:38] TF-TRT Warning: Cannot dlopen some TensorRT libraries. If you would like to use Nvidia GPU with TensorRT, please make sure the missing libraries mentioned above are installed properly.\n"
     ]
    }
   ],
   "source": [
    "import pandas as pd\n",
    "import numpy as np\n",
    "import random\n",
    "import ast\n",
    "import nlpaug.augmenter.word as naw\n",
    "from math import sqrt\n",
    "from sklearn.model_selection import train_test_split"
   ]
  },
  {
   "cell_type": "code",
   "execution_count": 2,
   "id": "16168973",
   "metadata": {
    "execution": {
     "iopub.execute_input": "2023-03-06T10:19:26.431165Z",
     "iopub.status.busy": "2023-03-06T10:19:26.430468Z",
     "iopub.status.idle": "2023-03-06T10:19:26.983345Z",
     "shell.execute_reply": "2023-03-06T10:19:26.982420Z"
    },
    "papermill": {
     "duration": 0.565031,
     "end_time": "2023-03-06T10:19:26.986452",
     "exception": false,
     "start_time": "2023-03-06T10:19:26.421421",
     "status": "completed"
    },
    "tags": []
   },
   "outputs": [],
   "source": [
    "df = pd.read_csv('../data/lyrics.csv')"
   ]
  },
  {
   "cell_type": "code",
   "execution_count": 3,
   "id": "cc4df961",
   "metadata": {
    "execution": {
     "iopub.execute_input": "2023-03-06T10:19:27.046245Z",
     "iopub.status.busy": "2023-03-06T10:19:27.045948Z",
     "iopub.status.idle": "2023-03-06T10:19:27.060093Z",
     "shell.execute_reply": "2023-03-06T10:19:27.059333Z"
    },
    "papermill": {
     "duration": 0.026287,
     "end_time": "2023-03-06T10:19:27.062943",
     "exception": false,
     "start_time": "2023-03-06T10:19:27.036656",
     "status": "completed"
    },
    "tags": []
   },
   "outputs": [
    {
     "data": {
      "text/html": [
       "<div>\n",
       "<style scoped>\n",
       "    .dataframe tbody tr th:only-of-type {\n",
       "        vertical-align: middle;\n",
       "    }\n",
       "\n",
       "    .dataframe tbody tr th {\n",
       "        vertical-align: top;\n",
       "    }\n",
       "\n",
       "    .dataframe thead th {\n",
       "        text-align: right;\n",
       "    }\n",
       "</style>\n",
       "<table border=\"1\" class=\"dataframe\">\n",
       "  <thead>\n",
       "    <tr style=\"text-align: right;\">\n",
       "      <th></th>\n",
       "      <th>lyrics</th>\n",
       "      <th>genre</th>\n",
       "      <th>id</th>\n",
       "    </tr>\n",
       "  </thead>\n",
       "  <tbody>\n",
       "    <tr>\n",
       "      <th>0</th>\n",
       "      <td>['So long', 'My sweet love', 'I miss you', \"Mo...</td>\n",
       "      <td>pop</td>\n",
       "      <td>0</td>\n",
       "    </tr>\n",
       "    <tr>\n",
       "      <th>1</th>\n",
       "      <td>[\"It won't be long before I'm leaving here\", \"...</td>\n",
       "      <td>pop</td>\n",
       "      <td>1</td>\n",
       "    </tr>\n",
       "    <tr>\n",
       "      <th>2</th>\n",
       "      <td>['Are we crazy?', 'Living our lives through a ...</td>\n",
       "      <td>pop</td>\n",
       "      <td>2</td>\n",
       "    </tr>\n",
       "    <tr>\n",
       "      <th>3</th>\n",
       "      <td>['When did it go wrong, I will never know', 'I...</td>\n",
       "      <td>pop</td>\n",
       "      <td>3</td>\n",
       "    </tr>\n",
       "    <tr>\n",
       "      <th>4</th>\n",
       "      <td>[\"I've waited all this time\", 'Counting minute...</td>\n",
       "      <td>pop</td>\n",
       "      <td>4</td>\n",
       "    </tr>\n",
       "  </tbody>\n",
       "</table>\n",
       "</div>"
      ],
      "text/plain": [
       "                                              lyrics genre  id\n",
       "0  ['So long', 'My sweet love', 'I miss you', \"Mo...   pop   0\n",
       "1  [\"It won't be long before I'm leaving here\", \"...   pop   1\n",
       "2  ['Are we crazy?', 'Living our lives through a ...   pop   2\n",
       "3  ['When did it go wrong, I will never know', 'I...   pop   3\n",
       "4  [\"I've waited all this time\", 'Counting minute...   pop   4"
      ]
     },
     "execution_count": 3,
     "metadata": {},
     "output_type": "execute_result"
    }
   ],
   "source": [
    "df.head()"
   ]
  },
  {
   "cell_type": "code",
   "execution_count": 4,
   "id": "bc8a9a7c",
   "metadata": {
    "execution": {
     "iopub.execute_input": "2023-03-06T10:19:27.080885Z",
     "iopub.status.busy": "2023-03-06T10:19:27.080543Z",
     "iopub.status.idle": "2023-03-06T10:19:27.112113Z",
     "shell.execute_reply": "2023-03-06T10:19:27.110723Z"
    },
    "papermill": {
     "duration": 0.044319,
     "end_time": "2023-03-06T10:19:27.115305",
     "exception": false,
     "start_time": "2023-03-06T10:19:27.070986",
     "status": "completed"
    },
    "tags": []
   },
   "outputs": [
    {
     "name": "stdout",
     "output_type": "stream",
     "text": [
      "<class 'pandas.core.frame.DataFrame'>\n",
      "RangeIndex: 36000 entries, 0 to 35999\n",
      "Data columns (total 3 columns):\n",
      " #   Column  Non-Null Count  Dtype \n",
      "---  ------  --------------  ----- \n",
      " 0   lyrics  36000 non-null  object\n",
      " 1   genre   36000 non-null  object\n",
      " 2   id      36000 non-null  int64 \n",
      "dtypes: int64(1), object(2)\n",
      "memory usage: 843.9+ KB\n"
     ]
    }
   ],
   "source": [
    "df.info()"
   ]
  },
  {
   "cell_type": "code",
   "execution_count": 5,
   "id": "4321c08a",
   "metadata": {
    "execution": {
     "iopub.execute_input": "2023-03-06T10:19:27.131637Z",
     "iopub.status.busy": "2023-03-06T10:19:27.131122Z",
     "iopub.status.idle": "2023-03-06T10:19:30.122124Z",
     "shell.execute_reply": "2023-03-06T10:19:30.121180Z"
    },
    "papermill": {
     "duration": 3.00326,
     "end_time": "2023-03-06T10:19:30.125237",
     "exception": false,
     "start_time": "2023-03-06T10:19:27.121977",
     "status": "completed"
    },
    "tags": []
   },
   "outputs": [],
   "source": [
    "df['lyrics'] = df['lyrics'].apply(ast.literal_eval)"
   ]
  },
  {
   "cell_type": "code",
   "execution_count": 6,
   "id": "25e04d13",
   "metadata": {
    "execution": {
     "iopub.execute_input": "2023-03-06T10:19:30.143691Z",
     "iopub.status.busy": "2023-03-06T10:19:30.143389Z",
     "iopub.status.idle": "2023-03-06T10:19:30.152550Z",
     "shell.execute_reply": "2023-03-06T10:19:30.151447Z"
    },
    "papermill": {
     "duration": 0.022137,
     "end_time": "2023-03-06T10:19:30.155732",
     "exception": false,
     "start_time": "2023-03-06T10:19:30.133595",
     "status": "completed"
    },
    "tags": []
   },
   "outputs": [],
   "source": [
    "df0 = df.copy()"
   ]
  },
  {
   "cell_type": "code",
   "execution_count": 7,
   "id": "fd6271df",
   "metadata": {
    "execution": {
     "iopub.execute_input": "2023-03-06T10:19:30.174256Z",
     "iopub.status.busy": "2023-03-06T10:19:30.173952Z",
     "iopub.status.idle": "2023-03-06T10:19:30.196208Z",
     "shell.execute_reply": "2023-03-06T10:19:30.194875Z"
    },
    "papermill": {
     "duration": 0.035301,
     "end_time": "2023-03-06T10:19:30.199735",
     "exception": false,
     "start_time": "2023-03-06T10:19:30.164434",
     "status": "completed"
    },
    "tags": []
   },
   "outputs": [],
   "source": [
    "df = df.groupby(\"genre\").sample(n=50, random_state=42).reset_index()"
   ]
  },
  {
   "cell_type": "code",
   "execution_count": 8,
   "id": "6c6bd385",
   "metadata": {
    "execution": {
     "iopub.execute_input": "2023-03-06T10:19:30.221296Z",
     "iopub.status.busy": "2023-03-06T10:19:30.220135Z",
     "iopub.status.idle": "2023-03-06T10:19:30.230880Z",
     "shell.execute_reply": "2023-03-06T10:19:30.229551Z"
    },
    "papermill": {
     "duration": 0.024978,
     "end_time": "2023-03-06T10:19:30.234066",
     "exception": false,
     "start_time": "2023-03-06T10:19:30.209088",
     "status": "completed"
    },
    "tags": []
   },
   "outputs": [
    {
     "data": {
      "text/plain": [
       "['I get that paper, I do it major',\n",
       " \"I'm stayin sucker-free and, I'm shakin haters \",\n",
       " \"I ain't really tryin to hurt nobody \",\n",
       " \"I ain't really tryin to hurt nobody \",\n",
       " \"I ain't really tryin to hurt nobody\",\n",
       " 'Is somebody gonna get hurt up in here? Probably',\n",
       " 'My money get jealous, I keep the dough in check',\n",
       " \"The checks bounce, give me cash and give me mo' interest\",\n",
       " 'Rick Rock, now I get the dough goin west',\n",
       " \"20 thou' on the ground, what'chu wanna bet?\",\n",
       " 'If I lose I roll another bet to even up',\n",
       " \"Keep lookin for the dough like I ain't seen enough\",\n",
       " 'Fully equipped the whip, that would be a plus',\n",
       " \"Hop off the you-know-what and I'ma leave it up\",\n",
       " \" The dough on the Lambo'\",\n",
       " \"Don't try to be a Rambo or be an example\",\n",
       " \"Passport paper, ain't a place that I can't go\",\n",
       " \"Haters gettin sick 'bout to Earl, like Kimbo \",\n",
       " 'Go ahead man, smack yourself silly',\n",
       " 'Rubberbands never fit when I package my scrilly',\n",
       " \"Overseas but I'm still the man back in my city\",\n",
       " 'Ugh, put the cream on the acne like Diddy ',\n",
       " \"Show you how to make 'em put the paper in your face\",\n",
       " \"Let the yellow bones know that it's time to skate\",\n",
       " \"Pillsbury dough sho' make a lot of cake\",\n",
       " 'Time to show all of these suckas how to paper chase',\n",
       " 'The blueprint for the paper, just rewind it back',\n",
       " 'Yeah our money cash cars, I be rhymin that',\n",
       " 'Stay ballin on the base like a Diamondback',\n",
       " 'While you in the crowd gettin mad because the concert packed',\n",
       " 'Two chicks talkin to me on the 3-way',\n",
       " 'Breeze blowin in the hair of my breezy',\n",
       " \"Woodgrain I'ma grab when you see me\",\n",
       " \"Oakland in my hand like it's eBay\",\n",
       " 'Both chicks beggin me to come to see A',\n",
       " 'No time like I ran out of prepaid',\n",
       " \"If you don't go and give this hotness to the DJ\",\n",
       " \"You'll need a Doctor and it ain't gonna be Dre\",\n",
       " 'Fans tryin to figure out and try to find who',\n",
       " 'the last verse of the last hearse applied to',\n",
       " \"I could tell you a lie and tell you it's not you\",\n",
       " 'But like B on the ScanTron - not true',\n",
       " \"Cause y'all boys is costumes\",\n",
       " \"I brush 'em off like the canvas in an art room\",\n",
       " \"Bring it on boy, my victory's your doom\",\n",
       " \"Your plan was to 'Samity Sam me but it's gone BOOM!\",\n",
       " 'Some people hate to see you spendin the new bucks',\n",
       " 'You better not show your animosity to us',\n",
       " \"Hit gon' have the three K's like Klu Klux\",\n",
       " \"So bring 'em to the barber that'll give 'em a crewcut\",\n",
       " 'Yup! That mean minus a couple',\n",
       " 'Need to be findin your mind instead of findin some trouble',\n",
       " \"Cause it's obvious you lost when we up out of the huddle\",\n",
       " 'Ready to blitz, yup - I seen you in outer space like a shuttle',\n",
       " \"Ha ha; one mil', two mil', three, fo' mil'\",\n",
       " \"Stayin hungry like I missed the past fo' meals\",\n",
       " 'Half a mil\\' still tell a man \"No deal\"',\n",
       " \"Ridin with the type of bananas you don't peel\",\n",
       " \"Yeah, the type of weapon that don't jam\",\n",
       " \"Like most of these rappers in this game that don't man\",\n",
       " 'Plus the homie ridin with me is no fan',\n",
       " \"Don't bring the drama wit'chu if you ain't bringin no plan\"]"
      ]
     },
     "execution_count": 8,
     "metadata": {},
     "output_type": "execute_result"
    }
   ],
   "source": [
    "eg_lyrics = random.choice(df['lyrics'])\n",
    "eg_lyrics"
   ]
  },
  {
   "cell_type": "code",
   "execution_count": 9,
   "id": "c1f7bdbd",
   "metadata": {
    "execution": {
     "iopub.execute_input": "2023-03-06T10:19:30.252922Z",
     "iopub.status.busy": "2023-03-06T10:19:30.252038Z",
     "iopub.status.idle": "2023-03-06T10:19:36.555283Z",
     "shell.execute_reply": "2023-03-06T10:19:36.554509Z"
    },
    "papermill": {
     "duration": 6.315017,
     "end_time": "2023-03-06T10:19:36.557471",
     "exception": false,
     "start_time": "2023-03-06T10:19:30.242454",
     "status": "completed"
    },
    "tags": []
   },
   "outputs": [],
   "source": [
    "aug = naw.ContextualWordEmbsAug(model_path='roberta-base', action=\"substitute\")"
   ]
  },
  {
   "cell_type": "code",
   "execution_count": 10,
   "id": "737ac3e7",
   "metadata": {
    "execution": {
     "iopub.execute_input": "2023-03-06T10:19:36.567774Z",
     "iopub.status.busy": "2023-03-06T10:19:36.567470Z",
     "iopub.status.idle": "2023-03-06T10:19:36.572643Z",
     "shell.execute_reply": "2023-03-06T10:19:36.571997Z"
    },
    "papermill": {
     "duration": 0.013351,
     "end_time": "2023-03-06T10:19:36.575411",
     "exception": false,
     "start_time": "2023-03-06T10:19:36.562060",
     "status": "completed"
    },
    "tags": []
   },
   "outputs": [],
   "source": [
    "def misalign_lyrics(lyrics, repetitions, repeat_verse):\n",
    "    verses2repeat = random.sample(range(0, len(lyrics)), repetitions)\n",
    "    misaligned_lyrics = []\n",
    "    for idx, verse in enumerate(lyrics):\n",
    "        if idx in verses2repeat:\n",
    "            misaligned_lyrics.extend([verse] * repeat_verse)\n",
    "        else:\n",
    "            misaligned_lyrics.append(verse)\n",
    "    return misaligned_lyrics"
   ]
  },
  {
   "cell_type": "code",
   "execution_count": 11,
   "id": "afd1c5ca",
   "metadata": {
    "execution": {
     "iopub.execute_input": "2023-03-06T10:19:36.595058Z",
     "iopub.status.busy": "2023-03-06T10:19:36.594750Z",
     "iopub.status.idle": "2023-03-06T10:19:36.602672Z",
     "shell.execute_reply": "2023-03-06T10:19:36.601731Z"
    },
    "papermill": {
     "duration": 0.021032,
     "end_time": "2023-03-06T10:19:36.605783",
     "exception": false,
     "start_time": "2023-03-06T10:19:36.584751",
     "status": "completed"
    },
    "tags": []
   },
   "outputs": [],
   "source": [
    "evaluation_ids = list(df['id'])\n",
    "\n",
    "all_lyrics = df0.drop(index=evaluation_ids)['lyrics']"
   ]
  },
  {
   "cell_type": "code",
   "execution_count": 12,
   "id": "250f950f",
   "metadata": {
    "execution": {
     "iopub.execute_input": "2023-03-06T10:19:36.624981Z",
     "iopub.status.busy": "2023-03-06T10:19:36.624682Z",
     "iopub.status.idle": "2023-03-06T10:19:37.114375Z",
     "shell.execute_reply": "2023-03-06T10:19:37.113664Z"
    },
    "papermill": {
     "duration": 0.501325,
     "end_time": "2023-03-06T10:19:37.116012",
     "exception": false,
     "start_time": "2023-03-06T10:19:36.614687",
     "status": "completed"
    },
    "tags": []
   },
   "outputs": [
    {
     "name": "stdout",
     "output_type": "stream",
     "text": [
      "Original verse:\n",
      "Yup! That mean minus a couple\n",
      "Augmented:\n"
     ]
    },
    {
     "data": {
      "text/plain": [
       "['Yup! That puts minus 1 year']"
      ]
     },
     "execution_count": 12,
     "metadata": {},
     "output_type": "execute_result"
    }
   ],
   "source": [
    "eg_verse = random.choice(eg_lyrics)\n",
    "print('Original verse:')\n",
    "print(eg_verse)\n",
    "\n",
    "print('Augmented:')\n",
    "aug.augment(eg_verse)"
   ]
  },
  {
   "cell_type": "code",
   "execution_count": 13,
   "id": "cfa3b071",
   "metadata": {
    "execution": {
     "iopub.execute_input": "2023-03-06T10:19:37.125450Z",
     "iopub.status.busy": "2023-03-06T10:19:37.125035Z",
     "iopub.status.idle": "2023-03-06T10:19:53.761085Z",
     "shell.execute_reply": "2023-03-06T10:19:53.760236Z"
    },
    "papermill": {
     "duration": 16.642754,
     "end_time": "2023-03-06T10:19:53.762939",
     "exception": false,
     "start_time": "2023-03-06T10:19:37.120185",
     "status": "completed"
    },
    "tags": []
   },
   "outputs": [
    {
     "name": "stdout",
     "output_type": "stream",
     "text": [
      "ORIGINAL lyrics:\n",
      "['When I was a little girl I never was a princess type', \"I didn't do fairy tales or wish on stars at night\", 'All the other girls are living in make believe', 'Searching for the one boy of their dreams', 'Ooh ooh ooh, ooh ooh ooh, ooh ooh ooh', 'Everywhere I go see a trail of broken hearts', 'And one by one I watch them fall apart', \"I told myself I won't let that be me\", \"I'll take my time for ever after happily\", \"I'll save my love for love in a land called far away\", \"Until then well, love, your heart's gonna have to wait\", 'When I find my love that I will love every day', \"Ooh ooh, where hearts don't have to break\", \"And I'll stay in love in a land called far away\", 'Ooh ooh ooh, ooh ooh ooh, ooh ooh ooh', 'Ooh ooh ooh, ooh ooh ooh, ooh ooh ooh', \"Run along little boy, you're just distracting me\", \"I've got things to learn and places I should be\", 'Though I appreciate the way you feel for me', \"Truth is I'm miles away from feeling that kind of thing\", \"I'll save my love for love in a land called far away\", \"Until then well, love, your heart's gonna have to wait\", 'When I find my love that I will love every day', \"Ooh ooh, where hearts don't have to break\", \"And I'll stay in love in a land called far away\", 'Ooh ooh ooh, ooh ooh ooh, ooh ooh ooh', 'Ooh ooh ooh, ooh ooh ooh, ooh ooh ooh', \"I'll be still til the day love comes calling me\", \"Until that day I'll be fine\", \"I'll save my love for love in a land called far away\", \"Until then well, love, your heart's gonna have to wait\", 'When I find my love that I will love every day', \"Ooh ooh, where hearts don't have to break\", \"I'll save my love for love in a land called far away\", \"Until then well, love, your heart's gonna have to wait\", 'When I find my love that I will love every day', \"Ooh ooh, where hearts don't have to break\", \"And I'll stay in love in a land called far away\", 'Ooh ooh ooh, ooh ooh ooh, ooh ooh ooh', 'Ooh ooh ooh, ooh ooh ooh, ooh ooh ooh', 'Ooh ooh ooh, ooh ooh ooh, ooh ooh ooh', 'Ooh ooh ooh, ooh ooh ooh, ooh ooh ooh']\n",
      "\n",
      "AUGMENTED lyrics:\n",
      "Aligned:\n",
      "['When I bo a rule girl I never was ears princess beat', \"I didn't do<unk> tales life wish heaven stars at away\", 'All the a still are living in pound believe', 'Searching for the still regret of some dreams', 'Ooh ooh h, wo<unk> I, do ooh burn', 'Everywhere believe 600 see tucked trail of broken hearts', 'And one by go I po... fall apart', 'I told myself again O let then be me', \"I'll take my time o o after do\", \"I'll<unk> my love no love a a land called … away\", 'Until then well,<unk>,<unk><unk> gonna have<unk> wait', 'When<unk><unk><unk> love that<unk> will love every day', 'Ooh<unk>,<unk> hearts<unk> have to<unk>', \"And I'll stay<unk> love in<unk> land called<unk><unk>\", 'Ooh oh oh,<unk> ooh<unk>,<unk><unk> ooh', 'Ooh an ooh, all<unk><unk>, ooh<unk><unk>', \"Run along little<unk>, you're just<unk><unk>\", \"I've got<unk><unk> learn<unk> places<unk> should be\", 'Though I appreciate the way<unk><unk> for<unk>', \"Truth<unk> I'm miles away from<unk> that kind<unk><unk>\", \"I'll save<unk> love<unk> love in a land<unk><unk> away\", \"Until<unk> well,<unk>, your heart's<unk> have to<unk>\", 'When I find my love<unk> I<unk><unk> every<unk>', 'Ooh<unk>,<unk> hearts<unk> have to<unk>', \"And I'll stay<unk> love<unk><unk> land called far<unk>\", 'Ooh Jesus Oh,<unk><unk><unk>, ooh<unk> ooh', 'Ooh look ooh, ah<unk><unk>,<unk><unk> ooh', \"I'll<unk><unk> til the day love<unk><unk> me\", 'Until<unk> day<unk> be<unk>', \"I'll save my<unk><unk><unk> in a land called<unk> away\", 'Until then<unk>, love, your<unk> gonna<unk> to<unk>', 'When<unk> find<unk> love that I will<unk> every<unk>', 'Ooh ooh, where hearts<unk><unk><unk><unk>', \"I'll save my love<unk><unk> in a land called<unk><unk>\", \"Until<unk> well, love,<unk> heart's<unk> have to<unk>\", 'When<unk> find my love that I<unk><unk><unk> day', 'Ooh<unk>, where<unk><unk> have to<unk>', 'And<unk><unk> in love in a land<unk><unk> away', 'Ooh no ooh, oh ooh<unk>,<unk><unk><unk>', 'Ooh um ooh, Om<unk><unk>,<unk><unk> ooh', 'Ooh oh ooh, h<unk><unk>,<unk><unk> ooh', 'Ooh ooh yes, off<unk><unk>, ooh<unk><unk>']\n",
      "\n",
      "Misaligned:\n",
      "['When I bo a rule girl I never was ears princess beat', \"I didn't do<unk> tales life wish heaven stars at away\", 'All the a still are living in pound believe', 'Searching for the still regret of some dreams', 'Ooh ooh h, wo<unk> I, do ooh burn', 'Everywhere believe 600 see tucked trail of broken hearts', 'And one by go I po... fall apart', 'And one by go I po... fall apart', 'I told myself again O let then be me', 'I told myself again O let then be me', \"I'll take my time o o after do\", \"I'll<unk> my love no love a a land called … away\", 'Until then well,<unk>,<unk><unk> gonna have<unk> wait', 'When<unk><unk><unk> love that<unk> will love every day', 'Ooh<unk>,<unk> hearts<unk> have to<unk>', \"And I'll stay<unk> love in<unk> land called<unk><unk>\", 'Ooh oh oh,<unk> ooh<unk>,<unk><unk> ooh', 'Ooh oh oh,<unk> ooh<unk>,<unk><unk> ooh', 'Ooh an ooh, all<unk><unk>, ooh<unk><unk>', \"Run along little<unk>, you're just<unk><unk>\", \"I've got<unk><unk> learn<unk> places<unk> should be\", 'Though I appreciate the way<unk><unk> for<unk>', \"Truth<unk> I'm miles away from<unk> that kind<unk><unk>\", \"I'll save<unk> love<unk> love in a land<unk><unk> away\", \"Until<unk> well,<unk>, your heart's<unk> have to<unk>\", 'When I find my love<unk> I<unk><unk> every<unk>', 'Ooh<unk>,<unk> hearts<unk> have to<unk>', \"And I'll stay<unk> love<unk><unk> land called far<unk>\", \"And I'll stay<unk> love<unk><unk> land called far<unk>\", 'Ooh Jesus Oh,<unk><unk><unk>, ooh<unk> ooh', 'Ooh look ooh, ah<unk><unk>,<unk><unk> ooh', \"I'll<unk><unk> til the day love<unk><unk> me\", \"I'll<unk><unk> til the day love<unk><unk> me\", 'Until<unk> day<unk> be<unk>', \"I'll save my<unk><unk><unk> in a land called<unk> away\", 'Until then<unk>, love, your<unk> gonna<unk> to<unk>', 'When<unk> find<unk> love that I will<unk> every<unk>', 'Ooh ooh, where hearts<unk><unk><unk><unk>', \"I'll save my love<unk><unk> in a land called<unk><unk>\", \"Until<unk> well, love,<unk> heart's<unk> have to<unk>\", 'When<unk> find my love that I<unk><unk><unk> day', 'Ooh<unk>, where<unk><unk> have to<unk>', 'And<unk><unk> in love in a land<unk><unk> away', 'Ooh no ooh, oh ooh<unk>,<unk><unk><unk>', 'Ooh um ooh, Om<unk><unk>,<unk><unk> ooh', 'Ooh oh ooh, h<unk><unk>,<unk><unk> ooh', 'Ooh ooh yes, off<unk><unk>, ooh<unk><unk>', 'Ooh ooh yes, off<unk><unk>, ooh<unk><unk>']\n",
      "\n",
      "RANDOM lyrics:\n",
      "['Yeah, yeah, yeah, yeah', \"Gave you more than a million told you it's yours baby, yeah\", 'Gave you more than a mission, love is war baby, yeah', 'Gave you one big missile two big bombs baby, yeah', 'Gave you one big kiss and these two arms, baby', \"Got a meet a nigga halfway, I'm just a call away\", 'You can use me for your band-aid, I put your scars away', 'And you know I come with some pressure, you gotta be certain', 'Too picky, I cannot just fall for any person', 'Too picky, gotta be for me and promise not to turn yeah', 'She keep a spliff on Debo and I keep my blunt on Big Worm yeah', 'Jealousy towards me happens so often', 'Far from egotistic, I done told you that I need you, yeah', \"Too many fake ones out there, ain't hard for me to see through them\", 'When they know you way way up there, they just wanna see you land', \"I don't wanna stand if you ain't standing by my side, no\", \"I cross the T's baby, you dot the I's, oh oh\", \"Gave you more than a million told you it's yours baby baby\", 'Gave you more than a mission, love is war baby', 'Gave you one big missile two big bombs baby, yeah', 'Gave you one big kiss and these two arms, baby', \"Got a meet a nigga halfway, I'm just a call away\", 'Gotta meet a nigga halfway or meet me all the way', 'Use me for your band-aid, I put your scars away', 'Too picky, I cannot just fall for any person', 'Too picky, gotta be for me and promise not to turn yeah', 'Gotta build a bridge from you to me and promise not to burn it', 'Although jealousy towards me happens so often', 'You know they gonna be focusing on everything that we do yeah', 'Far from egotistic, I done told you that I need you, yeah', \"Too many fake ones out there, ain't hard for me to read through that\", \"I don't wanna stand if you ain't standing by my side, no\", \"And if you like magic, baby that's a body high\", 'Jealousy towards me happens so often', \"These hoes just tired, they're exhausted\", 'Been sending shots and whatnot', \"Tick tick tock it's crunch time\", \"Can't give a thot a minute of my bust down 'cause for you I\", \"Gave you more than a million told you it's yours baby baby\", 'Gave you more than a mission, love is war baby', 'Gave you one big missile two big bombs baby, yeah', 'Gave you one big kiss and these two arms, baby', \"Got a meet a nigga halfway, I'm just a call away\", 'You can use me for your band-aid, I put your scars away', 'And you know I come with some pressure, gotta be certain', 'Too picky, I cannot just fall for any person', 'Too picky, gotta be for me and promise not to turn yeah', 'She keep a spliff on Debo and I keep my blunt on big worm, yeah', 'You know they gonna be focusing on everything that we do yeah', 'Far from egotistic, I done told you that I need you, yeah']\n"
     ]
    }
   ],
   "source": [
    "eg_lyrics = random.choice(df['lyrics'])\n",
    "\n",
    "eg_aug_lyrics = aug.augment(eg_lyrics)\n",
    "\n",
    "eg_aug_misl_lyrics = misalign_lyrics(eg_aug_lyrics, \n",
    "                                     repetitions=round(sqrt(len(eg_lyrics))), \n",
    "                                     repeat_verse=2)\n",
    "\n",
    "eg_fake_lyrics = random.choice(all_lyrics)\n",
    "\n",
    "print('ORIGINAL lyrics:')\n",
    "print(eg_lyrics)\n",
    "print()\n",
    "print('AUGMENTED lyrics:')\n",
    "print('Aligned:')\n",
    "print(eg_aug_lyrics)\n",
    "print()\n",
    "print('Misaligned:')\n",
    "print(eg_aug_misl_lyrics)\n",
    "print()\n",
    "print('RANDOM lyrics:')\n",
    "print(eg_fake_lyrics)"
   ]
  },
  {
   "cell_type": "code",
   "execution_count": 14,
   "id": "ef726478",
   "metadata": {
    "execution": {
     "iopub.execute_input": "2023-03-06T10:19:53.773407Z",
     "iopub.status.busy": "2023-03-06T10:19:53.773050Z",
     "iopub.status.idle": "2023-03-06T10:56:45.521014Z",
     "shell.execute_reply": "2023-03-06T10:56:45.520250Z"
    },
    "papermill": {
     "duration": 2211.756606,
     "end_time": "2023-03-06T10:56:45.524667",
     "exception": false,
     "start_time": "2023-03-06T10:19:53.768061",
     "status": "completed"
    },
    "tags": []
   },
   "outputs": [],
   "source": [
    "aug_lyrics = df['lyrics'].apply(lambda x: aug.augment(x))\n",
    "\n",
    "\n",
    "misl_aug_lyrics = [misalign_lyrics(aug_lyr, repetitions=round(sqrt(\n",
    "    len(aug_lyr))), repeat_verse=random.choice([2,3])) for aug_lyr in aug_lyrics]\n",
    "\n",
    "                                   \n",
    "df['similar_lyrics'] = misl_aug_lyrics\n",
    "df['random_lyrics'] = random.sample(list(all_lyrics), len(df['lyrics']))"
   ]
  },
  {
   "cell_type": "code",
   "execution_count": 15,
   "id": "616ecc4e",
   "metadata": {
    "execution": {
     "iopub.execute_input": "2023-03-06T10:56:45.546924Z",
     "iopub.status.busy": "2023-03-06T10:56:45.546454Z",
     "iopub.status.idle": "2023-03-06T10:56:45.569571Z",
     "shell.execute_reply": "2023-03-06T10:56:45.568301Z"
    },
    "papermill": {
     "duration": 0.038093,
     "end_time": "2023-03-06T10:56:45.573264",
     "exception": false,
     "start_time": "2023-03-06T10:56:45.535171",
     "status": "completed"
    },
    "tags": []
   },
   "outputs": [
    {
     "data": {
      "text/html": [
       "<div>\n",
       "<style scoped>\n",
       "    .dataframe tbody tr th:only-of-type {\n",
       "        vertical-align: middle;\n",
       "    }\n",
       "\n",
       "    .dataframe tbody tr th {\n",
       "        vertical-align: top;\n",
       "    }\n",
       "\n",
       "    .dataframe thead th {\n",
       "        text-align: right;\n",
       "    }\n",
       "</style>\n",
       "<table border=\"1\" class=\"dataframe\">\n",
       "  <thead>\n",
       "    <tr style=\"text-align: right;\">\n",
       "      <th></th>\n",
       "      <th>index</th>\n",
       "      <th>lyrics</th>\n",
       "      <th>genre</th>\n",
       "      <th>id</th>\n",
       "      <th>similar_lyrics</th>\n",
       "      <th>random_lyrics</th>\n",
       "    </tr>\n",
       "  </thead>\n",
       "  <tbody>\n",
       "    <tr>\n",
       "      <th>0</th>\n",
       "      <td>1935</td>\n",
       "      <td>[Well, I've been waitin' ever since eight, Gue...</td>\n",
       "      <td>pop</td>\n",
       "      <td>1935</td>\n",
       "      <td>[Well, he liked waitin' ever minute..., Guess ...</td>\n",
       "      <td>[Little girls, listen closely, 'Cause no one t...</td>\n",
       "    </tr>\n",
       "    <tr>\n",
       "      <th>1</th>\n",
       "      <td>6494</td>\n",
       "      <td>[This kind of love, Is more than a lifeline, F...</td>\n",
       "      <td>pop</td>\n",
       "      <td>6494</td>\n",
       "      <td>[This to the love, Is more we a this, For a ca...</td>\n",
       "      <td>[What you're gonna do, You ain't no friend of ...</td>\n",
       "    </tr>\n",
       "    <tr>\n",
       "      <th>2</th>\n",
       "      <td>1720</td>\n",
       "      <td>[I could tell by the look in her eyes, Maybe I...</td>\n",
       "      <td>pop</td>\n",
       "      <td>1720</td>\n",
       "      <td>[I barely can by the fail in her eyes, Maybe I...</td>\n",
       "      <td>[Swag central, See what we have here is, An op...</td>\n",
       "    </tr>\n",
       "    <tr>\n",
       "      <th>3</th>\n",
       "      <td>9120</td>\n",
       "      <td>[Don't Tell me you love me when I don't, You k...</td>\n",
       "      <td>pop</td>\n",
       "      <td>9120</td>\n",
       "      <td>[Don't call me you love me about this miss, Yo...</td>\n",
       "      <td>[Baby if you really love me, You had better un...</td>\n",
       "    </tr>\n",
       "    <tr>\n",
       "      <th>4</th>\n",
       "      <td>360</td>\n",
       "      <td>[Who's the man? who's the boss?, who's the nig...</td>\n",
       "      <td>pop</td>\n",
       "      <td>360</td>\n",
       "      <td>[Who's the &amp;? why came boss?, who's the&lt;unk&gt; t...</td>\n",
       "      <td>[Every day I see your face, I wish that I'd st...</td>\n",
       "    </tr>\n",
       "  </tbody>\n",
       "</table>\n",
       "</div>"
      ],
      "text/plain": [
       "   index                                             lyrics genre    id  \\\n",
       "0   1935  [Well, I've been waitin' ever since eight, Gue...   pop  1935   \n",
       "1   6494  [This kind of love, Is more than a lifeline, F...   pop  6494   \n",
       "2   1720  [I could tell by the look in her eyes, Maybe I...   pop  1720   \n",
       "3   9120  [Don't Tell me you love me when I don't, You k...   pop  9120   \n",
       "4    360  [Who's the man? who's the boss?, who's the nig...   pop   360   \n",
       "\n",
       "                                      similar_lyrics  \\\n",
       "0  [Well, he liked waitin' ever minute..., Guess ...   \n",
       "1  [This to the love, Is more we a this, For a ca...   \n",
       "2  [I barely can by the fail in her eyes, Maybe I...   \n",
       "3  [Don't call me you love me about this miss, Yo...   \n",
       "4  [Who's the &? why came boss?, who's the<unk> t...   \n",
       "\n",
       "                                       random_lyrics  \n",
       "0  [Little girls, listen closely, 'Cause no one t...  \n",
       "1  [What you're gonna do, You ain't no friend of ...  \n",
       "2  [Swag central, See what we have here is, An op...  \n",
       "3  [Baby if you really love me, You had better un...  \n",
       "4  [Every day I see your face, I wish that I'd st...  "
      ]
     },
     "execution_count": 15,
     "metadata": {},
     "output_type": "execute_result"
    }
   ],
   "source": [
    "df.head()"
   ]
  },
  {
   "cell_type": "code",
   "execution_count": 16,
   "id": "6b3eec25",
   "metadata": {
    "execution": {
     "iopub.execute_input": "2023-03-06T10:56:45.595437Z",
     "iopub.status.busy": "2023-03-06T10:56:45.595147Z",
     "iopub.status.idle": "2023-03-06T10:56:45.651113Z",
     "shell.execute_reply": "2023-03-06T10:56:45.650283Z"
    },
    "papermill": {
     "duration": 0.069893,
     "end_time": "2023-03-06T10:56:45.653800",
     "exception": false,
     "start_time": "2023-03-06T10:56:45.583907",
     "status": "completed"
    },
    "tags": []
   },
   "outputs": [],
   "source": [
    "df.to_csv('../data/evaluation/lyrics_eval.csv', index=False)"
   ]
  }
 ],
 "metadata": {
  "kernelspec": {
   "display_name": "Python 3 (ipykernel)",
   "language": "python",
   "name": "python3"
  },
  "language_info": {
   "codemirror_mode": {
    "name": "ipython",
    "version": 3
   },
   "file_extension": ".py",
   "mimetype": "text/x-python",
   "name": "python",
   "nbconvert_exporter": "python",
   "pygments_lexer": "ipython3",
   "version": "3.9.16"
  },
  "papermill": {
   "default_parameters": {},
   "duration": 2248.712479,
   "end_time": "2023-03-06T10:56:48.574902",
   "environment_variables": {},
   "exception": null,
   "input_path": "01_evaluation_ds_preparation.ipynb",
   "output_path": "01_evaluation_ds_preparation.ipynb",
   "parameters": {},
   "start_time": "2023-03-06T10:19:19.862423",
   "version": "2.4.0"
  },
  "vscode": {
   "interpreter": {
    "hash": "eb8d1ded7c87c6f9c253b40add648304d6b51d2e38393955e855effc7e6f899a"
   }
  }
 },
 "nbformat": 4,
 "nbformat_minor": 5
}