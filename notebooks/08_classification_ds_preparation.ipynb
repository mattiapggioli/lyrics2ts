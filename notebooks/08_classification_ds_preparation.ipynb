{
 "cells": [
  {
   "cell_type": "markdown",
   "id": "a4683155",
   "metadata": {
    "papermill": {
     "duration": 0.026053,
     "end_time": "2023-03-06T19:27:58.582662",
     "exception": false,
     "start_time": "2023-03-06T19:27:58.556609",
     "status": "completed"
    },
    "tags": []
   },
   "source": [
    "# Classification Dataset Preparation"
   ]
  },
  {
   "cell_type": "code",
   "execution_count": 1,
   "id": "d0e2e95f",
   "metadata": {
    "execution": {
     "iopub.execute_input": "2023-03-06T19:27:58.621577Z",
     "iopub.status.busy": "2023-03-06T19:27:58.620969Z",
     "iopub.status.idle": "2023-03-06T19:28:00.102660Z",
     "shell.execute_reply": "2023-03-06T19:28:00.101871Z"
    },
    "papermill": {
     "duration": 1.496609,
     "end_time": "2023-03-06T19:28:00.105624",
     "exception": false,
     "start_time": "2023-03-06T19:27:58.609015",
     "status": "completed"
    },
    "tags": []
   },
   "outputs": [],
   "source": [
    "%matplotlib inline\n",
    "import pandas as pd\n",
    "import numpy as np\n",
    "import matplotlib.pyplot as plt\n",
    "import seaborn as sns\n",
    "import tqdm\n",
    "import random\n",
    "import os\n",
    "import ast\n",
    "import re\n",
    "from nltk.tokenize import sent_tokenize\n",
    "from sklearn.datasets import fetch_20newsgroups\n",
    "import contractions\n",
    "from gensim.utils import tokenize"
   ]
  },
  {
   "cell_type": "code",
   "execution_count": 2,
   "id": "7efbce4a",
   "metadata": {
    "execution": {
     "iopub.execute_input": "2023-03-06T19:28:00.168335Z",
     "iopub.status.busy": "2023-03-06T19:28:00.167914Z",
     "iopub.status.idle": "2023-03-06T19:28:00.171836Z",
     "shell.execute_reply": "2023-03-06T19:28:00.170915Z"
    },
    "papermill": {
     "duration": 0.039008,
     "end_time": "2023-03-06T19:28:00.174980",
     "exception": false,
     "start_time": "2023-03-06T19:28:00.135972",
     "status": "completed"
    },
    "tags": []
   },
   "outputs": [],
   "source": [
    "base_path = '../data/classification/'"
   ]
  },
  {
   "cell_type": "markdown",
   "id": "ae4b94ad",
   "metadata": {
    "papermill": {
     "duration": 0.010251,
     "end_time": "2023-03-06T19:28:00.209759",
     "exception": false,
     "start_time": "2023-03-06T19:28:00.199508",
     "status": "completed"
    },
    "tags": []
   },
   "source": [
    "## Lyrics Dataset"
   ]
  },
  {
   "cell_type": "code",
   "execution_count": 3,
   "id": "c1e06dfa",
   "metadata": {
    "execution": {
     "iopub.execute_input": "2023-03-06T19:28:00.232323Z",
     "iopub.status.busy": "2023-03-06T19:28:00.231859Z",
     "iopub.status.idle": "2023-03-06T19:28:00.887460Z",
     "shell.execute_reply": "2023-03-06T19:28:00.886551Z"
    },
    "papermill": {
     "duration": 0.669542,
     "end_time": "2023-03-06T19:28:00.889682",
     "exception": false,
     "start_time": "2023-03-06T19:28:00.220140",
     "status": "completed"
    },
    "tags": []
   },
   "outputs": [],
   "source": [
    "df = pd.read_csv('../data/lyrics.csv')"
   ]
  },
  {
   "cell_type": "code",
   "execution_count": 4,
   "id": "1122c337",
   "metadata": {
    "execution": {
     "iopub.execute_input": "2023-03-06T19:28:00.916124Z",
     "iopub.status.busy": "2023-03-06T19:28:00.915817Z",
     "iopub.status.idle": "2023-03-06T19:28:00.928051Z",
     "shell.execute_reply": "2023-03-06T19:28:00.926995Z"
    },
    "papermill": {
     "duration": 0.025873,
     "end_time": "2023-03-06T19:28:00.930040",
     "exception": false,
     "start_time": "2023-03-06T19:28:00.904167",
     "status": "completed"
    },
    "tags": []
   },
   "outputs": [
    {
     "data": {
      "text/html": [
       "<div>\n",
       "<style scoped>\n",
       "    .dataframe tbody tr th:only-of-type {\n",
       "        vertical-align: middle;\n",
       "    }\n",
       "\n",
       "    .dataframe tbody tr th {\n",
       "        vertical-align: top;\n",
       "    }\n",
       "\n",
       "    .dataframe thead th {\n",
       "        text-align: right;\n",
       "    }\n",
       "</style>\n",
       "<table border=\"1\" class=\"dataframe\">\n",
       "  <thead>\n",
       "    <tr style=\"text-align: right;\">\n",
       "      <th></th>\n",
       "      <th>lyrics</th>\n",
       "      <th>genre</th>\n",
       "      <th>id</th>\n",
       "    </tr>\n",
       "  </thead>\n",
       "  <tbody>\n",
       "    <tr>\n",
       "      <th>0</th>\n",
       "      <td>['So long', 'My sweet love', 'I miss you', \"Mo...</td>\n",
       "      <td>pop</td>\n",
       "      <td>0</td>\n",
       "    </tr>\n",
       "    <tr>\n",
       "      <th>1</th>\n",
       "      <td>[\"It won't be long before I'm leaving here\", \"...</td>\n",
       "      <td>pop</td>\n",
       "      <td>1</td>\n",
       "    </tr>\n",
       "    <tr>\n",
       "      <th>2</th>\n",
       "      <td>['Are we crazy?', 'Living our lives through a ...</td>\n",
       "      <td>pop</td>\n",
       "      <td>2</td>\n",
       "    </tr>\n",
       "    <tr>\n",
       "      <th>3</th>\n",
       "      <td>['When did it go wrong, I will never know', 'I...</td>\n",
       "      <td>pop</td>\n",
       "      <td>3</td>\n",
       "    </tr>\n",
       "    <tr>\n",
       "      <th>4</th>\n",
       "      <td>[\"I've waited all this time\", 'Counting minute...</td>\n",
       "      <td>pop</td>\n",
       "      <td>4</td>\n",
       "    </tr>\n",
       "  </tbody>\n",
       "</table>\n",
       "</div>"
      ],
      "text/plain": [
       "                                              lyrics genre  id\n",
       "0  ['So long', 'My sweet love', 'I miss you', \"Mo...   pop   0\n",
       "1  [\"It won't be long before I'm leaving here\", \"...   pop   1\n",
       "2  ['Are we crazy?', 'Living our lives through a ...   pop   2\n",
       "3  ['When did it go wrong, I will never know', 'I...   pop   3\n",
       "4  [\"I've waited all this time\", 'Counting minute...   pop   4"
      ]
     },
     "execution_count": 4,
     "metadata": {},
     "output_type": "execute_result"
    }
   ],
   "source": [
    "df.head()"
   ]
  },
  {
   "cell_type": "code",
   "execution_count": 5,
   "id": "a87a3cf0",
   "metadata": {
    "execution": {
     "iopub.execute_input": "2023-03-06T19:28:00.953311Z",
     "iopub.status.busy": "2023-03-06T19:28:00.952994Z",
     "iopub.status.idle": "2023-03-06T19:28:00.983757Z",
     "shell.execute_reply": "2023-03-06T19:28:00.982496Z"
    },
    "papermill": {
     "duration": 0.045919,
     "end_time": "2023-03-06T19:28:00.987280",
     "exception": false,
     "start_time": "2023-03-06T19:28:00.941361",
     "status": "completed"
    },
    "tags": []
   },
   "outputs": [
    {
     "name": "stdout",
     "output_type": "stream",
     "text": [
      "<class 'pandas.core.frame.DataFrame'>\n",
      "RangeIndex: 36000 entries, 0 to 35999\n",
      "Data columns (total 3 columns):\n",
      " #   Column  Non-Null Count  Dtype \n",
      "---  ------  --------------  ----- \n",
      " 0   lyrics  36000 non-null  object\n",
      " 1   genre   36000 non-null  object\n",
      " 2   id      36000 non-null  int64 \n",
      "dtypes: int64(1), object(2)\n",
      "memory usage: 843.9+ KB\n"
     ]
    }
   ],
   "source": [
    "df.info()"
   ]
  },
  {
   "cell_type": "code",
   "execution_count": 6,
   "id": "0d7c1824",
   "metadata": {
    "execution": {
     "iopub.execute_input": "2023-03-06T19:28:01.046545Z",
     "iopub.status.busy": "2023-03-06T19:28:01.046078Z",
     "iopub.status.idle": "2023-03-06T19:28:01.066505Z",
     "shell.execute_reply": "2023-03-06T19:28:01.064982Z"
    },
    "papermill": {
     "duration": 0.051099,
     "end_time": "2023-03-06T19:28:01.068699",
     "exception": false,
     "start_time": "2023-03-06T19:28:01.017600",
     "status": "completed"
    },
    "tags": []
   },
   "outputs": [
    {
     "data": {
      "text/html": [
       "<div>\n",
       "<style scoped>\n",
       "    .dataframe tbody tr th:only-of-type {\n",
       "        vertical-align: middle;\n",
       "    }\n",
       "\n",
       "    .dataframe tbody tr th {\n",
       "        vertical-align: top;\n",
       "    }\n",
       "\n",
       "    .dataframe thead th {\n",
       "        text-align: right;\n",
       "    }\n",
       "</style>\n",
       "<table border=\"1\" class=\"dataframe\">\n",
       "  <thead>\n",
       "    <tr style=\"text-align: right;\">\n",
       "      <th></th>\n",
       "      <th>lyrics</th>\n",
       "      <th>genre</th>\n",
       "    </tr>\n",
       "  </thead>\n",
       "  <tbody>\n",
       "    <tr>\n",
       "      <th>0</th>\n",
       "      <td>['So long', 'My sweet love', 'I miss you', \"Mo...</td>\n",
       "      <td>pop</td>\n",
       "    </tr>\n",
       "    <tr>\n",
       "      <th>1</th>\n",
       "      <td>[\"It won't be long before I'm leaving here\", \"...</td>\n",
       "      <td>pop</td>\n",
       "    </tr>\n",
       "    <tr>\n",
       "      <th>2</th>\n",
       "      <td>['Are we crazy?', 'Living our lives through a ...</td>\n",
       "      <td>pop</td>\n",
       "    </tr>\n",
       "    <tr>\n",
       "      <th>3</th>\n",
       "      <td>['When did it go wrong, I will never know', 'I...</td>\n",
       "      <td>pop</td>\n",
       "    </tr>\n",
       "    <tr>\n",
       "      <th>4</th>\n",
       "      <td>[\"I've waited all this time\", 'Counting minute...</td>\n",
       "      <td>pop</td>\n",
       "    </tr>\n",
       "    <tr>\n",
       "      <th>...</th>\n",
       "      <td>...</td>\n",
       "      <td>...</td>\n",
       "    </tr>\n",
       "    <tr>\n",
       "      <th>35995</th>\n",
       "      <td>['Father can you hear me?', 'How have I let yo...</td>\n",
       "      <td>rock</td>\n",
       "    </tr>\n",
       "    <tr>\n",
       "      <th>35996</th>\n",
       "      <td>['In the Kingdom of Spain', 'There are such co...</td>\n",
       "      <td>rock</td>\n",
       "    </tr>\n",
       "    <tr>\n",
       "      <th>35997</th>\n",
       "      <td>['Stagger Lee, can you Do The Locomotion', \"Lu...</td>\n",
       "      <td>rock</td>\n",
       "    </tr>\n",
       "    <tr>\n",
       "      <th>35998</th>\n",
       "      <td>[\"Look out, Mama, there's a white boat comin' ...</td>\n",
       "      <td>rock</td>\n",
       "    </tr>\n",
       "    <tr>\n",
       "      <th>35999</th>\n",
       "      <td>['The story behind the painting I drew is alre...</td>\n",
       "      <td>rock</td>\n",
       "    </tr>\n",
       "  </tbody>\n",
       "</table>\n",
       "<p>36000 rows × 2 columns</p>\n",
       "</div>"
      ],
      "text/plain": [
       "                                                  lyrics genre\n",
       "0      ['So long', 'My sweet love', 'I miss you', \"Mo...   pop\n",
       "1      [\"It won't be long before I'm leaving here\", \"...   pop\n",
       "2      ['Are we crazy?', 'Living our lives through a ...   pop\n",
       "3      ['When did it go wrong, I will never know', 'I...   pop\n",
       "4      [\"I've waited all this time\", 'Counting minute...   pop\n",
       "...                                                  ...   ...\n",
       "35995  ['Father can you hear me?', 'How have I let yo...  rock\n",
       "35996  ['In the Kingdom of Spain', 'There are such co...  rock\n",
       "35997  ['Stagger Lee, can you Do The Locomotion', \"Lu...  rock\n",
       "35998  [\"Look out, Mama, there's a white boat comin' ...  rock\n",
       "35999  ['The story behind the painting I drew is alre...  rock\n",
       "\n",
       "[36000 rows x 2 columns]"
      ]
     },
     "execution_count": 6,
     "metadata": {},
     "output_type": "execute_result"
    }
   ],
   "source": [
    "df.drop(columns=['id'])"
   ]
  },
  {
   "cell_type": "code",
   "execution_count": 7,
   "id": "4a801310",
   "metadata": {
    "execution": {
     "iopub.execute_input": "2023-03-06T19:28:01.095305Z",
     "iopub.status.busy": "2023-03-06T19:28:01.094263Z",
     "iopub.status.idle": "2023-03-06T19:28:01.103646Z",
     "shell.execute_reply": "2023-03-06T19:28:01.102711Z"
    },
    "papermill": {
     "duration": 0.024622,
     "end_time": "2023-03-06T19:28:01.106307",
     "exception": false,
     "start_time": "2023-03-06T19:28:01.081685",
     "status": "completed"
    },
    "tags": []
   },
   "outputs": [],
   "source": [
    "df = df.rename(columns={'lyrics':'text','genre':'class'})"
   ]
  },
  {
   "cell_type": "code",
   "execution_count": 8,
   "id": "ec4b07bb",
   "metadata": {
    "execution": {
     "iopub.execute_input": "2023-03-06T19:28:01.131452Z",
     "iopub.status.busy": "2023-03-06T19:28:01.130743Z",
     "iopub.status.idle": "2023-03-06T19:28:04.338903Z",
     "shell.execute_reply": "2023-03-06T19:28:04.337949Z"
    },
    "papermill": {
     "duration": 3.223679,
     "end_time": "2023-03-06T19:28:04.342291",
     "exception": false,
     "start_time": "2023-03-06T19:28:01.118612",
     "status": "completed"
    },
    "tags": []
   },
   "outputs": [],
   "source": [
    "df['text'] = df['text'].apply(lambda x: ast.literal_eval(x))"
   ]
  },
  {
   "cell_type": "code",
   "execution_count": 9,
   "id": "1ecb376b",
   "metadata": {
    "execution": {
     "iopub.execute_input": "2023-03-06T19:28:04.367715Z",
     "iopub.status.busy": "2023-03-06T19:28:04.367403Z",
     "iopub.status.idle": "2023-03-06T19:28:04.377839Z",
     "shell.execute_reply": "2023-03-06T19:28:04.376430Z"
    },
    "papermill": {
     "duration": 0.024039,
     "end_time": "2023-03-06T19:28:04.379809",
     "exception": false,
     "start_time": "2023-03-06T19:28:04.355770",
     "status": "completed"
    },
    "tags": []
   },
   "outputs": [
    {
     "data": {
      "text/plain": [
       "pop     12000\n",
       "rap     12000\n",
       "rock    12000\n",
       "Name: class, dtype: int64"
      ]
     },
     "execution_count": 9,
     "metadata": {},
     "output_type": "execute_result"
    }
   ],
   "source": [
    "df['class'].value_counts()"
   ]
  },
  {
   "cell_type": "code",
   "execution_count": 10,
   "id": "bcec4d77",
   "metadata": {
    "execution": {
     "iopub.execute_input": "2023-03-06T19:28:04.404100Z",
     "iopub.status.busy": "2023-03-06T19:28:04.403221Z",
     "iopub.status.idle": "2023-03-06T19:28:07.637772Z",
     "shell.execute_reply": "2023-03-06T19:28:07.636686Z"
    },
    "papermill": {
     "duration": 3.248779,
     "end_time": "2023-03-06T19:28:07.639873",
     "exception": false,
     "start_time": "2023-03-06T19:28:04.391094",
     "status": "completed"
    },
    "tags": []
   },
   "outputs": [],
   "source": [
    "combinations = [['pop', 'rap', 'rock'], ['pop','rock'], ['rap','rock']]\n",
    "\n",
    "for combination in combinations:\n",
    "    # Create id for the configuration        \n",
    "    ds_id = '-'.join(sorted([re.sub(r'[aeiou]','',c)[:2] for c in combination]))\n",
    "    \n",
    "    # Create directory\n",
    "    data_ds_path = base_path + ds_id\n",
    "\n",
    "    os.makedirs(data_ds_path, exist_ok=True)\n",
    "    \n",
    "    df_sample = df[df['class'].isin(combination)].reset_index(drop=True)\n",
    "    df_sample.to_csv(f'{data_ds_path}/data.csv', index=False)"
   ]
  },
  {
   "cell_type": "markdown",
   "id": "decc067a",
   "metadata": {
    "papermill": {
     "duration": 0.02782,
     "end_time": "2023-03-06T19:28:07.699180",
     "exception": false,
     "start_time": "2023-03-06T19:28:07.671360",
     "status": "completed"
    },
    "tags": []
   },
   "source": [
    "## Rock Lyrics Dataset"
   ]
  },
  {
   "cell_type": "code",
   "execution_count": 11,
   "id": "176bfcad",
   "metadata": {
    "execution": {
     "iopub.execute_input": "2023-03-06T19:28:07.736010Z",
     "iopub.status.busy": "2023-03-06T19:28:07.735531Z",
     "iopub.status.idle": "2023-03-06T19:28:10.359866Z",
     "shell.execute_reply": "2023-03-06T19:28:10.358965Z"
    },
    "papermill": {
     "duration": 2.639489,
     "end_time": "2023-03-06T19:28:10.362859",
     "exception": false,
     "start_time": "2023-03-06T19:28:07.723370",
     "status": "completed"
    },
    "tags": []
   },
   "outputs": [],
   "source": [
    "df = pd.read_csv('../data/raw-data/lyrics_raw.csv')"
   ]
  },
  {
   "cell_type": "code",
   "execution_count": 12,
   "id": "87170aac",
   "metadata": {
    "execution": {
     "iopub.execute_input": "2023-03-06T19:28:10.399730Z",
     "iopub.status.busy": "2023-03-06T19:28:10.399416Z",
     "iopub.status.idle": "2023-03-06T19:28:10.415597Z",
     "shell.execute_reply": "2023-03-06T19:28:10.414431Z"
    },
    "papermill": {
     "duration": 0.03005,
     "end_time": "2023-03-06T19:28:10.417664",
     "exception": false,
     "start_time": "2023-03-06T19:28:10.387614",
     "status": "completed"
    },
    "tags": []
   },
   "outputs": [
    {
     "data": {
      "text/html": [
       "<div>\n",
       "<style scoped>\n",
       "    .dataframe tbody tr th:only-of-type {\n",
       "        vertical-align: middle;\n",
       "    }\n",
       "\n",
       "    .dataframe tbody tr th {\n",
       "        vertical-align: top;\n",
       "    }\n",
       "\n",
       "    .dataframe thead th {\n",
       "        text-align: right;\n",
       "    }\n",
       "</style>\n",
       "<table border=\"1\" class=\"dataframe\">\n",
       "  <thead>\n",
       "    <tr style=\"text-align: right;\">\n",
       "      <th></th>\n",
       "      <th>lyrics</th>\n",
       "      <th>Axé</th>\n",
       "      <th>Black Music</th>\n",
       "      <th>Blues</th>\n",
       "      <th>Bossa Nova</th>\n",
       "      <th>COLETÂNEA</th>\n",
       "      <th>Chillout</th>\n",
       "      <th>Classic Rock</th>\n",
       "      <th>Clássico</th>\n",
       "      <th>Country</th>\n",
       "      <th>...</th>\n",
       "      <th>Soul Music</th>\n",
       "      <th>Surf Music</th>\n",
       "      <th>Tecnopop</th>\n",
       "      <th>Trance</th>\n",
       "      <th>Trap</th>\n",
       "      <th>Trilha Sonora</th>\n",
       "      <th>Trip-Hop</th>\n",
       "      <th>Tropical House</th>\n",
       "      <th>Velha Guarda</th>\n",
       "      <th>World Music</th>\n",
       "    </tr>\n",
       "  </thead>\n",
       "  <tbody>\n",
       "    <tr>\n",
       "      <th>0</th>\n",
       "      <td>I feel so unsure\\nAs I take your hand and lead...</td>\n",
       "      <td>1</td>\n",
       "      <td>0</td>\n",
       "      <td>0</td>\n",
       "      <td>0</td>\n",
       "      <td>0</td>\n",
       "      <td>0</td>\n",
       "      <td>0</td>\n",
       "      <td>0</td>\n",
       "      <td>0</td>\n",
       "      <td>...</td>\n",
       "      <td>0</td>\n",
       "      <td>0</td>\n",
       "      <td>0</td>\n",
       "      <td>0</td>\n",
       "      <td>0</td>\n",
       "      <td>0</td>\n",
       "      <td>0</td>\n",
       "      <td>0</td>\n",
       "      <td>0</td>\n",
       "      <td>0</td>\n",
       "    </tr>\n",
       "    <tr>\n",
       "      <th>1</th>\n",
       "      <td>Don't let them fool, ya\\nOr even try to school...</td>\n",
       "      <td>1</td>\n",
       "      <td>0</td>\n",
       "      <td>0</td>\n",
       "      <td>0</td>\n",
       "      <td>0</td>\n",
       "      <td>0</td>\n",
       "      <td>0</td>\n",
       "      <td>0</td>\n",
       "      <td>0</td>\n",
       "      <td>...</td>\n",
       "      <td>0</td>\n",
       "      <td>0</td>\n",
       "      <td>0</td>\n",
       "      <td>0</td>\n",
       "      <td>0</td>\n",
       "      <td>0</td>\n",
       "      <td>0</td>\n",
       "      <td>0</td>\n",
       "      <td>0</td>\n",
       "      <td>0</td>\n",
       "    </tr>\n",
       "    <tr>\n",
       "      <th>2</th>\n",
       "      <td>Baby, let's cruise, away from here\\nDon't be c...</td>\n",
       "      <td>1</td>\n",
       "      <td>0</td>\n",
       "      <td>0</td>\n",
       "      <td>0</td>\n",
       "      <td>0</td>\n",
       "      <td>0</td>\n",
       "      <td>0</td>\n",
       "      <td>0</td>\n",
       "      <td>0</td>\n",
       "      <td>...</td>\n",
       "      <td>0</td>\n",
       "      <td>0</td>\n",
       "      <td>0</td>\n",
       "      <td>0</td>\n",
       "      <td>0</td>\n",
       "      <td>0</td>\n",
       "      <td>0</td>\n",
       "      <td>0</td>\n",
       "      <td>0</td>\n",
       "      <td>0</td>\n",
       "    </tr>\n",
       "    <tr>\n",
       "      <th>3</th>\n",
       "      <td>Know it sounds funny\\nBut, I just can't stand ...</td>\n",
       "      <td>1</td>\n",
       "      <td>0</td>\n",
       "      <td>0</td>\n",
       "      <td>0</td>\n",
       "      <td>0</td>\n",
       "      <td>0</td>\n",
       "      <td>0</td>\n",
       "      <td>0</td>\n",
       "      <td>0</td>\n",
       "      <td>...</td>\n",
       "      <td>0</td>\n",
       "      <td>0</td>\n",
       "      <td>0</td>\n",
       "      <td>0</td>\n",
       "      <td>0</td>\n",
       "      <td>0</td>\n",
       "      <td>0</td>\n",
       "      <td>0</td>\n",
       "      <td>0</td>\n",
       "      <td>0</td>\n",
       "    </tr>\n",
       "    <tr>\n",
       "      <th>4</th>\n",
       "      <td>You've got that look again\\nThe one I hoped I ...</td>\n",
       "      <td>1</td>\n",
       "      <td>0</td>\n",
       "      <td>0</td>\n",
       "      <td>0</td>\n",
       "      <td>0</td>\n",
       "      <td>0</td>\n",
       "      <td>0</td>\n",
       "      <td>0</td>\n",
       "      <td>0</td>\n",
       "      <td>...</td>\n",
       "      <td>0</td>\n",
       "      <td>0</td>\n",
       "      <td>0</td>\n",
       "      <td>0</td>\n",
       "      <td>0</td>\n",
       "      <td>0</td>\n",
       "      <td>0</td>\n",
       "      <td>0</td>\n",
       "      <td>0</td>\n",
       "      <td>0</td>\n",
       "    </tr>\n",
       "  </tbody>\n",
       "</table>\n",
       "<p>5 rows × 76 columns</p>\n",
       "</div>"
      ],
      "text/plain": [
       "                                              lyrics  Axé  Black Music  Blues  \\\n",
       "0  I feel so unsure\\nAs I take your hand and lead...    1            0      0   \n",
       "1  Don't let them fool, ya\\nOr even try to school...    1            0      0   \n",
       "2  Baby, let's cruise, away from here\\nDon't be c...    1            0      0   \n",
       "3  Know it sounds funny\\nBut, I just can't stand ...    1            0      0   \n",
       "4  You've got that look again\\nThe one I hoped I ...    1            0      0   \n",
       "\n",
       "   Bossa Nova  COLETÂNEA  Chillout  Classic Rock  Clássico  Country  ...  \\\n",
       "0           0          0         0             0         0        0  ...   \n",
       "1           0          0         0             0         0        0  ...   \n",
       "2           0          0         0             0         0        0  ...   \n",
       "3           0          0         0             0         0        0  ...   \n",
       "4           0          0         0             0         0        0  ...   \n",
       "\n",
       "   Soul Music  Surf Music  Tecnopop  Trance  Trap  Trilha Sonora  Trip-Hop  \\\n",
       "0           0           0         0       0     0              0         0   \n",
       "1           0           0         0       0     0              0         0   \n",
       "2           0           0         0       0     0              0         0   \n",
       "3           0           0         0       0     0              0         0   \n",
       "4           0           0         0       0     0              0         0   \n",
       "\n",
       "   Tropical House  Velha Guarda  World Music  \n",
       "0               0             0            0  \n",
       "1               0             0            0  \n",
       "2               0             0            0  \n",
       "3               0             0            0  \n",
       "4               0             0            0  \n",
       "\n",
       "[5 rows x 76 columns]"
      ]
     },
     "execution_count": 12,
     "metadata": {},
     "output_type": "execute_result"
    }
   ],
   "source": [
    "df.head()"
   ]
  },
  {
   "cell_type": "code",
   "execution_count": 13,
   "id": "3f81c3db",
   "metadata": {
    "execution": {
     "iopub.execute_input": "2023-03-06T19:28:10.443772Z",
     "iopub.status.busy": "2023-03-06T19:28:10.443039Z",
     "iopub.status.idle": "2023-03-06T19:28:10.467386Z",
     "shell.execute_reply": "2023-03-06T19:28:10.465987Z"
    },
    "papermill": {
     "duration": 0.040089,
     "end_time": "2023-03-06T19:28:10.470689",
     "exception": false,
     "start_time": "2023-03-06T19:28:10.430600",
     "status": "completed"
    },
    "tags": []
   },
   "outputs": [
    {
     "data": {
      "text/plain": [
       "Rock                63717\n",
       "Pop                 33571\n",
       "Pop/Rock            26360\n",
       "Heavy Metal         21759\n",
       "Hip Hop             20902\n",
       "Indie               20134\n",
       "Romântico           17947\n",
       "Hard Rock           17250\n",
       "Rap                 17114\n",
       "R&B                 15581\n",
       "Rock Alternativo    13061\n",
       "Black Music         13024\n",
       "Dance               11895\n",
       "Folk                11124\n",
       "Country             10630\n",
       "Punk Rock            9215\n",
       "Soul Music           8131\n",
       "Electronica          7799\n",
       "Gospel/Religioso     7337\n",
       "Hardcore             7082\n",
       "Trilha Sonora        6213\n",
       "Blues                6094\n",
       "Gótico               4984\n",
       "Soft Rock            4483\n",
       "Progressivo          4365\n",
       "Jazz                 4343\n",
       "Tecnopop             3873\n",
       "Pós-Punk             3274\n",
       "Reggae               3207\n",
       "Rockabilly           3100\n",
       "dtype: int64"
      ]
     },
     "execution_count": 13,
     "metadata": {},
     "output_type": "execute_result"
    }
   ],
   "source": [
    "df.sum(numeric_only=True).sort_values(ascending=False)[:30]"
   ]
  },
  {
   "cell_type": "code",
   "execution_count": 14,
   "id": "594fe52c",
   "metadata": {
    "execution": {
     "iopub.execute_input": "2023-03-06T19:28:10.504881Z",
     "iopub.status.busy": "2023-03-06T19:28:10.504130Z",
     "iopub.status.idle": "2023-03-06T19:28:10.510302Z",
     "shell.execute_reply": "2023-03-06T19:28:10.509051Z"
    },
    "papermill": {
     "duration": 0.020307,
     "end_time": "2023-03-06T19:28:10.511971",
     "exception": false,
     "start_time": "2023-03-06T19:28:10.491664",
     "status": "completed"
    },
    "tags": []
   },
   "outputs": [],
   "source": [
    "genres = ['Pop/Rock','Heavy Metal', 'Hard Rock', 'Rock Alternativo', 'Punk Rock', 'Indie']\n",
    "lyrics = df['lyrics']"
   ]
  },
  {
   "cell_type": "code",
   "execution_count": 15,
   "id": "4c8f06e8",
   "metadata": {
    "execution": {
     "iopub.execute_input": "2023-03-06T19:28:10.536554Z",
     "iopub.status.busy": "2023-03-06T19:28:10.535545Z",
     "iopub.status.idle": "2023-03-06T19:28:10.547878Z",
     "shell.execute_reply": "2023-03-06T19:28:10.546421Z"
    },
    "papermill": {
     "duration": 0.026862,
     "end_time": "2023-03-06T19:28:10.549992",
     "exception": false,
     "start_time": "2023-03-06T19:28:10.523130",
     "status": "completed"
    },
    "tags": []
   },
   "outputs": [],
   "source": [
    "df = df[genres]"
   ]
  },
  {
   "cell_type": "code",
   "execution_count": 16,
   "id": "459af8cf",
   "metadata": {
    "execution": {
     "iopub.execute_input": "2023-03-06T19:28:10.592984Z",
     "iopub.status.busy": "2023-03-06T19:28:10.592095Z",
     "iopub.status.idle": "2023-03-06T19:28:10.610840Z",
     "shell.execute_reply": "2023-03-06T19:28:10.609382Z"
    },
    "papermill": {
     "duration": 0.042601,
     "end_time": "2023-03-06T19:28:10.612928",
     "exception": false,
     "start_time": "2023-03-06T19:28:10.570327",
     "status": "completed"
    },
    "tags": []
   },
   "outputs": [
    {
     "data": {
      "text/plain": [
       "Pop/Rock            22605\n",
       "Indie               13378\n",
       "Heavy Metal         12296\n",
       "Punk Rock            7248\n",
       "Hard Rock            6335\n",
       "Rock Alternativo     4783\n",
       "dtype: int64"
      ]
     },
     "execution_count": 16,
     "metadata": {},
     "output_type": "execute_result"
    }
   ],
   "source": [
    "df[df.sum(axis=1)==1].sum().sort_values(ascending=False)[:20]"
   ]
  },
  {
   "cell_type": "code",
   "execution_count": 17,
   "id": "ead6dcd9",
   "metadata": {
    "execution": {
     "iopub.execute_input": "2023-03-06T19:28:10.639791Z",
     "iopub.status.busy": "2023-03-06T19:28:10.639068Z",
     "iopub.status.idle": "2023-03-06T19:28:10.663283Z",
     "shell.execute_reply": "2023-03-06T19:28:10.661933Z"
    },
    "papermill": {
     "duration": 0.039004,
     "end_time": "2023-03-06T19:28:10.665507",
     "exception": false,
     "start_time": "2023-03-06T19:28:10.626503",
     "status": "completed"
    },
    "tags": []
   },
   "outputs": [
    {
     "data": {
      "text/plain": [
       "Pop/Rock       24087\n",
       "Indie          18091\n",
       "Heavy Metal    12488\n",
       "Punk Rock       8170\n",
       "Hard Rock       7123\n",
       "dtype: int64"
      ]
     },
     "execution_count": 17,
     "metadata": {},
     "output_type": "execute_result"
    }
   ],
   "source": [
    "df = df.drop(columns=['Rock Alternativo'])\n",
    "\n",
    "df[df.sum(axis=1)==1].sum().sort_values(ascending=False)[:20]"
   ]
  },
  {
   "cell_type": "code",
   "execution_count": 18,
   "id": "1b4889ae",
   "metadata": {
    "execution": {
     "iopub.execute_input": "2023-03-06T19:28:10.692637Z",
     "iopub.status.busy": "2023-03-06T19:28:10.691809Z",
     "iopub.status.idle": "2023-03-06T19:28:10.696907Z",
     "shell.execute_reply": "2023-03-06T19:28:10.695811Z"
    },
    "papermill": {
     "duration": 0.01944,
     "end_time": "2023-03-06T19:28:10.698613",
     "exception": false,
     "start_time": "2023-03-06T19:28:10.679173",
     "status": "completed"
    },
    "tags": []
   },
   "outputs": [],
   "source": [
    "genres = df.columns"
   ]
  },
  {
   "cell_type": "code",
   "execution_count": 19,
   "id": "8b0c6200",
   "metadata": {
    "execution": {
     "iopub.execute_input": "2023-03-06T19:28:10.722928Z",
     "iopub.status.busy": "2023-03-06T19:28:10.722347Z",
     "iopub.status.idle": "2023-03-06T19:28:10.745029Z",
     "shell.execute_reply": "2023-03-06T19:28:10.743747Z"
    },
    "papermill": {
     "duration": 0.037409,
     "end_time": "2023-03-06T19:28:10.747261",
     "exception": false,
     "start_time": "2023-03-06T19:28:10.709852",
     "status": "completed"
    },
    "tags": []
   },
   "outputs": [],
   "source": [
    "df = pd.concat([df, lyrics], axis=1)"
   ]
  },
  {
   "cell_type": "code",
   "execution_count": 20,
   "id": "ef086287",
   "metadata": {
    "execution": {
     "iopub.execute_input": "2023-03-06T19:28:10.774563Z",
     "iopub.status.busy": "2023-03-06T19:28:10.773775Z",
     "iopub.status.idle": "2023-03-06T19:28:10.817972Z",
     "shell.execute_reply": "2023-03-06T19:28:10.816700Z"
    },
    "papermill": {
     "duration": 0.058912,
     "end_time": "2023-03-06T19:28:10.820095",
     "exception": false,
     "start_time": "2023-03-06T19:28:10.761183",
     "status": "completed"
    },
    "tags": []
   },
   "outputs": [],
   "source": [
    "df = df.drop(df[df[genres].sum(axis=1)==0].index)"
   ]
  },
  {
   "cell_type": "code",
   "execution_count": 21,
   "id": "f0097f17",
   "metadata": {
    "execution": {
     "iopub.execute_input": "2023-03-06T19:28:10.847272Z",
     "iopub.status.busy": "2023-03-06T19:28:10.846374Z",
     "iopub.status.idle": "2023-03-06T19:28:10.855450Z",
     "shell.execute_reply": "2023-03-06T19:28:10.854358Z"
    },
    "papermill": {
     "duration": 0.023462,
     "end_time": "2023-03-06T19:28:10.857320",
     "exception": false,
     "start_time": "2023-03-06T19:28:10.833858",
     "status": "completed"
    },
    "tags": []
   },
   "outputs": [],
   "source": [
    "df = df.reset_index(drop=True)"
   ]
  },
  {
   "cell_type": "code",
   "execution_count": 22,
   "id": "514221f4",
   "metadata": {
    "execution": {
     "iopub.execute_input": "2023-03-06T19:28:10.882389Z",
     "iopub.status.busy": "2023-03-06T19:28:10.881800Z",
     "iopub.status.idle": "2023-03-06T19:28:11.362964Z",
     "shell.execute_reply": "2023-03-06T19:28:11.362044Z"
    },
    "papermill": {
     "duration": 0.496492,
     "end_time": "2023-03-06T19:28:11.365741",
     "exception": false,
     "start_time": "2023-03-06T19:28:10.869249",
     "status": "completed"
    },
    "tags": []
   },
   "outputs": [
    {
     "name": "stdout",
     "output_type": "stream",
     "text": [
      "Duplicates with the same genre: 347\n",
      "Duplicates with different genres: 125\n"
     ]
    }
   ],
   "source": [
    "# Duplicates are songs with multiple artists (e.g. a featuring)\n",
    "# Remove duplicates having the same genre\n",
    "print(f'Duplicates with the same genre: {df.duplicated().sum()}')\n",
    "df = df.drop_duplicates()\n",
    "# Remove lyrics with different genres among duplicates:\n",
    "print(f'Duplicates with different genres: {df.duplicated(subset=\"lyrics\").sum()}')\n",
    "df = df.drop_duplicates(subset=\"lyrics\", keep=False)"
   ]
  },
  {
   "cell_type": "code",
   "execution_count": 23,
   "id": "de36f8fa",
   "metadata": {
    "execution": {
     "iopub.execute_input": "2023-03-06T19:28:11.416994Z",
     "iopub.status.busy": "2023-03-06T19:28:11.416676Z",
     "iopub.status.idle": "2023-03-06T19:28:11.422896Z",
     "shell.execute_reply": "2023-03-06T19:28:11.421971Z"
    },
    "papermill": {
     "duration": 0.027755,
     "end_time": "2023-03-06T19:28:11.425972",
     "exception": false,
     "start_time": "2023-03-06T19:28:11.398217",
     "status": "completed"
    },
    "tags": []
   },
   "outputs": [],
   "source": [
    "def clean_text(lyrics):\n",
    "    lyrics = re.sub(r'\\((.+?)?\\)', '', lyrics)\n",
    "    lyrics = re.sub(r'\\[(.+?)?\\]', '', lyrics)\n",
    "    lyrics = re.sub(r'\\{(.+?)?\\}', '', lyrics)\n",
    "    lyrics = re.sub(r'\\n+', '\\n', lyrics)\n",
    "    lyrics = re.sub(r'^[^a-zA-Z]+$', '', lyrics, flags=re.MULTILINE)\n",
    "    return lyrics"
   ]
  },
  {
   "cell_type": "code",
   "execution_count": 24,
   "id": "0de1b9f8",
   "metadata": {
    "execution": {
     "iopub.execute_input": "2023-03-06T19:28:11.470151Z",
     "iopub.status.busy": "2023-03-06T19:28:11.469489Z",
     "iopub.status.idle": "2023-03-06T19:28:14.323942Z",
     "shell.execute_reply": "2023-03-06T19:28:14.322999Z"
    },
    "papermill": {
     "duration": 2.871552,
     "end_time": "2023-03-06T19:28:14.327103",
     "exception": false,
     "start_time": "2023-03-06T19:28:11.455551",
     "status": "completed"
    },
    "tags": []
   },
   "outputs": [],
   "source": [
    "df['lyrics'] = df['lyrics'].apply(clean_text)"
   ]
  },
  {
   "cell_type": "code",
   "execution_count": 25,
   "id": "1a76fe68",
   "metadata": {
    "execution": {
     "iopub.execute_input": "2023-03-06T19:28:14.385653Z",
     "iopub.status.busy": "2023-03-06T19:28:14.384827Z",
     "iopub.status.idle": "2023-03-06T19:28:15.050074Z",
     "shell.execute_reply": "2023-03-06T19:28:15.049151Z"
    },
    "papermill": {
     "duration": 0.692427,
     "end_time": "2023-03-06T19:28:15.053102",
     "exception": false,
     "start_time": "2023-03-06T19:28:14.360675",
     "status": "completed"
    },
    "tags": []
   },
   "outputs": [],
   "source": [
    "# Split lyrics in verses consider \\n as sep, filter empty element in list (it's the result of '\\n\\n' or spaces)\n",
    "df['lyrics'] = df['lyrics'].apply(\n",
    "    lambda x: [verse for verse in x.split('\\n') if verse.strip()])"
   ]
  },
  {
   "cell_type": "code",
   "execution_count": 26,
   "id": "9bb15b96",
   "metadata": {
    "execution": {
     "iopub.execute_input": "2023-03-06T19:28:15.098958Z",
     "iopub.status.busy": "2023-03-06T19:28:15.098646Z",
     "iopub.status.idle": "2023-03-06T19:28:15.156802Z",
     "shell.execute_reply": "2023-03-06T19:28:15.155445Z"
    },
    "papermill": {
     "duration": 0.073418,
     "end_time": "2023-03-06T19:28:15.158951",
     "exception": false,
     "start_time": "2023-03-06T19:28:15.085533",
     "status": "completed"
    },
    "tags": []
   },
   "outputs": [],
   "source": [
    "# Count number of verses\n",
    "df['verses'] = df['lyrics'].apply(len)"
   ]
  },
  {
   "cell_type": "code",
   "execution_count": 27,
   "id": "3eb1bcd7",
   "metadata": {
    "execution": {
     "iopub.execute_input": "2023-03-06T19:28:15.186910Z",
     "iopub.status.busy": "2023-03-06T19:28:15.185855Z",
     "iopub.status.idle": "2023-03-06T19:28:15.459921Z",
     "shell.execute_reply": "2023-03-06T19:28:15.459161Z"
    },
    "papermill": {
     "duration": 0.28975,
     "end_time": "2023-03-06T19:28:15.462499",
     "exception": false,
     "start_time": "2023-03-06T19:28:15.172749",
     "status": "completed"
    },
    "tags": []
   },
   "outputs": [
    {
     "data": {
      "text/plain": [
       "<AxesSubplot:xlabel='verses', ylabel='Count'>"
      ]
     },
     "execution_count": 27,
     "metadata": {},
     "output_type": "execute_result"
    },
    {
     "data": {
      "image/png": "[encoded data removed]",
      "text/plain": [
       "<Figure size 640x480 with 1 Axes>"
      ]
     },
     "metadata": {},
     "output_type": "display_data"
    }
   ],
   "source": [
    "sns.histplot(df['verses'], binrange=(0,100), bins=50)"
   ]
  },
  {
   "cell_type": "code",
   "execution_count": 28,
   "id": "6099db58",
   "metadata": {
    "execution": {
     "iopub.execute_input": "2023-03-06T19:28:15.528036Z",
     "iopub.status.busy": "2023-03-06T19:28:15.527738Z",
     "iopub.status.idle": "2023-03-06T19:28:15.567013Z",
     "shell.execute_reply": "2023-03-06T19:28:15.566257Z"
    },
    "papermill": {
     "duration": 0.073204,
     "end_time": "2023-03-06T19:28:15.569422",
     "exception": false,
     "start_time": "2023-03-06T19:28:15.496218",
     "status": "completed"
    },
    "tags": []
   },
   "outputs": [],
   "source": [
    "# Drop the outlier rows from the DataFrame\n",
    "df = df.drop(df[df['verses'] > 100].index)\n",
    "df = df.drop(df[df['verses'] < 20].index)"
   ]
  },
  {
   "cell_type": "code",
   "execution_count": 29,
   "id": "0f2cb01c",
   "metadata": {
    "execution": {
     "iopub.execute_input": "2023-03-06T19:28:15.606768Z",
     "iopub.status.busy": "2023-03-06T19:28:15.606454Z",
     "iopub.status.idle": "2023-03-06T19:28:15.665021Z",
     "shell.execute_reply": "2023-03-06T19:28:15.663807Z"
    },
    "papermill": {
     "duration": 0.073986,
     "end_time": "2023-03-06T19:28:15.667639",
     "exception": false,
     "start_time": "2023-03-06T19:28:15.593653",
     "status": "completed"
    },
    "tags": []
   },
   "outputs": [],
   "source": [
    "category_col = df[genres].idxmax(axis=1)\n",
    "df['genre'] = category_col"
   ]
  },
  {
   "cell_type": "code",
   "execution_count": 30,
   "id": "220b28f2",
   "metadata": {
    "execution": {
     "iopub.execute_input": "2023-03-06T19:28:15.700561Z",
     "iopub.status.busy": "2023-03-06T19:28:15.699975Z",
     "iopub.status.idle": "2023-03-06T19:28:15.716344Z",
     "shell.execute_reply": "2023-03-06T19:28:15.714520Z"
    },
    "papermill": {
     "duration": 0.034427,
     "end_time": "2023-03-06T19:28:15.721311",
     "exception": false,
     "start_time": "2023-03-06T19:28:15.686884",
     "status": "completed"
    },
    "tags": []
   },
   "outputs": [
    {
     "data": {
      "text/plain": [
       "Pop/Rock       23306\n",
       "Heavy Metal    17975\n",
       "Indie          13810\n",
       "Hard Rock       6743\n",
       "Punk Rock       5931\n",
       "Name: genre, dtype: int64"
      ]
     },
     "execution_count": 30,
     "metadata": {},
     "output_type": "execute_result"
    }
   ],
   "source": [
    "df['genre'].value_counts()"
   ]
  },
  {
   "cell_type": "code",
   "execution_count": 31,
   "id": "06b75fcc",
   "metadata": {
    "execution": {
     "iopub.execute_input": "2023-03-06T19:28:15.781450Z",
     "iopub.status.busy": "2023-03-06T19:28:15.780970Z",
     "iopub.status.idle": "2023-03-06T19:28:15.794654Z",
     "shell.execute_reply": "2023-03-06T19:28:15.793413Z"
    },
    "papermill": {
     "duration": 0.038389,
     "end_time": "2023-03-06T19:28:15.796654",
     "exception": false,
     "start_time": "2023-03-06T19:28:15.758265",
     "status": "completed"
    },
    "tags": []
   },
   "outputs": [],
   "source": [
    "df = df.drop(columns=['verses']+list(genres))"
   ]
  },
  {
   "cell_type": "code",
   "execution_count": 32,
   "id": "28a5f465",
   "metadata": {
    "execution": {
     "iopub.execute_input": "2023-03-06T19:28:15.824258Z",
     "iopub.status.busy": "2023-03-06T19:28:15.823521Z",
     "iopub.status.idle": "2023-03-06T19:28:15.840205Z",
     "shell.execute_reply": "2023-03-06T19:28:15.838984Z"
    },
    "papermill": {
     "duration": 0.031806,
     "end_time": "2023-03-06T19:28:15.842228",
     "exception": false,
     "start_time": "2023-03-06T19:28:15.810422",
     "status": "completed"
    },
    "tags": []
   },
   "outputs": [],
   "source": [
    "df = df.reset_index(drop=True)"
   ]
  },
  {
   "cell_type": "code",
   "execution_count": 33,
   "id": "aac3ac16",
   "metadata": {
    "execution": {
     "iopub.execute_input": "2023-03-06T19:28:15.870037Z",
     "iopub.status.busy": "2023-03-06T19:28:15.869295Z",
     "iopub.status.idle": "2023-03-06T19:28:15.965643Z",
     "shell.execute_reply": "2023-03-06T19:28:15.964849Z"
    },
    "papermill": {
     "duration": 0.111984,
     "end_time": "2023-03-06T19:28:15.968262",
     "exception": false,
     "start_time": "2023-03-06T19:28:15.856278",
     "status": "completed"
    },
    "tags": []
   },
   "outputs": [],
   "source": [
    "df = df.groupby('genre').sample(n=5000, random_state=42).reset_index(drop=True)"
   ]
  },
  {
   "cell_type": "code",
   "execution_count": 34,
   "id": "ea9b87b0",
   "metadata": {
    "execution": {
     "iopub.execute_input": "2023-03-06T19:28:16.037084Z",
     "iopub.status.busy": "2023-03-06T19:28:16.036774Z",
     "iopub.status.idle": "2023-03-06T19:28:16.090400Z",
     "shell.execute_reply": "2023-03-06T19:28:16.089039Z"
    },
    "papermill": {
     "duration": 0.091874,
     "end_time": "2023-03-06T19:28:16.093714",
     "exception": false,
     "start_time": "2023-03-06T19:28:16.001840",
     "status": "completed"
    },
    "tags": []
   },
   "outputs": [],
   "source": [
    "df['genre'] = df['genre'].apply(lambda x: re.sub(r'[/ ]', '-', x.lower()))"
   ]
  },
  {
   "cell_type": "code",
   "execution_count": 35,
   "id": "6229764b",
   "metadata": {
    "execution": {
     "iopub.execute_input": "2023-03-06T19:28:16.157845Z",
     "iopub.status.busy": "2023-03-06T19:28:16.157310Z",
     "iopub.status.idle": "2023-03-06T19:28:16.179810Z",
     "shell.execute_reply": "2023-03-06T19:28:16.178216Z"
    },
    "papermill": {
     "duration": 0.05902,
     "end_time": "2023-03-06T19:28:16.183209",
     "exception": false,
     "start_time": "2023-03-06T19:28:16.124189",
     "status": "completed"
    },
    "tags": []
   },
   "outputs": [
    {
     "data": {
      "text/html": [
       "<div>\n",
       "<style scoped>\n",
       "    .dataframe tbody tr th:only-of-type {\n",
       "        vertical-align: middle;\n",
       "    }\n",
       "\n",
       "    .dataframe tbody tr th {\n",
       "        vertical-align: top;\n",
       "    }\n",
       "\n",
       "    .dataframe thead th {\n",
       "        text-align: right;\n",
       "    }\n",
       "</style>\n",
       "<table border=\"1\" class=\"dataframe\">\n",
       "  <thead>\n",
       "    <tr style=\"text-align: right;\">\n",
       "      <th></th>\n",
       "      <th>lyrics</th>\n",
       "      <th>genre</th>\n",
       "    </tr>\n",
       "  </thead>\n",
       "  <tbody>\n",
       "    <tr>\n",
       "      <th>0</th>\n",
       "      <td>[What if the devil was a lie?, What if God did...</td>\n",
       "      <td>hard-rock</td>\n",
       "    </tr>\n",
       "    <tr>\n",
       "      <th>1</th>\n",
       "      <td>[Can you help me, Help me get out of this plac...</td>\n",
       "      <td>hard-rock</td>\n",
       "    </tr>\n",
       "    <tr>\n",
       "      <th>2</th>\n",
       "      <td>[For every dream we lose, There's another one ...</td>\n",
       "      <td>hard-rock</td>\n",
       "    </tr>\n",
       "    <tr>\n",
       "      <th>3</th>\n",
       "      <td>[I never seem to find a reason, to let you in ...</td>\n",
       "      <td>hard-rock</td>\n",
       "    </tr>\n",
       "    <tr>\n",
       "      <th>4</th>\n",
       "      <td>[It would appear that male pattern, baldness h...</td>\n",
       "      <td>hard-rock</td>\n",
       "    </tr>\n",
       "  </tbody>\n",
       "</table>\n",
       "</div>"
      ],
      "text/plain": [
       "                                              lyrics      genre\n",
       "0  [What if the devil was a lie?, What if God did...  hard-rock\n",
       "1  [Can you help me, Help me get out of this plac...  hard-rock\n",
       "2  [For every dream we lose, There's another one ...  hard-rock\n",
       "3  [I never seem to find a reason, to let you in ...  hard-rock\n",
       "4  [It would appear that male pattern, baldness h...  hard-rock"
      ]
     },
     "execution_count": 35,
     "metadata": {},
     "output_type": "execute_result"
    }
   ],
   "source": [
    "df.head()"
   ]
  },
  {
   "cell_type": "code",
   "execution_count": 36,
   "id": "5975e1aa",
   "metadata": {
    "execution": {
     "iopub.execute_input": "2023-03-06T19:28:16.233788Z",
     "iopub.status.busy": "2023-03-06T19:28:16.233289Z",
     "iopub.status.idle": "2023-03-06T19:28:16.245143Z",
     "shell.execute_reply": "2023-03-06T19:28:16.243881Z"
    },
    "papermill": {
     "duration": 0.02992,
     "end_time": "2023-03-06T19:28:16.247232",
     "exception": false,
     "start_time": "2023-03-06T19:28:16.217312",
     "status": "completed"
    },
    "tags": []
   },
   "outputs": [],
   "source": [
    "df = df.rename(columns={'lyrics':'text','genre':'class'})"
   ]
  },
  {
   "cell_type": "code",
   "execution_count": 37,
   "id": "1b1fbb27",
   "metadata": {
    "execution": {
     "iopub.execute_input": "2023-03-06T19:28:16.274374Z",
     "iopub.status.busy": "2023-03-06T19:28:16.273908Z",
     "iopub.status.idle": "2023-03-06T19:28:16.988342Z",
     "shell.execute_reply": "2023-03-06T19:28:16.987188Z"
    },
    "papermill": {
     "duration": 0.730882,
     "end_time": "2023-03-06T19:28:16.991543",
     "exception": false,
     "start_time": "2023-03-06T19:28:16.260661",
     "status": "completed"
    },
    "tags": []
   },
   "outputs": [],
   "source": [
    "ds_id = 'rock-subgenres'\n",
    "\n",
    "# Create directory\n",
    "data_ds_path = base_path + ds_id\n",
    "\n",
    "os.makedirs(data_ds_path, exist_ok=True)\n",
    "\n",
    "df.to_csv(f'{data_ds_path}/data.csv', index=False)"
   ]
  },
  {
   "cell_type": "markdown",
   "id": "638cbbd7",
   "metadata": {
    "papermill": {
     "duration": 0.0317,
     "end_time": "2023-03-06T19:28:17.057657",
     "exception": false,
     "start_time": "2023-03-06T19:28:17.025957",
     "status": "completed"
    },
    "tags": []
   },
   "source": [
    "## Movie Plots Dataset"
   ]
  },
  {
   "cell_type": "code",
   "execution_count": 38,
   "id": "827b8c8d",
   "metadata": {
    "execution": {
     "iopub.execute_input": "2023-03-06T19:28:17.092665Z",
     "iopub.status.busy": "2023-03-06T19:28:17.092161Z",
     "iopub.status.idle": "2023-03-06T19:28:17.936847Z",
     "shell.execute_reply": "2023-03-06T19:28:17.935919Z"
    },
    "papermill": {
     "duration": 0.860801,
     "end_time": "2023-03-06T19:28:17.939670",
     "exception": false,
     "start_time": "2023-03-06T19:28:17.078869",
     "status": "completed"
    },
    "tags": []
   },
   "outputs": [],
   "source": [
    "df = pd.read_csv('../data/raw-data/wiki_movie_plots_deduped.csv')"
   ]
  },
  {
   "cell_type": "code",
   "execution_count": 39,
   "id": "db827f28",
   "metadata": {
    "execution": {
     "iopub.execute_input": "2023-03-06T19:28:17.970084Z",
     "iopub.status.busy": "2023-03-06T19:28:17.969657Z",
     "iopub.status.idle": "2023-03-06T19:28:17.983637Z",
     "shell.execute_reply": "2023-03-06T19:28:17.982864Z"
    },
    "papermill": {
     "duration": 0.029041,
     "end_time": "2023-03-06T19:28:17.985544",
     "exception": false,
     "start_time": "2023-03-06T19:28:17.956503",
     "status": "completed"
    },
    "tags": []
   },
   "outputs": [
    {
     "data": {
      "text/html": [
       "<div>\n",
       "<style scoped>\n",
       "    .dataframe tbody tr th:only-of-type {\n",
       "        vertical-align: middle;\n",
       "    }\n",
       "\n",
       "    .dataframe tbody tr th {\n",
       "        vertical-align: top;\n",
       "    }\n",
       "\n",
       "    .dataframe thead th {\n",
       "        text-align: right;\n",
       "    }\n",
       "</style>\n",
       "<table border=\"1\" class=\"dataframe\">\n",
       "  <thead>\n",
       "    <tr style=\"text-align: right;\">\n",
       "      <th></th>\n",
       "      <th>Release Year</th>\n",
       "      <th>Title</th>\n",
       "      <th>Origin/Ethnicity</th>\n",
       "      <th>Director</th>\n",
       "      <th>Cast</th>\n",
       "      <th>Genre</th>\n",
       "      <th>Wiki Page</th>\n",
       "      <th>Plot</th>\n",
       "    </tr>\n",
       "  </thead>\n",
       "  <tbody>\n",
       "    <tr>\n",
       "      <th>0</th>\n",
       "      <td>1901</td>\n",
       "      <td>Kansas Saloon Smashers</td>\n",
       "      <td>American</td>\n",
       "      <td>Unknown</td>\n",
       "      <td>NaN</td>\n",
       "      <td>unknown</td>\n",
       "      <td>https://en.wikipedia.org/wiki/Kansas_Saloon_Sm...</td>\n",
       "      <td>A bartender is working at a saloon, serving dr...</td>\n",
       "    </tr>\n",
       "    <tr>\n",
       "      <th>1</th>\n",
       "      <td>1901</td>\n",
       "      <td>Love by the Light of the Moon</td>\n",
       "      <td>American</td>\n",
       "      <td>Unknown</td>\n",
       "      <td>NaN</td>\n",
       "      <td>unknown</td>\n",
       "      <td>https://en.wikipedia.org/wiki/Love_by_the_Ligh...</td>\n",
       "      <td>The moon, painted with a smiling face hangs ov...</td>\n",
       "    </tr>\n",
       "    <tr>\n",
       "      <th>2</th>\n",
       "      <td>1901</td>\n",
       "      <td>The Martyred Presidents</td>\n",
       "      <td>American</td>\n",
       "      <td>Unknown</td>\n",
       "      <td>NaN</td>\n",
       "      <td>unknown</td>\n",
       "      <td>https://en.wikipedia.org/wiki/The_Martyred_Pre...</td>\n",
       "      <td>The film, just over a minute long, is composed...</td>\n",
       "    </tr>\n",
       "    <tr>\n",
       "      <th>3</th>\n",
       "      <td>1901</td>\n",
       "      <td>Terrible Teddy, the Grizzly King</td>\n",
       "      <td>American</td>\n",
       "      <td>Unknown</td>\n",
       "      <td>NaN</td>\n",
       "      <td>unknown</td>\n",
       "      <td>https://en.wikipedia.org/wiki/Terrible_Teddy,_...</td>\n",
       "      <td>Lasting just 61 seconds and consisting of two ...</td>\n",
       "    </tr>\n",
       "    <tr>\n",
       "      <th>4</th>\n",
       "      <td>1902</td>\n",
       "      <td>Jack and the Beanstalk</td>\n",
       "      <td>American</td>\n",
       "      <td>George S. Fleming, Edwin S. Porter</td>\n",
       "      <td>NaN</td>\n",
       "      <td>unknown</td>\n",
       "      <td>https://en.wikipedia.org/wiki/Jack_and_the_Bea...</td>\n",
       "      <td>The earliest known adaptation of the classic f...</td>\n",
       "    </tr>\n",
       "  </tbody>\n",
       "</table>\n",
       "</div>"
      ],
      "text/plain": [
       "   Release Year                             Title Origin/Ethnicity  \\\n",
       "0          1901            Kansas Saloon Smashers         American   \n",
       "1          1901     Love by the Light of the Moon         American   \n",
       "2          1901           The Martyred Presidents         American   \n",
       "3          1901  Terrible Teddy, the Grizzly King         American   \n",
       "4          1902            Jack and the Beanstalk         American   \n",
       "\n",
       "                             Director Cast    Genre  \\\n",
       "0                             Unknown  NaN  unknown   \n",
       "1                             Unknown  NaN  unknown   \n",
       "2                             Unknown  NaN  unknown   \n",
       "3                             Unknown  NaN  unknown   \n",
       "4  George S. Fleming, Edwin S. Porter  NaN  unknown   \n",
       "\n",
       "                                           Wiki Page  \\\n",
       "0  https://en.wikipedia.org/wiki/Kansas_Saloon_Sm...   \n",
       "1  https://en.wikipedia.org/wiki/Love_by_the_Ligh...   \n",
       "2  https://en.wikipedia.org/wiki/The_Martyred_Pre...   \n",
       "3  https://en.wikipedia.org/wiki/Terrible_Teddy,_...   \n",
       "4  https://en.wikipedia.org/wiki/Jack_and_the_Bea...   \n",
       "\n",
       "                                                Plot  \n",
       "0  A bartender is working at a saloon, serving dr...  \n",
       "1  The moon, painted with a smiling face hangs ov...  \n",
       "2  The film, just over a minute long, is composed...  \n",
       "3  Lasting just 61 seconds and consisting of two ...  \n",
       "4  The earliest known adaptation of the classic f...  "
      ]
     },
     "execution_count": 39,
     "metadata": {},
     "output_type": "execute_result"
    }
   ],
   "source": [
    "df.head()"
   ]
  },
  {
   "cell_type": "code",
   "execution_count": 40,
   "id": "57bf57d3",
   "metadata": {
    "execution": {
     "iopub.execute_input": "2023-03-06T19:28:18.012800Z",
     "iopub.status.busy": "2023-03-06T19:28:18.012375Z",
     "iopub.status.idle": "2023-03-06T19:28:18.019705Z",
     "shell.execute_reply": "2023-03-06T19:28:18.018535Z"
    },
    "papermill": {
     "duration": 0.022537,
     "end_time": "2023-03-06T19:28:18.021493",
     "exception": false,
     "start_time": "2023-03-06T19:28:17.998956",
     "status": "completed"
    },
    "tags": []
   },
   "outputs": [
    {
     "data": {
      "text/plain": [
       "\"Sixteen-year-old Ruby Baker (Leelee Sobieski) and her eleven-year-old brother Rhett (Trevor Morgan) lose their parents, Dave and Grace, in a car accident. Their parents' will is not a recent one but, in accordance with its terms, the children are placed under the guardianship of family neighbors from some years back, the childless couple Erin (Diane Lane) and Terry (Stellan Skarsgård) Glass, who live in a large glass house in Malibu.\\r\\nThere are early indications that all is not well. The children have to share a room; they are no longer educated privately; Rhett is allowed to play with games consoles at all times; and Ruby is made uneasy by Terry's sexual hints when they are alone. Ruby comes across unlabeled pharmaceuticals and sees Erin injecting herself, though the couple claim this is for diabetes. Ruby tries unsuccessfully to get the children's estate and trust fund lawyer Alvin Begleiter (Bruce Dern) to accept her concerns and a visiting social worker is taken in by the couple's assurances.\\r\\nRuby discovers mail from the children's maternal Uncle Jack (Chris Noth) in the trash, along with a letter from a private school indicating the Glasses unregistered the children and pocketed the $30,000+ tuition money. Ruby also finds signs that Terry is in debt to loan sharks, and she gradually realizes her new foster parents are after the siblings' $4 million trust fund. Ruby becomes suspicious of her parents' death and discovers evidence of the Glasses involvement.\\r\\nAfter unsuccessfully attempting to escape, the kids are recaptured. The Glasses drug Ruby, and Terry tells Erin they must get rid of Ruby. Overcome by guilt and having lost her medical license due to her drug abuse, Erin commits suicide. Terry locks the kids in the basement and sabotages his car, expecting the kids to make another escape attempt. However, the loan sharks, alerted by Ruby, appear at Terry's house, kill Mr. Begleiter (who has come to confront Terry and revealed his complicity), repossess Terry's Jaguar, and insist on taking a ride. Terry begs them to reconsider, or to at least take another car, but eventually gives in. The car goes over a ledge and crashes, killing the loan sharks, though Terry survives.\\r\\nMeanwhile, the children are picked up by a friendly cop. The policeman stops at the scene of the accident and, while investigating, Terry knocks him out. After climbing back up the embankment, and armed with a gun, Terry tries to lure Ruby and Rhett toward him. Ruby hits Terry with the police car and kills him instantly. In the end, Ruby and Rhett end up living with their Uncle Jack, who takes them to Chicago, where they visit their parents' grave and embrace each other.\""
      ]
     },
     "execution_count": 40,
     "metadata": {},
     "output_type": "execute_result"
    }
   ],
   "source": [
    "random.choice(df['Plot'])"
   ]
  },
  {
   "cell_type": "code",
   "execution_count": 41,
   "id": "0e749647",
   "metadata": {
    "execution": {
     "iopub.execute_input": "2023-03-06T19:28:18.047590Z",
     "iopub.status.busy": "2023-03-06T19:28:18.047131Z",
     "iopub.status.idle": "2023-03-06T19:28:33.578506Z",
     "shell.execute_reply": "2023-03-06T19:28:33.577567Z"
    },
    "papermill": {
     "duration": 15.547937,
     "end_time": "2023-03-06T19:28:33.581637",
     "exception": false,
     "start_time": "2023-03-06T19:28:18.033700",
     "status": "completed"
    },
    "tags": []
   },
   "outputs": [],
   "source": [
    "df['Plot']= df['Plot'].apply(sent_tokenize)"
   ]
  },
  {
   "cell_type": "code",
   "execution_count": 42,
   "id": "de8eb6d5",
   "metadata": {
    "execution": {
     "iopub.execute_input": "2023-03-06T19:28:33.652489Z",
     "iopub.status.busy": "2023-03-06T19:28:33.652172Z",
     "iopub.status.idle": "2023-03-06T19:28:33.668578Z",
     "shell.execute_reply": "2023-03-06T19:28:33.667233Z"
    },
    "papermill": {
     "duration": 0.055374,
     "end_time": "2023-03-06T19:28:33.671649",
     "exception": false,
     "start_time": "2023-03-06T19:28:33.616275",
     "status": "completed"
    },
    "tags": []
   },
   "outputs": [],
   "source": [
    "n_sentences = df['Plot'].apply(len)"
   ]
  },
  {
   "cell_type": "code",
   "execution_count": 43,
   "id": "19ea6e04",
   "metadata": {
    "execution": {
     "iopub.execute_input": "2023-03-06T19:28:33.721189Z",
     "iopub.status.busy": "2023-03-06T19:28:33.720713Z",
     "iopub.status.idle": "2023-03-06T19:28:33.975666Z",
     "shell.execute_reply": "2023-03-06T19:28:33.975027Z"
    },
    "papermill": {
     "duration": 0.274885,
     "end_time": "2023-03-06T19:28:33.977702",
     "exception": false,
     "start_time": "2023-03-06T19:28:33.702817",
     "status": "completed"
    },
    "tags": []
   },
   "outputs": [
    {
     "data": {
      "text/plain": [
       "<AxesSubplot:xlabel='Plot', ylabel='Count'>"
      ]
     },
     "execution_count": 43,
     "metadata": {},
     "output_type": "execute_result"
    },
    {
     "data": {
      "image/png": "[encoded data removed]",
      "text/plain": [
       "<Figure size 640x480 with 1 Axes>"
      ]
     },
     "metadata": {},
     "output_type": "display_data"
    }
   ],
   "source": [
    "sns.histplot(n_sentences, bins=50, binrange=(0,200))"
   ]
  },
  {
   "cell_type": "code",
   "execution_count": 44,
   "id": "0737acb6",
   "metadata": {
    "execution": {
     "iopub.execute_input": "2023-03-06T19:28:34.050041Z",
     "iopub.status.busy": "2023-03-06T19:28:34.049731Z",
     "iopub.status.idle": "2023-03-06T19:28:34.081259Z",
     "shell.execute_reply": "2023-03-06T19:28:34.080298Z"
    },
    "papermill": {
     "duration": 0.072911,
     "end_time": "2023-03-06T19:28:34.084509",
     "exception": false,
     "start_time": "2023-03-06T19:28:34.011598",
     "status": "completed"
    },
    "tags": []
   },
   "outputs": [],
   "source": [
    "df = df[df['Plot'].apply(len)>20]"
   ]
  },
  {
   "cell_type": "code",
   "execution_count": 45,
   "id": "9be448e1",
   "metadata": {
    "execution": {
     "iopub.execute_input": "2023-03-06T19:28:34.144258Z",
     "iopub.status.busy": "2023-03-06T19:28:34.143796Z",
     "iopub.status.idle": "2023-03-06T19:28:34.157683Z",
     "shell.execute_reply": "2023-03-06T19:28:34.156329Z"
    },
    "papermill": {
     "duration": 0.042781,
     "end_time": "2023-03-06T19:28:34.159606",
     "exception": false,
     "start_time": "2023-03-06T19:28:34.116825",
     "status": "completed"
    },
    "tags": []
   },
   "outputs": [
    {
     "data": {
      "text/plain": [
       "drama              1887\n",
       "unknown            1790\n",
       "comedy             1544\n",
       "horror              748\n",
       "action              494\n",
       "thriller            466\n",
       "science fiction     302\n",
       "romance             296\n",
       "crime drama         238\n",
       "western             226\n",
       "adventure           197\n",
       "romantic comedy     196\n",
       "animation           174\n",
       "fantasy             136\n",
       "musical             134\n",
       "sci-fi              133\n",
       "animated            129\n",
       "war                 124\n",
       "film noir           123\n",
       "family              121\n",
       "Name: Genre, dtype: int64"
      ]
     },
     "execution_count": 45,
     "metadata": {},
     "output_type": "execute_result"
    }
   ],
   "source": [
    "df['Genre'].value_counts().sort_values(ascending=False)[:20]"
   ]
  },
  {
   "cell_type": "code",
   "execution_count": 46,
   "id": "f15bf1b9",
   "metadata": {
    "execution": {
     "iopub.execute_input": "2023-03-06T19:28:34.187474Z",
     "iopub.status.busy": "2023-03-06T19:28:34.186963Z",
     "iopub.status.idle": "2023-03-06T19:28:34.208582Z",
     "shell.execute_reply": "2023-03-06T19:28:34.207330Z"
    },
    "papermill": {
     "duration": 0.03748,
     "end_time": "2023-03-06T19:28:34.210662",
     "exception": false,
     "start_time": "2023-03-06T19:28:34.173182",
     "status": "completed"
    },
    "tags": []
   },
   "outputs": [
    {
     "data": {
      "text/plain": [
       "drama              1887\n",
       "comedy             1544\n",
       "horror              748\n",
       "action              494\n",
       "thriller            466\n",
       "science fiction     302\n",
       "romance             296\n",
       "crime drama         238\n",
       "western             226\n",
       "adventure           197\n",
       "romantic comedy     196\n",
       "animation           174\n",
       "fantasy             136\n",
       "musical             134\n",
       "sci-fi              133\n",
       "animated            129\n",
       "war                 124\n",
       "film noir           123\n",
       "family              121\n",
       "crime               116\n",
       "Name: Genre, dtype: int64"
      ]
     },
     "execution_count": 46,
     "metadata": {},
     "output_type": "execute_result"
    }
   ],
   "source": [
    "df = df[df['Genre']!='unknown']\n",
    "df['Genre'].value_counts().sort_values(ascending=False)[:20]"
   ]
  },
  {
   "cell_type": "code",
   "execution_count": 47,
   "id": "d3394e22",
   "metadata": {
    "execution": {
     "iopub.execute_input": "2023-03-06T19:28:34.240194Z",
     "iopub.status.busy": "2023-03-06T19:28:34.239730Z",
     "iopub.status.idle": "2023-03-06T19:28:34.247739Z",
     "shell.execute_reply": "2023-03-06T19:28:34.246556Z"
    },
    "papermill": {
     "duration": 0.023919,
     "end_time": "2023-03-06T19:28:34.249632",
     "exception": false,
     "start_time": "2023-03-06T19:28:34.225713",
     "status": "completed"
    },
    "tags": []
   },
   "outputs": [],
   "source": [
    "def clean_genre_label(label):\n",
    "    label = ' '.join(label.split()).lower()\n",
    "    label = re.sub(r'sci[\\s-]?fi', 'scifi', label)\n",
    "    label = re.sub(r'science[-–]fiction', 'scifi', label)\n",
    "    label = re.sub(r'rom-?com', 'romantic comedy', label)\n",
    "    label = re.sub(r'[,\\.;:\\|/\\-_–]', ' ', label)    \n",
    "    label = ' '.join(label.split())\n",
    "    return label"
   ]
  },
  {
   "cell_type": "code",
   "execution_count": 48,
   "id": "8c205e1d",
   "metadata": {
    "execution": {
     "iopub.execute_input": "2023-03-06T19:28:34.279021Z",
     "iopub.status.busy": "2023-03-06T19:28:34.278281Z",
     "iopub.status.idle": "2023-03-06T19:28:34.370493Z",
     "shell.execute_reply": "2023-03-06T19:28:34.369737Z"
    },
    "papermill": {
     "duration": 0.109693,
     "end_time": "2023-03-06T19:28:34.373279",
     "exception": false,
     "start_time": "2023-03-06T19:28:34.263586",
     "status": "completed"
    },
    "tags": []
   },
   "outputs": [],
   "source": [
    "df['Genre'] = df['Genre'].apply(clean_genre_label)"
   ]
  },
  {
   "cell_type": "code",
   "execution_count": 49,
   "id": "97a3a162",
   "metadata": {
    "execution": {
     "iopub.execute_input": "2023-03-06T19:28:34.446791Z",
     "iopub.status.busy": "2023-03-06T19:28:34.445660Z",
     "iopub.status.idle": "2023-03-06T19:28:35.094310Z",
     "shell.execute_reply": "2023-03-06T19:28:35.093395Z"
    },
    "papermill": {
     "duration": 0.687748,
     "end_time": "2023-03-06T19:28:35.097236",
     "exception": false,
     "start_time": "2023-03-06T19:28:34.409488",
     "status": "completed"
    },
    "tags": []
   },
   "outputs": [],
   "source": [
    "dummies = df['Genre'].str.get_dummies(sep=' ')\n",
    "df = pd.concat([df['Plot'], dummies], axis=1)"
   ]
  },
  {
   "cell_type": "code",
   "execution_count": 50,
   "id": "8f373608",
   "metadata": {
    "execution": {
     "iopub.execute_input": "2023-03-06T19:28:35.170416Z",
     "iopub.status.busy": "2023-03-06T19:28:35.170109Z",
     "iopub.status.idle": "2023-03-06T19:28:35.181679Z",
     "shell.execute_reply": "2023-03-06T19:28:35.180507Z"
    },
    "papermill": {
     "duration": 0.05218,
     "end_time": "2023-03-06T19:28:35.185043",
     "exception": false,
     "start_time": "2023-03-06T19:28:35.132863",
     "status": "completed"
    },
    "tags": []
   },
   "outputs": [
    {
     "data": {
      "text/plain": [
       "drama        3351\n",
       "comedy       2758\n",
       "action       1220\n",
       "horror       1007\n",
       "thriller      945\n",
       "romance       716\n",
       "crime         604\n",
       "adventure     406\n",
       "science       402\n",
       "fiction       397\n",
       "fantasy       351\n",
       "family        335\n",
       "musical       329\n",
       "romantic      291\n",
       "war           280\n",
       "animated      277\n",
       "western       266\n",
       "scifi         260\n",
       "animation     233\n",
       "film          220\n",
       "dtype: int64"
      ]
     },
     "execution_count": 50,
     "metadata": {},
     "output_type": "execute_result"
    }
   ],
   "source": [
    "df.sum(numeric_only=True).sort_values(ascending=False)[:20]"
   ]
  },
  {
   "cell_type": "code",
   "execution_count": 51,
   "id": "abbb1e09",
   "metadata": {
    "execution": {
     "iopub.execute_input": "2023-03-06T19:28:35.227356Z",
     "iopub.status.busy": "2023-03-06T19:28:35.226894Z",
     "iopub.status.idle": "2023-03-06T19:28:35.236405Z",
     "shell.execute_reply": "2023-03-06T19:28:35.235125Z"
    },
    "papermill": {
     "duration": 0.025605,
     "end_time": "2023-03-06T19:28:35.238510",
     "exception": false,
     "start_time": "2023-03-06T19:28:35.212905",
     "status": "completed"
    },
    "tags": []
   },
   "outputs": [],
   "source": [
    "df = df[['Plot',\n",
    "         'drama',\n",
    "         'comedy',\n",
    "         'thriller','action','crime',\n",
    "         'horror','scifi','fantasy','mystery','supernatural']]"
   ]
  },
  {
   "cell_type": "code",
   "execution_count": 52,
   "id": "de5d1870",
   "metadata": {
    "execution": {
     "iopub.execute_input": "2023-03-06T19:28:35.266374Z",
     "iopub.status.busy": "2023-03-06T19:28:35.265904Z",
     "iopub.status.idle": "2023-03-06T19:28:35.278472Z",
     "shell.execute_reply": "2023-03-06T19:28:35.276904Z"
    },
    "papermill": {
     "duration": 0.028739,
     "end_time": "2023-03-06T19:28:35.280685",
     "exception": false,
     "start_time": "2023-03-06T19:28:35.251946",
     "status": "completed"
    },
    "tags": []
   },
   "outputs": [
    {
     "data": {
      "text/plain": [
       "drama           3351\n",
       "comedy          2758\n",
       "action          1220\n",
       "horror          1007\n",
       "thriller         945\n",
       "crime            604\n",
       "fantasy          351\n",
       "scifi            260\n",
       "mystery          167\n",
       "supernatural      28\n",
       "dtype: int64"
      ]
     },
     "execution_count": 52,
     "metadata": {},
     "output_type": "execute_result"
    }
   ],
   "source": [
    "df.sum(numeric_only=True).sort_values(ascending=False)"
   ]
  },
  {
   "cell_type": "code",
   "execution_count": 53,
   "id": "0e8d1679",
   "metadata": {
    "execution": {
     "iopub.execute_input": "2023-03-06T19:28:35.309297Z",
     "iopub.status.busy": "2023-03-06T19:28:35.308825Z",
     "iopub.status.idle": "2023-03-06T19:28:35.314445Z",
     "shell.execute_reply": "2023-03-06T19:28:35.313208Z"
    },
    "papermill": {
     "duration": 0.02182,
     "end_time": "2023-03-06T19:28:35.316234",
     "exception": false,
     "start_time": "2023-03-06T19:28:35.294414",
     "status": "completed"
    },
    "tags": []
   },
   "outputs": [],
   "source": [
    "group1 = 'action_thriller_crime'\n",
    "group2 = 'horror_scifi_mystery_supernatural_fantasy'"
   ]
  },
  {
   "cell_type": "code",
   "execution_count": 54,
   "id": "08f4405c",
   "metadata": {
    "execution": {
     "iopub.execute_input": "2023-03-06T19:28:35.347297Z",
     "iopub.status.busy": "2023-03-06T19:28:35.346815Z",
     "iopub.status.idle": "2023-03-06T19:28:35.363297Z",
     "shell.execute_reply": "2023-03-06T19:28:35.362036Z"
    },
    "papermill": {
     "duration": 0.033304,
     "end_time": "2023-03-06T19:28:35.365576",
     "exception": false,
     "start_time": "2023-03-06T19:28:35.332272",
     "status": "completed"
    },
    "tags": []
   },
   "outputs": [],
   "source": [
    "df.loc[:, group1] = df[group1.split('_')].max(axis=1)\n",
    "df.loc[:, group2] = df[group2.split('_')].max(axis=1)\n",
    "\n",
    "df = df.drop(columns=group1.split('_')+group2.split('_'))"
   ]
  },
  {
   "cell_type": "code",
   "execution_count": 55,
   "id": "37c2fbf5",
   "metadata": {
    "execution": {
     "iopub.execute_input": "2023-03-06T19:28:35.395075Z",
     "iopub.status.busy": "2023-03-06T19:28:35.394603Z",
     "iopub.status.idle": "2023-03-06T19:28:35.406849Z",
     "shell.execute_reply": "2023-03-06T19:28:35.405581Z"
    },
    "papermill": {
     "duration": 0.02864,
     "end_time": "2023-03-06T19:28:35.409107",
     "exception": false,
     "start_time": "2023-03-06T19:28:35.380467",
     "status": "completed"
    },
    "tags": []
   },
   "outputs": [],
   "source": [
    "df = df.drop(df[df.sum(axis=1, numeric_only=True)!=1].index)"
   ]
  },
  {
   "cell_type": "code",
   "execution_count": 56,
   "id": "405bdd39",
   "metadata": {
    "execution": {
     "iopub.execute_input": "2023-03-06T19:28:35.438057Z",
     "iopub.status.busy": "2023-03-06T19:28:35.437594Z",
     "iopub.status.idle": "2023-03-06T19:28:35.443642Z",
     "shell.execute_reply": "2023-03-06T19:28:35.442559Z"
    },
    "papermill": {
     "duration": 0.022031,
     "end_time": "2023-03-06T19:28:35.445376",
     "exception": false,
     "start_time": "2023-03-06T19:28:35.423345",
     "status": "completed"
    },
    "tags": []
   },
   "outputs": [],
   "source": [
    "df = df.reset_index(drop=True)"
   ]
  },
  {
   "cell_type": "code",
   "execution_count": 57,
   "id": "b0b600bf",
   "metadata": {
    "execution": {
     "iopub.execute_input": "2023-03-06T19:28:35.473029Z",
     "iopub.status.busy": "2023-03-06T19:28:35.472517Z",
     "iopub.status.idle": "2023-03-06T19:28:35.501450Z",
     "shell.execute_reply": "2023-03-06T19:28:35.500180Z"
    },
    "papermill": {
     "duration": 0.045185,
     "end_time": "2023-03-06T19:28:35.503656",
     "exception": false,
     "start_time": "2023-03-06T19:28:35.458471",
     "status": "completed"
    },
    "tags": []
   },
   "outputs": [],
   "source": [
    "genres = [col for col in df.columns if col != 'Plot']\n",
    "\n",
    "category_col = df[genres].idxmax(axis=1, numeric_only=True)\n",
    "df['genre'] = category_col\n",
    "\n",
    "df = df.drop(columns=genres)"
   ]
  },
  {
   "cell_type": "code",
   "execution_count": 58,
   "id": "57a0ce52",
   "metadata": {
    "execution": {
     "iopub.execute_input": "2023-03-06T19:28:35.534070Z",
     "iopub.status.busy": "2023-03-06T19:28:35.533027Z",
     "iopub.status.idle": "2023-03-06T19:28:35.547942Z",
     "shell.execute_reply": "2023-03-06T19:28:35.546573Z"
    },
    "papermill": {
     "duration": 0.031274,
     "end_time": "2023-03-06T19:28:35.550145",
     "exception": false,
     "start_time": "2023-03-06T19:28:35.518871",
     "status": "completed"
    },
    "tags": []
   },
   "outputs": [
    {
     "data": {
      "text/plain": [
       "drama                                        2496\n",
       "comedy                                       2113\n",
       "action_thriller_crime                        1590\n",
       "horror_scifi_mystery_supernatural_fantasy    1313\n",
       "Name: genre, dtype: int64"
      ]
     },
     "execution_count": 58,
     "metadata": {},
     "output_type": "execute_result"
    }
   ],
   "source": [
    "df['genre'].value_counts()"
   ]
  },
  {
   "cell_type": "code",
   "execution_count": 59,
   "id": "528f1268",
   "metadata": {
    "execution": {
     "iopub.execute_input": "2023-03-06T19:28:35.581371Z",
     "iopub.status.busy": "2023-03-06T19:28:35.580876Z",
     "iopub.status.idle": "2023-03-06T19:28:35.592812Z",
     "shell.execute_reply": "2023-03-06T19:28:35.591775Z"
    },
    "papermill": {
     "duration": 0.029396,
     "end_time": "2023-03-06T19:28:35.594799",
     "exception": false,
     "start_time": "2023-03-06T19:28:35.565403",
     "status": "completed"
    },
    "tags": []
   },
   "outputs": [
    {
     "data": {
      "text/plain": [
       "drama                                        0.332268\n",
       "comedy                                       0.281283\n",
       "action_thriller_crime                        0.211661\n",
       "horror_scifi_mystery_supernatural_fantasy    0.174787\n",
       "Name: genre, dtype: float64"
      ]
     },
     "execution_count": 59,
     "metadata": {},
     "output_type": "execute_result"
    }
   ],
   "source": [
    "df['genre'].value_counts(normalize=True)"
   ]
  },
  {
   "cell_type": "code",
   "execution_count": 60,
   "id": "51eabe49",
   "metadata": {
    "execution": {
     "iopub.execute_input": "2023-03-06T19:28:35.624893Z",
     "iopub.status.busy": "2023-03-06T19:28:35.624396Z",
     "iopub.status.idle": "2023-03-06T19:28:35.631868Z",
     "shell.execute_reply": "2023-03-06T19:28:35.630994Z"
    },
    "papermill": {
     "duration": 0.024005,
     "end_time": "2023-03-06T19:28:35.633534",
     "exception": false,
     "start_time": "2023-03-06T19:28:35.609529",
     "status": "completed"
    },
    "tags": []
   },
   "outputs": [],
   "source": [
    "df = df.rename(columns={'Plot':'text','genre':'class'})"
   ]
  },
  {
   "cell_type": "code",
   "execution_count": 61,
   "id": "f791b157",
   "metadata": {
    "execution": {
     "iopub.execute_input": "2023-03-06T19:28:35.662781Z",
     "iopub.status.busy": "2023-03-06T19:28:35.662320Z",
     "iopub.status.idle": "2023-03-06T19:28:36.285856Z",
     "shell.execute_reply": "2023-03-06T19:28:36.284878Z"
    },
    "papermill": {
     "duration": 0.641068,
     "end_time": "2023-03-06T19:28:36.288931",
     "exception": false,
     "start_time": "2023-03-06T19:28:35.647863",
     "status": "completed"
    },
    "tags": []
   },
   "outputs": [],
   "source": [
    "ds_id = 'movie-plots'\n",
    "\n",
    "# Create directory\n",
    "data_ds_path = base_path + ds_id\n",
    "\n",
    "os.makedirs(data_ds_path, exist_ok=True)\n",
    "\n",
    "df.to_csv(f'{data_ds_path}/data.csv', index=False)"
   ]
  },
  {
   "cell_type": "markdown",
   "id": "c3196f43",
   "metadata": {
    "papermill": {
     "duration": 0.01371,
     "end_time": "2023-03-06T19:28:36.319724",
     "exception": false,
     "start_time": "2023-03-06T19:28:36.306014",
     "status": "completed"
    },
    "tags": []
   },
   "source": [
    "## 20 Newsgroups"
   ]
  },
  {
   "cell_type": "code",
   "execution_count": 62,
   "id": "5b00ba99",
   "metadata": {
    "execution": {
     "iopub.execute_input": "2023-03-06T19:28:36.352325Z",
     "iopub.status.busy": "2023-03-06T19:28:36.351912Z",
     "iopub.status.idle": "2023-03-06T19:28:38.069254Z",
     "shell.execute_reply": "2023-03-06T19:28:38.068296Z"
    },
    "papermill": {
     "duration": 1.736359,
     "end_time": "2023-03-06T19:28:38.072204",
     "exception": false,
     "start_time": "2023-03-06T19:28:36.335845",
     "status": "completed"
    },
    "tags": []
   },
   "outputs": [],
   "source": [
    "newsgroups = fetch_20newsgroups(subset='all', remove=('headers', 'footers', 'quotes'))\n",
    "\n",
    "df = pd.DataFrame({'text': newsgroups.data,\n",
    "                   'category': [newsgroups.target_names[value]\n",
    "                                for value in newsgroups.target]})"
   ]
  },
  {
   "cell_type": "code",
   "execution_count": 63,
   "id": "dfdb9049",
   "metadata": {
    "execution": {
     "iopub.execute_input": "2023-03-06T19:28:38.147775Z",
     "iopub.status.busy": "2023-03-06T19:28:38.147484Z",
     "iopub.status.idle": "2023-03-06T19:28:38.162062Z",
     "shell.execute_reply": "2023-03-06T19:28:38.160509Z"
    },
    "papermill": {
     "duration": 0.056357,
     "end_time": "2023-03-06T19:28:38.165504",
     "exception": false,
     "start_time": "2023-03-06T19:28:38.109147",
     "status": "completed"
    },
    "tags": []
   },
   "outputs": [],
   "source": [
    "religion = ['talk.religion.misc', 'alt.atheism', 'soc.religion.christian']\n",
    "df['macro_category'] = [cat.split('.')[0]\n",
    "                        if cat not in religion else 'religion'\n",
    "                        for cat in df['category']]"
   ]
  },
  {
   "cell_type": "code",
   "execution_count": 64,
   "id": "392973ea",
   "metadata": {
    "execution": {
     "iopub.execute_input": "2023-03-06T19:28:38.214379Z",
     "iopub.status.busy": "2023-03-06T19:28:38.213911Z",
     "iopub.status.idle": "2023-03-06T19:28:38.221471Z",
     "shell.execute_reply": "2023-03-06T19:28:38.220387Z"
    },
    "papermill": {
     "duration": 0.025151,
     "end_time": "2023-03-06T19:28:38.223320",
     "exception": false,
     "start_time": "2023-03-06T19:28:38.198169",
     "status": "completed"
    },
    "tags": []
   },
   "outputs": [],
   "source": [
    "def clean_text(text):\n",
    "  # Remove hyperlinks, html, email adress\n",
    "  text = re.sub(r'https?://\\S+|www\\.\\S+','',text)\n",
    "  text = re.sub(r'<.*?>', '', text)\n",
    "  text = re.sub(r'[a-zA-Z0-9\\._-]+@[a-zA-Z0-9\\._-]+', '', text)\n",
    "  # Contractions\n",
    "  text = contractions.fix(text)\n",
    "  # Remove multiple spaces\n",
    "  text = ' '.join(text.split())\n",
    "  # Avoid repetition of the same symbol\n",
    "  text = re.sub(r'(\\W)( ?\\1)+',  r'\\1', text)\n",
    "  return text"
   ]
  },
  {
   "cell_type": "code",
   "execution_count": 65,
   "id": "874e03f3",
   "metadata": {
    "execution": {
     "iopub.execute_input": "2023-03-06T19:28:38.251572Z",
     "iopub.status.busy": "2023-03-06T19:28:38.251107Z",
     "iopub.status.idle": "2023-03-06T19:28:41.167546Z",
     "shell.execute_reply": "2023-03-06T19:28:41.166703Z"
    },
    "papermill": {
     "duration": 2.933776,
     "end_time": "2023-03-06T19:28:41.170496",
     "exception": false,
     "start_time": "2023-03-06T19:28:38.236720",
     "status": "completed"
    },
    "tags": []
   },
   "outputs": [],
   "source": [
    "df['text'] = df['text'].apply(clean_text)"
   ]
  },
  {
   "cell_type": "code",
   "execution_count": 66,
   "id": "2eeba528",
   "metadata": {
    "execution": {
     "iopub.execute_input": "2023-03-06T19:28:41.247397Z",
     "iopub.status.busy": "2023-03-06T19:28:41.247093Z",
     "iopub.status.idle": "2023-03-06T19:28:46.050595Z",
     "shell.execute_reply": "2023-03-06T19:28:46.049663Z"
    },
    "papermill": {
     "duration": 4.843261,
     "end_time": "2023-03-06T19:28:46.053743",
     "exception": false,
     "start_time": "2023-03-06T19:28:41.210482",
     "status": "completed"
    },
    "tags": []
   },
   "outputs": [],
   "source": [
    "df['text'] = df['text'].apply(sent_tokenize)"
   ]
  },
  {
   "cell_type": "code",
   "execution_count": 67,
   "id": "1f2e059f",
   "metadata": {
    "execution": {
     "iopub.execute_input": "2023-03-06T19:28:46.129610Z",
     "iopub.status.busy": "2023-03-06T19:28:46.129304Z",
     "iopub.status.idle": "2023-03-06T19:28:46.141113Z",
     "shell.execute_reply": "2023-03-06T19:28:46.139769Z"
    },
    "papermill": {
     "duration": 0.053621,
     "end_time": "2023-03-06T19:28:46.144509",
     "exception": false,
     "start_time": "2023-03-06T19:28:46.090888",
     "status": "completed"
    },
    "tags": []
   },
   "outputs": [],
   "source": [
    "df['n_sentences'] = df['text'].apply(len)"
   ]
  },
  {
   "cell_type": "code",
   "execution_count": 68,
   "id": "45d22d8c",
   "metadata": {
    "execution": {
     "iopub.execute_input": "2023-03-06T19:28:46.192447Z",
     "iopub.status.busy": "2023-03-06T19:28:46.191898Z",
     "iopub.status.idle": "2023-03-06T19:28:46.269196Z",
     "shell.execute_reply": "2023-03-06T19:28:46.268413Z"
    },
    "papermill": {
     "duration": 0.094965,
     "end_time": "2023-03-06T19:28:46.271029",
     "exception": false,
     "start_time": "2023-03-06T19:28:46.176064",
     "status": "completed"
    },
    "tags": []
   },
   "outputs": [
    {
     "data": {
      "text/html": [
       "<div>\n",
       "<style scoped>\n",
       "    .dataframe tbody tr th:only-of-type {\n",
       "        vertical-align: middle;\n",
       "    }\n",
       "\n",
       "    .dataframe tbody tr th {\n",
       "        vertical-align: top;\n",
       "    }\n",
       "\n",
       "    .dataframe thead th {\n",
       "        text-align: right;\n",
       "    }\n",
       "</style>\n",
       "<table border=\"1\" class=\"dataframe\">\n",
       "  <thead>\n",
       "    <tr style=\"text-align: right;\">\n",
       "      <th></th>\n",
       "      <th>count</th>\n",
       "      <th>mean</th>\n",
       "      <th>std</th>\n",
       "      <th>min</th>\n",
       "      <th>25%</th>\n",
       "      <th>50%</th>\n",
       "      <th>75%</th>\n",
       "      <th>max</th>\n",
       "    </tr>\n",
       "    <tr>\n",
       "      <th>category</th>\n",
       "      <th></th>\n",
       "      <th></th>\n",
       "      <th></th>\n",
       "      <th></th>\n",
       "      <th></th>\n",
       "      <th></th>\n",
       "      <th></th>\n",
       "      <th></th>\n",
       "    </tr>\n",
       "  </thead>\n",
       "  <tbody>\n",
       "    <tr>\n",
       "      <th>talk.politics.mideast</th>\n",
       "      <td>940.0</td>\n",
       "      <td>21.461702</td>\n",
       "      <td>54.465665</td>\n",
       "      <td>0.0</td>\n",
       "      <td>4.0</td>\n",
       "      <td>8.0</td>\n",
       "      <td>19.0</td>\n",
       "      <td>777.0</td>\n",
       "    </tr>\n",
       "    <tr>\n",
       "      <th>talk.politics.misc</th>\n",
       "      <td>775.0</td>\n",
       "      <td>17.347097</td>\n",
       "      <td>46.105676</td>\n",
       "      <td>0.0</td>\n",
       "      <td>4.0</td>\n",
       "      <td>8.0</td>\n",
       "      <td>14.0</td>\n",
       "      <td>486.0</td>\n",
       "    </tr>\n",
       "    <tr>\n",
       "      <th>soc.religion.christian</th>\n",
       "      <td>997.0</td>\n",
       "      <td>16.008024</td>\n",
       "      <td>22.336104</td>\n",
       "      <td>0.0</td>\n",
       "      <td>5.0</td>\n",
       "      <td>9.0</td>\n",
       "      <td>19.0</td>\n",
       "      <td>285.0</td>\n",
       "    </tr>\n",
       "    <tr>\n",
       "      <th>talk.religion.misc</th>\n",
       "      <td>628.0</td>\n",
       "      <td>13.788217</td>\n",
       "      <td>29.335078</td>\n",
       "      <td>0.0</td>\n",
       "      <td>3.0</td>\n",
       "      <td>6.0</td>\n",
       "      <td>15.0</td>\n",
       "      <td>547.0</td>\n",
       "    </tr>\n",
       "    <tr>\n",
       "      <th>sci.crypt</th>\n",
       "      <td>991.0</td>\n",
       "      <td>13.115035</td>\n",
       "      <td>33.298268</td>\n",
       "      <td>0.0</td>\n",
       "      <td>3.0</td>\n",
       "      <td>6.0</td>\n",
       "      <td>12.0</td>\n",
       "      <td>530.0</td>\n",
       "    </tr>\n",
       "    <tr>\n",
       "      <th>alt.atheism</th>\n",
       "      <td>799.0</td>\n",
       "      <td>12.617021</td>\n",
       "      <td>28.851682</td>\n",
       "      <td>0.0</td>\n",
       "      <td>3.0</td>\n",
       "      <td>6.0</td>\n",
       "      <td>12.0</td>\n",
       "      <td>516.0</td>\n",
       "    </tr>\n",
       "    <tr>\n",
       "      <th>talk.politics.guns</th>\n",
       "      <td>910.0</td>\n",
       "      <td>12.201099</td>\n",
       "      <td>20.214259</td>\n",
       "      <td>0.0</td>\n",
       "      <td>3.0</td>\n",
       "      <td>7.0</td>\n",
       "      <td>13.0</td>\n",
       "      <td>380.0</td>\n",
       "    </tr>\n",
       "    <tr>\n",
       "      <th>comp.graphics</th>\n",
       "      <td>973.0</td>\n",
       "      <td>12.103803</td>\n",
       "      <td>47.702422</td>\n",
       "      <td>0.0</td>\n",
       "      <td>3.0</td>\n",
       "      <td>5.0</td>\n",
       "      <td>8.0</td>\n",
       "      <td>544.0</td>\n",
       "    </tr>\n",
       "    <tr>\n",
       "      <th>comp.windows.x</th>\n",
       "      <td>988.0</td>\n",
       "      <td>12.063765</td>\n",
       "      <td>41.966033</td>\n",
       "      <td>0.0</td>\n",
       "      <td>3.0</td>\n",
       "      <td>5.0</td>\n",
       "      <td>9.0</td>\n",
       "      <td>535.0</td>\n",
       "    </tr>\n",
       "    <tr>\n",
       "      <th>comp.os.ms-windows.misc</th>\n",
       "      <td>985.0</td>\n",
       "      <td>11.761421</td>\n",
       "      <td>50.346391</td>\n",
       "      <td>0.0</td>\n",
       "      <td>3.0</td>\n",
       "      <td>5.0</td>\n",
       "      <td>9.0</td>\n",
       "      <td>1210.0</td>\n",
       "    </tr>\n",
       "    <tr>\n",
       "      <th>sci.med</th>\n",
       "      <td>990.0</td>\n",
       "      <td>11.679798</td>\n",
       "      <td>24.288240</td>\n",
       "      <td>0.0</td>\n",
       "      <td>3.0</td>\n",
       "      <td>6.0</td>\n",
       "      <td>11.0</td>\n",
       "      <td>273.0</td>\n",
       "    </tr>\n",
       "    <tr>\n",
       "      <th>sci.space</th>\n",
       "      <td>987.0</td>\n",
       "      <td>10.627153</td>\n",
       "      <td>23.521834</td>\n",
       "      <td>0.0</td>\n",
       "      <td>3.0</td>\n",
       "      <td>6.0</td>\n",
       "      <td>10.0</td>\n",
       "      <td>441.0</td>\n",
       "    </tr>\n",
       "    <tr>\n",
       "      <th>rec.sport.hockey</th>\n",
       "      <td>999.0</td>\n",
       "      <td>10.117117</td>\n",
       "      <td>22.959782</td>\n",
       "      <td>0.0</td>\n",
       "      <td>3.0</td>\n",
       "      <td>5.0</td>\n",
       "      <td>10.0</td>\n",
       "      <td>468.0</td>\n",
       "    </tr>\n",
       "    <tr>\n",
       "      <th>rec.sport.baseball</th>\n",
       "      <td>994.0</td>\n",
       "      <td>8.224346</td>\n",
       "      <td>10.761021</td>\n",
       "      <td>0.0</td>\n",
       "      <td>3.0</td>\n",
       "      <td>5.0</td>\n",
       "      <td>10.0</td>\n",
       "      <td>132.0</td>\n",
       "    </tr>\n",
       "    <tr>\n",
       "      <th>comp.sys.ibm.pc.hardware</th>\n",
       "      <td>982.0</td>\n",
       "      <td>8.023422</td>\n",
       "      <td>11.917336</td>\n",
       "      <td>0.0</td>\n",
       "      <td>3.0</td>\n",
       "      <td>6.0</td>\n",
       "      <td>9.0</td>\n",
       "      <td>215.0</td>\n",
       "    </tr>\n",
       "    <tr>\n",
       "      <th>sci.electronics</th>\n",
       "      <td>984.0</td>\n",
       "      <td>7.727642</td>\n",
       "      <td>25.604691</td>\n",
       "      <td>0.0</td>\n",
       "      <td>3.0</td>\n",
       "      <td>5.0</td>\n",
       "      <td>9.0</td>\n",
       "      <td>785.0</td>\n",
       "    </tr>\n",
       "    <tr>\n",
       "      <th>comp.sys.mac.hardware</th>\n",
       "      <td>963.0</td>\n",
       "      <td>7.539979</td>\n",
       "      <td>23.219445</td>\n",
       "      <td>0.0</td>\n",
       "      <td>3.0</td>\n",
       "      <td>5.0</td>\n",
       "      <td>8.0</td>\n",
       "      <td>595.0</td>\n",
       "    </tr>\n",
       "    <tr>\n",
       "      <th>rec.autos</th>\n",
       "      <td>990.0</td>\n",
       "      <td>7.493939</td>\n",
       "      <td>11.887638</td>\n",
       "      <td>0.0</td>\n",
       "      <td>3.0</td>\n",
       "      <td>5.0</td>\n",
       "      <td>9.0</td>\n",
       "      <td>199.0</td>\n",
       "    </tr>\n",
       "    <tr>\n",
       "      <th>rec.motorcycles</th>\n",
       "      <td>996.0</td>\n",
       "      <td>6.955823</td>\n",
       "      <td>12.681013</td>\n",
       "      <td>0.0</td>\n",
       "      <td>3.0</td>\n",
       "      <td>5.0</td>\n",
       "      <td>8.0</td>\n",
       "      <td>352.0</td>\n",
       "    </tr>\n",
       "    <tr>\n",
       "      <th>misc.forsale</th>\n",
       "      <td>975.0</td>\n",
       "      <td>6.734359</td>\n",
       "      <td>8.609257</td>\n",
       "      <td>0.0</td>\n",
       "      <td>3.0</td>\n",
       "      <td>5.0</td>\n",
       "      <td>8.0</td>\n",
       "      <td>156.0</td>\n",
       "    </tr>\n",
       "  </tbody>\n",
       "</table>\n",
       "</div>"
      ],
      "text/plain": [
       "                          count       mean        std  min  25%  50%   75%  \\\n",
       "category                                                                     \n",
       "talk.politics.mideast     940.0  21.461702  54.465665  0.0  4.0  8.0  19.0   \n",
       "talk.politics.misc        775.0  17.347097  46.105676  0.0  4.0  8.0  14.0   \n",
       "soc.religion.christian    997.0  16.008024  22.336104  0.0  5.0  9.0  19.0   \n",
       "talk.religion.misc        628.0  13.788217  29.335078  0.0  3.0  6.0  15.0   \n",
       "sci.crypt                 991.0  13.115035  33.298268  0.0  3.0  6.0  12.0   \n",
       "alt.atheism               799.0  12.617021  28.851682  0.0  3.0  6.0  12.0   \n",
       "talk.politics.guns        910.0  12.201099  20.214259  0.0  3.0  7.0  13.0   \n",
       "comp.graphics             973.0  12.103803  47.702422  0.0  3.0  5.0   8.0   \n",
       "comp.windows.x            988.0  12.063765  41.966033  0.0  3.0  5.0   9.0   \n",
       "comp.os.ms-windows.misc   985.0  11.761421  50.346391  0.0  3.0  5.0   9.0   \n",
       "sci.med                   990.0  11.679798  24.288240  0.0  3.0  6.0  11.0   \n",
       "sci.space                 987.0  10.627153  23.521834  0.0  3.0  6.0  10.0   \n",
       "rec.sport.hockey          999.0  10.117117  22.959782  0.0  3.0  5.0  10.0   \n",
       "rec.sport.baseball        994.0   8.224346  10.761021  0.0  3.0  5.0  10.0   \n",
       "comp.sys.ibm.pc.hardware  982.0   8.023422  11.917336  0.0  3.0  6.0   9.0   \n",
       "sci.electronics           984.0   7.727642  25.604691  0.0  3.0  5.0   9.0   \n",
       "comp.sys.mac.hardware     963.0   7.539979  23.219445  0.0  3.0  5.0   8.0   \n",
       "rec.autos                 990.0   7.493939  11.887638  0.0  3.0  5.0   9.0   \n",
       "rec.motorcycles           996.0   6.955823  12.681013  0.0  3.0  5.0   8.0   \n",
       "misc.forsale              975.0   6.734359   8.609257  0.0  3.0  5.0   8.0   \n",
       "\n",
       "                             max  \n",
       "category                          \n",
       "talk.politics.mideast      777.0  \n",
       "talk.politics.misc         486.0  \n",
       "soc.religion.christian     285.0  \n",
       "talk.religion.misc         547.0  \n",
       "sci.crypt                  530.0  \n",
       "alt.atheism                516.0  \n",
       "talk.politics.guns         380.0  \n",
       "comp.graphics              544.0  \n",
       "comp.windows.x             535.0  \n",
       "comp.os.ms-windows.misc   1210.0  \n",
       "sci.med                    273.0  \n",
       "sci.space                  441.0  \n",
       "rec.sport.hockey           468.0  \n",
       "rec.sport.baseball         132.0  \n",
       "comp.sys.ibm.pc.hardware   215.0  \n",
       "sci.electronics            785.0  \n",
       "comp.sys.mac.hardware      595.0  \n",
       "rec.autos                  199.0  \n",
       "rec.motorcycles            352.0  \n",
       "misc.forsale               156.0  "
      ]
     },
     "execution_count": 68,
     "metadata": {},
     "output_type": "execute_result"
    }
   ],
   "source": [
    "df.groupby('category')['n_sentences'].describe().sort_values('mean', ascending=False)"
   ]
  },
  {
   "cell_type": "code",
   "execution_count": 69,
   "id": "402d9344",
   "metadata": {
    "execution": {
     "iopub.execute_input": "2023-03-06T19:28:46.302267Z",
     "iopub.status.busy": "2023-03-06T19:28:46.301819Z",
     "iopub.status.idle": "2023-03-06T19:28:46.315417Z",
     "shell.execute_reply": "2023-03-06T19:28:46.314201Z"
    },
    "papermill": {
     "duration": 0.030429,
     "end_time": "2023-03-06T19:28:46.317571",
     "exception": false,
     "start_time": "2023-03-06T19:28:46.287142",
     "status": "completed"
    },
    "tags": []
   },
   "outputs": [
    {
     "data": {
      "text/plain": [
       "soc.religion.christian      227\n",
       "talk.politics.mideast       218\n",
       "talk.politics.guns          135\n",
       "talk.politics.misc          120\n",
       "sci.crypt                   118\n",
       "talk.religion.misc          114\n",
       "alt.atheism                  99\n",
       "sci.med                      97\n",
       "rec.sport.hockey             90\n",
       "sci.space                    89\n",
       "rec.sport.baseball           77\n",
       "comp.graphics                59\n",
       "comp.os.ms-windows.misc      52\n",
       "comp.windows.x               50\n",
       "rec.autos                    44\n",
       "comp.sys.ibm.pc.hardware     44\n",
       "misc.forsale                 40\n",
       "sci.electronics              37\n",
       "rec.motorcycles              34\n",
       "comp.sys.mac.hardware        31\n",
       "Name: category, dtype: int64"
      ]
     },
     "execution_count": 69,
     "metadata": {},
     "output_type": "execute_result"
    }
   ],
   "source": [
    "df[df['n_sentences']>20]['category'].value_counts()"
   ]
  },
  {
   "cell_type": "code",
   "execution_count": 70,
   "id": "cb6c344f",
   "metadata": {
    "execution": {
     "iopub.execute_input": "2023-03-06T19:28:46.347566Z",
     "iopub.status.busy": "2023-03-06T19:28:46.347089Z",
     "iopub.status.idle": "2023-03-06T19:28:46.406287Z",
     "shell.execute_reply": "2023-03-06T19:28:46.405053Z"
    },
    "papermill": {
     "duration": 0.077206,
     "end_time": "2023-03-06T19:28:46.409102",
     "exception": false,
     "start_time": "2023-03-06T19:28:46.331896",
     "status": "completed"
    },
    "tags": []
   },
   "outputs": [
    {
     "data": {
      "text/html": [
       "<div>\n",
       "<style scoped>\n",
       "    .dataframe tbody tr th:only-of-type {\n",
       "        vertical-align: middle;\n",
       "    }\n",
       "\n",
       "    .dataframe tbody tr th {\n",
       "        vertical-align: top;\n",
       "    }\n",
       "\n",
       "    .dataframe thead th {\n",
       "        text-align: right;\n",
       "    }\n",
       "</style>\n",
       "<table border=\"1\" class=\"dataframe\">\n",
       "  <thead>\n",
       "    <tr style=\"text-align: right;\">\n",
       "      <th></th>\n",
       "      <th>count</th>\n",
       "      <th>mean</th>\n",
       "      <th>std</th>\n",
       "      <th>min</th>\n",
       "      <th>25%</th>\n",
       "      <th>50%</th>\n",
       "      <th>75%</th>\n",
       "      <th>max</th>\n",
       "    </tr>\n",
       "    <tr>\n",
       "      <th>macro_category</th>\n",
       "      <th></th>\n",
       "      <th></th>\n",
       "      <th></th>\n",
       "      <th></th>\n",
       "      <th></th>\n",
       "      <th></th>\n",
       "      <th></th>\n",
       "      <th></th>\n",
       "    </tr>\n",
       "  </thead>\n",
       "  <tbody>\n",
       "    <tr>\n",
       "      <th>talk</th>\n",
       "      <td>2625.0</td>\n",
       "      <td>17.036571</td>\n",
       "      <td>42.956925</td>\n",
       "      <td>0.0</td>\n",
       "      <td>4.0</td>\n",
       "      <td>8.0</td>\n",
       "      <td>15.0</td>\n",
       "      <td>777.0</td>\n",
       "    </tr>\n",
       "    <tr>\n",
       "      <th>religion</th>\n",
       "      <td>2424.0</td>\n",
       "      <td>14.315182</td>\n",
       "      <td>26.535201</td>\n",
       "      <td>0.0</td>\n",
       "      <td>4.0</td>\n",
       "      <td>7.0</td>\n",
       "      <td>16.0</td>\n",
       "      <td>547.0</td>\n",
       "    </tr>\n",
       "    <tr>\n",
       "      <th>sci</th>\n",
       "      <td>3952.0</td>\n",
       "      <td>10.792763</td>\n",
       "      <td>27.029130</td>\n",
       "      <td>0.0</td>\n",
       "      <td>3.0</td>\n",
       "      <td>6.0</td>\n",
       "      <td>10.0</td>\n",
       "      <td>785.0</td>\n",
       "    </tr>\n",
       "    <tr>\n",
       "      <th>comp</th>\n",
       "      <td>4891.0</td>\n",
       "      <td>10.308935</td>\n",
       "      <td>38.166062</td>\n",
       "      <td>0.0</td>\n",
       "      <td>3.0</td>\n",
       "      <td>5.0</td>\n",
       "      <td>9.0</td>\n",
       "      <td>1210.0</td>\n",
       "    </tr>\n",
       "    <tr>\n",
       "      <th>rec</th>\n",
       "      <td>3979.0</td>\n",
       "      <td>8.200302</td>\n",
       "      <td>15.425581</td>\n",
       "      <td>0.0</td>\n",
       "      <td>3.0</td>\n",
       "      <td>5.0</td>\n",
       "      <td>9.0</td>\n",
       "      <td>468.0</td>\n",
       "    </tr>\n",
       "    <tr>\n",
       "      <th>misc</th>\n",
       "      <td>975.0</td>\n",
       "      <td>6.734359</td>\n",
       "      <td>8.609257</td>\n",
       "      <td>0.0</td>\n",
       "      <td>3.0</td>\n",
       "      <td>5.0</td>\n",
       "      <td>8.0</td>\n",
       "      <td>156.0</td>\n",
       "    </tr>\n",
       "  </tbody>\n",
       "</table>\n",
       "</div>"
      ],
      "text/plain": [
       "                 count       mean        std  min  25%  50%   75%     max\n",
       "macro_category                                                           \n",
       "talk            2625.0  17.036571  42.956925  0.0  4.0  8.0  15.0   777.0\n",
       "religion        2424.0  14.315182  26.535201  0.0  4.0  7.0  16.0   547.0\n",
       "sci             3952.0  10.792763  27.029130  0.0  3.0  6.0  10.0   785.0\n",
       "comp            4891.0  10.308935  38.166062  0.0  3.0  5.0   9.0  1210.0\n",
       "rec             3979.0   8.200302  15.425581  0.0  3.0  5.0   9.0   468.0\n",
       "misc             975.0   6.734359   8.609257  0.0  3.0  5.0   8.0   156.0"
      ]
     },
     "execution_count": 70,
     "metadata": {},
     "output_type": "execute_result"
    }
   ],
   "source": [
    "df.groupby('macro_category')['n_sentences'].describe().sort_values('mean', ascending=False)"
   ]
  },
  {
   "cell_type": "code",
   "execution_count": 71,
   "id": "cd0c4aa0",
   "metadata": {
    "execution": {
     "iopub.execute_input": "2023-03-06T19:28:46.475766Z",
     "iopub.status.busy": "2023-03-06T19:28:46.475308Z",
     "iopub.status.idle": "2023-03-06T19:28:46.487425Z",
     "shell.execute_reply": "2023-03-06T19:28:46.486299Z"
    },
    "papermill": {
     "duration": 0.045924,
     "end_time": "2023-03-06T19:28:46.489371",
     "exception": false,
     "start_time": "2023-03-06T19:28:46.443447",
     "status": "completed"
    },
    "tags": []
   },
   "outputs": [
    {
     "data": {
      "text/plain": [
       "talk        473\n",
       "religion    440\n",
       "sci         341\n",
       "rec         245\n",
       "comp        236\n",
       "misc         40\n",
       "Name: macro_category, dtype: int64"
      ]
     },
     "execution_count": 71,
     "metadata": {},
     "output_type": "execute_result"
    }
   ],
   "source": [
    "df[df['n_sentences']>20]['macro_category'].value_counts()"
   ]
  },
  {
   "cell_type": "code",
   "execution_count": 72,
   "id": "c1a17832",
   "metadata": {
    "execution": {
     "iopub.execute_input": "2023-03-06T19:28:46.522193Z",
     "iopub.status.busy": "2023-03-06T19:28:46.520831Z",
     "iopub.status.idle": "2023-03-06T19:28:46.540272Z",
     "shell.execute_reply": "2023-03-06T19:28:46.539238Z"
    },
    "papermill": {
     "duration": 0.039411,
     "end_time": "2023-03-06T19:28:46.542989",
     "exception": false,
     "start_time": "2023-03-06T19:28:46.503578",
     "status": "completed"
    },
    "tags": []
   },
   "outputs": [],
   "source": [
    "df = df[df['n_sentences']>20]"
   ]
  },
  {
   "cell_type": "code",
   "execution_count": 73,
   "id": "6487be5d",
   "metadata": {
    "execution": {
     "iopub.execute_input": "2023-03-06T19:28:46.580417Z",
     "iopub.status.busy": "2023-03-06T19:28:46.579600Z",
     "iopub.status.idle": "2023-03-06T19:28:46.589117Z",
     "shell.execute_reply": "2023-03-06T19:28:46.587811Z"
    },
    "papermill": {
     "duration": 0.029458,
     "end_time": "2023-03-06T19:28:46.590954",
     "exception": false,
     "start_time": "2023-03-06T19:28:46.561496",
     "status": "completed"
    },
    "tags": []
   },
   "outputs": [],
   "source": [
    "df = df.drop(columns=['category','n_sentences'])"
   ]
  },
  {
   "cell_type": "code",
   "execution_count": 74,
   "id": "d64104b2",
   "metadata": {
    "execution": {
     "iopub.execute_input": "2023-03-06T19:28:46.626049Z",
     "iopub.status.busy": "2023-03-06T19:28:46.625788Z",
     "iopub.status.idle": "2023-03-06T19:28:46.630716Z",
     "shell.execute_reply": "2023-03-06T19:28:46.629699Z"
    },
    "papermill": {
     "duration": 0.023976,
     "end_time": "2023-03-06T19:28:46.632641",
     "exception": false,
     "start_time": "2023-03-06T19:28:46.608665",
     "status": "completed"
    },
    "tags": []
   },
   "outputs": [],
   "source": [
    "df = df.reset_index(drop=True)"
   ]
  },
  {
   "cell_type": "code",
   "execution_count": 75,
   "id": "c3638a83",
   "metadata": {
    "execution": {
     "iopub.execute_input": "2023-03-06T19:28:46.667822Z",
     "iopub.status.busy": "2023-03-06T19:28:46.667547Z",
     "iopub.status.idle": "2023-03-06T19:28:46.674158Z",
     "shell.execute_reply": "2023-03-06T19:28:46.672293Z"
    },
    "papermill": {
     "duration": 0.025967,
     "end_time": "2023-03-06T19:28:46.676802",
     "exception": false,
     "start_time": "2023-03-06T19:28:46.650835",
     "status": "completed"
    },
    "tags": []
   },
   "outputs": [],
   "source": [
    "df = df.rename(columns={'macro_category':'class'})"
   ]
  },
  {
   "cell_type": "code",
   "execution_count": 76,
   "id": "a965114c",
   "metadata": {
    "execution": {
     "iopub.execute_input": "2023-03-06T19:28:46.710257Z",
     "iopub.status.busy": "2023-03-06T19:28:46.709328Z",
     "iopub.status.idle": "2023-03-06T19:28:46.958079Z",
     "shell.execute_reply": "2023-03-06T19:28:46.957167Z"
    },
    "papermill": {
     "duration": 0.267938,
     "end_time": "2023-03-06T19:28:46.960192",
     "exception": false,
     "start_time": "2023-03-06T19:28:46.692254",
     "status": "completed"
    },
    "tags": []
   },
   "outputs": [],
   "source": [
    "ds_id = '20ng'\n",
    "\n",
    "# Create directory\n",
    "data_ds_path = base_path + ds_id\n",
    "\n",
    "os.makedirs(data_ds_path, exist_ok=True)\n",
    "\n",
    "df.to_csv(f'{data_ds_path}/data.csv', index=False)"
   ]
  },
  {
   "cell_type": "code",
   "execution_count": null,
   "id": "86006c59",
   "metadata": {
    "papermill": {
     "duration": 0.0149,
     "end_time": "2023-03-06T19:28:46.993162",
     "exception": false,
     "start_time": "2023-03-06T19:28:46.978262",
     "status": "completed"
    },
    "tags": []
   },
   "outputs": [],
   "source": []
  }
 ],
 "metadata": {
  "kernelspec": {
   "display_name": "Python 3 (ipykernel)",
   "language": "python",
   "name": "python3"
  },
  "language_info": {
   "codemirror_mode": {
    "name": "ipython",
    "version": 3
   },
   "file_extension": ".py",
   "mimetype": "text/x-python",
   "name": "python",
   "nbconvert_exporter": "python",
   "pygments_lexer": "ipython3",
   "version": "3.9.16"
  },
  "papermill": {
   "default_parameters": {},
   "duration": 50.588886,
   "end_time": "2023-03-06T19:28:47.930934",
   "environment_variables": {},
   "exception": null,
   "input_path": "08_classification_ds_preparation.ipynb",
   "output_path": "08_classification_ds_preparation.ipynb",
   "parameters": {},
   "start_time": "2023-03-06T19:27:57.342048",
   "version": "2.4.0"
  },
  "vscode": {
   "interpreter": {
    "hash": "eb8d1ded7c87c6f9c253b40add648304d6b51d2e38393955e855effc7e6f899a"
   }
  }
 },
 "nbformat": 4,
 "nbformat_minor": 5
}
