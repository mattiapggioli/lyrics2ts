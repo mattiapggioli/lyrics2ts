{
 "cells": [
  {
   "cell_type": "markdown",
   "id": "a4683155",
   "metadata": {
    "papermill": {
     "duration": 0.02551,
     "end_time": "2023-03-04T19:45:34.960176",
     "exception": false,
     "start_time": "2023-03-04T19:45:34.934666",
     "status": "completed"
    },
    "tags": []
   },
   "source": [
    "# Classification Dataset Preparation"
   ]
  },
  {
   "cell_type": "code",
   "execution_count": 1,
   "id": "d0e2e95f",
   "metadata": {
    "execution": {
     "iopub.execute_input": "2023-03-04T19:45:34.998140Z",
     "iopub.status.busy": "2023-03-04T19:45:34.997899Z",
     "iopub.status.idle": "2023-03-04T19:45:36.471663Z",
     "shell.execute_reply": "2023-03-04T19:45:36.470728Z"
    },
    "papermill": {
     "duration": 1.49135,
     "end_time": "2023-03-04T19:45:36.474628",
     "exception": false,
     "start_time": "2023-03-04T19:45:34.983278",
     "status": "completed"
    },
    "tags": []
   },
   "outputs": [],
   "source": [
    "%matplotlib inline\n",
    "import pandas as pd\n",
    "import numpy as np\n",
    "import matplotlib.pyplot as plt\n",
    "import seaborn as sns\n",
    "import tqdm\n",
    "import random\n",
    "import os\n",
    "import ast\n",
    "import re\n",
    "from nltk.tokenize import sent_tokenize\n",
    "from sklearn.datasets import fetch_20newsgroups\n",
    "import contractions\n",
    "from gensim.utils import tokenize"
   ]
  },
  {
   "cell_type": "code",
   "execution_count": 2,
   "id": "7efbce4a",
   "metadata": {
    "execution": {
     "iopub.execute_input": "2023-03-04T19:45:36.525947Z",
     "iopub.status.busy": "2023-03-04T19:45:36.525530Z",
     "iopub.status.idle": "2023-03-04T19:45:36.530338Z",
     "shell.execute_reply": "2023-03-04T19:45:36.529245Z"
    },
    "papermill": {
     "duration": 0.034129,
     "end_time": "2023-03-04T19:45:36.533544",
     "exception": false,
     "start_time": "2023-03-04T19:45:36.499415",
     "status": "completed"
    },
    "tags": []
   },
   "outputs": [],
   "source": [
    "base_path = '../data/classification/'"
   ]
  },
  {
   "cell_type": "markdown",
   "id": "ae4b94ad",
   "metadata": {
    "papermill": {
     "duration": 0.013775,
     "end_time": "2023-03-04T19:45:36.572383",
     "exception": false,
     "start_time": "2023-03-04T19:45:36.558608",
     "status": "completed"
    },
    "tags": []
   },
   "source": [
    "## Lyrics Dataset"
   ]
  },
  {
   "cell_type": "code",
   "execution_count": 3,
   "id": "c1e06dfa",
   "metadata": {
    "execution": {
     "iopub.execute_input": "2023-03-04T19:45:36.591730Z",
     "iopub.status.busy": "2023-03-04T19:45:36.590842Z",
     "iopub.status.idle": "2023-03-04T19:45:37.234010Z",
     "shell.execute_reply": "2023-03-04T19:45:37.233031Z"
    },
    "papermill": {
     "duration": 0.655873,
     "end_time": "2023-03-04T19:45:37.236827",
     "exception": false,
     "start_time": "2023-03-04T19:45:36.580954",
     "status": "completed"
    },
    "tags": []
   },
   "outputs": [],
   "source": [
    "df = pd.read_csv('../data/lyrics.csv')"
   ]
  },
  {
   "cell_type": "code",
   "execution_count": 4,
   "id": "1122c337",
   "metadata": {
    "execution": {
     "iopub.execute_input": "2023-03-04T19:45:37.261226Z",
     "iopub.status.busy": "2023-03-04T19:45:37.260912Z",
     "iopub.status.idle": "2023-03-04T19:45:37.273384Z",
     "shell.execute_reply": "2023-03-04T19:45:37.272336Z"
    },
    "papermill": {
     "duration": 0.02624,
     "end_time": "2023-03-04T19:45:37.275462",
     "exception": false,
     "start_time": "2023-03-04T19:45:37.249222",
     "status": "completed"
    },
    "tags": []
   },
   "outputs": [
    {
     "data": {
      "text/html": [
       "<div>\n",
       "<style scoped>\n",
       "    .dataframe tbody tr th:only-of-type {\n",
       "        vertical-align: middle;\n",
       "    }\n",
       "\n",
       "    .dataframe tbody tr th {\n",
       "        vertical-align: top;\n",
       "    }\n",
       "\n",
       "    .dataframe thead th {\n",
       "        text-align: right;\n",
       "    }\n",
       "</style>\n",
       "<table border=\"1\" class=\"dataframe\">\n",
       "  <thead>\n",
       "    <tr style=\"text-align: right;\">\n",
       "      <th></th>\n",
       "      <th>lyrics</th>\n",
       "      <th>genre</th>\n",
       "      <th>id</th>\n",
       "    </tr>\n",
       "  </thead>\n",
       "  <tbody>\n",
       "    <tr>\n",
       "      <th>0</th>\n",
       "      <td>['So long', 'My sweet love', 'I miss you', \"Mo...</td>\n",
       "      <td>pop</td>\n",
       "      <td>0</td>\n",
       "    </tr>\n",
       "    <tr>\n",
       "      <th>1</th>\n",
       "      <td>[\"It won't be long before I'm leaving here\", \"...</td>\n",
       "      <td>pop</td>\n",
       "      <td>1</td>\n",
       "    </tr>\n",
       "    <tr>\n",
       "      <th>2</th>\n",
       "      <td>['Are we crazy?', 'Living our lives through a ...</td>\n",
       "      <td>pop</td>\n",
       "      <td>2</td>\n",
       "    </tr>\n",
       "    <tr>\n",
       "      <th>3</th>\n",
       "      <td>['When did it go wrong, I will never know', 'I...</td>\n",
       "      <td>pop</td>\n",
       "      <td>3</td>\n",
       "    </tr>\n",
       "    <tr>\n",
       "      <th>4</th>\n",
       "      <td>[\"I've waited all this time\", 'Counting minute...</td>\n",
       "      <td>pop</td>\n",
       "      <td>4</td>\n",
       "    </tr>\n",
       "  </tbody>\n",
       "</table>\n",
       "</div>"
      ],
      "text/plain": [
       "                                              lyrics genre  id\n",
       "0  ['So long', 'My sweet love', 'I miss you', \"Mo...   pop   0\n",
       "1  [\"It won't be long before I'm leaving here\", \"...   pop   1\n",
       "2  ['Are we crazy?', 'Living our lives through a ...   pop   2\n",
       "3  ['When did it go wrong, I will never know', 'I...   pop   3\n",
       "4  [\"I've waited all this time\", 'Counting minute...   pop   4"
      ]
     },
     "execution_count": 4,
     "metadata": {},
     "output_type": "execute_result"
    }
   ],
   "source": [
    "df.head()"
   ]
  },
  {
   "cell_type": "code",
   "execution_count": 5,
   "id": "a87a3cf0",
   "metadata": {
    "execution": {
     "iopub.execute_input": "2023-03-04T19:45:37.294805Z",
     "iopub.status.busy": "2023-03-04T19:45:37.294493Z",
     "iopub.status.idle": "2023-03-04T19:45:37.323712Z",
     "shell.execute_reply": "2023-03-04T19:45:37.322249Z"
    },
    "papermill": {
     "duration": 0.04144,
     "end_time": "2023-03-04T19:45:37.326278",
     "exception": false,
     "start_time": "2023-03-04T19:45:37.284838",
     "status": "completed"
    },
    "tags": []
   },
   "outputs": [
    {
     "name": "stdout",
     "output_type": "stream",
     "text": [
      "<class 'pandas.core.frame.DataFrame'>\n",
      "RangeIndex: 36000 entries, 0 to 35999\n",
      "Data columns (total 3 columns):\n",
      " #   Column  Non-Null Count  Dtype \n",
      "---  ------  --------------  ----- \n",
      " 0   lyrics  36000 non-null  object\n",
      " 1   genre   36000 non-null  object\n",
      " 2   id      36000 non-null  int64 \n",
      "dtypes: int64(1), object(2)\n",
      "memory usage: 843.9+ KB\n"
     ]
    }
   ],
   "source": [
    "df.info()"
   ]
  },
  {
   "cell_type": "code",
   "execution_count": 6,
   "id": "0d7c1824",
   "metadata": {
    "execution": {
     "iopub.execute_input": "2023-03-04T19:45:37.357079Z",
     "iopub.status.busy": "2023-03-04T19:45:37.356254Z",
     "iopub.status.idle": "2023-03-04T19:45:37.375772Z",
     "shell.execute_reply": "2023-03-04T19:45:37.374378Z"
    },
    "papermill": {
     "duration": 0.0318,
     "end_time": "2023-03-04T19:45:37.377996",
     "exception": false,
     "start_time": "2023-03-04T19:45:37.346196",
     "status": "completed"
    },
    "tags": []
   },
   "outputs": [
    {
     "data": {
      "text/html": [
       "<div>\n",
       "<style scoped>\n",
       "    .dataframe tbody tr th:only-of-type {\n",
       "        vertical-align: middle;\n",
       "    }\n",
       "\n",
       "    .dataframe tbody tr th {\n",
       "        vertical-align: top;\n",
       "    }\n",
       "\n",
       "    .dataframe thead th {\n",
       "        text-align: right;\n",
       "    }\n",
       "</style>\n",
       "<table border=\"1\" class=\"dataframe\">\n",
       "  <thead>\n",
       "    <tr style=\"text-align: right;\">\n",
       "      <th></th>\n",
       "      <th>lyrics</th>\n",
       "      <th>genre</th>\n",
       "    </tr>\n",
       "  </thead>\n",
       "  <tbody>\n",
       "    <tr>\n",
       "      <th>0</th>\n",
       "      <td>['So long', 'My sweet love', 'I miss you', \"Mo...</td>\n",
       "      <td>pop</td>\n",
       "    </tr>\n",
       "    <tr>\n",
       "      <th>1</th>\n",
       "      <td>[\"It won't be long before I'm leaving here\", \"...</td>\n",
       "      <td>pop</td>\n",
       "    </tr>\n",
       "    <tr>\n",
       "      <th>2</th>\n",
       "      <td>['Are we crazy?', 'Living our lives through a ...</td>\n",
       "      <td>pop</td>\n",
       "    </tr>\n",
       "    <tr>\n",
       "      <th>3</th>\n",
       "      <td>['When did it go wrong, I will never know', 'I...</td>\n",
       "      <td>pop</td>\n",
       "    </tr>\n",
       "    <tr>\n",
       "      <th>4</th>\n",
       "      <td>[\"I've waited all this time\", 'Counting minute...</td>\n",
       "      <td>pop</td>\n",
       "    </tr>\n",
       "    <tr>\n",
       "      <th>...</th>\n",
       "      <td>...</td>\n",
       "      <td>...</td>\n",
       "    </tr>\n",
       "    <tr>\n",
       "      <th>35995</th>\n",
       "      <td>['Father can you hear me?', 'How have I let yo...</td>\n",
       "      <td>rock</td>\n",
       "    </tr>\n",
       "    <tr>\n",
       "      <th>35996</th>\n",
       "      <td>['In the Kingdom of Spain', 'There are such co...</td>\n",
       "      <td>rock</td>\n",
       "    </tr>\n",
       "    <tr>\n",
       "      <th>35997</th>\n",
       "      <td>['Stagger Lee, can you Do The Locomotion', \"Lu...</td>\n",
       "      <td>rock</td>\n",
       "    </tr>\n",
       "    <tr>\n",
       "      <th>35998</th>\n",
       "      <td>[\"Look out, Mama, there's a white boat comin' ...</td>\n",
       "      <td>rock</td>\n",
       "    </tr>\n",
       "    <tr>\n",
       "      <th>35999</th>\n",
       "      <td>['The story behind the painting I drew is alre...</td>\n",
       "      <td>rock</td>\n",
       "    </tr>\n",
       "  </tbody>\n",
       "</table>\n",
       "<p>36000 rows × 2 columns</p>\n",
       "</div>"
      ],
      "text/plain": [
       "                                                  lyrics genre\n",
       "0      ['So long', 'My sweet love', 'I miss you', \"Mo...   pop\n",
       "1      [\"It won't be long before I'm leaving here\", \"...   pop\n",
       "2      ['Are we crazy?', 'Living our lives through a ...   pop\n",
       "3      ['When did it go wrong, I will never know', 'I...   pop\n",
       "4      [\"I've waited all this time\", 'Counting minute...   pop\n",
       "...                                                  ...   ...\n",
       "35995  ['Father can you hear me?', 'How have I let yo...  rock\n",
       "35996  ['In the Kingdom of Spain', 'There are such co...  rock\n",
       "35997  ['Stagger Lee, can you Do The Locomotion', \"Lu...  rock\n",
       "35998  [\"Look out, Mama, there's a white boat comin' ...  rock\n",
       "35999  ['The story behind the painting I drew is alre...  rock\n",
       "\n",
       "[36000 rows x 2 columns]"
      ]
     },
     "execution_count": 6,
     "metadata": {},
     "output_type": "execute_result"
    }
   ],
   "source": [
    "df.drop(columns=['id'])"
   ]
  },
  {
   "cell_type": "code",
   "execution_count": 7,
   "id": "4a801310",
   "metadata": {
    "execution": {
     "iopub.execute_input": "2023-03-04T19:45:37.400981Z",
     "iopub.status.busy": "2023-03-04T19:45:37.400031Z",
     "iopub.status.idle": "2023-03-04T19:45:37.408974Z",
     "shell.execute_reply": "2023-03-04T19:45:37.407763Z"
    },
    "papermill": {
     "duration": 0.021405,
     "end_time": "2023-03-04T19:45:37.411044",
     "exception": false,
     "start_time": "2023-03-04T19:45:37.389639",
     "status": "completed"
    },
    "tags": []
   },
   "outputs": [],
   "source": [
    "df = df.rename(columns={'lyrics':'text','genre':'class'})"
   ]
  },
  {
   "cell_type": "code",
   "execution_count": 8,
   "id": "ec4b07bb",
   "metadata": {
    "execution": {
     "iopub.execute_input": "2023-03-04T19:45:37.431843Z",
     "iopub.status.busy": "2023-03-04T19:45:37.430995Z",
     "iopub.status.idle": "2023-03-04T19:45:40.523844Z",
     "shell.execute_reply": "2023-03-04T19:45:40.522883Z"
    },
    "papermill": {
     "duration": 3.10609,
     "end_time": "2023-03-04T19:45:40.526661",
     "exception": false,
     "start_time": "2023-03-04T19:45:37.420571",
     "status": "completed"
    },
    "tags": []
   },
   "outputs": [],
   "source": [
    "df['text'] = df['text'].apply(lambda x: ast.literal_eval(x))"
   ]
  },
  {
   "cell_type": "code",
   "execution_count": 9,
   "id": "1ecb376b",
   "metadata": {
    "execution": {
     "iopub.execute_input": "2023-03-04T19:45:40.564364Z",
     "iopub.status.busy": "2023-03-04T19:45:40.564077Z",
     "iopub.status.idle": "2023-03-04T19:45:40.573390Z",
     "shell.execute_reply": "2023-03-04T19:45:40.572462Z"
    },
    "papermill": {
     "duration": 0.038045,
     "end_time": "2023-03-04T19:45:40.576698",
     "exception": false,
     "start_time": "2023-03-04T19:45:40.538653",
     "status": "completed"
    },
    "tags": []
   },
   "outputs": [
    {
     "data": {
      "text/plain": [
       "pop     12000\n",
       "rap     12000\n",
       "rock    12000\n",
       "Name: class, dtype: int64"
      ]
     },
     "execution_count": 9,
     "metadata": {},
     "output_type": "execute_result"
    }
   ],
   "source": [
    "df['class'].value_counts()"
   ]
  },
  {
   "cell_type": "code",
   "execution_count": 10,
   "id": "bcec4d77",
   "metadata": {
    "execution": {
     "iopub.execute_input": "2023-03-04T19:45:40.623769Z",
     "iopub.status.busy": "2023-03-04T19:45:40.622751Z",
     "iopub.status.idle": "2023-03-04T19:45:43.850381Z",
     "shell.execute_reply": "2023-03-04T19:45:43.849188Z"
    },
    "papermill": {
     "duration": 3.253382,
     "end_time": "2023-03-04T19:45:43.853841",
     "exception": false,
     "start_time": "2023-03-04T19:45:40.600459",
     "status": "completed"
    },
    "tags": []
   },
   "outputs": [],
   "source": [
    "combinations = [['pop', 'rap', 'rock'], ['pop','rock'], ['rap','rock']]\n",
    "\n",
    "for combination in combinations:\n",
    "    # Create id for the configuration        \n",
    "    ds_id = '-'.join(sorted([re.sub(r'[aeiou]','',c)[:2] for c in combination]))\n",
    "    \n",
    "    # Create directory\n",
    "    data_ds_path = base_path + ds_id\n",
    "\n",
    "    os.makedirs(data_ds_path, exist_ok=True)\n",
    "    \n",
    "    df_sample = df[df['class'].isin(combination)].reset_index()\n",
    "    df_sample.to_csv(f'{data_ds_path}/data.csv', index=False)"
   ]
  },
  {
   "cell_type": "markdown",
   "id": "decc067a",
   "metadata": {
    "papermill": {
     "duration": 0.019643,
     "end_time": "2023-03-04T19:45:43.899757",
     "exception": false,
     "start_time": "2023-03-04T19:45:43.880114",
     "status": "completed"
    },
    "tags": []
   },
   "source": [
    "## Rock Lyrics Dataset"
   ]
  },
  {
   "cell_type": "code",
   "execution_count": 11,
   "id": "176bfcad",
   "metadata": {
    "execution": {
     "iopub.execute_input": "2023-03-04T19:45:43.936625Z",
     "iopub.status.busy": "2023-03-04T19:45:43.935733Z",
     "iopub.status.idle": "2023-03-04T19:45:46.555771Z",
     "shell.execute_reply": "2023-03-04T19:45:46.554881Z"
    },
    "papermill": {
     "duration": 2.646599,
     "end_time": "2023-03-04T19:45:46.558710",
     "exception": false,
     "start_time": "2023-03-04T19:45:43.912111",
     "status": "completed"
    },
    "tags": []
   },
   "outputs": [],
   "source": [
    "df = pd.read_csv('../data/raw-data/lyrics_raw.csv')"
   ]
  },
  {
   "cell_type": "code",
   "execution_count": 12,
   "id": "87170aac",
   "metadata": {
    "execution": {
     "iopub.execute_input": "2023-03-04T19:45:46.608767Z",
     "iopub.status.busy": "2023-03-04T19:45:46.608431Z",
     "iopub.status.idle": "2023-03-04T19:45:46.624043Z",
     "shell.execute_reply": "2023-03-04T19:45:46.623068Z"
    },
    "papermill": {
     "duration": 0.045264,
     "end_time": "2023-03-04T19:45:46.628227",
     "exception": false,
     "start_time": "2023-03-04T19:45:46.582963",
     "status": "completed"
    },
    "tags": []
   },
   "outputs": [
    {
     "data": {
      "text/html": [
       "<div>\n",
       "<style scoped>\n",
       "    .dataframe tbody tr th:only-of-type {\n",
       "        vertical-align: middle;\n",
       "    }\n",
       "\n",
       "    .dataframe tbody tr th {\n",
       "        vertical-align: top;\n",
       "    }\n",
       "\n",
       "    .dataframe thead th {\n",
       "        text-align: right;\n",
       "    }\n",
       "</style>\n",
       "<table border=\"1\" class=\"dataframe\">\n",
       "  <thead>\n",
       "    <tr style=\"text-align: right;\">\n",
       "      <th></th>\n",
       "      <th>lyrics</th>\n",
       "      <th>Axé</th>\n",
       "      <th>Black Music</th>\n",
       "      <th>Blues</th>\n",
       "      <th>Bossa Nova</th>\n",
       "      <th>COLETÂNEA</th>\n",
       "      <th>Chillout</th>\n",
       "      <th>Classic Rock</th>\n",
       "      <th>Clássico</th>\n",
       "      <th>Country</th>\n",
       "      <th>...</th>\n",
       "      <th>Soul Music</th>\n",
       "      <th>Surf Music</th>\n",
       "      <th>Tecnopop</th>\n",
       "      <th>Trance</th>\n",
       "      <th>Trap</th>\n",
       "      <th>Trilha Sonora</th>\n",
       "      <th>Trip-Hop</th>\n",
       "      <th>Tropical House</th>\n",
       "      <th>Velha Guarda</th>\n",
       "      <th>World Music</th>\n",
       "    </tr>\n",
       "  </thead>\n",
       "  <tbody>\n",
       "    <tr>\n",
       "      <th>0</th>\n",
       "      <td>I feel so unsure\\nAs I take your hand and lead...</td>\n",
       "      <td>1</td>\n",
       "      <td>0</td>\n",
       "      <td>0</td>\n",
       "      <td>0</td>\n",
       "      <td>0</td>\n",
       "      <td>0</td>\n",
       "      <td>0</td>\n",
       "      <td>0</td>\n",
       "      <td>0</td>\n",
       "      <td>...</td>\n",
       "      <td>0</td>\n",
       "      <td>0</td>\n",
       "      <td>0</td>\n",
       "      <td>0</td>\n",
       "      <td>0</td>\n",
       "      <td>0</td>\n",
       "      <td>0</td>\n",
       "      <td>0</td>\n",
       "      <td>0</td>\n",
       "      <td>0</td>\n",
       "    </tr>\n",
       "    <tr>\n",
       "      <th>1</th>\n",
       "      <td>Don't let them fool, ya\\nOr even try to school...</td>\n",
       "      <td>1</td>\n",
       "      <td>0</td>\n",
       "      <td>0</td>\n",
       "      <td>0</td>\n",
       "      <td>0</td>\n",
       "      <td>0</td>\n",
       "      <td>0</td>\n",
       "      <td>0</td>\n",
       "      <td>0</td>\n",
       "      <td>...</td>\n",
       "      <td>0</td>\n",
       "      <td>0</td>\n",
       "      <td>0</td>\n",
       "      <td>0</td>\n",
       "      <td>0</td>\n",
       "      <td>0</td>\n",
       "      <td>0</td>\n",
       "      <td>0</td>\n",
       "      <td>0</td>\n",
       "      <td>0</td>\n",
       "    </tr>\n",
       "    <tr>\n",
       "      <th>2</th>\n",
       "      <td>Baby, let's cruise, away from here\\nDon't be c...</td>\n",
       "      <td>1</td>\n",
       "      <td>0</td>\n",
       "      <td>0</td>\n",
       "      <td>0</td>\n",
       "      <td>0</td>\n",
       "      <td>0</td>\n",
       "      <td>0</td>\n",
       "      <td>0</td>\n",
       "      <td>0</td>\n",
       "      <td>...</td>\n",
       "      <td>0</td>\n",
       "      <td>0</td>\n",
       "      <td>0</td>\n",
       "      <td>0</td>\n",
       "      <td>0</td>\n",
       "      <td>0</td>\n",
       "      <td>0</td>\n",
       "      <td>0</td>\n",
       "      <td>0</td>\n",
       "      <td>0</td>\n",
       "    </tr>\n",
       "    <tr>\n",
       "      <th>3</th>\n",
       "      <td>Know it sounds funny\\nBut, I just can't stand ...</td>\n",
       "      <td>1</td>\n",
       "      <td>0</td>\n",
       "      <td>0</td>\n",
       "      <td>0</td>\n",
       "      <td>0</td>\n",
       "      <td>0</td>\n",
       "      <td>0</td>\n",
       "      <td>0</td>\n",
       "      <td>0</td>\n",
       "      <td>...</td>\n",
       "      <td>0</td>\n",
       "      <td>0</td>\n",
       "      <td>0</td>\n",
       "      <td>0</td>\n",
       "      <td>0</td>\n",
       "      <td>0</td>\n",
       "      <td>0</td>\n",
       "      <td>0</td>\n",
       "      <td>0</td>\n",
       "      <td>0</td>\n",
       "    </tr>\n",
       "    <tr>\n",
       "      <th>4</th>\n",
       "      <td>You've got that look again\\nThe one I hoped I ...</td>\n",
       "      <td>1</td>\n",
       "      <td>0</td>\n",
       "      <td>0</td>\n",
       "      <td>0</td>\n",
       "      <td>0</td>\n",
       "      <td>0</td>\n",
       "      <td>0</td>\n",
       "      <td>0</td>\n",
       "      <td>0</td>\n",
       "      <td>...</td>\n",
       "      <td>0</td>\n",
       "      <td>0</td>\n",
       "      <td>0</td>\n",
       "      <td>0</td>\n",
       "      <td>0</td>\n",
       "      <td>0</td>\n",
       "      <td>0</td>\n",
       "      <td>0</td>\n",
       "      <td>0</td>\n",
       "      <td>0</td>\n",
       "    </tr>\n",
       "  </tbody>\n",
       "</table>\n",
       "<p>5 rows × 76 columns</p>\n",
       "</div>"
      ],
      "text/plain": [
       "                                              lyrics  Axé  Black Music  Blues  \\\n",
       "0  I feel so unsure\\nAs I take your hand and lead...    1            0      0   \n",
       "1  Don't let them fool, ya\\nOr even try to school...    1            0      0   \n",
       "2  Baby, let's cruise, away from here\\nDon't be c...    1            0      0   \n",
       "3  Know it sounds funny\\nBut, I just can't stand ...    1            0      0   \n",
       "4  You've got that look again\\nThe one I hoped I ...    1            0      0   \n",
       "\n",
       "   Bossa Nova  COLETÂNEA  Chillout  Classic Rock  Clássico  Country  ...  \\\n",
       "0           0          0         0             0         0        0  ...   \n",
       "1           0          0         0             0         0        0  ...   \n",
       "2           0          0         0             0         0        0  ...   \n",
       "3           0          0         0             0         0        0  ...   \n",
       "4           0          0         0             0         0        0  ...   \n",
       "\n",
       "   Soul Music  Surf Music  Tecnopop  Trance  Trap  Trilha Sonora  Trip-Hop  \\\n",
       "0           0           0         0       0     0              0         0   \n",
       "1           0           0         0       0     0              0         0   \n",
       "2           0           0         0       0     0              0         0   \n",
       "3           0           0         0       0     0              0         0   \n",
       "4           0           0         0       0     0              0         0   \n",
       "\n",
       "   Tropical House  Velha Guarda  World Music  \n",
       "0               0             0            0  \n",
       "1               0             0            0  \n",
       "2               0             0            0  \n",
       "3               0             0            0  \n",
       "4               0             0            0  \n",
       "\n",
       "[5 rows x 76 columns]"
      ]
     },
     "execution_count": 12,
     "metadata": {},
     "output_type": "execute_result"
    }
   ],
   "source": [
    "df.head()"
   ]
  },
  {
   "cell_type": "code",
   "execution_count": 13,
   "id": "3f81c3db",
   "metadata": {
    "execution": {
     "iopub.execute_input": "2023-03-04T19:45:46.666054Z",
     "iopub.status.busy": "2023-03-04T19:45:46.664833Z",
     "iopub.status.idle": "2023-03-04T19:45:46.689931Z",
     "shell.execute_reply": "2023-03-04T19:45:46.688931Z"
    },
    "papermill": {
     "duration": 0.039467,
     "end_time": "2023-03-04T19:45:46.693582",
     "exception": false,
     "start_time": "2023-03-04T19:45:46.654115",
     "status": "completed"
    },
    "tags": []
   },
   "outputs": [
    {
     "data": {
      "text/plain": [
       "Rock                63717\n",
       "Pop                 33571\n",
       "Pop/Rock            26360\n",
       "Heavy Metal         21759\n",
       "Hip Hop             20902\n",
       "Indie               20134\n",
       "Romântico           17947\n",
       "Hard Rock           17250\n",
       "Rap                 17114\n",
       "R&B                 15581\n",
       "Rock Alternativo    13061\n",
       "Black Music         13024\n",
       "Dance               11895\n",
       "Folk                11124\n",
       "Country             10630\n",
       "Punk Rock            9215\n",
       "Soul Music           8131\n",
       "Electronica          7799\n",
       "Gospel/Religioso     7337\n",
       "Hardcore             7082\n",
       "Trilha Sonora        6213\n",
       "Blues                6094\n",
       "Gótico               4984\n",
       "Soft Rock            4483\n",
       "Progressivo          4365\n",
       "Jazz                 4343\n",
       "Tecnopop             3873\n",
       "Pós-Punk             3274\n",
       "Reggae               3207\n",
       "Rockabilly           3100\n",
       "dtype: int64"
      ]
     },
     "execution_count": 13,
     "metadata": {},
     "output_type": "execute_result"
    }
   ],
   "source": [
    "df.sum(numeric_only=True).sort_values(ascending=False)[:30]"
   ]
  },
  {
   "cell_type": "code",
   "execution_count": 14,
   "id": "594fe52c",
   "metadata": {
    "execution": {
     "iopub.execute_input": "2023-03-04T19:45:46.741513Z",
     "iopub.status.busy": "2023-03-04T19:45:46.741227Z",
     "iopub.status.idle": "2023-03-04T19:45:46.745888Z",
     "shell.execute_reply": "2023-03-04T19:45:46.744818Z"
    },
    "papermill": {
     "duration": 0.027819,
     "end_time": "2023-03-04T19:45:46.747401",
     "exception": false,
     "start_time": "2023-03-04T19:45:46.719582",
     "status": "completed"
    },
    "tags": []
   },
   "outputs": [],
   "source": [
    "genres = ['Pop/Rock','Heavy Metal', 'Hard Rock', 'Rock Alternativo', 'Punk Rock', 'Indie']\n",
    "lyrics = df['lyrics']"
   ]
  },
  {
   "cell_type": "code",
   "execution_count": 15,
   "id": "4c8f06e8",
   "metadata": {
    "execution": {
     "iopub.execute_input": "2023-03-04T19:45:46.767732Z",
     "iopub.status.busy": "2023-03-04T19:45:46.767458Z",
     "iopub.status.idle": "2023-03-04T19:45:46.776394Z",
     "shell.execute_reply": "2023-03-04T19:45:46.775363Z"
    },
    "papermill": {
     "duration": 0.020977,
     "end_time": "2023-03-04T19:45:46.777968",
     "exception": false,
     "start_time": "2023-03-04T19:45:46.756991",
     "status": "completed"
    },
    "tags": []
   },
   "outputs": [],
   "source": [
    "df = df[genres]"
   ]
  },
  {
   "cell_type": "code",
   "execution_count": 16,
   "id": "459af8cf",
   "metadata": {
    "execution": {
     "iopub.execute_input": "2023-03-04T19:45:46.799361Z",
     "iopub.status.busy": "2023-03-04T19:45:46.799090Z",
     "iopub.status.idle": "2023-03-04T19:45:46.812218Z",
     "shell.execute_reply": "2023-03-04T19:45:46.811344Z"
    },
    "papermill": {
     "duration": 0.025331,
     "end_time": "2023-03-04T19:45:46.813865",
     "exception": false,
     "start_time": "2023-03-04T19:45:46.788534",
     "status": "completed"
    },
    "tags": []
   },
   "outputs": [
    {
     "data": {
      "text/plain": [
       "Pop/Rock            22605\n",
       "Indie               13378\n",
       "Heavy Metal         12296\n",
       "Punk Rock            7248\n",
       "Hard Rock            6335\n",
       "Rock Alternativo     4783\n",
       "dtype: int64"
      ]
     },
     "execution_count": 16,
     "metadata": {},
     "output_type": "execute_result"
    }
   ],
   "source": [
    "df[df.sum(axis=1)==1].sum().sort_values(ascending=False)[:20]"
   ]
  },
  {
   "cell_type": "code",
   "execution_count": 17,
   "id": "ead6dcd9",
   "metadata": {
    "execution": {
     "iopub.execute_input": "2023-03-04T19:45:46.834696Z",
     "iopub.status.busy": "2023-03-04T19:45:46.834419Z",
     "iopub.status.idle": "2023-03-04T19:45:46.850950Z",
     "shell.execute_reply": "2023-03-04T19:45:46.849903Z"
    },
    "papermill": {
     "duration": 0.028919,
     "end_time": "2023-03-04T19:45:46.852657",
     "exception": false,
     "start_time": "2023-03-04T19:45:46.823738",
     "status": "completed"
    },
    "tags": []
   },
   "outputs": [
    {
     "data": {
      "text/plain": [
       "Pop/Rock       24087\n",
       "Indie          18091\n",
       "Heavy Metal    12488\n",
       "Punk Rock       8170\n",
       "Hard Rock       7123\n",
       "dtype: int64"
      ]
     },
     "execution_count": 17,
     "metadata": {},
     "output_type": "execute_result"
    }
   ],
   "source": [
    "df = df.drop(columns=['Rock Alternativo'])\n",
    "\n",
    "df[df.sum(axis=1)==1].sum().sort_values(ascending=False)[:20]"
   ]
  },
  {
   "cell_type": "code",
   "execution_count": 18,
   "id": "1b4889ae",
   "metadata": {
    "execution": {
     "iopub.execute_input": "2023-03-04T19:45:46.875301Z",
     "iopub.status.busy": "2023-03-04T19:45:46.875028Z",
     "iopub.status.idle": "2023-03-04T19:45:46.879252Z",
     "shell.execute_reply": "2023-03-04T19:45:46.878244Z"
    },
    "papermill": {
     "duration": 0.018368,
     "end_time": "2023-03-04T19:45:46.881020",
     "exception": false,
     "start_time": "2023-03-04T19:45:46.862652",
     "status": "completed"
    },
    "tags": []
   },
   "outputs": [],
   "source": [
    "genres = df.columns"
   ]
  },
  {
   "cell_type": "code",
   "execution_count": 19,
   "id": "8b0c6200",
   "metadata": {
    "execution": {
     "iopub.execute_input": "2023-03-04T19:45:46.903583Z",
     "iopub.status.busy": "2023-03-04T19:45:46.903233Z",
     "iopub.status.idle": "2023-03-04T19:45:46.925223Z",
     "shell.execute_reply": "2023-03-04T19:45:46.924276Z"
    },
    "papermill": {
     "duration": 0.034648,
     "end_time": "2023-03-04T19:45:46.927025",
     "exception": false,
     "start_time": "2023-03-04T19:45:46.892377",
     "status": "completed"
    },
    "tags": []
   },
   "outputs": [],
   "source": [
    "df = pd.concat([df, lyrics], axis=1)"
   ]
  },
  {
   "cell_type": "code",
   "execution_count": 20,
   "id": "ef086287",
   "metadata": {
    "execution": {
     "iopub.execute_input": "2023-03-04T19:45:46.948152Z",
     "iopub.status.busy": "2023-03-04T19:45:46.947886Z",
     "iopub.status.idle": "2023-03-04T19:45:46.979711Z",
     "shell.execute_reply": "2023-03-04T19:45:46.978769Z"
    },
    "papermill": {
     "duration": 0.044355,
     "end_time": "2023-03-04T19:45:46.981422",
     "exception": false,
     "start_time": "2023-03-04T19:45:46.937067",
     "status": "completed"
    },
    "tags": []
   },
   "outputs": [],
   "source": [
    "df = df.drop(df[df[genres].sum(axis=1)==0].index)"
   ]
  },
  {
   "cell_type": "code",
   "execution_count": 21,
   "id": "f0097f17",
   "metadata": {
    "execution": {
     "iopub.execute_input": "2023-03-04T19:45:47.003792Z",
     "iopub.status.busy": "2023-03-04T19:45:47.003227Z",
     "iopub.status.idle": "2023-03-04T19:45:47.012016Z",
     "shell.execute_reply": "2023-03-04T19:45:47.011084Z"
    },
    "papermill": {
     "duration": 0.022179,
     "end_time": "2023-03-04T19:45:47.013806",
     "exception": false,
     "start_time": "2023-03-04T19:45:46.991627",
     "status": "completed"
    },
    "tags": []
   },
   "outputs": [],
   "source": [
    "df = df.reset_index(drop=True)"
   ]
  },
  {
   "cell_type": "code",
   "execution_count": 22,
   "id": "514221f4",
   "metadata": {
    "execution": {
     "iopub.execute_input": "2023-03-04T19:45:47.034717Z",
     "iopub.status.busy": "2023-03-04T19:45:47.034446Z",
     "iopub.status.idle": "2023-03-04T19:45:47.480773Z",
     "shell.execute_reply": "2023-03-04T19:45:47.479721Z"
    },
    "papermill": {
     "duration": 0.458722,
     "end_time": "2023-03-04T19:45:47.482397",
     "exception": false,
     "start_time": "2023-03-04T19:45:47.023675",
     "status": "completed"
    },
    "tags": []
   },
   "outputs": [
    {
     "name": "stdout",
     "output_type": "stream",
     "text": [
      "Duplicates with the same genre: 347\n"
     ]
    },
    {
     "name": "stdout",
     "output_type": "stream",
     "text": [
      "Duplicates with different genres: 125\n"
     ]
    }
   ],
   "source": [
    "# Duplicates are songs with multiple artists (e.g. a featuring)\n",
    "# Remove duplicates having the same genre\n",
    "print(f'Duplicates with the same genre: {df.duplicated().sum()}')\n",
    "df = df.drop_duplicates()\n",
    "# Remove lyrics with different genres among duplicates:\n",
    "print(f'Duplicates with different genres: {df.duplicated(subset=\"lyrics\").sum()}')\n",
    "df = df.drop_duplicates(subset=\"lyrics\", keep=False)"
   ]
  },
  {
   "cell_type": "code",
   "execution_count": 23,
   "id": "de36f8fa",
   "metadata": {
    "execution": {
     "iopub.execute_input": "2023-03-04T19:45:47.504272Z",
     "iopub.status.busy": "2023-03-04T19:45:47.503990Z",
     "iopub.status.idle": "2023-03-04T19:45:47.509391Z",
     "shell.execute_reply": "2023-03-04T19:45:47.508361Z"
    },
    "papermill": {
     "duration": 0.018661,
     "end_time": "2023-03-04T19:45:47.511187",
     "exception": false,
     "start_time": "2023-03-04T19:45:47.492526",
     "status": "completed"
    },
    "tags": []
   },
   "outputs": [],
   "source": [
    "def clean_text(lyrics):\n",
    "    lyrics = re.sub(r'\\((.+?)?\\)', '', lyrics)\n",
    "    lyrics = re.sub(r'\\[(.+?)?\\]', '', lyrics)\n",
    "    lyrics = re.sub(r'\\{(.+?)?\\}', '', lyrics)\n",
    "    lyrics = re.sub(r'\\n+', '\\n', lyrics)\n",
    "    lyrics = re.sub(r'^[^a-zA-Z]+$', '', lyrics, flags=re.MULTILINE)\n",
    "    return lyrics"
   ]
  },
  {
   "cell_type": "code",
   "execution_count": 24,
   "id": "0de1b9f8",
   "metadata": {
    "execution": {
     "iopub.execute_input": "2023-03-04T19:45:47.539719Z",
     "iopub.status.busy": "2023-03-04T19:45:47.539441Z",
     "iopub.status.idle": "2023-03-04T19:45:50.342355Z",
     "shell.execute_reply": "2023-03-04T19:45:50.341430Z"
    },
    "papermill": {
     "duration": 2.818053,
     "end_time": "2023-03-04T19:45:50.344296",
     "exception": false,
     "start_time": "2023-03-04T19:45:47.526243",
     "status": "completed"
    },
    "tags": []
   },
   "outputs": [],
   "source": [
    "df['lyrics'] = df['lyrics'].apply(clean_text)"
   ]
  },
  {
   "cell_type": "code",
   "execution_count": 25,
   "id": "1a76fe68",
   "metadata": {
    "execution": {
     "iopub.execute_input": "2023-03-04T19:45:50.366106Z",
     "iopub.status.busy": "2023-03-04T19:45:50.365853Z",
     "iopub.status.idle": "2023-03-04T19:45:51.025194Z",
     "shell.execute_reply": "2023-03-04T19:45:51.024276Z"
    },
    "papermill": {
     "duration": 0.672366,
     "end_time": "2023-03-04T19:45:51.027028",
     "exception": false,
     "start_time": "2023-03-04T19:45:50.354662",
     "status": "completed"
    },
    "tags": []
   },
   "outputs": [],
   "source": [
    "# Split lyrics in verses consider \\n as sep, filter empty element in list (it's the result of '\\n\\n' or spaces)\n",
    "df['lyrics'] = df['lyrics'].apply(\n",
    "    lambda x: [verse for verse in x.split('\\n') if verse.strip()])"
   ]
  },
  {
   "cell_type": "code",
   "execution_count": 26,
   "id": "9bb15b96",
   "metadata": {
    "execution": {
     "iopub.execute_input": "2023-03-04T19:45:51.048740Z",
     "iopub.status.busy": "2023-03-04T19:45:51.048474Z",
     "iopub.status.idle": "2023-03-04T19:45:51.079296Z",
     "shell.execute_reply": "2023-03-04T19:45:51.078366Z"
    },
    "papermill": {
     "duration": 0.043722,
     "end_time": "2023-03-04T19:45:51.081061",
     "exception": false,
     "start_time": "2023-03-04T19:45:51.037339",
     "status": "completed"
    },
    "tags": []
   },
   "outputs": [],
   "source": [
    "# Count number of verses\n",
    "df['verses'] = df['lyrics'].apply(len)"
   ]
  },
  {
   "cell_type": "code",
   "execution_count": 27,
   "id": "3eb1bcd7",
   "metadata": {
    "execution": {
     "iopub.execute_input": "2023-03-04T19:45:51.102849Z",
     "iopub.status.busy": "2023-03-04T19:45:51.102563Z",
     "iopub.status.idle": "2023-03-04T19:45:51.349890Z",
     "shell.execute_reply": "2023-03-04T19:45:51.349102Z"
    },
    "papermill": {
     "duration": 0.260317,
     "end_time": "2023-03-04T19:45:51.351636",
     "exception": false,
     "start_time": "2023-03-04T19:45:51.091319",
     "status": "completed"
    },
    "tags": []
   },
   "outputs": [
    {
     "data": {
      "text/plain": [
       "<AxesSubplot:xlabel='verses', ylabel='Count'>"
      ]
     },
     "execution_count": 27,
     "metadata": {},
     "output_type": "execute_result"
    },
    {
     "data": {
      "image/png": "[encoded data removed]",
      "text/plain": [
       "<Figure size 640x480 with 1 Axes>"
      ]
     },
     "metadata": {},
     "output_type": "display_data"
    }
   ],
   "source": [
    "sns.histplot(df['verses'], binrange=(0,100), bins=50)"
   ]
  },
  {
   "cell_type": "code",
   "execution_count": 28,
   "id": "6099db58",
   "metadata": {
    "execution": {
     "iopub.execute_input": "2023-03-04T19:45:51.379544Z",
     "iopub.status.busy": "2023-03-04T19:45:51.379066Z",
     "iopub.status.idle": "2023-03-04T19:45:51.419445Z",
     "shell.execute_reply": "2023-03-04T19:45:51.418678Z"
    },
    "papermill": {
     "duration": 0.057255,
     "end_time": "2023-03-04T19:45:51.422082",
     "exception": false,
     "start_time": "2023-03-04T19:45:51.364827",
     "status": "completed"
    },
    "tags": []
   },
   "outputs": [],
   "source": [
    "# Drop the outlier rows from the DataFrame\n",
    "df = df.drop(df[df['verses'] > 100].index)\n",
    "df = df.drop(df[df['verses'] < 20].index)"
   ]
  },
  {
   "cell_type": "code",
   "execution_count": 29,
   "id": "0f2cb01c",
   "metadata": {
    "execution": {
     "iopub.execute_input": "2023-03-04T19:45:51.477653Z",
     "iopub.status.busy": "2023-03-04T19:45:51.477114Z",
     "iopub.status.idle": "2023-03-04T19:45:51.570039Z",
     "shell.execute_reply": "2023-03-04T19:45:51.569224Z"
    },
    "papermill": {
     "duration": 0.121063,
     "end_time": "2023-03-04T19:45:51.572608",
     "exception": false,
     "start_time": "2023-03-04T19:45:51.451545",
     "status": "completed"
    },
    "tags": []
   },
   "outputs": [],
   "source": [
    "category_col = df[genres].idxmax(axis=1)\n",
    "df['genre'] = category_col"
   ]
  },
  {
   "cell_type": "code",
   "execution_count": 30,
   "id": "220b28f2",
   "metadata": {
    "execution": {
     "iopub.execute_input": "2023-03-04T19:45:51.601855Z",
     "iopub.status.busy": "2023-03-04T19:45:51.601498Z",
     "iopub.status.idle": "2023-03-04T19:45:51.613299Z",
     "shell.execute_reply": "2023-03-04T19:45:51.612422Z"
    },
    "papermill": {
     "duration": 0.026052,
     "end_time": "2023-03-04T19:45:51.615620",
     "exception": false,
     "start_time": "2023-03-04T19:45:51.589568",
     "status": "completed"
    },
    "tags": []
   },
   "outputs": [
    {
     "data": {
      "text/plain": [
       "Pop/Rock       23306\n",
       "Heavy Metal    17975\n",
       "Indie          13810\n",
       "Hard Rock       6743\n",
       "Punk Rock       5931\n",
       "Name: genre, dtype: int64"
      ]
     },
     "execution_count": 30,
     "metadata": {},
     "output_type": "execute_result"
    }
   ],
   "source": [
    "df['genre'].value_counts()"
   ]
  },
  {
   "cell_type": "code",
   "execution_count": 31,
   "id": "06b75fcc",
   "metadata": {
    "execution": {
     "iopub.execute_input": "2023-03-04T19:45:51.642013Z",
     "iopub.status.busy": "2023-03-04T19:45:51.641486Z",
     "iopub.status.idle": "2023-03-04T19:45:51.656024Z",
     "shell.execute_reply": "2023-03-04T19:45:51.654798Z"
    },
    "papermill": {
     "duration": 0.028872,
     "end_time": "2023-03-04T19:45:51.658177",
     "exception": false,
     "start_time": "2023-03-04T19:45:51.629305",
     "status": "completed"
    },
    "tags": []
   },
   "outputs": [],
   "source": [
    "df = df.drop(columns=['verses']+list(genres))"
   ]
  },
  {
   "cell_type": "code",
   "execution_count": 32,
   "id": "28a5f465",
   "metadata": {
    "execution": {
     "iopub.execute_input": "2023-03-04T19:45:51.683305Z",
     "iopub.status.busy": "2023-03-04T19:45:51.682788Z",
     "iopub.status.idle": "2023-03-04T19:45:51.701813Z",
     "shell.execute_reply": "2023-03-04T19:45:51.700578Z"
    },
    "papermill": {
     "duration": 0.033251,
     "end_time": "2023-03-04T19:45:51.703985",
     "exception": false,
     "start_time": "2023-03-04T19:45:51.670734",
     "status": "completed"
    },
    "tags": []
   },
   "outputs": [],
   "source": [
    "df = df.reset_index(drop=True)"
   ]
  },
  {
   "cell_type": "code",
   "execution_count": 33,
   "id": "aac3ac16",
   "metadata": {
    "execution": {
     "iopub.execute_input": "2023-03-04T19:45:51.729836Z",
     "iopub.status.busy": "2023-03-04T19:45:51.729348Z",
     "iopub.status.idle": "2023-03-04T19:45:51.823445Z",
     "shell.execute_reply": "2023-03-04T19:45:51.822664Z"
    },
    "papermill": {
     "duration": 0.10828,
     "end_time": "2023-03-04T19:45:51.825563",
     "exception": false,
     "start_time": "2023-03-04T19:45:51.717283",
     "status": "completed"
    },
    "tags": []
   },
   "outputs": [],
   "source": [
    "df = df.groupby('genre').sample(n=5000, random_state=42).reset_index(drop=True)"
   ]
  },
  {
   "cell_type": "code",
   "execution_count": 34,
   "id": "ea9b87b0",
   "metadata": {
    "execution": {
     "iopub.execute_input": "2023-03-04T19:45:51.851414Z",
     "iopub.status.busy": "2023-03-04T19:45:51.851096Z",
     "iopub.status.idle": "2023-03-04T19:45:51.887716Z",
     "shell.execute_reply": "2023-03-04T19:45:51.886929Z"
    },
    "papermill": {
     "duration": 0.050695,
     "end_time": "2023-03-04T19:45:51.890076",
     "exception": false,
     "start_time": "2023-03-04T19:45:51.839381",
     "status": "completed"
    },
    "tags": []
   },
   "outputs": [],
   "source": [
    "df['genre'] = df['genre'].apply(lambda x: re.sub(r'[/ ]', '-', x.lower()))"
   ]
  },
  {
   "cell_type": "code",
   "execution_count": 35,
   "id": "6229764b",
   "metadata": {
    "execution": {
     "iopub.execute_input": "2023-03-04T19:45:51.940948Z",
     "iopub.status.busy": "2023-03-04T19:45:51.940357Z",
     "iopub.status.idle": "2023-03-04T19:45:51.961499Z",
     "shell.execute_reply": "2023-03-04T19:45:51.960273Z"
    },
    "papermill": {
     "duration": 0.04953,
     "end_time": "2023-03-04T19:45:51.964648",
     "exception": false,
     "start_time": "2023-03-04T19:45:51.915118",
     "status": "completed"
    },
    "tags": []
   },
   "outputs": [
    {
     "data": {
      "text/html": [
       "<div>\n",
       "<style scoped>\n",
       "    .dataframe tbody tr th:only-of-type {\n",
       "        vertical-align: middle;\n",
       "    }\n",
       "\n",
       "    .dataframe tbody tr th {\n",
       "        vertical-align: top;\n",
       "    }\n",
       "\n",
       "    .dataframe thead th {\n",
       "        text-align: right;\n",
       "    }\n",
       "</style>\n",
       "<table border=\"1\" class=\"dataframe\">\n",
       "  <thead>\n",
       "    <tr style=\"text-align: right;\">\n",
       "      <th></th>\n",
       "      <th>lyrics</th>\n",
       "      <th>genre</th>\n",
       "    </tr>\n",
       "  </thead>\n",
       "  <tbody>\n",
       "    <tr>\n",
       "      <th>0</th>\n",
       "      <td>[What if the devil was a lie?, What if God did...</td>\n",
       "      <td>hard-rock</td>\n",
       "    </tr>\n",
       "    <tr>\n",
       "      <th>1</th>\n",
       "      <td>[Can you help me, Help me get out of this plac...</td>\n",
       "      <td>hard-rock</td>\n",
       "    </tr>\n",
       "    <tr>\n",
       "      <th>2</th>\n",
       "      <td>[For every dream we lose, There's another one ...</td>\n",
       "      <td>hard-rock</td>\n",
       "    </tr>\n",
       "    <tr>\n",
       "      <th>3</th>\n",
       "      <td>[I never seem to find a reason, to let you in ...</td>\n",
       "      <td>hard-rock</td>\n",
       "    </tr>\n",
       "    <tr>\n",
       "      <th>4</th>\n",
       "      <td>[It would appear that male pattern, baldness h...</td>\n",
       "      <td>hard-rock</td>\n",
       "    </tr>\n",
       "  </tbody>\n",
       "</table>\n",
       "</div>"
      ],
      "text/plain": [
       "                                              lyrics      genre\n",
       "0  [What if the devil was a lie?, What if God did...  hard-rock\n",
       "1  [Can you help me, Help me get out of this plac...  hard-rock\n",
       "2  [For every dream we lose, There's another one ...  hard-rock\n",
       "3  [I never seem to find a reason, to let you in ...  hard-rock\n",
       "4  [It would appear that male pattern, baldness h...  hard-rock"
      ]
     },
     "execution_count": 35,
     "metadata": {},
     "output_type": "execute_result"
    }
   ],
   "source": [
    "df.head()"
   ]
  },
  {
   "cell_type": "code",
   "execution_count": 36,
   "id": "5975e1aa",
   "metadata": {
    "execution": {
     "iopub.execute_input": "2023-03-04T19:45:52.004247Z",
     "iopub.status.busy": "2023-03-04T19:45:52.003782Z",
     "iopub.status.idle": "2023-03-04T19:45:52.015326Z",
     "shell.execute_reply": "2023-03-04T19:45:52.014179Z"
    },
    "papermill": {
     "duration": 0.025786,
     "end_time": "2023-03-04T19:45:52.017360",
     "exception": false,
     "start_time": "2023-03-04T19:45:51.991574",
     "status": "completed"
    },
    "tags": []
   },
   "outputs": [],
   "source": [
    "df = df.rename(columns={'lyrics':'text','genre':'class'})"
   ]
  },
  {
   "cell_type": "code",
   "execution_count": 37,
   "id": "1b1fbb27",
   "metadata": {
    "execution": {
     "iopub.execute_input": "2023-03-04T19:45:52.042167Z",
     "iopub.status.busy": "2023-03-04T19:45:52.041701Z",
     "iopub.status.idle": "2023-03-04T19:45:52.754808Z",
     "shell.execute_reply": "2023-03-04T19:45:52.753636Z"
    },
    "papermill": {
     "duration": 0.728605,
     "end_time": "2023-03-04T19:45:52.757916",
     "exception": false,
     "start_time": "2023-03-04T19:45:52.029311",
     "status": "completed"
    },
    "tags": []
   },
   "outputs": [],
   "source": [
    "ds_id = 'rock-subgenres'\n",
    "\n",
    "# Create directory\n",
    "data_ds_path = base_path + ds_id\n",
    "\n",
    "os.makedirs(data_ds_path, exist_ok=True)\n",
    "\n",
    "df.to_csv(f'{data_ds_path}/data.csv', index=False)"
   ]
  },
  {
   "cell_type": "markdown",
   "id": "638cbbd7",
   "metadata": {
    "papermill": {
     "duration": 0.029443,
     "end_time": "2023-03-04T19:45:52.820535",
     "exception": false,
     "start_time": "2023-03-04T19:45:52.791092",
     "status": "completed"
    },
    "tags": []
   },
   "source": [
    "## Movie Plots Dataset"
   ]
  },
  {
   "cell_type": "code",
   "execution_count": 38,
   "id": "827b8c8d",
   "metadata": {
    "execution": {
     "iopub.execute_input": "2023-03-04T19:45:52.854924Z",
     "iopub.status.busy": "2023-03-04T19:45:52.854551Z",
     "iopub.status.idle": "2023-03-04T19:45:53.687829Z",
     "shell.execute_reply": "2023-03-04T19:45:53.686911Z"
    },
    "papermill": {
     "duration": 0.848334,
     "end_time": "2023-03-04T19:45:53.690772",
     "exception": false,
     "start_time": "2023-03-04T19:45:52.842438",
     "status": "completed"
    },
    "tags": []
   },
   "outputs": [],
   "source": [
    "df = pd.read_csv('../data/raw-data/wiki_movie_plots_deduped.csv')"
   ]
  },
  {
   "cell_type": "code",
   "execution_count": 39,
   "id": "db827f28",
   "metadata": {
    "execution": {
     "iopub.execute_input": "2023-03-04T19:45:53.718035Z",
     "iopub.status.busy": "2023-03-04T19:45:53.717597Z",
     "iopub.status.idle": "2023-03-04T19:45:53.730374Z",
     "shell.execute_reply": "2023-03-04T19:45:53.729409Z"
    },
    "papermill": {
     "duration": 0.026876,
     "end_time": "2023-03-04T19:45:53.732203",
     "exception": false,
     "start_time": "2023-03-04T19:45:53.705327",
     "status": "completed"
    },
    "tags": []
   },
   "outputs": [
    {
     "data": {
      "text/html": [
       "<div>\n",
       "<style scoped>\n",
       "    .dataframe tbody tr th:only-of-type {\n",
       "        vertical-align: middle;\n",
       "    }\n",
       "\n",
       "    .dataframe tbody tr th {\n",
       "        vertical-align: top;\n",
       "    }\n",
       "\n",
       "    .dataframe thead th {\n",
       "        text-align: right;\n",
       "    }\n",
       "</style>\n",
       "<table border=\"1\" class=\"dataframe\">\n",
       "  <thead>\n",
       "    <tr style=\"text-align: right;\">\n",
       "      <th></th>\n",
       "      <th>Release Year</th>\n",
       "      <th>Title</th>\n",
       "      <th>Origin/Ethnicity</th>\n",
       "      <th>Director</th>\n",
       "      <th>Cast</th>\n",
       "      <th>Genre</th>\n",
       "      <th>Wiki Page</th>\n",
       "      <th>Plot</th>\n",
       "    </tr>\n",
       "  </thead>\n",
       "  <tbody>\n",
       "    <tr>\n",
       "      <th>0</th>\n",
       "      <td>1901</td>\n",
       "      <td>Kansas Saloon Smashers</td>\n",
       "      <td>American</td>\n",
       "      <td>Unknown</td>\n",
       "      <td>NaN</td>\n",
       "      <td>unknown</td>\n",
       "      <td>https://en.wikipedia.org/wiki/Kansas_Saloon_Sm...</td>\n",
       "      <td>A bartender is working at a saloon, serving dr...</td>\n",
       "    </tr>\n",
       "    <tr>\n",
       "      <th>1</th>\n",
       "      <td>1901</td>\n",
       "      <td>Love by the Light of the Moon</td>\n",
       "      <td>American</td>\n",
       "      <td>Unknown</td>\n",
       "      <td>NaN</td>\n",
       "      <td>unknown</td>\n",
       "      <td>https://en.wikipedia.org/wiki/Love_by_the_Ligh...</td>\n",
       "      <td>The moon, painted with a smiling face hangs ov...</td>\n",
       "    </tr>\n",
       "    <tr>\n",
       "      <th>2</th>\n",
       "      <td>1901</td>\n",
       "      <td>The Martyred Presidents</td>\n",
       "      <td>American</td>\n",
       "      <td>Unknown</td>\n",
       "      <td>NaN</td>\n",
       "      <td>unknown</td>\n",
       "      <td>https://en.wikipedia.org/wiki/The_Martyred_Pre...</td>\n",
       "      <td>The film, just over a minute long, is composed...</td>\n",
       "    </tr>\n",
       "    <tr>\n",
       "      <th>3</th>\n",
       "      <td>1901</td>\n",
       "      <td>Terrible Teddy, the Grizzly King</td>\n",
       "      <td>American</td>\n",
       "      <td>Unknown</td>\n",
       "      <td>NaN</td>\n",
       "      <td>unknown</td>\n",
       "      <td>https://en.wikipedia.org/wiki/Terrible_Teddy,_...</td>\n",
       "      <td>Lasting just 61 seconds and consisting of two ...</td>\n",
       "    </tr>\n",
       "    <tr>\n",
       "      <th>4</th>\n",
       "      <td>1902</td>\n",
       "      <td>Jack and the Beanstalk</td>\n",
       "      <td>American</td>\n",
       "      <td>George S. Fleming, Edwin S. Porter</td>\n",
       "      <td>NaN</td>\n",
       "      <td>unknown</td>\n",
       "      <td>https://en.wikipedia.org/wiki/Jack_and_the_Bea...</td>\n",
       "      <td>The earliest known adaptation of the classic f...</td>\n",
       "    </tr>\n",
       "  </tbody>\n",
       "</table>\n",
       "</div>"
      ],
      "text/plain": [
       "   Release Year                             Title Origin/Ethnicity  \\\n",
       "0          1901            Kansas Saloon Smashers         American   \n",
       "1          1901     Love by the Light of the Moon         American   \n",
       "2          1901           The Martyred Presidents         American   \n",
       "3          1901  Terrible Teddy, the Grizzly King         American   \n",
       "4          1902            Jack and the Beanstalk         American   \n",
       "\n",
       "                             Director Cast    Genre  \\\n",
       "0                             Unknown  NaN  unknown   \n",
       "1                             Unknown  NaN  unknown   \n",
       "2                             Unknown  NaN  unknown   \n",
       "3                             Unknown  NaN  unknown   \n",
       "4  George S. Fleming, Edwin S. Porter  NaN  unknown   \n",
       "\n",
       "                                           Wiki Page  \\\n",
       "0  https://en.wikipedia.org/wiki/Kansas_Saloon_Sm...   \n",
       "1  https://en.wikipedia.org/wiki/Love_by_the_Ligh...   \n",
       "2  https://en.wikipedia.org/wiki/The_Martyred_Pre...   \n",
       "3  https://en.wikipedia.org/wiki/Terrible_Teddy,_...   \n",
       "4  https://en.wikipedia.org/wiki/Jack_and_the_Bea...   \n",
       "\n",
       "                                                Plot  \n",
       "0  A bartender is working at a saloon, serving dr...  \n",
       "1  The moon, painted with a smiling face hangs ov...  \n",
       "2  The film, just over a minute long, is composed...  \n",
       "3  Lasting just 61 seconds and consisting of two ...  \n",
       "4  The earliest known adaptation of the classic f...  "
      ]
     },
     "execution_count": 39,
     "metadata": {},
     "output_type": "execute_result"
    }
   ],
   "source": [
    "df.head()"
   ]
  },
  {
   "cell_type": "code",
   "execution_count": 40,
   "id": "57bf57d3",
   "metadata": {
    "execution": {
     "iopub.execute_input": "2023-03-04T19:45:53.758569Z",
     "iopub.status.busy": "2023-03-04T19:45:53.757658Z",
     "iopub.status.idle": "2023-03-04T19:45:53.765843Z",
     "shell.execute_reply": "2023-03-04T19:45:53.764679Z"
    },
    "papermill": {
     "duration": 0.022675,
     "end_time": "2023-03-04T19:45:53.767588",
     "exception": false,
     "start_time": "2023-03-04T19:45:53.744913",
     "status": "completed"
    },
    "tags": []
   },
   "outputs": [
    {
     "data": {
      "text/plain": [
       "\"After losing her son Oliver in a car accident in India, Maria has not recovered from the tragedy. During the accident, Maria chose to save her youngest daughter, Lucy instead of Oliver and the guilt devastated her. One night, her husband Michael finds Maria unconscious after a failed suicide attempt. In the hospital, Maria is comforted by her housekeeper Piki. Piki asks Maria if she wants one final chance to say goodbye to Oliver. She explains that in her village, there is an abandoned temple where the line between the living and the dead is very thin. Maria must scatter her son's ashes at the temple steps and lock herself in. Oliver will speak to her once night falls. However, no matter what Oliver says, Maria must not open the temple door for him. Maria agrees and the pair have Oliver's body exhumed and burned. Maria notices some strange men covered in ash. Piki explains that they are shamans who consume the flesh of the dead and coat themselves in ash to strengthen their bonds between the worlds of the living and the dead.\\r\\nThe next day Maria arrives at the temple and follows Piki's instructions. Inside, she uncovers a mummified corpse of a woman. Night falls and Oliver begins talking to Maria, who apologises to Oliver for leaving him. Oliver starts pleading with Maria to open the door and explains that someone is taking him. Maria panics and opens the door, but sees no one. She returns home the next day; now having closure, she focuses her attention on Michael and Lucy, but doesn't tell Piki that she opened the door. Strange things start happening; their piano plays itself and Lucy tells Maria that Oliver has come back and that he is hiding from someone. In Oliver's room, a chair moves toward her, along with The Jungle Book, which Maria was reading to Oliver when he died, but never finished. Realising Oliver wants her to finish the book, she does so. Piki notices that the nearby plants have started dying and begins to realise that Maria had disobeyed her instructions at the temple.\\r\\nLater, the decomposed body of Oliver appears near Lucy. Maria discovers a bite mark on her shoulder. She enters Oliver's room and tells him that he can't hurt Lucy. Oliver pulls out the chair and book again and Maria starts reading to him as long as he doesn't hurt Lucy. A shaman appears at the house and points behind Maria; she sees the mummified body from the temple behind her, which chases her. The next day, an outraged Piki confronts Maria and explains to her that due to her actions, Oliver's soul cannot be properly reincarnated and has become evil. She reveals to Maria that the strange figure she has been seeing is Myrtu, the gatekeeper of the underworld, who reclaims the soul of the dead. Piki urges Maria to burn all of Oliver’s possessions to break his hold on the living world.\\r\\nWhile Piki attempts to discard and burn all of Oliver's remaining possessions, Oliver uses the guise of Piki's dead daughter to lure her to a pond and drown her. After Piki's funeral, Michael comes home and discovers Maria has finished burning Oliver's possessions. Distraught and angry, Michael does not believe Maria as she attempts to explain her actions. Reinforcing his mistrust, Lucy suddenly denies any knowledge of Oliver returning. Maria after realises that Oliver has possessed Lucy. Michael believes that Maria is becoming mentally unhinged and locks her in a room.\\r\\nThe shamans begin to crowd the house; the possessed Lucy kills the family dog with a knife and stabs a horrified Michael. Maria breaks out and heads up to Oliver's room where she sees shamans chanting over Lucy's body. Since they cannot remove the spirit from Lucy, they plan to sacrifice her. However, Michael stops them and Maria tells Oliver that he needs to leave. Oliver says he is scared, but Maria says she will go with him. Oliver’s spirit leaves Lucy’s body and enters Maria's. She charges the shaman with the knife telling him to take her instead. He obliges, fatally stabbing her. She falls and awakens in the room alone. Myrtu appears and takes Maria to the afterlife.\\r\\nMaria then wakes up and briefly believes that she is alive. She hears Michael's voice call out for her. She sees the temple steps and realises Michael is attempting the same ritual to bring back Maria as she did with Oliver. Maria screams for him not to open the door, and the terror repeats itself again.\""
      ]
     },
     "execution_count": 40,
     "metadata": {},
     "output_type": "execute_result"
    }
   ],
   "source": [
    "random.choice(df['Plot'])"
   ]
  },
  {
   "cell_type": "code",
   "execution_count": 41,
   "id": "0e749647",
   "metadata": {
    "execution": {
     "iopub.execute_input": "2023-03-04T19:45:53.792396Z",
     "iopub.status.busy": "2023-03-04T19:45:53.791499Z",
     "iopub.status.idle": "2023-03-04T19:46:09.667987Z",
     "shell.execute_reply": "2023-03-04T19:46:09.667059Z"
    },
    "papermill": {
     "duration": 15.890789,
     "end_time": "2023-03-04T19:46:09.669740",
     "exception": false,
     "start_time": "2023-03-04T19:45:53.778951",
     "status": "completed"
    },
    "tags": []
   },
   "outputs": [],
   "source": [
    "df['Plot']= df['Plot'].apply(sent_tokenize)"
   ]
  },
  {
   "cell_type": "code",
   "execution_count": 42,
   "id": "de8eb6d5",
   "metadata": {
    "execution": {
     "iopub.execute_input": "2023-03-04T19:46:09.694031Z",
     "iopub.status.busy": "2023-03-04T19:46:09.693773Z",
     "iopub.status.idle": "2023-03-04T19:46:09.708051Z",
     "shell.execute_reply": "2023-03-04T19:46:09.706973Z"
    },
    "papermill": {
     "duration": 0.028699,
     "end_time": "2023-03-04T19:46:09.710025",
     "exception": false,
     "start_time": "2023-03-04T19:46:09.681326",
     "status": "completed"
    },
    "tags": []
   },
   "outputs": [],
   "source": [
    "n_sentences = df['Plot'].apply(len)"
   ]
  },
  {
   "cell_type": "code",
   "execution_count": 43,
   "id": "19ea6e04",
   "metadata": {
    "execution": {
     "iopub.execute_input": "2023-03-04T19:46:09.734246Z",
     "iopub.status.busy": "2023-03-04T19:46:09.733981Z",
     "iopub.status.idle": "2023-03-04T19:46:09.967348Z",
     "shell.execute_reply": "2023-03-04T19:46:09.966552Z"
    },
    "papermill": {
     "duration": 0.248166,
     "end_time": "2023-03-04T19:46:09.969813",
     "exception": false,
     "start_time": "2023-03-04T19:46:09.721647",
     "status": "completed"
    },
    "tags": []
   },
   "outputs": [
    {
     "data": {
      "text/plain": [
       "<AxesSubplot:xlabel='Plot', ylabel='Count'>"
      ]
     },
     "execution_count": 43,
     "metadata": {},
     "output_type": "execute_result"
    },
    {
     "data": {
      "image/png": "[encoded data removed]",
      "text/plain": [
       "<Figure size 640x480 with 1 Axes>"
      ]
     },
     "metadata": {},
     "output_type": "display_data"
    }
   ],
   "source": [
    "sns.histplot(n_sentences, bins=50, binrange=(0,200))"
   ]
  },
  {
   "cell_type": "code",
   "execution_count": 44,
   "id": "0737acb6",
   "metadata": {
    "execution": {
     "iopub.execute_input": "2023-03-04T19:46:10.018575Z",
     "iopub.status.busy": "2023-03-04T19:46:10.017690Z",
     "iopub.status.idle": "2023-03-04T19:46:10.048219Z",
     "shell.execute_reply": "2023-03-04T19:46:10.047379Z"
    },
    "papermill": {
     "duration": 0.053998,
     "end_time": "2023-03-04T19:46:10.050842",
     "exception": false,
     "start_time": "2023-03-04T19:46:09.996844",
     "status": "completed"
    },
    "tags": []
   },
   "outputs": [],
   "source": [
    "df = df[df['Plot'].apply(len)>20]"
   ]
  },
  {
   "cell_type": "code",
   "execution_count": 45,
   "id": "9be448e1",
   "metadata": {
    "execution": {
     "iopub.execute_input": "2023-03-04T19:46:10.102455Z",
     "iopub.status.busy": "2023-03-04T19:46:10.101608Z",
     "iopub.status.idle": "2023-03-04T19:46:10.115234Z",
     "shell.execute_reply": "2023-03-04T19:46:10.113896Z"
    },
    "papermill": {
     "duration": 0.041889,
     "end_time": "2023-03-04T19:46:10.117425",
     "exception": false,
     "start_time": "2023-03-04T19:46:10.075536",
     "status": "completed"
    },
    "tags": []
   },
   "outputs": [
    {
     "data": {
      "text/plain": [
       "drama              1887\n",
       "unknown            1790\n",
       "comedy             1544\n",
       "horror              748\n",
       "action              494\n",
       "thriller            466\n",
       "science fiction     302\n",
       "romance             296\n",
       "crime drama         238\n",
       "western             226\n",
       "adventure           197\n",
       "romantic comedy     196\n",
       "animation           174\n",
       "fantasy             136\n",
       "musical             134\n",
       "sci-fi              133\n",
       "animated            129\n",
       "war                 124\n",
       "film noir           123\n",
       "family              121\n",
       "Name: Genre, dtype: int64"
      ]
     },
     "execution_count": 45,
     "metadata": {},
     "output_type": "execute_result"
    }
   ],
   "source": [
    "df['Genre'].value_counts().sort_values(ascending=False)[:20]"
   ]
  },
  {
   "cell_type": "code",
   "execution_count": 46,
   "id": "f15bf1b9",
   "metadata": {
    "execution": {
     "iopub.execute_input": "2023-03-04T19:46:10.144198Z",
     "iopub.status.busy": "2023-03-04T19:46:10.143432Z",
     "iopub.status.idle": "2023-03-04T19:46:10.164067Z",
     "shell.execute_reply": "2023-03-04T19:46:10.162808Z"
    },
    "papermill": {
     "duration": 0.036603,
     "end_time": "2023-03-04T19:46:10.166975",
     "exception": false,
     "start_time": "2023-03-04T19:46:10.130372",
     "status": "completed"
    },
    "tags": []
   },
   "outputs": [
    {
     "data": {
      "text/plain": [
       "drama              1887\n",
       "comedy             1544\n",
       "horror              748\n",
       "action              494\n",
       "thriller            466\n",
       "science fiction     302\n",
       "romance             296\n",
       "crime drama         238\n",
       "western             226\n",
       "adventure           197\n",
       "romantic comedy     196\n",
       "animation           174\n",
       "fantasy             136\n",
       "musical             134\n",
       "sci-fi              133\n",
       "animated            129\n",
       "war                 124\n",
       "film noir           123\n",
       "family              121\n",
       "crime               116\n",
       "Name: Genre, dtype: int64"
      ]
     },
     "execution_count": 46,
     "metadata": {},
     "output_type": "execute_result"
    }
   ],
   "source": [
    "df = df[df['Genre']!='unknown']\n",
    "df['Genre'].value_counts().sort_values(ascending=False)[:20]"
   ]
  },
  {
   "cell_type": "code",
   "execution_count": 47,
   "id": "d3394e22",
   "metadata": {
    "execution": {
     "iopub.execute_input": "2023-03-04T19:46:10.213738Z",
     "iopub.status.busy": "2023-03-04T19:46:10.212941Z",
     "iopub.status.idle": "2023-03-04T19:46:10.220886Z",
     "shell.execute_reply": "2023-03-04T19:46:10.219701Z"
    },
    "papermill": {
     "duration": 0.03048,
     "end_time": "2023-03-04T19:46:10.222642",
     "exception": false,
     "start_time": "2023-03-04T19:46:10.192162",
     "status": "completed"
    },
    "tags": []
   },
   "outputs": [],
   "source": [
    "def clean_genre_label(label):\n",
    "    label = ' '.join(label.split()).lower()\n",
    "    label = re.sub(r'sci[\\s-]?fi', 'scifi', label)\n",
    "    label = re.sub(r'science[-–]fiction', 'scifi', label)\n",
    "    label = re.sub(r'rom-?com', 'romantic comedy', label)\n",
    "    label = re.sub(r'[,\\.;:\\|/\\-_–]', ' ', label)    \n",
    "    label = ' '.join(label.split())\n",
    "    return label"
   ]
  },
  {
   "cell_type": "code",
   "execution_count": 48,
   "id": "8c205e1d",
   "metadata": {
    "execution": {
     "iopub.execute_input": "2023-03-04T19:46:10.249184Z",
     "iopub.status.busy": "2023-03-04T19:46:10.248551Z",
     "iopub.status.idle": "2023-03-04T19:46:10.341970Z",
     "shell.execute_reply": "2023-03-04T19:46:10.341132Z"
    },
    "papermill": {
     "duration": 0.108811,
     "end_time": "2023-03-04T19:46:10.344050",
     "exception": false,
     "start_time": "2023-03-04T19:46:10.235239",
     "status": "completed"
    },
    "tags": []
   },
   "outputs": [],
   "source": [
    "df['Genre'] = df['Genre'].apply(clean_genre_label)"
   ]
  },
  {
   "cell_type": "code",
   "execution_count": 49,
   "id": "97a3a162",
   "metadata": {
    "execution": {
     "iopub.execute_input": "2023-03-04T19:46:10.409912Z",
     "iopub.status.busy": "2023-03-04T19:46:10.408821Z",
     "iopub.status.idle": "2023-03-04T19:46:11.034521Z",
     "shell.execute_reply": "2023-03-04T19:46:11.033586Z"
    },
    "papermill": {
     "duration": 0.661574,
     "end_time": "2023-03-04T19:46:11.037475",
     "exception": false,
     "start_time": "2023-03-04T19:46:10.375901",
     "status": "completed"
    },
    "tags": []
   },
   "outputs": [],
   "source": [
    "dummies = df['Genre'].str.get_dummies(sep=' ')\n",
    "df = pd.concat([df['Plot'], dummies], axis=1)"
   ]
  },
  {
   "cell_type": "code",
   "execution_count": 50,
   "id": "8f373608",
   "metadata": {
    "execution": {
     "iopub.execute_input": "2023-03-04T19:46:11.107941Z",
     "iopub.status.busy": "2023-03-04T19:46:11.107642Z",
     "iopub.status.idle": "2023-03-04T19:46:11.119466Z",
     "shell.execute_reply": "2023-03-04T19:46:11.118197Z"
    },
    "papermill": {
     "duration": 0.05092,
     "end_time": "2023-03-04T19:46:11.122647",
     "exception": false,
     "start_time": "2023-03-04T19:46:11.071727",
     "status": "completed"
    },
    "tags": []
   },
   "outputs": [
    {
     "data": {
      "text/plain": [
       "drama        3351\n",
       "comedy       2758\n",
       "action       1220\n",
       "horror       1007\n",
       "thriller      945\n",
       "romance       716\n",
       "crime         604\n",
       "adventure     406\n",
       "science       402\n",
       "fiction       397\n",
       "fantasy       351\n",
       "family        335\n",
       "musical       329\n",
       "romantic      291\n",
       "war           280\n",
       "animated      277\n",
       "western       266\n",
       "scifi         260\n",
       "animation     233\n",
       "film          220\n",
       "dtype: int64"
      ]
     },
     "execution_count": 50,
     "metadata": {},
     "output_type": "execute_result"
    }
   ],
   "source": [
    "df.sum(numeric_only=True).sort_values(ascending=False)[:20]"
   ]
  },
  {
   "cell_type": "code",
   "execution_count": 51,
   "id": "abbb1e09",
   "metadata": {
    "execution": {
     "iopub.execute_input": "2023-03-04T19:46:11.163805Z",
     "iopub.status.busy": "2023-03-04T19:46:11.163334Z",
     "iopub.status.idle": "2023-03-04T19:46:11.173071Z",
     "shell.execute_reply": "2023-03-04T19:46:11.171694Z"
    },
    "papermill": {
     "duration": 0.025209,
     "end_time": "2023-03-04T19:46:11.175288",
     "exception": false,
     "start_time": "2023-03-04T19:46:11.150079",
     "status": "completed"
    },
    "tags": []
   },
   "outputs": [],
   "source": [
    "df = df[['Plot',\n",
    "         'drama',\n",
    "         'comedy',\n",
    "         'thriller','action','crime',\n",
    "         'horror','scifi','fantasy','mystery','supernatural']]"
   ]
  },
  {
   "cell_type": "code",
   "execution_count": 52,
   "id": "de5d1870",
   "metadata": {
    "execution": {
     "iopub.execute_input": "2023-03-04T19:46:11.202475Z",
     "iopub.status.busy": "2023-03-04T19:46:11.202002Z",
     "iopub.status.idle": "2023-03-04T19:46:11.214087Z",
     "shell.execute_reply": "2023-03-04T19:46:11.212597Z"
    },
    "papermill": {
     "duration": 0.027892,
     "end_time": "2023-03-04T19:46:11.216156",
     "exception": false,
     "start_time": "2023-03-04T19:46:11.188264",
     "status": "completed"
    },
    "tags": []
   },
   "outputs": [
    {
     "data": {
      "text/plain": [
       "drama           3351\n",
       "comedy          2758\n",
       "action          1220\n",
       "horror          1007\n",
       "thriller         945\n",
       "crime            604\n",
       "fantasy          351\n",
       "scifi            260\n",
       "mystery          167\n",
       "supernatural      28\n",
       "dtype: int64"
      ]
     },
     "execution_count": 52,
     "metadata": {},
     "output_type": "execute_result"
    }
   ],
   "source": [
    "df.sum(numeric_only=True).sort_values(ascending=False)"
   ]
  },
  {
   "cell_type": "code",
   "execution_count": 53,
   "id": "0e8d1679",
   "metadata": {
    "execution": {
     "iopub.execute_input": "2023-03-04T19:46:11.243061Z",
     "iopub.status.busy": "2023-03-04T19:46:11.242664Z",
     "iopub.status.idle": "2023-03-04T19:46:11.247526Z",
     "shell.execute_reply": "2023-03-04T19:46:11.246477Z"
    },
    "papermill": {
     "duration": 0.020025,
     "end_time": "2023-03-04T19:46:11.249129",
     "exception": false,
     "start_time": "2023-03-04T19:46:11.229104",
     "status": "completed"
    },
    "tags": []
   },
   "outputs": [],
   "source": [
    "group1 = 'action_thriller_crime'\n",
    "group2 = 'horror_scifi_mystery_supernatural_fantasy'"
   ]
  },
  {
   "cell_type": "code",
   "execution_count": 54,
   "id": "08f4405c",
   "metadata": {
    "execution": {
     "iopub.execute_input": "2023-03-04T19:46:11.275686Z",
     "iopub.status.busy": "2023-03-04T19:46:11.275219Z",
     "iopub.status.idle": "2023-03-04T19:46:11.293036Z",
     "shell.execute_reply": "2023-03-04T19:46:11.291591Z"
    },
    "papermill": {
     "duration": 0.033633,
     "end_time": "2023-03-04T19:46:11.295249",
     "exception": false,
     "start_time": "2023-03-04T19:46:11.261616",
     "status": "completed"
    },
    "tags": []
   },
   "outputs": [],
   "source": [
    "df.loc[:, group1] = df[group1.split('_')].max(axis=1)\n",
    "df.loc[:, group2] = df[group2.split('_')].max(axis=1)\n",
    "\n",
    "df = df.drop(columns=group1.split('_')+group2.split('_'))"
   ]
  },
  {
   "cell_type": "code",
   "execution_count": 55,
   "id": "37c2fbf5",
   "metadata": {
    "execution": {
     "iopub.execute_input": "2023-03-04T19:46:11.324733Z",
     "iopub.status.busy": "2023-03-04T19:46:11.324207Z",
     "iopub.status.idle": "2023-03-04T19:46:11.337073Z",
     "shell.execute_reply": "2023-03-04T19:46:11.335687Z"
    },
    "papermill": {
     "duration": 0.029165,
     "end_time": "2023-03-04T19:46:11.339382",
     "exception": false,
     "start_time": "2023-03-04T19:46:11.310217",
     "status": "completed"
    },
    "tags": []
   },
   "outputs": [],
   "source": [
    "df = df.drop(df[df.sum(axis=1, numeric_only=True)!=1].index)"
   ]
  },
  {
   "cell_type": "code",
   "execution_count": 56,
   "id": "405bdd39",
   "metadata": {
    "execution": {
     "iopub.execute_input": "2023-03-04T19:46:11.367192Z",
     "iopub.status.busy": "2023-03-04T19:46:11.366687Z",
     "iopub.status.idle": "2023-03-04T19:46:11.373466Z",
     "shell.execute_reply": "2023-03-04T19:46:11.372212Z"
    },
    "papermill": {
     "duration": 0.022343,
     "end_time": "2023-03-04T19:46:11.375303",
     "exception": false,
     "start_time": "2023-03-04T19:46:11.352960",
     "status": "completed"
    },
    "tags": []
   },
   "outputs": [],
   "source": [
    "df = df.reset_index(drop=True)"
   ]
  },
  {
   "cell_type": "code",
   "execution_count": 57,
   "id": "b0b600bf",
   "metadata": {
    "execution": {
     "iopub.execute_input": "2023-03-04T19:46:11.402427Z",
     "iopub.status.busy": "2023-03-04T19:46:11.401920Z",
     "iopub.status.idle": "2023-03-04T19:46:11.431042Z",
     "shell.execute_reply": "2023-03-04T19:46:11.429574Z"
    },
    "papermill": {
     "duration": 0.045262,
     "end_time": "2023-03-04T19:46:11.433260",
     "exception": false,
     "start_time": "2023-03-04T19:46:11.387998",
     "status": "completed"
    },
    "tags": []
   },
   "outputs": [],
   "source": [
    "genres = [col for col in df.columns if col != 'Plot']\n",
    "\n",
    "category_col = df[genres].idxmax(axis=1, numeric_only=True)\n",
    "df['genre'] = category_col\n",
    "\n",
    "df = df.drop(columns=genres)"
   ]
  },
  {
   "cell_type": "code",
   "execution_count": 58,
   "id": "57a0ce52",
   "metadata": {
    "execution": {
     "iopub.execute_input": "2023-03-04T19:46:11.463636Z",
     "iopub.status.busy": "2023-03-04T19:46:11.462815Z",
     "iopub.status.idle": "2023-03-04T19:46:11.473442Z",
     "shell.execute_reply": "2023-03-04T19:46:11.472111Z"
    },
    "papermill": {
     "duration": 0.026682,
     "end_time": "2023-03-04T19:46:11.475488",
     "exception": false,
     "start_time": "2023-03-04T19:46:11.448806",
     "status": "completed"
    },
    "tags": []
   },
   "outputs": [
    {
     "data": {
      "text/plain": [
       "drama                                        2496\n",
       "comedy                                       2113\n",
       "action_thriller_crime                        1590\n",
       "horror_scifi_mystery_supernatural_fantasy    1313\n",
       "Name: genre, dtype: int64"
      ]
     },
     "execution_count": 58,
     "metadata": {},
     "output_type": "execute_result"
    }
   ],
   "source": [
    "df['genre'].value_counts()"
   ]
  },
  {
   "cell_type": "code",
   "execution_count": 59,
   "id": "528f1268",
   "metadata": {
    "execution": {
     "iopub.execute_input": "2023-03-04T19:46:11.502782Z",
     "iopub.status.busy": "2023-03-04T19:46:11.502320Z",
     "iopub.status.idle": "2023-03-04T19:46:11.514634Z",
     "shell.execute_reply": "2023-03-04T19:46:11.513450Z"
    },
    "papermill": {
     "duration": 0.028254,
     "end_time": "2023-03-04T19:46:11.516735",
     "exception": false,
     "start_time": "2023-03-04T19:46:11.488481",
     "status": "completed"
    },
    "tags": []
   },
   "outputs": [
    {
     "data": {
      "text/plain": [
       "drama                                        0.332268\n",
       "comedy                                       0.281283\n",
       "action_thriller_crime                        0.211661\n",
       "horror_scifi_mystery_supernatural_fantasy    0.174787\n",
       "Name: genre, dtype: float64"
      ]
     },
     "execution_count": 59,
     "metadata": {},
     "output_type": "execute_result"
    }
   ],
   "source": [
    "df['genre'].value_counts(normalize=True)"
   ]
  },
  {
   "cell_type": "code",
   "execution_count": 60,
   "id": "51eabe49",
   "metadata": {
    "execution": {
     "iopub.execute_input": "2023-03-04T19:46:11.544636Z",
     "iopub.status.busy": "2023-03-04T19:46:11.544210Z",
     "iopub.status.idle": "2023-03-04T19:46:11.551010Z",
     "shell.execute_reply": "2023-03-04T19:46:11.550106Z"
    },
    "papermill": {
     "duration": 0.022368,
     "end_time": "2023-03-04T19:46:11.552643",
     "exception": false,
     "start_time": "2023-03-04T19:46:11.530275",
     "status": "completed"
    },
    "tags": []
   },
   "outputs": [],
   "source": [
    "df = df.rename(columns={'Plot':'text','genre':'class'})"
   ]
  },
  {
   "cell_type": "code",
   "execution_count": 61,
   "id": "f791b157",
   "metadata": {
    "execution": {
     "iopub.execute_input": "2023-03-04T19:46:11.580320Z",
     "iopub.status.busy": "2023-03-04T19:46:11.579887Z",
     "iopub.status.idle": "2023-03-04T19:46:12.202171Z",
     "shell.execute_reply": "2023-03-04T19:46:12.201163Z"
    },
    "papermill": {
     "duration": 0.639833,
     "end_time": "2023-03-04T19:46:12.205447",
     "exception": false,
     "start_time": "2023-03-04T19:46:11.565614",
     "status": "completed"
    },
    "tags": []
   },
   "outputs": [],
   "source": [
    "ds_id = 'movie-plots'\n",
    "\n",
    "# Create directory\n",
    "data_ds_path = base_path + ds_id\n",
    "\n",
    "os.makedirs(data_ds_path, exist_ok=True)\n",
    "\n",
    "df.to_csv(f'{data_ds_path}/data.csv', index=False)"
   ]
  },
  {
   "cell_type": "markdown",
   "id": "c3196f43",
   "metadata": {
    "papermill": {
     "duration": 0.012579,
     "end_time": "2023-03-04T19:46:12.233498",
     "exception": false,
     "start_time": "2023-03-04T19:46:12.220919",
     "status": "completed"
    },
    "tags": []
   },
   "source": [
    "## 20 Newsgroups"
   ]
  },
  {
   "cell_type": "code",
   "execution_count": 62,
   "id": "5b00ba99",
   "metadata": {
    "execution": {
     "iopub.execute_input": "2023-03-04T19:46:12.260960Z",
     "iopub.status.busy": "2023-03-04T19:46:12.260541Z",
     "iopub.status.idle": "2023-03-04T19:46:14.038545Z",
     "shell.execute_reply": "2023-03-04T19:46:14.037616Z"
    },
    "papermill": {
     "duration": 1.795243,
     "end_time": "2023-03-04T19:46:14.041650",
     "exception": false,
     "start_time": "2023-03-04T19:46:12.246407",
     "status": "completed"
    },
    "tags": []
   },
   "outputs": [],
   "source": [
    "newsgroups = fetch_20newsgroups(subset='all', remove=('headers', 'footers', 'quotes'))\n",
    "\n",
    "df = pd.DataFrame({'text': newsgroups.data,\n",
    "                   'category': [newsgroups.target_names[value]\n",
    "                                for value in newsgroups.target]})"
   ]
  },
  {
   "cell_type": "code",
   "execution_count": 63,
   "id": "dfdb9049",
   "metadata": {
    "execution": {
     "iopub.execute_input": "2023-03-04T19:46:14.119349Z",
     "iopub.status.busy": "2023-03-04T19:46:14.119050Z",
     "iopub.status.idle": "2023-03-04T19:46:14.132592Z",
     "shell.execute_reply": "2023-03-04T19:46:14.131208Z"
    },
    "papermill": {
     "duration": 0.055059,
     "end_time": "2023-03-04T19:46:14.135647",
     "exception": false,
     "start_time": "2023-03-04T19:46:14.080588",
     "status": "completed"
    },
    "tags": []
   },
   "outputs": [],
   "source": [
    "religion = ['talk.religion.misc', 'alt.atheism', 'soc.religion.christian']\n",
    "df['macro_category'] = [cat.split('.')[0]\n",
    "                        if cat not in religion else 'religion'\n",
    "                        for cat in df['category']]"
   ]
  },
  {
   "cell_type": "code",
   "execution_count": 64,
   "id": "392973ea",
   "metadata": {
    "execution": {
     "iopub.execute_input": "2023-03-04T19:46:14.184074Z",
     "iopub.status.busy": "2023-03-04T19:46:14.183608Z",
     "iopub.status.idle": "2023-03-04T19:46:14.191776Z",
     "shell.execute_reply": "2023-03-04T19:46:14.190532Z"
    },
    "papermill": {
     "duration": 0.025416,
     "end_time": "2023-03-04T19:46:14.193743",
     "exception": false,
     "start_time": "2023-03-04T19:46:14.168327",
     "status": "completed"
    },
    "tags": []
   },
   "outputs": [],
   "source": [
    "def clean_text(text):\n",
    "  # Remove hyperlinks, html, email adress\n",
    "  text = re.sub(r'https?://\\S+|www\\.\\S+','',text)\n",
    "  text = re.sub(r'<.*?>', '', text)\n",
    "  text = re.sub(r'[a-zA-Z0-9\\._-]+@[a-zA-Z0-9\\._-]+', '', text)\n",
    "  # Contractions\n",
    "  text = contractions.fix(text)\n",
    "  # Remove multiple spaces\n",
    "  text = ' '.join(text.split())\n",
    "  # Avoid repetition of the same symbol\n",
    "  text = re.sub(r'(\\W)( ?\\1)+',  r'\\1', text)\n",
    "  return text"
   ]
  },
  {
   "cell_type": "code",
   "execution_count": 65,
   "id": "874e03f3",
   "metadata": {
    "execution": {
     "iopub.execute_input": "2023-03-04T19:46:14.221810Z",
     "iopub.status.busy": "2023-03-04T19:46:14.221328Z",
     "iopub.status.idle": "2023-03-04T19:46:17.059865Z",
     "shell.execute_reply": "2023-03-04T19:46:17.058920Z"
    },
    "papermill": {
     "duration": 2.855535,
     "end_time": "2023-03-04T19:46:17.062813",
     "exception": false,
     "start_time": "2023-03-04T19:46:14.207278",
     "status": "completed"
    },
    "tags": []
   },
   "outputs": [],
   "source": [
    "df['text'] = df['text'].apply(clean_text)"
   ]
  },
  {
   "cell_type": "code",
   "execution_count": 66,
   "id": "2eeba528",
   "metadata": {
    "execution": {
     "iopub.execute_input": "2023-03-04T19:46:17.139437Z",
     "iopub.status.busy": "2023-03-04T19:46:17.139149Z",
     "iopub.status.idle": "2023-03-04T19:46:21.914903Z",
     "shell.execute_reply": "2023-03-04T19:46:21.913996Z"
    },
    "papermill": {
     "duration": 4.818062,
     "end_time": "2023-03-04T19:46:21.917801",
     "exception": false,
     "start_time": "2023-03-04T19:46:17.099739",
     "status": "completed"
    },
    "tags": []
   },
   "outputs": [],
   "source": [
    "df['text'] = df['text'].apply(sent_tokenize)"
   ]
  },
  {
   "cell_type": "code",
   "execution_count": 67,
   "id": "1f2e059f",
   "metadata": {
    "execution": {
     "iopub.execute_input": "2023-03-04T19:46:21.992972Z",
     "iopub.status.busy": "2023-03-04T19:46:21.992686Z",
     "iopub.status.idle": "2023-03-04T19:46:22.004507Z",
     "shell.execute_reply": "2023-03-04T19:46:22.003331Z"
    },
    "papermill": {
     "duration": 0.053599,
     "end_time": "2023-03-04T19:46:22.008048",
     "exception": false,
     "start_time": "2023-03-04T19:46:21.954449",
     "status": "completed"
    },
    "tags": []
   },
   "outputs": [],
   "source": [
    "df['n_sentences'] = df['text'].apply(len)"
   ]
  },
  {
   "cell_type": "code",
   "execution_count": 68,
   "id": "45d22d8c",
   "metadata": {
    "execution": {
     "iopub.execute_input": "2023-03-04T19:46:22.055862Z",
     "iopub.status.busy": "2023-03-04T19:46:22.055395Z",
     "iopub.status.idle": "2023-03-04T19:46:22.149021Z",
     "shell.execute_reply": "2023-03-04T19:46:22.148102Z"
    },
    "papermill": {
     "duration": 0.10958,
     "end_time": "2023-03-04T19:46:22.150889",
     "exception": false,
     "start_time": "2023-03-04T19:46:22.041309",
     "status": "completed"
    },
    "tags": []
   },
   "outputs": [
    {
     "data": {
      "text/html": [
       "<div>\n",
       "<style scoped>\n",
       "    .dataframe tbody tr th:only-of-type {\n",
       "        vertical-align: middle;\n",
       "    }\n",
       "\n",
       "    .dataframe tbody tr th {\n",
       "        vertical-align: top;\n",
       "    }\n",
       "\n",
       "    .dataframe thead th {\n",
       "        text-align: right;\n",
       "    }\n",
       "</style>\n",
       "<table border=\"1\" class=\"dataframe\">\n",
       "  <thead>\n",
       "    <tr style=\"text-align: right;\">\n",
       "      <th></th>\n",
       "      <th>count</th>\n",
       "      <th>mean</th>\n",
       "      <th>std</th>\n",
       "      <th>min</th>\n",
       "      <th>25%</th>\n",
       "      <th>50%</th>\n",
       "      <th>75%</th>\n",
       "      <th>max</th>\n",
       "    </tr>\n",
       "    <tr>\n",
       "      <th>category</th>\n",
       "      <th></th>\n",
       "      <th></th>\n",
       "      <th></th>\n",
       "      <th></th>\n",
       "      <th></th>\n",
       "      <th></th>\n",
       "      <th></th>\n",
       "      <th></th>\n",
       "    </tr>\n",
       "  </thead>\n",
       "  <tbody>\n",
       "    <tr>\n",
       "      <th>talk.politics.mideast</th>\n",
       "      <td>940.0</td>\n",
       "      <td>21.461702</td>\n",
       "      <td>54.465665</td>\n",
       "      <td>0.0</td>\n",
       "      <td>4.0</td>\n",
       "      <td>8.0</td>\n",
       "      <td>19.0</td>\n",
       "      <td>777.0</td>\n",
       "    </tr>\n",
       "    <tr>\n",
       "      <th>talk.politics.misc</th>\n",
       "      <td>775.0</td>\n",
       "      <td>17.347097</td>\n",
       "      <td>46.105676</td>\n",
       "      <td>0.0</td>\n",
       "      <td>4.0</td>\n",
       "      <td>8.0</td>\n",
       "      <td>14.0</td>\n",
       "      <td>486.0</td>\n",
       "    </tr>\n",
       "    <tr>\n",
       "      <th>soc.religion.christian</th>\n",
       "      <td>997.0</td>\n",
       "      <td>16.008024</td>\n",
       "      <td>22.336104</td>\n",
       "      <td>0.0</td>\n",
       "      <td>5.0</td>\n",
       "      <td>9.0</td>\n",
       "      <td>19.0</td>\n",
       "      <td>285.0</td>\n",
       "    </tr>\n",
       "    <tr>\n",
       "      <th>talk.religion.misc</th>\n",
       "      <td>628.0</td>\n",
       "      <td>13.788217</td>\n",
       "      <td>29.335078</td>\n",
       "      <td>0.0</td>\n",
       "      <td>3.0</td>\n",
       "      <td>6.0</td>\n",
       "      <td>15.0</td>\n",
       "      <td>547.0</td>\n",
       "    </tr>\n",
       "    <tr>\n",
       "      <th>sci.crypt</th>\n",
       "      <td>991.0</td>\n",
       "      <td>13.115035</td>\n",
       "      <td>33.298268</td>\n",
       "      <td>0.0</td>\n",
       "      <td>3.0</td>\n",
       "      <td>6.0</td>\n",
       "      <td>12.0</td>\n",
       "      <td>530.0</td>\n",
       "    </tr>\n",
       "    <tr>\n",
       "      <th>alt.atheism</th>\n",
       "      <td>799.0</td>\n",
       "      <td>12.617021</td>\n",
       "      <td>28.851682</td>\n",
       "      <td>0.0</td>\n",
       "      <td>3.0</td>\n",
       "      <td>6.0</td>\n",
       "      <td>12.0</td>\n",
       "      <td>516.0</td>\n",
       "    </tr>\n",
       "    <tr>\n",
       "      <th>talk.politics.guns</th>\n",
       "      <td>910.0</td>\n",
       "      <td>12.201099</td>\n",
       "      <td>20.214259</td>\n",
       "      <td>0.0</td>\n",
       "      <td>3.0</td>\n",
       "      <td>7.0</td>\n",
       "      <td>13.0</td>\n",
       "      <td>380.0</td>\n",
       "    </tr>\n",
       "    <tr>\n",
       "      <th>comp.graphics</th>\n",
       "      <td>973.0</td>\n",
       "      <td>12.103803</td>\n",
       "      <td>47.702422</td>\n",
       "      <td>0.0</td>\n",
       "      <td>3.0</td>\n",
       "      <td>5.0</td>\n",
       "      <td>8.0</td>\n",
       "      <td>544.0</td>\n",
       "    </tr>\n",
       "    <tr>\n",
       "      <th>comp.windows.x</th>\n",
       "      <td>988.0</td>\n",
       "      <td>12.063765</td>\n",
       "      <td>41.966033</td>\n",
       "      <td>0.0</td>\n",
       "      <td>3.0</td>\n",
       "      <td>5.0</td>\n",
       "      <td>9.0</td>\n",
       "      <td>535.0</td>\n",
       "    </tr>\n",
       "    <tr>\n",
       "      <th>comp.os.ms-windows.misc</th>\n",
       "      <td>985.0</td>\n",
       "      <td>11.761421</td>\n",
       "      <td>50.346391</td>\n",
       "      <td>0.0</td>\n",
       "      <td>3.0</td>\n",
       "      <td>5.0</td>\n",
       "      <td>9.0</td>\n",
       "      <td>1210.0</td>\n",
       "    </tr>\n",
       "    <tr>\n",
       "      <th>sci.med</th>\n",
       "      <td>990.0</td>\n",
       "      <td>11.679798</td>\n",
       "      <td>24.288240</td>\n",
       "      <td>0.0</td>\n",
       "      <td>3.0</td>\n",
       "      <td>6.0</td>\n",
       "      <td>11.0</td>\n",
       "      <td>273.0</td>\n",
       "    </tr>\n",
       "    <tr>\n",
       "      <th>sci.space</th>\n",
       "      <td>987.0</td>\n",
       "      <td>10.627153</td>\n",
       "      <td>23.521834</td>\n",
       "      <td>0.0</td>\n",
       "      <td>3.0</td>\n",
       "      <td>6.0</td>\n",
       "      <td>10.0</td>\n",
       "      <td>441.0</td>\n",
       "    </tr>\n",
       "    <tr>\n",
       "      <th>rec.sport.hockey</th>\n",
       "      <td>999.0</td>\n",
       "      <td>10.117117</td>\n",
       "      <td>22.959782</td>\n",
       "      <td>0.0</td>\n",
       "      <td>3.0</td>\n",
       "      <td>5.0</td>\n",
       "      <td>10.0</td>\n",
       "      <td>468.0</td>\n",
       "    </tr>\n",
       "    <tr>\n",
       "      <th>rec.sport.baseball</th>\n",
       "      <td>994.0</td>\n",
       "      <td>8.224346</td>\n",
       "      <td>10.761021</td>\n",
       "      <td>0.0</td>\n",
       "      <td>3.0</td>\n",
       "      <td>5.0</td>\n",
       "      <td>10.0</td>\n",
       "      <td>132.0</td>\n",
       "    </tr>\n",
       "    <tr>\n",
       "      <th>comp.sys.ibm.pc.hardware</th>\n",
       "      <td>982.0</td>\n",
       "      <td>8.023422</td>\n",
       "      <td>11.917336</td>\n",
       "      <td>0.0</td>\n",
       "      <td>3.0</td>\n",
       "      <td>6.0</td>\n",
       "      <td>9.0</td>\n",
       "      <td>215.0</td>\n",
       "    </tr>\n",
       "    <tr>\n",
       "      <th>sci.electronics</th>\n",
       "      <td>984.0</td>\n",
       "      <td>7.727642</td>\n",
       "      <td>25.604691</td>\n",
       "      <td>0.0</td>\n",
       "      <td>3.0</td>\n",
       "      <td>5.0</td>\n",
       "      <td>9.0</td>\n",
       "      <td>785.0</td>\n",
       "    </tr>\n",
       "    <tr>\n",
       "      <th>comp.sys.mac.hardware</th>\n",
       "      <td>963.0</td>\n",
       "      <td>7.539979</td>\n",
       "      <td>23.219445</td>\n",
       "      <td>0.0</td>\n",
       "      <td>3.0</td>\n",
       "      <td>5.0</td>\n",
       "      <td>8.0</td>\n",
       "      <td>595.0</td>\n",
       "    </tr>\n",
       "    <tr>\n",
       "      <th>rec.autos</th>\n",
       "      <td>990.0</td>\n",
       "      <td>7.493939</td>\n",
       "      <td>11.887638</td>\n",
       "      <td>0.0</td>\n",
       "      <td>3.0</td>\n",
       "      <td>5.0</td>\n",
       "      <td>9.0</td>\n",
       "      <td>199.0</td>\n",
       "    </tr>\n",
       "    <tr>\n",
       "      <th>rec.motorcycles</th>\n",
       "      <td>996.0</td>\n",
       "      <td>6.955823</td>\n",
       "      <td>12.681013</td>\n",
       "      <td>0.0</td>\n",
       "      <td>3.0</td>\n",
       "      <td>5.0</td>\n",
       "      <td>8.0</td>\n",
       "      <td>352.0</td>\n",
       "    </tr>\n",
       "    <tr>\n",
       "      <th>misc.forsale</th>\n",
       "      <td>975.0</td>\n",
       "      <td>6.734359</td>\n",
       "      <td>8.609257</td>\n",
       "      <td>0.0</td>\n",
       "      <td>3.0</td>\n",
       "      <td>5.0</td>\n",
       "      <td>8.0</td>\n",
       "      <td>156.0</td>\n",
       "    </tr>\n",
       "  </tbody>\n",
       "</table>\n",
       "</div>"
      ],
      "text/plain": [
       "                          count       mean        std  min  25%  50%   75%  \\\n",
       "category                                                                     \n",
       "talk.politics.mideast     940.0  21.461702  54.465665  0.0  4.0  8.0  19.0   \n",
       "talk.politics.misc        775.0  17.347097  46.105676  0.0  4.0  8.0  14.0   \n",
       "soc.religion.christian    997.0  16.008024  22.336104  0.0  5.0  9.0  19.0   \n",
       "talk.religion.misc        628.0  13.788217  29.335078  0.0  3.0  6.0  15.0   \n",
       "sci.crypt                 991.0  13.115035  33.298268  0.0  3.0  6.0  12.0   \n",
       "alt.atheism               799.0  12.617021  28.851682  0.0  3.0  6.0  12.0   \n",
       "talk.politics.guns        910.0  12.201099  20.214259  0.0  3.0  7.0  13.0   \n",
       "comp.graphics             973.0  12.103803  47.702422  0.0  3.0  5.0   8.0   \n",
       "comp.windows.x            988.0  12.063765  41.966033  0.0  3.0  5.0   9.0   \n",
       "comp.os.ms-windows.misc   985.0  11.761421  50.346391  0.0  3.0  5.0   9.0   \n",
       "sci.med                   990.0  11.679798  24.288240  0.0  3.0  6.0  11.0   \n",
       "sci.space                 987.0  10.627153  23.521834  0.0  3.0  6.0  10.0   \n",
       "rec.sport.hockey          999.0  10.117117  22.959782  0.0  3.0  5.0  10.0   \n",
       "rec.sport.baseball        994.0   8.224346  10.761021  0.0  3.0  5.0  10.0   \n",
       "comp.sys.ibm.pc.hardware  982.0   8.023422  11.917336  0.0  3.0  6.0   9.0   \n",
       "sci.electronics           984.0   7.727642  25.604691  0.0  3.0  5.0   9.0   \n",
       "comp.sys.mac.hardware     963.0   7.539979  23.219445  0.0  3.0  5.0   8.0   \n",
       "rec.autos                 990.0   7.493939  11.887638  0.0  3.0  5.0   9.0   \n",
       "rec.motorcycles           996.0   6.955823  12.681013  0.0  3.0  5.0   8.0   \n",
       "misc.forsale              975.0   6.734359   8.609257  0.0  3.0  5.0   8.0   \n",
       "\n",
       "                             max  \n",
       "category                          \n",
       "talk.politics.mideast      777.0  \n",
       "talk.politics.misc         486.0  \n",
       "soc.religion.christian     285.0  \n",
       "talk.religion.misc         547.0  \n",
       "sci.crypt                  530.0  \n",
       "alt.atheism                516.0  \n",
       "talk.politics.guns         380.0  \n",
       "comp.graphics              544.0  \n",
       "comp.windows.x             535.0  \n",
       "comp.os.ms-windows.misc   1210.0  \n",
       "sci.med                    273.0  \n",
       "sci.space                  441.0  \n",
       "rec.sport.hockey           468.0  \n",
       "rec.sport.baseball         132.0  \n",
       "comp.sys.ibm.pc.hardware   215.0  \n",
       "sci.electronics            785.0  \n",
       "comp.sys.mac.hardware      595.0  \n",
       "rec.autos                  199.0  \n",
       "rec.motorcycles            352.0  \n",
       "misc.forsale               156.0  "
      ]
     },
     "execution_count": 68,
     "metadata": {},
     "output_type": "execute_result"
    }
   ],
   "source": [
    "df.groupby('category')['n_sentences'].describe().sort_values('mean', ascending=False)"
   ]
  },
  {
   "cell_type": "code",
   "execution_count": 69,
   "id": "402d9344",
   "metadata": {
    "execution": {
     "iopub.execute_input": "2023-03-04T19:46:22.181704Z",
     "iopub.status.busy": "2023-03-04T19:46:22.181289Z",
     "iopub.status.idle": "2023-03-04T19:46:22.194217Z",
     "shell.execute_reply": "2023-03-04T19:46:22.192903Z"
    },
    "papermill": {
     "duration": 0.029424,
     "end_time": "2023-03-04T19:46:22.196272",
     "exception": false,
     "start_time": "2023-03-04T19:46:22.166848",
     "status": "completed"
    },
    "tags": []
   },
   "outputs": [
    {
     "data": {
      "text/plain": [
       "soc.religion.christian      227\n",
       "talk.politics.mideast       218\n",
       "talk.politics.guns          135\n",
       "talk.politics.misc          120\n",
       "sci.crypt                   118\n",
       "talk.religion.misc          114\n",
       "alt.atheism                  99\n",
       "sci.med                      97\n",
       "rec.sport.hockey             90\n",
       "sci.space                    89\n",
       "rec.sport.baseball           77\n",
       "comp.graphics                59\n",
       "comp.os.ms-windows.misc      52\n",
       "comp.windows.x               50\n",
       "rec.autos                    44\n",
       "comp.sys.ibm.pc.hardware     44\n",
       "misc.forsale                 40\n",
       "sci.electronics              37\n",
       "rec.motorcycles              34\n",
       "comp.sys.mac.hardware        31\n",
       "Name: category, dtype: int64"
      ]
     },
     "execution_count": 69,
     "metadata": {},
     "output_type": "execute_result"
    }
   ],
   "source": [
    "df[df['n_sentences']>20]['category'].value_counts()"
   ]
  },
  {
   "cell_type": "code",
   "execution_count": 70,
   "id": "cb6c344f",
   "metadata": {
    "execution": {
     "iopub.execute_input": "2023-03-04T19:46:22.251883Z",
     "iopub.status.busy": "2023-03-04T19:46:22.251186Z",
     "iopub.status.idle": "2023-03-04T19:46:22.307037Z",
     "shell.execute_reply": "2023-03-04T19:46:22.305544Z"
    },
    "papermill": {
     "duration": 0.084553,
     "end_time": "2023-03-04T19:46:22.309220",
     "exception": false,
     "start_time": "2023-03-04T19:46:22.224667",
     "status": "completed"
    },
    "tags": []
   },
   "outputs": [
    {
     "data": {
      "text/html": [
       "<div>\n",
       "<style scoped>\n",
       "    .dataframe tbody tr th:only-of-type {\n",
       "        vertical-align: middle;\n",
       "    }\n",
       "\n",
       "    .dataframe tbody tr th {\n",
       "        vertical-align: top;\n",
       "    }\n",
       "\n",
       "    .dataframe thead th {\n",
       "        text-align: right;\n",
       "    }\n",
       "</style>\n",
       "<table border=\"1\" class=\"dataframe\">\n",
       "  <thead>\n",
       "    <tr style=\"text-align: right;\">\n",
       "      <th></th>\n",
       "      <th>count</th>\n",
       "      <th>mean</th>\n",
       "      <th>std</th>\n",
       "      <th>min</th>\n",
       "      <th>25%</th>\n",
       "      <th>50%</th>\n",
       "      <th>75%</th>\n",
       "      <th>max</th>\n",
       "    </tr>\n",
       "    <tr>\n",
       "      <th>macro_category</th>\n",
       "      <th></th>\n",
       "      <th></th>\n",
       "      <th></th>\n",
       "      <th></th>\n",
       "      <th></th>\n",
       "      <th></th>\n",
       "      <th></th>\n",
       "      <th></th>\n",
       "    </tr>\n",
       "  </thead>\n",
       "  <tbody>\n",
       "    <tr>\n",
       "      <th>talk</th>\n",
       "      <td>2625.0</td>\n",
       "      <td>17.036571</td>\n",
       "      <td>42.956925</td>\n",
       "      <td>0.0</td>\n",
       "      <td>4.0</td>\n",
       "      <td>8.0</td>\n",
       "      <td>15.0</td>\n",
       "      <td>777.0</td>\n",
       "    </tr>\n",
       "    <tr>\n",
       "      <th>religion</th>\n",
       "      <td>2424.0</td>\n",
       "      <td>14.315182</td>\n",
       "      <td>26.535201</td>\n",
       "      <td>0.0</td>\n",
       "      <td>4.0</td>\n",
       "      <td>7.0</td>\n",
       "      <td>16.0</td>\n",
       "      <td>547.0</td>\n",
       "    </tr>\n",
       "    <tr>\n",
       "      <th>sci</th>\n",
       "      <td>3952.0</td>\n",
       "      <td>10.792763</td>\n",
       "      <td>27.029130</td>\n",
       "      <td>0.0</td>\n",
       "      <td>3.0</td>\n",
       "      <td>6.0</td>\n",
       "      <td>10.0</td>\n",
       "      <td>785.0</td>\n",
       "    </tr>\n",
       "    <tr>\n",
       "      <th>comp</th>\n",
       "      <td>4891.0</td>\n",
       "      <td>10.308935</td>\n",
       "      <td>38.166062</td>\n",
       "      <td>0.0</td>\n",
       "      <td>3.0</td>\n",
       "      <td>5.0</td>\n",
       "      <td>9.0</td>\n",
       "      <td>1210.0</td>\n",
       "    </tr>\n",
       "    <tr>\n",
       "      <th>rec</th>\n",
       "      <td>3979.0</td>\n",
       "      <td>8.200302</td>\n",
       "      <td>15.425581</td>\n",
       "      <td>0.0</td>\n",
       "      <td>3.0</td>\n",
       "      <td>5.0</td>\n",
       "      <td>9.0</td>\n",
       "      <td>468.0</td>\n",
       "    </tr>\n",
       "    <tr>\n",
       "      <th>misc</th>\n",
       "      <td>975.0</td>\n",
       "      <td>6.734359</td>\n",
       "      <td>8.609257</td>\n",
       "      <td>0.0</td>\n",
       "      <td>3.0</td>\n",
       "      <td>5.0</td>\n",
       "      <td>8.0</td>\n",
       "      <td>156.0</td>\n",
       "    </tr>\n",
       "  </tbody>\n",
       "</table>\n",
       "</div>"
      ],
      "text/plain": [
       "                 count       mean        std  min  25%  50%   75%     max\n",
       "macro_category                                                           \n",
       "talk            2625.0  17.036571  42.956925  0.0  4.0  8.0  15.0   777.0\n",
       "religion        2424.0  14.315182  26.535201  0.0  4.0  7.0  16.0   547.0\n",
       "sci             3952.0  10.792763  27.029130  0.0  3.0  6.0  10.0   785.0\n",
       "comp            4891.0  10.308935  38.166062  0.0  3.0  5.0   9.0  1210.0\n",
       "rec             3979.0   8.200302  15.425581  0.0  3.0  5.0   9.0   468.0\n",
       "misc             975.0   6.734359   8.609257  0.0  3.0  5.0   8.0   156.0"
      ]
     },
     "execution_count": 70,
     "metadata": {},
     "output_type": "execute_result"
    }
   ],
   "source": [
    "df.groupby('macro_category')['n_sentences'].describe().sort_values('mean', ascending=False)"
   ]
  },
  {
   "cell_type": "code",
   "execution_count": 71,
   "id": "cd0c4aa0",
   "metadata": {
    "execution": {
     "iopub.execute_input": "2023-03-04T19:46:22.340347Z",
     "iopub.status.busy": "2023-03-04T19:46:22.339893Z",
     "iopub.status.idle": "2023-03-04T19:46:22.352800Z",
     "shell.execute_reply": "2023-03-04T19:46:22.351289Z"
    },
    "papermill": {
     "duration": 0.02995,
     "end_time": "2023-03-04T19:46:22.354975",
     "exception": false,
     "start_time": "2023-03-04T19:46:22.325025",
     "status": "completed"
    },
    "tags": []
   },
   "outputs": [
    {
     "data": {
      "text/plain": [
       "talk        473\n",
       "religion    440\n",
       "sci         341\n",
       "rec         245\n",
       "comp        236\n",
       "misc         40\n",
       "Name: macro_category, dtype: int64"
      ]
     },
     "execution_count": 71,
     "metadata": {},
     "output_type": "execute_result"
    }
   ],
   "source": [
    "df[df['n_sentences']>20]['macro_category'].value_counts()"
   ]
  },
  {
   "cell_type": "code",
   "execution_count": 72,
   "id": "c1a17832",
   "metadata": {
    "execution": {
     "iopub.execute_input": "2023-03-04T19:46:22.384862Z",
     "iopub.status.busy": "2023-03-04T19:46:22.384409Z",
     "iopub.status.idle": "2023-03-04T19:46:22.406188Z",
     "shell.execute_reply": "2023-03-04T19:46:22.404818Z"
    },
    "papermill": {
     "duration": 0.038692,
     "end_time": "2023-03-04T19:46:22.408239",
     "exception": false,
     "start_time": "2023-03-04T19:46:22.369547",
     "status": "completed"
    },
    "tags": []
   },
   "outputs": [],
   "source": [
    "df = df[df['n_sentences']>20]"
   ]
  },
  {
   "cell_type": "code",
   "execution_count": 73,
   "id": "6487be5d",
   "metadata": {
    "execution": {
     "iopub.execute_input": "2023-03-04T19:46:22.439478Z",
     "iopub.status.busy": "2023-03-04T19:46:22.439029Z",
     "iopub.status.idle": "2023-03-04T19:46:22.446385Z",
     "shell.execute_reply": "2023-03-04T19:46:22.444867Z"
    },
    "papermill": {
     "duration": 0.024651,
     "end_time": "2023-03-04T19:46:22.448784",
     "exception": false,
     "start_time": "2023-03-04T19:46:22.424133",
     "status": "completed"
    },
    "tags": []
   },
   "outputs": [],
   "source": [
    "df = df.drop(columns=['category','n_sentences'])"
   ]
  },
  {
   "cell_type": "code",
   "execution_count": 74,
   "id": "d64104b2",
   "metadata": {
    "execution": {
     "iopub.execute_input": "2023-03-04T19:46:22.478640Z",
     "iopub.status.busy": "2023-03-04T19:46:22.478171Z",
     "iopub.status.idle": "2023-03-04T19:46:22.484464Z",
     "shell.execute_reply": "2023-03-04T19:46:22.483101Z"
    },
    "papermill": {
     "duration": 0.023444,
     "end_time": "2023-03-04T19:46:22.486544",
     "exception": false,
     "start_time": "2023-03-04T19:46:22.463100",
     "status": "completed"
    },
    "tags": []
   },
   "outputs": [],
   "source": [
    "df = df.reset_index(drop=True)"
   ]
  },
  {
   "cell_type": "code",
   "execution_count": 75,
   "id": "c3638a83",
   "metadata": {
    "execution": {
     "iopub.execute_input": "2023-03-04T19:46:22.521741Z",
     "iopub.status.busy": "2023-03-04T19:46:22.521230Z",
     "iopub.status.idle": "2023-03-04T19:46:22.529166Z",
     "shell.execute_reply": "2023-03-04T19:46:22.527760Z"
    },
    "papermill": {
     "duration": 0.030664,
     "end_time": "2023-03-04T19:46:22.531008",
     "exception": false,
     "start_time": "2023-03-04T19:46:22.500344",
     "status": "completed"
    },
    "tags": []
   },
   "outputs": [],
   "source": [
    "df = df.rename(columns={'macro_category':'class'})"
   ]
  },
  {
   "cell_type": "code",
   "execution_count": 76,
   "id": "a965114c",
   "metadata": {
    "execution": {
     "iopub.execute_input": "2023-03-04T19:46:22.560706Z",
     "iopub.status.busy": "2023-03-04T19:46:22.560216Z",
     "iopub.status.idle": "2023-03-04T19:46:22.808543Z",
     "shell.execute_reply": "2023-03-04T19:46:22.807882Z"
    },
    "papermill": {
     "duration": 0.266175,
     "end_time": "2023-03-04T19:46:22.811437",
     "exception": false,
     "start_time": "2023-03-04T19:46:22.545262",
     "status": "completed"
    },
    "tags": []
   },
   "outputs": [],
   "source": [
    "ds_id = '20ng'\n",
    "\n",
    "# Create directory\n",
    "data_ds_path = base_path + ds_id\n",
    "\n",
    "os.makedirs(data_ds_path, exist_ok=True)\n",
    "\n",
    "df.to_csv(f'{data_ds_path}/data.csv', index=False)"
   ]
  },
  {
   "cell_type": "code",
   "execution_count": null,
   "id": "86006c59",
   "metadata": {
    "papermill": {
     "duration": 0.039017,
     "end_time": "2023-03-04T19:46:22.889254",
     "exception": false,
     "start_time": "2023-03-04T19:46:22.850237",
     "status": "completed"
    },
    "tags": []
   },
   "outputs": [],
   "source": []
  }
 ],
 "metadata": {
  "kernelspec": {
   "display_name": "Python 3 (ipykernel)",
   "language": "python",
   "name": "python3"
  },
  "language_info": {
   "codemirror_mode": {
    "name": "ipython",
    "version": 3
   },
   "file_extension": ".py",
   "mimetype": "text/x-python",
   "name": "python",
   "nbconvert_exporter": "python",
   "pygments_lexer": "ipython3",
   "version": "3.9.16"
  },
  "papermill": {
   "default_parameters": {},
   "duration": 50.013581,
   "end_time": "2023-03-04T19:46:23.728148",
   "environment_variables": {},
   "exception": null,
   "input_path": "08_classification_ds_preparation.ipynb",
   "output_path": "08_classification_ds_preparation.ipynb",
   "parameters": {},
   "start_time": "2023-03-04T19:45:33.714567",
   "version": "2.4.0"
  },
  "vscode": {
   "interpreter": {
    "hash": "eb8d1ded7c87c6f9c253b40add648304d6b51d2e38393955e855effc7e6f899a"
   }
  }
 },
 "nbformat": 4,
 "nbformat_minor": 5
}