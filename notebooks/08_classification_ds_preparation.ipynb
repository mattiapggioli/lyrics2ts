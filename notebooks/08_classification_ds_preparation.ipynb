{
 "cells": [
  {
   "cell_type": "markdown",
   "id": "a4683155",
   "metadata": {
    "papermill": {
     "duration": 0.01418,
     "end_time": "2023-03-15T04:30:56.801010",
     "exception": false,
     "start_time": "2023-03-15T04:30:56.786830",
     "status": "completed"
    },
    "tags": []
   },
   "source": [
    "# Classification Dataset Preparation"
   ]
  },
  {
   "cell_type": "code",
   "execution_count": 1,
   "id": "d0e2e95f",
   "metadata": {
    "execution": {
     "iopub.execute_input": "2023-03-15T04:30:56.824601Z",
     "iopub.status.busy": "2023-03-15T04:30:56.823809Z",
     "iopub.status.idle": "2023-03-15T04:30:58.273036Z",
     "shell.execute_reply": "2023-03-15T04:30:58.272112Z"
    },
    "papermill": {
     "duration": 1.46337,
     "end_time": "2023-03-15T04:30:58.275212",
     "exception": false,
     "start_time": "2023-03-15T04:30:56.811842",
     "status": "completed"
    },
    "tags": []
   },
   "outputs": [],
   "source": [
    "%matplotlib inline\n",
    "import pandas as pd\n",
    "import numpy as np\n",
    "import matplotlib.pyplot as plt\n",
    "import seaborn as sns\n",
    "import tqdm\n",
    "import random\n",
    "import os\n",
    "import ast\n",
    "import re\n",
    "from nltk.tokenize import sent_tokenize\n",
    "from sklearn.datasets import fetch_20newsgroups\n",
    "import contractions\n",
    "from gensim.utils import tokenize"
   ]
  },
  {
   "cell_type": "code",
   "execution_count": 2,
   "id": "7efbce4a",
   "metadata": {
    "execution": {
     "iopub.execute_input": "2023-03-15T04:30:58.298744Z",
     "iopub.status.busy": "2023-03-15T04:30:58.298381Z",
     "iopub.status.idle": "2023-03-15T04:30:58.303105Z",
     "shell.execute_reply": "2023-03-15T04:30:58.301887Z"
    },
    "papermill": {
     "duration": 0.0187,
     "end_time": "2023-03-15T04:30:58.304889",
     "exception": false,
     "start_time": "2023-03-15T04:30:58.286189",
     "status": "completed"
    },
    "tags": []
   },
   "outputs": [],
   "source": [
    "base_path = '../data/classification/'"
   ]
  },
  {
   "cell_type": "markdown",
   "id": "ae4b94ad",
   "metadata": {
    "papermill": {
     "duration": 0.010691,
     "end_time": "2023-03-15T04:30:58.326247",
     "exception": false,
     "start_time": "2023-03-15T04:30:58.315556",
     "status": "completed"
    },
    "tags": []
   },
   "source": [
    "## Lyrics Dataset"
   ]
  },
  {
   "cell_type": "code",
   "execution_count": 3,
   "id": "c1e06dfa",
   "metadata": {
    "execution": {
     "iopub.execute_input": "2023-03-15T04:30:58.349622Z",
     "iopub.status.busy": "2023-03-15T04:30:58.349294Z",
     "iopub.status.idle": "2023-03-15T04:30:59.007286Z",
     "shell.execute_reply": "2023-03-15T04:30:59.006354Z"
    },
    "papermill": {
     "duration": 0.673269,
     "end_time": "2023-03-15T04:30:59.010418",
     "exception": false,
     "start_time": "2023-03-15T04:30:58.337149",
     "status": "completed"
    },
    "tags": []
   },
   "outputs": [],
   "source": [
    "df = pd.read_csv('../data/lyrics.csv')"
   ]
  },
  {
   "cell_type": "code",
   "execution_count": 4,
   "id": "1122c337",
   "metadata": {
    "execution": {
     "iopub.execute_input": "2023-03-15T04:30:59.070349Z",
     "iopub.status.busy": "2023-03-15T04:30:59.069976Z",
     "iopub.status.idle": "2023-03-15T04:30:59.082210Z",
     "shell.execute_reply": "2023-03-15T04:30:59.081207Z"
    },
    "papermill": {
     "duration": 0.044835,
     "end_time": "2023-03-15T04:30:59.085787",
     "exception": false,
     "start_time": "2023-03-15T04:30:59.040952",
     "status": "completed"
    },
    "tags": []
   },
   "outputs": [
    {
     "data": {
      "text/html": [
       "<div>\n",
       "<style scoped>\n",
       "    .dataframe tbody tr th:only-of-type {\n",
       "        vertical-align: middle;\n",
       "    }\n",
       "\n",
       "    .dataframe tbody tr th {\n",
       "        vertical-align: top;\n",
       "    }\n",
       "\n",
       "    .dataframe thead th {\n",
       "        text-align: right;\n",
       "    }\n",
       "</style>\n",
       "<table border=\"1\" class=\"dataframe\">\n",
       "  <thead>\n",
       "    <tr style=\"text-align: right;\">\n",
       "      <th></th>\n",
       "      <th>lyrics</th>\n",
       "      <th>genre</th>\n",
       "      <th>id</th>\n",
       "    </tr>\n",
       "  </thead>\n",
       "  <tbody>\n",
       "    <tr>\n",
       "      <th>0</th>\n",
       "      <td>['So long', 'My sweet love', 'I miss you', \"Mo...</td>\n",
       "      <td>pop</td>\n",
       "      <td>0</td>\n",
       "    </tr>\n",
       "    <tr>\n",
       "      <th>1</th>\n",
       "      <td>[\"It won't be long before I'm leaving here\", \"...</td>\n",
       "      <td>pop</td>\n",
       "      <td>1</td>\n",
       "    </tr>\n",
       "    <tr>\n",
       "      <th>2</th>\n",
       "      <td>['Are we crazy?', 'Living our lives through a ...</td>\n",
       "      <td>pop</td>\n",
       "      <td>2</td>\n",
       "    </tr>\n",
       "    <tr>\n",
       "      <th>3</th>\n",
       "      <td>['When did it go wrong, I will never know', 'I...</td>\n",
       "      <td>pop</td>\n",
       "      <td>3</td>\n",
       "    </tr>\n",
       "    <tr>\n",
       "      <th>4</th>\n",
       "      <td>[\"I've waited all this time\", 'Counting minute...</td>\n",
       "      <td>pop</td>\n",
       "      <td>4</td>\n",
       "    </tr>\n",
       "  </tbody>\n",
       "</table>\n",
       "</div>"
      ],
      "text/plain": [
       "                                              lyrics genre  id\n",
       "0  ['So long', 'My sweet love', 'I miss you', \"Mo...   pop   0\n",
       "1  [\"It won't be long before I'm leaving here\", \"...   pop   1\n",
       "2  ['Are we crazy?', 'Living our lives through a ...   pop   2\n",
       "3  ['When did it go wrong, I will never know', 'I...   pop   3\n",
       "4  [\"I've waited all this time\", 'Counting minute...   pop   4"
      ]
     },
     "execution_count": 4,
     "metadata": {},
     "output_type": "execute_result"
    }
   ],
   "source": [
    "df.head()"
   ]
  },
  {
   "cell_type": "code",
   "execution_count": 5,
   "id": "a87a3cf0",
   "metadata": {
    "execution": {
     "iopub.execute_input": "2023-03-15T04:30:59.128911Z",
     "iopub.status.busy": "2023-03-15T04:30:59.128174Z",
     "iopub.status.idle": "2023-03-15T04:30:59.160864Z",
     "shell.execute_reply": "2023-03-15T04:30:59.159386Z"
    },
    "papermill": {
     "duration": 0.047525,
     "end_time": "2023-03-15T04:30:59.163060",
     "exception": false,
     "start_time": "2023-03-15T04:30:59.115535",
     "status": "completed"
    },
    "tags": []
   },
   "outputs": [
    {
     "name": "stdout",
     "output_type": "stream",
     "text": [
      "<class 'pandas.core.frame.DataFrame'>\n",
      "RangeIndex: 36000 entries, 0 to 35999\n",
      "Data columns (total 3 columns):\n",
      " #   Column  Non-Null Count  Dtype \n",
      "---  ------  --------------  ----- \n",
      " 0   lyrics  36000 non-null  object\n",
      " 1   genre   36000 non-null  object\n",
      " 2   id      36000 non-null  int64 \n",
      "dtypes: int64(1), object(2)\n",
      "memory usage: 843.9+ KB\n"
     ]
    }
   ],
   "source": [
    "df.info()"
   ]
  },
  {
   "cell_type": "code",
   "execution_count": 6,
   "id": "0d7c1824",
   "metadata": {
    "execution": {
     "iopub.execute_input": "2023-03-15T04:30:59.189227Z",
     "iopub.status.busy": "2023-03-15T04:30:59.188322Z",
     "iopub.status.idle": "2023-03-15T04:30:59.208328Z",
     "shell.execute_reply": "2023-03-15T04:30:59.206809Z"
    },
    "papermill": {
     "duration": 0.034101,
     "end_time": "2023-03-15T04:30:59.210396",
     "exception": false,
     "start_time": "2023-03-15T04:30:59.176295",
     "status": "completed"
    },
    "tags": []
   },
   "outputs": [
    {
     "data": {
      "text/html": [
       "<div>\n",
       "<style scoped>\n",
       "    .dataframe tbody tr th:only-of-type {\n",
       "        vertical-align: middle;\n",
       "    }\n",
       "\n",
       "    .dataframe tbody tr th {\n",
       "        vertical-align: top;\n",
       "    }\n",
       "\n",
       "    .dataframe thead th {\n",
       "        text-align: right;\n",
       "    }\n",
       "</style>\n",
       "<table border=\"1\" class=\"dataframe\">\n",
       "  <thead>\n",
       "    <tr style=\"text-align: right;\">\n",
       "      <th></th>\n",
       "      <th>lyrics</th>\n",
       "      <th>genre</th>\n",
       "    </tr>\n",
       "  </thead>\n",
       "  <tbody>\n",
       "    <tr>\n",
       "      <th>0</th>\n",
       "      <td>['So long', 'My sweet love', 'I miss you', \"Mo...</td>\n",
       "      <td>pop</td>\n",
       "    </tr>\n",
       "    <tr>\n",
       "      <th>1</th>\n",
       "      <td>[\"It won't be long before I'm leaving here\", \"...</td>\n",
       "      <td>pop</td>\n",
       "    </tr>\n",
       "    <tr>\n",
       "      <th>2</th>\n",
       "      <td>['Are we crazy?', 'Living our lives through a ...</td>\n",
       "      <td>pop</td>\n",
       "    </tr>\n",
       "    <tr>\n",
       "      <th>3</th>\n",
       "      <td>['When did it go wrong, I will never know', 'I...</td>\n",
       "      <td>pop</td>\n",
       "    </tr>\n",
       "    <tr>\n",
       "      <th>4</th>\n",
       "      <td>[\"I've waited all this time\", 'Counting minute...</td>\n",
       "      <td>pop</td>\n",
       "    </tr>\n",
       "    <tr>\n",
       "      <th>...</th>\n",
       "      <td>...</td>\n",
       "      <td>...</td>\n",
       "    </tr>\n",
       "    <tr>\n",
       "      <th>35995</th>\n",
       "      <td>['Father can you hear me?', 'How have I let yo...</td>\n",
       "      <td>rock</td>\n",
       "    </tr>\n",
       "    <tr>\n",
       "      <th>35996</th>\n",
       "      <td>['In the Kingdom of Spain', 'There are such co...</td>\n",
       "      <td>rock</td>\n",
       "    </tr>\n",
       "    <tr>\n",
       "      <th>35997</th>\n",
       "      <td>['Stagger Lee, can you Do The Locomotion', \"Lu...</td>\n",
       "      <td>rock</td>\n",
       "    </tr>\n",
       "    <tr>\n",
       "      <th>35998</th>\n",
       "      <td>[\"Look out, Mama, there's a white boat comin' ...</td>\n",
       "      <td>rock</td>\n",
       "    </tr>\n",
       "    <tr>\n",
       "      <th>35999</th>\n",
       "      <td>['The story behind the painting I drew is alre...</td>\n",
       "      <td>rock</td>\n",
       "    </tr>\n",
       "  </tbody>\n",
       "</table>\n",
       "<p>36000 rows × 2 columns</p>\n",
       "</div>"
      ],
      "text/plain": [
       "                                                  lyrics genre\n",
       "0      ['So long', 'My sweet love', 'I miss you', \"Mo...   pop\n",
       "1      [\"It won't be long before I'm leaving here\", \"...   pop\n",
       "2      ['Are we crazy?', 'Living our lives through a ...   pop\n",
       "3      ['When did it go wrong, I will never know', 'I...   pop\n",
       "4      [\"I've waited all this time\", 'Counting minute...   pop\n",
       "...                                                  ...   ...\n",
       "35995  ['Father can you hear me?', 'How have I let yo...  rock\n",
       "35996  ['In the Kingdom of Spain', 'There are such co...  rock\n",
       "35997  ['Stagger Lee, can you Do The Locomotion', \"Lu...  rock\n",
       "35998  [\"Look out, Mama, there's a white boat comin' ...  rock\n",
       "35999  ['The story behind the painting I drew is alre...  rock\n",
       "\n",
       "[36000 rows x 2 columns]"
      ]
     },
     "execution_count": 6,
     "metadata": {},
     "output_type": "execute_result"
    }
   ],
   "source": [
    "df.drop(columns=['id'])"
   ]
  },
  {
   "cell_type": "code",
   "execution_count": 7,
   "id": "4a801310",
   "metadata": {
    "execution": {
     "iopub.execute_input": "2023-03-15T04:30:59.236448Z",
     "iopub.status.busy": "2023-03-15T04:30:59.235713Z",
     "iopub.status.idle": "2023-03-15T04:30:59.244030Z",
     "shell.execute_reply": "2023-03-15T04:30:59.242913Z"
    },
    "papermill": {
     "duration": 0.022226,
     "end_time": "2023-03-15T04:30:59.245808",
     "exception": false,
     "start_time": "2023-03-15T04:30:59.223582",
     "status": "completed"
    },
    "tags": []
   },
   "outputs": [],
   "source": [
    "df = df.rename(columns={'lyrics':'text','genre':'class'})"
   ]
  },
  {
   "cell_type": "code",
   "execution_count": 8,
   "id": "ec4b07bb",
   "metadata": {
    "execution": {
     "iopub.execute_input": "2023-03-15T04:30:59.269584Z",
     "iopub.status.busy": "2023-03-15T04:30:59.268889Z",
     "iopub.status.idle": "2023-03-15T04:31:02.553104Z",
     "shell.execute_reply": "2023-03-15T04:31:02.552110Z"
    },
    "papermill": {
     "duration": 3.299597,
     "end_time": "2023-03-15T04:31:02.556388",
     "exception": false,
     "start_time": "2023-03-15T04:30:59.256791",
     "status": "completed"
    },
    "tags": []
   },
   "outputs": [],
   "source": [
    "df['text'] = df['text'].apply(lambda x: ast.literal_eval(x))"
   ]
  },
  {
   "cell_type": "code",
   "execution_count": 9,
   "id": "1ecb376b",
   "metadata": {
    "execution": {
     "iopub.execute_input": "2023-03-15T04:31:02.617246Z",
     "iopub.status.busy": "2023-03-15T04:31:02.616893Z",
     "iopub.status.idle": "2023-03-15T04:31:02.627307Z",
     "shell.execute_reply": "2023-03-15T04:31:02.625881Z"
    },
    "papermill": {
     "duration": 0.042994,
     "end_time": "2023-03-15T04:31:02.630514",
     "exception": false,
     "start_time": "2023-03-15T04:31:02.587520",
     "status": "completed"
    },
    "tags": []
   },
   "outputs": [
    {
     "data": {
      "text/plain": [
       "pop     12000\n",
       "rap     12000\n",
       "rock    12000\n",
       "Name: class, dtype: int64"
      ]
     },
     "execution_count": 9,
     "metadata": {},
     "output_type": "execute_result"
    }
   ],
   "source": [
    "df['class'].value_counts()"
   ]
  },
  {
   "cell_type": "code",
   "execution_count": 10,
   "id": "bcec4d77",
   "metadata": {
    "execution": {
     "iopub.execute_input": "2023-03-15T04:31:02.672704Z",
     "iopub.status.busy": "2023-03-15T04:31:02.671954Z",
     "iopub.status.idle": "2023-03-15T04:31:05.779726Z",
     "shell.execute_reply": "2023-03-15T04:31:05.778602Z"
    },
    "papermill": {
     "duration": 3.124714,
     "end_time": "2023-03-15T04:31:05.783109",
     "exception": false,
     "start_time": "2023-03-15T04:31:02.658395",
     "status": "completed"
    },
    "tags": []
   },
   "outputs": [],
   "source": [
    "combinations = [['pop', 'rap', 'rock'], ['pop','rock'], ['rap','rock']]\n",
    "\n",
    "for combination in combinations:\n",
    "    # Create id for the configuration        \n",
    "    ds_id = '-'.join(sorted([re.sub(r'[aeiou]','',c)[:2] for c in combination]))\n",
    "    \n",
    "    # Create directory\n",
    "    data_ds_path = base_path + ds_id\n",
    "\n",
    "    os.makedirs(data_ds_path, exist_ok=True)\n",
    "    \n",
    "    df_sample = df[df['class'].isin(combination)].reset_index(drop=True)\n",
    "    df_sample.to_csv(f'{data_ds_path}/data.csv', index=False)"
   ]
  },
  {
   "cell_type": "markdown",
   "id": "decc067a",
   "metadata": {
    "papermill": {
     "duration": 0.030652,
     "end_time": "2023-03-15T04:31:05.845688",
     "exception": false,
     "start_time": "2023-03-15T04:31:05.815036",
     "status": "completed"
    },
    "tags": []
   },
   "source": [
    "## Rock Lyrics Dataset"
   ]
  },
  {
   "cell_type": "code",
   "execution_count": 11,
   "id": "176bfcad",
   "metadata": {
    "execution": {
     "iopub.execute_input": "2023-03-15T04:31:05.881209Z",
     "iopub.status.busy": "2023-03-15T04:31:05.880733Z",
     "iopub.status.idle": "2023-03-15T04:31:08.485848Z",
     "shell.execute_reply": "2023-03-15T04:31:08.484948Z"
    },
    "papermill": {
     "duration": 2.620415,
     "end_time": "2023-03-15T04:31:08.489015",
     "exception": false,
     "start_time": "2023-03-15T04:31:05.868600",
     "status": "completed"
    },
    "tags": []
   },
   "outputs": [],
   "source": [
    "df = pd.read_csv('../data/raw-data/lyrics_raw.csv')"
   ]
  },
  {
   "cell_type": "code",
   "execution_count": 12,
   "id": "87170aac",
   "metadata": {
    "execution": {
     "iopub.execute_input": "2023-03-15T04:31:08.550547Z",
     "iopub.status.busy": "2023-03-15T04:31:08.550096Z",
     "iopub.status.idle": "2023-03-15T04:31:08.565792Z",
     "shell.execute_reply": "2023-03-15T04:31:08.564751Z"
    },
    "papermill": {
     "duration": 0.049387,
     "end_time": "2023-03-15T04:31:08.569842",
     "exception": false,
     "start_time": "2023-03-15T04:31:08.520455",
     "status": "completed"
    },
    "tags": []
   },
   "outputs": [
    {
     "data": {
      "text/html": [
       "<div>\n",
       "<style scoped>\n",
       "    .dataframe tbody tr th:only-of-type {\n",
       "        vertical-align: middle;\n",
       "    }\n",
       "\n",
       "    .dataframe tbody tr th {\n",
       "        vertical-align: top;\n",
       "    }\n",
       "\n",
       "    .dataframe thead th {\n",
       "        text-align: right;\n",
       "    }\n",
       "</style>\n",
       "<table border=\"1\" class=\"dataframe\">\n",
       "  <thead>\n",
       "    <tr style=\"text-align: right;\">\n",
       "      <th></th>\n",
       "      <th>lyrics</th>\n",
       "      <th>Axé</th>\n",
       "      <th>Black Music</th>\n",
       "      <th>Blues</th>\n",
       "      <th>Bossa Nova</th>\n",
       "      <th>COLETÂNEA</th>\n",
       "      <th>Chillout</th>\n",
       "      <th>Classic Rock</th>\n",
       "      <th>Clássico</th>\n",
       "      <th>Country</th>\n",
       "      <th>...</th>\n",
       "      <th>Soul Music</th>\n",
       "      <th>Surf Music</th>\n",
       "      <th>Tecnopop</th>\n",
       "      <th>Trance</th>\n",
       "      <th>Trap</th>\n",
       "      <th>Trilha Sonora</th>\n",
       "      <th>Trip-Hop</th>\n",
       "      <th>Tropical House</th>\n",
       "      <th>Velha Guarda</th>\n",
       "      <th>World Music</th>\n",
       "    </tr>\n",
       "  </thead>\n",
       "  <tbody>\n",
       "    <tr>\n",
       "      <th>0</th>\n",
       "      <td>I feel so unsure\\nAs I take your hand and lead...</td>\n",
       "      <td>1</td>\n",
       "      <td>0</td>\n",
       "      <td>0</td>\n",
       "      <td>0</td>\n",
       "      <td>0</td>\n",
       "      <td>0</td>\n",
       "      <td>0</td>\n",
       "      <td>0</td>\n",
       "      <td>0</td>\n",
       "      <td>...</td>\n",
       "      <td>0</td>\n",
       "      <td>0</td>\n",
       "      <td>0</td>\n",
       "      <td>0</td>\n",
       "      <td>0</td>\n",
       "      <td>0</td>\n",
       "      <td>0</td>\n",
       "      <td>0</td>\n",
       "      <td>0</td>\n",
       "      <td>0</td>\n",
       "    </tr>\n",
       "    <tr>\n",
       "      <th>1</th>\n",
       "      <td>Don't let them fool, ya\\nOr even try to school...</td>\n",
       "      <td>1</td>\n",
       "      <td>0</td>\n",
       "      <td>0</td>\n",
       "      <td>0</td>\n",
       "      <td>0</td>\n",
       "      <td>0</td>\n",
       "      <td>0</td>\n",
       "      <td>0</td>\n",
       "      <td>0</td>\n",
       "      <td>...</td>\n",
       "      <td>0</td>\n",
       "      <td>0</td>\n",
       "      <td>0</td>\n",
       "      <td>0</td>\n",
       "      <td>0</td>\n",
       "      <td>0</td>\n",
       "      <td>0</td>\n",
       "      <td>0</td>\n",
       "      <td>0</td>\n",
       "      <td>0</td>\n",
       "    </tr>\n",
       "    <tr>\n",
       "      <th>2</th>\n",
       "      <td>Baby, let's cruise, away from here\\nDon't be c...</td>\n",
       "      <td>1</td>\n",
       "      <td>0</td>\n",
       "      <td>0</td>\n",
       "      <td>0</td>\n",
       "      <td>0</td>\n",
       "      <td>0</td>\n",
       "      <td>0</td>\n",
       "      <td>0</td>\n",
       "      <td>0</td>\n",
       "      <td>...</td>\n",
       "      <td>0</td>\n",
       "      <td>0</td>\n",
       "      <td>0</td>\n",
       "      <td>0</td>\n",
       "      <td>0</td>\n",
       "      <td>0</td>\n",
       "      <td>0</td>\n",
       "      <td>0</td>\n",
       "      <td>0</td>\n",
       "      <td>0</td>\n",
       "    </tr>\n",
       "    <tr>\n",
       "      <th>3</th>\n",
       "      <td>Know it sounds funny\\nBut, I just can't stand ...</td>\n",
       "      <td>1</td>\n",
       "      <td>0</td>\n",
       "      <td>0</td>\n",
       "      <td>0</td>\n",
       "      <td>0</td>\n",
       "      <td>0</td>\n",
       "      <td>0</td>\n",
       "      <td>0</td>\n",
       "      <td>0</td>\n",
       "      <td>...</td>\n",
       "      <td>0</td>\n",
       "      <td>0</td>\n",
       "      <td>0</td>\n",
       "      <td>0</td>\n",
       "      <td>0</td>\n",
       "      <td>0</td>\n",
       "      <td>0</td>\n",
       "      <td>0</td>\n",
       "      <td>0</td>\n",
       "      <td>0</td>\n",
       "    </tr>\n",
       "    <tr>\n",
       "      <th>4</th>\n",
       "      <td>You've got that look again\\nThe one I hoped I ...</td>\n",
       "      <td>1</td>\n",
       "      <td>0</td>\n",
       "      <td>0</td>\n",
       "      <td>0</td>\n",
       "      <td>0</td>\n",
       "      <td>0</td>\n",
       "      <td>0</td>\n",
       "      <td>0</td>\n",
       "      <td>0</td>\n",
       "      <td>...</td>\n",
       "      <td>0</td>\n",
       "      <td>0</td>\n",
       "      <td>0</td>\n",
       "      <td>0</td>\n",
       "      <td>0</td>\n",
       "      <td>0</td>\n",
       "      <td>0</td>\n",
       "      <td>0</td>\n",
       "      <td>0</td>\n",
       "      <td>0</td>\n",
       "    </tr>\n",
       "  </tbody>\n",
       "</table>\n",
       "<p>5 rows × 76 columns</p>\n",
       "</div>"
      ],
      "text/plain": [
       "                                              lyrics  Axé  Black Music  Blues  \\\n",
       "0  I feel so unsure\\nAs I take your hand and lead...    1            0      0   \n",
       "1  Don't let them fool, ya\\nOr even try to school...    1            0      0   \n",
       "2  Baby, let's cruise, away from here\\nDon't be c...    1            0      0   \n",
       "3  Know it sounds funny\\nBut, I just can't stand ...    1            0      0   \n",
       "4  You've got that look again\\nThe one I hoped I ...    1            0      0   \n",
       "\n",
       "   Bossa Nova  COLETÂNEA  Chillout  Classic Rock  Clássico  Country  ...  \\\n",
       "0           0          0         0             0         0        0  ...   \n",
       "1           0          0         0             0         0        0  ...   \n",
       "2           0          0         0             0         0        0  ...   \n",
       "3           0          0         0             0         0        0  ...   \n",
       "4           0          0         0             0         0        0  ...   \n",
       "\n",
       "   Soul Music  Surf Music  Tecnopop  Trance  Trap  Trilha Sonora  Trip-Hop  \\\n",
       "0           0           0         0       0     0              0         0   \n",
       "1           0           0         0       0     0              0         0   \n",
       "2           0           0         0       0     0              0         0   \n",
       "3           0           0         0       0     0              0         0   \n",
       "4           0           0         0       0     0              0         0   \n",
       "\n",
       "   Tropical House  Velha Guarda  World Music  \n",
       "0               0             0            0  \n",
       "1               0             0            0  \n",
       "2               0             0            0  \n",
       "3               0             0            0  \n",
       "4               0             0            0  \n",
       "\n",
       "[5 rows x 76 columns]"
      ]
     },
     "execution_count": 12,
     "metadata": {},
     "output_type": "execute_result"
    }
   ],
   "source": [
    "df.head()"
   ]
  },
  {
   "cell_type": "code",
   "execution_count": 13,
   "id": "3f81c3db",
   "metadata": {
    "execution": {
     "iopub.execute_input": "2023-03-15T04:31:08.617924Z",
     "iopub.status.busy": "2023-03-15T04:31:08.617465Z",
     "iopub.status.idle": "2023-03-15T04:31:08.641874Z",
     "shell.execute_reply": "2023-03-15T04:31:08.640415Z"
    },
    "papermill": {
     "duration": 0.045138,
     "end_time": "2023-03-15T04:31:08.644008",
     "exception": false,
     "start_time": "2023-03-15T04:31:08.598870",
     "status": "completed"
    },
    "tags": []
   },
   "outputs": [
    {
     "data": {
      "text/plain": [
       "Rock                63717\n",
       "Pop                 33571\n",
       "Pop/Rock            26360\n",
       "Heavy Metal         21759\n",
       "Hip Hop             20902\n",
       "Indie               20134\n",
       "Romântico           17947\n",
       "Hard Rock           17250\n",
       "Rap                 17114\n",
       "R&B                 15581\n",
       "Rock Alternativo    13061\n",
       "Black Music         13024\n",
       "Dance               11895\n",
       "Folk                11124\n",
       "Country             10630\n",
       "Punk Rock            9215\n",
       "Soul Music           8131\n",
       "Electronica          7799\n",
       "Gospel/Religioso     7337\n",
       "Hardcore             7082\n",
       "Trilha Sonora        6213\n",
       "Blues                6094\n",
       "Gótico               4984\n",
       "Soft Rock            4483\n",
       "Progressivo          4365\n",
       "Jazz                 4343\n",
       "Tecnopop             3873\n",
       "Pós-Punk             3274\n",
       "Reggae               3207\n",
       "Rockabilly           3100\n",
       "dtype: int64"
      ]
     },
     "execution_count": 13,
     "metadata": {},
     "output_type": "execute_result"
    }
   ],
   "source": [
    "df.sum(numeric_only=True).sort_values(ascending=False)[:30]"
   ]
  },
  {
   "cell_type": "code",
   "execution_count": 14,
   "id": "594fe52c",
   "metadata": {
    "execution": {
     "iopub.execute_input": "2023-03-15T04:31:08.670738Z",
     "iopub.status.busy": "2023-03-15T04:31:08.670274Z",
     "iopub.status.idle": "2023-03-15T04:31:08.676511Z",
     "shell.execute_reply": "2023-03-15T04:31:08.675237Z"
    },
    "papermill": {
     "duration": 0.020533,
     "end_time": "2023-03-15T04:31:08.678245",
     "exception": false,
     "start_time": "2023-03-15T04:31:08.657712",
     "status": "completed"
    },
    "tags": []
   },
   "outputs": [],
   "source": [
    "genres = ['Pop/Rock','Heavy Metal', 'Hard Rock', 'Rock Alternativo', 'Punk Rock', 'Indie']\n",
    "lyrics = df['lyrics']"
   ]
  },
  {
   "cell_type": "code",
   "execution_count": 15,
   "id": "4c8f06e8",
   "metadata": {
    "execution": {
     "iopub.execute_input": "2023-03-15T04:31:08.702496Z",
     "iopub.status.busy": "2023-03-15T04:31:08.702045Z",
     "iopub.status.idle": "2023-03-15T04:31:08.714096Z",
     "shell.execute_reply": "2023-03-15T04:31:08.712804Z"
    },
    "papermill": {
     "duration": 0.026655,
     "end_time": "2023-03-15T04:31:08.716197",
     "exception": false,
     "start_time": "2023-03-15T04:31:08.689542",
     "status": "completed"
    },
    "tags": []
   },
   "outputs": [],
   "source": [
    "df = df[genres]"
   ]
  },
  {
   "cell_type": "code",
   "execution_count": 16,
   "id": "459af8cf",
   "metadata": {
    "execution": {
     "iopub.execute_input": "2023-03-15T04:31:08.741707Z",
     "iopub.status.busy": "2023-03-15T04:31:08.741251Z",
     "iopub.status.idle": "2023-03-15T04:31:08.759766Z",
     "shell.execute_reply": "2023-03-15T04:31:08.758576Z"
    },
    "papermill": {
     "duration": 0.035112,
     "end_time": "2023-03-15T04:31:08.763929",
     "exception": false,
     "start_time": "2023-03-15T04:31:08.728817",
     "status": "completed"
    },
    "tags": []
   },
   "outputs": [
    {
     "data": {
      "text/plain": [
       "Pop/Rock            22605\n",
       "Indie               13378\n",
       "Heavy Metal         12296\n",
       "Punk Rock            7248\n",
       "Hard Rock            6335\n",
       "Rock Alternativo     4783\n",
       "dtype: int64"
      ]
     },
     "execution_count": 16,
     "metadata": {},
     "output_type": "execute_result"
    }
   ],
   "source": [
    "df[df.sum(axis=1)==1].sum().sort_values(ascending=False)[:20]"
   ]
  },
  {
   "cell_type": "code",
   "execution_count": 17,
   "id": "ead6dcd9",
   "metadata": {
    "execution": {
     "iopub.execute_input": "2023-03-15T04:31:08.808909Z",
     "iopub.status.busy": "2023-03-15T04:31:08.808661Z",
     "iopub.status.idle": "2023-03-15T04:31:08.824046Z",
     "shell.execute_reply": "2023-03-15T04:31:08.823007Z"
    },
    "papermill": {
     "duration": 0.029669,
     "end_time": "2023-03-15T04:31:08.825509",
     "exception": false,
     "start_time": "2023-03-15T04:31:08.795840",
     "status": "completed"
    },
    "tags": []
   },
   "outputs": [
    {
     "data": {
      "text/plain": [
       "Pop/Rock       24087\n",
       "Indie          18091\n",
       "Heavy Metal    12488\n",
       "Punk Rock       8170\n",
       "Hard Rock       7123\n",
       "dtype: int64"
      ]
     },
     "execution_count": 17,
     "metadata": {},
     "output_type": "execute_result"
    }
   ],
   "source": [
    "df = df.drop(columns=['Rock Alternativo'])\n",
    "\n",
    "df[df.sum(axis=1)==1].sum().sort_values(ascending=False)[:20]"
   ]
  },
  {
   "cell_type": "code",
   "execution_count": 18,
   "id": "1b4889ae",
   "metadata": {
    "execution": {
     "iopub.execute_input": "2023-03-15T04:31:08.849373Z",
     "iopub.status.busy": "2023-03-15T04:31:08.849116Z",
     "iopub.status.idle": "2023-03-15T04:31:08.853215Z",
     "shell.execute_reply": "2023-03-15T04:31:08.852195Z"
    },
    "papermill": {
     "duration": 0.017746,
     "end_time": "2023-03-15T04:31:08.854693",
     "exception": false,
     "start_time": "2023-03-15T04:31:08.836947",
     "status": "completed"
    },
    "tags": []
   },
   "outputs": [],
   "source": [
    "genres = df.columns"
   ]
  },
  {
   "cell_type": "code",
   "execution_count": 19,
   "id": "8b0c6200",
   "metadata": {
    "execution": {
     "iopub.execute_input": "2023-03-15T04:31:08.878537Z",
     "iopub.status.busy": "2023-03-15T04:31:08.878290Z",
     "iopub.status.idle": "2023-03-15T04:31:08.897953Z",
     "shell.execute_reply": "2023-03-15T04:31:08.897024Z"
    },
    "papermill": {
     "duration": 0.033747,
     "end_time": "2023-03-15T04:31:08.899835",
     "exception": false,
     "start_time": "2023-03-15T04:31:08.866088",
     "status": "completed"
    },
    "tags": []
   },
   "outputs": [],
   "source": [
    "df = pd.concat([df, lyrics], axis=1)"
   ]
  },
  {
   "cell_type": "code",
   "execution_count": 20,
   "id": "ef086287",
   "metadata": {
    "execution": {
     "iopub.execute_input": "2023-03-15T04:31:08.924215Z",
     "iopub.status.busy": "2023-03-15T04:31:08.923940Z",
     "iopub.status.idle": "2023-03-15T04:31:08.953717Z",
     "shell.execute_reply": "2023-03-15T04:31:08.952789Z"
    },
    "papermill": {
     "duration": 0.043939,
     "end_time": "2023-03-15T04:31:08.955372",
     "exception": false,
     "start_time": "2023-03-15T04:31:08.911433",
     "status": "completed"
    },
    "tags": []
   },
   "outputs": [],
   "source": [
    "df = df.drop(df[df[genres].sum(axis=1)==0].index)"
   ]
  },
  {
   "cell_type": "code",
   "execution_count": 21,
   "id": "f0097f17",
   "metadata": {
    "execution": {
     "iopub.execute_input": "2023-03-15T04:31:08.979906Z",
     "iopub.status.busy": "2023-03-15T04:31:08.979619Z",
     "iopub.status.idle": "2023-03-15T04:31:08.988017Z",
     "shell.execute_reply": "2023-03-15T04:31:08.987024Z"
    },
    "papermill": {
     "duration": 0.022508,
     "end_time": "2023-03-15T04:31:08.989670",
     "exception": false,
     "start_time": "2023-03-15T04:31:08.967162",
     "status": "completed"
    },
    "tags": []
   },
   "outputs": [],
   "source": [
    "df = df.reset_index(drop=True)"
   ]
  },
  {
   "cell_type": "code",
   "execution_count": 22,
   "id": "514221f4",
   "metadata": {
    "execution": {
     "iopub.execute_input": "2023-03-15T04:31:09.013635Z",
     "iopub.status.busy": "2023-03-15T04:31:09.013382Z",
     "iopub.status.idle": "2023-03-15T04:31:09.462828Z",
     "shell.execute_reply": "2023-03-15T04:31:09.461773Z"
    },
    "papermill": {
     "duration": 0.463344,
     "end_time": "2023-03-15T04:31:09.464471",
     "exception": false,
     "start_time": "2023-03-15T04:31:09.001127",
     "status": "completed"
    },
    "tags": []
   },
   "outputs": [
    {
     "name": "stdout",
     "output_type": "stream",
     "text": [
      "Duplicates with the same genre: 347\n"
     ]
    },
    {
     "name": "stdout",
     "output_type": "stream",
     "text": [
      "Duplicates with different genres: 125\n"
     ]
    }
   ],
   "source": [
    "# Duplicates are songs with multiple artists (e.g. a featuring)\n",
    "# Remove duplicates having the same genre\n",
    "print(f'Duplicates with the same genre: {df.duplicated().sum()}')\n",
    "df = df.drop_duplicates()\n",
    "# Remove lyrics with different genres among duplicates:\n",
    "print(f'Duplicates with different genres: {df.duplicated(subset=\"lyrics\").sum()}')\n",
    "df = df.drop_duplicates(subset=\"lyrics\", keep=False)"
   ]
  },
  {
   "cell_type": "code",
   "execution_count": 23,
   "id": "de36f8fa",
   "metadata": {
    "execution": {
     "iopub.execute_input": "2023-03-15T04:31:09.489056Z",
     "iopub.status.busy": "2023-03-15T04:31:09.488785Z",
     "iopub.status.idle": "2023-03-15T04:31:09.495174Z",
     "shell.execute_reply": "2023-03-15T04:31:09.493605Z"
    },
    "papermill": {
     "duration": 0.022041,
     "end_time": "2023-03-15T04:31:09.498203",
     "exception": false,
     "start_time": "2023-03-15T04:31:09.476162",
     "status": "completed"
    },
    "tags": []
   },
   "outputs": [],
   "source": [
    "def clean_text(lyrics):\n",
    "    lyrics = re.sub(r'\\((.+?)?\\)', '', lyrics)\n",
    "    lyrics = re.sub(r'\\[(.+?)?\\]', '', lyrics)\n",
    "    lyrics = re.sub(r'\\{(.+?)?\\}', '', lyrics)\n",
    "    lyrics = re.sub(r'\\n+', '\\n', lyrics)\n",
    "    lyrics = re.sub(r'^[^a-zA-Z]+$', '', lyrics, flags=re.MULTILINE)\n",
    "    return lyrics"
   ]
  },
  {
   "cell_type": "code",
   "execution_count": 24,
   "id": "0de1b9f8",
   "metadata": {
    "execution": {
     "iopub.execute_input": "2023-03-15T04:31:09.553813Z",
     "iopub.status.busy": "2023-03-15T04:31:09.553330Z",
     "iopub.status.idle": "2023-03-15T04:31:12.387289Z",
     "shell.execute_reply": "2023-03-15T04:31:12.386356Z"
    },
    "papermill": {
     "duration": 2.866522,
     "end_time": "2023-03-15T04:31:12.389089",
     "exception": false,
     "start_time": "2023-03-15T04:31:09.522567",
     "status": "completed"
    },
    "tags": []
   },
   "outputs": [],
   "source": [
    "df['lyrics'] = df['lyrics'].apply(clean_text)"
   ]
  },
  {
   "cell_type": "code",
   "execution_count": 25,
   "id": "1a76fe68",
   "metadata": {
    "execution": {
     "iopub.execute_input": "2023-03-15T04:31:12.413683Z",
     "iopub.status.busy": "2023-03-15T04:31:12.413432Z",
     "iopub.status.idle": "2023-03-15T04:31:13.068213Z",
     "shell.execute_reply": "2023-03-15T04:31:13.067267Z"
    },
    "papermill": {
     "duration": 0.66922,
     "end_time": "2023-03-15T04:31:13.069999",
     "exception": false,
     "start_time": "2023-03-15T04:31:12.400779",
     "status": "completed"
    },
    "tags": []
   },
   "outputs": [],
   "source": [
    "# Split lyrics in verses consider \\n as sep, filter empty element in list (it's the result of '\\n\\n' or spaces)\n",
    "df['lyrics'] = df['lyrics'].apply(\n",
    "    lambda x: [verse for verse in x.split('\\n') if verse.strip()])"
   ]
  },
  {
   "cell_type": "code",
   "execution_count": 26,
   "id": "9bb15b96",
   "metadata": {
    "execution": {
     "iopub.execute_input": "2023-03-15T04:31:13.094768Z",
     "iopub.status.busy": "2023-03-15T04:31:13.094516Z",
     "iopub.status.idle": "2023-03-15T04:31:13.123880Z",
     "shell.execute_reply": "2023-03-15T04:31:13.122921Z"
    },
    "papermill": {
     "duration": 0.043809,
     "end_time": "2023-03-15T04:31:13.125604",
     "exception": false,
     "start_time": "2023-03-15T04:31:13.081795",
     "status": "completed"
    },
    "tags": []
   },
   "outputs": [],
   "source": [
    "# Count number of verses\n",
    "df['verses'] = df['lyrics'].apply(len)"
   ]
  },
  {
   "cell_type": "code",
   "execution_count": 27,
   "id": "3eb1bcd7",
   "metadata": {
    "execution": {
     "iopub.execute_input": "2023-03-15T04:31:13.150560Z",
     "iopub.status.busy": "2023-03-15T04:31:13.150305Z",
     "iopub.status.idle": "2023-03-15T04:31:13.418439Z",
     "shell.execute_reply": "2023-03-15T04:31:13.417359Z"
    },
    "papermill": {
     "duration": 0.282726,
     "end_time": "2023-03-15T04:31:13.420259",
     "exception": false,
     "start_time": "2023-03-15T04:31:13.137533",
     "status": "completed"
    },
    "tags": []
   },
   "outputs": [
    {
     "data": {
      "text/plain": [
       "<AxesSubplot:xlabel='verses', ylabel='Count'>"
      ]
     },
     "execution_count": 27,
     "metadata": {},
     "output_type": "execute_result"
    },
    {
     "data": {
      "image/png": "[encoded data removed]",
      "text/plain": [
       "<Figure size 640x480 with 1 Axes>"
      ]
     },
     "metadata": {},
     "output_type": "display_data"
    }
   ],
   "source": [
    "sns.histplot(df['verses'], binrange=(0,100), bins=50)"
   ]
  },
  {
   "cell_type": "code",
   "execution_count": 28,
   "id": "6099db58",
   "metadata": {
    "execution": {
     "iopub.execute_input": "2023-03-15T04:31:13.456096Z",
     "iopub.status.busy": "2023-03-15T04:31:13.455537Z",
     "iopub.status.idle": "2023-03-15T04:31:13.494677Z",
     "shell.execute_reply": "2023-03-15T04:31:13.493711Z"
    },
    "papermill": {
     "duration": 0.062612,
     "end_time": "2023-03-15T04:31:13.496400",
     "exception": false,
     "start_time": "2023-03-15T04:31:13.433788",
     "status": "completed"
    },
    "tags": []
   },
   "outputs": [],
   "source": [
    "# Drop the outlier rows from the DataFrame\n",
    "df = df.drop(df[df['verses'] > 100].index)\n",
    "df = df.drop(df[df['verses'] < 20].index)"
   ]
  },
  {
   "cell_type": "code",
   "execution_count": 29,
   "id": "0f2cb01c",
   "metadata": {
    "execution": {
     "iopub.execute_input": "2023-03-15T04:31:13.521712Z",
     "iopub.status.busy": "2023-03-15T04:31:13.521457Z",
     "iopub.status.idle": "2023-03-15T04:31:13.588875Z",
     "shell.execute_reply": "2023-03-15T04:31:13.587972Z"
    },
    "papermill": {
     "duration": 0.083391,
     "end_time": "2023-03-15T04:31:13.591925",
     "exception": false,
     "start_time": "2023-03-15T04:31:13.508534",
     "status": "completed"
    },
    "tags": []
   },
   "outputs": [],
   "source": [
    "category_col = df[genres].idxmax(axis=1)\n",
    "df['genre'] = category_col"
   ]
  },
  {
   "cell_type": "code",
   "execution_count": 30,
   "id": "220b28f2",
   "metadata": {
    "execution": {
     "iopub.execute_input": "2023-03-15T04:31:13.658505Z",
     "iopub.status.busy": "2023-03-15T04:31:13.658075Z",
     "iopub.status.idle": "2023-03-15T04:31:13.669833Z",
     "shell.execute_reply": "2023-03-15T04:31:13.668711Z"
    },
    "papermill": {
     "duration": 0.047573,
     "end_time": "2023-03-15T04:31:13.673038",
     "exception": false,
     "start_time": "2023-03-15T04:31:13.625465",
     "status": "completed"
    },
    "tags": []
   },
   "outputs": [
    {
     "data": {
      "text/plain": [
       "Pop/Rock       23306\n",
       "Heavy Metal    17975\n",
       "Indie          13810\n",
       "Hard Rock       6743\n",
       "Punk Rock       5931\n",
       "Name: genre, dtype: int64"
      ]
     },
     "execution_count": 30,
     "metadata": {},
     "output_type": "execute_result"
    }
   ],
   "source": [
    "df['genre'].value_counts()"
   ]
  },
  {
   "cell_type": "code",
   "execution_count": 31,
   "id": "06b75fcc",
   "metadata": {
    "execution": {
     "iopub.execute_input": "2023-03-15T04:31:13.712733Z",
     "iopub.status.busy": "2023-03-15T04:31:13.712276Z",
     "iopub.status.idle": "2023-03-15T04:31:13.725437Z",
     "shell.execute_reply": "2023-03-15T04:31:13.724196Z"
    },
    "papermill": {
     "duration": 0.028273,
     "end_time": "2023-03-15T04:31:13.727460",
     "exception": false,
     "start_time": "2023-03-15T04:31:13.699187",
     "status": "completed"
    },
    "tags": []
   },
   "outputs": [],
   "source": [
    "df = df.drop(columns=['verses']+list(genres))"
   ]
  },
  {
   "cell_type": "code",
   "execution_count": 32,
   "id": "28a5f465",
   "metadata": {
    "execution": {
     "iopub.execute_input": "2023-03-15T04:31:13.754529Z",
     "iopub.status.busy": "2023-03-15T04:31:13.754073Z",
     "iopub.status.idle": "2023-03-15T04:31:13.770759Z",
     "shell.execute_reply": "2023-03-15T04:31:13.769528Z"
    },
    "papermill": {
     "duration": 0.031773,
     "end_time": "2023-03-15T04:31:13.772818",
     "exception": false,
     "start_time": "2023-03-15T04:31:13.741045",
     "status": "completed"
    },
    "tags": []
   },
   "outputs": [],
   "source": [
    "df = df.reset_index(drop=True)"
   ]
  },
  {
   "cell_type": "code",
   "execution_count": 33,
   "id": "aac3ac16",
   "metadata": {
    "execution": {
     "iopub.execute_input": "2023-03-15T04:31:13.800478Z",
     "iopub.status.busy": "2023-03-15T04:31:13.799653Z",
     "iopub.status.idle": "2023-03-15T04:31:13.894021Z",
     "shell.execute_reply": "2023-03-15T04:31:13.893248Z"
    },
    "papermill": {
     "duration": 0.110106,
     "end_time": "2023-03-15T04:31:13.896769",
     "exception": false,
     "start_time": "2023-03-15T04:31:13.786663",
     "status": "completed"
    },
    "tags": []
   },
   "outputs": [],
   "source": [
    "df = df.groupby('genre').sample(n=5000, random_state=42).reset_index(drop=True)"
   ]
  },
  {
   "cell_type": "code",
   "execution_count": 34,
   "id": "ea9b87b0",
   "metadata": {
    "execution": {
     "iopub.execute_input": "2023-03-15T04:31:13.968675Z",
     "iopub.status.busy": "2023-03-15T04:31:13.967887Z",
     "iopub.status.idle": "2023-03-15T04:31:14.002829Z",
     "shell.execute_reply": "2023-03-15T04:31:14.002062Z"
    },
    "papermill": {
     "duration": 0.072818,
     "end_time": "2023-03-15T04:31:14.005669",
     "exception": false,
     "start_time": "2023-03-15T04:31:13.932851",
     "status": "completed"
    },
    "tags": []
   },
   "outputs": [],
   "source": [
    "df['genre'] = df['genre'].apply(lambda x: re.sub(r'[/ ]', '-', x.lower()))"
   ]
  },
  {
   "cell_type": "code",
   "execution_count": 35,
   "id": "6229764b",
   "metadata": {
    "execution": {
     "iopub.execute_input": "2023-03-15T04:31:14.068404Z",
     "iopub.status.busy": "2023-03-15T04:31:14.067555Z",
     "iopub.status.idle": "2023-03-15T04:31:14.086663Z",
     "shell.execute_reply": "2023-03-15T04:31:14.085407Z"
    },
    "papermill": {
     "duration": 0.050676,
     "end_time": "2023-03-15T04:31:14.088833",
     "exception": false,
     "start_time": "2023-03-15T04:31:14.038157",
     "status": "completed"
    },
    "tags": []
   },
   "outputs": [
    {
     "data": {
      "text/html": [
       "<div>\n",
       "<style scoped>\n",
       "    .dataframe tbody tr th:only-of-type {\n",
       "        vertical-align: middle;\n",
       "    }\n",
       "\n",
       "    .dataframe tbody tr th {\n",
       "        vertical-align: top;\n",
       "    }\n",
       "\n",
       "    .dataframe thead th {\n",
       "        text-align: right;\n",
       "    }\n",
       "</style>\n",
       "<table border=\"1\" class=\"dataframe\">\n",
       "  <thead>\n",
       "    <tr style=\"text-align: right;\">\n",
       "      <th></th>\n",
       "      <th>lyrics</th>\n",
       "      <th>genre</th>\n",
       "    </tr>\n",
       "  </thead>\n",
       "  <tbody>\n",
       "    <tr>\n",
       "      <th>0</th>\n",
       "      <td>[What if the devil was a lie?, What if God did...</td>\n",
       "      <td>hard-rock</td>\n",
       "    </tr>\n",
       "    <tr>\n",
       "      <th>1</th>\n",
       "      <td>[Can you help me, Help me get out of this plac...</td>\n",
       "      <td>hard-rock</td>\n",
       "    </tr>\n",
       "    <tr>\n",
       "      <th>2</th>\n",
       "      <td>[For every dream we lose, There's another one ...</td>\n",
       "      <td>hard-rock</td>\n",
       "    </tr>\n",
       "    <tr>\n",
       "      <th>3</th>\n",
       "      <td>[I never seem to find a reason, to let you in ...</td>\n",
       "      <td>hard-rock</td>\n",
       "    </tr>\n",
       "    <tr>\n",
       "      <th>4</th>\n",
       "      <td>[It would appear that male pattern, baldness h...</td>\n",
       "      <td>hard-rock</td>\n",
       "    </tr>\n",
       "  </tbody>\n",
       "</table>\n",
       "</div>"
      ],
      "text/plain": [
       "                                              lyrics      genre\n",
       "0  [What if the devil was a lie?, What if God did...  hard-rock\n",
       "1  [Can you help me, Help me get out of this plac...  hard-rock\n",
       "2  [For every dream we lose, There's another one ...  hard-rock\n",
       "3  [I never seem to find a reason, to let you in ...  hard-rock\n",
       "4  [It would appear that male pattern, baldness h...  hard-rock"
      ]
     },
     "execution_count": 35,
     "metadata": {},
     "output_type": "execute_result"
    }
   ],
   "source": [
    "df.head()"
   ]
  },
  {
   "cell_type": "code",
   "execution_count": 36,
   "id": "5975e1aa",
   "metadata": {
    "execution": {
     "iopub.execute_input": "2023-03-15T04:31:14.116924Z",
     "iopub.status.busy": "2023-03-15T04:31:14.116454Z",
     "iopub.status.idle": "2023-03-15T04:31:14.129160Z",
     "shell.execute_reply": "2023-03-15T04:31:14.127732Z"
    },
    "papermill": {
     "duration": 0.028042,
     "end_time": "2023-03-15T04:31:14.131159",
     "exception": false,
     "start_time": "2023-03-15T04:31:14.103117",
     "status": "completed"
    },
    "tags": []
   },
   "outputs": [],
   "source": [
    "df = df.rename(columns={'lyrics':'text','genre':'class'})"
   ]
  },
  {
   "cell_type": "code",
   "execution_count": 37,
   "id": "1b1fbb27",
   "metadata": {
    "execution": {
     "iopub.execute_input": "2023-03-15T04:31:14.158268Z",
     "iopub.status.busy": "2023-03-15T04:31:14.157178Z",
     "iopub.status.idle": "2023-03-15T04:31:14.860742Z",
     "shell.execute_reply": "2023-03-15T04:31:14.859736Z"
    },
    "papermill": {
     "duration": 0.719792,
     "end_time": "2023-03-15T04:31:14.863576",
     "exception": false,
     "start_time": "2023-03-15T04:31:14.143784",
     "status": "completed"
    },
    "tags": []
   },
   "outputs": [],
   "source": [
    "ds_id = 'rock-subgenres'\n",
    "\n",
    "# Create directory\n",
    "data_ds_path = base_path + ds_id\n",
    "\n",
    "os.makedirs(data_ds_path, exist_ok=True)\n",
    "\n",
    "df.to_csv(f'{data_ds_path}/data.csv', index=False)"
   ]
  },
  {
   "cell_type": "markdown",
   "id": "638cbbd7",
   "metadata": {
    "papermill": {
     "duration": 0.033815,
     "end_time": "2023-03-15T04:31:14.933537",
     "exception": false,
     "start_time": "2023-03-15T04:31:14.899722",
     "status": "completed"
    },
    "tags": []
   },
   "source": [
    "## Movie Plots Dataset"
   ]
  },
  {
   "cell_type": "code",
   "execution_count": 38,
   "id": "827b8c8d",
   "metadata": {
    "execution": {
     "iopub.execute_input": "2023-03-15T04:31:14.966267Z",
     "iopub.status.busy": "2023-03-15T04:31:14.965798Z",
     "iopub.status.idle": "2023-03-15T04:31:15.781880Z",
     "shell.execute_reply": "2023-03-15T04:31:15.780952Z"
    },
    "papermill": {
     "duration": 0.832595,
     "end_time": "2023-03-15T04:31:15.785157",
     "exception": false,
     "start_time": "2023-03-15T04:31:14.952562",
     "status": "completed"
    },
    "tags": []
   },
   "outputs": [],
   "source": [
    "df = pd.read_csv('../data/raw-data/wiki_movie_plots_deduped.csv')"
   ]
  },
  {
   "cell_type": "code",
   "execution_count": 39,
   "id": "db827f28",
   "metadata": {
    "execution": {
     "iopub.execute_input": "2023-03-15T04:31:15.814028Z",
     "iopub.status.busy": "2023-03-15T04:31:15.813715Z",
     "iopub.status.idle": "2023-03-15T04:31:15.826610Z",
     "shell.execute_reply": "2023-03-15T04:31:15.825593Z"
    },
    "papermill": {
     "duration": 0.027901,
     "end_time": "2023-03-15T04:31:15.828471",
     "exception": false,
     "start_time": "2023-03-15T04:31:15.800570",
     "status": "completed"
    },
    "tags": []
   },
   "outputs": [
    {
     "data": {
      "text/html": [
       "<div>\n",
       "<style scoped>\n",
       "    .dataframe tbody tr th:only-of-type {\n",
       "        vertical-align: middle;\n",
       "    }\n",
       "\n",
       "    .dataframe tbody tr th {\n",
       "        vertical-align: top;\n",
       "    }\n",
       "\n",
       "    .dataframe thead th {\n",
       "        text-align: right;\n",
       "    }\n",
       "</style>\n",
       "<table border=\"1\" class=\"dataframe\">\n",
       "  <thead>\n",
       "    <tr style=\"text-align: right;\">\n",
       "      <th></th>\n",
       "      <th>Release Year</th>\n",
       "      <th>Title</th>\n",
       "      <th>Origin/Ethnicity</th>\n",
       "      <th>Director</th>\n",
       "      <th>Cast</th>\n",
       "      <th>Genre</th>\n",
       "      <th>Wiki Page</th>\n",
       "      <th>Plot</th>\n",
       "    </tr>\n",
       "  </thead>\n",
       "  <tbody>\n",
       "    <tr>\n",
       "      <th>0</th>\n",
       "      <td>1901</td>\n",
       "      <td>Kansas Saloon Smashers</td>\n",
       "      <td>American</td>\n",
       "      <td>Unknown</td>\n",
       "      <td>NaN</td>\n",
       "      <td>unknown</td>\n",
       "      <td>https://en.wikipedia.org/wiki/Kansas_Saloon_Sm...</td>\n",
       "      <td>A bartender is working at a saloon, serving dr...</td>\n",
       "    </tr>\n",
       "    <tr>\n",
       "      <th>1</th>\n",
       "      <td>1901</td>\n",
       "      <td>Love by the Light of the Moon</td>\n",
       "      <td>American</td>\n",
       "      <td>Unknown</td>\n",
       "      <td>NaN</td>\n",
       "      <td>unknown</td>\n",
       "      <td>https://en.wikipedia.org/wiki/Love_by_the_Ligh...</td>\n",
       "      <td>The moon, painted with a smiling face hangs ov...</td>\n",
       "    </tr>\n",
       "    <tr>\n",
       "      <th>2</th>\n",
       "      <td>1901</td>\n",
       "      <td>The Martyred Presidents</td>\n",
       "      <td>American</td>\n",
       "      <td>Unknown</td>\n",
       "      <td>NaN</td>\n",
       "      <td>unknown</td>\n",
       "      <td>https://en.wikipedia.org/wiki/The_Martyred_Pre...</td>\n",
       "      <td>The film, just over a minute long, is composed...</td>\n",
       "    </tr>\n",
       "    <tr>\n",
       "      <th>3</th>\n",
       "      <td>1901</td>\n",
       "      <td>Terrible Teddy, the Grizzly King</td>\n",
       "      <td>American</td>\n",
       "      <td>Unknown</td>\n",
       "      <td>NaN</td>\n",
       "      <td>unknown</td>\n",
       "      <td>https://en.wikipedia.org/wiki/Terrible_Teddy,_...</td>\n",
       "      <td>Lasting just 61 seconds and consisting of two ...</td>\n",
       "    </tr>\n",
       "    <tr>\n",
       "      <th>4</th>\n",
       "      <td>1902</td>\n",
       "      <td>Jack and the Beanstalk</td>\n",
       "      <td>American</td>\n",
       "      <td>George S. Fleming, Edwin S. Porter</td>\n",
       "      <td>NaN</td>\n",
       "      <td>unknown</td>\n",
       "      <td>https://en.wikipedia.org/wiki/Jack_and_the_Bea...</td>\n",
       "      <td>The earliest known adaptation of the classic f...</td>\n",
       "    </tr>\n",
       "  </tbody>\n",
       "</table>\n",
       "</div>"
      ],
      "text/plain": [
       "   Release Year                             Title Origin/Ethnicity  \\\n",
       "0          1901            Kansas Saloon Smashers         American   \n",
       "1          1901     Love by the Light of the Moon         American   \n",
       "2          1901           The Martyred Presidents         American   \n",
       "3          1901  Terrible Teddy, the Grizzly King         American   \n",
       "4          1902            Jack and the Beanstalk         American   \n",
       "\n",
       "                             Director Cast    Genre  \\\n",
       "0                             Unknown  NaN  unknown   \n",
       "1                             Unknown  NaN  unknown   \n",
       "2                             Unknown  NaN  unknown   \n",
       "3                             Unknown  NaN  unknown   \n",
       "4  George S. Fleming, Edwin S. Porter  NaN  unknown   \n",
       "\n",
       "                                           Wiki Page  \\\n",
       "0  https://en.wikipedia.org/wiki/Kansas_Saloon_Sm...   \n",
       "1  https://en.wikipedia.org/wiki/Love_by_the_Ligh...   \n",
       "2  https://en.wikipedia.org/wiki/The_Martyred_Pre...   \n",
       "3  https://en.wikipedia.org/wiki/Terrible_Teddy,_...   \n",
       "4  https://en.wikipedia.org/wiki/Jack_and_the_Bea...   \n",
       "\n",
       "                                                Plot  \n",
       "0  A bartender is working at a saloon, serving dr...  \n",
       "1  The moon, painted with a smiling face hangs ov...  \n",
       "2  The film, just over a minute long, is composed...  \n",
       "3  Lasting just 61 seconds and consisting of two ...  \n",
       "4  The earliest known adaptation of the classic f...  "
      ]
     },
     "execution_count": 39,
     "metadata": {},
     "output_type": "execute_result"
    }
   ],
   "source": [
    "df.head()"
   ]
  },
  {
   "cell_type": "code",
   "execution_count": 40,
   "id": "57bf57d3",
   "metadata": {
    "execution": {
     "iopub.execute_input": "2023-03-15T04:31:15.855091Z",
     "iopub.status.busy": "2023-03-15T04:31:15.854767Z",
     "iopub.status.idle": "2023-03-15T04:31:15.861591Z",
     "shell.execute_reply": "2023-03-15T04:31:15.860418Z"
    },
    "papermill": {
     "duration": 0.021646,
     "end_time": "2023-03-15T04:31:15.863316",
     "exception": false,
     "start_time": "2023-03-15T04:31:15.841670",
     "status": "completed"
    },
    "tags": []
   },
   "outputs": [
    {
     "data": {
      "text/plain": [
       "\"A divorced socialite and daughter - Jo McBain (Rosalind Russell) - of a United States senator - Andrew McBain (Paul Douglas) - would like to join her boyfriend, who just left for Paris, where he has been transferred, with two other military comrades. After speaking with her father, he has the idea of her joining the army and getting her an officer's commission in the Women's Army Corps, so that she can be near her officer boyfriend and thereby be transferred to Paris. He sells her this idea, telling her that she would start as a general. Her wealthy and spoiled manners are crushed immediately, when arriving at basic training camp she is told that she would have to start at the bottom. Her father is involved in the telephone chain of people making the decision. Her ex-husband is working as an Army uniforms designer, and he uses his position to disrupt her romantic plans by making her join a group of girls who are testing polar equipment. After she has had enough of her ex-husband's silly pranks, she blows up at her commanding officers and is to be dismissed from the Army. Her contrite ex-husband admit his faults to the disciplinary hearing, but Jo confesses that she was faking being a good soldier so she could go to Paris and be with her boyfriend. She leaves the Army, but she made a lifelong friend in Clara, who tells Jo she will ask her boyfriend to marry her. When she leaves the Army, Jo watches as new recruits are brought in. She realizes that she's still in love with her ex-husband (and he with her). She decides to enroll back into the Army, a genuine attempt at being a good soldier this time, willing to do what the Army ask her to do. She says that later, after her graduation, she may be stationed near Andrew, her ex-husband.\""
      ]
     },
     "execution_count": 40,
     "metadata": {},
     "output_type": "execute_result"
    }
   ],
   "source": [
    "random.choice(df['Plot'])"
   ]
  },
  {
   "cell_type": "code",
   "execution_count": 41,
   "id": "0e749647",
   "metadata": {
    "execution": {
     "iopub.execute_input": "2023-03-15T04:31:15.889969Z",
     "iopub.status.busy": "2023-03-15T04:31:15.889498Z",
     "iopub.status.idle": "2023-03-15T04:31:31.090392Z",
     "shell.execute_reply": "2023-03-15T04:31:31.089462Z"
    },
    "papermill": {
     "duration": 15.217927,
     "end_time": "2023-03-15T04:31:31.093593",
     "exception": false,
     "start_time": "2023-03-15T04:31:15.875666",
     "status": "completed"
    },
    "tags": []
   },
   "outputs": [],
   "source": [
    "df['Plot']= df['Plot'].apply(sent_tokenize)"
   ]
  },
  {
   "cell_type": "code",
   "execution_count": 42,
   "id": "de8eb6d5",
   "metadata": {
    "execution": {
     "iopub.execute_input": "2023-03-15T04:31:31.165018Z",
     "iopub.status.busy": "2023-03-15T04:31:31.164714Z",
     "iopub.status.idle": "2023-03-15T04:31:31.180451Z",
     "shell.execute_reply": "2023-03-15T04:31:31.179462Z"
    },
    "papermill": {
     "duration": 0.054543,
     "end_time": "2023-03-15T04:31:31.183149",
     "exception": false,
     "start_time": "2023-03-15T04:31:31.128606",
     "status": "completed"
    },
    "tags": []
   },
   "outputs": [],
   "source": [
    "n_sentences = df['Plot'].apply(len)"
   ]
  },
  {
   "cell_type": "code",
   "execution_count": 43,
   "id": "19ea6e04",
   "metadata": {
    "execution": {
     "iopub.execute_input": "2023-03-15T04:31:31.233199Z",
     "iopub.status.busy": "2023-03-15T04:31:31.232736Z",
     "iopub.status.idle": "2023-03-15T04:31:31.498287Z",
     "shell.execute_reply": "2023-03-15T04:31:31.497452Z"
    },
    "papermill": {
     "duration": 0.282329,
     "end_time": "2023-03-15T04:31:31.500389",
     "exception": false,
     "start_time": "2023-03-15T04:31:31.218060",
     "status": "completed"
    },
    "tags": []
   },
   "outputs": [
    {
     "data": {
      "text/plain": [
       "<AxesSubplot:xlabel='Plot', ylabel='Count'>"
      ]
     },
     "execution_count": 43,
     "metadata": {},
     "output_type": "execute_result"
    },
    {
     "data": {
      "image/png": "[encoded data removed]",
      "text/plain": [
       "<Figure size 640x480 with 1 Axes>"
      ]
     },
     "metadata": {},
     "output_type": "display_data"
    }
   ],
   "source": [
    "sns.histplot(n_sentences, bins=50, binrange=(0,200))"
   ]
  },
  {
   "cell_type": "code",
   "execution_count": 44,
   "id": "0737acb6",
   "metadata": {
    "execution": {
     "iopub.execute_input": "2023-03-15T04:31:31.530263Z",
     "iopub.status.busy": "2023-03-15T04:31:31.529958Z",
     "iopub.status.idle": "2023-03-15T04:31:31.560703Z",
     "shell.execute_reply": "2023-03-15T04:31:31.559935Z"
    },
    "papermill": {
     "duration": 0.047542,
     "end_time": "2023-03-15T04:31:31.563469",
     "exception": false,
     "start_time": "2023-03-15T04:31:31.515927",
     "status": "completed"
    },
    "tags": []
   },
   "outputs": [],
   "source": [
    "df = df[df['Plot'].apply(len)>20]"
   ]
  },
  {
   "cell_type": "code",
   "execution_count": 45,
   "id": "9be448e1",
   "metadata": {
    "execution": {
     "iopub.execute_input": "2023-03-15T04:31:31.632090Z",
     "iopub.status.busy": "2023-03-15T04:31:31.631596Z",
     "iopub.status.idle": "2023-03-15T04:31:31.645802Z",
     "shell.execute_reply": "2023-03-15T04:31:31.644520Z"
    },
    "papermill": {
     "duration": 0.048754,
     "end_time": "2023-03-15T04:31:31.647918",
     "exception": false,
     "start_time": "2023-03-15T04:31:31.599164",
     "status": "completed"
    },
    "tags": []
   },
   "outputs": [
    {
     "data": {
      "text/plain": [
       "drama              1887\n",
       "unknown            1790\n",
       "comedy             1544\n",
       "horror              748\n",
       "action              494\n",
       "thriller            466\n",
       "science fiction     302\n",
       "romance             296\n",
       "crime drama         238\n",
       "western             226\n",
       "adventure           197\n",
       "romantic comedy     196\n",
       "animation           174\n",
       "fantasy             136\n",
       "musical             134\n",
       "sci-fi              133\n",
       "animated            129\n",
       "war                 124\n",
       "film noir           123\n",
       "family              121\n",
       "Name: Genre, dtype: int64"
      ]
     },
     "execution_count": 45,
     "metadata": {},
     "output_type": "execute_result"
    }
   ],
   "source": [
    "df['Genre'].value_counts().sort_values(ascending=False)[:20]"
   ]
  },
  {
   "cell_type": "code",
   "execution_count": 46,
   "id": "f15bf1b9",
   "metadata": {
    "execution": {
     "iopub.execute_input": "2023-03-15T04:31:31.676283Z",
     "iopub.status.busy": "2023-03-15T04:31:31.675786Z",
     "iopub.status.idle": "2023-03-15T04:31:31.697136Z",
     "shell.execute_reply": "2023-03-15T04:31:31.695769Z"
    },
    "papermill": {
     "duration": 0.037391,
     "end_time": "2023-03-15T04:31:31.699265",
     "exception": false,
     "start_time": "2023-03-15T04:31:31.661874",
     "status": "completed"
    },
    "tags": []
   },
   "outputs": [
    {
     "data": {
      "text/plain": [
       "drama              1887\n",
       "comedy             1544\n",
       "horror              748\n",
       "action              494\n",
       "thriller            466\n",
       "science fiction     302\n",
       "romance             296\n",
       "crime drama         238\n",
       "western             226\n",
       "adventure           197\n",
       "romantic comedy     196\n",
       "animation           174\n",
       "fantasy             136\n",
       "musical             134\n",
       "sci-fi              133\n",
       "animated            129\n",
       "war                 124\n",
       "film noir           123\n",
       "family              121\n",
       "crime               116\n",
       "Name: Genre, dtype: int64"
      ]
     },
     "execution_count": 46,
     "metadata": {},
     "output_type": "execute_result"
    }
   ],
   "source": [
    "df = df[df['Genre']!='unknown']\n",
    "df['Genre'].value_counts().sort_values(ascending=False)[:20]"
   ]
  },
  {
   "cell_type": "code",
   "execution_count": 47,
   "id": "d3394e22",
   "metadata": {
    "execution": {
     "iopub.execute_input": "2023-03-15T04:31:31.728776Z",
     "iopub.status.busy": "2023-03-15T04:31:31.728310Z",
     "iopub.status.idle": "2023-03-15T04:31:31.736684Z",
     "shell.execute_reply": "2023-03-15T04:31:31.735420Z"
    },
    "papermill": {
     "duration": 0.024325,
     "end_time": "2023-03-15T04:31:31.738617",
     "exception": false,
     "start_time": "2023-03-15T04:31:31.714292",
     "status": "completed"
    },
    "tags": []
   },
   "outputs": [],
   "source": [
    "def clean_genre_label(label):\n",
    "    label = ' '.join(label.split()).lower()\n",
    "    label = re.sub(r'sci[\\s-]?fi', 'scifi', label)\n",
    "    label = re.sub(r'science[-–]fiction', 'scifi', label)\n",
    "    label = re.sub(r'rom-?com', 'romantic comedy', label)\n",
    "    label = re.sub(r'[,\\.;:\\|/\\-_–]', ' ', label)    \n",
    "    label = ' '.join(label.split())\n",
    "    return label"
   ]
  },
  {
   "cell_type": "code",
   "execution_count": 48,
   "id": "8c205e1d",
   "metadata": {
    "execution": {
     "iopub.execute_input": "2023-03-15T04:31:31.766545Z",
     "iopub.status.busy": "2023-03-15T04:31:31.766083Z",
     "iopub.status.idle": "2023-03-15T04:31:31.858693Z",
     "shell.execute_reply": "2023-03-15T04:31:31.857785Z"
    },
    "papermill": {
     "duration": 0.109191,
     "end_time": "2023-03-15T04:31:31.861308",
     "exception": false,
     "start_time": "2023-03-15T04:31:31.752117",
     "status": "completed"
    },
    "tags": []
   },
   "outputs": [],
   "source": [
    "df['Genre'] = df['Genre'].apply(clean_genre_label)"
   ]
  },
  {
   "cell_type": "code",
   "execution_count": 49,
   "id": "97a3a162",
   "metadata": {
    "execution": {
     "iopub.execute_input": "2023-03-15T04:31:31.928878Z",
     "iopub.status.busy": "2023-03-15T04:31:31.928414Z",
     "iopub.status.idle": "2023-03-15T04:31:32.568463Z",
     "shell.execute_reply": "2023-03-15T04:31:32.567656Z"
    },
    "papermill": {
     "duration": 0.677343,
     "end_time": "2023-03-15T04:31:32.571431",
     "exception": false,
     "start_time": "2023-03-15T04:31:31.894088",
     "status": "completed"
    },
    "tags": []
   },
   "outputs": [],
   "source": [
    "dummies = df['Genre'].str.get_dummies(sep=' ')\n",
    "df = pd.concat([df['Plot'], dummies], axis=1)"
   ]
  },
  {
   "cell_type": "code",
   "execution_count": 50,
   "id": "8f373608",
   "metadata": {
    "execution": {
     "iopub.execute_input": "2023-03-15T04:31:32.645488Z",
     "iopub.status.busy": "2023-03-15T04:31:32.645196Z",
     "iopub.status.idle": "2023-03-15T04:31:32.656573Z",
     "shell.execute_reply": "2023-03-15T04:31:32.655534Z"
    },
    "papermill": {
     "duration": 0.051849,
     "end_time": "2023-03-15T04:31:32.659586",
     "exception": false,
     "start_time": "2023-03-15T04:31:32.607737",
     "status": "completed"
    },
    "tags": []
   },
   "outputs": [
    {
     "data": {
      "text/plain": [
       "drama        3351\n",
       "comedy       2758\n",
       "action       1220\n",
       "horror       1007\n",
       "thriller      945\n",
       "romance       716\n",
       "crime         604\n",
       "adventure     406\n",
       "science       402\n",
       "fiction       397\n",
       "fantasy       351\n",
       "family        335\n",
       "musical       329\n",
       "romantic      291\n",
       "war           280\n",
       "animated      277\n",
       "western       266\n",
       "scifi         260\n",
       "animation     233\n",
       "film          220\n",
       "dtype: int64"
      ]
     },
     "execution_count": 50,
     "metadata": {},
     "output_type": "execute_result"
    }
   ],
   "source": [
    "df.sum(numeric_only=True).sort_values(ascending=False)[:20]"
   ]
  },
  {
   "cell_type": "code",
   "execution_count": 51,
   "id": "abbb1e09",
   "metadata": {
    "execution": {
     "iopub.execute_input": "2023-03-15T04:31:32.699755Z",
     "iopub.status.busy": "2023-03-15T04:31:32.699296Z",
     "iopub.status.idle": "2023-03-15T04:31:32.709095Z",
     "shell.execute_reply": "2023-03-15T04:31:32.707764Z"
    },
    "papermill": {
     "duration": 0.025854,
     "end_time": "2023-03-15T04:31:32.711174",
     "exception": false,
     "start_time": "2023-03-15T04:31:32.685320",
     "status": "completed"
    },
    "tags": []
   },
   "outputs": [],
   "source": [
    "df = df[['Plot',\n",
    "         'drama',\n",
    "         'comedy',\n",
    "         'thriller','action','crime',\n",
    "         'horror','scifi','fantasy','mystery','supernatural']]"
   ]
  },
  {
   "cell_type": "code",
   "execution_count": 52,
   "id": "de5d1870",
   "metadata": {
    "execution": {
     "iopub.execute_input": "2023-03-15T04:31:32.739420Z",
     "iopub.status.busy": "2023-03-15T04:31:32.738957Z",
     "iopub.status.idle": "2023-03-15T04:31:32.750841Z",
     "shell.execute_reply": "2023-03-15T04:31:32.749456Z"
    },
    "papermill": {
     "duration": 0.028067,
     "end_time": "2023-03-15T04:31:32.752897",
     "exception": false,
     "start_time": "2023-03-15T04:31:32.724830",
     "status": "completed"
    },
    "tags": []
   },
   "outputs": [
    {
     "data": {
      "text/plain": [
       "drama           3351\n",
       "comedy          2758\n",
       "action          1220\n",
       "horror          1007\n",
       "thriller         945\n",
       "crime            604\n",
       "fantasy          351\n",
       "scifi            260\n",
       "mystery          167\n",
       "supernatural      28\n",
       "dtype: int64"
      ]
     },
     "execution_count": 52,
     "metadata": {},
     "output_type": "execute_result"
    }
   ],
   "source": [
    "df.sum(numeric_only=True).sort_values(ascending=False)"
   ]
  },
  {
   "cell_type": "code",
   "execution_count": 53,
   "id": "0e8d1679",
   "metadata": {
    "execution": {
     "iopub.execute_input": "2023-03-15T04:31:32.780748Z",
     "iopub.status.busy": "2023-03-15T04:31:32.780252Z",
     "iopub.status.idle": "2023-03-15T04:31:32.785628Z",
     "shell.execute_reply": "2023-03-15T04:31:32.784599Z"
    },
    "papermill": {
     "duration": 0.021366,
     "end_time": "2023-03-15T04:31:32.787497",
     "exception": false,
     "start_time": "2023-03-15T04:31:32.766131",
     "status": "completed"
    },
    "tags": []
   },
   "outputs": [],
   "source": [
    "group1 = 'action_thriller_crime'\n",
    "group2 = 'horror_scifi_mystery_supernatural_fantasy'"
   ]
  },
  {
   "cell_type": "code",
   "execution_count": 54,
   "id": "08f4405c",
   "metadata": {
    "execution": {
     "iopub.execute_input": "2023-03-15T04:31:32.818212Z",
     "iopub.status.busy": "2023-03-15T04:31:32.817761Z",
     "iopub.status.idle": "2023-03-15T04:31:32.834822Z",
     "shell.execute_reply": "2023-03-15T04:31:32.833357Z"
    },
    "papermill": {
     "duration": 0.03473,
     "end_time": "2023-03-15T04:31:32.837073",
     "exception": false,
     "start_time": "2023-03-15T04:31:32.802343",
     "status": "completed"
    },
    "tags": []
   },
   "outputs": [],
   "source": [
    "df.loc[:, group1] = df[group1.split('_')].max(axis=1)\n",
    "df.loc[:, group2] = df[group2.split('_')].max(axis=1)\n",
    "\n",
    "df = df.drop(columns=group1.split('_')+group2.split('_'))"
   ]
  },
  {
   "cell_type": "code",
   "execution_count": 55,
   "id": "37c2fbf5",
   "metadata": {
    "execution": {
     "iopub.execute_input": "2023-03-15T04:31:32.867026Z",
     "iopub.status.busy": "2023-03-15T04:31:32.866560Z",
     "iopub.status.idle": "2023-03-15T04:31:32.879127Z",
     "shell.execute_reply": "2023-03-15T04:31:32.877625Z"
    },
    "papermill": {
     "duration": 0.029037,
     "end_time": "2023-03-15T04:31:32.881365",
     "exception": false,
     "start_time": "2023-03-15T04:31:32.852328",
     "status": "completed"
    },
    "tags": []
   },
   "outputs": [],
   "source": [
    "df = df.drop(df[df.sum(axis=1, numeric_only=True)!=1].index)"
   ]
  },
  {
   "cell_type": "code",
   "execution_count": 56,
   "id": "405bdd39",
   "metadata": {
    "execution": {
     "iopub.execute_input": "2023-03-15T04:31:32.910618Z",
     "iopub.status.busy": "2023-03-15T04:31:32.910158Z",
     "iopub.status.idle": "2023-03-15T04:31:32.916508Z",
     "shell.execute_reply": "2023-03-15T04:31:32.915340Z"
    },
    "papermill": {
     "duration": 0.022366,
     "end_time": "2023-03-15T04:31:32.918247",
     "exception": false,
     "start_time": "2023-03-15T04:31:32.895881",
     "status": "completed"
    },
    "tags": []
   },
   "outputs": [],
   "source": [
    "df = df.reset_index(drop=True)"
   ]
  },
  {
   "cell_type": "code",
   "execution_count": 57,
   "id": "b0b600bf",
   "metadata": {
    "execution": {
     "iopub.execute_input": "2023-03-15T04:31:32.946099Z",
     "iopub.status.busy": "2023-03-15T04:31:32.945641Z",
     "iopub.status.idle": "2023-03-15T04:31:32.973807Z",
     "shell.execute_reply": "2023-03-15T04:31:32.972537Z"
    },
    "papermill": {
     "duration": 0.044741,
     "end_time": "2023-03-15T04:31:32.975948",
     "exception": false,
     "start_time": "2023-03-15T04:31:32.931207",
     "status": "completed"
    },
    "tags": []
   },
   "outputs": [],
   "source": [
    "genres = [col for col in df.columns if col != 'Plot']\n",
    "\n",
    "category_col = df[genres].idxmax(axis=1, numeric_only=True)\n",
    "df['genre'] = category_col\n",
    "\n",
    "df = df.drop(columns=genres)"
   ]
  },
  {
   "cell_type": "code",
   "execution_count": 58,
   "id": "57a0ce52",
   "metadata": {
    "execution": {
     "iopub.execute_input": "2023-03-15T04:31:33.020920Z",
     "iopub.status.busy": "2023-03-15T04:31:33.020383Z",
     "iopub.status.idle": "2023-03-15T04:31:33.032149Z",
     "shell.execute_reply": "2023-03-15T04:31:33.031234Z"
    },
    "papermill": {
     "duration": 0.043203,
     "end_time": "2023-03-15T04:31:33.034872",
     "exception": false,
     "start_time": "2023-03-15T04:31:32.991669",
     "status": "completed"
    },
    "tags": []
   },
   "outputs": [
    {
     "data": {
      "text/plain": [
       "drama                                        2496\n",
       "comedy                                       2113\n",
       "action_thriller_crime                        1590\n",
       "horror_scifi_mystery_supernatural_fantasy    1313\n",
       "Name: genre, dtype: int64"
      ]
     },
     "execution_count": 58,
     "metadata": {},
     "output_type": "execute_result"
    }
   ],
   "source": [
    "df['genre'].value_counts()"
   ]
  },
  {
   "cell_type": "code",
   "execution_count": 59,
   "id": "528f1268",
   "metadata": {
    "execution": {
     "iopub.execute_input": "2023-03-15T04:31:33.077457Z",
     "iopub.status.busy": "2023-03-15T04:31:33.077036Z",
     "iopub.status.idle": "2023-03-15T04:31:33.088400Z",
     "shell.execute_reply": "2023-03-15T04:31:33.087158Z"
    },
    "papermill": {
     "duration": 0.027525,
     "end_time": "2023-03-15T04:31:33.090435",
     "exception": false,
     "start_time": "2023-03-15T04:31:33.062910",
     "status": "completed"
    },
    "tags": []
   },
   "outputs": [
    {
     "data": {
      "text/plain": [
       "drama                                        0.332268\n",
       "comedy                                       0.281283\n",
       "action_thriller_crime                        0.211661\n",
       "horror_scifi_mystery_supernatural_fantasy    0.174787\n",
       "Name: genre, dtype: float64"
      ]
     },
     "execution_count": 59,
     "metadata": {},
     "output_type": "execute_result"
    }
   ],
   "source": [
    "df['genre'].value_counts(normalize=True)"
   ]
  },
  {
   "cell_type": "code",
   "execution_count": 60,
   "id": "51eabe49",
   "metadata": {
    "execution": {
     "iopub.execute_input": "2023-03-15T04:31:33.119010Z",
     "iopub.status.busy": "2023-03-15T04:31:33.118592Z",
     "iopub.status.idle": "2023-03-15T04:31:33.125762Z",
     "shell.execute_reply": "2023-03-15T04:31:33.124722Z"
    },
    "papermill": {
     "duration": 0.023234,
     "end_time": "2023-03-15T04:31:33.127537",
     "exception": false,
     "start_time": "2023-03-15T04:31:33.104303",
     "status": "completed"
    },
    "tags": []
   },
   "outputs": [],
   "source": [
    "df = df.rename(columns={'Plot':'text','genre':'class'})"
   ]
  },
  {
   "cell_type": "code",
   "execution_count": 61,
   "id": "f791b157",
   "metadata": {
    "execution": {
     "iopub.execute_input": "2023-03-15T04:31:33.155172Z",
     "iopub.status.busy": "2023-03-15T04:31:33.154751Z",
     "iopub.status.idle": "2023-03-15T04:31:33.771452Z",
     "shell.execute_reply": "2023-03-15T04:31:33.770740Z"
    },
    "papermill": {
     "duration": 0.634083,
     "end_time": "2023-03-15T04:31:33.774583",
     "exception": false,
     "start_time": "2023-03-15T04:31:33.140500",
     "status": "completed"
    },
    "tags": []
   },
   "outputs": [],
   "source": [
    "ds_id = 'movie-plots'\n",
    "\n",
    "# Create directory\n",
    "data_ds_path = base_path + ds_id\n",
    "\n",
    "os.makedirs(data_ds_path, exist_ok=True)\n",
    "\n",
    "df.to_csv(f'{data_ds_path}/data.csv', index=False)"
   ]
  },
  {
   "cell_type": "markdown",
   "id": "c3196f43",
   "metadata": {
    "papermill": {
     "duration": 0.032984,
     "end_time": "2023-03-15T04:31:33.844192",
     "exception": false,
     "start_time": "2023-03-15T04:31:33.811208",
     "status": "completed"
    },
    "tags": []
   },
   "source": [
    "## 20 Newsgroups"
   ]
  },
  {
   "cell_type": "code",
   "execution_count": 62,
   "id": "5b00ba99",
   "metadata": {
    "execution": {
     "iopub.execute_input": "2023-03-15T04:31:33.879503Z",
     "iopub.status.busy": "2023-03-15T04:31:33.879036Z",
     "iopub.status.idle": "2023-03-15T04:31:35.566844Z",
     "shell.execute_reply": "2023-03-15T04:31:35.566076Z"
    },
    "papermill": {
     "duration": 1.705509,
     "end_time": "2023-03-15T04:31:35.570104",
     "exception": false,
     "start_time": "2023-03-15T04:31:33.864595",
     "status": "completed"
    },
    "tags": []
   },
   "outputs": [],
   "source": [
    "newsgroups = fetch_20newsgroups(subset='all', remove=('headers', 'footers', 'quotes'))\n",
    "\n",
    "df = pd.DataFrame({'text': newsgroups.data,\n",
    "                   'category': [newsgroups.target_names[value]\n",
    "                                for value in newsgroups.target]})"
   ]
  },
  {
   "cell_type": "code",
   "execution_count": 63,
   "id": "dfdb9049",
   "metadata": {
    "execution": {
     "iopub.execute_input": "2023-03-15T04:31:35.646507Z",
     "iopub.status.busy": "2023-03-15T04:31:35.646209Z",
     "iopub.status.idle": "2023-03-15T04:31:35.663112Z",
     "shell.execute_reply": "2023-03-15T04:31:35.661881Z"
    },
    "papermill": {
     "duration": 0.057487,
     "end_time": "2023-03-15T04:31:35.665226",
     "exception": false,
     "start_time": "2023-03-15T04:31:35.607739",
     "status": "completed"
    },
    "tags": []
   },
   "outputs": [],
   "source": [
    "religion = ['talk.religion.misc', 'alt.atheism', 'soc.religion.christian']\n",
    "df['macro_category'] = [cat.split('.')[0]\n",
    "                        if cat not in religion else 'religion'\n",
    "                        for cat in df['category']]"
   ]
  },
  {
   "cell_type": "code",
   "execution_count": 64,
   "id": "392973ea",
   "metadata": {
    "execution": {
     "iopub.execute_input": "2023-03-15T04:31:35.694808Z",
     "iopub.status.busy": "2023-03-15T04:31:35.694347Z",
     "iopub.status.idle": "2023-03-15T04:31:35.702483Z",
     "shell.execute_reply": "2023-03-15T04:31:35.701305Z"
    },
    "papermill": {
     "duration": 0.024498,
     "end_time": "2023-03-15T04:31:35.704553",
     "exception": false,
     "start_time": "2023-03-15T04:31:35.680055",
     "status": "completed"
    },
    "tags": []
   },
   "outputs": [],
   "source": [
    "def clean_text(text):\n",
    "  # Remove hyperlinks, html, email adress\n",
    "  text = re.sub(r'https?://\\S+|www\\.\\S+','',text)\n",
    "  text = re.sub(r'<.*?>', '', text)\n",
    "  text = re.sub(r'[a-zA-Z0-9\\._-]+@[a-zA-Z0-9\\._-]+', '', text)\n",
    "  # Contractions\n",
    "  text = contractions.fix(text)\n",
    "  # Remove multiple spaces\n",
    "  text = ' '.join(text.split())\n",
    "  # Avoid repetition of the same symbol\n",
    "  text = re.sub(r'(\\W)( ?\\1)+',  r'\\1', text)\n",
    "  return text"
   ]
  },
  {
   "cell_type": "code",
   "execution_count": 65,
   "id": "874e03f3",
   "metadata": {
    "execution": {
     "iopub.execute_input": "2023-03-15T04:31:35.733154Z",
     "iopub.status.busy": "2023-03-15T04:31:35.732696Z",
     "iopub.status.idle": "2023-03-15T04:31:38.608548Z",
     "shell.execute_reply": "2023-03-15T04:31:38.607661Z"
    },
    "papermill": {
     "duration": 2.893381,
     "end_time": "2023-03-15T04:31:38.611508",
     "exception": false,
     "start_time": "2023-03-15T04:31:35.718127",
     "status": "completed"
    },
    "tags": []
   },
   "outputs": [],
   "source": [
    "df['text'] = df['text'].apply(clean_text)"
   ]
  },
  {
   "cell_type": "code",
   "execution_count": 66,
   "id": "2eeba528",
   "metadata": {
    "execution": {
     "iopub.execute_input": "2023-03-15T04:31:38.685955Z",
     "iopub.status.busy": "2023-03-15T04:31:38.685653Z",
     "iopub.status.idle": "2023-03-15T04:31:43.489287Z",
     "shell.execute_reply": "2023-03-15T04:31:43.488579Z"
    },
    "papermill": {
     "duration": 4.843953,
     "end_time": "2023-03-15T04:31:43.492548",
     "exception": false,
     "start_time": "2023-03-15T04:31:38.648595",
     "status": "completed"
    },
    "tags": []
   },
   "outputs": [],
   "source": [
    "df['text'] = df['text'].apply(sent_tokenize)"
   ]
  },
  {
   "cell_type": "code",
   "execution_count": 67,
   "id": "1f2e059f",
   "metadata": {
    "execution": {
     "iopub.execute_input": "2023-03-15T04:31:43.569690Z",
     "iopub.status.busy": "2023-03-15T04:31:43.569265Z",
     "iopub.status.idle": "2023-03-15T04:31:43.580291Z",
     "shell.execute_reply": "2023-03-15T04:31:43.579529Z"
    },
    "papermill": {
     "duration": 0.051843,
     "end_time": "2023-03-15T04:31:43.582156",
     "exception": false,
     "start_time": "2023-03-15T04:31:43.530313",
     "status": "completed"
    },
    "tags": []
   },
   "outputs": [],
   "source": [
    "df['n_sentences'] = df['text'].apply(len)"
   ]
  },
  {
   "cell_type": "code",
   "execution_count": 68,
   "id": "45d22d8c",
   "metadata": {
    "execution": {
     "iopub.execute_input": "2023-03-15T04:31:43.610945Z",
     "iopub.status.busy": "2023-03-15T04:31:43.610484Z",
     "iopub.status.idle": "2023-03-15T04:31:43.703344Z",
     "shell.execute_reply": "2023-03-15T04:31:43.702547Z"
    },
    "papermill": {
     "duration": 0.109998,
     "end_time": "2023-03-15T04:31:43.706244",
     "exception": false,
     "start_time": "2023-03-15T04:31:43.596246",
     "status": "completed"
    },
    "tags": []
   },
   "outputs": [
    {
     "data": {
      "text/html": [
       "<div>\n",
       "<style scoped>\n",
       "    .dataframe tbody tr th:only-of-type {\n",
       "        vertical-align: middle;\n",
       "    }\n",
       "\n",
       "    .dataframe tbody tr th {\n",
       "        vertical-align: top;\n",
       "    }\n",
       "\n",
       "    .dataframe thead th {\n",
       "        text-align: right;\n",
       "    }\n",
       "</style>\n",
       "<table border=\"1\" class=\"dataframe\">\n",
       "  <thead>\n",
       "    <tr style=\"text-align: right;\">\n",
       "      <th></th>\n",
       "      <th>count</th>\n",
       "      <th>mean</th>\n",
       "      <th>std</th>\n",
       "      <th>min</th>\n",
       "      <th>25%</th>\n",
       "      <th>50%</th>\n",
       "      <th>75%</th>\n",
       "      <th>max</th>\n",
       "    </tr>\n",
       "    <tr>\n",
       "      <th>category</th>\n",
       "      <th></th>\n",
       "      <th></th>\n",
       "      <th></th>\n",
       "      <th></th>\n",
       "      <th></th>\n",
       "      <th></th>\n",
       "      <th></th>\n",
       "      <th></th>\n",
       "    </tr>\n",
       "  </thead>\n",
       "  <tbody>\n",
       "    <tr>\n",
       "      <th>talk.politics.mideast</th>\n",
       "      <td>940.0</td>\n",
       "      <td>21.461702</td>\n",
       "      <td>54.465665</td>\n",
       "      <td>0.0</td>\n",
       "      <td>4.0</td>\n",
       "      <td>8.0</td>\n",
       "      <td>19.0</td>\n",
       "      <td>777.0</td>\n",
       "    </tr>\n",
       "    <tr>\n",
       "      <th>talk.politics.misc</th>\n",
       "      <td>775.0</td>\n",
       "      <td>17.347097</td>\n",
       "      <td>46.105676</td>\n",
       "      <td>0.0</td>\n",
       "      <td>4.0</td>\n",
       "      <td>8.0</td>\n",
       "      <td>14.0</td>\n",
       "      <td>486.0</td>\n",
       "    </tr>\n",
       "    <tr>\n",
       "      <th>soc.religion.christian</th>\n",
       "      <td>997.0</td>\n",
       "      <td>16.008024</td>\n",
       "      <td>22.336104</td>\n",
       "      <td>0.0</td>\n",
       "      <td>5.0</td>\n",
       "      <td>9.0</td>\n",
       "      <td>19.0</td>\n",
       "      <td>285.0</td>\n",
       "    </tr>\n",
       "    <tr>\n",
       "      <th>talk.religion.misc</th>\n",
       "      <td>628.0</td>\n",
       "      <td>13.788217</td>\n",
       "      <td>29.335078</td>\n",
       "      <td>0.0</td>\n",
       "      <td>3.0</td>\n",
       "      <td>6.0</td>\n",
       "      <td>15.0</td>\n",
       "      <td>547.0</td>\n",
       "    </tr>\n",
       "    <tr>\n",
       "      <th>sci.crypt</th>\n",
       "      <td>991.0</td>\n",
       "      <td>13.115035</td>\n",
       "      <td>33.298268</td>\n",
       "      <td>0.0</td>\n",
       "      <td>3.0</td>\n",
       "      <td>6.0</td>\n",
       "      <td>12.0</td>\n",
       "      <td>530.0</td>\n",
       "    </tr>\n",
       "    <tr>\n",
       "      <th>alt.atheism</th>\n",
       "      <td>799.0</td>\n",
       "      <td>12.617021</td>\n",
       "      <td>28.851682</td>\n",
       "      <td>0.0</td>\n",
       "      <td>3.0</td>\n",
       "      <td>6.0</td>\n",
       "      <td>12.0</td>\n",
       "      <td>516.0</td>\n",
       "    </tr>\n",
       "    <tr>\n",
       "      <th>talk.politics.guns</th>\n",
       "      <td>910.0</td>\n",
       "      <td>12.201099</td>\n",
       "      <td>20.214259</td>\n",
       "      <td>0.0</td>\n",
       "      <td>3.0</td>\n",
       "      <td>7.0</td>\n",
       "      <td>13.0</td>\n",
       "      <td>380.0</td>\n",
       "    </tr>\n",
       "    <tr>\n",
       "      <th>comp.graphics</th>\n",
       "      <td>973.0</td>\n",
       "      <td>12.103803</td>\n",
       "      <td>47.702422</td>\n",
       "      <td>0.0</td>\n",
       "      <td>3.0</td>\n",
       "      <td>5.0</td>\n",
       "      <td>8.0</td>\n",
       "      <td>544.0</td>\n",
       "    </tr>\n",
       "    <tr>\n",
       "      <th>comp.windows.x</th>\n",
       "      <td>988.0</td>\n",
       "      <td>12.063765</td>\n",
       "      <td>41.966033</td>\n",
       "      <td>0.0</td>\n",
       "      <td>3.0</td>\n",
       "      <td>5.0</td>\n",
       "      <td>9.0</td>\n",
       "      <td>535.0</td>\n",
       "    </tr>\n",
       "    <tr>\n",
       "      <th>comp.os.ms-windows.misc</th>\n",
       "      <td>985.0</td>\n",
       "      <td>11.761421</td>\n",
       "      <td>50.346391</td>\n",
       "      <td>0.0</td>\n",
       "      <td>3.0</td>\n",
       "      <td>5.0</td>\n",
       "      <td>9.0</td>\n",
       "      <td>1210.0</td>\n",
       "    </tr>\n",
       "    <tr>\n",
       "      <th>sci.med</th>\n",
       "      <td>990.0</td>\n",
       "      <td>11.679798</td>\n",
       "      <td>24.288240</td>\n",
       "      <td>0.0</td>\n",
       "      <td>3.0</td>\n",
       "      <td>6.0</td>\n",
       "      <td>11.0</td>\n",
       "      <td>273.0</td>\n",
       "    </tr>\n",
       "    <tr>\n",
       "      <th>sci.space</th>\n",
       "      <td>987.0</td>\n",
       "      <td>10.627153</td>\n",
       "      <td>23.521834</td>\n",
       "      <td>0.0</td>\n",
       "      <td>3.0</td>\n",
       "      <td>6.0</td>\n",
       "      <td>10.0</td>\n",
       "      <td>441.0</td>\n",
       "    </tr>\n",
       "    <tr>\n",
       "      <th>rec.sport.hockey</th>\n",
       "      <td>999.0</td>\n",
       "      <td>10.117117</td>\n",
       "      <td>22.959782</td>\n",
       "      <td>0.0</td>\n",
       "      <td>3.0</td>\n",
       "      <td>5.0</td>\n",
       "      <td>10.0</td>\n",
       "      <td>468.0</td>\n",
       "    </tr>\n",
       "    <tr>\n",
       "      <th>rec.sport.baseball</th>\n",
       "      <td>994.0</td>\n",
       "      <td>8.224346</td>\n",
       "      <td>10.761021</td>\n",
       "      <td>0.0</td>\n",
       "      <td>3.0</td>\n",
       "      <td>5.0</td>\n",
       "      <td>10.0</td>\n",
       "      <td>132.0</td>\n",
       "    </tr>\n",
       "    <tr>\n",
       "      <th>comp.sys.ibm.pc.hardware</th>\n",
       "      <td>982.0</td>\n",
       "      <td>8.023422</td>\n",
       "      <td>11.917336</td>\n",
       "      <td>0.0</td>\n",
       "      <td>3.0</td>\n",
       "      <td>6.0</td>\n",
       "      <td>9.0</td>\n",
       "      <td>215.0</td>\n",
       "    </tr>\n",
       "    <tr>\n",
       "      <th>sci.electronics</th>\n",
       "      <td>984.0</td>\n",
       "      <td>7.727642</td>\n",
       "      <td>25.604691</td>\n",
       "      <td>0.0</td>\n",
       "      <td>3.0</td>\n",
       "      <td>5.0</td>\n",
       "      <td>9.0</td>\n",
       "      <td>785.0</td>\n",
       "    </tr>\n",
       "    <tr>\n",
       "      <th>comp.sys.mac.hardware</th>\n",
       "      <td>963.0</td>\n",
       "      <td>7.539979</td>\n",
       "      <td>23.219445</td>\n",
       "      <td>0.0</td>\n",
       "      <td>3.0</td>\n",
       "      <td>5.0</td>\n",
       "      <td>8.0</td>\n",
       "      <td>595.0</td>\n",
       "    </tr>\n",
       "    <tr>\n",
       "      <th>rec.autos</th>\n",
       "      <td>990.0</td>\n",
       "      <td>7.493939</td>\n",
       "      <td>11.887638</td>\n",
       "      <td>0.0</td>\n",
       "      <td>3.0</td>\n",
       "      <td>5.0</td>\n",
       "      <td>9.0</td>\n",
       "      <td>199.0</td>\n",
       "    </tr>\n",
       "    <tr>\n",
       "      <th>rec.motorcycles</th>\n",
       "      <td>996.0</td>\n",
       "      <td>6.955823</td>\n",
       "      <td>12.681013</td>\n",
       "      <td>0.0</td>\n",
       "      <td>3.0</td>\n",
       "      <td>5.0</td>\n",
       "      <td>8.0</td>\n",
       "      <td>352.0</td>\n",
       "    </tr>\n",
       "    <tr>\n",
       "      <th>misc.forsale</th>\n",
       "      <td>975.0</td>\n",
       "      <td>6.734359</td>\n",
       "      <td>8.609257</td>\n",
       "      <td>0.0</td>\n",
       "      <td>3.0</td>\n",
       "      <td>5.0</td>\n",
       "      <td>8.0</td>\n",
       "      <td>156.0</td>\n",
       "    </tr>\n",
       "  </tbody>\n",
       "</table>\n",
       "</div>"
      ],
      "text/plain": [
       "                          count       mean        std  min  25%  50%   75%  \\\n",
       "category                                                                     \n",
       "talk.politics.mideast     940.0  21.461702  54.465665  0.0  4.0  8.0  19.0   \n",
       "talk.politics.misc        775.0  17.347097  46.105676  0.0  4.0  8.0  14.0   \n",
       "soc.religion.christian    997.0  16.008024  22.336104  0.0  5.0  9.0  19.0   \n",
       "talk.religion.misc        628.0  13.788217  29.335078  0.0  3.0  6.0  15.0   \n",
       "sci.crypt                 991.0  13.115035  33.298268  0.0  3.0  6.0  12.0   \n",
       "alt.atheism               799.0  12.617021  28.851682  0.0  3.0  6.0  12.0   \n",
       "talk.politics.guns        910.0  12.201099  20.214259  0.0  3.0  7.0  13.0   \n",
       "comp.graphics             973.0  12.103803  47.702422  0.0  3.0  5.0   8.0   \n",
       "comp.windows.x            988.0  12.063765  41.966033  0.0  3.0  5.0   9.0   \n",
       "comp.os.ms-windows.misc   985.0  11.761421  50.346391  0.0  3.0  5.0   9.0   \n",
       "sci.med                   990.0  11.679798  24.288240  0.0  3.0  6.0  11.0   \n",
       "sci.space                 987.0  10.627153  23.521834  0.0  3.0  6.0  10.0   \n",
       "rec.sport.hockey          999.0  10.117117  22.959782  0.0  3.0  5.0  10.0   \n",
       "rec.sport.baseball        994.0   8.224346  10.761021  0.0  3.0  5.0  10.0   \n",
       "comp.sys.ibm.pc.hardware  982.0   8.023422  11.917336  0.0  3.0  6.0   9.0   \n",
       "sci.electronics           984.0   7.727642  25.604691  0.0  3.0  5.0   9.0   \n",
       "comp.sys.mac.hardware     963.0   7.539979  23.219445  0.0  3.0  5.0   8.0   \n",
       "rec.autos                 990.0   7.493939  11.887638  0.0  3.0  5.0   9.0   \n",
       "rec.motorcycles           996.0   6.955823  12.681013  0.0  3.0  5.0   8.0   \n",
       "misc.forsale              975.0   6.734359   8.609257  0.0  3.0  5.0   8.0   \n",
       "\n",
       "                             max  \n",
       "category                          \n",
       "talk.politics.mideast      777.0  \n",
       "talk.politics.misc         486.0  \n",
       "soc.religion.christian     285.0  \n",
       "talk.religion.misc         547.0  \n",
       "sci.crypt                  530.0  \n",
       "alt.atheism                516.0  \n",
       "talk.politics.guns         380.0  \n",
       "comp.graphics              544.0  \n",
       "comp.windows.x             535.0  \n",
       "comp.os.ms-windows.misc   1210.0  \n",
       "sci.med                    273.0  \n",
       "sci.space                  441.0  \n",
       "rec.sport.hockey           468.0  \n",
       "rec.sport.baseball         132.0  \n",
       "comp.sys.ibm.pc.hardware   215.0  \n",
       "sci.electronics            785.0  \n",
       "comp.sys.mac.hardware      595.0  \n",
       "rec.autos                  199.0  \n",
       "rec.motorcycles            352.0  \n",
       "misc.forsale               156.0  "
      ]
     },
     "execution_count": 68,
     "metadata": {},
     "output_type": "execute_result"
    }
   ],
   "source": [
    "df.groupby('category')['n_sentences'].describe().sort_values('mean', ascending=False)"
   ]
  },
  {
   "cell_type": "code",
   "execution_count": 69,
   "id": "402d9344",
   "metadata": {
    "execution": {
     "iopub.execute_input": "2023-03-15T04:31:43.783494Z",
     "iopub.status.busy": "2023-03-15T04:31:43.783029Z",
     "iopub.status.idle": "2023-03-15T04:31:43.795138Z",
     "shell.execute_reply": "2023-03-15T04:31:43.794113Z"
    },
    "papermill": {
     "duration": 0.05085,
     "end_time": "2023-03-15T04:31:43.797024",
     "exception": false,
     "start_time": "2023-03-15T04:31:43.746174",
     "status": "completed"
    },
    "tags": []
   },
   "outputs": [
    {
     "data": {
      "text/plain": [
       "soc.religion.christian      227\n",
       "talk.politics.mideast       218\n",
       "talk.politics.guns          135\n",
       "talk.politics.misc          120\n",
       "sci.crypt                   118\n",
       "talk.religion.misc          114\n",
       "alt.atheism                  99\n",
       "sci.med                      97\n",
       "rec.sport.hockey             90\n",
       "sci.space                    89\n",
       "rec.sport.baseball           77\n",
       "comp.graphics                59\n",
       "comp.os.ms-windows.misc      52\n",
       "comp.windows.x               50\n",
       "rec.autos                    44\n",
       "comp.sys.ibm.pc.hardware     44\n",
       "misc.forsale                 40\n",
       "sci.electronics              37\n",
       "rec.motorcycles              34\n",
       "comp.sys.mac.hardware        31\n",
       "Name: category, dtype: int64"
      ]
     },
     "execution_count": 69,
     "metadata": {},
     "output_type": "execute_result"
    }
   ],
   "source": [
    "df[df['n_sentences']>20]['category'].value_counts()"
   ]
  },
  {
   "cell_type": "code",
   "execution_count": 70,
   "id": "cb6c344f",
   "metadata": {
    "execution": {
     "iopub.execute_input": "2023-03-15T04:31:43.825995Z",
     "iopub.status.busy": "2023-03-15T04:31:43.825681Z",
     "iopub.status.idle": "2023-03-15T04:31:43.879703Z",
     "shell.execute_reply": "2023-03-15T04:31:43.878673Z"
    },
    "papermill": {
     "duration": 0.070802,
     "end_time": "2023-03-15T04:31:43.881781",
     "exception": false,
     "start_time": "2023-03-15T04:31:43.810979",
     "status": "completed"
    },
    "tags": []
   },
   "outputs": [
    {
     "data": {
      "text/html": [
       "<div>\n",
       "<style scoped>\n",
       "    .dataframe tbody tr th:only-of-type {\n",
       "        vertical-align: middle;\n",
       "    }\n",
       "\n",
       "    .dataframe tbody tr th {\n",
       "        vertical-align: top;\n",
       "    }\n",
       "\n",
       "    .dataframe thead th {\n",
       "        text-align: right;\n",
       "    }\n",
       "</style>\n",
       "<table border=\"1\" class=\"dataframe\">\n",
       "  <thead>\n",
       "    <tr style=\"text-align: right;\">\n",
       "      <th></th>\n",
       "      <th>count</th>\n",
       "      <th>mean</th>\n",
       "      <th>std</th>\n",
       "      <th>min</th>\n",
       "      <th>25%</th>\n",
       "      <th>50%</th>\n",
       "      <th>75%</th>\n",
       "      <th>max</th>\n",
       "    </tr>\n",
       "    <tr>\n",
       "      <th>macro_category</th>\n",
       "      <th></th>\n",
       "      <th></th>\n",
       "      <th></th>\n",
       "      <th></th>\n",
       "      <th></th>\n",
       "      <th></th>\n",
       "      <th></th>\n",
       "      <th></th>\n",
       "    </tr>\n",
       "  </thead>\n",
       "  <tbody>\n",
       "    <tr>\n",
       "      <th>talk</th>\n",
       "      <td>2625.0</td>\n",
       "      <td>17.036571</td>\n",
       "      <td>42.956925</td>\n",
       "      <td>0.0</td>\n",
       "      <td>4.0</td>\n",
       "      <td>8.0</td>\n",
       "      <td>15.0</td>\n",
       "      <td>777.0</td>\n",
       "    </tr>\n",
       "    <tr>\n",
       "      <th>religion</th>\n",
       "      <td>2424.0</td>\n",
       "      <td>14.315182</td>\n",
       "      <td>26.535201</td>\n",
       "      <td>0.0</td>\n",
       "      <td>4.0</td>\n",
       "      <td>7.0</td>\n",
       "      <td>16.0</td>\n",
       "      <td>547.0</td>\n",
       "    </tr>\n",
       "    <tr>\n",
       "      <th>sci</th>\n",
       "      <td>3952.0</td>\n",
       "      <td>10.792763</td>\n",
       "      <td>27.029130</td>\n",
       "      <td>0.0</td>\n",
       "      <td>3.0</td>\n",
       "      <td>6.0</td>\n",
       "      <td>10.0</td>\n",
       "      <td>785.0</td>\n",
       "    </tr>\n",
       "    <tr>\n",
       "      <th>comp</th>\n",
       "      <td>4891.0</td>\n",
       "      <td>10.308935</td>\n",
       "      <td>38.166062</td>\n",
       "      <td>0.0</td>\n",
       "      <td>3.0</td>\n",
       "      <td>5.0</td>\n",
       "      <td>9.0</td>\n",
       "      <td>1210.0</td>\n",
       "    </tr>\n",
       "    <tr>\n",
       "      <th>rec</th>\n",
       "      <td>3979.0</td>\n",
       "      <td>8.200302</td>\n",
       "      <td>15.425581</td>\n",
       "      <td>0.0</td>\n",
       "      <td>3.0</td>\n",
       "      <td>5.0</td>\n",
       "      <td>9.0</td>\n",
       "      <td>468.0</td>\n",
       "    </tr>\n",
       "    <tr>\n",
       "      <th>misc</th>\n",
       "      <td>975.0</td>\n",
       "      <td>6.734359</td>\n",
       "      <td>8.609257</td>\n",
       "      <td>0.0</td>\n",
       "      <td>3.0</td>\n",
       "      <td>5.0</td>\n",
       "      <td>8.0</td>\n",
       "      <td>156.0</td>\n",
       "    </tr>\n",
       "  </tbody>\n",
       "</table>\n",
       "</div>"
      ],
      "text/plain": [
       "                 count       mean        std  min  25%  50%   75%     max\n",
       "macro_category                                                           \n",
       "talk            2625.0  17.036571  42.956925  0.0  4.0  8.0  15.0   777.0\n",
       "religion        2424.0  14.315182  26.535201  0.0  4.0  7.0  16.0   547.0\n",
       "sci             3952.0  10.792763  27.029130  0.0  3.0  6.0  10.0   785.0\n",
       "comp            4891.0  10.308935  38.166062  0.0  3.0  5.0   9.0  1210.0\n",
       "rec             3979.0   8.200302  15.425581  0.0  3.0  5.0   9.0   468.0\n",
       "misc             975.0   6.734359   8.609257  0.0  3.0  5.0   8.0   156.0"
      ]
     },
     "execution_count": 70,
     "metadata": {},
     "output_type": "execute_result"
    }
   ],
   "source": [
    "df.groupby('macro_category')['n_sentences'].describe().sort_values('mean', ascending=False)"
   ]
  },
  {
   "cell_type": "code",
   "execution_count": 71,
   "id": "cd0c4aa0",
   "metadata": {
    "execution": {
     "iopub.execute_input": "2023-03-15T04:31:43.913706Z",
     "iopub.status.busy": "2023-03-15T04:31:43.912866Z",
     "iopub.status.idle": "2023-03-15T04:31:43.925399Z",
     "shell.execute_reply": "2023-03-15T04:31:43.924000Z"
    },
    "papermill": {
     "duration": 0.029801,
     "end_time": "2023-03-15T04:31:43.927615",
     "exception": false,
     "start_time": "2023-03-15T04:31:43.897814",
     "status": "completed"
    },
    "tags": []
   },
   "outputs": [
    {
     "data": {
      "text/plain": [
       "talk        473\n",
       "religion    440\n",
       "sci         341\n",
       "rec         245\n",
       "comp        236\n",
       "misc         40\n",
       "Name: macro_category, dtype: int64"
      ]
     },
     "execution_count": 71,
     "metadata": {},
     "output_type": "execute_result"
    }
   ],
   "source": [
    "df[df['n_sentences']>20]['macro_category'].value_counts()"
   ]
  },
  {
   "cell_type": "code",
   "execution_count": 72,
   "id": "c1a17832",
   "metadata": {
    "execution": {
     "iopub.execute_input": "2023-03-15T04:31:43.987506Z",
     "iopub.status.busy": "2023-03-15T04:31:43.987051Z",
     "iopub.status.idle": "2023-03-15T04:31:44.008049Z",
     "shell.execute_reply": "2023-03-15T04:31:44.006663Z"
    },
    "papermill": {
     "duration": 0.047106,
     "end_time": "2023-03-15T04:31:44.010323",
     "exception": false,
     "start_time": "2023-03-15T04:31:43.963217",
     "status": "completed"
    },
    "tags": []
   },
   "outputs": [],
   "source": [
    "df = df[df['n_sentences']>20]"
   ]
  },
  {
   "cell_type": "code",
   "execution_count": 73,
   "id": "6487be5d",
   "metadata": {
    "execution": {
     "iopub.execute_input": "2023-03-15T04:31:44.042472Z",
     "iopub.status.busy": "2023-03-15T04:31:44.042008Z",
     "iopub.status.idle": "2023-03-15T04:31:44.049117Z",
     "shell.execute_reply": "2023-03-15T04:31:44.047992Z"
    },
    "papermill": {
     "duration": 0.023966,
     "end_time": "2023-03-15T04:31:44.050770",
     "exception": false,
     "start_time": "2023-03-15T04:31:44.026804",
     "status": "completed"
    },
    "tags": []
   },
   "outputs": [],
   "source": [
    "df = df.drop(columns=['category','n_sentences'])"
   ]
  },
  {
   "cell_type": "code",
   "execution_count": 74,
   "id": "d64104b2",
   "metadata": {
    "execution": {
     "iopub.execute_input": "2023-03-15T04:31:44.080182Z",
     "iopub.status.busy": "2023-03-15T04:31:44.079689Z",
     "iopub.status.idle": "2023-03-15T04:31:44.085490Z",
     "shell.execute_reply": "2023-03-15T04:31:44.084451Z"
    },
    "papermill": {
     "duration": 0.022548,
     "end_time": "2023-03-15T04:31:44.087229",
     "exception": false,
     "start_time": "2023-03-15T04:31:44.064681",
     "status": "completed"
    },
    "tags": []
   },
   "outputs": [],
   "source": [
    "df = df.reset_index(drop=True)"
   ]
  },
  {
   "cell_type": "code",
   "execution_count": 75,
   "id": "c3638a83",
   "metadata": {
    "execution": {
     "iopub.execute_input": "2023-03-15T04:31:44.116567Z",
     "iopub.status.busy": "2023-03-15T04:31:44.116110Z",
     "iopub.status.idle": "2023-03-15T04:31:44.123068Z",
     "shell.execute_reply": "2023-03-15T04:31:44.121747Z"
    },
    "papermill": {
     "duration": 0.023802,
     "end_time": "2023-03-15T04:31:44.124879",
     "exception": false,
     "start_time": "2023-03-15T04:31:44.101077",
     "status": "completed"
    },
    "tags": []
   },
   "outputs": [],
   "source": [
    "df = df.rename(columns={'macro_category':'class'})"
   ]
  },
  {
   "cell_type": "code",
   "execution_count": 76,
   "id": "a965114c",
   "metadata": {
    "execution": {
     "iopub.execute_input": "2023-03-15T04:31:44.154577Z",
     "iopub.status.busy": "2023-03-15T04:31:44.154108Z",
     "iopub.status.idle": "2023-03-15T04:31:44.402111Z",
     "shell.execute_reply": "2023-03-15T04:31:44.401171Z"
    },
    "papermill": {
     "duration": 0.266073,
     "end_time": "2023-03-15T04:31:44.405002",
     "exception": false,
     "start_time": "2023-03-15T04:31:44.138929",
     "status": "completed"
    },
    "tags": []
   },
   "outputs": [],
   "source": [
    "ds_id = '20ng'\n",
    "\n",
    "# Create directory\n",
    "data_ds_path = base_path + ds_id\n",
    "\n",
    "os.makedirs(data_ds_path, exist_ok=True)\n",
    "\n",
    "df.to_csv(f'{data_ds_path}/data.csv', index=False)"
   ]
  },
  {
   "cell_type": "code",
   "execution_count": null,
   "id": "86006c59",
   "metadata": {
    "papermill": {
     "duration": 0.013592,
     "end_time": "2023-03-15T04:31:44.435371",
     "exception": false,
     "start_time": "2023-03-15T04:31:44.421779",
     "status": "completed"
    },
    "tags": []
   },
   "outputs": [],
   "source": []
  }
 ],
 "metadata": {
  "kernelspec": {
   "display_name": "Python 3 (ipykernel)",
   "language": "python",
   "name": "python3"
  },
  "language_info": {
   "codemirror_mode": {
    "name": "ipython",
    "version": 3
   },
   "file_extension": ".py",
   "mimetype": "text/x-python",
   "name": "python",
   "nbconvert_exporter": "python",
   "pygments_lexer": "ipython3",
   "version": "3.9.16"
  },
  "papermill": {
   "default_parameters": {},
   "duration": 49.715248,
   "end_time": "2023-03-15T04:31:45.272194",
   "environment_variables": {},
   "exception": null,
   "input_path": "08_classification_ds_preparation.ipynb",
   "output_path": "08_classification_ds_preparation.ipynb",
   "parameters": {},
   "start_time": "2023-03-15T04:30:55.556946",
   "version": "2.4.0"
  },
  "vscode": {
   "interpreter": {
    "hash": "eb8d1ded7c87c6f9c253b40add648304d6b51d2e38393955e855effc7e6f899a"
   }
  }
 },
 "nbformat": 4,
 "nbformat_minor": 5
}