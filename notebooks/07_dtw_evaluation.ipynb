{
 "cells": [
  {
   "cell_type": "markdown",
   "id": "646ce041",
   "metadata": {
    "papermill": {
     "duration": 0.011665,
     "end_time": "2023-03-04T19:43:07.523688",
     "exception": false,
     "start_time": "2023-03-04T19:43:07.512023",
     "status": "completed"
    },
    "tags": []
   },
   "source": [
    "# DTW Evaluation"
   ]
  },
  {
   "cell_type": "code",
   "execution_count": 1,
   "id": "dfce37d5",
   "metadata": {
    "execution": {
     "iopub.execute_input": "2023-03-04T19:43:07.548224Z",
     "iopub.status.busy": "2023-03-04T19:43:07.547737Z",
     "iopub.status.idle": "2023-03-04T19:43:09.390686Z",
     "shell.execute_reply": "2023-03-04T19:43:09.389756Z"
    },
    "papermill": {
     "duration": 1.857061,
     "end_time": "2023-03-04T19:43:09.393723",
     "exception": false,
     "start_time": "2023-03-04T19:43:07.536662",
     "status": "completed"
    },
    "tags": []
   },
   "outputs": [],
   "source": [
    "%matplotlib inline\n",
    "import pandas as pd\n",
    "import numpy as np\n",
    "from matplotlib import pyplot as plt\n",
    "import seaborn as sns\n",
    "import tikzplotlib\n",
    "import random\n",
    "import ast\n",
    "import fastdtw\n",
    "from scipy.spatial.distance import euclidean\n",
    "from itertools import combinations\n",
    "from lyrics_stats import lyrics_statistics\n",
    "from sklearn.preprocessing import StandardScaler\n",
    "from sklearn.decomposition import PCA"
   ]
  },
  {
   "cell_type": "code",
   "execution_count": 2,
   "id": "0da60dd3",
   "metadata": {
    "execution": {
     "iopub.execute_input": "2023-03-04T19:43:09.464477Z",
     "iopub.status.busy": "2023-03-04T19:43:09.464041Z",
     "iopub.status.idle": "2023-03-04T19:43:09.468634Z",
     "shell.execute_reply": "2023-03-04T19:43:09.467918Z"
    },
    "papermill": {
     "duration": 0.068458,
     "end_time": "2023-03-04T19:43:09.472433",
     "exception": false,
     "start_time": "2023-03-04T19:43:09.403975",
     "status": "completed"
    },
    "tags": []
   },
   "outputs": [],
   "source": [
    "sns.set_theme(context='paper', style='white', palette='deep')"
   ]
  },
  {
   "cell_type": "markdown",
   "id": "70f797f3",
   "metadata": {
    "papermill": {
     "duration": 0.008484,
     "end_time": "2023-03-04T19:43:09.491343",
     "exception": false,
     "start_time": "2023-03-04T19:43:09.482859",
     "status": "completed"
    },
    "tags": []
   },
   "source": [
    "## DTW: The idea behind"
   ]
  },
  {
   "cell_type": "code",
   "execution_count": 3,
   "id": "bb9807d9",
   "metadata": {
    "execution": {
     "iopub.execute_input": "2023-03-04T19:43:09.500297Z",
     "iopub.status.busy": "2023-03-04T19:43:09.499823Z",
     "iopub.status.idle": "2023-03-04T19:43:09.508495Z",
     "shell.execute_reply": "2023-03-04T19:43:09.507288Z"
    },
    "papermill": {
     "duration": 0.015641,
     "end_time": "2023-03-04T19:43:09.510597",
     "exception": false,
     "start_time": "2023-03-04T19:43:09.494956",
     "status": "completed"
    },
    "tags": []
   },
   "outputs": [],
   "source": [
    "def generate_uni_features_ts(lyrics):\n",
    "    multi_ts = pd.DataFrame(lyrics_statistics(lyrics)).values\n",
    "    ss = StandardScaler()\n",
    "    multi_ts = ss.fit_transform(multi_ts)\n",
    "    pca = PCA(n_components=1, random_state=0)\n",
    "    uni_ts = np.array([pc[0] for pc in pca.fit_transform(multi_ts)])\n",
    "    return uni_ts"
   ]
  },
  {
   "cell_type": "code",
   "execution_count": 4,
   "id": "9f2356e6",
   "metadata": {
    "execution": {
     "iopub.execute_input": "2023-03-04T19:43:09.520705Z",
     "iopub.status.busy": "2023-03-04T19:43:09.520236Z",
     "iopub.status.idle": "2023-03-04T19:43:09.538948Z",
     "shell.execute_reply": "2023-03-04T19:43:09.537501Z"
    },
    "papermill": {
     "duration": 0.02603,
     "end_time": "2023-03-04T19:43:09.541197",
     "exception": false,
     "start_time": "2023-03-04T19:43:09.515167",
     "status": "completed"
    },
    "tags": []
   },
   "outputs": [],
   "source": [
    "eg_lyr = pd.read_csv('../data/toy-lyrics/toy_lyr.csv', sep='\\t')\n",
    "eg_similar_lyr = pd.read_csv('../data/toy-lyrics/toy_sim.csv', sep='\\t')\n",
    "eg_random_lyr = pd.read_csv('../data/toy-lyrics/toy_rnd.csv', sep='\\t')\n",
    "\n",
    "eg_lyrics = [eg_lyr, eg_similar_lyr, eg_random_lyr]"
   ]
  },
  {
   "cell_type": "code",
   "execution_count": 5,
   "id": "e299a84a",
   "metadata": {
    "execution": {
     "iopub.execute_input": "2023-03-04T19:43:09.552616Z",
     "iopub.status.busy": "2023-03-04T19:43:09.552099Z",
     "iopub.status.idle": "2023-03-04T19:43:09.750210Z",
     "shell.execute_reply": "2023-03-04T19:43:09.749268Z"
    },
    "papermill": {
     "duration": 0.206959,
     "end_time": "2023-03-04T19:43:09.752957",
     "exception": false,
     "start_time": "2023-03-04T19:43:09.545998",
     "status": "completed"
    },
    "tags": []
   },
   "outputs": [],
   "source": [
    "ts1, ts2, ts3 = [generate_uni_features_ts(list(lyr['lyrics'])) for lyr in eg_lyrics]\n",
    "\n",
    "ts1_parts, ts2_parts, ts3_parts = [lyr['part'] for lyr in eg_lyrics]\n",
    "\n",
    "color_map = {}\n",
    "for idx, part_of_lyrics in enumerate(list(dict.fromkeys(ts1_parts))):    \n",
    "    # Map color excluding first color of the palette \n",
    "    color_map[part_of_lyrics] = sns.color_palette()[idx+1]"
   ]
  },
  {
   "cell_type": "code",
   "execution_count": 6,
   "id": "31dd3bcc",
   "metadata": {
    "execution": {
     "iopub.execute_input": "2023-03-04T19:43:09.774961Z",
     "iopub.status.busy": "2023-03-04T19:43:09.774664Z",
     "iopub.status.idle": "2023-03-04T19:43:09.784828Z",
     "shell.execute_reply": "2023-03-04T19:43:09.783737Z"
    },
    "papermill": {
     "duration": 0.02547,
     "end_time": "2023-03-04T19:43:09.788693",
     "exception": false,
     "start_time": "2023-03-04T19:43:09.763223",
     "status": "completed"
    },
    "tags": []
   },
   "outputs": [
    {
     "name": "stdout",
     "output_type": "stream",
     "text": [
      "DTW distance between similar lyrics: 18.522647268377415\n",
      "DTW distance between random lyrics: 37.319148778161114\n"
     ]
    }
   ],
   "source": [
    "sim_distance, warp_path = fastdtw.dtw(ts1, ts2)\n",
    "print(f'DTW distance between similar lyrics: {sim_distance}')\n",
    "\n",
    "rnd_distance = fastdtw.dtw(ts1, ts3)[0]\n",
    "print(f'DTW distance between random lyrics: {rnd_distance}')"
   ]
  },
  {
   "cell_type": "code",
   "execution_count": 7,
   "id": "b70d68d1",
   "metadata": {
    "execution": {
     "iopub.execute_input": "2023-03-04T19:43:09.811647Z",
     "iopub.status.busy": "2023-03-04T19:43:09.811355Z",
     "iopub.status.idle": "2023-03-04T19:43:09.816354Z",
     "shell.execute_reply": "2023-03-04T19:43:09.815130Z"
    },
    "papermill": {
     "duration": 0.01995,
     "end_time": "2023-03-04T19:43:09.819506",
     "exception": false,
     "start_time": "2023-03-04T19:43:09.799556",
     "status": "completed"
    },
    "tags": []
   },
   "outputs": [],
   "source": [
    "ts2 = [10 + timestamp for timestamp in ts2] "
   ]
  },
  {
   "cell_type": "code",
   "execution_count": 8,
   "id": "3cfd9270",
   "metadata": {
    "execution": {
     "iopub.execute_input": "2023-03-04T19:43:09.841507Z",
     "iopub.status.busy": "2023-03-04T19:43:09.840911Z",
     "iopub.status.idle": "2023-03-04T19:43:10.356152Z",
     "shell.execute_reply": "2023-03-04T19:43:10.355337Z"
    },
    "papermill": {
     "duration": 0.528397,
     "end_time": "2023-03-04T19:43:10.357817",
     "exception": false,
     "start_time": "2023-03-04T19:43:09.829420",
     "status": "completed"
    },
    "tags": []
   },
   "outputs": [
    {
     "data": {
      "image/png": "[encoded data removed]",
      "text/plain": [
       "<Figure size 640x480 with 1 Axes>"
      ]
     },
     "metadata": {},
     "output_type": "display_data"
    }
   ],
   "source": [
    "fig, ax = plt.subplots()\n",
    "\n",
    "for [map_x, map_y] in warp_path:\n",
    "    ax.plot([map_x, map_y], [ts1[map_x], ts2[map_y]], linestyle='dotted', color='lightgray')\n",
    "\n",
    "plt.plot(ts1, color=sns.color_palette()[0]) \n",
    "plt.plot(ts2, color=sns.color_palette()[0])\n",
    "\n",
    "sns.scatterplot(y=ts1, x=range(len(ts1)),\n",
    "                hue=ts1_parts, s=50, palette=color_map)\n",
    "\n",
    "sns.scatterplot(y=ts2, x=range(len(ts2)),\n",
    "                hue=ts2_parts, s=50, palette=color_map, legend=False)\n",
    "\n",
    "\n",
    "ax.set_yticklabels([])\n",
    "ax.set_ylabel('')\n",
    "ax.set_xlabel('verse')\n",
    "ax.set_title('Example of DTW matching')\n",
    "ax.tick_params(left=False)  # remove the ticks\n",
    "tikzplotlib.save('../tikz/dtw_demo.tex')"
   ]
  },
  {
   "cell_type": "code",
   "execution_count": 9,
   "id": "1828f846",
   "metadata": {
    "execution": {
     "iopub.execute_input": "2023-03-04T19:43:10.376092Z",
     "iopub.status.busy": "2023-03-04T19:43:10.375800Z",
     "iopub.status.idle": "2023-03-04T19:43:10.385326Z",
     "shell.execute_reply": "2023-03-04T19:43:10.384411Z"
    },
    "papermill": {
     "duration": 0.025234,
     "end_time": "2023-03-04T19:43:10.388390",
     "exception": false,
     "start_time": "2023-03-04T19:43:10.363156",
     "status": "completed"
    },
    "tags": []
   },
   "outputs": [],
   "source": [
    "def evaluate_ts_data(ts_type, normalize=True):    \n",
    "    ts_data = pd.read_csv(f'../data/evaluation/time-series/{ts_type}.csv')\n",
    "    for column in ts_data.columns:\n",
    "        ts_data[column] = list(\n",
    "            map(lambda x: np.array(ast.literal_eval(x)), ts_data[column]))\n",
    "    if normalize:\n",
    "        scaler = StandardScaler()            \n",
    "        for column in ts_data.columns:\n",
    "            ts_data[column] = list(\n",
    "                map(lambda x: scaler.fit_transform(x.reshape(-1, 1)), ts_data[column]))    \n",
    "    sim_dtw = [fastdtw.dtw(ts1, ts2)[0] for ts1, ts2 in zip(ts_data['lyrics'], ts_data['similar_lyrics'])]\n",
    "    rnd_dtw = [fastdtw.dtw(ts1, ts2)[0] for ts1, ts2 in zip(ts_data['lyrics'], ts_data['random_lyrics'])]\n",
    "    sim_closer = sum(1 for similar, random in zip(sim_dtw, rnd_dtw) if similar < random)\n",
    "    rnd_closer = sum(1 for similar, random in zip(sim_dtw, rnd_dtw) if random < similar)\n",
    "    similarity_score = sim_closer / (sim_closer + rnd_closer)        \n",
    "    avg_sim_dtw = np.mean(sim_dtw)\n",
    "    std_sim_dtw = np.std(sim_dtw)\n",
    "    avg_rnd_dtw = np.mean(rnd_dtw)\n",
    "    std_rnd_dtw = np.std(rnd_dtw)\n",
    "    \n",
    "    metrics = {'similarity score': similarity_score,                                  \n",
    "               'avg sim distance': avg_sim_dtw,\n",
    "               'std sim distance': std_sim_dtw,\n",
    "               'avg rnd distance': avg_rnd_dtw,\n",
    "               'std rnd distance': std_rnd_dtw\n",
    "              }\n",
    "    return metrics"
   ]
  },
  {
   "cell_type": "code",
   "execution_count": 10,
   "id": "33ecd7e8",
   "metadata": {
    "execution": {
     "iopub.execute_input": "2023-03-04T19:43:10.415485Z",
     "iopub.status.busy": "2023-03-04T19:43:10.415162Z",
     "iopub.status.idle": "2023-03-04T19:43:10.419874Z",
     "shell.execute_reply": "2023-03-04T19:43:10.418667Z"
    },
    "papermill": {
     "duration": 0.021832,
     "end_time": "2023-03-04T19:43:10.422949",
     "exception": false,
     "start_time": "2023-03-04T19:43:10.401117",
     "status": "completed"
    },
    "tags": []
   },
   "outputs": [],
   "source": [
    "metrics = {}"
   ]
  },
  {
   "cell_type": "markdown",
   "id": "e36dcdf5",
   "metadata": {
    "papermill": {
     "duration": 0.011364,
     "end_time": "2023-03-04T19:43:10.445825",
     "exception": false,
     "start_time": "2023-03-04T19:43:10.434461",
     "status": "completed"
    },
    "tags": []
   },
   "source": [
    "## Evaluation"
   ]
  },
  {
   "cell_type": "markdown",
   "id": "be3338c3",
   "metadata": {
    "papermill": {
     "duration": 0.005651,
     "end_time": "2023-03-04T19:43:10.462439",
     "exception": false,
     "start_time": "2023-03-04T19:43:10.456788",
     "status": "completed"
    },
    "tags": []
   },
   "source": [
    "**Features Time series**"
   ]
  },
  {
   "cell_type": "code",
   "execution_count": 11,
   "id": "52b9d72d",
   "metadata": {
    "execution": {
     "iopub.execute_input": "2023-03-04T19:43:10.473352Z",
     "iopub.status.busy": "2023-03-04T19:43:10.472885Z",
     "iopub.status.idle": "2023-03-04T19:43:45.964865Z",
     "shell.execute_reply": "2023-03-04T19:43:45.963896Z"
    },
    "papermill": {
     "duration": 35.501037,
     "end_time": "2023-03-04T19:43:45.968040",
     "exception": false,
     "start_time": "2023-03-04T19:43:10.467003",
     "status": "completed"
    },
    "tags": []
   },
   "outputs": [],
   "source": [
    "ts_types = ['features_avg_ts', 'features_max_ts', 'features_pca_ts', 'features_gpca_ts']\n",
    "\n",
    "for ts_type in ts_types:\n",
    "    evaluation_result = evaluate_ts_data(ts_type, normalize=True)\n",
    "    metrics[('features', ts_type.split('_')[1])] = evaluation_result"
   ]
  },
  {
   "cell_type": "markdown",
   "id": "4fdaf33d",
   "metadata": {
    "papermill": {
     "duration": 0.012647,
     "end_time": "2023-03-04T19:43:45.993557",
     "exception": false,
     "start_time": "2023-03-04T19:43:45.980910",
     "status": "completed"
    },
    "tags": []
   },
   "source": [
    "**Sentence BERT Time Series**"
   ]
  },
  {
   "cell_type": "code",
   "execution_count": 12,
   "id": "697e5494",
   "metadata": {
    "execution": {
     "iopub.execute_input": "2023-03-04T19:43:46.020410Z",
     "iopub.status.busy": "2023-03-04T19:43:46.020110Z",
     "iopub.status.idle": "2023-03-04T19:44:20.966056Z",
     "shell.execute_reply": "2023-03-04T19:44:20.965087Z"
    },
    "papermill": {
     "duration": 34.963259,
     "end_time": "2023-03-04T19:44:20.969454",
     "exception": false,
     "start_time": "2023-03-04T19:43:46.006195",
     "status": "completed"
    },
    "tags": []
   },
   "outputs": [],
   "source": [
    "ts_types = ['sbert_avg_ts', 'sbert_max_ts', 'sbert_pca_ts', 'sbert_gpca_ts']\n",
    "\n",
    "for ts_type in ts_types:\n",
    "    evaluation_result = evaluate_ts_data(ts_type, normalize=True)\n",
    "    metrics[('sbert', ts_type.split('_')[1])] = evaluation_result"
   ]
  },
  {
   "cell_type": "markdown",
   "id": "b338ea4c",
   "metadata": {
    "papermill": {
     "duration": 0.012658,
     "end_time": "2023-03-04T19:44:20.995281",
     "exception": false,
     "start_time": "2023-03-04T19:44:20.982623",
     "status": "completed"
    },
    "tags": []
   },
   "source": [
    "**Doc2Vec Time Series**"
   ]
  },
  {
   "cell_type": "code",
   "execution_count": 13,
   "id": "993dc5cf",
   "metadata": {
    "execution": {
     "iopub.execute_input": "2023-03-04T19:44:21.022748Z",
     "iopub.status.busy": "2023-03-04T19:44:21.022424Z",
     "iopub.status.idle": "2023-03-04T19:44:55.943767Z",
     "shell.execute_reply": "2023-03-04T19:44:55.942814Z"
    },
    "papermill": {
     "duration": 34.939021,
     "end_time": "2023-03-04T19:44:55.946984",
     "exception": false,
     "start_time": "2023-03-04T19:44:21.007963",
     "status": "completed"
    },
    "tags": []
   },
   "outputs": [],
   "source": [
    "ts_types = ['d2v_avg_ts', 'd2v_max_ts', 'd2v_pca_ts', 'd2v_gpca_ts']\n",
    "\n",
    "for ts_type in ts_types:\n",
    "    evaluation_result = evaluate_ts_data(ts_type, normalize=True)\n",
    "    metrics[('doc2vec', ts_type.split('_')[1])] = evaluation_result"
   ]
  },
  {
   "cell_type": "markdown",
   "id": "7758df38",
   "metadata": {
    "papermill": {
     "duration": 0.012555,
     "end_time": "2023-03-04T19:44:55.972532",
     "exception": false,
     "start_time": "2023-03-04T19:44:55.959977",
     "status": "completed"
    },
    "tags": []
   },
   "source": [
    "**Sentiment Time Series**"
   ]
  },
  {
   "cell_type": "code",
   "execution_count": 14,
   "id": "bbfcfd0c",
   "metadata": {
    "execution": {
     "iopub.execute_input": "2023-03-04T19:44:55.999782Z",
     "iopub.status.busy": "2023-03-04T19:44:55.999418Z",
     "iopub.status.idle": "2023-03-04T19:45:30.277051Z",
     "shell.execute_reply": "2023-03-04T19:45:30.276332Z"
    },
    "papermill": {
     "duration": 34.294975,
     "end_time": "2023-03-04T19:45:30.280157",
     "exception": false,
     "start_time": "2023-03-04T19:44:55.985182",
     "status": "completed"
    },
    "tags": []
   },
   "outputs": [],
   "source": [
    "ts_types = ['sentibert_ts', 'sentivader_ts', 'sentiment_ts', 'emotion_ts']\n",
    "\n",
    "\n",
    "for ts_type in ts_types:\n",
    "    evaluation_result = evaluate_ts_data(ts_type, normalize=True)\n",
    "    metrics[('sentiment', ts_type.split('_')[0])] = evaluation_result"
   ]
  },
  {
   "cell_type": "code",
   "execution_count": 15,
   "id": "489714b4",
   "metadata": {
    "execution": {
     "iopub.execute_input": "2023-03-04T19:45:30.307598Z",
     "iopub.status.busy": "2023-03-04T19:45:30.307281Z",
     "iopub.status.idle": "2023-03-04T19:45:30.344840Z",
     "shell.execute_reply": "2023-03-04T19:45:30.343591Z"
    },
    "papermill": {
     "duration": 0.055278,
     "end_time": "2023-03-04T19:45:30.348490",
     "exception": false,
     "start_time": "2023-03-04T19:45:30.293212",
     "status": "completed"
    },
    "tags": []
   },
   "outputs": [
    {
     "data": {
      "text/html": [
       "<div>\n",
       "<style scoped>\n",
       "    .dataframe tbody tr th:only-of-type {\n",
       "        vertical-align: middle;\n",
       "    }\n",
       "\n",
       "    .dataframe tbody tr th {\n",
       "        vertical-align: top;\n",
       "    }\n",
       "\n",
       "    .dataframe thead tr th {\n",
       "        text-align: left;\n",
       "    }\n",
       "</style>\n",
       "<table border=\"1\" class=\"dataframe\">\n",
       "  <thead>\n",
       "    <tr>\n",
       "      <th></th>\n",
       "      <th></th>\n",
       "      <th colspan=\"3\" halign=\"left\">similar pairs</th>\n",
       "      <th colspan=\"2\" halign=\"left\">random pairs</th>\n",
       "    </tr>\n",
       "    <tr>\n",
       "      <th></th>\n",
       "      <th></th>\n",
       "      <th>similarity score</th>\n",
       "      <th>avg distance</th>\n",
       "      <th>std distance</th>\n",
       "      <th>avg distance</th>\n",
       "      <th>std distance</th>\n",
       "    </tr>\n",
       "  </thead>\n",
       "  <tbody>\n",
       "    <tr>\n",
       "      <th rowspan=\"4\" valign=\"top\">features</th>\n",
       "      <th>avg</th>\n",
       "      <td>0.860000</td>\n",
       "      <td>26.602095</td>\n",
       "      <td>11.241592</td>\n",
       "      <td>37.154233</td>\n",
       "      <td>11.698523</td>\n",
       "    </tr>\n",
       "    <tr>\n",
       "      <th>max</th>\n",
       "      <td>0.686667</td>\n",
       "      <td>29.946190</td>\n",
       "      <td>12.379313</td>\n",
       "      <td>35.472602</td>\n",
       "      <td>11.140693</td>\n",
       "    </tr>\n",
       "    <tr>\n",
       "      <th>pca</th>\n",
       "      <td>0.680000</td>\n",
       "      <td>30.914574</td>\n",
       "      <td>18.415393</td>\n",
       "      <td>37.243693</td>\n",
       "      <td>12.022534</td>\n",
       "    </tr>\n",
       "    <tr>\n",
       "      <th>gpca</th>\n",
       "      <td>0.993333</td>\n",
       "      <td>14.271858</td>\n",
       "      <td>8.566709</td>\n",
       "      <td>36.947211</td>\n",
       "      <td>11.163513</td>\n",
       "    </tr>\n",
       "    <tr>\n",
       "      <th rowspan=\"4\" valign=\"top\">sbert</th>\n",
       "      <th>avg</th>\n",
       "      <td>0.633333</td>\n",
       "      <td>31.525635</td>\n",
       "      <td>13.489771</td>\n",
       "      <td>36.752864</td>\n",
       "      <td>12.543910</td>\n",
       "    </tr>\n",
       "    <tr>\n",
       "      <th>max</th>\n",
       "      <td>0.633333</td>\n",
       "      <td>30.805105</td>\n",
       "      <td>13.320164</td>\n",
       "      <td>36.928235</td>\n",
       "      <td>11.941288</td>\n",
       "    </tr>\n",
       "    <tr>\n",
       "      <th>pca</th>\n",
       "      <td>0.440000</td>\n",
       "      <td>36.037309</td>\n",
       "      <td>18.869236</td>\n",
       "      <td>35.290453</td>\n",
       "      <td>12.086387</td>\n",
       "    </tr>\n",
       "    <tr>\n",
       "      <th>gpca</th>\n",
       "      <td>0.680000</td>\n",
       "      <td>29.689947</td>\n",
       "      <td>13.101112</td>\n",
       "      <td>36.681324</td>\n",
       "      <td>12.345530</td>\n",
       "    </tr>\n",
       "    <tr>\n",
       "      <th rowspan=\"4\" valign=\"top\">doc2vec</th>\n",
       "      <th>avg</th>\n",
       "      <td>0.646667</td>\n",
       "      <td>30.643607</td>\n",
       "      <td>12.255528</td>\n",
       "      <td>36.719234</td>\n",
       "      <td>11.588424</td>\n",
       "    </tr>\n",
       "    <tr>\n",
       "      <th>max</th>\n",
       "      <td>0.693333</td>\n",
       "      <td>29.554605</td>\n",
       "      <td>11.557088</td>\n",
       "      <td>35.737409</td>\n",
       "      <td>12.092961</td>\n",
       "    </tr>\n",
       "    <tr>\n",
       "      <th>pca</th>\n",
       "      <td>0.540000</td>\n",
       "      <td>32.724502</td>\n",
       "      <td>14.593500</td>\n",
       "      <td>36.029864</td>\n",
       "      <td>12.091097</td>\n",
       "    </tr>\n",
       "    <tr>\n",
       "      <th>gpca</th>\n",
       "      <td>0.706667</td>\n",
       "      <td>30.444575</td>\n",
       "      <td>12.482399</td>\n",
       "      <td>36.937450</td>\n",
       "      <td>11.828451</td>\n",
       "    </tr>\n",
       "    <tr>\n",
       "      <th rowspan=\"4\" valign=\"top\">sentiment</th>\n",
       "      <th>roberta</th>\n",
       "      <td>0.820000</td>\n",
       "      <td>19.627065</td>\n",
       "      <td>13.584830</td>\n",
       "      <td>38.610147</td>\n",
       "      <td>21.005720</td>\n",
       "    </tr>\n",
       "    <tr>\n",
       "      <th>vader</th>\n",
       "      <td>0.733333</td>\n",
       "      <td>28.388497</td>\n",
       "      <td>13.667822</td>\n",
       "      <td>38.137531</td>\n",
       "      <td>13.374492</td>\n",
       "    </tr>\n",
       "    <tr>\n",
       "      <th>avg</th>\n",
       "      <td>0.833333</td>\n",
       "      <td>23.762775</td>\n",
       "      <td>11.627953</td>\n",
       "      <td>37.110156</td>\n",
       "      <td>15.953610</td>\n",
       "    </tr>\n",
       "    <tr>\n",
       "      <th>emotion</th>\n",
       "      <td>0.753333</td>\n",
       "      <td>29.378190</td>\n",
       "      <td>12.273634</td>\n",
       "      <td>36.860048</td>\n",
       "      <td>12.478855</td>\n",
       "    </tr>\n",
       "  </tbody>\n",
       "</table>\n",
       "</div>"
      ],
      "text/plain": [
       "                     similar pairs                           random pairs  \\\n",
       "                  similarity score avg distance std distance avg distance   \n",
       "features  avg             0.860000    26.602095    11.241592    37.154233   \n",
       "          max             0.686667    29.946190    12.379313    35.472602   \n",
       "          pca             0.680000    30.914574    18.415393    37.243693   \n",
       "          gpca            0.993333    14.271858     8.566709    36.947211   \n",
       "sbert     avg             0.633333    31.525635    13.489771    36.752864   \n",
       "          max             0.633333    30.805105    13.320164    36.928235   \n",
       "          pca             0.440000    36.037309    18.869236    35.290453   \n",
       "          gpca            0.680000    29.689947    13.101112    36.681324   \n",
       "doc2vec   avg             0.646667    30.643607    12.255528    36.719234   \n",
       "          max             0.693333    29.554605    11.557088    35.737409   \n",
       "          pca             0.540000    32.724502    14.593500    36.029864   \n",
       "          gpca            0.706667    30.444575    12.482399    36.937450   \n",
       "sentiment roberta         0.820000    19.627065    13.584830    38.610147   \n",
       "          vader           0.733333    28.388497    13.667822    38.137531   \n",
       "          avg             0.833333    23.762775    11.627953    37.110156   \n",
       "          emotion         0.753333    29.378190    12.273634    36.860048   \n",
       "\n",
       "                                \n",
       "                  std distance  \n",
       "features  avg        11.698523  \n",
       "          max        11.140693  \n",
       "          pca        12.022534  \n",
       "          gpca       11.163513  \n",
       "sbert     avg        12.543910  \n",
       "          max        11.941288  \n",
       "          pca        12.086387  \n",
       "          gpca       12.345530  \n",
       "doc2vec   avg        11.588424  \n",
       "          max        12.092961  \n",
       "          pca        12.091097  \n",
       "          gpca       11.828451  \n",
       "sentiment roberta    21.005720  \n",
       "          vader      13.374492  \n",
       "          avg        15.953610  \n",
       "          emotion    12.478855  "
      ]
     },
     "execution_count": 15,
     "metadata": {},
     "output_type": "execute_result"
    }
   ],
   "source": [
    "df = pd.DataFrame(metrics).T\n",
    "cols = [('similar pairs', 'similarity score'), \n",
    "        ('similar pairs', 'avg sim distance'), \n",
    "        ('similar pairs', 'std sim distance'),\n",
    "        ('random pairs', 'avg rnd distance'), \n",
    "        ('random pairs', 'std rnd distance')]\n",
    "\n",
    "df.columns = pd.MultiIndex.from_tuples(cols)\n",
    "\n",
    "df = df.rename(columns={'avg sim distance': 'avg distance', 'avg rnd distance': 'avg distance', \n",
    "                        'std sim distance': 'std distance', 'std rnd distance': 'std distance'})\n",
    "\n",
    "df.rename(index={'sentivader': 'vader', 'sentibert': 'roberta', 'sentiment': 'avg'}, level=1)"
   ]
  },
  {
   "cell_type": "code",
   "execution_count": 16,
   "id": "4cf46a7a",
   "metadata": {
    "execution": {
     "iopub.execute_input": "2023-03-04T19:45:30.379890Z",
     "iopub.status.busy": "2023-03-04T19:45:30.379423Z",
     "iopub.status.idle": "2023-03-04T19:45:30.391038Z",
     "shell.execute_reply": "2023-03-04T19:45:30.389605Z"
    },
    "papermill": {
     "duration": 0.031429,
     "end_time": "2023-03-04T19:45:30.394492",
     "exception": false,
     "start_time": "2023-03-04T19:45:30.363063",
     "status": "completed"
    },
    "tags": []
   },
   "outputs": [],
   "source": [
    "df.to_csv('../data/evaluation/metrics.csv', index=False)"
   ]
  },
  {
   "cell_type": "code",
   "execution_count": 17,
   "id": "546393e4",
   "metadata": {
    "execution": {
     "iopub.execute_input": "2023-03-04T19:45:30.424362Z",
     "iopub.status.busy": "2023-03-04T19:45:30.423440Z",
     "iopub.status.idle": "2023-03-04T19:45:30.477865Z",
     "shell.execute_reply": "2023-03-04T19:45:30.476468Z"
    },
    "papermill": {
     "duration": 0.072888,
     "end_time": "2023-03-04T19:45:30.481257",
     "exception": false,
     "start_time": "2023-03-04T19:45:30.408369",
     "status": "completed"
    },
    "tags": []
   },
   "outputs": [
    {
     "name": "stderr",
     "output_type": "stream",
     "text": [
      "/tmp/ipykernel_56032/2226788113.py:3: FutureWarning: In future versions `DataFrame.to_latex` is expected to utilise the base implementation of `Styler.to_latex` for formatting and rendering. The arguments signature may therefore change. It is recommended instead to use `DataFrame.style.to_latex` which also contains additional functionality.\n",
      "  f.write(df.round(2).to_latex())\n"
     ]
    }
   ],
   "source": [
    "# save the DataFrame to a LaTeX table format\n",
    "with open('../data/evaluation/evaluation_table.tex', 'w') as f:\n",
    "    f.write(df.round(2).to_latex())"
   ]
  },
  {
   "cell_type": "code",
   "execution_count": 18,
   "id": "1dc3c736",
   "metadata": {
    "execution": {
     "iopub.execute_input": "2023-03-04T19:45:30.509539Z",
     "iopub.status.busy": "2023-03-04T19:45:30.508353Z",
     "iopub.status.idle": "2023-03-04T19:45:32.481552Z",
     "shell.execute_reply": "2023-03-04T19:45:32.480883Z"
    },
    "papermill": {
     "duration": 1.990397,
     "end_time": "2023-03-04T19:45:32.484595",
     "exception": false,
     "start_time": "2023-03-04T19:45:30.494198",
     "status": "completed"
    },
    "tags": []
   },
   "outputs": [
    {
     "data": {
      "image/png": "[encoded data removed]",
      "text/plain": [
       "<Figure size 640x480 with 1 Axes>"
      ]
     },
     "metadata": {},
     "output_type": "display_data"
    }
   ],
   "source": [
    "ts_type = 'features_gpca_ts'\n",
    "\n",
    "ts_data = pd.read_csv(f'../data/evaluation/time-series/{ts_type}.csv')\n",
    "for column in ts_data.columns:\n",
    "    ts_data[column] = list(\n",
    "        map(lambda x: np.array(ast.literal_eval(x)), ts_data[column]))\n",
    "sim_dtw = [fastdtw.dtw(ts1, ts2)[0] for ts1, ts2 in zip(ts_data['lyrics'], ts_data['similar_lyrics'])]\n",
    "rnd_dtw = [fastdtw.dtw(ts1, ts2)[0] for ts1, ts2 in zip(ts_data['lyrics'], ts_data['random_lyrics'])]\n",
    "\n",
    "x = sim_dtw+rnd_dtw\n",
    "h = (['similar'] * len(sim_dtw)) + (['random'] * len(rnd_dtw))\n",
    "\n",
    "fig, ax = plt.subplots()\n",
    "ax = sns.histplot(x=x, hue=h)\n",
    "ax.set_title('Distances between similar and random time series pairs')\n",
    "ax.set_ylabel('count')\n",
    "\n",
    "tikzplotlib.save('../tikz/hist_eval_features_gpca.tex')"
   ]
  },
  {
   "cell_type": "code",
   "execution_count": null,
   "id": "025bede4",
   "metadata": {
    "papermill": {
     "duration": 0.014269,
     "end_time": "2023-03-04T19:45:32.513659",
     "exception": false,
     "start_time": "2023-03-04T19:45:32.499390",
     "status": "completed"
    },
    "tags": []
   },
   "outputs": [],
   "source": []
  },
  {
   "cell_type": "code",
   "execution_count": null,
   "id": "050251f1",
   "metadata": {
    "papermill": {
     "duration": 0.014235,
     "end_time": "2023-03-04T19:45:32.542316",
     "exception": false,
     "start_time": "2023-03-04T19:45:32.528081",
     "status": "completed"
    },
    "tags": []
   },
   "outputs": [],
   "source": []
  }
 ],
 "metadata": {
  "kernelspec": {
   "display_name": "Python 3 (ipykernel)",
   "language": "python",
   "name": "python3"
  },
  "language_info": {
   "codemirror_mode": {
    "name": "ipython",
    "version": 3
   },
   "file_extension": ".py",
   "mimetype": "text/x-python",
   "name": "python",
   "nbconvert_exporter": "python",
   "pygments_lexer": "ipython3",
   "version": "3.9.16"
  },
  "papermill": {
   "default_parameters": {},
   "duration": 146.872324,
   "end_time": "2023-03-04T19:45:33.180766",
   "environment_variables": {},
   "exception": null,
   "input_path": "07_dtw_evaluation.ipynb",
   "output_path": "07_dtw_evaluation.ipynb",
   "parameters": {},
   "start_time": "2023-03-04T19:43:06.308442",
   "version": "2.4.0"
  },
  "vscode": {
   "interpreter": {
    "hash": "eb8d1ded7c87c6f9c253b40add648304d6b51d2e38393955e855effc7e6f899a"
   }
  }
 },
 "nbformat": 4,
 "nbformat_minor": 5
}