{
 "cells": [
  {
   "cell_type": "markdown",
   "id": "646ce041",
   "metadata": {
    "papermill": {
     "duration": 0.013388,
     "end_time": "2023-03-15T04:28:26.372166",
     "exception": false,
     "start_time": "2023-03-15T04:28:26.358778",
     "status": "completed"
    },
    "tags": []
   },
   "source": [
    "# DTW Evaluation"
   ]
  },
  {
   "cell_type": "code",
   "execution_count": 1,
   "id": "dfce37d5",
   "metadata": {
    "execution": {
     "iopub.execute_input": "2023-03-15T04:28:26.445632Z",
     "iopub.status.busy": "2023-03-15T04:28:26.445148Z",
     "iopub.status.idle": "2023-03-15T04:28:28.504179Z",
     "shell.execute_reply": "2023-03-15T04:28:28.503235Z"
    },
    "papermill": {
     "duration": 2.072608,
     "end_time": "2023-03-15T04:28:28.506001",
     "exception": false,
     "start_time": "2023-03-15T04:28:26.433393",
     "status": "completed"
    },
    "tags": []
   },
   "outputs": [],
   "source": [
    "%matplotlib inline\n",
    "import pandas as pd\n",
    "import numpy as np\n",
    "from matplotlib import pyplot as plt\n",
    "import seaborn as sns\n",
    "import tikzplotlib\n",
    "import random\n",
    "import ast\n",
    "import fastdtw\n",
    "from scipy.spatial.distance import euclidean\n",
    "from itertools import combinations\n",
    "from lyrics_stats import lyrics_statistics\n",
    "from sklearn.preprocessing import StandardScaler\n",
    "from sklearn.decomposition import PCA"
   ]
  },
  {
   "cell_type": "code",
   "execution_count": 2,
   "id": "0da60dd3",
   "metadata": {
    "execution": {
     "iopub.execute_input": "2023-03-15T04:28:28.516652Z",
     "iopub.status.busy": "2023-03-15T04:28:28.516297Z",
     "iopub.status.idle": "2023-03-15T04:28:28.522377Z",
     "shell.execute_reply": "2023-03-15T04:28:28.520763Z"
    },
    "papermill": {
     "duration": 0.014937,
     "end_time": "2023-03-15T04:28:28.525644",
     "exception": false,
     "start_time": "2023-03-15T04:28:28.510707",
     "status": "completed"
    },
    "tags": []
   },
   "outputs": [],
   "source": [
    "sns.set_theme(context='paper', style='white', palette='deep')"
   ]
  },
  {
   "cell_type": "markdown",
   "id": "70f797f3",
   "metadata": {
    "papermill": {
     "duration": 0.00945,
     "end_time": "2023-03-15T04:28:28.544801",
     "exception": false,
     "start_time": "2023-03-15T04:28:28.535351",
     "status": "completed"
    },
    "tags": []
   },
   "source": [
    "## DTW: The idea behind"
   ]
  },
  {
   "cell_type": "code",
   "execution_count": 3,
   "id": "bb9807d9",
   "metadata": {
    "execution": {
     "iopub.execute_input": "2023-03-15T04:28:28.565960Z",
     "iopub.status.busy": "2023-03-15T04:28:28.565429Z",
     "iopub.status.idle": "2023-03-15T04:28:28.574460Z",
     "shell.execute_reply": "2023-03-15T04:28:28.573002Z"
    },
    "papermill": {
     "duration": 0.024024,
     "end_time": "2023-03-15T04:28:28.578156",
     "exception": false,
     "start_time": "2023-03-15T04:28:28.554132",
     "status": "completed"
    },
    "tags": []
   },
   "outputs": [],
   "source": [
    "def generate_uni_features_ts(lyrics):\n",
    "    multi_ts = pd.DataFrame(lyrics_statistics(lyrics)).values\n",
    "    ss = StandardScaler()\n",
    "    multi_ts = ss.fit_transform(multi_ts)\n",
    "    pca = PCA(n_components=1, random_state=0)\n",
    "    uni_ts = np.array([pc[0] for pc in pca.fit_transform(multi_ts)])\n",
    "    return uni_ts"
   ]
  },
  {
   "cell_type": "code",
   "execution_count": 4,
   "id": "9f2356e6",
   "metadata": {
    "execution": {
     "iopub.execute_input": "2023-03-15T04:28:28.599722Z",
     "iopub.status.busy": "2023-03-15T04:28:28.599169Z",
     "iopub.status.idle": "2023-03-15T04:28:28.620111Z",
     "shell.execute_reply": "2023-03-15T04:28:28.618567Z"
    },
    "papermill": {
     "duration": 0.036182,
     "end_time": "2023-03-15T04:28:28.624166",
     "exception": false,
     "start_time": "2023-03-15T04:28:28.587984",
     "status": "completed"
    },
    "tags": []
   },
   "outputs": [],
   "source": [
    "eg_lyr = pd.read_csv('../data/toy-lyrics/toy_lyr.csv', sep='\\t')\n",
    "eg_similar_lyr = pd.read_csv('../data/toy-lyrics/toy_sim.csv', sep='\\t')\n",
    "eg_random_lyr = pd.read_csv('../data/toy-lyrics/toy_rnd.csv', sep='\\t')\n",
    "\n",
    "eg_lyrics = [eg_lyr, eg_similar_lyr, eg_random_lyr]"
   ]
  },
  {
   "cell_type": "code",
   "execution_count": 5,
   "id": "e299a84a",
   "metadata": {
    "execution": {
     "iopub.execute_input": "2023-03-15T04:28:28.648717Z",
     "iopub.status.busy": "2023-03-15T04:28:28.648141Z",
     "iopub.status.idle": "2023-03-15T04:28:28.859839Z",
     "shell.execute_reply": "2023-03-15T04:28:28.858902Z"
    },
    "papermill": {
     "duration": 0.22618,
     "end_time": "2023-03-15T04:28:28.861768",
     "exception": false,
     "start_time": "2023-03-15T04:28:28.635588",
     "status": "completed"
    },
    "tags": []
   },
   "outputs": [],
   "source": [
    "ts1, ts2, ts3 = [generate_uni_features_ts(list(lyr['lyrics'])) for lyr in eg_lyrics]\n",
    "\n",
    "ts1_parts, ts2_parts, ts3_parts = [lyr['part'] for lyr in eg_lyrics]\n",
    "\n",
    "color_map = {}\n",
    "for idx, part_of_lyrics in enumerate(list(dict.fromkeys(ts1_parts))):    \n",
    "    # Map color excluding first color of the palette \n",
    "    color_map[part_of_lyrics] = sns.color_palette()[idx+1]"
   ]
  },
  {
   "cell_type": "code",
   "execution_count": 6,
   "id": "31dd3bcc",
   "metadata": {
    "execution": {
     "iopub.execute_input": "2023-03-15T04:28:28.870549Z",
     "iopub.status.busy": "2023-03-15T04:28:28.870302Z",
     "iopub.status.idle": "2023-03-15T04:28:28.878840Z",
     "shell.execute_reply": "2023-03-15T04:28:28.877900Z"
    },
    "papermill": {
     "duration": 0.015108,
     "end_time": "2023-03-15T04:28:28.880680",
     "exception": false,
     "start_time": "2023-03-15T04:28:28.865572",
     "status": "completed"
    },
    "tags": []
   },
   "outputs": [
    {
     "name": "stdout",
     "output_type": "stream",
     "text": [
      "DTW distance between similar lyrics: 19.71522340995776\n",
      "DTW distance between random lyrics: 37.70994555359612\n"
     ]
    }
   ],
   "source": [
    "sim_distance, warp_path = fastdtw.dtw(ts1, ts2)\n",
    "print(f'DTW distance between similar lyrics: {sim_distance}')\n",
    "\n",
    "rnd_distance = fastdtw.dtw(ts1, ts3)[0]\n",
    "print(f'DTW distance between random lyrics: {rnd_distance}')"
   ]
  },
  {
   "cell_type": "code",
   "execution_count": 7,
   "id": "b70d68d1",
   "metadata": {
    "execution": {
     "iopub.execute_input": "2023-03-15T04:28:28.889971Z",
     "iopub.status.busy": "2023-03-15T04:28:28.889724Z",
     "iopub.status.idle": "2023-03-15T04:28:28.894148Z",
     "shell.execute_reply": "2023-03-15T04:28:28.893175Z"
    },
    "papermill": {
     "duration": 0.010885,
     "end_time": "2023-03-15T04:28:28.895831",
     "exception": false,
     "start_time": "2023-03-15T04:28:28.884946",
     "status": "completed"
    },
    "tags": []
   },
   "outputs": [],
   "source": [
    "ts2 = [10 + timestamp for timestamp in ts2] "
   ]
  },
  {
   "cell_type": "code",
   "execution_count": 8,
   "id": "3cfd9270",
   "metadata": {
    "execution": {
     "iopub.execute_input": "2023-03-15T04:28:28.905330Z",
     "iopub.status.busy": "2023-03-15T04:28:28.904841Z",
     "iopub.status.idle": "2023-03-15T04:28:29.410030Z",
     "shell.execute_reply": "2023-03-15T04:28:29.409067Z"
    },
    "papermill": {
     "duration": 0.512089,
     "end_time": "2023-03-15T04:28:29.411870",
     "exception": false,
     "start_time": "2023-03-15T04:28:28.899781",
     "status": "completed"
    },
    "tags": []
   },
   "outputs": [
    {
     "data": {
      "image/png": "[encoded data removed]",
      "text/plain": [
       "<Figure size 640x480 with 1 Axes>"
      ]
     },
     "metadata": {},
     "output_type": "display_data"
    }
   ],
   "source": [
    "fig, ax = plt.subplots()\n",
    "\n",
    "for [map_x, map_y] in warp_path:\n",
    "    ax.plot([map_x, map_y], [ts1[map_x], ts2[map_y]], linestyle='dotted', color='lightgray')\n",
    "\n",
    "plt.plot(ts1, color=sns.color_palette()[0]) \n",
    "plt.plot(ts2, color=sns.color_palette()[0])\n",
    "\n",
    "sns.scatterplot(y=ts1, x=range(len(ts1)),\n",
    "                hue=ts1_parts, s=50, palette=color_map)\n",
    "\n",
    "sns.scatterplot(y=ts2, x=range(len(ts2)),\n",
    "                hue=ts2_parts, s=50, palette=color_map, legend=False)\n",
    "\n",
    "\n",
    "ax.set_yticklabels([])\n",
    "ax.set_ylabel('')\n",
    "ax.set_xlabel('verse')\n",
    "ax.set_title('Example of DTW matching')\n",
    "ax.tick_params(left=False)  # remove the ticks\n",
    "tikzplotlib.save('../tikz/dtw_demo.tex')"
   ]
  },
  {
   "cell_type": "code",
   "execution_count": 9,
   "id": "1828f846",
   "metadata": {
    "execution": {
     "iopub.execute_input": "2023-03-15T04:28:29.424231Z",
     "iopub.status.busy": "2023-03-15T04:28:29.423977Z",
     "iopub.status.idle": "2023-03-15T04:28:29.432061Z",
     "shell.execute_reply": "2023-03-15T04:28:29.431181Z"
    },
    "papermill": {
     "duration": 0.016085,
     "end_time": "2023-03-15T04:28:29.433559",
     "exception": false,
     "start_time": "2023-03-15T04:28:29.417474",
     "status": "completed"
    },
    "tags": []
   },
   "outputs": [],
   "source": [
    "def evaluate_ts_data(ts_type, normalize=True):    \n",
    "    ts_data = pd.read_csv(f'../data/evaluation/time-series/{ts_type}.csv')\n",
    "    for column in ts_data.columns:\n",
    "        ts_data[column] = list(\n",
    "            map(lambda x: np.array(ast.literal_eval(x)), ts_data[column]))\n",
    "    if normalize:\n",
    "        scaler = StandardScaler()            \n",
    "        for column in ts_data.columns:\n",
    "            ts_data[column] = list(\n",
    "                map(lambda x: scaler.fit_transform(x.reshape(-1, 1)), ts_data[column]))    \n",
    "    sim_dtw = [fastdtw.dtw(ts1, ts2)[0] for ts1, ts2 in zip(ts_data['lyrics'], ts_data['similar_lyrics'])]\n",
    "    rnd_dtw = [fastdtw.dtw(ts1, ts2)[0] for ts1, ts2 in zip(ts_data['lyrics'], ts_data['random_lyrics'])]\n",
    "    sim_closer = sum(1 for similar, random in zip(sim_dtw, rnd_dtw) if similar < random)\n",
    "    rnd_closer = sum(1 for similar, random in zip(sim_dtw, rnd_dtw) if random < similar)\n",
    "    similarity_score = sim_closer / (sim_closer + rnd_closer)        \n",
    "    avg_sim_dtw = np.mean(sim_dtw)\n",
    "    std_sim_dtw = np.std(sim_dtw)\n",
    "    avg_rnd_dtw = np.mean(rnd_dtw)\n",
    "    std_rnd_dtw = np.std(rnd_dtw)\n",
    "    \n",
    "    metrics = {'similarity score': similarity_score,                                  \n",
    "               'avg sim distance': avg_sim_dtw,\n",
    "               'std sim distance': std_sim_dtw,\n",
    "               'avg rnd distance': avg_rnd_dtw,\n",
    "               'std rnd distance': std_rnd_dtw\n",
    "              }\n",
    "    return metrics"
   ]
  },
  {
   "cell_type": "code",
   "execution_count": 10,
   "id": "33ecd7e8",
   "metadata": {
    "execution": {
     "iopub.execute_input": "2023-03-15T04:28:29.453177Z",
     "iopub.status.busy": "2023-03-15T04:28:29.452730Z",
     "iopub.status.idle": "2023-03-15T04:28:29.458582Z",
     "shell.execute_reply": "2023-03-15T04:28:29.457222Z"
    },
    "papermill": {
     "duration": 0.021101,
     "end_time": "2023-03-15T04:28:29.461861",
     "exception": false,
     "start_time": "2023-03-15T04:28:29.440760",
     "status": "completed"
    },
    "tags": []
   },
   "outputs": [],
   "source": [
    "metrics = {}"
   ]
  },
  {
   "cell_type": "markdown",
   "id": "e36dcdf5",
   "metadata": {
    "papermill": {
     "duration": 0.011809,
     "end_time": "2023-03-15T04:28:29.485570",
     "exception": false,
     "start_time": "2023-03-15T04:28:29.473761",
     "status": "completed"
    },
    "tags": []
   },
   "source": [
    "## Evaluation"
   ]
  },
  {
   "cell_type": "markdown",
   "id": "be3338c3",
   "metadata": {
    "papermill": {
     "duration": 0.011732,
     "end_time": "2023-03-15T04:28:29.509163",
     "exception": false,
     "start_time": "2023-03-15T04:28:29.497431",
     "status": "completed"
    },
    "tags": []
   },
   "source": [
    "**Features Time series**"
   ]
  },
  {
   "cell_type": "code",
   "execution_count": 11,
   "id": "52b9d72d",
   "metadata": {
    "execution": {
     "iopub.execute_input": "2023-03-15T04:28:29.522045Z",
     "iopub.status.busy": "2023-03-15T04:28:29.521756Z",
     "iopub.status.idle": "2023-03-15T04:29:05.319011Z",
     "shell.execute_reply": "2023-03-15T04:29:05.318052Z"
    },
    "papermill": {
     "duration": 35.806117,
     "end_time": "2023-03-15T04:29:05.322197",
     "exception": false,
     "start_time": "2023-03-15T04:28:29.516080",
     "status": "completed"
    },
    "tags": []
   },
   "outputs": [],
   "source": [
    "ts_types = ['features_avg_ts', 'features_max_ts', 'features_pca_ts', 'features_gpca_ts']\n",
    "\n",
    "for ts_type in ts_types:\n",
    "    evaluation_result = evaluate_ts_data(ts_type, normalize=True)\n",
    "    metrics[('features', ts_type.split('_')[1])] = evaluation_result"
   ]
  },
  {
   "cell_type": "markdown",
   "id": "4fdaf33d",
   "metadata": {
    "papermill": {
     "duration": 0.013022,
     "end_time": "2023-03-15T04:29:05.348637",
     "exception": false,
     "start_time": "2023-03-15T04:29:05.335615",
     "status": "completed"
    },
    "tags": []
   },
   "source": [
    "**Sentence BERT Time Series**"
   ]
  },
  {
   "cell_type": "code",
   "execution_count": 12,
   "id": "697e5494",
   "metadata": {
    "execution": {
     "iopub.execute_input": "2023-03-15T04:29:05.377303Z",
     "iopub.status.busy": "2023-03-15T04:29:05.376900Z",
     "iopub.status.idle": "2023-03-15T04:29:40.973888Z",
     "shell.execute_reply": "2023-03-15T04:29:40.972941Z"
    },
    "papermill": {
     "duration": 35.615089,
     "end_time": "2023-03-15T04:29:40.976945",
     "exception": false,
     "start_time": "2023-03-15T04:29:05.361856",
     "status": "completed"
    },
    "tags": []
   },
   "outputs": [],
   "source": [
    "ts_types = ['sbert_avg_ts', 'sbert_max_ts', 'sbert_pca_ts', 'sbert_gpca_ts']\n",
    "\n",
    "for ts_type in ts_types:\n",
    "    evaluation_result = evaluate_ts_data(ts_type, normalize=True)\n",
    "    metrics[('sbert', ts_type.split('_')[1])] = evaluation_result"
   ]
  },
  {
   "cell_type": "markdown",
   "id": "b338ea4c",
   "metadata": {
    "papermill": {
     "duration": 0.01297,
     "end_time": "2023-03-15T04:29:41.003254",
     "exception": false,
     "start_time": "2023-03-15T04:29:40.990284",
     "status": "completed"
    },
    "tags": []
   },
   "source": [
    "**Doc2Vec Time Series**"
   ]
  },
  {
   "cell_type": "code",
   "execution_count": 13,
   "id": "993dc5cf",
   "metadata": {
    "execution": {
     "iopub.execute_input": "2023-03-15T04:29:41.030848Z",
     "iopub.status.busy": "2023-03-15T04:29:41.030552Z",
     "iopub.status.idle": "2023-03-15T04:30:16.597104Z",
     "shell.execute_reply": "2023-03-15T04:30:16.596171Z"
    },
    "papermill": {
     "duration": 35.583835,
     "end_time": "2023-03-15T04:30:16.600204",
     "exception": false,
     "start_time": "2023-03-15T04:29:41.016369",
     "status": "completed"
    },
    "tags": []
   },
   "outputs": [],
   "source": [
    "ts_types = ['d2v_avg_ts', 'd2v_max_ts', 'd2v_pca_ts', 'd2v_gpca_ts']\n",
    "\n",
    "for ts_type in ts_types:\n",
    "    evaluation_result = evaluate_ts_data(ts_type, normalize=True)\n",
    "    metrics[('doc2vec', ts_type.split('_')[1])] = evaluation_result"
   ]
  },
  {
   "cell_type": "markdown",
   "id": "7758df38",
   "metadata": {
    "papermill": {
     "duration": 0.012901,
     "end_time": "2023-03-15T04:30:16.626268",
     "exception": false,
     "start_time": "2023-03-15T04:30:16.613367",
     "status": "completed"
    },
    "tags": []
   },
   "source": [
    "**Sentiment Time Series**"
   ]
  },
  {
   "cell_type": "code",
   "execution_count": 14,
   "id": "bbfcfd0c",
   "metadata": {
    "execution": {
     "iopub.execute_input": "2023-03-15T04:30:16.654350Z",
     "iopub.status.busy": "2023-03-15T04:30:16.654054Z",
     "iopub.status.idle": "2023-03-15T04:30:52.123587Z",
     "shell.execute_reply": "2023-03-15T04:30:52.122657Z"
    },
    "papermill": {
     "duration": 35.487448,
     "end_time": "2023-03-15T04:30:52.126671",
     "exception": false,
     "start_time": "2023-03-15T04:30:16.639223",
     "status": "completed"
    },
    "tags": []
   },
   "outputs": [],
   "source": [
    "ts_types = ['sentibert_ts', 'sentivader_ts', 'sentiment_ts', 'emotion_ts']\n",
    "\n",
    "\n",
    "for ts_type in ts_types:\n",
    "    evaluation_result = evaluate_ts_data(ts_type, normalize=True)\n",
    "    metrics[('sentiment', ts_type.split('_')[0])] = evaluation_result"
   ]
  },
  {
   "cell_type": "code",
   "execution_count": 15,
   "id": "489714b4",
   "metadata": {
    "execution": {
     "iopub.execute_input": "2023-03-15T04:30:52.154634Z",
     "iopub.status.busy": "2023-03-15T04:30:52.154342Z",
     "iopub.status.idle": "2023-03-15T04:30:52.196637Z",
     "shell.execute_reply": "2023-03-15T04:30:52.195005Z"
    },
    "papermill": {
     "duration": 0.060056,
     "end_time": "2023-03-15T04:30:52.200087",
     "exception": false,
     "start_time": "2023-03-15T04:30:52.140031",
     "status": "completed"
    },
    "tags": []
   },
   "outputs": [
    {
     "data": {
      "text/html": [
       "<div>\n",
       "<style scoped>\n",
       "    .dataframe tbody tr th:only-of-type {\n",
       "        vertical-align: middle;\n",
       "    }\n",
       "\n",
       "    .dataframe tbody tr th {\n",
       "        vertical-align: top;\n",
       "    }\n",
       "\n",
       "    .dataframe thead tr th {\n",
       "        text-align: left;\n",
       "    }\n",
       "</style>\n",
       "<table border=\"1\" class=\"dataframe\">\n",
       "  <thead>\n",
       "    <tr>\n",
       "      <th></th>\n",
       "      <th></th>\n",
       "      <th colspan=\"3\" halign=\"left\">similar pairs</th>\n",
       "      <th colspan=\"2\" halign=\"left\">random pairs</th>\n",
       "    </tr>\n",
       "    <tr>\n",
       "      <th></th>\n",
       "      <th></th>\n",
       "      <th>similarity score</th>\n",
       "      <th>avg distance</th>\n",
       "      <th>std distance</th>\n",
       "      <th>avg distance</th>\n",
       "      <th>std distance</th>\n",
       "    </tr>\n",
       "  </thead>\n",
       "  <tbody>\n",
       "    <tr>\n",
       "      <th rowspan=\"4\" valign=\"top\">features</th>\n",
       "      <th>avg</th>\n",
       "      <td>0.840000</td>\n",
       "      <td>26.966937</td>\n",
       "      <td>11.482092</td>\n",
       "      <td>38.858087</td>\n",
       "      <td>12.114070</td>\n",
       "    </tr>\n",
       "    <tr>\n",
       "      <th>max</th>\n",
       "      <td>0.713333</td>\n",
       "      <td>29.920285</td>\n",
       "      <td>11.758540</td>\n",
       "      <td>36.563842</td>\n",
       "      <td>11.185742</td>\n",
       "    </tr>\n",
       "    <tr>\n",
       "      <th>pca</th>\n",
       "      <td>0.633333</td>\n",
       "      <td>32.000396</td>\n",
       "      <td>19.084052</td>\n",
       "      <td>38.340218</td>\n",
       "      <td>11.843475</td>\n",
       "    </tr>\n",
       "    <tr>\n",
       "      <th>gpca</th>\n",
       "      <td>0.986667</td>\n",
       "      <td>18.606106</td>\n",
       "      <td>11.589088</td>\n",
       "      <td>39.049564</td>\n",
       "      <td>12.293117</td>\n",
       "    </tr>\n",
       "    <tr>\n",
       "      <th rowspan=\"4\" valign=\"top\">sbert</th>\n",
       "      <th>avg</th>\n",
       "      <td>0.666667</td>\n",
       "      <td>32.067426</td>\n",
       "      <td>13.367568</td>\n",
       "      <td>38.668533</td>\n",
       "      <td>12.335492</td>\n",
       "    </tr>\n",
       "    <tr>\n",
       "      <th>max</th>\n",
       "      <td>0.693333</td>\n",
       "      <td>31.002776</td>\n",
       "      <td>13.415822</td>\n",
       "      <td>38.131634</td>\n",
       "      <td>12.352845</td>\n",
       "    </tr>\n",
       "    <tr>\n",
       "      <th>pca</th>\n",
       "      <td>0.540000</td>\n",
       "      <td>36.285563</td>\n",
       "      <td>18.556170</td>\n",
       "      <td>36.899961</td>\n",
       "      <td>12.382750</td>\n",
       "    </tr>\n",
       "    <tr>\n",
       "      <th>gpca</th>\n",
       "      <td>0.766667</td>\n",
       "      <td>28.800809</td>\n",
       "      <td>13.126740</td>\n",
       "      <td>38.672510</td>\n",
       "      <td>12.732607</td>\n",
       "    </tr>\n",
       "    <tr>\n",
       "      <th rowspan=\"4\" valign=\"top\">doc2vec</th>\n",
       "      <th>avg</th>\n",
       "      <td>0.740000</td>\n",
       "      <td>30.603249</td>\n",
       "      <td>11.931334</td>\n",
       "      <td>38.333486</td>\n",
       "      <td>11.742226</td>\n",
       "    </tr>\n",
       "    <tr>\n",
       "      <th>max</th>\n",
       "      <td>0.740000</td>\n",
       "      <td>29.727266</td>\n",
       "      <td>11.342604</td>\n",
       "      <td>36.990407</td>\n",
       "      <td>11.766091</td>\n",
       "    </tr>\n",
       "    <tr>\n",
       "      <th>pca</th>\n",
       "      <td>0.593333</td>\n",
       "      <td>32.977797</td>\n",
       "      <td>15.485121</td>\n",
       "      <td>36.890311</td>\n",
       "      <td>12.210344</td>\n",
       "    </tr>\n",
       "    <tr>\n",
       "      <th>gpca</th>\n",
       "      <td>0.720000</td>\n",
       "      <td>30.194319</td>\n",
       "      <td>11.870456</td>\n",
       "      <td>37.698848</td>\n",
       "      <td>11.723299</td>\n",
       "    </tr>\n",
       "    <tr>\n",
       "      <th rowspan=\"4\" valign=\"top\">sentiment</th>\n",
       "      <th>roberta</th>\n",
       "      <td>0.866667</td>\n",
       "      <td>27.776401</td>\n",
       "      <td>12.614006</td>\n",
       "      <td>41.820047</td>\n",
       "      <td>14.551711</td>\n",
       "    </tr>\n",
       "    <tr>\n",
       "      <th>vader</th>\n",
       "      <td>0.800000</td>\n",
       "      <td>28.488779</td>\n",
       "      <td>13.663805</td>\n",
       "      <td>39.609612</td>\n",
       "      <td>13.523310</td>\n",
       "    </tr>\n",
       "    <tr>\n",
       "      <th>avg</th>\n",
       "      <td>0.846667</td>\n",
       "      <td>28.897392</td>\n",
       "      <td>11.996349</td>\n",
       "      <td>39.586890</td>\n",
       "      <td>12.550292</td>\n",
       "    </tr>\n",
       "    <tr>\n",
       "      <th>emotion</th>\n",
       "      <td>0.806667</td>\n",
       "      <td>29.185743</td>\n",
       "      <td>12.766013</td>\n",
       "      <td>38.779836</td>\n",
       "      <td>12.823883</td>\n",
       "    </tr>\n",
       "  </tbody>\n",
       "</table>\n",
       "</div>"
      ],
      "text/plain": [
       "                     similar pairs                           random pairs  \\\n",
       "                  similarity score avg distance std distance avg distance   \n",
       "features  avg             0.840000    26.966937    11.482092    38.858087   \n",
       "          max             0.713333    29.920285    11.758540    36.563842   \n",
       "          pca             0.633333    32.000396    19.084052    38.340218   \n",
       "          gpca            0.986667    18.606106    11.589088    39.049564   \n",
       "sbert     avg             0.666667    32.067426    13.367568    38.668533   \n",
       "          max             0.693333    31.002776    13.415822    38.131634   \n",
       "          pca             0.540000    36.285563    18.556170    36.899961   \n",
       "          gpca            0.766667    28.800809    13.126740    38.672510   \n",
       "doc2vec   avg             0.740000    30.603249    11.931334    38.333486   \n",
       "          max             0.740000    29.727266    11.342604    36.990407   \n",
       "          pca             0.593333    32.977797    15.485121    36.890311   \n",
       "          gpca            0.720000    30.194319    11.870456    37.698848   \n",
       "sentiment roberta         0.866667    27.776401    12.614006    41.820047   \n",
       "          vader           0.800000    28.488779    13.663805    39.609612   \n",
       "          avg             0.846667    28.897392    11.996349    39.586890   \n",
       "          emotion         0.806667    29.185743    12.766013    38.779836   \n",
       "\n",
       "                                \n",
       "                  std distance  \n",
       "features  avg        12.114070  \n",
       "          max        11.185742  \n",
       "          pca        11.843475  \n",
       "          gpca       12.293117  \n",
       "sbert     avg        12.335492  \n",
       "          max        12.352845  \n",
       "          pca        12.382750  \n",
       "          gpca       12.732607  \n",
       "doc2vec   avg        11.742226  \n",
       "          max        11.766091  \n",
       "          pca        12.210344  \n",
       "          gpca       11.723299  \n",
       "sentiment roberta    14.551711  \n",
       "          vader      13.523310  \n",
       "          avg        12.550292  \n",
       "          emotion    12.823883  "
      ]
     },
     "execution_count": 15,
     "metadata": {},
     "output_type": "execute_result"
    }
   ],
   "source": [
    "df = pd.DataFrame(metrics).T\n",
    "cols = [('similar pairs', 'similarity score'), \n",
    "        ('similar pairs', 'avg sim distance'), \n",
    "        ('similar pairs', 'std sim distance'),\n",
    "        ('random pairs', 'avg rnd distance'), \n",
    "        ('random pairs', 'std rnd distance')]\n",
    "\n",
    "df.columns = pd.MultiIndex.from_tuples(cols)\n",
    "\n",
    "df = df.rename(columns={'avg sim distance': 'avg distance', 'avg rnd distance': 'avg distance', \n",
    "                        'std sim distance': 'std distance', 'std rnd distance': 'std distance'})\n",
    "\n",
    "df.rename(index={'sentivader': 'vader', 'sentibert': 'roberta', 'sentiment': 'avg'}, level=1)"
   ]
  },
  {
   "cell_type": "code",
   "execution_count": 16,
   "id": "4cf46a7a",
   "metadata": {
    "execution": {
     "iopub.execute_input": "2023-03-15T04:30:52.228355Z",
     "iopub.status.busy": "2023-03-15T04:30:52.227794Z",
     "iopub.status.idle": "2023-03-15T04:30:52.239485Z",
     "shell.execute_reply": "2023-03-15T04:30:52.238214Z"
    },
    "papermill": {
     "duration": 0.029752,
     "end_time": "2023-03-15T04:30:52.243204",
     "exception": false,
     "start_time": "2023-03-15T04:30:52.213452",
     "status": "completed"
    },
    "tags": []
   },
   "outputs": [],
   "source": [
    "df.to_csv('../data/evaluation/metrics.csv', index=False)"
   ]
  },
  {
   "cell_type": "code",
   "execution_count": 17,
   "id": "546393e4",
   "metadata": {
    "execution": {
     "iopub.execute_input": "2023-03-15T04:30:52.272410Z",
     "iopub.status.busy": "2023-03-15T04:30:52.271869Z",
     "iopub.status.idle": "2023-03-15T04:30:52.325374Z",
     "shell.execute_reply": "2023-03-15T04:30:52.323765Z"
    },
    "papermill": {
     "duration": 0.072299,
     "end_time": "2023-03-15T04:30:52.329266",
     "exception": false,
     "start_time": "2023-03-15T04:30:52.256967",
     "status": "completed"
    },
    "tags": []
   },
   "outputs": [
    {
     "name": "stderr",
     "output_type": "stream",
     "text": [
      "/tmp/ipykernel_66048/2226788113.py:3: FutureWarning: In future versions `DataFrame.to_latex` is expected to utilise the base implementation of `Styler.to_latex` for formatting and rendering. The arguments signature may therefore change. It is recommended instead to use `DataFrame.style.to_latex` which also contains additional functionality.\n",
      "  f.write(df.round(2).to_latex())\n"
     ]
    }
   ],
   "source": [
    "# save the DataFrame to a LaTeX table format\n",
    "with open('../data/evaluation/evaluation_table.tex', 'w') as f:\n",
    "    f.write(df.round(2).to_latex())"
   ]
  },
  {
   "cell_type": "code",
   "execution_count": 18,
   "id": "1dc3c736",
   "metadata": {
    "execution": {
     "iopub.execute_input": "2023-03-15T04:30:52.359132Z",
     "iopub.status.busy": "2023-03-15T04:30:52.358573Z",
     "iopub.status.idle": "2023-03-15T04:30:54.443128Z",
     "shell.execute_reply": "2023-03-15T04:30:54.442207Z"
    },
    "papermill": {
     "duration": 2.101161,
     "end_time": "2023-03-15T04:30:54.444785",
     "exception": false,
     "start_time": "2023-03-15T04:30:52.343624",
     "status": "completed"
    },
    "tags": []
   },
   "outputs": [
    {
     "data": {
      "image/png": "[encoded data removed]",
      "text/plain": [
       "<Figure size 640x480 with 1 Axes>"
      ]
     },
     "metadata": {},
     "output_type": "display_data"
    }
   ],
   "source": [
    "ts_type = 'features_gpca_ts'\n",
    "\n",
    "ts_data = pd.read_csv(f'../data/evaluation/time-series/{ts_type}.csv')\n",
    "for column in ts_data.columns:\n",
    "    ts_data[column] = list(\n",
    "        map(lambda x: np.array(ast.literal_eval(x)), ts_data[column]))\n",
    "sim_dtw = [fastdtw.dtw(ts1, ts2)[0] for ts1, ts2 in zip(ts_data['lyrics'], ts_data['similar_lyrics'])]\n",
    "rnd_dtw = [fastdtw.dtw(ts1, ts2)[0] for ts1, ts2 in zip(ts_data['lyrics'], ts_data['random_lyrics'])]\n",
    "\n",
    "x = sim_dtw+rnd_dtw\n",
    "h = (['similar'] * len(sim_dtw)) + (['random'] * len(rnd_dtw))\n",
    "\n",
    "fig, ax = plt.subplots()\n",
    "ax = sns.histplot(x=x, hue=h)\n",
    "ax.set_title('Distances between similar and random time series pairs')\n",
    "ax.set_ylabel('count')\n",
    "\n",
    "tikzplotlib.save('../tikz/hist_eval_features_gpca.tex')"
   ]
  },
  {
   "cell_type": "code",
   "execution_count": null,
   "id": "025bede4",
   "metadata": {
    "papermill": {
     "duration": 0.005267,
     "end_time": "2023-03-15T04:30:54.455658",
     "exception": false,
     "start_time": "2023-03-15T04:30:54.450391",
     "status": "completed"
    },
    "tags": []
   },
   "outputs": [],
   "source": []
  },
  {
   "cell_type": "code",
   "execution_count": null,
   "id": "050251f1",
   "metadata": {
    "papermill": {
     "duration": 0.005225,
     "end_time": "2023-03-15T04:30:54.466167",
     "exception": false,
     "start_time": "2023-03-15T04:30:54.460942",
     "status": "completed"
    },
    "tags": []
   },
   "outputs": [],
   "source": []
  }
 ],
 "metadata": {
  "kernelspec": {
   "display_name": "Python 3 (ipykernel)",
   "language": "python",
   "name": "python3"
  },
  "language_info": {
   "codemirror_mode": {
    "name": "ipython",
    "version": 3
   },
   "file_extension": ".py",
   "mimetype": "text/x-python",
   "name": "python",
   "nbconvert_exporter": "python",
   "pygments_lexer": "ipython3",
   "version": "3.9.16"
  },
  "papermill": {
   "default_parameters": {},
   "duration": 149.946722,
   "end_time": "2023-03-15T04:30:54.993436",
   "environment_variables": {},
   "exception": null,
   "input_path": "07_dtw_evaluation.ipynb",
   "output_path": "07_dtw_evaluation.ipynb",
   "parameters": {},
   "start_time": "2023-03-15T04:28:25.046714",
   "version": "2.4.0"
  },
  "vscode": {
   "interpreter": {
    "hash": "eb8d1ded7c87c6f9c253b40add648304d6b51d2e38393955e855effc7e6f899a"
   }
  }
 },
 "nbformat": 4,
 "nbformat_minor": 5
}