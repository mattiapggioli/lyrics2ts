{
 "cells": [
  {
   "cell_type": "markdown",
   "id": "5f68eeeb",
   "metadata": {
    "papermill": {
     "duration": 0.066297,
     "end_time": "2023-03-15T00:54:54.668642",
     "exception": false,
     "start_time": "2023-03-15T00:54:54.602345",
     "status": "completed"
    },
    "tags": []
   },
   "source": [
    "# Features Time Series Generation"
   ]
  },
  {
   "cell_type": "code",
   "execution_count": 1,
   "id": "926be1e3",
   "metadata": {
    "execution": {
     "iopub.execute_input": "2023-03-15T00:54:54.693168Z",
     "iopub.status.busy": "2023-03-15T00:54:54.692689Z",
     "iopub.status.idle": "2023-03-15T00:54:56.776692Z",
     "shell.execute_reply": "2023-03-15T00:54:56.775673Z"
    },
    "papermill": {
     "duration": 2.098387,
     "end_time": "2023-03-15T00:54:56.779772",
     "exception": false,
     "start_time": "2023-03-15T00:54:54.681385",
     "status": "completed"
    },
    "tags": []
   },
   "outputs": [],
   "source": [
    "%matplotlib inline\n",
    "import pandas as pd\n",
    "import numpy as np\n",
    "from matplotlib import pyplot as plt\n",
    "from matplotlib.patches import Patch\n",
    "import seaborn as sns\n",
    "import random\n",
    "import ast\n",
    "import nltk\n",
    "from lyrics_stats import lyrics_statistics\n",
    "from sklearn.preprocessing import StandardScaler\n",
    "from sklearn.decomposition import PCA\n",
    "import joblib\n",
    "import time"
   ]
  },
  {
   "cell_type": "code",
   "execution_count": 2,
   "id": "552a2389",
   "metadata": {
    "execution": {
     "iopub.execute_input": "2023-03-15T00:54:56.809966Z",
     "iopub.status.busy": "2023-03-15T00:54:56.809298Z",
     "iopub.status.idle": "2023-03-15T00:54:56.815041Z",
     "shell.execute_reply": "2023-03-15T00:54:56.813994Z"
    },
    "papermill": {
     "duration": 0.024559,
     "end_time": "2023-03-15T00:54:56.818241",
     "exception": false,
     "start_time": "2023-03-15T00:54:56.793682",
     "status": "completed"
    },
    "tags": []
   },
   "outputs": [],
   "source": [
    "sns.set_theme(context='paper', style='white', palette='deep')"
   ]
  },
  {
   "cell_type": "code",
   "execution_count": 3,
   "id": "245c61bb",
   "metadata": {
    "execution": {
     "iopub.execute_input": "2023-03-15T00:54:56.847393Z",
     "iopub.status.busy": "2023-03-15T00:54:56.847103Z",
     "iopub.status.idle": "2023-03-15T00:54:56.882021Z",
     "shell.execute_reply": "2023-03-15T00:54:56.880648Z"
    },
    "papermill": {
     "duration": 0.053189,
     "end_time": "2023-03-15T00:54:56.885378",
     "exception": false,
     "start_time": "2023-03-15T00:54:56.832189",
     "status": "completed"
    },
    "tags": []
   },
   "outputs": [],
   "source": [
    "df = pd.read_csv('../data/evaluation/lyrics_eval.csv')"
   ]
  },
  {
   "cell_type": "code",
   "execution_count": 4,
   "id": "e41282ff",
   "metadata": {
    "execution": {
     "iopub.execute_input": "2023-03-15T00:54:56.912745Z",
     "iopub.status.busy": "2023-03-15T00:54:56.912457Z",
     "iopub.status.idle": "2023-03-15T00:54:56.927537Z",
     "shell.execute_reply": "2023-03-15T00:54:56.926590Z"
    },
    "papermill": {
     "duration": 0.032378,
     "end_time": "2023-03-15T00:54:56.930839",
     "exception": false,
     "start_time": "2023-03-15T00:54:56.898461",
     "status": "completed"
    },
    "tags": []
   },
   "outputs": [
    {
     "data": {
      "text/html": [
       "<div>\n",
       "<style scoped>\n",
       "    .dataframe tbody tr th:only-of-type {\n",
       "        vertical-align: middle;\n",
       "    }\n",
       "\n",
       "    .dataframe tbody tr th {\n",
       "        vertical-align: top;\n",
       "    }\n",
       "\n",
       "    .dataframe thead th {\n",
       "        text-align: right;\n",
       "    }\n",
       "</style>\n",
       "<table border=\"1\" class=\"dataframe\">\n",
       "  <thead>\n",
       "    <tr style=\"text-align: right;\">\n",
       "      <th></th>\n",
       "      <th>index</th>\n",
       "      <th>lyrics</th>\n",
       "      <th>genre</th>\n",
       "      <th>id</th>\n",
       "      <th>similar_lyrics</th>\n",
       "      <th>random_lyrics</th>\n",
       "    </tr>\n",
       "  </thead>\n",
       "  <tbody>\n",
       "    <tr>\n",
       "      <th>0</th>\n",
       "      <td>1935</td>\n",
       "      <td>[\"Well, I've been waitin' ever since eight\", \"...</td>\n",
       "      <td>pop</td>\n",
       "      <td>1935</td>\n",
       "      <td>[\"Well, after just waitin' to … eight\", \"Guess...</td>\n",
       "      <td>['The world is a vampire', 'Sent to drain', 'S...</td>\n",
       "    </tr>\n",
       "    <tr>\n",
       "      <th>1</th>\n",
       "      <td>6494</td>\n",
       "      <td>['This kind of love', 'Is more than a lifeline...</td>\n",
       "      <td>pop</td>\n",
       "      <td>6494</td>\n",
       "      <td>['This did of this', 'Is these question a life...</td>\n",
       "      <td>['Just look over your shoulders, honey!', \"It'...</td>\n",
       "    </tr>\n",
       "    <tr>\n",
       "      <th>2</th>\n",
       "      <td>1720</td>\n",
       "      <td>['I could tell by the look in her eyes', \"Mayb...</td>\n",
       "      <td>pop</td>\n",
       "      <td>1720</td>\n",
       "      <td>['I seldom tell by I look in serve eyes', 'May...</td>\n",
       "      <td>['She is the queen of barefoot', 'She goes wal...</td>\n",
       "    </tr>\n",
       "    <tr>\n",
       "      <th>3</th>\n",
       "      <td>9120</td>\n",
       "      <td>[\"Don't Tell me you love me when I don't\", 'Yo...</td>\n",
       "      <td>pop</td>\n",
       "      <td>9120</td>\n",
       "      <td>[\"Don't Tell me you Found me Twice but One\", '...</td>\n",
       "      <td>['Listen Baby', \"When I\\\\'m all alone, cause y...</td>\n",
       "    </tr>\n",
       "    <tr>\n",
       "      <th>4</th>\n",
       "      <td>360</td>\n",
       "      <td>[\"Who's the man? who's the boss?\", \"who's the ...</td>\n",
       "      <td>pop</td>\n",
       "      <td>360</td>\n",
       "      <td>[\"Who's We man? who's p dress?\", \"who's&lt;unk&gt; b...</td>\n",
       "      <td>['DJ Khaled!', 'From the mud to the marble flo...</td>\n",
       "    </tr>\n",
       "  </tbody>\n",
       "</table>\n",
       "</div>"
      ],
      "text/plain": [
       "   index                                             lyrics genre    id  \\\n",
       "0   1935  [\"Well, I've been waitin' ever since eight\", \"...   pop  1935   \n",
       "1   6494  ['This kind of love', 'Is more than a lifeline...   pop  6494   \n",
       "2   1720  ['I could tell by the look in her eyes', \"Mayb...   pop  1720   \n",
       "3   9120  [\"Don't Tell me you love me when I don't\", 'Yo...   pop  9120   \n",
       "4    360  [\"Who's the man? who's the boss?\", \"who's the ...   pop   360   \n",
       "\n",
       "                                      similar_lyrics  \\\n",
       "0  [\"Well, after just waitin' to … eight\", \"Guess...   \n",
       "1  ['This did of this', 'Is these question a life...   \n",
       "2  ['I seldom tell by I look in serve eyes', 'May...   \n",
       "3  [\"Don't Tell me you Found me Twice but One\", '...   \n",
       "4  [\"Who's We man? who's p dress?\", \"who's<unk> b...   \n",
       "\n",
       "                                       random_lyrics  \n",
       "0  ['The world is a vampire', 'Sent to drain', 'S...  \n",
       "1  ['Just look over your shoulders, honey!', \"It'...  \n",
       "2  ['She is the queen of barefoot', 'She goes wal...  \n",
       "3  ['Listen Baby', \"When I\\\\'m all alone, cause y...  \n",
       "4  ['DJ Khaled!', 'From the mud to the marble flo...  "
      ]
     },
     "execution_count": 4,
     "metadata": {},
     "output_type": "execute_result"
    }
   ],
   "source": [
    "df.head()"
   ]
  },
  {
   "cell_type": "code",
   "execution_count": 5,
   "id": "4231473b",
   "metadata": {
    "execution": {
     "iopub.execute_input": "2023-03-15T00:54:56.961231Z",
     "iopub.status.busy": "2023-03-15T00:54:56.960905Z",
     "iopub.status.idle": "2023-03-15T00:54:56.979779Z",
     "shell.execute_reply": "2023-03-15T00:54:56.978361Z"
    },
    "papermill": {
     "duration": 0.038262,
     "end_time": "2023-03-15T00:54:56.983223",
     "exception": false,
     "start_time": "2023-03-15T00:54:56.944961",
     "status": "completed"
    },
    "tags": []
   },
   "outputs": [
    {
     "name": "stdout",
     "output_type": "stream",
     "text": [
      "<class 'pandas.core.frame.DataFrame'>\n",
      "RangeIndex: 150 entries, 0 to 149\n",
      "Data columns (total 6 columns):\n",
      " #   Column          Non-Null Count  Dtype \n",
      "---  ------          --------------  ----- \n",
      " 0   index           150 non-null    int64 \n",
      " 1   lyrics          150 non-null    object\n",
      " 2   genre           150 non-null    object\n",
      " 3   id              150 non-null    int64 \n",
      " 4   similar_lyrics  150 non-null    object\n",
      " 5   random_lyrics   150 non-null    object\n",
      "dtypes: int64(2), object(4)\n",
      "memory usage: 7.2+ KB\n"
     ]
    }
   ],
   "source": [
    "df.info()"
   ]
  },
  {
   "cell_type": "code",
   "execution_count": 6,
   "id": "5eee1b05",
   "metadata": {
    "execution": {
     "iopub.execute_input": "2023-03-15T00:54:57.013299Z",
     "iopub.status.busy": "2023-03-15T00:54:57.012971Z",
     "iopub.status.idle": "2023-03-15T00:54:57.067059Z",
     "shell.execute_reply": "2023-03-15T00:54:57.066097Z"
    },
    "papermill": {
     "duration": 0.072259,
     "end_time": "2023-03-15T00:54:57.069767",
     "exception": false,
     "start_time": "2023-03-15T00:54:56.997508",
     "status": "completed"
    },
    "tags": []
   },
   "outputs": [],
   "source": [
    "df['lyrics'] = df['lyrics'].apply(ast.literal_eval)\n",
    "df['similar_lyrics'] = df['similar_lyrics'].apply(ast.literal_eval)\n",
    "df['random_lyrics'] = df['random_lyrics'].apply(ast.literal_eval)"
   ]
  },
  {
   "cell_type": "code",
   "execution_count": 7,
   "id": "a70144dd",
   "metadata": {
    "execution": {
     "iopub.execute_input": "2023-03-15T00:54:57.100719Z",
     "iopub.status.busy": "2023-03-15T00:54:57.099576Z",
     "iopub.status.idle": "2023-03-15T00:54:57.109918Z",
     "shell.execute_reply": "2023-03-15T00:54:57.108483Z"
    },
    "papermill": {
     "duration": 0.029843,
     "end_time": "2023-03-15T00:54:57.113590",
     "exception": false,
     "start_time": "2023-03-15T00:54:57.083747",
     "status": "completed"
    },
    "tags": []
   },
   "outputs": [
    {
     "data": {
      "text/plain": [
       "['Calling all believers',\n",
       " 'New life found within the cross of Christ',\n",
       " 'For He is risen',\n",
       " 'Seated high and lifted above all',\n",
       " 'Above all',\n",
       " 'All around the world',\n",
       " 'We sing Your praise',\n",
       " 'The anthem of creation',\n",
       " 'Our God reigns',\n",
       " 'Let the name of Jesus',\n",
       " 'Forever be glorified',\n",
       " 'We are alive in You',\n",
       " 'We are alive in You',\n",
       " 'Redemption story',\n",
       " 'Our lives freely given life to see',\n",
       " 'Salvation drawing',\n",
       " 'All hearts finding hope in Christ alone',\n",
       " 'In Christ alone',\n",
       " 'You are risen',\n",
       " 'You are risen',\n",
       " 'You are risen',\n",
       " 'Christ our Saviour',\n",
       " 'Christ our Saviour',\n",
       " 'Christ our Saviour']"
      ]
     },
     "execution_count": 7,
     "metadata": {},
     "output_type": "execute_result"
    }
   ],
   "source": [
    "random.choice(df['lyrics'])"
   ]
  },
  {
   "cell_type": "markdown",
   "id": "cd75b001",
   "metadata": {
    "papermill": {
     "duration": 0.01345,
     "end_time": "2023-03-15T00:54:57.140792",
     "exception": false,
     "start_time": "2023-03-15T00:54:57.127342",
     "status": "completed"
    },
    "tags": []
   },
   "source": [
    "## Lyrics features"
   ]
  },
  {
   "cell_type": "code",
   "execution_count": 8,
   "id": "67a81a8d",
   "metadata": {
    "execution": {
     "iopub.execute_input": "2023-03-15T00:54:57.160781Z",
     "iopub.status.busy": "2023-03-15T00:54:57.160303Z",
     "iopub.status.idle": "2023-03-15T00:54:57.177471Z",
     "shell.execute_reply": "2023-03-15T00:54:57.175989Z"
    },
    "papermill": {
     "duration": 0.025832,
     "end_time": "2023-03-15T00:54:57.179451",
     "exception": false,
     "start_time": "2023-03-15T00:54:57.153619",
     "status": "completed"
    },
    "tags": []
   },
   "outputs": [
    {
     "data": {
      "text/html": [
       "<div>\n",
       "<style scoped>\n",
       "    .dataframe tbody tr th:only-of-type {\n",
       "        vertical-align: middle;\n",
       "    }\n",
       "\n",
       "    .dataframe tbody tr th {\n",
       "        vertical-align: top;\n",
       "    }\n",
       "\n",
       "    .dataframe thead th {\n",
       "        text-align: right;\n",
       "    }\n",
       "</style>\n",
       "<table border=\"1\" class=\"dataframe\">\n",
       "  <thead>\n",
       "    <tr style=\"text-align: right;\">\n",
       "      <th></th>\n",
       "      <th>lyrics</th>\n",
       "      <th>part</th>\n",
       "    </tr>\n",
       "  </thead>\n",
       "  <tbody>\n",
       "    <tr>\n",
       "      <th>0</th>\n",
       "      <td>Yo, listen up, I got a story to tell</td>\n",
       "      <td>intro</td>\n",
       "    </tr>\n",
       "    <tr>\n",
       "      <th>1</th>\n",
       "      <td>Gonna take you on a journey, can you feel?</td>\n",
       "      <td>intro</td>\n",
       "    </tr>\n",
       "    <tr>\n",
       "      <th>2</th>\n",
       "      <td>I was born in the ghetto, raised in the streets</td>\n",
       "      <td>verse</td>\n",
       "    </tr>\n",
       "    <tr>\n",
       "      <th>3</th>\n",
       "      <td>Never had much, but I made it with heat</td>\n",
       "      <td>verse</td>\n",
       "    </tr>\n",
       "    <tr>\n",
       "      <th>4</th>\n",
       "      <td>I fought for my dreams, never gave up the fight</td>\n",
       "      <td>verse</td>\n",
       "    </tr>\n",
       "  </tbody>\n",
       "</table>\n",
       "</div>"
      ],
      "text/plain": [
       "                                            lyrics   part\n",
       "0             Yo, listen up, I got a story to tell  intro\n",
       "1       Gonna take you on a journey, can you feel?  intro\n",
       "2  I was born in the ghetto, raised in the streets  verse\n",
       "3          Never had much, but I made it with heat  verse\n",
       "4  I fought for my dreams, never gave up the fight  verse"
      ]
     },
     "execution_count": 8,
     "metadata": {},
     "output_type": "execute_result"
    }
   ],
   "source": [
    "toy_lyrics = pd.read_csv('../data/toy-lyrics/toy_lyr.csv', sep='\\t')\n",
    "toy_lyrics.head()"
   ]
  },
  {
   "cell_type": "code",
   "execution_count": 9,
   "id": "f0e2284b",
   "metadata": {
    "execution": {
     "iopub.execute_input": "2023-03-15T00:54:57.194376Z",
     "iopub.status.busy": "2023-03-15T00:54:57.193899Z",
     "iopub.status.idle": "2023-03-15T00:54:57.202583Z",
     "shell.execute_reply": "2023-03-15T00:54:57.201451Z"
    },
    "papermill": {
     "duration": 0.017604,
     "end_time": "2023-03-15T00:54:57.204404",
     "exception": false,
     "start_time": "2023-03-15T00:54:57.186800",
     "status": "completed"
    },
    "tags": []
   },
   "outputs": [
    {
     "data": {
      "text/plain": [
       "['Yo, listen up, I got a story to tell',\n",
       " 'Gonna take you on a journey, can you feel?',\n",
       " 'I was born in the ghetto, raised in the streets',\n",
       " 'Never had much, but I made it with heat',\n",
       " 'I fought for my dreams, never gave up the fight',\n",
       " \"Now I'm living my best life, shining bright\",\n",
       " \"Yeah, yeah, I'm the one, hear my voice\",\n",
       " 'got the fire, gonna make some noise',\n",
       " \"I'm the master of the game, that's a fact\",\n",
       " 'got the skills, never looking back',\n",
       " \"I've been through the ups and the downs, the twists and the turns\",\n",
       " 'But I always keep my head up, never letting my fire burn',\n",
       " \"I've got the power, got the drive, never gonna stop\",\n",
       " 'Gonna make my mark, till the beat drops',\n",
       " \"Yeah, yeah, I'm the one, hear my voice\",\n",
       " 'got the fire, gonna make some noise',\n",
       " \"I'm the master of the game, that's a fact\",\n",
       " 'got the skills, never looking back',\n",
       " 'So listen up, hear what I say',\n",
       " \"I'm the king of the game, leading the way\",\n",
       " \"With my rhymes, and my flows, I'm unstoppable\",\n",
       " \"Gonna take the world by storm, that's unstoppable!\"]"
      ]
     },
     "execution_count": 9,
     "metadata": {},
     "output_type": "execute_result"
    }
   ],
   "source": [
    "eg_lyrics = list(toy_lyrics['lyrics'])\n",
    "eg_lyrics"
   ]
  },
  {
   "cell_type": "code",
   "execution_count": 10,
   "id": "8f983afd",
   "metadata": {
    "execution": {
     "iopub.execute_input": "2023-03-15T00:54:57.217087Z",
     "iopub.status.busy": "2023-03-15T00:54:57.216612Z",
     "iopub.status.idle": "2023-03-15T00:54:57.347722Z",
     "shell.execute_reply": "2023-03-15T00:54:57.346759Z"
    },
    "papermill": {
     "duration": 0.140144,
     "end_time": "2023-03-15T00:54:57.350083",
     "exception": false,
     "start_time": "2023-03-15T00:54:57.209939",
     "status": "completed"
    },
    "tags": []
   },
   "outputs": [
    {
     "data": {
      "text/html": [
       "<div>\n",
       "<style scoped>\n",
       "    .dataframe tbody tr th:only-of-type {\n",
       "        vertical-align: middle;\n",
       "    }\n",
       "\n",
       "    .dataframe tbody tr th {\n",
       "        vertical-align: top;\n",
       "    }\n",
       "\n",
       "    .dataframe thead th {\n",
       "        text-align: right;\n",
       "    }\n",
       "</style>\n",
       "<table border=\"1\" class=\"dataframe\">\n",
       "  <thead>\n",
       "    <tr style=\"text-align: right;\">\n",
       "      <th></th>\n",
       "      <th>sentence_length</th>\n",
       "      <th>monosyl_words_count</th>\n",
       "      <th>polysyl_words_count</th>\n",
       "      <th>avg_token_length</th>\n",
       "      <th>readability_score</th>\n",
       "      <th>normalized_sentence_frequency</th>\n",
       "      <th>sentence_ttr</th>\n",
       "      <th>avg_token_frequency</th>\n",
       "      <th>alliteration_score</th>\n",
       "      <th>VERB_count</th>\n",
       "      <th>NOUN_count</th>\n",
       "      <th>ADJ_count</th>\n",
       "      <th>ADV_count</th>\n",
       "      <th>INTJ_count</th>\n",
       "    </tr>\n",
       "  </thead>\n",
       "  <tbody>\n",
       "    <tr>\n",
       "      <th>0</th>\n",
       "      <td>9</td>\n",
       "      <td>0</td>\n",
       "      <td>7</td>\n",
       "      <td>2.888889</td>\n",
       "      <td>5.84</td>\n",
       "      <td>0.045455</td>\n",
       "      <td>1.0</td>\n",
       "      <td>4.000000</td>\n",
       "      <td>0.529412</td>\n",
       "      <td>3</td>\n",
       "      <td>2</td>\n",
       "      <td>0</td>\n",
       "      <td>0</td>\n",
       "      <td>0</td>\n",
       "    </tr>\n",
       "    <tr>\n",
       "      <th>1</th>\n",
       "      <td>9</td>\n",
       "      <td>0</td>\n",
       "      <td>8</td>\n",
       "      <td>3.200000</td>\n",
       "      <td>5.84</td>\n",
       "      <td>0.045455</td>\n",
       "      <td>0.9</td>\n",
       "      <td>2.600000</td>\n",
       "      <td>0.529412</td>\n",
       "      <td>3</td>\n",
       "      <td>2</td>\n",
       "      <td>0</td>\n",
       "      <td>0</td>\n",
       "      <td>0</td>\n",
       "    </tr>\n",
       "    <tr>\n",
       "      <th>2</th>\n",
       "      <td>10</td>\n",
       "      <td>0</td>\n",
       "      <td>9</td>\n",
       "      <td>3.700000</td>\n",
       "      <td>8.87</td>\n",
       "      <td>0.045455</td>\n",
       "      <td>0.8</td>\n",
       "      <td>7.200000</td>\n",
       "      <td>0.636364</td>\n",
       "      <td>3</td>\n",
       "      <td>2</td>\n",
       "      <td>0</td>\n",
       "      <td>0</td>\n",
       "      <td>0</td>\n",
       "    </tr>\n",
       "    <tr>\n",
       "      <th>3</th>\n",
       "      <td>9</td>\n",
       "      <td>0</td>\n",
       "      <td>8</td>\n",
       "      <td>3.333333</td>\n",
       "      <td>0.45</td>\n",
       "      <td>0.045455</td>\n",
       "      <td>1.0</td>\n",
       "      <td>3.333333</td>\n",
       "      <td>0.444444</td>\n",
       "      <td>2</td>\n",
       "      <td>1</td>\n",
       "      <td>1</td>\n",
       "      <td>1</td>\n",
       "      <td>0</td>\n",
       "    </tr>\n",
       "    <tr>\n",
       "      <th>4</th>\n",
       "      <td>10</td>\n",
       "      <td>0</td>\n",
       "      <td>9</td>\n",
       "      <td>3.700000</td>\n",
       "      <td>5.71</td>\n",
       "      <td>0.045455</td>\n",
       "      <td>1.0</td>\n",
       "      <td>6.300000</td>\n",
       "      <td>0.523810</td>\n",
       "      <td>2</td>\n",
       "      <td>2</td>\n",
       "      <td>0</td>\n",
       "      <td>1</td>\n",
       "      <td>0</td>\n",
       "    </tr>\n",
       "  </tbody>\n",
       "</table>\n",
       "</div>"
      ],
      "text/plain": [
       "   sentence_length  monosyl_words_count  polysyl_words_count  \\\n",
       "0                9                    0                    7   \n",
       "1                9                    0                    8   \n",
       "2               10                    0                    9   \n",
       "3                9                    0                    8   \n",
       "4               10                    0                    9   \n",
       "\n",
       "   avg_token_length  readability_score  normalized_sentence_frequency  \\\n",
       "0          2.888889               5.84                       0.045455   \n",
       "1          3.200000               5.84                       0.045455   \n",
       "2          3.700000               8.87                       0.045455   \n",
       "3          3.333333               0.45                       0.045455   \n",
       "4          3.700000               5.71                       0.045455   \n",
       "\n",
       "   sentence_ttr  avg_token_frequency  alliteration_score  VERB_count  \\\n",
       "0           1.0             4.000000            0.529412           3   \n",
       "1           0.9             2.600000            0.529412           3   \n",
       "2           0.8             7.200000            0.636364           3   \n",
       "3           1.0             3.333333            0.444444           2   \n",
       "4           1.0             6.300000            0.523810           2   \n",
       "\n",
       "   NOUN_count  ADJ_count  ADV_count  INTJ_count  \n",
       "0           2          0          0           0  \n",
       "1           2          0          0           0  \n",
       "2           2          0          0           0  \n",
       "3           1          1          1           0  \n",
       "4           2          0          1           0  "
      ]
     },
     "execution_count": 10,
     "metadata": {},
     "output_type": "execute_result"
    }
   ],
   "source": [
    "lyrics_stats = pd.DataFrame(lyrics_statistics(eg_lyrics))\n",
    "lyrics_stats.head()"
   ]
  },
  {
   "cell_type": "code",
   "execution_count": 11,
   "id": "3fbee701",
   "metadata": {
    "execution": {
     "iopub.execute_input": "2023-03-15T00:54:57.377815Z",
     "iopub.status.busy": "2023-03-15T00:54:57.377486Z",
     "iopub.status.idle": "2023-03-15T00:54:57.389439Z",
     "shell.execute_reply": "2023-03-15T00:54:57.388441Z"
    },
    "papermill": {
     "duration": 0.028381,
     "end_time": "2023-03-15T00:54:57.392072",
     "exception": false,
     "start_time": "2023-03-15T00:54:57.363691",
     "status": "completed"
    },
    "tags": []
   },
   "outputs": [
    {
     "name": "stdout",
     "output_type": "stream",
     "text": [
      "<class 'pandas.core.frame.DataFrame'>\n",
      "RangeIndex: 22 entries, 0 to 21\n",
      "Data columns (total 14 columns):\n",
      " #   Column                         Non-Null Count  Dtype  \n",
      "---  ------                         --------------  -----  \n",
      " 0   sentence_length                22 non-null     int64  \n",
      " 1   monosyl_words_count            22 non-null     int64  \n",
      " 2   polysyl_words_count            22 non-null     int64  \n",
      " 3   avg_token_length               22 non-null     float64\n",
      " 4   readability_score              22 non-null     float64\n",
      " 5   normalized_sentence_frequency  22 non-null     float64\n",
      " 6   sentence_ttr                   22 non-null     float64\n",
      " 7   avg_token_frequency            22 non-null     float64\n",
      " 8   alliteration_score             22 non-null     float64\n",
      " 9   VERB_count                     22 non-null     int64  \n",
      " 10  NOUN_count                     22 non-null     int64  \n",
      " 11  ADJ_count                      22 non-null     int64  \n",
      " 12  ADV_count                      22 non-null     int64  \n",
      " 13  INTJ_count                     22 non-null     int64  \n",
      "dtypes: float64(6), int64(8)\n",
      "memory usage: 2.5 KB\n"
     ]
    }
   ],
   "source": [
    "lyrics_stats.info()"
   ]
  },
  {
   "cell_type": "code",
   "execution_count": 12,
   "id": "1b65e7f8",
   "metadata": {
    "execution": {
     "iopub.execute_input": "2023-03-15T00:54:57.419455Z",
     "iopub.status.busy": "2023-03-15T00:54:57.419128Z",
     "iopub.status.idle": "2023-03-15T00:54:57.497019Z",
     "shell.execute_reply": "2023-03-15T00:54:57.496212Z"
    },
    "papermill": {
     "duration": 0.09472,
     "end_time": "2023-03-15T00:54:57.499750",
     "exception": false,
     "start_time": "2023-03-15T00:54:57.405030",
     "status": "completed"
    },
    "tags": []
   },
   "outputs": [
    {
     "data": {
      "text/html": [
       "<div>\n",
       "<style scoped>\n",
       "    .dataframe tbody tr th:only-of-type {\n",
       "        vertical-align: middle;\n",
       "    }\n",
       "\n",
       "    .dataframe tbody tr th {\n",
       "        vertical-align: top;\n",
       "    }\n",
       "\n",
       "    .dataframe thead th {\n",
       "        text-align: right;\n",
       "    }\n",
       "</style>\n",
       "<table border=\"1\" class=\"dataframe\">\n",
       "  <thead>\n",
       "    <tr style=\"text-align: right;\">\n",
       "      <th></th>\n",
       "      <th>sentence_length</th>\n",
       "      <th>monosyl_words_count</th>\n",
       "      <th>polysyl_words_count</th>\n",
       "      <th>avg_token_length</th>\n",
       "      <th>readability_score</th>\n",
       "      <th>normalized_sentence_frequency</th>\n",
       "      <th>sentence_ttr</th>\n",
       "      <th>avg_token_frequency</th>\n",
       "      <th>alliteration_score</th>\n",
       "      <th>VERB_count</th>\n",
       "      <th>NOUN_count</th>\n",
       "      <th>ADJ_count</th>\n",
       "      <th>ADV_count</th>\n",
       "      <th>INTJ_count</th>\n",
       "    </tr>\n",
       "  </thead>\n",
       "  <tbody>\n",
       "    <tr>\n",
       "      <th>count</th>\n",
       "      <td>22.000000</td>\n",
       "      <td>22.000000</td>\n",
       "      <td>22.000000</td>\n",
       "      <td>22.000000</td>\n",
       "      <td>22.000000</td>\n",
       "      <td>22.000000</td>\n",
       "      <td>22.000000</td>\n",
       "      <td>22.000000</td>\n",
       "      <td>22.000000</td>\n",
       "      <td>22.000000</td>\n",
       "      <td>22.000000</td>\n",
       "      <td>22.000000</td>\n",
       "      <td>22.000000</td>\n",
       "      <td>22.000000</td>\n",
       "    </tr>\n",
       "    <tr>\n",
       "      <th>mean</th>\n",
       "      <td>8.636364</td>\n",
       "      <td>0.090909</td>\n",
       "      <td>7.590909</td>\n",
       "      <td>3.604831</td>\n",
       "      <td>5.384545</td>\n",
       "      <td>0.061983</td>\n",
       "      <td>0.923078</td>\n",
       "      <td>6.442929</td>\n",
       "      <td>0.491802</td>\n",
       "      <td>2.272727</td>\n",
       "      <td>2.409091</td>\n",
       "      <td>0.181818</td>\n",
       "      <td>0.454545</td>\n",
       "      <td>0.181818</td>\n",
       "    </tr>\n",
       "    <tr>\n",
       "      <th>std</th>\n",
       "      <td>1.705606</td>\n",
       "      <td>0.294245</td>\n",
       "      <td>1.816829</td>\n",
       "      <td>0.507280</td>\n",
       "      <td>3.372839</td>\n",
       "      <td>0.022380</td>\n",
       "      <td>0.091405</td>\n",
       "      <td>2.213564</td>\n",
       "      <td>0.109221</td>\n",
       "      <td>0.631085</td>\n",
       "      <td>1.098011</td>\n",
       "      <td>0.394771</td>\n",
       "      <td>0.738549</td>\n",
       "      <td>0.588490</td>\n",
       "    </tr>\n",
       "    <tr>\n",
       "      <th>min</th>\n",
       "      <td>6.000000</td>\n",
       "      <td>0.000000</td>\n",
       "      <td>4.000000</td>\n",
       "      <td>2.888889</td>\n",
       "      <td>0.350000</td>\n",
       "      <td>0.045455</td>\n",
       "      <td>0.692308</td>\n",
       "      <td>2.600000</td>\n",
       "      <td>0.272727</td>\n",
       "      <td>1.000000</td>\n",
       "      <td>0.000000</td>\n",
       "      <td>0.000000</td>\n",
       "      <td>0.000000</td>\n",
       "      <td>0.000000</td>\n",
       "    </tr>\n",
       "    <tr>\n",
       "      <th>25%</th>\n",
       "      <td>8.000000</td>\n",
       "      <td>0.000000</td>\n",
       "      <td>7.000000</td>\n",
       "      <td>3.250000</td>\n",
       "      <td>1.877500</td>\n",
       "      <td>0.045455</td>\n",
       "      <td>0.875000</td>\n",
       "      <td>4.590278</td>\n",
       "      <td>0.430804</td>\n",
       "      <td>2.000000</td>\n",
       "      <td>2.000000</td>\n",
       "      <td>0.000000</td>\n",
       "      <td>0.000000</td>\n",
       "      <td>0.000000</td>\n",
       "    </tr>\n",
       "    <tr>\n",
       "      <th>50%</th>\n",
       "      <td>8.500000</td>\n",
       "      <td>0.000000</td>\n",
       "      <td>8.000000</td>\n",
       "      <td>3.472222</td>\n",
       "      <td>5.925000</td>\n",
       "      <td>0.045455</td>\n",
       "      <td>0.958333</td>\n",
       "      <td>6.625000</td>\n",
       "      <td>0.511905</td>\n",
       "      <td>2.000000</td>\n",
       "      <td>2.000000</td>\n",
       "      <td>0.000000</td>\n",
       "      <td>0.000000</td>\n",
       "      <td>0.000000</td>\n",
       "    </tr>\n",
       "    <tr>\n",
       "      <th>75%</th>\n",
       "      <td>9.000000</td>\n",
       "      <td>0.000000</td>\n",
       "      <td>8.000000</td>\n",
       "      <td>3.751923</td>\n",
       "      <td>7.980000</td>\n",
       "      <td>0.090909</td>\n",
       "      <td>1.000000</td>\n",
       "      <td>7.875000</td>\n",
       "      <td>0.529412</td>\n",
       "      <td>2.750000</td>\n",
       "      <td>3.000000</td>\n",
       "      <td>0.000000</td>\n",
       "      <td>1.000000</td>\n",
       "      <td>0.000000</td>\n",
       "    </tr>\n",
       "    <tr>\n",
       "      <th>max</th>\n",
       "      <td>13.000000</td>\n",
       "      <td>1.000000</td>\n",
       "      <td>13.000000</td>\n",
       "      <td>4.666667</td>\n",
       "      <td>9.950000</td>\n",
       "      <td>0.090909</td>\n",
       "      <td>1.000000</td>\n",
       "      <td>10.666667</td>\n",
       "      <td>0.758621</td>\n",
       "      <td>4.000000</td>\n",
       "      <td>4.000000</td>\n",
       "      <td>1.000000</td>\n",
       "      <td>3.000000</td>\n",
       "      <td>2.000000</td>\n",
       "    </tr>\n",
       "  </tbody>\n",
       "</table>\n",
       "</div>"
      ],
      "text/plain": [
       "       sentence_length  monosyl_words_count  polysyl_words_count  \\\n",
       "count        22.000000            22.000000            22.000000   \n",
       "mean          8.636364             0.090909             7.590909   \n",
       "std           1.705606             0.294245             1.816829   \n",
       "min           6.000000             0.000000             4.000000   \n",
       "25%           8.000000             0.000000             7.000000   \n",
       "50%           8.500000             0.000000             8.000000   \n",
       "75%           9.000000             0.000000             8.000000   \n",
       "max          13.000000             1.000000            13.000000   \n",
       "\n",
       "       avg_token_length  readability_score  normalized_sentence_frequency  \\\n",
       "count         22.000000          22.000000                      22.000000   \n",
       "mean           3.604831           5.384545                       0.061983   \n",
       "std            0.507280           3.372839                       0.022380   \n",
       "min            2.888889           0.350000                       0.045455   \n",
       "25%            3.250000           1.877500                       0.045455   \n",
       "50%            3.472222           5.925000                       0.045455   \n",
       "75%            3.751923           7.980000                       0.090909   \n",
       "max            4.666667           9.950000                       0.090909   \n",
       "\n",
       "       sentence_ttr  avg_token_frequency  alliteration_score  VERB_count  \\\n",
       "count     22.000000            22.000000           22.000000   22.000000   \n",
       "mean       0.923078             6.442929            0.491802    2.272727   \n",
       "std        0.091405             2.213564            0.109221    0.631085   \n",
       "min        0.692308             2.600000            0.272727    1.000000   \n",
       "25%        0.875000             4.590278            0.430804    2.000000   \n",
       "50%        0.958333             6.625000            0.511905    2.000000   \n",
       "75%        1.000000             7.875000            0.529412    2.750000   \n",
       "max        1.000000            10.666667            0.758621    4.000000   \n",
       "\n",
       "       NOUN_count  ADJ_count  ADV_count  INTJ_count  \n",
       "count   22.000000  22.000000  22.000000   22.000000  \n",
       "mean     2.409091   0.181818   0.454545    0.181818  \n",
       "std      1.098011   0.394771   0.738549    0.588490  \n",
       "min      0.000000   0.000000   0.000000    0.000000  \n",
       "25%      2.000000   0.000000   0.000000    0.000000  \n",
       "50%      2.000000   0.000000   0.000000    0.000000  \n",
       "75%      3.000000   0.000000   1.000000    0.000000  \n",
       "max      4.000000   1.000000   3.000000    2.000000  "
      ]
     },
     "execution_count": 12,
     "metadata": {},
     "output_type": "execute_result"
    }
   ],
   "source": [
    "lyrics_stats.describe()"
   ]
  },
  {
   "cell_type": "code",
   "execution_count": 13,
   "id": "db539361",
   "metadata": {
    "execution": {
     "iopub.execute_input": "2023-03-15T00:54:57.534401Z",
     "iopub.status.busy": "2023-03-15T00:54:57.534072Z",
     "iopub.status.idle": "2023-03-15T00:54:57.909633Z",
     "shell.execute_reply": "2023-03-15T00:54:57.908643Z"
    },
    "papermill": {
     "duration": 0.397181,
     "end_time": "2023-03-15T00:54:57.913564",
     "exception": false,
     "start_time": "2023-03-15T00:54:57.516383",
     "status": "completed"
    },
    "tags": []
   },
   "outputs": [
    {
     "data": {
      "image/png": "[encoded data removed]",
      "text/plain": [
       "<Figure size 640x480 with 2 Axes>"
      ]
     },
     "metadata": {},
     "output_type": "display_data"
    }
   ],
   "source": [
    "fig, ax = plt.subplots()\n",
    "ax = sns.heatmap(lyrics_stats.corr())\n",
    "#ax.set_title('Feature correlation')\n",
    "ax.set_xticklabels(ax.get_xticklabels(), rotation=45, horizontalalignment='right')\n",
    "plt.savefig('../pgf/feature_correlation.pgf', backend='pgf')"
   ]
  },
  {
   "cell_type": "markdown",
   "id": "482bc373",
   "metadata": {
    "papermill": {
     "duration": 0.018477,
     "end_time": "2023-03-15T00:54:57.951095",
     "exception": false,
     "start_time": "2023-03-15T00:54:57.932618",
     "status": "completed"
    },
    "tags": []
   },
   "source": [
    "## Time Series"
   ]
  },
  {
   "cell_type": "code",
   "execution_count": 14,
   "id": "7fdbebc7",
   "metadata": {
    "execution": {
     "iopub.execute_input": "2023-03-15T00:54:57.990293Z",
     "iopub.status.busy": "2023-03-15T00:54:57.989932Z",
     "iopub.status.idle": "2023-03-15T00:54:58.009449Z",
     "shell.execute_reply": "2023-03-15T00:54:58.007978Z"
    },
    "papermill": {
     "duration": 0.041291,
     "end_time": "2023-03-15T00:54:58.011315",
     "exception": false,
     "start_time": "2023-03-15T00:54:57.970024",
     "status": "completed"
    },
    "tags": []
   },
   "outputs": [
    {
     "data": {
      "text/html": [
       "<div>\n",
       "<style scoped>\n",
       "    .dataframe tbody tr th:only-of-type {\n",
       "        vertical-align: middle;\n",
       "    }\n",
       "\n",
       "    .dataframe tbody tr th {\n",
       "        vertical-align: top;\n",
       "    }\n",
       "\n",
       "    .dataframe thead th {\n",
       "        text-align: right;\n",
       "    }\n",
       "</style>\n",
       "<table border=\"1\" class=\"dataframe\">\n",
       "  <thead>\n",
       "    <tr style=\"text-align: right;\">\n",
       "      <th></th>\n",
       "      <th>sentence_length</th>\n",
       "      <th>monosyl_words_count</th>\n",
       "      <th>polysyl_words_count</th>\n",
       "      <th>avg_token_length</th>\n",
       "      <th>readability_score</th>\n",
       "      <th>normalized_sentence_frequency</th>\n",
       "      <th>sentence_ttr</th>\n",
       "      <th>avg_token_frequency</th>\n",
       "      <th>alliteration_score</th>\n",
       "      <th>VERB_count</th>\n",
       "      <th>NOUN_count</th>\n",
       "      <th>ADJ_count</th>\n",
       "      <th>ADV_count</th>\n",
       "      <th>INTJ_count</th>\n",
       "    </tr>\n",
       "  </thead>\n",
       "  <tbody>\n",
       "    <tr>\n",
       "      <th>0</th>\n",
       "      <td>9</td>\n",
       "      <td>0</td>\n",
       "      <td>7</td>\n",
       "      <td>2.888889</td>\n",
       "      <td>5.84</td>\n",
       "      <td>0.045455</td>\n",
       "      <td>1.0</td>\n",
       "      <td>4.000000</td>\n",
       "      <td>0.529412</td>\n",
       "      <td>3</td>\n",
       "      <td>2</td>\n",
       "      <td>0</td>\n",
       "      <td>0</td>\n",
       "      <td>0</td>\n",
       "    </tr>\n",
       "    <tr>\n",
       "      <th>1</th>\n",
       "      <td>9</td>\n",
       "      <td>0</td>\n",
       "      <td>8</td>\n",
       "      <td>3.200000</td>\n",
       "      <td>5.84</td>\n",
       "      <td>0.045455</td>\n",
       "      <td>0.9</td>\n",
       "      <td>2.600000</td>\n",
       "      <td>0.529412</td>\n",
       "      <td>3</td>\n",
       "      <td>2</td>\n",
       "      <td>0</td>\n",
       "      <td>0</td>\n",
       "      <td>0</td>\n",
       "    </tr>\n",
       "    <tr>\n",
       "      <th>2</th>\n",
       "      <td>10</td>\n",
       "      <td>0</td>\n",
       "      <td>9</td>\n",
       "      <td>3.700000</td>\n",
       "      <td>8.87</td>\n",
       "      <td>0.045455</td>\n",
       "      <td>0.8</td>\n",
       "      <td>7.200000</td>\n",
       "      <td>0.636364</td>\n",
       "      <td>3</td>\n",
       "      <td>2</td>\n",
       "      <td>0</td>\n",
       "      <td>0</td>\n",
       "      <td>0</td>\n",
       "    </tr>\n",
       "    <tr>\n",
       "      <th>3</th>\n",
       "      <td>9</td>\n",
       "      <td>0</td>\n",
       "      <td>8</td>\n",
       "      <td>3.333333</td>\n",
       "      <td>0.45</td>\n",
       "      <td>0.045455</td>\n",
       "      <td>1.0</td>\n",
       "      <td>3.333333</td>\n",
       "      <td>0.444444</td>\n",
       "      <td>2</td>\n",
       "      <td>1</td>\n",
       "      <td>1</td>\n",
       "      <td>1</td>\n",
       "      <td>0</td>\n",
       "    </tr>\n",
       "    <tr>\n",
       "      <th>4</th>\n",
       "      <td>10</td>\n",
       "      <td>0</td>\n",
       "      <td>9</td>\n",
       "      <td>3.700000</td>\n",
       "      <td>5.71</td>\n",
       "      <td>0.045455</td>\n",
       "      <td>1.0</td>\n",
       "      <td>6.300000</td>\n",
       "      <td>0.523810</td>\n",
       "      <td>2</td>\n",
       "      <td>2</td>\n",
       "      <td>0</td>\n",
       "      <td>1</td>\n",
       "      <td>0</td>\n",
       "    </tr>\n",
       "  </tbody>\n",
       "</table>\n",
       "</div>"
      ],
      "text/plain": [
       "   sentence_length  monosyl_words_count  polysyl_words_count  \\\n",
       "0                9                    0                    7   \n",
       "1                9                    0                    8   \n",
       "2               10                    0                    9   \n",
       "3                9                    0                    8   \n",
       "4               10                    0                    9   \n",
       "\n",
       "   avg_token_length  readability_score  normalized_sentence_frequency  \\\n",
       "0          2.888889               5.84                       0.045455   \n",
       "1          3.200000               5.84                       0.045455   \n",
       "2          3.700000               8.87                       0.045455   \n",
       "3          3.333333               0.45                       0.045455   \n",
       "4          3.700000               5.71                       0.045455   \n",
       "\n",
       "   sentence_ttr  avg_token_frequency  alliteration_score  VERB_count  \\\n",
       "0           1.0             4.000000            0.529412           3   \n",
       "1           0.9             2.600000            0.529412           3   \n",
       "2           0.8             7.200000            0.636364           3   \n",
       "3           1.0             3.333333            0.444444           2   \n",
       "4           1.0             6.300000            0.523810           2   \n",
       "\n",
       "   NOUN_count  ADJ_count  ADV_count  INTJ_count  \n",
       "0           2          0          0           0  \n",
       "1           2          0          0           0  \n",
       "2           2          0          0           0  \n",
       "3           1          1          1           0  \n",
       "4           2          0          1           0  "
      ]
     },
     "execution_count": 14,
     "metadata": {},
     "output_type": "execute_result"
    }
   ],
   "source": [
    "eg_multi_ts = pd.DataFrame(lyrics_stats, columns=lyrics_stats.columns)\n",
    "eg_multi_ts.head()"
   ]
  },
  {
   "cell_type": "code",
   "execution_count": 15,
   "id": "9303d503",
   "metadata": {},
   "outputs": [],
   "source": [
    "with open('../data/other/pca0_demo.tex', 'w') as f:\n",
    "    f.write(eg_multi_ts.style.format(precision=3).hide(\n",
    "        axis='columns').hide(axis='index').to_latex(hrules=True))"
   ]
  },
  {
   "cell_type": "code",
   "execution_count": 16,
   "id": "decf863a",
   "metadata": {
    "execution": {
     "iopub.execute_input": "2023-03-15T00:54:58.029418Z",
     "iopub.status.busy": "2023-03-15T00:54:58.028456Z",
     "iopub.status.idle": "2023-03-15T00:54:58.049945Z",
     "shell.execute_reply": "2023-03-15T00:54:58.049055Z"
    },
    "papermill": {
     "duration": 0.031758,
     "end_time": "2023-03-15T00:54:58.051884",
     "exception": false,
     "start_time": "2023-03-15T00:54:58.020126",
     "status": "completed"
    },
    "tags": []
   },
   "outputs": [
    {
     "data": {
      "text/html": [
       "<div>\n",
       "<style scoped>\n",
       "    .dataframe tbody tr th:only-of-type {\n",
       "        vertical-align: middle;\n",
       "    }\n",
       "\n",
       "    .dataframe tbody tr th {\n",
       "        vertical-align: top;\n",
       "    }\n",
       "\n",
       "    .dataframe thead th {\n",
       "        text-align: right;\n",
       "    }\n",
       "</style>\n",
       "<table border=\"1\" class=\"dataframe\">\n",
       "  <thead>\n",
       "    <tr style=\"text-align: right;\">\n",
       "      <th></th>\n",
       "      <th>sentence_length</th>\n",
       "      <th>monosyl_words_count</th>\n",
       "      <th>polysyl_words_count</th>\n",
       "      <th>avg_token_length</th>\n",
       "      <th>readability_score</th>\n",
       "      <th>normalized_sentence_frequency</th>\n",
       "      <th>sentence_ttr</th>\n",
       "      <th>avg_token_frequency</th>\n",
       "      <th>alliteration_score</th>\n",
       "      <th>VERB_count</th>\n",
       "      <th>NOUN_count</th>\n",
       "      <th>ADJ_count</th>\n",
       "      <th>ADV_count</th>\n",
       "      <th>INTJ_count</th>\n",
       "    </tr>\n",
       "  </thead>\n",
       "  <tbody>\n",
       "    <tr>\n",
       "      <th>0</th>\n",
       "      <td>0.218218</td>\n",
       "      <td>-0.316228</td>\n",
       "      <td>-0.332896</td>\n",
       "      <td>-1.444547</td>\n",
       "      <td>0.138214</td>\n",
       "      <td>-0.755929</td>\n",
       "      <td>0.861360</td>\n",
       "      <td>-1.129589</td>\n",
       "      <td>0.352448</td>\n",
       "      <td>1.179536</td>\n",
       "      <td>-0.381342</td>\n",
       "      <td>-0.471405</td>\n",
       "      <td>-0.629941</td>\n",
       "      <td>-0.316228</td>\n",
       "    </tr>\n",
       "    <tr>\n",
       "      <th>1</th>\n",
       "      <td>0.218218</td>\n",
       "      <td>-0.316228</td>\n",
       "      <td>0.230466</td>\n",
       "      <td>-0.816822</td>\n",
       "      <td>0.138214</td>\n",
       "      <td>-0.755929</td>\n",
       "      <td>-0.258421</td>\n",
       "      <td>-1.776936</td>\n",
       "      <td>0.352448</td>\n",
       "      <td>1.179536</td>\n",
       "      <td>-0.381342</td>\n",
       "      <td>-0.471405</td>\n",
       "      <td>-0.629941</td>\n",
       "      <td>-0.316228</td>\n",
       "    </tr>\n",
       "    <tr>\n",
       "      <th>2</th>\n",
       "      <td>0.818317</td>\n",
       "      <td>-0.316228</td>\n",
       "      <td>0.793829</td>\n",
       "      <td>0.192021</td>\n",
       "      <td>1.057707</td>\n",
       "      <td>-0.755929</td>\n",
       "      <td>-1.378201</td>\n",
       "      <td>0.350063</td>\n",
       "      <td>1.354716</td>\n",
       "      <td>1.179536</td>\n",
       "      <td>-0.381342</td>\n",
       "      <td>-0.471405</td>\n",
       "      <td>-0.629941</td>\n",
       "      <td>-0.316228</td>\n",
       "    </tr>\n",
       "    <tr>\n",
       "      <th>3</th>\n",
       "      <td>0.218218</td>\n",
       "      <td>-0.316228</td>\n",
       "      <td>0.230466</td>\n",
       "      <td>-0.547797</td>\n",
       "      <td>-1.497453</td>\n",
       "      <td>-0.755929</td>\n",
       "      <td>0.861360</td>\n",
       "      <td>-1.437850</td>\n",
       "      <td>-0.443798</td>\n",
       "      <td>-0.442326</td>\n",
       "      <td>-1.313512</td>\n",
       "      <td>2.121320</td>\n",
       "      <td>0.755929</td>\n",
       "      <td>-0.316228</td>\n",
       "    </tr>\n",
       "    <tr>\n",
       "      <th>4</th>\n",
       "      <td>0.818317</td>\n",
       "      <td>-0.316228</td>\n",
       "      <td>0.793829</td>\n",
       "      <td>0.192021</td>\n",
       "      <td>0.098763</td>\n",
       "      <td>-0.755929</td>\n",
       "      <td>0.861360</td>\n",
       "      <td>-0.066089</td>\n",
       "      <td>0.299949</td>\n",
       "      <td>-0.442326</td>\n",
       "      <td>-0.381342</td>\n",
       "      <td>-0.471405</td>\n",
       "      <td>0.755929</td>\n",
       "      <td>-0.316228</td>\n",
       "    </tr>\n",
       "  </tbody>\n",
       "</table>\n",
       "</div>"
      ],
      "text/plain": [
       "   sentence_length  monosyl_words_count  polysyl_words_count  \\\n",
       "0         0.218218            -0.316228            -0.332896   \n",
       "1         0.218218            -0.316228             0.230466   \n",
       "2         0.818317            -0.316228             0.793829   \n",
       "3         0.218218            -0.316228             0.230466   \n",
       "4         0.818317            -0.316228             0.793829   \n",
       "\n",
       "   avg_token_length  readability_score  normalized_sentence_frequency  \\\n",
       "0         -1.444547           0.138214                      -0.755929   \n",
       "1         -0.816822           0.138214                      -0.755929   \n",
       "2          0.192021           1.057707                      -0.755929   \n",
       "3         -0.547797          -1.497453                      -0.755929   \n",
       "4          0.192021           0.098763                      -0.755929   \n",
       "\n",
       "   sentence_ttr  avg_token_frequency  alliteration_score  VERB_count  \\\n",
       "0      0.861360            -1.129589            0.352448    1.179536   \n",
       "1     -0.258421            -1.776936            0.352448    1.179536   \n",
       "2     -1.378201             0.350063            1.354716    1.179536   \n",
       "3      0.861360            -1.437850           -0.443798   -0.442326   \n",
       "4      0.861360            -0.066089            0.299949   -0.442326   \n",
       "\n",
       "   NOUN_count  ADJ_count  ADV_count  INTJ_count  \n",
       "0   -0.381342  -0.471405  -0.629941   -0.316228  \n",
       "1   -0.381342  -0.471405  -0.629941   -0.316228  \n",
       "2   -0.381342  -0.471405  -0.629941   -0.316228  \n",
       "3   -1.313512   2.121320   0.755929   -0.316228  \n",
       "4   -0.381342  -0.471405   0.755929   -0.316228  "
      ]
     },
     "execution_count": 16,
     "metadata": {},
     "output_type": "execute_result"
    }
   ],
   "source": [
    "ss = StandardScaler()\n",
    "eg_scl_multi_ts = pd.DataFrame(ss.fit_transform(eg_multi_ts),columns = eg_multi_ts.columns)\n",
    "eg_scl_multi_ts.head()"
   ]
  },
  {
   "cell_type": "code",
   "execution_count": 17,
   "id": "c4ddd0b9",
   "metadata": {},
   "outputs": [],
   "source": [
    "with open('../data/other/pca1_demo.tex', 'w') as f:\n",
    "    f.write(eg_scl_multi_ts.style.format(precision=3).hide(\n",
    "        axis='columns').hide(axis='index').to_latex(hrules=True))"
   ]
  },
  {
   "cell_type": "code",
   "execution_count": 18,
   "id": "e2729ed0",
   "metadata": {
    "execution": {
     "iopub.execute_input": "2023-03-15T00:54:58.072335Z",
     "iopub.status.busy": "2023-03-15T00:54:58.071584Z",
     "iopub.status.idle": "2023-03-15T00:54:58.419536Z",
     "shell.execute_reply": "2023-03-15T00:54:58.418540Z"
    },
    "papermill": {
     "duration": 0.359932,
     "end_time": "2023-03-15T00:54:58.422527",
     "exception": false,
     "start_time": "2023-03-15T00:54:58.062595",
     "status": "completed"
    },
    "tags": []
   },
   "outputs": [
    {
     "data": {
      "image/png": "[encoded data removed]",
      "text/plain": [
       "<Figure size 640x480 with 2 Axes>"
      ]
     },
     "metadata": {},
     "output_type": "display_data"
    }
   ],
   "source": [
    "fig, ax = plt.subplots()\n",
    "ax = sns.heatmap(eg_scl_multi_ts.T)\n",
    "#ax.set_title('Multivariate time series')\n",
    "ax.set_xlabel('line')\n",
    "plt.savefig('../pgf/features_multi_ts.pgf', backend='pgf')"
   ]
  },
  {
   "cell_type": "code",
   "execution_count": 19,
   "id": "b777bbe1",
   "metadata": {
    "execution": {
     "iopub.execute_input": "2023-03-15T00:54:58.462681Z",
     "iopub.status.busy": "2023-03-15T00:54:58.462082Z",
     "iopub.status.idle": "2023-03-15T00:54:58.469833Z",
     "shell.execute_reply": "2023-03-15T00:54:58.468910Z"
    },
    "papermill": {
     "duration": 0.033043,
     "end_time": "2023-03-15T00:54:58.472919",
     "exception": false,
     "start_time": "2023-03-15T00:54:58.439876",
     "status": "completed"
    },
    "tags": []
   },
   "outputs": [],
   "source": [
    "parts_of_lyrics = list(toy_lyrics['part'])\n",
    "color_map = {}\n",
    "for idx, part_of_lyrics in enumerate(list(dict.fromkeys(parts_of_lyrics))):    \n",
    "    # Map color excluding first color of the palette \n",
    "    color_map[part_of_lyrics] = sns.color_palette()[idx+1]"
   ]
  },
  {
   "cell_type": "code",
   "execution_count": 20,
   "id": "96989519",
   "metadata": {
    "execution": {
     "iopub.execute_input": "2023-03-15T00:54:58.516709Z",
     "iopub.status.busy": "2023-03-15T00:54:58.515778Z",
     "iopub.status.idle": "2023-03-15T00:54:58.521705Z",
     "shell.execute_reply": "2023-03-15T00:54:58.520466Z"
    },
    "papermill": {
     "duration": 0.029622,
     "end_time": "2023-03-15T00:54:58.523488",
     "exception": false,
     "start_time": "2023-03-15T00:54:58.493866",
     "status": "completed"
    },
    "tags": []
   },
   "outputs": [],
   "source": [
    "eg_uni_ts = np.mean(eg_scl_multi_ts.values, axis=1)"
   ]
  },
  {
   "cell_type": "code",
   "execution_count": 21,
   "id": "b8d0d546",
   "metadata": {
    "execution": {
     "iopub.execute_input": "2023-03-15T00:54:58.542988Z",
     "iopub.status.busy": "2023-03-15T00:54:58.542173Z",
     "iopub.status.idle": "2023-03-15T00:54:58.883764Z",
     "shell.execute_reply": "2023-03-15T00:54:58.882803Z"
    },
    "papermill": {
     "duration": 0.354612,
     "end_time": "2023-03-15T00:54:58.886799",
     "exception": false,
     "start_time": "2023-03-15T00:54:58.532187",
     "status": "completed"
    },
    "tags": []
   },
   "outputs": [
    {
     "data": {
      "image/png": "[encoded data removed]",
      "text/plain": [
       "<Figure size 640x480 with 1 Axes>"
      ]
     },
     "metadata": {},
     "output_type": "display_data"
    }
   ],
   "source": [
    "fig, ax = plt.subplots()\n",
    "ax = plt.plot(eg_uni_ts)\n",
    "# Draw dots representing parts of the lyrics\n",
    "ax =  sns.scatterplot(y = eg_uni_ts,\n",
    "                      x = range(len(eg_uni_ts)),\n",
    "                      hue=parts_of_lyrics, s=100,\n",
    "                      palette=color_map)\n",
    "\n",
    "#ax.set_title('Univariate time series')\n",
    "ax.set_xticks(range(len(eg_uni_ts)))\n",
    "ax.set_xlabel('line')\n",
    "plt.legend()\n",
    "\n",
    "plt.savefig('../pgf/features_uni_ts_avg.pgf', backend='pgf')"
   ]
  },
  {
   "cell_type": "code",
   "execution_count": 22,
   "id": "19543791",
   "metadata": {
    "execution": {
     "iopub.execute_input": "2023-03-15T00:54:58.935795Z",
     "iopub.status.busy": "2023-03-15T00:54:58.935496Z",
     "iopub.status.idle": "2023-03-15T00:54:58.940756Z",
     "shell.execute_reply": "2023-03-15T00:54:58.939338Z"
    },
    "papermill": {
     "duration": 0.034518,
     "end_time": "2023-03-15T00:54:58.944083",
     "exception": false,
     "start_time": "2023-03-15T00:54:58.909565",
     "status": "completed"
    },
    "tags": []
   },
   "outputs": [],
   "source": [
    "eg_uni_ts = np.max(eg_scl_multi_ts.values, axis=1)"
   ]
  },
  {
   "cell_type": "code",
   "execution_count": 23,
   "id": "4152d718",
   "metadata": {
    "execution": {
     "iopub.execute_input": "2023-03-15T00:54:58.980187Z",
     "iopub.status.busy": "2023-03-15T00:54:58.979504Z",
     "iopub.status.idle": "2023-03-15T00:54:59.347590Z",
     "shell.execute_reply": "2023-03-15T00:54:59.346928Z"
    },
    "papermill": {
     "duration": 0.385485,
     "end_time": "2023-03-15T00:54:59.351287",
     "exception": false,
     "start_time": "2023-03-15T00:54:58.965802",
     "status": "completed"
    },
    "tags": []
   },
   "outputs": [
    {
     "data": {
      "image/png": "[encoded data removed]",
      "text/plain": [
       "<Figure size 640x480 with 1 Axes>"
      ]
     },
     "metadata": {},
     "output_type": "display_data"
    }
   ],
   "source": [
    "fig, ax = plt.subplots()\n",
    "ax = plt.plot(eg_uni_ts)\n",
    "# Draw dots representing parts of the lyrics\n",
    "ax =  sns.scatterplot(y = eg_uni_ts,\n",
    "                      x = range(len(eg_uni_ts)),\n",
    "                      hue=parts_of_lyrics, s=100,\n",
    "                      palette=color_map)\n",
    "\n",
    "#ax.set_title('Univariate time series')\n",
    "ax.set_xticks(range(len(eg_uni_ts)))\n",
    "ax.set_xlabel('line')\n",
    "plt.legend()\n",
    "\n",
    "plt.savefig('../pgf/features_uni_ts_max.pgf', backend='pgf')"
   ]
  },
  {
   "cell_type": "code",
   "execution_count": 24,
   "id": "310047ab",
   "metadata": {
    "execution": {
     "iopub.execute_input": "2023-03-15T00:54:59.401415Z",
     "iopub.status.busy": "2023-03-15T00:54:59.400999Z",
     "iopub.status.idle": "2023-03-15T00:54:59.407348Z",
     "shell.execute_reply": "2023-03-15T00:54:59.406334Z"
    },
    "papermill": {
     "duration": 0.035083,
     "end_time": "2023-03-15T00:54:59.410642",
     "exception": false,
     "start_time": "2023-03-15T00:54:59.375559",
     "status": "completed"
    },
    "tags": []
   },
   "outputs": [],
   "source": [
    "pca = PCA(n_components=1, random_state=42)\n",
    "\n",
    "pca_output = pca.fit_transform(eg_scl_multi_ts.values)\n",
    "\n",
    "eg_uni_ts = np.array(list(map(\n",
    "    lambda unique_element: unique_element[0], pca_output)))"
   ]
  },
  {
   "cell_type": "code",
   "execution_count": 25,
   "id": "8fbb8769",
   "metadata": {},
   "outputs": [],
   "source": [
    "with open('../data/other/pca2_demo.tex', 'w') as f:\n",
    "    f.write(pd.DataFrame(eg_uni_ts).style.format(precision=3).hide(\n",
    "        axis='columns').hide(axis='index').to_latex(hrules=True))"
   ]
  },
  {
   "cell_type": "code",
   "execution_count": 26,
   "id": "ada00fdc",
   "metadata": {
    "execution": {
     "iopub.execute_input": "2023-03-15T00:54:59.449322Z",
     "iopub.status.busy": "2023-03-15T00:54:59.448383Z",
     "iopub.status.idle": "2023-03-15T00:54:59.810296Z",
     "shell.execute_reply": "2023-03-15T00:54:59.809319Z"
    },
    "papermill": {
     "duration": 0.379731,
     "end_time": "2023-03-15T00:54:59.813075",
     "exception": false,
     "start_time": "2023-03-15T00:54:59.433344",
     "status": "completed"
    },
    "tags": []
   },
   "outputs": [
    {
     "data": {
      "image/png": "[encoded data removed]",
      "text/plain": [
       "<Figure size 640x480 with 1 Axes>"
      ]
     },
     "metadata": {},
     "output_type": "display_data"
    }
   ],
   "source": [
    "fig, ax = plt.subplots()\n",
    "ax = plt.plot(eg_uni_ts)\n",
    "# Draw dots representing parts of the lyrics\n",
    "ax =  sns.scatterplot(y = eg_uni_ts,\n",
    "                      x = range(len(eg_uni_ts)),\n",
    "                      hue=parts_of_lyrics, s=100,\n",
    "                      palette=color_map)\n",
    "\n",
    "#ax.set_title('Univariate time series')\n",
    "ax.set_xticks(range(len(eg_uni_ts)))\n",
    "ax.set_xlabel('line')\n",
    "plt.legend()\n",
    "\n",
    "plt.savefig('../pgf/features_uni_ts_pca.pgf', backend='pgf')"
   ]
  },
  {
   "cell_type": "code",
   "execution_count": 27,
   "id": "b4c63fe4",
   "metadata": {
    "execution": {
     "iopub.execute_input": "2023-03-15T00:54:59.861698Z",
     "iopub.status.busy": "2023-03-15T00:54:59.861150Z",
     "iopub.status.idle": "2023-03-15T00:54:59.869817Z",
     "shell.execute_reply": "2023-03-15T00:54:59.868635Z"
    },
    "papermill": {
     "duration": 0.037656,
     "end_time": "2023-03-15T00:54:59.873401",
     "exception": false,
     "start_time": "2023-03-15T00:54:59.835745",
     "status": "completed"
    },
    "tags": []
   },
   "outputs": [],
   "source": [
    "global_scaler = joblib.load('../models/gpca/features_scaler.pkl')\n",
    "global_pca = joblib.load('../models/gpca/features_pca.pkl')"
   ]
  },
  {
   "cell_type": "code",
   "execution_count": 28,
   "id": "b5ceae51",
   "metadata": {
    "execution": {
     "iopub.execute_input": "2023-03-15T00:54:59.913383Z",
     "iopub.status.busy": "2023-03-15T00:54:59.912908Z",
     "iopub.status.idle": "2023-03-15T00:54:59.917857Z",
     "shell.execute_reply": "2023-03-15T00:54:59.916975Z"
    },
    "papermill": {
     "duration": 0.020689,
     "end_time": "2023-03-15T00:54:59.919843",
     "exception": false,
     "start_time": "2023-03-15T00:54:59.899154",
     "status": "completed"
    },
    "tags": []
   },
   "outputs": [],
   "source": [
    "pca_output = global_pca.transform(\n",
    "    global_scaler.transform(eg_multi_ts.values))\n",
    "\n",
    "eg_uni_ts = np.array(list(map(\n",
    "    lambda unique_element: unique_element[0], pca_output)))"
   ]
  },
  {
   "cell_type": "code",
   "execution_count": 29,
   "id": "d131dc90",
   "metadata": {
    "execution": {
     "iopub.execute_input": "2023-03-15T00:54:59.939428Z",
     "iopub.status.busy": "2023-03-15T00:54:59.939147Z",
     "iopub.status.idle": "2023-03-15T00:55:00.287459Z",
     "shell.execute_reply": "2023-03-15T00:55:00.286873Z"
    },
    "papermill": {
     "duration": 0.362373,
     "end_time": "2023-03-15T00:55:00.291163",
     "exception": false,
     "start_time": "2023-03-15T00:54:59.928790",
     "status": "completed"
    },
    "tags": []
   },
   "outputs": [
    {
     "data": {
      "image/png": "[encoded data removed]",
      "text/plain": [
       "<Figure size 640x480 with 1 Axes>"
      ]
     },
     "metadata": {},
     "output_type": "display_data"
    }
   ],
   "source": [
    "fig, ax = plt.subplots()\n",
    "ax = plt.plot(eg_uni_ts)\n",
    "# Draw dots representing parts of the lyrics\n",
    "ax =  sns.scatterplot(y = eg_uni_ts,\n",
    "                      x = range(len(eg_uni_ts)),\n",
    "                      hue=parts_of_lyrics, s=100,\n",
    "                      palette=color_map)\n",
    "\n",
    "#ax.set_title('Univariate time series')\n",
    "ax.set_xticks(range(len(eg_uni_ts)))\n",
    "ax.set_xlabel('line')\n",
    "\n",
    "plt.legend()\n",
    "\n",
    "plt.savefig('../pgf/features_uni_ts_gpca.pgf', backend='pgf')"
   ]
  },
  {
   "cell_type": "code",
   "execution_count": 30,
   "id": "f75a4f65",
   "metadata": {
    "execution": {
     "iopub.execute_input": "2023-03-15T00:55:00.346436Z",
     "iopub.status.busy": "2023-03-15T00:55:00.346139Z",
     "iopub.status.idle": "2023-03-15T00:55:00.354768Z",
     "shell.execute_reply": "2023-03-15T00:55:00.353826Z"
    },
    "papermill": {
     "duration": 0.039781,
     "end_time": "2023-03-15T00:55:00.357826",
     "exception": false,
     "start_time": "2023-03-15T00:55:00.318045",
     "status": "completed"
    },
    "tags": []
   },
   "outputs": [],
   "source": [
    "def generate_uni_ts(multi_ts, normalize=False, pooling_method='avg', scaler=None, pca=None):\n",
    "    \"\"\"\n",
    "    Convert a multi-variate time series represented as a numpy array into a uni-variate time series.\n",
    "    \n",
    "    Parameters\n",
    "    ----------\n",
    "    multi_ts : numpy array\n",
    "        A 2D array representing the multi-variate time series with shape (n_samples, n_features)\n",
    "    normalize: bool, optional\n",
    "        Whether to normalize the input data using standard scaler. Default is False.\n",
    "    pooling_method : str, optional\n",
    "        The method to use for pooling the multi-variate time series into a uni-variate time series.\n",
    "        Must be one of 'avg', 'max', or 'pca'. Default is 'avg'.\n",
    "    scaler: object, optional\n",
    "        Scaler object to use to normalize the data. Default is None.\n",
    "    pca: object, optional\n",
    "        PCA object to use to reduce the data. Default is None.\n",
    "        \n",
    "    Returns\n",
    "    -------\n",
    "    uni_ts : numpy array\n",
    "        A 1D array representing the uni-variate time series with shape (n_samples,)\n",
    "        \n",
    "    Raises\n",
    "    ------\n",
    "    ValueError\n",
    "        If an invalid value is passed for the pooling_method\n",
    "    \"\"\"\n",
    "    if normalize:\n",
    "        if scaler is None:\n",
    "            scaler = StandardScaler()\n",
    "            multi_ts = scaler.fit_transform(multi_ts)\n",
    "        else:\n",
    "            multi_ts = scaler.transform(multi_ts)\n",
    "    if pooling_method=='avg':            \n",
    "        uni_ts = np.mean(multi_ts, axis=1)            \n",
    "    elif pooling_method=='max':            \n",
    "        uni_ts = np.max(multi_ts, axis=1)            \n",
    "    elif pooling_method=='pca':                \n",
    "        if pca is None:            \n",
    "            pca = PCA(n_components=1, random_state=42)\n",
    "            pca_output = pca.fit_transform(multi_ts)\n",
    "        else: \n",
    "            pca_output = pca.transform(multi_ts)       \n",
    "        uni_ts = np.array(list(\n",
    "            map(lambda unique_element: unique_element[0] , pca_output)))                                     \n",
    "    else:\n",
    "        raise ValueError(\"Invalid pooling_method passed. Please use either 'avg', 'max' or 'pca'.\")        \n",
    "    return uni_ts"
   ]
  },
  {
   "cell_type": "code",
   "execution_count": 31,
   "id": "1c731245",
   "metadata": {
    "execution": {
     "iopub.execute_input": "2023-03-15T00:55:00.400531Z",
     "iopub.status.busy": "2023-03-15T00:55:00.400184Z",
     "iopub.status.idle": "2023-03-15T00:56:21.878838Z",
     "shell.execute_reply": "2023-03-15T00:56:21.877901Z"
    },
    "papermill": {
     "duration": 81.497403,
     "end_time": "2023-03-15T00:56:21.881975",
     "exception": false,
     "start_time": "2023-03-15T00:55:00.384572",
     "status": "completed"
    },
    "tags": []
   },
   "outputs": [
    {
     "data": {
      "text/plain": [
       "'\\nmethods = [{\\'pooling_method\\': \\'avg\\', \\'normalize\\': True, \\'scaler\\': None, \\'pca\\': None, \\'filename\\': \\'avg\\'},\\n           {\\'pooling_method\\': \\'max\\', \\'normalize\\': True, \\'scaler\\': None, \\'pca\\': None, \\'filename\\': \\'max\\'},\\n           {\\'pooling_method\\': \\'pca\\', \\'normalize\\': True, \\'scaler\\': None, \\'pca\\': None, \\'filename\\': \\'pca\\'},\\n           {\\'pooling_method\\': \\'pca\\', \\'normalize\\': True, \\'scaler\\': global_scaler, \\'pca\\': global_pca, \\'filename\\': \\'gpca\\'},\\n           ]\\n\\nexecution_times = []\\nfor method in methods:        \\n    ts_data = {}\\n    for lyrics_type in [\\'lyrics\\', \\'similar_lyrics\\', \\'random_lyrics\\']:        \\n        ts_data[lyrics_type] = []\\n        for lyr in df[lyrics_type]:\\n            start_time = time.time()\\n            multi_ts = pd.DataFrame(lyrics_statistics(lyr))\\n            end_time = time.time()\\n            execution_time = end_time - start_time\\n            execution_times.append(execution_time)\\n            uni_ts = generate_uni_ts(multi_ts.values, \\n                                     normalize=method[\\'normalize\\'], \\n                                     pooling_method=method[\\'pooling_method\\'],\\n                                     scaler=method[\\'scaler\\'],\\n                                     pca=method[\\'pca\\'])\\n            uni_ts = list(uni_ts)\\n            ts_data[lyrics_type].append(uni_ts)\\n    ts_data = pd.DataFrame(ts_data)\\n    filename = f\\'../data/evaluation/time-series/features_{method[\"filename\"]}_ts.csv\\'\\n    ts_data.to_csv(filename, index=False)\\n'"
      ]
     },
     "execution_count": 31,
     "metadata": {},
     "output_type": "execute_result"
    }
   ],
   "source": [
    "\"\"\"\n",
    "methods = [{'pooling_method': 'avg', 'normalize': True, 'scaler': None, 'pca': None, 'filename': 'avg'},\n",
    "           {'pooling_method': 'max', 'normalize': True, 'scaler': None, 'pca': None, 'filename': 'max'},\n",
    "           {'pooling_method': 'pca', 'normalize': True, 'scaler': None, 'pca': None, 'filename': 'pca'},\n",
    "           {'pooling_method': 'pca', 'normalize': True, 'scaler': global_scaler, 'pca': global_pca, 'filename': 'gpca'},\n",
    "           ]\n",
    "\n",
    "execution_times = []\n",
    "for method in methods:        \n",
    "    ts_data = {}\n",
    "    for lyrics_type in ['lyrics', 'similar_lyrics', 'random_lyrics']:        \n",
    "        ts_data[lyrics_type] = []\n",
    "        for lyr in df[lyrics_type]:\n",
    "            start_time = time.time()\n",
    "            multi_ts = pd.DataFrame(lyrics_statistics(lyr))\n",
    "            end_time = time.time()\n",
    "            execution_time = end_time - start_time\n",
    "            execution_times.append(execution_time)\n",
    "            uni_ts = generate_uni_ts(multi_ts.values, \n",
    "                                     normalize=method['normalize'], \n",
    "                                     pooling_method=method['pooling_method'],\n",
    "                                     scaler=method['scaler'],\n",
    "                                     pca=method['pca'])\n",
    "            uni_ts = list(uni_ts)\n",
    "            ts_data[lyrics_type].append(uni_ts)\n",
    "    ts_data = pd.DataFrame(ts_data)\n",
    "    filename = f'../data/evaluation/time-series/features_{method[\"filename\"]}_ts.csv'\n",
    "    ts_data.to_csv(filename, index=False)\n",
    "\"\"\""
   ]
  },
  {
   "cell_type": "code",
   "execution_count": 32,
   "id": "9bafc058",
   "metadata": {
    "execution": {
     "iopub.execute_input": "2023-03-15T00:56:21.935151Z",
     "iopub.status.busy": "2023-03-15T00:56:21.934649Z",
     "iopub.status.idle": "2023-03-15T00:56:21.942781Z",
     "shell.execute_reply": "2023-03-15T00:56:21.941744Z"
    },
    "papermill": {
     "duration": 0.036179,
     "end_time": "2023-03-15T00:56:21.945012",
     "exception": false,
     "start_time": "2023-03-15T00:56:21.908833",
     "status": "completed"
    },
    "tags": []
   },
   "outputs": [
    {
     "data": {
      "text/plain": [
       "'\\nnp.mean(execution_times)\\n'"
      ]
     },
     "execution_count": 32,
     "metadata": {},
     "output_type": "execute_result"
    }
   ],
   "source": [
    "\"\"\"\n",
    "np.mean(execution_times)\n",
    "\"\"\""
   ]
  },
  {
   "cell_type": "raw",
   "id": "87dd1112",
   "metadata": {},
   "source": [
    "np.mean(execution_times)\n",
    "\n",
    "0.04447436412175496"
   ]
  }
 ],
 "metadata": {
  "kernelspec": {
   "display_name": "Python 3 (ipykernel)",
   "language": "python",
   "name": "python3"
  },
  "language_info": {
   "codemirror_mode": {
    "name": "ipython",
    "version": 3
   },
   "file_extension": ".py",
   "mimetype": "text/x-python",
   "name": "python",
   "nbconvert_exporter": "python",
   "pygments_lexer": "ipython3",
   "version": "3.9.16"
  },
  "papermill": {
   "default_parameters": {},
   "duration": 89.659577,
   "end_time": "2023-03-15T00:56:22.801663",
   "environment_variables": {},
   "exception": null,
   "input_path": "04_features_ts_generation.ipynb",
   "output_path": "04_features_ts_generation.ipynb",
   "parameters": {},
   "start_time": "2023-03-15T00:54:53.142086",
   "version": "2.4.0"
  },
  "vscode": {
   "interpreter": {
    "hash": "eb8d1ded7c87c6f9c253b40add648304d6b51d2e38393955e855effc7e6f899a"
   }
  }
 },
 "nbformat": 4,
 "nbformat_minor": 5
}
