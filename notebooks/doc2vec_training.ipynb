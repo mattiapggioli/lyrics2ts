{
 "cells": [
  {
   "attachments": {},
   "cell_type": "markdown",
   "id": "6e528373",
   "metadata": {
    "papermill": {
     "duration": 0.004544,
     "end_time": "2023-02-12T17:11:28.540199",
     "exception": false,
     "start_time": "2023-02-12T17:11:28.535655",
     "status": "completed"
    },
    "tags": []
   },
   "source": [
    "# Doc2Vec Model Training"
   ]
  },
  {
   "cell_type": "code",
   "execution_count": 1,
   "id": "65db735e",
   "metadata": {
    "execution": {
     "iopub.execute_input": "2023-02-12T17:11:28.550475Z",
     "iopub.status.busy": "2023-02-12T17:11:28.549308Z",
     "iopub.status.idle": "2023-02-12T17:11:30.391266Z",
     "shell.execute_reply": "2023-02-12T17:11:30.390453Z"
    },
    "papermill": {
     "duration": 1.850288,
     "end_time": "2023-02-12T17:11:30.394324",
     "exception": false,
     "start_time": "2023-02-12T17:11:28.544036",
     "status": "completed"
    },
    "tags": []
   },
   "outputs": [],
   "source": [
    "%matplotlib inline\n",
    "import pandas as pd\n",
    "import numpy as np\n",
    "import ast\n",
    "from nltk.corpus import stopwords\n",
    "from gensim.utils import tokenize\n",
    "from gensim.models.doc2vec import Doc2Vec, TaggedDocument"
   ]
  },
  {
   "cell_type": "code",
   "execution_count": 2,
   "id": "7b37dd7d",
   "metadata": {
    "execution": {
     "iopub.execute_input": "2023-02-12T17:11:30.411334Z",
     "iopub.status.busy": "2023-02-12T17:11:30.410787Z",
     "iopub.status.idle": "2023-02-12T17:11:31.386476Z",
     "shell.execute_reply": "2023-02-12T17:11:31.385680Z"
    },
    "papermill": {
     "duration": 0.987303,
     "end_time": "2023-02-12T17:11:31.389452",
     "exception": false,
     "start_time": "2023-02-12T17:11:30.402149",
     "status": "completed"
    },
    "tags": []
   },
   "outputs": [],
   "source": [
    "df = pd.read_csv('../data/lyrics.csv')"
   ]
  },
  {
   "cell_type": "code",
   "execution_count": 3,
   "id": "9bff5497",
   "metadata": {
    "execution": {
     "iopub.execute_input": "2023-02-12T17:11:31.406773Z",
     "iopub.status.busy": "2023-02-12T17:11:31.406485Z",
     "iopub.status.idle": "2023-02-12T17:11:31.420745Z",
     "shell.execute_reply": "2023-02-12T17:11:31.419686Z"
    },
    "papermill": {
     "duration": 0.028142,
     "end_time": "2023-02-12T17:11:31.424958",
     "exception": false,
     "start_time": "2023-02-12T17:11:31.396816",
     "status": "completed"
    },
    "tags": []
   },
   "outputs": [
    {
     "data": {
      "text/html": [
       "<div>\n",
       "<style scoped>\n",
       "    .dataframe tbody tr th:only-of-type {\n",
       "        vertical-align: middle;\n",
       "    }\n",
       "\n",
       "    .dataframe tbody tr th {\n",
       "        vertical-align: top;\n",
       "    }\n",
       "\n",
       "    .dataframe thead th {\n",
       "        text-align: right;\n",
       "    }\n",
       "</style>\n",
       "<table border=\"1\" class=\"dataframe\">\n",
       "  <thead>\n",
       "    <tr style=\"text-align: right;\">\n",
       "      <th></th>\n",
       "      <th>lyrics</th>\n",
       "      <th>genre</th>\n",
       "      <th>id</th>\n",
       "    </tr>\n",
       "  </thead>\n",
       "  <tbody>\n",
       "    <tr>\n",
       "      <th>0</th>\n",
       "      <td>['I feel so unsure', 'As I take your hand and ...</td>\n",
       "      <td>pop</td>\n",
       "      <td>0</td>\n",
       "    </tr>\n",
       "    <tr>\n",
       "      <th>1</th>\n",
       "      <td>[\"Don't let them fool, ya\", 'Or even try to sc...</td>\n",
       "      <td>pop</td>\n",
       "      <td>1</td>\n",
       "    </tr>\n",
       "    <tr>\n",
       "      <th>2</th>\n",
       "      <td>[\"Baby, let's cruise, away from here\", \"Don't ...</td>\n",
       "      <td>pop</td>\n",
       "      <td>2</td>\n",
       "    </tr>\n",
       "    <tr>\n",
       "      <th>3</th>\n",
       "      <td>['Know it sounds funny', \"But, I just can't st...</td>\n",
       "      <td>pop</td>\n",
       "      <td>3</td>\n",
       "    </tr>\n",
       "    <tr>\n",
       "      <th>4</th>\n",
       "      <td>[\"You've got that look again\", 'The one I hope...</td>\n",
       "      <td>pop</td>\n",
       "      <td>4</td>\n",
       "    </tr>\n",
       "  </tbody>\n",
       "</table>\n",
       "</div>"
      ],
      "text/plain": [
       "                                              lyrics genre  id\n",
       "0  ['I feel so unsure', 'As I take your hand and ...   pop   0\n",
       "1  [\"Don't let them fool, ya\", 'Or even try to sc...   pop   1\n",
       "2  [\"Baby, let's cruise, away from here\", \"Don't ...   pop   2\n",
       "3  ['Know it sounds funny', \"But, I just can't st...   pop   3\n",
       "4  [\"You've got that look again\", 'The one I hope...   pop   4"
      ]
     },
     "execution_count": 3,
     "metadata": {},
     "output_type": "execute_result"
    }
   ],
   "source": [
    "df.head()"
   ]
  },
  {
   "cell_type": "code",
   "execution_count": 4,
   "id": "1fe2942e",
   "metadata": {
    "execution": {
     "iopub.execute_input": "2023-02-12T17:11:31.445221Z",
     "iopub.status.busy": "2023-02-12T17:11:31.444786Z",
     "iopub.status.idle": "2023-02-12T17:11:31.478092Z",
     "shell.execute_reply": "2023-02-12T17:11:31.476881Z"
    },
    "papermill": {
     "duration": 0.045458,
     "end_time": "2023-02-12T17:11:31.479791",
     "exception": false,
     "start_time": "2023-02-12T17:11:31.434333",
     "status": "completed"
    },
    "tags": []
   },
   "outputs": [
    {
     "name": "stdout",
     "output_type": "stream",
     "text": [
      "<class 'pandas.core.frame.DataFrame'>\n",
      "RangeIndex: 54350 entries, 0 to 54349\n",
      "Data columns (total 3 columns):\n",
      " #   Column  Non-Null Count  Dtype \n",
      "---  ------  --------------  ----- \n",
      " 0   lyrics  54350 non-null  object\n",
      " 1   genre   54350 non-null  object\n",
      " 2   id      54350 non-null  int64 \n",
      "dtypes: int64(1), object(2)\n",
      "memory usage: 1.2+ MB\n"
     ]
    }
   ],
   "source": [
    "df.info()"
   ]
  },
  {
   "cell_type": "code",
   "execution_count": 5,
   "id": "708ef208",
   "metadata": {
    "execution": {
     "iopub.execute_input": "2023-02-12T17:11:31.487795Z",
     "iopub.status.busy": "2023-02-12T17:11:31.487325Z",
     "iopub.status.idle": "2023-02-12T17:11:36.456307Z",
     "shell.execute_reply": "2023-02-12T17:11:36.455437Z"
    },
    "papermill": {
     "duration": 4.976466,
     "end_time": "2023-02-12T17:11:36.459295",
     "exception": false,
     "start_time": "2023-02-12T17:11:31.482829",
     "status": "completed"
    },
    "tags": []
   },
   "outputs": [],
   "source": [
    "df['lyrics'] = list(map(lambda x: ast.literal_eval(x), df['lyrics']))"
   ]
  },
  {
   "cell_type": "code",
   "execution_count": 6,
   "id": "7ef40c51",
   "metadata": {
    "execution": {
     "iopub.execute_input": "2023-02-12T17:11:36.479485Z",
     "iopub.status.busy": "2023-02-12T17:11:36.479192Z",
     "iopub.status.idle": "2023-02-12T17:11:36.685808Z",
     "shell.execute_reply": "2023-02-12T17:11:36.685040Z"
    },
    "papermill": {
     "duration": 0.218795,
     "end_time": "2023-02-12T17:11:36.688554",
     "exception": false,
     "start_time": "2023-02-12T17:11:36.469759",
     "status": "completed"
    },
    "tags": []
   },
   "outputs": [],
   "source": [
    "idxs_eval = pd.read_csv('../data/evaluation/lyrics_eval.csv')['id']\n",
    "idxs_test = pd.read_csv('../data/classification/lyrics_test.csv')['id']"
   ]
  },
  {
   "cell_type": "code",
   "execution_count": 7,
   "id": "f54e77e7",
   "metadata": {
    "execution": {
     "iopub.execute_input": "2023-02-12T17:11:36.708296Z",
     "iopub.status.busy": "2023-02-12T17:11:36.707680Z",
     "iopub.status.idle": "2023-02-12T17:11:36.713905Z",
     "shell.execute_reply": "2023-02-12T17:11:36.712950Z"
    },
    "papermill": {
     "duration": 0.018999,
     "end_time": "2023-02-12T17:11:36.716817",
     "exception": false,
     "start_time": "2023-02-12T17:11:36.697818",
     "status": "completed"
    },
    "tags": []
   },
   "outputs": [],
   "source": [
    "indexes2delete = list(idxs_eval) + list(idxs_test)"
   ]
  },
  {
   "cell_type": "code",
   "execution_count": 8,
   "id": "461f2924",
   "metadata": {
    "execution": {
     "iopub.execute_input": "2023-02-12T17:11:36.782773Z",
     "iopub.status.busy": "2023-02-12T17:11:36.781898Z",
     "iopub.status.idle": "2023-02-12T17:11:36.804383Z",
     "shell.execute_reply": "2023-02-12T17:11:36.803200Z"
    },
    "papermill": {
     "duration": 0.030152,
     "end_time": "2023-02-12T17:11:36.806619",
     "exception": false,
     "start_time": "2023-02-12T17:11:36.776467",
     "status": "completed"
    },
    "tags": []
   },
   "outputs": [],
   "source": [
    "df = df.drop(indexes2delete)\n",
    "df = df.reset_index()"
   ]
  },
  {
   "cell_type": "code",
   "execution_count": 9,
   "id": "1a10eef2",
   "metadata": {
    "execution": {
     "iopub.execute_input": "2023-02-12T17:11:36.817613Z",
     "iopub.status.busy": "2023-02-12T17:11:36.816893Z",
     "iopub.status.idle": "2023-02-12T17:11:36.952261Z",
     "shell.execute_reply": "2023-02-12T17:11:36.951080Z"
    },
    "papermill": {
     "duration": 0.145288,
     "end_time": "2023-02-12T17:11:36.955959",
     "exception": false,
     "start_time": "2023-02-12T17:11:36.810671",
     "status": "completed"
    },
    "tags": []
   },
   "outputs": [],
   "source": [
    "verses = [verse for lyrics in df['lyrics'] for verse in lyrics]"
   ]
  },
  {
   "attachments": {},
   "cell_type": "markdown",
   "id": "b5a4b293",
   "metadata": {
    "papermill": {
     "duration": 0.008283,
     "end_time": "2023-02-12T17:11:36.972686",
     "exception": false,
     "start_time": "2023-02-12T17:11:36.964403",
     "status": "completed"
    },
    "tags": []
   },
   "source": [
    "## Tokenization and stop words removal"
   ]
  },
  {
   "cell_type": "code",
   "execution_count": 10,
   "id": "4e67e205",
   "metadata": {
    "execution": {
     "iopub.execute_input": "2023-02-12T17:11:36.990871Z",
     "iopub.status.busy": "2023-02-12T17:11:36.990526Z",
     "iopub.status.idle": "2023-02-12T17:11:55.612821Z",
     "shell.execute_reply": "2023-02-12T17:11:55.611608Z"
    },
    "papermill": {
     "duration": 18.63481,
     "end_time": "2023-02-12T17:11:55.615539",
     "exception": false,
     "start_time": "2023-02-12T17:11:36.980729",
     "status": "completed"
    },
    "tags": []
   },
   "outputs": [],
   "source": [
    "tokenized_verses = [list(tokenize(verse, lowercase=True)) for verse in verses]"
   ]
  },
  {
   "cell_type": "code",
   "execution_count": 11,
   "id": "5086fc1b",
   "metadata": {
    "execution": {
     "iopub.execute_input": "2023-02-12T17:11:55.632288Z",
     "iopub.status.busy": "2023-02-12T17:11:55.631911Z",
     "iopub.status.idle": "2023-02-12T17:12:16.529711Z",
     "shell.execute_reply": "2023-02-12T17:12:16.528783Z"
    },
    "papermill": {
     "duration": 20.909974,
     "end_time": "2023-02-12T17:12:16.532630",
     "exception": false,
     "start_time": "2023-02-12T17:11:55.622656",
     "status": "completed"
    },
    "tags": []
   },
   "outputs": [],
   "source": [
    "stop_words = stopwords.words('english')\n",
    "tokenized_verses = list(map(lambda x: [token for token in x if token not in stop_words], tokenized_verses))\n",
    "tokenized_verses = [verse for verse in tokenized_verses if verse]\n"
   ]
  },
  {
   "attachments": {},
   "cell_type": "markdown",
   "id": "b96b5d06",
   "metadata": {
    "papermill": {
     "duration": 0.008285,
     "end_time": "2023-02-12T17:12:16.548710",
     "exception": false,
     "start_time": "2023-02-12T17:12:16.540425",
     "status": "completed"
    },
    "tags": []
   },
   "source": [
    "## Model Training"
   ]
  },
  {
   "cell_type": "code",
   "execution_count": 12,
   "id": "32149e05",
   "metadata": {
    "execution": {
     "iopub.execute_input": "2023-02-12T17:12:16.566438Z",
     "iopub.status.busy": "2023-02-12T17:12:16.566146Z",
     "iopub.status.idle": "2023-02-12T17:12:21.016730Z",
     "shell.execute_reply": "2023-02-12T17:12:21.015888Z"
    },
    "papermill": {
     "duration": 4.463175,
     "end_time": "2023-02-12T17:12:21.019782",
     "exception": false,
     "start_time": "2023-02-12T17:12:16.556607",
     "status": "completed"
    },
    "tags": []
   },
   "outputs": [],
   "source": [
    "documents = [TaggedDocument(verse, [i]) for i, verse in enumerate(tokenized_verses)]"
   ]
  },
  {
   "cell_type": "code",
   "execution_count": 13,
   "id": "897a96d5",
   "metadata": {
    "execution": {
     "iopub.execute_input": "2023-02-12T17:12:21.038131Z",
     "iopub.status.busy": "2023-02-12T17:12:21.037838Z",
     "iopub.status.idle": "2023-02-12T18:03:29.772472Z",
     "shell.execute_reply": "2023-02-12T18:03:29.753578Z"
    },
    "papermill": {
     "duration": 3068.795272,
     "end_time": "2023-02-12T18:03:29.823655",
     "exception": false,
     "start_time": "2023-02-12T17:12:21.028383",
     "status": "completed"
    },
    "tags": []
   },
   "outputs": [],
   "source": [
    "model = Doc2Vec(min_count=2, epochs=20, vector_size=50)\n",
    "\n",
    "model.build_vocab(documents)\n",
    "\n",
    "model.train(documents, total_examples=model.corpus_count, epochs=model.epochs)\n",
    "\n",
    "model.save('../models/doc2vec.model')\n"
   ]
  },
  {
   "cell_type": "code",
   "execution_count": null,
   "id": "c9599dc6",
   "metadata": {
    "papermill": {
     "duration": 0.006012,
     "end_time": "2023-02-12T18:03:29.878337",
     "exception": false,
     "start_time": "2023-02-12T18:03:29.872325",
     "status": "completed"
    },
    "tags": []
   },
   "outputs": [],
   "source": []
  }
 ],
 "metadata": {
  "kernelspec": {
   "display_name": ".venv",
   "language": "python",
   "name": "python3"
  },
  "language_info": {
   "codemirror_mode": {
    "name": "ipython",
    "version": 3
   },
   "file_extension": ".py",
   "mimetype": "text/x-python",
   "name": "python",
   "nbconvert_exporter": "python",
   "pygments_lexer": "ipython3",
   "version": "3.9.16"
  },
  "papermill": {
   "default_parameters": {},
   "duration": 3125.439314,
   "end_time": "2023-02-12T18:03:32.676032",
   "environment_variables": {},
   "exception": null,
   "input_path": "doc2vec_training.ipynb",
   "output_path": "doc2vec_training.ipynb",
   "parameters": {},
   "start_time": "2023-02-12T17:11:27.236718",
   "version": "2.4.0"
  },
  "vscode": {
   "interpreter": {
    "hash": "eb8d1ded7c87c6f9c253b40add648304d6b51d2e38393955e855effc7e6f899a"
   }
  }
 },
 "nbformat": 4,
 "nbformat_minor": 5
}