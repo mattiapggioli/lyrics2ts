{
 "cells": [
  {
   "attachments": {},
   "cell_type": "markdown",
   "metadata": {},
   "source": [
    "# Doc2Vec Model Training"
   ]
  },
  {
   "cell_type": "code",
   "execution_count": 1,
   "metadata": {},
   "outputs": [],
   "source": [
    "%matplotlib inline\n",
    "import pandas as pd\n",
    "import numpy as np\n",
    "from matplotlib import pyplot as plt\n",
    "import seaborn as sns\n",
    "from tqdm import tqdm\n",
    "import random\n",
    "import ast\n",
    "from nltk.corpus import stopwords\n",
    "from gensim.utils import tokenize\n",
    "from gensim.models.doc2vec import Doc2Vec, TaggedDocument"
   ]
  },
  {
   "cell_type": "code",
   "execution_count": 2,
   "metadata": {},
   "outputs": [],
   "source": [
    "df = pd.read_csv('../data/lyrics.csv')"
   ]
  },
  {
   "cell_type": "code",
   "execution_count": 3,
   "metadata": {},
   "outputs": [
    {
     "data": {
      "text/html": [
       "<div>\n",
       "<style scoped>\n",
       "    .dataframe tbody tr th:only-of-type {\n",
       "        vertical-align: middle;\n",
       "    }\n",
       "\n",
       "    .dataframe tbody tr th {\n",
       "        vertical-align: top;\n",
       "    }\n",
       "\n",
       "    .dataframe thead th {\n",
       "        text-align: right;\n",
       "    }\n",
       "</style>\n",
       "<table border=\"1\" class=\"dataframe\">\n",
       "  <thead>\n",
       "    <tr style=\"text-align: right;\">\n",
       "      <th></th>\n",
       "      <th>lyrics</th>\n",
       "      <th>genre</th>\n",
       "      <th>outlier</th>\n",
       "      <th>id</th>\n",
       "    </tr>\n",
       "  </thead>\n",
       "  <tbody>\n",
       "    <tr>\n",
       "      <th>0</th>\n",
       "      <td>['Go, go, go, go', 'Go, go, go shawty', \"It's ...</td>\n",
       "      <td>rap</td>\n",
       "      <td>False</td>\n",
       "      <td>0</td>\n",
       "    </tr>\n",
       "    <tr>\n",
       "      <th>1</th>\n",
       "      <td>['New York City!', 'You are now rapping...with...</td>\n",
       "      <td>rap</td>\n",
       "      <td>False</td>\n",
       "      <td>1</td>\n",
       "    </tr>\n",
       "    <tr>\n",
       "      <th>2</th>\n",
       "      <td>[\"I don't know what you heard about me\", \"But ...</td>\n",
       "      <td>rap</td>\n",
       "      <td>False</td>\n",
       "      <td>2</td>\n",
       "    </tr>\n",
       "    <tr>\n",
       "      <th>3</th>\n",
       "      <td>['Man we gotta go get something to eat man', \"...</td>\n",
       "      <td>rap</td>\n",
       "      <td>False</td>\n",
       "      <td>3</td>\n",
       "    </tr>\n",
       "    <tr>\n",
       "      <th>4</th>\n",
       "      <td>['Yeah...', 'Uh huh', 'So seductive', \"I'll ta...</td>\n",
       "      <td>rap</td>\n",
       "      <td>False</td>\n",
       "      <td>4</td>\n",
       "    </tr>\n",
       "  </tbody>\n",
       "</table>\n",
       "</div>"
      ],
      "text/plain": [
       "                                              lyrics genre  outlier  id\n",
       "0  ['Go, go, go, go', 'Go, go, go shawty', \"It's ...   rap    False   0\n",
       "1  ['New York City!', 'You are now rapping...with...   rap    False   1\n",
       "2  [\"I don't know what you heard about me\", \"But ...   rap    False   2\n",
       "3  ['Man we gotta go get something to eat man', \"...   rap    False   3\n",
       "4  ['Yeah...', 'Uh huh', 'So seductive', \"I'll ta...   rap    False   4"
      ]
     },
     "execution_count": 3,
     "metadata": {},
     "output_type": "execute_result"
    }
   ],
   "source": [
    "df.head()"
   ]
  },
  {
   "cell_type": "code",
   "execution_count": 4,
   "metadata": {},
   "outputs": [
    {
     "name": "stdout",
     "output_type": "stream",
     "text": [
      "<class 'pandas.core.frame.DataFrame'>\n",
      "RangeIndex: 37015 entries, 0 to 37014\n",
      "Data columns (total 4 columns):\n",
      " #   Column   Non-Null Count  Dtype \n",
      "---  ------   --------------  ----- \n",
      " 0   lyrics   37015 non-null  object\n",
      " 1   genre    37015 non-null  object\n",
      " 2   outlier  37015 non-null  bool  \n",
      " 3   id       37015 non-null  int64 \n",
      "dtypes: bool(1), int64(1), object(2)\n",
      "memory usage: 903.8+ KB\n"
     ]
    }
   ],
   "source": [
    "df.info()"
   ]
  },
  {
   "cell_type": "code",
   "execution_count": 5,
   "metadata": {},
   "outputs": [],
   "source": [
    "df['lyrics'] = list(map(lambda x: ast.literal_eval(x), df['lyrics']))"
   ]
  },
  {
   "cell_type": "code",
   "execution_count": 6,
   "metadata": {},
   "outputs": [],
   "source": [
    "idxs_eval = pd.read_csv('../data/evaluation/lyrics_eval.csv')['id']\n",
    "idxs_test = pd.read_csv('../data/classification/lyrics_test.csv')['id']"
   ]
  },
  {
   "cell_type": "code",
   "execution_count": 7,
   "metadata": {},
   "outputs": [],
   "source": [
    "indexes2delete = list(idxs_eval) + list(idxs_test)"
   ]
  },
  {
   "cell_type": "code",
   "execution_count": 8,
   "metadata": {},
   "outputs": [],
   "source": [
    "df.drop(indexes2delete, inplace=True)\n",
    "df.reset_index(inplace=True)"
   ]
  },
  {
   "cell_type": "code",
   "execution_count": 9,
   "metadata": {},
   "outputs": [],
   "source": [
    "verses = [verse for lyrics in df['lyrics'] for verse in lyrics]"
   ]
  },
  {
   "cell_type": "code",
   "execution_count": 10,
   "metadata": {},
   "outputs": [],
   "source": [
    "#lyrics_with_genre = zip(list(df['lyrics']), list(df['genre']))\n",
    "\n",
    "#verses_with_genre = [(verse, genre) for lyrics, genre in lyrics_with_genre for verse in lyrics]\n",
    "\n",
    "#verses = [verse for verse, genre in verses_with_genre]\n",
    "#genres = [genre for verse, genre in verses_with_genre]"
   ]
  },
  {
   "attachments": {},
   "cell_type": "markdown",
   "metadata": {},
   "source": [
    "## Doc2Vec"
   ]
  },
  {
   "attachments": {},
   "cell_type": "markdown",
   "metadata": {},
   "source": [
    "### Tokenization"
   ]
  },
  {
   "cell_type": "code",
   "execution_count": 11,
   "metadata": {},
   "outputs": [
    {
     "name": "stderr",
     "output_type": "stream",
     "text": [
      "100%|██████████| 1509821/1509821 [00:24<00:00, 62604.18it/s] \n"
     ]
    }
   ],
   "source": [
    "tokenized_verses = [list(tokenize(verse, lowercase=True)) for verse in tqdm(verses)]"
   ]
  },
  {
   "cell_type": "code",
   "execution_count": 12,
   "metadata": {},
   "outputs": [],
   "source": [
    "stop_words = stopwords.words('english')\n",
    "tokenized_verses = list(map(lambda x: [token for token in x if token not in stop_words], tokenized_verses))\n",
    "tokenized_verses = [verse for verse in tokenized_verses if verse]\n",
    "#tokenized_verses_with_genre = [(verse, genre) for verse, genre in zip(tokenized_verses, genres) if verse]"
   ]
  },
  {
   "cell_type": "code",
   "execution_count": 13,
   "metadata": {},
   "outputs": [],
   "source": [
    "#Xverses = [verse for verse, genre in tokenized_verses_with_genre]\n",
    "#y = [genre for verse, genre in tokenized_verses_with_genre]"
   ]
  },
  {
   "cell_type": "code",
   "execution_count": 14,
   "metadata": {},
   "outputs": [],
   "source": [
    "#Xverses_train, Xverses_val, y_train, y_val = train_test_split(Xverses, y, test_size=0.05, random_state=0, stratify=y)"
   ]
  },
  {
   "attachments": {},
   "cell_type": "markdown",
   "metadata": {},
   "source": [
    "## Doc2Vec"
   ]
  },
  {
   "cell_type": "code",
   "execution_count": 15,
   "metadata": {},
   "outputs": [
    {
     "name": "stderr",
     "output_type": "stream",
     "text": [
      "1494297it [00:07, 189764.38it/s]\n"
     ]
    }
   ],
   "source": [
    "documents = [TaggedDocument(verse, [i]) for i, verse in tqdm(enumerate(tokenized_verses))]"
   ]
  },
  {
   "cell_type": "code",
   "execution_count": 16,
   "metadata": {},
   "outputs": [],
   "source": [
    "model = Doc2Vec(min_count=2, epochs=20, dbow_words=1, vector_size=50)\n",
    "\n",
    "model.build_vocab(documents)\n",
    "\n",
    "model.train(documents, total_examples=model.corpus_count, epochs=model.epochs)\n",
    "\n",
    "model.save('../models/doc2vec.model')\n"
   ]
  },
  {
   "cell_type": "code",
   "execution_count": null,
   "metadata": {},
   "outputs": [],
   "source": []
  }
 ],
 "metadata": {
  "kernelspec": {
   "display_name": ".venv",
   "language": "python",
   "name": "python3"
  },
  "language_info": {
   "codemirror_mode": {
    "name": "ipython",
    "version": 3
   },
   "file_extension": ".py",
   "mimetype": "text/x-python",
   "name": "python",
   "nbconvert_exporter": "python",
   "pygments_lexer": "ipython3",
   "version": "3.9.16 (main, Dec  7 2022, 01:12:08) \n[GCC 11.3.0]"
  },
  "orig_nbformat": 4,
  "vscode": {
   "interpreter": {
    "hash": "eb8d1ded7c87c6f9c253b40add648304d6b51d2e38393955e855effc7e6f899a"
   }
  }
 },
 "nbformat": 4,
 "nbformat_minor": 2
}
