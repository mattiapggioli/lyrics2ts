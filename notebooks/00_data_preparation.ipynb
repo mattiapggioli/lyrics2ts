{
 "cells": [
  {
   "cell_type": "markdown",
   "id": "3ebeeb82",
   "metadata": {
    "papermill": {
     "duration": 0.019238,
     "end_time": "2023-03-14T19:25:17.488632",
     "exception": false,
     "start_time": "2023-03-14T19:25:17.469394",
     "status": "completed"
    },
    "tags": []
   },
   "source": [
    "# Data Preparation"
   ]
  },
  {
   "cell_type": "code",
   "execution_count": 1,
   "id": "03c8c743",
   "metadata": {
    "execution": {
     "iopub.execute_input": "2023-03-14T19:25:17.531887Z",
     "iopub.status.busy": "2023-03-14T19:25:17.530926Z",
     "iopub.status.idle": "2023-03-14T19:25:19.758708Z",
     "shell.execute_reply": "2023-03-14T19:25:19.757685Z"
    },
    "papermill": {
     "duration": 2.253395,
     "end_time": "2023-03-14T19:25:19.761634",
     "exception": false,
     "start_time": "2023-03-14T19:25:17.508239",
     "status": "completed"
    },
    "tags": []
   },
   "outputs": [],
   "source": [
    "%matplotlib inline\n",
    "import pandas as pd\n",
    "import numpy as np\n",
    "from matplotlib import pyplot as plt\n",
    "import seaborn as sns\n",
    "from sklearn.preprocessing import MultiLabelBinarizer\n",
    "from itertools import combinations\n",
    "import random\n",
    "import re\n",
    "from gensim.utils import tokenize\n",
    "from sklearn.model_selection import train_test_split"
   ]
  },
  {
   "cell_type": "code",
   "execution_count": 2,
   "id": "e8b25079",
   "metadata": {
    "execution": {
     "iopub.execute_input": "2023-03-14T19:25:19.789743Z",
     "iopub.status.busy": "2023-03-14T19:25:19.788970Z",
     "iopub.status.idle": "2023-03-14T19:25:19.796082Z",
     "shell.execute_reply": "2023-03-14T19:25:19.794991Z"
    },
    "papermill": {
     "duration": 0.023403,
     "end_time": "2023-03-14T19:25:19.798417",
     "exception": false,
     "start_time": "2023-03-14T19:25:19.775014",
     "status": "completed"
    },
    "tags": []
   },
   "outputs": [],
   "source": [
    "sns.set_theme(context='paper', style='white', palette='deep', rc={'figure.figsize':(12, 10)})"
   ]
  },
  {
   "cell_type": "code",
   "execution_count": 3,
   "id": "f957ed4d",
   "metadata": {
    "execution": {
     "iopub.execute_input": "2023-03-14T19:25:19.824679Z",
     "iopub.status.busy": "2023-03-14T19:25:19.823588Z",
     "iopub.status.idle": "2023-03-14T19:25:25.650542Z",
     "shell.execute_reply": "2023-03-14T19:25:25.649856Z"
    },
    "papermill": {
     "duration": 5.847916,
     "end_time": "2023-03-14T19:25:25.657614",
     "exception": false,
     "start_time": "2023-03-14T19:25:19.809698",
     "status": "completed"
    },
    "tags": []
   },
   "outputs": [
    {
     "data": {
      "text/html": [
       "<div>\n",
       "<style scoped>\n",
       "    .dataframe tbody tr th:only-of-type {\n",
       "        vertical-align: middle;\n",
       "    }\n",
       "\n",
       "    .dataframe tbody tr th {\n",
       "        vertical-align: top;\n",
       "    }\n",
       "\n",
       "    .dataframe thead th {\n",
       "        text-align: right;\n",
       "    }\n",
       "</style>\n",
       "<table border=\"1\" class=\"dataframe\">\n",
       "  <thead>\n",
       "    <tr style=\"text-align: right;\">\n",
       "      <th></th>\n",
       "      <th>ALink</th>\n",
       "      <th>SName</th>\n",
       "      <th>SLink</th>\n",
       "      <th>Lyric</th>\n",
       "      <th>language</th>\n",
       "    </tr>\n",
       "  </thead>\n",
       "  <tbody>\n",
       "    <tr>\n",
       "      <th>0</th>\n",
       "      <td>/ivete-sangalo/</td>\n",
       "      <td>Arerê</td>\n",
       "      <td>/ivete-sangalo/arere.html</td>\n",
       "      <td>Tudo o que eu quero nessa vida,\\nToda vida, é\\...</td>\n",
       "      <td>pt</td>\n",
       "    </tr>\n",
       "    <tr>\n",
       "      <th>1</th>\n",
       "      <td>/ivete-sangalo/</td>\n",
       "      <td>Se Eu Não Te Amasse Tanto Assim</td>\n",
       "      <td>/ivete-sangalo/se-eu-nao-te-amasse-tanto-assim...</td>\n",
       "      <td>Meu coração\\nSem direção\\nVoando só por voar\\n...</td>\n",
       "      <td>pt</td>\n",
       "    </tr>\n",
       "    <tr>\n",
       "      <th>2</th>\n",
       "      <td>/ivete-sangalo/</td>\n",
       "      <td>Céu da Boca</td>\n",
       "      <td>/ivete-sangalo/chupa-toda.html</td>\n",
       "      <td>É de babaixá!\\nÉ de balacubaca!\\nÉ de babaixá!...</td>\n",
       "      <td>pt</td>\n",
       "    </tr>\n",
       "    <tr>\n",
       "      <th>3</th>\n",
       "      <td>/ivete-sangalo/</td>\n",
       "      <td>Quando A Chuva Passar</td>\n",
       "      <td>/ivete-sangalo/quando-a-chuva-passar.html</td>\n",
       "      <td>Quando a chuva passar\\n\\nPra quê falar\\nSe voc...</td>\n",
       "      <td>pt</td>\n",
       "    </tr>\n",
       "    <tr>\n",
       "      <th>4</th>\n",
       "      <td>/ivete-sangalo/</td>\n",
       "      <td>Sorte Grande</td>\n",
       "      <td>/ivete-sangalo/sorte-grande.html</td>\n",
       "      <td>A minha sorte grande foi você cair do céu\\nMin...</td>\n",
       "      <td>pt</td>\n",
       "    </tr>\n",
       "  </tbody>\n",
       "</table>\n",
       "</div>"
      ],
      "text/plain": [
       "             ALink                            SName  \\\n",
       "0  /ivete-sangalo/                            Arerê   \n",
       "1  /ivete-sangalo/  Se Eu Não Te Amasse Tanto Assim   \n",
       "2  /ivete-sangalo/                      Céu da Boca   \n",
       "3  /ivete-sangalo/            Quando A Chuva Passar   \n",
       "4  /ivete-sangalo/                     Sorte Grande   \n",
       "\n",
       "                                               SLink  \\\n",
       "0                          /ivete-sangalo/arere.html   \n",
       "1  /ivete-sangalo/se-eu-nao-te-amasse-tanto-assim...   \n",
       "2                     /ivete-sangalo/chupa-toda.html   \n",
       "3          /ivete-sangalo/quando-a-chuva-passar.html   \n",
       "4                   /ivete-sangalo/sorte-grande.html   \n",
       "\n",
       "                                               Lyric language  \n",
       "0  Tudo o que eu quero nessa vida,\\nToda vida, é\\...       pt  \n",
       "1  Meu coração\\nSem direção\\nVoando só por voar\\n...       pt  \n",
       "2  É de babaixá!\\nÉ de balacubaca!\\nÉ de babaixá!...       pt  \n",
       "3  Quando a chuva passar\\n\\nPra quê falar\\nSe voc...       pt  \n",
       "4  A minha sorte grande foi você cair do céu\\nMin...       pt  "
      ]
     },
     "execution_count": 3,
     "metadata": {},
     "output_type": "execute_result"
    }
   ],
   "source": [
    "df = pd.read_csv('../data/raw-data/lyrics_data.csv')\n",
    "df.head()"
   ]
  },
  {
   "cell_type": "code",
   "execution_count": 4,
   "id": "661d6adb",
   "metadata": {},
   "outputs": [
    {
     "data": {
      "text/plain": [
       "(379931, 5)"
      ]
     },
     "execution_count": 4,
     "metadata": {},
     "output_type": "execute_result"
    }
   ],
   "source": [
    "df.shape"
   ]
  },
  {
   "cell_type": "code",
   "execution_count": 5,
   "id": "3021eab6",
   "metadata": {
    "execution": {
     "iopub.execute_input": "2023-03-14T19:25:25.706209Z",
     "iopub.status.busy": "2023-03-14T19:25:25.705056Z",
     "iopub.status.idle": "2023-03-14T19:25:25.730038Z",
     "shell.execute_reply": "2023-03-14T19:25:25.729134Z"
    },
    "papermill": {
     "duration": 0.047551,
     "end_time": "2023-03-14T19:25:25.733082",
     "exception": false,
     "start_time": "2023-03-14T19:25:25.685531",
     "status": "completed"
    },
    "tags": []
   },
   "outputs": [
    {
     "data": {
      "text/html": [
       "<div>\n",
       "<style scoped>\n",
       "    .dataframe tbody tr th:only-of-type {\n",
       "        vertical-align: middle;\n",
       "    }\n",
       "\n",
       "    .dataframe tbody tr th {\n",
       "        vertical-align: top;\n",
       "    }\n",
       "\n",
       "    .dataframe thead th {\n",
       "        text-align: right;\n",
       "    }\n",
       "</style>\n",
       "<table border=\"1\" class=\"dataframe\">\n",
       "  <thead>\n",
       "    <tr style=\"text-align: right;\">\n",
       "      <th></th>\n",
       "      <th>Artist</th>\n",
       "      <th>Genres</th>\n",
       "      <th>Songs</th>\n",
       "      <th>Popularity</th>\n",
       "      <th>Link</th>\n",
       "    </tr>\n",
       "  </thead>\n",
       "  <tbody>\n",
       "    <tr>\n",
       "      <th>0</th>\n",
       "      <td>Ivete Sangalo</td>\n",
       "      <td>Pop; Axé; Romântico</td>\n",
       "      <td>313.0</td>\n",
       "      <td>4.4</td>\n",
       "      <td>/ivete-sangalo/</td>\n",
       "    </tr>\n",
       "    <tr>\n",
       "      <th>1</th>\n",
       "      <td>Chiclete com Banana</td>\n",
       "      <td>Axé</td>\n",
       "      <td>268.0</td>\n",
       "      <td>3.8</td>\n",
       "      <td>/chiclete-com-banana/</td>\n",
       "    </tr>\n",
       "    <tr>\n",
       "      <th>2</th>\n",
       "      <td>Banda Eva</td>\n",
       "      <td>Axé; Romântico; Reggae</td>\n",
       "      <td>215.0</td>\n",
       "      <td>2.3</td>\n",
       "      <td>/banda-eva/</td>\n",
       "    </tr>\n",
       "    <tr>\n",
       "      <th>3</th>\n",
       "      <td>É O Tchan</td>\n",
       "      <td>Axé</td>\n",
       "      <td>129.0</td>\n",
       "      <td>1.6</td>\n",
       "      <td>/e-o-tchan/</td>\n",
       "    </tr>\n",
       "    <tr>\n",
       "      <th>4</th>\n",
       "      <td>Claudia Leitte</td>\n",
       "      <td>Pop; Axé; Romântico</td>\n",
       "      <td>167.0</td>\n",
       "      <td>1.5</td>\n",
       "      <td>/claudia-leitte/</td>\n",
       "    </tr>\n",
       "  </tbody>\n",
       "</table>\n",
       "</div>"
      ],
      "text/plain": [
       "                Artist                  Genres  Songs  Popularity  \\\n",
       "0        Ivete Sangalo     Pop; Axé; Romântico  313.0         4.4   \n",
       "1  Chiclete com Banana                     Axé  268.0         3.8   \n",
       "2            Banda Eva  Axé; Romântico; Reggae  215.0         2.3   \n",
       "3            É O Tchan                     Axé  129.0         1.6   \n",
       "4       Claudia Leitte     Pop; Axé; Romântico  167.0         1.5   \n",
       "\n",
       "                    Link  \n",
       "0        /ivete-sangalo/  \n",
       "1  /chiclete-com-banana/  \n",
       "2            /banda-eva/  \n",
       "3            /e-o-tchan/  \n",
       "4       /claudia-leitte/  "
      ]
     },
     "execution_count": 5,
     "metadata": {},
     "output_type": "execute_result"
    }
   ],
   "source": [
    "df_art = pd.read_csv('../data/raw-data/artists_data.csv')\n",
    "df_art.head()"
   ]
  },
  {
   "cell_type": "code",
   "execution_count": 6,
   "id": "37dfe8bf",
   "metadata": {},
   "outputs": [
    {
     "data": {
      "text/plain": [
       "(4168, 5)"
      ]
     },
     "execution_count": 6,
     "metadata": {},
     "output_type": "execute_result"
    }
   ],
   "source": [
    "df_art.shape"
   ]
  },
  {
   "cell_type": "code",
   "execution_count": 7,
   "id": "5598e2b1",
   "metadata": {
    "execution": {
     "iopub.execute_input": "2023-03-14T19:25:25.771466Z",
     "iopub.status.busy": "2023-03-14T19:25:25.771170Z",
     "iopub.status.idle": "2023-03-14T19:25:25.838394Z",
     "shell.execute_reply": "2023-03-14T19:25:25.837672Z"
    },
    "papermill": {
     "duration": 0.090423,
     "end_time": "2023-03-14T19:25:25.841005",
     "exception": false,
     "start_time": "2023-03-14T19:25:25.750582",
     "status": "completed"
    },
    "tags": []
   },
   "outputs": [],
   "source": [
    "# Get only lyrics in English\n",
    "df = df[df['language']=='en'].reset_index(drop=True)"
   ]
  },
  {
   "cell_type": "markdown",
   "id": "3b2280f3",
   "metadata": {
    "papermill": {
     "duration": 0.020038,
     "end_time": "2023-03-14T19:25:25.881252",
     "exception": false,
     "start_time": "2023-03-14T19:25:25.861214",
     "status": "completed"
    },
    "tags": []
   },
   "source": [
    "## Genre"
   ]
  },
  {
   "cell_type": "code",
   "execution_count": 8,
   "id": "92ad0816",
   "metadata": {
    "execution": {
     "iopub.execute_input": "2023-03-14T19:25:25.917561Z",
     "iopub.status.busy": "2023-03-14T19:25:25.917169Z",
     "iopub.status.idle": "2023-03-14T19:28:13.575076Z",
     "shell.execute_reply": "2023-03-14T19:28:13.574254Z"
    },
    "papermill": {
     "duration": 167.676465,
     "end_time": "2023-03-14T19:28:13.578185",
     "exception": false,
     "start_time": "2023-03-14T19:25:25.901720",
     "status": "completed"
    },
    "tags": []
   },
   "outputs": [],
   "source": [
    "genres = []\n",
    "for artist_id in df['ALink']:\n",
    "    # Get the row corresponding to the artist\n",
    "    artist_row = df_art[df_art['Link']==artist_id].reset_index()\n",
    "    try:\n",
    "        # Get all genres from that artist\n",
    "        genres_in_artist = artist_row['Genres'][0].split('; ')        \n",
    "    except:\n",
    "        genres_in_artist = []\n",
    "    genres.append(genres_in_artist)"
   ]
  },
  {
   "cell_type": "code",
   "execution_count": 9,
   "id": "53d38372",
   "metadata": {
    "execution": {
     "iopub.execute_input": "2023-03-14T19:28:13.625660Z",
     "iopub.status.busy": "2023-03-14T19:28:13.625242Z",
     "iopub.status.idle": "2023-03-14T19:28:13.663236Z",
     "shell.execute_reply": "2023-03-14T19:28:13.661964Z"
    },
    "papermill": {
     "duration": 0.064194,
     "end_time": "2023-03-14T19:28:13.665462",
     "exception": false,
     "start_time": "2023-03-14T19:28:13.601268",
     "status": "completed"
    },
    "tags": []
   },
   "outputs": [],
   "source": [
    "df = df.drop(columns = ['ALink', 'SName', 'SLink', 'language'])\n",
    "df = df.rename(columns={'Lyric': 'lyrics'})"
   ]
  },
  {
   "cell_type": "code",
   "execution_count": 10,
   "id": "f1258f68",
   "metadata": {
    "execution": {
     "iopub.execute_input": "2023-03-14T19:28:13.686866Z",
     "iopub.status.busy": "2023-03-14T19:28:13.685855Z",
     "iopub.status.idle": "2023-03-14T19:28:13.978892Z",
     "shell.execute_reply": "2023-03-14T19:28:13.978068Z"
    },
    "papermill": {
     "duration": 0.305367,
     "end_time": "2023-03-14T19:28:13.981105",
     "exception": false,
     "start_time": "2023-03-14T19:28:13.675738",
     "status": "completed"
    },
    "tags": []
   },
   "outputs": [
    {
     "data": {
      "text/html": [
       "<div>\n",
       "<style scoped>\n",
       "    .dataframe tbody tr th:only-of-type {\n",
       "        vertical-align: middle;\n",
       "    }\n",
       "\n",
       "    .dataframe tbody tr th {\n",
       "        vertical-align: top;\n",
       "    }\n",
       "\n",
       "    .dataframe thead th {\n",
       "        text-align: right;\n",
       "    }\n",
       "</style>\n",
       "<table border=\"1\" class=\"dataframe\">\n",
       "  <thead>\n",
       "    <tr style=\"text-align: right;\">\n",
       "      <th></th>\n",
       "      <th>Axé</th>\n",
       "      <th>Black Music</th>\n",
       "      <th>Blues</th>\n",
       "      <th>Bossa Nova</th>\n",
       "      <th>COLETÂNEA</th>\n",
       "      <th>Chillout</th>\n",
       "      <th>Classic Rock</th>\n",
       "      <th>Clássico</th>\n",
       "      <th>Country</th>\n",
       "      <th>Dance</th>\n",
       "      <th>...</th>\n",
       "      <th>Soul Music</th>\n",
       "      <th>Surf Music</th>\n",
       "      <th>Tecnopop</th>\n",
       "      <th>Trance</th>\n",
       "      <th>Trap</th>\n",
       "      <th>Trilha Sonora</th>\n",
       "      <th>Trip-Hop</th>\n",
       "      <th>Tropical House</th>\n",
       "      <th>Velha Guarda</th>\n",
       "      <th>World Music</th>\n",
       "    </tr>\n",
       "  </thead>\n",
       "  <tbody>\n",
       "    <tr>\n",
       "      <th>0</th>\n",
       "      <td>1</td>\n",
       "      <td>0</td>\n",
       "      <td>0</td>\n",
       "      <td>0</td>\n",
       "      <td>0</td>\n",
       "      <td>0</td>\n",
       "      <td>0</td>\n",
       "      <td>0</td>\n",
       "      <td>0</td>\n",
       "      <td>0</td>\n",
       "      <td>...</td>\n",
       "      <td>0</td>\n",
       "      <td>0</td>\n",
       "      <td>0</td>\n",
       "      <td>0</td>\n",
       "      <td>0</td>\n",
       "      <td>0</td>\n",
       "      <td>0</td>\n",
       "      <td>0</td>\n",
       "      <td>0</td>\n",
       "      <td>0</td>\n",
       "    </tr>\n",
       "    <tr>\n",
       "      <th>1</th>\n",
       "      <td>1</td>\n",
       "      <td>0</td>\n",
       "      <td>0</td>\n",
       "      <td>0</td>\n",
       "      <td>0</td>\n",
       "      <td>0</td>\n",
       "      <td>0</td>\n",
       "      <td>0</td>\n",
       "      <td>0</td>\n",
       "      <td>0</td>\n",
       "      <td>...</td>\n",
       "      <td>0</td>\n",
       "      <td>0</td>\n",
       "      <td>0</td>\n",
       "      <td>0</td>\n",
       "      <td>0</td>\n",
       "      <td>0</td>\n",
       "      <td>0</td>\n",
       "      <td>0</td>\n",
       "      <td>0</td>\n",
       "      <td>0</td>\n",
       "    </tr>\n",
       "    <tr>\n",
       "      <th>2</th>\n",
       "      <td>1</td>\n",
       "      <td>0</td>\n",
       "      <td>0</td>\n",
       "      <td>0</td>\n",
       "      <td>0</td>\n",
       "      <td>0</td>\n",
       "      <td>0</td>\n",
       "      <td>0</td>\n",
       "      <td>0</td>\n",
       "      <td>0</td>\n",
       "      <td>...</td>\n",
       "      <td>0</td>\n",
       "      <td>0</td>\n",
       "      <td>0</td>\n",
       "      <td>0</td>\n",
       "      <td>0</td>\n",
       "      <td>0</td>\n",
       "      <td>0</td>\n",
       "      <td>0</td>\n",
       "      <td>0</td>\n",
       "      <td>0</td>\n",
       "    </tr>\n",
       "    <tr>\n",
       "      <th>3</th>\n",
       "      <td>1</td>\n",
       "      <td>0</td>\n",
       "      <td>0</td>\n",
       "      <td>0</td>\n",
       "      <td>0</td>\n",
       "      <td>0</td>\n",
       "      <td>0</td>\n",
       "      <td>0</td>\n",
       "      <td>0</td>\n",
       "      <td>0</td>\n",
       "      <td>...</td>\n",
       "      <td>0</td>\n",
       "      <td>0</td>\n",
       "      <td>0</td>\n",
       "      <td>0</td>\n",
       "      <td>0</td>\n",
       "      <td>0</td>\n",
       "      <td>0</td>\n",
       "      <td>0</td>\n",
       "      <td>0</td>\n",
       "      <td>0</td>\n",
       "    </tr>\n",
       "    <tr>\n",
       "      <th>4</th>\n",
       "      <td>1</td>\n",
       "      <td>0</td>\n",
       "      <td>0</td>\n",
       "      <td>0</td>\n",
       "      <td>0</td>\n",
       "      <td>0</td>\n",
       "      <td>0</td>\n",
       "      <td>0</td>\n",
       "      <td>0</td>\n",
       "      <td>0</td>\n",
       "      <td>...</td>\n",
       "      <td>0</td>\n",
       "      <td>0</td>\n",
       "      <td>0</td>\n",
       "      <td>0</td>\n",
       "      <td>0</td>\n",
       "      <td>0</td>\n",
       "      <td>0</td>\n",
       "      <td>0</td>\n",
       "      <td>0</td>\n",
       "      <td>0</td>\n",
       "    </tr>\n",
       "  </tbody>\n",
       "</table>\n",
       "<p>5 rows × 75 columns</p>\n",
       "</div>"
      ],
      "text/plain": [
       "   Axé  Black Music  Blues  Bossa Nova  COLETÂNEA  Chillout  Classic Rock  \\\n",
       "0    1            0      0           0          0         0             0   \n",
       "1    1            0      0           0          0         0             0   \n",
       "2    1            0      0           0          0         0             0   \n",
       "3    1            0      0           0          0         0             0   \n",
       "4    1            0      0           0          0         0             0   \n",
       "\n",
       "   Clássico  Country  Dance  ...  Soul Music  Surf Music  Tecnopop  Trance  \\\n",
       "0         0        0      0  ...           0           0         0       0   \n",
       "1         0        0      0  ...           0           0         0       0   \n",
       "2         0        0      0  ...           0           0         0       0   \n",
       "3         0        0      0  ...           0           0         0       0   \n",
       "4         0        0      0  ...           0           0         0       0   \n",
       "\n",
       "   Trap  Trilha Sonora  Trip-Hop  Tropical House  Velha Guarda  World Music  \n",
       "0     0              0         0               0             0            0  \n",
       "1     0              0         0               0             0            0  \n",
       "2     0              0         0               0             0            0  \n",
       "3     0              0         0               0             0            0  \n",
       "4     0              0         0               0             0            0  \n",
       "\n",
       "[5 rows x 75 columns]"
      ]
     },
     "execution_count": 10,
     "metadata": {},
     "output_type": "execute_result"
    }
   ],
   "source": [
    "genres = pd.Series(genres)\n",
    "mlb = MultiLabelBinarizer()\n",
    "df_genre = pd.DataFrame(mlb.fit_transform(genres), \n",
    "                        columns=mlb.classes_,\n",
    "                        index=genres.index)\n",
    "df_genre.head()"
   ]
  },
  {
   "cell_type": "code",
   "execution_count": 11,
   "id": "59b95de1",
   "metadata": {
    "execution": {
     "iopub.execute_input": "2023-03-14T19:28:14.001642Z",
     "iopub.status.busy": "2023-03-14T19:28:14.001137Z",
     "iopub.status.idle": "2023-03-14T19:28:20.000495Z",
     "shell.execute_reply": "2023-03-14T19:28:19.998885Z"
    },
    "papermill": {
     "duration": 6.012872,
     "end_time": "2023-03-14T19:28:20.004592",
     "exception": false,
     "start_time": "2023-03-14T19:28:13.991720",
     "status": "completed"
    },
    "tags": []
   },
   "outputs": [],
   "source": [
    "df0 = pd.concat([df, df_genre], axis=1)\n",
    "df0.to_csv('../data/raw-data/lyrics_raw.csv', index=False)"
   ]
  },
  {
   "cell_type": "code",
   "execution_count": 12,
   "id": "1e19a141",
   "metadata": {},
   "outputs": [
    {
     "data": {
      "text/plain": [
       "count    191814.000000\n",
       "mean          2.311077\n",
       "std           0.827677\n",
       "min           0.000000\n",
       "25%           2.000000\n",
       "50%           3.000000\n",
       "75%           3.000000\n",
       "max           4.000000\n",
       "dtype: float64"
      ]
     },
     "execution_count": 12,
     "metadata": {},
     "output_type": "execute_result"
    }
   ],
   "source": [
    "df_genre.sum(axis=1).describe()"
   ]
  },
  {
   "cell_type": "code",
   "execution_count": 13,
   "id": "db3f9184",
   "metadata": {
    "execution": {
     "iopub.execute_input": "2023-03-14T19:28:20.049861Z",
     "iopub.status.busy": "2023-03-14T19:28:20.049332Z",
     "iopub.status.idle": "2023-03-14T19:28:20.077435Z",
     "shell.execute_reply": "2023-03-14T19:28:20.076636Z"
    },
    "papermill": {
     "duration": 0.053688,
     "end_time": "2023-03-14T19:28:20.080076",
     "exception": false,
     "start_time": "2023-03-14T19:28:20.026388",
     "status": "completed"
    },
    "tags": []
   },
   "outputs": [
    {
     "data": {
      "text/plain": [
       "Rock                63717\n",
       "Pop                 33571\n",
       "Pop/Rock            26360\n",
       "Heavy Metal         21759\n",
       "Hip Hop             20902\n",
       "Indie               20134\n",
       "Romântico           17947\n",
       "Hard Rock           17250\n",
       "Rap                 17114\n",
       "R&B                 15581\n",
       "Rock Alternativo    13061\n",
       "Black Music         13024\n",
       "Dance               11895\n",
       "Folk                11124\n",
       "Country             10630\n",
       "Punk Rock            9215\n",
       "Soul Music           8131\n",
       "Electronica          7799\n",
       "Gospel/Religioso     7337\n",
       "Hardcore             7082\n",
       "dtype: int64"
      ]
     },
     "execution_count": 13,
     "metadata": {},
     "output_type": "execute_result"
    }
   ],
   "source": [
    "df_genre.sum().sort_values(ascending=False)[:20]"
   ]
  },
  {
   "cell_type": "code",
   "execution_count": 14,
   "id": "31e985c9",
   "metadata": {
    "execution": {
     "iopub.execute_input": "2023-03-14T19:28:20.126923Z",
     "iopub.status.busy": "2023-03-14T19:28:20.125761Z",
     "iopub.status.idle": "2023-03-14T19:28:20.180966Z",
     "shell.execute_reply": "2023-03-14T19:28:20.179489Z"
    },
    "papermill": {
     "duration": 0.083777,
     "end_time": "2023-03-14T19:28:20.184346",
     "exception": false,
     "start_time": "2023-03-14T19:28:20.100569",
     "status": "completed"
    },
    "tags": []
   },
   "outputs": [
    {
     "data": {
      "text/plain": [
       "Country             4774\n",
       "Rock                4672\n",
       "Heavy Metal         4394\n",
       "Indie               4289\n",
       "Pop                 2544\n",
       "Rap                 2012\n",
       "Gospel/Religioso    1431\n",
       "Pop/Rock            1374\n",
       "Jazz                1356\n",
       "Punk Rock           1310\n",
       "Reggae              1255\n",
       "Hip Hop             1112\n",
       "Folk                1078\n",
       "Blues               1063\n",
       "Soft Rock           1003\n",
       "Electronica          911\n",
       "Romântico            829\n",
       "Hard Rock            739\n",
       "Trilha Sonora        647\n",
       "Rockabilly           639\n",
       "dtype: int64"
      ]
     },
     "execution_count": 14,
     "metadata": {},
     "output_type": "execute_result"
    }
   ],
   "source": [
    "df_genre[df_genre.sum(axis=1)==1].sum().sort_values(ascending=False)[:20]"
   ]
  },
  {
   "cell_type": "code",
   "execution_count": 15,
   "id": "6f9fbab6",
   "metadata": {
    "execution": {
     "iopub.execute_input": "2023-03-14T19:28:20.224539Z",
     "iopub.status.busy": "2023-03-14T19:28:20.223952Z",
     "iopub.status.idle": "2023-03-14T19:31:36.601133Z",
     "shell.execute_reply": "2023-03-14T19:31:36.598485Z"
    },
    "papermill": {
     "duration": 196.400446,
     "end_time": "2023-03-14T19:31:36.604813",
     "exception": false,
     "start_time": "2023-03-14T19:28:20.204367",
     "status": "completed"
    },
    "tags": []
   },
   "outputs": [],
   "source": [
    "genres2keep = ['Rock', 'Pop', 'Rap']\n",
    "\n",
    "df_genre['genre'] = df_genre.apply(\n",
    "    lambda x: x[genres2keep].idxmax() if x[genres2keep].sum() == 1 and x[genres2keep].max() == 1 else None, axis=1)"
   ]
  },
  {
   "cell_type": "code",
   "execution_count": 16,
   "id": "2ef76681",
   "metadata": {
    "execution": {
     "iopub.execute_input": "2023-03-14T19:31:36.649569Z",
     "iopub.status.busy": "2023-03-14T19:31:36.649219Z",
     "iopub.status.idle": "2023-03-14T19:31:36.662193Z",
     "shell.execute_reply": "2023-03-14T19:31:36.661641Z"
    },
    "papermill": {
     "duration": 0.038743,
     "end_time": "2023-03-14T19:31:36.665322",
     "exception": false,
     "start_time": "2023-03-14T19:31:36.626579",
     "status": "completed"
    },
    "tags": []
   },
   "outputs": [
    {
     "data": {
      "text/plain": [
       "Rock    60488\n",
       "Pop     29163\n",
       "Rap     15053\n",
       "Name: genre, dtype: int64"
      ]
     },
     "execution_count": 16,
     "metadata": {},
     "output_type": "execute_result"
    }
   ],
   "source": [
    "df_genre['genre'].value_counts()"
   ]
  },
  {
   "cell_type": "code",
   "execution_count": 17,
   "id": "79a6ebd1",
   "metadata": {
    "execution": {
     "iopub.execute_input": "2023-03-14T19:31:36.705318Z",
     "iopub.status.busy": "2023-03-14T19:31:36.704926Z",
     "iopub.status.idle": "2023-03-14T19:31:36.716979Z",
     "shell.execute_reply": "2023-03-14T19:31:36.716052Z"
    },
    "papermill": {
     "duration": 0.031996,
     "end_time": "2023-03-14T19:31:36.719036",
     "exception": false,
     "start_time": "2023-03-14T19:31:36.687040",
     "status": "completed"
    },
    "tags": []
   },
   "outputs": [
    {
     "data": {
      "text/plain": [
       "87110"
      ]
     },
     "execution_count": 17,
     "metadata": {},
     "output_type": "execute_result"
    }
   ],
   "source": [
    "df_genre['genre'].isna().sum()"
   ]
  },
  {
   "cell_type": "code",
   "execution_count": 18,
   "id": "eb49a25d",
   "metadata": {
    "execution": {
     "iopub.execute_input": "2023-03-14T19:31:36.738682Z",
     "iopub.status.busy": "2023-03-14T19:31:36.738295Z",
     "iopub.status.idle": "2023-03-14T19:31:36.793737Z",
     "shell.execute_reply": "2023-03-14T19:31:36.792941Z"
    },
    "papermill": {
     "duration": 0.067386,
     "end_time": "2023-03-14T19:31:36.796093",
     "exception": false,
     "start_time": "2023-03-14T19:31:36.728707",
     "status": "completed"
    },
    "tags": []
   },
   "outputs": [
    {
     "data": {
      "text/plain": [
       "array(['pop', None, 'rap', 'rock'], dtype=object)"
      ]
     },
     "execution_count": 18,
     "metadata": {},
     "output_type": "execute_result"
    }
   ],
   "source": [
    "df_genre['genre'] = df_genre['genre'].str.lower()\n",
    "df_genre['genre'].unique()"
   ]
  },
  {
   "cell_type": "code",
   "execution_count": 19,
   "id": "bdb0de58",
   "metadata": {
    "execution": {
     "iopub.execute_input": "2023-03-14T19:31:36.833576Z",
     "iopub.status.busy": "2023-03-14T19:31:36.833076Z",
     "iopub.status.idle": "2023-03-14T19:31:37.100652Z",
     "shell.execute_reply": "2023-03-14T19:31:37.099391Z"
    },
    "papermill": {
     "duration": 0.289611,
     "end_time": "2023-03-14T19:31:37.103603",
     "exception": false,
     "start_time": "2023-03-14T19:31:36.813992",
     "status": "completed"
    },
    "tags": []
   },
   "outputs": [],
   "source": [
    "df = pd.concat([df, df_genre], axis=1)"
   ]
  },
  {
   "cell_type": "code",
   "execution_count": 20,
   "id": "9894a22f",
   "metadata": {
    "execution": {
     "iopub.execute_input": "2023-03-14T19:31:37.136062Z",
     "iopub.status.busy": "2023-03-14T19:31:37.135587Z",
     "iopub.status.idle": "2023-03-14T19:31:37.433971Z",
     "shell.execute_reply": "2023-03-14T19:31:37.432902Z"
    },
    "papermill": {
     "duration": 0.312645,
     "end_time": "2023-03-14T19:31:37.436916",
     "exception": false,
     "start_time": "2023-03-14T19:31:37.124271",
     "status": "completed"
    },
    "tags": []
   },
   "outputs": [],
   "source": [
    "df = df.drop(columns=genres2keep)\n",
    "df = df.dropna()\n",
    "df = df.reset_index(drop=True)"
   ]
  },
  {
   "cell_type": "code",
   "execution_count": 21,
   "id": "a50965b0",
   "metadata": {
    "execution": {
     "iopub.execute_input": "2023-03-14T19:31:37.489463Z",
     "iopub.status.busy": "2023-03-14T19:31:37.488990Z",
     "iopub.status.idle": "2023-03-14T19:31:37.563233Z",
     "shell.execute_reply": "2023-03-14T19:31:37.562276Z"
    },
    "papermill": {
     "duration": 0.106957,
     "end_time": "2023-03-14T19:31:37.566284",
     "exception": false,
     "start_time": "2023-03-14T19:31:37.459327",
     "status": "completed"
    },
    "scrolled": true,
    "tags": []
   },
   "outputs": [
    {
     "data": {
      "text/html": [
       "<div>\n",
       "<style scoped>\n",
       "    .dataframe tbody tr th:only-of-type {\n",
       "        vertical-align: middle;\n",
       "    }\n",
       "\n",
       "    .dataframe tbody tr th {\n",
       "        vertical-align: top;\n",
       "    }\n",
       "\n",
       "    .dataframe thead th {\n",
       "        text-align: right;\n",
       "    }\n",
       "</style>\n",
       "<table border=\"1\" class=\"dataframe\">\n",
       "  <thead>\n",
       "    <tr style=\"text-align: right;\">\n",
       "      <th>genre</th>\n",
       "      <th>pop</th>\n",
       "      <th>rap</th>\n",
       "      <th>rock</th>\n",
       "    </tr>\n",
       "  </thead>\n",
       "  <tbody>\n",
       "    <tr>\n",
       "      <th>Axé</th>\n",
       "      <td>32</td>\n",
       "      <td>88</td>\n",
       "      <td>105</td>\n",
       "    </tr>\n",
       "    <tr>\n",
       "      <th>Black Music</th>\n",
       "      <td>1094</td>\n",
       "      <td>5956</td>\n",
       "      <td>0</td>\n",
       "    </tr>\n",
       "    <tr>\n",
       "      <th>Blues</th>\n",
       "      <td>142</td>\n",
       "      <td>65</td>\n",
       "      <td>2712</td>\n",
       "    </tr>\n",
       "    <tr>\n",
       "      <th>Bossa Nova</th>\n",
       "      <td>3</td>\n",
       "      <td>0</td>\n",
       "      <td>0</td>\n",
       "    </tr>\n",
       "    <tr>\n",
       "      <th>COLETÂNEA</th>\n",
       "      <td>53</td>\n",
       "      <td>0</td>\n",
       "      <td>11</td>\n",
       "    </tr>\n",
       "    <tr>\n",
       "      <th>...</th>\n",
       "      <td>...</td>\n",
       "      <td>...</td>\n",
       "      <td>...</td>\n",
       "    </tr>\n",
       "    <tr>\n",
       "      <th>Trilha Sonora</th>\n",
       "      <td>1903</td>\n",
       "      <td>1</td>\n",
       "      <td>735</td>\n",
       "    </tr>\n",
       "    <tr>\n",
       "      <th>Trip-Hop</th>\n",
       "      <td>196</td>\n",
       "      <td>56</td>\n",
       "      <td>0</td>\n",
       "    </tr>\n",
       "    <tr>\n",
       "      <th>Tropical House</th>\n",
       "      <td>0</td>\n",
       "      <td>0</td>\n",
       "      <td>0</td>\n",
       "    </tr>\n",
       "    <tr>\n",
       "      <th>Velha Guarda</th>\n",
       "      <td>0</td>\n",
       "      <td>0</td>\n",
       "      <td>0</td>\n",
       "    </tr>\n",
       "    <tr>\n",
       "      <th>World Music</th>\n",
       "      <td>37</td>\n",
       "      <td>0</td>\n",
       "      <td>0</td>\n",
       "    </tr>\n",
       "  </tbody>\n",
       "</table>\n",
       "<p>72 rows × 3 columns</p>\n",
       "</div>"
      ],
      "text/plain": [
       "genre            pop   rap  rock\n",
       "Axé               32    88   105\n",
       "Black Music     1094  5956     0\n",
       "Blues            142    65  2712\n",
       "Bossa Nova         3     0     0\n",
       "COLETÂNEA         53     0    11\n",
       "...              ...   ...   ...\n",
       "Trilha Sonora   1903     1   735\n",
       "Trip-Hop         196    56     0\n",
       "Tropical House     0     0     0\n",
       "Velha Guarda       0     0     0\n",
       "World Music       37     0     0\n",
       "\n",
       "[72 rows x 3 columns]"
      ]
     },
     "execution_count": 21,
     "metadata": {},
     "output_type": "execute_result"
    }
   ],
   "source": [
    "dummy_cols = [col for col in df.columns if col not in ['lyrics','genre']]\n",
    "\n",
    "df_subgenre = df.groupby('genre')[dummy_cols].sum().T\n",
    "df_subgenre"
   ]
  },
  {
   "cell_type": "code",
   "execution_count": 22,
   "id": "02b15433",
   "metadata": {
    "execution": {
     "iopub.execute_input": "2023-03-14T19:31:37.587187Z",
     "iopub.status.busy": "2023-03-14T19:31:37.586790Z",
     "iopub.status.idle": "2023-03-14T19:31:38.091986Z",
     "shell.execute_reply": "2023-03-14T19:31:38.090806Z"
    },
    "papermill": {
     "duration": 0.516504,
     "end_time": "2023-03-14T19:31:38.093775",
     "exception": false,
     "start_time": "2023-03-14T19:31:37.577271",
     "status": "completed"
    },
    "scrolled": false,
    "tags": []
   },
   "outputs": [
    {
     "data": {
      "image/png": "[encoded data removed]",
      "text/plain": [
       "<Figure size 1200x1000 with 3 Axes>"
      ]
     },
     "metadata": {},
     "output_type": "display_data"
    }
   ],
   "source": [
    "fig, axs = plt.subplots(len(df_subgenre.columns))\n",
    "\n",
    "for i, genre in enumerate(df_subgenre.columns):    \n",
    "    bars2plot = df_subgenre[genre].sort_values(ascending=False)[:5]\n",
    "    bars2plot.index = bars2plot.index.str.replace('â', 'a')\n",
    "    bars2plot.index = bars2plot.index.str.replace('&', '\\&')\n",
    "    sns.barplot(x=bars2plot.index, y=bars2plot.values, ax=axs[i])    \n",
    "    axs[i].set_ylabel(genre)    \n",
    "\n",
    "#fig.suptitle('Top 5 subgenres by genre')\n",
    "plt.tight_layout()\n",
    "\n",
    "plt.savefig('../pgf/bar_subgenres.pgf', backend='pgf')"
   ]
  },
  {
   "cell_type": "code",
   "execution_count": 23,
   "id": "c720fa66",
   "metadata": {
    "execution": {
     "iopub.execute_input": "2023-03-14T19:31:38.127844Z",
     "iopub.status.busy": "2023-03-14T19:31:38.126813Z",
     "iopub.status.idle": "2023-03-14T19:31:38.264229Z",
     "shell.execute_reply": "2023-03-14T19:31:38.262760Z"
    },
    "papermill": {
     "duration": 0.153103,
     "end_time": "2023-03-14T19:31:38.268008",
     "exception": false,
     "start_time": "2023-03-14T19:31:38.114905",
     "status": "completed"
    },
    "tags": []
   },
   "outputs": [
    {
     "data": {
      "text/html": [
       "<div>\n",
       "<style scoped>\n",
       "    .dataframe tbody tr th:only-of-type {\n",
       "        vertical-align: middle;\n",
       "    }\n",
       "\n",
       "    .dataframe tbody tr th {\n",
       "        vertical-align: top;\n",
       "    }\n",
       "\n",
       "    .dataframe thead th {\n",
       "        text-align: right;\n",
       "    }\n",
       "</style>\n",
       "<table border=\"1\" class=\"dataframe\">\n",
       "  <thead>\n",
       "    <tr style=\"text-align: right;\">\n",
       "      <th></th>\n",
       "      <th>pop</th>\n",
       "      <th>rap</th>\n",
       "      <th>rock</th>\n",
       "    </tr>\n",
       "  </thead>\n",
       "  <tbody>\n",
       "    <tr>\n",
       "      <th>count</th>\n",
       "      <td>29163.000000</td>\n",
       "      <td>15053.000000</td>\n",
       "      <td>60488.000000</td>\n",
       "    </tr>\n",
       "    <tr>\n",
       "      <th>mean</th>\n",
       "      <td>1.581353</td>\n",
       "      <td>1.390819</td>\n",
       "      <td>1.628951</td>\n",
       "    </tr>\n",
       "    <tr>\n",
       "      <th>std</th>\n",
       "      <td>0.649229</td>\n",
       "      <td>0.710940</td>\n",
       "      <td>0.623072</td>\n",
       "    </tr>\n",
       "    <tr>\n",
       "      <th>min</th>\n",
       "      <td>0.000000</td>\n",
       "      <td>0.000000</td>\n",
       "      <td>0.000000</td>\n",
       "    </tr>\n",
       "    <tr>\n",
       "      <th>25%</th>\n",
       "      <td>1.000000</td>\n",
       "      <td>1.000000</td>\n",
       "      <td>1.000000</td>\n",
       "    </tr>\n",
       "    <tr>\n",
       "      <th>50%</th>\n",
       "      <td>2.000000</td>\n",
       "      <td>2.000000</td>\n",
       "      <td>2.000000</td>\n",
       "    </tr>\n",
       "    <tr>\n",
       "      <th>75%</th>\n",
       "      <td>2.000000</td>\n",
       "      <td>2.000000</td>\n",
       "      <td>2.000000</td>\n",
       "    </tr>\n",
       "    <tr>\n",
       "      <th>max</th>\n",
       "      <td>3.000000</td>\n",
       "      <td>2.000000</td>\n",
       "      <td>3.000000</td>\n",
       "    </tr>\n",
       "  </tbody>\n",
       "</table>\n",
       "</div>"
      ],
      "text/plain": [
       "                pop           rap          rock\n",
       "count  29163.000000  15053.000000  60488.000000\n",
       "mean       1.581353      1.390819      1.628951\n",
       "std        0.649229      0.710940      0.623072\n",
       "min        0.000000      0.000000      0.000000\n",
       "25%        1.000000      1.000000      1.000000\n",
       "50%        2.000000      2.000000      2.000000\n",
       "75%        2.000000      2.000000      2.000000\n",
       "max        3.000000      2.000000      3.000000"
      ]
     },
     "execution_count": 23,
     "metadata": {},
     "output_type": "execute_result"
    }
   ],
   "source": [
    "stats_by_genre = [df[df['genre']==genre][dummy_cols].sum(\n",
    "    axis=1).describe() for genre in df['genre'].unique()]\n",
    "\n",
    "stats_by_genre = pd.concat(stats_by_genre, axis=1)\n",
    "stats_by_genre.columns = df['genre'].unique()\n",
    "stats_by_genre                                             \n"
   ]
  },
  {
   "cell_type": "code",
   "execution_count": 24,
   "id": "d270a400",
   "metadata": {
    "execution": {
     "iopub.execute_input": "2023-03-14T19:31:38.292953Z",
     "iopub.status.busy": "2023-03-14T19:31:38.291944Z",
     "iopub.status.idle": "2023-03-14T19:31:38.310343Z",
     "shell.execute_reply": "2023-03-14T19:31:38.309045Z"
    },
    "papermill": {
     "duration": 0.035951,
     "end_time": "2023-03-14T19:31:38.314354",
     "exception": false,
     "start_time": "2023-03-14T19:31:38.278403",
     "status": "completed"
    },
    "tags": []
   },
   "outputs": [],
   "source": [
    "df = df.drop(columns=dummy_cols)"
   ]
  },
  {
   "cell_type": "markdown",
   "id": "05776761",
   "metadata": {
    "papermill": {
     "duration": 0.021843,
     "end_time": "2023-03-14T19:31:38.360144",
     "exception": false,
     "start_time": "2023-03-14T19:31:38.338301",
     "status": "completed"
    },
    "tags": []
   },
   "source": [
    "## Text Cleaning"
   ]
  },
  {
   "cell_type": "code",
   "execution_count": 25,
   "id": "7ce72e50",
   "metadata": {
    "execution": {
     "iopub.execute_input": "2023-03-14T19:31:38.388921Z",
     "iopub.status.busy": "2023-03-14T19:31:38.388032Z",
     "iopub.status.idle": "2023-03-14T19:31:39.252113Z",
     "shell.execute_reply": "2023-03-14T19:31:39.251200Z"
    },
    "papermill": {
     "duration": 0.881149,
     "end_time": "2023-03-14T19:31:39.255174",
     "exception": false,
     "start_time": "2023-03-14T19:31:38.374025",
     "status": "completed"
    },
    "tags": []
   },
   "outputs": [
    {
     "name": "stdout",
     "output_type": "stream",
     "text": [
      "Duplicates with the same genre: 626\n",
      "Duplicates with different genres: 163\n"
     ]
    }
   ],
   "source": [
    "# Duplicates are songs with multiple artists (e.g. a featuring)\n",
    "# Remove duplicates having the same genre\n",
    "print(f'Duplicates with the same genre: {df.duplicated().sum()}')\n",
    "df = df.drop_duplicates()\n",
    "# Remove lyrics with different genres among duplicates:\n",
    "print(f'Duplicates with different genres: {df.duplicated(subset=\"lyrics\").sum()}')\n",
    "df = df.drop_duplicates(subset=\"lyrics\", keep=False)"
   ]
  },
  {
   "cell_type": "code",
   "execution_count": 26,
   "id": "4835d2bb",
   "metadata": {
    "execution": {
     "iopub.execute_input": "2023-03-14T19:31:39.317762Z",
     "iopub.status.busy": "2023-03-14T19:31:39.317453Z",
     "iopub.status.idle": "2023-03-14T19:31:39.324956Z",
     "shell.execute_reply": "2023-03-14T19:31:39.324006Z"
    },
    "papermill": {
     "duration": 0.040553,
     "end_time": "2023-03-14T19:31:39.328636",
     "exception": false,
     "start_time": "2023-03-14T19:31:39.288083",
     "status": "completed"
    },
    "tags": []
   },
   "outputs": [
    {
     "data": {
      "text/plain": [
       "'You sucked religion from my life\\nWhen we met I believed you were hell\\ntake the knife from my back\\nI know you’ll use it again\\nDon’t Think Of Me\\nI won’t think of you\\nDon’t Think Of Me\\nI won’t think of you\\nYou don’t give\\nYou just take\\nYou don’t give\\nYou just break\\n\\nWe were never friends\\na one act play\\nI had to stop pretending\\nMy heart don’t ache since you’ve been gone\\nIt’s like you never left\\nDon’t Think Of Me\\nI won’t think of you\\nDon’t Think Of Me\\nI won’t think of you\\nYou don’t give\\nYou just take\\nYou don’t give\\nYou just take\\n\\nMy time and my money but money ain’t love no\\nThe evil within shines without a light\\nI know what I see and I mean what I say'"
      ]
     },
     "execution_count": 26,
     "metadata": {},
     "output_type": "execute_result"
    }
   ],
   "source": [
    "random_lyrics = random.choice(df['lyrics'])\n",
    "random_lyrics"
   ]
  },
  {
   "cell_type": "code",
   "execution_count": 27,
   "id": "76532869",
   "metadata": {
    "execution": {
     "iopub.execute_input": "2023-03-14T19:31:39.363600Z",
     "iopub.status.busy": "2023-03-14T19:31:39.363298Z",
     "iopub.status.idle": "2023-03-14T19:31:39.369150Z",
     "shell.execute_reply": "2023-03-14T19:31:39.368174Z"
    },
    "papermill": {
     "duration": 0.021167,
     "end_time": "2023-03-14T19:31:39.371338",
     "exception": false,
     "start_time": "2023-03-14T19:31:39.350171",
     "status": "completed"
    },
    "tags": []
   },
   "outputs": [],
   "source": [
    "def clean_text(lyrics):\n",
    "    lyrics = re.sub(r'\\((.+?)?\\)', '', lyrics)\n",
    "    lyrics = re.sub(r'\\[(.+?)?\\]', '', lyrics)\n",
    "    lyrics = re.sub(r'\\{(.+?)?\\}', '', lyrics)\n",
    "    lyrics = re.sub(r'\\n+', '\\n', lyrics)\n",
    "    lyrics = re.sub(r'^[^a-zA-Z]+$', '', lyrics, flags=re.MULTILINE)\n",
    "    return lyrics"
   ]
  },
  {
   "cell_type": "code",
   "execution_count": 28,
   "id": "0027da62",
   "metadata": {
    "execution": {
     "iopub.execute_input": "2023-03-14T19:31:39.396233Z",
     "iopub.status.busy": "2023-03-14T19:31:39.395493Z",
     "iopub.status.idle": "2023-03-14T19:31:39.402197Z",
     "shell.execute_reply": "2023-03-14T19:31:39.401307Z"
    },
    "papermill": {
     "duration": 0.021644,
     "end_time": "2023-03-14T19:31:39.404437",
     "exception": false,
     "start_time": "2023-03-14T19:31:39.382793",
     "status": "completed"
    },
    "tags": []
   },
   "outputs": [
    {
     "data": {
      "text/plain": [
       "'You sucked religion from my life\\nWhen we met I believed you were hell\\ntake the knife from my back\\nI know you’ll use it again\\nDon’t Think Of Me\\nI won’t think of you\\nDon’t Think Of Me\\nI won’t think of you\\nYou don’t give\\nYou just take\\nYou don’t give\\nYou just break\\nWe were never friends\\na one act play\\nI had to stop pretending\\nMy heart don’t ache since you’ve been gone\\nIt’s like you never left\\nDon’t Think Of Me\\nI won’t think of you\\nDon’t Think Of Me\\nI won’t think of you\\nYou don’t give\\nYou just take\\nYou don’t give\\nYou just take\\nMy time and my money but money ain’t love no\\nThe evil within shines without a light\\nI know what I see and I mean what I say'"
      ]
     },
     "execution_count": 28,
     "metadata": {},
     "output_type": "execute_result"
    }
   ],
   "source": [
    "clean_text(random_lyrics)"
   ]
  },
  {
   "cell_type": "code",
   "execution_count": 29,
   "id": "66b9fda6",
   "metadata": {
    "execution": {
     "iopub.execute_input": "2023-03-14T19:31:39.430245Z",
     "iopub.status.busy": "2023-03-14T19:31:39.429255Z",
     "iopub.status.idle": "2023-03-14T19:31:44.831104Z",
     "shell.execute_reply": "2023-03-14T19:31:44.830013Z"
    },
    "papermill": {
     "duration": 5.420323,
     "end_time": "2023-03-14T19:31:44.835468",
     "exception": false,
     "start_time": "2023-03-14T19:31:39.415145",
     "status": "completed"
    },
    "tags": []
   },
   "outputs": [],
   "source": [
    "df['lyrics'] = df['lyrics'].apply(clean_text)"
   ]
  },
  {
   "cell_type": "code",
   "execution_count": 30,
   "id": "4d422ddf",
   "metadata": {
    "execution": {
     "iopub.execute_input": "2023-03-14T19:31:44.892288Z",
     "iopub.status.busy": "2023-03-14T19:31:44.891881Z",
     "iopub.status.idle": "2023-03-14T19:31:46.303677Z",
     "shell.execute_reply": "2023-03-14T19:31:46.302605Z"
    },
    "papermill": {
     "duration": 1.439368,
     "end_time": "2023-03-14T19:31:46.306212",
     "exception": false,
     "start_time": "2023-03-14T19:31:44.866844",
     "status": "completed"
    },
    "tags": []
   },
   "outputs": [],
   "source": [
    "# Split lyrics in verses consider \\n as sep, filter empty element in list (it's the result of '\\n\\n' or spaces)\n",
    "df['lyrics'] = df['lyrics'].apply(\n",
    "    lambda x: [verse for verse in x.split('\\n') if verse.strip()])"
   ]
  },
  {
   "cell_type": "code",
   "execution_count": 31,
   "id": "298333ef",
   "metadata": {
    "execution": {
     "iopub.execute_input": "2023-03-14T19:31:46.335761Z",
     "iopub.status.busy": "2023-03-14T19:31:46.335403Z",
     "iopub.status.idle": "2023-03-14T19:31:46.392493Z",
     "shell.execute_reply": "2023-03-14T19:31:46.391617Z"
    },
    "papermill": {
     "duration": 0.073529,
     "end_time": "2023-03-14T19:31:46.394709",
     "exception": false,
     "start_time": "2023-03-14T19:31:46.321180",
     "status": "completed"
    },
    "tags": []
   },
   "outputs": [],
   "source": [
    "# Count number of verses\n",
    "df['verses'] = df['lyrics'].apply(len)"
   ]
  },
  {
   "cell_type": "code",
   "execution_count": 32,
   "id": "21536b02",
   "metadata": {
    "execution": {
     "iopub.execute_input": "2023-03-14T19:31:46.420521Z",
     "iopub.status.busy": "2023-03-14T19:31:46.420145Z",
     "iopub.status.idle": "2023-03-14T19:31:47.179526Z",
     "shell.execute_reply": "2023-03-14T19:31:47.178603Z"
    },
    "papermill": {
     "duration": 0.77434,
     "end_time": "2023-03-14T19:31:47.181157",
     "exception": false,
     "start_time": "2023-03-14T19:31:46.406817",
     "status": "completed"
    },
    "tags": []
   },
   "outputs": [
    {
     "data": {
      "image/png": "[encoded data removed]",
      "text/plain": [
       "<Figure size 1200x1000 with 1 Axes>"
      ]
     },
     "metadata": {},
     "output_type": "display_data"
    }
   ],
   "source": [
    "fig, ax = plt.subplots()\n",
    "ax = sns.histplot(data=df, x='verses', bins=200)\n",
    "ax.set_xlabel('lines')\n",
    "ax.set_ylabel('lyrics')\n",
    "#ax.set_title('Lyrics by number of verses')\n",
    "ax.set_xlim([0, 200])\n",
    "plt.savefig('../pgf/hist_lyrics_verses.pgf', backend='pgf')"
   ]
  },
  {
   "cell_type": "code",
   "execution_count": 33,
   "id": "b04e3cfc",
   "metadata": {
    "execution": {
     "iopub.execute_input": "2023-03-14T19:31:47.201952Z",
     "iopub.status.busy": "2023-03-14T19:31:47.201683Z",
     "iopub.status.idle": "2023-03-14T19:31:47.207383Z",
     "shell.execute_reply": "2023-03-14T19:31:47.206480Z"
    },
    "papermill": {
     "duration": 0.019291,
     "end_time": "2023-03-14T19:31:47.210291",
     "exception": false,
     "start_time": "2023-03-14T19:31:47.191000",
     "status": "completed"
    },
    "tags": []
   },
   "outputs": [
    {
     "data": {
      "text/plain": [
       "(103752, 3)"
      ]
     },
     "execution_count": 33,
     "metadata": {},
     "output_type": "execute_result"
    }
   ],
   "source": [
    "df.shape"
   ]
  },
  {
   "cell_type": "markdown",
   "id": "d3e87c06",
   "metadata": {
    "papermill": {
     "duration": 0.00916,
     "end_time": "2023-03-14T19:31:47.235671",
     "exception": false,
     "start_time": "2023-03-14T19:31:47.226511",
     "status": "completed"
    },
    "tags": []
   },
   "source": [
    "## Outlier Detection"
   ]
  },
  {
   "cell_type": "code",
   "execution_count": 34,
   "id": "a85df479",
   "metadata": {
    "execution": {
     "iopub.execute_input": "2023-03-14T19:31:47.257549Z",
     "iopub.status.busy": "2023-03-14T19:31:47.256381Z",
     "iopub.status.idle": "2023-03-14T19:31:47.544387Z",
     "shell.execute_reply": "2023-03-14T19:31:47.543074Z"
    },
    "papermill": {
     "duration": 0.30139,
     "end_time": "2023-03-14T19:31:47.546368",
     "exception": false,
     "start_time": "2023-03-14T19:31:47.244978",
     "status": "completed"
    },
    "tags": []
   },
   "outputs": [
    {
     "data": {
      "image/png": "[encoded data removed]",
      "text/plain": [
       "<Figure size 1200x1000 with 1 Axes>"
      ]
     },
     "metadata": {},
     "output_type": "display_data"
    }
   ],
   "source": [
    "fig, ax = plt.subplots()\n",
    "ax = sns.boxplot(data=df, x='verses', y='genre')\n",
    "ax.set_xlabel('lines')\n",
    "ax.set_ylabel('lyrics')\n",
    "#ax.set_title('Lyrics by number of verses')\n",
    "ax.set_xticks(range(100, 1001, 100))\n",
    "ax.set_xlim([0, 600])\n",
    "plt.savefig('../pgf/box_lyrics_lines.pgf', backend='pgf')"
   ]
  },
  {
   "cell_type": "code",
   "execution_count": 35,
   "id": "9235a7ec",
   "metadata": {
    "execution": {
     "iopub.execute_input": "2023-03-14T19:31:47.570685Z",
     "iopub.status.busy": "2023-03-14T19:31:47.570091Z",
     "iopub.status.idle": "2023-03-14T19:31:47.629517Z",
     "shell.execute_reply": "2023-03-14T19:31:47.628708Z"
    },
    "papermill": {
     "duration": 0.072522,
     "end_time": "2023-03-14T19:31:47.631878",
     "exception": false,
     "start_time": "2023-03-14T19:31:47.559356",
     "status": "completed"
    },
    "tags": []
   },
   "outputs": [],
   "source": [
    "# Drop the outlier rows from the DataFrame\n",
    "df = df.drop(df[df['verses'] > 130].index)\n",
    "df = df.drop(df[df['verses'] < 20].index)"
   ]
  },
  {
   "cell_type": "code",
   "execution_count": 36,
   "id": "02f07ecc",
   "metadata": {
    "execution": {
     "iopub.execute_input": "2023-03-14T19:31:47.658142Z",
     "iopub.status.busy": "2023-03-14T19:31:47.657324Z",
     "iopub.status.idle": "2023-03-14T19:31:47.672540Z",
     "shell.execute_reply": "2023-03-14T19:31:47.670985Z"
    },
    "papermill": {
     "duration": 0.029568,
     "end_time": "2023-03-14T19:31:47.674845",
     "exception": false,
     "start_time": "2023-03-14T19:31:47.645277",
     "status": "completed"
    },
    "tags": []
   },
   "outputs": [],
   "source": [
    "df = df.drop(columns=['verses'])"
   ]
  },
  {
   "cell_type": "code",
   "execution_count": 37,
   "id": "da2673ac",
   "metadata": {
    "execution": {
     "iopub.execute_input": "2023-03-14T19:31:47.697448Z",
     "iopub.status.busy": "2023-03-14T19:31:47.697161Z",
     "iopub.status.idle": "2023-03-14T19:31:49.589065Z",
     "shell.execute_reply": "2023-03-14T19:31:49.588149Z"
    },
    "papermill": {
     "duration": 1.905265,
     "end_time": "2023-03-14T19:31:49.591251",
     "exception": false,
     "start_time": "2023-03-14T19:31:47.685986",
     "status": "completed"
    },
    "tags": []
   },
   "outputs": [
    {
     "data": {
      "text/html": [
       "<div>\n",
       "<style scoped>\n",
       "    .dataframe tbody tr th:only-of-type {\n",
       "        vertical-align: middle;\n",
       "    }\n",
       "\n",
       "    .dataframe tbody tr th {\n",
       "        vertical-align: top;\n",
       "    }\n",
       "\n",
       "    .dataframe thead th {\n",
       "        text-align: right;\n",
       "    }\n",
       "</style>\n",
       "<table border=\"1\" class=\"dataframe\">\n",
       "  <thead>\n",
       "    <tr style=\"text-align: right;\">\n",
       "      <th></th>\n",
       "      <th>verse</th>\n",
       "      <th>genre</th>\n",
       "      <th>index</th>\n",
       "    </tr>\n",
       "  </thead>\n",
       "  <tbody>\n",
       "    <tr>\n",
       "      <th>0</th>\n",
       "      <td>I feel so unsure</td>\n",
       "      <td>pop</td>\n",
       "      <td>0</td>\n",
       "    </tr>\n",
       "    <tr>\n",
       "      <th>1</th>\n",
       "      <td>As I take your hand and lead you to the dance ...</td>\n",
       "      <td>pop</td>\n",
       "      <td>0</td>\n",
       "    </tr>\n",
       "    <tr>\n",
       "      <th>2</th>\n",
       "      <td>As the music dies, something in your eyes</td>\n",
       "      <td>pop</td>\n",
       "      <td>0</td>\n",
       "    </tr>\n",
       "    <tr>\n",
       "      <th>3</th>\n",
       "      <td>Calls to mind a silver screen</td>\n",
       "      <td>pop</td>\n",
       "      <td>0</td>\n",
       "    </tr>\n",
       "    <tr>\n",
       "      <th>4</th>\n",
       "      <td>And all those sad goodbyes</td>\n",
       "      <td>pop</td>\n",
       "      <td>0</td>\n",
       "    </tr>\n",
       "  </tbody>\n",
       "</table>\n",
       "</div>"
      ],
      "text/plain": [
       "                                               verse genre  index\n",
       "0                                   I feel so unsure   pop      0\n",
       "1  As I take your hand and lead you to the dance ...   pop      0\n",
       "2          As the music dies, something in your eyes   pop      0\n",
       "3                      Calls to mind a silver screen   pop      0\n",
       "4                         And all those sad goodbyes   pop      0"
      ]
     },
     "execution_count": 37,
     "metadata": {},
     "output_type": "execute_result"
    }
   ],
   "source": [
    "lyrics_by_verse = zip(list(df['lyrics']),list(df['genre']),list(df.index))\n",
    "\n",
    "verses_by_genre = [(verse, genre, index) for lyrics, genre, index in lyrics_by_verse for verse in lyrics]\n",
    "\n",
    "df_verse = pd.DataFrame(verses_by_genre, columns=['verse','genre','index'])\n",
    "\n",
    "df_verse.head()"
   ]
  },
  {
   "cell_type": "code",
   "execution_count": 38,
   "id": "ff88f7d6",
   "metadata": {
    "execution": {
     "iopub.execute_input": "2023-03-14T19:31:49.620231Z",
     "iopub.status.busy": "2023-03-14T19:31:49.619898Z",
     "iopub.status.idle": "2023-03-14T19:32:14.806172Z",
     "shell.execute_reply": "2023-03-14T19:32:14.805350Z"
    },
    "papermill": {
     "duration": 25.200785,
     "end_time": "2023-03-14T19:32:14.809486",
     "exception": false,
     "start_time": "2023-03-14T19:31:49.608701",
     "status": "completed"
    },
    "tags": []
   },
   "outputs": [],
   "source": [
    "df_verse['tokens'] = df_verse['verse'].apply(lambda x: len(list(tokenize(x))))"
   ]
  },
  {
   "cell_type": "code",
   "execution_count": 39,
   "id": "cedb4ca5",
   "metadata": {
    "execution": {
     "iopub.execute_input": "2023-03-14T19:32:14.841963Z",
     "iopub.status.busy": "2023-03-14T19:32:14.841291Z",
     "iopub.status.idle": "2023-03-14T19:32:16.493564Z",
     "shell.execute_reply": "2023-03-14T19:32:16.491893Z"
    },
    "papermill": {
     "duration": 1.670341,
     "end_time": "2023-03-14T19:32:16.497259",
     "exception": false,
     "start_time": "2023-03-14T19:32:14.826918",
     "status": "completed"
    },
    "tags": []
   },
   "outputs": [
    {
     "data": {
      "image/png": "[encoded data removed]",
      "text/plain": [
       "<Figure size 1200x1000 with 1 Axes>"
      ]
     },
     "metadata": {},
     "output_type": "display_data"
    }
   ],
   "source": [
    "fig, ax = plt.subplots()\n",
    "ax = sns.boxplot(data=df_verse, x='tokens', y='genre')\n",
    "ax.set_xlabel('tokens')\n",
    "ax.set_ylabel('lines')\n",
    "ax.set_xlim([0, 300])\n",
    "plt.savefig('../pgf/box_lines_tokens.pgf', backend='pgf')"
   ]
  },
  {
   "cell_type": "code",
   "execution_count": 40,
   "id": "14e53453",
   "metadata": {
    "execution": {
     "iopub.execute_input": "2023-03-14T19:32:19.435285Z",
     "iopub.status.busy": "2023-03-14T19:32:19.434313Z",
     "iopub.status.idle": "2023-03-14T19:32:21.340324Z",
     "shell.execute_reply": "2023-03-14T19:32:21.339400Z"
    },
    "papermill": {
     "duration": 1.943712,
     "end_time": "2023-03-14T19:32:21.342147",
     "exception": false,
     "start_time": "2023-03-14T19:32:19.398435",
     "status": "completed"
    },
    "tags": []
   },
   "outputs": [
    {
     "name": "stdout",
     "output_type": "stream",
     "text": [
      "Number of outliers: 3959\n",
      "\n",
      "Upper bound:\n",
      "\n",
      "genre\n",
      "pop     16.0\n",
      "rap     18.0\n",
      "rock    16.0\n",
      "dtype: float64\n"
     ]
    }
   ],
   "source": [
    "# Compute the IQR for each genre\n",
    "grouped = df_verse.groupby('genre')\n",
    "# Compute IQR for each group\n",
    "iqr = grouped.apply(lambda x: x['tokens'].quantile(0.75) - x['tokens'].quantile(0.25))\n",
    "# Compute upper bounds for each group\n",
    "upper_bound = grouped.apply(lambda x: x['tokens'].quantile(0.75) + 2 * iqr[x.name])\n",
    "# Reset the index of the upper_bound series to match the labels of the grouped DataFrame\n",
    "#upper_bound = upper_bound\n",
    "# Mark outliers\n",
    "df_verse['outlier'] = np.where(df_verse['tokens'] > upper_bound[df_verse['genre']].values, True, False)\n",
    "# Get the index values of the outlier rows\n",
    "outlier_index = df_verse[df_verse['outlier'] == True]['index'].unique()\n",
    "\n",
    "print(f'Number of outliers: {len(outlier_index)}\\n')\n",
    "\n",
    "print('Upper bound:\\n')\n",
    "print(upper_bound)"
   ]
  },
  {
   "cell_type": "code",
   "execution_count": 41,
   "id": "2e5b6549",
   "metadata": {
    "execution": {
     "iopub.execute_input": "2023-03-14T19:32:21.373479Z",
     "iopub.status.busy": "2023-03-14T19:32:21.372776Z",
     "iopub.status.idle": "2023-03-14T19:32:21.400043Z",
     "shell.execute_reply": "2023-03-14T19:32:21.399022Z"
    },
    "papermill": {
     "duration": 0.046365,
     "end_time": "2023-03-14T19:32:21.402638",
     "exception": false,
     "start_time": "2023-03-14T19:32:21.356273",
     "status": "completed"
    },
    "tags": []
   },
   "outputs": [],
   "source": [
    "df = df.drop(outlier_index)\n",
    "df = df.reset_index(drop=True)"
   ]
  },
  {
   "cell_type": "code",
   "execution_count": 42,
   "id": "2cf91127",
   "metadata": {
    "execution": {
     "iopub.execute_input": "2023-03-14T19:32:21.432881Z",
     "iopub.status.busy": "2023-03-14T19:32:21.432406Z",
     "iopub.status.idle": "2023-03-14T19:32:21.457778Z",
     "shell.execute_reply": "2023-03-14T19:32:21.456592Z"
    },
    "papermill": {
     "duration": 0.042357,
     "end_time": "2023-03-14T19:32:21.460177",
     "exception": false,
     "start_time": "2023-03-14T19:32:21.417820",
     "status": "completed"
    },
    "tags": []
   },
   "outputs": [
    {
     "data": {
      "text/plain": [
       "rock    0.553998\n",
       "pop     0.299019\n",
       "rap     0.146984\n",
       "Name: genre, dtype: float64"
      ]
     },
     "execution_count": 42,
     "metadata": {},
     "output_type": "execute_result"
    }
   ],
   "source": [
    "df['genre'].value_counts(normalize=True)"
   ]
  },
  {
   "cell_type": "code",
   "execution_count": 43,
   "id": "45de9c39",
   "metadata": {
    "execution": {
     "iopub.execute_input": "2023-03-14T19:32:21.490698Z",
     "iopub.status.busy": "2023-03-14T19:32:21.489839Z",
     "iopub.status.idle": "2023-03-14T19:32:21.504928Z",
     "shell.execute_reply": "2023-03-14T19:32:21.503731Z"
    },
    "papermill": {
     "duration": 0.032815,
     "end_time": "2023-03-14T19:32:21.506968",
     "exception": false,
     "start_time": "2023-03-14T19:32:21.474153",
     "status": "completed"
    },
    "tags": []
   },
   "outputs": [
    {
     "data": {
      "text/plain": [
       "rock    47815\n",
       "pop     25808\n",
       "rap     12686\n",
       "Name: genre, dtype: int64"
      ]
     },
     "execution_count": 43,
     "metadata": {},
     "output_type": "execute_result"
    }
   ],
   "source": [
    "df['genre'].value_counts()"
   ]
  },
  {
   "cell_type": "code",
   "execution_count": 44,
   "id": "3115640c",
   "metadata": {
    "execution": {
     "iopub.execute_input": "2023-03-14T19:32:21.534272Z",
     "iopub.status.busy": "2023-03-14T19:32:21.533854Z",
     "iopub.status.idle": "2023-03-14T19:32:21.614240Z",
     "shell.execute_reply": "2023-03-14T19:32:21.613362Z"
    },
    "papermill": {
     "duration": 0.096399,
     "end_time": "2023-03-14T19:32:21.616423",
     "exception": false,
     "start_time": "2023-03-14T19:32:21.520024",
     "status": "completed"
    },
    "tags": []
   },
   "outputs": [],
   "source": [
    "df = df.groupby('genre').sample(n=12000, random_state=42).reset_index(drop=True)"
   ]
  },
  {
   "cell_type": "code",
   "execution_count": 45,
   "id": "524fe6cc",
   "metadata": {
    "execution": {
     "iopub.execute_input": "2023-03-14T19:32:21.670592Z",
     "iopub.status.busy": "2023-03-14T19:32:21.670000Z",
     "iopub.status.idle": "2023-03-14T19:32:21.680346Z",
     "shell.execute_reply": "2023-03-14T19:32:21.679088Z"
    },
    "papermill": {
     "duration": 0.048382,
     "end_time": "2023-03-14T19:32:21.684235",
     "exception": false,
     "start_time": "2023-03-14T19:32:21.635853",
     "status": "completed"
    },
    "tags": []
   },
   "outputs": [],
   "source": [
    "df = df.reset_index(drop=True)\n",
    "# Keep original index as id incase we want to retrieve samples in original df\n",
    "df['id'] = df.index"
   ]
  },
  {
   "cell_type": "code",
   "execution_count": 46,
   "id": "706bf5e3",
   "metadata": {
    "execution": {
     "iopub.execute_input": "2023-03-14T19:32:21.728527Z",
     "iopub.status.busy": "2023-03-14T19:32:21.727445Z",
     "iopub.status.idle": "2023-03-14T19:32:21.747697Z",
     "shell.execute_reply": "2023-03-14T19:32:21.746851Z"
    },
    "papermill": {
     "duration": 0.035274,
     "end_time": "2023-03-14T19:32:21.749585",
     "exception": false,
     "start_time": "2023-03-14T19:32:21.714311",
     "status": "completed"
    },
    "tags": []
   },
   "outputs": [
    {
     "data": {
      "text/html": [
       "<div>\n",
       "<style scoped>\n",
       "    .dataframe tbody tr th:only-of-type {\n",
       "        vertical-align: middle;\n",
       "    }\n",
       "\n",
       "    .dataframe tbody tr th {\n",
       "        vertical-align: top;\n",
       "    }\n",
       "\n",
       "    .dataframe thead th {\n",
       "        text-align: right;\n",
       "    }\n",
       "</style>\n",
       "<table border=\"1\" class=\"dataframe\">\n",
       "  <thead>\n",
       "    <tr style=\"text-align: right;\">\n",
       "      <th></th>\n",
       "      <th>lyrics</th>\n",
       "      <th>genre</th>\n",
       "      <th>id</th>\n",
       "    </tr>\n",
       "  </thead>\n",
       "  <tbody>\n",
       "    <tr>\n",
       "      <th>0</th>\n",
       "      <td>[So long, My sweet love, I miss you, More than...</td>\n",
       "      <td>pop</td>\n",
       "      <td>0</td>\n",
       "    </tr>\n",
       "    <tr>\n",
       "      <th>1</th>\n",
       "      <td>[It won't be long before I'm leaving here, The...</td>\n",
       "      <td>pop</td>\n",
       "      <td>1</td>\n",
       "    </tr>\n",
       "    <tr>\n",
       "      <th>2</th>\n",
       "      <td>[Are we crazy?, Living our lives through a len...</td>\n",
       "      <td>pop</td>\n",
       "      <td>2</td>\n",
       "    </tr>\n",
       "    <tr>\n",
       "      <th>3</th>\n",
       "      <td>[When did it go wrong, I will never know, I ha...</td>\n",
       "      <td>pop</td>\n",
       "      <td>3</td>\n",
       "    </tr>\n",
       "    <tr>\n",
       "      <th>4</th>\n",
       "      <td>[I've waited all this time, Counting minutes a...</td>\n",
       "      <td>pop</td>\n",
       "      <td>4</td>\n",
       "    </tr>\n",
       "  </tbody>\n",
       "</table>\n",
       "</div>"
      ],
      "text/plain": [
       "                                              lyrics genre  id\n",
       "0  [So long, My sweet love, I miss you, More than...   pop   0\n",
       "1  [It won't be long before I'm leaving here, The...   pop   1\n",
       "2  [Are we crazy?, Living our lives through a len...   pop   2\n",
       "3  [When did it go wrong, I will never know, I ha...   pop   3\n",
       "4  [I've waited all this time, Counting minutes a...   pop   4"
      ]
     },
     "execution_count": 46,
     "metadata": {},
     "output_type": "execute_result"
    }
   ],
   "source": [
    "df.head()"
   ]
  },
  {
   "cell_type": "code",
   "execution_count": 47,
   "id": "13f192a9",
   "metadata": {
    "execution": {
     "iopub.execute_input": "2023-03-14T19:32:21.779557Z",
     "iopub.status.busy": "2023-03-14T19:32:21.778633Z",
     "iopub.status.idle": "2023-03-14T19:32:23.453198Z",
     "shell.execute_reply": "2023-03-14T19:32:23.451895Z"
    },
    "papermill": {
     "duration": 1.693992,
     "end_time": "2023-03-14T19:32:23.457355",
     "exception": false,
     "start_time": "2023-03-14T19:32:21.763363",
     "status": "completed"
    },
    "tags": []
   },
   "outputs": [
    {
     "data": {
      "text/plain": [
       "\"\\ndf.to_csv('../data/lyrics.csv', index=False)\\n\""
      ]
     },
     "execution_count": 47,
     "metadata": {},
     "output_type": "execute_result"
    }
   ],
   "source": [
    "\"\"\"\n",
    "df.to_csv('../data/lyrics.csv', index=False)\n",
    "\"\"\""
   ]
  }
 ],
 "metadata": {
  "kernelspec": {
   "display_name": "Python 3 (ipykernel)",
   "language": "python",
   "name": "python3"
  },
  "language_info": {
   "codemirror_mode": {
    "name": "ipython",
    "version": 3
   },
   "file_extension": ".py",
   "mimetype": "text/x-python",
   "name": "python",
   "nbconvert_exporter": "python",
   "pygments_lexer": "ipython3",
   "version": "3.9.16"
  },
  "papermill": {
   "default_parameters": {},
   "duration": 428.889762,
   "end_time": "2023-03-14T19:32:24.939595",
   "environment_variables": {},
   "exception": null,
   "input_path": "00_data_preparation.ipynb",
   "output_path": "00_data_preparation.ipynb",
   "parameters": {},
   "start_time": "2023-03-14T19:25:16.049833",
   "version": "2.4.0"
  },
  "vscode": {
   "interpreter": {
    "hash": "eb8d1ded7c87c6f9c253b40add648304d6b51d2e38393955e855effc7e6f899a"
   }
  }
 },
 "nbformat": 4,
 "nbformat_minor": 5
}
