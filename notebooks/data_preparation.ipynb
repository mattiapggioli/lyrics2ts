{
 "cells": [
  {
   "attachments": {},
   "cell_type": "markdown",
   "metadata": {},
   "source": [
    "# Data Preparation"
   ]
  },
  {
   "cell_type": "code",
   "execution_count": 1,
   "metadata": {},
   "outputs": [],
   "source": [
    "import pandas as pd\n",
    "import numpy as np\n",
    "from matplotlib import pyplot as plt\n",
    "import seaborn as sns\n",
    "from tqdm import tqdm\n",
    "from sklearn.preprocessing import MultiLabelBinarizer\n",
    "from itertools import combinations\n",
    "import random\n",
    "import re"
   ]
  },
  {
   "cell_type": "code",
   "execution_count": 2,
   "metadata": {},
   "outputs": [
    {
     "data": {
      "text/html": [
       "<div>\n",
       "<style scoped>\n",
       "    .dataframe tbody tr th:only-of-type {\n",
       "        vertical-align: middle;\n",
       "    }\n",
       "\n",
       "    .dataframe tbody tr th {\n",
       "        vertical-align: top;\n",
       "    }\n",
       "\n",
       "    .dataframe thead th {\n",
       "        text-align: right;\n",
       "    }\n",
       "</style>\n",
       "<table border=\"1\" class=\"dataframe\">\n",
       "  <thead>\n",
       "    <tr style=\"text-align: right;\">\n",
       "      <th></th>\n",
       "      <th>ALink</th>\n",
       "      <th>SName</th>\n",
       "      <th>SLink</th>\n",
       "      <th>Lyric</th>\n",
       "      <th>language</th>\n",
       "    </tr>\n",
       "  </thead>\n",
       "  <tbody>\n",
       "    <tr>\n",
       "      <th>0</th>\n",
       "      <td>/ivete-sangalo/</td>\n",
       "      <td>Arerê</td>\n",
       "      <td>/ivete-sangalo/arere.html</td>\n",
       "      <td>Tudo o que eu quero nessa vida,\\nToda vida, é\\...</td>\n",
       "      <td>pt</td>\n",
       "    </tr>\n",
       "    <tr>\n",
       "      <th>1</th>\n",
       "      <td>/ivete-sangalo/</td>\n",
       "      <td>Se Eu Não Te Amasse Tanto Assim</td>\n",
       "      <td>/ivete-sangalo/se-eu-nao-te-amasse-tanto-assim...</td>\n",
       "      <td>Meu coração\\nSem direção\\nVoando só por voar\\n...</td>\n",
       "      <td>pt</td>\n",
       "    </tr>\n",
       "    <tr>\n",
       "      <th>2</th>\n",
       "      <td>/ivete-sangalo/</td>\n",
       "      <td>Céu da Boca</td>\n",
       "      <td>/ivete-sangalo/chupa-toda.html</td>\n",
       "      <td>É de babaixá!\\nÉ de balacubaca!\\nÉ de babaixá!...</td>\n",
       "      <td>pt</td>\n",
       "    </tr>\n",
       "    <tr>\n",
       "      <th>3</th>\n",
       "      <td>/ivete-sangalo/</td>\n",
       "      <td>Quando A Chuva Passar</td>\n",
       "      <td>/ivete-sangalo/quando-a-chuva-passar.html</td>\n",
       "      <td>Quando a chuva passar\\n\\nPra quê falar\\nSe voc...</td>\n",
       "      <td>pt</td>\n",
       "    </tr>\n",
       "    <tr>\n",
       "      <th>4</th>\n",
       "      <td>/ivete-sangalo/</td>\n",
       "      <td>Sorte Grande</td>\n",
       "      <td>/ivete-sangalo/sorte-grande.html</td>\n",
       "      <td>A minha sorte grande foi você cair do céu\\nMin...</td>\n",
       "      <td>pt</td>\n",
       "    </tr>\n",
       "  </tbody>\n",
       "</table>\n",
       "</div>"
      ],
      "text/plain": [
       "             ALink                            SName  \\\n",
       "0  /ivete-sangalo/                            Arerê   \n",
       "1  /ivete-sangalo/  Se Eu Não Te Amasse Tanto Assim   \n",
       "2  /ivete-sangalo/                      Céu da Boca   \n",
       "3  /ivete-sangalo/            Quando A Chuva Passar   \n",
       "4  /ivete-sangalo/                     Sorte Grande   \n",
       "\n",
       "                                               SLink  \\\n",
       "0                          /ivete-sangalo/arere.html   \n",
       "1  /ivete-sangalo/se-eu-nao-te-amasse-tanto-assim...   \n",
       "2                     /ivete-sangalo/chupa-toda.html   \n",
       "3          /ivete-sangalo/quando-a-chuva-passar.html   \n",
       "4                   /ivete-sangalo/sorte-grande.html   \n",
       "\n",
       "                                               Lyric language  \n",
       "0  Tudo o que eu quero nessa vida,\\nToda vida, é\\...       pt  \n",
       "1  Meu coração\\nSem direção\\nVoando só por voar\\n...       pt  \n",
       "2  É de babaixá!\\nÉ de balacubaca!\\nÉ de babaixá!...       pt  \n",
       "3  Quando a chuva passar\\n\\nPra quê falar\\nSe voc...       pt  \n",
       "4  A minha sorte grande foi você cair do céu\\nMin...       pt  "
      ]
     },
     "execution_count": 2,
     "metadata": {},
     "output_type": "execute_result"
    }
   ],
   "source": [
    "df = pd.read_csv('../data/raw-data/lyrics-data.csv')\n",
    "df.head()"
   ]
  },
  {
   "cell_type": "code",
   "execution_count": 3,
   "metadata": {},
   "outputs": [
    {
     "data": {
      "text/html": [
       "<div>\n",
       "<style scoped>\n",
       "    .dataframe tbody tr th:only-of-type {\n",
       "        vertical-align: middle;\n",
       "    }\n",
       "\n",
       "    .dataframe tbody tr th {\n",
       "        vertical-align: top;\n",
       "    }\n",
       "\n",
       "    .dataframe thead th {\n",
       "        text-align: right;\n",
       "    }\n",
       "</style>\n",
       "<table border=\"1\" class=\"dataframe\">\n",
       "  <thead>\n",
       "    <tr style=\"text-align: right;\">\n",
       "      <th></th>\n",
       "      <th>Artist</th>\n",
       "      <th>Genres</th>\n",
       "      <th>Songs</th>\n",
       "      <th>Popularity</th>\n",
       "      <th>Link</th>\n",
       "    </tr>\n",
       "  </thead>\n",
       "  <tbody>\n",
       "    <tr>\n",
       "      <th>0</th>\n",
       "      <td>Ivete Sangalo</td>\n",
       "      <td>Pop; Axé; Romântico</td>\n",
       "      <td>313.0</td>\n",
       "      <td>4.4</td>\n",
       "      <td>/ivete-sangalo/</td>\n",
       "    </tr>\n",
       "    <tr>\n",
       "      <th>1</th>\n",
       "      <td>Chiclete com Banana</td>\n",
       "      <td>Axé</td>\n",
       "      <td>268.0</td>\n",
       "      <td>3.8</td>\n",
       "      <td>/chiclete-com-banana/</td>\n",
       "    </tr>\n",
       "    <tr>\n",
       "      <th>2</th>\n",
       "      <td>Banda Eva</td>\n",
       "      <td>Axé; Romântico; Reggae</td>\n",
       "      <td>215.0</td>\n",
       "      <td>2.3</td>\n",
       "      <td>/banda-eva/</td>\n",
       "    </tr>\n",
       "    <tr>\n",
       "      <th>3</th>\n",
       "      <td>É O Tchan</td>\n",
       "      <td>Axé</td>\n",
       "      <td>129.0</td>\n",
       "      <td>1.6</td>\n",
       "      <td>/e-o-tchan/</td>\n",
       "    </tr>\n",
       "    <tr>\n",
       "      <th>4</th>\n",
       "      <td>Claudia Leitte</td>\n",
       "      <td>Pop; Axé; Romântico</td>\n",
       "      <td>167.0</td>\n",
       "      <td>1.5</td>\n",
       "      <td>/claudia-leitte/</td>\n",
       "    </tr>\n",
       "  </tbody>\n",
       "</table>\n",
       "</div>"
      ],
      "text/plain": [
       "                Artist                  Genres  Songs  Popularity  \\\n",
       "0        Ivete Sangalo     Pop; Axé; Romântico  313.0         4.4   \n",
       "1  Chiclete com Banana                     Axé  268.0         3.8   \n",
       "2            Banda Eva  Axé; Romântico; Reggae  215.0         2.3   \n",
       "3            É O Tchan                     Axé  129.0         1.6   \n",
       "4       Claudia Leitte     Pop; Axé; Romântico  167.0         1.5   \n",
       "\n",
       "                    Link  \n",
       "0        /ivete-sangalo/  \n",
       "1  /chiclete-com-banana/  \n",
       "2            /banda-eva/  \n",
       "3            /e-o-tchan/  \n",
       "4       /claudia-leitte/  "
      ]
     },
     "execution_count": 3,
     "metadata": {},
     "output_type": "execute_result"
    }
   ],
   "source": [
    "df_art = pd.read_csv('../data/raw-data/artists-data.csv')\n",
    "df_art.head()"
   ]
  },
  {
   "cell_type": "code",
   "execution_count": 4,
   "metadata": {},
   "outputs": [],
   "source": [
    "df = df[df['language']=='en'].reset_index(drop=True)"
   ]
  },
  {
   "attachments": {},
   "cell_type": "markdown",
   "metadata": {},
   "source": [
    "## Class Label Preparation: Genre"
   ]
  },
  {
   "cell_type": "code",
   "execution_count": 5,
   "metadata": {},
   "outputs": [
    {
     "name": "stderr",
     "output_type": "stream",
     "text": [
      "100%|██████████| 191814/191814 [02:45<00:00, 1156.71it/s]\n"
     ]
    }
   ],
   "source": [
    "genres = []\n",
    "for artist_id in tqdm(df['ALink']):    \n",
    "    artist_row = df_art[df_art['Link']==artist_id].reset_index()\n",
    "    try:\n",
    "        genres_in_artist = artist_row['Genres'][0].split('; ')        \n",
    "    except:\n",
    "        genres_in_artist = []\n",
    "    genres.append(genres_in_artist)"
   ]
  },
  {
   "cell_type": "code",
   "execution_count": 6,
   "metadata": {},
   "outputs": [],
   "source": [
    "df.drop(columns = ['ALink', 'SName', 'SLink', 'language'], inplace=True)\n",
    "df.rename(columns={'Lyric': 'lyrics'}, inplace=True)"
   ]
  },
  {
   "cell_type": "code",
   "execution_count": 7,
   "metadata": {},
   "outputs": [
    {
     "data": {
      "text/html": [
       "<div>\n",
       "<style scoped>\n",
       "    .dataframe tbody tr th:only-of-type {\n",
       "        vertical-align: middle;\n",
       "    }\n",
       "\n",
       "    .dataframe tbody tr th {\n",
       "        vertical-align: top;\n",
       "    }\n",
       "\n",
       "    .dataframe thead th {\n",
       "        text-align: right;\n",
       "    }\n",
       "</style>\n",
       "<table border=\"1\" class=\"dataframe\">\n",
       "  <thead>\n",
       "    <tr style=\"text-align: right;\">\n",
       "      <th></th>\n",
       "      <th>Axé</th>\n",
       "      <th>Black Music</th>\n",
       "      <th>Blues</th>\n",
       "      <th>Bossa Nova</th>\n",
       "      <th>COLETÂNEA</th>\n",
       "      <th>Chillout</th>\n",
       "      <th>Classic Rock</th>\n",
       "      <th>Clássico</th>\n",
       "      <th>Country</th>\n",
       "      <th>Dance</th>\n",
       "      <th>...</th>\n",
       "      <th>Soul Music</th>\n",
       "      <th>Surf Music</th>\n",
       "      <th>Tecnopop</th>\n",
       "      <th>Trance</th>\n",
       "      <th>Trap</th>\n",
       "      <th>Trilha Sonora</th>\n",
       "      <th>Trip-Hop</th>\n",
       "      <th>Tropical House</th>\n",
       "      <th>Velha Guarda</th>\n",
       "      <th>World Music</th>\n",
       "    </tr>\n",
       "  </thead>\n",
       "  <tbody>\n",
       "    <tr>\n",
       "      <th>0</th>\n",
       "      <td>1</td>\n",
       "      <td>0</td>\n",
       "      <td>0</td>\n",
       "      <td>0</td>\n",
       "      <td>0</td>\n",
       "      <td>0</td>\n",
       "      <td>0</td>\n",
       "      <td>0</td>\n",
       "      <td>0</td>\n",
       "      <td>0</td>\n",
       "      <td>...</td>\n",
       "      <td>0</td>\n",
       "      <td>0</td>\n",
       "      <td>0</td>\n",
       "      <td>0</td>\n",
       "      <td>0</td>\n",
       "      <td>0</td>\n",
       "      <td>0</td>\n",
       "      <td>0</td>\n",
       "      <td>0</td>\n",
       "      <td>0</td>\n",
       "    </tr>\n",
       "    <tr>\n",
       "      <th>1</th>\n",
       "      <td>1</td>\n",
       "      <td>0</td>\n",
       "      <td>0</td>\n",
       "      <td>0</td>\n",
       "      <td>0</td>\n",
       "      <td>0</td>\n",
       "      <td>0</td>\n",
       "      <td>0</td>\n",
       "      <td>0</td>\n",
       "      <td>0</td>\n",
       "      <td>...</td>\n",
       "      <td>0</td>\n",
       "      <td>0</td>\n",
       "      <td>0</td>\n",
       "      <td>0</td>\n",
       "      <td>0</td>\n",
       "      <td>0</td>\n",
       "      <td>0</td>\n",
       "      <td>0</td>\n",
       "      <td>0</td>\n",
       "      <td>0</td>\n",
       "    </tr>\n",
       "    <tr>\n",
       "      <th>2</th>\n",
       "      <td>1</td>\n",
       "      <td>0</td>\n",
       "      <td>0</td>\n",
       "      <td>0</td>\n",
       "      <td>0</td>\n",
       "      <td>0</td>\n",
       "      <td>0</td>\n",
       "      <td>0</td>\n",
       "      <td>0</td>\n",
       "      <td>0</td>\n",
       "      <td>...</td>\n",
       "      <td>0</td>\n",
       "      <td>0</td>\n",
       "      <td>0</td>\n",
       "      <td>0</td>\n",
       "      <td>0</td>\n",
       "      <td>0</td>\n",
       "      <td>0</td>\n",
       "      <td>0</td>\n",
       "      <td>0</td>\n",
       "      <td>0</td>\n",
       "    </tr>\n",
       "    <tr>\n",
       "      <th>3</th>\n",
       "      <td>1</td>\n",
       "      <td>0</td>\n",
       "      <td>0</td>\n",
       "      <td>0</td>\n",
       "      <td>0</td>\n",
       "      <td>0</td>\n",
       "      <td>0</td>\n",
       "      <td>0</td>\n",
       "      <td>0</td>\n",
       "      <td>0</td>\n",
       "      <td>...</td>\n",
       "      <td>0</td>\n",
       "      <td>0</td>\n",
       "      <td>0</td>\n",
       "      <td>0</td>\n",
       "      <td>0</td>\n",
       "      <td>0</td>\n",
       "      <td>0</td>\n",
       "      <td>0</td>\n",
       "      <td>0</td>\n",
       "      <td>0</td>\n",
       "    </tr>\n",
       "    <tr>\n",
       "      <th>4</th>\n",
       "      <td>1</td>\n",
       "      <td>0</td>\n",
       "      <td>0</td>\n",
       "      <td>0</td>\n",
       "      <td>0</td>\n",
       "      <td>0</td>\n",
       "      <td>0</td>\n",
       "      <td>0</td>\n",
       "      <td>0</td>\n",
       "      <td>0</td>\n",
       "      <td>...</td>\n",
       "      <td>0</td>\n",
       "      <td>0</td>\n",
       "      <td>0</td>\n",
       "      <td>0</td>\n",
       "      <td>0</td>\n",
       "      <td>0</td>\n",
       "      <td>0</td>\n",
       "      <td>0</td>\n",
       "      <td>0</td>\n",
       "      <td>0</td>\n",
       "    </tr>\n",
       "  </tbody>\n",
       "</table>\n",
       "<p>5 rows × 75 columns</p>\n",
       "</div>"
      ],
      "text/plain": [
       "   Axé  Black Music  Blues  Bossa Nova  COLETÂNEA  Chillout  Classic Rock  \\\n",
       "0    1            0      0           0          0         0             0   \n",
       "1    1            0      0           0          0         0             0   \n",
       "2    1            0      0           0          0         0             0   \n",
       "3    1            0      0           0          0         0             0   \n",
       "4    1            0      0           0          0         0             0   \n",
       "\n",
       "   Clássico  Country  Dance  ...  Soul Music  Surf Music  Tecnopop  Trance  \\\n",
       "0         0        0      0  ...           0           0         0       0   \n",
       "1         0        0      0  ...           0           0         0       0   \n",
       "2         0        0      0  ...           0           0         0       0   \n",
       "3         0        0      0  ...           0           0         0       0   \n",
       "4         0        0      0  ...           0           0         0       0   \n",
       "\n",
       "   Trap  Trilha Sonora  Trip-Hop  Tropical House  Velha Guarda  World Music  \n",
       "0     0              0         0               0             0            0  \n",
       "1     0              0         0               0             0            0  \n",
       "2     0              0         0               0             0            0  \n",
       "3     0              0         0               0             0            0  \n",
       "4     0              0         0               0             0            0  \n",
       "\n",
       "[5 rows x 75 columns]"
      ]
     },
     "execution_count": 7,
     "metadata": {},
     "output_type": "execute_result"
    }
   ],
   "source": [
    "genres = pd.Series(genres)\n",
    "# Convert nested list into one-hot-encoding\n",
    "mlb = MultiLabelBinarizer()\n",
    "genres_one_hot = pd.DataFrame(mlb.fit_transform(genres),\n",
    "                    columns=mlb.classes_,\n",
    "                    index=genres.index)\n",
    "genres_one_hot.head()"
   ]
  },
  {
   "cell_type": "code",
   "execution_count": 8,
   "metadata": {},
   "outputs": [
    {
     "data": {
      "text/plain": [
       "Rock           63717\n",
       "Pop            33571\n",
       "Pop/Rock       26360\n",
       "Heavy Metal    21759\n",
       "Hip Hop        20902\n",
       "Indie          20134\n",
       "Romântico      17947\n",
       "Hard Rock      17250\n",
       "Rap            17114\n",
       "R&B            15581\n",
       "dtype: int64"
      ]
     },
     "execution_count": 8,
     "metadata": {},
     "output_type": "execute_result"
    }
   ],
   "source": [
    "genres_one_hot.sum().sort_values(ascending=False)[:10]"
   ]
  },
  {
   "cell_type": "code",
   "execution_count": 9,
   "metadata": {},
   "outputs": [],
   "source": [
    "# Keep only the 8 most frequent genres (some of them will also be merged)\n",
    "genres2keep = genres_one_hot.sum().sort_values(ascending=False)[:9].keys()\n",
    "\n",
    "# Format labels\n",
    "format_label = lambda s: s.lower().replace(' ', '-').replace('/', '-')\n",
    "\n",
    "genres_one_hot = genres_one_hot[genres2keep]\n",
    "genres_one_hot.rename(columns = dict([(\n",
    "    genre_label, format_label(genre_label)) \n",
    "    for genre_label in genres_one_hot.keys()]), inplace=True)"
   ]
  },
  {
   "cell_type": "code",
   "execution_count": 10,
   "metadata": {},
   "outputs": [],
   "source": [
    "df = pd.concat([df, genres_one_hot], axis=1)"
   ]
  },
  {
   "cell_type": "code",
   "execution_count": 11,
   "metadata": {},
   "outputs": [],
   "source": [
    "genre_labels = [label for label in df.keys() if label != 'lyrics']\n",
    "\n",
    "# Remove lyrics that do not fit into the main genres\n",
    "df.drop(df[df[genre_labels].sum(axis=1) == 0].index, inplace=True)"
   ]
  },
  {
   "cell_type": "code",
   "execution_count": 12,
   "metadata": {},
   "outputs": [
    {
     "data": {
      "text/plain": [
       "[(('hip-hop', 'rap'), 0.5317297231959386),\n",
       " (('heavy-metal', 'hard-rock'), 0.29537756525204223),\n",
       " (('rock', 'hard-rock'), 0.2094735898661568),\n",
       " (('pop', 'pop-rock'), 0.20258854218922445),\n",
       " (('rock', 'heavy-metal'), 0.15670672296200064),\n",
       " (('pop', 'romântico'), 0.13970311704975333),\n",
       " (('rock', 'pop-rock'), 0.13782431852057703),\n",
       " (('pop-rock', 'romântico'), 0.10936678434612784),\n",
       " (('rock', 'indie'), 0.10295433021151215),\n",
       " (('pop', 'hip-hop'), 0.058550330353672755),\n",
       " (('rock', 'romântico'), 0.0391540585593037),\n",
       " (('pop-rock', 'indie'), 0.03575486199291586),\n",
       " (('pop', 'rap'), 0.03301742586365026),\n",
       " (('pop', 'indie'), 0.02956118321415563),\n",
       " (('rock', 'pop'), 0.029502645502645503),\n",
       " (('indie', 'romântico'), 0.029299672946455118),\n",
       " (('pop-rock', 'hard-rock'), 0.012772875058058523),\n",
       " (('rock', 'hip-hop'), 0.007644950403086559),\n",
       " (('indie', 'hard-rock'), 0.007030681787571048),\n",
       " (('romântico', 'hard-rock'), 0.005513655582219175)]"
      ]
     },
     "execution_count": 12,
     "metadata": {},
     "output_type": "execute_result"
    }
   ],
   "source": [
    "jaccard_similarity = lambda x, y: np.logical_and(x, y).sum() / np.logical_or(x, y).sum()\n",
    "\n",
    "genre_pairs = list(combinations(genre_labels, 2))\n",
    "\n",
    "genre_similarities = [jaccard_similarity(df[genre_pair[0]], df[genre_pair[1]]) \n",
    "    for genre_pair in genre_pairs]\n",
    "\n",
    "sorted(list(zip(genre_pairs, genre_similarities)),\n",
    "    reverse=True, key=lambda x: x[1])[:20]"
   ]
  },
  {
   "cell_type": "code",
   "execution_count": 13,
   "metadata": {},
   "outputs": [],
   "source": [
    "# Merge together rap and hip hop\n",
    "df['rap'] = np.logical_or(df['rap'], df['hip-hop']).replace({True: 1, False: 0})\n",
    "# Drop columns\n",
    "df.drop(columns=['romântico'], inplace=True)\n",
    "df.drop(columns=['hip-hop'], inplace=True)\n",
    "# Remove again lyrics that do not fit into the genres kept\n",
    "genre_labels = [label for label in df.keys() if label != 'lyrics']\n",
    "df.drop(df[df[genre_labels].sum(axis=1) == 0].index, inplace=True)"
   ]
  },
  {
   "cell_type": "code",
   "execution_count": 14,
   "metadata": {},
   "outputs": [
    {
     "data": {
      "text/plain": [
       "rock           26201\n",
       "pop            17770\n",
       "pop-rock        6011\n",
       "heavy-metal     8447\n",
       "indie           9468\n",
       "hard-rock       1460\n",
       "rap            20185\n",
       "dtype: int64"
      ]
     },
     "execution_count": 14,
     "metadata": {},
     "output_type": "execute_result"
    }
   ],
   "source": [
    "# Get unique labels and compute value counts\n",
    "df[df[genre_labels].sum(axis=1) == 1][genre_labels].sum(axis=0)"
   ]
  },
  {
   "cell_type": "code",
   "execution_count": 15,
   "metadata": {},
   "outputs": [],
   "source": [
    "# Drop songs with multiple genres\n",
    "df.drop(df[df[genre_labels].sum(axis=1) > 1].index, inplace=True)\n",
    "# Keep only rock, pop and rap lyrics:\n",
    "# 1) Remove columns\n",
    "df.drop(columns=['pop-rock','heavy-metal','indie','hard-rock'], inplace=True)\n",
    "# 2) Remove rows\n",
    "genre_labels = [label for label in df.keys() if label != 'lyrics']\n",
    "df.drop(df[df[genre_labels].sum(axis=1) == 0].index, inplace=True)"
   ]
  },
  {
   "cell_type": "code",
   "execution_count": 16,
   "metadata": {},
   "outputs": [
    {
     "name": "stdout",
     "output_type": "stream",
     "text": [
      "Duplicates with the same genre: 349\n",
      "Duplicates with different genres: 90\n"
     ]
    }
   ],
   "source": [
    "# Duplicates are songs with multiple artists (e.g. a featuring)\n",
    "# Remove duplicates having the same genre\n",
    "print(f'Duplicates with the same genre: {df.duplicated().sum()}')\n",
    "df.drop_duplicates(inplace=True)\n",
    "# Remove lyrics with different genres among duplicates:\n",
    "print(f'Duplicates with different genres: {df.duplicated(subset=\"lyrics\").sum()}')\n",
    "df.drop_duplicates(subset=\"lyrics\", keep=False, inplace=True)"
   ]
  },
  {
   "cell_type": "code",
   "execution_count": 17,
   "metadata": {},
   "outputs": [
    {
     "data": {
      "text/plain": [
       "rock    26082\n",
       "pop     17576\n",
       "rap     19969\n",
       "dtype: int64"
      ]
     },
     "execution_count": 17,
     "metadata": {},
     "output_type": "execute_result"
    }
   ],
   "source": [
    "df[genre_labels].sum(axis=0)"
   ]
  },
  {
   "cell_type": "code",
   "execution_count": 18,
   "metadata": {},
   "outputs": [],
   "source": [
    "df.reset_index(inplace=True, drop=True)"
   ]
  },
  {
   "attachments": {},
   "cell_type": "markdown",
   "metadata": {},
   "source": [
    "## Text Cleaning"
   ]
  },
  {
   "cell_type": "code",
   "execution_count": 19,
   "metadata": {},
   "outputs": [
    {
     "data": {
      "text/plain": [
       "\"I can't explain\\nCan't quite put my finger on\\nThe difference that makes us so different\\nWe've said everything... our words only betray us\\nNothing is left... nothing was left unsaid\\n\\nThis time... I have nothing left to lose\\nI'm stuck... the second hand won't move\\nIt's about time that I speak my mind\\nIt's about time... about time I find\\nPieces of me I have lost\\nWithout any choice I move on\\nHey time you're no friend of mine\\nHey time you're no friend of mine\\n\\nYou cover yourself... you cover your skin\\nYou cover yourself... like you cover your sin\\nPlease untie my hands... I'm a sinner... I'm a man\\nI ask for one minute... to make you understand\\n\\nThis time... I have nothing left to lose\\nI'm stuck... the second hand won't move\\nIt's about time that I speak my mind\\nIt's about time... about time I find\\nPieces of me I have lost\\nWithout any choice I move on\\nHey time you're no friend of mine\\nHey time you're no friend of mine\\n\\nWill you be there to catch me when I stumble\\nWhen I fall... when I fall?\\nIt's so very clear you left me when I had no one at all\\nNo one at all\\nWho will be there to catch me... to catch me\\nWhen I stumble... when I fall\\nWhen I fall\\nIt's so very clear you left me... you left me When I had no one at all\\nNo one at all\\n\\nThis time... I have nothing left to lose\\nI'm stuck... the second hand won't move\\nIt's about time that I speak my mind\\nIt's about time... about time I find\\nPieces of me I have lost\\nWithout any choice I move on\\nHey time... you're no friend of mine\\nYou're no friend of mine\\nHey time... you're no friend of mine\\nYou're no friend of mine\\nHey time... you're no friend of mine\\nHey time... you're no friend of mine\\nPieces of me I have lost...\\nWithout any choice I move on\\nhey time... time you're no friend of mine\""
      ]
     },
     "execution_count": 19,
     "metadata": {},
     "output_type": "execute_result"
    }
   ],
   "source": [
    "rand = random.choice(df['lyrics'])\n",
    "rand"
   ]
  },
  {
   "cell_type": "code",
   "execution_count": 20,
   "metadata": {},
   "outputs": [],
   "source": [
    "def clean_text(lyrics):\n",
    "    lyrics = re.sub(r'\\((.+?)?\\)', '', lyrics)\n",
    "    lyrics = re.sub(r'\\[(.+?)?\\]', '', lyrics)\n",
    "    lyrics = re.sub(r'\\{(.+?)?\\}', '', lyrics)\n",
    "    lyrics = re.sub(r'\\n+', '\\n', lyrics)\n",
    "    lyrics = re.sub(r'^[^a-zA-Z]+$', '', lyrics, flags=re.MULTILINE)\n",
    "    return lyrics"
   ]
  },
  {
   "cell_type": "code",
   "execution_count": 21,
   "metadata": {},
   "outputs": [
    {
     "data": {
      "text/plain": [
       "'\"Already Gone\"\\nI wanna ride through the canyons\\nI’m on the run with the horses\\nI’m gonna change with the season\\nI wanna live for a reason\\nI wanna sing for the people\\nI gotta hide from the needle\\nI’m on the run from addiction\\nI’ gonna dance with the devil yea\\nI’m already gone\\nWon’t you play along\\nWith all my stupid fucking games\\nI’m already gone\\nYou’re always playing the victim\\nYou really know you’re addicted\\nDon’t wanna live in a prison\\nI’m gonna sink in the ocean\\nI’m on the run from the system\\nI watch the sun burn their vision\\nI’m gonna fly with the angels\\nI’m gonna dance with the devil yea\\nI’m already gone\\nWon’t you play along\\nWith all my stupid fucking games\\nI’m already gone\\nI’m already gone\\nI’m already gone\\nI’m already gone\\nYou take away everything\\nYou never given back to me\\nJust take away everything\\nYou never give it back to me\\nI gotta kill the addiction\\nI gotta kill the addiction\\nI gotta kill the addiction\\nI’m already gone\\nWon’t you play along\\nWith all my stupid fucking games\\nI’m already gone\\nI’m already gone\\nI’m already gone\\nI’m already gone\\nI gotta kill the addiction\\nI gotta kill the addiction\\nby DCRBatista'"
      ]
     },
     "execution_count": 21,
     "metadata": {},
     "output_type": "execute_result"
    }
   ],
   "source": [
    "rand = random.choice(df['lyrics'])\n",
    "clean_text(rand)"
   ]
  },
  {
   "cell_type": "code",
   "execution_count": 22,
   "metadata": {},
   "outputs": [
    {
     "name": "stderr",
     "output_type": "stream",
     "text": [
      "100%|██████████| 63627/63627 [00:03<00:00, 19420.94it/s]\n"
     ]
    }
   ],
   "source": [
    "df['lyrics'] = [clean_text(lyrics) for lyrics in tqdm(df['lyrics'])]"
   ]
  },
  {
   "cell_type": "code",
   "execution_count": 23,
   "metadata": {},
   "outputs": [],
   "source": [
    "# Split lyrics in verses consider \\n as sep, filter empty element in list (it's the result of '\\n\\n' or spaces)\n",
    "df['lyrics'] = list(map(lambda x: [verse for verse in x.split('\\n') if verse.strip()], df['lyrics']))"
   ]
  },
  {
   "cell_type": "code",
   "execution_count": 24,
   "metadata": {},
   "outputs": [],
   "source": [
    "# count number of verses\n",
    "df['verses'] = df['lyrics'].apply(len)"
   ]
  },
  {
   "cell_type": "code",
   "execution_count": 25,
   "metadata": {},
   "outputs": [
    {
     "data": {
      "image/png": "[encoded data removed]",
      "text/plain": [
       "<Figure size 640x480 with 1 Axes>"
      ]
     },
     "metadata": {},
     "output_type": "display_data"
    }
   ],
   "source": [
    "fig, ax = plt.subplots()\n",
    "ax = sns.histplot(data=df, x='verses', bins=50)\n",
    "ax.set_xlabel('Verses')\n",
    "ax.set_ylabel('Lyrics')\n",
    "ax.set_title('Lyrics by number of verses')\n",
    "# There seems to be outliers\n",
    "ax.set_xlim([0, 200])\n",
    "plt.show()"
   ]
  },
  {
   "cell_type": "code",
   "execution_count": 26,
   "metadata": {},
   "outputs": [],
   "source": [
    "# Remove short lyrics\n",
    "df = df[df['verses']>20]\n",
    "# Truncate long lyrics\n",
    "df['lyrics'] = list(map(lambda x: x[:100] if len(x) > 100 else x, df['lyrics']))"
   ]
  },
  {
   "cell_type": "code",
   "execution_count": 27,
   "metadata": {},
   "outputs": [
    {
     "data": {
      "image/png": "[encoded data removed]",
      "text/plain": [
       "<Figure size 640x480 with 1 Axes>"
      ]
     },
     "metadata": {},
     "output_type": "display_data"
    }
   ],
   "source": [
    "# count number of verses\n",
    "df['verses'] = df['lyrics'].apply(len)\n",
    "# Plot distribution\n",
    "fig, ax = plt.subplots()\n",
    "ax = sns.histplot(data=df, x='verses', bins=20)\n",
    "ax.set_xlabel('Verses')\n",
    "ax.set_ylabel('Lyrics')\n",
    "ax.set_title('Lyrics by number of verses')\n",
    "ax.set_xlim([0, 100])\n",
    "plt.show()"
   ]
  },
  {
   "cell_type": "code",
   "execution_count": 28,
   "metadata": {},
   "outputs": [
    {
     "data": {
      "text/html": [
       "<div>\n",
       "<style scoped>\n",
       "    .dataframe tbody tr th:only-of-type {\n",
       "        vertical-align: middle;\n",
       "    }\n",
       "\n",
       "    .dataframe tbody tr th {\n",
       "        vertical-align: top;\n",
       "    }\n",
       "\n",
       "    .dataframe thead th {\n",
       "        text-align: right;\n",
       "    }\n",
       "</style>\n",
       "<table border=\"1\" class=\"dataframe\">\n",
       "  <thead>\n",
       "    <tr style=\"text-align: right;\">\n",
       "      <th></th>\n",
       "      <th>lyrics</th>\n",
       "      <th>verses</th>\n",
       "      <th>genre</th>\n",
       "    </tr>\n",
       "  </thead>\n",
       "  <tbody>\n",
       "    <tr>\n",
       "      <th>0</th>\n",
       "      <td>[I feel so unsure, As I take your hand and lea...</td>\n",
       "      <td>47</td>\n",
       "      <td>pop</td>\n",
       "    </tr>\n",
       "    <tr>\n",
       "      <th>1</th>\n",
       "      <td>[Don't let them fool, ya, Or even try to schoo...</td>\n",
       "      <td>28</td>\n",
       "      <td>pop</td>\n",
       "    </tr>\n",
       "    <tr>\n",
       "      <th>2</th>\n",
       "      <td>[Baby, let's cruise, away from here, Don't be ...</td>\n",
       "      <td>26</td>\n",
       "      <td>pop</td>\n",
       "    </tr>\n",
       "    <tr>\n",
       "      <th>3</th>\n",
       "      <td>[Know it sounds funny, But, I just can't stand...</td>\n",
       "      <td>31</td>\n",
       "      <td>pop</td>\n",
       "    </tr>\n",
       "    <tr>\n",
       "      <th>4</th>\n",
       "      <td>[You've got that look again, The one I hoped I...</td>\n",
       "      <td>35</td>\n",
       "      <td>pop</td>\n",
       "    </tr>\n",
       "  </tbody>\n",
       "</table>\n",
       "</div>"
      ],
      "text/plain": [
       "                                              lyrics  verses genre\n",
       "0  [I feel so unsure, As I take your hand and lea...      47   pop\n",
       "1  [Don't let them fool, ya, Or even try to schoo...      28   pop\n",
       "2  [Baby, let's cruise, away from here, Don't be ...      26   pop\n",
       "3  [Know it sounds funny, But, I just can't stand...      31   pop\n",
       "4  [You've got that look again, The one I hoped I...      35   pop"
      ]
     },
     "execution_count": 28,
     "metadata": {},
     "output_type": "execute_result"
    }
   ],
   "source": [
    "# Map again dummy variables to labels\n",
    "df['genre'] = df[['rock', 'pop', 'rap']].apply(lambda x: 'rock' if x[0] == 1 else ('pop' if x[1] == 1 else ('rap' if x[2] == 1 else None)), axis=1)\n",
    "\n",
    "# Drop dummy variables\n",
    "df = df.drop(columns=['rock', 'pop', 'rap'])\n",
    "\n",
    "df.head()"
   ]
  },
  {
   "cell_type": "code",
   "execution_count": 29,
   "metadata": {},
   "outputs": [
    {
     "data": {
      "text/plain": [
       "rock    19998\n",
       "rap     19108\n",
       "pop     16112\n",
       "Name: genre, dtype: int64"
      ]
     },
     "execution_count": 29,
     "metadata": {},
     "output_type": "execute_result"
    }
   ],
   "source": [
    "df['genre'].value_counts()"
   ]
  },
  {
   "cell_type": "code",
   "execution_count": 30,
   "metadata": {},
   "outputs": [
    {
     "data": {
      "text/plain": [
       "(55218, 3)"
      ]
     },
     "execution_count": 30,
     "metadata": {},
     "output_type": "execute_result"
    }
   ],
   "source": [
    "df.shape"
   ]
  },
  {
   "attachments": {},
   "cell_type": "markdown",
   "metadata": {},
   "source": [
    "## Sampling"
   ]
  },
  {
   "cell_type": "code",
   "execution_count": 31,
   "metadata": {},
   "outputs": [],
   "source": [
    "df.reset_index(inplace=True, drop=True)\n",
    "# Keep original index as id incase we want to retrieve samples in original df\n",
    "df['id'] = df.index\n",
    "\n",
    "# Create samples taking 100 lyrics by genre\n",
    "genre_sample150 = [df[df['genre'] == genre_label].sample(n=50, weights='verses', random_state=0) for genre_label in genre_labels]\n",
    "\n",
    "df_eval = pd.concat(genre_sample150).drop(columns=['verses']).reset_index()\n",
    "\n",
    "df_eval.to_csv('../data/evaluation/lyrics_eval.csv', index=False)"
   ]
  },
  {
   "cell_type": "code",
   "execution_count": 32,
   "metadata": {},
   "outputs": [],
   "source": [
    "df.drop(columns=['verses'], inplace=True)\n",
    "# Save df\n",
    "df.to_csv('../data/lyrics.csv', index=False)"
   ]
  },
  {
   "attachments": {},
   "cell_type": "markdown",
   "metadata": {},
   "source": [
    "## Evaluation Dataset Preparation"
   ]
  },
  {
   "cell_type": "code",
   "execution_count": 33,
   "metadata": {},
   "outputs": [],
   "source": [
    "import pandas as pd\n",
    "import numpy as np\n",
    "import random\n",
    "import ast\n",
    "from tqdm import tqdm\n",
    "import nlpaug.augmenter.word as naw\n",
    "#from textattack.augmentation import EmbeddingAugmenter\n",
    "#from faker import Faker\n",
    "from math import sqrt\n",
    "from sklearn.model_selection import train_test_split"
   ]
  },
  {
   "cell_type": "code",
   "execution_count": 34,
   "metadata": {},
   "outputs": [],
   "source": [
    "df = pd.read_csv('../data/evaluation/lyrics_eval.csv')"
   ]
  },
  {
   "cell_type": "code",
   "execution_count": 35,
   "metadata": {},
   "outputs": [
    {
     "data": {
      "text/html": [
       "<div>\n",
       "<style scoped>\n",
       "    .dataframe tbody tr th:only-of-type {\n",
       "        vertical-align: middle;\n",
       "    }\n",
       "\n",
       "    .dataframe tbody tr th {\n",
       "        vertical-align: top;\n",
       "    }\n",
       "\n",
       "    .dataframe thead th {\n",
       "        text-align: right;\n",
       "    }\n",
       "</style>\n",
       "<table border=\"1\" class=\"dataframe\">\n",
       "  <thead>\n",
       "    <tr style=\"text-align: right;\">\n",
       "      <th></th>\n",
       "      <th>index</th>\n",
       "      <th>lyrics</th>\n",
       "      <th>genre</th>\n",
       "      <th>id</th>\n",
       "    </tr>\n",
       "  </thead>\n",
       "  <tbody>\n",
       "    <tr>\n",
       "      <th>0</th>\n",
       "      <td>40043</td>\n",
       "      <td>[\"When I'm lyin' in my bed at night\", \"I don't...</td>\n",
       "      <td>rock</td>\n",
       "      <td>40043</td>\n",
       "    </tr>\n",
       "    <tr>\n",
       "      <th>1</th>\n",
       "      <td>48922</td>\n",
       "      <td>['Love is like problems', \"We all got 'em\", 'A...</td>\n",
       "      <td>rock</td>\n",
       "      <td>48922</td>\n",
       "    </tr>\n",
       "    <tr>\n",
       "      <th>2</th>\n",
       "      <td>41840</td>\n",
       "      <td>[\"As I was motivatin'\", 'Back in town', 'I saw...</td>\n",
       "      <td>rock</td>\n",
       "      <td>41840</td>\n",
       "    </tr>\n",
       "    <tr>\n",
       "      <th>3</th>\n",
       "      <td>39964</td>\n",
       "      <td>['Oh love, oh love', \"Won't you rain on me ton...</td>\n",
       "      <td>rock</td>\n",
       "      <td>39964</td>\n",
       "    </tr>\n",
       "    <tr>\n",
       "      <th>4</th>\n",
       "      <td>37806</td>\n",
       "      <td>['Take my breath away', \"I don't need it anywa...</td>\n",
       "      <td>rock</td>\n",
       "      <td>37806</td>\n",
       "    </tr>\n",
       "  </tbody>\n",
       "</table>\n",
       "</div>"
      ],
      "text/plain": [
       "   index                                             lyrics genre     id\n",
       "0  40043  [\"When I'm lyin' in my bed at night\", \"I don't...  rock  40043\n",
       "1  48922  ['Love is like problems', \"We all got 'em\", 'A...  rock  48922\n",
       "2  41840  [\"As I was motivatin'\", 'Back in town', 'I saw...  rock  41840\n",
       "3  39964  ['Oh love, oh love', \"Won't you rain on me ton...  rock  39964\n",
       "4  37806  ['Take my breath away', \"I don't need it anywa...  rock  37806"
      ]
     },
     "execution_count": 35,
     "metadata": {},
     "output_type": "execute_result"
    }
   ],
   "source": [
    "df.head()"
   ]
  },
  {
   "cell_type": "code",
   "execution_count": 36,
   "metadata": {},
   "outputs": [
    {
     "name": "stdout",
     "output_type": "stream",
     "text": [
      "<class 'pandas.core.frame.DataFrame'>\n",
      "RangeIndex: 150 entries, 0 to 149\n",
      "Data columns (total 4 columns):\n",
      " #   Column  Non-Null Count  Dtype \n",
      "---  ------  --------------  ----- \n",
      " 0   index   150 non-null    int64 \n",
      " 1   lyrics  150 non-null    object\n",
      " 2   genre   150 non-null    object\n",
      " 3   id      150 non-null    int64 \n",
      "dtypes: int64(2), object(2)\n",
      "memory usage: 4.8+ KB\n"
     ]
    }
   ],
   "source": [
    "df.info()"
   ]
  },
  {
   "cell_type": "code",
   "execution_count": 37,
   "metadata": {},
   "outputs": [],
   "source": [
    "df['lyrics'] = list(map(lambda x: ast.literal_eval(x), df['lyrics']))"
   ]
  },
  {
   "cell_type": "code",
   "execution_count": 38,
   "metadata": {},
   "outputs": [],
   "source": [
    "eg_lyrics = random.choice(df['lyrics'])"
   ]
  },
  {
   "cell_type": "code",
   "execution_count": 39,
   "metadata": {},
   "outputs": [],
   "source": [
    "aug = naw.ContextualWordEmbsAug(model_path='roberta-base', action=\"substitute\")\n"
   ]
  },
  {
   "cell_type": "code",
   "execution_count": 40,
   "metadata": {},
   "outputs": [],
   "source": [
    "def misalign_lyrics(lyrics, repetitions, repeat_verse):\n",
    "    verses2repeat = random.sample(range(0, len(lyrics)), repetitions)\n",
    "    misaligned_lyrics = []\n",
    "    for idx, verse in enumerate(lyrics):\n",
    "        if idx in verses2repeat:\n",
    "            misaligned_lyrics.extend([verse] * repeat_verse)\n",
    "        else:\n",
    "            misaligned_lyrics.append(verse)\n",
    "    return misaligned_lyrics"
   ]
  },
  {
   "cell_type": "code",
   "execution_count": 41,
   "metadata": {},
   "outputs": [],
   "source": [
    "idxs2remove = df['id']\n",
    "all_lyrics = pd.read_csv('../data/lyrics.csv').drop(index=idxs2remove)['lyrics']\n",
    "all_lyrics = list(map(lambda x: ast.literal_eval(x), all_lyrics))"
   ]
  },
  {
   "cell_type": "code",
   "execution_count": 42,
   "metadata": {},
   "outputs": [
    {
     "name": "stdout",
     "output_type": "stream",
     "text": [
      "Original verse:\n",
      "And then it steals your... soul\n",
      "Augmented:\n"
     ]
    },
    {
     "data": {
      "text/plain": [
       "['And somehow it stole their soul']"
      ]
     },
     "execution_count": 42,
     "metadata": {},
     "output_type": "execute_result"
    }
   ],
   "source": [
    "eg_verse = random.choice(eg_lyrics)\n",
    "print('Original verse:')\n",
    "print(eg_verse)\n",
    "\n",
    "print('Augmented:')\n",
    "aug.augment(eg_verse)"
   ]
  },
  {
   "cell_type": "code",
   "execution_count": 43,
   "metadata": {},
   "outputs": [
    {
     "name": "stderr",
     "output_type": "stream",
     "text": [
      "100%|██████████| 53/53 [00:19<00:00,  2.75it/s]"
     ]
    },
    {
     "name": "stdout",
     "output_type": "stream",
     "text": [
      "ORIGINAL lyrics:\n",
      "['You are rattling my world like an earthquake', \"I'm up in the clouds like ooo oo\", 'somebody bring me down', \"I'm trying to keep you here where it feels great\", \"but i don't know how to doooo\", 'i am losing solid ground', 'dont pinch me', \"I'm falling in love, and if i'm dreaming\", \" baby don't wake me up\", 'you got me hoping and wishing', 'that this could last for one more night', 'baby you and me', ' take it to the middle of the dance floor', 'I got what you need', 'tell the DJ keep it spinning on the dance floor', 'and lets go higher', 'lets go high', 'lets go higher', 'lets go high', 'You can set it off if you want it', 'all you gotta do is ooo oo ooo oo', 'your body is calling me', \"and i don't wanna have any regrets\", \"when i'm next to you\", 'its like ooo oo ooooo', 'your touch is all i need, oh yeah', 'dont pinch me', \"I'm falling in love, and if i'm dreaming\", \" baby don't wake me up\", 'you got me hoping and wishing', 'that this could last for one more night', 'baby you and me', ' take it to the middle of the dance floor', 'I got what you need', 'tell the DJ keep it spinning on the dance floor', 'and lets go higher', 'lets go high', 'lets go higher', 'lets go high', 'like a roller coaster', 'take me up', 'and let me fall', \"just as long as you're by my side\", \"I'll go through it all\", 'baby you and me', 'we can take it to the middle of the dance floor', 'i got what you need', 'tell the DJ keep it spinning on the dance floor', 'lets go higher', 'lets go high', 'lets go higher', 'lets go high', 'baby i am in love']\n",
      "\n",
      "AUGMENTED lyrics:\n",
      "Aligned:\n",
      "['You are eating my world like snake ant', \"I'm up in the sky the grandfather clock\", 'somebody bring him away', \"I'm going to keep you happy because it feels right\", 'but i dont know like they doooo', 'i Standing upon solid ground', 'dont push yourself', \"I'm tossed from bed, and if only dreaming\", 'baby might wake you up', 'you stick to hoping and wishing', 'that you could last for every more second', 'baby photos and baby', 'take it to the center of your dance session', 'I need half you need', 'tell some DJ a thing spinning on the dance floor', 'and lets forget again', 'lets go in', 'lets go …', 'lets so high', 'You can set life aside anytime you want it', 'all you actually do = ooo … ooo...', 'your boss stopped calling me', \"and you don't necessarily want any regrets\", 'when sitting next to people', 'its a ooo ah ow', 'your touch is like ya got, oh yeah', 'dont do poke', \"I'm buried in sin, and if it #\", 'baby cries wake him up', 'you told me hoping not wishing', 'that this thing last into one solid night', 'baby books made me', 'take it on the elevator of the third floor', 'I got Everything you got', 'tell the DJ keep music spinning on private dance floors', 'and let go.', 'lets go …', 'lets go...', 'lets go …', 'like a clean skate', 'take me alone', 'and see things fall', \"just as easy is you're by its side\", \"I'll gladly bet it all\", 'baby sings to me', 'we will take it off some middle of the ground floor', 'i care what u need', 'tell the DJ keep it straight to the dance mix', 'lets index higher', 'lets go …', 'lets soar higher', 'lets go :', 'baby too am in debt']\n",
      "\n",
      "Misaligned:\n",
      "['You are eating my world like snake ant', \"I'm up in the sky the grandfather clock\", 'somebody bring him away', 'somebody bring him away', \"I'm going to keep you happy because it feels right\", 'but i dont know like they doooo', 'i Standing upon solid ground', 'dont push yourself', \"I'm tossed from bed, and if only dreaming\", \"I'm tossed from bed, and if only dreaming\", 'baby might wake you up', 'you stick to hoping and wishing', 'that you could last for every more second', 'baby photos and baby', 'take it to the center of your dance session', 'I need half you need', 'tell some DJ a thing spinning on the dance floor', 'and lets forget again', 'and lets forget again', 'lets go in', 'lets go …', 'lets so high', 'You can set life aside anytime you want it', 'all you actually do = ooo … ooo...', 'your boss stopped calling me', \"and you don't necessarily want any regrets\", 'when sitting next to people', 'its a ooo ah ow', 'your touch is like ya got, oh yeah', 'dont do poke', \"I'm buried in sin, and if it #\", 'baby cries wake him up', 'you told me hoping not wishing', 'that this thing last into one solid night', 'baby books made me', 'take it on the elevator of the third floor', 'I got Everything you got', 'tell the DJ keep music spinning on private dance floors', 'and let go.', 'lets go …', 'lets go …', 'lets go...', 'lets go …', 'like a clean skate', 'like a clean skate', 'take me alone', 'and see things fall', \"just as easy is you're by its side\", \"just as easy is you're by its side\", \"I'll gladly bet it all\", 'baby sings to me', 'we will take it off some middle of the ground floor', 'i care what u need', 'tell the DJ keep it straight to the dance mix', 'lets index higher', 'lets index higher', 'lets go …', 'lets soar higher', 'lets go :', 'baby too am in debt']\n",
      "\n",
      "RANDOM lyrics:\n",
      "['Blaze a 50, sit back in the drop top Bezour Bentley.', \"of course wit me, this chick who'd make Bobby divorce Whitney.\", 'Brizilian candy, from Miami.', 'massouse, wedding ring on, lovin Celine Dion.', 'hate rap, told me where she get caked at.', 'shes a part time danca, part time romanca.', 'tries to be a mother when she gets a chance ta.', 'left her husband, alone to raise they son hes in pampers.', 'modeled for a year, got her bachelors degree.', '33 recoverin from plastic surgery.', 'went from 34B to 36 double D.', 'met her in San Diego at tha Super Bowl party.', 'had the Heiny sipped it up, wit Terrell Davis.', 'MVP, we flicked it up from Sports Illustrated.', 'I was silked out, flossin wit stout, he had the gators.', 'when she walked in, she lit up the room, like Las Vegas.', 'Terrell said our mans a full back for the Raiders.', 'a drunk whod fuck cheerleaders and wind up in the papers.', 'its easy to get the pussy, just dont fall in love.', 'next thing u know im hugged up wit this bitch in tha tub.', \"Palm Springs, Al Capone's Sweate washin her feet.\", \"is this love? somebody's wife fuckin a thug.\", 'hittin it raw, tastin it, wildin out on my charactor, tapin it.', 'Tyra Banks face is face lift, givin head like she knew me for years.', 'pillow talk, she let out tears, told me bout her husbands affairs.', 'millions, she would get, if his neck got slit.', 'she rolled the equality, then passed the lye ta me.', 'told me bout her mans life insurance policy.', 'he stays on the golf course, wears Drakkar Sport.', 'evenings he drinks his wines on his private resort.', 'you can take a man here goes the keys you can slip in the rear.', 'chop a nigga up, yo, meet me somwhere.', 'so we can make more money, then you could ever see rappin.', \"split the cash 'n, move to Venezuela, adaptin'\", \"P-11's, A-C-P Shells for blastin.\", 'caught him wit his spanish maid, he had a liter wit a can of spray.', 'burnin her legs, she tied to the bed.', 'sex S and M, sadomasochistic', 'sadistic, yoked her from behind, blew him out exsistance.', 'his maid cried no, lucky she was blind fold.', 'naked wit, mad burn marks, all on her thighs yo.', 'twelve point five million, he kept his funds in the loines of London.', 'goes to his wife and his children.', 'yo i thought, what if shorty gets scared, electric chairs all i vision.', \"all she'll probably get is psychiatric supervision.\", \"I'll switch the plan, then maybe fly to Switzerland.\", 'fake ID, forge his wife name, catch the next flight the same night.', 'headed to Spain, nice game, now its back to where we meet again...', 'Blaze a 50', 'sit back in a droptop Bezour Bently.', \"of course wit me, this chick who'd make Bobby divorce Whitney.\", 'top down, nightmare, blow her hair', 'sky black, stars glow, the face on the moon stare.', 'fast lane on the nine-five, honey laughs about the cash.', 'took a blast, out of her coke bag.', 'snorted it, started screamin yo we almost crashed!', 'earlier i took the coke out, replaced it wit crushed up glass.', 'her head nodded down to her chest, slowly she fell asleep.']\n"
     ]
    },
    {
     "name": "stderr",
     "output_type": "stream",
     "text": [
      "\n"
     ]
    }
   ],
   "source": [
    "eg_lyrics = random.choice(df['lyrics'])\n",
    "\n",
    "eg_aug_lyrics = [aug.augment(verse)[0] for verse in tqdm(eg_lyrics)]\n",
    "eg_aug_misl_lyrics = misalign_lyrics(eg_aug_lyrics, repetitions=round(sqrt(len(eg_lyrics))), repeat_verse=2)\n",
    "\n",
    "eg_fake_lyrics = random.choice(all_lyrics)\n",
    "\n",
    "print('ORIGINAL lyrics:')\n",
    "print(eg_lyrics)\n",
    "print()\n",
    "print('AUGMENTED lyrics:')\n",
    "print('Aligned:')\n",
    "print(eg_aug_lyrics)\n",
    "print()\n",
    "print('Misaligned:')\n",
    "print(eg_aug_misl_lyrics)\n",
    "print()\n",
    "print('RANDOM lyrics:')\n",
    "print(eg_fake_lyrics)"
   ]
  },
  {
   "cell_type": "code",
   "execution_count": 44,
   "metadata": {},
   "outputs": [
    {
     "name": "stderr",
     "output_type": "stream",
     "text": [
      "100%|██████████| 150/150 [1:13:28<00:00, 29.39s/it]\n",
      "100%|██████████| 150/150 [00:00<00:00, 32311.93it/s]\n"
     ]
    }
   ],
   "source": [
    "augment_many = lambda lyrics: [aug.augment(verse)[0] for verse in lyrics]\n",
    "\n",
    "aug_lyrics = [augment_many(lyrics) for lyrics in tqdm(df['lyrics'])]\n",
    "misl_aug_lyrics = [misalign_lyrics(aug_lyr, repetitions=round(sqrt(len(aug_lyr))), repeat_verse=2) for aug_lyr in tqdm(aug_lyrics)]\n",
    "\n",
    "df['similar_lyrics'] = misl_aug_lyrics\n",
    "df['random_lyrics'] = random.sample(all_lyrics, len(df['lyrics']))"
   ]
  },
  {
   "cell_type": "code",
   "execution_count": 45,
   "metadata": {},
   "outputs": [
    {
     "data": {
      "text/html": [
       "<div>\n",
       "<style scoped>\n",
       "    .dataframe tbody tr th:only-of-type {\n",
       "        vertical-align: middle;\n",
       "    }\n",
       "\n",
       "    .dataframe tbody tr th {\n",
       "        vertical-align: top;\n",
       "    }\n",
       "\n",
       "    .dataframe thead th {\n",
       "        text-align: right;\n",
       "    }\n",
       "</style>\n",
       "<table border=\"1\" class=\"dataframe\">\n",
       "  <thead>\n",
       "    <tr style=\"text-align: right;\">\n",
       "      <th></th>\n",
       "      <th>index</th>\n",
       "      <th>lyrics</th>\n",
       "      <th>genre</th>\n",
       "      <th>id</th>\n",
       "      <th>similar_lyrics</th>\n",
       "      <th>random_lyrics</th>\n",
       "    </tr>\n",
       "  </thead>\n",
       "  <tbody>\n",
       "    <tr>\n",
       "      <th>0</th>\n",
       "      <td>40043</td>\n",
       "      <td>[When I'm lyin' in my bed at night, I don't wa...</td>\n",
       "      <td>rock</td>\n",
       "      <td>40043</td>\n",
       "      <td>[When I'm lyin' with my sisters face first, I ...</td>\n",
       "      <td>[Every night I hope and pray, A dream lover wi...</td>\n",
       "    </tr>\n",
       "    <tr>\n",
       "      <th>1</th>\n",
       "      <td>48922</td>\n",
       "      <td>[Love is like problems, We all got 'em, A dark...</td>\n",
       "      <td>rock</td>\n",
       "      <td>48922</td>\n",
       "      <td>[Love spreads like magic, We seriously needed ...</td>\n",
       "      <td>[You can be amazing, You can turn a phrase int...</td>\n",
       "    </tr>\n",
       "    <tr>\n",
       "      <th>2</th>\n",
       "      <td>41840</td>\n",
       "      <td>[As I was motivatin', Back in town, I saw a Ca...</td>\n",
       "      <td>rock</td>\n",
       "      <td>41840</td>\n",
       "      <td>[As Katrina was '', Back to town, I saw that p...</td>\n",
       "      <td>[I love it when we're cruisin' together, I lov...</td>\n",
       "    </tr>\n",
       "    <tr>\n",
       "      <th>3</th>\n",
       "      <td>39964</td>\n",
       "      <td>[Oh love, oh love, Won't you rain on me tonigh...</td>\n",
       "      <td>rock</td>\n",
       "      <td>39964</td>\n",
       "      <td>[Oh my, no love, Won't you rain down it too?, ...</td>\n",
       "      <td>[Galleria:, When I was just a little girl, my ...</td>\n",
       "    </tr>\n",
       "    <tr>\n",
       "      <th>4</th>\n",
       "      <td>37806</td>\n",
       "      <td>[Take my breath away, I don't need it anyway, ...</td>\n",
       "      <td>rock</td>\n",
       "      <td>37806</td>\n",
       "      <td>[Take you breath carefully, I kinda want it an...</td>\n",
       "      <td>[Tuesday seemed like it was thursday, Yesterda...</td>\n",
       "    </tr>\n",
       "  </tbody>\n",
       "</table>\n",
       "</div>"
      ],
      "text/plain": [
       "   index                                             lyrics genre     id  \\\n",
       "0  40043  [When I'm lyin' in my bed at night, I don't wa...  rock  40043   \n",
       "1  48922  [Love is like problems, We all got 'em, A dark...  rock  48922   \n",
       "2  41840  [As I was motivatin', Back in town, I saw a Ca...  rock  41840   \n",
       "3  39964  [Oh love, oh love, Won't you rain on me tonigh...  rock  39964   \n",
       "4  37806  [Take my breath away, I don't need it anyway, ...  rock  37806   \n",
       "\n",
       "                                      similar_lyrics  \\\n",
       "0  [When I'm lyin' with my sisters face first, I ...   \n",
       "1  [Love spreads like magic, We seriously needed ...   \n",
       "2  [As Katrina was '', Back to town, I saw that p...   \n",
       "3  [Oh my, no love, Won't you rain down it too?, ...   \n",
       "4  [Take you breath carefully, I kinda want it an...   \n",
       "\n",
       "                                       random_lyrics  \n",
       "0  [Every night I hope and pray, A dream lover wi...  \n",
       "1  [You can be amazing, You can turn a phrase int...  \n",
       "2  [I love it when we're cruisin' together, I lov...  \n",
       "3  [Galleria:, When I was just a little girl, my ...  \n",
       "4  [Tuesday seemed like it was thursday, Yesterda...  "
      ]
     },
     "execution_count": 45,
     "metadata": {},
     "output_type": "execute_result"
    }
   ],
   "source": [
    "df.head()"
   ]
  },
  {
   "cell_type": "code",
   "execution_count": 46,
   "metadata": {},
   "outputs": [],
   "source": [
    "df.to_csv('../data/evaluation/lyrics_eval.csv', index=False)"
   ]
  },
  {
   "cell_type": "code",
   "execution_count": null,
   "metadata": {},
   "outputs": [],
   "source": []
  }
 ],
 "metadata": {
  "kernelspec": {
   "display_name": ".venv",
   "language": "python",
   "name": "python3"
  },
  "language_info": {
   "codemirror_mode": {
    "name": "ipython",
    "version": 3
   },
   "file_extension": ".py",
   "mimetype": "text/x-python",
   "name": "python",
   "nbconvert_exporter": "python",
   "pygments_lexer": "ipython3",
   "version": "3.9.16"
  },
  "orig_nbformat": 4,
  "vscode": {
   "interpreter": {
    "hash": "eb8d1ded7c87c6f9c253b40add648304d6b51d2e38393955e855effc7e6f899a"
   }
  }
 },
 "nbformat": 4,
 "nbformat_minor": 2
}
