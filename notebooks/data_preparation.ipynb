{
 "cells": [
  {
   "cell_type": "markdown",
   "id": "3ebeeb82",
   "metadata": {
    "papermill": {
     "duration": 0.062944,
     "end_time": "2023-02-12T15:51:00.899692",
     "exception": false,
     "start_time": "2023-02-12T15:51:00.836748",
     "status": "completed"
    },
    "tags": []
   },
   "source": [
    "# Data Preparation"
   ]
  },
  {
   "cell_type": "code",
   "execution_count": 1,
   "id": "03c8c743",
   "metadata": {
    "execution": {
     "iopub.execute_input": "2023-02-12T15:51:00.921000Z",
     "iopub.status.busy": "2023-02-12T15:51:00.920212Z",
     "iopub.status.idle": "2023-02-12T15:51:02.665086Z",
     "shell.execute_reply": "2023-02-12T15:51:02.664134Z"
    },
    "papermill": {
     "duration": 1.758572,
     "end_time": "2023-02-12T15:51:02.668019",
     "exception": false,
     "start_time": "2023-02-12T15:51:00.909447",
     "status": "completed"
    },
    "tags": []
   },
   "outputs": [],
   "source": [
    "%matplotlib inline\n",
    "import pandas as pd\n",
    "import numpy as np\n",
    "from matplotlib import pyplot as plt\n",
    "import seaborn as sns\n",
    "import tikzplotlib\n",
    "from sklearn.preprocessing import MultiLabelBinarizer\n",
    "from itertools import combinations\n",
    "import random\n",
    "import re\n",
    "from gensim.utils import tokenize\n",
    "from sklearn.model_selection import train_test_split"
   ]
  },
  {
   "cell_type": "code",
   "execution_count": 2,
   "id": "e8b25079",
   "metadata": {
    "execution": {
     "iopub.execute_input": "2023-02-12T15:51:02.723478Z",
     "iopub.status.busy": "2023-02-12T15:51:02.722444Z",
     "iopub.status.idle": "2023-02-12T15:51:02.732032Z",
     "shell.execute_reply": "2023-02-12T15:51:02.730541Z"
    },
    "papermill": {
     "duration": 0.040695,
     "end_time": "2023-02-12T15:51:02.735367",
     "exception": false,
     "start_time": "2023-02-12T15:51:02.694672",
     "status": "completed"
    },
    "tags": []
   },
   "outputs": [],
   "source": [
    "sns.set_theme(context='paper', style='white', palette='deep')"
   ]
  },
  {
   "cell_type": "code",
   "execution_count": 3,
   "id": "f957ed4d",
   "metadata": {
    "execution": {
     "iopub.execute_input": "2023-02-12T15:51:02.774617Z",
     "iopub.status.busy": "2023-02-12T15:51:02.774155Z",
     "iopub.status.idle": "2023-02-12T15:51:08.575055Z",
     "shell.execute_reply": "2023-02-12T15:51:08.574385Z"
    },
    "papermill": {
     "duration": 5.81769,
     "end_time": "2023-02-12T15:51:08.578999",
     "exception": false,
     "start_time": "2023-02-12T15:51:02.761309",
     "status": "completed"
    },
    "tags": []
   },
   "outputs": [
    {
     "data": {
      "text/html": [
       "<div>\n",
       "<style scoped>\n",
       "    .dataframe tbody tr th:only-of-type {\n",
       "        vertical-align: middle;\n",
       "    }\n",
       "\n",
       "    .dataframe tbody tr th {\n",
       "        vertical-align: top;\n",
       "    }\n",
       "\n",
       "    .dataframe thead th {\n",
       "        text-align: right;\n",
       "    }\n",
       "</style>\n",
       "<table border=\"1\" class=\"dataframe\">\n",
       "  <thead>\n",
       "    <tr style=\"text-align: right;\">\n",
       "      <th></th>\n",
       "      <th>ALink</th>\n",
       "      <th>SName</th>\n",
       "      <th>SLink</th>\n",
       "      <th>Lyric</th>\n",
       "      <th>language</th>\n",
       "    </tr>\n",
       "  </thead>\n",
       "  <tbody>\n",
       "    <tr>\n",
       "      <th>0</th>\n",
       "      <td>/ivete-sangalo/</td>\n",
       "      <td>Arerê</td>\n",
       "      <td>/ivete-sangalo/arere.html</td>\n",
       "      <td>Tudo o que eu quero nessa vida,\\nToda vida, é\\...</td>\n",
       "      <td>pt</td>\n",
       "    </tr>\n",
       "    <tr>\n",
       "      <th>1</th>\n",
       "      <td>/ivete-sangalo/</td>\n",
       "      <td>Se Eu Não Te Amasse Tanto Assim</td>\n",
       "      <td>/ivete-sangalo/se-eu-nao-te-amasse-tanto-assim...</td>\n",
       "      <td>Meu coração\\nSem direção\\nVoando só por voar\\n...</td>\n",
       "      <td>pt</td>\n",
       "    </tr>\n",
       "    <tr>\n",
       "      <th>2</th>\n",
       "      <td>/ivete-sangalo/</td>\n",
       "      <td>Céu da Boca</td>\n",
       "      <td>/ivete-sangalo/chupa-toda.html</td>\n",
       "      <td>É de babaixá!\\nÉ de balacubaca!\\nÉ de babaixá!...</td>\n",
       "      <td>pt</td>\n",
       "    </tr>\n",
       "    <tr>\n",
       "      <th>3</th>\n",
       "      <td>/ivete-sangalo/</td>\n",
       "      <td>Quando A Chuva Passar</td>\n",
       "      <td>/ivete-sangalo/quando-a-chuva-passar.html</td>\n",
       "      <td>Quando a chuva passar\\n\\nPra quê falar\\nSe voc...</td>\n",
       "      <td>pt</td>\n",
       "    </tr>\n",
       "    <tr>\n",
       "      <th>4</th>\n",
       "      <td>/ivete-sangalo/</td>\n",
       "      <td>Sorte Grande</td>\n",
       "      <td>/ivete-sangalo/sorte-grande.html</td>\n",
       "      <td>A minha sorte grande foi você cair do céu\\nMin...</td>\n",
       "      <td>pt</td>\n",
       "    </tr>\n",
       "  </tbody>\n",
       "</table>\n",
       "</div>"
      ],
      "text/plain": [
       "             ALink                            SName  \\\n",
       "0  /ivete-sangalo/                            Arerê   \n",
       "1  /ivete-sangalo/  Se Eu Não Te Amasse Tanto Assim   \n",
       "2  /ivete-sangalo/                      Céu da Boca   \n",
       "3  /ivete-sangalo/            Quando A Chuva Passar   \n",
       "4  /ivete-sangalo/                     Sorte Grande   \n",
       "\n",
       "                                               SLink  \\\n",
       "0                          /ivete-sangalo/arere.html   \n",
       "1  /ivete-sangalo/se-eu-nao-te-amasse-tanto-assim...   \n",
       "2                     /ivete-sangalo/chupa-toda.html   \n",
       "3          /ivete-sangalo/quando-a-chuva-passar.html   \n",
       "4                   /ivete-sangalo/sorte-grande.html   \n",
       "\n",
       "                                               Lyric language  \n",
       "0  Tudo o que eu quero nessa vida,\\nToda vida, é\\...       pt  \n",
       "1  Meu coração\\nSem direção\\nVoando só por voar\\n...       pt  \n",
       "2  É de babaixá!\\nÉ de balacubaca!\\nÉ de babaixá!...       pt  \n",
       "3  Quando a chuva passar\\n\\nPra quê falar\\nSe voc...       pt  \n",
       "4  A minha sorte grande foi você cair do céu\\nMin...       pt  "
      ]
     },
     "execution_count": 3,
     "metadata": {},
     "output_type": "execute_result"
    }
   ],
   "source": [
    "df = pd.read_csv('../data/raw-data/lyrics_data.csv')\n",
    "df.head()"
   ]
  },
  {
   "cell_type": "code",
   "execution_count": 4,
   "id": "3021eab6",
   "metadata": {
    "execution": {
     "iopub.execute_input": "2023-02-12T15:51:08.635723Z",
     "iopub.status.busy": "2023-02-12T15:51:08.635382Z",
     "iopub.status.idle": "2023-02-12T15:51:08.655597Z",
     "shell.execute_reply": "2023-02-12T15:51:08.654778Z"
    },
    "papermill": {
     "duration": 0.052022,
     "end_time": "2023-02-12T15:51:08.658722",
     "exception": false,
     "start_time": "2023-02-12T15:51:08.606700",
     "status": "completed"
    },
    "tags": []
   },
   "outputs": [
    {
     "data": {
      "text/html": [
       "<div>\n",
       "<style scoped>\n",
       "    .dataframe tbody tr th:only-of-type {\n",
       "        vertical-align: middle;\n",
       "    }\n",
       "\n",
       "    .dataframe tbody tr th {\n",
       "        vertical-align: top;\n",
       "    }\n",
       "\n",
       "    .dataframe thead th {\n",
       "        text-align: right;\n",
       "    }\n",
       "</style>\n",
       "<table border=\"1\" class=\"dataframe\">\n",
       "  <thead>\n",
       "    <tr style=\"text-align: right;\">\n",
       "      <th></th>\n",
       "      <th>Artist</th>\n",
       "      <th>Genres</th>\n",
       "      <th>Songs</th>\n",
       "      <th>Popularity</th>\n",
       "      <th>Link</th>\n",
       "    </tr>\n",
       "  </thead>\n",
       "  <tbody>\n",
       "    <tr>\n",
       "      <th>0</th>\n",
       "      <td>Ivete Sangalo</td>\n",
       "      <td>Pop; Axé; Romântico</td>\n",
       "      <td>313.0</td>\n",
       "      <td>4.4</td>\n",
       "      <td>/ivete-sangalo/</td>\n",
       "    </tr>\n",
       "    <tr>\n",
       "      <th>1</th>\n",
       "      <td>Chiclete com Banana</td>\n",
       "      <td>Axé</td>\n",
       "      <td>268.0</td>\n",
       "      <td>3.8</td>\n",
       "      <td>/chiclete-com-banana/</td>\n",
       "    </tr>\n",
       "    <tr>\n",
       "      <th>2</th>\n",
       "      <td>Banda Eva</td>\n",
       "      <td>Axé; Romântico; Reggae</td>\n",
       "      <td>215.0</td>\n",
       "      <td>2.3</td>\n",
       "      <td>/banda-eva/</td>\n",
       "    </tr>\n",
       "    <tr>\n",
       "      <th>3</th>\n",
       "      <td>É O Tchan</td>\n",
       "      <td>Axé</td>\n",
       "      <td>129.0</td>\n",
       "      <td>1.6</td>\n",
       "      <td>/e-o-tchan/</td>\n",
       "    </tr>\n",
       "    <tr>\n",
       "      <th>4</th>\n",
       "      <td>Claudia Leitte</td>\n",
       "      <td>Pop; Axé; Romântico</td>\n",
       "      <td>167.0</td>\n",
       "      <td>1.5</td>\n",
       "      <td>/claudia-leitte/</td>\n",
       "    </tr>\n",
       "  </tbody>\n",
       "</table>\n",
       "</div>"
      ],
      "text/plain": [
       "                Artist                  Genres  Songs  Popularity  \\\n",
       "0        Ivete Sangalo     Pop; Axé; Romântico  313.0         4.4   \n",
       "1  Chiclete com Banana                     Axé  268.0         3.8   \n",
       "2            Banda Eva  Axé; Romântico; Reggae  215.0         2.3   \n",
       "3            É O Tchan                     Axé  129.0         1.6   \n",
       "4       Claudia Leitte     Pop; Axé; Romântico  167.0         1.5   \n",
       "\n",
       "                    Link  \n",
       "0        /ivete-sangalo/  \n",
       "1  /chiclete-com-banana/  \n",
       "2            /banda-eva/  \n",
       "3            /e-o-tchan/  \n",
       "4       /claudia-leitte/  "
      ]
     },
     "execution_count": 4,
     "metadata": {},
     "output_type": "execute_result"
    }
   ],
   "source": [
    "df_art = pd.read_csv('../data/raw-data/artists_data.csv')\n",
    "df_art.head()"
   ]
  },
  {
   "cell_type": "code",
   "execution_count": 5,
   "id": "5598e2b1",
   "metadata": {
    "execution": {
     "iopub.execute_input": "2023-02-12T15:51:08.707543Z",
     "iopub.status.busy": "2023-02-12T15:51:08.707233Z",
     "iopub.status.idle": "2023-02-12T15:51:08.795466Z",
     "shell.execute_reply": "2023-02-12T15:51:08.794771Z"
    },
    "papermill": {
     "duration": 0.11043,
     "end_time": "2023-02-12T15:51:08.798389",
     "exception": false,
     "start_time": "2023-02-12T15:51:08.687959",
     "status": "completed"
    },
    "tags": []
   },
   "outputs": [],
   "source": [
    "# Get only lyrics in English\n",
    "df = df[df['language']=='en'].reset_index(drop=True)"
   ]
  },
  {
   "attachments": {},
   "cell_type": "markdown",
   "id": "3b2280f3",
   "metadata": {
    "papermill": {
     "duration": 0.027158,
     "end_time": "2023-02-12T15:51:08.852881",
     "exception": false,
     "start_time": "2023-02-12T15:51:08.825723",
     "status": "completed"
    },
    "tags": []
   },
   "source": [
    "## Genre"
   ]
  },
  {
   "cell_type": "code",
   "execution_count": 6,
   "id": "92ad0816",
   "metadata": {
    "execution": {
     "iopub.execute_input": "2023-02-12T15:51:08.886647Z",
     "iopub.status.busy": "2023-02-12T15:51:08.886332Z",
     "iopub.status.idle": "2023-02-12T15:53:52.058539Z",
     "shell.execute_reply": "2023-02-12T15:53:52.052679Z"
    },
    "papermill": {
     "duration": 163.18551,
     "end_time": "2023-02-12T15:53:52.061108",
     "exception": false,
     "start_time": "2023-02-12T15:51:08.875598",
     "status": "completed"
    },
    "tags": []
   },
   "outputs": [],
   "source": [
    "genres = []\n",
    "for artist_id in df['ALink']:\n",
    "    # Get the row corresponding to the artist\n",
    "    artist_row = df_art[df_art['Link']==artist_id].reset_index()\n",
    "    try:\n",
    "        # Get all genres from that artist\n",
    "        genres_in_artist = artist_row['Genres'][0].split('; ')        \n",
    "    except:\n",
    "        genres_in_artist = []\n",
    "    genres.append(genres_in_artist)"
   ]
  },
  {
   "cell_type": "code",
   "execution_count": 7,
   "id": "53d38372",
   "metadata": {
    "execution": {
     "iopub.execute_input": "2023-02-12T15:53:52.089246Z",
     "iopub.status.busy": "2023-02-12T15:53:52.087872Z",
     "iopub.status.idle": "2023-02-12T15:53:52.128461Z",
     "shell.execute_reply": "2023-02-12T15:53:52.127039Z"
    },
    "papermill": {
     "duration": 0.056614,
     "end_time": "2023-02-12T15:53:52.130560",
     "exception": false,
     "start_time": "2023-02-12T15:53:52.073946",
     "status": "completed"
    },
    "tags": []
   },
   "outputs": [],
   "source": [
    "df = df.drop(columns = ['ALink', 'SName', 'SLink', 'language'])\n",
    "df = df.rename(columns={'Lyric': 'lyrics'})"
   ]
  },
  {
   "cell_type": "code",
   "execution_count": 8,
   "id": "f1258f68",
   "metadata": {
    "execution": {
     "iopub.execute_input": "2023-02-12T15:53:52.153540Z",
     "iopub.status.busy": "2023-02-12T15:53:52.153082Z",
     "iopub.status.idle": "2023-02-12T15:53:52.436856Z",
     "shell.execute_reply": "2023-02-12T15:53:52.435660Z"
    },
    "papermill": {
     "duration": 0.297683,
     "end_time": "2023-02-12T15:53:52.440118",
     "exception": false,
     "start_time": "2023-02-12T15:53:52.142435",
     "status": "completed"
    },
    "tags": []
   },
   "outputs": [
    {
     "data": {
      "text/html": [
       "<div>\n",
       "<style scoped>\n",
       "    .dataframe tbody tr th:only-of-type {\n",
       "        vertical-align: middle;\n",
       "    }\n",
       "\n",
       "    .dataframe tbody tr th {\n",
       "        vertical-align: top;\n",
       "    }\n",
       "\n",
       "    .dataframe thead th {\n",
       "        text-align: right;\n",
       "    }\n",
       "</style>\n",
       "<table border=\"1\" class=\"dataframe\">\n",
       "  <thead>\n",
       "    <tr style=\"text-align: right;\">\n",
       "      <th></th>\n",
       "      <th>Axé</th>\n",
       "      <th>Black Music</th>\n",
       "      <th>Blues</th>\n",
       "      <th>Bossa Nova</th>\n",
       "      <th>COLETÂNEA</th>\n",
       "      <th>Chillout</th>\n",
       "      <th>Classic Rock</th>\n",
       "      <th>Clássico</th>\n",
       "      <th>Country</th>\n",
       "      <th>Dance</th>\n",
       "      <th>...</th>\n",
       "      <th>Soul Music</th>\n",
       "      <th>Surf Music</th>\n",
       "      <th>Tecnopop</th>\n",
       "      <th>Trance</th>\n",
       "      <th>Trap</th>\n",
       "      <th>Trilha Sonora</th>\n",
       "      <th>Trip-Hop</th>\n",
       "      <th>Tropical House</th>\n",
       "      <th>Velha Guarda</th>\n",
       "      <th>World Music</th>\n",
       "    </tr>\n",
       "  </thead>\n",
       "  <tbody>\n",
       "    <tr>\n",
       "      <th>0</th>\n",
       "      <td>1</td>\n",
       "      <td>0</td>\n",
       "      <td>0</td>\n",
       "      <td>0</td>\n",
       "      <td>0</td>\n",
       "      <td>0</td>\n",
       "      <td>0</td>\n",
       "      <td>0</td>\n",
       "      <td>0</td>\n",
       "      <td>0</td>\n",
       "      <td>...</td>\n",
       "      <td>0</td>\n",
       "      <td>0</td>\n",
       "      <td>0</td>\n",
       "      <td>0</td>\n",
       "      <td>0</td>\n",
       "      <td>0</td>\n",
       "      <td>0</td>\n",
       "      <td>0</td>\n",
       "      <td>0</td>\n",
       "      <td>0</td>\n",
       "    </tr>\n",
       "    <tr>\n",
       "      <th>1</th>\n",
       "      <td>1</td>\n",
       "      <td>0</td>\n",
       "      <td>0</td>\n",
       "      <td>0</td>\n",
       "      <td>0</td>\n",
       "      <td>0</td>\n",
       "      <td>0</td>\n",
       "      <td>0</td>\n",
       "      <td>0</td>\n",
       "      <td>0</td>\n",
       "      <td>...</td>\n",
       "      <td>0</td>\n",
       "      <td>0</td>\n",
       "      <td>0</td>\n",
       "      <td>0</td>\n",
       "      <td>0</td>\n",
       "      <td>0</td>\n",
       "      <td>0</td>\n",
       "      <td>0</td>\n",
       "      <td>0</td>\n",
       "      <td>0</td>\n",
       "    </tr>\n",
       "    <tr>\n",
       "      <th>2</th>\n",
       "      <td>1</td>\n",
       "      <td>0</td>\n",
       "      <td>0</td>\n",
       "      <td>0</td>\n",
       "      <td>0</td>\n",
       "      <td>0</td>\n",
       "      <td>0</td>\n",
       "      <td>0</td>\n",
       "      <td>0</td>\n",
       "      <td>0</td>\n",
       "      <td>...</td>\n",
       "      <td>0</td>\n",
       "      <td>0</td>\n",
       "      <td>0</td>\n",
       "      <td>0</td>\n",
       "      <td>0</td>\n",
       "      <td>0</td>\n",
       "      <td>0</td>\n",
       "      <td>0</td>\n",
       "      <td>0</td>\n",
       "      <td>0</td>\n",
       "    </tr>\n",
       "    <tr>\n",
       "      <th>3</th>\n",
       "      <td>1</td>\n",
       "      <td>0</td>\n",
       "      <td>0</td>\n",
       "      <td>0</td>\n",
       "      <td>0</td>\n",
       "      <td>0</td>\n",
       "      <td>0</td>\n",
       "      <td>0</td>\n",
       "      <td>0</td>\n",
       "      <td>0</td>\n",
       "      <td>...</td>\n",
       "      <td>0</td>\n",
       "      <td>0</td>\n",
       "      <td>0</td>\n",
       "      <td>0</td>\n",
       "      <td>0</td>\n",
       "      <td>0</td>\n",
       "      <td>0</td>\n",
       "      <td>0</td>\n",
       "      <td>0</td>\n",
       "      <td>0</td>\n",
       "    </tr>\n",
       "    <tr>\n",
       "      <th>4</th>\n",
       "      <td>1</td>\n",
       "      <td>0</td>\n",
       "      <td>0</td>\n",
       "      <td>0</td>\n",
       "      <td>0</td>\n",
       "      <td>0</td>\n",
       "      <td>0</td>\n",
       "      <td>0</td>\n",
       "      <td>0</td>\n",
       "      <td>0</td>\n",
       "      <td>...</td>\n",
       "      <td>0</td>\n",
       "      <td>0</td>\n",
       "      <td>0</td>\n",
       "      <td>0</td>\n",
       "      <td>0</td>\n",
       "      <td>0</td>\n",
       "      <td>0</td>\n",
       "      <td>0</td>\n",
       "      <td>0</td>\n",
       "      <td>0</td>\n",
       "    </tr>\n",
       "  </tbody>\n",
       "</table>\n",
       "<p>5 rows × 75 columns</p>\n",
       "</div>"
      ],
      "text/plain": [
       "   Axé  Black Music  Blues  Bossa Nova  COLETÂNEA  Chillout  Classic Rock  \\\n",
       "0    1            0      0           0          0         0             0   \n",
       "1    1            0      0           0          0         0             0   \n",
       "2    1            0      0           0          0         0             0   \n",
       "3    1            0      0           0          0         0             0   \n",
       "4    1            0      0           0          0         0             0   \n",
       "\n",
       "   Clássico  Country  Dance  ...  Soul Music  Surf Music  Tecnopop  Trance  \\\n",
       "0         0        0      0  ...           0           0         0       0   \n",
       "1         0        0      0  ...           0           0         0       0   \n",
       "2         0        0      0  ...           0           0         0       0   \n",
       "3         0        0      0  ...           0           0         0       0   \n",
       "4         0        0      0  ...           0           0         0       0   \n",
       "\n",
       "   Trap  Trilha Sonora  Trip-Hop  Tropical House  Velha Guarda  World Music  \n",
       "0     0              0         0               0             0            0  \n",
       "1     0              0         0               0             0            0  \n",
       "2     0              0         0               0             0            0  \n",
       "3     0              0         0               0             0            0  \n",
       "4     0              0         0               0             0            0  \n",
       "\n",
       "[5 rows x 75 columns]"
      ]
     },
     "execution_count": 8,
     "metadata": {},
     "output_type": "execute_result"
    }
   ],
   "source": [
    "genres = pd.Series(genres)\n",
    "mlb = MultiLabelBinarizer()\n",
    "# Do one hot encoding\n",
    "genres_one_hot = pd.DataFrame(\n",
    "    mlb.fit_transform(genres), \n",
    "    columns=mlb.classes_,\n",
    "    index=genres.index)\n",
    "genres_one_hot.head()"
   ]
  },
  {
   "cell_type": "code",
   "execution_count": 9,
   "id": "db3f9184",
   "metadata": {
    "execution": {
     "iopub.execute_input": "2023-02-12T15:53:52.497159Z",
     "iopub.status.busy": "2023-02-12T15:53:52.496853Z",
     "iopub.status.idle": "2023-02-12T15:53:52.514543Z",
     "shell.execute_reply": "2023-02-12T15:53:52.513896Z"
    },
    "papermill": {
     "duration": 0.049174,
     "end_time": "2023-02-12T15:53:52.517216",
     "exception": false,
     "start_time": "2023-02-12T15:53:52.468042",
     "status": "completed"
    },
    "tags": []
   },
   "outputs": [
    {
     "data": {
      "text/plain": [
       "Rock           63717\n",
       "Pop            33571\n",
       "Pop/Rock       26360\n",
       "Heavy Metal    21759\n",
       "Hip Hop        20902\n",
       "Indie          20134\n",
       "Romântico      17947\n",
       "Hard Rock      17250\n",
       "Rap            17114\n",
       "R&B            15581\n",
       "dtype: int64"
      ]
     },
     "execution_count": 9,
     "metadata": {},
     "output_type": "execute_result"
    }
   ],
   "source": [
    "genres_one_hot.sum().sort_values(ascending=False)[:10]"
   ]
  },
  {
   "cell_type": "code",
   "execution_count": 10,
   "id": "eb49a25d",
   "metadata": {
    "execution": {
     "iopub.execute_input": "2023-02-12T15:53:52.564485Z",
     "iopub.status.busy": "2023-02-12T15:53:52.563546Z",
     "iopub.status.idle": "2023-02-12T15:53:52.626896Z",
     "shell.execute_reply": "2023-02-12T15:53:52.625621Z"
    },
    "papermill": {
     "duration": 0.084996,
     "end_time": "2023-02-12T15:53:52.629863",
     "exception": false,
     "start_time": "2023-02-12T15:53:52.544867",
     "status": "completed"
    },
    "tags": []
   },
   "outputs": [],
   "source": [
    "# Keep only the 8 most frequent genres (some of them will also be merged)\n",
    "genres2keep = genres_one_hot.sum().sort_values(ascending=False)[:9].keys()\n",
    "\n",
    "format_label = lambda s: s.lower().replace(' ', '-').replace('/', '-')\n",
    "\n",
    "genres_one_hot = genres_one_hot[genres2keep]\n",
    "format_mapping = dict([(\n",
    "    genre_label, format_label(genre_label)) for genre_label in genres_one_hot.keys()])\n",
    "\n",
    "genres_one_hot = genres_one_hot.rename(columns = format_mapping)"
   ]
  },
  {
   "cell_type": "code",
   "execution_count": 11,
   "id": "bdb0de58",
   "metadata": {
    "execution": {
     "iopub.execute_input": "2023-02-12T15:53:52.653601Z",
     "iopub.status.busy": "2023-02-12T15:53:52.652991Z",
     "iopub.status.idle": "2023-02-12T15:53:52.674061Z",
     "shell.execute_reply": "2023-02-12T15:53:52.672645Z"
    },
    "papermill": {
     "duration": 0.03412,
     "end_time": "2023-02-12T15:53:52.676183",
     "exception": false,
     "start_time": "2023-02-12T15:53:52.642063",
     "status": "completed"
    },
    "tags": []
   },
   "outputs": [],
   "source": [
    "df = pd.concat([df, genres_one_hot], axis=1)"
   ]
  },
  {
   "cell_type": "code",
   "execution_count": 12,
   "id": "e1b16696",
   "metadata": {
    "execution": {
     "iopub.execute_input": "2023-02-12T15:53:52.700256Z",
     "iopub.status.busy": "2023-02-12T15:53:52.699348Z",
     "iopub.status.idle": "2023-02-12T15:53:52.749085Z",
     "shell.execute_reply": "2023-02-12T15:53:52.747518Z"
    },
    "papermill": {
     "duration": 0.063119,
     "end_time": "2023-02-12T15:53:52.751258",
     "exception": false,
     "start_time": "2023-02-12T15:53:52.688139",
     "status": "completed"
    },
    "tags": []
   },
   "outputs": [],
   "source": [
    "genre_labels = [label for label in df.keys() if label != 'lyrics']\n",
    "\n",
    "# Remove lyrics that do not fit into the main genres\n",
    "df = df.drop(df[df[genre_labels].sum(axis=1) == 0].index)"
   ]
  },
  {
   "cell_type": "code",
   "execution_count": 13,
   "id": "a686ba3f",
   "metadata": {
    "execution": {
     "iopub.execute_input": "2023-02-12T15:53:52.796493Z",
     "iopub.status.busy": "2023-02-12T15:53:52.795954Z",
     "iopub.status.idle": "2023-02-12T15:53:52.906324Z",
     "shell.execute_reply": "2023-02-12T15:53:52.905478Z"
    },
    "papermill": {
     "duration": 0.136411,
     "end_time": "2023-02-12T15:53:52.909343",
     "exception": false,
     "start_time": "2023-02-12T15:53:52.772932",
     "status": "completed"
    },
    "tags": []
   },
   "outputs": [
    {
     "data": {
      "text/plain": [
       "[(('hip-hop', 'rap'), 0.5317297231959386),\n",
       " (('heavy-metal', 'hard-rock'), 0.29537756525204223),\n",
       " (('rock', 'hard-rock'), 0.2094735898661568),\n",
       " (('pop', 'pop-rock'), 0.20258854218922445),\n",
       " (('rock', 'heavy-metal'), 0.15670672296200064),\n",
       " (('pop', 'romântico'), 0.13970311704975333),\n",
       " (('rock', 'pop-rock'), 0.13782431852057703),\n",
       " (('pop-rock', 'romântico'), 0.10936678434612784),\n",
       " (('rock', 'indie'), 0.10295433021151215),\n",
       " (('pop', 'hip-hop'), 0.058550330353672755),\n",
       " (('rock', 'romântico'), 0.0391540585593037),\n",
       " (('pop-rock', 'indie'), 0.03575486199291586),\n",
       " (('pop', 'rap'), 0.03301742586365026),\n",
       " (('pop', 'indie'), 0.02956118321415563),\n",
       " (('rock', 'pop'), 0.029502645502645503),\n",
       " (('indie', 'romântico'), 0.029299672946455118),\n",
       " (('pop-rock', 'hard-rock'), 0.012772875058058523),\n",
       " (('rock', 'hip-hop'), 0.007644950403086559),\n",
       " (('indie', 'hard-rock'), 0.007030681787571048),\n",
       " (('romântico', 'hard-rock'), 0.005513655582219175)]"
      ]
     },
     "execution_count": 13,
     "metadata": {},
     "output_type": "execute_result"
    }
   ],
   "source": [
    "jaccard_similarity = lambda x, y: np.logical_and(x, y).sum() / np.logical_or(x, y).sum()\n",
    "\n",
    "genre_pairs = list(combinations(genre_labels, 2))\n",
    "\n",
    "genre_similarities = [jaccard_similarity(df[genre_pair[0]], df[genre_pair[1]]) \n",
    "    for genre_pair in genre_pairs]\n",
    "\n",
    "sorted(list(zip(genre_pairs, genre_similarities)),\n",
    "    reverse=True, key=lambda x: x[1])[:20]"
   ]
  },
  {
   "cell_type": "code",
   "execution_count": 14,
   "id": "8bed5803",
   "metadata": {
    "execution": {
     "iopub.execute_input": "2023-02-12T15:53:52.960296Z",
     "iopub.status.busy": "2023-02-12T15:53:52.959834Z",
     "iopub.status.idle": "2023-02-12T15:53:53.054089Z",
     "shell.execute_reply": "2023-02-12T15:53:53.053227Z"
    },
    "papermill": {
     "duration": 0.122412,
     "end_time": "2023-02-12T15:53:53.056608",
     "exception": false,
     "start_time": "2023-02-12T15:53:52.934196",
     "status": "completed"
    },
    "tags": []
   },
   "outputs": [],
   "source": [
    "# Merge together rap and hip hop\n",
    "df['rap'] = np.logical_or(df['rap'], df['hip-hop']).replace({True: 1, False: 0})\n",
    "# Drop columns\n",
    "df = df.drop(columns=['romântico'])\n",
    "df = df.drop(columns=['hip-hop'])\n",
    "# Remove again lyrics that do not fit into the genres kept\n",
    "genre_labels = [label for label in df.keys() if label != 'lyrics']\n",
    "df = df.drop(df[df[genre_labels].sum(axis=1) == 0].index)"
   ]
  },
  {
   "cell_type": "code",
   "execution_count": 15,
   "id": "c720fa66",
   "metadata": {
    "execution": {
     "iopub.execute_input": "2023-02-12T15:53:53.081859Z",
     "iopub.status.busy": "2023-02-12T15:53:53.081526Z",
     "iopub.status.idle": "2023-02-12T15:53:53.096288Z",
     "shell.execute_reply": "2023-02-12T15:53:53.095412Z"
    },
    "papermill": {
     "duration": 0.028524,
     "end_time": "2023-02-12T15:53:53.098255",
     "exception": false,
     "start_time": "2023-02-12T15:53:53.069731",
     "status": "completed"
    },
    "tags": []
   },
   "outputs": [
    {
     "name": "stdout",
     "output_type": "stream",
     "text": [
      "Number of lyrics: 143165\n"
     ]
    }
   ],
   "source": [
    "df = df.reset_index(drop=True)\n",
    "print(f'Number of lyrics: {len(df)}')"
   ]
  },
  {
   "attachments": {},
   "cell_type": "markdown",
   "id": "05776761",
   "metadata": {
    "papermill": {
     "duration": 0.03047,
     "end_time": "2023-02-12T15:53:53.155422",
     "exception": false,
     "start_time": "2023-02-12T15:53:53.124952",
     "status": "completed"
    },
    "tags": []
   },
   "source": [
    "## Text Cleaning"
   ]
  },
  {
   "cell_type": "code",
   "execution_count": 16,
   "id": "7ce72e50",
   "metadata": {
    "execution": {
     "iopub.execute_input": "2023-02-12T15:53:53.180516Z",
     "iopub.status.busy": "2023-02-12T15:53:53.179495Z",
     "iopub.status.idle": "2023-02-12T15:53:54.183372Z",
     "shell.execute_reply": "2023-02-12T15:53:54.182469Z"
    },
    "papermill": {
     "duration": 1.01888,
     "end_time": "2023-02-12T15:53:54.186283",
     "exception": false,
     "start_time": "2023-02-12T15:53:53.167403",
     "status": "completed"
    },
    "tags": []
   },
   "outputs": [
    {
     "name": "stdout",
     "output_type": "stream",
     "text": [
      "Duplicates with the same genre: 646\n"
     ]
    },
    {
     "name": "stdout",
     "output_type": "stream",
     "text": [
      "Duplicates with different genres: 555\n"
     ]
    }
   ],
   "source": [
    "# Duplicates are songs with multiple artists (e.g. a featuring)\n",
    "# Remove duplicates having the same genre\n",
    "print(f'Duplicates with the same genre: {df.duplicated().sum()}')\n",
    "df = df.drop_duplicates()\n",
    "# Remove lyrics with different genres among duplicates:\n",
    "print(f'Duplicates with different genres: {df.duplicated(subset=\"lyrics\").sum()}')\n",
    "df = df.drop_duplicates(subset=\"lyrics\", keep=False)"
   ]
  },
  {
   "cell_type": "code",
   "execution_count": 17,
   "id": "4835d2bb",
   "metadata": {
    "execution": {
     "iopub.execute_input": "2023-02-12T15:53:54.226264Z",
     "iopub.status.busy": "2023-02-12T15:53:54.225788Z",
     "iopub.status.idle": "2023-02-12T15:53:54.235557Z",
     "shell.execute_reply": "2023-02-12T15:53:54.234518Z"
    },
    "papermill": {
     "duration": 0.024456,
     "end_time": "2023-02-12T15:53:54.237181",
     "exception": false,
     "start_time": "2023-02-12T15:53:54.212725",
     "status": "completed"
    },
    "tags": []
   },
   "outputs": [
    {
     "data": {
      "text/plain": [
       "\"Be my woman, girl\\nI'll be your man\\nBe my woman, girl\\nI'll be your man\\n\\nYes I'll be your woman\\nYes I'll be your baby\\nYes I'll be whatever, that you tell me when you're ready\\nYes I'll be your girl, forever your lady\\nYou ain't never gotta worry, I'm down for you baby\\n\\nBest believe that, when you need that\\nI'll provide that, you will always have it\\nI'll be on deck, keep it in check\\nWhen you need that, I'ma let you have it\\n\\nBeating my drum like, dum di di dey\\nI like the dirty rhythm you play\\nI wanna hear you calling my name\\nLike, hey mama, mama, hey mama, ma\\nBanging the drum like, dum di di dey\\nI know you want it in the worst way\\nI wanna hear you calling my name\\nLike, hey mama, mama, hey mama, ma\\n\\nBe my woman, girl\\nI'll be your man\\nBe my woman, girl\\nI'll be your man\\n\\nYes I'll do the cooking\\nYes I'll do the cleaning\\nPlus I keep the na-na real sweet for your eating\\nYes you be the boss, yes I be respecting\\nWhatever that you tell me cause it's game you be spitting\\n\\nBest believe that, when you need that\\nI'll provide that, you will always have it\\nI'll be on deck, keep it in check\\nWhen you need that, I'ma let you have it\\n\\nBeating my drum like, dum di di dey\\nI like the dirty rhythm you play\\nI wanna hear you calling my name\\nLike, hey mama, mama, hey mama, ma\\nBanging the drum like, dum di di dey\\nI know you want it in the worst way\\nI wanna hear you calling my name\\nLike, hey mama, mama, hey mama, ma\\n\\nYo, yo\\nWhole crew got the juice\\nYour dick game the truth\\nMy screams is the proof\\nThem other dudes get the deuce\\nI might speed in the coupe\\nLeaving this interview\\nIt ain't nothing new, I been fucking with you\\nNone of them bitches ain't taking you\\nJust tell them to make a U\\nThat how it be, I come first like debuts\\n\\nSo baby when you need that\\nGive me that word\\nI'm no good, I'll be bad for my baby\\n\\nMake sure that he's getting his share\\nMake sure that his baby take care\\nMake sure I'm on my toes, on my knees\\nKeep him pleased, rub him down\\nBe the Lady and A Freak\\n\\nBeating my drum like, dum di di dey\\nI like the dirty rhythm you play\\nI wanna hear you calling my name\\nLike, hey mama, mama, hey mama, ma\\nBanging the drum like, dum di di dey\\nI know you want it in the worst way\\nI wanna hear you calling my name\\nLike, hey mama, mama, hey mama, ma\\n\\nBe my woman, girl\\nI'll be your man\\nBe my woman, girl\\nI'll be your man\""
      ]
     },
     "execution_count": 17,
     "metadata": {},
     "output_type": "execute_result"
    }
   ],
   "source": [
    "rand = random.choice(df['lyrics'])\n",
    "rand"
   ]
  },
  {
   "cell_type": "code",
   "execution_count": 18,
   "id": "76532869",
   "metadata": {
    "execution": {
     "iopub.execute_input": "2023-02-12T15:53:54.259410Z",
     "iopub.status.busy": "2023-02-12T15:53:54.258941Z",
     "iopub.status.idle": "2023-02-12T15:53:54.267304Z",
     "shell.execute_reply": "2023-02-12T15:53:54.266007Z"
    },
    "papermill": {
     "duration": 0.021782,
     "end_time": "2023-02-12T15:53:54.269346",
     "exception": false,
     "start_time": "2023-02-12T15:53:54.247564",
     "status": "completed"
    },
    "tags": []
   },
   "outputs": [],
   "source": [
    "def clean_text(lyrics):\n",
    "    lyrics = re.sub(r'\\((.+?)?\\)', '', lyrics)\n",
    "    lyrics = re.sub(r'\\[(.+?)?\\]', '', lyrics)\n",
    "    lyrics = re.sub(r'\\{(.+?)?\\}', '', lyrics)\n",
    "    lyrics = re.sub(r'\\n+', '\\n', lyrics)\n",
    "    lyrics = re.sub(r'^[^a-zA-Z]+$', '', lyrics, flags=re.MULTILINE)\n",
    "    return lyrics"
   ]
  },
  {
   "cell_type": "code",
   "execution_count": 19,
   "id": "0027da62",
   "metadata": {
    "execution": {
     "iopub.execute_input": "2023-02-12T15:53:54.295429Z",
     "iopub.status.busy": "2023-02-12T15:53:54.294910Z",
     "iopub.status.idle": "2023-02-12T15:53:54.305979Z",
     "shell.execute_reply": "2023-02-12T15:53:54.304114Z"
    },
    "papermill": {
     "duration": 0.027152,
     "end_time": "2023-02-12T15:53:54.308729",
     "exception": false,
     "start_time": "2023-02-12T15:53:54.281577",
     "status": "completed"
    },
    "tags": []
   },
   "outputs": [
    {
     "data": {
      "text/plain": [
       "'I tried to hang on for as long as I could\\nBut now I can see that it just ainâ€™t no good\\nOur love it has wasted\\nRight down to the core\\nWhatever we had\\nWe donâ€™t have anymore\\nYouâ€™ve got to get off a road to nowhere\\nYouâ€™ve got to get off a road to nowhere\\nWell I tried and I tried to make things work out right\\nBut I guess weâ€™re two people who canâ€™t help but fight\\nYour eyes they are open\\nAnd oh so are mine\\nWe both need our freedom\\nDonâ€™t you think itâ€™s about time\\nIâ€™m trying to get off this road to nowhere\\nIâ€™m trying to get off this road to nowhere\\nThank you for the good times weâ€™ve had in the past\\nBut we both know enough to know good times donâ€™t last\\nBaby youâ€™re just no good for me\\nAnd Iâ€™m no good for you\\nLetâ€™s not waste our time talkinâ€™\\nWe both know what to do\\nWeâ€™ve got to get off this road to nowhere\\nItâ€™s time to get off this road to nowhere\\nYouâ€™ve got to get off this road to nowhere\\nWeâ€™ve got to get off this road to nowhere\\n'"
      ]
     },
     "execution_count": 19,
     "metadata": {},
     "output_type": "execute_result"
    }
   ],
   "source": [
    "rand = random.choice(df['lyrics'])\n",
    "clean_text(rand)"
   ]
  },
  {
   "cell_type": "code",
   "execution_count": 20,
   "id": "66b9fda6",
   "metadata": {
    "execution": {
     "iopub.execute_input": "2023-02-12T15:53:54.336853Z",
     "iopub.status.busy": "2023-02-12T15:53:54.335427Z",
     "iopub.status.idle": "2023-02-12T15:54:00.229206Z",
     "shell.execute_reply": "2023-02-12T15:54:00.228221Z"
    },
    "papermill": {
     "duration": 5.909,
     "end_time": "2023-02-12T15:54:00.231264",
     "exception": false,
     "start_time": "2023-02-12T15:53:54.322264",
     "status": "completed"
    },
    "tags": []
   },
   "outputs": [],
   "source": [
    "df['lyrics'] = [clean_text(lyrics) for lyrics in df['lyrics']]"
   ]
  },
  {
   "cell_type": "code",
   "execution_count": 21,
   "id": "4d422ddf",
   "metadata": {
    "execution": {
     "iopub.execute_input": "2023-02-12T15:54:00.254706Z",
     "iopub.status.busy": "2023-02-12T15:54:00.254455Z",
     "iopub.status.idle": "2023-02-12T15:54:01.762217Z",
     "shell.execute_reply": "2023-02-12T15:54:01.761375Z"
    },
    "papermill": {
     "duration": 1.522749,
     "end_time": "2023-02-12T15:54:01.764581",
     "exception": false,
     "start_time": "2023-02-12T15:54:00.241832",
     "status": "completed"
    },
    "tags": []
   },
   "outputs": [],
   "source": [
    "# Split lyrics in verses consider \\n as sep, filter empty element in list (it's the result of '\\n\\n' or spaces)\n",
    "df['lyrics'] = list(map(lambda x: [verse for verse in x.split('\\n') if verse.strip()], df['lyrics']))"
   ]
  },
  {
   "cell_type": "code",
   "execution_count": 22,
   "id": "298333ef",
   "metadata": {
    "execution": {
     "iopub.execute_input": "2023-02-12T15:54:01.793212Z",
     "iopub.status.busy": "2023-02-12T15:54:01.792923Z",
     "iopub.status.idle": "2023-02-12T15:54:01.845493Z",
     "shell.execute_reply": "2023-02-12T15:54:01.844577Z"
    },
    "papermill": {
     "duration": 0.068436,
     "end_time": "2023-02-12T15:54:01.847110",
     "exception": false,
     "start_time": "2023-02-12T15:54:01.778674",
     "status": "completed"
    },
    "tags": []
   },
   "outputs": [],
   "source": [
    "# Count number of verses\n",
    "df['verses'] = df['lyrics'].apply(len)"
   ]
  },
  {
   "cell_type": "code",
   "execution_count": 23,
   "id": "21536b02",
   "metadata": {
    "execution": {
     "iopub.execute_input": "2023-02-12T15:54:01.872856Z",
     "iopub.status.busy": "2023-02-12T15:54:01.872468Z",
     "iopub.status.idle": "2023-02-12T15:54:02.536301Z",
     "shell.execute_reply": "2023-02-12T15:54:02.535258Z"
    },
    "papermill": {
     "duration": 0.679212,
     "end_time": "2023-02-12T15:54:02.538113",
     "exception": false,
     "start_time": "2023-02-12T15:54:01.858901",
     "status": "completed"
    },
    "tags": []
   },
   "outputs": [
    {
     "data": {
      "image/png": "[encoded data removed]",
      "text/plain": [
       "<Figure size 640x480 with 1 Axes>"
      ]
     },
     "metadata": {},
     "output_type": "display_data"
    }
   ],
   "source": [
    "fig, ax = plt.subplots()\n",
    "ax = sns.histplot(data=df, x='verses', bins=200)\n",
    "ax.set_xlabel('Verses')\n",
    "ax.set_ylabel('Lyrics')\n",
    "ax.set_title('Lyrics by number of verses')\n",
    "ax.set_xlim([0, 200])\n",
    "tikzplotlib.save('../tikz/hist_lyrics_verses.tex')"
   ]
  },
  {
   "cell_type": "code",
   "execution_count": 24,
   "id": "db5bdb12",
   "metadata": {
    "execution": {
     "iopub.execute_input": "2023-02-12T15:54:02.566661Z",
     "iopub.status.busy": "2023-02-12T15:54:02.566342Z",
     "iopub.status.idle": "2023-02-12T15:54:02.604042Z",
     "shell.execute_reply": "2023-02-12T15:54:02.603180Z"
    },
    "papermill": {
     "duration": 0.055625,
     "end_time": "2023-02-12T15:54:02.605818",
     "exception": false,
     "start_time": "2023-02-12T15:54:02.550193",
     "status": "completed"
    },
    "tags": []
   },
   "outputs": [],
   "source": [
    "df = df[df['verses']>20]"
   ]
  },
  {
   "cell_type": "code",
   "execution_count": 25,
   "id": "b04e3cfc",
   "metadata": {
    "execution": {
     "iopub.execute_input": "2023-02-12T15:54:02.628087Z",
     "iopub.status.busy": "2023-02-12T15:54:02.627818Z",
     "iopub.status.idle": "2023-02-12T15:54:02.632997Z",
     "shell.execute_reply": "2023-02-12T15:54:02.631817Z"
    },
    "papermill": {
     "duration": 0.020131,
     "end_time": "2023-02-12T15:54:02.636403",
     "exception": false,
     "start_time": "2023-02-12T15:54:02.616272",
     "status": "completed"
    },
    "tags": []
   },
   "outputs": [
    {
     "name": "stdout",
     "output_type": "stream",
     "text": [
      "Number of lyrics: 119441\n"
     ]
    }
   ],
   "source": [
    "print(f'Number of lyrics: {len(df)}')"
   ]
  },
  {
   "attachments": {},
   "cell_type": "markdown",
   "id": "c3da184e",
   "metadata": {
    "papermill": {
     "duration": 0.023372,
     "end_time": "2023-02-12T15:54:02.687263",
     "exception": false,
     "start_time": "2023-02-12T15:54:02.663891",
     "status": "completed"
    },
    "tags": []
   },
   "source": [
    "## Genre Label Filtering"
   ]
  },
  {
   "cell_type": "code",
   "execution_count": 26,
   "id": "2d432ad6",
   "metadata": {
    "execution": {
     "iopub.execute_input": "2023-02-12T15:54:02.709477Z",
     "iopub.status.busy": "2023-02-12T15:54:02.709205Z",
     "iopub.status.idle": "2023-02-12T15:54:02.731718Z",
     "shell.execute_reply": "2023-02-12T15:54:02.730819Z"
    },
    "papermill": {
     "duration": 0.035862,
     "end_time": "2023-02-12T15:54:02.733428",
     "exception": false,
     "start_time": "2023-02-12T15:54:02.697566",
     "status": "completed"
    },
    "tags": []
   },
   "outputs": [
    {
     "data": {
      "text/plain": [
       "rock           19928\n",
       "pop            15989\n",
       "pop-rock        5151\n",
       "heavy-metal     6201\n",
       "indie           6737\n",
       "hard-rock       1186\n",
       "rap            19053\n",
       "dtype: int64"
      ]
     },
     "execution_count": 26,
     "metadata": {},
     "output_type": "execute_result"
    }
   ],
   "source": [
    "# Get unique labels and compute value counts\n",
    "df[df[genre_labels].sum(axis=1) == 1][genre_labels].sum(axis=0)"
   ]
  },
  {
   "cell_type": "code",
   "execution_count": 27,
   "id": "5eb4ec2a",
   "metadata": {
    "execution": {
     "iopub.execute_input": "2023-02-12T15:54:02.756000Z",
     "iopub.status.busy": "2023-02-12T15:54:02.755735Z",
     "iopub.status.idle": "2023-02-12T15:54:02.897641Z",
     "shell.execute_reply": "2023-02-12T15:54:02.896855Z"
    },
    "papermill": {
     "duration": 0.155572,
     "end_time": "2023-02-12T15:54:02.899614",
     "exception": false,
     "start_time": "2023-02-12T15:54:02.744042",
     "status": "completed"
    },
    "tags": []
   },
   "outputs": [],
   "source": [
    "# Drop songs with multiple genres\n",
    "df = df.drop(df[df[genre_labels].sum(axis=1) > 1].index)\n",
    "# Keep only rock, pop and rap lyrics:\n",
    "# 1) Remove columns\n",
    "df = df.drop(columns=['pop-rock','heavy-metal','indie','hard-rock'])\n",
    "# 2) Remove rows\n",
    "genre_labels = ['rock','pop','rap']\n",
    "df = df.drop(df[df[genre_labels].sum(axis=1) == 0].index)"
   ]
  },
  {
   "cell_type": "code",
   "execution_count": 28,
   "id": "70b7dfea",
   "metadata": {
    "execution": {
     "iopub.execute_input": "2023-02-12T15:54:02.923487Z",
     "iopub.status.busy": "2023-02-12T15:54:02.923196Z",
     "iopub.status.idle": "2023-02-12T15:54:03.271772Z",
     "shell.execute_reply": "2023-02-12T15:54:03.270917Z"
    },
    "papermill": {
     "duration": 0.362196,
     "end_time": "2023-02-12T15:54:03.273389",
     "exception": false,
     "start_time": "2023-02-12T15:54:02.911193",
     "status": "completed"
    },
    "tags": []
   },
   "outputs": [
    {
     "data": {
      "text/plain": [
       "rock    19928\n",
       "rap     19053\n",
       "pop     15989\n",
       "Name: genre, dtype: int64"
      ]
     },
     "execution_count": 28,
     "metadata": {},
     "output_type": "execute_result"
    }
   ],
   "source": [
    "# Map again dummy variables to labels\n",
    "df['genre'] = df[['rock', 'pop', 'rap']].apply(\n",
    "    lambda x: 'rock' if x[0] == 1 else ('pop' if x[1] == 1 else ('rap' if x[2] == 1 else None)), axis=1)\n",
    "\n",
    "# Drop dummy variables\n",
    "df = df.drop(columns=['rock', 'pop', 'rap'])\n",
    "\n",
    "df['genre'].value_counts()"
   ]
  },
  {
   "attachments": {},
   "cell_type": "markdown",
   "id": "d3e87c06",
   "metadata": {
    "papermill": {
     "duration": 0.010657,
     "end_time": "2023-02-12T15:54:03.294808",
     "exception": false,
     "start_time": "2023-02-12T15:54:03.284151",
     "status": "completed"
    },
    "tags": []
   },
   "source": [
    "## Outlier Detection"
   ]
  },
  {
   "cell_type": "code",
   "execution_count": 29,
   "id": "a85df479",
   "metadata": {
    "execution": {
     "iopub.execute_input": "2023-02-12T15:54:03.317707Z",
     "iopub.status.busy": "2023-02-12T15:54:03.317454Z",
     "iopub.status.idle": "2023-02-12T15:54:03.516878Z",
     "shell.execute_reply": "2023-02-12T15:54:03.516050Z"
    },
    "papermill": {
     "duration": 0.212799,
     "end_time": "2023-02-12T15:54:03.518512",
     "exception": false,
     "start_time": "2023-02-12T15:54:03.305713",
     "status": "completed"
    },
    "tags": []
   },
   "outputs": [
    {
     "data": {
      "image/png": "[encoded data removed]",
      "text/plain": [
       "<Figure size 640x480 with 1 Axes>"
      ]
     },
     "metadata": {},
     "output_type": "display_data"
    }
   ],
   "source": [
    "fig, ax = plt.subplots()\n",
    "ax = sns.boxplot(data=df, x='verses', y='genre')\n",
    "ax.set_xlabel('Verses')\n",
    "ax.set_ylabel('Lyrics')\n",
    "ax.set_title('Lyrics by number of verses')\n",
    "tikzplotlib.save('../tikz/box_lyrics_verses.tex')"
   ]
  },
  {
   "cell_type": "code",
   "execution_count": 30,
   "id": "9235a7ec",
   "metadata": {
    "execution": {
     "iopub.execute_input": "2023-02-12T15:54:03.542713Z",
     "iopub.status.busy": "2023-02-12T15:54:03.542452Z",
     "iopub.status.idle": "2023-02-12T15:54:03.558386Z",
     "shell.execute_reply": "2023-02-12T15:54:03.557717Z"
    },
    "papermill": {
     "duration": 0.030022,
     "end_time": "2023-02-12T15:54:03.560068",
     "exception": false,
     "start_time": "2023-02-12T15:54:03.530046",
     "status": "completed"
    },
    "tags": []
   },
   "outputs": [],
   "source": [
    "# Drop the outlier rows from the DataFrame\n",
    "df = df.drop(df[df['verses'] > 300].index)"
   ]
  },
  {
   "cell_type": "code",
   "execution_count": 31,
   "id": "da2673ac",
   "metadata": {
    "execution": {
     "iopub.execute_input": "2023-02-12T15:54:03.619167Z",
     "iopub.status.busy": "2023-02-12T15:54:03.618731Z",
     "iopub.status.idle": "2023-02-12T15:54:04.893525Z",
     "shell.execute_reply": "2023-02-12T15:54:04.892657Z"
    },
    "papermill": {
     "duration": 1.308513,
     "end_time": "2023-02-12T15:54:04.897107",
     "exception": false,
     "start_time": "2023-02-12T15:54:03.588594",
     "status": "completed"
    },
    "tags": []
   },
   "outputs": [
    {
     "data": {
      "text/html": [
       "<div>\n",
       "<style scoped>\n",
       "    .dataframe tbody tr th:only-of-type {\n",
       "        vertical-align: middle;\n",
       "    }\n",
       "\n",
       "    .dataframe tbody tr th {\n",
       "        vertical-align: top;\n",
       "    }\n",
       "\n",
       "    .dataframe thead th {\n",
       "        text-align: right;\n",
       "    }\n",
       "</style>\n",
       "<table border=\"1\" class=\"dataframe\">\n",
       "  <thead>\n",
       "    <tr style=\"text-align: right;\">\n",
       "      <th></th>\n",
       "      <th>verse</th>\n",
       "      <th>genre</th>\n",
       "      <th>index</th>\n",
       "    </tr>\n",
       "  </thead>\n",
       "  <tbody>\n",
       "    <tr>\n",
       "      <th>0</th>\n",
       "      <td>I feel so unsure</td>\n",
       "      <td>pop</td>\n",
       "      <td>0</td>\n",
       "    </tr>\n",
       "    <tr>\n",
       "      <th>1</th>\n",
       "      <td>As I take your hand and lead you to the dance ...</td>\n",
       "      <td>pop</td>\n",
       "      <td>0</td>\n",
       "    </tr>\n",
       "    <tr>\n",
       "      <th>2</th>\n",
       "      <td>As the music dies, something in your eyes</td>\n",
       "      <td>pop</td>\n",
       "      <td>0</td>\n",
       "    </tr>\n",
       "    <tr>\n",
       "      <th>3</th>\n",
       "      <td>Calls to mind a silver screen</td>\n",
       "      <td>pop</td>\n",
       "      <td>0</td>\n",
       "    </tr>\n",
       "    <tr>\n",
       "      <th>4</th>\n",
       "      <td>And all those sad goodbyes</td>\n",
       "      <td>pop</td>\n",
       "      <td>0</td>\n",
       "    </tr>\n",
       "  </tbody>\n",
       "</table>\n",
       "</div>"
      ],
      "text/plain": [
       "                                               verse genre  index\n",
       "0                                   I feel so unsure   pop      0\n",
       "1  As I take your hand and lead you to the dance ...   pop      0\n",
       "2          As the music dies, something in your eyes   pop      0\n",
       "3                      Calls to mind a silver screen   pop      0\n",
       "4                         And all those sad goodbyes   pop      0"
      ]
     },
     "execution_count": 31,
     "metadata": {},
     "output_type": "execute_result"
    }
   ],
   "source": [
    "lyrics_by_verse = zip(list(df['lyrics']),list(df['genre']),list(df.index))\n",
    "\n",
    "verses_by_genre = [(verse, genre, index) for lyrics, genre, index in lyrics_by_verse for verse in lyrics]\n",
    "\n",
    "df_verses = pd.DataFrame(verses_by_genre, columns=['verse','genre','index'])\n",
    "\n",
    "df_verses.head()"
   ]
  },
  {
   "cell_type": "code",
   "execution_count": 32,
   "id": "ff88f7d6",
   "metadata": {
    "execution": {
     "iopub.execute_input": "2023-02-12T15:54:04.969633Z",
     "iopub.status.busy": "2023-02-12T15:54:04.969332Z",
     "iopub.status.idle": "2023-02-12T15:54:20.907076Z",
     "shell.execute_reply": "2023-02-12T15:54:20.906314Z"
    },
    "papermill": {
     "duration": 15.977222,
     "end_time": "2023-02-12T15:54:20.910017",
     "exception": false,
     "start_time": "2023-02-12T15:54:04.932795",
     "status": "completed"
    },
    "tags": []
   },
   "outputs": [],
   "source": [
    "df_verses['tokens'] = [len(list(tokenize(verse))) for verse in df_verses['verse']]"
   ]
  },
  {
   "cell_type": "code",
   "execution_count": 33,
   "id": "cedb4ca5",
   "metadata": {
    "execution": {
     "iopub.execute_input": "2023-02-12T15:54:20.973373Z",
     "iopub.status.busy": "2023-02-12T15:54:20.973083Z",
     "iopub.status.idle": "2023-02-12T15:54:22.544432Z",
     "shell.execute_reply": "2023-02-12T15:54:22.543468Z"
    },
    "papermill": {
     "duration": 1.606393,
     "end_time": "2023-02-12T15:54:22.547522",
     "exception": false,
     "start_time": "2023-02-12T15:54:20.941129",
     "status": "completed"
    },
    "tags": []
   },
   "outputs": [
    {
     "data": {
      "image/png": "[encoded data removed]",
      "text/plain": [
       "<Figure size 640x480 with 1 Axes>"
      ]
     },
     "metadata": {},
     "output_type": "display_data"
    }
   ],
   "source": [
    "fig, ax = plt.subplots()\n",
    "ax = sns.boxplot(data=df_verses, x='tokens', y='genre')\n",
    "ax.set_xlabel('Tokens')\n",
    "ax.set_ylabel('Veses')\n",
    "ax.set_xscale('log')\n",
    "tikzplotlib.save('../tikz/box_verses_tokens.tex')"
   ]
  },
  {
   "cell_type": "code",
   "execution_count": 34,
   "id": "3545056a",
   "metadata": {
    "execution": {
     "iopub.execute_input": "2023-02-12T15:54:22.612297Z",
     "iopub.status.busy": "2023-02-12T15:54:22.611863Z",
     "iopub.status.idle": "2023-02-12T15:54:22.754728Z",
     "shell.execute_reply": "2023-02-12T15:54:22.753823Z"
    },
    "papermill": {
     "duration": 0.177494,
     "end_time": "2023-02-12T15:54:22.757431",
     "exception": false,
     "start_time": "2023-02-12T15:54:22.579937",
     "status": "completed"
    },
    "tags": []
   },
   "outputs": [
    {
     "data": {
      "text/plain": [
       "array([list(['I wait for my true love, but she never came', 'I cry for my true love, but she never came', 'I leave this world never knowing who she was, departing all alone..', \"I'd just like to speak for a second and say that, hum.. I just encourage everybody who hears this album to look towards Christ and not towards people, because people allow you to fall away, people aren't perfect. Theres only one person thats perfect and thats Christ. And I see people every day who are looking at Christ and blow Christ off because something that someone else has failed on. And its just not worth it, Christ has blessed me and every other member of this band more than any other way that I can imagine, or be spoken. Just the way everything worked out tonight was just beautiful. I just pray for each and every one of you, we wouldn't sit here and we wouldn't do this unless we wouldn't put the time into it unless it was trying to touch you, trying to reach your life and I just ask please just give your heart to Christ, and allow him to come in and just accept him. It says, “If you acknowledge that you have sinned and you ask Christ to come into you life, he will enter you life just believe that he's died on the cross for your and risen on the third day, and Christ can life for you and he with you�? and I just pray that you just give him that chance to do that, you don't know what you missed, you don't know what you missed until you haven't had something and realize that its gone, then you realize what you've missed and what hasn't been in your life. And I just ask you please just give the LORD a chance to do that and I just hear a lot of people say that its just, I hear a lot of people say that its just you know, “Oh�? you know, “this some religious person is trying to force this down my throat.�? well thats not our intent our intent's not to force this down your throat. We do this because we love you and we care for the people that do hear this. And I just wish everybody just to look towards it and give it a chance, and not fall out. There is hope, you can find it, and Christ is hope and your never gunna feel a void, your never gunna feel that huge gap and that void in your life until you turn and you look at the truth, even though you may not see it as the truth, I just pray that God will reveal himself to you and you can open your eyes, just as we were in your same shoes and he opened ours, he opened our eyes eyes.. just... even though it's this late you can't even speak, I just pray that He'll please just show you his power. This album goes out to just, the victims of rape and suicide, child molestation, people who are broken hearted, people who just cant handle life anymore and just have to fall on their knees every night and cry. There is a better way, and we have found it, please don't give up, there is a better way.\", 'Spirit of, the living God', 'Call fresh on, me', 'Spirit of, the living God', 'Fall fresh on me', 'Melt me, Mold me', 'Fill me, LORD use me', 'Spirit of, the living God', 'Fall fresh on, me', 'Spirit of, the living God', 'Fall fresh on, me', 'Fill me, Mold me', 'Fill me, Use me,', 'Spirit of, the living God', 'Fall fresh on, me', 'LORD melt me, LORD use me, LORD fill me, LORD mold me', 'LORD make me, the person you want me to be LORD. LORD take me, and mold my, my mind. Renew my mind LORD, help me not to listen to this world, politicians people of this world, who only long to bring me hate and frustration. Help me to think for myself, to obtain knowledge, think! think for myself', 'Spirit of, the living God', 'Fall fresh on, me', '-The Christian Authority'])],\n",
       "      dtype=object)"
      ]
     },
     "execution_count": 34,
     "metadata": {},
     "output_type": "execute_result"
    }
   ],
   "source": [
    "df['lyrics'][df_verses[(df_verses['genre']=='rock') & (df_verses['tokens']>500)]['index']].values"
   ]
  },
  {
   "cell_type": "code",
   "execution_count": 35,
   "id": "14e53453",
   "metadata": {
    "execution": {
     "iopub.execute_input": "2023-02-12T15:54:22.824644Z",
     "iopub.status.busy": "2023-02-12T15:54:22.824337Z",
     "iopub.status.idle": "2023-02-12T15:54:23.749888Z",
     "shell.execute_reply": "2023-02-12T15:54:23.748989Z"
    },
    "papermill": {
     "duration": 0.962885,
     "end_time": "2023-02-12T15:54:23.752989",
     "exception": false,
     "start_time": "2023-02-12T15:54:22.790104",
     "status": "completed"
    },
    "tags": []
   },
   "outputs": [],
   "source": [
    "# Compute the IQR for each genre\n",
    "grouped = df_verses.groupby('genre')\n",
    "# Compute IQR for each group\n",
    "iqr = grouped.apply(lambda x: x['tokens'].quantile(0.75) - x['tokens'].quantile(0.25))\n",
    "# Compute upper bounds for each group\n",
    "upper_bound = grouped.apply(lambda x: x['tokens'].quantile(0.75) + 3 * iqr[x.name])\n",
    "# Reset the index of the upper_bound series to match the labels of the grouped DataFrame\n",
    "upper_bound = upper_bound\n",
    "# Mark outliers\n",
    "df_verses['outlier'] = np.where(df_verses['tokens'] > upper_bound[df_verses['genre']].values, True, False)\n",
    "# Get the index values of the outlier rows\n",
    "outlier_index = df_verses[df_verses['outlier'] == True]['index'].unique()"
   ]
  },
  {
   "cell_type": "code",
   "execution_count": 36,
   "id": "742051c8",
   "metadata": {
    "execution": {
     "iopub.execute_input": "2023-02-12T15:54:23.822479Z",
     "iopub.status.busy": "2023-02-12T15:54:23.822089Z",
     "iopub.status.idle": "2023-02-12T15:54:23.829633Z",
     "shell.execute_reply": "2023-02-12T15:54:23.828358Z"
    },
    "papermill": {
     "duration": 0.047482,
     "end_time": "2023-02-12T15:54:23.833338",
     "exception": false,
     "start_time": "2023-02-12T15:54:23.785856",
     "status": "completed"
    },
    "tags": []
   },
   "outputs": [
    {
     "data": {
      "text/plain": [
       "genre\n",
       "pop     20.0\n",
       "rap     25.0\n",
       "rock    20.0\n",
       "dtype: float64"
      ]
     },
     "execution_count": 36,
     "metadata": {},
     "output_type": "execute_result"
    }
   ],
   "source": [
    "upper_bound"
   ]
  },
  {
   "cell_type": "code",
   "execution_count": 37,
   "id": "d68c22cb",
   "metadata": {
    "execution": {
     "iopub.execute_input": "2023-02-12T15:54:23.868079Z",
     "iopub.status.busy": "2023-02-12T15:54:23.867626Z",
     "iopub.status.idle": "2023-02-12T15:54:23.874974Z",
     "shell.execute_reply": "2023-02-12T15:54:23.873963Z"
    },
    "papermill": {
     "duration": 0.021688,
     "end_time": "2023-02-12T15:54:23.876722",
     "exception": false,
     "start_time": "2023-02-12T15:54:23.855034",
     "status": "completed"
    },
    "tags": []
   },
   "outputs": [
    {
     "data": {
      "text/plain": [
       "613"
      ]
     },
     "execution_count": 37,
     "metadata": {},
     "output_type": "execute_result"
    }
   ],
   "source": [
    "len(outlier_index)"
   ]
  },
  {
   "cell_type": "code",
   "execution_count": 38,
   "id": "2a34dd92",
   "metadata": {
    "execution": {
     "iopub.execute_input": "2023-02-12T15:54:23.901910Z",
     "iopub.status.busy": "2023-02-12T15:54:23.901405Z",
     "iopub.status.idle": "2023-02-12T15:54:23.914412Z",
     "shell.execute_reply": "2023-02-12T15:54:23.913441Z"
    },
    "papermill": {
     "duration": 0.028031,
     "end_time": "2023-02-12T15:54:23.916358",
     "exception": false,
     "start_time": "2023-02-12T15:54:23.888327",
     "status": "completed"
    },
    "tags": []
   },
   "outputs": [],
   "source": [
    "# Drop the outlier rows from the DataFrame\n",
    "df = df.drop(outlier_index)"
   ]
  },
  {
   "cell_type": "code",
   "execution_count": 39,
   "id": "2cf91127",
   "metadata": {
    "execution": {
     "iopub.execute_input": "2023-02-12T15:54:23.943927Z",
     "iopub.status.busy": "2023-02-12T15:54:23.943078Z",
     "iopub.status.idle": "2023-02-12T15:54:23.956733Z",
     "shell.execute_reply": "2023-02-12T15:54:23.955772Z"
    },
    "papermill": {
     "duration": 0.029221,
     "end_time": "2023-02-12T15:54:23.958892",
     "exception": false,
     "start_time": "2023-02-12T15:54:23.929671",
     "status": "completed"
    },
    "tags": []
   },
   "outputs": [
    {
     "data": {
      "text/plain": [
       "rock    19748\n",
       "rap     18719\n",
       "pop     15883\n",
       "Name: genre, dtype: int64"
      ]
     },
     "execution_count": 39,
     "metadata": {},
     "output_type": "execute_result"
    }
   ],
   "source": [
    "df['genre'].value_counts()"
   ]
  },
  {
   "cell_type": "code",
   "execution_count": 40,
   "id": "aaed9bdb",
   "metadata": {
    "execution": {
     "iopub.execute_input": "2023-02-12T15:54:24.000095Z",
     "iopub.status.busy": "2023-02-12T15:54:23.999124Z",
     "iopub.status.idle": "2023-02-12T15:54:24.004586Z",
     "shell.execute_reply": "2023-02-12T15:54:24.003709Z"
    },
    "papermill": {
     "duration": 0.020475,
     "end_time": "2023-02-12T15:54:24.006078",
     "exception": false,
     "start_time": "2023-02-12T15:54:23.985603",
     "status": "completed"
    },
    "tags": []
   },
   "outputs": [
    {
     "name": "stdout",
     "output_type": "stream",
     "text": [
      "Number of lyrics 54350\n"
     ]
    }
   ],
   "source": [
    "print(f'Number of lyrics {len(df)}')"
   ]
  },
  {
   "cell_type": "code",
   "execution_count": 41,
   "id": "524fe6cc",
   "metadata": {
    "execution": {
     "iopub.execute_input": "2023-02-12T15:54:24.035352Z",
     "iopub.status.busy": "2023-02-12T15:54:24.034747Z",
     "iopub.status.idle": "2023-02-12T15:54:24.045151Z",
     "shell.execute_reply": "2023-02-12T15:54:24.044149Z"
    },
    "papermill": {
     "duration": 0.029277,
     "end_time": "2023-02-12T15:54:24.047310",
     "exception": false,
     "start_time": "2023-02-12T15:54:24.018033",
     "status": "completed"
    },
    "tags": []
   },
   "outputs": [],
   "source": [
    "df = df.reset_index(drop=True)\n",
    "# Keep original index as id incase we want to retrieve samples in original df\n",
    "df['id'] = df.index"
   ]
  },
  {
   "cell_type": "code",
   "execution_count": 42,
   "id": "13f192a9",
   "metadata": {
    "execution": {
     "iopub.execute_input": "2023-02-12T15:54:24.076267Z",
     "iopub.status.busy": "2023-02-12T15:54:24.075803Z",
     "iopub.status.idle": "2023-02-12T15:54:26.060982Z",
     "shell.execute_reply": "2023-02-12T15:54:26.060156Z"
    },
    "papermill": {
     "duration": 2.001809,
     "end_time": "2023-02-12T15:54:26.064028",
     "exception": false,
     "start_time": "2023-02-12T15:54:24.062219",
     "status": "completed"
    },
    "tags": []
   },
   "outputs": [],
   "source": [
    "df.drop(columns=['verses']).to_csv('../data/lyrics.csv', index=False)"
   ]
  },
  {
   "attachments": {},
   "cell_type": "markdown",
   "id": "4da9f05b",
   "metadata": {
    "papermill": {
     "duration": 0.012452,
     "end_time": "2023-02-12T15:54:26.091962",
     "exception": false,
     "start_time": "2023-02-12T15:54:26.079510",
     "status": "completed"
    },
    "tags": []
   },
   "source": [
    "## Classification and Evaluation Datasets"
   ]
  },
  {
   "cell_type": "code",
   "execution_count": 43,
   "id": "7e44ac51",
   "metadata": {
    "execution": {
     "iopub.execute_input": "2023-02-12T15:54:26.118650Z",
     "iopub.status.busy": "2023-02-12T15:54:26.118246Z",
     "iopub.status.idle": "2023-02-12T15:54:26.146278Z",
     "shell.execute_reply": "2023-02-12T15:54:26.145512Z"
    },
    "papermill": {
     "duration": 0.043839,
     "end_time": "2023-02-12T15:54:26.148733",
     "exception": false,
     "start_time": "2023-02-12T15:54:26.104894",
     "status": "completed"
    },
    "tags": []
   },
   "outputs": [],
   "source": [
    "df_eval = df.groupby(\"genre\").sample(n=50, weights='verses',random_state=42\n",
    ").reset_index( \n",
    ").drop(columns=['verses'])\n",
    "\n",
    "df_eval.to_csv('../data/evaluation/lyrics_eval.csv', index=False)"
   ]
  },
  {
   "cell_type": "code",
   "execution_count": 44,
   "id": "b188f4a9",
   "metadata": {
    "execution": {
     "iopub.execute_input": "2023-02-12T15:54:26.177156Z",
     "iopub.status.busy": "2023-02-12T15:54:26.176757Z",
     "iopub.status.idle": "2023-02-12T15:54:26.186398Z",
     "shell.execute_reply": "2023-02-12T15:54:26.185551Z"
    },
    "papermill": {
     "duration": 0.024873,
     "end_time": "2023-02-12T15:54:26.188076",
     "exception": false,
     "start_time": "2023-02-12T15:54:26.163203",
     "status": "completed"
    },
    "tags": []
   },
   "outputs": [],
   "source": [
    "df = df.drop(columns=['verses'])"
   ]
  },
  {
   "cell_type": "code",
   "execution_count": 45,
   "id": "98ef881f",
   "metadata": {
    "execution": {
     "iopub.execute_input": "2023-02-12T15:54:26.213776Z",
     "iopub.status.busy": "2023-02-12T15:54:26.213354Z",
     "iopub.status.idle": "2023-02-12T15:54:26.538292Z",
     "shell.execute_reply": "2023-02-12T15:54:26.537393Z"
    },
    "papermill": {
     "duration": 0.34108,
     "end_time": "2023-02-12T15:54:26.541354",
     "exception": false,
     "start_time": "2023-02-12T15:54:26.200274",
     "status": "completed"
    },
    "tags": []
   },
   "outputs": [],
   "source": [
    "y = list(df['genre'])\n",
    "X = list(zip(list(df['lyrics']),list(df['id'])))\n",
    "\n",
    "X_train, X_test, y_train, y_test = train_test_split(X, y, test_size=0.2, random_state=42)"
   ]
  },
  {
   "cell_type": "code",
   "execution_count": 46,
   "id": "2dcde279",
   "metadata": {
    "execution": {
     "iopub.execute_input": "2023-02-12T15:54:26.607909Z",
     "iopub.status.busy": "2023-02-12T15:54:26.607616Z",
     "iopub.status.idle": "2023-02-12T15:54:26.638374Z",
     "shell.execute_reply": "2023-02-12T15:54:26.637454Z"
    },
    "papermill": {
     "duration": 0.067724,
     "end_time": "2023-02-12T15:54:26.641414",
     "exception": false,
     "start_time": "2023-02-12T15:54:26.573690",
     "status": "completed"
    },
    "tags": []
   },
   "outputs": [
    {
     "data": {
      "text/plain": [
       "(43480, 3)"
      ]
     },
     "execution_count": 46,
     "metadata": {},
     "output_type": "execute_result"
    }
   ],
   "source": [
    "df_train = pd.DataFrame(X_train, columns=['lyrics','id'])\n",
    "df_train['genre'] = y_train\n",
    "df_train.shape"
   ]
  },
  {
   "cell_type": "code",
   "execution_count": 47,
   "id": "15fc14d8",
   "metadata": {
    "execution": {
     "iopub.execute_input": "2023-02-12T15:54:26.694652Z",
     "iopub.status.busy": "2023-02-12T15:54:26.694195Z",
     "iopub.status.idle": "2023-02-12T15:54:26.714779Z",
     "shell.execute_reply": "2023-02-12T15:54:26.713566Z"
    },
    "papermill": {
     "duration": 0.043747,
     "end_time": "2023-02-12T15:54:26.716834",
     "exception": false,
     "start_time": "2023-02-12T15:54:26.673087",
     "status": "completed"
    },
    "tags": []
   },
   "outputs": [
    {
     "data": {
      "text/plain": [
       "(10870, 3)"
      ]
     },
     "execution_count": 47,
     "metadata": {},
     "output_type": "execute_result"
    }
   ],
   "source": [
    "df_test = pd.DataFrame(X_test, columns=['lyrics','id'])\n",
    "df_test['genre'] = y_test\n",
    "df_test.shape"
   ]
  },
  {
   "cell_type": "code",
   "execution_count": 48,
   "id": "18f2dfbd",
   "metadata": {
    "execution": {
     "iopub.execute_input": "2023-02-12T15:54:26.744148Z",
     "iopub.status.busy": "2023-02-12T15:54:26.743691Z",
     "iopub.status.idle": "2023-02-12T15:54:28.922521Z",
     "shell.execute_reply": "2023-02-12T15:54:28.921411Z"
    },
    "papermill": {
     "duration": 2.194618,
     "end_time": "2023-02-12T15:54:28.925315",
     "exception": false,
     "start_time": "2023-02-12T15:54:26.730697",
     "status": "completed"
    },
    "tags": []
   },
   "outputs": [],
   "source": [
    "df_train.to_csv('../data/classification/lyrics_train.csv', index=False)\n",
    "df_test.to_csv('../data/classification/lyrics_test.csv', index=False)"
   ]
  },
  {
   "cell_type": "markdown",
   "id": "cf5baa12",
   "metadata": {
    "papermill": {
     "duration": 0.034572,
     "end_time": "2023-02-12T15:54:28.993514",
     "exception": false,
     "start_time": "2023-02-12T15:54:28.958942",
     "status": "completed"
    },
    "tags": []
   },
   "source": [
    "## Evaluation Dataset Preparation"
   ]
  },
  {
   "cell_type": "code",
   "execution_count": 49,
   "id": "464a1f1f",
   "metadata": {
    "execution": {
     "iopub.execute_input": "2023-02-12T15:54:29.029613Z",
     "iopub.status.busy": "2023-02-12T15:54:29.029075Z",
     "iopub.status.idle": "2023-02-12T15:54:34.063231Z",
     "shell.execute_reply": "2023-02-12T15:54:34.062259Z"
    },
    "papermill": {
     "duration": 5.049608,
     "end_time": "2023-02-12T15:54:34.065282",
     "exception": false,
     "start_time": "2023-02-12T15:54:29.015674",
     "status": "completed"
    },
    "tags": []
   },
   "outputs": [
    {
     "name": "stderr",
     "output_type": "stream",
     "text": [
      "2023-02-12 16:54:30.932226: I tensorflow/core/platform/cpu_feature_guard.cc:193] This TensorFlow binary is optimized with oneAPI Deep Neural Network Library (oneDNN) to use the following CPU instructions in performance-critical operations:  AVX2 FMA\n",
      "To enable them in other operations, rebuild TensorFlow with the appropriate compiler flags.\n"
     ]
    },
    {
     "name": "stderr",
     "output_type": "stream",
     "text": [
      "2023-02-12 16:54:32.796384: W tensorflow/compiler/xla/stream_executor/platform/default/dso_loader.cc:64] Could not load dynamic library 'libnvinfer.so.7'; dlerror: libnvinfer.so.7: cannot open shared object file: No such file or directory\n",
      "2023-02-12 16:54:32.796583: W tensorflow/compiler/xla/stream_executor/platform/default/dso_loader.cc:64] Could not load dynamic library 'libnvinfer_plugin.so.7'; dlerror: libnvinfer_plugin.so.7: cannot open shared object file: No such file or directory\n",
      "2023-02-12 16:54:32.796592: W tensorflow/compiler/tf2tensorrt/utils/py_utils.cc:38] TF-TRT Warning: Cannot dlopen some TensorRT libraries. If you would like to use Nvidia GPU with TensorRT, please make sure the missing libraries mentioned above are installed properly.\n"
     ]
    }
   ],
   "source": [
    "import pandas as pd\n",
    "import numpy as np\n",
    "import random\n",
    "import ast\n",
    "import nlpaug.augmenter.word as naw\n",
    "from math import sqrt\n",
    "from sklearn.model_selection import train_test_split"
   ]
  },
  {
   "cell_type": "code",
   "execution_count": 50,
   "id": "fd6271df",
   "metadata": {
    "execution": {
     "iopub.execute_input": "2023-02-12T15:54:34.102737Z",
     "iopub.status.busy": "2023-02-12T15:54:34.101026Z",
     "iopub.status.idle": "2023-02-12T15:54:34.120341Z",
     "shell.execute_reply": "2023-02-12T15:54:34.119338Z"
    },
    "papermill": {
     "duration": 0.042444,
     "end_time": "2023-02-12T15:54:34.123311",
     "exception": false,
     "start_time": "2023-02-12T15:54:34.080867",
     "status": "completed"
    },
    "tags": []
   },
   "outputs": [],
   "source": [
    "df = pd.read_csv('../data/evaluation/lyrics_eval.csv')"
   ]
  },
  {
   "cell_type": "code",
   "execution_count": 51,
   "id": "6262b5e1",
   "metadata": {
    "execution": {
     "iopub.execute_input": "2023-02-12T15:54:34.154034Z",
     "iopub.status.busy": "2023-02-12T15:54:34.153581Z",
     "iopub.status.idle": "2023-02-12T15:54:34.166824Z",
     "shell.execute_reply": "2023-02-12T15:54:34.166024Z"
    },
    "papermill": {
     "duration": 0.030172,
     "end_time": "2023-02-12T15:54:34.168867",
     "exception": false,
     "start_time": "2023-02-12T15:54:34.138695",
     "status": "completed"
    },
    "tags": []
   },
   "outputs": [
    {
     "data": {
      "text/html": [
       "<div>\n",
       "<style scoped>\n",
       "    .dataframe tbody tr th:only-of-type {\n",
       "        vertical-align: middle;\n",
       "    }\n",
       "\n",
       "    .dataframe tbody tr th {\n",
       "        vertical-align: top;\n",
       "    }\n",
       "\n",
       "    .dataframe thead th {\n",
       "        text-align: right;\n",
       "    }\n",
       "</style>\n",
       "<table border=\"1\" class=\"dataframe\">\n",
       "  <thead>\n",
       "    <tr style=\"text-align: right;\">\n",
       "      <th></th>\n",
       "      <th>index</th>\n",
       "      <th>lyrics</th>\n",
       "      <th>genre</th>\n",
       "      <th>id</th>\n",
       "    </tr>\n",
       "  </thead>\n",
       "  <tbody>\n",
       "    <tr>\n",
       "      <th>0</th>\n",
       "      <td>14308</td>\n",
       "      <td>[\"Make yaself, Don't break yaself\", \"Make yase...</td>\n",
       "      <td>pop</td>\n",
       "      <td>14308</td>\n",
       "    </tr>\n",
       "    <tr>\n",
       "      <th>1</th>\n",
       "      <td>36771</td>\n",
       "      <td>['You will always be my baby', \"There's a thou...</td>\n",
       "      <td>pop</td>\n",
       "      <td>36771</td>\n",
       "    </tr>\n",
       "    <tr>\n",
       "      <th>2</th>\n",
       "      <td>33221</td>\n",
       "      <td>['Hard to find a way to get through', \"It's a ...</td>\n",
       "      <td>pop</td>\n",
       "      <td>33221</td>\n",
       "    </tr>\n",
       "    <tr>\n",
       "      <th>3</th>\n",
       "      <td>31036</td>\n",
       "      <td>[\"We're boarding the night train\", \"We're bore...</td>\n",
       "      <td>pop</td>\n",
       "      <td>31036</td>\n",
       "    </tr>\n",
       "    <tr>\n",
       "      <th>4</th>\n",
       "      <td>10925</td>\n",
       "      <td>['Come come baby', 'I can see you wanna touch ...</td>\n",
       "      <td>pop</td>\n",
       "      <td>10925</td>\n",
       "    </tr>\n",
       "  </tbody>\n",
       "</table>\n",
       "</div>"
      ],
      "text/plain": [
       "   index                                             lyrics genre     id\n",
       "0  14308  [\"Make yaself, Don't break yaself\", \"Make yase...   pop  14308\n",
       "1  36771  ['You will always be my baby', \"There's a thou...   pop  36771\n",
       "2  33221  ['Hard to find a way to get through', \"It's a ...   pop  33221\n",
       "3  31036  [\"We're boarding the night train\", \"We're bore...   pop  31036\n",
       "4  10925  ['Come come baby', 'I can see you wanna touch ...   pop  10925"
      ]
     },
     "execution_count": 51,
     "metadata": {},
     "output_type": "execute_result"
    }
   ],
   "source": [
    "df.head()"
   ]
  },
  {
   "cell_type": "code",
   "execution_count": 52,
   "id": "308ecaaf",
   "metadata": {
    "execution": {
     "iopub.execute_input": "2023-02-12T15:54:34.196102Z",
     "iopub.status.busy": "2023-02-12T15:54:34.195464Z",
     "iopub.status.idle": "2023-02-12T15:54:34.215292Z",
     "shell.execute_reply": "2023-02-12T15:54:34.213839Z"
    },
    "papermill": {
     "duration": 0.036079,
     "end_time": "2023-02-12T15:54:34.217931",
     "exception": false,
     "start_time": "2023-02-12T15:54:34.181852",
     "status": "completed"
    },
    "tags": []
   },
   "outputs": [
    {
     "name": "stdout",
     "output_type": "stream",
     "text": [
      "<class 'pandas.core.frame.DataFrame'>\n",
      "RangeIndex: 150 entries, 0 to 149\n",
      "Data columns (total 4 columns):\n",
      " #   Column  Non-Null Count  Dtype \n",
      "---  ------  --------------  ----- \n",
      " 0   index   150 non-null    int64 \n",
      " 1   lyrics  150 non-null    object\n",
      " 2   genre   150 non-null    object\n",
      " 3   id      150 non-null    int64 \n",
      "dtypes: int64(2), object(2)\n",
      "memory usage: 4.8+ KB\n"
     ]
    }
   ],
   "source": [
    "df.info()"
   ]
  },
  {
   "cell_type": "code",
   "execution_count": 53,
   "id": "025f63e4",
   "metadata": {
    "execution": {
     "iopub.execute_input": "2023-02-12T15:54:34.248747Z",
     "iopub.status.busy": "2023-02-12T15:54:34.247732Z",
     "iopub.status.idle": "2023-02-12T15:54:34.299807Z",
     "shell.execute_reply": "2023-02-12T15:54:34.298392Z"
    },
    "papermill": {
     "duration": 0.069393,
     "end_time": "2023-02-12T15:54:34.302012",
     "exception": false,
     "start_time": "2023-02-12T15:54:34.232619",
     "status": "completed"
    },
    "tags": []
   },
   "outputs": [],
   "source": [
    "df['lyrics'] = list(map(lambda x: ast.literal_eval(x), df['lyrics']))"
   ]
  },
  {
   "cell_type": "code",
   "execution_count": 54,
   "id": "6c6bd385",
   "metadata": {
    "execution": {
     "iopub.execute_input": "2023-02-12T15:54:34.356627Z",
     "iopub.status.busy": "2023-02-12T15:54:34.355776Z",
     "iopub.status.idle": "2023-02-12T15:54:34.363008Z",
     "shell.execute_reply": "2023-02-12T15:54:34.361826Z"
    },
    "papermill": {
     "duration": 0.039809,
     "end_time": "2023-02-12T15:54:34.365220",
     "exception": false,
     "start_time": "2023-02-12T15:54:34.325411",
     "status": "completed"
    },
    "tags": []
   },
   "outputs": [],
   "source": [
    "eg_lyrics = random.choice(df['lyrics'])"
   ]
  },
  {
   "cell_type": "code",
   "execution_count": 55,
   "id": "c1f7bdbd",
   "metadata": {
    "execution": {
     "iopub.execute_input": "2023-02-12T15:54:34.407887Z",
     "iopub.status.busy": "2023-02-12T15:54:34.407179Z",
     "iopub.status.idle": "2023-02-12T15:54:45.334025Z",
     "shell.execute_reply": "2023-02-12T15:54:45.332805Z"
    },
    "papermill": {
     "duration": 10.9504,
     "end_time": "2023-02-12T15:54:45.337497",
     "exception": false,
     "start_time": "2023-02-12T15:54:34.387097",
     "status": "completed"
    },
    "tags": []
   },
   "outputs": [],
   "source": [
    "aug = naw.ContextualWordEmbsAug(model_path='roberta-base', action=\"substitute\")"
   ]
  },
  {
   "cell_type": "code",
   "execution_count": 56,
   "id": "737ac3e7",
   "metadata": {
    "execution": {
     "iopub.execute_input": "2023-02-12T15:54:45.394439Z",
     "iopub.status.busy": "2023-02-12T15:54:45.393270Z",
     "iopub.status.idle": "2023-02-12T15:54:45.404848Z",
     "shell.execute_reply": "2023-02-12T15:54:45.403534Z"
    },
    "papermill": {
     "duration": 0.04247,
     "end_time": "2023-02-12T15:54:45.408269",
     "exception": false,
     "start_time": "2023-02-12T15:54:45.365799",
     "status": "completed"
    },
    "tags": []
   },
   "outputs": [],
   "source": [
    "def misalign_lyrics(lyrics, repetitions, repeat_verse):\n",
    "    verses2repeat = random.sample(range(0, len(lyrics)), repetitions)\n",
    "    misaligned_lyrics = []\n",
    "    for idx, verse in enumerate(lyrics):\n",
    "        if idx in verses2repeat:\n",
    "            misaligned_lyrics.extend([verse] * repeat_verse)\n",
    "        else:\n",
    "            misaligned_lyrics.append(verse)\n",
    "    return misaligned_lyrics"
   ]
  },
  {
   "cell_type": "code",
   "execution_count": 57,
   "id": "afd1c5ca",
   "metadata": {
    "execution": {
     "iopub.execute_input": "2023-02-12T15:54:45.452710Z",
     "iopub.status.busy": "2023-02-12T15:54:45.451592Z",
     "iopub.status.idle": "2023-02-12T15:54:51.099711Z",
     "shell.execute_reply": "2023-02-12T15:54:51.098799Z"
    },
    "papermill": {
     "duration": 5.66856,
     "end_time": "2023-02-12T15:54:51.102768",
     "exception": false,
     "start_time": "2023-02-12T15:54:45.434208",
     "status": "completed"
    },
    "tags": []
   },
   "outputs": [],
   "source": [
    "clf_test_ids = list(pd.read_csv('../data/classification/lyrics_test.csv')['id'])\n",
    "evaluation_ids = list(df['id'])\n",
    "\n",
    "idxs2remove = list(set(clf_test_ids + evaluation_ids))\n",
    "all_lyrics = pd.read_csv('../data/lyrics.csv').drop(index=idxs2remove)['lyrics']\n",
    "all_lyrics = list(map(lambda x: ast.literal_eval(x), all_lyrics))"
   ]
  },
  {
   "cell_type": "code",
   "execution_count": 58,
   "id": "250f950f",
   "metadata": {
    "execution": {
     "iopub.execute_input": "2023-02-12T15:54:51.173145Z",
     "iopub.status.busy": "2023-02-12T15:54:51.172828Z",
     "iopub.status.idle": "2023-02-12T15:54:51.788473Z",
     "shell.execute_reply": "2023-02-12T15:54:51.787869Z"
    },
    "papermill": {
     "duration": 0.652342,
     "end_time": "2023-02-12T15:54:51.790084",
     "exception": false,
     "start_time": "2023-02-12T15:54:51.137742",
     "status": "completed"
    },
    "tags": []
   },
   "outputs": [
    {
     "name": "stdout",
     "output_type": "stream",
     "text": [
      "Original verse:\n",
      "And a smile hides the rage in her eyes\n",
      "Augmented:\n"
     ]
    },
    {
     "data": {
      "text/plain": [
       "['And grim smile hid the rage in her voice']"
      ]
     },
     "execution_count": 58,
     "metadata": {},
     "output_type": "execute_result"
    }
   ],
   "source": [
    "eg_verse = random.choice(eg_lyrics)\n",
    "print('Original verse:')\n",
    "print(eg_verse)\n",
    "\n",
    "print('Augmented:')\n",
    "aug.augment(eg_verse)"
   ]
  },
  {
   "cell_type": "code",
   "execution_count": 59,
   "id": "cfa3b071",
   "metadata": {
    "execution": {
     "iopub.execute_input": "2023-02-12T15:54:51.834753Z",
     "iopub.status.busy": "2023-02-12T15:54:51.834220Z",
     "iopub.status.idle": "2023-02-12T15:55:21.276489Z",
     "shell.execute_reply": "2023-02-12T15:55:21.275653Z"
    },
    "papermill": {
     "duration": 29.475025,
     "end_time": "2023-02-12T15:55:21.278329",
     "exception": false,
     "start_time": "2023-02-12T15:54:51.803304",
     "status": "completed"
    },
    "tags": []
   },
   "outputs": [
    {
     "name": "stdout",
     "output_type": "stream",
     "text": [
      "ORIGINAL lyrics:\n",
      "['We had the type of nights where morning comes too soon', 'And nothing was the same', 'Watch me, going out of the way', \"When I should've went home\", 'Only time of the day I get to spend on my own', \"I was trippin' off how I used to sleep at ya crib\", 'Should drive by right where you live', 'and pick you up on the way', \"We ain't spoke in so long, probably put me in the past\", 'I can still get you wet and I can still make you laugh', \"You should call into work if that ain't too much to ask\", 'I could pour you up a drink and we can burn something', 'Come thru, come thru, come thru, come thru', 'Girl you know we got thangs to do', 'Girl you know we got thangs to do', 'So get your ass in that car and come thru', 'Last night I brought doa to the studio', 'They already had a stage and a booty pole', 'Its supposed to be a lot of hard working going on', \"But who the fuck can focus with this twerkin' going on\", 'Someone put a order in for a chicken', 'Told my girl to order in, I need the kitchen', 'Yeah they know I got the hook-up', 'they just wait on me to cook up', 'Baby I heat up the stove, you do the dishes ya know?', \"Rap game, crack game, ain't that different ya know?\", 'Last album had it booming something vicious ya know?', 'And ya know I need ya back in my life', 'Girl ya know ya got that, know ya got that thing that I like', 'Girl you got that thing for real', 'When I was on a mission to make it', 'Who used to sleep on the floor with you', 'when you lived in the basement?', \"Who else got all the things you need at 4am when it's later?\", 'I always pour you up a drink and let you burn something', 'Why has it been so long? why has it been so long?', 'Why has it been? why has it been?', 'Who you been crying to? who you been flying to?', \"Who's bed are you sleeping in? someone's been hiding you\", 'Where have you been?', 'You deserve rounds tonight, come thru girl', 'you deserve rounds tonight', 'Come thru girl you deserve rounds tonight', 'Come thru girl you deserve rounds tonight', 'Rounds tonight oh', 'come thru girl you deserve rounds tonight', 'Come thru girl you deserve rounds tonight']\n",
      "\n",
      "AUGMENTED lyrics:\n",
      "Aligned:\n",
      "['We had the type or nights when nothing comes to soon', 'And nothing for the solution', 'Watch me, going in there their way', \"When I should've come along\", 'Only on this late day I have to spend on my own', \"I keep trippin' about how I seemed to sleep at college too\", 'Should leave by right where THEY are', 'and pick you guys along her way', \"We ain't spoke back here sometime, probably pushed me through the past\", 'I can probably keep you pissed and I can still make you angry', \"You should call that it if a ain't to much to ask\", 'I could pour you your shitty bottle and everybody can burn something', 'Come thru, touch down, come round, get thru', 'Girl Scouts reckon we know thangs to do', 'Girl guys go we got things to do', 'So get my ass in the car and come over', 'Last night Jeremy brought her into the studio', 'They finally got another stage and a booty pole', 'Its supposed gonna be a work but hard working carry on', \"But who the heck could see all this shit' going on\", 'Someone putting a fork in for a gun', 'Told the mom to give in, I need the tip', 'Yeah they all - love the hook-up', 'they all wait upon me to wake up', 'Baby I got up this fire, you do the dishes huh girl?', \"Rap meet, crack game, ain't that right then da?\", 'Last album of fans booming something vicious I know?', 'And ya heard I need ya eyes on my life', 'Girl ya seen ya mean that, know ya hear da thing that I hear', 'Girl you get that candy for ME', 'When Obama was on a rampage to destroy it', 'Who used to dance on the night below you', 'when thou lived in a Midwest?', \"Who else actually though the shit they say at 4am when it's later?\", 'I always pour tea and a drink Then propose you burn something', 'Why has Rome been so quiet? Although has it gone very long?', 'Why hasn ours been? why has it failed?', 'Who you been crying to? or should be speaking to?', \"Who's house are guys sleeping in? someone's basically stalking you\", 'Where have people finished?', 'You are real tonight, roll thru girl', 'you know better tonight', 'Come on … you deserve rounds 10', 'Come out for you deserve more tonight', 'Rounds up Edit', 'come grab me you deserve help tonight', 'Come thru 2 u deserve rounds 2']\n",
      "\n",
      "Misaligned:\n",
      "['We had the type or nights when nothing comes to soon', 'And nothing for the solution', 'Watch me, going in there their way', \"When I should've come along\", 'Only on this late day I have to spend on my own', \"I keep trippin' about how I seemed to sleep at college too\", 'Should leave by right where THEY are', 'and pick you guys along her way', \"We ain't spoke back here sometime, probably pushed me through the past\", 'I can probably keep you pissed and I can still make you angry', \"You should call that it if a ain't to much to ask\", 'I could pour you your shitty bottle and everybody can burn something', 'I could pour you your shitty bottle and everybody can burn something', 'Come thru, touch down, come round, get thru', 'Girl Scouts reckon we know thangs to do', 'Girl guys go we got things to do', 'So get my ass in the car and come over', 'Last night Jeremy brought her into the studio', 'They finally got another stage and a booty pole', 'Its supposed gonna be a work but hard working carry on', \"But who the heck could see all this shit' going on\", 'Someone putting a fork in for a gun', 'Someone putting a fork in for a gun', 'Told the mom to give in, I need the tip', 'Yeah they all - love the hook-up', 'Yeah they all - love the hook-up', 'they all wait upon me to wake up', 'Baby I got up this fire, you do the dishes huh girl?', \"Rap meet, crack game, ain't that right then da?\", 'Last album of fans booming something vicious I know?', 'And ya heard I need ya eyes on my life', 'Girl ya seen ya mean that, know ya hear da thing that I hear', 'Girl you get that candy for ME', 'When Obama was on a rampage to destroy it', 'When Obama was on a rampage to destroy it', 'Who used to dance on the night below you', 'when thou lived in a Midwest?', \"Who else actually though the shit they say at 4am when it's later?\", 'I always pour tea and a drink Then propose you burn something', 'Why has Rome been so quiet? Although has it gone very long?', 'Why hasn ours been? why has it failed?', 'Who you been crying to? or should be speaking to?', 'Who you been crying to? or should be speaking to?', \"Who's house are guys sleeping in? someone's basically stalking you\", 'Where have people finished?', 'You are real tonight, roll thru girl', 'You are real tonight, roll thru girl', 'you know better tonight', 'you know better tonight', 'Come on … you deserve rounds 10', 'Come out for you deserve more tonight', 'Rounds up Edit', 'come grab me you deserve help tonight', 'Come thru 2 u deserve rounds 2']\n",
      "\n",
      "RANDOM lyrics:\n",
      "['All press is good press, kids', 'So if you wanna see us gone', 'Then I suggest you keep our name', 'Out of your headlines', 'Unless you wanna mess, that is', 'Your best bet is to set your dirty laundry separate', 'From the clean before your deadline', 'Admit it, you wanted to be an artist', 'But your parents and that tiny voice inside you', \"Said it wasn't worth the hardships\", 'What better way to compensate', 'then to hate on everything you wish you were', \"But didn't have the balls to harness\", \"Pop culture's my trip,\", 'somehow you think your gonna stop us', 'Cuz you flirted with a chick', \"who's got my tongue in her esophagus\", 'Bitches post anonymous', 'We shat on 07, 08 is gonna be great, imagine 2011', \"Give me one good reason I shouldn't dead this debate\", \"Don't worry, I'll wait\", \"That's the fuck I thought\", 'Cat got your tongue', 'Next time get your facts right', 'Google me and act right', 'How can I be', 'Be without your hate', 'It gives me peace of mind', \"So please don't tell me its over\", \"Don't tell me its over\", 'Its your hate that keeps me believing', \"That we're the greatest of all time\", \"So please don't tell me its over\", \"Don't tell me its over\", \"Don't tell me its over\", \"Because I can't bare to see you go\", 'See you go', \"Don't tell me its over\", \"Because I can't bare to see you go\", 'See you go', 'Hey mr. internet', 'To whom it may piss off, yea you and you', \"Here's a list of shit you didn't know but now you do\", 'Exploit my bad habits', 'Tell them I do drugs', 'Tell them travi smokes more crack than tyrone biggums does', \"Tell them I can't rap\", 'Tell them I dumb it down', 'Tell them not to buy tickets', \"Whenever my band's in town\", 'Tell them I sold out,', 'say I did it for the fame', 'And how I buy magazines for the sake of seeing my name', 'Tell them I how frequent parties', 'trying to get that page 6', 'Tell them so and so said so', 'and so saw pictures of my dick', \"Make me out to be an asshole that don't deserve his fans\", 'Make me more insecure than I already am', \"Kick dirt on my accomplishments if you're ever bored\", \"Just document it well and don't forget to hit record\", 'One hit wonder my ass, what are you talking about', 'Let them keep bogging trash im gonna take the garbage out', 'How can I be', 'Be without your hate', 'It gives me peace of mind', \"So please don't tell me its over\", \"Don't tell me its over\", 'Its your hate that keeps me believing', \"That we're the greatest of all time\", \"So please don't tell me its over\", \"Don't tell me its over\", \"Don't tell me its over\", \"Because I can't bare to see you go\", 'See you go', \"Don't tell me its over\", 'Because I cant bare to see you go', 'See you go']\n"
     ]
    }
   ],
   "source": [
    "eg_lyrics = random.choice(df['lyrics'])\n",
    "\n",
    "eg_aug_lyrics = [aug.augment(verse)[0] for verse in eg_lyrics]\n",
    "eg_aug_misl_lyrics = misalign_lyrics(eg_aug_lyrics, repetitions=round(sqrt(len(eg_lyrics))), repeat_verse=2)\n",
    "\n",
    "eg_fake_lyrics = random.choice(all_lyrics)\n",
    "\n",
    "print('ORIGINAL lyrics:')\n",
    "print(eg_lyrics)\n",
    "print()\n",
    "print('AUGMENTED lyrics:')\n",
    "print('Aligned:')\n",
    "print(eg_aug_lyrics)\n",
    "print()\n",
    "print('Misaligned:')\n",
    "print(eg_aug_misl_lyrics)\n",
    "print()\n",
    "print('RANDOM lyrics:')\n",
    "print(eg_fake_lyrics)"
   ]
  },
  {
   "cell_type": "code",
   "execution_count": 60,
   "id": "ef726478",
   "metadata": {
    "execution": {
     "iopub.execute_input": "2023-02-12T15:55:21.305703Z",
     "iopub.status.busy": "2023-02-12T15:55:21.305362Z",
     "iopub.status.idle": "2023-02-12T17:08:48.692160Z",
     "shell.execute_reply": "2023-02-12T17:08:48.686463Z"
    },
    "papermill": {
     "duration": 4407.407256,
     "end_time": "2023-02-12T17:08:48.698802",
     "exception": false,
     "start_time": "2023-02-12T15:55:21.291546",
     "status": "completed"
    },
    "tags": []
   },
   "outputs": [],
   "source": [
    "augment_many = lambda lyrics: [aug.augment(verse)[0] for verse in lyrics]\n",
    "\n",
    "aug_lyrics = [augment_many(lyrics) for lyrics in df['lyrics']]\n",
    "misl_aug_lyrics = [misalign_lyrics(aug_lyr, repetitions=round(sqrt(len(aug_lyr))), repeat_verse=random.choice([2,3])) for aug_lyr in aug_lyrics]\n",
    "\n",
    "df['similar_lyrics'] = misl_aug_lyrics\n",
    "df['random_lyrics'] = random.sample(all_lyrics, len(df['lyrics']))"
   ]
  },
  {
   "cell_type": "code",
   "execution_count": 61,
   "id": "616ecc4e",
   "metadata": {
    "execution": {
     "iopub.execute_input": "2023-02-12T17:08:48.736241Z",
     "iopub.status.busy": "2023-02-12T17:08:48.735375Z",
     "iopub.status.idle": "2023-02-12T17:08:48.819449Z",
     "shell.execute_reply": "2023-02-12T17:08:48.818665Z"
    },
    "papermill": {
     "duration": 0.105578,
     "end_time": "2023-02-12T17:08:48.821402",
     "exception": false,
     "start_time": "2023-02-12T17:08:48.715824",
     "status": "completed"
    },
    "tags": []
   },
   "outputs": [
    {
     "data": {
      "text/html": [
       "<div>\n",
       "<style scoped>\n",
       "    .dataframe tbody tr th:only-of-type {\n",
       "        vertical-align: middle;\n",
       "    }\n",
       "\n",
       "    .dataframe tbody tr th {\n",
       "        vertical-align: top;\n",
       "    }\n",
       "\n",
       "    .dataframe thead th {\n",
       "        text-align: right;\n",
       "    }\n",
       "</style>\n",
       "<table border=\"1\" class=\"dataframe\">\n",
       "  <thead>\n",
       "    <tr style=\"text-align: right;\">\n",
       "      <th></th>\n",
       "      <th>index</th>\n",
       "      <th>lyrics</th>\n",
       "      <th>genre</th>\n",
       "      <th>id</th>\n",
       "      <th>similar_lyrics</th>\n",
       "      <th>random_lyrics</th>\n",
       "    </tr>\n",
       "  </thead>\n",
       "  <tbody>\n",
       "    <tr>\n",
       "      <th>0</th>\n",
       "      <td>14308</td>\n",
       "      <td>[Make yaself, Don't break yaself, Make yaself,...</td>\n",
       "      <td>pop</td>\n",
       "      <td>14308</td>\n",
       "      <td>[Make Problems, Then Let Them, Make peace, not...</td>\n",
       "      <td>[We've been living in a fantasy, I said we've ...</td>\n",
       "    </tr>\n",
       "    <tr>\n",
       "      <th>1</th>\n",
       "      <td>36771</td>\n",
       "      <td>[You will always be my baby, There's a thousan...</td>\n",
       "      <td>pop</td>\n",
       "      <td>36771</td>\n",
       "      <td>[You shall long be my baby, There's a thousand...</td>\n",
       "      <td>[I still see your coat hangin on the door, Nev...</td>\n",
       "    </tr>\n",
       "    <tr>\n",
       "      <th>2</th>\n",
       "      <td>33221</td>\n",
       "      <td>[Hard to find a way to get through, It's a tra...</td>\n",
       "      <td>pop</td>\n",
       "      <td>33221</td>\n",
       "      <td>[Hard times find another way to cut through, I...</td>\n",
       "      <td>[relaxin maxin to the maximum, to tracks a hum...</td>\n",
       "    </tr>\n",
       "    <tr>\n",
       "      <th>3</th>\n",
       "      <td>31036</td>\n",
       "      <td>[We're boarding the night train, We're bored o...</td>\n",
       "      <td>pop</td>\n",
       "      <td>31036</td>\n",
       "      <td>[We're behind the first train, We're bored at ...</td>\n",
       "      <td>[Early mornin' wake up, Gently with the Caress...</td>\n",
       "    </tr>\n",
       "    <tr>\n",
       "      <th>4</th>\n",
       "      <td>10925</td>\n",
       "      <td>[Come come baby, I can see you wanna touch me,...</td>\n",
       "      <td>pop</td>\n",
       "      <td>10925</td>\n",
       "      <td>[Come come come, I wanna see people wanna touc...</td>\n",
       "      <td>[I hear the click-clack of your feet on the st...</td>\n",
       "    </tr>\n",
       "  </tbody>\n",
       "</table>\n",
       "</div>"
      ],
      "text/plain": [
       "   index                                             lyrics genre     id  \\\n",
       "0  14308  [Make yaself, Don't break yaself, Make yaself,...   pop  14308   \n",
       "1  36771  [You will always be my baby, There's a thousan...   pop  36771   \n",
       "2  33221  [Hard to find a way to get through, It's a tra...   pop  33221   \n",
       "3  31036  [We're boarding the night train, We're bored o...   pop  31036   \n",
       "4  10925  [Come come baby, I can see you wanna touch me,...   pop  10925   \n",
       "\n",
       "                                      similar_lyrics  \\\n",
       "0  [Make Problems, Then Let Them, Make peace, not...   \n",
       "1  [You shall long be my baby, There's a thousand...   \n",
       "2  [Hard times find another way to cut through, I...   \n",
       "3  [We're behind the first train, We're bored at ...   \n",
       "4  [Come come come, I wanna see people wanna touc...   \n",
       "\n",
       "                                       random_lyrics  \n",
       "0  [We've been living in a fantasy, I said we've ...  \n",
       "1  [I still see your coat hangin on the door, Nev...  \n",
       "2  [relaxin maxin to the maximum, to tracks a hum...  \n",
       "3  [Early mornin' wake up, Gently with the Caress...  \n",
       "4  [I hear the click-clack of your feet on the st...  "
      ]
     },
     "execution_count": 61,
     "metadata": {},
     "output_type": "execute_result"
    }
   ],
   "source": [
    "df.head()"
   ]
  },
  {
   "cell_type": "code",
   "execution_count": 62,
   "id": "6b3eec25",
   "metadata": {
    "execution": {
     "iopub.execute_input": "2023-02-12T17:08:48.874557Z",
     "iopub.status.busy": "2023-02-12T17:08:48.874022Z",
     "iopub.status.idle": "2023-02-12T17:08:48.998997Z",
     "shell.execute_reply": "2023-02-12T17:08:48.998215Z"
    },
    "papermill": {
     "duration": 0.16503,
     "end_time": "2023-02-12T17:08:49.001810",
     "exception": false,
     "start_time": "2023-02-12T17:08:48.836780",
     "status": "completed"
    },
    "tags": []
   },
   "outputs": [],
   "source": [
    "df.to_csv('../data/evaluation/lyrics_eval.csv', index=False)"
   ]
  },
  {
   "cell_type": "code",
   "execution_count": null,
   "id": "41f2689b",
   "metadata": {
    "papermill": {
     "duration": 0.035757,
     "end_time": "2023-02-12T17:08:49.081701",
     "exception": false,
     "start_time": "2023-02-12T17:08:49.045944",
     "status": "completed"
    },
    "tags": []
   },
   "outputs": [],
   "source": []
  }
 ],
 "metadata": {
  "kernelspec": {
   "display_name": "Python 3 (ipykernel)",
   "language": "python",
   "name": "python3"
  },
  "language_info": {
   "codemirror_mode": {
    "name": "ipython",
    "version": 3
   },
   "file_extension": ".py",
   "mimetype": "text/x-python",
   "name": "python",
   "nbconvert_exporter": "python",
   "pygments_lexer": "ipython3",
   "version": "3.9.16"
  },
  "papermill": {
   "default_parameters": {},
   "duration": 4672.286683,
   "end_time": "2023-02-12T17:08:51.832721",
   "environment_variables": {},
   "exception": null,
   "input_path": "data_preparation.ipynb",
   "output_path": "data_preparation.ipynb",
   "parameters": {},
   "start_time": "2023-02-12T15:50:59.546038",
   "version": "2.4.0"
  },
  "vscode": {
   "interpreter": {
    "hash": "eb8d1ded7c87c6f9c253b40add648304d6b51d2e38393955e855effc7e6f899a"
   }
  }
 },
 "nbformat": 4,
 "nbformat_minor": 5
}