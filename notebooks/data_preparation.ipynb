{
 "cells": [
  {
   "attachments": {},
   "cell_type": "markdown",
   "metadata": {},
   "source": [
    "# Data Preparation"
   ]
  },
  {
   "cell_type": "code",
   "execution_count": 1,
   "metadata": {},
   "outputs": [],
   "source": [
    "import pandas as pd\n",
    "import numpy as np\n",
    "from matplotlib import pyplot as plt\n",
    "import seaborn as sns\n",
    "from tqdm import tqdm\n",
    "from sklearn.preprocessing import MultiLabelBinarizer\n",
    "from itertools import combinations\n",
    "import random\n",
    "import re"
   ]
  },
  {
   "cell_type": "code",
   "execution_count": 2,
   "metadata": {},
   "outputs": [],
   "source": [
    "pal = 'deep'\n",
    "st = 'whitegrid'\n",
    "fig_size = {'figure.figsize':(10, 8)}\n",
    "\n",
    "sns.set_theme(context='notebook',\n",
    "              style= st,\n",
    "              palette= pal,\n",
    "              font='sans-serif',\n",
    "              font_scale=1,\n",
    "              color_codes=True,\n",
    "              rc= fig_size)"
   ]
  },
  {
   "cell_type": "code",
   "execution_count": 3,
   "metadata": {},
   "outputs": [
    {
     "data": {
      "text/html": [
       "<div>\n",
       "<style scoped>\n",
       "    .dataframe tbody tr th:only-of-type {\n",
       "        vertical-align: middle;\n",
       "    }\n",
       "\n",
       "    .dataframe tbody tr th {\n",
       "        vertical-align: top;\n",
       "    }\n",
       "\n",
       "    .dataframe thead th {\n",
       "        text-align: right;\n",
       "    }\n",
       "</style>\n",
       "<table border=\"1\" class=\"dataframe\">\n",
       "  <thead>\n",
       "    <tr style=\"text-align: right;\">\n",
       "      <th></th>\n",
       "      <th>ALink</th>\n",
       "      <th>SName</th>\n",
       "      <th>SLink</th>\n",
       "      <th>Lyric</th>\n",
       "      <th>language</th>\n",
       "    </tr>\n",
       "  </thead>\n",
       "  <tbody>\n",
       "    <tr>\n",
       "      <th>0</th>\n",
       "      <td>/ivete-sangalo/</td>\n",
       "      <td>Arerê</td>\n",
       "      <td>/ivete-sangalo/arere.html</td>\n",
       "      <td>Tudo o que eu quero nessa vida,\\nToda vida, é\\...</td>\n",
       "      <td>pt</td>\n",
       "    </tr>\n",
       "    <tr>\n",
       "      <th>1</th>\n",
       "      <td>/ivete-sangalo/</td>\n",
       "      <td>Se Eu Não Te Amasse Tanto Assim</td>\n",
       "      <td>/ivete-sangalo/se-eu-nao-te-amasse-tanto-assim...</td>\n",
       "      <td>Meu coração\\nSem direção\\nVoando só por voar\\n...</td>\n",
       "      <td>pt</td>\n",
       "    </tr>\n",
       "    <tr>\n",
       "      <th>2</th>\n",
       "      <td>/ivete-sangalo/</td>\n",
       "      <td>Céu da Boca</td>\n",
       "      <td>/ivete-sangalo/chupa-toda.html</td>\n",
       "      <td>É de babaixá!\\nÉ de balacubaca!\\nÉ de babaixá!...</td>\n",
       "      <td>pt</td>\n",
       "    </tr>\n",
       "    <tr>\n",
       "      <th>3</th>\n",
       "      <td>/ivete-sangalo/</td>\n",
       "      <td>Quando A Chuva Passar</td>\n",
       "      <td>/ivete-sangalo/quando-a-chuva-passar.html</td>\n",
       "      <td>Quando a chuva passar\\n\\nPra quê falar\\nSe voc...</td>\n",
       "      <td>pt</td>\n",
       "    </tr>\n",
       "    <tr>\n",
       "      <th>4</th>\n",
       "      <td>/ivete-sangalo/</td>\n",
       "      <td>Sorte Grande</td>\n",
       "      <td>/ivete-sangalo/sorte-grande.html</td>\n",
       "      <td>A minha sorte grande foi você cair do céu\\nMin...</td>\n",
       "      <td>pt</td>\n",
       "    </tr>\n",
       "  </tbody>\n",
       "</table>\n",
       "</div>"
      ],
      "text/plain": [
       "             ALink                            SName  \\\n",
       "0  /ivete-sangalo/                            Arerê   \n",
       "1  /ivete-sangalo/  Se Eu Não Te Amasse Tanto Assim   \n",
       "2  /ivete-sangalo/                      Céu da Boca   \n",
       "3  /ivete-sangalo/            Quando A Chuva Passar   \n",
       "4  /ivete-sangalo/                     Sorte Grande   \n",
       "\n",
       "                                               SLink  \\\n",
       "0                          /ivete-sangalo/arere.html   \n",
       "1  /ivete-sangalo/se-eu-nao-te-amasse-tanto-assim...   \n",
       "2                     /ivete-sangalo/chupa-toda.html   \n",
       "3          /ivete-sangalo/quando-a-chuva-passar.html   \n",
       "4                   /ivete-sangalo/sorte-grande.html   \n",
       "\n",
       "                                               Lyric language  \n",
       "0  Tudo o que eu quero nessa vida,\\nToda vida, é\\...       pt  \n",
       "1  Meu coração\\nSem direção\\nVoando só por voar\\n...       pt  \n",
       "2  É de babaixá!\\nÉ de balacubaca!\\nÉ de babaixá!...       pt  \n",
       "3  Quando a chuva passar\\n\\nPra quê falar\\nSe voc...       pt  \n",
       "4  A minha sorte grande foi você cair do céu\\nMin...       pt  "
      ]
     },
     "execution_count": 3,
     "metadata": {},
     "output_type": "execute_result"
    }
   ],
   "source": [
    "df = pd.read_csv('../data/raw_data/lyrics-data.csv')\n",
    "df.head()"
   ]
  },
  {
   "cell_type": "code",
   "execution_count": 4,
   "metadata": {},
   "outputs": [
    {
     "data": {
      "text/html": [
       "<div>\n",
       "<style scoped>\n",
       "    .dataframe tbody tr th:only-of-type {\n",
       "        vertical-align: middle;\n",
       "    }\n",
       "\n",
       "    .dataframe tbody tr th {\n",
       "        vertical-align: top;\n",
       "    }\n",
       "\n",
       "    .dataframe thead th {\n",
       "        text-align: right;\n",
       "    }\n",
       "</style>\n",
       "<table border=\"1\" class=\"dataframe\">\n",
       "  <thead>\n",
       "    <tr style=\"text-align: right;\">\n",
       "      <th></th>\n",
       "      <th>Artist</th>\n",
       "      <th>Genres</th>\n",
       "      <th>Songs</th>\n",
       "      <th>Popularity</th>\n",
       "      <th>Link</th>\n",
       "    </tr>\n",
       "  </thead>\n",
       "  <tbody>\n",
       "    <tr>\n",
       "      <th>0</th>\n",
       "      <td>Ivete Sangalo</td>\n",
       "      <td>Pop; Axé; Romântico</td>\n",
       "      <td>313.0</td>\n",
       "      <td>4.4</td>\n",
       "      <td>/ivete-sangalo/</td>\n",
       "    </tr>\n",
       "    <tr>\n",
       "      <th>1</th>\n",
       "      <td>Chiclete com Banana</td>\n",
       "      <td>Axé</td>\n",
       "      <td>268.0</td>\n",
       "      <td>3.8</td>\n",
       "      <td>/chiclete-com-banana/</td>\n",
       "    </tr>\n",
       "    <tr>\n",
       "      <th>2</th>\n",
       "      <td>Banda Eva</td>\n",
       "      <td>Axé; Romântico; Reggae</td>\n",
       "      <td>215.0</td>\n",
       "      <td>2.3</td>\n",
       "      <td>/banda-eva/</td>\n",
       "    </tr>\n",
       "    <tr>\n",
       "      <th>3</th>\n",
       "      <td>É O Tchan</td>\n",
       "      <td>Axé</td>\n",
       "      <td>129.0</td>\n",
       "      <td>1.6</td>\n",
       "      <td>/e-o-tchan/</td>\n",
       "    </tr>\n",
       "    <tr>\n",
       "      <th>4</th>\n",
       "      <td>Claudia Leitte</td>\n",
       "      <td>Pop; Axé; Romântico</td>\n",
       "      <td>167.0</td>\n",
       "      <td>1.5</td>\n",
       "      <td>/claudia-leitte/</td>\n",
       "    </tr>\n",
       "  </tbody>\n",
       "</table>\n",
       "</div>"
      ],
      "text/plain": [
       "                Artist                  Genres  Songs  Popularity  \\\n",
       "0        Ivete Sangalo     Pop; Axé; Romântico  313.0         4.4   \n",
       "1  Chiclete com Banana                     Axé  268.0         3.8   \n",
       "2            Banda Eva  Axé; Romântico; Reggae  215.0         2.3   \n",
       "3            É O Tchan                     Axé  129.0         1.6   \n",
       "4       Claudia Leitte     Pop; Axé; Romântico  167.0         1.5   \n",
       "\n",
       "                    Link  \n",
       "0        /ivete-sangalo/  \n",
       "1  /chiclete-com-banana/  \n",
       "2            /banda-eva/  \n",
       "3            /e-o-tchan/  \n",
       "4       /claudia-leitte/  "
      ]
     },
     "execution_count": 4,
     "metadata": {},
     "output_type": "execute_result"
    }
   ],
   "source": [
    "df_art = pd.read_csv('../data/raw_data/artists-data.csv')\n",
    "df_art.head()"
   ]
  },
  {
   "cell_type": "code",
   "execution_count": 5,
   "metadata": {},
   "outputs": [],
   "source": [
    "df = df[df['language']=='en'].reset_index(drop=True)"
   ]
  },
  {
   "attachments": {},
   "cell_type": "markdown",
   "metadata": {},
   "source": [
    "## Class Label Preparation: Genre"
   ]
  },
  {
   "cell_type": "code",
   "execution_count": 6,
   "metadata": {},
   "outputs": [
    {
     "name": "stderr",
     "output_type": "stream",
     "text": [
      "100%|██████████| 191814/191814 [03:30<00:00, 912.36it/s] \n"
     ]
    }
   ],
   "source": [
    "genres = []\n",
    "for artist_id in tqdm(df['ALink']):    \n",
    "    artist_row = df_art[df_art['Link']==artist_id].reset_index()\n",
    "    try:\n",
    "        genres_in_artist = artist_row['Genres'][0].split('; ')        \n",
    "    except:\n",
    "        genres_in_artist = []\n",
    "    genres.append(genres_in_artist)"
   ]
  },
  {
   "cell_type": "code",
   "execution_count": 7,
   "metadata": {},
   "outputs": [],
   "source": [
    "df.drop(columns = ['ALink', 'SName', 'SLink', 'language'], inplace=True)\n",
    "df.rename(columns={'Lyric': 'lyrics'}, inplace=True)"
   ]
  },
  {
   "cell_type": "code",
   "execution_count": 8,
   "metadata": {},
   "outputs": [
    {
     "data": {
      "text/html": [
       "<div>\n",
       "<style scoped>\n",
       "    .dataframe tbody tr th:only-of-type {\n",
       "        vertical-align: middle;\n",
       "    }\n",
       "\n",
       "    .dataframe tbody tr th {\n",
       "        vertical-align: top;\n",
       "    }\n",
       "\n",
       "    .dataframe thead th {\n",
       "        text-align: right;\n",
       "    }\n",
       "</style>\n",
       "<table border=\"1\" class=\"dataframe\">\n",
       "  <thead>\n",
       "    <tr style=\"text-align: right;\">\n",
       "      <th></th>\n",
       "      <th>Axé</th>\n",
       "      <th>Black Music</th>\n",
       "      <th>Blues</th>\n",
       "      <th>Bossa Nova</th>\n",
       "      <th>COLETÂNEA</th>\n",
       "      <th>Chillout</th>\n",
       "      <th>Classic Rock</th>\n",
       "      <th>Clássico</th>\n",
       "      <th>Country</th>\n",
       "      <th>Dance</th>\n",
       "      <th>...</th>\n",
       "      <th>Soul Music</th>\n",
       "      <th>Surf Music</th>\n",
       "      <th>Tecnopop</th>\n",
       "      <th>Trance</th>\n",
       "      <th>Trap</th>\n",
       "      <th>Trilha Sonora</th>\n",
       "      <th>Trip-Hop</th>\n",
       "      <th>Tropical House</th>\n",
       "      <th>Velha Guarda</th>\n",
       "      <th>World Music</th>\n",
       "    </tr>\n",
       "  </thead>\n",
       "  <tbody>\n",
       "    <tr>\n",
       "      <th>0</th>\n",
       "      <td>1</td>\n",
       "      <td>0</td>\n",
       "      <td>0</td>\n",
       "      <td>0</td>\n",
       "      <td>0</td>\n",
       "      <td>0</td>\n",
       "      <td>0</td>\n",
       "      <td>0</td>\n",
       "      <td>0</td>\n",
       "      <td>0</td>\n",
       "      <td>...</td>\n",
       "      <td>0</td>\n",
       "      <td>0</td>\n",
       "      <td>0</td>\n",
       "      <td>0</td>\n",
       "      <td>0</td>\n",
       "      <td>0</td>\n",
       "      <td>0</td>\n",
       "      <td>0</td>\n",
       "      <td>0</td>\n",
       "      <td>0</td>\n",
       "    </tr>\n",
       "    <tr>\n",
       "      <th>1</th>\n",
       "      <td>1</td>\n",
       "      <td>0</td>\n",
       "      <td>0</td>\n",
       "      <td>0</td>\n",
       "      <td>0</td>\n",
       "      <td>0</td>\n",
       "      <td>0</td>\n",
       "      <td>0</td>\n",
       "      <td>0</td>\n",
       "      <td>0</td>\n",
       "      <td>...</td>\n",
       "      <td>0</td>\n",
       "      <td>0</td>\n",
       "      <td>0</td>\n",
       "      <td>0</td>\n",
       "      <td>0</td>\n",
       "      <td>0</td>\n",
       "      <td>0</td>\n",
       "      <td>0</td>\n",
       "      <td>0</td>\n",
       "      <td>0</td>\n",
       "    </tr>\n",
       "    <tr>\n",
       "      <th>2</th>\n",
       "      <td>1</td>\n",
       "      <td>0</td>\n",
       "      <td>0</td>\n",
       "      <td>0</td>\n",
       "      <td>0</td>\n",
       "      <td>0</td>\n",
       "      <td>0</td>\n",
       "      <td>0</td>\n",
       "      <td>0</td>\n",
       "      <td>0</td>\n",
       "      <td>...</td>\n",
       "      <td>0</td>\n",
       "      <td>0</td>\n",
       "      <td>0</td>\n",
       "      <td>0</td>\n",
       "      <td>0</td>\n",
       "      <td>0</td>\n",
       "      <td>0</td>\n",
       "      <td>0</td>\n",
       "      <td>0</td>\n",
       "      <td>0</td>\n",
       "    </tr>\n",
       "    <tr>\n",
       "      <th>3</th>\n",
       "      <td>1</td>\n",
       "      <td>0</td>\n",
       "      <td>0</td>\n",
       "      <td>0</td>\n",
       "      <td>0</td>\n",
       "      <td>0</td>\n",
       "      <td>0</td>\n",
       "      <td>0</td>\n",
       "      <td>0</td>\n",
       "      <td>0</td>\n",
       "      <td>...</td>\n",
       "      <td>0</td>\n",
       "      <td>0</td>\n",
       "      <td>0</td>\n",
       "      <td>0</td>\n",
       "      <td>0</td>\n",
       "      <td>0</td>\n",
       "      <td>0</td>\n",
       "      <td>0</td>\n",
       "      <td>0</td>\n",
       "      <td>0</td>\n",
       "    </tr>\n",
       "    <tr>\n",
       "      <th>4</th>\n",
       "      <td>1</td>\n",
       "      <td>0</td>\n",
       "      <td>0</td>\n",
       "      <td>0</td>\n",
       "      <td>0</td>\n",
       "      <td>0</td>\n",
       "      <td>0</td>\n",
       "      <td>0</td>\n",
       "      <td>0</td>\n",
       "      <td>0</td>\n",
       "      <td>...</td>\n",
       "      <td>0</td>\n",
       "      <td>0</td>\n",
       "      <td>0</td>\n",
       "      <td>0</td>\n",
       "      <td>0</td>\n",
       "      <td>0</td>\n",
       "      <td>0</td>\n",
       "      <td>0</td>\n",
       "      <td>0</td>\n",
       "      <td>0</td>\n",
       "    </tr>\n",
       "  </tbody>\n",
       "</table>\n",
       "<p>5 rows × 75 columns</p>\n",
       "</div>"
      ],
      "text/plain": [
       "   Axé  Black Music  Blues  Bossa Nova  COLETÂNEA  Chillout  Classic Rock  \\\n",
       "0    1            0      0           0          0         0             0   \n",
       "1    1            0      0           0          0         0             0   \n",
       "2    1            0      0           0          0         0             0   \n",
       "3    1            0      0           0          0         0             0   \n",
       "4    1            0      0           0          0         0             0   \n",
       "\n",
       "   Clássico  Country  Dance  ...  Soul Music  Surf Music  Tecnopop  Trance  \\\n",
       "0         0        0      0  ...           0           0         0       0   \n",
       "1         0        0      0  ...           0           0         0       0   \n",
       "2         0        0      0  ...           0           0         0       0   \n",
       "3         0        0      0  ...           0           0         0       0   \n",
       "4         0        0      0  ...           0           0         0       0   \n",
       "\n",
       "   Trap  Trilha Sonora  Trip-Hop  Tropical House  Velha Guarda  World Music  \n",
       "0     0              0         0               0             0            0  \n",
       "1     0              0         0               0             0            0  \n",
       "2     0              0         0               0             0            0  \n",
       "3     0              0         0               0             0            0  \n",
       "4     0              0         0               0             0            0  \n",
       "\n",
       "[5 rows x 75 columns]"
      ]
     },
     "execution_count": 8,
     "metadata": {},
     "output_type": "execute_result"
    }
   ],
   "source": [
    "genres = pd.Series(genres)\n",
    "# Convert nested list into one-hot-encoding\n",
    "mlb = MultiLabelBinarizer()\n",
    "genres_one_hot = pd.DataFrame(mlb.fit_transform(genres),\n",
    "                    columns=mlb.classes_,\n",
    "                    index=genres.index)\n",
    "genres_one_hot.head()"
   ]
  },
  {
   "cell_type": "code",
   "execution_count": 9,
   "metadata": {},
   "outputs": [
    {
     "data": {
      "text/plain": [
       "Rock           63717\n",
       "Pop            33571\n",
       "Pop/Rock       26360\n",
       "Heavy Metal    21759\n",
       "Hip Hop        20902\n",
       "Indie          20134\n",
       "Romântico      17947\n",
       "Hard Rock      17250\n",
       "Rap            17114\n",
       "R&B            15581\n",
       "dtype: int64"
      ]
     },
     "execution_count": 9,
     "metadata": {},
     "output_type": "execute_result"
    }
   ],
   "source": [
    "genres_one_hot.sum().sort_values(ascending=False)[:10]"
   ]
  },
  {
   "cell_type": "code",
   "execution_count": 10,
   "metadata": {},
   "outputs": [],
   "source": [
    "# Keep only the 8 most frequent genres (some of them will also be merged)\n",
    "genres2keep = genres_one_hot.sum().sort_values(ascending=False)[:9].keys()\n",
    "\n",
    "# Format labels\n",
    "format_label = lambda s: s.lower().replace(' ', '-').replace('/', '-')\n",
    "\n",
    "genres_one_hot = genres_one_hot[genres2keep]\n",
    "genres_one_hot.rename(columns = dict([(\n",
    "    genre_label, format_label(genre_label)) \n",
    "    for genre_label in genres_one_hot.keys()]), inplace=True)"
   ]
  },
  {
   "cell_type": "code",
   "execution_count": 11,
   "metadata": {},
   "outputs": [],
   "source": [
    "df = pd.concat([df, genres_one_hot], axis=1)"
   ]
  },
  {
   "cell_type": "code",
   "execution_count": 12,
   "metadata": {},
   "outputs": [],
   "source": [
    "genre_labels = [label for label in df.keys() if label != 'lyrics']\n",
    "\n",
    "# Remove lyrics that do not fit into the main genres\n",
    "df.drop(df[df[genre_labels].sum(axis=1) == 0].index, inplace=True)"
   ]
  },
  {
   "cell_type": "code",
   "execution_count": 13,
   "metadata": {},
   "outputs": [
    {
     "data": {
      "text/plain": [
       "[(('hip-hop', 'rap'), 0.5317297231959386),\n",
       " (('heavy-metal', 'hard-rock'), 0.29537756525204223),\n",
       " (('rock', 'hard-rock'), 0.2094735898661568),\n",
       " (('pop', 'pop-rock'), 0.20258854218922445),\n",
       " (('rock', 'heavy-metal'), 0.15670672296200064),\n",
       " (('pop', 'romântico'), 0.13970311704975333),\n",
       " (('rock', 'pop-rock'), 0.13782431852057703),\n",
       " (('pop-rock', 'romântico'), 0.10936678434612784),\n",
       " (('rock', 'indie'), 0.10295433021151215),\n",
       " (('pop', 'hip-hop'), 0.058550330353672755),\n",
       " (('rock', 'romântico'), 0.0391540585593037),\n",
       " (('pop-rock', 'indie'), 0.03575486199291586),\n",
       " (('pop', 'rap'), 0.03301742586365026),\n",
       " (('pop', 'indie'), 0.02956118321415563),\n",
       " (('rock', 'pop'), 0.029502645502645503),\n",
       " (('indie', 'romântico'), 0.029299672946455118),\n",
       " (('pop-rock', 'hard-rock'), 0.012772875058058523),\n",
       " (('rock', 'hip-hop'), 0.007644950403086559),\n",
       " (('indie', 'hard-rock'), 0.007030681787571048),\n",
       " (('romântico', 'hard-rock'), 0.005513655582219175)]"
      ]
     },
     "execution_count": 13,
     "metadata": {},
     "output_type": "execute_result"
    }
   ],
   "source": [
    "jaccard_similarity = lambda x, y: np.logical_and(x, y).sum() / np.logical_or(x, y).sum()\n",
    "\n",
    "genre_pairs = list(combinations(genre_labels, 2))\n",
    "\n",
    "genre_similarities = [jaccard_similarity(df[genre_pair[0]], df[genre_pair[1]]) \n",
    "    for genre_pair in genre_pairs]\n",
    "\n",
    "sorted(list(zip(genre_pairs, genre_similarities)),\n",
    "    reverse=True, key=lambda x: x[1])[:20]"
   ]
  },
  {
   "cell_type": "code",
   "execution_count": 14,
   "metadata": {},
   "outputs": [],
   "source": [
    "# Merge together rap and hip hop\n",
    "df['rap'] = np.logical_or(df['rap'], df['hip-hop']).replace({True: 1, False: 0})\n",
    "# Drop columns\n",
    "df.drop(columns=['romântico'], inplace=True)\n",
    "df.drop(columns=['hip-hop'], inplace=True)\n",
    "# Remove again lyrics that do not fit into the genres kept\n",
    "genre_labels = [label for label in df.keys() if label != 'lyrics']\n",
    "df.drop(df[df[genre_labels].sum(axis=1) == 0].index, inplace=True)"
   ]
  },
  {
   "cell_type": "code",
   "execution_count": 15,
   "metadata": {},
   "outputs": [
    {
     "data": {
      "text/plain": [
       "rock           26201\n",
       "pop            17770\n",
       "pop-rock        6011\n",
       "heavy-metal     8447\n",
       "indie           9468\n",
       "hard-rock       1460\n",
       "rap            20185\n",
       "dtype: int64"
      ]
     },
     "execution_count": 15,
     "metadata": {},
     "output_type": "execute_result"
    }
   ],
   "source": [
    "# Get unique labels and compute value counts\n",
    "df[df[genre_labels].sum(axis=1) == 1][genre_labels].sum(axis=0)"
   ]
  },
  {
   "cell_type": "code",
   "execution_count": 16,
   "metadata": {},
   "outputs": [],
   "source": [
    "# Drop songs with multiple genres\n",
    "df.drop(df[df[genre_labels].sum(axis=1) > 1].index, inplace=True)\n",
    "# Keep only rock, pop and rap lyrics:\n",
    "# 1) Remove columns\n",
    "df.drop(columns=['pop-rock','heavy-metal','indie','hard-rock'], inplace=True)\n",
    "# 2) Remove rows\n",
    "genre_labels = [label for label in df.keys() if label != 'lyrics']\n",
    "df.drop(df[df[genre_labels].sum(axis=1) == 0].index, inplace=True)"
   ]
  },
  {
   "cell_type": "code",
   "execution_count": 17,
   "metadata": {},
   "outputs": [
    {
     "name": "stdout",
     "output_type": "stream",
     "text": [
      "Duplicates with the same genre: 349\n",
      "Duplicates with different genres: 90\n"
     ]
    }
   ],
   "source": [
    "# Duplicates are songs with multiple artists (e.g. a featuring)\n",
    "# Remove duplicates having the same genre\n",
    "print(f'Duplicates with the same genre: {df.duplicated().sum()}')\n",
    "df.drop_duplicates(inplace=True)\n",
    "# Remove lyrics with different genres among duplicates:\n",
    "print(f'Duplicates with different genres: {df.duplicated(subset=\"lyrics\").sum()}')\n",
    "df.drop_duplicates(subset=\"lyrics\", keep=False, inplace=True)"
   ]
  },
  {
   "cell_type": "code",
   "execution_count": 18,
   "metadata": {},
   "outputs": [
    {
     "data": {
      "text/plain": [
       "rock    26082\n",
       "pop     17576\n",
       "rap     19969\n",
       "dtype: int64"
      ]
     },
     "execution_count": 18,
     "metadata": {},
     "output_type": "execute_result"
    }
   ],
   "source": [
    "df[genre_labels].sum(axis=0)"
   ]
  },
  {
   "cell_type": "code",
   "execution_count": 19,
   "metadata": {},
   "outputs": [],
   "source": [
    "df.reset_index(inplace=True, drop=True)"
   ]
  },
  {
   "attachments": {},
   "cell_type": "markdown",
   "metadata": {},
   "source": [
    "## Text Cleaning"
   ]
  },
  {
   "cell_type": "code",
   "execution_count": 20,
   "metadata": {},
   "outputs": [
    {
     "data": {
      "text/plain": [
       "\"A man took an ad on T.V.\\nTo enrol in the police academy\\nHe's very talented, outstanding proof\\nFrom his clean-cut apperance to the shine on his boots\\nWhen it comes to graduation, he's number one\\nAn expert with a rifle and also a gun\\nThree weeks on the beat and his weak nerves crack\\nAnd fires four warning shots into a kid's back\\n\\nKILLERS! these are the killers\\nKILLERS! the coldhearted killers\\nKILLERS! bloodthirsty killers\\nKILLERS! beware of the killers\\n\\nA young girl marries an older man\\nWith more money than you can understand\\nHe smouthers her with pearls and jewellery\\nAnd they both seemed as happy as they could be\\nBut three months later, she's sad but content\\nSeems he had an unexpected accident\\nThe girl said he would be hard to forget\\nAs the papers interviewed her while she flew his jet\\n\\nKILLERS! these are the killers\\nKILLERS! she was the killer\\nKILLERS! the coldhearted killers\\nKILLERS! beware of the killers\\n\\nIt's time for all to work together for peace\\n'Cause everybody's doomed if the killings don't cease\\nStreet homicide, war, it's all the same\\n'Cause murder is murder by any name\\n\\nAn young man loses his only job\\nTo proud to hustle, too honest to rob\\nHe goes to tell his family an his wife\\nBut an argument breaks out, she grabs a knife\\nTempers esculate to a total rage\\nShots burst out from a loaded twelve-guage\\nThey call it mass murder, suicide\\nBUT SOMEBODY TELL ME WHY THE KIDS HAD TO DIE\\n\\nKILLERS! these are the killers\\nKILLERS! the coldhearted killers\\nKILLERS! bloodthirsty killers\\nKILLERS! beware of the killers\\n\\nVietnam vet, home from the war\\nCan't get a job in a candy store\\nUnemployment hurts and he's living proof\\nSo to take out his frustration, he climbs on the roof\\nHe shows no pity as victims are shot\\nThe only thing to stop him are the bullets from SWAT\\nTen people died on a sunny day\\nBUT TELL ME WHO TAUGHT HIM HOW TO SHOOT THAT WAY\\n\\nKILLERS! these are the killers\\nKILLERS! you know the killers\\nKILLERS! beware of the killers\\nKILLERS! are you a killer?\\n\\nIt's time for all to work together for peace\\n\\n'Cause everybody's doomed if the killings don't cease\\nStreet homicide, war, it's all the same\\n'Cause murder is murder by any name\\n\\nA known criminal is sentenced to death\\nNow the legal system controls his last breath\\nHe tries to fight execution with petitions and pleas\\nAnd a pardon from the governor is all he needs\\nHe cries out for mercy but nothing's spared\\nAnd on his day of termination, he's strapped in a chair\\nHigh voltage fills his body in a ...... jail\\nAnd all of the people of vengeance grail\\n\\nAre you a killer?\\nA coldhearted killer\\nA KILLER! a bloodthirsty killer\\nA KILLER! a merciless killers\\nA KILLERS! a killer?\\n\\nGeorgie-Porgie-Pudding-and-pie\\nCouldn't get a girl, let me tell you all why\\nHe tried to be down like all the rest\\nHad girls in his hair, gold on his chest\\nHe rolled around town in a coup deville\\nBut he had no money, he was broke as hell\\nLadies love money and he needed more\\nSo he tried to steal something out a liquor store\\nBut before Georgie-Porgie could get away\\nThe man pulled out his gun and blew him away\\n\\nHe was a killer!\\na coldhearted killers\\nA KILLER! are you a killer?\\nA KILLER! a merciless killer\\nA KILLER! beware of the killer\\n\\nIt's time for all to work together for peace\\n'Cause everybody's doomed if the killings don't cease\\nStreet homicide, war, it's all the same\\n'Cause murder is murder by any name\\n\\nPoliticians plan for power each and every day\\nWe are all just puppets in the games they play\\nThey manipulate the message to attain their goals\\nAnd for simple re-election they will sell their souls\\nNuclear supremacy is the ultimate thrill\\nSo our tax we pay is paid for overkill\\n...................... up to the skies\\nWHILE WE ALL PRAY TO GOD THE MISSILES NEVER FLY\\n\\nKILLERS! these are the killers\\nKILLERS! they are the killers\\nKILLERS! are you a killer?\\nKILLERS! don't be a killer\\n\\nIt's time for all to work together for peace\\n'Cause everybody's doomed if the killings don't cease\\nStreet homicide, war, it's all the same\\n'Cause murder is murder by any name\\n\\nKILLERS! (repeat til fade)\""
      ]
     },
     "execution_count": 20,
     "metadata": {},
     "output_type": "execute_result"
    }
   ],
   "source": [
    "rand = random.choice(df['lyrics'])\n",
    "rand"
   ]
  },
  {
   "cell_type": "code",
   "execution_count": 21,
   "metadata": {},
   "outputs": [],
   "source": [
    "def clean_text(lyrics):\n",
    "    lyrics = re.sub(r'\\((.+?)?\\)', '', lyrics)\n",
    "    lyrics = re.sub(r'\\[(.+?)?\\]', '', lyrics)\n",
    "    lyrics = re.sub(r'\\n+', '\\n', lyrics)\n",
    "    return lyrics"
   ]
  },
  {
   "cell_type": "code",
   "execution_count": 22,
   "metadata": {},
   "outputs": [
    {
     "data": {
      "text/plain": [
       "\"A man took an ad on T.V.\\nTo enrol in the police academy\\nHe's very talented, outstanding proof\\nFrom his clean-cut apperance to the shine on his boots\\nWhen it comes to graduation, he's number one\\nAn expert with a rifle and also a gun\\nThree weeks on the beat and his weak nerves crack\\nAnd fires four warning shots into a kid's back\\nKILLERS! these are the killers\\nKILLERS! the coldhearted killers\\nKILLERS! bloodthirsty killers\\nKILLERS! beware of the killers\\nA young girl marries an older man\\nWith more money than you can understand\\nHe smouthers her with pearls and jewellery\\nAnd they both seemed as happy as they could be\\nBut three months later, she's sad but content\\nSeems he had an unexpected accident\\nThe girl said he would be hard to forget\\nAs the papers interviewed her while she flew his jet\\nKILLERS! these are the killers\\nKILLERS! she was the killer\\nKILLERS! the coldhearted killers\\nKILLERS! beware of the killers\\nIt's time for all to work together for peace\\n'Cause everybody's doomed if the killings don't cease\\nStreet homicide, war, it's all the same\\n'Cause murder is murder by any name\\nAn young man loses his only job\\nTo proud to hustle, too honest to rob\\nHe goes to tell his family an his wife\\nBut an argument breaks out, she grabs a knife\\nTempers esculate to a total rage\\nShots burst out from a loaded twelve-guage\\nThey call it mass murder, suicide\\nBUT SOMEBODY TELL ME WHY THE KIDS HAD TO DIE\\nKILLERS! these are the killers\\nKILLERS! the coldhearted killers\\nKILLERS! bloodthirsty killers\\nKILLERS! beware of the killers\\nVietnam vet, home from the war\\nCan't get a job in a candy store\\nUnemployment hurts and he's living proof\\nSo to take out his frustration, he climbs on the roof\\nHe shows no pity as victims are shot\\nThe only thing to stop him are the bullets from SWAT\\nTen people died on a sunny day\\nBUT TELL ME WHO TAUGHT HIM HOW TO SHOOT THAT WAY\\nKILLERS! these are the killers\\nKILLERS! you know the killers\\nKILLERS! beware of the killers\\nKILLERS! are you a killer?\\nIt's time for all to work together for peace\\n'Cause everybody's doomed if the killings don't cease\\nStreet homicide, war, it's all the same\\n'Cause murder is murder by any name\\nA known criminal is sentenced to death\\nNow the legal system controls his last breath\\nHe tries to fight execution with petitions and pleas\\nAnd a pardon from the governor is all he needs\\nHe cries out for mercy but nothing's spared\\nAnd on his day of termination, he's strapped in a chair\\nHigh voltage fills his body in a ...... jail\\nAnd all of the people of vengeance grail\\nAre you a killer?\\nA coldhearted killer\\nA KILLER! a bloodthirsty killer\\nA KILLER! a merciless killers\\nA KILLERS! a killer?\\nGeorgie-Porgie-Pudding-and-pie\\nCouldn't get a girl, let me tell you all why\\nHe tried to be down like all the rest\\nHad girls in his hair, gold on his chest\\nHe rolled around town in a coup deville\\nBut he had no money, he was broke as hell\\nLadies love money and he needed more\\nSo he tried to steal something out a liquor store\\nBut before Georgie-Porgie could get away\\nThe man pulled out his gun and blew him away\\nHe was a killer!\\na coldhearted killers\\nA KILLER! are you a killer?\\nA KILLER! a merciless killer\\nA KILLER! beware of the killer\\nIt's time for all to work together for peace\\n'Cause everybody's doomed if the killings don't cease\\nStreet homicide, war, it's all the same\\n'Cause murder is murder by any name\\nPoliticians plan for power each and every day\\nWe are all just puppets in the games they play\\nThey manipulate the message to attain their goals\\nAnd for simple re-election they will sell their souls\\nNuclear supremacy is the ultimate thrill\\nSo our tax we pay is paid for overkill\\n...................... up to the skies\\nWHILE WE ALL PRAY TO GOD THE MISSILES NEVER FLY\\nKILLERS! these are the killers\\nKILLERS! they are the killers\\nKILLERS! are you a killer?\\nKILLERS! don't be a killer\\nIt's time for all to work together for peace\\n'Cause everybody's doomed if the killings don't cease\\nStreet homicide, war, it's all the same\\n'Cause murder is murder by any name\\nKILLERS! \""
      ]
     },
     "execution_count": 22,
     "metadata": {},
     "output_type": "execute_result"
    }
   ],
   "source": [
    "clean_text(rand)"
   ]
  },
  {
   "cell_type": "code",
   "execution_count": 23,
   "metadata": {},
   "outputs": [
    {
     "name": "stderr",
     "output_type": "stream",
     "text": [
      "100%|██████████| 63627/63627 [00:02<00:00, 28309.46it/s]\n"
     ]
    }
   ],
   "source": [
    "df['lyrics'] = [clean_text(lyrics) for lyrics in tqdm(df['lyrics'])]"
   ]
  },
  {
   "cell_type": "code",
   "execution_count": 24,
   "metadata": {},
   "outputs": [],
   "source": [
    "# Split lyrics in verses consider \\n as sep, filter empty element in list (it's the result of '\\n\\n')\n",
    "df['lyrics'] = list(map(lambda x: [verse for verse in x.split('\\n') if verse], df['lyrics']))"
   ]
  },
  {
   "cell_type": "code",
   "execution_count": 25,
   "metadata": {},
   "outputs": [],
   "source": [
    "# count number of verses\n",
    "df['verses'] = df['lyrics'].apply(len)"
   ]
  },
  {
   "cell_type": "code",
   "execution_count": 26,
   "metadata": {},
   "outputs": [
    {
     "data": {
      "image/png": "[encoded data removed]",
      "text/plain": [
       "<Figure size 1000x800 with 1 Axes>"
      ]
     },
     "metadata": {},
     "output_type": "display_data"
    }
   ],
   "source": [
    "fig, ax = plt.subplots()\n",
    "ax = sns.histplot(data=df, x='verses', bins=50)\n",
    "ax.set_xlabel('Verses')\n",
    "ax.set_ylabel('Lyrics')\n",
    "ax.set_title('Lyrics by number of verses')\n",
    "# There seems to be outliers\n",
    "ax.set_xlim([0, 200])\n",
    "plt.show()"
   ]
  },
  {
   "cell_type": "code",
   "execution_count": 27,
   "metadata": {},
   "outputs": [],
   "source": [
    "# Remove short lyrics\n",
    "df = df[df['verses']>20]\n",
    "# Truncate long lyrics\n",
    "df['lyrics'] = list(map(lambda x: x[:100] if len(x) > 100 else x, df['lyrics']))"
   ]
  },
  {
   "cell_type": "code",
   "execution_count": 28,
   "metadata": {},
   "outputs": [
    {
     "data": {
      "image/png": "[encoded data removed]",
      "text/plain": [
       "<Figure size 1000x800 with 1 Axes>"
      ]
     },
     "metadata": {},
     "output_type": "display_data"
    }
   ],
   "source": [
    "# count number of verses\n",
    "df['verses'] = df['lyrics'].apply(len)\n",
    "# Plot distribution\n",
    "fig, ax = plt.subplots()\n",
    "ax = sns.histplot(data=df, x='verses', bins=20)\n",
    "ax.set_xlabel('Verses')\n",
    "ax.set_ylabel('Lyrics')\n",
    "ax.set_title('Lyrics by number of verses')\n",
    "ax.set_xlim([0, 100])\n",
    "plt.show()"
   ]
  },
  {
   "cell_type": "code",
   "execution_count": 29,
   "metadata": {},
   "outputs": [
    {
     "data": {
      "text/html": [
       "<div>\n",
       "<style scoped>\n",
       "    .dataframe tbody tr th:only-of-type {\n",
       "        vertical-align: middle;\n",
       "    }\n",
       "\n",
       "    .dataframe tbody tr th {\n",
       "        vertical-align: top;\n",
       "    }\n",
       "\n",
       "    .dataframe thead th {\n",
       "        text-align: right;\n",
       "    }\n",
       "</style>\n",
       "<table border=\"1\" class=\"dataframe\">\n",
       "  <thead>\n",
       "    <tr style=\"text-align: right;\">\n",
       "      <th></th>\n",
       "      <th>lyrics</th>\n",
       "      <th>verses</th>\n",
       "      <th>genre</th>\n",
       "    </tr>\n",
       "  </thead>\n",
       "  <tbody>\n",
       "    <tr>\n",
       "      <th>0</th>\n",
       "      <td>[I feel so unsure, As I take your hand and lea...</td>\n",
       "      <td>47</td>\n",
       "      <td>pop</td>\n",
       "    </tr>\n",
       "    <tr>\n",
       "      <th>1</th>\n",
       "      <td>[Don't let them fool, ya, Or even try to schoo...</td>\n",
       "      <td>28</td>\n",
       "      <td>pop</td>\n",
       "    </tr>\n",
       "    <tr>\n",
       "      <th>2</th>\n",
       "      <td>[Baby, let's cruise, away from here, Don't be ...</td>\n",
       "      <td>26</td>\n",
       "      <td>pop</td>\n",
       "    </tr>\n",
       "    <tr>\n",
       "      <th>3</th>\n",
       "      <td>[Know it sounds funny, But, I just can't stand...</td>\n",
       "      <td>31</td>\n",
       "      <td>pop</td>\n",
       "    </tr>\n",
       "    <tr>\n",
       "      <th>4</th>\n",
       "      <td>[You've got that look again, The one I hoped I...</td>\n",
       "      <td>35</td>\n",
       "      <td>pop</td>\n",
       "    </tr>\n",
       "  </tbody>\n",
       "</table>\n",
       "</div>"
      ],
      "text/plain": [
       "                                              lyrics  verses genre\n",
       "0  [I feel so unsure, As I take your hand and lea...      47   pop\n",
       "1  [Don't let them fool, ya, Or even try to schoo...      28   pop\n",
       "2  [Baby, let's cruise, away from here, Don't be ...      26   pop\n",
       "3  [Know it sounds funny, But, I just can't stand...      31   pop\n",
       "4  [You've got that look again, The one I hoped I...      35   pop"
      ]
     },
     "execution_count": 29,
     "metadata": {},
     "output_type": "execute_result"
    }
   ],
   "source": [
    "# Map again dummy variables to labels\n",
    "df['genre'] = df[['rock', 'pop', 'rap']].apply(lambda x: 'rock' if x[0] == 1 else ('pop' if x[1] == 1 else ('rap' if x[2] == 1 else None)), axis=1)\n",
    "\n",
    "# Drop dummy variables\n",
    "df = df.drop(columns=['rock', 'pop', 'rap'])\n",
    "\n",
    "df.head()"
   ]
  },
  {
   "cell_type": "code",
   "execution_count": 30,
   "metadata": {},
   "outputs": [
    {
     "data": {
      "text/plain": [
       "rock    20017\n",
       "rap     19116\n",
       "pop     16119\n",
       "Name: genre, dtype: int64"
      ]
     },
     "execution_count": 30,
     "metadata": {},
     "output_type": "execute_result"
    }
   ],
   "source": [
    "df['genre'].value_counts()"
   ]
  },
  {
   "cell_type": "code",
   "execution_count": 31,
   "metadata": {},
   "outputs": [
    {
     "data": {
      "text/plain": [
       "(55252, 3)"
      ]
     },
     "execution_count": 31,
     "metadata": {},
     "output_type": "execute_result"
    }
   ],
   "source": [
    "df.shape"
   ]
  },
  {
   "attachments": {},
   "cell_type": "markdown",
   "metadata": {},
   "source": [
    "## Sampling"
   ]
  },
  {
   "cell_type": "code",
   "execution_count": 32,
   "metadata": {},
   "outputs": [],
   "source": [
    "# Create samples taking 100 lyrics by genre\n",
    "genre_sample100 = [df[df['genre'] == genre_label].sample(n=50, weights='verses') for genre_label in genre_labels]\n",
    "\n",
    "df_eval = pd.concat(genre_sample100).drop(columns=['verses']).reset_index()\n",
    "\n",
    "df_eval.to_csv('../data/lyrics_evaluation.csv', index=False)"
   ]
  },
  {
   "cell_type": "code",
   "execution_count": 33,
   "metadata": {},
   "outputs": [],
   "source": [
    "df.drop(columns=['verses'], inplace=True)\n",
    "# Save df\n",
    "df.to_csv('../data/lyrics.csv', index=False)"
   ]
  },
  {
   "attachments": {},
   "cell_type": "markdown",
   "metadata": {},
   "source": [
    "## Evaluation Dataset Preparation"
   ]
  },
  {
   "cell_type": "code",
   "execution_count": 34,
   "metadata": {},
   "outputs": [
    {
     "name": "stderr",
     "output_type": "stream",
     "text": [
      "2023-01-04 22:20:27.906965: W tensorflow/stream_executor/platform/default/dso_loader.cc:64] Could not load dynamic library 'libcuda.so.1'; dlerror: libcuda.so.1: cannot open shared object file: No such file or directory\n",
      "2023-01-04 22:20:27.906994: W tensorflow/stream_executor/cuda/cuda_driver.cc:269] failed call to cuInit: UNKNOWN ERROR (303)\n",
      "2023-01-04 22:20:27.907017: I tensorflow/stream_executor/cuda/cuda_diagnostics.cc:156] kernel driver does not appear to be running on this host (mattiapggioli-ThinkPad-E595): /proc/driver/nvidia/version does not exist\n"
     ]
    }
   ],
   "source": [
    "import pandas as pd\n",
    "import numpy as np\n",
    "import random\n",
    "import ast\n",
    "from tqdm import tqdm\n",
    "from textattack.augmentation import EmbeddingAugmenter\n",
    "from faker import Faker\n",
    "from sklearn.model_selection import train_test_split"
   ]
  },
  {
   "cell_type": "code",
   "execution_count": 35,
   "metadata": {},
   "outputs": [],
   "source": [
    "df = pd.read_csv('../data/lyrics_evaluation.csv')"
   ]
  },
  {
   "cell_type": "code",
   "execution_count": 36,
   "metadata": {},
   "outputs": [
    {
     "data": {
      "text/html": [
       "<div>\n",
       "<style scoped>\n",
       "    .dataframe tbody tr th:only-of-type {\n",
       "        vertical-align: middle;\n",
       "    }\n",
       "\n",
       "    .dataframe tbody tr th {\n",
       "        vertical-align: top;\n",
       "    }\n",
       "\n",
       "    .dataframe thead th {\n",
       "        text-align: right;\n",
       "    }\n",
       "</style>\n",
       "<table border=\"1\" class=\"dataframe\">\n",
       "  <thead>\n",
       "    <tr style=\"text-align: right;\">\n",
       "      <th></th>\n",
       "      <th>index</th>\n",
       "      <th>lyrics</th>\n",
       "      <th>genre</th>\n",
       "    </tr>\n",
       "  </thead>\n",
       "  <tbody>\n",
       "    <tr>\n",
       "      <th>0</th>\n",
       "      <td>58782</td>\n",
       "      <td>[\"We can't decide if we are fallen\", 'Because ...</td>\n",
       "      <td>rock</td>\n",
       "    </tr>\n",
       "    <tr>\n",
       "      <th>1</th>\n",
       "      <td>8610</td>\n",
       "      <td>['I tried to talk her into it', 'And I tried.....</td>\n",
       "      <td>rock</td>\n",
       "    </tr>\n",
       "    <tr>\n",
       "      <th>2</th>\n",
       "      <td>62414</td>\n",
       "      <td>['They came across, on 1 FM', 'Two unattractiv...</td>\n",
       "      <td>rock</td>\n",
       "    </tr>\n",
       "    <tr>\n",
       "      <th>3</th>\n",
       "      <td>20879</td>\n",
       "      <td>[\"Well my baby's gone, so's summer\", 'And it b...</td>\n",
       "      <td>rock</td>\n",
       "    </tr>\n",
       "    <tr>\n",
       "      <th>4</th>\n",
       "      <td>56928</td>\n",
       "      <td>['Do do do do', 'Do do do do', 'Do do do do', ...</td>\n",
       "      <td>rock</td>\n",
       "    </tr>\n",
       "  </tbody>\n",
       "</table>\n",
       "</div>"
      ],
      "text/plain": [
       "   index                                             lyrics genre\n",
       "0  58782  [\"We can't decide if we are fallen\", 'Because ...  rock\n",
       "1   8610  ['I tried to talk her into it', 'And I tried.....  rock\n",
       "2  62414  ['They came across, on 1 FM', 'Two unattractiv...  rock\n",
       "3  20879  [\"Well my baby's gone, so's summer\", 'And it b...  rock\n",
       "4  56928  ['Do do do do', 'Do do do do', 'Do do do do', ...  rock"
      ]
     },
     "execution_count": 36,
     "metadata": {},
     "output_type": "execute_result"
    }
   ],
   "source": [
    "df.head()"
   ]
  },
  {
   "cell_type": "code",
   "execution_count": 37,
   "metadata": {},
   "outputs": [
    {
     "name": "stdout",
     "output_type": "stream",
     "text": [
      "<class 'pandas.core.frame.DataFrame'>\n",
      "RangeIndex: 150 entries, 0 to 149\n",
      "Data columns (total 3 columns):\n",
      " #   Column  Non-Null Count  Dtype \n",
      "---  ------  --------------  ----- \n",
      " 0   index   150 non-null    int64 \n",
      " 1   lyrics  150 non-null    object\n",
      " 2   genre   150 non-null    object\n",
      "dtypes: int64(1), object(2)\n",
      "memory usage: 3.6+ KB\n"
     ]
    }
   ],
   "source": [
    "df.info()"
   ]
  },
  {
   "cell_type": "code",
   "execution_count": 38,
   "metadata": {},
   "outputs": [],
   "source": [
    "df['lyrics'] = list(map(lambda x: ast.literal_eval(x), df['lyrics']))"
   ]
  },
  {
   "cell_type": "code",
   "execution_count": 39,
   "metadata": {},
   "outputs": [],
   "source": [
    "emb_augmenter = EmbeddingAugmenter(pct_words_to_swap=0.5, transformations_per_example=1)"
   ]
  },
  {
   "cell_type": "code",
   "execution_count": 40,
   "metadata": {},
   "outputs": [],
   "source": [
    "def perturbate_lyrics(lyrics):    \n",
    "    emb_augmenter = EmbeddingAugmenter(pct_words_to_swap=0.5, transformations_per_example=1)\n",
    "    fake = Faker()\n",
    "    perturbated_lyrics = []\n",
    "    for verse in lyrics:\n",
    "        x = random.randint(1, 3)\n",
    "        if x == 1:\n",
    "            # Replace verse with the augmented one using EmbeddingAugmenter\n",
    "            perturbated_lyrics.append(emb_augmenter.augment(verse)[0])\n",
    "        elif x == 2:\n",
    "            # Replace verse with a random one from the lyrics and apply augmentation\n",
    "            perturbated_lyrics.append(emb_augmenter.augment(random.choice(lyrics))[0])\n",
    "        else:\n",
    "            # Replace verse with a random sentence\n",
    "            perturbated_lyrics.append(fake.sentence())\n",
    "    return perturbated_lyrics"
   ]
  },
  {
   "cell_type": "code",
   "execution_count": 41,
   "metadata": {},
   "outputs": [
    {
     "name": "stdout",
     "output_type": "stream",
     "text": [
      "Original lyrics:\n",
      "['This train is coming back again', 'Extravaganza, you should run and tell a friend', 'Kings and queens are posted at the bar', \"Buckin' down, it's time to take it all\", 'Walk that walk ', 'Show me how you move it and you', 'Walk that talk ', \"Let's just snap in to it\", \"It's your chance now\", 'Girl you better dance now', \"It's your time to show it all\", 'The spotlight is on you, you better...', 'Work work work work', 'Work work work work', 'Work work work work', 'Work work...Bitch you better work!', 'Work work work work', 'Work work work work', 'Work work work work', 'Work work...Bitch you better work!']\n",
      "\n",
      "Augmented lyrics:\n",
      "[['This forming is arrival back again'], ['Extravaganza, you should execute and told a amie'], ['Kings and faggots are positioned at the solicitor'], [\"Buckin' down, it's period to taking it all\"], ['Walk that stroll '], ['Exhibited me how you budge it and you'], ['Walk that discussions '], [\"Let's just snapshot in to it\"], [\"It's your chances now\"], ['Woman you optimum dance now'], [\"It's your times to exhibition it all\"], ['The focus is on you, you improved...'], ['Working work work collaborate'], ['Cooperated jobs work work'], ['Work cooperates worked work'], ['Collaborated jobs...Bitch you better cooperates!'], ['Works cooperation work work'], ['Collaboration work cooperated work'], ['Work cooperate collaborating work'], ['Collaborated collaborate...Bitch you best work!']]\n",
      "\n",
      "Perturbated lyrics:\n",
      "['Work collaboration worked work', 'Jobs cooperated...Motherfucker you better work!', 'Cooperate cooperates...Bastard you better work!', 'Leaps in, leap out', 'Ours get the rhythm of the overpowering', 'Dame you nicer dance now', 'Work work working cooperate', 'Obtain buck, obtains buck', 'This forming is come back again', \"Und make it jiggling, jiggling, jiggle, yeh ain't know\", 'Each reach some draw quality amount campaign.', 'The limelight is on you, you optimum...', 'Campaign first small ahead away similar.', 'Collaborated cooperate work work', 'Human paper success wonder if so.', 'Doyou ought tremble that thang fond a donkey', 'Worry must Mr perhaps.', 'Imagine everybody within walk standard culture short.', \"It's your luck now\", 'Working collaborate...Bitch you better cooperate!']\n"
     ]
    }
   ],
   "source": [
    "eg_lyrics = random.choice(df['lyrics'])\n",
    "\n",
    "eg_aug_lyrics = emb_augmenter.augment_many(eg_lyrics)\n",
    "eg_pert_lyrics = perturbate_lyrics(eg_lyrics)\n",
    "\n",
    "print('Original lyrics:')\n",
    "print(eg_lyrics[:20])\n",
    "print()\n",
    "print('Augmented lyrics:')\n",
    "print(eg_aug_lyrics[:20])\n",
    "print()\n",
    "print('Perturbated lyrics:')\n",
    "print(eg_pert_lyrics[:20])  "
   ]
  },
  {
   "cell_type": "code",
   "execution_count": 42,
   "metadata": {},
   "outputs": [],
   "source": [
    "df1, df2 = train_test_split(df, test_size=0.5, shuffle=True, stratify=df[['genre']])"
   ]
  },
  {
   "cell_type": "code",
   "execution_count": 43,
   "metadata": {},
   "outputs": [
    {
     "name": "stderr",
     "output_type": "stream",
     "text": [
      "100%|██████████| 75/75 [03:35<00:00,  2.88s/it]\n"
     ]
    }
   ],
   "source": [
    "get_unique_element = lambda x: [one_element_list[0] for one_element_list in x]\n",
    "\n",
    "df1['comparison_lyrics'] = [get_unique_element(emb_augmenter.augment_many(lyrics)) \n",
    "    for lyrics in tqdm(df1['lyrics'])]\n",
    "\n",
    "df1['similar'] = 1"
   ]
  },
  {
   "cell_type": "code",
   "execution_count": 44,
   "metadata": {},
   "outputs": [
    {
     "name": "stderr",
     "output_type": "stream",
     "text": [
      "100%|██████████| 75/75 [02:20<00:00,  1.87s/it]\n"
     ]
    }
   ],
   "source": [
    "df2['comparison_lyrics'] = [perturbate_lyrics(lyrics)\n",
    "    for lyrics in tqdm(df2['lyrics'])]\n",
    "\n",
    "df2['similar'] = 0"
   ]
  },
  {
   "cell_type": "code",
   "execution_count": 45,
   "metadata": {},
   "outputs": [],
   "source": [
    "df = pd.concat([df1, df2])"
   ]
  },
  {
   "cell_type": "code",
   "execution_count": 46,
   "metadata": {},
   "outputs": [
    {
     "name": "stdout",
     "output_type": "stream",
     "text": [
      "<class 'pandas.core.frame.DataFrame'>\n",
      "Int64Index: 150 entries, 142 to 94\n",
      "Data columns (total 5 columns):\n",
      " #   Column             Non-Null Count  Dtype \n",
      "---  ------             --------------  ----- \n",
      " 0   index              150 non-null    int64 \n",
      " 1   lyrics             150 non-null    object\n",
      " 2   genre              150 non-null    object\n",
      " 3   comparison_lyrics  150 non-null    object\n",
      " 4   similar            150 non-null    int64 \n",
      "dtypes: int64(2), object(3)\n",
      "memory usage: 7.0+ KB\n"
     ]
    }
   ],
   "source": [
    "df.info()"
   ]
  },
  {
   "cell_type": "code",
   "execution_count": 47,
   "metadata": {},
   "outputs": [],
   "source": [
    "df.to_csv('../data/lyrics_evaluation.csv', index=False)"
   ]
  },
  {
   "cell_type": "code",
   "execution_count": null,
   "metadata": {},
   "outputs": [],
   "source": []
  }
 ],
 "metadata": {
  "kernelspec": {
   "display_name": ".venv",
   "language": "python",
   "name": "python3"
  },
  "language_info": {
   "codemirror_mode": {
    "name": "ipython",
    "version": 3
   },
   "file_extension": ".py",
   "mimetype": "text/x-python",
   "name": "python",
   "nbconvert_exporter": "python",
   "pygments_lexer": "ipython3",
   "version": "3.9.16"
  },
  "orig_nbformat": 4,
  "vscode": {
   "interpreter": {
    "hash": "eb8d1ded7c87c6f9c253b40add648304d6b51d2e38393955e855effc7e6f899a"
   }
  }
 },
 "nbformat": 4,
 "nbformat_minor": 2
}
