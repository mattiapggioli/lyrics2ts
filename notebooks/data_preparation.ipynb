{
 "cells": [
  {
   "cell_type": "markdown",
   "metadata": {},
   "source": [
    "# Data Preparation"
   ]
  },
  {
   "cell_type": "code",
   "execution_count": 1,
   "metadata": {},
   "outputs": [],
   "source": [
    "import pandas as pd\n",
    "import numpy as np\n",
    "from matplotlib import pyplot as plt\n",
    "import seaborn as sns\n",
    "from tqdm import tqdm\n",
    "from sklearn.preprocessing import MultiLabelBinarizer\n",
    "from itertools import combinations\n",
    "import random\n",
    "import re\n",
    "from sklearn.model_selection import train_test_split"
   ]
  },
  {
   "cell_type": "code",
   "execution_count": 2,
   "metadata": {},
   "outputs": [
    {
     "data": {
      "text/html": [
       "<div>\n",
       "<style scoped>\n",
       "    .dataframe tbody tr th:only-of-type {\n",
       "        vertical-align: middle;\n",
       "    }\n",
       "\n",
       "    .dataframe tbody tr th {\n",
       "        vertical-align: top;\n",
       "    }\n",
       "\n",
       "    .dataframe thead th {\n",
       "        text-align: right;\n",
       "    }\n",
       "</style>\n",
       "<table border=\"1\" class=\"dataframe\">\n",
       "  <thead>\n",
       "    <tr style=\"text-align: right;\">\n",
       "      <th></th>\n",
       "      <th>ALink</th>\n",
       "      <th>SName</th>\n",
       "      <th>SLink</th>\n",
       "      <th>Lyric</th>\n",
       "      <th>language</th>\n",
       "    </tr>\n",
       "  </thead>\n",
       "  <tbody>\n",
       "    <tr>\n",
       "      <th>0</th>\n",
       "      <td>/ivete-sangalo/</td>\n",
       "      <td>Arerê</td>\n",
       "      <td>/ivete-sangalo/arere.html</td>\n",
       "      <td>Tudo o que eu quero nessa vida,\\nToda vida, é\\...</td>\n",
       "      <td>pt</td>\n",
       "    </tr>\n",
       "    <tr>\n",
       "      <th>1</th>\n",
       "      <td>/ivete-sangalo/</td>\n",
       "      <td>Se Eu Não Te Amasse Tanto Assim</td>\n",
       "      <td>/ivete-sangalo/se-eu-nao-te-amasse-tanto-assim...</td>\n",
       "      <td>Meu coração\\nSem direção\\nVoando só por voar\\n...</td>\n",
       "      <td>pt</td>\n",
       "    </tr>\n",
       "    <tr>\n",
       "      <th>2</th>\n",
       "      <td>/ivete-sangalo/</td>\n",
       "      <td>Céu da Boca</td>\n",
       "      <td>/ivete-sangalo/chupa-toda.html</td>\n",
       "      <td>É de babaixá!\\nÉ de balacubaca!\\nÉ de babaixá!...</td>\n",
       "      <td>pt</td>\n",
       "    </tr>\n",
       "    <tr>\n",
       "      <th>3</th>\n",
       "      <td>/ivete-sangalo/</td>\n",
       "      <td>Quando A Chuva Passar</td>\n",
       "      <td>/ivete-sangalo/quando-a-chuva-passar.html</td>\n",
       "      <td>Quando a chuva passar\\n\\nPra quê falar\\nSe voc...</td>\n",
       "      <td>pt</td>\n",
       "    </tr>\n",
       "    <tr>\n",
       "      <th>4</th>\n",
       "      <td>/ivete-sangalo/</td>\n",
       "      <td>Sorte Grande</td>\n",
       "      <td>/ivete-sangalo/sorte-grande.html</td>\n",
       "      <td>A minha sorte grande foi você cair do céu\\nMin...</td>\n",
       "      <td>pt</td>\n",
       "    </tr>\n",
       "  </tbody>\n",
       "</table>\n",
       "</div>"
      ],
      "text/plain": [
       "             ALink                            SName  \\\n",
       "0  /ivete-sangalo/                            Arerê   \n",
       "1  /ivete-sangalo/  Se Eu Não Te Amasse Tanto Assim   \n",
       "2  /ivete-sangalo/                      Céu da Boca   \n",
       "3  /ivete-sangalo/            Quando A Chuva Passar   \n",
       "4  /ivete-sangalo/                     Sorte Grande   \n",
       "\n",
       "                                               SLink  \\\n",
       "0                          /ivete-sangalo/arere.html   \n",
       "1  /ivete-sangalo/se-eu-nao-te-amasse-tanto-assim...   \n",
       "2                     /ivete-sangalo/chupa-toda.html   \n",
       "3          /ivete-sangalo/quando-a-chuva-passar.html   \n",
       "4                   /ivete-sangalo/sorte-grande.html   \n",
       "\n",
       "                                               Lyric language  \n",
       "0  Tudo o que eu quero nessa vida,\\nToda vida, é\\...       pt  \n",
       "1  Meu coração\\nSem direção\\nVoando só por voar\\n...       pt  \n",
       "2  É de babaixá!\\nÉ de balacubaca!\\nÉ de babaixá!...       pt  \n",
       "3  Quando a chuva passar\\n\\nPra quê falar\\nSe voc...       pt  \n",
       "4  A minha sorte grande foi você cair do céu\\nMin...       pt  "
      ]
     },
     "execution_count": 2,
     "metadata": {},
     "output_type": "execute_result"
    }
   ],
   "source": [
    "df = pd.read_csv('../data/raw-data/lyrics-data.csv')\n",
    "df.head()"
   ]
  },
  {
   "cell_type": "code",
   "execution_count": 3,
   "metadata": {},
   "outputs": [
    {
     "data": {
      "text/html": [
       "<div>\n",
       "<style scoped>\n",
       "    .dataframe tbody tr th:only-of-type {\n",
       "        vertical-align: middle;\n",
       "    }\n",
       "\n",
       "    .dataframe tbody tr th {\n",
       "        vertical-align: top;\n",
       "    }\n",
       "\n",
       "    .dataframe thead th {\n",
       "        text-align: right;\n",
       "    }\n",
       "</style>\n",
       "<table border=\"1\" class=\"dataframe\">\n",
       "  <thead>\n",
       "    <tr style=\"text-align: right;\">\n",
       "      <th></th>\n",
       "      <th>Artist</th>\n",
       "      <th>Genres</th>\n",
       "      <th>Songs</th>\n",
       "      <th>Popularity</th>\n",
       "      <th>Link</th>\n",
       "    </tr>\n",
       "  </thead>\n",
       "  <tbody>\n",
       "    <tr>\n",
       "      <th>0</th>\n",
       "      <td>Ivete Sangalo</td>\n",
       "      <td>Pop; Axé; Romântico</td>\n",
       "      <td>313.0</td>\n",
       "      <td>4.4</td>\n",
       "      <td>/ivete-sangalo/</td>\n",
       "    </tr>\n",
       "    <tr>\n",
       "      <th>1</th>\n",
       "      <td>Chiclete com Banana</td>\n",
       "      <td>Axé</td>\n",
       "      <td>268.0</td>\n",
       "      <td>3.8</td>\n",
       "      <td>/chiclete-com-banana/</td>\n",
       "    </tr>\n",
       "    <tr>\n",
       "      <th>2</th>\n",
       "      <td>Banda Eva</td>\n",
       "      <td>Axé; Romântico; Reggae</td>\n",
       "      <td>215.0</td>\n",
       "      <td>2.3</td>\n",
       "      <td>/banda-eva/</td>\n",
       "    </tr>\n",
       "    <tr>\n",
       "      <th>3</th>\n",
       "      <td>É O Tchan</td>\n",
       "      <td>Axé</td>\n",
       "      <td>129.0</td>\n",
       "      <td>1.6</td>\n",
       "      <td>/e-o-tchan/</td>\n",
       "    </tr>\n",
       "    <tr>\n",
       "      <th>4</th>\n",
       "      <td>Claudia Leitte</td>\n",
       "      <td>Pop; Axé; Romântico</td>\n",
       "      <td>167.0</td>\n",
       "      <td>1.5</td>\n",
       "      <td>/claudia-leitte/</td>\n",
       "    </tr>\n",
       "  </tbody>\n",
       "</table>\n",
       "</div>"
      ],
      "text/plain": [
       "                Artist                  Genres  Songs  Popularity  \\\n",
       "0        Ivete Sangalo     Pop; Axé; Romântico  313.0         4.4   \n",
       "1  Chiclete com Banana                     Axé  268.0         3.8   \n",
       "2            Banda Eva  Axé; Romântico; Reggae  215.0         2.3   \n",
       "3            É O Tchan                     Axé  129.0         1.6   \n",
       "4       Claudia Leitte     Pop; Axé; Romântico  167.0         1.5   \n",
       "\n",
       "                    Link  \n",
       "0        /ivete-sangalo/  \n",
       "1  /chiclete-com-banana/  \n",
       "2            /banda-eva/  \n",
       "3            /e-o-tchan/  \n",
       "4       /claudia-leitte/  "
      ]
     },
     "execution_count": 3,
     "metadata": {},
     "output_type": "execute_result"
    }
   ],
   "source": [
    "df_art = pd.read_csv('../data/raw-data/artists-data.csv')\n",
    "df_art.head()"
   ]
  },
  {
   "cell_type": "code",
   "execution_count": 4,
   "metadata": {},
   "outputs": [],
   "source": [
    "df = df[df['language']=='en'].reset_index(drop=True)"
   ]
  },
  {
   "attachments": {},
   "cell_type": "markdown",
   "metadata": {},
   "source": [
    "## Genre"
   ]
  },
  {
   "cell_type": "code",
   "execution_count": 5,
   "metadata": {},
   "outputs": [
    {
     "name": "stderr",
     "output_type": "stream",
     "text": [
      "100%|██████████| 191814/191814 [02:45<00:00, 1159.12it/s]\n"
     ]
    }
   ],
   "source": [
    "genres = []\n",
    "for artist_id in tqdm(df['ALink']):    \n",
    "    artist_row = df_art[df_art['Link']==artist_id].reset_index()\n",
    "    try:\n",
    "        genres_in_artist = artist_row['Genres'][0].split('; ')        \n",
    "    except:\n",
    "        genres_in_artist = []\n",
    "    genres.append(genres_in_artist)"
   ]
  },
  {
   "cell_type": "code",
   "execution_count": 6,
   "metadata": {},
   "outputs": [],
   "source": [
    "df.drop(columns = ['ALink', 'SName', 'SLink', 'language'], inplace=True)\n",
    "df.rename(columns={'Lyric': 'lyrics'}, inplace=True)"
   ]
  },
  {
   "cell_type": "code",
   "execution_count": 7,
   "metadata": {},
   "outputs": [
    {
     "data": {
      "text/html": [
       "<div>\n",
       "<style scoped>\n",
       "    .dataframe tbody tr th:only-of-type {\n",
       "        vertical-align: middle;\n",
       "    }\n",
       "\n",
       "    .dataframe tbody tr th {\n",
       "        vertical-align: top;\n",
       "    }\n",
       "\n",
       "    .dataframe thead th {\n",
       "        text-align: right;\n",
       "    }\n",
       "</style>\n",
       "<table border=\"1\" class=\"dataframe\">\n",
       "  <thead>\n",
       "    <tr style=\"text-align: right;\">\n",
       "      <th></th>\n",
       "      <th>Axé</th>\n",
       "      <th>Black Music</th>\n",
       "      <th>Blues</th>\n",
       "      <th>Bossa Nova</th>\n",
       "      <th>COLETÂNEA</th>\n",
       "      <th>Chillout</th>\n",
       "      <th>Classic Rock</th>\n",
       "      <th>Clássico</th>\n",
       "      <th>Country</th>\n",
       "      <th>Dance</th>\n",
       "      <th>...</th>\n",
       "      <th>Soul Music</th>\n",
       "      <th>Surf Music</th>\n",
       "      <th>Tecnopop</th>\n",
       "      <th>Trance</th>\n",
       "      <th>Trap</th>\n",
       "      <th>Trilha Sonora</th>\n",
       "      <th>Trip-Hop</th>\n",
       "      <th>Tropical House</th>\n",
       "      <th>Velha Guarda</th>\n",
       "      <th>World Music</th>\n",
       "    </tr>\n",
       "  </thead>\n",
       "  <tbody>\n",
       "    <tr>\n",
       "      <th>0</th>\n",
       "      <td>1</td>\n",
       "      <td>0</td>\n",
       "      <td>0</td>\n",
       "      <td>0</td>\n",
       "      <td>0</td>\n",
       "      <td>0</td>\n",
       "      <td>0</td>\n",
       "      <td>0</td>\n",
       "      <td>0</td>\n",
       "      <td>0</td>\n",
       "      <td>...</td>\n",
       "      <td>0</td>\n",
       "      <td>0</td>\n",
       "      <td>0</td>\n",
       "      <td>0</td>\n",
       "      <td>0</td>\n",
       "      <td>0</td>\n",
       "      <td>0</td>\n",
       "      <td>0</td>\n",
       "      <td>0</td>\n",
       "      <td>0</td>\n",
       "    </tr>\n",
       "    <tr>\n",
       "      <th>1</th>\n",
       "      <td>1</td>\n",
       "      <td>0</td>\n",
       "      <td>0</td>\n",
       "      <td>0</td>\n",
       "      <td>0</td>\n",
       "      <td>0</td>\n",
       "      <td>0</td>\n",
       "      <td>0</td>\n",
       "      <td>0</td>\n",
       "      <td>0</td>\n",
       "      <td>...</td>\n",
       "      <td>0</td>\n",
       "      <td>0</td>\n",
       "      <td>0</td>\n",
       "      <td>0</td>\n",
       "      <td>0</td>\n",
       "      <td>0</td>\n",
       "      <td>0</td>\n",
       "      <td>0</td>\n",
       "      <td>0</td>\n",
       "      <td>0</td>\n",
       "    </tr>\n",
       "    <tr>\n",
       "      <th>2</th>\n",
       "      <td>1</td>\n",
       "      <td>0</td>\n",
       "      <td>0</td>\n",
       "      <td>0</td>\n",
       "      <td>0</td>\n",
       "      <td>0</td>\n",
       "      <td>0</td>\n",
       "      <td>0</td>\n",
       "      <td>0</td>\n",
       "      <td>0</td>\n",
       "      <td>...</td>\n",
       "      <td>0</td>\n",
       "      <td>0</td>\n",
       "      <td>0</td>\n",
       "      <td>0</td>\n",
       "      <td>0</td>\n",
       "      <td>0</td>\n",
       "      <td>0</td>\n",
       "      <td>0</td>\n",
       "      <td>0</td>\n",
       "      <td>0</td>\n",
       "    </tr>\n",
       "    <tr>\n",
       "      <th>3</th>\n",
       "      <td>1</td>\n",
       "      <td>0</td>\n",
       "      <td>0</td>\n",
       "      <td>0</td>\n",
       "      <td>0</td>\n",
       "      <td>0</td>\n",
       "      <td>0</td>\n",
       "      <td>0</td>\n",
       "      <td>0</td>\n",
       "      <td>0</td>\n",
       "      <td>...</td>\n",
       "      <td>0</td>\n",
       "      <td>0</td>\n",
       "      <td>0</td>\n",
       "      <td>0</td>\n",
       "      <td>0</td>\n",
       "      <td>0</td>\n",
       "      <td>0</td>\n",
       "      <td>0</td>\n",
       "      <td>0</td>\n",
       "      <td>0</td>\n",
       "    </tr>\n",
       "    <tr>\n",
       "      <th>4</th>\n",
       "      <td>1</td>\n",
       "      <td>0</td>\n",
       "      <td>0</td>\n",
       "      <td>0</td>\n",
       "      <td>0</td>\n",
       "      <td>0</td>\n",
       "      <td>0</td>\n",
       "      <td>0</td>\n",
       "      <td>0</td>\n",
       "      <td>0</td>\n",
       "      <td>...</td>\n",
       "      <td>0</td>\n",
       "      <td>0</td>\n",
       "      <td>0</td>\n",
       "      <td>0</td>\n",
       "      <td>0</td>\n",
       "      <td>0</td>\n",
       "      <td>0</td>\n",
       "      <td>0</td>\n",
       "      <td>0</td>\n",
       "      <td>0</td>\n",
       "    </tr>\n",
       "  </tbody>\n",
       "</table>\n",
       "<p>5 rows × 75 columns</p>\n",
       "</div>"
      ],
      "text/plain": [
       "   Axé  Black Music  Blues  Bossa Nova  COLETÂNEA  Chillout  Classic Rock  \\\n",
       "0    1            0      0           0          0         0             0   \n",
       "1    1            0      0           0          0         0             0   \n",
       "2    1            0      0           0          0         0             0   \n",
       "3    1            0      0           0          0         0             0   \n",
       "4    1            0      0           0          0         0             0   \n",
       "\n",
       "   Clássico  Country  Dance  ...  Soul Music  Surf Music  Tecnopop  Trance  \\\n",
       "0         0        0      0  ...           0           0         0       0   \n",
       "1         0        0      0  ...           0           0         0       0   \n",
       "2         0        0      0  ...           0           0         0       0   \n",
       "3         0        0      0  ...           0           0         0       0   \n",
       "4         0        0      0  ...           0           0         0       0   \n",
       "\n",
       "   Trap  Trilha Sonora  Trip-Hop  Tropical House  Velha Guarda  World Music  \n",
       "0     0              0         0               0             0            0  \n",
       "1     0              0         0               0             0            0  \n",
       "2     0              0         0               0             0            0  \n",
       "3     0              0         0               0             0            0  \n",
       "4     0              0         0               0             0            0  \n",
       "\n",
       "[5 rows x 75 columns]"
      ]
     },
     "execution_count": 7,
     "metadata": {},
     "output_type": "execute_result"
    }
   ],
   "source": [
    "genres = pd.Series(genres)\n",
    "# Convert nested list into one-hot-encoding\n",
    "mlb = MultiLabelBinarizer()\n",
    "genres_one_hot = pd.DataFrame(mlb.fit_transform(genres),\n",
    "                    columns=mlb.classes_,\n",
    "                    index=genres.index)\n",
    "genres_one_hot.head()"
   ]
  },
  {
   "cell_type": "code",
   "execution_count": 8,
   "metadata": {},
   "outputs": [
    {
     "data": {
      "text/plain": [
       "Rock           63717\n",
       "Pop            33571\n",
       "Pop/Rock       26360\n",
       "Heavy Metal    21759\n",
       "Hip Hop        20902\n",
       "Indie          20134\n",
       "Romântico      17947\n",
       "Hard Rock      17250\n",
       "Rap            17114\n",
       "R&B            15581\n",
       "dtype: int64"
      ]
     },
     "execution_count": 8,
     "metadata": {},
     "output_type": "execute_result"
    }
   ],
   "source": [
    "genres_one_hot.sum().sort_values(ascending=False)[:10]"
   ]
  },
  {
   "cell_type": "code",
   "execution_count": 9,
   "metadata": {},
   "outputs": [],
   "source": [
    "# Keep only the 8 most frequent genres (some of them will also be merged)\n",
    "genres2keep = genres_one_hot.sum().sort_values(ascending=False)[:9].keys()\n",
    "\n",
    "# Format labels\n",
    "format_label = lambda s: s.lower().replace(' ', '-').replace('/', '-')\n",
    "\n",
    "genres_one_hot = genres_one_hot[genres2keep]\n",
    "genres_one_hot.rename(columns = dict([(\n",
    "    genre_label, format_label(genre_label)) \n",
    "    for genre_label in genres_one_hot.keys()]), inplace=True)"
   ]
  },
  {
   "cell_type": "code",
   "execution_count": 10,
   "metadata": {},
   "outputs": [],
   "source": [
    "df = pd.concat([df, genres_one_hot], axis=1)"
   ]
  },
  {
   "cell_type": "code",
   "execution_count": 11,
   "metadata": {},
   "outputs": [],
   "source": [
    "genre_labels = [label for label in df.keys() if label != 'lyrics']\n",
    "\n",
    "# Remove lyrics that do not fit into the main genres\n",
    "df.drop(df[df[genre_labels].sum(axis=1) == 0].index, inplace=True)"
   ]
  },
  {
   "cell_type": "code",
   "execution_count": 12,
   "metadata": {},
   "outputs": [
    {
     "data": {
      "text/plain": [
       "[(('hip-hop', 'rap'), 0.5317297231959386),\n",
       " (('heavy-metal', 'hard-rock'), 0.29537756525204223),\n",
       " (('rock', 'hard-rock'), 0.2094735898661568),\n",
       " (('pop', 'pop-rock'), 0.20258854218922445),\n",
       " (('rock', 'heavy-metal'), 0.15670672296200064),\n",
       " (('pop', 'romântico'), 0.13970311704975333),\n",
       " (('rock', 'pop-rock'), 0.13782431852057703),\n",
       " (('pop-rock', 'romântico'), 0.10936678434612784),\n",
       " (('rock', 'indie'), 0.10295433021151215),\n",
       " (('pop', 'hip-hop'), 0.058550330353672755),\n",
       " (('rock', 'romântico'), 0.0391540585593037),\n",
       " (('pop-rock', 'indie'), 0.03575486199291586),\n",
       " (('pop', 'rap'), 0.03301742586365026),\n",
       " (('pop', 'indie'), 0.02956118321415563),\n",
       " (('rock', 'pop'), 0.029502645502645503),\n",
       " (('indie', 'romântico'), 0.029299672946455118),\n",
       " (('pop-rock', 'hard-rock'), 0.012772875058058523),\n",
       " (('rock', 'hip-hop'), 0.007644950403086559),\n",
       " (('indie', 'hard-rock'), 0.007030681787571048),\n",
       " (('romântico', 'hard-rock'), 0.005513655582219175)]"
      ]
     },
     "execution_count": 12,
     "metadata": {},
     "output_type": "execute_result"
    }
   ],
   "source": [
    "jaccard_similarity = lambda x, y: np.logical_and(x, y).sum() / np.logical_or(x, y).sum()\n",
    "\n",
    "genre_pairs = list(combinations(genre_labels, 2))\n",
    "\n",
    "genre_similarities = [jaccard_similarity(df[genre_pair[0]], df[genre_pair[1]]) \n",
    "    for genre_pair in genre_pairs]\n",
    "\n",
    "sorted(list(zip(genre_pairs, genre_similarities)),\n",
    "    reverse=True, key=lambda x: x[1])[:20]"
   ]
  },
  {
   "cell_type": "code",
   "execution_count": 13,
   "metadata": {},
   "outputs": [],
   "source": [
    "# Merge together rap and hip hop\n",
    "df['rap'] = np.logical_or(df['rap'], df['hip-hop']).replace({True: 1, False: 0})\n",
    "# Drop columns\n",
    "df.drop(columns=['romântico'], inplace=True)\n",
    "df.drop(columns=['hip-hop'], inplace=True)\n",
    "# Remove again lyrics that do not fit into the genres kept\n",
    "genre_labels = [label for label in df.keys() if label != 'lyrics']\n",
    "df.drop(df[df[genre_labels].sum(axis=1) == 0].index, inplace=True)"
   ]
  },
  {
   "cell_type": "code",
   "execution_count": 14,
   "metadata": {},
   "outputs": [
    {
     "name": "stdout",
     "output_type": "stream",
     "text": [
      "Number of lyrics 143165\n"
     ]
    }
   ],
   "source": [
    "df.reset_index(inplace=True, drop=True)\n",
    "print(f'Number of lyrics {len(df)}')"
   ]
  },
  {
   "attachments": {},
   "cell_type": "markdown",
   "metadata": {},
   "source": [
    "## Data/Text Cleaning"
   ]
  },
  {
   "cell_type": "code",
   "execution_count": 15,
   "metadata": {},
   "outputs": [
    {
     "name": "stdout",
     "output_type": "stream",
     "text": [
      "Duplicates with the same genre: 646\n",
      "Duplicates with different genres: 555\n"
     ]
    }
   ],
   "source": [
    "# Duplicates are songs with multiple artists (e.g. a featuring)\n",
    "# Remove duplicates having the same genre\n",
    "print(f'Duplicates with the same genre: {df.duplicated().sum()}')\n",
    "df.drop_duplicates(inplace=True)\n",
    "# Remove lyrics with different genres among duplicates:\n",
    "print(f'Duplicates with different genres: {df.duplicated(subset=\"lyrics\").sum()}')\n",
    "df.drop_duplicates(subset=\"lyrics\", keep=False, inplace=True)"
   ]
  },
  {
   "cell_type": "code",
   "execution_count": 16,
   "metadata": {},
   "outputs": [
    {
     "data": {
      "text/plain": [
       "\"Good morning\\nNice to see you\\nHow you’ve been\\nThe beginning of another lovely day\\nOh oh oh oh oh\\n\\nGood morning\\n\\nGet up put your feet on the ground\\nWake up to an ice cold shower\\nThe coffee's hot but the cream is sour\\n\\nSo get up\\n\\nTop of the morning to you\\nGood morning to you\\nHey\\nOh oh oh oh oh\\nGood morning\\nGood morning\\nCan I walk you to the train\\nWould you like to get a bagel on the way\\nOh oh oh oh oh oh\\nGood morning\\nGet on and we go downtown\\nGet off and go in the tower\\nThe boss is old but he has the power\\n\\nSo we're up\\nTop of the morning to you\\nGood morning to you\\nHey\\nOh oh oh oh oh\\nIt's another day in the world in which we live\\n\\nI've got to find a way\\nTo get past what I can't forgive\\nAnd no matter what we've got to try to move along\\nSo sing a song\\nYou can't go wrong\\nGood morning\\nNice to see you\\nHow you been\\nThe beginning of another, lovely day\\nOh oh oh oh oh\\nGood morning\""
      ]
     },
     "execution_count": 16,
     "metadata": {},
     "output_type": "execute_result"
    }
   ],
   "source": [
    "rand = random.choice(df['lyrics'])\n",
    "rand"
   ]
  },
  {
   "cell_type": "code",
   "execution_count": 17,
   "metadata": {},
   "outputs": [],
   "source": [
    "def clean_text(lyrics):\n",
    "    lyrics = re.sub(r'\\((.+?)?\\)', '', lyrics)\n",
    "    lyrics = re.sub(r'\\[(.+?)?\\]', '', lyrics)\n",
    "    lyrics = re.sub(r'\\{(.+?)?\\}', '', lyrics)\n",
    "    lyrics = re.sub(r'\\n+', '\\n', lyrics)\n",
    "    lyrics = re.sub(r'^[^a-zA-Z]+$', '', lyrics, flags=re.MULTILINE)\n",
    "    return lyrics"
   ]
  },
  {
   "cell_type": "code",
   "execution_count": 18,
   "metadata": {},
   "outputs": [
    {
     "data": {
      "text/plain": [
       "\"Is it worth it\\nA new winter coat and shoes for the wife\\nAnd a bicycle on the boy's birthday\\nIt's just a rumour that was spread around town\\nBy the women and children\\nSoon we'll be shipbuilding\\nWell I ask you\\nThe boy said 'DAD THEY'RE GOING TO TAKE ME TO TASK\\nBUT I'LL BE BACK BY CHRISTMAS'\\nIt's just a rumour that was spread around town\\nSomebody said that someone got filled in\\nFor saying that people get killed in\\nThe result of this shipbuilding\\nWith all the will in the world\\nDiving for dear life\\nWhen we could be diving for pearls\\nIt's just a rumour that was spread around town\\nA telegram or a picture postcard\\nWithin weeks they'll be re-opening the shipyards\\nAnd notifying the next of kin\\nOnce again\\nIt's all we're skilled in\\nWe will be shipbuilding\\nWITH ALL THE WILL IN THE WORLD\\nDIVING FOR DEAR LIFE\\n\""
      ]
     },
     "execution_count": 18,
     "metadata": {},
     "output_type": "execute_result"
    }
   ],
   "source": [
    "rand = random.choice(df['lyrics'])\n",
    "clean_text(rand)"
   ]
  },
  {
   "cell_type": "code",
   "execution_count": 19,
   "metadata": {},
   "outputs": [
    {
     "name": "stderr",
     "output_type": "stream",
     "text": [
      "100%|██████████| 141445/141445 [00:06<00:00, 22911.23it/s]\n"
     ]
    }
   ],
   "source": [
    "df['lyrics'] = [clean_text(lyrics) for lyrics in tqdm(df['lyrics'])]"
   ]
  },
  {
   "cell_type": "code",
   "execution_count": 20,
   "metadata": {},
   "outputs": [],
   "source": [
    "# Split lyrics in verses consider \\n as sep, filter empty element in list (it's the result of '\\n\\n' or spaces)\n",
    "df['lyrics'] = list(map(lambda x: [verse for verse in x.split('\\n') if verse.strip()], df['lyrics']))"
   ]
  },
  {
   "cell_type": "code",
   "execution_count": 21,
   "metadata": {},
   "outputs": [],
   "source": [
    "# Count number of verses\n",
    "df['verses'] = df['lyrics'].apply(len)"
   ]
  },
  {
   "cell_type": "code",
   "execution_count": 22,
   "metadata": {},
   "outputs": [
    {
     "data": {
      "image/png": "[encoded data removed]",
      "text/plain": [
       "<Figure size 640x480 with 1 Axes>"
      ]
     },
     "metadata": {},
     "output_type": "display_data"
    }
   ],
   "source": [
    "fig, ax = plt.subplots()\n",
    "ax = sns.histplot(data=df, x='verses', bins=200)\n",
    "ax.set_xlabel('Verses')\n",
    "ax.set_ylabel('Lyrics')\n",
    "ax.set_title('Lyrics by number of verses')\n",
    "# There seems to be outliers\n",
    "ax.set_xlim([0, 200])\n",
    "plt.show()"
   ]
  },
  {
   "cell_type": "code",
   "execution_count": 23,
   "metadata": {},
   "outputs": [],
   "source": [
    "df = df[df['verses']>20]"
   ]
  },
  {
   "cell_type": "code",
   "execution_count": 24,
   "metadata": {},
   "outputs": [
    {
     "name": "stdout",
     "output_type": "stream",
     "text": [
      "Number of lyrics 119441\n"
     ]
    }
   ],
   "source": [
    "print(f'Number of lyrics {len(df)}')"
   ]
  },
  {
   "attachments": {},
   "cell_type": "markdown",
   "metadata": {},
   "source": [
    "## Classification Dataset Preparation"
   ]
  },
  {
   "cell_type": "code",
   "execution_count": 25,
   "metadata": {},
   "outputs": [
    {
     "data": {
      "text/plain": [
       "rock           19928\n",
       "pop            15989\n",
       "pop-rock        5151\n",
       "heavy-metal     6201\n",
       "indie           6737\n",
       "hard-rock       1186\n",
       "rap            19053\n",
       "dtype: int64"
      ]
     },
     "execution_count": 25,
     "metadata": {},
     "output_type": "execute_result"
    }
   ],
   "source": [
    "# Get unique labels and compute value counts\n",
    "df[df[genre_labels].sum(axis=1) == 1][genre_labels].sum(axis=0)"
   ]
  },
  {
   "cell_type": "code",
   "execution_count": 26,
   "metadata": {},
   "outputs": [],
   "source": [
    "# Drop songs with multiple genres\n",
    "df.drop(df[df[genre_labels].sum(axis=1) > 1].index, inplace=True)\n",
    "# Keep only rock, pop and rap lyrics:\n",
    "# 1) Remove columns\n",
    "df.drop(columns=['pop-rock','heavy-metal','indie','hard-rock'], inplace=True)\n",
    "# 2) Remove rows\n",
    "genre_labels = ['rock','pop','rap']\n",
    "df.drop(df[df[genre_labels].sum(axis=1) == 0].index, inplace=True)"
   ]
  },
  {
   "cell_type": "code",
   "execution_count": 27,
   "metadata": {},
   "outputs": [
    {
     "data": {
      "text/html": [
       "<div>\n",
       "<style scoped>\n",
       "    .dataframe tbody tr th:only-of-type {\n",
       "        vertical-align: middle;\n",
       "    }\n",
       "\n",
       "    .dataframe tbody tr th {\n",
       "        vertical-align: top;\n",
       "    }\n",
       "\n",
       "    .dataframe thead th {\n",
       "        text-align: right;\n",
       "    }\n",
       "</style>\n",
       "<table border=\"1\" class=\"dataframe\">\n",
       "  <thead>\n",
       "    <tr style=\"text-align: right;\">\n",
       "      <th></th>\n",
       "      <th>lyrics</th>\n",
       "      <th>verses</th>\n",
       "      <th>genre</th>\n",
       "    </tr>\n",
       "  </thead>\n",
       "  <tbody>\n",
       "    <tr>\n",
       "      <th>0</th>\n",
       "      <td>[I feel so unsure, As I take your hand and lea...</td>\n",
       "      <td>47</td>\n",
       "      <td>pop</td>\n",
       "    </tr>\n",
       "    <tr>\n",
       "      <th>1</th>\n",
       "      <td>[Don't let them fool, ya, Or even try to schoo...</td>\n",
       "      <td>28</td>\n",
       "      <td>pop</td>\n",
       "    </tr>\n",
       "    <tr>\n",
       "      <th>2</th>\n",
       "      <td>[Baby, let's cruise, away from here, Don't be ...</td>\n",
       "      <td>26</td>\n",
       "      <td>pop</td>\n",
       "    </tr>\n",
       "    <tr>\n",
       "      <th>3</th>\n",
       "      <td>[Know it sounds funny, But, I just can't stand...</td>\n",
       "      <td>31</td>\n",
       "      <td>pop</td>\n",
       "    </tr>\n",
       "    <tr>\n",
       "      <th>4</th>\n",
       "      <td>[You've got that look again, The one I hoped I...</td>\n",
       "      <td>35</td>\n",
       "      <td>pop</td>\n",
       "    </tr>\n",
       "  </tbody>\n",
       "</table>\n",
       "</div>"
      ],
      "text/plain": [
       "                                              lyrics  verses genre\n",
       "0  [I feel so unsure, As I take your hand and lea...      47   pop\n",
       "1  [Don't let them fool, ya, Or even try to schoo...      28   pop\n",
       "2  [Baby, let's cruise, away from here, Don't be ...      26   pop\n",
       "3  [Know it sounds funny, But, I just can't stand...      31   pop\n",
       "4  [You've got that look again, The one I hoped I...      35   pop"
      ]
     },
     "execution_count": 27,
     "metadata": {},
     "output_type": "execute_result"
    }
   ],
   "source": [
    "# Map again dummy variables to labels\n",
    "df['genre'] = df[['rock', 'pop', 'rap']].apply(lambda x: 'rock' if x[0] == 1 else ('pop' if x[1] == 1 else ('rap' if x[2] == 1 else None)), axis=1)\n",
    "\n",
    "# Drop dummy variables\n",
    "df = df.drop(columns=['rock', 'pop', 'rap'])\n",
    "\n",
    "df.head()"
   ]
  },
  {
   "cell_type": "code",
   "execution_count": 28,
   "metadata": {},
   "outputs": [
    {
     "data": {
      "text/plain": [
       "rock    19928\n",
       "rap     19053\n",
       "pop     15989\n",
       "Name: genre, dtype: int64"
      ]
     },
     "execution_count": 28,
     "metadata": {},
     "output_type": "execute_result"
    }
   ],
   "source": [
    "df['genre'].value_counts()"
   ]
  },
  {
   "cell_type": "code",
   "execution_count": 29,
   "metadata": {},
   "outputs": [],
   "source": [
    "df = df[df['genre'] != 'pop'] "
   ]
  },
  {
   "cell_type": "code",
   "execution_count": 30,
   "metadata": {},
   "outputs": [],
   "source": [
    "df.reset_index(inplace=True, drop=True)\n",
    "# Keep original index as id incase we want to retrieve samples in original df\n",
    "df['id'] = df.index"
   ]
  },
  {
   "cell_type": "code",
   "execution_count": 31,
   "metadata": {},
   "outputs": [],
   "source": [
    "df.drop(columns=['verses']).to_csv('../data/lyrics.csv', index=False)"
   ]
  },
  {
   "cell_type": "code",
   "execution_count": 32,
   "metadata": {},
   "outputs": [
    {
     "data": {
      "image/png": "[encoded data removed]",
      "text/plain": [
       "<Figure size 640x480 with 1 Axes>"
      ]
     },
     "metadata": {},
     "output_type": "display_data"
    }
   ],
   "source": [
    "fig, ax = plt.subplots()\n",
    "ax = sns.boxplot(data=df, x='verses')\n",
    "ax.set_xlabel('Verses')\n",
    "ax.set_ylabel('Lyrics')\n",
    "ax.set_title('Lyrics by number of verses')\n",
    "plt.show()"
   ]
  },
  {
   "cell_type": "code",
   "execution_count": 33,
   "metadata": {},
   "outputs": [],
   "source": [
    "# Truncate long lyrics\n",
    "df['lyrics'] = list(map(lambda x: x[:100] if len(x) > 100 else x, df['lyrics']))"
   ]
  },
  {
   "cell_type": "code",
   "execution_count": 34,
   "metadata": {},
   "outputs": [
    {
     "data": {
      "image/png": "[encoded data removed]",
      "text/plain": [
       "<Figure size 640x480 with 1 Axes>"
      ]
     },
     "metadata": {},
     "output_type": "display_data"
    }
   ],
   "source": [
    "# count number of verses\n",
    "df['verses'] = df['lyrics'].apply(len)\n",
    "# Plot distribution\n",
    "fig, ax = plt.subplots()\n",
    "ax = sns.histplot(data=df, x='verses', bins=20)\n",
    "ax.set_xlabel('Verses')\n",
    "ax.set_ylabel('Lyrics')\n",
    "ax.set_title('Lyrics by number of verses')\n",
    "ax.set_xlim([0, 100])\n",
    "plt.show()"
   ]
  },
  {
   "cell_type": "code",
   "execution_count": 35,
   "metadata": {},
   "outputs": [
    {
     "name": "stdout",
     "output_type": "stream",
     "text": [
      "Number of lyrics 38981\n"
     ]
    }
   ],
   "source": [
    "df.reset_index(inplace=True, drop=True)\n",
    "print(f'Number of lyrics {len(df)}')"
   ]
  },
  {
   "cell_type": "code",
   "execution_count": 36,
   "metadata": {},
   "outputs": [],
   "source": [
    "df_eval = df.groupby(\"genre\").sample(n=50, weights='verses',random_state=0\n",
    ").reset_index( \n",
    ").drop(columns=['verses'])\n",
    "\n",
    "df_eval.to_csv('../data/evaluation/lyrics_eval.csv', index=False)"
   ]
  },
  {
   "cell_type": "code",
   "execution_count": 37,
   "metadata": {},
   "outputs": [],
   "source": [
    "df.drop(columns=['verses'], inplace=True)"
   ]
  },
  {
   "cell_type": "code",
   "execution_count": 38,
   "metadata": {},
   "outputs": [],
   "source": [
    "y = list(df['genre'])\n",
    "X = list(zip(list(df['lyrics']),list(df['id'])))\n",
    "\n",
    "X_train, X_test, y_train, y_test = train_test_split(X, y, test_size=0.2, random_state=0)"
   ]
  },
  {
   "cell_type": "code",
   "execution_count": 39,
   "metadata": {},
   "outputs": [
    {
     "data": {
      "text/plain": [
       "(31184, 3)"
      ]
     },
     "execution_count": 39,
     "metadata": {},
     "output_type": "execute_result"
    }
   ],
   "source": [
    "df_train = pd.DataFrame(X_train, columns=['lyrics','id'])\n",
    "df_train['genre'] = y_train\n",
    "df_train.shape"
   ]
  },
  {
   "cell_type": "code",
   "execution_count": 40,
   "metadata": {},
   "outputs": [
    {
     "data": {
      "text/plain": [
       "(7797, 3)"
      ]
     },
     "execution_count": 40,
     "metadata": {},
     "output_type": "execute_result"
    }
   ],
   "source": [
    "df_test = pd.DataFrame(X_test, columns=['lyrics','id'])\n",
    "df_test['genre'] = y_test\n",
    "df_test.shape"
   ]
  },
  {
   "cell_type": "code",
   "execution_count": 41,
   "metadata": {},
   "outputs": [],
   "source": [
    "df_train.to_csv('../data/classification/lyrics_train.csv', index=False)\n",
    "df_test.to_csv('../data/classification/lyrics_test.csv', index=False)"
   ]
  },
  {
   "cell_type": "markdown",
   "metadata": {},
   "source": [
    "## Evaluation Dataset Preparation"
   ]
  },
  {
   "cell_type": "code",
   "execution_count": 42,
   "metadata": {},
   "outputs": [],
   "source": [
    "import pandas as pd\n",
    "import numpy as np\n",
    "import random\n",
    "import ast\n",
    "from tqdm import tqdm\n",
    "import nlpaug.augmenter.word as naw\n",
    "from math import sqrt\n",
    "from sklearn.model_selection import train_test_split"
   ]
  },
  {
   "cell_type": "code",
   "execution_count": 43,
   "metadata": {},
   "outputs": [],
   "source": [
    "df = pd.read_csv('../data/evaluation/lyrics_eval.csv')"
   ]
  },
  {
   "cell_type": "code",
   "execution_count": 44,
   "metadata": {},
   "outputs": [
    {
     "data": {
      "text/html": [
       "<div>\n",
       "<style scoped>\n",
       "    .dataframe tbody tr th:only-of-type {\n",
       "        vertical-align: middle;\n",
       "    }\n",
       "\n",
       "    .dataframe tbody tr th {\n",
       "        vertical-align: top;\n",
       "    }\n",
       "\n",
       "    .dataframe thead th {\n",
       "        text-align: right;\n",
       "    }\n",
       "</style>\n",
       "<table border=\"1\" class=\"dataframe\">\n",
       "  <thead>\n",
       "    <tr style=\"text-align: right;\">\n",
       "      <th></th>\n",
       "      <th>index</th>\n",
       "      <th>lyrics</th>\n",
       "      <th>genre</th>\n",
       "      <th>id</th>\n",
       "    </tr>\n",
       "  </thead>\n",
       "  <tbody>\n",
       "    <tr>\n",
       "      <th>0</th>\n",
       "      <td>18107</td>\n",
       "      <td>['You got, something that I do want', 'Somethi...</td>\n",
       "      <td>rap</td>\n",
       "      <td>18107</td>\n",
       "    </tr>\n",
       "    <tr>\n",
       "      <th>1</th>\n",
       "      <td>25551</td>\n",
       "      <td>['You remind me of something...', \"I just can'...</td>\n",
       "      <td>rap</td>\n",
       "      <td>25551</td>\n",
       "    </tr>\n",
       "    <tr>\n",
       "      <th>2</th>\n",
       "      <td>19128</td>\n",
       "      <td>['One more joog, one more', 'Joog ', \"Nigga, I...</td>\n",
       "      <td>rap</td>\n",
       "      <td>19128</td>\n",
       "    </tr>\n",
       "    <tr>\n",
       "      <th>3</th>\n",
       "      <td>18033</td>\n",
       "      <td>['Someone right now is leaving their apartment...</td>\n",
       "      <td>rap</td>\n",
       "      <td>18033</td>\n",
       "    </tr>\n",
       "    <tr>\n",
       "      <th>4</th>\n",
       "      <td>15604</td>\n",
       "      <td>['When you said it was over', 'You shot right ...</td>\n",
       "      <td>rap</td>\n",
       "      <td>15604</td>\n",
       "    </tr>\n",
       "  </tbody>\n",
       "</table>\n",
       "</div>"
      ],
      "text/plain": [
       "   index                                             lyrics genre     id\n",
       "0  18107  ['You got, something that I do want', 'Somethi...   rap  18107\n",
       "1  25551  ['You remind me of something...', \"I just can'...   rap  25551\n",
       "2  19128  ['One more joog, one more', 'Joog ', \"Nigga, I...   rap  19128\n",
       "3  18033  ['Someone right now is leaving their apartment...   rap  18033\n",
       "4  15604  ['When you said it was over', 'You shot right ...   rap  15604"
      ]
     },
     "execution_count": 44,
     "metadata": {},
     "output_type": "execute_result"
    }
   ],
   "source": [
    "df.head()"
   ]
  },
  {
   "cell_type": "code",
   "execution_count": 45,
   "metadata": {},
   "outputs": [
    {
     "name": "stdout",
     "output_type": "stream",
     "text": [
      "<class 'pandas.core.frame.DataFrame'>\n",
      "RangeIndex: 100 entries, 0 to 99\n",
      "Data columns (total 4 columns):\n",
      " #   Column  Non-Null Count  Dtype \n",
      "---  ------  --------------  ----- \n",
      " 0   index   100 non-null    int64 \n",
      " 1   lyrics  100 non-null    object\n",
      " 2   genre   100 non-null    object\n",
      " 3   id      100 non-null    int64 \n",
      "dtypes: int64(2), object(2)\n",
      "memory usage: 3.2+ KB\n"
     ]
    }
   ],
   "source": [
    "df.info()"
   ]
  },
  {
   "cell_type": "code",
   "execution_count": 46,
   "metadata": {},
   "outputs": [],
   "source": [
    "df['lyrics'] = list(map(lambda x: ast.literal_eval(x), df['lyrics']))"
   ]
  },
  {
   "cell_type": "code",
   "execution_count": 47,
   "metadata": {},
   "outputs": [],
   "source": [
    "eg_lyrics = random.choice(df['lyrics'])"
   ]
  },
  {
   "cell_type": "code",
   "execution_count": 48,
   "metadata": {},
   "outputs": [],
   "source": [
    "aug = naw.ContextualWordEmbsAug(model_path='roberta-base', action=\"substitute\")\n"
   ]
  },
  {
   "cell_type": "code",
   "execution_count": 49,
   "metadata": {},
   "outputs": [],
   "source": [
    "def misalign_lyrics(lyrics, repetitions, repeat_verse):\n",
    "    verses2repeat = random.sample(range(0, len(lyrics)), repetitions)\n",
    "    misaligned_lyrics = []\n",
    "    for idx, verse in enumerate(lyrics):\n",
    "        if idx in verses2repeat:\n",
    "            misaligned_lyrics.extend([verse] * repeat_verse)\n",
    "        else:\n",
    "            misaligned_lyrics.append(verse)\n",
    "    return misaligned_lyrics"
   ]
  },
  {
   "cell_type": "code",
   "execution_count": 50,
   "metadata": {},
   "outputs": [],
   "source": [
    "clf_test_ids = list(pd.read_csv('../data/classification/lyrics_test.csv')['id'])\n",
    "evaluation_ids = list(df['id'])\n",
    "\n",
    "idxs2remove = list(set(clf_test_ids + evaluation_ids))\n",
    "all_lyrics = pd.read_csv('../data/lyrics.csv').drop(index=idxs2remove)['lyrics']\n",
    "all_lyrics = list(map(lambda x: ast.literal_eval(x), all_lyrics))"
   ]
  },
  {
   "cell_type": "code",
   "execution_count": 51,
   "metadata": {},
   "outputs": [
    {
     "name": "stdout",
     "output_type": "stream",
     "text": [
      "Original verse:\n",
      "Up against the wall\n",
      "Augmented:\n"
     ]
    },
    {
     "data": {
      "text/plain": [
       "['Up against these Yankees']"
      ]
     },
     "execution_count": 51,
     "metadata": {},
     "output_type": "execute_result"
    }
   ],
   "source": [
    "eg_verse = random.choice(eg_lyrics)\n",
    "print('Original verse:')\n",
    "print(eg_verse)\n",
    "\n",
    "print('Augmented:')\n",
    "aug.augment(eg_verse)"
   ]
  },
  {
   "cell_type": "code",
   "execution_count": 52,
   "metadata": {},
   "outputs": [
    {
     "name": "stderr",
     "output_type": "stream",
     "text": [
      "100%|██████████| 49/49 [00:15<00:00,  3.09it/s]"
     ]
    },
    {
     "name": "stdout",
     "output_type": "stream",
     "text": [
      "ORIGINAL lyrics:\n",
      "['The Beautiful Occupation Lyricsby Travis', 'Don´t just stand there watching it happening', 'I can´t stand it', 'Don´t feel it', 'Something´s telling me', 'Don´t wanna go out this way', 'But have a nice day', 'Then read it in the headlines', 'Watch it on the TV', 'Put it in the background', 'Stick it in the bag', 'Stick it in the bag', 'For the beautiful occupation', 'The beautiful occupation', 'You don´t need an invitation', 'To drop in upon a nation', 'I´m too cynical', 'I´m just sitting here', 'I´m just wasting my time', 'Half a million civillians gonna die today', 'But look the wrong way', 'Then read it in the headlines', 'Watch it on the TV', 'Put it in the background', 'Stick it in the bag', 'Stick it in the bag', 'For the beautiful occupation', 'The beautiful occupation', 'You don´t need an invitation', 'To drop in upon a nation', 'Don´t just stand there watching it happening', 'I can´t stand it', 'Don´t feel it', 'Something telling me', 'Don´t wanna go out this way', 'But have a nice day', 'Then read it in the headlines', 'Watch it on the TV', 'Put it in the background', 'Stick in the bag', 'Stick in the bag', 'For the beautiful occupation', 'The beautiful occupation', 'Don´t need an invitation', 'To drop in upon a nation', 'The beautiful occupation', 'The beautiful occupation', 'So much for an intervention', 'Don´t call the united nations']\n",
      "\n",
      "AUGMENTED lyrics:\n",
      "Aligned:\n",
      "['The Legal Case Of Travis', 'Don´t ever stand up ignoring it happening', 'I should put it', 'Don´t pile pressure', 'Something´s troubling you', 'Don´t always stick around this way', 'But just a joyful day', 'Then some more in the headlines', 'Watch it over Google TV', 'Put shadows inside the background', 'Stick accessories in one bag', 'Stick everything underneath the bag', 'For sure beautiful arts', 'The beautiful rain', 'You also need the accountant', 'To drop Trump as a nation', 'I´m pretty proud', 'I´m usually sitting …', 'I´m only wasting away breath', 'Half a thousand Americans gonna die tonight', 'But still the wrong road', 'Then sees everything in the headlines', 'Watch it : Spike TV', 'Put straight in the letter', 'Stick back in that bag', 'Stick it up the ass', 'For the rich dessert', 'The beautiful room', 'You don´t install another app', 'To drop in on the nation', 'Don´t just stand by watching tv …', 'I can´t handle this', 'Don´t look bad', 'Something scares me', 'Don´t wanna laugh again this bad', 'But have the peaceful day', 'Then read it off the paper', 'Watch Online over the TV', 'Put it in your garbage', 'Stick in a doc', 'Stick in that commitment', 'For years Palestinian occupation', 'The Moroccan occupation', 'Don´t need a MRI', 'To drop in with this nation', 'The Nazi occupation', 'The American occupation', 'So eager for an exam', 'Don´t serve for united purpose']\n",
      "\n",
      "Misaligned:\n",
      "['The Legal Case Of Travis', 'Don´t ever stand up ignoring it happening', 'I should put it', 'Don´t pile pressure', 'Don´t pile pressure', 'Something´s troubling you', 'Don´t always stick around this way', 'But just a joyful day', 'Then some more in the headlines', 'Watch it over Google TV', 'Put shadows inside the background', 'Stick accessories in one bag', 'Stick everything underneath the bag', 'For sure beautiful arts', 'The beautiful rain', 'You also need the accountant', 'To drop Trump as a nation', 'I´m pretty proud', 'I´m usually sitting …', 'I´m only wasting away breath', 'Half a thousand Americans gonna die tonight', 'Half a thousand Americans gonna die tonight', 'But still the wrong road', 'Then sees everything in the headlines', 'Watch it : Spike TV', 'Watch it : Spike TV', 'Put straight in the letter', 'Stick back in that bag', 'Stick back in that bag', 'Stick it up the ass', 'For the rich dessert', 'For the rich dessert', 'The beautiful room', 'You don´t install another app', 'To drop in on the nation', 'Don´t just stand by watching tv …', 'I can´t handle this', 'Don´t look bad', 'Something scares me', 'Don´t wanna laugh again this bad', 'Don´t wanna laugh again this bad', 'But have the peaceful day', 'Then read it off the paper', 'Watch Online over the TV', 'Put it in your garbage', 'Stick in a doc', 'Stick in that commitment', 'For years Palestinian occupation', 'The Moroccan occupation', 'The Moroccan occupation', 'Don´t need a MRI', 'To drop in with this nation', 'The Nazi occupation', 'The American occupation', 'So eager for an exam', 'Don´t serve for united purpose']\n",
      "\n",
      "RANDOM lyrics:\n",
      "[\"Says my aul' wan to your aul' wan\", '\"Will ye go to the Waxies dargle?\"', \"Says your aul' wan to my aul' wan,\", '\"I haven\\'t got a farthing.', 'I went up to Monto town', 'To see Uncle McArdle', \"But he wouldn't give me a half a crown\", 'For to go to the Waxies dargle.\"', 'What will ya have?!', \"I'll have a pint!\", \"I'll have a pint with you, Sir!\", \"And if one of ya' doesn't order soon\", \"We'll be chucked out of the boozer!\", \"Says my aul' wan to your aul' wan\", '\"Will ye go to the Galway races?\"', \"Says your aul' wan to my aul' wan,\", '\"I\\'ll hawk me aul\\' man\\'s braces.', 'I went up to Capel Street', 'To the Jewish moneylenders', \"But he wouldn't give me a couple of bob\", 'For the aul\\' man\\'s red suspenders.\"', 'Chorus', \"Says my aul' wan to your aul' wan\", '\"We got no beef or mutton', 'If we went up to Monto town', 'We might get a drink for nuttin\\'\"', \"Here's a nice piece of advice\", \"I got from an aul' fishmonger:\", '\"When food is scarce and you see the hearse', 'You\\'ll know you have died of hunger.\"', 'Chorus x2', \"Says my aul' wan to your aul' wan\", '\"Will ye come to the Waxies dargle?\"', \"Says your aul' wan to my aul' wan,\", '\"Sure I haven\\'t got a farthing.', \"I've just been down to Monto town\", 'To see Uncle McArdle', \"But he didn't have half a crown\", 'For to go to the Waxies dargle.\"', 'What are ye having, will ye have a pint?', \"Yes, I'll have a pint with you, sir,\", \"And if one of us doesn't order soon\", \"We'll be thrown out of the boozer.\", \"Says my aul' wan to your aul' wan\", '\"Will ye come to the Galway races?\"', \"Says your aul' wan to my aul' wan,\", '\"With the price of my aul\\' lad\\'s braces.', 'I went down to Capel Street', 'To the Jew man moneylenders', \"But they wouldn't give me a couple of bob on\", 'My aul\\' lad\\'s suspenders.\"', 'Chorus', \"Says my aul' wan to your aul' wan\", '\"We have no beef or mutton', 'But if we go down to Monto town', 'We might get a drink for nuttin\\'\"', \"Here's a piece of good advice\", \"I got from an aul' fishmonger:\", '\"When food is scarce and you see the hearse', \"You'll know you have died of hunger.\"]\n"
     ]
    },
    {
     "name": "stderr",
     "output_type": "stream",
     "text": [
      "\n"
     ]
    }
   ],
   "source": [
    "eg_lyrics = random.choice(df['lyrics'])\n",
    "\n",
    "eg_aug_lyrics = [aug.augment(verse)[0] for verse in tqdm(eg_lyrics)]\n",
    "eg_aug_misl_lyrics = misalign_lyrics(eg_aug_lyrics, repetitions=round(sqrt(len(eg_lyrics))), repeat_verse=2)\n",
    "\n",
    "eg_fake_lyrics = random.choice(all_lyrics)\n",
    "\n",
    "print('ORIGINAL lyrics:')\n",
    "print(eg_lyrics)\n",
    "print()\n",
    "print('AUGMENTED lyrics:')\n",
    "print('Aligned:')\n",
    "print(eg_aug_lyrics)\n",
    "print()\n",
    "print('Misaligned:')\n",
    "print(eg_aug_misl_lyrics)\n",
    "print()\n",
    "print('RANDOM lyrics:')\n",
    "print(eg_fake_lyrics)"
   ]
  },
  {
   "cell_type": "code",
   "execution_count": 53,
   "metadata": {},
   "outputs": [
    {
     "name": "stderr",
     "output_type": "stream",
     "text": [
      "100%|██████████| 100/100 [51:31<00:00, 30.92s/it] \n",
      "100%|██████████| 100/100 [00:00<00:00, 35977.90it/s]\n"
     ]
    }
   ],
   "source": [
    "augment_many = lambda lyrics: [aug.augment(verse)[0] for verse in lyrics]\n",
    "\n",
    "aug_lyrics = [augment_many(lyrics) for lyrics in tqdm(df['lyrics'])]\n",
    "misl_aug_lyrics = [misalign_lyrics(aug_lyr, repetitions=round(sqrt(len(aug_lyr))), repeat_verse=random.choice([2,3])) for aug_lyr in tqdm(aug_lyrics)]\n",
    "\n",
    "df['similar_lyrics'] = misl_aug_lyrics\n",
    "df['random_lyrics'] = random.sample(all_lyrics, len(df['lyrics']))"
   ]
  },
  {
   "cell_type": "code",
   "execution_count": 54,
   "metadata": {},
   "outputs": [
    {
     "data": {
      "text/html": [
       "<div>\n",
       "<style scoped>\n",
       "    .dataframe tbody tr th:only-of-type {\n",
       "        vertical-align: middle;\n",
       "    }\n",
       "\n",
       "    .dataframe tbody tr th {\n",
       "        vertical-align: top;\n",
       "    }\n",
       "\n",
       "    .dataframe thead th {\n",
       "        text-align: right;\n",
       "    }\n",
       "</style>\n",
       "<table border=\"1\" class=\"dataframe\">\n",
       "  <thead>\n",
       "    <tr style=\"text-align: right;\">\n",
       "      <th></th>\n",
       "      <th>index</th>\n",
       "      <th>lyrics</th>\n",
       "      <th>genre</th>\n",
       "      <th>id</th>\n",
       "      <th>similar_lyrics</th>\n",
       "      <th>random_lyrics</th>\n",
       "    </tr>\n",
       "  </thead>\n",
       "  <tbody>\n",
       "    <tr>\n",
       "      <th>0</th>\n",
       "      <td>18107</td>\n",
       "      <td>[You got, something that I do want, Something ...</td>\n",
       "      <td>rap</td>\n",
       "      <td>18107</td>\n",
       "      <td>[You got, for certain you do want, Something g...</td>\n",
       "      <td>[Suck on this!, Jan Pierewiet, Jan Pierewiet, ...</td>\n",
       "    </tr>\n",
       "    <tr>\n",
       "      <th>1</th>\n",
       "      <td>25551</td>\n",
       "      <td>[You remind me of something..., I just can't t...</td>\n",
       "      <td>rap</td>\n",
       "      <td>25551</td>\n",
       "      <td>[You hate me for something..., I just can't pr...</td>\n",
       "      <td>[Someday at Christmas men won't be boys, Playi...</td>\n",
       "    </tr>\n",
       "    <tr>\n",
       "      <th>2</th>\n",
       "      <td>19128</td>\n",
       "      <td>[One more joog, one more, Joog , Nigga, I'm tu...</td>\n",
       "      <td>rap</td>\n",
       "      <td>19128</td>\n",
       "      <td>[One grim year, five more, Joog, Nigga, very s...</td>\n",
       "      <td>[Bring over some of your old Motown records, W...</td>\n",
       "    </tr>\n",
       "    <tr>\n",
       "      <th>3</th>\n",
       "      <td>18033</td>\n",
       "      <td>[Someone right now is leaving their apartment ...</td>\n",
       "      <td>rap</td>\n",
       "      <td>18033</td>\n",
       "      <td>[Someone right now is in their apartment way d...</td>\n",
       "      <td>[Know I love you baby, Know I love you baby, Y...</td>\n",
       "    </tr>\n",
       "    <tr>\n",
       "      <th>4</th>\n",
       "      <td>15604</td>\n",
       "      <td>[When you said it was over, You shot right thr...</td>\n",
       "      <td>rap</td>\n",
       "      <td>15604</td>\n",
       "      <td>[When you said is game over, You shot back thr...</td>\n",
       "      <td>[ \"You're from the valley?\",  \"No, Jim you sch...</td>\n",
       "    </tr>\n",
       "  </tbody>\n",
       "</table>\n",
       "</div>"
      ],
      "text/plain": [
       "   index                                             lyrics genre     id  \\\n",
       "0  18107  [You got, something that I do want, Something ...   rap  18107   \n",
       "1  25551  [You remind me of something..., I just can't t...   rap  25551   \n",
       "2  19128  [One more joog, one more, Joog , Nigga, I'm tu...   rap  19128   \n",
       "3  18033  [Someone right now is leaving their apartment ...   rap  18033   \n",
       "4  15604  [When you said it was over, You shot right thr...   rap  15604   \n",
       "\n",
       "                                      similar_lyrics  \\\n",
       "0  [You got, for certain you do want, Something g...   \n",
       "1  [You hate me for something..., I just can't pr...   \n",
       "2  [One grim year, five more, Joog, Nigga, very s...   \n",
       "3  [Someone right now is in their apartment way d...   \n",
       "4  [When you said is game over, You shot back thr...   \n",
       "\n",
       "                                       random_lyrics  \n",
       "0  [Suck on this!, Jan Pierewiet, Jan Pierewiet, ...  \n",
       "1  [Someday at Christmas men won't be boys, Playi...  \n",
       "2  [Bring over some of your old Motown records, W...  \n",
       "3  [Know I love you baby, Know I love you baby, Y...  \n",
       "4  [ \"You're from the valley?\",  \"No, Jim you sch...  "
      ]
     },
     "execution_count": 54,
     "metadata": {},
     "output_type": "execute_result"
    }
   ],
   "source": [
    "df.head()"
   ]
  },
  {
   "cell_type": "code",
   "execution_count": 55,
   "metadata": {},
   "outputs": [],
   "source": [
    "df.to_csv('../data/evaluation/lyrics_eval.csv', index=False)"
   ]
  },
  {
   "cell_type": "code",
   "execution_count": null,
   "metadata": {},
   "outputs": [],
   "source": []
  }
 ],
 "metadata": {
  "kernelspec": {
   "display_name": "Python 3 (ipykernel)",
   "language": "python",
   "name": "python3"
  },
  "language_info": {
   "codemirror_mode": {
    "name": "ipython",
    "version": 3
   },
   "file_extension": ".py",
   "mimetype": "text/x-python",
   "name": "python",
   "nbconvert_exporter": "python",
   "pygments_lexer": "ipython3",
   "version": "3.9.16"
  },
  "vscode": {
   "interpreter": {
    "hash": "eb8d1ded7c87c6f9c253b40add648304d6b51d2e38393955e855effc7e6f899a"
   }
  }
 },
 "nbformat": 4,
 "nbformat_minor": 2
}
