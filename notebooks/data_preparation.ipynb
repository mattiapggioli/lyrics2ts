{
 "cells": [
  {
   "cell_type": "markdown",
   "metadata": {},
   "source": [
    "# Data Preparation"
   ]
  },
  {
   "cell_type": "code",
   "execution_count": 1,
   "metadata": {},
   "outputs": [],
   "source": [
    "%matplotlib inline\n",
    "import pandas as pd\n",
    "import numpy as np\n",
    "from matplotlib import pyplot as plt\n",
    "import seaborn as sns\n",
    "from tqdm import tqdm\n",
    "from sklearn.preprocessing import MultiLabelBinarizer\n",
    "from itertools import combinations\n",
    "import random\n",
    "import re\n",
    "from gensim.utils import tokenize\n",
    "from sklearn.model_selection import train_test_split"
   ]
  },
  {
   "cell_type": "code",
   "execution_count": 2,
   "metadata": {},
   "outputs": [
    {
     "data": {
      "text/html": [
       "<div>\n",
       "<style scoped>\n",
       "    .dataframe tbody tr th:only-of-type {\n",
       "        vertical-align: middle;\n",
       "    }\n",
       "\n",
       "    .dataframe tbody tr th {\n",
       "        vertical-align: top;\n",
       "    }\n",
       "\n",
       "    .dataframe thead th {\n",
       "        text-align: right;\n",
       "    }\n",
       "</style>\n",
       "<table border=\"1\" class=\"dataframe\">\n",
       "  <thead>\n",
       "    <tr style=\"text-align: right;\">\n",
       "      <th></th>\n",
       "      <th>ALink</th>\n",
       "      <th>SName</th>\n",
       "      <th>SLink</th>\n",
       "      <th>Lyric</th>\n",
       "      <th>language</th>\n",
       "    </tr>\n",
       "  </thead>\n",
       "  <tbody>\n",
       "    <tr>\n",
       "      <th>0</th>\n",
       "      <td>/ivete-sangalo/</td>\n",
       "      <td>Arerê</td>\n",
       "      <td>/ivete-sangalo/arere.html</td>\n",
       "      <td>Tudo o que eu quero nessa vida,\\nToda vida, é\\...</td>\n",
       "      <td>pt</td>\n",
       "    </tr>\n",
       "    <tr>\n",
       "      <th>1</th>\n",
       "      <td>/ivete-sangalo/</td>\n",
       "      <td>Se Eu Não Te Amasse Tanto Assim</td>\n",
       "      <td>/ivete-sangalo/se-eu-nao-te-amasse-tanto-assim...</td>\n",
       "      <td>Meu coração\\nSem direção\\nVoando só por voar\\n...</td>\n",
       "      <td>pt</td>\n",
       "    </tr>\n",
       "    <tr>\n",
       "      <th>2</th>\n",
       "      <td>/ivete-sangalo/</td>\n",
       "      <td>Céu da Boca</td>\n",
       "      <td>/ivete-sangalo/chupa-toda.html</td>\n",
       "      <td>É de babaixá!\\nÉ de balacubaca!\\nÉ de babaixá!...</td>\n",
       "      <td>pt</td>\n",
       "    </tr>\n",
       "    <tr>\n",
       "      <th>3</th>\n",
       "      <td>/ivete-sangalo/</td>\n",
       "      <td>Quando A Chuva Passar</td>\n",
       "      <td>/ivete-sangalo/quando-a-chuva-passar.html</td>\n",
       "      <td>Quando a chuva passar\\n\\nPra quê falar\\nSe voc...</td>\n",
       "      <td>pt</td>\n",
       "    </tr>\n",
       "    <tr>\n",
       "      <th>4</th>\n",
       "      <td>/ivete-sangalo/</td>\n",
       "      <td>Sorte Grande</td>\n",
       "      <td>/ivete-sangalo/sorte-grande.html</td>\n",
       "      <td>A minha sorte grande foi você cair do céu\\nMin...</td>\n",
       "      <td>pt</td>\n",
       "    </tr>\n",
       "  </tbody>\n",
       "</table>\n",
       "</div>"
      ],
      "text/plain": [
       "             ALink                            SName  \\\n",
       "0  /ivete-sangalo/                            Arerê   \n",
       "1  /ivete-sangalo/  Se Eu Não Te Amasse Tanto Assim   \n",
       "2  /ivete-sangalo/                      Céu da Boca   \n",
       "3  /ivete-sangalo/            Quando A Chuva Passar   \n",
       "4  /ivete-sangalo/                     Sorte Grande   \n",
       "\n",
       "                                               SLink  \\\n",
       "0                          /ivete-sangalo/arere.html   \n",
       "1  /ivete-sangalo/se-eu-nao-te-amasse-tanto-assim...   \n",
       "2                     /ivete-sangalo/chupa-toda.html   \n",
       "3          /ivete-sangalo/quando-a-chuva-passar.html   \n",
       "4                   /ivete-sangalo/sorte-grande.html   \n",
       "\n",
       "                                               Lyric language  \n",
       "0  Tudo o que eu quero nessa vida,\\nToda vida, é\\...       pt  \n",
       "1  Meu coração\\nSem direção\\nVoando só por voar\\n...       pt  \n",
       "2  É de babaixá!\\nÉ de balacubaca!\\nÉ de babaixá!...       pt  \n",
       "3  Quando a chuva passar\\n\\nPra quê falar\\nSe voc...       pt  \n",
       "4  A minha sorte grande foi você cair do céu\\nMin...       pt  "
      ]
     },
     "execution_count": 2,
     "metadata": {},
     "output_type": "execute_result"
    }
   ],
   "source": [
    "df = pd.read_csv('../data/raw-data/lyrics-data.csv')\n",
    "df.head()"
   ]
  },
  {
   "cell_type": "code",
   "execution_count": 3,
   "metadata": {},
   "outputs": [
    {
     "data": {
      "text/html": [
       "<div>\n",
       "<style scoped>\n",
       "    .dataframe tbody tr th:only-of-type {\n",
       "        vertical-align: middle;\n",
       "    }\n",
       "\n",
       "    .dataframe tbody tr th {\n",
       "        vertical-align: top;\n",
       "    }\n",
       "\n",
       "    .dataframe thead th {\n",
       "        text-align: right;\n",
       "    }\n",
       "</style>\n",
       "<table border=\"1\" class=\"dataframe\">\n",
       "  <thead>\n",
       "    <tr style=\"text-align: right;\">\n",
       "      <th></th>\n",
       "      <th>Artist</th>\n",
       "      <th>Genres</th>\n",
       "      <th>Songs</th>\n",
       "      <th>Popularity</th>\n",
       "      <th>Link</th>\n",
       "    </tr>\n",
       "  </thead>\n",
       "  <tbody>\n",
       "    <tr>\n",
       "      <th>0</th>\n",
       "      <td>Ivete Sangalo</td>\n",
       "      <td>Pop; Axé; Romântico</td>\n",
       "      <td>313.0</td>\n",
       "      <td>4.4</td>\n",
       "      <td>/ivete-sangalo/</td>\n",
       "    </tr>\n",
       "    <tr>\n",
       "      <th>1</th>\n",
       "      <td>Chiclete com Banana</td>\n",
       "      <td>Axé</td>\n",
       "      <td>268.0</td>\n",
       "      <td>3.8</td>\n",
       "      <td>/chiclete-com-banana/</td>\n",
       "    </tr>\n",
       "    <tr>\n",
       "      <th>2</th>\n",
       "      <td>Banda Eva</td>\n",
       "      <td>Axé; Romântico; Reggae</td>\n",
       "      <td>215.0</td>\n",
       "      <td>2.3</td>\n",
       "      <td>/banda-eva/</td>\n",
       "    </tr>\n",
       "    <tr>\n",
       "      <th>3</th>\n",
       "      <td>É O Tchan</td>\n",
       "      <td>Axé</td>\n",
       "      <td>129.0</td>\n",
       "      <td>1.6</td>\n",
       "      <td>/e-o-tchan/</td>\n",
       "    </tr>\n",
       "    <tr>\n",
       "      <th>4</th>\n",
       "      <td>Claudia Leitte</td>\n",
       "      <td>Pop; Axé; Romântico</td>\n",
       "      <td>167.0</td>\n",
       "      <td>1.5</td>\n",
       "      <td>/claudia-leitte/</td>\n",
       "    </tr>\n",
       "  </tbody>\n",
       "</table>\n",
       "</div>"
      ],
      "text/plain": [
       "                Artist                  Genres  Songs  Popularity  \\\n",
       "0        Ivete Sangalo     Pop; Axé; Romântico  313.0         4.4   \n",
       "1  Chiclete com Banana                     Axé  268.0         3.8   \n",
       "2            Banda Eva  Axé; Romântico; Reggae  215.0         2.3   \n",
       "3            É O Tchan                     Axé  129.0         1.6   \n",
       "4       Claudia Leitte     Pop; Axé; Romântico  167.0         1.5   \n",
       "\n",
       "                    Link  \n",
       "0        /ivete-sangalo/  \n",
       "1  /chiclete-com-banana/  \n",
       "2            /banda-eva/  \n",
       "3            /e-o-tchan/  \n",
       "4       /claudia-leitte/  "
      ]
     },
     "execution_count": 3,
     "metadata": {},
     "output_type": "execute_result"
    }
   ],
   "source": [
    "df_art = pd.read_csv('../data/raw-data/artists-data.csv')\n",
    "df_art.head()"
   ]
  },
  {
   "cell_type": "code",
   "execution_count": 4,
   "metadata": {},
   "outputs": [],
   "source": [
    "df = df[df['language']=='en'].reset_index(drop=True)"
   ]
  },
  {
   "attachments": {},
   "cell_type": "markdown",
   "metadata": {},
   "source": [
    "## Genre"
   ]
  },
  {
   "cell_type": "code",
   "execution_count": 5,
   "metadata": {},
   "outputs": [
    {
     "name": "stderr",
     "output_type": "stream",
     "text": [
      "100%|██████████| 191814/191814 [02:48<00:00, 1137.90it/s]\n"
     ]
    }
   ],
   "source": [
    "genres = []\n",
    "for artist_id in tqdm(df['ALink']):    \n",
    "    artist_row = df_art[df_art['Link']==artist_id].reset_index()\n",
    "    try:\n",
    "        genres_in_artist = artist_row['Genres'][0].split('; ')        \n",
    "    except:\n",
    "        genres_in_artist = []\n",
    "    genres.append(genres_in_artist)"
   ]
  },
  {
   "cell_type": "code",
   "execution_count": 6,
   "metadata": {},
   "outputs": [],
   "source": [
    "df.drop(columns = ['ALink', 'SName', 'SLink', 'language'], inplace=True)\n",
    "df.rename(columns={'Lyric': 'lyrics'}, inplace=True)"
   ]
  },
  {
   "cell_type": "code",
   "execution_count": 7,
   "metadata": {},
   "outputs": [
    {
     "data": {
      "text/html": [
       "<div>\n",
       "<style scoped>\n",
       "    .dataframe tbody tr th:only-of-type {\n",
       "        vertical-align: middle;\n",
       "    }\n",
       "\n",
       "    .dataframe tbody tr th {\n",
       "        vertical-align: top;\n",
       "    }\n",
       "\n",
       "    .dataframe thead th {\n",
       "        text-align: right;\n",
       "    }\n",
       "</style>\n",
       "<table border=\"1\" class=\"dataframe\">\n",
       "  <thead>\n",
       "    <tr style=\"text-align: right;\">\n",
       "      <th></th>\n",
       "      <th>Axé</th>\n",
       "      <th>Black Music</th>\n",
       "      <th>Blues</th>\n",
       "      <th>Bossa Nova</th>\n",
       "      <th>COLETÂNEA</th>\n",
       "      <th>Chillout</th>\n",
       "      <th>Classic Rock</th>\n",
       "      <th>Clássico</th>\n",
       "      <th>Country</th>\n",
       "      <th>Dance</th>\n",
       "      <th>...</th>\n",
       "      <th>Soul Music</th>\n",
       "      <th>Surf Music</th>\n",
       "      <th>Tecnopop</th>\n",
       "      <th>Trance</th>\n",
       "      <th>Trap</th>\n",
       "      <th>Trilha Sonora</th>\n",
       "      <th>Trip-Hop</th>\n",
       "      <th>Tropical House</th>\n",
       "      <th>Velha Guarda</th>\n",
       "      <th>World Music</th>\n",
       "    </tr>\n",
       "  </thead>\n",
       "  <tbody>\n",
       "    <tr>\n",
       "      <th>0</th>\n",
       "      <td>1</td>\n",
       "      <td>0</td>\n",
       "      <td>0</td>\n",
       "      <td>0</td>\n",
       "      <td>0</td>\n",
       "      <td>0</td>\n",
       "      <td>0</td>\n",
       "      <td>0</td>\n",
       "      <td>0</td>\n",
       "      <td>0</td>\n",
       "      <td>...</td>\n",
       "      <td>0</td>\n",
       "      <td>0</td>\n",
       "      <td>0</td>\n",
       "      <td>0</td>\n",
       "      <td>0</td>\n",
       "      <td>0</td>\n",
       "      <td>0</td>\n",
       "      <td>0</td>\n",
       "      <td>0</td>\n",
       "      <td>0</td>\n",
       "    </tr>\n",
       "    <tr>\n",
       "      <th>1</th>\n",
       "      <td>1</td>\n",
       "      <td>0</td>\n",
       "      <td>0</td>\n",
       "      <td>0</td>\n",
       "      <td>0</td>\n",
       "      <td>0</td>\n",
       "      <td>0</td>\n",
       "      <td>0</td>\n",
       "      <td>0</td>\n",
       "      <td>0</td>\n",
       "      <td>...</td>\n",
       "      <td>0</td>\n",
       "      <td>0</td>\n",
       "      <td>0</td>\n",
       "      <td>0</td>\n",
       "      <td>0</td>\n",
       "      <td>0</td>\n",
       "      <td>0</td>\n",
       "      <td>0</td>\n",
       "      <td>0</td>\n",
       "      <td>0</td>\n",
       "    </tr>\n",
       "    <tr>\n",
       "      <th>2</th>\n",
       "      <td>1</td>\n",
       "      <td>0</td>\n",
       "      <td>0</td>\n",
       "      <td>0</td>\n",
       "      <td>0</td>\n",
       "      <td>0</td>\n",
       "      <td>0</td>\n",
       "      <td>0</td>\n",
       "      <td>0</td>\n",
       "      <td>0</td>\n",
       "      <td>...</td>\n",
       "      <td>0</td>\n",
       "      <td>0</td>\n",
       "      <td>0</td>\n",
       "      <td>0</td>\n",
       "      <td>0</td>\n",
       "      <td>0</td>\n",
       "      <td>0</td>\n",
       "      <td>0</td>\n",
       "      <td>0</td>\n",
       "      <td>0</td>\n",
       "    </tr>\n",
       "    <tr>\n",
       "      <th>3</th>\n",
       "      <td>1</td>\n",
       "      <td>0</td>\n",
       "      <td>0</td>\n",
       "      <td>0</td>\n",
       "      <td>0</td>\n",
       "      <td>0</td>\n",
       "      <td>0</td>\n",
       "      <td>0</td>\n",
       "      <td>0</td>\n",
       "      <td>0</td>\n",
       "      <td>...</td>\n",
       "      <td>0</td>\n",
       "      <td>0</td>\n",
       "      <td>0</td>\n",
       "      <td>0</td>\n",
       "      <td>0</td>\n",
       "      <td>0</td>\n",
       "      <td>0</td>\n",
       "      <td>0</td>\n",
       "      <td>0</td>\n",
       "      <td>0</td>\n",
       "    </tr>\n",
       "    <tr>\n",
       "      <th>4</th>\n",
       "      <td>1</td>\n",
       "      <td>0</td>\n",
       "      <td>0</td>\n",
       "      <td>0</td>\n",
       "      <td>0</td>\n",
       "      <td>0</td>\n",
       "      <td>0</td>\n",
       "      <td>0</td>\n",
       "      <td>0</td>\n",
       "      <td>0</td>\n",
       "      <td>...</td>\n",
       "      <td>0</td>\n",
       "      <td>0</td>\n",
       "      <td>0</td>\n",
       "      <td>0</td>\n",
       "      <td>0</td>\n",
       "      <td>0</td>\n",
       "      <td>0</td>\n",
       "      <td>0</td>\n",
       "      <td>0</td>\n",
       "      <td>0</td>\n",
       "    </tr>\n",
       "  </tbody>\n",
       "</table>\n",
       "<p>5 rows × 75 columns</p>\n",
       "</div>"
      ],
      "text/plain": [
       "   Axé  Black Music  Blues  Bossa Nova  COLETÂNEA  Chillout  Classic Rock  \\\n",
       "0    1            0      0           0          0         0             0   \n",
       "1    1            0      0           0          0         0             0   \n",
       "2    1            0      0           0          0         0             0   \n",
       "3    1            0      0           0          0         0             0   \n",
       "4    1            0      0           0          0         0             0   \n",
       "\n",
       "   Clássico  Country  Dance  ...  Soul Music  Surf Music  Tecnopop  Trance  \\\n",
       "0         0        0      0  ...           0           0         0       0   \n",
       "1         0        0      0  ...           0           0         0       0   \n",
       "2         0        0      0  ...           0           0         0       0   \n",
       "3         0        0      0  ...           0           0         0       0   \n",
       "4         0        0      0  ...           0           0         0       0   \n",
       "\n",
       "   Trap  Trilha Sonora  Trip-Hop  Tropical House  Velha Guarda  World Music  \n",
       "0     0              0         0               0             0            0  \n",
       "1     0              0         0               0             0            0  \n",
       "2     0              0         0               0             0            0  \n",
       "3     0              0         0               0             0            0  \n",
       "4     0              0         0               0             0            0  \n",
       "\n",
       "[5 rows x 75 columns]"
      ]
     },
     "execution_count": 7,
     "metadata": {},
     "output_type": "execute_result"
    }
   ],
   "source": [
    "genres = pd.Series(genres)\n",
    "# Convert nested list into one-hot-encoding\n",
    "mlb = MultiLabelBinarizer()\n",
    "genres_one_hot = pd.DataFrame(mlb.fit_transform(genres),\n",
    "                    columns=mlb.classes_,\n",
    "                    index=genres.index)\n",
    "genres_one_hot.head()"
   ]
  },
  {
   "cell_type": "code",
   "execution_count": 8,
   "metadata": {},
   "outputs": [
    {
     "data": {
      "text/plain": [
       "Rock           63717\n",
       "Pop            33571\n",
       "Pop/Rock       26360\n",
       "Heavy Metal    21759\n",
       "Hip Hop        20902\n",
       "Indie          20134\n",
       "Romântico      17947\n",
       "Hard Rock      17250\n",
       "Rap            17114\n",
       "R&B            15581\n",
       "dtype: int64"
      ]
     },
     "execution_count": 8,
     "metadata": {},
     "output_type": "execute_result"
    }
   ],
   "source": [
    "genres_one_hot.sum().sort_values(ascending=False)[:10]"
   ]
  },
  {
   "cell_type": "code",
   "execution_count": 9,
   "metadata": {},
   "outputs": [],
   "source": [
    "# Keep only the 8 most frequent genres (some of them will also be merged)\n",
    "genres2keep = genres_one_hot.sum().sort_values(ascending=False)[:9].keys()\n",
    "\n",
    "# Format labels\n",
    "format_label = lambda s: s.lower().replace(' ', '-').replace('/', '-')\n",
    "\n",
    "genres_one_hot = genres_one_hot[genres2keep]\n",
    "genres_one_hot.rename(columns = dict([(\n",
    "    genre_label, format_label(genre_label)) \n",
    "    for genre_label in genres_one_hot.keys()]), inplace=True)"
   ]
  },
  {
   "cell_type": "code",
   "execution_count": 10,
   "metadata": {},
   "outputs": [],
   "source": [
    "df = pd.concat([df, genres_one_hot], axis=1)"
   ]
  },
  {
   "cell_type": "code",
   "execution_count": 11,
   "metadata": {},
   "outputs": [],
   "source": [
    "genre_labels = [label for label in df.keys() if label != 'lyrics']\n",
    "\n",
    "# Remove lyrics that do not fit into the main genres\n",
    "df.drop(df[df[genre_labels].sum(axis=1) == 0].index, inplace=True)"
   ]
  },
  {
   "cell_type": "code",
   "execution_count": 12,
   "metadata": {},
   "outputs": [
    {
     "data": {
      "text/plain": [
       "[(('hip-hop', 'rap'), 0.5317297231959386),\n",
       " (('heavy-metal', 'hard-rock'), 0.29537756525204223),\n",
       " (('rock', 'hard-rock'), 0.2094735898661568),\n",
       " (('pop', 'pop-rock'), 0.20258854218922445),\n",
       " (('rock', 'heavy-metal'), 0.15670672296200064),\n",
       " (('pop', 'romântico'), 0.13970311704975333),\n",
       " (('rock', 'pop-rock'), 0.13782431852057703),\n",
       " (('pop-rock', 'romântico'), 0.10936678434612784),\n",
       " (('rock', 'indie'), 0.10295433021151215),\n",
       " (('pop', 'hip-hop'), 0.058550330353672755),\n",
       " (('rock', 'romântico'), 0.0391540585593037),\n",
       " (('pop-rock', 'indie'), 0.03575486199291586),\n",
       " (('pop', 'rap'), 0.03301742586365026),\n",
       " (('pop', 'indie'), 0.02956118321415563),\n",
       " (('rock', 'pop'), 0.029502645502645503),\n",
       " (('indie', 'romântico'), 0.029299672946455118),\n",
       " (('pop-rock', 'hard-rock'), 0.012772875058058523),\n",
       " (('rock', 'hip-hop'), 0.007644950403086559),\n",
       " (('indie', 'hard-rock'), 0.007030681787571048),\n",
       " (('romântico', 'hard-rock'), 0.005513655582219175)]"
      ]
     },
     "execution_count": 12,
     "metadata": {},
     "output_type": "execute_result"
    }
   ],
   "source": [
    "jaccard_similarity = lambda x, y: np.logical_and(x, y).sum() / np.logical_or(x, y).sum()\n",
    "\n",
    "genre_pairs = list(combinations(genre_labels, 2))\n",
    "\n",
    "genre_similarities = [jaccard_similarity(df[genre_pair[0]], df[genre_pair[1]]) \n",
    "    for genre_pair in genre_pairs]\n",
    "\n",
    "sorted(list(zip(genre_pairs, genre_similarities)),\n",
    "    reverse=True, key=lambda x: x[1])[:20]"
   ]
  },
  {
   "cell_type": "code",
   "execution_count": 13,
   "metadata": {},
   "outputs": [],
   "source": [
    "# Merge together rap and hip hop\n",
    "df['rap'] = np.logical_or(df['rap'], df['hip-hop']).replace({True: 1, False: 0})\n",
    "# Drop columns\n",
    "df.drop(columns=['romântico'], inplace=True)\n",
    "df.drop(columns=['hip-hop'], inplace=True)\n",
    "# Remove again lyrics that do not fit into the genres kept\n",
    "genre_labels = [label for label in df.keys() if label != 'lyrics']\n",
    "df.drop(df[df[genre_labels].sum(axis=1) == 0].index, inplace=True)"
   ]
  },
  {
   "cell_type": "code",
   "execution_count": 14,
   "metadata": {},
   "outputs": [
    {
     "name": "stdout",
     "output_type": "stream",
     "text": [
      "Number of lyrics 143165\n"
     ]
    }
   ],
   "source": [
    "df.reset_index(inplace=True, drop=True)\n",
    "print(f'Number of lyrics {len(df)}')"
   ]
  },
  {
   "attachments": {},
   "cell_type": "markdown",
   "metadata": {},
   "source": [
    "## Text Cleaning"
   ]
  },
  {
   "cell_type": "code",
   "execution_count": 15,
   "metadata": {},
   "outputs": [
    {
     "name": "stdout",
     "output_type": "stream",
     "text": [
      "Duplicates with the same genre: 646\n",
      "Duplicates with different genres: 555\n"
     ]
    }
   ],
   "source": [
    "# Duplicates are songs with multiple artists (e.g. a featuring)\n",
    "# Remove duplicates having the same genre\n",
    "print(f'Duplicates with the same genre: {df.duplicated().sum()}')\n",
    "df.drop_duplicates(inplace=True)\n",
    "# Remove lyrics with different genres among duplicates:\n",
    "print(f'Duplicates with different genres: {df.duplicated(subset=\"lyrics\").sum()}')\n",
    "df.drop_duplicates(subset=\"lyrics\", keep=False, inplace=True)"
   ]
  },
  {
   "cell_type": "code",
   "execution_count": 16,
   "metadata": {},
   "outputs": [
    {
     "data": {
      "text/plain": [
       "\"Mother never told me\\nthat the monsters weren't real\\nsister never warned me 'bout your type\\nbut i'm not scared of u\\njust because you're different from all the rest\\nI know just what 2 do\\nwith an ogre in a dress\\n\\nChorus:\\nangel, u can’t hide the little devil inside,\\nangel, u’ve lost your pride 2 the devil inside,\\nangel, u can’t lose with the devil by your side,\\nangel, u can’t choose between the devil in your mind\\n\\nfather says he remembers meeting 1 of your kind\\nbrother says with shame he went down on u\\ny don't u see the shame of the ways u wanna bring ‘em down,\\nthis so called fantasy, shatters everyone, everything around\""
      ]
     },
     "execution_count": 16,
     "metadata": {},
     "output_type": "execute_result"
    }
   ],
   "source": [
    "rand = random.choice(df['lyrics'])\n",
    "rand"
   ]
  },
  {
   "cell_type": "code",
   "execution_count": 17,
   "metadata": {},
   "outputs": [],
   "source": [
    "def clean_text(lyrics):\n",
    "    lyrics = re.sub(r'\\((.+?)?\\)', '', lyrics)\n",
    "    lyrics = re.sub(r'\\[(.+?)?\\]', '', lyrics)\n",
    "    lyrics = re.sub(r'\\{(.+?)?\\}', '', lyrics)\n",
    "    lyrics = re.sub(r'\\n+', '\\n', lyrics)\n",
    "    lyrics = re.sub(r'^[^a-zA-Z]+$', '', lyrics, flags=re.MULTILINE)\n",
    "    return lyrics"
   ]
  },
  {
   "cell_type": "code",
   "execution_count": 18,
   "metadata": {},
   "outputs": [
    {
     "data": {
      "text/plain": [
       "\"I'll do anything you want me to\\nDo\\nI'm getting off because I'm being used\\nBy you\\nYou could do anything you wanted to\\nDo\\nYou could do anything you wanted to\\nOoh, get up get ready\\nOoh, get up be ready\\nOoh, get up get ready\\nGet ready\\nGet ready\\nFor a heart attack\\nA heart attack\\nIt's a heart attack\\nHeart attack\\nCan't wait my turn; my fear is looping\\nMy thoughts get lost; the air is putrid\\nYou can do anything you wanna do\\nDo\\nYou can do anything you wanna do\\nOoh, get up get ready\\nOoh, get up be ready\\nOoh, get up get ready\\nGet ready\\nGet ready\\nOoh, get up get ready\\nOoh, get up be ready\\nOoh, get up get ready\\nGet ready\\nGet ready\\nFor a heart attack\\nA heart attack\\nIt's a heart attack\\nHeart attack\""
      ]
     },
     "execution_count": 18,
     "metadata": {},
     "output_type": "execute_result"
    }
   ],
   "source": [
    "rand = random.choice(df['lyrics'])\n",
    "clean_text(rand)"
   ]
  },
  {
   "cell_type": "code",
   "execution_count": 19,
   "metadata": {},
   "outputs": [
    {
     "name": "stderr",
     "output_type": "stream",
     "text": [
      "100%|██████████| 141445/141445 [00:06<00:00, 22955.90it/s]\n"
     ]
    }
   ],
   "source": [
    "df['lyrics'] = [clean_text(lyrics) for lyrics in tqdm(df['lyrics'])]"
   ]
  },
  {
   "cell_type": "code",
   "execution_count": 20,
   "metadata": {},
   "outputs": [],
   "source": [
    "# Split lyrics in verses consider \\n as sep, filter empty element in list (it's the result of '\\n\\n' or spaces)\n",
    "df['lyrics'] = list(map(lambda x: [verse for verse in x.split('\\n') if verse.strip()], df['lyrics']))"
   ]
  },
  {
   "cell_type": "code",
   "execution_count": 21,
   "metadata": {},
   "outputs": [],
   "source": [
    "# Count number of verses\n",
    "df['verses'] = df['lyrics'].apply(len)"
   ]
  },
  {
   "cell_type": "code",
   "execution_count": 22,
   "metadata": {},
   "outputs": [
    {
     "data": {
      "image/png": "[encoded data removed]",
      "text/plain": [
       "<Figure size 640x480 with 1 Axes>"
      ]
     },
     "metadata": {},
     "output_type": "display_data"
    }
   ],
   "source": [
    "fig, ax = plt.subplots()\n",
    "ax = sns.histplot(data=df, x='verses', bins=200)\n",
    "ax.set_xlabel('Verses')\n",
    "ax.set_ylabel('Lyrics')\n",
    "ax.set_title('Lyrics by number of verses')\n",
    "# There seems to be outliers\n",
    "ax.set_xlim([0, 200])\n",
    "plt.show()"
   ]
  },
  {
   "cell_type": "code",
   "execution_count": 23,
   "metadata": {},
   "outputs": [],
   "source": [
    "df = df[df['verses']>20]"
   ]
  },
  {
   "cell_type": "code",
   "execution_count": 24,
   "metadata": {},
   "outputs": [
    {
     "name": "stdout",
     "output_type": "stream",
     "text": [
      "Number of lyrics 119441\n"
     ]
    }
   ],
   "source": [
    "print(f'Number of lyrics {len(df)}')"
   ]
  },
  {
   "attachments": {},
   "cell_type": "markdown",
   "metadata": {},
   "source": [
    "## Genre Label Filtering"
   ]
  },
  {
   "cell_type": "code",
   "execution_count": 25,
   "metadata": {},
   "outputs": [
    {
     "data": {
      "text/plain": [
       "rock           19928\n",
       "pop            15989\n",
       "pop-rock        5151\n",
       "heavy-metal     6201\n",
       "indie           6737\n",
       "hard-rock       1186\n",
       "rap            19053\n",
       "dtype: int64"
      ]
     },
     "execution_count": 25,
     "metadata": {},
     "output_type": "execute_result"
    }
   ],
   "source": [
    "# Get unique labels and compute value counts\n",
    "df[df[genre_labels].sum(axis=1) == 1][genre_labels].sum(axis=0)"
   ]
  },
  {
   "cell_type": "code",
   "execution_count": 26,
   "metadata": {},
   "outputs": [],
   "source": [
    "# Drop songs with multiple genres\n",
    "df.drop(df[df[genre_labels].sum(axis=1) > 1].index, inplace=True)\n",
    "# Keep only rock, pop and rap lyrics:\n",
    "# 1) Remove columns\n",
    "df.drop(columns=['pop-rock','heavy-metal','indie','hard-rock'], inplace=True)\n",
    "# 2) Remove rows\n",
    "genre_labels = ['rock','pop','rap']\n",
    "df.drop(df[df[genre_labels].sum(axis=1) == 0].index, inplace=True)"
   ]
  },
  {
   "cell_type": "code",
   "execution_count": 27,
   "metadata": {},
   "outputs": [
    {
     "data": {
      "text/html": [
       "<div>\n",
       "<style scoped>\n",
       "    .dataframe tbody tr th:only-of-type {\n",
       "        vertical-align: middle;\n",
       "    }\n",
       "\n",
       "    .dataframe tbody tr th {\n",
       "        vertical-align: top;\n",
       "    }\n",
       "\n",
       "    .dataframe thead th {\n",
       "        text-align: right;\n",
       "    }\n",
       "</style>\n",
       "<table border=\"1\" class=\"dataframe\">\n",
       "  <thead>\n",
       "    <tr style=\"text-align: right;\">\n",
       "      <th></th>\n",
       "      <th>lyrics</th>\n",
       "      <th>verses</th>\n",
       "      <th>genre</th>\n",
       "    </tr>\n",
       "  </thead>\n",
       "  <tbody>\n",
       "    <tr>\n",
       "      <th>0</th>\n",
       "      <td>[I feel so unsure, As I take your hand and lea...</td>\n",
       "      <td>47</td>\n",
       "      <td>pop</td>\n",
       "    </tr>\n",
       "    <tr>\n",
       "      <th>1</th>\n",
       "      <td>[Don't let them fool, ya, Or even try to schoo...</td>\n",
       "      <td>28</td>\n",
       "      <td>pop</td>\n",
       "    </tr>\n",
       "    <tr>\n",
       "      <th>2</th>\n",
       "      <td>[Baby, let's cruise, away from here, Don't be ...</td>\n",
       "      <td>26</td>\n",
       "      <td>pop</td>\n",
       "    </tr>\n",
       "    <tr>\n",
       "      <th>3</th>\n",
       "      <td>[Know it sounds funny, But, I just can't stand...</td>\n",
       "      <td>31</td>\n",
       "      <td>pop</td>\n",
       "    </tr>\n",
       "    <tr>\n",
       "      <th>4</th>\n",
       "      <td>[You've got that look again, The one I hoped I...</td>\n",
       "      <td>35</td>\n",
       "      <td>pop</td>\n",
       "    </tr>\n",
       "  </tbody>\n",
       "</table>\n",
       "</div>"
      ],
      "text/plain": [
       "                                              lyrics  verses genre\n",
       "0  [I feel so unsure, As I take your hand and lea...      47   pop\n",
       "1  [Don't let them fool, ya, Or even try to schoo...      28   pop\n",
       "2  [Baby, let's cruise, away from here, Don't be ...      26   pop\n",
       "3  [Know it sounds funny, But, I just can't stand...      31   pop\n",
       "4  [You've got that look again, The one I hoped I...      35   pop"
      ]
     },
     "execution_count": 27,
     "metadata": {},
     "output_type": "execute_result"
    }
   ],
   "source": [
    "# Map again dummy variables to labels\n",
    "df['genre'] = df[['rock', 'pop', 'rap']].apply(lambda x: 'rock' if x[0] == 1 else ('pop' if x[1] == 1 else ('rap' if x[2] == 1 else None)), axis=1)\n",
    "\n",
    "# Drop dummy variables\n",
    "df = df.drop(columns=['rock', 'pop', 'rap'])\n",
    "\n",
    "df.head()"
   ]
  },
  {
   "cell_type": "code",
   "execution_count": 28,
   "metadata": {},
   "outputs": [
    {
     "data": {
      "text/plain": [
       "rock    19928\n",
       "rap     19053\n",
       "pop     15989\n",
       "Name: genre, dtype: int64"
      ]
     },
     "execution_count": 28,
     "metadata": {},
     "output_type": "execute_result"
    }
   ],
   "source": [
    "df['genre'].value_counts()"
   ]
  },
  {
   "attachments": {},
   "cell_type": "markdown",
   "metadata": {},
   "source": [
    "## Outlier Detection"
   ]
  },
  {
   "cell_type": "code",
   "execution_count": 29,
   "metadata": {},
   "outputs": [
    {
     "data": {
      "image/png": "[encoded data removed]",
      "text/plain": [
       "<Figure size 640x480 with 1 Axes>"
      ]
     },
     "metadata": {},
     "output_type": "display_data"
    }
   ],
   "source": [
    "fig, ax = plt.subplots()\n",
    "ax = sns.boxplot(data=df, x='verses', y='genre')\n",
    "ax.set_xlabel('Verses')\n",
    "ax.set_ylabel('Lyrics')\n",
    "ax.set_title('Lyrics by number of verses')\n",
    "plt.show()"
   ]
  },
  {
   "cell_type": "code",
   "execution_count": 30,
   "metadata": {},
   "outputs": [],
   "source": [
    "# Compute the IQR for each genre\n",
    "grouped = df.groupby('genre')\n",
    "# Compute IQR for each group\n",
    "iqr = grouped.apply(lambda x: x['verses'].quantile(0.75) - x['verses'].quantile(0.25))\n",
    "# Compute upper bounds for each group\n",
    "upper_bound = grouped.apply(lambda x: x['verses'].quantile(0.75) + 1.5 * iqr[x.name])\n",
    "# Reset the index of the upper_bound series to match the labels of the grouped DataFrame\n",
    "upper_bound = upper_bound\n",
    "# Mark outliers\n",
    "df['outlier'] = np.where(df['verses'] > upper_bound[df['genre']].values, True, False)\n",
    "# Get the index values of the outlier rows\n",
    "outlier_index = df[df['outlier'] == True].index\n"
   ]
  },
  {
   "cell_type": "code",
   "execution_count": 31,
   "metadata": {},
   "outputs": [
    {
     "data": {
      "text/plain": [
       "genre\n",
       "pop      93.0\n",
       "rap     131.0\n",
       "rock     67.0\n",
       "dtype: float64"
      ]
     },
     "execution_count": 31,
     "metadata": {},
     "output_type": "execute_result"
    }
   ],
   "source": [
    "upper_bound"
   ]
  },
  {
   "cell_type": "code",
   "execution_count": 32,
   "metadata": {},
   "outputs": [
    {
     "name": "stdout",
     "output_type": "stream",
     "text": [
      "1474\n"
     ]
    }
   ],
   "source": [
    "print(len(outlier_index))"
   ]
  },
  {
   "cell_type": "code",
   "execution_count": 33,
   "metadata": {},
   "outputs": [],
   "source": [
    "# Drop the outlier rows from the DataFrame\n",
    "df = df.drop(outlier_index)"
   ]
  },
  {
   "cell_type": "code",
   "execution_count": 34,
   "metadata": {},
   "outputs": [
    {
     "data": {
      "text/plain": [
       "rock    19259\n",
       "rap     18611\n",
       "pop     15626\n",
       "Name: genre, dtype: int64"
      ]
     },
     "execution_count": 34,
     "metadata": {},
     "output_type": "execute_result"
    }
   ],
   "source": [
    "df['genre'].value_counts()"
   ]
  },
  {
   "cell_type": "code",
   "execution_count": 35,
   "metadata": {},
   "outputs": [
    {
     "data": {
      "image/png": "[encoded data removed]",
      "text/plain": [
       "<Figure size 640x480 with 1 Axes>"
      ]
     },
     "metadata": {},
     "output_type": "display_data"
    }
   ],
   "source": [
    "# Plot distribution\n",
    "fig, ax = plt.subplots()\n",
    "ax = sns.histplot(data=df, x='verses', bins=30)\n",
    "ax.set_xlabel('Verses')\n",
    "ax.set_ylabel('Lyrics')\n",
    "ax.set_title('Lyrics by number of verses')\n",
    "ax.set_xlim([0, 100])\n",
    "plt.show()"
   ]
  },
  {
   "cell_type": "code",
   "execution_count": 36,
   "metadata": {},
   "outputs": [
    {
     "data": {
      "text/html": [
       "<div>\n",
       "<style scoped>\n",
       "    .dataframe tbody tr th:only-of-type {\n",
       "        vertical-align: middle;\n",
       "    }\n",
       "\n",
       "    .dataframe tbody tr th {\n",
       "        vertical-align: top;\n",
       "    }\n",
       "\n",
       "    .dataframe thead th {\n",
       "        text-align: right;\n",
       "    }\n",
       "</style>\n",
       "<table border=\"1\" class=\"dataframe\">\n",
       "  <thead>\n",
       "    <tr style=\"text-align: right;\">\n",
       "      <th></th>\n",
       "      <th>verse</th>\n",
       "      <th>genre</th>\n",
       "      <th>index</th>\n",
       "    </tr>\n",
       "  </thead>\n",
       "  <tbody>\n",
       "    <tr>\n",
       "      <th>0</th>\n",
       "      <td>I feel so unsure</td>\n",
       "      <td>pop</td>\n",
       "      <td>0</td>\n",
       "    </tr>\n",
       "    <tr>\n",
       "      <th>1</th>\n",
       "      <td>As I take your hand and lead you to the dance ...</td>\n",
       "      <td>pop</td>\n",
       "      <td>0</td>\n",
       "    </tr>\n",
       "    <tr>\n",
       "      <th>2</th>\n",
       "      <td>As the music dies, something in your eyes</td>\n",
       "      <td>pop</td>\n",
       "      <td>0</td>\n",
       "    </tr>\n",
       "    <tr>\n",
       "      <th>3</th>\n",
       "      <td>Calls to mind a silver screen</td>\n",
       "      <td>pop</td>\n",
       "      <td>0</td>\n",
       "    </tr>\n",
       "    <tr>\n",
       "      <th>4</th>\n",
       "      <td>And all those sad goodbyes</td>\n",
       "      <td>pop</td>\n",
       "      <td>0</td>\n",
       "    </tr>\n",
       "  </tbody>\n",
       "</table>\n",
       "</div>"
      ],
      "text/plain": [
       "                                               verse genre  index\n",
       "0                                   I feel so unsure   pop      0\n",
       "1  As I take your hand and lead you to the dance ...   pop      0\n",
       "2          As the music dies, something in your eyes   pop      0\n",
       "3                      Calls to mind a silver screen   pop      0\n",
       "4                         And all those sad goodbyes   pop      0"
      ]
     },
     "execution_count": 36,
     "metadata": {},
     "output_type": "execute_result"
    }
   ],
   "source": [
    "lyrics_by_verse = zip(list(df['lyrics']),list(df['genre']),list(df.index))\n",
    "\n",
    "verses_by_genre = [(verse, genre, index) for lyrics, genre, index in lyrics_by_verse for verse in lyrics]\n",
    "\n",
    "df_verses = pd.DataFrame(verses_by_genre, columns=['verse','genre','index'])\n",
    "\n",
    "df_verses.head()"
   ]
  },
  {
   "cell_type": "code",
   "execution_count": 37,
   "metadata": {},
   "outputs": [
    {
     "name": "stderr",
     "output_type": "stream",
     "text": [
      "100%|██████████| 2640123/2640123 [00:16<00:00, 163228.38it/s]\n"
     ]
    }
   ],
   "source": [
    "df_verses['tokens'] = [len(list(tokenize(verse))) for verse in tqdm(df_verses['verse'])]"
   ]
  },
  {
   "cell_type": "code",
   "execution_count": 38,
   "metadata": {},
   "outputs": [
    {
     "data": {
      "image/png": "[encoded data removed]",
      "text/plain": [
       "<Figure size 640x480 with 1 Axes>"
      ]
     },
     "metadata": {},
     "output_type": "display_data"
    }
   ],
   "source": [
    "fig, ax = plt.subplots()\n",
    "ax = sns.boxplot(data=df_verses, x='tokens', y='genre')\n",
    "ax.set_xlabel('Tokens')\n",
    "ax.set_ylabel('Veses')\n",
    "ax.set_title('Verses by number of tokens')\n",
    "plt.show()"
   ]
  },
  {
   "cell_type": "code",
   "execution_count": 39,
   "metadata": {},
   "outputs": [
    {
     "data": {
      "text/plain": [
       "array([list(['I wait for my true love, but she never came', 'I cry for my true love, but she never came', 'I leave this world never knowing who she was, departing all alone..', \"I'd just like to speak for a second and say that, hum.. I just encourage everybody who hears this album to look towards Christ and not towards people, because people allow you to fall away, people aren't perfect. Theres only one person thats perfect and thats Christ. And I see people every day who are looking at Christ and blow Christ off because something that someone else has failed on. And its just not worth it, Christ has blessed me and every other member of this band more than any other way that I can imagine, or be spoken. Just the way everything worked out tonight was just beautiful. I just pray for each and every one of you, we wouldn't sit here and we wouldn't do this unless we wouldn't put the time into it unless it was trying to touch you, trying to reach your life and I just ask please just give your heart to Christ, and allow him to come in and just accept him. It says, “If you acknowledge that you have sinned and you ask Christ to come into you life, he will enter you life just believe that he's died on the cross for your and risen on the third day, and Christ can life for you and he with you�? and I just pray that you just give him that chance to do that, you don't know what you missed, you don't know what you missed until you haven't had something and realize that its gone, then you realize what you've missed and what hasn't been in your life. And I just ask you please just give the LORD a chance to do that and I just hear a lot of people say that its just, I hear a lot of people say that its just you know, “Oh�? you know, “this some religious person is trying to force this down my throat.�? well thats not our intent our intent's not to force this down your throat. We do this because we love you and we care for the people that do hear this. And I just wish everybody just to look towards it and give it a chance, and not fall out. There is hope, you can find it, and Christ is hope and your never gunna feel a void, your never gunna feel that huge gap and that void in your life until you turn and you look at the truth, even though you may not see it as the truth, I just pray that God will reveal himself to you and you can open your eyes, just as we were in your same shoes and he opened ours, he opened our eyes eyes.. just... even though it's this late you can't even speak, I just pray that He'll please just show you his power. This album goes out to just, the victims of rape and suicide, child molestation, people who are broken hearted, people who just cant handle life anymore and just have to fall on their knees every night and cry. There is a better way, and we have found it, please don't give up, there is a better way.\", 'Spirit of, the living God', 'Call fresh on, me', 'Spirit of, the living God', 'Fall fresh on me', 'Melt me, Mold me', 'Fill me, LORD use me', 'Spirit of, the living God', 'Fall fresh on, me', 'Spirit of, the living God', 'Fall fresh on, me', 'Fill me, Mold me', 'Fill me, Use me,', 'Spirit of, the living God', 'Fall fresh on, me', 'LORD melt me, LORD use me, LORD fill me, LORD mold me', 'LORD make me, the person you want me to be LORD. LORD take me, and mold my, my mind. Renew my mind LORD, help me not to listen to this world, politicians people of this world, who only long to bring me hate and frustration. Help me to think for myself, to obtain knowledge, think! think for myself', 'Spirit of, the living God', 'Fall fresh on, me', '-The Christian Authority'])],\n",
       "      dtype=object)"
      ]
     },
     "execution_count": 39,
     "metadata": {},
     "output_type": "execute_result"
    }
   ],
   "source": [
    "df['lyrics'][df_verses[(df_verses['genre']=='rock') & (df_verses['tokens']>500)]['index']].values"
   ]
  },
  {
   "cell_type": "code",
   "execution_count": 40,
   "metadata": {},
   "outputs": [],
   "source": [
    "# Compute the IQR for each genre\n",
    "grouped = df_verses.groupby('genre')\n",
    "# Compute IQR for each group\n",
    "iqr = grouped.apply(lambda x: x['tokens'].quantile(0.75) - x['tokens'].quantile(0.25))\n",
    "# Compute upper bounds for each group\n",
    "upper_bound = grouped.apply(lambda x: x['tokens'].quantile(0.75) + 3 * iqr[x.name])\n",
    "# Reset the index of the upper_bound series to match the labels of the grouped DataFrame\n",
    "upper_bound = upper_bound\n",
    "# Mark outliers\n",
    "df_verses['outlier'] = np.where(df_verses['tokens'] > upper_bound[df_verses['genre']].values, True, False)\n",
    "# Get the index values of the outlier rows\n",
    "outlier_index = df_verses[df_verses['outlier'] == True]['index'].unique()\n",
    "\n"
   ]
  },
  {
   "cell_type": "code",
   "execution_count": 41,
   "metadata": {},
   "outputs": [
    {
     "data": {
      "text/plain": [
       "genre\n",
       "pop     17.0\n",
       "rap     25.0\n",
       "rock    17.0\n",
       "dtype: float64"
      ]
     },
     "execution_count": 41,
     "metadata": {},
     "output_type": "execute_result"
    }
   ],
   "source": [
    "upper_bound"
   ]
  },
  {
   "cell_type": "code",
   "execution_count": 42,
   "metadata": {},
   "outputs": [
    {
     "data": {
      "text/plain": [
       "1153"
      ]
     },
     "execution_count": 42,
     "metadata": {},
     "output_type": "execute_result"
    }
   ],
   "source": [
    "len(outlier_index)"
   ]
  },
  {
   "cell_type": "code",
   "execution_count": 43,
   "metadata": {},
   "outputs": [],
   "source": [
    "# Drop the outlier rows from the DataFrame\n",
    "df = df.drop(outlier_index)"
   ]
  },
  {
   "cell_type": "code",
   "execution_count": 44,
   "metadata": {},
   "outputs": [
    {
     "data": {
      "text/plain": [
       "rock    18732\n",
       "rap     18283\n",
       "pop     15328\n",
       "Name: genre, dtype: int64"
      ]
     },
     "execution_count": 44,
     "metadata": {},
     "output_type": "execute_result"
    }
   ],
   "source": [
    "df['genre'].value_counts()"
   ]
  },
  {
   "cell_type": "code",
   "execution_count": 45,
   "metadata": {},
   "outputs": [],
   "source": [
    "df = df[df['genre']!='pop']"
   ]
  },
  {
   "cell_type": "code",
   "execution_count": 46,
   "metadata": {},
   "outputs": [
    {
     "name": "stdout",
     "output_type": "stream",
     "text": [
      "Number of lyrics 37015\n"
     ]
    }
   ],
   "source": [
    "print(f'Number of lyrics {len(df)}')"
   ]
  },
  {
   "cell_type": "code",
   "execution_count": 47,
   "metadata": {},
   "outputs": [],
   "source": [
    "df.drop(columns=['outlier'])\n",
    "\n",
    "df.reset_index(inplace=True, drop=True)\n",
    "# Keep original index as id incase we want to retrieve samples in original df\n",
    "df['id'] = df.index"
   ]
  },
  {
   "cell_type": "code",
   "execution_count": 48,
   "metadata": {},
   "outputs": [],
   "source": [
    "df.drop(columns=['verses']).to_csv('../data/lyrics.csv', index=False)"
   ]
  },
  {
   "attachments": {},
   "cell_type": "markdown",
   "metadata": {},
   "source": [
    "## Classification and Evaluation Datasets"
   ]
  },
  {
   "cell_type": "code",
   "execution_count": 49,
   "metadata": {},
   "outputs": [],
   "source": [
    "df_eval = df.groupby(\"genre\").sample(n=50, weights='verses',random_state=0\n",
    ").reset_index( \n",
    ").drop(columns=['verses'])\n",
    "\n",
    "df_eval.to_csv('../data/evaluation/lyrics_eval.csv', index=False)"
   ]
  },
  {
   "cell_type": "code",
   "execution_count": 50,
   "metadata": {},
   "outputs": [],
   "source": [
    "df.drop(columns=['verses'], inplace=True)"
   ]
  },
  {
   "cell_type": "code",
   "execution_count": 51,
   "metadata": {},
   "outputs": [],
   "source": [
    "y = list(df['genre'])\n",
    "X = list(zip(list(df['lyrics']),list(df['id'])))\n",
    "\n",
    "X_train, X_test, y_train, y_test = train_test_split(X, y, test_size=0.2, random_state=0)"
   ]
  },
  {
   "cell_type": "code",
   "execution_count": 52,
   "metadata": {},
   "outputs": [
    {
     "data": {
      "text/plain": [
       "(29612, 3)"
      ]
     },
     "execution_count": 52,
     "metadata": {},
     "output_type": "execute_result"
    }
   ],
   "source": [
    "df_train = pd.DataFrame(X_train, columns=['lyrics','id'])\n",
    "df_train['genre'] = y_train\n",
    "df_train.shape"
   ]
  },
  {
   "cell_type": "code",
   "execution_count": 53,
   "metadata": {},
   "outputs": [
    {
     "data": {
      "text/plain": [
       "(7403, 3)"
      ]
     },
     "execution_count": 53,
     "metadata": {},
     "output_type": "execute_result"
    }
   ],
   "source": [
    "df_test = pd.DataFrame(X_test, columns=['lyrics','id'])\n",
    "df_test['genre'] = y_test\n",
    "df_test.shape"
   ]
  },
  {
   "cell_type": "code",
   "execution_count": 54,
   "metadata": {},
   "outputs": [],
   "source": [
    "df_train.to_csv('../data/classification/lyrics_train.csv', index=False)\n",
    "df_test.to_csv('../data/classification/lyrics_test.csv', index=False)"
   ]
  },
  {
   "cell_type": "markdown",
   "metadata": {},
   "source": [
    "## Evaluation Dataset Preparation"
   ]
  },
  {
   "cell_type": "code",
   "execution_count": 55,
   "metadata": {},
   "outputs": [],
   "source": [
    "import pandas as pd\n",
    "import numpy as np\n",
    "import random\n",
    "import ast\n",
    "from tqdm import tqdm\n",
    "import nlpaug.augmenter.word as naw\n",
    "from math import sqrt\n",
    "from sklearn.model_selection import train_test_split"
   ]
  },
  {
   "cell_type": "code",
   "execution_count": 56,
   "metadata": {},
   "outputs": [],
   "source": [
    "df = pd.read_csv('../data/evaluation/lyrics_eval.csv')"
   ]
  },
  {
   "cell_type": "code",
   "execution_count": 57,
   "metadata": {},
   "outputs": [
    {
     "data": {
      "text/html": [
       "<div>\n",
       "<style scoped>\n",
       "    .dataframe tbody tr th:only-of-type {\n",
       "        vertical-align: middle;\n",
       "    }\n",
       "\n",
       "    .dataframe tbody tr th {\n",
       "        vertical-align: top;\n",
       "    }\n",
       "\n",
       "    .dataframe thead th {\n",
       "        text-align: right;\n",
       "    }\n",
       "</style>\n",
       "<table border=\"1\" class=\"dataframe\">\n",
       "  <thead>\n",
       "    <tr style=\"text-align: right;\">\n",
       "      <th></th>\n",
       "      <th>index</th>\n",
       "      <th>lyrics</th>\n",
       "      <th>genre</th>\n",
       "      <th>outlier</th>\n",
       "      <th>id</th>\n",
       "    </tr>\n",
       "  </thead>\n",
       "  <tbody>\n",
       "    <tr>\n",
       "      <th>0</th>\n",
       "      <td>17253</td>\n",
       "      <td>[\"All i know  when #i'm# with you\", 'My little...</td>\n",
       "      <td>rap</td>\n",
       "      <td>False</td>\n",
       "      <td>17253</td>\n",
       "    </tr>\n",
       "    <tr>\n",
       "      <th>1</th>\n",
       "      <td>24217</td>\n",
       "      <td>[\"Kells, you know i can't keep doing this, i g...</td>\n",
       "      <td>rap</td>\n",
       "      <td>False</td>\n",
       "      <td>24217</td>\n",
       "    </tr>\n",
       "    <tr>\n",
       "      <th>2</th>\n",
       "      <td>18238</td>\n",
       "      <td>['Put on your booty shorts', 'Ooh, I really li...</td>\n",
       "      <td>rap</td>\n",
       "      <td>False</td>\n",
       "      <td>18238</td>\n",
       "    </tr>\n",
       "    <tr>\n",
       "      <th>3</th>\n",
       "      <td>17181</td>\n",
       "      <td>['Fargo, get on some real yard shit', 'Come in...</td>\n",
       "      <td>rap</td>\n",
       "      <td>False</td>\n",
       "      <td>17181</td>\n",
       "    </tr>\n",
       "    <tr>\n",
       "      <th>4</th>\n",
       "      <td>14845</td>\n",
       "      <td>['Hands up in the air', 'I just want the', 'I ...</td>\n",
       "      <td>rap</td>\n",
       "      <td>False</td>\n",
       "      <td>14845</td>\n",
       "    </tr>\n",
       "  </tbody>\n",
       "</table>\n",
       "</div>"
      ],
      "text/plain": [
       "   index                                             lyrics genre  outlier  \\\n",
       "0  17253  [\"All i know  when #i'm# with you\", 'My little...   rap    False   \n",
       "1  24217  [\"Kells, you know i can't keep doing this, i g...   rap    False   \n",
       "2  18238  ['Put on your booty shorts', 'Ooh, I really li...   rap    False   \n",
       "3  17181  ['Fargo, get on some real yard shit', 'Come in...   rap    False   \n",
       "4  14845  ['Hands up in the air', 'I just want the', 'I ...   rap    False   \n",
       "\n",
       "      id  \n",
       "0  17253  \n",
       "1  24217  \n",
       "2  18238  \n",
       "3  17181  \n",
       "4  14845  "
      ]
     },
     "execution_count": 57,
     "metadata": {},
     "output_type": "execute_result"
    }
   ],
   "source": [
    "df.head()"
   ]
  },
  {
   "cell_type": "code",
   "execution_count": 58,
   "metadata": {},
   "outputs": [
    {
     "name": "stdout",
     "output_type": "stream",
     "text": [
      "<class 'pandas.core.frame.DataFrame'>\n",
      "RangeIndex: 100 entries, 0 to 99\n",
      "Data columns (total 5 columns):\n",
      " #   Column   Non-Null Count  Dtype \n",
      "---  ------   --------------  ----- \n",
      " 0   index    100 non-null    int64 \n",
      " 1   lyrics   100 non-null    object\n",
      " 2   genre    100 non-null    object\n",
      " 3   outlier  100 non-null    bool  \n",
      " 4   id       100 non-null    int64 \n",
      "dtypes: bool(1), int64(2), object(2)\n",
      "memory usage: 3.3+ KB\n"
     ]
    }
   ],
   "source": [
    "df.info()"
   ]
  },
  {
   "cell_type": "code",
   "execution_count": 59,
   "metadata": {},
   "outputs": [],
   "source": [
    "df['lyrics'] = list(map(lambda x: ast.literal_eval(x), df['lyrics']))"
   ]
  },
  {
   "cell_type": "code",
   "execution_count": 60,
   "metadata": {},
   "outputs": [],
   "source": [
    "eg_lyrics = random.choice(df['lyrics'])"
   ]
  },
  {
   "cell_type": "code",
   "execution_count": 61,
   "metadata": {},
   "outputs": [],
   "source": [
    "aug = naw.ContextualWordEmbsAug(model_path='roberta-base', action=\"substitute\")\n"
   ]
  },
  {
   "cell_type": "code",
   "execution_count": 62,
   "metadata": {},
   "outputs": [],
   "source": [
    "def misalign_lyrics(lyrics, repetitions, repeat_verse):\n",
    "    verses2repeat = random.sample(range(0, len(lyrics)), repetitions)\n",
    "    misaligned_lyrics = []\n",
    "    for idx, verse in enumerate(lyrics):\n",
    "        if idx in verses2repeat:\n",
    "            misaligned_lyrics.extend([verse] * repeat_verse)\n",
    "        else:\n",
    "            misaligned_lyrics.append(verse)\n",
    "    return misaligned_lyrics"
   ]
  },
  {
   "cell_type": "code",
   "execution_count": 63,
   "metadata": {},
   "outputs": [],
   "source": [
    "clf_test_ids = list(pd.read_csv('../data/classification/lyrics_test.csv')['id'])\n",
    "evaluation_ids = list(df['id'])\n",
    "\n",
    "idxs2remove = list(set(clf_test_ids + evaluation_ids))\n",
    "all_lyrics = pd.read_csv('../data/lyrics.csv').drop(index=idxs2remove)['lyrics']\n",
    "all_lyrics = list(map(lambda x: ast.literal_eval(x), all_lyrics))"
   ]
  },
  {
   "cell_type": "code",
   "execution_count": 64,
   "metadata": {},
   "outputs": [
    {
     "name": "stdout",
     "output_type": "stream",
     "text": [
      "Original verse:\n",
      "you so bad when you call me for duty\n",
      "Augmented:\n"
     ]
    },
    {
     "data": {
      "text/plain": [
       "['you so loud that authorities call me for duty']"
      ]
     },
     "execution_count": 64,
     "metadata": {},
     "output_type": "execute_result"
    }
   ],
   "source": [
    "eg_verse = random.choice(eg_lyrics)\n",
    "print('Original verse:')\n",
    "print(eg_verse)\n",
    "\n",
    "print('Augmented:')\n",
    "aug.augment(eg_verse)"
   ]
  },
  {
   "cell_type": "code",
   "execution_count": 65,
   "metadata": {},
   "outputs": [
    {
     "name": "stderr",
     "output_type": "stream",
     "text": [
      "100%|██████████| 52/52 [00:30<00:00,  1.71it/s]"
     ]
    },
    {
     "name": "stdout",
     "output_type": "stream",
     "text": [
      "ORIGINAL lyrics:\n",
      "[\"Kells, you know i can't keep doing this, i got to say somehing\", \"You feel me, see i just kcan't keep living life confused, girl\", \"You gotta make a move, tell me something, 'cause i'm\", 'First you wanna go then you wanna stay', 'And then you wanna talk about it baby', 'Put your bag down and pick your bag up', 'And then you just wal out on me baby', 'If loves were eyes, then i can see your future', \"In what we're doing baby\", \"Girl i'm not trying to confuse\", 'Just wanna spend my life with you baby', 'Girl please tell me where do we go from here', 'Girl, i wanna change your name to my name', 'And i know you feel the same way so', \"Girls let's just go, get far away from here\", 'Let it beat, let our hearts beat, take a deep breath', \"Now baby hold on and girl don't let go\", 'yeah, just keep holding on', \"Babe, we'll walk through the storm together, oh yeah\", 'Girl i promise you this love is forever', 'First you say you love me', \"And then you say well, i don't know \", 'We both fell the same', \"So baby what the hell, let's go \", \"You holler at your friends, i'll handle the streets\", \"Let's just let them on, oh \", \"Girl gotta be with you if i'm gonna be free\", \"'Cause you are my soul, yeah\", 'Girl please tell me where do we go from here', 'Girl, i wanna change your name to my name', 'And i know you feel the same way so', \"Girls let's just go, get far away from here\", 'Let it beat, let our hearts beat, take a deep breath', \"Now baby hold on and girl don't let go\", 'yeah, just keep holding on', \"Babe, we'll walk through the storm together, oh yeah\", 'Girl i promise you this love is forever', 'Although we come from two different worlds, oh', \"Baby, that doesn't matter tome 'cause my world is you, yah\", 'Whose gonna doubt that we would get this far', \"And i don't care what the worls may say,\", \"It's you and me againt all odds\", 'Hold on baby be strong', 'We can make it maybe if we just hold on', \"We'll walk through the storm, yah\", 'Just hold on, just hold on, hold on, just hold on', \"We're gonna make it babe, we're gonna make it babe\", \"We're gonna make it babe, we're gonna make it babe \", \"We're gonna make it babe, we're gonna make it babe\", \"We're gonna make it babe, we're gonna make it babe \", \"We're gonna make it babe, we're gonna make it babe\", \"We're gonna make it babe, we're gonna make it babe\"]\n",
      "\n",
      "AUGMENTED lyrics:\n",
      "Aligned:\n",
      "[\"Kells, you said people can't cry over this, i hate to say...\", \"You and me, feel Me just kcan't keep living life well, bye\", \"You should make your move, tell somebody exactly, where i'm\", 'First ya git go then you wanna die', 'And then you also talk after it …', 'Put dish bag together and pick your phone up', 'And Trump Trump just wal out on me –', 'If it were tested, then i cant see their future', 'In Yemen they doing baby', 'Girl candy not trying you steal', 'Just to spend my days in you baby', 'Girl — tell me where could we go from there', 'Girl, i still know your name of my name', 'And i know guys feel the same here :-)', \"Girls let's just march, get them out my here\", 'Let it be, the many hearts beat, let a deep breath', \"Now baby is on and you don't let slip\", 'yeah, just switch it on', \"Babe, we'll hike around the park together, but yeah\", 'Girl we promise you our love is REAL', 'First lets say you respect me', \"And then is like well, people don't know\", 'We each read the same', 'So now what the matter, gotta go', 'You swear at your friends, than handle it others', \"Let's fucking let him swim, oh\", 'Girl gon go with you if ya gonna be happy', \"'Cause you came my first, baby\", 'Girl please answer me where to we go from where', 'Girl, kinda wanna change your name from mah name', 'And i know guys believe the same and so', \"Girls let's not go, get serious enough over here\", 'Let it flow, hear our hearts pound, take a slow breath', 'Now boy hold on and girl there I go', 'yeah, I keep carrying on', 'Babe, can sit out a storm together, oh yeah', 'Girl scout warn you this love lies forever', 'Although humans come from mostly different worlds, \"', \"Baby, shit doesnt matter tome 'cause my daughter loves magic, haha\", 'Whose gonna doubt that He Can get this done', \"And why don't imagine what some worls may see,\", \"It's you alone America defeating all odds\", 'Hold on golden girl strong', 'We can do it maybe if guys just hold off', \"We'll run through a castle, yah\", 'Just be fast, just hold it, hold on, just be tight', \"We're gonna make it change, certainly not end it babe\", \"We're gonna make love babe, Im coming make you babe\", \"We're gotta make it bear, he wanna make it babe\", \"We're kinda fall love babe, not gonna make it babe\", \"We're gonna see things work, we're gonna make progress babe\", \"We're not make it babe, we're gonna change the...\"]\n",
      "\n",
      "Misaligned:\n",
      "[\"Kells, you said people can't cry over this, i hate to say...\", \"You and me, feel Me just kcan't keep living life well, bye\", \"You should make your move, tell somebody exactly, where i'm\", 'First ya git go then you wanna die', 'And then you also talk after it …', 'Put dish bag together and pick your phone up', 'Put dish bag together and pick your phone up', 'And Trump Trump just wal out on me –', 'If it were tested, then i cant see their future', 'In Yemen they doing baby', 'Girl candy not trying you steal', 'Just to spend my days in you baby', 'Girl — tell me where could we go from there', 'Girl, i still know your name of my name', 'And i know guys feel the same here :-)', \"Girls let's just march, get them out my here\", 'Let it be, the many hearts beat, let a deep breath', \"Now baby is on and you don't let slip\", 'yeah, just switch it on', \"Babe, we'll hike around the park together, but yeah\", 'Girl we promise you our love is REAL', 'First lets say you respect me', \"And then is like well, people don't know\", 'We each read the same', 'We each read the same', 'So now what the matter, gotta go', 'You swear at your friends, than handle it others', \"Let's fucking let him swim, oh\", \"Let's fucking let him swim, oh\", 'Girl gon go with you if ya gonna be happy', \"'Cause you came my first, baby\", 'Girl please answer me where to we go from where', 'Girl, kinda wanna change your name from mah name', 'And i know guys believe the same and so', \"Girls let's not go, get serious enough over here\", 'Let it flow, hear our hearts pound, take a slow breath', 'Now boy hold on and girl there I go', 'yeah, I keep carrying on', 'Babe, can sit out a storm together, oh yeah', 'Girl scout warn you this love lies forever', 'Although humans come from mostly different worlds, \"', \"Baby, shit doesnt matter tome 'cause my daughter loves magic, haha\", 'Whose gonna doubt that He Can get this done', \"And why don't imagine what some worls may see,\", \"And why don't imagine what some worls may see,\", \"It's you alone America defeating all odds\", 'Hold on golden girl strong', 'We can do it maybe if guys just hold off', \"We'll run through a castle, yah\", 'Just be fast, just hold it, hold on, just be tight', \"We're gonna make it change, certainly not end it babe\", \"We're gonna make it change, certainly not end it babe\", \"We're gonna make love babe, Im coming make you babe\", \"We're gotta make it bear, he wanna make it babe\", \"We're gotta make it bear, he wanna make it babe\", \"We're kinda fall love babe, not gonna make it babe\", \"We're kinda fall love babe, not gonna make it babe\", \"We're gonna see things work, we're gonna make progress babe\", \"We're not make it babe, we're gonna change the...\"]\n",
      "\n",
      "RANDOM lyrics:\n",
      "['Oh yeah, I done delivered the mail, all platinum', 'Ghetto Postage wody', \"And I can't do nothing for the 2 G'z but make every ghetto bounce\", 'Turn it up, what what what', 'Bounce!!!', \"Wooday, I don't give a fuck no mo'\", 'Wooday, ima bout to slang this dope', 'Woody, from the north to the south we go', 'Woody, from the east to da west we roll', 'Now when I do this thang ima do it wild', \"And I ain't Rakim but I can move da crowd\", \"And when I'm having sex, I make stomachs growl\", 'Now how long can I go, about a couple of miles', 'Screaming all night long, saying bomb bomb bomb', 'Saying go big daddy, wont you take me home', \"Now if this ain't love, lets go to the motel\", 'And if you feeling kinda freaky lets do it on the way there', \"I like to bark with women, like I'm Bow Wow\", 'And I keep my nine cocked, goes pow pow', 'Ima souljah, I thought I told ya', \"You find me sippin' on the 40's or blowing on the dolja\", 'Find me at a party with a pool of bitches', \"I'm the ghetto Bill Gates, went from rags to riches\", 'Call me ???????? , still throw them thangs', \"nigga I'm flexing in a Rolls, but still flossin' my chain\", \"It's Nolimit til' the day that I die\", 'Screaming C-P-3 thats the way I ride', \"All my uptown warriors, where y'all at\", 'Cause we never leave the house with out our gat', 'ya heard me!!!', \"Uh no stoppin' no stoppin'\", \"i'm from the south where them girls be boppin'\", 'Take off your braw hoe show them tits,', 'And wobble that thang like the Baddest bitch', \"See I'm a killer, and I don't give a fuck no mo'\", \"It's 2 G'z, I had to fuckin' change my flow\", 'Money, I already got the doe', 'nigga platinum, three million went out the door', 'nigga ball, I balled in the NBA', 'nigga hustle, I hustled from the south to the Bay', \"That nigga C-E-O, y'all fill in the blank\", \"Who I'm with, I'm with the motherfuckin' tank\"]\n"
     ]
    },
    {
     "name": "stderr",
     "output_type": "stream",
     "text": [
      "\n"
     ]
    }
   ],
   "source": [
    "eg_lyrics = random.choice(df['lyrics'])\n",
    "\n",
    "eg_aug_lyrics = [aug.augment(verse)[0] for verse in tqdm(eg_lyrics)]\n",
    "eg_aug_misl_lyrics = misalign_lyrics(eg_aug_lyrics, repetitions=round(sqrt(len(eg_lyrics))), repeat_verse=2)\n",
    "\n",
    "eg_fake_lyrics = random.choice(all_lyrics)\n",
    "\n",
    "print('ORIGINAL lyrics:')\n",
    "print(eg_lyrics)\n",
    "print()\n",
    "print('AUGMENTED lyrics:')\n",
    "print('Aligned:')\n",
    "print(eg_aug_lyrics)\n",
    "print()\n",
    "print('Misaligned:')\n",
    "print(eg_aug_misl_lyrics)\n",
    "print()\n",
    "print('RANDOM lyrics:')\n",
    "print(eg_fake_lyrics)"
   ]
  },
  {
   "cell_type": "code",
   "execution_count": 66,
   "metadata": {},
   "outputs": [
    {
     "name": "stderr",
     "output_type": "stream",
     "text": [
      "100%|██████████| 100/100 [53:22<00:00, 32.02s/it] \n",
      "100%|██████████| 100/100 [00:00<00:00, 10171.46it/s]\n"
     ]
    }
   ],
   "source": [
    "augment_many = lambda lyrics: [aug.augment(verse)[0] for verse in lyrics]\n",
    "\n",
    "aug_lyrics = [augment_many(lyrics) for lyrics in tqdm(df['lyrics'])]\n",
    "misl_aug_lyrics = [misalign_lyrics(aug_lyr, repetitions=round(sqrt(len(aug_lyr))), repeat_verse=random.choice([2,3])) for aug_lyr in tqdm(aug_lyrics)]\n",
    "\n",
    "df['similar_lyrics'] = misl_aug_lyrics\n",
    "df['random_lyrics'] = random.sample(all_lyrics, len(df['lyrics']))"
   ]
  },
  {
   "cell_type": "code",
   "execution_count": 67,
   "metadata": {},
   "outputs": [
    {
     "data": {
      "text/html": [
       "<div>\n",
       "<style scoped>\n",
       "    .dataframe tbody tr th:only-of-type {\n",
       "        vertical-align: middle;\n",
       "    }\n",
       "\n",
       "    .dataframe tbody tr th {\n",
       "        vertical-align: top;\n",
       "    }\n",
       "\n",
       "    .dataframe thead th {\n",
       "        text-align: right;\n",
       "    }\n",
       "</style>\n",
       "<table border=\"1\" class=\"dataframe\">\n",
       "  <thead>\n",
       "    <tr style=\"text-align: right;\">\n",
       "      <th></th>\n",
       "      <th>index</th>\n",
       "      <th>lyrics</th>\n",
       "      <th>genre</th>\n",
       "      <th>outlier</th>\n",
       "      <th>id</th>\n",
       "      <th>similar_lyrics</th>\n",
       "      <th>random_lyrics</th>\n",
       "    </tr>\n",
       "  </thead>\n",
       "  <tbody>\n",
       "    <tr>\n",
       "      <th>0</th>\n",
       "      <td>17253</td>\n",
       "      <td>[All i know  when #i'm# with you, My little ho...</td>\n",
       "      <td>rap</td>\n",
       "      <td>False</td>\n",
       "      <td>17253</td>\n",
       "      <td>[All y knew  was #i'm# with that, My little re...</td>\n",
       "      <td>[The more you see of your love, The more you m...</td>\n",
       "    </tr>\n",
       "    <tr>\n",
       "      <th>1</th>\n",
       "      <td>24217</td>\n",
       "      <td>[Kells, you know i can't keep doing this, i go...</td>\n",
       "      <td>rap</td>\n",
       "      <td>False</td>\n",
       "      <td>24217</td>\n",
       "      <td>[Kells, your know im can't resist doing it, i ...</td>\n",
       "      <td>[Oh God! Oh God! Ugh, 9-1-1 What's your emerge...</td>\n",
       "    </tr>\n",
       "    <tr>\n",
       "      <th>2</th>\n",
       "      <td>18238</td>\n",
       "      <td>[Put on your booty shorts, Ooh, I really like ...</td>\n",
       "      <td>rap</td>\n",
       "      <td>False</td>\n",
       "      <td>18238</td>\n",
       "      <td>[Put on those booty kit, Ooh, I really like se...</td>\n",
       "      <td>[Verse One: Raekwon the Chef, Machine gun rap ...</td>\n",
       "    </tr>\n",
       "    <tr>\n",
       "      <th>3</th>\n",
       "      <td>17181</td>\n",
       "      <td>[Fargo, get on some real yard shit, Come in on...</td>\n",
       "      <td>rap</td>\n",
       "      <td>False</td>\n",
       "      <td>17181</td>\n",
       "      <td>[Fargo, spilling over the real yard shit, Come...</td>\n",
       "      <td>[See you've got the new biography, Where did t...</td>\n",
       "    </tr>\n",
       "    <tr>\n",
       "      <th>4</th>\n",
       "      <td>14845</td>\n",
       "      <td>[Hands up in the air, I just want the, I just ...</td>\n",
       "      <td>rap</td>\n",
       "      <td>False</td>\n",
       "      <td>14845</td>\n",
       "      <td>[Hands flung into the air, I just wanted to, I...</td>\n",
       "      <td>[More rest and sex is all a nigga needs, In a ...</td>\n",
       "    </tr>\n",
       "  </tbody>\n",
       "</table>\n",
       "</div>"
      ],
      "text/plain": [
       "   index                                             lyrics genre  outlier  \\\n",
       "0  17253  [All i know  when #i'm# with you, My little ho...   rap    False   \n",
       "1  24217  [Kells, you know i can't keep doing this, i go...   rap    False   \n",
       "2  18238  [Put on your booty shorts, Ooh, I really like ...   rap    False   \n",
       "3  17181  [Fargo, get on some real yard shit, Come in on...   rap    False   \n",
       "4  14845  [Hands up in the air, I just want the, I just ...   rap    False   \n",
       "\n",
       "      id                                     similar_lyrics  \\\n",
       "0  17253  [All y knew  was #i'm# with that, My little re...   \n",
       "1  24217  [Kells, your know im can't resist doing it, i ...   \n",
       "2  18238  [Put on those booty kit, Ooh, I really like se...   \n",
       "3  17181  [Fargo, spilling over the real yard shit, Come...   \n",
       "4  14845  [Hands flung into the air, I just wanted to, I...   \n",
       "\n",
       "                                       random_lyrics  \n",
       "0  [The more you see of your love, The more you m...  \n",
       "1  [Oh God! Oh God! Ugh, 9-1-1 What's your emerge...  \n",
       "2  [Verse One: Raekwon the Chef, Machine gun rap ...  \n",
       "3  [See you've got the new biography, Where did t...  \n",
       "4  [More rest and sex is all a nigga needs, In a ...  "
      ]
     },
     "execution_count": 67,
     "metadata": {},
     "output_type": "execute_result"
    }
   ],
   "source": [
    "df.head()"
   ]
  },
  {
   "cell_type": "code",
   "execution_count": 68,
   "metadata": {},
   "outputs": [],
   "source": [
    "df.to_csv('../data/evaluation/lyrics_eval.csv', index=False)"
   ]
  },
  {
   "cell_type": "code",
   "execution_count": null,
   "metadata": {},
   "outputs": [],
   "source": []
  }
 ],
 "metadata": {
  "kernelspec": {
   "display_name": "Python 3 (ipykernel)",
   "language": "python",
   "name": "python3"
  },
  "language_info": {
   "codemirror_mode": {
    "name": "ipython",
    "version": 3
   },
   "file_extension": ".py",
   "mimetype": "text/x-python",
   "name": "python",
   "nbconvert_exporter": "python",
   "pygments_lexer": "ipython3",
   "version": "3.9.16 (main, Dec  7 2022, 01:12:08) \n[GCC 11.3.0]"
  },
  "vscode": {
   "interpreter": {
    "hash": "eb8d1ded7c87c6f9c253b40add648304d6b51d2e38393955e855effc7e6f899a"
   }
  }
 },
 "nbformat": 4,
 "nbformat_minor": 2
}
