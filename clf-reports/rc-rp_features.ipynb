{
 "cells": [
  {
   "cell_type": "markdown",
   "id": "d79a68c5",
   "metadata": {
    "papermill": {
     "duration": 0.031319,
     "end_time": "2023-03-10T15:16:20.483288",
     "exception": false,
     "start_time": "2023-03-10T15:16:20.451969",
     "status": "completed"
    },
    "tags": []
   },
   "source": [
    "# Time Series Classification"
   ]
  },
  {
   "cell_type": "code",
   "execution_count": 1,
   "id": "8a0cb2b0",
   "metadata": {
    "execution": {
     "iopub.execute_input": "2023-03-10T15:16:20.540264Z",
     "iopub.status.busy": "2023-03-10T15:16:20.539799Z",
     "iopub.status.idle": "2023-03-10T15:16:21.910651Z",
     "shell.execute_reply": "2023-03-10T15:16:21.909852Z"
    },
    "papermill": {
     "duration": 1.399451,
     "end_time": "2023-03-10T15:16:21.912802",
     "exception": false,
     "start_time": "2023-03-10T15:16:20.513351",
     "status": "completed"
    },
    "tags": []
   },
   "outputs": [],
   "source": [
    "%matplotlib inline\n",
    "import pandas as pd\n",
    "import numpy as np\n",
    "import matplotlib.pyplot as plt\n",
    "import seaborn as sns\n",
    "import re\n",
    "import os\n",
    "from sklearn.preprocessing import StandardScaler\n",
    "from sklearn.decomposition import PCA\n",
    "import joblib\n",
    "from tslearn.utils import to_time_series_dataset, save_time_series_txt, load_time_series_txt\n",
    "import random\n",
    "from sklearn.model_selection import train_test_split\n",
    "from sklearn.metrics import accuracy_score, f1_score, precision_score, recall_score, classification_report\n",
    "import pickle"
   ]
  },
  {
   "cell_type": "code",
   "execution_count": 2,
   "id": "acc03405",
   "metadata": {
    "execution": {
     "iopub.execute_input": "2023-03-10T15:16:21.937281Z",
     "iopub.status.busy": "2023-03-10T15:16:21.936930Z",
     "iopub.status.idle": "2023-03-10T15:16:21.942146Z",
     "shell.execute_reply": "2023-03-10T15:16:21.940712Z"
    },
    "papermill": {
     "duration": 0.020399,
     "end_time": "2023-03-10T15:16:21.945782",
     "exception": false,
     "start_time": "2023-03-10T15:16:21.925383",
     "status": "completed"
    },
    "tags": [
     "parameters"
    ]
   },
   "outputs": [],
   "source": [
    "data_path = '/home/mattiapggioli/lyrics2ts/data/classification/pp-rc/sbert/'\n",
    "truncate=100\n",
    "max_iter = 2000\n",
    "paa_window_size = None\n",
    "undersampling = None"
   ]
  },
  {
   "cell_type": "code",
   "execution_count": 3,
   "id": "48792158",
   "metadata": {
    "execution": {
     "iopub.execute_input": "2023-03-10T15:16:22.002988Z",
     "iopub.status.busy": "2023-03-10T15:16:22.002745Z",
     "iopub.status.idle": "2023-03-10T15:16:22.006841Z",
     "shell.execute_reply": "2023-03-10T15:16:22.005968Z"
    },
    "papermill": {
     "duration": 0.033194,
     "end_time": "2023-03-10T15:16:22.008448",
     "exception": false,
     "start_time": "2023-03-10T15:16:21.975254",
     "status": "completed"
    },
    "tags": [
     "injected-parameters"
    ]
   },
   "outputs": [],
   "source": [
    "# Parameters\n",
    "data_path = \"/home/mattiapggioli/lyrics2ts/data/classification/rc-rp/features/\"\n",
    "paa_window_size = 20\n",
    "undersampling = 0.3\n"
   ]
  },
  {
   "cell_type": "code",
   "execution_count": 4,
   "id": "a4f0c774",
   "metadata": {
    "execution": {
     "iopub.execute_input": "2023-03-10T15:16:22.030351Z",
     "iopub.status.busy": "2023-03-10T15:16:22.030102Z",
     "iopub.status.idle": "2023-03-10T15:16:39.400652Z",
     "shell.execute_reply": "2023-03-10T15:16:39.399913Z"
    },
    "papermill": {
     "duration": 17.384546,
     "end_time": "2023-03-10T15:16:39.403447",
     "exception": false,
     "start_time": "2023-03-10T15:16:22.018901",
     "status": "completed"
    },
    "tags": []
   },
   "outputs": [],
   "source": [
    "ts = load_time_series_txt(f'{data_path}/ts.txt')"
   ]
  },
  {
   "cell_type": "code",
   "execution_count": 5,
   "id": "5c48d154",
   "metadata": {
    "execution": {
     "iopub.execute_input": "2023-03-10T15:16:39.464813Z",
     "iopub.status.busy": "2023-03-10T15:16:39.463572Z",
     "iopub.status.idle": "2023-03-10T15:16:39.471972Z",
     "shell.execute_reply": "2023-03-10T15:16:39.470462Z"
    },
    "papermill": {
     "duration": 0.043702,
     "end_time": "2023-03-10T15:16:39.477555",
     "exception": false,
     "start_time": "2023-03-10T15:16:39.433853",
     "status": "completed"
    },
    "tags": []
   },
   "outputs": [
    {
     "data": {
      "text/plain": [
       "(24000, 130, 1)"
      ]
     },
     "execution_count": 5,
     "metadata": {},
     "output_type": "execute_result"
    }
   ],
   "source": [
    "ts.shape"
   ]
  },
  {
   "cell_type": "code",
   "execution_count": 6,
   "id": "f6274d40",
   "metadata": {
    "execution": {
     "iopub.execute_input": "2023-03-10T15:16:39.516340Z",
     "iopub.status.busy": "2023-03-10T15:16:39.515534Z",
     "iopub.status.idle": "2023-03-10T15:16:39.523875Z",
     "shell.execute_reply": "2023-03-10T15:16:39.522540Z"
    },
    "papermill": {
     "duration": 0.02591,
     "end_time": "2023-03-10T15:16:39.527412",
     "exception": false,
     "start_time": "2023-03-10T15:16:39.501502",
     "status": "completed"
    },
    "tags": []
   },
   "outputs": [],
   "source": [
    "with open(f'{data_path}/y_class.npy', 'rb') as f:\n",
    "    y = np.load(f, allow_pickle=True)"
   ]
  },
  {
   "cell_type": "code",
   "execution_count": 7,
   "id": "9d42fa3b",
   "metadata": {
    "execution": {
     "iopub.execute_input": "2023-03-10T15:16:39.557595Z",
     "iopub.status.busy": "2023-03-10T15:16:39.556614Z",
     "iopub.status.idle": "2023-03-10T15:16:39.565549Z",
     "shell.execute_reply": "2023-03-10T15:16:39.564765Z"
    },
    "papermill": {
     "duration": 0.025374,
     "end_time": "2023-03-10T15:16:39.567536",
     "exception": false,
     "start_time": "2023-03-10T15:16:39.542162",
     "status": "completed"
    },
    "tags": []
   },
   "outputs": [],
   "source": [
    "with open(f'{data_path}/X.npy', 'rb') as f:\n",
    "    X = np.load(f, allow_pickle=True)"
   ]
  },
  {
   "cell_type": "code",
   "execution_count": 8,
   "id": "1158a9da",
   "metadata": {
    "execution": {
     "iopub.execute_input": "2023-03-10T15:16:39.595424Z",
     "iopub.status.busy": "2023-03-10T15:16:39.595019Z",
     "iopub.status.idle": "2023-03-10T15:16:39.601885Z",
     "shell.execute_reply": "2023-03-10T15:16:39.600577Z"
    },
    "papermill": {
     "duration": 0.021422,
     "end_time": "2023-03-10T15:16:39.603540",
     "exception": false,
     "start_time": "2023-03-10T15:16:39.582118",
     "status": "completed"
    },
    "tags": []
   },
   "outputs": [
    {
     "data": {
      "text/plain": [
       "(24000, 14)"
      ]
     },
     "execution_count": 8,
     "metadata": {},
     "output_type": "execute_result"
    }
   ],
   "source": [
    "X.shape"
   ]
  },
  {
   "cell_type": "code",
   "execution_count": 9,
   "id": "47239790",
   "metadata": {
    "execution": {
     "iopub.execute_input": "2023-03-10T15:16:39.628062Z",
     "iopub.status.busy": "2023-03-10T15:16:39.627602Z",
     "iopub.status.idle": "2023-03-10T15:16:39.635069Z",
     "shell.execute_reply": "2023-03-10T15:16:39.634241Z"
    },
    "papermill": {
     "duration": 0.021279,
     "end_time": "2023-03-10T15:16:39.636549",
     "exception": false,
     "start_time": "2023-03-10T15:16:39.615270",
     "status": "completed"
    },
    "tags": []
   },
   "outputs": [
    {
     "data": {
      "text/plain": [
       "{'rap', 'rock'}"
      ]
     },
     "execution_count": 9,
     "metadata": {},
     "output_type": "execute_result"
    }
   ],
   "source": [
    "set(y)"
   ]
  },
  {
   "cell_type": "code",
   "execution_count": 10,
   "id": "37609992",
   "metadata": {
    "execution": {
     "iopub.execute_input": "2023-03-10T15:16:39.661922Z",
     "iopub.status.busy": "2023-03-10T15:16:39.661139Z",
     "iopub.status.idle": "2023-03-10T15:16:39.682207Z",
     "shell.execute_reply": "2023-03-10T15:16:39.681380Z"
    },
    "papermill": {
     "duration": 0.035842,
     "end_time": "2023-03-10T15:16:39.684272",
     "exception": false,
     "start_time": "2023-03-10T15:16:39.648430",
     "status": "completed"
    },
    "tags": []
   },
   "outputs": [],
   "source": [
    "ts_train, ts_test, y_train, y_test = train_test_split(ts, y, test_size=0.20, random_state=42)"
   ]
  },
  {
   "cell_type": "code",
   "execution_count": 11,
   "id": "34508fe4",
   "metadata": {
    "execution": {
     "iopub.execute_input": "2023-03-10T15:16:39.710939Z",
     "iopub.status.busy": "2023-03-10T15:16:39.710544Z",
     "iopub.status.idle": "2023-03-10T15:16:39.720933Z",
     "shell.execute_reply": "2023-03-10T15:16:39.719497Z"
    },
    "papermill": {
     "duration": 0.0249,
     "end_time": "2023-03-10T15:16:39.722891",
     "exception": false,
     "start_time": "2023-03-10T15:16:39.697991",
     "status": "completed"
    },
    "tags": []
   },
   "outputs": [],
   "source": [
    "X_train, X_test, y_train, y_test = train_test_split(X, y, test_size=0.20, random_state=42)"
   ]
  },
  {
   "cell_type": "code",
   "execution_count": 12,
   "id": "076afac9",
   "metadata": {
    "execution": {
     "iopub.execute_input": "2023-03-10T15:16:39.749013Z",
     "iopub.status.busy": "2023-03-10T15:16:39.748607Z",
     "iopub.status.idle": "2023-03-10T15:16:39.757402Z",
     "shell.execute_reply": "2023-03-10T15:16:39.756472Z"
    },
    "papermill": {
     "duration": 0.023542,
     "end_time": "2023-03-10T15:16:39.759466",
     "exception": false,
     "start_time": "2023-03-10T15:16:39.735924",
     "status": "completed"
    },
    "tags": []
   },
   "outputs": [
    {
     "data": {
      "text/plain": [
       "array([[ 1.39495932],\n",
       "       [ 1.37150372],\n",
       "       [-1.11680745],\n",
       "       [-0.39446457],\n",
       "       [-1.60464756],\n",
       "       [-2.14083482],\n",
       "       [-2.33384038],\n",
       "       [-0.19327449],\n",
       "       [-1.9626166 ],\n",
       "       [-0.87875324],\n",
       "       [-0.74202803],\n",
       "       [-0.95548201],\n",
       "       [ 1.73498073],\n",
       "       [-2.81797612],\n",
       "       [-3.13951114],\n",
       "       [-0.25219235],\n",
       "       [-1.92560294],\n",
       "       [ 0.0957151 ],\n",
       "       [ 0.14655343],\n",
       "       [ 0.03870146],\n",
       "       [ 2.9847895 ],\n",
       "       [-1.33671037],\n",
       "       [-0.78875791],\n",
       "       [-0.78875791],\n",
       "       [-3.40860824],\n",
       "       [ 0.21463726],\n",
       "       [-0.4473235 ],\n",
       "       [ 0.37963206],\n",
       "       [-0.79740087],\n",
       "       [-0.32073606],\n",
       "       [-0.2695721 ],\n",
       "       [ 1.12957764],\n",
       "       [ 1.07062778],\n",
       "       [ 1.81215144],\n",
       "       [ 0.04245476],\n",
       "       [-2.61678349],\n",
       "       [-2.37284275],\n",
       "       [-2.25134592],\n",
       "       [ 1.22914526],\n",
       "       [ 0.21795536],\n",
       "       [ 1.63472873],\n",
       "       [ 3.81860594],\n",
       "       [ 0.21194174],\n",
       "       [-1.20563372],\n",
       "       [-1.06581683],\n",
       "       [-0.74598913],\n",
       "       [-1.26593496],\n",
       "       [ 1.58336385],\n",
       "       [-0.84396661],\n",
       "       [-0.95548145],\n",
       "       [-1.23585231],\n",
       "       [-2.74563893],\n",
       "       [-1.09123032],\n",
       "       [-3.14539722],\n",
       "       [-0.94966563],\n",
       "       [-0.76840136],\n",
       "       [-0.10860549],\n",
       "       [-1.81192031],\n",
       "       [ 0.07797485],\n",
       "       [        nan],\n",
       "       [        nan],\n",
       "       [        nan],\n",
       "       [        nan],\n",
       "       [        nan],\n",
       "       [        nan],\n",
       "       [        nan],\n",
       "       [        nan],\n",
       "       [        nan],\n",
       "       [        nan],\n",
       "       [        nan],\n",
       "       [        nan],\n",
       "       [        nan],\n",
       "       [        nan],\n",
       "       [        nan],\n",
       "       [        nan],\n",
       "       [        nan],\n",
       "       [        nan],\n",
       "       [        nan],\n",
       "       [        nan],\n",
       "       [        nan],\n",
       "       [        nan],\n",
       "       [        nan],\n",
       "       [        nan],\n",
       "       [        nan],\n",
       "       [        nan],\n",
       "       [        nan],\n",
       "       [        nan],\n",
       "       [        nan],\n",
       "       [        nan],\n",
       "       [        nan],\n",
       "       [        nan],\n",
       "       [        nan],\n",
       "       [        nan],\n",
       "       [        nan],\n",
       "       [        nan],\n",
       "       [        nan],\n",
       "       [        nan],\n",
       "       [        nan],\n",
       "       [        nan],\n",
       "       [        nan],\n",
       "       [        nan],\n",
       "       [        nan],\n",
       "       [        nan],\n",
       "       [        nan],\n",
       "       [        nan],\n",
       "       [        nan],\n",
       "       [        nan],\n",
       "       [        nan],\n",
       "       [        nan],\n",
       "       [        nan],\n",
       "       [        nan],\n",
       "       [        nan],\n",
       "       [        nan],\n",
       "       [        nan],\n",
       "       [        nan],\n",
       "       [        nan],\n",
       "       [        nan],\n",
       "       [        nan],\n",
       "       [        nan],\n",
       "       [        nan],\n",
       "       [        nan],\n",
       "       [        nan],\n",
       "       [        nan],\n",
       "       [        nan],\n",
       "       [        nan],\n",
       "       [        nan],\n",
       "       [        nan],\n",
       "       [        nan],\n",
       "       [        nan],\n",
       "       [        nan]])"
      ]
     },
     "execution_count": 12,
     "metadata": {},
     "output_type": "execute_result"
    }
   ],
   "source": [
    "random.choice(ts_train)"
   ]
  },
  {
   "cell_type": "code",
   "execution_count": 13,
   "id": "ca66457a",
   "metadata": {
    "execution": {
     "iopub.execute_input": "2023-03-10T15:16:39.784646Z",
     "iopub.status.busy": "2023-03-10T15:16:39.784344Z",
     "iopub.status.idle": "2023-03-10T15:16:40.288770Z",
     "shell.execute_reply": "2023-03-10T15:16:40.287620Z"
    },
    "papermill": {
     "duration": 0.521123,
     "end_time": "2023-03-10T15:16:40.292045",
     "exception": false,
     "start_time": "2023-03-10T15:16:39.770922",
     "status": "completed"
    },
    "tags": []
   },
   "outputs": [
    {
     "data": {
      "text/plain": [
       "<AxesSubplot:ylabel='Count'>"
      ]
     },
     "execution_count": 13,
     "metadata": {},
     "output_type": "execute_result"
    },
    {
     "data": {
      "image/png": "[encoded data removed]",
      "text/plain": [
       "<Figure size 640x480 with 1 Axes>"
      ]
     },
     "metadata": {},
     "output_type": "display_data"
    }
   ],
   "source": [
    "sns.histplot([t[~np.any(np.isnan(t), axis=1)].shape[0] for t in ts_train])"
   ]
  },
  {
   "cell_type": "code",
   "execution_count": 14,
   "id": "c2ae286f",
   "metadata": {
    "execution": {
     "iopub.execute_input": "2023-03-10T15:16:40.333015Z",
     "iopub.status.busy": "2023-03-10T15:16:40.332523Z",
     "iopub.status.idle": "2023-03-10T15:16:40.338806Z",
     "shell.execute_reply": "2023-03-10T15:16:40.337102Z"
    },
    "papermill": {
     "duration": 0.026518,
     "end_time": "2023-03-10T15:16:40.341704",
     "exception": false,
     "start_time": "2023-03-10T15:16:40.315186",
     "status": "completed"
    },
    "tags": []
   },
   "outputs": [],
   "source": [
    "ts_train = ts_train[:, :truncate, :]\n",
    "ts_test = ts_test[:, :truncate, :]"
   ]
  },
  {
   "cell_type": "code",
   "execution_count": 15,
   "id": "3218baa4",
   "metadata": {
    "execution": {
     "iopub.execute_input": "2023-03-10T15:16:40.382975Z",
     "iopub.status.busy": "2023-03-10T15:16:40.381984Z",
     "iopub.status.idle": "2023-03-10T15:16:40.459618Z",
     "shell.execute_reply": "2023-03-10T15:16:40.458626Z"
    },
    "papermill": {
     "duration": 0.105153,
     "end_time": "2023-03-10T15:16:40.463549",
     "exception": false,
     "start_time": "2023-03-10T15:16:40.358396",
     "status": "completed"
    },
    "tags": []
   },
   "outputs": [],
   "source": [
    "mean_arr = np.nanmean(ts_train, axis=1, keepdims=True)\n",
    "nan_indices = np.isnan(ts_train)\n",
    "ts_train[nan_indices] = np.take(mean_arr, np.nonzero(nan_indices)[0])\n",
    "\n",
    "mean_arr = np.nanmean(ts_test, axis=1, keepdims=True)\n",
    "nan_indices = np.isnan(ts_test)\n",
    "ts_test[nan_indices] = np.take(mean_arr, np.nonzero(nan_indices)[0])"
   ]
  },
  {
   "cell_type": "code",
   "execution_count": 16,
   "id": "d369691b",
   "metadata": {
    "execution": {
     "iopub.execute_input": "2023-03-10T15:16:40.497885Z",
     "iopub.status.busy": "2023-03-10T15:16:40.496855Z",
     "iopub.status.idle": "2023-03-10T15:16:40.506279Z",
     "shell.execute_reply": "2023-03-10T15:16:40.505198Z"
    },
    "papermill": {
     "duration": 0.028365,
     "end_time": "2023-03-10T15:16:40.508695",
     "exception": false,
     "start_time": "2023-03-10T15:16:40.480330",
     "status": "completed"
    },
    "tags": []
   },
   "outputs": [
    {
     "data": {
      "text/plain": [
       "0"
      ]
     },
     "execution_count": 16,
     "metadata": {},
     "output_type": "execute_result"
    }
   ],
   "source": [
    "np.count_nonzero(np.isnan(X_train))"
   ]
  },
  {
   "cell_type": "code",
   "execution_count": 17,
   "id": "0d602e18",
   "metadata": {
    "execution": {
     "iopub.execute_input": "2023-03-10T15:16:40.545168Z",
     "iopub.status.busy": "2023-03-10T15:16:40.544169Z",
     "iopub.status.idle": "2023-03-10T15:16:40.550773Z",
     "shell.execute_reply": "2023-03-10T15:16:40.549767Z"
    },
    "papermill": {
     "duration": 0.027349,
     "end_time": "2023-03-10T15:16:40.552967",
     "exception": false,
     "start_time": "2023-03-10T15:16:40.525618",
     "status": "completed"
    },
    "tags": []
   },
   "outputs": [],
   "source": [
    "X_train[np.isnan(X_train)] = 0\n",
    "X_test[np.isnan(X_test)] = 0"
   ]
  },
  {
   "cell_type": "code",
   "execution_count": 18,
   "id": "45c5102c",
   "metadata": {
    "execution": {
     "iopub.execute_input": "2023-03-10T15:16:40.583263Z",
     "iopub.status.busy": "2023-03-10T15:16:40.582616Z",
     "iopub.status.idle": "2023-03-10T15:16:43.067609Z",
     "shell.execute_reply": "2023-03-10T15:16:43.066876Z"
    },
    "papermill": {
     "duration": 2.503101,
     "end_time": "2023-03-10T15:16:43.070614",
     "exception": false,
     "start_time": "2023-03-10T15:16:40.567513",
     "status": "completed"
    },
    "tags": []
   },
   "outputs": [],
   "source": [
    "save_time_series_txt(f'{data_path}/ts_train.txt', ts_train)\n",
    "save_time_series_txt(f'{data_path}/ts_test.txt', ts_test)"
   ]
  },
  {
   "cell_type": "code",
   "execution_count": 19,
   "id": "39830f37",
   "metadata": {
    "execution": {
     "iopub.execute_input": "2023-03-10T15:16:43.138103Z",
     "iopub.status.busy": "2023-03-10T15:16:43.137729Z",
     "iopub.status.idle": "2023-03-10T15:16:43.145397Z",
     "shell.execute_reply": "2023-03-10T15:16:43.144575Z"
    },
    "papermill": {
     "duration": 0.044778,
     "end_time": "2023-03-10T15:16:43.147231",
     "exception": false,
     "start_time": "2023-03-10T15:16:43.102453",
     "status": "completed"
    },
    "tags": []
   },
   "outputs": [],
   "source": [
    "with open(f'{data_path}/X_train.npy', 'wb') as f:\n",
    "    np.save(f, X_train, allow_pickle=True)\n",
    "\n",
    "with open(f'{data_path}/X_test.npy', 'wb') as f:\n",
    "    np.save(f, X_test, allow_pickle=True)"
   ]
  },
  {
   "cell_type": "code",
   "execution_count": 20,
   "id": "795fd2be",
   "metadata": {
    "execution": {
     "iopub.execute_input": "2023-03-10T15:16:43.172040Z",
     "iopub.status.busy": "2023-03-10T15:16:43.171383Z",
     "iopub.status.idle": "2023-03-10T15:16:43.178815Z",
     "shell.execute_reply": "2023-03-10T15:16:43.177838Z"
    },
    "papermill": {
     "duration": 0.021839,
     "end_time": "2023-03-10T15:16:43.180623",
     "exception": false,
     "start_time": "2023-03-10T15:16:43.158784",
     "status": "completed"
    },
    "tags": []
   },
   "outputs": [],
   "source": [
    "with open(f'{data_path}/y_train.npy', 'wb') as f:\n",
    "    np.save(f, y_train, allow_pickle=True)\n",
    "\n",
    "with open(f'{data_path}/y_test.npy', 'wb') as f:\n",
    "    np.save(f, y_test, allow_pickle=True)"
   ]
  },
  {
   "cell_type": "code",
   "execution_count": 21,
   "id": "08bda153",
   "metadata": {
    "execution": {
     "iopub.execute_input": "2023-03-10T15:16:43.205092Z",
     "iopub.status.busy": "2023-03-10T15:16:43.204294Z",
     "iopub.status.idle": "2023-03-10T15:16:43.310959Z",
     "shell.execute_reply": "2023-03-10T15:16:43.309684Z"
    },
    "papermill": {
     "duration": 0.121058,
     "end_time": "2023-03-10T15:16:43.313048",
     "exception": false,
     "start_time": "2023-03-10T15:16:43.191990",
     "status": "completed"
    },
    "tags": []
   },
   "outputs": [
    {
     "data": {
      "text/plain": [
       "[<matplotlib.lines.Line2D at 0x7f5d14a34f10>]"
      ]
     },
     "execution_count": 21,
     "metadata": {},
     "output_type": "execute_result"
    },
    {
     "data": {
      "image/png": "[encoded data removed]",
      "text/plain": [
       "<Figure size 640x480 with 1 Axes>"
      ]
     },
     "metadata": {},
     "output_type": "display_data"
    }
   ],
   "source": [
    "plt.plot(random.choice(ts_train))"
   ]
  },
  {
   "cell_type": "code",
   "execution_count": 22,
   "id": "98ce9d63",
   "metadata": {
    "execution": {
     "iopub.execute_input": "2023-03-10T15:16:43.340183Z",
     "iopub.status.busy": "2023-03-10T15:16:43.339648Z",
     "iopub.status.idle": "2023-03-10T15:16:43.345159Z",
     "shell.execute_reply": "2023-03-10T15:16:43.344016Z"
    },
    "papermill": {
     "duration": 0.021081,
     "end_time": "2023-03-10T15:16:43.347150",
     "exception": false,
     "start_time": "2023-03-10T15:16:43.326069",
     "status": "completed"
    },
    "tags": []
   },
   "outputs": [],
   "source": [
    "# Parameters that require knowing if it's binary or multiclass (LightGBM, metrics)\n",
    "if len(set(y)) == 2:\n",
    "    avg_par = 'macro'\n",
    "    obj_par = 'binary'\n",
    "elif len(set(y)) > 2:\n",
    "    avg_par = 'macro'\n",
    "    obj_par = 'multiclass'"
   ]
  },
  {
   "cell_type": "markdown",
   "id": "228f1b39",
   "metadata": {
    "papermill": {
     "duration": 0.011178,
     "end_time": "2023-03-10T15:16:43.370870",
     "exception": false,
     "start_time": "2023-03-10T15:16:43.359692",
     "status": "completed"
    },
    "tags": []
   },
   "source": [
    "## Classification"
   ]
  },
  {
   "cell_type": "code",
   "execution_count": 23,
   "id": "34bb73ff",
   "metadata": {
    "execution": {
     "iopub.execute_input": "2023-03-10T15:16:43.394672Z",
     "iopub.status.busy": "2023-03-10T15:16:43.394404Z",
     "iopub.status.idle": "2023-03-10T15:16:43.424053Z",
     "shell.execute_reply": "2023-03-10T15:16:43.423118Z"
    },
    "papermill": {
     "duration": 0.043743,
     "end_time": "2023-03-10T15:16:43.425915",
     "exception": false,
     "start_time": "2023-03-10T15:16:43.382172",
     "status": "completed"
    },
    "tags": []
   },
   "outputs": [],
   "source": [
    "from sklearn.tree import DecisionTreeClassifier\n",
    "import lightgbm as lgbm\n",
    "from sklearn.ensemble import RandomForestClassifier"
   ]
  },
  {
   "cell_type": "code",
   "execution_count": 24,
   "id": "02aaee18",
   "metadata": {
    "execution": {
     "iopub.execute_input": "2023-03-10T15:16:43.451466Z",
     "iopub.status.busy": "2023-03-10T15:16:43.451197Z",
     "iopub.status.idle": "2023-03-10T15:16:43.455496Z",
     "shell.execute_reply": "2023-03-10T15:16:43.454503Z"
    },
    "papermill": {
     "duration": 0.018272,
     "end_time": "2023-03-10T15:16:43.457138",
     "exception": false,
     "start_time": "2023-03-10T15:16:43.438866",
     "status": "completed"
    },
    "tags": []
   },
   "outputs": [],
   "source": [
    "metrics_data = {}"
   ]
  },
  {
   "cell_type": "markdown",
   "id": "b49309ed",
   "metadata": {
    "papermill": {
     "duration": 0.011153,
     "end_time": "2023-03-10T15:16:43.479634",
     "exception": false,
     "start_time": "2023-03-10T15:16:43.468481",
     "status": "completed"
    },
    "tags": []
   },
   "source": [
    "### Baseline: global features (No Time Series)"
   ]
  },
  {
   "cell_type": "code",
   "execution_count": 25,
   "id": "35eb9f66",
   "metadata": {
    "execution": {
     "iopub.execute_input": "2023-03-10T15:16:43.504735Z",
     "iopub.status.busy": "2023-03-10T15:16:43.504466Z",
     "iopub.status.idle": "2023-03-10T15:16:43.508775Z",
     "shell.execute_reply": "2023-03-10T15:16:43.507762Z"
    },
    "papermill": {
     "duration": 0.019364,
     "end_time": "2023-03-10T15:16:43.510508",
     "exception": false,
     "start_time": "2023-03-10T15:16:43.491144",
     "status": "completed"
    },
    "tags": []
   },
   "outputs": [],
   "source": [
    "metrics_data['Global'] = {}"
   ]
  },
  {
   "cell_type": "markdown",
   "id": "29cd5044",
   "metadata": {
    "papermill": {
     "duration": 0.011097,
     "end_time": "2023-03-10T15:16:43.534012",
     "exception": false,
     "start_time": "2023-03-10T15:16:43.522915",
     "status": "completed"
    },
    "tags": []
   },
   "source": [
    "**Decision Tree**"
   ]
  },
  {
   "cell_type": "code",
   "execution_count": 26,
   "id": "9ef4f037",
   "metadata": {
    "execution": {
     "iopub.execute_input": "2023-03-10T15:16:43.558074Z",
     "iopub.status.busy": "2023-03-10T15:16:43.557809Z",
     "iopub.status.idle": "2023-03-10T15:16:43.920402Z",
     "shell.execute_reply": "2023-03-10T15:16:43.919285Z"
    },
    "papermill": {
     "duration": 0.376603,
     "end_time": "2023-03-10T15:16:43.922072",
     "exception": false,
     "start_time": "2023-03-10T15:16:43.545469",
     "status": "completed"
    },
    "tags": []
   },
   "outputs": [
    {
     "data": {
      "text/html": [
       "<style>#sk-container-id-1 {color: black;background-color: white;}#sk-container-id-1 pre{padding: 0;}#sk-container-id-1 div.sk-toggleable {background-color: white;}#sk-container-id-1 label.sk-toggleable__label {cursor: pointer;display: block;width: 100%;margin-bottom: 0;padding: 0.3em;box-sizing: border-box;text-align: center;}#sk-container-id-1 label.sk-toggleable__label-arrow:before {content: \"▸\";float: left;margin-right: 0.25em;color: #696969;}#sk-container-id-1 label.sk-toggleable__label-arrow:hover:before {color: black;}#sk-container-id-1 div.sk-estimator:hover label.sk-toggleable__label-arrow:before {color: black;}#sk-container-id-1 div.sk-toggleable__content {max-height: 0;max-width: 0;overflow: hidden;text-align: left;background-color: #f0f8ff;}#sk-container-id-1 div.sk-toggleable__content pre {margin: 0.2em;color: black;border-radius: 0.25em;background-color: #f0f8ff;}#sk-container-id-1 input.sk-toggleable__control:checked~div.sk-toggleable__content {max-height: 200px;max-width: 100%;overflow: auto;}#sk-container-id-1 input.sk-toggleable__control:checked~label.sk-toggleable__label-arrow:before {content: \"▾\";}#sk-container-id-1 div.sk-estimator input.sk-toggleable__control:checked~label.sk-toggleable__label {background-color: #d4ebff;}#sk-container-id-1 div.sk-label input.sk-toggleable__control:checked~label.sk-toggleable__label {background-color: #d4ebff;}#sk-container-id-1 input.sk-hidden--visually {border: 0;clip: rect(1px 1px 1px 1px);clip: rect(1px, 1px, 1px, 1px);height: 1px;margin: -1px;overflow: hidden;padding: 0;position: absolute;width: 1px;}#sk-container-id-1 div.sk-estimator {font-family: monospace;background-color: #f0f8ff;border: 1px dotted black;border-radius: 0.25em;box-sizing: border-box;margin-bottom: 0.5em;}#sk-container-id-1 div.sk-estimator:hover {background-color: #d4ebff;}#sk-container-id-1 div.sk-parallel-item::after {content: \"\";width: 100%;border-bottom: 1px solid gray;flex-grow: 1;}#sk-container-id-1 div.sk-label:hover label.sk-toggleable__label {background-color: #d4ebff;}#sk-container-id-1 div.sk-serial::before {content: \"\";position: absolute;border-left: 1px solid gray;box-sizing: border-box;top: 0;bottom: 0;left: 50%;z-index: 0;}#sk-container-id-1 div.sk-serial {display: flex;flex-direction: column;align-items: center;background-color: white;padding-right: 0.2em;padding-left: 0.2em;position: relative;}#sk-container-id-1 div.sk-item {position: relative;z-index: 1;}#sk-container-id-1 div.sk-parallel {display: flex;align-items: stretch;justify-content: center;background-color: white;position: relative;}#sk-container-id-1 div.sk-item::before, #sk-container-id-1 div.sk-parallel-item::before {content: \"\";position: absolute;border-left: 1px solid gray;box-sizing: border-box;top: 0;bottom: 0;left: 50%;z-index: -1;}#sk-container-id-1 div.sk-parallel-item {display: flex;flex-direction: column;z-index: 1;position: relative;background-color: white;}#sk-container-id-1 div.sk-parallel-item:first-child::after {align-self: flex-end;width: 50%;}#sk-container-id-1 div.sk-parallel-item:last-child::after {align-self: flex-start;width: 50%;}#sk-container-id-1 div.sk-parallel-item:only-child::after {width: 0;}#sk-container-id-1 div.sk-dashed-wrapped {border: 1px dashed gray;margin: 0 0.4em 0.5em 0.4em;box-sizing: border-box;padding-bottom: 0.4em;background-color: white;}#sk-container-id-1 div.sk-label label {font-family: monospace;font-weight: bold;display: inline-block;line-height: 1.2em;}#sk-container-id-1 div.sk-label-container {text-align: center;}#sk-container-id-1 div.sk-container {/* jupyter's `normalize.less` sets `[hidden] { display: none; }` but bootstrap.min.css set `[hidden] { display: none !important; }` so we also need the `!important` here to be able to override the default hidden behavior on the sphinx rendered scikit-learn.org. See: https://github.com/scikit-learn/scikit-learn/issues/21755 */display: inline-block !important;position: relative;}#sk-container-id-1 div.sk-text-repr-fallback {display: none;}</style><div id=\"sk-container-id-1\" class=\"sk-top-container\"><div class=\"sk-text-repr-fallback\"><pre>DecisionTreeClassifier()</pre><b>In a Jupyter environment, please rerun this cell to show the HTML representation or trust the notebook. <br />On GitHub, the HTML representation is unable to render, please try loading this page with nbviewer.org.</b></div><div class=\"sk-container\" hidden><div class=\"sk-item\"><div class=\"sk-estimator sk-toggleable\"><input class=\"sk-toggleable__control sk-hidden--visually\" id=\"sk-estimator-id-1\" type=\"checkbox\" checked><label for=\"sk-estimator-id-1\" class=\"sk-toggleable__label sk-toggleable__label-arrow\">DecisionTreeClassifier</label><div class=\"sk-toggleable__content\"><pre>DecisionTreeClassifier()</pre></div></div></div></div></div>"
      ],
      "text/plain": [
       "DecisionTreeClassifier()"
      ]
     },
     "execution_count": 26,
     "metadata": {},
     "output_type": "execute_result"
    }
   ],
   "source": [
    "clf = DecisionTreeClassifier()\n",
    "clf.fit(X_train, y_train)"
   ]
  },
  {
   "cell_type": "code",
   "execution_count": 27,
   "id": "9c50acc4",
   "metadata": {
    "execution": {
     "iopub.execute_input": "2023-03-10T15:16:43.950506Z",
     "iopub.status.busy": "2023-03-10T15:16:43.950090Z",
     "iopub.status.idle": "2023-03-10T15:16:44.072338Z",
     "shell.execute_reply": "2023-03-10T15:16:44.071360Z"
    },
    "papermill": {
     "duration": 0.13886,
     "end_time": "2023-03-10T15:16:44.074075",
     "exception": false,
     "start_time": "2023-03-10T15:16:43.935215",
     "status": "completed"
    },
    "tags": []
   },
   "outputs": [
    {
     "name": "stdout",
     "output_type": "stream",
     "text": [
      "              precision    recall  f1-score   support\n",
      "\n",
      "         rap       0.85      0.86      0.86      2391\n",
      "        rock       0.86      0.85      0.86      2409\n",
      "\n",
      "    accuracy                           0.86      4800\n",
      "   macro avg       0.86      0.86      0.86      4800\n",
      "weighted avg       0.86      0.86      0.86      4800\n",
      "\n"
     ]
    }
   ],
   "source": [
    "y_pred = clf.predict(X_test)\n",
    "print(classification_report(y_test, y_pred))"
   ]
  },
  {
   "cell_type": "code",
   "execution_count": 28,
   "id": "8866c3c3",
   "metadata": {
    "execution": {
     "iopub.execute_input": "2023-03-10T15:16:44.099032Z",
     "iopub.status.busy": "2023-03-10T15:16:44.098789Z",
     "iopub.status.idle": "2023-03-10T15:16:44.211047Z",
     "shell.execute_reply": "2023-03-10T15:16:44.210138Z"
    },
    "papermill": {
     "duration": 0.126922,
     "end_time": "2023-03-10T15:16:44.213010",
     "exception": false,
     "start_time": "2023-03-10T15:16:44.086088",
     "status": "completed"
    },
    "tags": []
   },
   "outputs": [],
   "source": [
    "acc = accuracy_score(y_test, y_pred)\n",
    "pre = precision_score(y_test, y_pred, average=avg_par)\n",
    "rec = recall_score(y_test, y_pred, average=avg_par)\n",
    "f1 = f1_score(y_test, y_pred, average=avg_par)\n",
    "\n",
    "metrics_data['Global']['DecisionTree'] = {'Accuracy': acc, 'Precision': pre, 'Recall': rec, 'F1': f1}"
   ]
  },
  {
   "cell_type": "markdown",
   "id": "28aa5a63",
   "metadata": {
    "papermill": {
     "duration": 0.01154,
     "end_time": "2023-03-10T15:16:44.236407",
     "exception": false,
     "start_time": "2023-03-10T15:16:44.224867",
     "status": "completed"
    },
    "tags": []
   },
   "source": [
    "**Random Forest**"
   ]
  },
  {
   "cell_type": "code",
   "execution_count": 29,
   "id": "0e5e2310",
   "metadata": {
    "execution": {
     "iopub.execute_input": "2023-03-10T15:16:44.261137Z",
     "iopub.status.busy": "2023-03-10T15:16:44.260887Z",
     "iopub.status.idle": "2023-03-10T15:16:49.942223Z",
     "shell.execute_reply": "2023-03-10T15:16:49.940889Z"
    },
    "papermill": {
     "duration": 5.697618,
     "end_time": "2023-03-10T15:16:49.945758",
     "exception": false,
     "start_time": "2023-03-10T15:16:44.248140",
     "status": "completed"
    },
    "tags": []
   },
   "outputs": [
    {
     "data": {
      "text/html": [
       "<style>#sk-container-id-2 {color: black;background-color: white;}#sk-container-id-2 pre{padding: 0;}#sk-container-id-2 div.sk-toggleable {background-color: white;}#sk-container-id-2 label.sk-toggleable__label {cursor: pointer;display: block;width: 100%;margin-bottom: 0;padding: 0.3em;box-sizing: border-box;text-align: center;}#sk-container-id-2 label.sk-toggleable__label-arrow:before {content: \"▸\";float: left;margin-right: 0.25em;color: #696969;}#sk-container-id-2 label.sk-toggleable__label-arrow:hover:before {color: black;}#sk-container-id-2 div.sk-estimator:hover label.sk-toggleable__label-arrow:before {color: black;}#sk-container-id-2 div.sk-toggleable__content {max-height: 0;max-width: 0;overflow: hidden;text-align: left;background-color: #f0f8ff;}#sk-container-id-2 div.sk-toggleable__content pre {margin: 0.2em;color: black;border-radius: 0.25em;background-color: #f0f8ff;}#sk-container-id-2 input.sk-toggleable__control:checked~div.sk-toggleable__content {max-height: 200px;max-width: 100%;overflow: auto;}#sk-container-id-2 input.sk-toggleable__control:checked~label.sk-toggleable__label-arrow:before {content: \"▾\";}#sk-container-id-2 div.sk-estimator input.sk-toggleable__control:checked~label.sk-toggleable__label {background-color: #d4ebff;}#sk-container-id-2 div.sk-label input.sk-toggleable__control:checked~label.sk-toggleable__label {background-color: #d4ebff;}#sk-container-id-2 input.sk-hidden--visually {border: 0;clip: rect(1px 1px 1px 1px);clip: rect(1px, 1px, 1px, 1px);height: 1px;margin: -1px;overflow: hidden;padding: 0;position: absolute;width: 1px;}#sk-container-id-2 div.sk-estimator {font-family: monospace;background-color: #f0f8ff;border: 1px dotted black;border-radius: 0.25em;box-sizing: border-box;margin-bottom: 0.5em;}#sk-container-id-2 div.sk-estimator:hover {background-color: #d4ebff;}#sk-container-id-2 div.sk-parallel-item::after {content: \"\";width: 100%;border-bottom: 1px solid gray;flex-grow: 1;}#sk-container-id-2 div.sk-label:hover label.sk-toggleable__label {background-color: #d4ebff;}#sk-container-id-2 div.sk-serial::before {content: \"\";position: absolute;border-left: 1px solid gray;box-sizing: border-box;top: 0;bottom: 0;left: 50%;z-index: 0;}#sk-container-id-2 div.sk-serial {display: flex;flex-direction: column;align-items: center;background-color: white;padding-right: 0.2em;padding-left: 0.2em;position: relative;}#sk-container-id-2 div.sk-item {position: relative;z-index: 1;}#sk-container-id-2 div.sk-parallel {display: flex;align-items: stretch;justify-content: center;background-color: white;position: relative;}#sk-container-id-2 div.sk-item::before, #sk-container-id-2 div.sk-parallel-item::before {content: \"\";position: absolute;border-left: 1px solid gray;box-sizing: border-box;top: 0;bottom: 0;left: 50%;z-index: -1;}#sk-container-id-2 div.sk-parallel-item {display: flex;flex-direction: column;z-index: 1;position: relative;background-color: white;}#sk-container-id-2 div.sk-parallel-item:first-child::after {align-self: flex-end;width: 50%;}#sk-container-id-2 div.sk-parallel-item:last-child::after {align-self: flex-start;width: 50%;}#sk-container-id-2 div.sk-parallel-item:only-child::after {width: 0;}#sk-container-id-2 div.sk-dashed-wrapped {border: 1px dashed gray;margin: 0 0.4em 0.5em 0.4em;box-sizing: border-box;padding-bottom: 0.4em;background-color: white;}#sk-container-id-2 div.sk-label label {font-family: monospace;font-weight: bold;display: inline-block;line-height: 1.2em;}#sk-container-id-2 div.sk-label-container {text-align: center;}#sk-container-id-2 div.sk-container {/* jupyter's `normalize.less` sets `[hidden] { display: none; }` but bootstrap.min.css set `[hidden] { display: none !important; }` so we also need the `!important` here to be able to override the default hidden behavior on the sphinx rendered scikit-learn.org. See: https://github.com/scikit-learn/scikit-learn/issues/21755 */display: inline-block !important;position: relative;}#sk-container-id-2 div.sk-text-repr-fallback {display: none;}</style><div id=\"sk-container-id-2\" class=\"sk-top-container\"><div class=\"sk-text-repr-fallback\"><pre>RandomForestClassifier(random_state=42)</pre><b>In a Jupyter environment, please rerun this cell to show the HTML representation or trust the notebook. <br />On GitHub, the HTML representation is unable to render, please try loading this page with nbviewer.org.</b></div><div class=\"sk-container\" hidden><div class=\"sk-item\"><div class=\"sk-estimator sk-toggleable\"><input class=\"sk-toggleable__control sk-hidden--visually\" id=\"sk-estimator-id-2\" type=\"checkbox\" checked><label for=\"sk-estimator-id-2\" class=\"sk-toggleable__label sk-toggleable__label-arrow\">RandomForestClassifier</label><div class=\"sk-toggleable__content\"><pre>RandomForestClassifier(random_state=42)</pre></div></div></div></div></div>"
      ],
      "text/plain": [
       "RandomForestClassifier(random_state=42)"
      ]
     },
     "execution_count": 29,
     "metadata": {},
     "output_type": "execute_result"
    }
   ],
   "source": [
    "clf = RandomForestClassifier(random_state=42)\n",
    "clf.fit(X_train, y_train)"
   ]
  },
  {
   "cell_type": "code",
   "execution_count": 30,
   "id": "4bd1304b",
   "metadata": {
    "execution": {
     "iopub.execute_input": "2023-03-10T15:16:49.982548Z",
     "iopub.status.busy": "2023-03-10T15:16:49.981743Z",
     "iopub.status.idle": "2023-03-10T15:16:50.216772Z",
     "shell.execute_reply": "2023-03-10T15:16:50.216092Z"
    },
    "papermill": {
     "duration": 0.254615,
     "end_time": "2023-03-10T15:16:50.218940",
     "exception": false,
     "start_time": "2023-03-10T15:16:49.964325",
     "status": "completed"
    },
    "tags": []
   },
   "outputs": [
    {
     "name": "stdout",
     "output_type": "stream",
     "text": [
      "              precision    recall  f1-score   support\n",
      "\n",
      "         rap       0.93      0.89      0.91      2391\n",
      "        rock       0.90      0.93      0.92      2409\n",
      "\n",
      "    accuracy                           0.91      4800\n",
      "   macro avg       0.91      0.91      0.91      4800\n",
      "weighted avg       0.91      0.91      0.91      4800\n",
      "\n"
     ]
    }
   ],
   "source": [
    "y_pred = clf.predict(X_test)\n",
    "print(classification_report(y_test, y_pred))"
   ]
  },
  {
   "cell_type": "code",
   "execution_count": 31,
   "id": "43174ba2",
   "metadata": {
    "execution": {
     "iopub.execute_input": "2023-03-10T15:16:50.253066Z",
     "iopub.status.busy": "2023-03-10T15:16:50.252740Z",
     "iopub.status.idle": "2023-03-10T15:16:50.351425Z",
     "shell.execute_reply": "2023-03-10T15:16:50.350728Z"
    },
    "papermill": {
     "duration": 0.118324,
     "end_time": "2023-03-10T15:16:50.354108",
     "exception": false,
     "start_time": "2023-03-10T15:16:50.235784",
     "status": "completed"
    },
    "tags": []
   },
   "outputs": [],
   "source": [
    "acc = accuracy_score(y_test, y_pred)\n",
    "pre = precision_score(y_test, y_pred, average=avg_par)\n",
    "rec = recall_score(y_test, y_pred, average=avg_par)\n",
    "f1 = f1_score(y_test, y_pred, average=avg_par)\n",
    "\n",
    "metrics_data['Global']['RandomForest'] = {'Accuracy': acc, 'Precision': pre, 'Recall': rec, 'F1': f1}"
   ]
  },
  {
   "cell_type": "markdown",
   "id": "22c98ac5",
   "metadata": {
    "papermill": {
     "duration": 0.036892,
     "end_time": "2023-03-10T15:16:50.427236",
     "exception": false,
     "start_time": "2023-03-10T15:16:50.390344",
     "status": "completed"
    },
    "tags": []
   },
   "source": [
    "**LightGBM**"
   ]
  },
  {
   "cell_type": "code",
   "execution_count": 32,
   "id": "c93b818c",
   "metadata": {
    "execution": {
     "iopub.execute_input": "2023-03-10T15:16:50.465526Z",
     "iopub.status.busy": "2023-03-10T15:16:50.464408Z",
     "iopub.status.idle": "2023-03-10T15:16:50.925423Z",
     "shell.execute_reply": "2023-03-10T15:16:50.924571Z"
    },
    "papermill": {
     "duration": 0.480401,
     "end_time": "2023-03-10T15:16:50.928239",
     "exception": false,
     "start_time": "2023-03-10T15:16:50.447838",
     "status": "completed"
    },
    "tags": []
   },
   "outputs": [
    {
     "data": {
      "text/html": [
       "<style>#sk-container-id-3 {color: black;background-color: white;}#sk-container-id-3 pre{padding: 0;}#sk-container-id-3 div.sk-toggleable {background-color: white;}#sk-container-id-3 label.sk-toggleable__label {cursor: pointer;display: block;width: 100%;margin-bottom: 0;padding: 0.3em;box-sizing: border-box;text-align: center;}#sk-container-id-3 label.sk-toggleable__label-arrow:before {content: \"▸\";float: left;margin-right: 0.25em;color: #696969;}#sk-container-id-3 label.sk-toggleable__label-arrow:hover:before {color: black;}#sk-container-id-3 div.sk-estimator:hover label.sk-toggleable__label-arrow:before {color: black;}#sk-container-id-3 div.sk-toggleable__content {max-height: 0;max-width: 0;overflow: hidden;text-align: left;background-color: #f0f8ff;}#sk-container-id-3 div.sk-toggleable__content pre {margin: 0.2em;color: black;border-radius: 0.25em;background-color: #f0f8ff;}#sk-container-id-3 input.sk-toggleable__control:checked~div.sk-toggleable__content {max-height: 200px;max-width: 100%;overflow: auto;}#sk-container-id-3 input.sk-toggleable__control:checked~label.sk-toggleable__label-arrow:before {content: \"▾\";}#sk-container-id-3 div.sk-estimator input.sk-toggleable__control:checked~label.sk-toggleable__label {background-color: #d4ebff;}#sk-container-id-3 div.sk-label input.sk-toggleable__control:checked~label.sk-toggleable__label {background-color: #d4ebff;}#sk-container-id-3 input.sk-hidden--visually {border: 0;clip: rect(1px 1px 1px 1px);clip: rect(1px, 1px, 1px, 1px);height: 1px;margin: -1px;overflow: hidden;padding: 0;position: absolute;width: 1px;}#sk-container-id-3 div.sk-estimator {font-family: monospace;background-color: #f0f8ff;border: 1px dotted black;border-radius: 0.25em;box-sizing: border-box;margin-bottom: 0.5em;}#sk-container-id-3 div.sk-estimator:hover {background-color: #d4ebff;}#sk-container-id-3 div.sk-parallel-item::after {content: \"\";width: 100%;border-bottom: 1px solid gray;flex-grow: 1;}#sk-container-id-3 div.sk-label:hover label.sk-toggleable__label {background-color: #d4ebff;}#sk-container-id-3 div.sk-serial::before {content: \"\";position: absolute;border-left: 1px solid gray;box-sizing: border-box;top: 0;bottom: 0;left: 50%;z-index: 0;}#sk-container-id-3 div.sk-serial {display: flex;flex-direction: column;align-items: center;background-color: white;padding-right: 0.2em;padding-left: 0.2em;position: relative;}#sk-container-id-3 div.sk-item {position: relative;z-index: 1;}#sk-container-id-3 div.sk-parallel {display: flex;align-items: stretch;justify-content: center;background-color: white;position: relative;}#sk-container-id-3 div.sk-item::before, #sk-container-id-3 div.sk-parallel-item::before {content: \"\";position: absolute;border-left: 1px solid gray;box-sizing: border-box;top: 0;bottom: 0;left: 50%;z-index: -1;}#sk-container-id-3 div.sk-parallel-item {display: flex;flex-direction: column;z-index: 1;position: relative;background-color: white;}#sk-container-id-3 div.sk-parallel-item:first-child::after {align-self: flex-end;width: 50%;}#sk-container-id-3 div.sk-parallel-item:last-child::after {align-self: flex-start;width: 50%;}#sk-container-id-3 div.sk-parallel-item:only-child::after {width: 0;}#sk-container-id-3 div.sk-dashed-wrapped {border: 1px dashed gray;margin: 0 0.4em 0.5em 0.4em;box-sizing: border-box;padding-bottom: 0.4em;background-color: white;}#sk-container-id-3 div.sk-label label {font-family: monospace;font-weight: bold;display: inline-block;line-height: 1.2em;}#sk-container-id-3 div.sk-label-container {text-align: center;}#sk-container-id-3 div.sk-container {/* jupyter's `normalize.less` sets `[hidden] { display: none; }` but bootstrap.min.css set `[hidden] { display: none !important; }` so we also need the `!important` here to be able to override the default hidden behavior on the sphinx rendered scikit-learn.org. See: https://github.com/scikit-learn/scikit-learn/issues/21755 */display: inline-block !important;position: relative;}#sk-container-id-3 div.sk-text-repr-fallback {display: none;}</style><div id=\"sk-container-id-3\" class=\"sk-top-container\"><div class=\"sk-text-repr-fallback\"><pre>LGBMClassifier(objective=&#x27;binary&#x27;)</pre><b>In a Jupyter environment, please rerun this cell to show the HTML representation or trust the notebook. <br />On GitHub, the HTML representation is unable to render, please try loading this page with nbviewer.org.</b></div><div class=\"sk-container\" hidden><div class=\"sk-item\"><div class=\"sk-estimator sk-toggleable\"><input class=\"sk-toggleable__control sk-hidden--visually\" id=\"sk-estimator-id-3\" type=\"checkbox\" checked><label for=\"sk-estimator-id-3\" class=\"sk-toggleable__label sk-toggleable__label-arrow\">LGBMClassifier</label><div class=\"sk-toggleable__content\"><pre>LGBMClassifier(objective=&#x27;binary&#x27;)</pre></div></div></div></div></div>"
      ],
      "text/plain": [
       "LGBMClassifier(objective='binary')"
      ]
     },
     "execution_count": 32,
     "metadata": {},
     "output_type": "execute_result"
    }
   ],
   "source": [
    "clf = lgbm.LGBMClassifier(objective=obj_par) \n",
    "clf.fit(X_train, y_train)"
   ]
  },
  {
   "cell_type": "code",
   "execution_count": 33,
   "id": "600a663a",
   "metadata": {
    "execution": {
     "iopub.execute_input": "2023-03-10T15:16:50.959662Z",
     "iopub.status.busy": "2023-03-10T15:16:50.958533Z",
     "iopub.status.idle": "2023-03-10T15:16:51.105134Z",
     "shell.execute_reply": "2023-03-10T15:16:51.104468Z"
    },
    "papermill": {
     "duration": 0.163702,
     "end_time": "2023-03-10T15:16:51.107496",
     "exception": false,
     "start_time": "2023-03-10T15:16:50.943794",
     "status": "completed"
    },
    "tags": []
   },
   "outputs": [
    {
     "name": "stdout",
     "output_type": "stream",
     "text": [
      "              precision    recall  f1-score   support\n",
      "\n",
      "         rap       0.93      0.90      0.91      2391\n",
      "        rock       0.90      0.93      0.92      2409\n",
      "\n",
      "    accuracy                           0.92      4800\n",
      "   macro avg       0.92      0.92      0.92      4800\n",
      "weighted avg       0.92      0.92      0.92      4800\n",
      "\n"
     ]
    }
   ],
   "source": [
    "y_pred = clf.predict(X_test)\n",
    "print(classification_report(y_test, y_pred))"
   ]
  },
  {
   "cell_type": "code",
   "execution_count": 34,
   "id": "508d831d",
   "metadata": {
    "execution": {
     "iopub.execute_input": "2023-03-10T15:16:51.146290Z",
     "iopub.status.busy": "2023-03-10T15:16:51.145135Z",
     "iopub.status.idle": "2023-03-10T15:16:51.250382Z",
     "shell.execute_reply": "2023-03-10T15:16:51.249568Z"
    },
    "papermill": {
     "duration": 0.123242,
     "end_time": "2023-03-10T15:16:51.253155",
     "exception": false,
     "start_time": "2023-03-10T15:16:51.129913",
     "status": "completed"
    },
    "tags": []
   },
   "outputs": [],
   "source": [
    "acc = accuracy_score(y_test, y_pred)\n",
    "pre = precision_score(y_test, y_pred, average=avg_par)\n",
    "rec = recall_score(y_test, y_pred, average=avg_par)\n",
    "f1 = f1_score(y_test, y_pred, average=avg_par)\n",
    "\n",
    "metrics_data['Global']['LightGBM'] = {'Accuracy': acc, 'Precision': pre, 'Recall': rec, 'F1': f1}"
   ]
  },
  {
   "cell_type": "markdown",
   "id": "14b86894",
   "metadata": {
    "papermill": {
     "duration": 0.013209,
     "end_time": "2023-03-10T15:16:51.284573",
     "exception": false,
     "start_time": "2023-03-10T15:16:51.271364",
     "status": "completed"
    },
    "tags": []
   },
   "source": [
    "### Time Series Classification"
   ]
  },
  {
   "cell_type": "markdown",
   "id": "84c55533",
   "metadata": {
    "papermill": {
     "duration": 0.014355,
     "end_time": "2023-03-10T15:16:51.313010",
     "exception": false,
     "start_time": "2023-03-10T15:16:51.298655",
     "status": "completed"
    },
    "tags": []
   },
   "source": [
    "#### Learning Shapelets"
   ]
  },
  {
   "cell_type": "code",
   "execution_count": 35,
   "id": "488d8eb7",
   "metadata": {
    "execution": {
     "iopub.execute_input": "2023-03-10T15:16:51.344346Z",
     "iopub.status.busy": "2023-03-10T15:16:51.342952Z",
     "iopub.status.idle": "2023-03-10T15:16:53.300888Z",
     "shell.execute_reply": "2023-03-10T15:16:53.299968Z"
    },
    "papermill": {
     "duration": 1.978116,
     "end_time": "2023-03-10T15:16:53.304275",
     "exception": false,
     "start_time": "2023-03-10T15:16:51.326159",
     "status": "completed"
    },
    "tags": []
   },
   "outputs": [
    {
     "name": "stderr",
     "output_type": "stream",
     "text": [
      "2023-03-10 16:16:51.353133: I tensorflow/core/platform/cpu_feature_guard.cc:193] This TensorFlow binary is optimized with oneAPI Deep Neural Network Library (oneDNN) to use the following CPU instructions in performance-critical operations:  AVX2 FMA\n",
      "To enable them in other operations, rebuild TensorFlow with the appropriate compiler flags.\n"
     ]
    },
    {
     "name": "stderr",
     "output_type": "stream",
     "text": [
      "2023-03-10 16:16:51.523865: W tensorflow/compiler/xla/stream_executor/platform/default/dso_loader.cc:64] Could not load dynamic library 'libcudart.so.11.0'; dlerror: libcudart.so.11.0: cannot open shared object file: No such file or directory\n",
      "2023-03-10 16:16:51.523890: I tensorflow/compiler/xla/stream_executor/cuda/cudart_stub.cc:29] Ignore above cudart dlerror if you do not have a GPU set up on your machine.\n"
     ]
    },
    {
     "name": "stderr",
     "output_type": "stream",
     "text": [
      "2023-03-10 16:16:52.394975: W tensorflow/compiler/xla/stream_executor/platform/default/dso_loader.cc:64] Could not load dynamic library 'libnvinfer.so.7'; dlerror: libnvinfer.so.7: cannot open shared object file: No such file or directory\n",
      "2023-03-10 16:16:52.395058: W tensorflow/compiler/xla/stream_executor/platform/default/dso_loader.cc:64] Could not load dynamic library 'libnvinfer_plugin.so.7'; dlerror: libnvinfer_plugin.so.7: cannot open shared object file: No such file or directory\n",
      "2023-03-10 16:16:52.395067: W tensorflow/compiler/tf2tensorrt/utils/py_utils.cc:38] TF-TRT Warning: Cannot dlopen some TensorRT libraries. If you would like to use Nvidia GPU with TensorRT, please make sure the missing libraries mentioned above are installed properly.\n"
     ]
    }
   ],
   "source": [
    "from tslearn.shapelets import LearningShapelets, grabocka_params_to_shapelet_size_dict"
   ]
  },
  {
   "cell_type": "code",
   "execution_count": 36,
   "id": "eb677959",
   "metadata": {
    "execution": {
     "iopub.execute_input": "2023-03-10T15:16:53.378503Z",
     "iopub.status.busy": "2023-03-10T15:16:53.378023Z",
     "iopub.status.idle": "2023-03-10T15:16:53.383946Z",
     "shell.execute_reply": "2023-03-10T15:16:53.382517Z"
    },
    "papermill": {
     "duration": 0.049667,
     "end_time": "2023-03-10T15:16:53.388720",
     "exception": false,
     "start_time": "2023-03-10T15:16:53.339053",
     "status": "completed"
    },
    "tags": []
   },
   "outputs": [],
   "source": [
    "n_ts, ts_sz, _ = ts_train.shape\n",
    "n_classes = len(set(y_train))"
   ]
  },
  {
   "cell_type": "code",
   "execution_count": 37,
   "id": "776ed3dd",
   "metadata": {
    "execution": {
     "iopub.execute_input": "2023-03-10T15:16:53.425022Z",
     "iopub.status.busy": "2023-03-10T15:16:53.423842Z",
     "iopub.status.idle": "2023-03-10T15:16:53.433756Z",
     "shell.execute_reply": "2023-03-10T15:16:53.432532Z"
    },
    "papermill": {
     "duration": 0.029931,
     "end_time": "2023-03-10T15:16:53.435831",
     "exception": false,
     "start_time": "2023-03-10T15:16:53.405900",
     "status": "completed"
    },
    "tags": []
   },
   "outputs": [
    {
     "name": "stdout",
     "output_type": "stream",
     "text": [
      "n_ts 19200\n",
      "ts_sz 100\n",
      "n_classes 2\n",
      "shapelet_sizes {10: 6}\n"
     ]
    }
   ],
   "source": [
    "# Set the number of shapelets per size as done in the original paper\n",
    "g_shapelet_sizes = grabocka_params_to_shapelet_size_dict(n_ts=n_ts,\n",
    "                                                         ts_sz=ts_sz,\n",
    "                                                         n_classes=n_classes,\n",
    "                                                         l=0.1,\n",
    "                                                         r=1)\n",
    "\n",
    "print('n_ts', n_ts)\n",
    "print('ts_sz', ts_sz)\n",
    "print('n_classes', n_classes)\n",
    "print('shapelet_sizes', g_shapelet_sizes)"
   ]
  },
  {
   "cell_type": "code",
   "execution_count": 38,
   "id": "90ed707e",
   "metadata": {
    "execution": {
     "iopub.execute_input": "2023-03-10T15:16:53.464801Z",
     "iopub.status.busy": "2023-03-10T15:16:53.464387Z",
     "iopub.status.idle": "2023-03-10T15:16:53.474645Z",
     "shell.execute_reply": "2023-03-10T15:16:53.473623Z"
    },
    "papermill": {
     "duration": 0.026757,
     "end_time": "2023-03-10T15:16:53.476385",
     "exception": false,
     "start_time": "2023-03-10T15:16:53.449628",
     "status": "completed"
    },
    "tags": []
   },
   "outputs": [
    {
     "data": {
      "text/plain": [
       "{10: 6, 20: 6, 5: 6}"
      ]
     },
     "execution_count": 38,
     "metadata": {},
     "output_type": "execute_result"
    }
   ],
   "source": [
    "shapelet_sizes = {}\n",
    "for key in g_shapelet_sizes:\n",
    "    shapelet_sizes[key] = g_shapelet_sizes[key]\n",
    "    shapelet_sizes[key*2] = g_shapelet_sizes[key]\n",
    "    shapelet_sizes[key//2] = g_shapelet_sizes[key]\n",
    "shapelet_sizes"
   ]
  },
  {
   "cell_type": "code",
   "execution_count": 39,
   "id": "3507fb9c",
   "metadata": {
    "execution": {
     "iopub.execute_input": "2023-03-10T15:16:53.506265Z",
     "iopub.status.busy": "2023-03-10T15:16:53.505858Z",
     "iopub.status.idle": "2023-03-10T15:16:53.511817Z",
     "shell.execute_reply": "2023-03-10T15:16:53.510921Z"
    },
    "papermill": {
     "duration": 0.022069,
     "end_time": "2023-03-10T15:16:53.513234",
     "exception": false,
     "start_time": "2023-03-10T15:16:53.491165",
     "status": "completed"
    },
    "tags": []
   },
   "outputs": [
    {
     "name": "stderr",
     "output_type": "stream",
     "text": [
      "/home/mattiapggioli/lyrics2ts/.venv/lib/python3.9/site-packages/tslearn/shapelets/shapelets.py:354: FutureWarning: The default value for 'scale' is set to False in version 0.4 to ensure backward compatibility, but is likely to change in a future version.\n",
      "  warnings.warn(\"The default value for 'scale' is set to False \"\n"
     ]
    }
   ],
   "source": [
    "model = LearningShapelets(n_shapelets_per_size=shapelet_sizes,\n",
    "                          optimizer=\"adam\", \n",
    "                          weight_regularizer=.01, \n",
    "                          max_iter=max_iter, verbose=0, random_state=42)"
   ]
  },
  {
   "cell_type": "code",
   "execution_count": 40,
   "id": "73b1fe2e",
   "metadata": {
    "execution": {
     "iopub.execute_input": "2023-03-10T15:16:53.542788Z",
     "iopub.status.busy": "2023-03-10T15:16:53.542381Z",
     "iopub.status.idle": "2023-03-10T15:45:02.656664Z",
     "shell.execute_reply": "2023-03-10T15:45:02.655518Z"
    },
    "papermill": {
     "duration": 1689.193105,
     "end_time": "2023-03-10T15:45:02.720316",
     "exception": false,
     "start_time": "2023-03-10T15:16:53.527211",
     "status": "completed"
    },
    "tags": []
   },
   "outputs": [
    {
     "name": "stderr",
     "output_type": "stream",
     "text": [
      "2023-03-10 16:16:54.118645: W tensorflow/compiler/xla/stream_executor/platform/default/dso_loader.cc:64] Could not load dynamic library 'libcuda.so.1'; dlerror: libcuda.so.1: cannot open shared object file: No such file or directory\n",
      "2023-03-10 16:16:54.118669: W tensorflow/compiler/xla/stream_executor/cuda/cuda_driver.cc:265] failed call to cuInit: UNKNOWN ERROR (303)\n",
      "2023-03-10 16:16:54.118695: I tensorflow/compiler/xla/stream_executor/cuda/cuda_diagnostics.cc:156] kernel driver does not appear to be running on this host (mattiapggioli-ThinkPad-E595): /proc/driver/nvidia/version does not exist\n",
      "2023-03-10 16:16:54.118980: I tensorflow/core/platform/cpu_feature_guard.cc:193] This TensorFlow binary is optimized with oneAPI Deep Neural Network Library (oneDNN) to use the following CPU instructions in performance-critical operations:  AVX2 FMA\n",
      "To enable them in other operations, rebuild TensorFlow with the appropriate compiler flags.\n"
     ]
    },
    {
     "name": "stdout",
     "output_type": "stream",
     "text": [
      "CPU times: user 2h 27min 58s, sys: 7min 35s, total: 2h 35min 33s\n",
      "Wall time: 28min 9s\n"
     ]
    },
    {
     "data": {
      "text/html": [
       "<style>#sk-container-id-4 {color: black;background-color: white;}#sk-container-id-4 pre{padding: 0;}#sk-container-id-4 div.sk-toggleable {background-color: white;}#sk-container-id-4 label.sk-toggleable__label {cursor: pointer;display: block;width: 100%;margin-bottom: 0;padding: 0.3em;box-sizing: border-box;text-align: center;}#sk-container-id-4 label.sk-toggleable__label-arrow:before {content: \"▸\";float: left;margin-right: 0.25em;color: #696969;}#sk-container-id-4 label.sk-toggleable__label-arrow:hover:before {color: black;}#sk-container-id-4 div.sk-estimator:hover label.sk-toggleable__label-arrow:before {color: black;}#sk-container-id-4 div.sk-toggleable__content {max-height: 0;max-width: 0;overflow: hidden;text-align: left;background-color: #f0f8ff;}#sk-container-id-4 div.sk-toggleable__content pre {margin: 0.2em;color: black;border-radius: 0.25em;background-color: #f0f8ff;}#sk-container-id-4 input.sk-toggleable__control:checked~div.sk-toggleable__content {max-height: 200px;max-width: 100%;overflow: auto;}#sk-container-id-4 input.sk-toggleable__control:checked~label.sk-toggleable__label-arrow:before {content: \"▾\";}#sk-container-id-4 div.sk-estimator input.sk-toggleable__control:checked~label.sk-toggleable__label {background-color: #d4ebff;}#sk-container-id-4 div.sk-label input.sk-toggleable__control:checked~label.sk-toggleable__label {background-color: #d4ebff;}#sk-container-id-4 input.sk-hidden--visually {border: 0;clip: rect(1px 1px 1px 1px);clip: rect(1px, 1px, 1px, 1px);height: 1px;margin: -1px;overflow: hidden;padding: 0;position: absolute;width: 1px;}#sk-container-id-4 div.sk-estimator {font-family: monospace;background-color: #f0f8ff;border: 1px dotted black;border-radius: 0.25em;box-sizing: border-box;margin-bottom: 0.5em;}#sk-container-id-4 div.sk-estimator:hover {background-color: #d4ebff;}#sk-container-id-4 div.sk-parallel-item::after {content: \"\";width: 100%;border-bottom: 1px solid gray;flex-grow: 1;}#sk-container-id-4 div.sk-label:hover label.sk-toggleable__label {background-color: #d4ebff;}#sk-container-id-4 div.sk-serial::before {content: \"\";position: absolute;border-left: 1px solid gray;box-sizing: border-box;top: 0;bottom: 0;left: 50%;z-index: 0;}#sk-container-id-4 div.sk-serial {display: flex;flex-direction: column;align-items: center;background-color: white;padding-right: 0.2em;padding-left: 0.2em;position: relative;}#sk-container-id-4 div.sk-item {position: relative;z-index: 1;}#sk-container-id-4 div.sk-parallel {display: flex;align-items: stretch;justify-content: center;background-color: white;position: relative;}#sk-container-id-4 div.sk-item::before, #sk-container-id-4 div.sk-parallel-item::before {content: \"\";position: absolute;border-left: 1px solid gray;box-sizing: border-box;top: 0;bottom: 0;left: 50%;z-index: -1;}#sk-container-id-4 div.sk-parallel-item {display: flex;flex-direction: column;z-index: 1;position: relative;background-color: white;}#sk-container-id-4 div.sk-parallel-item:first-child::after {align-self: flex-end;width: 50%;}#sk-container-id-4 div.sk-parallel-item:last-child::after {align-self: flex-start;width: 50%;}#sk-container-id-4 div.sk-parallel-item:only-child::after {width: 0;}#sk-container-id-4 div.sk-dashed-wrapped {border: 1px dashed gray;margin: 0 0.4em 0.5em 0.4em;box-sizing: border-box;padding-bottom: 0.4em;background-color: white;}#sk-container-id-4 div.sk-label label {font-family: monospace;font-weight: bold;display: inline-block;line-height: 1.2em;}#sk-container-id-4 div.sk-label-container {text-align: center;}#sk-container-id-4 div.sk-container {/* jupyter's `normalize.less` sets `[hidden] { display: none; }` but bootstrap.min.css set `[hidden] { display: none !important; }` so we also need the `!important` here to be able to override the default hidden behavior on the sphinx rendered scikit-learn.org. See: https://github.com/scikit-learn/scikit-learn/issues/21755 */display: inline-block !important;position: relative;}#sk-container-id-4 div.sk-text-repr-fallback {display: none;}</style><div id=\"sk-container-id-4\" class=\"sk-top-container\"><div class=\"sk-text-repr-fallback\"><pre>LearningShapelets(max_iter=2000, n_shapelets_per_size={5: 6, 10: 6, 20: 6},\n",
       "                  optimizer=&#x27;adam&#x27;, random_state=42, weight_regularizer=0.01)</pre><b>In a Jupyter environment, please rerun this cell to show the HTML representation or trust the notebook. <br />On GitHub, the HTML representation is unable to render, please try loading this page with nbviewer.org.</b></div><div class=\"sk-container\" hidden><div class=\"sk-item\"><div class=\"sk-estimator sk-toggleable\"><input class=\"sk-toggleable__control sk-hidden--visually\" id=\"sk-estimator-id-4\" type=\"checkbox\" checked><label for=\"sk-estimator-id-4\" class=\"sk-toggleable__label sk-toggleable__label-arrow\">LearningShapelets</label><div class=\"sk-toggleable__content\"><pre>LearningShapelets(max_iter=2000, n_shapelets_per_size={5: 6, 10: 6, 20: 6},\n",
       "                  optimizer=&#x27;adam&#x27;, random_state=42, weight_regularizer=0.01)</pre></div></div></div></div></div>"
      ],
      "text/plain": [
       "LearningShapelets(max_iter=2000, n_shapelets_per_size={5: 6, 10: 6, 20: 6},\n",
       "                  optimizer='adam', random_state=42, weight_regularizer=0.01)"
      ]
     },
     "execution_count": 40,
     "metadata": {},
     "output_type": "execute_result"
    }
   ],
   "source": [
    "%%time\n",
    "model.fit(ts_train, y_train)"
   ]
  },
  {
   "cell_type": "code",
   "execution_count": 41,
   "id": "51706baa",
   "metadata": {
    "execution": {
     "iopub.execute_input": "2023-03-10T15:45:02.749281Z",
     "iopub.status.busy": "2023-03-10T15:45:02.748733Z",
     "iopub.status.idle": "2023-03-10T15:45:02.785090Z",
     "shell.execute_reply": "2023-03-10T15:45:02.783781Z"
    },
    "papermill": {
     "duration": 0.053495,
     "end_time": "2023-03-10T15:45:02.787258",
     "exception": false,
     "start_time": "2023-03-10T15:45:02.733763",
     "status": "completed"
    },
    "tags": []
   },
   "outputs": [],
   "source": [
    "model.to_pickle(f'{data_path}/shapelets.pkl')"
   ]
  },
  {
   "cell_type": "markdown",
   "id": "309f70dc",
   "metadata": {
    "papermill": {
     "duration": 0.013064,
     "end_time": "2023-03-10T15:45:02.815764",
     "exception": false,
     "start_time": "2023-03-10T15:45:02.802700",
     "status": "completed"
    },
    "tags": []
   },
   "source": [
    "#### Shapelet-Based Classification"
   ]
  },
  {
   "cell_type": "code",
   "execution_count": 42,
   "id": "60125dff",
   "metadata": {
    "execution": {
     "iopub.execute_input": "2023-03-10T15:45:02.846083Z",
     "iopub.status.busy": "2023-03-10T15:45:02.845591Z",
     "iopub.status.idle": "2023-03-10T15:45:02.851647Z",
     "shell.execute_reply": "2023-03-10T15:45:02.850380Z"
    },
    "papermill": {
     "duration": 0.024066,
     "end_time": "2023-03-10T15:45:02.853558",
     "exception": false,
     "start_time": "2023-03-10T15:45:02.829492",
     "status": "completed"
    },
    "tags": []
   },
   "outputs": [],
   "source": [
    "metrics_data['Shapelets'] = {}"
   ]
  },
  {
   "cell_type": "code",
   "execution_count": 43,
   "id": "efb8984d",
   "metadata": {
    "execution": {
     "iopub.execute_input": "2023-03-10T15:45:02.884672Z",
     "iopub.status.busy": "2023-03-10T15:45:02.884183Z",
     "iopub.status.idle": "2023-03-10T15:45:04.913888Z",
     "shell.execute_reply": "2023-03-10T15:45:04.912859Z"
    },
    "papermill": {
     "duration": 2.048207,
     "end_time": "2023-03-10T15:45:04.916489",
     "exception": false,
     "start_time": "2023-03-10T15:45:02.868282",
     "status": "completed"
    },
    "tags": []
   },
   "outputs": [],
   "source": [
    "X_train = model.transform(ts_train)\n",
    "X_test = model.transform(ts_test)"
   ]
  },
  {
   "cell_type": "code",
   "execution_count": 44,
   "id": "2e6c0f22",
   "metadata": {
    "execution": {
     "iopub.execute_input": "2023-03-10T15:45:04.948985Z",
     "iopub.status.busy": "2023-03-10T15:45:04.948070Z",
     "iopub.status.idle": "2023-03-10T15:45:04.971025Z",
     "shell.execute_reply": "2023-03-10T15:45:04.970388Z"
    },
    "papermill": {
     "duration": 0.040309,
     "end_time": "2023-03-10T15:45:04.973767",
     "exception": false,
     "start_time": "2023-03-10T15:45:04.933458",
     "status": "completed"
    },
    "tags": []
   },
   "outputs": [
    {
     "data": {
      "text/html": [
       "<div>\n",
       "<style scoped>\n",
       "    .dataframe tbody tr th:only-of-type {\n",
       "        vertical-align: middle;\n",
       "    }\n",
       "\n",
       "    .dataframe tbody tr th {\n",
       "        vertical-align: top;\n",
       "    }\n",
       "\n",
       "    .dataframe thead th {\n",
       "        text-align: right;\n",
       "    }\n",
       "</style>\n",
       "<table border=\"1\" class=\"dataframe\">\n",
       "  <thead>\n",
       "    <tr style=\"text-align: right;\">\n",
       "      <th></th>\n",
       "      <th>0</th>\n",
       "      <th>1</th>\n",
       "      <th>2</th>\n",
       "      <th>3</th>\n",
       "      <th>4</th>\n",
       "      <th>5</th>\n",
       "      <th>6</th>\n",
       "      <th>7</th>\n",
       "      <th>8</th>\n",
       "      <th>9</th>\n",
       "      <th>10</th>\n",
       "      <th>11</th>\n",
       "      <th>12</th>\n",
       "      <th>13</th>\n",
       "      <th>14</th>\n",
       "      <th>15</th>\n",
       "      <th>16</th>\n",
       "      <th>17</th>\n",
       "    </tr>\n",
       "  </thead>\n",
       "  <tbody>\n",
       "    <tr>\n",
       "      <th>0</th>\n",
       "      <td>2.155095</td>\n",
       "      <td>19.153290</td>\n",
       "      <td>12.956476</td>\n",
       "      <td>0.152290</td>\n",
       "      <td>10.283661</td>\n",
       "      <td>6.320539</td>\n",
       "      <td>5.896220</td>\n",
       "      <td>4.208570</td>\n",
       "      <td>3.727310</td>\n",
       "      <td>0.039567</td>\n",
       "      <td>14.223887</td>\n",
       "      <td>11.506989</td>\n",
       "      <td>1.012198</td>\n",
       "      <td>1.874272</td>\n",
       "      <td>1.401469</td>\n",
       "      <td>0.763430</td>\n",
       "      <td>0.733628</td>\n",
       "      <td>21.314856</td>\n",
       "    </tr>\n",
       "    <tr>\n",
       "      <th>1</th>\n",
       "      <td>1.941470</td>\n",
       "      <td>6.477182</td>\n",
       "      <td>22.239540</td>\n",
       "      <td>1.366447</td>\n",
       "      <td>15.847130</td>\n",
       "      <td>9.148952</td>\n",
       "      <td>1.749401</td>\n",
       "      <td>4.348530</td>\n",
       "      <td>1.553490</td>\n",
       "      <td>1.093816</td>\n",
       "      <td>15.246482</td>\n",
       "      <td>16.149723</td>\n",
       "      <td>0.170174</td>\n",
       "      <td>2.563592</td>\n",
       "      <td>0.079318</td>\n",
       "      <td>0.282075</td>\n",
       "      <td>0.296579</td>\n",
       "      <td>10.967455</td>\n",
       "    </tr>\n",
       "    <tr>\n",
       "      <th>2</th>\n",
       "      <td>1.618671</td>\n",
       "      <td>16.642004</td>\n",
       "      <td>9.076563</td>\n",
       "      <td>0.547540</td>\n",
       "      <td>13.720931</td>\n",
       "      <td>9.034484</td>\n",
       "      <td>5.576897</td>\n",
       "      <td>3.835564</td>\n",
       "      <td>3.048114</td>\n",
       "      <td>0.143960</td>\n",
       "      <td>11.470255</td>\n",
       "      <td>10.326310</td>\n",
       "      <td>0.509645</td>\n",
       "      <td>1.721811</td>\n",
       "      <td>0.825466</td>\n",
       "      <td>0.340015</td>\n",
       "      <td>0.319952</td>\n",
       "      <td>18.996626</td>\n",
       "    </tr>\n",
       "    <tr>\n",
       "      <th>3</th>\n",
       "      <td>1.975220</td>\n",
       "      <td>6.622426</td>\n",
       "      <td>14.425565</td>\n",
       "      <td>0.410458</td>\n",
       "      <td>15.803428</td>\n",
       "      <td>8.895389</td>\n",
       "      <td>1.492144</td>\n",
       "      <td>5.208499</td>\n",
       "      <td>1.614952</td>\n",
       "      <td>0.691156</td>\n",
       "      <td>13.198522</td>\n",
       "      <td>10.374016</td>\n",
       "      <td>0.067258</td>\n",
       "      <td>2.429080</td>\n",
       "      <td>0.010659</td>\n",
       "      <td>0.155753</td>\n",
       "      <td>0.167450</td>\n",
       "      <td>9.853533</td>\n",
       "    </tr>\n",
       "    <tr>\n",
       "      <th>4</th>\n",
       "      <td>2.550693</td>\n",
       "      <td>19.302099</td>\n",
       "      <td>12.184168</td>\n",
       "      <td>0.191719</td>\n",
       "      <td>16.324896</td>\n",
       "      <td>11.112235</td>\n",
       "      <td>4.829981</td>\n",
       "      <td>4.226435</td>\n",
       "      <td>2.675410</td>\n",
       "      <td>0.038880</td>\n",
       "      <td>11.668049</td>\n",
       "      <td>11.006134</td>\n",
       "      <td>1.047361</td>\n",
       "      <td>1.218187</td>\n",
       "      <td>1.445990</td>\n",
       "      <td>0.821665</td>\n",
       "      <td>0.790940</td>\n",
       "      <td>20.793432</td>\n",
       "    </tr>\n",
       "    <tr>\n",
       "      <th>...</th>\n",
       "      <td>...</td>\n",
       "      <td>...</td>\n",
       "      <td>...</td>\n",
       "      <td>...</td>\n",
       "      <td>...</td>\n",
       "      <td>...</td>\n",
       "      <td>...</td>\n",
       "      <td>...</td>\n",
       "      <td>...</td>\n",
       "      <td>...</td>\n",
       "      <td>...</td>\n",
       "      <td>...</td>\n",
       "      <td>...</td>\n",
       "      <td>...</td>\n",
       "      <td>...</td>\n",
       "      <td>...</td>\n",
       "      <td>...</td>\n",
       "      <td>...</td>\n",
       "    </tr>\n",
       "    <tr>\n",
       "      <th>4795</th>\n",
       "      <td>0.482382</td>\n",
       "      <td>7.375717</td>\n",
       "      <td>12.726374</td>\n",
       "      <td>1.688051</td>\n",
       "      <td>13.631492</td>\n",
       "      <td>9.037090</td>\n",
       "      <td>1.832776</td>\n",
       "      <td>4.103437</td>\n",
       "      <td>2.489645</td>\n",
       "      <td>3.448769</td>\n",
       "      <td>12.785151</td>\n",
       "      <td>16.682497</td>\n",
       "      <td>1.044761</td>\n",
       "      <td>4.691367</td>\n",
       "      <td>0.687843</td>\n",
       "      <td>1.341407</td>\n",
       "      <td>1.378716</td>\n",
       "      <td>10.800975</td>\n",
       "    </tr>\n",
       "    <tr>\n",
       "      <th>4796</th>\n",
       "      <td>2.837283</td>\n",
       "      <td>8.803934</td>\n",
       "      <td>27.914688</td>\n",
       "      <td>3.422332</td>\n",
       "      <td>13.803607</td>\n",
       "      <td>11.444302</td>\n",
       "      <td>2.182822</td>\n",
       "      <td>5.745552</td>\n",
       "      <td>1.820685</td>\n",
       "      <td>3.536397</td>\n",
       "      <td>19.738951</td>\n",
       "      <td>23.567236</td>\n",
       "      <td>0.708340</td>\n",
       "      <td>5.341568</td>\n",
       "      <td>0.421912</td>\n",
       "      <td>0.956130</td>\n",
       "      <td>0.987428</td>\n",
       "      <td>12.751750</td>\n",
       "    </tr>\n",
       "    <tr>\n",
       "      <th>4797</th>\n",
       "      <td>0.733923</td>\n",
       "      <td>10.998237</td>\n",
       "      <td>4.719434</td>\n",
       "      <td>0.085035</td>\n",
       "      <td>10.701784</td>\n",
       "      <td>7.160321</td>\n",
       "      <td>4.327006</td>\n",
       "      <td>3.444226</td>\n",
       "      <td>4.099518</td>\n",
       "      <td>0.096500</td>\n",
       "      <td>10.548087</td>\n",
       "      <td>3.589778</td>\n",
       "      <td>3.465633</td>\n",
       "      <td>1.939766</td>\n",
       "      <td>3.951545</td>\n",
       "      <td>3.178879</td>\n",
       "      <td>3.137182</td>\n",
       "      <td>20.862738</td>\n",
       "    </tr>\n",
       "    <tr>\n",
       "      <th>4798</th>\n",
       "      <td>2.271773</td>\n",
       "      <td>14.563776</td>\n",
       "      <td>6.563226</td>\n",
       "      <td>0.231342</td>\n",
       "      <td>10.239150</td>\n",
       "      <td>5.685390</td>\n",
       "      <td>7.349337</td>\n",
       "      <td>3.675829</td>\n",
       "      <td>4.104522</td>\n",
       "      <td>0.631535</td>\n",
       "      <td>10.803756</td>\n",
       "      <td>3.820123</td>\n",
       "      <td>3.261441</td>\n",
       "      <td>2.234921</td>\n",
       "      <td>4.003216</td>\n",
       "      <td>2.796583</td>\n",
       "      <td>2.740194</td>\n",
       "      <td>24.458364</td>\n",
       "    </tr>\n",
       "    <tr>\n",
       "      <th>4799</th>\n",
       "      <td>0.873422</td>\n",
       "      <td>6.271402</td>\n",
       "      <td>30.836639</td>\n",
       "      <td>3.250714</td>\n",
       "      <td>16.574770</td>\n",
       "      <td>8.573964</td>\n",
       "      <td>1.230447</td>\n",
       "      <td>6.240451</td>\n",
       "      <td>2.928837</td>\n",
       "      <td>2.981964</td>\n",
       "      <td>18.550383</td>\n",
       "      <td>21.917891</td>\n",
       "      <td>0.666134</td>\n",
       "      <td>4.831658</td>\n",
       "      <td>0.442347</td>\n",
       "      <td>0.859781</td>\n",
       "      <td>0.891693</td>\n",
       "      <td>11.111419</td>\n",
       "    </tr>\n",
       "  </tbody>\n",
       "</table>\n",
       "<p>4800 rows × 18 columns</p>\n",
       "</div>"
      ],
      "text/plain": [
       "            0          1          2         3          4          5   \\\n",
       "0     2.155095  19.153290  12.956476  0.152290  10.283661   6.320539   \n",
       "1     1.941470   6.477182  22.239540  1.366447  15.847130   9.148952   \n",
       "2     1.618671  16.642004   9.076563  0.547540  13.720931   9.034484   \n",
       "3     1.975220   6.622426  14.425565  0.410458  15.803428   8.895389   \n",
       "4     2.550693  19.302099  12.184168  0.191719  16.324896  11.112235   \n",
       "...        ...        ...        ...       ...        ...        ...   \n",
       "4795  0.482382   7.375717  12.726374  1.688051  13.631492   9.037090   \n",
       "4796  2.837283   8.803934  27.914688  3.422332  13.803607  11.444302   \n",
       "4797  0.733923  10.998237   4.719434  0.085035  10.701784   7.160321   \n",
       "4798  2.271773  14.563776   6.563226  0.231342  10.239150   5.685390   \n",
       "4799  0.873422   6.271402  30.836639  3.250714  16.574770   8.573964   \n",
       "\n",
       "            6         7         8         9          10         11        12  \\\n",
       "0     5.896220  4.208570  3.727310  0.039567  14.223887  11.506989  1.012198   \n",
       "1     1.749401  4.348530  1.553490  1.093816  15.246482  16.149723  0.170174   \n",
       "2     5.576897  3.835564  3.048114  0.143960  11.470255  10.326310  0.509645   \n",
       "3     1.492144  5.208499  1.614952  0.691156  13.198522  10.374016  0.067258   \n",
       "4     4.829981  4.226435  2.675410  0.038880  11.668049  11.006134  1.047361   \n",
       "...        ...       ...       ...       ...        ...        ...       ...   \n",
       "4795  1.832776  4.103437  2.489645  3.448769  12.785151  16.682497  1.044761   \n",
       "4796  2.182822  5.745552  1.820685  3.536397  19.738951  23.567236  0.708340   \n",
       "4797  4.327006  3.444226  4.099518  0.096500  10.548087   3.589778  3.465633   \n",
       "4798  7.349337  3.675829  4.104522  0.631535  10.803756   3.820123  3.261441   \n",
       "4799  1.230447  6.240451  2.928837  2.981964  18.550383  21.917891  0.666134   \n",
       "\n",
       "            13        14        15        16         17  \n",
       "0     1.874272  1.401469  0.763430  0.733628  21.314856  \n",
       "1     2.563592  0.079318  0.282075  0.296579  10.967455  \n",
       "2     1.721811  0.825466  0.340015  0.319952  18.996626  \n",
       "3     2.429080  0.010659  0.155753  0.167450   9.853533  \n",
       "4     1.218187  1.445990  0.821665  0.790940  20.793432  \n",
       "...        ...       ...       ...       ...        ...  \n",
       "4795  4.691367  0.687843  1.341407  1.378716  10.800975  \n",
       "4796  5.341568  0.421912  0.956130  0.987428  12.751750  \n",
       "4797  1.939766  3.951545  3.178879  3.137182  20.862738  \n",
       "4798  2.234921  4.003216  2.796583  2.740194  24.458364  \n",
       "4799  4.831658  0.442347  0.859781  0.891693  11.111419  \n",
       "\n",
       "[4800 rows x 18 columns]"
      ]
     },
     "execution_count": 44,
     "metadata": {},
     "output_type": "execute_result"
    }
   ],
   "source": [
    "pd.DataFrame(X_test)"
   ]
  },
  {
   "cell_type": "markdown",
   "id": "5fa024f7",
   "metadata": {
    "execution": {
     "iopub.execute_input": "2023-02-07T23:47:19.876941Z",
     "iopub.status.busy": "2023-02-07T23:47:19.876424Z",
     "iopub.status.idle": "2023-02-07T23:47:20.399488Z",
     "shell.execute_reply": "2023-02-07T23:47:20.398142Z"
    },
    "papermill": {
     "duration": 0.023659,
     "end_time": "2023-03-10T15:45:05.031596",
     "exception": false,
     "start_time": "2023-03-10T15:45:05.007937",
     "status": "completed"
    },
    "tags": []
   },
   "source": [
    "**Decision Tree**"
   ]
  },
  {
   "cell_type": "code",
   "execution_count": 45,
   "id": "4f5400c9",
   "metadata": {
    "execution": {
     "iopub.execute_input": "2023-03-10T15:45:05.060604Z",
     "iopub.status.busy": "2023-03-10T15:45:05.060298Z",
     "iopub.status.idle": "2023-03-10T15:45:05.675045Z",
     "shell.execute_reply": "2023-03-10T15:45:05.674103Z"
    },
    "papermill": {
     "duration": 0.632286,
     "end_time": "2023-03-10T15:45:05.677688",
     "exception": false,
     "start_time": "2023-03-10T15:45:05.045402",
     "status": "completed"
    },
    "tags": []
   },
   "outputs": [
    {
     "data": {
      "text/html": [
       "<style>#sk-container-id-5 {color: black;background-color: white;}#sk-container-id-5 pre{padding: 0;}#sk-container-id-5 div.sk-toggleable {background-color: white;}#sk-container-id-5 label.sk-toggleable__label {cursor: pointer;display: block;width: 100%;margin-bottom: 0;padding: 0.3em;box-sizing: border-box;text-align: center;}#sk-container-id-5 label.sk-toggleable__label-arrow:before {content: \"▸\";float: left;margin-right: 0.25em;color: #696969;}#sk-container-id-5 label.sk-toggleable__label-arrow:hover:before {color: black;}#sk-container-id-5 div.sk-estimator:hover label.sk-toggleable__label-arrow:before {color: black;}#sk-container-id-5 div.sk-toggleable__content {max-height: 0;max-width: 0;overflow: hidden;text-align: left;background-color: #f0f8ff;}#sk-container-id-5 div.sk-toggleable__content pre {margin: 0.2em;color: black;border-radius: 0.25em;background-color: #f0f8ff;}#sk-container-id-5 input.sk-toggleable__control:checked~div.sk-toggleable__content {max-height: 200px;max-width: 100%;overflow: auto;}#sk-container-id-5 input.sk-toggleable__control:checked~label.sk-toggleable__label-arrow:before {content: \"▾\";}#sk-container-id-5 div.sk-estimator input.sk-toggleable__control:checked~label.sk-toggleable__label {background-color: #d4ebff;}#sk-container-id-5 div.sk-label input.sk-toggleable__control:checked~label.sk-toggleable__label {background-color: #d4ebff;}#sk-container-id-5 input.sk-hidden--visually {border: 0;clip: rect(1px 1px 1px 1px);clip: rect(1px, 1px, 1px, 1px);height: 1px;margin: -1px;overflow: hidden;padding: 0;position: absolute;width: 1px;}#sk-container-id-5 div.sk-estimator {font-family: monospace;background-color: #f0f8ff;border: 1px dotted black;border-radius: 0.25em;box-sizing: border-box;margin-bottom: 0.5em;}#sk-container-id-5 div.sk-estimator:hover {background-color: #d4ebff;}#sk-container-id-5 div.sk-parallel-item::after {content: \"\";width: 100%;border-bottom: 1px solid gray;flex-grow: 1;}#sk-container-id-5 div.sk-label:hover label.sk-toggleable__label {background-color: #d4ebff;}#sk-container-id-5 div.sk-serial::before {content: \"\";position: absolute;border-left: 1px solid gray;box-sizing: border-box;top: 0;bottom: 0;left: 50%;z-index: 0;}#sk-container-id-5 div.sk-serial {display: flex;flex-direction: column;align-items: center;background-color: white;padding-right: 0.2em;padding-left: 0.2em;position: relative;}#sk-container-id-5 div.sk-item {position: relative;z-index: 1;}#sk-container-id-5 div.sk-parallel {display: flex;align-items: stretch;justify-content: center;background-color: white;position: relative;}#sk-container-id-5 div.sk-item::before, #sk-container-id-5 div.sk-parallel-item::before {content: \"\";position: absolute;border-left: 1px solid gray;box-sizing: border-box;top: 0;bottom: 0;left: 50%;z-index: -1;}#sk-container-id-5 div.sk-parallel-item {display: flex;flex-direction: column;z-index: 1;position: relative;background-color: white;}#sk-container-id-5 div.sk-parallel-item:first-child::after {align-self: flex-end;width: 50%;}#sk-container-id-5 div.sk-parallel-item:last-child::after {align-self: flex-start;width: 50%;}#sk-container-id-5 div.sk-parallel-item:only-child::after {width: 0;}#sk-container-id-5 div.sk-dashed-wrapped {border: 1px dashed gray;margin: 0 0.4em 0.5em 0.4em;box-sizing: border-box;padding-bottom: 0.4em;background-color: white;}#sk-container-id-5 div.sk-label label {font-family: monospace;font-weight: bold;display: inline-block;line-height: 1.2em;}#sk-container-id-5 div.sk-label-container {text-align: center;}#sk-container-id-5 div.sk-container {/* jupyter's `normalize.less` sets `[hidden] { display: none; }` but bootstrap.min.css set `[hidden] { display: none !important; }` so we also need the `!important` here to be able to override the default hidden behavior on the sphinx rendered scikit-learn.org. See: https://github.com/scikit-learn/scikit-learn/issues/21755 */display: inline-block !important;position: relative;}#sk-container-id-5 div.sk-text-repr-fallback {display: none;}</style><div id=\"sk-container-id-5\" class=\"sk-top-container\"><div class=\"sk-text-repr-fallback\"><pre>DecisionTreeClassifier(random_state=42)</pre><b>In a Jupyter environment, please rerun this cell to show the HTML representation or trust the notebook. <br />On GitHub, the HTML representation is unable to render, please try loading this page with nbviewer.org.</b></div><div class=\"sk-container\" hidden><div class=\"sk-item\"><div class=\"sk-estimator sk-toggleable\"><input class=\"sk-toggleable__control sk-hidden--visually\" id=\"sk-estimator-id-5\" type=\"checkbox\" checked><label for=\"sk-estimator-id-5\" class=\"sk-toggleable__label sk-toggleable__label-arrow\">DecisionTreeClassifier</label><div class=\"sk-toggleable__content\"><pre>DecisionTreeClassifier(random_state=42)</pre></div></div></div></div></div>"
      ],
      "text/plain": [
       "DecisionTreeClassifier(random_state=42)"
      ]
     },
     "execution_count": 45,
     "metadata": {},
     "output_type": "execute_result"
    }
   ],
   "source": [
    "clf = DecisionTreeClassifier(random_state=42)\n",
    "clf.fit(X_train, y_train)"
   ]
  },
  {
   "cell_type": "code",
   "execution_count": 46,
   "id": "3b56d190",
   "metadata": {
    "execution": {
     "iopub.execute_input": "2023-03-10T15:45:05.710195Z",
     "iopub.status.busy": "2023-03-10T15:45:05.709745Z",
     "iopub.status.idle": "2023-03-10T15:45:05.859621Z",
     "shell.execute_reply": "2023-03-10T15:45:05.858568Z"
    },
    "papermill": {
     "duration": 0.168596,
     "end_time": "2023-03-10T15:45:05.862788",
     "exception": false,
     "start_time": "2023-03-10T15:45:05.694192",
     "status": "completed"
    },
    "tags": []
   },
   "outputs": [
    {
     "name": "stdout",
     "output_type": "stream",
     "text": [
      "              precision    recall  f1-score   support\n",
      "\n",
      "         rap       0.79      0.79      0.79      2391\n",
      "        rock       0.79      0.79      0.79      2409\n",
      "\n",
      "    accuracy                           0.79      4800\n",
      "   macro avg       0.79      0.79      0.79      4800\n",
      "weighted avg       0.79      0.79      0.79      4800\n",
      "\n"
     ]
    }
   ],
   "source": [
    "y_pred = clf.predict(X_test)\n",
    "print(classification_report(y_test, y_pred))"
   ]
  },
  {
   "cell_type": "code",
   "execution_count": 47,
   "id": "42bc91ff",
   "metadata": {
    "execution": {
     "iopub.execute_input": "2023-03-10T15:45:05.938981Z",
     "iopub.status.busy": "2023-03-10T15:45:05.938683Z",
     "iopub.status.idle": "2023-03-10T15:45:05.944775Z",
     "shell.execute_reply": "2023-03-10T15:45:05.943810Z"
    },
    "papermill": {
     "duration": 0.045609,
     "end_time": "2023-03-10T15:45:05.946514",
     "exception": false,
     "start_time": "2023-03-10T15:45:05.900905",
     "status": "completed"
    },
    "tags": []
   },
   "outputs": [],
   "source": [
    "pickle.dump(clf, open(f'{data_path}/decision_tree.pkl', 'wb'))"
   ]
  },
  {
   "cell_type": "code",
   "execution_count": 48,
   "id": "ea9be210",
   "metadata": {
    "execution": {
     "iopub.execute_input": "2023-03-10T15:45:05.975033Z",
     "iopub.status.busy": "2023-03-10T15:45:05.974623Z",
     "iopub.status.idle": "2023-03-10T15:45:06.121598Z",
     "shell.execute_reply": "2023-03-10T15:45:06.120673Z"
    },
    "papermill": {
     "duration": 0.164215,
     "end_time": "2023-03-10T15:45:06.124196",
     "exception": false,
     "start_time": "2023-03-10T15:45:05.959981",
     "status": "completed"
    },
    "tags": []
   },
   "outputs": [],
   "source": [
    "acc = accuracy_score(y_test, y_pred)\n",
    "pre = precision_score(y_test, y_pred, average=avg_par)\n",
    "rec = recall_score(y_test, y_pred, average=avg_par)\n",
    "f1 = f1_score(y_test, y_pred, average=avg_par)\n",
    "\n",
    "metrics_data['Shapelets']['DecisionTree'] = {'Accuracy': acc, 'Precision': pre, 'Recall': rec, 'F1': f1}"
   ]
  },
  {
   "cell_type": "markdown",
   "id": "3ca3443b",
   "metadata": {
    "papermill": {
     "duration": 0.038361,
     "end_time": "2023-03-10T15:45:06.200252",
     "exception": false,
     "start_time": "2023-03-10T15:45:06.161891",
     "status": "completed"
    },
    "tags": []
   },
   "source": [
    "**Random Forest**"
   ]
  },
  {
   "cell_type": "code",
   "execution_count": 49,
   "id": "37795e21",
   "metadata": {
    "execution": {
     "iopub.execute_input": "2023-03-10T15:45:06.232236Z",
     "iopub.status.busy": "2023-03-10T15:45:06.231773Z",
     "iopub.status.idle": "2023-03-10T15:45:14.140919Z",
     "shell.execute_reply": "2023-03-10T15:45:14.139905Z"
    },
    "papermill": {
     "duration": 7.926726,
     "end_time": "2023-03-10T15:45:14.142925",
     "exception": false,
     "start_time": "2023-03-10T15:45:06.216199",
     "status": "completed"
    },
    "tags": []
   },
   "outputs": [
    {
     "data": {
      "text/html": [
       "<style>#sk-container-id-6 {color: black;background-color: white;}#sk-container-id-6 pre{padding: 0;}#sk-container-id-6 div.sk-toggleable {background-color: white;}#sk-container-id-6 label.sk-toggleable__label {cursor: pointer;display: block;width: 100%;margin-bottom: 0;padding: 0.3em;box-sizing: border-box;text-align: center;}#sk-container-id-6 label.sk-toggleable__label-arrow:before {content: \"▸\";float: left;margin-right: 0.25em;color: #696969;}#sk-container-id-6 label.sk-toggleable__label-arrow:hover:before {color: black;}#sk-container-id-6 div.sk-estimator:hover label.sk-toggleable__label-arrow:before {color: black;}#sk-container-id-6 div.sk-toggleable__content {max-height: 0;max-width: 0;overflow: hidden;text-align: left;background-color: #f0f8ff;}#sk-container-id-6 div.sk-toggleable__content pre {margin: 0.2em;color: black;border-radius: 0.25em;background-color: #f0f8ff;}#sk-container-id-6 input.sk-toggleable__control:checked~div.sk-toggleable__content {max-height: 200px;max-width: 100%;overflow: auto;}#sk-container-id-6 input.sk-toggleable__control:checked~label.sk-toggleable__label-arrow:before {content: \"▾\";}#sk-container-id-6 div.sk-estimator input.sk-toggleable__control:checked~label.sk-toggleable__label {background-color: #d4ebff;}#sk-container-id-6 div.sk-label input.sk-toggleable__control:checked~label.sk-toggleable__label {background-color: #d4ebff;}#sk-container-id-6 input.sk-hidden--visually {border: 0;clip: rect(1px 1px 1px 1px);clip: rect(1px, 1px, 1px, 1px);height: 1px;margin: -1px;overflow: hidden;padding: 0;position: absolute;width: 1px;}#sk-container-id-6 div.sk-estimator {font-family: monospace;background-color: #f0f8ff;border: 1px dotted black;border-radius: 0.25em;box-sizing: border-box;margin-bottom: 0.5em;}#sk-container-id-6 div.sk-estimator:hover {background-color: #d4ebff;}#sk-container-id-6 div.sk-parallel-item::after {content: \"\";width: 100%;border-bottom: 1px solid gray;flex-grow: 1;}#sk-container-id-6 div.sk-label:hover label.sk-toggleable__label {background-color: #d4ebff;}#sk-container-id-6 div.sk-serial::before {content: \"\";position: absolute;border-left: 1px solid gray;box-sizing: border-box;top: 0;bottom: 0;left: 50%;z-index: 0;}#sk-container-id-6 div.sk-serial {display: flex;flex-direction: column;align-items: center;background-color: white;padding-right: 0.2em;padding-left: 0.2em;position: relative;}#sk-container-id-6 div.sk-item {position: relative;z-index: 1;}#sk-container-id-6 div.sk-parallel {display: flex;align-items: stretch;justify-content: center;background-color: white;position: relative;}#sk-container-id-6 div.sk-item::before, #sk-container-id-6 div.sk-parallel-item::before {content: \"\";position: absolute;border-left: 1px solid gray;box-sizing: border-box;top: 0;bottom: 0;left: 50%;z-index: -1;}#sk-container-id-6 div.sk-parallel-item {display: flex;flex-direction: column;z-index: 1;position: relative;background-color: white;}#sk-container-id-6 div.sk-parallel-item:first-child::after {align-self: flex-end;width: 50%;}#sk-container-id-6 div.sk-parallel-item:last-child::after {align-self: flex-start;width: 50%;}#sk-container-id-6 div.sk-parallel-item:only-child::after {width: 0;}#sk-container-id-6 div.sk-dashed-wrapped {border: 1px dashed gray;margin: 0 0.4em 0.5em 0.4em;box-sizing: border-box;padding-bottom: 0.4em;background-color: white;}#sk-container-id-6 div.sk-label label {font-family: monospace;font-weight: bold;display: inline-block;line-height: 1.2em;}#sk-container-id-6 div.sk-label-container {text-align: center;}#sk-container-id-6 div.sk-container {/* jupyter's `normalize.less` sets `[hidden] { display: none; }` but bootstrap.min.css set `[hidden] { display: none !important; }` so we also need the `!important` here to be able to override the default hidden behavior on the sphinx rendered scikit-learn.org. See: https://github.com/scikit-learn/scikit-learn/issues/21755 */display: inline-block !important;position: relative;}#sk-container-id-6 div.sk-text-repr-fallback {display: none;}</style><div id=\"sk-container-id-6\" class=\"sk-top-container\"><div class=\"sk-text-repr-fallback\"><pre>RandomForestClassifier(random_state=42)</pre><b>In a Jupyter environment, please rerun this cell to show the HTML representation or trust the notebook. <br />On GitHub, the HTML representation is unable to render, please try loading this page with nbviewer.org.</b></div><div class=\"sk-container\" hidden><div class=\"sk-item\"><div class=\"sk-estimator sk-toggleable\"><input class=\"sk-toggleable__control sk-hidden--visually\" id=\"sk-estimator-id-6\" type=\"checkbox\" checked><label for=\"sk-estimator-id-6\" class=\"sk-toggleable__label sk-toggleable__label-arrow\">RandomForestClassifier</label><div class=\"sk-toggleable__content\"><pre>RandomForestClassifier(random_state=42)</pre></div></div></div></div></div>"
      ],
      "text/plain": [
       "RandomForestClassifier(random_state=42)"
      ]
     },
     "execution_count": 49,
     "metadata": {},
     "output_type": "execute_result"
    }
   ],
   "source": [
    "clf = RandomForestClassifier(random_state=42)\n",
    "clf.fit(X_train, y_train)"
   ]
  },
  {
   "cell_type": "code",
   "execution_count": 50,
   "id": "581ab90a",
   "metadata": {
    "execution": {
     "iopub.execute_input": "2023-03-10T15:45:14.178588Z",
     "iopub.status.busy": "2023-03-10T15:45:14.178289Z",
     "iopub.status.idle": "2023-03-10T15:45:14.404728Z",
     "shell.execute_reply": "2023-03-10T15:45:14.403686Z"
    },
    "papermill": {
     "duration": 0.24595,
     "end_time": "2023-03-10T15:45:14.406903",
     "exception": false,
     "start_time": "2023-03-10T15:45:14.160953",
     "status": "completed"
    },
    "tags": []
   },
   "outputs": [
    {
     "name": "stdout",
     "output_type": "stream",
     "text": [
      "              precision    recall  f1-score   support\n",
      "\n",
      "         rap       0.88      0.86      0.87      2391\n",
      "        rock       0.86      0.88      0.87      2409\n",
      "\n",
      "    accuracy                           0.87      4800\n",
      "   macro avg       0.87      0.87      0.87      4800\n",
      "weighted avg       0.87      0.87      0.87      4800\n",
      "\n"
     ]
    }
   ],
   "source": [
    "y_pred = clf.predict(X_test)\n",
    "print(classification_report(y_test, y_pred))"
   ]
  },
  {
   "cell_type": "code",
   "execution_count": 51,
   "id": "faf1d7f4",
   "metadata": {
    "execution": {
     "iopub.execute_input": "2023-03-10T15:45:14.440409Z",
     "iopub.status.busy": "2023-03-10T15:45:14.440111Z",
     "iopub.status.idle": "2023-03-10T15:45:14.543273Z",
     "shell.execute_reply": "2023-03-10T15:45:14.542432Z"
    },
    "papermill": {
     "duration": 0.121527,
     "end_time": "2023-03-10T15:45:14.545558",
     "exception": false,
     "start_time": "2023-03-10T15:45:14.424031",
     "status": "completed"
    },
    "tags": []
   },
   "outputs": [],
   "source": [
    "acc = accuracy_score(y_test, y_pred)\n",
    "pre = precision_score(y_test, y_pred, average=avg_par)\n",
    "rec = recall_score(y_test, y_pred, average=avg_par)\n",
    "f1 = f1_score(y_test, y_pred, average=avg_par)\n",
    "\n",
    "metrics_data['Shapelets']['RandomForest'] = {'Accuracy': acc, 'Precision': pre, 'Recall': rec, 'F1': f1}"
   ]
  },
  {
   "cell_type": "markdown",
   "id": "61fceefb",
   "metadata": {
    "papermill": {
     "duration": 0.014018,
     "end_time": "2023-03-10T15:45:14.582239",
     "exception": false,
     "start_time": "2023-03-10T15:45:14.568221",
     "status": "completed"
    },
    "tags": []
   },
   "source": [
    "**LightGBM**"
   ]
  },
  {
   "cell_type": "code",
   "execution_count": 52,
   "id": "194189da",
   "metadata": {
    "execution": {
     "iopub.execute_input": "2023-03-10T15:45:14.614107Z",
     "iopub.status.busy": "2023-03-10T15:45:14.613618Z",
     "iopub.status.idle": "2023-03-10T15:45:14.932414Z",
     "shell.execute_reply": "2023-03-10T15:45:14.931686Z"
    },
    "papermill": {
     "duration": 0.339398,
     "end_time": "2023-03-10T15:45:14.936163",
     "exception": false,
     "start_time": "2023-03-10T15:45:14.596765",
     "status": "completed"
    },
    "tags": []
   },
   "outputs": [
    {
     "data": {
      "text/html": [
       "<style>#sk-container-id-7 {color: black;background-color: white;}#sk-container-id-7 pre{padding: 0;}#sk-container-id-7 div.sk-toggleable {background-color: white;}#sk-container-id-7 label.sk-toggleable__label {cursor: pointer;display: block;width: 100%;margin-bottom: 0;padding: 0.3em;box-sizing: border-box;text-align: center;}#sk-container-id-7 label.sk-toggleable__label-arrow:before {content: \"▸\";float: left;margin-right: 0.25em;color: #696969;}#sk-container-id-7 label.sk-toggleable__label-arrow:hover:before {color: black;}#sk-container-id-7 div.sk-estimator:hover label.sk-toggleable__label-arrow:before {color: black;}#sk-container-id-7 div.sk-toggleable__content {max-height: 0;max-width: 0;overflow: hidden;text-align: left;background-color: #f0f8ff;}#sk-container-id-7 div.sk-toggleable__content pre {margin: 0.2em;color: black;border-radius: 0.25em;background-color: #f0f8ff;}#sk-container-id-7 input.sk-toggleable__control:checked~div.sk-toggleable__content {max-height: 200px;max-width: 100%;overflow: auto;}#sk-container-id-7 input.sk-toggleable__control:checked~label.sk-toggleable__label-arrow:before {content: \"▾\";}#sk-container-id-7 div.sk-estimator input.sk-toggleable__control:checked~label.sk-toggleable__label {background-color: #d4ebff;}#sk-container-id-7 div.sk-label input.sk-toggleable__control:checked~label.sk-toggleable__label {background-color: #d4ebff;}#sk-container-id-7 input.sk-hidden--visually {border: 0;clip: rect(1px 1px 1px 1px);clip: rect(1px, 1px, 1px, 1px);height: 1px;margin: -1px;overflow: hidden;padding: 0;position: absolute;width: 1px;}#sk-container-id-7 div.sk-estimator {font-family: monospace;background-color: #f0f8ff;border: 1px dotted black;border-radius: 0.25em;box-sizing: border-box;margin-bottom: 0.5em;}#sk-container-id-7 div.sk-estimator:hover {background-color: #d4ebff;}#sk-container-id-7 div.sk-parallel-item::after {content: \"\";width: 100%;border-bottom: 1px solid gray;flex-grow: 1;}#sk-container-id-7 div.sk-label:hover label.sk-toggleable__label {background-color: #d4ebff;}#sk-container-id-7 div.sk-serial::before {content: \"\";position: absolute;border-left: 1px solid gray;box-sizing: border-box;top: 0;bottom: 0;left: 50%;z-index: 0;}#sk-container-id-7 div.sk-serial {display: flex;flex-direction: column;align-items: center;background-color: white;padding-right: 0.2em;padding-left: 0.2em;position: relative;}#sk-container-id-7 div.sk-item {position: relative;z-index: 1;}#sk-container-id-7 div.sk-parallel {display: flex;align-items: stretch;justify-content: center;background-color: white;position: relative;}#sk-container-id-7 div.sk-item::before, #sk-container-id-7 div.sk-parallel-item::before {content: \"\";position: absolute;border-left: 1px solid gray;box-sizing: border-box;top: 0;bottom: 0;left: 50%;z-index: -1;}#sk-container-id-7 div.sk-parallel-item {display: flex;flex-direction: column;z-index: 1;position: relative;background-color: white;}#sk-container-id-7 div.sk-parallel-item:first-child::after {align-self: flex-end;width: 50%;}#sk-container-id-7 div.sk-parallel-item:last-child::after {align-self: flex-start;width: 50%;}#sk-container-id-7 div.sk-parallel-item:only-child::after {width: 0;}#sk-container-id-7 div.sk-dashed-wrapped {border: 1px dashed gray;margin: 0 0.4em 0.5em 0.4em;box-sizing: border-box;padding-bottom: 0.4em;background-color: white;}#sk-container-id-7 div.sk-label label {font-family: monospace;font-weight: bold;display: inline-block;line-height: 1.2em;}#sk-container-id-7 div.sk-label-container {text-align: center;}#sk-container-id-7 div.sk-container {/* jupyter's `normalize.less` sets `[hidden] { display: none; }` but bootstrap.min.css set `[hidden] { display: none !important; }` so we also need the `!important` here to be able to override the default hidden behavior on the sphinx rendered scikit-learn.org. See: https://github.com/scikit-learn/scikit-learn/issues/21755 */display: inline-block !important;position: relative;}#sk-container-id-7 div.sk-text-repr-fallback {display: none;}</style><div id=\"sk-container-id-7\" class=\"sk-top-container\"><div class=\"sk-text-repr-fallback\"><pre>LGBMClassifier(objective=&#x27;binary&#x27;)</pre><b>In a Jupyter environment, please rerun this cell to show the HTML representation or trust the notebook. <br />On GitHub, the HTML representation is unable to render, please try loading this page with nbviewer.org.</b></div><div class=\"sk-container\" hidden><div class=\"sk-item\"><div class=\"sk-estimator sk-toggleable\"><input class=\"sk-toggleable__control sk-hidden--visually\" id=\"sk-estimator-id-7\" type=\"checkbox\" checked><label for=\"sk-estimator-id-7\" class=\"sk-toggleable__label sk-toggleable__label-arrow\">LGBMClassifier</label><div class=\"sk-toggleable__content\"><pre>LGBMClassifier(objective=&#x27;binary&#x27;)</pre></div></div></div></div></div>"
      ],
      "text/plain": [
       "LGBMClassifier(objective='binary')"
      ]
     },
     "execution_count": 52,
     "metadata": {},
     "output_type": "execute_result"
    }
   ],
   "source": [
    "clf = lgbm.LGBMClassifier(objective=obj_par) \n",
    "clf.fit(X_train, y_train)"
   ]
  },
  {
   "cell_type": "code",
   "execution_count": 53,
   "id": "355a078b",
   "metadata": {
    "execution": {
     "iopub.execute_input": "2023-03-10T15:45:15.024059Z",
     "iopub.status.busy": "2023-03-10T15:45:15.023771Z",
     "iopub.status.idle": "2023-03-10T15:45:15.195065Z",
     "shell.execute_reply": "2023-03-10T15:45:15.194176Z"
    },
    "papermill": {
     "duration": 0.219513,
     "end_time": "2023-03-10T15:45:15.198482",
     "exception": false,
     "start_time": "2023-03-10T15:45:14.978969",
     "status": "completed"
    },
    "tags": []
   },
   "outputs": [
    {
     "name": "stdout",
     "output_type": "stream",
     "text": [
      "              precision    recall  f1-score   support\n",
      "\n",
      "         rap       0.87      0.85      0.86      2391\n",
      "        rock       0.86      0.88      0.87      2409\n",
      "\n",
      "    accuracy                           0.87      4800\n",
      "   macro avg       0.87      0.87      0.87      4800\n",
      "weighted avg       0.87      0.87      0.87      4800\n",
      "\n"
     ]
    }
   ],
   "source": [
    "y_pred = clf.predict(X_test)\n",
    "print(classification_report(y_test, y_pred))"
   ]
  },
  {
   "cell_type": "code",
   "execution_count": 54,
   "id": "f22b911e",
   "metadata": {
    "execution": {
     "iopub.execute_input": "2023-03-10T15:45:15.281599Z",
     "iopub.status.busy": "2023-03-10T15:45:15.280684Z",
     "iopub.status.idle": "2023-03-10T15:45:15.417462Z",
     "shell.execute_reply": "2023-03-10T15:45:15.416275Z"
    },
    "papermill": {
     "duration": 0.181446,
     "end_time": "2023-03-10T15:45:15.420719",
     "exception": false,
     "start_time": "2023-03-10T15:45:15.239273",
     "status": "completed"
    },
    "tags": []
   },
   "outputs": [],
   "source": [
    "acc = accuracy_score(y_test, y_pred)\n",
    "pre = precision_score(y_test, y_pred, average=avg_par)\n",
    "rec = recall_score(y_test, y_pred, average=avg_par)\n",
    "f1 = f1_score(y_test, y_pred, average=avg_par)\n",
    "\n",
    "metrics_data['Shapelets']['LightGBM'] = {'Accuracy': acc, 'Precision': pre, 'Recall': rec, 'F1': f1}"
   ]
  },
  {
   "cell_type": "markdown",
   "id": "0809af9f",
   "metadata": {
    "papermill": {
     "duration": 0.044243,
     "end_time": "2023-03-10T15:45:15.504662",
     "exception": false,
     "start_time": "2023-03-10T15:45:15.460419",
     "status": "completed"
    },
    "tags": []
   },
   "source": [
    "#### KNN"
   ]
  },
  {
   "cell_type": "code",
   "execution_count": 55,
   "id": "1c9237e0",
   "metadata": {
    "execution": {
     "iopub.execute_input": "2023-03-10T15:45:15.534558Z",
     "iopub.status.busy": "2023-03-10T15:45:15.533654Z",
     "iopub.status.idle": "2023-03-10T15:45:15.539676Z",
     "shell.execute_reply": "2023-03-10T15:45:15.538657Z"
    },
    "papermill": {
     "duration": 0.022844,
     "end_time": "2023-03-10T15:45:15.541356",
     "exception": false,
     "start_time": "2023-03-10T15:45:15.518512",
     "status": "completed"
    },
    "tags": []
   },
   "outputs": [],
   "source": [
    "X_train = ts_train.reshape((ts_train.shape[0], ts_train.shape[1]))\n",
    "X_test = ts_test.reshape((ts_test.shape[0], ts_test.shape[1]))"
   ]
  },
  {
   "cell_type": "code",
   "execution_count": 56,
   "id": "192f3c3f",
   "metadata": {
    "execution": {
     "iopub.execute_input": "2023-03-10T15:45:15.570868Z",
     "iopub.status.busy": "2023-03-10T15:45:15.570549Z",
     "iopub.status.idle": "2023-03-10T15:45:15.576644Z",
     "shell.execute_reply": "2023-03-10T15:45:15.575691Z"
    },
    "papermill": {
     "duration": 0.022847,
     "end_time": "2023-03-10T15:45:15.578131",
     "exception": false,
     "start_time": "2023-03-10T15:45:15.555284",
     "status": "completed"
    },
    "tags": []
   },
   "outputs": [
    {
     "data": {
      "text/plain": [
       "(19200, 100)"
      ]
     },
     "execution_count": 56,
     "metadata": {},
     "output_type": "execute_result"
    }
   ],
   "source": [
    "X_train.shape"
   ]
  },
  {
   "cell_type": "code",
   "execution_count": 57,
   "id": "de0e5000",
   "metadata": {
    "execution": {
     "iopub.execute_input": "2023-03-10T15:45:15.608831Z",
     "iopub.status.busy": "2023-03-10T15:45:15.608543Z",
     "iopub.status.idle": "2023-03-10T15:45:15.613088Z",
     "shell.execute_reply": "2023-03-10T15:45:15.611895Z"
    },
    "papermill": {
     "duration": 0.023272,
     "end_time": "2023-03-10T15:45:15.615869",
     "exception": false,
     "start_time": "2023-03-10T15:45:15.592597",
     "status": "completed"
    },
    "tags": []
   },
   "outputs": [],
   "source": [
    "metrics_data['KNN'] = {}"
   ]
  },
  {
   "cell_type": "markdown",
   "id": "8ee39c05",
   "metadata": {
    "papermill": {
     "duration": 0.01772,
     "end_time": "2023-03-10T15:45:15.652592",
     "exception": false,
     "start_time": "2023-03-10T15:45:15.634872",
     "status": "completed"
    },
    "tags": []
   },
   "source": [
    "**Euclidean Distance**"
   ]
  },
  {
   "cell_type": "code",
   "execution_count": 58,
   "id": "55db1f58",
   "metadata": {
    "execution": {
     "iopub.execute_input": "2023-03-10T15:45:15.694225Z",
     "iopub.status.busy": "2023-03-10T15:45:15.693006Z",
     "iopub.status.idle": "2023-03-10T15:45:15.699633Z",
     "shell.execute_reply": "2023-03-10T15:45:15.698602Z"
    },
    "papermill": {
     "duration": 0.029728,
     "end_time": "2023-03-10T15:45:15.701664",
     "exception": false,
     "start_time": "2023-03-10T15:45:15.671936",
     "status": "completed"
    },
    "tags": []
   },
   "outputs": [],
   "source": [
    "from sklearn.neighbors import KNeighborsClassifier"
   ]
  },
  {
   "cell_type": "code",
   "execution_count": 59,
   "id": "132c2537",
   "metadata": {
    "execution": {
     "iopub.execute_input": "2023-03-10T15:45:15.735611Z",
     "iopub.status.busy": "2023-03-10T15:45:15.734556Z",
     "iopub.status.idle": "2023-03-10T15:45:15.791082Z",
     "shell.execute_reply": "2023-03-10T15:45:15.789824Z"
    },
    "papermill": {
     "duration": 0.074702,
     "end_time": "2023-03-10T15:45:15.793173",
     "exception": false,
     "start_time": "2023-03-10T15:45:15.718471",
     "status": "completed"
    },
    "tags": []
   },
   "outputs": [
    {
     "data": {
      "text/html": [
       "<style>#sk-container-id-8 {color: black;background-color: white;}#sk-container-id-8 pre{padding: 0;}#sk-container-id-8 div.sk-toggleable {background-color: white;}#sk-container-id-8 label.sk-toggleable__label {cursor: pointer;display: block;width: 100%;margin-bottom: 0;padding: 0.3em;box-sizing: border-box;text-align: center;}#sk-container-id-8 label.sk-toggleable__label-arrow:before {content: \"▸\";float: left;margin-right: 0.25em;color: #696969;}#sk-container-id-8 label.sk-toggleable__label-arrow:hover:before {color: black;}#sk-container-id-8 div.sk-estimator:hover label.sk-toggleable__label-arrow:before {color: black;}#sk-container-id-8 div.sk-toggleable__content {max-height: 0;max-width: 0;overflow: hidden;text-align: left;background-color: #f0f8ff;}#sk-container-id-8 div.sk-toggleable__content pre {margin: 0.2em;color: black;border-radius: 0.25em;background-color: #f0f8ff;}#sk-container-id-8 input.sk-toggleable__control:checked~div.sk-toggleable__content {max-height: 200px;max-width: 100%;overflow: auto;}#sk-container-id-8 input.sk-toggleable__control:checked~label.sk-toggleable__label-arrow:before {content: \"▾\";}#sk-container-id-8 div.sk-estimator input.sk-toggleable__control:checked~label.sk-toggleable__label {background-color: #d4ebff;}#sk-container-id-8 div.sk-label input.sk-toggleable__control:checked~label.sk-toggleable__label {background-color: #d4ebff;}#sk-container-id-8 input.sk-hidden--visually {border: 0;clip: rect(1px 1px 1px 1px);clip: rect(1px, 1px, 1px, 1px);height: 1px;margin: -1px;overflow: hidden;padding: 0;position: absolute;width: 1px;}#sk-container-id-8 div.sk-estimator {font-family: monospace;background-color: #f0f8ff;border: 1px dotted black;border-radius: 0.25em;box-sizing: border-box;margin-bottom: 0.5em;}#sk-container-id-8 div.sk-estimator:hover {background-color: #d4ebff;}#sk-container-id-8 div.sk-parallel-item::after {content: \"\";width: 100%;border-bottom: 1px solid gray;flex-grow: 1;}#sk-container-id-8 div.sk-label:hover label.sk-toggleable__label {background-color: #d4ebff;}#sk-container-id-8 div.sk-serial::before {content: \"\";position: absolute;border-left: 1px solid gray;box-sizing: border-box;top: 0;bottom: 0;left: 50%;z-index: 0;}#sk-container-id-8 div.sk-serial {display: flex;flex-direction: column;align-items: center;background-color: white;padding-right: 0.2em;padding-left: 0.2em;position: relative;}#sk-container-id-8 div.sk-item {position: relative;z-index: 1;}#sk-container-id-8 div.sk-parallel {display: flex;align-items: stretch;justify-content: center;background-color: white;position: relative;}#sk-container-id-8 div.sk-item::before, #sk-container-id-8 div.sk-parallel-item::before {content: \"\";position: absolute;border-left: 1px solid gray;box-sizing: border-box;top: 0;bottom: 0;left: 50%;z-index: -1;}#sk-container-id-8 div.sk-parallel-item {display: flex;flex-direction: column;z-index: 1;position: relative;background-color: white;}#sk-container-id-8 div.sk-parallel-item:first-child::after {align-self: flex-end;width: 50%;}#sk-container-id-8 div.sk-parallel-item:last-child::after {align-self: flex-start;width: 50%;}#sk-container-id-8 div.sk-parallel-item:only-child::after {width: 0;}#sk-container-id-8 div.sk-dashed-wrapped {border: 1px dashed gray;margin: 0 0.4em 0.5em 0.4em;box-sizing: border-box;padding-bottom: 0.4em;background-color: white;}#sk-container-id-8 div.sk-label label {font-family: monospace;font-weight: bold;display: inline-block;line-height: 1.2em;}#sk-container-id-8 div.sk-label-container {text-align: center;}#sk-container-id-8 div.sk-container {/* jupyter's `normalize.less` sets `[hidden] { display: none; }` but bootstrap.min.css set `[hidden] { display: none !important; }` so we also need the `!important` here to be able to override the default hidden behavior on the sphinx rendered scikit-learn.org. See: https://github.com/scikit-learn/scikit-learn/issues/21755 */display: inline-block !important;position: relative;}#sk-container-id-8 div.sk-text-repr-fallback {display: none;}</style><div id=\"sk-container-id-8\" class=\"sk-top-container\"><div class=\"sk-text-repr-fallback\"><pre>KNeighborsClassifier()</pre><b>In a Jupyter environment, please rerun this cell to show the HTML representation or trust the notebook. <br />On GitHub, the HTML representation is unable to render, please try loading this page with nbviewer.org.</b></div><div class=\"sk-container\" hidden><div class=\"sk-item\"><div class=\"sk-estimator sk-toggleable\"><input class=\"sk-toggleable__control sk-hidden--visually\" id=\"sk-estimator-id-8\" type=\"checkbox\" checked><label for=\"sk-estimator-id-8\" class=\"sk-toggleable__label sk-toggleable__label-arrow\">KNeighborsClassifier</label><div class=\"sk-toggleable__content\"><pre>KNeighborsClassifier()</pre></div></div></div></div></div>"
      ],
      "text/plain": [
       "KNeighborsClassifier()"
      ]
     },
     "execution_count": 59,
     "metadata": {},
     "output_type": "execute_result"
    }
   ],
   "source": [
    "clf = KNeighborsClassifier(n_neighbors=5, weights='uniform')\n",
    "clf.fit(X_train, y_train)"
   ]
  },
  {
   "cell_type": "code",
   "execution_count": 60,
   "id": "0afad62a",
   "metadata": {
    "execution": {
     "iopub.execute_input": "2023-03-10T15:45:15.826474Z",
     "iopub.status.busy": "2023-03-10T15:45:15.825724Z",
     "iopub.status.idle": "2023-03-10T15:45:17.007678Z",
     "shell.execute_reply": "2023-03-10T15:45:17.006663Z"
    },
    "papermill": {
     "duration": 1.200067,
     "end_time": "2023-03-10T15:45:17.009580",
     "exception": false,
     "start_time": "2023-03-10T15:45:15.809513",
     "status": "completed"
    },
    "tags": []
   },
   "outputs": [
    {
     "name": "stdout",
     "output_type": "stream",
     "text": [
      "              precision    recall  f1-score   support\n",
      "\n",
      "         rap       0.96      0.17      0.29      2391\n",
      "        rock       0.55      0.99      0.71      2409\n",
      "\n",
      "    accuracy                           0.58      4800\n",
      "   macro avg       0.75      0.58      0.50      4800\n",
      "weighted avg       0.75      0.58      0.50      4800\n",
      "\n"
     ]
    }
   ],
   "source": [
    "y_pred = clf.predict(X_test)\n",
    "print(classification_report(y_test, y_pred))"
   ]
  },
  {
   "cell_type": "code",
   "execution_count": 61,
   "id": "2d709070",
   "metadata": {
    "execution": {
     "iopub.execute_input": "2023-03-10T15:45:17.048529Z",
     "iopub.status.busy": "2023-03-10T15:45:17.047423Z",
     "iopub.status.idle": "2023-03-10T15:45:17.144938Z",
     "shell.execute_reply": "2023-03-10T15:45:17.143853Z"
    },
    "papermill": {
     "duration": 0.12166,
     "end_time": "2023-03-10T15:45:17.148017",
     "exception": false,
     "start_time": "2023-03-10T15:45:17.026357",
     "status": "completed"
    },
    "tags": []
   },
   "outputs": [],
   "source": [
    "acc = accuracy_score(y_test, y_pred)\n",
    "pre = precision_score(y_test, y_pred, average=avg_par)\n",
    "rec = recall_score(y_test, y_pred, average=avg_par)\n",
    "f1 = f1_score(y_test, y_pred, average=avg_par)\n",
    "\n",
    "metrics_data['KNN']['Euclidean'] = {'Accuracy': acc, 'Precision': pre, 'Recall': rec, 'F1': f1}"
   ]
  },
  {
   "cell_type": "markdown",
   "id": "c5ec2a09",
   "metadata": {
    "papermill": {
     "duration": 0.040897,
     "end_time": "2023-03-10T15:45:17.229714",
     "exception": false,
     "start_time": "2023-03-10T15:45:17.188817",
     "status": "completed"
    },
    "tags": []
   },
   "source": [
    "**Dynamic Time Warping**"
   ]
  },
  {
   "cell_type": "code",
   "execution_count": 62,
   "id": "2df913d8",
   "metadata": {
    "execution": {
     "iopub.execute_input": "2023-03-10T15:45:17.261101Z",
     "iopub.status.busy": "2023-03-10T15:45:17.260590Z",
     "iopub.status.idle": "2023-03-10T15:45:17.331894Z",
     "shell.execute_reply": "2023-03-10T15:45:17.331049Z"
    },
    "papermill": {
     "duration": 0.090046,
     "end_time": "2023-03-10T15:45:17.334391",
     "exception": false,
     "start_time": "2023-03-10T15:45:17.244345",
     "status": "completed"
    },
    "tags": []
   },
   "outputs": [],
   "source": [
    "from pyts.classification import KNeighborsClassifier\n",
    "from pyts.approximation import PiecewiseAggregateApproximation\n",
    "from imblearn.under_sampling import ClusterCentroids\n",
    "from sklearn_extra.cluster import KMedoids"
   ]
  },
  {
   "cell_type": "code",
   "execution_count": 63,
   "id": "db1604ec",
   "metadata": {
    "execution": {
     "iopub.execute_input": "2023-03-10T15:45:17.368425Z",
     "iopub.status.busy": "2023-03-10T15:45:17.367989Z",
     "iopub.status.idle": "2023-03-10T15:45:17.946170Z",
     "shell.execute_reply": "2023-03-10T15:45:17.945325Z"
    },
    "papermill": {
     "duration": 0.597615,
     "end_time": "2023-03-10T15:45:17.949276",
     "exception": false,
     "start_time": "2023-03-10T15:45:17.351661",
     "status": "completed"
    },
    "tags": []
   },
   "outputs": [],
   "source": [
    "if paa_window_size:\n",
    "    paa = PiecewiseAggregateApproximation(window_size=paa_window_size)\n",
    "    X_train = paa.transform(X_train)\n",
    "    X_test = paa.transform(X_test)\n",
    "    X_train.shape"
   ]
  },
  {
   "cell_type": "code",
   "execution_count": 64,
   "id": "59fa27aa",
   "metadata": {
    "execution": {
     "iopub.execute_input": "2023-03-10T15:45:18.015532Z",
     "iopub.status.busy": "2023-03-10T15:45:18.015171Z",
     "iopub.status.idle": "2023-03-10T15:45:47.708817Z",
     "shell.execute_reply": "2023-03-10T15:45:47.707983Z"
    },
    "papermill": {
     "duration": 29.722376,
     "end_time": "2023-03-10T15:45:47.712099",
     "exception": false,
     "start_time": "2023-03-10T15:45:17.989723",
     "status": "completed"
    },
    "tags": []
   },
   "outputs": [
    {
     "name": "stdout",
     "output_type": "stream",
     "text": [
      "{'rap': 2882, 'rock': 2877}\n"
     ]
    },
    {
     "name": "stderr",
     "output_type": "stream",
     "text": [
      "/home/mattiapggioli/lyrics2ts/.venv/lib/python3.9/site-packages/sklearn_extra/cluster/_k_medoids.py:275: UserWarning: Cluster 994 is empty! self.labels_[self.medoid_indices_[994]] may not be labeled with its corresponding cluster (994).\n",
      "  warnings.warn(\n",
      "/home/mattiapggioli/lyrics2ts/.venv/lib/python3.9/site-packages/sklearn_extra/cluster/_k_medoids.py:275: UserWarning: Cluster 1222 is empty! self.labels_[self.medoid_indices_[1222]] may not be labeled with its corresponding cluster (1222).\n",
      "  warnings.warn(\n",
      "/home/mattiapggioli/lyrics2ts/.venv/lib/python3.9/site-packages/sklearn_extra/cluster/_k_medoids.py:275: UserWarning: Cluster 1376 is empty! self.labels_[self.medoid_indices_[1376]] may not be labeled with its corresponding cluster (1376).\n",
      "  warnings.warn(\n",
      "/home/mattiapggioli/lyrics2ts/.venv/lib/python3.9/site-packages/sklearn_extra/cluster/_k_medoids.py:275: UserWarning: Cluster 2067 is empty! self.labels_[self.medoid_indices_[2067]] may not be labeled with its corresponding cluster (2067).\n",
      "  warnings.warn(\n",
      "/home/mattiapggioli/lyrics2ts/.venv/lib/python3.9/site-packages/sklearn_extra/cluster/_k_medoids.py:275: UserWarning: Cluster 2196 is empty! self.labels_[self.medoid_indices_[2196]] may not be labeled with its corresponding cluster (2196).\n",
      "  warnings.warn(\n",
      "/home/mattiapggioli/lyrics2ts/.venv/lib/python3.9/site-packages/sklearn_extra/cluster/_k_medoids.py:275: UserWarning: Cluster 2233 is empty! self.labels_[self.medoid_indices_[2233]] may not be labeled with its corresponding cluster (2233).\n",
      "  warnings.warn(\n",
      "/home/mattiapggioli/lyrics2ts/.venv/lib/python3.9/site-packages/sklearn_extra/cluster/_k_medoids.py:275: UserWarning: Cluster 2247 is empty! self.labels_[self.medoid_indices_[2247]] may not be labeled with its corresponding cluster (2247).\n",
      "  warnings.warn(\n",
      "/home/mattiapggioli/lyrics2ts/.venv/lib/python3.9/site-packages/sklearn_extra/cluster/_k_medoids.py:275: UserWarning: Cluster 2534 is empty! self.labels_[self.medoid_indices_[2534]] may not be labeled with its corresponding cluster (2534).\n",
      "  warnings.warn(\n",
      "/home/mattiapggioli/lyrics2ts/.venv/lib/python3.9/site-packages/sklearn_extra/cluster/_k_medoids.py:275: UserWarning: Cluster 2760 is empty! self.labels_[self.medoid_indices_[2760]] may not be labeled with its corresponding cluster (2760).\n",
      "  warnings.warn(\n",
      "/home/mattiapggioli/lyrics2ts/.venv/lib/python3.9/site-packages/sklearn_extra/cluster/_k_medoids.py:275: UserWarning: Cluster 2770 is empty! self.labels_[self.medoid_indices_[2770]] may not be labeled with its corresponding cluster (2770).\n",
      "  warnings.warn(\n"
     ]
    }
   ],
   "source": [
    "if undersampling:\n",
    "    total_samples = len(y_train)\n",
    "    unique_classes, class_counts = np.unique(y_train, return_counts=True)\n",
    "    samp_strat = dict(zip(unique_classes, np.floor(class_counts * undersampling).astype(int)))\n",
    "    print(samp_strat)\n",
    "    cc = ClusterCentroids(estimator=KMedoids(\n",
    "        random_state=42), sampling_strategy=samp_strat, random_state=42)\n",
    "    X_train, y_train = cc.fit_resample(X_train, y_train)\n",
    "    X_train.shape"
   ]
  },
  {
   "cell_type": "code",
   "execution_count": 65,
   "id": "e7ac6b44",
   "metadata": {
    "execution": {
     "iopub.execute_input": "2023-03-10T15:45:47.790707Z",
     "iopub.status.busy": "2023-03-10T15:45:47.790359Z",
     "iopub.status.idle": "2023-03-10T15:45:47.805829Z",
     "shell.execute_reply": "2023-03-10T15:45:47.804623Z"
    },
    "papermill": {
     "duration": 0.059631,
     "end_time": "2023-03-10T15:45:47.808411",
     "exception": false,
     "start_time": "2023-03-10T15:45:47.748780",
     "status": "completed"
    },
    "tags": []
   },
   "outputs": [
    {
     "data": {
      "text/html": [
       "<style>#sk-container-id-9 {color: black;background-color: white;}#sk-container-id-9 pre{padding: 0;}#sk-container-id-9 div.sk-toggleable {background-color: white;}#sk-container-id-9 label.sk-toggleable__label {cursor: pointer;display: block;width: 100%;margin-bottom: 0;padding: 0.3em;box-sizing: border-box;text-align: center;}#sk-container-id-9 label.sk-toggleable__label-arrow:before {content: \"▸\";float: left;margin-right: 0.25em;color: #696969;}#sk-container-id-9 label.sk-toggleable__label-arrow:hover:before {color: black;}#sk-container-id-9 div.sk-estimator:hover label.sk-toggleable__label-arrow:before {color: black;}#sk-container-id-9 div.sk-toggleable__content {max-height: 0;max-width: 0;overflow: hidden;text-align: left;background-color: #f0f8ff;}#sk-container-id-9 div.sk-toggleable__content pre {margin: 0.2em;color: black;border-radius: 0.25em;background-color: #f0f8ff;}#sk-container-id-9 input.sk-toggleable__control:checked~div.sk-toggleable__content {max-height: 200px;max-width: 100%;overflow: auto;}#sk-container-id-9 input.sk-toggleable__control:checked~label.sk-toggleable__label-arrow:before {content: \"▾\";}#sk-container-id-9 div.sk-estimator input.sk-toggleable__control:checked~label.sk-toggleable__label {background-color: #d4ebff;}#sk-container-id-9 div.sk-label input.sk-toggleable__control:checked~label.sk-toggleable__label {background-color: #d4ebff;}#sk-container-id-9 input.sk-hidden--visually {border: 0;clip: rect(1px 1px 1px 1px);clip: rect(1px, 1px, 1px, 1px);height: 1px;margin: -1px;overflow: hidden;padding: 0;position: absolute;width: 1px;}#sk-container-id-9 div.sk-estimator {font-family: monospace;background-color: #f0f8ff;border: 1px dotted black;border-radius: 0.25em;box-sizing: border-box;margin-bottom: 0.5em;}#sk-container-id-9 div.sk-estimator:hover {background-color: #d4ebff;}#sk-container-id-9 div.sk-parallel-item::after {content: \"\";width: 100%;border-bottom: 1px solid gray;flex-grow: 1;}#sk-container-id-9 div.sk-label:hover label.sk-toggleable__label {background-color: #d4ebff;}#sk-container-id-9 div.sk-serial::before {content: \"\";position: absolute;border-left: 1px solid gray;box-sizing: border-box;top: 0;bottom: 0;left: 50%;z-index: 0;}#sk-container-id-9 div.sk-serial {display: flex;flex-direction: column;align-items: center;background-color: white;padding-right: 0.2em;padding-left: 0.2em;position: relative;}#sk-container-id-9 div.sk-item {position: relative;z-index: 1;}#sk-container-id-9 div.sk-parallel {display: flex;align-items: stretch;justify-content: center;background-color: white;position: relative;}#sk-container-id-9 div.sk-item::before, #sk-container-id-9 div.sk-parallel-item::before {content: \"\";position: absolute;border-left: 1px solid gray;box-sizing: border-box;top: 0;bottom: 0;left: 50%;z-index: -1;}#sk-container-id-9 div.sk-parallel-item {display: flex;flex-direction: column;z-index: 1;position: relative;background-color: white;}#sk-container-id-9 div.sk-parallel-item:first-child::after {align-self: flex-end;width: 50%;}#sk-container-id-9 div.sk-parallel-item:last-child::after {align-self: flex-start;width: 50%;}#sk-container-id-9 div.sk-parallel-item:only-child::after {width: 0;}#sk-container-id-9 div.sk-dashed-wrapped {border: 1px dashed gray;margin: 0 0.4em 0.5em 0.4em;box-sizing: border-box;padding-bottom: 0.4em;background-color: white;}#sk-container-id-9 div.sk-label label {font-family: monospace;font-weight: bold;display: inline-block;line-height: 1.2em;}#sk-container-id-9 div.sk-label-container {text-align: center;}#sk-container-id-9 div.sk-container {/* jupyter's `normalize.less` sets `[hidden] { display: none; }` but bootstrap.min.css set `[hidden] { display: none !important; }` so we also need the `!important` here to be able to override the default hidden behavior on the sphinx rendered scikit-learn.org. See: https://github.com/scikit-learn/scikit-learn/issues/21755 */display: inline-block !important;position: relative;}#sk-container-id-9 div.sk-text-repr-fallback {display: none;}</style><div id=\"sk-container-id-9\" class=\"sk-top-container\"><div class=\"sk-text-repr-fallback\"><pre>KNeighborsClassifier(metric=&#x27;dtw_sakoechiba&#x27;, metric_params={&#x27;window_size&#x27;: 3})</pre><b>In a Jupyter environment, please rerun this cell to show the HTML representation or trust the notebook. <br />On GitHub, the HTML representation is unable to render, please try loading this page with nbviewer.org.</b></div><div class=\"sk-container\" hidden><div class=\"sk-item\"><div class=\"sk-estimator sk-toggleable\"><input class=\"sk-toggleable__control sk-hidden--visually\" id=\"sk-estimator-id-9\" type=\"checkbox\" checked><label for=\"sk-estimator-id-9\" class=\"sk-toggleable__label sk-toggleable__label-arrow\">KNeighborsClassifier</label><div class=\"sk-toggleable__content\"><pre>KNeighborsClassifier(metric=&#x27;dtw_sakoechiba&#x27;, metric_params={&#x27;window_size&#x27;: 3})</pre></div></div></div></div></div>"
      ],
      "text/plain": [
       "KNeighborsClassifier(metric='dtw_sakoechiba', metric_params={'window_size': 3})"
      ]
     },
     "execution_count": 65,
     "metadata": {},
     "output_type": "execute_result"
    }
   ],
   "source": [
    "clf = KNeighborsClassifier(metric='dtw_sakoechiba',  metric_params={'window_size':3})\n",
    "\n",
    "clf.fit(X_train, y_train)"
   ]
  },
  {
   "cell_type": "code",
   "execution_count": 66,
   "id": "8109d19d",
   "metadata": {
    "execution": {
     "iopub.execute_input": "2023-03-10T15:45:47.853414Z",
     "iopub.status.busy": "2023-03-10T15:45:47.852853Z",
     "iopub.status.idle": "2023-03-10T17:07:31.273665Z",
     "shell.execute_reply": "2023-03-10T17:07:31.272776Z"
    },
    "papermill": {
     "duration": 4903.466147,
     "end_time": "2023-03-10T17:07:31.298409",
     "exception": false,
     "start_time": "2023-03-10T15:45:47.832262",
     "status": "completed"
    },
    "tags": []
   },
   "outputs": [
    {
     "name": "stdout",
     "output_type": "stream",
     "text": [
      "              precision    recall  f1-score   support\n",
      "\n",
      "         rap       0.73      0.80      0.76      2391\n",
      "        rock       0.78      0.71      0.74      2409\n",
      "\n",
      "    accuracy                           0.75      4800\n",
      "   macro avg       0.76      0.75      0.75      4800\n",
      "weighted avg       0.76      0.75      0.75      4800\n",
      "\n",
      "CPU times: user 1h 21min 41s, sys: 1.15 s, total: 1h 21min 42s\n",
      "Wall time: 1h 21min 43s\n"
     ]
    }
   ],
   "source": [
    "%%time\n",
    "y_pred = clf.predict(X_test)\n",
    "print(classification_report(y_test, y_pred))"
   ]
  },
  {
   "cell_type": "code",
   "execution_count": 67,
   "id": "b09f5cdf",
   "metadata": {
    "execution": {
     "iopub.execute_input": "2023-03-10T17:07:31.334077Z",
     "iopub.status.busy": "2023-03-10T17:07:31.333655Z",
     "iopub.status.idle": "2023-03-10T17:07:31.459620Z",
     "shell.execute_reply": "2023-03-10T17:07:31.458446Z"
    },
    "papermill": {
     "duration": 0.147934,
     "end_time": "2023-03-10T17:07:31.463872",
     "exception": false,
     "start_time": "2023-03-10T17:07:31.315938",
     "status": "completed"
    },
    "tags": []
   },
   "outputs": [],
   "source": [
    "acc = accuracy_score(y_test, y_pred)\n",
    "pre = precision_score(y_test, y_pred, average=avg_par)\n",
    "rec = recall_score(y_test, y_pred, average=avg_par)\n",
    "f1 = f1_score(y_test, y_pred, average=avg_par)\n",
    "\n",
    "metrics_data['KNN']['DTW'] = {'Accuracy': acc, 'Precision': pre, 'Recall': rec, 'F1': f1}"
   ]
  },
  {
   "cell_type": "markdown",
   "id": "e0e700a7",
   "metadata": {
    "papermill": {
     "duration": 0.018034,
     "end_time": "2023-03-10T17:07:31.503196",
     "exception": false,
     "start_time": "2023-03-10T17:07:31.485162",
     "status": "completed"
    },
    "tags": []
   },
   "source": [
    "## Overall Results"
   ]
  },
  {
   "cell_type": "code",
   "execution_count": 68,
   "id": "d003c193",
   "metadata": {
    "execution": {
     "iopub.execute_input": "2023-03-10T17:07:31.537808Z",
     "iopub.status.busy": "2023-03-10T17:07:31.537316Z",
     "iopub.status.idle": "2023-03-10T17:07:31.549022Z",
     "shell.execute_reply": "2023-03-10T17:07:31.548160Z"
    },
    "papermill": {
     "duration": 0.029627,
     "end_time": "2023-03-10T17:07:31.551108",
     "exception": false,
     "start_time": "2023-03-10T17:07:31.521481",
     "status": "completed"
    },
    "tags": []
   },
   "outputs": [],
   "source": [
    "metrics_data = pd.DataFrame.from_dict({(i,j): metrics_data[i][j] \n",
    "                                       for i in metrics_data.keys() \n",
    "                                       for j in metrics_data[i].keys()},\n",
    "                                       orient='index')"
   ]
  },
  {
   "cell_type": "code",
   "execution_count": 69,
   "id": "0944fe84",
   "metadata": {
    "execution": {
     "iopub.execute_input": "2023-03-10T17:07:31.587310Z",
     "iopub.status.busy": "2023-03-10T17:07:31.586762Z",
     "iopub.status.idle": "2023-03-10T17:07:31.727351Z",
     "shell.execute_reply": "2023-03-10T17:07:31.726436Z"
    },
    "papermill": {
     "duration": 0.161795,
     "end_time": "2023-03-10T17:07:31.730247",
     "exception": false,
     "start_time": "2023-03-10T17:07:31.568452",
     "status": "completed"
    },
    "tags": []
   },
   "outputs": [],
   "source": [
    "acc = accuracy_score(y_test, y_pred)\n",
    "pre = precision_score(y_test, y_pred, average=avg_par)\n",
    "rec = recall_score(y_test, y_pred, average=avg_par)\n",
    "f1 = f1_score(y_test, y_pred, average=avg_par)"
   ]
  },
  {
   "cell_type": "code",
   "execution_count": 70,
   "id": "7ee1b347",
   "metadata": {
    "execution": {
     "iopub.execute_input": "2023-03-10T17:07:31.773214Z",
     "iopub.status.busy": "2023-03-10T17:07:31.772809Z",
     "iopub.status.idle": "2023-03-10T17:07:31.785943Z",
     "shell.execute_reply": "2023-03-10T17:07:31.784670Z"
    },
    "papermill": {
     "duration": 0.032027,
     "end_time": "2023-03-10T17:07:31.788179",
     "exception": false,
     "start_time": "2023-03-10T17:07:31.756152",
     "status": "completed"
    },
    "tags": []
   },
   "outputs": [
    {
     "data": {
      "text/html": [
       "<div>\n",
       "<style scoped>\n",
       "    .dataframe tbody tr th:only-of-type {\n",
       "        vertical-align: middle;\n",
       "    }\n",
       "\n",
       "    .dataframe tbody tr th {\n",
       "        vertical-align: top;\n",
       "    }\n",
       "\n",
       "    .dataframe thead th {\n",
       "        text-align: right;\n",
       "    }\n",
       "</style>\n",
       "<table border=\"1\" class=\"dataframe\">\n",
       "  <thead>\n",
       "    <tr style=\"text-align: right;\">\n",
       "      <th></th>\n",
       "      <th></th>\n",
       "      <th>Accuracy</th>\n",
       "      <th>Precision</th>\n",
       "      <th>Recall</th>\n",
       "      <th>F1</th>\n",
       "    </tr>\n",
       "  </thead>\n",
       "  <tbody>\n",
       "    <tr>\n",
       "      <th rowspan=\"3\" valign=\"top\">Global</th>\n",
       "      <th>DecisionTree</th>\n",
       "      <td>0.855208</td>\n",
       "      <td>0.855231</td>\n",
       "      <td>0.855224</td>\n",
       "      <td>0.855208</td>\n",
       "    </tr>\n",
       "    <tr>\n",
       "      <th>RandomForest</th>\n",
       "      <td>0.913125</td>\n",
       "      <td>0.913879</td>\n",
       "      <td>0.913046</td>\n",
       "      <td>0.913073</td>\n",
       "    </tr>\n",
       "    <tr>\n",
       "      <th>LightGBM</th>\n",
       "      <td>0.915833</td>\n",
       "      <td>0.916289</td>\n",
       "      <td>0.915773</td>\n",
       "      <td>0.915801</td>\n",
       "    </tr>\n",
       "    <tr>\n",
       "      <th rowspan=\"3\" valign=\"top\">Shapelets</th>\n",
       "      <th>DecisionTree</th>\n",
       "      <td>0.793125</td>\n",
       "      <td>0.793122</td>\n",
       "      <td>0.793121</td>\n",
       "      <td>0.793122</td>\n",
       "    </tr>\n",
       "    <tr>\n",
       "      <th>RandomForest</th>\n",
       "      <td>0.869375</td>\n",
       "      <td>0.869559</td>\n",
       "      <td>0.869333</td>\n",
       "      <td>0.869348</td>\n",
       "    </tr>\n",
       "    <tr>\n",
       "      <th>LightGBM</th>\n",
       "      <td>0.865625</td>\n",
       "      <td>0.865866</td>\n",
       "      <td>0.865577</td>\n",
       "      <td>0.865590</td>\n",
       "    </tr>\n",
       "    <tr>\n",
       "      <th rowspan=\"2\" valign=\"top\">KNN</th>\n",
       "      <th>Euclidean</th>\n",
       "      <td>0.584375</td>\n",
       "      <td>0.753917</td>\n",
       "      <td>0.582837</td>\n",
       "      <td>0.499256</td>\n",
       "    </tr>\n",
       "    <tr>\n",
       "      <th>DTW</th>\n",
       "      <td>0.754792</td>\n",
       "      <td>0.757002</td>\n",
       "      <td>0.754962</td>\n",
       "      <td>0.754344</td>\n",
       "    </tr>\n",
       "  </tbody>\n",
       "</table>\n",
       "</div>"
      ],
      "text/plain": [
       "                        Accuracy  Precision    Recall        F1\n",
       "Global    DecisionTree  0.855208   0.855231  0.855224  0.855208\n",
       "          RandomForest  0.913125   0.913879  0.913046  0.913073\n",
       "          LightGBM      0.915833   0.916289  0.915773  0.915801\n",
       "Shapelets DecisionTree  0.793125   0.793122  0.793121  0.793122\n",
       "          RandomForest  0.869375   0.869559  0.869333  0.869348\n",
       "          LightGBM      0.865625   0.865866  0.865577  0.865590\n",
       "KNN       Euclidean     0.584375   0.753917  0.582837  0.499256\n",
       "          DTW           0.754792   0.757002  0.754962  0.754344"
      ]
     },
     "execution_count": 70,
     "metadata": {},
     "output_type": "execute_result"
    }
   ],
   "source": [
    "metrics_data"
   ]
  },
  {
   "cell_type": "code",
   "execution_count": 71,
   "id": "3efc173e",
   "metadata": {
    "execution": {
     "iopub.execute_input": "2023-03-10T17:07:31.821249Z",
     "iopub.status.busy": "2023-03-10T17:07:31.820406Z",
     "iopub.status.idle": "2023-03-10T17:07:31.831609Z",
     "shell.execute_reply": "2023-03-10T17:07:31.830653Z"
    },
    "papermill": {
     "duration": 0.03077,
     "end_time": "2023-03-10T17:07:31.834724",
     "exception": false,
     "start_time": "2023-03-10T17:07:31.803954",
     "status": "completed"
    },
    "tags": []
   },
   "outputs": [],
   "source": [
    "metrics_data.to_csv(f'{data_path}/metrics.csv')"
   ]
  },
  {
   "cell_type": "code",
   "execution_count": null,
   "id": "d21f5304",
   "metadata": {
    "papermill": {
     "duration": 0.014915,
     "end_time": "2023-03-10T17:07:31.886969",
     "exception": false,
     "start_time": "2023-03-10T17:07:31.872054",
     "status": "completed"
    },
    "tags": []
   },
   "outputs": [],
   "source": []
  }
 ],
 "metadata": {
  "celltoolbar": "Tags",
  "kernelspec": {
   "display_name": "Python 3 (ipykernel)",
   "language": "python",
   "name": "python3"
  },
  "language_info": {
   "codemirror_mode": {
    "name": "ipython",
    "version": 3
   },
   "file_extension": ".py",
   "mimetype": "text/x-python",
   "name": "python",
   "nbconvert_exporter": "python",
   "pygments_lexer": "ipython3",
   "version": "3.9.16"
  },
  "papermill": {
   "default_parameters": {},
   "duration": 6676.114179,
   "end_time": "2023-03-10T17:07:35.353172",
   "environment_variables": {},
   "exception": null,
   "input_path": "09_ts_classification.ipynb",
   "output_path": "../clf-reports/rc-rp_features.ipynb",
   "parameters": {
    "data_path": "/home/mattiapggioli/lyrics2ts/data/classification/rc-rp/features/",
    "paa_window_size": 20,
    "undersampling": 0.3
   },
   "start_time": "2023-03-10T15:16:19.238993",
   "version": "2.4.0"
  },
  "vscode": {
   "interpreter": {
    "hash": "eb8d1ded7c87c6f9c253b40add648304d6b51d2e38393955e855effc7e6f899a"
   }
  }
 },
 "nbformat": 4,
 "nbformat_minor": 5
}