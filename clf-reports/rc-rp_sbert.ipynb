{
 "cells": [
  {
   "cell_type": "markdown",
   "id": "d79a68c5",
   "metadata": {
    "papermill": {
     "duration": 0.018626,
     "end_time": "2023-03-21T05:58:24.866954",
     "exception": false,
     "start_time": "2023-03-21T05:58:24.848328",
     "status": "completed"
    },
    "tags": []
   },
   "source": [
    "# Time Series Classification"
   ]
  },
  {
   "cell_type": "code",
   "execution_count": 1,
   "id": "8a0cb2b0",
   "metadata": {
    "execution": {
     "iopub.execute_input": "2023-03-21T05:58:24.911468Z",
     "iopub.status.busy": "2023-03-21T05:58:24.910933Z",
     "iopub.status.idle": "2023-03-21T05:58:26.365730Z",
     "shell.execute_reply": "2023-03-21T05:58:26.364911Z"
    },
    "papermill": {
     "duration": 1.48734,
     "end_time": "2023-03-21T05:58:26.368904",
     "exception": false,
     "start_time": "2023-03-21T05:58:24.881564",
     "status": "completed"
    },
    "tags": []
   },
   "outputs": [],
   "source": [
    "%matplotlib inline\n",
    "import pandas as pd\n",
    "import numpy as np\n",
    "import matplotlib.pyplot as plt\n",
    "import seaborn as sns\n",
    "import re\n",
    "import os\n",
    "from sklearn.preprocessing import StandardScaler\n",
    "from sklearn.decomposition import PCA\n",
    "import joblib\n",
    "from tslearn.utils import to_time_series_dataset, save_time_series_txt, load_time_series_txt\n",
    "import random\n",
    "from sklearn.model_selection import train_test_split\n",
    "from sklearn.metrics import accuracy_score, f1_score, precision_score, recall_score, classification_report\n",
    "import pickle"
   ]
  },
  {
   "cell_type": "code",
   "execution_count": 2,
   "id": "acc03405",
   "metadata": {
    "execution": {
     "iopub.execute_input": "2023-03-21T05:58:26.429967Z",
     "iopub.status.busy": "2023-03-21T05:58:26.429274Z",
     "iopub.status.idle": "2023-03-21T05:58:26.436149Z",
     "shell.execute_reply": "2023-03-21T05:58:26.434920Z"
    },
    "papermill": {
     "duration": 0.039428,
     "end_time": "2023-03-21T05:58:26.439412",
     "exception": false,
     "start_time": "2023-03-21T05:58:26.399984",
     "status": "completed"
    },
    "tags": [
     "parameters"
    ]
   },
   "outputs": [],
   "source": [
    "data_path = '/home/mattiapggioli/lyrics2ts/data/classification/pp-rc/sbert/'\n",
    "truncate=100\n",
    "max_iter = 2000\n",
    "paa_window_size = None\n",
    "undersampling = None"
   ]
  },
  {
   "cell_type": "code",
   "execution_count": 3,
   "id": "36053769",
   "metadata": {
    "execution": {
     "iopub.execute_input": "2023-03-21T05:58:26.477979Z",
     "iopub.status.busy": "2023-03-21T05:58:26.477103Z",
     "iopub.status.idle": "2023-03-21T05:58:26.482406Z",
     "shell.execute_reply": "2023-03-21T05:58:26.481378Z"
    },
    "papermill": {
     "duration": 0.018643,
     "end_time": "2023-03-21T05:58:26.484112",
     "exception": false,
     "start_time": "2023-03-21T05:58:26.465469",
     "status": "completed"
    },
    "tags": [
     "injected-parameters"
    ]
   },
   "outputs": [],
   "source": [
    "# Parameters\n",
    "data_path = \"/home/mattiapggioli/lyrics2ts/data/classification/rc-rp/sbert/\"\n",
    "paa_window_size = 20\n",
    "undersampling = 0.3\n"
   ]
  },
  {
   "cell_type": "code",
   "execution_count": 4,
   "id": "a4f0c774",
   "metadata": {
    "execution": {
     "iopub.execute_input": "2023-03-21T05:58:26.506754Z",
     "iopub.status.busy": "2023-03-21T05:58:26.505978Z",
     "iopub.status.idle": "2023-03-21T05:58:42.322710Z",
     "shell.execute_reply": "2023-03-21T05:58:42.321775Z"
    },
    "papermill": {
     "duration": 15.831301,
     "end_time": "2023-03-21T05:58:42.325797",
     "exception": false,
     "start_time": "2023-03-21T05:58:26.494496",
     "status": "completed"
    },
    "tags": []
   },
   "outputs": [],
   "source": [
    "ts = load_time_series_txt(f'{data_path}/ts.txt')"
   ]
  },
  {
   "cell_type": "code",
   "execution_count": 5,
   "id": "5c48d154",
   "metadata": {
    "execution": {
     "iopub.execute_input": "2023-03-21T05:58:42.388396Z",
     "iopub.status.busy": "2023-03-21T05:58:42.387878Z",
     "iopub.status.idle": "2023-03-21T05:58:42.395229Z",
     "shell.execute_reply": "2023-03-21T05:58:42.394174Z"
    },
    "papermill": {
     "duration": 0.0423,
     "end_time": "2023-03-21T05:58:42.398554",
     "exception": false,
     "start_time": "2023-03-21T05:58:42.356254",
     "status": "completed"
    },
    "tags": []
   },
   "outputs": [
    {
     "data": {
      "text/plain": [
       "(24000, 130, 1)"
      ]
     },
     "execution_count": 5,
     "metadata": {},
     "output_type": "execute_result"
    }
   ],
   "source": [
    "ts.shape"
   ]
  },
  {
   "cell_type": "code",
   "execution_count": 6,
   "id": "f6274d40",
   "metadata": {
    "execution": {
     "iopub.execute_input": "2023-03-21T05:58:42.434030Z",
     "iopub.status.busy": "2023-03-21T05:58:42.433583Z",
     "iopub.status.idle": "2023-03-21T05:58:42.441910Z",
     "shell.execute_reply": "2023-03-21T05:58:42.440819Z"
    },
    "papermill": {
     "duration": 0.021781,
     "end_time": "2023-03-21T05:58:42.443879",
     "exception": false,
     "start_time": "2023-03-21T05:58:42.422098",
     "status": "completed"
    },
    "tags": []
   },
   "outputs": [],
   "source": [
    "with open(f'{data_path}/y_class.npy', 'rb') as f:\n",
    "    y = np.load(f, allow_pickle=True)"
   ]
  },
  {
   "cell_type": "code",
   "execution_count": 7,
   "id": "9d42fa3b",
   "metadata": {
    "execution": {
     "iopub.execute_input": "2023-03-21T05:58:42.466873Z",
     "iopub.status.busy": "2023-03-21T05:58:42.466380Z",
     "iopub.status.idle": "2023-03-21T05:58:42.547794Z",
     "shell.execute_reply": "2023-03-21T05:58:42.546960Z"
    },
    "papermill": {
     "duration": 0.095522,
     "end_time": "2023-03-21T05:58:42.550358",
     "exception": false,
     "start_time": "2023-03-21T05:58:42.454836",
     "status": "completed"
    },
    "tags": []
   },
   "outputs": [],
   "source": [
    "with open(f'{data_path}/X.npy', 'rb') as f:\n",
    "    X = np.load(f, allow_pickle=True)"
   ]
  },
  {
   "cell_type": "code",
   "execution_count": 8,
   "id": "1158a9da",
   "metadata": {
    "execution": {
     "iopub.execute_input": "2023-03-21T05:58:42.576823Z",
     "iopub.status.busy": "2023-03-21T05:58:42.575983Z",
     "iopub.status.idle": "2023-03-21T05:58:42.582687Z",
     "shell.execute_reply": "2023-03-21T05:58:42.581667Z"
    },
    "papermill": {
     "duration": 0.020051,
     "end_time": "2023-03-21T05:58:42.584261",
     "exception": false,
     "start_time": "2023-03-21T05:58:42.564210",
     "status": "completed"
    },
    "tags": []
   },
   "outputs": [
    {
     "data": {
      "text/plain": [
       "(24000, 384)"
      ]
     },
     "execution_count": 8,
     "metadata": {},
     "output_type": "execute_result"
    }
   ],
   "source": [
    "X.shape"
   ]
  },
  {
   "cell_type": "code",
   "execution_count": 9,
   "id": "47239790",
   "metadata": {
    "execution": {
     "iopub.execute_input": "2023-03-21T05:58:42.607199Z",
     "iopub.status.busy": "2023-03-21T05:58:42.606386Z",
     "iopub.status.idle": "2023-03-21T05:58:42.614095Z",
     "shell.execute_reply": "2023-03-21T05:58:42.613214Z"
    },
    "papermill": {
     "duration": 0.020823,
     "end_time": "2023-03-21T05:58:42.615661",
     "exception": false,
     "start_time": "2023-03-21T05:58:42.594838",
     "status": "completed"
    },
    "tags": []
   },
   "outputs": [
    {
     "data": {
      "text/plain": [
       "{'rap', 'rock'}"
      ]
     },
     "execution_count": 9,
     "metadata": {},
     "output_type": "execute_result"
    }
   ],
   "source": [
    "set(y)"
   ]
  },
  {
   "cell_type": "code",
   "execution_count": 10,
   "id": "37609992",
   "metadata": {
    "execution": {
     "iopub.execute_input": "2023-03-21T05:58:42.638826Z",
     "iopub.status.busy": "2023-03-21T05:58:42.638033Z",
     "iopub.status.idle": "2023-03-21T05:58:42.691042Z",
     "shell.execute_reply": "2023-03-21T05:58:42.690076Z"
    },
    "papermill": {
     "duration": 0.06794,
     "end_time": "2023-03-21T05:58:42.694154",
     "exception": false,
     "start_time": "2023-03-21T05:58:42.626214",
     "status": "completed"
    },
    "tags": []
   },
   "outputs": [],
   "source": [
    "ts_train, ts_test, y_train, y_test = train_test_split(\n",
    "    ts, y, test_size=0.20, random_state=42, stratify=y)"
   ]
  },
  {
   "cell_type": "code",
   "execution_count": 11,
   "id": "34508fe4",
   "metadata": {
    "execution": {
     "iopub.execute_input": "2023-03-21T05:58:42.751531Z",
     "iopub.status.busy": "2023-03-21T05:58:42.750388Z",
     "iopub.status.idle": "2023-03-21T05:58:42.820476Z",
     "shell.execute_reply": "2023-03-21T05:58:42.819582Z"
    },
    "papermill": {
     "duration": 0.101626,
     "end_time": "2023-03-21T05:58:42.823163",
     "exception": false,
     "start_time": "2023-03-21T05:58:42.721537",
     "status": "completed"
    },
    "tags": []
   },
   "outputs": [],
   "source": [
    "X_train, X_test, y_train, y_test = train_test_split(\n",
    "    X, y, test_size=0.20, random_state=42, stratify=y)"
   ]
  },
  {
   "cell_type": "code",
   "execution_count": 12,
   "id": "076afac9",
   "metadata": {
    "execution": {
     "iopub.execute_input": "2023-03-21T05:58:42.884725Z",
     "iopub.status.busy": "2023-03-21T05:58:42.884442Z",
     "iopub.status.idle": "2023-03-21T05:58:42.893685Z",
     "shell.execute_reply": "2023-03-21T05:58:42.892538Z"
    },
    "papermill": {
     "duration": 0.044048,
     "end_time": "2023-03-21T05:58:42.896993",
     "exception": false,
     "start_time": "2023-03-21T05:58:42.852945",
     "status": "completed"
    },
    "tags": []
   },
   "outputs": [
    {
     "data": {
      "text/plain": [
       "array([[ 0.29377566],\n",
       "       [ 0.07676739],\n",
       "       [-0.50347147],\n",
       "       [-0.08324742],\n",
       "       [ 0.96515546],\n",
       "       [ 0.60046205],\n",
       "       [ 1.37713987],\n",
       "       [ 1.10649208],\n",
       "       [ 0.70737203],\n",
       "       [ 1.18423992],\n",
       "       [ 0.10395196],\n",
       "       [ 0.85247157],\n",
       "       [ 2.43044295],\n",
       "       [-0.76961327],\n",
       "       [ 0.87965435],\n",
       "       [ 2.16914545],\n",
       "       [ 1.37713987],\n",
       "       [ 1.10649208],\n",
       "       [ 0.70737203],\n",
       "       [ 1.18423992],\n",
       "       [ 0.10395196],\n",
       "       [        nan],\n",
       "       [        nan],\n",
       "       [        nan],\n",
       "       [        nan],\n",
       "       [        nan],\n",
       "       [        nan],\n",
       "       [        nan],\n",
       "       [        nan],\n",
       "       [        nan],\n",
       "       [        nan],\n",
       "       [        nan],\n",
       "       [        nan],\n",
       "       [        nan],\n",
       "       [        nan],\n",
       "       [        nan],\n",
       "       [        nan],\n",
       "       [        nan],\n",
       "       [        nan],\n",
       "       [        nan],\n",
       "       [        nan],\n",
       "       [        nan],\n",
       "       [        nan],\n",
       "       [        nan],\n",
       "       [        nan],\n",
       "       [        nan],\n",
       "       [        nan],\n",
       "       [        nan],\n",
       "       [        nan],\n",
       "       [        nan],\n",
       "       [        nan],\n",
       "       [        nan],\n",
       "       [        nan],\n",
       "       [        nan],\n",
       "       [        nan],\n",
       "       [        nan],\n",
       "       [        nan],\n",
       "       [        nan],\n",
       "       [        nan],\n",
       "       [        nan],\n",
       "       [        nan],\n",
       "       [        nan],\n",
       "       [        nan],\n",
       "       [        nan],\n",
       "       [        nan],\n",
       "       [        nan],\n",
       "       [        nan],\n",
       "       [        nan],\n",
       "       [        nan],\n",
       "       [        nan],\n",
       "       [        nan],\n",
       "       [        nan],\n",
       "       [        nan],\n",
       "       [        nan],\n",
       "       [        nan],\n",
       "       [        nan],\n",
       "       [        nan],\n",
       "       [        nan],\n",
       "       [        nan],\n",
       "       [        nan],\n",
       "       [        nan],\n",
       "       [        nan],\n",
       "       [        nan],\n",
       "       [        nan],\n",
       "       [        nan],\n",
       "       [        nan],\n",
       "       [        nan],\n",
       "       [        nan],\n",
       "       [        nan],\n",
       "       [        nan],\n",
       "       [        nan],\n",
       "       [        nan],\n",
       "       [        nan],\n",
       "       [        nan],\n",
       "       [        nan],\n",
       "       [        nan],\n",
       "       [        nan],\n",
       "       [        nan],\n",
       "       [        nan],\n",
       "       [        nan],\n",
       "       [        nan],\n",
       "       [        nan],\n",
       "       [        nan],\n",
       "       [        nan],\n",
       "       [        nan],\n",
       "       [        nan],\n",
       "       [        nan],\n",
       "       [        nan],\n",
       "       [        nan],\n",
       "       [        nan],\n",
       "       [        nan],\n",
       "       [        nan],\n",
       "       [        nan],\n",
       "       [        nan],\n",
       "       [        nan],\n",
       "       [        nan],\n",
       "       [        nan],\n",
       "       [        nan],\n",
       "       [        nan],\n",
       "       [        nan],\n",
       "       [        nan],\n",
       "       [        nan],\n",
       "       [        nan],\n",
       "       [        nan],\n",
       "       [        nan],\n",
       "       [        nan],\n",
       "       [        nan],\n",
       "       [        nan],\n",
       "       [        nan],\n",
       "       [        nan]])"
      ]
     },
     "execution_count": 12,
     "metadata": {},
     "output_type": "execute_result"
    }
   ],
   "source": [
    "random.choice(ts_train)"
   ]
  },
  {
   "cell_type": "code",
   "execution_count": 13,
   "id": "ca66457a",
   "metadata": {
    "execution": {
     "iopub.execute_input": "2023-03-21T05:58:42.932866Z",
     "iopub.status.busy": "2023-03-21T05:58:42.931935Z",
     "iopub.status.idle": "2023-03-21T05:58:43.341064Z",
     "shell.execute_reply": "2023-03-21T05:58:43.340159Z"
    },
    "papermill": {
     "duration": 0.424122,
     "end_time": "2023-03-21T05:58:43.343874",
     "exception": false,
     "start_time": "2023-03-21T05:58:42.919752",
     "status": "completed"
    },
    "tags": []
   },
   "outputs": [
    {
     "data": {
      "text/plain": [
       "<AxesSubplot:ylabel='Count'>"
      ]
     },
     "execution_count": 13,
     "metadata": {},
     "output_type": "execute_result"
    },
    {
     "data": {
      "image/png": "[encoded data removed]",
      "text/plain": [
       "<Figure size 640x480 with 1 Axes>"
      ]
     },
     "metadata": {},
     "output_type": "display_data"
    }
   ],
   "source": [
    "sns.histplot([t[~np.any(np.isnan(t), axis=1)].shape[0] for t in ts_train])"
   ]
  },
  {
   "cell_type": "code",
   "execution_count": 14,
   "id": "c2ae286f",
   "metadata": {
    "execution": {
     "iopub.execute_input": "2023-03-21T05:58:43.399768Z",
     "iopub.status.busy": "2023-03-21T05:58:43.399443Z",
     "iopub.status.idle": "2023-03-21T05:58:43.404498Z",
     "shell.execute_reply": "2023-03-21T05:58:43.403402Z"
    },
    "papermill": {
     "duration": 0.03279,
     "end_time": "2023-03-21T05:58:43.407714",
     "exception": false,
     "start_time": "2023-03-21T05:58:43.374924",
     "status": "completed"
    },
    "tags": []
   },
   "outputs": [],
   "source": [
    "ts_train = ts_train[:, :truncate, :]\n",
    "ts_test = ts_test[:, :truncate, :]"
   ]
  },
  {
   "cell_type": "code",
   "execution_count": 15,
   "id": "3218baa4",
   "metadata": {
    "execution": {
     "iopub.execute_input": "2023-03-21T05:58:43.447327Z",
     "iopub.status.busy": "2023-03-21T05:58:43.446540Z",
     "iopub.status.idle": "2023-03-21T05:58:43.534736Z",
     "shell.execute_reply": "2023-03-21T05:58:43.533834Z"
    },
    "papermill": {
     "duration": 0.103361,
     "end_time": "2023-03-21T05:58:43.537453",
     "exception": false,
     "start_time": "2023-03-21T05:58:43.434092",
     "status": "completed"
    },
    "tags": []
   },
   "outputs": [],
   "source": [
    "mean_arr = np.nanmean(ts_train, axis=1, keepdims=True)\n",
    "nan_indices = np.isnan(ts_train)\n",
    "ts_train[nan_indices] = np.take(mean_arr, np.nonzero(nan_indices)[0])\n",
    "\n",
    "mean_arr = np.nanmean(ts_test, axis=1, keepdims=True)\n",
    "nan_indices = np.isnan(ts_test)\n",
    "ts_test[nan_indices] = np.take(mean_arr, np.nonzero(nan_indices)[0])"
   ]
  },
  {
   "cell_type": "code",
   "execution_count": 16,
   "id": "d369691b",
   "metadata": {
    "execution": {
     "iopub.execute_input": "2023-03-21T05:58:43.564497Z",
     "iopub.status.busy": "2023-03-21T05:58:43.564185Z",
     "iopub.status.idle": "2023-03-21T05:58:43.577436Z",
     "shell.execute_reply": "2023-03-21T05:58:43.576101Z"
    },
    "papermill": {
     "duration": 0.027679,
     "end_time": "2023-03-21T05:58:43.579672",
     "exception": false,
     "start_time": "2023-03-21T05:58:43.551993",
     "status": "completed"
    },
    "tags": []
   },
   "outputs": [
    {
     "data": {
      "text/plain": [
       "0"
      ]
     },
     "execution_count": 16,
     "metadata": {},
     "output_type": "execute_result"
    }
   ],
   "source": [
    "np.count_nonzero(np.isnan(X_train))"
   ]
  },
  {
   "cell_type": "code",
   "execution_count": 17,
   "id": "0d602e18",
   "metadata": {
    "execution": {
     "iopub.execute_input": "2023-03-21T05:58:43.604097Z",
     "iopub.status.busy": "2023-03-21T05:58:43.603642Z",
     "iopub.status.idle": "2023-03-21T05:58:43.618625Z",
     "shell.execute_reply": "2023-03-21T05:58:43.617242Z"
    },
    "papermill": {
     "duration": 0.029238,
     "end_time": "2023-03-21T05:58:43.620783",
     "exception": false,
     "start_time": "2023-03-21T05:58:43.591545",
     "status": "completed"
    },
    "tags": []
   },
   "outputs": [],
   "source": [
    "X_train[np.isnan(X_train)] = 0\n",
    "X_test[np.isnan(X_test)] = 0"
   ]
  },
  {
   "cell_type": "code",
   "execution_count": 18,
   "id": "45c5102c",
   "metadata": {
    "execution": {
     "iopub.execute_input": "2023-03-21T05:58:43.646816Z",
     "iopub.status.busy": "2023-03-21T05:58:43.645926Z",
     "iopub.status.idle": "2023-03-21T05:58:46.094380Z",
     "shell.execute_reply": "2023-03-21T05:58:46.093253Z"
    },
    "papermill": {
     "duration": 2.464241,
     "end_time": "2023-03-21T05:58:46.098036",
     "exception": false,
     "start_time": "2023-03-21T05:58:43.633795",
     "status": "completed"
    },
    "tags": []
   },
   "outputs": [],
   "source": [
    "save_time_series_txt(f'{data_path}/ts_train.txt', ts_train)\n",
    "save_time_series_txt(f'{data_path}/ts_test.txt', ts_test)"
   ]
  },
  {
   "cell_type": "code",
   "execution_count": 19,
   "id": "39830f37",
   "metadata": {
    "execution": {
     "iopub.execute_input": "2023-03-21T05:58:46.163806Z",
     "iopub.status.busy": "2023-03-21T05:58:46.163503Z",
     "iopub.status.idle": "2023-03-21T05:58:46.244643Z",
     "shell.execute_reply": "2023-03-21T05:58:46.243533Z"
    },
    "papermill": {
     "duration": 0.117566,
     "end_time": "2023-03-21T05:58:46.247825",
     "exception": false,
     "start_time": "2023-03-21T05:58:46.130259",
     "status": "completed"
    },
    "tags": []
   },
   "outputs": [],
   "source": [
    "with open(f'{data_path}/X_train.npy', 'wb') as f:\n",
    "    np.save(f, X_train, allow_pickle=True)\n",
    "\n",
    "with open(f'{data_path}/X_test.npy', 'wb') as f:\n",
    "    np.save(f, X_test, allow_pickle=True)"
   ]
  },
  {
   "cell_type": "code",
   "execution_count": 20,
   "id": "795fd2be",
   "metadata": {
    "execution": {
     "iopub.execute_input": "2023-03-21T05:58:46.314341Z",
     "iopub.status.busy": "2023-03-21T05:58:46.313801Z",
     "iopub.status.idle": "2023-03-21T05:58:46.323384Z",
     "shell.execute_reply": "2023-03-21T05:58:46.322420Z"
    },
    "papermill": {
     "duration": 0.046203,
     "end_time": "2023-03-21T05:58:46.326618",
     "exception": false,
     "start_time": "2023-03-21T05:58:46.280415",
     "status": "completed"
    },
    "tags": []
   },
   "outputs": [],
   "source": [
    "with open(f'{data_path}/y_train.npy', 'wb') as f:\n",
    "    np.save(f, y_train, allow_pickle=True)\n",
    "\n",
    "with open(f'{data_path}/y_test.npy', 'wb') as f:\n",
    "    np.save(f, y_test, allow_pickle=True)"
   ]
  },
  {
   "cell_type": "code",
   "execution_count": 21,
   "id": "08bda153",
   "metadata": {
    "execution": {
     "iopub.execute_input": "2023-03-21T05:58:46.361349Z",
     "iopub.status.busy": "2023-03-21T05:58:46.360900Z",
     "iopub.status.idle": "2023-03-21T05:58:46.515387Z",
     "shell.execute_reply": "2023-03-21T05:58:46.514630Z"
    },
    "papermill": {
     "duration": 0.169364,
     "end_time": "2023-03-21T05:58:46.518123",
     "exception": false,
     "start_time": "2023-03-21T05:58:46.348759",
     "status": "completed"
    },
    "tags": []
   },
   "outputs": [
    {
     "data": {
      "text/plain": [
       "[<matplotlib.lines.Line2D at 0x7fc15fd39a30>]"
      ]
     },
     "execution_count": 21,
     "metadata": {},
     "output_type": "execute_result"
    },
    {
     "data": {
      "image/png": "[encoded data removed]",
      "text/plain": [
       "<Figure size 640x480 with 1 Axes>"
      ]
     },
     "metadata": {},
     "output_type": "display_data"
    }
   ],
   "source": [
    "plt.plot(random.choice(ts_train))"
   ]
  },
  {
   "cell_type": "code",
   "execution_count": 22,
   "id": "98ce9d63",
   "metadata": {
    "execution": {
     "iopub.execute_input": "2023-03-21T05:58:46.578432Z",
     "iopub.status.busy": "2023-03-21T05:58:46.577468Z",
     "iopub.status.idle": "2023-03-21T05:58:46.585903Z",
     "shell.execute_reply": "2023-03-21T05:58:46.584481Z"
    },
    "papermill": {
     "duration": 0.042242,
     "end_time": "2023-03-21T05:58:46.588926",
     "exception": false,
     "start_time": "2023-03-21T05:58:46.546684",
     "status": "completed"
    },
    "tags": []
   },
   "outputs": [],
   "source": [
    "# Parameters that require knowing if it's binary or multiclass (LightGBM, metrics)\n",
    "if len(set(y)) == 2:\n",
    "    avg_par = 'macro'\n",
    "    obj_par = 'binary'\n",
    "elif len(set(y)) > 2:\n",
    "    avg_par = 'weighted'\n",
    "    obj_par = 'multiclass'"
   ]
  },
  {
   "cell_type": "markdown",
   "id": "228f1b39",
   "metadata": {
    "papermill": {
     "duration": 0.012033,
     "end_time": "2023-03-21T05:58:46.631347",
     "exception": false,
     "start_time": "2023-03-21T05:58:46.619314",
     "status": "completed"
    },
    "tags": []
   },
   "source": [
    "## Classification"
   ]
  },
  {
   "cell_type": "code",
   "execution_count": 23,
   "id": "34bb73ff",
   "metadata": {
    "execution": {
     "iopub.execute_input": "2023-03-21T05:58:46.656250Z",
     "iopub.status.busy": "2023-03-21T05:58:46.655486Z",
     "iopub.status.idle": "2023-03-21T05:58:46.736112Z",
     "shell.execute_reply": "2023-03-21T05:58:46.735474Z"
    },
    "papermill": {
     "duration": 0.096176,
     "end_time": "2023-03-21T05:58:46.738871",
     "exception": false,
     "start_time": "2023-03-21T05:58:46.642695",
     "status": "completed"
    },
    "tags": []
   },
   "outputs": [],
   "source": [
    "from sklearn.tree import DecisionTreeClassifier\n",
    "import lightgbm as lgbm\n",
    "from sklearn.ensemble import RandomForestClassifier"
   ]
  },
  {
   "cell_type": "code",
   "execution_count": 24,
   "id": "02aaee18",
   "metadata": {
    "execution": {
     "iopub.execute_input": "2023-03-21T05:58:46.767241Z",
     "iopub.status.busy": "2023-03-21T05:58:46.766814Z",
     "iopub.status.idle": "2023-03-21T05:58:46.773468Z",
     "shell.execute_reply": "2023-03-21T05:58:46.772249Z"
    },
    "papermill": {
     "duration": 0.021562,
     "end_time": "2023-03-21T05:58:46.775274",
     "exception": false,
     "start_time": "2023-03-21T05:58:46.753712",
     "status": "completed"
    },
    "tags": []
   },
   "outputs": [],
   "source": [
    "metrics_data = {}"
   ]
  },
  {
   "cell_type": "markdown",
   "id": "b49309ed",
   "metadata": {
    "papermill": {
     "duration": 0.011296,
     "end_time": "2023-03-21T05:58:46.798158",
     "exception": false,
     "start_time": "2023-03-21T05:58:46.786862",
     "status": "completed"
    },
    "tags": []
   },
   "source": [
    "### Baseline: global features (No Time Series)"
   ]
  },
  {
   "cell_type": "code",
   "execution_count": 25,
   "id": "35eb9f66",
   "metadata": {
    "execution": {
     "iopub.execute_input": "2023-03-21T05:58:46.822958Z",
     "iopub.status.busy": "2023-03-21T05:58:46.822455Z",
     "iopub.status.idle": "2023-03-21T05:58:46.828331Z",
     "shell.execute_reply": "2023-03-21T05:58:46.827221Z"
    },
    "papermill": {
     "duration": 0.020389,
     "end_time": "2023-03-21T05:58:46.829946",
     "exception": false,
     "start_time": "2023-03-21T05:58:46.809557",
     "status": "completed"
    },
    "tags": []
   },
   "outputs": [],
   "source": [
    "metrics_data['Global'] = {}"
   ]
  },
  {
   "cell_type": "markdown",
   "id": "29cd5044",
   "metadata": {
    "papermill": {
     "duration": 0.011388,
     "end_time": "2023-03-21T05:58:46.852751",
     "exception": false,
     "start_time": "2023-03-21T05:58:46.841363",
     "status": "completed"
    },
    "tags": []
   },
   "source": [
    "**Decision Tree**"
   ]
  },
  {
   "cell_type": "code",
   "execution_count": 26,
   "id": "9ef4f037",
   "metadata": {
    "execution": {
     "iopub.execute_input": "2023-03-21T05:58:46.877753Z",
     "iopub.status.busy": "2023-03-21T05:58:46.877289Z",
     "iopub.status.idle": "2023-03-21T05:59:07.773864Z",
     "shell.execute_reply": "2023-03-21T05:59:07.772971Z"
    },
    "papermill": {
     "duration": 20.912165,
     "end_time": "2023-03-21T05:59:07.776604",
     "exception": false,
     "start_time": "2023-03-21T05:58:46.864439",
     "status": "completed"
    },
    "tags": []
   },
   "outputs": [
    {
     "data": {
      "text/html": [
       "<style>#sk-container-id-1 {color: black;background-color: white;}#sk-container-id-1 pre{padding: 0;}#sk-container-id-1 div.sk-toggleable {background-color: white;}#sk-container-id-1 label.sk-toggleable__label {cursor: pointer;display: block;width: 100%;margin-bottom: 0;padding: 0.3em;box-sizing: border-box;text-align: center;}#sk-container-id-1 label.sk-toggleable__label-arrow:before {content: \"▸\";float: left;margin-right: 0.25em;color: #696969;}#sk-container-id-1 label.sk-toggleable__label-arrow:hover:before {color: black;}#sk-container-id-1 div.sk-estimator:hover label.sk-toggleable__label-arrow:before {color: black;}#sk-container-id-1 div.sk-toggleable__content {max-height: 0;max-width: 0;overflow: hidden;text-align: left;background-color: #f0f8ff;}#sk-container-id-1 div.sk-toggleable__content pre {margin: 0.2em;color: black;border-radius: 0.25em;background-color: #f0f8ff;}#sk-container-id-1 input.sk-toggleable__control:checked~div.sk-toggleable__content {max-height: 200px;max-width: 100%;overflow: auto;}#sk-container-id-1 input.sk-toggleable__control:checked~label.sk-toggleable__label-arrow:before {content: \"▾\";}#sk-container-id-1 div.sk-estimator input.sk-toggleable__control:checked~label.sk-toggleable__label {background-color: #d4ebff;}#sk-container-id-1 div.sk-label input.sk-toggleable__control:checked~label.sk-toggleable__label {background-color: #d4ebff;}#sk-container-id-1 input.sk-hidden--visually {border: 0;clip: rect(1px 1px 1px 1px);clip: rect(1px, 1px, 1px, 1px);height: 1px;margin: -1px;overflow: hidden;padding: 0;position: absolute;width: 1px;}#sk-container-id-1 div.sk-estimator {font-family: monospace;background-color: #f0f8ff;border: 1px dotted black;border-radius: 0.25em;box-sizing: border-box;margin-bottom: 0.5em;}#sk-container-id-1 div.sk-estimator:hover {background-color: #d4ebff;}#sk-container-id-1 div.sk-parallel-item::after {content: \"\";width: 100%;border-bottom: 1px solid gray;flex-grow: 1;}#sk-container-id-1 div.sk-label:hover label.sk-toggleable__label {background-color: #d4ebff;}#sk-container-id-1 div.sk-serial::before {content: \"\";position: absolute;border-left: 1px solid gray;box-sizing: border-box;top: 0;bottom: 0;left: 50%;z-index: 0;}#sk-container-id-1 div.sk-serial {display: flex;flex-direction: column;align-items: center;background-color: white;padding-right: 0.2em;padding-left: 0.2em;position: relative;}#sk-container-id-1 div.sk-item {position: relative;z-index: 1;}#sk-container-id-1 div.sk-parallel {display: flex;align-items: stretch;justify-content: center;background-color: white;position: relative;}#sk-container-id-1 div.sk-item::before, #sk-container-id-1 div.sk-parallel-item::before {content: \"\";position: absolute;border-left: 1px solid gray;box-sizing: border-box;top: 0;bottom: 0;left: 50%;z-index: -1;}#sk-container-id-1 div.sk-parallel-item {display: flex;flex-direction: column;z-index: 1;position: relative;background-color: white;}#sk-container-id-1 div.sk-parallel-item:first-child::after {align-self: flex-end;width: 50%;}#sk-container-id-1 div.sk-parallel-item:last-child::after {align-self: flex-start;width: 50%;}#sk-container-id-1 div.sk-parallel-item:only-child::after {width: 0;}#sk-container-id-1 div.sk-dashed-wrapped {border: 1px dashed gray;margin: 0 0.4em 0.5em 0.4em;box-sizing: border-box;padding-bottom: 0.4em;background-color: white;}#sk-container-id-1 div.sk-label label {font-family: monospace;font-weight: bold;display: inline-block;line-height: 1.2em;}#sk-container-id-1 div.sk-label-container {text-align: center;}#sk-container-id-1 div.sk-container {/* jupyter's `normalize.less` sets `[hidden] { display: none; }` but bootstrap.min.css set `[hidden] { display: none !important; }` so we also need the `!important` here to be able to override the default hidden behavior on the sphinx rendered scikit-learn.org. See: https://github.com/scikit-learn/scikit-learn/issues/21755 */display: inline-block !important;position: relative;}#sk-container-id-1 div.sk-text-repr-fallback {display: none;}</style><div id=\"sk-container-id-1\" class=\"sk-top-container\"><div class=\"sk-text-repr-fallback\"><pre>DecisionTreeClassifier()</pre><b>In a Jupyter environment, please rerun this cell to show the HTML representation or trust the notebook. <br />On GitHub, the HTML representation is unable to render, please try loading this page with nbviewer.org.</b></div><div class=\"sk-container\" hidden><div class=\"sk-item\"><div class=\"sk-estimator sk-toggleable\"><input class=\"sk-toggleable__control sk-hidden--visually\" id=\"sk-estimator-id-1\" type=\"checkbox\" checked><label for=\"sk-estimator-id-1\" class=\"sk-toggleable__label sk-toggleable__label-arrow\">DecisionTreeClassifier</label><div class=\"sk-toggleable__content\"><pre>DecisionTreeClassifier()</pre></div></div></div></div></div>"
      ],
      "text/plain": [
       "DecisionTreeClassifier()"
      ]
     },
     "execution_count": 26,
     "metadata": {},
     "output_type": "execute_result"
    }
   ],
   "source": [
    "clf = DecisionTreeClassifier()\n",
    "clf.fit(X_train, y_train)"
   ]
  },
  {
   "cell_type": "code",
   "execution_count": 27,
   "id": "9c50acc4",
   "metadata": {
    "execution": {
     "iopub.execute_input": "2023-03-21T05:59:07.843787Z",
     "iopub.status.busy": "2023-03-21T05:59:07.843317Z",
     "iopub.status.idle": "2023-03-21T05:59:07.968320Z",
     "shell.execute_reply": "2023-03-21T05:59:07.967383Z"
    },
    "papermill": {
     "duration": 0.160762,
     "end_time": "2023-03-21T05:59:07.970949",
     "exception": false,
     "start_time": "2023-03-21T05:59:07.810187",
     "status": "completed"
    },
    "tags": []
   },
   "outputs": [
    {
     "name": "stdout",
     "output_type": "stream",
     "text": [
      "              precision    recall  f1-score   support\n",
      "\n",
      "         rap       0.82      0.82      0.82      2400\n",
      "        rock       0.82      0.82      0.82      2400\n",
      "\n",
      "    accuracy                           0.82      4800\n",
      "   macro avg       0.82      0.82      0.82      4800\n",
      "weighted avg       0.82      0.82      0.82      4800\n",
      "\n"
     ]
    }
   ],
   "source": [
    "y_pred = clf.predict(X_test)\n",
    "print(classification_report(y_test, y_pred))"
   ]
  },
  {
   "cell_type": "code",
   "execution_count": 28,
   "id": "8866c3c3",
   "metadata": {
    "execution": {
     "iopub.execute_input": "2023-03-21T05:59:08.036365Z",
     "iopub.status.busy": "2023-03-21T05:59:08.035922Z",
     "iopub.status.idle": "2023-03-21T05:59:08.168535Z",
     "shell.execute_reply": "2023-03-21T05:59:08.167654Z"
    },
    "papermill": {
     "duration": 0.166863,
     "end_time": "2023-03-21T05:59:08.171331",
     "exception": false,
     "start_time": "2023-03-21T05:59:08.004468",
     "status": "completed"
    },
    "tags": []
   },
   "outputs": [],
   "source": [
    "acc = accuracy_score(y_test, y_pred)\n",
    "pre = precision_score(y_test, y_pred, average=avg_par)\n",
    "rec = recall_score(y_test, y_pred, average=avg_par)\n",
    "f1 = f1_score(y_test, y_pred, average=avg_par)\n",
    "\n",
    "metrics_data['Global']['DecisionTree'] = {'Accuracy': acc, 'Precision': pre, 'Recall': rec, 'F1': f1}"
   ]
  },
  {
   "cell_type": "markdown",
   "id": "28aa5a63",
   "metadata": {
    "papermill": {
     "duration": 0.033604,
     "end_time": "2023-03-21T05:59:08.238192",
     "exception": false,
     "start_time": "2023-03-21T05:59:08.204588",
     "status": "completed"
    },
    "tags": []
   },
   "source": [
    "**Random Forest**"
   ]
  },
  {
   "cell_type": "code",
   "execution_count": 29,
   "id": "0e5e2310",
   "metadata": {
    "execution": {
     "iopub.execute_input": "2023-03-21T05:59:08.272646Z",
     "iopub.status.busy": "2023-03-21T05:59:08.272173Z",
     "iopub.status.idle": "2023-03-21T05:59:54.792722Z",
     "shell.execute_reply": "2023-03-21T05:59:54.791809Z"
    },
    "papermill": {
     "duration": 46.549843,
     "end_time": "2023-03-21T05:59:54.808689",
     "exception": false,
     "start_time": "2023-03-21T05:59:08.258846",
     "status": "completed"
    },
    "tags": []
   },
   "outputs": [
    {
     "data": {
      "text/html": [
       "<style>#sk-container-id-2 {color: black;background-color: white;}#sk-container-id-2 pre{padding: 0;}#sk-container-id-2 div.sk-toggleable {background-color: white;}#sk-container-id-2 label.sk-toggleable__label {cursor: pointer;display: block;width: 100%;margin-bottom: 0;padding: 0.3em;box-sizing: border-box;text-align: center;}#sk-container-id-2 label.sk-toggleable__label-arrow:before {content: \"▸\";float: left;margin-right: 0.25em;color: #696969;}#sk-container-id-2 label.sk-toggleable__label-arrow:hover:before {color: black;}#sk-container-id-2 div.sk-estimator:hover label.sk-toggleable__label-arrow:before {color: black;}#sk-container-id-2 div.sk-toggleable__content {max-height: 0;max-width: 0;overflow: hidden;text-align: left;background-color: #f0f8ff;}#sk-container-id-2 div.sk-toggleable__content pre {margin: 0.2em;color: black;border-radius: 0.25em;background-color: #f0f8ff;}#sk-container-id-2 input.sk-toggleable__control:checked~div.sk-toggleable__content {max-height: 200px;max-width: 100%;overflow: auto;}#sk-container-id-2 input.sk-toggleable__control:checked~label.sk-toggleable__label-arrow:before {content: \"▾\";}#sk-container-id-2 div.sk-estimator input.sk-toggleable__control:checked~label.sk-toggleable__label {background-color: #d4ebff;}#sk-container-id-2 div.sk-label input.sk-toggleable__control:checked~label.sk-toggleable__label {background-color: #d4ebff;}#sk-container-id-2 input.sk-hidden--visually {border: 0;clip: rect(1px 1px 1px 1px);clip: rect(1px, 1px, 1px, 1px);height: 1px;margin: -1px;overflow: hidden;padding: 0;position: absolute;width: 1px;}#sk-container-id-2 div.sk-estimator {font-family: monospace;background-color: #f0f8ff;border: 1px dotted black;border-radius: 0.25em;box-sizing: border-box;margin-bottom: 0.5em;}#sk-container-id-2 div.sk-estimator:hover {background-color: #d4ebff;}#sk-container-id-2 div.sk-parallel-item::after {content: \"\";width: 100%;border-bottom: 1px solid gray;flex-grow: 1;}#sk-container-id-2 div.sk-label:hover label.sk-toggleable__label {background-color: #d4ebff;}#sk-container-id-2 div.sk-serial::before {content: \"\";position: absolute;border-left: 1px solid gray;box-sizing: border-box;top: 0;bottom: 0;left: 50%;z-index: 0;}#sk-container-id-2 div.sk-serial {display: flex;flex-direction: column;align-items: center;background-color: white;padding-right: 0.2em;padding-left: 0.2em;position: relative;}#sk-container-id-2 div.sk-item {position: relative;z-index: 1;}#sk-container-id-2 div.sk-parallel {display: flex;align-items: stretch;justify-content: center;background-color: white;position: relative;}#sk-container-id-2 div.sk-item::before, #sk-container-id-2 div.sk-parallel-item::before {content: \"\";position: absolute;border-left: 1px solid gray;box-sizing: border-box;top: 0;bottom: 0;left: 50%;z-index: -1;}#sk-container-id-2 div.sk-parallel-item {display: flex;flex-direction: column;z-index: 1;position: relative;background-color: white;}#sk-container-id-2 div.sk-parallel-item:first-child::after {align-self: flex-end;width: 50%;}#sk-container-id-2 div.sk-parallel-item:last-child::after {align-self: flex-start;width: 50%;}#sk-container-id-2 div.sk-parallel-item:only-child::after {width: 0;}#sk-container-id-2 div.sk-dashed-wrapped {border: 1px dashed gray;margin: 0 0.4em 0.5em 0.4em;box-sizing: border-box;padding-bottom: 0.4em;background-color: white;}#sk-container-id-2 div.sk-label label {font-family: monospace;font-weight: bold;display: inline-block;line-height: 1.2em;}#sk-container-id-2 div.sk-label-container {text-align: center;}#sk-container-id-2 div.sk-container {/* jupyter's `normalize.less` sets `[hidden] { display: none; }` but bootstrap.min.css set `[hidden] { display: none !important; }` so we also need the `!important` here to be able to override the default hidden behavior on the sphinx rendered scikit-learn.org. See: https://github.com/scikit-learn/scikit-learn/issues/21755 */display: inline-block !important;position: relative;}#sk-container-id-2 div.sk-text-repr-fallback {display: none;}</style><div id=\"sk-container-id-2\" class=\"sk-top-container\"><div class=\"sk-text-repr-fallback\"><pre>RandomForestClassifier(random_state=42)</pre><b>In a Jupyter environment, please rerun this cell to show the HTML representation or trust the notebook. <br />On GitHub, the HTML representation is unable to render, please try loading this page with nbviewer.org.</b></div><div class=\"sk-container\" hidden><div class=\"sk-item\"><div class=\"sk-estimator sk-toggleable\"><input class=\"sk-toggleable__control sk-hidden--visually\" id=\"sk-estimator-id-2\" type=\"checkbox\" checked><label for=\"sk-estimator-id-2\" class=\"sk-toggleable__label sk-toggleable__label-arrow\">RandomForestClassifier</label><div class=\"sk-toggleable__content\"><pre>RandomForestClassifier(random_state=42)</pre></div></div></div></div></div>"
      ],
      "text/plain": [
       "RandomForestClassifier(random_state=42)"
      ]
     },
     "execution_count": 29,
     "metadata": {},
     "output_type": "execute_result"
    }
   ],
   "source": [
    "clf = RandomForestClassifier(random_state=42)\n",
    "clf.fit(X_train, y_train)"
   ]
  },
  {
   "cell_type": "code",
   "execution_count": 30,
   "id": "4bd1304b",
   "metadata": {
    "execution": {
     "iopub.execute_input": "2023-03-21T05:59:54.858579Z",
     "iopub.status.busy": "2023-03-21T05:59:54.858284Z",
     "iopub.status.idle": "2023-03-21T05:59:55.122942Z",
     "shell.execute_reply": "2023-03-21T05:59:55.121979Z"
    },
    "papermill": {
     "duration": 0.304157,
     "end_time": "2023-03-21T05:59:55.124845",
     "exception": false,
     "start_time": "2023-03-21T05:59:54.820688",
     "status": "completed"
    },
    "tags": []
   },
   "outputs": [
    {
     "name": "stdout",
     "output_type": "stream",
     "text": [
      "              precision    recall  f1-score   support\n",
      "\n",
      "         rap       0.96      0.85      0.90      2400\n",
      "        rock       0.87      0.96      0.91      2400\n",
      "\n",
      "    accuracy                           0.91      4800\n",
      "   macro avg       0.91      0.91      0.91      4800\n",
      "weighted avg       0.91      0.91      0.91      4800\n",
      "\n"
     ]
    }
   ],
   "source": [
    "y_pred = clf.predict(X_test)\n",
    "print(classification_report(y_test, y_pred))"
   ]
  },
  {
   "cell_type": "code",
   "execution_count": 31,
   "id": "43174ba2",
   "metadata": {
    "execution": {
     "iopub.execute_input": "2023-03-21T05:59:55.176082Z",
     "iopub.status.busy": "2023-03-21T05:59:55.175773Z",
     "iopub.status.idle": "2023-03-21T05:59:55.294179Z",
     "shell.execute_reply": "2023-03-21T05:59:55.293280Z"
    },
    "papermill": {
     "duration": 0.15649,
     "end_time": "2023-03-21T05:59:55.296135",
     "exception": false,
     "start_time": "2023-03-21T05:59:55.139645",
     "status": "completed"
    },
    "tags": []
   },
   "outputs": [],
   "source": [
    "acc = accuracy_score(y_test, y_pred)\n",
    "pre = precision_score(y_test, y_pred, average=avg_par)\n",
    "rec = recall_score(y_test, y_pred, average=avg_par)\n",
    "f1 = f1_score(y_test, y_pred, average=avg_par)\n",
    "\n",
    "metrics_data['Global']['RandomForest'] = {'Accuracy': acc, 'Precision': pre, 'Recall': rec, 'F1': f1}"
   ]
  },
  {
   "cell_type": "markdown",
   "id": "22c98ac5",
   "metadata": {
    "papermill": {
     "duration": 0.036735,
     "end_time": "2023-03-21T05:59:55.347796",
     "exception": false,
     "start_time": "2023-03-21T05:59:55.311061",
     "status": "completed"
    },
    "tags": []
   },
   "source": [
    "**LightGBM**"
   ]
  },
  {
   "cell_type": "code",
   "execution_count": 32,
   "id": "c93b818c",
   "metadata": {
    "execution": {
     "iopub.execute_input": "2023-03-21T05:59:55.392407Z",
     "iopub.status.busy": "2023-03-21T05:59:55.392088Z",
     "iopub.status.idle": "2023-03-21T06:00:00.051489Z",
     "shell.execute_reply": "2023-03-21T06:00:00.050839Z"
    },
    "papermill": {
     "duration": 4.675157,
     "end_time": "2023-03-21T06:00:00.054019",
     "exception": false,
     "start_time": "2023-03-21T05:59:55.378862",
     "status": "completed"
    },
    "tags": []
   },
   "outputs": [
    {
     "data": {
      "text/html": [
       "<style>#sk-container-id-3 {color: black;background-color: white;}#sk-container-id-3 pre{padding: 0;}#sk-container-id-3 div.sk-toggleable {background-color: white;}#sk-container-id-3 label.sk-toggleable__label {cursor: pointer;display: block;width: 100%;margin-bottom: 0;padding: 0.3em;box-sizing: border-box;text-align: center;}#sk-container-id-3 label.sk-toggleable__label-arrow:before {content: \"▸\";float: left;margin-right: 0.25em;color: #696969;}#sk-container-id-3 label.sk-toggleable__label-arrow:hover:before {color: black;}#sk-container-id-3 div.sk-estimator:hover label.sk-toggleable__label-arrow:before {color: black;}#sk-container-id-3 div.sk-toggleable__content {max-height: 0;max-width: 0;overflow: hidden;text-align: left;background-color: #f0f8ff;}#sk-container-id-3 div.sk-toggleable__content pre {margin: 0.2em;color: black;border-radius: 0.25em;background-color: #f0f8ff;}#sk-container-id-3 input.sk-toggleable__control:checked~div.sk-toggleable__content {max-height: 200px;max-width: 100%;overflow: auto;}#sk-container-id-3 input.sk-toggleable__control:checked~label.sk-toggleable__label-arrow:before {content: \"▾\";}#sk-container-id-3 div.sk-estimator input.sk-toggleable__control:checked~label.sk-toggleable__label {background-color: #d4ebff;}#sk-container-id-3 div.sk-label input.sk-toggleable__control:checked~label.sk-toggleable__label {background-color: #d4ebff;}#sk-container-id-3 input.sk-hidden--visually {border: 0;clip: rect(1px 1px 1px 1px);clip: rect(1px, 1px, 1px, 1px);height: 1px;margin: -1px;overflow: hidden;padding: 0;position: absolute;width: 1px;}#sk-container-id-3 div.sk-estimator {font-family: monospace;background-color: #f0f8ff;border: 1px dotted black;border-radius: 0.25em;box-sizing: border-box;margin-bottom: 0.5em;}#sk-container-id-3 div.sk-estimator:hover {background-color: #d4ebff;}#sk-container-id-3 div.sk-parallel-item::after {content: \"\";width: 100%;border-bottom: 1px solid gray;flex-grow: 1;}#sk-container-id-3 div.sk-label:hover label.sk-toggleable__label {background-color: #d4ebff;}#sk-container-id-3 div.sk-serial::before {content: \"\";position: absolute;border-left: 1px solid gray;box-sizing: border-box;top: 0;bottom: 0;left: 50%;z-index: 0;}#sk-container-id-3 div.sk-serial {display: flex;flex-direction: column;align-items: center;background-color: white;padding-right: 0.2em;padding-left: 0.2em;position: relative;}#sk-container-id-3 div.sk-item {position: relative;z-index: 1;}#sk-container-id-3 div.sk-parallel {display: flex;align-items: stretch;justify-content: center;background-color: white;position: relative;}#sk-container-id-3 div.sk-item::before, #sk-container-id-3 div.sk-parallel-item::before {content: \"\";position: absolute;border-left: 1px solid gray;box-sizing: border-box;top: 0;bottom: 0;left: 50%;z-index: -1;}#sk-container-id-3 div.sk-parallel-item {display: flex;flex-direction: column;z-index: 1;position: relative;background-color: white;}#sk-container-id-3 div.sk-parallel-item:first-child::after {align-self: flex-end;width: 50%;}#sk-container-id-3 div.sk-parallel-item:last-child::after {align-self: flex-start;width: 50%;}#sk-container-id-3 div.sk-parallel-item:only-child::after {width: 0;}#sk-container-id-3 div.sk-dashed-wrapped {border: 1px dashed gray;margin: 0 0.4em 0.5em 0.4em;box-sizing: border-box;padding-bottom: 0.4em;background-color: white;}#sk-container-id-3 div.sk-label label {font-family: monospace;font-weight: bold;display: inline-block;line-height: 1.2em;}#sk-container-id-3 div.sk-label-container {text-align: center;}#sk-container-id-3 div.sk-container {/* jupyter's `normalize.less` sets `[hidden] { display: none; }` but bootstrap.min.css set `[hidden] { display: none !important; }` so we also need the `!important` here to be able to override the default hidden behavior on the sphinx rendered scikit-learn.org. See: https://github.com/scikit-learn/scikit-learn/issues/21755 */display: inline-block !important;position: relative;}#sk-container-id-3 div.sk-text-repr-fallback {display: none;}</style><div id=\"sk-container-id-3\" class=\"sk-top-container\"><div class=\"sk-text-repr-fallback\"><pre>LGBMClassifier(objective=&#x27;binary&#x27;)</pre><b>In a Jupyter environment, please rerun this cell to show the HTML representation or trust the notebook. <br />On GitHub, the HTML representation is unable to render, please try loading this page with nbviewer.org.</b></div><div class=\"sk-container\" hidden><div class=\"sk-item\"><div class=\"sk-estimator sk-toggleable\"><input class=\"sk-toggleable__control sk-hidden--visually\" id=\"sk-estimator-id-3\" type=\"checkbox\" checked><label for=\"sk-estimator-id-3\" class=\"sk-toggleable__label sk-toggleable__label-arrow\">LGBMClassifier</label><div class=\"sk-toggleable__content\"><pre>LGBMClassifier(objective=&#x27;binary&#x27;)</pre></div></div></div></div></div>"
      ],
      "text/plain": [
       "LGBMClassifier(objective='binary')"
      ]
     },
     "execution_count": 32,
     "metadata": {},
     "output_type": "execute_result"
    }
   ],
   "source": [
    "clf = lgbm.LGBMClassifier(objective=obj_par) \n",
    "clf.fit(X_train, y_train)"
   ]
  },
  {
   "cell_type": "code",
   "execution_count": 33,
   "id": "600a663a",
   "metadata": {
    "execution": {
     "iopub.execute_input": "2023-03-21T06:00:00.094451Z",
     "iopub.status.busy": "2023-03-21T06:00:00.094116Z",
     "iopub.status.idle": "2023-03-21T06:00:00.230108Z",
     "shell.execute_reply": "2023-03-21T06:00:00.229260Z"
    },
    "papermill": {
     "duration": 0.158144,
     "end_time": "2023-03-21T06:00:00.232863",
     "exception": false,
     "start_time": "2023-03-21T06:00:00.074719",
     "status": "completed"
    },
    "tags": []
   },
   "outputs": [
    {
     "name": "stdout",
     "output_type": "stream",
     "text": [
      "              precision    recall  f1-score   support\n",
      "\n",
      "         rap       0.95      0.89      0.92      2400\n",
      "        rock       0.90      0.95      0.92      2400\n",
      "\n",
      "    accuracy                           0.92      4800\n",
      "   macro avg       0.92      0.92      0.92      4800\n",
      "weighted avg       0.92      0.92      0.92      4800\n",
      "\n"
     ]
    }
   ],
   "source": [
    "y_pred = clf.predict(X_test)\n",
    "print(classification_report(y_test, y_pred))"
   ]
  },
  {
   "cell_type": "code",
   "execution_count": 34,
   "id": "508d831d",
   "metadata": {
    "execution": {
     "iopub.execute_input": "2023-03-21T06:00:00.300339Z",
     "iopub.status.busy": "2023-03-21T06:00:00.300029Z",
     "iopub.status.idle": "2023-03-21T06:00:00.395315Z",
     "shell.execute_reply": "2023-03-21T06:00:00.394478Z"
    },
    "papermill": {
     "duration": 0.129868,
     "end_time": "2023-03-21T06:00:00.397193",
     "exception": false,
     "start_time": "2023-03-21T06:00:00.267325",
     "status": "completed"
    },
    "tags": []
   },
   "outputs": [],
   "source": [
    "acc = accuracy_score(y_test, y_pred)\n",
    "pre = precision_score(y_test, y_pred, average=avg_par)\n",
    "rec = recall_score(y_test, y_pred, average=avg_par)\n",
    "f1 = f1_score(y_test, y_pred, average=avg_par)\n",
    "\n",
    "metrics_data['Global']['LightGBM'] = {'Accuracy': acc, 'Precision': pre, 'Recall': rec, 'F1': f1}"
   ]
  },
  {
   "cell_type": "markdown",
   "id": "14b86894",
   "metadata": {
    "papermill": {
     "duration": 0.011944,
     "end_time": "2023-03-21T06:00:00.424418",
     "exception": false,
     "start_time": "2023-03-21T06:00:00.412474",
     "status": "completed"
    },
    "tags": []
   },
   "source": [
    "### Time Series Classification"
   ]
  },
  {
   "cell_type": "markdown",
   "id": "84c55533",
   "metadata": {
    "papermill": {
     "duration": 0.012167,
     "end_time": "2023-03-21T06:00:00.448723",
     "exception": false,
     "start_time": "2023-03-21T06:00:00.436556",
     "status": "completed"
    },
    "tags": []
   },
   "source": [
    "#### Learning Shapelets"
   ]
  },
  {
   "cell_type": "code",
   "execution_count": 35,
   "id": "488d8eb7",
   "metadata": {
    "execution": {
     "iopub.execute_input": "2023-03-21T06:00:00.475397Z",
     "iopub.status.busy": "2023-03-21T06:00:00.475078Z",
     "iopub.status.idle": "2023-03-21T06:00:02.024216Z",
     "shell.execute_reply": "2023-03-21T06:00:02.023246Z"
    },
    "papermill": {
     "duration": 1.565885,
     "end_time": "2023-03-21T06:00:02.027138",
     "exception": false,
     "start_time": "2023-03-21T06:00:00.461253",
     "status": "completed"
    },
    "tags": []
   },
   "outputs": [
    {
     "name": "stderr",
     "output_type": "stream",
     "text": [
      "2023-03-21 07:00:00.480297: I tensorflow/core/platform/cpu_feature_guard.cc:193] This TensorFlow binary is optimized with oneAPI Deep Neural Network Library (oneDNN) to use the following CPU instructions in performance-critical operations:  AVX2 FMA\n",
      "To enable them in other operations, rebuild TensorFlow with the appropriate compiler flags.\n",
      "2023-03-21 07:00:00.606707: W tensorflow/compiler/xla/stream_executor/platform/default/dso_loader.cc:64] Could not load dynamic library 'libcudart.so.11.0'; dlerror: libcudart.so.11.0: cannot open shared object file: No such file or directory\n",
      "2023-03-21 07:00:00.606732: I tensorflow/compiler/xla/stream_executor/cuda/cudart_stub.cc:29] Ignore above cudart dlerror if you do not have a GPU set up on your machine.\n"
     ]
    },
    {
     "name": "stderr",
     "output_type": "stream",
     "text": [
      "2023-03-21 07:00:01.245825: W tensorflow/compiler/xla/stream_executor/platform/default/dso_loader.cc:64] Could not load dynamic library 'libnvinfer.so.7'; dlerror: libnvinfer.so.7: cannot open shared object file: No such file or directory\n",
      "2023-03-21 07:00:01.245902: W tensorflow/compiler/xla/stream_executor/platform/default/dso_loader.cc:64] Could not load dynamic library 'libnvinfer_plugin.so.7'; dlerror: libnvinfer_plugin.so.7: cannot open shared object file: No such file or directory\n",
      "2023-03-21 07:00:01.245910: W tensorflow/compiler/tf2tensorrt/utils/py_utils.cc:38] TF-TRT Warning: Cannot dlopen some TensorRT libraries. If you would like to use Nvidia GPU with TensorRT, please make sure the missing libraries mentioned above are installed properly.\n"
     ]
    }
   ],
   "source": [
    "from tslearn.shapelets import LearningShapelets, grabocka_params_to_shapelet_size_dict"
   ]
  },
  {
   "cell_type": "code",
   "execution_count": 36,
   "id": "eb677959",
   "metadata": {
    "execution": {
     "iopub.execute_input": "2023-03-21T06:00:02.060911Z",
     "iopub.status.busy": "2023-03-21T06:00:02.060398Z",
     "iopub.status.idle": "2023-03-21T06:00:02.065834Z",
     "shell.execute_reply": "2023-03-21T06:00:02.064936Z"
    },
    "papermill": {
     "duration": 0.020537,
     "end_time": "2023-03-21T06:00:02.067519",
     "exception": false,
     "start_time": "2023-03-21T06:00:02.046982",
     "status": "completed"
    },
    "tags": []
   },
   "outputs": [],
   "source": [
    "n_ts, ts_sz, _ = ts_train.shape\n",
    "n_classes = len(set(y_train))"
   ]
  },
  {
   "cell_type": "code",
   "execution_count": 37,
   "id": "776ed3dd",
   "metadata": {
    "execution": {
     "iopub.execute_input": "2023-03-21T06:00:02.094099Z",
     "iopub.status.busy": "2023-03-21T06:00:02.093451Z",
     "iopub.status.idle": "2023-03-21T06:00:02.101564Z",
     "shell.execute_reply": "2023-03-21T06:00:02.100261Z"
    },
    "papermill": {
     "duration": 0.023643,
     "end_time": "2023-03-21T06:00:02.103411",
     "exception": false,
     "start_time": "2023-03-21T06:00:02.079768",
     "status": "completed"
    },
    "tags": []
   },
   "outputs": [
    {
     "name": "stdout",
     "output_type": "stream",
     "text": [
      "n_ts 19200\n",
      "ts_sz 100\n",
      "n_classes 2\n",
      "shapelet_sizes {10: 6}\n"
     ]
    }
   ],
   "source": [
    "# Set the number of shapelets per size as done in the original paper\n",
    "g_shapelet_sizes = grabocka_params_to_shapelet_size_dict(n_ts=n_ts,\n",
    "                                                         ts_sz=ts_sz,\n",
    "                                                         n_classes=n_classes,\n",
    "                                                         l=0.1,\n",
    "                                                         r=1)\n",
    "\n",
    "print('n_ts', n_ts)\n",
    "print('ts_sz', ts_sz)\n",
    "print('n_classes', n_classes)\n",
    "print('shapelet_sizes', g_shapelet_sizes)"
   ]
  },
  {
   "cell_type": "code",
   "execution_count": 38,
   "id": "90ed707e",
   "metadata": {
    "execution": {
     "iopub.execute_input": "2023-03-21T06:00:02.130099Z",
     "iopub.status.busy": "2023-03-21T06:00:02.129425Z",
     "iopub.status.idle": "2023-03-21T06:00:02.139332Z",
     "shell.execute_reply": "2023-03-21T06:00:02.137996Z"
    },
    "papermill": {
     "duration": 0.025536,
     "end_time": "2023-03-21T06:00:02.141312",
     "exception": false,
     "start_time": "2023-03-21T06:00:02.115776",
     "status": "completed"
    },
    "tags": []
   },
   "outputs": [
    {
     "data": {
      "text/plain": [
       "{10: 6, 20: 6, 5: 6}"
      ]
     },
     "execution_count": 38,
     "metadata": {},
     "output_type": "execute_result"
    }
   ],
   "source": [
    "shapelet_sizes = {}\n",
    "for key in g_shapelet_sizes:\n",
    "    shapelet_sizes[key] = g_shapelet_sizes[key]\n",
    "    shapelet_sizes[key*2] = g_shapelet_sizes[key]\n",
    "    shapelet_sizes[key//2] = g_shapelet_sizes[key]\n",
    "shapelet_sizes"
   ]
  },
  {
   "cell_type": "code",
   "execution_count": 39,
   "id": "3507fb9c",
   "metadata": {
    "execution": {
     "iopub.execute_input": "2023-03-21T06:00:02.168611Z",
     "iopub.status.busy": "2023-03-21T06:00:02.167845Z",
     "iopub.status.idle": "2023-03-21T06:00:02.175425Z",
     "shell.execute_reply": "2023-03-21T06:00:02.174329Z"
    },
    "papermill": {
     "duration": 0.023093,
     "end_time": "2023-03-21T06:00:02.177140",
     "exception": false,
     "start_time": "2023-03-21T06:00:02.154047",
     "status": "completed"
    },
    "tags": []
   },
   "outputs": [
    {
     "name": "stderr",
     "output_type": "stream",
     "text": [
      "/home/mattiapggioli/lyrics2ts/.venv/lib/python3.9/site-packages/tslearn/shapelets/shapelets.py:354: FutureWarning: The default value for 'scale' is set to False in version 0.4 to ensure backward compatibility, but is likely to change in a future version.\n",
      "  warnings.warn(\"The default value for 'scale' is set to False \"\n"
     ]
    }
   ],
   "source": [
    "model = LearningShapelets(n_shapelets_per_size=shapelet_sizes,\n",
    "                          optimizer=\"adam\", \n",
    "                          weight_regularizer=.01, \n",
    "                          max_iter=max_iter, verbose=0, random_state=42)"
   ]
  },
  {
   "cell_type": "code",
   "execution_count": 40,
   "id": "73b1fe2e",
   "metadata": {
    "execution": {
     "iopub.execute_input": "2023-03-21T06:00:02.204422Z",
     "iopub.status.busy": "2023-03-21T06:00:02.203633Z",
     "iopub.status.idle": "2023-03-21T06:25:21.350248Z",
     "shell.execute_reply": "2023-03-21T06:25:21.349326Z"
    },
    "papermill": {
     "duration": 1519.214243,
     "end_time": "2023-03-21T06:25:21.403845",
     "exception": false,
     "start_time": "2023-03-21T06:00:02.189602",
     "status": "completed"
    },
    "tags": []
   },
   "outputs": [
    {
     "name": "stderr",
     "output_type": "stream",
     "text": [
      "2023-03-21 07:00:02.799601: W tensorflow/compiler/xla/stream_executor/platform/default/dso_loader.cc:64] Could not load dynamic library 'libcuda.so.1'; dlerror: libcuda.so.1: cannot open shared object file: No such file or directory\n",
      "2023-03-21 07:00:02.799627: W tensorflow/compiler/xla/stream_executor/cuda/cuda_driver.cc:265] failed call to cuInit: UNKNOWN ERROR (303)\n",
      "2023-03-21 07:00:02.799650: I tensorflow/compiler/xla/stream_executor/cuda/cuda_diagnostics.cc:156] kernel driver does not appear to be running on this host (mattiapggioli-ThinkPad-E595): /proc/driver/nvidia/version does not exist\n",
      "2023-03-21 07:00:02.799872: I tensorflow/core/platform/cpu_feature_guard.cc:193] This TensorFlow binary is optimized with oneAPI Deep Neural Network Library (oneDNN) to use the following CPU instructions in performance-critical operations:  AVX2 FMA\n",
      "To enable them in other operations, rebuild TensorFlow with the appropriate compiler flags.\n"
     ]
    },
    {
     "name": "stdout",
     "output_type": "stream",
     "text": [
      "CPU times: user 2h 25min 55s, sys: 6min 57s, total: 2h 32min 53s\n",
      "Wall time: 25min 19s\n"
     ]
    },
    {
     "data": {
      "text/html": [
       "<style>#sk-container-id-4 {color: black;background-color: white;}#sk-container-id-4 pre{padding: 0;}#sk-container-id-4 div.sk-toggleable {background-color: white;}#sk-container-id-4 label.sk-toggleable__label {cursor: pointer;display: block;width: 100%;margin-bottom: 0;padding: 0.3em;box-sizing: border-box;text-align: center;}#sk-container-id-4 label.sk-toggleable__label-arrow:before {content: \"▸\";float: left;margin-right: 0.25em;color: #696969;}#sk-container-id-4 label.sk-toggleable__label-arrow:hover:before {color: black;}#sk-container-id-4 div.sk-estimator:hover label.sk-toggleable__label-arrow:before {color: black;}#sk-container-id-4 div.sk-toggleable__content {max-height: 0;max-width: 0;overflow: hidden;text-align: left;background-color: #f0f8ff;}#sk-container-id-4 div.sk-toggleable__content pre {margin: 0.2em;color: black;border-radius: 0.25em;background-color: #f0f8ff;}#sk-container-id-4 input.sk-toggleable__control:checked~div.sk-toggleable__content {max-height: 200px;max-width: 100%;overflow: auto;}#sk-container-id-4 input.sk-toggleable__control:checked~label.sk-toggleable__label-arrow:before {content: \"▾\";}#sk-container-id-4 div.sk-estimator input.sk-toggleable__control:checked~label.sk-toggleable__label {background-color: #d4ebff;}#sk-container-id-4 div.sk-label input.sk-toggleable__control:checked~label.sk-toggleable__label {background-color: #d4ebff;}#sk-container-id-4 input.sk-hidden--visually {border: 0;clip: rect(1px 1px 1px 1px);clip: rect(1px, 1px, 1px, 1px);height: 1px;margin: -1px;overflow: hidden;padding: 0;position: absolute;width: 1px;}#sk-container-id-4 div.sk-estimator {font-family: monospace;background-color: #f0f8ff;border: 1px dotted black;border-radius: 0.25em;box-sizing: border-box;margin-bottom: 0.5em;}#sk-container-id-4 div.sk-estimator:hover {background-color: #d4ebff;}#sk-container-id-4 div.sk-parallel-item::after {content: \"\";width: 100%;border-bottom: 1px solid gray;flex-grow: 1;}#sk-container-id-4 div.sk-label:hover label.sk-toggleable__label {background-color: #d4ebff;}#sk-container-id-4 div.sk-serial::before {content: \"\";position: absolute;border-left: 1px solid gray;box-sizing: border-box;top: 0;bottom: 0;left: 50%;z-index: 0;}#sk-container-id-4 div.sk-serial {display: flex;flex-direction: column;align-items: center;background-color: white;padding-right: 0.2em;padding-left: 0.2em;position: relative;}#sk-container-id-4 div.sk-item {position: relative;z-index: 1;}#sk-container-id-4 div.sk-parallel {display: flex;align-items: stretch;justify-content: center;background-color: white;position: relative;}#sk-container-id-4 div.sk-item::before, #sk-container-id-4 div.sk-parallel-item::before {content: \"\";position: absolute;border-left: 1px solid gray;box-sizing: border-box;top: 0;bottom: 0;left: 50%;z-index: -1;}#sk-container-id-4 div.sk-parallel-item {display: flex;flex-direction: column;z-index: 1;position: relative;background-color: white;}#sk-container-id-4 div.sk-parallel-item:first-child::after {align-self: flex-end;width: 50%;}#sk-container-id-4 div.sk-parallel-item:last-child::after {align-self: flex-start;width: 50%;}#sk-container-id-4 div.sk-parallel-item:only-child::after {width: 0;}#sk-container-id-4 div.sk-dashed-wrapped {border: 1px dashed gray;margin: 0 0.4em 0.5em 0.4em;box-sizing: border-box;padding-bottom: 0.4em;background-color: white;}#sk-container-id-4 div.sk-label label {font-family: monospace;font-weight: bold;display: inline-block;line-height: 1.2em;}#sk-container-id-4 div.sk-label-container {text-align: center;}#sk-container-id-4 div.sk-container {/* jupyter's `normalize.less` sets `[hidden] { display: none; }` but bootstrap.min.css set `[hidden] { display: none !important; }` so we also need the `!important` here to be able to override the default hidden behavior on the sphinx rendered scikit-learn.org. See: https://github.com/scikit-learn/scikit-learn/issues/21755 */display: inline-block !important;position: relative;}#sk-container-id-4 div.sk-text-repr-fallback {display: none;}</style><div id=\"sk-container-id-4\" class=\"sk-top-container\"><div class=\"sk-text-repr-fallback\"><pre>LearningShapelets(max_iter=2000, n_shapelets_per_size={5: 6, 10: 6, 20: 6},\n",
       "                  optimizer=&#x27;adam&#x27;, random_state=42, weight_regularizer=0.01)</pre><b>In a Jupyter environment, please rerun this cell to show the HTML representation or trust the notebook. <br />On GitHub, the HTML representation is unable to render, please try loading this page with nbviewer.org.</b></div><div class=\"sk-container\" hidden><div class=\"sk-item\"><div class=\"sk-estimator sk-toggleable\"><input class=\"sk-toggleable__control sk-hidden--visually\" id=\"sk-estimator-id-4\" type=\"checkbox\" checked><label for=\"sk-estimator-id-4\" class=\"sk-toggleable__label sk-toggleable__label-arrow\">LearningShapelets</label><div class=\"sk-toggleable__content\"><pre>LearningShapelets(max_iter=2000, n_shapelets_per_size={5: 6, 10: 6, 20: 6},\n",
       "                  optimizer=&#x27;adam&#x27;, random_state=42, weight_regularizer=0.01)</pre></div></div></div></div></div>"
      ],
      "text/plain": [
       "LearningShapelets(max_iter=2000, n_shapelets_per_size={5: 6, 10: 6, 20: 6},\n",
       "                  optimizer='adam', random_state=42, weight_regularizer=0.01)"
      ]
     },
     "execution_count": 40,
     "metadata": {},
     "output_type": "execute_result"
    }
   ],
   "source": [
    "%%time\n",
    "model.fit(ts_train, y_train)"
   ]
  },
  {
   "cell_type": "code",
   "execution_count": 41,
   "id": "51706baa",
   "metadata": {
    "execution": {
     "iopub.execute_input": "2023-03-21T06:25:21.432658Z",
     "iopub.status.busy": "2023-03-21T06:25:21.432176Z",
     "iopub.status.idle": "2023-03-21T06:25:21.465669Z",
     "shell.execute_reply": "2023-03-21T06:25:21.464653Z"
    },
    "papermill": {
     "duration": 0.051699,
     "end_time": "2023-03-21T06:25:21.469197",
     "exception": false,
     "start_time": "2023-03-21T06:25:21.417498",
     "status": "completed"
    },
    "tags": []
   },
   "outputs": [],
   "source": [
    "model.to_pickle(f'{data_path}/shapelets.pkl')"
   ]
  },
  {
   "cell_type": "markdown",
   "id": "309f70dc",
   "metadata": {
    "papermill": {
     "duration": 0.023755,
     "end_time": "2023-03-21T06:25:21.525204",
     "exception": false,
     "start_time": "2023-03-21T06:25:21.501449",
     "status": "completed"
    },
    "tags": []
   },
   "source": [
    "#### Shapelet-Based Classification"
   ]
  },
  {
   "cell_type": "code",
   "execution_count": 42,
   "id": "60125dff",
   "metadata": {
    "execution": {
     "iopub.execute_input": "2023-03-21T06:25:21.553315Z",
     "iopub.status.busy": "2023-03-21T06:25:21.552597Z",
     "iopub.status.idle": "2023-03-21T06:25:21.557453Z",
     "shell.execute_reply": "2023-03-21T06:25:21.556559Z"
    },
    "papermill": {
     "duration": 0.021073,
     "end_time": "2023-03-21T06:25:21.559085",
     "exception": false,
     "start_time": "2023-03-21T06:25:21.538012",
     "status": "completed"
    },
    "tags": []
   },
   "outputs": [],
   "source": [
    "metrics_data['Shapelets'] = {}"
   ]
  },
  {
   "cell_type": "code",
   "execution_count": 43,
   "id": "efb8984d",
   "metadata": {
    "execution": {
     "iopub.execute_input": "2023-03-21T06:25:21.587787Z",
     "iopub.status.busy": "2023-03-21T06:25:21.587294Z",
     "iopub.status.idle": "2023-03-21T06:25:23.462875Z",
     "shell.execute_reply": "2023-03-21T06:25:23.461759Z"
    },
    "papermill": {
     "duration": 1.893729,
     "end_time": "2023-03-21T06:25:23.466058",
     "exception": false,
     "start_time": "2023-03-21T06:25:21.572329",
     "status": "completed"
    },
    "tags": []
   },
   "outputs": [],
   "source": [
    "X_train = model.transform(ts_train)\n",
    "X_test = model.transform(ts_test)"
   ]
  },
  {
   "cell_type": "code",
   "execution_count": 44,
   "id": "2e6c0f22",
   "metadata": {
    "execution": {
     "iopub.execute_input": "2023-03-21T06:25:23.523770Z",
     "iopub.status.busy": "2023-03-21T06:25:23.522891Z",
     "iopub.status.idle": "2023-03-21T06:25:23.566356Z",
     "shell.execute_reply": "2023-03-21T06:25:23.565309Z"
    },
    "papermill": {
     "duration": 0.066047,
     "end_time": "2023-03-21T06:25:23.568487",
     "exception": false,
     "start_time": "2023-03-21T06:25:23.502440",
     "status": "completed"
    },
    "tags": []
   },
   "outputs": [
    {
     "data": {
      "text/html": [
       "<div>\n",
       "<style scoped>\n",
       "    .dataframe tbody tr th:only-of-type {\n",
       "        vertical-align: middle;\n",
       "    }\n",
       "\n",
       "    .dataframe tbody tr th {\n",
       "        vertical-align: top;\n",
       "    }\n",
       "\n",
       "    .dataframe thead th {\n",
       "        text-align: right;\n",
       "    }\n",
       "</style>\n",
       "<table border=\"1\" class=\"dataframe\">\n",
       "  <thead>\n",
       "    <tr style=\"text-align: right;\">\n",
       "      <th></th>\n",
       "      <th>0</th>\n",
       "      <th>1</th>\n",
       "      <th>2</th>\n",
       "      <th>3</th>\n",
       "      <th>4</th>\n",
       "      <th>5</th>\n",
       "      <th>6</th>\n",
       "      <th>7</th>\n",
       "      <th>8</th>\n",
       "      <th>9</th>\n",
       "      <th>10</th>\n",
       "      <th>11</th>\n",
       "      <th>12</th>\n",
       "      <th>13</th>\n",
       "      <th>14</th>\n",
       "      <th>15</th>\n",
       "      <th>16</th>\n",
       "      <th>17</th>\n",
       "    </tr>\n",
       "  </thead>\n",
       "  <tbody>\n",
       "    <tr>\n",
       "      <th>0</th>\n",
       "      <td>0.254248</td>\n",
       "      <td>6.545859</td>\n",
       "      <td>0.546139</td>\n",
       "      <td>0.293513</td>\n",
       "      <td>0.562361</td>\n",
       "      <td>0.724280</td>\n",
       "      <td>0.571498</td>\n",
       "      <td>1.160213</td>\n",
       "      <td>1.146871</td>\n",
       "      <td>2.251931</td>\n",
       "      <td>1.765099</td>\n",
       "      <td>1.194056</td>\n",
       "      <td>0.267994</td>\n",
       "      <td>1.350555</td>\n",
       "      <td>0.267991</td>\n",
       "      <td>0.268007</td>\n",
       "      <td>0.267974</td>\n",
       "      <td>0.268028</td>\n",
       "    </tr>\n",
       "    <tr>\n",
       "      <th>1</th>\n",
       "      <td>0.199918</td>\n",
       "      <td>5.624842</td>\n",
       "      <td>0.544036</td>\n",
       "      <td>0.216469</td>\n",
       "      <td>0.129663</td>\n",
       "      <td>0.228643</td>\n",
       "      <td>0.580037</td>\n",
       "      <td>1.257373</td>\n",
       "      <td>0.570109</td>\n",
       "      <td>2.621269</td>\n",
       "      <td>1.465380</td>\n",
       "      <td>1.328047</td>\n",
       "      <td>0.753309</td>\n",
       "      <td>1.827650</td>\n",
       "      <td>0.753301</td>\n",
       "      <td>0.753271</td>\n",
       "      <td>0.753314</td>\n",
       "      <td>0.753321</td>\n",
       "    </tr>\n",
       "    <tr>\n",
       "      <th>2</th>\n",
       "      <td>0.608405</td>\n",
       "      <td>5.258097</td>\n",
       "      <td>0.666617</td>\n",
       "      <td>0.880784</td>\n",
       "      <td>0.963346</td>\n",
       "      <td>1.121069</td>\n",
       "      <td>0.911917</td>\n",
       "      <td>0.799353</td>\n",
       "      <td>1.591085</td>\n",
       "      <td>3.989105</td>\n",
       "      <td>2.727719</td>\n",
       "      <td>2.305935</td>\n",
       "      <td>0.638087</td>\n",
       "      <td>1.371152</td>\n",
       "      <td>0.638084</td>\n",
       "      <td>0.638090</td>\n",
       "      <td>0.638092</td>\n",
       "      <td>0.638151</td>\n",
       "    </tr>\n",
       "    <tr>\n",
       "      <th>3</th>\n",
       "      <td>0.289697</td>\n",
       "      <td>3.872013</td>\n",
       "      <td>0.480831</td>\n",
       "      <td>0.515805</td>\n",
       "      <td>0.604685</td>\n",
       "      <td>0.186592</td>\n",
       "      <td>0.283409</td>\n",
       "      <td>1.269959</td>\n",
       "      <td>0.746239</td>\n",
       "      <td>2.037935</td>\n",
       "      <td>1.221797</td>\n",
       "      <td>1.273500</td>\n",
       "      <td>0.212551</td>\n",
       "      <td>0.921471</td>\n",
       "      <td>0.212549</td>\n",
       "      <td>0.212563</td>\n",
       "      <td>0.212534</td>\n",
       "      <td>0.212581</td>\n",
       "    </tr>\n",
       "    <tr>\n",
       "      <th>4</th>\n",
       "      <td>0.133317</td>\n",
       "      <td>7.820529</td>\n",
       "      <td>0.197341</td>\n",
       "      <td>0.581782</td>\n",
       "      <td>1.022319</td>\n",
       "      <td>0.668022</td>\n",
       "      <td>1.196112</td>\n",
       "      <td>1.230391</td>\n",
       "      <td>1.454087</td>\n",
       "      <td>3.231469</td>\n",
       "      <td>2.176716</td>\n",
       "      <td>2.070929</td>\n",
       "      <td>0.188422</td>\n",
       "      <td>1.561707</td>\n",
       "      <td>0.188420</td>\n",
       "      <td>0.188434</td>\n",
       "      <td>0.188406</td>\n",
       "      <td>0.188451</td>\n",
       "    </tr>\n",
       "    <tr>\n",
       "      <th>...</th>\n",
       "      <td>...</td>\n",
       "      <td>...</td>\n",
       "      <td>...</td>\n",
       "      <td>...</td>\n",
       "      <td>...</td>\n",
       "      <td>...</td>\n",
       "      <td>...</td>\n",
       "      <td>...</td>\n",
       "      <td>...</td>\n",
       "      <td>...</td>\n",
       "      <td>...</td>\n",
       "      <td>...</td>\n",
       "      <td>...</td>\n",
       "      <td>...</td>\n",
       "      <td>...</td>\n",
       "      <td>...</td>\n",
       "      <td>...</td>\n",
       "      <td>...</td>\n",
       "    </tr>\n",
       "    <tr>\n",
       "      <th>4795</th>\n",
       "      <td>0.453511</td>\n",
       "      <td>8.311141</td>\n",
       "      <td>1.051808</td>\n",
       "      <td>0.492903</td>\n",
       "      <td>0.510629</td>\n",
       "      <td>0.383160</td>\n",
       "      <td>0.835367</td>\n",
       "      <td>1.488773</td>\n",
       "      <td>1.199396</td>\n",
       "      <td>0.699202</td>\n",
       "      <td>1.242690</td>\n",
       "      <td>1.186654</td>\n",
       "      <td>0.084075</td>\n",
       "      <td>1.413743</td>\n",
       "      <td>0.084073</td>\n",
       "      <td>0.084082</td>\n",
       "      <td>0.084066</td>\n",
       "      <td>0.084094</td>\n",
       "    </tr>\n",
       "    <tr>\n",
       "      <th>4796</th>\n",
       "      <td>0.244946</td>\n",
       "      <td>7.348311</td>\n",
       "      <td>1.027135</td>\n",
       "      <td>0.162288</td>\n",
       "      <td>0.145737</td>\n",
       "      <td>0.662170</td>\n",
       "      <td>0.590822</td>\n",
       "      <td>1.556748</td>\n",
       "      <td>1.241776</td>\n",
       "      <td>2.256065</td>\n",
       "      <td>1.269336</td>\n",
       "      <td>1.180608</td>\n",
       "      <td>0.138091</td>\n",
       "      <td>1.818341</td>\n",
       "      <td>0.138089</td>\n",
       "      <td>0.138101</td>\n",
       "      <td>0.138078</td>\n",
       "      <td>0.138115</td>\n",
       "    </tr>\n",
       "    <tr>\n",
       "      <th>4797</th>\n",
       "      <td>0.789854</td>\n",
       "      <td>10.893857</td>\n",
       "      <td>1.865294</td>\n",
       "      <td>0.656927</td>\n",
       "      <td>0.875152</td>\n",
       "      <td>1.004326</td>\n",
       "      <td>2.142120</td>\n",
       "      <td>4.463220</td>\n",
       "      <td>1.254491</td>\n",
       "      <td>1.616117</td>\n",
       "      <td>1.502982</td>\n",
       "      <td>0.636924</td>\n",
       "      <td>0.048638</td>\n",
       "      <td>2.290256</td>\n",
       "      <td>0.048640</td>\n",
       "      <td>0.048632</td>\n",
       "      <td>0.048653</td>\n",
       "      <td>0.048625</td>\n",
       "    </tr>\n",
       "    <tr>\n",
       "      <th>4798</th>\n",
       "      <td>0.684116</td>\n",
       "      <td>6.227430</td>\n",
       "      <td>0.493053</td>\n",
       "      <td>0.453133</td>\n",
       "      <td>0.520187</td>\n",
       "      <td>0.275666</td>\n",
       "      <td>0.497865</td>\n",
       "      <td>1.290065</td>\n",
       "      <td>0.948000</td>\n",
       "      <td>1.082411</td>\n",
       "      <td>1.163004</td>\n",
       "      <td>1.122876</td>\n",
       "      <td>0.507045</td>\n",
       "      <td>1.356628</td>\n",
       "      <td>0.507065</td>\n",
       "      <td>0.507035</td>\n",
       "      <td>0.507085</td>\n",
       "      <td>0.507041</td>\n",
       "    </tr>\n",
       "    <tr>\n",
       "      <th>4799</th>\n",
       "      <td>0.574903</td>\n",
       "      <td>10.941558</td>\n",
       "      <td>1.432087</td>\n",
       "      <td>0.803444</td>\n",
       "      <td>0.658534</td>\n",
       "      <td>0.949468</td>\n",
       "      <td>1.273892</td>\n",
       "      <td>2.878678</td>\n",
       "      <td>1.261602</td>\n",
       "      <td>1.652493</td>\n",
       "      <td>1.196413</td>\n",
       "      <td>1.152199</td>\n",
       "      <td>0.004809</td>\n",
       "      <td>2.079144</td>\n",
       "      <td>0.004810</td>\n",
       "      <td>0.004807</td>\n",
       "      <td>0.004815</td>\n",
       "      <td>0.004807</td>\n",
       "    </tr>\n",
       "  </tbody>\n",
       "</table>\n",
       "<p>4800 rows × 18 columns</p>\n",
       "</div>"
      ],
      "text/plain": [
       "            0          1         2         3         4         5         6   \\\n",
       "0     0.254248   6.545859  0.546139  0.293513  0.562361  0.724280  0.571498   \n",
       "1     0.199918   5.624842  0.544036  0.216469  0.129663  0.228643  0.580037   \n",
       "2     0.608405   5.258097  0.666617  0.880784  0.963346  1.121069  0.911917   \n",
       "3     0.289697   3.872013  0.480831  0.515805  0.604685  0.186592  0.283409   \n",
       "4     0.133317   7.820529  0.197341  0.581782  1.022319  0.668022  1.196112   \n",
       "...        ...        ...       ...       ...       ...       ...       ...   \n",
       "4795  0.453511   8.311141  1.051808  0.492903  0.510629  0.383160  0.835367   \n",
       "4796  0.244946   7.348311  1.027135  0.162288  0.145737  0.662170  0.590822   \n",
       "4797  0.789854  10.893857  1.865294  0.656927  0.875152  1.004326  2.142120   \n",
       "4798  0.684116   6.227430  0.493053  0.453133  0.520187  0.275666  0.497865   \n",
       "4799  0.574903  10.941558  1.432087  0.803444  0.658534  0.949468  1.273892   \n",
       "\n",
       "            7         8         9         10        11        12        13  \\\n",
       "0     1.160213  1.146871  2.251931  1.765099  1.194056  0.267994  1.350555   \n",
       "1     1.257373  0.570109  2.621269  1.465380  1.328047  0.753309  1.827650   \n",
       "2     0.799353  1.591085  3.989105  2.727719  2.305935  0.638087  1.371152   \n",
       "3     1.269959  0.746239  2.037935  1.221797  1.273500  0.212551  0.921471   \n",
       "4     1.230391  1.454087  3.231469  2.176716  2.070929  0.188422  1.561707   \n",
       "...        ...       ...       ...       ...       ...       ...       ...   \n",
       "4795  1.488773  1.199396  0.699202  1.242690  1.186654  0.084075  1.413743   \n",
       "4796  1.556748  1.241776  2.256065  1.269336  1.180608  0.138091  1.818341   \n",
       "4797  4.463220  1.254491  1.616117  1.502982  0.636924  0.048638  2.290256   \n",
       "4798  1.290065  0.948000  1.082411  1.163004  1.122876  0.507045  1.356628   \n",
       "4799  2.878678  1.261602  1.652493  1.196413  1.152199  0.004809  2.079144   \n",
       "\n",
       "            14        15        16        17  \n",
       "0     0.267991  0.268007  0.267974  0.268028  \n",
       "1     0.753301  0.753271  0.753314  0.753321  \n",
       "2     0.638084  0.638090  0.638092  0.638151  \n",
       "3     0.212549  0.212563  0.212534  0.212581  \n",
       "4     0.188420  0.188434  0.188406  0.188451  \n",
       "...        ...       ...       ...       ...  \n",
       "4795  0.084073  0.084082  0.084066  0.084094  \n",
       "4796  0.138089  0.138101  0.138078  0.138115  \n",
       "4797  0.048640  0.048632  0.048653  0.048625  \n",
       "4798  0.507065  0.507035  0.507085  0.507041  \n",
       "4799  0.004810  0.004807  0.004815  0.004807  \n",
       "\n",
       "[4800 rows x 18 columns]"
      ]
     },
     "execution_count": 44,
     "metadata": {},
     "output_type": "execute_result"
    }
   ],
   "source": [
    "pd.DataFrame(X_test)"
   ]
  },
  {
   "cell_type": "markdown",
   "id": "5fa024f7",
   "metadata": {
    "execution": {
     "iopub.execute_input": "2023-02-07T23:47:19.876941Z",
     "iopub.status.busy": "2023-02-07T23:47:19.876424Z",
     "iopub.status.idle": "2023-02-07T23:47:20.399488Z",
     "shell.execute_reply": "2023-02-07T23:47:20.398142Z"
    },
    "papermill": {
     "duration": 0.012894,
     "end_time": "2023-03-21T06:25:23.597483",
     "exception": false,
     "start_time": "2023-03-21T06:25:23.584589",
     "status": "completed"
    },
    "tags": []
   },
   "source": [
    "**Decision Tree**"
   ]
  },
  {
   "cell_type": "code",
   "execution_count": 45,
   "id": "4f5400c9",
   "metadata": {
    "execution": {
     "iopub.execute_input": "2023-03-21T06:25:23.626863Z",
     "iopub.status.busy": "2023-03-21T06:25:23.626569Z",
     "iopub.status.idle": "2023-03-21T06:25:24.287495Z",
     "shell.execute_reply": "2023-03-21T06:25:24.286241Z"
    },
    "papermill": {
     "duration": 0.679494,
     "end_time": "2023-03-21T06:25:24.290805",
     "exception": false,
     "start_time": "2023-03-21T06:25:23.611311",
     "status": "completed"
    },
    "tags": []
   },
   "outputs": [
    {
     "data": {
      "text/html": [
       "<style>#sk-container-id-5 {color: black;background-color: white;}#sk-container-id-5 pre{padding: 0;}#sk-container-id-5 div.sk-toggleable {background-color: white;}#sk-container-id-5 label.sk-toggleable__label {cursor: pointer;display: block;width: 100%;margin-bottom: 0;padding: 0.3em;box-sizing: border-box;text-align: center;}#sk-container-id-5 label.sk-toggleable__label-arrow:before {content: \"▸\";float: left;margin-right: 0.25em;color: #696969;}#sk-container-id-5 label.sk-toggleable__label-arrow:hover:before {color: black;}#sk-container-id-5 div.sk-estimator:hover label.sk-toggleable__label-arrow:before {color: black;}#sk-container-id-5 div.sk-toggleable__content {max-height: 0;max-width: 0;overflow: hidden;text-align: left;background-color: #f0f8ff;}#sk-container-id-5 div.sk-toggleable__content pre {margin: 0.2em;color: black;border-radius: 0.25em;background-color: #f0f8ff;}#sk-container-id-5 input.sk-toggleable__control:checked~div.sk-toggleable__content {max-height: 200px;max-width: 100%;overflow: auto;}#sk-container-id-5 input.sk-toggleable__control:checked~label.sk-toggleable__label-arrow:before {content: \"▾\";}#sk-container-id-5 div.sk-estimator input.sk-toggleable__control:checked~label.sk-toggleable__label {background-color: #d4ebff;}#sk-container-id-5 div.sk-label input.sk-toggleable__control:checked~label.sk-toggleable__label {background-color: #d4ebff;}#sk-container-id-5 input.sk-hidden--visually {border: 0;clip: rect(1px 1px 1px 1px);clip: rect(1px, 1px, 1px, 1px);height: 1px;margin: -1px;overflow: hidden;padding: 0;position: absolute;width: 1px;}#sk-container-id-5 div.sk-estimator {font-family: monospace;background-color: #f0f8ff;border: 1px dotted black;border-radius: 0.25em;box-sizing: border-box;margin-bottom: 0.5em;}#sk-container-id-5 div.sk-estimator:hover {background-color: #d4ebff;}#sk-container-id-5 div.sk-parallel-item::after {content: \"\";width: 100%;border-bottom: 1px solid gray;flex-grow: 1;}#sk-container-id-5 div.sk-label:hover label.sk-toggleable__label {background-color: #d4ebff;}#sk-container-id-5 div.sk-serial::before {content: \"\";position: absolute;border-left: 1px solid gray;box-sizing: border-box;top: 0;bottom: 0;left: 50%;z-index: 0;}#sk-container-id-5 div.sk-serial {display: flex;flex-direction: column;align-items: center;background-color: white;padding-right: 0.2em;padding-left: 0.2em;position: relative;}#sk-container-id-5 div.sk-item {position: relative;z-index: 1;}#sk-container-id-5 div.sk-parallel {display: flex;align-items: stretch;justify-content: center;background-color: white;position: relative;}#sk-container-id-5 div.sk-item::before, #sk-container-id-5 div.sk-parallel-item::before {content: \"\";position: absolute;border-left: 1px solid gray;box-sizing: border-box;top: 0;bottom: 0;left: 50%;z-index: -1;}#sk-container-id-5 div.sk-parallel-item {display: flex;flex-direction: column;z-index: 1;position: relative;background-color: white;}#sk-container-id-5 div.sk-parallel-item:first-child::after {align-self: flex-end;width: 50%;}#sk-container-id-5 div.sk-parallel-item:last-child::after {align-self: flex-start;width: 50%;}#sk-container-id-5 div.sk-parallel-item:only-child::after {width: 0;}#sk-container-id-5 div.sk-dashed-wrapped {border: 1px dashed gray;margin: 0 0.4em 0.5em 0.4em;box-sizing: border-box;padding-bottom: 0.4em;background-color: white;}#sk-container-id-5 div.sk-label label {font-family: monospace;font-weight: bold;display: inline-block;line-height: 1.2em;}#sk-container-id-5 div.sk-label-container {text-align: center;}#sk-container-id-5 div.sk-container {/* jupyter's `normalize.less` sets `[hidden] { display: none; }` but bootstrap.min.css set `[hidden] { display: none !important; }` so we also need the `!important` here to be able to override the default hidden behavior on the sphinx rendered scikit-learn.org. See: https://github.com/scikit-learn/scikit-learn/issues/21755 */display: inline-block !important;position: relative;}#sk-container-id-5 div.sk-text-repr-fallback {display: none;}</style><div id=\"sk-container-id-5\" class=\"sk-top-container\"><div class=\"sk-text-repr-fallback\"><pre>DecisionTreeClassifier(random_state=42)</pre><b>In a Jupyter environment, please rerun this cell to show the HTML representation or trust the notebook. <br />On GitHub, the HTML representation is unable to render, please try loading this page with nbviewer.org.</b></div><div class=\"sk-container\" hidden><div class=\"sk-item\"><div class=\"sk-estimator sk-toggleable\"><input class=\"sk-toggleable__control sk-hidden--visually\" id=\"sk-estimator-id-5\" type=\"checkbox\" checked><label for=\"sk-estimator-id-5\" class=\"sk-toggleable__label sk-toggleable__label-arrow\">DecisionTreeClassifier</label><div class=\"sk-toggleable__content\"><pre>DecisionTreeClassifier(random_state=42)</pre></div></div></div></div></div>"
      ],
      "text/plain": [
       "DecisionTreeClassifier(random_state=42)"
      ]
     },
     "execution_count": 45,
     "metadata": {},
     "output_type": "execute_result"
    }
   ],
   "source": [
    "clf = DecisionTreeClassifier(random_state=42)\n",
    "clf.fit(X_train, y_train)"
   ]
  },
  {
   "cell_type": "code",
   "execution_count": 46,
   "id": "3b56d190",
   "metadata": {
    "execution": {
     "iopub.execute_input": "2023-03-21T06:25:24.364489Z",
     "iopub.status.busy": "2023-03-21T06:25:24.364072Z",
     "iopub.status.idle": "2023-03-21T06:25:24.521262Z",
     "shell.execute_reply": "2023-03-21T06:25:24.520003Z"
    },
    "papermill": {
     "duration": 0.197151,
     "end_time": "2023-03-21T06:25:24.524496",
     "exception": false,
     "start_time": "2023-03-21T06:25:24.327345",
     "status": "completed"
    },
    "tags": []
   },
   "outputs": [
    {
     "name": "stdout",
     "output_type": "stream",
     "text": [
      "              precision    recall  f1-score   support\n",
      "\n",
      "         rap       0.74      0.72      0.73      2400\n",
      "        rock       0.73      0.75      0.74      2400\n",
      "\n",
      "    accuracy                           0.73      4800\n",
      "   macro avg       0.74      0.73      0.73      4800\n",
      "weighted avg       0.74      0.73      0.73      4800\n",
      "\n"
     ]
    }
   ],
   "source": [
    "y_pred = clf.predict(X_test)\n",
    "print(classification_report(y_test, y_pred))"
   ]
  },
  {
   "cell_type": "code",
   "execution_count": 47,
   "id": "42bc91ff",
   "metadata": {
    "execution": {
     "iopub.execute_input": "2023-03-21T06:25:24.598086Z",
     "iopub.status.busy": "2023-03-21T06:25:24.597595Z",
     "iopub.status.idle": "2023-03-21T06:25:24.603874Z",
     "shell.execute_reply": "2023-03-21T06:25:24.603007Z"
    },
    "papermill": {
     "duration": 0.043439,
     "end_time": "2023-03-21T06:25:24.605691",
     "exception": false,
     "start_time": "2023-03-21T06:25:24.562252",
     "status": "completed"
    },
    "tags": []
   },
   "outputs": [],
   "source": [
    "pickle.dump(clf, open(f'{data_path}/decision_tree.pkl', 'wb'))"
   ]
  },
  {
   "cell_type": "code",
   "execution_count": 48,
   "id": "ea9be210",
   "metadata": {
    "execution": {
     "iopub.execute_input": "2023-03-21T06:25:24.634023Z",
     "iopub.status.busy": "2023-03-21T06:25:24.633571Z",
     "iopub.status.idle": "2023-03-21T06:25:24.776394Z",
     "shell.execute_reply": "2023-03-21T06:25:24.775479Z"
    },
    "papermill": {
     "duration": 0.160859,
     "end_time": "2023-03-21T06:25:24.779788",
     "exception": false,
     "start_time": "2023-03-21T06:25:24.618929",
     "status": "completed"
    },
    "tags": []
   },
   "outputs": [],
   "source": [
    "acc = accuracy_score(y_test, y_pred)\n",
    "pre = precision_score(y_test, y_pred, average=avg_par)\n",
    "rec = recall_score(y_test, y_pred, average=avg_par)\n",
    "f1 = f1_score(y_test, y_pred, average=avg_par)\n",
    "\n",
    "metrics_data['Shapelets']['DecisionTree'] = {'Accuracy': acc, 'Precision': pre, 'Recall': rec, 'F1': f1}"
   ]
  },
  {
   "cell_type": "markdown",
   "id": "3ca3443b",
   "metadata": {
    "papermill": {
     "duration": 0.037251,
     "end_time": "2023-03-21T06:25:24.855024",
     "exception": false,
     "start_time": "2023-03-21T06:25:24.817773",
     "status": "completed"
    },
    "tags": []
   },
   "source": [
    "**Random Forest**"
   ]
  },
  {
   "cell_type": "code",
   "execution_count": 49,
   "id": "37795e21",
   "metadata": {
    "execution": {
     "iopub.execute_input": "2023-03-21T06:25:24.886272Z",
     "iopub.status.busy": "2023-03-21T06:25:24.885964Z",
     "iopub.status.idle": "2023-03-21T06:25:32.710510Z",
     "shell.execute_reply": "2023-03-21T06:25:32.709323Z"
    },
    "papermill": {
     "duration": 7.842029,
     "end_time": "2023-03-21T06:25:32.713619",
     "exception": false,
     "start_time": "2023-03-21T06:25:24.871590",
     "status": "completed"
    },
    "tags": []
   },
   "outputs": [
    {
     "data": {
      "text/html": [
       "<style>#sk-container-id-6 {color: black;background-color: white;}#sk-container-id-6 pre{padding: 0;}#sk-container-id-6 div.sk-toggleable {background-color: white;}#sk-container-id-6 label.sk-toggleable__label {cursor: pointer;display: block;width: 100%;margin-bottom: 0;padding: 0.3em;box-sizing: border-box;text-align: center;}#sk-container-id-6 label.sk-toggleable__label-arrow:before {content: \"▸\";float: left;margin-right: 0.25em;color: #696969;}#sk-container-id-6 label.sk-toggleable__label-arrow:hover:before {color: black;}#sk-container-id-6 div.sk-estimator:hover label.sk-toggleable__label-arrow:before {color: black;}#sk-container-id-6 div.sk-toggleable__content {max-height: 0;max-width: 0;overflow: hidden;text-align: left;background-color: #f0f8ff;}#sk-container-id-6 div.sk-toggleable__content pre {margin: 0.2em;color: black;border-radius: 0.25em;background-color: #f0f8ff;}#sk-container-id-6 input.sk-toggleable__control:checked~div.sk-toggleable__content {max-height: 200px;max-width: 100%;overflow: auto;}#sk-container-id-6 input.sk-toggleable__control:checked~label.sk-toggleable__label-arrow:before {content: \"▾\";}#sk-container-id-6 div.sk-estimator input.sk-toggleable__control:checked~label.sk-toggleable__label {background-color: #d4ebff;}#sk-container-id-6 div.sk-label input.sk-toggleable__control:checked~label.sk-toggleable__label {background-color: #d4ebff;}#sk-container-id-6 input.sk-hidden--visually {border: 0;clip: rect(1px 1px 1px 1px);clip: rect(1px, 1px, 1px, 1px);height: 1px;margin: -1px;overflow: hidden;padding: 0;position: absolute;width: 1px;}#sk-container-id-6 div.sk-estimator {font-family: monospace;background-color: #f0f8ff;border: 1px dotted black;border-radius: 0.25em;box-sizing: border-box;margin-bottom: 0.5em;}#sk-container-id-6 div.sk-estimator:hover {background-color: #d4ebff;}#sk-container-id-6 div.sk-parallel-item::after {content: \"\";width: 100%;border-bottom: 1px solid gray;flex-grow: 1;}#sk-container-id-6 div.sk-label:hover label.sk-toggleable__label {background-color: #d4ebff;}#sk-container-id-6 div.sk-serial::before {content: \"\";position: absolute;border-left: 1px solid gray;box-sizing: border-box;top: 0;bottom: 0;left: 50%;z-index: 0;}#sk-container-id-6 div.sk-serial {display: flex;flex-direction: column;align-items: center;background-color: white;padding-right: 0.2em;padding-left: 0.2em;position: relative;}#sk-container-id-6 div.sk-item {position: relative;z-index: 1;}#sk-container-id-6 div.sk-parallel {display: flex;align-items: stretch;justify-content: center;background-color: white;position: relative;}#sk-container-id-6 div.sk-item::before, #sk-container-id-6 div.sk-parallel-item::before {content: \"\";position: absolute;border-left: 1px solid gray;box-sizing: border-box;top: 0;bottom: 0;left: 50%;z-index: -1;}#sk-container-id-6 div.sk-parallel-item {display: flex;flex-direction: column;z-index: 1;position: relative;background-color: white;}#sk-container-id-6 div.sk-parallel-item:first-child::after {align-self: flex-end;width: 50%;}#sk-container-id-6 div.sk-parallel-item:last-child::after {align-self: flex-start;width: 50%;}#sk-container-id-6 div.sk-parallel-item:only-child::after {width: 0;}#sk-container-id-6 div.sk-dashed-wrapped {border: 1px dashed gray;margin: 0 0.4em 0.5em 0.4em;box-sizing: border-box;padding-bottom: 0.4em;background-color: white;}#sk-container-id-6 div.sk-label label {font-family: monospace;font-weight: bold;display: inline-block;line-height: 1.2em;}#sk-container-id-6 div.sk-label-container {text-align: center;}#sk-container-id-6 div.sk-container {/* jupyter's `normalize.less` sets `[hidden] { display: none; }` but bootstrap.min.css set `[hidden] { display: none !important; }` so we also need the `!important` here to be able to override the default hidden behavior on the sphinx rendered scikit-learn.org. See: https://github.com/scikit-learn/scikit-learn/issues/21755 */display: inline-block !important;position: relative;}#sk-container-id-6 div.sk-text-repr-fallback {display: none;}</style><div id=\"sk-container-id-6\" class=\"sk-top-container\"><div class=\"sk-text-repr-fallback\"><pre>RandomForestClassifier(random_state=42)</pre><b>In a Jupyter environment, please rerun this cell to show the HTML representation or trust the notebook. <br />On GitHub, the HTML representation is unable to render, please try loading this page with nbviewer.org.</b></div><div class=\"sk-container\" hidden><div class=\"sk-item\"><div class=\"sk-estimator sk-toggleable\"><input class=\"sk-toggleable__control sk-hidden--visually\" id=\"sk-estimator-id-6\" type=\"checkbox\" checked><label for=\"sk-estimator-id-6\" class=\"sk-toggleable__label sk-toggleable__label-arrow\">RandomForestClassifier</label><div class=\"sk-toggleable__content\"><pre>RandomForestClassifier(random_state=42)</pre></div></div></div></div></div>"
      ],
      "text/plain": [
       "RandomForestClassifier(random_state=42)"
      ]
     },
     "execution_count": 49,
     "metadata": {},
     "output_type": "execute_result"
    }
   ],
   "source": [
    "clf = RandomForestClassifier(random_state=42)\n",
    "clf.fit(X_train, y_train)"
   ]
  },
  {
   "cell_type": "code",
   "execution_count": 50,
   "id": "581ab90a",
   "metadata": {
    "execution": {
     "iopub.execute_input": "2023-03-21T06:25:32.790826Z",
     "iopub.status.busy": "2023-03-21T06:25:32.790538Z",
     "iopub.status.idle": "2023-03-21T06:25:33.006686Z",
     "shell.execute_reply": "2023-03-21T06:25:33.005442Z"
    },
    "papermill": {
     "duration": 0.258406,
     "end_time": "2023-03-21T06:25:33.009791",
     "exception": false,
     "start_time": "2023-03-21T06:25:32.751385",
     "status": "completed"
    },
    "tags": []
   },
   "outputs": [
    {
     "name": "stdout",
     "output_type": "stream",
     "text": [
      "              precision    recall  f1-score   support\n",
      "\n",
      "         rap       0.83      0.80      0.81      2400\n",
      "        rock       0.80      0.84      0.82      2400\n",
      "\n",
      "    accuracy                           0.82      4800\n",
      "   macro avg       0.82      0.82      0.82      4800\n",
      "weighted avg       0.82      0.82      0.82      4800\n",
      "\n"
     ]
    }
   ],
   "source": [
    "y_pred = clf.predict(X_test)\n",
    "print(classification_report(y_test, y_pred))"
   ]
  },
  {
   "cell_type": "code",
   "execution_count": 51,
   "id": "faf1d7f4",
   "metadata": {
    "execution": {
     "iopub.execute_input": "2023-03-21T06:25:33.087232Z",
     "iopub.status.busy": "2023-03-21T06:25:33.086947Z",
     "iopub.status.idle": "2023-03-21T06:25:33.197970Z",
     "shell.execute_reply": "2023-03-21T06:25:33.197093Z"
    },
    "papermill": {
     "duration": 0.1533,
     "end_time": "2023-03-21T06:25:33.201131",
     "exception": false,
     "start_time": "2023-03-21T06:25:33.047831",
     "status": "completed"
    },
    "tags": []
   },
   "outputs": [],
   "source": [
    "acc = accuracy_score(y_test, y_pred)\n",
    "pre = precision_score(y_test, y_pred, average=avg_par)\n",
    "rec = recall_score(y_test, y_pred, average=avg_par)\n",
    "f1 = f1_score(y_test, y_pred, average=avg_par)\n",
    "\n",
    "metrics_data['Shapelets']['RandomForest'] = {'Accuracy': acc, 'Precision': pre, 'Recall': rec, 'F1': f1}"
   ]
  },
  {
   "cell_type": "markdown",
   "id": "61fceefb",
   "metadata": {
    "papermill": {
     "duration": 0.038094,
     "end_time": "2023-03-21T06:25:33.277735",
     "exception": false,
     "start_time": "2023-03-21T06:25:33.239641",
     "status": "completed"
    },
    "tags": []
   },
   "source": [
    "**LightGBM**"
   ]
  },
  {
   "cell_type": "code",
   "execution_count": 52,
   "id": "194189da",
   "metadata": {
    "execution": {
     "iopub.execute_input": "2023-03-21T06:25:33.307156Z",
     "iopub.status.busy": "2023-03-21T06:25:33.306846Z",
     "iopub.status.idle": "2023-03-21T06:25:33.601048Z",
     "shell.execute_reply": "2023-03-21T06:25:33.600174Z"
    },
    "papermill": {
     "duration": 0.310414,
     "end_time": "2023-03-21T06:25:33.602677",
     "exception": false,
     "start_time": "2023-03-21T06:25:33.292263",
     "status": "completed"
    },
    "tags": []
   },
   "outputs": [
    {
     "data": {
      "text/html": [
       "<style>#sk-container-id-7 {color: black;background-color: white;}#sk-container-id-7 pre{padding: 0;}#sk-container-id-7 div.sk-toggleable {background-color: white;}#sk-container-id-7 label.sk-toggleable__label {cursor: pointer;display: block;width: 100%;margin-bottom: 0;padding: 0.3em;box-sizing: border-box;text-align: center;}#sk-container-id-7 label.sk-toggleable__label-arrow:before {content: \"▸\";float: left;margin-right: 0.25em;color: #696969;}#sk-container-id-7 label.sk-toggleable__label-arrow:hover:before {color: black;}#sk-container-id-7 div.sk-estimator:hover label.sk-toggleable__label-arrow:before {color: black;}#sk-container-id-7 div.sk-toggleable__content {max-height: 0;max-width: 0;overflow: hidden;text-align: left;background-color: #f0f8ff;}#sk-container-id-7 div.sk-toggleable__content pre {margin: 0.2em;color: black;border-radius: 0.25em;background-color: #f0f8ff;}#sk-container-id-7 input.sk-toggleable__control:checked~div.sk-toggleable__content {max-height: 200px;max-width: 100%;overflow: auto;}#sk-container-id-7 input.sk-toggleable__control:checked~label.sk-toggleable__label-arrow:before {content: \"▾\";}#sk-container-id-7 div.sk-estimator input.sk-toggleable__control:checked~label.sk-toggleable__label {background-color: #d4ebff;}#sk-container-id-7 div.sk-label input.sk-toggleable__control:checked~label.sk-toggleable__label {background-color: #d4ebff;}#sk-container-id-7 input.sk-hidden--visually {border: 0;clip: rect(1px 1px 1px 1px);clip: rect(1px, 1px, 1px, 1px);height: 1px;margin: -1px;overflow: hidden;padding: 0;position: absolute;width: 1px;}#sk-container-id-7 div.sk-estimator {font-family: monospace;background-color: #f0f8ff;border: 1px dotted black;border-radius: 0.25em;box-sizing: border-box;margin-bottom: 0.5em;}#sk-container-id-7 div.sk-estimator:hover {background-color: #d4ebff;}#sk-container-id-7 div.sk-parallel-item::after {content: \"\";width: 100%;border-bottom: 1px solid gray;flex-grow: 1;}#sk-container-id-7 div.sk-label:hover label.sk-toggleable__label {background-color: #d4ebff;}#sk-container-id-7 div.sk-serial::before {content: \"\";position: absolute;border-left: 1px solid gray;box-sizing: border-box;top: 0;bottom: 0;left: 50%;z-index: 0;}#sk-container-id-7 div.sk-serial {display: flex;flex-direction: column;align-items: center;background-color: white;padding-right: 0.2em;padding-left: 0.2em;position: relative;}#sk-container-id-7 div.sk-item {position: relative;z-index: 1;}#sk-container-id-7 div.sk-parallel {display: flex;align-items: stretch;justify-content: center;background-color: white;position: relative;}#sk-container-id-7 div.sk-item::before, #sk-container-id-7 div.sk-parallel-item::before {content: \"\";position: absolute;border-left: 1px solid gray;box-sizing: border-box;top: 0;bottom: 0;left: 50%;z-index: -1;}#sk-container-id-7 div.sk-parallel-item {display: flex;flex-direction: column;z-index: 1;position: relative;background-color: white;}#sk-container-id-7 div.sk-parallel-item:first-child::after {align-self: flex-end;width: 50%;}#sk-container-id-7 div.sk-parallel-item:last-child::after {align-self: flex-start;width: 50%;}#sk-container-id-7 div.sk-parallel-item:only-child::after {width: 0;}#sk-container-id-7 div.sk-dashed-wrapped {border: 1px dashed gray;margin: 0 0.4em 0.5em 0.4em;box-sizing: border-box;padding-bottom: 0.4em;background-color: white;}#sk-container-id-7 div.sk-label label {font-family: monospace;font-weight: bold;display: inline-block;line-height: 1.2em;}#sk-container-id-7 div.sk-label-container {text-align: center;}#sk-container-id-7 div.sk-container {/* jupyter's `normalize.less` sets `[hidden] { display: none; }` but bootstrap.min.css set `[hidden] { display: none !important; }` so we also need the `!important` here to be able to override the default hidden behavior on the sphinx rendered scikit-learn.org. See: https://github.com/scikit-learn/scikit-learn/issues/21755 */display: inline-block !important;position: relative;}#sk-container-id-7 div.sk-text-repr-fallback {display: none;}</style><div id=\"sk-container-id-7\" class=\"sk-top-container\"><div class=\"sk-text-repr-fallback\"><pre>LGBMClassifier(objective=&#x27;binary&#x27;)</pre><b>In a Jupyter environment, please rerun this cell to show the HTML representation or trust the notebook. <br />On GitHub, the HTML representation is unable to render, please try loading this page with nbviewer.org.</b></div><div class=\"sk-container\" hidden><div class=\"sk-item\"><div class=\"sk-estimator sk-toggleable\"><input class=\"sk-toggleable__control sk-hidden--visually\" id=\"sk-estimator-id-7\" type=\"checkbox\" checked><label for=\"sk-estimator-id-7\" class=\"sk-toggleable__label sk-toggleable__label-arrow\">LGBMClassifier</label><div class=\"sk-toggleable__content\"><pre>LGBMClassifier(objective=&#x27;binary&#x27;)</pre></div></div></div></div></div>"
      ],
      "text/plain": [
       "LGBMClassifier(objective='binary')"
      ]
     },
     "execution_count": 52,
     "metadata": {},
     "output_type": "execute_result"
    }
   ],
   "source": [
    "clf = lgbm.LGBMClassifier(objective=obj_par) \n",
    "clf.fit(X_train, y_train)"
   ]
  },
  {
   "cell_type": "code",
   "execution_count": 53,
   "id": "355a078b",
   "metadata": {
    "execution": {
     "iopub.execute_input": "2023-03-21T06:25:33.633952Z",
     "iopub.status.busy": "2023-03-21T06:25:33.633123Z",
     "iopub.status.idle": "2023-03-21T06:25:33.771185Z",
     "shell.execute_reply": "2023-03-21T06:25:33.770016Z"
    },
    "papermill": {
     "duration": 0.156668,
     "end_time": "2023-03-21T06:25:33.773971",
     "exception": false,
     "start_time": "2023-03-21T06:25:33.617303",
     "status": "completed"
    },
    "tags": []
   },
   "outputs": [
    {
     "name": "stdout",
     "output_type": "stream",
     "text": [
      "              precision    recall  f1-score   support\n",
      "\n",
      "         rap       0.83      0.80      0.81      2400\n",
      "        rock       0.81      0.83      0.82      2400\n",
      "\n",
      "    accuracy                           0.82      4800\n",
      "   macro avg       0.82      0.82      0.82      4800\n",
      "weighted avg       0.82      0.82      0.82      4800\n",
      "\n"
     ]
    }
   ],
   "source": [
    "y_pred = clf.predict(X_test)\n",
    "print(classification_report(y_test, y_pred))"
   ]
  },
  {
   "cell_type": "code",
   "execution_count": 54,
   "id": "f22b911e",
   "metadata": {
    "execution": {
     "iopub.execute_input": "2023-03-21T06:25:33.853351Z",
     "iopub.status.busy": "2023-03-21T06:25:33.852892Z",
     "iopub.status.idle": "2023-03-21T06:25:33.950073Z",
     "shell.execute_reply": "2023-03-21T06:25:33.949291Z"
    },
    "papermill": {
     "duration": 0.139637,
     "end_time": "2023-03-21T06:25:33.952953",
     "exception": false,
     "start_time": "2023-03-21T06:25:33.813316",
     "status": "completed"
    },
    "tags": []
   },
   "outputs": [],
   "source": [
    "acc = accuracy_score(y_test, y_pred)\n",
    "pre = precision_score(y_test, y_pred, average=avg_par)\n",
    "rec = recall_score(y_test, y_pred, average=avg_par)\n",
    "f1 = f1_score(y_test, y_pred, average=avg_par)\n",
    "\n",
    "metrics_data['Shapelets']['LightGBM'] = {'Accuracy': acc, 'Precision': pre, 'Recall': rec, 'F1': f1}"
   ]
  },
  {
   "cell_type": "markdown",
   "id": "0809af9f",
   "metadata": {
    "papermill": {
     "duration": 0.034656,
     "end_time": "2023-03-21T06:25:34.024223",
     "exception": false,
     "start_time": "2023-03-21T06:25:33.989567",
     "status": "completed"
    },
    "tags": []
   },
   "source": [
    "#### KNN"
   ]
  },
  {
   "cell_type": "code",
   "execution_count": 55,
   "id": "1c9237e0",
   "metadata": {
    "execution": {
     "iopub.execute_input": "2023-03-21T06:25:34.055859Z",
     "iopub.status.busy": "2023-03-21T06:25:34.055396Z",
     "iopub.status.idle": "2023-03-21T06:25:34.060801Z",
     "shell.execute_reply": "2023-03-21T06:25:34.059951Z"
    },
    "papermill": {
     "duration": 0.022414,
     "end_time": "2023-03-21T06:25:34.062612",
     "exception": false,
     "start_time": "2023-03-21T06:25:34.040198",
     "status": "completed"
    },
    "tags": []
   },
   "outputs": [],
   "source": [
    "X_train = ts_train.reshape((ts_train.shape[0], ts_train.shape[1]))\n",
    "X_test = ts_test.reshape((ts_test.shape[0], ts_test.shape[1]))"
   ]
  },
  {
   "cell_type": "code",
   "execution_count": 56,
   "id": "192f3c3f",
   "metadata": {
    "execution": {
     "iopub.execute_input": "2023-03-21T06:25:34.092437Z",
     "iopub.status.busy": "2023-03-21T06:25:34.091979Z",
     "iopub.status.idle": "2023-03-21T06:25:34.098521Z",
     "shell.execute_reply": "2023-03-21T06:25:34.097696Z"
    },
    "papermill": {
     "duration": 0.023342,
     "end_time": "2023-03-21T06:25:34.100138",
     "exception": false,
     "start_time": "2023-03-21T06:25:34.076796",
     "status": "completed"
    },
    "tags": []
   },
   "outputs": [
    {
     "data": {
      "text/plain": [
       "(19200, 100)"
      ]
     },
     "execution_count": 56,
     "metadata": {},
     "output_type": "execute_result"
    }
   ],
   "source": [
    "X_train.shape"
   ]
  },
  {
   "cell_type": "code",
   "execution_count": 57,
   "id": "de0e5000",
   "metadata": {
    "execution": {
     "iopub.execute_input": "2023-03-21T06:25:34.130816Z",
     "iopub.status.busy": "2023-03-21T06:25:34.129911Z",
     "iopub.status.idle": "2023-03-21T06:25:34.134806Z",
     "shell.execute_reply": "2023-03-21T06:25:34.133905Z"
    },
    "papermill": {
     "duration": 0.022566,
     "end_time": "2023-03-21T06:25:34.136778",
     "exception": false,
     "start_time": "2023-03-21T06:25:34.114212",
     "status": "completed"
    },
    "tags": []
   },
   "outputs": [],
   "source": [
    "metrics_data['KNN'] = {}"
   ]
  },
  {
   "cell_type": "markdown",
   "id": "8ee39c05",
   "metadata": {
    "papermill": {
     "duration": 0.014061,
     "end_time": "2023-03-21T06:25:34.164790",
     "exception": false,
     "start_time": "2023-03-21T06:25:34.150729",
     "status": "completed"
    },
    "tags": []
   },
   "source": [
    "**Euclidean Distance**"
   ]
  },
  {
   "cell_type": "code",
   "execution_count": 58,
   "id": "55db1f58",
   "metadata": {
    "execution": {
     "iopub.execute_input": "2023-03-21T06:25:34.196227Z",
     "iopub.status.busy": "2023-03-21T06:25:34.195759Z",
     "iopub.status.idle": "2023-03-21T06:25:34.200639Z",
     "shell.execute_reply": "2023-03-21T06:25:34.199724Z"
    },
    "papermill": {
     "duration": 0.023577,
     "end_time": "2023-03-21T06:25:34.202779",
     "exception": false,
     "start_time": "2023-03-21T06:25:34.179202",
     "status": "completed"
    },
    "tags": []
   },
   "outputs": [],
   "source": [
    "from sklearn.neighbors import KNeighborsClassifier"
   ]
  },
  {
   "cell_type": "code",
   "execution_count": 59,
   "id": "132c2537",
   "metadata": {
    "execution": {
     "iopub.execute_input": "2023-03-21T06:25:34.233848Z",
     "iopub.status.busy": "2023-03-21T06:25:34.233384Z",
     "iopub.status.idle": "2023-03-21T06:25:34.285504Z",
     "shell.execute_reply": "2023-03-21T06:25:34.284322Z"
    },
    "papermill": {
     "duration": 0.070407,
     "end_time": "2023-03-21T06:25:34.287972",
     "exception": false,
     "start_time": "2023-03-21T06:25:34.217565",
     "status": "completed"
    },
    "tags": []
   },
   "outputs": [
    {
     "data": {
      "text/html": [
       "<style>#sk-container-id-8 {color: black;background-color: white;}#sk-container-id-8 pre{padding: 0;}#sk-container-id-8 div.sk-toggleable {background-color: white;}#sk-container-id-8 label.sk-toggleable__label {cursor: pointer;display: block;width: 100%;margin-bottom: 0;padding: 0.3em;box-sizing: border-box;text-align: center;}#sk-container-id-8 label.sk-toggleable__label-arrow:before {content: \"▸\";float: left;margin-right: 0.25em;color: #696969;}#sk-container-id-8 label.sk-toggleable__label-arrow:hover:before {color: black;}#sk-container-id-8 div.sk-estimator:hover label.sk-toggleable__label-arrow:before {color: black;}#sk-container-id-8 div.sk-toggleable__content {max-height: 0;max-width: 0;overflow: hidden;text-align: left;background-color: #f0f8ff;}#sk-container-id-8 div.sk-toggleable__content pre {margin: 0.2em;color: black;border-radius: 0.25em;background-color: #f0f8ff;}#sk-container-id-8 input.sk-toggleable__control:checked~div.sk-toggleable__content {max-height: 200px;max-width: 100%;overflow: auto;}#sk-container-id-8 input.sk-toggleable__control:checked~label.sk-toggleable__label-arrow:before {content: \"▾\";}#sk-container-id-8 div.sk-estimator input.sk-toggleable__control:checked~label.sk-toggleable__label {background-color: #d4ebff;}#sk-container-id-8 div.sk-label input.sk-toggleable__control:checked~label.sk-toggleable__label {background-color: #d4ebff;}#sk-container-id-8 input.sk-hidden--visually {border: 0;clip: rect(1px 1px 1px 1px);clip: rect(1px, 1px, 1px, 1px);height: 1px;margin: -1px;overflow: hidden;padding: 0;position: absolute;width: 1px;}#sk-container-id-8 div.sk-estimator {font-family: monospace;background-color: #f0f8ff;border: 1px dotted black;border-radius: 0.25em;box-sizing: border-box;margin-bottom: 0.5em;}#sk-container-id-8 div.sk-estimator:hover {background-color: #d4ebff;}#sk-container-id-8 div.sk-parallel-item::after {content: \"\";width: 100%;border-bottom: 1px solid gray;flex-grow: 1;}#sk-container-id-8 div.sk-label:hover label.sk-toggleable__label {background-color: #d4ebff;}#sk-container-id-8 div.sk-serial::before {content: \"\";position: absolute;border-left: 1px solid gray;box-sizing: border-box;top: 0;bottom: 0;left: 50%;z-index: 0;}#sk-container-id-8 div.sk-serial {display: flex;flex-direction: column;align-items: center;background-color: white;padding-right: 0.2em;padding-left: 0.2em;position: relative;}#sk-container-id-8 div.sk-item {position: relative;z-index: 1;}#sk-container-id-8 div.sk-parallel {display: flex;align-items: stretch;justify-content: center;background-color: white;position: relative;}#sk-container-id-8 div.sk-item::before, #sk-container-id-8 div.sk-parallel-item::before {content: \"\";position: absolute;border-left: 1px solid gray;box-sizing: border-box;top: 0;bottom: 0;left: 50%;z-index: -1;}#sk-container-id-8 div.sk-parallel-item {display: flex;flex-direction: column;z-index: 1;position: relative;background-color: white;}#sk-container-id-8 div.sk-parallel-item:first-child::after {align-self: flex-end;width: 50%;}#sk-container-id-8 div.sk-parallel-item:last-child::after {align-self: flex-start;width: 50%;}#sk-container-id-8 div.sk-parallel-item:only-child::after {width: 0;}#sk-container-id-8 div.sk-dashed-wrapped {border: 1px dashed gray;margin: 0 0.4em 0.5em 0.4em;box-sizing: border-box;padding-bottom: 0.4em;background-color: white;}#sk-container-id-8 div.sk-label label {font-family: monospace;font-weight: bold;display: inline-block;line-height: 1.2em;}#sk-container-id-8 div.sk-label-container {text-align: center;}#sk-container-id-8 div.sk-container {/* jupyter's `normalize.less` sets `[hidden] { display: none; }` but bootstrap.min.css set `[hidden] { display: none !important; }` so we also need the `!important` here to be able to override the default hidden behavior on the sphinx rendered scikit-learn.org. See: https://github.com/scikit-learn/scikit-learn/issues/21755 */display: inline-block !important;position: relative;}#sk-container-id-8 div.sk-text-repr-fallback {display: none;}</style><div id=\"sk-container-id-8\" class=\"sk-top-container\"><div class=\"sk-text-repr-fallback\"><pre>KNeighborsClassifier()</pre><b>In a Jupyter environment, please rerun this cell to show the HTML representation or trust the notebook. <br />On GitHub, the HTML representation is unable to render, please try loading this page with nbviewer.org.</b></div><div class=\"sk-container\" hidden><div class=\"sk-item\"><div class=\"sk-estimator sk-toggleable\"><input class=\"sk-toggleable__control sk-hidden--visually\" id=\"sk-estimator-id-8\" type=\"checkbox\" checked><label for=\"sk-estimator-id-8\" class=\"sk-toggleable__label sk-toggleable__label-arrow\">KNeighborsClassifier</label><div class=\"sk-toggleable__content\"><pre>KNeighborsClassifier()</pre></div></div></div></div></div>"
      ],
      "text/plain": [
       "KNeighborsClassifier()"
      ]
     },
     "execution_count": 59,
     "metadata": {},
     "output_type": "execute_result"
    }
   ],
   "source": [
    "clf = KNeighborsClassifier(n_neighbors=5, weights='uniform')\n",
    "clf.fit(X_train, y_train)"
   ]
  },
  {
   "cell_type": "code",
   "execution_count": 60,
   "id": "0afad62a",
   "metadata": {
    "execution": {
     "iopub.execute_input": "2023-03-21T06:25:34.319372Z",
     "iopub.status.busy": "2023-03-21T06:25:34.318894Z",
     "iopub.status.idle": "2023-03-21T06:25:35.426156Z",
     "shell.execute_reply": "2023-03-21T06:25:35.424961Z"
    },
    "papermill": {
     "duration": 1.125265,
     "end_time": "2023-03-21T06:25:35.428939",
     "exception": false,
     "start_time": "2023-03-21T06:25:34.303674",
     "status": "completed"
    },
    "tags": []
   },
   "outputs": [
    {
     "name": "stdout",
     "output_type": "stream",
     "text": [
      "              precision    recall  f1-score   support\n",
      "\n",
      "         rap       0.77      0.13      0.23      2400\n",
      "        rock       0.53      0.96      0.68      2400\n",
      "\n",
      "    accuracy                           0.55      4800\n",
      "   macro avg       0.65      0.55      0.45      4800\n",
      "weighted avg       0.65      0.55      0.45      4800\n",
      "\n"
     ]
    }
   ],
   "source": [
    "y_pred = clf.predict(X_test)\n",
    "print(classification_report(y_test, y_pred))"
   ]
  },
  {
   "cell_type": "code",
   "execution_count": 61,
   "id": "2d709070",
   "metadata": {
    "execution": {
     "iopub.execute_input": "2023-03-21T06:25:35.507917Z",
     "iopub.status.busy": "2023-03-21T06:25:35.507046Z",
     "iopub.status.idle": "2023-03-21T06:25:35.599452Z",
     "shell.execute_reply": "2023-03-21T06:25:35.598503Z"
    },
    "papermill": {
     "duration": 0.137135,
     "end_time": "2023-03-21T06:25:35.602620",
     "exception": false,
     "start_time": "2023-03-21T06:25:35.465485",
     "status": "completed"
    },
    "tags": []
   },
   "outputs": [],
   "source": [
    "acc = accuracy_score(y_test, y_pred)\n",
    "pre = precision_score(y_test, y_pred, average=avg_par)\n",
    "rec = recall_score(y_test, y_pred, average=avg_par)\n",
    "f1 = f1_score(y_test, y_pred, average=avg_par)\n",
    "\n",
    "metrics_data['KNN']['Euclidean'] = {'Accuracy': acc, 'Precision': pre, 'Recall': rec, 'F1': f1}"
   ]
  },
  {
   "cell_type": "markdown",
   "id": "c5ec2a09",
   "metadata": {
    "papermill": {
     "duration": 0.038597,
     "end_time": "2023-03-21T06:25:35.680734",
     "exception": false,
     "start_time": "2023-03-21T06:25:35.642137",
     "status": "completed"
    },
    "tags": []
   },
   "source": [
    "**Dynamic Time Warping**"
   ]
  },
  {
   "cell_type": "code",
   "execution_count": 62,
   "id": "2df913d8",
   "metadata": {
    "execution": {
     "iopub.execute_input": "2023-03-21T06:25:35.711050Z",
     "iopub.status.busy": "2023-03-21T06:25:35.710389Z",
     "iopub.status.idle": "2023-03-21T06:25:35.796278Z",
     "shell.execute_reply": "2023-03-21T06:25:35.795477Z"
    },
    "papermill": {
     "duration": 0.104529,
     "end_time": "2023-03-21T06:25:35.799369",
     "exception": false,
     "start_time": "2023-03-21T06:25:35.694840",
     "status": "completed"
    },
    "tags": []
   },
   "outputs": [],
   "source": [
    "from pyts.classification import KNeighborsClassifier\n",
    "from pyts.approximation import PiecewiseAggregateApproximation\n",
    "from imblearn.under_sampling import ClusterCentroids\n",
    "from sklearn_extra.cluster import KMedoids"
   ]
  },
  {
   "cell_type": "code",
   "execution_count": 63,
   "id": "db1604ec",
   "metadata": {
    "execution": {
     "iopub.execute_input": "2023-03-21T06:25:35.832433Z",
     "iopub.status.busy": "2023-03-21T06:25:35.831741Z",
     "iopub.status.idle": "2023-03-21T06:25:36.308005Z",
     "shell.execute_reply": "2023-03-21T06:25:36.306983Z"
    },
    "papermill": {
     "duration": 0.494477,
     "end_time": "2023-03-21T06:25:36.310947",
     "exception": false,
     "start_time": "2023-03-21T06:25:35.816470",
     "status": "completed"
    },
    "tags": []
   },
   "outputs": [],
   "source": [
    "if paa_window_size:\n",
    "    paa = PiecewiseAggregateApproximation(window_size=paa_window_size)\n",
    "    X_train = paa.transform(X_train)\n",
    "    X_test = paa.transform(X_test)\n",
    "    X_train.shape"
   ]
  },
  {
   "cell_type": "code",
   "execution_count": 64,
   "id": "59fa27aa",
   "metadata": {
    "execution": {
     "iopub.execute_input": "2023-03-21T06:25:36.390246Z",
     "iopub.status.busy": "2023-03-21T06:25:36.389887Z",
     "iopub.status.idle": "2023-03-21T06:26:00.552310Z",
     "shell.execute_reply": "2023-03-21T06:26:00.551717Z"
    },
    "papermill": {
     "duration": 24.202923,
     "end_time": "2023-03-21T06:26:00.554101",
     "exception": false,
     "start_time": "2023-03-21T06:25:36.351178",
     "status": "completed"
    },
    "tags": []
   },
   "outputs": [
    {
     "name": "stdout",
     "output_type": "stream",
     "text": [
      "{'rap': 2880, 'rock': 2880}\n"
     ]
    },
    {
     "name": "stderr",
     "output_type": "stream",
     "text": [
      "/home/mattiapggioli/lyrics2ts/.venv/lib/python3.9/site-packages/sklearn_extra/cluster/_k_medoids.py:275: UserWarning: Cluster 492 is empty! self.labels_[self.medoid_indices_[492]] may not be labeled with its corresponding cluster (492).\n",
      "  warnings.warn(\n",
      "/home/mattiapggioli/lyrics2ts/.venv/lib/python3.9/site-packages/sklearn_extra/cluster/_k_medoids.py:275: UserWarning: Cluster 684 is empty! self.labels_[self.medoid_indices_[684]] may not be labeled with its corresponding cluster (684).\n",
      "  warnings.warn(\n",
      "/home/mattiapggioli/lyrics2ts/.venv/lib/python3.9/site-packages/sklearn_extra/cluster/_k_medoids.py:275: UserWarning: Cluster 1022 is empty! self.labels_[self.medoid_indices_[1022]] may not be labeled with its corresponding cluster (1022).\n",
      "  warnings.warn(\n",
      "/home/mattiapggioli/lyrics2ts/.venv/lib/python3.9/site-packages/sklearn_extra/cluster/_k_medoids.py:275: UserWarning: Cluster 1190 is empty! self.labels_[self.medoid_indices_[1190]] may not be labeled with its corresponding cluster (1190).\n",
      "  warnings.warn(\n",
      "/home/mattiapggioli/lyrics2ts/.venv/lib/python3.9/site-packages/sklearn_extra/cluster/_k_medoids.py:275: UserWarning: Cluster 1588 is empty! self.labels_[self.medoid_indices_[1588]] may not be labeled with its corresponding cluster (1588).\n",
      "  warnings.warn(\n",
      "/home/mattiapggioli/lyrics2ts/.venv/lib/python3.9/site-packages/sklearn_extra/cluster/_k_medoids.py:275: UserWarning: Cluster 1869 is empty! self.labels_[self.medoid_indices_[1869]] may not be labeled with its corresponding cluster (1869).\n",
      "  warnings.warn(\n",
      "/home/mattiapggioli/lyrics2ts/.venv/lib/python3.9/site-packages/sklearn_extra/cluster/_k_medoids.py:275: UserWarning: Cluster 2006 is empty! self.labels_[self.medoid_indices_[2006]] may not be labeled with its corresponding cluster (2006).\n",
      "  warnings.warn(\n",
      "/home/mattiapggioli/lyrics2ts/.venv/lib/python3.9/site-packages/sklearn_extra/cluster/_k_medoids.py:275: UserWarning: Cluster 2099 is empty! self.labels_[self.medoid_indices_[2099]] may not be labeled with its corresponding cluster (2099).\n",
      "  warnings.warn(\n",
      "/home/mattiapggioli/lyrics2ts/.venv/lib/python3.9/site-packages/sklearn_extra/cluster/_k_medoids.py:275: UserWarning: Cluster 2167 is empty! self.labels_[self.medoid_indices_[2167]] may not be labeled with its corresponding cluster (2167).\n",
      "  warnings.warn(\n",
      "/home/mattiapggioli/lyrics2ts/.venv/lib/python3.9/site-packages/sklearn_extra/cluster/_k_medoids.py:275: UserWarning: Cluster 2194 is empty! self.labels_[self.medoid_indices_[2194]] may not be labeled with its corresponding cluster (2194).\n",
      "  warnings.warn(\n",
      "/home/mattiapggioli/lyrics2ts/.venv/lib/python3.9/site-packages/sklearn_extra/cluster/_k_medoids.py:275: UserWarning: Cluster 2206 is empty! self.labels_[self.medoid_indices_[2206]] may not be labeled with its corresponding cluster (2206).\n",
      "  warnings.warn(\n",
      "/home/mattiapggioli/lyrics2ts/.venv/lib/python3.9/site-packages/sklearn_extra/cluster/_k_medoids.py:275: UserWarning: Cluster 2383 is empty! self.labels_[self.medoid_indices_[2383]] may not be labeled with its corresponding cluster (2383).\n",
      "  warnings.warn(\n"
     ]
    },
    {
     "name": "stderr",
     "output_type": "stream",
     "text": [
      "/home/mattiapggioli/lyrics2ts/.venv/lib/python3.9/site-packages/sklearn_extra/cluster/_k_medoids.py:275: UserWarning: Cluster 1108 is empty! self.labels_[self.medoid_indices_[1108]] may not be labeled with its corresponding cluster (1108).\n",
      "  warnings.warn(\n",
      "/home/mattiapggioli/lyrics2ts/.venv/lib/python3.9/site-packages/sklearn_extra/cluster/_k_medoids.py:275: UserWarning: Cluster 1250 is empty! self.labels_[self.medoid_indices_[1250]] may not be labeled with its corresponding cluster (1250).\n",
      "  warnings.warn(\n"
     ]
    }
   ],
   "source": [
    "if undersampling:\n",
    "    total_samples = len(y_train)\n",
    "    unique_classes, class_counts = np.unique(y_train, return_counts=True)\n",
    "    samp_strat = dict(zip(unique_classes, np.floor(class_counts * undersampling).astype(int)))\n",
    "    print(samp_strat)\n",
    "    cc = ClusterCentroids(estimator=KMedoids(\n",
    "        random_state=42), sampling_strategy=samp_strat, random_state=42)\n",
    "    X_train, y_train = cc.fit_resample(X_train, y_train)\n",
    "    X_train.shape"
   ]
  },
  {
   "cell_type": "code",
   "execution_count": 65,
   "id": "e7ac6b44",
   "metadata": {
    "execution": {
     "iopub.execute_input": "2023-03-21T06:26:00.617829Z",
     "iopub.status.busy": "2023-03-21T06:26:00.617535Z",
     "iopub.status.idle": "2023-03-21T06:26:00.630812Z",
     "shell.execute_reply": "2023-03-21T06:26:00.629689Z"
    },
    "papermill": {
     "duration": 0.061428,
     "end_time": "2023-03-21T06:26:00.634360",
     "exception": false,
     "start_time": "2023-03-21T06:26:00.572932",
     "status": "completed"
    },
    "tags": []
   },
   "outputs": [
    {
     "data": {
      "text/html": [
       "<style>#sk-container-id-9 {color: black;background-color: white;}#sk-container-id-9 pre{padding: 0;}#sk-container-id-9 div.sk-toggleable {background-color: white;}#sk-container-id-9 label.sk-toggleable__label {cursor: pointer;display: block;width: 100%;margin-bottom: 0;padding: 0.3em;box-sizing: border-box;text-align: center;}#sk-container-id-9 label.sk-toggleable__label-arrow:before {content: \"▸\";float: left;margin-right: 0.25em;color: #696969;}#sk-container-id-9 label.sk-toggleable__label-arrow:hover:before {color: black;}#sk-container-id-9 div.sk-estimator:hover label.sk-toggleable__label-arrow:before {color: black;}#sk-container-id-9 div.sk-toggleable__content {max-height: 0;max-width: 0;overflow: hidden;text-align: left;background-color: #f0f8ff;}#sk-container-id-9 div.sk-toggleable__content pre {margin: 0.2em;color: black;border-radius: 0.25em;background-color: #f0f8ff;}#sk-container-id-9 input.sk-toggleable__control:checked~div.sk-toggleable__content {max-height: 200px;max-width: 100%;overflow: auto;}#sk-container-id-9 input.sk-toggleable__control:checked~label.sk-toggleable__label-arrow:before {content: \"▾\";}#sk-container-id-9 div.sk-estimator input.sk-toggleable__control:checked~label.sk-toggleable__label {background-color: #d4ebff;}#sk-container-id-9 div.sk-label input.sk-toggleable__control:checked~label.sk-toggleable__label {background-color: #d4ebff;}#sk-container-id-9 input.sk-hidden--visually {border: 0;clip: rect(1px 1px 1px 1px);clip: rect(1px, 1px, 1px, 1px);height: 1px;margin: -1px;overflow: hidden;padding: 0;position: absolute;width: 1px;}#sk-container-id-9 div.sk-estimator {font-family: monospace;background-color: #f0f8ff;border: 1px dotted black;border-radius: 0.25em;box-sizing: border-box;margin-bottom: 0.5em;}#sk-container-id-9 div.sk-estimator:hover {background-color: #d4ebff;}#sk-container-id-9 div.sk-parallel-item::after {content: \"\";width: 100%;border-bottom: 1px solid gray;flex-grow: 1;}#sk-container-id-9 div.sk-label:hover label.sk-toggleable__label {background-color: #d4ebff;}#sk-container-id-9 div.sk-serial::before {content: \"\";position: absolute;border-left: 1px solid gray;box-sizing: border-box;top: 0;bottom: 0;left: 50%;z-index: 0;}#sk-container-id-9 div.sk-serial {display: flex;flex-direction: column;align-items: center;background-color: white;padding-right: 0.2em;padding-left: 0.2em;position: relative;}#sk-container-id-9 div.sk-item {position: relative;z-index: 1;}#sk-container-id-9 div.sk-parallel {display: flex;align-items: stretch;justify-content: center;background-color: white;position: relative;}#sk-container-id-9 div.sk-item::before, #sk-container-id-9 div.sk-parallel-item::before {content: \"\";position: absolute;border-left: 1px solid gray;box-sizing: border-box;top: 0;bottom: 0;left: 50%;z-index: -1;}#sk-container-id-9 div.sk-parallel-item {display: flex;flex-direction: column;z-index: 1;position: relative;background-color: white;}#sk-container-id-9 div.sk-parallel-item:first-child::after {align-self: flex-end;width: 50%;}#sk-container-id-9 div.sk-parallel-item:last-child::after {align-self: flex-start;width: 50%;}#sk-container-id-9 div.sk-parallel-item:only-child::after {width: 0;}#sk-container-id-9 div.sk-dashed-wrapped {border: 1px dashed gray;margin: 0 0.4em 0.5em 0.4em;box-sizing: border-box;padding-bottom: 0.4em;background-color: white;}#sk-container-id-9 div.sk-label label {font-family: monospace;font-weight: bold;display: inline-block;line-height: 1.2em;}#sk-container-id-9 div.sk-label-container {text-align: center;}#sk-container-id-9 div.sk-container {/* jupyter's `normalize.less` sets `[hidden] { display: none; }` but bootstrap.min.css set `[hidden] { display: none !important; }` so we also need the `!important` here to be able to override the default hidden behavior on the sphinx rendered scikit-learn.org. See: https://github.com/scikit-learn/scikit-learn/issues/21755 */display: inline-block !important;position: relative;}#sk-container-id-9 div.sk-text-repr-fallback {display: none;}</style><div id=\"sk-container-id-9\" class=\"sk-top-container\"><div class=\"sk-text-repr-fallback\"><pre>KNeighborsClassifier(metric=&#x27;dtw_sakoechiba&#x27;, metric_params={&#x27;window_size&#x27;: 3})</pre><b>In a Jupyter environment, please rerun this cell to show the HTML representation or trust the notebook. <br />On GitHub, the HTML representation is unable to render, please try loading this page with nbviewer.org.</b></div><div class=\"sk-container\" hidden><div class=\"sk-item\"><div class=\"sk-estimator sk-toggleable\"><input class=\"sk-toggleable__control sk-hidden--visually\" id=\"sk-estimator-id-9\" type=\"checkbox\" checked><label for=\"sk-estimator-id-9\" class=\"sk-toggleable__label sk-toggleable__label-arrow\">KNeighborsClassifier</label><div class=\"sk-toggleable__content\"><pre>KNeighborsClassifier(metric=&#x27;dtw_sakoechiba&#x27;, metric_params={&#x27;window_size&#x27;: 3})</pre></div></div></div></div></div>"
      ],
      "text/plain": [
       "KNeighborsClassifier(metric='dtw_sakoechiba', metric_params={'window_size': 3})"
      ]
     },
     "execution_count": 65,
     "metadata": {},
     "output_type": "execute_result"
    }
   ],
   "source": [
    "clf = KNeighborsClassifier(metric='dtw_sakoechiba',  metric_params={'window_size':3})\n",
    "\n",
    "clf.fit(X_train, y_train)"
   ]
  },
  {
   "cell_type": "code",
   "execution_count": 66,
   "id": "8109d19d",
   "metadata": {
    "execution": {
     "iopub.execute_input": "2023-03-21T06:26:00.682823Z",
     "iopub.status.busy": "2023-03-21T06:26:00.682227Z",
     "iopub.status.idle": "2023-03-21T07:42:00.969878Z",
     "shell.execute_reply": "2023-03-21T07:42:00.969177Z"
    },
    "papermill": {
     "duration": 4560.342146,
     "end_time": "2023-03-21T07:42:01.008674",
     "exception": false,
     "start_time": "2023-03-21T06:26:00.666528",
     "status": "completed"
    },
    "tags": []
   },
   "outputs": [
    {
     "name": "stdout",
     "output_type": "stream",
     "text": [
      "              precision    recall  f1-score   support\n",
      "\n",
      "         rap       0.67      0.68      0.67      2400\n",
      "        rock       0.67      0.67      0.67      2400\n",
      "\n",
      "    accuracy                           0.67      4800\n",
      "   macro avg       0.67      0.67      0.67      4800\n",
      "weighted avg       0.67      0.67      0.67      4800\n",
      "\n",
      "CPU times: user 1h 16min, sys: 260 ms, total: 1h 16min\n",
      "Wall time: 1h 16min\n"
     ]
    }
   ],
   "source": [
    "%%time\n",
    "y_pred = clf.predict(X_test)\n",
    "print(classification_report(y_test, y_pred))"
   ]
  },
  {
   "cell_type": "code",
   "execution_count": 67,
   "id": "b09f5cdf",
   "metadata": {
    "execution": {
     "iopub.execute_input": "2023-03-21T07:42:01.042533Z",
     "iopub.status.busy": "2023-03-21T07:42:01.042252Z",
     "iopub.status.idle": "2023-03-21T07:42:01.133223Z",
     "shell.execute_reply": "2023-03-21T07:42:01.132525Z"
    },
    "papermill": {
     "duration": 0.109696,
     "end_time": "2023-03-21T07:42:01.135528",
     "exception": false,
     "start_time": "2023-03-21T07:42:01.025832",
     "status": "completed"
    },
    "tags": []
   },
   "outputs": [],
   "source": [
    "acc = accuracy_score(y_test, y_pred)\n",
    "pre = precision_score(y_test, y_pred, average=avg_par)\n",
    "rec = recall_score(y_test, y_pred, average=avg_par)\n",
    "f1 = f1_score(y_test, y_pred, average=avg_par)\n",
    "\n",
    "metrics_data['KNN']['DTW'] = {'Accuracy': acc, 'Precision': pre, 'Recall': rec, 'F1': f1}"
   ]
  },
  {
   "cell_type": "markdown",
   "id": "e0e700a7",
   "metadata": {
    "papermill": {
     "duration": 0.015656,
     "end_time": "2023-03-21T07:42:01.168835",
     "exception": false,
     "start_time": "2023-03-21T07:42:01.153179",
     "status": "completed"
    },
    "tags": []
   },
   "source": [
    "## Overall Results"
   ]
  },
  {
   "cell_type": "code",
   "execution_count": 68,
   "id": "d003c193",
   "metadata": {
    "execution": {
     "iopub.execute_input": "2023-03-21T07:42:01.203818Z",
     "iopub.status.busy": "2023-03-21T07:42:01.203358Z",
     "iopub.status.idle": "2023-03-21T07:42:01.211177Z",
     "shell.execute_reply": "2023-03-21T07:42:01.210288Z"
    },
    "papermill": {
     "duration": 0.029316,
     "end_time": "2023-03-21T07:42:01.213132",
     "exception": false,
     "start_time": "2023-03-21T07:42:01.183816",
     "status": "completed"
    },
    "tags": []
   },
   "outputs": [],
   "source": [
    "metrics_data = pd.DataFrame.from_dict({(i,j): metrics_data[i][j] \n",
    "                                       for i in metrics_data.keys() \n",
    "                                       for j in metrics_data[i].keys()},\n",
    "                                       orient='index')"
   ]
  },
  {
   "cell_type": "code",
   "execution_count": 69,
   "id": "0944fe84",
   "metadata": {
    "execution": {
     "iopub.execute_input": "2023-03-21T07:42:01.244807Z",
     "iopub.status.busy": "2023-03-21T07:42:01.244390Z",
     "iopub.status.idle": "2023-03-21T07:42:01.381837Z",
     "shell.execute_reply": "2023-03-21T07:42:01.381044Z"
    },
    "papermill": {
     "duration": 0.155335,
     "end_time": "2023-03-21T07:42:01.384000",
     "exception": false,
     "start_time": "2023-03-21T07:42:01.228665",
     "status": "completed"
    },
    "tags": []
   },
   "outputs": [],
   "source": [
    "acc = accuracy_score(y_test, y_pred)\n",
    "pre = precision_score(y_test, y_pred, average=avg_par)\n",
    "rec = recall_score(y_test, y_pred, average=avg_par)\n",
    "f1 = f1_score(y_test, y_pred, average=avg_par)"
   ]
  },
  {
   "cell_type": "code",
   "execution_count": 70,
   "id": "7ee1b347",
   "metadata": {
    "execution": {
     "iopub.execute_input": "2023-03-21T07:42:01.451971Z",
     "iopub.status.busy": "2023-03-21T07:42:01.451533Z",
     "iopub.status.idle": "2023-03-21T07:42:01.469061Z",
     "shell.execute_reply": "2023-03-21T07:42:01.467860Z"
    },
    "papermill": {
     "duration": 0.053904,
     "end_time": "2023-03-21T07:42:01.471164",
     "exception": false,
     "start_time": "2023-03-21T07:42:01.417260",
     "status": "completed"
    },
    "tags": []
   },
   "outputs": [
    {
     "data": {
      "text/html": [
       "<div>\n",
       "<style scoped>\n",
       "    .dataframe tbody tr th:only-of-type {\n",
       "        vertical-align: middle;\n",
       "    }\n",
       "\n",
       "    .dataframe tbody tr th {\n",
       "        vertical-align: top;\n",
       "    }\n",
       "\n",
       "    .dataframe thead th {\n",
       "        text-align: right;\n",
       "    }\n",
       "</style>\n",
       "<table border=\"1\" class=\"dataframe\">\n",
       "  <thead>\n",
       "    <tr style=\"text-align: right;\">\n",
       "      <th></th>\n",
       "      <th></th>\n",
       "      <th>Accuracy</th>\n",
       "      <th>Precision</th>\n",
       "      <th>Recall</th>\n",
       "      <th>F1</th>\n",
       "    </tr>\n",
       "  </thead>\n",
       "  <tbody>\n",
       "    <tr>\n",
       "      <th rowspan=\"3\" valign=\"top\">Global</th>\n",
       "      <th>DecisionTree</th>\n",
       "      <td>0.820417</td>\n",
       "      <td>0.820444</td>\n",
       "      <td>0.820417</td>\n",
       "      <td>0.820413</td>\n",
       "    </tr>\n",
       "    <tr>\n",
       "      <th>RandomForest</th>\n",
       "      <td>0.906875</td>\n",
       "      <td>0.912288</td>\n",
       "      <td>0.906875</td>\n",
       "      <td>0.906568</td>\n",
       "    </tr>\n",
       "    <tr>\n",
       "      <th>LightGBM</th>\n",
       "      <td>0.920833</td>\n",
       "      <td>0.922440</td>\n",
       "      <td>0.920833</td>\n",
       "      <td>0.920758</td>\n",
       "    </tr>\n",
       "    <tr>\n",
       "      <th rowspan=\"3\" valign=\"top\">Shapelets</th>\n",
       "      <th>DecisionTree</th>\n",
       "      <td>0.735000</td>\n",
       "      <td>0.735212</td>\n",
       "      <td>0.735000</td>\n",
       "      <td>0.734940</td>\n",
       "    </tr>\n",
       "    <tr>\n",
       "      <th>RandomForest</th>\n",
       "      <td>0.817500</td>\n",
       "      <td>0.818075</td>\n",
       "      <td>0.817500</td>\n",
       "      <td>0.817418</td>\n",
       "    </tr>\n",
       "    <tr>\n",
       "      <th>LightGBM</th>\n",
       "      <td>0.817083</td>\n",
       "      <td>0.817369</td>\n",
       "      <td>0.817083</td>\n",
       "      <td>0.817042</td>\n",
       "    </tr>\n",
       "    <tr>\n",
       "      <th rowspan=\"2\" valign=\"top\">KNN</th>\n",
       "      <th>Euclidean</th>\n",
       "      <td>0.547708</td>\n",
       "      <td>0.650352</td>\n",
       "      <td>0.547708</td>\n",
       "      <td>0.454629</td>\n",
       "    </tr>\n",
       "    <tr>\n",
       "      <th>DTW</th>\n",
       "      <td>0.672500</td>\n",
       "      <td>0.672514</td>\n",
       "      <td>0.672500</td>\n",
       "      <td>0.672493</td>\n",
       "    </tr>\n",
       "  </tbody>\n",
       "</table>\n",
       "</div>"
      ],
      "text/plain": [
       "                        Accuracy  Precision    Recall        F1\n",
       "Global    DecisionTree  0.820417   0.820444  0.820417  0.820413\n",
       "          RandomForest  0.906875   0.912288  0.906875  0.906568\n",
       "          LightGBM      0.920833   0.922440  0.920833  0.920758\n",
       "Shapelets DecisionTree  0.735000   0.735212  0.735000  0.734940\n",
       "          RandomForest  0.817500   0.818075  0.817500  0.817418\n",
       "          LightGBM      0.817083   0.817369  0.817083  0.817042\n",
       "KNN       Euclidean     0.547708   0.650352  0.547708  0.454629\n",
       "          DTW           0.672500   0.672514  0.672500  0.672493"
      ]
     },
     "execution_count": 70,
     "metadata": {},
     "output_type": "execute_result"
    }
   ],
   "source": [
    "metrics_data"
   ]
  },
  {
   "cell_type": "code",
   "execution_count": 71,
   "id": "3efc173e",
   "metadata": {
    "execution": {
     "iopub.execute_input": "2023-03-21T07:42:01.503605Z",
     "iopub.status.busy": "2023-03-21T07:42:01.503107Z",
     "iopub.status.idle": "2023-03-21T07:42:01.512579Z",
     "shell.execute_reply": "2023-03-21T07:42:01.511466Z"
    },
    "papermill": {
     "duration": 0.02759,
     "end_time": "2023-03-21T07:42:01.514599",
     "exception": false,
     "start_time": "2023-03-21T07:42:01.487009",
     "status": "completed"
    },
    "tags": []
   },
   "outputs": [],
   "source": [
    "metrics_data.to_csv(f'{data_path}/metrics.csv')"
   ]
  },
  {
   "cell_type": "code",
   "execution_count": null,
   "id": "d21f5304",
   "metadata": {
    "papermill": {
     "duration": 0.014771,
     "end_time": "2023-03-21T07:42:01.545050",
     "exception": false,
     "start_time": "2023-03-21T07:42:01.530279",
     "status": "completed"
    },
    "tags": []
   },
   "outputs": [],
   "source": []
  }
 ],
 "metadata": {
  "celltoolbar": "Tags",
  "kernelspec": {
   "display_name": "Python 3 (ipykernel)",
   "language": "python",
   "name": "python3"
  },
  "language_info": {
   "codemirror_mode": {
    "name": "ipython",
    "version": 3
   },
   "file_extension": ".py",
   "mimetype": "text/x-python",
   "name": "python",
   "nbconvert_exporter": "python",
   "pygments_lexer": "ipython3",
   "version": "3.9.16"
  },
  "papermill": {
   "default_parameters": {},
   "duration": 6220.70722,
   "end_time": "2023-03-21T07:42:04.231408",
   "environment_variables": {},
   "exception": null,
   "input_path": "09_ts_classification.ipynb",
   "output_path": "../clf-reports/rc-rp_sbert.ipynb",
   "parameters": {
    "data_path": "/home/mattiapggioli/lyrics2ts/data/classification/rc-rp/sbert/",
    "paa_window_size": 20,
    "undersampling": 0.3
   },
   "start_time": "2023-03-21T05:58:23.524188",
   "version": "2.4.0"
  },
  "vscode": {
   "interpreter": {
    "hash": "eb8d1ded7c87c6f9c253b40add648304d6b51d2e38393955e855effc7e6f899a"
   }
  }
 },
 "nbformat": 4,
 "nbformat_minor": 5
}