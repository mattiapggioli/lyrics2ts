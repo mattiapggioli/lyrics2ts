{
 "cells": [
  {
   "cell_type": "markdown",
   "id": "d79a68c5",
   "metadata": {
    "papermill": {
     "duration": 0.024095,
     "end_time": "2023-03-10T17:26:23.272588",
     "exception": false,
     "start_time": "2023-03-10T17:26:23.248493",
     "status": "completed"
    },
    "tags": []
   },
   "source": [
    "# Time Series Classification"
   ]
  },
  {
   "cell_type": "code",
   "execution_count": 1,
   "id": "8a0cb2b0",
   "metadata": {
    "execution": {
     "iopub.execute_input": "2023-03-10T17:26:23.297400Z",
     "iopub.status.busy": "2023-03-10T17:26:23.296729Z",
     "iopub.status.idle": "2023-03-10T17:26:24.964508Z",
     "shell.execute_reply": "2023-03-10T17:26:24.963538Z"
    },
    "papermill": {
     "duration": 1.682835,
     "end_time": "2023-03-10T17:26:24.967458",
     "exception": false,
     "start_time": "2023-03-10T17:26:23.284623",
     "status": "completed"
    },
    "tags": []
   },
   "outputs": [],
   "source": [
    "%matplotlib inline\n",
    "import pandas as pd\n",
    "import numpy as np\n",
    "import matplotlib.pyplot as plt\n",
    "import seaborn as sns\n",
    "import re\n",
    "import os\n",
    "from sklearn.preprocessing import StandardScaler\n",
    "from sklearn.decomposition import PCA\n",
    "import joblib\n",
    "from tslearn.utils import to_time_series_dataset, save_time_series_txt, load_time_series_txt\n",
    "import random\n",
    "from sklearn.model_selection import train_test_split\n",
    "from sklearn.metrics import accuracy_score, f1_score, precision_score, recall_score, classification_report\n",
    "import pickle"
   ]
  },
  {
   "cell_type": "code",
   "execution_count": 2,
   "id": "acc03405",
   "metadata": {
    "execution": {
     "iopub.execute_input": "2023-03-10T17:26:25.032058Z",
     "iopub.status.busy": "2023-03-10T17:26:25.031123Z",
     "iopub.status.idle": "2023-03-10T17:26:25.036845Z",
     "shell.execute_reply": "2023-03-10T17:26:25.035939Z"
    },
    "papermill": {
     "duration": 0.039869,
     "end_time": "2023-03-10T17:26:25.038434",
     "exception": false,
     "start_time": "2023-03-10T17:26:24.998565",
     "status": "completed"
    },
    "tags": [
     "parameters"
    ]
   },
   "outputs": [],
   "source": [
    "data_path = '/home/mattiapggioli/lyrics2ts/data/classification/pp-rc/sbert/'\n",
    "truncate=100\n",
    "max_iter = 2000\n",
    "paa_window_size = None\n",
    "undersampling = None"
   ]
  },
  {
   "cell_type": "code",
   "execution_count": 3,
   "id": "f9cc467f",
   "metadata": {
    "execution": {
     "iopub.execute_input": "2023-03-10T17:26:25.061340Z",
     "iopub.status.busy": "2023-03-10T17:26:25.061092Z",
     "iopub.status.idle": "2023-03-10T17:26:25.065022Z",
     "shell.execute_reply": "2023-03-10T17:26:25.064156Z"
    },
    "papermill": {
     "duration": 0.017452,
     "end_time": "2023-03-10T17:26:25.066511",
     "exception": false,
     "start_time": "2023-03-10T17:26:25.049059",
     "status": "completed"
    },
    "tags": [
     "injected-parameters"
    ]
   },
   "outputs": [],
   "source": [
    "# Parameters\n",
    "data_path = \"/home/mattiapggioli/lyrics2ts/data/classification/rc-rp/sbert/\"\n",
    "paa_window_size = 20\n",
    "undersampling = 0.3\n"
   ]
  },
  {
   "cell_type": "code",
   "execution_count": 4,
   "id": "a4f0c774",
   "metadata": {
    "execution": {
     "iopub.execute_input": "2023-03-10T17:26:25.089529Z",
     "iopub.status.busy": "2023-03-10T17:26:25.089272Z",
     "iopub.status.idle": "2023-03-10T17:26:41.375125Z",
     "shell.execute_reply": "2023-03-10T17:26:41.374460Z"
    },
    "papermill": {
     "duration": 16.29987,
     "end_time": "2023-03-10T17:26:41.377832",
     "exception": false,
     "start_time": "2023-03-10T17:26:25.077962",
     "status": "completed"
    },
    "tags": []
   },
   "outputs": [],
   "source": [
    "ts = load_time_series_txt(f'{data_path}/ts.txt')"
   ]
  },
  {
   "cell_type": "code",
   "execution_count": 5,
   "id": "5c48d154",
   "metadata": {
    "execution": {
     "iopub.execute_input": "2023-03-10T17:26:41.423777Z",
     "iopub.status.busy": "2023-03-10T17:26:41.423321Z",
     "iopub.status.idle": "2023-03-10T17:26:41.430413Z",
     "shell.execute_reply": "2023-03-10T17:26:41.429453Z"
    },
    "papermill": {
     "duration": 0.027146,
     "end_time": "2023-03-10T17:26:41.431906",
     "exception": false,
     "start_time": "2023-03-10T17:26:41.404760",
     "status": "completed"
    },
    "tags": []
   },
   "outputs": [
    {
     "data": {
      "text/plain": [
       "(24000, 130, 1)"
      ]
     },
     "execution_count": 5,
     "metadata": {},
     "output_type": "execute_result"
    }
   ],
   "source": [
    "ts.shape"
   ]
  },
  {
   "cell_type": "code",
   "execution_count": 6,
   "id": "f6274d40",
   "metadata": {
    "execution": {
     "iopub.execute_input": "2023-03-10T17:26:41.454962Z",
     "iopub.status.busy": "2023-03-10T17:26:41.454512Z",
     "iopub.status.idle": "2023-03-10T17:26:41.461846Z",
     "shell.execute_reply": "2023-03-10T17:26:41.461110Z"
    },
    "papermill": {
     "duration": 0.020826,
     "end_time": "2023-03-10T17:26:41.463529",
     "exception": false,
     "start_time": "2023-03-10T17:26:41.442703",
     "status": "completed"
    },
    "tags": []
   },
   "outputs": [],
   "source": [
    "with open(f'{data_path}/y_class.npy', 'rb') as f:\n",
    "    y = np.load(f, allow_pickle=True)"
   ]
  },
  {
   "cell_type": "code",
   "execution_count": 7,
   "id": "9d42fa3b",
   "metadata": {
    "execution": {
     "iopub.execute_input": "2023-03-10T17:26:41.486401Z",
     "iopub.status.busy": "2023-03-10T17:26:41.485814Z",
     "iopub.status.idle": "2023-03-10T17:26:41.568188Z",
     "shell.execute_reply": "2023-03-10T17:26:41.567360Z"
    },
    "papermill": {
     "duration": 0.097222,
     "end_time": "2023-03-10T17:26:41.571219",
     "exception": false,
     "start_time": "2023-03-10T17:26:41.473997",
     "status": "completed"
    },
    "tags": []
   },
   "outputs": [],
   "source": [
    "with open(f'{data_path}/X.npy', 'rb') as f:\n",
    "    X = np.load(f, allow_pickle=True)"
   ]
  },
  {
   "cell_type": "code",
   "execution_count": 8,
   "id": "1158a9da",
   "metadata": {
    "execution": {
     "iopub.execute_input": "2023-03-10T17:26:41.625862Z",
     "iopub.status.busy": "2023-03-10T17:26:41.625553Z",
     "iopub.status.idle": "2023-03-10T17:26:41.632005Z",
     "shell.execute_reply": "2023-03-10T17:26:41.630700Z"
    },
    "papermill": {
     "duration": 0.031465,
     "end_time": "2023-03-10T17:26:41.633615",
     "exception": false,
     "start_time": "2023-03-10T17:26:41.602150",
     "status": "completed"
    },
    "tags": []
   },
   "outputs": [
    {
     "data": {
      "text/plain": [
       "(24000, 384)"
      ]
     },
     "execution_count": 8,
     "metadata": {},
     "output_type": "execute_result"
    }
   ],
   "source": [
    "X.shape"
   ]
  },
  {
   "cell_type": "code",
   "execution_count": 9,
   "id": "47239790",
   "metadata": {
    "execution": {
     "iopub.execute_input": "2023-03-10T17:26:41.656858Z",
     "iopub.status.busy": "2023-03-10T17:26:41.656176Z",
     "iopub.status.idle": "2023-03-10T17:26:41.665367Z",
     "shell.execute_reply": "2023-03-10T17:26:41.664015Z"
    },
    "papermill": {
     "duration": 0.02294,
     "end_time": "2023-03-10T17:26:41.667216",
     "exception": false,
     "start_time": "2023-03-10T17:26:41.644276",
     "status": "completed"
    },
    "tags": []
   },
   "outputs": [
    {
     "data": {
      "text/plain": [
       "{'rap', 'rock'}"
      ]
     },
     "execution_count": 9,
     "metadata": {},
     "output_type": "execute_result"
    }
   ],
   "source": [
    "set(y)"
   ]
  },
  {
   "cell_type": "code",
   "execution_count": 10,
   "id": "37609992",
   "metadata": {
    "execution": {
     "iopub.execute_input": "2023-03-10T17:26:41.690563Z",
     "iopub.status.busy": "2023-03-10T17:26:41.689934Z",
     "iopub.status.idle": "2023-03-10T17:26:41.712705Z",
     "shell.execute_reply": "2023-03-10T17:26:41.711170Z"
    },
    "papermill": {
     "duration": 0.037005,
     "end_time": "2023-03-10T17:26:41.715010",
     "exception": false,
     "start_time": "2023-03-10T17:26:41.678005",
     "status": "completed"
    },
    "tags": []
   },
   "outputs": [],
   "source": [
    "ts_train, ts_test, y_train, y_test = train_test_split(ts, y, test_size=0.20, random_state=42)"
   ]
  },
  {
   "cell_type": "code",
   "execution_count": 11,
   "id": "34508fe4",
   "metadata": {
    "execution": {
     "iopub.execute_input": "2023-03-10T17:26:41.741450Z",
     "iopub.status.busy": "2023-03-10T17:26:41.740554Z",
     "iopub.status.idle": "2023-03-10T17:26:41.782788Z",
     "shell.execute_reply": "2023-03-10T17:26:41.781247Z"
    },
    "papermill": {
     "duration": 0.058078,
     "end_time": "2023-03-10T17:26:41.786433",
     "exception": false,
     "start_time": "2023-03-10T17:26:41.728355",
     "status": "completed"
    },
    "tags": []
   },
   "outputs": [],
   "source": [
    "X_train, X_test, y_train, y_test = train_test_split(X, y, test_size=0.20, random_state=42)"
   ]
  },
  {
   "cell_type": "code",
   "execution_count": 12,
   "id": "076afac9",
   "metadata": {
    "execution": {
     "iopub.execute_input": "2023-03-10T17:26:41.833384Z",
     "iopub.status.busy": "2023-03-10T17:26:41.832724Z",
     "iopub.status.idle": "2023-03-10T17:26:41.846126Z",
     "shell.execute_reply": "2023-03-10T17:26:41.844851Z"
    },
    "papermill": {
     "duration": 0.034527,
     "end_time": "2023-03-10T17:26:41.848719",
     "exception": false,
     "start_time": "2023-03-10T17:26:41.814192",
     "status": "completed"
    },
    "tags": []
   },
   "outputs": [
    {
     "data": {
      "text/plain": [
       "array([[-0.7038335 ],\n",
       "       [-1.06273337],\n",
       "       [-0.15184486],\n",
       "       [-1.68010275],\n",
       "       [ 0.24212035],\n",
       "       [ 0.56320545],\n",
       "       [-0.87968834],\n",
       "       [-0.03510859],\n",
       "       [-0.02501466],\n",
       "       [-1.09102125],\n",
       "       [-0.24433798],\n",
       "       [-0.47597206],\n",
       "       [ 0.53665282],\n",
       "       [ 0.10174939],\n",
       "       [ 0.71222892],\n",
       "       [ 1.18943334],\n",
       "       [-0.33083103],\n",
       "       [-0.74704736],\n",
       "       [ 1.50252493],\n",
       "       [-0.22658012],\n",
       "       [ 1.79903208],\n",
       "       [-0.05740678],\n",
       "       [ 1.53254756],\n",
       "       [ 0.15441507],\n",
       "       [-0.39430818],\n",
       "       [-0.24705358],\n",
       "       [ 0.14148747],\n",
       "       [-0.10264609],\n",
       "       [ 1.03638335],\n",
       "       [-0.32549403],\n",
       "       [ 0.42405577],\n",
       "       [-0.17758298],\n",
       "       [ 1.30090211],\n",
       "       [-0.40663901],\n",
       "       [-0.47106262],\n",
       "       [-0.71296135],\n",
       "       [-0.14098416],\n",
       "       [-0.36501193],\n",
       "       [-0.56087554],\n",
       "       [-0.42733206],\n",
       "       [-0.38016663],\n",
       "       [ 1.30385971],\n",
       "       [ 2.14479959],\n",
       "       [ 1.10829626],\n",
       "       [ 0.09053124],\n",
       "       [-0.48755712],\n",
       "       [-0.9519892 ],\n",
       "       [ 0.55387859],\n",
       "       [ 0.29991574],\n",
       "       [-0.10608082],\n",
       "       [-0.15387978],\n",
       "       [ 0.19231188],\n",
       "       [ 0.68931772],\n",
       "       [-0.70907422],\n",
       "       [ 1.41569387],\n",
       "       [ 0.086576  ],\n",
       "       [ 0.82143028],\n",
       "       [ 0.72192481],\n",
       "       [ 0.45441568],\n",
       "       [ 1.54505819],\n",
       "       [-0.48014888],\n",
       "       [-0.62557901],\n",
       "       [        nan],\n",
       "       [        nan],\n",
       "       [        nan],\n",
       "       [        nan],\n",
       "       [        nan],\n",
       "       [        nan],\n",
       "       [        nan],\n",
       "       [        nan],\n",
       "       [        nan],\n",
       "       [        nan],\n",
       "       [        nan],\n",
       "       [        nan],\n",
       "       [        nan],\n",
       "       [        nan],\n",
       "       [        nan],\n",
       "       [        nan],\n",
       "       [        nan],\n",
       "       [        nan],\n",
       "       [        nan],\n",
       "       [        nan],\n",
       "       [        nan],\n",
       "       [        nan],\n",
       "       [        nan],\n",
       "       [        nan],\n",
       "       [        nan],\n",
       "       [        nan],\n",
       "       [        nan],\n",
       "       [        nan],\n",
       "       [        nan],\n",
       "       [        nan],\n",
       "       [        nan],\n",
       "       [        nan],\n",
       "       [        nan],\n",
       "       [        nan],\n",
       "       [        nan],\n",
       "       [        nan],\n",
       "       [        nan],\n",
       "       [        nan],\n",
       "       [        nan],\n",
       "       [        nan],\n",
       "       [        nan],\n",
       "       [        nan],\n",
       "       [        nan],\n",
       "       [        nan],\n",
       "       [        nan],\n",
       "       [        nan],\n",
       "       [        nan],\n",
       "       [        nan],\n",
       "       [        nan],\n",
       "       [        nan],\n",
       "       [        nan],\n",
       "       [        nan],\n",
       "       [        nan],\n",
       "       [        nan],\n",
       "       [        nan],\n",
       "       [        nan],\n",
       "       [        nan],\n",
       "       [        nan],\n",
       "       [        nan],\n",
       "       [        nan],\n",
       "       [        nan],\n",
       "       [        nan],\n",
       "       [        nan],\n",
       "       [        nan],\n",
       "       [        nan],\n",
       "       [        nan],\n",
       "       [        nan],\n",
       "       [        nan]])"
      ]
     },
     "execution_count": 12,
     "metadata": {},
     "output_type": "execute_result"
    }
   ],
   "source": [
    "random.choice(ts_train)"
   ]
  },
  {
   "cell_type": "code",
   "execution_count": 13,
   "id": "ca66457a",
   "metadata": {
    "execution": {
     "iopub.execute_input": "2023-03-10T17:26:41.879735Z",
     "iopub.status.busy": "2023-03-10T17:26:41.879211Z",
     "iopub.status.idle": "2023-03-10T17:26:42.345443Z",
     "shell.execute_reply": "2023-03-10T17:26:42.344756Z"
    },
    "papermill": {
     "duration": 0.486017,
     "end_time": "2023-03-10T17:26:42.347632",
     "exception": false,
     "start_time": "2023-03-10T17:26:41.861615",
     "status": "completed"
    },
    "tags": []
   },
   "outputs": [
    {
     "data": {
      "text/plain": [
       "<AxesSubplot:ylabel='Count'>"
      ]
     },
     "execution_count": 13,
     "metadata": {},
     "output_type": "execute_result"
    },
    {
     "data": {
      "image/png": "[encoded data removed]",
      "text/plain": [
       "<Figure size 640x480 with 1 Axes>"
      ]
     },
     "metadata": {},
     "output_type": "display_data"
    }
   ],
   "source": [
    "sns.histplot([t[~np.any(np.isnan(t), axis=1)].shape[0] for t in ts_train])"
   ]
  },
  {
   "cell_type": "code",
   "execution_count": 14,
   "id": "c2ae286f",
   "metadata": {
    "execution": {
     "iopub.execute_input": "2023-03-10T17:26:42.376687Z",
     "iopub.status.busy": "2023-03-10T17:26:42.375956Z",
     "iopub.status.idle": "2023-03-10T17:26:42.380727Z",
     "shell.execute_reply": "2023-03-10T17:26:42.379847Z"
    },
    "papermill": {
     "duration": 0.019645,
     "end_time": "2023-03-10T17:26:42.382365",
     "exception": false,
     "start_time": "2023-03-10T17:26:42.362720",
     "status": "completed"
    },
    "tags": []
   },
   "outputs": [],
   "source": [
    "ts_train = ts_train[:, :truncate, :]\n",
    "ts_test = ts_test[:, :truncate, :]"
   ]
  },
  {
   "cell_type": "code",
   "execution_count": 15,
   "id": "3218baa4",
   "metadata": {
    "execution": {
     "iopub.execute_input": "2023-03-10T17:26:42.409719Z",
     "iopub.status.busy": "2023-03-10T17:26:42.408980Z",
     "iopub.status.idle": "2023-03-10T17:26:42.500571Z",
     "shell.execute_reply": "2023-03-10T17:26:42.499723Z"
    },
    "papermill": {
     "duration": 0.108598,
     "end_time": "2023-03-10T17:26:42.503103",
     "exception": false,
     "start_time": "2023-03-10T17:26:42.394505",
     "status": "completed"
    },
    "tags": []
   },
   "outputs": [],
   "source": [
    "mean_arr = np.nanmean(ts_train, axis=1, keepdims=True)\n",
    "nan_indices = np.isnan(ts_train)\n",
    "ts_train[nan_indices] = np.take(mean_arr, np.nonzero(nan_indices)[0])\n",
    "\n",
    "mean_arr = np.nanmean(ts_test, axis=1, keepdims=True)\n",
    "nan_indices = np.isnan(ts_test)\n",
    "ts_test[nan_indices] = np.take(mean_arr, np.nonzero(nan_indices)[0])"
   ]
  },
  {
   "cell_type": "code",
   "execution_count": 16,
   "id": "d369691b",
   "metadata": {
    "execution": {
     "iopub.execute_input": "2023-03-10T17:26:42.536176Z",
     "iopub.status.busy": "2023-03-10T17:26:42.535266Z",
     "iopub.status.idle": "2023-03-10T17:26:42.551467Z",
     "shell.execute_reply": "2023-03-10T17:26:42.550201Z"
    },
    "papermill": {
     "duration": 0.033688,
     "end_time": "2023-03-10T17:26:42.553905",
     "exception": false,
     "start_time": "2023-03-10T17:26:42.520217",
     "status": "completed"
    },
    "tags": []
   },
   "outputs": [
    {
     "data": {
      "text/plain": [
       "0"
      ]
     },
     "execution_count": 16,
     "metadata": {},
     "output_type": "execute_result"
    }
   ],
   "source": [
    "np.count_nonzero(np.isnan(X_train))"
   ]
  },
  {
   "cell_type": "code",
   "execution_count": 17,
   "id": "0d602e18",
   "metadata": {
    "execution": {
     "iopub.execute_input": "2023-03-10T17:26:42.586720Z",
     "iopub.status.busy": "2023-03-10T17:26:42.585802Z",
     "iopub.status.idle": "2023-03-10T17:26:42.601655Z",
     "shell.execute_reply": "2023-03-10T17:26:42.600251Z"
    },
    "papermill": {
     "duration": 0.035817,
     "end_time": "2023-03-10T17:26:42.604691",
     "exception": false,
     "start_time": "2023-03-10T17:26:42.568874",
     "status": "completed"
    },
    "tags": []
   },
   "outputs": [],
   "source": [
    "X_train[np.isnan(X_train)] = 0\n",
    "X_test[np.isnan(X_test)] = 0"
   ]
  },
  {
   "cell_type": "code",
   "execution_count": 18,
   "id": "45c5102c",
   "metadata": {
    "execution": {
     "iopub.execute_input": "2023-03-10T17:26:42.657507Z",
     "iopub.status.busy": "2023-03-10T17:26:42.656814Z",
     "iopub.status.idle": "2023-03-10T17:26:45.062765Z",
     "shell.execute_reply": "2023-03-10T17:26:45.062020Z"
    },
    "papermill": {
     "duration": 2.430241,
     "end_time": "2023-03-10T17:26:45.065775",
     "exception": false,
     "start_time": "2023-03-10T17:26:42.635534",
     "status": "completed"
    },
    "tags": []
   },
   "outputs": [],
   "source": [
    "save_time_series_txt(f'{data_path}/ts_train.txt', ts_train)\n",
    "save_time_series_txt(f'{data_path}/ts_test.txt', ts_test)"
   ]
  },
  {
   "cell_type": "code",
   "execution_count": 19,
   "id": "39830f37",
   "metadata": {
    "execution": {
     "iopub.execute_input": "2023-03-10T17:26:45.131419Z",
     "iopub.status.busy": "2023-03-10T17:26:45.131126Z",
     "iopub.status.idle": "2023-03-10T17:26:45.186219Z",
     "shell.execute_reply": "2023-03-10T17:26:45.185294Z"
    },
    "papermill": {
     "duration": 0.091097,
     "end_time": "2023-03-10T17:26:45.188998",
     "exception": false,
     "start_time": "2023-03-10T17:26:45.097901",
     "status": "completed"
    },
    "tags": []
   },
   "outputs": [],
   "source": [
    "with open(f'{data_path}/X_train.npy', 'wb') as f:\n",
    "    np.save(f, X_train, allow_pickle=True)\n",
    "\n",
    "with open(f'{data_path}/X_test.npy', 'wb') as f:\n",
    "    np.save(f, X_test, allow_pickle=True)"
   ]
  },
  {
   "cell_type": "code",
   "execution_count": 20,
   "id": "795fd2be",
   "metadata": {
    "execution": {
     "iopub.execute_input": "2023-03-10T17:26:45.254491Z",
     "iopub.status.busy": "2023-03-10T17:26:45.254135Z",
     "iopub.status.idle": "2023-03-10T17:26:45.261106Z",
     "shell.execute_reply": "2023-03-10T17:26:45.260141Z"
    },
    "papermill": {
     "duration": 0.041689,
     "end_time": "2023-03-10T17:26:45.262754",
     "exception": false,
     "start_time": "2023-03-10T17:26:45.221065",
     "status": "completed"
    },
    "tags": []
   },
   "outputs": [],
   "source": [
    "with open(f'{data_path}/y_train.npy', 'wb') as f:\n",
    "    np.save(f, y_train, allow_pickle=True)\n",
    "\n",
    "with open(f'{data_path}/y_test.npy', 'wb') as f:\n",
    "    np.save(f, y_test, allow_pickle=True)"
   ]
  },
  {
   "cell_type": "code",
   "execution_count": 21,
   "id": "08bda153",
   "metadata": {
    "execution": {
     "iopub.execute_input": "2023-03-10T17:26:45.286686Z",
     "iopub.status.busy": "2023-03-10T17:26:45.286376Z",
     "iopub.status.idle": "2023-03-10T17:26:45.447611Z",
     "shell.execute_reply": "2023-03-10T17:26:45.446688Z"
    },
    "papermill": {
     "duration": 0.176074,
     "end_time": "2023-03-10T17:26:45.450142",
     "exception": false,
     "start_time": "2023-03-10T17:26:45.274068",
     "status": "completed"
    },
    "tags": []
   },
   "outputs": [
    {
     "data": {
      "text/plain": [
       "[<matplotlib.lines.Line2D at 0x7ff54d7139d0>]"
      ]
     },
     "execution_count": 21,
     "metadata": {},
     "output_type": "execute_result"
    },
    {
     "data": {
      "image/png": "[encoded data removed]",
      "text/plain": [
       "<Figure size 640x480 with 1 Axes>"
      ]
     },
     "metadata": {},
     "output_type": "display_data"
    }
   ],
   "source": [
    "plt.plot(random.choice(ts_train))"
   ]
  },
  {
   "cell_type": "code",
   "execution_count": 22,
   "id": "98ce9d63",
   "metadata": {
    "execution": {
     "iopub.execute_input": "2023-03-10T17:26:45.478844Z",
     "iopub.status.busy": "2023-03-10T17:26:45.478397Z",
     "iopub.status.idle": "2023-03-10T17:26:45.484546Z",
     "shell.execute_reply": "2023-03-10T17:26:45.483653Z"
    },
    "papermill": {
     "duration": 0.021855,
     "end_time": "2023-03-10T17:26:45.486224",
     "exception": false,
     "start_time": "2023-03-10T17:26:45.464369",
     "status": "completed"
    },
    "tags": []
   },
   "outputs": [],
   "source": [
    "# Parameters that require knowing if it's binary or multiclass (LightGBM, metrics)\n",
    "if len(set(y)) == 2:\n",
    "    avg_par = 'macro'\n",
    "    obj_par = 'binary'\n",
    "elif len(set(y)) > 2:\n",
    "    avg_par = 'macro'\n",
    "    obj_par = 'multiclass'"
   ]
  },
  {
   "cell_type": "markdown",
   "id": "228f1b39",
   "metadata": {
    "papermill": {
     "duration": 0.011821,
     "end_time": "2023-03-10T17:26:45.509868",
     "exception": false,
     "start_time": "2023-03-10T17:26:45.498047",
     "status": "completed"
    },
    "tags": []
   },
   "source": [
    "## Classification"
   ]
  },
  {
   "cell_type": "code",
   "execution_count": 23,
   "id": "34bb73ff",
   "metadata": {
    "execution": {
     "iopub.execute_input": "2023-03-10T17:26:45.536679Z",
     "iopub.status.busy": "2023-03-10T17:26:45.536259Z",
     "iopub.status.idle": "2023-03-10T17:26:45.574741Z",
     "shell.execute_reply": "2023-03-10T17:26:45.574014Z"
    },
    "papermill": {
     "duration": 0.054841,
     "end_time": "2023-03-10T17:26:45.576667",
     "exception": false,
     "start_time": "2023-03-10T17:26:45.521826",
     "status": "completed"
    },
    "tags": []
   },
   "outputs": [],
   "source": [
    "from sklearn.tree import DecisionTreeClassifier\n",
    "import lightgbm as lgbm\n",
    "from sklearn.ensemble import RandomForestClassifier"
   ]
  },
  {
   "cell_type": "code",
   "execution_count": 24,
   "id": "02aaee18",
   "metadata": {
    "execution": {
     "iopub.execute_input": "2023-03-10T17:26:45.604732Z",
     "iopub.status.busy": "2023-03-10T17:26:45.604262Z",
     "iopub.status.idle": "2023-03-10T17:26:45.609477Z",
     "shell.execute_reply": "2023-03-10T17:26:45.608449Z"
    },
    "papermill": {
     "duration": 0.019668,
     "end_time": "2023-03-10T17:26:45.611074",
     "exception": false,
     "start_time": "2023-03-10T17:26:45.591406",
     "status": "completed"
    },
    "tags": []
   },
   "outputs": [],
   "source": [
    "metrics_data = {}"
   ]
  },
  {
   "cell_type": "markdown",
   "id": "b49309ed",
   "metadata": {
    "papermill": {
     "duration": 0.011463,
     "end_time": "2023-03-10T17:26:45.634159",
     "exception": false,
     "start_time": "2023-03-10T17:26:45.622696",
     "status": "completed"
    },
    "tags": []
   },
   "source": [
    "### Baseline: global features (No Time Series)"
   ]
  },
  {
   "cell_type": "code",
   "execution_count": 25,
   "id": "35eb9f66",
   "metadata": {
    "execution": {
     "iopub.execute_input": "2023-03-10T17:26:45.658805Z",
     "iopub.status.busy": "2023-03-10T17:26:45.658347Z",
     "iopub.status.idle": "2023-03-10T17:26:45.662979Z",
     "shell.execute_reply": "2023-03-10T17:26:45.662098Z"
    },
    "papermill": {
     "duration": 0.019041,
     "end_time": "2023-03-10T17:26:45.664603",
     "exception": false,
     "start_time": "2023-03-10T17:26:45.645562",
     "status": "completed"
    },
    "tags": []
   },
   "outputs": [],
   "source": [
    "metrics_data['Global'] = {}"
   ]
  },
  {
   "cell_type": "markdown",
   "id": "29cd5044",
   "metadata": {
    "papermill": {
     "duration": 0.01136,
     "end_time": "2023-03-10T17:26:45.687493",
     "exception": false,
     "start_time": "2023-03-10T17:26:45.676133",
     "status": "completed"
    },
    "tags": []
   },
   "source": [
    "**Decision Tree**"
   ]
  },
  {
   "cell_type": "code",
   "execution_count": 26,
   "id": "9ef4f037",
   "metadata": {
    "execution": {
     "iopub.execute_input": "2023-03-10T17:26:45.713952Z",
     "iopub.status.busy": "2023-03-10T17:26:45.713205Z",
     "iopub.status.idle": "2023-03-10T17:27:04.207750Z",
     "shell.execute_reply": "2023-03-10T17:27:04.206950Z"
    },
    "papermill": {
     "duration": 18.509668,
     "end_time": "2023-03-10T17:27:04.209927",
     "exception": false,
     "start_time": "2023-03-10T17:26:45.700259",
     "status": "completed"
    },
    "tags": []
   },
   "outputs": [
    {
     "data": {
      "text/html": [
       "<style>#sk-container-id-1 {color: black;background-color: white;}#sk-container-id-1 pre{padding: 0;}#sk-container-id-1 div.sk-toggleable {background-color: white;}#sk-container-id-1 label.sk-toggleable__label {cursor: pointer;display: block;width: 100%;margin-bottom: 0;padding: 0.3em;box-sizing: border-box;text-align: center;}#sk-container-id-1 label.sk-toggleable__label-arrow:before {content: \"▸\";float: left;margin-right: 0.25em;color: #696969;}#sk-container-id-1 label.sk-toggleable__label-arrow:hover:before {color: black;}#sk-container-id-1 div.sk-estimator:hover label.sk-toggleable__label-arrow:before {color: black;}#sk-container-id-1 div.sk-toggleable__content {max-height: 0;max-width: 0;overflow: hidden;text-align: left;background-color: #f0f8ff;}#sk-container-id-1 div.sk-toggleable__content pre {margin: 0.2em;color: black;border-radius: 0.25em;background-color: #f0f8ff;}#sk-container-id-1 input.sk-toggleable__control:checked~div.sk-toggleable__content {max-height: 200px;max-width: 100%;overflow: auto;}#sk-container-id-1 input.sk-toggleable__control:checked~label.sk-toggleable__label-arrow:before {content: \"▾\";}#sk-container-id-1 div.sk-estimator input.sk-toggleable__control:checked~label.sk-toggleable__label {background-color: #d4ebff;}#sk-container-id-1 div.sk-label input.sk-toggleable__control:checked~label.sk-toggleable__label {background-color: #d4ebff;}#sk-container-id-1 input.sk-hidden--visually {border: 0;clip: rect(1px 1px 1px 1px);clip: rect(1px, 1px, 1px, 1px);height: 1px;margin: -1px;overflow: hidden;padding: 0;position: absolute;width: 1px;}#sk-container-id-1 div.sk-estimator {font-family: monospace;background-color: #f0f8ff;border: 1px dotted black;border-radius: 0.25em;box-sizing: border-box;margin-bottom: 0.5em;}#sk-container-id-1 div.sk-estimator:hover {background-color: #d4ebff;}#sk-container-id-1 div.sk-parallel-item::after {content: \"\";width: 100%;border-bottom: 1px solid gray;flex-grow: 1;}#sk-container-id-1 div.sk-label:hover label.sk-toggleable__label {background-color: #d4ebff;}#sk-container-id-1 div.sk-serial::before {content: \"\";position: absolute;border-left: 1px solid gray;box-sizing: border-box;top: 0;bottom: 0;left: 50%;z-index: 0;}#sk-container-id-1 div.sk-serial {display: flex;flex-direction: column;align-items: center;background-color: white;padding-right: 0.2em;padding-left: 0.2em;position: relative;}#sk-container-id-1 div.sk-item {position: relative;z-index: 1;}#sk-container-id-1 div.sk-parallel {display: flex;align-items: stretch;justify-content: center;background-color: white;position: relative;}#sk-container-id-1 div.sk-item::before, #sk-container-id-1 div.sk-parallel-item::before {content: \"\";position: absolute;border-left: 1px solid gray;box-sizing: border-box;top: 0;bottom: 0;left: 50%;z-index: -1;}#sk-container-id-1 div.sk-parallel-item {display: flex;flex-direction: column;z-index: 1;position: relative;background-color: white;}#sk-container-id-1 div.sk-parallel-item:first-child::after {align-self: flex-end;width: 50%;}#sk-container-id-1 div.sk-parallel-item:last-child::after {align-self: flex-start;width: 50%;}#sk-container-id-1 div.sk-parallel-item:only-child::after {width: 0;}#sk-container-id-1 div.sk-dashed-wrapped {border: 1px dashed gray;margin: 0 0.4em 0.5em 0.4em;box-sizing: border-box;padding-bottom: 0.4em;background-color: white;}#sk-container-id-1 div.sk-label label {font-family: monospace;font-weight: bold;display: inline-block;line-height: 1.2em;}#sk-container-id-1 div.sk-label-container {text-align: center;}#sk-container-id-1 div.sk-container {/* jupyter's `normalize.less` sets `[hidden] { display: none; }` but bootstrap.min.css set `[hidden] { display: none !important; }` so we also need the `!important` here to be able to override the default hidden behavior on the sphinx rendered scikit-learn.org. See: https://github.com/scikit-learn/scikit-learn/issues/21755 */display: inline-block !important;position: relative;}#sk-container-id-1 div.sk-text-repr-fallback {display: none;}</style><div id=\"sk-container-id-1\" class=\"sk-top-container\"><div class=\"sk-text-repr-fallback\"><pre>DecisionTreeClassifier()</pre><b>In a Jupyter environment, please rerun this cell to show the HTML representation or trust the notebook. <br />On GitHub, the HTML representation is unable to render, please try loading this page with nbviewer.org.</b></div><div class=\"sk-container\" hidden><div class=\"sk-item\"><div class=\"sk-estimator sk-toggleable\"><input class=\"sk-toggleable__control sk-hidden--visually\" id=\"sk-estimator-id-1\" type=\"checkbox\" checked><label for=\"sk-estimator-id-1\" class=\"sk-toggleable__label sk-toggleable__label-arrow\">DecisionTreeClassifier</label><div class=\"sk-toggleable__content\"><pre>DecisionTreeClassifier()</pre></div></div></div></div></div>"
      ],
      "text/plain": [
       "DecisionTreeClassifier()"
      ]
     },
     "execution_count": 26,
     "metadata": {},
     "output_type": "execute_result"
    }
   ],
   "source": [
    "clf = DecisionTreeClassifier()\n",
    "clf.fit(X_train, y_train)"
   ]
  },
  {
   "cell_type": "code",
   "execution_count": 27,
   "id": "9c50acc4",
   "metadata": {
    "execution": {
     "iopub.execute_input": "2023-03-10T17:27:04.241668Z",
     "iopub.status.busy": "2023-03-10T17:27:04.241234Z",
     "iopub.status.idle": "2023-03-10T17:27:04.377035Z",
     "shell.execute_reply": "2023-03-10T17:27:04.376175Z"
    },
    "papermill": {
     "duration": 0.154183,
     "end_time": "2023-03-10T17:27:04.380025",
     "exception": false,
     "start_time": "2023-03-10T17:27:04.225842",
     "status": "completed"
    },
    "tags": []
   },
   "outputs": [
    {
     "name": "stdout",
     "output_type": "stream",
     "text": [
      "              precision    recall  f1-score   support\n",
      "\n",
      "         rap       0.81      0.84      0.82      2391\n",
      "        rock       0.83      0.80      0.82      2409\n",
      "\n",
      "    accuracy                           0.82      4800\n",
      "   macro avg       0.82      0.82      0.82      4800\n",
      "weighted avg       0.82      0.82      0.82      4800\n",
      "\n"
     ]
    }
   ],
   "source": [
    "y_pred = clf.predict(X_test)\n",
    "print(classification_report(y_test, y_pred))"
   ]
  },
  {
   "cell_type": "code",
   "execution_count": 28,
   "id": "8866c3c3",
   "metadata": {
    "execution": {
     "iopub.execute_input": "2023-03-10T17:27:04.459219Z",
     "iopub.status.busy": "2023-03-10T17:27:04.458367Z",
     "iopub.status.idle": "2023-03-10T17:27:04.566509Z",
     "shell.execute_reply": "2023-03-10T17:27:04.565540Z"
    },
    "papermill": {
     "duration": 0.147619,
     "end_time": "2023-03-10T17:27:04.569575",
     "exception": false,
     "start_time": "2023-03-10T17:27:04.421956",
     "status": "completed"
    },
    "tags": []
   },
   "outputs": [],
   "source": [
    "acc = accuracy_score(y_test, y_pred)\n",
    "pre = precision_score(y_test, y_pred, average=avg_par)\n",
    "rec = recall_score(y_test, y_pred, average=avg_par)\n",
    "f1 = f1_score(y_test, y_pred, average=avg_par)\n",
    "\n",
    "metrics_data['Global']['DecisionTree'] = {'Accuracy': acc, 'Precision': pre, 'Recall': rec, 'F1': f1}"
   ]
  },
  {
   "cell_type": "markdown",
   "id": "28aa5a63",
   "metadata": {
    "papermill": {
     "duration": 0.013247,
     "end_time": "2023-03-10T17:27:04.599033",
     "exception": false,
     "start_time": "2023-03-10T17:27:04.585786",
     "status": "completed"
    },
    "tags": []
   },
   "source": [
    "**Random Forest**"
   ]
  },
  {
   "cell_type": "code",
   "execution_count": 29,
   "id": "0e5e2310",
   "metadata": {
    "execution": {
     "iopub.execute_input": "2023-03-10T17:27:04.628838Z",
     "iopub.status.busy": "2023-03-10T17:27:04.627858Z",
     "iopub.status.idle": "2023-03-10T17:27:56.719904Z",
     "shell.execute_reply": "2023-03-10T17:27:56.719052Z"
    },
    "papermill": {
     "duration": 52.133728,
     "end_time": "2023-03-10T17:27:56.746411",
     "exception": false,
     "start_time": "2023-03-10T17:27:04.612683",
     "status": "completed"
    },
    "tags": []
   },
   "outputs": [
    {
     "data": {
      "text/html": [
       "<style>#sk-container-id-2 {color: black;background-color: white;}#sk-container-id-2 pre{padding: 0;}#sk-container-id-2 div.sk-toggleable {background-color: white;}#sk-container-id-2 label.sk-toggleable__label {cursor: pointer;display: block;width: 100%;margin-bottom: 0;padding: 0.3em;box-sizing: border-box;text-align: center;}#sk-container-id-2 label.sk-toggleable__label-arrow:before {content: \"▸\";float: left;margin-right: 0.25em;color: #696969;}#sk-container-id-2 label.sk-toggleable__label-arrow:hover:before {color: black;}#sk-container-id-2 div.sk-estimator:hover label.sk-toggleable__label-arrow:before {color: black;}#sk-container-id-2 div.sk-toggleable__content {max-height: 0;max-width: 0;overflow: hidden;text-align: left;background-color: #f0f8ff;}#sk-container-id-2 div.sk-toggleable__content pre {margin: 0.2em;color: black;border-radius: 0.25em;background-color: #f0f8ff;}#sk-container-id-2 input.sk-toggleable__control:checked~div.sk-toggleable__content {max-height: 200px;max-width: 100%;overflow: auto;}#sk-container-id-2 input.sk-toggleable__control:checked~label.sk-toggleable__label-arrow:before {content: \"▾\";}#sk-container-id-2 div.sk-estimator input.sk-toggleable__control:checked~label.sk-toggleable__label {background-color: #d4ebff;}#sk-container-id-2 div.sk-label input.sk-toggleable__control:checked~label.sk-toggleable__label {background-color: #d4ebff;}#sk-container-id-2 input.sk-hidden--visually {border: 0;clip: rect(1px 1px 1px 1px);clip: rect(1px, 1px, 1px, 1px);height: 1px;margin: -1px;overflow: hidden;padding: 0;position: absolute;width: 1px;}#sk-container-id-2 div.sk-estimator {font-family: monospace;background-color: #f0f8ff;border: 1px dotted black;border-radius: 0.25em;box-sizing: border-box;margin-bottom: 0.5em;}#sk-container-id-2 div.sk-estimator:hover {background-color: #d4ebff;}#sk-container-id-2 div.sk-parallel-item::after {content: \"\";width: 100%;border-bottom: 1px solid gray;flex-grow: 1;}#sk-container-id-2 div.sk-label:hover label.sk-toggleable__label {background-color: #d4ebff;}#sk-container-id-2 div.sk-serial::before {content: \"\";position: absolute;border-left: 1px solid gray;box-sizing: border-box;top: 0;bottom: 0;left: 50%;z-index: 0;}#sk-container-id-2 div.sk-serial {display: flex;flex-direction: column;align-items: center;background-color: white;padding-right: 0.2em;padding-left: 0.2em;position: relative;}#sk-container-id-2 div.sk-item {position: relative;z-index: 1;}#sk-container-id-2 div.sk-parallel {display: flex;align-items: stretch;justify-content: center;background-color: white;position: relative;}#sk-container-id-2 div.sk-item::before, #sk-container-id-2 div.sk-parallel-item::before {content: \"\";position: absolute;border-left: 1px solid gray;box-sizing: border-box;top: 0;bottom: 0;left: 50%;z-index: -1;}#sk-container-id-2 div.sk-parallel-item {display: flex;flex-direction: column;z-index: 1;position: relative;background-color: white;}#sk-container-id-2 div.sk-parallel-item:first-child::after {align-self: flex-end;width: 50%;}#sk-container-id-2 div.sk-parallel-item:last-child::after {align-self: flex-start;width: 50%;}#sk-container-id-2 div.sk-parallel-item:only-child::after {width: 0;}#sk-container-id-2 div.sk-dashed-wrapped {border: 1px dashed gray;margin: 0 0.4em 0.5em 0.4em;box-sizing: border-box;padding-bottom: 0.4em;background-color: white;}#sk-container-id-2 div.sk-label label {font-family: monospace;font-weight: bold;display: inline-block;line-height: 1.2em;}#sk-container-id-2 div.sk-label-container {text-align: center;}#sk-container-id-2 div.sk-container {/* jupyter's `normalize.less` sets `[hidden] { display: none; }` but bootstrap.min.css set `[hidden] { display: none !important; }` so we also need the `!important` here to be able to override the default hidden behavior on the sphinx rendered scikit-learn.org. See: https://github.com/scikit-learn/scikit-learn/issues/21755 */display: inline-block !important;position: relative;}#sk-container-id-2 div.sk-text-repr-fallback {display: none;}</style><div id=\"sk-container-id-2\" class=\"sk-top-container\"><div class=\"sk-text-repr-fallback\"><pre>RandomForestClassifier(random_state=42)</pre><b>In a Jupyter environment, please rerun this cell to show the HTML representation or trust the notebook. <br />On GitHub, the HTML representation is unable to render, please try loading this page with nbviewer.org.</b></div><div class=\"sk-container\" hidden><div class=\"sk-item\"><div class=\"sk-estimator sk-toggleable\"><input class=\"sk-toggleable__control sk-hidden--visually\" id=\"sk-estimator-id-2\" type=\"checkbox\" checked><label for=\"sk-estimator-id-2\" class=\"sk-toggleable__label sk-toggleable__label-arrow\">RandomForestClassifier</label><div class=\"sk-toggleable__content\"><pre>RandomForestClassifier(random_state=42)</pre></div></div></div></div></div>"
      ],
      "text/plain": [
       "RandomForestClassifier(random_state=42)"
      ]
     },
     "execution_count": 29,
     "metadata": {},
     "output_type": "execute_result"
    }
   ],
   "source": [
    "clf = RandomForestClassifier(random_state=42)\n",
    "clf.fit(X_train, y_train)"
   ]
  },
  {
   "cell_type": "code",
   "execution_count": 30,
   "id": "4bd1304b",
   "metadata": {
    "execution": {
     "iopub.execute_input": "2023-03-10T17:27:56.801746Z",
     "iopub.status.busy": "2023-03-10T17:27:56.800586Z",
     "iopub.status.idle": "2023-03-10T17:27:57.213944Z",
     "shell.execute_reply": "2023-03-10T17:27:57.212676Z"
    },
    "papermill": {
     "duration": 0.443551,
     "end_time": "2023-03-10T17:27:57.217074",
     "exception": false,
     "start_time": "2023-03-10T17:27:56.773523",
     "status": "completed"
    },
    "tags": []
   },
   "outputs": [
    {
     "name": "stdout",
     "output_type": "stream",
     "text": [
      "              precision    recall  f1-score   support\n",
      "\n",
      "         rap       0.96      0.86      0.91      2391\n",
      "        rock       0.88      0.96      0.92      2409\n",
      "\n",
      "    accuracy                           0.91      4800\n",
      "   macro avg       0.92      0.91      0.91      4800\n",
      "weighted avg       0.92      0.91      0.91      4800\n",
      "\n"
     ]
    }
   ],
   "source": [
    "y_pred = clf.predict(X_test)\n",
    "print(classification_report(y_test, y_pred))"
   ]
  },
  {
   "cell_type": "code",
   "execution_count": 31,
   "id": "43174ba2",
   "metadata": {
    "execution": {
     "iopub.execute_input": "2023-03-10T17:27:57.287259Z",
     "iopub.status.busy": "2023-03-10T17:27:57.286951Z",
     "iopub.status.idle": "2023-03-10T17:27:57.416458Z",
     "shell.execute_reply": "2023-03-10T17:27:57.415753Z"
    },
    "papermill": {
     "duration": 0.163561,
     "end_time": "2023-03-10T17:27:57.418234",
     "exception": false,
     "start_time": "2023-03-10T17:27:57.254673",
     "status": "completed"
    },
    "tags": []
   },
   "outputs": [],
   "source": [
    "acc = accuracy_score(y_test, y_pred)\n",
    "pre = precision_score(y_test, y_pred, average=avg_par)\n",
    "rec = recall_score(y_test, y_pred, average=avg_par)\n",
    "f1 = f1_score(y_test, y_pred, average=avg_par)\n",
    "\n",
    "metrics_data['Global']['RandomForest'] = {'Accuracy': acc, 'Precision': pre, 'Recall': rec, 'F1': f1}"
   ]
  },
  {
   "cell_type": "markdown",
   "id": "22c98ac5",
   "metadata": {
    "papermill": {
     "duration": 0.014697,
     "end_time": "2023-03-10T17:27:57.447117",
     "exception": false,
     "start_time": "2023-03-10T17:27:57.432420",
     "status": "completed"
    },
    "tags": []
   },
   "source": [
    "**LightGBM**"
   ]
  },
  {
   "cell_type": "code",
   "execution_count": 32,
   "id": "c93b818c",
   "metadata": {
    "execution": {
     "iopub.execute_input": "2023-03-10T17:27:57.481546Z",
     "iopub.status.busy": "2023-03-10T17:27:57.481287Z",
     "iopub.status.idle": "2023-03-10T17:28:05.864837Z",
     "shell.execute_reply": "2023-03-10T17:28:05.863724Z"
    },
    "papermill": {
     "duration": 8.406789,
     "end_time": "2023-03-10T17:28:05.870277",
     "exception": false,
     "start_time": "2023-03-10T17:27:57.463488",
     "status": "completed"
    },
    "tags": []
   },
   "outputs": [
    {
     "data": {
      "text/html": [
       "<style>#sk-container-id-3 {color: black;background-color: white;}#sk-container-id-3 pre{padding: 0;}#sk-container-id-3 div.sk-toggleable {background-color: white;}#sk-container-id-3 label.sk-toggleable__label {cursor: pointer;display: block;width: 100%;margin-bottom: 0;padding: 0.3em;box-sizing: border-box;text-align: center;}#sk-container-id-3 label.sk-toggleable__label-arrow:before {content: \"▸\";float: left;margin-right: 0.25em;color: #696969;}#sk-container-id-3 label.sk-toggleable__label-arrow:hover:before {color: black;}#sk-container-id-3 div.sk-estimator:hover label.sk-toggleable__label-arrow:before {color: black;}#sk-container-id-3 div.sk-toggleable__content {max-height: 0;max-width: 0;overflow: hidden;text-align: left;background-color: #f0f8ff;}#sk-container-id-3 div.sk-toggleable__content pre {margin: 0.2em;color: black;border-radius: 0.25em;background-color: #f0f8ff;}#sk-container-id-3 input.sk-toggleable__control:checked~div.sk-toggleable__content {max-height: 200px;max-width: 100%;overflow: auto;}#sk-container-id-3 input.sk-toggleable__control:checked~label.sk-toggleable__label-arrow:before {content: \"▾\";}#sk-container-id-3 div.sk-estimator input.sk-toggleable__control:checked~label.sk-toggleable__label {background-color: #d4ebff;}#sk-container-id-3 div.sk-label input.sk-toggleable__control:checked~label.sk-toggleable__label {background-color: #d4ebff;}#sk-container-id-3 input.sk-hidden--visually {border: 0;clip: rect(1px 1px 1px 1px);clip: rect(1px, 1px, 1px, 1px);height: 1px;margin: -1px;overflow: hidden;padding: 0;position: absolute;width: 1px;}#sk-container-id-3 div.sk-estimator {font-family: monospace;background-color: #f0f8ff;border: 1px dotted black;border-radius: 0.25em;box-sizing: border-box;margin-bottom: 0.5em;}#sk-container-id-3 div.sk-estimator:hover {background-color: #d4ebff;}#sk-container-id-3 div.sk-parallel-item::after {content: \"\";width: 100%;border-bottom: 1px solid gray;flex-grow: 1;}#sk-container-id-3 div.sk-label:hover label.sk-toggleable__label {background-color: #d4ebff;}#sk-container-id-3 div.sk-serial::before {content: \"\";position: absolute;border-left: 1px solid gray;box-sizing: border-box;top: 0;bottom: 0;left: 50%;z-index: 0;}#sk-container-id-3 div.sk-serial {display: flex;flex-direction: column;align-items: center;background-color: white;padding-right: 0.2em;padding-left: 0.2em;position: relative;}#sk-container-id-3 div.sk-item {position: relative;z-index: 1;}#sk-container-id-3 div.sk-parallel {display: flex;align-items: stretch;justify-content: center;background-color: white;position: relative;}#sk-container-id-3 div.sk-item::before, #sk-container-id-3 div.sk-parallel-item::before {content: \"\";position: absolute;border-left: 1px solid gray;box-sizing: border-box;top: 0;bottom: 0;left: 50%;z-index: -1;}#sk-container-id-3 div.sk-parallel-item {display: flex;flex-direction: column;z-index: 1;position: relative;background-color: white;}#sk-container-id-3 div.sk-parallel-item:first-child::after {align-self: flex-end;width: 50%;}#sk-container-id-3 div.sk-parallel-item:last-child::after {align-self: flex-start;width: 50%;}#sk-container-id-3 div.sk-parallel-item:only-child::after {width: 0;}#sk-container-id-3 div.sk-dashed-wrapped {border: 1px dashed gray;margin: 0 0.4em 0.5em 0.4em;box-sizing: border-box;padding-bottom: 0.4em;background-color: white;}#sk-container-id-3 div.sk-label label {font-family: monospace;font-weight: bold;display: inline-block;line-height: 1.2em;}#sk-container-id-3 div.sk-label-container {text-align: center;}#sk-container-id-3 div.sk-container {/* jupyter's `normalize.less` sets `[hidden] { display: none; }` but bootstrap.min.css set `[hidden] { display: none !important; }` so we also need the `!important` here to be able to override the default hidden behavior on the sphinx rendered scikit-learn.org. See: https://github.com/scikit-learn/scikit-learn/issues/21755 */display: inline-block !important;position: relative;}#sk-container-id-3 div.sk-text-repr-fallback {display: none;}</style><div id=\"sk-container-id-3\" class=\"sk-top-container\"><div class=\"sk-text-repr-fallback\"><pre>LGBMClassifier(objective=&#x27;binary&#x27;)</pre><b>In a Jupyter environment, please rerun this cell to show the HTML representation or trust the notebook. <br />On GitHub, the HTML representation is unable to render, please try loading this page with nbviewer.org.</b></div><div class=\"sk-container\" hidden><div class=\"sk-item\"><div class=\"sk-estimator sk-toggleable\"><input class=\"sk-toggleable__control sk-hidden--visually\" id=\"sk-estimator-id-3\" type=\"checkbox\" checked><label for=\"sk-estimator-id-3\" class=\"sk-toggleable__label sk-toggleable__label-arrow\">LGBMClassifier</label><div class=\"sk-toggleable__content\"><pre>LGBMClassifier(objective=&#x27;binary&#x27;)</pre></div></div></div></div></div>"
      ],
      "text/plain": [
       "LGBMClassifier(objective='binary')"
      ]
     },
     "execution_count": 32,
     "metadata": {},
     "output_type": "execute_result"
    }
   ],
   "source": [
    "clf = lgbm.LGBMClassifier(objective=obj_par) \n",
    "clf.fit(X_train, y_train)"
   ]
  },
  {
   "cell_type": "code",
   "execution_count": 33,
   "id": "600a663a",
   "metadata": {
    "execution": {
     "iopub.execute_input": "2023-03-10T17:28:05.959119Z",
     "iopub.status.busy": "2023-03-10T17:28:05.958009Z",
     "iopub.status.idle": "2023-03-10T17:28:06.163360Z",
     "shell.execute_reply": "2023-03-10T17:28:06.162346Z"
    },
    "papermill": {
     "duration": 0.252804,
     "end_time": "2023-03-10T17:28:06.166000",
     "exception": false,
     "start_time": "2023-03-10T17:28:05.913196",
     "status": "completed"
    },
    "tags": []
   },
   "outputs": [
    {
     "name": "stdout",
     "output_type": "stream",
     "text": [
      "              precision    recall  f1-score   support\n",
      "\n",
      "         rap       0.95      0.90      0.92      2391\n",
      "        rock       0.91      0.95      0.93      2409\n",
      "\n",
      "    accuracy                           0.93      4800\n",
      "   macro avg       0.93      0.93      0.93      4800\n",
      "weighted avg       0.93      0.93      0.93      4800\n",
      "\n"
     ]
    }
   ],
   "source": [
    "y_pred = clf.predict(X_test)\n",
    "print(classification_report(y_test, y_pred))"
   ]
  },
  {
   "cell_type": "code",
   "execution_count": 34,
   "id": "508d831d",
   "metadata": {
    "execution": {
     "iopub.execute_input": "2023-03-10T17:28:06.198161Z",
     "iopub.status.busy": "2023-03-10T17:28:06.197536Z",
     "iopub.status.idle": "2023-03-10T17:28:06.304406Z",
     "shell.execute_reply": "2023-03-10T17:28:06.303446Z"
    },
    "papermill": {
     "duration": 0.125344,
     "end_time": "2023-03-10T17:28:06.306536",
     "exception": false,
     "start_time": "2023-03-10T17:28:06.181192",
     "status": "completed"
    },
    "tags": []
   },
   "outputs": [],
   "source": [
    "acc = accuracy_score(y_test, y_pred)\n",
    "pre = precision_score(y_test, y_pred, average=avg_par)\n",
    "rec = recall_score(y_test, y_pred, average=avg_par)\n",
    "f1 = f1_score(y_test, y_pred, average=avg_par)\n",
    "\n",
    "metrics_data['Global']['LightGBM'] = {'Accuracy': acc, 'Precision': pre, 'Recall': rec, 'F1': f1}"
   ]
  },
  {
   "cell_type": "markdown",
   "id": "14b86894",
   "metadata": {
    "papermill": {
     "duration": 0.014777,
     "end_time": "2023-03-10T17:28:06.338122",
     "exception": false,
     "start_time": "2023-03-10T17:28:06.323345",
     "status": "completed"
    },
    "tags": []
   },
   "source": [
    "### Time Series Classification"
   ]
  },
  {
   "cell_type": "markdown",
   "id": "84c55533",
   "metadata": {
    "papermill": {
     "duration": 0.015935,
     "end_time": "2023-03-10T17:28:06.370014",
     "exception": false,
     "start_time": "2023-03-10T17:28:06.354079",
     "status": "completed"
    },
    "tags": []
   },
   "source": [
    "#### Learning Shapelets"
   ]
  },
  {
   "cell_type": "code",
   "execution_count": 35,
   "id": "488d8eb7",
   "metadata": {
    "execution": {
     "iopub.execute_input": "2023-03-10T17:28:06.405075Z",
     "iopub.status.busy": "2023-03-10T17:28:06.404565Z",
     "iopub.status.idle": "2023-03-10T17:28:09.282735Z",
     "shell.execute_reply": "2023-03-10T17:28:09.281912Z"
    },
    "papermill": {
     "duration": 2.898882,
     "end_time": "2023-03-10T17:28:09.285306",
     "exception": false,
     "start_time": "2023-03-10T17:28:06.386424",
     "status": "completed"
    },
    "tags": []
   },
   "outputs": [
    {
     "name": "stderr",
     "output_type": "stream",
     "text": [
      "2023-03-10 18:28:06.417987: I tensorflow/core/platform/cpu_feature_guard.cc:193] This TensorFlow binary is optimized with oneAPI Deep Neural Network Library (oneDNN) to use the following CPU instructions in performance-critical operations:  AVX2 FMA\n",
      "To enable them in other operations, rebuild TensorFlow with the appropriate compiler flags.\n",
      "2023-03-10 18:28:06.753726: W tensorflow/compiler/xla/stream_executor/platform/default/dso_loader.cc:64] Could not load dynamic library 'libcudart.so.11.0'; dlerror: libcudart.so.11.0: cannot open shared object file: No such file or directory\n",
      "2023-03-10 18:28:06.753748: I tensorflow/compiler/xla/stream_executor/cuda/cudart_stub.cc:29] Ignore above cudart dlerror if you do not have a GPU set up on your machine.\n"
     ]
    },
    {
     "name": "stderr",
     "output_type": "stream",
     "text": [
      "2023-03-10 18:28:07.902052: W tensorflow/compiler/xla/stream_executor/platform/default/dso_loader.cc:64] Could not load dynamic library 'libnvinfer.so.7'; dlerror: libnvinfer.so.7: cannot open shared object file: No such file or directory\n",
      "2023-03-10 18:28:07.902249: W tensorflow/compiler/xla/stream_executor/platform/default/dso_loader.cc:64] Could not load dynamic library 'libnvinfer_plugin.so.7'; dlerror: libnvinfer_plugin.so.7: cannot open shared object file: No such file or directory\n",
      "2023-03-10 18:28:07.902262: W tensorflow/compiler/tf2tensorrt/utils/py_utils.cc:38] TF-TRT Warning: Cannot dlopen some TensorRT libraries. If you would like to use Nvidia GPU with TensorRT, please make sure the missing libraries mentioned above are installed properly.\n"
     ]
    }
   ],
   "source": [
    "from tslearn.shapelets import LearningShapelets, grabocka_params_to_shapelet_size_dict"
   ]
  },
  {
   "cell_type": "code",
   "execution_count": 36,
   "id": "eb677959",
   "metadata": {
    "execution": {
     "iopub.execute_input": "2023-03-10T17:28:09.319674Z",
     "iopub.status.busy": "2023-03-10T17:28:09.318965Z",
     "iopub.status.idle": "2023-03-10T17:28:09.325822Z",
     "shell.execute_reply": "2023-03-10T17:28:09.324192Z"
    },
    "papermill": {
     "duration": 0.025571,
     "end_time": "2023-03-10T17:28:09.328451",
     "exception": false,
     "start_time": "2023-03-10T17:28:09.302880",
     "status": "completed"
    },
    "tags": []
   },
   "outputs": [],
   "source": [
    "n_ts, ts_sz, _ = ts_train.shape\n",
    "n_classes = len(set(y_train))"
   ]
  },
  {
   "cell_type": "code",
   "execution_count": 37,
   "id": "776ed3dd",
   "metadata": {
    "execution": {
     "iopub.execute_input": "2023-03-10T17:28:09.363091Z",
     "iopub.status.busy": "2023-03-10T17:28:09.362039Z",
     "iopub.status.idle": "2023-03-10T17:28:09.370955Z",
     "shell.execute_reply": "2023-03-10T17:28:09.369640Z"
    },
    "papermill": {
     "duration": 0.028546,
     "end_time": "2023-03-10T17:28:09.372979",
     "exception": false,
     "start_time": "2023-03-10T17:28:09.344433",
     "status": "completed"
    },
    "tags": []
   },
   "outputs": [
    {
     "name": "stdout",
     "output_type": "stream",
     "text": [
      "n_ts 19200\n",
      "ts_sz 100\n",
      "n_classes 2\n",
      "shapelet_sizes {10: 6}\n"
     ]
    }
   ],
   "source": [
    "# Set the number of shapelets per size as done in the original paper\n",
    "g_shapelet_sizes = grabocka_params_to_shapelet_size_dict(n_ts=n_ts,\n",
    "                                                         ts_sz=ts_sz,\n",
    "                                                         n_classes=n_classes,\n",
    "                                                         l=0.1,\n",
    "                                                         r=1)\n",
    "\n",
    "print('n_ts', n_ts)\n",
    "print('ts_sz', ts_sz)\n",
    "print('n_classes', n_classes)\n",
    "print('shapelet_sizes', g_shapelet_sizes)"
   ]
  },
  {
   "cell_type": "code",
   "execution_count": 38,
   "id": "90ed707e",
   "metadata": {
    "execution": {
     "iopub.execute_input": "2023-03-10T17:28:09.402821Z",
     "iopub.status.busy": "2023-03-10T17:28:09.401833Z",
     "iopub.status.idle": "2023-03-10T17:28:09.413721Z",
     "shell.execute_reply": "2023-03-10T17:28:09.412424Z"
    },
    "papermill": {
     "duration": 0.028924,
     "end_time": "2023-03-10T17:28:09.415430",
     "exception": false,
     "start_time": "2023-03-10T17:28:09.386506",
     "status": "completed"
    },
    "tags": []
   },
   "outputs": [
    {
     "data": {
      "text/plain": [
       "{10: 6, 20: 6, 5: 6}"
      ]
     },
     "execution_count": 38,
     "metadata": {},
     "output_type": "execute_result"
    }
   ],
   "source": [
    "shapelet_sizes = {}\n",
    "for key in g_shapelet_sizes:\n",
    "    shapelet_sizes[key] = g_shapelet_sizes[key]\n",
    "    shapelet_sizes[key*2] = g_shapelet_sizes[key]\n",
    "    shapelet_sizes[key//2] = g_shapelet_sizes[key]\n",
    "shapelet_sizes"
   ]
  },
  {
   "cell_type": "code",
   "execution_count": 39,
   "id": "3507fb9c",
   "metadata": {
    "execution": {
     "iopub.execute_input": "2023-03-10T17:28:09.448646Z",
     "iopub.status.busy": "2023-03-10T17:28:09.448181Z",
     "iopub.status.idle": "2023-03-10T17:28:09.456233Z",
     "shell.execute_reply": "2023-03-10T17:28:09.454653Z"
    },
    "papermill": {
     "duration": 0.027496,
     "end_time": "2023-03-10T17:28:09.458717",
     "exception": false,
     "start_time": "2023-03-10T17:28:09.431221",
     "status": "completed"
    },
    "tags": []
   },
   "outputs": [
    {
     "name": "stderr",
     "output_type": "stream",
     "text": [
      "/home/mattiapggioli/lyrics2ts/.venv/lib/python3.9/site-packages/tslearn/shapelets/shapelets.py:354: FutureWarning: The default value for 'scale' is set to False in version 0.4 to ensure backward compatibility, but is likely to change in a future version.\n",
      "  warnings.warn(\"The default value for 'scale' is set to False \"\n"
     ]
    }
   ],
   "source": [
    "model = LearningShapelets(n_shapelets_per_size=shapelet_sizes,\n",
    "                          optimizer=\"adam\", \n",
    "                          weight_regularizer=.01, \n",
    "                          max_iter=max_iter, verbose=0, random_state=42)"
   ]
  },
  {
   "cell_type": "code",
   "execution_count": 40,
   "id": "73b1fe2e",
   "metadata": {
    "execution": {
     "iopub.execute_input": "2023-03-10T17:28:09.489369Z",
     "iopub.status.busy": "2023-03-10T17:28:09.488603Z",
     "iopub.status.idle": "2023-03-10T17:54:51.126162Z",
     "shell.execute_reply": "2023-03-10T17:54:51.125126Z"
    },
    "papermill": {
     "duration": 1601.672364,
     "end_time": "2023-03-10T17:54:51.145034",
     "exception": false,
     "start_time": "2023-03-10T17:28:09.472670",
     "status": "completed"
    },
    "tags": []
   },
   "outputs": [
    {
     "name": "stderr",
     "output_type": "stream",
     "text": [
      "2023-03-10 18:28:10.161236: W tensorflow/compiler/xla/stream_executor/platform/default/dso_loader.cc:64] Could not load dynamic library 'libcuda.so.1'; dlerror: libcuda.so.1: cannot open shared object file: No such file or directory\n",
      "2023-03-10 18:28:10.161358: W tensorflow/compiler/xla/stream_executor/cuda/cuda_driver.cc:265] failed call to cuInit: UNKNOWN ERROR (303)\n",
      "2023-03-10 18:28:10.161416: I tensorflow/compiler/xla/stream_executor/cuda/cuda_diagnostics.cc:156] kernel driver does not appear to be running on this host (mattiapggioli-ThinkPad-E595): /proc/driver/nvidia/version does not exist\n",
      "2023-03-10 18:28:10.161910: I tensorflow/core/platform/cpu_feature_guard.cc:193] This TensorFlow binary is optimized with oneAPI Deep Neural Network Library (oneDNN) to use the following CPU instructions in performance-critical operations:  AVX2 FMA\n",
      "To enable them in other operations, rebuild TensorFlow with the appropriate compiler flags.\n"
     ]
    },
    {
     "name": "stdout",
     "output_type": "stream",
     "text": [
      "CPU times: user 2h 28min 9s, sys: 7min 15s, total: 2h 35min 24s\n",
      "Wall time: 26min 41s\n"
     ]
    },
    {
     "data": {
      "text/html": [
       "<style>#sk-container-id-4 {color: black;background-color: white;}#sk-container-id-4 pre{padding: 0;}#sk-container-id-4 div.sk-toggleable {background-color: white;}#sk-container-id-4 label.sk-toggleable__label {cursor: pointer;display: block;width: 100%;margin-bottom: 0;padding: 0.3em;box-sizing: border-box;text-align: center;}#sk-container-id-4 label.sk-toggleable__label-arrow:before {content: \"▸\";float: left;margin-right: 0.25em;color: #696969;}#sk-container-id-4 label.sk-toggleable__label-arrow:hover:before {color: black;}#sk-container-id-4 div.sk-estimator:hover label.sk-toggleable__label-arrow:before {color: black;}#sk-container-id-4 div.sk-toggleable__content {max-height: 0;max-width: 0;overflow: hidden;text-align: left;background-color: #f0f8ff;}#sk-container-id-4 div.sk-toggleable__content pre {margin: 0.2em;color: black;border-radius: 0.25em;background-color: #f0f8ff;}#sk-container-id-4 input.sk-toggleable__control:checked~div.sk-toggleable__content {max-height: 200px;max-width: 100%;overflow: auto;}#sk-container-id-4 input.sk-toggleable__control:checked~label.sk-toggleable__label-arrow:before {content: \"▾\";}#sk-container-id-4 div.sk-estimator input.sk-toggleable__control:checked~label.sk-toggleable__label {background-color: #d4ebff;}#sk-container-id-4 div.sk-label input.sk-toggleable__control:checked~label.sk-toggleable__label {background-color: #d4ebff;}#sk-container-id-4 input.sk-hidden--visually {border: 0;clip: rect(1px 1px 1px 1px);clip: rect(1px, 1px, 1px, 1px);height: 1px;margin: -1px;overflow: hidden;padding: 0;position: absolute;width: 1px;}#sk-container-id-4 div.sk-estimator {font-family: monospace;background-color: #f0f8ff;border: 1px dotted black;border-radius: 0.25em;box-sizing: border-box;margin-bottom: 0.5em;}#sk-container-id-4 div.sk-estimator:hover {background-color: #d4ebff;}#sk-container-id-4 div.sk-parallel-item::after {content: \"\";width: 100%;border-bottom: 1px solid gray;flex-grow: 1;}#sk-container-id-4 div.sk-label:hover label.sk-toggleable__label {background-color: #d4ebff;}#sk-container-id-4 div.sk-serial::before {content: \"\";position: absolute;border-left: 1px solid gray;box-sizing: border-box;top: 0;bottom: 0;left: 50%;z-index: 0;}#sk-container-id-4 div.sk-serial {display: flex;flex-direction: column;align-items: center;background-color: white;padding-right: 0.2em;padding-left: 0.2em;position: relative;}#sk-container-id-4 div.sk-item {position: relative;z-index: 1;}#sk-container-id-4 div.sk-parallel {display: flex;align-items: stretch;justify-content: center;background-color: white;position: relative;}#sk-container-id-4 div.sk-item::before, #sk-container-id-4 div.sk-parallel-item::before {content: \"\";position: absolute;border-left: 1px solid gray;box-sizing: border-box;top: 0;bottom: 0;left: 50%;z-index: -1;}#sk-container-id-4 div.sk-parallel-item {display: flex;flex-direction: column;z-index: 1;position: relative;background-color: white;}#sk-container-id-4 div.sk-parallel-item:first-child::after {align-self: flex-end;width: 50%;}#sk-container-id-4 div.sk-parallel-item:last-child::after {align-self: flex-start;width: 50%;}#sk-container-id-4 div.sk-parallel-item:only-child::after {width: 0;}#sk-container-id-4 div.sk-dashed-wrapped {border: 1px dashed gray;margin: 0 0.4em 0.5em 0.4em;box-sizing: border-box;padding-bottom: 0.4em;background-color: white;}#sk-container-id-4 div.sk-label label {font-family: monospace;font-weight: bold;display: inline-block;line-height: 1.2em;}#sk-container-id-4 div.sk-label-container {text-align: center;}#sk-container-id-4 div.sk-container {/* jupyter's `normalize.less` sets `[hidden] { display: none; }` but bootstrap.min.css set `[hidden] { display: none !important; }` so we also need the `!important` here to be able to override the default hidden behavior on the sphinx rendered scikit-learn.org. See: https://github.com/scikit-learn/scikit-learn/issues/21755 */display: inline-block !important;position: relative;}#sk-container-id-4 div.sk-text-repr-fallback {display: none;}</style><div id=\"sk-container-id-4\" class=\"sk-top-container\"><div class=\"sk-text-repr-fallback\"><pre>LearningShapelets(max_iter=2000, n_shapelets_per_size={5: 6, 10: 6, 20: 6},\n",
       "                  optimizer=&#x27;adam&#x27;, random_state=42, weight_regularizer=0.01)</pre><b>In a Jupyter environment, please rerun this cell to show the HTML representation or trust the notebook. <br />On GitHub, the HTML representation is unable to render, please try loading this page with nbviewer.org.</b></div><div class=\"sk-container\" hidden><div class=\"sk-item\"><div class=\"sk-estimator sk-toggleable\"><input class=\"sk-toggleable__control sk-hidden--visually\" id=\"sk-estimator-id-4\" type=\"checkbox\" checked><label for=\"sk-estimator-id-4\" class=\"sk-toggleable__label sk-toggleable__label-arrow\">LearningShapelets</label><div class=\"sk-toggleable__content\"><pre>LearningShapelets(max_iter=2000, n_shapelets_per_size={5: 6, 10: 6, 20: 6},\n",
       "                  optimizer=&#x27;adam&#x27;, random_state=42, weight_regularizer=0.01)</pre></div></div></div></div></div>"
      ],
      "text/plain": [
       "LearningShapelets(max_iter=2000, n_shapelets_per_size={5: 6, 10: 6, 20: 6},\n",
       "                  optimizer='adam', random_state=42, weight_regularizer=0.01)"
      ]
     },
     "execution_count": 40,
     "metadata": {},
     "output_type": "execute_result"
    }
   ],
   "source": [
    "%%time\n",
    "model.fit(ts_train, y_train)"
   ]
  },
  {
   "cell_type": "code",
   "execution_count": 41,
   "id": "51706baa",
   "metadata": {
    "execution": {
     "iopub.execute_input": "2023-03-10T17:54:51.178412Z",
     "iopub.status.busy": "2023-03-10T17:54:51.177455Z",
     "iopub.status.idle": "2023-03-10T17:54:51.211423Z",
     "shell.execute_reply": "2023-03-10T17:54:51.210413Z"
    },
    "papermill": {
     "duration": 0.052158,
     "end_time": "2023-03-10T17:54:51.213397",
     "exception": false,
     "start_time": "2023-03-10T17:54:51.161239",
     "status": "completed"
    },
    "tags": []
   },
   "outputs": [],
   "source": [
    "model.to_pickle(f'{data_path}/shapelets.pkl')"
   ]
  },
  {
   "cell_type": "markdown",
   "id": "309f70dc",
   "metadata": {
    "papermill": {
     "duration": 0.023672,
     "end_time": "2023-03-10T17:54:51.262090",
     "exception": false,
     "start_time": "2023-03-10T17:54:51.238418",
     "status": "completed"
    },
    "tags": []
   },
   "source": [
    "#### Shapelet-Based Classification"
   ]
  },
  {
   "cell_type": "code",
   "execution_count": 42,
   "id": "60125dff",
   "metadata": {
    "execution": {
     "iopub.execute_input": "2023-03-10T17:54:51.290114Z",
     "iopub.status.busy": "2023-03-10T17:54:51.289634Z",
     "iopub.status.idle": "2023-03-10T17:54:51.294597Z",
     "shell.execute_reply": "2023-03-10T17:54:51.293748Z"
    },
    "papermill": {
     "duration": 0.021159,
     "end_time": "2023-03-10T17:54:51.296331",
     "exception": false,
     "start_time": "2023-03-10T17:54:51.275172",
     "status": "completed"
    },
    "tags": []
   },
   "outputs": [],
   "source": [
    "metrics_data['Shapelets'] = {}"
   ]
  },
  {
   "cell_type": "code",
   "execution_count": 43,
   "id": "efb8984d",
   "metadata": {
    "execution": {
     "iopub.execute_input": "2023-03-10T17:54:51.325597Z",
     "iopub.status.busy": "2023-03-10T17:54:51.325116Z",
     "iopub.status.idle": "2023-03-10T17:54:53.216841Z",
     "shell.execute_reply": "2023-03-10T17:54:53.215753Z"
    },
    "papermill": {
     "duration": 1.910694,
     "end_time": "2023-03-10T17:54:53.220457",
     "exception": false,
     "start_time": "2023-03-10T17:54:51.309763",
     "status": "completed"
    },
    "tags": []
   },
   "outputs": [],
   "source": [
    "X_train = model.transform(ts_train)\n",
    "X_test = model.transform(ts_test)"
   ]
  },
  {
   "cell_type": "code",
   "execution_count": 44,
   "id": "2e6c0f22",
   "metadata": {
    "execution": {
     "iopub.execute_input": "2023-03-10T17:54:53.279988Z",
     "iopub.status.busy": "2023-03-10T17:54:53.279473Z",
     "iopub.status.idle": "2023-03-10T17:54:53.320276Z",
     "shell.execute_reply": "2023-03-10T17:54:53.319180Z"
    },
    "papermill": {
     "duration": 0.064303,
     "end_time": "2023-03-10T17:54:53.322578",
     "exception": false,
     "start_time": "2023-03-10T17:54:53.258275",
     "status": "completed"
    },
    "tags": []
   },
   "outputs": [
    {
     "data": {
      "text/html": [
       "<div>\n",
       "<style scoped>\n",
       "    .dataframe tbody tr th:only-of-type {\n",
       "        vertical-align: middle;\n",
       "    }\n",
       "\n",
       "    .dataframe tbody tr th {\n",
       "        vertical-align: top;\n",
       "    }\n",
       "\n",
       "    .dataframe thead th {\n",
       "        text-align: right;\n",
       "    }\n",
       "</style>\n",
       "<table border=\"1\" class=\"dataframe\">\n",
       "  <thead>\n",
       "    <tr style=\"text-align: right;\">\n",
       "      <th></th>\n",
       "      <th>0</th>\n",
       "      <th>1</th>\n",
       "      <th>2</th>\n",
       "      <th>3</th>\n",
       "      <th>4</th>\n",
       "      <th>5</th>\n",
       "      <th>6</th>\n",
       "      <th>7</th>\n",
       "      <th>8</th>\n",
       "      <th>9</th>\n",
       "      <th>10</th>\n",
       "      <th>11</th>\n",
       "      <th>12</th>\n",
       "      <th>13</th>\n",
       "      <th>14</th>\n",
       "      <th>15</th>\n",
       "      <th>16</th>\n",
       "      <th>17</th>\n",
       "    </tr>\n",
       "  </thead>\n",
       "  <tbody>\n",
       "    <tr>\n",
       "      <th>0</th>\n",
       "      <td>0.568987</td>\n",
       "      <td>0.564016</td>\n",
       "      <td>0.286969</td>\n",
       "      <td>0.425525</td>\n",
       "      <td>0.628452</td>\n",
       "      <td>8.485888</td>\n",
       "      <td>0.945390</td>\n",
       "      <td>1.759203</td>\n",
       "      <td>3.069292</td>\n",
       "      <td>1.861111</td>\n",
       "      <td>1.548630</td>\n",
       "      <td>2.708878</td>\n",
       "      <td>0.259201</td>\n",
       "      <td>0.259170</td>\n",
       "      <td>5.627540</td>\n",
       "      <td>0.259185</td>\n",
       "      <td>0.259284</td>\n",
       "      <td>0.259291</td>\n",
       "    </tr>\n",
       "    <tr>\n",
       "      <th>1</th>\n",
       "      <td>0.505662</td>\n",
       "      <td>0.325906</td>\n",
       "      <td>0.323623</td>\n",
       "      <td>0.258830</td>\n",
       "      <td>0.761490</td>\n",
       "      <td>11.936027</td>\n",
       "      <td>1.107754</td>\n",
       "      <td>1.524621</td>\n",
       "      <td>1.236210</td>\n",
       "      <td>3.492828</td>\n",
       "      <td>0.521287</td>\n",
       "      <td>1.076473</td>\n",
       "      <td>0.389543</td>\n",
       "      <td>0.389557</td>\n",
       "      <td>6.850239</td>\n",
       "      <td>0.389563</td>\n",
       "      <td>0.389546</td>\n",
       "      <td>0.389523</td>\n",
       "    </tr>\n",
       "    <tr>\n",
       "      <th>2</th>\n",
       "      <td>1.063836</td>\n",
       "      <td>0.963510</td>\n",
       "      <td>0.910067</td>\n",
       "      <td>0.297394</td>\n",
       "      <td>1.365226</td>\n",
       "      <td>11.147585</td>\n",
       "      <td>1.302720</td>\n",
       "      <td>1.801099</td>\n",
       "      <td>1.709533</td>\n",
       "      <td>2.799658</td>\n",
       "      <td>1.796851</td>\n",
       "      <td>0.767928</td>\n",
       "      <td>0.021357</td>\n",
       "      <td>0.021350</td>\n",
       "      <td>5.780683</td>\n",
       "      <td>0.021357</td>\n",
       "      <td>0.021392</td>\n",
       "      <td>0.021387</td>\n",
       "    </tr>\n",
       "    <tr>\n",
       "      <th>3</th>\n",
       "      <td>0.645651</td>\n",
       "      <td>0.359411</td>\n",
       "      <td>0.272393</td>\n",
       "      <td>0.250865</td>\n",
       "      <td>1.046647</td>\n",
       "      <td>4.483571</td>\n",
       "      <td>1.321749</td>\n",
       "      <td>0.866476</td>\n",
       "      <td>2.834026</td>\n",
       "      <td>1.182363</td>\n",
       "      <td>1.491383</td>\n",
       "      <td>2.092604</td>\n",
       "      <td>0.285113</td>\n",
       "      <td>0.285081</td>\n",
       "      <td>3.744351</td>\n",
       "      <td>0.285096</td>\n",
       "      <td>0.285200</td>\n",
       "      <td>0.285207</td>\n",
       "    </tr>\n",
       "    <tr>\n",
       "      <th>4</th>\n",
       "      <td>0.917238</td>\n",
       "      <td>1.194838</td>\n",
       "      <td>0.693901</td>\n",
       "      <td>0.157921</td>\n",
       "      <td>0.789811</td>\n",
       "      <td>11.130928</td>\n",
       "      <td>1.567894</td>\n",
       "      <td>0.916371</td>\n",
       "      <td>0.384923</td>\n",
       "      <td>3.890470</td>\n",
       "      <td>2.670546</td>\n",
       "      <td>1.005373</td>\n",
       "      <td>0.252626</td>\n",
       "      <td>0.252658</td>\n",
       "      <td>7.747079</td>\n",
       "      <td>0.252654</td>\n",
       "      <td>0.252578</td>\n",
       "      <td>0.252556</td>\n",
       "    </tr>\n",
       "    <tr>\n",
       "      <th>...</th>\n",
       "      <td>...</td>\n",
       "      <td>...</td>\n",
       "      <td>...</td>\n",
       "      <td>...</td>\n",
       "      <td>...</td>\n",
       "      <td>...</td>\n",
       "      <td>...</td>\n",
       "      <td>...</td>\n",
       "      <td>...</td>\n",
       "      <td>...</td>\n",
       "      <td>...</td>\n",
       "      <td>...</td>\n",
       "      <td>...</td>\n",
       "      <td>...</td>\n",
       "      <td>...</td>\n",
       "      <td>...</td>\n",
       "      <td>...</td>\n",
       "      <td>...</td>\n",
       "    </tr>\n",
       "    <tr>\n",
       "      <th>4795</th>\n",
       "      <td>0.723363</td>\n",
       "      <td>1.028224</td>\n",
       "      <td>0.299581</td>\n",
       "      <td>0.388727</td>\n",
       "      <td>0.777238</td>\n",
       "      <td>7.815813</td>\n",
       "      <td>1.236089</td>\n",
       "      <td>1.949965</td>\n",
       "      <td>1.643065</td>\n",
       "      <td>0.462416</td>\n",
       "      <td>0.909761</td>\n",
       "      <td>0.914594</td>\n",
       "      <td>0.279291</td>\n",
       "      <td>0.279259</td>\n",
       "      <td>4.798520</td>\n",
       "      <td>0.279273</td>\n",
       "      <td>0.279377</td>\n",
       "      <td>0.279383</td>\n",
       "    </tr>\n",
       "    <tr>\n",
       "      <th>4796</th>\n",
       "      <td>0.343210</td>\n",
       "      <td>0.573059</td>\n",
       "      <td>0.450274</td>\n",
       "      <td>0.485865</td>\n",
       "      <td>1.138198</td>\n",
       "      <td>5.950401</td>\n",
       "      <td>1.086292</td>\n",
       "      <td>0.824231</td>\n",
       "      <td>2.511151</td>\n",
       "      <td>1.830013</td>\n",
       "      <td>1.760191</td>\n",
       "      <td>2.345760</td>\n",
       "      <td>0.180092</td>\n",
       "      <td>0.180067</td>\n",
       "      <td>5.304888</td>\n",
       "      <td>0.180079</td>\n",
       "      <td>0.180164</td>\n",
       "      <td>0.180168</td>\n",
       "    </tr>\n",
       "    <tr>\n",
       "      <th>4797</th>\n",
       "      <td>0.606298</td>\n",
       "      <td>0.496401</td>\n",
       "      <td>0.629190</td>\n",
       "      <td>0.442593</td>\n",
       "      <td>0.624413</td>\n",
       "      <td>7.169761</td>\n",
       "      <td>1.359203</td>\n",
       "      <td>0.831739</td>\n",
       "      <td>0.602942</td>\n",
       "      <td>3.777552</td>\n",
       "      <td>1.199407</td>\n",
       "      <td>0.692621</td>\n",
       "      <td>0.212497</td>\n",
       "      <td>0.212512</td>\n",
       "      <td>5.110014</td>\n",
       "      <td>0.212518</td>\n",
       "      <td>0.212461</td>\n",
       "      <td>0.212470</td>\n",
       "    </tr>\n",
       "    <tr>\n",
       "      <th>4798</th>\n",
       "      <td>0.803204</td>\n",
       "      <td>0.252954</td>\n",
       "      <td>0.102290</td>\n",
       "      <td>0.399421</td>\n",
       "      <td>0.453692</td>\n",
       "      <td>8.082996</td>\n",
       "      <td>0.709937</td>\n",
       "      <td>1.159973</td>\n",
       "      <td>1.026592</td>\n",
       "      <td>1.258803</td>\n",
       "      <td>1.783112</td>\n",
       "      <td>0.772402</td>\n",
       "      <td>0.047969</td>\n",
       "      <td>0.047956</td>\n",
       "      <td>4.686950</td>\n",
       "      <td>0.047965</td>\n",
       "      <td>0.048013</td>\n",
       "      <td>0.048011</td>\n",
       "    </tr>\n",
       "    <tr>\n",
       "      <th>4799</th>\n",
       "      <td>1.000137</td>\n",
       "      <td>0.817826</td>\n",
       "      <td>0.480529</td>\n",
       "      <td>0.518503</td>\n",
       "      <td>0.622973</td>\n",
       "      <td>7.260862</td>\n",
       "      <td>1.331672</td>\n",
       "      <td>1.312484</td>\n",
       "      <td>1.963602</td>\n",
       "      <td>1.787849</td>\n",
       "      <td>1.242268</td>\n",
       "      <td>1.432512</td>\n",
       "      <td>0.270290</td>\n",
       "      <td>0.270258</td>\n",
       "      <td>5.307633</td>\n",
       "      <td>0.270273</td>\n",
       "      <td>0.270375</td>\n",
       "      <td>0.270381</td>\n",
       "    </tr>\n",
       "  </tbody>\n",
       "</table>\n",
       "<p>4800 rows × 18 columns</p>\n",
       "</div>"
      ],
      "text/plain": [
       "            0         1         2         3         4          5         6   \\\n",
       "0     0.568987  0.564016  0.286969  0.425525  0.628452   8.485888  0.945390   \n",
       "1     0.505662  0.325906  0.323623  0.258830  0.761490  11.936027  1.107754   \n",
       "2     1.063836  0.963510  0.910067  0.297394  1.365226  11.147585  1.302720   \n",
       "3     0.645651  0.359411  0.272393  0.250865  1.046647   4.483571  1.321749   \n",
       "4     0.917238  1.194838  0.693901  0.157921  0.789811  11.130928  1.567894   \n",
       "...        ...       ...       ...       ...       ...        ...       ...   \n",
       "4795  0.723363  1.028224  0.299581  0.388727  0.777238   7.815813  1.236089   \n",
       "4796  0.343210  0.573059  0.450274  0.485865  1.138198   5.950401  1.086292   \n",
       "4797  0.606298  0.496401  0.629190  0.442593  0.624413   7.169761  1.359203   \n",
       "4798  0.803204  0.252954  0.102290  0.399421  0.453692   8.082996  0.709937   \n",
       "4799  1.000137  0.817826  0.480529  0.518503  0.622973   7.260862  1.331672   \n",
       "\n",
       "            7         8         9         10        11        12        13  \\\n",
       "0     1.759203  3.069292  1.861111  1.548630  2.708878  0.259201  0.259170   \n",
       "1     1.524621  1.236210  3.492828  0.521287  1.076473  0.389543  0.389557   \n",
       "2     1.801099  1.709533  2.799658  1.796851  0.767928  0.021357  0.021350   \n",
       "3     0.866476  2.834026  1.182363  1.491383  2.092604  0.285113  0.285081   \n",
       "4     0.916371  0.384923  3.890470  2.670546  1.005373  0.252626  0.252658   \n",
       "...        ...       ...       ...       ...       ...       ...       ...   \n",
       "4795  1.949965  1.643065  0.462416  0.909761  0.914594  0.279291  0.279259   \n",
       "4796  0.824231  2.511151  1.830013  1.760191  2.345760  0.180092  0.180067   \n",
       "4797  0.831739  0.602942  3.777552  1.199407  0.692621  0.212497  0.212512   \n",
       "4798  1.159973  1.026592  1.258803  1.783112  0.772402  0.047969  0.047956   \n",
       "4799  1.312484  1.963602  1.787849  1.242268  1.432512  0.270290  0.270258   \n",
       "\n",
       "            14        15        16        17  \n",
       "0     5.627540  0.259185  0.259284  0.259291  \n",
       "1     6.850239  0.389563  0.389546  0.389523  \n",
       "2     5.780683  0.021357  0.021392  0.021387  \n",
       "3     3.744351  0.285096  0.285200  0.285207  \n",
       "4     7.747079  0.252654  0.252578  0.252556  \n",
       "...        ...       ...       ...       ...  \n",
       "4795  4.798520  0.279273  0.279377  0.279383  \n",
       "4796  5.304888  0.180079  0.180164  0.180168  \n",
       "4797  5.110014  0.212518  0.212461  0.212470  \n",
       "4798  4.686950  0.047965  0.048013  0.048011  \n",
       "4799  5.307633  0.270273  0.270375  0.270381  \n",
       "\n",
       "[4800 rows x 18 columns]"
      ]
     },
     "execution_count": 44,
     "metadata": {},
     "output_type": "execute_result"
    }
   ],
   "source": [
    "pd.DataFrame(X_test)"
   ]
  },
  {
   "cell_type": "markdown",
   "id": "5fa024f7",
   "metadata": {
    "execution": {
     "iopub.execute_input": "2023-02-07T23:47:19.876941Z",
     "iopub.status.busy": "2023-02-07T23:47:19.876424Z",
     "iopub.status.idle": "2023-02-07T23:47:20.399488Z",
     "shell.execute_reply": "2023-02-07T23:47:20.398142Z"
    },
    "papermill": {
     "duration": 0.027278,
     "end_time": "2023-03-10T17:54:53.378910",
     "exception": false,
     "start_time": "2023-03-10T17:54:53.351632",
     "status": "completed"
    },
    "tags": []
   },
   "source": [
    "**Decision Tree**"
   ]
  },
  {
   "cell_type": "code",
   "execution_count": 45,
   "id": "4f5400c9",
   "metadata": {
    "execution": {
     "iopub.execute_input": "2023-03-10T17:54:53.407145Z",
     "iopub.status.busy": "2023-03-10T17:54:53.406698Z",
     "iopub.status.idle": "2023-03-10T17:54:54.013262Z",
     "shell.execute_reply": "2023-03-10T17:54:54.012404Z"
    },
    "papermill": {
     "duration": 0.624012,
     "end_time": "2023-03-10T17:54:54.016107",
     "exception": false,
     "start_time": "2023-03-10T17:54:53.392095",
     "status": "completed"
    },
    "tags": []
   },
   "outputs": [
    {
     "data": {
      "text/html": [
       "<style>#sk-container-id-5 {color: black;background-color: white;}#sk-container-id-5 pre{padding: 0;}#sk-container-id-5 div.sk-toggleable {background-color: white;}#sk-container-id-5 label.sk-toggleable__label {cursor: pointer;display: block;width: 100%;margin-bottom: 0;padding: 0.3em;box-sizing: border-box;text-align: center;}#sk-container-id-5 label.sk-toggleable__label-arrow:before {content: \"▸\";float: left;margin-right: 0.25em;color: #696969;}#sk-container-id-5 label.sk-toggleable__label-arrow:hover:before {color: black;}#sk-container-id-5 div.sk-estimator:hover label.sk-toggleable__label-arrow:before {color: black;}#sk-container-id-5 div.sk-toggleable__content {max-height: 0;max-width: 0;overflow: hidden;text-align: left;background-color: #f0f8ff;}#sk-container-id-5 div.sk-toggleable__content pre {margin: 0.2em;color: black;border-radius: 0.25em;background-color: #f0f8ff;}#sk-container-id-5 input.sk-toggleable__control:checked~div.sk-toggleable__content {max-height: 200px;max-width: 100%;overflow: auto;}#sk-container-id-5 input.sk-toggleable__control:checked~label.sk-toggleable__label-arrow:before {content: \"▾\";}#sk-container-id-5 div.sk-estimator input.sk-toggleable__control:checked~label.sk-toggleable__label {background-color: #d4ebff;}#sk-container-id-5 div.sk-label input.sk-toggleable__control:checked~label.sk-toggleable__label {background-color: #d4ebff;}#sk-container-id-5 input.sk-hidden--visually {border: 0;clip: rect(1px 1px 1px 1px);clip: rect(1px, 1px, 1px, 1px);height: 1px;margin: -1px;overflow: hidden;padding: 0;position: absolute;width: 1px;}#sk-container-id-5 div.sk-estimator {font-family: monospace;background-color: #f0f8ff;border: 1px dotted black;border-radius: 0.25em;box-sizing: border-box;margin-bottom: 0.5em;}#sk-container-id-5 div.sk-estimator:hover {background-color: #d4ebff;}#sk-container-id-5 div.sk-parallel-item::after {content: \"\";width: 100%;border-bottom: 1px solid gray;flex-grow: 1;}#sk-container-id-5 div.sk-label:hover label.sk-toggleable__label {background-color: #d4ebff;}#sk-container-id-5 div.sk-serial::before {content: \"\";position: absolute;border-left: 1px solid gray;box-sizing: border-box;top: 0;bottom: 0;left: 50%;z-index: 0;}#sk-container-id-5 div.sk-serial {display: flex;flex-direction: column;align-items: center;background-color: white;padding-right: 0.2em;padding-left: 0.2em;position: relative;}#sk-container-id-5 div.sk-item {position: relative;z-index: 1;}#sk-container-id-5 div.sk-parallel {display: flex;align-items: stretch;justify-content: center;background-color: white;position: relative;}#sk-container-id-5 div.sk-item::before, #sk-container-id-5 div.sk-parallel-item::before {content: \"\";position: absolute;border-left: 1px solid gray;box-sizing: border-box;top: 0;bottom: 0;left: 50%;z-index: -1;}#sk-container-id-5 div.sk-parallel-item {display: flex;flex-direction: column;z-index: 1;position: relative;background-color: white;}#sk-container-id-5 div.sk-parallel-item:first-child::after {align-self: flex-end;width: 50%;}#sk-container-id-5 div.sk-parallel-item:last-child::after {align-self: flex-start;width: 50%;}#sk-container-id-5 div.sk-parallel-item:only-child::after {width: 0;}#sk-container-id-5 div.sk-dashed-wrapped {border: 1px dashed gray;margin: 0 0.4em 0.5em 0.4em;box-sizing: border-box;padding-bottom: 0.4em;background-color: white;}#sk-container-id-5 div.sk-label label {font-family: monospace;font-weight: bold;display: inline-block;line-height: 1.2em;}#sk-container-id-5 div.sk-label-container {text-align: center;}#sk-container-id-5 div.sk-container {/* jupyter's `normalize.less` sets `[hidden] { display: none; }` but bootstrap.min.css set `[hidden] { display: none !important; }` so we also need the `!important` here to be able to override the default hidden behavior on the sphinx rendered scikit-learn.org. See: https://github.com/scikit-learn/scikit-learn/issues/21755 */display: inline-block !important;position: relative;}#sk-container-id-5 div.sk-text-repr-fallback {display: none;}</style><div id=\"sk-container-id-5\" class=\"sk-top-container\"><div class=\"sk-text-repr-fallback\"><pre>DecisionTreeClassifier(random_state=42)</pre><b>In a Jupyter environment, please rerun this cell to show the HTML representation or trust the notebook. <br />On GitHub, the HTML representation is unable to render, please try loading this page with nbviewer.org.</b></div><div class=\"sk-container\" hidden><div class=\"sk-item\"><div class=\"sk-estimator sk-toggleable\"><input class=\"sk-toggleable__control sk-hidden--visually\" id=\"sk-estimator-id-5\" type=\"checkbox\" checked><label for=\"sk-estimator-id-5\" class=\"sk-toggleable__label sk-toggleable__label-arrow\">DecisionTreeClassifier</label><div class=\"sk-toggleable__content\"><pre>DecisionTreeClassifier(random_state=42)</pre></div></div></div></div></div>"
      ],
      "text/plain": [
       "DecisionTreeClassifier(random_state=42)"
      ]
     },
     "execution_count": 45,
     "metadata": {},
     "output_type": "execute_result"
    }
   ],
   "source": [
    "clf = DecisionTreeClassifier(random_state=42)\n",
    "clf.fit(X_train, y_train)"
   ]
  },
  {
   "cell_type": "code",
   "execution_count": 46,
   "id": "3b56d190",
   "metadata": {
    "execution": {
     "iopub.execute_input": "2023-03-10T17:54:54.046428Z",
     "iopub.status.busy": "2023-03-10T17:54:54.046026Z",
     "iopub.status.idle": "2023-03-10T17:54:54.182675Z",
     "shell.execute_reply": "2023-03-10T17:54:54.181591Z"
    },
    "papermill": {
     "duration": 0.154223,
     "end_time": "2023-03-10T17:54:54.185630",
     "exception": false,
     "start_time": "2023-03-10T17:54:54.031407",
     "status": "completed"
    },
    "tags": []
   },
   "outputs": [
    {
     "name": "stdout",
     "output_type": "stream",
     "text": [
      "              precision    recall  f1-score   support\n",
      "\n",
      "         rap       0.74      0.74      0.74      2391\n",
      "        rock       0.74      0.74      0.74      2409\n",
      "\n",
      "    accuracy                           0.74      4800\n",
      "   macro avg       0.74      0.74      0.74      4800\n",
      "weighted avg       0.74      0.74      0.74      4800\n",
      "\n"
     ]
    }
   ],
   "source": [
    "y_pred = clf.predict(X_test)\n",
    "print(classification_report(y_test, y_pred))"
   ]
  },
  {
   "cell_type": "code",
   "execution_count": 47,
   "id": "42bc91ff",
   "metadata": {
    "execution": {
     "iopub.execute_input": "2023-03-10T17:54:54.262440Z",
     "iopub.status.busy": "2023-03-10T17:54:54.262144Z",
     "iopub.status.idle": "2023-03-10T17:54:54.268014Z",
     "shell.execute_reply": "2023-03-10T17:54:54.266876Z"
    },
    "papermill": {
     "duration": 0.046477,
     "end_time": "2023-03-10T17:54:54.269781",
     "exception": false,
     "start_time": "2023-03-10T17:54:54.223304",
     "status": "completed"
    },
    "tags": []
   },
   "outputs": [],
   "source": [
    "pickle.dump(clf, open(f'{data_path}/decision_tree.pkl', 'wb'))"
   ]
  },
  {
   "cell_type": "code",
   "execution_count": 48,
   "id": "ea9be210",
   "metadata": {
    "execution": {
     "iopub.execute_input": "2023-03-10T17:54:54.298671Z",
     "iopub.status.busy": "2023-03-10T17:54:54.298205Z",
     "iopub.status.idle": "2023-03-10T17:54:54.440555Z",
     "shell.execute_reply": "2023-03-10T17:54:54.439515Z"
    },
    "papermill": {
     "duration": 0.160378,
     "end_time": "2023-03-10T17:54:54.443605",
     "exception": false,
     "start_time": "2023-03-10T17:54:54.283227",
     "status": "completed"
    },
    "tags": []
   },
   "outputs": [],
   "source": [
    "acc = accuracy_score(y_test, y_pred)\n",
    "pre = precision_score(y_test, y_pred, average=avg_par)\n",
    "rec = recall_score(y_test, y_pred, average=avg_par)\n",
    "f1 = f1_score(y_test, y_pred, average=avg_par)\n",
    "\n",
    "metrics_data['Shapelets']['DecisionTree'] = {'Accuracy': acc, 'Precision': pre, 'Recall': rec, 'F1': f1}"
   ]
  },
  {
   "cell_type": "markdown",
   "id": "3ca3443b",
   "metadata": {
    "papermill": {
     "duration": 0.034461,
     "end_time": "2023-03-10T17:54:54.516254",
     "exception": false,
     "start_time": "2023-03-10T17:54:54.481793",
     "status": "completed"
    },
    "tags": []
   },
   "source": [
    "**Random Forest**"
   ]
  },
  {
   "cell_type": "code",
   "execution_count": 49,
   "id": "37795e21",
   "metadata": {
    "execution": {
     "iopub.execute_input": "2023-03-10T17:54:54.549974Z",
     "iopub.status.busy": "2023-03-10T17:54:54.549542Z",
     "iopub.status.idle": "2023-03-10T17:55:02.295009Z",
     "shell.execute_reply": "2023-03-10T17:55:02.293918Z"
    },
    "papermill": {
     "duration": 7.762283,
     "end_time": "2023-03-10T17:55:02.296829",
     "exception": false,
     "start_time": "2023-03-10T17:54:54.534546",
     "status": "completed"
    },
    "tags": []
   },
   "outputs": [
    {
     "data": {
      "text/html": [
       "<style>#sk-container-id-6 {color: black;background-color: white;}#sk-container-id-6 pre{padding: 0;}#sk-container-id-6 div.sk-toggleable {background-color: white;}#sk-container-id-6 label.sk-toggleable__label {cursor: pointer;display: block;width: 100%;margin-bottom: 0;padding: 0.3em;box-sizing: border-box;text-align: center;}#sk-container-id-6 label.sk-toggleable__label-arrow:before {content: \"▸\";float: left;margin-right: 0.25em;color: #696969;}#sk-container-id-6 label.sk-toggleable__label-arrow:hover:before {color: black;}#sk-container-id-6 div.sk-estimator:hover label.sk-toggleable__label-arrow:before {color: black;}#sk-container-id-6 div.sk-toggleable__content {max-height: 0;max-width: 0;overflow: hidden;text-align: left;background-color: #f0f8ff;}#sk-container-id-6 div.sk-toggleable__content pre {margin: 0.2em;color: black;border-radius: 0.25em;background-color: #f0f8ff;}#sk-container-id-6 input.sk-toggleable__control:checked~div.sk-toggleable__content {max-height: 200px;max-width: 100%;overflow: auto;}#sk-container-id-6 input.sk-toggleable__control:checked~label.sk-toggleable__label-arrow:before {content: \"▾\";}#sk-container-id-6 div.sk-estimator input.sk-toggleable__control:checked~label.sk-toggleable__label {background-color: #d4ebff;}#sk-container-id-6 div.sk-label input.sk-toggleable__control:checked~label.sk-toggleable__label {background-color: #d4ebff;}#sk-container-id-6 input.sk-hidden--visually {border: 0;clip: rect(1px 1px 1px 1px);clip: rect(1px, 1px, 1px, 1px);height: 1px;margin: -1px;overflow: hidden;padding: 0;position: absolute;width: 1px;}#sk-container-id-6 div.sk-estimator {font-family: monospace;background-color: #f0f8ff;border: 1px dotted black;border-radius: 0.25em;box-sizing: border-box;margin-bottom: 0.5em;}#sk-container-id-6 div.sk-estimator:hover {background-color: #d4ebff;}#sk-container-id-6 div.sk-parallel-item::after {content: \"\";width: 100%;border-bottom: 1px solid gray;flex-grow: 1;}#sk-container-id-6 div.sk-label:hover label.sk-toggleable__label {background-color: #d4ebff;}#sk-container-id-6 div.sk-serial::before {content: \"\";position: absolute;border-left: 1px solid gray;box-sizing: border-box;top: 0;bottom: 0;left: 50%;z-index: 0;}#sk-container-id-6 div.sk-serial {display: flex;flex-direction: column;align-items: center;background-color: white;padding-right: 0.2em;padding-left: 0.2em;position: relative;}#sk-container-id-6 div.sk-item {position: relative;z-index: 1;}#sk-container-id-6 div.sk-parallel {display: flex;align-items: stretch;justify-content: center;background-color: white;position: relative;}#sk-container-id-6 div.sk-item::before, #sk-container-id-6 div.sk-parallel-item::before {content: \"\";position: absolute;border-left: 1px solid gray;box-sizing: border-box;top: 0;bottom: 0;left: 50%;z-index: -1;}#sk-container-id-6 div.sk-parallel-item {display: flex;flex-direction: column;z-index: 1;position: relative;background-color: white;}#sk-container-id-6 div.sk-parallel-item:first-child::after {align-self: flex-end;width: 50%;}#sk-container-id-6 div.sk-parallel-item:last-child::after {align-self: flex-start;width: 50%;}#sk-container-id-6 div.sk-parallel-item:only-child::after {width: 0;}#sk-container-id-6 div.sk-dashed-wrapped {border: 1px dashed gray;margin: 0 0.4em 0.5em 0.4em;box-sizing: border-box;padding-bottom: 0.4em;background-color: white;}#sk-container-id-6 div.sk-label label {font-family: monospace;font-weight: bold;display: inline-block;line-height: 1.2em;}#sk-container-id-6 div.sk-label-container {text-align: center;}#sk-container-id-6 div.sk-container {/* jupyter's `normalize.less` sets `[hidden] { display: none; }` but bootstrap.min.css set `[hidden] { display: none !important; }` so we also need the `!important` here to be able to override the default hidden behavior on the sphinx rendered scikit-learn.org. See: https://github.com/scikit-learn/scikit-learn/issues/21755 */display: inline-block !important;position: relative;}#sk-container-id-6 div.sk-text-repr-fallback {display: none;}</style><div id=\"sk-container-id-6\" class=\"sk-top-container\"><div class=\"sk-text-repr-fallback\"><pre>RandomForestClassifier(random_state=42)</pre><b>In a Jupyter environment, please rerun this cell to show the HTML representation or trust the notebook. <br />On GitHub, the HTML representation is unable to render, please try loading this page with nbviewer.org.</b></div><div class=\"sk-container\" hidden><div class=\"sk-item\"><div class=\"sk-estimator sk-toggleable\"><input class=\"sk-toggleable__control sk-hidden--visually\" id=\"sk-estimator-id-6\" type=\"checkbox\" checked><label for=\"sk-estimator-id-6\" class=\"sk-toggleable__label sk-toggleable__label-arrow\">RandomForestClassifier</label><div class=\"sk-toggleable__content\"><pre>RandomForestClassifier(random_state=42)</pre></div></div></div></div></div>"
      ],
      "text/plain": [
       "RandomForestClassifier(random_state=42)"
      ]
     },
     "execution_count": 49,
     "metadata": {},
     "output_type": "execute_result"
    }
   ],
   "source": [
    "clf = RandomForestClassifier(random_state=42)\n",
    "clf.fit(X_train, y_train)"
   ]
  },
  {
   "cell_type": "code",
   "execution_count": 50,
   "id": "581ab90a",
   "metadata": {
    "execution": {
     "iopub.execute_input": "2023-03-10T17:55:02.326709Z",
     "iopub.status.busy": "2023-03-10T17:55:02.326363Z",
     "iopub.status.idle": "2023-03-10T17:55:02.537228Z",
     "shell.execute_reply": "2023-03-10T17:55:02.536235Z"
    },
    "papermill": {
     "duration": 0.22923,
     "end_time": "2023-03-10T17:55:02.540074",
     "exception": false,
     "start_time": "2023-03-10T17:55:02.310844",
     "status": "completed"
    },
    "tags": []
   },
   "outputs": [
    {
     "name": "stdout",
     "output_type": "stream",
     "text": [
      "              precision    recall  f1-score   support\n",
      "\n",
      "         rap       0.84      0.80      0.82      2391\n",
      "        rock       0.81      0.85      0.83      2409\n",
      "\n",
      "    accuracy                           0.83      4800\n",
      "   macro avg       0.83      0.83      0.83      4800\n",
      "weighted avg       0.83      0.83      0.83      4800\n",
      "\n"
     ]
    }
   ],
   "source": [
    "y_pred = clf.predict(X_test)\n",
    "print(classification_report(y_test, y_pred))"
   ]
  },
  {
   "cell_type": "code",
   "execution_count": 51,
   "id": "faf1d7f4",
   "metadata": {
    "execution": {
     "iopub.execute_input": "2023-03-10T17:55:02.619434Z",
     "iopub.status.busy": "2023-03-10T17:55:02.618944Z",
     "iopub.status.idle": "2023-03-10T17:55:02.751832Z",
     "shell.execute_reply": "2023-03-10T17:55:02.750984Z"
    },
    "papermill": {
     "duration": 0.172622,
     "end_time": "2023-03-10T17:55:02.754661",
     "exception": false,
     "start_time": "2023-03-10T17:55:02.582039",
     "status": "completed"
    },
    "tags": []
   },
   "outputs": [],
   "source": [
    "acc = accuracy_score(y_test, y_pred)\n",
    "pre = precision_score(y_test, y_pred, average=avg_par)\n",
    "rec = recall_score(y_test, y_pred, average=avg_par)\n",
    "f1 = f1_score(y_test, y_pred, average=avg_par)\n",
    "\n",
    "metrics_data['Shapelets']['RandomForest'] = {'Accuracy': acc, 'Precision': pre, 'Recall': rec, 'F1': f1}"
   ]
  },
  {
   "cell_type": "markdown",
   "id": "61fceefb",
   "metadata": {
    "papermill": {
     "duration": 0.038588,
     "end_time": "2023-03-10T17:55:02.831971",
     "exception": false,
     "start_time": "2023-03-10T17:55:02.793383",
     "status": "completed"
    },
    "tags": []
   },
   "source": [
    "**LightGBM**"
   ]
  },
  {
   "cell_type": "code",
   "execution_count": 52,
   "id": "194189da",
   "metadata": {
    "execution": {
     "iopub.execute_input": "2023-03-10T17:55:02.861695Z",
     "iopub.status.busy": "2023-03-10T17:55:02.861214Z",
     "iopub.status.idle": "2023-03-10T17:55:03.084428Z",
     "shell.execute_reply": "2023-03-10T17:55:03.083545Z"
    },
    "papermill": {
     "duration": 0.24079,
     "end_time": "2023-03-10T17:55:03.086379",
     "exception": false,
     "start_time": "2023-03-10T17:55:02.845589",
     "status": "completed"
    },
    "tags": []
   },
   "outputs": [
    {
     "data": {
      "text/html": [
       "<style>#sk-container-id-7 {color: black;background-color: white;}#sk-container-id-7 pre{padding: 0;}#sk-container-id-7 div.sk-toggleable {background-color: white;}#sk-container-id-7 label.sk-toggleable__label {cursor: pointer;display: block;width: 100%;margin-bottom: 0;padding: 0.3em;box-sizing: border-box;text-align: center;}#sk-container-id-7 label.sk-toggleable__label-arrow:before {content: \"▸\";float: left;margin-right: 0.25em;color: #696969;}#sk-container-id-7 label.sk-toggleable__label-arrow:hover:before {color: black;}#sk-container-id-7 div.sk-estimator:hover label.sk-toggleable__label-arrow:before {color: black;}#sk-container-id-7 div.sk-toggleable__content {max-height: 0;max-width: 0;overflow: hidden;text-align: left;background-color: #f0f8ff;}#sk-container-id-7 div.sk-toggleable__content pre {margin: 0.2em;color: black;border-radius: 0.25em;background-color: #f0f8ff;}#sk-container-id-7 input.sk-toggleable__control:checked~div.sk-toggleable__content {max-height: 200px;max-width: 100%;overflow: auto;}#sk-container-id-7 input.sk-toggleable__control:checked~label.sk-toggleable__label-arrow:before {content: \"▾\";}#sk-container-id-7 div.sk-estimator input.sk-toggleable__control:checked~label.sk-toggleable__label {background-color: #d4ebff;}#sk-container-id-7 div.sk-label input.sk-toggleable__control:checked~label.sk-toggleable__label {background-color: #d4ebff;}#sk-container-id-7 input.sk-hidden--visually {border: 0;clip: rect(1px 1px 1px 1px);clip: rect(1px, 1px, 1px, 1px);height: 1px;margin: -1px;overflow: hidden;padding: 0;position: absolute;width: 1px;}#sk-container-id-7 div.sk-estimator {font-family: monospace;background-color: #f0f8ff;border: 1px dotted black;border-radius: 0.25em;box-sizing: border-box;margin-bottom: 0.5em;}#sk-container-id-7 div.sk-estimator:hover {background-color: #d4ebff;}#sk-container-id-7 div.sk-parallel-item::after {content: \"\";width: 100%;border-bottom: 1px solid gray;flex-grow: 1;}#sk-container-id-7 div.sk-label:hover label.sk-toggleable__label {background-color: #d4ebff;}#sk-container-id-7 div.sk-serial::before {content: \"\";position: absolute;border-left: 1px solid gray;box-sizing: border-box;top: 0;bottom: 0;left: 50%;z-index: 0;}#sk-container-id-7 div.sk-serial {display: flex;flex-direction: column;align-items: center;background-color: white;padding-right: 0.2em;padding-left: 0.2em;position: relative;}#sk-container-id-7 div.sk-item {position: relative;z-index: 1;}#sk-container-id-7 div.sk-parallel {display: flex;align-items: stretch;justify-content: center;background-color: white;position: relative;}#sk-container-id-7 div.sk-item::before, #sk-container-id-7 div.sk-parallel-item::before {content: \"\";position: absolute;border-left: 1px solid gray;box-sizing: border-box;top: 0;bottom: 0;left: 50%;z-index: -1;}#sk-container-id-7 div.sk-parallel-item {display: flex;flex-direction: column;z-index: 1;position: relative;background-color: white;}#sk-container-id-7 div.sk-parallel-item:first-child::after {align-self: flex-end;width: 50%;}#sk-container-id-7 div.sk-parallel-item:last-child::after {align-self: flex-start;width: 50%;}#sk-container-id-7 div.sk-parallel-item:only-child::after {width: 0;}#sk-container-id-7 div.sk-dashed-wrapped {border: 1px dashed gray;margin: 0 0.4em 0.5em 0.4em;box-sizing: border-box;padding-bottom: 0.4em;background-color: white;}#sk-container-id-7 div.sk-label label {font-family: monospace;font-weight: bold;display: inline-block;line-height: 1.2em;}#sk-container-id-7 div.sk-label-container {text-align: center;}#sk-container-id-7 div.sk-container {/* jupyter's `normalize.less` sets `[hidden] { display: none; }` but bootstrap.min.css set `[hidden] { display: none !important; }` so we also need the `!important` here to be able to override the default hidden behavior on the sphinx rendered scikit-learn.org. See: https://github.com/scikit-learn/scikit-learn/issues/21755 */display: inline-block !important;position: relative;}#sk-container-id-7 div.sk-text-repr-fallback {display: none;}</style><div id=\"sk-container-id-7\" class=\"sk-top-container\"><div class=\"sk-text-repr-fallback\"><pre>LGBMClassifier(objective=&#x27;binary&#x27;)</pre><b>In a Jupyter environment, please rerun this cell to show the HTML representation or trust the notebook. <br />On GitHub, the HTML representation is unable to render, please try loading this page with nbviewer.org.</b></div><div class=\"sk-container\" hidden><div class=\"sk-item\"><div class=\"sk-estimator sk-toggleable\"><input class=\"sk-toggleable__control sk-hidden--visually\" id=\"sk-estimator-id-7\" type=\"checkbox\" checked><label for=\"sk-estimator-id-7\" class=\"sk-toggleable__label sk-toggleable__label-arrow\">LGBMClassifier</label><div class=\"sk-toggleable__content\"><pre>LGBMClassifier(objective=&#x27;binary&#x27;)</pre></div></div></div></div></div>"
      ],
      "text/plain": [
       "LGBMClassifier(objective='binary')"
      ]
     },
     "execution_count": 52,
     "metadata": {},
     "output_type": "execute_result"
    }
   ],
   "source": [
    "clf = lgbm.LGBMClassifier(objective=obj_par) \n",
    "clf.fit(X_train, y_train)"
   ]
  },
  {
   "cell_type": "code",
   "execution_count": 53,
   "id": "355a078b",
   "metadata": {
    "execution": {
     "iopub.execute_input": "2023-03-10T17:55:03.120476Z",
     "iopub.status.busy": "2023-03-10T17:55:03.120066Z",
     "iopub.status.idle": "2023-03-10T17:55:03.259791Z",
     "shell.execute_reply": "2023-03-10T17:55:03.258855Z"
    },
    "papermill": {
     "duration": 0.159773,
     "end_time": "2023-03-10T17:55:03.262629",
     "exception": false,
     "start_time": "2023-03-10T17:55:03.102856",
     "status": "completed"
    },
    "tags": []
   },
   "outputs": [
    {
     "name": "stdout",
     "output_type": "stream",
     "text": [
      "              precision    recall  f1-score   support\n",
      "\n",
      "         rap       0.83      0.82      0.83      2391\n",
      "        rock       0.82      0.84      0.83      2409\n",
      "\n",
      "    accuracy                           0.83      4800\n",
      "   macro avg       0.83      0.83      0.83      4800\n",
      "weighted avg       0.83      0.83      0.83      4800\n",
      "\n"
     ]
    }
   ],
   "source": [
    "y_pred = clf.predict(X_test)\n",
    "print(classification_report(y_test, y_pred))"
   ]
  },
  {
   "cell_type": "code",
   "execution_count": 54,
   "id": "f22b911e",
   "metadata": {
    "execution": {
     "iopub.execute_input": "2023-03-10T17:55:03.342635Z",
     "iopub.status.busy": "2023-03-10T17:55:03.342227Z",
     "iopub.status.idle": "2023-03-10T17:55:03.476510Z",
     "shell.execute_reply": "2023-03-10T17:55:03.475653Z"
    },
    "papermill": {
     "duration": 0.176483,
     "end_time": "2023-03-10T17:55:03.478401",
     "exception": false,
     "start_time": "2023-03-10T17:55:03.301918",
     "status": "completed"
    },
    "tags": []
   },
   "outputs": [],
   "source": [
    "acc = accuracy_score(y_test, y_pred)\n",
    "pre = precision_score(y_test, y_pred, average=avg_par)\n",
    "rec = recall_score(y_test, y_pred, average=avg_par)\n",
    "f1 = f1_score(y_test, y_pred, average=avg_par)\n",
    "\n",
    "metrics_data['Shapelets']['LightGBM'] = {'Accuracy': acc, 'Precision': pre, 'Recall': rec, 'F1': f1}"
   ]
  },
  {
   "cell_type": "markdown",
   "id": "0809af9f",
   "metadata": {
    "papermill": {
     "duration": 0.014438,
     "end_time": "2023-03-10T17:55:03.509755",
     "exception": false,
     "start_time": "2023-03-10T17:55:03.495317",
     "status": "completed"
    },
    "tags": []
   },
   "source": [
    "#### KNN"
   ]
  },
  {
   "cell_type": "code",
   "execution_count": 55,
   "id": "1c9237e0",
   "metadata": {
    "execution": {
     "iopub.execute_input": "2023-03-10T17:55:03.539783Z",
     "iopub.status.busy": "2023-03-10T17:55:03.539332Z",
     "iopub.status.idle": "2023-03-10T17:55:03.544679Z",
     "shell.execute_reply": "2023-03-10T17:55:03.543756Z"
    },
    "papermill": {
     "duration": 0.022232,
     "end_time": "2023-03-10T17:55:03.546230",
     "exception": false,
     "start_time": "2023-03-10T17:55:03.523998",
     "status": "completed"
    },
    "tags": []
   },
   "outputs": [],
   "source": [
    "X_train = ts_train.reshape((ts_train.shape[0], ts_train.shape[1]))\n",
    "X_test = ts_test.reshape((ts_test.shape[0], ts_test.shape[1]))"
   ]
  },
  {
   "cell_type": "code",
   "execution_count": 56,
   "id": "192f3c3f",
   "metadata": {
    "execution": {
     "iopub.execute_input": "2023-03-10T17:55:03.577005Z",
     "iopub.status.busy": "2023-03-10T17:55:03.576597Z",
     "iopub.status.idle": "2023-03-10T17:55:03.582904Z",
     "shell.execute_reply": "2023-03-10T17:55:03.581915Z"
    },
    "papermill": {
     "duration": 0.023675,
     "end_time": "2023-03-10T17:55:03.584618",
     "exception": false,
     "start_time": "2023-03-10T17:55:03.560943",
     "status": "completed"
    },
    "tags": []
   },
   "outputs": [
    {
     "data": {
      "text/plain": [
       "(19200, 100)"
      ]
     },
     "execution_count": 56,
     "metadata": {},
     "output_type": "execute_result"
    }
   ],
   "source": [
    "X_train.shape"
   ]
  },
  {
   "cell_type": "code",
   "execution_count": 57,
   "id": "de0e5000",
   "metadata": {
    "execution": {
     "iopub.execute_input": "2023-03-10T17:55:03.615793Z",
     "iopub.status.busy": "2023-03-10T17:55:03.615260Z",
     "iopub.status.idle": "2023-03-10T17:55:03.620755Z",
     "shell.execute_reply": "2023-03-10T17:55:03.619631Z"
    },
    "papermill": {
     "duration": 0.02367,
     "end_time": "2023-03-10T17:55:03.622440",
     "exception": false,
     "start_time": "2023-03-10T17:55:03.598770",
     "status": "completed"
    },
    "tags": []
   },
   "outputs": [],
   "source": [
    "metrics_data['KNN'] = {}"
   ]
  },
  {
   "cell_type": "markdown",
   "id": "8ee39c05",
   "metadata": {
    "papermill": {
     "duration": 0.014338,
     "end_time": "2023-03-10T17:55:03.650973",
     "exception": false,
     "start_time": "2023-03-10T17:55:03.636635",
     "status": "completed"
    },
    "tags": []
   },
   "source": [
    "**Euclidean Distance**"
   ]
  },
  {
   "cell_type": "code",
   "execution_count": 58,
   "id": "55db1f58",
   "metadata": {
    "execution": {
     "iopub.execute_input": "2023-03-10T17:55:03.682743Z",
     "iopub.status.busy": "2023-03-10T17:55:03.682252Z",
     "iopub.status.idle": "2023-03-10T17:55:03.687753Z",
     "shell.execute_reply": "2023-03-10T17:55:03.686648Z"
    },
    "papermill": {
     "duration": 0.0235,
     "end_time": "2023-03-10T17:55:03.689569",
     "exception": false,
     "start_time": "2023-03-10T17:55:03.666069",
     "status": "completed"
    },
    "tags": []
   },
   "outputs": [],
   "source": [
    "from sklearn.neighbors import KNeighborsClassifier"
   ]
  },
  {
   "cell_type": "code",
   "execution_count": 59,
   "id": "132c2537",
   "metadata": {
    "execution": {
     "iopub.execute_input": "2023-03-10T17:55:03.721802Z",
     "iopub.status.busy": "2023-03-10T17:55:03.721142Z",
     "iopub.status.idle": "2023-03-10T17:55:03.774869Z",
     "shell.execute_reply": "2023-03-10T17:55:03.773349Z"
    },
    "papermill": {
     "duration": 0.074129,
     "end_time": "2023-03-10T17:55:03.778051",
     "exception": false,
     "start_time": "2023-03-10T17:55:03.703922",
     "status": "completed"
    },
    "tags": []
   },
   "outputs": [
    {
     "data": {
      "text/html": [
       "<style>#sk-container-id-8 {color: black;background-color: white;}#sk-container-id-8 pre{padding: 0;}#sk-container-id-8 div.sk-toggleable {background-color: white;}#sk-container-id-8 label.sk-toggleable__label {cursor: pointer;display: block;width: 100%;margin-bottom: 0;padding: 0.3em;box-sizing: border-box;text-align: center;}#sk-container-id-8 label.sk-toggleable__label-arrow:before {content: \"▸\";float: left;margin-right: 0.25em;color: #696969;}#sk-container-id-8 label.sk-toggleable__label-arrow:hover:before {color: black;}#sk-container-id-8 div.sk-estimator:hover label.sk-toggleable__label-arrow:before {color: black;}#sk-container-id-8 div.sk-toggleable__content {max-height: 0;max-width: 0;overflow: hidden;text-align: left;background-color: #f0f8ff;}#sk-container-id-8 div.sk-toggleable__content pre {margin: 0.2em;color: black;border-radius: 0.25em;background-color: #f0f8ff;}#sk-container-id-8 input.sk-toggleable__control:checked~div.sk-toggleable__content {max-height: 200px;max-width: 100%;overflow: auto;}#sk-container-id-8 input.sk-toggleable__control:checked~label.sk-toggleable__label-arrow:before {content: \"▾\";}#sk-container-id-8 div.sk-estimator input.sk-toggleable__control:checked~label.sk-toggleable__label {background-color: #d4ebff;}#sk-container-id-8 div.sk-label input.sk-toggleable__control:checked~label.sk-toggleable__label {background-color: #d4ebff;}#sk-container-id-8 input.sk-hidden--visually {border: 0;clip: rect(1px 1px 1px 1px);clip: rect(1px, 1px, 1px, 1px);height: 1px;margin: -1px;overflow: hidden;padding: 0;position: absolute;width: 1px;}#sk-container-id-8 div.sk-estimator {font-family: monospace;background-color: #f0f8ff;border: 1px dotted black;border-radius: 0.25em;box-sizing: border-box;margin-bottom: 0.5em;}#sk-container-id-8 div.sk-estimator:hover {background-color: #d4ebff;}#sk-container-id-8 div.sk-parallel-item::after {content: \"\";width: 100%;border-bottom: 1px solid gray;flex-grow: 1;}#sk-container-id-8 div.sk-label:hover label.sk-toggleable__label {background-color: #d4ebff;}#sk-container-id-8 div.sk-serial::before {content: \"\";position: absolute;border-left: 1px solid gray;box-sizing: border-box;top: 0;bottom: 0;left: 50%;z-index: 0;}#sk-container-id-8 div.sk-serial {display: flex;flex-direction: column;align-items: center;background-color: white;padding-right: 0.2em;padding-left: 0.2em;position: relative;}#sk-container-id-8 div.sk-item {position: relative;z-index: 1;}#sk-container-id-8 div.sk-parallel {display: flex;align-items: stretch;justify-content: center;background-color: white;position: relative;}#sk-container-id-8 div.sk-item::before, #sk-container-id-8 div.sk-parallel-item::before {content: \"\";position: absolute;border-left: 1px solid gray;box-sizing: border-box;top: 0;bottom: 0;left: 50%;z-index: -1;}#sk-container-id-8 div.sk-parallel-item {display: flex;flex-direction: column;z-index: 1;position: relative;background-color: white;}#sk-container-id-8 div.sk-parallel-item:first-child::after {align-self: flex-end;width: 50%;}#sk-container-id-8 div.sk-parallel-item:last-child::after {align-self: flex-start;width: 50%;}#sk-container-id-8 div.sk-parallel-item:only-child::after {width: 0;}#sk-container-id-8 div.sk-dashed-wrapped {border: 1px dashed gray;margin: 0 0.4em 0.5em 0.4em;box-sizing: border-box;padding-bottom: 0.4em;background-color: white;}#sk-container-id-8 div.sk-label label {font-family: monospace;font-weight: bold;display: inline-block;line-height: 1.2em;}#sk-container-id-8 div.sk-label-container {text-align: center;}#sk-container-id-8 div.sk-container {/* jupyter's `normalize.less` sets `[hidden] { display: none; }` but bootstrap.min.css set `[hidden] { display: none !important; }` so we also need the `!important` here to be able to override the default hidden behavior on the sphinx rendered scikit-learn.org. See: https://github.com/scikit-learn/scikit-learn/issues/21755 */display: inline-block !important;position: relative;}#sk-container-id-8 div.sk-text-repr-fallback {display: none;}</style><div id=\"sk-container-id-8\" class=\"sk-top-container\"><div class=\"sk-text-repr-fallback\"><pre>KNeighborsClassifier()</pre><b>In a Jupyter environment, please rerun this cell to show the HTML representation or trust the notebook. <br />On GitHub, the HTML representation is unable to render, please try loading this page with nbviewer.org.</b></div><div class=\"sk-container\" hidden><div class=\"sk-item\"><div class=\"sk-estimator sk-toggleable\"><input class=\"sk-toggleable__control sk-hidden--visually\" id=\"sk-estimator-id-8\" type=\"checkbox\" checked><label for=\"sk-estimator-id-8\" class=\"sk-toggleable__label sk-toggleable__label-arrow\">KNeighborsClassifier</label><div class=\"sk-toggleable__content\"><pre>KNeighborsClassifier()</pre></div></div></div></div></div>"
      ],
      "text/plain": [
       "KNeighborsClassifier()"
      ]
     },
     "execution_count": 59,
     "metadata": {},
     "output_type": "execute_result"
    }
   ],
   "source": [
    "clf = KNeighborsClassifier(n_neighbors=5, weights='uniform')\n",
    "clf.fit(X_train, y_train)"
   ]
  },
  {
   "cell_type": "code",
   "execution_count": 60,
   "id": "0afad62a",
   "metadata": {
    "execution": {
     "iopub.execute_input": "2023-03-10T17:55:03.846154Z",
     "iopub.status.busy": "2023-03-10T17:55:03.845725Z",
     "iopub.status.idle": "2023-03-10T17:55:05.102166Z",
     "shell.execute_reply": "2023-03-10T17:55:05.100747Z"
    },
    "papermill": {
     "duration": 1.291215,
     "end_time": "2023-03-10T17:55:05.105296",
     "exception": false,
     "start_time": "2023-03-10T17:55:03.814081",
     "status": "completed"
    },
    "tags": []
   },
   "outputs": [
    {
     "name": "stdout",
     "output_type": "stream",
     "text": [
      "              precision    recall  f1-score   support\n",
      "\n",
      "         rap       0.85      0.14      0.24      2391\n",
      "        rock       0.53      0.97      0.69      2409\n",
      "\n",
      "    accuracy                           0.56      4800\n",
      "   macro avg       0.69      0.56      0.47      4800\n",
      "weighted avg       0.69      0.56      0.47      4800\n",
      "\n"
     ]
    }
   ],
   "source": [
    "y_pred = clf.predict(X_test)\n",
    "print(classification_report(y_test, y_pred))"
   ]
  },
  {
   "cell_type": "code",
   "execution_count": 61,
   "id": "2d709070",
   "metadata": {
    "execution": {
     "iopub.execute_input": "2023-03-10T17:55:05.185581Z",
     "iopub.status.busy": "2023-03-10T17:55:05.185063Z",
     "iopub.status.idle": "2023-03-10T17:55:05.320365Z",
     "shell.execute_reply": "2023-03-10T17:55:05.319473Z"
    },
    "papermill": {
     "duration": 0.178039,
     "end_time": "2023-03-10T17:55:05.323468",
     "exception": false,
     "start_time": "2023-03-10T17:55:05.145429",
     "status": "completed"
    },
    "tags": []
   },
   "outputs": [],
   "source": [
    "acc = accuracy_score(y_test, y_pred)\n",
    "pre = precision_score(y_test, y_pred, average=avg_par)\n",
    "rec = recall_score(y_test, y_pred, average=avg_par)\n",
    "f1 = f1_score(y_test, y_pred, average=avg_par)\n",
    "\n",
    "metrics_data['KNN']['Euclidean'] = {'Accuracy': acc, 'Precision': pre, 'Recall': rec, 'F1': f1}"
   ]
  },
  {
   "cell_type": "markdown",
   "id": "c5ec2a09",
   "metadata": {
    "papermill": {
     "duration": 0.037954,
     "end_time": "2023-03-10T17:55:05.399175",
     "exception": false,
     "start_time": "2023-03-10T17:55:05.361221",
     "status": "completed"
    },
    "tags": []
   },
   "source": [
    "**Dynamic Time Warping**"
   ]
  },
  {
   "cell_type": "code",
   "execution_count": 62,
   "id": "2df913d8",
   "metadata": {
    "execution": {
     "iopub.execute_input": "2023-03-10T17:55:05.432919Z",
     "iopub.status.busy": "2023-03-10T17:55:05.432442Z",
     "iopub.status.idle": "2023-03-10T17:55:05.505847Z",
     "shell.execute_reply": "2023-03-10T17:55:05.505051Z"
    },
    "papermill": {
     "duration": 0.091776,
     "end_time": "2023-03-10T17:55:05.508668",
     "exception": false,
     "start_time": "2023-03-10T17:55:05.416892",
     "status": "completed"
    },
    "tags": []
   },
   "outputs": [],
   "source": [
    "from pyts.classification import KNeighborsClassifier\n",
    "from pyts.approximation import PiecewiseAggregateApproximation\n",
    "from imblearn.under_sampling import ClusterCentroids\n",
    "from sklearn_extra.cluster import KMedoids"
   ]
  },
  {
   "cell_type": "code",
   "execution_count": 63,
   "id": "db1604ec",
   "metadata": {
    "execution": {
     "iopub.execute_input": "2023-03-10T17:55:05.541361Z",
     "iopub.status.busy": "2023-03-10T17:55:05.540959Z",
     "iopub.status.idle": "2023-03-10T17:55:06.037693Z",
     "shell.execute_reply": "2023-03-10T17:55:06.036683Z"
    },
    "papermill": {
     "duration": 0.515798,
     "end_time": "2023-03-10T17:55:06.040996",
     "exception": false,
     "start_time": "2023-03-10T17:55:05.525198",
     "status": "completed"
    },
    "tags": []
   },
   "outputs": [],
   "source": [
    "if paa_window_size:\n",
    "    paa = PiecewiseAggregateApproximation(window_size=paa_window_size)\n",
    "    X_train = paa.transform(X_train)\n",
    "    X_test = paa.transform(X_test)\n",
    "    X_train.shape"
   ]
  },
  {
   "cell_type": "code",
   "execution_count": 64,
   "id": "59fa27aa",
   "metadata": {
    "execution": {
     "iopub.execute_input": "2023-03-10T17:55:06.122197Z",
     "iopub.status.busy": "2023-03-10T17:55:06.121832Z",
     "iopub.status.idle": "2023-03-10T17:55:25.523811Z",
     "shell.execute_reply": "2023-03-10T17:55:25.522942Z"
    },
    "papermill": {
     "duration": 19.445192,
     "end_time": "2023-03-10T17:55:25.526443",
     "exception": false,
     "start_time": "2023-03-10T17:55:06.081251",
     "status": "completed"
    },
    "tags": []
   },
   "outputs": [
    {
     "name": "stdout",
     "output_type": "stream",
     "text": [
      "{'rap': 2882, 'rock': 2877}\n"
     ]
    },
    {
     "name": "stderr",
     "output_type": "stream",
     "text": [
      "/home/mattiapggioli/lyrics2ts/.venv/lib/python3.9/site-packages/sklearn_extra/cluster/_k_medoids.py:275: UserWarning: Cluster 757 is empty! self.labels_[self.medoid_indices_[757]] may not be labeled with its corresponding cluster (757).\n",
      "  warnings.warn(\n",
      "/home/mattiapggioli/lyrics2ts/.venv/lib/python3.9/site-packages/sklearn_extra/cluster/_k_medoids.py:275: UserWarning: Cluster 994 is empty! self.labels_[self.medoid_indices_[994]] may not be labeled with its corresponding cluster (994).\n",
      "  warnings.warn(\n",
      "/home/mattiapggioli/lyrics2ts/.venv/lib/python3.9/site-packages/sklearn_extra/cluster/_k_medoids.py:275: UserWarning: Cluster 1009 is empty! self.labels_[self.medoid_indices_[1009]] may not be labeled with its corresponding cluster (1009).\n",
      "  warnings.warn(\n",
      "/home/mattiapggioli/lyrics2ts/.venv/lib/python3.9/site-packages/sklearn_extra/cluster/_k_medoids.py:275: UserWarning: Cluster 1123 is empty! self.labels_[self.medoid_indices_[1123]] may not be labeled with its corresponding cluster (1123).\n",
      "  warnings.warn(\n",
      "/home/mattiapggioli/lyrics2ts/.venv/lib/python3.9/site-packages/sklearn_extra/cluster/_k_medoids.py:275: UserWarning: Cluster 1916 is empty! self.labels_[self.medoid_indices_[1916]] may not be labeled with its corresponding cluster (1916).\n",
      "  warnings.warn(\n",
      "/home/mattiapggioli/lyrics2ts/.venv/lib/python3.9/site-packages/sklearn_extra/cluster/_k_medoids.py:275: UserWarning: Cluster 1984 is empty! self.labels_[self.medoid_indices_[1984]] may not be labeled with its corresponding cluster (1984).\n",
      "  warnings.warn(\n",
      "/home/mattiapggioli/lyrics2ts/.venv/lib/python3.9/site-packages/sklearn_extra/cluster/_k_medoids.py:275: UserWarning: Cluster 2057 is empty! self.labels_[self.medoid_indices_[2057]] may not be labeled with its corresponding cluster (2057).\n",
      "  warnings.warn(\n",
      "/home/mattiapggioli/lyrics2ts/.venv/lib/python3.9/site-packages/sklearn_extra/cluster/_k_medoids.py:275: UserWarning: Cluster 2144 is empty! self.labels_[self.medoid_indices_[2144]] may not be labeled with its corresponding cluster (2144).\n",
      "  warnings.warn(\n",
      "/home/mattiapggioli/lyrics2ts/.venv/lib/python3.9/site-packages/sklearn_extra/cluster/_k_medoids.py:275: UserWarning: Cluster 2263 is empty! self.labels_[self.medoid_indices_[2263]] may not be labeled with its corresponding cluster (2263).\n",
      "  warnings.warn(\n",
      "/home/mattiapggioli/lyrics2ts/.venv/lib/python3.9/site-packages/sklearn_extra/cluster/_k_medoids.py:275: UserWarning: Cluster 2325 is empty! self.labels_[self.medoid_indices_[2325]] may not be labeled with its corresponding cluster (2325).\n",
      "  warnings.warn(\n"
     ]
    },
    {
     "name": "stderr",
     "output_type": "stream",
     "text": [
      "/home/mattiapggioli/lyrics2ts/.venv/lib/python3.9/site-packages/sklearn_extra/cluster/_k_medoids.py:275: UserWarning: Cluster 2171 is empty! self.labels_[self.medoid_indices_[2171]] may not be labeled with its corresponding cluster (2171).\n",
      "  warnings.warn(\n",
      "/home/mattiapggioli/lyrics2ts/.venv/lib/python3.9/site-packages/sklearn_extra/cluster/_k_medoids.py:275: UserWarning: Cluster 2463 is empty! self.labels_[self.medoid_indices_[2463]] may not be labeled with its corresponding cluster (2463).\n",
      "  warnings.warn(\n"
     ]
    }
   ],
   "source": [
    "if undersampling:\n",
    "    total_samples = len(y_train)\n",
    "    unique_classes, class_counts = np.unique(y_train, return_counts=True)\n",
    "    samp_strat = dict(zip(unique_classes, np.floor(class_counts * undersampling).astype(int)))\n",
    "    print(samp_strat)\n",
    "    cc = ClusterCentroids(estimator=KMedoids(\n",
    "        random_state=42), sampling_strategy=samp_strat, random_state=42)\n",
    "    X_train, y_train = cc.fit_resample(X_train, y_train)\n",
    "    X_train.shape"
   ]
  },
  {
   "cell_type": "code",
   "execution_count": 65,
   "id": "e7ac6b44",
   "metadata": {
    "execution": {
     "iopub.execute_input": "2023-03-10T17:55:25.605815Z",
     "iopub.status.busy": "2023-03-10T17:55:25.605418Z",
     "iopub.status.idle": "2023-03-10T17:55:25.626803Z",
     "shell.execute_reply": "2023-03-10T17:55:25.625325Z"
    },
    "papermill": {
     "duration": 0.060642,
     "end_time": "2023-03-10T17:55:25.628780",
     "exception": false,
     "start_time": "2023-03-10T17:55:25.568138",
     "status": "completed"
    },
    "tags": []
   },
   "outputs": [
    {
     "data": {
      "text/html": [
       "<style>#sk-container-id-9 {color: black;background-color: white;}#sk-container-id-9 pre{padding: 0;}#sk-container-id-9 div.sk-toggleable {background-color: white;}#sk-container-id-9 label.sk-toggleable__label {cursor: pointer;display: block;width: 100%;margin-bottom: 0;padding: 0.3em;box-sizing: border-box;text-align: center;}#sk-container-id-9 label.sk-toggleable__label-arrow:before {content: \"▸\";float: left;margin-right: 0.25em;color: #696969;}#sk-container-id-9 label.sk-toggleable__label-arrow:hover:before {color: black;}#sk-container-id-9 div.sk-estimator:hover label.sk-toggleable__label-arrow:before {color: black;}#sk-container-id-9 div.sk-toggleable__content {max-height: 0;max-width: 0;overflow: hidden;text-align: left;background-color: #f0f8ff;}#sk-container-id-9 div.sk-toggleable__content pre {margin: 0.2em;color: black;border-radius: 0.25em;background-color: #f0f8ff;}#sk-container-id-9 input.sk-toggleable__control:checked~div.sk-toggleable__content {max-height: 200px;max-width: 100%;overflow: auto;}#sk-container-id-9 input.sk-toggleable__control:checked~label.sk-toggleable__label-arrow:before {content: \"▾\";}#sk-container-id-9 div.sk-estimator input.sk-toggleable__control:checked~label.sk-toggleable__label {background-color: #d4ebff;}#sk-container-id-9 div.sk-label input.sk-toggleable__control:checked~label.sk-toggleable__label {background-color: #d4ebff;}#sk-container-id-9 input.sk-hidden--visually {border: 0;clip: rect(1px 1px 1px 1px);clip: rect(1px, 1px, 1px, 1px);height: 1px;margin: -1px;overflow: hidden;padding: 0;position: absolute;width: 1px;}#sk-container-id-9 div.sk-estimator {font-family: monospace;background-color: #f0f8ff;border: 1px dotted black;border-radius: 0.25em;box-sizing: border-box;margin-bottom: 0.5em;}#sk-container-id-9 div.sk-estimator:hover {background-color: #d4ebff;}#sk-container-id-9 div.sk-parallel-item::after {content: \"\";width: 100%;border-bottom: 1px solid gray;flex-grow: 1;}#sk-container-id-9 div.sk-label:hover label.sk-toggleable__label {background-color: #d4ebff;}#sk-container-id-9 div.sk-serial::before {content: \"\";position: absolute;border-left: 1px solid gray;box-sizing: border-box;top: 0;bottom: 0;left: 50%;z-index: 0;}#sk-container-id-9 div.sk-serial {display: flex;flex-direction: column;align-items: center;background-color: white;padding-right: 0.2em;padding-left: 0.2em;position: relative;}#sk-container-id-9 div.sk-item {position: relative;z-index: 1;}#sk-container-id-9 div.sk-parallel {display: flex;align-items: stretch;justify-content: center;background-color: white;position: relative;}#sk-container-id-9 div.sk-item::before, #sk-container-id-9 div.sk-parallel-item::before {content: \"\";position: absolute;border-left: 1px solid gray;box-sizing: border-box;top: 0;bottom: 0;left: 50%;z-index: -1;}#sk-container-id-9 div.sk-parallel-item {display: flex;flex-direction: column;z-index: 1;position: relative;background-color: white;}#sk-container-id-9 div.sk-parallel-item:first-child::after {align-self: flex-end;width: 50%;}#sk-container-id-9 div.sk-parallel-item:last-child::after {align-self: flex-start;width: 50%;}#sk-container-id-9 div.sk-parallel-item:only-child::after {width: 0;}#sk-container-id-9 div.sk-dashed-wrapped {border: 1px dashed gray;margin: 0 0.4em 0.5em 0.4em;box-sizing: border-box;padding-bottom: 0.4em;background-color: white;}#sk-container-id-9 div.sk-label label {font-family: monospace;font-weight: bold;display: inline-block;line-height: 1.2em;}#sk-container-id-9 div.sk-label-container {text-align: center;}#sk-container-id-9 div.sk-container {/* jupyter's `normalize.less` sets `[hidden] { display: none; }` but bootstrap.min.css set `[hidden] { display: none !important; }` so we also need the `!important` here to be able to override the default hidden behavior on the sphinx rendered scikit-learn.org. See: https://github.com/scikit-learn/scikit-learn/issues/21755 */display: inline-block !important;position: relative;}#sk-container-id-9 div.sk-text-repr-fallback {display: none;}</style><div id=\"sk-container-id-9\" class=\"sk-top-container\"><div class=\"sk-text-repr-fallback\"><pre>KNeighborsClassifier(metric=&#x27;dtw_sakoechiba&#x27;, metric_params={&#x27;window_size&#x27;: 3})</pre><b>In a Jupyter environment, please rerun this cell to show the HTML representation or trust the notebook. <br />On GitHub, the HTML representation is unable to render, please try loading this page with nbviewer.org.</b></div><div class=\"sk-container\" hidden><div class=\"sk-item\"><div class=\"sk-estimator sk-toggleable\"><input class=\"sk-toggleable__control sk-hidden--visually\" id=\"sk-estimator-id-9\" type=\"checkbox\" checked><label for=\"sk-estimator-id-9\" class=\"sk-toggleable__label sk-toggleable__label-arrow\">KNeighborsClassifier</label><div class=\"sk-toggleable__content\"><pre>KNeighborsClassifier(metric=&#x27;dtw_sakoechiba&#x27;, metric_params={&#x27;window_size&#x27;: 3})</pre></div></div></div></div></div>"
      ],
      "text/plain": [
       "KNeighborsClassifier(metric='dtw_sakoechiba', metric_params={'window_size': 3})"
      ]
     },
     "execution_count": 65,
     "metadata": {},
     "output_type": "execute_result"
    }
   ],
   "source": [
    "clf = KNeighborsClassifier(metric='dtw_sakoechiba',  metric_params={'window_size':3})\n",
    "\n",
    "clf.fit(X_train, y_train)"
   ]
  },
  {
   "cell_type": "code",
   "execution_count": 66,
   "id": "8109d19d",
   "metadata": {
    "execution": {
     "iopub.execute_input": "2023-03-10T17:55:25.662331Z",
     "iopub.status.busy": "2023-03-10T17:55:25.661498Z",
     "iopub.status.idle": "2023-03-10T19:17:21.229908Z",
     "shell.execute_reply": "2023-03-10T19:17:21.229204Z"
    },
    "papermill": {
     "duration": 4915.629325,
     "end_time": "2023-03-10T19:17:21.274836",
     "exception": false,
     "start_time": "2023-03-10T17:55:25.645511",
     "status": "completed"
    },
    "tags": []
   },
   "outputs": [
    {
     "name": "stdout",
     "output_type": "stream",
     "text": [
      "              precision    recall  f1-score   support\n",
      "\n",
      "         rap       0.68      0.69      0.69      2391\n",
      "        rock       0.69      0.68      0.68      2409\n",
      "\n",
      "    accuracy                           0.68      4800\n",
      "   macro avg       0.68      0.68      0.68      4800\n",
      "weighted avg       0.68      0.68      0.68      4800\n",
      "\n",
      "CPU times: user 1h 21min 54s, sys: 791 ms, total: 1h 21min 55s\n",
      "Wall time: 1h 21min 55s\n"
     ]
    }
   ],
   "source": [
    "%%time\n",
    "y_pred = clf.predict(X_test)\n",
    "print(classification_report(y_test, y_pred))"
   ]
  },
  {
   "cell_type": "code",
   "execution_count": 67,
   "id": "b09f5cdf",
   "metadata": {
    "execution": {
     "iopub.execute_input": "2023-03-10T19:17:21.331131Z",
     "iopub.status.busy": "2023-03-10T19:17:21.330419Z",
     "iopub.status.idle": "2023-03-10T19:17:21.474860Z",
     "shell.execute_reply": "2023-03-10T19:17:21.474080Z"
    },
    "papermill": {
     "duration": 0.164057,
     "end_time": "2023-03-10T19:17:21.478355",
     "exception": false,
     "start_time": "2023-03-10T19:17:21.314298",
     "status": "completed"
    },
    "tags": []
   },
   "outputs": [],
   "source": [
    "acc = accuracy_score(y_test, y_pred)\n",
    "pre = precision_score(y_test, y_pred, average=avg_par)\n",
    "rec = recall_score(y_test, y_pred, average=avg_par)\n",
    "f1 = f1_score(y_test, y_pred, average=avg_par)\n",
    "\n",
    "metrics_data['KNN']['DTW'] = {'Accuracy': acc, 'Precision': pre, 'Recall': rec, 'F1': f1}"
   ]
  },
  {
   "cell_type": "markdown",
   "id": "e0e700a7",
   "metadata": {
    "papermill": {
     "duration": 0.036417,
     "end_time": "2023-03-10T19:17:21.557139",
     "exception": false,
     "start_time": "2023-03-10T19:17:21.520722",
     "status": "completed"
    },
    "tags": []
   },
   "source": [
    "## Overall Results"
   ]
  },
  {
   "cell_type": "code",
   "execution_count": 68,
   "id": "d003c193",
   "metadata": {
    "execution": {
     "iopub.execute_input": "2023-03-10T19:17:21.588723Z",
     "iopub.status.busy": "2023-03-10T19:17:21.588121Z",
     "iopub.status.idle": "2023-03-10T19:17:21.598335Z",
     "shell.execute_reply": "2023-03-10T19:17:21.597459Z"
    },
    "papermill": {
     "duration": 0.028651,
     "end_time": "2023-03-10T19:17:21.600526",
     "exception": false,
     "start_time": "2023-03-10T19:17:21.571875",
     "status": "completed"
    },
    "tags": []
   },
   "outputs": [],
   "source": [
    "metrics_data = pd.DataFrame.from_dict({(i,j): metrics_data[i][j] \n",
    "                                       for i in metrics_data.keys() \n",
    "                                       for j in metrics_data[i].keys()},\n",
    "                                       orient='index')"
   ]
  },
  {
   "cell_type": "code",
   "execution_count": 69,
   "id": "0944fe84",
   "metadata": {
    "execution": {
     "iopub.execute_input": "2023-03-10T19:17:21.633161Z",
     "iopub.status.busy": "2023-03-10T19:17:21.632470Z",
     "iopub.status.idle": "2023-03-10T19:17:21.771947Z",
     "shell.execute_reply": "2023-03-10T19:17:21.771292Z"
    },
    "papermill": {
     "duration": 0.15844,
     "end_time": "2023-03-10T19:17:21.774674",
     "exception": false,
     "start_time": "2023-03-10T19:17:21.616234",
     "status": "completed"
    },
    "tags": []
   },
   "outputs": [],
   "source": [
    "acc = accuracy_score(y_test, y_pred)\n",
    "pre = precision_score(y_test, y_pred, average=avg_par)\n",
    "rec = recall_score(y_test, y_pred, average=avg_par)\n",
    "f1 = f1_score(y_test, y_pred, average=avg_par)"
   ]
  },
  {
   "cell_type": "code",
   "execution_count": 70,
   "id": "7ee1b347",
   "metadata": {
    "execution": {
     "iopub.execute_input": "2023-03-10T19:17:21.859481Z",
     "iopub.status.busy": "2023-03-10T19:17:21.858551Z",
     "iopub.status.idle": "2023-03-10T19:17:21.879244Z",
     "shell.execute_reply": "2023-03-10T19:17:21.877719Z"
    },
    "papermill": {
     "duration": 0.065062,
     "end_time": "2023-03-10T19:17:21.881524",
     "exception": false,
     "start_time": "2023-03-10T19:17:21.816462",
     "status": "completed"
    },
    "tags": []
   },
   "outputs": [
    {
     "data": {
      "text/html": [
       "<div>\n",
       "<style scoped>\n",
       "    .dataframe tbody tr th:only-of-type {\n",
       "        vertical-align: middle;\n",
       "    }\n",
       "\n",
       "    .dataframe tbody tr th {\n",
       "        vertical-align: top;\n",
       "    }\n",
       "\n",
       "    .dataframe thead th {\n",
       "        text-align: right;\n",
       "    }\n",
       "</style>\n",
       "<table border=\"1\" class=\"dataframe\">\n",
       "  <thead>\n",
       "    <tr style=\"text-align: right;\">\n",
       "      <th></th>\n",
       "      <th></th>\n",
       "      <th>Accuracy</th>\n",
       "      <th>Precision</th>\n",
       "      <th>Recall</th>\n",
       "      <th>F1</th>\n",
       "    </tr>\n",
       "  </thead>\n",
       "  <tbody>\n",
       "    <tr>\n",
       "      <th rowspan=\"3\" valign=\"top\">Global</th>\n",
       "      <th>DecisionTree</th>\n",
       "      <td>0.820000</td>\n",
       "      <td>0.820302</td>\n",
       "      <td>0.820057</td>\n",
       "      <td>0.819974</td>\n",
       "    </tr>\n",
       "    <tr>\n",
       "      <th>RandomForest</th>\n",
       "      <td>0.912292</td>\n",
       "      <td>0.916405</td>\n",
       "      <td>0.912107</td>\n",
       "      <td>0.912047</td>\n",
       "    </tr>\n",
       "    <tr>\n",
       "      <th>LightGBM</th>\n",
       "      <td>0.926875</td>\n",
       "      <td>0.927956</td>\n",
       "      <td>0.926783</td>\n",
       "      <td>0.926817</td>\n",
       "    </tr>\n",
       "    <tr>\n",
       "      <th rowspan=\"3\" valign=\"top\">Shapelets</th>\n",
       "      <th>DecisionTree</th>\n",
       "      <td>0.738542</td>\n",
       "      <td>0.738554</td>\n",
       "      <td>0.738553</td>\n",
       "      <td>0.738542</td>\n",
       "    </tr>\n",
       "    <tr>\n",
       "      <th>RandomForest</th>\n",
       "      <td>0.828125</td>\n",
       "      <td>0.828853</td>\n",
       "      <td>0.828036</td>\n",
       "      <td>0.828001</td>\n",
       "    </tr>\n",
       "    <tr>\n",
       "      <th>LightGBM</th>\n",
       "      <td>0.828333</td>\n",
       "      <td>0.828474</td>\n",
       "      <td>0.828293</td>\n",
       "      <td>0.828301</td>\n",
       "    </tr>\n",
       "    <tr>\n",
       "      <th rowspan=\"2\" valign=\"top\">KNN</th>\n",
       "      <th>Euclidean</th>\n",
       "      <td>0.559792</td>\n",
       "      <td>0.689711</td>\n",
       "      <td>0.558232</td>\n",
       "      <td>0.466525</td>\n",
       "    </tr>\n",
       "    <tr>\n",
       "      <th>DTW</th>\n",
       "      <td>0.683750</td>\n",
       "      <td>0.683799</td>\n",
       "      <td>0.683775</td>\n",
       "      <td>0.683745</td>\n",
       "    </tr>\n",
       "  </tbody>\n",
       "</table>\n",
       "</div>"
      ],
      "text/plain": [
       "                        Accuracy  Precision    Recall        F1\n",
       "Global    DecisionTree  0.820000   0.820302  0.820057  0.819974\n",
       "          RandomForest  0.912292   0.916405  0.912107  0.912047\n",
       "          LightGBM      0.926875   0.927956  0.926783  0.926817\n",
       "Shapelets DecisionTree  0.738542   0.738554  0.738553  0.738542\n",
       "          RandomForest  0.828125   0.828853  0.828036  0.828001\n",
       "          LightGBM      0.828333   0.828474  0.828293  0.828301\n",
       "KNN       Euclidean     0.559792   0.689711  0.558232  0.466525\n",
       "          DTW           0.683750   0.683799  0.683775  0.683745"
      ]
     },
     "execution_count": 70,
     "metadata": {},
     "output_type": "execute_result"
    }
   ],
   "source": [
    "metrics_data"
   ]
  },
  {
   "cell_type": "code",
   "execution_count": 71,
   "id": "3efc173e",
   "metadata": {
    "execution": {
     "iopub.execute_input": "2023-03-10T19:17:21.915665Z",
     "iopub.status.busy": "2023-03-10T19:17:21.914987Z",
     "iopub.status.idle": "2023-03-10T19:17:21.926617Z",
     "shell.execute_reply": "2023-03-10T19:17:21.925140Z"
    },
    "papermill": {
     "duration": 0.030778,
     "end_time": "2023-03-10T19:17:21.929451",
     "exception": false,
     "start_time": "2023-03-10T19:17:21.898673",
     "status": "completed"
    },
    "tags": []
   },
   "outputs": [],
   "source": [
    "metrics_data.to_csv(f'{data_path}/metrics.csv')"
   ]
  },
  {
   "cell_type": "code",
   "execution_count": null,
   "id": "d21f5304",
   "metadata": {
    "papermill": {
     "duration": 0.014701,
     "end_time": "2023-03-10T19:17:21.960961",
     "exception": false,
     "start_time": "2023-03-10T19:17:21.946260",
     "status": "completed"
    },
    "tags": []
   },
   "outputs": [],
   "source": []
  }
 ],
 "metadata": {
  "celltoolbar": "Tags",
  "kernelspec": {
   "display_name": "Python 3 (ipykernel)",
   "language": "python",
   "name": "python3"
  },
  "language_info": {
   "codemirror_mode": {
    "name": "ipython",
    "version": 3
   },
   "file_extension": ".py",
   "mimetype": "text/x-python",
   "name": "python",
   "nbconvert_exporter": "python",
   "pygments_lexer": "ipython3",
   "version": "3.9.16"
  },
  "papermill": {
   "default_parameters": {},
   "duration": 6663.181377,
   "end_time": "2023-03-10T19:17:25.080559",
   "environment_variables": {},
   "exception": null,
   "input_path": "09_ts_classification.ipynb",
   "output_path": "../clf-reports/rc-rp_sbert.ipynb",
   "parameters": {
    "data_path": "/home/mattiapggioli/lyrics2ts/data/classification/rc-rp/sbert/",
    "paa_window_size": 20,
    "undersampling": 0.3
   },
   "start_time": "2023-03-10T17:26:21.899182",
   "version": "2.4.0"
  },
  "vscode": {
   "interpreter": {
    "hash": "eb8d1ded7c87c6f9c253b40add648304d6b51d2e38393955e855effc7e6f899a"
   }
  }
 },
 "nbformat": 4,
 "nbformat_minor": 5
}