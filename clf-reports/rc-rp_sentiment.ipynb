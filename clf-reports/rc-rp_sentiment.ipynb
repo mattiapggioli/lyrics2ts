{
 "cells": [
  {
   "cell_type": "markdown",
   "id": "d79a68c5",
   "metadata": {
    "papermill": {
     "duration": 0.019978,
     "end_time": "2023-03-21T07:42:06.180090",
     "exception": false,
     "start_time": "2023-03-21T07:42:06.160112",
     "status": "completed"
    },
    "tags": []
   },
   "source": [
    "# Time Series Classification"
   ]
  },
  {
   "cell_type": "code",
   "execution_count": 1,
   "id": "8a0cb2b0",
   "metadata": {
    "execution": {
     "iopub.execute_input": "2023-03-21T07:42:06.247051Z",
     "iopub.status.busy": "2023-03-21T07:42:06.246588Z",
     "iopub.status.idle": "2023-03-21T07:42:07.619901Z",
     "shell.execute_reply": "2023-03-21T07:42:07.619057Z"
    },
    "papermill": {
     "duration": 1.408552,
     "end_time": "2023-03-21T07:42:07.622781",
     "exception": false,
     "start_time": "2023-03-21T07:42:06.214229",
     "status": "completed"
    },
    "tags": []
   },
   "outputs": [],
   "source": [
    "%matplotlib inline\n",
    "import pandas as pd\n",
    "import numpy as np\n",
    "import matplotlib.pyplot as plt\n",
    "import seaborn as sns\n",
    "import re\n",
    "import os\n",
    "from sklearn.preprocessing import StandardScaler\n",
    "from sklearn.decomposition import PCA\n",
    "import joblib\n",
    "from tslearn.utils import to_time_series_dataset, save_time_series_txt, load_time_series_txt\n",
    "import random\n",
    "from sklearn.model_selection import train_test_split\n",
    "from sklearn.metrics import accuracy_score, f1_score, precision_score, recall_score, classification_report\n",
    "import pickle"
   ]
  },
  {
   "cell_type": "code",
   "execution_count": 2,
   "id": "acc03405",
   "metadata": {
    "execution": {
     "iopub.execute_input": "2023-03-21T07:42:07.656729Z",
     "iopub.status.busy": "2023-03-21T07:42:07.656316Z",
     "iopub.status.idle": "2023-03-21T07:42:07.661269Z",
     "shell.execute_reply": "2023-03-21T07:42:07.660304Z"
    },
    "papermill": {
     "duration": 0.0241,
     "end_time": "2023-03-21T07:42:07.664285",
     "exception": false,
     "start_time": "2023-03-21T07:42:07.640185",
     "status": "completed"
    },
    "tags": [
     "parameters"
    ]
   },
   "outputs": [],
   "source": [
    "data_path = '/home/mattiapggioli/lyrics2ts/data/classification/pp-rc/sbert/'\n",
    "truncate=100\n",
    "max_iter = 2000\n",
    "paa_window_size = None\n",
    "undersampling = None"
   ]
  },
  {
   "cell_type": "code",
   "execution_count": 3,
   "id": "3ce48b53",
   "metadata": {
    "execution": {
     "iopub.execute_input": "2023-03-21T07:42:07.705491Z",
     "iopub.status.busy": "2023-03-21T07:42:07.704597Z",
     "iopub.status.idle": "2023-03-21T07:42:07.710324Z",
     "shell.execute_reply": "2023-03-21T07:42:07.709235Z"
    },
    "papermill": {
     "duration": 0.029977,
     "end_time": "2023-03-21T07:42:07.713301",
     "exception": false,
     "start_time": "2023-03-21T07:42:07.683324",
     "status": "completed"
    },
    "tags": [
     "injected-parameters"
    ]
   },
   "outputs": [],
   "source": [
    "# Parameters\n",
    "data_path = \"/home/mattiapggioli/lyrics2ts/data/classification/rc-rp/sentiment/\"\n",
    "paa_window_size = 20\n",
    "undersampling = 0.3\n"
   ]
  },
  {
   "cell_type": "code",
   "execution_count": 4,
   "id": "a4f0c774",
   "metadata": {
    "execution": {
     "iopub.execute_input": "2023-03-21T07:42:07.747810Z",
     "iopub.status.busy": "2023-03-21T07:42:07.746798Z",
     "iopub.status.idle": "2023-03-21T07:42:23.389631Z",
     "shell.execute_reply": "2023-03-21T07:42:23.388722Z"
    },
    "papermill": {
     "duration": 15.657512,
     "end_time": "2023-03-21T07:42:23.392724",
     "exception": false,
     "start_time": "2023-03-21T07:42:07.735212",
     "status": "completed"
    },
    "tags": []
   },
   "outputs": [],
   "source": [
    "ts = load_time_series_txt(f'{data_path}/ts.txt')"
   ]
  },
  {
   "cell_type": "code",
   "execution_count": 5,
   "id": "5c48d154",
   "metadata": {
    "execution": {
     "iopub.execute_input": "2023-03-21T07:42:23.450334Z",
     "iopub.status.busy": "2023-03-21T07:42:23.450017Z",
     "iopub.status.idle": "2023-03-21T07:42:23.459052Z",
     "shell.execute_reply": "2023-03-21T07:42:23.457541Z"
    },
    "papermill": {
     "duration": 0.040892,
     "end_time": "2023-03-21T07:42:23.463686",
     "exception": false,
     "start_time": "2023-03-21T07:42:23.422794",
     "status": "completed"
    },
    "tags": []
   },
   "outputs": [
    {
     "data": {
      "text/plain": [
       "(24000, 130, 1)"
      ]
     },
     "execution_count": 5,
     "metadata": {},
     "output_type": "execute_result"
    }
   ],
   "source": [
    "ts.shape"
   ]
  },
  {
   "cell_type": "code",
   "execution_count": 6,
   "id": "f6274d40",
   "metadata": {
    "execution": {
     "iopub.execute_input": "2023-03-21T07:42:23.496950Z",
     "iopub.status.busy": "2023-03-21T07:42:23.496522Z",
     "iopub.status.idle": "2023-03-21T07:42:23.503701Z",
     "shell.execute_reply": "2023-03-21T07:42:23.502810Z"
    },
    "papermill": {
     "duration": 0.020787,
     "end_time": "2023-03-21T07:42:23.505587",
     "exception": false,
     "start_time": "2023-03-21T07:42:23.484800",
     "status": "completed"
    },
    "tags": []
   },
   "outputs": [],
   "source": [
    "with open(f'{data_path}/y_class.npy', 'rb') as f:\n",
    "    y = np.load(f, allow_pickle=True)"
   ]
  },
  {
   "cell_type": "code",
   "execution_count": 7,
   "id": "9d42fa3b",
   "metadata": {
    "execution": {
     "iopub.execute_input": "2023-03-21T07:42:23.532265Z",
     "iopub.status.busy": "2023-03-21T07:42:23.531759Z",
     "iopub.status.idle": "2023-03-21T07:42:23.540116Z",
     "shell.execute_reply": "2023-03-21T07:42:23.538992Z"
    },
    "papermill": {
     "duration": 0.025294,
     "end_time": "2023-03-21T07:42:23.543822",
     "exception": false,
     "start_time": "2023-03-21T07:42:23.518528",
     "status": "completed"
    },
    "tags": []
   },
   "outputs": [],
   "source": [
    "with open(f'{data_path}/X.npy', 'rb') as f:\n",
    "    X = np.load(f, allow_pickle=True)"
   ]
  },
  {
   "cell_type": "code",
   "execution_count": 8,
   "id": "1158a9da",
   "metadata": {
    "execution": {
     "iopub.execute_input": "2023-03-21T07:42:23.572404Z",
     "iopub.status.busy": "2023-03-21T07:42:23.571566Z",
     "iopub.status.idle": "2023-03-21T07:42:23.580464Z",
     "shell.execute_reply": "2023-03-21T07:42:23.578979Z"
    },
    "papermill": {
     "duration": 0.026109,
     "end_time": "2023-03-21T07:42:23.583366",
     "exception": false,
     "start_time": "2023-03-21T07:42:23.557257",
     "status": "completed"
    },
    "tags": []
   },
   "outputs": [
    {
     "data": {
      "text/plain": [
       "(24000, 6)"
      ]
     },
     "execution_count": 8,
     "metadata": {},
     "output_type": "execute_result"
    }
   ],
   "source": [
    "X.shape"
   ]
  },
  {
   "cell_type": "code",
   "execution_count": 9,
   "id": "47239790",
   "metadata": {
    "execution": {
     "iopub.execute_input": "2023-03-21T07:42:23.609420Z",
     "iopub.status.busy": "2023-03-21T07:42:23.608388Z",
     "iopub.status.idle": "2023-03-21T07:42:23.616096Z",
     "shell.execute_reply": "2023-03-21T07:42:23.615420Z"
    },
    "papermill": {
     "duration": 0.021858,
     "end_time": "2023-03-21T07:42:23.617761",
     "exception": false,
     "start_time": "2023-03-21T07:42:23.595903",
     "status": "completed"
    },
    "tags": []
   },
   "outputs": [
    {
     "data": {
      "text/plain": [
       "{'rap', 'rock'}"
      ]
     },
     "execution_count": 9,
     "metadata": {},
     "output_type": "execute_result"
    }
   ],
   "source": [
    "set(y)"
   ]
  },
  {
   "cell_type": "code",
   "execution_count": 10,
   "id": "37609992",
   "metadata": {
    "execution": {
     "iopub.execute_input": "2023-03-21T07:42:23.642127Z",
     "iopub.status.busy": "2023-03-21T07:42:23.641670Z",
     "iopub.status.idle": "2023-03-21T07:42:23.697734Z",
     "shell.execute_reply": "2023-03-21T07:42:23.696471Z"
    },
    "papermill": {
     "duration": 0.070173,
     "end_time": "2023-03-21T07:42:23.699845",
     "exception": false,
     "start_time": "2023-03-21T07:42:23.629672",
     "status": "completed"
    },
    "tags": []
   },
   "outputs": [],
   "source": [
    "ts_train, ts_test, y_train, y_test = train_test_split(\n",
    "    ts, y, test_size=0.20, random_state=42, stratify=y)"
   ]
  },
  {
   "cell_type": "code",
   "execution_count": 11,
   "id": "34508fe4",
   "metadata": {
    "execution": {
     "iopub.execute_input": "2023-03-21T07:42:23.726128Z",
     "iopub.status.busy": "2023-03-21T07:42:23.725203Z",
     "iopub.status.idle": "2023-03-21T07:42:23.767664Z",
     "shell.execute_reply": "2023-03-21T07:42:23.766992Z"
    },
    "papermill": {
     "duration": 0.056531,
     "end_time": "2023-03-21T07:42:23.769625",
     "exception": false,
     "start_time": "2023-03-21T07:42:23.713094",
     "status": "completed"
    },
    "tags": []
   },
   "outputs": [],
   "source": [
    "X_train, X_test, y_train, y_test = train_test_split(\n",
    "    X, y, test_size=0.20, random_state=42, stratify=y)"
   ]
  },
  {
   "cell_type": "code",
   "execution_count": 12,
   "id": "076afac9",
   "metadata": {
    "execution": {
     "iopub.execute_input": "2023-03-21T07:42:23.824778Z",
     "iopub.status.busy": "2023-03-21T07:42:23.823885Z",
     "iopub.status.idle": "2023-03-21T07:42:23.837398Z",
     "shell.execute_reply": "2023-03-21T07:42:23.836195Z"
    },
    "papermill": {
     "duration": 0.047601,
     "end_time": "2023-03-21T07:42:23.841513",
     "exception": false,
     "start_time": "2023-03-21T07:42:23.793912",
     "status": "completed"
    },
    "tags": []
   },
   "outputs": [
    {
     "data": {
      "text/plain": [
       "array([[ 0.    ],\n",
       "       [ 0.    ],\n",
       "       [ 0.5214],\n",
       "       [ 0.    ],\n",
       "       [ 0.    ],\n",
       "       [ 0.    ],\n",
       "       [ 0.5994],\n",
       "       [ 0.    ],\n",
       "       [ 0.    ],\n",
       "       [ 0.    ],\n",
       "       [ 0.    ],\n",
       "       [ 0.3818],\n",
       "       [-0.636 ],\n",
       "       [ 0.4404],\n",
       "       [ 0.1326],\n",
       "       [ 0.3612],\n",
       "       [ 0.    ],\n",
       "       [ 0.    ],\n",
       "       [ 0.    ],\n",
       "       [ 0.    ],\n",
       "       [ 0.3818],\n",
       "       [-0.636 ],\n",
       "       [ 0.    ],\n",
       "       [ 0.    ],\n",
       "       [ 0.    ],\n",
       "       [ 0.3818],\n",
       "       [ 0.    ],\n",
       "       [ 0.    ],\n",
       "       [ 0.    ],\n",
       "       [ 0.    ],\n",
       "       [ 0.3818],\n",
       "       [ 0.    ],\n",
       "       [ 0.    ],\n",
       "       [ 0.    ],\n",
       "       [ 0.3818],\n",
       "       [-0.636 ],\n",
       "       [-0.636 ],\n",
       "       [ 0.    ],\n",
       "       [ 0.    ],\n",
       "       [ 0.    ],\n",
       "       [    nan],\n",
       "       [    nan],\n",
       "       [    nan],\n",
       "       [    nan],\n",
       "       [    nan],\n",
       "       [    nan],\n",
       "       [    nan],\n",
       "       [    nan],\n",
       "       [    nan],\n",
       "       [    nan],\n",
       "       [    nan],\n",
       "       [    nan],\n",
       "       [    nan],\n",
       "       [    nan],\n",
       "       [    nan],\n",
       "       [    nan],\n",
       "       [    nan],\n",
       "       [    nan],\n",
       "       [    nan],\n",
       "       [    nan],\n",
       "       [    nan],\n",
       "       [    nan],\n",
       "       [    nan],\n",
       "       [    nan],\n",
       "       [    nan],\n",
       "       [    nan],\n",
       "       [    nan],\n",
       "       [    nan],\n",
       "       [    nan],\n",
       "       [    nan],\n",
       "       [    nan],\n",
       "       [    nan],\n",
       "       [    nan],\n",
       "       [    nan],\n",
       "       [    nan],\n",
       "       [    nan],\n",
       "       [    nan],\n",
       "       [    nan],\n",
       "       [    nan],\n",
       "       [    nan],\n",
       "       [    nan],\n",
       "       [    nan],\n",
       "       [    nan],\n",
       "       [    nan],\n",
       "       [    nan],\n",
       "       [    nan],\n",
       "       [    nan],\n",
       "       [    nan],\n",
       "       [    nan],\n",
       "       [    nan],\n",
       "       [    nan],\n",
       "       [    nan],\n",
       "       [    nan],\n",
       "       [    nan],\n",
       "       [    nan],\n",
       "       [    nan],\n",
       "       [    nan],\n",
       "       [    nan],\n",
       "       [    nan],\n",
       "       [    nan],\n",
       "       [    nan],\n",
       "       [    nan],\n",
       "       [    nan],\n",
       "       [    nan],\n",
       "       [    nan],\n",
       "       [    nan],\n",
       "       [    nan],\n",
       "       [    nan],\n",
       "       [    nan],\n",
       "       [    nan],\n",
       "       [    nan],\n",
       "       [    nan],\n",
       "       [    nan],\n",
       "       [    nan],\n",
       "       [    nan],\n",
       "       [    nan],\n",
       "       [    nan],\n",
       "       [    nan],\n",
       "       [    nan],\n",
       "       [    nan],\n",
       "       [    nan],\n",
       "       [    nan],\n",
       "       [    nan],\n",
       "       [    nan],\n",
       "       [    nan],\n",
       "       [    nan],\n",
       "       [    nan],\n",
       "       [    nan],\n",
       "       [    nan],\n",
       "       [    nan]])"
      ]
     },
     "execution_count": 12,
     "metadata": {},
     "output_type": "execute_result"
    }
   ],
   "source": [
    "random.choice(ts_train)"
   ]
  },
  {
   "cell_type": "code",
   "execution_count": 13,
   "id": "ca66457a",
   "metadata": {
    "execution": {
     "iopub.execute_input": "2023-03-21T07:42:23.881367Z",
     "iopub.status.busy": "2023-03-21T07:42:23.880155Z",
     "iopub.status.idle": "2023-03-21T07:42:24.264290Z",
     "shell.execute_reply": "2023-03-21T07:42:24.263176Z"
    },
    "papermill": {
     "duration": 0.398206,
     "end_time": "2023-03-21T07:42:24.265982",
     "exception": false,
     "start_time": "2023-03-21T07:42:23.867776",
     "status": "completed"
    },
    "tags": []
   },
   "outputs": [
    {
     "data": {
      "text/plain": [
       "<AxesSubplot:ylabel='Count'>"
      ]
     },
     "execution_count": 13,
     "metadata": {},
     "output_type": "execute_result"
    },
    {
     "data": {
      "image/png": "[encoded data removed]",
      "text/plain": [
       "<Figure size 640x480 with 1 Axes>"
      ]
     },
     "metadata": {},
     "output_type": "display_data"
    }
   ],
   "source": [
    "sns.histplot([t[~np.any(np.isnan(t), axis=1)].shape[0] for t in ts_train])"
   ]
  },
  {
   "cell_type": "code",
   "execution_count": 14,
   "id": "c2ae286f",
   "metadata": {
    "execution": {
     "iopub.execute_input": "2023-03-21T07:42:24.292146Z",
     "iopub.status.busy": "2023-03-21T07:42:24.291035Z",
     "iopub.status.idle": "2023-03-21T07:42:24.296277Z",
     "shell.execute_reply": "2023-03-21T07:42:24.295154Z"
    },
    "papermill": {
     "duration": 0.021104,
     "end_time": "2023-03-21T07:42:24.299328",
     "exception": false,
     "start_time": "2023-03-21T07:42:24.278224",
     "status": "completed"
    },
    "tags": []
   },
   "outputs": [],
   "source": [
    "ts_train = ts_train[:, :truncate, :]\n",
    "ts_test = ts_test[:, :truncate, :]"
   ]
  },
  {
   "cell_type": "code",
   "execution_count": 15,
   "id": "3218baa4",
   "metadata": {
    "execution": {
     "iopub.execute_input": "2023-03-21T07:42:24.358077Z",
     "iopub.status.busy": "2023-03-21T07:42:24.356922Z",
     "iopub.status.idle": "2023-03-21T07:42:24.418017Z",
     "shell.execute_reply": "2023-03-21T07:42:24.417087Z"
    },
    "papermill": {
     "duration": 0.088588,
     "end_time": "2023-03-21T07:42:24.419807",
     "exception": false,
     "start_time": "2023-03-21T07:42:24.331219",
     "status": "completed"
    },
    "tags": []
   },
   "outputs": [],
   "source": [
    "mean_arr = np.nanmean(ts_train, axis=1, keepdims=True)\n",
    "nan_indices = np.isnan(ts_train)\n",
    "ts_train[nan_indices] = np.take(mean_arr, np.nonzero(nan_indices)[0])\n",
    "\n",
    "mean_arr = np.nanmean(ts_test, axis=1, keepdims=True)\n",
    "nan_indices = np.isnan(ts_test)\n",
    "ts_test[nan_indices] = np.take(mean_arr, np.nonzero(nan_indices)[0])"
   ]
  },
  {
   "cell_type": "code",
   "execution_count": 16,
   "id": "d369691b",
   "metadata": {
    "execution": {
     "iopub.execute_input": "2023-03-21T07:42:24.443988Z",
     "iopub.status.busy": "2023-03-21T07:42:24.443506Z",
     "iopub.status.idle": "2023-03-21T07:42:24.452099Z",
     "shell.execute_reply": "2023-03-21T07:42:24.450814Z"
    },
    "papermill": {
     "duration": 0.022895,
     "end_time": "2023-03-21T07:42:24.453884",
     "exception": false,
     "start_time": "2023-03-21T07:42:24.430989",
     "status": "completed"
    },
    "tags": []
   },
   "outputs": [
    {
     "data": {
      "text/plain": [
       "30"
      ]
     },
     "execution_count": 16,
     "metadata": {},
     "output_type": "execute_result"
    }
   ],
   "source": [
    "np.count_nonzero(np.isnan(X_train))"
   ]
  },
  {
   "cell_type": "code",
   "execution_count": 17,
   "id": "0d602e18",
   "metadata": {
    "execution": {
     "iopub.execute_input": "2023-03-21T07:42:24.479175Z",
     "iopub.status.busy": "2023-03-21T07:42:24.478087Z",
     "iopub.status.idle": "2023-03-21T07:42:24.484485Z",
     "shell.execute_reply": "2023-03-21T07:42:24.483342Z"
    },
    "papermill": {
     "duration": 0.020792,
     "end_time": "2023-03-21T07:42:24.486174",
     "exception": false,
     "start_time": "2023-03-21T07:42:24.465382",
     "status": "completed"
    },
    "tags": []
   },
   "outputs": [],
   "source": [
    "X_train[np.isnan(X_train)] = 0\n",
    "X_test[np.isnan(X_test)] = 0"
   ]
  },
  {
   "cell_type": "code",
   "execution_count": 18,
   "id": "45c5102c",
   "metadata": {
    "execution": {
     "iopub.execute_input": "2023-03-21T07:42:24.512467Z",
     "iopub.status.busy": "2023-03-21T07:42:24.511625Z",
     "iopub.status.idle": "2023-03-21T07:42:26.771843Z",
     "shell.execute_reply": "2023-03-21T07:42:26.770778Z"
    },
    "papermill": {
     "duration": 2.277913,
     "end_time": "2023-03-21T07:42:26.775301",
     "exception": false,
     "start_time": "2023-03-21T07:42:24.497388",
     "status": "completed"
    },
    "tags": []
   },
   "outputs": [],
   "source": [
    "save_time_series_txt(f'{data_path}/ts_train.txt', ts_train)\n",
    "save_time_series_txt(f'{data_path}/ts_test.txt', ts_test)"
   ]
  },
  {
   "cell_type": "code",
   "execution_count": 19,
   "id": "39830f37",
   "metadata": {
    "execution": {
     "iopub.execute_input": "2023-03-21T07:42:26.858282Z",
     "iopub.status.busy": "2023-03-21T07:42:26.857501Z",
     "iopub.status.idle": "2023-03-21T07:42:26.866516Z",
     "shell.execute_reply": "2023-03-21T07:42:26.865573Z"
    },
    "papermill": {
     "duration": 0.047649,
     "end_time": "2023-03-21T07:42:26.869970",
     "exception": false,
     "start_time": "2023-03-21T07:42:26.822321",
     "status": "completed"
    },
    "tags": []
   },
   "outputs": [],
   "source": [
    "with open(f'{data_path}/X_train.npy', 'wb') as f:\n",
    "    np.save(f, X_train, allow_pickle=True)\n",
    "\n",
    "with open(f'{data_path}/X_test.npy', 'wb') as f:\n",
    "    np.save(f, X_test, allow_pickle=True)"
   ]
  },
  {
   "cell_type": "code",
   "execution_count": 20,
   "id": "795fd2be",
   "metadata": {
    "execution": {
     "iopub.execute_input": "2023-03-21T07:42:26.898573Z",
     "iopub.status.busy": "2023-03-21T07:42:26.898042Z",
     "iopub.status.idle": "2023-03-21T07:42:26.906251Z",
     "shell.execute_reply": "2023-03-21T07:42:26.905318Z"
    },
    "papermill": {
     "duration": 0.02396,
     "end_time": "2023-03-21T07:42:26.907903",
     "exception": false,
     "start_time": "2023-03-21T07:42:26.883943",
     "status": "completed"
    },
    "tags": []
   },
   "outputs": [],
   "source": [
    "with open(f'{data_path}/y_train.npy', 'wb') as f:\n",
    "    np.save(f, y_train, allow_pickle=True)\n",
    "\n",
    "with open(f'{data_path}/y_test.npy', 'wb') as f:\n",
    "    np.save(f, y_test, allow_pickle=True)"
   ]
  },
  {
   "cell_type": "code",
   "execution_count": 21,
   "id": "08bda153",
   "metadata": {
    "execution": {
     "iopub.execute_input": "2023-03-21T07:42:26.934699Z",
     "iopub.status.busy": "2023-03-21T07:42:26.934239Z",
     "iopub.status.idle": "2023-03-21T07:42:27.059379Z",
     "shell.execute_reply": "2023-03-21T07:42:27.058501Z"
    },
    "papermill": {
     "duration": 0.14161,
     "end_time": "2023-03-21T07:42:27.061300",
     "exception": false,
     "start_time": "2023-03-21T07:42:26.919690",
     "status": "completed"
    },
    "tags": []
   },
   "outputs": [
    {
     "data": {
      "text/plain": [
       "[<matplotlib.lines.Line2D at 0x7f7caf441790>]"
      ]
     },
     "execution_count": 21,
     "metadata": {},
     "output_type": "execute_result"
    },
    {
     "data": {
      "image/png": "[encoded data removed]",
      "text/plain": [
       "<Figure size 640x480 with 1 Axes>"
      ]
     },
     "metadata": {},
     "output_type": "display_data"
    }
   ],
   "source": [
    "plt.plot(random.choice(ts_train))"
   ]
  },
  {
   "cell_type": "code",
   "execution_count": 22,
   "id": "98ce9d63",
   "metadata": {
    "execution": {
     "iopub.execute_input": "2023-03-21T07:42:27.116564Z",
     "iopub.status.busy": "2023-03-21T07:42:27.116193Z",
     "iopub.status.idle": "2023-03-21T07:42:27.123342Z",
     "shell.execute_reply": "2023-03-21T07:42:27.121894Z"
    },
    "papermill": {
     "duration": 0.037422,
     "end_time": "2023-03-21T07:42:27.125862",
     "exception": false,
     "start_time": "2023-03-21T07:42:27.088440",
     "status": "completed"
    },
    "tags": []
   },
   "outputs": [],
   "source": [
    "# Parameters that require knowing if it's binary or multiclass (LightGBM, metrics)\n",
    "if len(set(y)) == 2:\n",
    "    avg_par = 'macro'\n",
    "    obj_par = 'binary'\n",
    "elif len(set(y)) > 2:\n",
    "    avg_par = 'weighted'\n",
    "    obj_par = 'multiclass'"
   ]
  },
  {
   "cell_type": "markdown",
   "id": "228f1b39",
   "metadata": {
    "papermill": {
     "duration": 0.01168,
     "end_time": "2023-03-21T07:42:27.150681",
     "exception": false,
     "start_time": "2023-03-21T07:42:27.139001",
     "status": "completed"
    },
    "tags": []
   },
   "source": [
    "## Classification"
   ]
  },
  {
   "cell_type": "code",
   "execution_count": 23,
   "id": "34bb73ff",
   "metadata": {
    "execution": {
     "iopub.execute_input": "2023-03-21T07:42:27.175856Z",
     "iopub.status.busy": "2023-03-21T07:42:27.175378Z",
     "iopub.status.idle": "2023-03-21T07:42:27.258885Z",
     "shell.execute_reply": "2023-03-21T07:42:27.258113Z"
    },
    "papermill": {
     "duration": 0.098401,
     "end_time": "2023-03-21T07:42:27.260844",
     "exception": false,
     "start_time": "2023-03-21T07:42:27.162443",
     "status": "completed"
    },
    "tags": []
   },
   "outputs": [],
   "source": [
    "from sklearn.tree import DecisionTreeClassifier\n",
    "import lightgbm as lgbm\n",
    "from sklearn.ensemble import RandomForestClassifier"
   ]
  },
  {
   "cell_type": "code",
   "execution_count": 24,
   "id": "02aaee18",
   "metadata": {
    "execution": {
     "iopub.execute_input": "2023-03-21T07:42:27.288485Z",
     "iopub.status.busy": "2023-03-21T07:42:27.288151Z",
     "iopub.status.idle": "2023-03-21T07:42:27.293708Z",
     "shell.execute_reply": "2023-03-21T07:42:27.292773Z"
    },
    "papermill": {
     "duration": 0.019955,
     "end_time": "2023-03-21T07:42:27.295325",
     "exception": false,
     "start_time": "2023-03-21T07:42:27.275370",
     "status": "completed"
    },
    "tags": []
   },
   "outputs": [],
   "source": [
    "metrics_data = {}"
   ]
  },
  {
   "cell_type": "markdown",
   "id": "b49309ed",
   "metadata": {
    "papermill": {
     "duration": 0.014888,
     "end_time": "2023-03-21T07:42:27.322369",
     "exception": false,
     "start_time": "2023-03-21T07:42:27.307481",
     "status": "completed"
    },
    "tags": []
   },
   "source": [
    "### Baseline: global features (No Time Series)"
   ]
  },
  {
   "cell_type": "code",
   "execution_count": 25,
   "id": "35eb9f66",
   "metadata": {
    "execution": {
     "iopub.execute_input": "2023-03-21T07:42:27.349681Z",
     "iopub.status.busy": "2023-03-21T07:42:27.348875Z",
     "iopub.status.idle": "2023-03-21T07:42:27.353761Z",
     "shell.execute_reply": "2023-03-21T07:42:27.352778Z"
    },
    "papermill": {
     "duration": 0.019862,
     "end_time": "2023-03-21T07:42:27.355341",
     "exception": false,
     "start_time": "2023-03-21T07:42:27.335479",
     "status": "completed"
    },
    "tags": []
   },
   "outputs": [],
   "source": [
    "metrics_data['Global'] = {}"
   ]
  },
  {
   "cell_type": "markdown",
   "id": "29cd5044",
   "metadata": {
    "papermill": {
     "duration": 0.01143,
     "end_time": "2023-03-21T07:42:27.378189",
     "exception": false,
     "start_time": "2023-03-21T07:42:27.366759",
     "status": "completed"
    },
    "tags": []
   },
   "source": [
    "**Decision Tree**"
   ]
  },
  {
   "cell_type": "code",
   "execution_count": 26,
   "id": "9ef4f037",
   "metadata": {
    "execution": {
     "iopub.execute_input": "2023-03-21T07:42:27.403713Z",
     "iopub.status.busy": "2023-03-21T07:42:27.402807Z",
     "iopub.status.idle": "2023-03-21T07:42:27.610926Z",
     "shell.execute_reply": "2023-03-21T07:42:27.610129Z"
    },
    "papermill": {
     "duration": 0.222849,
     "end_time": "2023-03-21T07:42:27.612717",
     "exception": false,
     "start_time": "2023-03-21T07:42:27.389868",
     "status": "completed"
    },
    "tags": []
   },
   "outputs": [
    {
     "data": {
      "text/html": [
       "<style>#sk-container-id-1 {color: black;background-color: white;}#sk-container-id-1 pre{padding: 0;}#sk-container-id-1 div.sk-toggleable {background-color: white;}#sk-container-id-1 label.sk-toggleable__label {cursor: pointer;display: block;width: 100%;margin-bottom: 0;padding: 0.3em;box-sizing: border-box;text-align: center;}#sk-container-id-1 label.sk-toggleable__label-arrow:before {content: \"▸\";float: left;margin-right: 0.25em;color: #696969;}#sk-container-id-1 label.sk-toggleable__label-arrow:hover:before {color: black;}#sk-container-id-1 div.sk-estimator:hover label.sk-toggleable__label-arrow:before {color: black;}#sk-container-id-1 div.sk-toggleable__content {max-height: 0;max-width: 0;overflow: hidden;text-align: left;background-color: #f0f8ff;}#sk-container-id-1 div.sk-toggleable__content pre {margin: 0.2em;color: black;border-radius: 0.25em;background-color: #f0f8ff;}#sk-container-id-1 input.sk-toggleable__control:checked~div.sk-toggleable__content {max-height: 200px;max-width: 100%;overflow: auto;}#sk-container-id-1 input.sk-toggleable__control:checked~label.sk-toggleable__label-arrow:before {content: \"▾\";}#sk-container-id-1 div.sk-estimator input.sk-toggleable__control:checked~label.sk-toggleable__label {background-color: #d4ebff;}#sk-container-id-1 div.sk-label input.sk-toggleable__control:checked~label.sk-toggleable__label {background-color: #d4ebff;}#sk-container-id-1 input.sk-hidden--visually {border: 0;clip: rect(1px 1px 1px 1px);clip: rect(1px, 1px, 1px, 1px);height: 1px;margin: -1px;overflow: hidden;padding: 0;position: absolute;width: 1px;}#sk-container-id-1 div.sk-estimator {font-family: monospace;background-color: #f0f8ff;border: 1px dotted black;border-radius: 0.25em;box-sizing: border-box;margin-bottom: 0.5em;}#sk-container-id-1 div.sk-estimator:hover {background-color: #d4ebff;}#sk-container-id-1 div.sk-parallel-item::after {content: \"\";width: 100%;border-bottom: 1px solid gray;flex-grow: 1;}#sk-container-id-1 div.sk-label:hover label.sk-toggleable__label {background-color: #d4ebff;}#sk-container-id-1 div.sk-serial::before {content: \"\";position: absolute;border-left: 1px solid gray;box-sizing: border-box;top: 0;bottom: 0;left: 50%;z-index: 0;}#sk-container-id-1 div.sk-serial {display: flex;flex-direction: column;align-items: center;background-color: white;padding-right: 0.2em;padding-left: 0.2em;position: relative;}#sk-container-id-1 div.sk-item {position: relative;z-index: 1;}#sk-container-id-1 div.sk-parallel {display: flex;align-items: stretch;justify-content: center;background-color: white;position: relative;}#sk-container-id-1 div.sk-item::before, #sk-container-id-1 div.sk-parallel-item::before {content: \"\";position: absolute;border-left: 1px solid gray;box-sizing: border-box;top: 0;bottom: 0;left: 50%;z-index: -1;}#sk-container-id-1 div.sk-parallel-item {display: flex;flex-direction: column;z-index: 1;position: relative;background-color: white;}#sk-container-id-1 div.sk-parallel-item:first-child::after {align-self: flex-end;width: 50%;}#sk-container-id-1 div.sk-parallel-item:last-child::after {align-self: flex-start;width: 50%;}#sk-container-id-1 div.sk-parallel-item:only-child::after {width: 0;}#sk-container-id-1 div.sk-dashed-wrapped {border: 1px dashed gray;margin: 0 0.4em 0.5em 0.4em;box-sizing: border-box;padding-bottom: 0.4em;background-color: white;}#sk-container-id-1 div.sk-label label {font-family: monospace;font-weight: bold;display: inline-block;line-height: 1.2em;}#sk-container-id-1 div.sk-label-container {text-align: center;}#sk-container-id-1 div.sk-container {/* jupyter's `normalize.less` sets `[hidden] { display: none; }` but bootstrap.min.css set `[hidden] { display: none !important; }` so we also need the `!important` here to be able to override the default hidden behavior on the sphinx rendered scikit-learn.org. See: https://github.com/scikit-learn/scikit-learn/issues/21755 */display: inline-block !important;position: relative;}#sk-container-id-1 div.sk-text-repr-fallback {display: none;}</style><div id=\"sk-container-id-1\" class=\"sk-top-container\"><div class=\"sk-text-repr-fallback\"><pre>DecisionTreeClassifier()</pre><b>In a Jupyter environment, please rerun this cell to show the HTML representation or trust the notebook. <br />On GitHub, the HTML representation is unable to render, please try loading this page with nbviewer.org.</b></div><div class=\"sk-container\" hidden><div class=\"sk-item\"><div class=\"sk-estimator sk-toggleable\"><input class=\"sk-toggleable__control sk-hidden--visually\" id=\"sk-estimator-id-1\" type=\"checkbox\" checked><label for=\"sk-estimator-id-1\" class=\"sk-toggleable__label sk-toggleable__label-arrow\">DecisionTreeClassifier</label><div class=\"sk-toggleable__content\"><pre>DecisionTreeClassifier()</pre></div></div></div></div></div>"
      ],
      "text/plain": [
       "DecisionTreeClassifier()"
      ]
     },
     "execution_count": 26,
     "metadata": {},
     "output_type": "execute_result"
    }
   ],
   "source": [
    "clf = DecisionTreeClassifier()\n",
    "clf.fit(X_train, y_train)"
   ]
  },
  {
   "cell_type": "code",
   "execution_count": 27,
   "id": "9c50acc4",
   "metadata": {
    "execution": {
     "iopub.execute_input": "2023-03-21T07:42:27.641333Z",
     "iopub.status.busy": "2023-03-21T07:42:27.640505Z",
     "iopub.status.idle": "2023-03-21T07:42:27.768042Z",
     "shell.execute_reply": "2023-03-21T07:42:27.767069Z"
    },
    "papermill": {
     "duration": 0.143623,
     "end_time": "2023-03-21T07:42:27.770911",
     "exception": false,
     "start_time": "2023-03-21T07:42:27.627288",
     "status": "completed"
    },
    "tags": []
   },
   "outputs": [
    {
     "name": "stdout",
     "output_type": "stream",
     "text": [
      "              precision    recall  f1-score   support\n",
      "\n",
      "         rap       0.73      0.73      0.73      2400\n",
      "        rock       0.73      0.72      0.73      2400\n",
      "\n",
      "    accuracy                           0.73      4800\n",
      "   macro avg       0.73      0.73      0.73      4800\n",
      "weighted avg       0.73      0.73      0.73      4800\n",
      "\n"
     ]
    }
   ],
   "source": [
    "y_pred = clf.predict(X_test)\n",
    "print(classification_report(y_test, y_pred))"
   ]
  },
  {
   "cell_type": "code",
   "execution_count": 28,
   "id": "8866c3c3",
   "metadata": {
    "execution": {
     "iopub.execute_input": "2023-03-21T07:42:27.839999Z",
     "iopub.status.busy": "2023-03-21T07:42:27.839622Z",
     "iopub.status.idle": "2023-03-21T07:42:27.976693Z",
     "shell.execute_reply": "2023-03-21T07:42:27.975796Z"
    },
    "papermill": {
     "duration": 0.174737,
     "end_time": "2023-03-21T07:42:27.979552",
     "exception": false,
     "start_time": "2023-03-21T07:42:27.804815",
     "status": "completed"
    },
    "tags": []
   },
   "outputs": [],
   "source": [
    "acc = accuracy_score(y_test, y_pred)\n",
    "pre = precision_score(y_test, y_pred, average=avg_par)\n",
    "rec = recall_score(y_test, y_pred, average=avg_par)\n",
    "f1 = f1_score(y_test, y_pred, average=avg_par)\n",
    "\n",
    "metrics_data['Global']['DecisionTree'] = {'Accuracy': acc, 'Precision': pre, 'Recall': rec, 'F1': f1}"
   ]
  },
  {
   "cell_type": "markdown",
   "id": "28aa5a63",
   "metadata": {
    "papermill": {
     "duration": 0.033543,
     "end_time": "2023-03-21T07:42:28.046513",
     "exception": false,
     "start_time": "2023-03-21T07:42:28.012970",
     "status": "completed"
    },
    "tags": []
   },
   "source": [
    "**Random Forest**"
   ]
  },
  {
   "cell_type": "code",
   "execution_count": 29,
   "id": "0e5e2310",
   "metadata": {
    "execution": {
     "iopub.execute_input": "2023-03-21T07:42:28.081119Z",
     "iopub.status.busy": "2023-03-21T07:42:28.080649Z",
     "iopub.status.idle": "2023-03-21T07:42:31.666285Z",
     "shell.execute_reply": "2023-03-21T07:42:31.665499Z"
    },
    "papermill": {
     "duration": 3.601824,
     "end_time": "2023-03-21T07:42:31.669071",
     "exception": false,
     "start_time": "2023-03-21T07:42:28.067247",
     "status": "completed"
    },
    "tags": []
   },
   "outputs": [
    {
     "data": {
      "text/html": [
       "<style>#sk-container-id-2 {color: black;background-color: white;}#sk-container-id-2 pre{padding: 0;}#sk-container-id-2 div.sk-toggleable {background-color: white;}#sk-container-id-2 label.sk-toggleable__label {cursor: pointer;display: block;width: 100%;margin-bottom: 0;padding: 0.3em;box-sizing: border-box;text-align: center;}#sk-container-id-2 label.sk-toggleable__label-arrow:before {content: \"▸\";float: left;margin-right: 0.25em;color: #696969;}#sk-container-id-2 label.sk-toggleable__label-arrow:hover:before {color: black;}#sk-container-id-2 div.sk-estimator:hover label.sk-toggleable__label-arrow:before {color: black;}#sk-container-id-2 div.sk-toggleable__content {max-height: 0;max-width: 0;overflow: hidden;text-align: left;background-color: #f0f8ff;}#sk-container-id-2 div.sk-toggleable__content pre {margin: 0.2em;color: black;border-radius: 0.25em;background-color: #f0f8ff;}#sk-container-id-2 input.sk-toggleable__control:checked~div.sk-toggleable__content {max-height: 200px;max-width: 100%;overflow: auto;}#sk-container-id-2 input.sk-toggleable__control:checked~label.sk-toggleable__label-arrow:before {content: \"▾\";}#sk-container-id-2 div.sk-estimator input.sk-toggleable__control:checked~label.sk-toggleable__label {background-color: #d4ebff;}#sk-container-id-2 div.sk-label input.sk-toggleable__control:checked~label.sk-toggleable__label {background-color: #d4ebff;}#sk-container-id-2 input.sk-hidden--visually {border: 0;clip: rect(1px 1px 1px 1px);clip: rect(1px, 1px, 1px, 1px);height: 1px;margin: -1px;overflow: hidden;padding: 0;position: absolute;width: 1px;}#sk-container-id-2 div.sk-estimator {font-family: monospace;background-color: #f0f8ff;border: 1px dotted black;border-radius: 0.25em;box-sizing: border-box;margin-bottom: 0.5em;}#sk-container-id-2 div.sk-estimator:hover {background-color: #d4ebff;}#sk-container-id-2 div.sk-parallel-item::after {content: \"\";width: 100%;border-bottom: 1px solid gray;flex-grow: 1;}#sk-container-id-2 div.sk-label:hover label.sk-toggleable__label {background-color: #d4ebff;}#sk-container-id-2 div.sk-serial::before {content: \"\";position: absolute;border-left: 1px solid gray;box-sizing: border-box;top: 0;bottom: 0;left: 50%;z-index: 0;}#sk-container-id-2 div.sk-serial {display: flex;flex-direction: column;align-items: center;background-color: white;padding-right: 0.2em;padding-left: 0.2em;position: relative;}#sk-container-id-2 div.sk-item {position: relative;z-index: 1;}#sk-container-id-2 div.sk-parallel {display: flex;align-items: stretch;justify-content: center;background-color: white;position: relative;}#sk-container-id-2 div.sk-item::before, #sk-container-id-2 div.sk-parallel-item::before {content: \"\";position: absolute;border-left: 1px solid gray;box-sizing: border-box;top: 0;bottom: 0;left: 50%;z-index: -1;}#sk-container-id-2 div.sk-parallel-item {display: flex;flex-direction: column;z-index: 1;position: relative;background-color: white;}#sk-container-id-2 div.sk-parallel-item:first-child::after {align-self: flex-end;width: 50%;}#sk-container-id-2 div.sk-parallel-item:last-child::after {align-self: flex-start;width: 50%;}#sk-container-id-2 div.sk-parallel-item:only-child::after {width: 0;}#sk-container-id-2 div.sk-dashed-wrapped {border: 1px dashed gray;margin: 0 0.4em 0.5em 0.4em;box-sizing: border-box;padding-bottom: 0.4em;background-color: white;}#sk-container-id-2 div.sk-label label {font-family: monospace;font-weight: bold;display: inline-block;line-height: 1.2em;}#sk-container-id-2 div.sk-label-container {text-align: center;}#sk-container-id-2 div.sk-container {/* jupyter's `normalize.less` sets `[hidden] { display: none; }` but bootstrap.min.css set `[hidden] { display: none !important; }` so we also need the `!important` here to be able to override the default hidden behavior on the sphinx rendered scikit-learn.org. See: https://github.com/scikit-learn/scikit-learn/issues/21755 */display: inline-block !important;position: relative;}#sk-container-id-2 div.sk-text-repr-fallback {display: none;}</style><div id=\"sk-container-id-2\" class=\"sk-top-container\"><div class=\"sk-text-repr-fallback\"><pre>RandomForestClassifier(random_state=42)</pre><b>In a Jupyter environment, please rerun this cell to show the HTML representation or trust the notebook. <br />On GitHub, the HTML representation is unable to render, please try loading this page with nbviewer.org.</b></div><div class=\"sk-container\" hidden><div class=\"sk-item\"><div class=\"sk-estimator sk-toggleable\"><input class=\"sk-toggleable__control sk-hidden--visually\" id=\"sk-estimator-id-2\" type=\"checkbox\" checked><label for=\"sk-estimator-id-2\" class=\"sk-toggleable__label sk-toggleable__label-arrow\">RandomForestClassifier</label><div class=\"sk-toggleable__content\"><pre>RandomForestClassifier(random_state=42)</pre></div></div></div></div></div>"
      ],
      "text/plain": [
       "RandomForestClassifier(random_state=42)"
      ]
     },
     "execution_count": 29,
     "metadata": {},
     "output_type": "execute_result"
    }
   ],
   "source": [
    "clf = RandomForestClassifier(random_state=42)\n",
    "clf.fit(X_train, y_train)"
   ]
  },
  {
   "cell_type": "code",
   "execution_count": 30,
   "id": "4bd1304b",
   "metadata": {
    "execution": {
     "iopub.execute_input": "2023-03-21T07:42:31.738836Z",
     "iopub.status.busy": "2023-03-21T07:42:31.738539Z",
     "iopub.status.idle": "2023-03-21T07:42:31.947037Z",
     "shell.execute_reply": "2023-03-21T07:42:31.946214Z"
    },
    "papermill": {
     "duration": 0.246991,
     "end_time": "2023-03-21T07:42:31.949846",
     "exception": false,
     "start_time": "2023-03-21T07:42:31.702855",
     "status": "completed"
    },
    "tags": []
   },
   "outputs": [
    {
     "name": "stdout",
     "output_type": "stream",
     "text": [
      "              precision    recall  f1-score   support\n",
      "\n",
      "         rap       0.80      0.79      0.79      2400\n",
      "        rock       0.79      0.80      0.79      2400\n",
      "\n",
      "    accuracy                           0.79      4800\n",
      "   macro avg       0.79      0.79      0.79      4800\n",
      "weighted avg       0.79      0.79      0.79      4800\n",
      "\n"
     ]
    }
   ],
   "source": [
    "y_pred = clf.predict(X_test)\n",
    "print(classification_report(y_test, y_pred))"
   ]
  },
  {
   "cell_type": "code",
   "execution_count": 31,
   "id": "43174ba2",
   "metadata": {
    "execution": {
     "iopub.execute_input": "2023-03-21T07:42:32.022150Z",
     "iopub.status.busy": "2023-03-21T07:42:32.021428Z",
     "iopub.status.idle": "2023-03-21T07:42:32.136706Z",
     "shell.execute_reply": "2023-03-21T07:42:32.135900Z"
    },
    "papermill": {
     "duration": 0.155084,
     "end_time": "2023-03-21T07:42:32.139552",
     "exception": false,
     "start_time": "2023-03-21T07:42:31.984468",
     "status": "completed"
    },
    "tags": []
   },
   "outputs": [],
   "source": [
    "acc = accuracy_score(y_test, y_pred)\n",
    "pre = precision_score(y_test, y_pred, average=avg_par)\n",
    "rec = recall_score(y_test, y_pred, average=avg_par)\n",
    "f1 = f1_score(y_test, y_pred, average=avg_par)\n",
    "\n",
    "metrics_data['Global']['RandomForest'] = {'Accuracy': acc, 'Precision': pre, 'Recall': rec, 'F1': f1}"
   ]
  },
  {
   "cell_type": "markdown",
   "id": "22c98ac5",
   "metadata": {
    "papermill": {
     "duration": 0.033874,
     "end_time": "2023-03-21T07:42:32.208069",
     "exception": false,
     "start_time": "2023-03-21T07:42:32.174195",
     "status": "completed"
    },
    "tags": []
   },
   "source": [
    "**LightGBM**"
   ]
  },
  {
   "cell_type": "code",
   "execution_count": 32,
   "id": "c93b818c",
   "metadata": {
    "execution": {
     "iopub.execute_input": "2023-03-21T07:42:32.235291Z",
     "iopub.status.busy": "2023-03-21T07:42:32.234862Z",
     "iopub.status.idle": "2023-03-21T07:42:32.375354Z",
     "shell.execute_reply": "2023-03-21T07:42:32.374506Z"
    },
    "papermill": {
     "duration": 0.155968,
     "end_time": "2023-03-21T07:42:32.377108",
     "exception": false,
     "start_time": "2023-03-21T07:42:32.221140",
     "status": "completed"
    },
    "tags": []
   },
   "outputs": [
    {
     "data": {
      "text/html": [
       "<style>#sk-container-id-3 {color: black;background-color: white;}#sk-container-id-3 pre{padding: 0;}#sk-container-id-3 div.sk-toggleable {background-color: white;}#sk-container-id-3 label.sk-toggleable__label {cursor: pointer;display: block;width: 100%;margin-bottom: 0;padding: 0.3em;box-sizing: border-box;text-align: center;}#sk-container-id-3 label.sk-toggleable__label-arrow:before {content: \"▸\";float: left;margin-right: 0.25em;color: #696969;}#sk-container-id-3 label.sk-toggleable__label-arrow:hover:before {color: black;}#sk-container-id-3 div.sk-estimator:hover label.sk-toggleable__label-arrow:before {color: black;}#sk-container-id-3 div.sk-toggleable__content {max-height: 0;max-width: 0;overflow: hidden;text-align: left;background-color: #f0f8ff;}#sk-container-id-3 div.sk-toggleable__content pre {margin: 0.2em;color: black;border-radius: 0.25em;background-color: #f0f8ff;}#sk-container-id-3 input.sk-toggleable__control:checked~div.sk-toggleable__content {max-height: 200px;max-width: 100%;overflow: auto;}#sk-container-id-3 input.sk-toggleable__control:checked~label.sk-toggleable__label-arrow:before {content: \"▾\";}#sk-container-id-3 div.sk-estimator input.sk-toggleable__control:checked~label.sk-toggleable__label {background-color: #d4ebff;}#sk-container-id-3 div.sk-label input.sk-toggleable__control:checked~label.sk-toggleable__label {background-color: #d4ebff;}#sk-container-id-3 input.sk-hidden--visually {border: 0;clip: rect(1px 1px 1px 1px);clip: rect(1px, 1px, 1px, 1px);height: 1px;margin: -1px;overflow: hidden;padding: 0;position: absolute;width: 1px;}#sk-container-id-3 div.sk-estimator {font-family: monospace;background-color: #f0f8ff;border: 1px dotted black;border-radius: 0.25em;box-sizing: border-box;margin-bottom: 0.5em;}#sk-container-id-3 div.sk-estimator:hover {background-color: #d4ebff;}#sk-container-id-3 div.sk-parallel-item::after {content: \"\";width: 100%;border-bottom: 1px solid gray;flex-grow: 1;}#sk-container-id-3 div.sk-label:hover label.sk-toggleable__label {background-color: #d4ebff;}#sk-container-id-3 div.sk-serial::before {content: \"\";position: absolute;border-left: 1px solid gray;box-sizing: border-box;top: 0;bottom: 0;left: 50%;z-index: 0;}#sk-container-id-3 div.sk-serial {display: flex;flex-direction: column;align-items: center;background-color: white;padding-right: 0.2em;padding-left: 0.2em;position: relative;}#sk-container-id-3 div.sk-item {position: relative;z-index: 1;}#sk-container-id-3 div.sk-parallel {display: flex;align-items: stretch;justify-content: center;background-color: white;position: relative;}#sk-container-id-3 div.sk-item::before, #sk-container-id-3 div.sk-parallel-item::before {content: \"\";position: absolute;border-left: 1px solid gray;box-sizing: border-box;top: 0;bottom: 0;left: 50%;z-index: -1;}#sk-container-id-3 div.sk-parallel-item {display: flex;flex-direction: column;z-index: 1;position: relative;background-color: white;}#sk-container-id-3 div.sk-parallel-item:first-child::after {align-self: flex-end;width: 50%;}#sk-container-id-3 div.sk-parallel-item:last-child::after {align-self: flex-start;width: 50%;}#sk-container-id-3 div.sk-parallel-item:only-child::after {width: 0;}#sk-container-id-3 div.sk-dashed-wrapped {border: 1px dashed gray;margin: 0 0.4em 0.5em 0.4em;box-sizing: border-box;padding-bottom: 0.4em;background-color: white;}#sk-container-id-3 div.sk-label label {font-family: monospace;font-weight: bold;display: inline-block;line-height: 1.2em;}#sk-container-id-3 div.sk-label-container {text-align: center;}#sk-container-id-3 div.sk-container {/* jupyter's `normalize.less` sets `[hidden] { display: none; }` but bootstrap.min.css set `[hidden] { display: none !important; }` so we also need the `!important` here to be able to override the default hidden behavior on the sphinx rendered scikit-learn.org. See: https://github.com/scikit-learn/scikit-learn/issues/21755 */display: inline-block !important;position: relative;}#sk-container-id-3 div.sk-text-repr-fallback {display: none;}</style><div id=\"sk-container-id-3\" class=\"sk-top-container\"><div class=\"sk-text-repr-fallback\"><pre>LGBMClassifier(objective=&#x27;binary&#x27;)</pre><b>In a Jupyter environment, please rerun this cell to show the HTML representation or trust the notebook. <br />On GitHub, the HTML representation is unable to render, please try loading this page with nbviewer.org.</b></div><div class=\"sk-container\" hidden><div class=\"sk-item\"><div class=\"sk-estimator sk-toggleable\"><input class=\"sk-toggleable__control sk-hidden--visually\" id=\"sk-estimator-id-3\" type=\"checkbox\" checked><label for=\"sk-estimator-id-3\" class=\"sk-toggleable__label sk-toggleable__label-arrow\">LGBMClassifier</label><div class=\"sk-toggleable__content\"><pre>LGBMClassifier(objective=&#x27;binary&#x27;)</pre></div></div></div></div></div>"
      ],
      "text/plain": [
       "LGBMClassifier(objective='binary')"
      ]
     },
     "execution_count": 32,
     "metadata": {},
     "output_type": "execute_result"
    }
   ],
   "source": [
    "clf = lgbm.LGBMClassifier(objective=obj_par) \n",
    "clf.fit(X_train, y_train)"
   ]
  },
  {
   "cell_type": "code",
   "execution_count": 33,
   "id": "600a663a",
   "metadata": {
    "execution": {
     "iopub.execute_input": "2023-03-21T07:42:32.404707Z",
     "iopub.status.busy": "2023-03-21T07:42:32.404310Z",
     "iopub.status.idle": "2023-03-21T07:42:32.541589Z",
     "shell.execute_reply": "2023-03-21T07:42:32.540584Z"
    },
    "papermill": {
     "duration": 0.152868,
     "end_time": "2023-03-21T07:42:32.543248",
     "exception": false,
     "start_time": "2023-03-21T07:42:32.390380",
     "status": "completed"
    },
    "tags": []
   },
   "outputs": [
    {
     "name": "stdout",
     "output_type": "stream",
     "text": [
      "              precision    recall  f1-score   support\n",
      "\n",
      "         rap       0.82      0.79      0.80      2400\n",
      "        rock       0.79      0.82      0.81      2400\n",
      "\n",
      "    accuracy                           0.80      4800\n",
      "   macro avg       0.81      0.80      0.80      4800\n",
      "weighted avg       0.81      0.80      0.80      4800\n",
      "\n"
     ]
    }
   ],
   "source": [
    "y_pred = clf.predict(X_test)\n",
    "print(classification_report(y_test, y_pred))"
   ]
  },
  {
   "cell_type": "code",
   "execution_count": 34,
   "id": "508d831d",
   "metadata": {
    "execution": {
     "iopub.execute_input": "2023-03-21T07:42:32.568955Z",
     "iopub.status.busy": "2023-03-21T07:42:32.568697Z",
     "iopub.status.idle": "2023-03-21T07:42:32.666571Z",
     "shell.execute_reply": "2023-03-21T07:42:32.665805Z"
    },
    "papermill": {
     "duration": 0.112757,
     "end_time": "2023-03-21T07:42:32.668303",
     "exception": false,
     "start_time": "2023-03-21T07:42:32.555546",
     "status": "completed"
    },
    "tags": []
   },
   "outputs": [],
   "source": [
    "acc = accuracy_score(y_test, y_pred)\n",
    "pre = precision_score(y_test, y_pred, average=avg_par)\n",
    "rec = recall_score(y_test, y_pred, average=avg_par)\n",
    "f1 = f1_score(y_test, y_pred, average=avg_par)\n",
    "\n",
    "metrics_data['Global']['LightGBM'] = {'Accuracy': acc, 'Precision': pre, 'Recall': rec, 'F1': f1}"
   ]
  },
  {
   "cell_type": "markdown",
   "id": "14b86894",
   "metadata": {
    "papermill": {
     "duration": 0.012261,
     "end_time": "2023-03-21T07:42:32.693067",
     "exception": false,
     "start_time": "2023-03-21T07:42:32.680806",
     "status": "completed"
    },
    "tags": []
   },
   "source": [
    "### Time Series Classification"
   ]
  },
  {
   "cell_type": "markdown",
   "id": "84c55533",
   "metadata": {
    "papermill": {
     "duration": 0.012688,
     "end_time": "2023-03-21T07:42:32.717849",
     "exception": false,
     "start_time": "2023-03-21T07:42:32.705161",
     "status": "completed"
    },
    "tags": []
   },
   "source": [
    "#### Learning Shapelets"
   ]
  },
  {
   "cell_type": "code",
   "execution_count": 35,
   "id": "488d8eb7",
   "metadata": {
    "execution": {
     "iopub.execute_input": "2023-03-21T07:42:32.744492Z",
     "iopub.status.busy": "2023-03-21T07:42:32.744240Z",
     "iopub.status.idle": "2023-03-21T07:42:34.278995Z",
     "shell.execute_reply": "2023-03-21T07:42:34.278089Z"
    },
    "papermill": {
     "duration": 1.55018,
     "end_time": "2023-03-21T07:42:34.280940",
     "exception": false,
     "start_time": "2023-03-21T07:42:32.730760",
     "status": "completed"
    },
    "tags": []
   },
   "outputs": [
    {
     "name": "stderr",
     "output_type": "stream",
     "text": [
      "2023-03-21 08:42:32.749225: I tensorflow/core/platform/cpu_feature_guard.cc:193] This TensorFlow binary is optimized with oneAPI Deep Neural Network Library (oneDNN) to use the following CPU instructions in performance-critical operations:  AVX2 FMA\n",
      "To enable them in other operations, rebuild TensorFlow with the appropriate compiler flags.\n",
      "2023-03-21 08:42:32.884195: W tensorflow/compiler/xla/stream_executor/platform/default/dso_loader.cc:64] Could not load dynamic library 'libcudart.so.11.0'; dlerror: libcudart.so.11.0: cannot open shared object file: No such file or directory\n",
      "2023-03-21 08:42:32.884218: I tensorflow/compiler/xla/stream_executor/cuda/cudart_stub.cc:29] Ignore above cudart dlerror if you do not have a GPU set up on your machine.\n"
     ]
    },
    {
     "name": "stderr",
     "output_type": "stream",
     "text": [
      "2023-03-21 08:42:33.512085: W tensorflow/compiler/xla/stream_executor/platform/default/dso_loader.cc:64] Could not load dynamic library 'libnvinfer.so.7'; dlerror: libnvinfer.so.7: cannot open shared object file: No such file or directory\n",
      "2023-03-21 08:42:33.512154: W tensorflow/compiler/xla/stream_executor/platform/default/dso_loader.cc:64] Could not load dynamic library 'libnvinfer_plugin.so.7'; dlerror: libnvinfer_plugin.so.7: cannot open shared object file: No such file or directory\n",
      "2023-03-21 08:42:33.512162: W tensorflow/compiler/tf2tensorrt/utils/py_utils.cc:38] TF-TRT Warning: Cannot dlopen some TensorRT libraries. If you would like to use Nvidia GPU with TensorRT, please make sure the missing libraries mentioned above are installed properly.\n"
     ]
    }
   ],
   "source": [
    "from tslearn.shapelets import LearningShapelets, grabocka_params_to_shapelet_size_dict"
   ]
  },
  {
   "cell_type": "code",
   "execution_count": 36,
   "id": "eb677959",
   "metadata": {
    "execution": {
     "iopub.execute_input": "2023-03-21T07:42:34.308598Z",
     "iopub.status.busy": "2023-03-21T07:42:34.308128Z",
     "iopub.status.idle": "2023-03-21T07:42:34.314026Z",
     "shell.execute_reply": "2023-03-21T07:42:34.312508Z"
    },
    "papermill": {
     "duration": 0.023104,
     "end_time": "2023-03-21T07:42:34.317723",
     "exception": false,
     "start_time": "2023-03-21T07:42:34.294619",
     "status": "completed"
    },
    "tags": []
   },
   "outputs": [],
   "source": [
    "n_ts, ts_sz, _ = ts_train.shape\n",
    "n_classes = len(set(y_train))"
   ]
  },
  {
   "cell_type": "code",
   "execution_count": 37,
   "id": "776ed3dd",
   "metadata": {
    "execution": {
     "iopub.execute_input": "2023-03-21T07:42:34.351958Z",
     "iopub.status.busy": "2023-03-21T07:42:34.351681Z",
     "iopub.status.idle": "2023-03-21T07:42:34.357736Z",
     "shell.execute_reply": "2023-03-21T07:42:34.356746Z"
    },
    "papermill": {
     "duration": 0.02146,
     "end_time": "2023-03-21T07:42:34.359422",
     "exception": false,
     "start_time": "2023-03-21T07:42:34.337962",
     "status": "completed"
    },
    "tags": []
   },
   "outputs": [
    {
     "name": "stdout",
     "output_type": "stream",
     "text": [
      "n_ts 19200\n",
      "ts_sz 100\n",
      "n_classes 2\n",
      "shapelet_sizes {10: 6}\n"
     ]
    }
   ],
   "source": [
    "# Set the number of shapelets per size as done in the original paper\n",
    "g_shapelet_sizes = grabocka_params_to_shapelet_size_dict(n_ts=n_ts,\n",
    "                                                         ts_sz=ts_sz,\n",
    "                                                         n_classes=n_classes,\n",
    "                                                         l=0.1,\n",
    "                                                         r=1)\n",
    "\n",
    "print('n_ts', n_ts)\n",
    "print('ts_sz', ts_sz)\n",
    "print('n_classes', n_classes)\n",
    "print('shapelet_sizes', g_shapelet_sizes)"
   ]
  },
  {
   "cell_type": "code",
   "execution_count": 38,
   "id": "90ed707e",
   "metadata": {
    "execution": {
     "iopub.execute_input": "2023-03-21T07:42:34.385510Z",
     "iopub.status.busy": "2023-03-21T07:42:34.385247Z",
     "iopub.status.idle": "2023-03-21T07:42:34.391816Z",
     "shell.execute_reply": "2023-03-21T07:42:34.390915Z"
    },
    "papermill": {
     "duration": 0.021411,
     "end_time": "2023-03-21T07:42:34.393466",
     "exception": false,
     "start_time": "2023-03-21T07:42:34.372055",
     "status": "completed"
    },
    "tags": []
   },
   "outputs": [
    {
     "data": {
      "text/plain": [
       "{10: 6, 20: 6, 5: 6}"
      ]
     },
     "execution_count": 38,
     "metadata": {},
     "output_type": "execute_result"
    }
   ],
   "source": [
    "shapelet_sizes = {}\n",
    "for key in g_shapelet_sizes:\n",
    "    shapelet_sizes[key] = g_shapelet_sizes[key]\n",
    "    shapelet_sizes[key*2] = g_shapelet_sizes[key]\n",
    "    shapelet_sizes[key//2] = g_shapelet_sizes[key]\n",
    "shapelet_sizes"
   ]
  },
  {
   "cell_type": "code",
   "execution_count": 39,
   "id": "3507fb9c",
   "metadata": {
    "execution": {
     "iopub.execute_input": "2023-03-21T07:42:34.419787Z",
     "iopub.status.busy": "2023-03-21T07:42:34.419524Z",
     "iopub.status.idle": "2023-03-21T07:42:34.424847Z",
     "shell.execute_reply": "2023-03-21T07:42:34.423910Z"
    },
    "papermill": {
     "duration": 0.020515,
     "end_time": "2023-03-21T07:42:34.426559",
     "exception": false,
     "start_time": "2023-03-21T07:42:34.406044",
     "status": "completed"
    },
    "tags": []
   },
   "outputs": [
    {
     "name": "stderr",
     "output_type": "stream",
     "text": [
      "/home/mattiapggioli/lyrics2ts/.venv/lib/python3.9/site-packages/tslearn/shapelets/shapelets.py:354: FutureWarning: The default value for 'scale' is set to False in version 0.4 to ensure backward compatibility, but is likely to change in a future version.\n",
      "  warnings.warn(\"The default value for 'scale' is set to False \"\n"
     ]
    }
   ],
   "source": [
    "model = LearningShapelets(n_shapelets_per_size=shapelet_sizes,\n",
    "                          optimizer=\"adam\", \n",
    "                          weight_regularizer=.01, \n",
    "                          max_iter=max_iter, verbose=0, random_state=42)"
   ]
  },
  {
   "cell_type": "code",
   "execution_count": 40,
   "id": "73b1fe2e",
   "metadata": {
    "execution": {
     "iopub.execute_input": "2023-03-21T07:42:34.455035Z",
     "iopub.status.busy": "2023-03-21T07:42:34.454765Z",
     "iopub.status.idle": "2023-03-21T08:08:06.060501Z",
     "shell.execute_reply": "2023-03-21T08:08:06.059460Z"
    },
    "papermill": {
     "duration": 1531.68023,
     "end_time": "2023-03-21T08:08:06.120543",
     "exception": false,
     "start_time": "2023-03-21T07:42:34.440313",
     "status": "completed"
    },
    "tags": []
   },
   "outputs": [
    {
     "name": "stderr",
     "output_type": "stream",
     "text": [
      "2023-03-21 08:42:35.009136: W tensorflow/compiler/xla/stream_executor/platform/default/dso_loader.cc:64] Could not load dynamic library 'libcuda.so.1'; dlerror: libcuda.so.1: cannot open shared object file: No such file or directory\n",
      "2023-03-21 08:42:35.009164: W tensorflow/compiler/xla/stream_executor/cuda/cuda_driver.cc:265] failed call to cuInit: UNKNOWN ERROR (303)\n",
      "2023-03-21 08:42:35.009186: I tensorflow/compiler/xla/stream_executor/cuda/cuda_diagnostics.cc:156] kernel driver does not appear to be running on this host (mattiapggioli-ThinkPad-E595): /proc/driver/nvidia/version does not exist\n",
      "2023-03-21 08:42:35.009400: I tensorflow/core/platform/cpu_feature_guard.cc:193] This TensorFlow binary is optimized with oneAPI Deep Neural Network Library (oneDNN) to use the following CPU instructions in performance-critical operations:  AVX2 FMA\n",
      "To enable them in other operations, rebuild TensorFlow with the appropriate compiler flags.\n"
     ]
    },
    {
     "name": "stdout",
     "output_type": "stream",
     "text": [
      "CPU times: user 2h 26min 13s, sys: 7min 1s, total: 2h 33min 15s\n",
      "Wall time: 25min 31s\n"
     ]
    },
    {
     "data": {
      "text/html": [
       "<style>#sk-container-id-4 {color: black;background-color: white;}#sk-container-id-4 pre{padding: 0;}#sk-container-id-4 div.sk-toggleable {background-color: white;}#sk-container-id-4 label.sk-toggleable__label {cursor: pointer;display: block;width: 100%;margin-bottom: 0;padding: 0.3em;box-sizing: border-box;text-align: center;}#sk-container-id-4 label.sk-toggleable__label-arrow:before {content: \"▸\";float: left;margin-right: 0.25em;color: #696969;}#sk-container-id-4 label.sk-toggleable__label-arrow:hover:before {color: black;}#sk-container-id-4 div.sk-estimator:hover label.sk-toggleable__label-arrow:before {color: black;}#sk-container-id-4 div.sk-toggleable__content {max-height: 0;max-width: 0;overflow: hidden;text-align: left;background-color: #f0f8ff;}#sk-container-id-4 div.sk-toggleable__content pre {margin: 0.2em;color: black;border-radius: 0.25em;background-color: #f0f8ff;}#sk-container-id-4 input.sk-toggleable__control:checked~div.sk-toggleable__content {max-height: 200px;max-width: 100%;overflow: auto;}#sk-container-id-4 input.sk-toggleable__control:checked~label.sk-toggleable__label-arrow:before {content: \"▾\";}#sk-container-id-4 div.sk-estimator input.sk-toggleable__control:checked~label.sk-toggleable__label {background-color: #d4ebff;}#sk-container-id-4 div.sk-label input.sk-toggleable__control:checked~label.sk-toggleable__label {background-color: #d4ebff;}#sk-container-id-4 input.sk-hidden--visually {border: 0;clip: rect(1px 1px 1px 1px);clip: rect(1px, 1px, 1px, 1px);height: 1px;margin: -1px;overflow: hidden;padding: 0;position: absolute;width: 1px;}#sk-container-id-4 div.sk-estimator {font-family: monospace;background-color: #f0f8ff;border: 1px dotted black;border-radius: 0.25em;box-sizing: border-box;margin-bottom: 0.5em;}#sk-container-id-4 div.sk-estimator:hover {background-color: #d4ebff;}#sk-container-id-4 div.sk-parallel-item::after {content: \"\";width: 100%;border-bottom: 1px solid gray;flex-grow: 1;}#sk-container-id-4 div.sk-label:hover label.sk-toggleable__label {background-color: #d4ebff;}#sk-container-id-4 div.sk-serial::before {content: \"\";position: absolute;border-left: 1px solid gray;box-sizing: border-box;top: 0;bottom: 0;left: 50%;z-index: 0;}#sk-container-id-4 div.sk-serial {display: flex;flex-direction: column;align-items: center;background-color: white;padding-right: 0.2em;padding-left: 0.2em;position: relative;}#sk-container-id-4 div.sk-item {position: relative;z-index: 1;}#sk-container-id-4 div.sk-parallel {display: flex;align-items: stretch;justify-content: center;background-color: white;position: relative;}#sk-container-id-4 div.sk-item::before, #sk-container-id-4 div.sk-parallel-item::before {content: \"\";position: absolute;border-left: 1px solid gray;box-sizing: border-box;top: 0;bottom: 0;left: 50%;z-index: -1;}#sk-container-id-4 div.sk-parallel-item {display: flex;flex-direction: column;z-index: 1;position: relative;background-color: white;}#sk-container-id-4 div.sk-parallel-item:first-child::after {align-self: flex-end;width: 50%;}#sk-container-id-4 div.sk-parallel-item:last-child::after {align-self: flex-start;width: 50%;}#sk-container-id-4 div.sk-parallel-item:only-child::after {width: 0;}#sk-container-id-4 div.sk-dashed-wrapped {border: 1px dashed gray;margin: 0 0.4em 0.5em 0.4em;box-sizing: border-box;padding-bottom: 0.4em;background-color: white;}#sk-container-id-4 div.sk-label label {font-family: monospace;font-weight: bold;display: inline-block;line-height: 1.2em;}#sk-container-id-4 div.sk-label-container {text-align: center;}#sk-container-id-4 div.sk-container {/* jupyter's `normalize.less` sets `[hidden] { display: none; }` but bootstrap.min.css set `[hidden] { display: none !important; }` so we also need the `!important` here to be able to override the default hidden behavior on the sphinx rendered scikit-learn.org. See: https://github.com/scikit-learn/scikit-learn/issues/21755 */display: inline-block !important;position: relative;}#sk-container-id-4 div.sk-text-repr-fallback {display: none;}</style><div id=\"sk-container-id-4\" class=\"sk-top-container\"><div class=\"sk-text-repr-fallback\"><pre>LearningShapelets(max_iter=2000, n_shapelets_per_size={5: 6, 10: 6, 20: 6},\n",
       "                  optimizer=&#x27;adam&#x27;, random_state=42, weight_regularizer=0.01)</pre><b>In a Jupyter environment, please rerun this cell to show the HTML representation or trust the notebook. <br />On GitHub, the HTML representation is unable to render, please try loading this page with nbviewer.org.</b></div><div class=\"sk-container\" hidden><div class=\"sk-item\"><div class=\"sk-estimator sk-toggleable\"><input class=\"sk-toggleable__control sk-hidden--visually\" id=\"sk-estimator-id-4\" type=\"checkbox\" checked><label for=\"sk-estimator-id-4\" class=\"sk-toggleable__label sk-toggleable__label-arrow\">LearningShapelets</label><div class=\"sk-toggleable__content\"><pre>LearningShapelets(max_iter=2000, n_shapelets_per_size={5: 6, 10: 6, 20: 6},\n",
       "                  optimizer=&#x27;adam&#x27;, random_state=42, weight_regularizer=0.01)</pre></div></div></div></div></div>"
      ],
      "text/plain": [
       "LearningShapelets(max_iter=2000, n_shapelets_per_size={5: 6, 10: 6, 20: 6},\n",
       "                  optimizer='adam', random_state=42, weight_regularizer=0.01)"
      ]
     },
     "execution_count": 40,
     "metadata": {},
     "output_type": "execute_result"
    }
   ],
   "source": [
    "%%time\n",
    "model.fit(ts_train, y_train)"
   ]
  },
  {
   "cell_type": "code",
   "execution_count": 41,
   "id": "51706baa",
   "metadata": {
    "execution": {
     "iopub.execute_input": "2023-03-21T08:08:06.150106Z",
     "iopub.status.busy": "2023-03-21T08:08:06.149650Z",
     "iopub.status.idle": "2023-03-21T08:08:06.183216Z",
     "shell.execute_reply": "2023-03-21T08:08:06.181914Z"
    },
    "papermill": {
     "duration": 0.050767,
     "end_time": "2023-03-21T08:08:06.185421",
     "exception": false,
     "start_time": "2023-03-21T08:08:06.134654",
     "status": "completed"
    },
    "tags": []
   },
   "outputs": [],
   "source": [
    "model.to_pickle(f'{data_path}/shapelets.pkl')"
   ]
  },
  {
   "cell_type": "markdown",
   "id": "309f70dc",
   "metadata": {
    "papermill": {
     "duration": 0.013595,
     "end_time": "2023-03-21T08:08:06.214818",
     "exception": false,
     "start_time": "2023-03-21T08:08:06.201223",
     "status": "completed"
    },
    "tags": []
   },
   "source": [
    "#### Shapelet-Based Classification"
   ]
  },
  {
   "cell_type": "code",
   "execution_count": 42,
   "id": "60125dff",
   "metadata": {
    "execution": {
     "iopub.execute_input": "2023-03-21T08:08:06.242860Z",
     "iopub.status.busy": "2023-03-21T08:08:06.242416Z",
     "iopub.status.idle": "2023-03-21T08:08:06.247753Z",
     "shell.execute_reply": "2023-03-21T08:08:06.246689Z"
    },
    "papermill": {
     "duration": 0.021271,
     "end_time": "2023-03-21T08:08:06.249264",
     "exception": false,
     "start_time": "2023-03-21T08:08:06.227993",
     "status": "completed"
    },
    "tags": []
   },
   "outputs": [],
   "source": [
    "metrics_data['Shapelets'] = {}"
   ]
  },
  {
   "cell_type": "code",
   "execution_count": 43,
   "id": "efb8984d",
   "metadata": {
    "execution": {
     "iopub.execute_input": "2023-03-21T08:08:06.277929Z",
     "iopub.status.busy": "2023-03-21T08:08:06.277476Z",
     "iopub.status.idle": "2023-03-21T08:08:08.304250Z",
     "shell.execute_reply": "2023-03-21T08:08:08.303510Z"
    },
    "papermill": {
     "duration": 2.043855,
     "end_time": "2023-03-21T08:08:08.306172",
     "exception": false,
     "start_time": "2023-03-21T08:08:06.262317",
     "status": "completed"
    },
    "tags": []
   },
   "outputs": [],
   "source": [
    "X_train = model.transform(ts_train)\n",
    "X_test = model.transform(ts_test)"
   ]
  },
  {
   "cell_type": "code",
   "execution_count": 44,
   "id": "2e6c0f22",
   "metadata": {
    "execution": {
     "iopub.execute_input": "2023-03-21T08:08:08.337555Z",
     "iopub.status.busy": "2023-03-21T08:08:08.336780Z",
     "iopub.status.idle": "2023-03-21T08:08:08.372165Z",
     "shell.execute_reply": "2023-03-21T08:08:08.371323Z"
    },
    "papermill": {
     "duration": 0.055054,
     "end_time": "2023-03-21T08:08:08.375936",
     "exception": false,
     "start_time": "2023-03-21T08:08:08.320882",
     "status": "completed"
    },
    "tags": []
   },
   "outputs": [
    {
     "data": {
      "text/html": [
       "<div>\n",
       "<style scoped>\n",
       "    .dataframe tbody tr th:only-of-type {\n",
       "        vertical-align: middle;\n",
       "    }\n",
       "\n",
       "    .dataframe tbody tr th {\n",
       "        vertical-align: top;\n",
       "    }\n",
       "\n",
       "    .dataframe thead th {\n",
       "        text-align: right;\n",
       "    }\n",
       "</style>\n",
       "<table border=\"1\" class=\"dataframe\">\n",
       "  <thead>\n",
       "    <tr style=\"text-align: right;\">\n",
       "      <th></th>\n",
       "      <th>0</th>\n",
       "      <th>1</th>\n",
       "      <th>2</th>\n",
       "      <th>3</th>\n",
       "      <th>4</th>\n",
       "      <th>5</th>\n",
       "      <th>6</th>\n",
       "      <th>7</th>\n",
       "      <th>8</th>\n",
       "      <th>9</th>\n",
       "      <th>10</th>\n",
       "      <th>11</th>\n",
       "      <th>12</th>\n",
       "      <th>13</th>\n",
       "      <th>14</th>\n",
       "      <th>15</th>\n",
       "      <th>16</th>\n",
       "      <th>17</th>\n",
       "    </tr>\n",
       "  </thead>\n",
       "  <tbody>\n",
       "    <tr>\n",
       "      <th>0</th>\n",
       "      <td>5.583119</td>\n",
       "      <td>5.662248</td>\n",
       "      <td>5.388678</td>\n",
       "      <td>5.127193</td>\n",
       "      <td>6.780117</td>\n",
       "      <td>5.657294</td>\n",
       "      <td>4.311185</td>\n",
       "      <td>4.219486</td>\n",
       "      <td>5.800157</td>\n",
       "      <td>4.240322</td>\n",
       "      <td>5.771694</td>\n",
       "      <td>4.337757</td>\n",
       "      <td>8.037048</td>\n",
       "      <td>32.194923</td>\n",
       "      <td>44.091015</td>\n",
       "      <td>8.569835</td>\n",
       "      <td>0.029535</td>\n",
       "      <td>0.029548</td>\n",
       "    </tr>\n",
       "    <tr>\n",
       "      <th>1</th>\n",
       "      <td>5.756645</td>\n",
       "      <td>5.116854</td>\n",
       "      <td>4.660984</td>\n",
       "      <td>4.880241</td>\n",
       "      <td>7.373441</td>\n",
       "      <td>6.016239</td>\n",
       "      <td>4.526804</td>\n",
       "      <td>4.435741</td>\n",
       "      <td>5.721242</td>\n",
       "      <td>4.193848</td>\n",
       "      <td>5.700549</td>\n",
       "      <td>4.671913</td>\n",
       "      <td>7.796294</td>\n",
       "      <td>31.762684</td>\n",
       "      <td>42.195667</td>\n",
       "      <td>8.147736</td>\n",
       "      <td>0.006177</td>\n",
       "      <td>0.006177</td>\n",
       "    </tr>\n",
       "    <tr>\n",
       "      <th>2</th>\n",
       "      <td>7.829845</td>\n",
       "      <td>5.330431</td>\n",
       "      <td>5.657747</td>\n",
       "      <td>5.504314</td>\n",
       "      <td>8.645358</td>\n",
       "      <td>7.559623</td>\n",
       "      <td>5.808320</td>\n",
       "      <td>5.550423</td>\n",
       "      <td>5.605111</td>\n",
       "      <td>5.671957</td>\n",
       "      <td>5.587986</td>\n",
       "      <td>5.781771</td>\n",
       "      <td>7.894103</td>\n",
       "      <td>31.572416</td>\n",
       "      <td>42.030827</td>\n",
       "      <td>8.081968</td>\n",
       "      <td>0.004520</td>\n",
       "      <td>0.004514</td>\n",
       "    </tr>\n",
       "    <tr>\n",
       "      <th>3</th>\n",
       "      <td>6.595728</td>\n",
       "      <td>4.971509</td>\n",
       "      <td>5.432449</td>\n",
       "      <td>5.274854</td>\n",
       "      <td>6.817344</td>\n",
       "      <td>6.424698</td>\n",
       "      <td>4.184595</td>\n",
       "      <td>4.522429</td>\n",
       "      <td>5.719128</td>\n",
       "      <td>3.994912</td>\n",
       "      <td>5.687921</td>\n",
       "      <td>4.021021</td>\n",
       "      <td>7.634547</td>\n",
       "      <td>30.745350</td>\n",
       "      <td>42.186241</td>\n",
       "      <td>8.288819</td>\n",
       "      <td>0.001493</td>\n",
       "      <td>0.001496</td>\n",
       "    </tr>\n",
       "    <tr>\n",
       "      <th>4</th>\n",
       "      <td>7.866569</td>\n",
       "      <td>4.726895</td>\n",
       "      <td>4.953613</td>\n",
       "      <td>4.934442</td>\n",
       "      <td>7.922521</td>\n",
       "      <td>7.374827</td>\n",
       "      <td>5.914600</td>\n",
       "      <td>5.604805</td>\n",
       "      <td>5.081878</td>\n",
       "      <td>5.806364</td>\n",
       "      <td>5.050455</td>\n",
       "      <td>5.931310</td>\n",
       "      <td>7.660915</td>\n",
       "      <td>30.877310</td>\n",
       "      <td>41.304920</td>\n",
       "      <td>7.886427</td>\n",
       "      <td>0.005807</td>\n",
       "      <td>0.005802</td>\n",
       "    </tr>\n",
       "    <tr>\n",
       "      <th>...</th>\n",
       "      <td>...</td>\n",
       "      <td>...</td>\n",
       "      <td>...</td>\n",
       "      <td>...</td>\n",
       "      <td>...</td>\n",
       "      <td>...</td>\n",
       "      <td>...</td>\n",
       "      <td>...</td>\n",
       "      <td>...</td>\n",
       "      <td>...</td>\n",
       "      <td>...</td>\n",
       "      <td>...</td>\n",
       "      <td>...</td>\n",
       "      <td>...</td>\n",
       "      <td>...</td>\n",
       "      <td>...</td>\n",
       "      <td>...</td>\n",
       "      <td>...</td>\n",
       "    </tr>\n",
       "    <tr>\n",
       "      <th>4795</th>\n",
       "      <td>5.806276</td>\n",
       "      <td>5.229992</td>\n",
       "      <td>4.870975</td>\n",
       "      <td>5.256114</td>\n",
       "      <td>7.461363</td>\n",
       "      <td>6.544594</td>\n",
       "      <td>4.764135</td>\n",
       "      <td>4.137952</td>\n",
       "      <td>5.766164</td>\n",
       "      <td>4.732208</td>\n",
       "      <td>5.763206</td>\n",
       "      <td>4.798694</td>\n",
       "      <td>7.791662</td>\n",
       "      <td>31.057987</td>\n",
       "      <td>41.895638</td>\n",
       "      <td>8.048276</td>\n",
       "      <td>0.000598</td>\n",
       "      <td>0.000595</td>\n",
       "    </tr>\n",
       "    <tr>\n",
       "      <th>4796</th>\n",
       "      <td>6.762163</td>\n",
       "      <td>5.246535</td>\n",
       "      <td>4.974490</td>\n",
       "      <td>4.936578</td>\n",
       "      <td>6.725429</td>\n",
       "      <td>5.775262</td>\n",
       "      <td>4.941181</td>\n",
       "      <td>4.771094</td>\n",
       "      <td>5.712081</td>\n",
       "      <td>4.750268</td>\n",
       "      <td>5.694517</td>\n",
       "      <td>5.042343</td>\n",
       "      <td>7.612263</td>\n",
       "      <td>30.866547</td>\n",
       "      <td>42.271633</td>\n",
       "      <td>8.119541</td>\n",
       "      <td>0.001282</td>\n",
       "      <td>0.001278</td>\n",
       "    </tr>\n",
       "    <tr>\n",
       "      <th>4797</th>\n",
       "      <td>6.461605</td>\n",
       "      <td>4.260929</td>\n",
       "      <td>5.016807</td>\n",
       "      <td>4.131113</td>\n",
       "      <td>7.378324</td>\n",
       "      <td>6.680641</td>\n",
       "      <td>5.668336</td>\n",
       "      <td>4.914540</td>\n",
       "      <td>5.381441</td>\n",
       "      <td>5.526515</td>\n",
       "      <td>5.346806</td>\n",
       "      <td>5.253817</td>\n",
       "      <td>7.731440</td>\n",
       "      <td>30.581171</td>\n",
       "      <td>40.519268</td>\n",
       "      <td>7.835265</td>\n",
       "      <td>0.022842</td>\n",
       "      <td>0.022830</td>\n",
       "    </tr>\n",
       "    <tr>\n",
       "      <th>4798</th>\n",
       "      <td>6.256950</td>\n",
       "      <td>4.923851</td>\n",
       "      <td>4.959110</td>\n",
       "      <td>5.048614</td>\n",
       "      <td>7.097135</td>\n",
       "      <td>5.562330</td>\n",
       "      <td>4.820300</td>\n",
       "      <td>4.711305</td>\n",
       "      <td>5.327866</td>\n",
       "      <td>4.675620</td>\n",
       "      <td>5.303841</td>\n",
       "      <td>4.792943</td>\n",
       "      <td>7.688399</td>\n",
       "      <td>31.245594</td>\n",
       "      <td>42.477566</td>\n",
       "      <td>7.991180</td>\n",
       "      <td>0.060561</td>\n",
       "      <td>0.060537</td>\n",
       "    </tr>\n",
       "    <tr>\n",
       "      <th>4799</th>\n",
       "      <td>6.154145</td>\n",
       "      <td>5.185755</td>\n",
       "      <td>5.707475</td>\n",
       "      <td>5.364275</td>\n",
       "      <td>8.537972</td>\n",
       "      <td>7.265537</td>\n",
       "      <td>5.693271</td>\n",
       "      <td>4.901920</td>\n",
       "      <td>5.461903</td>\n",
       "      <td>5.349630</td>\n",
       "      <td>5.446559</td>\n",
       "      <td>5.690750</td>\n",
       "      <td>7.424371</td>\n",
       "      <td>31.388533</td>\n",
       "      <td>42.159756</td>\n",
       "      <td>7.849230</td>\n",
       "      <td>0.007425</td>\n",
       "      <td>0.007417</td>\n",
       "    </tr>\n",
       "  </tbody>\n",
       "</table>\n",
       "<p>4800 rows × 18 columns</p>\n",
       "</div>"
      ],
      "text/plain": [
       "            0         1         2         3         4         5         6   \\\n",
       "0     5.583119  5.662248  5.388678  5.127193  6.780117  5.657294  4.311185   \n",
       "1     5.756645  5.116854  4.660984  4.880241  7.373441  6.016239  4.526804   \n",
       "2     7.829845  5.330431  5.657747  5.504314  8.645358  7.559623  5.808320   \n",
       "3     6.595728  4.971509  5.432449  5.274854  6.817344  6.424698  4.184595   \n",
       "4     7.866569  4.726895  4.953613  4.934442  7.922521  7.374827  5.914600   \n",
       "...        ...       ...       ...       ...       ...       ...       ...   \n",
       "4795  5.806276  5.229992  4.870975  5.256114  7.461363  6.544594  4.764135   \n",
       "4796  6.762163  5.246535  4.974490  4.936578  6.725429  5.775262  4.941181   \n",
       "4797  6.461605  4.260929  5.016807  4.131113  7.378324  6.680641  5.668336   \n",
       "4798  6.256950  4.923851  4.959110  5.048614  7.097135  5.562330  4.820300   \n",
       "4799  6.154145  5.185755  5.707475  5.364275  8.537972  7.265537  5.693271   \n",
       "\n",
       "            7         8         9         10        11        12         13  \\\n",
       "0     4.219486  5.800157  4.240322  5.771694  4.337757  8.037048  32.194923   \n",
       "1     4.435741  5.721242  4.193848  5.700549  4.671913  7.796294  31.762684   \n",
       "2     5.550423  5.605111  5.671957  5.587986  5.781771  7.894103  31.572416   \n",
       "3     4.522429  5.719128  3.994912  5.687921  4.021021  7.634547  30.745350   \n",
       "4     5.604805  5.081878  5.806364  5.050455  5.931310  7.660915  30.877310   \n",
       "...        ...       ...       ...       ...       ...       ...        ...   \n",
       "4795  4.137952  5.766164  4.732208  5.763206  4.798694  7.791662  31.057987   \n",
       "4796  4.771094  5.712081  4.750268  5.694517  5.042343  7.612263  30.866547   \n",
       "4797  4.914540  5.381441  5.526515  5.346806  5.253817  7.731440  30.581171   \n",
       "4798  4.711305  5.327866  4.675620  5.303841  4.792943  7.688399  31.245594   \n",
       "4799  4.901920  5.461903  5.349630  5.446559  5.690750  7.424371  31.388533   \n",
       "\n",
       "             14        15        16        17  \n",
       "0     44.091015  8.569835  0.029535  0.029548  \n",
       "1     42.195667  8.147736  0.006177  0.006177  \n",
       "2     42.030827  8.081968  0.004520  0.004514  \n",
       "3     42.186241  8.288819  0.001493  0.001496  \n",
       "4     41.304920  7.886427  0.005807  0.005802  \n",
       "...         ...       ...       ...       ...  \n",
       "4795  41.895638  8.048276  0.000598  0.000595  \n",
       "4796  42.271633  8.119541  0.001282  0.001278  \n",
       "4797  40.519268  7.835265  0.022842  0.022830  \n",
       "4798  42.477566  7.991180  0.060561  0.060537  \n",
       "4799  42.159756  7.849230  0.007425  0.007417  \n",
       "\n",
       "[4800 rows x 18 columns]"
      ]
     },
     "execution_count": 44,
     "metadata": {},
     "output_type": "execute_result"
    }
   ],
   "source": [
    "pd.DataFrame(X_test)"
   ]
  },
  {
   "cell_type": "markdown",
   "id": "5fa024f7",
   "metadata": {
    "execution": {
     "iopub.execute_input": "2023-02-07T23:47:19.876941Z",
     "iopub.status.busy": "2023-02-07T23:47:19.876424Z",
     "iopub.status.idle": "2023-02-07T23:47:20.399488Z",
     "shell.execute_reply": "2023-02-07T23:47:20.398142Z"
    },
    "papermill": {
     "duration": 0.023896,
     "end_time": "2023-03-21T08:08:08.435470",
     "exception": false,
     "start_time": "2023-03-21T08:08:08.411574",
     "status": "completed"
    },
    "tags": []
   },
   "source": [
    "**Decision Tree**"
   ]
  },
  {
   "cell_type": "code",
   "execution_count": 45,
   "id": "4f5400c9",
   "metadata": {
    "execution": {
     "iopub.execute_input": "2023-03-21T08:08:08.465274Z",
     "iopub.status.busy": "2023-03-21T08:08:08.464776Z",
     "iopub.status.idle": "2023-03-21T08:08:09.022395Z",
     "shell.execute_reply": "2023-03-21T08:08:09.021648Z"
    },
    "papermill": {
     "duration": 0.576572,
     "end_time": "2023-03-21T08:08:09.025608",
     "exception": false,
     "start_time": "2023-03-21T08:08:08.449036",
     "status": "completed"
    },
    "tags": []
   },
   "outputs": [
    {
     "data": {
      "text/html": [
       "<style>#sk-container-id-5 {color: black;background-color: white;}#sk-container-id-5 pre{padding: 0;}#sk-container-id-5 div.sk-toggleable {background-color: white;}#sk-container-id-5 label.sk-toggleable__label {cursor: pointer;display: block;width: 100%;margin-bottom: 0;padding: 0.3em;box-sizing: border-box;text-align: center;}#sk-container-id-5 label.sk-toggleable__label-arrow:before {content: \"▸\";float: left;margin-right: 0.25em;color: #696969;}#sk-container-id-5 label.sk-toggleable__label-arrow:hover:before {color: black;}#sk-container-id-5 div.sk-estimator:hover label.sk-toggleable__label-arrow:before {color: black;}#sk-container-id-5 div.sk-toggleable__content {max-height: 0;max-width: 0;overflow: hidden;text-align: left;background-color: #f0f8ff;}#sk-container-id-5 div.sk-toggleable__content pre {margin: 0.2em;color: black;border-radius: 0.25em;background-color: #f0f8ff;}#sk-container-id-5 input.sk-toggleable__control:checked~div.sk-toggleable__content {max-height: 200px;max-width: 100%;overflow: auto;}#sk-container-id-5 input.sk-toggleable__control:checked~label.sk-toggleable__label-arrow:before {content: \"▾\";}#sk-container-id-5 div.sk-estimator input.sk-toggleable__control:checked~label.sk-toggleable__label {background-color: #d4ebff;}#sk-container-id-5 div.sk-label input.sk-toggleable__control:checked~label.sk-toggleable__label {background-color: #d4ebff;}#sk-container-id-5 input.sk-hidden--visually {border: 0;clip: rect(1px 1px 1px 1px);clip: rect(1px, 1px, 1px, 1px);height: 1px;margin: -1px;overflow: hidden;padding: 0;position: absolute;width: 1px;}#sk-container-id-5 div.sk-estimator {font-family: monospace;background-color: #f0f8ff;border: 1px dotted black;border-radius: 0.25em;box-sizing: border-box;margin-bottom: 0.5em;}#sk-container-id-5 div.sk-estimator:hover {background-color: #d4ebff;}#sk-container-id-5 div.sk-parallel-item::after {content: \"\";width: 100%;border-bottom: 1px solid gray;flex-grow: 1;}#sk-container-id-5 div.sk-label:hover label.sk-toggleable__label {background-color: #d4ebff;}#sk-container-id-5 div.sk-serial::before {content: \"\";position: absolute;border-left: 1px solid gray;box-sizing: border-box;top: 0;bottom: 0;left: 50%;z-index: 0;}#sk-container-id-5 div.sk-serial {display: flex;flex-direction: column;align-items: center;background-color: white;padding-right: 0.2em;padding-left: 0.2em;position: relative;}#sk-container-id-5 div.sk-item {position: relative;z-index: 1;}#sk-container-id-5 div.sk-parallel {display: flex;align-items: stretch;justify-content: center;background-color: white;position: relative;}#sk-container-id-5 div.sk-item::before, #sk-container-id-5 div.sk-parallel-item::before {content: \"\";position: absolute;border-left: 1px solid gray;box-sizing: border-box;top: 0;bottom: 0;left: 50%;z-index: -1;}#sk-container-id-5 div.sk-parallel-item {display: flex;flex-direction: column;z-index: 1;position: relative;background-color: white;}#sk-container-id-5 div.sk-parallel-item:first-child::after {align-self: flex-end;width: 50%;}#sk-container-id-5 div.sk-parallel-item:last-child::after {align-self: flex-start;width: 50%;}#sk-container-id-5 div.sk-parallel-item:only-child::after {width: 0;}#sk-container-id-5 div.sk-dashed-wrapped {border: 1px dashed gray;margin: 0 0.4em 0.5em 0.4em;box-sizing: border-box;padding-bottom: 0.4em;background-color: white;}#sk-container-id-5 div.sk-label label {font-family: monospace;font-weight: bold;display: inline-block;line-height: 1.2em;}#sk-container-id-5 div.sk-label-container {text-align: center;}#sk-container-id-5 div.sk-container {/* jupyter's `normalize.less` sets `[hidden] { display: none; }` but bootstrap.min.css set `[hidden] { display: none !important; }` so we also need the `!important` here to be able to override the default hidden behavior on the sphinx rendered scikit-learn.org. See: https://github.com/scikit-learn/scikit-learn/issues/21755 */display: inline-block !important;position: relative;}#sk-container-id-5 div.sk-text-repr-fallback {display: none;}</style><div id=\"sk-container-id-5\" class=\"sk-top-container\"><div class=\"sk-text-repr-fallback\"><pre>DecisionTreeClassifier(random_state=42)</pre><b>In a Jupyter environment, please rerun this cell to show the HTML representation or trust the notebook. <br />On GitHub, the HTML representation is unable to render, please try loading this page with nbviewer.org.</b></div><div class=\"sk-container\" hidden><div class=\"sk-item\"><div class=\"sk-estimator sk-toggleable\"><input class=\"sk-toggleable__control sk-hidden--visually\" id=\"sk-estimator-id-5\" type=\"checkbox\" checked><label for=\"sk-estimator-id-5\" class=\"sk-toggleable__label sk-toggleable__label-arrow\">DecisionTreeClassifier</label><div class=\"sk-toggleable__content\"><pre>DecisionTreeClassifier(random_state=42)</pre></div></div></div></div></div>"
      ],
      "text/plain": [
       "DecisionTreeClassifier(random_state=42)"
      ]
     },
     "execution_count": 45,
     "metadata": {},
     "output_type": "execute_result"
    }
   ],
   "source": [
    "clf = DecisionTreeClassifier(random_state=42)\n",
    "clf.fit(X_train, y_train)"
   ]
  },
  {
   "cell_type": "code",
   "execution_count": 46,
   "id": "3b56d190",
   "metadata": {
    "execution": {
     "iopub.execute_input": "2023-03-21T08:08:09.056961Z",
     "iopub.status.busy": "2023-03-21T08:08:09.056580Z",
     "iopub.status.idle": "2023-03-21T08:08:09.190880Z",
     "shell.execute_reply": "2023-03-21T08:08:09.190028Z"
    },
    "papermill": {
     "duration": 0.151664,
     "end_time": "2023-03-21T08:08:09.193574",
     "exception": false,
     "start_time": "2023-03-21T08:08:09.041910",
     "status": "completed"
    },
    "tags": []
   },
   "outputs": [
    {
     "name": "stdout",
     "output_type": "stream",
     "text": [
      "              precision    recall  f1-score   support\n",
      "\n",
      "         rap       0.74      0.72      0.73      2400\n",
      "        rock       0.73      0.74      0.74      2400\n",
      "\n",
      "    accuracy                           0.73      4800\n",
      "   macro avg       0.73      0.73      0.73      4800\n",
      "weighted avg       0.73      0.73      0.73      4800\n",
      "\n"
     ]
    }
   ],
   "source": [
    "y_pred = clf.predict(X_test)\n",
    "print(classification_report(y_test, y_pred))"
   ]
  },
  {
   "cell_type": "code",
   "execution_count": 47,
   "id": "42bc91ff",
   "metadata": {
    "execution": {
     "iopub.execute_input": "2023-03-21T08:08:09.262955Z",
     "iopub.status.busy": "2023-03-21T08:08:09.262631Z",
     "iopub.status.idle": "2023-03-21T08:08:09.269518Z",
     "shell.execute_reply": "2023-03-21T08:08:09.268404Z"
    },
    "papermill": {
     "duration": 0.046898,
     "end_time": "2023-03-21T08:08:09.274124",
     "exception": false,
     "start_time": "2023-03-21T08:08:09.227226",
     "status": "completed"
    },
    "tags": []
   },
   "outputs": [],
   "source": [
    "pickle.dump(clf, open(f'{data_path}/decision_tree.pkl', 'wb'))"
   ]
  },
  {
   "cell_type": "code",
   "execution_count": 48,
   "id": "ea9be210",
   "metadata": {
    "execution": {
     "iopub.execute_input": "2023-03-21T08:08:09.309699Z",
     "iopub.status.busy": "2023-03-21T08:08:09.309107Z",
     "iopub.status.idle": "2023-03-21T08:08:09.406851Z",
     "shell.execute_reply": "2023-03-21T08:08:09.406094Z"
    },
    "papermill": {
     "duration": 0.114771,
     "end_time": "2023-03-21T08:08:09.408790",
     "exception": false,
     "start_time": "2023-03-21T08:08:09.294019",
     "status": "completed"
    },
    "tags": []
   },
   "outputs": [],
   "source": [
    "acc = accuracy_score(y_test, y_pred)\n",
    "pre = precision_score(y_test, y_pred, average=avg_par)\n",
    "rec = recall_score(y_test, y_pred, average=avg_par)\n",
    "f1 = f1_score(y_test, y_pred, average=avg_par)\n",
    "\n",
    "metrics_data['Shapelets']['DecisionTree'] = {'Accuracy': acc, 'Precision': pre, 'Recall': rec, 'F1': f1}"
   ]
  },
  {
   "cell_type": "markdown",
   "id": "3ca3443b",
   "metadata": {
    "papermill": {
     "duration": 0.013528,
     "end_time": "2023-03-21T08:08:09.438859",
     "exception": false,
     "start_time": "2023-03-21T08:08:09.425331",
     "status": "completed"
    },
    "tags": []
   },
   "source": [
    "**Random Forest**"
   ]
  },
  {
   "cell_type": "code",
   "execution_count": 49,
   "id": "37795e21",
   "metadata": {
    "execution": {
     "iopub.execute_input": "2023-03-21T08:08:09.472116Z",
     "iopub.status.busy": "2023-03-21T08:08:09.471816Z",
     "iopub.status.idle": "2023-03-21T08:08:16.835253Z",
     "shell.execute_reply": "2023-03-21T08:08:16.834464Z"
    },
    "papermill": {
     "duration": 7.385501,
     "end_time": "2023-03-21T08:08:16.838054",
     "exception": false,
     "start_time": "2023-03-21T08:08:09.452553",
     "status": "completed"
    },
    "tags": []
   },
   "outputs": [
    {
     "data": {
      "text/html": [
       "<style>#sk-container-id-6 {color: black;background-color: white;}#sk-container-id-6 pre{padding: 0;}#sk-container-id-6 div.sk-toggleable {background-color: white;}#sk-container-id-6 label.sk-toggleable__label {cursor: pointer;display: block;width: 100%;margin-bottom: 0;padding: 0.3em;box-sizing: border-box;text-align: center;}#sk-container-id-6 label.sk-toggleable__label-arrow:before {content: \"▸\";float: left;margin-right: 0.25em;color: #696969;}#sk-container-id-6 label.sk-toggleable__label-arrow:hover:before {color: black;}#sk-container-id-6 div.sk-estimator:hover label.sk-toggleable__label-arrow:before {color: black;}#sk-container-id-6 div.sk-toggleable__content {max-height: 0;max-width: 0;overflow: hidden;text-align: left;background-color: #f0f8ff;}#sk-container-id-6 div.sk-toggleable__content pre {margin: 0.2em;color: black;border-radius: 0.25em;background-color: #f0f8ff;}#sk-container-id-6 input.sk-toggleable__control:checked~div.sk-toggleable__content {max-height: 200px;max-width: 100%;overflow: auto;}#sk-container-id-6 input.sk-toggleable__control:checked~label.sk-toggleable__label-arrow:before {content: \"▾\";}#sk-container-id-6 div.sk-estimator input.sk-toggleable__control:checked~label.sk-toggleable__label {background-color: #d4ebff;}#sk-container-id-6 div.sk-label input.sk-toggleable__control:checked~label.sk-toggleable__label {background-color: #d4ebff;}#sk-container-id-6 input.sk-hidden--visually {border: 0;clip: rect(1px 1px 1px 1px);clip: rect(1px, 1px, 1px, 1px);height: 1px;margin: -1px;overflow: hidden;padding: 0;position: absolute;width: 1px;}#sk-container-id-6 div.sk-estimator {font-family: monospace;background-color: #f0f8ff;border: 1px dotted black;border-radius: 0.25em;box-sizing: border-box;margin-bottom: 0.5em;}#sk-container-id-6 div.sk-estimator:hover {background-color: #d4ebff;}#sk-container-id-6 div.sk-parallel-item::after {content: \"\";width: 100%;border-bottom: 1px solid gray;flex-grow: 1;}#sk-container-id-6 div.sk-label:hover label.sk-toggleable__label {background-color: #d4ebff;}#sk-container-id-6 div.sk-serial::before {content: \"\";position: absolute;border-left: 1px solid gray;box-sizing: border-box;top: 0;bottom: 0;left: 50%;z-index: 0;}#sk-container-id-6 div.sk-serial {display: flex;flex-direction: column;align-items: center;background-color: white;padding-right: 0.2em;padding-left: 0.2em;position: relative;}#sk-container-id-6 div.sk-item {position: relative;z-index: 1;}#sk-container-id-6 div.sk-parallel {display: flex;align-items: stretch;justify-content: center;background-color: white;position: relative;}#sk-container-id-6 div.sk-item::before, #sk-container-id-6 div.sk-parallel-item::before {content: \"\";position: absolute;border-left: 1px solid gray;box-sizing: border-box;top: 0;bottom: 0;left: 50%;z-index: -1;}#sk-container-id-6 div.sk-parallel-item {display: flex;flex-direction: column;z-index: 1;position: relative;background-color: white;}#sk-container-id-6 div.sk-parallel-item:first-child::after {align-self: flex-end;width: 50%;}#sk-container-id-6 div.sk-parallel-item:last-child::after {align-self: flex-start;width: 50%;}#sk-container-id-6 div.sk-parallel-item:only-child::after {width: 0;}#sk-container-id-6 div.sk-dashed-wrapped {border: 1px dashed gray;margin: 0 0.4em 0.5em 0.4em;box-sizing: border-box;padding-bottom: 0.4em;background-color: white;}#sk-container-id-6 div.sk-label label {font-family: monospace;font-weight: bold;display: inline-block;line-height: 1.2em;}#sk-container-id-6 div.sk-label-container {text-align: center;}#sk-container-id-6 div.sk-container {/* jupyter's `normalize.less` sets `[hidden] { display: none; }` but bootstrap.min.css set `[hidden] { display: none !important; }` so we also need the `!important` here to be able to override the default hidden behavior on the sphinx rendered scikit-learn.org. See: https://github.com/scikit-learn/scikit-learn/issues/21755 */display: inline-block !important;position: relative;}#sk-container-id-6 div.sk-text-repr-fallback {display: none;}</style><div id=\"sk-container-id-6\" class=\"sk-top-container\"><div class=\"sk-text-repr-fallback\"><pre>RandomForestClassifier(random_state=42)</pre><b>In a Jupyter environment, please rerun this cell to show the HTML representation or trust the notebook. <br />On GitHub, the HTML representation is unable to render, please try loading this page with nbviewer.org.</b></div><div class=\"sk-container\" hidden><div class=\"sk-item\"><div class=\"sk-estimator sk-toggleable\"><input class=\"sk-toggleable__control sk-hidden--visually\" id=\"sk-estimator-id-6\" type=\"checkbox\" checked><label for=\"sk-estimator-id-6\" class=\"sk-toggleable__label sk-toggleable__label-arrow\">RandomForestClassifier</label><div class=\"sk-toggleable__content\"><pre>RandomForestClassifier(random_state=42)</pre></div></div></div></div></div>"
      ],
      "text/plain": [
       "RandomForestClassifier(random_state=42)"
      ]
     },
     "execution_count": 49,
     "metadata": {},
     "output_type": "execute_result"
    }
   ],
   "source": [
    "clf = RandomForestClassifier(random_state=42)\n",
    "clf.fit(X_train, y_train)"
   ]
  },
  {
   "cell_type": "code",
   "execution_count": 50,
   "id": "581ab90a",
   "metadata": {
    "execution": {
     "iopub.execute_input": "2023-03-21T08:08:16.882108Z",
     "iopub.status.busy": "2023-03-21T08:08:16.881796Z",
     "iopub.status.idle": "2023-03-21T08:08:17.095524Z",
     "shell.execute_reply": "2023-03-21T08:08:17.094472Z"
    },
    "papermill": {
     "duration": 0.230309,
     "end_time": "2023-03-21T08:08:17.097630",
     "exception": false,
     "start_time": "2023-03-21T08:08:16.867321",
     "status": "completed"
    },
    "tags": []
   },
   "outputs": [
    {
     "name": "stdout",
     "output_type": "stream",
     "text": [
      "              precision    recall  f1-score   support\n",
      "\n",
      "         rap       0.83      0.80      0.81      2400\n",
      "        rock       0.80      0.83      0.82      2400\n",
      "\n",
      "    accuracy                           0.81      4800\n",
      "   macro avg       0.81      0.81      0.81      4800\n",
      "weighted avg       0.81      0.81      0.81      4800\n",
      "\n"
     ]
    }
   ],
   "source": [
    "y_pred = clf.predict(X_test)\n",
    "print(classification_report(y_test, y_pred))"
   ]
  },
  {
   "cell_type": "code",
   "execution_count": 51,
   "id": "faf1d7f4",
   "metadata": {
    "execution": {
     "iopub.execute_input": "2023-03-21T08:08:17.158876Z",
     "iopub.status.busy": "2023-03-21T08:08:17.158527Z",
     "iopub.status.idle": "2023-03-21T08:08:17.256858Z",
     "shell.execute_reply": "2023-03-21T08:08:17.256020Z"
    },
    "papermill": {
     "duration": 0.14177,
     "end_time": "2023-03-21T08:08:17.259648",
     "exception": false,
     "start_time": "2023-03-21T08:08:17.117878",
     "status": "completed"
    },
    "tags": []
   },
   "outputs": [],
   "source": [
    "acc = accuracy_score(y_test, y_pred)\n",
    "pre = precision_score(y_test, y_pred, average=avg_par)\n",
    "rec = recall_score(y_test, y_pred, average=avg_par)\n",
    "f1 = f1_score(y_test, y_pred, average=avg_par)\n",
    "\n",
    "metrics_data['Shapelets']['RandomForest'] = {'Accuracy': acc, 'Precision': pre, 'Recall': rec, 'F1': f1}"
   ]
  },
  {
   "cell_type": "markdown",
   "id": "61fceefb",
   "metadata": {
    "papermill": {
     "duration": 0.013864,
     "end_time": "2023-03-21T08:08:17.295691",
     "exception": false,
     "start_time": "2023-03-21T08:08:17.281827",
     "status": "completed"
    },
    "tags": []
   },
   "source": [
    "**LightGBM**"
   ]
  },
  {
   "cell_type": "code",
   "execution_count": 52,
   "id": "194189da",
   "metadata": {
    "execution": {
     "iopub.execute_input": "2023-03-21T08:08:17.348594Z",
     "iopub.status.busy": "2023-03-21T08:08:17.348190Z",
     "iopub.status.idle": "2023-03-21T08:08:17.547835Z",
     "shell.execute_reply": "2023-03-21T08:08:17.547167Z"
    },
    "papermill": {
     "duration": 0.222048,
     "end_time": "2023-03-21T08:08:17.550713",
     "exception": false,
     "start_time": "2023-03-21T08:08:17.328665",
     "status": "completed"
    },
    "tags": []
   },
   "outputs": [
    {
     "data": {
      "text/html": [
       "<style>#sk-container-id-7 {color: black;background-color: white;}#sk-container-id-7 pre{padding: 0;}#sk-container-id-7 div.sk-toggleable {background-color: white;}#sk-container-id-7 label.sk-toggleable__label {cursor: pointer;display: block;width: 100%;margin-bottom: 0;padding: 0.3em;box-sizing: border-box;text-align: center;}#sk-container-id-7 label.sk-toggleable__label-arrow:before {content: \"▸\";float: left;margin-right: 0.25em;color: #696969;}#sk-container-id-7 label.sk-toggleable__label-arrow:hover:before {color: black;}#sk-container-id-7 div.sk-estimator:hover label.sk-toggleable__label-arrow:before {color: black;}#sk-container-id-7 div.sk-toggleable__content {max-height: 0;max-width: 0;overflow: hidden;text-align: left;background-color: #f0f8ff;}#sk-container-id-7 div.sk-toggleable__content pre {margin: 0.2em;color: black;border-radius: 0.25em;background-color: #f0f8ff;}#sk-container-id-7 input.sk-toggleable__control:checked~div.sk-toggleable__content {max-height: 200px;max-width: 100%;overflow: auto;}#sk-container-id-7 input.sk-toggleable__control:checked~label.sk-toggleable__label-arrow:before {content: \"▾\";}#sk-container-id-7 div.sk-estimator input.sk-toggleable__control:checked~label.sk-toggleable__label {background-color: #d4ebff;}#sk-container-id-7 div.sk-label input.sk-toggleable__control:checked~label.sk-toggleable__label {background-color: #d4ebff;}#sk-container-id-7 input.sk-hidden--visually {border: 0;clip: rect(1px 1px 1px 1px);clip: rect(1px, 1px, 1px, 1px);height: 1px;margin: -1px;overflow: hidden;padding: 0;position: absolute;width: 1px;}#sk-container-id-7 div.sk-estimator {font-family: monospace;background-color: #f0f8ff;border: 1px dotted black;border-radius: 0.25em;box-sizing: border-box;margin-bottom: 0.5em;}#sk-container-id-7 div.sk-estimator:hover {background-color: #d4ebff;}#sk-container-id-7 div.sk-parallel-item::after {content: \"\";width: 100%;border-bottom: 1px solid gray;flex-grow: 1;}#sk-container-id-7 div.sk-label:hover label.sk-toggleable__label {background-color: #d4ebff;}#sk-container-id-7 div.sk-serial::before {content: \"\";position: absolute;border-left: 1px solid gray;box-sizing: border-box;top: 0;bottom: 0;left: 50%;z-index: 0;}#sk-container-id-7 div.sk-serial {display: flex;flex-direction: column;align-items: center;background-color: white;padding-right: 0.2em;padding-left: 0.2em;position: relative;}#sk-container-id-7 div.sk-item {position: relative;z-index: 1;}#sk-container-id-7 div.sk-parallel {display: flex;align-items: stretch;justify-content: center;background-color: white;position: relative;}#sk-container-id-7 div.sk-item::before, #sk-container-id-7 div.sk-parallel-item::before {content: \"\";position: absolute;border-left: 1px solid gray;box-sizing: border-box;top: 0;bottom: 0;left: 50%;z-index: -1;}#sk-container-id-7 div.sk-parallel-item {display: flex;flex-direction: column;z-index: 1;position: relative;background-color: white;}#sk-container-id-7 div.sk-parallel-item:first-child::after {align-self: flex-end;width: 50%;}#sk-container-id-7 div.sk-parallel-item:last-child::after {align-self: flex-start;width: 50%;}#sk-container-id-7 div.sk-parallel-item:only-child::after {width: 0;}#sk-container-id-7 div.sk-dashed-wrapped {border: 1px dashed gray;margin: 0 0.4em 0.5em 0.4em;box-sizing: border-box;padding-bottom: 0.4em;background-color: white;}#sk-container-id-7 div.sk-label label {font-family: monospace;font-weight: bold;display: inline-block;line-height: 1.2em;}#sk-container-id-7 div.sk-label-container {text-align: center;}#sk-container-id-7 div.sk-container {/* jupyter's `normalize.less` sets `[hidden] { display: none; }` but bootstrap.min.css set `[hidden] { display: none !important; }` so we also need the `!important` here to be able to override the default hidden behavior on the sphinx rendered scikit-learn.org. See: https://github.com/scikit-learn/scikit-learn/issues/21755 */display: inline-block !important;position: relative;}#sk-container-id-7 div.sk-text-repr-fallback {display: none;}</style><div id=\"sk-container-id-7\" class=\"sk-top-container\"><div class=\"sk-text-repr-fallback\"><pre>LGBMClassifier(objective=&#x27;binary&#x27;)</pre><b>In a Jupyter environment, please rerun this cell to show the HTML representation or trust the notebook. <br />On GitHub, the HTML representation is unable to render, please try loading this page with nbviewer.org.</b></div><div class=\"sk-container\" hidden><div class=\"sk-item\"><div class=\"sk-estimator sk-toggleable\"><input class=\"sk-toggleable__control sk-hidden--visually\" id=\"sk-estimator-id-7\" type=\"checkbox\" checked><label for=\"sk-estimator-id-7\" class=\"sk-toggleable__label sk-toggleable__label-arrow\">LGBMClassifier</label><div class=\"sk-toggleable__content\"><pre>LGBMClassifier(objective=&#x27;binary&#x27;)</pre></div></div></div></div></div>"
      ],
      "text/plain": [
       "LGBMClassifier(objective='binary')"
      ]
     },
     "execution_count": 52,
     "metadata": {},
     "output_type": "execute_result"
    }
   ],
   "source": [
    "clf = lgbm.LGBMClassifier(objective=obj_par) \n",
    "clf.fit(X_train, y_train)"
   ]
  },
  {
   "cell_type": "code",
   "execution_count": 53,
   "id": "355a078b",
   "metadata": {
    "execution": {
     "iopub.execute_input": "2023-03-21T08:08:17.599470Z",
     "iopub.status.busy": "2023-03-21T08:08:17.599119Z",
     "iopub.status.idle": "2023-03-21T08:08:17.736175Z",
     "shell.execute_reply": "2023-03-21T08:08:17.735093Z"
    },
    "papermill": {
     "duration": 0.163128,
     "end_time": "2023-03-21T08:08:17.739116",
     "exception": false,
     "start_time": "2023-03-21T08:08:17.575988",
     "status": "completed"
    },
    "tags": []
   },
   "outputs": [
    {
     "name": "stdout",
     "output_type": "stream",
     "text": [
      "              precision    recall  f1-score   support\n",
      "\n",
      "         rap       0.82      0.79      0.80      2400\n",
      "        rock       0.80      0.83      0.81      2400\n",
      "\n",
      "    accuracy                           0.81      4800\n",
      "   macro avg       0.81      0.81      0.81      4800\n",
      "weighted avg       0.81      0.81      0.81      4800\n",
      "\n"
     ]
    }
   ],
   "source": [
    "y_pred = clf.predict(X_test)\n",
    "print(classification_report(y_test, y_pred))"
   ]
  },
  {
   "cell_type": "code",
   "execution_count": 54,
   "id": "f22b911e",
   "metadata": {
    "execution": {
     "iopub.execute_input": "2023-03-21T08:08:17.817716Z",
     "iopub.status.busy": "2023-03-21T08:08:17.816244Z",
     "iopub.status.idle": "2023-03-21T08:08:17.956346Z",
     "shell.execute_reply": "2023-03-21T08:08:17.955517Z"
    },
    "papermill": {
     "duration": 0.181189,
     "end_time": "2023-03-21T08:08:17.959182",
     "exception": false,
     "start_time": "2023-03-21T08:08:17.777993",
     "status": "completed"
    },
    "tags": []
   },
   "outputs": [],
   "source": [
    "acc = accuracy_score(y_test, y_pred)\n",
    "pre = precision_score(y_test, y_pred, average=avg_par)\n",
    "rec = recall_score(y_test, y_pred, average=avg_par)\n",
    "f1 = f1_score(y_test, y_pred, average=avg_par)\n",
    "\n",
    "metrics_data['Shapelets']['LightGBM'] = {'Accuracy': acc, 'Precision': pre, 'Recall': rec, 'F1': f1}"
   ]
  },
  {
   "cell_type": "markdown",
   "id": "0809af9f",
   "metadata": {
    "papermill": {
     "duration": 0.022222,
     "end_time": "2023-03-21T08:08:18.013997",
     "exception": false,
     "start_time": "2023-03-21T08:08:17.991775",
     "status": "completed"
    },
    "tags": []
   },
   "source": [
    "#### KNN"
   ]
  },
  {
   "cell_type": "code",
   "execution_count": 55,
   "id": "1c9237e0",
   "metadata": {
    "execution": {
     "iopub.execute_input": "2023-03-21T08:08:18.060884Z",
     "iopub.status.busy": "2023-03-21T08:08:18.059988Z",
     "iopub.status.idle": "2023-03-21T08:08:18.065663Z",
     "shell.execute_reply": "2023-03-21T08:08:18.064833Z"
    },
    "papermill": {
     "duration": 0.023839,
     "end_time": "2023-03-21T08:08:18.068366",
     "exception": false,
     "start_time": "2023-03-21T08:08:18.044527",
     "status": "completed"
    },
    "tags": []
   },
   "outputs": [],
   "source": [
    "X_train = ts_train.reshape((ts_train.shape[0], ts_train.shape[1]))\n",
    "X_test = ts_test.reshape((ts_test.shape[0], ts_test.shape[1]))"
   ]
  },
  {
   "cell_type": "code",
   "execution_count": 56,
   "id": "192f3c3f",
   "metadata": {
    "execution": {
     "iopub.execute_input": "2023-03-21T08:08:18.099824Z",
     "iopub.status.busy": "2023-03-21T08:08:18.099358Z",
     "iopub.status.idle": "2023-03-21T08:08:18.106439Z",
     "shell.execute_reply": "2023-03-21T08:08:18.105418Z"
    },
    "papermill": {
     "duration": 0.024049,
     "end_time": "2023-03-21T08:08:18.108143",
     "exception": false,
     "start_time": "2023-03-21T08:08:18.084094",
     "status": "completed"
    },
    "tags": []
   },
   "outputs": [
    {
     "data": {
      "text/plain": [
       "(19200, 100)"
      ]
     },
     "execution_count": 56,
     "metadata": {},
     "output_type": "execute_result"
    }
   ],
   "source": [
    "X_train.shape"
   ]
  },
  {
   "cell_type": "code",
   "execution_count": 57,
   "id": "de0e5000",
   "metadata": {
    "execution": {
     "iopub.execute_input": "2023-03-21T08:08:18.137835Z",
     "iopub.status.busy": "2023-03-21T08:08:18.137374Z",
     "iopub.status.idle": "2023-03-21T08:08:18.142450Z",
     "shell.execute_reply": "2023-03-21T08:08:18.141465Z"
    },
    "papermill": {
     "duration": 0.022017,
     "end_time": "2023-03-21T08:08:18.144137",
     "exception": false,
     "start_time": "2023-03-21T08:08:18.122120",
     "status": "completed"
    },
    "tags": []
   },
   "outputs": [],
   "source": [
    "metrics_data['KNN'] = {}"
   ]
  },
  {
   "cell_type": "markdown",
   "id": "8ee39c05",
   "metadata": {
    "papermill": {
     "duration": 0.017356,
     "end_time": "2023-03-21T08:08:18.176391",
     "exception": false,
     "start_time": "2023-03-21T08:08:18.159035",
     "status": "completed"
    },
    "tags": []
   },
   "source": [
    "**Euclidean Distance**"
   ]
  },
  {
   "cell_type": "code",
   "execution_count": 58,
   "id": "55db1f58",
   "metadata": {
    "execution": {
     "iopub.execute_input": "2023-03-21T08:08:18.213094Z",
     "iopub.status.busy": "2023-03-21T08:08:18.212261Z",
     "iopub.status.idle": "2023-03-21T08:08:18.217512Z",
     "shell.execute_reply": "2023-03-21T08:08:18.216599Z"
    },
    "papermill": {
     "duration": 0.026142,
     "end_time": "2023-03-21T08:08:18.219544",
     "exception": false,
     "start_time": "2023-03-21T08:08:18.193402",
     "status": "completed"
    },
    "tags": []
   },
   "outputs": [],
   "source": [
    "from sklearn.neighbors import KNeighborsClassifier"
   ]
  },
  {
   "cell_type": "code",
   "execution_count": 59,
   "id": "132c2537",
   "metadata": {
    "execution": {
     "iopub.execute_input": "2023-03-21T08:08:18.252662Z",
     "iopub.status.busy": "2023-03-21T08:08:18.252340Z",
     "iopub.status.idle": "2023-03-21T08:08:18.281271Z",
     "shell.execute_reply": "2023-03-21T08:08:18.280064Z"
    },
    "papermill": {
     "duration": 0.047287,
     "end_time": "2023-03-21T08:08:18.283692",
     "exception": false,
     "start_time": "2023-03-21T08:08:18.236405",
     "status": "completed"
    },
    "tags": []
   },
   "outputs": [
    {
     "data": {
      "text/html": [
       "<style>#sk-container-id-8 {color: black;background-color: white;}#sk-container-id-8 pre{padding: 0;}#sk-container-id-8 div.sk-toggleable {background-color: white;}#sk-container-id-8 label.sk-toggleable__label {cursor: pointer;display: block;width: 100%;margin-bottom: 0;padding: 0.3em;box-sizing: border-box;text-align: center;}#sk-container-id-8 label.sk-toggleable__label-arrow:before {content: \"▸\";float: left;margin-right: 0.25em;color: #696969;}#sk-container-id-8 label.sk-toggleable__label-arrow:hover:before {color: black;}#sk-container-id-8 div.sk-estimator:hover label.sk-toggleable__label-arrow:before {color: black;}#sk-container-id-8 div.sk-toggleable__content {max-height: 0;max-width: 0;overflow: hidden;text-align: left;background-color: #f0f8ff;}#sk-container-id-8 div.sk-toggleable__content pre {margin: 0.2em;color: black;border-radius: 0.25em;background-color: #f0f8ff;}#sk-container-id-8 input.sk-toggleable__control:checked~div.sk-toggleable__content {max-height: 200px;max-width: 100%;overflow: auto;}#sk-container-id-8 input.sk-toggleable__control:checked~label.sk-toggleable__label-arrow:before {content: \"▾\";}#sk-container-id-8 div.sk-estimator input.sk-toggleable__control:checked~label.sk-toggleable__label {background-color: #d4ebff;}#sk-container-id-8 div.sk-label input.sk-toggleable__control:checked~label.sk-toggleable__label {background-color: #d4ebff;}#sk-container-id-8 input.sk-hidden--visually {border: 0;clip: rect(1px 1px 1px 1px);clip: rect(1px, 1px, 1px, 1px);height: 1px;margin: -1px;overflow: hidden;padding: 0;position: absolute;width: 1px;}#sk-container-id-8 div.sk-estimator {font-family: monospace;background-color: #f0f8ff;border: 1px dotted black;border-radius: 0.25em;box-sizing: border-box;margin-bottom: 0.5em;}#sk-container-id-8 div.sk-estimator:hover {background-color: #d4ebff;}#sk-container-id-8 div.sk-parallel-item::after {content: \"\";width: 100%;border-bottom: 1px solid gray;flex-grow: 1;}#sk-container-id-8 div.sk-label:hover label.sk-toggleable__label {background-color: #d4ebff;}#sk-container-id-8 div.sk-serial::before {content: \"\";position: absolute;border-left: 1px solid gray;box-sizing: border-box;top: 0;bottom: 0;left: 50%;z-index: 0;}#sk-container-id-8 div.sk-serial {display: flex;flex-direction: column;align-items: center;background-color: white;padding-right: 0.2em;padding-left: 0.2em;position: relative;}#sk-container-id-8 div.sk-item {position: relative;z-index: 1;}#sk-container-id-8 div.sk-parallel {display: flex;align-items: stretch;justify-content: center;background-color: white;position: relative;}#sk-container-id-8 div.sk-item::before, #sk-container-id-8 div.sk-parallel-item::before {content: \"\";position: absolute;border-left: 1px solid gray;box-sizing: border-box;top: 0;bottom: 0;left: 50%;z-index: -1;}#sk-container-id-8 div.sk-parallel-item {display: flex;flex-direction: column;z-index: 1;position: relative;background-color: white;}#sk-container-id-8 div.sk-parallel-item:first-child::after {align-self: flex-end;width: 50%;}#sk-container-id-8 div.sk-parallel-item:last-child::after {align-self: flex-start;width: 50%;}#sk-container-id-8 div.sk-parallel-item:only-child::after {width: 0;}#sk-container-id-8 div.sk-dashed-wrapped {border: 1px dashed gray;margin: 0 0.4em 0.5em 0.4em;box-sizing: border-box;padding-bottom: 0.4em;background-color: white;}#sk-container-id-8 div.sk-label label {font-family: monospace;font-weight: bold;display: inline-block;line-height: 1.2em;}#sk-container-id-8 div.sk-label-container {text-align: center;}#sk-container-id-8 div.sk-container {/* jupyter's `normalize.less` sets `[hidden] { display: none; }` but bootstrap.min.css set `[hidden] { display: none !important; }` so we also need the `!important` here to be able to override the default hidden behavior on the sphinx rendered scikit-learn.org. See: https://github.com/scikit-learn/scikit-learn/issues/21755 */display: inline-block !important;position: relative;}#sk-container-id-8 div.sk-text-repr-fallback {display: none;}</style><div id=\"sk-container-id-8\" class=\"sk-top-container\"><div class=\"sk-text-repr-fallback\"><pre>KNeighborsClassifier()</pre><b>In a Jupyter environment, please rerun this cell to show the HTML representation or trust the notebook. <br />On GitHub, the HTML representation is unable to render, please try loading this page with nbviewer.org.</b></div><div class=\"sk-container\" hidden><div class=\"sk-item\"><div class=\"sk-estimator sk-toggleable\"><input class=\"sk-toggleable__control sk-hidden--visually\" id=\"sk-estimator-id-8\" type=\"checkbox\" checked><label for=\"sk-estimator-id-8\" class=\"sk-toggleable__label sk-toggleable__label-arrow\">KNeighborsClassifier</label><div class=\"sk-toggleable__content\"><pre>KNeighborsClassifier()</pre></div></div></div></div></div>"
      ],
      "text/plain": [
       "KNeighborsClassifier()"
      ]
     },
     "execution_count": 59,
     "metadata": {},
     "output_type": "execute_result"
    }
   ],
   "source": [
    "clf = KNeighborsClassifier(n_neighbors=5, weights='uniform')\n",
    "clf.fit(X_train, y_train)"
   ]
  },
  {
   "cell_type": "code",
   "execution_count": 60,
   "id": "0afad62a",
   "metadata": {
    "execution": {
     "iopub.execute_input": "2023-03-21T08:08:18.314837Z",
     "iopub.status.busy": "2023-03-21T08:08:18.314311Z",
     "iopub.status.idle": "2023-03-21T08:08:19.410270Z",
     "shell.execute_reply": "2023-03-21T08:08:19.409295Z"
    },
    "papermill": {
     "duration": 1.114687,
     "end_time": "2023-03-21T08:08:19.413049",
     "exception": false,
     "start_time": "2023-03-21T08:08:18.298362",
     "status": "completed"
    },
    "tags": []
   },
   "outputs": [
    {
     "name": "stdout",
     "output_type": "stream",
     "text": [
      "              precision    recall  f1-score   support\n",
      "\n",
      "         rap       0.86      0.03      0.05      2400\n",
      "        rock       0.51      1.00      0.67      2400\n",
      "\n",
      "    accuracy                           0.51      4800\n",
      "   macro avg       0.68      0.51      0.36      4800\n",
      "weighted avg       0.68      0.51      0.36      4800\n",
      "\n"
     ]
    }
   ],
   "source": [
    "y_pred = clf.predict(X_test)\n",
    "print(classification_report(y_test, y_pred))"
   ]
  },
  {
   "cell_type": "code",
   "execution_count": 61,
   "id": "2d709070",
   "metadata": {
    "execution": {
     "iopub.execute_input": "2023-03-21T08:08:19.492142Z",
     "iopub.status.busy": "2023-03-21T08:08:19.491756Z",
     "iopub.status.idle": "2023-03-21T08:08:19.601871Z",
     "shell.execute_reply": "2023-03-21T08:08:19.601114Z"
    },
    "papermill": {
     "duration": 0.155735,
     "end_time": "2023-03-21T08:08:19.604573",
     "exception": false,
     "start_time": "2023-03-21T08:08:19.448838",
     "status": "completed"
    },
    "tags": []
   },
   "outputs": [],
   "source": [
    "acc = accuracy_score(y_test, y_pred)\n",
    "pre = precision_score(y_test, y_pred, average=avg_par)\n",
    "rec = recall_score(y_test, y_pred, average=avg_par)\n",
    "f1 = f1_score(y_test, y_pred, average=avg_par)\n",
    "\n",
    "metrics_data['KNN']['Euclidean'] = {'Accuracy': acc, 'Precision': pre, 'Recall': rec, 'F1': f1}"
   ]
  },
  {
   "cell_type": "markdown",
   "id": "c5ec2a09",
   "metadata": {
    "papermill": {
     "duration": 0.037234,
     "end_time": "2023-03-21T08:08:19.681415",
     "exception": false,
     "start_time": "2023-03-21T08:08:19.644181",
     "status": "completed"
    },
    "tags": []
   },
   "source": [
    "**Dynamic Time Warping**"
   ]
  },
  {
   "cell_type": "code",
   "execution_count": 62,
   "id": "2df913d8",
   "metadata": {
    "execution": {
     "iopub.execute_input": "2023-03-21T08:08:19.711685Z",
     "iopub.status.busy": "2023-03-21T08:08:19.711331Z",
     "iopub.status.idle": "2023-03-21T08:08:19.765679Z",
     "shell.execute_reply": "2023-03-21T08:08:19.764863Z"
    },
    "papermill": {
     "duration": 0.073358,
     "end_time": "2023-03-21T08:08:19.768836",
     "exception": false,
     "start_time": "2023-03-21T08:08:19.695478",
     "status": "completed"
    },
    "tags": []
   },
   "outputs": [],
   "source": [
    "from pyts.classification import KNeighborsClassifier\n",
    "from pyts.approximation import PiecewiseAggregateApproximation\n",
    "from imblearn.under_sampling import ClusterCentroids\n",
    "from sklearn_extra.cluster import KMedoids"
   ]
  },
  {
   "cell_type": "code",
   "execution_count": 63,
   "id": "db1604ec",
   "metadata": {
    "execution": {
     "iopub.execute_input": "2023-03-21T08:08:19.805184Z",
     "iopub.status.busy": "2023-03-21T08:08:19.804891Z",
     "iopub.status.idle": "2023-03-21T08:08:20.285119Z",
     "shell.execute_reply": "2023-03-21T08:08:20.284380Z"
    },
    "papermill": {
     "duration": 0.500944,
     "end_time": "2023-03-21T08:08:20.286991",
     "exception": false,
     "start_time": "2023-03-21T08:08:19.786047",
     "status": "completed"
    },
    "tags": []
   },
   "outputs": [],
   "source": [
    "if paa_window_size:\n",
    "    paa = PiecewiseAggregateApproximation(window_size=paa_window_size)\n",
    "    X_train = paa.transform(X_train)\n",
    "    X_test = paa.transform(X_test)\n",
    "    X_train.shape"
   ]
  },
  {
   "cell_type": "code",
   "execution_count": 64,
   "id": "59fa27aa",
   "metadata": {
    "execution": {
     "iopub.execute_input": "2023-03-21T08:08:20.319854Z",
     "iopub.status.busy": "2023-03-21T08:08:20.319557Z",
     "iopub.status.idle": "2023-03-21T08:08:43.705233Z",
     "shell.execute_reply": "2023-03-21T08:08:43.704350Z"
    },
    "papermill": {
     "duration": 23.40453,
     "end_time": "2023-03-21T08:08:43.707085",
     "exception": false,
     "start_time": "2023-03-21T08:08:20.302555",
     "status": "completed"
    },
    "tags": []
   },
   "outputs": [
    {
     "name": "stdout",
     "output_type": "stream",
     "text": [
      "{'rap': 2880, 'rock': 2880}\n"
     ]
    },
    {
     "name": "stderr",
     "output_type": "stream",
     "text": [
      "/home/mattiapggioli/lyrics2ts/.venv/lib/python3.9/site-packages/sklearn_extra/cluster/_k_medoids.py:275: UserWarning: Cluster 569 is empty! self.labels_[self.medoid_indices_[569]] may not be labeled with its corresponding cluster (569).\n",
      "  warnings.warn(\n",
      "/home/mattiapggioli/lyrics2ts/.venv/lib/python3.9/site-packages/sklearn_extra/cluster/_k_medoids.py:275: UserWarning: Cluster 597 is empty! self.labels_[self.medoid_indices_[597]] may not be labeled with its corresponding cluster (597).\n",
      "  warnings.warn(\n",
      "/home/mattiapggioli/lyrics2ts/.venv/lib/python3.9/site-packages/sklearn_extra/cluster/_k_medoids.py:275: UserWarning: Cluster 667 is empty! self.labels_[self.medoid_indices_[667]] may not be labeled with its corresponding cluster (667).\n",
      "  warnings.warn(\n",
      "/home/mattiapggioli/lyrics2ts/.venv/lib/python3.9/site-packages/sklearn_extra/cluster/_k_medoids.py:275: UserWarning: Cluster 684 is empty! self.labels_[self.medoid_indices_[684]] may not be labeled with its corresponding cluster (684).\n",
      "  warnings.warn(\n",
      "/home/mattiapggioli/lyrics2ts/.venv/lib/python3.9/site-packages/sklearn_extra/cluster/_k_medoids.py:275: UserWarning: Cluster 856 is empty! self.labels_[self.medoid_indices_[856]] may not be labeled with its corresponding cluster (856).\n",
      "  warnings.warn(\n",
      "/home/mattiapggioli/lyrics2ts/.venv/lib/python3.9/site-packages/sklearn_extra/cluster/_k_medoids.py:275: UserWarning: Cluster 1076 is empty! self.labels_[self.medoid_indices_[1076]] may not be labeled with its corresponding cluster (1076).\n",
      "  warnings.warn(\n",
      "/home/mattiapggioli/lyrics2ts/.venv/lib/python3.9/site-packages/sklearn_extra/cluster/_k_medoids.py:275: UserWarning: Cluster 1217 is empty! self.labels_[self.medoid_indices_[1217]] may not be labeled with its corresponding cluster (1217).\n",
      "  warnings.warn(\n",
      "/home/mattiapggioli/lyrics2ts/.venv/lib/python3.9/site-packages/sklearn_extra/cluster/_k_medoids.py:275: UserWarning: Cluster 1354 is empty! self.labels_[self.medoid_indices_[1354]] may not be labeled with its corresponding cluster (1354).\n",
      "  warnings.warn(\n",
      "/home/mattiapggioli/lyrics2ts/.venv/lib/python3.9/site-packages/sklearn_extra/cluster/_k_medoids.py:275: UserWarning: Cluster 1864 is empty! self.labels_[self.medoid_indices_[1864]] may not be labeled with its corresponding cluster (1864).\n",
      "  warnings.warn(\n",
      "/home/mattiapggioli/lyrics2ts/.venv/lib/python3.9/site-packages/sklearn_extra/cluster/_k_medoids.py:275: UserWarning: Cluster 1938 is empty! self.labels_[self.medoid_indices_[1938]] may not be labeled with its corresponding cluster (1938).\n",
      "  warnings.warn(\n",
      "/home/mattiapggioli/lyrics2ts/.venv/lib/python3.9/site-packages/sklearn_extra/cluster/_k_medoids.py:275: UserWarning: Cluster 1974 is empty! self.labels_[self.medoid_indices_[1974]] may not be labeled with its corresponding cluster (1974).\n",
      "  warnings.warn(\n",
      "/home/mattiapggioli/lyrics2ts/.venv/lib/python3.9/site-packages/sklearn_extra/cluster/_k_medoids.py:275: UserWarning: Cluster 2091 is empty! self.labels_[self.medoid_indices_[2091]] may not be labeled with its corresponding cluster (2091).\n",
      "  warnings.warn(\n",
      "/home/mattiapggioli/lyrics2ts/.venv/lib/python3.9/site-packages/sklearn_extra/cluster/_k_medoids.py:275: UserWarning: Cluster 2391 is empty! self.labels_[self.medoid_indices_[2391]] may not be labeled with its corresponding cluster (2391).\n",
      "  warnings.warn(\n",
      "/home/mattiapggioli/lyrics2ts/.venv/lib/python3.9/site-packages/sklearn_extra/cluster/_k_medoids.py:275: UserWarning: Cluster 2591 is empty! self.labels_[self.medoid_indices_[2591]] may not be labeled with its corresponding cluster (2591).\n",
      "  warnings.warn(\n",
      "/home/mattiapggioli/lyrics2ts/.venv/lib/python3.9/site-packages/sklearn_extra/cluster/_k_medoids.py:275: UserWarning: Cluster 2664 is empty! self.labels_[self.medoid_indices_[2664]] may not be labeled with its corresponding cluster (2664).\n",
      "  warnings.warn(\n"
     ]
    },
    {
     "name": "stderr",
     "output_type": "stream",
     "text": [
      "/home/mattiapggioli/lyrics2ts/.venv/lib/python3.9/site-packages/sklearn_extra/cluster/_k_medoids.py:275: UserWarning: Cluster 705 is empty! self.labels_[self.medoid_indices_[705]] may not be labeled with its corresponding cluster (705).\n",
      "  warnings.warn(\n",
      "/home/mattiapggioli/lyrics2ts/.venv/lib/python3.9/site-packages/sklearn_extra/cluster/_k_medoids.py:275: UserWarning: Cluster 748 is empty! self.labels_[self.medoid_indices_[748]] may not be labeled with its corresponding cluster (748).\n",
      "  warnings.warn(\n",
      "/home/mattiapggioli/lyrics2ts/.venv/lib/python3.9/site-packages/sklearn_extra/cluster/_k_medoids.py:275: UserWarning: Cluster 845 is empty! self.labels_[self.medoid_indices_[845]] may not be labeled with its corresponding cluster (845).\n",
      "  warnings.warn(\n",
      "/home/mattiapggioli/lyrics2ts/.venv/lib/python3.9/site-packages/sklearn_extra/cluster/_k_medoids.py:275: UserWarning: Cluster 932 is empty! self.labels_[self.medoid_indices_[932]] may not be labeled with its corresponding cluster (932).\n",
      "  warnings.warn(\n",
      "/home/mattiapggioli/lyrics2ts/.venv/lib/python3.9/site-packages/sklearn_extra/cluster/_k_medoids.py:275: UserWarning: Cluster 971 is empty! self.labels_[self.medoid_indices_[971]] may not be labeled with its corresponding cluster (971).\n",
      "  warnings.warn(\n",
      "/home/mattiapggioli/lyrics2ts/.venv/lib/python3.9/site-packages/sklearn_extra/cluster/_k_medoids.py:275: UserWarning: Cluster 972 is empty! self.labels_[self.medoid_indices_[972]] may not be labeled with its corresponding cluster (972).\n",
      "  warnings.warn(\n",
      "/home/mattiapggioli/lyrics2ts/.venv/lib/python3.9/site-packages/sklearn_extra/cluster/_k_medoids.py:275: UserWarning: Cluster 988 is empty! self.labels_[self.medoid_indices_[988]] may not be labeled with its corresponding cluster (988).\n",
      "  warnings.warn(\n",
      "/home/mattiapggioli/lyrics2ts/.venv/lib/python3.9/site-packages/sklearn_extra/cluster/_k_medoids.py:275: UserWarning: Cluster 1055 is empty! self.labels_[self.medoid_indices_[1055]] may not be labeled with its corresponding cluster (1055).\n",
      "  warnings.warn(\n",
      "/home/mattiapggioli/lyrics2ts/.venv/lib/python3.9/site-packages/sklearn_extra/cluster/_k_medoids.py:275: UserWarning: Cluster 1203 is empty! self.labels_[self.medoid_indices_[1203]] may not be labeled with its corresponding cluster (1203).\n",
      "  warnings.warn(\n",
      "/home/mattiapggioli/lyrics2ts/.venv/lib/python3.9/site-packages/sklearn_extra/cluster/_k_medoids.py:275: UserWarning: Cluster 1217 is empty! self.labels_[self.medoid_indices_[1217]] may not be labeled with its corresponding cluster (1217).\n",
      "  warnings.warn(\n",
      "/home/mattiapggioli/lyrics2ts/.venv/lib/python3.9/site-packages/sklearn_extra/cluster/_k_medoids.py:275: UserWarning: Cluster 1232 is empty! self.labels_[self.medoid_indices_[1232]] may not be labeled with its corresponding cluster (1232).\n",
      "  warnings.warn(\n",
      "/home/mattiapggioli/lyrics2ts/.venv/lib/python3.9/site-packages/sklearn_extra/cluster/_k_medoids.py:275: UserWarning: Cluster 1237 is empty! self.labels_[self.medoid_indices_[1237]] may not be labeled with its corresponding cluster (1237).\n",
      "  warnings.warn(\n",
      "/home/mattiapggioli/lyrics2ts/.venv/lib/python3.9/site-packages/sklearn_extra/cluster/_k_medoids.py:275: UserWarning: Cluster 1245 is empty! self.labels_[self.medoid_indices_[1245]] may not be labeled with its corresponding cluster (1245).\n",
      "  warnings.warn(\n",
      "/home/mattiapggioli/lyrics2ts/.venv/lib/python3.9/site-packages/sklearn_extra/cluster/_k_medoids.py:275: UserWarning: Cluster 1335 is empty! self.labels_[self.medoid_indices_[1335]] may not be labeled with its corresponding cluster (1335).\n",
      "  warnings.warn(\n",
      "/home/mattiapggioli/lyrics2ts/.venv/lib/python3.9/site-packages/sklearn_extra/cluster/_k_medoids.py:275: UserWarning: Cluster 1374 is empty! self.labels_[self.medoid_indices_[1374]] may not be labeled with its corresponding cluster (1374).\n",
      "  warnings.warn(\n",
      "/home/mattiapggioli/lyrics2ts/.venv/lib/python3.9/site-packages/sklearn_extra/cluster/_k_medoids.py:275: UserWarning: Cluster 1556 is empty! self.labels_[self.medoid_indices_[1556]] may not be labeled with its corresponding cluster (1556).\n",
      "  warnings.warn(\n",
      "/home/mattiapggioli/lyrics2ts/.venv/lib/python3.9/site-packages/sklearn_extra/cluster/_k_medoids.py:275: UserWarning: Cluster 2553 is empty! self.labels_[self.medoid_indices_[2553]] may not be labeled with its corresponding cluster (2553).\n",
      "  warnings.warn(\n"
     ]
    }
   ],
   "source": [
    "if undersampling:\n",
    "    total_samples = len(y_train)\n",
    "    unique_classes, class_counts = np.unique(y_train, return_counts=True)\n",
    "    samp_strat = dict(zip(unique_classes, np.floor(class_counts * undersampling).astype(int)))\n",
    "    print(samp_strat)\n",
    "    cc = ClusterCentroids(estimator=KMedoids(\n",
    "        random_state=42), sampling_strategy=samp_strat, random_state=42)\n",
    "    X_train, y_train = cc.fit_resample(X_train, y_train)\n",
    "    X_train.shape"
   ]
  },
  {
   "cell_type": "code",
   "execution_count": 65,
   "id": "e7ac6b44",
   "metadata": {
    "execution": {
     "iopub.execute_input": "2023-03-21T08:08:43.766978Z",
     "iopub.status.busy": "2023-03-21T08:08:43.766124Z",
     "iopub.status.idle": "2023-03-21T08:08:43.780159Z",
     "shell.execute_reply": "2023-03-21T08:08:43.779311Z"
    },
    "papermill": {
     "duration": 0.057542,
     "end_time": "2023-03-21T08:08:43.782102",
     "exception": false,
     "start_time": "2023-03-21T08:08:43.724560",
     "status": "completed"
    },
    "tags": []
   },
   "outputs": [
    {
     "data": {
      "text/html": [
       "<style>#sk-container-id-9 {color: black;background-color: white;}#sk-container-id-9 pre{padding: 0;}#sk-container-id-9 div.sk-toggleable {background-color: white;}#sk-container-id-9 label.sk-toggleable__label {cursor: pointer;display: block;width: 100%;margin-bottom: 0;padding: 0.3em;box-sizing: border-box;text-align: center;}#sk-container-id-9 label.sk-toggleable__label-arrow:before {content: \"▸\";float: left;margin-right: 0.25em;color: #696969;}#sk-container-id-9 label.sk-toggleable__label-arrow:hover:before {color: black;}#sk-container-id-9 div.sk-estimator:hover label.sk-toggleable__label-arrow:before {color: black;}#sk-container-id-9 div.sk-toggleable__content {max-height: 0;max-width: 0;overflow: hidden;text-align: left;background-color: #f0f8ff;}#sk-container-id-9 div.sk-toggleable__content pre {margin: 0.2em;color: black;border-radius: 0.25em;background-color: #f0f8ff;}#sk-container-id-9 input.sk-toggleable__control:checked~div.sk-toggleable__content {max-height: 200px;max-width: 100%;overflow: auto;}#sk-container-id-9 input.sk-toggleable__control:checked~label.sk-toggleable__label-arrow:before {content: \"▾\";}#sk-container-id-9 div.sk-estimator input.sk-toggleable__control:checked~label.sk-toggleable__label {background-color: #d4ebff;}#sk-container-id-9 div.sk-label input.sk-toggleable__control:checked~label.sk-toggleable__label {background-color: #d4ebff;}#sk-container-id-9 input.sk-hidden--visually {border: 0;clip: rect(1px 1px 1px 1px);clip: rect(1px, 1px, 1px, 1px);height: 1px;margin: -1px;overflow: hidden;padding: 0;position: absolute;width: 1px;}#sk-container-id-9 div.sk-estimator {font-family: monospace;background-color: #f0f8ff;border: 1px dotted black;border-radius: 0.25em;box-sizing: border-box;margin-bottom: 0.5em;}#sk-container-id-9 div.sk-estimator:hover {background-color: #d4ebff;}#sk-container-id-9 div.sk-parallel-item::after {content: \"\";width: 100%;border-bottom: 1px solid gray;flex-grow: 1;}#sk-container-id-9 div.sk-label:hover label.sk-toggleable__label {background-color: #d4ebff;}#sk-container-id-9 div.sk-serial::before {content: \"\";position: absolute;border-left: 1px solid gray;box-sizing: border-box;top: 0;bottom: 0;left: 50%;z-index: 0;}#sk-container-id-9 div.sk-serial {display: flex;flex-direction: column;align-items: center;background-color: white;padding-right: 0.2em;padding-left: 0.2em;position: relative;}#sk-container-id-9 div.sk-item {position: relative;z-index: 1;}#sk-container-id-9 div.sk-parallel {display: flex;align-items: stretch;justify-content: center;background-color: white;position: relative;}#sk-container-id-9 div.sk-item::before, #sk-container-id-9 div.sk-parallel-item::before {content: \"\";position: absolute;border-left: 1px solid gray;box-sizing: border-box;top: 0;bottom: 0;left: 50%;z-index: -1;}#sk-container-id-9 div.sk-parallel-item {display: flex;flex-direction: column;z-index: 1;position: relative;background-color: white;}#sk-container-id-9 div.sk-parallel-item:first-child::after {align-self: flex-end;width: 50%;}#sk-container-id-9 div.sk-parallel-item:last-child::after {align-self: flex-start;width: 50%;}#sk-container-id-9 div.sk-parallel-item:only-child::after {width: 0;}#sk-container-id-9 div.sk-dashed-wrapped {border: 1px dashed gray;margin: 0 0.4em 0.5em 0.4em;box-sizing: border-box;padding-bottom: 0.4em;background-color: white;}#sk-container-id-9 div.sk-label label {font-family: monospace;font-weight: bold;display: inline-block;line-height: 1.2em;}#sk-container-id-9 div.sk-label-container {text-align: center;}#sk-container-id-9 div.sk-container {/* jupyter's `normalize.less` sets `[hidden] { display: none; }` but bootstrap.min.css set `[hidden] { display: none !important; }` so we also need the `!important` here to be able to override the default hidden behavior on the sphinx rendered scikit-learn.org. See: https://github.com/scikit-learn/scikit-learn/issues/21755 */display: inline-block !important;position: relative;}#sk-container-id-9 div.sk-text-repr-fallback {display: none;}</style><div id=\"sk-container-id-9\" class=\"sk-top-container\"><div class=\"sk-text-repr-fallback\"><pre>KNeighborsClassifier(metric=&#x27;dtw_sakoechiba&#x27;, metric_params={&#x27;window_size&#x27;: 3})</pre><b>In a Jupyter environment, please rerun this cell to show the HTML representation or trust the notebook. <br />On GitHub, the HTML representation is unable to render, please try loading this page with nbviewer.org.</b></div><div class=\"sk-container\" hidden><div class=\"sk-item\"><div class=\"sk-estimator sk-toggleable\"><input class=\"sk-toggleable__control sk-hidden--visually\" id=\"sk-estimator-id-9\" type=\"checkbox\" checked><label for=\"sk-estimator-id-9\" class=\"sk-toggleable__label sk-toggleable__label-arrow\">KNeighborsClassifier</label><div class=\"sk-toggleable__content\"><pre>KNeighborsClassifier(metric=&#x27;dtw_sakoechiba&#x27;, metric_params={&#x27;window_size&#x27;: 3})</pre></div></div></div></div></div>"
      ],
      "text/plain": [
       "KNeighborsClassifier(metric='dtw_sakoechiba', metric_params={'window_size': 3})"
      ]
     },
     "execution_count": 65,
     "metadata": {},
     "output_type": "execute_result"
    }
   ],
   "source": [
    "clf = KNeighborsClassifier(metric='dtw_sakoechiba',  metric_params={'window_size':3})\n",
    "\n",
    "clf.fit(X_train, y_train)"
   ]
  },
  {
   "cell_type": "code",
   "execution_count": 66,
   "id": "8109d19d",
   "metadata": {
    "execution": {
     "iopub.execute_input": "2023-03-21T08:08:43.816250Z",
     "iopub.status.busy": "2023-03-21T08:08:43.815564Z",
     "iopub.status.idle": "2023-03-21T09:26:57.114036Z",
     "shell.execute_reply": "2023-03-21T09:26:57.112847Z"
    },
    "papermill": {
     "duration": 4693.337043,
     "end_time": "2023-03-21T09:26:57.135394",
     "exception": false,
     "start_time": "2023-03-21T08:08:43.798351",
     "status": "completed"
    },
    "tags": []
   },
   "outputs": [
    {
     "name": "stdout",
     "output_type": "stream",
     "text": [
      "              precision    recall  f1-score   support\n",
      "\n",
      "         rap       0.65      0.75      0.70      2400\n",
      "        rock       0.71      0.60      0.65      2400\n",
      "\n",
      "    accuracy                           0.68      4800\n",
      "   macro avg       0.68      0.68      0.67      4800\n",
      "weighted avg       0.68      0.68      0.67      4800\n",
      "\n",
      "CPU times: user 1h 18min 12s, sys: 618 ms, total: 1h 18min 13s\n",
      "Wall time: 1h 18min 13s\n"
     ]
    }
   ],
   "source": [
    "%%time\n",
    "y_pred = clf.predict(X_test)\n",
    "print(classification_report(y_test, y_pred))"
   ]
  },
  {
   "cell_type": "code",
   "execution_count": 67,
   "id": "b09f5cdf",
   "metadata": {
    "execution": {
     "iopub.execute_input": "2023-03-21T09:26:57.169222Z",
     "iopub.status.busy": "2023-03-21T09:26:57.168321Z",
     "iopub.status.idle": "2023-03-21T09:26:57.275522Z",
     "shell.execute_reply": "2023-03-21T09:26:57.274566Z"
    },
    "papermill": {
     "duration": 0.12622,
     "end_time": "2023-03-21T09:26:57.277734",
     "exception": false,
     "start_time": "2023-03-21T09:26:57.151514",
     "status": "completed"
    },
    "tags": []
   },
   "outputs": [],
   "source": [
    "acc = accuracy_score(y_test, y_pred)\n",
    "pre = precision_score(y_test, y_pred, average=avg_par)\n",
    "rec = recall_score(y_test, y_pred, average=avg_par)\n",
    "f1 = f1_score(y_test, y_pred, average=avg_par)\n",
    "\n",
    "metrics_data['KNN']['DTW'] = {'Accuracy': acc, 'Precision': pre, 'Recall': rec, 'F1': f1}"
   ]
  },
  {
   "cell_type": "markdown",
   "id": "e0e700a7",
   "metadata": {
    "papermill": {
     "duration": 0.030848,
     "end_time": "2023-03-21T09:26:57.341776",
     "exception": false,
     "start_time": "2023-03-21T09:26:57.310928",
     "status": "completed"
    },
    "tags": []
   },
   "source": [
    "## Overall Results"
   ]
  },
  {
   "cell_type": "code",
   "execution_count": 68,
   "id": "d003c193",
   "metadata": {
    "execution": {
     "iopub.execute_input": "2023-03-21T09:26:57.377514Z",
     "iopub.status.busy": "2023-03-21T09:26:57.376646Z",
     "iopub.status.idle": "2023-03-21T09:26:57.390275Z",
     "shell.execute_reply": "2023-03-21T09:26:57.388998Z"
    },
    "papermill": {
     "duration": 0.032414,
     "end_time": "2023-03-21T09:26:57.392464",
     "exception": false,
     "start_time": "2023-03-21T09:26:57.360050",
     "status": "completed"
    },
    "tags": []
   },
   "outputs": [],
   "source": [
    "metrics_data = pd.DataFrame.from_dict({(i,j): metrics_data[i][j] \n",
    "                                       for i in metrics_data.keys() \n",
    "                                       for j in metrics_data[i].keys()},\n",
    "                                       orient='index')"
   ]
  },
  {
   "cell_type": "code",
   "execution_count": 69,
   "id": "0944fe84",
   "metadata": {
    "execution": {
     "iopub.execute_input": "2023-03-21T09:26:57.426902Z",
     "iopub.status.busy": "2023-03-21T09:26:57.426055Z",
     "iopub.status.idle": "2023-03-21T09:26:57.565804Z",
     "shell.execute_reply": "2023-03-21T09:26:57.564984Z"
    },
    "papermill": {
     "duration": 0.159691,
     "end_time": "2023-03-21T09:26:57.568828",
     "exception": false,
     "start_time": "2023-03-21T09:26:57.409137",
     "status": "completed"
    },
    "tags": []
   },
   "outputs": [],
   "source": [
    "acc = accuracy_score(y_test, y_pred)\n",
    "pre = precision_score(y_test, y_pred, average=avg_par)\n",
    "rec = recall_score(y_test, y_pred, average=avg_par)\n",
    "f1 = f1_score(y_test, y_pred, average=avg_par)"
   ]
  },
  {
   "cell_type": "code",
   "execution_count": 70,
   "id": "7ee1b347",
   "metadata": {
    "execution": {
     "iopub.execute_input": "2023-03-21T09:26:57.644693Z",
     "iopub.status.busy": "2023-03-21T09:26:57.643688Z",
     "iopub.status.idle": "2023-03-21T09:26:57.662926Z",
     "shell.execute_reply": "2023-03-21T09:26:57.662085Z"
    },
    "papermill": {
     "duration": 0.05325,
     "end_time": "2023-03-21T09:26:57.664971",
     "exception": false,
     "start_time": "2023-03-21T09:26:57.611721",
     "status": "completed"
    },
    "tags": []
   },
   "outputs": [
    {
     "data": {
      "text/html": [
       "<div>\n",
       "<style scoped>\n",
       "    .dataframe tbody tr th:only-of-type {\n",
       "        vertical-align: middle;\n",
       "    }\n",
       "\n",
       "    .dataframe tbody tr th {\n",
       "        vertical-align: top;\n",
       "    }\n",
       "\n",
       "    .dataframe thead th {\n",
       "        text-align: right;\n",
       "    }\n",
       "</style>\n",
       "<table border=\"1\" class=\"dataframe\">\n",
       "  <thead>\n",
       "    <tr style=\"text-align: right;\">\n",
       "      <th></th>\n",
       "      <th></th>\n",
       "      <th>Accuracy</th>\n",
       "      <th>Precision</th>\n",
       "      <th>Recall</th>\n",
       "      <th>F1</th>\n",
       "    </tr>\n",
       "  </thead>\n",
       "  <tbody>\n",
       "    <tr>\n",
       "      <th rowspan=\"3\" valign=\"top\">Global</th>\n",
       "      <th>DecisionTree</th>\n",
       "      <td>0.727083</td>\n",
       "      <td>0.727096</td>\n",
       "      <td>0.727083</td>\n",
       "      <td>0.727079</td>\n",
       "    </tr>\n",
       "    <tr>\n",
       "      <th>RandomForest</th>\n",
       "      <td>0.791875</td>\n",
       "      <td>0.791930</td>\n",
       "      <td>0.791875</td>\n",
       "      <td>0.791865</td>\n",
       "    </tr>\n",
       "    <tr>\n",
       "      <th>LightGBM</th>\n",
       "      <td>0.804792</td>\n",
       "      <td>0.805250</td>\n",
       "      <td>0.804792</td>\n",
       "      <td>0.804718</td>\n",
       "    </tr>\n",
       "    <tr>\n",
       "      <th rowspan=\"3\" valign=\"top\">Shapelets</th>\n",
       "      <th>DecisionTree</th>\n",
       "      <td>0.733542</td>\n",
       "      <td>0.733610</td>\n",
       "      <td>0.733542</td>\n",
       "      <td>0.733522</td>\n",
       "    </tr>\n",
       "    <tr>\n",
       "      <th>RandomForest</th>\n",
       "      <td>0.813958</td>\n",
       "      <td>0.814391</td>\n",
       "      <td>0.813958</td>\n",
       "      <td>0.813894</td>\n",
       "    </tr>\n",
       "    <tr>\n",
       "      <th>LightGBM</th>\n",
       "      <td>0.807292</td>\n",
       "      <td>0.807794</td>\n",
       "      <td>0.807292</td>\n",
       "      <td>0.807213</td>\n",
       "    </tr>\n",
       "    <tr>\n",
       "      <th rowspan=\"2\" valign=\"top\">KNN</th>\n",
       "      <th>Euclidean</th>\n",
       "      <td>0.511458</td>\n",
       "      <td>0.681483</td>\n",
       "      <td>0.511458</td>\n",
       "      <td>0.362038</td>\n",
       "    </tr>\n",
       "    <tr>\n",
       "      <th>DTW</th>\n",
       "      <td>0.676458</td>\n",
       "      <td>0.680270</td>\n",
       "      <td>0.676458</td>\n",
       "      <td>0.674739</td>\n",
       "    </tr>\n",
       "  </tbody>\n",
       "</table>\n",
       "</div>"
      ],
      "text/plain": [
       "                        Accuracy  Precision    Recall        F1\n",
       "Global    DecisionTree  0.727083   0.727096  0.727083  0.727079\n",
       "          RandomForest  0.791875   0.791930  0.791875  0.791865\n",
       "          LightGBM      0.804792   0.805250  0.804792  0.804718\n",
       "Shapelets DecisionTree  0.733542   0.733610  0.733542  0.733522\n",
       "          RandomForest  0.813958   0.814391  0.813958  0.813894\n",
       "          LightGBM      0.807292   0.807794  0.807292  0.807213\n",
       "KNN       Euclidean     0.511458   0.681483  0.511458  0.362038\n",
       "          DTW           0.676458   0.680270  0.676458  0.674739"
      ]
     },
     "execution_count": 70,
     "metadata": {},
     "output_type": "execute_result"
    }
   ],
   "source": [
    "metrics_data"
   ]
  },
  {
   "cell_type": "code",
   "execution_count": 71,
   "id": "3efc173e",
   "metadata": {
    "execution": {
     "iopub.execute_input": "2023-03-21T09:26:57.704696Z",
     "iopub.status.busy": "2023-03-21T09:26:57.703886Z",
     "iopub.status.idle": "2023-03-21T09:26:57.713265Z",
     "shell.execute_reply": "2023-03-21T09:26:57.712193Z"
    },
    "papermill": {
     "duration": 0.029823,
     "end_time": "2023-03-21T09:26:57.714851",
     "exception": false,
     "start_time": "2023-03-21T09:26:57.685028",
     "status": "completed"
    },
    "tags": []
   },
   "outputs": [],
   "source": [
    "metrics_data.to_csv(f'{data_path}/metrics.csv')"
   ]
  },
  {
   "cell_type": "code",
   "execution_count": null,
   "id": "d21f5304",
   "metadata": {
    "papermill": {
     "duration": 0.017137,
     "end_time": "2023-03-21T09:26:57.750360",
     "exception": false,
     "start_time": "2023-03-21T09:26:57.733223",
     "status": "completed"
    },
    "tags": []
   },
   "outputs": [],
   "source": []
  }
 ],
 "metadata": {
  "celltoolbar": "Tags",
  "kernelspec": {
   "display_name": "Python 3 (ipykernel)",
   "language": "python",
   "name": "python3"
  },
  "language_info": {
   "codemirror_mode": {
    "name": "ipython",
    "version": 3
   },
   "file_extension": ".py",
   "mimetype": "text/x-python",
   "name": "python",
   "nbconvert_exporter": "python",
   "pygments_lexer": "ipython3",
   "version": "3.9.16"
  },
  "papermill": {
   "default_parameters": {},
   "duration": 6295.766592,
   "end_time": "2023-03-21T09:27:00.606004",
   "environment_variables": {},
   "exception": null,
   "input_path": "09_ts_classification.ipynb",
   "output_path": "../clf-reports/rc-rp_sentiment.ipynb",
   "parameters": {
    "data_path": "/home/mattiapggioli/lyrics2ts/data/classification/rc-rp/sentiment/",
    "paa_window_size": 20,
    "undersampling": 0.3
   },
   "start_time": "2023-03-21T07:42:04.839412",
   "version": "2.4.0"
  },
  "vscode": {
   "interpreter": {
    "hash": "eb8d1ded7c87c6f9c253b40add648304d6b51d2e38393955e855effc7e6f899a"
   }
  }
 },
 "nbformat": 4,
 "nbformat_minor": 5
}