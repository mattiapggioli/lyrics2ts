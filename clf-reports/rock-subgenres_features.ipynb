{
 "cells": [
  {
   "cell_type": "markdown",
   "id": "d79a68c5",
   "metadata": {
    "papermill": {
     "duration": 0.018756,
     "end_time": "2023-03-21T15:14:19.811871",
     "exception": false,
     "start_time": "2023-03-21T15:14:19.793115",
     "status": "completed"
    },
    "tags": []
   },
   "source": [
    "# Time Series Classification"
   ]
  },
  {
   "cell_type": "code",
   "execution_count": 1,
   "id": "8a0cb2b0",
   "metadata": {
    "execution": {
     "iopub.execute_input": "2023-03-21T15:14:19.842396Z",
     "iopub.status.busy": "2023-03-21T15:14:19.841924Z",
     "iopub.status.idle": "2023-03-21T15:14:21.823819Z",
     "shell.execute_reply": "2023-03-21T15:14:21.822923Z"
    },
    "papermill": {
     "duration": 1.999559,
     "end_time": "2023-03-21T15:14:21.826293",
     "exception": false,
     "start_time": "2023-03-21T15:14:19.826734",
     "status": "completed"
    },
    "tags": []
   },
   "outputs": [],
   "source": [
    "%matplotlib inline\n",
    "import pandas as pd\n",
    "import numpy as np\n",
    "import matplotlib.pyplot as plt\n",
    "import seaborn as sns\n",
    "import re\n",
    "import os\n",
    "from sklearn.preprocessing import StandardScaler\n",
    "from sklearn.decomposition import PCA\n",
    "import joblib\n",
    "from tslearn.utils import to_time_series_dataset, save_time_series_txt, load_time_series_txt\n",
    "import random\n",
    "from sklearn.model_selection import train_test_split\n",
    "from sklearn.metrics import accuracy_score, f1_score, precision_score, recall_score, classification_report\n",
    "import pickle"
   ]
  },
  {
   "cell_type": "code",
   "execution_count": 2,
   "id": "acc03405",
   "metadata": {
    "execution": {
     "iopub.execute_input": "2023-03-21T15:14:21.855931Z",
     "iopub.status.busy": "2023-03-21T15:14:21.855005Z",
     "iopub.status.idle": "2023-03-21T15:14:21.860745Z",
     "shell.execute_reply": "2023-03-21T15:14:21.859145Z"
    },
    "papermill": {
     "duration": 0.022112,
     "end_time": "2023-03-21T15:14:21.863126",
     "exception": false,
     "start_time": "2023-03-21T15:14:21.841014",
     "status": "completed"
    },
    "tags": [
     "parameters"
    ]
   },
   "outputs": [],
   "source": [
    "data_path = '/home/mattiapggioli/lyrics2ts/data/classification/pp-rc/sbert/'\n",
    "truncate=100\n",
    "max_iter = 2000\n",
    "paa_window_size = None\n",
    "undersampling = None"
   ]
  },
  {
   "cell_type": "code",
   "execution_count": 3,
   "id": "2635ad45",
   "metadata": {
    "execution": {
     "iopub.execute_input": "2023-03-21T15:14:21.892993Z",
     "iopub.status.busy": "2023-03-21T15:14:21.892441Z",
     "iopub.status.idle": "2023-03-21T15:14:21.897489Z",
     "shell.execute_reply": "2023-03-21T15:14:21.896558Z"
    },
    "papermill": {
     "duration": 0.021898,
     "end_time": "2023-03-21T15:14:21.899594",
     "exception": false,
     "start_time": "2023-03-21T15:14:21.877696",
     "status": "completed"
    },
    "tags": [
     "injected-parameters"
    ]
   },
   "outputs": [],
   "source": [
    "# Parameters\n",
    "data_path = \"/home/mattiapggioli/lyrics2ts/data/classification/rock-subgenres/features/\"\n",
    "paa_window_size = 20\n",
    "undersampling = 0.3\n"
   ]
  },
  {
   "cell_type": "code",
   "execution_count": 4,
   "id": "a4f0c774",
   "metadata": {
    "execution": {
     "iopub.execute_input": "2023-03-21T15:14:21.931746Z",
     "iopub.status.busy": "2023-03-21T15:14:21.930529Z",
     "iopub.status.idle": "2023-03-21T15:14:36.696236Z",
     "shell.execute_reply": "2023-03-21T15:14:36.695332Z"
    },
    "papermill": {
     "duration": 14.784503,
     "end_time": "2023-03-21T15:14:36.699130",
     "exception": false,
     "start_time": "2023-03-21T15:14:21.914627",
     "status": "completed"
    },
    "tags": []
   },
   "outputs": [],
   "source": [
    "ts = load_time_series_txt(f'{data_path}/ts.txt')"
   ]
  },
  {
   "cell_type": "code",
   "execution_count": 5,
   "id": "5c48d154",
   "metadata": {
    "execution": {
     "iopub.execute_input": "2023-03-21T15:14:36.737642Z",
     "iopub.status.busy": "2023-03-21T15:14:36.737168Z",
     "iopub.status.idle": "2023-03-21T15:14:36.744722Z",
     "shell.execute_reply": "2023-03-21T15:14:36.743848Z"
    },
    "papermill": {
     "duration": 0.02214,
     "end_time": "2023-03-21T15:14:36.746511",
     "exception": false,
     "start_time": "2023-03-21T15:14:36.724371",
     "status": "completed"
    },
    "tags": []
   },
   "outputs": [
    {
     "data": {
      "text/plain": [
       "(25000, 100, 1)"
      ]
     },
     "execution_count": 5,
     "metadata": {},
     "output_type": "execute_result"
    }
   ],
   "source": [
    "ts.shape"
   ]
  },
  {
   "cell_type": "code",
   "execution_count": 6,
   "id": "f6274d40",
   "metadata": {
    "execution": {
     "iopub.execute_input": "2023-03-21T15:14:36.773591Z",
     "iopub.status.busy": "2023-03-21T15:14:36.773108Z",
     "iopub.status.idle": "2023-03-21T15:14:36.782207Z",
     "shell.execute_reply": "2023-03-21T15:14:36.781001Z"
    },
    "papermill": {
     "duration": 0.025969,
     "end_time": "2023-03-21T15:14:36.785738",
     "exception": false,
     "start_time": "2023-03-21T15:14:36.759769",
     "status": "completed"
    },
    "tags": []
   },
   "outputs": [],
   "source": [
    "with open(f'{data_path}/y_class.npy', 'rb') as f:\n",
    "    y = np.load(f, allow_pickle=True)"
   ]
  },
  {
   "cell_type": "code",
   "execution_count": 7,
   "id": "9d42fa3b",
   "metadata": {
    "execution": {
     "iopub.execute_input": "2023-03-21T15:14:36.827683Z",
     "iopub.status.busy": "2023-03-21T15:14:36.827154Z",
     "iopub.status.idle": "2023-03-21T15:14:36.839124Z",
     "shell.execute_reply": "2023-03-21T15:14:36.837559Z"
    },
    "papermill": {
     "duration": 0.028608,
     "end_time": "2023-03-21T15:14:36.841297",
     "exception": false,
     "start_time": "2023-03-21T15:14:36.812689",
     "status": "completed"
    },
    "tags": []
   },
   "outputs": [],
   "source": [
    "with open(f'{data_path}/X.npy', 'rb') as f:\n",
    "    X = np.load(f, allow_pickle=True)"
   ]
  },
  {
   "cell_type": "code",
   "execution_count": 8,
   "id": "1158a9da",
   "metadata": {
    "execution": {
     "iopub.execute_input": "2023-03-21T15:14:36.866131Z",
     "iopub.status.busy": "2023-03-21T15:14:36.865148Z",
     "iopub.status.idle": "2023-03-21T15:14:36.871706Z",
     "shell.execute_reply": "2023-03-21T15:14:36.870846Z"
    },
    "papermill": {
     "duration": 0.01976,
     "end_time": "2023-03-21T15:14:36.873248",
     "exception": false,
     "start_time": "2023-03-21T15:14:36.853488",
     "status": "completed"
    },
    "tags": []
   },
   "outputs": [
    {
     "data": {
      "text/plain": [
       "(25000, 14)"
      ]
     },
     "execution_count": 8,
     "metadata": {},
     "output_type": "execute_result"
    }
   ],
   "source": [
    "X.shape"
   ]
  },
  {
   "cell_type": "code",
   "execution_count": 9,
   "id": "47239790",
   "metadata": {
    "execution": {
     "iopub.execute_input": "2023-03-21T15:14:36.896303Z",
     "iopub.status.busy": "2023-03-21T15:14:36.895844Z",
     "iopub.status.idle": "2023-03-21T15:14:36.903418Z",
     "shell.execute_reply": "2023-03-21T15:14:36.902555Z"
    },
    "papermill": {
     "duration": 0.021065,
     "end_time": "2023-03-21T15:14:36.905017",
     "exception": false,
     "start_time": "2023-03-21T15:14:36.883952",
     "status": "completed"
    },
    "tags": []
   },
   "outputs": [
    {
     "data": {
      "text/plain": [
       "{'hard-rock', 'heavy-metal', 'indie', 'pop-rock', 'punk-rock'}"
      ]
     },
     "execution_count": 9,
     "metadata": {},
     "output_type": "execute_result"
    }
   ],
   "source": [
    "set(y)"
   ]
  },
  {
   "cell_type": "code",
   "execution_count": 10,
   "id": "37609992",
   "metadata": {
    "execution": {
     "iopub.execute_input": "2023-03-21T15:14:36.930245Z",
     "iopub.status.busy": "2023-03-21T15:14:36.929362Z",
     "iopub.status.idle": "2023-03-21T15:14:36.984793Z",
     "shell.execute_reply": "2023-03-21T15:14:36.983511Z"
    },
    "papermill": {
     "duration": 0.071433,
     "end_time": "2023-03-21T15:14:36.987900",
     "exception": false,
     "start_time": "2023-03-21T15:14:36.916467",
     "status": "completed"
    },
    "tags": []
   },
   "outputs": [],
   "source": [
    "ts_train, ts_test, y_train, y_test = train_test_split(\n",
    "    ts, y, test_size=0.20, random_state=42, stratify=y)"
   ]
  },
  {
   "cell_type": "code",
   "execution_count": 11,
   "id": "34508fe4",
   "metadata": {
    "execution": {
     "iopub.execute_input": "2023-03-21T15:14:37.013647Z",
     "iopub.status.busy": "2023-03-21T15:14:37.012817Z",
     "iopub.status.idle": "2023-03-21T15:14:37.059921Z",
     "shell.execute_reply": "2023-03-21T15:14:37.058627Z"
    },
    "papermill": {
     "duration": 0.061213,
     "end_time": "2023-03-21T15:14:37.062204",
     "exception": false,
     "start_time": "2023-03-21T15:14:37.000991",
     "status": "completed"
    },
    "tags": []
   },
   "outputs": [],
   "source": [
    "X_train, X_test, y_train, y_test = train_test_split(\n",
    "    X, y, test_size=0.20, random_state=42, stratify=y)"
   ]
  },
  {
   "cell_type": "code",
   "execution_count": 12,
   "id": "076afac9",
   "metadata": {
    "execution": {
     "iopub.execute_input": "2023-03-21T15:14:37.088225Z",
     "iopub.status.busy": "2023-03-21T15:14:37.087764Z",
     "iopub.status.idle": "2023-03-21T15:14:37.100377Z",
     "shell.execute_reply": "2023-03-21T15:14:37.098954Z"
    },
    "papermill": {
     "duration": 0.027132,
     "end_time": "2023-03-21T15:14:37.102574",
     "exception": false,
     "start_time": "2023-03-21T15:14:37.075442",
     "status": "completed"
    },
    "tags": []
   },
   "outputs": [
    {
     "data": {
      "text/plain": [
       "array([[-2.02352541],\n",
       "       [ 1.63469172],\n",
       "       [-2.83787043],\n",
       "       [ 0.16150967],\n",
       "       [-2.15472306],\n",
       "       [-0.60023102],\n",
       "       [ 1.83307753],\n",
       "       [ 2.48877982],\n",
       "       [ 0.28559202],\n",
       "       [-0.83985007],\n",
       "       [-3.39134603],\n",
       "       [-3.39134603],\n",
       "       [-3.39134603],\n",
       "       [-3.39134603],\n",
       "       [-2.0345136 ],\n",
       "       [-2.02352541],\n",
       "       [ 0.28522228],\n",
       "       [-2.83787043],\n",
       "       [-1.63883692],\n",
       "       [-2.15472306],\n",
       "       [-0.22819817],\n",
       "       [ 1.83307753],\n",
       "       [ 2.48877982],\n",
       "       [ 0.28559202],\n",
       "       [-0.83985007],\n",
       "       [-3.39134603],\n",
       "       [-3.39134603],\n",
       "       [-3.39134603],\n",
       "       [-3.29196037],\n",
       "       [-3.29196037],\n",
       "       [-3.29196037],\n",
       "       [-3.39134603],\n",
       "       [-0.04404645],\n",
       "       [-3.85676835],\n",
       "       [-2.0984971 ],\n",
       "       [-5.65260466],\n",
       "       [ 1.83307753],\n",
       "       [ 2.48877982],\n",
       "       [ 0.28559202],\n",
       "       [-0.83985007],\n",
       "       [-3.39134603],\n",
       "       [-3.39134603],\n",
       "       [-3.39134603],\n",
       "       [-3.29196037],\n",
       "       [-3.29196037],\n",
       "       [-0.63586839],\n",
       "       [ 0.81810048],\n",
       "       [-3.39134603],\n",
       "       [-2.98269732],\n",
       "       [-2.98269732],\n",
       "       [        nan],\n",
       "       [        nan],\n",
       "       [        nan],\n",
       "       [        nan],\n",
       "       [        nan],\n",
       "       [        nan],\n",
       "       [        nan],\n",
       "       [        nan],\n",
       "       [        nan],\n",
       "       [        nan],\n",
       "       [        nan],\n",
       "       [        nan],\n",
       "       [        nan],\n",
       "       [        nan],\n",
       "       [        nan],\n",
       "       [        nan],\n",
       "       [        nan],\n",
       "       [        nan],\n",
       "       [        nan],\n",
       "       [        nan],\n",
       "       [        nan],\n",
       "       [        nan],\n",
       "       [        nan],\n",
       "       [        nan],\n",
       "       [        nan],\n",
       "       [        nan],\n",
       "       [        nan],\n",
       "       [        nan],\n",
       "       [        nan],\n",
       "       [        nan],\n",
       "       [        nan],\n",
       "       [        nan],\n",
       "       [        nan],\n",
       "       [        nan],\n",
       "       [        nan],\n",
       "       [        nan],\n",
       "       [        nan],\n",
       "       [        nan],\n",
       "       [        nan],\n",
       "       [        nan],\n",
       "       [        nan],\n",
       "       [        nan],\n",
       "       [        nan],\n",
       "       [        nan],\n",
       "       [        nan],\n",
       "       [        nan],\n",
       "       [        nan],\n",
       "       [        nan],\n",
       "       [        nan],\n",
       "       [        nan]])"
      ]
     },
     "execution_count": 12,
     "metadata": {},
     "output_type": "execute_result"
    }
   ],
   "source": [
    "random.choice(ts_train)"
   ]
  },
  {
   "cell_type": "code",
   "execution_count": 13,
   "id": "ca66457a",
   "metadata": {
    "execution": {
     "iopub.execute_input": "2023-03-21T15:14:37.127593Z",
     "iopub.status.busy": "2023-03-21T15:14:37.127060Z",
     "iopub.status.idle": "2023-03-21T15:14:37.592887Z",
     "shell.execute_reply": "2023-03-21T15:14:37.591957Z"
    },
    "papermill": {
     "duration": 0.481366,
     "end_time": "2023-03-21T15:14:37.595771",
     "exception": false,
     "start_time": "2023-03-21T15:14:37.114405",
     "status": "completed"
    },
    "tags": []
   },
   "outputs": [
    {
     "data": {
      "text/plain": [
       "<AxesSubplot:ylabel='Count'>"
      ]
     },
     "execution_count": 13,
     "metadata": {},
     "output_type": "execute_result"
    },
    {
     "data": {
      "image/png": "[encoded data removed]",
      "text/plain": [
       "<Figure size 640x480 with 1 Axes>"
      ]
     },
     "metadata": {},
     "output_type": "display_data"
    }
   ],
   "source": [
    "sns.histplot([t[~np.any(np.isnan(t), axis=1)].shape[0] for t in ts_train])"
   ]
  },
  {
   "cell_type": "code",
   "execution_count": 14,
   "id": "c2ae286f",
   "metadata": {
    "execution": {
     "iopub.execute_input": "2023-03-21T15:14:37.662647Z",
     "iopub.status.busy": "2023-03-21T15:14:37.661413Z",
     "iopub.status.idle": "2023-03-21T15:14:37.667058Z",
     "shell.execute_reply": "2023-03-21T15:14:37.665911Z"
    },
    "papermill": {
     "duration": 0.040945,
     "end_time": "2023-03-21T15:14:37.668891",
     "exception": false,
     "start_time": "2023-03-21T15:14:37.627946",
     "status": "completed"
    },
    "tags": []
   },
   "outputs": [],
   "source": [
    "ts_train = ts_train[:, :truncate, :]\n",
    "ts_test = ts_test[:, :truncate, :]"
   ]
  },
  {
   "cell_type": "code",
   "execution_count": 15,
   "id": "3218baa4",
   "metadata": {
    "execution": {
     "iopub.execute_input": "2023-03-21T15:14:37.708030Z",
     "iopub.status.busy": "2023-03-21T15:14:37.707540Z",
     "iopub.status.idle": "2023-03-21T15:14:37.780115Z",
     "shell.execute_reply": "2023-03-21T15:14:37.778892Z"
    },
    "papermill": {
     "duration": 0.089335,
     "end_time": "2023-03-21T15:14:37.782561",
     "exception": false,
     "start_time": "2023-03-21T15:14:37.693226",
     "status": "completed"
    },
    "tags": []
   },
   "outputs": [],
   "source": [
    "mean_arr = np.nanmean(ts_train, axis=1, keepdims=True)\n",
    "nan_indices = np.isnan(ts_train)\n",
    "ts_train[nan_indices] = np.take(mean_arr, np.nonzero(nan_indices)[0])\n",
    "\n",
    "mean_arr = np.nanmean(ts_test, axis=1, keepdims=True)\n",
    "nan_indices = np.isnan(ts_test)\n",
    "ts_test[nan_indices] = np.take(mean_arr, np.nonzero(nan_indices)[0])"
   ]
  },
  {
   "cell_type": "code",
   "execution_count": 16,
   "id": "d369691b",
   "metadata": {
    "execution": {
     "iopub.execute_input": "2023-03-21T15:14:37.810455Z",
     "iopub.status.busy": "2023-03-21T15:14:37.810092Z",
     "iopub.status.idle": "2023-03-21T15:14:37.818025Z",
     "shell.execute_reply": "2023-03-21T15:14:37.816967Z"
    },
    "papermill": {
     "duration": 0.024827,
     "end_time": "2023-03-21T15:14:37.820685",
     "exception": false,
     "start_time": "2023-03-21T15:14:37.795858",
     "status": "completed"
    },
    "tags": []
   },
   "outputs": [
    {
     "data": {
      "text/plain": [
       "0"
      ]
     },
     "execution_count": 16,
     "metadata": {},
     "output_type": "execute_result"
    }
   ],
   "source": [
    "np.count_nonzero(np.isnan(X_train))"
   ]
  },
  {
   "cell_type": "code",
   "execution_count": 17,
   "id": "0d602e18",
   "metadata": {
    "execution": {
     "iopub.execute_input": "2023-03-21T15:14:37.857441Z",
     "iopub.status.busy": "2023-03-21T15:14:37.856389Z",
     "iopub.status.idle": "2023-03-21T15:14:37.862576Z",
     "shell.execute_reply": "2023-03-21T15:14:37.861647Z"
    },
    "papermill": {
     "duration": 0.025336,
     "end_time": "2023-03-21T15:14:37.864995",
     "exception": false,
     "start_time": "2023-03-21T15:14:37.839659",
     "status": "completed"
    },
    "tags": []
   },
   "outputs": [],
   "source": [
    "X_train[np.isnan(X_train)] = 0\n",
    "X_test[np.isnan(X_test)] = 0"
   ]
  },
  {
   "cell_type": "code",
   "execution_count": 18,
   "id": "45c5102c",
   "metadata": {
    "execution": {
     "iopub.execute_input": "2023-03-21T15:14:37.895454Z",
     "iopub.status.busy": "2023-03-21T15:14:37.894633Z",
     "iopub.status.idle": "2023-03-21T15:14:40.638719Z",
     "shell.execute_reply": "2023-03-21T15:14:40.637762Z"
    },
    "papermill": {
     "duration": 2.762466,
     "end_time": "2023-03-21T15:14:40.641460",
     "exception": false,
     "start_time": "2023-03-21T15:14:37.878994",
     "status": "completed"
    },
    "tags": []
   },
   "outputs": [],
   "source": [
    "save_time_series_txt(f'{data_path}/ts_train.txt', ts_train)\n",
    "save_time_series_txt(f'{data_path}/ts_test.txt', ts_test)"
   ]
  },
  {
   "cell_type": "code",
   "execution_count": 19,
   "id": "39830f37",
   "metadata": {
    "execution": {
     "iopub.execute_input": "2023-03-21T15:14:40.709083Z",
     "iopub.status.busy": "2023-03-21T15:14:40.708119Z",
     "iopub.status.idle": "2023-03-21T15:14:40.724508Z",
     "shell.execute_reply": "2023-03-21T15:14:40.723071Z"
    },
    "papermill": {
     "duration": 0.05404,
     "end_time": "2023-03-21T15:14:40.728153",
     "exception": false,
     "start_time": "2023-03-21T15:14:40.674113",
     "status": "completed"
    },
    "tags": []
   },
   "outputs": [],
   "source": [
    "with open(f'{data_path}/X_train.npy', 'wb') as f:\n",
    "    np.save(f, X_train, allow_pickle=True)\n",
    "\n",
    "with open(f'{data_path}/X_test.npy', 'wb') as f:\n",
    "    np.save(f, X_test, allow_pickle=True)"
   ]
  },
  {
   "cell_type": "code",
   "execution_count": 20,
   "id": "795fd2be",
   "metadata": {
    "execution": {
     "iopub.execute_input": "2023-03-21T15:14:40.778460Z",
     "iopub.status.busy": "2023-03-21T15:14:40.777797Z",
     "iopub.status.idle": "2023-03-21T15:14:40.786114Z",
     "shell.execute_reply": "2023-03-21T15:14:40.785289Z"
    },
    "papermill": {
     "duration": 0.027393,
     "end_time": "2023-03-21T15:14:40.787779",
     "exception": false,
     "start_time": "2023-03-21T15:14:40.760386",
     "status": "completed"
    },
    "tags": []
   },
   "outputs": [],
   "source": [
    "with open(f'{data_path}/y_train.npy', 'wb') as f:\n",
    "    np.save(f, y_train, allow_pickle=True)\n",
    "\n",
    "with open(f'{data_path}/y_test.npy', 'wb') as f:\n",
    "    np.save(f, y_test, allow_pickle=True)"
   ]
  },
  {
   "cell_type": "code",
   "execution_count": 21,
   "id": "08bda153",
   "metadata": {
    "execution": {
     "iopub.execute_input": "2023-03-21T15:14:40.812462Z",
     "iopub.status.busy": "2023-03-21T15:14:40.811716Z",
     "iopub.status.idle": "2023-03-21T15:14:40.987753Z",
     "shell.execute_reply": "2023-03-21T15:14:40.986562Z"
    },
    "papermill": {
     "duration": 0.191816,
     "end_time": "2023-03-21T15:14:40.990898",
     "exception": false,
     "start_time": "2023-03-21T15:14:40.799082",
     "status": "completed"
    },
    "tags": []
   },
   "outputs": [
    {
     "data": {
      "text/plain": [
       "[<matplotlib.lines.Line2D at 0x7f74cf0efc10>]"
      ]
     },
     "execution_count": 21,
     "metadata": {},
     "output_type": "execute_result"
    },
    {
     "data": {
      "image/png": "[encoded data removed]",
      "text/plain": [
       "<Figure size 640x480 with 1 Axes>"
      ]
     },
     "metadata": {},
     "output_type": "display_data"
    }
   ],
   "source": [
    "plt.plot(random.choice(ts_train))"
   ]
  },
  {
   "cell_type": "code",
   "execution_count": 22,
   "id": "98ce9d63",
   "metadata": {
    "execution": {
     "iopub.execute_input": "2023-03-21T15:14:41.057724Z",
     "iopub.status.busy": "2023-03-21T15:14:41.057430Z",
     "iopub.status.idle": "2023-03-21T15:14:41.063879Z",
     "shell.execute_reply": "2023-03-21T15:14:41.062572Z"
    },
    "papermill": {
     "duration": 0.043447,
     "end_time": "2023-03-21T15:14:41.066791",
     "exception": false,
     "start_time": "2023-03-21T15:14:41.023344",
     "status": "completed"
    },
    "tags": []
   },
   "outputs": [],
   "source": [
    "# Parameters that require knowing if it's binary or multiclass (LightGBM, metrics)\n",
    "if len(set(y)) == 2:\n",
    "    avg_par = 'macro'\n",
    "    obj_par = 'binary'\n",
    "elif len(set(y)) > 2:\n",
    "    avg_par = 'weighted'\n",
    "    obj_par = 'multiclass'"
   ]
  },
  {
   "cell_type": "markdown",
   "id": "228f1b39",
   "metadata": {
    "papermill": {
     "duration": 0.014994,
     "end_time": "2023-03-21T15:14:41.097438",
     "exception": false,
     "start_time": "2023-03-21T15:14:41.082444",
     "status": "completed"
    },
    "tags": []
   },
   "source": [
    "## Classification"
   ]
  },
  {
   "cell_type": "code",
   "execution_count": 23,
   "id": "34bb73ff",
   "metadata": {
    "execution": {
     "iopub.execute_input": "2023-03-21T15:14:41.122979Z",
     "iopub.status.busy": "2023-03-21T15:14:41.122109Z",
     "iopub.status.idle": "2023-03-21T15:14:41.255939Z",
     "shell.execute_reply": "2023-03-21T15:14:41.255119Z"
    },
    "papermill": {
     "duration": 0.151416,
     "end_time": "2023-03-21T15:14:41.260591",
     "exception": false,
     "start_time": "2023-03-21T15:14:41.109175",
     "status": "completed"
    },
    "tags": []
   },
   "outputs": [],
   "source": [
    "from sklearn.tree import DecisionTreeClassifier\n",
    "import lightgbm as lgbm\n",
    "from sklearn.ensemble import RandomForestClassifier"
   ]
  },
  {
   "cell_type": "code",
   "execution_count": 24,
   "id": "02aaee18",
   "metadata": {
    "execution": {
     "iopub.execute_input": "2023-03-21T15:14:41.294856Z",
     "iopub.status.busy": "2023-03-21T15:14:41.294031Z",
     "iopub.status.idle": "2023-03-21T15:14:41.299202Z",
     "shell.execute_reply": "2023-03-21T15:14:41.298249Z"
    },
    "papermill": {
     "duration": 0.02306,
     "end_time": "2023-03-21T15:14:41.301078",
     "exception": false,
     "start_time": "2023-03-21T15:14:41.278018",
     "status": "completed"
    },
    "tags": []
   },
   "outputs": [],
   "source": [
    "metrics_data = {}"
   ]
  },
  {
   "cell_type": "markdown",
   "id": "b49309ed",
   "metadata": {
    "papermill": {
     "duration": 0.012235,
     "end_time": "2023-03-21T15:14:41.329217",
     "exception": false,
     "start_time": "2023-03-21T15:14:41.316982",
     "status": "completed"
    },
    "tags": []
   },
   "source": [
    "### Baseline: global features (No Time Series)"
   ]
  },
  {
   "cell_type": "code",
   "execution_count": 25,
   "id": "35eb9f66",
   "metadata": {
    "execution": {
     "iopub.execute_input": "2023-03-21T15:14:41.356550Z",
     "iopub.status.busy": "2023-03-21T15:14:41.355639Z",
     "iopub.status.idle": "2023-03-21T15:14:41.361154Z",
     "shell.execute_reply": "2023-03-21T15:14:41.360032Z"
    },
    "papermill": {
     "duration": 0.021225,
     "end_time": "2023-03-21T15:14:41.362854",
     "exception": false,
     "start_time": "2023-03-21T15:14:41.341629",
     "status": "completed"
    },
    "tags": []
   },
   "outputs": [],
   "source": [
    "metrics_data['Global'] = {}"
   ]
  },
  {
   "cell_type": "markdown",
   "id": "29cd5044",
   "metadata": {
    "papermill": {
     "duration": 0.012046,
     "end_time": "2023-03-21T15:14:41.387155",
     "exception": false,
     "start_time": "2023-03-21T15:14:41.375109",
     "status": "completed"
    },
    "tags": []
   },
   "source": [
    "**Decision Tree**"
   ]
  },
  {
   "cell_type": "code",
   "execution_count": 26,
   "id": "9ef4f037",
   "metadata": {
    "execution": {
     "iopub.execute_input": "2023-03-21T15:14:41.415180Z",
     "iopub.status.busy": "2023-03-21T15:14:41.414341Z",
     "iopub.status.idle": "2023-03-21T15:14:41.871879Z",
     "shell.execute_reply": "2023-03-21T15:14:41.870798Z"
    },
    "papermill": {
     "duration": 0.474739,
     "end_time": "2023-03-21T15:14:41.874305",
     "exception": false,
     "start_time": "2023-03-21T15:14:41.399566",
     "status": "completed"
    },
    "tags": []
   },
   "outputs": [
    {
     "data": {
      "text/html": [
       "<style>#sk-container-id-1 {color: black;background-color: white;}#sk-container-id-1 pre{padding: 0;}#sk-container-id-1 div.sk-toggleable {background-color: white;}#sk-container-id-1 label.sk-toggleable__label {cursor: pointer;display: block;width: 100%;margin-bottom: 0;padding: 0.3em;box-sizing: border-box;text-align: center;}#sk-container-id-1 label.sk-toggleable__label-arrow:before {content: \"▸\";float: left;margin-right: 0.25em;color: #696969;}#sk-container-id-1 label.sk-toggleable__label-arrow:hover:before {color: black;}#sk-container-id-1 div.sk-estimator:hover label.sk-toggleable__label-arrow:before {color: black;}#sk-container-id-1 div.sk-toggleable__content {max-height: 0;max-width: 0;overflow: hidden;text-align: left;background-color: #f0f8ff;}#sk-container-id-1 div.sk-toggleable__content pre {margin: 0.2em;color: black;border-radius: 0.25em;background-color: #f0f8ff;}#sk-container-id-1 input.sk-toggleable__control:checked~div.sk-toggleable__content {max-height: 200px;max-width: 100%;overflow: auto;}#sk-container-id-1 input.sk-toggleable__control:checked~label.sk-toggleable__label-arrow:before {content: \"▾\";}#sk-container-id-1 div.sk-estimator input.sk-toggleable__control:checked~label.sk-toggleable__label {background-color: #d4ebff;}#sk-container-id-1 div.sk-label input.sk-toggleable__control:checked~label.sk-toggleable__label {background-color: #d4ebff;}#sk-container-id-1 input.sk-hidden--visually {border: 0;clip: rect(1px 1px 1px 1px);clip: rect(1px, 1px, 1px, 1px);height: 1px;margin: -1px;overflow: hidden;padding: 0;position: absolute;width: 1px;}#sk-container-id-1 div.sk-estimator {font-family: monospace;background-color: #f0f8ff;border: 1px dotted black;border-radius: 0.25em;box-sizing: border-box;margin-bottom: 0.5em;}#sk-container-id-1 div.sk-estimator:hover {background-color: #d4ebff;}#sk-container-id-1 div.sk-parallel-item::after {content: \"\";width: 100%;border-bottom: 1px solid gray;flex-grow: 1;}#sk-container-id-1 div.sk-label:hover label.sk-toggleable__label {background-color: #d4ebff;}#sk-container-id-1 div.sk-serial::before {content: \"\";position: absolute;border-left: 1px solid gray;box-sizing: border-box;top: 0;bottom: 0;left: 50%;z-index: 0;}#sk-container-id-1 div.sk-serial {display: flex;flex-direction: column;align-items: center;background-color: white;padding-right: 0.2em;padding-left: 0.2em;position: relative;}#sk-container-id-1 div.sk-item {position: relative;z-index: 1;}#sk-container-id-1 div.sk-parallel {display: flex;align-items: stretch;justify-content: center;background-color: white;position: relative;}#sk-container-id-1 div.sk-item::before, #sk-container-id-1 div.sk-parallel-item::before {content: \"\";position: absolute;border-left: 1px solid gray;box-sizing: border-box;top: 0;bottom: 0;left: 50%;z-index: -1;}#sk-container-id-1 div.sk-parallel-item {display: flex;flex-direction: column;z-index: 1;position: relative;background-color: white;}#sk-container-id-1 div.sk-parallel-item:first-child::after {align-self: flex-end;width: 50%;}#sk-container-id-1 div.sk-parallel-item:last-child::after {align-self: flex-start;width: 50%;}#sk-container-id-1 div.sk-parallel-item:only-child::after {width: 0;}#sk-container-id-1 div.sk-dashed-wrapped {border: 1px dashed gray;margin: 0 0.4em 0.5em 0.4em;box-sizing: border-box;padding-bottom: 0.4em;background-color: white;}#sk-container-id-1 div.sk-label label {font-family: monospace;font-weight: bold;display: inline-block;line-height: 1.2em;}#sk-container-id-1 div.sk-label-container {text-align: center;}#sk-container-id-1 div.sk-container {/* jupyter's `normalize.less` sets `[hidden] { display: none; }` but bootstrap.min.css set `[hidden] { display: none !important; }` so we also need the `!important` here to be able to override the default hidden behavior on the sphinx rendered scikit-learn.org. See: https://github.com/scikit-learn/scikit-learn/issues/21755 */display: inline-block !important;position: relative;}#sk-container-id-1 div.sk-text-repr-fallback {display: none;}</style><div id=\"sk-container-id-1\" class=\"sk-top-container\"><div class=\"sk-text-repr-fallback\"><pre>DecisionTreeClassifier()</pre><b>In a Jupyter environment, please rerun this cell to show the HTML representation or trust the notebook. <br />On GitHub, the HTML representation is unable to render, please try loading this page with nbviewer.org.</b></div><div class=\"sk-container\" hidden><div class=\"sk-item\"><div class=\"sk-estimator sk-toggleable\"><input class=\"sk-toggleable__control sk-hidden--visually\" id=\"sk-estimator-id-1\" type=\"checkbox\" checked><label for=\"sk-estimator-id-1\" class=\"sk-toggleable__label sk-toggleable__label-arrow\">DecisionTreeClassifier</label><div class=\"sk-toggleable__content\"><pre>DecisionTreeClassifier()</pre></div></div></div></div></div>"
      ],
      "text/plain": [
       "DecisionTreeClassifier()"
      ]
     },
     "execution_count": 26,
     "metadata": {},
     "output_type": "execute_result"
    }
   ],
   "source": [
    "clf = DecisionTreeClassifier()\n",
    "clf.fit(X_train, y_train)"
   ]
  },
  {
   "cell_type": "code",
   "execution_count": 27,
   "id": "9c50acc4",
   "metadata": {
    "execution": {
     "iopub.execute_input": "2023-03-21T15:14:41.911512Z",
     "iopub.status.busy": "2023-03-21T15:14:41.910562Z",
     "iopub.status.idle": "2023-03-21T15:14:42.050330Z",
     "shell.execute_reply": "2023-03-21T15:14:42.049485Z"
    },
    "papermill": {
     "duration": 0.160337,
     "end_time": "2023-03-21T15:14:42.052530",
     "exception": false,
     "start_time": "2023-03-21T15:14:41.892193",
     "status": "completed"
    },
    "tags": []
   },
   "outputs": [
    {
     "name": "stdout",
     "output_type": "stream",
     "text": [
      "              precision    recall  f1-score   support\n",
      "\n",
      "   hard-rock       0.22      0.21      0.22      1000\n",
      " heavy-metal       0.28      0.27      0.27      1000\n",
      "       indie       0.22      0.22      0.22      1000\n",
      "    pop-rock       0.23      0.24      0.23      1000\n",
      "   punk-rock       0.24      0.25      0.24      1000\n",
      "\n",
      "    accuracy                           0.24      5000\n",
      "   macro avg       0.24      0.24      0.24      5000\n",
      "weighted avg       0.24      0.24      0.24      5000\n",
      "\n"
     ]
    }
   ],
   "source": [
    "y_pred = clf.predict(X_test)\n",
    "print(classification_report(y_test, y_pred))"
   ]
  },
  {
   "cell_type": "code",
   "execution_count": 28,
   "id": "8866c3c3",
   "metadata": {
    "execution": {
     "iopub.execute_input": "2023-03-21T15:14:42.083132Z",
     "iopub.status.busy": "2023-03-21T15:14:42.082334Z",
     "iopub.status.idle": "2023-03-21T15:14:42.174705Z",
     "shell.execute_reply": "2023-03-21T15:14:42.173890Z"
    },
    "papermill": {
     "duration": 0.108929,
     "end_time": "2023-03-21T15:14:42.176771",
     "exception": false,
     "start_time": "2023-03-21T15:14:42.067842",
     "status": "completed"
    },
    "tags": []
   },
   "outputs": [],
   "source": [
    "acc = accuracy_score(y_test, y_pred)\n",
    "pre = precision_score(y_test, y_pred, average=avg_par)\n",
    "rec = recall_score(y_test, y_pred, average=avg_par)\n",
    "f1 = f1_score(y_test, y_pred, average=avg_par)\n",
    "\n",
    "metrics_data['Global']['DecisionTree'] = {'Accuracy': acc, 'Precision': pre, 'Recall': rec, 'F1': f1}"
   ]
  },
  {
   "cell_type": "markdown",
   "id": "28aa5a63",
   "metadata": {
    "papermill": {
     "duration": 0.013642,
     "end_time": "2023-03-21T15:14:42.206098",
     "exception": false,
     "start_time": "2023-03-21T15:14:42.192456",
     "status": "completed"
    },
    "tags": []
   },
   "source": [
    "**Random Forest**"
   ]
  },
  {
   "cell_type": "code",
   "execution_count": 29,
   "id": "0e5e2310",
   "metadata": {
    "execution": {
     "iopub.execute_input": "2023-03-21T15:14:42.234591Z",
     "iopub.status.busy": "2023-03-21T15:14:42.234022Z",
     "iopub.status.idle": "2023-03-21T15:14:48.430858Z",
     "shell.execute_reply": "2023-03-21T15:14:48.430167Z"
    },
    "papermill": {
     "duration": 6.212929,
     "end_time": "2023-03-21T15:14:48.432825",
     "exception": false,
     "start_time": "2023-03-21T15:14:42.219896",
     "status": "completed"
    },
    "tags": []
   },
   "outputs": [
    {
     "data": {
      "text/html": [
       "<style>#sk-container-id-2 {color: black;background-color: white;}#sk-container-id-2 pre{padding: 0;}#sk-container-id-2 div.sk-toggleable {background-color: white;}#sk-container-id-2 label.sk-toggleable__label {cursor: pointer;display: block;width: 100%;margin-bottom: 0;padding: 0.3em;box-sizing: border-box;text-align: center;}#sk-container-id-2 label.sk-toggleable__label-arrow:before {content: \"▸\";float: left;margin-right: 0.25em;color: #696969;}#sk-container-id-2 label.sk-toggleable__label-arrow:hover:before {color: black;}#sk-container-id-2 div.sk-estimator:hover label.sk-toggleable__label-arrow:before {color: black;}#sk-container-id-2 div.sk-toggleable__content {max-height: 0;max-width: 0;overflow: hidden;text-align: left;background-color: #f0f8ff;}#sk-container-id-2 div.sk-toggleable__content pre {margin: 0.2em;color: black;border-radius: 0.25em;background-color: #f0f8ff;}#sk-container-id-2 input.sk-toggleable__control:checked~div.sk-toggleable__content {max-height: 200px;max-width: 100%;overflow: auto;}#sk-container-id-2 input.sk-toggleable__control:checked~label.sk-toggleable__label-arrow:before {content: \"▾\";}#sk-container-id-2 div.sk-estimator input.sk-toggleable__control:checked~label.sk-toggleable__label {background-color: #d4ebff;}#sk-container-id-2 div.sk-label input.sk-toggleable__control:checked~label.sk-toggleable__label {background-color: #d4ebff;}#sk-container-id-2 input.sk-hidden--visually {border: 0;clip: rect(1px 1px 1px 1px);clip: rect(1px, 1px, 1px, 1px);height: 1px;margin: -1px;overflow: hidden;padding: 0;position: absolute;width: 1px;}#sk-container-id-2 div.sk-estimator {font-family: monospace;background-color: #f0f8ff;border: 1px dotted black;border-radius: 0.25em;box-sizing: border-box;margin-bottom: 0.5em;}#sk-container-id-2 div.sk-estimator:hover {background-color: #d4ebff;}#sk-container-id-2 div.sk-parallel-item::after {content: \"\";width: 100%;border-bottom: 1px solid gray;flex-grow: 1;}#sk-container-id-2 div.sk-label:hover label.sk-toggleable__label {background-color: #d4ebff;}#sk-container-id-2 div.sk-serial::before {content: \"\";position: absolute;border-left: 1px solid gray;box-sizing: border-box;top: 0;bottom: 0;left: 50%;z-index: 0;}#sk-container-id-2 div.sk-serial {display: flex;flex-direction: column;align-items: center;background-color: white;padding-right: 0.2em;padding-left: 0.2em;position: relative;}#sk-container-id-2 div.sk-item {position: relative;z-index: 1;}#sk-container-id-2 div.sk-parallel {display: flex;align-items: stretch;justify-content: center;background-color: white;position: relative;}#sk-container-id-2 div.sk-item::before, #sk-container-id-2 div.sk-parallel-item::before {content: \"\";position: absolute;border-left: 1px solid gray;box-sizing: border-box;top: 0;bottom: 0;left: 50%;z-index: -1;}#sk-container-id-2 div.sk-parallel-item {display: flex;flex-direction: column;z-index: 1;position: relative;background-color: white;}#sk-container-id-2 div.sk-parallel-item:first-child::after {align-self: flex-end;width: 50%;}#sk-container-id-2 div.sk-parallel-item:last-child::after {align-self: flex-start;width: 50%;}#sk-container-id-2 div.sk-parallel-item:only-child::after {width: 0;}#sk-container-id-2 div.sk-dashed-wrapped {border: 1px dashed gray;margin: 0 0.4em 0.5em 0.4em;box-sizing: border-box;padding-bottom: 0.4em;background-color: white;}#sk-container-id-2 div.sk-label label {font-family: monospace;font-weight: bold;display: inline-block;line-height: 1.2em;}#sk-container-id-2 div.sk-label-container {text-align: center;}#sk-container-id-2 div.sk-container {/* jupyter's `normalize.less` sets `[hidden] { display: none; }` but bootstrap.min.css set `[hidden] { display: none !important; }` so we also need the `!important` here to be able to override the default hidden behavior on the sphinx rendered scikit-learn.org. See: https://github.com/scikit-learn/scikit-learn/issues/21755 */display: inline-block !important;position: relative;}#sk-container-id-2 div.sk-text-repr-fallback {display: none;}</style><div id=\"sk-container-id-2\" class=\"sk-top-container\"><div class=\"sk-text-repr-fallback\"><pre>RandomForestClassifier(random_state=42)</pre><b>In a Jupyter environment, please rerun this cell to show the HTML representation or trust the notebook. <br />On GitHub, the HTML representation is unable to render, please try loading this page with nbviewer.org.</b></div><div class=\"sk-container\" hidden><div class=\"sk-item\"><div class=\"sk-estimator sk-toggleable\"><input class=\"sk-toggleable__control sk-hidden--visually\" id=\"sk-estimator-id-2\" type=\"checkbox\" checked><label for=\"sk-estimator-id-2\" class=\"sk-toggleable__label sk-toggleable__label-arrow\">RandomForestClassifier</label><div class=\"sk-toggleable__content\"><pre>RandomForestClassifier(random_state=42)</pre></div></div></div></div></div>"
      ],
      "text/plain": [
       "RandomForestClassifier(random_state=42)"
      ]
     },
     "execution_count": 29,
     "metadata": {},
     "output_type": "execute_result"
    }
   ],
   "source": [
    "clf = RandomForestClassifier(random_state=42)\n",
    "clf.fit(X_train, y_train)"
   ]
  },
  {
   "cell_type": "code",
   "execution_count": 30,
   "id": "4bd1304b",
   "metadata": {
    "execution": {
     "iopub.execute_input": "2023-03-21T15:14:48.464645Z",
     "iopub.status.busy": "2023-03-21T15:14:48.463868Z",
     "iopub.status.idle": "2023-03-21T15:14:48.741047Z",
     "shell.execute_reply": "2023-03-21T15:14:48.739846Z"
    },
    "papermill": {
     "duration": 0.294102,
     "end_time": "2023-03-21T15:14:48.742765",
     "exception": false,
     "start_time": "2023-03-21T15:14:48.448663",
     "status": "completed"
    },
    "tags": []
   },
   "outputs": [
    {
     "name": "stdout",
     "output_type": "stream",
     "text": [
      "              precision    recall  f1-score   support\n",
      "\n",
      "   hard-rock       0.25      0.23      0.24      1000\n",
      " heavy-metal       0.36      0.41      0.38      1000\n",
      "       indie       0.26      0.23      0.24      1000\n",
      "    pop-rock       0.31      0.37      0.33      1000\n",
      "   punk-rock       0.29      0.26      0.27      1000\n",
      "\n",
      "    accuracy                           0.30      5000\n",
      "   macro avg       0.29      0.30      0.29      5000\n",
      "weighted avg       0.29      0.30      0.29      5000\n",
      "\n"
     ]
    }
   ],
   "source": [
    "y_pred = clf.predict(X_test)\n",
    "print(classification_report(y_test, y_pred))"
   ]
  },
  {
   "cell_type": "code",
   "execution_count": 31,
   "id": "43174ba2",
   "metadata": {
    "execution": {
     "iopub.execute_input": "2023-03-21T15:14:48.772496Z",
     "iopub.status.busy": "2023-03-21T15:14:48.771434Z",
     "iopub.status.idle": "2023-03-21T15:14:48.859059Z",
     "shell.execute_reply": "2023-03-21T15:14:48.858217Z"
    },
    "papermill": {
     "duration": 0.10547,
     "end_time": "2023-03-21T15:14:48.861893",
     "exception": false,
     "start_time": "2023-03-21T15:14:48.756423",
     "status": "completed"
    },
    "tags": []
   },
   "outputs": [],
   "source": [
    "acc = accuracy_score(y_test, y_pred)\n",
    "pre = precision_score(y_test, y_pred, average=avg_par)\n",
    "rec = recall_score(y_test, y_pred, average=avg_par)\n",
    "f1 = f1_score(y_test, y_pred, average=avg_par)\n",
    "\n",
    "metrics_data['Global']['RandomForest'] = {'Accuracy': acc, 'Precision': pre, 'Recall': rec, 'F1': f1}"
   ]
  },
  {
   "cell_type": "markdown",
   "id": "22c98ac5",
   "metadata": {
    "papermill": {
     "duration": 0.012006,
     "end_time": "2023-03-21T15:14:48.898805",
     "exception": false,
     "start_time": "2023-03-21T15:14:48.886799",
     "status": "completed"
    },
    "tags": []
   },
   "source": [
    "**LightGBM**"
   ]
  },
  {
   "cell_type": "code",
   "execution_count": 32,
   "id": "c93b818c",
   "metadata": {
    "execution": {
     "iopub.execute_input": "2023-03-21T15:14:48.945788Z",
     "iopub.status.busy": "2023-03-21T15:14:48.945459Z",
     "iopub.status.idle": "2023-03-21T15:14:49.871615Z",
     "shell.execute_reply": "2023-03-21T15:14:49.870900Z"
    },
    "papermill": {
     "duration": 0.956398,
     "end_time": "2023-03-21T15:14:49.875054",
     "exception": false,
     "start_time": "2023-03-21T15:14:48.918656",
     "status": "completed"
    },
    "tags": []
   },
   "outputs": [
    {
     "data": {
      "text/html": [
       "<style>#sk-container-id-3 {color: black;background-color: white;}#sk-container-id-3 pre{padding: 0;}#sk-container-id-3 div.sk-toggleable {background-color: white;}#sk-container-id-3 label.sk-toggleable__label {cursor: pointer;display: block;width: 100%;margin-bottom: 0;padding: 0.3em;box-sizing: border-box;text-align: center;}#sk-container-id-3 label.sk-toggleable__label-arrow:before {content: \"▸\";float: left;margin-right: 0.25em;color: #696969;}#sk-container-id-3 label.sk-toggleable__label-arrow:hover:before {color: black;}#sk-container-id-3 div.sk-estimator:hover label.sk-toggleable__label-arrow:before {color: black;}#sk-container-id-3 div.sk-toggleable__content {max-height: 0;max-width: 0;overflow: hidden;text-align: left;background-color: #f0f8ff;}#sk-container-id-3 div.sk-toggleable__content pre {margin: 0.2em;color: black;border-radius: 0.25em;background-color: #f0f8ff;}#sk-container-id-3 input.sk-toggleable__control:checked~div.sk-toggleable__content {max-height: 200px;max-width: 100%;overflow: auto;}#sk-container-id-3 input.sk-toggleable__control:checked~label.sk-toggleable__label-arrow:before {content: \"▾\";}#sk-container-id-3 div.sk-estimator input.sk-toggleable__control:checked~label.sk-toggleable__label {background-color: #d4ebff;}#sk-container-id-3 div.sk-label input.sk-toggleable__control:checked~label.sk-toggleable__label {background-color: #d4ebff;}#sk-container-id-3 input.sk-hidden--visually {border: 0;clip: rect(1px 1px 1px 1px);clip: rect(1px, 1px, 1px, 1px);height: 1px;margin: -1px;overflow: hidden;padding: 0;position: absolute;width: 1px;}#sk-container-id-3 div.sk-estimator {font-family: monospace;background-color: #f0f8ff;border: 1px dotted black;border-radius: 0.25em;box-sizing: border-box;margin-bottom: 0.5em;}#sk-container-id-3 div.sk-estimator:hover {background-color: #d4ebff;}#sk-container-id-3 div.sk-parallel-item::after {content: \"\";width: 100%;border-bottom: 1px solid gray;flex-grow: 1;}#sk-container-id-3 div.sk-label:hover label.sk-toggleable__label {background-color: #d4ebff;}#sk-container-id-3 div.sk-serial::before {content: \"\";position: absolute;border-left: 1px solid gray;box-sizing: border-box;top: 0;bottom: 0;left: 50%;z-index: 0;}#sk-container-id-3 div.sk-serial {display: flex;flex-direction: column;align-items: center;background-color: white;padding-right: 0.2em;padding-left: 0.2em;position: relative;}#sk-container-id-3 div.sk-item {position: relative;z-index: 1;}#sk-container-id-3 div.sk-parallel {display: flex;align-items: stretch;justify-content: center;background-color: white;position: relative;}#sk-container-id-3 div.sk-item::before, #sk-container-id-3 div.sk-parallel-item::before {content: \"\";position: absolute;border-left: 1px solid gray;box-sizing: border-box;top: 0;bottom: 0;left: 50%;z-index: -1;}#sk-container-id-3 div.sk-parallel-item {display: flex;flex-direction: column;z-index: 1;position: relative;background-color: white;}#sk-container-id-3 div.sk-parallel-item:first-child::after {align-self: flex-end;width: 50%;}#sk-container-id-3 div.sk-parallel-item:last-child::after {align-self: flex-start;width: 50%;}#sk-container-id-3 div.sk-parallel-item:only-child::after {width: 0;}#sk-container-id-3 div.sk-dashed-wrapped {border: 1px dashed gray;margin: 0 0.4em 0.5em 0.4em;box-sizing: border-box;padding-bottom: 0.4em;background-color: white;}#sk-container-id-3 div.sk-label label {font-family: monospace;font-weight: bold;display: inline-block;line-height: 1.2em;}#sk-container-id-3 div.sk-label-container {text-align: center;}#sk-container-id-3 div.sk-container {/* jupyter's `normalize.less` sets `[hidden] { display: none; }` but bootstrap.min.css set `[hidden] { display: none !important; }` so we also need the `!important` here to be able to override the default hidden behavior on the sphinx rendered scikit-learn.org. See: https://github.com/scikit-learn/scikit-learn/issues/21755 */display: inline-block !important;position: relative;}#sk-container-id-3 div.sk-text-repr-fallback {display: none;}</style><div id=\"sk-container-id-3\" class=\"sk-top-container\"><div class=\"sk-text-repr-fallback\"><pre>LGBMClassifier(objective=&#x27;multiclass&#x27;)</pre><b>In a Jupyter environment, please rerun this cell to show the HTML representation or trust the notebook. <br />On GitHub, the HTML representation is unable to render, please try loading this page with nbviewer.org.</b></div><div class=\"sk-container\" hidden><div class=\"sk-item\"><div class=\"sk-estimator sk-toggleable\"><input class=\"sk-toggleable__control sk-hidden--visually\" id=\"sk-estimator-id-3\" type=\"checkbox\" checked><label for=\"sk-estimator-id-3\" class=\"sk-toggleable__label sk-toggleable__label-arrow\">LGBMClassifier</label><div class=\"sk-toggleable__content\"><pre>LGBMClassifier(objective=&#x27;multiclass&#x27;)</pre></div></div></div></div></div>"
      ],
      "text/plain": [
       "LGBMClassifier(objective='multiclass')"
      ]
     },
     "execution_count": 32,
     "metadata": {},
     "output_type": "execute_result"
    }
   ],
   "source": [
    "clf = lgbm.LGBMClassifier(objective=obj_par) \n",
    "clf.fit(X_train, y_train)"
   ]
  },
  {
   "cell_type": "code",
   "execution_count": 33,
   "id": "600a663a",
   "metadata": {
    "execution": {
     "iopub.execute_input": "2023-03-21T15:14:49.956073Z",
     "iopub.status.busy": "2023-03-21T15:14:49.955744Z",
     "iopub.status.idle": "2023-03-21T15:14:50.143823Z",
     "shell.execute_reply": "2023-03-21T15:14:50.142662Z"
    },
    "papermill": {
     "duration": 0.231214,
     "end_time": "2023-03-21T15:14:50.145569",
     "exception": false,
     "start_time": "2023-03-21T15:14:49.914355",
     "status": "completed"
    },
    "tags": []
   },
   "outputs": [
    {
     "name": "stdout",
     "output_type": "stream",
     "text": [
      "              precision    recall  f1-score   support\n",
      "\n",
      "   hard-rock       0.27      0.21      0.23      1000\n",
      " heavy-metal       0.39      0.41      0.40      1000\n",
      "       indie       0.28      0.28      0.28      1000\n",
      "    pop-rock       0.32      0.39      0.35      1000\n",
      "   punk-rock       0.30      0.29      0.29      1000\n",
      "\n",
      "    accuracy                           0.31      5000\n",
      "   macro avg       0.31      0.31      0.31      5000\n",
      "weighted avg       0.31      0.31      0.31      5000\n",
      "\n"
     ]
    }
   ],
   "source": [
    "y_pred = clf.predict(X_test)\n",
    "print(classification_report(y_test, y_pred))"
   ]
  },
  {
   "cell_type": "code",
   "execution_count": 34,
   "id": "508d831d",
   "metadata": {
    "execution": {
     "iopub.execute_input": "2023-03-21T15:14:50.217487Z",
     "iopub.status.busy": "2023-03-21T15:14:50.217045Z",
     "iopub.status.idle": "2023-03-21T15:14:50.297914Z",
     "shell.execute_reply": "2023-03-21T15:14:50.297044Z"
    },
    "papermill": {
     "duration": 0.11657,
     "end_time": "2023-03-21T15:14:50.300704",
     "exception": false,
     "start_time": "2023-03-21T15:14:50.184134",
     "status": "completed"
    },
    "tags": []
   },
   "outputs": [],
   "source": [
    "acc = accuracy_score(y_test, y_pred)\n",
    "pre = precision_score(y_test, y_pred, average=avg_par)\n",
    "rec = recall_score(y_test, y_pred, average=avg_par)\n",
    "f1 = f1_score(y_test, y_pred, average=avg_par)\n",
    "\n",
    "metrics_data['Global']['LightGBM'] = {'Accuracy': acc, 'Precision': pre, 'Recall': rec, 'F1': f1}"
   ]
  },
  {
   "cell_type": "markdown",
   "id": "14b86894",
   "metadata": {
    "papermill": {
     "duration": 0.030962,
     "end_time": "2023-03-21T15:14:50.365980",
     "exception": false,
     "start_time": "2023-03-21T15:14:50.335018",
     "status": "completed"
    },
    "tags": []
   },
   "source": [
    "### Time Series Classification"
   ]
  },
  {
   "cell_type": "markdown",
   "id": "84c55533",
   "metadata": {
    "papermill": {
     "duration": 0.012104,
     "end_time": "2023-03-21T15:14:50.396245",
     "exception": false,
     "start_time": "2023-03-21T15:14:50.384141",
     "status": "completed"
    },
    "tags": []
   },
   "source": [
    "#### Learning Shapelets"
   ]
  },
  {
   "cell_type": "code",
   "execution_count": 35,
   "id": "488d8eb7",
   "metadata": {
    "execution": {
     "iopub.execute_input": "2023-03-21T15:14:50.423424Z",
     "iopub.status.busy": "2023-03-21T15:14:50.422737Z",
     "iopub.status.idle": "2023-03-21T15:14:52.483528Z",
     "shell.execute_reply": "2023-03-21T15:14:52.482630Z"
    },
    "papermill": {
     "duration": 2.07791,
     "end_time": "2023-03-21T15:14:52.486371",
     "exception": false,
     "start_time": "2023-03-21T15:14:50.408461",
     "status": "completed"
    },
    "tags": []
   },
   "outputs": [
    {
     "name": "stderr",
     "output_type": "stream",
     "text": [
      "2023-03-21 16:14:50.432056: I tensorflow/core/platform/cpu_feature_guard.cc:193] This TensorFlow binary is optimized with oneAPI Deep Neural Network Library (oneDNN) to use the following CPU instructions in performance-critical operations:  AVX2 FMA\n",
      "To enable them in other operations, rebuild TensorFlow with the appropriate compiler flags.\n",
      "2023-03-21 16:14:50.666843: W tensorflow/compiler/xla/stream_executor/platform/default/dso_loader.cc:64] Could not load dynamic library 'libcudart.so.11.0'; dlerror: libcudart.so.11.0: cannot open shared object file: No such file or directory\n",
      "2023-03-21 16:14:50.666913: I tensorflow/compiler/xla/stream_executor/cuda/cudart_stub.cc:29] Ignore above cudart dlerror if you do not have a GPU set up on your machine.\n"
     ]
    },
    {
     "name": "stderr",
     "output_type": "stream",
     "text": [
      "2023-03-21 16:14:51.482240: W tensorflow/compiler/xla/stream_executor/platform/default/dso_loader.cc:64] Could not load dynamic library 'libnvinfer.so.7'; dlerror: libnvinfer.so.7: cannot open shared object file: No such file or directory\n",
      "2023-03-21 16:14:51.482450: W tensorflow/compiler/xla/stream_executor/platform/default/dso_loader.cc:64] Could not load dynamic library 'libnvinfer_plugin.so.7'; dlerror: libnvinfer_plugin.so.7: cannot open shared object file: No such file or directory\n",
      "2023-03-21 16:14:51.482460: W tensorflow/compiler/tf2tensorrt/utils/py_utils.cc:38] TF-TRT Warning: Cannot dlopen some TensorRT libraries. If you would like to use Nvidia GPU with TensorRT, please make sure the missing libraries mentioned above are installed properly.\n"
     ]
    }
   ],
   "source": [
    "from tslearn.shapelets import LearningShapelets, grabocka_params_to_shapelet_size_dict"
   ]
  },
  {
   "cell_type": "code",
   "execution_count": 36,
   "id": "eb677959",
   "metadata": {
    "execution": {
     "iopub.execute_input": "2023-03-21T15:14:52.516591Z",
     "iopub.status.busy": "2023-03-21T15:14:52.516077Z",
     "iopub.status.idle": "2023-03-21T15:14:52.521171Z",
     "shell.execute_reply": "2023-03-21T15:14:52.520266Z"
    },
    "papermill": {
     "duration": 0.020766,
     "end_time": "2023-03-21T15:14:52.522584",
     "exception": false,
     "start_time": "2023-03-21T15:14:52.501818",
     "status": "completed"
    },
    "tags": []
   },
   "outputs": [],
   "source": [
    "n_ts, ts_sz, _ = ts_train.shape\n",
    "n_classes = len(set(y_train))"
   ]
  },
  {
   "cell_type": "code",
   "execution_count": 37,
   "id": "776ed3dd",
   "metadata": {
    "execution": {
     "iopub.execute_input": "2023-03-21T15:14:52.550887Z",
     "iopub.status.busy": "2023-03-21T15:14:52.550171Z",
     "iopub.status.idle": "2023-03-21T15:14:52.559879Z",
     "shell.execute_reply": "2023-03-21T15:14:52.558265Z"
    },
    "papermill": {
     "duration": 0.027928,
     "end_time": "2023-03-21T15:14:52.563136",
     "exception": false,
     "start_time": "2023-03-21T15:14:52.535208",
     "status": "completed"
    },
    "tags": []
   },
   "outputs": [
    {
     "name": "stdout",
     "output_type": "stream",
     "text": [
      "n_ts 20000\n",
      "ts_sz 100\n",
      "n_classes 5\n",
      "shapelet_sizes {10: 6}\n"
     ]
    }
   ],
   "source": [
    "# Set the number of shapelets per size as done in the original paper\n",
    "g_shapelet_sizes = grabocka_params_to_shapelet_size_dict(n_ts=n_ts,\n",
    "                                                         ts_sz=ts_sz,\n",
    "                                                         n_classes=n_classes,\n",
    "                                                         l=0.1,\n",
    "                                                         r=1)\n",
    "\n",
    "print('n_ts', n_ts)\n",
    "print('ts_sz', ts_sz)\n",
    "print('n_classes', n_classes)\n",
    "print('shapelet_sizes', g_shapelet_sizes)"
   ]
  },
  {
   "cell_type": "code",
   "execution_count": 38,
   "id": "90ed707e",
   "metadata": {
    "execution": {
     "iopub.execute_input": "2023-03-21T15:14:52.609171Z",
     "iopub.status.busy": "2023-03-21T15:14:52.608687Z",
     "iopub.status.idle": "2023-03-21T15:14:52.618858Z",
     "shell.execute_reply": "2023-03-21T15:14:52.617605Z"
    },
    "papermill": {
     "duration": 0.035736,
     "end_time": "2023-03-21T15:14:52.620902",
     "exception": false,
     "start_time": "2023-03-21T15:14:52.585166",
     "status": "completed"
    },
    "tags": []
   },
   "outputs": [
    {
     "data": {
      "text/plain": [
       "{10: 6, 20: 6, 5: 6}"
      ]
     },
     "execution_count": 38,
     "metadata": {},
     "output_type": "execute_result"
    }
   ],
   "source": [
    "shapelet_sizes = {}\n",
    "for key in g_shapelet_sizes:\n",
    "    shapelet_sizes[key] = g_shapelet_sizes[key]\n",
    "    shapelet_sizes[key*2] = g_shapelet_sizes[key]\n",
    "    shapelet_sizes[key//2] = g_shapelet_sizes[key]\n",
    "shapelet_sizes"
   ]
  },
  {
   "cell_type": "code",
   "execution_count": 39,
   "id": "3507fb9c",
   "metadata": {
    "execution": {
     "iopub.execute_input": "2023-03-21T15:14:52.649835Z",
     "iopub.status.busy": "2023-03-21T15:14:52.649249Z",
     "iopub.status.idle": "2023-03-21T15:14:52.656297Z",
     "shell.execute_reply": "2023-03-21T15:14:52.655321Z"
    },
    "papermill": {
     "duration": 0.023824,
     "end_time": "2023-03-21T15:14:52.658022",
     "exception": false,
     "start_time": "2023-03-21T15:14:52.634198",
     "status": "completed"
    },
    "tags": []
   },
   "outputs": [
    {
     "name": "stderr",
     "output_type": "stream",
     "text": [
      "/home/mattiapggioli/lyrics2ts/.venv/lib/python3.9/site-packages/tslearn/shapelets/shapelets.py:354: FutureWarning: The default value for 'scale' is set to False in version 0.4 to ensure backward compatibility, but is likely to change in a future version.\n",
      "  warnings.warn(\"The default value for 'scale' is set to False \"\n"
     ]
    }
   ],
   "source": [
    "model = LearningShapelets(n_shapelets_per_size=shapelet_sizes,\n",
    "                          optimizer=\"adam\", \n",
    "                          weight_regularizer=.01, \n",
    "                          max_iter=max_iter, verbose=0, random_state=42)"
   ]
  },
  {
   "cell_type": "code",
   "execution_count": 40,
   "id": "73b1fe2e",
   "metadata": {
    "execution": {
     "iopub.execute_input": "2023-03-21T15:14:52.688866Z",
     "iopub.status.busy": "2023-03-21T15:14:52.688332Z",
     "iopub.status.idle": "2023-03-21T15:45:04.393880Z",
     "shell.execute_reply": "2023-03-21T15:45:04.392875Z"
    },
    "papermill": {
     "duration": 1811.73982,
     "end_time": "2023-03-21T15:45:04.411483",
     "exception": false,
     "start_time": "2023-03-21T15:14:52.671663",
     "status": "completed"
    },
    "tags": []
   },
   "outputs": [
    {
     "name": "stderr",
     "output_type": "stream",
     "text": [
      "2023-03-21 16:14:53.319210: W tensorflow/compiler/xla/stream_executor/platform/default/dso_loader.cc:64] Could not load dynamic library 'libcuda.so.1'; dlerror: libcuda.so.1: cannot open shared object file: No such file or directory\n",
      "2023-03-21 16:14:53.319234: W tensorflow/compiler/xla/stream_executor/cuda/cuda_driver.cc:265] failed call to cuInit: UNKNOWN ERROR (303)\n",
      "2023-03-21 16:14:53.319255: I tensorflow/compiler/xla/stream_executor/cuda/cuda_diagnostics.cc:156] kernel driver does not appear to be running on this host (mattiapggioli-ThinkPad-E595): /proc/driver/nvidia/version does not exist\n",
      "2023-03-21 16:14:53.319484: I tensorflow/core/platform/cpu_feature_guard.cc:193] This TensorFlow binary is optimized with oneAPI Deep Neural Network Library (oneDNN) to use the following CPU instructions in performance-critical operations:  AVX2 FMA\n",
      "To enable them in other operations, rebuild TensorFlow with the appropriate compiler flags.\n"
     ]
    },
    {
     "name": "stdout",
     "output_type": "stream",
     "text": [
      "CPU times: user 2h 45min 53s, sys: 9min 40s, total: 2h 55min 33s\n",
      "Wall time: 30min 11s\n"
     ]
    },
    {
     "data": {
      "text/html": [
       "<style>#sk-container-id-4 {color: black;background-color: white;}#sk-container-id-4 pre{padding: 0;}#sk-container-id-4 div.sk-toggleable {background-color: white;}#sk-container-id-4 label.sk-toggleable__label {cursor: pointer;display: block;width: 100%;margin-bottom: 0;padding: 0.3em;box-sizing: border-box;text-align: center;}#sk-container-id-4 label.sk-toggleable__label-arrow:before {content: \"▸\";float: left;margin-right: 0.25em;color: #696969;}#sk-container-id-4 label.sk-toggleable__label-arrow:hover:before {color: black;}#sk-container-id-4 div.sk-estimator:hover label.sk-toggleable__label-arrow:before {color: black;}#sk-container-id-4 div.sk-toggleable__content {max-height: 0;max-width: 0;overflow: hidden;text-align: left;background-color: #f0f8ff;}#sk-container-id-4 div.sk-toggleable__content pre {margin: 0.2em;color: black;border-radius: 0.25em;background-color: #f0f8ff;}#sk-container-id-4 input.sk-toggleable__control:checked~div.sk-toggleable__content {max-height: 200px;max-width: 100%;overflow: auto;}#sk-container-id-4 input.sk-toggleable__control:checked~label.sk-toggleable__label-arrow:before {content: \"▾\";}#sk-container-id-4 div.sk-estimator input.sk-toggleable__control:checked~label.sk-toggleable__label {background-color: #d4ebff;}#sk-container-id-4 div.sk-label input.sk-toggleable__control:checked~label.sk-toggleable__label {background-color: #d4ebff;}#sk-container-id-4 input.sk-hidden--visually {border: 0;clip: rect(1px 1px 1px 1px);clip: rect(1px, 1px, 1px, 1px);height: 1px;margin: -1px;overflow: hidden;padding: 0;position: absolute;width: 1px;}#sk-container-id-4 div.sk-estimator {font-family: monospace;background-color: #f0f8ff;border: 1px dotted black;border-radius: 0.25em;box-sizing: border-box;margin-bottom: 0.5em;}#sk-container-id-4 div.sk-estimator:hover {background-color: #d4ebff;}#sk-container-id-4 div.sk-parallel-item::after {content: \"\";width: 100%;border-bottom: 1px solid gray;flex-grow: 1;}#sk-container-id-4 div.sk-label:hover label.sk-toggleable__label {background-color: #d4ebff;}#sk-container-id-4 div.sk-serial::before {content: \"\";position: absolute;border-left: 1px solid gray;box-sizing: border-box;top: 0;bottom: 0;left: 50%;z-index: 0;}#sk-container-id-4 div.sk-serial {display: flex;flex-direction: column;align-items: center;background-color: white;padding-right: 0.2em;padding-left: 0.2em;position: relative;}#sk-container-id-4 div.sk-item {position: relative;z-index: 1;}#sk-container-id-4 div.sk-parallel {display: flex;align-items: stretch;justify-content: center;background-color: white;position: relative;}#sk-container-id-4 div.sk-item::before, #sk-container-id-4 div.sk-parallel-item::before {content: \"\";position: absolute;border-left: 1px solid gray;box-sizing: border-box;top: 0;bottom: 0;left: 50%;z-index: -1;}#sk-container-id-4 div.sk-parallel-item {display: flex;flex-direction: column;z-index: 1;position: relative;background-color: white;}#sk-container-id-4 div.sk-parallel-item:first-child::after {align-self: flex-end;width: 50%;}#sk-container-id-4 div.sk-parallel-item:last-child::after {align-self: flex-start;width: 50%;}#sk-container-id-4 div.sk-parallel-item:only-child::after {width: 0;}#sk-container-id-4 div.sk-dashed-wrapped {border: 1px dashed gray;margin: 0 0.4em 0.5em 0.4em;box-sizing: border-box;padding-bottom: 0.4em;background-color: white;}#sk-container-id-4 div.sk-label label {font-family: monospace;font-weight: bold;display: inline-block;line-height: 1.2em;}#sk-container-id-4 div.sk-label-container {text-align: center;}#sk-container-id-4 div.sk-container {/* jupyter's `normalize.less` sets `[hidden] { display: none; }` but bootstrap.min.css set `[hidden] { display: none !important; }` so we also need the `!important` here to be able to override the default hidden behavior on the sphinx rendered scikit-learn.org. See: https://github.com/scikit-learn/scikit-learn/issues/21755 */display: inline-block !important;position: relative;}#sk-container-id-4 div.sk-text-repr-fallback {display: none;}</style><div id=\"sk-container-id-4\" class=\"sk-top-container\"><div class=\"sk-text-repr-fallback\"><pre>LearningShapelets(max_iter=2000, n_shapelets_per_size={5: 6, 10: 6, 20: 6},\n",
       "                  optimizer=&#x27;adam&#x27;, random_state=42, weight_regularizer=0.01)</pre><b>In a Jupyter environment, please rerun this cell to show the HTML representation or trust the notebook. <br />On GitHub, the HTML representation is unable to render, please try loading this page with nbviewer.org.</b></div><div class=\"sk-container\" hidden><div class=\"sk-item\"><div class=\"sk-estimator sk-toggleable\"><input class=\"sk-toggleable__control sk-hidden--visually\" id=\"sk-estimator-id-4\" type=\"checkbox\" checked><label for=\"sk-estimator-id-4\" class=\"sk-toggleable__label sk-toggleable__label-arrow\">LearningShapelets</label><div class=\"sk-toggleable__content\"><pre>LearningShapelets(max_iter=2000, n_shapelets_per_size={5: 6, 10: 6, 20: 6},\n",
       "                  optimizer=&#x27;adam&#x27;, random_state=42, weight_regularizer=0.01)</pre></div></div></div></div></div>"
      ],
      "text/plain": [
       "LearningShapelets(max_iter=2000, n_shapelets_per_size={5: 6, 10: 6, 20: 6},\n",
       "                  optimizer='adam', random_state=42, weight_regularizer=0.01)"
      ]
     },
     "execution_count": 40,
     "metadata": {},
     "output_type": "execute_result"
    }
   ],
   "source": [
    "%%time\n",
    "model.fit(ts_train, y_train)"
   ]
  },
  {
   "cell_type": "code",
   "execution_count": 41,
   "id": "51706baa",
   "metadata": {
    "execution": {
     "iopub.execute_input": "2023-03-21T15:45:04.442617Z",
     "iopub.status.busy": "2023-03-21T15:45:04.441971Z",
     "iopub.status.idle": "2023-03-21T15:45:04.476700Z",
     "shell.execute_reply": "2023-03-21T15:45:04.475247Z"
    },
    "papermill": {
     "duration": 0.05326,
     "end_time": "2023-03-21T15:45:04.479456",
     "exception": false,
     "start_time": "2023-03-21T15:45:04.426196",
     "status": "completed"
    },
    "tags": []
   },
   "outputs": [],
   "source": [
    "model.to_pickle(f'{data_path}/shapelets.pkl')"
   ]
  },
  {
   "cell_type": "markdown",
   "id": "309f70dc",
   "metadata": {
    "papermill": {
     "duration": 0.018119,
     "end_time": "2023-03-21T15:45:04.524192",
     "exception": false,
     "start_time": "2023-03-21T15:45:04.506073",
     "status": "completed"
    },
    "tags": []
   },
   "source": [
    "#### Shapelet-Based Classification"
   ]
  },
  {
   "cell_type": "code",
   "execution_count": 42,
   "id": "60125dff",
   "metadata": {
    "execution": {
     "iopub.execute_input": "2023-03-21T15:45:04.552830Z",
     "iopub.status.busy": "2023-03-21T15:45:04.552009Z",
     "iopub.status.idle": "2023-03-21T15:45:04.557418Z",
     "shell.execute_reply": "2023-03-21T15:45:04.556288Z"
    },
    "papermill": {
     "duration": 0.022058,
     "end_time": "2023-03-21T15:45:04.559218",
     "exception": false,
     "start_time": "2023-03-21T15:45:04.537160",
     "status": "completed"
    },
    "tags": []
   },
   "outputs": [],
   "source": [
    "metrics_data['Shapelets'] = {}"
   ]
  },
  {
   "cell_type": "code",
   "execution_count": 43,
   "id": "efb8984d",
   "metadata": {
    "execution": {
     "iopub.execute_input": "2023-03-21T15:45:04.588524Z",
     "iopub.status.busy": "2023-03-21T15:45:04.587863Z",
     "iopub.status.idle": "2023-03-21T15:45:06.428177Z",
     "shell.execute_reply": "2023-03-21T15:45:06.427422Z"
    },
    "papermill": {
     "duration": 1.857864,
     "end_time": "2023-03-21T15:45:06.430647",
     "exception": false,
     "start_time": "2023-03-21T15:45:04.572783",
     "status": "completed"
    },
    "tags": []
   },
   "outputs": [],
   "source": [
    "X_train = model.transform(ts_train)\n",
    "X_test = model.transform(ts_test)"
   ]
  },
  {
   "cell_type": "code",
   "execution_count": 44,
   "id": "2e6c0f22",
   "metadata": {
    "execution": {
     "iopub.execute_input": "2023-03-21T15:45:06.462168Z",
     "iopub.status.busy": "2023-03-21T15:45:06.461863Z",
     "iopub.status.idle": "2023-03-21T15:45:06.483829Z",
     "shell.execute_reply": "2023-03-21T15:45:06.482958Z"
    },
    "papermill": {
     "duration": 0.039274,
     "end_time": "2023-03-21T15:45:06.486106",
     "exception": false,
     "start_time": "2023-03-21T15:45:06.446832",
     "status": "completed"
    },
    "tags": []
   },
   "outputs": [
    {
     "data": {
      "text/html": [
       "<div>\n",
       "<style scoped>\n",
       "    .dataframe tbody tr th:only-of-type {\n",
       "        vertical-align: middle;\n",
       "    }\n",
       "\n",
       "    .dataframe tbody tr th {\n",
       "        vertical-align: top;\n",
       "    }\n",
       "\n",
       "    .dataframe thead th {\n",
       "        text-align: right;\n",
       "    }\n",
       "</style>\n",
       "<table border=\"1\" class=\"dataframe\">\n",
       "  <thead>\n",
       "    <tr style=\"text-align: right;\">\n",
       "      <th></th>\n",
       "      <th>0</th>\n",
       "      <th>1</th>\n",
       "      <th>2</th>\n",
       "      <th>3</th>\n",
       "      <th>4</th>\n",
       "      <th>5</th>\n",
       "      <th>6</th>\n",
       "      <th>7</th>\n",
       "      <th>8</th>\n",
       "      <th>9</th>\n",
       "      <th>10</th>\n",
       "      <th>11</th>\n",
       "      <th>12</th>\n",
       "      <th>13</th>\n",
       "      <th>14</th>\n",
       "      <th>15</th>\n",
       "      <th>16</th>\n",
       "      <th>17</th>\n",
       "    </tr>\n",
       "  </thead>\n",
       "  <tbody>\n",
       "    <tr>\n",
       "      <th>0</th>\n",
       "      <td>0.816281</td>\n",
       "      <td>1.825740</td>\n",
       "      <td>0.285837</td>\n",
       "      <td>0.506747</td>\n",
       "      <td>0.428081</td>\n",
       "      <td>0.613704</td>\n",
       "      <td>1.592403</td>\n",
       "      <td>2.557333</td>\n",
       "      <td>2.755096</td>\n",
       "      <td>0.336429</td>\n",
       "      <td>5.867827</td>\n",
       "      <td>0.671318</td>\n",
       "      <td>0.251488</td>\n",
       "      <td>0.433443</td>\n",
       "      <td>1.139044</td>\n",
       "      <td>3.958778</td>\n",
       "      <td>1.389122</td>\n",
       "      <td>2.779538</td>\n",
       "    </tr>\n",
       "    <tr>\n",
       "      <th>1</th>\n",
       "      <td>1.108468</td>\n",
       "      <td>3.240296</td>\n",
       "      <td>0.794006</td>\n",
       "      <td>1.272389</td>\n",
       "      <td>0.549773</td>\n",
       "      <td>2.378558</td>\n",
       "      <td>5.378925</td>\n",
       "      <td>3.436897</td>\n",
       "      <td>2.728843</td>\n",
       "      <td>1.282012</td>\n",
       "      <td>3.095311</td>\n",
       "      <td>0.919293</td>\n",
       "      <td>0.550553</td>\n",
       "      <td>1.437707</td>\n",
       "      <td>0.916364</td>\n",
       "      <td>4.471791</td>\n",
       "      <td>4.993155</td>\n",
       "      <td>1.976047</td>\n",
       "    </tr>\n",
       "    <tr>\n",
       "      <th>2</th>\n",
       "      <td>0.520383</td>\n",
       "      <td>1.969156</td>\n",
       "      <td>0.645315</td>\n",
       "      <td>1.015275</td>\n",
       "      <td>0.598646</td>\n",
       "      <td>0.707088</td>\n",
       "      <td>2.381804</td>\n",
       "      <td>2.547586</td>\n",
       "      <td>2.416992</td>\n",
       "      <td>0.273321</td>\n",
       "      <td>8.474159</td>\n",
       "      <td>1.250215</td>\n",
       "      <td>0.423619</td>\n",
       "      <td>0.482937</td>\n",
       "      <td>1.424860</td>\n",
       "      <td>3.569873</td>\n",
       "      <td>1.550921</td>\n",
       "      <td>3.297583</td>\n",
       "    </tr>\n",
       "    <tr>\n",
       "      <th>3</th>\n",
       "      <td>1.142438</td>\n",
       "      <td>0.451553</td>\n",
       "      <td>0.650021</td>\n",
       "      <td>0.592918</td>\n",
       "      <td>0.827261</td>\n",
       "      <td>0.215931</td>\n",
       "      <td>1.940476</td>\n",
       "      <td>3.034936</td>\n",
       "      <td>2.208284</td>\n",
       "      <td>0.835250</td>\n",
       "      <td>7.400038</td>\n",
       "      <td>1.344618</td>\n",
       "      <td>1.613564</td>\n",
       "      <td>1.073776</td>\n",
       "      <td>2.870662</td>\n",
       "      <td>4.485094</td>\n",
       "      <td>0.965560</td>\n",
       "      <td>4.232452</td>\n",
       "    </tr>\n",
       "    <tr>\n",
       "      <th>4</th>\n",
       "      <td>2.648323</td>\n",
       "      <td>1.673072</td>\n",
       "      <td>1.515534</td>\n",
       "      <td>2.556311</td>\n",
       "      <td>1.272316</td>\n",
       "      <td>0.246281</td>\n",
       "      <td>1.341431</td>\n",
       "      <td>3.365569</td>\n",
       "      <td>4.366509</td>\n",
       "      <td>0.541449</td>\n",
       "      <td>7.173190</td>\n",
       "      <td>2.175792</td>\n",
       "      <td>1.167078</td>\n",
       "      <td>0.819647</td>\n",
       "      <td>2.466924</td>\n",
       "      <td>4.335388</td>\n",
       "      <td>1.075485</td>\n",
       "      <td>4.129354</td>\n",
       "    </tr>\n",
       "    <tr>\n",
       "      <th>...</th>\n",
       "      <td>...</td>\n",
       "      <td>...</td>\n",
       "      <td>...</td>\n",
       "      <td>...</td>\n",
       "      <td>...</td>\n",
       "      <td>...</td>\n",
       "      <td>...</td>\n",
       "      <td>...</td>\n",
       "      <td>...</td>\n",
       "      <td>...</td>\n",
       "      <td>...</td>\n",
       "      <td>...</td>\n",
       "      <td>...</td>\n",
       "      <td>...</td>\n",
       "      <td>...</td>\n",
       "      <td>...</td>\n",
       "      <td>...</td>\n",
       "      <td>...</td>\n",
       "    </tr>\n",
       "    <tr>\n",
       "      <th>4995</th>\n",
       "      <td>1.247901</td>\n",
       "      <td>1.328072</td>\n",
       "      <td>2.623603</td>\n",
       "      <td>4.468957</td>\n",
       "      <td>0.650108</td>\n",
       "      <td>0.153199</td>\n",
       "      <td>1.647005</td>\n",
       "      <td>3.401231</td>\n",
       "      <td>4.467443</td>\n",
       "      <td>1.065674</td>\n",
       "      <td>7.413982</td>\n",
       "      <td>2.474093</td>\n",
       "      <td>2.413510</td>\n",
       "      <td>1.710555</td>\n",
       "      <td>3.877277</td>\n",
       "      <td>4.845320</td>\n",
       "      <td>0.827743</td>\n",
       "      <td>6.373448</td>\n",
       "    </tr>\n",
       "    <tr>\n",
       "      <th>4996</th>\n",
       "      <td>1.003151</td>\n",
       "      <td>1.146701</td>\n",
       "      <td>1.546758</td>\n",
       "      <td>4.685477</td>\n",
       "      <td>0.516512</td>\n",
       "      <td>0.235078</td>\n",
       "      <td>1.463787</td>\n",
       "      <td>4.362081</td>\n",
       "      <td>2.916660</td>\n",
       "      <td>1.033623</td>\n",
       "      <td>9.388709</td>\n",
       "      <td>2.538280</td>\n",
       "      <td>1.917085</td>\n",
       "      <td>1.240098</td>\n",
       "      <td>3.586149</td>\n",
       "      <td>4.391778</td>\n",
       "      <td>0.646753</td>\n",
       "      <td>5.658714</td>\n",
       "    </tr>\n",
       "    <tr>\n",
       "      <th>4997</th>\n",
       "      <td>0.762808</td>\n",
       "      <td>1.378262</td>\n",
       "      <td>0.811816</td>\n",
       "      <td>1.403179</td>\n",
       "      <td>0.883671</td>\n",
       "      <td>0.225506</td>\n",
       "      <td>1.331607</td>\n",
       "      <td>3.304212</td>\n",
       "      <td>1.909106</td>\n",
       "      <td>0.492664</td>\n",
       "      <td>9.189206</td>\n",
       "      <td>1.993465</td>\n",
       "      <td>1.700159</td>\n",
       "      <td>1.200249</td>\n",
       "      <td>2.915548</td>\n",
       "      <td>4.041157</td>\n",
       "      <td>0.825502</td>\n",
       "      <td>4.367147</td>\n",
       "    </tr>\n",
       "    <tr>\n",
       "      <th>4998</th>\n",
       "      <td>0.276631</td>\n",
       "      <td>1.582774</td>\n",
       "      <td>0.317953</td>\n",
       "      <td>1.684817</td>\n",
       "      <td>0.601160</td>\n",
       "      <td>0.316590</td>\n",
       "      <td>2.421263</td>\n",
       "      <td>5.610424</td>\n",
       "      <td>2.185794</td>\n",
       "      <td>0.307997</td>\n",
       "      <td>6.878212</td>\n",
       "      <td>0.457928</td>\n",
       "      <td>0.278362</td>\n",
       "      <td>0.587096</td>\n",
       "      <td>1.032154</td>\n",
       "      <td>2.805876</td>\n",
       "      <td>2.513398</td>\n",
       "      <td>2.002521</td>\n",
       "    </tr>\n",
       "    <tr>\n",
       "      <th>4999</th>\n",
       "      <td>1.361701</td>\n",
       "      <td>1.169406</td>\n",
       "      <td>1.221330</td>\n",
       "      <td>1.338084</td>\n",
       "      <td>1.111081</td>\n",
       "      <td>0.185014</td>\n",
       "      <td>1.265623</td>\n",
       "      <td>2.795780</td>\n",
       "      <td>3.326870</td>\n",
       "      <td>0.651511</td>\n",
       "      <td>9.009524</td>\n",
       "      <td>2.649134</td>\n",
       "      <td>1.666850</td>\n",
       "      <td>1.352524</td>\n",
       "      <td>2.939512</td>\n",
       "      <td>4.155757</td>\n",
       "      <td>0.840896</td>\n",
       "      <td>4.951498</td>\n",
       "    </tr>\n",
       "  </tbody>\n",
       "</table>\n",
       "<p>5000 rows × 18 columns</p>\n",
       "</div>"
      ],
      "text/plain": [
       "            0         1         2         3         4         5         6   \\\n",
       "0     0.816281  1.825740  0.285837  0.506747  0.428081  0.613704  1.592403   \n",
       "1     1.108468  3.240296  0.794006  1.272389  0.549773  2.378558  5.378925   \n",
       "2     0.520383  1.969156  0.645315  1.015275  0.598646  0.707088  2.381804   \n",
       "3     1.142438  0.451553  0.650021  0.592918  0.827261  0.215931  1.940476   \n",
       "4     2.648323  1.673072  1.515534  2.556311  1.272316  0.246281  1.341431   \n",
       "...        ...       ...       ...       ...       ...       ...       ...   \n",
       "4995  1.247901  1.328072  2.623603  4.468957  0.650108  0.153199  1.647005   \n",
       "4996  1.003151  1.146701  1.546758  4.685477  0.516512  0.235078  1.463787   \n",
       "4997  0.762808  1.378262  0.811816  1.403179  0.883671  0.225506  1.331607   \n",
       "4998  0.276631  1.582774  0.317953  1.684817  0.601160  0.316590  2.421263   \n",
       "4999  1.361701  1.169406  1.221330  1.338084  1.111081  0.185014  1.265623   \n",
       "\n",
       "            7         8         9         10        11        12        13  \\\n",
       "0     2.557333  2.755096  0.336429  5.867827  0.671318  0.251488  0.433443   \n",
       "1     3.436897  2.728843  1.282012  3.095311  0.919293  0.550553  1.437707   \n",
       "2     2.547586  2.416992  0.273321  8.474159  1.250215  0.423619  0.482937   \n",
       "3     3.034936  2.208284  0.835250  7.400038  1.344618  1.613564  1.073776   \n",
       "4     3.365569  4.366509  0.541449  7.173190  2.175792  1.167078  0.819647   \n",
       "...        ...       ...       ...       ...       ...       ...       ...   \n",
       "4995  3.401231  4.467443  1.065674  7.413982  2.474093  2.413510  1.710555   \n",
       "4996  4.362081  2.916660  1.033623  9.388709  2.538280  1.917085  1.240098   \n",
       "4997  3.304212  1.909106  0.492664  9.189206  1.993465  1.700159  1.200249   \n",
       "4998  5.610424  2.185794  0.307997  6.878212  0.457928  0.278362  0.587096   \n",
       "4999  2.795780  3.326870  0.651511  9.009524  2.649134  1.666850  1.352524   \n",
       "\n",
       "            14        15        16        17  \n",
       "0     1.139044  3.958778  1.389122  2.779538  \n",
       "1     0.916364  4.471791  4.993155  1.976047  \n",
       "2     1.424860  3.569873  1.550921  3.297583  \n",
       "3     2.870662  4.485094  0.965560  4.232452  \n",
       "4     2.466924  4.335388  1.075485  4.129354  \n",
       "...        ...       ...       ...       ...  \n",
       "4995  3.877277  4.845320  0.827743  6.373448  \n",
       "4996  3.586149  4.391778  0.646753  5.658714  \n",
       "4997  2.915548  4.041157  0.825502  4.367147  \n",
       "4998  1.032154  2.805876  2.513398  2.002521  \n",
       "4999  2.939512  4.155757  0.840896  4.951498  \n",
       "\n",
       "[5000 rows x 18 columns]"
      ]
     },
     "execution_count": 44,
     "metadata": {},
     "output_type": "execute_result"
    }
   ],
   "source": [
    "pd.DataFrame(X_test)"
   ]
  },
  {
   "cell_type": "markdown",
   "id": "5fa024f7",
   "metadata": {
    "execution": {
     "iopub.execute_input": "2023-02-07T23:47:19.876941Z",
     "iopub.status.busy": "2023-02-07T23:47:19.876424Z",
     "iopub.status.idle": "2023-02-07T23:47:20.399488Z",
     "shell.execute_reply": "2023-02-07T23:47:20.398142Z"
    },
    "papermill": {
     "duration": 0.016871,
     "end_time": "2023-03-21T15:45:06.520062",
     "exception": false,
     "start_time": "2023-03-21T15:45:06.503191",
     "status": "completed"
    },
    "tags": []
   },
   "source": [
    "**Decision Tree**"
   ]
  },
  {
   "cell_type": "code",
   "execution_count": 45,
   "id": "4f5400c9",
   "metadata": {
    "execution": {
     "iopub.execute_input": "2023-03-21T15:45:06.551178Z",
     "iopub.status.busy": "2023-03-21T15:45:06.550827Z",
     "iopub.status.idle": "2023-03-21T15:45:07.281084Z",
     "shell.execute_reply": "2023-03-21T15:45:07.280083Z"
    },
    "papermill": {
     "duration": 0.749324,
     "end_time": "2023-03-21T15:45:07.284071",
     "exception": false,
     "start_time": "2023-03-21T15:45:06.534747",
     "status": "completed"
    },
    "tags": []
   },
   "outputs": [
    {
     "data": {
      "text/html": [
       "<style>#sk-container-id-5 {color: black;background-color: white;}#sk-container-id-5 pre{padding: 0;}#sk-container-id-5 div.sk-toggleable {background-color: white;}#sk-container-id-5 label.sk-toggleable__label {cursor: pointer;display: block;width: 100%;margin-bottom: 0;padding: 0.3em;box-sizing: border-box;text-align: center;}#sk-container-id-5 label.sk-toggleable__label-arrow:before {content: \"▸\";float: left;margin-right: 0.25em;color: #696969;}#sk-container-id-5 label.sk-toggleable__label-arrow:hover:before {color: black;}#sk-container-id-5 div.sk-estimator:hover label.sk-toggleable__label-arrow:before {color: black;}#sk-container-id-5 div.sk-toggleable__content {max-height: 0;max-width: 0;overflow: hidden;text-align: left;background-color: #f0f8ff;}#sk-container-id-5 div.sk-toggleable__content pre {margin: 0.2em;color: black;border-radius: 0.25em;background-color: #f0f8ff;}#sk-container-id-5 input.sk-toggleable__control:checked~div.sk-toggleable__content {max-height: 200px;max-width: 100%;overflow: auto;}#sk-container-id-5 input.sk-toggleable__control:checked~label.sk-toggleable__label-arrow:before {content: \"▾\";}#sk-container-id-5 div.sk-estimator input.sk-toggleable__control:checked~label.sk-toggleable__label {background-color: #d4ebff;}#sk-container-id-5 div.sk-label input.sk-toggleable__control:checked~label.sk-toggleable__label {background-color: #d4ebff;}#sk-container-id-5 input.sk-hidden--visually {border: 0;clip: rect(1px 1px 1px 1px);clip: rect(1px, 1px, 1px, 1px);height: 1px;margin: -1px;overflow: hidden;padding: 0;position: absolute;width: 1px;}#sk-container-id-5 div.sk-estimator {font-family: monospace;background-color: #f0f8ff;border: 1px dotted black;border-radius: 0.25em;box-sizing: border-box;margin-bottom: 0.5em;}#sk-container-id-5 div.sk-estimator:hover {background-color: #d4ebff;}#sk-container-id-5 div.sk-parallel-item::after {content: \"\";width: 100%;border-bottom: 1px solid gray;flex-grow: 1;}#sk-container-id-5 div.sk-label:hover label.sk-toggleable__label {background-color: #d4ebff;}#sk-container-id-5 div.sk-serial::before {content: \"\";position: absolute;border-left: 1px solid gray;box-sizing: border-box;top: 0;bottom: 0;left: 50%;z-index: 0;}#sk-container-id-5 div.sk-serial {display: flex;flex-direction: column;align-items: center;background-color: white;padding-right: 0.2em;padding-left: 0.2em;position: relative;}#sk-container-id-5 div.sk-item {position: relative;z-index: 1;}#sk-container-id-5 div.sk-parallel {display: flex;align-items: stretch;justify-content: center;background-color: white;position: relative;}#sk-container-id-5 div.sk-item::before, #sk-container-id-5 div.sk-parallel-item::before {content: \"\";position: absolute;border-left: 1px solid gray;box-sizing: border-box;top: 0;bottom: 0;left: 50%;z-index: -1;}#sk-container-id-5 div.sk-parallel-item {display: flex;flex-direction: column;z-index: 1;position: relative;background-color: white;}#sk-container-id-5 div.sk-parallel-item:first-child::after {align-self: flex-end;width: 50%;}#sk-container-id-5 div.sk-parallel-item:last-child::after {align-self: flex-start;width: 50%;}#sk-container-id-5 div.sk-parallel-item:only-child::after {width: 0;}#sk-container-id-5 div.sk-dashed-wrapped {border: 1px dashed gray;margin: 0 0.4em 0.5em 0.4em;box-sizing: border-box;padding-bottom: 0.4em;background-color: white;}#sk-container-id-5 div.sk-label label {font-family: monospace;font-weight: bold;display: inline-block;line-height: 1.2em;}#sk-container-id-5 div.sk-label-container {text-align: center;}#sk-container-id-5 div.sk-container {/* jupyter's `normalize.less` sets `[hidden] { display: none; }` but bootstrap.min.css set `[hidden] { display: none !important; }` so we also need the `!important` here to be able to override the default hidden behavior on the sphinx rendered scikit-learn.org. See: https://github.com/scikit-learn/scikit-learn/issues/21755 */display: inline-block !important;position: relative;}#sk-container-id-5 div.sk-text-repr-fallback {display: none;}</style><div id=\"sk-container-id-5\" class=\"sk-top-container\"><div class=\"sk-text-repr-fallback\"><pre>DecisionTreeClassifier(random_state=42)</pre><b>In a Jupyter environment, please rerun this cell to show the HTML representation or trust the notebook. <br />On GitHub, the HTML representation is unable to render, please try loading this page with nbviewer.org.</b></div><div class=\"sk-container\" hidden><div class=\"sk-item\"><div class=\"sk-estimator sk-toggleable\"><input class=\"sk-toggleable__control sk-hidden--visually\" id=\"sk-estimator-id-5\" type=\"checkbox\" checked><label for=\"sk-estimator-id-5\" class=\"sk-toggleable__label sk-toggleable__label-arrow\">DecisionTreeClassifier</label><div class=\"sk-toggleable__content\"><pre>DecisionTreeClassifier(random_state=42)</pre></div></div></div></div></div>"
      ],
      "text/plain": [
       "DecisionTreeClassifier(random_state=42)"
      ]
     },
     "execution_count": 45,
     "metadata": {},
     "output_type": "execute_result"
    }
   ],
   "source": [
    "clf = DecisionTreeClassifier(random_state=42)\n",
    "clf.fit(X_train, y_train)"
   ]
  },
  {
   "cell_type": "code",
   "execution_count": 46,
   "id": "3b56d190",
   "metadata": {
    "execution": {
     "iopub.execute_input": "2023-03-21T15:45:07.359347Z",
     "iopub.status.busy": "2023-03-21T15:45:07.358889Z",
     "iopub.status.idle": "2023-03-21T15:45:07.473174Z",
     "shell.execute_reply": "2023-03-21T15:45:07.472028Z"
    },
    "papermill": {
     "duration": 0.153388,
     "end_time": "2023-03-21T15:45:07.475211",
     "exception": false,
     "start_time": "2023-03-21T15:45:07.321823",
     "status": "completed"
    },
    "tags": []
   },
   "outputs": [
    {
     "name": "stdout",
     "output_type": "stream",
     "text": [
      "              precision    recall  f1-score   support\n",
      "\n",
      "   hard-rock       0.22      0.21      0.22      1000\n",
      " heavy-metal       0.23      0.22      0.22      1000\n",
      "       indie       0.21      0.23      0.22      1000\n",
      "    pop-rock       0.21      0.20      0.20      1000\n",
      "   punk-rock       0.22      0.22      0.22      1000\n",
      "\n",
      "    accuracy                           0.22      5000\n",
      "   macro avg       0.22      0.22      0.22      5000\n",
      "weighted avg       0.22      0.22      0.22      5000\n",
      "\n"
     ]
    }
   ],
   "source": [
    "y_pred = clf.predict(X_test)\n",
    "print(classification_report(y_test, y_pred))"
   ]
  },
  {
   "cell_type": "code",
   "execution_count": 47,
   "id": "42bc91ff",
   "metadata": {
    "execution": {
     "iopub.execute_input": "2023-03-21T15:45:07.506476Z",
     "iopub.status.busy": "2023-03-21T15:45:07.505988Z",
     "iopub.status.idle": "2023-03-21T15:45:07.513896Z",
     "shell.execute_reply": "2023-03-21T15:45:07.513169Z"
    },
    "papermill": {
     "duration": 0.02452,
     "end_time": "2023-03-21T15:45:07.515764",
     "exception": false,
     "start_time": "2023-03-21T15:45:07.491244",
     "status": "completed"
    },
    "tags": []
   },
   "outputs": [],
   "source": [
    "pickle.dump(clf, open(f'{data_path}/decision_tree.pkl', 'wb'))"
   ]
  },
  {
   "cell_type": "code",
   "execution_count": 48,
   "id": "ea9be210",
   "metadata": {
    "execution": {
     "iopub.execute_input": "2023-03-21T15:45:07.544761Z",
     "iopub.status.busy": "2023-03-21T15:45:07.544284Z",
     "iopub.status.idle": "2023-03-21T15:45:07.660650Z",
     "shell.execute_reply": "2023-03-21T15:45:07.659688Z"
    },
    "papermill": {
     "duration": 0.133838,
     "end_time": "2023-03-21T15:45:07.663317",
     "exception": false,
     "start_time": "2023-03-21T15:45:07.529479",
     "status": "completed"
    },
    "tags": []
   },
   "outputs": [],
   "source": [
    "acc = accuracy_score(y_test, y_pred)\n",
    "pre = precision_score(y_test, y_pred, average=avg_par)\n",
    "rec = recall_score(y_test, y_pred, average=avg_par)\n",
    "f1 = f1_score(y_test, y_pred, average=avg_par)\n",
    "\n",
    "metrics_data['Shapelets']['DecisionTree'] = {'Accuracy': acc, 'Precision': pre, 'Recall': rec, 'F1': f1}"
   ]
  },
  {
   "cell_type": "markdown",
   "id": "3ca3443b",
   "metadata": {
    "papermill": {
     "duration": 0.033614,
     "end_time": "2023-03-21T15:45:07.734822",
     "exception": false,
     "start_time": "2023-03-21T15:45:07.701208",
     "status": "completed"
    },
    "tags": []
   },
   "source": [
    "**Random Forest**"
   ]
  },
  {
   "cell_type": "code",
   "execution_count": 49,
   "id": "37795e21",
   "metadata": {
    "execution": {
     "iopub.execute_input": "2023-03-21T15:45:07.766350Z",
     "iopub.status.busy": "2023-03-21T15:45:07.765866Z",
     "iopub.status.idle": "2023-03-21T15:45:17.653619Z",
     "shell.execute_reply": "2023-03-21T15:45:17.652691Z"
    },
    "papermill": {
     "duration": 9.905398,
     "end_time": "2023-03-21T15:45:17.656465",
     "exception": false,
     "start_time": "2023-03-21T15:45:07.751067",
     "status": "completed"
    },
    "tags": []
   },
   "outputs": [
    {
     "data": {
      "text/html": [
       "<style>#sk-container-id-6 {color: black;background-color: white;}#sk-container-id-6 pre{padding: 0;}#sk-container-id-6 div.sk-toggleable {background-color: white;}#sk-container-id-6 label.sk-toggleable__label {cursor: pointer;display: block;width: 100%;margin-bottom: 0;padding: 0.3em;box-sizing: border-box;text-align: center;}#sk-container-id-6 label.sk-toggleable__label-arrow:before {content: \"▸\";float: left;margin-right: 0.25em;color: #696969;}#sk-container-id-6 label.sk-toggleable__label-arrow:hover:before {color: black;}#sk-container-id-6 div.sk-estimator:hover label.sk-toggleable__label-arrow:before {color: black;}#sk-container-id-6 div.sk-toggleable__content {max-height: 0;max-width: 0;overflow: hidden;text-align: left;background-color: #f0f8ff;}#sk-container-id-6 div.sk-toggleable__content pre {margin: 0.2em;color: black;border-radius: 0.25em;background-color: #f0f8ff;}#sk-container-id-6 input.sk-toggleable__control:checked~div.sk-toggleable__content {max-height: 200px;max-width: 100%;overflow: auto;}#sk-container-id-6 input.sk-toggleable__control:checked~label.sk-toggleable__label-arrow:before {content: \"▾\";}#sk-container-id-6 div.sk-estimator input.sk-toggleable__control:checked~label.sk-toggleable__label {background-color: #d4ebff;}#sk-container-id-6 div.sk-label input.sk-toggleable__control:checked~label.sk-toggleable__label {background-color: #d4ebff;}#sk-container-id-6 input.sk-hidden--visually {border: 0;clip: rect(1px 1px 1px 1px);clip: rect(1px, 1px, 1px, 1px);height: 1px;margin: -1px;overflow: hidden;padding: 0;position: absolute;width: 1px;}#sk-container-id-6 div.sk-estimator {font-family: monospace;background-color: #f0f8ff;border: 1px dotted black;border-radius: 0.25em;box-sizing: border-box;margin-bottom: 0.5em;}#sk-container-id-6 div.sk-estimator:hover {background-color: #d4ebff;}#sk-container-id-6 div.sk-parallel-item::after {content: \"\";width: 100%;border-bottom: 1px solid gray;flex-grow: 1;}#sk-container-id-6 div.sk-label:hover label.sk-toggleable__label {background-color: #d4ebff;}#sk-container-id-6 div.sk-serial::before {content: \"\";position: absolute;border-left: 1px solid gray;box-sizing: border-box;top: 0;bottom: 0;left: 50%;z-index: 0;}#sk-container-id-6 div.sk-serial {display: flex;flex-direction: column;align-items: center;background-color: white;padding-right: 0.2em;padding-left: 0.2em;position: relative;}#sk-container-id-6 div.sk-item {position: relative;z-index: 1;}#sk-container-id-6 div.sk-parallel {display: flex;align-items: stretch;justify-content: center;background-color: white;position: relative;}#sk-container-id-6 div.sk-item::before, #sk-container-id-6 div.sk-parallel-item::before {content: \"\";position: absolute;border-left: 1px solid gray;box-sizing: border-box;top: 0;bottom: 0;left: 50%;z-index: -1;}#sk-container-id-6 div.sk-parallel-item {display: flex;flex-direction: column;z-index: 1;position: relative;background-color: white;}#sk-container-id-6 div.sk-parallel-item:first-child::after {align-self: flex-end;width: 50%;}#sk-container-id-6 div.sk-parallel-item:last-child::after {align-self: flex-start;width: 50%;}#sk-container-id-6 div.sk-parallel-item:only-child::after {width: 0;}#sk-container-id-6 div.sk-dashed-wrapped {border: 1px dashed gray;margin: 0 0.4em 0.5em 0.4em;box-sizing: border-box;padding-bottom: 0.4em;background-color: white;}#sk-container-id-6 div.sk-label label {font-family: monospace;font-weight: bold;display: inline-block;line-height: 1.2em;}#sk-container-id-6 div.sk-label-container {text-align: center;}#sk-container-id-6 div.sk-container {/* jupyter's `normalize.less` sets `[hidden] { display: none; }` but bootstrap.min.css set `[hidden] { display: none !important; }` so we also need the `!important` here to be able to override the default hidden behavior on the sphinx rendered scikit-learn.org. See: https://github.com/scikit-learn/scikit-learn/issues/21755 */display: inline-block !important;position: relative;}#sk-container-id-6 div.sk-text-repr-fallback {display: none;}</style><div id=\"sk-container-id-6\" class=\"sk-top-container\"><div class=\"sk-text-repr-fallback\"><pre>RandomForestClassifier(random_state=42)</pre><b>In a Jupyter environment, please rerun this cell to show the HTML representation or trust the notebook. <br />On GitHub, the HTML representation is unable to render, please try loading this page with nbviewer.org.</b></div><div class=\"sk-container\" hidden><div class=\"sk-item\"><div class=\"sk-estimator sk-toggleable\"><input class=\"sk-toggleable__control sk-hidden--visually\" id=\"sk-estimator-id-6\" type=\"checkbox\" checked><label for=\"sk-estimator-id-6\" class=\"sk-toggleable__label sk-toggleable__label-arrow\">RandomForestClassifier</label><div class=\"sk-toggleable__content\"><pre>RandomForestClassifier(random_state=42)</pre></div></div></div></div></div>"
      ],
      "text/plain": [
       "RandomForestClassifier(random_state=42)"
      ]
     },
     "execution_count": 49,
     "metadata": {},
     "output_type": "execute_result"
    }
   ],
   "source": [
    "clf = RandomForestClassifier(random_state=42)\n",
    "clf.fit(X_train, y_train)"
   ]
  },
  {
   "cell_type": "code",
   "execution_count": 50,
   "id": "581ab90a",
   "metadata": {
    "execution": {
     "iopub.execute_input": "2023-03-21T15:45:17.734665Z",
     "iopub.status.busy": "2023-03-21T15:45:17.734269Z",
     "iopub.status.idle": "2023-03-21T15:45:17.968037Z",
     "shell.execute_reply": "2023-03-21T15:45:17.967035Z"
    },
    "papermill": {
     "duration": 0.275925,
     "end_time": "2023-03-21T15:45:17.970758",
     "exception": false,
     "start_time": "2023-03-21T15:45:17.694833",
     "status": "completed"
    },
    "tags": []
   },
   "outputs": [
    {
     "name": "stdout",
     "output_type": "stream",
     "text": [
      "              precision    recall  f1-score   support\n",
      "\n",
      "   hard-rock       0.22      0.22      0.22      1000\n",
      " heavy-metal       0.29      0.32      0.30      1000\n",
      "       indie       0.22      0.22      0.22      1000\n",
      "    pop-rock       0.23      0.24      0.24      1000\n",
      "   punk-rock       0.24      0.20      0.22      1000\n",
      "\n",
      "    accuracy                           0.24      5000\n",
      "   macro avg       0.24      0.24      0.24      5000\n",
      "weighted avg       0.24      0.24      0.24      5000\n",
      "\n"
     ]
    }
   ],
   "source": [
    "y_pred = clf.predict(X_test)\n",
    "print(classification_report(y_test, y_pred))"
   ]
  },
  {
   "cell_type": "code",
   "execution_count": 51,
   "id": "faf1d7f4",
   "metadata": {
    "execution": {
     "iopub.execute_input": "2023-03-21T15:45:18.049609Z",
     "iopub.status.busy": "2023-03-21T15:45:18.049292Z",
     "iopub.status.idle": "2023-03-21T15:45:18.175755Z",
     "shell.execute_reply": "2023-03-21T15:45:18.174814Z"
    },
    "papermill": {
     "duration": 0.168775,
     "end_time": "2023-03-21T15:45:18.178403",
     "exception": false,
     "start_time": "2023-03-21T15:45:18.009628",
     "status": "completed"
    },
    "tags": []
   },
   "outputs": [],
   "source": [
    "acc = accuracy_score(y_test, y_pred)\n",
    "pre = precision_score(y_test, y_pred, average=avg_par)\n",
    "rec = recall_score(y_test, y_pred, average=avg_par)\n",
    "f1 = f1_score(y_test, y_pred, average=avg_par)\n",
    "\n",
    "metrics_data['Shapelets']['RandomForest'] = {'Accuracy': acc, 'Precision': pre, 'Recall': rec, 'F1': f1}"
   ]
  },
  {
   "cell_type": "markdown",
   "id": "61fceefb",
   "metadata": {
    "papermill": {
     "duration": 0.029938,
     "end_time": "2023-03-21T15:45:18.238999",
     "exception": false,
     "start_time": "2023-03-21T15:45:18.209061",
     "status": "completed"
    },
    "tags": []
   },
   "source": [
    "**LightGBM**"
   ]
  },
  {
   "cell_type": "code",
   "execution_count": 52,
   "id": "194189da",
   "metadata": {
    "execution": {
     "iopub.execute_input": "2023-03-21T15:45:18.274656Z",
     "iopub.status.busy": "2023-03-21T15:45:18.274308Z",
     "iopub.status.idle": "2023-03-21T15:45:19.303101Z",
     "shell.execute_reply": "2023-03-21T15:45:19.302282Z"
    },
    "papermill": {
     "duration": 1.045249,
     "end_time": "2023-03-21T15:45:19.305117",
     "exception": false,
     "start_time": "2023-03-21T15:45:18.259868",
     "status": "completed"
    },
    "tags": []
   },
   "outputs": [
    {
     "data": {
      "text/html": [
       "<style>#sk-container-id-7 {color: black;background-color: white;}#sk-container-id-7 pre{padding: 0;}#sk-container-id-7 div.sk-toggleable {background-color: white;}#sk-container-id-7 label.sk-toggleable__label {cursor: pointer;display: block;width: 100%;margin-bottom: 0;padding: 0.3em;box-sizing: border-box;text-align: center;}#sk-container-id-7 label.sk-toggleable__label-arrow:before {content: \"▸\";float: left;margin-right: 0.25em;color: #696969;}#sk-container-id-7 label.sk-toggleable__label-arrow:hover:before {color: black;}#sk-container-id-7 div.sk-estimator:hover label.sk-toggleable__label-arrow:before {color: black;}#sk-container-id-7 div.sk-toggleable__content {max-height: 0;max-width: 0;overflow: hidden;text-align: left;background-color: #f0f8ff;}#sk-container-id-7 div.sk-toggleable__content pre {margin: 0.2em;color: black;border-radius: 0.25em;background-color: #f0f8ff;}#sk-container-id-7 input.sk-toggleable__control:checked~div.sk-toggleable__content {max-height: 200px;max-width: 100%;overflow: auto;}#sk-container-id-7 input.sk-toggleable__control:checked~label.sk-toggleable__label-arrow:before {content: \"▾\";}#sk-container-id-7 div.sk-estimator input.sk-toggleable__control:checked~label.sk-toggleable__label {background-color: #d4ebff;}#sk-container-id-7 div.sk-label input.sk-toggleable__control:checked~label.sk-toggleable__label {background-color: #d4ebff;}#sk-container-id-7 input.sk-hidden--visually {border: 0;clip: rect(1px 1px 1px 1px);clip: rect(1px, 1px, 1px, 1px);height: 1px;margin: -1px;overflow: hidden;padding: 0;position: absolute;width: 1px;}#sk-container-id-7 div.sk-estimator {font-family: monospace;background-color: #f0f8ff;border: 1px dotted black;border-radius: 0.25em;box-sizing: border-box;margin-bottom: 0.5em;}#sk-container-id-7 div.sk-estimator:hover {background-color: #d4ebff;}#sk-container-id-7 div.sk-parallel-item::after {content: \"\";width: 100%;border-bottom: 1px solid gray;flex-grow: 1;}#sk-container-id-7 div.sk-label:hover label.sk-toggleable__label {background-color: #d4ebff;}#sk-container-id-7 div.sk-serial::before {content: \"\";position: absolute;border-left: 1px solid gray;box-sizing: border-box;top: 0;bottom: 0;left: 50%;z-index: 0;}#sk-container-id-7 div.sk-serial {display: flex;flex-direction: column;align-items: center;background-color: white;padding-right: 0.2em;padding-left: 0.2em;position: relative;}#sk-container-id-7 div.sk-item {position: relative;z-index: 1;}#sk-container-id-7 div.sk-parallel {display: flex;align-items: stretch;justify-content: center;background-color: white;position: relative;}#sk-container-id-7 div.sk-item::before, #sk-container-id-7 div.sk-parallel-item::before {content: \"\";position: absolute;border-left: 1px solid gray;box-sizing: border-box;top: 0;bottom: 0;left: 50%;z-index: -1;}#sk-container-id-7 div.sk-parallel-item {display: flex;flex-direction: column;z-index: 1;position: relative;background-color: white;}#sk-container-id-7 div.sk-parallel-item:first-child::after {align-self: flex-end;width: 50%;}#sk-container-id-7 div.sk-parallel-item:last-child::after {align-self: flex-start;width: 50%;}#sk-container-id-7 div.sk-parallel-item:only-child::after {width: 0;}#sk-container-id-7 div.sk-dashed-wrapped {border: 1px dashed gray;margin: 0 0.4em 0.5em 0.4em;box-sizing: border-box;padding-bottom: 0.4em;background-color: white;}#sk-container-id-7 div.sk-label label {font-family: monospace;font-weight: bold;display: inline-block;line-height: 1.2em;}#sk-container-id-7 div.sk-label-container {text-align: center;}#sk-container-id-7 div.sk-container {/* jupyter's `normalize.less` sets `[hidden] { display: none; }` but bootstrap.min.css set `[hidden] { display: none !important; }` so we also need the `!important` here to be able to override the default hidden behavior on the sphinx rendered scikit-learn.org. See: https://github.com/scikit-learn/scikit-learn/issues/21755 */display: inline-block !important;position: relative;}#sk-container-id-7 div.sk-text-repr-fallback {display: none;}</style><div id=\"sk-container-id-7\" class=\"sk-top-container\"><div class=\"sk-text-repr-fallback\"><pre>LGBMClassifier(objective=&#x27;multiclass&#x27;)</pre><b>In a Jupyter environment, please rerun this cell to show the HTML representation or trust the notebook. <br />On GitHub, the HTML representation is unable to render, please try loading this page with nbviewer.org.</b></div><div class=\"sk-container\" hidden><div class=\"sk-item\"><div class=\"sk-estimator sk-toggleable\"><input class=\"sk-toggleable__control sk-hidden--visually\" id=\"sk-estimator-id-7\" type=\"checkbox\" checked><label for=\"sk-estimator-id-7\" class=\"sk-toggleable__label sk-toggleable__label-arrow\">LGBMClassifier</label><div class=\"sk-toggleable__content\"><pre>LGBMClassifier(objective=&#x27;multiclass&#x27;)</pre></div></div></div></div></div>"
      ],
      "text/plain": [
       "LGBMClassifier(objective='multiclass')"
      ]
     },
     "execution_count": 52,
     "metadata": {},
     "output_type": "execute_result"
    }
   ],
   "source": [
    "clf = lgbm.LGBMClassifier(objective=obj_par) \n",
    "clf.fit(X_train, y_train)"
   ]
  },
  {
   "cell_type": "code",
   "execution_count": 53,
   "id": "355a078b",
   "metadata": {
    "execution": {
     "iopub.execute_input": "2023-03-21T15:45:19.337088Z",
     "iopub.status.busy": "2023-03-21T15:45:19.336801Z",
     "iopub.status.idle": "2023-03-21T15:45:19.499159Z",
     "shell.execute_reply": "2023-03-21T15:45:19.498262Z"
    },
    "papermill": {
     "duration": 0.180263,
     "end_time": "2023-03-21T15:45:19.501967",
     "exception": false,
     "start_time": "2023-03-21T15:45:19.321704",
     "status": "completed"
    },
    "tags": []
   },
   "outputs": [
    {
     "name": "stdout",
     "output_type": "stream",
     "text": [
      "              precision    recall  f1-score   support\n",
      "\n",
      "   hard-rock       0.22      0.17      0.19      1000\n",
      " heavy-metal       0.27      0.34      0.30      1000\n",
      "       indie       0.21      0.20      0.21      1000\n",
      "    pop-rock       0.26      0.29      0.27      1000\n",
      "   punk-rock       0.21      0.18      0.20      1000\n",
      "\n",
      "    accuracy                           0.24      5000\n",
      "   macro avg       0.23      0.24      0.23      5000\n",
      "weighted avg       0.23      0.24      0.23      5000\n",
      "\n"
     ]
    }
   ],
   "source": [
    "y_pred = clf.predict(X_test)\n",
    "print(classification_report(y_test, y_pred))"
   ]
  },
  {
   "cell_type": "code",
   "execution_count": 54,
   "id": "f22b911e",
   "metadata": {
    "execution": {
     "iopub.execute_input": "2023-03-21T15:45:19.580791Z",
     "iopub.status.busy": "2023-03-21T15:45:19.580468Z",
     "iopub.status.idle": "2023-03-21T15:45:19.702396Z",
     "shell.execute_reply": "2023-03-21T15:45:19.701586Z"
    },
    "papermill": {
     "duration": 0.163069,
     "end_time": "2023-03-21T15:45:19.704143",
     "exception": false,
     "start_time": "2023-03-21T15:45:19.541074",
     "status": "completed"
    },
    "tags": []
   },
   "outputs": [],
   "source": [
    "acc = accuracy_score(y_test, y_pred)\n",
    "pre = precision_score(y_test, y_pred, average=avg_par)\n",
    "rec = recall_score(y_test, y_pred, average=avg_par)\n",
    "f1 = f1_score(y_test, y_pred, average=avg_par)\n",
    "\n",
    "metrics_data['Shapelets']['LightGBM'] = {'Accuracy': acc, 'Precision': pre, 'Recall': rec, 'F1': f1}"
   ]
  },
  {
   "cell_type": "markdown",
   "id": "0809af9f",
   "metadata": {
    "papermill": {
     "duration": 0.014312,
     "end_time": "2023-03-21T15:45:19.732447",
     "exception": false,
     "start_time": "2023-03-21T15:45:19.718135",
     "status": "completed"
    },
    "tags": []
   },
   "source": [
    "#### KNN"
   ]
  },
  {
   "cell_type": "code",
   "execution_count": 55,
   "id": "1c9237e0",
   "metadata": {
    "execution": {
     "iopub.execute_input": "2023-03-21T15:45:19.762729Z",
     "iopub.status.busy": "2023-03-21T15:45:19.762466Z",
     "iopub.status.idle": "2023-03-21T15:45:19.767115Z",
     "shell.execute_reply": "2023-03-21T15:45:19.766213Z"
    },
    "papermill": {
     "duration": 0.023829,
     "end_time": "2023-03-21T15:45:19.770813",
     "exception": false,
     "start_time": "2023-03-21T15:45:19.746984",
     "status": "completed"
    },
    "tags": []
   },
   "outputs": [],
   "source": [
    "X_train = ts_train.reshape((ts_train.shape[0], ts_train.shape[1]))\n",
    "X_test = ts_test.reshape((ts_test.shape[0], ts_test.shape[1]))"
   ]
  },
  {
   "cell_type": "code",
   "execution_count": 56,
   "id": "192f3c3f",
   "metadata": {
    "execution": {
     "iopub.execute_input": "2023-03-21T15:45:19.813930Z",
     "iopub.status.busy": "2023-03-21T15:45:19.813459Z",
     "iopub.status.idle": "2023-03-21T15:45:19.820907Z",
     "shell.execute_reply": "2023-03-21T15:45:19.819808Z"
    },
    "papermill": {
     "duration": 0.02422,
     "end_time": "2023-03-21T15:45:19.822709",
     "exception": false,
     "start_time": "2023-03-21T15:45:19.798489",
     "status": "completed"
    },
    "tags": []
   },
   "outputs": [
    {
     "data": {
      "text/plain": [
       "(20000, 100)"
      ]
     },
     "execution_count": 56,
     "metadata": {},
     "output_type": "execute_result"
    }
   ],
   "source": [
    "X_train.shape"
   ]
  },
  {
   "cell_type": "code",
   "execution_count": 57,
   "id": "de0e5000",
   "metadata": {
    "execution": {
     "iopub.execute_input": "2023-03-21T15:45:19.853465Z",
     "iopub.status.busy": "2023-03-21T15:45:19.852967Z",
     "iopub.status.idle": "2023-03-21T15:45:19.858670Z",
     "shell.execute_reply": "2023-03-21T15:45:19.857540Z"
    },
    "papermill": {
     "duration": 0.023676,
     "end_time": "2023-03-21T15:45:19.860505",
     "exception": false,
     "start_time": "2023-03-21T15:45:19.836829",
     "status": "completed"
    },
    "tags": []
   },
   "outputs": [],
   "source": [
    "metrics_data['KNN'] = {}"
   ]
  },
  {
   "cell_type": "markdown",
   "id": "8ee39c05",
   "metadata": {
    "papermill": {
     "duration": 0.014836,
     "end_time": "2023-03-21T15:45:19.890135",
     "exception": false,
     "start_time": "2023-03-21T15:45:19.875299",
     "status": "completed"
    },
    "tags": []
   },
   "source": [
    "**Euclidean Distance**"
   ]
  },
  {
   "cell_type": "code",
   "execution_count": 58,
   "id": "55db1f58",
   "metadata": {
    "execution": {
     "iopub.execute_input": "2023-03-21T15:45:19.922769Z",
     "iopub.status.busy": "2023-03-21T15:45:19.922263Z",
     "iopub.status.idle": "2023-03-21T15:45:19.928013Z",
     "shell.execute_reply": "2023-03-21T15:45:19.926827Z"
    },
    "papermill": {
     "duration": 0.024458,
     "end_time": "2023-03-21T15:45:19.929851",
     "exception": false,
     "start_time": "2023-03-21T15:45:19.905393",
     "status": "completed"
    },
    "tags": []
   },
   "outputs": [],
   "source": [
    "from sklearn.neighbors import KNeighborsClassifier"
   ]
  },
  {
   "cell_type": "code",
   "execution_count": 59,
   "id": "132c2537",
   "metadata": {
    "execution": {
     "iopub.execute_input": "2023-03-21T15:45:19.961925Z",
     "iopub.status.busy": "2023-03-21T15:45:19.961433Z",
     "iopub.status.idle": "2023-03-21T15:45:20.012755Z",
     "shell.execute_reply": "2023-03-21T15:45:20.011499Z"
    },
    "papermill": {
     "duration": 0.069991,
     "end_time": "2023-03-21T15:45:20.014879",
     "exception": false,
     "start_time": "2023-03-21T15:45:19.944888",
     "status": "completed"
    },
    "tags": []
   },
   "outputs": [
    {
     "data": {
      "text/html": [
       "<style>#sk-container-id-8 {color: black;background-color: white;}#sk-container-id-8 pre{padding: 0;}#sk-container-id-8 div.sk-toggleable {background-color: white;}#sk-container-id-8 label.sk-toggleable__label {cursor: pointer;display: block;width: 100%;margin-bottom: 0;padding: 0.3em;box-sizing: border-box;text-align: center;}#sk-container-id-8 label.sk-toggleable__label-arrow:before {content: \"▸\";float: left;margin-right: 0.25em;color: #696969;}#sk-container-id-8 label.sk-toggleable__label-arrow:hover:before {color: black;}#sk-container-id-8 div.sk-estimator:hover label.sk-toggleable__label-arrow:before {color: black;}#sk-container-id-8 div.sk-toggleable__content {max-height: 0;max-width: 0;overflow: hidden;text-align: left;background-color: #f0f8ff;}#sk-container-id-8 div.sk-toggleable__content pre {margin: 0.2em;color: black;border-radius: 0.25em;background-color: #f0f8ff;}#sk-container-id-8 input.sk-toggleable__control:checked~div.sk-toggleable__content {max-height: 200px;max-width: 100%;overflow: auto;}#sk-container-id-8 input.sk-toggleable__control:checked~label.sk-toggleable__label-arrow:before {content: \"▾\";}#sk-container-id-8 div.sk-estimator input.sk-toggleable__control:checked~label.sk-toggleable__label {background-color: #d4ebff;}#sk-container-id-8 div.sk-label input.sk-toggleable__control:checked~label.sk-toggleable__label {background-color: #d4ebff;}#sk-container-id-8 input.sk-hidden--visually {border: 0;clip: rect(1px 1px 1px 1px);clip: rect(1px, 1px, 1px, 1px);height: 1px;margin: -1px;overflow: hidden;padding: 0;position: absolute;width: 1px;}#sk-container-id-8 div.sk-estimator {font-family: monospace;background-color: #f0f8ff;border: 1px dotted black;border-radius: 0.25em;box-sizing: border-box;margin-bottom: 0.5em;}#sk-container-id-8 div.sk-estimator:hover {background-color: #d4ebff;}#sk-container-id-8 div.sk-parallel-item::after {content: \"\";width: 100%;border-bottom: 1px solid gray;flex-grow: 1;}#sk-container-id-8 div.sk-label:hover label.sk-toggleable__label {background-color: #d4ebff;}#sk-container-id-8 div.sk-serial::before {content: \"\";position: absolute;border-left: 1px solid gray;box-sizing: border-box;top: 0;bottom: 0;left: 50%;z-index: 0;}#sk-container-id-8 div.sk-serial {display: flex;flex-direction: column;align-items: center;background-color: white;padding-right: 0.2em;padding-left: 0.2em;position: relative;}#sk-container-id-8 div.sk-item {position: relative;z-index: 1;}#sk-container-id-8 div.sk-parallel {display: flex;align-items: stretch;justify-content: center;background-color: white;position: relative;}#sk-container-id-8 div.sk-item::before, #sk-container-id-8 div.sk-parallel-item::before {content: \"\";position: absolute;border-left: 1px solid gray;box-sizing: border-box;top: 0;bottom: 0;left: 50%;z-index: -1;}#sk-container-id-8 div.sk-parallel-item {display: flex;flex-direction: column;z-index: 1;position: relative;background-color: white;}#sk-container-id-8 div.sk-parallel-item:first-child::after {align-self: flex-end;width: 50%;}#sk-container-id-8 div.sk-parallel-item:last-child::after {align-self: flex-start;width: 50%;}#sk-container-id-8 div.sk-parallel-item:only-child::after {width: 0;}#sk-container-id-8 div.sk-dashed-wrapped {border: 1px dashed gray;margin: 0 0.4em 0.5em 0.4em;box-sizing: border-box;padding-bottom: 0.4em;background-color: white;}#sk-container-id-8 div.sk-label label {font-family: monospace;font-weight: bold;display: inline-block;line-height: 1.2em;}#sk-container-id-8 div.sk-label-container {text-align: center;}#sk-container-id-8 div.sk-container {/* jupyter's `normalize.less` sets `[hidden] { display: none; }` but bootstrap.min.css set `[hidden] { display: none !important; }` so we also need the `!important` here to be able to override the default hidden behavior on the sphinx rendered scikit-learn.org. See: https://github.com/scikit-learn/scikit-learn/issues/21755 */display: inline-block !important;position: relative;}#sk-container-id-8 div.sk-text-repr-fallback {display: none;}</style><div id=\"sk-container-id-8\" class=\"sk-top-container\"><div class=\"sk-text-repr-fallback\"><pre>KNeighborsClassifier()</pre><b>In a Jupyter environment, please rerun this cell to show the HTML representation or trust the notebook. <br />On GitHub, the HTML representation is unable to render, please try loading this page with nbviewer.org.</b></div><div class=\"sk-container\" hidden><div class=\"sk-item\"><div class=\"sk-estimator sk-toggleable\"><input class=\"sk-toggleable__control sk-hidden--visually\" id=\"sk-estimator-id-8\" type=\"checkbox\" checked><label for=\"sk-estimator-id-8\" class=\"sk-toggleable__label sk-toggleable__label-arrow\">KNeighborsClassifier</label><div class=\"sk-toggleable__content\"><pre>KNeighborsClassifier()</pre></div></div></div></div></div>"
      ],
      "text/plain": [
       "KNeighborsClassifier()"
      ]
     },
     "execution_count": 59,
     "metadata": {},
     "output_type": "execute_result"
    }
   ],
   "source": [
    "clf = KNeighborsClassifier(n_neighbors=5, weights='uniform')\n",
    "clf.fit(X_train, y_train)"
   ]
  },
  {
   "cell_type": "code",
   "execution_count": 60,
   "id": "0afad62a",
   "metadata": {
    "execution": {
     "iopub.execute_input": "2023-03-21T15:45:20.046894Z",
     "iopub.status.busy": "2023-03-21T15:45:20.046428Z",
     "iopub.status.idle": "2023-03-21T15:45:21.290073Z",
     "shell.execute_reply": "2023-03-21T15:45:21.289077Z"
    },
    "papermill": {
     "duration": 1.261896,
     "end_time": "2023-03-21T15:45:21.292959",
     "exception": false,
     "start_time": "2023-03-21T15:45:20.031063",
     "status": "completed"
    },
    "tags": []
   },
   "outputs": [
    {
     "name": "stdout",
     "output_type": "stream",
     "text": [
      "              precision    recall  f1-score   support\n",
      "\n",
      "   hard-rock       0.20      0.27      0.23      1000\n",
      " heavy-metal       0.26      0.28      0.27      1000\n",
      "       indie       0.21      0.28      0.24      1000\n",
      "    pop-rock       0.23      0.13      0.17      1000\n",
      "   punk-rock       0.21      0.14      0.17      1000\n",
      "\n",
      "    accuracy                           0.22      5000\n",
      "   macro avg       0.22      0.22      0.21      5000\n",
      "weighted avg       0.22      0.22      0.21      5000\n",
      "\n"
     ]
    }
   ],
   "source": [
    "y_pred = clf.predict(X_test)\n",
    "print(classification_report(y_test, y_pred))"
   ]
  },
  {
   "cell_type": "code",
   "execution_count": 61,
   "id": "2d709070",
   "metadata": {
    "execution": {
     "iopub.execute_input": "2023-03-21T15:45:21.367441Z",
     "iopub.status.busy": "2023-03-21T15:45:21.366964Z",
     "iopub.status.idle": "2023-03-21T15:45:21.486335Z",
     "shell.execute_reply": "2023-03-21T15:45:21.485373Z"
    },
    "papermill": {
     "duration": 0.160335,
     "end_time": "2023-03-21T15:45:21.489285",
     "exception": false,
     "start_time": "2023-03-21T15:45:21.328950",
     "status": "completed"
    },
    "tags": []
   },
   "outputs": [],
   "source": [
    "acc = accuracy_score(y_test, y_pred)\n",
    "pre = precision_score(y_test, y_pred, average=avg_par)\n",
    "rec = recall_score(y_test, y_pred, average=avg_par)\n",
    "f1 = f1_score(y_test, y_pred, average=avg_par)\n",
    "\n",
    "metrics_data['KNN']['Euclidean'] = {'Accuracy': acc, 'Precision': pre, 'Recall': rec, 'F1': f1}"
   ]
  },
  {
   "cell_type": "markdown",
   "id": "c5ec2a09",
   "metadata": {
    "papermill": {
     "duration": 0.035337,
     "end_time": "2023-03-21T15:45:21.564435",
     "exception": false,
     "start_time": "2023-03-21T15:45:21.529098",
     "status": "completed"
    },
    "tags": []
   },
   "source": [
    "**Dynamic Time Warping**"
   ]
  },
  {
   "cell_type": "code",
   "execution_count": 62,
   "id": "2df913d8",
   "metadata": {
    "execution": {
     "iopub.execute_input": "2023-03-21T15:45:21.596962Z",
     "iopub.status.busy": "2023-03-21T15:45:21.596488Z",
     "iopub.status.idle": "2023-03-21T15:45:21.695099Z",
     "shell.execute_reply": "2023-03-21T15:45:21.694211Z"
    },
    "papermill": {
     "duration": 0.117159,
     "end_time": "2023-03-21T15:45:21.697885",
     "exception": false,
     "start_time": "2023-03-21T15:45:21.580726",
     "status": "completed"
    },
    "tags": []
   },
   "outputs": [],
   "source": [
    "from pyts.classification import KNeighborsClassifier\n",
    "from pyts.approximation import PiecewiseAggregateApproximation\n",
    "from imblearn.under_sampling import ClusterCentroids\n",
    "from sklearn_extra.cluster import KMedoids"
   ]
  },
  {
   "cell_type": "code",
   "execution_count": 63,
   "id": "db1604ec",
   "metadata": {
    "execution": {
     "iopub.execute_input": "2023-03-21T15:45:21.730744Z",
     "iopub.status.busy": "2023-03-21T15:45:21.730327Z",
     "iopub.status.idle": "2023-03-21T15:45:22.218107Z",
     "shell.execute_reply": "2023-03-21T15:45:22.217129Z"
    },
    "papermill": {
     "duration": 0.505953,
     "end_time": "2023-03-21T15:45:22.221167",
     "exception": false,
     "start_time": "2023-03-21T15:45:21.715214",
     "status": "completed"
    },
    "tags": []
   },
   "outputs": [],
   "source": [
    "if paa_window_size:\n",
    "    paa = PiecewiseAggregateApproximation(window_size=paa_window_size)\n",
    "    X_train = paa.transform(X_train)\n",
    "    X_test = paa.transform(X_test)\n",
    "    X_train.shape"
   ]
  },
  {
   "cell_type": "code",
   "execution_count": 64,
   "id": "59fa27aa",
   "metadata": {
    "execution": {
     "iopub.execute_input": "2023-03-21T15:45:22.300160Z",
     "iopub.status.busy": "2023-03-21T15:45:22.299731Z",
     "iopub.status.idle": "2023-03-21T15:45:33.283902Z",
     "shell.execute_reply": "2023-03-21T15:45:33.283078Z"
    },
    "papermill": {
     "duration": 11.024484,
     "end_time": "2023-03-21T15:45:33.286269",
     "exception": false,
     "start_time": "2023-03-21T15:45:22.261785",
     "status": "completed"
    },
    "tags": []
   },
   "outputs": [
    {
     "name": "stdout",
     "output_type": "stream",
     "text": [
      "{'hard-rock': 1200, 'heavy-metal': 1200, 'indie': 1200, 'pop-rock': 1200, 'punk-rock': 1200}\n"
     ]
    },
    {
     "name": "stderr",
     "output_type": "stream",
     "text": [
      "/home/mattiapggioli/lyrics2ts/.venv/lib/python3.9/site-packages/sklearn_extra/cluster/_k_medoids.py:275: UserWarning: Cluster 346 is empty! self.labels_[self.medoid_indices_[346]] may not be labeled with its corresponding cluster (346).\n",
      "  warnings.warn(\n",
      "/home/mattiapggioli/lyrics2ts/.venv/lib/python3.9/site-packages/sklearn_extra/cluster/_k_medoids.py:275: UserWarning: Cluster 465 is empty! self.labels_[self.medoid_indices_[465]] may not be labeled with its corresponding cluster (465).\n",
      "  warnings.warn(\n"
     ]
    },
    {
     "name": "stderr",
     "output_type": "stream",
     "text": [
      "/home/mattiapggioli/lyrics2ts/.venv/lib/python3.9/site-packages/sklearn_extra/cluster/_k_medoids.py:275: UserWarning: Cluster 919 is empty! self.labels_[self.medoid_indices_[919]] may not be labeled with its corresponding cluster (919).\n",
      "  warnings.warn(\n",
      "/home/mattiapggioli/lyrics2ts/.venv/lib/python3.9/site-packages/sklearn_extra/cluster/_k_medoids.py:275: UserWarning: Cluster 924 is empty! self.labels_[self.medoid_indices_[924]] may not be labeled with its corresponding cluster (924).\n",
      "  warnings.warn(\n"
     ]
    }
   ],
   "source": [
    "if undersampling:\n",
    "    total_samples = len(y_train)\n",
    "    unique_classes, class_counts = np.unique(y_train, return_counts=True)\n",
    "    samp_strat = dict(zip(unique_classes, np.floor(class_counts * undersampling).astype(int)))\n",
    "    print(samp_strat)\n",
    "    cc = ClusterCentroids(estimator=KMedoids(\n",
    "        random_state=42), sampling_strategy=samp_strat, random_state=42)\n",
    "    X_train, y_train = cc.fit_resample(X_train, y_train)\n",
    "    X_train.shape"
   ]
  },
  {
   "cell_type": "code",
   "execution_count": 65,
   "id": "e7ac6b44",
   "metadata": {
    "execution": {
     "iopub.execute_input": "2023-03-21T15:45:33.364097Z",
     "iopub.status.busy": "2023-03-21T15:45:33.363449Z",
     "iopub.status.idle": "2023-03-21T15:45:33.376791Z",
     "shell.execute_reply": "2023-03-21T15:45:33.376080Z"
    },
    "papermill": {
     "duration": 0.062299,
     "end_time": "2023-03-21T15:45:33.379498",
     "exception": false,
     "start_time": "2023-03-21T15:45:33.317199",
     "status": "completed"
    },
    "tags": []
   },
   "outputs": [
    {
     "data": {
      "text/html": [
       "<style>#sk-container-id-9 {color: black;background-color: white;}#sk-container-id-9 pre{padding: 0;}#sk-container-id-9 div.sk-toggleable {background-color: white;}#sk-container-id-9 label.sk-toggleable__label {cursor: pointer;display: block;width: 100%;margin-bottom: 0;padding: 0.3em;box-sizing: border-box;text-align: center;}#sk-container-id-9 label.sk-toggleable__label-arrow:before {content: \"▸\";float: left;margin-right: 0.25em;color: #696969;}#sk-container-id-9 label.sk-toggleable__label-arrow:hover:before {color: black;}#sk-container-id-9 div.sk-estimator:hover label.sk-toggleable__label-arrow:before {color: black;}#sk-container-id-9 div.sk-toggleable__content {max-height: 0;max-width: 0;overflow: hidden;text-align: left;background-color: #f0f8ff;}#sk-container-id-9 div.sk-toggleable__content pre {margin: 0.2em;color: black;border-radius: 0.25em;background-color: #f0f8ff;}#sk-container-id-9 input.sk-toggleable__control:checked~div.sk-toggleable__content {max-height: 200px;max-width: 100%;overflow: auto;}#sk-container-id-9 input.sk-toggleable__control:checked~label.sk-toggleable__label-arrow:before {content: \"▾\";}#sk-container-id-9 div.sk-estimator input.sk-toggleable__control:checked~label.sk-toggleable__label {background-color: #d4ebff;}#sk-container-id-9 div.sk-label input.sk-toggleable__control:checked~label.sk-toggleable__label {background-color: #d4ebff;}#sk-container-id-9 input.sk-hidden--visually {border: 0;clip: rect(1px 1px 1px 1px);clip: rect(1px, 1px, 1px, 1px);height: 1px;margin: -1px;overflow: hidden;padding: 0;position: absolute;width: 1px;}#sk-container-id-9 div.sk-estimator {font-family: monospace;background-color: #f0f8ff;border: 1px dotted black;border-radius: 0.25em;box-sizing: border-box;margin-bottom: 0.5em;}#sk-container-id-9 div.sk-estimator:hover {background-color: #d4ebff;}#sk-container-id-9 div.sk-parallel-item::after {content: \"\";width: 100%;border-bottom: 1px solid gray;flex-grow: 1;}#sk-container-id-9 div.sk-label:hover label.sk-toggleable__label {background-color: #d4ebff;}#sk-container-id-9 div.sk-serial::before {content: \"\";position: absolute;border-left: 1px solid gray;box-sizing: border-box;top: 0;bottom: 0;left: 50%;z-index: 0;}#sk-container-id-9 div.sk-serial {display: flex;flex-direction: column;align-items: center;background-color: white;padding-right: 0.2em;padding-left: 0.2em;position: relative;}#sk-container-id-9 div.sk-item {position: relative;z-index: 1;}#sk-container-id-9 div.sk-parallel {display: flex;align-items: stretch;justify-content: center;background-color: white;position: relative;}#sk-container-id-9 div.sk-item::before, #sk-container-id-9 div.sk-parallel-item::before {content: \"\";position: absolute;border-left: 1px solid gray;box-sizing: border-box;top: 0;bottom: 0;left: 50%;z-index: -1;}#sk-container-id-9 div.sk-parallel-item {display: flex;flex-direction: column;z-index: 1;position: relative;background-color: white;}#sk-container-id-9 div.sk-parallel-item:first-child::after {align-self: flex-end;width: 50%;}#sk-container-id-9 div.sk-parallel-item:last-child::after {align-self: flex-start;width: 50%;}#sk-container-id-9 div.sk-parallel-item:only-child::after {width: 0;}#sk-container-id-9 div.sk-dashed-wrapped {border: 1px dashed gray;margin: 0 0.4em 0.5em 0.4em;box-sizing: border-box;padding-bottom: 0.4em;background-color: white;}#sk-container-id-9 div.sk-label label {font-family: monospace;font-weight: bold;display: inline-block;line-height: 1.2em;}#sk-container-id-9 div.sk-label-container {text-align: center;}#sk-container-id-9 div.sk-container {/* jupyter's `normalize.less` sets `[hidden] { display: none; }` but bootstrap.min.css set `[hidden] { display: none !important; }` so we also need the `!important` here to be able to override the default hidden behavior on the sphinx rendered scikit-learn.org. See: https://github.com/scikit-learn/scikit-learn/issues/21755 */display: inline-block !important;position: relative;}#sk-container-id-9 div.sk-text-repr-fallback {display: none;}</style><div id=\"sk-container-id-9\" class=\"sk-top-container\"><div class=\"sk-text-repr-fallback\"><pre>KNeighborsClassifier(metric=&#x27;dtw_sakoechiba&#x27;, metric_params={&#x27;window_size&#x27;: 3})</pre><b>In a Jupyter environment, please rerun this cell to show the HTML representation or trust the notebook. <br />On GitHub, the HTML representation is unable to render, please try loading this page with nbviewer.org.</b></div><div class=\"sk-container\" hidden><div class=\"sk-item\"><div class=\"sk-estimator sk-toggleable\"><input class=\"sk-toggleable__control sk-hidden--visually\" id=\"sk-estimator-id-9\" type=\"checkbox\" checked><label for=\"sk-estimator-id-9\" class=\"sk-toggleable__label sk-toggleable__label-arrow\">KNeighborsClassifier</label><div class=\"sk-toggleable__content\"><pre>KNeighborsClassifier(metric=&#x27;dtw_sakoechiba&#x27;, metric_params={&#x27;window_size&#x27;: 3})</pre></div></div></div></div></div>"
      ],
      "text/plain": [
       "KNeighborsClassifier(metric='dtw_sakoechiba', metric_params={'window_size': 3})"
      ]
     },
     "execution_count": 65,
     "metadata": {},
     "output_type": "execute_result"
    }
   ],
   "source": [
    "clf = KNeighborsClassifier(metric='dtw_sakoechiba',  metric_params={'window_size':3})\n",
    "\n",
    "clf.fit(X_train, y_train)"
   ]
  },
  {
   "cell_type": "code",
   "execution_count": 66,
   "id": "8109d19d",
   "metadata": {
    "execution": {
     "iopub.execute_input": "2023-03-21T15:45:33.463229Z",
     "iopub.status.busy": "2023-03-21T15:45:33.462116Z",
     "iopub.status.idle": "2023-03-21T17:12:42.925854Z",
     "shell.execute_reply": "2023-03-21T17:12:42.924453Z"
    },
    "papermill": {
     "duration": 5229.547233,
     "end_time": "2023-03-21T17:12:42.967151",
     "exception": false,
     "start_time": "2023-03-21T15:45:33.419918",
     "status": "completed"
    },
    "tags": []
   },
   "outputs": [
    {
     "name": "stdout",
     "output_type": "stream",
     "text": [
      "              precision    recall  f1-score   support\n",
      "\n",
      "   hard-rock       0.21      0.19      0.20      1000\n",
      " heavy-metal       0.25      0.40      0.30      1000\n",
      "       indie       0.19      0.15      0.17      1000\n",
      "    pop-rock       0.23      0.21      0.22      1000\n",
      "   punk-rock       0.22      0.17      0.19      1000\n",
      "\n",
      "    accuracy                           0.22      5000\n",
      "   macro avg       0.22      0.22      0.22      5000\n",
      "weighted avg       0.22      0.22      0.22      5000\n",
      "\n",
      "CPU times: user 1h 27min 8s, sys: 431 ms, total: 1h 27min 9s\n",
      "Wall time: 1h 27min 9s\n"
     ]
    }
   ],
   "source": [
    "%%time\n",
    "y_pred = clf.predict(X_test)\n",
    "print(classification_report(y_test, y_pred))"
   ]
  },
  {
   "cell_type": "code",
   "execution_count": 67,
   "id": "b09f5cdf",
   "metadata": {
    "execution": {
     "iopub.execute_input": "2023-03-21T17:12:43.004578Z",
     "iopub.status.busy": "2023-03-21T17:12:43.003979Z",
     "iopub.status.idle": "2023-03-21T17:12:43.130517Z",
     "shell.execute_reply": "2023-03-21T17:12:43.129577Z"
    },
    "papermill": {
     "duration": 0.148382,
     "end_time": "2023-03-21T17:12:43.132955",
     "exception": false,
     "start_time": "2023-03-21T17:12:42.984573",
     "status": "completed"
    },
    "tags": []
   },
   "outputs": [],
   "source": [
    "acc = accuracy_score(y_test, y_pred)\n",
    "pre = precision_score(y_test, y_pred, average=avg_par)\n",
    "rec = recall_score(y_test, y_pred, average=avg_par)\n",
    "f1 = f1_score(y_test, y_pred, average=avg_par)\n",
    "\n",
    "metrics_data['KNN']['DTW'] = {'Accuracy': acc, 'Precision': pre, 'Recall': rec, 'F1': f1}"
   ]
  },
  {
   "cell_type": "markdown",
   "id": "e0e700a7",
   "metadata": {
    "papermill": {
     "duration": 0.015956,
     "end_time": "2023-03-21T17:12:43.169284",
     "exception": false,
     "start_time": "2023-03-21T17:12:43.153328",
     "status": "completed"
    },
    "tags": []
   },
   "source": [
    "## Overall Results"
   ]
  },
  {
   "cell_type": "code",
   "execution_count": 68,
   "id": "d003c193",
   "metadata": {
    "execution": {
     "iopub.execute_input": "2023-03-21T17:12:43.207145Z",
     "iopub.status.busy": "2023-03-21T17:12:43.205902Z",
     "iopub.status.idle": "2023-03-21T17:12:43.217781Z",
     "shell.execute_reply": "2023-03-21T17:12:43.216813Z"
    },
    "papermill": {
     "duration": 0.034312,
     "end_time": "2023-03-21T17:12:43.220261",
     "exception": false,
     "start_time": "2023-03-21T17:12:43.185949",
     "status": "completed"
    },
    "tags": []
   },
   "outputs": [],
   "source": [
    "metrics_data = pd.DataFrame.from_dict({(i,j): metrics_data[i][j] \n",
    "                                       for i in metrics_data.keys() \n",
    "                                       for j in metrics_data[i].keys()},\n",
    "                                       orient='index')"
   ]
  },
  {
   "cell_type": "code",
   "execution_count": 69,
   "id": "0944fe84",
   "metadata": {
    "execution": {
     "iopub.execute_input": "2023-03-21T17:12:43.268387Z",
     "iopub.status.busy": "2023-03-21T17:12:43.268115Z",
     "iopub.status.idle": "2023-03-21T17:12:43.361828Z",
     "shell.execute_reply": "2023-03-21T17:12:43.360999Z"
    },
    "papermill": {
     "duration": 0.117262,
     "end_time": "2023-03-21T17:12:43.363653",
     "exception": false,
     "start_time": "2023-03-21T17:12:43.246391",
     "status": "completed"
    },
    "tags": []
   },
   "outputs": [],
   "source": [
    "acc = accuracy_score(y_test, y_pred)\n",
    "pre = precision_score(y_test, y_pred, average=avg_par)\n",
    "rec = recall_score(y_test, y_pred, average=avg_par)\n",
    "f1 = f1_score(y_test, y_pred, average=avg_par)"
   ]
  },
  {
   "cell_type": "code",
   "execution_count": 70,
   "id": "7ee1b347",
   "metadata": {
    "execution": {
     "iopub.execute_input": "2023-03-21T17:12:43.397926Z",
     "iopub.status.busy": "2023-03-21T17:12:43.397670Z",
     "iopub.status.idle": "2023-03-21T17:12:43.408594Z",
     "shell.execute_reply": "2023-03-21T17:12:43.407357Z"
    },
    "papermill": {
     "duration": 0.031337,
     "end_time": "2023-03-21T17:12:43.411013",
     "exception": false,
     "start_time": "2023-03-21T17:12:43.379676",
     "status": "completed"
    },
    "tags": []
   },
   "outputs": [
    {
     "data": {
      "text/html": [
       "<div>\n",
       "<style scoped>\n",
       "    .dataframe tbody tr th:only-of-type {\n",
       "        vertical-align: middle;\n",
       "    }\n",
       "\n",
       "    .dataframe tbody tr th {\n",
       "        vertical-align: top;\n",
       "    }\n",
       "\n",
       "    .dataframe thead th {\n",
       "        text-align: right;\n",
       "    }\n",
       "</style>\n",
       "<table border=\"1\" class=\"dataframe\">\n",
       "  <thead>\n",
       "    <tr style=\"text-align: right;\">\n",
       "      <th></th>\n",
       "      <th></th>\n",
       "      <th>Accuracy</th>\n",
       "      <th>Precision</th>\n",
       "      <th>Recall</th>\n",
       "      <th>F1</th>\n",
       "    </tr>\n",
       "  </thead>\n",
       "  <tbody>\n",
       "    <tr>\n",
       "      <th rowspan=\"3\" valign=\"top\">Global</th>\n",
       "      <th>DecisionTree</th>\n",
       "      <td>0.2370</td>\n",
       "      <td>0.237278</td>\n",
       "      <td>0.2370</td>\n",
       "      <td>0.237083</td>\n",
       "    </tr>\n",
       "    <tr>\n",
       "      <th>RandomForest</th>\n",
       "      <td>0.2980</td>\n",
       "      <td>0.294245</td>\n",
       "      <td>0.2980</td>\n",
       "      <td>0.294893</td>\n",
       "    </tr>\n",
       "    <tr>\n",
       "      <th>LightGBM</th>\n",
       "      <td>0.3146</td>\n",
       "      <td>0.311252</td>\n",
       "      <td>0.3146</td>\n",
       "      <td>0.311420</td>\n",
       "    </tr>\n",
       "    <tr>\n",
       "      <th rowspan=\"3\" valign=\"top\">Shapelets</th>\n",
       "      <th>DecisionTree</th>\n",
       "      <td>0.2162</td>\n",
       "      <td>0.216366</td>\n",
       "      <td>0.2162</td>\n",
       "      <td>0.216134</td>\n",
       "    </tr>\n",
       "    <tr>\n",
       "      <th>RandomForest</th>\n",
       "      <td>0.2408</td>\n",
       "      <td>0.239918</td>\n",
       "      <td>0.2408</td>\n",
       "      <td>0.239760</td>\n",
       "    </tr>\n",
       "    <tr>\n",
       "      <th>LightGBM</th>\n",
       "      <td>0.2378</td>\n",
       "      <td>0.234156</td>\n",
       "      <td>0.2378</td>\n",
       "      <td>0.234519</td>\n",
       "    </tr>\n",
       "    <tr>\n",
       "      <th rowspan=\"2\" valign=\"top\">KNN</th>\n",
       "      <th>Euclidean</th>\n",
       "      <td>0.2200</td>\n",
       "      <td>0.221260</td>\n",
       "      <td>0.2200</td>\n",
       "      <td>0.214690</td>\n",
       "    </tr>\n",
       "    <tr>\n",
       "      <th>DTW</th>\n",
       "      <td>0.2238</td>\n",
       "      <td>0.219298</td>\n",
       "      <td>0.2238</td>\n",
       "      <td>0.216759</td>\n",
       "    </tr>\n",
       "  </tbody>\n",
       "</table>\n",
       "</div>"
      ],
      "text/plain": [
       "                        Accuracy  Precision  Recall        F1\n",
       "Global    DecisionTree    0.2370   0.237278  0.2370  0.237083\n",
       "          RandomForest    0.2980   0.294245  0.2980  0.294893\n",
       "          LightGBM        0.3146   0.311252  0.3146  0.311420\n",
       "Shapelets DecisionTree    0.2162   0.216366  0.2162  0.216134\n",
       "          RandomForest    0.2408   0.239918  0.2408  0.239760\n",
       "          LightGBM        0.2378   0.234156  0.2378  0.234519\n",
       "KNN       Euclidean       0.2200   0.221260  0.2200  0.214690\n",
       "          DTW             0.2238   0.219298  0.2238  0.216759"
      ]
     },
     "execution_count": 70,
     "metadata": {},
     "output_type": "execute_result"
    }
   ],
   "source": [
    "metrics_data"
   ]
  },
  {
   "cell_type": "code",
   "execution_count": 71,
   "id": "3efc173e",
   "metadata": {
    "execution": {
     "iopub.execute_input": "2023-03-21T17:12:43.466322Z",
     "iopub.status.busy": "2023-03-21T17:12:43.465543Z",
     "iopub.status.idle": "2023-03-21T17:12:43.475469Z",
     "shell.execute_reply": "2023-03-21T17:12:43.474300Z"
    },
    "papermill": {
     "duration": 0.041024,
     "end_time": "2023-03-21T17:12:43.477499",
     "exception": false,
     "start_time": "2023-03-21T17:12:43.436475",
     "status": "completed"
    },
    "tags": []
   },
   "outputs": [],
   "source": [
    "metrics_data.to_csv(f'{data_path}/metrics.csv')"
   ]
  },
  {
   "cell_type": "code",
   "execution_count": null,
   "id": "d21f5304",
   "metadata": {
    "papermill": {
     "duration": 0.015585,
     "end_time": "2023-03-21T17:12:43.509015",
     "exception": false,
     "start_time": "2023-03-21T17:12:43.493430",
     "status": "completed"
    },
    "tags": []
   },
   "outputs": [],
   "source": []
  }
 ],
 "metadata": {
  "celltoolbar": "Tags",
  "kernelspec": {
   "display_name": "Python 3 (ipykernel)",
   "language": "python",
   "name": "python3"
  },
  "language_info": {
   "codemirror_mode": {
    "name": "ipython",
    "version": 3
   },
   "file_extension": ".py",
   "mimetype": "text/x-python",
   "name": "python",
   "nbconvert_exporter": "python",
   "pygments_lexer": "ipython3",
   "version": "3.9.16"
  },
  "papermill": {
   "default_parameters": {},
   "duration": 7108.796786,
   "end_time": "2023-03-21T17:12:47.110563",
   "environment_variables": {},
   "exception": null,
   "input_path": "09_ts_classification.ipynb",
   "output_path": "../clf-reports/rock-subgenres_features.ipynb",
   "parameters": {
    "data_path": "/home/mattiapggioli/lyrics2ts/data/classification/rock-subgenres/features/",
    "paa_window_size": 20,
    "undersampling": 0.3
   },
   "start_time": "2023-03-21T15:14:18.313777",
   "version": "2.4.0"
  },
  "vscode": {
   "interpreter": {
    "hash": "eb8d1ded7c87c6f9c253b40add648304d6b51d2e38393955e855effc7e6f899a"
   }
  }
 },
 "nbformat": 4,
 "nbformat_minor": 5
}