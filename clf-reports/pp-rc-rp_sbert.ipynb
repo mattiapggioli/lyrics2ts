{
 "cells": [
  {
   "cell_type": "markdown",
   "id": "d79a68c5",
   "metadata": {
    "papermill": {
     "duration": 0.029016,
     "end_time": "2023-03-09T16:35:36.392083",
     "exception": false,
     "start_time": "2023-03-09T16:35:36.363067",
     "status": "completed"
    },
    "tags": []
   },
   "source": [
    "# Time Series Classification"
   ]
  },
  {
   "cell_type": "code",
   "execution_count": 1,
   "id": "8a0cb2b0",
   "metadata": {
    "execution": {
     "iopub.execute_input": "2023-03-09T16:35:36.449470Z",
     "iopub.status.busy": "2023-03-09T16:35:36.448607Z",
     "iopub.status.idle": "2023-03-09T16:35:38.216111Z",
     "shell.execute_reply": "2023-03-09T16:35:38.215297Z"
    },
    "papermill": {
     "duration": 1.796486,
     "end_time": "2023-03-09T16:35:38.219213",
     "exception": false,
     "start_time": "2023-03-09T16:35:36.422727",
     "status": "completed"
    },
    "tags": []
   },
   "outputs": [],
   "source": [
    "%matplotlib inline\n",
    "import pandas as pd\n",
    "import numpy as np\n",
    "import matplotlib.pyplot as plt\n",
    "import seaborn as sns\n",
    "import re\n",
    "import os\n",
    "from sklearn.preprocessing import StandardScaler\n",
    "from sklearn.decomposition import PCA\n",
    "import joblib\n",
    "from tslearn.utils import to_time_series_dataset, save_time_series_txt, load_time_series_txt\n",
    "import random\n",
    "from sklearn.model_selection import train_test_split\n",
    "from sklearn.metrics import accuracy_score, f1_score, precision_score, recall_score, classification_report\n",
    "import pickle"
   ]
  },
  {
   "cell_type": "code",
   "execution_count": 2,
   "id": "acc03405",
   "metadata": {
    "execution": {
     "iopub.execute_input": "2023-03-09T16:35:38.252659Z",
     "iopub.status.busy": "2023-03-09T16:35:38.252177Z",
     "iopub.status.idle": "2023-03-09T16:35:38.256624Z",
     "shell.execute_reply": "2023-03-09T16:35:38.255845Z"
    },
    "papermill": {
     "duration": 0.017471,
     "end_time": "2023-03-09T16:35:38.258107",
     "exception": false,
     "start_time": "2023-03-09T16:35:38.240636",
     "status": "completed"
    },
    "tags": [
     "parameters"
    ]
   },
   "outputs": [],
   "source": [
    "data_path = '/home/mattiapggioli/lyrics2ts/data/classification/pp-rc/sbert/'\n",
    "truncate=100\n",
    "max_iter = 2000\n",
    "paa_window_size = None\n",
    "undersampling = None"
   ]
  },
  {
   "cell_type": "code",
   "execution_count": 3,
   "id": "3add2e81",
   "metadata": {
    "execution": {
     "iopub.execute_input": "2023-03-09T16:35:38.284847Z",
     "iopub.status.busy": "2023-03-09T16:35:38.283783Z",
     "iopub.status.idle": "2023-03-09T16:35:38.289422Z",
     "shell.execute_reply": "2023-03-09T16:35:38.288537Z"
    },
    "papermill": {
     "duration": 0.02224,
     "end_time": "2023-03-09T16:35:38.292604",
     "exception": false,
     "start_time": "2023-03-09T16:35:38.270364",
     "status": "completed"
    },
    "tags": [
     "injected-parameters"
    ]
   },
   "outputs": [],
   "source": [
    "# Parameters\n",
    "data_path = \"/home/mattiapggioli/lyrics2ts/data/classification/pp-rc-rp/sbert/\"\n",
    "paa_window_size = 20\n",
    "undersampling = 0.3\n"
   ]
  },
  {
   "cell_type": "code",
   "execution_count": 4,
   "id": "a4f0c774",
   "metadata": {
    "execution": {
     "iopub.execute_input": "2023-03-09T16:35:38.329079Z",
     "iopub.status.busy": "2023-03-09T16:35:38.328013Z",
     "iopub.status.idle": "2023-03-09T16:36:04.092236Z",
     "shell.execute_reply": "2023-03-09T16:36:04.091550Z"
    },
    "papermill": {
     "duration": 25.778979,
     "end_time": "2023-03-09T16:36:04.094934",
     "exception": false,
     "start_time": "2023-03-09T16:35:38.315955",
     "status": "completed"
    },
    "tags": []
   },
   "outputs": [],
   "source": [
    "ts = load_time_series_txt(f'{data_path}/ts.txt')"
   ]
  },
  {
   "cell_type": "code",
   "execution_count": 5,
   "id": "5c48d154",
   "metadata": {
    "execution": {
     "iopub.execute_input": "2023-03-09T16:36:04.150516Z",
     "iopub.status.busy": "2023-03-09T16:36:04.149959Z",
     "iopub.status.idle": "2023-03-09T16:36:04.160368Z",
     "shell.execute_reply": "2023-03-09T16:36:04.158768Z"
    },
    "papermill": {
     "duration": 0.040702,
     "end_time": "2023-03-09T16:36:04.162616",
     "exception": false,
     "start_time": "2023-03-09T16:36:04.121914",
     "status": "completed"
    },
    "tags": []
   },
   "outputs": [
    {
     "data": {
      "text/plain": [
       "(36000, 130, 1)"
      ]
     },
     "execution_count": 5,
     "metadata": {},
     "output_type": "execute_result"
    }
   ],
   "source": [
    "ts.shape"
   ]
  },
  {
   "cell_type": "code",
   "execution_count": 6,
   "id": "f6274d40",
   "metadata": {
    "execution": {
     "iopub.execute_input": "2023-03-09T16:36:04.186804Z",
     "iopub.status.busy": "2023-03-09T16:36:04.186294Z",
     "iopub.status.idle": "2023-03-09T16:36:04.195916Z",
     "shell.execute_reply": "2023-03-09T16:36:04.194738Z"
    },
    "papermill": {
     "duration": 0.023696,
     "end_time": "2023-03-09T16:36:04.198111",
     "exception": false,
     "start_time": "2023-03-09T16:36:04.174415",
     "status": "completed"
    },
    "tags": []
   },
   "outputs": [],
   "source": [
    "with open(f'{data_path}/y_class.npy', 'rb') as f:\n",
    "    y = np.load(f, allow_pickle=True)"
   ]
  },
  {
   "cell_type": "code",
   "execution_count": 7,
   "id": "9d42fa3b",
   "metadata": {
    "execution": {
     "iopub.execute_input": "2023-03-09T16:36:04.221753Z",
     "iopub.status.busy": "2023-03-09T16:36:04.221289Z",
     "iopub.status.idle": "2023-03-09T16:36:04.344513Z",
     "shell.execute_reply": "2023-03-09T16:36:04.343603Z"
    },
    "papermill": {
     "duration": 0.136833,
     "end_time": "2023-03-09T16:36:04.346414",
     "exception": false,
     "start_time": "2023-03-09T16:36:04.209581",
     "status": "completed"
    },
    "tags": []
   },
   "outputs": [],
   "source": [
    "with open(f'{data_path}/X.npy', 'rb') as f:\n",
    "    X = np.load(f, allow_pickle=True)"
   ]
  },
  {
   "cell_type": "code",
   "execution_count": 8,
   "id": "1158a9da",
   "metadata": {
    "execution": {
     "iopub.execute_input": "2023-03-09T16:36:04.371407Z",
     "iopub.status.busy": "2023-03-09T16:36:04.371162Z",
     "iopub.status.idle": "2023-03-09T16:36:04.377772Z",
     "shell.execute_reply": "2023-03-09T16:36:04.376341Z"
    },
    "papermill": {
     "duration": 0.022216,
     "end_time": "2023-03-09T16:36:04.380766",
     "exception": false,
     "start_time": "2023-03-09T16:36:04.358550",
     "status": "completed"
    },
    "tags": []
   },
   "outputs": [
    {
     "data": {
      "text/plain": [
       "(36000, 384)"
      ]
     },
     "execution_count": 8,
     "metadata": {},
     "output_type": "execute_result"
    }
   ],
   "source": [
    "X.shape"
   ]
  },
  {
   "cell_type": "code",
   "execution_count": 9,
   "id": "47239790",
   "metadata": {
    "execution": {
     "iopub.execute_input": "2023-03-09T16:36:04.433259Z",
     "iopub.status.busy": "2023-03-09T16:36:04.432821Z",
     "iopub.status.idle": "2023-03-09T16:36:04.439110Z",
     "shell.execute_reply": "2023-03-09T16:36:04.438326Z"
    },
    "papermill": {
     "duration": 0.035982,
     "end_time": "2023-03-09T16:36:04.440734",
     "exception": false,
     "start_time": "2023-03-09T16:36:04.404752",
     "status": "completed"
    },
    "tags": []
   },
   "outputs": [
    {
     "data": {
      "text/plain": [
       "{'pop', 'rap', 'rock'}"
      ]
     },
     "execution_count": 9,
     "metadata": {},
     "output_type": "execute_result"
    }
   ],
   "source": [
    "set(y)"
   ]
  },
  {
   "cell_type": "code",
   "execution_count": 10,
   "id": "37609992",
   "metadata": {
    "execution": {
     "iopub.execute_input": "2023-03-09T16:36:04.462953Z",
     "iopub.status.busy": "2023-03-09T16:36:04.462705Z",
     "iopub.status.idle": "2023-03-09T16:36:04.483674Z",
     "shell.execute_reply": "2023-03-09T16:36:04.482945Z"
    },
    "papermill": {
     "duration": 0.03409,
     "end_time": "2023-03-09T16:36:04.485285",
     "exception": false,
     "start_time": "2023-03-09T16:36:04.451195",
     "status": "completed"
    },
    "tags": []
   },
   "outputs": [],
   "source": [
    "ts_train, ts_test, y_train, y_test = train_test_split(ts, y, test_size=0.20, random_state=42)"
   ]
  },
  {
   "cell_type": "code",
   "execution_count": 11,
   "id": "34508fe4",
   "metadata": {
    "execution": {
     "iopub.execute_input": "2023-03-09T16:36:04.509025Z",
     "iopub.status.busy": "2023-03-09T16:36:04.508746Z",
     "iopub.status.idle": "2023-03-09T16:36:04.565801Z",
     "shell.execute_reply": "2023-03-09T16:36:04.564947Z"
    },
    "papermill": {
     "duration": 0.073981,
     "end_time": "2023-03-09T16:36:04.569974",
     "exception": false,
     "start_time": "2023-03-09T16:36:04.495993",
     "status": "completed"
    },
    "tags": []
   },
   "outputs": [],
   "source": [
    "X_train, X_test, y_train, y_test = train_test_split(X, y, test_size=0.20, random_state=42)"
   ]
  },
  {
   "cell_type": "code",
   "execution_count": 12,
   "id": "076afac9",
   "metadata": {
    "execution": {
     "iopub.execute_input": "2023-03-09T16:36:04.641188Z",
     "iopub.status.busy": "2023-03-09T16:36:04.640657Z",
     "iopub.status.idle": "2023-03-09T16:36:04.655104Z",
     "shell.execute_reply": "2023-03-09T16:36:04.653755Z"
    },
    "papermill": {
     "duration": 0.052242,
     "end_time": "2023-03-09T16:36:04.657615",
     "exception": false,
     "start_time": "2023-03-09T16:36:04.605373",
     "status": "completed"
    },
    "tags": []
   },
   "outputs": [
    {
     "data": {
      "text/plain": [
       "array([[-0.91188074],\n",
       "       [-0.0271553 ],\n",
       "       [-0.41258324],\n",
       "       [ 0.038692  ],\n",
       "       [ 1.1609315 ],\n",
       "       [ 0.64923843],\n",
       "       [-0.54715238],\n",
       "       [-0.9211742 ],\n",
       "       [ 0.1644352 ],\n",
       "       [-1.11958945],\n",
       "       [-0.60038509],\n",
       "       [ 2.29373825],\n",
       "       [-0.37823092],\n",
       "       [-0.67587494],\n",
       "       [ 0.80229012],\n",
       "       [-0.30377317],\n",
       "       [ 0.71375263],\n",
       "       [ 1.3739069 ],\n",
       "       [ 0.91032394],\n",
       "       [-0.15719833],\n",
       "       [ 0.10732268],\n",
       "       [ 0.95267971],\n",
       "       [ 0.15079258],\n",
       "       [-0.79036101],\n",
       "       [ 1.98650484],\n",
       "       [-1.47596721],\n",
       "       [ 1.98650484],\n",
       "       [-1.43853679],\n",
       "       [ 0.48645721],\n",
       "       [ 0.93606772],\n",
       "       [ 2.00637532],\n",
       "       [ 0.85860756],\n",
       "       [ 1.95576136],\n",
       "       [ 1.33784638],\n",
       "       [-0.79106934],\n",
       "       [ 0.93795492],\n",
       "       [ 1.89279807],\n",
       "       [ 2.302497  ],\n",
       "       [ 1.19812891],\n",
       "       [ 1.50187122],\n",
       "       [ 1.47484152],\n",
       "       [-0.62849716],\n",
       "       [ 0.44831786],\n",
       "       [ 0.1906728 ],\n",
       "       [-0.33249777],\n",
       "       [-0.45090181],\n",
       "       [ 1.27725622],\n",
       "       [ 0.7508529 ],\n",
       "       [ 1.98650484],\n",
       "       [-1.47596721],\n",
       "       [ 1.98650484],\n",
       "       [-1.43853679],\n",
       "       [ 1.57318392],\n",
       "       [-1.47596721],\n",
       "       [ 1.98650484],\n",
       "       [-1.43853679],\n",
       "       [        nan],\n",
       "       [        nan],\n",
       "       [        nan],\n",
       "       [        nan],\n",
       "       [        nan],\n",
       "       [        nan],\n",
       "       [        nan],\n",
       "       [        nan],\n",
       "       [        nan],\n",
       "       [        nan],\n",
       "       [        nan],\n",
       "       [        nan],\n",
       "       [        nan],\n",
       "       [        nan],\n",
       "       [        nan],\n",
       "       [        nan],\n",
       "       [        nan],\n",
       "       [        nan],\n",
       "       [        nan],\n",
       "       [        nan],\n",
       "       [        nan],\n",
       "       [        nan],\n",
       "       [        nan],\n",
       "       [        nan],\n",
       "       [        nan],\n",
       "       [        nan],\n",
       "       [        nan],\n",
       "       [        nan],\n",
       "       [        nan],\n",
       "       [        nan],\n",
       "       [        nan],\n",
       "       [        nan],\n",
       "       [        nan],\n",
       "       [        nan],\n",
       "       [        nan],\n",
       "       [        nan],\n",
       "       [        nan],\n",
       "       [        nan],\n",
       "       [        nan],\n",
       "       [        nan],\n",
       "       [        nan],\n",
       "       [        nan],\n",
       "       [        nan],\n",
       "       [        nan],\n",
       "       [        nan],\n",
       "       [        nan],\n",
       "       [        nan],\n",
       "       [        nan],\n",
       "       [        nan],\n",
       "       [        nan],\n",
       "       [        nan],\n",
       "       [        nan],\n",
       "       [        nan],\n",
       "       [        nan],\n",
       "       [        nan],\n",
       "       [        nan],\n",
       "       [        nan],\n",
       "       [        nan],\n",
       "       [        nan],\n",
       "       [        nan],\n",
       "       [        nan],\n",
       "       [        nan],\n",
       "       [        nan],\n",
       "       [        nan],\n",
       "       [        nan],\n",
       "       [        nan],\n",
       "       [        nan],\n",
       "       [        nan],\n",
       "       [        nan],\n",
       "       [        nan],\n",
       "       [        nan],\n",
       "       [        nan],\n",
       "       [        nan],\n",
       "       [        nan]])"
      ]
     },
     "execution_count": 12,
     "metadata": {},
     "output_type": "execute_result"
    }
   ],
   "source": [
    "random.choice(ts_train)"
   ]
  },
  {
   "cell_type": "code",
   "execution_count": 13,
   "id": "ca66457a",
   "metadata": {
    "execution": {
     "iopub.execute_input": "2023-03-09T16:36:04.688302Z",
     "iopub.status.busy": "2023-03-09T16:36:04.687483Z",
     "iopub.status.idle": "2023-03-09T16:36:05.208930Z",
     "shell.execute_reply": "2023-03-09T16:36:05.207992Z"
    },
    "papermill": {
     "duration": 0.539013,
     "end_time": "2023-03-09T16:36:05.210909",
     "exception": false,
     "start_time": "2023-03-09T16:36:04.671896",
     "status": "completed"
    },
    "tags": []
   },
   "outputs": [
    {
     "data": {
      "text/plain": [
       "<AxesSubplot:ylabel='Count'>"
      ]
     },
     "execution_count": 13,
     "metadata": {},
     "output_type": "execute_result"
    },
    {
     "data": {
      "image/png": "[encoded data removed]",
      "text/plain": [
       "<Figure size 640x480 with 1 Axes>"
      ]
     },
     "metadata": {},
     "output_type": "display_data"
    }
   ],
   "source": [
    "sns.histplot([t[~np.any(np.isnan(t), axis=1)].shape[0] for t in ts_train])"
   ]
  },
  {
   "cell_type": "code",
   "execution_count": 14,
   "id": "c2ae286f",
   "metadata": {
    "execution": {
     "iopub.execute_input": "2023-03-09T16:36:05.236769Z",
     "iopub.status.busy": "2023-03-09T16:36:05.236434Z",
     "iopub.status.idle": "2023-03-09T16:36:05.240947Z",
     "shell.execute_reply": "2023-03-09T16:36:05.240057Z"
    },
    "papermill": {
     "duration": 0.017705,
     "end_time": "2023-03-09T16:36:05.242318",
     "exception": false,
     "start_time": "2023-03-09T16:36:05.224613",
     "status": "completed"
    },
    "tags": []
   },
   "outputs": [],
   "source": [
    "ts_train = ts_train[:, :truncate, :]\n",
    "ts_test = ts_test[:, :truncate, :]"
   ]
  },
  {
   "cell_type": "code",
   "execution_count": 15,
   "id": "3218baa4",
   "metadata": {
    "execution": {
     "iopub.execute_input": "2023-03-09T16:36:05.265902Z",
     "iopub.status.busy": "2023-03-09T16:36:05.265603Z",
     "iopub.status.idle": "2023-03-09T16:36:05.351149Z",
     "shell.execute_reply": "2023-03-09T16:36:05.350173Z"
    },
    "papermill": {
     "duration": 0.101033,
     "end_time": "2023-03-09T16:36:05.354550",
     "exception": false,
     "start_time": "2023-03-09T16:36:05.253517",
     "status": "completed"
    },
    "tags": []
   },
   "outputs": [],
   "source": [
    "mean_arr = np.nanmean(ts_train, axis=1, keepdims=True)\n",
    "nan_indices = np.isnan(ts_train)\n",
    "ts_train[nan_indices] = np.take(mean_arr, np.nonzero(nan_indices)[0])\n",
    "\n",
    "mean_arr = np.nanmean(ts_test, axis=1, keepdims=True)\n",
    "nan_indices = np.isnan(ts_test)\n",
    "ts_test[nan_indices] = np.take(mean_arr, np.nonzero(nan_indices)[0])"
   ]
  },
  {
   "cell_type": "code",
   "execution_count": 16,
   "id": "d369691b",
   "metadata": {
    "execution": {
     "iopub.execute_input": "2023-03-09T16:36:05.432738Z",
     "iopub.status.busy": "2023-03-09T16:36:05.431702Z",
     "iopub.status.idle": "2023-03-09T16:36:05.450127Z",
     "shell.execute_reply": "2023-03-09T16:36:05.449054Z"
    },
    "papermill": {
     "duration": 0.061178,
     "end_time": "2023-03-09T16:36:05.452559",
     "exception": false,
     "start_time": "2023-03-09T16:36:05.391381",
     "status": "completed"
    },
    "tags": []
   },
   "outputs": [
    {
     "data": {
      "text/plain": [
       "0"
      ]
     },
     "execution_count": 16,
     "metadata": {},
     "output_type": "execute_result"
    }
   ],
   "source": [
    "np.count_nonzero(np.isnan(X_train))"
   ]
  },
  {
   "cell_type": "code",
   "execution_count": 17,
   "id": "0d602e18",
   "metadata": {
    "execution": {
     "iopub.execute_input": "2023-03-09T16:36:05.482569Z",
     "iopub.status.busy": "2023-03-09T16:36:05.481557Z",
     "iopub.status.idle": "2023-03-09T16:36:05.501052Z",
     "shell.execute_reply": "2023-03-09T16:36:05.499847Z"
    },
    "papermill": {
     "duration": 0.034634,
     "end_time": "2023-03-09T16:36:05.503181",
     "exception": false,
     "start_time": "2023-03-09T16:36:05.468547",
     "status": "completed"
    },
    "tags": []
   },
   "outputs": [],
   "source": [
    "X_train[np.isnan(X_train)] = 0\n",
    "X_test[np.isnan(X_test)] = 0"
   ]
  },
  {
   "cell_type": "code",
   "execution_count": 18,
   "id": "45c5102c",
   "metadata": {
    "execution": {
     "iopub.execute_input": "2023-03-09T16:36:05.530435Z",
     "iopub.status.busy": "2023-03-09T16:36:05.529947Z",
     "iopub.status.idle": "2023-03-09T16:36:09.239185Z",
     "shell.execute_reply": "2023-03-09T16:36:09.238246Z"
    },
    "papermill": {
     "duration": 3.725291,
     "end_time": "2023-03-09T16:36:09.242290",
     "exception": false,
     "start_time": "2023-03-09T16:36:05.516999",
     "status": "completed"
    },
    "tags": []
   },
   "outputs": [],
   "source": [
    "save_time_series_txt(f'{data_path}/ts_train.txt', ts_train)\n",
    "save_time_series_txt(f'{data_path}/ts_test.txt', ts_test)"
   ]
  },
  {
   "cell_type": "code",
   "execution_count": 19,
   "id": "39830f37",
   "metadata": {
    "execution": {
     "iopub.execute_input": "2023-03-09T16:36:09.306825Z",
     "iopub.status.busy": "2023-03-09T16:36:09.306533Z",
     "iopub.status.idle": "2023-03-09T16:36:09.386038Z",
     "shell.execute_reply": "2023-03-09T16:36:09.385116Z"
    },
    "papermill": {
     "duration": 0.115394,
     "end_time": "2023-03-09T16:36:09.388827",
     "exception": false,
     "start_time": "2023-03-09T16:36:09.273433",
     "status": "completed"
    },
    "tags": []
   },
   "outputs": [],
   "source": [
    "with open(f'{data_path}/X_train.npy', 'wb') as f:\n",
    "    np.save(f, X_train, allow_pickle=True)\n",
    "\n",
    "with open(f'{data_path}/X_test.npy', 'wb') as f:\n",
    "    np.save(f, X_test, allow_pickle=True)"
   ]
  },
  {
   "cell_type": "code",
   "execution_count": 20,
   "id": "795fd2be",
   "metadata": {
    "execution": {
     "iopub.execute_input": "2023-03-09T16:36:09.453567Z",
     "iopub.status.busy": "2023-03-09T16:36:09.453264Z",
     "iopub.status.idle": "2023-03-09T16:36:09.460076Z",
     "shell.execute_reply": "2023-03-09T16:36:09.459001Z"
    },
    "papermill": {
     "duration": 0.043386,
     "end_time": "2023-03-09T16:36:09.463556",
     "exception": false,
     "start_time": "2023-03-09T16:36:09.420170",
     "status": "completed"
    },
    "tags": []
   },
   "outputs": [],
   "source": [
    "with open(f'{data_path}/y_train.npy', 'wb') as f:\n",
    "    np.save(f, y_train, allow_pickle=True)\n",
    "\n",
    "with open(f'{data_path}/y_test.npy', 'wb') as f:\n",
    "    np.save(f, y_test, allow_pickle=True)"
   ]
  },
  {
   "cell_type": "code",
   "execution_count": 21,
   "id": "08bda153",
   "metadata": {
    "execution": {
     "iopub.execute_input": "2023-03-09T16:36:09.499485Z",
     "iopub.status.busy": "2023-03-09T16:36:09.499022Z",
     "iopub.status.idle": "2023-03-09T16:36:09.725358Z",
     "shell.execute_reply": "2023-03-09T16:36:09.724620Z"
    },
    "papermill": {
     "duration": 0.242088,
     "end_time": "2023-03-09T16:36:09.728103",
     "exception": false,
     "start_time": "2023-03-09T16:36:09.486015",
     "status": "completed"
    },
    "tags": []
   },
   "outputs": [
    {
     "data": {
      "text/plain": [
       "[<matplotlib.lines.Line2D at 0x7f7951457310>]"
      ]
     },
     "execution_count": 21,
     "metadata": {},
     "output_type": "execute_result"
    },
    {
     "data": {
      "image/png": "[encoded data removed]",
      "text/plain": [
       "<Figure size 640x480 with 1 Axes>"
      ]
     },
     "metadata": {},
     "output_type": "display_data"
    }
   ],
   "source": [
    "plt.plot(random.choice(ts_train))"
   ]
  },
  {
   "cell_type": "code",
   "execution_count": 22,
   "id": "98ce9d63",
   "metadata": {
    "execution": {
     "iopub.execute_input": "2023-03-09T16:36:09.791891Z",
     "iopub.status.busy": "2023-03-09T16:36:09.791340Z",
     "iopub.status.idle": "2023-03-09T16:36:09.797318Z",
     "shell.execute_reply": "2023-03-09T16:36:09.796370Z"
    },
    "papermill": {
     "duration": 0.042221,
     "end_time": "2023-03-09T16:36:09.801071",
     "exception": false,
     "start_time": "2023-03-09T16:36:09.758850",
     "status": "completed"
    },
    "tags": []
   },
   "outputs": [],
   "source": [
    "# Parameters that require knowing if it's binary or multiclass (LightGBM, metrics)\n",
    "if len(set(y)) == 2:\n",
    "    avg_par = 'macro'\n",
    "    obj_par = 'binary'\n",
    "elif len(set(y)) > 2:\n",
    "    avg_par = 'macro'\n",
    "    obj_par = 'multiclass'"
   ]
  },
  {
   "cell_type": "markdown",
   "id": "228f1b39",
   "metadata": {
    "papermill": {
     "duration": 0.011396,
     "end_time": "2023-03-09T16:36:09.836181",
     "exception": false,
     "start_time": "2023-03-09T16:36:09.824785",
     "status": "completed"
    },
    "tags": []
   },
   "source": [
    "## Classification"
   ]
  },
  {
   "cell_type": "code",
   "execution_count": 23,
   "id": "34bb73ff",
   "metadata": {
    "execution": {
     "iopub.execute_input": "2023-03-09T16:36:09.861140Z",
     "iopub.status.busy": "2023-03-09T16:36:09.860624Z",
     "iopub.status.idle": "2023-03-09T16:36:09.929656Z",
     "shell.execute_reply": "2023-03-09T16:36:09.928336Z"
    },
    "papermill": {
     "duration": 0.085097,
     "end_time": "2023-03-09T16:36:09.932645",
     "exception": false,
     "start_time": "2023-03-09T16:36:09.847548",
     "status": "completed"
    },
    "tags": []
   },
   "outputs": [],
   "source": [
    "from sklearn.tree import DecisionTreeClassifier\n",
    "import lightgbm as lgbm\n",
    "from sklearn.ensemble import RandomForestClassifier"
   ]
  },
  {
   "cell_type": "code",
   "execution_count": 24,
   "id": "02aaee18",
   "metadata": {
    "execution": {
     "iopub.execute_input": "2023-03-09T16:36:09.961338Z",
     "iopub.status.busy": "2023-03-09T16:36:09.961007Z",
     "iopub.status.idle": "2023-03-09T16:36:09.965021Z",
     "shell.execute_reply": "2023-03-09T16:36:09.964101Z"
    },
    "papermill": {
     "duration": 0.01923,
     "end_time": "2023-03-09T16:36:09.966531",
     "exception": false,
     "start_time": "2023-03-09T16:36:09.947301",
     "status": "completed"
    },
    "tags": []
   },
   "outputs": [],
   "source": [
    "metrics_data = {}"
   ]
  },
  {
   "cell_type": "markdown",
   "id": "b49309ed",
   "metadata": {
    "papermill": {
     "duration": 0.011321,
     "end_time": "2023-03-09T16:36:09.989648",
     "exception": false,
     "start_time": "2023-03-09T16:36:09.978327",
     "status": "completed"
    },
    "tags": []
   },
   "source": [
    "### Baseline: global features (No Time Series)"
   ]
  },
  {
   "cell_type": "code",
   "execution_count": 25,
   "id": "35eb9f66",
   "metadata": {
    "execution": {
     "iopub.execute_input": "2023-03-09T16:36:10.014961Z",
     "iopub.status.busy": "2023-03-09T16:36:10.014105Z",
     "iopub.status.idle": "2023-03-09T16:36:10.018900Z",
     "shell.execute_reply": "2023-03-09T16:36:10.018046Z"
    },
    "papermill": {
     "duration": 0.019394,
     "end_time": "2023-03-09T16:36:10.020510",
     "exception": false,
     "start_time": "2023-03-09T16:36:10.001116",
     "status": "completed"
    },
    "tags": []
   },
   "outputs": [],
   "source": [
    "metrics_data['Global'] = {}"
   ]
  },
  {
   "cell_type": "markdown",
   "id": "29cd5044",
   "metadata": {
    "papermill": {
     "duration": 0.011358,
     "end_time": "2023-03-09T16:36:10.043491",
     "exception": false,
     "start_time": "2023-03-09T16:36:10.032133",
     "status": "completed"
    },
    "tags": []
   },
   "source": [
    "**Decision Tree**"
   ]
  },
  {
   "cell_type": "code",
   "execution_count": 26,
   "id": "9ef4f037",
   "metadata": {
    "execution": {
     "iopub.execute_input": "2023-03-09T16:36:10.068334Z",
     "iopub.status.busy": "2023-03-09T16:36:10.067908Z",
     "iopub.status.idle": "2023-03-09T16:36:37.841238Z",
     "shell.execute_reply": "2023-03-09T16:36:37.839684Z"
    },
    "papermill": {
     "duration": 27.789127,
     "end_time": "2023-03-09T16:36:37.844273",
     "exception": false,
     "start_time": "2023-03-09T16:36:10.055146",
     "status": "completed"
    },
    "tags": []
   },
   "outputs": [
    {
     "data": {
      "text/html": [
       "<style>#sk-container-id-1 {color: black;background-color: white;}#sk-container-id-1 pre{padding: 0;}#sk-container-id-1 div.sk-toggleable {background-color: white;}#sk-container-id-1 label.sk-toggleable__label {cursor: pointer;display: block;width: 100%;margin-bottom: 0;padding: 0.3em;box-sizing: border-box;text-align: center;}#sk-container-id-1 label.sk-toggleable__label-arrow:before {content: \"▸\";float: left;margin-right: 0.25em;color: #696969;}#sk-container-id-1 label.sk-toggleable__label-arrow:hover:before {color: black;}#sk-container-id-1 div.sk-estimator:hover label.sk-toggleable__label-arrow:before {color: black;}#sk-container-id-1 div.sk-toggleable__content {max-height: 0;max-width: 0;overflow: hidden;text-align: left;background-color: #f0f8ff;}#sk-container-id-1 div.sk-toggleable__content pre {margin: 0.2em;color: black;border-radius: 0.25em;background-color: #f0f8ff;}#sk-container-id-1 input.sk-toggleable__control:checked~div.sk-toggleable__content {max-height: 200px;max-width: 100%;overflow: auto;}#sk-container-id-1 input.sk-toggleable__control:checked~label.sk-toggleable__label-arrow:before {content: \"▾\";}#sk-container-id-1 div.sk-estimator input.sk-toggleable__control:checked~label.sk-toggleable__label {background-color: #d4ebff;}#sk-container-id-1 div.sk-label input.sk-toggleable__control:checked~label.sk-toggleable__label {background-color: #d4ebff;}#sk-container-id-1 input.sk-hidden--visually {border: 0;clip: rect(1px 1px 1px 1px);clip: rect(1px, 1px, 1px, 1px);height: 1px;margin: -1px;overflow: hidden;padding: 0;position: absolute;width: 1px;}#sk-container-id-1 div.sk-estimator {font-family: monospace;background-color: #f0f8ff;border: 1px dotted black;border-radius: 0.25em;box-sizing: border-box;margin-bottom: 0.5em;}#sk-container-id-1 div.sk-estimator:hover {background-color: #d4ebff;}#sk-container-id-1 div.sk-parallel-item::after {content: \"\";width: 100%;border-bottom: 1px solid gray;flex-grow: 1;}#sk-container-id-1 div.sk-label:hover label.sk-toggleable__label {background-color: #d4ebff;}#sk-container-id-1 div.sk-serial::before {content: \"\";position: absolute;border-left: 1px solid gray;box-sizing: border-box;top: 0;bottom: 0;left: 50%;z-index: 0;}#sk-container-id-1 div.sk-serial {display: flex;flex-direction: column;align-items: center;background-color: white;padding-right: 0.2em;padding-left: 0.2em;position: relative;}#sk-container-id-1 div.sk-item {position: relative;z-index: 1;}#sk-container-id-1 div.sk-parallel {display: flex;align-items: stretch;justify-content: center;background-color: white;position: relative;}#sk-container-id-1 div.sk-item::before, #sk-container-id-1 div.sk-parallel-item::before {content: \"\";position: absolute;border-left: 1px solid gray;box-sizing: border-box;top: 0;bottom: 0;left: 50%;z-index: -1;}#sk-container-id-1 div.sk-parallel-item {display: flex;flex-direction: column;z-index: 1;position: relative;background-color: white;}#sk-container-id-1 div.sk-parallel-item:first-child::after {align-self: flex-end;width: 50%;}#sk-container-id-1 div.sk-parallel-item:last-child::after {align-self: flex-start;width: 50%;}#sk-container-id-1 div.sk-parallel-item:only-child::after {width: 0;}#sk-container-id-1 div.sk-dashed-wrapped {border: 1px dashed gray;margin: 0 0.4em 0.5em 0.4em;box-sizing: border-box;padding-bottom: 0.4em;background-color: white;}#sk-container-id-1 div.sk-label label {font-family: monospace;font-weight: bold;display: inline-block;line-height: 1.2em;}#sk-container-id-1 div.sk-label-container {text-align: center;}#sk-container-id-1 div.sk-container {/* jupyter's `normalize.less` sets `[hidden] { display: none; }` but bootstrap.min.css set `[hidden] { display: none !important; }` so we also need the `!important` here to be able to override the default hidden behavior on the sphinx rendered scikit-learn.org. See: https://github.com/scikit-learn/scikit-learn/issues/21755 */display: inline-block !important;position: relative;}#sk-container-id-1 div.sk-text-repr-fallback {display: none;}</style><div id=\"sk-container-id-1\" class=\"sk-top-container\"><div class=\"sk-text-repr-fallback\"><pre>DecisionTreeClassifier()</pre><b>In a Jupyter environment, please rerun this cell to show the HTML representation or trust the notebook. <br />On GitHub, the HTML representation is unable to render, please try loading this page with nbviewer.org.</b></div><div class=\"sk-container\" hidden><div class=\"sk-item\"><div class=\"sk-estimator sk-toggleable\"><input class=\"sk-toggleable__control sk-hidden--visually\" id=\"sk-estimator-id-1\" type=\"checkbox\" checked><label for=\"sk-estimator-id-1\" class=\"sk-toggleable__label sk-toggleable__label-arrow\">DecisionTreeClassifier</label><div class=\"sk-toggleable__content\"><pre>DecisionTreeClassifier()</pre></div></div></div></div></div>"
      ],
      "text/plain": [
       "DecisionTreeClassifier()"
      ]
     },
     "execution_count": 26,
     "metadata": {},
     "output_type": "execute_result"
    }
   ],
   "source": [
    "clf = DecisionTreeClassifier()\n",
    "clf.fit(X_train, y_train)"
   ]
  },
  {
   "cell_type": "code",
   "execution_count": 27,
   "id": "9c50acc4",
   "metadata": {
    "execution": {
     "iopub.execute_input": "2023-03-09T16:36:37.916364Z",
     "iopub.status.busy": "2023-03-09T16:36:37.914729Z",
     "iopub.status.idle": "2023-03-09T16:36:38.091176Z",
     "shell.execute_reply": "2023-03-09T16:36:38.089696Z"
    },
    "papermill": {
     "duration": 0.216183,
     "end_time": "2023-03-09T16:36:38.095005",
     "exception": false,
     "start_time": "2023-03-09T16:36:37.878822",
     "status": "completed"
    },
    "tags": []
   },
   "outputs": [
    {
     "name": "stdout",
     "output_type": "stream",
     "text": [
      "              precision    recall  f1-score   support\n",
      "\n",
      "         pop       0.49      0.50      0.50      2400\n",
      "         rap       0.73      0.76      0.75      2376\n",
      "        rock       0.53      0.50      0.51      2424\n",
      "\n",
      "    accuracy                           0.59      7200\n",
      "   macro avg       0.58      0.59      0.59      7200\n",
      "weighted avg       0.58      0.59      0.58      7200\n",
      "\n"
     ]
    }
   ],
   "source": [
    "y_pred = clf.predict(X_test)\n",
    "print(classification_report(y_test, y_pred))"
   ]
  },
  {
   "cell_type": "code",
   "execution_count": 28,
   "id": "8866c3c3",
   "metadata": {
    "execution": {
     "iopub.execute_input": "2023-03-09T16:36:38.168438Z",
     "iopub.status.busy": "2023-03-09T16:36:38.167931Z",
     "iopub.status.idle": "2023-03-09T16:36:38.307609Z",
     "shell.execute_reply": "2023-03-09T16:36:38.306809Z"
    },
    "papermill": {
     "duration": 0.180146,
     "end_time": "2023-03-09T16:36:38.310761",
     "exception": false,
     "start_time": "2023-03-09T16:36:38.130615",
     "status": "completed"
    },
    "tags": []
   },
   "outputs": [],
   "source": [
    "acc = accuracy_score(y_test, y_pred)\n",
    "pre = precision_score(y_test, y_pred, average=avg_par)\n",
    "rec = recall_score(y_test, y_pred, average=avg_par)\n",
    "f1 = f1_score(y_test, y_pred, average=avg_par)\n",
    "\n",
    "metrics_data['Global']['DecisionTree'] = {'Accuracy': acc, 'Precision': pre, 'Recall': rec, 'F1': f1}"
   ]
  },
  {
   "cell_type": "markdown",
   "id": "28aa5a63",
   "metadata": {
    "papermill": {
     "duration": 0.033986,
     "end_time": "2023-03-09T16:36:38.378333",
     "exception": false,
     "start_time": "2023-03-09T16:36:38.344347",
     "status": "completed"
    },
    "tags": []
   },
   "source": [
    "**Random Forest**"
   ]
  },
  {
   "cell_type": "code",
   "execution_count": 29,
   "id": "0e5e2310",
   "metadata": {
    "execution": {
     "iopub.execute_input": "2023-03-09T16:36:38.410489Z",
     "iopub.status.busy": "2023-03-09T16:36:38.410178Z",
     "iopub.status.idle": "2023-03-09T16:37:49.443710Z",
     "shell.execute_reply": "2023-03-09T16:37:49.443037Z"
    },
    "papermill": {
     "duration": 71.065444,
     "end_time": "2023-03-09T16:37:49.462646",
     "exception": false,
     "start_time": "2023-03-09T16:36:38.397202",
     "status": "completed"
    },
    "tags": []
   },
   "outputs": [
    {
     "data": {
      "text/html": [
       "<style>#sk-container-id-2 {color: black;background-color: white;}#sk-container-id-2 pre{padding: 0;}#sk-container-id-2 div.sk-toggleable {background-color: white;}#sk-container-id-2 label.sk-toggleable__label {cursor: pointer;display: block;width: 100%;margin-bottom: 0;padding: 0.3em;box-sizing: border-box;text-align: center;}#sk-container-id-2 label.sk-toggleable__label-arrow:before {content: \"▸\";float: left;margin-right: 0.25em;color: #696969;}#sk-container-id-2 label.sk-toggleable__label-arrow:hover:before {color: black;}#sk-container-id-2 div.sk-estimator:hover label.sk-toggleable__label-arrow:before {color: black;}#sk-container-id-2 div.sk-toggleable__content {max-height: 0;max-width: 0;overflow: hidden;text-align: left;background-color: #f0f8ff;}#sk-container-id-2 div.sk-toggleable__content pre {margin: 0.2em;color: black;border-radius: 0.25em;background-color: #f0f8ff;}#sk-container-id-2 input.sk-toggleable__control:checked~div.sk-toggleable__content {max-height: 200px;max-width: 100%;overflow: auto;}#sk-container-id-2 input.sk-toggleable__control:checked~label.sk-toggleable__label-arrow:before {content: \"▾\";}#sk-container-id-2 div.sk-estimator input.sk-toggleable__control:checked~label.sk-toggleable__label {background-color: #d4ebff;}#sk-container-id-2 div.sk-label input.sk-toggleable__control:checked~label.sk-toggleable__label {background-color: #d4ebff;}#sk-container-id-2 input.sk-hidden--visually {border: 0;clip: rect(1px 1px 1px 1px);clip: rect(1px, 1px, 1px, 1px);height: 1px;margin: -1px;overflow: hidden;padding: 0;position: absolute;width: 1px;}#sk-container-id-2 div.sk-estimator {font-family: monospace;background-color: #f0f8ff;border: 1px dotted black;border-radius: 0.25em;box-sizing: border-box;margin-bottom: 0.5em;}#sk-container-id-2 div.sk-estimator:hover {background-color: #d4ebff;}#sk-container-id-2 div.sk-parallel-item::after {content: \"\";width: 100%;border-bottom: 1px solid gray;flex-grow: 1;}#sk-container-id-2 div.sk-label:hover label.sk-toggleable__label {background-color: #d4ebff;}#sk-container-id-2 div.sk-serial::before {content: \"\";position: absolute;border-left: 1px solid gray;box-sizing: border-box;top: 0;bottom: 0;left: 50%;z-index: 0;}#sk-container-id-2 div.sk-serial {display: flex;flex-direction: column;align-items: center;background-color: white;padding-right: 0.2em;padding-left: 0.2em;position: relative;}#sk-container-id-2 div.sk-item {position: relative;z-index: 1;}#sk-container-id-2 div.sk-parallel {display: flex;align-items: stretch;justify-content: center;background-color: white;position: relative;}#sk-container-id-2 div.sk-item::before, #sk-container-id-2 div.sk-parallel-item::before {content: \"\";position: absolute;border-left: 1px solid gray;box-sizing: border-box;top: 0;bottom: 0;left: 50%;z-index: -1;}#sk-container-id-2 div.sk-parallel-item {display: flex;flex-direction: column;z-index: 1;position: relative;background-color: white;}#sk-container-id-2 div.sk-parallel-item:first-child::after {align-self: flex-end;width: 50%;}#sk-container-id-2 div.sk-parallel-item:last-child::after {align-self: flex-start;width: 50%;}#sk-container-id-2 div.sk-parallel-item:only-child::after {width: 0;}#sk-container-id-2 div.sk-dashed-wrapped {border: 1px dashed gray;margin: 0 0.4em 0.5em 0.4em;box-sizing: border-box;padding-bottom: 0.4em;background-color: white;}#sk-container-id-2 div.sk-label label {font-family: monospace;font-weight: bold;display: inline-block;line-height: 1.2em;}#sk-container-id-2 div.sk-label-container {text-align: center;}#sk-container-id-2 div.sk-container {/* jupyter's `normalize.less` sets `[hidden] { display: none; }` but bootstrap.min.css set `[hidden] { display: none !important; }` so we also need the `!important` here to be able to override the default hidden behavior on the sphinx rendered scikit-learn.org. See: https://github.com/scikit-learn/scikit-learn/issues/21755 */display: inline-block !important;position: relative;}#sk-container-id-2 div.sk-text-repr-fallback {display: none;}</style><div id=\"sk-container-id-2\" class=\"sk-top-container\"><div class=\"sk-text-repr-fallback\"><pre>RandomForestClassifier(random_state=42)</pre><b>In a Jupyter environment, please rerun this cell to show the HTML representation or trust the notebook. <br />On GitHub, the HTML representation is unable to render, please try loading this page with nbviewer.org.</b></div><div class=\"sk-container\" hidden><div class=\"sk-item\"><div class=\"sk-estimator sk-toggleable\"><input class=\"sk-toggleable__control sk-hidden--visually\" id=\"sk-estimator-id-2\" type=\"checkbox\" checked><label for=\"sk-estimator-id-2\" class=\"sk-toggleable__label sk-toggleable__label-arrow\">RandomForestClassifier</label><div class=\"sk-toggleable__content\"><pre>RandomForestClassifier(random_state=42)</pre></div></div></div></div></div>"
      ],
      "text/plain": [
       "RandomForestClassifier(random_state=42)"
      ]
     },
     "execution_count": 29,
     "metadata": {},
     "output_type": "execute_result"
    }
   ],
   "source": [
    "clf = RandomForestClassifier(random_state=42)\n",
    "clf.fit(X_train, y_train)"
   ]
  },
  {
   "cell_type": "code",
   "execution_count": 30,
   "id": "4bd1304b",
   "metadata": {
    "execution": {
     "iopub.execute_input": "2023-03-09T16:37:49.498824Z",
     "iopub.status.busy": "2023-03-09T16:37:49.498473Z",
     "iopub.status.idle": "2023-03-09T16:37:49.914017Z",
     "shell.execute_reply": "2023-03-09T16:37:49.913305Z"
    },
    "papermill": {
     "duration": 0.43758,
     "end_time": "2023-03-09T16:37:49.916707",
     "exception": false,
     "start_time": "2023-03-09T16:37:49.479127",
     "status": "completed"
    },
    "tags": []
   },
   "outputs": [
    {
     "name": "stdout",
     "output_type": "stream",
     "text": [
      "              precision    recall  f1-score   support\n",
      "\n",
      "         pop       0.61      0.66      0.63      2400\n",
      "         rap       0.91      0.83      0.87      2376\n",
      "        rock       0.64      0.64      0.64      2424\n",
      "\n",
      "    accuracy                           0.71      7200\n",
      "   macro avg       0.72      0.71      0.71      7200\n",
      "weighted avg       0.72      0.71      0.71      7200\n",
      "\n"
     ]
    }
   ],
   "source": [
    "y_pred = clf.predict(X_test)\n",
    "print(classification_report(y_test, y_pred))"
   ]
  },
  {
   "cell_type": "code",
   "execution_count": 31,
   "id": "43174ba2",
   "metadata": {
    "execution": {
     "iopub.execute_input": "2023-03-09T16:37:49.947113Z",
     "iopub.status.busy": "2023-03-09T16:37:49.946776Z",
     "iopub.status.idle": "2023-03-09T16:37:50.059908Z",
     "shell.execute_reply": "2023-03-09T16:37:50.059247Z"
    },
    "papermill": {
     "duration": 0.129508,
     "end_time": "2023-03-09T16:37:50.062568",
     "exception": false,
     "start_time": "2023-03-09T16:37:49.933060",
     "status": "completed"
    },
    "tags": []
   },
   "outputs": [],
   "source": [
    "acc = accuracy_score(y_test, y_pred)\n",
    "pre = precision_score(y_test, y_pred, average=avg_par)\n",
    "rec = recall_score(y_test, y_pred, average=avg_par)\n",
    "f1 = f1_score(y_test, y_pred, average=avg_par)\n",
    "\n",
    "metrics_data['Global']['RandomForest'] = {'Accuracy': acc, 'Precision': pre, 'Recall': rec, 'F1': f1}"
   ]
  },
  {
   "cell_type": "markdown",
   "id": "22c98ac5",
   "metadata": {
    "papermill": {
     "duration": 0.014968,
     "end_time": "2023-03-09T16:37:50.095370",
     "exception": false,
     "start_time": "2023-03-09T16:37:50.080402",
     "status": "completed"
    },
    "tags": []
   },
   "source": [
    "**LightGBM**"
   ]
  },
  {
   "cell_type": "code",
   "execution_count": 32,
   "id": "c93b818c",
   "metadata": {
    "execution": {
     "iopub.execute_input": "2023-03-09T16:37:50.127666Z",
     "iopub.status.busy": "2023-03-09T16:37:50.126821Z",
     "iopub.status.idle": "2023-03-09T16:38:16.049316Z",
     "shell.execute_reply": "2023-03-09T16:38:16.048252Z"
    },
    "papermill": {
     "duration": 25.942664,
     "end_time": "2023-03-09T16:38:16.052942",
     "exception": false,
     "start_time": "2023-03-09T16:37:50.110278",
     "status": "completed"
    },
    "tags": []
   },
   "outputs": [
    {
     "data": {
      "text/html": [
       "<style>#sk-container-id-3 {color: black;background-color: white;}#sk-container-id-3 pre{padding: 0;}#sk-container-id-3 div.sk-toggleable {background-color: white;}#sk-container-id-3 label.sk-toggleable__label {cursor: pointer;display: block;width: 100%;margin-bottom: 0;padding: 0.3em;box-sizing: border-box;text-align: center;}#sk-container-id-3 label.sk-toggleable__label-arrow:before {content: \"▸\";float: left;margin-right: 0.25em;color: #696969;}#sk-container-id-3 label.sk-toggleable__label-arrow:hover:before {color: black;}#sk-container-id-3 div.sk-estimator:hover label.sk-toggleable__label-arrow:before {color: black;}#sk-container-id-3 div.sk-toggleable__content {max-height: 0;max-width: 0;overflow: hidden;text-align: left;background-color: #f0f8ff;}#sk-container-id-3 div.sk-toggleable__content pre {margin: 0.2em;color: black;border-radius: 0.25em;background-color: #f0f8ff;}#sk-container-id-3 input.sk-toggleable__control:checked~div.sk-toggleable__content {max-height: 200px;max-width: 100%;overflow: auto;}#sk-container-id-3 input.sk-toggleable__control:checked~label.sk-toggleable__label-arrow:before {content: \"▾\";}#sk-container-id-3 div.sk-estimator input.sk-toggleable__control:checked~label.sk-toggleable__label {background-color: #d4ebff;}#sk-container-id-3 div.sk-label input.sk-toggleable__control:checked~label.sk-toggleable__label {background-color: #d4ebff;}#sk-container-id-3 input.sk-hidden--visually {border: 0;clip: rect(1px 1px 1px 1px);clip: rect(1px, 1px, 1px, 1px);height: 1px;margin: -1px;overflow: hidden;padding: 0;position: absolute;width: 1px;}#sk-container-id-3 div.sk-estimator {font-family: monospace;background-color: #f0f8ff;border: 1px dotted black;border-radius: 0.25em;box-sizing: border-box;margin-bottom: 0.5em;}#sk-container-id-3 div.sk-estimator:hover {background-color: #d4ebff;}#sk-container-id-3 div.sk-parallel-item::after {content: \"\";width: 100%;border-bottom: 1px solid gray;flex-grow: 1;}#sk-container-id-3 div.sk-label:hover label.sk-toggleable__label {background-color: #d4ebff;}#sk-container-id-3 div.sk-serial::before {content: \"\";position: absolute;border-left: 1px solid gray;box-sizing: border-box;top: 0;bottom: 0;left: 50%;z-index: 0;}#sk-container-id-3 div.sk-serial {display: flex;flex-direction: column;align-items: center;background-color: white;padding-right: 0.2em;padding-left: 0.2em;position: relative;}#sk-container-id-3 div.sk-item {position: relative;z-index: 1;}#sk-container-id-3 div.sk-parallel {display: flex;align-items: stretch;justify-content: center;background-color: white;position: relative;}#sk-container-id-3 div.sk-item::before, #sk-container-id-3 div.sk-parallel-item::before {content: \"\";position: absolute;border-left: 1px solid gray;box-sizing: border-box;top: 0;bottom: 0;left: 50%;z-index: -1;}#sk-container-id-3 div.sk-parallel-item {display: flex;flex-direction: column;z-index: 1;position: relative;background-color: white;}#sk-container-id-3 div.sk-parallel-item:first-child::after {align-self: flex-end;width: 50%;}#sk-container-id-3 div.sk-parallel-item:last-child::after {align-self: flex-start;width: 50%;}#sk-container-id-3 div.sk-parallel-item:only-child::after {width: 0;}#sk-container-id-3 div.sk-dashed-wrapped {border: 1px dashed gray;margin: 0 0.4em 0.5em 0.4em;box-sizing: border-box;padding-bottom: 0.4em;background-color: white;}#sk-container-id-3 div.sk-label label {font-family: monospace;font-weight: bold;display: inline-block;line-height: 1.2em;}#sk-container-id-3 div.sk-label-container {text-align: center;}#sk-container-id-3 div.sk-container {/* jupyter's `normalize.less` sets `[hidden] { display: none; }` but bootstrap.min.css set `[hidden] { display: none !important; }` so we also need the `!important` here to be able to override the default hidden behavior on the sphinx rendered scikit-learn.org. See: https://github.com/scikit-learn/scikit-learn/issues/21755 */display: inline-block !important;position: relative;}#sk-container-id-3 div.sk-text-repr-fallback {display: none;}</style><div id=\"sk-container-id-3\" class=\"sk-top-container\"><div class=\"sk-text-repr-fallback\"><pre>LGBMClassifier(objective=&#x27;multiclass&#x27;)</pre><b>In a Jupyter environment, please rerun this cell to show the HTML representation or trust the notebook. <br />On GitHub, the HTML representation is unable to render, please try loading this page with nbviewer.org.</b></div><div class=\"sk-container\" hidden><div class=\"sk-item\"><div class=\"sk-estimator sk-toggleable\"><input class=\"sk-toggleable__control sk-hidden--visually\" id=\"sk-estimator-id-3\" type=\"checkbox\" checked><label for=\"sk-estimator-id-3\" class=\"sk-toggleable__label sk-toggleable__label-arrow\">LGBMClassifier</label><div class=\"sk-toggleable__content\"><pre>LGBMClassifier(objective=&#x27;multiclass&#x27;)</pre></div></div></div></div></div>"
      ],
      "text/plain": [
       "LGBMClassifier(objective='multiclass')"
      ]
     },
     "execution_count": 32,
     "metadata": {},
     "output_type": "execute_result"
    }
   ],
   "source": [
    "clf = lgbm.LGBMClassifier(objective=obj_par) \n",
    "clf.fit(X_train, y_train)"
   ]
  },
  {
   "cell_type": "code",
   "execution_count": 33,
   "id": "600a663a",
   "metadata": {
    "execution": {
     "iopub.execute_input": "2023-03-09T16:38:16.133455Z",
     "iopub.status.busy": "2023-03-09T16:38:16.132914Z",
     "iopub.status.idle": "2023-03-09T16:38:16.360663Z",
     "shell.execute_reply": "2023-03-09T16:38:16.359761Z"
    },
    "papermill": {
     "duration": 0.269873,
     "end_time": "2023-03-09T16:38:16.362458",
     "exception": false,
     "start_time": "2023-03-09T16:38:16.092585",
     "status": "completed"
    },
    "tags": []
   },
   "outputs": [
    {
     "name": "stdout",
     "output_type": "stream",
     "text": [
      "              precision    recall  f1-score   support\n",
      "\n",
      "         pop       0.63      0.66      0.64      2400\n",
      "         rap       0.91      0.86      0.88      2376\n",
      "        rock       0.66      0.66      0.66      2424\n",
      "\n",
      "    accuracy                           0.73      7200\n",
      "   macro avg       0.73      0.73      0.73      7200\n",
      "weighted avg       0.73      0.73      0.73      7200\n",
      "\n"
     ]
    }
   ],
   "source": [
    "y_pred = clf.predict(X_test)\n",
    "print(classification_report(y_test, y_pred))"
   ]
  },
  {
   "cell_type": "code",
   "execution_count": 34,
   "id": "508d831d",
   "metadata": {
    "execution": {
     "iopub.execute_input": "2023-03-09T16:38:16.422648Z",
     "iopub.status.busy": "2023-03-09T16:38:16.422306Z",
     "iopub.status.idle": "2023-03-09T16:38:16.534181Z",
     "shell.execute_reply": "2023-03-09T16:38:16.533337Z"
    },
    "papermill": {
     "duration": 0.142689,
     "end_time": "2023-03-09T16:38:16.536708",
     "exception": false,
     "start_time": "2023-03-09T16:38:16.394019",
     "status": "completed"
    },
    "tags": []
   },
   "outputs": [],
   "source": [
    "acc = accuracy_score(y_test, y_pred)\n",
    "pre = precision_score(y_test, y_pred, average=avg_par)\n",
    "rec = recall_score(y_test, y_pred, average=avg_par)\n",
    "f1 = f1_score(y_test, y_pred, average=avg_par)\n",
    "\n",
    "metrics_data['Global']['LightGBM'] = {'Accuracy': acc, 'Precision': pre, 'Recall': rec, 'F1': f1}"
   ]
  },
  {
   "cell_type": "markdown",
   "id": "14b86894",
   "metadata": {
    "papermill": {
     "duration": 0.03313,
     "end_time": "2023-03-09T16:38:16.601087",
     "exception": false,
     "start_time": "2023-03-09T16:38:16.567957",
     "status": "completed"
    },
    "tags": []
   },
   "source": [
    "### Time Series Classification"
   ]
  },
  {
   "cell_type": "markdown",
   "id": "84c55533",
   "metadata": {
    "papermill": {
     "duration": 0.01234,
     "end_time": "2023-03-09T16:38:16.634051",
     "exception": false,
     "start_time": "2023-03-09T16:38:16.621711",
     "status": "completed"
    },
    "tags": []
   },
   "source": [
    "#### Learning Shapelets"
   ]
  },
  {
   "cell_type": "code",
   "execution_count": 35,
   "id": "488d8eb7",
   "metadata": {
    "execution": {
     "iopub.execute_input": "2023-03-09T16:38:16.662113Z",
     "iopub.status.busy": "2023-03-09T16:38:16.661626Z",
     "iopub.status.idle": "2023-03-09T16:38:18.401499Z",
     "shell.execute_reply": "2023-03-09T16:38:18.400517Z"
    },
    "papermill": {
     "duration": 1.757414,
     "end_time": "2023-03-09T16:38:18.404079",
     "exception": false,
     "start_time": "2023-03-09T16:38:16.646665",
     "status": "completed"
    },
    "tags": []
   },
   "outputs": [
    {
     "name": "stderr",
     "output_type": "stream",
     "text": [
      "2023-03-09 17:38:16.671701: I tensorflow/core/platform/cpu_feature_guard.cc:193] This TensorFlow binary is optimized with oneAPI Deep Neural Network Library (oneDNN) to use the following CPU instructions in performance-critical operations:  AVX2 FMA\n",
      "To enable them in other operations, rebuild TensorFlow with the appropriate compiler flags.\n",
      "2023-03-09 17:38:16.840535: W tensorflow/compiler/xla/stream_executor/platform/default/dso_loader.cc:64] Could not load dynamic library 'libcudart.so.11.0'; dlerror: libcudart.so.11.0: cannot open shared object file: No such file or directory\n",
      "2023-03-09 17:38:16.840688: I tensorflow/compiler/xla/stream_executor/cuda/cudart_stub.cc:29] Ignore above cudart dlerror if you do not have a GPU set up on your machine.\n"
     ]
    },
    {
     "name": "stderr",
     "output_type": "stream",
     "text": [
      "2023-03-09 17:38:17.566097: W tensorflow/compiler/xla/stream_executor/platform/default/dso_loader.cc:64] Could not load dynamic library 'libnvinfer.so.7'; dlerror: libnvinfer.so.7: cannot open shared object file: No such file or directory\n",
      "2023-03-09 17:38:17.566186: W tensorflow/compiler/xla/stream_executor/platform/default/dso_loader.cc:64] Could not load dynamic library 'libnvinfer_plugin.so.7'; dlerror: libnvinfer_plugin.so.7: cannot open shared object file: No such file or directory\n",
      "2023-03-09 17:38:17.566195: W tensorflow/compiler/tf2tensorrt/utils/py_utils.cc:38] TF-TRT Warning: Cannot dlopen some TensorRT libraries. If you would like to use Nvidia GPU with TensorRT, please make sure the missing libraries mentioned above are installed properly.\n"
     ]
    }
   ],
   "source": [
    "from tslearn.shapelets import LearningShapelets, grabocka_params_to_shapelet_size_dict"
   ]
  },
  {
   "cell_type": "code",
   "execution_count": 36,
   "id": "eb677959",
   "metadata": {
    "execution": {
     "iopub.execute_input": "2023-03-09T16:38:18.434355Z",
     "iopub.status.busy": "2023-03-09T16:38:18.433723Z",
     "iopub.status.idle": "2023-03-09T16:38:18.439666Z",
     "shell.execute_reply": "2023-03-09T16:38:18.438642Z"
    },
    "papermill": {
     "duration": 0.021351,
     "end_time": "2023-03-09T16:38:18.441069",
     "exception": false,
     "start_time": "2023-03-09T16:38:18.419718",
     "status": "completed"
    },
    "tags": []
   },
   "outputs": [],
   "source": [
    "n_ts, ts_sz, _ = ts_train.shape\n",
    "n_classes = len(set(y_train))"
   ]
  },
  {
   "cell_type": "code",
   "execution_count": 37,
   "id": "776ed3dd",
   "metadata": {
    "execution": {
     "iopub.execute_input": "2023-03-09T16:38:18.489050Z",
     "iopub.status.busy": "2023-03-09T16:38:18.488734Z",
     "iopub.status.idle": "2023-03-09T16:38:18.495671Z",
     "shell.execute_reply": "2023-03-09T16:38:18.494451Z"
    },
    "papermill": {
     "duration": 0.043985,
     "end_time": "2023-03-09T16:38:18.498173",
     "exception": false,
     "start_time": "2023-03-09T16:38:18.454188",
     "status": "completed"
    },
    "tags": []
   },
   "outputs": [
    {
     "name": "stdout",
     "output_type": "stream",
     "text": [
      "n_ts 28800\n",
      "ts_sz 100\n",
      "n_classes 3\n",
      "shapelet_sizes {10: 6}\n"
     ]
    }
   ],
   "source": [
    "# Set the number of shapelets per size as done in the original paper\n",
    "g_shapelet_sizes = grabocka_params_to_shapelet_size_dict(n_ts=n_ts,\n",
    "                                                         ts_sz=ts_sz,\n",
    "                                                         n_classes=n_classes,\n",
    "                                                         l=0.1,\n",
    "                                                         r=1)\n",
    "\n",
    "print('n_ts', n_ts)\n",
    "print('ts_sz', ts_sz)\n",
    "print('n_classes', n_classes)\n",
    "print('shapelet_sizes', g_shapelet_sizes)"
   ]
  },
  {
   "cell_type": "code",
   "execution_count": 38,
   "id": "90ed707e",
   "metadata": {
    "execution": {
     "iopub.execute_input": "2023-03-09T16:38:18.527899Z",
     "iopub.status.busy": "2023-03-09T16:38:18.527436Z",
     "iopub.status.idle": "2023-03-09T16:38:18.537531Z",
     "shell.execute_reply": "2023-03-09T16:38:18.536198Z"
    },
    "papermill": {
     "duration": 0.026325,
     "end_time": "2023-03-09T16:38:18.539318",
     "exception": false,
     "start_time": "2023-03-09T16:38:18.512993",
     "status": "completed"
    },
    "tags": []
   },
   "outputs": [
    {
     "data": {
      "text/plain": [
       "{10: 6, 20: 6, 5: 6}"
      ]
     },
     "execution_count": 38,
     "metadata": {},
     "output_type": "execute_result"
    }
   ],
   "source": [
    "shapelet_sizes = {}\n",
    "for key in g_shapelet_sizes:\n",
    "    shapelet_sizes[key] = g_shapelet_sizes[key]\n",
    "    shapelet_sizes[key*2] = g_shapelet_sizes[key]\n",
    "    shapelet_sizes[key//2] = g_shapelet_sizes[key]\n",
    "shapelet_sizes"
   ]
  },
  {
   "cell_type": "code",
   "execution_count": 39,
   "id": "3507fb9c",
   "metadata": {
    "execution": {
     "iopub.execute_input": "2023-03-09T16:38:18.567361Z",
     "iopub.status.busy": "2023-03-09T16:38:18.566540Z",
     "iopub.status.idle": "2023-03-09T16:38:18.573964Z",
     "shell.execute_reply": "2023-03-09T16:38:18.572798Z"
    },
    "papermill": {
     "duration": 0.023347,
     "end_time": "2023-03-09T16:38:18.575655",
     "exception": false,
     "start_time": "2023-03-09T16:38:18.552308",
     "status": "completed"
    },
    "tags": []
   },
   "outputs": [
    {
     "name": "stderr",
     "output_type": "stream",
     "text": [
      "/home/mattiapggioli/lyrics2ts/.venv/lib/python3.9/site-packages/tslearn/shapelets/shapelets.py:354: FutureWarning: The default value for 'scale' is set to False in version 0.4 to ensure backward compatibility, but is likely to change in a future version.\n",
      "  warnings.warn(\"The default value for 'scale' is set to False \"\n"
     ]
    }
   ],
   "source": [
    "model = LearningShapelets(n_shapelets_per_size=shapelet_sizes,\n",
    "                          optimizer=\"adam\", \n",
    "                          weight_regularizer=.01, \n",
    "                          max_iter=max_iter, verbose=0, random_state=42)"
   ]
  },
  {
   "cell_type": "code",
   "execution_count": 40,
   "id": "73b1fe2e",
   "metadata": {
    "execution": {
     "iopub.execute_input": "2023-03-09T16:38:18.604247Z",
     "iopub.status.busy": "2023-03-09T16:38:18.603424Z",
     "iopub.status.idle": "2023-03-09T17:25:03.130730Z",
     "shell.execute_reply": "2023-03-09T17:25:03.129924Z"
    },
    "papermill": {
     "duration": 2804.586959,
     "end_time": "2023-03-09T17:25:03.175479",
     "exception": false,
     "start_time": "2023-03-09T16:38:18.588520",
     "status": "completed"
    },
    "tags": []
   },
   "outputs": [
    {
     "name": "stderr",
     "output_type": "stream",
     "text": [
      "2023-03-09 17:38:19.487776: W tensorflow/compiler/xla/stream_executor/platform/default/dso_loader.cc:64] Could not load dynamic library 'libcuda.so.1'; dlerror: libcuda.so.1: cannot open shared object file: No such file or directory\n",
      "2023-03-09 17:38:19.487813: W tensorflow/compiler/xla/stream_executor/cuda/cuda_driver.cc:265] failed call to cuInit: UNKNOWN ERROR (303)\n",
      "2023-03-09 17:38:19.487848: I tensorflow/compiler/xla/stream_executor/cuda/cuda_diagnostics.cc:156] kernel driver does not appear to be running on this host (mattiapggioli-ThinkPad-E595): /proc/driver/nvidia/version does not exist\n",
      "2023-03-09 17:38:19.488149: I tensorflow/core/platform/cpu_feature_guard.cc:193] This TensorFlow binary is optimized with oneAPI Deep Neural Network Library (oneDNN) to use the following CPU instructions in performance-critical operations:  AVX2 FMA\n",
      "To enable them in other operations, rebuild TensorFlow with the appropriate compiler flags.\n"
     ]
    },
    {
     "name": "stdout",
     "output_type": "stream",
     "text": [
      "CPU times: user 3h 59min 31s, sys: 14min 40s, total: 4h 14min 11s\n",
      "Wall time: 46min 44s\n"
     ]
    },
    {
     "data": {
      "text/html": [
       "<style>#sk-container-id-4 {color: black;background-color: white;}#sk-container-id-4 pre{padding: 0;}#sk-container-id-4 div.sk-toggleable {background-color: white;}#sk-container-id-4 label.sk-toggleable__label {cursor: pointer;display: block;width: 100%;margin-bottom: 0;padding: 0.3em;box-sizing: border-box;text-align: center;}#sk-container-id-4 label.sk-toggleable__label-arrow:before {content: \"▸\";float: left;margin-right: 0.25em;color: #696969;}#sk-container-id-4 label.sk-toggleable__label-arrow:hover:before {color: black;}#sk-container-id-4 div.sk-estimator:hover label.sk-toggleable__label-arrow:before {color: black;}#sk-container-id-4 div.sk-toggleable__content {max-height: 0;max-width: 0;overflow: hidden;text-align: left;background-color: #f0f8ff;}#sk-container-id-4 div.sk-toggleable__content pre {margin: 0.2em;color: black;border-radius: 0.25em;background-color: #f0f8ff;}#sk-container-id-4 input.sk-toggleable__control:checked~div.sk-toggleable__content {max-height: 200px;max-width: 100%;overflow: auto;}#sk-container-id-4 input.sk-toggleable__control:checked~label.sk-toggleable__label-arrow:before {content: \"▾\";}#sk-container-id-4 div.sk-estimator input.sk-toggleable__control:checked~label.sk-toggleable__label {background-color: #d4ebff;}#sk-container-id-4 div.sk-label input.sk-toggleable__control:checked~label.sk-toggleable__label {background-color: #d4ebff;}#sk-container-id-4 input.sk-hidden--visually {border: 0;clip: rect(1px 1px 1px 1px);clip: rect(1px, 1px, 1px, 1px);height: 1px;margin: -1px;overflow: hidden;padding: 0;position: absolute;width: 1px;}#sk-container-id-4 div.sk-estimator {font-family: monospace;background-color: #f0f8ff;border: 1px dotted black;border-radius: 0.25em;box-sizing: border-box;margin-bottom: 0.5em;}#sk-container-id-4 div.sk-estimator:hover {background-color: #d4ebff;}#sk-container-id-4 div.sk-parallel-item::after {content: \"\";width: 100%;border-bottom: 1px solid gray;flex-grow: 1;}#sk-container-id-4 div.sk-label:hover label.sk-toggleable__label {background-color: #d4ebff;}#sk-container-id-4 div.sk-serial::before {content: \"\";position: absolute;border-left: 1px solid gray;box-sizing: border-box;top: 0;bottom: 0;left: 50%;z-index: 0;}#sk-container-id-4 div.sk-serial {display: flex;flex-direction: column;align-items: center;background-color: white;padding-right: 0.2em;padding-left: 0.2em;position: relative;}#sk-container-id-4 div.sk-item {position: relative;z-index: 1;}#sk-container-id-4 div.sk-parallel {display: flex;align-items: stretch;justify-content: center;background-color: white;position: relative;}#sk-container-id-4 div.sk-item::before, #sk-container-id-4 div.sk-parallel-item::before {content: \"\";position: absolute;border-left: 1px solid gray;box-sizing: border-box;top: 0;bottom: 0;left: 50%;z-index: -1;}#sk-container-id-4 div.sk-parallel-item {display: flex;flex-direction: column;z-index: 1;position: relative;background-color: white;}#sk-container-id-4 div.sk-parallel-item:first-child::after {align-self: flex-end;width: 50%;}#sk-container-id-4 div.sk-parallel-item:last-child::after {align-self: flex-start;width: 50%;}#sk-container-id-4 div.sk-parallel-item:only-child::after {width: 0;}#sk-container-id-4 div.sk-dashed-wrapped {border: 1px dashed gray;margin: 0 0.4em 0.5em 0.4em;box-sizing: border-box;padding-bottom: 0.4em;background-color: white;}#sk-container-id-4 div.sk-label label {font-family: monospace;font-weight: bold;display: inline-block;line-height: 1.2em;}#sk-container-id-4 div.sk-label-container {text-align: center;}#sk-container-id-4 div.sk-container {/* jupyter's `normalize.less` sets `[hidden] { display: none; }` but bootstrap.min.css set `[hidden] { display: none !important; }` so we also need the `!important` here to be able to override the default hidden behavior on the sphinx rendered scikit-learn.org. See: https://github.com/scikit-learn/scikit-learn/issues/21755 */display: inline-block !important;position: relative;}#sk-container-id-4 div.sk-text-repr-fallback {display: none;}</style><div id=\"sk-container-id-4\" class=\"sk-top-container\"><div class=\"sk-text-repr-fallback\"><pre>LearningShapelets(max_iter=2000, n_shapelets_per_size={5: 6, 10: 6, 20: 6},\n",
       "                  optimizer=&#x27;adam&#x27;, random_state=42, weight_regularizer=0.01)</pre><b>In a Jupyter environment, please rerun this cell to show the HTML representation or trust the notebook. <br />On GitHub, the HTML representation is unable to render, please try loading this page with nbviewer.org.</b></div><div class=\"sk-container\" hidden><div class=\"sk-item\"><div class=\"sk-estimator sk-toggleable\"><input class=\"sk-toggleable__control sk-hidden--visually\" id=\"sk-estimator-id-4\" type=\"checkbox\" checked><label for=\"sk-estimator-id-4\" class=\"sk-toggleable__label sk-toggleable__label-arrow\">LearningShapelets</label><div class=\"sk-toggleable__content\"><pre>LearningShapelets(max_iter=2000, n_shapelets_per_size={5: 6, 10: 6, 20: 6},\n",
       "                  optimizer=&#x27;adam&#x27;, random_state=42, weight_regularizer=0.01)</pre></div></div></div></div></div>"
      ],
      "text/plain": [
       "LearningShapelets(max_iter=2000, n_shapelets_per_size={5: 6, 10: 6, 20: 6},\n",
       "                  optimizer='adam', random_state=42, weight_regularizer=0.01)"
      ]
     },
     "execution_count": 40,
     "metadata": {},
     "output_type": "execute_result"
    }
   ],
   "source": [
    "%%time\n",
    "model.fit(ts_train, y_train)"
   ]
  },
  {
   "cell_type": "code",
   "execution_count": 41,
   "id": "51706baa",
   "metadata": {
    "execution": {
     "iopub.execute_input": "2023-03-09T17:25:03.254948Z",
     "iopub.status.busy": "2023-03-09T17:25:03.253555Z",
     "iopub.status.idle": "2023-03-09T17:25:03.293905Z",
     "shell.execute_reply": "2023-03-09T17:25:03.292211Z"
    },
    "papermill": {
     "duration": 0.081637,
     "end_time": "2023-03-09T17:25:03.296195",
     "exception": false,
     "start_time": "2023-03-09T17:25:03.214558",
     "status": "completed"
    },
    "tags": []
   },
   "outputs": [],
   "source": [
    "model.to_pickle(f'{data_path}/shapelets.pkl')"
   ]
  },
  {
   "cell_type": "markdown",
   "id": "309f70dc",
   "metadata": {
    "papermill": {
     "duration": 0.016236,
     "end_time": "2023-03-09T17:25:03.331197",
     "exception": false,
     "start_time": "2023-03-09T17:25:03.314961",
     "status": "completed"
    },
    "tags": []
   },
   "source": [
    "#### Shapelet-Based Classification"
   ]
  },
  {
   "cell_type": "code",
   "execution_count": 42,
   "id": "60125dff",
   "metadata": {
    "execution": {
     "iopub.execute_input": "2023-03-09T17:25:03.364417Z",
     "iopub.status.busy": "2023-03-09T17:25:03.363297Z",
     "iopub.status.idle": "2023-03-09T17:25:03.370192Z",
     "shell.execute_reply": "2023-03-09T17:25:03.368750Z"
    },
    "papermill": {
     "duration": 0.025555,
     "end_time": "2023-03-09T17:25:03.372020",
     "exception": false,
     "start_time": "2023-03-09T17:25:03.346465",
     "status": "completed"
    },
    "tags": []
   },
   "outputs": [],
   "source": [
    "metrics_data['Shapelets'] = {}"
   ]
  },
  {
   "cell_type": "code",
   "execution_count": 43,
   "id": "efb8984d",
   "metadata": {
    "execution": {
     "iopub.execute_input": "2023-03-09T17:25:03.403809Z",
     "iopub.status.busy": "2023-03-09T17:25:03.402605Z",
     "iopub.status.idle": "2023-03-09T17:25:06.005414Z",
     "shell.execute_reply": "2023-03-09T17:25:06.004156Z"
    },
    "papermill": {
     "duration": 2.623141,
     "end_time": "2023-03-09T17:25:06.009543",
     "exception": false,
     "start_time": "2023-03-09T17:25:03.386402",
     "status": "completed"
    },
    "tags": []
   },
   "outputs": [],
   "source": [
    "X_train = model.transform(ts_train)\n",
    "X_test = model.transform(ts_test)"
   ]
  },
  {
   "cell_type": "code",
   "execution_count": 44,
   "id": "2e6c0f22",
   "metadata": {
    "execution": {
     "iopub.execute_input": "2023-03-09T17:25:06.083337Z",
     "iopub.status.busy": "2023-03-09T17:25:06.082409Z",
     "iopub.status.idle": "2023-03-09T17:25:06.134646Z",
     "shell.execute_reply": "2023-03-09T17:25:06.133133Z"
    },
    "papermill": {
     "duration": 0.088555,
     "end_time": "2023-03-09T17:25:06.138047",
     "exception": false,
     "start_time": "2023-03-09T17:25:06.049492",
     "status": "completed"
    },
    "tags": []
   },
   "outputs": [
    {
     "data": {
      "text/html": [
       "<div>\n",
       "<style scoped>\n",
       "    .dataframe tbody tr th:only-of-type {\n",
       "        vertical-align: middle;\n",
       "    }\n",
       "\n",
       "    .dataframe tbody tr th {\n",
       "        vertical-align: top;\n",
       "    }\n",
       "\n",
       "    .dataframe thead th {\n",
       "        text-align: right;\n",
       "    }\n",
       "</style>\n",
       "<table border=\"1\" class=\"dataframe\">\n",
       "  <thead>\n",
       "    <tr style=\"text-align: right;\">\n",
       "      <th></th>\n",
       "      <th>0</th>\n",
       "      <th>1</th>\n",
       "      <th>2</th>\n",
       "      <th>3</th>\n",
       "      <th>4</th>\n",
       "      <th>5</th>\n",
       "      <th>6</th>\n",
       "      <th>7</th>\n",
       "      <th>8</th>\n",
       "      <th>9</th>\n",
       "      <th>10</th>\n",
       "      <th>11</th>\n",
       "      <th>12</th>\n",
       "      <th>13</th>\n",
       "      <th>14</th>\n",
       "      <th>15</th>\n",
       "      <th>16</th>\n",
       "      <th>17</th>\n",
       "    </tr>\n",
       "  </thead>\n",
       "  <tbody>\n",
       "    <tr>\n",
       "      <th>0</th>\n",
       "      <td>0.489623</td>\n",
       "      <td>0.417080</td>\n",
       "      <td>5.853364</td>\n",
       "      <td>0.385611</td>\n",
       "      <td>0.197606</td>\n",
       "      <td>0.667054</td>\n",
       "      <td>1.362894</td>\n",
       "      <td>1.331235</td>\n",
       "      <td>0.589503</td>\n",
       "      <td>1.062725</td>\n",
       "      <td>2.108185</td>\n",
       "      <td>0.912285</td>\n",
       "      <td>0.076224</td>\n",
       "      <td>0.084080</td>\n",
       "      <td>0.084081</td>\n",
       "      <td>0.074551</td>\n",
       "      <td>0.076238</td>\n",
       "      <td>0.076241</td>\n",
       "    </tr>\n",
       "    <tr>\n",
       "      <th>1</th>\n",
       "      <td>0.295802</td>\n",
       "      <td>0.400089</td>\n",
       "      <td>4.852764</td>\n",
       "      <td>0.277461</td>\n",
       "      <td>0.128242</td>\n",
       "      <td>0.190912</td>\n",
       "      <td>0.787699</td>\n",
       "      <td>1.159175</td>\n",
       "      <td>0.571594</td>\n",
       "      <td>0.960258</td>\n",
       "      <td>1.507168</td>\n",
       "      <td>1.320974</td>\n",
       "      <td>0.051234</td>\n",
       "      <td>0.057715</td>\n",
       "      <td>0.057714</td>\n",
       "      <td>0.049844</td>\n",
       "      <td>0.051246</td>\n",
       "      <td>0.051248</td>\n",
       "    </tr>\n",
       "    <tr>\n",
       "      <th>2</th>\n",
       "      <td>0.537379</td>\n",
       "      <td>0.553280</td>\n",
       "      <td>8.670993</td>\n",
       "      <td>0.435031</td>\n",
       "      <td>0.774412</td>\n",
       "      <td>0.361023</td>\n",
       "      <td>1.067221</td>\n",
       "      <td>1.207895</td>\n",
       "      <td>0.857663</td>\n",
       "      <td>0.973325</td>\n",
       "      <td>1.625544</td>\n",
       "      <td>1.214131</td>\n",
       "      <td>0.006691</td>\n",
       "      <td>0.009204</td>\n",
       "      <td>0.009195</td>\n",
       "      <td>0.006144</td>\n",
       "      <td>0.006694</td>\n",
       "      <td>0.006696</td>\n",
       "    </tr>\n",
       "    <tr>\n",
       "      <th>3</th>\n",
       "      <td>0.382018</td>\n",
       "      <td>0.111207</td>\n",
       "      <td>7.995628</td>\n",
       "      <td>0.330630</td>\n",
       "      <td>0.249626</td>\n",
       "      <td>0.771119</td>\n",
       "      <td>0.933126</td>\n",
       "      <td>1.234861</td>\n",
       "      <td>0.592564</td>\n",
       "      <td>1.288512</td>\n",
       "      <td>2.308751</td>\n",
       "      <td>1.335658</td>\n",
       "      <td>0.023763</td>\n",
       "      <td>0.028306</td>\n",
       "      <td>0.028300</td>\n",
       "      <td>0.022784</td>\n",
       "      <td>0.023770</td>\n",
       "      <td>0.023773</td>\n",
       "    </tr>\n",
       "    <tr>\n",
       "      <th>4</th>\n",
       "      <td>0.416882</td>\n",
       "      <td>0.631195</td>\n",
       "      <td>5.329811</td>\n",
       "      <td>0.268187</td>\n",
       "      <td>0.454336</td>\n",
       "      <td>0.424588</td>\n",
       "      <td>1.454050</td>\n",
       "      <td>0.629190</td>\n",
       "      <td>1.030523</td>\n",
       "      <td>1.324834</td>\n",
       "      <td>2.404057</td>\n",
       "      <td>1.070683</td>\n",
       "      <td>0.382185</td>\n",
       "      <td>0.399010</td>\n",
       "      <td>0.399028</td>\n",
       "      <td>0.378597</td>\n",
       "      <td>0.382220</td>\n",
       "      <td>0.382223</td>\n",
       "    </tr>\n",
       "    <tr>\n",
       "      <th>...</th>\n",
       "      <td>...</td>\n",
       "      <td>...</td>\n",
       "      <td>...</td>\n",
       "      <td>...</td>\n",
       "      <td>...</td>\n",
       "      <td>...</td>\n",
       "      <td>...</td>\n",
       "      <td>...</td>\n",
       "      <td>...</td>\n",
       "      <td>...</td>\n",
       "      <td>...</td>\n",
       "      <td>...</td>\n",
       "      <td>...</td>\n",
       "      <td>...</td>\n",
       "      <td>...</td>\n",
       "      <td>...</td>\n",
       "      <td>...</td>\n",
       "      <td>...</td>\n",
       "    </tr>\n",
       "    <tr>\n",
       "      <th>7195</th>\n",
       "      <td>0.271965</td>\n",
       "      <td>0.410474</td>\n",
       "      <td>5.813272</td>\n",
       "      <td>0.058009</td>\n",
       "      <td>0.353183</td>\n",
       "      <td>0.431066</td>\n",
       "      <td>1.283459</td>\n",
       "      <td>0.790638</td>\n",
       "      <td>0.833252</td>\n",
       "      <td>1.194974</td>\n",
       "      <td>2.770930</td>\n",
       "      <td>1.211424</td>\n",
       "      <td>0.204923</td>\n",
       "      <td>0.217391</td>\n",
       "      <td>0.217400</td>\n",
       "      <td>0.202261</td>\n",
       "      <td>0.204948</td>\n",
       "      <td>0.204951</td>\n",
       "    </tr>\n",
       "    <tr>\n",
       "      <th>7196</th>\n",
       "      <td>0.791757</td>\n",
       "      <td>0.775203</td>\n",
       "      <td>6.897478</td>\n",
       "      <td>0.299314</td>\n",
       "      <td>0.913004</td>\n",
       "      <td>0.373926</td>\n",
       "      <td>0.366645</td>\n",
       "      <td>2.285469</td>\n",
       "      <td>1.475670</td>\n",
       "      <td>1.312800</td>\n",
       "      <td>1.015574</td>\n",
       "      <td>0.699733</td>\n",
       "      <td>0.011852</td>\n",
       "      <td>0.009818</td>\n",
       "      <td>0.009800</td>\n",
       "      <td>0.012271</td>\n",
       "      <td>0.011845</td>\n",
       "      <td>0.011847</td>\n",
       "    </tr>\n",
       "    <tr>\n",
       "      <th>7197</th>\n",
       "      <td>0.510562</td>\n",
       "      <td>0.646053</td>\n",
       "      <td>6.533297</td>\n",
       "      <td>0.402807</td>\n",
       "      <td>0.328599</td>\n",
       "      <td>0.466996</td>\n",
       "      <td>0.998282</td>\n",
       "      <td>1.244245</td>\n",
       "      <td>0.644842</td>\n",
       "      <td>0.850987</td>\n",
       "      <td>2.041410</td>\n",
       "      <td>1.019954</td>\n",
       "      <td>0.031553</td>\n",
       "      <td>0.036730</td>\n",
       "      <td>0.036726</td>\n",
       "      <td>0.030440</td>\n",
       "      <td>0.031562</td>\n",
       "      <td>0.031564</td>\n",
       "    </tr>\n",
       "    <tr>\n",
       "      <th>7198</th>\n",
       "      <td>0.245559</td>\n",
       "      <td>0.581632</td>\n",
       "      <td>5.464618</td>\n",
       "      <td>0.410569</td>\n",
       "      <td>0.742603</td>\n",
       "      <td>0.372111</td>\n",
       "      <td>1.402505</td>\n",
       "      <td>1.307767</td>\n",
       "      <td>0.802127</td>\n",
       "      <td>1.502238</td>\n",
       "      <td>1.930524</td>\n",
       "      <td>1.567120</td>\n",
       "      <td>0.024655</td>\n",
       "      <td>0.029276</td>\n",
       "      <td>0.029270</td>\n",
       "      <td>0.023660</td>\n",
       "      <td>0.024663</td>\n",
       "      <td>0.024665</td>\n",
       "    </tr>\n",
       "    <tr>\n",
       "      <th>7199</th>\n",
       "      <td>0.276918</td>\n",
       "      <td>0.230443</td>\n",
       "      <td>7.600082</td>\n",
       "      <td>0.179553</td>\n",
       "      <td>0.313866</td>\n",
       "      <td>0.102600</td>\n",
       "      <td>0.468542</td>\n",
       "      <td>1.311525</td>\n",
       "      <td>0.903927</td>\n",
       "      <td>0.538108</td>\n",
       "      <td>1.076994</td>\n",
       "      <td>0.760286</td>\n",
       "      <td>0.546073</td>\n",
       "      <td>0.539561</td>\n",
       "      <td>0.539665</td>\n",
       "      <td>0.548407</td>\n",
       "      <td>0.546081</td>\n",
       "      <td>0.546085</td>\n",
       "    </tr>\n",
       "  </tbody>\n",
       "</table>\n",
       "<p>7200 rows × 18 columns</p>\n",
       "</div>"
      ],
      "text/plain": [
       "            0         1         2         3         4         5         6   \\\n",
       "0     0.489623  0.417080  5.853364  0.385611  0.197606  0.667054  1.362894   \n",
       "1     0.295802  0.400089  4.852764  0.277461  0.128242  0.190912  0.787699   \n",
       "2     0.537379  0.553280  8.670993  0.435031  0.774412  0.361023  1.067221   \n",
       "3     0.382018  0.111207  7.995628  0.330630  0.249626  0.771119  0.933126   \n",
       "4     0.416882  0.631195  5.329811  0.268187  0.454336  0.424588  1.454050   \n",
       "...        ...       ...       ...       ...       ...       ...       ...   \n",
       "7195  0.271965  0.410474  5.813272  0.058009  0.353183  0.431066  1.283459   \n",
       "7196  0.791757  0.775203  6.897478  0.299314  0.913004  0.373926  0.366645   \n",
       "7197  0.510562  0.646053  6.533297  0.402807  0.328599  0.466996  0.998282   \n",
       "7198  0.245559  0.581632  5.464618  0.410569  0.742603  0.372111  1.402505   \n",
       "7199  0.276918  0.230443  7.600082  0.179553  0.313866  0.102600  0.468542   \n",
       "\n",
       "            7         8         9         10        11        12        13  \\\n",
       "0     1.331235  0.589503  1.062725  2.108185  0.912285  0.076224  0.084080   \n",
       "1     1.159175  0.571594  0.960258  1.507168  1.320974  0.051234  0.057715   \n",
       "2     1.207895  0.857663  0.973325  1.625544  1.214131  0.006691  0.009204   \n",
       "3     1.234861  0.592564  1.288512  2.308751  1.335658  0.023763  0.028306   \n",
       "4     0.629190  1.030523  1.324834  2.404057  1.070683  0.382185  0.399010   \n",
       "...        ...       ...       ...       ...       ...       ...       ...   \n",
       "7195  0.790638  0.833252  1.194974  2.770930  1.211424  0.204923  0.217391   \n",
       "7196  2.285469  1.475670  1.312800  1.015574  0.699733  0.011852  0.009818   \n",
       "7197  1.244245  0.644842  0.850987  2.041410  1.019954  0.031553  0.036730   \n",
       "7198  1.307767  0.802127  1.502238  1.930524  1.567120  0.024655  0.029276   \n",
       "7199  1.311525  0.903927  0.538108  1.076994  0.760286  0.546073  0.539561   \n",
       "\n",
       "            14        15        16        17  \n",
       "0     0.084081  0.074551  0.076238  0.076241  \n",
       "1     0.057714  0.049844  0.051246  0.051248  \n",
       "2     0.009195  0.006144  0.006694  0.006696  \n",
       "3     0.028300  0.022784  0.023770  0.023773  \n",
       "4     0.399028  0.378597  0.382220  0.382223  \n",
       "...        ...       ...       ...       ...  \n",
       "7195  0.217400  0.202261  0.204948  0.204951  \n",
       "7196  0.009800  0.012271  0.011845  0.011847  \n",
       "7197  0.036726  0.030440  0.031562  0.031564  \n",
       "7198  0.029270  0.023660  0.024663  0.024665  \n",
       "7199  0.539665  0.548407  0.546081  0.546085  \n",
       "\n",
       "[7200 rows x 18 columns]"
      ]
     },
     "execution_count": 44,
     "metadata": {},
     "output_type": "execute_result"
    }
   ],
   "source": [
    "pd.DataFrame(X_test)"
   ]
  },
  {
   "cell_type": "markdown",
   "id": "5fa024f7",
   "metadata": {
    "execution": {
     "iopub.execute_input": "2023-02-07T23:47:19.876941Z",
     "iopub.status.busy": "2023-02-07T23:47:19.876424Z",
     "iopub.status.idle": "2023-02-07T23:47:20.399488Z",
     "shell.execute_reply": "2023-02-07T23:47:20.398142Z"
    },
    "papermill": {
     "duration": 0.029141,
     "end_time": "2023-03-09T17:25:06.201027",
     "exception": false,
     "start_time": "2023-03-09T17:25:06.171886",
     "status": "completed"
    },
    "tags": []
   },
   "source": [
    "**Decision Tree**"
   ]
  },
  {
   "cell_type": "code",
   "execution_count": 45,
   "id": "4f5400c9",
   "metadata": {
    "execution": {
     "iopub.execute_input": "2023-03-09T17:25:06.234582Z",
     "iopub.status.busy": "2023-03-09T17:25:06.233718Z",
     "iopub.status.idle": "2023-03-09T17:25:07.147939Z",
     "shell.execute_reply": "2023-03-09T17:25:07.146667Z"
    },
    "papermill": {
     "duration": 0.932417,
     "end_time": "2023-03-09T17:25:07.150671",
     "exception": false,
     "start_time": "2023-03-09T17:25:06.218254",
     "status": "completed"
    },
    "tags": []
   },
   "outputs": [
    {
     "data": {
      "text/html": [
       "<style>#sk-container-id-5 {color: black;background-color: white;}#sk-container-id-5 pre{padding: 0;}#sk-container-id-5 div.sk-toggleable {background-color: white;}#sk-container-id-5 label.sk-toggleable__label {cursor: pointer;display: block;width: 100%;margin-bottom: 0;padding: 0.3em;box-sizing: border-box;text-align: center;}#sk-container-id-5 label.sk-toggleable__label-arrow:before {content: \"▸\";float: left;margin-right: 0.25em;color: #696969;}#sk-container-id-5 label.sk-toggleable__label-arrow:hover:before {color: black;}#sk-container-id-5 div.sk-estimator:hover label.sk-toggleable__label-arrow:before {color: black;}#sk-container-id-5 div.sk-toggleable__content {max-height: 0;max-width: 0;overflow: hidden;text-align: left;background-color: #f0f8ff;}#sk-container-id-5 div.sk-toggleable__content pre {margin: 0.2em;color: black;border-radius: 0.25em;background-color: #f0f8ff;}#sk-container-id-5 input.sk-toggleable__control:checked~div.sk-toggleable__content {max-height: 200px;max-width: 100%;overflow: auto;}#sk-container-id-5 input.sk-toggleable__control:checked~label.sk-toggleable__label-arrow:before {content: \"▾\";}#sk-container-id-5 div.sk-estimator input.sk-toggleable__control:checked~label.sk-toggleable__label {background-color: #d4ebff;}#sk-container-id-5 div.sk-label input.sk-toggleable__control:checked~label.sk-toggleable__label {background-color: #d4ebff;}#sk-container-id-5 input.sk-hidden--visually {border: 0;clip: rect(1px 1px 1px 1px);clip: rect(1px, 1px, 1px, 1px);height: 1px;margin: -1px;overflow: hidden;padding: 0;position: absolute;width: 1px;}#sk-container-id-5 div.sk-estimator {font-family: monospace;background-color: #f0f8ff;border: 1px dotted black;border-radius: 0.25em;box-sizing: border-box;margin-bottom: 0.5em;}#sk-container-id-5 div.sk-estimator:hover {background-color: #d4ebff;}#sk-container-id-5 div.sk-parallel-item::after {content: \"\";width: 100%;border-bottom: 1px solid gray;flex-grow: 1;}#sk-container-id-5 div.sk-label:hover label.sk-toggleable__label {background-color: #d4ebff;}#sk-container-id-5 div.sk-serial::before {content: \"\";position: absolute;border-left: 1px solid gray;box-sizing: border-box;top: 0;bottom: 0;left: 50%;z-index: 0;}#sk-container-id-5 div.sk-serial {display: flex;flex-direction: column;align-items: center;background-color: white;padding-right: 0.2em;padding-left: 0.2em;position: relative;}#sk-container-id-5 div.sk-item {position: relative;z-index: 1;}#sk-container-id-5 div.sk-parallel {display: flex;align-items: stretch;justify-content: center;background-color: white;position: relative;}#sk-container-id-5 div.sk-item::before, #sk-container-id-5 div.sk-parallel-item::before {content: \"\";position: absolute;border-left: 1px solid gray;box-sizing: border-box;top: 0;bottom: 0;left: 50%;z-index: -1;}#sk-container-id-5 div.sk-parallel-item {display: flex;flex-direction: column;z-index: 1;position: relative;background-color: white;}#sk-container-id-5 div.sk-parallel-item:first-child::after {align-self: flex-end;width: 50%;}#sk-container-id-5 div.sk-parallel-item:last-child::after {align-self: flex-start;width: 50%;}#sk-container-id-5 div.sk-parallel-item:only-child::after {width: 0;}#sk-container-id-5 div.sk-dashed-wrapped {border: 1px dashed gray;margin: 0 0.4em 0.5em 0.4em;box-sizing: border-box;padding-bottom: 0.4em;background-color: white;}#sk-container-id-5 div.sk-label label {font-family: monospace;font-weight: bold;display: inline-block;line-height: 1.2em;}#sk-container-id-5 div.sk-label-container {text-align: center;}#sk-container-id-5 div.sk-container {/* jupyter's `normalize.less` sets `[hidden] { display: none; }` but bootstrap.min.css set `[hidden] { display: none !important; }` so we also need the `!important` here to be able to override the default hidden behavior on the sphinx rendered scikit-learn.org. See: https://github.com/scikit-learn/scikit-learn/issues/21755 */display: inline-block !important;position: relative;}#sk-container-id-5 div.sk-text-repr-fallback {display: none;}</style><div id=\"sk-container-id-5\" class=\"sk-top-container\"><div class=\"sk-text-repr-fallback\"><pre>DecisionTreeClassifier(random_state=42)</pre><b>In a Jupyter environment, please rerun this cell to show the HTML representation or trust the notebook. <br />On GitHub, the HTML representation is unable to render, please try loading this page with nbviewer.org.</b></div><div class=\"sk-container\" hidden><div class=\"sk-item\"><div class=\"sk-estimator sk-toggleable\"><input class=\"sk-toggleable__control sk-hidden--visually\" id=\"sk-estimator-id-5\" type=\"checkbox\" checked><label for=\"sk-estimator-id-5\" class=\"sk-toggleable__label sk-toggleable__label-arrow\">DecisionTreeClassifier</label><div class=\"sk-toggleable__content\"><pre>DecisionTreeClassifier(random_state=42)</pre></div></div></div></div></div>"
      ],
      "text/plain": [
       "DecisionTreeClassifier(random_state=42)"
      ]
     },
     "execution_count": 45,
     "metadata": {},
     "output_type": "execute_result"
    }
   ],
   "source": [
    "clf = DecisionTreeClassifier(random_state=42)\n",
    "clf.fit(X_train, y_train)"
   ]
  },
  {
   "cell_type": "code",
   "execution_count": 46,
   "id": "3b56d190",
   "metadata": {
    "execution": {
     "iopub.execute_input": "2023-03-09T17:25:07.210253Z",
     "iopub.status.busy": "2023-03-09T17:25:07.209797Z",
     "iopub.status.idle": "2023-03-09T17:25:07.379158Z",
     "shell.execute_reply": "2023-03-09T17:25:07.378083Z"
    },
    "papermill": {
     "duration": 0.202564,
     "end_time": "2023-03-09T17:25:07.382230",
     "exception": false,
     "start_time": "2023-03-09T17:25:07.179666",
     "status": "completed"
    },
    "tags": []
   },
   "outputs": [
    {
     "name": "stdout",
     "output_type": "stream",
     "text": [
      "              precision    recall  f1-score   support\n",
      "\n",
      "         pop       0.39      0.39      0.39      2400\n",
      "         rap       0.62      0.62      0.62      2376\n",
      "        rock       0.44      0.44      0.44      2424\n",
      "\n",
      "    accuracy                           0.48      7200\n",
      "   macro avg       0.48      0.48      0.48      7200\n",
      "weighted avg       0.48      0.48      0.48      7200\n",
      "\n"
     ]
    }
   ],
   "source": [
    "y_pred = clf.predict(X_test)\n",
    "print(classification_report(y_test, y_pred))"
   ]
  },
  {
   "cell_type": "code",
   "execution_count": 47,
   "id": "42bc91ff",
   "metadata": {
    "execution": {
     "iopub.execute_input": "2023-03-09T17:25:07.457124Z",
     "iopub.status.busy": "2023-03-09T17:25:07.456196Z",
     "iopub.status.idle": "2023-03-09T17:25:07.464646Z",
     "shell.execute_reply": "2023-03-09T17:25:07.463636Z"
    },
    "papermill": {
     "duration": 0.046584,
     "end_time": "2023-03-09T17:25:07.466729",
     "exception": false,
     "start_time": "2023-03-09T17:25:07.420145",
     "status": "completed"
    },
    "tags": []
   },
   "outputs": [],
   "source": [
    "pickle.dump(clf, open(f'{data_path}/decision_tree.pkl', 'wb'))"
   ]
  },
  {
   "cell_type": "code",
   "execution_count": 48,
   "id": "ea9be210",
   "metadata": {
    "execution": {
     "iopub.execute_input": "2023-03-09T17:25:07.497299Z",
     "iopub.status.busy": "2023-03-09T17:25:07.496602Z",
     "iopub.status.idle": "2023-03-09T17:25:07.654257Z",
     "shell.execute_reply": "2023-03-09T17:25:07.653319Z"
    },
    "papermill": {
     "duration": 0.176457,
     "end_time": "2023-03-09T17:25:07.657842",
     "exception": false,
     "start_time": "2023-03-09T17:25:07.481385",
     "status": "completed"
    },
    "tags": []
   },
   "outputs": [],
   "source": [
    "acc = accuracy_score(y_test, y_pred)\n",
    "pre = precision_score(y_test, y_pred, average=avg_par)\n",
    "rec = recall_score(y_test, y_pred, average=avg_par)\n",
    "f1 = f1_score(y_test, y_pred, average=avg_par)\n",
    "\n",
    "metrics_data['Shapelets']['DecisionTree'] = {'Accuracy': acc, 'Precision': pre, 'Recall': rec, 'F1': f1}"
   ]
  },
  {
   "cell_type": "markdown",
   "id": "3ca3443b",
   "metadata": {
    "papermill": {
     "duration": 0.035305,
     "end_time": "2023-03-09T17:25:07.730747",
     "exception": false,
     "start_time": "2023-03-09T17:25:07.695442",
     "status": "completed"
    },
    "tags": []
   },
   "source": [
    "**Random Forest**"
   ]
  },
  {
   "cell_type": "code",
   "execution_count": 49,
   "id": "37795e21",
   "metadata": {
    "execution": {
     "iopub.execute_input": "2023-03-09T17:25:07.763362Z",
     "iopub.status.busy": "2023-03-09T17:25:07.762678Z",
     "iopub.status.idle": "2023-03-09T17:25:20.893214Z",
     "shell.execute_reply": "2023-03-09T17:25:20.892417Z"
    },
    "papermill": {
     "duration": 13.149045,
     "end_time": "2023-03-09T17:25:20.896045",
     "exception": false,
     "start_time": "2023-03-09T17:25:07.747000",
     "status": "completed"
    },
    "tags": []
   },
   "outputs": [
    {
     "data": {
      "text/html": [
       "<style>#sk-container-id-6 {color: black;background-color: white;}#sk-container-id-6 pre{padding: 0;}#sk-container-id-6 div.sk-toggleable {background-color: white;}#sk-container-id-6 label.sk-toggleable__label {cursor: pointer;display: block;width: 100%;margin-bottom: 0;padding: 0.3em;box-sizing: border-box;text-align: center;}#sk-container-id-6 label.sk-toggleable__label-arrow:before {content: \"▸\";float: left;margin-right: 0.25em;color: #696969;}#sk-container-id-6 label.sk-toggleable__label-arrow:hover:before {color: black;}#sk-container-id-6 div.sk-estimator:hover label.sk-toggleable__label-arrow:before {color: black;}#sk-container-id-6 div.sk-toggleable__content {max-height: 0;max-width: 0;overflow: hidden;text-align: left;background-color: #f0f8ff;}#sk-container-id-6 div.sk-toggleable__content pre {margin: 0.2em;color: black;border-radius: 0.25em;background-color: #f0f8ff;}#sk-container-id-6 input.sk-toggleable__control:checked~div.sk-toggleable__content {max-height: 200px;max-width: 100%;overflow: auto;}#sk-container-id-6 input.sk-toggleable__control:checked~label.sk-toggleable__label-arrow:before {content: \"▾\";}#sk-container-id-6 div.sk-estimator input.sk-toggleable__control:checked~label.sk-toggleable__label {background-color: #d4ebff;}#sk-container-id-6 div.sk-label input.sk-toggleable__control:checked~label.sk-toggleable__label {background-color: #d4ebff;}#sk-container-id-6 input.sk-hidden--visually {border: 0;clip: rect(1px 1px 1px 1px);clip: rect(1px, 1px, 1px, 1px);height: 1px;margin: -1px;overflow: hidden;padding: 0;position: absolute;width: 1px;}#sk-container-id-6 div.sk-estimator {font-family: monospace;background-color: #f0f8ff;border: 1px dotted black;border-radius: 0.25em;box-sizing: border-box;margin-bottom: 0.5em;}#sk-container-id-6 div.sk-estimator:hover {background-color: #d4ebff;}#sk-container-id-6 div.sk-parallel-item::after {content: \"\";width: 100%;border-bottom: 1px solid gray;flex-grow: 1;}#sk-container-id-6 div.sk-label:hover label.sk-toggleable__label {background-color: #d4ebff;}#sk-container-id-6 div.sk-serial::before {content: \"\";position: absolute;border-left: 1px solid gray;box-sizing: border-box;top: 0;bottom: 0;left: 50%;z-index: 0;}#sk-container-id-6 div.sk-serial {display: flex;flex-direction: column;align-items: center;background-color: white;padding-right: 0.2em;padding-left: 0.2em;position: relative;}#sk-container-id-6 div.sk-item {position: relative;z-index: 1;}#sk-container-id-6 div.sk-parallel {display: flex;align-items: stretch;justify-content: center;background-color: white;position: relative;}#sk-container-id-6 div.sk-item::before, #sk-container-id-6 div.sk-parallel-item::before {content: \"\";position: absolute;border-left: 1px solid gray;box-sizing: border-box;top: 0;bottom: 0;left: 50%;z-index: -1;}#sk-container-id-6 div.sk-parallel-item {display: flex;flex-direction: column;z-index: 1;position: relative;background-color: white;}#sk-container-id-6 div.sk-parallel-item:first-child::after {align-self: flex-end;width: 50%;}#sk-container-id-6 div.sk-parallel-item:last-child::after {align-self: flex-start;width: 50%;}#sk-container-id-6 div.sk-parallel-item:only-child::after {width: 0;}#sk-container-id-6 div.sk-dashed-wrapped {border: 1px dashed gray;margin: 0 0.4em 0.5em 0.4em;box-sizing: border-box;padding-bottom: 0.4em;background-color: white;}#sk-container-id-6 div.sk-label label {font-family: monospace;font-weight: bold;display: inline-block;line-height: 1.2em;}#sk-container-id-6 div.sk-label-container {text-align: center;}#sk-container-id-6 div.sk-container {/* jupyter's `normalize.less` sets `[hidden] { display: none; }` but bootstrap.min.css set `[hidden] { display: none !important; }` so we also need the `!important` here to be able to override the default hidden behavior on the sphinx rendered scikit-learn.org. See: https://github.com/scikit-learn/scikit-learn/issues/21755 */display: inline-block !important;position: relative;}#sk-container-id-6 div.sk-text-repr-fallback {display: none;}</style><div id=\"sk-container-id-6\" class=\"sk-top-container\"><div class=\"sk-text-repr-fallback\"><pre>RandomForestClassifier(random_state=42)</pre><b>In a Jupyter environment, please rerun this cell to show the HTML representation or trust the notebook. <br />On GitHub, the HTML representation is unable to render, please try loading this page with nbviewer.org.</b></div><div class=\"sk-container\" hidden><div class=\"sk-item\"><div class=\"sk-estimator sk-toggleable\"><input class=\"sk-toggleable__control sk-hidden--visually\" id=\"sk-estimator-id-6\" type=\"checkbox\" checked><label for=\"sk-estimator-id-6\" class=\"sk-toggleable__label sk-toggleable__label-arrow\">RandomForestClassifier</label><div class=\"sk-toggleable__content\"><pre>RandomForestClassifier(random_state=42)</pre></div></div></div></div></div>"
      ],
      "text/plain": [
       "RandomForestClassifier(random_state=42)"
      ]
     },
     "execution_count": 49,
     "metadata": {},
     "output_type": "execute_result"
    }
   ],
   "source": [
    "clf = RandomForestClassifier(random_state=42)\n",
    "clf.fit(X_train, y_train)"
   ]
  },
  {
   "cell_type": "code",
   "execution_count": 50,
   "id": "581ab90a",
   "metadata": {
    "execution": {
     "iopub.execute_input": "2023-03-09T17:25:20.974189Z",
     "iopub.status.busy": "2023-03-09T17:25:20.973619Z",
     "iopub.status.idle": "2023-03-09T17:25:21.298220Z",
     "shell.execute_reply": "2023-03-09T17:25:21.297213Z"
    },
    "papermill": {
     "duration": 0.36693,
     "end_time": "2023-03-09T17:25:21.301299",
     "exception": false,
     "start_time": "2023-03-09T17:25:20.934369",
     "status": "completed"
    },
    "tags": []
   },
   "outputs": [
    {
     "name": "stdout",
     "output_type": "stream",
     "text": [
      "              precision    recall  f1-score   support\n",
      "\n",
      "         pop       0.47      0.44      0.46      2400\n",
      "         rap       0.73      0.76      0.75      2376\n",
      "        rock       0.54      0.55      0.55      2424\n",
      "\n",
      "    accuracy                           0.59      7200\n",
      "   macro avg       0.58      0.59      0.58      7200\n",
      "weighted avg       0.58      0.59      0.58      7200\n",
      "\n"
     ]
    }
   ],
   "source": [
    "y_pred = clf.predict(X_test)\n",
    "print(classification_report(y_test, y_pred))"
   ]
  },
  {
   "cell_type": "code",
   "execution_count": 51,
   "id": "faf1d7f4",
   "metadata": {
    "execution": {
     "iopub.execute_input": "2023-03-09T17:25:21.384844Z",
     "iopub.status.busy": "2023-03-09T17:25:21.384357Z",
     "iopub.status.idle": "2023-03-09T17:25:21.542787Z",
     "shell.execute_reply": "2023-03-09T17:25:21.541798Z"
    },
    "papermill": {
     "duration": 0.206145,
     "end_time": "2023-03-09T17:25:21.545699",
     "exception": false,
     "start_time": "2023-03-09T17:25:21.339554",
     "status": "completed"
    },
    "tags": []
   },
   "outputs": [],
   "source": [
    "acc = accuracy_score(y_test, y_pred)\n",
    "pre = precision_score(y_test, y_pred, average=avg_par)\n",
    "rec = recall_score(y_test, y_pred, average=avg_par)\n",
    "f1 = f1_score(y_test, y_pred, average=avg_par)\n",
    "\n",
    "metrics_data['Shapelets']['RandomForest'] = {'Accuracy': acc, 'Precision': pre, 'Recall': rec, 'F1': f1}"
   ]
  },
  {
   "cell_type": "markdown",
   "id": "61fceefb",
   "metadata": {
    "papermill": {
     "duration": 0.038823,
     "end_time": "2023-03-09T17:25:21.623349",
     "exception": false,
     "start_time": "2023-03-09T17:25:21.584526",
     "status": "completed"
    },
    "tags": []
   },
   "source": [
    "**LightGBM**"
   ]
  },
  {
   "cell_type": "code",
   "execution_count": 52,
   "id": "194189da",
   "metadata": {
    "execution": {
     "iopub.execute_input": "2023-03-09T17:25:21.660541Z",
     "iopub.status.busy": "2023-03-09T17:25:21.660005Z",
     "iopub.status.idle": "2023-03-09T17:25:22.815077Z",
     "shell.execute_reply": "2023-03-09T17:25:22.814023Z"
    },
    "papermill": {
     "duration": 1.177557,
     "end_time": "2023-03-09T17:25:22.817231",
     "exception": false,
     "start_time": "2023-03-09T17:25:21.639674",
     "status": "completed"
    },
    "tags": []
   },
   "outputs": [
    {
     "data": {
      "text/html": [
       "<style>#sk-container-id-7 {color: black;background-color: white;}#sk-container-id-7 pre{padding: 0;}#sk-container-id-7 div.sk-toggleable {background-color: white;}#sk-container-id-7 label.sk-toggleable__label {cursor: pointer;display: block;width: 100%;margin-bottom: 0;padding: 0.3em;box-sizing: border-box;text-align: center;}#sk-container-id-7 label.sk-toggleable__label-arrow:before {content: \"▸\";float: left;margin-right: 0.25em;color: #696969;}#sk-container-id-7 label.sk-toggleable__label-arrow:hover:before {color: black;}#sk-container-id-7 div.sk-estimator:hover label.sk-toggleable__label-arrow:before {color: black;}#sk-container-id-7 div.sk-toggleable__content {max-height: 0;max-width: 0;overflow: hidden;text-align: left;background-color: #f0f8ff;}#sk-container-id-7 div.sk-toggleable__content pre {margin: 0.2em;color: black;border-radius: 0.25em;background-color: #f0f8ff;}#sk-container-id-7 input.sk-toggleable__control:checked~div.sk-toggleable__content {max-height: 200px;max-width: 100%;overflow: auto;}#sk-container-id-7 input.sk-toggleable__control:checked~label.sk-toggleable__label-arrow:before {content: \"▾\";}#sk-container-id-7 div.sk-estimator input.sk-toggleable__control:checked~label.sk-toggleable__label {background-color: #d4ebff;}#sk-container-id-7 div.sk-label input.sk-toggleable__control:checked~label.sk-toggleable__label {background-color: #d4ebff;}#sk-container-id-7 input.sk-hidden--visually {border: 0;clip: rect(1px 1px 1px 1px);clip: rect(1px, 1px, 1px, 1px);height: 1px;margin: -1px;overflow: hidden;padding: 0;position: absolute;width: 1px;}#sk-container-id-7 div.sk-estimator {font-family: monospace;background-color: #f0f8ff;border: 1px dotted black;border-radius: 0.25em;box-sizing: border-box;margin-bottom: 0.5em;}#sk-container-id-7 div.sk-estimator:hover {background-color: #d4ebff;}#sk-container-id-7 div.sk-parallel-item::after {content: \"\";width: 100%;border-bottom: 1px solid gray;flex-grow: 1;}#sk-container-id-7 div.sk-label:hover label.sk-toggleable__label {background-color: #d4ebff;}#sk-container-id-7 div.sk-serial::before {content: \"\";position: absolute;border-left: 1px solid gray;box-sizing: border-box;top: 0;bottom: 0;left: 50%;z-index: 0;}#sk-container-id-7 div.sk-serial {display: flex;flex-direction: column;align-items: center;background-color: white;padding-right: 0.2em;padding-left: 0.2em;position: relative;}#sk-container-id-7 div.sk-item {position: relative;z-index: 1;}#sk-container-id-7 div.sk-parallel {display: flex;align-items: stretch;justify-content: center;background-color: white;position: relative;}#sk-container-id-7 div.sk-item::before, #sk-container-id-7 div.sk-parallel-item::before {content: \"\";position: absolute;border-left: 1px solid gray;box-sizing: border-box;top: 0;bottom: 0;left: 50%;z-index: -1;}#sk-container-id-7 div.sk-parallel-item {display: flex;flex-direction: column;z-index: 1;position: relative;background-color: white;}#sk-container-id-7 div.sk-parallel-item:first-child::after {align-self: flex-end;width: 50%;}#sk-container-id-7 div.sk-parallel-item:last-child::after {align-self: flex-start;width: 50%;}#sk-container-id-7 div.sk-parallel-item:only-child::after {width: 0;}#sk-container-id-7 div.sk-dashed-wrapped {border: 1px dashed gray;margin: 0 0.4em 0.5em 0.4em;box-sizing: border-box;padding-bottom: 0.4em;background-color: white;}#sk-container-id-7 div.sk-label label {font-family: monospace;font-weight: bold;display: inline-block;line-height: 1.2em;}#sk-container-id-7 div.sk-label-container {text-align: center;}#sk-container-id-7 div.sk-container {/* jupyter's `normalize.less` sets `[hidden] { display: none; }` but bootstrap.min.css set `[hidden] { display: none !important; }` so we also need the `!important` here to be able to override the default hidden behavior on the sphinx rendered scikit-learn.org. See: https://github.com/scikit-learn/scikit-learn/issues/21755 */display: inline-block !important;position: relative;}#sk-container-id-7 div.sk-text-repr-fallback {display: none;}</style><div id=\"sk-container-id-7\" class=\"sk-top-container\"><div class=\"sk-text-repr-fallback\"><pre>LGBMClassifier(objective=&#x27;multiclass&#x27;)</pre><b>In a Jupyter environment, please rerun this cell to show the HTML representation or trust the notebook. <br />On GitHub, the HTML representation is unable to render, please try loading this page with nbviewer.org.</b></div><div class=\"sk-container\" hidden><div class=\"sk-item\"><div class=\"sk-estimator sk-toggleable\"><input class=\"sk-toggleable__control sk-hidden--visually\" id=\"sk-estimator-id-7\" type=\"checkbox\" checked><label for=\"sk-estimator-id-7\" class=\"sk-toggleable__label sk-toggleable__label-arrow\">LGBMClassifier</label><div class=\"sk-toggleable__content\"><pre>LGBMClassifier(objective=&#x27;multiclass&#x27;)</pre></div></div></div></div></div>"
      ],
      "text/plain": [
       "LGBMClassifier(objective='multiclass')"
      ]
     },
     "execution_count": 52,
     "metadata": {},
     "output_type": "execute_result"
    }
   ],
   "source": [
    "clf = lgbm.LGBMClassifier(objective=obj_par) \n",
    "clf.fit(X_train, y_train)"
   ]
  },
  {
   "cell_type": "code",
   "execution_count": 53,
   "id": "355a078b",
   "metadata": {
    "execution": {
     "iopub.execute_input": "2023-03-09T17:25:22.849320Z",
     "iopub.status.busy": "2023-03-09T17:25:22.848470Z",
     "iopub.status.idle": "2023-03-09T17:25:23.162841Z",
     "shell.execute_reply": "2023-03-09T17:25:23.161914Z"
    },
    "papermill": {
     "duration": 0.333301,
     "end_time": "2023-03-09T17:25:23.165815",
     "exception": false,
     "start_time": "2023-03-09T17:25:22.832514",
     "status": "completed"
    },
    "tags": []
   },
   "outputs": [
    {
     "name": "stdout",
     "output_type": "stream",
     "text": [
      "              precision    recall  f1-score   support\n",
      "\n",
      "         pop       0.46      0.39      0.42      2400\n",
      "         rap       0.73      0.76      0.75      2376\n",
      "        rock       0.53      0.58      0.55      2424\n",
      "\n",
      "    accuracy                           0.58      7200\n",
      "   macro avg       0.57      0.58      0.57      7200\n",
      "weighted avg       0.57      0.58      0.57      7200\n",
      "\n"
     ]
    }
   ],
   "source": [
    "y_pred = clf.predict(X_test)\n",
    "print(classification_report(y_test, y_pred))"
   ]
  },
  {
   "cell_type": "code",
   "execution_count": 54,
   "id": "f22b911e",
   "metadata": {
    "execution": {
     "iopub.execute_input": "2023-03-09T17:25:23.246982Z",
     "iopub.status.busy": "2023-03-09T17:25:23.245928Z",
     "iopub.status.idle": "2023-03-09T17:25:23.396128Z",
     "shell.execute_reply": "2023-03-09T17:25:23.395110Z"
    },
    "papermill": {
     "duration": 0.192505,
     "end_time": "2023-03-09T17:25:23.398145",
     "exception": false,
     "start_time": "2023-03-09T17:25:23.205640",
     "status": "completed"
    },
    "tags": []
   },
   "outputs": [],
   "source": [
    "acc = accuracy_score(y_test, y_pred)\n",
    "pre = precision_score(y_test, y_pred, average=avg_par)\n",
    "rec = recall_score(y_test, y_pred, average=avg_par)\n",
    "f1 = f1_score(y_test, y_pred, average=avg_par)\n",
    "\n",
    "metrics_data['Shapelets']['LightGBM'] = {'Accuracy': acc, 'Precision': pre, 'Recall': rec, 'F1': f1}"
   ]
  },
  {
   "cell_type": "markdown",
   "id": "0809af9f",
   "metadata": {
    "papermill": {
     "duration": 0.038169,
     "end_time": "2023-03-09T17:25:23.475193",
     "exception": false,
     "start_time": "2023-03-09T17:25:23.437024",
     "status": "completed"
    },
    "tags": []
   },
   "source": [
    "#### KNN"
   ]
  },
  {
   "cell_type": "code",
   "execution_count": 55,
   "id": "1c9237e0",
   "metadata": {
    "execution": {
     "iopub.execute_input": "2023-03-09T17:25:23.509137Z",
     "iopub.status.busy": "2023-03-09T17:25:23.508642Z",
     "iopub.status.idle": "2023-03-09T17:25:23.514802Z",
     "shell.execute_reply": "2023-03-09T17:25:23.513755Z"
    },
    "papermill": {
     "duration": 0.023347,
     "end_time": "2023-03-09T17:25:23.516581",
     "exception": false,
     "start_time": "2023-03-09T17:25:23.493234",
     "status": "completed"
    },
    "tags": []
   },
   "outputs": [],
   "source": [
    "X_train = ts_train.reshape((ts_train.shape[0], ts_train.shape[1]))\n",
    "X_test = ts_test.reshape((ts_test.shape[0], ts_test.shape[1]))"
   ]
  },
  {
   "cell_type": "code",
   "execution_count": 56,
   "id": "192f3c3f",
   "metadata": {
    "execution": {
     "iopub.execute_input": "2023-03-09T17:25:23.546657Z",
     "iopub.status.busy": "2023-03-09T17:25:23.546234Z",
     "iopub.status.idle": "2023-03-09T17:25:23.553271Z",
     "shell.execute_reply": "2023-03-09T17:25:23.552223Z"
    },
    "papermill": {
     "duration": 0.024369,
     "end_time": "2023-03-09T17:25:23.554972",
     "exception": false,
     "start_time": "2023-03-09T17:25:23.530603",
     "status": "completed"
    },
    "tags": []
   },
   "outputs": [
    {
     "data": {
      "text/plain": [
       "(28800, 100)"
      ]
     },
     "execution_count": 56,
     "metadata": {},
     "output_type": "execute_result"
    }
   ],
   "source": [
    "X_train.shape"
   ]
  },
  {
   "cell_type": "code",
   "execution_count": 57,
   "id": "de0e5000",
   "metadata": {
    "execution": {
     "iopub.execute_input": "2023-03-09T17:25:23.585913Z",
     "iopub.status.busy": "2023-03-09T17:25:23.585471Z",
     "iopub.status.idle": "2023-03-09T17:25:23.590764Z",
     "shell.execute_reply": "2023-03-09T17:25:23.589706Z"
    },
    "papermill": {
     "duration": 0.023025,
     "end_time": "2023-03-09T17:25:23.592415",
     "exception": false,
     "start_time": "2023-03-09T17:25:23.569390",
     "status": "completed"
    },
    "tags": []
   },
   "outputs": [],
   "source": [
    "metrics_data['KNN'] = {}"
   ]
  },
  {
   "cell_type": "markdown",
   "id": "8ee39c05",
   "metadata": {
    "papermill": {
     "duration": 0.015592,
     "end_time": "2023-03-09T17:25:23.622943",
     "exception": false,
     "start_time": "2023-03-09T17:25:23.607351",
     "status": "completed"
    },
    "tags": []
   },
   "source": [
    "**Euclidean Distance**"
   ]
  },
  {
   "cell_type": "code",
   "execution_count": 58,
   "id": "55db1f58",
   "metadata": {
    "execution": {
     "iopub.execute_input": "2023-03-09T17:25:23.656735Z",
     "iopub.status.busy": "2023-03-09T17:25:23.655477Z",
     "iopub.status.idle": "2023-03-09T17:25:23.662057Z",
     "shell.execute_reply": "2023-03-09T17:25:23.660877Z"
    },
    "papermill": {
     "duration": 0.025949,
     "end_time": "2023-03-09T17:25:23.663922",
     "exception": false,
     "start_time": "2023-03-09T17:25:23.637973",
     "status": "completed"
    },
    "tags": []
   },
   "outputs": [],
   "source": [
    "from sklearn.neighbors import KNeighborsClassifier"
   ]
  },
  {
   "cell_type": "code",
   "execution_count": 59,
   "id": "132c2537",
   "metadata": {
    "execution": {
     "iopub.execute_input": "2023-03-09T17:25:23.696988Z",
     "iopub.status.busy": "2023-03-09T17:25:23.696211Z",
     "iopub.status.idle": "2023-03-09T17:25:23.751185Z",
     "shell.execute_reply": "2023-03-09T17:25:23.750318Z"
    },
    "papermill": {
     "duration": 0.074601,
     "end_time": "2023-03-09T17:25:23.753175",
     "exception": false,
     "start_time": "2023-03-09T17:25:23.678574",
     "status": "completed"
    },
    "tags": []
   },
   "outputs": [
    {
     "data": {
      "text/html": [
       "<style>#sk-container-id-8 {color: black;background-color: white;}#sk-container-id-8 pre{padding: 0;}#sk-container-id-8 div.sk-toggleable {background-color: white;}#sk-container-id-8 label.sk-toggleable__label {cursor: pointer;display: block;width: 100%;margin-bottom: 0;padding: 0.3em;box-sizing: border-box;text-align: center;}#sk-container-id-8 label.sk-toggleable__label-arrow:before {content: \"▸\";float: left;margin-right: 0.25em;color: #696969;}#sk-container-id-8 label.sk-toggleable__label-arrow:hover:before {color: black;}#sk-container-id-8 div.sk-estimator:hover label.sk-toggleable__label-arrow:before {color: black;}#sk-container-id-8 div.sk-toggleable__content {max-height: 0;max-width: 0;overflow: hidden;text-align: left;background-color: #f0f8ff;}#sk-container-id-8 div.sk-toggleable__content pre {margin: 0.2em;color: black;border-radius: 0.25em;background-color: #f0f8ff;}#sk-container-id-8 input.sk-toggleable__control:checked~div.sk-toggleable__content {max-height: 200px;max-width: 100%;overflow: auto;}#sk-container-id-8 input.sk-toggleable__control:checked~label.sk-toggleable__label-arrow:before {content: \"▾\";}#sk-container-id-8 div.sk-estimator input.sk-toggleable__control:checked~label.sk-toggleable__label {background-color: #d4ebff;}#sk-container-id-8 div.sk-label input.sk-toggleable__control:checked~label.sk-toggleable__label {background-color: #d4ebff;}#sk-container-id-8 input.sk-hidden--visually {border: 0;clip: rect(1px 1px 1px 1px);clip: rect(1px, 1px, 1px, 1px);height: 1px;margin: -1px;overflow: hidden;padding: 0;position: absolute;width: 1px;}#sk-container-id-8 div.sk-estimator {font-family: monospace;background-color: #f0f8ff;border: 1px dotted black;border-radius: 0.25em;box-sizing: border-box;margin-bottom: 0.5em;}#sk-container-id-8 div.sk-estimator:hover {background-color: #d4ebff;}#sk-container-id-8 div.sk-parallel-item::after {content: \"\";width: 100%;border-bottom: 1px solid gray;flex-grow: 1;}#sk-container-id-8 div.sk-label:hover label.sk-toggleable__label {background-color: #d4ebff;}#sk-container-id-8 div.sk-serial::before {content: \"\";position: absolute;border-left: 1px solid gray;box-sizing: border-box;top: 0;bottom: 0;left: 50%;z-index: 0;}#sk-container-id-8 div.sk-serial {display: flex;flex-direction: column;align-items: center;background-color: white;padding-right: 0.2em;padding-left: 0.2em;position: relative;}#sk-container-id-8 div.sk-item {position: relative;z-index: 1;}#sk-container-id-8 div.sk-parallel {display: flex;align-items: stretch;justify-content: center;background-color: white;position: relative;}#sk-container-id-8 div.sk-item::before, #sk-container-id-8 div.sk-parallel-item::before {content: \"\";position: absolute;border-left: 1px solid gray;box-sizing: border-box;top: 0;bottom: 0;left: 50%;z-index: -1;}#sk-container-id-8 div.sk-parallel-item {display: flex;flex-direction: column;z-index: 1;position: relative;background-color: white;}#sk-container-id-8 div.sk-parallel-item:first-child::after {align-self: flex-end;width: 50%;}#sk-container-id-8 div.sk-parallel-item:last-child::after {align-self: flex-start;width: 50%;}#sk-container-id-8 div.sk-parallel-item:only-child::after {width: 0;}#sk-container-id-8 div.sk-dashed-wrapped {border: 1px dashed gray;margin: 0 0.4em 0.5em 0.4em;box-sizing: border-box;padding-bottom: 0.4em;background-color: white;}#sk-container-id-8 div.sk-label label {font-family: monospace;font-weight: bold;display: inline-block;line-height: 1.2em;}#sk-container-id-8 div.sk-label-container {text-align: center;}#sk-container-id-8 div.sk-container {/* jupyter's `normalize.less` sets `[hidden] { display: none; }` but bootstrap.min.css set `[hidden] { display: none !important; }` so we also need the `!important` here to be able to override the default hidden behavior on the sphinx rendered scikit-learn.org. See: https://github.com/scikit-learn/scikit-learn/issues/21755 */display: inline-block !important;position: relative;}#sk-container-id-8 div.sk-text-repr-fallback {display: none;}</style><div id=\"sk-container-id-8\" class=\"sk-top-container\"><div class=\"sk-text-repr-fallback\"><pre>KNeighborsClassifier()</pre><b>In a Jupyter environment, please rerun this cell to show the HTML representation or trust the notebook. <br />On GitHub, the HTML representation is unable to render, please try loading this page with nbviewer.org.</b></div><div class=\"sk-container\" hidden><div class=\"sk-item\"><div class=\"sk-estimator sk-toggleable\"><input class=\"sk-toggleable__control sk-hidden--visually\" id=\"sk-estimator-id-8\" type=\"checkbox\" checked><label for=\"sk-estimator-id-8\" class=\"sk-toggleable__label sk-toggleable__label-arrow\">KNeighborsClassifier</label><div class=\"sk-toggleable__content\"><pre>KNeighborsClassifier()</pre></div></div></div></div></div>"
      ],
      "text/plain": [
       "KNeighborsClassifier()"
      ]
     },
     "execution_count": 59,
     "metadata": {},
     "output_type": "execute_result"
    }
   ],
   "source": [
    "clf = KNeighborsClassifier(n_neighbors=5, weights='uniform')\n",
    "clf.fit(X_train, y_train)"
   ]
  },
  {
   "cell_type": "code",
   "execution_count": 60,
   "id": "0afad62a",
   "metadata": {
    "execution": {
     "iopub.execute_input": "2023-03-09T17:25:23.786103Z",
     "iopub.status.busy": "2023-03-09T17:25:23.785675Z",
     "iopub.status.idle": "2023-03-09T17:25:26.171432Z",
     "shell.execute_reply": "2023-03-09T17:25:26.170387Z"
    },
    "papermill": {
     "duration": 2.404651,
     "end_time": "2023-03-09T17:25:26.174694",
     "exception": false,
     "start_time": "2023-03-09T17:25:23.770043",
     "status": "completed"
    },
    "tags": []
   },
   "outputs": [
    {
     "name": "stdout",
     "output_type": "stream",
     "text": [
      "              precision    recall  f1-score   support\n",
      "\n",
      "         pop       0.35      0.32      0.33      2400\n",
      "         rap       0.55      0.17      0.26      2376\n",
      "        rock       0.38      0.67      0.48      2424\n",
      "\n",
      "    accuracy                           0.39      7200\n",
      "   macro avg       0.43      0.39      0.36      7200\n",
      "weighted avg       0.43      0.39      0.36      7200\n",
      "\n"
     ]
    }
   ],
   "source": [
    "y_pred = clf.predict(X_test)\n",
    "print(classification_report(y_test, y_pred))"
   ]
  },
  {
   "cell_type": "code",
   "execution_count": 61,
   "id": "2d709070",
   "metadata": {
    "execution": {
     "iopub.execute_input": "2023-03-09T17:25:26.259490Z",
     "iopub.status.busy": "2023-03-09T17:25:26.258320Z",
     "iopub.status.idle": "2023-03-09T17:25:26.417111Z",
     "shell.execute_reply": "2023-03-09T17:25:26.416072Z"
    },
    "papermill": {
     "duration": 0.204324,
     "end_time": "2023-03-09T17:25:26.419163",
     "exception": false,
     "start_time": "2023-03-09T17:25:26.214839",
     "status": "completed"
    },
    "tags": []
   },
   "outputs": [],
   "source": [
    "acc = accuracy_score(y_test, y_pred)\n",
    "pre = precision_score(y_test, y_pred, average=avg_par)\n",
    "rec = recall_score(y_test, y_pred, average=avg_par)\n",
    "f1 = f1_score(y_test, y_pred, average=avg_par)\n",
    "\n",
    "metrics_data['KNN']['Euclidean'] = {'Accuracy': acc, 'Precision': pre, 'Recall': rec, 'F1': f1}"
   ]
  },
  {
   "cell_type": "markdown",
   "id": "c5ec2a09",
   "metadata": {
    "papermill": {
     "duration": 0.01389,
     "end_time": "2023-03-09T17:25:26.449841",
     "exception": false,
     "start_time": "2023-03-09T17:25:26.435951",
     "status": "completed"
    },
    "tags": []
   },
   "source": [
    "**Dynamic Time Warping**"
   ]
  },
  {
   "cell_type": "code",
   "execution_count": 62,
   "id": "2df913d8",
   "metadata": {
    "execution": {
     "iopub.execute_input": "2023-03-09T17:25:26.481358Z",
     "iopub.status.busy": "2023-03-09T17:25:26.481067Z",
     "iopub.status.idle": "2023-03-09T17:25:26.542745Z",
     "shell.execute_reply": "2023-03-09T17:25:26.541898Z"
    },
    "papermill": {
     "duration": 0.081321,
     "end_time": "2023-03-09T17:25:26.545340",
     "exception": false,
     "start_time": "2023-03-09T17:25:26.464019",
     "status": "completed"
    },
    "tags": []
   },
   "outputs": [],
   "source": [
    "from pyts.classification import KNeighborsClassifier\n",
    "from pyts.approximation import PiecewiseAggregateApproximation\n",
    "from imblearn.under_sampling import ClusterCentroids\n",
    "from sklearn_extra.cluster import KMedoids"
   ]
  },
  {
   "cell_type": "code",
   "execution_count": 63,
   "id": "db1604ec",
   "metadata": {
    "execution": {
     "iopub.execute_input": "2023-03-09T17:25:26.578537Z",
     "iopub.status.busy": "2023-03-09T17:25:26.578097Z",
     "iopub.status.idle": "2023-03-09T17:25:27.100830Z",
     "shell.execute_reply": "2023-03-09T17:25:27.099979Z"
    },
    "papermill": {
     "duration": 0.541401,
     "end_time": "2023-03-09T17:25:27.103873",
     "exception": false,
     "start_time": "2023-03-09T17:25:26.562472",
     "status": "completed"
    },
    "tags": []
   },
   "outputs": [],
   "source": [
    "if paa_window_size:\n",
    "    paa = PiecewiseAggregateApproximation(window_size=paa_window_size)\n",
    "    X_train = paa.transform(X_train)\n",
    "    X_test = paa.transform(X_test)\n",
    "    X_train.shape"
   ]
  },
  {
   "cell_type": "code",
   "execution_count": 64,
   "id": "59fa27aa",
   "metadata": {
    "execution": {
     "iopub.execute_input": "2023-03-09T17:25:27.188654Z",
     "iopub.status.busy": "2023-03-09T17:25:27.188235Z",
     "iopub.status.idle": "2023-03-09T17:26:03.987196Z",
     "shell.execute_reply": "2023-03-09T17:26:03.985669Z"
    },
    "papermill": {
     "duration": 36.846318,
     "end_time": "2023-03-09T17:26:03.990721",
     "exception": false,
     "start_time": "2023-03-09T17:25:27.144403",
     "status": "completed"
    },
    "tags": []
   },
   "outputs": [
    {
     "name": "stdout",
     "output_type": "stream",
     "text": [
      "{'pop': 2880, 'rap': 2887, 'rock': 2872}\n"
     ]
    },
    {
     "name": "stderr",
     "output_type": "stream",
     "text": [
      "/home/mattiapggioli/lyrics2ts/.venv/lib/python3.9/site-packages/sklearn_extra/cluster/_k_medoids.py:275: UserWarning: Cluster 384 is empty! self.labels_[self.medoid_indices_[384]] may not be labeled with its corresponding cluster (384).\n",
      "  warnings.warn(\n",
      "/home/mattiapggioli/lyrics2ts/.venv/lib/python3.9/site-packages/sklearn_extra/cluster/_k_medoids.py:275: UserWarning: Cluster 1414 is empty! self.labels_[self.medoid_indices_[1414]] may not be labeled with its corresponding cluster (1414).\n",
      "  warnings.warn(\n",
      "/home/mattiapggioli/lyrics2ts/.venv/lib/python3.9/site-packages/sklearn_extra/cluster/_k_medoids.py:275: UserWarning: Cluster 2261 is empty! self.labels_[self.medoid_indices_[2261]] may not be labeled with its corresponding cluster (2261).\n",
      "  warnings.warn(\n",
      "/home/mattiapggioli/lyrics2ts/.venv/lib/python3.9/site-packages/sklearn_extra/cluster/_k_medoids.py:275: UserWarning: Cluster 2800 is empty! self.labels_[self.medoid_indices_[2800]] may not be labeled with its corresponding cluster (2800).\n",
      "  warnings.warn(\n",
      "/home/mattiapggioli/lyrics2ts/.venv/lib/python3.9/site-packages/sklearn_extra/cluster/_k_medoids.py:275: UserWarning: Cluster 2828 is empty! self.labels_[self.medoid_indices_[2828]] may not be labeled with its corresponding cluster (2828).\n",
      "  warnings.warn(\n",
      "/home/mattiapggioli/lyrics2ts/.venv/lib/python3.9/site-packages/sklearn_extra/cluster/_k_medoids.py:275: UserWarning: Cluster 2836 is empty! self.labels_[self.medoid_indices_[2836]] may not be labeled with its corresponding cluster (2836).\n",
      "  warnings.warn(\n"
     ]
    },
    {
     "name": "stderr",
     "output_type": "stream",
     "text": [
      "/home/mattiapggioli/lyrics2ts/.venv/lib/python3.9/site-packages/sklearn_extra/cluster/_k_medoids.py:275: UserWarning: Cluster 1305 is empty! self.labels_[self.medoid_indices_[1305]] may not be labeled with its corresponding cluster (1305).\n",
      "  warnings.warn(\n",
      "/home/mattiapggioli/lyrics2ts/.venv/lib/python3.9/site-packages/sklearn_extra/cluster/_k_medoids.py:275: UserWarning: Cluster 1545 is empty! self.labels_[self.medoid_indices_[1545]] may not be labeled with its corresponding cluster (1545).\n",
      "  warnings.warn(\n",
      "/home/mattiapggioli/lyrics2ts/.venv/lib/python3.9/site-packages/sklearn_extra/cluster/_k_medoids.py:275: UserWarning: Cluster 1767 is empty! self.labels_[self.medoid_indices_[1767]] may not be labeled with its corresponding cluster (1767).\n",
      "  warnings.warn(\n",
      "/home/mattiapggioli/lyrics2ts/.venv/lib/python3.9/site-packages/sklearn_extra/cluster/_k_medoids.py:275: UserWarning: Cluster 2189 is empty! self.labels_[self.medoid_indices_[2189]] may not be labeled with its corresponding cluster (2189).\n",
      "  warnings.warn(\n",
      "/home/mattiapggioli/lyrics2ts/.venv/lib/python3.9/site-packages/sklearn_extra/cluster/_k_medoids.py:275: UserWarning: Cluster 2202 is empty! self.labels_[self.medoid_indices_[2202]] may not be labeled with its corresponding cluster (2202).\n",
      "  warnings.warn(\n",
      "/home/mattiapggioli/lyrics2ts/.venv/lib/python3.9/site-packages/sklearn_extra/cluster/_k_medoids.py:275: UserWarning: Cluster 2408 is empty! self.labels_[self.medoid_indices_[2408]] may not be labeled with its corresponding cluster (2408).\n",
      "  warnings.warn(\n",
      "/home/mattiapggioli/lyrics2ts/.venv/lib/python3.9/site-packages/sklearn_extra/cluster/_k_medoids.py:275: UserWarning: Cluster 2518 is empty! self.labels_[self.medoid_indices_[2518]] may not be labeled with its corresponding cluster (2518).\n",
      "  warnings.warn(\n",
      "/home/mattiapggioli/lyrics2ts/.venv/lib/python3.9/site-packages/sklearn_extra/cluster/_k_medoids.py:275: UserWarning: Cluster 2687 is empty! self.labels_[self.medoid_indices_[2687]] may not be labeled with its corresponding cluster (2687).\n",
      "  warnings.warn(\n",
      "/home/mattiapggioli/lyrics2ts/.venv/lib/python3.9/site-packages/sklearn_extra/cluster/_k_medoids.py:275: UserWarning: Cluster 2734 is empty! self.labels_[self.medoid_indices_[2734]] may not be labeled with its corresponding cluster (2734).\n",
      "  warnings.warn(\n"
     ]
    },
    {
     "name": "stderr",
     "output_type": "stream",
     "text": [
      "/home/mattiapggioli/lyrics2ts/.venv/lib/python3.9/site-packages/sklearn_extra/cluster/_k_medoids.py:275: UserWarning: Cluster 532 is empty! self.labels_[self.medoid_indices_[532]] may not be labeled with its corresponding cluster (532).\n",
      "  warnings.warn(\n",
      "/home/mattiapggioli/lyrics2ts/.venv/lib/python3.9/site-packages/sklearn_extra/cluster/_k_medoids.py:275: UserWarning: Cluster 1500 is empty! self.labels_[self.medoid_indices_[1500]] may not be labeled with its corresponding cluster (1500).\n",
      "  warnings.warn(\n"
     ]
    }
   ],
   "source": [
    "if undersampling:\n",
    "    total_samples = len(y_train)\n",
    "    unique_classes, class_counts = np.unique(y_train, return_counts=True)\n",
    "    samp_strat = dict(zip(unique_classes, np.floor(class_counts * undersampling).astype(int)))\n",
    "    print(samp_strat)\n",
    "    cc = ClusterCentroids(estimator=KMedoids(\n",
    "        random_state=42), sampling_strategy=samp_strat, random_state=42)\n",
    "    X_train, y_train = cc.fit_resample(X_train, y_train)\n",
    "    X_train.shape"
   ]
  },
  {
   "cell_type": "code",
   "execution_count": 65,
   "id": "e7ac6b44",
   "metadata": {
    "execution": {
     "iopub.execute_input": "2023-03-09T17:26:04.050999Z",
     "iopub.status.busy": "2023-03-09T17:26:04.050276Z",
     "iopub.status.idle": "2023-03-09T17:26:04.075290Z",
     "shell.execute_reply": "2023-03-09T17:26:04.074423Z"
    },
    "papermill": {
     "duration": 0.052499,
     "end_time": "2023-03-09T17:26:04.078679",
     "exception": false,
     "start_time": "2023-03-09T17:26:04.026180",
     "status": "completed"
    },
    "tags": []
   },
   "outputs": [
    {
     "data": {
      "text/html": [
       "<style>#sk-container-id-9 {color: black;background-color: white;}#sk-container-id-9 pre{padding: 0;}#sk-container-id-9 div.sk-toggleable {background-color: white;}#sk-container-id-9 label.sk-toggleable__label {cursor: pointer;display: block;width: 100%;margin-bottom: 0;padding: 0.3em;box-sizing: border-box;text-align: center;}#sk-container-id-9 label.sk-toggleable__label-arrow:before {content: \"▸\";float: left;margin-right: 0.25em;color: #696969;}#sk-container-id-9 label.sk-toggleable__label-arrow:hover:before {color: black;}#sk-container-id-9 div.sk-estimator:hover label.sk-toggleable__label-arrow:before {color: black;}#sk-container-id-9 div.sk-toggleable__content {max-height: 0;max-width: 0;overflow: hidden;text-align: left;background-color: #f0f8ff;}#sk-container-id-9 div.sk-toggleable__content pre {margin: 0.2em;color: black;border-radius: 0.25em;background-color: #f0f8ff;}#sk-container-id-9 input.sk-toggleable__control:checked~div.sk-toggleable__content {max-height: 200px;max-width: 100%;overflow: auto;}#sk-container-id-9 input.sk-toggleable__control:checked~label.sk-toggleable__label-arrow:before {content: \"▾\";}#sk-container-id-9 div.sk-estimator input.sk-toggleable__control:checked~label.sk-toggleable__label {background-color: #d4ebff;}#sk-container-id-9 div.sk-label input.sk-toggleable__control:checked~label.sk-toggleable__label {background-color: #d4ebff;}#sk-container-id-9 input.sk-hidden--visually {border: 0;clip: rect(1px 1px 1px 1px);clip: rect(1px, 1px, 1px, 1px);height: 1px;margin: -1px;overflow: hidden;padding: 0;position: absolute;width: 1px;}#sk-container-id-9 div.sk-estimator {font-family: monospace;background-color: #f0f8ff;border: 1px dotted black;border-radius: 0.25em;box-sizing: border-box;margin-bottom: 0.5em;}#sk-container-id-9 div.sk-estimator:hover {background-color: #d4ebff;}#sk-container-id-9 div.sk-parallel-item::after {content: \"\";width: 100%;border-bottom: 1px solid gray;flex-grow: 1;}#sk-container-id-9 div.sk-label:hover label.sk-toggleable__label {background-color: #d4ebff;}#sk-container-id-9 div.sk-serial::before {content: \"\";position: absolute;border-left: 1px solid gray;box-sizing: border-box;top: 0;bottom: 0;left: 50%;z-index: 0;}#sk-container-id-9 div.sk-serial {display: flex;flex-direction: column;align-items: center;background-color: white;padding-right: 0.2em;padding-left: 0.2em;position: relative;}#sk-container-id-9 div.sk-item {position: relative;z-index: 1;}#sk-container-id-9 div.sk-parallel {display: flex;align-items: stretch;justify-content: center;background-color: white;position: relative;}#sk-container-id-9 div.sk-item::before, #sk-container-id-9 div.sk-parallel-item::before {content: \"\";position: absolute;border-left: 1px solid gray;box-sizing: border-box;top: 0;bottom: 0;left: 50%;z-index: -1;}#sk-container-id-9 div.sk-parallel-item {display: flex;flex-direction: column;z-index: 1;position: relative;background-color: white;}#sk-container-id-9 div.sk-parallel-item:first-child::after {align-self: flex-end;width: 50%;}#sk-container-id-9 div.sk-parallel-item:last-child::after {align-self: flex-start;width: 50%;}#sk-container-id-9 div.sk-parallel-item:only-child::after {width: 0;}#sk-container-id-9 div.sk-dashed-wrapped {border: 1px dashed gray;margin: 0 0.4em 0.5em 0.4em;box-sizing: border-box;padding-bottom: 0.4em;background-color: white;}#sk-container-id-9 div.sk-label label {font-family: monospace;font-weight: bold;display: inline-block;line-height: 1.2em;}#sk-container-id-9 div.sk-label-container {text-align: center;}#sk-container-id-9 div.sk-container {/* jupyter's `normalize.less` sets `[hidden] { display: none; }` but bootstrap.min.css set `[hidden] { display: none !important; }` so we also need the `!important` here to be able to override the default hidden behavior on the sphinx rendered scikit-learn.org. See: https://github.com/scikit-learn/scikit-learn/issues/21755 */display: inline-block !important;position: relative;}#sk-container-id-9 div.sk-text-repr-fallback {display: none;}</style><div id=\"sk-container-id-9\" class=\"sk-top-container\"><div class=\"sk-text-repr-fallback\"><pre>KNeighborsClassifier(metric=&#x27;dtw_sakoechiba&#x27;, metric_params={&#x27;window_size&#x27;: 3})</pre><b>In a Jupyter environment, please rerun this cell to show the HTML representation or trust the notebook. <br />On GitHub, the HTML representation is unable to render, please try loading this page with nbviewer.org.</b></div><div class=\"sk-container\" hidden><div class=\"sk-item\"><div class=\"sk-estimator sk-toggleable\"><input class=\"sk-toggleable__control sk-hidden--visually\" id=\"sk-estimator-id-9\" type=\"checkbox\" checked><label for=\"sk-estimator-id-9\" class=\"sk-toggleable__label sk-toggleable__label-arrow\">KNeighborsClassifier</label><div class=\"sk-toggleable__content\"><pre>KNeighborsClassifier(metric=&#x27;dtw_sakoechiba&#x27;, metric_params={&#x27;window_size&#x27;: 3})</pre></div></div></div></div></div>"
      ],
      "text/plain": [
       "KNeighborsClassifier(metric='dtw_sakoechiba', metric_params={'window_size': 3})"
      ]
     },
     "execution_count": 65,
     "metadata": {},
     "output_type": "execute_result"
    }
   ],
   "source": [
    "clf = KNeighborsClassifier(metric='dtw_sakoechiba',  metric_params={'window_size':3})\n",
    "\n",
    "clf.fit(X_train, y_train)"
   ]
  },
  {
   "cell_type": "code",
   "execution_count": 66,
   "id": "8109d19d",
   "metadata": {
    "execution": {
     "iopub.execute_input": "2023-03-09T17:26:04.139613Z",
     "iopub.status.busy": "2023-03-09T17:26:04.139161Z",
     "iopub.status.idle": "2023-03-09T20:21:02.360380Z",
     "shell.execute_reply": "2023-03-09T20:21:02.359429Z"
    },
    "papermill": {
     "duration": 10498.283936,
     "end_time": "2023-03-09T20:21:02.405554",
     "exception": false,
     "start_time": "2023-03-09T17:26:04.121618",
     "status": "completed"
    },
    "tags": []
   },
   "outputs": [
    {
     "name": "stdout",
     "output_type": "stream",
     "text": [
      "              precision    recall  f1-score   support\n",
      "\n",
      "         pop       0.37      0.36      0.37      2400\n",
      "         rap       0.51      0.52      0.52      2376\n",
      "        rock       0.43      0.42      0.42      2424\n",
      "\n",
      "    accuracy                           0.44      7200\n",
      "   macro avg       0.43      0.44      0.44      7200\n",
      "weighted avg       0.43      0.44      0.43      7200\n",
      "\n",
      "CPU times: user 2h 54min 54s, sys: 2.92 s, total: 2h 54min 57s\n",
      "Wall time: 2h 54min 58s\n"
     ]
    }
   ],
   "source": [
    "%%time\n",
    "y_pred = clf.predict(X_test)\n",
    "print(classification_report(y_test, y_pred))"
   ]
  },
  {
   "cell_type": "code",
   "execution_count": 67,
   "id": "b09f5cdf",
   "metadata": {
    "execution": {
     "iopub.execute_input": "2023-03-09T20:21:02.461779Z",
     "iopub.status.busy": "2023-03-09T20:21:02.461309Z",
     "iopub.status.idle": "2023-03-09T20:21:02.619653Z",
     "shell.execute_reply": "2023-03-09T20:21:02.618742Z"
    },
    "papermill": {
     "duration": 0.178041,
     "end_time": "2023-03-09T20:21:02.622498",
     "exception": false,
     "start_time": "2023-03-09T20:21:02.444457",
     "status": "completed"
    },
    "tags": []
   },
   "outputs": [],
   "source": [
    "acc = accuracy_score(y_test, y_pred)\n",
    "pre = precision_score(y_test, y_pred, average=avg_par)\n",
    "rec = recall_score(y_test, y_pred, average=avg_par)\n",
    "f1 = f1_score(y_test, y_pred, average=avg_par)\n",
    "\n",
    "metrics_data['KNN']['DTW'] = {'Accuracy': acc, 'Precision': pre, 'Recall': rec, 'F1': f1}"
   ]
  },
  {
   "cell_type": "markdown",
   "id": "e0e700a7",
   "metadata": {
    "papermill": {
     "duration": 0.041555,
     "end_time": "2023-03-09T20:21:02.705319",
     "exception": false,
     "start_time": "2023-03-09T20:21:02.663764",
     "status": "completed"
    },
    "tags": []
   },
   "source": [
    "## Overall Results"
   ]
  },
  {
   "cell_type": "code",
   "execution_count": 68,
   "id": "d003c193",
   "metadata": {
    "execution": {
     "iopub.execute_input": "2023-03-09T20:21:02.736422Z",
     "iopub.status.busy": "2023-03-09T20:21:02.735964Z",
     "iopub.status.idle": "2023-03-09T20:21:02.753682Z",
     "shell.execute_reply": "2023-03-09T20:21:02.751997Z"
    },
    "papermill": {
     "duration": 0.035841,
     "end_time": "2023-03-09T20:21:02.755854",
     "exception": false,
     "start_time": "2023-03-09T20:21:02.720013",
     "status": "completed"
    },
    "tags": []
   },
   "outputs": [],
   "source": [
    "metrics_data = pd.DataFrame.from_dict({(i,j): metrics_data[i][j] \n",
    "                                       for i in metrics_data.keys() \n",
    "                                       for j in metrics_data[i].keys()},\n",
    "                                       orient='index')"
   ]
  },
  {
   "cell_type": "code",
   "execution_count": 69,
   "id": "0944fe84",
   "metadata": {
    "execution": {
     "iopub.execute_input": "2023-03-09T20:21:02.789841Z",
     "iopub.status.busy": "2023-03-09T20:21:02.789087Z",
     "iopub.status.idle": "2023-03-09T20:21:02.946983Z",
     "shell.execute_reply": "2023-03-09T20:21:02.946072Z"
    },
    "papermill": {
     "duration": 0.176692,
     "end_time": "2023-03-09T20:21:02.949533",
     "exception": false,
     "start_time": "2023-03-09T20:21:02.772841",
     "status": "completed"
    },
    "tags": []
   },
   "outputs": [],
   "source": [
    "acc = accuracy_score(y_test, y_pred)\n",
    "pre = precision_score(y_test, y_pred, average=avg_par)\n",
    "rec = recall_score(y_test, y_pred, average=avg_par)\n",
    "f1 = f1_score(y_test, y_pred, average=avg_par)"
   ]
  },
  {
   "cell_type": "code",
   "execution_count": 70,
   "id": "7ee1b347",
   "metadata": {
    "execution": {
     "iopub.execute_input": "2023-03-09T20:21:03.017116Z",
     "iopub.status.busy": "2023-03-09T20:21:03.016821Z",
     "iopub.status.idle": "2023-03-09T20:21:03.030938Z",
     "shell.execute_reply": "2023-03-09T20:21:03.029400Z"
    },
    "papermill": {
     "duration": 0.050906,
     "end_time": "2023-03-09T20:21:03.033819",
     "exception": false,
     "start_time": "2023-03-09T20:21:02.982913",
     "status": "completed"
    },
    "tags": []
   },
   "outputs": [
    {
     "data": {
      "text/html": [
       "<div>\n",
       "<style scoped>\n",
       "    .dataframe tbody tr th:only-of-type {\n",
       "        vertical-align: middle;\n",
       "    }\n",
       "\n",
       "    .dataframe tbody tr th {\n",
       "        vertical-align: top;\n",
       "    }\n",
       "\n",
       "    .dataframe thead th {\n",
       "        text-align: right;\n",
       "    }\n",
       "</style>\n",
       "<table border=\"1\" class=\"dataframe\">\n",
       "  <thead>\n",
       "    <tr style=\"text-align: right;\">\n",
       "      <th></th>\n",
       "      <th></th>\n",
       "      <th>Accuracy</th>\n",
       "      <th>Precision</th>\n",
       "      <th>Recall</th>\n",
       "      <th>F1</th>\n",
       "    </tr>\n",
       "  </thead>\n",
       "  <tbody>\n",
       "    <tr>\n",
       "      <th rowspan=\"3\" valign=\"top\">Global</th>\n",
       "      <th>DecisionTree</th>\n",
       "      <td>0.585694</td>\n",
       "      <td>0.583850</td>\n",
       "      <td>0.586559</td>\n",
       "      <td>0.585022</td>\n",
       "    </tr>\n",
       "    <tr>\n",
       "      <th>RandomForest</th>\n",
       "      <td>0.709167</td>\n",
       "      <td>0.719371</td>\n",
       "      <td>0.709787</td>\n",
       "      <td>0.713568</td>\n",
       "    </tr>\n",
       "    <tr>\n",
       "      <th>LightGBM</th>\n",
       "      <td>0.725972</td>\n",
       "      <td>0.731817</td>\n",
       "      <td>0.726622</td>\n",
       "      <td>0.728868</td>\n",
       "    </tr>\n",
       "    <tr>\n",
       "      <th rowspan=\"3\" valign=\"top\">Shapelets</th>\n",
       "      <th>DecisionTree</th>\n",
       "      <td>0.482500</td>\n",
       "      <td>0.483810</td>\n",
       "      <td>0.483094</td>\n",
       "      <td>0.483441</td>\n",
       "    </tr>\n",
       "    <tr>\n",
       "      <th>RandomForest</th>\n",
       "      <td>0.585417</td>\n",
       "      <td>0.582038</td>\n",
       "      <td>0.586115</td>\n",
       "      <td>0.583777</td>\n",
       "    </tr>\n",
       "    <tr>\n",
       "      <th>LightGBM</th>\n",
       "      <td>0.576389</td>\n",
       "      <td>0.570823</td>\n",
       "      <td>0.577013</td>\n",
       "      <td>0.572654</td>\n",
       "    </tr>\n",
       "    <tr>\n",
       "      <th rowspan=\"2\" valign=\"top\">KNN</th>\n",
       "      <th>Euclidean</th>\n",
       "      <td>0.387917</td>\n",
       "      <td>0.426993</td>\n",
       "      <td>0.386274</td>\n",
       "      <td>0.360250</td>\n",
       "    </tr>\n",
       "    <tr>\n",
       "      <th>DTW</th>\n",
       "      <td>0.435278</td>\n",
       "      <td>0.434679</td>\n",
       "      <td>0.435636</td>\n",
       "      <td>0.435102</td>\n",
       "    </tr>\n",
       "  </tbody>\n",
       "</table>\n",
       "</div>"
      ],
      "text/plain": [
       "                        Accuracy  Precision    Recall        F1\n",
       "Global    DecisionTree  0.585694   0.583850  0.586559  0.585022\n",
       "          RandomForest  0.709167   0.719371  0.709787  0.713568\n",
       "          LightGBM      0.725972   0.731817  0.726622  0.728868\n",
       "Shapelets DecisionTree  0.482500   0.483810  0.483094  0.483441\n",
       "          RandomForest  0.585417   0.582038  0.586115  0.583777\n",
       "          LightGBM      0.576389   0.570823  0.577013  0.572654\n",
       "KNN       Euclidean     0.387917   0.426993  0.386274  0.360250\n",
       "          DTW           0.435278   0.434679  0.435636  0.435102"
      ]
     },
     "execution_count": 70,
     "metadata": {},
     "output_type": "execute_result"
    }
   ],
   "source": [
    "metrics_data"
   ]
  },
  {
   "cell_type": "code",
   "execution_count": 71,
   "id": "3efc173e",
   "metadata": {
    "execution": {
     "iopub.execute_input": "2023-03-09T20:21:03.083530Z",
     "iopub.status.busy": "2023-03-09T20:21:03.083040Z",
     "iopub.status.idle": "2023-03-09T20:21:03.105712Z",
     "shell.execute_reply": "2023-03-09T20:21:03.105075Z"
    },
    "papermill": {
     "duration": 0.040839,
     "end_time": "2023-03-09T20:21:03.107532",
     "exception": false,
     "start_time": "2023-03-09T20:21:03.066693",
     "status": "completed"
    },
    "tags": []
   },
   "outputs": [],
   "source": [
    "metrics_data.to_csv(f'{data_path}/metrics.csv')"
   ]
  },
  {
   "cell_type": "code",
   "execution_count": null,
   "id": "d21f5304",
   "metadata": {
    "papermill": {
     "duration": 0.021001,
     "end_time": "2023-03-09T20:21:03.145822",
     "exception": false,
     "start_time": "2023-03-09T20:21:03.124821",
     "status": "completed"
    },
    "tags": []
   },
   "outputs": [],
   "source": []
  }
 ],
 "metadata": {
  "celltoolbar": "Tags",
  "kernelspec": {
   "display_name": "Python 3 (ipykernel)",
   "language": "python",
   "name": "python3"
  },
  "language_info": {
   "codemirror_mode": {
    "name": "ipython",
    "version": 3
   },
   "file_extension": ".py",
   "mimetype": "text/x-python",
   "name": "python",
   "nbconvert_exporter": "python",
   "pygments_lexer": "ipython3",
   "version": "3.9.16"
  },
  "papermill": {
   "default_parameters": {},
   "duration": 13531.214262,
   "end_time": "2023-03-09T20:21:06.246858",
   "environment_variables": {},
   "exception": null,
   "input_path": "09_ts_classification.ipynb",
   "output_path": "../clf-reports/pp-rc-rp_sbert.ipynb",
   "parameters": {
    "data_path": "/home/mattiapggioli/lyrics2ts/data/classification/pp-rc-rp/sbert/",
    "paa_window_size": 20,
    "undersampling": 0.3
   },
   "start_time": "2023-03-09T16:35:35.032596",
   "version": "2.4.0"
  },
  "vscode": {
   "interpreter": {
    "hash": "eb8d1ded7c87c6f9c253b40add648304d6b51d2e38393955e855effc7e6f899a"
   }
  }
 },
 "nbformat": 4,
 "nbformat_minor": 5
}