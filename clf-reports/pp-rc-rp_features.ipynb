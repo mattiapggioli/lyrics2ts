{
 "cells": [
  {
   "cell_type": "markdown",
   "id": "d79a68c5",
   "metadata": {
    "papermill": {
     "duration": 0.028577,
     "end_time": "2023-03-21T02:30:23.127075",
     "exception": false,
     "start_time": "2023-03-21T02:30:23.098498",
     "status": "completed"
    },
    "tags": []
   },
   "source": [
    "# Time Series Classification"
   ]
  },
  {
   "cell_type": "code",
   "execution_count": 1,
   "id": "8a0cb2b0",
   "metadata": {
    "execution": {
     "iopub.execute_input": "2023-03-21T02:30:23.184208Z",
     "iopub.status.busy": "2023-03-21T02:30:23.182926Z",
     "iopub.status.idle": "2023-03-21T02:30:24.907433Z",
     "shell.execute_reply": "2023-03-21T02:30:24.906490Z"
    },
    "papermill": {
     "duration": 1.754907,
     "end_time": "2023-03-21T02:30:24.909255",
     "exception": false,
     "start_time": "2023-03-21T02:30:23.154348",
     "status": "completed"
    },
    "tags": []
   },
   "outputs": [],
   "source": [
    "%matplotlib inline\n",
    "import pandas as pd\n",
    "import numpy as np\n",
    "import matplotlib.pyplot as plt\n",
    "import seaborn as sns\n",
    "import re\n",
    "import os\n",
    "from sklearn.preprocessing import StandardScaler\n",
    "from sklearn.decomposition import PCA\n",
    "import joblib\n",
    "from tslearn.utils import to_time_series_dataset, save_time_series_txt, load_time_series_txt\n",
    "import random\n",
    "from sklearn.model_selection import train_test_split\n",
    "from sklearn.metrics import accuracy_score, f1_score, precision_score, recall_score, classification_report\n",
    "import pickle"
   ]
  },
  {
   "cell_type": "code",
   "execution_count": 2,
   "id": "acc03405",
   "metadata": {
    "execution": {
     "iopub.execute_input": "2023-03-21T02:30:24.935356Z",
     "iopub.status.busy": "2023-03-21T02:30:24.934934Z",
     "iopub.status.idle": "2023-03-21T02:30:24.939466Z",
     "shell.execute_reply": "2023-03-21T02:30:24.938565Z"
    },
    "papermill": {
     "duration": 0.019297,
     "end_time": "2023-03-21T02:30:24.941155",
     "exception": false,
     "start_time": "2023-03-21T02:30:24.921858",
     "status": "completed"
    },
    "tags": [
     "parameters"
    ]
   },
   "outputs": [],
   "source": [
    "data_path = '/home/mattiapggioli/lyrics2ts/data/classification/pp-rc/sbert/'\n",
    "truncate=100\n",
    "max_iter = 2000\n",
    "paa_window_size = None\n",
    "undersampling = None"
   ]
  },
  {
   "cell_type": "code",
   "execution_count": 3,
   "id": "16781a77",
   "metadata": {
    "execution": {
     "iopub.execute_input": "2023-03-21T02:30:24.968157Z",
     "iopub.status.busy": "2023-03-21T02:30:24.967623Z",
     "iopub.status.idle": "2023-03-21T02:30:24.974110Z",
     "shell.execute_reply": "2023-03-21T02:30:24.972727Z"
    },
    "papermill": {
     "duration": 0.025479,
     "end_time": "2023-03-21T02:30:24.977334",
     "exception": false,
     "start_time": "2023-03-21T02:30:24.951855",
     "status": "completed"
    },
    "tags": [
     "injected-parameters"
    ]
   },
   "outputs": [],
   "source": [
    "# Parameters\n",
    "data_path = \"/home/mattiapggioli/lyrics2ts/data/classification/pp-rc-rp/features/\"\n",
    "paa_window_size = 20\n",
    "undersampling = 0.3\n"
   ]
  },
  {
   "cell_type": "code",
   "execution_count": 4,
   "id": "a4f0c774",
   "metadata": {
    "execution": {
     "iopub.execute_input": "2023-03-21T02:30:25.024158Z",
     "iopub.status.busy": "2023-03-21T02:30:25.023681Z",
     "iopub.status.idle": "2023-03-21T02:30:49.926744Z",
     "shell.execute_reply": "2023-03-21T02:30:49.925826Z"
    },
    "papermill": {
     "duration": 24.925514,
     "end_time": "2023-03-21T02:30:49.929723",
     "exception": false,
     "start_time": "2023-03-21T02:30:25.004209",
     "status": "completed"
    },
    "tags": []
   },
   "outputs": [],
   "source": [
    "ts = load_time_series_txt(f'{data_path}/ts.txt')"
   ]
  },
  {
   "cell_type": "code",
   "execution_count": 5,
   "id": "5c48d154",
   "metadata": {
    "execution": {
     "iopub.execute_input": "2023-03-21T02:30:49.987276Z",
     "iopub.status.busy": "2023-03-21T02:30:49.986959Z",
     "iopub.status.idle": "2023-03-21T02:30:49.994414Z",
     "shell.execute_reply": "2023-03-21T02:30:49.993223Z"
    },
    "papermill": {
     "duration": 0.040047,
     "end_time": "2023-03-21T02:30:49.999132",
     "exception": false,
     "start_time": "2023-03-21T02:30:49.959085",
     "status": "completed"
    },
    "tags": []
   },
   "outputs": [
    {
     "data": {
      "text/plain": [
       "(36000, 130, 1)"
      ]
     },
     "execution_count": 5,
     "metadata": {},
     "output_type": "execute_result"
    }
   ],
   "source": [
    "ts.shape"
   ]
  },
  {
   "cell_type": "code",
   "execution_count": 6,
   "id": "f6274d40",
   "metadata": {
    "execution": {
     "iopub.execute_input": "2023-03-21T02:30:50.037518Z",
     "iopub.status.busy": "2023-03-21T02:30:50.037214Z",
     "iopub.status.idle": "2023-03-21T02:30:50.043877Z",
     "shell.execute_reply": "2023-03-21T02:30:50.042974Z"
    },
    "papermill": {
     "duration": 0.01973,
     "end_time": "2023-03-21T02:30:50.045627",
     "exception": false,
     "start_time": "2023-03-21T02:30:50.025897",
     "status": "completed"
    },
    "tags": []
   },
   "outputs": [],
   "source": [
    "with open(f'{data_path}/y_class.npy', 'rb') as f:\n",
    "    y = np.load(f, allow_pickle=True)"
   ]
  },
  {
   "cell_type": "code",
   "execution_count": 7,
   "id": "9d42fa3b",
   "metadata": {
    "execution": {
     "iopub.execute_input": "2023-03-21T02:30:50.068191Z",
     "iopub.status.busy": "2023-03-21T02:30:50.067716Z",
     "iopub.status.idle": "2023-03-21T02:30:50.079087Z",
     "shell.execute_reply": "2023-03-21T02:30:50.077997Z"
    },
    "papermill": {
     "duration": 0.025042,
     "end_time": "2023-03-21T02:30:50.081254",
     "exception": false,
     "start_time": "2023-03-21T02:30:50.056212",
     "status": "completed"
    },
    "tags": []
   },
   "outputs": [],
   "source": [
    "with open(f'{data_path}/X.npy', 'rb') as f:\n",
    "    X = np.load(f, allow_pickle=True)"
   ]
  },
  {
   "cell_type": "code",
   "execution_count": 8,
   "id": "1158a9da",
   "metadata": {
    "execution": {
     "iopub.execute_input": "2023-03-21T02:30:50.104703Z",
     "iopub.status.busy": "2023-03-21T02:30:50.104382Z",
     "iopub.status.idle": "2023-03-21T02:30:50.110954Z",
     "shell.execute_reply": "2023-03-21T02:30:50.109882Z"
    },
    "papermill": {
     "duration": 0.019429,
     "end_time": "2023-03-21T02:30:50.112569",
     "exception": false,
     "start_time": "2023-03-21T02:30:50.093140",
     "status": "completed"
    },
    "tags": []
   },
   "outputs": [
    {
     "data": {
      "text/plain": [
       "(36000, 14)"
      ]
     },
     "execution_count": 8,
     "metadata": {},
     "output_type": "execute_result"
    }
   ],
   "source": [
    "X.shape"
   ]
  },
  {
   "cell_type": "code",
   "execution_count": 9,
   "id": "47239790",
   "metadata": {
    "execution": {
     "iopub.execute_input": "2023-03-21T02:30:50.134730Z",
     "iopub.status.busy": "2023-03-21T02:30:50.134425Z",
     "iopub.status.idle": "2023-03-21T02:30:50.141088Z",
     "shell.execute_reply": "2023-03-21T02:30:50.140216Z"
    },
    "papermill": {
     "duration": 0.019634,
     "end_time": "2023-03-21T02:30:50.142659",
     "exception": false,
     "start_time": "2023-03-21T02:30:50.123025",
     "status": "completed"
    },
    "tags": []
   },
   "outputs": [
    {
     "data": {
      "text/plain": [
       "{'pop', 'rap', 'rock'}"
      ]
     },
     "execution_count": 9,
     "metadata": {},
     "output_type": "execute_result"
    }
   ],
   "source": [
    "set(y)"
   ]
  },
  {
   "cell_type": "code",
   "execution_count": 10,
   "id": "37609992",
   "metadata": {
    "execution": {
     "iopub.execute_input": "2023-03-21T02:30:50.165080Z",
     "iopub.status.busy": "2023-03-21T02:30:50.164773Z",
     "iopub.status.idle": "2023-03-21T02:30:50.236207Z",
     "shell.execute_reply": "2023-03-21T02:30:50.234793Z"
    },
    "papermill": {
     "duration": 0.08504,
     "end_time": "2023-03-21T02:30:50.238273",
     "exception": false,
     "start_time": "2023-03-21T02:30:50.153233",
     "status": "completed"
    },
    "tags": []
   },
   "outputs": [],
   "source": [
    "ts_train, ts_test, y_train, y_test = train_test_split(\n",
    "    ts, y, test_size=0.20, random_state=42, stratify=y)"
   ]
  },
  {
   "cell_type": "code",
   "execution_count": 11,
   "id": "34508fe4",
   "metadata": {
    "execution": {
     "iopub.execute_input": "2023-03-21T02:30:50.263725Z",
     "iopub.status.busy": "2023-03-21T02:30:50.263408Z",
     "iopub.status.idle": "2023-03-21T02:30:50.327231Z",
     "shell.execute_reply": "2023-03-21T02:30:50.326329Z"
    },
    "papermill": {
     "duration": 0.078003,
     "end_time": "2023-03-21T02:30:50.329947",
     "exception": false,
     "start_time": "2023-03-21T02:30:50.251944",
     "status": "completed"
    },
    "tags": []
   },
   "outputs": [],
   "source": [
    "X_train, X_test, y_train, y_test = train_test_split(\n",
    "    X, y, test_size=0.20, random_state=42, stratify=y)"
   ]
  },
  {
   "cell_type": "code",
   "execution_count": 12,
   "id": "076afac9",
   "metadata": {
    "execution": {
     "iopub.execute_input": "2023-03-21T02:30:50.390841Z",
     "iopub.status.busy": "2023-03-21T02:30:50.390559Z",
     "iopub.status.idle": "2023-03-21T02:30:50.400051Z",
     "shell.execute_reply": "2023-03-21T02:30:50.398614Z"
    },
    "papermill": {
     "duration": 0.043773,
     "end_time": "2023-03-21T02:30:50.403317",
     "exception": false,
     "start_time": "2023-03-21T02:30:50.359544",
     "status": "completed"
    },
    "tags": []
   },
   "outputs": [
    {
     "data": {
      "text/plain": [
       "array([[-0.59580353],\n",
       "       [-0.52012664],\n",
       "       [-1.87462517],\n",
       "       [-0.52012664],\n",
       "       [-1.55649302],\n",
       "       [-3.77304885],\n",
       "       [-4.58697466],\n",
       "       [-2.42502552],\n",
       "       [-3.0783067 ],\n",
       "       [ 0.08052177],\n",
       "       [ 0.52959275],\n",
       "       [-1.9167334 ],\n",
       "       [-0.32397087],\n",
       "       [-1.19037543],\n",
       "       [-3.33451992],\n",
       "       [-2.37032096],\n",
       "       [-3.7336274 ],\n",
       "       [-0.08652163],\n",
       "       [ 0.25383976],\n",
       "       [-2.28890758],\n",
       "       [-1.8155027 ],\n",
       "       [ 0.60454703],\n",
       "       [-1.66457474],\n",
       "       [ 2.56662838],\n",
       "       [-1.37251414],\n",
       "       [ 0.69458793],\n",
       "       [-3.78117528],\n",
       "       [-1.80227495],\n",
       "       [-3.7336274 ],\n",
       "       [ 0.28413546],\n",
       "       [ 1.20346219],\n",
       "       [-2.28890758],\n",
       "       [-0.61546519],\n",
       "       [-2.33304645],\n",
       "       [-2.16396398],\n",
       "       [-0.13220873],\n",
       "       [-0.02247056],\n",
       "       [ 0.51859521],\n",
       "       [-3.95642806],\n",
       "       [-1.55478788],\n",
       "       [ 0.97400175],\n",
       "       [ 1.92627328],\n",
       "       [ 3.37183127],\n",
       "       [-0.52012664],\n",
       "       [-0.34714051],\n",
       "       [ 3.98903033],\n",
       "       [ 1.92627328],\n",
       "       [        nan],\n",
       "       [        nan],\n",
       "       [        nan],\n",
       "       [        nan],\n",
       "       [        nan],\n",
       "       [        nan],\n",
       "       [        nan],\n",
       "       [        nan],\n",
       "       [        nan],\n",
       "       [        nan],\n",
       "       [        nan],\n",
       "       [        nan],\n",
       "       [        nan],\n",
       "       [        nan],\n",
       "       [        nan],\n",
       "       [        nan],\n",
       "       [        nan],\n",
       "       [        nan],\n",
       "       [        nan],\n",
       "       [        nan],\n",
       "       [        nan],\n",
       "       [        nan],\n",
       "       [        nan],\n",
       "       [        nan],\n",
       "       [        nan],\n",
       "       [        nan],\n",
       "       [        nan],\n",
       "       [        nan],\n",
       "       [        nan],\n",
       "       [        nan],\n",
       "       [        nan],\n",
       "       [        nan],\n",
       "       [        nan],\n",
       "       [        nan],\n",
       "       [        nan],\n",
       "       [        nan],\n",
       "       [        nan],\n",
       "       [        nan],\n",
       "       [        nan],\n",
       "       [        nan],\n",
       "       [        nan],\n",
       "       [        nan],\n",
       "       [        nan],\n",
       "       [        nan],\n",
       "       [        nan],\n",
       "       [        nan],\n",
       "       [        nan],\n",
       "       [        nan],\n",
       "       [        nan],\n",
       "       [        nan],\n",
       "       [        nan],\n",
       "       [        nan],\n",
       "       [        nan],\n",
       "       [        nan],\n",
       "       [        nan],\n",
       "       [        nan],\n",
       "       [        nan],\n",
       "       [        nan],\n",
       "       [        nan],\n",
       "       [        nan],\n",
       "       [        nan],\n",
       "       [        nan],\n",
       "       [        nan],\n",
       "       [        nan],\n",
       "       [        nan],\n",
       "       [        nan],\n",
       "       [        nan],\n",
       "       [        nan],\n",
       "       [        nan],\n",
       "       [        nan],\n",
       "       [        nan],\n",
       "       [        nan],\n",
       "       [        nan],\n",
       "       [        nan],\n",
       "       [        nan],\n",
       "       [        nan],\n",
       "       [        nan],\n",
       "       [        nan],\n",
       "       [        nan],\n",
       "       [        nan],\n",
       "       [        nan],\n",
       "       [        nan],\n",
       "       [        nan]])"
      ]
     },
     "execution_count": 12,
     "metadata": {},
     "output_type": "execute_result"
    }
   ],
   "source": [
    "random.choice(ts_train)"
   ]
  },
  {
   "cell_type": "code",
   "execution_count": 13,
   "id": "ca66457a",
   "metadata": {
    "execution": {
     "iopub.execute_input": "2023-03-21T02:30:50.439908Z",
     "iopub.status.busy": "2023-03-21T02:30:50.439024Z",
     "iopub.status.idle": "2023-03-21T02:30:50.972824Z",
     "shell.execute_reply": "2023-03-21T02:30:50.972216Z"
    },
    "papermill": {
     "duration": 0.549185,
     "end_time": "2023-03-21T02:30:50.976173",
     "exception": false,
     "start_time": "2023-03-21T02:30:50.426988",
     "status": "completed"
    },
    "tags": []
   },
   "outputs": [
    {
     "data": {
      "text/plain": [
       "<AxesSubplot:ylabel='Count'>"
      ]
     },
     "execution_count": 13,
     "metadata": {},
     "output_type": "execute_result"
    },
    {
     "data": {
      "image/png": "[encoded data removed]",
      "text/plain": [
       "<Figure size 640x480 with 1 Axes>"
      ]
     },
     "metadata": {},
     "output_type": "display_data"
    }
   ],
   "source": [
    "sns.histplot([t[~np.any(np.isnan(t), axis=1)].shape[0] for t in ts_train])"
   ]
  },
  {
   "cell_type": "code",
   "execution_count": 14,
   "id": "c2ae286f",
   "metadata": {
    "execution": {
     "iopub.execute_input": "2023-03-21T02:30:51.039484Z",
     "iopub.status.busy": "2023-03-21T02:30:51.039162Z",
     "iopub.status.idle": "2023-03-21T02:30:51.044084Z",
     "shell.execute_reply": "2023-03-21T02:30:51.043125Z"
    },
    "papermill": {
     "duration": 0.040588,
     "end_time": "2023-03-21T02:30:51.047433",
     "exception": false,
     "start_time": "2023-03-21T02:30:51.006845",
     "status": "completed"
    },
    "tags": []
   },
   "outputs": [],
   "source": [
    "ts_train = ts_train[:, :truncate, :]\n",
    "ts_test = ts_test[:, :truncate, :]"
   ]
  },
  {
   "cell_type": "code",
   "execution_count": 15,
   "id": "3218baa4",
   "metadata": {
    "execution": {
     "iopub.execute_input": "2023-03-21T02:30:51.085002Z",
     "iopub.status.busy": "2023-03-21T02:30:51.084565Z",
     "iopub.status.idle": "2023-03-21T02:30:51.195689Z",
     "shell.execute_reply": "2023-03-21T02:30:51.194873Z"
    },
    "papermill": {
     "duration": 0.125981,
     "end_time": "2023-03-21T02:30:51.198466",
     "exception": false,
     "start_time": "2023-03-21T02:30:51.072485",
     "status": "completed"
    },
    "tags": []
   },
   "outputs": [],
   "source": [
    "mean_arr = np.nanmean(ts_train, axis=1, keepdims=True)\n",
    "nan_indices = np.isnan(ts_train)\n",
    "ts_train[nan_indices] = np.take(mean_arr, np.nonzero(nan_indices)[0])\n",
    "\n",
    "mean_arr = np.nanmean(ts_test, axis=1, keepdims=True)\n",
    "nan_indices = np.isnan(ts_test)\n",
    "ts_test[nan_indices] = np.take(mean_arr, np.nonzero(nan_indices)[0])"
   ]
  },
  {
   "cell_type": "code",
   "execution_count": 16,
   "id": "d369691b",
   "metadata": {
    "execution": {
     "iopub.execute_input": "2023-03-21T02:30:51.225002Z",
     "iopub.status.busy": "2023-03-21T02:30:51.224647Z",
     "iopub.status.idle": "2023-03-21T02:30:51.231080Z",
     "shell.execute_reply": "2023-03-21T02:30:51.230214Z"
    },
    "papermill": {
     "duration": 0.019886,
     "end_time": "2023-03-21T02:30:51.232497",
     "exception": false,
     "start_time": "2023-03-21T02:30:51.212611",
     "status": "completed"
    },
    "tags": []
   },
   "outputs": [
    {
     "data": {
      "text/plain": [
       "0"
      ]
     },
     "execution_count": 16,
     "metadata": {},
     "output_type": "execute_result"
    }
   ],
   "source": [
    "np.count_nonzero(np.isnan(X_train))"
   ]
  },
  {
   "cell_type": "code",
   "execution_count": 17,
   "id": "0d602e18",
   "metadata": {
    "execution": {
     "iopub.execute_input": "2023-03-21T02:30:51.256109Z",
     "iopub.status.busy": "2023-03-21T02:30:51.255649Z",
     "iopub.status.idle": "2023-03-21T02:30:51.261678Z",
     "shell.execute_reply": "2023-03-21T02:30:51.260617Z"
    },
    "papermill": {
     "duration": 0.019816,
     "end_time": "2023-03-21T02:30:51.263354",
     "exception": false,
     "start_time": "2023-03-21T02:30:51.243538",
     "status": "completed"
    },
    "tags": []
   },
   "outputs": [],
   "source": [
    "X_train[np.isnan(X_train)] = 0\n",
    "X_test[np.isnan(X_test)] = 0"
   ]
  },
  {
   "cell_type": "code",
   "execution_count": 18,
   "id": "45c5102c",
   "metadata": {
    "execution": {
     "iopub.execute_input": "2023-03-21T02:30:51.287067Z",
     "iopub.status.busy": "2023-03-21T02:30:51.286607Z",
     "iopub.status.idle": "2023-03-21T02:30:55.161075Z",
     "shell.execute_reply": "2023-03-21T02:30:55.159959Z"
    },
    "papermill": {
     "duration": 3.890279,
     "end_time": "2023-03-21T02:30:55.164727",
     "exception": false,
     "start_time": "2023-03-21T02:30:51.274448",
     "status": "completed"
    },
    "tags": []
   },
   "outputs": [],
   "source": [
    "save_time_series_txt(f'{data_path}/ts_train.txt', ts_train)\n",
    "save_time_series_txt(f'{data_path}/ts_test.txt', ts_test)"
   ]
  },
  {
   "cell_type": "code",
   "execution_count": 19,
   "id": "39830f37",
   "metadata": {
    "execution": {
     "iopub.execute_input": "2023-03-21T02:30:55.228001Z",
     "iopub.status.busy": "2023-03-21T02:30:55.226772Z",
     "iopub.status.idle": "2023-03-21T02:30:55.247414Z",
     "shell.execute_reply": "2023-03-21T02:30:55.246245Z"
    },
    "papermill": {
     "duration": 0.054061,
     "end_time": "2023-03-21T02:30:55.250746",
     "exception": false,
     "start_time": "2023-03-21T02:30:55.196685",
     "status": "completed"
    },
    "tags": []
   },
   "outputs": [],
   "source": [
    "with open(f'{data_path}/X_train.npy', 'wb') as f:\n",
    "    np.save(f, X_train, allow_pickle=True)\n",
    "\n",
    "with open(f'{data_path}/X_test.npy', 'wb') as f:\n",
    "    np.save(f, X_test, allow_pickle=True)"
   ]
  },
  {
   "cell_type": "code",
   "execution_count": 20,
   "id": "795fd2be",
   "metadata": {
    "execution": {
     "iopub.execute_input": "2023-03-21T02:30:55.306344Z",
     "iopub.status.busy": "2023-03-21T02:30:55.306035Z",
     "iopub.status.idle": "2023-03-21T02:30:55.315253Z",
     "shell.execute_reply": "2023-03-21T02:30:55.313961Z"
    },
    "papermill": {
     "duration": 0.035525,
     "end_time": "2023-03-21T02:30:55.317297",
     "exception": false,
     "start_time": "2023-03-21T02:30:55.281772",
     "status": "completed"
    },
    "tags": []
   },
   "outputs": [],
   "source": [
    "with open(f'{data_path}/y_train.npy', 'wb') as f:\n",
    "    np.save(f, y_train, allow_pickle=True)\n",
    "\n",
    "with open(f'{data_path}/y_test.npy', 'wb') as f:\n",
    "    np.save(f, y_test, allow_pickle=True)"
   ]
  },
  {
   "cell_type": "code",
   "execution_count": 21,
   "id": "08bda153",
   "metadata": {
    "execution": {
     "iopub.execute_input": "2023-03-21T02:30:55.341948Z",
     "iopub.status.busy": "2023-03-21T02:30:55.341473Z",
     "iopub.status.idle": "2023-03-21T02:30:55.548146Z",
     "shell.execute_reply": "2023-03-21T02:30:55.547509Z"
    },
    "papermill": {
     "duration": 0.222433,
     "end_time": "2023-03-21T02:30:55.551497",
     "exception": false,
     "start_time": "2023-03-21T02:30:55.329064",
     "status": "completed"
    },
    "tags": []
   },
   "outputs": [
    {
     "data": {
      "text/plain": [
       "[<matplotlib.lines.Line2D at 0x7f95e519d160>]"
      ]
     },
     "execution_count": 21,
     "metadata": {},
     "output_type": "execute_result"
    },
    {
     "data": {
      "image/png": "[encoded data removed]",
      "text/plain": [
       "<Figure size 640x480 with 1 Axes>"
      ]
     },
     "metadata": {},
     "output_type": "display_data"
    }
   ],
   "source": [
    "plt.plot(random.choice(ts_train))"
   ]
  },
  {
   "cell_type": "code",
   "execution_count": 22,
   "id": "98ce9d63",
   "metadata": {
    "execution": {
     "iopub.execute_input": "2023-03-21T02:30:55.619154Z",
     "iopub.status.busy": "2023-03-21T02:30:55.618857Z",
     "iopub.status.idle": "2023-03-21T02:30:55.626525Z",
     "shell.execute_reply": "2023-03-21T02:30:55.625623Z"
    },
    "papermill": {
     "duration": 0.044975,
     "end_time": "2023-03-21T02:30:55.629626",
     "exception": false,
     "start_time": "2023-03-21T02:30:55.584651",
     "status": "completed"
    },
    "tags": []
   },
   "outputs": [],
   "source": [
    "# Parameters that require knowing if it's binary or multiclass (LightGBM, metrics)\n",
    "if len(set(y)) == 2:\n",
    "    avg_par = 'macro'\n",
    "    obj_par = 'binary'\n",
    "elif len(set(y)) > 2:\n",
    "    avg_par = 'weighted'\n",
    "    obj_par = 'multiclass'"
   ]
  },
  {
   "cell_type": "markdown",
   "id": "228f1b39",
   "metadata": {
    "papermill": {
     "duration": 0.011022,
     "end_time": "2023-03-21T02:30:55.666664",
     "exception": false,
     "start_time": "2023-03-21T02:30:55.655642",
     "status": "completed"
    },
    "tags": []
   },
   "source": [
    "## Classification"
   ]
  },
  {
   "cell_type": "code",
   "execution_count": 23,
   "id": "34bb73ff",
   "metadata": {
    "execution": {
     "iopub.execute_input": "2023-03-21T02:30:55.690449Z",
     "iopub.status.busy": "2023-03-21T02:30:55.690134Z",
     "iopub.status.idle": "2023-03-21T02:30:55.748371Z",
     "shell.execute_reply": "2023-03-21T02:30:55.747589Z"
    },
    "papermill": {
     "duration": 0.073076,
     "end_time": "2023-03-21T02:30:55.751021",
     "exception": false,
     "start_time": "2023-03-21T02:30:55.677945",
     "status": "completed"
    },
    "tags": []
   },
   "outputs": [],
   "source": [
    "from sklearn.tree import DecisionTreeClassifier\n",
    "import lightgbm as lgbm\n",
    "from sklearn.ensemble import RandomForestClassifier"
   ]
  },
  {
   "cell_type": "code",
   "execution_count": 24,
   "id": "02aaee18",
   "metadata": {
    "execution": {
     "iopub.execute_input": "2023-03-21T02:30:55.778488Z",
     "iopub.status.busy": "2023-03-21T02:30:55.778172Z",
     "iopub.status.idle": "2023-03-21T02:30:55.782691Z",
     "shell.execute_reply": "2023-03-21T02:30:55.781754Z"
    },
    "papermill": {
     "duration": 0.018804,
     "end_time": "2023-03-21T02:30:55.784212",
     "exception": false,
     "start_time": "2023-03-21T02:30:55.765408",
     "status": "completed"
    },
    "tags": []
   },
   "outputs": [],
   "source": [
    "metrics_data = {}"
   ]
  },
  {
   "cell_type": "markdown",
   "id": "b49309ed",
   "metadata": {
    "papermill": {
     "duration": 0.011095,
     "end_time": "2023-03-21T02:30:55.806678",
     "exception": false,
     "start_time": "2023-03-21T02:30:55.795583",
     "status": "completed"
    },
    "tags": []
   },
   "source": [
    "### Baseline: global features (No Time Series)"
   ]
  },
  {
   "cell_type": "code",
   "execution_count": 25,
   "id": "35eb9f66",
   "metadata": {
    "execution": {
     "iopub.execute_input": "2023-03-21T02:30:55.830817Z",
     "iopub.status.busy": "2023-03-21T02:30:55.830361Z",
     "iopub.status.idle": "2023-03-21T02:30:55.835591Z",
     "shell.execute_reply": "2023-03-21T02:30:55.834532Z"
    },
    "papermill": {
     "duration": 0.019277,
     "end_time": "2023-03-21T02:30:55.837219",
     "exception": false,
     "start_time": "2023-03-21T02:30:55.817942",
     "status": "completed"
    },
    "tags": []
   },
   "outputs": [],
   "source": [
    "metrics_data['Global'] = {}"
   ]
  },
  {
   "cell_type": "markdown",
   "id": "29cd5044",
   "metadata": {
    "papermill": {
     "duration": 0.011115,
     "end_time": "2023-03-21T02:30:55.859615",
     "exception": false,
     "start_time": "2023-03-21T02:30:55.848500",
     "status": "completed"
    },
    "tags": []
   },
   "source": [
    "**Decision Tree**"
   ]
  },
  {
   "cell_type": "code",
   "execution_count": 26,
   "id": "9ef4f037",
   "metadata": {
    "execution": {
     "iopub.execute_input": "2023-03-21T02:30:55.884431Z",
     "iopub.status.busy": "2023-03-21T02:30:55.884118Z",
     "iopub.status.idle": "2023-03-21T02:30:56.534984Z",
     "shell.execute_reply": "2023-03-21T02:30:56.534086Z"
    },
    "papermill": {
     "duration": 0.666143,
     "end_time": "2023-03-21T02:30:56.537266",
     "exception": false,
     "start_time": "2023-03-21T02:30:55.871123",
     "status": "completed"
    },
    "tags": []
   },
   "outputs": [
    {
     "data": {
      "text/html": [
       "<style>#sk-container-id-1 {color: black;background-color: white;}#sk-container-id-1 pre{padding: 0;}#sk-container-id-1 div.sk-toggleable {background-color: white;}#sk-container-id-1 label.sk-toggleable__label {cursor: pointer;display: block;width: 100%;margin-bottom: 0;padding: 0.3em;box-sizing: border-box;text-align: center;}#sk-container-id-1 label.sk-toggleable__label-arrow:before {content: \"▸\";float: left;margin-right: 0.25em;color: #696969;}#sk-container-id-1 label.sk-toggleable__label-arrow:hover:before {color: black;}#sk-container-id-1 div.sk-estimator:hover label.sk-toggleable__label-arrow:before {color: black;}#sk-container-id-1 div.sk-toggleable__content {max-height: 0;max-width: 0;overflow: hidden;text-align: left;background-color: #f0f8ff;}#sk-container-id-1 div.sk-toggleable__content pre {margin: 0.2em;color: black;border-radius: 0.25em;background-color: #f0f8ff;}#sk-container-id-1 input.sk-toggleable__control:checked~div.sk-toggleable__content {max-height: 200px;max-width: 100%;overflow: auto;}#sk-container-id-1 input.sk-toggleable__control:checked~label.sk-toggleable__label-arrow:before {content: \"▾\";}#sk-container-id-1 div.sk-estimator input.sk-toggleable__control:checked~label.sk-toggleable__label {background-color: #d4ebff;}#sk-container-id-1 div.sk-label input.sk-toggleable__control:checked~label.sk-toggleable__label {background-color: #d4ebff;}#sk-container-id-1 input.sk-hidden--visually {border: 0;clip: rect(1px 1px 1px 1px);clip: rect(1px, 1px, 1px, 1px);height: 1px;margin: -1px;overflow: hidden;padding: 0;position: absolute;width: 1px;}#sk-container-id-1 div.sk-estimator {font-family: monospace;background-color: #f0f8ff;border: 1px dotted black;border-radius: 0.25em;box-sizing: border-box;margin-bottom: 0.5em;}#sk-container-id-1 div.sk-estimator:hover {background-color: #d4ebff;}#sk-container-id-1 div.sk-parallel-item::after {content: \"\";width: 100%;border-bottom: 1px solid gray;flex-grow: 1;}#sk-container-id-1 div.sk-label:hover label.sk-toggleable__label {background-color: #d4ebff;}#sk-container-id-1 div.sk-serial::before {content: \"\";position: absolute;border-left: 1px solid gray;box-sizing: border-box;top: 0;bottom: 0;left: 50%;z-index: 0;}#sk-container-id-1 div.sk-serial {display: flex;flex-direction: column;align-items: center;background-color: white;padding-right: 0.2em;padding-left: 0.2em;position: relative;}#sk-container-id-1 div.sk-item {position: relative;z-index: 1;}#sk-container-id-1 div.sk-parallel {display: flex;align-items: stretch;justify-content: center;background-color: white;position: relative;}#sk-container-id-1 div.sk-item::before, #sk-container-id-1 div.sk-parallel-item::before {content: \"\";position: absolute;border-left: 1px solid gray;box-sizing: border-box;top: 0;bottom: 0;left: 50%;z-index: -1;}#sk-container-id-1 div.sk-parallel-item {display: flex;flex-direction: column;z-index: 1;position: relative;background-color: white;}#sk-container-id-1 div.sk-parallel-item:first-child::after {align-self: flex-end;width: 50%;}#sk-container-id-1 div.sk-parallel-item:last-child::after {align-self: flex-start;width: 50%;}#sk-container-id-1 div.sk-parallel-item:only-child::after {width: 0;}#sk-container-id-1 div.sk-dashed-wrapped {border: 1px dashed gray;margin: 0 0.4em 0.5em 0.4em;box-sizing: border-box;padding-bottom: 0.4em;background-color: white;}#sk-container-id-1 div.sk-label label {font-family: monospace;font-weight: bold;display: inline-block;line-height: 1.2em;}#sk-container-id-1 div.sk-label-container {text-align: center;}#sk-container-id-1 div.sk-container {/* jupyter's `normalize.less` sets `[hidden] { display: none; }` but bootstrap.min.css set `[hidden] { display: none !important; }` so we also need the `!important` here to be able to override the default hidden behavior on the sphinx rendered scikit-learn.org. See: https://github.com/scikit-learn/scikit-learn/issues/21755 */display: inline-block !important;position: relative;}#sk-container-id-1 div.sk-text-repr-fallback {display: none;}</style><div id=\"sk-container-id-1\" class=\"sk-top-container\"><div class=\"sk-text-repr-fallback\"><pre>DecisionTreeClassifier()</pre><b>In a Jupyter environment, please rerun this cell to show the HTML representation or trust the notebook. <br />On GitHub, the HTML representation is unable to render, please try loading this page with nbviewer.org.</b></div><div class=\"sk-container\" hidden><div class=\"sk-item\"><div class=\"sk-estimator sk-toggleable\"><input class=\"sk-toggleable__control sk-hidden--visually\" id=\"sk-estimator-id-1\" type=\"checkbox\" checked><label for=\"sk-estimator-id-1\" class=\"sk-toggleable__label sk-toggleable__label-arrow\">DecisionTreeClassifier</label><div class=\"sk-toggleable__content\"><pre>DecisionTreeClassifier()</pre></div></div></div></div></div>"
      ],
      "text/plain": [
       "DecisionTreeClassifier()"
      ]
     },
     "execution_count": 26,
     "metadata": {},
     "output_type": "execute_result"
    }
   ],
   "source": [
    "clf = DecisionTreeClassifier()\n",
    "clf.fit(X_train, y_train)"
   ]
  },
  {
   "cell_type": "code",
   "execution_count": 27,
   "id": "9c50acc4",
   "metadata": {
    "execution": {
     "iopub.execute_input": "2023-03-21T02:30:56.564348Z",
     "iopub.status.busy": "2023-03-21T02:30:56.564029Z",
     "iopub.status.idle": "2023-03-21T02:30:56.719246Z",
     "shell.execute_reply": "2023-03-21T02:30:56.718281Z"
    },
    "papermill": {
     "duration": 0.17077,
     "end_time": "2023-03-21T02:30:56.722266",
     "exception": false,
     "start_time": "2023-03-21T02:30:56.551496",
     "status": "completed"
    },
    "tags": []
   },
   "outputs": [
    {
     "name": "stdout",
     "output_type": "stream",
     "text": [
      "              precision    recall  f1-score   support\n",
      "\n",
      "         pop       0.48      0.47      0.48      2400\n",
      "         rap       0.79      0.79      0.79      2400\n",
      "        rock       0.51      0.52      0.51      2400\n",
      "\n",
      "    accuracy                           0.59      7200\n",
      "   macro avg       0.59      0.59      0.59      7200\n",
      "weighted avg       0.59      0.59      0.59      7200\n",
      "\n"
     ]
    }
   ],
   "source": [
    "y_pred = clf.predict(X_test)\n",
    "print(classification_report(y_test, y_pred))"
   ]
  },
  {
   "cell_type": "code",
   "execution_count": 28,
   "id": "8866c3c3",
   "metadata": {
    "execution": {
     "iopub.execute_input": "2023-03-21T02:30:56.787585Z",
     "iopub.status.busy": "2023-03-21T02:30:56.787058Z",
     "iopub.status.idle": "2023-03-21T02:30:56.934482Z",
     "shell.execute_reply": "2023-03-21T02:30:56.933556Z"
    },
    "papermill": {
     "duration": 0.182553,
     "end_time": "2023-03-21T02:30:56.937262",
     "exception": false,
     "start_time": "2023-03-21T02:30:56.754709",
     "status": "completed"
    },
    "tags": []
   },
   "outputs": [],
   "source": [
    "acc = accuracy_score(y_test, y_pred)\n",
    "pre = precision_score(y_test, y_pred, average=avg_par)\n",
    "rec = recall_score(y_test, y_pred, average=avg_par)\n",
    "f1 = f1_score(y_test, y_pred, average=avg_par)\n",
    "\n",
    "metrics_data['Global']['DecisionTree'] = {'Accuracy': acc, 'Precision': pre, 'Recall': rec, 'F1': f1}"
   ]
  },
  {
   "cell_type": "markdown",
   "id": "28aa5a63",
   "metadata": {
    "papermill": {
     "duration": 0.034673,
     "end_time": "2023-03-21T02:30:57.004997",
     "exception": false,
     "start_time": "2023-03-21T02:30:56.970324",
     "status": "completed"
    },
    "tags": []
   },
   "source": [
    "**Random Forest**"
   ]
  },
  {
   "cell_type": "code",
   "execution_count": 29,
   "id": "0e5e2310",
   "metadata": {
    "execution": {
     "iopub.execute_input": "2023-03-21T02:30:57.037343Z",
     "iopub.status.busy": "2023-03-21T02:30:57.037028Z",
     "iopub.status.idle": "2023-03-21T02:31:05.533849Z",
     "shell.execute_reply": "2023-03-21T02:31:05.532931Z"
    },
    "papermill": {
     "duration": 8.512334,
     "end_time": "2023-03-21T02:31:05.536658",
     "exception": false,
     "start_time": "2023-03-21T02:30:57.024324",
     "status": "completed"
    },
    "tags": []
   },
   "outputs": [
    {
     "data": {
      "text/html": [
       "<style>#sk-container-id-2 {color: black;background-color: white;}#sk-container-id-2 pre{padding: 0;}#sk-container-id-2 div.sk-toggleable {background-color: white;}#sk-container-id-2 label.sk-toggleable__label {cursor: pointer;display: block;width: 100%;margin-bottom: 0;padding: 0.3em;box-sizing: border-box;text-align: center;}#sk-container-id-2 label.sk-toggleable__label-arrow:before {content: \"▸\";float: left;margin-right: 0.25em;color: #696969;}#sk-container-id-2 label.sk-toggleable__label-arrow:hover:before {color: black;}#sk-container-id-2 div.sk-estimator:hover label.sk-toggleable__label-arrow:before {color: black;}#sk-container-id-2 div.sk-toggleable__content {max-height: 0;max-width: 0;overflow: hidden;text-align: left;background-color: #f0f8ff;}#sk-container-id-2 div.sk-toggleable__content pre {margin: 0.2em;color: black;border-radius: 0.25em;background-color: #f0f8ff;}#sk-container-id-2 input.sk-toggleable__control:checked~div.sk-toggleable__content {max-height: 200px;max-width: 100%;overflow: auto;}#sk-container-id-2 input.sk-toggleable__control:checked~label.sk-toggleable__label-arrow:before {content: \"▾\";}#sk-container-id-2 div.sk-estimator input.sk-toggleable__control:checked~label.sk-toggleable__label {background-color: #d4ebff;}#sk-container-id-2 div.sk-label input.sk-toggleable__control:checked~label.sk-toggleable__label {background-color: #d4ebff;}#sk-container-id-2 input.sk-hidden--visually {border: 0;clip: rect(1px 1px 1px 1px);clip: rect(1px, 1px, 1px, 1px);height: 1px;margin: -1px;overflow: hidden;padding: 0;position: absolute;width: 1px;}#sk-container-id-2 div.sk-estimator {font-family: monospace;background-color: #f0f8ff;border: 1px dotted black;border-radius: 0.25em;box-sizing: border-box;margin-bottom: 0.5em;}#sk-container-id-2 div.sk-estimator:hover {background-color: #d4ebff;}#sk-container-id-2 div.sk-parallel-item::after {content: \"\";width: 100%;border-bottom: 1px solid gray;flex-grow: 1;}#sk-container-id-2 div.sk-label:hover label.sk-toggleable__label {background-color: #d4ebff;}#sk-container-id-2 div.sk-serial::before {content: \"\";position: absolute;border-left: 1px solid gray;box-sizing: border-box;top: 0;bottom: 0;left: 50%;z-index: 0;}#sk-container-id-2 div.sk-serial {display: flex;flex-direction: column;align-items: center;background-color: white;padding-right: 0.2em;padding-left: 0.2em;position: relative;}#sk-container-id-2 div.sk-item {position: relative;z-index: 1;}#sk-container-id-2 div.sk-parallel {display: flex;align-items: stretch;justify-content: center;background-color: white;position: relative;}#sk-container-id-2 div.sk-item::before, #sk-container-id-2 div.sk-parallel-item::before {content: \"\";position: absolute;border-left: 1px solid gray;box-sizing: border-box;top: 0;bottom: 0;left: 50%;z-index: -1;}#sk-container-id-2 div.sk-parallel-item {display: flex;flex-direction: column;z-index: 1;position: relative;background-color: white;}#sk-container-id-2 div.sk-parallel-item:first-child::after {align-self: flex-end;width: 50%;}#sk-container-id-2 div.sk-parallel-item:last-child::after {align-self: flex-start;width: 50%;}#sk-container-id-2 div.sk-parallel-item:only-child::after {width: 0;}#sk-container-id-2 div.sk-dashed-wrapped {border: 1px dashed gray;margin: 0 0.4em 0.5em 0.4em;box-sizing: border-box;padding-bottom: 0.4em;background-color: white;}#sk-container-id-2 div.sk-label label {font-family: monospace;font-weight: bold;display: inline-block;line-height: 1.2em;}#sk-container-id-2 div.sk-label-container {text-align: center;}#sk-container-id-2 div.sk-container {/* jupyter's `normalize.less` sets `[hidden] { display: none; }` but bootstrap.min.css set `[hidden] { display: none !important; }` so we also need the `!important` here to be able to override the default hidden behavior on the sphinx rendered scikit-learn.org. See: https://github.com/scikit-learn/scikit-learn/issues/21755 */display: inline-block !important;position: relative;}#sk-container-id-2 div.sk-text-repr-fallback {display: none;}</style><div id=\"sk-container-id-2\" class=\"sk-top-container\"><div class=\"sk-text-repr-fallback\"><pre>RandomForestClassifier(random_state=42)</pre><b>In a Jupyter environment, please rerun this cell to show the HTML representation or trust the notebook. <br />On GitHub, the HTML representation is unable to render, please try loading this page with nbviewer.org.</b></div><div class=\"sk-container\" hidden><div class=\"sk-item\"><div class=\"sk-estimator sk-toggleable\"><input class=\"sk-toggleable__control sk-hidden--visually\" id=\"sk-estimator-id-2\" type=\"checkbox\" checked><label for=\"sk-estimator-id-2\" class=\"sk-toggleable__label sk-toggleable__label-arrow\">RandomForestClassifier</label><div class=\"sk-toggleable__content\"><pre>RandomForestClassifier(random_state=42)</pre></div></div></div></div></div>"
      ],
      "text/plain": [
       "RandomForestClassifier(random_state=42)"
      ]
     },
     "execution_count": 29,
     "metadata": {},
     "output_type": "execute_result"
    }
   ],
   "source": [
    "clf = RandomForestClassifier(random_state=42)\n",
    "clf.fit(X_train, y_train)"
   ]
  },
  {
   "cell_type": "code",
   "execution_count": 30,
   "id": "4bd1304b",
   "metadata": {
    "execution": {
     "iopub.execute_input": "2023-03-21T02:31:05.604494Z",
     "iopub.status.busy": "2023-03-21T02:31:05.604198Z",
     "iopub.status.idle": "2023-03-21T02:31:05.900249Z",
     "shell.execute_reply": "2023-03-21T02:31:05.899374Z"
    },
    "papermill": {
     "duration": 0.333151,
     "end_time": "2023-03-21T02:31:05.902951",
     "exception": false,
     "start_time": "2023-03-21T02:31:05.569800",
     "status": "completed"
    },
    "tags": []
   },
   "outputs": [
    {
     "name": "stdout",
     "output_type": "stream",
     "text": [
      "              precision    recall  f1-score   support\n",
      "\n",
      "         pop       0.59      0.56      0.57      2400\n",
      "         rap       0.88      0.85      0.86      2400\n",
      "        rock       0.60      0.65      0.62      2400\n",
      "\n",
      "    accuracy                           0.68      7200\n",
      "   macro avg       0.69      0.68      0.69      7200\n",
      "weighted avg       0.69      0.68      0.69      7200\n",
      "\n"
     ]
    }
   ],
   "source": [
    "y_pred = clf.predict(X_test)\n",
    "print(classification_report(y_test, y_pred))"
   ]
  },
  {
   "cell_type": "code",
   "execution_count": 31,
   "id": "43174ba2",
   "metadata": {
    "execution": {
     "iopub.execute_input": "2023-03-21T02:31:05.970409Z",
     "iopub.status.busy": "2023-03-21T02:31:05.970115Z",
     "iopub.status.idle": "2023-03-21T02:31:06.091511Z",
     "shell.execute_reply": "2023-03-21T02:31:06.090665Z"
    },
    "papermill": {
     "duration": 0.157335,
     "end_time": "2023-03-21T02:31:06.094183",
     "exception": false,
     "start_time": "2023-03-21T02:31:05.936848",
     "status": "completed"
    },
    "tags": []
   },
   "outputs": [],
   "source": [
    "acc = accuracy_score(y_test, y_pred)\n",
    "pre = precision_score(y_test, y_pred, average=avg_par)\n",
    "rec = recall_score(y_test, y_pred, average=avg_par)\n",
    "f1 = f1_score(y_test, y_pred, average=avg_par)\n",
    "\n",
    "metrics_data['Global']['RandomForest'] = {'Accuracy': acc, 'Precision': pre, 'Recall': rec, 'F1': f1}"
   ]
  },
  {
   "cell_type": "markdown",
   "id": "22c98ac5",
   "metadata": {
    "papermill": {
     "duration": 0.033367,
     "end_time": "2023-03-21T02:31:06.161314",
     "exception": false,
     "start_time": "2023-03-21T02:31:06.127947",
     "status": "completed"
    },
    "tags": []
   },
   "source": [
    "**LightGBM**"
   ]
  },
  {
   "cell_type": "code",
   "execution_count": 32,
   "id": "c93b818c",
   "metadata": {
    "execution": {
     "iopub.execute_input": "2023-03-21T02:31:06.193192Z",
     "iopub.status.busy": "2023-03-21T02:31:06.192877Z",
     "iopub.status.idle": "2023-03-21T02:31:06.808407Z",
     "shell.execute_reply": "2023-03-21T02:31:06.807587Z"
    },
    "papermill": {
     "duration": 0.631052,
     "end_time": "2023-03-21T02:31:06.811130",
     "exception": false,
     "start_time": "2023-03-21T02:31:06.180078",
     "status": "completed"
    },
    "tags": []
   },
   "outputs": [
    {
     "data": {
      "text/html": [
       "<style>#sk-container-id-3 {color: black;background-color: white;}#sk-container-id-3 pre{padding: 0;}#sk-container-id-3 div.sk-toggleable {background-color: white;}#sk-container-id-3 label.sk-toggleable__label {cursor: pointer;display: block;width: 100%;margin-bottom: 0;padding: 0.3em;box-sizing: border-box;text-align: center;}#sk-container-id-3 label.sk-toggleable__label-arrow:before {content: \"▸\";float: left;margin-right: 0.25em;color: #696969;}#sk-container-id-3 label.sk-toggleable__label-arrow:hover:before {color: black;}#sk-container-id-3 div.sk-estimator:hover label.sk-toggleable__label-arrow:before {color: black;}#sk-container-id-3 div.sk-toggleable__content {max-height: 0;max-width: 0;overflow: hidden;text-align: left;background-color: #f0f8ff;}#sk-container-id-3 div.sk-toggleable__content pre {margin: 0.2em;color: black;border-radius: 0.25em;background-color: #f0f8ff;}#sk-container-id-3 input.sk-toggleable__control:checked~div.sk-toggleable__content {max-height: 200px;max-width: 100%;overflow: auto;}#sk-container-id-3 input.sk-toggleable__control:checked~label.sk-toggleable__label-arrow:before {content: \"▾\";}#sk-container-id-3 div.sk-estimator input.sk-toggleable__control:checked~label.sk-toggleable__label {background-color: #d4ebff;}#sk-container-id-3 div.sk-label input.sk-toggleable__control:checked~label.sk-toggleable__label {background-color: #d4ebff;}#sk-container-id-3 input.sk-hidden--visually {border: 0;clip: rect(1px 1px 1px 1px);clip: rect(1px, 1px, 1px, 1px);height: 1px;margin: -1px;overflow: hidden;padding: 0;position: absolute;width: 1px;}#sk-container-id-3 div.sk-estimator {font-family: monospace;background-color: #f0f8ff;border: 1px dotted black;border-radius: 0.25em;box-sizing: border-box;margin-bottom: 0.5em;}#sk-container-id-3 div.sk-estimator:hover {background-color: #d4ebff;}#sk-container-id-3 div.sk-parallel-item::after {content: \"\";width: 100%;border-bottom: 1px solid gray;flex-grow: 1;}#sk-container-id-3 div.sk-label:hover label.sk-toggleable__label {background-color: #d4ebff;}#sk-container-id-3 div.sk-serial::before {content: \"\";position: absolute;border-left: 1px solid gray;box-sizing: border-box;top: 0;bottom: 0;left: 50%;z-index: 0;}#sk-container-id-3 div.sk-serial {display: flex;flex-direction: column;align-items: center;background-color: white;padding-right: 0.2em;padding-left: 0.2em;position: relative;}#sk-container-id-3 div.sk-item {position: relative;z-index: 1;}#sk-container-id-3 div.sk-parallel {display: flex;align-items: stretch;justify-content: center;background-color: white;position: relative;}#sk-container-id-3 div.sk-item::before, #sk-container-id-3 div.sk-parallel-item::before {content: \"\";position: absolute;border-left: 1px solid gray;box-sizing: border-box;top: 0;bottom: 0;left: 50%;z-index: -1;}#sk-container-id-3 div.sk-parallel-item {display: flex;flex-direction: column;z-index: 1;position: relative;background-color: white;}#sk-container-id-3 div.sk-parallel-item:first-child::after {align-self: flex-end;width: 50%;}#sk-container-id-3 div.sk-parallel-item:last-child::after {align-self: flex-start;width: 50%;}#sk-container-id-3 div.sk-parallel-item:only-child::after {width: 0;}#sk-container-id-3 div.sk-dashed-wrapped {border: 1px dashed gray;margin: 0 0.4em 0.5em 0.4em;box-sizing: border-box;padding-bottom: 0.4em;background-color: white;}#sk-container-id-3 div.sk-label label {font-family: monospace;font-weight: bold;display: inline-block;line-height: 1.2em;}#sk-container-id-3 div.sk-label-container {text-align: center;}#sk-container-id-3 div.sk-container {/* jupyter's `normalize.less` sets `[hidden] { display: none; }` but bootstrap.min.css set `[hidden] { display: none !important; }` so we also need the `!important` here to be able to override the default hidden behavior on the sphinx rendered scikit-learn.org. See: https://github.com/scikit-learn/scikit-learn/issues/21755 */display: inline-block !important;position: relative;}#sk-container-id-3 div.sk-text-repr-fallback {display: none;}</style><div id=\"sk-container-id-3\" class=\"sk-top-container\"><div class=\"sk-text-repr-fallback\"><pre>LGBMClassifier(objective=&#x27;multiclass&#x27;)</pre><b>In a Jupyter environment, please rerun this cell to show the HTML representation or trust the notebook. <br />On GitHub, the HTML representation is unable to render, please try loading this page with nbviewer.org.</b></div><div class=\"sk-container\" hidden><div class=\"sk-item\"><div class=\"sk-estimator sk-toggleable\"><input class=\"sk-toggleable__control sk-hidden--visually\" id=\"sk-estimator-id-3\" type=\"checkbox\" checked><label for=\"sk-estimator-id-3\" class=\"sk-toggleable__label sk-toggleable__label-arrow\">LGBMClassifier</label><div class=\"sk-toggleable__content\"><pre>LGBMClassifier(objective=&#x27;multiclass&#x27;)</pre></div></div></div></div></div>"
      ],
      "text/plain": [
       "LGBMClassifier(objective='multiclass')"
      ]
     },
     "execution_count": 32,
     "metadata": {},
     "output_type": "execute_result"
    }
   ],
   "source": [
    "clf = lgbm.LGBMClassifier(objective=obj_par) \n",
    "clf.fit(X_train, y_train)"
   ]
  },
  {
   "cell_type": "code",
   "execution_count": 33,
   "id": "600a663a",
   "metadata": {
    "execution": {
     "iopub.execute_input": "2023-03-21T02:31:06.851903Z",
     "iopub.status.busy": "2023-03-21T02:31:06.851565Z",
     "iopub.status.idle": "2023-03-21T02:31:07.027117Z",
     "shell.execute_reply": "2023-03-21T02:31:07.026249Z"
    },
    "papermill": {
     "duration": 0.195997,
     "end_time": "2023-03-21T02:31:07.029246",
     "exception": false,
     "start_time": "2023-03-21T02:31:06.833249",
     "status": "completed"
    },
    "tags": []
   },
   "outputs": [
    {
     "name": "stdout",
     "output_type": "stream",
     "text": [
      "              precision    recall  f1-score   support\n",
      "\n",
      "         pop       0.59      0.55      0.57      2400\n",
      "         rap       0.88      0.85      0.87      2400\n",
      "        rock       0.60      0.65      0.62      2400\n",
      "\n",
      "    accuracy                           0.69      7200\n",
      "   macro avg       0.69      0.69      0.69      7200\n",
      "weighted avg       0.69      0.69      0.69      7200\n",
      "\n"
     ]
    }
   ],
   "source": [
    "y_pred = clf.predict(X_test)\n",
    "print(classification_report(y_test, y_pred))"
   ]
  },
  {
   "cell_type": "code",
   "execution_count": 34,
   "id": "508d831d",
   "metadata": {
    "execution": {
     "iopub.execute_input": "2023-03-21T02:31:07.090133Z",
     "iopub.status.busy": "2023-03-21T02:31:07.089277Z",
     "iopub.status.idle": "2023-03-21T02:31:07.237647Z",
     "shell.execute_reply": "2023-03-21T02:31:07.237003Z"
    },
    "papermill": {
     "duration": 0.189494,
     "end_time": "2023-03-21T02:31:07.239784",
     "exception": false,
     "start_time": "2023-03-21T02:31:07.050290",
     "status": "completed"
    },
    "tags": []
   },
   "outputs": [],
   "source": [
    "acc = accuracy_score(y_test, y_pred)\n",
    "pre = precision_score(y_test, y_pred, average=avg_par)\n",
    "rec = recall_score(y_test, y_pred, average=avg_par)\n",
    "f1 = f1_score(y_test, y_pred, average=avg_par)\n",
    "\n",
    "metrics_data['Global']['LightGBM'] = {'Accuracy': acc, 'Precision': pre, 'Recall': rec, 'F1': f1}"
   ]
  },
  {
   "cell_type": "markdown",
   "id": "14b86894",
   "metadata": {
    "papermill": {
     "duration": 0.011971,
     "end_time": "2023-03-21T02:31:07.267404",
     "exception": false,
     "start_time": "2023-03-21T02:31:07.255433",
     "status": "completed"
    },
    "tags": []
   },
   "source": [
    "### Time Series Classification"
   ]
  },
  {
   "cell_type": "markdown",
   "id": "84c55533",
   "metadata": {
    "papermill": {
     "duration": 0.011788,
     "end_time": "2023-03-21T02:31:07.291314",
     "exception": false,
     "start_time": "2023-03-21T02:31:07.279526",
     "status": "completed"
    },
    "tags": []
   },
   "source": [
    "#### Learning Shapelets"
   ]
  },
  {
   "cell_type": "code",
   "execution_count": 35,
   "id": "488d8eb7",
   "metadata": {
    "execution": {
     "iopub.execute_input": "2023-03-21T02:31:07.331897Z",
     "iopub.status.busy": "2023-03-21T02:31:07.331409Z",
     "iopub.status.idle": "2023-03-21T02:31:09.284986Z",
     "shell.execute_reply": "2023-03-21T02:31:09.284029Z"
    },
    "papermill": {
     "duration": 1.973666,
     "end_time": "2023-03-21T02:31:09.287563",
     "exception": false,
     "start_time": "2023-03-21T02:31:07.313897",
     "status": "completed"
    },
    "tags": []
   },
   "outputs": [
    {
     "name": "stderr",
     "output_type": "stream",
     "text": [
      "2023-03-21 03:31:07.342239: I tensorflow/core/platform/cpu_feature_guard.cc:193] This TensorFlow binary is optimized with oneAPI Deep Neural Network Library (oneDNN) to use the following CPU instructions in performance-critical operations:  AVX2 FMA\n",
      "To enable them in other operations, rebuild TensorFlow with the appropriate compiler flags.\n",
      "2023-03-21 03:31:07.621172: W tensorflow/compiler/xla/stream_executor/platform/default/dso_loader.cc:64] Could not load dynamic library 'libcudart.so.11.0'; dlerror: libcudart.so.11.0: cannot open shared object file: No such file or directory\n",
      "2023-03-21 03:31:07.621196: I tensorflow/compiler/xla/stream_executor/cuda/cudart_stub.cc:29] Ignore above cudart dlerror if you do not have a GPU set up on your machine.\n"
     ]
    },
    {
     "name": "stderr",
     "output_type": "stream",
     "text": [
      "2023-03-21 03:31:08.406966: W tensorflow/compiler/xla/stream_executor/platform/default/dso_loader.cc:64] Could not load dynamic library 'libnvinfer.so.7'; dlerror: libnvinfer.so.7: cannot open shared object file: No such file or directory\n",
      "2023-03-21 03:31:08.407063: W tensorflow/compiler/xla/stream_executor/platform/default/dso_loader.cc:64] Could not load dynamic library 'libnvinfer_plugin.so.7'; dlerror: libnvinfer_plugin.so.7: cannot open shared object file: No such file or directory\n",
      "2023-03-21 03:31:08.407072: W tensorflow/compiler/tf2tensorrt/utils/py_utils.cc:38] TF-TRT Warning: Cannot dlopen some TensorRT libraries. If you would like to use Nvidia GPU with TensorRT, please make sure the missing libraries mentioned above are installed properly.\n"
     ]
    }
   ],
   "source": [
    "from tslearn.shapelets import LearningShapelets, grabocka_params_to_shapelet_size_dict"
   ]
  },
  {
   "cell_type": "code",
   "execution_count": 36,
   "id": "eb677959",
   "metadata": {
    "execution": {
     "iopub.execute_input": "2023-03-21T02:31:09.352397Z",
     "iopub.status.busy": "2023-03-21T02:31:09.351636Z",
     "iopub.status.idle": "2023-03-21T02:31:09.358655Z",
     "shell.execute_reply": "2023-03-21T02:31:09.357806Z"
    },
    "papermill": {
     "duration": 0.043345,
     "end_time": "2023-03-21T02:31:09.361871",
     "exception": false,
     "start_time": "2023-03-21T02:31:09.318526",
     "status": "completed"
    },
    "tags": []
   },
   "outputs": [],
   "source": [
    "n_ts, ts_sz, _ = ts_train.shape\n",
    "n_classes = len(set(y_train))"
   ]
  },
  {
   "cell_type": "code",
   "execution_count": 37,
   "id": "776ed3dd",
   "metadata": {
    "execution": {
     "iopub.execute_input": "2023-03-21T02:31:09.403110Z",
     "iopub.status.busy": "2023-03-21T02:31:09.402757Z",
     "iopub.status.idle": "2023-03-21T02:31:09.412345Z",
     "shell.execute_reply": "2023-03-21T02:31:09.410840Z"
    },
    "papermill": {
     "duration": 0.024701,
     "end_time": "2023-03-21T02:31:09.414176",
     "exception": false,
     "start_time": "2023-03-21T02:31:09.389475",
     "status": "completed"
    },
    "tags": []
   },
   "outputs": [
    {
     "name": "stdout",
     "output_type": "stream",
     "text": [
      "n_ts 28800\n",
      "ts_sz 100\n",
      "n_classes 3\n",
      "shapelet_sizes {10: 6}\n"
     ]
    }
   ],
   "source": [
    "# Set the number of shapelets per size as done in the original paper\n",
    "g_shapelet_sizes = grabocka_params_to_shapelet_size_dict(n_ts=n_ts,\n",
    "                                                         ts_sz=ts_sz,\n",
    "                                                         n_classes=n_classes,\n",
    "                                                         l=0.1,\n",
    "                                                         r=1)\n",
    "\n",
    "print('n_ts', n_ts)\n",
    "print('ts_sz', ts_sz)\n",
    "print('n_classes', n_classes)\n",
    "print('shapelet_sizes', g_shapelet_sizes)"
   ]
  },
  {
   "cell_type": "code",
   "execution_count": 38,
   "id": "90ed707e",
   "metadata": {
    "execution": {
     "iopub.execute_input": "2023-03-21T02:31:09.441274Z",
     "iopub.status.busy": "2023-03-21T02:31:09.440771Z",
     "iopub.status.idle": "2023-03-21T02:31:09.452772Z",
     "shell.execute_reply": "2023-03-21T02:31:09.451103Z"
    },
    "papermill": {
     "duration": 0.027912,
     "end_time": "2023-03-21T02:31:09.455006",
     "exception": false,
     "start_time": "2023-03-21T02:31:09.427094",
     "status": "completed"
    },
    "tags": []
   },
   "outputs": [
    {
     "data": {
      "text/plain": [
       "{10: 6, 20: 6, 5: 6}"
      ]
     },
     "execution_count": 38,
     "metadata": {},
     "output_type": "execute_result"
    }
   ],
   "source": [
    "shapelet_sizes = {}\n",
    "for key in g_shapelet_sizes:\n",
    "    shapelet_sizes[key] = g_shapelet_sizes[key]\n",
    "    shapelet_sizes[key*2] = g_shapelet_sizes[key]\n",
    "    shapelet_sizes[key//2] = g_shapelet_sizes[key]\n",
    "shapelet_sizes"
   ]
  },
  {
   "cell_type": "code",
   "execution_count": 39,
   "id": "3507fb9c",
   "metadata": {
    "execution": {
     "iopub.execute_input": "2023-03-21T02:31:09.482961Z",
     "iopub.status.busy": "2023-03-21T02:31:09.482463Z",
     "iopub.status.idle": "2023-03-21T02:31:09.490923Z",
     "shell.execute_reply": "2023-03-21T02:31:09.489544Z"
    },
    "papermill": {
     "duration": 0.024256,
     "end_time": "2023-03-21T02:31:09.492730",
     "exception": false,
     "start_time": "2023-03-21T02:31:09.468474",
     "status": "completed"
    },
    "tags": []
   },
   "outputs": [
    {
     "name": "stderr",
     "output_type": "stream",
     "text": [
      "/home/mattiapggioli/lyrics2ts/.venv/lib/python3.9/site-packages/tslearn/shapelets/shapelets.py:354: FutureWarning: The default value for 'scale' is set to False in version 0.4 to ensure backward compatibility, but is likely to change in a future version.\n",
      "  warnings.warn(\"The default value for 'scale' is set to False \"\n"
     ]
    }
   ],
   "source": [
    "model = LearningShapelets(n_shapelets_per_size=shapelet_sizes,\n",
    "                          optimizer=\"adam\", \n",
    "                          weight_regularizer=.01, \n",
    "                          max_iter=max_iter, verbose=0, random_state=42)"
   ]
  },
  {
   "cell_type": "code",
   "execution_count": 40,
   "id": "73b1fe2e",
   "metadata": {
    "execution": {
     "iopub.execute_input": "2023-03-21T02:31:09.520855Z",
     "iopub.status.busy": "2023-03-21T02:31:09.519777Z",
     "iopub.status.idle": "2023-03-21T03:11:29.931929Z",
     "shell.execute_reply": "2023-03-21T03:11:29.930741Z"
    },
    "papermill": {
     "duration": 2420.442604,
     "end_time": "2023-03-21T03:11:29.948387",
     "exception": false,
     "start_time": "2023-03-21T02:31:09.505783",
     "status": "completed"
    },
    "tags": []
   },
   "outputs": [
    {
     "name": "stderr",
     "output_type": "stream",
     "text": [
      "2023-03-21 03:31:10.418437: W tensorflow/compiler/xla/stream_executor/platform/default/dso_loader.cc:64] Could not load dynamic library 'libcuda.so.1'; dlerror: libcuda.so.1: cannot open shared object file: No such file or directory\n",
      "2023-03-21 03:31:10.418465: W tensorflow/compiler/xla/stream_executor/cuda/cuda_driver.cc:265] failed call to cuInit: UNKNOWN ERROR (303)\n",
      "2023-03-21 03:31:10.418484: I tensorflow/compiler/xla/stream_executor/cuda/cuda_diagnostics.cc:156] kernel driver does not appear to be running on this host (mattiapggioli-ThinkPad-E595): /proc/driver/nvidia/version does not exist\n",
      "2023-03-21 03:31:10.418692: I tensorflow/core/platform/cpu_feature_guard.cc:193] This TensorFlow binary is optimized with oneAPI Deep Neural Network Library (oneDNN) to use the following CPU instructions in performance-critical operations:  AVX2 FMA\n",
      "To enable them in other operations, rebuild TensorFlow with the appropriate compiler flags.\n"
     ]
    },
    {
     "name": "stdout",
     "output_type": "stream",
     "text": [
      "CPU times: user 3h 52min 50s, sys: 12min 53s, total: 4h 5min 44s\n",
      "Wall time: 40min 20s\n"
     ]
    },
    {
     "data": {
      "text/html": [
       "<style>#sk-container-id-4 {color: black;background-color: white;}#sk-container-id-4 pre{padding: 0;}#sk-container-id-4 div.sk-toggleable {background-color: white;}#sk-container-id-4 label.sk-toggleable__label {cursor: pointer;display: block;width: 100%;margin-bottom: 0;padding: 0.3em;box-sizing: border-box;text-align: center;}#sk-container-id-4 label.sk-toggleable__label-arrow:before {content: \"▸\";float: left;margin-right: 0.25em;color: #696969;}#sk-container-id-4 label.sk-toggleable__label-arrow:hover:before {color: black;}#sk-container-id-4 div.sk-estimator:hover label.sk-toggleable__label-arrow:before {color: black;}#sk-container-id-4 div.sk-toggleable__content {max-height: 0;max-width: 0;overflow: hidden;text-align: left;background-color: #f0f8ff;}#sk-container-id-4 div.sk-toggleable__content pre {margin: 0.2em;color: black;border-radius: 0.25em;background-color: #f0f8ff;}#sk-container-id-4 input.sk-toggleable__control:checked~div.sk-toggleable__content {max-height: 200px;max-width: 100%;overflow: auto;}#sk-container-id-4 input.sk-toggleable__control:checked~label.sk-toggleable__label-arrow:before {content: \"▾\";}#sk-container-id-4 div.sk-estimator input.sk-toggleable__control:checked~label.sk-toggleable__label {background-color: #d4ebff;}#sk-container-id-4 div.sk-label input.sk-toggleable__control:checked~label.sk-toggleable__label {background-color: #d4ebff;}#sk-container-id-4 input.sk-hidden--visually {border: 0;clip: rect(1px 1px 1px 1px);clip: rect(1px, 1px, 1px, 1px);height: 1px;margin: -1px;overflow: hidden;padding: 0;position: absolute;width: 1px;}#sk-container-id-4 div.sk-estimator {font-family: monospace;background-color: #f0f8ff;border: 1px dotted black;border-radius: 0.25em;box-sizing: border-box;margin-bottom: 0.5em;}#sk-container-id-4 div.sk-estimator:hover {background-color: #d4ebff;}#sk-container-id-4 div.sk-parallel-item::after {content: \"\";width: 100%;border-bottom: 1px solid gray;flex-grow: 1;}#sk-container-id-4 div.sk-label:hover label.sk-toggleable__label {background-color: #d4ebff;}#sk-container-id-4 div.sk-serial::before {content: \"\";position: absolute;border-left: 1px solid gray;box-sizing: border-box;top: 0;bottom: 0;left: 50%;z-index: 0;}#sk-container-id-4 div.sk-serial {display: flex;flex-direction: column;align-items: center;background-color: white;padding-right: 0.2em;padding-left: 0.2em;position: relative;}#sk-container-id-4 div.sk-item {position: relative;z-index: 1;}#sk-container-id-4 div.sk-parallel {display: flex;align-items: stretch;justify-content: center;background-color: white;position: relative;}#sk-container-id-4 div.sk-item::before, #sk-container-id-4 div.sk-parallel-item::before {content: \"\";position: absolute;border-left: 1px solid gray;box-sizing: border-box;top: 0;bottom: 0;left: 50%;z-index: -1;}#sk-container-id-4 div.sk-parallel-item {display: flex;flex-direction: column;z-index: 1;position: relative;background-color: white;}#sk-container-id-4 div.sk-parallel-item:first-child::after {align-self: flex-end;width: 50%;}#sk-container-id-4 div.sk-parallel-item:last-child::after {align-self: flex-start;width: 50%;}#sk-container-id-4 div.sk-parallel-item:only-child::after {width: 0;}#sk-container-id-4 div.sk-dashed-wrapped {border: 1px dashed gray;margin: 0 0.4em 0.5em 0.4em;box-sizing: border-box;padding-bottom: 0.4em;background-color: white;}#sk-container-id-4 div.sk-label label {font-family: monospace;font-weight: bold;display: inline-block;line-height: 1.2em;}#sk-container-id-4 div.sk-label-container {text-align: center;}#sk-container-id-4 div.sk-container {/* jupyter's `normalize.less` sets `[hidden] { display: none; }` but bootstrap.min.css set `[hidden] { display: none !important; }` so we also need the `!important` here to be able to override the default hidden behavior on the sphinx rendered scikit-learn.org. See: https://github.com/scikit-learn/scikit-learn/issues/21755 */display: inline-block !important;position: relative;}#sk-container-id-4 div.sk-text-repr-fallback {display: none;}</style><div id=\"sk-container-id-4\" class=\"sk-top-container\"><div class=\"sk-text-repr-fallback\"><pre>LearningShapelets(max_iter=2000, n_shapelets_per_size={5: 6, 10: 6, 20: 6},\n",
       "                  optimizer=&#x27;adam&#x27;, random_state=42, weight_regularizer=0.01)</pre><b>In a Jupyter environment, please rerun this cell to show the HTML representation or trust the notebook. <br />On GitHub, the HTML representation is unable to render, please try loading this page with nbviewer.org.</b></div><div class=\"sk-container\" hidden><div class=\"sk-item\"><div class=\"sk-estimator sk-toggleable\"><input class=\"sk-toggleable__control sk-hidden--visually\" id=\"sk-estimator-id-4\" type=\"checkbox\" checked><label for=\"sk-estimator-id-4\" class=\"sk-toggleable__label sk-toggleable__label-arrow\">LearningShapelets</label><div class=\"sk-toggleable__content\"><pre>LearningShapelets(max_iter=2000, n_shapelets_per_size={5: 6, 10: 6, 20: 6},\n",
       "                  optimizer=&#x27;adam&#x27;, random_state=42, weight_regularizer=0.01)</pre></div></div></div></div></div>"
      ],
      "text/plain": [
       "LearningShapelets(max_iter=2000, n_shapelets_per_size={5: 6, 10: 6, 20: 6},\n",
       "                  optimizer='adam', random_state=42, weight_regularizer=0.01)"
      ]
     },
     "execution_count": 40,
     "metadata": {},
     "output_type": "execute_result"
    }
   ],
   "source": [
    "%%time\n",
    "model.fit(ts_train, y_train)"
   ]
  },
  {
   "cell_type": "code",
   "execution_count": 41,
   "id": "51706baa",
   "metadata": {
    "execution": {
     "iopub.execute_input": "2023-03-21T03:11:29.979510Z",
     "iopub.status.busy": "2023-03-21T03:11:29.978577Z",
     "iopub.status.idle": "2023-03-21T03:11:30.015319Z",
     "shell.execute_reply": "2023-03-21T03:11:30.013932Z"
    },
    "papermill": {
     "duration": 0.054701,
     "end_time": "2023-03-21T03:11:30.017553",
     "exception": false,
     "start_time": "2023-03-21T03:11:29.962852",
     "status": "completed"
    },
    "tags": []
   },
   "outputs": [],
   "source": [
    "model.to_pickle(f'{data_path}/shapelets.pkl')"
   ]
  },
  {
   "cell_type": "markdown",
   "id": "309f70dc",
   "metadata": {
    "papermill": {
     "duration": 0.012525,
     "end_time": "2023-03-21T03:11:30.045255",
     "exception": false,
     "start_time": "2023-03-21T03:11:30.032730",
     "status": "completed"
    },
    "tags": []
   },
   "source": [
    "#### Shapelet-Based Classification"
   ]
  },
  {
   "cell_type": "code",
   "execution_count": 42,
   "id": "60125dff",
   "metadata": {
    "execution": {
     "iopub.execute_input": "2023-03-21T03:11:30.074309Z",
     "iopub.status.busy": "2023-03-21T03:11:30.073590Z",
     "iopub.status.idle": "2023-03-21T03:11:30.079303Z",
     "shell.execute_reply": "2023-03-21T03:11:30.078070Z"
    },
    "papermill": {
     "duration": 0.022724,
     "end_time": "2023-03-21T03:11:30.081148",
     "exception": false,
     "start_time": "2023-03-21T03:11:30.058424",
     "status": "completed"
    },
    "tags": []
   },
   "outputs": [],
   "source": [
    "metrics_data['Shapelets'] = {}"
   ]
  },
  {
   "cell_type": "code",
   "execution_count": 43,
   "id": "efb8984d",
   "metadata": {
    "execution": {
     "iopub.execute_input": "2023-03-21T03:11:30.111250Z",
     "iopub.status.busy": "2023-03-21T03:11:30.110618Z",
     "iopub.status.idle": "2023-03-21T03:11:32.698112Z",
     "shell.execute_reply": "2023-03-21T03:11:32.697210Z"
    },
    "papermill": {
     "duration": 2.605151,
     "end_time": "2023-03-21T03:11:32.700300",
     "exception": false,
     "start_time": "2023-03-21T03:11:30.095149",
     "status": "completed"
    },
    "tags": []
   },
   "outputs": [],
   "source": [
    "X_train = model.transform(ts_train)\n",
    "X_test = model.transform(ts_test)"
   ]
  },
  {
   "cell_type": "code",
   "execution_count": 44,
   "id": "2e6c0f22",
   "metadata": {
    "execution": {
     "iopub.execute_input": "2023-03-21T03:11:32.732487Z",
     "iopub.status.busy": "2023-03-21T03:11:32.731731Z",
     "iopub.status.idle": "2023-03-21T03:11:32.770879Z",
     "shell.execute_reply": "2023-03-21T03:11:32.769982Z"
    },
    "papermill": {
     "duration": 0.056697,
     "end_time": "2023-03-21T03:11:32.773954",
     "exception": false,
     "start_time": "2023-03-21T03:11:32.717257",
     "status": "completed"
    },
    "tags": []
   },
   "outputs": [
    {
     "data": {
      "text/html": [
       "<div>\n",
       "<style scoped>\n",
       "    .dataframe tbody tr th:only-of-type {\n",
       "        vertical-align: middle;\n",
       "    }\n",
       "\n",
       "    .dataframe tbody tr th {\n",
       "        vertical-align: top;\n",
       "    }\n",
       "\n",
       "    .dataframe thead th {\n",
       "        text-align: right;\n",
       "    }\n",
       "</style>\n",
       "<table border=\"1\" class=\"dataframe\">\n",
       "  <thead>\n",
       "    <tr style=\"text-align: right;\">\n",
       "      <th></th>\n",
       "      <th>0</th>\n",
       "      <th>1</th>\n",
       "      <th>2</th>\n",
       "      <th>3</th>\n",
       "      <th>4</th>\n",
       "      <th>5</th>\n",
       "      <th>6</th>\n",
       "      <th>7</th>\n",
       "      <th>8</th>\n",
       "      <th>9</th>\n",
       "      <th>10</th>\n",
       "      <th>11</th>\n",
       "      <th>12</th>\n",
       "      <th>13</th>\n",
       "      <th>14</th>\n",
       "      <th>15</th>\n",
       "      <th>16</th>\n",
       "      <th>17</th>\n",
       "    </tr>\n",
       "  </thead>\n",
       "  <tbody>\n",
       "    <tr>\n",
       "      <th>0</th>\n",
       "      <td>7.746901</td>\n",
       "      <td>9.910121</td>\n",
       "      <td>0.587465</td>\n",
       "      <td>12.396136</td>\n",
       "      <td>0.601946</td>\n",
       "      <td>10.715814</td>\n",
       "      <td>2.504696</td>\n",
       "      <td>0.284763</td>\n",
       "      <td>7.143951</td>\n",
       "      <td>5.902871</td>\n",
       "      <td>0.908627</td>\n",
       "      <td>1.619079</td>\n",
       "      <td>1.075165</td>\n",
       "      <td>0.133815</td>\n",
       "      <td>11.071413</td>\n",
       "      <td>0.621512</td>\n",
       "      <td>0.137794</td>\n",
       "      <td>0.156082</td>\n",
       "    </tr>\n",
       "    <tr>\n",
       "      <th>1</th>\n",
       "      <td>9.508211</td>\n",
       "      <td>7.193626</td>\n",
       "      <td>0.164815</td>\n",
       "      <td>7.456922</td>\n",
       "      <td>3.429113</td>\n",
       "      <td>6.277751</td>\n",
       "      <td>4.229818</td>\n",
       "      <td>1.226454</td>\n",
       "      <td>4.228686</td>\n",
       "      <td>4.422422</td>\n",
       "      <td>0.369627</td>\n",
       "      <td>3.049556</td>\n",
       "      <td>0.482311</td>\n",
       "      <td>0.614214</td>\n",
       "      <td>8.174726</td>\n",
       "      <td>1.734490</td>\n",
       "      <td>0.626280</td>\n",
       "      <td>0.669156</td>\n",
       "    </tr>\n",
       "    <tr>\n",
       "      <th>2</th>\n",
       "      <td>2.291618</td>\n",
       "      <td>22.697670</td>\n",
       "      <td>2.175556</td>\n",
       "      <td>13.928302</td>\n",
       "      <td>0.182315</td>\n",
       "      <td>11.041733</td>\n",
       "      <td>1.457235</td>\n",
       "      <td>0.830684</td>\n",
       "      <td>9.104367</td>\n",
       "      <td>13.589728</td>\n",
       "      <td>4.838540</td>\n",
       "      <td>2.203039</td>\n",
       "      <td>6.657222</td>\n",
       "      <td>2.222235</td>\n",
       "      <td>19.479208</td>\n",
       "      <td>0.771595</td>\n",
       "      <td>2.200938</td>\n",
       "      <td>2.088305</td>\n",
       "    </tr>\n",
       "    <tr>\n",
       "      <th>3</th>\n",
       "      <td>4.169612</td>\n",
       "      <td>7.041772</td>\n",
       "      <td>0.963977</td>\n",
       "      <td>6.823640</td>\n",
       "      <td>2.463652</td>\n",
       "      <td>9.254683</td>\n",
       "      <td>3.670389</td>\n",
       "      <td>0.292228</td>\n",
       "      <td>5.065772</td>\n",
       "      <td>9.391532</td>\n",
       "      <td>1.561265</td>\n",
       "      <td>2.568665</td>\n",
       "      <td>1.766487</td>\n",
       "      <td>0.027967</td>\n",
       "      <td>13.492350</td>\n",
       "      <td>0.387798</td>\n",
       "      <td>0.027286</td>\n",
       "      <td>0.021434</td>\n",
       "    </tr>\n",
       "    <tr>\n",
       "      <th>4</th>\n",
       "      <td>2.436801</td>\n",
       "      <td>15.069315</td>\n",
       "      <td>0.903810</td>\n",
       "      <td>11.257213</td>\n",
       "      <td>0.395388</td>\n",
       "      <td>12.190153</td>\n",
       "      <td>1.994109</td>\n",
       "      <td>0.043579</td>\n",
       "      <td>5.747569</td>\n",
       "      <td>7.336812</td>\n",
       "      <td>2.418043</td>\n",
       "      <td>1.559480</td>\n",
       "      <td>3.026695</td>\n",
       "      <td>0.230230</td>\n",
       "      <td>13.626838</td>\n",
       "      <td>0.046899</td>\n",
       "      <td>0.223364</td>\n",
       "      <td>0.185477</td>\n",
       "    </tr>\n",
       "    <tr>\n",
       "      <th>...</th>\n",
       "      <td>...</td>\n",
       "      <td>...</td>\n",
       "      <td>...</td>\n",
       "      <td>...</td>\n",
       "      <td>...</td>\n",
       "      <td>...</td>\n",
       "      <td>...</td>\n",
       "      <td>...</td>\n",
       "      <td>...</td>\n",
       "      <td>...</td>\n",
       "      <td>...</td>\n",
       "      <td>...</td>\n",
       "      <td>...</td>\n",
       "      <td>...</td>\n",
       "      <td>...</td>\n",
       "      <td>...</td>\n",
       "      <td>...</td>\n",
       "      <td>...</td>\n",
       "    </tr>\n",
       "    <tr>\n",
       "      <th>7195</th>\n",
       "      <td>2.788623</td>\n",
       "      <td>7.898487</td>\n",
       "      <td>0.065021</td>\n",
       "      <td>7.682107</td>\n",
       "      <td>2.203157</td>\n",
       "      <td>12.969172</td>\n",
       "      <td>4.085660</td>\n",
       "      <td>0.760098</td>\n",
       "      <td>6.250420</td>\n",
       "      <td>3.990648</td>\n",
       "      <td>0.774866</td>\n",
       "      <td>2.195870</td>\n",
       "      <td>1.052316</td>\n",
       "      <td>0.142591</td>\n",
       "      <td>6.651444</td>\n",
       "      <td>0.927936</td>\n",
       "      <td>0.146756</td>\n",
       "      <td>0.166001</td>\n",
       "    </tr>\n",
       "    <tr>\n",
       "      <th>7196</th>\n",
       "      <td>8.994727</td>\n",
       "      <td>8.241096</td>\n",
       "      <td>0.118973</td>\n",
       "      <td>16.844995</td>\n",
       "      <td>1.689758</td>\n",
       "      <td>11.735747</td>\n",
       "      <td>5.170124</td>\n",
       "      <td>2.050570</td>\n",
       "      <td>8.131988</td>\n",
       "      <td>3.192145</td>\n",
       "      <td>0.300770</td>\n",
       "      <td>4.242809</td>\n",
       "      <td>0.399660</td>\n",
       "      <td>0.852372</td>\n",
       "      <td>9.015173</td>\n",
       "      <td>2.337209</td>\n",
       "      <td>0.864501</td>\n",
       "      <td>0.925003</td>\n",
       "    </tr>\n",
       "    <tr>\n",
       "      <th>7197</th>\n",
       "      <td>2.595163</td>\n",
       "      <td>10.092140</td>\n",
       "      <td>0.818493</td>\n",
       "      <td>9.535891</td>\n",
       "      <td>0.387199</td>\n",
       "      <td>10.278941</td>\n",
       "      <td>1.381214</td>\n",
       "      <td>0.044754</td>\n",
       "      <td>6.170273</td>\n",
       "      <td>6.515965</td>\n",
       "      <td>1.190675</td>\n",
       "      <td>1.277071</td>\n",
       "      <td>1.952957</td>\n",
       "      <td>0.222139</td>\n",
       "      <td>11.460181</td>\n",
       "      <td>0.049971</td>\n",
       "      <td>0.215400</td>\n",
       "      <td>0.178171</td>\n",
       "    </tr>\n",
       "    <tr>\n",
       "      <th>7198</th>\n",
       "      <td>5.528160</td>\n",
       "      <td>7.938399</td>\n",
       "      <td>0.139747</td>\n",
       "      <td>7.379004</td>\n",
       "      <td>0.596717</td>\n",
       "      <td>10.074095</td>\n",
       "      <td>1.892190</td>\n",
       "      <td>0.408371</td>\n",
       "      <td>3.622979</td>\n",
       "      <td>4.951965</td>\n",
       "      <td>0.822418</td>\n",
       "      <td>1.721339</td>\n",
       "      <td>2.115578</td>\n",
       "      <td>1.001705</td>\n",
       "      <td>10.819368</td>\n",
       "      <td>1.142763</td>\n",
       "      <td>1.004142</td>\n",
       "      <td>0.997727</td>\n",
       "    </tr>\n",
       "    <tr>\n",
       "      <th>7199</th>\n",
       "      <td>4.374158</td>\n",
       "      <td>15.809427</td>\n",
       "      <td>1.163234</td>\n",
       "      <td>7.704503</td>\n",
       "      <td>0.581012</td>\n",
       "      <td>11.342669</td>\n",
       "      <td>3.717729</td>\n",
       "      <td>0.311332</td>\n",
       "      <td>5.738115</td>\n",
       "      <td>9.292851</td>\n",
       "      <td>1.518817</td>\n",
       "      <td>2.586051</td>\n",
       "      <td>1.721870</td>\n",
       "      <td>0.028028</td>\n",
       "      <td>13.402852</td>\n",
       "      <td>0.410797</td>\n",
       "      <td>0.027608</td>\n",
       "      <td>0.023110</td>\n",
       "    </tr>\n",
       "  </tbody>\n",
       "</table>\n",
       "<p>7200 rows × 18 columns</p>\n",
       "</div>"
      ],
      "text/plain": [
       "            0          1         2          3         4          5         6   \\\n",
       "0     7.746901   9.910121  0.587465  12.396136  0.601946  10.715814  2.504696   \n",
       "1     9.508211   7.193626  0.164815   7.456922  3.429113   6.277751  4.229818   \n",
       "2     2.291618  22.697670  2.175556  13.928302  0.182315  11.041733  1.457235   \n",
       "3     4.169612   7.041772  0.963977   6.823640  2.463652   9.254683  3.670389   \n",
       "4     2.436801  15.069315  0.903810  11.257213  0.395388  12.190153  1.994109   \n",
       "...        ...        ...       ...        ...       ...        ...       ...   \n",
       "7195  2.788623   7.898487  0.065021   7.682107  2.203157  12.969172  4.085660   \n",
       "7196  8.994727   8.241096  0.118973  16.844995  1.689758  11.735747  5.170124   \n",
       "7197  2.595163  10.092140  0.818493   9.535891  0.387199  10.278941  1.381214   \n",
       "7198  5.528160   7.938399  0.139747   7.379004  0.596717  10.074095  1.892190   \n",
       "7199  4.374158  15.809427  1.163234   7.704503  0.581012  11.342669  3.717729   \n",
       "\n",
       "            7         8          9         10        11        12        13  \\\n",
       "0     0.284763  7.143951   5.902871  0.908627  1.619079  1.075165  0.133815   \n",
       "1     1.226454  4.228686   4.422422  0.369627  3.049556  0.482311  0.614214   \n",
       "2     0.830684  9.104367  13.589728  4.838540  2.203039  6.657222  2.222235   \n",
       "3     0.292228  5.065772   9.391532  1.561265  2.568665  1.766487  0.027967   \n",
       "4     0.043579  5.747569   7.336812  2.418043  1.559480  3.026695  0.230230   \n",
       "...        ...       ...        ...       ...       ...       ...       ...   \n",
       "7195  0.760098  6.250420   3.990648  0.774866  2.195870  1.052316  0.142591   \n",
       "7196  2.050570  8.131988   3.192145  0.300770  4.242809  0.399660  0.852372   \n",
       "7197  0.044754  6.170273   6.515965  1.190675  1.277071  1.952957  0.222139   \n",
       "7198  0.408371  3.622979   4.951965  0.822418  1.721339  2.115578  1.001705   \n",
       "7199  0.311332  5.738115   9.292851  1.518817  2.586051  1.721870  0.028028   \n",
       "\n",
       "             14        15        16        17  \n",
       "0     11.071413  0.621512  0.137794  0.156082  \n",
       "1      8.174726  1.734490  0.626280  0.669156  \n",
       "2     19.479208  0.771595  2.200938  2.088305  \n",
       "3     13.492350  0.387798  0.027286  0.021434  \n",
       "4     13.626838  0.046899  0.223364  0.185477  \n",
       "...         ...       ...       ...       ...  \n",
       "7195   6.651444  0.927936  0.146756  0.166001  \n",
       "7196   9.015173  2.337209  0.864501  0.925003  \n",
       "7197  11.460181  0.049971  0.215400  0.178171  \n",
       "7198  10.819368  1.142763  1.004142  0.997727  \n",
       "7199  13.402852  0.410797  0.027608  0.023110  \n",
       "\n",
       "[7200 rows x 18 columns]"
      ]
     },
     "execution_count": 44,
     "metadata": {},
     "output_type": "execute_result"
    }
   ],
   "source": [
    "pd.DataFrame(X_test)"
   ]
  },
  {
   "cell_type": "markdown",
   "id": "5fa024f7",
   "metadata": {
    "execution": {
     "iopub.execute_input": "2023-02-07T23:47:19.876941Z",
     "iopub.status.busy": "2023-02-07T23:47:19.876424Z",
     "iopub.status.idle": "2023-02-07T23:47:20.399488Z",
     "shell.execute_reply": "2023-02-07T23:47:20.398142Z"
    },
    "papermill": {
     "duration": 0.031315,
     "end_time": "2023-03-21T03:11:32.838468",
     "exception": false,
     "start_time": "2023-03-21T03:11:32.807153",
     "status": "completed"
    },
    "tags": []
   },
   "source": [
    "**Decision Tree**"
   ]
  },
  {
   "cell_type": "code",
   "execution_count": 45,
   "id": "4f5400c9",
   "metadata": {
    "execution": {
     "iopub.execute_input": "2023-03-21T03:11:32.866227Z",
     "iopub.status.busy": "2023-03-21T03:11:32.865742Z",
     "iopub.status.idle": "2023-03-21T03:11:33.825388Z",
     "shell.execute_reply": "2023-03-21T03:11:33.824424Z"
    },
    "papermill": {
     "duration": 0.976783,
     "end_time": "2023-03-21T03:11:33.828104",
     "exception": false,
     "start_time": "2023-03-21T03:11:32.851321",
     "status": "completed"
    },
    "tags": []
   },
   "outputs": [
    {
     "data": {
      "text/html": [
       "<style>#sk-container-id-5 {color: black;background-color: white;}#sk-container-id-5 pre{padding: 0;}#sk-container-id-5 div.sk-toggleable {background-color: white;}#sk-container-id-5 label.sk-toggleable__label {cursor: pointer;display: block;width: 100%;margin-bottom: 0;padding: 0.3em;box-sizing: border-box;text-align: center;}#sk-container-id-5 label.sk-toggleable__label-arrow:before {content: \"▸\";float: left;margin-right: 0.25em;color: #696969;}#sk-container-id-5 label.sk-toggleable__label-arrow:hover:before {color: black;}#sk-container-id-5 div.sk-estimator:hover label.sk-toggleable__label-arrow:before {color: black;}#sk-container-id-5 div.sk-toggleable__content {max-height: 0;max-width: 0;overflow: hidden;text-align: left;background-color: #f0f8ff;}#sk-container-id-5 div.sk-toggleable__content pre {margin: 0.2em;color: black;border-radius: 0.25em;background-color: #f0f8ff;}#sk-container-id-5 input.sk-toggleable__control:checked~div.sk-toggleable__content {max-height: 200px;max-width: 100%;overflow: auto;}#sk-container-id-5 input.sk-toggleable__control:checked~label.sk-toggleable__label-arrow:before {content: \"▾\";}#sk-container-id-5 div.sk-estimator input.sk-toggleable__control:checked~label.sk-toggleable__label {background-color: #d4ebff;}#sk-container-id-5 div.sk-label input.sk-toggleable__control:checked~label.sk-toggleable__label {background-color: #d4ebff;}#sk-container-id-5 input.sk-hidden--visually {border: 0;clip: rect(1px 1px 1px 1px);clip: rect(1px, 1px, 1px, 1px);height: 1px;margin: -1px;overflow: hidden;padding: 0;position: absolute;width: 1px;}#sk-container-id-5 div.sk-estimator {font-family: monospace;background-color: #f0f8ff;border: 1px dotted black;border-radius: 0.25em;box-sizing: border-box;margin-bottom: 0.5em;}#sk-container-id-5 div.sk-estimator:hover {background-color: #d4ebff;}#sk-container-id-5 div.sk-parallel-item::after {content: \"\";width: 100%;border-bottom: 1px solid gray;flex-grow: 1;}#sk-container-id-5 div.sk-label:hover label.sk-toggleable__label {background-color: #d4ebff;}#sk-container-id-5 div.sk-serial::before {content: \"\";position: absolute;border-left: 1px solid gray;box-sizing: border-box;top: 0;bottom: 0;left: 50%;z-index: 0;}#sk-container-id-5 div.sk-serial {display: flex;flex-direction: column;align-items: center;background-color: white;padding-right: 0.2em;padding-left: 0.2em;position: relative;}#sk-container-id-5 div.sk-item {position: relative;z-index: 1;}#sk-container-id-5 div.sk-parallel {display: flex;align-items: stretch;justify-content: center;background-color: white;position: relative;}#sk-container-id-5 div.sk-item::before, #sk-container-id-5 div.sk-parallel-item::before {content: \"\";position: absolute;border-left: 1px solid gray;box-sizing: border-box;top: 0;bottom: 0;left: 50%;z-index: -1;}#sk-container-id-5 div.sk-parallel-item {display: flex;flex-direction: column;z-index: 1;position: relative;background-color: white;}#sk-container-id-5 div.sk-parallel-item:first-child::after {align-self: flex-end;width: 50%;}#sk-container-id-5 div.sk-parallel-item:last-child::after {align-self: flex-start;width: 50%;}#sk-container-id-5 div.sk-parallel-item:only-child::after {width: 0;}#sk-container-id-5 div.sk-dashed-wrapped {border: 1px dashed gray;margin: 0 0.4em 0.5em 0.4em;box-sizing: border-box;padding-bottom: 0.4em;background-color: white;}#sk-container-id-5 div.sk-label label {font-family: monospace;font-weight: bold;display: inline-block;line-height: 1.2em;}#sk-container-id-5 div.sk-label-container {text-align: center;}#sk-container-id-5 div.sk-container {/* jupyter's `normalize.less` sets `[hidden] { display: none; }` but bootstrap.min.css set `[hidden] { display: none !important; }` so we also need the `!important` here to be able to override the default hidden behavior on the sphinx rendered scikit-learn.org. See: https://github.com/scikit-learn/scikit-learn/issues/21755 */display: inline-block !important;position: relative;}#sk-container-id-5 div.sk-text-repr-fallback {display: none;}</style><div id=\"sk-container-id-5\" class=\"sk-top-container\"><div class=\"sk-text-repr-fallback\"><pre>DecisionTreeClassifier(random_state=42)</pre><b>In a Jupyter environment, please rerun this cell to show the HTML representation or trust the notebook. <br />On GitHub, the HTML representation is unable to render, please try loading this page with nbviewer.org.</b></div><div class=\"sk-container\" hidden><div class=\"sk-item\"><div class=\"sk-estimator sk-toggleable\"><input class=\"sk-toggleable__control sk-hidden--visually\" id=\"sk-estimator-id-5\" type=\"checkbox\" checked><label for=\"sk-estimator-id-5\" class=\"sk-toggleable__label sk-toggleable__label-arrow\">DecisionTreeClassifier</label><div class=\"sk-toggleable__content\"><pre>DecisionTreeClassifier(random_state=42)</pre></div></div></div></div></div>"
      ],
      "text/plain": [
       "DecisionTreeClassifier(random_state=42)"
      ]
     },
     "execution_count": 45,
     "metadata": {},
     "output_type": "execute_result"
    }
   ],
   "source": [
    "clf = DecisionTreeClassifier(random_state=42)\n",
    "clf.fit(X_train, y_train)"
   ]
  },
  {
   "cell_type": "code",
   "execution_count": 46,
   "id": "3b56d190",
   "metadata": {
    "execution": {
     "iopub.execute_input": "2023-03-21T03:11:33.903457Z",
     "iopub.status.busy": "2023-03-21T03:11:33.903030Z",
     "iopub.status.idle": "2023-03-21T03:11:34.058854Z",
     "shell.execute_reply": "2023-03-21T03:11:34.057858Z"
    },
    "papermill": {
     "duration": 0.195851,
     "end_time": "2023-03-21T03:11:34.061725",
     "exception": false,
     "start_time": "2023-03-21T03:11:33.865874",
     "status": "completed"
    },
    "tags": []
   },
   "outputs": [
    {
     "name": "stdout",
     "output_type": "stream",
     "text": [
      "              precision    recall  f1-score   support\n",
      "\n",
      "         pop       0.40      0.40      0.40      2400\n",
      "         rap       0.69      0.67      0.68      2400\n",
      "        rock       0.48      0.48      0.48      2400\n",
      "\n",
      "    accuracy                           0.52      7200\n",
      "   macro avg       0.52      0.52      0.52      7200\n",
      "weighted avg       0.52      0.52      0.52      7200\n",
      "\n"
     ]
    }
   ],
   "source": [
    "y_pred = clf.predict(X_test)\n",
    "print(classification_report(y_test, y_pred))"
   ]
  },
  {
   "cell_type": "code",
   "execution_count": 47,
   "id": "42bc91ff",
   "metadata": {
    "execution": {
     "iopub.execute_input": "2023-03-21T03:11:34.135010Z",
     "iopub.status.busy": "2023-03-21T03:11:34.134516Z",
     "iopub.status.idle": "2023-03-21T03:11:34.141971Z",
     "shell.execute_reply": "2023-03-21T03:11:34.140984Z"
    },
    "papermill": {
     "duration": 0.045902,
     "end_time": "2023-03-21T03:11:34.145199",
     "exception": false,
     "start_time": "2023-03-21T03:11:34.099297",
     "status": "completed"
    },
    "tags": []
   },
   "outputs": [],
   "source": [
    "pickle.dump(clf, open(f'{data_path}/decision_tree.pkl', 'wb'))"
   ]
  },
  {
   "cell_type": "code",
   "execution_count": 48,
   "id": "ea9be210",
   "metadata": {
    "execution": {
     "iopub.execute_input": "2023-03-21T03:11:34.185157Z",
     "iopub.status.busy": "2023-03-21T03:11:34.184846Z",
     "iopub.status.idle": "2023-03-21T03:11:34.342367Z",
     "shell.execute_reply": "2023-03-21T03:11:34.341403Z"
    },
    "papermill": {
     "duration": 0.1747,
     "end_time": "2023-03-21T03:11:34.345312",
     "exception": false,
     "start_time": "2023-03-21T03:11:34.170612",
     "status": "completed"
    },
    "tags": []
   },
   "outputs": [],
   "source": [
    "acc = accuracy_score(y_test, y_pred)\n",
    "pre = precision_score(y_test, y_pred, average=avg_par)\n",
    "rec = recall_score(y_test, y_pred, average=avg_par)\n",
    "f1 = f1_score(y_test, y_pred, average=avg_par)\n",
    "\n",
    "metrics_data['Shapelets']['DecisionTree'] = {'Accuracy': acc, 'Precision': pre, 'Recall': rec, 'F1': f1}"
   ]
  },
  {
   "cell_type": "markdown",
   "id": "3ca3443b",
   "metadata": {
    "papermill": {
     "duration": 0.03455,
     "end_time": "2023-03-21T03:11:34.417022",
     "exception": false,
     "start_time": "2023-03-21T03:11:34.382472",
     "status": "completed"
    },
    "tags": []
   },
   "source": [
    "**Random Forest**"
   ]
  },
  {
   "cell_type": "code",
   "execution_count": 49,
   "id": "37795e21",
   "metadata": {
    "execution": {
     "iopub.execute_input": "2023-03-21T03:11:34.449701Z",
     "iopub.status.busy": "2023-03-21T03:11:34.449233Z",
     "iopub.status.idle": "2023-03-21T03:11:47.583877Z",
     "shell.execute_reply": "2023-03-21T03:11:47.582825Z"
    },
    "papermill": {
     "duration": 13.152141,
     "end_time": "2023-03-21T03:11:47.586788",
     "exception": false,
     "start_time": "2023-03-21T03:11:34.434647",
     "status": "completed"
    },
    "tags": []
   },
   "outputs": [
    {
     "data": {
      "text/html": [
       "<style>#sk-container-id-6 {color: black;background-color: white;}#sk-container-id-6 pre{padding: 0;}#sk-container-id-6 div.sk-toggleable {background-color: white;}#sk-container-id-6 label.sk-toggleable__label {cursor: pointer;display: block;width: 100%;margin-bottom: 0;padding: 0.3em;box-sizing: border-box;text-align: center;}#sk-container-id-6 label.sk-toggleable__label-arrow:before {content: \"▸\";float: left;margin-right: 0.25em;color: #696969;}#sk-container-id-6 label.sk-toggleable__label-arrow:hover:before {color: black;}#sk-container-id-6 div.sk-estimator:hover label.sk-toggleable__label-arrow:before {color: black;}#sk-container-id-6 div.sk-toggleable__content {max-height: 0;max-width: 0;overflow: hidden;text-align: left;background-color: #f0f8ff;}#sk-container-id-6 div.sk-toggleable__content pre {margin: 0.2em;color: black;border-radius: 0.25em;background-color: #f0f8ff;}#sk-container-id-6 input.sk-toggleable__control:checked~div.sk-toggleable__content {max-height: 200px;max-width: 100%;overflow: auto;}#sk-container-id-6 input.sk-toggleable__control:checked~label.sk-toggleable__label-arrow:before {content: \"▾\";}#sk-container-id-6 div.sk-estimator input.sk-toggleable__control:checked~label.sk-toggleable__label {background-color: #d4ebff;}#sk-container-id-6 div.sk-label input.sk-toggleable__control:checked~label.sk-toggleable__label {background-color: #d4ebff;}#sk-container-id-6 input.sk-hidden--visually {border: 0;clip: rect(1px 1px 1px 1px);clip: rect(1px, 1px, 1px, 1px);height: 1px;margin: -1px;overflow: hidden;padding: 0;position: absolute;width: 1px;}#sk-container-id-6 div.sk-estimator {font-family: monospace;background-color: #f0f8ff;border: 1px dotted black;border-radius: 0.25em;box-sizing: border-box;margin-bottom: 0.5em;}#sk-container-id-6 div.sk-estimator:hover {background-color: #d4ebff;}#sk-container-id-6 div.sk-parallel-item::after {content: \"\";width: 100%;border-bottom: 1px solid gray;flex-grow: 1;}#sk-container-id-6 div.sk-label:hover label.sk-toggleable__label {background-color: #d4ebff;}#sk-container-id-6 div.sk-serial::before {content: \"\";position: absolute;border-left: 1px solid gray;box-sizing: border-box;top: 0;bottom: 0;left: 50%;z-index: 0;}#sk-container-id-6 div.sk-serial {display: flex;flex-direction: column;align-items: center;background-color: white;padding-right: 0.2em;padding-left: 0.2em;position: relative;}#sk-container-id-6 div.sk-item {position: relative;z-index: 1;}#sk-container-id-6 div.sk-parallel {display: flex;align-items: stretch;justify-content: center;background-color: white;position: relative;}#sk-container-id-6 div.sk-item::before, #sk-container-id-6 div.sk-parallel-item::before {content: \"\";position: absolute;border-left: 1px solid gray;box-sizing: border-box;top: 0;bottom: 0;left: 50%;z-index: -1;}#sk-container-id-6 div.sk-parallel-item {display: flex;flex-direction: column;z-index: 1;position: relative;background-color: white;}#sk-container-id-6 div.sk-parallel-item:first-child::after {align-self: flex-end;width: 50%;}#sk-container-id-6 div.sk-parallel-item:last-child::after {align-self: flex-start;width: 50%;}#sk-container-id-6 div.sk-parallel-item:only-child::after {width: 0;}#sk-container-id-6 div.sk-dashed-wrapped {border: 1px dashed gray;margin: 0 0.4em 0.5em 0.4em;box-sizing: border-box;padding-bottom: 0.4em;background-color: white;}#sk-container-id-6 div.sk-label label {font-family: monospace;font-weight: bold;display: inline-block;line-height: 1.2em;}#sk-container-id-6 div.sk-label-container {text-align: center;}#sk-container-id-6 div.sk-container {/* jupyter's `normalize.less` sets `[hidden] { display: none; }` but bootstrap.min.css set `[hidden] { display: none !important; }` so we also need the `!important` here to be able to override the default hidden behavior on the sphinx rendered scikit-learn.org. See: https://github.com/scikit-learn/scikit-learn/issues/21755 */display: inline-block !important;position: relative;}#sk-container-id-6 div.sk-text-repr-fallback {display: none;}</style><div id=\"sk-container-id-6\" class=\"sk-top-container\"><div class=\"sk-text-repr-fallback\"><pre>RandomForestClassifier(random_state=42)</pre><b>In a Jupyter environment, please rerun this cell to show the HTML representation or trust the notebook. <br />On GitHub, the HTML representation is unable to render, please try loading this page with nbviewer.org.</b></div><div class=\"sk-container\" hidden><div class=\"sk-item\"><div class=\"sk-estimator sk-toggleable\"><input class=\"sk-toggleable__control sk-hidden--visually\" id=\"sk-estimator-id-6\" type=\"checkbox\" checked><label for=\"sk-estimator-id-6\" class=\"sk-toggleable__label sk-toggleable__label-arrow\">RandomForestClassifier</label><div class=\"sk-toggleable__content\"><pre>RandomForestClassifier(random_state=42)</pre></div></div></div></div></div>"
      ],
      "text/plain": [
       "RandomForestClassifier(random_state=42)"
      ]
     },
     "execution_count": 49,
     "metadata": {},
     "output_type": "execute_result"
    }
   ],
   "source": [
    "clf = RandomForestClassifier(random_state=42)\n",
    "clf.fit(X_train, y_train)"
   ]
  },
  {
   "cell_type": "code",
   "execution_count": 50,
   "id": "581ab90a",
   "metadata": {
    "execution": {
     "iopub.execute_input": "2023-03-21T03:11:47.664428Z",
     "iopub.status.busy": "2023-03-21T03:11:47.664134Z",
     "iopub.status.idle": "2023-03-21T03:11:47.970166Z",
     "shell.execute_reply": "2023-03-21T03:11:47.969168Z"
    },
    "papermill": {
     "duration": 0.348038,
     "end_time": "2023-03-21T03:11:47.973252",
     "exception": false,
     "start_time": "2023-03-21T03:11:47.625214",
     "status": "completed"
    },
    "tags": []
   },
   "outputs": [
    {
     "name": "stdout",
     "output_type": "stream",
     "text": [
      "              precision    recall  f1-score   support\n",
      "\n",
      "         pop       0.48      0.42      0.45      2400\n",
      "         rap       0.77      0.80      0.78      2400\n",
      "        rock       0.55      0.60      0.58      2400\n",
      "\n",
      "    accuracy                           0.61      7200\n",
      "   macro avg       0.60      0.61      0.60      7200\n",
      "weighted avg       0.60      0.61      0.60      7200\n",
      "\n"
     ]
    }
   ],
   "source": [
    "y_pred = clf.predict(X_test)\n",
    "print(classification_report(y_test, y_pred))"
   ]
  },
  {
   "cell_type": "code",
   "execution_count": 51,
   "id": "faf1d7f4",
   "metadata": {
    "execution": {
     "iopub.execute_input": "2023-03-21T03:11:48.051057Z",
     "iopub.status.busy": "2023-03-21T03:11:48.050687Z",
     "iopub.status.idle": "2023-03-21T03:11:48.205107Z",
     "shell.execute_reply": "2023-03-21T03:11:48.204140Z"
    },
    "papermill": {
     "duration": 0.19653,
     "end_time": "2023-03-21T03:11:48.207966",
     "exception": false,
     "start_time": "2023-03-21T03:11:48.011436",
     "status": "completed"
    },
    "tags": []
   },
   "outputs": [],
   "source": [
    "acc = accuracy_score(y_test, y_pred)\n",
    "pre = precision_score(y_test, y_pred, average=avg_par)\n",
    "rec = recall_score(y_test, y_pred, average=avg_par)\n",
    "f1 = f1_score(y_test, y_pred, average=avg_par)\n",
    "\n",
    "metrics_data['Shapelets']['RandomForest'] = {'Accuracy': acc, 'Precision': pre, 'Recall': rec, 'F1': f1}"
   ]
  },
  {
   "cell_type": "markdown",
   "id": "61fceefb",
   "metadata": {
    "papermill": {
     "duration": 0.037651,
     "end_time": "2023-03-21T03:11:48.283372",
     "exception": false,
     "start_time": "2023-03-21T03:11:48.245721",
     "status": "completed"
    },
    "tags": []
   },
   "source": [
    "**LightGBM**"
   ]
  },
  {
   "cell_type": "code",
   "execution_count": 52,
   "id": "194189da",
   "metadata": {
    "execution": {
     "iopub.execute_input": "2023-03-21T03:11:48.314478Z",
     "iopub.status.busy": "2023-03-21T03:11:48.314169Z",
     "iopub.status.idle": "2023-03-21T03:11:49.144834Z",
     "shell.execute_reply": "2023-03-21T03:11:49.143922Z"
    },
    "papermill": {
     "duration": 0.847376,
     "end_time": "2023-03-21T03:11:49.146923",
     "exception": false,
     "start_time": "2023-03-21T03:11:48.299547",
     "status": "completed"
    },
    "tags": []
   },
   "outputs": [
    {
     "data": {
      "text/html": [
       "<style>#sk-container-id-7 {color: black;background-color: white;}#sk-container-id-7 pre{padding: 0;}#sk-container-id-7 div.sk-toggleable {background-color: white;}#sk-container-id-7 label.sk-toggleable__label {cursor: pointer;display: block;width: 100%;margin-bottom: 0;padding: 0.3em;box-sizing: border-box;text-align: center;}#sk-container-id-7 label.sk-toggleable__label-arrow:before {content: \"▸\";float: left;margin-right: 0.25em;color: #696969;}#sk-container-id-7 label.sk-toggleable__label-arrow:hover:before {color: black;}#sk-container-id-7 div.sk-estimator:hover label.sk-toggleable__label-arrow:before {color: black;}#sk-container-id-7 div.sk-toggleable__content {max-height: 0;max-width: 0;overflow: hidden;text-align: left;background-color: #f0f8ff;}#sk-container-id-7 div.sk-toggleable__content pre {margin: 0.2em;color: black;border-radius: 0.25em;background-color: #f0f8ff;}#sk-container-id-7 input.sk-toggleable__control:checked~div.sk-toggleable__content {max-height: 200px;max-width: 100%;overflow: auto;}#sk-container-id-7 input.sk-toggleable__control:checked~label.sk-toggleable__label-arrow:before {content: \"▾\";}#sk-container-id-7 div.sk-estimator input.sk-toggleable__control:checked~label.sk-toggleable__label {background-color: #d4ebff;}#sk-container-id-7 div.sk-label input.sk-toggleable__control:checked~label.sk-toggleable__label {background-color: #d4ebff;}#sk-container-id-7 input.sk-hidden--visually {border: 0;clip: rect(1px 1px 1px 1px);clip: rect(1px, 1px, 1px, 1px);height: 1px;margin: -1px;overflow: hidden;padding: 0;position: absolute;width: 1px;}#sk-container-id-7 div.sk-estimator {font-family: monospace;background-color: #f0f8ff;border: 1px dotted black;border-radius: 0.25em;box-sizing: border-box;margin-bottom: 0.5em;}#sk-container-id-7 div.sk-estimator:hover {background-color: #d4ebff;}#sk-container-id-7 div.sk-parallel-item::after {content: \"\";width: 100%;border-bottom: 1px solid gray;flex-grow: 1;}#sk-container-id-7 div.sk-label:hover label.sk-toggleable__label {background-color: #d4ebff;}#sk-container-id-7 div.sk-serial::before {content: \"\";position: absolute;border-left: 1px solid gray;box-sizing: border-box;top: 0;bottom: 0;left: 50%;z-index: 0;}#sk-container-id-7 div.sk-serial {display: flex;flex-direction: column;align-items: center;background-color: white;padding-right: 0.2em;padding-left: 0.2em;position: relative;}#sk-container-id-7 div.sk-item {position: relative;z-index: 1;}#sk-container-id-7 div.sk-parallel {display: flex;align-items: stretch;justify-content: center;background-color: white;position: relative;}#sk-container-id-7 div.sk-item::before, #sk-container-id-7 div.sk-parallel-item::before {content: \"\";position: absolute;border-left: 1px solid gray;box-sizing: border-box;top: 0;bottom: 0;left: 50%;z-index: -1;}#sk-container-id-7 div.sk-parallel-item {display: flex;flex-direction: column;z-index: 1;position: relative;background-color: white;}#sk-container-id-7 div.sk-parallel-item:first-child::after {align-self: flex-end;width: 50%;}#sk-container-id-7 div.sk-parallel-item:last-child::after {align-self: flex-start;width: 50%;}#sk-container-id-7 div.sk-parallel-item:only-child::after {width: 0;}#sk-container-id-7 div.sk-dashed-wrapped {border: 1px dashed gray;margin: 0 0.4em 0.5em 0.4em;box-sizing: border-box;padding-bottom: 0.4em;background-color: white;}#sk-container-id-7 div.sk-label label {font-family: monospace;font-weight: bold;display: inline-block;line-height: 1.2em;}#sk-container-id-7 div.sk-label-container {text-align: center;}#sk-container-id-7 div.sk-container {/* jupyter's `normalize.less` sets `[hidden] { display: none; }` but bootstrap.min.css set `[hidden] { display: none !important; }` so we also need the `!important` here to be able to override the default hidden behavior on the sphinx rendered scikit-learn.org. See: https://github.com/scikit-learn/scikit-learn/issues/21755 */display: inline-block !important;position: relative;}#sk-container-id-7 div.sk-text-repr-fallback {display: none;}</style><div id=\"sk-container-id-7\" class=\"sk-top-container\"><div class=\"sk-text-repr-fallback\"><pre>LGBMClassifier(objective=&#x27;multiclass&#x27;)</pre><b>In a Jupyter environment, please rerun this cell to show the HTML representation or trust the notebook. <br />On GitHub, the HTML representation is unable to render, please try loading this page with nbviewer.org.</b></div><div class=\"sk-container\" hidden><div class=\"sk-item\"><div class=\"sk-estimator sk-toggleable\"><input class=\"sk-toggleable__control sk-hidden--visually\" id=\"sk-estimator-id-7\" type=\"checkbox\" checked><label for=\"sk-estimator-id-7\" class=\"sk-toggleable__label sk-toggleable__label-arrow\">LGBMClassifier</label><div class=\"sk-toggleable__content\"><pre>LGBMClassifier(objective=&#x27;multiclass&#x27;)</pre></div></div></div></div></div>"
      ],
      "text/plain": [
       "LGBMClassifier(objective='multiclass')"
      ]
     },
     "execution_count": 52,
     "metadata": {},
     "output_type": "execute_result"
    }
   ],
   "source": [
    "clf = lgbm.LGBMClassifier(objective=obj_par) \n",
    "clf.fit(X_train, y_train)"
   ]
  },
  {
   "cell_type": "code",
   "execution_count": 53,
   "id": "355a078b",
   "metadata": {
    "execution": {
     "iopub.execute_input": "2023-03-21T03:11:49.181472Z",
     "iopub.status.busy": "2023-03-21T03:11:49.181009Z",
     "iopub.status.idle": "2023-03-21T03:11:49.452719Z",
     "shell.execute_reply": "2023-03-21T03:11:49.451777Z"
    },
    "papermill": {
     "duration": 0.291347,
     "end_time": "2023-03-21T03:11:49.455736",
     "exception": false,
     "start_time": "2023-03-21T03:11:49.164389",
     "status": "completed"
    },
    "tags": []
   },
   "outputs": [
    {
     "name": "stdout",
     "output_type": "stream",
     "text": [
      "              precision    recall  f1-score   support\n",
      "\n",
      "         pop       0.48      0.39      0.43      2400\n",
      "         rap       0.77      0.79      0.78      2400\n",
      "        rock       0.55      0.64      0.59      2400\n",
      "\n",
      "    accuracy                           0.61      7200\n",
      "   macro avg       0.60      0.61      0.60      7200\n",
      "weighted avg       0.60      0.61      0.60      7200\n",
      "\n"
     ]
    }
   ],
   "source": [
    "y_pred = clf.predict(X_test)\n",
    "print(classification_report(y_test, y_pred))"
   ]
  },
  {
   "cell_type": "code",
   "execution_count": 54,
   "id": "f22b911e",
   "metadata": {
    "execution": {
     "iopub.execute_input": "2023-03-21T03:11:49.534377Z",
     "iopub.status.busy": "2023-03-21T03:11:49.534082Z",
     "iopub.status.idle": "2023-03-21T03:11:49.682271Z",
     "shell.execute_reply": "2023-03-21T03:11:49.681278Z"
    },
    "papermill": {
     "duration": 0.190525,
     "end_time": "2023-03-21T03:11:49.685300",
     "exception": false,
     "start_time": "2023-03-21T03:11:49.494775",
     "status": "completed"
    },
    "tags": []
   },
   "outputs": [],
   "source": [
    "acc = accuracy_score(y_test, y_pred)\n",
    "pre = precision_score(y_test, y_pred, average=avg_par)\n",
    "rec = recall_score(y_test, y_pred, average=avg_par)\n",
    "f1 = f1_score(y_test, y_pred, average=avg_par)\n",
    "\n",
    "metrics_data['Shapelets']['LightGBM'] = {'Accuracy': acc, 'Precision': pre, 'Recall': rec, 'F1': f1}"
   ]
  },
  {
   "cell_type": "markdown",
   "id": "0809af9f",
   "metadata": {
    "papermill": {
     "duration": 0.038146,
     "end_time": "2023-03-21T03:11:49.761555",
     "exception": false,
     "start_time": "2023-03-21T03:11:49.723409",
     "status": "completed"
    },
    "tags": []
   },
   "source": [
    "#### KNN"
   ]
  },
  {
   "cell_type": "code",
   "execution_count": 55,
   "id": "1c9237e0",
   "metadata": {
    "execution": {
     "iopub.execute_input": "2023-03-21T03:11:49.792557Z",
     "iopub.status.busy": "2023-03-21T03:11:49.792082Z",
     "iopub.status.idle": "2023-03-21T03:11:49.798581Z",
     "shell.execute_reply": "2023-03-21T03:11:49.797444Z"
    },
    "papermill": {
     "duration": 0.023683,
     "end_time": "2023-03-21T03:11:49.800790",
     "exception": false,
     "start_time": "2023-03-21T03:11:49.777107",
     "status": "completed"
    },
    "tags": []
   },
   "outputs": [],
   "source": [
    "X_train = ts_train.reshape((ts_train.shape[0], ts_train.shape[1]))\n",
    "X_test = ts_test.reshape((ts_test.shape[0], ts_test.shape[1]))"
   ]
  },
  {
   "cell_type": "code",
   "execution_count": 56,
   "id": "192f3c3f",
   "metadata": {
    "execution": {
     "iopub.execute_input": "2023-03-21T03:11:49.832429Z",
     "iopub.status.busy": "2023-03-21T03:11:49.831697Z",
     "iopub.status.idle": "2023-03-21T03:11:49.838947Z",
     "shell.execute_reply": "2023-03-21T03:11:49.837941Z"
    },
    "papermill": {
     "duration": 0.024271,
     "end_time": "2023-03-21T03:11:49.840599",
     "exception": false,
     "start_time": "2023-03-21T03:11:49.816328",
     "status": "completed"
    },
    "tags": []
   },
   "outputs": [
    {
     "data": {
      "text/plain": [
       "(28800, 100)"
      ]
     },
     "execution_count": 56,
     "metadata": {},
     "output_type": "execute_result"
    }
   ],
   "source": [
    "X_train.shape"
   ]
  },
  {
   "cell_type": "code",
   "execution_count": 57,
   "id": "de0e5000",
   "metadata": {
    "execution": {
     "iopub.execute_input": "2023-03-21T03:11:49.871005Z",
     "iopub.status.busy": "2023-03-21T03:11:49.870040Z",
     "iopub.status.idle": "2023-03-21T03:11:49.875300Z",
     "shell.execute_reply": "2023-03-21T03:11:49.874161Z"
    },
    "papermill": {
     "duration": 0.022387,
     "end_time": "2023-03-21T03:11:49.876881",
     "exception": false,
     "start_time": "2023-03-21T03:11:49.854494",
     "status": "completed"
    },
    "tags": []
   },
   "outputs": [],
   "source": [
    "metrics_data['KNN'] = {}"
   ]
  },
  {
   "cell_type": "markdown",
   "id": "8ee39c05",
   "metadata": {
    "papermill": {
     "duration": 0.01353,
     "end_time": "2023-03-21T03:11:49.904142",
     "exception": false,
     "start_time": "2023-03-21T03:11:49.890612",
     "status": "completed"
    },
    "tags": []
   },
   "source": [
    "**Euclidean Distance**"
   ]
  },
  {
   "cell_type": "code",
   "execution_count": 58,
   "id": "55db1f58",
   "metadata": {
    "execution": {
     "iopub.execute_input": "2023-03-21T03:11:49.934493Z",
     "iopub.status.busy": "2023-03-21T03:11:49.933598Z",
     "iopub.status.idle": "2023-03-21T03:11:49.939252Z",
     "shell.execute_reply": "2023-03-21T03:11:49.938043Z"
    },
    "papermill": {
     "duration": 0.022916,
     "end_time": "2023-03-21T03:11:49.941015",
     "exception": false,
     "start_time": "2023-03-21T03:11:49.918099",
     "status": "completed"
    },
    "tags": []
   },
   "outputs": [],
   "source": [
    "from sklearn.neighbors import KNeighborsClassifier"
   ]
  },
  {
   "cell_type": "code",
   "execution_count": 59,
   "id": "132c2537",
   "metadata": {
    "execution": {
     "iopub.execute_input": "2023-03-21T03:11:49.972103Z",
     "iopub.status.busy": "2023-03-21T03:11:49.970970Z",
     "iopub.status.idle": "2023-03-21T03:11:50.032983Z",
     "shell.execute_reply": "2023-03-21T03:11:50.032046Z"
    },
    "papermill": {
     "duration": 0.079674,
     "end_time": "2023-03-21T03:11:50.034746",
     "exception": false,
     "start_time": "2023-03-21T03:11:49.955072",
     "status": "completed"
    },
    "tags": []
   },
   "outputs": [
    {
     "data": {
      "text/html": [
       "<style>#sk-container-id-8 {color: black;background-color: white;}#sk-container-id-8 pre{padding: 0;}#sk-container-id-8 div.sk-toggleable {background-color: white;}#sk-container-id-8 label.sk-toggleable__label {cursor: pointer;display: block;width: 100%;margin-bottom: 0;padding: 0.3em;box-sizing: border-box;text-align: center;}#sk-container-id-8 label.sk-toggleable__label-arrow:before {content: \"▸\";float: left;margin-right: 0.25em;color: #696969;}#sk-container-id-8 label.sk-toggleable__label-arrow:hover:before {color: black;}#sk-container-id-8 div.sk-estimator:hover label.sk-toggleable__label-arrow:before {color: black;}#sk-container-id-8 div.sk-toggleable__content {max-height: 0;max-width: 0;overflow: hidden;text-align: left;background-color: #f0f8ff;}#sk-container-id-8 div.sk-toggleable__content pre {margin: 0.2em;color: black;border-radius: 0.25em;background-color: #f0f8ff;}#sk-container-id-8 input.sk-toggleable__control:checked~div.sk-toggleable__content {max-height: 200px;max-width: 100%;overflow: auto;}#sk-container-id-8 input.sk-toggleable__control:checked~label.sk-toggleable__label-arrow:before {content: \"▾\";}#sk-container-id-8 div.sk-estimator input.sk-toggleable__control:checked~label.sk-toggleable__label {background-color: #d4ebff;}#sk-container-id-8 div.sk-label input.sk-toggleable__control:checked~label.sk-toggleable__label {background-color: #d4ebff;}#sk-container-id-8 input.sk-hidden--visually {border: 0;clip: rect(1px 1px 1px 1px);clip: rect(1px, 1px, 1px, 1px);height: 1px;margin: -1px;overflow: hidden;padding: 0;position: absolute;width: 1px;}#sk-container-id-8 div.sk-estimator {font-family: monospace;background-color: #f0f8ff;border: 1px dotted black;border-radius: 0.25em;box-sizing: border-box;margin-bottom: 0.5em;}#sk-container-id-8 div.sk-estimator:hover {background-color: #d4ebff;}#sk-container-id-8 div.sk-parallel-item::after {content: \"\";width: 100%;border-bottom: 1px solid gray;flex-grow: 1;}#sk-container-id-8 div.sk-label:hover label.sk-toggleable__label {background-color: #d4ebff;}#sk-container-id-8 div.sk-serial::before {content: \"\";position: absolute;border-left: 1px solid gray;box-sizing: border-box;top: 0;bottom: 0;left: 50%;z-index: 0;}#sk-container-id-8 div.sk-serial {display: flex;flex-direction: column;align-items: center;background-color: white;padding-right: 0.2em;padding-left: 0.2em;position: relative;}#sk-container-id-8 div.sk-item {position: relative;z-index: 1;}#sk-container-id-8 div.sk-parallel {display: flex;align-items: stretch;justify-content: center;background-color: white;position: relative;}#sk-container-id-8 div.sk-item::before, #sk-container-id-8 div.sk-parallel-item::before {content: \"\";position: absolute;border-left: 1px solid gray;box-sizing: border-box;top: 0;bottom: 0;left: 50%;z-index: -1;}#sk-container-id-8 div.sk-parallel-item {display: flex;flex-direction: column;z-index: 1;position: relative;background-color: white;}#sk-container-id-8 div.sk-parallel-item:first-child::after {align-self: flex-end;width: 50%;}#sk-container-id-8 div.sk-parallel-item:last-child::after {align-self: flex-start;width: 50%;}#sk-container-id-8 div.sk-parallel-item:only-child::after {width: 0;}#sk-container-id-8 div.sk-dashed-wrapped {border: 1px dashed gray;margin: 0 0.4em 0.5em 0.4em;box-sizing: border-box;padding-bottom: 0.4em;background-color: white;}#sk-container-id-8 div.sk-label label {font-family: monospace;font-weight: bold;display: inline-block;line-height: 1.2em;}#sk-container-id-8 div.sk-label-container {text-align: center;}#sk-container-id-8 div.sk-container {/* jupyter's `normalize.less` sets `[hidden] { display: none; }` but bootstrap.min.css set `[hidden] { display: none !important; }` so we also need the `!important` here to be able to override the default hidden behavior on the sphinx rendered scikit-learn.org. See: https://github.com/scikit-learn/scikit-learn/issues/21755 */display: inline-block !important;position: relative;}#sk-container-id-8 div.sk-text-repr-fallback {display: none;}</style><div id=\"sk-container-id-8\" class=\"sk-top-container\"><div class=\"sk-text-repr-fallback\"><pre>KNeighborsClassifier()</pre><b>In a Jupyter environment, please rerun this cell to show the HTML representation or trust the notebook. <br />On GitHub, the HTML representation is unable to render, please try loading this page with nbviewer.org.</b></div><div class=\"sk-container\" hidden><div class=\"sk-item\"><div class=\"sk-estimator sk-toggleable\"><input class=\"sk-toggleable__control sk-hidden--visually\" id=\"sk-estimator-id-8\" type=\"checkbox\" checked><label for=\"sk-estimator-id-8\" class=\"sk-toggleable__label sk-toggleable__label-arrow\">KNeighborsClassifier</label><div class=\"sk-toggleable__content\"><pre>KNeighborsClassifier()</pre></div></div></div></div></div>"
      ],
      "text/plain": [
       "KNeighborsClassifier()"
      ]
     },
     "execution_count": 59,
     "metadata": {},
     "output_type": "execute_result"
    }
   ],
   "source": [
    "clf = KNeighborsClassifier(n_neighbors=5, weights='uniform')\n",
    "clf.fit(X_train, y_train)"
   ]
  },
  {
   "cell_type": "code",
   "execution_count": 60,
   "id": "0afad62a",
   "metadata": {
    "execution": {
     "iopub.execute_input": "2023-03-21T03:11:50.067756Z",
     "iopub.status.busy": "2023-03-21T03:11:50.066745Z",
     "iopub.status.idle": "2023-03-21T03:11:52.279107Z",
     "shell.execute_reply": "2023-03-21T03:11:52.277983Z"
    },
    "papermill": {
     "duration": 2.230644,
     "end_time": "2023-03-21T03:11:52.282203",
     "exception": false,
     "start_time": "2023-03-21T03:11:50.051559",
     "status": "completed"
    },
    "tags": []
   },
   "outputs": [
    {
     "name": "stdout",
     "output_type": "stream",
     "text": [
      "              precision    recall  f1-score   support\n",
      "\n",
      "         pop       0.33      0.31      0.32      2400\n",
      "         rap       0.82      0.12      0.21      2400\n",
      "        rock       0.38      0.72      0.49      2400\n",
      "\n",
      "    accuracy                           0.38      7200\n",
      "   macro avg       0.51      0.38      0.34      7200\n",
      "weighted avg       0.51      0.38      0.34      7200\n",
      "\n"
     ]
    }
   ],
   "source": [
    "y_pred = clf.predict(X_test)\n",
    "print(classification_report(y_test, y_pred))"
   ]
  },
  {
   "cell_type": "code",
   "execution_count": 61,
   "id": "2d709070",
   "metadata": {
    "execution": {
     "iopub.execute_input": "2023-03-21T03:11:52.364108Z",
     "iopub.status.busy": "2023-03-21T03:11:52.363801Z",
     "iopub.status.idle": "2023-03-21T03:11:52.520928Z",
     "shell.execute_reply": "2023-03-21T03:11:52.520044Z"
    },
    "papermill": {
     "duration": 0.20167,
     "end_time": "2023-03-21T03:11:52.524075",
     "exception": false,
     "start_time": "2023-03-21T03:11:52.322405",
     "status": "completed"
    },
    "tags": []
   },
   "outputs": [],
   "source": [
    "acc = accuracy_score(y_test, y_pred)\n",
    "pre = precision_score(y_test, y_pred, average=avg_par)\n",
    "rec = recall_score(y_test, y_pred, average=avg_par)\n",
    "f1 = f1_score(y_test, y_pred, average=avg_par)\n",
    "\n",
    "metrics_data['KNN']['Euclidean'] = {'Accuracy': acc, 'Precision': pre, 'Recall': rec, 'F1': f1}"
   ]
  },
  {
   "cell_type": "markdown",
   "id": "c5ec2a09",
   "metadata": {
    "papermill": {
     "duration": 0.03876,
     "end_time": "2023-03-21T03:11:52.601868",
     "exception": false,
     "start_time": "2023-03-21T03:11:52.563108",
     "status": "completed"
    },
    "tags": []
   },
   "source": [
    "**Dynamic Time Warping**"
   ]
  },
  {
   "cell_type": "code",
   "execution_count": 62,
   "id": "2df913d8",
   "metadata": {
    "execution": {
     "iopub.execute_input": "2023-03-21T03:11:52.632441Z",
     "iopub.status.busy": "2023-03-21T03:11:52.632125Z",
     "iopub.status.idle": "2023-03-21T03:11:52.686028Z",
     "shell.execute_reply": "2023-03-21T03:11:52.685196Z"
    },
    "papermill": {
     "duration": 0.072033,
     "end_time": "2023-03-21T03:11:52.688936",
     "exception": false,
     "start_time": "2023-03-21T03:11:52.616903",
     "status": "completed"
    },
    "tags": []
   },
   "outputs": [],
   "source": [
    "from pyts.classification import KNeighborsClassifier\n",
    "from pyts.approximation import PiecewiseAggregateApproximation\n",
    "from imblearn.under_sampling import ClusterCentroids\n",
    "from sklearn_extra.cluster import KMedoids"
   ]
  },
  {
   "cell_type": "code",
   "execution_count": 63,
   "id": "db1604ec",
   "metadata": {
    "execution": {
     "iopub.execute_input": "2023-03-21T03:11:52.721580Z",
     "iopub.status.busy": "2023-03-21T03:11:52.721267Z",
     "iopub.status.idle": "2023-03-21T03:11:53.236720Z",
     "shell.execute_reply": "2023-03-21T03:11:53.235724Z"
    },
    "papermill": {
     "duration": 0.5334,
     "end_time": "2023-03-21T03:11:53.239715",
     "exception": false,
     "start_time": "2023-03-21T03:11:52.706315",
     "status": "completed"
    },
    "tags": []
   },
   "outputs": [],
   "source": [
    "if paa_window_size:\n",
    "    paa = PiecewiseAggregateApproximation(window_size=paa_window_size)\n",
    "    X_train = paa.transform(X_train)\n",
    "    X_test = paa.transform(X_test)\n",
    "    X_train.shape"
   ]
  },
  {
   "cell_type": "code",
   "execution_count": 64,
   "id": "59fa27aa",
   "metadata": {
    "execution": {
     "iopub.execute_input": "2023-03-21T03:11:53.321391Z",
     "iopub.status.busy": "2023-03-21T03:11:53.321092Z",
     "iopub.status.idle": "2023-03-21T03:12:50.355319Z",
     "shell.execute_reply": "2023-03-21T03:12:50.354566Z"
    },
    "papermill": {
     "duration": 57.077931,
     "end_time": "2023-03-21T03:12:50.357726",
     "exception": false,
     "start_time": "2023-03-21T03:11:53.279795",
     "status": "completed"
    },
    "tags": []
   },
   "outputs": [
    {
     "name": "stdout",
     "output_type": "stream",
     "text": [
      "{'pop': 2880, 'rap': 2880, 'rock': 2880}\n"
     ]
    },
    {
     "name": "stderr",
     "output_type": "stream",
     "text": [
      "/home/mattiapggioli/lyrics2ts/.venv/lib/python3.9/site-packages/sklearn_extra/cluster/_k_medoids.py:275: UserWarning: Cluster 1169 is empty! self.labels_[self.medoid_indices_[1169]] may not be labeled with its corresponding cluster (1169).\n",
      "  warnings.warn(\n",
      "/home/mattiapggioli/lyrics2ts/.venv/lib/python3.9/site-packages/sklearn_extra/cluster/_k_medoids.py:275: UserWarning: Cluster 1414 is empty! self.labels_[self.medoid_indices_[1414]] may not be labeled with its corresponding cluster (1414).\n",
      "  warnings.warn(\n"
     ]
    },
    {
     "name": "stderr",
     "output_type": "stream",
     "text": [
      "/home/mattiapggioli/lyrics2ts/.venv/lib/python3.9/site-packages/sklearn_extra/cluster/_k_medoids.py:275: UserWarning: Cluster 699 is empty! self.labels_[self.medoid_indices_[699]] may not be labeled with its corresponding cluster (699).\n",
      "  warnings.warn(\n",
      "/home/mattiapggioli/lyrics2ts/.venv/lib/python3.9/site-packages/sklearn_extra/cluster/_k_medoids.py:275: UserWarning: Cluster 743 is empty! self.labels_[self.medoid_indices_[743]] may not be labeled with its corresponding cluster (743).\n",
      "  warnings.warn(\n",
      "/home/mattiapggioli/lyrics2ts/.venv/lib/python3.9/site-packages/sklearn_extra/cluster/_k_medoids.py:275: UserWarning: Cluster 952 is empty! self.labels_[self.medoid_indices_[952]] may not be labeled with its corresponding cluster (952).\n",
      "  warnings.warn(\n",
      "/home/mattiapggioli/lyrics2ts/.venv/lib/python3.9/site-packages/sklearn_extra/cluster/_k_medoids.py:275: UserWarning: Cluster 1258 is empty! self.labels_[self.medoid_indices_[1258]] may not be labeled with its corresponding cluster (1258).\n",
      "  warnings.warn(\n",
      "/home/mattiapggioli/lyrics2ts/.venv/lib/python3.9/site-packages/sklearn_extra/cluster/_k_medoids.py:275: UserWarning: Cluster 1456 is empty! self.labels_[self.medoid_indices_[1456]] may not be labeled with its corresponding cluster (1456).\n",
      "  warnings.warn(\n",
      "/home/mattiapggioli/lyrics2ts/.venv/lib/python3.9/site-packages/sklearn_extra/cluster/_k_medoids.py:275: UserWarning: Cluster 1834 is empty! self.labels_[self.medoid_indices_[1834]] may not be labeled with its corresponding cluster (1834).\n",
      "  warnings.warn(\n",
      "/home/mattiapggioli/lyrics2ts/.venv/lib/python3.9/site-packages/sklearn_extra/cluster/_k_medoids.py:275: UserWarning: Cluster 2591 is empty! self.labels_[self.medoid_indices_[2591]] may not be labeled with its corresponding cluster (2591).\n",
      "  warnings.warn(\n",
      "/home/mattiapggioli/lyrics2ts/.venv/lib/python3.9/site-packages/sklearn_extra/cluster/_k_medoids.py:275: UserWarning: Cluster 2629 is empty! self.labels_[self.medoid_indices_[2629]] may not be labeled with its corresponding cluster (2629).\n",
      "  warnings.warn(\n",
      "/home/mattiapggioli/lyrics2ts/.venv/lib/python3.9/site-packages/sklearn_extra/cluster/_k_medoids.py:275: UserWarning: Cluster 2659 is empty! self.labels_[self.medoid_indices_[2659]] may not be labeled with its corresponding cluster (2659).\n",
      "  warnings.warn(\n",
      "/home/mattiapggioli/lyrics2ts/.venv/lib/python3.9/site-packages/sklearn_extra/cluster/_k_medoids.py:275: UserWarning: Cluster 2826 is empty! self.labels_[self.medoid_indices_[2826]] may not be labeled with its corresponding cluster (2826).\n",
      "  warnings.warn(\n",
      "/home/mattiapggioli/lyrics2ts/.venv/lib/python3.9/site-packages/sklearn_extra/cluster/_k_medoids.py:275: UserWarning: Cluster 2864 is empty! self.labels_[self.medoid_indices_[2864]] may not be labeled with its corresponding cluster (2864).\n",
      "  warnings.warn(\n"
     ]
    }
   ],
   "source": [
    "if undersampling:\n",
    "    total_samples = len(y_train)\n",
    "    unique_classes, class_counts = np.unique(y_train, return_counts=True)\n",
    "    samp_strat = dict(zip(unique_classes, np.floor(class_counts * undersampling).astype(int)))\n",
    "    print(samp_strat)\n",
    "    cc = ClusterCentroids(estimator=KMedoids(\n",
    "        random_state=42), sampling_strategy=samp_strat, random_state=42)\n",
    "    X_train, y_train = cc.fit_resample(X_train, y_train)\n",
    "    X_train.shape"
   ]
  },
  {
   "cell_type": "code",
   "execution_count": 65,
   "id": "e7ac6b44",
   "metadata": {
    "execution": {
     "iopub.execute_input": "2023-03-21T03:12:50.436222Z",
     "iopub.status.busy": "2023-03-21T03:12:50.435844Z",
     "iopub.status.idle": "2023-03-21T03:12:50.452817Z",
     "shell.execute_reply": "2023-03-21T03:12:50.451568Z"
    },
    "papermill": {
     "duration": 0.056189,
     "end_time": "2023-03-21T03:12:50.454777",
     "exception": false,
     "start_time": "2023-03-21T03:12:50.398588",
     "status": "completed"
    },
    "tags": []
   },
   "outputs": [
    {
     "data": {
      "text/html": [
       "<style>#sk-container-id-9 {color: black;background-color: white;}#sk-container-id-9 pre{padding: 0;}#sk-container-id-9 div.sk-toggleable {background-color: white;}#sk-container-id-9 label.sk-toggleable__label {cursor: pointer;display: block;width: 100%;margin-bottom: 0;padding: 0.3em;box-sizing: border-box;text-align: center;}#sk-container-id-9 label.sk-toggleable__label-arrow:before {content: \"▸\";float: left;margin-right: 0.25em;color: #696969;}#sk-container-id-9 label.sk-toggleable__label-arrow:hover:before {color: black;}#sk-container-id-9 div.sk-estimator:hover label.sk-toggleable__label-arrow:before {color: black;}#sk-container-id-9 div.sk-toggleable__content {max-height: 0;max-width: 0;overflow: hidden;text-align: left;background-color: #f0f8ff;}#sk-container-id-9 div.sk-toggleable__content pre {margin: 0.2em;color: black;border-radius: 0.25em;background-color: #f0f8ff;}#sk-container-id-9 input.sk-toggleable__control:checked~div.sk-toggleable__content {max-height: 200px;max-width: 100%;overflow: auto;}#sk-container-id-9 input.sk-toggleable__control:checked~label.sk-toggleable__label-arrow:before {content: \"▾\";}#sk-container-id-9 div.sk-estimator input.sk-toggleable__control:checked~label.sk-toggleable__label {background-color: #d4ebff;}#sk-container-id-9 div.sk-label input.sk-toggleable__control:checked~label.sk-toggleable__label {background-color: #d4ebff;}#sk-container-id-9 input.sk-hidden--visually {border: 0;clip: rect(1px 1px 1px 1px);clip: rect(1px, 1px, 1px, 1px);height: 1px;margin: -1px;overflow: hidden;padding: 0;position: absolute;width: 1px;}#sk-container-id-9 div.sk-estimator {font-family: monospace;background-color: #f0f8ff;border: 1px dotted black;border-radius: 0.25em;box-sizing: border-box;margin-bottom: 0.5em;}#sk-container-id-9 div.sk-estimator:hover {background-color: #d4ebff;}#sk-container-id-9 div.sk-parallel-item::after {content: \"\";width: 100%;border-bottom: 1px solid gray;flex-grow: 1;}#sk-container-id-9 div.sk-label:hover label.sk-toggleable__label {background-color: #d4ebff;}#sk-container-id-9 div.sk-serial::before {content: \"\";position: absolute;border-left: 1px solid gray;box-sizing: border-box;top: 0;bottom: 0;left: 50%;z-index: 0;}#sk-container-id-9 div.sk-serial {display: flex;flex-direction: column;align-items: center;background-color: white;padding-right: 0.2em;padding-left: 0.2em;position: relative;}#sk-container-id-9 div.sk-item {position: relative;z-index: 1;}#sk-container-id-9 div.sk-parallel {display: flex;align-items: stretch;justify-content: center;background-color: white;position: relative;}#sk-container-id-9 div.sk-item::before, #sk-container-id-9 div.sk-parallel-item::before {content: \"\";position: absolute;border-left: 1px solid gray;box-sizing: border-box;top: 0;bottom: 0;left: 50%;z-index: -1;}#sk-container-id-9 div.sk-parallel-item {display: flex;flex-direction: column;z-index: 1;position: relative;background-color: white;}#sk-container-id-9 div.sk-parallel-item:first-child::after {align-self: flex-end;width: 50%;}#sk-container-id-9 div.sk-parallel-item:last-child::after {align-self: flex-start;width: 50%;}#sk-container-id-9 div.sk-parallel-item:only-child::after {width: 0;}#sk-container-id-9 div.sk-dashed-wrapped {border: 1px dashed gray;margin: 0 0.4em 0.5em 0.4em;box-sizing: border-box;padding-bottom: 0.4em;background-color: white;}#sk-container-id-9 div.sk-label label {font-family: monospace;font-weight: bold;display: inline-block;line-height: 1.2em;}#sk-container-id-9 div.sk-label-container {text-align: center;}#sk-container-id-9 div.sk-container {/* jupyter's `normalize.less` sets `[hidden] { display: none; }` but bootstrap.min.css set `[hidden] { display: none !important; }` so we also need the `!important` here to be able to override the default hidden behavior on the sphinx rendered scikit-learn.org. See: https://github.com/scikit-learn/scikit-learn/issues/21755 */display: inline-block !important;position: relative;}#sk-container-id-9 div.sk-text-repr-fallback {display: none;}</style><div id=\"sk-container-id-9\" class=\"sk-top-container\"><div class=\"sk-text-repr-fallback\"><pre>KNeighborsClassifier(metric=&#x27;dtw_sakoechiba&#x27;, metric_params={&#x27;window_size&#x27;: 3})</pre><b>In a Jupyter environment, please rerun this cell to show the HTML representation or trust the notebook. <br />On GitHub, the HTML representation is unable to render, please try loading this page with nbviewer.org.</b></div><div class=\"sk-container\" hidden><div class=\"sk-item\"><div class=\"sk-estimator sk-toggleable\"><input class=\"sk-toggleable__control sk-hidden--visually\" id=\"sk-estimator-id-9\" type=\"checkbox\" checked><label for=\"sk-estimator-id-9\" class=\"sk-toggleable__label sk-toggleable__label-arrow\">KNeighborsClassifier</label><div class=\"sk-toggleable__content\"><pre>KNeighborsClassifier(metric=&#x27;dtw_sakoechiba&#x27;, metric_params={&#x27;window_size&#x27;: 3})</pre></div></div></div></div></div>"
      ],
      "text/plain": [
       "KNeighborsClassifier(metric='dtw_sakoechiba', metric_params={'window_size': 3})"
      ]
     },
     "execution_count": 65,
     "metadata": {},
     "output_type": "execute_result"
    }
   ],
   "source": [
    "clf = KNeighborsClassifier(metric='dtw_sakoechiba',  metric_params={'window_size':3})\n",
    "\n",
    "clf.fit(X_train, y_train)"
   ]
  },
  {
   "cell_type": "code",
   "execution_count": 66,
   "id": "8109d19d",
   "metadata": {
    "execution": {
     "iopub.execute_input": "2023-03-21T03:12:50.487189Z",
     "iopub.status.busy": "2023-03-21T03:12:50.486367Z",
     "iopub.status.idle": "2023-03-21T05:58:18.893872Z",
     "shell.execute_reply": "2023-03-21T05:58:18.892902Z"
    },
    "papermill": {
     "duration": 9928.466927,
     "end_time": "2023-03-21T05:58:18.938081",
     "exception": false,
     "start_time": "2023-03-21T03:12:50.471154",
     "status": "completed"
    },
    "tags": []
   },
   "outputs": [
    {
     "name": "stdout",
     "output_type": "stream",
     "text": [
      "              precision    recall  f1-score   support\n",
      "\n",
      "         pop       0.43      0.32      0.37      2400\n",
      "         rap       0.57      0.71      0.63      2400\n",
      "        rock       0.49      0.49      0.49      2400\n",
      "\n",
      "    accuracy                           0.51      7200\n",
      "   macro avg       0.50      0.51      0.50      7200\n",
      "weighted avg       0.50      0.51      0.50      7200\n",
      "\n",
      "CPU times: user 2h 45min 28s, sys: 747 ms, total: 2h 45min 29s\n",
      "Wall time: 2h 45min 28s\n"
     ]
    }
   ],
   "source": [
    "%%time\n",
    "y_pred = clf.predict(X_test)\n",
    "print(classification_report(y_test, y_pred))"
   ]
  },
  {
   "cell_type": "code",
   "execution_count": 67,
   "id": "b09f5cdf",
   "metadata": {
    "execution": {
     "iopub.execute_input": "2023-03-21T05:58:18.993482Z",
     "iopub.status.busy": "2023-03-21T05:58:18.993157Z",
     "iopub.status.idle": "2023-03-21T05:58:19.146586Z",
     "shell.execute_reply": "2023-03-21T05:58:19.145694Z"
    },
    "papermill": {
     "duration": 0.171882,
     "end_time": "2023-03-21T05:58:19.149443",
     "exception": false,
     "start_time": "2023-03-21T05:58:18.977561",
     "status": "completed"
    },
    "tags": []
   },
   "outputs": [],
   "source": [
    "acc = accuracy_score(y_test, y_pred)\n",
    "pre = precision_score(y_test, y_pred, average=avg_par)\n",
    "rec = recall_score(y_test, y_pred, average=avg_par)\n",
    "f1 = f1_score(y_test, y_pred, average=avg_par)\n",
    "\n",
    "metrics_data['KNN']['DTW'] = {'Accuracy': acc, 'Precision': pre, 'Recall': rec, 'F1': f1}"
   ]
  },
  {
   "cell_type": "markdown",
   "id": "e0e700a7",
   "metadata": {
    "papermill": {
     "duration": 0.038985,
     "end_time": "2023-03-21T05:58:19.229292",
     "exception": false,
     "start_time": "2023-03-21T05:58:19.190307",
     "status": "completed"
    },
    "tags": []
   },
   "source": [
    "## Overall Results"
   ]
  },
  {
   "cell_type": "code",
   "execution_count": 68,
   "id": "d003c193",
   "metadata": {
    "execution": {
     "iopub.execute_input": "2023-03-21T05:58:19.259209Z",
     "iopub.status.busy": "2023-03-21T05:58:19.258900Z",
     "iopub.status.idle": "2023-03-21T05:58:19.267337Z",
     "shell.execute_reply": "2023-03-21T05:58:19.266143Z"
    },
    "papermill": {
     "duration": 0.025638,
     "end_time": "2023-03-21T05:58:19.269211",
     "exception": false,
     "start_time": "2023-03-21T05:58:19.243573",
     "status": "completed"
    },
    "tags": []
   },
   "outputs": [],
   "source": [
    "metrics_data = pd.DataFrame.from_dict({(i,j): metrics_data[i][j] \n",
    "                                       for i in metrics_data.keys() \n",
    "                                       for j in metrics_data[i].keys()},\n",
    "                                       orient='index')"
   ]
  },
  {
   "cell_type": "code",
   "execution_count": 69,
   "id": "0944fe84",
   "metadata": {
    "execution": {
     "iopub.execute_input": "2023-03-21T05:58:19.300273Z",
     "iopub.status.busy": "2023-03-21T05:58:19.299807Z",
     "iopub.status.idle": "2023-03-21T05:58:19.457403Z",
     "shell.execute_reply": "2023-03-21T05:58:19.456488Z"
    },
    "papermill": {
     "duration": 0.176051,
     "end_time": "2023-03-21T05:58:19.460159",
     "exception": false,
     "start_time": "2023-03-21T05:58:19.284108",
     "status": "completed"
    },
    "tags": []
   },
   "outputs": [],
   "source": [
    "acc = accuracy_score(y_test, y_pred)\n",
    "pre = precision_score(y_test, y_pred, average=avg_par)\n",
    "rec = recall_score(y_test, y_pred, average=avg_par)\n",
    "f1 = f1_score(y_test, y_pred, average=avg_par)"
   ]
  },
  {
   "cell_type": "code",
   "execution_count": 70,
   "id": "7ee1b347",
   "metadata": {
    "execution": {
     "iopub.execute_input": "2023-03-21T05:58:19.542304Z",
     "iopub.status.busy": "2023-03-21T05:58:19.541987Z",
     "iopub.status.idle": "2023-03-21T05:58:19.553530Z",
     "shell.execute_reply": "2023-03-21T05:58:19.552712Z"
    },
    "papermill": {
     "duration": 0.054032,
     "end_time": "2023-03-21T05:58:19.555614",
     "exception": false,
     "start_time": "2023-03-21T05:58:19.501582",
     "status": "completed"
    },
    "tags": []
   },
   "outputs": [
    {
     "data": {
      "text/html": [
       "<div>\n",
       "<style scoped>\n",
       "    .dataframe tbody tr th:only-of-type {\n",
       "        vertical-align: middle;\n",
       "    }\n",
       "\n",
       "    .dataframe tbody tr th {\n",
       "        vertical-align: top;\n",
       "    }\n",
       "\n",
       "    .dataframe thead th {\n",
       "        text-align: right;\n",
       "    }\n",
       "</style>\n",
       "<table border=\"1\" class=\"dataframe\">\n",
       "  <thead>\n",
       "    <tr style=\"text-align: right;\">\n",
       "      <th></th>\n",
       "      <th></th>\n",
       "      <th>Accuracy</th>\n",
       "      <th>Precision</th>\n",
       "      <th>Recall</th>\n",
       "      <th>F1</th>\n",
       "    </tr>\n",
       "  </thead>\n",
       "  <tbody>\n",
       "    <tr>\n",
       "      <th rowspan=\"3\" valign=\"top\">Global</th>\n",
       "      <th>DecisionTree</th>\n",
       "      <td>0.592917</td>\n",
       "      <td>0.592348</td>\n",
       "      <td>0.592917</td>\n",
       "      <td>0.592591</td>\n",
       "    </tr>\n",
       "    <tr>\n",
       "      <th>RandomForest</th>\n",
       "      <td>0.684722</td>\n",
       "      <td>0.687810</td>\n",
       "      <td>0.684722</td>\n",
       "      <td>0.685791</td>\n",
       "    </tr>\n",
       "    <tr>\n",
       "      <th>LightGBM</th>\n",
       "      <td>0.685139</td>\n",
       "      <td>0.688802</td>\n",
       "      <td>0.685139</td>\n",
       "      <td>0.686252</td>\n",
       "    </tr>\n",
       "    <tr>\n",
       "      <th rowspan=\"3\" valign=\"top\">Shapelets</th>\n",
       "      <th>DecisionTree</th>\n",
       "      <td>0.518472</td>\n",
       "      <td>0.519979</td>\n",
       "      <td>0.518472</td>\n",
       "      <td>0.519186</td>\n",
       "    </tr>\n",
       "    <tr>\n",
       "      <th>RandomForest</th>\n",
       "      <td>0.605833</td>\n",
       "      <td>0.599908</td>\n",
       "      <td>0.605833</td>\n",
       "      <td>0.601786</td>\n",
       "    </tr>\n",
       "    <tr>\n",
       "      <th>LightGBM</th>\n",
       "      <td>0.606806</td>\n",
       "      <td>0.600792</td>\n",
       "      <td>0.606806</td>\n",
       "      <td>0.601135</td>\n",
       "    </tr>\n",
       "    <tr>\n",
       "      <th rowspan=\"2\" valign=\"top\">KNN</th>\n",
       "      <th>Euclidean</th>\n",
       "      <td>0.383056</td>\n",
       "      <td>0.509532</td>\n",
       "      <td>0.383056</td>\n",
       "      <td>0.340918</td>\n",
       "    </tr>\n",
       "    <tr>\n",
       "      <th>DTW</th>\n",
       "      <td>0.507778</td>\n",
       "      <td>0.495840</td>\n",
       "      <td>0.507778</td>\n",
       "      <td>0.496631</td>\n",
       "    </tr>\n",
       "  </tbody>\n",
       "</table>\n",
       "</div>"
      ],
      "text/plain": [
       "                        Accuracy  Precision    Recall        F1\n",
       "Global    DecisionTree  0.592917   0.592348  0.592917  0.592591\n",
       "          RandomForest  0.684722   0.687810  0.684722  0.685791\n",
       "          LightGBM      0.685139   0.688802  0.685139  0.686252\n",
       "Shapelets DecisionTree  0.518472   0.519979  0.518472  0.519186\n",
       "          RandomForest  0.605833   0.599908  0.605833  0.601786\n",
       "          LightGBM      0.606806   0.600792  0.606806  0.601135\n",
       "KNN       Euclidean     0.383056   0.509532  0.383056  0.340918\n",
       "          DTW           0.507778   0.495840  0.507778  0.496631"
      ]
     },
     "execution_count": 70,
     "metadata": {},
     "output_type": "execute_result"
    }
   ],
   "source": [
    "metrics_data"
   ]
  },
  {
   "cell_type": "code",
   "execution_count": 71,
   "id": "3efc173e",
   "metadata": {
    "execution": {
     "iopub.execute_input": "2023-03-21T05:58:19.587234Z",
     "iopub.status.busy": "2023-03-21T05:58:19.586769Z",
     "iopub.status.idle": "2023-03-21T05:58:19.596972Z",
     "shell.execute_reply": "2023-03-21T05:58:19.595606Z"
    },
    "papermill": {
     "duration": 0.028095,
     "end_time": "2023-03-21T05:58:19.599090",
     "exception": false,
     "start_time": "2023-03-21T05:58:19.570995",
     "status": "completed"
    },
    "tags": []
   },
   "outputs": [],
   "source": [
    "metrics_data.to_csv(f'{data_path}/metrics.csv')"
   ]
  },
  {
   "cell_type": "code",
   "execution_count": null,
   "id": "d21f5304",
   "metadata": {
    "papermill": {
     "duration": 0.014519,
     "end_time": "2023-03-21T05:58:19.629294",
     "exception": false,
     "start_time": "2023-03-21T05:58:19.614775",
     "status": "completed"
    },
    "tags": []
   },
   "outputs": [],
   "source": []
  }
 ],
 "metadata": {
  "celltoolbar": "Tags",
  "kernelspec": {
   "display_name": "Python 3 (ipykernel)",
   "language": "python",
   "name": "python3"
  },
  "language_info": {
   "codemirror_mode": {
    "name": "ipython",
    "version": 3
   },
   "file_extension": ".py",
   "mimetype": "text/x-python",
   "name": "python",
   "nbconvert_exporter": "python",
   "pygments_lexer": "ipython3",
   "version": "3.9.16"
  },
  "papermill": {
   "default_parameters": {},
   "duration": 12481.162167,
   "end_time": "2023-03-21T05:58:22.834701",
   "environment_variables": {},
   "exception": null,
   "input_path": "09_ts_classification.ipynb",
   "output_path": "../clf-reports/pp-rc-rp_features.ipynb",
   "parameters": {
    "data_path": "/home/mattiapggioli/lyrics2ts/data/classification/pp-rc-rp/features/",
    "paa_window_size": 20,
    "undersampling": 0.3
   },
   "start_time": "2023-03-21T02:30:21.672534",
   "version": "2.4.0"
  },
  "vscode": {
   "interpreter": {
    "hash": "eb8d1ded7c87c6f9c253b40add648304d6b51d2e38393955e855effc7e6f899a"
   }
  }
 },
 "nbformat": 4,
 "nbformat_minor": 5
}