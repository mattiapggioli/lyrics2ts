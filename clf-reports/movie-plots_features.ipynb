{
 "cells": [
  {
   "cell_type": "markdown",
   "id": "d79a68c5",
   "metadata": {
    "papermill": {
     "duration": 0.032048,
     "end_time": "2023-03-08T13:07:47.315462",
     "exception": false,
     "start_time": "2023-03-08T13:07:47.283414",
     "status": "completed"
    },
    "tags": []
   },
   "source": [
    "# Time Series Classification"
   ]
  },
  {
   "cell_type": "code",
   "execution_count": 1,
   "id": "8a0cb2b0",
   "metadata": {
    "execution": {
     "iopub.execute_input": "2023-03-08T13:07:47.371625Z",
     "iopub.status.busy": "2023-03-08T13:07:47.370578Z",
     "iopub.status.idle": "2023-03-08T13:07:48.715848Z",
     "shell.execute_reply": "2023-03-08T13:07:48.715069Z"
    },
    "papermill": {
     "duration": 1.371501,
     "end_time": "2023-03-08T13:07:48.718468",
     "exception": false,
     "start_time": "2023-03-08T13:07:47.346967",
     "status": "completed"
    },
    "tags": []
   },
   "outputs": [],
   "source": [
    "%matplotlib inline\n",
    "import pandas as pd\n",
    "import numpy as np\n",
    "import matplotlib.pyplot as plt\n",
    "import seaborn as sns\n",
    "import re\n",
    "import os\n",
    "from sklearn.preprocessing import StandardScaler\n",
    "from sklearn.decomposition import PCA\n",
    "import joblib\n",
    "from tslearn.utils import to_time_series_dataset, save_time_series_txt, load_time_series_txt\n",
    "import random\n",
    "from sklearn.model_selection import train_test_split\n",
    "from sklearn.metrics import accuracy_score, f1_score, precision_score, recall_score, classification_report\n",
    "import pickle"
   ]
  },
  {
   "cell_type": "code",
   "execution_count": 2,
   "id": "acc03405",
   "metadata": {
    "execution": {
     "iopub.execute_input": "2023-03-08T13:07:48.775966Z",
     "iopub.status.busy": "2023-03-08T13:07:48.775206Z",
     "iopub.status.idle": "2023-03-08T13:07:48.780747Z",
     "shell.execute_reply": "2023-03-08T13:07:48.780021Z"
    },
    "papermill": {
     "duration": 0.036912,
     "end_time": "2023-03-08T13:07:48.783188",
     "exception": false,
     "start_time": "2023-03-08T13:07:48.746276",
     "status": "completed"
    },
    "tags": [
     "parameters"
    ]
   },
   "outputs": [],
   "source": [
    "data_path = '/home/mattiapggioli/lyrics2ts/data/classification/20ng/sbert/'\n",
    "truncate=100\n",
    "max_iter = 2000\n",
    "paa_window_size = None\n",
    "undersampling = None"
   ]
  },
  {
   "cell_type": "code",
   "execution_count": 3,
   "id": "e8fd3d52",
   "metadata": {
    "execution": {
     "iopub.execute_input": "2023-03-08T13:07:48.816621Z",
     "iopub.status.busy": "2023-03-08T13:07:48.815775Z",
     "iopub.status.idle": "2023-03-08T13:07:48.820764Z",
     "shell.execute_reply": "2023-03-08T13:07:48.819708Z"
    },
    "papermill": {
     "duration": 0.018493,
     "end_time": "2023-03-08T13:07:48.822502",
     "exception": false,
     "start_time": "2023-03-08T13:07:48.804009",
     "status": "completed"
    },
    "tags": [
     "injected-parameters"
    ]
   },
   "outputs": [],
   "source": [
    "# Parameters\n",
    "data_path = \"/home/mattiapggioli/lyrics2ts/data/classification/movie-plots/features/\"\n"
   ]
  },
  {
   "cell_type": "code",
   "execution_count": 4,
   "id": "a4f0c774",
   "metadata": {
    "execution": {
     "iopub.execute_input": "2023-03-08T13:07:48.845440Z",
     "iopub.status.busy": "2023-03-08T13:07:48.844693Z",
     "iopub.status.idle": "2023-03-08T13:08:11.281712Z",
     "shell.execute_reply": "2023-03-08T13:08:11.280807Z"
    },
    "papermill": {
     "duration": 22.451796,
     "end_time": "2023-03-08T13:08:11.284792",
     "exception": false,
     "start_time": "2023-03-08T13:07:48.832996",
     "status": "completed"
    },
    "tags": []
   },
   "outputs": [],
   "source": [
    "ts = load_time_series_txt(f'{data_path}/ts.txt')"
   ]
  },
  {
   "cell_type": "code",
   "execution_count": 5,
   "id": "5c48d154",
   "metadata": {
    "execution": {
     "iopub.execute_input": "2023-03-08T13:08:11.346467Z",
     "iopub.status.busy": "2023-03-08T13:08:11.346159Z",
     "iopub.status.idle": "2023-03-08T13:08:11.354372Z",
     "shell.execute_reply": "2023-03-08T13:08:11.353122Z"
    },
    "papermill": {
     "duration": 0.041316,
     "end_time": "2023-03-08T13:08:11.356262",
     "exception": false,
     "start_time": "2023-03-08T13:08:11.314946",
     "status": "completed"
    },
    "tags": []
   },
   "outputs": [
    {
     "data": {
      "text/plain": [
       "(7512, 412, 1)"
      ]
     },
     "execution_count": 5,
     "metadata": {},
     "output_type": "execute_result"
    }
   ],
   "source": [
    "ts.shape"
   ]
  },
  {
   "cell_type": "code",
   "execution_count": 6,
   "id": "f6274d40",
   "metadata": {
    "execution": {
     "iopub.execute_input": "2023-03-08T13:08:11.379956Z",
     "iopub.status.busy": "2023-03-08T13:08:11.379493Z",
     "iopub.status.idle": "2023-03-08T13:08:11.386928Z",
     "shell.execute_reply": "2023-03-08T13:08:11.385861Z"
    },
    "papermill": {
     "duration": 0.021003,
     "end_time": "2023-03-08T13:08:11.388601",
     "exception": false,
     "start_time": "2023-03-08T13:08:11.367598",
     "status": "completed"
    },
    "tags": []
   },
   "outputs": [],
   "source": [
    "with open(f'{data_path}/y_class.npy', 'rb') as f:\n",
    "    y = np.load(f, allow_pickle=True)"
   ]
  },
  {
   "cell_type": "code",
   "execution_count": 7,
   "id": "9d42fa3b",
   "metadata": {
    "execution": {
     "iopub.execute_input": "2023-03-08T13:08:11.411428Z",
     "iopub.status.busy": "2023-03-08T13:08:11.411113Z",
     "iopub.status.idle": "2023-03-08T13:08:11.417170Z",
     "shell.execute_reply": "2023-03-08T13:08:11.416333Z"
    },
    "papermill": {
     "duration": 0.01947,
     "end_time": "2023-03-08T13:08:11.418744",
     "exception": false,
     "start_time": "2023-03-08T13:08:11.399274",
     "status": "completed"
    },
    "tags": []
   },
   "outputs": [],
   "source": [
    "with open(f'{data_path}/X.npy', 'rb') as f:\n",
    "    X = np.load(f, allow_pickle=True)"
   ]
  },
  {
   "cell_type": "code",
   "execution_count": 8,
   "id": "1158a9da",
   "metadata": {
    "execution": {
     "iopub.execute_input": "2023-03-08T13:08:11.441893Z",
     "iopub.status.busy": "2023-03-08T13:08:11.441328Z",
     "iopub.status.idle": "2023-03-08T13:08:11.448821Z",
     "shell.execute_reply": "2023-03-08T13:08:11.447975Z"
    },
    "papermill": {
     "duration": 0.020916,
     "end_time": "2023-03-08T13:08:11.450514",
     "exception": false,
     "start_time": "2023-03-08T13:08:11.429598",
     "status": "completed"
    },
    "tags": []
   },
   "outputs": [
    {
     "data": {
      "text/plain": [
       "(7512, 14)"
      ]
     },
     "execution_count": 8,
     "metadata": {},
     "output_type": "execute_result"
    }
   ],
   "source": [
    "X.shape"
   ]
  },
  {
   "cell_type": "code",
   "execution_count": 9,
   "id": "47239790",
   "metadata": {
    "execution": {
     "iopub.execute_input": "2023-03-08T13:08:11.473997Z",
     "iopub.status.busy": "2023-03-08T13:08:11.473544Z",
     "iopub.status.idle": "2023-03-08T13:08:11.481230Z",
     "shell.execute_reply": "2023-03-08T13:08:11.480169Z"
    },
    "papermill": {
     "duration": 0.021483,
     "end_time": "2023-03-08T13:08:11.482948",
     "exception": false,
     "start_time": "2023-03-08T13:08:11.461465",
     "status": "completed"
    },
    "tags": []
   },
   "outputs": [
    {
     "data": {
      "text/plain": [
       "{'action_thriller_crime',\n",
       " 'comedy',\n",
       " 'drama',\n",
       " 'horror_scifi_mystery_supernatural_fantasy'}"
      ]
     },
     "execution_count": 9,
     "metadata": {},
     "output_type": "execute_result"
    }
   ],
   "source": [
    "set(y)"
   ]
  },
  {
   "cell_type": "code",
   "execution_count": 10,
   "id": "37609992",
   "metadata": {
    "execution": {
     "iopub.execute_input": "2023-03-08T13:08:11.506260Z",
     "iopub.status.busy": "2023-03-08T13:08:11.505810Z",
     "iopub.status.idle": "2023-03-08T13:08:11.523020Z",
     "shell.execute_reply": "2023-03-08T13:08:11.521775Z"
    },
    "papermill": {
     "duration": 0.031353,
     "end_time": "2023-03-08T13:08:11.525195",
     "exception": false,
     "start_time": "2023-03-08T13:08:11.493842",
     "status": "completed"
    },
    "tags": []
   },
   "outputs": [],
   "source": [
    "ts_train, ts_test, y_train, y_test = train_test_split(ts, y, test_size=0.20, random_state=42)"
   ]
  },
  {
   "cell_type": "code",
   "execution_count": 11,
   "id": "34508fe4",
   "metadata": {
    "execution": {
     "iopub.execute_input": "2023-03-08T13:08:11.551169Z",
     "iopub.status.busy": "2023-03-08T13:08:11.550683Z",
     "iopub.status.idle": "2023-03-08T13:08:11.557611Z",
     "shell.execute_reply": "2023-03-08T13:08:11.556754Z"
    },
    "papermill": {
     "duration": 0.020976,
     "end_time": "2023-03-08T13:08:11.559466",
     "exception": false,
     "start_time": "2023-03-08T13:08:11.538490",
     "status": "completed"
    },
    "tags": []
   },
   "outputs": [],
   "source": [
    "X_train, X_test, y_train, y_test = train_test_split(X, y, test_size=0.20, random_state=42)"
   ]
  },
  {
   "cell_type": "code",
   "execution_count": 12,
   "id": "076afac9",
   "metadata": {
    "execution": {
     "iopub.execute_input": "2023-03-08T13:08:11.583719Z",
     "iopub.status.busy": "2023-03-08T13:08:11.583401Z",
     "iopub.status.idle": "2023-03-08T13:08:11.608104Z",
     "shell.execute_reply": "2023-03-08T13:08:11.607149Z"
    },
    "papermill": {
     "duration": 0.039255,
     "end_time": "2023-03-08T13:08:11.610177",
     "exception": false,
     "start_time": "2023-03-08T13:08:11.570922",
     "status": "completed"
    },
    "tags": []
   },
   "outputs": [
    {
     "data": {
      "text/plain": [
       "array([[ 1.86039276],\n",
       "       [ 2.32315676],\n",
       "       [ 2.67880123],\n",
       "       [ 3.61134811],\n",
       "       [ 4.323401  ],\n",
       "       [ 3.45389575],\n",
       "       [-3.53261869],\n",
       "       [ 0.10468503],\n",
       "       [ 4.12313014],\n",
       "       [-1.45464178],\n",
       "       [-0.94172804],\n",
       "       [ 0.32479626],\n",
       "       [-3.46509204],\n",
       "       [ 2.0828257 ],\n",
       "       [-2.33922413],\n",
       "       [-0.37953112],\n",
       "       [ 0.23859839],\n",
       "       [ 2.42127679],\n",
       "       [-1.19017792],\n",
       "       [-0.476132  ],\n",
       "       [ 1.23869496],\n",
       "       [-2.42426544],\n",
       "       [ 1.06151125],\n",
       "       [-2.15494845],\n",
       "       [-0.65920256],\n",
       "       [ 2.12484754],\n",
       "       [        nan],\n",
       "       [        nan],\n",
       "       [        nan],\n",
       "       [        nan],\n",
       "       [        nan],\n",
       "       [        nan],\n",
       "       [        nan],\n",
       "       [        nan],\n",
       "       [        nan],\n",
       "       [        nan],\n",
       "       [        nan],\n",
       "       [        nan],\n",
       "       [        nan],\n",
       "       [        nan],\n",
       "       [        nan],\n",
       "       [        nan],\n",
       "       [        nan],\n",
       "       [        nan],\n",
       "       [        nan],\n",
       "       [        nan],\n",
       "       [        nan],\n",
       "       [        nan],\n",
       "       [        nan],\n",
       "       [        nan],\n",
       "       [        nan],\n",
       "       [        nan],\n",
       "       [        nan],\n",
       "       [        nan],\n",
       "       [        nan],\n",
       "       [        nan],\n",
       "       [        nan],\n",
       "       [        nan],\n",
       "       [        nan],\n",
       "       [        nan],\n",
       "       [        nan],\n",
       "       [        nan],\n",
       "       [        nan],\n",
       "       [        nan],\n",
       "       [        nan],\n",
       "       [        nan],\n",
       "       [        nan],\n",
       "       [        nan],\n",
       "       [        nan],\n",
       "       [        nan],\n",
       "       [        nan],\n",
       "       [        nan],\n",
       "       [        nan],\n",
       "       [        nan],\n",
       "       [        nan],\n",
       "       [        nan],\n",
       "       [        nan],\n",
       "       [        nan],\n",
       "       [        nan],\n",
       "       [        nan],\n",
       "       [        nan],\n",
       "       [        nan],\n",
       "       [        nan],\n",
       "       [        nan],\n",
       "       [        nan],\n",
       "       [        nan],\n",
       "       [        nan],\n",
       "       [        nan],\n",
       "       [        nan],\n",
       "       [        nan],\n",
       "       [        nan],\n",
       "       [        nan],\n",
       "       [        nan],\n",
       "       [        nan],\n",
       "       [        nan],\n",
       "       [        nan],\n",
       "       [        nan],\n",
       "       [        nan],\n",
       "       [        nan],\n",
       "       [        nan],\n",
       "       [        nan],\n",
       "       [        nan],\n",
       "       [        nan],\n",
       "       [        nan],\n",
       "       [        nan],\n",
       "       [        nan],\n",
       "       [        nan],\n",
       "       [        nan],\n",
       "       [        nan],\n",
       "       [        nan],\n",
       "       [        nan],\n",
       "       [        nan],\n",
       "       [        nan],\n",
       "       [        nan],\n",
       "       [        nan],\n",
       "       [        nan],\n",
       "       [        nan],\n",
       "       [        nan],\n",
       "       [        nan],\n",
       "       [        nan],\n",
       "       [        nan],\n",
       "       [        nan],\n",
       "       [        nan],\n",
       "       [        nan],\n",
       "       [        nan],\n",
       "       [        nan],\n",
       "       [        nan],\n",
       "       [        nan],\n",
       "       [        nan],\n",
       "       [        nan],\n",
       "       [        nan],\n",
       "       [        nan],\n",
       "       [        nan],\n",
       "       [        nan],\n",
       "       [        nan],\n",
       "       [        nan],\n",
       "       [        nan],\n",
       "       [        nan],\n",
       "       [        nan],\n",
       "       [        nan],\n",
       "       [        nan],\n",
       "       [        nan],\n",
       "       [        nan],\n",
       "       [        nan],\n",
       "       [        nan],\n",
       "       [        nan],\n",
       "       [        nan],\n",
       "       [        nan],\n",
       "       [        nan],\n",
       "       [        nan],\n",
       "       [        nan],\n",
       "       [        nan],\n",
       "       [        nan],\n",
       "       [        nan],\n",
       "       [        nan],\n",
       "       [        nan],\n",
       "       [        nan],\n",
       "       [        nan],\n",
       "       [        nan],\n",
       "       [        nan],\n",
       "       [        nan],\n",
       "       [        nan],\n",
       "       [        nan],\n",
       "       [        nan],\n",
       "       [        nan],\n",
       "       [        nan],\n",
       "       [        nan],\n",
       "       [        nan],\n",
       "       [        nan],\n",
       "       [        nan],\n",
       "       [        nan],\n",
       "       [        nan],\n",
       "       [        nan],\n",
       "       [        nan],\n",
       "       [        nan],\n",
       "       [        nan],\n",
       "       [        nan],\n",
       "       [        nan],\n",
       "       [        nan],\n",
       "       [        nan],\n",
       "       [        nan],\n",
       "       [        nan],\n",
       "       [        nan],\n",
       "       [        nan],\n",
       "       [        nan],\n",
       "       [        nan],\n",
       "       [        nan],\n",
       "       [        nan],\n",
       "       [        nan],\n",
       "       [        nan],\n",
       "       [        nan],\n",
       "       [        nan],\n",
       "       [        nan],\n",
       "       [        nan],\n",
       "       [        nan],\n",
       "       [        nan],\n",
       "       [        nan],\n",
       "       [        nan],\n",
       "       [        nan],\n",
       "       [        nan],\n",
       "       [        nan],\n",
       "       [        nan],\n",
       "       [        nan],\n",
       "       [        nan],\n",
       "       [        nan],\n",
       "       [        nan],\n",
       "       [        nan],\n",
       "       [        nan],\n",
       "       [        nan],\n",
       "       [        nan],\n",
       "       [        nan],\n",
       "       [        nan],\n",
       "       [        nan],\n",
       "       [        nan],\n",
       "       [        nan],\n",
       "       [        nan],\n",
       "       [        nan],\n",
       "       [        nan],\n",
       "       [        nan],\n",
       "       [        nan],\n",
       "       [        nan],\n",
       "       [        nan],\n",
       "       [        nan],\n",
       "       [        nan],\n",
       "       [        nan],\n",
       "       [        nan],\n",
       "       [        nan],\n",
       "       [        nan],\n",
       "       [        nan],\n",
       "       [        nan],\n",
       "       [        nan],\n",
       "       [        nan],\n",
       "       [        nan],\n",
       "       [        nan],\n",
       "       [        nan],\n",
       "       [        nan],\n",
       "       [        nan],\n",
       "       [        nan],\n",
       "       [        nan],\n",
       "       [        nan],\n",
       "       [        nan],\n",
       "       [        nan],\n",
       "       [        nan],\n",
       "       [        nan],\n",
       "       [        nan],\n",
       "       [        nan],\n",
       "       [        nan],\n",
       "       [        nan],\n",
       "       [        nan],\n",
       "       [        nan],\n",
       "       [        nan],\n",
       "       [        nan],\n",
       "       [        nan],\n",
       "       [        nan],\n",
       "       [        nan],\n",
       "       [        nan],\n",
       "       [        nan],\n",
       "       [        nan],\n",
       "       [        nan],\n",
       "       [        nan],\n",
       "       [        nan],\n",
       "       [        nan],\n",
       "       [        nan],\n",
       "       [        nan],\n",
       "       [        nan],\n",
       "       [        nan],\n",
       "       [        nan],\n",
       "       [        nan],\n",
       "       [        nan],\n",
       "       [        nan],\n",
       "       [        nan],\n",
       "       [        nan],\n",
       "       [        nan],\n",
       "       [        nan],\n",
       "       [        nan],\n",
       "       [        nan],\n",
       "       [        nan],\n",
       "       [        nan],\n",
       "       [        nan],\n",
       "       [        nan],\n",
       "       [        nan],\n",
       "       [        nan],\n",
       "       [        nan],\n",
       "       [        nan],\n",
       "       [        nan],\n",
       "       [        nan],\n",
       "       [        nan],\n",
       "       [        nan],\n",
       "       [        nan],\n",
       "       [        nan],\n",
       "       [        nan],\n",
       "       [        nan],\n",
       "       [        nan],\n",
       "       [        nan],\n",
       "       [        nan],\n",
       "       [        nan],\n",
       "       [        nan],\n",
       "       [        nan],\n",
       "       [        nan],\n",
       "       [        nan],\n",
       "       [        nan],\n",
       "       [        nan],\n",
       "       [        nan],\n",
       "       [        nan],\n",
       "       [        nan],\n",
       "       [        nan],\n",
       "       [        nan],\n",
       "       [        nan],\n",
       "       [        nan],\n",
       "       [        nan],\n",
       "       [        nan],\n",
       "       [        nan],\n",
       "       [        nan],\n",
       "       [        nan],\n",
       "       [        nan],\n",
       "       [        nan],\n",
       "       [        nan],\n",
       "       [        nan],\n",
       "       [        nan],\n",
       "       [        nan],\n",
       "       [        nan],\n",
       "       [        nan],\n",
       "       [        nan],\n",
       "       [        nan],\n",
       "       [        nan],\n",
       "       [        nan],\n",
       "       [        nan],\n",
       "       [        nan],\n",
       "       [        nan],\n",
       "       [        nan],\n",
       "       [        nan],\n",
       "       [        nan],\n",
       "       [        nan],\n",
       "       [        nan],\n",
       "       [        nan],\n",
       "       [        nan],\n",
       "       [        nan],\n",
       "       [        nan],\n",
       "       [        nan],\n",
       "       [        nan],\n",
       "       [        nan],\n",
       "       [        nan],\n",
       "       [        nan],\n",
       "       [        nan],\n",
       "       [        nan],\n",
       "       [        nan],\n",
       "       [        nan],\n",
       "       [        nan],\n",
       "       [        nan],\n",
       "       [        nan],\n",
       "       [        nan],\n",
       "       [        nan],\n",
       "       [        nan],\n",
       "       [        nan],\n",
       "       [        nan],\n",
       "       [        nan],\n",
       "       [        nan],\n",
       "       [        nan],\n",
       "       [        nan],\n",
       "       [        nan],\n",
       "       [        nan],\n",
       "       [        nan],\n",
       "       [        nan],\n",
       "       [        nan],\n",
       "       [        nan],\n",
       "       [        nan],\n",
       "       [        nan],\n",
       "       [        nan],\n",
       "       [        nan],\n",
       "       [        nan],\n",
       "       [        nan],\n",
       "       [        nan],\n",
       "       [        nan],\n",
       "       [        nan],\n",
       "       [        nan],\n",
       "       [        nan],\n",
       "       [        nan],\n",
       "       [        nan],\n",
       "       [        nan],\n",
       "       [        nan],\n",
       "       [        nan],\n",
       "       [        nan],\n",
       "       [        nan],\n",
       "       [        nan],\n",
       "       [        nan],\n",
       "       [        nan],\n",
       "       [        nan],\n",
       "       [        nan],\n",
       "       [        nan],\n",
       "       [        nan],\n",
       "       [        nan],\n",
       "       [        nan],\n",
       "       [        nan],\n",
       "       [        nan],\n",
       "       [        nan],\n",
       "       [        nan],\n",
       "       [        nan],\n",
       "       [        nan],\n",
       "       [        nan],\n",
       "       [        nan],\n",
       "       [        nan],\n",
       "       [        nan],\n",
       "       [        nan],\n",
       "       [        nan],\n",
       "       [        nan],\n",
       "       [        nan],\n",
       "       [        nan],\n",
       "       [        nan],\n",
       "       [        nan],\n",
       "       [        nan],\n",
       "       [        nan],\n",
       "       [        nan]])"
      ]
     },
     "execution_count": 12,
     "metadata": {},
     "output_type": "execute_result"
    }
   ],
   "source": [
    "random.choice(ts_train)"
   ]
  },
  {
   "cell_type": "code",
   "execution_count": 13,
   "id": "ca66457a",
   "metadata": {
    "execution": {
     "iopub.execute_input": "2023-03-08T13:08:11.636169Z",
     "iopub.status.busy": "2023-03-08T13:08:11.635707Z",
     "iopub.status.idle": "2023-03-08T13:08:12.061354Z",
     "shell.execute_reply": "2023-03-08T13:08:12.060435Z"
    },
    "papermill": {
     "duration": 0.440777,
     "end_time": "2023-03-08T13:08:12.064183",
     "exception": false,
     "start_time": "2023-03-08T13:08:11.623406",
     "status": "completed"
    },
    "tags": []
   },
   "outputs": [
    {
     "data": {
      "text/plain": [
       "<AxesSubplot:ylabel='Count'>"
      ]
     },
     "execution_count": 13,
     "metadata": {},
     "output_type": "execute_result"
    },
    {
     "data": {
      "image/png": "[encoded data removed]",
      "text/plain": [
       "<Figure size 640x480 with 1 Axes>"
      ]
     },
     "metadata": {},
     "output_type": "display_data"
    }
   ],
   "source": [
    "sns.histplot([t[~np.any(np.isnan(t), axis=1)].shape[0] for t in ts_train])"
   ]
  },
  {
   "cell_type": "code",
   "execution_count": 14,
   "id": "c2ae286f",
   "metadata": {
    "execution": {
     "iopub.execute_input": "2023-03-08T13:08:12.103633Z",
     "iopub.status.busy": "2023-03-08T13:08:12.103322Z",
     "iopub.status.idle": "2023-03-08T13:08:12.108381Z",
     "shell.execute_reply": "2023-03-08T13:08:12.107190Z"
    },
    "papermill": {
     "duration": 0.019,
     "end_time": "2023-03-08T13:08:12.109919",
     "exception": false,
     "start_time": "2023-03-08T13:08:12.090919",
     "status": "completed"
    },
    "tags": []
   },
   "outputs": [],
   "source": [
    "ts_train = ts_train[:, :truncate, :]\n",
    "ts_test = ts_test[:, :truncate, :]"
   ]
  },
  {
   "cell_type": "code",
   "execution_count": 15,
   "id": "3218baa4",
   "metadata": {
    "execution": {
     "iopub.execute_input": "2023-03-08T13:08:12.154691Z",
     "iopub.status.busy": "2023-03-08T13:08:12.154231Z",
     "iopub.status.idle": "2023-03-08T13:08:12.192931Z",
     "shell.execute_reply": "2023-03-08T13:08:12.191505Z"
    },
    "papermill": {
     "duration": 0.073373,
     "end_time": "2023-03-08T13:08:12.195290",
     "exception": false,
     "start_time": "2023-03-08T13:08:12.121917",
     "status": "completed"
    },
    "tags": []
   },
   "outputs": [],
   "source": [
    "mean_arr = np.nanmean(ts_train, axis=1, keepdims=True)\n",
    "nan_indices = np.isnan(ts_train)\n",
    "ts_train[nan_indices] = np.take(mean_arr, np.nonzero(nan_indices)[0])\n",
    "\n",
    "mean_arr = np.nanmean(ts_test, axis=1, keepdims=True)\n",
    "nan_indices = np.isnan(ts_test)\n",
    "ts_test[nan_indices] = np.take(mean_arr, np.nonzero(nan_indices)[0])"
   ]
  },
  {
   "cell_type": "code",
   "execution_count": 16,
   "id": "d369691b",
   "metadata": {
    "execution": {
     "iopub.execute_input": "2023-03-08T13:08:12.221949Z",
     "iopub.status.busy": "2023-03-08T13:08:12.221486Z",
     "iopub.status.idle": "2023-03-08T13:08:12.229539Z",
     "shell.execute_reply": "2023-03-08T13:08:12.228505Z"
    },
    "papermill": {
     "duration": 0.022202,
     "end_time": "2023-03-08T13:08:12.231225",
     "exception": false,
     "start_time": "2023-03-08T13:08:12.209023",
     "status": "completed"
    },
    "tags": []
   },
   "outputs": [
    {
     "data": {
      "text/plain": [
       "0"
      ]
     },
     "execution_count": 16,
     "metadata": {},
     "output_type": "execute_result"
    }
   ],
   "source": [
    "np.count_nonzero(np.isnan(X_train))"
   ]
  },
  {
   "cell_type": "code",
   "execution_count": 17,
   "id": "0d602e18",
   "metadata": {
    "execution": {
     "iopub.execute_input": "2023-03-08T13:08:12.256734Z",
     "iopub.status.busy": "2023-03-08T13:08:12.256312Z",
     "iopub.status.idle": "2023-03-08T13:08:12.262487Z",
     "shell.execute_reply": "2023-03-08T13:08:12.261499Z"
    },
    "papermill": {
     "duration": 0.021393,
     "end_time": "2023-03-08T13:08:12.264145",
     "exception": false,
     "start_time": "2023-03-08T13:08:12.242752",
     "status": "completed"
    },
    "tags": []
   },
   "outputs": [],
   "source": [
    "X_train[np.isnan(X_train)] = 0\n",
    "X_test[np.isnan(X_test)] = 0"
   ]
  },
  {
   "cell_type": "code",
   "execution_count": 18,
   "id": "45c5102c",
   "metadata": {
    "execution": {
     "iopub.execute_input": "2023-03-08T13:08:12.288299Z",
     "iopub.status.busy": "2023-03-08T13:08:12.287881Z",
     "iopub.status.idle": "2023-03-08T13:08:13.060681Z",
     "shell.execute_reply": "2023-03-08T13:08:13.059776Z"
    },
    "papermill": {
     "duration": 0.788091,
     "end_time": "2023-03-08T13:08:13.063534",
     "exception": false,
     "start_time": "2023-03-08T13:08:12.275443",
     "status": "completed"
    },
    "tags": []
   },
   "outputs": [],
   "source": [
    "save_time_series_txt(f'{data_path}/ts_train.txt', ts_train)\n",
    "save_time_series_txt(f'{data_path}/ts_test.txt', ts_test)"
   ]
  },
  {
   "cell_type": "code",
   "execution_count": 19,
   "id": "39830f37",
   "metadata": {
    "execution": {
     "iopub.execute_input": "2023-03-08T13:08:13.129790Z",
     "iopub.status.busy": "2023-03-08T13:08:13.129403Z",
     "iopub.status.idle": "2023-03-08T13:08:13.136382Z",
     "shell.execute_reply": "2023-03-08T13:08:13.135310Z"
    },
    "papermill": {
     "duration": 0.044299,
     "end_time": "2023-03-08T13:08:13.139757",
     "exception": false,
     "start_time": "2023-03-08T13:08:13.095458",
     "status": "completed"
    },
    "tags": []
   },
   "outputs": [],
   "source": [
    "with open(f'{data_path}/X_train.npy', 'wb') as f:\n",
    "    np.save(f, X_train, allow_pickle=True)\n",
    "\n",
    "with open(f'{data_path}/X_test.npy', 'wb') as f:\n",
    "    np.save(f, X_test, allow_pickle=True)"
   ]
  },
  {
   "cell_type": "code",
   "execution_count": 20,
   "id": "795fd2be",
   "metadata": {
    "execution": {
     "iopub.execute_input": "2023-03-08T13:08:13.179355Z",
     "iopub.status.busy": "2023-03-08T13:08:13.178861Z",
     "iopub.status.idle": "2023-03-08T13:08:13.187531Z",
     "shell.execute_reply": "2023-03-08T13:08:13.186217Z"
    },
    "papermill": {
     "duration": 0.023119,
     "end_time": "2023-03-08T13:08:13.189623",
     "exception": false,
     "start_time": "2023-03-08T13:08:13.166504",
     "status": "completed"
    },
    "tags": []
   },
   "outputs": [],
   "source": [
    "with open(f'{data_path}/y_train.npy', 'wb') as f:\n",
    "    np.save(f, y_train, allow_pickle=True)\n",
    "\n",
    "with open(f'{data_path}/y_test.npy', 'wb') as f:\n",
    "    np.save(f, y_test, allow_pickle=True)"
   ]
  },
  {
   "cell_type": "code",
   "execution_count": 21,
   "id": "08bda153",
   "metadata": {
    "execution": {
     "iopub.execute_input": "2023-03-08T13:08:13.214573Z",
     "iopub.status.busy": "2023-03-08T13:08:13.214116Z",
     "iopub.status.idle": "2023-03-08T13:08:13.343501Z",
     "shell.execute_reply": "2023-03-08T13:08:13.342561Z"
    },
    "papermill": {
     "duration": 0.143931,
     "end_time": "2023-03-08T13:08:13.345322",
     "exception": false,
     "start_time": "2023-03-08T13:08:13.201391",
     "status": "completed"
    },
    "tags": []
   },
   "outputs": [
    {
     "data": {
      "text/plain": [
       "[<matplotlib.lines.Line2D at 0x7fba0ff73f70>]"
      ]
     },
     "execution_count": 21,
     "metadata": {},
     "output_type": "execute_result"
    },
    {
     "data": {
      "image/png": "[encoded data removed]",
      "text/plain": [
       "<Figure size 640x480 with 1 Axes>"
      ]
     },
     "metadata": {},
     "output_type": "display_data"
    }
   ],
   "source": [
    "plt.plot(random.choice(ts_train))"
   ]
  },
  {
   "cell_type": "code",
   "execution_count": 22,
   "id": "98ce9d63",
   "metadata": {
    "execution": {
     "iopub.execute_input": "2023-03-08T13:08:13.379328Z",
     "iopub.status.busy": "2023-03-08T13:08:13.378901Z",
     "iopub.status.idle": "2023-03-08T13:08:13.384814Z",
     "shell.execute_reply": "2023-03-08T13:08:13.383942Z"
    },
    "papermill": {
     "duration": 0.023117,
     "end_time": "2023-03-08T13:08:13.386349",
     "exception": false,
     "start_time": "2023-03-08T13:08:13.363232",
     "status": "completed"
    },
    "tags": []
   },
   "outputs": [],
   "source": [
    "# Parameters that require knowing if it's binary or multiclass (LightGBM, metrics)\n",
    "if len(set(y)) == 2:\n",
    "    avg_par = 'binary'\n",
    "    obj_par = 'binary'\n",
    "elif len(set(y)) > 2:\n",
    "    avg_par = 'macro'\n",
    "    obj_par = 'multiclass'"
   ]
  },
  {
   "cell_type": "markdown",
   "id": "228f1b39",
   "metadata": {
    "papermill": {
     "duration": 0.026151,
     "end_time": "2023-03-08T13:08:13.435865",
     "exception": false,
     "start_time": "2023-03-08T13:08:13.409714",
     "status": "completed"
    },
    "tags": []
   },
   "source": [
    "## Classification"
   ]
  },
  {
   "cell_type": "code",
   "execution_count": 23,
   "id": "34bb73ff",
   "metadata": {
    "execution": {
     "iopub.execute_input": "2023-03-08T13:08:13.461089Z",
     "iopub.status.busy": "2023-03-08T13:08:13.460533Z",
     "iopub.status.idle": "2023-03-08T13:08:13.571575Z",
     "shell.execute_reply": "2023-03-08T13:08:13.570736Z"
    },
    "papermill": {
     "duration": 0.126648,
     "end_time": "2023-03-08T13:08:13.574386",
     "exception": false,
     "start_time": "2023-03-08T13:08:13.447738",
     "status": "completed"
    },
    "tags": []
   },
   "outputs": [],
   "source": [
    "from sklearn.tree import DecisionTreeClassifier\n",
    "import lightgbm as lgbm\n",
    "from sklearn.ensemble import RandomForestClassifier"
   ]
  },
  {
   "cell_type": "code",
   "execution_count": 24,
   "id": "02aaee18",
   "metadata": {
    "execution": {
     "iopub.execute_input": "2023-03-08T13:08:13.601753Z",
     "iopub.status.busy": "2023-03-08T13:08:13.601436Z",
     "iopub.status.idle": "2023-03-08T13:08:13.605238Z",
     "shell.execute_reply": "2023-03-08T13:08:13.604596Z"
    },
    "papermill": {
     "duration": 0.01791,
     "end_time": "2023-03-08T13:08:13.606717",
     "exception": false,
     "start_time": "2023-03-08T13:08:13.588807",
     "status": "completed"
    },
    "tags": []
   },
   "outputs": [],
   "source": [
    "metrics_data = {}"
   ]
  },
  {
   "cell_type": "markdown",
   "id": "b49309ed",
   "metadata": {
    "papermill": {
     "duration": 0.011773,
     "end_time": "2023-03-08T13:08:13.630022",
     "exception": false,
     "start_time": "2023-03-08T13:08:13.618249",
     "status": "completed"
    },
    "tags": []
   },
   "source": [
    "### Baseline: global features (No Time Series)"
   ]
  },
  {
   "cell_type": "code",
   "execution_count": 25,
   "id": "35eb9f66",
   "metadata": {
    "execution": {
     "iopub.execute_input": "2023-03-08T13:08:13.654410Z",
     "iopub.status.busy": "2023-03-08T13:08:13.654096Z",
     "iopub.status.idle": "2023-03-08T13:08:13.658469Z",
     "shell.execute_reply": "2023-03-08T13:08:13.657606Z"
    },
    "papermill": {
     "duration": 0.018423,
     "end_time": "2023-03-08T13:08:13.660021",
     "exception": false,
     "start_time": "2023-03-08T13:08:13.641598",
     "status": "completed"
    },
    "tags": []
   },
   "outputs": [],
   "source": [
    "metrics_data['Global'] = {}"
   ]
  },
  {
   "cell_type": "markdown",
   "id": "29cd5044",
   "metadata": {
    "papermill": {
     "duration": 0.011368,
     "end_time": "2023-03-08T13:08:13.683086",
     "exception": false,
     "start_time": "2023-03-08T13:08:13.671718",
     "status": "completed"
    },
    "tags": []
   },
   "source": [
    "**Decision Tree**"
   ]
  },
  {
   "cell_type": "code",
   "execution_count": 26,
   "id": "9ef4f037",
   "metadata": {
    "execution": {
     "iopub.execute_input": "2023-03-08T13:08:13.708455Z",
     "iopub.status.busy": "2023-03-08T13:08:13.707990Z",
     "iopub.status.idle": "2023-03-08T13:08:13.811884Z",
     "shell.execute_reply": "2023-03-08T13:08:13.811003Z"
    },
    "papermill": {
     "duration": 0.119051,
     "end_time": "2023-03-08T13:08:13.813892",
     "exception": false,
     "start_time": "2023-03-08T13:08:13.694841",
     "status": "completed"
    },
    "tags": []
   },
   "outputs": [
    {
     "data": {
      "text/html": [
       "<style>#sk-container-id-1 {color: black;background-color: white;}#sk-container-id-1 pre{padding: 0;}#sk-container-id-1 div.sk-toggleable {background-color: white;}#sk-container-id-1 label.sk-toggleable__label {cursor: pointer;display: block;width: 100%;margin-bottom: 0;padding: 0.3em;box-sizing: border-box;text-align: center;}#sk-container-id-1 label.sk-toggleable__label-arrow:before {content: \"▸\";float: left;margin-right: 0.25em;color: #696969;}#sk-container-id-1 label.sk-toggleable__label-arrow:hover:before {color: black;}#sk-container-id-1 div.sk-estimator:hover label.sk-toggleable__label-arrow:before {color: black;}#sk-container-id-1 div.sk-toggleable__content {max-height: 0;max-width: 0;overflow: hidden;text-align: left;background-color: #f0f8ff;}#sk-container-id-1 div.sk-toggleable__content pre {margin: 0.2em;color: black;border-radius: 0.25em;background-color: #f0f8ff;}#sk-container-id-1 input.sk-toggleable__control:checked~div.sk-toggleable__content {max-height: 200px;max-width: 100%;overflow: auto;}#sk-container-id-1 input.sk-toggleable__control:checked~label.sk-toggleable__label-arrow:before {content: \"▾\";}#sk-container-id-1 div.sk-estimator input.sk-toggleable__control:checked~label.sk-toggleable__label {background-color: #d4ebff;}#sk-container-id-1 div.sk-label input.sk-toggleable__control:checked~label.sk-toggleable__label {background-color: #d4ebff;}#sk-container-id-1 input.sk-hidden--visually {border: 0;clip: rect(1px 1px 1px 1px);clip: rect(1px, 1px, 1px, 1px);height: 1px;margin: -1px;overflow: hidden;padding: 0;position: absolute;width: 1px;}#sk-container-id-1 div.sk-estimator {font-family: monospace;background-color: #f0f8ff;border: 1px dotted black;border-radius: 0.25em;box-sizing: border-box;margin-bottom: 0.5em;}#sk-container-id-1 div.sk-estimator:hover {background-color: #d4ebff;}#sk-container-id-1 div.sk-parallel-item::after {content: \"\";width: 100%;border-bottom: 1px solid gray;flex-grow: 1;}#sk-container-id-1 div.sk-label:hover label.sk-toggleable__label {background-color: #d4ebff;}#sk-container-id-1 div.sk-serial::before {content: \"\";position: absolute;border-left: 1px solid gray;box-sizing: border-box;top: 0;bottom: 0;left: 50%;z-index: 0;}#sk-container-id-1 div.sk-serial {display: flex;flex-direction: column;align-items: center;background-color: white;padding-right: 0.2em;padding-left: 0.2em;position: relative;}#sk-container-id-1 div.sk-item {position: relative;z-index: 1;}#sk-container-id-1 div.sk-parallel {display: flex;align-items: stretch;justify-content: center;background-color: white;position: relative;}#sk-container-id-1 div.sk-item::before, #sk-container-id-1 div.sk-parallel-item::before {content: \"\";position: absolute;border-left: 1px solid gray;box-sizing: border-box;top: 0;bottom: 0;left: 50%;z-index: -1;}#sk-container-id-1 div.sk-parallel-item {display: flex;flex-direction: column;z-index: 1;position: relative;background-color: white;}#sk-container-id-1 div.sk-parallel-item:first-child::after {align-self: flex-end;width: 50%;}#sk-container-id-1 div.sk-parallel-item:last-child::after {align-self: flex-start;width: 50%;}#sk-container-id-1 div.sk-parallel-item:only-child::after {width: 0;}#sk-container-id-1 div.sk-dashed-wrapped {border: 1px dashed gray;margin: 0 0.4em 0.5em 0.4em;box-sizing: border-box;padding-bottom: 0.4em;background-color: white;}#sk-container-id-1 div.sk-label label {font-family: monospace;font-weight: bold;display: inline-block;line-height: 1.2em;}#sk-container-id-1 div.sk-label-container {text-align: center;}#sk-container-id-1 div.sk-container {/* jupyter's `normalize.less` sets `[hidden] { display: none; }` but bootstrap.min.css set `[hidden] { display: none !important; }` so we also need the `!important` here to be able to override the default hidden behavior on the sphinx rendered scikit-learn.org. See: https://github.com/scikit-learn/scikit-learn/issues/21755 */display: inline-block !important;position: relative;}#sk-container-id-1 div.sk-text-repr-fallback {display: none;}</style><div id=\"sk-container-id-1\" class=\"sk-top-container\"><div class=\"sk-text-repr-fallback\"><pre>DecisionTreeClassifier()</pre><b>In a Jupyter environment, please rerun this cell to show the HTML representation or trust the notebook. <br />On GitHub, the HTML representation is unable to render, please try loading this page with nbviewer.org.</b></div><div class=\"sk-container\" hidden><div class=\"sk-item\"><div class=\"sk-estimator sk-toggleable\"><input class=\"sk-toggleable__control sk-hidden--visually\" id=\"sk-estimator-id-1\" type=\"checkbox\" checked><label for=\"sk-estimator-id-1\" class=\"sk-toggleable__label sk-toggleable__label-arrow\">DecisionTreeClassifier</label><div class=\"sk-toggleable__content\"><pre>DecisionTreeClassifier()</pre></div></div></div></div></div>"
      ],
      "text/plain": [
       "DecisionTreeClassifier()"
      ]
     },
     "execution_count": 26,
     "metadata": {},
     "output_type": "execute_result"
    }
   ],
   "source": [
    "clf = DecisionTreeClassifier()\n",
    "clf.fit(X_train, y_train)"
   ]
  },
  {
   "cell_type": "code",
   "execution_count": 27,
   "id": "9c50acc4",
   "metadata": {
    "execution": {
     "iopub.execute_input": "2023-03-08T13:08:13.841089Z",
     "iopub.status.busy": "2023-03-08T13:08:13.840772Z",
     "iopub.status.idle": "2023-03-08T13:08:13.878744Z",
     "shell.execute_reply": "2023-03-08T13:08:13.877990Z"
    },
    "papermill": {
     "duration": 0.052882,
     "end_time": "2023-03-08T13:08:13.880676",
     "exception": false,
     "start_time": "2023-03-08T13:08:13.827794",
     "status": "completed"
    },
    "tags": []
   },
   "outputs": [
    {
     "name": "stdout",
     "output_type": "stream",
     "text": [
      "                                           precision    recall  f1-score   support\n",
      "\n",
      "                    action_thriller_crime       0.27      0.27      0.27       306\n",
      "                                   comedy       0.30      0.30      0.30       404\n",
      "                                    drama       0.38      0.38      0.38       494\n",
      "horror_scifi_mystery_supernatural_fantasy       0.27      0.26      0.27       299\n",
      "\n",
      "                                 accuracy                           0.32      1503\n",
      "                                macro avg       0.31      0.31      0.31      1503\n",
      "                             weighted avg       0.32      0.32      0.32      1503\n",
      "\n"
     ]
    }
   ],
   "source": [
    "y_pred = clf.predict(X_test)\n",
    "print(classification_report(y_test, y_pred))"
   ]
  },
  {
   "cell_type": "code",
   "execution_count": 28,
   "id": "8866c3c3",
   "metadata": {
    "execution": {
     "iopub.execute_input": "2023-03-08T13:08:13.948446Z",
     "iopub.status.busy": "2023-03-08T13:08:13.948078Z",
     "iopub.status.idle": "2023-03-08T13:08:13.977803Z",
     "shell.execute_reply": "2023-03-08T13:08:13.977193Z"
    },
    "papermill": {
     "duration": 0.067272,
     "end_time": "2023-03-08T13:08:13.979746",
     "exception": false,
     "start_time": "2023-03-08T13:08:13.912474",
     "status": "completed"
    },
    "tags": []
   },
   "outputs": [],
   "source": [
    "acc = accuracy_score(y_test, y_pred)\n",
    "pre = precision_score(y_test, y_pred, average=avg_par)\n",
    "rec = recall_score(y_test, y_pred, average=avg_par)\n",
    "f1 = f1_score(y_test, y_pred, average=avg_par)\n",
    "\n",
    "metrics_data['Global']['DecisionTree'] = {'Accuracy': acc, 'Precision': pre, 'Recall': rec, 'F1': f1}"
   ]
  },
  {
   "cell_type": "markdown",
   "id": "28aa5a63",
   "metadata": {
    "papermill": {
     "duration": 0.011866,
     "end_time": "2023-03-08T13:08:14.005752",
     "exception": false,
     "start_time": "2023-03-08T13:08:13.993886",
     "status": "completed"
    },
    "tags": []
   },
   "source": [
    "**Random Forest**"
   ]
  },
  {
   "cell_type": "code",
   "execution_count": 29,
   "id": "0e5e2310",
   "metadata": {
    "execution": {
     "iopub.execute_input": "2023-03-08T13:08:14.031753Z",
     "iopub.status.busy": "2023-03-08T13:08:14.031285Z",
     "iopub.status.idle": "2023-03-08T13:08:15.487917Z",
     "shell.execute_reply": "2023-03-08T13:08:15.486819Z"
    },
    "papermill": {
     "duration": 1.473035,
     "end_time": "2023-03-08T13:08:15.490903",
     "exception": false,
     "start_time": "2023-03-08T13:08:14.017868",
     "status": "completed"
    },
    "tags": []
   },
   "outputs": [
    {
     "data": {
      "text/html": [
       "<style>#sk-container-id-2 {color: black;background-color: white;}#sk-container-id-2 pre{padding: 0;}#sk-container-id-2 div.sk-toggleable {background-color: white;}#sk-container-id-2 label.sk-toggleable__label {cursor: pointer;display: block;width: 100%;margin-bottom: 0;padding: 0.3em;box-sizing: border-box;text-align: center;}#sk-container-id-2 label.sk-toggleable__label-arrow:before {content: \"▸\";float: left;margin-right: 0.25em;color: #696969;}#sk-container-id-2 label.sk-toggleable__label-arrow:hover:before {color: black;}#sk-container-id-2 div.sk-estimator:hover label.sk-toggleable__label-arrow:before {color: black;}#sk-container-id-2 div.sk-toggleable__content {max-height: 0;max-width: 0;overflow: hidden;text-align: left;background-color: #f0f8ff;}#sk-container-id-2 div.sk-toggleable__content pre {margin: 0.2em;color: black;border-radius: 0.25em;background-color: #f0f8ff;}#sk-container-id-2 input.sk-toggleable__control:checked~div.sk-toggleable__content {max-height: 200px;max-width: 100%;overflow: auto;}#sk-container-id-2 input.sk-toggleable__control:checked~label.sk-toggleable__label-arrow:before {content: \"▾\";}#sk-container-id-2 div.sk-estimator input.sk-toggleable__control:checked~label.sk-toggleable__label {background-color: #d4ebff;}#sk-container-id-2 div.sk-label input.sk-toggleable__control:checked~label.sk-toggleable__label {background-color: #d4ebff;}#sk-container-id-2 input.sk-hidden--visually {border: 0;clip: rect(1px 1px 1px 1px);clip: rect(1px, 1px, 1px, 1px);height: 1px;margin: -1px;overflow: hidden;padding: 0;position: absolute;width: 1px;}#sk-container-id-2 div.sk-estimator {font-family: monospace;background-color: #f0f8ff;border: 1px dotted black;border-radius: 0.25em;box-sizing: border-box;margin-bottom: 0.5em;}#sk-container-id-2 div.sk-estimator:hover {background-color: #d4ebff;}#sk-container-id-2 div.sk-parallel-item::after {content: \"\";width: 100%;border-bottom: 1px solid gray;flex-grow: 1;}#sk-container-id-2 div.sk-label:hover label.sk-toggleable__label {background-color: #d4ebff;}#sk-container-id-2 div.sk-serial::before {content: \"\";position: absolute;border-left: 1px solid gray;box-sizing: border-box;top: 0;bottom: 0;left: 50%;z-index: 0;}#sk-container-id-2 div.sk-serial {display: flex;flex-direction: column;align-items: center;background-color: white;padding-right: 0.2em;padding-left: 0.2em;position: relative;}#sk-container-id-2 div.sk-item {position: relative;z-index: 1;}#sk-container-id-2 div.sk-parallel {display: flex;align-items: stretch;justify-content: center;background-color: white;position: relative;}#sk-container-id-2 div.sk-item::before, #sk-container-id-2 div.sk-parallel-item::before {content: \"\";position: absolute;border-left: 1px solid gray;box-sizing: border-box;top: 0;bottom: 0;left: 50%;z-index: -1;}#sk-container-id-2 div.sk-parallel-item {display: flex;flex-direction: column;z-index: 1;position: relative;background-color: white;}#sk-container-id-2 div.sk-parallel-item:first-child::after {align-self: flex-end;width: 50%;}#sk-container-id-2 div.sk-parallel-item:last-child::after {align-self: flex-start;width: 50%;}#sk-container-id-2 div.sk-parallel-item:only-child::after {width: 0;}#sk-container-id-2 div.sk-dashed-wrapped {border: 1px dashed gray;margin: 0 0.4em 0.5em 0.4em;box-sizing: border-box;padding-bottom: 0.4em;background-color: white;}#sk-container-id-2 div.sk-label label {font-family: monospace;font-weight: bold;display: inline-block;line-height: 1.2em;}#sk-container-id-2 div.sk-label-container {text-align: center;}#sk-container-id-2 div.sk-container {/* jupyter's `normalize.less` sets `[hidden] { display: none; }` but bootstrap.min.css set `[hidden] { display: none !important; }` so we also need the `!important` here to be able to override the default hidden behavior on the sphinx rendered scikit-learn.org. See: https://github.com/scikit-learn/scikit-learn/issues/21755 */display: inline-block !important;position: relative;}#sk-container-id-2 div.sk-text-repr-fallback {display: none;}</style><div id=\"sk-container-id-2\" class=\"sk-top-container\"><div class=\"sk-text-repr-fallback\"><pre>RandomForestClassifier(random_state=42)</pre><b>In a Jupyter environment, please rerun this cell to show the HTML representation or trust the notebook. <br />On GitHub, the HTML representation is unable to render, please try loading this page with nbviewer.org.</b></div><div class=\"sk-container\" hidden><div class=\"sk-item\"><div class=\"sk-estimator sk-toggleable\"><input class=\"sk-toggleable__control sk-hidden--visually\" id=\"sk-estimator-id-2\" type=\"checkbox\" checked><label for=\"sk-estimator-id-2\" class=\"sk-toggleable__label sk-toggleable__label-arrow\">RandomForestClassifier</label><div class=\"sk-toggleable__content\"><pre>RandomForestClassifier(random_state=42)</pre></div></div></div></div></div>"
      ],
      "text/plain": [
       "RandomForestClassifier(random_state=42)"
      ]
     },
     "execution_count": 29,
     "metadata": {},
     "output_type": "execute_result"
    }
   ],
   "source": [
    "clf = RandomForestClassifier(random_state=42)\n",
    "clf.fit(X_train, y_train)"
   ]
  },
  {
   "cell_type": "code",
   "execution_count": 30,
   "id": "4bd1304b",
   "metadata": {
    "execution": {
     "iopub.execute_input": "2023-03-08T13:08:15.558303Z",
     "iopub.status.busy": "2023-03-08T13:08:15.558014Z",
     "iopub.status.idle": "2023-03-08T13:08:15.661411Z",
     "shell.execute_reply": "2023-03-08T13:08:15.660289Z"
    },
    "papermill": {
     "duration": 0.138866,
     "end_time": "2023-03-08T13:08:15.664211",
     "exception": false,
     "start_time": "2023-03-08T13:08:15.525345",
     "status": "completed"
    },
    "tags": []
   },
   "outputs": [
    {
     "name": "stdout",
     "output_type": "stream",
     "text": [
      "                                           precision    recall  f1-score   support\n",
      "\n",
      "                    action_thriller_crime       0.37      0.33      0.35       306\n",
      "                                   comedy       0.38      0.42      0.40       404\n",
      "                                    drama       0.40      0.56      0.47       494\n",
      "horror_scifi_mystery_supernatural_fantasy       0.45      0.14      0.21       299\n",
      "\n",
      "                                 accuracy                           0.39      1503\n",
      "                                macro avg       0.40      0.36      0.36      1503\n",
      "                             weighted avg       0.40      0.39      0.37      1503\n",
      "\n"
     ]
    }
   ],
   "source": [
    "y_pred = clf.predict(X_test)\n",
    "print(classification_report(y_test, y_pred))"
   ]
  },
  {
   "cell_type": "code",
   "execution_count": 31,
   "id": "43174ba2",
   "metadata": {
    "execution": {
     "iopub.execute_input": "2023-03-08T13:08:15.735839Z",
     "iopub.status.busy": "2023-03-08T13:08:15.735362Z",
     "iopub.status.idle": "2023-03-08T13:08:15.766058Z",
     "shell.execute_reply": "2023-03-08T13:08:15.764866Z"
    },
    "papermill": {
     "duration": 0.070406,
     "end_time": "2023-03-08T13:08:15.769310",
     "exception": false,
     "start_time": "2023-03-08T13:08:15.698904",
     "status": "completed"
    },
    "tags": []
   },
   "outputs": [],
   "source": [
    "acc = accuracy_score(y_test, y_pred)\n",
    "pre = precision_score(y_test, y_pred, average=avg_par)\n",
    "rec = recall_score(y_test, y_pred, average=avg_par)\n",
    "f1 = f1_score(y_test, y_pred, average=avg_par)\n",
    "\n",
    "metrics_data['Global']['RandomForest'] = {'Accuracy': acc, 'Precision': pre, 'Recall': rec, 'F1': f1}"
   ]
  },
  {
   "cell_type": "markdown",
   "id": "22c98ac5",
   "metadata": {
    "papermill": {
     "duration": 0.024933,
     "end_time": "2023-03-08T13:08:15.821379",
     "exception": false,
     "start_time": "2023-03-08T13:08:15.796446",
     "status": "completed"
    },
    "tags": []
   },
   "source": [
    "**LightGBM**"
   ]
  },
  {
   "cell_type": "code",
   "execution_count": 32,
   "id": "c93b818c",
   "metadata": {
    "execution": {
     "iopub.execute_input": "2023-03-08T13:08:15.848373Z",
     "iopub.status.busy": "2023-03-08T13:08:15.847364Z",
     "iopub.status.idle": "2023-03-08T13:08:16.182564Z",
     "shell.execute_reply": "2023-03-08T13:08:16.181940Z"
    },
    "papermill": {
     "duration": 0.350766,
     "end_time": "2023-03-08T13:08:16.184519",
     "exception": false,
     "start_time": "2023-03-08T13:08:15.833753",
     "status": "completed"
    },
    "tags": []
   },
   "outputs": [
    {
     "data": {
      "text/html": [
       "<style>#sk-container-id-3 {color: black;background-color: white;}#sk-container-id-3 pre{padding: 0;}#sk-container-id-3 div.sk-toggleable {background-color: white;}#sk-container-id-3 label.sk-toggleable__label {cursor: pointer;display: block;width: 100%;margin-bottom: 0;padding: 0.3em;box-sizing: border-box;text-align: center;}#sk-container-id-3 label.sk-toggleable__label-arrow:before {content: \"▸\";float: left;margin-right: 0.25em;color: #696969;}#sk-container-id-3 label.sk-toggleable__label-arrow:hover:before {color: black;}#sk-container-id-3 div.sk-estimator:hover label.sk-toggleable__label-arrow:before {color: black;}#sk-container-id-3 div.sk-toggleable__content {max-height: 0;max-width: 0;overflow: hidden;text-align: left;background-color: #f0f8ff;}#sk-container-id-3 div.sk-toggleable__content pre {margin: 0.2em;color: black;border-radius: 0.25em;background-color: #f0f8ff;}#sk-container-id-3 input.sk-toggleable__control:checked~div.sk-toggleable__content {max-height: 200px;max-width: 100%;overflow: auto;}#sk-container-id-3 input.sk-toggleable__control:checked~label.sk-toggleable__label-arrow:before {content: \"▾\";}#sk-container-id-3 div.sk-estimator input.sk-toggleable__control:checked~label.sk-toggleable__label {background-color: #d4ebff;}#sk-container-id-3 div.sk-label input.sk-toggleable__control:checked~label.sk-toggleable__label {background-color: #d4ebff;}#sk-container-id-3 input.sk-hidden--visually {border: 0;clip: rect(1px 1px 1px 1px);clip: rect(1px, 1px, 1px, 1px);height: 1px;margin: -1px;overflow: hidden;padding: 0;position: absolute;width: 1px;}#sk-container-id-3 div.sk-estimator {font-family: monospace;background-color: #f0f8ff;border: 1px dotted black;border-radius: 0.25em;box-sizing: border-box;margin-bottom: 0.5em;}#sk-container-id-3 div.sk-estimator:hover {background-color: #d4ebff;}#sk-container-id-3 div.sk-parallel-item::after {content: \"\";width: 100%;border-bottom: 1px solid gray;flex-grow: 1;}#sk-container-id-3 div.sk-label:hover label.sk-toggleable__label {background-color: #d4ebff;}#sk-container-id-3 div.sk-serial::before {content: \"\";position: absolute;border-left: 1px solid gray;box-sizing: border-box;top: 0;bottom: 0;left: 50%;z-index: 0;}#sk-container-id-3 div.sk-serial {display: flex;flex-direction: column;align-items: center;background-color: white;padding-right: 0.2em;padding-left: 0.2em;position: relative;}#sk-container-id-3 div.sk-item {position: relative;z-index: 1;}#sk-container-id-3 div.sk-parallel {display: flex;align-items: stretch;justify-content: center;background-color: white;position: relative;}#sk-container-id-3 div.sk-item::before, #sk-container-id-3 div.sk-parallel-item::before {content: \"\";position: absolute;border-left: 1px solid gray;box-sizing: border-box;top: 0;bottom: 0;left: 50%;z-index: -1;}#sk-container-id-3 div.sk-parallel-item {display: flex;flex-direction: column;z-index: 1;position: relative;background-color: white;}#sk-container-id-3 div.sk-parallel-item:first-child::after {align-self: flex-end;width: 50%;}#sk-container-id-3 div.sk-parallel-item:last-child::after {align-self: flex-start;width: 50%;}#sk-container-id-3 div.sk-parallel-item:only-child::after {width: 0;}#sk-container-id-3 div.sk-dashed-wrapped {border: 1px dashed gray;margin: 0 0.4em 0.5em 0.4em;box-sizing: border-box;padding-bottom: 0.4em;background-color: white;}#sk-container-id-3 div.sk-label label {font-family: monospace;font-weight: bold;display: inline-block;line-height: 1.2em;}#sk-container-id-3 div.sk-label-container {text-align: center;}#sk-container-id-3 div.sk-container {/* jupyter's `normalize.less` sets `[hidden] { display: none; }` but bootstrap.min.css set `[hidden] { display: none !important; }` so we also need the `!important` here to be able to override the default hidden behavior on the sphinx rendered scikit-learn.org. See: https://github.com/scikit-learn/scikit-learn/issues/21755 */display: inline-block !important;position: relative;}#sk-container-id-3 div.sk-text-repr-fallback {display: none;}</style><div id=\"sk-container-id-3\" class=\"sk-top-container\"><div class=\"sk-text-repr-fallback\"><pre>LGBMClassifier(objective=&#x27;multiclass&#x27;)</pre><b>In a Jupyter environment, please rerun this cell to show the HTML representation or trust the notebook. <br />On GitHub, the HTML representation is unable to render, please try loading this page with nbviewer.org.</b></div><div class=\"sk-container\" hidden><div class=\"sk-item\"><div class=\"sk-estimator sk-toggleable\"><input class=\"sk-toggleable__control sk-hidden--visually\" id=\"sk-estimator-id-3\" type=\"checkbox\" checked><label for=\"sk-estimator-id-3\" class=\"sk-toggleable__label sk-toggleable__label-arrow\">LGBMClassifier</label><div class=\"sk-toggleable__content\"><pre>LGBMClassifier(objective=&#x27;multiclass&#x27;)</pre></div></div></div></div></div>"
      ],
      "text/plain": [
       "LGBMClassifier(objective='multiclass')"
      ]
     },
     "execution_count": 32,
     "metadata": {},
     "output_type": "execute_result"
    }
   ],
   "source": [
    "clf = lgbm.LGBMClassifier(objective=obj_par) \n",
    "clf.fit(X_train, y_train)"
   ]
  },
  {
   "cell_type": "code",
   "execution_count": 33,
   "id": "600a663a",
   "metadata": {
    "execution": {
     "iopub.execute_input": "2023-03-08T13:08:16.213858Z",
     "iopub.status.busy": "2023-03-08T13:08:16.213422Z",
     "iopub.status.idle": "2023-03-08T13:08:16.262791Z",
     "shell.execute_reply": "2023-03-08T13:08:16.262006Z"
    },
    "papermill": {
     "duration": 0.068003,
     "end_time": "2023-03-08T13:08:16.265562",
     "exception": false,
     "start_time": "2023-03-08T13:08:16.197559",
     "status": "completed"
    },
    "tags": []
   },
   "outputs": [
    {
     "name": "stdout",
     "output_type": "stream",
     "text": [
      "                                           precision    recall  f1-score   support\n",
      "\n",
      "                    action_thriller_crime       0.34      0.33      0.34       306\n",
      "                                   comedy       0.37      0.41      0.39       404\n",
      "                                    drama       0.41      0.51      0.46       494\n",
      "horror_scifi_mystery_supernatural_fantasy       0.39      0.20      0.26       299\n",
      "\n",
      "                                 accuracy                           0.39      1503\n",
      "                                macro avg       0.38      0.36      0.36      1503\n",
      "                             weighted avg       0.38      0.39      0.38      1503\n",
      "\n"
     ]
    }
   ],
   "source": [
    "y_pred = clf.predict(X_test)\n",
    "print(classification_report(y_test, y_pred))"
   ]
  },
  {
   "cell_type": "code",
   "execution_count": 34,
   "id": "508d831d",
   "metadata": {
    "execution": {
     "iopub.execute_input": "2023-03-08T13:08:16.325017Z",
     "iopub.status.busy": "2023-03-08T13:08:16.324707Z",
     "iopub.status.idle": "2023-03-08T13:08:16.389014Z",
     "shell.execute_reply": "2023-03-08T13:08:16.387792Z"
    },
    "papermill": {
     "duration": 0.09451,
     "end_time": "2023-03-08T13:08:16.392149",
     "exception": false,
     "start_time": "2023-03-08T13:08:16.297639",
     "status": "completed"
    },
    "tags": []
   },
   "outputs": [],
   "source": [
    "acc = accuracy_score(y_test, y_pred)\n",
    "pre = precision_score(y_test, y_pred, average=avg_par)\n",
    "rec = recall_score(y_test, y_pred, average=avg_par)\n",
    "f1 = f1_score(y_test, y_pred, average=avg_par)\n",
    "\n",
    "metrics_data['Global']['LightGBM'] = {'Accuracy': acc, 'Precision': pre, 'Recall': rec, 'F1': f1}"
   ]
  },
  {
   "cell_type": "markdown",
   "id": "14b86894",
   "metadata": {
    "papermill": {
     "duration": 0.031215,
     "end_time": "2023-03-08T13:08:16.454655",
     "exception": false,
     "start_time": "2023-03-08T13:08:16.423440",
     "status": "completed"
    },
    "tags": []
   },
   "source": [
    "### Time Series Classification"
   ]
  },
  {
   "cell_type": "markdown",
   "id": "84c55533",
   "metadata": {
    "papermill": {
     "duration": 0.012121,
     "end_time": "2023-03-08T13:08:16.482095",
     "exception": false,
     "start_time": "2023-03-08T13:08:16.469974",
     "status": "completed"
    },
    "tags": []
   },
   "source": [
    "#### Learning Shapelets"
   ]
  },
  {
   "cell_type": "code",
   "execution_count": 35,
   "id": "488d8eb7",
   "metadata": {
    "execution": {
     "iopub.execute_input": "2023-03-08T13:08:16.508572Z",
     "iopub.status.busy": "2023-03-08T13:08:16.508175Z",
     "iopub.status.idle": "2023-03-08T13:08:18.018595Z",
     "shell.execute_reply": "2023-03-08T13:08:18.017569Z"
    },
    "papermill": {
     "duration": 1.527565,
     "end_time": "2023-03-08T13:08:18.021908",
     "exception": false,
     "start_time": "2023-03-08T13:08:16.494343",
     "status": "completed"
    },
    "tags": []
   },
   "outputs": [
    {
     "name": "stderr",
     "output_type": "stream",
     "text": [
      "2023-03-08 14:08:16.514931: I tensorflow/core/platform/cpu_feature_guard.cc:193] This TensorFlow binary is optimized with oneAPI Deep Neural Network Library (oneDNN) to use the following CPU instructions in performance-critical operations:  AVX2 FMA\n",
      "To enable them in other operations, rebuild TensorFlow with the appropriate compiler flags.\n",
      "2023-03-08 14:08:16.671400: W tensorflow/compiler/xla/stream_executor/platform/default/dso_loader.cc:64] Could not load dynamic library 'libcudart.so.11.0'; dlerror: libcudart.so.11.0: cannot open shared object file: No such file or directory\n",
      "2023-03-08 14:08:16.671421: I tensorflow/compiler/xla/stream_executor/cuda/cudart_stub.cc:29] Ignore above cudart dlerror if you do not have a GPU set up on your machine.\n"
     ]
    },
    {
     "name": "stderr",
     "output_type": "stream",
     "text": [
      "2023-03-08 14:08:17.284165: W tensorflow/compiler/xla/stream_executor/platform/default/dso_loader.cc:64] Could not load dynamic library 'libnvinfer.so.7'; dlerror: libnvinfer.so.7: cannot open shared object file: No such file or directory\n",
      "2023-03-08 14:08:17.284236: W tensorflow/compiler/xla/stream_executor/platform/default/dso_loader.cc:64] Could not load dynamic library 'libnvinfer_plugin.so.7'; dlerror: libnvinfer_plugin.so.7: cannot open shared object file: No such file or directory\n",
      "2023-03-08 14:08:17.284246: W tensorflow/compiler/tf2tensorrt/utils/py_utils.cc:38] TF-TRT Warning: Cannot dlopen some TensorRT libraries. If you would like to use Nvidia GPU with TensorRT, please make sure the missing libraries mentioned above are installed properly.\n"
     ]
    }
   ],
   "source": [
    "from tslearn.shapelets import LearningShapelets, grabocka_params_to_shapelet_size_dict"
   ]
  },
  {
   "cell_type": "code",
   "execution_count": 36,
   "id": "eb677959",
   "metadata": {
    "execution": {
     "iopub.execute_input": "2023-03-08T13:08:18.097279Z",
     "iopub.status.busy": "2023-03-08T13:08:18.096771Z",
     "iopub.status.idle": "2023-03-08T13:08:18.102063Z",
     "shell.execute_reply": "2023-03-08T13:08:18.101240Z"
    },
    "papermill": {
     "duration": 0.046614,
     "end_time": "2023-03-08T13:08:18.104814",
     "exception": false,
     "start_time": "2023-03-08T13:08:18.058200",
     "status": "completed"
    },
    "tags": []
   },
   "outputs": [],
   "source": [
    "n_ts, ts_sz, _ = ts_train.shape\n",
    "n_classes = len(set(y_train))"
   ]
  },
  {
   "cell_type": "code",
   "execution_count": 37,
   "id": "776ed3dd",
   "metadata": {
    "execution": {
     "iopub.execute_input": "2023-03-08T13:08:18.137457Z",
     "iopub.status.busy": "2023-03-08T13:08:18.137140Z",
     "iopub.status.idle": "2023-03-08T13:08:18.145187Z",
     "shell.execute_reply": "2023-03-08T13:08:18.144020Z"
    },
    "papermill": {
     "duration": 0.025528,
     "end_time": "2023-03-08T13:08:18.147086",
     "exception": false,
     "start_time": "2023-03-08T13:08:18.121558",
     "status": "completed"
    },
    "tags": []
   },
   "outputs": [
    {
     "name": "stdout",
     "output_type": "stream",
     "text": [
      "n_ts 6009\n",
      "ts_sz 100\n",
      "n_classes 4\n",
      "shapelet_sizes {10: 6}\n"
     ]
    }
   ],
   "source": [
    "# Set the number of shapelets per size as done in the original paper\n",
    "g_shapelet_sizes = grabocka_params_to_shapelet_size_dict(n_ts=n_ts,\n",
    "                                                         ts_sz=ts_sz,\n",
    "                                                         n_classes=n_classes,\n",
    "                                                         l=0.1,\n",
    "                                                         r=1)\n",
    "\n",
    "print('n_ts', n_ts)\n",
    "print('ts_sz', ts_sz)\n",
    "print('n_classes', n_classes)\n",
    "print('shapelet_sizes', g_shapelet_sizes)"
   ]
  },
  {
   "cell_type": "code",
   "execution_count": 38,
   "id": "90ed707e",
   "metadata": {
    "execution": {
     "iopub.execute_input": "2023-03-08T13:08:18.174334Z",
     "iopub.status.busy": "2023-03-08T13:08:18.173887Z",
     "iopub.status.idle": "2023-03-08T13:08:18.184053Z",
     "shell.execute_reply": "2023-03-08T13:08:18.182803Z"
    },
    "papermill": {
     "duration": 0.025995,
     "end_time": "2023-03-08T13:08:18.186013",
     "exception": false,
     "start_time": "2023-03-08T13:08:18.160018",
     "status": "completed"
    },
    "tags": []
   },
   "outputs": [
    {
     "data": {
      "text/plain": [
       "{10: 6, 20: 6, 5: 6}"
      ]
     },
     "execution_count": 38,
     "metadata": {},
     "output_type": "execute_result"
    }
   ],
   "source": [
    "shapelet_sizes = {}\n",
    "for key in g_shapelet_sizes:\n",
    "    shapelet_sizes[key] = g_shapelet_sizes[key]\n",
    "    shapelet_sizes[key*2] = g_shapelet_sizes[key]\n",
    "    shapelet_sizes[key//2] = g_shapelet_sizes[key]\n",
    "shapelet_sizes"
   ]
  },
  {
   "cell_type": "code",
   "execution_count": 39,
   "id": "3507fb9c",
   "metadata": {
    "execution": {
     "iopub.execute_input": "2023-03-08T13:08:18.214851Z",
     "iopub.status.busy": "2023-03-08T13:08:18.214393Z",
     "iopub.status.idle": "2023-03-08T13:08:18.221490Z",
     "shell.execute_reply": "2023-03-08T13:08:18.220425Z"
    },
    "papermill": {
     "duration": 0.022941,
     "end_time": "2023-03-08T13:08:18.223193",
     "exception": false,
     "start_time": "2023-03-08T13:08:18.200252",
     "status": "completed"
    },
    "tags": []
   },
   "outputs": [
    {
     "name": "stderr",
     "output_type": "stream",
     "text": [
      "/home/mattiapggioli/lyrics2ts/.venv/lib/python3.9/site-packages/tslearn/shapelets/shapelets.py:354: FutureWarning: The default value for 'scale' is set to False in version 0.4 to ensure backward compatibility, but is likely to change in a future version.\n",
      "  warnings.warn(\"The default value for 'scale' is set to False \"\n"
     ]
    }
   ],
   "source": [
    "model = LearningShapelets(n_shapelets_per_size=shapelet_sizes,\n",
    "                          optimizer=\"adam\", \n",
    "                          weight_regularizer=.01, \n",
    "                          max_iter=max_iter, verbose=0, random_state=42)"
   ]
  },
  {
   "cell_type": "code",
   "execution_count": 40,
   "id": "73b1fe2e",
   "metadata": {
    "execution": {
     "iopub.execute_input": "2023-03-08T13:08:18.250489Z",
     "iopub.status.busy": "2023-03-08T13:08:18.250031Z",
     "iopub.status.idle": "2023-03-08T13:16:53.941102Z",
     "shell.execute_reply": "2023-03-08T13:16:53.940076Z"
    },
    "papermill": {
     "duration": 515.723702,
     "end_time": "2023-03-08T13:16:53.959486",
     "exception": false,
     "start_time": "2023-03-08T13:08:18.235784",
     "status": "completed"
    },
    "tags": []
   },
   "outputs": [
    {
     "name": "stderr",
     "output_type": "stream",
     "text": [
      "2023-03-08 14:08:18.479245: W tensorflow/compiler/xla/stream_executor/platform/default/dso_loader.cc:64] Could not load dynamic library 'libcuda.so.1'; dlerror: libcuda.so.1: cannot open shared object file: No such file or directory\n",
      "2023-03-08 14:08:18.479271: W tensorflow/compiler/xla/stream_executor/cuda/cuda_driver.cc:265] failed call to cuInit: UNKNOWN ERROR (303)\n",
      "2023-03-08 14:08:18.479293: I tensorflow/compiler/xla/stream_executor/cuda/cuda_diagnostics.cc:156] kernel driver does not appear to be running on this host (mattiapggioli-ThinkPad-E595): /proc/driver/nvidia/version does not exist\n",
      "2023-03-08 14:08:18.479500: I tensorflow/core/platform/cpu_feature_guard.cc:193] This TensorFlow binary is optimized with oneAPI Deep Neural Network Library (oneDNN) to use the following CPU instructions in performance-critical operations:  AVX2 FMA\n",
      "To enable them in other operations, rebuild TensorFlow with the appropriate compiler flags.\n"
     ]
    },
    {
     "name": "stdout",
     "output_type": "stream",
     "text": [
      "CPU times: user 47min, sys: 2min 38s, total: 49min 38s\n",
      "Wall time: 8min 35s\n"
     ]
    },
    {
     "data": {
      "text/html": [
       "<style>#sk-container-id-4 {color: black;background-color: white;}#sk-container-id-4 pre{padding: 0;}#sk-container-id-4 div.sk-toggleable {background-color: white;}#sk-container-id-4 label.sk-toggleable__label {cursor: pointer;display: block;width: 100%;margin-bottom: 0;padding: 0.3em;box-sizing: border-box;text-align: center;}#sk-container-id-4 label.sk-toggleable__label-arrow:before {content: \"▸\";float: left;margin-right: 0.25em;color: #696969;}#sk-container-id-4 label.sk-toggleable__label-arrow:hover:before {color: black;}#sk-container-id-4 div.sk-estimator:hover label.sk-toggleable__label-arrow:before {color: black;}#sk-container-id-4 div.sk-toggleable__content {max-height: 0;max-width: 0;overflow: hidden;text-align: left;background-color: #f0f8ff;}#sk-container-id-4 div.sk-toggleable__content pre {margin: 0.2em;color: black;border-radius: 0.25em;background-color: #f0f8ff;}#sk-container-id-4 input.sk-toggleable__control:checked~div.sk-toggleable__content {max-height: 200px;max-width: 100%;overflow: auto;}#sk-container-id-4 input.sk-toggleable__control:checked~label.sk-toggleable__label-arrow:before {content: \"▾\";}#sk-container-id-4 div.sk-estimator input.sk-toggleable__control:checked~label.sk-toggleable__label {background-color: #d4ebff;}#sk-container-id-4 div.sk-label input.sk-toggleable__control:checked~label.sk-toggleable__label {background-color: #d4ebff;}#sk-container-id-4 input.sk-hidden--visually {border: 0;clip: rect(1px 1px 1px 1px);clip: rect(1px, 1px, 1px, 1px);height: 1px;margin: -1px;overflow: hidden;padding: 0;position: absolute;width: 1px;}#sk-container-id-4 div.sk-estimator {font-family: monospace;background-color: #f0f8ff;border: 1px dotted black;border-radius: 0.25em;box-sizing: border-box;margin-bottom: 0.5em;}#sk-container-id-4 div.sk-estimator:hover {background-color: #d4ebff;}#sk-container-id-4 div.sk-parallel-item::after {content: \"\";width: 100%;border-bottom: 1px solid gray;flex-grow: 1;}#sk-container-id-4 div.sk-label:hover label.sk-toggleable__label {background-color: #d4ebff;}#sk-container-id-4 div.sk-serial::before {content: \"\";position: absolute;border-left: 1px solid gray;box-sizing: border-box;top: 0;bottom: 0;left: 50%;z-index: 0;}#sk-container-id-4 div.sk-serial {display: flex;flex-direction: column;align-items: center;background-color: white;padding-right: 0.2em;padding-left: 0.2em;position: relative;}#sk-container-id-4 div.sk-item {position: relative;z-index: 1;}#sk-container-id-4 div.sk-parallel {display: flex;align-items: stretch;justify-content: center;background-color: white;position: relative;}#sk-container-id-4 div.sk-item::before, #sk-container-id-4 div.sk-parallel-item::before {content: \"\";position: absolute;border-left: 1px solid gray;box-sizing: border-box;top: 0;bottom: 0;left: 50%;z-index: -1;}#sk-container-id-4 div.sk-parallel-item {display: flex;flex-direction: column;z-index: 1;position: relative;background-color: white;}#sk-container-id-4 div.sk-parallel-item:first-child::after {align-self: flex-end;width: 50%;}#sk-container-id-4 div.sk-parallel-item:last-child::after {align-self: flex-start;width: 50%;}#sk-container-id-4 div.sk-parallel-item:only-child::after {width: 0;}#sk-container-id-4 div.sk-dashed-wrapped {border: 1px dashed gray;margin: 0 0.4em 0.5em 0.4em;box-sizing: border-box;padding-bottom: 0.4em;background-color: white;}#sk-container-id-4 div.sk-label label {font-family: monospace;font-weight: bold;display: inline-block;line-height: 1.2em;}#sk-container-id-4 div.sk-label-container {text-align: center;}#sk-container-id-4 div.sk-container {/* jupyter's `normalize.less` sets `[hidden] { display: none; }` but bootstrap.min.css set `[hidden] { display: none !important; }` so we also need the `!important` here to be able to override the default hidden behavior on the sphinx rendered scikit-learn.org. See: https://github.com/scikit-learn/scikit-learn/issues/21755 */display: inline-block !important;position: relative;}#sk-container-id-4 div.sk-text-repr-fallback {display: none;}</style><div id=\"sk-container-id-4\" class=\"sk-top-container\"><div class=\"sk-text-repr-fallback\"><pre>LearningShapelets(max_iter=2000, n_shapelets_per_size={5: 6, 10: 6, 20: 6},\n",
       "                  optimizer=&#x27;adam&#x27;, random_state=42, weight_regularizer=0.01)</pre><b>In a Jupyter environment, please rerun this cell to show the HTML representation or trust the notebook. <br />On GitHub, the HTML representation is unable to render, please try loading this page with nbviewer.org.</b></div><div class=\"sk-container\" hidden><div class=\"sk-item\"><div class=\"sk-estimator sk-toggleable\"><input class=\"sk-toggleable__control sk-hidden--visually\" id=\"sk-estimator-id-4\" type=\"checkbox\" checked><label for=\"sk-estimator-id-4\" class=\"sk-toggleable__label sk-toggleable__label-arrow\">LearningShapelets</label><div class=\"sk-toggleable__content\"><pre>LearningShapelets(max_iter=2000, n_shapelets_per_size={5: 6, 10: 6, 20: 6},\n",
       "                  optimizer=&#x27;adam&#x27;, random_state=42, weight_regularizer=0.01)</pre></div></div></div></div></div>"
      ],
      "text/plain": [
       "LearningShapelets(max_iter=2000, n_shapelets_per_size={5: 6, 10: 6, 20: 6},\n",
       "                  optimizer='adam', random_state=42, weight_regularizer=0.01)"
      ]
     },
     "execution_count": 40,
     "metadata": {},
     "output_type": "execute_result"
    }
   ],
   "source": [
    "%%time\n",
    "model.fit(ts_train, y_train)"
   ]
  },
  {
   "cell_type": "code",
   "execution_count": 41,
   "id": "51706baa",
   "metadata": {
    "execution": {
     "iopub.execute_input": "2023-03-08T13:16:53.989698Z",
     "iopub.status.busy": "2023-03-08T13:16:53.989257Z",
     "iopub.status.idle": "2023-03-08T13:16:54.022927Z",
     "shell.execute_reply": "2023-03-08T13:16:54.021632Z"
    },
    "papermill": {
     "duration": 0.051089,
     "end_time": "2023-03-08T13:16:54.025150",
     "exception": false,
     "start_time": "2023-03-08T13:16:53.974061",
     "status": "completed"
    },
    "tags": []
   },
   "outputs": [],
   "source": [
    "model.to_pickle(f'{data_path}/shapelets.pkl')"
   ]
  },
  {
   "cell_type": "markdown",
   "id": "309f70dc",
   "metadata": {
    "papermill": {
     "duration": 0.01525,
     "end_time": "2023-03-08T13:16:54.055777",
     "exception": false,
     "start_time": "2023-03-08T13:16:54.040527",
     "status": "completed"
    },
    "tags": []
   },
   "source": [
    "#### Shapelet-Based Classification"
   ]
  },
  {
   "cell_type": "code",
   "execution_count": 42,
   "id": "60125dff",
   "metadata": {
    "execution": {
     "iopub.execute_input": "2023-03-08T13:16:54.100919Z",
     "iopub.status.busy": "2023-03-08T13:16:54.100433Z",
     "iopub.status.idle": "2023-03-08T13:16:54.105866Z",
     "shell.execute_reply": "2023-03-08T13:16:54.104790Z"
    },
    "papermill": {
     "duration": 0.021438,
     "end_time": "2023-03-08T13:16:54.107559",
     "exception": false,
     "start_time": "2023-03-08T13:16:54.086121",
     "status": "completed"
    },
    "tags": []
   },
   "outputs": [],
   "source": [
    "metrics_data['Shapelets'] = {}"
   ]
  },
  {
   "cell_type": "code",
   "execution_count": 43,
   "id": "efb8984d",
   "metadata": {
    "execution": {
     "iopub.execute_input": "2023-03-08T13:16:54.136758Z",
     "iopub.status.busy": "2023-03-08T13:16:54.136252Z",
     "iopub.status.idle": "2023-03-08T13:16:54.913724Z",
     "shell.execute_reply": "2023-03-08T13:16:54.912958Z"
    },
    "papermill": {
     "duration": 0.795903,
     "end_time": "2023-03-08T13:16:54.916711",
     "exception": false,
     "start_time": "2023-03-08T13:16:54.120808",
     "status": "completed"
    },
    "tags": []
   },
   "outputs": [],
   "source": [
    "X_train = model.transform(ts_train)\n",
    "X_test = model.transform(ts_test)"
   ]
  },
  {
   "cell_type": "code",
   "execution_count": 44,
   "id": "2e6c0f22",
   "metadata": {
    "execution": {
     "iopub.execute_input": "2023-03-08T13:16:54.988497Z",
     "iopub.status.busy": "2023-03-08T13:16:54.987585Z",
     "iopub.status.idle": "2023-03-08T13:16:55.033206Z",
     "shell.execute_reply": "2023-03-08T13:16:55.031857Z"
    },
    "papermill": {
     "duration": 0.081914,
     "end_time": "2023-03-08T13:16:55.035549",
     "exception": false,
     "start_time": "2023-03-08T13:16:54.953635",
     "status": "completed"
    },
    "tags": []
   },
   "outputs": [
    {
     "data": {
      "text/html": [
       "<div>\n",
       "<style scoped>\n",
       "    .dataframe tbody tr th:only-of-type {\n",
       "        vertical-align: middle;\n",
       "    }\n",
       "\n",
       "    .dataframe tbody tr th {\n",
       "        vertical-align: top;\n",
       "    }\n",
       "\n",
       "    .dataframe thead th {\n",
       "        text-align: right;\n",
       "    }\n",
       "</style>\n",
       "<table border=\"1\" class=\"dataframe\">\n",
       "  <thead>\n",
       "    <tr style=\"text-align: right;\">\n",
       "      <th></th>\n",
       "      <th>0</th>\n",
       "      <th>1</th>\n",
       "      <th>2</th>\n",
       "      <th>3</th>\n",
       "      <th>4</th>\n",
       "      <th>5</th>\n",
       "      <th>6</th>\n",
       "      <th>7</th>\n",
       "      <th>8</th>\n",
       "      <th>9</th>\n",
       "      <th>10</th>\n",
       "      <th>11</th>\n",
       "      <th>12</th>\n",
       "      <th>13</th>\n",
       "      <th>14</th>\n",
       "      <th>15</th>\n",
       "      <th>16</th>\n",
       "      <th>17</th>\n",
       "    </tr>\n",
       "  </thead>\n",
       "  <tbody>\n",
       "    <tr>\n",
       "      <th>0</th>\n",
       "      <td>0.669806</td>\n",
       "      <td>0.342048</td>\n",
       "      <td>3.732317</td>\n",
       "      <td>0.788925</td>\n",
       "      <td>1.557584</td>\n",
       "      <td>2.494589</td>\n",
       "      <td>2.351604</td>\n",
       "      <td>2.417738</td>\n",
       "      <td>0.410697</td>\n",
       "      <td>1.369104</td>\n",
       "      <td>1.417955</td>\n",
       "      <td>1.178363</td>\n",
       "      <td>0.672506</td>\n",
       "      <td>1.392516</td>\n",
       "      <td>2.490014</td>\n",
       "      <td>2.783737</td>\n",
       "      <td>2.831360</td>\n",
       "      <td>5.478542</td>\n",
       "    </tr>\n",
       "    <tr>\n",
       "      <th>1</th>\n",
       "      <td>0.194041</td>\n",
       "      <td>1.800201</td>\n",
       "      <td>5.300422</td>\n",
       "      <td>1.087766</td>\n",
       "      <td>1.534633</td>\n",
       "      <td>1.673100</td>\n",
       "      <td>2.808507</td>\n",
       "      <td>2.754308</td>\n",
       "      <td>0.638258</td>\n",
       "      <td>0.795166</td>\n",
       "      <td>0.472939</td>\n",
       "      <td>2.032518</td>\n",
       "      <td>0.768980</td>\n",
       "      <td>0.259240</td>\n",
       "      <td>1.629291</td>\n",
       "      <td>1.733302</td>\n",
       "      <td>0.940678</td>\n",
       "      <td>3.370998</td>\n",
       "    </tr>\n",
       "    <tr>\n",
       "      <th>2</th>\n",
       "      <td>0.265672</td>\n",
       "      <td>1.194657</td>\n",
       "      <td>1.697560</td>\n",
       "      <td>1.296039</td>\n",
       "      <td>1.678846</td>\n",
       "      <td>2.365921</td>\n",
       "      <td>1.702671</td>\n",
       "      <td>3.930382</td>\n",
       "      <td>1.911226</td>\n",
       "      <td>0.984821</td>\n",
       "      <td>0.732423</td>\n",
       "      <td>2.207443</td>\n",
       "      <td>2.028702</td>\n",
       "      <td>0.333091</td>\n",
       "      <td>2.341087</td>\n",
       "      <td>2.108006</td>\n",
       "      <td>0.325219</td>\n",
       "      <td>1.863970</td>\n",
       "    </tr>\n",
       "    <tr>\n",
       "      <th>3</th>\n",
       "      <td>0.546201</td>\n",
       "      <td>1.888287</td>\n",
       "      <td>3.296814</td>\n",
       "      <td>0.380556</td>\n",
       "      <td>2.107292</td>\n",
       "      <td>1.198581</td>\n",
       "      <td>2.325215</td>\n",
       "      <td>2.160794</td>\n",
       "      <td>0.495997</td>\n",
       "      <td>1.042629</td>\n",
       "      <td>0.521021</td>\n",
       "      <td>2.185310</td>\n",
       "      <td>0.727601</td>\n",
       "      <td>0.321241</td>\n",
       "      <td>1.805403</td>\n",
       "      <td>1.821878</td>\n",
       "      <td>1.085502</td>\n",
       "      <td>3.812625</td>\n",
       "    </tr>\n",
       "    <tr>\n",
       "      <th>4</th>\n",
       "      <td>0.586650</td>\n",
       "      <td>2.081795</td>\n",
       "      <td>5.609172</td>\n",
       "      <td>0.610526</td>\n",
       "      <td>1.268346</td>\n",
       "      <td>1.696453</td>\n",
       "      <td>3.267632</td>\n",
       "      <td>1.490422</td>\n",
       "      <td>0.602423</td>\n",
       "      <td>1.073779</td>\n",
       "      <td>0.430975</td>\n",
       "      <td>2.459133</td>\n",
       "      <td>0.702020</td>\n",
       "      <td>0.349484</td>\n",
       "      <td>1.655338</td>\n",
       "      <td>2.022692</td>\n",
       "      <td>1.145979</td>\n",
       "      <td>3.835506</td>\n",
       "    </tr>\n",
       "    <tr>\n",
       "      <th>...</th>\n",
       "      <td>...</td>\n",
       "      <td>...</td>\n",
       "      <td>...</td>\n",
       "      <td>...</td>\n",
       "      <td>...</td>\n",
       "      <td>...</td>\n",
       "      <td>...</td>\n",
       "      <td>...</td>\n",
       "      <td>...</td>\n",
       "      <td>...</td>\n",
       "      <td>...</td>\n",
       "      <td>...</td>\n",
       "      <td>...</td>\n",
       "      <td>...</td>\n",
       "      <td>...</td>\n",
       "      <td>...</td>\n",
       "      <td>...</td>\n",
       "      <td>...</td>\n",
       "    </tr>\n",
       "    <tr>\n",
       "      <th>1498</th>\n",
       "      <td>1.484398</td>\n",
       "      <td>0.766003</td>\n",
       "      <td>4.263445</td>\n",
       "      <td>1.087112</td>\n",
       "      <td>1.712235</td>\n",
       "      <td>2.775443</td>\n",
       "      <td>3.957447</td>\n",
       "      <td>2.881092</td>\n",
       "      <td>0.473269</td>\n",
       "      <td>2.469877</td>\n",
       "      <td>1.672784</td>\n",
       "      <td>3.102500</td>\n",
       "      <td>0.764259</td>\n",
       "      <td>1.677209</td>\n",
       "      <td>1.941196</td>\n",
       "      <td>2.697076</td>\n",
       "      <td>3.231604</td>\n",
       "      <td>6.986820</td>\n",
       "    </tr>\n",
       "    <tr>\n",
       "      <th>1499</th>\n",
       "      <td>0.797517</td>\n",
       "      <td>0.291889</td>\n",
       "      <td>8.020877</td>\n",
       "      <td>1.485258</td>\n",
       "      <td>3.204240</td>\n",
       "      <td>7.038062</td>\n",
       "      <td>7.126567</td>\n",
       "      <td>3.622429</td>\n",
       "      <td>0.506210</td>\n",
       "      <td>2.472104</td>\n",
       "      <td>1.730866</td>\n",
       "      <td>3.956267</td>\n",
       "      <td>1.536391</td>\n",
       "      <td>3.311917</td>\n",
       "      <td>4.116160</td>\n",
       "      <td>4.587492</td>\n",
       "      <td>5.382909</td>\n",
       "      <td>8.993551</td>\n",
       "    </tr>\n",
       "    <tr>\n",
       "      <th>1500</th>\n",
       "      <td>1.167965</td>\n",
       "      <td>0.736958</td>\n",
       "      <td>6.249460</td>\n",
       "      <td>1.285258</td>\n",
       "      <td>1.548120</td>\n",
       "      <td>3.002722</td>\n",
       "      <td>4.865162</td>\n",
       "      <td>1.090127</td>\n",
       "      <td>0.379184</td>\n",
       "      <td>1.607442</td>\n",
       "      <td>0.943464</td>\n",
       "      <td>2.744792</td>\n",
       "      <td>0.573759</td>\n",
       "      <td>0.849217</td>\n",
       "      <td>1.899375</td>\n",
       "      <td>2.638116</td>\n",
       "      <td>2.021819</td>\n",
       "      <td>5.377409</td>\n",
       "    </tr>\n",
       "    <tr>\n",
       "      <th>1501</th>\n",
       "      <td>0.212217</td>\n",
       "      <td>0.747290</td>\n",
       "      <td>2.935825</td>\n",
       "      <td>1.165573</td>\n",
       "      <td>1.946869</td>\n",
       "      <td>1.639024</td>\n",
       "      <td>1.614838</td>\n",
       "      <td>2.164609</td>\n",
       "      <td>1.490468</td>\n",
       "      <td>0.857614</td>\n",
       "      <td>0.516071</td>\n",
       "      <td>1.641415</td>\n",
       "      <td>1.451506</td>\n",
       "      <td>0.182818</td>\n",
       "      <td>1.689103</td>\n",
       "      <td>1.548236</td>\n",
       "      <td>0.430631</td>\n",
       "      <td>2.173967</td>\n",
       "    </tr>\n",
       "    <tr>\n",
       "      <th>1502</th>\n",
       "      <td>0.236096</td>\n",
       "      <td>0.819406</td>\n",
       "      <td>4.608469</td>\n",
       "      <td>1.734301</td>\n",
       "      <td>2.867402</td>\n",
       "      <td>2.972561</td>\n",
       "      <td>2.505869</td>\n",
       "      <td>1.736636</td>\n",
       "      <td>0.779380</td>\n",
       "      <td>0.655430</td>\n",
       "      <td>0.465383</td>\n",
       "      <td>1.847551</td>\n",
       "      <td>1.235643</td>\n",
       "      <td>0.162379</td>\n",
       "      <td>2.040544</td>\n",
       "      <td>1.941708</td>\n",
       "      <td>0.527230</td>\n",
       "      <td>2.639631</td>\n",
       "    </tr>\n",
       "  </tbody>\n",
       "</table>\n",
       "<p>1503 rows × 18 columns</p>\n",
       "</div>"
      ],
      "text/plain": [
       "            0         1         2         3         4         5         6   \\\n",
       "0     0.669806  0.342048  3.732317  0.788925  1.557584  2.494589  2.351604   \n",
       "1     0.194041  1.800201  5.300422  1.087766  1.534633  1.673100  2.808507   \n",
       "2     0.265672  1.194657  1.697560  1.296039  1.678846  2.365921  1.702671   \n",
       "3     0.546201  1.888287  3.296814  0.380556  2.107292  1.198581  2.325215   \n",
       "4     0.586650  2.081795  5.609172  0.610526  1.268346  1.696453  3.267632   \n",
       "...        ...       ...       ...       ...       ...       ...       ...   \n",
       "1498  1.484398  0.766003  4.263445  1.087112  1.712235  2.775443  3.957447   \n",
       "1499  0.797517  0.291889  8.020877  1.485258  3.204240  7.038062  7.126567   \n",
       "1500  1.167965  0.736958  6.249460  1.285258  1.548120  3.002722  4.865162   \n",
       "1501  0.212217  0.747290  2.935825  1.165573  1.946869  1.639024  1.614838   \n",
       "1502  0.236096  0.819406  4.608469  1.734301  2.867402  2.972561  2.505869   \n",
       "\n",
       "            7         8         9         10        11        12        13  \\\n",
       "0     2.417738  0.410697  1.369104  1.417955  1.178363  0.672506  1.392516   \n",
       "1     2.754308  0.638258  0.795166  0.472939  2.032518  0.768980  0.259240   \n",
       "2     3.930382  1.911226  0.984821  0.732423  2.207443  2.028702  0.333091   \n",
       "3     2.160794  0.495997  1.042629  0.521021  2.185310  0.727601  0.321241   \n",
       "4     1.490422  0.602423  1.073779  0.430975  2.459133  0.702020  0.349484   \n",
       "...        ...       ...       ...       ...       ...       ...       ...   \n",
       "1498  2.881092  0.473269  2.469877  1.672784  3.102500  0.764259  1.677209   \n",
       "1499  3.622429  0.506210  2.472104  1.730866  3.956267  1.536391  3.311917   \n",
       "1500  1.090127  0.379184  1.607442  0.943464  2.744792  0.573759  0.849217   \n",
       "1501  2.164609  1.490468  0.857614  0.516071  1.641415  1.451506  0.182818   \n",
       "1502  1.736636  0.779380  0.655430  0.465383  1.847551  1.235643  0.162379   \n",
       "\n",
       "            14        15        16        17  \n",
       "0     2.490014  2.783737  2.831360  5.478542  \n",
       "1     1.629291  1.733302  0.940678  3.370998  \n",
       "2     2.341087  2.108006  0.325219  1.863970  \n",
       "3     1.805403  1.821878  1.085502  3.812625  \n",
       "4     1.655338  2.022692  1.145979  3.835506  \n",
       "...        ...       ...       ...       ...  \n",
       "1498  1.941196  2.697076  3.231604  6.986820  \n",
       "1499  4.116160  4.587492  5.382909  8.993551  \n",
       "1500  1.899375  2.638116  2.021819  5.377409  \n",
       "1501  1.689103  1.548236  0.430631  2.173967  \n",
       "1502  2.040544  1.941708  0.527230  2.639631  \n",
       "\n",
       "[1503 rows x 18 columns]"
      ]
     },
     "execution_count": 44,
     "metadata": {},
     "output_type": "execute_result"
    }
   ],
   "source": [
    "pd.DataFrame(X_test)"
   ]
  },
  {
   "cell_type": "markdown",
   "id": "5fa024f7",
   "metadata": {
    "execution": {
     "iopub.execute_input": "2023-02-07T23:47:19.876941Z",
     "iopub.status.busy": "2023-02-07T23:47:19.876424Z",
     "iopub.status.idle": "2023-02-07T23:47:20.399488Z",
     "shell.execute_reply": "2023-02-07T23:47:20.398142Z"
    },
    "papermill": {
     "duration": 0.027303,
     "end_time": "2023-03-08T13:16:55.090565",
     "exception": false,
     "start_time": "2023-03-08T13:16:55.063262",
     "status": "completed"
    },
    "tags": []
   },
   "source": [
    "**Decision Tree**"
   ]
  },
  {
   "cell_type": "code",
   "execution_count": 45,
   "id": "4f5400c9",
   "metadata": {
    "execution": {
     "iopub.execute_input": "2023-03-08T13:16:55.120090Z",
     "iopub.status.busy": "2023-03-08T13:16:55.119310Z",
     "iopub.status.idle": "2023-03-08T13:16:55.334878Z",
     "shell.execute_reply": "2023-03-08T13:16:55.333948Z"
    },
    "papermill": {
     "duration": 0.232157,
     "end_time": "2023-03-08T13:16:55.336919",
     "exception": false,
     "start_time": "2023-03-08T13:16:55.104762",
     "status": "completed"
    },
    "tags": []
   },
   "outputs": [
    {
     "data": {
      "text/html": [
       "<style>#sk-container-id-5 {color: black;background-color: white;}#sk-container-id-5 pre{padding: 0;}#sk-container-id-5 div.sk-toggleable {background-color: white;}#sk-container-id-5 label.sk-toggleable__label {cursor: pointer;display: block;width: 100%;margin-bottom: 0;padding: 0.3em;box-sizing: border-box;text-align: center;}#sk-container-id-5 label.sk-toggleable__label-arrow:before {content: \"▸\";float: left;margin-right: 0.25em;color: #696969;}#sk-container-id-5 label.sk-toggleable__label-arrow:hover:before {color: black;}#sk-container-id-5 div.sk-estimator:hover label.sk-toggleable__label-arrow:before {color: black;}#sk-container-id-5 div.sk-toggleable__content {max-height: 0;max-width: 0;overflow: hidden;text-align: left;background-color: #f0f8ff;}#sk-container-id-5 div.sk-toggleable__content pre {margin: 0.2em;color: black;border-radius: 0.25em;background-color: #f0f8ff;}#sk-container-id-5 input.sk-toggleable__control:checked~div.sk-toggleable__content {max-height: 200px;max-width: 100%;overflow: auto;}#sk-container-id-5 input.sk-toggleable__control:checked~label.sk-toggleable__label-arrow:before {content: \"▾\";}#sk-container-id-5 div.sk-estimator input.sk-toggleable__control:checked~label.sk-toggleable__label {background-color: #d4ebff;}#sk-container-id-5 div.sk-label input.sk-toggleable__control:checked~label.sk-toggleable__label {background-color: #d4ebff;}#sk-container-id-5 input.sk-hidden--visually {border: 0;clip: rect(1px 1px 1px 1px);clip: rect(1px, 1px, 1px, 1px);height: 1px;margin: -1px;overflow: hidden;padding: 0;position: absolute;width: 1px;}#sk-container-id-5 div.sk-estimator {font-family: monospace;background-color: #f0f8ff;border: 1px dotted black;border-radius: 0.25em;box-sizing: border-box;margin-bottom: 0.5em;}#sk-container-id-5 div.sk-estimator:hover {background-color: #d4ebff;}#sk-container-id-5 div.sk-parallel-item::after {content: \"\";width: 100%;border-bottom: 1px solid gray;flex-grow: 1;}#sk-container-id-5 div.sk-label:hover label.sk-toggleable__label {background-color: #d4ebff;}#sk-container-id-5 div.sk-serial::before {content: \"\";position: absolute;border-left: 1px solid gray;box-sizing: border-box;top: 0;bottom: 0;left: 50%;z-index: 0;}#sk-container-id-5 div.sk-serial {display: flex;flex-direction: column;align-items: center;background-color: white;padding-right: 0.2em;padding-left: 0.2em;position: relative;}#sk-container-id-5 div.sk-item {position: relative;z-index: 1;}#sk-container-id-5 div.sk-parallel {display: flex;align-items: stretch;justify-content: center;background-color: white;position: relative;}#sk-container-id-5 div.sk-item::before, #sk-container-id-5 div.sk-parallel-item::before {content: \"\";position: absolute;border-left: 1px solid gray;box-sizing: border-box;top: 0;bottom: 0;left: 50%;z-index: -1;}#sk-container-id-5 div.sk-parallel-item {display: flex;flex-direction: column;z-index: 1;position: relative;background-color: white;}#sk-container-id-5 div.sk-parallel-item:first-child::after {align-self: flex-end;width: 50%;}#sk-container-id-5 div.sk-parallel-item:last-child::after {align-self: flex-start;width: 50%;}#sk-container-id-5 div.sk-parallel-item:only-child::after {width: 0;}#sk-container-id-5 div.sk-dashed-wrapped {border: 1px dashed gray;margin: 0 0.4em 0.5em 0.4em;box-sizing: border-box;padding-bottom: 0.4em;background-color: white;}#sk-container-id-5 div.sk-label label {font-family: monospace;font-weight: bold;display: inline-block;line-height: 1.2em;}#sk-container-id-5 div.sk-label-container {text-align: center;}#sk-container-id-5 div.sk-container {/* jupyter's `normalize.less` sets `[hidden] { display: none; }` but bootstrap.min.css set `[hidden] { display: none !important; }` so we also need the `!important` here to be able to override the default hidden behavior on the sphinx rendered scikit-learn.org. See: https://github.com/scikit-learn/scikit-learn/issues/21755 */display: inline-block !important;position: relative;}#sk-container-id-5 div.sk-text-repr-fallback {display: none;}</style><div id=\"sk-container-id-5\" class=\"sk-top-container\"><div class=\"sk-text-repr-fallback\"><pre>DecisionTreeClassifier(random_state=42)</pre><b>In a Jupyter environment, please rerun this cell to show the HTML representation or trust the notebook. <br />On GitHub, the HTML representation is unable to render, please try loading this page with nbviewer.org.</b></div><div class=\"sk-container\" hidden><div class=\"sk-item\"><div class=\"sk-estimator sk-toggleable\"><input class=\"sk-toggleable__control sk-hidden--visually\" id=\"sk-estimator-id-5\" type=\"checkbox\" checked><label for=\"sk-estimator-id-5\" class=\"sk-toggleable__label sk-toggleable__label-arrow\">DecisionTreeClassifier</label><div class=\"sk-toggleable__content\"><pre>DecisionTreeClassifier(random_state=42)</pre></div></div></div></div></div>"
      ],
      "text/plain": [
       "DecisionTreeClassifier(random_state=42)"
      ]
     },
     "execution_count": 45,
     "metadata": {},
     "output_type": "execute_result"
    }
   ],
   "source": [
    "clf = DecisionTreeClassifier(random_state=42)\n",
    "clf.fit(X_train, y_train)"
   ]
  },
  {
   "cell_type": "code",
   "execution_count": 46,
   "id": "3b56d190",
   "metadata": {
    "execution": {
     "iopub.execute_input": "2023-03-08T13:16:55.396950Z",
     "iopub.status.busy": "2023-03-08T13:16:55.396654Z",
     "iopub.status.idle": "2023-03-08T13:16:55.435441Z",
     "shell.execute_reply": "2023-03-08T13:16:55.434090Z"
    },
    "papermill": {
     "duration": 0.072977,
     "end_time": "2023-03-08T13:16:55.438603",
     "exception": false,
     "start_time": "2023-03-08T13:16:55.365626",
     "status": "completed"
    },
    "tags": []
   },
   "outputs": [
    {
     "name": "stdout",
     "output_type": "stream",
     "text": [
      "                                           precision    recall  f1-score   support\n",
      "\n",
      "                    action_thriller_crime       0.21      0.23      0.22       306\n",
      "                                   comedy       0.27      0.28      0.28       404\n",
      "                                    drama       0.33      0.31      0.32       494\n",
      "horror_scifi_mystery_supernatural_fantasy       0.26      0.25      0.26       299\n",
      "\n",
      "                                 accuracy                           0.27      1503\n",
      "                                macro avg       0.27      0.27      0.27      1503\n",
      "                             weighted avg       0.28      0.27      0.27      1503\n",
      "\n"
     ]
    }
   ],
   "source": [
    "y_pred = clf.predict(X_test)\n",
    "print(classification_report(y_test, y_pred))"
   ]
  },
  {
   "cell_type": "code",
   "execution_count": 47,
   "id": "42bc91ff",
   "metadata": {
    "execution": {
     "iopub.execute_input": "2023-03-08T13:16:55.502555Z",
     "iopub.status.busy": "2023-03-08T13:16:55.502084Z",
     "iopub.status.idle": "2023-03-08T13:16:55.509409Z",
     "shell.execute_reply": "2023-03-08T13:16:55.508029Z"
    },
    "papermill": {
     "duration": 0.038163,
     "end_time": "2023-03-08T13:16:55.511307",
     "exception": false,
     "start_time": "2023-03-08T13:16:55.473144",
     "status": "completed"
    },
    "tags": []
   },
   "outputs": [],
   "source": [
    "pickle.dump(clf, open(f'{data_path}/decision_tree.pkl', 'wb'))"
   ]
  },
  {
   "cell_type": "code",
   "execution_count": 48,
   "id": "ea9be210",
   "metadata": {
    "execution": {
     "iopub.execute_input": "2023-03-08T13:16:55.540250Z",
     "iopub.status.busy": "2023-03-08T13:16:55.539746Z",
     "iopub.status.idle": "2023-03-08T13:16:55.594609Z",
     "shell.execute_reply": "2023-03-08T13:16:55.593808Z"
    },
    "papermill": {
     "duration": 0.072662,
     "end_time": "2023-03-08T13:16:55.597619",
     "exception": false,
     "start_time": "2023-03-08T13:16:55.524957",
     "status": "completed"
    },
    "tags": []
   },
   "outputs": [],
   "source": [
    "acc = accuracy_score(y_test, y_pred)\n",
    "pre = precision_score(y_test, y_pred, average=avg_par)\n",
    "rec = recall_score(y_test, y_pred, average=avg_par)\n",
    "f1 = f1_score(y_test, y_pred, average=avg_par)\n",
    "\n",
    "metrics_data['Shapelets']['DecisionTree'] = {'Accuracy': acc, 'Precision': pre, 'Recall': rec, 'F1': f1}"
   ]
  },
  {
   "cell_type": "markdown",
   "id": "3ca3443b",
   "metadata": {
    "papermill": {
     "duration": 0.033524,
     "end_time": "2023-03-08T13:16:55.665880",
     "exception": false,
     "start_time": "2023-03-08T13:16:55.632356",
     "status": "completed"
    },
    "tags": []
   },
   "source": [
    "**Random Forest**"
   ]
  },
  {
   "cell_type": "code",
   "execution_count": 49,
   "id": "37795e21",
   "metadata": {
    "execution": {
     "iopub.execute_input": "2023-03-08T13:16:55.694766Z",
     "iopub.status.busy": "2023-03-08T13:16:55.694300Z",
     "iopub.status.idle": "2023-03-08T13:16:58.334818Z",
     "shell.execute_reply": "2023-03-08T13:16:58.333860Z"
    },
    "papermill": {
     "duration": 2.658338,
     "end_time": "2023-03-08T13:16:58.337779",
     "exception": false,
     "start_time": "2023-03-08T13:16:55.679441",
     "status": "completed"
    },
    "tags": []
   },
   "outputs": [
    {
     "data": {
      "text/html": [
       "<style>#sk-container-id-6 {color: black;background-color: white;}#sk-container-id-6 pre{padding: 0;}#sk-container-id-6 div.sk-toggleable {background-color: white;}#sk-container-id-6 label.sk-toggleable__label {cursor: pointer;display: block;width: 100%;margin-bottom: 0;padding: 0.3em;box-sizing: border-box;text-align: center;}#sk-container-id-6 label.sk-toggleable__label-arrow:before {content: \"▸\";float: left;margin-right: 0.25em;color: #696969;}#sk-container-id-6 label.sk-toggleable__label-arrow:hover:before {color: black;}#sk-container-id-6 div.sk-estimator:hover label.sk-toggleable__label-arrow:before {color: black;}#sk-container-id-6 div.sk-toggleable__content {max-height: 0;max-width: 0;overflow: hidden;text-align: left;background-color: #f0f8ff;}#sk-container-id-6 div.sk-toggleable__content pre {margin: 0.2em;color: black;border-radius: 0.25em;background-color: #f0f8ff;}#sk-container-id-6 input.sk-toggleable__control:checked~div.sk-toggleable__content {max-height: 200px;max-width: 100%;overflow: auto;}#sk-container-id-6 input.sk-toggleable__control:checked~label.sk-toggleable__label-arrow:before {content: \"▾\";}#sk-container-id-6 div.sk-estimator input.sk-toggleable__control:checked~label.sk-toggleable__label {background-color: #d4ebff;}#sk-container-id-6 div.sk-label input.sk-toggleable__control:checked~label.sk-toggleable__label {background-color: #d4ebff;}#sk-container-id-6 input.sk-hidden--visually {border: 0;clip: rect(1px 1px 1px 1px);clip: rect(1px, 1px, 1px, 1px);height: 1px;margin: -1px;overflow: hidden;padding: 0;position: absolute;width: 1px;}#sk-container-id-6 div.sk-estimator {font-family: monospace;background-color: #f0f8ff;border: 1px dotted black;border-radius: 0.25em;box-sizing: border-box;margin-bottom: 0.5em;}#sk-container-id-6 div.sk-estimator:hover {background-color: #d4ebff;}#sk-container-id-6 div.sk-parallel-item::after {content: \"\";width: 100%;border-bottom: 1px solid gray;flex-grow: 1;}#sk-container-id-6 div.sk-label:hover label.sk-toggleable__label {background-color: #d4ebff;}#sk-container-id-6 div.sk-serial::before {content: \"\";position: absolute;border-left: 1px solid gray;box-sizing: border-box;top: 0;bottom: 0;left: 50%;z-index: 0;}#sk-container-id-6 div.sk-serial {display: flex;flex-direction: column;align-items: center;background-color: white;padding-right: 0.2em;padding-left: 0.2em;position: relative;}#sk-container-id-6 div.sk-item {position: relative;z-index: 1;}#sk-container-id-6 div.sk-parallel {display: flex;align-items: stretch;justify-content: center;background-color: white;position: relative;}#sk-container-id-6 div.sk-item::before, #sk-container-id-6 div.sk-parallel-item::before {content: \"\";position: absolute;border-left: 1px solid gray;box-sizing: border-box;top: 0;bottom: 0;left: 50%;z-index: -1;}#sk-container-id-6 div.sk-parallel-item {display: flex;flex-direction: column;z-index: 1;position: relative;background-color: white;}#sk-container-id-6 div.sk-parallel-item:first-child::after {align-self: flex-end;width: 50%;}#sk-container-id-6 div.sk-parallel-item:last-child::after {align-self: flex-start;width: 50%;}#sk-container-id-6 div.sk-parallel-item:only-child::after {width: 0;}#sk-container-id-6 div.sk-dashed-wrapped {border: 1px dashed gray;margin: 0 0.4em 0.5em 0.4em;box-sizing: border-box;padding-bottom: 0.4em;background-color: white;}#sk-container-id-6 div.sk-label label {font-family: monospace;font-weight: bold;display: inline-block;line-height: 1.2em;}#sk-container-id-6 div.sk-label-container {text-align: center;}#sk-container-id-6 div.sk-container {/* jupyter's `normalize.less` sets `[hidden] { display: none; }` but bootstrap.min.css set `[hidden] { display: none !important; }` so we also need the `!important` here to be able to override the default hidden behavior on the sphinx rendered scikit-learn.org. See: https://github.com/scikit-learn/scikit-learn/issues/21755 */display: inline-block !important;position: relative;}#sk-container-id-6 div.sk-text-repr-fallback {display: none;}</style><div id=\"sk-container-id-6\" class=\"sk-top-container\"><div class=\"sk-text-repr-fallback\"><pre>RandomForestClassifier(random_state=42)</pre><b>In a Jupyter environment, please rerun this cell to show the HTML representation or trust the notebook. <br />On GitHub, the HTML representation is unable to render, please try loading this page with nbviewer.org.</b></div><div class=\"sk-container\" hidden><div class=\"sk-item\"><div class=\"sk-estimator sk-toggleable\"><input class=\"sk-toggleable__control sk-hidden--visually\" id=\"sk-estimator-id-6\" type=\"checkbox\" checked><label for=\"sk-estimator-id-6\" class=\"sk-toggleable__label sk-toggleable__label-arrow\">RandomForestClassifier</label><div class=\"sk-toggleable__content\"><pre>RandomForestClassifier(random_state=42)</pre></div></div></div></div></div>"
      ],
      "text/plain": [
       "RandomForestClassifier(random_state=42)"
      ]
     },
     "execution_count": 49,
     "metadata": {},
     "output_type": "execute_result"
    }
   ],
   "source": [
    "clf = RandomForestClassifier(random_state=42)\n",
    "clf.fit(X_train, y_train)"
   ]
  },
  {
   "cell_type": "code",
   "execution_count": 50,
   "id": "581ab90a",
   "metadata": {
    "execution": {
     "iopub.execute_input": "2023-03-08T13:16:58.413744Z",
     "iopub.status.busy": "2023-03-08T13:16:58.413296Z",
     "iopub.status.idle": "2023-03-08T13:16:58.490458Z",
     "shell.execute_reply": "2023-03-08T13:16:58.489473Z"
    },
    "papermill": {
     "duration": 0.116927,
     "end_time": "2023-03-08T13:16:58.493189",
     "exception": false,
     "start_time": "2023-03-08T13:16:58.376262",
     "status": "completed"
    },
    "tags": []
   },
   "outputs": [
    {
     "name": "stdout",
     "output_type": "stream",
     "text": [
      "                                           precision    recall  f1-score   support\n",
      "\n",
      "                    action_thriller_crime       0.24      0.11      0.15       306\n",
      "                                   comedy       0.32      0.38      0.35       404\n",
      "                                    drama       0.33      0.51      0.40       494\n",
      "horror_scifi_mystery_supernatural_fantasy       0.35      0.11      0.17       299\n",
      "\n",
      "                                 accuracy                           0.32      1503\n",
      "                                macro avg       0.31      0.28      0.27      1503\n",
      "                             weighted avg       0.31      0.32      0.29      1503\n",
      "\n"
     ]
    }
   ],
   "source": [
    "y_pred = clf.predict(X_test)\n",
    "print(classification_report(y_test, y_pred))"
   ]
  },
  {
   "cell_type": "code",
   "execution_count": 51,
   "id": "faf1d7f4",
   "metadata": {
    "execution": {
     "iopub.execute_input": "2023-03-08T13:16:58.566418Z",
     "iopub.status.busy": "2023-03-08T13:16:58.565948Z",
     "iopub.status.idle": "2023-03-08T13:16:58.631857Z",
     "shell.execute_reply": "2023-03-08T13:16:58.630479Z"
    },
    "papermill": {
     "duration": 0.105103,
     "end_time": "2023-03-08T13:16:58.635529",
     "exception": false,
     "start_time": "2023-03-08T13:16:58.530426",
     "status": "completed"
    },
    "tags": []
   },
   "outputs": [],
   "source": [
    "acc = accuracy_score(y_test, y_pred)\n",
    "pre = precision_score(y_test, y_pred, average=avg_par)\n",
    "rec = recall_score(y_test, y_pred, average=avg_par)\n",
    "f1 = f1_score(y_test, y_pred, average=avg_par)\n",
    "\n",
    "metrics_data['Shapelets']['RandomForest'] = {'Accuracy': acc, 'Precision': pre, 'Recall': rec, 'F1': f1}"
   ]
  },
  {
   "cell_type": "markdown",
   "id": "61fceefb",
   "metadata": {
    "papermill": {
     "duration": 0.033244,
     "end_time": "2023-03-08T13:16:58.704483",
     "exception": false,
     "start_time": "2023-03-08T13:16:58.671239",
     "status": "completed"
    },
    "tags": []
   },
   "source": [
    "**LightGBM**"
   ]
  },
  {
   "cell_type": "code",
   "execution_count": 52,
   "id": "194189da",
   "metadata": {
    "execution": {
     "iopub.execute_input": "2023-03-08T13:16:58.733734Z",
     "iopub.status.busy": "2023-03-08T13:16:58.733049Z",
     "iopub.status.idle": "2023-03-08T13:16:59.172568Z",
     "shell.execute_reply": "2023-03-08T13:16:59.171722Z"
    },
    "papermill": {
     "duration": 0.456754,
     "end_time": "2023-03-08T13:16:59.174732",
     "exception": false,
     "start_time": "2023-03-08T13:16:58.717978",
     "status": "completed"
    },
    "tags": []
   },
   "outputs": [
    {
     "data": {
      "text/html": [
       "<style>#sk-container-id-7 {color: black;background-color: white;}#sk-container-id-7 pre{padding: 0;}#sk-container-id-7 div.sk-toggleable {background-color: white;}#sk-container-id-7 label.sk-toggleable__label {cursor: pointer;display: block;width: 100%;margin-bottom: 0;padding: 0.3em;box-sizing: border-box;text-align: center;}#sk-container-id-7 label.sk-toggleable__label-arrow:before {content: \"▸\";float: left;margin-right: 0.25em;color: #696969;}#sk-container-id-7 label.sk-toggleable__label-arrow:hover:before {color: black;}#sk-container-id-7 div.sk-estimator:hover label.sk-toggleable__label-arrow:before {color: black;}#sk-container-id-7 div.sk-toggleable__content {max-height: 0;max-width: 0;overflow: hidden;text-align: left;background-color: #f0f8ff;}#sk-container-id-7 div.sk-toggleable__content pre {margin: 0.2em;color: black;border-radius: 0.25em;background-color: #f0f8ff;}#sk-container-id-7 input.sk-toggleable__control:checked~div.sk-toggleable__content {max-height: 200px;max-width: 100%;overflow: auto;}#sk-container-id-7 input.sk-toggleable__control:checked~label.sk-toggleable__label-arrow:before {content: \"▾\";}#sk-container-id-7 div.sk-estimator input.sk-toggleable__control:checked~label.sk-toggleable__label {background-color: #d4ebff;}#sk-container-id-7 div.sk-label input.sk-toggleable__control:checked~label.sk-toggleable__label {background-color: #d4ebff;}#sk-container-id-7 input.sk-hidden--visually {border: 0;clip: rect(1px 1px 1px 1px);clip: rect(1px, 1px, 1px, 1px);height: 1px;margin: -1px;overflow: hidden;padding: 0;position: absolute;width: 1px;}#sk-container-id-7 div.sk-estimator {font-family: monospace;background-color: #f0f8ff;border: 1px dotted black;border-radius: 0.25em;box-sizing: border-box;margin-bottom: 0.5em;}#sk-container-id-7 div.sk-estimator:hover {background-color: #d4ebff;}#sk-container-id-7 div.sk-parallel-item::after {content: \"\";width: 100%;border-bottom: 1px solid gray;flex-grow: 1;}#sk-container-id-7 div.sk-label:hover label.sk-toggleable__label {background-color: #d4ebff;}#sk-container-id-7 div.sk-serial::before {content: \"\";position: absolute;border-left: 1px solid gray;box-sizing: border-box;top: 0;bottom: 0;left: 50%;z-index: 0;}#sk-container-id-7 div.sk-serial {display: flex;flex-direction: column;align-items: center;background-color: white;padding-right: 0.2em;padding-left: 0.2em;position: relative;}#sk-container-id-7 div.sk-item {position: relative;z-index: 1;}#sk-container-id-7 div.sk-parallel {display: flex;align-items: stretch;justify-content: center;background-color: white;position: relative;}#sk-container-id-7 div.sk-item::before, #sk-container-id-7 div.sk-parallel-item::before {content: \"\";position: absolute;border-left: 1px solid gray;box-sizing: border-box;top: 0;bottom: 0;left: 50%;z-index: -1;}#sk-container-id-7 div.sk-parallel-item {display: flex;flex-direction: column;z-index: 1;position: relative;background-color: white;}#sk-container-id-7 div.sk-parallel-item:first-child::after {align-self: flex-end;width: 50%;}#sk-container-id-7 div.sk-parallel-item:last-child::after {align-self: flex-start;width: 50%;}#sk-container-id-7 div.sk-parallel-item:only-child::after {width: 0;}#sk-container-id-7 div.sk-dashed-wrapped {border: 1px dashed gray;margin: 0 0.4em 0.5em 0.4em;box-sizing: border-box;padding-bottom: 0.4em;background-color: white;}#sk-container-id-7 div.sk-label label {font-family: monospace;font-weight: bold;display: inline-block;line-height: 1.2em;}#sk-container-id-7 div.sk-label-container {text-align: center;}#sk-container-id-7 div.sk-container {/* jupyter's `normalize.less` sets `[hidden] { display: none; }` but bootstrap.min.css set `[hidden] { display: none !important; }` so we also need the `!important` here to be able to override the default hidden behavior on the sphinx rendered scikit-learn.org. See: https://github.com/scikit-learn/scikit-learn/issues/21755 */display: inline-block !important;position: relative;}#sk-container-id-7 div.sk-text-repr-fallback {display: none;}</style><div id=\"sk-container-id-7\" class=\"sk-top-container\"><div class=\"sk-text-repr-fallback\"><pre>LGBMClassifier(objective=&#x27;multiclass&#x27;)</pre><b>In a Jupyter environment, please rerun this cell to show the HTML representation or trust the notebook. <br />On GitHub, the HTML representation is unable to render, please try loading this page with nbviewer.org.</b></div><div class=\"sk-container\" hidden><div class=\"sk-item\"><div class=\"sk-estimator sk-toggleable\"><input class=\"sk-toggleable__control sk-hidden--visually\" id=\"sk-estimator-id-7\" type=\"checkbox\" checked><label for=\"sk-estimator-id-7\" class=\"sk-toggleable__label sk-toggleable__label-arrow\">LGBMClassifier</label><div class=\"sk-toggleable__content\"><pre>LGBMClassifier(objective=&#x27;multiclass&#x27;)</pre></div></div></div></div></div>"
      ],
      "text/plain": [
       "LGBMClassifier(objective='multiclass')"
      ]
     },
     "execution_count": 52,
     "metadata": {},
     "output_type": "execute_result"
    }
   ],
   "source": [
    "clf = lgbm.LGBMClassifier(objective=obj_par) \n",
    "clf.fit(X_train, y_train)"
   ]
  },
  {
   "cell_type": "code",
   "execution_count": 53,
   "id": "355a078b",
   "metadata": {
    "execution": {
     "iopub.execute_input": "2023-03-08T13:16:59.216850Z",
     "iopub.status.busy": "2023-03-08T13:16:59.216577Z",
     "iopub.status.idle": "2023-03-08T13:16:59.267973Z",
     "shell.execute_reply": "2023-03-08T13:16:59.267017Z"
    },
    "papermill": {
     "duration": 0.070646,
     "end_time": "2023-03-08T13:16:59.269759",
     "exception": false,
     "start_time": "2023-03-08T13:16:59.199113",
     "status": "completed"
    },
    "tags": []
   },
   "outputs": [
    {
     "name": "stdout",
     "output_type": "stream",
     "text": [
      "                                           precision    recall  f1-score   support\n",
      "\n",
      "                    action_thriller_crime       0.25      0.13      0.17       306\n",
      "                                   comedy       0.30      0.37      0.33       404\n",
      "                                    drama       0.34      0.50      0.41       494\n",
      "horror_scifi_mystery_supernatural_fantasy       0.26      0.11      0.16       299\n",
      "\n",
      "                                 accuracy                           0.31      1503\n",
      "                                macro avg       0.29      0.28      0.27      1503\n",
      "                             weighted avg       0.30      0.31      0.29      1503\n",
      "\n"
     ]
    }
   ],
   "source": [
    "y_pred = clf.predict(X_test)\n",
    "print(classification_report(y_test, y_pred))"
   ]
  },
  {
   "cell_type": "code",
   "execution_count": 54,
   "id": "f22b911e",
   "metadata": {
    "execution": {
     "iopub.execute_input": "2023-03-08T13:16:59.314931Z",
     "iopub.status.busy": "2023-03-08T13:16:59.314062Z",
     "iopub.status.idle": "2023-03-08T13:16:59.370603Z",
     "shell.execute_reply": "2023-03-08T13:16:59.369405Z"
    },
    "papermill": {
     "duration": 0.088819,
     "end_time": "2023-03-08T13:16:59.373722",
     "exception": false,
     "start_time": "2023-03-08T13:16:59.284903",
     "status": "completed"
    },
    "tags": []
   },
   "outputs": [],
   "source": [
    "acc = accuracy_score(y_test, y_pred)\n",
    "pre = precision_score(y_test, y_pred, average=avg_par)\n",
    "rec = recall_score(y_test, y_pred, average=avg_par)\n",
    "f1 = f1_score(y_test, y_pred, average=avg_par)\n",
    "\n",
    "metrics_data['Shapelets']['LightGBM'] = {'Accuracy': acc, 'Precision': pre, 'Recall': rec, 'F1': f1}"
   ]
  },
  {
   "cell_type": "markdown",
   "id": "0809af9f",
   "metadata": {
    "papermill": {
     "duration": 0.030203,
     "end_time": "2023-03-08T13:16:59.433515",
     "exception": false,
     "start_time": "2023-03-08T13:16:59.403312",
     "status": "completed"
    },
    "tags": []
   },
   "source": [
    "#### KNN"
   ]
  },
  {
   "cell_type": "code",
   "execution_count": 55,
   "id": "1c9237e0",
   "metadata": {
    "execution": {
     "iopub.execute_input": "2023-03-08T13:16:59.468443Z",
     "iopub.status.busy": "2023-03-08T13:16:59.468172Z",
     "iopub.status.idle": "2023-03-08T13:16:59.472706Z",
     "shell.execute_reply": "2023-03-08T13:16:59.471867Z"
    },
    "papermill": {
     "duration": 0.021081,
     "end_time": "2023-03-08T13:16:59.474345",
     "exception": false,
     "start_time": "2023-03-08T13:16:59.453264",
     "status": "completed"
    },
    "tags": []
   },
   "outputs": [],
   "source": [
    "X_train = ts_train.reshape((ts_train.shape[0], ts_train.shape[1]))\n",
    "X_test = ts_test.reshape((ts_test.shape[0], ts_test.shape[1]))"
   ]
  },
  {
   "cell_type": "code",
   "execution_count": 56,
   "id": "192f3c3f",
   "metadata": {
    "execution": {
     "iopub.execute_input": "2023-03-08T13:16:59.504594Z",
     "iopub.status.busy": "2023-03-08T13:16:59.504311Z",
     "iopub.status.idle": "2023-03-08T13:16:59.510068Z",
     "shell.execute_reply": "2023-03-08T13:16:59.509207Z"
    },
    "papermill": {
     "duration": 0.022851,
     "end_time": "2023-03-08T13:16:59.511720",
     "exception": false,
     "start_time": "2023-03-08T13:16:59.488869",
     "status": "completed"
    },
    "tags": []
   },
   "outputs": [
    {
     "data": {
      "text/plain": [
       "(6009, 100)"
      ]
     },
     "execution_count": 56,
     "metadata": {},
     "output_type": "execute_result"
    }
   ],
   "source": [
    "X_train.shape"
   ]
  },
  {
   "cell_type": "code",
   "execution_count": 57,
   "id": "de0e5000",
   "metadata": {
    "execution": {
     "iopub.execute_input": "2023-03-08T13:16:59.542664Z",
     "iopub.status.busy": "2023-03-08T13:16:59.542371Z",
     "iopub.status.idle": "2023-03-08T13:16:59.547136Z",
     "shell.execute_reply": "2023-03-08T13:16:59.545909Z"
    },
    "papermill": {
     "duration": 0.022625,
     "end_time": "2023-03-08T13:16:59.548945",
     "exception": false,
     "start_time": "2023-03-08T13:16:59.526320",
     "status": "completed"
    },
    "tags": []
   },
   "outputs": [],
   "source": [
    "metrics_data['KNN'] = {}"
   ]
  },
  {
   "cell_type": "markdown",
   "id": "8ee39c05",
   "metadata": {
    "papermill": {
     "duration": 0.014608,
     "end_time": "2023-03-08T13:16:59.578130",
     "exception": false,
     "start_time": "2023-03-08T13:16:59.563522",
     "status": "completed"
    },
    "tags": []
   },
   "source": [
    "**Euclidean Distance**"
   ]
  },
  {
   "cell_type": "code",
   "execution_count": 58,
   "id": "55db1f58",
   "metadata": {
    "execution": {
     "iopub.execute_input": "2023-03-08T13:16:59.610352Z",
     "iopub.status.busy": "2023-03-08T13:16:59.609888Z",
     "iopub.status.idle": "2023-03-08T13:16:59.615286Z",
     "shell.execute_reply": "2023-03-08T13:16:59.614163Z"
    },
    "papermill": {
     "duration": 0.023755,
     "end_time": "2023-03-08T13:16:59.616965",
     "exception": false,
     "start_time": "2023-03-08T13:16:59.593210",
     "status": "completed"
    },
    "tags": []
   },
   "outputs": [],
   "source": [
    "from sklearn.neighbors import KNeighborsClassifier"
   ]
  },
  {
   "cell_type": "code",
   "execution_count": 59,
   "id": "132c2537",
   "metadata": {
    "execution": {
     "iopub.execute_input": "2023-03-08T13:16:59.648386Z",
     "iopub.status.busy": "2023-03-08T13:16:59.647927Z",
     "iopub.status.idle": "2023-03-08T13:16:59.669224Z",
     "shell.execute_reply": "2023-03-08T13:16:59.668059Z"
    },
    "papermill": {
     "duration": 0.039668,
     "end_time": "2023-03-08T13:16:59.671296",
     "exception": false,
     "start_time": "2023-03-08T13:16:59.631628",
     "status": "completed"
    },
    "tags": []
   },
   "outputs": [
    {
     "data": {
      "text/html": [
       "<style>#sk-container-id-8 {color: black;background-color: white;}#sk-container-id-8 pre{padding: 0;}#sk-container-id-8 div.sk-toggleable {background-color: white;}#sk-container-id-8 label.sk-toggleable__label {cursor: pointer;display: block;width: 100%;margin-bottom: 0;padding: 0.3em;box-sizing: border-box;text-align: center;}#sk-container-id-8 label.sk-toggleable__label-arrow:before {content: \"▸\";float: left;margin-right: 0.25em;color: #696969;}#sk-container-id-8 label.sk-toggleable__label-arrow:hover:before {color: black;}#sk-container-id-8 div.sk-estimator:hover label.sk-toggleable__label-arrow:before {color: black;}#sk-container-id-8 div.sk-toggleable__content {max-height: 0;max-width: 0;overflow: hidden;text-align: left;background-color: #f0f8ff;}#sk-container-id-8 div.sk-toggleable__content pre {margin: 0.2em;color: black;border-radius: 0.25em;background-color: #f0f8ff;}#sk-container-id-8 input.sk-toggleable__control:checked~div.sk-toggleable__content {max-height: 200px;max-width: 100%;overflow: auto;}#sk-container-id-8 input.sk-toggleable__control:checked~label.sk-toggleable__label-arrow:before {content: \"▾\";}#sk-container-id-8 div.sk-estimator input.sk-toggleable__control:checked~label.sk-toggleable__label {background-color: #d4ebff;}#sk-container-id-8 div.sk-label input.sk-toggleable__control:checked~label.sk-toggleable__label {background-color: #d4ebff;}#sk-container-id-8 input.sk-hidden--visually {border: 0;clip: rect(1px 1px 1px 1px);clip: rect(1px, 1px, 1px, 1px);height: 1px;margin: -1px;overflow: hidden;padding: 0;position: absolute;width: 1px;}#sk-container-id-8 div.sk-estimator {font-family: monospace;background-color: #f0f8ff;border: 1px dotted black;border-radius: 0.25em;box-sizing: border-box;margin-bottom: 0.5em;}#sk-container-id-8 div.sk-estimator:hover {background-color: #d4ebff;}#sk-container-id-8 div.sk-parallel-item::after {content: \"\";width: 100%;border-bottom: 1px solid gray;flex-grow: 1;}#sk-container-id-8 div.sk-label:hover label.sk-toggleable__label {background-color: #d4ebff;}#sk-container-id-8 div.sk-serial::before {content: \"\";position: absolute;border-left: 1px solid gray;box-sizing: border-box;top: 0;bottom: 0;left: 50%;z-index: 0;}#sk-container-id-8 div.sk-serial {display: flex;flex-direction: column;align-items: center;background-color: white;padding-right: 0.2em;padding-left: 0.2em;position: relative;}#sk-container-id-8 div.sk-item {position: relative;z-index: 1;}#sk-container-id-8 div.sk-parallel {display: flex;align-items: stretch;justify-content: center;background-color: white;position: relative;}#sk-container-id-8 div.sk-item::before, #sk-container-id-8 div.sk-parallel-item::before {content: \"\";position: absolute;border-left: 1px solid gray;box-sizing: border-box;top: 0;bottom: 0;left: 50%;z-index: -1;}#sk-container-id-8 div.sk-parallel-item {display: flex;flex-direction: column;z-index: 1;position: relative;background-color: white;}#sk-container-id-8 div.sk-parallel-item:first-child::after {align-self: flex-end;width: 50%;}#sk-container-id-8 div.sk-parallel-item:last-child::after {align-self: flex-start;width: 50%;}#sk-container-id-8 div.sk-parallel-item:only-child::after {width: 0;}#sk-container-id-8 div.sk-dashed-wrapped {border: 1px dashed gray;margin: 0 0.4em 0.5em 0.4em;box-sizing: border-box;padding-bottom: 0.4em;background-color: white;}#sk-container-id-8 div.sk-label label {font-family: monospace;font-weight: bold;display: inline-block;line-height: 1.2em;}#sk-container-id-8 div.sk-label-container {text-align: center;}#sk-container-id-8 div.sk-container {/* jupyter's `normalize.less` sets `[hidden] { display: none; }` but bootstrap.min.css set `[hidden] { display: none !important; }` so we also need the `!important` here to be able to override the default hidden behavior on the sphinx rendered scikit-learn.org. See: https://github.com/scikit-learn/scikit-learn/issues/21755 */display: inline-block !important;position: relative;}#sk-container-id-8 div.sk-text-repr-fallback {display: none;}</style><div id=\"sk-container-id-8\" class=\"sk-top-container\"><div class=\"sk-text-repr-fallback\"><pre>KNeighborsClassifier()</pre><b>In a Jupyter environment, please rerun this cell to show the HTML representation or trust the notebook. <br />On GitHub, the HTML representation is unable to render, please try loading this page with nbviewer.org.</b></div><div class=\"sk-container\" hidden><div class=\"sk-item\"><div class=\"sk-estimator sk-toggleable\"><input class=\"sk-toggleable__control sk-hidden--visually\" id=\"sk-estimator-id-8\" type=\"checkbox\" checked><label for=\"sk-estimator-id-8\" class=\"sk-toggleable__label sk-toggleable__label-arrow\">KNeighborsClassifier</label><div class=\"sk-toggleable__content\"><pre>KNeighborsClassifier()</pre></div></div></div></div></div>"
      ],
      "text/plain": [
       "KNeighborsClassifier()"
      ]
     },
     "execution_count": 59,
     "metadata": {},
     "output_type": "execute_result"
    }
   ],
   "source": [
    "clf = KNeighborsClassifier(n_neighbors=5, weights='uniform')\n",
    "clf.fit(X_train, y_train)"
   ]
  },
  {
   "cell_type": "code",
   "execution_count": 60,
   "id": "0afad62a",
   "metadata": {
    "execution": {
     "iopub.execute_input": "2023-03-08T13:16:59.705060Z",
     "iopub.status.busy": "2023-03-08T13:16:59.704581Z",
     "iopub.status.idle": "2023-03-08T13:17:00.030152Z",
     "shell.execute_reply": "2023-03-08T13:17:00.029202Z"
    },
    "papermill": {
     "duration": 0.343394,
     "end_time": "2023-03-08T13:17:00.032175",
     "exception": false,
     "start_time": "2023-03-08T13:16:59.688781",
     "status": "completed"
    },
    "tags": []
   },
   "outputs": [
    {
     "name": "stdout",
     "output_type": "stream",
     "text": [
      "                                           precision    recall  f1-score   support\n",
      "\n",
      "                    action_thriller_crime       0.23      0.24      0.23       306\n",
      "                                   comedy       0.30      0.39      0.34       404\n",
      "                                    drama       0.34      0.42      0.38       494\n",
      "horror_scifi_mystery_supernatural_fantasy       0.20      0.04      0.06       299\n",
      "\n",
      "                                 accuracy                           0.30      1503\n",
      "                                macro avg       0.27      0.27      0.25      1503\n",
      "                             weighted avg       0.28      0.30      0.28      1503\n",
      "\n"
     ]
    }
   ],
   "source": [
    "y_pred = clf.predict(X_test)\n",
    "print(classification_report(y_test, y_pred))"
   ]
  },
  {
   "cell_type": "code",
   "execution_count": 61,
   "id": "2d709070",
   "metadata": {
    "execution": {
     "iopub.execute_input": "2023-03-08T13:17:00.066346Z",
     "iopub.status.busy": "2023-03-08T13:17:00.065972Z",
     "iopub.status.idle": "2023-03-08T13:17:00.125208Z",
     "shell.execute_reply": "2023-03-08T13:17:00.124403Z"
    },
    "papermill": {
     "duration": 0.077889,
     "end_time": "2023-03-08T13:17:00.127738",
     "exception": false,
     "start_time": "2023-03-08T13:17:00.049849",
     "status": "completed"
    },
    "tags": []
   },
   "outputs": [],
   "source": [
    "acc = accuracy_score(y_test, y_pred)\n",
    "pre = precision_score(y_test, y_pred, average=avg_par)\n",
    "rec = recall_score(y_test, y_pred, average=avg_par)\n",
    "f1 = f1_score(y_test, y_pred, average=avg_par)\n",
    "\n",
    "metrics_data['KNN']['Euclidean'] = {'Accuracy': acc, 'Precision': pre, 'Recall': rec, 'F1': f1}"
   ]
  },
  {
   "cell_type": "markdown",
   "id": "c5ec2a09",
   "metadata": {
    "papermill": {
     "duration": 0.035117,
     "end_time": "2023-03-08T13:17:00.203162",
     "exception": false,
     "start_time": "2023-03-08T13:17:00.168045",
     "status": "completed"
    },
    "tags": []
   },
   "source": [
    "**Dynamic Time Warping**"
   ]
  },
  {
   "cell_type": "code",
   "execution_count": 62,
   "id": "2df913d8",
   "metadata": {
    "execution": {
     "iopub.execute_input": "2023-03-08T13:17:00.233656Z",
     "iopub.status.busy": "2023-03-08T13:17:00.233337Z",
     "iopub.status.idle": "2023-03-08T13:17:00.326344Z",
     "shell.execute_reply": "2023-03-08T13:17:00.325541Z"
    },
    "papermill": {
     "duration": 0.11094,
     "end_time": "2023-03-08T13:17:00.328585",
     "exception": false,
     "start_time": "2023-03-08T13:17:00.217645",
     "status": "completed"
    },
    "tags": []
   },
   "outputs": [],
   "source": [
    "from pyts.classification import KNeighborsClassifier\n",
    "from pyts.approximation import PiecewiseAggregateApproximation\n",
    "from imblearn.under_sampling import ClusterCentroids\n",
    "from sklearn_extra.cluster import KMedoids"
   ]
  },
  {
   "cell_type": "code",
   "execution_count": 63,
   "id": "db1604ec",
   "metadata": {
    "execution": {
     "iopub.execute_input": "2023-03-08T13:17:00.362556Z",
     "iopub.status.busy": "2023-03-08T13:17:00.362130Z",
     "iopub.status.idle": "2023-03-08T13:17:00.367072Z",
     "shell.execute_reply": "2023-03-08T13:17:00.366179Z"
    },
    "papermill": {
     "duration": 0.022452,
     "end_time": "2023-03-08T13:17:00.368670",
     "exception": false,
     "start_time": "2023-03-08T13:17:00.346218",
     "status": "completed"
    },
    "tags": []
   },
   "outputs": [],
   "source": [
    "if paa_window_size:\n",
    "    paa = PiecewiseAggregateApproximation(window_size=paa_window_size)\n",
    "    X_train = paa.transform(X_train)\n",
    "    X_test = paa.transform(X_test)\n",
    "    X_train.shape"
   ]
  },
  {
   "cell_type": "code",
   "execution_count": 64,
   "id": "59fa27aa",
   "metadata": {
    "execution": {
     "iopub.execute_input": "2023-03-08T13:17:00.399561Z",
     "iopub.status.busy": "2023-03-08T13:17:00.399265Z",
     "iopub.status.idle": "2023-03-08T13:17:00.407103Z",
     "shell.execute_reply": "2023-03-08T13:17:00.405969Z"
    },
    "papermill": {
     "duration": 0.025672,
     "end_time": "2023-03-08T13:17:00.408915",
     "exception": false,
     "start_time": "2023-03-08T13:17:00.383243",
     "status": "completed"
    },
    "tags": []
   },
   "outputs": [],
   "source": [
    "if undersampling:\n",
    "    total_samples = len(y_train)\n",
    "    unique_classes, class_counts = np.unique(y_train, return_counts=True)\n",
    "    samp_strat = dict(zip(unique_classes, np.floor(class_counts * undersampling).astype(int)))\n",
    "    print(samp_strat)\n",
    "    cc = ClusterCentroids(estimator=KMedoids(\n",
    "        random_state=42), sampling_strategy=samp_strat, random_state=42)\n",
    "    X_train, y_train = cc.fit_resample(X_train, y_train)\n",
    "    X_train.shape"
   ]
  },
  {
   "cell_type": "code",
   "execution_count": 65,
   "id": "e7ac6b44",
   "metadata": {
    "execution": {
     "iopub.execute_input": "2023-03-08T13:17:00.440478Z",
     "iopub.status.busy": "2023-03-08T13:17:00.440020Z",
     "iopub.status.idle": "2023-03-08T13:17:00.464826Z",
     "shell.execute_reply": "2023-03-08T13:17:00.463663Z"
    },
    "papermill": {
     "duration": 0.043278,
     "end_time": "2023-03-08T13:17:00.466876",
     "exception": false,
     "start_time": "2023-03-08T13:17:00.423598",
     "status": "completed"
    },
    "tags": []
   },
   "outputs": [
    {
     "data": {
      "text/html": [
       "<style>#sk-container-id-9 {color: black;background-color: white;}#sk-container-id-9 pre{padding: 0;}#sk-container-id-9 div.sk-toggleable {background-color: white;}#sk-container-id-9 label.sk-toggleable__label {cursor: pointer;display: block;width: 100%;margin-bottom: 0;padding: 0.3em;box-sizing: border-box;text-align: center;}#sk-container-id-9 label.sk-toggleable__label-arrow:before {content: \"▸\";float: left;margin-right: 0.25em;color: #696969;}#sk-container-id-9 label.sk-toggleable__label-arrow:hover:before {color: black;}#sk-container-id-9 div.sk-estimator:hover label.sk-toggleable__label-arrow:before {color: black;}#sk-container-id-9 div.sk-toggleable__content {max-height: 0;max-width: 0;overflow: hidden;text-align: left;background-color: #f0f8ff;}#sk-container-id-9 div.sk-toggleable__content pre {margin: 0.2em;color: black;border-radius: 0.25em;background-color: #f0f8ff;}#sk-container-id-9 input.sk-toggleable__control:checked~div.sk-toggleable__content {max-height: 200px;max-width: 100%;overflow: auto;}#sk-container-id-9 input.sk-toggleable__control:checked~label.sk-toggleable__label-arrow:before {content: \"▾\";}#sk-container-id-9 div.sk-estimator input.sk-toggleable__control:checked~label.sk-toggleable__label {background-color: #d4ebff;}#sk-container-id-9 div.sk-label input.sk-toggleable__control:checked~label.sk-toggleable__label {background-color: #d4ebff;}#sk-container-id-9 input.sk-hidden--visually {border: 0;clip: rect(1px 1px 1px 1px);clip: rect(1px, 1px, 1px, 1px);height: 1px;margin: -1px;overflow: hidden;padding: 0;position: absolute;width: 1px;}#sk-container-id-9 div.sk-estimator {font-family: monospace;background-color: #f0f8ff;border: 1px dotted black;border-radius: 0.25em;box-sizing: border-box;margin-bottom: 0.5em;}#sk-container-id-9 div.sk-estimator:hover {background-color: #d4ebff;}#sk-container-id-9 div.sk-parallel-item::after {content: \"\";width: 100%;border-bottom: 1px solid gray;flex-grow: 1;}#sk-container-id-9 div.sk-label:hover label.sk-toggleable__label {background-color: #d4ebff;}#sk-container-id-9 div.sk-serial::before {content: \"\";position: absolute;border-left: 1px solid gray;box-sizing: border-box;top: 0;bottom: 0;left: 50%;z-index: 0;}#sk-container-id-9 div.sk-serial {display: flex;flex-direction: column;align-items: center;background-color: white;padding-right: 0.2em;padding-left: 0.2em;position: relative;}#sk-container-id-9 div.sk-item {position: relative;z-index: 1;}#sk-container-id-9 div.sk-parallel {display: flex;align-items: stretch;justify-content: center;background-color: white;position: relative;}#sk-container-id-9 div.sk-item::before, #sk-container-id-9 div.sk-parallel-item::before {content: \"\";position: absolute;border-left: 1px solid gray;box-sizing: border-box;top: 0;bottom: 0;left: 50%;z-index: -1;}#sk-container-id-9 div.sk-parallel-item {display: flex;flex-direction: column;z-index: 1;position: relative;background-color: white;}#sk-container-id-9 div.sk-parallel-item:first-child::after {align-self: flex-end;width: 50%;}#sk-container-id-9 div.sk-parallel-item:last-child::after {align-self: flex-start;width: 50%;}#sk-container-id-9 div.sk-parallel-item:only-child::after {width: 0;}#sk-container-id-9 div.sk-dashed-wrapped {border: 1px dashed gray;margin: 0 0.4em 0.5em 0.4em;box-sizing: border-box;padding-bottom: 0.4em;background-color: white;}#sk-container-id-9 div.sk-label label {font-family: monospace;font-weight: bold;display: inline-block;line-height: 1.2em;}#sk-container-id-9 div.sk-label-container {text-align: center;}#sk-container-id-9 div.sk-container {/* jupyter's `normalize.less` sets `[hidden] { display: none; }` but bootstrap.min.css set `[hidden] { display: none !important; }` so we also need the `!important` here to be able to override the default hidden behavior on the sphinx rendered scikit-learn.org. See: https://github.com/scikit-learn/scikit-learn/issues/21755 */display: inline-block !important;position: relative;}#sk-container-id-9 div.sk-text-repr-fallback {display: none;}</style><div id=\"sk-container-id-9\" class=\"sk-top-container\"><div class=\"sk-text-repr-fallback\"><pre>KNeighborsClassifier(metric=&#x27;dtw_sakoechiba&#x27;, metric_params={&#x27;window_size&#x27;: 3})</pre><b>In a Jupyter environment, please rerun this cell to show the HTML representation or trust the notebook. <br />On GitHub, the HTML representation is unable to render, please try loading this page with nbviewer.org.</b></div><div class=\"sk-container\" hidden><div class=\"sk-item\"><div class=\"sk-estimator sk-toggleable\"><input class=\"sk-toggleable__control sk-hidden--visually\" id=\"sk-estimator-id-9\" type=\"checkbox\" checked><label for=\"sk-estimator-id-9\" class=\"sk-toggleable__label sk-toggleable__label-arrow\">KNeighborsClassifier</label><div class=\"sk-toggleable__content\"><pre>KNeighborsClassifier(metric=&#x27;dtw_sakoechiba&#x27;, metric_params={&#x27;window_size&#x27;: 3})</pre></div></div></div></div></div>"
      ],
      "text/plain": [
       "KNeighborsClassifier(metric='dtw_sakoechiba', metric_params={'window_size': 3})"
      ]
     },
     "execution_count": 65,
     "metadata": {},
     "output_type": "execute_result"
    }
   ],
   "source": [
    "clf = KNeighborsClassifier(metric='dtw_sakoechiba',  metric_params={'window_size':3})\n",
    "\n",
    "clf.fit(X_train, y_train)"
   ]
  },
  {
   "cell_type": "code",
   "execution_count": 66,
   "id": "8109d19d",
   "metadata": {
    "execution": {
     "iopub.execute_input": "2023-03-08T13:17:00.500431Z",
     "iopub.status.busy": "2023-03-08T13:17:00.499966Z",
     "iopub.status.idle": "2023-03-08T13:44:00.432756Z",
     "shell.execute_reply": "2023-03-08T13:44:00.431799Z"
    },
    "papermill": {
     "duration": 1619.992788,
     "end_time": "2023-03-08T13:44:00.476725",
     "exception": false,
     "start_time": "2023-03-08T13:17:00.483937",
     "status": "completed"
    },
    "tags": []
   },
   "outputs": [
    {
     "name": "stdout",
     "output_type": "stream",
     "text": [
      "                                           precision    recall  f1-score   support\n",
      "\n",
      "                    action_thriller_crime       0.23      0.25      0.24       306\n",
      "                                   comedy       0.28      0.28      0.28       404\n",
      "                                    drama       0.31      0.32      0.32       494\n",
      "horror_scifi_mystery_supernatural_fantasy       0.22      0.19      0.21       299\n",
      "\n",
      "                                 accuracy                           0.27      1503\n",
      "                                macro avg       0.26      0.26      0.26      1503\n",
      "                             weighted avg       0.27      0.27      0.27      1503\n",
      "\n",
      "CPU times: user 27min, sys: 44 ms, total: 27min\n",
      "Wall time: 26min 59s\n"
     ]
    }
   ],
   "source": [
    "%%time\n",
    "y_pred = clf.predict(X_test)\n",
    "print(classification_report(y_test, y_pred))"
   ]
  },
  {
   "cell_type": "code",
   "execution_count": 67,
   "id": "b09f5cdf",
   "metadata": {
    "execution": {
     "iopub.execute_input": "2023-03-08T13:44:00.533247Z",
     "iopub.status.busy": "2023-03-08T13:44:00.532918Z",
     "iopub.status.idle": "2023-03-08T13:44:00.602099Z",
     "shell.execute_reply": "2023-03-08T13:44:00.600760Z"
    },
    "papermill": {
     "duration": 0.088541,
     "end_time": "2023-03-08T13:44:00.605468",
     "exception": false,
     "start_time": "2023-03-08T13:44:00.516927",
     "status": "completed"
    },
    "tags": []
   },
   "outputs": [],
   "source": [
    "acc = accuracy_score(y_test, y_pred)\n",
    "pre = precision_score(y_test, y_pred, average=avg_par)\n",
    "rec = recall_score(y_test, y_pred, average=avg_par)\n",
    "f1 = f1_score(y_test, y_pred, average=avg_par)\n",
    "\n",
    "metrics_data['KNN']['DTW'] = {'Accuracy': acc, 'Precision': pre, 'Recall': rec, 'F1': f1}"
   ]
  },
  {
   "cell_type": "markdown",
   "id": "e0e700a7",
   "metadata": {
    "papermill": {
     "duration": 0.033875,
     "end_time": "2023-03-08T13:44:00.678635",
     "exception": false,
     "start_time": "2023-03-08T13:44:00.644760",
     "status": "completed"
    },
    "tags": []
   },
   "source": [
    "## Overall Results"
   ]
  },
  {
   "cell_type": "code",
   "execution_count": 68,
   "id": "d003c193",
   "metadata": {
    "execution": {
     "iopub.execute_input": "2023-03-08T13:44:00.712394Z",
     "iopub.status.busy": "2023-03-08T13:44:00.711652Z",
     "iopub.status.idle": "2023-03-08T13:44:00.721975Z",
     "shell.execute_reply": "2023-03-08T13:44:00.720720Z"
    },
    "papermill": {
     "duration": 0.030361,
     "end_time": "2023-03-08T13:44:00.724064",
     "exception": false,
     "start_time": "2023-03-08T13:44:00.693703",
     "status": "completed"
    },
    "tags": []
   },
   "outputs": [],
   "source": [
    "metrics_data = pd.DataFrame.from_dict({(i,j): metrics_data[i][j] \n",
    "                                       for i in metrics_data.keys() \n",
    "                                       for j in metrics_data[i].keys()},\n",
    "                                       orient='index')"
   ]
  },
  {
   "cell_type": "code",
   "execution_count": 69,
   "id": "0944fe84",
   "metadata": {
    "execution": {
     "iopub.execute_input": "2023-03-08T13:44:00.756239Z",
     "iopub.status.busy": "2023-03-08T13:44:00.755449Z",
     "iopub.status.idle": "2023-03-08T13:44:00.827661Z",
     "shell.execute_reply": "2023-03-08T13:44:00.826343Z"
    },
    "papermill": {
     "duration": 0.092017,
     "end_time": "2023-03-08T13:44:00.831281",
     "exception": false,
     "start_time": "2023-03-08T13:44:00.739264",
     "status": "completed"
    },
    "tags": []
   },
   "outputs": [],
   "source": [
    "acc = accuracy_score(y_test, y_pred)\n",
    "pre = precision_score(y_test, y_pred, average=avg_par)\n",
    "rec = recall_score(y_test, y_pred, average=avg_par)\n",
    "f1 = f1_score(y_test, y_pred, average=avg_par)"
   ]
  },
  {
   "cell_type": "code",
   "execution_count": 70,
   "id": "7ee1b347",
   "metadata": {
    "execution": {
     "iopub.execute_input": "2023-03-08T13:44:00.904599Z",
     "iopub.status.busy": "2023-03-08T13:44:00.903994Z",
     "iopub.status.idle": "2023-03-08T13:44:00.923317Z",
     "shell.execute_reply": "2023-03-08T13:44:00.921764Z"
    },
    "papermill": {
     "duration": 0.056846,
     "end_time": "2023-03-08T13:44:00.926033",
     "exception": false,
     "start_time": "2023-03-08T13:44:00.869187",
     "status": "completed"
    },
    "tags": []
   },
   "outputs": [
    {
     "data": {
      "text/html": [
       "<div>\n",
       "<style scoped>\n",
       "    .dataframe tbody tr th:only-of-type {\n",
       "        vertical-align: middle;\n",
       "    }\n",
       "\n",
       "    .dataframe tbody tr th {\n",
       "        vertical-align: top;\n",
       "    }\n",
       "\n",
       "    .dataframe thead th {\n",
       "        text-align: right;\n",
       "    }\n",
       "</style>\n",
       "<table border=\"1\" class=\"dataframe\">\n",
       "  <thead>\n",
       "    <tr style=\"text-align: right;\">\n",
       "      <th></th>\n",
       "      <th></th>\n",
       "      <th>Accuracy</th>\n",
       "      <th>Precision</th>\n",
       "      <th>Recall</th>\n",
       "      <th>F1</th>\n",
       "    </tr>\n",
       "  </thead>\n",
       "  <tbody>\n",
       "    <tr>\n",
       "      <th rowspan=\"3\" valign=\"top\">Global</th>\n",
       "      <th>DecisionTree</th>\n",
       "      <td>0.316035</td>\n",
       "      <td>0.306720</td>\n",
       "      <td>0.306330</td>\n",
       "      <td>0.306502</td>\n",
       "    </tr>\n",
       "    <tr>\n",
       "      <th>RandomForest</th>\n",
       "      <td>0.392548</td>\n",
       "      <td>0.399835</td>\n",
       "      <td>0.362796</td>\n",
       "      <td>0.357011</td>\n",
       "    </tr>\n",
       "    <tr>\n",
       "      <th>LightGBM</th>\n",
       "      <td>0.385895</td>\n",
       "      <td>0.380933</td>\n",
       "      <td>0.363424</td>\n",
       "      <td>0.362508</td>\n",
       "    </tr>\n",
       "    <tr>\n",
       "      <th rowspan=\"3\" valign=\"top\">Shapelets</th>\n",
       "      <th>DecisionTree</th>\n",
       "      <td>0.274118</td>\n",
       "      <td>0.267981</td>\n",
       "      <td>0.267561</td>\n",
       "      <td>0.267573</td>\n",
       "    </tr>\n",
       "    <tr>\n",
       "      <th>RandomForest</th>\n",
       "      <td>0.316700</td>\n",
       "      <td>0.307596</td>\n",
       "      <td>0.280139</td>\n",
       "      <td>0.267235</td>\n",
       "    </tr>\n",
       "    <tr>\n",
       "      <th>LightGBM</th>\n",
       "      <td>0.311377</td>\n",
       "      <td>0.288416</td>\n",
       "      <td>0.277497</td>\n",
       "      <td>0.266965</td>\n",
       "    </tr>\n",
       "    <tr>\n",
       "      <th rowspan=\"2\" valign=\"top\">KNN</th>\n",
       "      <th>Euclidean</th>\n",
       "      <td>0.299401</td>\n",
       "      <td>0.268243</td>\n",
       "      <td>0.271675</td>\n",
       "      <td>0.253449</td>\n",
       "    </tr>\n",
       "    <tr>\n",
       "      <th>DTW</th>\n",
       "      <td>0.269461</td>\n",
       "      <td>0.260964</td>\n",
       "      <td>0.260764</td>\n",
       "      <td>0.260365</td>\n",
       "    </tr>\n",
       "  </tbody>\n",
       "</table>\n",
       "</div>"
      ],
      "text/plain": [
       "                        Accuracy  Precision    Recall        F1\n",
       "Global    DecisionTree  0.316035   0.306720  0.306330  0.306502\n",
       "          RandomForest  0.392548   0.399835  0.362796  0.357011\n",
       "          LightGBM      0.385895   0.380933  0.363424  0.362508\n",
       "Shapelets DecisionTree  0.274118   0.267981  0.267561  0.267573\n",
       "          RandomForest  0.316700   0.307596  0.280139  0.267235\n",
       "          LightGBM      0.311377   0.288416  0.277497  0.266965\n",
       "KNN       Euclidean     0.299401   0.268243  0.271675  0.253449\n",
       "          DTW           0.269461   0.260964  0.260764  0.260365"
      ]
     },
     "execution_count": 70,
     "metadata": {},
     "output_type": "execute_result"
    }
   ],
   "source": [
    "metrics_data"
   ]
  },
  {
   "cell_type": "code",
   "execution_count": 71,
   "id": "3efc173e",
   "metadata": {
    "execution": {
     "iopub.execute_input": "2023-03-08T13:44:00.977021Z",
     "iopub.status.busy": "2023-03-08T13:44:00.976105Z",
     "iopub.status.idle": "2023-03-08T13:44:00.986440Z",
     "shell.execute_reply": "2023-03-08T13:44:00.984991Z"
    },
    "papermill": {
     "duration": 0.029554,
     "end_time": "2023-03-08T13:44:00.988566",
     "exception": false,
     "start_time": "2023-03-08T13:44:00.959012",
     "status": "completed"
    },
    "tags": []
   },
   "outputs": [],
   "source": [
    "metrics_data.to_csv(f'{data_path}/metrics.csv')"
   ]
  },
  {
   "cell_type": "code",
   "execution_count": null,
   "id": "d21f5304",
   "metadata": {
    "papermill": {
     "duration": 0.014794,
     "end_time": "2023-03-08T13:44:01.019331",
     "exception": false,
     "start_time": "2023-03-08T13:44:01.004537",
     "status": "completed"
    },
    "tags": []
   },
   "outputs": [],
   "source": []
  }
 ],
 "metadata": {
  "celltoolbar": "Tags",
  "kernelspec": {
   "display_name": "Python 3 (ipykernel)",
   "language": "python",
   "name": "python3"
  },
  "language_info": {
   "codemirror_mode": {
    "name": "ipython",
    "version": 3
   },
   "file_extension": ".py",
   "mimetype": "text/x-python",
   "name": "python",
   "nbconvert_exporter": "python",
   "pygments_lexer": "ipython3",
   "version": "3.9.16"
  },
  "papermill": {
   "default_parameters": {},
   "duration": 2178.581628,
   "end_time": "2023-03-08T13:44:04.557436",
   "environment_variables": {},
   "exception": null,
   "input_path": "09_ts_classification.ipynb",
   "output_path": "../clf-reports/movie-plots_features.ipynb",
   "parameters": {
    "data_path": "/home/mattiapggioli/lyrics2ts/data/classification/movie-plots/features/"
   },
   "start_time": "2023-03-08T13:07:45.975808",
   "version": "2.4.0"
  },
  "vscode": {
   "interpreter": {
    "hash": "eb8d1ded7c87c6f9c253b40add648304d6b51d2e38393955e855effc7e6f899a"
   }
  }
 },
 "nbformat": 4,
 "nbformat_minor": 5
}