{
 "cells": [
  {
   "cell_type": "markdown",
   "id": "d79a68c5",
   "metadata": {
    "papermill": {
     "duration": 0.029474,
     "end_time": "2023-03-20T12:45:53.844974",
     "exception": false,
     "start_time": "2023-03-20T12:45:53.815500",
     "status": "completed"
    },
    "tags": []
   },
   "source": [
    "# Time Series Classification"
   ]
  },
  {
   "cell_type": "code",
   "execution_count": 1,
   "id": "8a0cb2b0",
   "metadata": {
    "execution": {
     "iopub.execute_input": "2023-03-20T12:45:53.872621Z",
     "iopub.status.busy": "2023-03-20T12:45:53.872001Z",
     "iopub.status.idle": "2023-03-20T12:45:55.191427Z",
     "shell.execute_reply": "2023-03-20T12:45:55.190794Z"
    },
    "papermill": {
     "duration": 1.335272,
     "end_time": "2023-03-20T12:45:55.194192",
     "exception": false,
     "start_time": "2023-03-20T12:45:53.858920",
     "status": "completed"
    },
    "tags": []
   },
   "outputs": [],
   "source": [
    "%matplotlib inline\n",
    "import pandas as pd\n",
    "import numpy as np\n",
    "import matplotlib.pyplot as plt\n",
    "import seaborn as sns\n",
    "import re\n",
    "import os\n",
    "from sklearn.preprocessing import StandardScaler\n",
    "from sklearn.decomposition import PCA\n",
    "import joblib\n",
    "from tslearn.utils import to_time_series_dataset, save_time_series_txt, load_time_series_txt\n",
    "import random\n",
    "from sklearn.model_selection import train_test_split\n",
    "from sklearn.metrics import accuracy_score, f1_score, precision_score, recall_score, classification_report\n",
    "import pickle"
   ]
  },
  {
   "cell_type": "code",
   "execution_count": 2,
   "id": "acc03405",
   "metadata": {
    "execution": {
     "iopub.execute_input": "2023-03-20T12:45:55.261945Z",
     "iopub.status.busy": "2023-03-20T12:45:55.261481Z",
     "iopub.status.idle": "2023-03-20T12:45:55.267091Z",
     "shell.execute_reply": "2023-03-20T12:45:55.265523Z"
    },
    "papermill": {
     "duration": 0.042821,
     "end_time": "2023-03-20T12:45:55.271122",
     "exception": false,
     "start_time": "2023-03-20T12:45:55.228301",
     "status": "completed"
    },
    "tags": [
     "parameters"
    ]
   },
   "outputs": [],
   "source": [
    "data_path = '/home/mattiapggioli/lyrics2ts/data/classification/pp-rc/sbert/'\n",
    "truncate=100\n",
    "max_iter = 2000\n",
    "paa_window_size = None\n",
    "undersampling = None"
   ]
  },
  {
   "cell_type": "code",
   "execution_count": 3,
   "id": "398b7a8a",
   "metadata": {
    "execution": {
     "iopub.execute_input": "2023-03-20T12:45:55.308051Z",
     "iopub.status.busy": "2023-03-20T12:45:55.307792Z",
     "iopub.status.idle": "2023-03-20T12:45:55.311827Z",
     "shell.execute_reply": "2023-03-20T12:45:55.310787Z"
    },
    "papermill": {
     "duration": 0.016954,
     "end_time": "2023-03-20T12:45:55.313462",
     "exception": false,
     "start_time": "2023-03-20T12:45:55.296508",
     "status": "completed"
    },
    "tags": [
     "injected-parameters"
    ]
   },
   "outputs": [],
   "source": [
    "# Parameters\n",
    "data_path = \"/home/mattiapggioli/lyrics2ts/data/classification/movie-plots/features/\"\n"
   ]
  },
  {
   "cell_type": "code",
   "execution_count": 4,
   "id": "a4f0c774",
   "metadata": {
    "execution": {
     "iopub.execute_input": "2023-03-20T12:45:55.340138Z",
     "iopub.status.busy": "2023-03-20T12:45:55.339866Z",
     "iopub.status.idle": "2023-03-20T12:46:17.897020Z",
     "shell.execute_reply": "2023-03-20T12:46:17.896110Z"
    },
    "papermill": {
     "duration": 22.573747,
     "end_time": "2023-03-20T12:46:17.899967",
     "exception": false,
     "start_time": "2023-03-20T12:45:55.326220",
     "status": "completed"
    },
    "tags": []
   },
   "outputs": [],
   "source": [
    "ts = load_time_series_txt(f'{data_path}/ts.txt')"
   ]
  },
  {
   "cell_type": "code",
   "execution_count": 5,
   "id": "5c48d154",
   "metadata": {
    "execution": {
     "iopub.execute_input": "2023-03-20T12:46:17.959820Z",
     "iopub.status.busy": "2023-03-20T12:46:17.959499Z",
     "iopub.status.idle": "2023-03-20T12:46:17.967964Z",
     "shell.execute_reply": "2023-03-20T12:46:17.966612Z"
    },
    "papermill": {
     "duration": 0.040648,
     "end_time": "2023-03-20T12:46:17.970947",
     "exception": false,
     "start_time": "2023-03-20T12:46:17.930299",
     "status": "completed"
    },
    "tags": []
   },
   "outputs": [
    {
     "data": {
      "text/plain": [
       "(7512, 412, 1)"
      ]
     },
     "execution_count": 5,
     "metadata": {},
     "output_type": "execute_result"
    }
   ],
   "source": [
    "ts.shape"
   ]
  },
  {
   "cell_type": "code",
   "execution_count": 6,
   "id": "f6274d40",
   "metadata": {
    "execution": {
     "iopub.execute_input": "2023-03-20T12:46:17.998791Z",
     "iopub.status.busy": "2023-03-20T12:46:17.998317Z",
     "iopub.status.idle": "2023-03-20T12:46:18.005493Z",
     "shell.execute_reply": "2023-03-20T12:46:18.004534Z"
    },
    "papermill": {
     "duration": 0.023382,
     "end_time": "2023-03-20T12:46:18.007446",
     "exception": false,
     "start_time": "2023-03-20T12:46:17.984064",
     "status": "completed"
    },
    "tags": []
   },
   "outputs": [],
   "source": [
    "with open(f'{data_path}/y_class.npy', 'rb') as f:\n",
    "    y = np.load(f, allow_pickle=True)"
   ]
  },
  {
   "cell_type": "code",
   "execution_count": 7,
   "id": "9d42fa3b",
   "metadata": {
    "execution": {
     "iopub.execute_input": "2023-03-20T12:46:18.033760Z",
     "iopub.status.busy": "2023-03-20T12:46:18.033308Z",
     "iopub.status.idle": "2023-03-20T12:46:18.040750Z",
     "shell.execute_reply": "2023-03-20T12:46:18.039943Z"
    },
    "papermill": {
     "duration": 0.02262,
     "end_time": "2023-03-20T12:46:18.042472",
     "exception": false,
     "start_time": "2023-03-20T12:46:18.019852",
     "status": "completed"
    },
    "tags": []
   },
   "outputs": [],
   "source": [
    "with open(f'{data_path}/X.npy', 'rb') as f:\n",
    "    X = np.load(f, allow_pickle=True)"
   ]
  },
  {
   "cell_type": "code",
   "execution_count": 8,
   "id": "1158a9da",
   "metadata": {
    "execution": {
     "iopub.execute_input": "2023-03-20T12:46:18.068731Z",
     "iopub.status.busy": "2023-03-20T12:46:18.068308Z",
     "iopub.status.idle": "2023-03-20T12:46:18.074377Z",
     "shell.execute_reply": "2023-03-20T12:46:18.073601Z"
    },
    "papermill": {
     "duration": 0.021013,
     "end_time": "2023-03-20T12:46:18.075934",
     "exception": false,
     "start_time": "2023-03-20T12:46:18.054921",
     "status": "completed"
    },
    "tags": []
   },
   "outputs": [
    {
     "data": {
      "text/plain": [
       "(7512, 14)"
      ]
     },
     "execution_count": 8,
     "metadata": {},
     "output_type": "execute_result"
    }
   ],
   "source": [
    "X.shape"
   ]
  },
  {
   "cell_type": "code",
   "execution_count": 9,
   "id": "47239790",
   "metadata": {
    "execution": {
     "iopub.execute_input": "2023-03-20T12:46:18.102070Z",
     "iopub.status.busy": "2023-03-20T12:46:18.101643Z",
     "iopub.status.idle": "2023-03-20T12:46:18.109007Z",
     "shell.execute_reply": "2023-03-20T12:46:18.108212Z"
    },
    "papermill": {
     "duration": 0.024046,
     "end_time": "2023-03-20T12:46:18.110689",
     "exception": false,
     "start_time": "2023-03-20T12:46:18.086643",
     "status": "completed"
    },
    "tags": []
   },
   "outputs": [
    {
     "data": {
      "text/plain": [
       "{'action_thriller_crime',\n",
       " 'comedy',\n",
       " 'drama',\n",
       " 'horror_scifi_mystery_supernatural_fantasy'}"
      ]
     },
     "execution_count": 9,
     "metadata": {},
     "output_type": "execute_result"
    }
   ],
   "source": [
    "set(y)"
   ]
  },
  {
   "cell_type": "code",
   "execution_count": 10,
   "id": "37609992",
   "metadata": {
    "execution": {
     "iopub.execute_input": "2023-03-20T12:46:18.137530Z",
     "iopub.status.busy": "2023-03-20T12:46:18.137104Z",
     "iopub.status.idle": "2023-03-20T12:46:18.162008Z",
     "shell.execute_reply": "2023-03-20T12:46:18.161296Z"
    },
    "papermill": {
     "duration": 0.040844,
     "end_time": "2023-03-20T12:46:18.164178",
     "exception": false,
     "start_time": "2023-03-20T12:46:18.123334",
     "status": "completed"
    },
    "tags": []
   },
   "outputs": [],
   "source": [
    "ts_train, ts_test, y_train, y_test = train_test_split(\n",
    "    ts, y, test_size=0.20, random_state=42, stratify=y)"
   ]
  },
  {
   "cell_type": "code",
   "execution_count": 11,
   "id": "34508fe4",
   "metadata": {
    "execution": {
     "iopub.execute_input": "2023-03-20T12:46:18.191853Z",
     "iopub.status.busy": "2023-03-20T12:46:18.191393Z",
     "iopub.status.idle": "2023-03-20T12:46:18.209541Z",
     "shell.execute_reply": "2023-03-20T12:46:18.208564Z"
    },
    "papermill": {
     "duration": 0.033418,
     "end_time": "2023-03-20T12:46:18.211861",
     "exception": false,
     "start_time": "2023-03-20T12:46:18.178443",
     "status": "completed"
    },
    "tags": []
   },
   "outputs": [],
   "source": [
    "X_train, X_test, y_train, y_test = train_test_split(\n",
    "    X, y, test_size=0.20, random_state=42, stratify=y)"
   ]
  },
  {
   "cell_type": "code",
   "execution_count": 12,
   "id": "076afac9",
   "metadata": {
    "execution": {
     "iopub.execute_input": "2023-03-20T12:46:18.241887Z",
     "iopub.status.busy": "2023-03-20T12:46:18.241417Z",
     "iopub.status.idle": "2023-03-20T12:46:18.261531Z",
     "shell.execute_reply": "2023-03-20T12:46:18.260658Z"
    },
    "papermill": {
     "duration": 0.036565,
     "end_time": "2023-03-20T12:46:18.263929",
     "exception": false,
     "start_time": "2023-03-20T12:46:18.227364",
     "status": "completed"
    },
    "tags": []
   },
   "outputs": [
    {
     "data": {
      "text/plain": [
       "array([[-1.45278229],\n",
       "       [-0.17978817],\n",
       "       [-2.0801304 ],\n",
       "       [ 1.96792703],\n",
       "       [-1.21926001],\n",
       "       [ 2.06483622],\n",
       "       [-0.10870817],\n",
       "       [-0.80581833],\n",
       "       [-1.78531595],\n",
       "       [-1.69941838],\n",
       "       [ 0.58802622],\n",
       "       [ 0.01161707],\n",
       "       [-0.10811263],\n",
       "       [-0.69838406],\n",
       "       [ 8.5753317 ],\n",
       "       [ 1.96558974],\n",
       "       [ 1.79977347],\n",
       "       [-1.08434167],\n",
       "       [ 2.72517293],\n",
       "       [-0.12939989],\n",
       "       [ 8.72757553],\n",
       "       [ 0.50465465],\n",
       "       [-2.44493359],\n",
       "       [        nan],\n",
       "       [        nan],\n",
       "       [        nan],\n",
       "       [        nan],\n",
       "       [        nan],\n",
       "       [        nan],\n",
       "       [        nan],\n",
       "       [        nan],\n",
       "       [        nan],\n",
       "       [        nan],\n",
       "       [        nan],\n",
       "       [        nan],\n",
       "       [        nan],\n",
       "       [        nan],\n",
       "       [        nan],\n",
       "       [        nan],\n",
       "       [        nan],\n",
       "       [        nan],\n",
       "       [        nan],\n",
       "       [        nan],\n",
       "       [        nan],\n",
       "       [        nan],\n",
       "       [        nan],\n",
       "       [        nan],\n",
       "       [        nan],\n",
       "       [        nan],\n",
       "       [        nan],\n",
       "       [        nan],\n",
       "       [        nan],\n",
       "       [        nan],\n",
       "       [        nan],\n",
       "       [        nan],\n",
       "       [        nan],\n",
       "       [        nan],\n",
       "       [        nan],\n",
       "       [        nan],\n",
       "       [        nan],\n",
       "       [        nan],\n",
       "       [        nan],\n",
       "       [        nan],\n",
       "       [        nan],\n",
       "       [        nan],\n",
       "       [        nan],\n",
       "       [        nan],\n",
       "       [        nan],\n",
       "       [        nan],\n",
       "       [        nan],\n",
       "       [        nan],\n",
       "       [        nan],\n",
       "       [        nan],\n",
       "       [        nan],\n",
       "       [        nan],\n",
       "       [        nan],\n",
       "       [        nan],\n",
       "       [        nan],\n",
       "       [        nan],\n",
       "       [        nan],\n",
       "       [        nan],\n",
       "       [        nan],\n",
       "       [        nan],\n",
       "       [        nan],\n",
       "       [        nan],\n",
       "       [        nan],\n",
       "       [        nan],\n",
       "       [        nan],\n",
       "       [        nan],\n",
       "       [        nan],\n",
       "       [        nan],\n",
       "       [        nan],\n",
       "       [        nan],\n",
       "       [        nan],\n",
       "       [        nan],\n",
       "       [        nan],\n",
       "       [        nan],\n",
       "       [        nan],\n",
       "       [        nan],\n",
       "       [        nan],\n",
       "       [        nan],\n",
       "       [        nan],\n",
       "       [        nan],\n",
       "       [        nan],\n",
       "       [        nan],\n",
       "       [        nan],\n",
       "       [        nan],\n",
       "       [        nan],\n",
       "       [        nan],\n",
       "       [        nan],\n",
       "       [        nan],\n",
       "       [        nan],\n",
       "       [        nan],\n",
       "       [        nan],\n",
       "       [        nan],\n",
       "       [        nan],\n",
       "       [        nan],\n",
       "       [        nan],\n",
       "       [        nan],\n",
       "       [        nan],\n",
       "       [        nan],\n",
       "       [        nan],\n",
       "       [        nan],\n",
       "       [        nan],\n",
       "       [        nan],\n",
       "       [        nan],\n",
       "       [        nan],\n",
       "       [        nan],\n",
       "       [        nan],\n",
       "       [        nan],\n",
       "       [        nan],\n",
       "       [        nan],\n",
       "       [        nan],\n",
       "       [        nan],\n",
       "       [        nan],\n",
       "       [        nan],\n",
       "       [        nan],\n",
       "       [        nan],\n",
       "       [        nan],\n",
       "       [        nan],\n",
       "       [        nan],\n",
       "       [        nan],\n",
       "       [        nan],\n",
       "       [        nan],\n",
       "       [        nan],\n",
       "       [        nan],\n",
       "       [        nan],\n",
       "       [        nan],\n",
       "       [        nan],\n",
       "       [        nan],\n",
       "       [        nan],\n",
       "       [        nan],\n",
       "       [        nan],\n",
       "       [        nan],\n",
       "       [        nan],\n",
       "       [        nan],\n",
       "       [        nan],\n",
       "       [        nan],\n",
       "       [        nan],\n",
       "       [        nan],\n",
       "       [        nan],\n",
       "       [        nan],\n",
       "       [        nan],\n",
       "       [        nan],\n",
       "       [        nan],\n",
       "       [        nan],\n",
       "       [        nan],\n",
       "       [        nan],\n",
       "       [        nan],\n",
       "       [        nan],\n",
       "       [        nan],\n",
       "       [        nan],\n",
       "       [        nan],\n",
       "       [        nan],\n",
       "       [        nan],\n",
       "       [        nan],\n",
       "       [        nan],\n",
       "       [        nan],\n",
       "       [        nan],\n",
       "       [        nan],\n",
       "       [        nan],\n",
       "       [        nan],\n",
       "       [        nan],\n",
       "       [        nan],\n",
       "       [        nan],\n",
       "       [        nan],\n",
       "       [        nan],\n",
       "       [        nan],\n",
       "       [        nan],\n",
       "       [        nan],\n",
       "       [        nan],\n",
       "       [        nan],\n",
       "       [        nan],\n",
       "       [        nan],\n",
       "       [        nan],\n",
       "       [        nan],\n",
       "       [        nan],\n",
       "       [        nan],\n",
       "       [        nan],\n",
       "       [        nan],\n",
       "       [        nan],\n",
       "       [        nan],\n",
       "       [        nan],\n",
       "       [        nan],\n",
       "       [        nan],\n",
       "       [        nan],\n",
       "       [        nan],\n",
       "       [        nan],\n",
       "       [        nan],\n",
       "       [        nan],\n",
       "       [        nan],\n",
       "       [        nan],\n",
       "       [        nan],\n",
       "       [        nan],\n",
       "       [        nan],\n",
       "       [        nan],\n",
       "       [        nan],\n",
       "       [        nan],\n",
       "       [        nan],\n",
       "       [        nan],\n",
       "       [        nan],\n",
       "       [        nan],\n",
       "       [        nan],\n",
       "       [        nan],\n",
       "       [        nan],\n",
       "       [        nan],\n",
       "       [        nan],\n",
       "       [        nan],\n",
       "       [        nan],\n",
       "       [        nan],\n",
       "       [        nan],\n",
       "       [        nan],\n",
       "       [        nan],\n",
       "       [        nan],\n",
       "       [        nan],\n",
       "       [        nan],\n",
       "       [        nan],\n",
       "       [        nan],\n",
       "       [        nan],\n",
       "       [        nan],\n",
       "       [        nan],\n",
       "       [        nan],\n",
       "       [        nan],\n",
       "       [        nan],\n",
       "       [        nan],\n",
       "       [        nan],\n",
       "       [        nan],\n",
       "       [        nan],\n",
       "       [        nan],\n",
       "       [        nan],\n",
       "       [        nan],\n",
       "       [        nan],\n",
       "       [        nan],\n",
       "       [        nan],\n",
       "       [        nan],\n",
       "       [        nan],\n",
       "       [        nan],\n",
       "       [        nan],\n",
       "       [        nan],\n",
       "       [        nan],\n",
       "       [        nan],\n",
       "       [        nan],\n",
       "       [        nan],\n",
       "       [        nan],\n",
       "       [        nan],\n",
       "       [        nan],\n",
       "       [        nan],\n",
       "       [        nan],\n",
       "       [        nan],\n",
       "       [        nan],\n",
       "       [        nan],\n",
       "       [        nan],\n",
       "       [        nan],\n",
       "       [        nan],\n",
       "       [        nan],\n",
       "       [        nan],\n",
       "       [        nan],\n",
       "       [        nan],\n",
       "       [        nan],\n",
       "       [        nan],\n",
       "       [        nan],\n",
       "       [        nan],\n",
       "       [        nan],\n",
       "       [        nan],\n",
       "       [        nan],\n",
       "       [        nan],\n",
       "       [        nan],\n",
       "       [        nan],\n",
       "       [        nan],\n",
       "       [        nan],\n",
       "       [        nan],\n",
       "       [        nan],\n",
       "       [        nan],\n",
       "       [        nan],\n",
       "       [        nan],\n",
       "       [        nan],\n",
       "       [        nan],\n",
       "       [        nan],\n",
       "       [        nan],\n",
       "       [        nan],\n",
       "       [        nan],\n",
       "       [        nan],\n",
       "       [        nan],\n",
       "       [        nan],\n",
       "       [        nan],\n",
       "       [        nan],\n",
       "       [        nan],\n",
       "       [        nan],\n",
       "       [        nan],\n",
       "       [        nan],\n",
       "       [        nan],\n",
       "       [        nan],\n",
       "       [        nan],\n",
       "       [        nan],\n",
       "       [        nan],\n",
       "       [        nan],\n",
       "       [        nan],\n",
       "       [        nan],\n",
       "       [        nan],\n",
       "       [        nan],\n",
       "       [        nan],\n",
       "       [        nan],\n",
       "       [        nan],\n",
       "       [        nan],\n",
       "       [        nan],\n",
       "       [        nan],\n",
       "       [        nan],\n",
       "       [        nan],\n",
       "       [        nan],\n",
       "       [        nan],\n",
       "       [        nan],\n",
       "       [        nan],\n",
       "       [        nan],\n",
       "       [        nan],\n",
       "       [        nan],\n",
       "       [        nan],\n",
       "       [        nan],\n",
       "       [        nan],\n",
       "       [        nan],\n",
       "       [        nan],\n",
       "       [        nan],\n",
       "       [        nan],\n",
       "       [        nan],\n",
       "       [        nan],\n",
       "       [        nan],\n",
       "       [        nan],\n",
       "       [        nan],\n",
       "       [        nan],\n",
       "       [        nan],\n",
       "       [        nan],\n",
       "       [        nan],\n",
       "       [        nan],\n",
       "       [        nan],\n",
       "       [        nan],\n",
       "       [        nan],\n",
       "       [        nan],\n",
       "       [        nan],\n",
       "       [        nan],\n",
       "       [        nan],\n",
       "       [        nan],\n",
       "       [        nan],\n",
       "       [        nan],\n",
       "       [        nan],\n",
       "       [        nan],\n",
       "       [        nan],\n",
       "       [        nan],\n",
       "       [        nan],\n",
       "       [        nan],\n",
       "       [        nan],\n",
       "       [        nan],\n",
       "       [        nan],\n",
       "       [        nan],\n",
       "       [        nan],\n",
       "       [        nan],\n",
       "       [        nan],\n",
       "       [        nan],\n",
       "       [        nan],\n",
       "       [        nan],\n",
       "       [        nan],\n",
       "       [        nan],\n",
       "       [        nan],\n",
       "       [        nan],\n",
       "       [        nan],\n",
       "       [        nan],\n",
       "       [        nan],\n",
       "       [        nan],\n",
       "       [        nan],\n",
       "       [        nan],\n",
       "       [        nan],\n",
       "       [        nan],\n",
       "       [        nan],\n",
       "       [        nan],\n",
       "       [        nan],\n",
       "       [        nan],\n",
       "       [        nan],\n",
       "       [        nan],\n",
       "       [        nan],\n",
       "       [        nan],\n",
       "       [        nan],\n",
       "       [        nan],\n",
       "       [        nan],\n",
       "       [        nan],\n",
       "       [        nan],\n",
       "       [        nan],\n",
       "       [        nan],\n",
       "       [        nan],\n",
       "       [        nan],\n",
       "       [        nan],\n",
       "       [        nan],\n",
       "       [        nan],\n",
       "       [        nan],\n",
       "       [        nan]])"
      ]
     },
     "execution_count": 12,
     "metadata": {},
     "output_type": "execute_result"
    }
   ],
   "source": [
    "random.choice(ts_train)"
   ]
  },
  {
   "cell_type": "code",
   "execution_count": 13,
   "id": "ca66457a",
   "metadata": {
    "execution": {
     "iopub.execute_input": "2023-03-20T12:46:18.291652Z",
     "iopub.status.busy": "2023-03-20T12:46:18.291179Z",
     "iopub.status.idle": "2023-03-20T12:46:18.865013Z",
     "shell.execute_reply": "2023-03-20T12:46:18.864309Z"
    },
    "papermill": {
     "duration": 0.589917,
     "end_time": "2023-03-20T12:46:18.867287",
     "exception": false,
     "start_time": "2023-03-20T12:46:18.277370",
     "status": "completed"
    },
    "tags": []
   },
   "outputs": [
    {
     "data": {
      "text/plain": [
       "<AxesSubplot:ylabel='Count'>"
      ]
     },
     "execution_count": 13,
     "metadata": {},
     "output_type": "execute_result"
    },
    {
     "data": {
      "image/png": "[encoded data removed]",
      "text/plain": [
       "<Figure size 640x480 with 1 Axes>"
      ]
     },
     "metadata": {},
     "output_type": "display_data"
    }
   ],
   "source": [
    "sns.histplot([t[~np.any(np.isnan(t), axis=1)].shape[0] for t in ts_train])"
   ]
  },
  {
   "cell_type": "code",
   "execution_count": 14,
   "id": "c2ae286f",
   "metadata": {
    "execution": {
     "iopub.execute_input": "2023-03-20T12:46:18.931087Z",
     "iopub.status.busy": "2023-03-20T12:46:18.930748Z",
     "iopub.status.idle": "2023-03-20T12:46:18.936473Z",
     "shell.execute_reply": "2023-03-20T12:46:18.935184Z"
    },
    "papermill": {
     "duration": 0.04194,
     "end_time": "2023-03-20T12:46:18.939040",
     "exception": false,
     "start_time": "2023-03-20T12:46:18.897100",
     "status": "completed"
    },
    "tags": []
   },
   "outputs": [],
   "source": [
    "ts_train = ts_train[:, :truncate, :]\n",
    "ts_test = ts_test[:, :truncate, :]"
   ]
  },
  {
   "cell_type": "code",
   "execution_count": 15,
   "id": "3218baa4",
   "metadata": {
    "execution": {
     "iopub.execute_input": "2023-03-20T12:46:18.966443Z",
     "iopub.status.busy": "2023-03-20T12:46:18.966027Z",
     "iopub.status.idle": "2023-03-20T12:46:19.006258Z",
     "shell.execute_reply": "2023-03-20T12:46:19.005059Z"
    },
    "papermill": {
     "duration": 0.056451,
     "end_time": "2023-03-20T12:46:19.009333",
     "exception": false,
     "start_time": "2023-03-20T12:46:18.952882",
     "status": "completed"
    },
    "tags": []
   },
   "outputs": [],
   "source": [
    "mean_arr = np.nanmean(ts_train, axis=1, keepdims=True)\n",
    "nan_indices = np.isnan(ts_train)\n",
    "ts_train[nan_indices] = np.take(mean_arr, np.nonzero(nan_indices)[0])\n",
    "\n",
    "mean_arr = np.nanmean(ts_test, axis=1, keepdims=True)\n",
    "nan_indices = np.isnan(ts_test)\n",
    "ts_test[nan_indices] = np.take(mean_arr, np.nonzero(nan_indices)[0])"
   ]
  },
  {
   "cell_type": "code",
   "execution_count": 16,
   "id": "d369691b",
   "metadata": {
    "execution": {
     "iopub.execute_input": "2023-03-20T12:46:19.037298Z",
     "iopub.status.busy": "2023-03-20T12:46:19.036491Z",
     "iopub.status.idle": "2023-03-20T12:46:19.044345Z",
     "shell.execute_reply": "2023-03-20T12:46:19.043224Z"
    },
    "papermill": {
     "duration": 0.022079,
     "end_time": "2023-03-20T12:46:19.046037",
     "exception": false,
     "start_time": "2023-03-20T12:46:19.023958",
     "status": "completed"
    },
    "tags": []
   },
   "outputs": [
    {
     "data": {
      "text/plain": [
       "0"
      ]
     },
     "execution_count": 16,
     "metadata": {},
     "output_type": "execute_result"
    }
   ],
   "source": [
    "np.count_nonzero(np.isnan(X_train))"
   ]
  },
  {
   "cell_type": "code",
   "execution_count": 17,
   "id": "0d602e18",
   "metadata": {
    "execution": {
     "iopub.execute_input": "2023-03-20T12:46:19.072086Z",
     "iopub.status.busy": "2023-03-20T12:46:19.071571Z",
     "iopub.status.idle": "2023-03-20T12:46:19.077995Z",
     "shell.execute_reply": "2023-03-20T12:46:19.076868Z"
    },
    "papermill": {
     "duration": 0.022116,
     "end_time": "2023-03-20T12:46:19.079758",
     "exception": false,
     "start_time": "2023-03-20T12:46:19.057642",
     "status": "completed"
    },
    "tags": []
   },
   "outputs": [],
   "source": [
    "X_train[np.isnan(X_train)] = 0\n",
    "X_test[np.isnan(X_test)] = 0"
   ]
  },
  {
   "cell_type": "code",
   "execution_count": 18,
   "id": "45c5102c",
   "metadata": {
    "execution": {
     "iopub.execute_input": "2023-03-20T12:46:19.105261Z",
     "iopub.status.busy": "2023-03-20T12:46:19.104796Z",
     "iopub.status.idle": "2023-03-20T12:46:19.955520Z",
     "shell.execute_reply": "2023-03-20T12:46:19.954599Z"
    },
    "papermill": {
     "duration": 0.86629,
     "end_time": "2023-03-20T12:46:19.958030",
     "exception": false,
     "start_time": "2023-03-20T12:46:19.091740",
     "status": "completed"
    },
    "tags": []
   },
   "outputs": [],
   "source": [
    "save_time_series_txt(f'{data_path}/ts_train.txt', ts_train)\n",
    "save_time_series_txt(f'{data_path}/ts_test.txt', ts_test)"
   ]
  },
  {
   "cell_type": "code",
   "execution_count": 19,
   "id": "39830f37",
   "metadata": {
    "execution": {
     "iopub.execute_input": "2023-03-20T12:46:19.986962Z",
     "iopub.status.busy": "2023-03-20T12:46:19.986538Z",
     "iopub.status.idle": "2023-03-20T12:46:19.994561Z",
     "shell.execute_reply": "2023-03-20T12:46:19.993625Z"
    },
    "papermill": {
     "duration": 0.023078,
     "end_time": "2023-03-20T12:46:19.996310",
     "exception": false,
     "start_time": "2023-03-20T12:46:19.973232",
     "status": "completed"
    },
    "tags": []
   },
   "outputs": [],
   "source": [
    "with open(f'{data_path}/X_train.npy', 'wb') as f:\n",
    "    np.save(f, X_train, allow_pickle=True)\n",
    "\n",
    "with open(f'{data_path}/X_test.npy', 'wb') as f:\n",
    "    np.save(f, X_test, allow_pickle=True)"
   ]
  },
  {
   "cell_type": "code",
   "execution_count": 20,
   "id": "795fd2be",
   "metadata": {
    "execution": {
     "iopub.execute_input": "2023-03-20T12:46:20.025418Z",
     "iopub.status.busy": "2023-03-20T12:46:20.024951Z",
     "iopub.status.idle": "2023-03-20T12:46:20.032717Z",
     "shell.execute_reply": "2023-03-20T12:46:20.031550Z"
    },
    "papermill": {
     "duration": 0.02528,
     "end_time": "2023-03-20T12:46:20.034619",
     "exception": false,
     "start_time": "2023-03-20T12:46:20.009339",
     "status": "completed"
    },
    "tags": []
   },
   "outputs": [],
   "source": [
    "with open(f'{data_path}/y_train.npy', 'wb') as f:\n",
    "    np.save(f, y_train, allow_pickle=True)\n",
    "\n",
    "with open(f'{data_path}/y_test.npy', 'wb') as f:\n",
    "    np.save(f, y_test, allow_pickle=True)"
   ]
  },
  {
   "cell_type": "code",
   "execution_count": 21,
   "id": "08bda153",
   "metadata": {
    "execution": {
     "iopub.execute_input": "2023-03-20T12:46:20.060215Z",
     "iopub.status.busy": "2023-03-20T12:46:20.059750Z",
     "iopub.status.idle": "2023-03-20T12:46:20.198417Z",
     "shell.execute_reply": "2023-03-20T12:46:20.197609Z"
    },
    "papermill": {
     "duration": 0.153656,
     "end_time": "2023-03-20T12:46:20.200520",
     "exception": false,
     "start_time": "2023-03-20T12:46:20.046864",
     "status": "completed"
    },
    "tags": []
   },
   "outputs": [
    {
     "data": {
      "text/plain": [
       "[<matplotlib.lines.Line2D at 0x7f43ec2d8610>]"
      ]
     },
     "execution_count": 21,
     "metadata": {},
     "output_type": "execute_result"
    },
    {
     "data": {
      "image/png": "[encoded data removed]",
      "text/plain": [
       "<Figure size 640x480 with 1 Axes>"
      ]
     },
     "metadata": {},
     "output_type": "display_data"
    }
   ],
   "source": [
    "plt.plot(random.choice(ts_train))"
   ]
  },
  {
   "cell_type": "code",
   "execution_count": 22,
   "id": "98ce9d63",
   "metadata": {
    "execution": {
     "iopub.execute_input": "2023-03-20T12:46:20.228622Z",
     "iopub.status.busy": "2023-03-20T12:46:20.228343Z",
     "iopub.status.idle": "2023-03-20T12:46:20.234375Z",
     "shell.execute_reply": "2023-03-20T12:46:20.233605Z"
    },
    "papermill": {
     "duration": 0.02232,
     "end_time": "2023-03-20T12:46:20.236113",
     "exception": false,
     "start_time": "2023-03-20T12:46:20.213793",
     "status": "completed"
    },
    "tags": []
   },
   "outputs": [],
   "source": [
    "# Parameters that require knowing if it's binary or multiclass (LightGBM, metrics)\n",
    "if len(set(y)) == 2:\n",
    "    avg_par = 'macro'\n",
    "    obj_par = 'binary'\n",
    "elif len(set(y)) > 2:\n",
    "    avg_par = 'weighted'\n",
    "    obj_par = 'multiclass'"
   ]
  },
  {
   "cell_type": "markdown",
   "id": "228f1b39",
   "metadata": {
    "papermill": {
     "duration": 0.01337,
     "end_time": "2023-03-20T12:46:20.264411",
     "exception": false,
     "start_time": "2023-03-20T12:46:20.251041",
     "status": "completed"
    },
    "tags": []
   },
   "source": [
    "## Classification"
   ]
  },
  {
   "cell_type": "code",
   "execution_count": 23,
   "id": "34bb73ff",
   "metadata": {
    "execution": {
     "iopub.execute_input": "2023-03-20T12:46:20.289806Z",
     "iopub.status.busy": "2023-03-20T12:46:20.289531Z",
     "iopub.status.idle": "2023-03-20T12:46:20.325882Z",
     "shell.execute_reply": "2023-03-20T12:46:20.325041Z"
    },
    "papermill": {
     "duration": 0.051265,
     "end_time": "2023-03-20T12:46:20.327746",
     "exception": false,
     "start_time": "2023-03-20T12:46:20.276481",
     "status": "completed"
    },
    "tags": []
   },
   "outputs": [],
   "source": [
    "from sklearn.tree import DecisionTreeClassifier\n",
    "import lightgbm as lgbm\n",
    "from sklearn.ensemble import RandomForestClassifier"
   ]
  },
  {
   "cell_type": "code",
   "execution_count": 24,
   "id": "02aaee18",
   "metadata": {
    "execution": {
     "iopub.execute_input": "2023-03-20T12:46:20.353177Z",
     "iopub.status.busy": "2023-03-20T12:46:20.352876Z",
     "iopub.status.idle": "2023-03-20T12:46:20.357515Z",
     "shell.execute_reply": "2023-03-20T12:46:20.356405Z"
    },
    "papermill": {
     "duration": 0.019814,
     "end_time": "2023-03-20T12:46:20.359426",
     "exception": false,
     "start_time": "2023-03-20T12:46:20.339612",
     "status": "completed"
    },
    "tags": []
   },
   "outputs": [],
   "source": [
    "metrics_data = {}"
   ]
  },
  {
   "cell_type": "markdown",
   "id": "b49309ed",
   "metadata": {
    "papermill": {
     "duration": 0.014683,
     "end_time": "2023-03-20T12:46:20.386165",
     "exception": false,
     "start_time": "2023-03-20T12:46:20.371482",
     "status": "completed"
    },
    "tags": []
   },
   "source": [
    "### Baseline: global features (No Time Series)"
   ]
  },
  {
   "cell_type": "code",
   "execution_count": 25,
   "id": "35eb9f66",
   "metadata": {
    "execution": {
     "iopub.execute_input": "2023-03-20T12:46:20.413725Z",
     "iopub.status.busy": "2023-03-20T12:46:20.413228Z",
     "iopub.status.idle": "2023-03-20T12:46:20.419007Z",
     "shell.execute_reply": "2023-03-20T12:46:20.417952Z"
    },
    "papermill": {
     "duration": 0.02087,
     "end_time": "2023-03-20T12:46:20.420775",
     "exception": false,
     "start_time": "2023-03-20T12:46:20.399905",
     "status": "completed"
    },
    "tags": []
   },
   "outputs": [],
   "source": [
    "metrics_data['Global'] = {}"
   ]
  },
  {
   "cell_type": "markdown",
   "id": "29cd5044",
   "metadata": {
    "papermill": {
     "duration": 0.011237,
     "end_time": "2023-03-20T12:46:20.443797",
     "exception": false,
     "start_time": "2023-03-20T12:46:20.432560",
     "status": "completed"
    },
    "tags": []
   },
   "source": [
    "**Decision Tree**"
   ]
  },
  {
   "cell_type": "code",
   "execution_count": 26,
   "id": "9ef4f037",
   "metadata": {
    "execution": {
     "iopub.execute_input": "2023-03-20T12:46:20.469486Z",
     "iopub.status.busy": "2023-03-20T12:46:20.469016Z",
     "iopub.status.idle": "2023-03-20T12:46:20.618675Z",
     "shell.execute_reply": "2023-03-20T12:46:20.617924Z"
    },
    "papermill": {
     "duration": 0.1652,
     "end_time": "2023-03-20T12:46:20.620686",
     "exception": false,
     "start_time": "2023-03-20T12:46:20.455486",
     "status": "completed"
    },
    "tags": []
   },
   "outputs": [
    {
     "data": {
      "text/html": [
       "<style>#sk-container-id-1 {color: black;background-color: white;}#sk-container-id-1 pre{padding: 0;}#sk-container-id-1 div.sk-toggleable {background-color: white;}#sk-container-id-1 label.sk-toggleable__label {cursor: pointer;display: block;width: 100%;margin-bottom: 0;padding: 0.3em;box-sizing: border-box;text-align: center;}#sk-container-id-1 label.sk-toggleable__label-arrow:before {content: \"▸\";float: left;margin-right: 0.25em;color: #696969;}#sk-container-id-1 label.sk-toggleable__label-arrow:hover:before {color: black;}#sk-container-id-1 div.sk-estimator:hover label.sk-toggleable__label-arrow:before {color: black;}#sk-container-id-1 div.sk-toggleable__content {max-height: 0;max-width: 0;overflow: hidden;text-align: left;background-color: #f0f8ff;}#sk-container-id-1 div.sk-toggleable__content pre {margin: 0.2em;color: black;border-radius: 0.25em;background-color: #f0f8ff;}#sk-container-id-1 input.sk-toggleable__control:checked~div.sk-toggleable__content {max-height: 200px;max-width: 100%;overflow: auto;}#sk-container-id-1 input.sk-toggleable__control:checked~label.sk-toggleable__label-arrow:before {content: \"▾\";}#sk-container-id-1 div.sk-estimator input.sk-toggleable__control:checked~label.sk-toggleable__label {background-color: #d4ebff;}#sk-container-id-1 div.sk-label input.sk-toggleable__control:checked~label.sk-toggleable__label {background-color: #d4ebff;}#sk-container-id-1 input.sk-hidden--visually {border: 0;clip: rect(1px 1px 1px 1px);clip: rect(1px, 1px, 1px, 1px);height: 1px;margin: -1px;overflow: hidden;padding: 0;position: absolute;width: 1px;}#sk-container-id-1 div.sk-estimator {font-family: monospace;background-color: #f0f8ff;border: 1px dotted black;border-radius: 0.25em;box-sizing: border-box;margin-bottom: 0.5em;}#sk-container-id-1 div.sk-estimator:hover {background-color: #d4ebff;}#sk-container-id-1 div.sk-parallel-item::after {content: \"\";width: 100%;border-bottom: 1px solid gray;flex-grow: 1;}#sk-container-id-1 div.sk-label:hover label.sk-toggleable__label {background-color: #d4ebff;}#sk-container-id-1 div.sk-serial::before {content: \"\";position: absolute;border-left: 1px solid gray;box-sizing: border-box;top: 0;bottom: 0;left: 50%;z-index: 0;}#sk-container-id-1 div.sk-serial {display: flex;flex-direction: column;align-items: center;background-color: white;padding-right: 0.2em;padding-left: 0.2em;position: relative;}#sk-container-id-1 div.sk-item {position: relative;z-index: 1;}#sk-container-id-1 div.sk-parallel {display: flex;align-items: stretch;justify-content: center;background-color: white;position: relative;}#sk-container-id-1 div.sk-item::before, #sk-container-id-1 div.sk-parallel-item::before {content: \"\";position: absolute;border-left: 1px solid gray;box-sizing: border-box;top: 0;bottom: 0;left: 50%;z-index: -1;}#sk-container-id-1 div.sk-parallel-item {display: flex;flex-direction: column;z-index: 1;position: relative;background-color: white;}#sk-container-id-1 div.sk-parallel-item:first-child::after {align-self: flex-end;width: 50%;}#sk-container-id-1 div.sk-parallel-item:last-child::after {align-self: flex-start;width: 50%;}#sk-container-id-1 div.sk-parallel-item:only-child::after {width: 0;}#sk-container-id-1 div.sk-dashed-wrapped {border: 1px dashed gray;margin: 0 0.4em 0.5em 0.4em;box-sizing: border-box;padding-bottom: 0.4em;background-color: white;}#sk-container-id-1 div.sk-label label {font-family: monospace;font-weight: bold;display: inline-block;line-height: 1.2em;}#sk-container-id-1 div.sk-label-container {text-align: center;}#sk-container-id-1 div.sk-container {/* jupyter's `normalize.less` sets `[hidden] { display: none; }` but bootstrap.min.css set `[hidden] { display: none !important; }` so we also need the `!important` here to be able to override the default hidden behavior on the sphinx rendered scikit-learn.org. See: https://github.com/scikit-learn/scikit-learn/issues/21755 */display: inline-block !important;position: relative;}#sk-container-id-1 div.sk-text-repr-fallback {display: none;}</style><div id=\"sk-container-id-1\" class=\"sk-top-container\"><div class=\"sk-text-repr-fallback\"><pre>DecisionTreeClassifier()</pre><b>In a Jupyter environment, please rerun this cell to show the HTML representation or trust the notebook. <br />On GitHub, the HTML representation is unable to render, please try loading this page with nbviewer.org.</b></div><div class=\"sk-container\" hidden><div class=\"sk-item\"><div class=\"sk-estimator sk-toggleable\"><input class=\"sk-toggleable__control sk-hidden--visually\" id=\"sk-estimator-id-1\" type=\"checkbox\" checked><label for=\"sk-estimator-id-1\" class=\"sk-toggleable__label sk-toggleable__label-arrow\">DecisionTreeClassifier</label><div class=\"sk-toggleable__content\"><pre>DecisionTreeClassifier()</pre></div></div></div></div></div>"
      ],
      "text/plain": [
       "DecisionTreeClassifier()"
      ]
     },
     "execution_count": 26,
     "metadata": {},
     "output_type": "execute_result"
    }
   ],
   "source": [
    "clf = DecisionTreeClassifier()\n",
    "clf.fit(X_train, y_train)"
   ]
  },
  {
   "cell_type": "code",
   "execution_count": 27,
   "id": "9c50acc4",
   "metadata": {
    "execution": {
     "iopub.execute_input": "2023-03-20T12:46:20.648591Z",
     "iopub.status.busy": "2023-03-20T12:46:20.648165Z",
     "iopub.status.idle": "2023-03-20T12:46:20.712408Z",
     "shell.execute_reply": "2023-03-20T12:46:20.711475Z"
    },
    "papermill": {
     "duration": 0.079614,
     "end_time": "2023-03-20T12:46:20.714540",
     "exception": false,
     "start_time": "2023-03-20T12:46:20.634926",
     "status": "completed"
    },
    "tags": []
   },
   "outputs": [
    {
     "name": "stdout",
     "output_type": "stream",
     "text": [
      "                                           precision    recall  f1-score   support\n",
      "\n",
      "                    action_thriller_crime       0.26      0.28      0.27       318\n",
      "                                   comedy       0.30      0.30      0.30       423\n",
      "                                    drama       0.39      0.37      0.38       499\n",
      "horror_scifi_mystery_supernatural_fantasy       0.24      0.24      0.24       263\n",
      "\n",
      "                                 accuracy                           0.31      1503\n",
      "                                macro avg       0.30      0.30      0.30      1503\n",
      "                             weighted avg       0.31      0.31      0.31      1503\n",
      "\n"
     ]
    }
   ],
   "source": [
    "y_pred = clf.predict(X_test)\n",
    "print(classification_report(y_test, y_pred))"
   ]
  },
  {
   "cell_type": "code",
   "execution_count": 28,
   "id": "8866c3c3",
   "metadata": {
    "execution": {
     "iopub.execute_input": "2023-03-20T12:46:20.743175Z",
     "iopub.status.busy": "2023-03-20T12:46:20.742750Z",
     "iopub.status.idle": "2023-03-20T12:46:20.806448Z",
     "shell.execute_reply": "2023-03-20T12:46:20.805631Z"
    },
    "papermill": {
     "duration": 0.080207,
     "end_time": "2023-03-20T12:46:20.809245",
     "exception": false,
     "start_time": "2023-03-20T12:46:20.729038",
     "status": "completed"
    },
    "tags": []
   },
   "outputs": [],
   "source": [
    "acc = accuracy_score(y_test, y_pred)\n",
    "pre = precision_score(y_test, y_pred, average=avg_par)\n",
    "rec = recall_score(y_test, y_pred, average=avg_par)\n",
    "f1 = f1_score(y_test, y_pred, average=avg_par)\n",
    "\n",
    "metrics_data['Global']['DecisionTree'] = {'Accuracy': acc, 'Precision': pre, 'Recall': rec, 'F1': f1}"
   ]
  },
  {
   "cell_type": "markdown",
   "id": "28aa5a63",
   "metadata": {
    "papermill": {
     "duration": 0.034121,
     "end_time": "2023-03-20T12:46:20.877593",
     "exception": false,
     "start_time": "2023-03-20T12:46:20.843472",
     "status": "completed"
    },
    "tags": []
   },
   "source": [
    "**Random Forest**"
   ]
  },
  {
   "cell_type": "code",
   "execution_count": 29,
   "id": "0e5e2310",
   "metadata": {
    "execution": {
     "iopub.execute_input": "2023-03-20T12:46:20.906162Z",
     "iopub.status.busy": "2023-03-20T12:46:20.905717Z",
     "iopub.status.idle": "2023-03-20T12:46:22.371554Z",
     "shell.execute_reply": "2023-03-20T12:46:22.370441Z"
    },
    "papermill": {
     "duration": 1.482704,
     "end_time": "2023-03-20T12:46:22.374576",
     "exception": false,
     "start_time": "2023-03-20T12:46:20.891872",
     "status": "completed"
    },
    "tags": []
   },
   "outputs": [
    {
     "data": {
      "text/html": [
       "<style>#sk-container-id-2 {color: black;background-color: white;}#sk-container-id-2 pre{padding: 0;}#sk-container-id-2 div.sk-toggleable {background-color: white;}#sk-container-id-2 label.sk-toggleable__label {cursor: pointer;display: block;width: 100%;margin-bottom: 0;padding: 0.3em;box-sizing: border-box;text-align: center;}#sk-container-id-2 label.sk-toggleable__label-arrow:before {content: \"▸\";float: left;margin-right: 0.25em;color: #696969;}#sk-container-id-2 label.sk-toggleable__label-arrow:hover:before {color: black;}#sk-container-id-2 div.sk-estimator:hover label.sk-toggleable__label-arrow:before {color: black;}#sk-container-id-2 div.sk-toggleable__content {max-height: 0;max-width: 0;overflow: hidden;text-align: left;background-color: #f0f8ff;}#sk-container-id-2 div.sk-toggleable__content pre {margin: 0.2em;color: black;border-radius: 0.25em;background-color: #f0f8ff;}#sk-container-id-2 input.sk-toggleable__control:checked~div.sk-toggleable__content {max-height: 200px;max-width: 100%;overflow: auto;}#sk-container-id-2 input.sk-toggleable__control:checked~label.sk-toggleable__label-arrow:before {content: \"▾\";}#sk-container-id-2 div.sk-estimator input.sk-toggleable__control:checked~label.sk-toggleable__label {background-color: #d4ebff;}#sk-container-id-2 div.sk-label input.sk-toggleable__control:checked~label.sk-toggleable__label {background-color: #d4ebff;}#sk-container-id-2 input.sk-hidden--visually {border: 0;clip: rect(1px 1px 1px 1px);clip: rect(1px, 1px, 1px, 1px);height: 1px;margin: -1px;overflow: hidden;padding: 0;position: absolute;width: 1px;}#sk-container-id-2 div.sk-estimator {font-family: monospace;background-color: #f0f8ff;border: 1px dotted black;border-radius: 0.25em;box-sizing: border-box;margin-bottom: 0.5em;}#sk-container-id-2 div.sk-estimator:hover {background-color: #d4ebff;}#sk-container-id-2 div.sk-parallel-item::after {content: \"\";width: 100%;border-bottom: 1px solid gray;flex-grow: 1;}#sk-container-id-2 div.sk-label:hover label.sk-toggleable__label {background-color: #d4ebff;}#sk-container-id-2 div.sk-serial::before {content: \"\";position: absolute;border-left: 1px solid gray;box-sizing: border-box;top: 0;bottom: 0;left: 50%;z-index: 0;}#sk-container-id-2 div.sk-serial {display: flex;flex-direction: column;align-items: center;background-color: white;padding-right: 0.2em;padding-left: 0.2em;position: relative;}#sk-container-id-2 div.sk-item {position: relative;z-index: 1;}#sk-container-id-2 div.sk-parallel {display: flex;align-items: stretch;justify-content: center;background-color: white;position: relative;}#sk-container-id-2 div.sk-item::before, #sk-container-id-2 div.sk-parallel-item::before {content: \"\";position: absolute;border-left: 1px solid gray;box-sizing: border-box;top: 0;bottom: 0;left: 50%;z-index: -1;}#sk-container-id-2 div.sk-parallel-item {display: flex;flex-direction: column;z-index: 1;position: relative;background-color: white;}#sk-container-id-2 div.sk-parallel-item:first-child::after {align-self: flex-end;width: 50%;}#sk-container-id-2 div.sk-parallel-item:last-child::after {align-self: flex-start;width: 50%;}#sk-container-id-2 div.sk-parallel-item:only-child::after {width: 0;}#sk-container-id-2 div.sk-dashed-wrapped {border: 1px dashed gray;margin: 0 0.4em 0.5em 0.4em;box-sizing: border-box;padding-bottom: 0.4em;background-color: white;}#sk-container-id-2 div.sk-label label {font-family: monospace;font-weight: bold;display: inline-block;line-height: 1.2em;}#sk-container-id-2 div.sk-label-container {text-align: center;}#sk-container-id-2 div.sk-container {/* jupyter's `normalize.less` sets `[hidden] { display: none; }` but bootstrap.min.css set `[hidden] { display: none !important; }` so we also need the `!important` here to be able to override the default hidden behavior on the sphinx rendered scikit-learn.org. See: https://github.com/scikit-learn/scikit-learn/issues/21755 */display: inline-block !important;position: relative;}#sk-container-id-2 div.sk-text-repr-fallback {display: none;}</style><div id=\"sk-container-id-2\" class=\"sk-top-container\"><div class=\"sk-text-repr-fallback\"><pre>RandomForestClassifier(random_state=42)</pre><b>In a Jupyter environment, please rerun this cell to show the HTML representation or trust the notebook. <br />On GitHub, the HTML representation is unable to render, please try loading this page with nbviewer.org.</b></div><div class=\"sk-container\" hidden><div class=\"sk-item\"><div class=\"sk-estimator sk-toggleable\"><input class=\"sk-toggleable__control sk-hidden--visually\" id=\"sk-estimator-id-2\" type=\"checkbox\" checked><label for=\"sk-estimator-id-2\" class=\"sk-toggleable__label sk-toggleable__label-arrow\">RandomForestClassifier</label><div class=\"sk-toggleable__content\"><pre>RandomForestClassifier(random_state=42)</pre></div></div></div></div></div>"
      ],
      "text/plain": [
       "RandomForestClassifier(random_state=42)"
      ]
     },
     "execution_count": 29,
     "metadata": {},
     "output_type": "execute_result"
    }
   ],
   "source": [
    "clf = RandomForestClassifier(random_state=42)\n",
    "clf.fit(X_train, y_train)"
   ]
  },
  {
   "cell_type": "code",
   "execution_count": 30,
   "id": "4bd1304b",
   "metadata": {
    "execution": {
     "iopub.execute_input": "2023-03-20T12:46:22.442739Z",
     "iopub.status.busy": "2023-03-20T12:46:22.441678Z",
     "iopub.status.idle": "2023-03-20T12:46:22.522950Z",
     "shell.execute_reply": "2023-03-20T12:46:22.522009Z"
    },
    "papermill": {
     "duration": 0.117645,
     "end_time": "2023-03-20T12:46:22.524654",
     "exception": false,
     "start_time": "2023-03-20T12:46:22.407009",
     "status": "completed"
    },
    "tags": []
   },
   "outputs": [
    {
     "name": "stdout",
     "output_type": "stream",
     "text": [
      "                                           precision    recall  f1-score   support\n",
      "\n",
      "                    action_thriller_crime       0.37      0.28      0.32       318\n",
      "                                   comedy       0.40      0.44      0.42       423\n",
      "                                    drama       0.43      0.58      0.49       499\n",
      "horror_scifi_mystery_supernatural_fantasy       0.46      0.21      0.28       263\n",
      "\n",
      "                                 accuracy                           0.41      1503\n",
      "                                macro avg       0.41      0.38      0.38      1503\n",
      "                             weighted avg       0.41      0.41      0.40      1503\n",
      "\n"
     ]
    }
   ],
   "source": [
    "y_pred = clf.predict(X_test)\n",
    "print(classification_report(y_test, y_pred))"
   ]
  },
  {
   "cell_type": "code",
   "execution_count": 31,
   "id": "43174ba2",
   "metadata": {
    "execution": {
     "iopub.execute_input": "2023-03-20T12:46:22.550027Z",
     "iopub.status.busy": "2023-03-20T12:46:22.549759Z",
     "iopub.status.idle": "2023-03-20T12:46:22.603511Z",
     "shell.execute_reply": "2023-03-20T12:46:22.602701Z"
    },
    "papermill": {
     "duration": 0.069427,
     "end_time": "2023-03-20T12:46:22.606203",
     "exception": false,
     "start_time": "2023-03-20T12:46:22.536776",
     "status": "completed"
    },
    "tags": []
   },
   "outputs": [],
   "source": [
    "acc = accuracy_score(y_test, y_pred)\n",
    "pre = precision_score(y_test, y_pred, average=avg_par)\n",
    "rec = recall_score(y_test, y_pred, average=avg_par)\n",
    "f1 = f1_score(y_test, y_pred, average=avg_par)\n",
    "\n",
    "metrics_data['Global']['RandomForest'] = {'Accuracy': acc, 'Precision': pre, 'Recall': rec, 'F1': f1}"
   ]
  },
  {
   "cell_type": "markdown",
   "id": "22c98ac5",
   "metadata": {
    "papermill": {
     "duration": 0.022327,
     "end_time": "2023-03-20T12:46:22.663002",
     "exception": false,
     "start_time": "2023-03-20T12:46:22.640675",
     "status": "completed"
    },
    "tags": []
   },
   "source": [
    "**LightGBM**"
   ]
  },
  {
   "cell_type": "code",
   "execution_count": 32,
   "id": "c93b818c",
   "metadata": {
    "execution": {
     "iopub.execute_input": "2023-03-20T12:46:22.697547Z",
     "iopub.status.busy": "2023-03-20T12:46:22.697094Z",
     "iopub.status.idle": "2023-03-20T12:46:23.058991Z",
     "shell.execute_reply": "2023-03-20T12:46:23.058350Z"
    },
    "papermill": {
     "duration": 0.380985,
     "end_time": "2023-03-20T12:46:23.060966",
     "exception": false,
     "start_time": "2023-03-20T12:46:22.679981",
     "status": "completed"
    },
    "tags": []
   },
   "outputs": [
    {
     "data": {
      "text/html": [
       "<style>#sk-container-id-3 {color: black;background-color: white;}#sk-container-id-3 pre{padding: 0;}#sk-container-id-3 div.sk-toggleable {background-color: white;}#sk-container-id-3 label.sk-toggleable__label {cursor: pointer;display: block;width: 100%;margin-bottom: 0;padding: 0.3em;box-sizing: border-box;text-align: center;}#sk-container-id-3 label.sk-toggleable__label-arrow:before {content: \"▸\";float: left;margin-right: 0.25em;color: #696969;}#sk-container-id-3 label.sk-toggleable__label-arrow:hover:before {color: black;}#sk-container-id-3 div.sk-estimator:hover label.sk-toggleable__label-arrow:before {color: black;}#sk-container-id-3 div.sk-toggleable__content {max-height: 0;max-width: 0;overflow: hidden;text-align: left;background-color: #f0f8ff;}#sk-container-id-3 div.sk-toggleable__content pre {margin: 0.2em;color: black;border-radius: 0.25em;background-color: #f0f8ff;}#sk-container-id-3 input.sk-toggleable__control:checked~div.sk-toggleable__content {max-height: 200px;max-width: 100%;overflow: auto;}#sk-container-id-3 input.sk-toggleable__control:checked~label.sk-toggleable__label-arrow:before {content: \"▾\";}#sk-container-id-3 div.sk-estimator input.sk-toggleable__control:checked~label.sk-toggleable__label {background-color: #d4ebff;}#sk-container-id-3 div.sk-label input.sk-toggleable__control:checked~label.sk-toggleable__label {background-color: #d4ebff;}#sk-container-id-3 input.sk-hidden--visually {border: 0;clip: rect(1px 1px 1px 1px);clip: rect(1px, 1px, 1px, 1px);height: 1px;margin: -1px;overflow: hidden;padding: 0;position: absolute;width: 1px;}#sk-container-id-3 div.sk-estimator {font-family: monospace;background-color: #f0f8ff;border: 1px dotted black;border-radius: 0.25em;box-sizing: border-box;margin-bottom: 0.5em;}#sk-container-id-3 div.sk-estimator:hover {background-color: #d4ebff;}#sk-container-id-3 div.sk-parallel-item::after {content: \"\";width: 100%;border-bottom: 1px solid gray;flex-grow: 1;}#sk-container-id-3 div.sk-label:hover label.sk-toggleable__label {background-color: #d4ebff;}#sk-container-id-3 div.sk-serial::before {content: \"\";position: absolute;border-left: 1px solid gray;box-sizing: border-box;top: 0;bottom: 0;left: 50%;z-index: 0;}#sk-container-id-3 div.sk-serial {display: flex;flex-direction: column;align-items: center;background-color: white;padding-right: 0.2em;padding-left: 0.2em;position: relative;}#sk-container-id-3 div.sk-item {position: relative;z-index: 1;}#sk-container-id-3 div.sk-parallel {display: flex;align-items: stretch;justify-content: center;background-color: white;position: relative;}#sk-container-id-3 div.sk-item::before, #sk-container-id-3 div.sk-parallel-item::before {content: \"\";position: absolute;border-left: 1px solid gray;box-sizing: border-box;top: 0;bottom: 0;left: 50%;z-index: -1;}#sk-container-id-3 div.sk-parallel-item {display: flex;flex-direction: column;z-index: 1;position: relative;background-color: white;}#sk-container-id-3 div.sk-parallel-item:first-child::after {align-self: flex-end;width: 50%;}#sk-container-id-3 div.sk-parallel-item:last-child::after {align-self: flex-start;width: 50%;}#sk-container-id-3 div.sk-parallel-item:only-child::after {width: 0;}#sk-container-id-3 div.sk-dashed-wrapped {border: 1px dashed gray;margin: 0 0.4em 0.5em 0.4em;box-sizing: border-box;padding-bottom: 0.4em;background-color: white;}#sk-container-id-3 div.sk-label label {font-family: monospace;font-weight: bold;display: inline-block;line-height: 1.2em;}#sk-container-id-3 div.sk-label-container {text-align: center;}#sk-container-id-3 div.sk-container {/* jupyter's `normalize.less` sets `[hidden] { display: none; }` but bootstrap.min.css set `[hidden] { display: none !important; }` so we also need the `!important` here to be able to override the default hidden behavior on the sphinx rendered scikit-learn.org. See: https://github.com/scikit-learn/scikit-learn/issues/21755 */display: inline-block !important;position: relative;}#sk-container-id-3 div.sk-text-repr-fallback {display: none;}</style><div id=\"sk-container-id-3\" class=\"sk-top-container\"><div class=\"sk-text-repr-fallback\"><pre>LGBMClassifier(objective=&#x27;multiclass&#x27;)</pre><b>In a Jupyter environment, please rerun this cell to show the HTML representation or trust the notebook. <br />On GitHub, the HTML representation is unable to render, please try loading this page with nbviewer.org.</b></div><div class=\"sk-container\" hidden><div class=\"sk-item\"><div class=\"sk-estimator sk-toggleable\"><input class=\"sk-toggleable__control sk-hidden--visually\" id=\"sk-estimator-id-3\" type=\"checkbox\" checked><label for=\"sk-estimator-id-3\" class=\"sk-toggleable__label sk-toggleable__label-arrow\">LGBMClassifier</label><div class=\"sk-toggleable__content\"><pre>LGBMClassifier(objective=&#x27;multiclass&#x27;)</pre></div></div></div></div></div>"
      ],
      "text/plain": [
       "LGBMClassifier(objective='multiclass')"
      ]
     },
     "execution_count": 32,
     "metadata": {},
     "output_type": "execute_result"
    }
   ],
   "source": [
    "clf = lgbm.LGBMClassifier(objective=obj_par) \n",
    "clf.fit(X_train, y_train)"
   ]
  },
  {
   "cell_type": "code",
   "execution_count": 33,
   "id": "600a663a",
   "metadata": {
    "execution": {
     "iopub.execute_input": "2023-03-20T12:46:23.089044Z",
     "iopub.status.busy": "2023-03-20T12:46:23.088595Z",
     "iopub.status.idle": "2023-03-20T12:46:23.138678Z",
     "shell.execute_reply": "2023-03-20T12:46:23.137973Z"
    },
    "papermill": {
     "duration": 0.066341,
     "end_time": "2023-03-20T12:46:23.140846",
     "exception": false,
     "start_time": "2023-03-20T12:46:23.074505",
     "status": "completed"
    },
    "tags": []
   },
   "outputs": [
    {
     "name": "stdout",
     "output_type": "stream",
     "text": [
      "                                           precision    recall  f1-score   support\n",
      "\n",
      "                    action_thriller_crime       0.39      0.30      0.34       318\n",
      "                                   comedy       0.38      0.43      0.40       423\n",
      "                                    drama       0.43      0.54      0.48       499\n",
      "horror_scifi_mystery_supernatural_fantasy       0.42      0.24      0.31       263\n",
      "\n",
      "                                 accuracy                           0.41      1503\n",
      "                                macro avg       0.40      0.38      0.38      1503\n",
      "                             weighted avg       0.40      0.41      0.40      1503\n",
      "\n"
     ]
    }
   ],
   "source": [
    "y_pred = clf.predict(X_test)\n",
    "print(classification_report(y_test, y_pred))"
   ]
  },
  {
   "cell_type": "code",
   "execution_count": 34,
   "id": "508d831d",
   "metadata": {
    "execution": {
     "iopub.execute_input": "2023-03-20T12:46:23.171638Z",
     "iopub.status.busy": "2023-03-20T12:46:23.171155Z",
     "iopub.status.idle": "2023-03-20T12:46:23.235048Z",
     "shell.execute_reply": "2023-03-20T12:46:23.234352Z"
    },
    "papermill": {
     "duration": 0.08031,
     "end_time": "2023-03-20T12:46:23.237342",
     "exception": false,
     "start_time": "2023-03-20T12:46:23.157032",
     "status": "completed"
    },
    "tags": []
   },
   "outputs": [],
   "source": [
    "acc = accuracy_score(y_test, y_pred)\n",
    "pre = precision_score(y_test, y_pred, average=avg_par)\n",
    "rec = recall_score(y_test, y_pred, average=avg_par)\n",
    "f1 = f1_score(y_test, y_pred, average=avg_par)\n",
    "\n",
    "metrics_data['Global']['LightGBM'] = {'Accuracy': acc, 'Precision': pre, 'Recall': rec, 'F1': f1}"
   ]
  },
  {
   "cell_type": "markdown",
   "id": "14b86894",
   "metadata": {
    "papermill": {
     "duration": 0.034785,
     "end_time": "2023-03-20T12:46:23.306603",
     "exception": false,
     "start_time": "2023-03-20T12:46:23.271818",
     "status": "completed"
    },
    "tags": []
   },
   "source": [
    "### Time Series Classification"
   ]
  },
  {
   "cell_type": "markdown",
   "id": "84c55533",
   "metadata": {
    "papermill": {
     "duration": 0.01256,
     "end_time": "2023-03-20T12:46:23.335551",
     "exception": false,
     "start_time": "2023-03-20T12:46:23.322991",
     "status": "completed"
    },
    "tags": []
   },
   "source": [
    "#### Learning Shapelets"
   ]
  },
  {
   "cell_type": "code",
   "execution_count": 35,
   "id": "488d8eb7",
   "metadata": {
    "execution": {
     "iopub.execute_input": "2023-03-20T12:46:23.363182Z",
     "iopub.status.busy": "2023-03-20T12:46:23.362713Z",
     "iopub.status.idle": "2023-03-20T12:46:24.944089Z",
     "shell.execute_reply": "2023-03-20T12:46:24.943388Z"
    },
    "papermill": {
     "duration": 1.598203,
     "end_time": "2023-03-20T12:46:24.947017",
     "exception": false,
     "start_time": "2023-03-20T12:46:23.348814",
     "status": "completed"
    },
    "tags": []
   },
   "outputs": [
    {
     "name": "stderr",
     "output_type": "stream",
     "text": [
      "2023-03-20 13:46:23.369999: I tensorflow/core/platform/cpu_feature_guard.cc:193] This TensorFlow binary is optimized with oneAPI Deep Neural Network Library (oneDNN) to use the following CPU instructions in performance-critical operations:  AVX2 FMA\n",
      "To enable them in other operations, rebuild TensorFlow with the appropriate compiler flags.\n",
      "2023-03-20 13:46:23.497012: W tensorflow/compiler/xla/stream_executor/platform/default/dso_loader.cc:64] Could not load dynamic library 'libcudart.so.11.0'; dlerror: libcudart.so.11.0: cannot open shared object file: No such file or directory\n",
      "2023-03-20 13:46:23.497035: I tensorflow/compiler/xla/stream_executor/cuda/cudart_stub.cc:29] Ignore above cudart dlerror if you do not have a GPU set up on your machine.\n"
     ]
    },
    {
     "name": "stderr",
     "output_type": "stream",
     "text": [
      "2023-03-20 13:46:24.158754: W tensorflow/compiler/xla/stream_executor/platform/default/dso_loader.cc:64] Could not load dynamic library 'libnvinfer.so.7'; dlerror: libnvinfer.so.7: cannot open shared object file: No such file or directory\n",
      "2023-03-20 13:46:24.158831: W tensorflow/compiler/xla/stream_executor/platform/default/dso_loader.cc:64] Could not load dynamic library 'libnvinfer_plugin.so.7'; dlerror: libnvinfer_plugin.so.7: cannot open shared object file: No such file or directory\n",
      "2023-03-20 13:46:24.158840: W tensorflow/compiler/tf2tensorrt/utils/py_utils.cc:38] TF-TRT Warning: Cannot dlopen some TensorRT libraries. If you would like to use Nvidia GPU with TensorRT, please make sure the missing libraries mentioned above are installed properly.\n"
     ]
    }
   ],
   "source": [
    "from tslearn.shapelets import LearningShapelets, grabocka_params_to_shapelet_size_dict"
   ]
  },
  {
   "cell_type": "code",
   "execution_count": 36,
   "id": "eb677959",
   "metadata": {
    "execution": {
     "iopub.execute_input": "2023-03-20T12:46:25.020580Z",
     "iopub.status.busy": "2023-03-20T12:46:25.019693Z",
     "iopub.status.idle": "2023-03-20T12:46:25.026308Z",
     "shell.execute_reply": "2023-03-20T12:46:25.024857Z"
    },
    "papermill": {
     "duration": 0.046472,
     "end_time": "2023-03-20T12:46:25.028300",
     "exception": false,
     "start_time": "2023-03-20T12:46:24.981828",
     "status": "completed"
    },
    "tags": []
   },
   "outputs": [],
   "source": [
    "n_ts, ts_sz, _ = ts_train.shape\n",
    "n_classes = len(set(y_train))"
   ]
  },
  {
   "cell_type": "code",
   "execution_count": 37,
   "id": "776ed3dd",
   "metadata": {
    "execution": {
     "iopub.execute_input": "2023-03-20T12:46:25.056877Z",
     "iopub.status.busy": "2023-03-20T12:46:25.056393Z",
     "iopub.status.idle": "2023-03-20T12:46:25.065926Z",
     "shell.execute_reply": "2023-03-20T12:46:25.064453Z"
    },
    "papermill": {
     "duration": 0.025622,
     "end_time": "2023-03-20T12:46:25.067926",
     "exception": false,
     "start_time": "2023-03-20T12:46:25.042304",
     "status": "completed"
    },
    "tags": []
   },
   "outputs": [
    {
     "name": "stdout",
     "output_type": "stream",
     "text": [
      "n_ts 6009\n",
      "ts_sz 100\n",
      "n_classes 4\n",
      "shapelet_sizes {10: 6}\n"
     ]
    }
   ],
   "source": [
    "# Set the number of shapelets per size as done in the original paper\n",
    "g_shapelet_sizes = grabocka_params_to_shapelet_size_dict(n_ts=n_ts,\n",
    "                                                         ts_sz=ts_sz,\n",
    "                                                         n_classes=n_classes,\n",
    "                                                         l=0.1,\n",
    "                                                         r=1)\n",
    "\n",
    "print('n_ts', n_ts)\n",
    "print('ts_sz', ts_sz)\n",
    "print('n_classes', n_classes)\n",
    "print('shapelet_sizes', g_shapelet_sizes)"
   ]
  },
  {
   "cell_type": "code",
   "execution_count": 38,
   "id": "90ed707e",
   "metadata": {
    "execution": {
     "iopub.execute_input": "2023-03-20T12:46:25.095793Z",
     "iopub.status.busy": "2023-03-20T12:46:25.095289Z",
     "iopub.status.idle": "2023-03-20T12:46:25.106780Z",
     "shell.execute_reply": "2023-03-20T12:46:25.105189Z"
    },
    "papermill": {
     "duration": 0.027573,
     "end_time": "2023-03-20T12:46:25.108650",
     "exception": false,
     "start_time": "2023-03-20T12:46:25.081077",
     "status": "completed"
    },
    "tags": []
   },
   "outputs": [
    {
     "data": {
      "text/plain": [
       "{10: 6, 20: 6, 5: 6}"
      ]
     },
     "execution_count": 38,
     "metadata": {},
     "output_type": "execute_result"
    }
   ],
   "source": [
    "shapelet_sizes = {}\n",
    "for key in g_shapelet_sizes:\n",
    "    shapelet_sizes[key] = g_shapelet_sizes[key]\n",
    "    shapelet_sizes[key*2] = g_shapelet_sizes[key]\n",
    "    shapelet_sizes[key//2] = g_shapelet_sizes[key]\n",
    "shapelet_sizes"
   ]
  },
  {
   "cell_type": "code",
   "execution_count": 39,
   "id": "3507fb9c",
   "metadata": {
    "execution": {
     "iopub.execute_input": "2023-03-20T12:46:25.138016Z",
     "iopub.status.busy": "2023-03-20T12:46:25.137543Z",
     "iopub.status.idle": "2023-03-20T12:46:25.145434Z",
     "shell.execute_reply": "2023-03-20T12:46:25.144127Z"
    },
    "papermill": {
     "duration": 0.024647,
     "end_time": "2023-03-20T12:46:25.146982",
     "exception": false,
     "start_time": "2023-03-20T12:46:25.122335",
     "status": "completed"
    },
    "tags": []
   },
   "outputs": [
    {
     "name": "stderr",
     "output_type": "stream",
     "text": [
      "/home/mattiapggioli/lyrics2ts/.venv/lib/python3.9/site-packages/tslearn/shapelets/shapelets.py:354: FutureWarning: The default value for 'scale' is set to False in version 0.4 to ensure backward compatibility, but is likely to change in a future version.\n",
      "  warnings.warn(\"The default value for 'scale' is set to False \"\n"
     ]
    }
   ],
   "source": [
    "model = LearningShapelets(n_shapelets_per_size=shapelet_sizes,\n",
    "                          optimizer=\"adam\", \n",
    "                          weight_regularizer=.01, \n",
    "                          max_iter=max_iter, verbose=0, random_state=42)"
   ]
  },
  {
   "cell_type": "code",
   "execution_count": 40,
   "id": "73b1fe2e",
   "metadata": {
    "execution": {
     "iopub.execute_input": "2023-03-20T12:46:25.178186Z",
     "iopub.status.busy": "2023-03-20T12:46:25.177734Z",
     "iopub.status.idle": "2023-03-20T12:55:26.698592Z",
     "shell.execute_reply": "2023-03-20T12:55:26.697828Z"
    },
    "papermill": {
     "duration": 541.551654,
     "end_time": "2023-03-20T12:55:26.714849",
     "exception": false,
     "start_time": "2023-03-20T12:46:25.163195",
     "status": "completed"
    },
    "tags": []
   },
   "outputs": [
    {
     "name": "stderr",
     "output_type": "stream",
     "text": [
      "2023-03-20 13:46:25.386019: W tensorflow/compiler/xla/stream_executor/platform/default/dso_loader.cc:64] Could not load dynamic library 'libcuda.so.1'; dlerror: libcuda.so.1: cannot open shared object file: No such file or directory\n",
      "2023-03-20 13:46:25.386044: W tensorflow/compiler/xla/stream_executor/cuda/cuda_driver.cc:265] failed call to cuInit: UNKNOWN ERROR (303)\n",
      "2023-03-20 13:46:25.386065: I tensorflow/compiler/xla/stream_executor/cuda/cuda_diagnostics.cc:156] kernel driver does not appear to be running on this host (mattiapggioli-ThinkPad-E595): /proc/driver/nvidia/version does not exist\n",
      "2023-03-20 13:46:25.386275: I tensorflow/core/platform/cpu_feature_guard.cc:193] This TensorFlow binary is optimized with oneAPI Deep Neural Network Library (oneDNN) to use the following CPU instructions in performance-critical operations:  AVX2 FMA\n",
      "To enable them in other operations, rebuild TensorFlow with the appropriate compiler flags.\n"
     ]
    },
    {
     "name": "stdout",
     "output_type": "stream",
     "text": [
      "CPU times: user 47min 53s, sys: 2min 46s, total: 50min 39s\n",
      "Wall time: 9min 1s\n"
     ]
    },
    {
     "data": {
      "text/html": [
       "<style>#sk-container-id-4 {color: black;background-color: white;}#sk-container-id-4 pre{padding: 0;}#sk-container-id-4 div.sk-toggleable {background-color: white;}#sk-container-id-4 label.sk-toggleable__label {cursor: pointer;display: block;width: 100%;margin-bottom: 0;padding: 0.3em;box-sizing: border-box;text-align: center;}#sk-container-id-4 label.sk-toggleable__label-arrow:before {content: \"▸\";float: left;margin-right: 0.25em;color: #696969;}#sk-container-id-4 label.sk-toggleable__label-arrow:hover:before {color: black;}#sk-container-id-4 div.sk-estimator:hover label.sk-toggleable__label-arrow:before {color: black;}#sk-container-id-4 div.sk-toggleable__content {max-height: 0;max-width: 0;overflow: hidden;text-align: left;background-color: #f0f8ff;}#sk-container-id-4 div.sk-toggleable__content pre {margin: 0.2em;color: black;border-radius: 0.25em;background-color: #f0f8ff;}#sk-container-id-4 input.sk-toggleable__control:checked~div.sk-toggleable__content {max-height: 200px;max-width: 100%;overflow: auto;}#sk-container-id-4 input.sk-toggleable__control:checked~label.sk-toggleable__label-arrow:before {content: \"▾\";}#sk-container-id-4 div.sk-estimator input.sk-toggleable__control:checked~label.sk-toggleable__label {background-color: #d4ebff;}#sk-container-id-4 div.sk-label input.sk-toggleable__control:checked~label.sk-toggleable__label {background-color: #d4ebff;}#sk-container-id-4 input.sk-hidden--visually {border: 0;clip: rect(1px 1px 1px 1px);clip: rect(1px, 1px, 1px, 1px);height: 1px;margin: -1px;overflow: hidden;padding: 0;position: absolute;width: 1px;}#sk-container-id-4 div.sk-estimator {font-family: monospace;background-color: #f0f8ff;border: 1px dotted black;border-radius: 0.25em;box-sizing: border-box;margin-bottom: 0.5em;}#sk-container-id-4 div.sk-estimator:hover {background-color: #d4ebff;}#sk-container-id-4 div.sk-parallel-item::after {content: \"\";width: 100%;border-bottom: 1px solid gray;flex-grow: 1;}#sk-container-id-4 div.sk-label:hover label.sk-toggleable__label {background-color: #d4ebff;}#sk-container-id-4 div.sk-serial::before {content: \"\";position: absolute;border-left: 1px solid gray;box-sizing: border-box;top: 0;bottom: 0;left: 50%;z-index: 0;}#sk-container-id-4 div.sk-serial {display: flex;flex-direction: column;align-items: center;background-color: white;padding-right: 0.2em;padding-left: 0.2em;position: relative;}#sk-container-id-4 div.sk-item {position: relative;z-index: 1;}#sk-container-id-4 div.sk-parallel {display: flex;align-items: stretch;justify-content: center;background-color: white;position: relative;}#sk-container-id-4 div.sk-item::before, #sk-container-id-4 div.sk-parallel-item::before {content: \"\";position: absolute;border-left: 1px solid gray;box-sizing: border-box;top: 0;bottom: 0;left: 50%;z-index: -1;}#sk-container-id-4 div.sk-parallel-item {display: flex;flex-direction: column;z-index: 1;position: relative;background-color: white;}#sk-container-id-4 div.sk-parallel-item:first-child::after {align-self: flex-end;width: 50%;}#sk-container-id-4 div.sk-parallel-item:last-child::after {align-self: flex-start;width: 50%;}#sk-container-id-4 div.sk-parallel-item:only-child::after {width: 0;}#sk-container-id-4 div.sk-dashed-wrapped {border: 1px dashed gray;margin: 0 0.4em 0.5em 0.4em;box-sizing: border-box;padding-bottom: 0.4em;background-color: white;}#sk-container-id-4 div.sk-label label {font-family: monospace;font-weight: bold;display: inline-block;line-height: 1.2em;}#sk-container-id-4 div.sk-label-container {text-align: center;}#sk-container-id-4 div.sk-container {/* jupyter's `normalize.less` sets `[hidden] { display: none; }` but bootstrap.min.css set `[hidden] { display: none !important; }` so we also need the `!important` here to be able to override the default hidden behavior on the sphinx rendered scikit-learn.org. See: https://github.com/scikit-learn/scikit-learn/issues/21755 */display: inline-block !important;position: relative;}#sk-container-id-4 div.sk-text-repr-fallback {display: none;}</style><div id=\"sk-container-id-4\" class=\"sk-top-container\"><div class=\"sk-text-repr-fallback\"><pre>LearningShapelets(max_iter=2000, n_shapelets_per_size={5: 6, 10: 6, 20: 6},\n",
       "                  optimizer=&#x27;adam&#x27;, random_state=42, weight_regularizer=0.01)</pre><b>In a Jupyter environment, please rerun this cell to show the HTML representation or trust the notebook. <br />On GitHub, the HTML representation is unable to render, please try loading this page with nbviewer.org.</b></div><div class=\"sk-container\" hidden><div class=\"sk-item\"><div class=\"sk-estimator sk-toggleable\"><input class=\"sk-toggleable__control sk-hidden--visually\" id=\"sk-estimator-id-4\" type=\"checkbox\" checked><label for=\"sk-estimator-id-4\" class=\"sk-toggleable__label sk-toggleable__label-arrow\">LearningShapelets</label><div class=\"sk-toggleable__content\"><pre>LearningShapelets(max_iter=2000, n_shapelets_per_size={5: 6, 10: 6, 20: 6},\n",
       "                  optimizer=&#x27;adam&#x27;, random_state=42, weight_regularizer=0.01)</pre></div></div></div></div></div>"
      ],
      "text/plain": [
       "LearningShapelets(max_iter=2000, n_shapelets_per_size={5: 6, 10: 6, 20: 6},\n",
       "                  optimizer='adam', random_state=42, weight_regularizer=0.01)"
      ]
     },
     "execution_count": 40,
     "metadata": {},
     "output_type": "execute_result"
    }
   ],
   "source": [
    "%%time\n",
    "model.fit(ts_train, y_train)"
   ]
  },
  {
   "cell_type": "code",
   "execution_count": 41,
   "id": "51706baa",
   "metadata": {
    "execution": {
     "iopub.execute_input": "2023-03-20T12:55:26.748215Z",
     "iopub.status.busy": "2023-03-20T12:55:26.747909Z",
     "iopub.status.idle": "2023-03-20T12:55:26.781843Z",
     "shell.execute_reply": "2023-03-20T12:55:26.780545Z"
    },
    "papermill": {
     "duration": 0.053513,
     "end_time": "2023-03-20T12:55:26.784763",
     "exception": false,
     "start_time": "2023-03-20T12:55:26.731250",
     "status": "completed"
    },
    "tags": []
   },
   "outputs": [],
   "source": [
    "model.to_pickle(f'{data_path}/shapelets.pkl')"
   ]
  },
  {
   "cell_type": "markdown",
   "id": "309f70dc",
   "metadata": {
    "papermill": {
     "duration": 0.024066,
     "end_time": "2023-03-20T12:55:26.836163",
     "exception": false,
     "start_time": "2023-03-20T12:55:26.812097",
     "status": "completed"
    },
    "tags": []
   },
   "source": [
    "#### Shapelet-Based Classification"
   ]
  },
  {
   "cell_type": "code",
   "execution_count": 42,
   "id": "60125dff",
   "metadata": {
    "execution": {
     "iopub.execute_input": "2023-03-20T12:55:26.865853Z",
     "iopub.status.busy": "2023-03-20T12:55:26.865170Z",
     "iopub.status.idle": "2023-03-20T12:55:26.869930Z",
     "shell.execute_reply": "2023-03-20T12:55:26.869021Z"
    },
    "papermill": {
     "duration": 0.02129,
     "end_time": "2023-03-20T12:55:26.871705",
     "exception": false,
     "start_time": "2023-03-20T12:55:26.850415",
     "status": "completed"
    },
    "tags": []
   },
   "outputs": [],
   "source": [
    "metrics_data['Shapelets'] = {}"
   ]
  },
  {
   "cell_type": "code",
   "execution_count": 43,
   "id": "efb8984d",
   "metadata": {
    "execution": {
     "iopub.execute_input": "2023-03-20T12:55:26.902153Z",
     "iopub.status.busy": "2023-03-20T12:55:26.901343Z",
     "iopub.status.idle": "2023-03-20T12:55:27.698138Z",
     "shell.execute_reply": "2023-03-20T12:55:27.697181Z"
    },
    "papermill": {
     "duration": 0.815086,
     "end_time": "2023-03-20T12:55:27.701124",
     "exception": false,
     "start_time": "2023-03-20T12:55:26.886038",
     "status": "completed"
    },
    "tags": []
   },
   "outputs": [],
   "source": [
    "X_train = model.transform(ts_train)\n",
    "X_test = model.transform(ts_test)"
   ]
  },
  {
   "cell_type": "code",
   "execution_count": 44,
   "id": "2e6c0f22",
   "metadata": {
    "execution": {
     "iopub.execute_input": "2023-03-20T12:55:27.764346Z",
     "iopub.status.busy": "2023-03-20T12:55:27.763515Z",
     "iopub.status.idle": "2023-03-20T12:55:27.786484Z",
     "shell.execute_reply": "2023-03-20T12:55:27.785815Z"
    },
    "papermill": {
     "duration": 0.054063,
     "end_time": "2023-03-20T12:55:27.788331",
     "exception": false,
     "start_time": "2023-03-20T12:55:27.734268",
     "status": "completed"
    },
    "tags": []
   },
   "outputs": [
    {
     "data": {
      "text/html": [
       "<div>\n",
       "<style scoped>\n",
       "    .dataframe tbody tr th:only-of-type {\n",
       "        vertical-align: middle;\n",
       "    }\n",
       "\n",
       "    .dataframe tbody tr th {\n",
       "        vertical-align: top;\n",
       "    }\n",
       "\n",
       "    .dataframe thead th {\n",
       "        text-align: right;\n",
       "    }\n",
       "</style>\n",
       "<table border=\"1\" class=\"dataframe\">\n",
       "  <thead>\n",
       "    <tr style=\"text-align: right;\">\n",
       "      <th></th>\n",
       "      <th>0</th>\n",
       "      <th>1</th>\n",
       "      <th>2</th>\n",
       "      <th>3</th>\n",
       "      <th>4</th>\n",
       "      <th>5</th>\n",
       "      <th>6</th>\n",
       "      <th>7</th>\n",
       "      <th>8</th>\n",
       "      <th>9</th>\n",
       "      <th>10</th>\n",
       "      <th>11</th>\n",
       "      <th>12</th>\n",
       "      <th>13</th>\n",
       "      <th>14</th>\n",
       "      <th>15</th>\n",
       "      <th>16</th>\n",
       "      <th>17</th>\n",
       "    </tr>\n",
       "  </thead>\n",
       "  <tbody>\n",
       "    <tr>\n",
       "      <th>0</th>\n",
       "      <td>2.713087</td>\n",
       "      <td>0.471602</td>\n",
       "      <td>2.709072</td>\n",
       "      <td>5.931999</td>\n",
       "      <td>1.942485</td>\n",
       "      <td>0.307543</td>\n",
       "      <td>1.416538</td>\n",
       "      <td>1.721659</td>\n",
       "      <td>0.755887</td>\n",
       "      <td>1.817441</td>\n",
       "      <td>3.711073</td>\n",
       "      <td>4.114736</td>\n",
       "      <td>2.451162</td>\n",
       "      <td>2.203743</td>\n",
       "      <td>6.762515</td>\n",
       "      <td>3.019475</td>\n",
       "      <td>1.130566</td>\n",
       "      <td>0.853619</td>\n",
       "    </tr>\n",
       "    <tr>\n",
       "      <th>1</th>\n",
       "      <td>0.815160</td>\n",
       "      <td>1.483112</td>\n",
       "      <td>1.451447</td>\n",
       "      <td>2.549455</td>\n",
       "      <td>1.115178</td>\n",
       "      <td>0.561391</td>\n",
       "      <td>1.637592</td>\n",
       "      <td>0.156618</td>\n",
       "      <td>0.781099</td>\n",
       "      <td>1.104482</td>\n",
       "      <td>1.536654</td>\n",
       "      <td>0.972224</td>\n",
       "      <td>1.854510</td>\n",
       "      <td>0.099826</td>\n",
       "      <td>1.819442</td>\n",
       "      <td>2.101380</td>\n",
       "      <td>2.560045</td>\n",
       "      <td>0.891556</td>\n",
       "    </tr>\n",
       "    <tr>\n",
       "      <th>2</th>\n",
       "      <td>0.373009</td>\n",
       "      <td>6.286389</td>\n",
       "      <td>0.884119</td>\n",
       "      <td>1.192461</td>\n",
       "      <td>0.515766</td>\n",
       "      <td>1.107895</td>\n",
       "      <td>4.410561</td>\n",
       "      <td>0.394484</td>\n",
       "      <td>1.320464</td>\n",
       "      <td>1.240374</td>\n",
       "      <td>1.069477</td>\n",
       "      <td>0.400132</td>\n",
       "      <td>2.380378</td>\n",
       "      <td>0.303249</td>\n",
       "      <td>0.824747</td>\n",
       "      <td>2.183168</td>\n",
       "      <td>3.701231</td>\n",
       "      <td>1.735008</td>\n",
       "    </tr>\n",
       "    <tr>\n",
       "      <th>3</th>\n",
       "      <td>0.356380</td>\n",
       "      <td>2.756275</td>\n",
       "      <td>2.051558</td>\n",
       "      <td>0.710212</td>\n",
       "      <td>1.095555</td>\n",
       "      <td>0.736141</td>\n",
       "      <td>3.721933</td>\n",
       "      <td>0.749582</td>\n",
       "      <td>1.486107</td>\n",
       "      <td>0.609346</td>\n",
       "      <td>0.982489</td>\n",
       "      <td>0.343979</td>\n",
       "      <td>1.745058</td>\n",
       "      <td>0.671084</td>\n",
       "      <td>0.565336</td>\n",
       "      <td>2.653903</td>\n",
       "      <td>3.394617</td>\n",
       "      <td>2.230199</td>\n",
       "    </tr>\n",
       "    <tr>\n",
       "      <th>4</th>\n",
       "      <td>1.242018</td>\n",
       "      <td>1.098248</td>\n",
       "      <td>1.349860</td>\n",
       "      <td>2.607694</td>\n",
       "      <td>0.777124</td>\n",
       "      <td>0.299449</td>\n",
       "      <td>2.087258</td>\n",
       "      <td>0.230975</td>\n",
       "      <td>0.579721</td>\n",
       "      <td>0.861704</td>\n",
       "      <td>1.291635</td>\n",
       "      <td>1.385048</td>\n",
       "      <td>1.791195</td>\n",
       "      <td>0.180198</td>\n",
       "      <td>2.405727</td>\n",
       "      <td>1.731291</td>\n",
       "      <td>1.914796</td>\n",
       "      <td>0.623937</td>\n",
       "    </tr>\n",
       "    <tr>\n",
       "      <th>...</th>\n",
       "      <td>...</td>\n",
       "      <td>...</td>\n",
       "      <td>...</td>\n",
       "      <td>...</td>\n",
       "      <td>...</td>\n",
       "      <td>...</td>\n",
       "      <td>...</td>\n",
       "      <td>...</td>\n",
       "      <td>...</td>\n",
       "      <td>...</td>\n",
       "      <td>...</td>\n",
       "      <td>...</td>\n",
       "      <td>...</td>\n",
       "      <td>...</td>\n",
       "      <td>...</td>\n",
       "      <td>...</td>\n",
       "      <td>...</td>\n",
       "      <td>...</td>\n",
       "    </tr>\n",
       "    <tr>\n",
       "      <th>1498</th>\n",
       "      <td>3.253452</td>\n",
       "      <td>0.874573</td>\n",
       "      <td>1.993598</td>\n",
       "      <td>6.347286</td>\n",
       "      <td>1.252511</td>\n",
       "      <td>0.141023</td>\n",
       "      <td>2.159597</td>\n",
       "      <td>1.689731</td>\n",
       "      <td>0.839473</td>\n",
       "      <td>1.797255</td>\n",
       "      <td>4.175260</td>\n",
       "      <td>4.274465</td>\n",
       "      <td>2.696696</td>\n",
       "      <td>1.664383</td>\n",
       "      <td>6.028349</td>\n",
       "      <td>3.038420</td>\n",
       "      <td>1.116955</td>\n",
       "      <td>0.637197</td>\n",
       "    </tr>\n",
       "    <tr>\n",
       "      <th>1499</th>\n",
       "      <td>0.396759</td>\n",
       "      <td>2.602598</td>\n",
       "      <td>0.250047</td>\n",
       "      <td>1.522725</td>\n",
       "      <td>0.317558</td>\n",
       "      <td>1.714516</td>\n",
       "      <td>2.791414</td>\n",
       "      <td>0.201270</td>\n",
       "      <td>1.304874</td>\n",
       "      <td>1.443636</td>\n",
       "      <td>1.496807</td>\n",
       "      <td>0.603584</td>\n",
       "      <td>2.066206</td>\n",
       "      <td>0.137430</td>\n",
       "      <td>1.208854</td>\n",
       "      <td>2.537126</td>\n",
       "      <td>3.193759</td>\n",
       "      <td>1.336775</td>\n",
       "    </tr>\n",
       "    <tr>\n",
       "      <th>1500</th>\n",
       "      <td>0.657278</td>\n",
       "      <td>2.971123</td>\n",
       "      <td>1.112203</td>\n",
       "      <td>1.453905</td>\n",
       "      <td>1.862787</td>\n",
       "      <td>0.844654</td>\n",
       "      <td>4.681962</td>\n",
       "      <td>0.155221</td>\n",
       "      <td>0.940324</td>\n",
       "      <td>1.203101</td>\n",
       "      <td>1.237854</td>\n",
       "      <td>0.919256</td>\n",
       "      <td>1.872448</td>\n",
       "      <td>0.097978</td>\n",
       "      <td>1.719281</td>\n",
       "      <td>1.805770</td>\n",
       "      <td>2.565373</td>\n",
       "      <td>0.912623</td>\n",
       "    </tr>\n",
       "    <tr>\n",
       "      <th>1501</th>\n",
       "      <td>1.159269</td>\n",
       "      <td>1.898013</td>\n",
       "      <td>1.611988</td>\n",
       "      <td>3.129899</td>\n",
       "      <td>0.954295</td>\n",
       "      <td>0.420228</td>\n",
       "      <td>1.372661</td>\n",
       "      <td>0.404996</td>\n",
       "      <td>0.600271</td>\n",
       "      <td>1.015034</td>\n",
       "      <td>1.517411</td>\n",
       "      <td>1.827857</td>\n",
       "      <td>1.745705</td>\n",
       "      <td>0.360132</td>\n",
       "      <td>2.893640</td>\n",
       "      <td>1.853559</td>\n",
       "      <td>1.421067</td>\n",
       "      <td>0.461864</td>\n",
       "    </tr>\n",
       "    <tr>\n",
       "      <th>1502</th>\n",
       "      <td>0.513463</td>\n",
       "      <td>3.628848</td>\n",
       "      <td>0.690521</td>\n",
       "      <td>0.179257</td>\n",
       "      <td>1.392851</td>\n",
       "      <td>1.010422</td>\n",
       "      <td>4.509078</td>\n",
       "      <td>0.156192</td>\n",
       "      <td>0.860795</td>\n",
       "      <td>1.147583</td>\n",
       "      <td>0.694328</td>\n",
       "      <td>0.965090</td>\n",
       "      <td>1.915894</td>\n",
       "      <td>0.099280</td>\n",
       "      <td>1.808871</td>\n",
       "      <td>1.618075</td>\n",
       "      <td>2.578483</td>\n",
       "      <td>0.894771</td>\n",
       "    </tr>\n",
       "  </tbody>\n",
       "</table>\n",
       "<p>1503 rows × 18 columns</p>\n",
       "</div>"
      ],
      "text/plain": [
       "            0         1         2         3         4         5         6   \\\n",
       "0     2.713087  0.471602  2.709072  5.931999  1.942485  0.307543  1.416538   \n",
       "1     0.815160  1.483112  1.451447  2.549455  1.115178  0.561391  1.637592   \n",
       "2     0.373009  6.286389  0.884119  1.192461  0.515766  1.107895  4.410561   \n",
       "3     0.356380  2.756275  2.051558  0.710212  1.095555  0.736141  3.721933   \n",
       "4     1.242018  1.098248  1.349860  2.607694  0.777124  0.299449  2.087258   \n",
       "...        ...       ...       ...       ...       ...       ...       ...   \n",
       "1498  3.253452  0.874573  1.993598  6.347286  1.252511  0.141023  2.159597   \n",
       "1499  0.396759  2.602598  0.250047  1.522725  0.317558  1.714516  2.791414   \n",
       "1500  0.657278  2.971123  1.112203  1.453905  1.862787  0.844654  4.681962   \n",
       "1501  1.159269  1.898013  1.611988  3.129899  0.954295  0.420228  1.372661   \n",
       "1502  0.513463  3.628848  0.690521  0.179257  1.392851  1.010422  4.509078   \n",
       "\n",
       "            7         8         9         10        11        12        13  \\\n",
       "0     1.721659  0.755887  1.817441  3.711073  4.114736  2.451162  2.203743   \n",
       "1     0.156618  0.781099  1.104482  1.536654  0.972224  1.854510  0.099826   \n",
       "2     0.394484  1.320464  1.240374  1.069477  0.400132  2.380378  0.303249   \n",
       "3     0.749582  1.486107  0.609346  0.982489  0.343979  1.745058  0.671084   \n",
       "4     0.230975  0.579721  0.861704  1.291635  1.385048  1.791195  0.180198   \n",
       "...        ...       ...       ...       ...       ...       ...       ...   \n",
       "1498  1.689731  0.839473  1.797255  4.175260  4.274465  2.696696  1.664383   \n",
       "1499  0.201270  1.304874  1.443636  1.496807  0.603584  2.066206  0.137430   \n",
       "1500  0.155221  0.940324  1.203101  1.237854  0.919256  1.872448  0.097978   \n",
       "1501  0.404996  0.600271  1.015034  1.517411  1.827857  1.745705  0.360132   \n",
       "1502  0.156192  0.860795  1.147583  0.694328  0.965090  1.915894  0.099280   \n",
       "\n",
       "            14        15        16        17  \n",
       "0     6.762515  3.019475  1.130566  0.853619  \n",
       "1     1.819442  2.101380  2.560045  0.891556  \n",
       "2     0.824747  2.183168  3.701231  1.735008  \n",
       "3     0.565336  2.653903  3.394617  2.230199  \n",
       "4     2.405727  1.731291  1.914796  0.623937  \n",
       "...        ...       ...       ...       ...  \n",
       "1498  6.028349  3.038420  1.116955  0.637197  \n",
       "1499  1.208854  2.537126  3.193759  1.336775  \n",
       "1500  1.719281  1.805770  2.565373  0.912623  \n",
       "1501  2.893640  1.853559  1.421067  0.461864  \n",
       "1502  1.808871  1.618075  2.578483  0.894771  \n",
       "\n",
       "[1503 rows x 18 columns]"
      ]
     },
     "execution_count": 44,
     "metadata": {},
     "output_type": "execute_result"
    }
   ],
   "source": [
    "pd.DataFrame(X_test)"
   ]
  },
  {
   "cell_type": "markdown",
   "id": "5fa024f7",
   "metadata": {
    "execution": {
     "iopub.execute_input": "2023-02-07T23:47:19.876941Z",
     "iopub.status.busy": "2023-02-07T23:47:19.876424Z",
     "iopub.status.idle": "2023-02-07T23:47:20.399488Z",
     "shell.execute_reply": "2023-02-07T23:47:20.398142Z"
    },
    "papermill": {
     "duration": 0.012718,
     "end_time": "2023-03-20T12:55:27.817007",
     "exception": false,
     "start_time": "2023-03-20T12:55:27.804289",
     "status": "completed"
    },
    "tags": []
   },
   "source": [
    "**Decision Tree**"
   ]
  },
  {
   "cell_type": "code",
   "execution_count": 45,
   "id": "4f5400c9",
   "metadata": {
    "execution": {
     "iopub.execute_input": "2023-03-20T12:55:27.847011Z",
     "iopub.status.busy": "2023-03-20T12:55:27.846014Z",
     "iopub.status.idle": "2023-03-20T12:55:28.032241Z",
     "shell.execute_reply": "2023-03-20T12:55:28.030988Z"
    },
    "papermill": {
     "duration": 0.203673,
     "end_time": "2023-03-20T12:55:28.034211",
     "exception": false,
     "start_time": "2023-03-20T12:55:27.830538",
     "status": "completed"
    },
    "tags": []
   },
   "outputs": [
    {
     "data": {
      "text/html": [
       "<style>#sk-container-id-5 {color: black;background-color: white;}#sk-container-id-5 pre{padding: 0;}#sk-container-id-5 div.sk-toggleable {background-color: white;}#sk-container-id-5 label.sk-toggleable__label {cursor: pointer;display: block;width: 100%;margin-bottom: 0;padding: 0.3em;box-sizing: border-box;text-align: center;}#sk-container-id-5 label.sk-toggleable__label-arrow:before {content: \"▸\";float: left;margin-right: 0.25em;color: #696969;}#sk-container-id-5 label.sk-toggleable__label-arrow:hover:before {color: black;}#sk-container-id-5 div.sk-estimator:hover label.sk-toggleable__label-arrow:before {color: black;}#sk-container-id-5 div.sk-toggleable__content {max-height: 0;max-width: 0;overflow: hidden;text-align: left;background-color: #f0f8ff;}#sk-container-id-5 div.sk-toggleable__content pre {margin: 0.2em;color: black;border-radius: 0.25em;background-color: #f0f8ff;}#sk-container-id-5 input.sk-toggleable__control:checked~div.sk-toggleable__content {max-height: 200px;max-width: 100%;overflow: auto;}#sk-container-id-5 input.sk-toggleable__control:checked~label.sk-toggleable__label-arrow:before {content: \"▾\";}#sk-container-id-5 div.sk-estimator input.sk-toggleable__control:checked~label.sk-toggleable__label {background-color: #d4ebff;}#sk-container-id-5 div.sk-label input.sk-toggleable__control:checked~label.sk-toggleable__label {background-color: #d4ebff;}#sk-container-id-5 input.sk-hidden--visually {border: 0;clip: rect(1px 1px 1px 1px);clip: rect(1px, 1px, 1px, 1px);height: 1px;margin: -1px;overflow: hidden;padding: 0;position: absolute;width: 1px;}#sk-container-id-5 div.sk-estimator {font-family: monospace;background-color: #f0f8ff;border: 1px dotted black;border-radius: 0.25em;box-sizing: border-box;margin-bottom: 0.5em;}#sk-container-id-5 div.sk-estimator:hover {background-color: #d4ebff;}#sk-container-id-5 div.sk-parallel-item::after {content: \"\";width: 100%;border-bottom: 1px solid gray;flex-grow: 1;}#sk-container-id-5 div.sk-label:hover label.sk-toggleable__label {background-color: #d4ebff;}#sk-container-id-5 div.sk-serial::before {content: \"\";position: absolute;border-left: 1px solid gray;box-sizing: border-box;top: 0;bottom: 0;left: 50%;z-index: 0;}#sk-container-id-5 div.sk-serial {display: flex;flex-direction: column;align-items: center;background-color: white;padding-right: 0.2em;padding-left: 0.2em;position: relative;}#sk-container-id-5 div.sk-item {position: relative;z-index: 1;}#sk-container-id-5 div.sk-parallel {display: flex;align-items: stretch;justify-content: center;background-color: white;position: relative;}#sk-container-id-5 div.sk-item::before, #sk-container-id-5 div.sk-parallel-item::before {content: \"\";position: absolute;border-left: 1px solid gray;box-sizing: border-box;top: 0;bottom: 0;left: 50%;z-index: -1;}#sk-container-id-5 div.sk-parallel-item {display: flex;flex-direction: column;z-index: 1;position: relative;background-color: white;}#sk-container-id-5 div.sk-parallel-item:first-child::after {align-self: flex-end;width: 50%;}#sk-container-id-5 div.sk-parallel-item:last-child::after {align-self: flex-start;width: 50%;}#sk-container-id-5 div.sk-parallel-item:only-child::after {width: 0;}#sk-container-id-5 div.sk-dashed-wrapped {border: 1px dashed gray;margin: 0 0.4em 0.5em 0.4em;box-sizing: border-box;padding-bottom: 0.4em;background-color: white;}#sk-container-id-5 div.sk-label label {font-family: monospace;font-weight: bold;display: inline-block;line-height: 1.2em;}#sk-container-id-5 div.sk-label-container {text-align: center;}#sk-container-id-5 div.sk-container {/* jupyter's `normalize.less` sets `[hidden] { display: none; }` but bootstrap.min.css set `[hidden] { display: none !important; }` so we also need the `!important` here to be able to override the default hidden behavior on the sphinx rendered scikit-learn.org. See: https://github.com/scikit-learn/scikit-learn/issues/21755 */display: inline-block !important;position: relative;}#sk-container-id-5 div.sk-text-repr-fallback {display: none;}</style><div id=\"sk-container-id-5\" class=\"sk-top-container\"><div class=\"sk-text-repr-fallback\"><pre>DecisionTreeClassifier(random_state=42)</pre><b>In a Jupyter environment, please rerun this cell to show the HTML representation or trust the notebook. <br />On GitHub, the HTML representation is unable to render, please try loading this page with nbviewer.org.</b></div><div class=\"sk-container\" hidden><div class=\"sk-item\"><div class=\"sk-estimator sk-toggleable\"><input class=\"sk-toggleable__control sk-hidden--visually\" id=\"sk-estimator-id-5\" type=\"checkbox\" checked><label for=\"sk-estimator-id-5\" class=\"sk-toggleable__label sk-toggleable__label-arrow\">DecisionTreeClassifier</label><div class=\"sk-toggleable__content\"><pre>DecisionTreeClassifier(random_state=42)</pre></div></div></div></div></div>"
      ],
      "text/plain": [
       "DecisionTreeClassifier(random_state=42)"
      ]
     },
     "execution_count": 45,
     "metadata": {},
     "output_type": "execute_result"
    }
   ],
   "source": [
    "clf = DecisionTreeClassifier(random_state=42)\n",
    "clf.fit(X_train, y_train)"
   ]
  },
  {
   "cell_type": "code",
   "execution_count": 46,
   "id": "3b56d190",
   "metadata": {
    "execution": {
     "iopub.execute_input": "2023-03-20T12:55:28.064698Z",
     "iopub.status.busy": "2023-03-20T12:55:28.064384Z",
     "iopub.status.idle": "2023-03-20T12:55:28.104265Z",
     "shell.execute_reply": "2023-03-20T12:55:28.103439Z"
    },
    "papermill": {
     "duration": 0.056869,
     "end_time": "2023-03-20T12:55:28.106852",
     "exception": false,
     "start_time": "2023-03-20T12:55:28.049983",
     "status": "completed"
    },
    "tags": []
   },
   "outputs": [
    {
     "name": "stdout",
     "output_type": "stream",
     "text": [
      "                                           precision    recall  f1-score   support\n",
      "\n",
      "                    action_thriller_crime       0.23      0.26      0.25       318\n",
      "                                   comedy       0.30      0.29      0.29       423\n",
      "                                    drama       0.35      0.32      0.33       499\n",
      "horror_scifi_mystery_supernatural_fantasy       0.20      0.21      0.21       263\n",
      "\n",
      "                                 accuracy                           0.28      1503\n",
      "                                macro avg       0.27      0.27      0.27      1503\n",
      "                             weighted avg       0.28      0.28      0.28      1503\n",
      "\n"
     ]
    }
   ],
   "source": [
    "y_pred = clf.predict(X_test)\n",
    "print(classification_report(y_test, y_pred))"
   ]
  },
  {
   "cell_type": "code",
   "execution_count": 47,
   "id": "42bc91ff",
   "metadata": {
    "execution": {
     "iopub.execute_input": "2023-03-20T12:55:28.169035Z",
     "iopub.status.busy": "2023-03-20T12:55:28.168705Z",
     "iopub.status.idle": "2023-03-20T12:55:28.174090Z",
     "shell.execute_reply": "2023-03-20T12:55:28.173270Z"
    },
    "papermill": {
     "duration": 0.038698,
     "end_time": "2023-03-20T12:55:28.176045",
     "exception": false,
     "start_time": "2023-03-20T12:55:28.137347",
     "status": "completed"
    },
    "tags": []
   },
   "outputs": [],
   "source": [
    "pickle.dump(clf, open(f'{data_path}/decision_tree.pkl', 'wb'))"
   ]
  },
  {
   "cell_type": "code",
   "execution_count": 48,
   "id": "ea9be210",
   "metadata": {
    "execution": {
     "iopub.execute_input": "2023-03-20T12:55:28.209579Z",
     "iopub.status.busy": "2023-03-20T12:55:28.209112Z",
     "iopub.status.idle": "2023-03-20T12:55:28.281826Z",
     "shell.execute_reply": "2023-03-20T12:55:28.280476Z"
    },
    "papermill": {
     "duration": 0.092948,
     "end_time": "2023-03-20T12:55:28.284861",
     "exception": false,
     "start_time": "2023-03-20T12:55:28.191913",
     "status": "completed"
    },
    "tags": []
   },
   "outputs": [],
   "source": [
    "acc = accuracy_score(y_test, y_pred)\n",
    "pre = precision_score(y_test, y_pred, average=avg_par)\n",
    "rec = recall_score(y_test, y_pred, average=avg_par)\n",
    "f1 = f1_score(y_test, y_pred, average=avg_par)\n",
    "\n",
    "metrics_data['Shapelets']['DecisionTree'] = {'Accuracy': acc, 'Precision': pre, 'Recall': rec, 'F1': f1}"
   ]
  },
  {
   "cell_type": "markdown",
   "id": "3ca3443b",
   "metadata": {
    "papermill": {
     "duration": 0.035525,
     "end_time": "2023-03-20T12:55:28.358104",
     "exception": false,
     "start_time": "2023-03-20T12:55:28.322579",
     "status": "completed"
    },
    "tags": []
   },
   "source": [
    "**Random Forest**"
   ]
  },
  {
   "cell_type": "code",
   "execution_count": 49,
   "id": "37795e21",
   "metadata": {
    "execution": {
     "iopub.execute_input": "2023-03-20T12:55:28.388153Z",
     "iopub.status.busy": "2023-03-20T12:55:28.387837Z",
     "iopub.status.idle": "2023-03-20T12:55:31.035392Z",
     "shell.execute_reply": "2023-03-20T12:55:31.034178Z"
    },
    "papermill": {
     "duration": 2.666096,
     "end_time": "2023-03-20T12:55:31.038900",
     "exception": false,
     "start_time": "2023-03-20T12:55:28.372804",
     "status": "completed"
    },
    "tags": []
   },
   "outputs": [
    {
     "data": {
      "text/html": [
       "<style>#sk-container-id-6 {color: black;background-color: white;}#sk-container-id-6 pre{padding: 0;}#sk-container-id-6 div.sk-toggleable {background-color: white;}#sk-container-id-6 label.sk-toggleable__label {cursor: pointer;display: block;width: 100%;margin-bottom: 0;padding: 0.3em;box-sizing: border-box;text-align: center;}#sk-container-id-6 label.sk-toggleable__label-arrow:before {content: \"▸\";float: left;margin-right: 0.25em;color: #696969;}#sk-container-id-6 label.sk-toggleable__label-arrow:hover:before {color: black;}#sk-container-id-6 div.sk-estimator:hover label.sk-toggleable__label-arrow:before {color: black;}#sk-container-id-6 div.sk-toggleable__content {max-height: 0;max-width: 0;overflow: hidden;text-align: left;background-color: #f0f8ff;}#sk-container-id-6 div.sk-toggleable__content pre {margin: 0.2em;color: black;border-radius: 0.25em;background-color: #f0f8ff;}#sk-container-id-6 input.sk-toggleable__control:checked~div.sk-toggleable__content {max-height: 200px;max-width: 100%;overflow: auto;}#sk-container-id-6 input.sk-toggleable__control:checked~label.sk-toggleable__label-arrow:before {content: \"▾\";}#sk-container-id-6 div.sk-estimator input.sk-toggleable__control:checked~label.sk-toggleable__label {background-color: #d4ebff;}#sk-container-id-6 div.sk-label input.sk-toggleable__control:checked~label.sk-toggleable__label {background-color: #d4ebff;}#sk-container-id-6 input.sk-hidden--visually {border: 0;clip: rect(1px 1px 1px 1px);clip: rect(1px, 1px, 1px, 1px);height: 1px;margin: -1px;overflow: hidden;padding: 0;position: absolute;width: 1px;}#sk-container-id-6 div.sk-estimator {font-family: monospace;background-color: #f0f8ff;border: 1px dotted black;border-radius: 0.25em;box-sizing: border-box;margin-bottom: 0.5em;}#sk-container-id-6 div.sk-estimator:hover {background-color: #d4ebff;}#sk-container-id-6 div.sk-parallel-item::after {content: \"\";width: 100%;border-bottom: 1px solid gray;flex-grow: 1;}#sk-container-id-6 div.sk-label:hover label.sk-toggleable__label {background-color: #d4ebff;}#sk-container-id-6 div.sk-serial::before {content: \"\";position: absolute;border-left: 1px solid gray;box-sizing: border-box;top: 0;bottom: 0;left: 50%;z-index: 0;}#sk-container-id-6 div.sk-serial {display: flex;flex-direction: column;align-items: center;background-color: white;padding-right: 0.2em;padding-left: 0.2em;position: relative;}#sk-container-id-6 div.sk-item {position: relative;z-index: 1;}#sk-container-id-6 div.sk-parallel {display: flex;align-items: stretch;justify-content: center;background-color: white;position: relative;}#sk-container-id-6 div.sk-item::before, #sk-container-id-6 div.sk-parallel-item::before {content: \"\";position: absolute;border-left: 1px solid gray;box-sizing: border-box;top: 0;bottom: 0;left: 50%;z-index: -1;}#sk-container-id-6 div.sk-parallel-item {display: flex;flex-direction: column;z-index: 1;position: relative;background-color: white;}#sk-container-id-6 div.sk-parallel-item:first-child::after {align-self: flex-end;width: 50%;}#sk-container-id-6 div.sk-parallel-item:last-child::after {align-self: flex-start;width: 50%;}#sk-container-id-6 div.sk-parallel-item:only-child::after {width: 0;}#sk-container-id-6 div.sk-dashed-wrapped {border: 1px dashed gray;margin: 0 0.4em 0.5em 0.4em;box-sizing: border-box;padding-bottom: 0.4em;background-color: white;}#sk-container-id-6 div.sk-label label {font-family: monospace;font-weight: bold;display: inline-block;line-height: 1.2em;}#sk-container-id-6 div.sk-label-container {text-align: center;}#sk-container-id-6 div.sk-container {/* jupyter's `normalize.less` sets `[hidden] { display: none; }` but bootstrap.min.css set `[hidden] { display: none !important; }` so we also need the `!important` here to be able to override the default hidden behavior on the sphinx rendered scikit-learn.org. See: https://github.com/scikit-learn/scikit-learn/issues/21755 */display: inline-block !important;position: relative;}#sk-container-id-6 div.sk-text-repr-fallback {display: none;}</style><div id=\"sk-container-id-6\" class=\"sk-top-container\"><div class=\"sk-text-repr-fallback\"><pre>RandomForestClassifier(random_state=42)</pre><b>In a Jupyter environment, please rerun this cell to show the HTML representation or trust the notebook. <br />On GitHub, the HTML representation is unable to render, please try loading this page with nbviewer.org.</b></div><div class=\"sk-container\" hidden><div class=\"sk-item\"><div class=\"sk-estimator sk-toggleable\"><input class=\"sk-toggleable__control sk-hidden--visually\" id=\"sk-estimator-id-6\" type=\"checkbox\" checked><label for=\"sk-estimator-id-6\" class=\"sk-toggleable__label sk-toggleable__label-arrow\">RandomForestClassifier</label><div class=\"sk-toggleable__content\"><pre>RandomForestClassifier(random_state=42)</pre></div></div></div></div></div>"
      ],
      "text/plain": [
       "RandomForestClassifier(random_state=42)"
      ]
     },
     "execution_count": 49,
     "metadata": {},
     "output_type": "execute_result"
    }
   ],
   "source": [
    "clf = RandomForestClassifier(random_state=42)\n",
    "clf.fit(X_train, y_train)"
   ]
  },
  {
   "cell_type": "code",
   "execution_count": 50,
   "id": "581ab90a",
   "metadata": {
    "execution": {
     "iopub.execute_input": "2023-03-20T12:55:31.113631Z",
     "iopub.status.busy": "2023-03-20T12:55:31.113189Z",
     "iopub.status.idle": "2023-03-20T12:55:31.189403Z",
     "shell.execute_reply": "2023-03-20T12:55:31.188651Z"
    },
    "papermill": {
     "duration": 0.115944,
     "end_time": "2023-03-20T12:55:31.192620",
     "exception": false,
     "start_time": "2023-03-20T12:55:31.076676",
     "status": "completed"
    },
    "tags": []
   },
   "outputs": [
    {
     "name": "stdout",
     "output_type": "stream",
     "text": [
      "                                           precision    recall  f1-score   support\n",
      "\n",
      "                    action_thriller_crime       0.21      0.12      0.15       318\n",
      "                                   comedy       0.34      0.42      0.38       423\n",
      "                                    drama       0.37      0.53      0.43       499\n",
      "horror_scifi_mystery_supernatural_fantasy       0.28      0.09      0.14       263\n",
      "\n",
      "                                 accuracy                           0.33      1503\n",
      "                                macro avg       0.30      0.29      0.28      1503\n",
      "                             weighted avg       0.31      0.33      0.31      1503\n",
      "\n"
     ]
    }
   ],
   "source": [
    "y_pred = clf.predict(X_test)\n",
    "print(classification_report(y_test, y_pred))"
   ]
  },
  {
   "cell_type": "code",
   "execution_count": 51,
   "id": "faf1d7f4",
   "metadata": {
    "execution": {
     "iopub.execute_input": "2023-03-20T12:55:31.266986Z",
     "iopub.status.busy": "2023-03-20T12:55:31.266610Z",
     "iopub.status.idle": "2023-03-20T12:55:31.334526Z",
     "shell.execute_reply": "2023-03-20T12:55:31.333515Z"
    },
    "papermill": {
     "duration": 0.106311,
     "end_time": "2023-03-20T12:55:31.336931",
     "exception": false,
     "start_time": "2023-03-20T12:55:31.230620",
     "status": "completed"
    },
    "tags": []
   },
   "outputs": [],
   "source": [
    "acc = accuracy_score(y_test, y_pred)\n",
    "pre = precision_score(y_test, y_pred, average=avg_par)\n",
    "rec = recall_score(y_test, y_pred, average=avg_par)\n",
    "f1 = f1_score(y_test, y_pred, average=avg_par)\n",
    "\n",
    "metrics_data['Shapelets']['RandomForest'] = {'Accuracy': acc, 'Precision': pre, 'Recall': rec, 'F1': f1}"
   ]
  },
  {
   "cell_type": "markdown",
   "id": "61fceefb",
   "metadata": {
    "papermill": {
     "duration": 0.013544,
     "end_time": "2023-03-20T12:55:31.402951",
     "exception": false,
     "start_time": "2023-03-20T12:55:31.389407",
     "status": "completed"
    },
    "tags": []
   },
   "source": [
    "**LightGBM**"
   ]
  },
  {
   "cell_type": "code",
   "execution_count": 52,
   "id": "194189da",
   "metadata": {
    "execution": {
     "iopub.execute_input": "2023-03-20T12:55:31.431989Z",
     "iopub.status.busy": "2023-03-20T12:55:31.431510Z",
     "iopub.status.idle": "2023-03-20T12:55:32.114180Z",
     "shell.execute_reply": "2023-03-20T12:55:32.113095Z"
    },
    "papermill": {
     "duration": 0.699555,
     "end_time": "2023-03-20T12:55:32.116100",
     "exception": false,
     "start_time": "2023-03-20T12:55:31.416545",
     "status": "completed"
    },
    "tags": []
   },
   "outputs": [
    {
     "data": {
      "text/html": [
       "<style>#sk-container-id-7 {color: black;background-color: white;}#sk-container-id-7 pre{padding: 0;}#sk-container-id-7 div.sk-toggleable {background-color: white;}#sk-container-id-7 label.sk-toggleable__label {cursor: pointer;display: block;width: 100%;margin-bottom: 0;padding: 0.3em;box-sizing: border-box;text-align: center;}#sk-container-id-7 label.sk-toggleable__label-arrow:before {content: \"▸\";float: left;margin-right: 0.25em;color: #696969;}#sk-container-id-7 label.sk-toggleable__label-arrow:hover:before {color: black;}#sk-container-id-7 div.sk-estimator:hover label.sk-toggleable__label-arrow:before {color: black;}#sk-container-id-7 div.sk-toggleable__content {max-height: 0;max-width: 0;overflow: hidden;text-align: left;background-color: #f0f8ff;}#sk-container-id-7 div.sk-toggleable__content pre {margin: 0.2em;color: black;border-radius: 0.25em;background-color: #f0f8ff;}#sk-container-id-7 input.sk-toggleable__control:checked~div.sk-toggleable__content {max-height: 200px;max-width: 100%;overflow: auto;}#sk-container-id-7 input.sk-toggleable__control:checked~label.sk-toggleable__label-arrow:before {content: \"▾\";}#sk-container-id-7 div.sk-estimator input.sk-toggleable__control:checked~label.sk-toggleable__label {background-color: #d4ebff;}#sk-container-id-7 div.sk-label input.sk-toggleable__control:checked~label.sk-toggleable__label {background-color: #d4ebff;}#sk-container-id-7 input.sk-hidden--visually {border: 0;clip: rect(1px 1px 1px 1px);clip: rect(1px, 1px, 1px, 1px);height: 1px;margin: -1px;overflow: hidden;padding: 0;position: absolute;width: 1px;}#sk-container-id-7 div.sk-estimator {font-family: monospace;background-color: #f0f8ff;border: 1px dotted black;border-radius: 0.25em;box-sizing: border-box;margin-bottom: 0.5em;}#sk-container-id-7 div.sk-estimator:hover {background-color: #d4ebff;}#sk-container-id-7 div.sk-parallel-item::after {content: \"\";width: 100%;border-bottom: 1px solid gray;flex-grow: 1;}#sk-container-id-7 div.sk-label:hover label.sk-toggleable__label {background-color: #d4ebff;}#sk-container-id-7 div.sk-serial::before {content: \"\";position: absolute;border-left: 1px solid gray;box-sizing: border-box;top: 0;bottom: 0;left: 50%;z-index: 0;}#sk-container-id-7 div.sk-serial {display: flex;flex-direction: column;align-items: center;background-color: white;padding-right: 0.2em;padding-left: 0.2em;position: relative;}#sk-container-id-7 div.sk-item {position: relative;z-index: 1;}#sk-container-id-7 div.sk-parallel {display: flex;align-items: stretch;justify-content: center;background-color: white;position: relative;}#sk-container-id-7 div.sk-item::before, #sk-container-id-7 div.sk-parallel-item::before {content: \"\";position: absolute;border-left: 1px solid gray;box-sizing: border-box;top: 0;bottom: 0;left: 50%;z-index: -1;}#sk-container-id-7 div.sk-parallel-item {display: flex;flex-direction: column;z-index: 1;position: relative;background-color: white;}#sk-container-id-7 div.sk-parallel-item:first-child::after {align-self: flex-end;width: 50%;}#sk-container-id-7 div.sk-parallel-item:last-child::after {align-self: flex-start;width: 50%;}#sk-container-id-7 div.sk-parallel-item:only-child::after {width: 0;}#sk-container-id-7 div.sk-dashed-wrapped {border: 1px dashed gray;margin: 0 0.4em 0.5em 0.4em;box-sizing: border-box;padding-bottom: 0.4em;background-color: white;}#sk-container-id-7 div.sk-label label {font-family: monospace;font-weight: bold;display: inline-block;line-height: 1.2em;}#sk-container-id-7 div.sk-label-container {text-align: center;}#sk-container-id-7 div.sk-container {/* jupyter's `normalize.less` sets `[hidden] { display: none; }` but bootstrap.min.css set `[hidden] { display: none !important; }` so we also need the `!important` here to be able to override the default hidden behavior on the sphinx rendered scikit-learn.org. See: https://github.com/scikit-learn/scikit-learn/issues/21755 */display: inline-block !important;position: relative;}#sk-container-id-7 div.sk-text-repr-fallback {display: none;}</style><div id=\"sk-container-id-7\" class=\"sk-top-container\"><div class=\"sk-text-repr-fallback\"><pre>LGBMClassifier(objective=&#x27;multiclass&#x27;)</pre><b>In a Jupyter environment, please rerun this cell to show the HTML representation or trust the notebook. <br />On GitHub, the HTML representation is unable to render, please try loading this page with nbviewer.org.</b></div><div class=\"sk-container\" hidden><div class=\"sk-item\"><div class=\"sk-estimator sk-toggleable\"><input class=\"sk-toggleable__control sk-hidden--visually\" id=\"sk-estimator-id-7\" type=\"checkbox\" checked><label for=\"sk-estimator-id-7\" class=\"sk-toggleable__label sk-toggleable__label-arrow\">LGBMClassifier</label><div class=\"sk-toggleable__content\"><pre>LGBMClassifier(objective=&#x27;multiclass&#x27;)</pre></div></div></div></div></div>"
      ],
      "text/plain": [
       "LGBMClassifier(objective='multiclass')"
      ]
     },
     "execution_count": 52,
     "metadata": {},
     "output_type": "execute_result"
    }
   ],
   "source": [
    "clf = lgbm.LGBMClassifier(objective=obj_par) \n",
    "clf.fit(X_train, y_train)"
   ]
  },
  {
   "cell_type": "code",
   "execution_count": 53,
   "id": "355a078b",
   "metadata": {
    "execution": {
     "iopub.execute_input": "2023-03-20T12:55:32.147989Z",
     "iopub.status.busy": "2023-03-20T12:55:32.147502Z",
     "iopub.status.idle": "2023-03-20T12:55:32.247630Z",
     "shell.execute_reply": "2023-03-20T12:55:32.246507Z"
    },
    "papermill": {
     "duration": 0.117637,
     "end_time": "2023-03-20T12:55:32.249498",
     "exception": false,
     "start_time": "2023-03-20T12:55:32.131861",
     "status": "completed"
    },
    "tags": []
   },
   "outputs": [
    {
     "name": "stdout",
     "output_type": "stream",
     "text": [
      "                                           precision    recall  f1-score   support\n",
      "\n",
      "                    action_thriller_crime       0.22      0.14      0.17       318\n",
      "                                   comedy       0.31      0.37      0.34       423\n",
      "                                    drama       0.36      0.49      0.41       499\n",
      "horror_scifi_mystery_supernatural_fantasy       0.22      0.10      0.13       263\n",
      "\n",
      "                                 accuracy                           0.31      1503\n",
      "                                macro avg       0.28      0.27      0.26      1503\n",
      "                             weighted avg       0.29      0.31      0.29      1503\n",
      "\n"
     ]
    }
   ],
   "source": [
    "y_pred = clf.predict(X_test)\n",
    "print(classification_report(y_test, y_pred))"
   ]
  },
  {
   "cell_type": "code",
   "execution_count": 54,
   "id": "f22b911e",
   "metadata": {
    "execution": {
     "iopub.execute_input": "2023-03-20T12:55:32.281145Z",
     "iopub.status.busy": "2023-03-20T12:55:32.280830Z",
     "iopub.status.idle": "2023-03-20T12:55:32.339996Z",
     "shell.execute_reply": "2023-03-20T12:55:32.339143Z"
    },
    "papermill": {
     "duration": 0.076945,
     "end_time": "2023-03-20T12:55:32.342802",
     "exception": false,
     "start_time": "2023-03-20T12:55:32.265857",
     "status": "completed"
    },
    "tags": []
   },
   "outputs": [],
   "source": [
    "acc = accuracy_score(y_test, y_pred)\n",
    "pre = precision_score(y_test, y_pred, average=avg_par)\n",
    "rec = recall_score(y_test, y_pred, average=avg_par)\n",
    "f1 = f1_score(y_test, y_pred, average=avg_par)\n",
    "\n",
    "metrics_data['Shapelets']['LightGBM'] = {'Accuracy': acc, 'Precision': pre, 'Recall': rec, 'F1': f1}"
   ]
  },
  {
   "cell_type": "markdown",
   "id": "0809af9f",
   "metadata": {
    "papermill": {
     "duration": 0.035742,
     "end_time": "2023-03-20T12:55:32.417711",
     "exception": false,
     "start_time": "2023-03-20T12:55:32.381969",
     "status": "completed"
    },
    "tags": []
   },
   "source": [
    "#### KNN"
   ]
  },
  {
   "cell_type": "code",
   "execution_count": 55,
   "id": "1c9237e0",
   "metadata": {
    "execution": {
     "iopub.execute_input": "2023-03-20T12:55:32.446842Z",
     "iopub.status.busy": "2023-03-20T12:55:32.446531Z",
     "iopub.status.idle": "2023-03-20T12:55:32.451051Z",
     "shell.execute_reply": "2023-03-20T12:55:32.450300Z"
    },
    "papermill": {
     "duration": 0.020929,
     "end_time": "2023-03-20T12:55:32.452526",
     "exception": false,
     "start_time": "2023-03-20T12:55:32.431597",
     "status": "completed"
    },
    "tags": []
   },
   "outputs": [],
   "source": [
    "X_train = ts_train.reshape((ts_train.shape[0], ts_train.shape[1]))\n",
    "X_test = ts_test.reshape((ts_test.shape[0], ts_test.shape[1]))"
   ]
  },
  {
   "cell_type": "code",
   "execution_count": 56,
   "id": "192f3c3f",
   "metadata": {
    "execution": {
     "iopub.execute_input": "2023-03-20T12:55:32.483745Z",
     "iopub.status.busy": "2023-03-20T12:55:32.482789Z",
     "iopub.status.idle": "2023-03-20T12:55:32.489575Z",
     "shell.execute_reply": "2023-03-20T12:55:32.488707Z"
    },
    "papermill": {
     "duration": 0.024355,
     "end_time": "2023-03-20T12:55:32.491145",
     "exception": false,
     "start_time": "2023-03-20T12:55:32.466790",
     "status": "completed"
    },
    "tags": []
   },
   "outputs": [
    {
     "data": {
      "text/plain": [
       "(6009, 100)"
      ]
     },
     "execution_count": 56,
     "metadata": {},
     "output_type": "execute_result"
    }
   ],
   "source": [
    "X_train.shape"
   ]
  },
  {
   "cell_type": "code",
   "execution_count": 57,
   "id": "de0e5000",
   "metadata": {
    "execution": {
     "iopub.execute_input": "2023-03-20T12:55:32.522702Z",
     "iopub.status.busy": "2023-03-20T12:55:32.522212Z",
     "iopub.status.idle": "2023-03-20T12:55:32.527375Z",
     "shell.execute_reply": "2023-03-20T12:55:32.526444Z"
    },
    "papermill": {
     "duration": 0.023221,
     "end_time": "2023-03-20T12:55:32.528967",
     "exception": false,
     "start_time": "2023-03-20T12:55:32.505746",
     "status": "completed"
    },
    "tags": []
   },
   "outputs": [],
   "source": [
    "metrics_data['KNN'] = {}"
   ]
  },
  {
   "cell_type": "markdown",
   "id": "8ee39c05",
   "metadata": {
    "papermill": {
     "duration": 0.014674,
     "end_time": "2023-03-20T12:55:32.558254",
     "exception": false,
     "start_time": "2023-03-20T12:55:32.543580",
     "status": "completed"
    },
    "tags": []
   },
   "source": [
    "**Euclidean Distance**"
   ]
  },
  {
   "cell_type": "code",
   "execution_count": 58,
   "id": "55db1f58",
   "metadata": {
    "execution": {
     "iopub.execute_input": "2023-03-20T12:55:32.590195Z",
     "iopub.status.busy": "2023-03-20T12:55:32.589894Z",
     "iopub.status.idle": "2023-03-20T12:55:32.594644Z",
     "shell.execute_reply": "2023-03-20T12:55:32.593697Z"
    },
    "papermill": {
     "duration": 0.023185,
     "end_time": "2023-03-20T12:55:32.596488",
     "exception": false,
     "start_time": "2023-03-20T12:55:32.573303",
     "status": "completed"
    },
    "tags": []
   },
   "outputs": [],
   "source": [
    "from sklearn.neighbors import KNeighborsClassifier"
   ]
  },
  {
   "cell_type": "code",
   "execution_count": 59,
   "id": "132c2537",
   "metadata": {
    "execution": {
     "iopub.execute_input": "2023-03-20T12:55:32.630954Z",
     "iopub.status.busy": "2023-03-20T12:55:32.630054Z",
     "iopub.status.idle": "2023-03-20T12:55:32.652202Z",
     "shell.execute_reply": "2023-03-20T12:55:32.651108Z"
    },
    "papermill": {
     "duration": 0.042692,
     "end_time": "2023-03-20T12:55:32.654398",
     "exception": false,
     "start_time": "2023-03-20T12:55:32.611706",
     "status": "completed"
    },
    "tags": []
   },
   "outputs": [
    {
     "data": {
      "text/html": [
       "<style>#sk-container-id-8 {color: black;background-color: white;}#sk-container-id-8 pre{padding: 0;}#sk-container-id-8 div.sk-toggleable {background-color: white;}#sk-container-id-8 label.sk-toggleable__label {cursor: pointer;display: block;width: 100%;margin-bottom: 0;padding: 0.3em;box-sizing: border-box;text-align: center;}#sk-container-id-8 label.sk-toggleable__label-arrow:before {content: \"▸\";float: left;margin-right: 0.25em;color: #696969;}#sk-container-id-8 label.sk-toggleable__label-arrow:hover:before {color: black;}#sk-container-id-8 div.sk-estimator:hover label.sk-toggleable__label-arrow:before {color: black;}#sk-container-id-8 div.sk-toggleable__content {max-height: 0;max-width: 0;overflow: hidden;text-align: left;background-color: #f0f8ff;}#sk-container-id-8 div.sk-toggleable__content pre {margin: 0.2em;color: black;border-radius: 0.25em;background-color: #f0f8ff;}#sk-container-id-8 input.sk-toggleable__control:checked~div.sk-toggleable__content {max-height: 200px;max-width: 100%;overflow: auto;}#sk-container-id-8 input.sk-toggleable__control:checked~label.sk-toggleable__label-arrow:before {content: \"▾\";}#sk-container-id-8 div.sk-estimator input.sk-toggleable__control:checked~label.sk-toggleable__label {background-color: #d4ebff;}#sk-container-id-8 div.sk-label input.sk-toggleable__control:checked~label.sk-toggleable__label {background-color: #d4ebff;}#sk-container-id-8 input.sk-hidden--visually {border: 0;clip: rect(1px 1px 1px 1px);clip: rect(1px, 1px, 1px, 1px);height: 1px;margin: -1px;overflow: hidden;padding: 0;position: absolute;width: 1px;}#sk-container-id-8 div.sk-estimator {font-family: monospace;background-color: #f0f8ff;border: 1px dotted black;border-radius: 0.25em;box-sizing: border-box;margin-bottom: 0.5em;}#sk-container-id-8 div.sk-estimator:hover {background-color: #d4ebff;}#sk-container-id-8 div.sk-parallel-item::after {content: \"\";width: 100%;border-bottom: 1px solid gray;flex-grow: 1;}#sk-container-id-8 div.sk-label:hover label.sk-toggleable__label {background-color: #d4ebff;}#sk-container-id-8 div.sk-serial::before {content: \"\";position: absolute;border-left: 1px solid gray;box-sizing: border-box;top: 0;bottom: 0;left: 50%;z-index: 0;}#sk-container-id-8 div.sk-serial {display: flex;flex-direction: column;align-items: center;background-color: white;padding-right: 0.2em;padding-left: 0.2em;position: relative;}#sk-container-id-8 div.sk-item {position: relative;z-index: 1;}#sk-container-id-8 div.sk-parallel {display: flex;align-items: stretch;justify-content: center;background-color: white;position: relative;}#sk-container-id-8 div.sk-item::before, #sk-container-id-8 div.sk-parallel-item::before {content: \"\";position: absolute;border-left: 1px solid gray;box-sizing: border-box;top: 0;bottom: 0;left: 50%;z-index: -1;}#sk-container-id-8 div.sk-parallel-item {display: flex;flex-direction: column;z-index: 1;position: relative;background-color: white;}#sk-container-id-8 div.sk-parallel-item:first-child::after {align-self: flex-end;width: 50%;}#sk-container-id-8 div.sk-parallel-item:last-child::after {align-self: flex-start;width: 50%;}#sk-container-id-8 div.sk-parallel-item:only-child::after {width: 0;}#sk-container-id-8 div.sk-dashed-wrapped {border: 1px dashed gray;margin: 0 0.4em 0.5em 0.4em;box-sizing: border-box;padding-bottom: 0.4em;background-color: white;}#sk-container-id-8 div.sk-label label {font-family: monospace;font-weight: bold;display: inline-block;line-height: 1.2em;}#sk-container-id-8 div.sk-label-container {text-align: center;}#sk-container-id-8 div.sk-container {/* jupyter's `normalize.less` sets `[hidden] { display: none; }` but bootstrap.min.css set `[hidden] { display: none !important; }` so we also need the `!important` here to be able to override the default hidden behavior on the sphinx rendered scikit-learn.org. See: https://github.com/scikit-learn/scikit-learn/issues/21755 */display: inline-block !important;position: relative;}#sk-container-id-8 div.sk-text-repr-fallback {display: none;}</style><div id=\"sk-container-id-8\" class=\"sk-top-container\"><div class=\"sk-text-repr-fallback\"><pre>KNeighborsClassifier()</pre><b>In a Jupyter environment, please rerun this cell to show the HTML representation or trust the notebook. <br />On GitHub, the HTML representation is unable to render, please try loading this page with nbviewer.org.</b></div><div class=\"sk-container\" hidden><div class=\"sk-item\"><div class=\"sk-estimator sk-toggleable\"><input class=\"sk-toggleable__control sk-hidden--visually\" id=\"sk-estimator-id-8\" type=\"checkbox\" checked><label for=\"sk-estimator-id-8\" class=\"sk-toggleable__label sk-toggleable__label-arrow\">KNeighborsClassifier</label><div class=\"sk-toggleable__content\"><pre>KNeighborsClassifier()</pre></div></div></div></div></div>"
      ],
      "text/plain": [
       "KNeighborsClassifier()"
      ]
     },
     "execution_count": 59,
     "metadata": {},
     "output_type": "execute_result"
    }
   ],
   "source": [
    "clf = KNeighborsClassifier(n_neighbors=5, weights='uniform')\n",
    "clf.fit(X_train, y_train)"
   ]
  },
  {
   "cell_type": "code",
   "execution_count": 60,
   "id": "0afad62a",
   "metadata": {
    "execution": {
     "iopub.execute_input": "2023-03-20T12:55:32.687723Z",
     "iopub.status.busy": "2023-03-20T12:55:32.687399Z",
     "iopub.status.idle": "2023-03-20T12:55:32.999580Z",
     "shell.execute_reply": "2023-03-20T12:55:32.998340Z"
    },
    "papermill": {
     "duration": 0.330064,
     "end_time": "2023-03-20T12:55:33.001907",
     "exception": false,
     "start_time": "2023-03-20T12:55:32.671843",
     "status": "completed"
    },
    "tags": []
   },
   "outputs": [
    {
     "name": "stdout",
     "output_type": "stream",
     "text": [
      "                                           precision    recall  f1-score   support\n",
      "\n",
      "                    action_thriller_crime       0.26      0.24      0.25       318\n",
      "                                   comedy       0.31      0.38      0.34       423\n",
      "                                    drama       0.35      0.44      0.39       499\n",
      "horror_scifi_mystery_supernatural_fantasy       0.25      0.08      0.12       263\n",
      "\n",
      "                                 accuracy                           0.32      1503\n",
      "                                macro avg       0.29      0.28      0.27      1503\n",
      "                             weighted avg       0.30      0.32      0.30      1503\n",
      "\n"
     ]
    }
   ],
   "source": [
    "y_pred = clf.predict(X_test)\n",
    "print(classification_report(y_test, y_pred))"
   ]
  },
  {
   "cell_type": "code",
   "execution_count": 61,
   "id": "2d709070",
   "metadata": {
    "execution": {
     "iopub.execute_input": "2023-03-20T12:55:33.037273Z",
     "iopub.status.busy": "2023-03-20T12:55:33.036904Z",
     "iopub.status.idle": "2023-03-20T12:55:33.101069Z",
     "shell.execute_reply": "2023-03-20T12:55:33.100450Z"
    },
    "papermill": {
     "duration": 0.083666,
     "end_time": "2023-03-20T12:55:33.103442",
     "exception": false,
     "start_time": "2023-03-20T12:55:33.019776",
     "status": "completed"
    },
    "tags": []
   },
   "outputs": [],
   "source": [
    "acc = accuracy_score(y_test, y_pred)\n",
    "pre = precision_score(y_test, y_pred, average=avg_par)\n",
    "rec = recall_score(y_test, y_pred, average=avg_par)\n",
    "f1 = f1_score(y_test, y_pred, average=avg_par)\n",
    "\n",
    "metrics_data['KNN']['Euclidean'] = {'Accuracy': acc, 'Precision': pre, 'Recall': rec, 'F1': f1}"
   ]
  },
  {
   "cell_type": "markdown",
   "id": "c5ec2a09",
   "metadata": {
    "papermill": {
     "duration": 0.034143,
     "end_time": "2023-03-20T12:55:33.180805",
     "exception": false,
     "start_time": "2023-03-20T12:55:33.146662",
     "status": "completed"
    },
    "tags": []
   },
   "source": [
    "**Dynamic Time Warping**"
   ]
  },
  {
   "cell_type": "code",
   "execution_count": 62,
   "id": "2df913d8",
   "metadata": {
    "execution": {
     "iopub.execute_input": "2023-03-20T12:55:33.217165Z",
     "iopub.status.busy": "2023-03-20T12:55:33.216673Z",
     "iopub.status.idle": "2023-03-20T12:55:33.301517Z",
     "shell.execute_reply": "2023-03-20T12:55:33.300868Z"
    },
    "papermill": {
     "duration": 0.106082,
     "end_time": "2023-03-20T12:55:33.303502",
     "exception": false,
     "start_time": "2023-03-20T12:55:33.197420",
     "status": "completed"
    },
    "tags": []
   },
   "outputs": [],
   "source": [
    "from pyts.classification import KNeighborsClassifier\n",
    "from pyts.approximation import PiecewiseAggregateApproximation\n",
    "from imblearn.under_sampling import ClusterCentroids\n",
    "from sklearn_extra.cluster import KMedoids"
   ]
  },
  {
   "cell_type": "code",
   "execution_count": 63,
   "id": "db1604ec",
   "metadata": {
    "execution": {
     "iopub.execute_input": "2023-03-20T12:55:33.336344Z",
     "iopub.status.busy": "2023-03-20T12:55:33.335942Z",
     "iopub.status.idle": "2023-03-20T12:55:33.341049Z",
     "shell.execute_reply": "2023-03-20T12:55:33.340166Z"
    },
    "papermill": {
     "duration": 0.022272,
     "end_time": "2023-03-20T12:55:33.342741",
     "exception": false,
     "start_time": "2023-03-20T12:55:33.320469",
     "status": "completed"
    },
    "tags": []
   },
   "outputs": [],
   "source": [
    "if paa_window_size:\n",
    "    paa = PiecewiseAggregateApproximation(window_size=paa_window_size)\n",
    "    X_train = paa.transform(X_train)\n",
    "    X_test = paa.transform(X_test)\n",
    "    X_train.shape"
   ]
  },
  {
   "cell_type": "code",
   "execution_count": 64,
   "id": "59fa27aa",
   "metadata": {
    "execution": {
     "iopub.execute_input": "2023-03-20T12:55:33.377579Z",
     "iopub.status.busy": "2023-03-20T12:55:33.377081Z",
     "iopub.status.idle": "2023-03-20T12:55:33.385195Z",
     "shell.execute_reply": "2023-03-20T12:55:33.384216Z"
    },
    "papermill": {
     "duration": 0.028421,
     "end_time": "2023-03-20T12:55:33.387385",
     "exception": false,
     "start_time": "2023-03-20T12:55:33.358964",
     "status": "completed"
    },
    "tags": []
   },
   "outputs": [],
   "source": [
    "if undersampling:\n",
    "    total_samples = len(y_train)\n",
    "    unique_classes, class_counts = np.unique(y_train, return_counts=True)\n",
    "    samp_strat = dict(zip(unique_classes, np.floor(class_counts * undersampling).astype(int)))\n",
    "    print(samp_strat)\n",
    "    cc = ClusterCentroids(estimator=KMedoids(\n",
    "        random_state=42), sampling_strategy=samp_strat, random_state=42)\n",
    "    X_train, y_train = cc.fit_resample(X_train, y_train)\n",
    "    X_train.shape"
   ]
  },
  {
   "cell_type": "code",
   "execution_count": 65,
   "id": "e7ac6b44",
   "metadata": {
    "execution": {
     "iopub.execute_input": "2023-03-20T12:55:33.422126Z",
     "iopub.status.busy": "2023-03-20T12:55:33.421243Z",
     "iopub.status.idle": "2023-03-20T12:55:33.448790Z",
     "shell.execute_reply": "2023-03-20T12:55:33.447503Z"
    },
    "papermill": {
     "duration": 0.048409,
     "end_time": "2023-03-20T12:55:33.450951",
     "exception": false,
     "start_time": "2023-03-20T12:55:33.402542",
     "status": "completed"
    },
    "tags": []
   },
   "outputs": [
    {
     "data": {
      "text/html": [
       "<style>#sk-container-id-9 {color: black;background-color: white;}#sk-container-id-9 pre{padding: 0;}#sk-container-id-9 div.sk-toggleable {background-color: white;}#sk-container-id-9 label.sk-toggleable__label {cursor: pointer;display: block;width: 100%;margin-bottom: 0;padding: 0.3em;box-sizing: border-box;text-align: center;}#sk-container-id-9 label.sk-toggleable__label-arrow:before {content: \"▸\";float: left;margin-right: 0.25em;color: #696969;}#sk-container-id-9 label.sk-toggleable__label-arrow:hover:before {color: black;}#sk-container-id-9 div.sk-estimator:hover label.sk-toggleable__label-arrow:before {color: black;}#sk-container-id-9 div.sk-toggleable__content {max-height: 0;max-width: 0;overflow: hidden;text-align: left;background-color: #f0f8ff;}#sk-container-id-9 div.sk-toggleable__content pre {margin: 0.2em;color: black;border-radius: 0.25em;background-color: #f0f8ff;}#sk-container-id-9 input.sk-toggleable__control:checked~div.sk-toggleable__content {max-height: 200px;max-width: 100%;overflow: auto;}#sk-container-id-9 input.sk-toggleable__control:checked~label.sk-toggleable__label-arrow:before {content: \"▾\";}#sk-container-id-9 div.sk-estimator input.sk-toggleable__control:checked~label.sk-toggleable__label {background-color: #d4ebff;}#sk-container-id-9 div.sk-label input.sk-toggleable__control:checked~label.sk-toggleable__label {background-color: #d4ebff;}#sk-container-id-9 input.sk-hidden--visually {border: 0;clip: rect(1px 1px 1px 1px);clip: rect(1px, 1px, 1px, 1px);height: 1px;margin: -1px;overflow: hidden;padding: 0;position: absolute;width: 1px;}#sk-container-id-9 div.sk-estimator {font-family: monospace;background-color: #f0f8ff;border: 1px dotted black;border-radius: 0.25em;box-sizing: border-box;margin-bottom: 0.5em;}#sk-container-id-9 div.sk-estimator:hover {background-color: #d4ebff;}#sk-container-id-9 div.sk-parallel-item::after {content: \"\";width: 100%;border-bottom: 1px solid gray;flex-grow: 1;}#sk-container-id-9 div.sk-label:hover label.sk-toggleable__label {background-color: #d4ebff;}#sk-container-id-9 div.sk-serial::before {content: \"\";position: absolute;border-left: 1px solid gray;box-sizing: border-box;top: 0;bottom: 0;left: 50%;z-index: 0;}#sk-container-id-9 div.sk-serial {display: flex;flex-direction: column;align-items: center;background-color: white;padding-right: 0.2em;padding-left: 0.2em;position: relative;}#sk-container-id-9 div.sk-item {position: relative;z-index: 1;}#sk-container-id-9 div.sk-parallel {display: flex;align-items: stretch;justify-content: center;background-color: white;position: relative;}#sk-container-id-9 div.sk-item::before, #sk-container-id-9 div.sk-parallel-item::before {content: \"\";position: absolute;border-left: 1px solid gray;box-sizing: border-box;top: 0;bottom: 0;left: 50%;z-index: -1;}#sk-container-id-9 div.sk-parallel-item {display: flex;flex-direction: column;z-index: 1;position: relative;background-color: white;}#sk-container-id-9 div.sk-parallel-item:first-child::after {align-self: flex-end;width: 50%;}#sk-container-id-9 div.sk-parallel-item:last-child::after {align-self: flex-start;width: 50%;}#sk-container-id-9 div.sk-parallel-item:only-child::after {width: 0;}#sk-container-id-9 div.sk-dashed-wrapped {border: 1px dashed gray;margin: 0 0.4em 0.5em 0.4em;box-sizing: border-box;padding-bottom: 0.4em;background-color: white;}#sk-container-id-9 div.sk-label label {font-family: monospace;font-weight: bold;display: inline-block;line-height: 1.2em;}#sk-container-id-9 div.sk-label-container {text-align: center;}#sk-container-id-9 div.sk-container {/* jupyter's `normalize.less` sets `[hidden] { display: none; }` but bootstrap.min.css set `[hidden] { display: none !important; }` so we also need the `!important` here to be able to override the default hidden behavior on the sphinx rendered scikit-learn.org. See: https://github.com/scikit-learn/scikit-learn/issues/21755 */display: inline-block !important;position: relative;}#sk-container-id-9 div.sk-text-repr-fallback {display: none;}</style><div id=\"sk-container-id-9\" class=\"sk-top-container\"><div class=\"sk-text-repr-fallback\"><pre>KNeighborsClassifier(metric=&#x27;dtw_sakoechiba&#x27;, metric_params={&#x27;window_size&#x27;: 3})</pre><b>In a Jupyter environment, please rerun this cell to show the HTML representation or trust the notebook. <br />On GitHub, the HTML representation is unable to render, please try loading this page with nbviewer.org.</b></div><div class=\"sk-container\" hidden><div class=\"sk-item\"><div class=\"sk-estimator sk-toggleable\"><input class=\"sk-toggleable__control sk-hidden--visually\" id=\"sk-estimator-id-9\" type=\"checkbox\" checked><label for=\"sk-estimator-id-9\" class=\"sk-toggleable__label sk-toggleable__label-arrow\">KNeighborsClassifier</label><div class=\"sk-toggleable__content\"><pre>KNeighborsClassifier(metric=&#x27;dtw_sakoechiba&#x27;, metric_params={&#x27;window_size&#x27;: 3})</pre></div></div></div></div></div>"
      ],
      "text/plain": [
       "KNeighborsClassifier(metric='dtw_sakoechiba', metric_params={'window_size': 3})"
      ]
     },
     "execution_count": 65,
     "metadata": {},
     "output_type": "execute_result"
    }
   ],
   "source": [
    "clf = KNeighborsClassifier(metric='dtw_sakoechiba',  metric_params={'window_size':3})\n",
    "\n",
    "clf.fit(X_train, y_train)"
   ]
  },
  {
   "cell_type": "code",
   "execution_count": 66,
   "id": "8109d19d",
   "metadata": {
    "execution": {
     "iopub.execute_input": "2023-03-20T12:55:33.485147Z",
     "iopub.status.busy": "2023-03-20T12:55:33.484291Z",
     "iopub.status.idle": "2023-03-20T13:25:21.661302Z",
     "shell.execute_reply": "2023-03-20T13:25:21.660244Z"
    },
    "papermill": {
     "duration": 1788.240781,
     "end_time": "2023-03-20T13:25:21.708921",
     "exception": false,
     "start_time": "2023-03-20T12:55:33.468140",
     "status": "completed"
    },
    "tags": []
   },
   "outputs": [
    {
     "name": "stdout",
     "output_type": "stream",
     "text": [
      "                                           precision    recall  f1-score   support\n",
      "\n",
      "                    action_thriller_crime       0.26      0.27      0.26       318\n",
      "                                   comedy       0.31      0.30      0.31       423\n",
      "                                    drama       0.35      0.34      0.35       499\n",
      "horror_scifi_mystery_supernatural_fantasy       0.21      0.23      0.22       263\n",
      "\n",
      "                                 accuracy                           0.29      1503\n",
      "                                macro avg       0.28      0.29      0.28      1503\n",
      "                             weighted avg       0.30      0.29      0.30      1503\n",
      "\n",
      "CPU times: user 29min 47s, sys: 242 ms, total: 29min 48s\n",
      "Wall time: 29min 48s\n"
     ]
    }
   ],
   "source": [
    "%%time\n",
    "y_pred = clf.predict(X_test)\n",
    "print(classification_report(y_test, y_pred))"
   ]
  },
  {
   "cell_type": "code",
   "execution_count": 67,
   "id": "b09f5cdf",
   "metadata": {
    "execution": {
     "iopub.execute_input": "2023-03-20T13:25:21.765980Z",
     "iopub.status.busy": "2023-03-20T13:25:21.765063Z",
     "iopub.status.idle": "2023-03-20T13:25:21.842833Z",
     "shell.execute_reply": "2023-03-20T13:25:21.841427Z"
    },
    "papermill": {
     "duration": 0.100211,
     "end_time": "2023-03-20T13:25:21.845203",
     "exception": false,
     "start_time": "2023-03-20T13:25:21.744992",
     "status": "completed"
    },
    "tags": []
   },
   "outputs": [],
   "source": [
    "acc = accuracy_score(y_test, y_pred)\n",
    "pre = precision_score(y_test, y_pred, average=avg_par)\n",
    "rec = recall_score(y_test, y_pred, average=avg_par)\n",
    "f1 = f1_score(y_test, y_pred, average=avg_par)\n",
    "\n",
    "metrics_data['KNN']['DTW'] = {'Accuracy': acc, 'Precision': pre, 'Recall': rec, 'F1': f1}"
   ]
  },
  {
   "cell_type": "markdown",
   "id": "e0e700a7",
   "metadata": {
    "papermill": {
     "duration": 0.018158,
     "end_time": "2023-03-20T13:25:21.883317",
     "exception": false,
     "start_time": "2023-03-20T13:25:21.865159",
     "status": "completed"
    },
    "tags": []
   },
   "source": [
    "## Overall Results"
   ]
  },
  {
   "cell_type": "code",
   "execution_count": 68,
   "id": "d003c193",
   "metadata": {
    "execution": {
     "iopub.execute_input": "2023-03-20T13:25:21.919700Z",
     "iopub.status.busy": "2023-03-20T13:25:21.919120Z",
     "iopub.status.idle": "2023-03-20T13:25:21.930574Z",
     "shell.execute_reply": "2023-03-20T13:25:21.929516Z"
    },
    "papermill": {
     "duration": 0.031719,
     "end_time": "2023-03-20T13:25:21.932223",
     "exception": false,
     "start_time": "2023-03-20T13:25:21.900504",
     "status": "completed"
    },
    "tags": []
   },
   "outputs": [],
   "source": [
    "metrics_data = pd.DataFrame.from_dict({(i,j): metrics_data[i][j] \n",
    "                                       for i in metrics_data.keys() \n",
    "                                       for j in metrics_data[i].keys()},\n",
    "                                       orient='index')"
   ]
  },
  {
   "cell_type": "code",
   "execution_count": 69,
   "id": "0944fe84",
   "metadata": {
    "execution": {
     "iopub.execute_input": "2023-03-20T13:25:21.967408Z",
     "iopub.status.busy": "2023-03-20T13:25:21.966670Z",
     "iopub.status.idle": "2023-03-20T13:25:22.046438Z",
     "shell.execute_reply": "2023-03-20T13:25:22.045645Z"
    },
    "papermill": {
     "duration": 0.100848,
     "end_time": "2023-03-20T13:25:22.049114",
     "exception": false,
     "start_time": "2023-03-20T13:25:21.948266",
     "status": "completed"
    },
    "tags": []
   },
   "outputs": [],
   "source": [
    "acc = accuracy_score(y_test, y_pred)\n",
    "pre = precision_score(y_test, y_pred, average=avg_par)\n",
    "rec = recall_score(y_test, y_pred, average=avg_par)\n",
    "f1 = f1_score(y_test, y_pred, average=avg_par)"
   ]
  },
  {
   "cell_type": "code",
   "execution_count": 70,
   "id": "7ee1b347",
   "metadata": {
    "execution": {
     "iopub.execute_input": "2023-03-20T13:25:22.086122Z",
     "iopub.status.busy": "2023-03-20T13:25:22.085710Z",
     "iopub.status.idle": "2023-03-20T13:25:22.101117Z",
     "shell.execute_reply": "2023-03-20T13:25:22.099679Z"
    },
    "papermill": {
     "duration": 0.035044,
     "end_time": "2023-03-20T13:25:22.103466",
     "exception": false,
     "start_time": "2023-03-20T13:25:22.068422",
     "status": "completed"
    },
    "tags": []
   },
   "outputs": [
    {
     "data": {
      "text/html": [
       "<div>\n",
       "<style scoped>\n",
       "    .dataframe tbody tr th:only-of-type {\n",
       "        vertical-align: middle;\n",
       "    }\n",
       "\n",
       "    .dataframe tbody tr th {\n",
       "        vertical-align: top;\n",
       "    }\n",
       "\n",
       "    .dataframe thead th {\n",
       "        text-align: right;\n",
       "    }\n",
       "</style>\n",
       "<table border=\"1\" class=\"dataframe\">\n",
       "  <thead>\n",
       "    <tr style=\"text-align: right;\">\n",
       "      <th></th>\n",
       "      <th></th>\n",
       "      <th>Accuracy</th>\n",
       "      <th>Precision</th>\n",
       "      <th>Recall</th>\n",
       "      <th>F1</th>\n",
       "    </tr>\n",
       "  </thead>\n",
       "  <tbody>\n",
       "    <tr>\n",
       "      <th rowspan=\"3\" valign=\"top\">Global</th>\n",
       "      <th>DecisionTree</th>\n",
       "      <td>0.310047</td>\n",
       "      <td>0.312812</td>\n",
       "      <td>0.310047</td>\n",
       "      <td>0.311213</td>\n",
       "    </tr>\n",
       "    <tr>\n",
       "      <th>RandomForest</th>\n",
       "      <td>0.411178</td>\n",
       "      <td>0.412215</td>\n",
       "      <td>0.411178</td>\n",
       "      <td>0.398016</td>\n",
       "    </tr>\n",
       "    <tr>\n",
       "      <th>LightGBM</th>\n",
       "      <td>0.405190</td>\n",
       "      <td>0.404883</td>\n",
       "      <td>0.405190</td>\n",
       "      <td>0.396849</td>\n",
       "    </tr>\n",
       "    <tr>\n",
       "      <th rowspan=\"3\" valign=\"top\">Shapelets</th>\n",
       "      <th>DecisionTree</th>\n",
       "      <td>0.280106</td>\n",
       "      <td>0.284262</td>\n",
       "      <td>0.280106</td>\n",
       "      <td>0.281682</td>\n",
       "    </tr>\n",
       "    <tr>\n",
       "      <th>RandomForest</th>\n",
       "      <td>0.334664</td>\n",
       "      <td>0.311849</td>\n",
       "      <td>0.334664</td>\n",
       "      <td>0.306313</td>\n",
       "    </tr>\n",
       "    <tr>\n",
       "      <th>LightGBM</th>\n",
       "      <td>0.314039</td>\n",
       "      <td>0.292111</td>\n",
       "      <td>0.314039</td>\n",
       "      <td>0.292844</td>\n",
       "    </tr>\n",
       "    <tr>\n",
       "      <th rowspan=\"2\" valign=\"top\">KNN</th>\n",
       "      <th>Euclidean</th>\n",
       "      <td>0.315369</td>\n",
       "      <td>0.303176</td>\n",
       "      <td>0.315369</td>\n",
       "      <td>0.298870</td>\n",
       "    </tr>\n",
       "    <tr>\n",
       "      <th>DTW</th>\n",
       "      <td>0.294744</td>\n",
       "      <td>0.297408</td>\n",
       "      <td>0.294744</td>\n",
       "      <td>0.295870</td>\n",
       "    </tr>\n",
       "  </tbody>\n",
       "</table>\n",
       "</div>"
      ],
      "text/plain": [
       "                        Accuracy  Precision    Recall        F1\n",
       "Global    DecisionTree  0.310047   0.312812  0.310047  0.311213\n",
       "          RandomForest  0.411178   0.412215  0.411178  0.398016\n",
       "          LightGBM      0.405190   0.404883  0.405190  0.396849\n",
       "Shapelets DecisionTree  0.280106   0.284262  0.280106  0.281682\n",
       "          RandomForest  0.334664   0.311849  0.334664  0.306313\n",
       "          LightGBM      0.314039   0.292111  0.314039  0.292844\n",
       "KNN       Euclidean     0.315369   0.303176  0.315369  0.298870\n",
       "          DTW           0.294744   0.297408  0.294744  0.295870"
      ]
     },
     "execution_count": 70,
     "metadata": {},
     "output_type": "execute_result"
    }
   ],
   "source": [
    "metrics_data"
   ]
  },
  {
   "cell_type": "code",
   "execution_count": 71,
   "id": "3efc173e",
   "metadata": {
    "execution": {
     "iopub.execute_input": "2023-03-20T13:25:22.137944Z",
     "iopub.status.busy": "2023-03-20T13:25:22.137008Z",
     "iopub.status.idle": "2023-03-20T13:25:22.147388Z",
     "shell.execute_reply": "2023-03-20T13:25:22.146721Z"
    },
    "papermill": {
     "duration": 0.029527,
     "end_time": "2023-03-20T13:25:22.149284",
     "exception": false,
     "start_time": "2023-03-20T13:25:22.119757",
     "status": "completed"
    },
    "tags": []
   },
   "outputs": [],
   "source": [
    "metrics_data.to_csv(f'{data_path}/metrics.csv')"
   ]
  },
  {
   "cell_type": "code",
   "execution_count": null,
   "id": "d21f5304",
   "metadata": {
    "papermill": {
     "duration": 0.015904,
     "end_time": "2023-03-20T13:25:22.183879",
     "exception": false,
     "start_time": "2023-03-20T13:25:22.167975",
     "status": "completed"
    },
    "tags": []
   },
   "outputs": [],
   "source": []
  }
 ],
 "metadata": {
  "celltoolbar": "Tags",
  "kernelspec": {
   "display_name": "Python 3 (ipykernel)",
   "language": "python",
   "name": "python3"
  },
  "language_info": {
   "codemirror_mode": {
    "name": "ipython",
    "version": 3
   },
   "file_extension": ".py",
   "mimetype": "text/x-python",
   "name": "python",
   "nbconvert_exporter": "python",
   "pygments_lexer": "ipython3",
   "version": "3.9.16"
  },
  "papermill": {
   "default_parameters": {},
   "duration": 2372.655949,
   "end_time": "2023-03-20T13:25:25.250884",
   "environment_variables": {},
   "exception": null,
   "input_path": "09_ts_classification.ipynb",
   "output_path": "../clf-reports/movie-plots_features.ipynb",
   "parameters": {
    "data_path": "/home/mattiapggioli/lyrics2ts/data/classification/movie-plots/features/"
   },
   "start_time": "2023-03-20T12:45:52.594935",
   "version": "2.4.0"
  },
  "vscode": {
   "interpreter": {
    "hash": "eb8d1ded7c87c6f9c253b40add648304d6b51d2e38393955e855effc7e6f899a"
   }
  }
 },
 "nbformat": 4,
 "nbformat_minor": 5
}