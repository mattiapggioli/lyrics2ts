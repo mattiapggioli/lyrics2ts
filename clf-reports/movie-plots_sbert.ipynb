{
 "cells": [
  {
   "cell_type": "markdown",
   "id": "d79a68c5",
   "metadata": {
    "papermill": {
     "duration": 0.033175,
     "end_time": "2023-03-20T11:29:58.396054",
     "exception": false,
     "start_time": "2023-03-20T11:29:58.362879",
     "status": "completed"
    },
    "tags": []
   },
   "source": [
    "# Time Series Classification"
   ]
  },
  {
   "cell_type": "code",
   "execution_count": 1,
   "id": "8a0cb2b0",
   "metadata": {
    "execution": {
     "iopub.execute_input": "2023-03-20T11:29:58.454882Z",
     "iopub.status.busy": "2023-03-20T11:29:58.454425Z",
     "iopub.status.idle": "2023-03-20T11:29:59.869893Z",
     "shell.execute_reply": "2023-03-20T11:29:59.869068Z"
    },
    "papermill": {
     "duration": 1.441505,
     "end_time": "2023-03-20T11:29:59.873038",
     "exception": false,
     "start_time": "2023-03-20T11:29:58.431533",
     "status": "completed"
    },
    "tags": []
   },
   "outputs": [],
   "source": [
    "%matplotlib inline\n",
    "import pandas as pd\n",
    "import numpy as np\n",
    "import matplotlib.pyplot as plt\n",
    "import seaborn as sns\n",
    "import re\n",
    "import os\n",
    "from sklearn.preprocessing import StandardScaler\n",
    "from sklearn.decomposition import PCA\n",
    "import joblib\n",
    "from tslearn.utils import to_time_series_dataset, save_time_series_txt, load_time_series_txt\n",
    "import random\n",
    "from sklearn.model_selection import train_test_split\n",
    "from sklearn.metrics import accuracy_score, f1_score, precision_score, recall_score, classification_report\n",
    "import pickle"
   ]
  },
  {
   "cell_type": "code",
   "execution_count": 2,
   "id": "acc03405",
   "metadata": {
    "execution": {
     "iopub.execute_input": "2023-03-20T11:29:59.934972Z",
     "iopub.status.busy": "2023-03-20T11:29:59.934302Z",
     "iopub.status.idle": "2023-03-20T11:29:59.939467Z",
     "shell.execute_reply": "2023-03-20T11:29:59.938427Z"
    },
    "papermill": {
     "duration": 0.04052,
     "end_time": "2023-03-20T11:29:59.944420",
     "exception": false,
     "start_time": "2023-03-20T11:29:59.903900",
     "status": "completed"
    },
    "tags": [
     "parameters"
    ]
   },
   "outputs": [],
   "source": [
    "data_path = '/home/mattiapggioli/lyrics2ts/data/classification/pp-rc/sbert/'\n",
    "truncate=100\n",
    "max_iter = 2000\n",
    "paa_window_size = None\n",
    "undersampling = None"
   ]
  },
  {
   "cell_type": "code",
   "execution_count": 3,
   "id": "1a585381",
   "metadata": {
    "execution": {
     "iopub.execute_input": "2023-03-20T11:29:59.984335Z",
     "iopub.status.busy": "2023-03-20T11:29:59.983393Z",
     "iopub.status.idle": "2023-03-20T11:29:59.987610Z",
     "shell.execute_reply": "2023-03-20T11:29:59.986783Z"
    },
    "papermill": {
     "duration": 0.017665,
     "end_time": "2023-03-20T11:29:59.989255",
     "exception": false,
     "start_time": "2023-03-20T11:29:59.971590",
     "status": "completed"
    },
    "tags": [
     "injected-parameters"
    ]
   },
   "outputs": [],
   "source": [
    "# Parameters\n",
    "data_path = \"/home/mattiapggioli/lyrics2ts/data/classification/movie-plots/sbert/\"\n"
   ]
  },
  {
   "cell_type": "code",
   "execution_count": 4,
   "id": "a4f0c774",
   "metadata": {
    "execution": {
     "iopub.execute_input": "2023-03-20T11:30:00.011641Z",
     "iopub.status.busy": "2023-03-20T11:30:00.011390Z",
     "iopub.status.idle": "2023-03-20T11:30:22.871524Z",
     "shell.execute_reply": "2023-03-20T11:30:22.870589Z"
    },
    "papermill": {
     "duration": 22.874581,
     "end_time": "2023-03-20T11:30:22.874471",
     "exception": false,
     "start_time": "2023-03-20T11:29:59.999890",
     "status": "completed"
    },
    "tags": []
   },
   "outputs": [],
   "source": [
    "ts = load_time_series_txt(f'{data_path}/ts.txt')"
   ]
  },
  {
   "cell_type": "code",
   "execution_count": 5,
   "id": "5c48d154",
   "metadata": {
    "execution": {
     "iopub.execute_input": "2023-03-20T11:30:22.937509Z",
     "iopub.status.busy": "2023-03-20T11:30:22.937155Z",
     "iopub.status.idle": "2023-03-20T11:30:22.946053Z",
     "shell.execute_reply": "2023-03-20T11:30:22.944311Z"
    },
    "papermill": {
     "duration": 0.048047,
     "end_time": "2023-03-20T11:30:22.952822",
     "exception": false,
     "start_time": "2023-03-20T11:30:22.904775",
     "status": "completed"
    },
    "tags": []
   },
   "outputs": [
    {
     "data": {
      "text/plain": [
       "(7512, 412, 1)"
      ]
     },
     "execution_count": 5,
     "metadata": {},
     "output_type": "execute_result"
    }
   ],
   "source": [
    "ts.shape"
   ]
  },
  {
   "cell_type": "code",
   "execution_count": 6,
   "id": "f6274d40",
   "metadata": {
    "execution": {
     "iopub.execute_input": "2023-03-20T11:30:22.983230Z",
     "iopub.status.busy": "2023-03-20T11:30:22.982558Z",
     "iopub.status.idle": "2023-03-20T11:30:22.989997Z",
     "shell.execute_reply": "2023-03-20T11:30:22.988915Z"
    },
    "papermill": {
     "duration": 0.021046,
     "end_time": "2023-03-20T11:30:22.991747",
     "exception": false,
     "start_time": "2023-03-20T11:30:22.970701",
     "status": "completed"
    },
    "tags": []
   },
   "outputs": [],
   "source": [
    "with open(f'{data_path}/y_class.npy', 'rb') as f:\n",
    "    y = np.load(f, allow_pickle=True)"
   ]
  },
  {
   "cell_type": "code",
   "execution_count": 7,
   "id": "9d42fa3b",
   "metadata": {
    "execution": {
     "iopub.execute_input": "2023-03-20T11:30:23.014748Z",
     "iopub.status.busy": "2023-03-20T11:30:23.013982Z",
     "iopub.status.idle": "2023-03-20T11:30:23.044109Z",
     "shell.execute_reply": "2023-03-20T11:30:23.043257Z"
    },
    "papermill": {
     "duration": 0.044124,
     "end_time": "2023-03-20T11:30:23.046511",
     "exception": false,
     "start_time": "2023-03-20T11:30:23.002387",
     "status": "completed"
    },
    "tags": []
   },
   "outputs": [],
   "source": [
    "with open(f'{data_path}/X.npy', 'rb') as f:\n",
    "    X = np.load(f, allow_pickle=True)"
   ]
  },
  {
   "cell_type": "code",
   "execution_count": 8,
   "id": "1158a9da",
   "metadata": {
    "execution": {
     "iopub.execute_input": "2023-03-20T11:30:23.072767Z",
     "iopub.status.busy": "2023-03-20T11:30:23.072028Z",
     "iopub.status.idle": "2023-03-20T11:30:23.078647Z",
     "shell.execute_reply": "2023-03-20T11:30:23.077678Z"
    },
    "papermill": {
     "duration": 0.019968,
     "end_time": "2023-03-20T11:30:23.080273",
     "exception": false,
     "start_time": "2023-03-20T11:30:23.060305",
     "status": "completed"
    },
    "tags": []
   },
   "outputs": [
    {
     "data": {
      "text/plain": [
       "(7512, 384)"
      ]
     },
     "execution_count": 8,
     "metadata": {},
     "output_type": "execute_result"
    }
   ],
   "source": [
    "X.shape"
   ]
  },
  {
   "cell_type": "code",
   "execution_count": 9,
   "id": "47239790",
   "metadata": {
    "execution": {
     "iopub.execute_input": "2023-03-20T11:30:23.104127Z",
     "iopub.status.busy": "2023-03-20T11:30:23.103124Z",
     "iopub.status.idle": "2023-03-20T11:30:23.112304Z",
     "shell.execute_reply": "2023-03-20T11:30:23.110946Z"
    },
    "papermill": {
     "duration": 0.023026,
     "end_time": "2023-03-20T11:30:23.114109",
     "exception": false,
     "start_time": "2023-03-20T11:30:23.091083",
     "status": "completed"
    },
    "tags": []
   },
   "outputs": [
    {
     "data": {
      "text/plain": [
       "{'action_thriller_crime',\n",
       " 'comedy',\n",
       " 'drama',\n",
       " 'horror_scifi_mystery_supernatural_fantasy'}"
      ]
     },
     "execution_count": 9,
     "metadata": {},
     "output_type": "execute_result"
    }
   ],
   "source": [
    "set(y)"
   ]
  },
  {
   "cell_type": "code",
   "execution_count": 10,
   "id": "37609992",
   "metadata": {
    "execution": {
     "iopub.execute_input": "2023-03-20T11:30:23.137710Z",
     "iopub.status.busy": "2023-03-20T11:30:23.137103Z",
     "iopub.status.idle": "2023-03-20T11:30:23.169289Z",
     "shell.execute_reply": "2023-03-20T11:30:23.167822Z"
    },
    "papermill": {
     "duration": 0.046673,
     "end_time": "2023-03-20T11:30:23.171758",
     "exception": false,
     "start_time": "2023-03-20T11:30:23.125085",
     "status": "completed"
    },
    "tags": []
   },
   "outputs": [],
   "source": [
    "ts_train, ts_test, y_train, y_test = train_test_split(\n",
    "    ts, y, test_size=0.20, random_state=42, stratify=y)"
   ]
  },
  {
   "cell_type": "code",
   "execution_count": 11,
   "id": "34508fe4",
   "metadata": {
    "execution": {
     "iopub.execute_input": "2023-03-20T11:30:23.197569Z",
     "iopub.status.busy": "2023-03-20T11:30:23.196880Z",
     "iopub.status.idle": "2023-03-20T11:30:23.231437Z",
     "shell.execute_reply": "2023-03-20T11:30:23.229810Z"
    },
    "papermill": {
     "duration": 0.04881,
     "end_time": "2023-03-20T11:30:23.233851",
     "exception": false,
     "start_time": "2023-03-20T11:30:23.185041",
     "status": "completed"
    },
    "tags": []
   },
   "outputs": [],
   "source": [
    "X_train, X_test, y_train, y_test = train_test_split(\n",
    "    X, y, test_size=0.20, random_state=42, stratify=y)"
   ]
  },
  {
   "cell_type": "code",
   "execution_count": 12,
   "id": "076afac9",
   "metadata": {
    "execution": {
     "iopub.execute_input": "2023-03-20T11:30:23.259895Z",
     "iopub.status.busy": "2023-03-20T11:30:23.259052Z",
     "iopub.status.idle": "2023-03-20T11:30:23.285009Z",
     "shell.execute_reply": "2023-03-20T11:30:23.283791Z"
    },
    "papermill": {
     "duration": 0.040896,
     "end_time": "2023-03-20T11:30:23.287992",
     "exception": false,
     "start_time": "2023-03-20T11:30:23.247096",
     "status": "completed"
    },
    "tags": []
   },
   "outputs": [
    {
     "data": {
      "text/plain": [
       "array([[ 0.49019077],\n",
       "       [ 0.96128452],\n",
       "       [ 1.21813386],\n",
       "       [-0.41575926],\n",
       "       [-0.0393668 ],\n",
       "       [ 0.26766675],\n",
       "       [ 1.21395887],\n",
       "       [-0.04658043],\n",
       "       [ 1.99984448],\n",
       "       [ 0.22290519],\n",
       "       [ 1.19587754],\n",
       "       [ 0.49823001],\n",
       "       [ 0.72963928],\n",
       "       [-1.39156058],\n",
       "       [-0.3033061 ],\n",
       "       [-1.49574239],\n",
       "       [ 1.02935511],\n",
       "       [-0.24624893],\n",
       "       [-1.72858402],\n",
       "       [-0.99434817],\n",
       "       [-0.41968357],\n",
       "       [        nan],\n",
       "       [        nan],\n",
       "       [        nan],\n",
       "       [        nan],\n",
       "       [        nan],\n",
       "       [        nan],\n",
       "       [        nan],\n",
       "       [        nan],\n",
       "       [        nan],\n",
       "       [        nan],\n",
       "       [        nan],\n",
       "       [        nan],\n",
       "       [        nan],\n",
       "       [        nan],\n",
       "       [        nan],\n",
       "       [        nan],\n",
       "       [        nan],\n",
       "       [        nan],\n",
       "       [        nan],\n",
       "       [        nan],\n",
       "       [        nan],\n",
       "       [        nan],\n",
       "       [        nan],\n",
       "       [        nan],\n",
       "       [        nan],\n",
       "       [        nan],\n",
       "       [        nan],\n",
       "       [        nan],\n",
       "       [        nan],\n",
       "       [        nan],\n",
       "       [        nan],\n",
       "       [        nan],\n",
       "       [        nan],\n",
       "       [        nan],\n",
       "       [        nan],\n",
       "       [        nan],\n",
       "       [        nan],\n",
       "       [        nan],\n",
       "       [        nan],\n",
       "       [        nan],\n",
       "       [        nan],\n",
       "       [        nan],\n",
       "       [        nan],\n",
       "       [        nan],\n",
       "       [        nan],\n",
       "       [        nan],\n",
       "       [        nan],\n",
       "       [        nan],\n",
       "       [        nan],\n",
       "       [        nan],\n",
       "       [        nan],\n",
       "       [        nan],\n",
       "       [        nan],\n",
       "       [        nan],\n",
       "       [        nan],\n",
       "       [        nan],\n",
       "       [        nan],\n",
       "       [        nan],\n",
       "       [        nan],\n",
       "       [        nan],\n",
       "       [        nan],\n",
       "       [        nan],\n",
       "       [        nan],\n",
       "       [        nan],\n",
       "       [        nan],\n",
       "       [        nan],\n",
       "       [        nan],\n",
       "       [        nan],\n",
       "       [        nan],\n",
       "       [        nan],\n",
       "       [        nan],\n",
       "       [        nan],\n",
       "       [        nan],\n",
       "       [        nan],\n",
       "       [        nan],\n",
       "       [        nan],\n",
       "       [        nan],\n",
       "       [        nan],\n",
       "       [        nan],\n",
       "       [        nan],\n",
       "       [        nan],\n",
       "       [        nan],\n",
       "       [        nan],\n",
       "       [        nan],\n",
       "       [        nan],\n",
       "       [        nan],\n",
       "       [        nan],\n",
       "       [        nan],\n",
       "       [        nan],\n",
       "       [        nan],\n",
       "       [        nan],\n",
       "       [        nan],\n",
       "       [        nan],\n",
       "       [        nan],\n",
       "       [        nan],\n",
       "       [        nan],\n",
       "       [        nan],\n",
       "       [        nan],\n",
       "       [        nan],\n",
       "       [        nan],\n",
       "       [        nan],\n",
       "       [        nan],\n",
       "       [        nan],\n",
       "       [        nan],\n",
       "       [        nan],\n",
       "       [        nan],\n",
       "       [        nan],\n",
       "       [        nan],\n",
       "       [        nan],\n",
       "       [        nan],\n",
       "       [        nan],\n",
       "       [        nan],\n",
       "       [        nan],\n",
       "       [        nan],\n",
       "       [        nan],\n",
       "       [        nan],\n",
       "       [        nan],\n",
       "       [        nan],\n",
       "       [        nan],\n",
       "       [        nan],\n",
       "       [        nan],\n",
       "       [        nan],\n",
       "       [        nan],\n",
       "       [        nan],\n",
       "       [        nan],\n",
       "       [        nan],\n",
       "       [        nan],\n",
       "       [        nan],\n",
       "       [        nan],\n",
       "       [        nan],\n",
       "       [        nan],\n",
       "       [        nan],\n",
       "       [        nan],\n",
       "       [        nan],\n",
       "       [        nan],\n",
       "       [        nan],\n",
       "       [        nan],\n",
       "       [        nan],\n",
       "       [        nan],\n",
       "       [        nan],\n",
       "       [        nan],\n",
       "       [        nan],\n",
       "       [        nan],\n",
       "       [        nan],\n",
       "       [        nan],\n",
       "       [        nan],\n",
       "       [        nan],\n",
       "       [        nan],\n",
       "       [        nan],\n",
       "       [        nan],\n",
       "       [        nan],\n",
       "       [        nan],\n",
       "       [        nan],\n",
       "       [        nan],\n",
       "       [        nan],\n",
       "       [        nan],\n",
       "       [        nan],\n",
       "       [        nan],\n",
       "       [        nan],\n",
       "       [        nan],\n",
       "       [        nan],\n",
       "       [        nan],\n",
       "       [        nan],\n",
       "       [        nan],\n",
       "       [        nan],\n",
       "       [        nan],\n",
       "       [        nan],\n",
       "       [        nan],\n",
       "       [        nan],\n",
       "       [        nan],\n",
       "       [        nan],\n",
       "       [        nan],\n",
       "       [        nan],\n",
       "       [        nan],\n",
       "       [        nan],\n",
       "       [        nan],\n",
       "       [        nan],\n",
       "       [        nan],\n",
       "       [        nan],\n",
       "       [        nan],\n",
       "       [        nan],\n",
       "       [        nan],\n",
       "       [        nan],\n",
       "       [        nan],\n",
       "       [        nan],\n",
       "       [        nan],\n",
       "       [        nan],\n",
       "       [        nan],\n",
       "       [        nan],\n",
       "       [        nan],\n",
       "       [        nan],\n",
       "       [        nan],\n",
       "       [        nan],\n",
       "       [        nan],\n",
       "       [        nan],\n",
       "       [        nan],\n",
       "       [        nan],\n",
       "       [        nan],\n",
       "       [        nan],\n",
       "       [        nan],\n",
       "       [        nan],\n",
       "       [        nan],\n",
       "       [        nan],\n",
       "       [        nan],\n",
       "       [        nan],\n",
       "       [        nan],\n",
       "       [        nan],\n",
       "       [        nan],\n",
       "       [        nan],\n",
       "       [        nan],\n",
       "       [        nan],\n",
       "       [        nan],\n",
       "       [        nan],\n",
       "       [        nan],\n",
       "       [        nan],\n",
       "       [        nan],\n",
       "       [        nan],\n",
       "       [        nan],\n",
       "       [        nan],\n",
       "       [        nan],\n",
       "       [        nan],\n",
       "       [        nan],\n",
       "       [        nan],\n",
       "       [        nan],\n",
       "       [        nan],\n",
       "       [        nan],\n",
       "       [        nan],\n",
       "       [        nan],\n",
       "       [        nan],\n",
       "       [        nan],\n",
       "       [        nan],\n",
       "       [        nan],\n",
       "       [        nan],\n",
       "       [        nan],\n",
       "       [        nan],\n",
       "       [        nan],\n",
       "       [        nan],\n",
       "       [        nan],\n",
       "       [        nan],\n",
       "       [        nan],\n",
       "       [        nan],\n",
       "       [        nan],\n",
       "       [        nan],\n",
       "       [        nan],\n",
       "       [        nan],\n",
       "       [        nan],\n",
       "       [        nan],\n",
       "       [        nan],\n",
       "       [        nan],\n",
       "       [        nan],\n",
       "       [        nan],\n",
       "       [        nan],\n",
       "       [        nan],\n",
       "       [        nan],\n",
       "       [        nan],\n",
       "       [        nan],\n",
       "       [        nan],\n",
       "       [        nan],\n",
       "       [        nan],\n",
       "       [        nan],\n",
       "       [        nan],\n",
       "       [        nan],\n",
       "       [        nan],\n",
       "       [        nan],\n",
       "       [        nan],\n",
       "       [        nan],\n",
       "       [        nan],\n",
       "       [        nan],\n",
       "       [        nan],\n",
       "       [        nan],\n",
       "       [        nan],\n",
       "       [        nan],\n",
       "       [        nan],\n",
       "       [        nan],\n",
       "       [        nan],\n",
       "       [        nan],\n",
       "       [        nan],\n",
       "       [        nan],\n",
       "       [        nan],\n",
       "       [        nan],\n",
       "       [        nan],\n",
       "       [        nan],\n",
       "       [        nan],\n",
       "       [        nan],\n",
       "       [        nan],\n",
       "       [        nan],\n",
       "       [        nan],\n",
       "       [        nan],\n",
       "       [        nan],\n",
       "       [        nan],\n",
       "       [        nan],\n",
       "       [        nan],\n",
       "       [        nan],\n",
       "       [        nan],\n",
       "       [        nan],\n",
       "       [        nan],\n",
       "       [        nan],\n",
       "       [        nan],\n",
       "       [        nan],\n",
       "       [        nan],\n",
       "       [        nan],\n",
       "       [        nan],\n",
       "       [        nan],\n",
       "       [        nan],\n",
       "       [        nan],\n",
       "       [        nan],\n",
       "       [        nan],\n",
       "       [        nan],\n",
       "       [        nan],\n",
       "       [        nan],\n",
       "       [        nan],\n",
       "       [        nan],\n",
       "       [        nan],\n",
       "       [        nan],\n",
       "       [        nan],\n",
       "       [        nan],\n",
       "       [        nan],\n",
       "       [        nan],\n",
       "       [        nan],\n",
       "       [        nan],\n",
       "       [        nan],\n",
       "       [        nan],\n",
       "       [        nan],\n",
       "       [        nan],\n",
       "       [        nan],\n",
       "       [        nan],\n",
       "       [        nan],\n",
       "       [        nan],\n",
       "       [        nan],\n",
       "       [        nan],\n",
       "       [        nan],\n",
       "       [        nan],\n",
       "       [        nan],\n",
       "       [        nan],\n",
       "       [        nan],\n",
       "       [        nan],\n",
       "       [        nan],\n",
       "       [        nan],\n",
       "       [        nan],\n",
       "       [        nan],\n",
       "       [        nan],\n",
       "       [        nan],\n",
       "       [        nan],\n",
       "       [        nan],\n",
       "       [        nan],\n",
       "       [        nan],\n",
       "       [        nan],\n",
       "       [        nan],\n",
       "       [        nan],\n",
       "       [        nan],\n",
       "       [        nan],\n",
       "       [        nan],\n",
       "       [        nan],\n",
       "       [        nan],\n",
       "       [        nan],\n",
       "       [        nan],\n",
       "       [        nan],\n",
       "       [        nan],\n",
       "       [        nan],\n",
       "       [        nan],\n",
       "       [        nan],\n",
       "       [        nan],\n",
       "       [        nan],\n",
       "       [        nan],\n",
       "       [        nan],\n",
       "       [        nan],\n",
       "       [        nan],\n",
       "       [        nan],\n",
       "       [        nan],\n",
       "       [        nan],\n",
       "       [        nan],\n",
       "       [        nan],\n",
       "       [        nan],\n",
       "       [        nan],\n",
       "       [        nan],\n",
       "       [        nan],\n",
       "       [        nan],\n",
       "       [        nan],\n",
       "       [        nan],\n",
       "       [        nan],\n",
       "       [        nan],\n",
       "       [        nan],\n",
       "       [        nan],\n",
       "       [        nan],\n",
       "       [        nan],\n",
       "       [        nan],\n",
       "       [        nan],\n",
       "       [        nan],\n",
       "       [        nan],\n",
       "       [        nan],\n",
       "       [        nan]])"
      ]
     },
     "execution_count": 12,
     "metadata": {},
     "output_type": "execute_result"
    }
   ],
   "source": [
    "random.choice(ts_train)"
   ]
  },
  {
   "cell_type": "code",
   "execution_count": 13,
   "id": "ca66457a",
   "metadata": {
    "execution": {
     "iopub.execute_input": "2023-03-20T11:30:23.346343Z",
     "iopub.status.busy": "2023-03-20T11:30:23.345525Z",
     "iopub.status.idle": "2023-03-20T11:30:23.977890Z",
     "shell.execute_reply": "2023-03-20T11:30:23.977203Z"
    },
    "papermill": {
     "duration": 0.664778,
     "end_time": "2023-03-20T11:30:23.981228",
     "exception": false,
     "start_time": "2023-03-20T11:30:23.316450",
     "status": "completed"
    },
    "tags": []
   },
   "outputs": [
    {
     "data": {
      "text/plain": [
       "<AxesSubplot:ylabel='Count'>"
      ]
     },
     "execution_count": 13,
     "metadata": {},
     "output_type": "execute_result"
    },
    {
     "data": {
      "image/png": "[encoded data removed]",
      "text/plain": [
       "<Figure size 640x480 with 1 Axes>"
      ]
     },
     "metadata": {},
     "output_type": "display_data"
    }
   ],
   "source": [
    "sns.histplot([t[~np.any(np.isnan(t), axis=1)].shape[0] for t in ts_train])"
   ]
  },
  {
   "cell_type": "code",
   "execution_count": 14,
   "id": "c2ae286f",
   "metadata": {
    "execution": {
     "iopub.execute_input": "2023-03-20T11:30:24.045848Z",
     "iopub.status.busy": "2023-03-20T11:30:24.045527Z",
     "iopub.status.idle": "2023-03-20T11:30:24.049941Z",
     "shell.execute_reply": "2023-03-20T11:30:24.049144Z"
    },
    "papermill": {
     "duration": 0.040478,
     "end_time": "2023-03-20T11:30:24.053129",
     "exception": false,
     "start_time": "2023-03-20T11:30:24.012651",
     "status": "completed"
    },
    "tags": []
   },
   "outputs": [],
   "source": [
    "ts_train = ts_train[:, :truncate, :]\n",
    "ts_test = ts_test[:, :truncate, :]"
   ]
  },
  {
   "cell_type": "code",
   "execution_count": 15,
   "id": "3218baa4",
   "metadata": {
    "execution": {
     "iopub.execute_input": "2023-03-20T11:30:24.089786Z",
     "iopub.status.busy": "2023-03-20T11:30:24.089106Z",
     "iopub.status.idle": "2023-03-20T11:30:24.134897Z",
     "shell.execute_reply": "2023-03-20T11:30:24.133371Z"
    },
    "papermill": {
     "duration": 0.060522,
     "end_time": "2023-03-20T11:30:24.137043",
     "exception": false,
     "start_time": "2023-03-20T11:30:24.076521",
     "status": "completed"
    },
    "tags": []
   },
   "outputs": [],
   "source": [
    "mean_arr = np.nanmean(ts_train, axis=1, keepdims=True)\n",
    "nan_indices = np.isnan(ts_train)\n",
    "ts_train[nan_indices] = np.take(mean_arr, np.nonzero(nan_indices)[0])\n",
    "\n",
    "mean_arr = np.nanmean(ts_test, axis=1, keepdims=True)\n",
    "nan_indices = np.isnan(ts_test)\n",
    "ts_test[nan_indices] = np.take(mean_arr, np.nonzero(nan_indices)[0])"
   ]
  },
  {
   "cell_type": "code",
   "execution_count": 16,
   "id": "d369691b",
   "metadata": {
    "execution": {
     "iopub.execute_input": "2023-03-20T11:30:24.163763Z",
     "iopub.status.busy": "2023-03-20T11:30:24.163108Z",
     "iopub.status.idle": "2023-03-20T11:30:24.173681Z",
     "shell.execute_reply": "2023-03-20T11:30:24.172386Z"
    },
    "papermill": {
     "duration": 0.024493,
     "end_time": "2023-03-20T11:30:24.175278",
     "exception": false,
     "start_time": "2023-03-20T11:30:24.150785",
     "status": "completed"
    },
    "tags": []
   },
   "outputs": [
    {
     "data": {
      "text/plain": [
       "0"
      ]
     },
     "execution_count": 16,
     "metadata": {},
     "output_type": "execute_result"
    }
   ],
   "source": [
    "np.count_nonzero(np.isnan(X_train))"
   ]
  },
  {
   "cell_type": "code",
   "execution_count": 17,
   "id": "0d602e18",
   "metadata": {
    "execution": {
     "iopub.execute_input": "2023-03-20T11:30:24.200357Z",
     "iopub.status.busy": "2023-03-20T11:30:24.199738Z",
     "iopub.status.idle": "2023-03-20T11:30:24.208571Z",
     "shell.execute_reply": "2023-03-20T11:30:24.207293Z"
    },
    "papermill": {
     "duration": 0.023278,
     "end_time": "2023-03-20T11:30:24.210274",
     "exception": false,
     "start_time": "2023-03-20T11:30:24.186996",
     "status": "completed"
    },
    "tags": []
   },
   "outputs": [],
   "source": [
    "X_train[np.isnan(X_train)] = 0\n",
    "X_test[np.isnan(X_test)] = 0"
   ]
  },
  {
   "cell_type": "code",
   "execution_count": 18,
   "id": "45c5102c",
   "metadata": {
    "execution": {
     "iopub.execute_input": "2023-03-20T11:30:24.234894Z",
     "iopub.status.busy": "2023-03-20T11:30:24.234259Z",
     "iopub.status.idle": "2023-03-20T11:30:25.122382Z",
     "shell.execute_reply": "2023-03-20T11:30:25.121627Z"
    },
    "papermill": {
     "duration": 0.903872,
     "end_time": "2023-03-20T11:30:25.125576",
     "exception": false,
     "start_time": "2023-03-20T11:30:24.221704",
     "status": "completed"
    },
    "tags": []
   },
   "outputs": [],
   "source": [
    "save_time_series_txt(f'{data_path}/ts_train.txt', ts_train)\n",
    "save_time_series_txt(f'{data_path}/ts_test.txt', ts_test)"
   ]
  },
  {
   "cell_type": "code",
   "execution_count": 19,
   "id": "39830f37",
   "metadata": {
    "execution": {
     "iopub.execute_input": "2023-03-20T11:30:25.190200Z",
     "iopub.status.busy": "2023-03-20T11:30:25.189020Z",
     "iopub.status.idle": "2023-03-20T11:30:25.227379Z",
     "shell.execute_reply": "2023-03-20T11:30:25.226139Z"
    },
    "papermill": {
     "duration": 0.073372,
     "end_time": "2023-03-20T11:30:25.230970",
     "exception": false,
     "start_time": "2023-03-20T11:30:25.157598",
     "status": "completed"
    },
    "tags": []
   },
   "outputs": [],
   "source": [
    "with open(f'{data_path}/X_train.npy', 'wb') as f:\n",
    "    np.save(f, X_train, allow_pickle=True)\n",
    "\n",
    "with open(f'{data_path}/X_test.npy', 'wb') as f:\n",
    "    np.save(f, X_test, allow_pickle=True)"
   ]
  },
  {
   "cell_type": "code",
   "execution_count": 20,
   "id": "795fd2be",
   "metadata": {
    "execution": {
     "iopub.execute_input": "2023-03-20T11:30:25.294990Z",
     "iopub.status.busy": "2023-03-20T11:30:25.294402Z",
     "iopub.status.idle": "2023-03-20T11:30:25.302949Z",
     "shell.execute_reply": "2023-03-20T11:30:25.301659Z"
    },
    "papermill": {
     "duration": 0.039658,
     "end_time": "2023-03-20T11:30:25.304983",
     "exception": false,
     "start_time": "2023-03-20T11:30:25.265325",
     "status": "completed"
    },
    "tags": []
   },
   "outputs": [],
   "source": [
    "with open(f'{data_path}/y_train.npy', 'wb') as f:\n",
    "    np.save(f, y_train, allow_pickle=True)\n",
    "\n",
    "with open(f'{data_path}/y_test.npy', 'wb') as f:\n",
    "    np.save(f, y_test, allow_pickle=True)"
   ]
  },
  {
   "cell_type": "code",
   "execution_count": 21,
   "id": "08bda153",
   "metadata": {
    "execution": {
     "iopub.execute_input": "2023-03-20T11:30:25.330120Z",
     "iopub.status.busy": "2023-03-20T11:30:25.329311Z",
     "iopub.status.idle": "2023-03-20T11:30:25.488242Z",
     "shell.execute_reply": "2023-03-20T11:30:25.487427Z"
    },
    "papermill": {
     "duration": 0.174298,
     "end_time": "2023-03-20T11:30:25.491167",
     "exception": false,
     "start_time": "2023-03-20T11:30:25.316869",
     "status": "completed"
    },
    "tags": []
   },
   "outputs": [
    {
     "data": {
      "text/plain": [
       "[<matplotlib.lines.Line2D at 0x7fc4b51b93a0>]"
      ]
     },
     "execution_count": 21,
     "metadata": {},
     "output_type": "execute_result"
    },
    {
     "data": {
      "image/png": "[encoded data removed]",
      "text/plain": [
       "<Figure size 640x480 with 1 Axes>"
      ]
     },
     "metadata": {},
     "output_type": "display_data"
    }
   ],
   "source": [
    "plt.plot(random.choice(ts_train))"
   ]
  },
  {
   "cell_type": "code",
   "execution_count": 22,
   "id": "98ce9d63",
   "metadata": {
    "execution": {
     "iopub.execute_input": "2023-03-20T11:30:25.554335Z",
     "iopub.status.busy": "2023-03-20T11:30:25.553872Z",
     "iopub.status.idle": "2023-03-20T11:30:25.560398Z",
     "shell.execute_reply": "2023-03-20T11:30:25.559415Z"
    },
    "papermill": {
     "duration": 0.04166,
     "end_time": "2023-03-20T11:30:25.563221",
     "exception": false,
     "start_time": "2023-03-20T11:30:25.521561",
     "status": "completed"
    },
    "tags": []
   },
   "outputs": [],
   "source": [
    "# Parameters that require knowing if it's binary or multiclass (LightGBM, metrics)\n",
    "if len(set(y)) == 2:\n",
    "    avg_par = 'macro'\n",
    "    obj_par = 'binary'\n",
    "elif len(set(y)) > 2:\n",
    "    avg_par = 'weighted'\n",
    "    obj_par = 'multiclass'"
   ]
  },
  {
   "cell_type": "markdown",
   "id": "228f1b39",
   "metadata": {
    "papermill": {
     "duration": 0.01203,
     "end_time": "2023-03-20T11:30:25.602378",
     "exception": false,
     "start_time": "2023-03-20T11:30:25.590348",
     "status": "completed"
    },
    "tags": []
   },
   "source": [
    "## Classification"
   ]
  },
  {
   "cell_type": "code",
   "execution_count": 23,
   "id": "34bb73ff",
   "metadata": {
    "execution": {
     "iopub.execute_input": "2023-03-20T11:30:25.626942Z",
     "iopub.status.busy": "2023-03-20T11:30:25.626611Z",
     "iopub.status.idle": "2023-03-20T11:30:25.705289Z",
     "shell.execute_reply": "2023-03-20T11:30:25.704477Z"
    },
    "papermill": {
     "duration": 0.093292,
     "end_time": "2023-03-20T11:30:25.707303",
     "exception": false,
     "start_time": "2023-03-20T11:30:25.614011",
     "status": "completed"
    },
    "tags": []
   },
   "outputs": [],
   "source": [
    "from sklearn.tree import DecisionTreeClassifier\n",
    "import lightgbm as lgbm\n",
    "from sklearn.ensemble import RandomForestClassifier"
   ]
  },
  {
   "cell_type": "code",
   "execution_count": 24,
   "id": "02aaee18",
   "metadata": {
    "execution": {
     "iopub.execute_input": "2023-03-20T11:30:25.735559Z",
     "iopub.status.busy": "2023-03-20T11:30:25.735197Z",
     "iopub.status.idle": "2023-03-20T11:30:25.739379Z",
     "shell.execute_reply": "2023-03-20T11:30:25.738501Z"
    },
    "papermill": {
     "duration": 0.018624,
     "end_time": "2023-03-20T11:30:25.740932",
     "exception": false,
     "start_time": "2023-03-20T11:30:25.722308",
     "status": "completed"
    },
    "tags": []
   },
   "outputs": [],
   "source": [
    "metrics_data = {}"
   ]
  },
  {
   "cell_type": "markdown",
   "id": "b49309ed",
   "metadata": {
    "papermill": {
     "duration": 0.01153,
     "end_time": "2023-03-20T11:30:25.764361",
     "exception": false,
     "start_time": "2023-03-20T11:30:25.752831",
     "status": "completed"
    },
    "tags": []
   },
   "source": [
    "### Baseline: global features (No Time Series)"
   ]
  },
  {
   "cell_type": "code",
   "execution_count": 25,
   "id": "35eb9f66",
   "metadata": {
    "execution": {
     "iopub.execute_input": "2023-03-20T11:30:25.789138Z",
     "iopub.status.busy": "2023-03-20T11:30:25.788817Z",
     "iopub.status.idle": "2023-03-20T11:30:25.793789Z",
     "shell.execute_reply": "2023-03-20T11:30:25.792684Z"
    },
    "papermill": {
     "duration": 0.019329,
     "end_time": "2023-03-20T11:30:25.795394",
     "exception": false,
     "start_time": "2023-03-20T11:30:25.776065",
     "status": "completed"
    },
    "tags": []
   },
   "outputs": [],
   "source": [
    "metrics_data['Global'] = {}"
   ]
  },
  {
   "cell_type": "markdown",
   "id": "29cd5044",
   "metadata": {
    "papermill": {
     "duration": 0.011525,
     "end_time": "2023-03-20T11:30:25.818629",
     "exception": false,
     "start_time": "2023-03-20T11:30:25.807104",
     "status": "completed"
    },
    "tags": []
   },
   "source": [
    "**Decision Tree**"
   ]
  },
  {
   "cell_type": "code",
   "execution_count": 26,
   "id": "9ef4f037",
   "metadata": {
    "execution": {
     "iopub.execute_input": "2023-03-20T11:30:25.844159Z",
     "iopub.status.busy": "2023-03-20T11:30:25.843657Z",
     "iopub.status.idle": "2023-03-20T11:30:28.312836Z",
     "shell.execute_reply": "2023-03-20T11:30:28.311893Z"
    },
    "papermill": {
     "duration": 2.485167,
     "end_time": "2023-03-20T11:30:28.315727",
     "exception": false,
     "start_time": "2023-03-20T11:30:25.830560",
     "status": "completed"
    },
    "tags": []
   },
   "outputs": [
    {
     "data": {
      "text/html": [
       "<style>#sk-container-id-1 {color: black;background-color: white;}#sk-container-id-1 pre{padding: 0;}#sk-container-id-1 div.sk-toggleable {background-color: white;}#sk-container-id-1 label.sk-toggleable__label {cursor: pointer;display: block;width: 100%;margin-bottom: 0;padding: 0.3em;box-sizing: border-box;text-align: center;}#sk-container-id-1 label.sk-toggleable__label-arrow:before {content: \"▸\";float: left;margin-right: 0.25em;color: #696969;}#sk-container-id-1 label.sk-toggleable__label-arrow:hover:before {color: black;}#sk-container-id-1 div.sk-estimator:hover label.sk-toggleable__label-arrow:before {color: black;}#sk-container-id-1 div.sk-toggleable__content {max-height: 0;max-width: 0;overflow: hidden;text-align: left;background-color: #f0f8ff;}#sk-container-id-1 div.sk-toggleable__content pre {margin: 0.2em;color: black;border-radius: 0.25em;background-color: #f0f8ff;}#sk-container-id-1 input.sk-toggleable__control:checked~div.sk-toggleable__content {max-height: 200px;max-width: 100%;overflow: auto;}#sk-container-id-1 input.sk-toggleable__control:checked~label.sk-toggleable__label-arrow:before {content: \"▾\";}#sk-container-id-1 div.sk-estimator input.sk-toggleable__control:checked~label.sk-toggleable__label {background-color: #d4ebff;}#sk-container-id-1 div.sk-label input.sk-toggleable__control:checked~label.sk-toggleable__label {background-color: #d4ebff;}#sk-container-id-1 input.sk-hidden--visually {border: 0;clip: rect(1px 1px 1px 1px);clip: rect(1px, 1px, 1px, 1px);height: 1px;margin: -1px;overflow: hidden;padding: 0;position: absolute;width: 1px;}#sk-container-id-1 div.sk-estimator {font-family: monospace;background-color: #f0f8ff;border: 1px dotted black;border-radius: 0.25em;box-sizing: border-box;margin-bottom: 0.5em;}#sk-container-id-1 div.sk-estimator:hover {background-color: #d4ebff;}#sk-container-id-1 div.sk-parallel-item::after {content: \"\";width: 100%;border-bottom: 1px solid gray;flex-grow: 1;}#sk-container-id-1 div.sk-label:hover label.sk-toggleable__label {background-color: #d4ebff;}#sk-container-id-1 div.sk-serial::before {content: \"\";position: absolute;border-left: 1px solid gray;box-sizing: border-box;top: 0;bottom: 0;left: 50%;z-index: 0;}#sk-container-id-1 div.sk-serial {display: flex;flex-direction: column;align-items: center;background-color: white;padding-right: 0.2em;padding-left: 0.2em;position: relative;}#sk-container-id-1 div.sk-item {position: relative;z-index: 1;}#sk-container-id-1 div.sk-parallel {display: flex;align-items: stretch;justify-content: center;background-color: white;position: relative;}#sk-container-id-1 div.sk-item::before, #sk-container-id-1 div.sk-parallel-item::before {content: \"\";position: absolute;border-left: 1px solid gray;box-sizing: border-box;top: 0;bottom: 0;left: 50%;z-index: -1;}#sk-container-id-1 div.sk-parallel-item {display: flex;flex-direction: column;z-index: 1;position: relative;background-color: white;}#sk-container-id-1 div.sk-parallel-item:first-child::after {align-self: flex-end;width: 50%;}#sk-container-id-1 div.sk-parallel-item:last-child::after {align-self: flex-start;width: 50%;}#sk-container-id-1 div.sk-parallel-item:only-child::after {width: 0;}#sk-container-id-1 div.sk-dashed-wrapped {border: 1px dashed gray;margin: 0 0.4em 0.5em 0.4em;box-sizing: border-box;padding-bottom: 0.4em;background-color: white;}#sk-container-id-1 div.sk-label label {font-family: monospace;font-weight: bold;display: inline-block;line-height: 1.2em;}#sk-container-id-1 div.sk-label-container {text-align: center;}#sk-container-id-1 div.sk-container {/* jupyter's `normalize.less` sets `[hidden] { display: none; }` but bootstrap.min.css set `[hidden] { display: none !important; }` so we also need the `!important` here to be able to override the default hidden behavior on the sphinx rendered scikit-learn.org. See: https://github.com/scikit-learn/scikit-learn/issues/21755 */display: inline-block !important;position: relative;}#sk-container-id-1 div.sk-text-repr-fallback {display: none;}</style><div id=\"sk-container-id-1\" class=\"sk-top-container\"><div class=\"sk-text-repr-fallback\"><pre>DecisionTreeClassifier()</pre><b>In a Jupyter environment, please rerun this cell to show the HTML representation or trust the notebook. <br />On GitHub, the HTML representation is unable to render, please try loading this page with nbviewer.org.</b></div><div class=\"sk-container\" hidden><div class=\"sk-item\"><div class=\"sk-estimator sk-toggleable\"><input class=\"sk-toggleable__control sk-hidden--visually\" id=\"sk-estimator-id-1\" type=\"checkbox\" checked><label for=\"sk-estimator-id-1\" class=\"sk-toggleable__label sk-toggleable__label-arrow\">DecisionTreeClassifier</label><div class=\"sk-toggleable__content\"><pre>DecisionTreeClassifier()</pre></div></div></div></div></div>"
      ],
      "text/plain": [
       "DecisionTreeClassifier()"
      ]
     },
     "execution_count": 26,
     "metadata": {},
     "output_type": "execute_result"
    }
   ],
   "source": [
    "clf = DecisionTreeClassifier()\n",
    "clf.fit(X_train, y_train)"
   ]
  },
  {
   "cell_type": "code",
   "execution_count": 27,
   "id": "9c50acc4",
   "metadata": {
    "execution": {
     "iopub.execute_input": "2023-03-20T11:30:28.385259Z",
     "iopub.status.busy": "2023-03-20T11:30:28.384957Z",
     "iopub.status.idle": "2023-03-20T11:30:28.423228Z",
     "shell.execute_reply": "2023-03-20T11:30:28.422289Z"
    },
    "papermill": {
     "duration": 0.076543,
     "end_time": "2023-03-20T11:30:28.426404",
     "exception": false,
     "start_time": "2023-03-20T11:30:28.349861",
     "status": "completed"
    },
    "tags": []
   },
   "outputs": [
    {
     "name": "stdout",
     "output_type": "stream",
     "text": [
      "                                           precision    recall  f1-score   support\n",
      "\n",
      "                    action_thriller_crime       0.41      0.44      0.43       318\n",
      "                                   comedy       0.44      0.45      0.45       423\n",
      "                                    drama       0.46      0.45      0.45       499\n",
      "horror_scifi_mystery_supernatural_fantasy       0.48      0.46      0.47       263\n",
      "\n",
      "                                 accuracy                           0.45      1503\n",
      "                                macro avg       0.45      0.45      0.45      1503\n",
      "                             weighted avg       0.45      0.45      0.45      1503\n",
      "\n"
     ]
    }
   ],
   "source": [
    "y_pred = clf.predict(X_test)\n",
    "print(classification_report(y_test, y_pred))"
   ]
  },
  {
   "cell_type": "code",
   "execution_count": 28,
   "id": "8866c3c3",
   "metadata": {
    "execution": {
     "iopub.execute_input": "2023-03-20T11:30:28.493708Z",
     "iopub.status.busy": "2023-03-20T11:30:28.493225Z",
     "iopub.status.idle": "2023-03-20T11:30:28.563031Z",
     "shell.execute_reply": "2023-03-20T11:30:28.562235Z"
    },
    "papermill": {
     "duration": 0.10194,
     "end_time": "2023-03-20T11:30:28.565364",
     "exception": false,
     "start_time": "2023-03-20T11:30:28.463424",
     "status": "completed"
    },
    "tags": []
   },
   "outputs": [],
   "source": [
    "acc = accuracy_score(y_test, y_pred)\n",
    "pre = precision_score(y_test, y_pred, average=avg_par)\n",
    "rec = recall_score(y_test, y_pred, average=avg_par)\n",
    "f1 = f1_score(y_test, y_pred, average=avg_par)\n",
    "\n",
    "metrics_data['Global']['DecisionTree'] = {'Accuracy': acc, 'Precision': pre, 'Recall': rec, 'F1': f1}"
   ]
  },
  {
   "cell_type": "markdown",
   "id": "28aa5a63",
   "metadata": {
    "papermill": {
     "duration": 0.014394,
     "end_time": "2023-03-20T11:30:28.595810",
     "exception": false,
     "start_time": "2023-03-20T11:30:28.581416",
     "status": "completed"
    },
    "tags": []
   },
   "source": [
    "**Random Forest**"
   ]
  },
  {
   "cell_type": "code",
   "execution_count": 29,
   "id": "0e5e2310",
   "metadata": {
    "execution": {
     "iopub.execute_input": "2023-03-20T11:30:28.627078Z",
     "iopub.status.busy": "2023-03-20T11:30:28.626114Z",
     "iopub.status.idle": "2023-03-20T11:30:37.039452Z",
     "shell.execute_reply": "2023-03-20T11:30:37.038458Z"
    },
    "papermill": {
     "duration": 8.432122,
     "end_time": "2023-03-20T11:30:37.042181",
     "exception": false,
     "start_time": "2023-03-20T11:30:28.610059",
     "status": "completed"
    },
    "tags": []
   },
   "outputs": [
    {
     "data": {
      "text/html": [
       "<style>#sk-container-id-2 {color: black;background-color: white;}#sk-container-id-2 pre{padding: 0;}#sk-container-id-2 div.sk-toggleable {background-color: white;}#sk-container-id-2 label.sk-toggleable__label {cursor: pointer;display: block;width: 100%;margin-bottom: 0;padding: 0.3em;box-sizing: border-box;text-align: center;}#sk-container-id-2 label.sk-toggleable__label-arrow:before {content: \"▸\";float: left;margin-right: 0.25em;color: #696969;}#sk-container-id-2 label.sk-toggleable__label-arrow:hover:before {color: black;}#sk-container-id-2 div.sk-estimator:hover label.sk-toggleable__label-arrow:before {color: black;}#sk-container-id-2 div.sk-toggleable__content {max-height: 0;max-width: 0;overflow: hidden;text-align: left;background-color: #f0f8ff;}#sk-container-id-2 div.sk-toggleable__content pre {margin: 0.2em;color: black;border-radius: 0.25em;background-color: #f0f8ff;}#sk-container-id-2 input.sk-toggleable__control:checked~div.sk-toggleable__content {max-height: 200px;max-width: 100%;overflow: auto;}#sk-container-id-2 input.sk-toggleable__control:checked~label.sk-toggleable__label-arrow:before {content: \"▾\";}#sk-container-id-2 div.sk-estimator input.sk-toggleable__control:checked~label.sk-toggleable__label {background-color: #d4ebff;}#sk-container-id-2 div.sk-label input.sk-toggleable__control:checked~label.sk-toggleable__label {background-color: #d4ebff;}#sk-container-id-2 input.sk-hidden--visually {border: 0;clip: rect(1px 1px 1px 1px);clip: rect(1px, 1px, 1px, 1px);height: 1px;margin: -1px;overflow: hidden;padding: 0;position: absolute;width: 1px;}#sk-container-id-2 div.sk-estimator {font-family: monospace;background-color: #f0f8ff;border: 1px dotted black;border-radius: 0.25em;box-sizing: border-box;margin-bottom: 0.5em;}#sk-container-id-2 div.sk-estimator:hover {background-color: #d4ebff;}#sk-container-id-2 div.sk-parallel-item::after {content: \"\";width: 100%;border-bottom: 1px solid gray;flex-grow: 1;}#sk-container-id-2 div.sk-label:hover label.sk-toggleable__label {background-color: #d4ebff;}#sk-container-id-2 div.sk-serial::before {content: \"\";position: absolute;border-left: 1px solid gray;box-sizing: border-box;top: 0;bottom: 0;left: 50%;z-index: 0;}#sk-container-id-2 div.sk-serial {display: flex;flex-direction: column;align-items: center;background-color: white;padding-right: 0.2em;padding-left: 0.2em;position: relative;}#sk-container-id-2 div.sk-item {position: relative;z-index: 1;}#sk-container-id-2 div.sk-parallel {display: flex;align-items: stretch;justify-content: center;background-color: white;position: relative;}#sk-container-id-2 div.sk-item::before, #sk-container-id-2 div.sk-parallel-item::before {content: \"\";position: absolute;border-left: 1px solid gray;box-sizing: border-box;top: 0;bottom: 0;left: 50%;z-index: -1;}#sk-container-id-2 div.sk-parallel-item {display: flex;flex-direction: column;z-index: 1;position: relative;background-color: white;}#sk-container-id-2 div.sk-parallel-item:first-child::after {align-self: flex-end;width: 50%;}#sk-container-id-2 div.sk-parallel-item:last-child::after {align-self: flex-start;width: 50%;}#sk-container-id-2 div.sk-parallel-item:only-child::after {width: 0;}#sk-container-id-2 div.sk-dashed-wrapped {border: 1px dashed gray;margin: 0 0.4em 0.5em 0.4em;box-sizing: border-box;padding-bottom: 0.4em;background-color: white;}#sk-container-id-2 div.sk-label label {font-family: monospace;font-weight: bold;display: inline-block;line-height: 1.2em;}#sk-container-id-2 div.sk-label-container {text-align: center;}#sk-container-id-2 div.sk-container {/* jupyter's `normalize.less` sets `[hidden] { display: none; }` but bootstrap.min.css set `[hidden] { display: none !important; }` so we also need the `!important` here to be able to override the default hidden behavior on the sphinx rendered scikit-learn.org. See: https://github.com/scikit-learn/scikit-learn/issues/21755 */display: inline-block !important;position: relative;}#sk-container-id-2 div.sk-text-repr-fallback {display: none;}</style><div id=\"sk-container-id-2\" class=\"sk-top-container\"><div class=\"sk-text-repr-fallback\"><pre>RandomForestClassifier(random_state=42)</pre><b>In a Jupyter environment, please rerun this cell to show the HTML representation or trust the notebook. <br />On GitHub, the HTML representation is unable to render, please try loading this page with nbviewer.org.</b></div><div class=\"sk-container\" hidden><div class=\"sk-item\"><div class=\"sk-estimator sk-toggleable\"><input class=\"sk-toggleable__control sk-hidden--visually\" id=\"sk-estimator-id-2\" type=\"checkbox\" checked><label for=\"sk-estimator-id-2\" class=\"sk-toggleable__label sk-toggleable__label-arrow\">RandomForestClassifier</label><div class=\"sk-toggleable__content\"><pre>RandomForestClassifier(random_state=42)</pre></div></div></div></div></div>"
      ],
      "text/plain": [
       "RandomForestClassifier(random_state=42)"
      ]
     },
     "execution_count": 29,
     "metadata": {},
     "output_type": "execute_result"
    }
   ],
   "source": [
    "clf = RandomForestClassifier(random_state=42)\n",
    "clf.fit(X_train, y_train)"
   ]
  },
  {
   "cell_type": "code",
   "execution_count": 30,
   "id": "4bd1304b",
   "metadata": {
    "execution": {
     "iopub.execute_input": "2023-03-20T11:30:37.112804Z",
     "iopub.status.busy": "2023-03-20T11:30:37.112502Z",
     "iopub.status.idle": "2023-03-20T11:30:37.191481Z",
     "shell.execute_reply": "2023-03-20T11:30:37.190502Z"
    },
    "papermill": {
     "duration": 0.117535,
     "end_time": "2023-03-20T11:30:37.194275",
     "exception": false,
     "start_time": "2023-03-20T11:30:37.076740",
     "status": "completed"
    },
    "tags": []
   },
   "outputs": [
    {
     "name": "stdout",
     "output_type": "stream",
     "text": [
      "                                           precision    recall  f1-score   support\n",
      "\n",
      "                    action_thriller_crime       0.69      0.61      0.65       318\n",
      "                                   comedy       0.59      0.60      0.60       423\n",
      "                                    drama       0.58      0.65      0.62       499\n",
      "horror_scifi_mystery_supernatural_fantasy       0.77      0.69      0.73       263\n",
      "\n",
      "                                 accuracy                           0.64      1503\n",
      "                                macro avg       0.66      0.64      0.65      1503\n",
      "                             weighted avg       0.64      0.64      0.64      1503\n",
      "\n"
     ]
    }
   ],
   "source": [
    "y_pred = clf.predict(X_test)\n",
    "print(classification_report(y_test, y_pred))"
   ]
  },
  {
   "cell_type": "code",
   "execution_count": 31,
   "id": "43174ba2",
   "metadata": {
    "execution": {
     "iopub.execute_input": "2023-03-20T11:30:37.268552Z",
     "iopub.status.busy": "2023-03-20T11:30:37.267507Z",
     "iopub.status.idle": "2023-03-20T11:30:37.307929Z",
     "shell.execute_reply": "2023-03-20T11:30:37.306729Z"
    },
    "papermill": {
     "duration": 0.080078,
     "end_time": "2023-03-20T11:30:37.310060",
     "exception": false,
     "start_time": "2023-03-20T11:30:37.229982",
     "status": "completed"
    },
    "tags": []
   },
   "outputs": [],
   "source": [
    "acc = accuracy_score(y_test, y_pred)\n",
    "pre = precision_score(y_test, y_pred, average=avg_par)\n",
    "rec = recall_score(y_test, y_pred, average=avg_par)\n",
    "f1 = f1_score(y_test, y_pred, average=avg_par)\n",
    "\n",
    "metrics_data['Global']['RandomForest'] = {'Accuracy': acc, 'Precision': pre, 'Recall': rec, 'F1': f1}"
   ]
  },
  {
   "cell_type": "markdown",
   "id": "22c98ac5",
   "metadata": {
    "papermill": {
     "duration": 0.012826,
     "end_time": "2023-03-20T11:30:37.337966",
     "exception": false,
     "start_time": "2023-03-20T11:30:37.325140",
     "status": "completed"
    },
    "tags": []
   },
   "source": [
    "**LightGBM**"
   ]
  },
  {
   "cell_type": "code",
   "execution_count": 32,
   "id": "c93b818c",
   "metadata": {
    "execution": {
     "iopub.execute_input": "2023-03-20T11:30:37.365097Z",
     "iopub.status.busy": "2023-03-20T11:30:37.364141Z",
     "iopub.status.idle": "2023-03-20T11:30:52.099139Z",
     "shell.execute_reply": "2023-03-20T11:30:52.098116Z"
    },
    "papermill": {
     "duration": 14.750866,
     "end_time": "2023-03-20T11:30:52.101278",
     "exception": false,
     "start_time": "2023-03-20T11:30:37.350412",
     "status": "completed"
    },
    "tags": []
   },
   "outputs": [
    {
     "data": {
      "text/html": [
       "<style>#sk-container-id-3 {color: black;background-color: white;}#sk-container-id-3 pre{padding: 0;}#sk-container-id-3 div.sk-toggleable {background-color: white;}#sk-container-id-3 label.sk-toggleable__label {cursor: pointer;display: block;width: 100%;margin-bottom: 0;padding: 0.3em;box-sizing: border-box;text-align: center;}#sk-container-id-3 label.sk-toggleable__label-arrow:before {content: \"▸\";float: left;margin-right: 0.25em;color: #696969;}#sk-container-id-3 label.sk-toggleable__label-arrow:hover:before {color: black;}#sk-container-id-3 div.sk-estimator:hover label.sk-toggleable__label-arrow:before {color: black;}#sk-container-id-3 div.sk-toggleable__content {max-height: 0;max-width: 0;overflow: hidden;text-align: left;background-color: #f0f8ff;}#sk-container-id-3 div.sk-toggleable__content pre {margin: 0.2em;color: black;border-radius: 0.25em;background-color: #f0f8ff;}#sk-container-id-3 input.sk-toggleable__control:checked~div.sk-toggleable__content {max-height: 200px;max-width: 100%;overflow: auto;}#sk-container-id-3 input.sk-toggleable__control:checked~label.sk-toggleable__label-arrow:before {content: \"▾\";}#sk-container-id-3 div.sk-estimator input.sk-toggleable__control:checked~label.sk-toggleable__label {background-color: #d4ebff;}#sk-container-id-3 div.sk-label input.sk-toggleable__control:checked~label.sk-toggleable__label {background-color: #d4ebff;}#sk-container-id-3 input.sk-hidden--visually {border: 0;clip: rect(1px 1px 1px 1px);clip: rect(1px, 1px, 1px, 1px);height: 1px;margin: -1px;overflow: hidden;padding: 0;position: absolute;width: 1px;}#sk-container-id-3 div.sk-estimator {font-family: monospace;background-color: #f0f8ff;border: 1px dotted black;border-radius: 0.25em;box-sizing: border-box;margin-bottom: 0.5em;}#sk-container-id-3 div.sk-estimator:hover {background-color: #d4ebff;}#sk-container-id-3 div.sk-parallel-item::after {content: \"\";width: 100%;border-bottom: 1px solid gray;flex-grow: 1;}#sk-container-id-3 div.sk-label:hover label.sk-toggleable__label {background-color: #d4ebff;}#sk-container-id-3 div.sk-serial::before {content: \"\";position: absolute;border-left: 1px solid gray;box-sizing: border-box;top: 0;bottom: 0;left: 50%;z-index: 0;}#sk-container-id-3 div.sk-serial {display: flex;flex-direction: column;align-items: center;background-color: white;padding-right: 0.2em;padding-left: 0.2em;position: relative;}#sk-container-id-3 div.sk-item {position: relative;z-index: 1;}#sk-container-id-3 div.sk-parallel {display: flex;align-items: stretch;justify-content: center;background-color: white;position: relative;}#sk-container-id-3 div.sk-item::before, #sk-container-id-3 div.sk-parallel-item::before {content: \"\";position: absolute;border-left: 1px solid gray;box-sizing: border-box;top: 0;bottom: 0;left: 50%;z-index: -1;}#sk-container-id-3 div.sk-parallel-item {display: flex;flex-direction: column;z-index: 1;position: relative;background-color: white;}#sk-container-id-3 div.sk-parallel-item:first-child::after {align-self: flex-end;width: 50%;}#sk-container-id-3 div.sk-parallel-item:last-child::after {align-self: flex-start;width: 50%;}#sk-container-id-3 div.sk-parallel-item:only-child::after {width: 0;}#sk-container-id-3 div.sk-dashed-wrapped {border: 1px dashed gray;margin: 0 0.4em 0.5em 0.4em;box-sizing: border-box;padding-bottom: 0.4em;background-color: white;}#sk-container-id-3 div.sk-label label {font-family: monospace;font-weight: bold;display: inline-block;line-height: 1.2em;}#sk-container-id-3 div.sk-label-container {text-align: center;}#sk-container-id-3 div.sk-container {/* jupyter's `normalize.less` sets `[hidden] { display: none; }` but bootstrap.min.css set `[hidden] { display: none !important; }` so we also need the `!important` here to be able to override the default hidden behavior on the sphinx rendered scikit-learn.org. See: https://github.com/scikit-learn/scikit-learn/issues/21755 */display: inline-block !important;position: relative;}#sk-container-id-3 div.sk-text-repr-fallback {display: none;}</style><div id=\"sk-container-id-3\" class=\"sk-top-container\"><div class=\"sk-text-repr-fallback\"><pre>LGBMClassifier(objective=&#x27;multiclass&#x27;)</pre><b>In a Jupyter environment, please rerun this cell to show the HTML representation or trust the notebook. <br />On GitHub, the HTML representation is unable to render, please try loading this page with nbviewer.org.</b></div><div class=\"sk-container\" hidden><div class=\"sk-item\"><div class=\"sk-estimator sk-toggleable\"><input class=\"sk-toggleable__control sk-hidden--visually\" id=\"sk-estimator-id-3\" type=\"checkbox\" checked><label for=\"sk-estimator-id-3\" class=\"sk-toggleable__label sk-toggleable__label-arrow\">LGBMClassifier</label><div class=\"sk-toggleable__content\"><pre>LGBMClassifier(objective=&#x27;multiclass&#x27;)</pre></div></div></div></div></div>"
      ],
      "text/plain": [
       "LGBMClassifier(objective='multiclass')"
      ]
     },
     "execution_count": 32,
     "metadata": {},
     "output_type": "execute_result"
    }
   ],
   "source": [
    "clf = lgbm.LGBMClassifier(objective=obj_par) \n",
    "clf.fit(X_train, y_train)"
   ]
  },
  {
   "cell_type": "code",
   "execution_count": 33,
   "id": "600a663a",
   "metadata": {
    "execution": {
     "iopub.execute_input": "2023-03-20T11:30:52.131506Z",
     "iopub.status.busy": "2023-03-20T11:30:52.130804Z",
     "iopub.status.idle": "2023-03-20T11:30:52.255514Z",
     "shell.execute_reply": "2023-03-20T11:30:52.254033Z"
    },
    "papermill": {
     "duration": 0.142299,
     "end_time": "2023-03-20T11:30:52.258665",
     "exception": false,
     "start_time": "2023-03-20T11:30:52.116366",
     "status": "completed"
    },
    "tags": []
   },
   "outputs": [
    {
     "name": "stdout",
     "output_type": "stream",
     "text": [
      "                                           precision    recall  f1-score   support\n",
      "\n",
      "                    action_thriller_crime       0.68      0.66      0.67       318\n",
      "                                   comedy       0.64      0.63      0.64       423\n",
      "                                    drama       0.64      0.67      0.65       499\n",
      "horror_scifi_mystery_supernatural_fantasy       0.78      0.74      0.76       263\n",
      "\n",
      "                                 accuracy                           0.67      1503\n",
      "                                macro avg       0.68      0.68      0.68      1503\n",
      "                             weighted avg       0.67      0.67      0.67      1503\n",
      "\n"
     ]
    }
   ],
   "source": [
    "y_pred = clf.predict(X_test)\n",
    "print(classification_report(y_test, y_pred))"
   ]
  },
  {
   "cell_type": "code",
   "execution_count": 34,
   "id": "508d831d",
   "metadata": {
    "execution": {
     "iopub.execute_input": "2023-03-20T11:30:52.330107Z",
     "iopub.status.busy": "2023-03-20T11:30:52.329811Z",
     "iopub.status.idle": "2023-03-20T11:30:52.395658Z",
     "shell.execute_reply": "2023-03-20T11:30:52.394375Z"
    },
    "papermill": {
     "duration": 0.104324,
     "end_time": "2023-03-20T11:30:52.398841",
     "exception": false,
     "start_time": "2023-03-20T11:30:52.294517",
     "status": "completed"
    },
    "tags": []
   },
   "outputs": [],
   "source": [
    "acc = accuracy_score(y_test, y_pred)\n",
    "pre = precision_score(y_test, y_pred, average=avg_par)\n",
    "rec = recall_score(y_test, y_pred, average=avg_par)\n",
    "f1 = f1_score(y_test, y_pred, average=avg_par)\n",
    "\n",
    "metrics_data['Global']['LightGBM'] = {'Accuracy': acc, 'Precision': pre, 'Recall': rec, 'F1': f1}"
   ]
  },
  {
   "cell_type": "markdown",
   "id": "14b86894",
   "metadata": {
    "papermill": {
     "duration": 0.034756,
     "end_time": "2023-03-20T11:30:52.468477",
     "exception": false,
     "start_time": "2023-03-20T11:30:52.433721",
     "status": "completed"
    },
    "tags": []
   },
   "source": [
    "### Time Series Classification"
   ]
  },
  {
   "cell_type": "markdown",
   "id": "84c55533",
   "metadata": {
    "papermill": {
     "duration": 0.012672,
     "end_time": "2023-03-20T11:30:52.493578",
     "exception": false,
     "start_time": "2023-03-20T11:30:52.480906",
     "status": "completed"
    },
    "tags": []
   },
   "source": [
    "#### Learning Shapelets"
   ]
  },
  {
   "cell_type": "code",
   "execution_count": 35,
   "id": "488d8eb7",
   "metadata": {
    "execution": {
     "iopub.execute_input": "2023-03-20T11:30:52.520304Z",
     "iopub.status.busy": "2023-03-20T11:30:52.519991Z",
     "iopub.status.idle": "2023-03-20T11:30:54.092112Z",
     "shell.execute_reply": "2023-03-20T11:30:54.091123Z"
    },
    "papermill": {
     "duration": 1.588711,
     "end_time": "2023-03-20T11:30:54.095220",
     "exception": false,
     "start_time": "2023-03-20T11:30:52.506509",
     "status": "completed"
    },
    "tags": []
   },
   "outputs": [
    {
     "name": "stderr",
     "output_type": "stream",
     "text": [
      "2023-03-20 12:30:52.527203: I tensorflow/core/platform/cpu_feature_guard.cc:193] This TensorFlow binary is optimized with oneAPI Deep Neural Network Library (oneDNN) to use the following CPU instructions in performance-critical operations:  AVX2 FMA\n",
      "To enable them in other operations, rebuild TensorFlow with the appropriate compiler flags.\n",
      "2023-03-20 12:30:52.694752: W tensorflow/compiler/xla/stream_executor/platform/default/dso_loader.cc:64] Could not load dynamic library 'libcudart.so.11.0'; dlerror: libcudart.so.11.0: cannot open shared object file: No such file or directory\n",
      "2023-03-20 12:30:52.694775: I tensorflow/compiler/xla/stream_executor/cuda/cudart_stub.cc:29] Ignore above cudart dlerror if you do not have a GPU set up on your machine.\n"
     ]
    },
    {
     "name": "stderr",
     "output_type": "stream",
     "text": [
      "2023-03-20 12:30:53.329168: W tensorflow/compiler/xla/stream_executor/platform/default/dso_loader.cc:64] Could not load dynamic library 'libnvinfer.so.7'; dlerror: libnvinfer.so.7: cannot open shared object file: No such file or directory\n",
      "2023-03-20 12:30:53.329248: W tensorflow/compiler/xla/stream_executor/platform/default/dso_loader.cc:64] Could not load dynamic library 'libnvinfer_plugin.so.7'; dlerror: libnvinfer_plugin.so.7: cannot open shared object file: No such file or directory\n",
      "2023-03-20 12:30:53.329257: W tensorflow/compiler/tf2tensorrt/utils/py_utils.cc:38] TF-TRT Warning: Cannot dlopen some TensorRT libraries. If you would like to use Nvidia GPU with TensorRT, please make sure the missing libraries mentioned above are installed properly.\n"
     ]
    }
   ],
   "source": [
    "from tslearn.shapelets import LearningShapelets, grabocka_params_to_shapelet_size_dict"
   ]
  },
  {
   "cell_type": "code",
   "execution_count": 36,
   "id": "eb677959",
   "metadata": {
    "execution": {
     "iopub.execute_input": "2023-03-20T11:30:54.170946Z",
     "iopub.status.busy": "2023-03-20T11:30:54.170127Z",
     "iopub.status.idle": "2023-03-20T11:30:54.176472Z",
     "shell.execute_reply": "2023-03-20T11:30:54.175003Z"
    },
    "papermill": {
     "duration": 0.049526,
     "end_time": "2023-03-20T11:30:54.180869",
     "exception": false,
     "start_time": "2023-03-20T11:30:54.131343",
     "status": "completed"
    },
    "tags": []
   },
   "outputs": [],
   "source": [
    "n_ts, ts_sz, _ = ts_train.shape\n",
    "n_classes = len(set(y_train))"
   ]
  },
  {
   "cell_type": "code",
   "execution_count": 37,
   "id": "776ed3dd",
   "metadata": {
    "execution": {
     "iopub.execute_input": "2023-03-20T11:30:54.218610Z",
     "iopub.status.busy": "2023-03-20T11:30:54.217830Z",
     "iopub.status.idle": "2023-03-20T11:30:54.226658Z",
     "shell.execute_reply": "2023-03-20T11:30:54.225458Z"
    },
    "papermill": {
     "duration": 0.024752,
     "end_time": "2023-03-20T11:30:54.228409",
     "exception": false,
     "start_time": "2023-03-20T11:30:54.203657",
     "status": "completed"
    },
    "tags": []
   },
   "outputs": [
    {
     "name": "stdout",
     "output_type": "stream",
     "text": [
      "n_ts 6009\n",
      "ts_sz 100\n",
      "n_classes 4\n",
      "shapelet_sizes {10: 6}\n"
     ]
    }
   ],
   "source": [
    "# Set the number of shapelets per size as done in the original paper\n",
    "g_shapelet_sizes = grabocka_params_to_shapelet_size_dict(n_ts=n_ts,\n",
    "                                                         ts_sz=ts_sz,\n",
    "                                                         n_classes=n_classes,\n",
    "                                                         l=0.1,\n",
    "                                                         r=1)\n",
    "\n",
    "print('n_ts', n_ts)\n",
    "print('ts_sz', ts_sz)\n",
    "print('n_classes', n_classes)\n",
    "print('shapelet_sizes', g_shapelet_sizes)"
   ]
  },
  {
   "cell_type": "code",
   "execution_count": 38,
   "id": "90ed707e",
   "metadata": {
    "execution": {
     "iopub.execute_input": "2023-03-20T11:30:54.256531Z",
     "iopub.status.busy": "2023-03-20T11:30:54.255683Z",
     "iopub.status.idle": "2023-03-20T11:30:54.264814Z",
     "shell.execute_reply": "2023-03-20T11:30:54.263818Z"
    },
    "papermill": {
     "duration": 0.024826,
     "end_time": "2023-03-20T11:30:54.266437",
     "exception": false,
     "start_time": "2023-03-20T11:30:54.241611",
     "status": "completed"
    },
    "tags": []
   },
   "outputs": [
    {
     "data": {
      "text/plain": [
       "{10: 6, 20: 6, 5: 6}"
      ]
     },
     "execution_count": 38,
     "metadata": {},
     "output_type": "execute_result"
    }
   ],
   "source": [
    "shapelet_sizes = {}\n",
    "for key in g_shapelet_sizes:\n",
    "    shapelet_sizes[key] = g_shapelet_sizes[key]\n",
    "    shapelet_sizes[key*2] = g_shapelet_sizes[key]\n",
    "    shapelet_sizes[key//2] = g_shapelet_sizes[key]\n",
    "shapelet_sizes"
   ]
  },
  {
   "cell_type": "code",
   "execution_count": 39,
   "id": "3507fb9c",
   "metadata": {
    "execution": {
     "iopub.execute_input": "2023-03-20T11:30:54.294561Z",
     "iopub.status.busy": "2023-03-20T11:30:54.293606Z",
     "iopub.status.idle": "2023-03-20T11:30:54.300526Z",
     "shell.execute_reply": "2023-03-20T11:30:54.299392Z"
    },
    "papermill": {
     "duration": 0.022864,
     "end_time": "2023-03-20T11:30:54.302224",
     "exception": false,
     "start_time": "2023-03-20T11:30:54.279360",
     "status": "completed"
    },
    "tags": []
   },
   "outputs": [
    {
     "name": "stderr",
     "output_type": "stream",
     "text": [
      "/home/mattiapggioli/lyrics2ts/.venv/lib/python3.9/site-packages/tslearn/shapelets/shapelets.py:354: FutureWarning: The default value for 'scale' is set to False in version 0.4 to ensure backward compatibility, but is likely to change in a future version.\n",
      "  warnings.warn(\"The default value for 'scale' is set to False \"\n"
     ]
    }
   ],
   "source": [
    "model = LearningShapelets(n_shapelets_per_size=shapelet_sizes,\n",
    "                          optimizer=\"adam\", \n",
    "                          weight_regularizer=.01, \n",
    "                          max_iter=max_iter, verbose=0, random_state=42)"
   ]
  },
  {
   "cell_type": "code",
   "execution_count": 40,
   "id": "73b1fe2e",
   "metadata": {
    "execution": {
     "iopub.execute_input": "2023-03-20T11:30:54.329648Z",
     "iopub.status.busy": "2023-03-20T11:30:54.328934Z",
     "iopub.status.idle": "2023-03-20T11:39:36.534008Z",
     "shell.execute_reply": "2023-03-20T11:39:36.532978Z"
    },
    "papermill": {
     "duration": 522.239354,
     "end_time": "2023-03-20T11:39:36.554254",
     "exception": false,
     "start_time": "2023-03-20T11:30:54.314900",
     "status": "completed"
    },
    "tags": []
   },
   "outputs": [
    {
     "name": "stderr",
     "output_type": "stream",
     "text": [
      "2023-03-20 12:30:54.556744: W tensorflow/compiler/xla/stream_executor/platform/default/dso_loader.cc:64] Could not load dynamic library 'libcuda.so.1'; dlerror: libcuda.so.1: cannot open shared object file: No such file or directory\n",
      "2023-03-20 12:30:54.556770: W tensorflow/compiler/xla/stream_executor/cuda/cuda_driver.cc:265] failed call to cuInit: UNKNOWN ERROR (303)\n",
      "2023-03-20 12:30:54.556792: I tensorflow/compiler/xla/stream_executor/cuda/cuda_diagnostics.cc:156] kernel driver does not appear to be running on this host (mattiapggioli-ThinkPad-E595): /proc/driver/nvidia/version does not exist\n",
      "2023-03-20 12:30:54.557001: I tensorflow/core/platform/cpu_feature_guard.cc:193] This TensorFlow binary is optimized with oneAPI Deep Neural Network Library (oneDNN) to use the following CPU instructions in performance-critical operations:  AVX2 FMA\n",
      "To enable them in other operations, rebuild TensorFlow with the appropriate compiler flags.\n"
     ]
    },
    {
     "name": "stdout",
     "output_type": "stream",
     "text": [
      "CPU times: user 47min 50s, sys: 2min 41s, total: 50min 32s\n",
      "Wall time: 8min 42s\n"
     ]
    },
    {
     "data": {
      "text/html": [
       "<style>#sk-container-id-4 {color: black;background-color: white;}#sk-container-id-4 pre{padding: 0;}#sk-container-id-4 div.sk-toggleable {background-color: white;}#sk-container-id-4 label.sk-toggleable__label {cursor: pointer;display: block;width: 100%;margin-bottom: 0;padding: 0.3em;box-sizing: border-box;text-align: center;}#sk-container-id-4 label.sk-toggleable__label-arrow:before {content: \"▸\";float: left;margin-right: 0.25em;color: #696969;}#sk-container-id-4 label.sk-toggleable__label-arrow:hover:before {color: black;}#sk-container-id-4 div.sk-estimator:hover label.sk-toggleable__label-arrow:before {color: black;}#sk-container-id-4 div.sk-toggleable__content {max-height: 0;max-width: 0;overflow: hidden;text-align: left;background-color: #f0f8ff;}#sk-container-id-4 div.sk-toggleable__content pre {margin: 0.2em;color: black;border-radius: 0.25em;background-color: #f0f8ff;}#sk-container-id-4 input.sk-toggleable__control:checked~div.sk-toggleable__content {max-height: 200px;max-width: 100%;overflow: auto;}#sk-container-id-4 input.sk-toggleable__control:checked~label.sk-toggleable__label-arrow:before {content: \"▾\";}#sk-container-id-4 div.sk-estimator input.sk-toggleable__control:checked~label.sk-toggleable__label {background-color: #d4ebff;}#sk-container-id-4 div.sk-label input.sk-toggleable__control:checked~label.sk-toggleable__label {background-color: #d4ebff;}#sk-container-id-4 input.sk-hidden--visually {border: 0;clip: rect(1px 1px 1px 1px);clip: rect(1px, 1px, 1px, 1px);height: 1px;margin: -1px;overflow: hidden;padding: 0;position: absolute;width: 1px;}#sk-container-id-4 div.sk-estimator {font-family: monospace;background-color: #f0f8ff;border: 1px dotted black;border-radius: 0.25em;box-sizing: border-box;margin-bottom: 0.5em;}#sk-container-id-4 div.sk-estimator:hover {background-color: #d4ebff;}#sk-container-id-4 div.sk-parallel-item::after {content: \"\";width: 100%;border-bottom: 1px solid gray;flex-grow: 1;}#sk-container-id-4 div.sk-label:hover label.sk-toggleable__label {background-color: #d4ebff;}#sk-container-id-4 div.sk-serial::before {content: \"\";position: absolute;border-left: 1px solid gray;box-sizing: border-box;top: 0;bottom: 0;left: 50%;z-index: 0;}#sk-container-id-4 div.sk-serial {display: flex;flex-direction: column;align-items: center;background-color: white;padding-right: 0.2em;padding-left: 0.2em;position: relative;}#sk-container-id-4 div.sk-item {position: relative;z-index: 1;}#sk-container-id-4 div.sk-parallel {display: flex;align-items: stretch;justify-content: center;background-color: white;position: relative;}#sk-container-id-4 div.sk-item::before, #sk-container-id-4 div.sk-parallel-item::before {content: \"\";position: absolute;border-left: 1px solid gray;box-sizing: border-box;top: 0;bottom: 0;left: 50%;z-index: -1;}#sk-container-id-4 div.sk-parallel-item {display: flex;flex-direction: column;z-index: 1;position: relative;background-color: white;}#sk-container-id-4 div.sk-parallel-item:first-child::after {align-self: flex-end;width: 50%;}#sk-container-id-4 div.sk-parallel-item:last-child::after {align-self: flex-start;width: 50%;}#sk-container-id-4 div.sk-parallel-item:only-child::after {width: 0;}#sk-container-id-4 div.sk-dashed-wrapped {border: 1px dashed gray;margin: 0 0.4em 0.5em 0.4em;box-sizing: border-box;padding-bottom: 0.4em;background-color: white;}#sk-container-id-4 div.sk-label label {font-family: monospace;font-weight: bold;display: inline-block;line-height: 1.2em;}#sk-container-id-4 div.sk-label-container {text-align: center;}#sk-container-id-4 div.sk-container {/* jupyter's `normalize.less` sets `[hidden] { display: none; }` but bootstrap.min.css set `[hidden] { display: none !important; }` so we also need the `!important` here to be able to override the default hidden behavior on the sphinx rendered scikit-learn.org. See: https://github.com/scikit-learn/scikit-learn/issues/21755 */display: inline-block !important;position: relative;}#sk-container-id-4 div.sk-text-repr-fallback {display: none;}</style><div id=\"sk-container-id-4\" class=\"sk-top-container\"><div class=\"sk-text-repr-fallback\"><pre>LearningShapelets(max_iter=2000, n_shapelets_per_size={5: 6, 10: 6, 20: 6},\n",
       "                  optimizer=&#x27;adam&#x27;, random_state=42, weight_regularizer=0.01)</pre><b>In a Jupyter environment, please rerun this cell to show the HTML representation or trust the notebook. <br />On GitHub, the HTML representation is unable to render, please try loading this page with nbviewer.org.</b></div><div class=\"sk-container\" hidden><div class=\"sk-item\"><div class=\"sk-estimator sk-toggleable\"><input class=\"sk-toggleable__control sk-hidden--visually\" id=\"sk-estimator-id-4\" type=\"checkbox\" checked><label for=\"sk-estimator-id-4\" class=\"sk-toggleable__label sk-toggleable__label-arrow\">LearningShapelets</label><div class=\"sk-toggleable__content\"><pre>LearningShapelets(max_iter=2000, n_shapelets_per_size={5: 6, 10: 6, 20: 6},\n",
       "                  optimizer=&#x27;adam&#x27;, random_state=42, weight_regularizer=0.01)</pre></div></div></div></div></div>"
      ],
      "text/plain": [
       "LearningShapelets(max_iter=2000, n_shapelets_per_size={5: 6, 10: 6, 20: 6},\n",
       "                  optimizer='adam', random_state=42, weight_regularizer=0.01)"
      ]
     },
     "execution_count": 40,
     "metadata": {},
     "output_type": "execute_result"
    }
   ],
   "source": [
    "%%time\n",
    "model.fit(ts_train, y_train)"
   ]
  },
  {
   "cell_type": "code",
   "execution_count": 41,
   "id": "51706baa",
   "metadata": {
    "execution": {
     "iopub.execute_input": "2023-03-20T11:39:36.585655Z",
     "iopub.status.busy": "2023-03-20T11:39:36.584911Z",
     "iopub.status.idle": "2023-03-20T11:39:36.619007Z",
     "shell.execute_reply": "2023-03-20T11:39:36.617753Z"
    },
    "papermill": {
     "duration": 0.052427,
     "end_time": "2023-03-20T11:39:36.621787",
     "exception": false,
     "start_time": "2023-03-20T11:39:36.569360",
     "status": "completed"
    },
    "tags": []
   },
   "outputs": [],
   "source": [
    "model.to_pickle(f'{data_path}/shapelets.pkl')"
   ]
  },
  {
   "cell_type": "markdown",
   "id": "309f70dc",
   "metadata": {
    "papermill": {
     "duration": 0.025754,
     "end_time": "2023-03-20T11:39:36.674645",
     "exception": false,
     "start_time": "2023-03-20T11:39:36.648891",
     "status": "completed"
    },
    "tags": []
   },
   "source": [
    "#### Shapelet-Based Classification"
   ]
  },
  {
   "cell_type": "code",
   "execution_count": 42,
   "id": "60125dff",
   "metadata": {
    "execution": {
     "iopub.execute_input": "2023-03-20T11:39:36.702642Z",
     "iopub.status.busy": "2023-03-20T11:39:36.702161Z",
     "iopub.status.idle": "2023-03-20T11:39:36.707518Z",
     "shell.execute_reply": "2023-03-20T11:39:36.706414Z"
    },
    "papermill": {
     "duration": 0.021501,
     "end_time": "2023-03-20T11:39:36.709142",
     "exception": false,
     "start_time": "2023-03-20T11:39:36.687641",
     "status": "completed"
    },
    "tags": []
   },
   "outputs": [],
   "source": [
    "metrics_data['Shapelets'] = {}"
   ]
  },
  {
   "cell_type": "code",
   "execution_count": 43,
   "id": "efb8984d",
   "metadata": {
    "execution": {
     "iopub.execute_input": "2023-03-20T11:39:36.737614Z",
     "iopub.status.busy": "2023-03-20T11:39:36.737131Z",
     "iopub.status.idle": "2023-03-20T11:39:37.504700Z",
     "shell.execute_reply": "2023-03-20T11:39:37.503812Z"
    },
    "papermill": {
     "duration": 0.784874,
     "end_time": "2023-03-20T11:39:37.507140",
     "exception": false,
     "start_time": "2023-03-20T11:39:36.722266",
     "status": "completed"
    },
    "tags": []
   },
   "outputs": [],
   "source": [
    "X_train = model.transform(ts_train)\n",
    "X_test = model.transform(ts_test)"
   ]
  },
  {
   "cell_type": "code",
   "execution_count": 44,
   "id": "2e6c0f22",
   "metadata": {
    "execution": {
     "iopub.execute_input": "2023-03-20T11:39:37.551118Z",
     "iopub.status.busy": "2023-03-20T11:39:37.550639Z",
     "iopub.status.idle": "2023-03-20T11:39:37.594748Z",
     "shell.execute_reply": "2023-03-20T11:39:37.593226Z"
    },
    "papermill": {
     "duration": 0.066908,
     "end_time": "2023-03-20T11:39:37.598020",
     "exception": false,
     "start_time": "2023-03-20T11:39:37.531112",
     "status": "completed"
    },
    "tags": []
   },
   "outputs": [
    {
     "data": {
      "text/html": [
       "<div>\n",
       "<style scoped>\n",
       "    .dataframe tbody tr th:only-of-type {\n",
       "        vertical-align: middle;\n",
       "    }\n",
       "\n",
       "    .dataframe tbody tr th {\n",
       "        vertical-align: top;\n",
       "    }\n",
       "\n",
       "    .dataframe thead th {\n",
       "        text-align: right;\n",
       "    }\n",
       "</style>\n",
       "<table border=\"1\" class=\"dataframe\">\n",
       "  <thead>\n",
       "    <tr style=\"text-align: right;\">\n",
       "      <th></th>\n",
       "      <th>0</th>\n",
       "      <th>1</th>\n",
       "      <th>2</th>\n",
       "      <th>3</th>\n",
       "      <th>4</th>\n",
       "      <th>5</th>\n",
       "      <th>6</th>\n",
       "      <th>7</th>\n",
       "      <th>8</th>\n",
       "      <th>9</th>\n",
       "      <th>10</th>\n",
       "      <th>11</th>\n",
       "      <th>12</th>\n",
       "      <th>13</th>\n",
       "      <th>14</th>\n",
       "      <th>15</th>\n",
       "      <th>16</th>\n",
       "      <th>17</th>\n",
       "    </tr>\n",
       "  </thead>\n",
       "  <tbody>\n",
       "    <tr>\n",
       "      <th>0</th>\n",
       "      <td>1.132010</td>\n",
       "      <td>0.201404</td>\n",
       "      <td>0.244558</td>\n",
       "      <td>0.230095</td>\n",
       "      <td>2.035891</td>\n",
       "      <td>0.159849</td>\n",
       "      <td>0.841258</td>\n",
       "      <td>2.739234</td>\n",
       "      <td>1.303667</td>\n",
       "      <td>3.753144</td>\n",
       "      <td>1.562263</td>\n",
       "      <td>1.170771</td>\n",
       "      <td>1.576752</td>\n",
       "      <td>0.147628</td>\n",
       "      <td>4.874570</td>\n",
       "      <td>5.333813</td>\n",
       "      <td>0.108321</td>\n",
       "      <td>0.149527</td>\n",
       "    </tr>\n",
       "    <tr>\n",
       "      <th>1</th>\n",
       "      <td>1.628114</td>\n",
       "      <td>0.096716</td>\n",
       "      <td>0.084087</td>\n",
       "      <td>0.308019</td>\n",
       "      <td>2.543184</td>\n",
       "      <td>0.244796</td>\n",
       "      <td>0.660726</td>\n",
       "      <td>3.873570</td>\n",
       "      <td>1.864981</td>\n",
       "      <td>3.373074</td>\n",
       "      <td>1.240015</td>\n",
       "      <td>1.888258</td>\n",
       "      <td>1.443362</td>\n",
       "      <td>0.172351</td>\n",
       "      <td>5.269132</td>\n",
       "      <td>5.540219</td>\n",
       "      <td>0.141494</td>\n",
       "      <td>0.163380</td>\n",
       "    </tr>\n",
       "    <tr>\n",
       "      <th>2</th>\n",
       "      <td>0.345596</td>\n",
       "      <td>0.216382</td>\n",
       "      <td>2.281358</td>\n",
       "      <td>0.320533</td>\n",
       "      <td>1.482176</td>\n",
       "      <td>0.130963</td>\n",
       "      <td>0.069526</td>\n",
       "      <td>4.412308</td>\n",
       "      <td>2.406740</td>\n",
       "      <td>0.979303</td>\n",
       "      <td>5.232392</td>\n",
       "      <td>2.455060</td>\n",
       "      <td>4.148176</td>\n",
       "      <td>0.742415</td>\n",
       "      <td>2.621539</td>\n",
       "      <td>2.292859</td>\n",
       "      <td>0.509584</td>\n",
       "      <td>0.709438</td>\n",
       "    </tr>\n",
       "    <tr>\n",
       "      <th>3</th>\n",
       "      <td>0.936181</td>\n",
       "      <td>0.090334</td>\n",
       "      <td>0.723526</td>\n",
       "      <td>0.421651</td>\n",
       "      <td>2.189972</td>\n",
       "      <td>0.361193</td>\n",
       "      <td>0.499426</td>\n",
       "      <td>3.644840</td>\n",
       "      <td>2.059748</td>\n",
       "      <td>2.951998</td>\n",
       "      <td>2.775195</td>\n",
       "      <td>1.627909</td>\n",
       "      <td>2.045064</td>\n",
       "      <td>0.111647</td>\n",
       "      <td>4.239492</td>\n",
       "      <td>4.492051</td>\n",
       "      <td>0.028588</td>\n",
       "      <td>0.128417</td>\n",
       "    </tr>\n",
       "    <tr>\n",
       "      <th>4</th>\n",
       "      <td>2.785132</td>\n",
       "      <td>0.473964</td>\n",
       "      <td>0.259431</td>\n",
       "      <td>0.583717</td>\n",
       "      <td>1.927121</td>\n",
       "      <td>0.809240</td>\n",
       "      <td>1.079024</td>\n",
       "      <td>3.032804</td>\n",
       "      <td>1.795833</td>\n",
       "      <td>4.693964</td>\n",
       "      <td>1.683559</td>\n",
       "      <td>1.251558</td>\n",
       "      <td>1.526773</td>\n",
       "      <td>0.183759</td>\n",
       "      <td>5.138084</td>\n",
       "      <td>5.678066</td>\n",
       "      <td>0.158500</td>\n",
       "      <td>0.183740</td>\n",
       "    </tr>\n",
       "    <tr>\n",
       "      <th>...</th>\n",
       "      <td>...</td>\n",
       "      <td>...</td>\n",
       "      <td>...</td>\n",
       "      <td>...</td>\n",
       "      <td>...</td>\n",
       "      <td>...</td>\n",
       "      <td>...</td>\n",
       "      <td>...</td>\n",
       "      <td>...</td>\n",
       "      <td>...</td>\n",
       "      <td>...</td>\n",
       "      <td>...</td>\n",
       "      <td>...</td>\n",
       "      <td>...</td>\n",
       "      <td>...</td>\n",
       "      <td>...</td>\n",
       "      <td>...</td>\n",
       "      <td>...</td>\n",
       "    </tr>\n",
       "    <tr>\n",
       "      <th>1498</th>\n",
       "      <td>0.634441</td>\n",
       "      <td>0.132650</td>\n",
       "      <td>0.341433</td>\n",
       "      <td>0.257637</td>\n",
       "      <td>1.185723</td>\n",
       "      <td>0.161374</td>\n",
       "      <td>0.296665</td>\n",
       "      <td>3.060975</td>\n",
       "      <td>1.573889</td>\n",
       "      <td>2.238960</td>\n",
       "      <td>2.067490</td>\n",
       "      <td>1.887176</td>\n",
       "      <td>2.005033</td>\n",
       "      <td>0.111257</td>\n",
       "      <td>3.899986</td>\n",
       "      <td>3.985664</td>\n",
       "      <td>0.028621</td>\n",
       "      <td>0.129631</td>\n",
       "    </tr>\n",
       "    <tr>\n",
       "      <th>1499</th>\n",
       "      <td>0.245778</td>\n",
       "      <td>0.114320</td>\n",
       "      <td>1.884869</td>\n",
       "      <td>0.259199</td>\n",
       "      <td>1.903329</td>\n",
       "      <td>0.039883</td>\n",
       "      <td>0.071657</td>\n",
       "      <td>3.523387</td>\n",
       "      <td>2.562810</td>\n",
       "      <td>1.412600</td>\n",
       "      <td>5.132585</td>\n",
       "      <td>2.316838</td>\n",
       "      <td>4.152565</td>\n",
       "      <td>0.728994</td>\n",
       "      <td>2.752676</td>\n",
       "      <td>2.863604</td>\n",
       "      <td>0.472410</td>\n",
       "      <td>0.709954</td>\n",
       "    </tr>\n",
       "    <tr>\n",
       "      <th>1500</th>\n",
       "      <td>2.971659</td>\n",
       "      <td>0.577190</td>\n",
       "      <td>0.086998</td>\n",
       "      <td>0.648698</td>\n",
       "      <td>2.135386</td>\n",
       "      <td>1.313030</td>\n",
       "      <td>1.962770</td>\n",
       "      <td>4.557553</td>\n",
       "      <td>2.164500</td>\n",
       "      <td>6.349920</td>\n",
       "      <td>0.913718</td>\n",
       "      <td>2.062851</td>\n",
       "      <td>1.125551</td>\n",
       "      <td>0.531322</td>\n",
       "      <td>7.582562</td>\n",
       "      <td>8.010182</td>\n",
       "      <td>0.565861</td>\n",
       "      <td>0.509920</td>\n",
       "    </tr>\n",
       "    <tr>\n",
       "      <th>1501</th>\n",
       "      <td>0.706960</td>\n",
       "      <td>0.105566</td>\n",
       "      <td>1.389894</td>\n",
       "      <td>0.228939</td>\n",
       "      <td>2.125285</td>\n",
       "      <td>0.217973</td>\n",
       "      <td>0.293813</td>\n",
       "      <td>3.154163</td>\n",
       "      <td>1.958794</td>\n",
       "      <td>2.257156</td>\n",
       "      <td>3.313521</td>\n",
       "      <td>1.336968</td>\n",
       "      <td>2.718373</td>\n",
       "      <td>0.170843</td>\n",
       "      <td>2.981914</td>\n",
       "      <td>3.690161</td>\n",
       "      <td>0.059389</td>\n",
       "      <td>0.200174</td>\n",
       "    </tr>\n",
       "    <tr>\n",
       "      <th>1502</th>\n",
       "      <td>0.305505</td>\n",
       "      <td>0.213128</td>\n",
       "      <td>1.634844</td>\n",
       "      <td>0.068840</td>\n",
       "      <td>1.486572</td>\n",
       "      <td>0.100411</td>\n",
       "      <td>0.070190</td>\n",
       "      <td>3.689306</td>\n",
       "      <td>1.645833</td>\n",
       "      <td>1.521003</td>\n",
       "      <td>4.702964</td>\n",
       "      <td>1.388374</td>\n",
       "      <td>3.880306</td>\n",
       "      <td>0.529696</td>\n",
       "      <td>2.334605</td>\n",
       "      <td>2.366923</td>\n",
       "      <td>0.355783</td>\n",
       "      <td>0.582775</td>\n",
       "    </tr>\n",
       "  </tbody>\n",
       "</table>\n",
       "<p>1503 rows × 18 columns</p>\n",
       "</div>"
      ],
      "text/plain": [
       "            0         1         2         3         4         5         6   \\\n",
       "0     1.132010  0.201404  0.244558  0.230095  2.035891  0.159849  0.841258   \n",
       "1     1.628114  0.096716  0.084087  0.308019  2.543184  0.244796  0.660726   \n",
       "2     0.345596  0.216382  2.281358  0.320533  1.482176  0.130963  0.069526   \n",
       "3     0.936181  0.090334  0.723526  0.421651  2.189972  0.361193  0.499426   \n",
       "4     2.785132  0.473964  0.259431  0.583717  1.927121  0.809240  1.079024   \n",
       "...        ...       ...       ...       ...       ...       ...       ...   \n",
       "1498  0.634441  0.132650  0.341433  0.257637  1.185723  0.161374  0.296665   \n",
       "1499  0.245778  0.114320  1.884869  0.259199  1.903329  0.039883  0.071657   \n",
       "1500  2.971659  0.577190  0.086998  0.648698  2.135386  1.313030  1.962770   \n",
       "1501  0.706960  0.105566  1.389894  0.228939  2.125285  0.217973  0.293813   \n",
       "1502  0.305505  0.213128  1.634844  0.068840  1.486572  0.100411  0.070190   \n",
       "\n",
       "            7         8         9         10        11        12        13  \\\n",
       "0     2.739234  1.303667  3.753144  1.562263  1.170771  1.576752  0.147628   \n",
       "1     3.873570  1.864981  3.373074  1.240015  1.888258  1.443362  0.172351   \n",
       "2     4.412308  2.406740  0.979303  5.232392  2.455060  4.148176  0.742415   \n",
       "3     3.644840  2.059748  2.951998  2.775195  1.627909  2.045064  0.111647   \n",
       "4     3.032804  1.795833  4.693964  1.683559  1.251558  1.526773  0.183759   \n",
       "...        ...       ...       ...       ...       ...       ...       ...   \n",
       "1498  3.060975  1.573889  2.238960  2.067490  1.887176  2.005033  0.111257   \n",
       "1499  3.523387  2.562810  1.412600  5.132585  2.316838  4.152565  0.728994   \n",
       "1500  4.557553  2.164500  6.349920  0.913718  2.062851  1.125551  0.531322   \n",
       "1501  3.154163  1.958794  2.257156  3.313521  1.336968  2.718373  0.170843   \n",
       "1502  3.689306  1.645833  1.521003  4.702964  1.388374  3.880306  0.529696   \n",
       "\n",
       "            14        15        16        17  \n",
       "0     4.874570  5.333813  0.108321  0.149527  \n",
       "1     5.269132  5.540219  0.141494  0.163380  \n",
       "2     2.621539  2.292859  0.509584  0.709438  \n",
       "3     4.239492  4.492051  0.028588  0.128417  \n",
       "4     5.138084  5.678066  0.158500  0.183740  \n",
       "...        ...       ...       ...       ...  \n",
       "1498  3.899986  3.985664  0.028621  0.129631  \n",
       "1499  2.752676  2.863604  0.472410  0.709954  \n",
       "1500  7.582562  8.010182  0.565861  0.509920  \n",
       "1501  2.981914  3.690161  0.059389  0.200174  \n",
       "1502  2.334605  2.366923  0.355783  0.582775  \n",
       "\n",
       "[1503 rows x 18 columns]"
      ]
     },
     "execution_count": 44,
     "metadata": {},
     "output_type": "execute_result"
    }
   ],
   "source": [
    "pd.DataFrame(X_test)"
   ]
  },
  {
   "cell_type": "markdown",
   "id": "5fa024f7",
   "metadata": {
    "execution": {
     "iopub.execute_input": "2023-02-07T23:47:19.876941Z",
     "iopub.status.busy": "2023-02-07T23:47:19.876424Z",
     "iopub.status.idle": "2023-02-07T23:47:20.399488Z",
     "shell.execute_reply": "2023-02-07T23:47:20.398142Z"
    },
    "papermill": {
     "duration": 0.020205,
     "end_time": "2023-03-20T11:39:37.656623",
     "exception": false,
     "start_time": "2023-03-20T11:39:37.636418",
     "status": "completed"
    },
    "tags": []
   },
   "source": [
    "**Decision Tree**"
   ]
  },
  {
   "cell_type": "code",
   "execution_count": 45,
   "id": "4f5400c9",
   "metadata": {
    "execution": {
     "iopub.execute_input": "2023-03-20T11:39:37.687406Z",
     "iopub.status.busy": "2023-03-20T11:39:37.686874Z",
     "iopub.status.idle": "2023-03-20T11:39:37.882099Z",
     "shell.execute_reply": "2023-03-20T11:39:37.881117Z"
    },
    "papermill": {
     "duration": 0.214251,
     "end_time": "2023-03-20T11:39:37.884917",
     "exception": false,
     "start_time": "2023-03-20T11:39:37.670666",
     "status": "completed"
    },
    "tags": []
   },
   "outputs": [
    {
     "data": {
      "text/html": [
       "<style>#sk-container-id-5 {color: black;background-color: white;}#sk-container-id-5 pre{padding: 0;}#sk-container-id-5 div.sk-toggleable {background-color: white;}#sk-container-id-5 label.sk-toggleable__label {cursor: pointer;display: block;width: 100%;margin-bottom: 0;padding: 0.3em;box-sizing: border-box;text-align: center;}#sk-container-id-5 label.sk-toggleable__label-arrow:before {content: \"▸\";float: left;margin-right: 0.25em;color: #696969;}#sk-container-id-5 label.sk-toggleable__label-arrow:hover:before {color: black;}#sk-container-id-5 div.sk-estimator:hover label.sk-toggleable__label-arrow:before {color: black;}#sk-container-id-5 div.sk-toggleable__content {max-height: 0;max-width: 0;overflow: hidden;text-align: left;background-color: #f0f8ff;}#sk-container-id-5 div.sk-toggleable__content pre {margin: 0.2em;color: black;border-radius: 0.25em;background-color: #f0f8ff;}#sk-container-id-5 input.sk-toggleable__control:checked~div.sk-toggleable__content {max-height: 200px;max-width: 100%;overflow: auto;}#sk-container-id-5 input.sk-toggleable__control:checked~label.sk-toggleable__label-arrow:before {content: \"▾\";}#sk-container-id-5 div.sk-estimator input.sk-toggleable__control:checked~label.sk-toggleable__label {background-color: #d4ebff;}#sk-container-id-5 div.sk-label input.sk-toggleable__control:checked~label.sk-toggleable__label {background-color: #d4ebff;}#sk-container-id-5 input.sk-hidden--visually {border: 0;clip: rect(1px 1px 1px 1px);clip: rect(1px, 1px, 1px, 1px);height: 1px;margin: -1px;overflow: hidden;padding: 0;position: absolute;width: 1px;}#sk-container-id-5 div.sk-estimator {font-family: monospace;background-color: #f0f8ff;border: 1px dotted black;border-radius: 0.25em;box-sizing: border-box;margin-bottom: 0.5em;}#sk-container-id-5 div.sk-estimator:hover {background-color: #d4ebff;}#sk-container-id-5 div.sk-parallel-item::after {content: \"\";width: 100%;border-bottom: 1px solid gray;flex-grow: 1;}#sk-container-id-5 div.sk-label:hover label.sk-toggleable__label {background-color: #d4ebff;}#sk-container-id-5 div.sk-serial::before {content: \"\";position: absolute;border-left: 1px solid gray;box-sizing: border-box;top: 0;bottom: 0;left: 50%;z-index: 0;}#sk-container-id-5 div.sk-serial {display: flex;flex-direction: column;align-items: center;background-color: white;padding-right: 0.2em;padding-left: 0.2em;position: relative;}#sk-container-id-5 div.sk-item {position: relative;z-index: 1;}#sk-container-id-5 div.sk-parallel {display: flex;align-items: stretch;justify-content: center;background-color: white;position: relative;}#sk-container-id-5 div.sk-item::before, #sk-container-id-5 div.sk-parallel-item::before {content: \"\";position: absolute;border-left: 1px solid gray;box-sizing: border-box;top: 0;bottom: 0;left: 50%;z-index: -1;}#sk-container-id-5 div.sk-parallel-item {display: flex;flex-direction: column;z-index: 1;position: relative;background-color: white;}#sk-container-id-5 div.sk-parallel-item:first-child::after {align-self: flex-end;width: 50%;}#sk-container-id-5 div.sk-parallel-item:last-child::after {align-self: flex-start;width: 50%;}#sk-container-id-5 div.sk-parallel-item:only-child::after {width: 0;}#sk-container-id-5 div.sk-dashed-wrapped {border: 1px dashed gray;margin: 0 0.4em 0.5em 0.4em;box-sizing: border-box;padding-bottom: 0.4em;background-color: white;}#sk-container-id-5 div.sk-label label {font-family: monospace;font-weight: bold;display: inline-block;line-height: 1.2em;}#sk-container-id-5 div.sk-label-container {text-align: center;}#sk-container-id-5 div.sk-container {/* jupyter's `normalize.less` sets `[hidden] { display: none; }` but bootstrap.min.css set `[hidden] { display: none !important; }` so we also need the `!important` here to be able to override the default hidden behavior on the sphinx rendered scikit-learn.org. See: https://github.com/scikit-learn/scikit-learn/issues/21755 */display: inline-block !important;position: relative;}#sk-container-id-5 div.sk-text-repr-fallback {display: none;}</style><div id=\"sk-container-id-5\" class=\"sk-top-container\"><div class=\"sk-text-repr-fallback\"><pre>DecisionTreeClassifier(random_state=42)</pre><b>In a Jupyter environment, please rerun this cell to show the HTML representation or trust the notebook. <br />On GitHub, the HTML representation is unable to render, please try loading this page with nbviewer.org.</b></div><div class=\"sk-container\" hidden><div class=\"sk-item\"><div class=\"sk-estimator sk-toggleable\"><input class=\"sk-toggleable__control sk-hidden--visually\" id=\"sk-estimator-id-5\" type=\"checkbox\" checked><label for=\"sk-estimator-id-5\" class=\"sk-toggleable__label sk-toggleable__label-arrow\">DecisionTreeClassifier</label><div class=\"sk-toggleable__content\"><pre>DecisionTreeClassifier(random_state=42)</pre></div></div></div></div></div>"
      ],
      "text/plain": [
       "DecisionTreeClassifier(random_state=42)"
      ]
     },
     "execution_count": 45,
     "metadata": {},
     "output_type": "execute_result"
    }
   ],
   "source": [
    "clf = DecisionTreeClassifier(random_state=42)\n",
    "clf.fit(X_train, y_train)"
   ]
  },
  {
   "cell_type": "code",
   "execution_count": 46,
   "id": "3b56d190",
   "metadata": {
    "execution": {
     "iopub.execute_input": "2023-03-20T11:39:37.945936Z",
     "iopub.status.busy": "2023-03-20T11:39:37.945444Z",
     "iopub.status.idle": "2023-03-20T11:39:37.984517Z",
     "shell.execute_reply": "2023-03-20T11:39:37.983388Z"
    },
    "papermill": {
     "duration": 0.072474,
     "end_time": "2023-03-20T11:39:37.987637",
     "exception": false,
     "start_time": "2023-03-20T11:39:37.915163",
     "status": "completed"
    },
    "tags": []
   },
   "outputs": [
    {
     "name": "stdout",
     "output_type": "stream",
     "text": [
      "                                           precision    recall  f1-score   support\n",
      "\n",
      "                    action_thriller_crime       0.30      0.31      0.31       318\n",
      "                                   comedy       0.32      0.32      0.32       423\n",
      "                                    drama       0.35      0.34      0.35       499\n",
      "horror_scifi_mystery_supernatural_fantasy       0.24      0.24      0.24       263\n",
      "\n",
      "                                 accuracy                           0.31      1503\n",
      "                                macro avg       0.30      0.30      0.30      1503\n",
      "                             weighted avg       0.31      0.31      0.31      1503\n",
      "\n"
     ]
    }
   ],
   "source": [
    "y_pred = clf.predict(X_test)\n",
    "print(classification_report(y_test, y_pred))"
   ]
  },
  {
   "cell_type": "code",
   "execution_count": 47,
   "id": "42bc91ff",
   "metadata": {
    "execution": {
     "iopub.execute_input": "2023-03-20T11:39:38.022362Z",
     "iopub.status.busy": "2023-03-20T11:39:38.021419Z",
     "iopub.status.idle": "2023-03-20T11:39:38.027875Z",
     "shell.execute_reply": "2023-03-20T11:39:38.027021Z"
    },
    "papermill": {
     "duration": 0.024408,
     "end_time": "2023-03-20T11:39:38.029658",
     "exception": false,
     "start_time": "2023-03-20T11:39:38.005250",
     "status": "completed"
    },
    "tags": []
   },
   "outputs": [],
   "source": [
    "pickle.dump(clf, open(f'{data_path}/decision_tree.pkl', 'wb'))"
   ]
  },
  {
   "cell_type": "code",
   "execution_count": 48,
   "id": "ea9be210",
   "metadata": {
    "execution": {
     "iopub.execute_input": "2023-03-20T11:39:38.064151Z",
     "iopub.status.busy": "2023-03-20T11:39:38.063686Z",
     "iopub.status.idle": "2023-03-20T11:39:38.137950Z",
     "shell.execute_reply": "2023-03-20T11:39:38.136749Z"
    },
    "papermill": {
     "duration": 0.096048,
     "end_time": "2023-03-20T11:39:38.141753",
     "exception": false,
     "start_time": "2023-03-20T11:39:38.045705",
     "status": "completed"
    },
    "tags": []
   },
   "outputs": [],
   "source": [
    "acc = accuracy_score(y_test, y_pred)\n",
    "pre = precision_score(y_test, y_pred, average=avg_par)\n",
    "rec = recall_score(y_test, y_pred, average=avg_par)\n",
    "f1 = f1_score(y_test, y_pred, average=avg_par)\n",
    "\n",
    "metrics_data['Shapelets']['DecisionTree'] = {'Accuracy': acc, 'Precision': pre, 'Recall': rec, 'F1': f1}"
   ]
  },
  {
   "cell_type": "markdown",
   "id": "3ca3443b",
   "metadata": {
    "papermill": {
     "duration": 0.014355,
     "end_time": "2023-03-20T11:39:38.184038",
     "exception": false,
     "start_time": "2023-03-20T11:39:38.169683",
     "status": "completed"
    },
    "tags": []
   },
   "source": [
    "**Random Forest**"
   ]
  },
  {
   "cell_type": "code",
   "execution_count": 49,
   "id": "37795e21",
   "metadata": {
    "execution": {
     "iopub.execute_input": "2023-03-20T11:39:38.215107Z",
     "iopub.status.busy": "2023-03-20T11:39:38.214598Z",
     "iopub.status.idle": "2023-03-20T11:39:40.552042Z",
     "shell.execute_reply": "2023-03-20T11:39:40.550885Z"
    },
    "papermill": {
     "duration": 2.357506,
     "end_time": "2023-03-20T11:39:40.555579",
     "exception": false,
     "start_time": "2023-03-20T11:39:38.198073",
     "status": "completed"
    },
    "tags": []
   },
   "outputs": [
    {
     "data": {
      "text/html": [
       "<style>#sk-container-id-6 {color: black;background-color: white;}#sk-container-id-6 pre{padding: 0;}#sk-container-id-6 div.sk-toggleable {background-color: white;}#sk-container-id-6 label.sk-toggleable__label {cursor: pointer;display: block;width: 100%;margin-bottom: 0;padding: 0.3em;box-sizing: border-box;text-align: center;}#sk-container-id-6 label.sk-toggleable__label-arrow:before {content: \"▸\";float: left;margin-right: 0.25em;color: #696969;}#sk-container-id-6 label.sk-toggleable__label-arrow:hover:before {color: black;}#sk-container-id-6 div.sk-estimator:hover label.sk-toggleable__label-arrow:before {color: black;}#sk-container-id-6 div.sk-toggleable__content {max-height: 0;max-width: 0;overflow: hidden;text-align: left;background-color: #f0f8ff;}#sk-container-id-6 div.sk-toggleable__content pre {margin: 0.2em;color: black;border-radius: 0.25em;background-color: #f0f8ff;}#sk-container-id-6 input.sk-toggleable__control:checked~div.sk-toggleable__content {max-height: 200px;max-width: 100%;overflow: auto;}#sk-container-id-6 input.sk-toggleable__control:checked~label.sk-toggleable__label-arrow:before {content: \"▾\";}#sk-container-id-6 div.sk-estimator input.sk-toggleable__control:checked~label.sk-toggleable__label {background-color: #d4ebff;}#sk-container-id-6 div.sk-label input.sk-toggleable__control:checked~label.sk-toggleable__label {background-color: #d4ebff;}#sk-container-id-6 input.sk-hidden--visually {border: 0;clip: rect(1px 1px 1px 1px);clip: rect(1px, 1px, 1px, 1px);height: 1px;margin: -1px;overflow: hidden;padding: 0;position: absolute;width: 1px;}#sk-container-id-6 div.sk-estimator {font-family: monospace;background-color: #f0f8ff;border: 1px dotted black;border-radius: 0.25em;box-sizing: border-box;margin-bottom: 0.5em;}#sk-container-id-6 div.sk-estimator:hover {background-color: #d4ebff;}#sk-container-id-6 div.sk-parallel-item::after {content: \"\";width: 100%;border-bottom: 1px solid gray;flex-grow: 1;}#sk-container-id-6 div.sk-label:hover label.sk-toggleable__label {background-color: #d4ebff;}#sk-container-id-6 div.sk-serial::before {content: \"\";position: absolute;border-left: 1px solid gray;box-sizing: border-box;top: 0;bottom: 0;left: 50%;z-index: 0;}#sk-container-id-6 div.sk-serial {display: flex;flex-direction: column;align-items: center;background-color: white;padding-right: 0.2em;padding-left: 0.2em;position: relative;}#sk-container-id-6 div.sk-item {position: relative;z-index: 1;}#sk-container-id-6 div.sk-parallel {display: flex;align-items: stretch;justify-content: center;background-color: white;position: relative;}#sk-container-id-6 div.sk-item::before, #sk-container-id-6 div.sk-parallel-item::before {content: \"\";position: absolute;border-left: 1px solid gray;box-sizing: border-box;top: 0;bottom: 0;left: 50%;z-index: -1;}#sk-container-id-6 div.sk-parallel-item {display: flex;flex-direction: column;z-index: 1;position: relative;background-color: white;}#sk-container-id-6 div.sk-parallel-item:first-child::after {align-self: flex-end;width: 50%;}#sk-container-id-6 div.sk-parallel-item:last-child::after {align-self: flex-start;width: 50%;}#sk-container-id-6 div.sk-parallel-item:only-child::after {width: 0;}#sk-container-id-6 div.sk-dashed-wrapped {border: 1px dashed gray;margin: 0 0.4em 0.5em 0.4em;box-sizing: border-box;padding-bottom: 0.4em;background-color: white;}#sk-container-id-6 div.sk-label label {font-family: monospace;font-weight: bold;display: inline-block;line-height: 1.2em;}#sk-container-id-6 div.sk-label-container {text-align: center;}#sk-container-id-6 div.sk-container {/* jupyter's `normalize.less` sets `[hidden] { display: none; }` but bootstrap.min.css set `[hidden] { display: none !important; }` so we also need the `!important` here to be able to override the default hidden behavior on the sphinx rendered scikit-learn.org. See: https://github.com/scikit-learn/scikit-learn/issues/21755 */display: inline-block !important;position: relative;}#sk-container-id-6 div.sk-text-repr-fallback {display: none;}</style><div id=\"sk-container-id-6\" class=\"sk-top-container\"><div class=\"sk-text-repr-fallback\"><pre>RandomForestClassifier(random_state=42)</pre><b>In a Jupyter environment, please rerun this cell to show the HTML representation or trust the notebook. <br />On GitHub, the HTML representation is unable to render, please try loading this page with nbviewer.org.</b></div><div class=\"sk-container\" hidden><div class=\"sk-item\"><div class=\"sk-estimator sk-toggleable\"><input class=\"sk-toggleable__control sk-hidden--visually\" id=\"sk-estimator-id-6\" type=\"checkbox\" checked><label for=\"sk-estimator-id-6\" class=\"sk-toggleable__label sk-toggleable__label-arrow\">RandomForestClassifier</label><div class=\"sk-toggleable__content\"><pre>RandomForestClassifier(random_state=42)</pre></div></div></div></div></div>"
      ],
      "text/plain": [
       "RandomForestClassifier(random_state=42)"
      ]
     },
     "execution_count": 49,
     "metadata": {},
     "output_type": "execute_result"
    }
   ],
   "source": [
    "clf = RandomForestClassifier(random_state=42)\n",
    "clf.fit(X_train, y_train)"
   ]
  },
  {
   "cell_type": "code",
   "execution_count": 50,
   "id": "581ab90a",
   "metadata": {
    "execution": {
     "iopub.execute_input": "2023-03-20T11:39:40.635183Z",
     "iopub.status.busy": "2023-03-20T11:39:40.634873Z",
     "iopub.status.idle": "2023-03-20T11:39:40.710058Z",
     "shell.execute_reply": "2023-03-20T11:39:40.708874Z"
    },
    "papermill": {
     "duration": 0.11814,
     "end_time": "2023-03-20T11:39:40.713071",
     "exception": false,
     "start_time": "2023-03-20T11:39:40.594931",
     "status": "completed"
    },
    "tags": []
   },
   "outputs": [
    {
     "name": "stdout",
     "output_type": "stream",
     "text": [
      "                                           precision    recall  f1-score   support\n",
      "\n",
      "                    action_thriller_crime       0.42      0.49      0.46       318\n",
      "                                   comedy       0.37      0.34      0.35       423\n",
      "                                    drama       0.39      0.49      0.43       499\n",
      "horror_scifi_mystery_supernatural_fantasy       0.32      0.13      0.18       263\n",
      "\n",
      "                                 accuracy                           0.39      1503\n",
      "                                macro avg       0.37      0.36      0.35      1503\n",
      "                             weighted avg       0.38      0.39      0.37      1503\n",
      "\n"
     ]
    }
   ],
   "source": [
    "y_pred = clf.predict(X_test)\n",
    "print(classification_report(y_test, y_pred))"
   ]
  },
  {
   "cell_type": "code",
   "execution_count": 51,
   "id": "faf1d7f4",
   "metadata": {
    "execution": {
     "iopub.execute_input": "2023-03-20T11:39:40.750226Z",
     "iopub.status.busy": "2023-03-20T11:39:40.749910Z",
     "iopub.status.idle": "2023-03-20T11:39:40.817763Z",
     "shell.execute_reply": "2023-03-20T11:39:40.817038Z"
    },
    "papermill": {
     "duration": 0.086851,
     "end_time": "2023-03-20T11:39:40.820623",
     "exception": false,
     "start_time": "2023-03-20T11:39:40.733772",
     "status": "completed"
    },
    "tags": []
   },
   "outputs": [],
   "source": [
    "acc = accuracy_score(y_test, y_pred)\n",
    "pre = precision_score(y_test, y_pred, average=avg_par)\n",
    "rec = recall_score(y_test, y_pred, average=avg_par)\n",
    "f1 = f1_score(y_test, y_pred, average=avg_par)\n",
    "\n",
    "metrics_data['Shapelets']['RandomForest'] = {'Accuracy': acc, 'Precision': pre, 'Recall': rec, 'F1': f1}"
   ]
  },
  {
   "cell_type": "markdown",
   "id": "61fceefb",
   "metadata": {
    "papermill": {
     "duration": 0.013959,
     "end_time": "2023-03-20T11:39:40.891075",
     "exception": false,
     "start_time": "2023-03-20T11:39:40.877116",
     "status": "completed"
    },
    "tags": []
   },
   "source": [
    "**LightGBM**"
   ]
  },
  {
   "cell_type": "code",
   "execution_count": 52,
   "id": "194189da",
   "metadata": {
    "execution": {
     "iopub.execute_input": "2023-03-20T11:39:40.922094Z",
     "iopub.status.busy": "2023-03-20T11:39:40.921626Z",
     "iopub.status.idle": "2023-03-20T11:39:41.450175Z",
     "shell.execute_reply": "2023-03-20T11:39:41.448948Z"
    },
    "papermill": {
     "duration": 0.548085,
     "end_time": "2023-03-20T11:39:41.453388",
     "exception": false,
     "start_time": "2023-03-20T11:39:40.905303",
     "status": "completed"
    },
    "tags": []
   },
   "outputs": [
    {
     "data": {
      "text/html": [
       "<style>#sk-container-id-7 {color: black;background-color: white;}#sk-container-id-7 pre{padding: 0;}#sk-container-id-7 div.sk-toggleable {background-color: white;}#sk-container-id-7 label.sk-toggleable__label {cursor: pointer;display: block;width: 100%;margin-bottom: 0;padding: 0.3em;box-sizing: border-box;text-align: center;}#sk-container-id-7 label.sk-toggleable__label-arrow:before {content: \"▸\";float: left;margin-right: 0.25em;color: #696969;}#sk-container-id-7 label.sk-toggleable__label-arrow:hover:before {color: black;}#sk-container-id-7 div.sk-estimator:hover label.sk-toggleable__label-arrow:before {color: black;}#sk-container-id-7 div.sk-toggleable__content {max-height: 0;max-width: 0;overflow: hidden;text-align: left;background-color: #f0f8ff;}#sk-container-id-7 div.sk-toggleable__content pre {margin: 0.2em;color: black;border-radius: 0.25em;background-color: #f0f8ff;}#sk-container-id-7 input.sk-toggleable__control:checked~div.sk-toggleable__content {max-height: 200px;max-width: 100%;overflow: auto;}#sk-container-id-7 input.sk-toggleable__control:checked~label.sk-toggleable__label-arrow:before {content: \"▾\";}#sk-container-id-7 div.sk-estimator input.sk-toggleable__control:checked~label.sk-toggleable__label {background-color: #d4ebff;}#sk-container-id-7 div.sk-label input.sk-toggleable__control:checked~label.sk-toggleable__label {background-color: #d4ebff;}#sk-container-id-7 input.sk-hidden--visually {border: 0;clip: rect(1px 1px 1px 1px);clip: rect(1px, 1px, 1px, 1px);height: 1px;margin: -1px;overflow: hidden;padding: 0;position: absolute;width: 1px;}#sk-container-id-7 div.sk-estimator {font-family: monospace;background-color: #f0f8ff;border: 1px dotted black;border-radius: 0.25em;box-sizing: border-box;margin-bottom: 0.5em;}#sk-container-id-7 div.sk-estimator:hover {background-color: #d4ebff;}#sk-container-id-7 div.sk-parallel-item::after {content: \"\";width: 100%;border-bottom: 1px solid gray;flex-grow: 1;}#sk-container-id-7 div.sk-label:hover label.sk-toggleable__label {background-color: #d4ebff;}#sk-container-id-7 div.sk-serial::before {content: \"\";position: absolute;border-left: 1px solid gray;box-sizing: border-box;top: 0;bottom: 0;left: 50%;z-index: 0;}#sk-container-id-7 div.sk-serial {display: flex;flex-direction: column;align-items: center;background-color: white;padding-right: 0.2em;padding-left: 0.2em;position: relative;}#sk-container-id-7 div.sk-item {position: relative;z-index: 1;}#sk-container-id-7 div.sk-parallel {display: flex;align-items: stretch;justify-content: center;background-color: white;position: relative;}#sk-container-id-7 div.sk-item::before, #sk-container-id-7 div.sk-parallel-item::before {content: \"\";position: absolute;border-left: 1px solid gray;box-sizing: border-box;top: 0;bottom: 0;left: 50%;z-index: -1;}#sk-container-id-7 div.sk-parallel-item {display: flex;flex-direction: column;z-index: 1;position: relative;background-color: white;}#sk-container-id-7 div.sk-parallel-item:first-child::after {align-self: flex-end;width: 50%;}#sk-container-id-7 div.sk-parallel-item:last-child::after {align-self: flex-start;width: 50%;}#sk-container-id-7 div.sk-parallel-item:only-child::after {width: 0;}#sk-container-id-7 div.sk-dashed-wrapped {border: 1px dashed gray;margin: 0 0.4em 0.5em 0.4em;box-sizing: border-box;padding-bottom: 0.4em;background-color: white;}#sk-container-id-7 div.sk-label label {font-family: monospace;font-weight: bold;display: inline-block;line-height: 1.2em;}#sk-container-id-7 div.sk-label-container {text-align: center;}#sk-container-id-7 div.sk-container {/* jupyter's `normalize.less` sets `[hidden] { display: none; }` but bootstrap.min.css set `[hidden] { display: none !important; }` so we also need the `!important` here to be able to override the default hidden behavior on the sphinx rendered scikit-learn.org. See: https://github.com/scikit-learn/scikit-learn/issues/21755 */display: inline-block !important;position: relative;}#sk-container-id-7 div.sk-text-repr-fallback {display: none;}</style><div id=\"sk-container-id-7\" class=\"sk-top-container\"><div class=\"sk-text-repr-fallback\"><pre>LGBMClassifier(objective=&#x27;multiclass&#x27;)</pre><b>In a Jupyter environment, please rerun this cell to show the HTML representation or trust the notebook. <br />On GitHub, the HTML representation is unable to render, please try loading this page with nbviewer.org.</b></div><div class=\"sk-container\" hidden><div class=\"sk-item\"><div class=\"sk-estimator sk-toggleable\"><input class=\"sk-toggleable__control sk-hidden--visually\" id=\"sk-estimator-id-7\" type=\"checkbox\" checked><label for=\"sk-estimator-id-7\" class=\"sk-toggleable__label sk-toggleable__label-arrow\">LGBMClassifier</label><div class=\"sk-toggleable__content\"><pre>LGBMClassifier(objective=&#x27;multiclass&#x27;)</pre></div></div></div></div></div>"
      ],
      "text/plain": [
       "LGBMClassifier(objective='multiclass')"
      ]
     },
     "execution_count": 52,
     "metadata": {},
     "output_type": "execute_result"
    }
   ],
   "source": [
    "clf = lgbm.LGBMClassifier(objective=obj_par) \n",
    "clf.fit(X_train, y_train)"
   ]
  },
  {
   "cell_type": "code",
   "execution_count": 53,
   "id": "355a078b",
   "metadata": {
    "execution": {
     "iopub.execute_input": "2023-03-20T11:39:41.535082Z",
     "iopub.status.busy": "2023-03-20T11:39:41.534637Z",
     "iopub.status.idle": "2023-03-20T11:39:41.632755Z",
     "shell.execute_reply": "2023-03-20T11:39:41.631598Z"
    },
    "papermill": {
     "duration": 0.142272,
     "end_time": "2023-03-20T11:39:41.635516",
     "exception": false,
     "start_time": "2023-03-20T11:39:41.493244",
     "status": "completed"
    },
    "tags": []
   },
   "outputs": [
    {
     "name": "stdout",
     "output_type": "stream",
     "text": [
      "                                           precision    recall  f1-score   support\n",
      "\n",
      "                    action_thriller_crime       0.39      0.38      0.38       318\n",
      "                                   comedy       0.38      0.35      0.36       423\n",
      "                                    drama       0.39      0.49      0.43       499\n",
      "horror_scifi_mystery_supernatural_fantasy       0.25      0.17      0.20       263\n",
      "\n",
      "                                 accuracy                           0.37      1503\n",
      "                                macro avg       0.35      0.35      0.35      1503\n",
      "                             weighted avg       0.36      0.37      0.36      1503\n",
      "\n"
     ]
    }
   ],
   "source": [
    "y_pred = clf.predict(X_test)\n",
    "print(classification_report(y_test, y_pred))"
   ]
  },
  {
   "cell_type": "code",
   "execution_count": 54,
   "id": "f22b911e",
   "metadata": {
    "execution": {
     "iopub.execute_input": "2023-03-20T11:39:41.688231Z",
     "iopub.status.busy": "2023-03-20T11:39:41.687779Z",
     "iopub.status.idle": "2023-03-20T11:39:41.719187Z",
     "shell.execute_reply": "2023-03-20T11:39:41.717889Z"
    },
    "papermill": {
     "duration": 0.06686,
     "end_time": "2023-03-20T11:39:41.722456",
     "exception": false,
     "start_time": "2023-03-20T11:39:41.655596",
     "status": "completed"
    },
    "tags": []
   },
   "outputs": [],
   "source": [
    "acc = accuracy_score(y_test, y_pred)\n",
    "pre = precision_score(y_test, y_pred, average=avg_par)\n",
    "rec = recall_score(y_test, y_pred, average=avg_par)\n",
    "f1 = f1_score(y_test, y_pred, average=avg_par)\n",
    "\n",
    "metrics_data['Shapelets']['LightGBM'] = {'Accuracy': acc, 'Precision': pre, 'Recall': rec, 'F1': f1}"
   ]
  },
  {
   "cell_type": "markdown",
   "id": "0809af9f",
   "metadata": {
    "papermill": {
     "duration": 0.019337,
     "end_time": "2023-03-20T11:39:41.781581",
     "exception": false,
     "start_time": "2023-03-20T11:39:41.762244",
     "status": "completed"
    },
    "tags": []
   },
   "source": [
    "#### KNN"
   ]
  },
  {
   "cell_type": "code",
   "execution_count": 55,
   "id": "1c9237e0",
   "metadata": {
    "execution": {
     "iopub.execute_input": "2023-03-20T11:39:41.812698Z",
     "iopub.status.busy": "2023-03-20T11:39:41.811835Z",
     "iopub.status.idle": "2023-03-20T11:39:41.818503Z",
     "shell.execute_reply": "2023-03-20T11:39:41.817343Z"
    },
    "papermill": {
     "duration": 0.024587,
     "end_time": "2023-03-20T11:39:41.820231",
     "exception": false,
     "start_time": "2023-03-20T11:39:41.795644",
     "status": "completed"
    },
    "tags": []
   },
   "outputs": [],
   "source": [
    "X_train = ts_train.reshape((ts_train.shape[0], ts_train.shape[1]))\n",
    "X_test = ts_test.reshape((ts_test.shape[0], ts_test.shape[1]))"
   ]
  },
  {
   "cell_type": "code",
   "execution_count": 56,
   "id": "192f3c3f",
   "metadata": {
    "execution": {
     "iopub.execute_input": "2023-03-20T11:39:41.852801Z",
     "iopub.status.busy": "2023-03-20T11:39:41.851966Z",
     "iopub.status.idle": "2023-03-20T11:39:41.859608Z",
     "shell.execute_reply": "2023-03-20T11:39:41.858451Z"
    },
    "papermill": {
     "duration": 0.026187,
     "end_time": "2023-03-20T11:39:41.861388",
     "exception": false,
     "start_time": "2023-03-20T11:39:41.835201",
     "status": "completed"
    },
    "tags": []
   },
   "outputs": [
    {
     "data": {
      "text/plain": [
       "(6009, 100)"
      ]
     },
     "execution_count": 56,
     "metadata": {},
     "output_type": "execute_result"
    }
   ],
   "source": [
    "X_train.shape"
   ]
  },
  {
   "cell_type": "code",
   "execution_count": 57,
   "id": "de0e5000",
   "metadata": {
    "execution": {
     "iopub.execute_input": "2023-03-20T11:39:41.894772Z",
     "iopub.status.busy": "2023-03-20T11:39:41.894133Z",
     "iopub.status.idle": "2023-03-20T11:39:41.899687Z",
     "shell.execute_reply": "2023-03-20T11:39:41.898509Z"
    },
    "papermill": {
     "duration": 0.024621,
     "end_time": "2023-03-20T11:39:41.901560",
     "exception": false,
     "start_time": "2023-03-20T11:39:41.876939",
     "status": "completed"
    },
    "tags": []
   },
   "outputs": [],
   "source": [
    "metrics_data['KNN'] = {}"
   ]
  },
  {
   "cell_type": "markdown",
   "id": "8ee39c05",
   "metadata": {
    "papermill": {
     "duration": 0.015577,
     "end_time": "2023-03-20T11:39:41.932472",
     "exception": false,
     "start_time": "2023-03-20T11:39:41.916895",
     "status": "completed"
    },
    "tags": []
   },
   "source": [
    "**Euclidean Distance**"
   ]
  },
  {
   "cell_type": "code",
   "execution_count": 58,
   "id": "55db1f58",
   "metadata": {
    "execution": {
     "iopub.execute_input": "2023-03-20T11:39:41.967401Z",
     "iopub.status.busy": "2023-03-20T11:39:41.966467Z",
     "iopub.status.idle": "2023-03-20T11:39:41.972092Z",
     "shell.execute_reply": "2023-03-20T11:39:41.970879Z"
    },
    "papermill": {
     "duration": 0.025558,
     "end_time": "2023-03-20T11:39:41.973969",
     "exception": false,
     "start_time": "2023-03-20T11:39:41.948411",
     "status": "completed"
    },
    "tags": []
   },
   "outputs": [],
   "source": [
    "from sklearn.neighbors import KNeighborsClassifier"
   ]
  },
  {
   "cell_type": "code",
   "execution_count": 59,
   "id": "132c2537",
   "metadata": {
    "execution": {
     "iopub.execute_input": "2023-03-20T11:39:42.007553Z",
     "iopub.status.busy": "2023-03-20T11:39:42.006694Z",
     "iopub.status.idle": "2023-03-20T11:39:42.030397Z",
     "shell.execute_reply": "2023-03-20T11:39:42.029149Z"
    },
    "papermill": {
     "duration": 0.04288,
     "end_time": "2023-03-20T11:39:42.032488",
     "exception": false,
     "start_time": "2023-03-20T11:39:41.989608",
     "status": "completed"
    },
    "tags": []
   },
   "outputs": [
    {
     "data": {
      "text/html": [
       "<style>#sk-container-id-8 {color: black;background-color: white;}#sk-container-id-8 pre{padding: 0;}#sk-container-id-8 div.sk-toggleable {background-color: white;}#sk-container-id-8 label.sk-toggleable__label {cursor: pointer;display: block;width: 100%;margin-bottom: 0;padding: 0.3em;box-sizing: border-box;text-align: center;}#sk-container-id-8 label.sk-toggleable__label-arrow:before {content: \"▸\";float: left;margin-right: 0.25em;color: #696969;}#sk-container-id-8 label.sk-toggleable__label-arrow:hover:before {color: black;}#sk-container-id-8 div.sk-estimator:hover label.sk-toggleable__label-arrow:before {color: black;}#sk-container-id-8 div.sk-toggleable__content {max-height: 0;max-width: 0;overflow: hidden;text-align: left;background-color: #f0f8ff;}#sk-container-id-8 div.sk-toggleable__content pre {margin: 0.2em;color: black;border-radius: 0.25em;background-color: #f0f8ff;}#sk-container-id-8 input.sk-toggleable__control:checked~div.sk-toggleable__content {max-height: 200px;max-width: 100%;overflow: auto;}#sk-container-id-8 input.sk-toggleable__control:checked~label.sk-toggleable__label-arrow:before {content: \"▾\";}#sk-container-id-8 div.sk-estimator input.sk-toggleable__control:checked~label.sk-toggleable__label {background-color: #d4ebff;}#sk-container-id-8 div.sk-label input.sk-toggleable__control:checked~label.sk-toggleable__label {background-color: #d4ebff;}#sk-container-id-8 input.sk-hidden--visually {border: 0;clip: rect(1px 1px 1px 1px);clip: rect(1px, 1px, 1px, 1px);height: 1px;margin: -1px;overflow: hidden;padding: 0;position: absolute;width: 1px;}#sk-container-id-8 div.sk-estimator {font-family: monospace;background-color: #f0f8ff;border: 1px dotted black;border-radius: 0.25em;box-sizing: border-box;margin-bottom: 0.5em;}#sk-container-id-8 div.sk-estimator:hover {background-color: #d4ebff;}#sk-container-id-8 div.sk-parallel-item::after {content: \"\";width: 100%;border-bottom: 1px solid gray;flex-grow: 1;}#sk-container-id-8 div.sk-label:hover label.sk-toggleable__label {background-color: #d4ebff;}#sk-container-id-8 div.sk-serial::before {content: \"\";position: absolute;border-left: 1px solid gray;box-sizing: border-box;top: 0;bottom: 0;left: 50%;z-index: 0;}#sk-container-id-8 div.sk-serial {display: flex;flex-direction: column;align-items: center;background-color: white;padding-right: 0.2em;padding-left: 0.2em;position: relative;}#sk-container-id-8 div.sk-item {position: relative;z-index: 1;}#sk-container-id-8 div.sk-parallel {display: flex;align-items: stretch;justify-content: center;background-color: white;position: relative;}#sk-container-id-8 div.sk-item::before, #sk-container-id-8 div.sk-parallel-item::before {content: \"\";position: absolute;border-left: 1px solid gray;box-sizing: border-box;top: 0;bottom: 0;left: 50%;z-index: -1;}#sk-container-id-8 div.sk-parallel-item {display: flex;flex-direction: column;z-index: 1;position: relative;background-color: white;}#sk-container-id-8 div.sk-parallel-item:first-child::after {align-self: flex-end;width: 50%;}#sk-container-id-8 div.sk-parallel-item:last-child::after {align-self: flex-start;width: 50%;}#sk-container-id-8 div.sk-parallel-item:only-child::after {width: 0;}#sk-container-id-8 div.sk-dashed-wrapped {border: 1px dashed gray;margin: 0 0.4em 0.5em 0.4em;box-sizing: border-box;padding-bottom: 0.4em;background-color: white;}#sk-container-id-8 div.sk-label label {font-family: monospace;font-weight: bold;display: inline-block;line-height: 1.2em;}#sk-container-id-8 div.sk-label-container {text-align: center;}#sk-container-id-8 div.sk-container {/* jupyter's `normalize.less` sets `[hidden] { display: none; }` but bootstrap.min.css set `[hidden] { display: none !important; }` so we also need the `!important` here to be able to override the default hidden behavior on the sphinx rendered scikit-learn.org. See: https://github.com/scikit-learn/scikit-learn/issues/21755 */display: inline-block !important;position: relative;}#sk-container-id-8 div.sk-text-repr-fallback {display: none;}</style><div id=\"sk-container-id-8\" class=\"sk-top-container\"><div class=\"sk-text-repr-fallback\"><pre>KNeighborsClassifier()</pre><b>In a Jupyter environment, please rerun this cell to show the HTML representation or trust the notebook. <br />On GitHub, the HTML representation is unable to render, please try loading this page with nbviewer.org.</b></div><div class=\"sk-container\" hidden><div class=\"sk-item\"><div class=\"sk-estimator sk-toggleable\"><input class=\"sk-toggleable__control sk-hidden--visually\" id=\"sk-estimator-id-8\" type=\"checkbox\" checked><label for=\"sk-estimator-id-8\" class=\"sk-toggleable__label sk-toggleable__label-arrow\">KNeighborsClassifier</label><div class=\"sk-toggleable__content\"><pre>KNeighborsClassifier()</pre></div></div></div></div></div>"
      ],
      "text/plain": [
       "KNeighborsClassifier()"
      ]
     },
     "execution_count": 59,
     "metadata": {},
     "output_type": "execute_result"
    }
   ],
   "source": [
    "clf = KNeighborsClassifier(n_neighbors=5, weights='uniform')\n",
    "clf.fit(X_train, y_train)"
   ]
  },
  {
   "cell_type": "code",
   "execution_count": 60,
   "id": "0afad62a",
   "metadata": {
    "execution": {
     "iopub.execute_input": "2023-03-20T11:39:42.066134Z",
     "iopub.status.busy": "2023-03-20T11:39:42.065150Z",
     "iopub.status.idle": "2023-03-20T11:39:42.378361Z",
     "shell.execute_reply": "2023-03-20T11:39:42.377596Z"
    },
    "papermill": {
     "duration": 0.331222,
     "end_time": "2023-03-20T11:39:42.380198",
     "exception": false,
     "start_time": "2023-03-20T11:39:42.048976",
     "status": "completed"
    },
    "tags": []
   },
   "outputs": [
    {
     "name": "stdout",
     "output_type": "stream",
     "text": [
      "                                           precision    recall  f1-score   support\n",
      "\n",
      "                    action_thriller_crime       0.35      0.27      0.31       318\n",
      "                                   comedy       0.31      0.43      0.36       423\n",
      "                                    drama       0.35      0.42      0.38       499\n",
      "horror_scifi_mystery_supernatural_fantasy       0.26      0.06      0.10       263\n",
      "\n",
      "                                 accuracy                           0.33      1503\n",
      "                                macro avg       0.32      0.30      0.29      1503\n",
      "                             weighted avg       0.32      0.33      0.31      1503\n",
      "\n"
     ]
    }
   ],
   "source": [
    "y_pred = clf.predict(X_test)\n",
    "print(classification_report(y_test, y_pred))"
   ]
  },
  {
   "cell_type": "code",
   "execution_count": 61,
   "id": "2d709070",
   "metadata": {
    "execution": {
     "iopub.execute_input": "2023-03-20T11:39:42.448375Z",
     "iopub.status.busy": "2023-03-20T11:39:42.447493Z",
     "iopub.status.idle": "2023-03-20T11:39:42.475367Z",
     "shell.execute_reply": "2023-03-20T11:39:42.474732Z"
    },
    "papermill": {
     "duration": 0.073074,
     "end_time": "2023-03-20T11:39:42.477839",
     "exception": false,
     "start_time": "2023-03-20T11:39:42.404765",
     "status": "completed"
    },
    "tags": []
   },
   "outputs": [],
   "source": [
    "acc = accuracy_score(y_test, y_pred)\n",
    "pre = precision_score(y_test, y_pred, average=avg_par)\n",
    "rec = recall_score(y_test, y_pred, average=avg_par)\n",
    "f1 = f1_score(y_test, y_pred, average=avg_par)\n",
    "\n",
    "metrics_data['KNN']['Euclidean'] = {'Accuracy': acc, 'Precision': pre, 'Recall': rec, 'F1': f1}"
   ]
  },
  {
   "cell_type": "markdown",
   "id": "c5ec2a09",
   "metadata": {
    "papermill": {
     "duration": 0.01442,
     "end_time": "2023-03-20T11:39:42.523776",
     "exception": false,
     "start_time": "2023-03-20T11:39:42.509356",
     "status": "completed"
    },
    "tags": []
   },
   "source": [
    "**Dynamic Time Warping**"
   ]
  },
  {
   "cell_type": "code",
   "execution_count": 62,
   "id": "2df913d8",
   "metadata": {
    "execution": {
     "iopub.execute_input": "2023-03-20T11:39:42.556491Z",
     "iopub.status.busy": "2023-03-20T11:39:42.556178Z",
     "iopub.status.idle": "2023-03-20T11:39:42.646858Z",
     "shell.execute_reply": "2023-03-20T11:39:42.646169Z"
    },
    "papermill": {
     "duration": 0.110282,
     "end_time": "2023-03-20T11:39:42.649167",
     "exception": false,
     "start_time": "2023-03-20T11:39:42.538885",
     "status": "completed"
    },
    "tags": []
   },
   "outputs": [],
   "source": [
    "from pyts.classification import KNeighborsClassifier\n",
    "from pyts.approximation import PiecewiseAggregateApproximation\n",
    "from imblearn.under_sampling import ClusterCentroids\n",
    "from sklearn_extra.cluster import KMedoids"
   ]
  },
  {
   "cell_type": "code",
   "execution_count": 63,
   "id": "db1604ec",
   "metadata": {
    "execution": {
     "iopub.execute_input": "2023-03-20T11:39:42.682455Z",
     "iopub.status.busy": "2023-03-20T11:39:42.682123Z",
     "iopub.status.idle": "2023-03-20T11:39:42.686902Z",
     "shell.execute_reply": "2023-03-20T11:39:42.685996Z"
    },
    "papermill": {
     "duration": 0.02202,
     "end_time": "2023-03-20T11:39:42.688486",
     "exception": false,
     "start_time": "2023-03-20T11:39:42.666466",
     "status": "completed"
    },
    "tags": []
   },
   "outputs": [],
   "source": [
    "if paa_window_size:\n",
    "    paa = PiecewiseAggregateApproximation(window_size=paa_window_size)\n",
    "    X_train = paa.transform(X_train)\n",
    "    X_test = paa.transform(X_test)\n",
    "    X_train.shape"
   ]
  },
  {
   "cell_type": "code",
   "execution_count": 64,
   "id": "59fa27aa",
   "metadata": {
    "execution": {
     "iopub.execute_input": "2023-03-20T11:39:42.721442Z",
     "iopub.status.busy": "2023-03-20T11:39:42.721141Z",
     "iopub.status.idle": "2023-03-20T11:39:42.729322Z",
     "shell.execute_reply": "2023-03-20T11:39:42.728086Z"
    },
    "papermill": {
     "duration": 0.027383,
     "end_time": "2023-03-20T11:39:42.731173",
     "exception": false,
     "start_time": "2023-03-20T11:39:42.703790",
     "status": "completed"
    },
    "tags": []
   },
   "outputs": [],
   "source": [
    "if undersampling:\n",
    "    total_samples = len(y_train)\n",
    "    unique_classes, class_counts = np.unique(y_train, return_counts=True)\n",
    "    samp_strat = dict(zip(unique_classes, np.floor(class_counts * undersampling).astype(int)))\n",
    "    print(samp_strat)\n",
    "    cc = ClusterCentroids(estimator=KMedoids(\n",
    "        random_state=42), sampling_strategy=samp_strat, random_state=42)\n",
    "    X_train, y_train = cc.fit_resample(X_train, y_train)\n",
    "    X_train.shape"
   ]
  },
  {
   "cell_type": "code",
   "execution_count": 65,
   "id": "e7ac6b44",
   "metadata": {
    "execution": {
     "iopub.execute_input": "2023-03-20T11:39:42.765795Z",
     "iopub.status.busy": "2023-03-20T11:39:42.764826Z",
     "iopub.status.idle": "2023-03-20T11:39:42.791568Z",
     "shell.execute_reply": "2023-03-20T11:39:42.790346Z"
    },
    "papermill": {
     "duration": 0.046276,
     "end_time": "2023-03-20T11:39:42.793652",
     "exception": false,
     "start_time": "2023-03-20T11:39:42.747376",
     "status": "completed"
    },
    "tags": []
   },
   "outputs": [
    {
     "data": {
      "text/html": [
       "<style>#sk-container-id-9 {color: black;background-color: white;}#sk-container-id-9 pre{padding: 0;}#sk-container-id-9 div.sk-toggleable {background-color: white;}#sk-container-id-9 label.sk-toggleable__label {cursor: pointer;display: block;width: 100%;margin-bottom: 0;padding: 0.3em;box-sizing: border-box;text-align: center;}#sk-container-id-9 label.sk-toggleable__label-arrow:before {content: \"▸\";float: left;margin-right: 0.25em;color: #696969;}#sk-container-id-9 label.sk-toggleable__label-arrow:hover:before {color: black;}#sk-container-id-9 div.sk-estimator:hover label.sk-toggleable__label-arrow:before {color: black;}#sk-container-id-9 div.sk-toggleable__content {max-height: 0;max-width: 0;overflow: hidden;text-align: left;background-color: #f0f8ff;}#sk-container-id-9 div.sk-toggleable__content pre {margin: 0.2em;color: black;border-radius: 0.25em;background-color: #f0f8ff;}#sk-container-id-9 input.sk-toggleable__control:checked~div.sk-toggleable__content {max-height: 200px;max-width: 100%;overflow: auto;}#sk-container-id-9 input.sk-toggleable__control:checked~label.sk-toggleable__label-arrow:before {content: \"▾\";}#sk-container-id-9 div.sk-estimator input.sk-toggleable__control:checked~label.sk-toggleable__label {background-color: #d4ebff;}#sk-container-id-9 div.sk-label input.sk-toggleable__control:checked~label.sk-toggleable__label {background-color: #d4ebff;}#sk-container-id-9 input.sk-hidden--visually {border: 0;clip: rect(1px 1px 1px 1px);clip: rect(1px, 1px, 1px, 1px);height: 1px;margin: -1px;overflow: hidden;padding: 0;position: absolute;width: 1px;}#sk-container-id-9 div.sk-estimator {font-family: monospace;background-color: #f0f8ff;border: 1px dotted black;border-radius: 0.25em;box-sizing: border-box;margin-bottom: 0.5em;}#sk-container-id-9 div.sk-estimator:hover {background-color: #d4ebff;}#sk-container-id-9 div.sk-parallel-item::after {content: \"\";width: 100%;border-bottom: 1px solid gray;flex-grow: 1;}#sk-container-id-9 div.sk-label:hover label.sk-toggleable__label {background-color: #d4ebff;}#sk-container-id-9 div.sk-serial::before {content: \"\";position: absolute;border-left: 1px solid gray;box-sizing: border-box;top: 0;bottom: 0;left: 50%;z-index: 0;}#sk-container-id-9 div.sk-serial {display: flex;flex-direction: column;align-items: center;background-color: white;padding-right: 0.2em;padding-left: 0.2em;position: relative;}#sk-container-id-9 div.sk-item {position: relative;z-index: 1;}#sk-container-id-9 div.sk-parallel {display: flex;align-items: stretch;justify-content: center;background-color: white;position: relative;}#sk-container-id-9 div.sk-item::before, #sk-container-id-9 div.sk-parallel-item::before {content: \"\";position: absolute;border-left: 1px solid gray;box-sizing: border-box;top: 0;bottom: 0;left: 50%;z-index: -1;}#sk-container-id-9 div.sk-parallel-item {display: flex;flex-direction: column;z-index: 1;position: relative;background-color: white;}#sk-container-id-9 div.sk-parallel-item:first-child::after {align-self: flex-end;width: 50%;}#sk-container-id-9 div.sk-parallel-item:last-child::after {align-self: flex-start;width: 50%;}#sk-container-id-9 div.sk-parallel-item:only-child::after {width: 0;}#sk-container-id-9 div.sk-dashed-wrapped {border: 1px dashed gray;margin: 0 0.4em 0.5em 0.4em;box-sizing: border-box;padding-bottom: 0.4em;background-color: white;}#sk-container-id-9 div.sk-label label {font-family: monospace;font-weight: bold;display: inline-block;line-height: 1.2em;}#sk-container-id-9 div.sk-label-container {text-align: center;}#sk-container-id-9 div.sk-container {/* jupyter's `normalize.less` sets `[hidden] { display: none; }` but bootstrap.min.css set `[hidden] { display: none !important; }` so we also need the `!important` here to be able to override the default hidden behavior on the sphinx rendered scikit-learn.org. See: https://github.com/scikit-learn/scikit-learn/issues/21755 */display: inline-block !important;position: relative;}#sk-container-id-9 div.sk-text-repr-fallback {display: none;}</style><div id=\"sk-container-id-9\" class=\"sk-top-container\"><div class=\"sk-text-repr-fallback\"><pre>KNeighborsClassifier(metric=&#x27;dtw_sakoechiba&#x27;, metric_params={&#x27;window_size&#x27;: 3})</pre><b>In a Jupyter environment, please rerun this cell to show the HTML representation or trust the notebook. <br />On GitHub, the HTML representation is unable to render, please try loading this page with nbviewer.org.</b></div><div class=\"sk-container\" hidden><div class=\"sk-item\"><div class=\"sk-estimator sk-toggleable\"><input class=\"sk-toggleable__control sk-hidden--visually\" id=\"sk-estimator-id-9\" type=\"checkbox\" checked><label for=\"sk-estimator-id-9\" class=\"sk-toggleable__label sk-toggleable__label-arrow\">KNeighborsClassifier</label><div class=\"sk-toggleable__content\"><pre>KNeighborsClassifier(metric=&#x27;dtw_sakoechiba&#x27;, metric_params={&#x27;window_size&#x27;: 3})</pre></div></div></div></div></div>"
      ],
      "text/plain": [
       "KNeighborsClassifier(metric='dtw_sakoechiba', metric_params={'window_size': 3})"
      ]
     },
     "execution_count": 65,
     "metadata": {},
     "output_type": "execute_result"
    }
   ],
   "source": [
    "clf = KNeighborsClassifier(metric='dtw_sakoechiba',  metric_params={'window_size':3})\n",
    "\n",
    "clf.fit(X_train, y_train)"
   ]
  },
  {
   "cell_type": "code",
   "execution_count": 66,
   "id": "8109d19d",
   "metadata": {
    "execution": {
     "iopub.execute_input": "2023-03-20T11:39:42.828310Z",
     "iopub.status.busy": "2023-03-20T11:39:42.827687Z",
     "iopub.status.idle": "2023-03-20T12:06:46.248958Z",
     "shell.execute_reply": "2023-03-20T12:06:46.247999Z"
    },
    "papermill": {
     "duration": 1623.481763,
     "end_time": "2023-03-20T12:06:46.292484",
     "exception": false,
     "start_time": "2023-03-20T11:39:42.810721",
     "status": "completed"
    },
    "tags": []
   },
   "outputs": [
    {
     "name": "stdout",
     "output_type": "stream",
     "text": [
      "                                           precision    recall  f1-score   support\n",
      "\n",
      "                    action_thriller_crime       0.33      0.31      0.32       318\n",
      "                                   comedy       0.33      0.34      0.33       423\n",
      "                                    drama       0.40      0.42      0.41       499\n",
      "horror_scifi_mystery_supernatural_fantasy       0.24      0.23      0.24       263\n",
      "\n",
      "                                 accuracy                           0.34      1503\n",
      "                                macro avg       0.32      0.32      0.32      1503\n",
      "                             weighted avg       0.34      0.34      0.34      1503\n",
      "\n",
      "CPU times: user 27min 3s, sys: 112 ms, total: 27min 3s\n",
      "Wall time: 27min 3s\n"
     ]
    }
   ],
   "source": [
    "%%time\n",
    "y_pred = clf.predict(X_test)\n",
    "print(classification_report(y_test, y_pred))"
   ]
  },
  {
   "cell_type": "code",
   "execution_count": 67,
   "id": "b09f5cdf",
   "metadata": {
    "execution": {
     "iopub.execute_input": "2023-03-20T12:06:46.323813Z",
     "iopub.status.busy": "2023-03-20T12:06:46.323496Z",
     "iopub.status.idle": "2023-03-20T12:06:46.391431Z",
     "shell.execute_reply": "2023-03-20T12:06:46.390004Z"
    },
    "papermill": {
     "duration": 0.086385,
     "end_time": "2023-03-20T12:06:46.393858",
     "exception": false,
     "start_time": "2023-03-20T12:06:46.307473",
     "status": "completed"
    },
    "tags": []
   },
   "outputs": [],
   "source": [
    "acc = accuracy_score(y_test, y_pred)\n",
    "pre = precision_score(y_test, y_pred, average=avg_par)\n",
    "rec = recall_score(y_test, y_pred, average=avg_par)\n",
    "f1 = f1_score(y_test, y_pred, average=avg_par)\n",
    "\n",
    "metrics_data['KNN']['DTW'] = {'Accuracy': acc, 'Precision': pre, 'Recall': rec, 'F1': f1}"
   ]
  },
  {
   "cell_type": "markdown",
   "id": "e0e700a7",
   "metadata": {
    "papermill": {
     "duration": 0.014601,
     "end_time": "2023-03-20T12:06:46.425735",
     "exception": false,
     "start_time": "2023-03-20T12:06:46.411134",
     "status": "completed"
    },
    "tags": []
   },
   "source": [
    "## Overall Results"
   ]
  },
  {
   "cell_type": "code",
   "execution_count": 68,
   "id": "d003c193",
   "metadata": {
    "execution": {
     "iopub.execute_input": "2023-03-20T12:06:46.457422Z",
     "iopub.status.busy": "2023-03-20T12:06:46.456357Z",
     "iopub.status.idle": "2023-03-20T12:06:46.466895Z",
     "shell.execute_reply": "2023-03-20T12:06:46.465496Z"
    },
    "papermill": {
     "duration": 0.028559,
     "end_time": "2023-03-20T12:06:46.468888",
     "exception": false,
     "start_time": "2023-03-20T12:06:46.440329",
     "status": "completed"
    },
    "tags": []
   },
   "outputs": [],
   "source": [
    "metrics_data = pd.DataFrame.from_dict({(i,j): metrics_data[i][j] \n",
    "                                       for i in metrics_data.keys() \n",
    "                                       for j in metrics_data[i].keys()},\n",
    "                                       orient='index')"
   ]
  },
  {
   "cell_type": "code",
   "execution_count": 69,
   "id": "0944fe84",
   "metadata": {
    "execution": {
     "iopub.execute_input": "2023-03-20T12:06:46.503063Z",
     "iopub.status.busy": "2023-03-20T12:06:46.502279Z",
     "iopub.status.idle": "2023-03-20T12:06:46.579772Z",
     "shell.execute_reply": "2023-03-20T12:06:46.578652Z"
    },
    "papermill": {
     "duration": 0.097485,
     "end_time": "2023-03-20T12:06:46.582123",
     "exception": false,
     "start_time": "2023-03-20T12:06:46.484638",
     "status": "completed"
    },
    "tags": []
   },
   "outputs": [],
   "source": [
    "acc = accuracy_score(y_test, y_pred)\n",
    "pre = precision_score(y_test, y_pred, average=avg_par)\n",
    "rec = recall_score(y_test, y_pred, average=avg_par)\n",
    "f1 = f1_score(y_test, y_pred, average=avg_par)"
   ]
  },
  {
   "cell_type": "code",
   "execution_count": 70,
   "id": "7ee1b347",
   "metadata": {
    "execution": {
     "iopub.execute_input": "2023-03-20T12:06:46.623430Z",
     "iopub.status.busy": "2023-03-20T12:06:46.623096Z",
     "iopub.status.idle": "2023-03-20T12:06:46.635427Z",
     "shell.execute_reply": "2023-03-20T12:06:46.634257Z"
    },
    "papermill": {
     "duration": 0.030283,
     "end_time": "2023-03-20T12:06:46.637474",
     "exception": false,
     "start_time": "2023-03-20T12:06:46.607191",
     "status": "completed"
    },
    "tags": []
   },
   "outputs": [
    {
     "data": {
      "text/html": [
       "<div>\n",
       "<style scoped>\n",
       "    .dataframe tbody tr th:only-of-type {\n",
       "        vertical-align: middle;\n",
       "    }\n",
       "\n",
       "    .dataframe tbody tr th {\n",
       "        vertical-align: top;\n",
       "    }\n",
       "\n",
       "    .dataframe thead th {\n",
       "        text-align: right;\n",
       "    }\n",
       "</style>\n",
       "<table border=\"1\" class=\"dataframe\">\n",
       "  <thead>\n",
       "    <tr style=\"text-align: right;\">\n",
       "      <th></th>\n",
       "      <th></th>\n",
       "      <th>Accuracy</th>\n",
       "      <th>Precision</th>\n",
       "      <th>Recall</th>\n",
       "      <th>F1</th>\n",
       "    </tr>\n",
       "  </thead>\n",
       "  <tbody>\n",
       "    <tr>\n",
       "      <th rowspan=\"3\" valign=\"top\">Global</th>\n",
       "      <th>DecisionTree</th>\n",
       "      <td>0.448436</td>\n",
       "      <td>0.449163</td>\n",
       "      <td>0.448436</td>\n",
       "      <td>0.448674</td>\n",
       "    </tr>\n",
       "    <tr>\n",
       "      <th>RandomForest</th>\n",
       "      <td>0.635396</td>\n",
       "      <td>0.641305</td>\n",
       "      <td>0.635396</td>\n",
       "      <td>0.636789</td>\n",
       "    </tr>\n",
       "    <tr>\n",
       "      <th>LightGBM</th>\n",
       "      <td>0.670659</td>\n",
       "      <td>0.672271</td>\n",
       "      <td>0.670659</td>\n",
       "      <td>0.671170</td>\n",
       "    </tr>\n",
       "    <tr>\n",
       "      <th rowspan=\"3\" valign=\"top\">Shapelets</th>\n",
       "      <th>DecisionTree</th>\n",
       "      <td>0.312708</td>\n",
       "      <td>0.313249</td>\n",
       "      <td>0.312708</td>\n",
       "      <td>0.312954</td>\n",
       "    </tr>\n",
       "    <tr>\n",
       "      <th>RandomForest</th>\n",
       "      <td>0.385230</td>\n",
       "      <td>0.376774</td>\n",
       "      <td>0.385230</td>\n",
       "      <td>0.370351</td>\n",
       "    </tr>\n",
       "    <tr>\n",
       "      <th>LightGBM</th>\n",
       "      <td>0.369927</td>\n",
       "      <td>0.361751</td>\n",
       "      <td>0.369927</td>\n",
       "      <td>0.362789</td>\n",
       "    </tr>\n",
       "    <tr>\n",
       "      <th rowspan=\"2\" valign=\"top\">KNN</th>\n",
       "      <th>Euclidean</th>\n",
       "      <td>0.330672</td>\n",
       "      <td>0.322706</td>\n",
       "      <td>0.330672</td>\n",
       "      <td>0.310926</td>\n",
       "    </tr>\n",
       "    <tr>\n",
       "      <th>DTW</th>\n",
       "      <td>0.338656</td>\n",
       "      <td>0.337247</td>\n",
       "      <td>0.338656</td>\n",
       "      <td>0.337795</td>\n",
       "    </tr>\n",
       "  </tbody>\n",
       "</table>\n",
       "</div>"
      ],
      "text/plain": [
       "                        Accuracy  Precision    Recall        F1\n",
       "Global    DecisionTree  0.448436   0.449163  0.448436  0.448674\n",
       "          RandomForest  0.635396   0.641305  0.635396  0.636789\n",
       "          LightGBM      0.670659   0.672271  0.670659  0.671170\n",
       "Shapelets DecisionTree  0.312708   0.313249  0.312708  0.312954\n",
       "          RandomForest  0.385230   0.376774  0.385230  0.370351\n",
       "          LightGBM      0.369927   0.361751  0.369927  0.362789\n",
       "KNN       Euclidean     0.330672   0.322706  0.330672  0.310926\n",
       "          DTW           0.338656   0.337247  0.338656  0.337795"
      ]
     },
     "execution_count": 70,
     "metadata": {},
     "output_type": "execute_result"
    }
   ],
   "source": [
    "metrics_data"
   ]
  },
  {
   "cell_type": "code",
   "execution_count": 71,
   "id": "3efc173e",
   "metadata": {
    "execution": {
     "iopub.execute_input": "2023-03-20T12:06:46.669961Z",
     "iopub.status.busy": "2023-03-20T12:06:46.669176Z",
     "iopub.status.idle": "2023-03-20T12:06:46.678526Z",
     "shell.execute_reply": "2023-03-20T12:06:46.677420Z"
    },
    "papermill": {
     "duration": 0.027558,
     "end_time": "2023-03-20T12:06:46.680504",
     "exception": false,
     "start_time": "2023-03-20T12:06:46.652946",
     "status": "completed"
    },
    "tags": []
   },
   "outputs": [],
   "source": [
    "metrics_data.to_csv(f'{data_path}/metrics.csv')"
   ]
  },
  {
   "cell_type": "code",
   "execution_count": null,
   "id": "d21f5304",
   "metadata": {
    "papermill": {
     "duration": 0.014858,
     "end_time": "2023-03-20T12:06:46.711188",
     "exception": false,
     "start_time": "2023-03-20T12:06:46.696330",
     "status": "completed"
    },
    "tags": []
   },
   "outputs": [],
   "source": []
  }
 ],
 "metadata": {
  "celltoolbar": "Tags",
  "kernelspec": {
   "display_name": "Python 3 (ipykernel)",
   "language": "python",
   "name": "python3"
  },
  "language_info": {
   "codemirror_mode": {
    "name": "ipython",
    "version": 3
   },
   "file_extension": ".py",
   "mimetype": "text/x-python",
   "name": "python",
   "nbconvert_exporter": "python",
   "pygments_lexer": "ipython3",
   "version": "3.9.16"
  },
  "papermill": {
   "default_parameters": {},
   "duration": 2212.669127,
   "end_time": "2023-03-20T12:06:49.699117",
   "environment_variables": {},
   "exception": null,
   "input_path": "09_ts_classification.ipynb",
   "output_path": "../clf-reports/movie-plots_sbert.ipynb",
   "parameters": {
    "data_path": "/home/mattiapggioli/lyrics2ts/data/classification/movie-plots/sbert/"
   },
   "start_time": "2023-03-20T11:29:57.029990",
   "version": "2.4.0"
  },
  "vscode": {
   "interpreter": {
    "hash": "eb8d1ded7c87c6f9c253b40add648304d6b51d2e38393955e855effc7e6f899a"
   }
  }
 },
 "nbformat": 4,
 "nbformat_minor": 5
}