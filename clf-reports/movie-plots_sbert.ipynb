{
 "cells": [
  {
   "cell_type": "markdown",
   "id": "d79a68c5",
   "metadata": {
    "papermill": {
     "duration": 0.025297,
     "end_time": "2023-03-08T11:46:01.229284",
     "exception": false,
     "start_time": "2023-03-08T11:46:01.203987",
     "status": "completed"
    },
    "tags": []
   },
   "source": [
    "# Time Series Classification"
   ]
  },
  {
   "cell_type": "code",
   "execution_count": 1,
   "id": "8a0cb2b0",
   "metadata": {
    "execution": {
     "iopub.execute_input": "2023-03-08T11:46:01.256750Z",
     "iopub.status.busy": "2023-03-08T11:46:01.255897Z",
     "iopub.status.idle": "2023-03-08T11:46:02.565255Z",
     "shell.execute_reply": "2023-03-08T11:46:02.564184Z"
    },
    "papermill": {
     "duration": 1.325624,
     "end_time": "2023-03-08T11:46:02.568060",
     "exception": false,
     "start_time": "2023-03-08T11:46:01.242436",
     "status": "completed"
    },
    "tags": []
   },
   "outputs": [],
   "source": [
    "%matplotlib inline\n",
    "import pandas as pd\n",
    "import numpy as np\n",
    "import matplotlib.pyplot as plt\n",
    "import seaborn as sns\n",
    "import re\n",
    "import os\n",
    "from sklearn.preprocessing import StandardScaler\n",
    "from sklearn.decomposition import PCA\n",
    "import joblib\n",
    "from tslearn.utils import to_time_series_dataset, save_time_series_txt, load_time_series_txt\n",
    "import random\n",
    "from sklearn.model_selection import train_test_split\n",
    "from sklearn.metrics import accuracy_score, f1_score, precision_score, recall_score, classification_report\n",
    "import pickle"
   ]
  },
  {
   "cell_type": "code",
   "execution_count": 2,
   "id": "acc03405",
   "metadata": {
    "execution": {
     "iopub.execute_input": "2023-03-08T11:46:02.623488Z",
     "iopub.status.busy": "2023-03-08T11:46:02.623074Z",
     "iopub.status.idle": "2023-03-08T11:46:02.628743Z",
     "shell.execute_reply": "2023-03-08T11:46:02.627655Z"
    },
    "papermill": {
     "duration": 0.035389,
     "end_time": "2023-03-08T11:46:02.630668",
     "exception": false,
     "start_time": "2023-03-08T11:46:02.595279",
     "status": "completed"
    },
    "tags": [
     "parameters"
    ]
   },
   "outputs": [],
   "source": [
    "data_path = '/home/mattiapggioli/lyrics2ts/data/classification/20ng/sbert/'\n",
    "truncate=100\n",
    "max_iter = 2000\n",
    "paa_window_size = None\n",
    "undersampling = None"
   ]
  },
  {
   "cell_type": "code",
   "execution_count": 3,
   "id": "641a45b7",
   "metadata": {
    "execution": {
     "iopub.execute_input": "2023-03-08T11:46:02.656001Z",
     "iopub.status.busy": "2023-03-08T11:46:02.655651Z",
     "iopub.status.idle": "2023-03-08T11:46:02.659791Z",
     "shell.execute_reply": "2023-03-08T11:46:02.658858Z"
    },
    "papermill": {
     "duration": 0.018662,
     "end_time": "2023-03-08T11:46:02.661478",
     "exception": false,
     "start_time": "2023-03-08T11:46:02.642816",
     "status": "completed"
    },
    "tags": [
     "injected-parameters"
    ]
   },
   "outputs": [],
   "source": [
    "# Parameters\n",
    "data_path = \"/home/mattiapggioli/lyrics2ts/data/classification/movie-plots/sbert/\"\n"
   ]
  },
  {
   "cell_type": "code",
   "execution_count": 4,
   "id": "a4f0c774",
   "metadata": {
    "execution": {
     "iopub.execute_input": "2023-03-08T11:46:02.685367Z",
     "iopub.status.busy": "2023-03-08T11:46:02.684615Z",
     "iopub.status.idle": "2023-03-08T11:46:25.918628Z",
     "shell.execute_reply": "2023-03-08T11:46:25.917715Z"
    },
    "papermill": {
     "duration": 23.248737,
     "end_time": "2023-03-08T11:46:25.921770",
     "exception": false,
     "start_time": "2023-03-08T11:46:02.673033",
     "status": "completed"
    },
    "tags": []
   },
   "outputs": [],
   "source": [
    "ts = load_time_series_txt(f'{data_path}/ts.txt')"
   ]
  },
  {
   "cell_type": "code",
   "execution_count": 5,
   "id": "5c48d154",
   "metadata": {
    "execution": {
     "iopub.execute_input": "2023-03-08T11:46:25.951883Z",
     "iopub.status.busy": "2023-03-08T11:46:25.951416Z",
     "iopub.status.idle": "2023-03-08T11:46:25.958574Z",
     "shell.execute_reply": "2023-03-08T11:46:25.957564Z"
    },
    "papermill": {
     "duration": 0.023848,
     "end_time": "2023-03-08T11:46:25.963253",
     "exception": false,
     "start_time": "2023-03-08T11:46:25.939405",
     "status": "completed"
    },
    "tags": []
   },
   "outputs": [
    {
     "data": {
      "text/plain": [
       "(7512, 412, 1)"
      ]
     },
     "execution_count": 5,
     "metadata": {},
     "output_type": "execute_result"
    }
   ],
   "source": [
    "ts.shape"
   ]
  },
  {
   "cell_type": "code",
   "execution_count": 6,
   "id": "f6274d40",
   "metadata": {
    "execution": {
     "iopub.execute_input": "2023-03-08T11:46:25.991078Z",
     "iopub.status.busy": "2023-03-08T11:46:25.990592Z",
     "iopub.status.idle": "2023-03-08T11:46:25.997505Z",
     "shell.execute_reply": "2023-03-08T11:46:25.996463Z"
    },
    "papermill": {
     "duration": 0.020612,
     "end_time": "2023-03-08T11:46:25.999273",
     "exception": false,
     "start_time": "2023-03-08T11:46:25.978661",
     "status": "completed"
    },
    "tags": []
   },
   "outputs": [],
   "source": [
    "with open(f'{data_path}/y_class.npy', 'rb') as f:\n",
    "    y = np.load(f, allow_pickle=True)"
   ]
  },
  {
   "cell_type": "code",
   "execution_count": 7,
   "id": "9d42fa3b",
   "metadata": {
    "execution": {
     "iopub.execute_input": "2023-03-08T11:46:26.047608Z",
     "iopub.status.busy": "2023-03-08T11:46:26.047129Z",
     "iopub.status.idle": "2023-03-08T11:46:26.076886Z",
     "shell.execute_reply": "2023-03-08T11:46:26.076101Z"
    },
    "papermill": {
     "duration": 0.053299,
     "end_time": "2023-03-08T11:46:26.079031",
     "exception": false,
     "start_time": "2023-03-08T11:46:26.025732",
     "status": "completed"
    },
    "tags": []
   },
   "outputs": [],
   "source": [
    "with open(f'{data_path}/X.npy', 'rb') as f:\n",
    "    X = np.load(f, allow_pickle=True)"
   ]
  },
  {
   "cell_type": "code",
   "execution_count": 8,
   "id": "1158a9da",
   "metadata": {
    "execution": {
     "iopub.execute_input": "2023-03-08T11:46:26.105117Z",
     "iopub.status.busy": "2023-03-08T11:46:26.104195Z",
     "iopub.status.idle": "2023-03-08T11:46:26.111367Z",
     "shell.execute_reply": "2023-03-08T11:46:26.110294Z"
    },
    "papermill": {
     "duration": 0.020485,
     "end_time": "2023-03-08T11:46:26.113019",
     "exception": false,
     "start_time": "2023-03-08T11:46:26.092534",
     "status": "completed"
    },
    "tags": []
   },
   "outputs": [
    {
     "data": {
      "text/plain": [
       "(7512, 384)"
      ]
     },
     "execution_count": 8,
     "metadata": {},
     "output_type": "execute_result"
    }
   ],
   "source": [
    "X.shape"
   ]
  },
  {
   "cell_type": "code",
   "execution_count": 9,
   "id": "47239790",
   "metadata": {
    "execution": {
     "iopub.execute_input": "2023-03-08T11:46:26.136371Z",
     "iopub.status.busy": "2023-03-08T11:46:26.135960Z",
     "iopub.status.idle": "2023-03-08T11:46:26.142541Z",
     "shell.execute_reply": "2023-03-08T11:46:26.141606Z"
    },
    "papermill": {
     "duration": 0.0205,
     "end_time": "2023-03-08T11:46:26.144133",
     "exception": false,
     "start_time": "2023-03-08T11:46:26.123633",
     "status": "completed"
    },
    "tags": []
   },
   "outputs": [
    {
     "data": {
      "text/plain": [
       "{'action_thriller_crime',\n",
       " 'comedy',\n",
       " 'drama',\n",
       " 'horror_scifi_mystery_supernatural_fantasy'}"
      ]
     },
     "execution_count": 9,
     "metadata": {},
     "output_type": "execute_result"
    }
   ],
   "source": [
    "set(y)"
   ]
  },
  {
   "cell_type": "code",
   "execution_count": 10,
   "id": "37609992",
   "metadata": {
    "execution": {
     "iopub.execute_input": "2023-03-08T11:46:26.167011Z",
     "iopub.status.busy": "2023-03-08T11:46:26.166575Z",
     "iopub.status.idle": "2023-03-08T11:46:26.183592Z",
     "shell.execute_reply": "2023-03-08T11:46:26.182334Z"
    },
    "papermill": {
     "duration": 0.030945,
     "end_time": "2023-03-08T11:46:26.185658",
     "exception": false,
     "start_time": "2023-03-08T11:46:26.154713",
     "status": "completed"
    },
    "tags": []
   },
   "outputs": [],
   "source": [
    "ts_train, ts_test, y_train, y_test = train_test_split(ts, y, test_size=0.20, random_state=42)"
   ]
  },
  {
   "cell_type": "code",
   "execution_count": 11,
   "id": "34508fe4",
   "metadata": {
    "execution": {
     "iopub.execute_input": "2023-03-08T11:46:26.210875Z",
     "iopub.status.busy": "2023-03-08T11:46:26.210448Z",
     "iopub.status.idle": "2023-03-08T11:46:26.228254Z",
     "shell.execute_reply": "2023-03-08T11:46:26.226813Z"
    },
    "papermill": {
     "duration": 0.031725,
     "end_time": "2023-03-08T11:46:26.230344",
     "exception": false,
     "start_time": "2023-03-08T11:46:26.198619",
     "status": "completed"
    },
    "tags": []
   },
   "outputs": [],
   "source": [
    "X_train, X_test, y_train, y_test = train_test_split(X, y, test_size=0.20, random_state=42)"
   ]
  },
  {
   "cell_type": "code",
   "execution_count": 12,
   "id": "076afac9",
   "metadata": {
    "execution": {
     "iopub.execute_input": "2023-03-08T11:46:26.256621Z",
     "iopub.status.busy": "2023-03-08T11:46:26.256228Z",
     "iopub.status.idle": "2023-03-08T11:46:26.271588Z",
     "shell.execute_reply": "2023-03-08T11:46:26.270337Z"
    },
    "papermill": {
     "duration": 0.030618,
     "end_time": "2023-03-08T11:46:26.274767",
     "exception": false,
     "start_time": "2023-03-08T11:46:26.244149",
     "status": "completed"
    },
    "tags": []
   },
   "outputs": [
    {
     "data": {
      "text/plain": [
       "array([[-1.67026404],\n",
       "       [-1.16772221],\n",
       "       [-0.98659762],\n",
       "       [-0.71091319],\n",
       "       [-1.10613756],\n",
       "       [-0.99034674],\n",
       "       [ 0.65896799],\n",
       "       [-0.77377548],\n",
       "       [-0.45651313],\n",
       "       [-1.54467899],\n",
       "       [-0.64394369],\n",
       "       [ 0.98790544],\n",
       "       [-0.34484608],\n",
       "       [ 0.10972809],\n",
       "       [ 1.6365723 ],\n",
       "       [ 1.10066551],\n",
       "       [ 2.05087749],\n",
       "       [-1.25561312],\n",
       "       [-0.16062261],\n",
       "       [-0.62481576],\n",
       "       [-1.34220581],\n",
       "       [-0.69364117],\n",
       "       [ 1.57212589],\n",
       "       [ 1.71251927],\n",
       "       [-1.53583895],\n",
       "       [-1.09814503],\n",
       "       [-2.19225636],\n",
       "       [-0.99221926],\n",
       "       [        nan],\n",
       "       [        nan],\n",
       "       [        nan],\n",
       "       [        nan],\n",
       "       [        nan],\n",
       "       [        nan],\n",
       "       [        nan],\n",
       "       [        nan],\n",
       "       [        nan],\n",
       "       [        nan],\n",
       "       [        nan],\n",
       "       [        nan],\n",
       "       [        nan],\n",
       "       [        nan],\n",
       "       [        nan],\n",
       "       [        nan],\n",
       "       [        nan],\n",
       "       [        nan],\n",
       "       [        nan],\n",
       "       [        nan],\n",
       "       [        nan],\n",
       "       [        nan],\n",
       "       [        nan],\n",
       "       [        nan],\n",
       "       [        nan],\n",
       "       [        nan],\n",
       "       [        nan],\n",
       "       [        nan],\n",
       "       [        nan],\n",
       "       [        nan],\n",
       "       [        nan],\n",
       "       [        nan],\n",
       "       [        nan],\n",
       "       [        nan],\n",
       "       [        nan],\n",
       "       [        nan],\n",
       "       [        nan],\n",
       "       [        nan],\n",
       "       [        nan],\n",
       "       [        nan],\n",
       "       [        nan],\n",
       "       [        nan],\n",
       "       [        nan],\n",
       "       [        nan],\n",
       "       [        nan],\n",
       "       [        nan],\n",
       "       [        nan],\n",
       "       [        nan],\n",
       "       [        nan],\n",
       "       [        nan],\n",
       "       [        nan],\n",
       "       [        nan],\n",
       "       [        nan],\n",
       "       [        nan],\n",
       "       [        nan],\n",
       "       [        nan],\n",
       "       [        nan],\n",
       "       [        nan],\n",
       "       [        nan],\n",
       "       [        nan],\n",
       "       [        nan],\n",
       "       [        nan],\n",
       "       [        nan],\n",
       "       [        nan],\n",
       "       [        nan],\n",
       "       [        nan],\n",
       "       [        nan],\n",
       "       [        nan],\n",
       "       [        nan],\n",
       "       [        nan],\n",
       "       [        nan],\n",
       "       [        nan],\n",
       "       [        nan],\n",
       "       [        nan],\n",
       "       [        nan],\n",
       "       [        nan],\n",
       "       [        nan],\n",
       "       [        nan],\n",
       "       [        nan],\n",
       "       [        nan],\n",
       "       [        nan],\n",
       "       [        nan],\n",
       "       [        nan],\n",
       "       [        nan],\n",
       "       [        nan],\n",
       "       [        nan],\n",
       "       [        nan],\n",
       "       [        nan],\n",
       "       [        nan],\n",
       "       [        nan],\n",
       "       [        nan],\n",
       "       [        nan],\n",
       "       [        nan],\n",
       "       [        nan],\n",
       "       [        nan],\n",
       "       [        nan],\n",
       "       [        nan],\n",
       "       [        nan],\n",
       "       [        nan],\n",
       "       [        nan],\n",
       "       [        nan],\n",
       "       [        nan],\n",
       "       [        nan],\n",
       "       [        nan],\n",
       "       [        nan],\n",
       "       [        nan],\n",
       "       [        nan],\n",
       "       [        nan],\n",
       "       [        nan],\n",
       "       [        nan],\n",
       "       [        nan],\n",
       "       [        nan],\n",
       "       [        nan],\n",
       "       [        nan],\n",
       "       [        nan],\n",
       "       [        nan],\n",
       "       [        nan],\n",
       "       [        nan],\n",
       "       [        nan],\n",
       "       [        nan],\n",
       "       [        nan],\n",
       "       [        nan],\n",
       "       [        nan],\n",
       "       [        nan],\n",
       "       [        nan],\n",
       "       [        nan],\n",
       "       [        nan],\n",
       "       [        nan],\n",
       "       [        nan],\n",
       "       [        nan],\n",
       "       [        nan],\n",
       "       [        nan],\n",
       "       [        nan],\n",
       "       [        nan],\n",
       "       [        nan],\n",
       "       [        nan],\n",
       "       [        nan],\n",
       "       [        nan],\n",
       "       [        nan],\n",
       "       [        nan],\n",
       "       [        nan],\n",
       "       [        nan],\n",
       "       [        nan],\n",
       "       [        nan],\n",
       "       [        nan],\n",
       "       [        nan],\n",
       "       [        nan],\n",
       "       [        nan],\n",
       "       [        nan],\n",
       "       [        nan],\n",
       "       [        nan],\n",
       "       [        nan],\n",
       "       [        nan],\n",
       "       [        nan],\n",
       "       [        nan],\n",
       "       [        nan],\n",
       "       [        nan],\n",
       "       [        nan],\n",
       "       [        nan],\n",
       "       [        nan],\n",
       "       [        nan],\n",
       "       [        nan],\n",
       "       [        nan],\n",
       "       [        nan],\n",
       "       [        nan],\n",
       "       [        nan],\n",
       "       [        nan],\n",
       "       [        nan],\n",
       "       [        nan],\n",
       "       [        nan],\n",
       "       [        nan],\n",
       "       [        nan],\n",
       "       [        nan],\n",
       "       [        nan],\n",
       "       [        nan],\n",
       "       [        nan],\n",
       "       [        nan],\n",
       "       [        nan],\n",
       "       [        nan],\n",
       "       [        nan],\n",
       "       [        nan],\n",
       "       [        nan],\n",
       "       [        nan],\n",
       "       [        nan],\n",
       "       [        nan],\n",
       "       [        nan],\n",
       "       [        nan],\n",
       "       [        nan],\n",
       "       [        nan],\n",
       "       [        nan],\n",
       "       [        nan],\n",
       "       [        nan],\n",
       "       [        nan],\n",
       "       [        nan],\n",
       "       [        nan],\n",
       "       [        nan],\n",
       "       [        nan],\n",
       "       [        nan],\n",
       "       [        nan],\n",
       "       [        nan],\n",
       "       [        nan],\n",
       "       [        nan],\n",
       "       [        nan],\n",
       "       [        nan],\n",
       "       [        nan],\n",
       "       [        nan],\n",
       "       [        nan],\n",
       "       [        nan],\n",
       "       [        nan],\n",
       "       [        nan],\n",
       "       [        nan],\n",
       "       [        nan],\n",
       "       [        nan],\n",
       "       [        nan],\n",
       "       [        nan],\n",
       "       [        nan],\n",
       "       [        nan],\n",
       "       [        nan],\n",
       "       [        nan],\n",
       "       [        nan],\n",
       "       [        nan],\n",
       "       [        nan],\n",
       "       [        nan],\n",
       "       [        nan],\n",
       "       [        nan],\n",
       "       [        nan],\n",
       "       [        nan],\n",
       "       [        nan],\n",
       "       [        nan],\n",
       "       [        nan],\n",
       "       [        nan],\n",
       "       [        nan],\n",
       "       [        nan],\n",
       "       [        nan],\n",
       "       [        nan],\n",
       "       [        nan],\n",
       "       [        nan],\n",
       "       [        nan],\n",
       "       [        nan],\n",
       "       [        nan],\n",
       "       [        nan],\n",
       "       [        nan],\n",
       "       [        nan],\n",
       "       [        nan],\n",
       "       [        nan],\n",
       "       [        nan],\n",
       "       [        nan],\n",
       "       [        nan],\n",
       "       [        nan],\n",
       "       [        nan],\n",
       "       [        nan],\n",
       "       [        nan],\n",
       "       [        nan],\n",
       "       [        nan],\n",
       "       [        nan],\n",
       "       [        nan],\n",
       "       [        nan],\n",
       "       [        nan],\n",
       "       [        nan],\n",
       "       [        nan],\n",
       "       [        nan],\n",
       "       [        nan],\n",
       "       [        nan],\n",
       "       [        nan],\n",
       "       [        nan],\n",
       "       [        nan],\n",
       "       [        nan],\n",
       "       [        nan],\n",
       "       [        nan],\n",
       "       [        nan],\n",
       "       [        nan],\n",
       "       [        nan],\n",
       "       [        nan],\n",
       "       [        nan],\n",
       "       [        nan],\n",
       "       [        nan],\n",
       "       [        nan],\n",
       "       [        nan],\n",
       "       [        nan],\n",
       "       [        nan],\n",
       "       [        nan],\n",
       "       [        nan],\n",
       "       [        nan],\n",
       "       [        nan],\n",
       "       [        nan],\n",
       "       [        nan],\n",
       "       [        nan],\n",
       "       [        nan],\n",
       "       [        nan],\n",
       "       [        nan],\n",
       "       [        nan],\n",
       "       [        nan],\n",
       "       [        nan],\n",
       "       [        nan],\n",
       "       [        nan],\n",
       "       [        nan],\n",
       "       [        nan],\n",
       "       [        nan],\n",
       "       [        nan],\n",
       "       [        nan],\n",
       "       [        nan],\n",
       "       [        nan],\n",
       "       [        nan],\n",
       "       [        nan],\n",
       "       [        nan],\n",
       "       [        nan],\n",
       "       [        nan],\n",
       "       [        nan],\n",
       "       [        nan],\n",
       "       [        nan],\n",
       "       [        nan],\n",
       "       [        nan],\n",
       "       [        nan],\n",
       "       [        nan],\n",
       "       [        nan],\n",
       "       [        nan],\n",
       "       [        nan],\n",
       "       [        nan],\n",
       "       [        nan],\n",
       "       [        nan],\n",
       "       [        nan],\n",
       "       [        nan],\n",
       "       [        nan],\n",
       "       [        nan],\n",
       "       [        nan],\n",
       "       [        nan],\n",
       "       [        nan],\n",
       "       [        nan],\n",
       "       [        nan],\n",
       "       [        nan],\n",
       "       [        nan],\n",
       "       [        nan],\n",
       "       [        nan],\n",
       "       [        nan],\n",
       "       [        nan],\n",
       "       [        nan],\n",
       "       [        nan],\n",
       "       [        nan],\n",
       "       [        nan],\n",
       "       [        nan],\n",
       "       [        nan],\n",
       "       [        nan],\n",
       "       [        nan],\n",
       "       [        nan],\n",
       "       [        nan],\n",
       "       [        nan],\n",
       "       [        nan],\n",
       "       [        nan],\n",
       "       [        nan],\n",
       "       [        nan],\n",
       "       [        nan],\n",
       "       [        nan],\n",
       "       [        nan],\n",
       "       [        nan],\n",
       "       [        nan],\n",
       "       [        nan],\n",
       "       [        nan],\n",
       "       [        nan],\n",
       "       [        nan],\n",
       "       [        nan],\n",
       "       [        nan],\n",
       "       [        nan],\n",
       "       [        nan],\n",
       "       [        nan],\n",
       "       [        nan],\n",
       "       [        nan],\n",
       "       [        nan],\n",
       "       [        nan],\n",
       "       [        nan],\n",
       "       [        nan],\n",
       "       [        nan],\n",
       "       [        nan],\n",
       "       [        nan],\n",
       "       [        nan],\n",
       "       [        nan],\n",
       "       [        nan],\n",
       "       [        nan],\n",
       "       [        nan],\n",
       "       [        nan],\n",
       "       [        nan],\n",
       "       [        nan],\n",
       "       [        nan],\n",
       "       [        nan],\n",
       "       [        nan]])"
      ]
     },
     "execution_count": 12,
     "metadata": {},
     "output_type": "execute_result"
    }
   ],
   "source": [
    "random.choice(ts_train)"
   ]
  },
  {
   "cell_type": "code",
   "execution_count": 13,
   "id": "ca66457a",
   "metadata": {
    "execution": {
     "iopub.execute_input": "2023-03-08T11:46:26.324676Z",
     "iopub.status.busy": "2023-03-08T11:46:26.324217Z",
     "iopub.status.idle": "2023-03-08T11:46:26.707232Z",
     "shell.execute_reply": "2023-03-08T11:46:26.706415Z"
    },
    "papermill": {
     "duration": 0.40358,
     "end_time": "2023-03-08T11:46:26.709689",
     "exception": false,
     "start_time": "2023-03-08T11:46:26.306109",
     "status": "completed"
    },
    "tags": []
   },
   "outputs": [
    {
     "data": {
      "text/plain": [
       "<AxesSubplot:ylabel='Count'>"
      ]
     },
     "execution_count": 13,
     "metadata": {},
     "output_type": "execute_result"
    },
    {
     "data": {
      "image/png": "[encoded data removed]",
      "text/plain": [
       "<Figure size 640x480 with 1 Axes>"
      ]
     },
     "metadata": {},
     "output_type": "display_data"
    }
   ],
   "source": [
    "sns.histplot([t[~np.any(np.isnan(t), axis=1)].shape[0] for t in ts_train])"
   ]
  },
  {
   "cell_type": "code",
   "execution_count": 14,
   "id": "c2ae286f",
   "metadata": {
    "execution": {
     "iopub.execute_input": "2023-03-08T11:46:26.767659Z",
     "iopub.status.busy": "2023-03-08T11:46:26.767350Z",
     "iopub.status.idle": "2023-03-08T11:46:26.771738Z",
     "shell.execute_reply": "2023-03-08T11:46:26.770801Z"
    },
    "papermill": {
     "duration": 0.03686,
     "end_time": "2023-03-08T11:46:26.774505",
     "exception": false,
     "start_time": "2023-03-08T11:46:26.737645",
     "status": "completed"
    },
    "tags": []
   },
   "outputs": [],
   "source": [
    "ts_train = ts_train[:, :truncate, :]\n",
    "ts_test = ts_test[:, :truncate, :]"
   ]
  },
  {
   "cell_type": "code",
   "execution_count": 15,
   "id": "3218baa4",
   "metadata": {
    "execution": {
     "iopub.execute_input": "2023-03-08T11:46:26.814284Z",
     "iopub.status.busy": "2023-03-08T11:46:26.813834Z",
     "iopub.status.idle": "2023-03-08T11:46:26.846125Z",
     "shell.execute_reply": "2023-03-08T11:46:26.845321Z"
    },
    "papermill": {
     "duration": 0.04708,
     "end_time": "2023-03-08T11:46:26.848293",
     "exception": false,
     "start_time": "2023-03-08T11:46:26.801213",
     "status": "completed"
    },
    "tags": []
   },
   "outputs": [],
   "source": [
    "mean_arr = np.nanmean(ts_train, axis=1, keepdims=True)\n",
    "nan_indices = np.isnan(ts_train)\n",
    "ts_train[nan_indices] = np.take(mean_arr, np.nonzero(nan_indices)[0])\n",
    "\n",
    "mean_arr = np.nanmean(ts_test, axis=1, keepdims=True)\n",
    "nan_indices = np.isnan(ts_test)\n",
    "ts_test[nan_indices] = np.take(mean_arr, np.nonzero(nan_indices)[0])"
   ]
  },
  {
   "cell_type": "code",
   "execution_count": 16,
   "id": "d369691b",
   "metadata": {
    "execution": {
     "iopub.execute_input": "2023-03-08T11:46:26.875157Z",
     "iopub.status.busy": "2023-03-08T11:46:26.874614Z",
     "iopub.status.idle": "2023-03-08T11:46:26.884347Z",
     "shell.execute_reply": "2023-03-08T11:46:26.883316Z"
    },
    "papermill": {
     "duration": 0.023996,
     "end_time": "2023-03-08T11:46:26.886041",
     "exception": false,
     "start_time": "2023-03-08T11:46:26.862045",
     "status": "completed"
    },
    "tags": []
   },
   "outputs": [
    {
     "data": {
      "text/plain": [
       "0"
      ]
     },
     "execution_count": 16,
     "metadata": {},
     "output_type": "execute_result"
    }
   ],
   "source": [
    "np.count_nonzero(np.isnan(X_train))"
   ]
  },
  {
   "cell_type": "code",
   "execution_count": 17,
   "id": "0d602e18",
   "metadata": {
    "execution": {
     "iopub.execute_input": "2023-03-08T11:46:26.910455Z",
     "iopub.status.busy": "2023-03-08T11:46:26.909947Z",
     "iopub.status.idle": "2023-03-08T11:46:26.918628Z",
     "shell.execute_reply": "2023-03-08T11:46:26.917615Z"
    },
    "papermill": {
     "duration": 0.023134,
     "end_time": "2023-03-08T11:46:26.920384",
     "exception": false,
     "start_time": "2023-03-08T11:46:26.897250",
     "status": "completed"
    },
    "tags": []
   },
   "outputs": [],
   "source": [
    "X_train[np.isnan(X_train)] = 0\n",
    "X_test[np.isnan(X_test)] = 0"
   ]
  },
  {
   "cell_type": "code",
   "execution_count": 18,
   "id": "45c5102c",
   "metadata": {
    "execution": {
     "iopub.execute_input": "2023-03-08T11:46:26.944992Z",
     "iopub.status.busy": "2023-03-08T11:46:26.944475Z",
     "iopub.status.idle": "2023-03-08T11:46:27.678010Z",
     "shell.execute_reply": "2023-03-08T11:46:27.677093Z"
    },
    "papermill": {
     "duration": 0.749282,
     "end_time": "2023-03-08T11:46:27.681017",
     "exception": false,
     "start_time": "2023-03-08T11:46:26.931735",
     "status": "completed"
    },
    "tags": []
   },
   "outputs": [],
   "source": [
    "save_time_series_txt(f'{data_path}/ts_train.txt', ts_train)\n",
    "save_time_series_txt(f'{data_path}/ts_test.txt', ts_test)"
   ]
  },
  {
   "cell_type": "code",
   "execution_count": 19,
   "id": "39830f37",
   "metadata": {
    "execution": {
     "iopub.execute_input": "2023-03-08T11:46:27.747941Z",
     "iopub.status.busy": "2023-03-08T11:46:27.747621Z",
     "iopub.status.idle": "2023-03-08T11:46:27.770343Z",
     "shell.execute_reply": "2023-03-08T11:46:27.769536Z"
    },
    "papermill": {
     "duration": 0.056861,
     "end_time": "2023-03-08T11:46:27.773057",
     "exception": false,
     "start_time": "2023-03-08T11:46:27.716196",
     "status": "completed"
    },
    "tags": []
   },
   "outputs": [],
   "source": [
    "with open(f'{data_path}/X_train.npy', 'wb') as f:\n",
    "    np.save(f, X_train, allow_pickle=True)\n",
    "\n",
    "with open(f'{data_path}/X_test.npy', 'wb') as f:\n",
    "    np.save(f, X_test, allow_pickle=True)"
   ]
  },
  {
   "cell_type": "code",
   "execution_count": 20,
   "id": "795fd2be",
   "metadata": {
    "execution": {
     "iopub.execute_input": "2023-03-08T11:46:27.830182Z",
     "iopub.status.busy": "2023-03-08T11:46:27.829864Z",
     "iopub.status.idle": "2023-03-08T11:46:27.838393Z",
     "shell.execute_reply": "2023-03-08T11:46:27.837283Z"
    },
    "papermill": {
     "duration": 0.035579,
     "end_time": "2023-03-08T11:46:27.840585",
     "exception": false,
     "start_time": "2023-03-08T11:46:27.805006",
     "status": "completed"
    },
    "tags": []
   },
   "outputs": [],
   "source": [
    "with open(f'{data_path}/y_train.npy', 'wb') as f:\n",
    "    np.save(f, y_train, allow_pickle=True)\n",
    "\n",
    "with open(f'{data_path}/y_test.npy', 'wb') as f:\n",
    "    np.save(f, y_test, allow_pickle=True)"
   ]
  },
  {
   "cell_type": "code",
   "execution_count": 21,
   "id": "08bda153",
   "metadata": {
    "execution": {
     "iopub.execute_input": "2023-03-08T11:46:27.864821Z",
     "iopub.status.busy": "2023-03-08T11:46:27.864505Z",
     "iopub.status.idle": "2023-03-08T11:46:28.011709Z",
     "shell.execute_reply": "2023-03-08T11:46:28.011027Z"
    },
    "papermill": {
     "duration": 0.162911,
     "end_time": "2023-03-08T11:46:28.015082",
     "exception": false,
     "start_time": "2023-03-08T11:46:27.852171",
     "status": "completed"
    },
    "tags": []
   },
   "outputs": [
    {
     "data": {
      "text/plain": [
       "[<matplotlib.lines.Line2D at 0x7fdc3b436130>]"
      ]
     },
     "execution_count": 21,
     "metadata": {},
     "output_type": "execute_result"
    },
    {
     "data": {
      "image/png": "[encoded data removed]",
      "text/plain": [
       "<Figure size 640x480 with 1 Axes>"
      ]
     },
     "metadata": {},
     "output_type": "display_data"
    }
   ],
   "source": [
    "plt.plot(random.choice(ts_train))"
   ]
  },
  {
   "cell_type": "code",
   "execution_count": 22,
   "id": "98ce9d63",
   "metadata": {
    "execution": {
     "iopub.execute_input": "2023-03-08T11:46:28.079472Z",
     "iopub.status.busy": "2023-03-08T11:46:28.079147Z",
     "iopub.status.idle": "2023-03-08T11:46:28.084208Z",
     "shell.execute_reply": "2023-03-08T11:46:28.083296Z"
    },
    "papermill": {
     "duration": 0.040579,
     "end_time": "2023-03-08T11:46:28.087256",
     "exception": false,
     "start_time": "2023-03-08T11:46:28.046677",
     "status": "completed"
    },
    "tags": []
   },
   "outputs": [],
   "source": [
    "# Parameters that require knowing if it's binary or multiclass (LightGBM, metrics)\n",
    "if len(set(y)) == 2:\n",
    "    avg_par = 'binary'\n",
    "    obj_par = 'binary'\n",
    "elif len(set(y)) > 2:\n",
    "    avg_par = 'macro'\n",
    "    obj_par = 'multiclass'"
   ]
  },
  {
   "cell_type": "markdown",
   "id": "228f1b39",
   "metadata": {
    "papermill": {
     "duration": 0.011458,
     "end_time": "2023-03-08T11:46:28.120567",
     "exception": false,
     "start_time": "2023-03-08T11:46:28.109109",
     "status": "completed"
    },
    "tags": []
   },
   "source": [
    "## Classification"
   ]
  },
  {
   "cell_type": "code",
   "execution_count": 23,
   "id": "34bb73ff",
   "metadata": {
    "execution": {
     "iopub.execute_input": "2023-03-08T11:46:28.146418Z",
     "iopub.status.busy": "2023-03-08T11:46:28.145543Z",
     "iopub.status.idle": "2023-03-08T11:46:28.263480Z",
     "shell.execute_reply": "2023-03-08T11:46:28.262842Z"
    },
    "papermill": {
     "duration": 0.133851,
     "end_time": "2023-03-08T11:46:28.266146",
     "exception": false,
     "start_time": "2023-03-08T11:46:28.132295",
     "status": "completed"
    },
    "tags": []
   },
   "outputs": [],
   "source": [
    "from sklearn.tree import DecisionTreeClassifier\n",
    "import lightgbm as lgbm\n",
    "from sklearn.ensemble import RandomForestClassifier"
   ]
  },
  {
   "cell_type": "code",
   "execution_count": 24,
   "id": "02aaee18",
   "metadata": {
    "execution": {
     "iopub.execute_input": "2023-03-08T11:46:28.294644Z",
     "iopub.status.busy": "2023-03-08T11:46:28.294240Z",
     "iopub.status.idle": "2023-03-08T11:46:28.298310Z",
     "shell.execute_reply": "2023-03-08T11:46:28.297535Z"
    },
    "papermill": {
     "duration": 0.019051,
     "end_time": "2023-03-08T11:46:28.300220",
     "exception": false,
     "start_time": "2023-03-08T11:46:28.281169",
     "status": "completed"
    },
    "tags": []
   },
   "outputs": [],
   "source": [
    "metrics_data = {}"
   ]
  },
  {
   "cell_type": "markdown",
   "id": "b49309ed",
   "metadata": {
    "papermill": {
     "duration": 0.012055,
     "end_time": "2023-03-08T11:46:28.326827",
     "exception": false,
     "start_time": "2023-03-08T11:46:28.314772",
     "status": "completed"
    },
    "tags": []
   },
   "source": [
    "### Baseline: global features (No Time Series)"
   ]
  },
  {
   "cell_type": "code",
   "execution_count": 25,
   "id": "35eb9f66",
   "metadata": {
    "execution": {
     "iopub.execute_input": "2023-03-08T11:46:28.352991Z",
     "iopub.status.busy": "2023-03-08T11:46:28.352473Z",
     "iopub.status.idle": "2023-03-08T11:46:28.356551Z",
     "shell.execute_reply": "2023-03-08T11:46:28.355733Z"
    },
    "papermill": {
     "duration": 0.019288,
     "end_time": "2023-03-08T11:46:28.358011",
     "exception": false,
     "start_time": "2023-03-08T11:46:28.338723",
     "status": "completed"
    },
    "tags": []
   },
   "outputs": [],
   "source": [
    "metrics_data['Global'] = {}"
   ]
  },
  {
   "cell_type": "markdown",
   "id": "29cd5044",
   "metadata": {
    "papermill": {
     "duration": 0.01152,
     "end_time": "2023-03-08T11:46:28.381226",
     "exception": false,
     "start_time": "2023-03-08T11:46:28.369706",
     "status": "completed"
    },
    "tags": []
   },
   "source": [
    "**Decision Tree**"
   ]
  },
  {
   "cell_type": "code",
   "execution_count": 26,
   "id": "9ef4f037",
   "metadata": {
    "execution": {
     "iopub.execute_input": "2023-03-08T11:46:28.406218Z",
     "iopub.status.busy": "2023-03-08T11:46:28.405859Z",
     "iopub.status.idle": "2023-03-08T11:46:30.984567Z",
     "shell.execute_reply": "2023-03-08T11:46:30.983662Z"
    },
    "papermill": {
     "duration": 2.594349,
     "end_time": "2023-03-08T11:46:30.987320",
     "exception": false,
     "start_time": "2023-03-08T11:46:28.392971",
     "status": "completed"
    },
    "tags": []
   },
   "outputs": [
    {
     "data": {
      "text/html": [
       "<style>#sk-container-id-1 {color: black;background-color: white;}#sk-container-id-1 pre{padding: 0;}#sk-container-id-1 div.sk-toggleable {background-color: white;}#sk-container-id-1 label.sk-toggleable__label {cursor: pointer;display: block;width: 100%;margin-bottom: 0;padding: 0.3em;box-sizing: border-box;text-align: center;}#sk-container-id-1 label.sk-toggleable__label-arrow:before {content: \"▸\";float: left;margin-right: 0.25em;color: #696969;}#sk-container-id-1 label.sk-toggleable__label-arrow:hover:before {color: black;}#sk-container-id-1 div.sk-estimator:hover label.sk-toggleable__label-arrow:before {color: black;}#sk-container-id-1 div.sk-toggleable__content {max-height: 0;max-width: 0;overflow: hidden;text-align: left;background-color: #f0f8ff;}#sk-container-id-1 div.sk-toggleable__content pre {margin: 0.2em;color: black;border-radius: 0.25em;background-color: #f0f8ff;}#sk-container-id-1 input.sk-toggleable__control:checked~div.sk-toggleable__content {max-height: 200px;max-width: 100%;overflow: auto;}#sk-container-id-1 input.sk-toggleable__control:checked~label.sk-toggleable__label-arrow:before {content: \"▾\";}#sk-container-id-1 div.sk-estimator input.sk-toggleable__control:checked~label.sk-toggleable__label {background-color: #d4ebff;}#sk-container-id-1 div.sk-label input.sk-toggleable__control:checked~label.sk-toggleable__label {background-color: #d4ebff;}#sk-container-id-1 input.sk-hidden--visually {border: 0;clip: rect(1px 1px 1px 1px);clip: rect(1px, 1px, 1px, 1px);height: 1px;margin: -1px;overflow: hidden;padding: 0;position: absolute;width: 1px;}#sk-container-id-1 div.sk-estimator {font-family: monospace;background-color: #f0f8ff;border: 1px dotted black;border-radius: 0.25em;box-sizing: border-box;margin-bottom: 0.5em;}#sk-container-id-1 div.sk-estimator:hover {background-color: #d4ebff;}#sk-container-id-1 div.sk-parallel-item::after {content: \"\";width: 100%;border-bottom: 1px solid gray;flex-grow: 1;}#sk-container-id-1 div.sk-label:hover label.sk-toggleable__label {background-color: #d4ebff;}#sk-container-id-1 div.sk-serial::before {content: \"\";position: absolute;border-left: 1px solid gray;box-sizing: border-box;top: 0;bottom: 0;left: 50%;z-index: 0;}#sk-container-id-1 div.sk-serial {display: flex;flex-direction: column;align-items: center;background-color: white;padding-right: 0.2em;padding-left: 0.2em;position: relative;}#sk-container-id-1 div.sk-item {position: relative;z-index: 1;}#sk-container-id-1 div.sk-parallel {display: flex;align-items: stretch;justify-content: center;background-color: white;position: relative;}#sk-container-id-1 div.sk-item::before, #sk-container-id-1 div.sk-parallel-item::before {content: \"\";position: absolute;border-left: 1px solid gray;box-sizing: border-box;top: 0;bottom: 0;left: 50%;z-index: -1;}#sk-container-id-1 div.sk-parallel-item {display: flex;flex-direction: column;z-index: 1;position: relative;background-color: white;}#sk-container-id-1 div.sk-parallel-item:first-child::after {align-self: flex-end;width: 50%;}#sk-container-id-1 div.sk-parallel-item:last-child::after {align-self: flex-start;width: 50%;}#sk-container-id-1 div.sk-parallel-item:only-child::after {width: 0;}#sk-container-id-1 div.sk-dashed-wrapped {border: 1px dashed gray;margin: 0 0.4em 0.5em 0.4em;box-sizing: border-box;padding-bottom: 0.4em;background-color: white;}#sk-container-id-1 div.sk-label label {font-family: monospace;font-weight: bold;display: inline-block;line-height: 1.2em;}#sk-container-id-1 div.sk-label-container {text-align: center;}#sk-container-id-1 div.sk-container {/* jupyter's `normalize.less` sets `[hidden] { display: none; }` but bootstrap.min.css set `[hidden] { display: none !important; }` so we also need the `!important` here to be able to override the default hidden behavior on the sphinx rendered scikit-learn.org. See: https://github.com/scikit-learn/scikit-learn/issues/21755 */display: inline-block !important;position: relative;}#sk-container-id-1 div.sk-text-repr-fallback {display: none;}</style><div id=\"sk-container-id-1\" class=\"sk-top-container\"><div class=\"sk-text-repr-fallback\"><pre>DecisionTreeClassifier()</pre><b>In a Jupyter environment, please rerun this cell to show the HTML representation or trust the notebook. <br />On GitHub, the HTML representation is unable to render, please try loading this page with nbviewer.org.</b></div><div class=\"sk-container\" hidden><div class=\"sk-item\"><div class=\"sk-estimator sk-toggleable\"><input class=\"sk-toggleable__control sk-hidden--visually\" id=\"sk-estimator-id-1\" type=\"checkbox\" checked><label for=\"sk-estimator-id-1\" class=\"sk-toggleable__label sk-toggleable__label-arrow\">DecisionTreeClassifier</label><div class=\"sk-toggleable__content\"><pre>DecisionTreeClassifier()</pre></div></div></div></div></div>"
      ],
      "text/plain": [
       "DecisionTreeClassifier()"
      ]
     },
     "execution_count": 26,
     "metadata": {},
     "output_type": "execute_result"
    }
   ],
   "source": [
    "clf = DecisionTreeClassifier()\n",
    "clf.fit(X_train, y_train)"
   ]
  },
  {
   "cell_type": "code",
   "execution_count": 27,
   "id": "9c50acc4",
   "metadata": {
    "execution": {
     "iopub.execute_input": "2023-03-08T11:46:31.055155Z",
     "iopub.status.busy": "2023-03-08T11:46:31.054831Z",
     "iopub.status.idle": "2023-03-08T11:46:31.092940Z",
     "shell.execute_reply": "2023-03-08T11:46:31.092116Z"
    },
    "papermill": {
     "duration": 0.07471,
     "end_time": "2023-03-08T11:46:31.095812",
     "exception": false,
     "start_time": "2023-03-08T11:46:31.021102",
     "status": "completed"
    },
    "tags": []
   },
   "outputs": [
    {
     "name": "stdout",
     "output_type": "stream",
     "text": [
      "                                           precision    recall  f1-score   support\n",
      "\n",
      "                    action_thriller_crime       0.38      0.40      0.39       306\n",
      "                                   comedy       0.41      0.42      0.42       404\n",
      "                                    drama       0.45      0.45      0.45       494\n",
      "horror_scifi_mystery_supernatural_fantasy       0.50      0.43      0.46       299\n",
      "\n",
      "                                 accuracy                           0.43      1503\n",
      "                                macro avg       0.43      0.43      0.43      1503\n",
      "                             weighted avg       0.43      0.43      0.43      1503\n",
      "\n"
     ]
    }
   ],
   "source": [
    "y_pred = clf.predict(X_test)\n",
    "print(classification_report(y_test, y_pred))"
   ]
  },
  {
   "cell_type": "code",
   "execution_count": 28,
   "id": "8866c3c3",
   "metadata": {
    "execution": {
     "iopub.execute_input": "2023-03-08T11:46:31.155109Z",
     "iopub.status.busy": "2023-03-08T11:46:31.154617Z",
     "iopub.status.idle": "2023-03-08T11:46:31.209931Z",
     "shell.execute_reply": "2023-03-08T11:46:31.208586Z"
    },
    "papermill": {
     "duration": 0.083402,
     "end_time": "2023-03-08T11:46:31.213253",
     "exception": false,
     "start_time": "2023-03-08T11:46:31.129851",
     "status": "completed"
    },
    "tags": []
   },
   "outputs": [],
   "source": [
    "acc = accuracy_score(y_test, y_pred)\n",
    "pre = precision_score(y_test, y_pred, average=avg_par)\n",
    "rec = recall_score(y_test, y_pred, average=avg_par)\n",
    "f1 = f1_score(y_test, y_pred, average=avg_par)\n",
    "\n",
    "metrics_data['Global']['DecisionTree'] = {'Accuracy': acc, 'Precision': pre, 'Recall': rec, 'F1': f1}"
   ]
  },
  {
   "cell_type": "markdown",
   "id": "28aa5a63",
   "metadata": {
    "papermill": {
     "duration": 0.030355,
     "end_time": "2023-03-08T11:46:31.274378",
     "exception": false,
     "start_time": "2023-03-08T11:46:31.244023",
     "status": "completed"
    },
    "tags": []
   },
   "source": [
    "**Random Forest**"
   ]
  },
  {
   "cell_type": "code",
   "execution_count": 29,
   "id": "0e5e2310",
   "metadata": {
    "execution": {
     "iopub.execute_input": "2023-03-08T11:46:31.303735Z",
     "iopub.status.busy": "2023-03-08T11:46:31.303268Z",
     "iopub.status.idle": "2023-03-08T11:46:39.295617Z",
     "shell.execute_reply": "2023-03-08T11:46:39.294730Z"
    },
    "papermill": {
     "duration": 8.008696,
     "end_time": "2023-03-08T11:46:39.298552",
     "exception": false,
     "start_time": "2023-03-08T11:46:31.289856",
     "status": "completed"
    },
    "tags": []
   },
   "outputs": [
    {
     "data": {
      "text/html": [
       "<style>#sk-container-id-2 {color: black;background-color: white;}#sk-container-id-2 pre{padding: 0;}#sk-container-id-2 div.sk-toggleable {background-color: white;}#sk-container-id-2 label.sk-toggleable__label {cursor: pointer;display: block;width: 100%;margin-bottom: 0;padding: 0.3em;box-sizing: border-box;text-align: center;}#sk-container-id-2 label.sk-toggleable__label-arrow:before {content: \"▸\";float: left;margin-right: 0.25em;color: #696969;}#sk-container-id-2 label.sk-toggleable__label-arrow:hover:before {color: black;}#sk-container-id-2 div.sk-estimator:hover label.sk-toggleable__label-arrow:before {color: black;}#sk-container-id-2 div.sk-toggleable__content {max-height: 0;max-width: 0;overflow: hidden;text-align: left;background-color: #f0f8ff;}#sk-container-id-2 div.sk-toggleable__content pre {margin: 0.2em;color: black;border-radius: 0.25em;background-color: #f0f8ff;}#sk-container-id-2 input.sk-toggleable__control:checked~div.sk-toggleable__content {max-height: 200px;max-width: 100%;overflow: auto;}#sk-container-id-2 input.sk-toggleable__control:checked~label.sk-toggleable__label-arrow:before {content: \"▾\";}#sk-container-id-2 div.sk-estimator input.sk-toggleable__control:checked~label.sk-toggleable__label {background-color: #d4ebff;}#sk-container-id-2 div.sk-label input.sk-toggleable__control:checked~label.sk-toggleable__label {background-color: #d4ebff;}#sk-container-id-2 input.sk-hidden--visually {border: 0;clip: rect(1px 1px 1px 1px);clip: rect(1px, 1px, 1px, 1px);height: 1px;margin: -1px;overflow: hidden;padding: 0;position: absolute;width: 1px;}#sk-container-id-2 div.sk-estimator {font-family: monospace;background-color: #f0f8ff;border: 1px dotted black;border-radius: 0.25em;box-sizing: border-box;margin-bottom: 0.5em;}#sk-container-id-2 div.sk-estimator:hover {background-color: #d4ebff;}#sk-container-id-2 div.sk-parallel-item::after {content: \"\";width: 100%;border-bottom: 1px solid gray;flex-grow: 1;}#sk-container-id-2 div.sk-label:hover label.sk-toggleable__label {background-color: #d4ebff;}#sk-container-id-2 div.sk-serial::before {content: \"\";position: absolute;border-left: 1px solid gray;box-sizing: border-box;top: 0;bottom: 0;left: 50%;z-index: 0;}#sk-container-id-2 div.sk-serial {display: flex;flex-direction: column;align-items: center;background-color: white;padding-right: 0.2em;padding-left: 0.2em;position: relative;}#sk-container-id-2 div.sk-item {position: relative;z-index: 1;}#sk-container-id-2 div.sk-parallel {display: flex;align-items: stretch;justify-content: center;background-color: white;position: relative;}#sk-container-id-2 div.sk-item::before, #sk-container-id-2 div.sk-parallel-item::before {content: \"\";position: absolute;border-left: 1px solid gray;box-sizing: border-box;top: 0;bottom: 0;left: 50%;z-index: -1;}#sk-container-id-2 div.sk-parallel-item {display: flex;flex-direction: column;z-index: 1;position: relative;background-color: white;}#sk-container-id-2 div.sk-parallel-item:first-child::after {align-self: flex-end;width: 50%;}#sk-container-id-2 div.sk-parallel-item:last-child::after {align-self: flex-start;width: 50%;}#sk-container-id-2 div.sk-parallel-item:only-child::after {width: 0;}#sk-container-id-2 div.sk-dashed-wrapped {border: 1px dashed gray;margin: 0 0.4em 0.5em 0.4em;box-sizing: border-box;padding-bottom: 0.4em;background-color: white;}#sk-container-id-2 div.sk-label label {font-family: monospace;font-weight: bold;display: inline-block;line-height: 1.2em;}#sk-container-id-2 div.sk-label-container {text-align: center;}#sk-container-id-2 div.sk-container {/* jupyter's `normalize.less` sets `[hidden] { display: none; }` but bootstrap.min.css set `[hidden] { display: none !important; }` so we also need the `!important` here to be able to override the default hidden behavior on the sphinx rendered scikit-learn.org. See: https://github.com/scikit-learn/scikit-learn/issues/21755 */display: inline-block !important;position: relative;}#sk-container-id-2 div.sk-text-repr-fallback {display: none;}</style><div id=\"sk-container-id-2\" class=\"sk-top-container\"><div class=\"sk-text-repr-fallback\"><pre>RandomForestClassifier(random_state=42)</pre><b>In a Jupyter environment, please rerun this cell to show the HTML representation or trust the notebook. <br />On GitHub, the HTML representation is unable to render, please try loading this page with nbviewer.org.</b></div><div class=\"sk-container\" hidden><div class=\"sk-item\"><div class=\"sk-estimator sk-toggleable\"><input class=\"sk-toggleable__control sk-hidden--visually\" id=\"sk-estimator-id-2\" type=\"checkbox\" checked><label for=\"sk-estimator-id-2\" class=\"sk-toggleable__label sk-toggleable__label-arrow\">RandomForestClassifier</label><div class=\"sk-toggleable__content\"><pre>RandomForestClassifier(random_state=42)</pre></div></div></div></div></div>"
      ],
      "text/plain": [
       "RandomForestClassifier(random_state=42)"
      ]
     },
     "execution_count": 29,
     "metadata": {},
     "output_type": "execute_result"
    }
   ],
   "source": [
    "clf = RandomForestClassifier(random_state=42)\n",
    "clf.fit(X_train, y_train)"
   ]
  },
  {
   "cell_type": "code",
   "execution_count": 30,
   "id": "4bd1304b",
   "metadata": {
    "execution": {
     "iopub.execute_input": "2023-03-08T11:46:39.373702Z",
     "iopub.status.busy": "2023-03-08T11:46:39.373180Z",
     "iopub.status.idle": "2023-03-08T11:46:39.451216Z",
     "shell.execute_reply": "2023-03-08T11:46:39.449933Z"
    },
    "papermill": {
     "duration": 0.120813,
     "end_time": "2023-03-08T11:46:39.454146",
     "exception": false,
     "start_time": "2023-03-08T11:46:39.333333",
     "status": "completed"
    },
    "tags": []
   },
   "outputs": [
    {
     "name": "stdout",
     "output_type": "stream",
     "text": [
      "                                           precision    recall  f1-score   support\n",
      "\n",
      "                    action_thriller_crime       0.58      0.54      0.56       306\n",
      "                                   comedy       0.55      0.57      0.56       404\n",
      "                                    drama       0.57      0.65      0.60       494\n",
      "horror_scifi_mystery_supernatural_fantasy       0.78      0.60      0.68       299\n",
      "\n",
      "                                 accuracy                           0.60      1503\n",
      "                                macro avg       0.62      0.59      0.60      1503\n",
      "                             weighted avg       0.61      0.60      0.60      1503\n",
      "\n"
     ]
    }
   ],
   "source": [
    "y_pred = clf.predict(X_test)\n",
    "print(classification_report(y_test, y_pred))"
   ]
  },
  {
   "cell_type": "code",
   "execution_count": 31,
   "id": "43174ba2",
   "metadata": {
    "execution": {
     "iopub.execute_input": "2023-03-08T11:46:39.521949Z",
     "iopub.status.busy": "2023-03-08T11:46:39.520985Z",
     "iopub.status.idle": "2023-03-08T11:46:39.593759Z",
     "shell.execute_reply": "2023-03-08T11:46:39.592801Z"
    },
    "papermill": {
     "duration": 0.108978,
     "end_time": "2023-03-08T11:46:39.596478",
     "exception": false,
     "start_time": "2023-03-08T11:46:39.487500",
     "status": "completed"
    },
    "tags": []
   },
   "outputs": [],
   "source": [
    "acc = accuracy_score(y_test, y_pred)\n",
    "pre = precision_score(y_test, y_pred, average=avg_par)\n",
    "rec = recall_score(y_test, y_pred, average=avg_par)\n",
    "f1 = f1_score(y_test, y_pred, average=avg_par)\n",
    "\n",
    "metrics_data['Global']['RandomForest'] = {'Accuracy': acc, 'Precision': pre, 'Recall': rec, 'F1': f1}"
   ]
  },
  {
   "cell_type": "markdown",
   "id": "22c98ac5",
   "metadata": {
    "papermill": {
     "duration": 0.034487,
     "end_time": "2023-03-08T11:46:39.666476",
     "exception": false,
     "start_time": "2023-03-08T11:46:39.631989",
     "status": "completed"
    },
    "tags": []
   },
   "source": [
    "**LightGBM**"
   ]
  },
  {
   "cell_type": "code",
   "execution_count": 32,
   "id": "c93b818c",
   "metadata": {
    "execution": {
     "iopub.execute_input": "2023-03-08T11:46:39.694446Z",
     "iopub.status.busy": "2023-03-08T11:46:39.693971Z",
     "iopub.status.idle": "2023-03-08T11:46:49.462275Z",
     "shell.execute_reply": "2023-03-08T11:46:49.461650Z"
    },
    "papermill": {
     "duration": 9.784249,
     "end_time": "2023-03-08T11:46:49.464271",
     "exception": false,
     "start_time": "2023-03-08T11:46:39.680022",
     "status": "completed"
    },
    "tags": []
   },
   "outputs": [
    {
     "data": {
      "text/html": [
       "<style>#sk-container-id-3 {color: black;background-color: white;}#sk-container-id-3 pre{padding: 0;}#sk-container-id-3 div.sk-toggleable {background-color: white;}#sk-container-id-3 label.sk-toggleable__label {cursor: pointer;display: block;width: 100%;margin-bottom: 0;padding: 0.3em;box-sizing: border-box;text-align: center;}#sk-container-id-3 label.sk-toggleable__label-arrow:before {content: \"▸\";float: left;margin-right: 0.25em;color: #696969;}#sk-container-id-3 label.sk-toggleable__label-arrow:hover:before {color: black;}#sk-container-id-3 div.sk-estimator:hover label.sk-toggleable__label-arrow:before {color: black;}#sk-container-id-3 div.sk-toggleable__content {max-height: 0;max-width: 0;overflow: hidden;text-align: left;background-color: #f0f8ff;}#sk-container-id-3 div.sk-toggleable__content pre {margin: 0.2em;color: black;border-radius: 0.25em;background-color: #f0f8ff;}#sk-container-id-3 input.sk-toggleable__control:checked~div.sk-toggleable__content {max-height: 200px;max-width: 100%;overflow: auto;}#sk-container-id-3 input.sk-toggleable__control:checked~label.sk-toggleable__label-arrow:before {content: \"▾\";}#sk-container-id-3 div.sk-estimator input.sk-toggleable__control:checked~label.sk-toggleable__label {background-color: #d4ebff;}#sk-container-id-3 div.sk-label input.sk-toggleable__control:checked~label.sk-toggleable__label {background-color: #d4ebff;}#sk-container-id-3 input.sk-hidden--visually {border: 0;clip: rect(1px 1px 1px 1px);clip: rect(1px, 1px, 1px, 1px);height: 1px;margin: -1px;overflow: hidden;padding: 0;position: absolute;width: 1px;}#sk-container-id-3 div.sk-estimator {font-family: monospace;background-color: #f0f8ff;border: 1px dotted black;border-radius: 0.25em;box-sizing: border-box;margin-bottom: 0.5em;}#sk-container-id-3 div.sk-estimator:hover {background-color: #d4ebff;}#sk-container-id-3 div.sk-parallel-item::after {content: \"\";width: 100%;border-bottom: 1px solid gray;flex-grow: 1;}#sk-container-id-3 div.sk-label:hover label.sk-toggleable__label {background-color: #d4ebff;}#sk-container-id-3 div.sk-serial::before {content: \"\";position: absolute;border-left: 1px solid gray;box-sizing: border-box;top: 0;bottom: 0;left: 50%;z-index: 0;}#sk-container-id-3 div.sk-serial {display: flex;flex-direction: column;align-items: center;background-color: white;padding-right: 0.2em;padding-left: 0.2em;position: relative;}#sk-container-id-3 div.sk-item {position: relative;z-index: 1;}#sk-container-id-3 div.sk-parallel {display: flex;align-items: stretch;justify-content: center;background-color: white;position: relative;}#sk-container-id-3 div.sk-item::before, #sk-container-id-3 div.sk-parallel-item::before {content: \"\";position: absolute;border-left: 1px solid gray;box-sizing: border-box;top: 0;bottom: 0;left: 50%;z-index: -1;}#sk-container-id-3 div.sk-parallel-item {display: flex;flex-direction: column;z-index: 1;position: relative;background-color: white;}#sk-container-id-3 div.sk-parallel-item:first-child::after {align-self: flex-end;width: 50%;}#sk-container-id-3 div.sk-parallel-item:last-child::after {align-self: flex-start;width: 50%;}#sk-container-id-3 div.sk-parallel-item:only-child::after {width: 0;}#sk-container-id-3 div.sk-dashed-wrapped {border: 1px dashed gray;margin: 0 0.4em 0.5em 0.4em;box-sizing: border-box;padding-bottom: 0.4em;background-color: white;}#sk-container-id-3 div.sk-label label {font-family: monospace;font-weight: bold;display: inline-block;line-height: 1.2em;}#sk-container-id-3 div.sk-label-container {text-align: center;}#sk-container-id-3 div.sk-container {/* jupyter's `normalize.less` sets `[hidden] { display: none; }` but bootstrap.min.css set `[hidden] { display: none !important; }` so we also need the `!important` here to be able to override the default hidden behavior on the sphinx rendered scikit-learn.org. See: https://github.com/scikit-learn/scikit-learn/issues/21755 */display: inline-block !important;position: relative;}#sk-container-id-3 div.sk-text-repr-fallback {display: none;}</style><div id=\"sk-container-id-3\" class=\"sk-top-container\"><div class=\"sk-text-repr-fallback\"><pre>LGBMClassifier(objective=&#x27;multiclass&#x27;)</pre><b>In a Jupyter environment, please rerun this cell to show the HTML representation or trust the notebook. <br />On GitHub, the HTML representation is unable to render, please try loading this page with nbviewer.org.</b></div><div class=\"sk-container\" hidden><div class=\"sk-item\"><div class=\"sk-estimator sk-toggleable\"><input class=\"sk-toggleable__control sk-hidden--visually\" id=\"sk-estimator-id-3\" type=\"checkbox\" checked><label for=\"sk-estimator-id-3\" class=\"sk-toggleable__label sk-toggleable__label-arrow\">LGBMClassifier</label><div class=\"sk-toggleable__content\"><pre>LGBMClassifier(objective=&#x27;multiclass&#x27;)</pre></div></div></div></div></div>"
      ],
      "text/plain": [
       "LGBMClassifier(objective='multiclass')"
      ]
     },
     "execution_count": 32,
     "metadata": {},
     "output_type": "execute_result"
    }
   ],
   "source": [
    "clf = lgbm.LGBMClassifier(objective=obj_par) \n",
    "clf.fit(X_train, y_train)"
   ]
  },
  {
   "cell_type": "code",
   "execution_count": 33,
   "id": "600a663a",
   "metadata": {
    "execution": {
     "iopub.execute_input": "2023-03-08T11:46:49.491659Z",
     "iopub.status.busy": "2023-03-08T11:46:49.491286Z",
     "iopub.status.idle": "2023-03-08T11:46:49.547705Z",
     "shell.execute_reply": "2023-03-08T11:46:49.546836Z"
    },
    "papermill": {
     "duration": 0.072109,
     "end_time": "2023-03-08T11:46:49.549613",
     "exception": false,
     "start_time": "2023-03-08T11:46:49.477504",
     "status": "completed"
    },
    "tags": []
   },
   "outputs": [
    {
     "name": "stdout",
     "output_type": "stream",
     "text": [
      "                                           precision    recall  f1-score   support\n",
      "\n",
      "                    action_thriller_crime       0.58      0.60      0.59       306\n",
      "                                   comedy       0.62      0.64      0.63       404\n",
      "                                    drama       0.63      0.66      0.64       494\n",
      "horror_scifi_mystery_supernatural_fantasy       0.77      0.65      0.70       299\n",
      "\n",
      "                                 accuracy                           0.64      1503\n",
      "                                macro avg       0.65      0.64      0.64      1503\n",
      "                             weighted avg       0.65      0.64      0.64      1503\n",
      "\n"
     ]
    }
   ],
   "source": [
    "y_pred = clf.predict(X_test)\n",
    "print(classification_report(y_test, y_pred))"
   ]
  },
  {
   "cell_type": "code",
   "execution_count": 34,
   "id": "508d831d",
   "metadata": {
    "execution": {
     "iopub.execute_input": "2023-03-08T11:46:49.579482Z",
     "iopub.status.busy": "2023-03-08T11:46:49.578583Z",
     "iopub.status.idle": "2023-03-08T11:46:49.633701Z",
     "shell.execute_reply": "2023-03-08T11:46:49.633087Z"
    },
    "papermill": {
     "duration": 0.07185,
     "end_time": "2023-03-08T11:46:49.636406",
     "exception": false,
     "start_time": "2023-03-08T11:46:49.564556",
     "status": "completed"
    },
    "tags": []
   },
   "outputs": [],
   "source": [
    "acc = accuracy_score(y_test, y_pred)\n",
    "pre = precision_score(y_test, y_pred, average=avg_par)\n",
    "rec = recall_score(y_test, y_pred, average=avg_par)\n",
    "f1 = f1_score(y_test, y_pred, average=avg_par)\n",
    "\n",
    "metrics_data['Global']['LightGBM'] = {'Accuracy': acc, 'Precision': pre, 'Recall': rec, 'F1': f1}"
   ]
  },
  {
   "cell_type": "markdown",
   "id": "14b86894",
   "metadata": {
    "papermill": {
     "duration": 0.032119,
     "end_time": "2023-03-08T11:46:49.703539",
     "exception": false,
     "start_time": "2023-03-08T11:46:49.671420",
     "status": "completed"
    },
    "tags": []
   },
   "source": [
    "### Time Series Classification"
   ]
  },
  {
   "cell_type": "markdown",
   "id": "84c55533",
   "metadata": {
    "papermill": {
     "duration": 0.012507,
     "end_time": "2023-03-08T11:46:49.728971",
     "exception": false,
     "start_time": "2023-03-08T11:46:49.716464",
     "status": "completed"
    },
    "tags": []
   },
   "source": [
    "#### Learning Shapelets"
   ]
  },
  {
   "cell_type": "code",
   "execution_count": 35,
   "id": "488d8eb7",
   "metadata": {
    "execution": {
     "iopub.execute_input": "2023-03-08T11:46:49.755793Z",
     "iopub.status.busy": "2023-03-08T11:46:49.755321Z",
     "iopub.status.idle": "2023-03-08T11:46:51.266639Z",
     "shell.execute_reply": "2023-03-08T11:46:51.265708Z"
    },
    "papermill": {
     "duration": 1.528511,
     "end_time": "2023-03-08T11:46:51.270007",
     "exception": false,
     "start_time": "2023-03-08T11:46:49.741496",
     "status": "completed"
    },
    "tags": []
   },
   "outputs": [
    {
     "name": "stderr",
     "output_type": "stream",
     "text": [
      "2023-03-08 12:46:49.762612: I tensorflow/core/platform/cpu_feature_guard.cc:193] This TensorFlow binary is optimized with oneAPI Deep Neural Network Library (oneDNN) to use the following CPU instructions in performance-critical operations:  AVX2 FMA\n",
      "To enable them in other operations, rebuild TensorFlow with the appropriate compiler flags.\n",
      "2023-03-08 12:46:49.924043: W tensorflow/compiler/xla/stream_executor/platform/default/dso_loader.cc:64] Could not load dynamic library 'libcudart.so.11.0'; dlerror: libcudart.so.11.0: cannot open shared object file: No such file or directory\n",
      "2023-03-08 12:46:49.924065: I tensorflow/compiler/xla/stream_executor/cuda/cudart_stub.cc:29] Ignore above cudart dlerror if you do not have a GPU set up on your machine.\n"
     ]
    },
    {
     "name": "stderr",
     "output_type": "stream",
     "text": [
      "2023-03-08 12:46:50.532564: W tensorflow/compiler/xla/stream_executor/platform/default/dso_loader.cc:64] Could not load dynamic library 'libnvinfer.so.7'; dlerror: libnvinfer.so.7: cannot open shared object file: No such file or directory\n",
      "2023-03-08 12:46:50.532637: W tensorflow/compiler/xla/stream_executor/platform/default/dso_loader.cc:64] Could not load dynamic library 'libnvinfer_plugin.so.7'; dlerror: libnvinfer_plugin.so.7: cannot open shared object file: No such file or directory\n",
      "2023-03-08 12:46:50.532646: W tensorflow/compiler/tf2tensorrt/utils/py_utils.cc:38] TF-TRT Warning: Cannot dlopen some TensorRT libraries. If you would like to use Nvidia GPU with TensorRT, please make sure the missing libraries mentioned above are installed properly.\n"
     ]
    }
   ],
   "source": [
    "from tslearn.shapelets import LearningShapelets, grabocka_params_to_shapelet_size_dict"
   ]
  },
  {
   "cell_type": "code",
   "execution_count": 36,
   "id": "eb677959",
   "metadata": {
    "execution": {
     "iopub.execute_input": "2023-03-08T11:46:51.345438Z",
     "iopub.status.busy": "2023-03-08T11:46:51.344948Z",
     "iopub.status.idle": "2023-03-08T11:46:51.350743Z",
     "shell.execute_reply": "2023-03-08T11:46:51.349493Z"
    },
    "papermill": {
     "duration": 0.048469,
     "end_time": "2023-03-08T11:46:51.354496",
     "exception": false,
     "start_time": "2023-03-08T11:46:51.306027",
     "status": "completed"
    },
    "tags": []
   },
   "outputs": [],
   "source": [
    "n_ts, ts_sz, _ = ts_train.shape\n",
    "n_classes = len(set(y_train))"
   ]
  },
  {
   "cell_type": "code",
   "execution_count": 37,
   "id": "776ed3dd",
   "metadata": {
    "execution": {
     "iopub.execute_input": "2023-03-08T11:46:51.390115Z",
     "iopub.status.busy": "2023-03-08T11:46:51.389659Z",
     "iopub.status.idle": "2023-03-08T11:46:51.397719Z",
     "shell.execute_reply": "2023-03-08T11:46:51.396686Z"
    },
    "papermill": {
     "duration": 0.024057,
     "end_time": "2023-03-08T11:46:51.399602",
     "exception": false,
     "start_time": "2023-03-08T11:46:51.375545",
     "status": "completed"
    },
    "tags": []
   },
   "outputs": [
    {
     "name": "stdout",
     "output_type": "stream",
     "text": [
      "n_ts 6009\n",
      "ts_sz 100\n",
      "n_classes 4\n",
      "shapelet_sizes {10: 6}\n"
     ]
    }
   ],
   "source": [
    "# Set the number of shapelets per size as done in the original paper\n",
    "g_shapelet_sizes = grabocka_params_to_shapelet_size_dict(n_ts=n_ts,\n",
    "                                                         ts_sz=ts_sz,\n",
    "                                                         n_classes=n_classes,\n",
    "                                                         l=0.1,\n",
    "                                                         r=1)\n",
    "\n",
    "print('n_ts', n_ts)\n",
    "print('ts_sz', ts_sz)\n",
    "print('n_classes', n_classes)\n",
    "print('shapelet_sizes', g_shapelet_sizes)"
   ]
  },
  {
   "cell_type": "code",
   "execution_count": 38,
   "id": "90ed707e",
   "metadata": {
    "execution": {
     "iopub.execute_input": "2023-03-08T11:46:51.427324Z",
     "iopub.status.busy": "2023-03-08T11:46:51.426831Z",
     "iopub.status.idle": "2023-03-08T11:46:51.436564Z",
     "shell.execute_reply": "2023-03-08T11:46:51.435300Z"
    },
    "papermill": {
     "duration": 0.025725,
     "end_time": "2023-03-08T11:46:51.438386",
     "exception": false,
     "start_time": "2023-03-08T11:46:51.412661",
     "status": "completed"
    },
    "tags": []
   },
   "outputs": [
    {
     "data": {
      "text/plain": [
       "{10: 6, 20: 6, 5: 6}"
      ]
     },
     "execution_count": 38,
     "metadata": {},
     "output_type": "execute_result"
    }
   ],
   "source": [
    "shapelet_sizes = {}\n",
    "for key in g_shapelet_sizes:\n",
    "    shapelet_sizes[key] = g_shapelet_sizes[key]\n",
    "    shapelet_sizes[key*2] = g_shapelet_sizes[key]\n",
    "    shapelet_sizes[key//2] = g_shapelet_sizes[key]\n",
    "shapelet_sizes"
   ]
  },
  {
   "cell_type": "code",
   "execution_count": 39,
   "id": "3507fb9c",
   "metadata": {
    "execution": {
     "iopub.execute_input": "2023-03-08T11:46:51.467059Z",
     "iopub.status.busy": "2023-03-08T11:46:51.466633Z",
     "iopub.status.idle": "2023-03-08T11:46:51.472851Z",
     "shell.execute_reply": "2023-03-08T11:46:51.472171Z"
    },
    "papermill": {
     "duration": 0.022136,
     "end_time": "2023-03-08T11:46:51.474333",
     "exception": false,
     "start_time": "2023-03-08T11:46:51.452197",
     "status": "completed"
    },
    "tags": []
   },
   "outputs": [
    {
     "name": "stderr",
     "output_type": "stream",
     "text": [
      "/home/mattiapggioli/lyrics2ts/.venv/lib/python3.9/site-packages/tslearn/shapelets/shapelets.py:354: FutureWarning: The default value for 'scale' is set to False in version 0.4 to ensure backward compatibility, but is likely to change in a future version.\n",
      "  warnings.warn(\"The default value for 'scale' is set to False \"\n"
     ]
    }
   ],
   "source": [
    "model = LearningShapelets(n_shapelets_per_size=shapelet_sizes,\n",
    "                          optimizer=\"adam\", \n",
    "                          weight_regularizer=.01, \n",
    "                          max_iter=max_iter, verbose=0, random_state=42)"
   ]
  },
  {
   "cell_type": "code",
   "execution_count": 40,
   "id": "73b1fe2e",
   "metadata": {
    "execution": {
     "iopub.execute_input": "2023-03-08T11:46:51.501683Z",
     "iopub.status.busy": "2023-03-08T11:46:51.501211Z",
     "iopub.status.idle": "2023-03-08T11:55:23.445748Z",
     "shell.execute_reply": "2023-03-08T11:55:23.444920Z"
    },
    "papermill": {
     "duration": 511.9776,
     "end_time": "2023-03-08T11:55:23.464756",
     "exception": false,
     "start_time": "2023-03-08T11:46:51.487156",
     "status": "completed"
    },
    "tags": []
   },
   "outputs": [
    {
     "name": "stderr",
     "output_type": "stream",
     "text": [
      "2023-03-08 12:46:51.728304: W tensorflow/compiler/xla/stream_executor/platform/default/dso_loader.cc:64] Could not load dynamic library 'libcuda.so.1'; dlerror: libcuda.so.1: cannot open shared object file: No such file or directory\n",
      "2023-03-08 12:46:51.728329: W tensorflow/compiler/xla/stream_executor/cuda/cuda_driver.cc:265] failed call to cuInit: UNKNOWN ERROR (303)\n",
      "2023-03-08 12:46:51.728351: I tensorflow/compiler/xla/stream_executor/cuda/cuda_diagnostics.cc:156] kernel driver does not appear to be running on this host (mattiapggioli-ThinkPad-E595): /proc/driver/nvidia/version does not exist\n",
      "2023-03-08 12:46:51.728561: I tensorflow/core/platform/cpu_feature_guard.cc:193] This TensorFlow binary is optimized with oneAPI Deep Neural Network Library (oneDNN) to use the following CPU instructions in performance-critical operations:  AVX2 FMA\n",
      "To enable them in other operations, rebuild TensorFlow with the appropriate compiler flags.\n"
     ]
    },
    {
     "name": "stdout",
     "output_type": "stream",
     "text": [
      "CPU times: user 46min 27s, sys: 2min 36s, total: 49min 4s\n",
      "Wall time: 8min 31s\n"
     ]
    },
    {
     "data": {
      "text/html": [
       "<style>#sk-container-id-4 {color: black;background-color: white;}#sk-container-id-4 pre{padding: 0;}#sk-container-id-4 div.sk-toggleable {background-color: white;}#sk-container-id-4 label.sk-toggleable__label {cursor: pointer;display: block;width: 100%;margin-bottom: 0;padding: 0.3em;box-sizing: border-box;text-align: center;}#sk-container-id-4 label.sk-toggleable__label-arrow:before {content: \"▸\";float: left;margin-right: 0.25em;color: #696969;}#sk-container-id-4 label.sk-toggleable__label-arrow:hover:before {color: black;}#sk-container-id-4 div.sk-estimator:hover label.sk-toggleable__label-arrow:before {color: black;}#sk-container-id-4 div.sk-toggleable__content {max-height: 0;max-width: 0;overflow: hidden;text-align: left;background-color: #f0f8ff;}#sk-container-id-4 div.sk-toggleable__content pre {margin: 0.2em;color: black;border-radius: 0.25em;background-color: #f0f8ff;}#sk-container-id-4 input.sk-toggleable__control:checked~div.sk-toggleable__content {max-height: 200px;max-width: 100%;overflow: auto;}#sk-container-id-4 input.sk-toggleable__control:checked~label.sk-toggleable__label-arrow:before {content: \"▾\";}#sk-container-id-4 div.sk-estimator input.sk-toggleable__control:checked~label.sk-toggleable__label {background-color: #d4ebff;}#sk-container-id-4 div.sk-label input.sk-toggleable__control:checked~label.sk-toggleable__label {background-color: #d4ebff;}#sk-container-id-4 input.sk-hidden--visually {border: 0;clip: rect(1px 1px 1px 1px);clip: rect(1px, 1px, 1px, 1px);height: 1px;margin: -1px;overflow: hidden;padding: 0;position: absolute;width: 1px;}#sk-container-id-4 div.sk-estimator {font-family: monospace;background-color: #f0f8ff;border: 1px dotted black;border-radius: 0.25em;box-sizing: border-box;margin-bottom: 0.5em;}#sk-container-id-4 div.sk-estimator:hover {background-color: #d4ebff;}#sk-container-id-4 div.sk-parallel-item::after {content: \"\";width: 100%;border-bottom: 1px solid gray;flex-grow: 1;}#sk-container-id-4 div.sk-label:hover label.sk-toggleable__label {background-color: #d4ebff;}#sk-container-id-4 div.sk-serial::before {content: \"\";position: absolute;border-left: 1px solid gray;box-sizing: border-box;top: 0;bottom: 0;left: 50%;z-index: 0;}#sk-container-id-4 div.sk-serial {display: flex;flex-direction: column;align-items: center;background-color: white;padding-right: 0.2em;padding-left: 0.2em;position: relative;}#sk-container-id-4 div.sk-item {position: relative;z-index: 1;}#sk-container-id-4 div.sk-parallel {display: flex;align-items: stretch;justify-content: center;background-color: white;position: relative;}#sk-container-id-4 div.sk-item::before, #sk-container-id-4 div.sk-parallel-item::before {content: \"\";position: absolute;border-left: 1px solid gray;box-sizing: border-box;top: 0;bottom: 0;left: 50%;z-index: -1;}#sk-container-id-4 div.sk-parallel-item {display: flex;flex-direction: column;z-index: 1;position: relative;background-color: white;}#sk-container-id-4 div.sk-parallel-item:first-child::after {align-self: flex-end;width: 50%;}#sk-container-id-4 div.sk-parallel-item:last-child::after {align-self: flex-start;width: 50%;}#sk-container-id-4 div.sk-parallel-item:only-child::after {width: 0;}#sk-container-id-4 div.sk-dashed-wrapped {border: 1px dashed gray;margin: 0 0.4em 0.5em 0.4em;box-sizing: border-box;padding-bottom: 0.4em;background-color: white;}#sk-container-id-4 div.sk-label label {font-family: monospace;font-weight: bold;display: inline-block;line-height: 1.2em;}#sk-container-id-4 div.sk-label-container {text-align: center;}#sk-container-id-4 div.sk-container {/* jupyter's `normalize.less` sets `[hidden] { display: none; }` but bootstrap.min.css set `[hidden] { display: none !important; }` so we also need the `!important` here to be able to override the default hidden behavior on the sphinx rendered scikit-learn.org. See: https://github.com/scikit-learn/scikit-learn/issues/21755 */display: inline-block !important;position: relative;}#sk-container-id-4 div.sk-text-repr-fallback {display: none;}</style><div id=\"sk-container-id-4\" class=\"sk-top-container\"><div class=\"sk-text-repr-fallback\"><pre>LearningShapelets(max_iter=2000, n_shapelets_per_size={5: 6, 10: 6, 20: 6},\n",
       "                  optimizer=&#x27;adam&#x27;, random_state=42, weight_regularizer=0.01)</pre><b>In a Jupyter environment, please rerun this cell to show the HTML representation or trust the notebook. <br />On GitHub, the HTML representation is unable to render, please try loading this page with nbviewer.org.</b></div><div class=\"sk-container\" hidden><div class=\"sk-item\"><div class=\"sk-estimator sk-toggleable\"><input class=\"sk-toggleable__control sk-hidden--visually\" id=\"sk-estimator-id-4\" type=\"checkbox\" checked><label for=\"sk-estimator-id-4\" class=\"sk-toggleable__label sk-toggleable__label-arrow\">LearningShapelets</label><div class=\"sk-toggleable__content\"><pre>LearningShapelets(max_iter=2000, n_shapelets_per_size={5: 6, 10: 6, 20: 6},\n",
       "                  optimizer=&#x27;adam&#x27;, random_state=42, weight_regularizer=0.01)</pre></div></div></div></div></div>"
      ],
      "text/plain": [
       "LearningShapelets(max_iter=2000, n_shapelets_per_size={5: 6, 10: 6, 20: 6},\n",
       "                  optimizer='adam', random_state=42, weight_regularizer=0.01)"
      ]
     },
     "execution_count": 40,
     "metadata": {},
     "output_type": "execute_result"
    }
   ],
   "source": [
    "%%time\n",
    "model.fit(ts_train, y_train)"
   ]
  },
  {
   "cell_type": "code",
   "execution_count": 41,
   "id": "51706baa",
   "metadata": {
    "execution": {
     "iopub.execute_input": "2023-03-08T11:55:23.495816Z",
     "iopub.status.busy": "2023-03-08T11:55:23.495148Z",
     "iopub.status.idle": "2023-03-08T11:55:23.527088Z",
     "shell.execute_reply": "2023-03-08T11:55:23.525497Z"
    },
    "papermill": {
     "duration": 0.050899,
     "end_time": "2023-03-08T11:55:23.530799",
     "exception": false,
     "start_time": "2023-03-08T11:55:23.479900",
     "status": "completed"
    },
    "tags": []
   },
   "outputs": [],
   "source": [
    "model.to_pickle(f'{data_path}/shapelets.pkl')"
   ]
  },
  {
   "cell_type": "markdown",
   "id": "309f70dc",
   "metadata": {
    "papermill": {
     "duration": 0.023624,
     "end_time": "2023-03-08T11:55:23.590976",
     "exception": false,
     "start_time": "2023-03-08T11:55:23.567352",
     "status": "completed"
    },
    "tags": []
   },
   "source": [
    "#### Shapelet-Based Classification"
   ]
  },
  {
   "cell_type": "code",
   "execution_count": 42,
   "id": "60125dff",
   "metadata": {
    "execution": {
     "iopub.execute_input": "2023-03-08T11:55:23.619476Z",
     "iopub.status.busy": "2023-03-08T11:55:23.618954Z",
     "iopub.status.idle": "2023-03-08T11:55:23.625322Z",
     "shell.execute_reply": "2023-03-08T11:55:23.623920Z"
    },
    "papermill": {
     "duration": 0.022899,
     "end_time": "2023-03-08T11:55:23.627076",
     "exception": false,
     "start_time": "2023-03-08T11:55:23.604177",
     "status": "completed"
    },
    "tags": []
   },
   "outputs": [],
   "source": [
    "metrics_data['Shapelets'] = {}"
   ]
  },
  {
   "cell_type": "code",
   "execution_count": 43,
   "id": "efb8984d",
   "metadata": {
    "execution": {
     "iopub.execute_input": "2023-03-08T11:55:23.654788Z",
     "iopub.status.busy": "2023-03-08T11:55:23.654491Z",
     "iopub.status.idle": "2023-03-08T11:55:24.444494Z",
     "shell.execute_reply": "2023-03-08T11:55:24.443465Z"
    },
    "papermill": {
     "duration": 0.807965,
     "end_time": "2023-03-08T11:55:24.448065",
     "exception": false,
     "start_time": "2023-03-08T11:55:23.640100",
     "status": "completed"
    },
    "tags": []
   },
   "outputs": [],
   "source": [
    "X_train = model.transform(ts_train)\n",
    "X_test = model.transform(ts_test)"
   ]
  },
  {
   "cell_type": "code",
   "execution_count": 44,
   "id": "2e6c0f22",
   "metadata": {
    "execution": {
     "iopub.execute_input": "2023-03-08T11:55:24.519732Z",
     "iopub.status.busy": "2023-03-08T11:55:24.518872Z",
     "iopub.status.idle": "2023-03-08T11:55:24.564700Z",
     "shell.execute_reply": "2023-03-08T11:55:24.563390Z"
    },
    "papermill": {
     "duration": 0.086414,
     "end_time": "2023-03-08T11:55:24.566774",
     "exception": false,
     "start_time": "2023-03-08T11:55:24.480360",
     "status": "completed"
    },
    "tags": []
   },
   "outputs": [
    {
     "data": {
      "text/html": [
       "<div>\n",
       "<style scoped>\n",
       "    .dataframe tbody tr th:only-of-type {\n",
       "        vertical-align: middle;\n",
       "    }\n",
       "\n",
       "    .dataframe tbody tr th {\n",
       "        vertical-align: top;\n",
       "    }\n",
       "\n",
       "    .dataframe thead th {\n",
       "        text-align: right;\n",
       "    }\n",
       "</style>\n",
       "<table border=\"1\" class=\"dataframe\">\n",
       "  <thead>\n",
       "    <tr style=\"text-align: right;\">\n",
       "      <th></th>\n",
       "      <th>0</th>\n",
       "      <th>1</th>\n",
       "      <th>2</th>\n",
       "      <th>3</th>\n",
       "      <th>4</th>\n",
       "      <th>5</th>\n",
       "      <th>6</th>\n",
       "      <th>7</th>\n",
       "      <th>8</th>\n",
       "      <th>9</th>\n",
       "      <th>10</th>\n",
       "      <th>11</th>\n",
       "      <th>12</th>\n",
       "      <th>13</th>\n",
       "      <th>14</th>\n",
       "      <th>15</th>\n",
       "      <th>16</th>\n",
       "      <th>17</th>\n",
       "    </tr>\n",
       "  </thead>\n",
       "  <tbody>\n",
       "    <tr>\n",
       "      <th>0</th>\n",
       "      <td>0.667972</td>\n",
       "      <td>2.907948</td>\n",
       "      <td>1.204773</td>\n",
       "      <td>1.247552</td>\n",
       "      <td>0.278642</td>\n",
       "      <td>0.281027</td>\n",
       "      <td>0.889776</td>\n",
       "      <td>4.597806</td>\n",
       "      <td>0.622860</td>\n",
       "      <td>2.036356</td>\n",
       "      <td>0.998377</td>\n",
       "      <td>1.443585</td>\n",
       "      <td>0.481841</td>\n",
       "      <td>4.343771</td>\n",
       "      <td>2.377831</td>\n",
       "      <td>0.496207</td>\n",
       "      <td>6.361366</td>\n",
       "      <td>0.513700</td>\n",
       "    </tr>\n",
       "    <tr>\n",
       "      <th>1</th>\n",
       "      <td>0.082725</td>\n",
       "      <td>3.175041</td>\n",
       "      <td>0.253350</td>\n",
       "      <td>0.813937</td>\n",
       "      <td>0.754757</td>\n",
       "      <td>0.437669</td>\n",
       "      <td>0.185934</td>\n",
       "      <td>2.669911</td>\n",
       "      <td>1.560305</td>\n",
       "      <td>1.679029</td>\n",
       "      <td>0.314262</td>\n",
       "      <td>1.639276</td>\n",
       "      <td>0.084969</td>\n",
       "      <td>3.450850</td>\n",
       "      <td>1.243006</td>\n",
       "      <td>1.452210</td>\n",
       "      <td>4.721330</td>\n",
       "      <td>0.548988</td>\n",
       "    </tr>\n",
       "    <tr>\n",
       "      <th>2</th>\n",
       "      <td>0.040074</td>\n",
       "      <td>2.504503</td>\n",
       "      <td>0.096721</td>\n",
       "      <td>0.456415</td>\n",
       "      <td>2.591407</td>\n",
       "      <td>0.822004</td>\n",
       "      <td>0.317070</td>\n",
       "      <td>1.583973</td>\n",
       "      <td>1.736903</td>\n",
       "      <td>0.858099</td>\n",
       "      <td>0.311441</td>\n",
       "      <td>1.526323</td>\n",
       "      <td>0.377998</td>\n",
       "      <td>2.545898</td>\n",
       "      <td>1.392627</td>\n",
       "      <td>2.458731</td>\n",
       "      <td>3.286472</td>\n",
       "      <td>1.069934</td>\n",
       "    </tr>\n",
       "    <tr>\n",
       "      <th>3</th>\n",
       "      <td>0.053171</td>\n",
       "      <td>2.176827</td>\n",
       "      <td>0.155368</td>\n",
       "      <td>0.048297</td>\n",
       "      <td>1.606949</td>\n",
       "      <td>0.623013</td>\n",
       "      <td>0.244080</td>\n",
       "      <td>1.374261</td>\n",
       "      <td>1.692135</td>\n",
       "      <td>1.445397</td>\n",
       "      <td>0.760631</td>\n",
       "      <td>2.140162</td>\n",
       "      <td>0.421141</td>\n",
       "      <td>2.843509</td>\n",
       "      <td>0.760320</td>\n",
       "      <td>2.533268</td>\n",
       "      <td>3.622765</td>\n",
       "      <td>1.093028</td>\n",
       "    </tr>\n",
       "    <tr>\n",
       "      <th>4</th>\n",
       "      <td>0.054345</td>\n",
       "      <td>2.763091</td>\n",
       "      <td>0.213224</td>\n",
       "      <td>0.697054</td>\n",
       "      <td>1.008706</td>\n",
       "      <td>0.454565</td>\n",
       "      <td>0.109683</td>\n",
       "      <td>2.563638</td>\n",
       "      <td>1.525414</td>\n",
       "      <td>1.188755</td>\n",
       "      <td>0.654955</td>\n",
       "      <td>2.106831</td>\n",
       "      <td>0.106669</td>\n",
       "      <td>2.609371</td>\n",
       "      <td>1.409451</td>\n",
       "      <td>1.186643</td>\n",
       "      <td>4.834131</td>\n",
       "      <td>0.451407</td>\n",
       "    </tr>\n",
       "    <tr>\n",
       "      <th>...</th>\n",
       "      <td>...</td>\n",
       "      <td>...</td>\n",
       "      <td>...</td>\n",
       "      <td>...</td>\n",
       "      <td>...</td>\n",
       "      <td>...</td>\n",
       "      <td>...</td>\n",
       "      <td>...</td>\n",
       "      <td>...</td>\n",
       "      <td>...</td>\n",
       "      <td>...</td>\n",
       "      <td>...</td>\n",
       "      <td>...</td>\n",
       "      <td>...</td>\n",
       "      <td>...</td>\n",
       "      <td>...</td>\n",
       "      <td>...</td>\n",
       "      <td>...</td>\n",
       "    </tr>\n",
       "    <tr>\n",
       "      <th>1498</th>\n",
       "      <td>0.049490</td>\n",
       "      <td>2.709183</td>\n",
       "      <td>0.201784</td>\n",
       "      <td>0.406597</td>\n",
       "      <td>0.518443</td>\n",
       "      <td>0.747388</td>\n",
       "      <td>0.089869</td>\n",
       "      <td>1.740940</td>\n",
       "      <td>1.376132</td>\n",
       "      <td>1.055714</td>\n",
       "      <td>0.628780</td>\n",
       "      <td>2.548909</td>\n",
       "      <td>0.112061</td>\n",
       "      <td>2.500940</td>\n",
       "      <td>1.400220</td>\n",
       "      <td>1.225603</td>\n",
       "      <td>3.736294</td>\n",
       "      <td>0.457163</td>\n",
       "    </tr>\n",
       "    <tr>\n",
       "      <th>1499</th>\n",
       "      <td>0.019023</td>\n",
       "      <td>2.295900</td>\n",
       "      <td>0.224373</td>\n",
       "      <td>0.089178</td>\n",
       "      <td>1.081122</td>\n",
       "      <td>0.881800</td>\n",
       "      <td>0.143720</td>\n",
       "      <td>1.781626</td>\n",
       "      <td>1.247285</td>\n",
       "      <td>0.954318</td>\n",
       "      <td>0.561840</td>\n",
       "      <td>2.285242</td>\n",
       "      <td>0.278799</td>\n",
       "      <td>3.020909</td>\n",
       "      <td>1.099578</td>\n",
       "      <td>1.567323</td>\n",
       "      <td>4.204123</td>\n",
       "      <td>0.711028</td>\n",
       "    </tr>\n",
       "    <tr>\n",
       "      <th>1500</th>\n",
       "      <td>0.032171</td>\n",
       "      <td>2.984042</td>\n",
       "      <td>0.127109</td>\n",
       "      <td>0.353594</td>\n",
       "      <td>1.505152</td>\n",
       "      <td>0.501176</td>\n",
       "      <td>0.035871</td>\n",
       "      <td>1.844831</td>\n",
       "      <td>1.041086</td>\n",
       "      <td>1.129423</td>\n",
       "      <td>0.595083</td>\n",
       "      <td>1.778464</td>\n",
       "      <td>0.139192</td>\n",
       "      <td>3.374405</td>\n",
       "      <td>1.347506</td>\n",
       "      <td>1.620396</td>\n",
       "      <td>4.669027</td>\n",
       "      <td>0.617288</td>\n",
       "    </tr>\n",
       "    <tr>\n",
       "      <th>1501</th>\n",
       "      <td>0.044690</td>\n",
       "      <td>1.424177</td>\n",
       "      <td>0.367681</td>\n",
       "      <td>0.052664</td>\n",
       "      <td>0.289442</td>\n",
       "      <td>0.410942</td>\n",
       "      <td>0.119894</td>\n",
       "      <td>0.648544</td>\n",
       "      <td>1.252665</td>\n",
       "      <td>1.421155</td>\n",
       "      <td>0.404094</td>\n",
       "      <td>1.837567</td>\n",
       "      <td>0.118139</td>\n",
       "      <td>3.439930</td>\n",
       "      <td>1.321597</td>\n",
       "      <td>1.217079</td>\n",
       "      <td>3.776337</td>\n",
       "      <td>0.449764</td>\n",
       "    </tr>\n",
       "    <tr>\n",
       "      <th>1502</th>\n",
       "      <td>0.117636</td>\n",
       "      <td>4.696961</td>\n",
       "      <td>0.454948</td>\n",
       "      <td>0.963973</td>\n",
       "      <td>0.127639</td>\n",
       "      <td>0.093958</td>\n",
       "      <td>0.436273</td>\n",
       "      <td>3.785259</td>\n",
       "      <td>1.516821</td>\n",
       "      <td>1.899715</td>\n",
       "      <td>0.862041</td>\n",
       "      <td>2.178909</td>\n",
       "      <td>0.203269</td>\n",
       "      <td>4.763733</td>\n",
       "      <td>1.968427</td>\n",
       "      <td>0.686055</td>\n",
       "      <td>6.806222</td>\n",
       "      <td>0.247575</td>\n",
       "    </tr>\n",
       "  </tbody>\n",
       "</table>\n",
       "<p>1503 rows × 18 columns</p>\n",
       "</div>"
      ],
      "text/plain": [
       "            0         1         2         3         4         5         6   \\\n",
       "0     0.667972  2.907948  1.204773  1.247552  0.278642  0.281027  0.889776   \n",
       "1     0.082725  3.175041  0.253350  0.813937  0.754757  0.437669  0.185934   \n",
       "2     0.040074  2.504503  0.096721  0.456415  2.591407  0.822004  0.317070   \n",
       "3     0.053171  2.176827  0.155368  0.048297  1.606949  0.623013  0.244080   \n",
       "4     0.054345  2.763091  0.213224  0.697054  1.008706  0.454565  0.109683   \n",
       "...        ...       ...       ...       ...       ...       ...       ...   \n",
       "1498  0.049490  2.709183  0.201784  0.406597  0.518443  0.747388  0.089869   \n",
       "1499  0.019023  2.295900  0.224373  0.089178  1.081122  0.881800  0.143720   \n",
       "1500  0.032171  2.984042  0.127109  0.353594  1.505152  0.501176  0.035871   \n",
       "1501  0.044690  1.424177  0.367681  0.052664  0.289442  0.410942  0.119894   \n",
       "1502  0.117636  4.696961  0.454948  0.963973  0.127639  0.093958  0.436273   \n",
       "\n",
       "            7         8         9         10        11        12        13  \\\n",
       "0     4.597806  0.622860  2.036356  0.998377  1.443585  0.481841  4.343771   \n",
       "1     2.669911  1.560305  1.679029  0.314262  1.639276  0.084969  3.450850   \n",
       "2     1.583973  1.736903  0.858099  0.311441  1.526323  0.377998  2.545898   \n",
       "3     1.374261  1.692135  1.445397  0.760631  2.140162  0.421141  2.843509   \n",
       "4     2.563638  1.525414  1.188755  0.654955  2.106831  0.106669  2.609371   \n",
       "...        ...       ...       ...       ...       ...       ...       ...   \n",
       "1498  1.740940  1.376132  1.055714  0.628780  2.548909  0.112061  2.500940   \n",
       "1499  1.781626  1.247285  0.954318  0.561840  2.285242  0.278799  3.020909   \n",
       "1500  1.844831  1.041086  1.129423  0.595083  1.778464  0.139192  3.374405   \n",
       "1501  0.648544  1.252665  1.421155  0.404094  1.837567  0.118139  3.439930   \n",
       "1502  3.785259  1.516821  1.899715  0.862041  2.178909  0.203269  4.763733   \n",
       "\n",
       "            14        15        16        17  \n",
       "0     2.377831  0.496207  6.361366  0.513700  \n",
       "1     1.243006  1.452210  4.721330  0.548988  \n",
       "2     1.392627  2.458731  3.286472  1.069934  \n",
       "3     0.760320  2.533268  3.622765  1.093028  \n",
       "4     1.409451  1.186643  4.834131  0.451407  \n",
       "...        ...       ...       ...       ...  \n",
       "1498  1.400220  1.225603  3.736294  0.457163  \n",
       "1499  1.099578  1.567323  4.204123  0.711028  \n",
       "1500  1.347506  1.620396  4.669027  0.617288  \n",
       "1501  1.321597  1.217079  3.776337  0.449764  \n",
       "1502  1.968427  0.686055  6.806222  0.247575  \n",
       "\n",
       "[1503 rows x 18 columns]"
      ]
     },
     "execution_count": 44,
     "metadata": {},
     "output_type": "execute_result"
    }
   ],
   "source": [
    "pd.DataFrame(X_test)"
   ]
  },
  {
   "cell_type": "markdown",
   "id": "5fa024f7",
   "metadata": {
    "execution": {
     "iopub.execute_input": "2023-02-07T23:47:19.876941Z",
     "iopub.status.busy": "2023-02-07T23:47:19.876424Z",
     "iopub.status.idle": "2023-02-07T23:47:20.399488Z",
     "shell.execute_reply": "2023-02-07T23:47:20.398142Z"
    },
    "papermill": {
     "duration": 0.013425,
     "end_time": "2023-03-08T11:55:24.595993",
     "exception": false,
     "start_time": "2023-03-08T11:55:24.582568",
     "status": "completed"
    },
    "tags": []
   },
   "source": [
    "**Decision Tree**"
   ]
  },
  {
   "cell_type": "code",
   "execution_count": 45,
   "id": "4f5400c9",
   "metadata": {
    "execution": {
     "iopub.execute_input": "2023-03-08T11:55:24.625282Z",
     "iopub.status.busy": "2023-03-08T11:55:24.624793Z",
     "iopub.status.idle": "2023-03-08T11:55:24.820151Z",
     "shell.execute_reply": "2023-03-08T11:55:24.819131Z"
    },
    "papermill": {
     "duration": 0.213803,
     "end_time": "2023-03-08T11:55:24.823382",
     "exception": false,
     "start_time": "2023-03-08T11:55:24.609579",
     "status": "completed"
    },
    "tags": []
   },
   "outputs": [
    {
     "data": {
      "text/html": [
       "<style>#sk-container-id-5 {color: black;background-color: white;}#sk-container-id-5 pre{padding: 0;}#sk-container-id-5 div.sk-toggleable {background-color: white;}#sk-container-id-5 label.sk-toggleable__label {cursor: pointer;display: block;width: 100%;margin-bottom: 0;padding: 0.3em;box-sizing: border-box;text-align: center;}#sk-container-id-5 label.sk-toggleable__label-arrow:before {content: \"▸\";float: left;margin-right: 0.25em;color: #696969;}#sk-container-id-5 label.sk-toggleable__label-arrow:hover:before {color: black;}#sk-container-id-5 div.sk-estimator:hover label.sk-toggleable__label-arrow:before {color: black;}#sk-container-id-5 div.sk-toggleable__content {max-height: 0;max-width: 0;overflow: hidden;text-align: left;background-color: #f0f8ff;}#sk-container-id-5 div.sk-toggleable__content pre {margin: 0.2em;color: black;border-radius: 0.25em;background-color: #f0f8ff;}#sk-container-id-5 input.sk-toggleable__control:checked~div.sk-toggleable__content {max-height: 200px;max-width: 100%;overflow: auto;}#sk-container-id-5 input.sk-toggleable__control:checked~label.sk-toggleable__label-arrow:before {content: \"▾\";}#sk-container-id-5 div.sk-estimator input.sk-toggleable__control:checked~label.sk-toggleable__label {background-color: #d4ebff;}#sk-container-id-5 div.sk-label input.sk-toggleable__control:checked~label.sk-toggleable__label {background-color: #d4ebff;}#sk-container-id-5 input.sk-hidden--visually {border: 0;clip: rect(1px 1px 1px 1px);clip: rect(1px, 1px, 1px, 1px);height: 1px;margin: -1px;overflow: hidden;padding: 0;position: absolute;width: 1px;}#sk-container-id-5 div.sk-estimator {font-family: monospace;background-color: #f0f8ff;border: 1px dotted black;border-radius: 0.25em;box-sizing: border-box;margin-bottom: 0.5em;}#sk-container-id-5 div.sk-estimator:hover {background-color: #d4ebff;}#sk-container-id-5 div.sk-parallel-item::after {content: \"\";width: 100%;border-bottom: 1px solid gray;flex-grow: 1;}#sk-container-id-5 div.sk-label:hover label.sk-toggleable__label {background-color: #d4ebff;}#sk-container-id-5 div.sk-serial::before {content: \"\";position: absolute;border-left: 1px solid gray;box-sizing: border-box;top: 0;bottom: 0;left: 50%;z-index: 0;}#sk-container-id-5 div.sk-serial {display: flex;flex-direction: column;align-items: center;background-color: white;padding-right: 0.2em;padding-left: 0.2em;position: relative;}#sk-container-id-5 div.sk-item {position: relative;z-index: 1;}#sk-container-id-5 div.sk-parallel {display: flex;align-items: stretch;justify-content: center;background-color: white;position: relative;}#sk-container-id-5 div.sk-item::before, #sk-container-id-5 div.sk-parallel-item::before {content: \"\";position: absolute;border-left: 1px solid gray;box-sizing: border-box;top: 0;bottom: 0;left: 50%;z-index: -1;}#sk-container-id-5 div.sk-parallel-item {display: flex;flex-direction: column;z-index: 1;position: relative;background-color: white;}#sk-container-id-5 div.sk-parallel-item:first-child::after {align-self: flex-end;width: 50%;}#sk-container-id-5 div.sk-parallel-item:last-child::after {align-self: flex-start;width: 50%;}#sk-container-id-5 div.sk-parallel-item:only-child::after {width: 0;}#sk-container-id-5 div.sk-dashed-wrapped {border: 1px dashed gray;margin: 0 0.4em 0.5em 0.4em;box-sizing: border-box;padding-bottom: 0.4em;background-color: white;}#sk-container-id-5 div.sk-label label {font-family: monospace;font-weight: bold;display: inline-block;line-height: 1.2em;}#sk-container-id-5 div.sk-label-container {text-align: center;}#sk-container-id-5 div.sk-container {/* jupyter's `normalize.less` sets `[hidden] { display: none; }` but bootstrap.min.css set `[hidden] { display: none !important; }` so we also need the `!important` here to be able to override the default hidden behavior on the sphinx rendered scikit-learn.org. See: https://github.com/scikit-learn/scikit-learn/issues/21755 */display: inline-block !important;position: relative;}#sk-container-id-5 div.sk-text-repr-fallback {display: none;}</style><div id=\"sk-container-id-5\" class=\"sk-top-container\"><div class=\"sk-text-repr-fallback\"><pre>DecisionTreeClassifier(random_state=42)</pre><b>In a Jupyter environment, please rerun this cell to show the HTML representation or trust the notebook. <br />On GitHub, the HTML representation is unable to render, please try loading this page with nbviewer.org.</b></div><div class=\"sk-container\" hidden><div class=\"sk-item\"><div class=\"sk-estimator sk-toggleable\"><input class=\"sk-toggleable__control sk-hidden--visually\" id=\"sk-estimator-id-5\" type=\"checkbox\" checked><label for=\"sk-estimator-id-5\" class=\"sk-toggleable__label sk-toggleable__label-arrow\">DecisionTreeClassifier</label><div class=\"sk-toggleable__content\"><pre>DecisionTreeClassifier(random_state=42)</pre></div></div></div></div></div>"
      ],
      "text/plain": [
       "DecisionTreeClassifier(random_state=42)"
      ]
     },
     "execution_count": 45,
     "metadata": {},
     "output_type": "execute_result"
    }
   ],
   "source": [
    "clf = DecisionTreeClassifier(random_state=42)\n",
    "clf.fit(X_train, y_train)"
   ]
  },
  {
   "cell_type": "code",
   "execution_count": 46,
   "id": "3b56d190",
   "metadata": {
    "execution": {
     "iopub.execute_input": "2023-03-08T11:55:24.895749Z",
     "iopub.status.busy": "2023-03-08T11:55:24.894476Z",
     "iopub.status.idle": "2023-03-08T11:55:24.964599Z",
     "shell.execute_reply": "2023-03-08T11:55:24.963647Z"
    },
    "papermill": {
     "duration": 0.108796,
     "end_time": "2023-03-08T11:55:24.967099",
     "exception": false,
     "start_time": "2023-03-08T11:55:24.858303",
     "status": "completed"
    },
    "tags": []
   },
   "outputs": [
    {
     "name": "stdout",
     "output_type": "stream",
     "text": [
      "                                           precision    recall  f1-score   support\n",
      "\n",
      "                    action_thriller_crime       0.24      0.25      0.25       306\n",
      "                                   comedy       0.31      0.34      0.32       404\n",
      "                                    drama       0.34      0.32      0.33       494\n",
      "horror_scifi_mystery_supernatural_fantasy       0.26      0.24      0.25       299\n",
      "\n",
      "                                 accuracy                           0.29      1503\n",
      "                                macro avg       0.29      0.29      0.29      1503\n",
      "                             weighted avg       0.29      0.29      0.29      1503\n",
      "\n"
     ]
    }
   ],
   "source": [
    "y_pred = clf.predict(X_test)\n",
    "print(classification_report(y_test, y_pred))"
   ]
  },
  {
   "cell_type": "code",
   "execution_count": 47,
   "id": "42bc91ff",
   "metadata": {
    "execution": {
     "iopub.execute_input": "2023-03-08T11:55:25.040566Z",
     "iopub.status.busy": "2023-03-08T11:55:25.040164Z",
     "iopub.status.idle": "2023-03-08T11:55:25.046129Z",
     "shell.execute_reply": "2023-03-08T11:55:25.045074Z"
    },
    "papermill": {
     "duration": 0.042857,
     "end_time": "2023-03-08T11:55:25.047881",
     "exception": false,
     "start_time": "2023-03-08T11:55:25.005024",
     "status": "completed"
    },
    "tags": []
   },
   "outputs": [],
   "source": [
    "pickle.dump(clf, open(f'{data_path}/decision_tree.pkl', 'wb'))"
   ]
  },
  {
   "cell_type": "code",
   "execution_count": 48,
   "id": "ea9be210",
   "metadata": {
    "execution": {
     "iopub.execute_input": "2023-03-08T11:55:25.077248Z",
     "iopub.status.busy": "2023-03-08T11:55:25.076825Z",
     "iopub.status.idle": "2023-03-08T11:55:25.134146Z",
     "shell.execute_reply": "2023-03-08T11:55:25.132748Z"
    },
    "papermill": {
     "duration": 0.075023,
     "end_time": "2023-03-08T11:55:25.136431",
     "exception": false,
     "start_time": "2023-03-08T11:55:25.061408",
     "status": "completed"
    },
    "tags": []
   },
   "outputs": [],
   "source": [
    "acc = accuracy_score(y_test, y_pred)\n",
    "pre = precision_score(y_test, y_pred, average=avg_par)\n",
    "rec = recall_score(y_test, y_pred, average=avg_par)\n",
    "f1 = f1_score(y_test, y_pred, average=avg_par)\n",
    "\n",
    "metrics_data['Shapelets']['DecisionTree'] = {'Accuracy': acc, 'Precision': pre, 'Recall': rec, 'F1': f1}"
   ]
  },
  {
   "cell_type": "markdown",
   "id": "3ca3443b",
   "metadata": {
    "papermill": {
     "duration": 0.013511,
     "end_time": "2023-03-08T11:55:25.166091",
     "exception": false,
     "start_time": "2023-03-08T11:55:25.152580",
     "status": "completed"
    },
    "tags": []
   },
   "source": [
    "**Random Forest**"
   ]
  },
  {
   "cell_type": "code",
   "execution_count": 49,
   "id": "37795e21",
   "metadata": {
    "execution": {
     "iopub.execute_input": "2023-03-08T11:55:25.195687Z",
     "iopub.status.busy": "2023-03-08T11:55:25.194791Z",
     "iopub.status.idle": "2023-03-08T11:55:27.564856Z",
     "shell.execute_reply": "2023-03-08T11:55:27.563948Z"
    },
    "papermill": {
     "duration": 2.388416,
     "end_time": "2023-03-08T11:55:27.568134",
     "exception": false,
     "start_time": "2023-03-08T11:55:25.179718",
     "status": "completed"
    },
    "tags": []
   },
   "outputs": [
    {
     "data": {
      "text/html": [
       "<style>#sk-container-id-6 {color: black;background-color: white;}#sk-container-id-6 pre{padding: 0;}#sk-container-id-6 div.sk-toggleable {background-color: white;}#sk-container-id-6 label.sk-toggleable__label {cursor: pointer;display: block;width: 100%;margin-bottom: 0;padding: 0.3em;box-sizing: border-box;text-align: center;}#sk-container-id-6 label.sk-toggleable__label-arrow:before {content: \"▸\";float: left;margin-right: 0.25em;color: #696969;}#sk-container-id-6 label.sk-toggleable__label-arrow:hover:before {color: black;}#sk-container-id-6 div.sk-estimator:hover label.sk-toggleable__label-arrow:before {color: black;}#sk-container-id-6 div.sk-toggleable__content {max-height: 0;max-width: 0;overflow: hidden;text-align: left;background-color: #f0f8ff;}#sk-container-id-6 div.sk-toggleable__content pre {margin: 0.2em;color: black;border-radius: 0.25em;background-color: #f0f8ff;}#sk-container-id-6 input.sk-toggleable__control:checked~div.sk-toggleable__content {max-height: 200px;max-width: 100%;overflow: auto;}#sk-container-id-6 input.sk-toggleable__control:checked~label.sk-toggleable__label-arrow:before {content: \"▾\";}#sk-container-id-6 div.sk-estimator input.sk-toggleable__control:checked~label.sk-toggleable__label {background-color: #d4ebff;}#sk-container-id-6 div.sk-label input.sk-toggleable__control:checked~label.sk-toggleable__label {background-color: #d4ebff;}#sk-container-id-6 input.sk-hidden--visually {border: 0;clip: rect(1px 1px 1px 1px);clip: rect(1px, 1px, 1px, 1px);height: 1px;margin: -1px;overflow: hidden;padding: 0;position: absolute;width: 1px;}#sk-container-id-6 div.sk-estimator {font-family: monospace;background-color: #f0f8ff;border: 1px dotted black;border-radius: 0.25em;box-sizing: border-box;margin-bottom: 0.5em;}#sk-container-id-6 div.sk-estimator:hover {background-color: #d4ebff;}#sk-container-id-6 div.sk-parallel-item::after {content: \"\";width: 100%;border-bottom: 1px solid gray;flex-grow: 1;}#sk-container-id-6 div.sk-label:hover label.sk-toggleable__label {background-color: #d4ebff;}#sk-container-id-6 div.sk-serial::before {content: \"\";position: absolute;border-left: 1px solid gray;box-sizing: border-box;top: 0;bottom: 0;left: 50%;z-index: 0;}#sk-container-id-6 div.sk-serial {display: flex;flex-direction: column;align-items: center;background-color: white;padding-right: 0.2em;padding-left: 0.2em;position: relative;}#sk-container-id-6 div.sk-item {position: relative;z-index: 1;}#sk-container-id-6 div.sk-parallel {display: flex;align-items: stretch;justify-content: center;background-color: white;position: relative;}#sk-container-id-6 div.sk-item::before, #sk-container-id-6 div.sk-parallel-item::before {content: \"\";position: absolute;border-left: 1px solid gray;box-sizing: border-box;top: 0;bottom: 0;left: 50%;z-index: -1;}#sk-container-id-6 div.sk-parallel-item {display: flex;flex-direction: column;z-index: 1;position: relative;background-color: white;}#sk-container-id-6 div.sk-parallel-item:first-child::after {align-self: flex-end;width: 50%;}#sk-container-id-6 div.sk-parallel-item:last-child::after {align-self: flex-start;width: 50%;}#sk-container-id-6 div.sk-parallel-item:only-child::after {width: 0;}#sk-container-id-6 div.sk-dashed-wrapped {border: 1px dashed gray;margin: 0 0.4em 0.5em 0.4em;box-sizing: border-box;padding-bottom: 0.4em;background-color: white;}#sk-container-id-6 div.sk-label label {font-family: monospace;font-weight: bold;display: inline-block;line-height: 1.2em;}#sk-container-id-6 div.sk-label-container {text-align: center;}#sk-container-id-6 div.sk-container {/* jupyter's `normalize.less` sets `[hidden] { display: none; }` but bootstrap.min.css set `[hidden] { display: none !important; }` so we also need the `!important` here to be able to override the default hidden behavior on the sphinx rendered scikit-learn.org. See: https://github.com/scikit-learn/scikit-learn/issues/21755 */display: inline-block !important;position: relative;}#sk-container-id-6 div.sk-text-repr-fallback {display: none;}</style><div id=\"sk-container-id-6\" class=\"sk-top-container\"><div class=\"sk-text-repr-fallback\"><pre>RandomForestClassifier(random_state=42)</pre><b>In a Jupyter environment, please rerun this cell to show the HTML representation or trust the notebook. <br />On GitHub, the HTML representation is unable to render, please try loading this page with nbviewer.org.</b></div><div class=\"sk-container\" hidden><div class=\"sk-item\"><div class=\"sk-estimator sk-toggleable\"><input class=\"sk-toggleable__control sk-hidden--visually\" id=\"sk-estimator-id-6\" type=\"checkbox\" checked><label for=\"sk-estimator-id-6\" class=\"sk-toggleable__label sk-toggleable__label-arrow\">RandomForestClassifier</label><div class=\"sk-toggleable__content\"><pre>RandomForestClassifier(random_state=42)</pre></div></div></div></div></div>"
      ],
      "text/plain": [
       "RandomForestClassifier(random_state=42)"
      ]
     },
     "execution_count": 49,
     "metadata": {},
     "output_type": "execute_result"
    }
   ],
   "source": [
    "clf = RandomForestClassifier(random_state=42)\n",
    "clf.fit(X_train, y_train)"
   ]
  },
  {
   "cell_type": "code",
   "execution_count": 50,
   "id": "581ab90a",
   "metadata": {
    "execution": {
     "iopub.execute_input": "2023-03-08T11:55:27.647454Z",
     "iopub.status.busy": "2023-03-08T11:55:27.646438Z",
     "iopub.status.idle": "2023-03-08T11:55:27.722716Z",
     "shell.execute_reply": "2023-03-08T11:55:27.721735Z"
    },
    "papermill": {
     "duration": 0.117744,
     "end_time": "2023-03-08T11:55:27.725614",
     "exception": false,
     "start_time": "2023-03-08T11:55:27.607870",
     "status": "completed"
    },
    "tags": []
   },
   "outputs": [
    {
     "name": "stdout",
     "output_type": "stream",
     "text": [
      "                                           precision    recall  f1-score   support\n",
      "\n",
      "                    action_thriller_crime       0.37      0.44      0.40       306\n",
      "                                   comedy       0.35      0.38      0.36       404\n",
      "                                    drama       0.39      0.49      0.43       494\n",
      "horror_scifi_mystery_supernatural_fantasy       0.29      0.09      0.13       299\n",
      "\n",
      "                                 accuracy                           0.37      1503\n",
      "                                macro avg       0.35      0.35      0.33      1503\n",
      "                             weighted avg       0.35      0.37      0.35      1503\n",
      "\n"
     ]
    }
   ],
   "source": [
    "y_pred = clf.predict(X_test)\n",
    "print(classification_report(y_test, y_pred))"
   ]
  },
  {
   "cell_type": "code",
   "execution_count": 51,
   "id": "faf1d7f4",
   "metadata": {
    "execution": {
     "iopub.execute_input": "2023-03-08T11:55:27.803451Z",
     "iopub.status.busy": "2023-03-08T11:55:27.802933Z",
     "iopub.status.idle": "2023-03-08T11:55:27.834656Z",
     "shell.execute_reply": "2023-03-08T11:55:27.833750Z"
    },
    "papermill": {
     "duration": 0.072182,
     "end_time": "2023-03-08T11:55:27.837622",
     "exception": false,
     "start_time": "2023-03-08T11:55:27.765440",
     "status": "completed"
    },
    "tags": []
   },
   "outputs": [],
   "source": [
    "acc = accuracy_score(y_test, y_pred)\n",
    "pre = precision_score(y_test, y_pred, average=avg_par)\n",
    "rec = recall_score(y_test, y_pred, average=avg_par)\n",
    "f1 = f1_score(y_test, y_pred, average=avg_par)\n",
    "\n",
    "metrics_data['Shapelets']['RandomForest'] = {'Accuracy': acc, 'Precision': pre, 'Recall': rec, 'F1': f1}"
   ]
  },
  {
   "cell_type": "markdown",
   "id": "61fceefb",
   "metadata": {
    "papermill": {
     "duration": 0.025229,
     "end_time": "2023-03-08T11:55:27.898390",
     "exception": false,
     "start_time": "2023-03-08T11:55:27.873161",
     "status": "completed"
    },
    "tags": []
   },
   "source": [
    "**LightGBM**"
   ]
  },
  {
   "cell_type": "code",
   "execution_count": 52,
   "id": "194189da",
   "metadata": {
    "execution": {
     "iopub.execute_input": "2023-03-08T11:55:27.927852Z",
     "iopub.status.busy": "2023-03-08T11:55:27.927456Z",
     "iopub.status.idle": "2023-03-08T11:55:28.481901Z",
     "shell.execute_reply": "2023-03-08T11:55:28.480923Z"
    },
    "papermill": {
     "duration": 0.571546,
     "end_time": "2023-03-08T11:55:28.483818",
     "exception": false,
     "start_time": "2023-03-08T11:55:27.912272",
     "status": "completed"
    },
    "tags": []
   },
   "outputs": [
    {
     "data": {
      "text/html": [
       "<style>#sk-container-id-7 {color: black;background-color: white;}#sk-container-id-7 pre{padding: 0;}#sk-container-id-7 div.sk-toggleable {background-color: white;}#sk-container-id-7 label.sk-toggleable__label {cursor: pointer;display: block;width: 100%;margin-bottom: 0;padding: 0.3em;box-sizing: border-box;text-align: center;}#sk-container-id-7 label.sk-toggleable__label-arrow:before {content: \"▸\";float: left;margin-right: 0.25em;color: #696969;}#sk-container-id-7 label.sk-toggleable__label-arrow:hover:before {color: black;}#sk-container-id-7 div.sk-estimator:hover label.sk-toggleable__label-arrow:before {color: black;}#sk-container-id-7 div.sk-toggleable__content {max-height: 0;max-width: 0;overflow: hidden;text-align: left;background-color: #f0f8ff;}#sk-container-id-7 div.sk-toggleable__content pre {margin: 0.2em;color: black;border-radius: 0.25em;background-color: #f0f8ff;}#sk-container-id-7 input.sk-toggleable__control:checked~div.sk-toggleable__content {max-height: 200px;max-width: 100%;overflow: auto;}#sk-container-id-7 input.sk-toggleable__control:checked~label.sk-toggleable__label-arrow:before {content: \"▾\";}#sk-container-id-7 div.sk-estimator input.sk-toggleable__control:checked~label.sk-toggleable__label {background-color: #d4ebff;}#sk-container-id-7 div.sk-label input.sk-toggleable__control:checked~label.sk-toggleable__label {background-color: #d4ebff;}#sk-container-id-7 input.sk-hidden--visually {border: 0;clip: rect(1px 1px 1px 1px);clip: rect(1px, 1px, 1px, 1px);height: 1px;margin: -1px;overflow: hidden;padding: 0;position: absolute;width: 1px;}#sk-container-id-7 div.sk-estimator {font-family: monospace;background-color: #f0f8ff;border: 1px dotted black;border-radius: 0.25em;box-sizing: border-box;margin-bottom: 0.5em;}#sk-container-id-7 div.sk-estimator:hover {background-color: #d4ebff;}#sk-container-id-7 div.sk-parallel-item::after {content: \"\";width: 100%;border-bottom: 1px solid gray;flex-grow: 1;}#sk-container-id-7 div.sk-label:hover label.sk-toggleable__label {background-color: #d4ebff;}#sk-container-id-7 div.sk-serial::before {content: \"\";position: absolute;border-left: 1px solid gray;box-sizing: border-box;top: 0;bottom: 0;left: 50%;z-index: 0;}#sk-container-id-7 div.sk-serial {display: flex;flex-direction: column;align-items: center;background-color: white;padding-right: 0.2em;padding-left: 0.2em;position: relative;}#sk-container-id-7 div.sk-item {position: relative;z-index: 1;}#sk-container-id-7 div.sk-parallel {display: flex;align-items: stretch;justify-content: center;background-color: white;position: relative;}#sk-container-id-7 div.sk-item::before, #sk-container-id-7 div.sk-parallel-item::before {content: \"\";position: absolute;border-left: 1px solid gray;box-sizing: border-box;top: 0;bottom: 0;left: 50%;z-index: -1;}#sk-container-id-7 div.sk-parallel-item {display: flex;flex-direction: column;z-index: 1;position: relative;background-color: white;}#sk-container-id-7 div.sk-parallel-item:first-child::after {align-self: flex-end;width: 50%;}#sk-container-id-7 div.sk-parallel-item:last-child::after {align-self: flex-start;width: 50%;}#sk-container-id-7 div.sk-parallel-item:only-child::after {width: 0;}#sk-container-id-7 div.sk-dashed-wrapped {border: 1px dashed gray;margin: 0 0.4em 0.5em 0.4em;box-sizing: border-box;padding-bottom: 0.4em;background-color: white;}#sk-container-id-7 div.sk-label label {font-family: monospace;font-weight: bold;display: inline-block;line-height: 1.2em;}#sk-container-id-7 div.sk-label-container {text-align: center;}#sk-container-id-7 div.sk-container {/* jupyter's `normalize.less` sets `[hidden] { display: none; }` but bootstrap.min.css set `[hidden] { display: none !important; }` so we also need the `!important` here to be able to override the default hidden behavior on the sphinx rendered scikit-learn.org. See: https://github.com/scikit-learn/scikit-learn/issues/21755 */display: inline-block !important;position: relative;}#sk-container-id-7 div.sk-text-repr-fallback {display: none;}</style><div id=\"sk-container-id-7\" class=\"sk-top-container\"><div class=\"sk-text-repr-fallback\"><pre>LGBMClassifier(objective=&#x27;multiclass&#x27;)</pre><b>In a Jupyter environment, please rerun this cell to show the HTML representation or trust the notebook. <br />On GitHub, the HTML representation is unable to render, please try loading this page with nbviewer.org.</b></div><div class=\"sk-container\" hidden><div class=\"sk-item\"><div class=\"sk-estimator sk-toggleable\"><input class=\"sk-toggleable__control sk-hidden--visually\" id=\"sk-estimator-id-7\" type=\"checkbox\" checked><label for=\"sk-estimator-id-7\" class=\"sk-toggleable__label sk-toggleable__label-arrow\">LGBMClassifier</label><div class=\"sk-toggleable__content\"><pre>LGBMClassifier(objective=&#x27;multiclass&#x27;)</pre></div></div></div></div></div>"
      ],
      "text/plain": [
       "LGBMClassifier(objective='multiclass')"
      ]
     },
     "execution_count": 52,
     "metadata": {},
     "output_type": "execute_result"
    }
   ],
   "source": [
    "clf = lgbm.LGBMClassifier(objective=obj_par) \n",
    "clf.fit(X_train, y_train)"
   ]
  },
  {
   "cell_type": "code",
   "execution_count": 53,
   "id": "355a078b",
   "metadata": {
    "execution": {
     "iopub.execute_input": "2023-03-08T11:55:28.520870Z",
     "iopub.status.busy": "2023-03-08T11:55:28.520434Z",
     "iopub.status.idle": "2023-03-08T11:55:28.616106Z",
     "shell.execute_reply": "2023-03-08T11:55:28.615041Z"
    },
    "papermill": {
     "duration": 0.115602,
     "end_time": "2023-03-08T11:55:28.619485",
     "exception": false,
     "start_time": "2023-03-08T11:55:28.503883",
     "status": "completed"
    },
    "tags": []
   },
   "outputs": [
    {
     "name": "stdout",
     "output_type": "stream",
     "text": [
      "                                           precision    recall  f1-score   support\n",
      "\n",
      "                    action_thriller_crime       0.33      0.37      0.35       306\n",
      "                                   comedy       0.35      0.37      0.36       404\n",
      "                                    drama       0.39      0.47      0.42       494\n",
      "horror_scifi_mystery_supernatural_fantasy       0.24      0.11      0.15       299\n",
      "\n",
      "                                 accuracy                           0.35      1503\n",
      "                                macro avg       0.33      0.33      0.32      1503\n",
      "                             weighted avg       0.34      0.35      0.34      1503\n",
      "\n"
     ]
    }
   ],
   "source": [
    "y_pred = clf.predict(X_test)\n",
    "print(classification_report(y_test, y_pred))"
   ]
  },
  {
   "cell_type": "code",
   "execution_count": 54,
   "id": "f22b911e",
   "metadata": {
    "execution": {
     "iopub.execute_input": "2023-03-08T11:55:28.714724Z",
     "iopub.status.busy": "2023-03-08T11:55:28.714320Z",
     "iopub.status.idle": "2023-03-08T11:55:28.782101Z",
     "shell.execute_reply": "2023-03-08T11:55:28.780861Z"
    },
    "papermill": {
     "duration": 0.087189,
     "end_time": "2023-03-08T11:55:28.785262",
     "exception": false,
     "start_time": "2023-03-08T11:55:28.698073",
     "status": "completed"
    },
    "tags": []
   },
   "outputs": [],
   "source": [
    "acc = accuracy_score(y_test, y_pred)\n",
    "pre = precision_score(y_test, y_pred, average=avg_par)\n",
    "rec = recall_score(y_test, y_pred, average=avg_par)\n",
    "f1 = f1_score(y_test, y_pred, average=avg_par)\n",
    "\n",
    "metrics_data['Shapelets']['LightGBM'] = {'Accuracy': acc, 'Precision': pre, 'Recall': rec, 'F1': f1}"
   ]
  },
  {
   "cell_type": "markdown",
   "id": "0809af9f",
   "metadata": {
    "papermill": {
     "duration": 0.036024,
     "end_time": "2023-03-08T11:55:28.858039",
     "exception": false,
     "start_time": "2023-03-08T11:55:28.822015",
     "status": "completed"
    },
    "tags": []
   },
   "source": [
    "#### KNN"
   ]
  },
  {
   "cell_type": "code",
   "execution_count": 55,
   "id": "1c9237e0",
   "metadata": {
    "execution": {
     "iopub.execute_input": "2023-03-08T11:55:28.888623Z",
     "iopub.status.busy": "2023-03-08T11:55:28.887648Z",
     "iopub.status.idle": "2023-03-08T11:55:28.893595Z",
     "shell.execute_reply": "2023-03-08T11:55:28.892608Z"
    },
    "papermill": {
     "duration": 0.023289,
     "end_time": "2023-03-08T11:55:28.895268",
     "exception": false,
     "start_time": "2023-03-08T11:55:28.871979",
     "status": "completed"
    },
    "tags": []
   },
   "outputs": [],
   "source": [
    "X_train = ts_train.reshape((ts_train.shape[0], ts_train.shape[1]))\n",
    "X_test = ts_test.reshape((ts_test.shape[0], ts_test.shape[1]))"
   ]
  },
  {
   "cell_type": "code",
   "execution_count": 56,
   "id": "192f3c3f",
   "metadata": {
    "execution": {
     "iopub.execute_input": "2023-03-08T11:55:28.925497Z",
     "iopub.status.busy": "2023-03-08T11:55:28.925086Z",
     "iopub.status.idle": "2023-03-08T11:55:28.931893Z",
     "shell.execute_reply": "2023-03-08T11:55:28.930848Z"
    },
    "papermill": {
     "duration": 0.024165,
     "end_time": "2023-03-08T11:55:28.933623",
     "exception": false,
     "start_time": "2023-03-08T11:55:28.909458",
     "status": "completed"
    },
    "tags": []
   },
   "outputs": [
    {
     "data": {
      "text/plain": [
       "(6009, 100)"
      ]
     },
     "execution_count": 56,
     "metadata": {},
     "output_type": "execute_result"
    }
   ],
   "source": [
    "X_train.shape"
   ]
  },
  {
   "cell_type": "code",
   "execution_count": 57,
   "id": "de0e5000",
   "metadata": {
    "execution": {
     "iopub.execute_input": "2023-03-08T11:55:28.968279Z",
     "iopub.status.busy": "2023-03-08T11:55:28.967313Z",
     "iopub.status.idle": "2023-03-08T11:55:28.972416Z",
     "shell.execute_reply": "2023-03-08T11:55:28.971413Z"
    },
    "papermill": {
     "duration": 0.024231,
     "end_time": "2023-03-08T11:55:28.974008",
     "exception": false,
     "start_time": "2023-03-08T11:55:28.949777",
     "status": "completed"
    },
    "tags": []
   },
   "outputs": [],
   "source": [
    "metrics_data['KNN'] = {}"
   ]
  },
  {
   "cell_type": "markdown",
   "id": "8ee39c05",
   "metadata": {
    "papermill": {
     "duration": 0.014851,
     "end_time": "2023-03-08T11:55:29.004006",
     "exception": false,
     "start_time": "2023-03-08T11:55:28.989155",
     "status": "completed"
    },
    "tags": []
   },
   "source": [
    "**Euclidean Distance**"
   ]
  },
  {
   "cell_type": "code",
   "execution_count": 58,
   "id": "55db1f58",
   "metadata": {
    "execution": {
     "iopub.execute_input": "2023-03-08T11:55:29.040547Z",
     "iopub.status.busy": "2023-03-08T11:55:29.039645Z",
     "iopub.status.idle": "2023-03-08T11:55:29.045088Z",
     "shell.execute_reply": "2023-03-08T11:55:29.043978Z"
    },
    "papermill": {
     "duration": 0.025913,
     "end_time": "2023-03-08T11:55:29.046976",
     "exception": false,
     "start_time": "2023-03-08T11:55:29.021063",
     "status": "completed"
    },
    "tags": []
   },
   "outputs": [],
   "source": [
    "from sklearn.neighbors import KNeighborsClassifier"
   ]
  },
  {
   "cell_type": "code",
   "execution_count": 59,
   "id": "132c2537",
   "metadata": {
    "execution": {
     "iopub.execute_input": "2023-03-08T11:55:29.079943Z",
     "iopub.status.busy": "2023-03-08T11:55:29.079132Z",
     "iopub.status.idle": "2023-03-08T11:55:29.100625Z",
     "shell.execute_reply": "2023-03-08T11:55:29.099424Z"
    },
    "papermill": {
     "duration": 0.040931,
     "end_time": "2023-03-08T11:55:29.102629",
     "exception": false,
     "start_time": "2023-03-08T11:55:29.061698",
     "status": "completed"
    },
    "tags": []
   },
   "outputs": [
    {
     "data": {
      "text/html": [
       "<style>#sk-container-id-8 {color: black;background-color: white;}#sk-container-id-8 pre{padding: 0;}#sk-container-id-8 div.sk-toggleable {background-color: white;}#sk-container-id-8 label.sk-toggleable__label {cursor: pointer;display: block;width: 100%;margin-bottom: 0;padding: 0.3em;box-sizing: border-box;text-align: center;}#sk-container-id-8 label.sk-toggleable__label-arrow:before {content: \"▸\";float: left;margin-right: 0.25em;color: #696969;}#sk-container-id-8 label.sk-toggleable__label-arrow:hover:before {color: black;}#sk-container-id-8 div.sk-estimator:hover label.sk-toggleable__label-arrow:before {color: black;}#sk-container-id-8 div.sk-toggleable__content {max-height: 0;max-width: 0;overflow: hidden;text-align: left;background-color: #f0f8ff;}#sk-container-id-8 div.sk-toggleable__content pre {margin: 0.2em;color: black;border-radius: 0.25em;background-color: #f0f8ff;}#sk-container-id-8 input.sk-toggleable__control:checked~div.sk-toggleable__content {max-height: 200px;max-width: 100%;overflow: auto;}#sk-container-id-8 input.sk-toggleable__control:checked~label.sk-toggleable__label-arrow:before {content: \"▾\";}#sk-container-id-8 div.sk-estimator input.sk-toggleable__control:checked~label.sk-toggleable__label {background-color: #d4ebff;}#sk-container-id-8 div.sk-label input.sk-toggleable__control:checked~label.sk-toggleable__label {background-color: #d4ebff;}#sk-container-id-8 input.sk-hidden--visually {border: 0;clip: rect(1px 1px 1px 1px);clip: rect(1px, 1px, 1px, 1px);height: 1px;margin: -1px;overflow: hidden;padding: 0;position: absolute;width: 1px;}#sk-container-id-8 div.sk-estimator {font-family: monospace;background-color: #f0f8ff;border: 1px dotted black;border-radius: 0.25em;box-sizing: border-box;margin-bottom: 0.5em;}#sk-container-id-8 div.sk-estimator:hover {background-color: #d4ebff;}#sk-container-id-8 div.sk-parallel-item::after {content: \"\";width: 100%;border-bottom: 1px solid gray;flex-grow: 1;}#sk-container-id-8 div.sk-label:hover label.sk-toggleable__label {background-color: #d4ebff;}#sk-container-id-8 div.sk-serial::before {content: \"\";position: absolute;border-left: 1px solid gray;box-sizing: border-box;top: 0;bottom: 0;left: 50%;z-index: 0;}#sk-container-id-8 div.sk-serial {display: flex;flex-direction: column;align-items: center;background-color: white;padding-right: 0.2em;padding-left: 0.2em;position: relative;}#sk-container-id-8 div.sk-item {position: relative;z-index: 1;}#sk-container-id-8 div.sk-parallel {display: flex;align-items: stretch;justify-content: center;background-color: white;position: relative;}#sk-container-id-8 div.sk-item::before, #sk-container-id-8 div.sk-parallel-item::before {content: \"\";position: absolute;border-left: 1px solid gray;box-sizing: border-box;top: 0;bottom: 0;left: 50%;z-index: -1;}#sk-container-id-8 div.sk-parallel-item {display: flex;flex-direction: column;z-index: 1;position: relative;background-color: white;}#sk-container-id-8 div.sk-parallel-item:first-child::after {align-self: flex-end;width: 50%;}#sk-container-id-8 div.sk-parallel-item:last-child::after {align-self: flex-start;width: 50%;}#sk-container-id-8 div.sk-parallel-item:only-child::after {width: 0;}#sk-container-id-8 div.sk-dashed-wrapped {border: 1px dashed gray;margin: 0 0.4em 0.5em 0.4em;box-sizing: border-box;padding-bottom: 0.4em;background-color: white;}#sk-container-id-8 div.sk-label label {font-family: monospace;font-weight: bold;display: inline-block;line-height: 1.2em;}#sk-container-id-8 div.sk-label-container {text-align: center;}#sk-container-id-8 div.sk-container {/* jupyter's `normalize.less` sets `[hidden] { display: none; }` but bootstrap.min.css set `[hidden] { display: none !important; }` so we also need the `!important` here to be able to override the default hidden behavior on the sphinx rendered scikit-learn.org. See: https://github.com/scikit-learn/scikit-learn/issues/21755 */display: inline-block !important;position: relative;}#sk-container-id-8 div.sk-text-repr-fallback {display: none;}</style><div id=\"sk-container-id-8\" class=\"sk-top-container\"><div class=\"sk-text-repr-fallback\"><pre>KNeighborsClassifier()</pre><b>In a Jupyter environment, please rerun this cell to show the HTML representation or trust the notebook. <br />On GitHub, the HTML representation is unable to render, please try loading this page with nbviewer.org.</b></div><div class=\"sk-container\" hidden><div class=\"sk-item\"><div class=\"sk-estimator sk-toggleable\"><input class=\"sk-toggleable__control sk-hidden--visually\" id=\"sk-estimator-id-8\" type=\"checkbox\" checked><label for=\"sk-estimator-id-8\" class=\"sk-toggleable__label sk-toggleable__label-arrow\">KNeighborsClassifier</label><div class=\"sk-toggleable__content\"><pre>KNeighborsClassifier()</pre></div></div></div></div></div>"
      ],
      "text/plain": [
       "KNeighborsClassifier()"
      ]
     },
     "execution_count": 59,
     "metadata": {},
     "output_type": "execute_result"
    }
   ],
   "source": [
    "clf = KNeighborsClassifier(n_neighbors=5, weights='uniform')\n",
    "clf.fit(X_train, y_train)"
   ]
  },
  {
   "cell_type": "code",
   "execution_count": 60,
   "id": "0afad62a",
   "metadata": {
    "execution": {
     "iopub.execute_input": "2023-03-08T11:55:29.135826Z",
     "iopub.status.busy": "2023-03-08T11:55:29.135193Z",
     "iopub.status.idle": "2023-03-08T11:55:29.488774Z",
     "shell.execute_reply": "2023-03-08T11:55:29.487763Z"
    },
    "papermill": {
     "duration": 0.372025,
     "end_time": "2023-03-08T11:55:29.491380",
     "exception": false,
     "start_time": "2023-03-08T11:55:29.119355",
     "status": "completed"
    },
    "tags": []
   },
   "outputs": [
    {
     "name": "stdout",
     "output_type": "stream",
     "text": [
      "                                           precision    recall  f1-score   support\n",
      "\n",
      "                    action_thriller_crime       0.31      0.25      0.27       306\n",
      "                                   comedy       0.31      0.46      0.37       404\n",
      "                                    drama       0.35      0.43      0.39       494\n",
      "horror_scifi_mystery_supernatural_fantasy       0.23      0.04      0.07       299\n",
      "\n",
      "                                 accuracy                           0.32      1503\n",
      "                                macro avg       0.30      0.29      0.27      1503\n",
      "                             weighted avg       0.31      0.32      0.30      1503\n",
      "\n"
     ]
    }
   ],
   "source": [
    "y_pred = clf.predict(X_test)\n",
    "print(classification_report(y_test, y_pred))"
   ]
  },
  {
   "cell_type": "code",
   "execution_count": 61,
   "id": "2d709070",
   "metadata": {
    "execution": {
     "iopub.execute_input": "2023-03-08T11:55:29.572526Z",
     "iopub.status.busy": "2023-03-08T11:55:29.571515Z",
     "iopub.status.idle": "2023-03-08T11:55:29.626694Z",
     "shell.execute_reply": "2023-03-08T11:55:29.625530Z"
    },
    "papermill": {
     "duration": 0.099194,
     "end_time": "2023-03-08T11:55:29.630298",
     "exception": false,
     "start_time": "2023-03-08T11:55:29.531104",
     "status": "completed"
    },
    "tags": []
   },
   "outputs": [],
   "source": [
    "acc = accuracy_score(y_test, y_pred)\n",
    "pre = precision_score(y_test, y_pred, average=avg_par)\n",
    "rec = recall_score(y_test, y_pred, average=avg_par)\n",
    "f1 = f1_score(y_test, y_pred, average=avg_par)\n",
    "\n",
    "metrics_data['KNN']['Euclidean'] = {'Accuracy': acc, 'Precision': pre, 'Recall': rec, 'F1': f1}"
   ]
  },
  {
   "cell_type": "markdown",
   "id": "c5ec2a09",
   "metadata": {
    "papermill": {
     "duration": 0.030327,
     "end_time": "2023-03-08T11:55:29.699967",
     "exception": false,
     "start_time": "2023-03-08T11:55:29.669640",
     "status": "completed"
    },
    "tags": []
   },
   "source": [
    "**Dynamic Time Warping**"
   ]
  },
  {
   "cell_type": "code",
   "execution_count": 62,
   "id": "2df913d8",
   "metadata": {
    "execution": {
     "iopub.execute_input": "2023-03-08T11:55:29.730866Z",
     "iopub.status.busy": "2023-03-08T11:55:29.730225Z",
     "iopub.status.idle": "2023-03-08T11:55:29.818015Z",
     "shell.execute_reply": "2023-03-08T11:55:29.817216Z"
    },
    "papermill": {
     "duration": 0.106465,
     "end_time": "2023-03-08T11:55:29.820805",
     "exception": false,
     "start_time": "2023-03-08T11:55:29.714340",
     "status": "completed"
    },
    "tags": []
   },
   "outputs": [],
   "source": [
    "from pyts.classification import KNeighborsClassifier\n",
    "from pyts.approximation import PiecewiseAggregateApproximation\n",
    "from imblearn.under_sampling import ClusterCentroids\n",
    "from sklearn_extra.cluster import KMedoids"
   ]
  },
  {
   "cell_type": "code",
   "execution_count": 63,
   "id": "db1604ec",
   "metadata": {
    "execution": {
     "iopub.execute_input": "2023-03-08T11:55:29.855058Z",
     "iopub.status.busy": "2023-03-08T11:55:29.854396Z",
     "iopub.status.idle": "2023-03-08T11:55:29.860366Z",
     "shell.execute_reply": "2023-03-08T11:55:29.859276Z"
    },
    "papermill": {
     "duration": 0.023443,
     "end_time": "2023-03-08T11:55:29.861989",
     "exception": false,
     "start_time": "2023-03-08T11:55:29.838546",
     "status": "completed"
    },
    "tags": []
   },
   "outputs": [],
   "source": [
    "if paa_window_size:\n",
    "    paa = PiecewiseAggregateApproximation(window_size=paa_window_size)\n",
    "    X_train = paa.transform(X_train)\n",
    "    X_test = paa.transform(X_test)\n",
    "    X_train.shape"
   ]
  },
  {
   "cell_type": "code",
   "execution_count": 64,
   "id": "59fa27aa",
   "metadata": {
    "execution": {
     "iopub.execute_input": "2023-03-08T11:55:29.893262Z",
     "iopub.status.busy": "2023-03-08T11:55:29.892505Z",
     "iopub.status.idle": "2023-03-08T11:55:29.900063Z",
     "shell.execute_reply": "2023-03-08T11:55:29.898946Z"
    },
    "papermill": {
     "duration": 0.025267,
     "end_time": "2023-03-08T11:55:29.901950",
     "exception": false,
     "start_time": "2023-03-08T11:55:29.876683",
     "status": "completed"
    },
    "tags": []
   },
   "outputs": [],
   "source": [
    "if undersampling:\n",
    "    total_samples = len(y_train)\n",
    "    unique_classes, class_counts = np.unique(y_train, return_counts=True)\n",
    "    samp_strat = dict(zip(unique_classes, np.floor(class_counts * undersampling).astype(int)))\n",
    "    print(samp_strat)\n",
    "    cc = ClusterCentroids(estimator=KMedoids(\n",
    "        random_state=42), sampling_strategy=samp_strat, random_state=42)\n",
    "    X_train, y_train = cc.fit_resample(X_train, y_train)\n",
    "    X_train.shape"
   ]
  },
  {
   "cell_type": "code",
   "execution_count": 65,
   "id": "e7ac6b44",
   "metadata": {
    "execution": {
     "iopub.execute_input": "2023-03-08T11:55:29.934661Z",
     "iopub.status.busy": "2023-03-08T11:55:29.933833Z",
     "iopub.status.idle": "2023-03-08T11:55:29.950220Z",
     "shell.execute_reply": "2023-03-08T11:55:29.949475Z"
    },
    "papermill": {
     "duration": 0.035224,
     "end_time": "2023-03-08T11:55:29.952094",
     "exception": false,
     "start_time": "2023-03-08T11:55:29.916870",
     "status": "completed"
    },
    "tags": []
   },
   "outputs": [
    {
     "data": {
      "text/html": [
       "<style>#sk-container-id-9 {color: black;background-color: white;}#sk-container-id-9 pre{padding: 0;}#sk-container-id-9 div.sk-toggleable {background-color: white;}#sk-container-id-9 label.sk-toggleable__label {cursor: pointer;display: block;width: 100%;margin-bottom: 0;padding: 0.3em;box-sizing: border-box;text-align: center;}#sk-container-id-9 label.sk-toggleable__label-arrow:before {content: \"▸\";float: left;margin-right: 0.25em;color: #696969;}#sk-container-id-9 label.sk-toggleable__label-arrow:hover:before {color: black;}#sk-container-id-9 div.sk-estimator:hover label.sk-toggleable__label-arrow:before {color: black;}#sk-container-id-9 div.sk-toggleable__content {max-height: 0;max-width: 0;overflow: hidden;text-align: left;background-color: #f0f8ff;}#sk-container-id-9 div.sk-toggleable__content pre {margin: 0.2em;color: black;border-radius: 0.25em;background-color: #f0f8ff;}#sk-container-id-9 input.sk-toggleable__control:checked~div.sk-toggleable__content {max-height: 200px;max-width: 100%;overflow: auto;}#sk-container-id-9 input.sk-toggleable__control:checked~label.sk-toggleable__label-arrow:before {content: \"▾\";}#sk-container-id-9 div.sk-estimator input.sk-toggleable__control:checked~label.sk-toggleable__label {background-color: #d4ebff;}#sk-container-id-9 div.sk-label input.sk-toggleable__control:checked~label.sk-toggleable__label {background-color: #d4ebff;}#sk-container-id-9 input.sk-hidden--visually {border: 0;clip: rect(1px 1px 1px 1px);clip: rect(1px, 1px, 1px, 1px);height: 1px;margin: -1px;overflow: hidden;padding: 0;position: absolute;width: 1px;}#sk-container-id-9 div.sk-estimator {font-family: monospace;background-color: #f0f8ff;border: 1px dotted black;border-radius: 0.25em;box-sizing: border-box;margin-bottom: 0.5em;}#sk-container-id-9 div.sk-estimator:hover {background-color: #d4ebff;}#sk-container-id-9 div.sk-parallel-item::after {content: \"\";width: 100%;border-bottom: 1px solid gray;flex-grow: 1;}#sk-container-id-9 div.sk-label:hover label.sk-toggleable__label {background-color: #d4ebff;}#sk-container-id-9 div.sk-serial::before {content: \"\";position: absolute;border-left: 1px solid gray;box-sizing: border-box;top: 0;bottom: 0;left: 50%;z-index: 0;}#sk-container-id-9 div.sk-serial {display: flex;flex-direction: column;align-items: center;background-color: white;padding-right: 0.2em;padding-left: 0.2em;position: relative;}#sk-container-id-9 div.sk-item {position: relative;z-index: 1;}#sk-container-id-9 div.sk-parallel {display: flex;align-items: stretch;justify-content: center;background-color: white;position: relative;}#sk-container-id-9 div.sk-item::before, #sk-container-id-9 div.sk-parallel-item::before {content: \"\";position: absolute;border-left: 1px solid gray;box-sizing: border-box;top: 0;bottom: 0;left: 50%;z-index: -1;}#sk-container-id-9 div.sk-parallel-item {display: flex;flex-direction: column;z-index: 1;position: relative;background-color: white;}#sk-container-id-9 div.sk-parallel-item:first-child::after {align-self: flex-end;width: 50%;}#sk-container-id-9 div.sk-parallel-item:last-child::after {align-self: flex-start;width: 50%;}#sk-container-id-9 div.sk-parallel-item:only-child::after {width: 0;}#sk-container-id-9 div.sk-dashed-wrapped {border: 1px dashed gray;margin: 0 0.4em 0.5em 0.4em;box-sizing: border-box;padding-bottom: 0.4em;background-color: white;}#sk-container-id-9 div.sk-label label {font-family: monospace;font-weight: bold;display: inline-block;line-height: 1.2em;}#sk-container-id-9 div.sk-label-container {text-align: center;}#sk-container-id-9 div.sk-container {/* jupyter's `normalize.less` sets `[hidden] { display: none; }` but bootstrap.min.css set `[hidden] { display: none !important; }` so we also need the `!important` here to be able to override the default hidden behavior on the sphinx rendered scikit-learn.org. See: https://github.com/scikit-learn/scikit-learn/issues/21755 */display: inline-block !important;position: relative;}#sk-container-id-9 div.sk-text-repr-fallback {display: none;}</style><div id=\"sk-container-id-9\" class=\"sk-top-container\"><div class=\"sk-text-repr-fallback\"><pre>KNeighborsClassifier(metric=&#x27;dtw_sakoechiba&#x27;, metric_params={&#x27;window_size&#x27;: 3})</pre><b>In a Jupyter environment, please rerun this cell to show the HTML representation or trust the notebook. <br />On GitHub, the HTML representation is unable to render, please try loading this page with nbviewer.org.</b></div><div class=\"sk-container\" hidden><div class=\"sk-item\"><div class=\"sk-estimator sk-toggleable\"><input class=\"sk-toggleable__control sk-hidden--visually\" id=\"sk-estimator-id-9\" type=\"checkbox\" checked><label for=\"sk-estimator-id-9\" class=\"sk-toggleable__label sk-toggleable__label-arrow\">KNeighborsClassifier</label><div class=\"sk-toggleable__content\"><pre>KNeighborsClassifier(metric=&#x27;dtw_sakoechiba&#x27;, metric_params={&#x27;window_size&#x27;: 3})</pre></div></div></div></div></div>"
      ],
      "text/plain": [
       "KNeighborsClassifier(metric='dtw_sakoechiba', metric_params={'window_size': 3})"
      ]
     },
     "execution_count": 65,
     "metadata": {},
     "output_type": "execute_result"
    }
   ],
   "source": [
    "clf = KNeighborsClassifier(metric='dtw_sakoechiba',  metric_params={'window_size':3})\n",
    "\n",
    "clf.fit(X_train, y_train)"
   ]
  },
  {
   "cell_type": "code",
   "execution_count": 66,
   "id": "8109d19d",
   "metadata": {
    "execution": {
     "iopub.execute_input": "2023-03-08T11:55:29.985224Z",
     "iopub.status.busy": "2023-03-08T11:55:29.984513Z",
     "iopub.status.idle": "2023-03-08T12:23:08.871836Z",
     "shell.execute_reply": "2023-03-08T12:23:08.870821Z"
    },
    "papermill": {
     "duration": 1658.946779,
     "end_time": "2023-03-08T12:23:08.915391",
     "exception": false,
     "start_time": "2023-03-08T11:55:29.968612",
     "status": "completed"
    },
    "tags": []
   },
   "outputs": [
    {
     "name": "stdout",
     "output_type": "stream",
     "text": [
      "                                           precision    recall  f1-score   support\n",
      "\n",
      "                    action_thriller_crime       0.26      0.27      0.27       306\n",
      "                                   comedy       0.31      0.34      0.32       404\n",
      "                                    drama       0.37      0.38      0.38       494\n",
      "horror_scifi_mystery_supernatural_fantasy       0.29      0.22      0.25       299\n",
      "\n",
      "                                 accuracy                           0.32      1503\n",
      "                                macro avg       0.31      0.30      0.30      1503\n",
      "                             weighted avg       0.32      0.32      0.31      1503\n",
      "\n",
      "CPU times: user 27min 39s, sys: 43.5 ms, total: 27min 39s\n",
      "Wall time: 27min 38s\n"
     ]
    }
   ],
   "source": [
    "%%time\n",
    "y_pred = clf.predict(X_test)\n",
    "print(classification_report(y_test, y_pred))"
   ]
  },
  {
   "cell_type": "code",
   "execution_count": 67,
   "id": "b09f5cdf",
   "metadata": {
    "execution": {
     "iopub.execute_input": "2023-03-08T12:23:08.971840Z",
     "iopub.status.busy": "2023-03-08T12:23:08.970945Z",
     "iopub.status.idle": "2023-03-08T12:23:09.002137Z",
     "shell.execute_reply": "2023-03-08T12:23:09.000999Z"
    },
    "papermill": {
     "duration": 0.051223,
     "end_time": "2023-03-08T12:23:09.004338",
     "exception": false,
     "start_time": "2023-03-08T12:23:08.953115",
     "status": "completed"
    },
    "tags": []
   },
   "outputs": [],
   "source": [
    "acc = accuracy_score(y_test, y_pred)\n",
    "pre = precision_score(y_test, y_pred, average=avg_par)\n",
    "rec = recall_score(y_test, y_pred, average=avg_par)\n",
    "f1 = f1_score(y_test, y_pred, average=avg_par)\n",
    "\n",
    "metrics_data['KNN']['DTW'] = {'Accuracy': acc, 'Precision': pre, 'Recall': rec, 'F1': f1}"
   ]
  },
  {
   "cell_type": "markdown",
   "id": "e0e700a7",
   "metadata": {
    "papermill": {
     "duration": 0.014568,
     "end_time": "2023-03-08T12:23:09.036072",
     "exception": false,
     "start_time": "2023-03-08T12:23:09.021504",
     "status": "completed"
    },
    "tags": []
   },
   "source": [
    "## Overall Results"
   ]
  },
  {
   "cell_type": "code",
   "execution_count": 68,
   "id": "d003c193",
   "metadata": {
    "execution": {
     "iopub.execute_input": "2023-03-08T12:23:09.067518Z",
     "iopub.status.busy": "2023-03-08T12:23:09.066719Z",
     "iopub.status.idle": "2023-03-08T12:23:09.077455Z",
     "shell.execute_reply": "2023-03-08T12:23:09.076064Z"
    },
    "papermill": {
     "duration": 0.028961,
     "end_time": "2023-03-08T12:23:09.079607",
     "exception": false,
     "start_time": "2023-03-08T12:23:09.050646",
     "status": "completed"
    },
    "tags": []
   },
   "outputs": [],
   "source": [
    "metrics_data = pd.DataFrame.from_dict({(i,j): metrics_data[i][j] \n",
    "                                       for i in metrics_data.keys() \n",
    "                                       for j in metrics_data[i].keys()},\n",
    "                                       orient='index')"
   ]
  },
  {
   "cell_type": "code",
   "execution_count": 69,
   "id": "0944fe84",
   "metadata": {
    "execution": {
     "iopub.execute_input": "2023-03-08T12:23:09.111968Z",
     "iopub.status.busy": "2023-03-08T12:23:09.111500Z",
     "iopub.status.idle": "2023-03-08T12:23:09.179358Z",
     "shell.execute_reply": "2023-03-08T12:23:09.178055Z"
    },
    "papermill": {
     "duration": 0.087208,
     "end_time": "2023-03-08T12:23:09.182680",
     "exception": false,
     "start_time": "2023-03-08T12:23:09.095472",
     "status": "completed"
    },
    "tags": []
   },
   "outputs": [],
   "source": [
    "acc = accuracy_score(y_test, y_pred)\n",
    "pre = precision_score(y_test, y_pred, average=avg_par)\n",
    "rec = recall_score(y_test, y_pred, average=avg_par)\n",
    "f1 = f1_score(y_test, y_pred, average=avg_par)"
   ]
  },
  {
   "cell_type": "code",
   "execution_count": 70,
   "id": "7ee1b347",
   "metadata": {
    "execution": {
     "iopub.execute_input": "2023-03-08T12:23:09.256469Z",
     "iopub.status.busy": "2023-03-08T12:23:09.256001Z",
     "iopub.status.idle": "2023-03-08T12:23:09.276115Z",
     "shell.execute_reply": "2023-03-08T12:23:09.274586Z"
    },
    "papermill": {
     "duration": 0.058343,
     "end_time": "2023-03-08T12:23:09.279127",
     "exception": false,
     "start_time": "2023-03-08T12:23:09.220784",
     "status": "completed"
    },
    "tags": []
   },
   "outputs": [
    {
     "data": {
      "text/html": [
       "<div>\n",
       "<style scoped>\n",
       "    .dataframe tbody tr th:only-of-type {\n",
       "        vertical-align: middle;\n",
       "    }\n",
       "\n",
       "    .dataframe tbody tr th {\n",
       "        vertical-align: top;\n",
       "    }\n",
       "\n",
       "    .dataframe thead th {\n",
       "        text-align: right;\n",
       "    }\n",
       "</style>\n",
       "<table border=\"1\" class=\"dataframe\">\n",
       "  <thead>\n",
       "    <tr style=\"text-align: right;\">\n",
       "      <th></th>\n",
       "      <th></th>\n",
       "      <th>Accuracy</th>\n",
       "      <th>Precision</th>\n",
       "      <th>Recall</th>\n",
       "      <th>F1</th>\n",
       "    </tr>\n",
       "  </thead>\n",
       "  <tbody>\n",
       "    <tr>\n",
       "      <th rowspan=\"3\" valign=\"top\">Global</th>\n",
       "      <th>DecisionTree</th>\n",
       "      <td>0.430472</td>\n",
       "      <td>0.432695</td>\n",
       "      <td>0.427857</td>\n",
       "      <td>0.429622</td>\n",
       "    </tr>\n",
       "    <tr>\n",
       "      <th>RandomForest</th>\n",
       "      <td>0.596806</td>\n",
       "      <td>0.618430</td>\n",
       "      <td>0.590794</td>\n",
       "      <td>0.600809</td>\n",
       "    </tr>\n",
       "    <tr>\n",
       "      <th>LightGBM</th>\n",
       "      <td>0.640719</td>\n",
       "      <td>0.650140</td>\n",
       "      <td>0.638210</td>\n",
       "      <td>0.642779</td>\n",
       "    </tr>\n",
       "    <tr>\n",
       "      <th rowspan=\"3\" valign=\"top\">Shapelets</th>\n",
       "      <th>DecisionTree</th>\n",
       "      <td>0.294744</td>\n",
       "      <td>0.287145</td>\n",
       "      <td>0.287010</td>\n",
       "      <td>0.286705</td>\n",
       "    </tr>\n",
       "    <tr>\n",
       "      <th>RandomForest</th>\n",
       "      <td>0.367265</td>\n",
       "      <td>0.349498</td>\n",
       "      <td>0.346733</td>\n",
       "      <td>0.332433</td>\n",
       "    </tr>\n",
       "    <tr>\n",
       "      <th>LightGBM</th>\n",
       "      <td>0.351297</td>\n",
       "      <td>0.328089</td>\n",
       "      <td>0.329945</td>\n",
       "      <td>0.321506</td>\n",
       "    </tr>\n",
       "    <tr>\n",
       "      <th rowspan=\"2\" valign=\"top\">KNN</th>\n",
       "      <th>Euclidean</th>\n",
       "      <td>0.322688</td>\n",
       "      <td>0.299195</td>\n",
       "      <td>0.294005</td>\n",
       "      <td>0.274436</td>\n",
       "    </tr>\n",
       "    <tr>\n",
       "      <th>DTW</th>\n",
       "      <td>0.316700</td>\n",
       "      <td>0.307088</td>\n",
       "      <td>0.303925</td>\n",
       "      <td>0.304221</td>\n",
       "    </tr>\n",
       "  </tbody>\n",
       "</table>\n",
       "</div>"
      ],
      "text/plain": [
       "                        Accuracy  Precision    Recall        F1\n",
       "Global    DecisionTree  0.430472   0.432695  0.427857  0.429622\n",
       "          RandomForest  0.596806   0.618430  0.590794  0.600809\n",
       "          LightGBM      0.640719   0.650140  0.638210  0.642779\n",
       "Shapelets DecisionTree  0.294744   0.287145  0.287010  0.286705\n",
       "          RandomForest  0.367265   0.349498  0.346733  0.332433\n",
       "          LightGBM      0.351297   0.328089  0.329945  0.321506\n",
       "KNN       Euclidean     0.322688   0.299195  0.294005  0.274436\n",
       "          DTW           0.316700   0.307088  0.303925  0.304221"
      ]
     },
     "execution_count": 70,
     "metadata": {},
     "output_type": "execute_result"
    }
   ],
   "source": [
    "metrics_data"
   ]
  },
  {
   "cell_type": "code",
   "execution_count": 71,
   "id": "3efc173e",
   "metadata": {
    "execution": {
     "iopub.execute_input": "2023-03-08T12:23:09.330078Z",
     "iopub.status.busy": "2023-03-08T12:23:09.329610Z",
     "iopub.status.idle": "2023-03-08T12:23:09.339439Z",
     "shell.execute_reply": "2023-03-08T12:23:09.338165Z"
    },
    "papermill": {
     "duration": 0.030944,
     "end_time": "2023-03-08T12:23:09.341587",
     "exception": false,
     "start_time": "2023-03-08T12:23:09.310643",
     "status": "completed"
    },
    "tags": []
   },
   "outputs": [],
   "source": [
    "metrics_data.to_csv(f'{data_path}/metrics.csv')"
   ]
  },
  {
   "cell_type": "code",
   "execution_count": null,
   "id": "d21f5304",
   "metadata": {
    "papermill": {
     "duration": 0.01477,
     "end_time": "2023-03-08T12:23:09.371991",
     "exception": false,
     "start_time": "2023-03-08T12:23:09.357221",
     "status": "completed"
    },
    "tags": []
   },
   "outputs": [],
   "source": []
  }
 ],
 "metadata": {
  "celltoolbar": "Tags",
  "kernelspec": {
   "display_name": "Python 3 (ipykernel)",
   "language": "python",
   "name": "python3"
  },
  "language_info": {
   "codemirror_mode": {
    "name": "ipython",
    "version": 3
   },
   "file_extension": ".py",
   "mimetype": "text/x-python",
   "name": "python",
   "nbconvert_exporter": "python",
   "pygments_lexer": "ipython3",
   "version": "3.9.16"
  },
  "papermill": {
   "default_parameters": {},
   "duration": 2232.569397,
   "end_time": "2023-03-08T12:23:12.472920",
   "environment_variables": {},
   "exception": null,
   "input_path": "09_ts_classification.ipynb",
   "output_path": "../clf-reports/movie-plots_sbert.ipynb",
   "parameters": {
    "data_path": "/home/mattiapggioli/lyrics2ts/data/classification/movie-plots/sbert/"
   },
   "start_time": "2023-03-08T11:45:59.903523",
   "version": "2.4.0"
  },
  "vscode": {
   "interpreter": {
    "hash": "eb8d1ded7c87c6f9c253b40add648304d6b51d2e38393955e855effc7e6f899a"
   }
  }
 },
 "nbformat": 4,
 "nbformat_minor": 5
}