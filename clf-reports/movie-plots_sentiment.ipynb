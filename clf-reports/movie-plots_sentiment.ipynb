{
 "cells": [
  {
   "cell_type": "markdown",
   "id": "d79a68c5",
   "metadata": {
    "papermill": {
     "duration": 0.024617,
     "end_time": "2023-03-08T12:29:49.162759",
     "exception": false,
     "start_time": "2023-03-08T12:29:49.138142",
     "status": "completed"
    },
    "tags": []
   },
   "source": [
    "# Time Series Classification"
   ]
  },
  {
   "cell_type": "code",
   "execution_count": 1,
   "id": "8a0cb2b0",
   "metadata": {
    "execution": {
     "iopub.execute_input": "2023-03-08T12:29:49.189585Z",
     "iopub.status.busy": "2023-03-08T12:29:49.189141Z",
     "iopub.status.idle": "2023-03-08T12:29:50.498747Z",
     "shell.execute_reply": "2023-03-08T12:29:50.497945Z"
    },
    "papermill": {
     "duration": 1.325928,
     "end_time": "2023-03-08T12:29:50.501120",
     "exception": false,
     "start_time": "2023-03-08T12:29:49.175192",
     "status": "completed"
    },
    "tags": []
   },
   "outputs": [],
   "source": [
    "%matplotlib inline\n",
    "import pandas as pd\n",
    "import numpy as np\n",
    "import matplotlib.pyplot as plt\n",
    "import seaborn as sns\n",
    "import re\n",
    "import os\n",
    "from sklearn.preprocessing import StandardScaler\n",
    "from sklearn.decomposition import PCA\n",
    "import joblib\n",
    "from tslearn.utils import to_time_series_dataset, save_time_series_txt, load_time_series_txt\n",
    "import random\n",
    "from sklearn.model_selection import train_test_split\n",
    "from sklearn.metrics import accuracy_score, f1_score, precision_score, recall_score, classification_report\n",
    "import pickle"
   ]
  },
  {
   "cell_type": "code",
   "execution_count": 2,
   "id": "acc03405",
   "metadata": {
    "execution": {
     "iopub.execute_input": "2023-03-08T12:29:50.533509Z",
     "iopub.status.busy": "2023-03-08T12:29:50.533068Z",
     "iopub.status.idle": "2023-03-08T12:29:50.537692Z",
     "shell.execute_reply": "2023-03-08T12:29:50.536870Z"
    },
    "papermill": {
     "duration": 0.019918,
     "end_time": "2023-03-08T12:29:50.539393",
     "exception": false,
     "start_time": "2023-03-08T12:29:50.519475",
     "status": "completed"
    },
    "tags": [
     "parameters"
    ]
   },
   "outputs": [],
   "source": [
    "data_path = '/home/mattiapggioli/lyrics2ts/data/classification/20ng/sbert/'\n",
    "truncate=100\n",
    "max_iter = 2000\n",
    "paa_window_size = None\n",
    "undersampling = None"
   ]
  },
  {
   "cell_type": "code",
   "execution_count": 3,
   "id": "dc420dac",
   "metadata": {
    "execution": {
     "iopub.execute_input": "2023-03-08T12:29:50.565931Z",
     "iopub.status.busy": "2023-03-08T12:29:50.565476Z",
     "iopub.status.idle": "2023-03-08T12:29:50.570367Z",
     "shell.execute_reply": "2023-03-08T12:29:50.569385Z"
    },
    "papermill": {
     "duration": 0.020039,
     "end_time": "2023-03-08T12:29:50.572027",
     "exception": false,
     "start_time": "2023-03-08T12:29:50.551988",
     "status": "completed"
    },
    "tags": [
     "injected-parameters"
    ]
   },
   "outputs": [],
   "source": [
    "# Parameters\n",
    "data_path = \"/home/mattiapggioli/lyrics2ts/data/classification/movie-plots/sentiment/\"\n"
   ]
  },
  {
   "cell_type": "code",
   "execution_count": 4,
   "id": "a4f0c774",
   "metadata": {
    "execution": {
     "iopub.execute_input": "2023-03-08T12:29:50.595054Z",
     "iopub.status.busy": "2023-03-08T12:29:50.594586Z",
     "iopub.status.idle": "2023-03-08T12:30:12.965118Z",
     "shell.execute_reply": "2023-03-08T12:30:12.964199Z"
    },
    "papermill": {
     "duration": 22.385086,
     "end_time": "2023-03-08T12:30:12.968053",
     "exception": false,
     "start_time": "2023-03-08T12:29:50.582967",
     "status": "completed"
    },
    "tags": []
   },
   "outputs": [],
   "source": [
    "ts = load_time_series_txt(f'{data_path}/ts.txt')"
   ]
  },
  {
   "cell_type": "code",
   "execution_count": 5,
   "id": "5c48d154",
   "metadata": {
    "execution": {
     "iopub.execute_input": "2023-03-08T12:30:13.029416Z",
     "iopub.status.busy": "2023-03-08T12:30:13.029120Z",
     "iopub.status.idle": "2023-03-08T12:30:13.035837Z",
     "shell.execute_reply": "2023-03-08T12:30:13.034898Z"
    },
    "papermill": {
     "duration": 0.039683,
     "end_time": "2023-03-08T12:30:13.037646",
     "exception": false,
     "start_time": "2023-03-08T12:30:12.997963",
     "status": "completed"
    },
    "tags": []
   },
   "outputs": [
    {
     "data": {
      "text/plain": [
       "(7512, 412, 1)"
      ]
     },
     "execution_count": 5,
     "metadata": {},
     "output_type": "execute_result"
    }
   ],
   "source": [
    "ts.shape"
   ]
  },
  {
   "cell_type": "code",
   "execution_count": 6,
   "id": "f6274d40",
   "metadata": {
    "execution": {
     "iopub.execute_input": "2023-03-08T12:30:13.062494Z",
     "iopub.status.busy": "2023-03-08T12:30:13.061914Z",
     "iopub.status.idle": "2023-03-08T12:30:13.069013Z",
     "shell.execute_reply": "2023-03-08T12:30:13.067922Z"
    },
    "papermill": {
     "duration": 0.020916,
     "end_time": "2023-03-08T12:30:13.070815",
     "exception": false,
     "start_time": "2023-03-08T12:30:13.049899",
     "status": "completed"
    },
    "tags": []
   },
   "outputs": [],
   "source": [
    "with open(f'{data_path}/y_class.npy', 'rb') as f:\n",
    "    y = np.load(f, allow_pickle=True)"
   ]
  },
  {
   "cell_type": "code",
   "execution_count": 7,
   "id": "9d42fa3b",
   "metadata": {
    "execution": {
     "iopub.execute_input": "2023-03-08T12:30:13.092867Z",
     "iopub.status.busy": "2023-03-08T12:30:13.092621Z",
     "iopub.status.idle": "2023-03-08T12:30:13.098125Z",
     "shell.execute_reply": "2023-03-08T12:30:13.097355Z"
    },
    "papermill": {
     "duration": 0.018572,
     "end_time": "2023-03-08T12:30:13.099859",
     "exception": false,
     "start_time": "2023-03-08T12:30:13.081287",
     "status": "completed"
    },
    "tags": []
   },
   "outputs": [],
   "source": [
    "with open(f'{data_path}/X.npy', 'rb') as f:\n",
    "    X = np.load(f, allow_pickle=True)"
   ]
  },
  {
   "cell_type": "code",
   "execution_count": 8,
   "id": "1158a9da",
   "metadata": {
    "execution": {
     "iopub.execute_input": "2023-03-08T12:30:13.125335Z",
     "iopub.status.busy": "2023-03-08T12:30:13.124558Z",
     "iopub.status.idle": "2023-03-08T12:30:13.131601Z",
     "shell.execute_reply": "2023-03-08T12:30:13.130755Z"
    },
    "papermill": {
     "duration": 0.0208,
     "end_time": "2023-03-08T12:30:13.133214",
     "exception": false,
     "start_time": "2023-03-08T12:30:13.112414",
     "status": "completed"
    },
    "tags": []
   },
   "outputs": [
    {
     "data": {
      "text/plain": [
       "(7512, 6)"
      ]
     },
     "execution_count": 8,
     "metadata": {},
     "output_type": "execute_result"
    }
   ],
   "source": [
    "X.shape"
   ]
  },
  {
   "cell_type": "code",
   "execution_count": 9,
   "id": "47239790",
   "metadata": {
    "execution": {
     "iopub.execute_input": "2023-03-08T12:30:13.156436Z",
     "iopub.status.busy": "2023-03-08T12:30:13.156193Z",
     "iopub.status.idle": "2023-03-08T12:30:13.161669Z",
     "shell.execute_reply": "2023-03-08T12:30:13.160845Z"
    },
    "papermill": {
     "duration": 0.019372,
     "end_time": "2023-03-08T12:30:13.163350",
     "exception": false,
     "start_time": "2023-03-08T12:30:13.143978",
     "status": "completed"
    },
    "tags": []
   },
   "outputs": [
    {
     "data": {
      "text/plain": [
       "{'action_thriller_crime',\n",
       " 'comedy',\n",
       " 'drama',\n",
       " 'horror_scifi_mystery_supernatural_fantasy'}"
      ]
     },
     "execution_count": 9,
     "metadata": {},
     "output_type": "execute_result"
    }
   ],
   "source": [
    "set(y)"
   ]
  },
  {
   "cell_type": "code",
   "execution_count": 10,
   "id": "37609992",
   "metadata": {
    "execution": {
     "iopub.execute_input": "2023-03-08T12:30:13.187748Z",
     "iopub.status.busy": "2023-03-08T12:30:13.187482Z",
     "iopub.status.idle": "2023-03-08T12:30:13.201890Z",
     "shell.execute_reply": "2023-03-08T12:30:13.201044Z"
    },
    "papermill": {
     "duration": 0.027819,
     "end_time": "2023-03-08T12:30:13.203655",
     "exception": false,
     "start_time": "2023-03-08T12:30:13.175836",
     "status": "completed"
    },
    "tags": []
   },
   "outputs": [],
   "source": [
    "ts_train, ts_test, y_train, y_test = train_test_split(ts, y, test_size=0.20, random_state=42)"
   ]
  },
  {
   "cell_type": "code",
   "execution_count": 11,
   "id": "34508fe4",
   "metadata": {
    "execution": {
     "iopub.execute_input": "2023-03-08T12:30:13.227118Z",
     "iopub.status.busy": "2023-03-08T12:30:13.226239Z",
     "iopub.status.idle": "2023-03-08T12:30:13.233475Z",
     "shell.execute_reply": "2023-03-08T12:30:13.232317Z"
    },
    "papermill": {
     "duration": 0.020961,
     "end_time": "2023-03-08T12:30:13.235313",
     "exception": false,
     "start_time": "2023-03-08T12:30:13.214352",
     "status": "completed"
    },
    "tags": []
   },
   "outputs": [],
   "source": [
    "X_train, X_test, y_train, y_test = train_test_split(X, y, test_size=0.20, random_state=42)"
   ]
  },
  {
   "cell_type": "code",
   "execution_count": 12,
   "id": "076afac9",
   "metadata": {
    "execution": {
     "iopub.execute_input": "2023-03-08T12:30:13.260019Z",
     "iopub.status.busy": "2023-03-08T12:30:13.259004Z",
     "iopub.status.idle": "2023-03-08T12:30:13.287213Z",
     "shell.execute_reply": "2023-03-08T12:30:13.285687Z"
    },
    "papermill": {
     "duration": 0.043002,
     "end_time": "2023-03-08T12:30:13.289200",
     "exception": false,
     "start_time": "2023-03-08T12:30:13.246198",
     "status": "completed"
    },
    "tags": []
   },
   "outputs": [
    {
     "data": {
      "text/plain": [
       "array([[-0.2263],\n",
       "       [ 0.    ],\n",
       "       [-0.4005],\n",
       "       [-0.5719],\n",
       "       [ 0.    ],\n",
       "       [-0.1531],\n",
       "       [-0.4588],\n",
       "       [-0.3612],\n",
       "       [-0.296 ],\n",
       "       [-0.836 ],\n",
       "       [-0.0772],\n",
       "       [-0.4588],\n",
       "       [-0.5719],\n",
       "       [-0.7506],\n",
       "       [ 0.    ],\n",
       "       [ 0.    ],\n",
       "       [-0.5719],\n",
       "       [-0.296 ],\n",
       "       [ 0.1531],\n",
       "       [-0.34  ],\n",
       "       [ 0.    ],\n",
       "       [ 0.    ],\n",
       "       [ 0.0258],\n",
       "       [    nan],\n",
       "       [    nan],\n",
       "       [    nan],\n",
       "       [    nan],\n",
       "       [    nan],\n",
       "       [    nan],\n",
       "       [    nan],\n",
       "       [    nan],\n",
       "       [    nan],\n",
       "       [    nan],\n",
       "       [    nan],\n",
       "       [    nan],\n",
       "       [    nan],\n",
       "       [    nan],\n",
       "       [    nan],\n",
       "       [    nan],\n",
       "       [    nan],\n",
       "       [    nan],\n",
       "       [    nan],\n",
       "       [    nan],\n",
       "       [    nan],\n",
       "       [    nan],\n",
       "       [    nan],\n",
       "       [    nan],\n",
       "       [    nan],\n",
       "       [    nan],\n",
       "       [    nan],\n",
       "       [    nan],\n",
       "       [    nan],\n",
       "       [    nan],\n",
       "       [    nan],\n",
       "       [    nan],\n",
       "       [    nan],\n",
       "       [    nan],\n",
       "       [    nan],\n",
       "       [    nan],\n",
       "       [    nan],\n",
       "       [    nan],\n",
       "       [    nan],\n",
       "       [    nan],\n",
       "       [    nan],\n",
       "       [    nan],\n",
       "       [    nan],\n",
       "       [    nan],\n",
       "       [    nan],\n",
       "       [    nan],\n",
       "       [    nan],\n",
       "       [    nan],\n",
       "       [    nan],\n",
       "       [    nan],\n",
       "       [    nan],\n",
       "       [    nan],\n",
       "       [    nan],\n",
       "       [    nan],\n",
       "       [    nan],\n",
       "       [    nan],\n",
       "       [    nan],\n",
       "       [    nan],\n",
       "       [    nan],\n",
       "       [    nan],\n",
       "       [    nan],\n",
       "       [    nan],\n",
       "       [    nan],\n",
       "       [    nan],\n",
       "       [    nan],\n",
       "       [    nan],\n",
       "       [    nan],\n",
       "       [    nan],\n",
       "       [    nan],\n",
       "       [    nan],\n",
       "       [    nan],\n",
       "       [    nan],\n",
       "       [    nan],\n",
       "       [    nan],\n",
       "       [    nan],\n",
       "       [    nan],\n",
       "       [    nan],\n",
       "       [    nan],\n",
       "       [    nan],\n",
       "       [    nan],\n",
       "       [    nan],\n",
       "       [    nan],\n",
       "       [    nan],\n",
       "       [    nan],\n",
       "       [    nan],\n",
       "       [    nan],\n",
       "       [    nan],\n",
       "       [    nan],\n",
       "       [    nan],\n",
       "       [    nan],\n",
       "       [    nan],\n",
       "       [    nan],\n",
       "       [    nan],\n",
       "       [    nan],\n",
       "       [    nan],\n",
       "       [    nan],\n",
       "       [    nan],\n",
       "       [    nan],\n",
       "       [    nan],\n",
       "       [    nan],\n",
       "       [    nan],\n",
       "       [    nan],\n",
       "       [    nan],\n",
       "       [    nan],\n",
       "       [    nan],\n",
       "       [    nan],\n",
       "       [    nan],\n",
       "       [    nan],\n",
       "       [    nan],\n",
       "       [    nan],\n",
       "       [    nan],\n",
       "       [    nan],\n",
       "       [    nan],\n",
       "       [    nan],\n",
       "       [    nan],\n",
       "       [    nan],\n",
       "       [    nan],\n",
       "       [    nan],\n",
       "       [    nan],\n",
       "       [    nan],\n",
       "       [    nan],\n",
       "       [    nan],\n",
       "       [    nan],\n",
       "       [    nan],\n",
       "       [    nan],\n",
       "       [    nan],\n",
       "       [    nan],\n",
       "       [    nan],\n",
       "       [    nan],\n",
       "       [    nan],\n",
       "       [    nan],\n",
       "       [    nan],\n",
       "       [    nan],\n",
       "       [    nan],\n",
       "       [    nan],\n",
       "       [    nan],\n",
       "       [    nan],\n",
       "       [    nan],\n",
       "       [    nan],\n",
       "       [    nan],\n",
       "       [    nan],\n",
       "       [    nan],\n",
       "       [    nan],\n",
       "       [    nan],\n",
       "       [    nan],\n",
       "       [    nan],\n",
       "       [    nan],\n",
       "       [    nan],\n",
       "       [    nan],\n",
       "       [    nan],\n",
       "       [    nan],\n",
       "       [    nan],\n",
       "       [    nan],\n",
       "       [    nan],\n",
       "       [    nan],\n",
       "       [    nan],\n",
       "       [    nan],\n",
       "       [    nan],\n",
       "       [    nan],\n",
       "       [    nan],\n",
       "       [    nan],\n",
       "       [    nan],\n",
       "       [    nan],\n",
       "       [    nan],\n",
       "       [    nan],\n",
       "       [    nan],\n",
       "       [    nan],\n",
       "       [    nan],\n",
       "       [    nan],\n",
       "       [    nan],\n",
       "       [    nan],\n",
       "       [    nan],\n",
       "       [    nan],\n",
       "       [    nan],\n",
       "       [    nan],\n",
       "       [    nan],\n",
       "       [    nan],\n",
       "       [    nan],\n",
       "       [    nan],\n",
       "       [    nan],\n",
       "       [    nan],\n",
       "       [    nan],\n",
       "       [    nan],\n",
       "       [    nan],\n",
       "       [    nan],\n",
       "       [    nan],\n",
       "       [    nan],\n",
       "       [    nan],\n",
       "       [    nan],\n",
       "       [    nan],\n",
       "       [    nan],\n",
       "       [    nan],\n",
       "       [    nan],\n",
       "       [    nan],\n",
       "       [    nan],\n",
       "       [    nan],\n",
       "       [    nan],\n",
       "       [    nan],\n",
       "       [    nan],\n",
       "       [    nan],\n",
       "       [    nan],\n",
       "       [    nan],\n",
       "       [    nan],\n",
       "       [    nan],\n",
       "       [    nan],\n",
       "       [    nan],\n",
       "       [    nan],\n",
       "       [    nan],\n",
       "       [    nan],\n",
       "       [    nan],\n",
       "       [    nan],\n",
       "       [    nan],\n",
       "       [    nan],\n",
       "       [    nan],\n",
       "       [    nan],\n",
       "       [    nan],\n",
       "       [    nan],\n",
       "       [    nan],\n",
       "       [    nan],\n",
       "       [    nan],\n",
       "       [    nan],\n",
       "       [    nan],\n",
       "       [    nan],\n",
       "       [    nan],\n",
       "       [    nan],\n",
       "       [    nan],\n",
       "       [    nan],\n",
       "       [    nan],\n",
       "       [    nan],\n",
       "       [    nan],\n",
       "       [    nan],\n",
       "       [    nan],\n",
       "       [    nan],\n",
       "       [    nan],\n",
       "       [    nan],\n",
       "       [    nan],\n",
       "       [    nan],\n",
       "       [    nan],\n",
       "       [    nan],\n",
       "       [    nan],\n",
       "       [    nan],\n",
       "       [    nan],\n",
       "       [    nan],\n",
       "       [    nan],\n",
       "       [    nan],\n",
       "       [    nan],\n",
       "       [    nan],\n",
       "       [    nan],\n",
       "       [    nan],\n",
       "       [    nan],\n",
       "       [    nan],\n",
       "       [    nan],\n",
       "       [    nan],\n",
       "       [    nan],\n",
       "       [    nan],\n",
       "       [    nan],\n",
       "       [    nan],\n",
       "       [    nan],\n",
       "       [    nan],\n",
       "       [    nan],\n",
       "       [    nan],\n",
       "       [    nan],\n",
       "       [    nan],\n",
       "       [    nan],\n",
       "       [    nan],\n",
       "       [    nan],\n",
       "       [    nan],\n",
       "       [    nan],\n",
       "       [    nan],\n",
       "       [    nan],\n",
       "       [    nan],\n",
       "       [    nan],\n",
       "       [    nan],\n",
       "       [    nan],\n",
       "       [    nan],\n",
       "       [    nan],\n",
       "       [    nan],\n",
       "       [    nan],\n",
       "       [    nan],\n",
       "       [    nan],\n",
       "       [    nan],\n",
       "       [    nan],\n",
       "       [    nan],\n",
       "       [    nan],\n",
       "       [    nan],\n",
       "       [    nan],\n",
       "       [    nan],\n",
       "       [    nan],\n",
       "       [    nan],\n",
       "       [    nan],\n",
       "       [    nan],\n",
       "       [    nan],\n",
       "       [    nan],\n",
       "       [    nan],\n",
       "       [    nan],\n",
       "       [    nan],\n",
       "       [    nan],\n",
       "       [    nan],\n",
       "       [    nan],\n",
       "       [    nan],\n",
       "       [    nan],\n",
       "       [    nan],\n",
       "       [    nan],\n",
       "       [    nan],\n",
       "       [    nan],\n",
       "       [    nan],\n",
       "       [    nan],\n",
       "       [    nan],\n",
       "       [    nan],\n",
       "       [    nan],\n",
       "       [    nan],\n",
       "       [    nan],\n",
       "       [    nan],\n",
       "       [    nan],\n",
       "       [    nan],\n",
       "       [    nan],\n",
       "       [    nan],\n",
       "       [    nan],\n",
       "       [    nan],\n",
       "       [    nan],\n",
       "       [    nan],\n",
       "       [    nan],\n",
       "       [    nan],\n",
       "       [    nan],\n",
       "       [    nan],\n",
       "       [    nan],\n",
       "       [    nan],\n",
       "       [    nan],\n",
       "       [    nan],\n",
       "       [    nan],\n",
       "       [    nan],\n",
       "       [    nan],\n",
       "       [    nan],\n",
       "       [    nan],\n",
       "       [    nan],\n",
       "       [    nan],\n",
       "       [    nan],\n",
       "       [    nan],\n",
       "       [    nan],\n",
       "       [    nan],\n",
       "       [    nan],\n",
       "       [    nan],\n",
       "       [    nan],\n",
       "       [    nan],\n",
       "       [    nan],\n",
       "       [    nan],\n",
       "       [    nan],\n",
       "       [    nan],\n",
       "       [    nan],\n",
       "       [    nan],\n",
       "       [    nan],\n",
       "       [    nan],\n",
       "       [    nan],\n",
       "       [    nan],\n",
       "       [    nan],\n",
       "       [    nan],\n",
       "       [    nan],\n",
       "       [    nan],\n",
       "       [    nan],\n",
       "       [    nan],\n",
       "       [    nan],\n",
       "       [    nan],\n",
       "       [    nan],\n",
       "       [    nan],\n",
       "       [    nan],\n",
       "       [    nan],\n",
       "       [    nan],\n",
       "       [    nan],\n",
       "       [    nan],\n",
       "       [    nan],\n",
       "       [    nan],\n",
       "       [    nan],\n",
       "       [    nan],\n",
       "       [    nan],\n",
       "       [    nan],\n",
       "       [    nan],\n",
       "       [    nan],\n",
       "       [    nan],\n",
       "       [    nan],\n",
       "       [    nan],\n",
       "       [    nan],\n",
       "       [    nan],\n",
       "       [    nan],\n",
       "       [    nan],\n",
       "       [    nan],\n",
       "       [    nan],\n",
       "       [    nan],\n",
       "       [    nan],\n",
       "       [    nan]])"
      ]
     },
     "execution_count": 12,
     "metadata": {},
     "output_type": "execute_result"
    }
   ],
   "source": [
    "random.choice(ts_train)"
   ]
  },
  {
   "cell_type": "code",
   "execution_count": 13,
   "id": "ca66457a",
   "metadata": {
    "execution": {
     "iopub.execute_input": "2023-03-08T12:30:13.315380Z",
     "iopub.status.busy": "2023-03-08T12:30:13.314866Z",
     "iopub.status.idle": "2023-03-08T12:30:13.714866Z",
     "shell.execute_reply": "2023-03-08T12:30:13.714270Z"
    },
    "papermill": {
     "duration": 0.415639,
     "end_time": "2023-03-08T12:30:13.718080",
     "exception": false,
     "start_time": "2023-03-08T12:30:13.302441",
     "status": "completed"
    },
    "tags": []
   },
   "outputs": [
    {
     "data": {
      "text/plain": [
       "<AxesSubplot:ylabel='Count'>"
      ]
     },
     "execution_count": 13,
     "metadata": {},
     "output_type": "execute_result"
    },
    {
     "data": {
      "image/png": "[encoded data removed]",
      "text/plain": [
       "<Figure size 640x480 with 1 Axes>"
      ]
     },
     "metadata": {},
     "output_type": "display_data"
    }
   ],
   "source": [
    "sns.histplot([t[~np.any(np.isnan(t), axis=1)].shape[0] for t in ts_train])"
   ]
  },
  {
   "cell_type": "code",
   "execution_count": 14,
   "id": "c2ae286f",
   "metadata": {
    "execution": {
     "iopub.execute_input": "2023-03-08T12:30:13.783795Z",
     "iopub.status.busy": "2023-03-08T12:30:13.783383Z",
     "iopub.status.idle": "2023-03-08T12:30:13.789317Z",
     "shell.execute_reply": "2023-03-08T12:30:13.788229Z"
    },
    "papermill": {
     "duration": 0.041179,
     "end_time": "2023-03-08T12:30:13.790999",
     "exception": false,
     "start_time": "2023-03-08T12:30:13.749820",
     "status": "completed"
    },
    "tags": []
   },
   "outputs": [],
   "source": [
    "ts_train = ts_train[:, :truncate, :]\n",
    "ts_test = ts_test[:, :truncate, :]"
   ]
  },
  {
   "cell_type": "code",
   "execution_count": 15,
   "id": "3218baa4",
   "metadata": {
    "execution": {
     "iopub.execute_input": "2023-03-08T12:30:13.815530Z",
     "iopub.status.busy": "2023-03-08T12:30:13.814455Z",
     "iopub.status.idle": "2023-03-08T12:30:13.854940Z",
     "shell.execute_reply": "2023-03-08T12:30:13.854155Z"
    },
    "papermill": {
     "duration": 0.054816,
     "end_time": "2023-03-08T12:30:13.856886",
     "exception": false,
     "start_time": "2023-03-08T12:30:13.802070",
     "status": "completed"
    },
    "tags": []
   },
   "outputs": [],
   "source": [
    "mean_arr = np.nanmean(ts_train, axis=1, keepdims=True)\n",
    "nan_indices = np.isnan(ts_train)\n",
    "ts_train[nan_indices] = np.take(mean_arr, np.nonzero(nan_indices)[0])\n",
    "\n",
    "mean_arr = np.nanmean(ts_test, axis=1, keepdims=True)\n",
    "nan_indices = np.isnan(ts_test)\n",
    "ts_test[nan_indices] = np.take(mean_arr, np.nonzero(nan_indices)[0])"
   ]
  },
  {
   "cell_type": "code",
   "execution_count": 16,
   "id": "d369691b",
   "metadata": {
    "execution": {
     "iopub.execute_input": "2023-03-08T12:30:13.884019Z",
     "iopub.status.busy": "2023-03-08T12:30:13.883548Z",
     "iopub.status.idle": "2023-03-08T12:30:13.891117Z",
     "shell.execute_reply": "2023-03-08T12:30:13.890083Z"
    },
    "papermill": {
     "duration": 0.021998,
     "end_time": "2023-03-08T12:30:13.892822",
     "exception": false,
     "start_time": "2023-03-08T12:30:13.870824",
     "status": "completed"
    },
    "tags": []
   },
   "outputs": [
    {
     "data": {
      "text/plain": [
       "0"
      ]
     },
     "execution_count": 16,
     "metadata": {},
     "output_type": "execute_result"
    }
   ],
   "source": [
    "np.count_nonzero(np.isnan(X_train))"
   ]
  },
  {
   "cell_type": "code",
   "execution_count": 17,
   "id": "0d602e18",
   "metadata": {
    "execution": {
     "iopub.execute_input": "2023-03-08T12:30:13.917858Z",
     "iopub.status.busy": "2023-03-08T12:30:13.917402Z",
     "iopub.status.idle": "2023-03-08T12:30:13.923448Z",
     "shell.execute_reply": "2023-03-08T12:30:13.922318Z"
    },
    "papermill": {
     "duration": 0.020415,
     "end_time": "2023-03-08T12:30:13.924973",
     "exception": false,
     "start_time": "2023-03-08T12:30:13.904558",
     "status": "completed"
    },
    "tags": []
   },
   "outputs": [],
   "source": [
    "X_train[np.isnan(X_train)] = 0\n",
    "X_test[np.isnan(X_test)] = 0"
   ]
  },
  {
   "cell_type": "code",
   "execution_count": 18,
   "id": "45c5102c",
   "metadata": {
    "execution": {
     "iopub.execute_input": "2023-03-08T12:30:13.949634Z",
     "iopub.status.busy": "2023-03-08T12:30:13.948815Z",
     "iopub.status.idle": "2023-03-08T12:30:14.660383Z",
     "shell.execute_reply": "2023-03-08T12:30:14.659455Z"
    },
    "papermill": {
     "duration": 0.726972,
     "end_time": "2023-03-08T12:30:14.663401",
     "exception": false,
     "start_time": "2023-03-08T12:30:13.936429",
     "status": "completed"
    },
    "tags": []
   },
   "outputs": [],
   "source": [
    "save_time_series_txt(f'{data_path}/ts_train.txt', ts_train)\n",
    "save_time_series_txt(f'{data_path}/ts_test.txt', ts_test)"
   ]
  },
  {
   "cell_type": "code",
   "execution_count": 19,
   "id": "39830f37",
   "metadata": {
    "execution": {
     "iopub.execute_input": "2023-03-08T12:30:14.726149Z",
     "iopub.status.busy": "2023-03-08T12:30:14.725798Z",
     "iopub.status.idle": "2023-03-08T12:30:14.732391Z",
     "shell.execute_reply": "2023-03-08T12:30:14.731381Z"
    },
    "papermill": {
     "duration": 0.039264,
     "end_time": "2023-03-08T12:30:14.734341",
     "exception": false,
     "start_time": "2023-03-08T12:30:14.695077",
     "status": "completed"
    },
    "tags": []
   },
   "outputs": [],
   "source": [
    "with open(f'{data_path}/X_train.npy', 'wb') as f:\n",
    "    np.save(f, X_train, allow_pickle=True)\n",
    "\n",
    "with open(f'{data_path}/X_test.npy', 'wb') as f:\n",
    "    np.save(f, X_test, allow_pickle=True)"
   ]
  },
  {
   "cell_type": "code",
   "execution_count": 20,
   "id": "795fd2be",
   "metadata": {
    "execution": {
     "iopub.execute_input": "2023-03-08T12:30:14.758380Z",
     "iopub.status.busy": "2023-03-08T12:30:14.757924Z",
     "iopub.status.idle": "2023-03-08T12:30:14.766305Z",
     "shell.execute_reply": "2023-03-08T12:30:14.765127Z"
    },
    "papermill": {
     "duration": 0.022873,
     "end_time": "2023-03-08T12:30:14.768296",
     "exception": false,
     "start_time": "2023-03-08T12:30:14.745423",
     "status": "completed"
    },
    "tags": []
   },
   "outputs": [],
   "source": [
    "with open(f'{data_path}/y_train.npy', 'wb') as f:\n",
    "    np.save(f, y_train, allow_pickle=True)\n",
    "\n",
    "with open(f'{data_path}/y_test.npy', 'wb') as f:\n",
    "    np.save(f, y_test, allow_pickle=True)"
   ]
  },
  {
   "cell_type": "code",
   "execution_count": 21,
   "id": "08bda153",
   "metadata": {
    "execution": {
     "iopub.execute_input": "2023-03-08T12:30:14.792845Z",
     "iopub.status.busy": "2023-03-08T12:30:14.792389Z",
     "iopub.status.idle": "2023-03-08T12:30:14.948084Z",
     "shell.execute_reply": "2023-03-08T12:30:14.947413Z"
    },
    "papermill": {
     "duration": 0.171667,
     "end_time": "2023-03-08T12:30:14.951569",
     "exception": false,
     "start_time": "2023-03-08T12:30:14.779902",
     "status": "completed"
    },
    "tags": []
   },
   "outputs": [
    {
     "data": {
      "text/plain": [
       "[<matplotlib.lines.Line2D at 0x7f5c53ddd160>]"
      ]
     },
     "execution_count": 21,
     "metadata": {},
     "output_type": "execute_result"
    },
    {
     "data": {
      "image/png": "[encoded data removed]",
      "text/plain": [
       "<Figure size 640x480 with 1 Axes>"
      ]
     },
     "metadata": {},
     "output_type": "display_data"
    }
   ],
   "source": [
    "plt.plot(random.choice(ts_train))"
   ]
  },
  {
   "cell_type": "code",
   "execution_count": 22,
   "id": "98ce9d63",
   "metadata": {
    "execution": {
     "iopub.execute_input": "2023-03-08T12:30:15.019341Z",
     "iopub.status.busy": "2023-03-08T12:30:15.018462Z",
     "iopub.status.idle": "2023-03-08T12:30:15.025559Z",
     "shell.execute_reply": "2023-03-08T12:30:15.024452Z"
    },
    "papermill": {
     "duration": 0.042736,
     "end_time": "2023-03-08T12:30:15.027357",
     "exception": false,
     "start_time": "2023-03-08T12:30:14.984621",
     "status": "completed"
    },
    "tags": []
   },
   "outputs": [],
   "source": [
    "# Parameters that require knowing if it's binary or multiclass (LightGBM, metrics)\n",
    "if len(set(y)) == 2:\n",
    "    avg_par = 'binary'\n",
    "    obj_par = 'binary'\n",
    "elif len(set(y)) > 2:\n",
    "    avg_par = 'macro'\n",
    "    obj_par = 'multiclass'"
   ]
  },
  {
   "cell_type": "markdown",
   "id": "228f1b39",
   "metadata": {
    "papermill": {
     "duration": 0.011582,
     "end_time": "2023-03-08T12:30:15.050909",
     "exception": false,
     "start_time": "2023-03-08T12:30:15.039327",
     "status": "completed"
    },
    "tags": []
   },
   "source": [
    "## Classification"
   ]
  },
  {
   "cell_type": "code",
   "execution_count": 23,
   "id": "34bb73ff",
   "metadata": {
    "execution": {
     "iopub.execute_input": "2023-03-08T12:30:15.075779Z",
     "iopub.status.busy": "2023-03-08T12:30:15.075353Z",
     "iopub.status.idle": "2023-03-08T12:30:15.175623Z",
     "shell.execute_reply": "2023-03-08T12:30:15.174800Z"
    },
    "papermill": {
     "duration": 0.115475,
     "end_time": "2023-03-08T12:30:15.177987",
     "exception": false,
     "start_time": "2023-03-08T12:30:15.062512",
     "status": "completed"
    },
    "tags": []
   },
   "outputs": [],
   "source": [
    "from sklearn.tree import DecisionTreeClassifier\n",
    "import lightgbm as lgbm\n",
    "from sklearn.ensemble import RandomForestClassifier"
   ]
  },
  {
   "cell_type": "code",
   "execution_count": 24,
   "id": "02aaee18",
   "metadata": {
    "execution": {
     "iopub.execute_input": "2023-03-08T12:30:15.206329Z",
     "iopub.status.busy": "2023-03-08T12:30:15.206013Z",
     "iopub.status.idle": "2023-03-08T12:30:15.210281Z",
     "shell.execute_reply": "2023-03-08T12:30:15.209432Z"
    },
    "papermill": {
     "duration": 0.018624,
     "end_time": "2023-03-08T12:30:15.211848",
     "exception": false,
     "start_time": "2023-03-08T12:30:15.193224",
     "status": "completed"
    },
    "tags": []
   },
   "outputs": [],
   "source": [
    "metrics_data = {}"
   ]
  },
  {
   "cell_type": "markdown",
   "id": "b49309ed",
   "metadata": {
    "papermill": {
     "duration": 0.011938,
     "end_time": "2023-03-08T12:30:15.235677",
     "exception": false,
     "start_time": "2023-03-08T12:30:15.223739",
     "status": "completed"
    },
    "tags": []
   },
   "source": [
    "### Baseline: global features (No Time Series)"
   ]
  },
  {
   "cell_type": "code",
   "execution_count": 25,
   "id": "35eb9f66",
   "metadata": {
    "execution": {
     "iopub.execute_input": "2023-03-08T12:30:15.260550Z",
     "iopub.status.busy": "2023-03-08T12:30:15.260128Z",
     "iopub.status.idle": "2023-03-08T12:30:15.265081Z",
     "shell.execute_reply": "2023-03-08T12:30:15.264103Z"
    },
    "papermill": {
     "duration": 0.019365,
     "end_time": "2023-03-08T12:30:15.266713",
     "exception": false,
     "start_time": "2023-03-08T12:30:15.247348",
     "status": "completed"
    },
    "tags": []
   },
   "outputs": [],
   "source": [
    "metrics_data['Global'] = {}"
   ]
  },
  {
   "cell_type": "markdown",
   "id": "29cd5044",
   "metadata": {
    "papermill": {
     "duration": 0.011476,
     "end_time": "2023-03-08T12:30:15.289973",
     "exception": false,
     "start_time": "2023-03-08T12:30:15.278497",
     "status": "completed"
    },
    "tags": []
   },
   "source": [
    "**Decision Tree**"
   ]
  },
  {
   "cell_type": "code",
   "execution_count": 26,
   "id": "9ef4f037",
   "metadata": {
    "execution": {
     "iopub.execute_input": "2023-03-08T12:30:15.314845Z",
     "iopub.status.busy": "2023-03-08T12:30:15.314519Z",
     "iopub.status.idle": "2023-03-08T12:30:15.414746Z",
     "shell.execute_reply": "2023-03-08T12:30:15.413996Z"
    },
    "papermill": {
     "duration": 0.115036,
     "end_time": "2023-03-08T12:30:15.416751",
     "exception": false,
     "start_time": "2023-03-08T12:30:15.301715",
     "status": "completed"
    },
    "tags": []
   },
   "outputs": [
    {
     "data": {
      "text/html": [
       "<style>#sk-container-id-1 {color: black;background-color: white;}#sk-container-id-1 pre{padding: 0;}#sk-container-id-1 div.sk-toggleable {background-color: white;}#sk-container-id-1 label.sk-toggleable__label {cursor: pointer;display: block;width: 100%;margin-bottom: 0;padding: 0.3em;box-sizing: border-box;text-align: center;}#sk-container-id-1 label.sk-toggleable__label-arrow:before {content: \"▸\";float: left;margin-right: 0.25em;color: #696969;}#sk-container-id-1 label.sk-toggleable__label-arrow:hover:before {color: black;}#sk-container-id-1 div.sk-estimator:hover label.sk-toggleable__label-arrow:before {color: black;}#sk-container-id-1 div.sk-toggleable__content {max-height: 0;max-width: 0;overflow: hidden;text-align: left;background-color: #f0f8ff;}#sk-container-id-1 div.sk-toggleable__content pre {margin: 0.2em;color: black;border-radius: 0.25em;background-color: #f0f8ff;}#sk-container-id-1 input.sk-toggleable__control:checked~div.sk-toggleable__content {max-height: 200px;max-width: 100%;overflow: auto;}#sk-container-id-1 input.sk-toggleable__control:checked~label.sk-toggleable__label-arrow:before {content: \"▾\";}#sk-container-id-1 div.sk-estimator input.sk-toggleable__control:checked~label.sk-toggleable__label {background-color: #d4ebff;}#sk-container-id-1 div.sk-label input.sk-toggleable__control:checked~label.sk-toggleable__label {background-color: #d4ebff;}#sk-container-id-1 input.sk-hidden--visually {border: 0;clip: rect(1px 1px 1px 1px);clip: rect(1px, 1px, 1px, 1px);height: 1px;margin: -1px;overflow: hidden;padding: 0;position: absolute;width: 1px;}#sk-container-id-1 div.sk-estimator {font-family: monospace;background-color: #f0f8ff;border: 1px dotted black;border-radius: 0.25em;box-sizing: border-box;margin-bottom: 0.5em;}#sk-container-id-1 div.sk-estimator:hover {background-color: #d4ebff;}#sk-container-id-1 div.sk-parallel-item::after {content: \"\";width: 100%;border-bottom: 1px solid gray;flex-grow: 1;}#sk-container-id-1 div.sk-label:hover label.sk-toggleable__label {background-color: #d4ebff;}#sk-container-id-1 div.sk-serial::before {content: \"\";position: absolute;border-left: 1px solid gray;box-sizing: border-box;top: 0;bottom: 0;left: 50%;z-index: 0;}#sk-container-id-1 div.sk-serial {display: flex;flex-direction: column;align-items: center;background-color: white;padding-right: 0.2em;padding-left: 0.2em;position: relative;}#sk-container-id-1 div.sk-item {position: relative;z-index: 1;}#sk-container-id-1 div.sk-parallel {display: flex;align-items: stretch;justify-content: center;background-color: white;position: relative;}#sk-container-id-1 div.sk-item::before, #sk-container-id-1 div.sk-parallel-item::before {content: \"\";position: absolute;border-left: 1px solid gray;box-sizing: border-box;top: 0;bottom: 0;left: 50%;z-index: -1;}#sk-container-id-1 div.sk-parallel-item {display: flex;flex-direction: column;z-index: 1;position: relative;background-color: white;}#sk-container-id-1 div.sk-parallel-item:first-child::after {align-self: flex-end;width: 50%;}#sk-container-id-1 div.sk-parallel-item:last-child::after {align-self: flex-start;width: 50%;}#sk-container-id-1 div.sk-parallel-item:only-child::after {width: 0;}#sk-container-id-1 div.sk-dashed-wrapped {border: 1px dashed gray;margin: 0 0.4em 0.5em 0.4em;box-sizing: border-box;padding-bottom: 0.4em;background-color: white;}#sk-container-id-1 div.sk-label label {font-family: monospace;font-weight: bold;display: inline-block;line-height: 1.2em;}#sk-container-id-1 div.sk-label-container {text-align: center;}#sk-container-id-1 div.sk-container {/* jupyter's `normalize.less` sets `[hidden] { display: none; }` but bootstrap.min.css set `[hidden] { display: none !important; }` so we also need the `!important` here to be able to override the default hidden behavior on the sphinx rendered scikit-learn.org. See: https://github.com/scikit-learn/scikit-learn/issues/21755 */display: inline-block !important;position: relative;}#sk-container-id-1 div.sk-text-repr-fallback {display: none;}</style><div id=\"sk-container-id-1\" class=\"sk-top-container\"><div class=\"sk-text-repr-fallback\"><pre>DecisionTreeClassifier()</pre><b>In a Jupyter environment, please rerun this cell to show the HTML representation or trust the notebook. <br />On GitHub, the HTML representation is unable to render, please try loading this page with nbviewer.org.</b></div><div class=\"sk-container\" hidden><div class=\"sk-item\"><div class=\"sk-estimator sk-toggleable\"><input class=\"sk-toggleable__control sk-hidden--visually\" id=\"sk-estimator-id-1\" type=\"checkbox\" checked><label for=\"sk-estimator-id-1\" class=\"sk-toggleable__label sk-toggleable__label-arrow\">DecisionTreeClassifier</label><div class=\"sk-toggleable__content\"><pre>DecisionTreeClassifier()</pre></div></div></div></div></div>"
      ],
      "text/plain": [
       "DecisionTreeClassifier()"
      ]
     },
     "execution_count": 26,
     "metadata": {},
     "output_type": "execute_result"
    }
   ],
   "source": [
    "clf = DecisionTreeClassifier()\n",
    "clf.fit(X_train, y_train)"
   ]
  },
  {
   "cell_type": "code",
   "execution_count": 27,
   "id": "9c50acc4",
   "metadata": {
    "execution": {
     "iopub.execute_input": "2023-03-08T12:30:15.444557Z",
     "iopub.status.busy": "2023-03-08T12:30:15.444240Z",
     "iopub.status.idle": "2023-03-08T12:30:15.513521Z",
     "shell.execute_reply": "2023-03-08T12:30:15.512696Z"
    },
    "papermill": {
     "duration": 0.084957,
     "end_time": "2023-03-08T12:30:15.516115",
     "exception": false,
     "start_time": "2023-03-08T12:30:15.431158",
     "status": "completed"
    },
    "tags": []
   },
   "outputs": [
    {
     "name": "stdout",
     "output_type": "stream",
     "text": [
      "                                           precision    recall  f1-score   support\n",
      "\n",
      "                    action_thriller_crime       0.25      0.27      0.26       306\n",
      "                                   comedy       0.35      0.36      0.36       404\n",
      "                                    drama       0.34      0.35      0.34       494\n",
      "horror_scifi_mystery_supernatural_fantasy       0.26      0.22      0.24       299\n",
      "\n",
      "                                 accuracy                           0.31      1503\n",
      "                                macro avg       0.30      0.30      0.30      1503\n",
      "                             weighted avg       0.31      0.31      0.31      1503\n",
      "\n"
     ]
    }
   ],
   "source": [
    "y_pred = clf.predict(X_test)\n",
    "print(classification_report(y_test, y_pred))"
   ]
  },
  {
   "cell_type": "code",
   "execution_count": 28,
   "id": "8866c3c3",
   "metadata": {
    "execution": {
     "iopub.execute_input": "2023-03-08T12:30:15.585155Z",
     "iopub.status.busy": "2023-03-08T12:30:15.584815Z",
     "iopub.status.idle": "2023-03-08T12:30:15.648789Z",
     "shell.execute_reply": "2023-03-08T12:30:15.647572Z"
    },
    "papermill": {
     "duration": 0.102257,
     "end_time": "2023-03-08T12:30:15.652073",
     "exception": false,
     "start_time": "2023-03-08T12:30:15.549816",
     "status": "completed"
    },
    "tags": []
   },
   "outputs": [],
   "source": [
    "acc = accuracy_score(y_test, y_pred)\n",
    "pre = precision_score(y_test, y_pred, average=avg_par)\n",
    "rec = recall_score(y_test, y_pred, average=avg_par)\n",
    "f1 = f1_score(y_test, y_pred, average=avg_par)\n",
    "\n",
    "metrics_data['Global']['DecisionTree'] = {'Accuracy': acc, 'Precision': pre, 'Recall': rec, 'F1': f1}"
   ]
  },
  {
   "cell_type": "markdown",
   "id": "28aa5a63",
   "metadata": {
    "papermill": {
     "duration": 0.032407,
     "end_time": "2023-03-08T12:30:15.715188",
     "exception": false,
     "start_time": "2023-03-08T12:30:15.682781",
     "status": "completed"
    },
    "tags": []
   },
   "source": [
    "**Random Forest**"
   ]
  },
  {
   "cell_type": "code",
   "execution_count": 29,
   "id": "0e5e2310",
   "metadata": {
    "execution": {
     "iopub.execute_input": "2023-03-08T12:30:15.746418Z",
     "iopub.status.busy": "2023-03-08T12:30:15.745958Z",
     "iopub.status.idle": "2023-03-08T12:30:16.905112Z",
     "shell.execute_reply": "2023-03-08T12:30:16.904027Z"
    },
    "papermill": {
     "duration": 1.175771,
     "end_time": "2023-03-08T12:30:16.908321",
     "exception": false,
     "start_time": "2023-03-08T12:30:15.732550",
     "status": "completed"
    },
    "tags": []
   },
   "outputs": [
    {
     "data": {
      "text/html": [
       "<style>#sk-container-id-2 {color: black;background-color: white;}#sk-container-id-2 pre{padding: 0;}#sk-container-id-2 div.sk-toggleable {background-color: white;}#sk-container-id-2 label.sk-toggleable__label {cursor: pointer;display: block;width: 100%;margin-bottom: 0;padding: 0.3em;box-sizing: border-box;text-align: center;}#sk-container-id-2 label.sk-toggleable__label-arrow:before {content: \"▸\";float: left;margin-right: 0.25em;color: #696969;}#sk-container-id-2 label.sk-toggleable__label-arrow:hover:before {color: black;}#sk-container-id-2 div.sk-estimator:hover label.sk-toggleable__label-arrow:before {color: black;}#sk-container-id-2 div.sk-toggleable__content {max-height: 0;max-width: 0;overflow: hidden;text-align: left;background-color: #f0f8ff;}#sk-container-id-2 div.sk-toggleable__content pre {margin: 0.2em;color: black;border-radius: 0.25em;background-color: #f0f8ff;}#sk-container-id-2 input.sk-toggleable__control:checked~div.sk-toggleable__content {max-height: 200px;max-width: 100%;overflow: auto;}#sk-container-id-2 input.sk-toggleable__control:checked~label.sk-toggleable__label-arrow:before {content: \"▾\";}#sk-container-id-2 div.sk-estimator input.sk-toggleable__control:checked~label.sk-toggleable__label {background-color: #d4ebff;}#sk-container-id-2 div.sk-label input.sk-toggleable__control:checked~label.sk-toggleable__label {background-color: #d4ebff;}#sk-container-id-2 input.sk-hidden--visually {border: 0;clip: rect(1px 1px 1px 1px);clip: rect(1px, 1px, 1px, 1px);height: 1px;margin: -1px;overflow: hidden;padding: 0;position: absolute;width: 1px;}#sk-container-id-2 div.sk-estimator {font-family: monospace;background-color: #f0f8ff;border: 1px dotted black;border-radius: 0.25em;box-sizing: border-box;margin-bottom: 0.5em;}#sk-container-id-2 div.sk-estimator:hover {background-color: #d4ebff;}#sk-container-id-2 div.sk-parallel-item::after {content: \"\";width: 100%;border-bottom: 1px solid gray;flex-grow: 1;}#sk-container-id-2 div.sk-label:hover label.sk-toggleable__label {background-color: #d4ebff;}#sk-container-id-2 div.sk-serial::before {content: \"\";position: absolute;border-left: 1px solid gray;box-sizing: border-box;top: 0;bottom: 0;left: 50%;z-index: 0;}#sk-container-id-2 div.sk-serial {display: flex;flex-direction: column;align-items: center;background-color: white;padding-right: 0.2em;padding-left: 0.2em;position: relative;}#sk-container-id-2 div.sk-item {position: relative;z-index: 1;}#sk-container-id-2 div.sk-parallel {display: flex;align-items: stretch;justify-content: center;background-color: white;position: relative;}#sk-container-id-2 div.sk-item::before, #sk-container-id-2 div.sk-parallel-item::before {content: \"\";position: absolute;border-left: 1px solid gray;box-sizing: border-box;top: 0;bottom: 0;left: 50%;z-index: -1;}#sk-container-id-2 div.sk-parallel-item {display: flex;flex-direction: column;z-index: 1;position: relative;background-color: white;}#sk-container-id-2 div.sk-parallel-item:first-child::after {align-self: flex-end;width: 50%;}#sk-container-id-2 div.sk-parallel-item:last-child::after {align-self: flex-start;width: 50%;}#sk-container-id-2 div.sk-parallel-item:only-child::after {width: 0;}#sk-container-id-2 div.sk-dashed-wrapped {border: 1px dashed gray;margin: 0 0.4em 0.5em 0.4em;box-sizing: border-box;padding-bottom: 0.4em;background-color: white;}#sk-container-id-2 div.sk-label label {font-family: monospace;font-weight: bold;display: inline-block;line-height: 1.2em;}#sk-container-id-2 div.sk-label-container {text-align: center;}#sk-container-id-2 div.sk-container {/* jupyter's `normalize.less` sets `[hidden] { display: none; }` but bootstrap.min.css set `[hidden] { display: none !important; }` so we also need the `!important` here to be able to override the default hidden behavior on the sphinx rendered scikit-learn.org. See: https://github.com/scikit-learn/scikit-learn/issues/21755 */display: inline-block !important;position: relative;}#sk-container-id-2 div.sk-text-repr-fallback {display: none;}</style><div id=\"sk-container-id-2\" class=\"sk-top-container\"><div class=\"sk-text-repr-fallback\"><pre>RandomForestClassifier(random_state=42)</pre><b>In a Jupyter environment, please rerun this cell to show the HTML representation or trust the notebook. <br />On GitHub, the HTML representation is unable to render, please try loading this page with nbviewer.org.</b></div><div class=\"sk-container\" hidden><div class=\"sk-item\"><div class=\"sk-estimator sk-toggleable\"><input class=\"sk-toggleable__control sk-hidden--visually\" id=\"sk-estimator-id-2\" type=\"checkbox\" checked><label for=\"sk-estimator-id-2\" class=\"sk-toggleable__label sk-toggleable__label-arrow\">RandomForestClassifier</label><div class=\"sk-toggleable__content\"><pre>RandomForestClassifier(random_state=42)</pre></div></div></div></div></div>"
      ],
      "text/plain": [
       "RandomForestClassifier(random_state=42)"
      ]
     },
     "execution_count": 29,
     "metadata": {},
     "output_type": "execute_result"
    }
   ],
   "source": [
    "clf = RandomForestClassifier(random_state=42)\n",
    "clf.fit(X_train, y_train)"
   ]
  },
  {
   "cell_type": "code",
   "execution_count": 30,
   "id": "4bd1304b",
   "metadata": {
    "execution": {
     "iopub.execute_input": "2023-03-08T12:30:16.970096Z",
     "iopub.status.busy": "2023-03-08T12:30:16.969782Z",
     "iopub.status.idle": "2023-03-08T12:30:17.044294Z",
     "shell.execute_reply": "2023-03-08T12:30:17.043501Z"
    },
    "papermill": {
     "duration": 0.103966,
     "end_time": "2023-03-08T12:30:17.046557",
     "exception": false,
     "start_time": "2023-03-08T12:30:16.942591",
     "status": "completed"
    },
    "tags": []
   },
   "outputs": [
    {
     "name": "stdout",
     "output_type": "stream",
     "text": [
      "                                           precision    recall  f1-score   support\n",
      "\n",
      "                    action_thriller_crime       0.31      0.34      0.32       306\n",
      "                                   comedy       0.41      0.47      0.44       404\n",
      "                                    drama       0.37      0.38      0.37       494\n",
      "horror_scifi_mystery_supernatural_fantasy       0.35      0.25      0.29       299\n",
      "\n",
      "                                 accuracy                           0.37      1503\n",
      "                                macro avg       0.36      0.36      0.36      1503\n",
      "                             weighted avg       0.37      0.37      0.37      1503\n",
      "\n"
     ]
    }
   ],
   "source": [
    "y_pred = clf.predict(X_test)\n",
    "print(classification_report(y_test, y_pred))"
   ]
  },
  {
   "cell_type": "code",
   "execution_count": 31,
   "id": "43174ba2",
   "metadata": {
    "execution": {
     "iopub.execute_input": "2023-03-08T12:30:17.074893Z",
     "iopub.status.busy": "2023-03-08T12:30:17.074582Z",
     "iopub.status.idle": "2023-03-08T12:30:17.140854Z",
     "shell.execute_reply": "2023-03-08T12:30:17.140011Z"
    },
    "papermill": {
     "duration": 0.082404,
     "end_time": "2023-03-08T12:30:17.143685",
     "exception": false,
     "start_time": "2023-03-08T12:30:17.061281",
     "status": "completed"
    },
    "tags": []
   },
   "outputs": [],
   "source": [
    "acc = accuracy_score(y_test, y_pred)\n",
    "pre = precision_score(y_test, y_pred, average=avg_par)\n",
    "rec = recall_score(y_test, y_pred, average=avg_par)\n",
    "f1 = f1_score(y_test, y_pred, average=avg_par)\n",
    "\n",
    "metrics_data['Global']['RandomForest'] = {'Accuracy': acc, 'Precision': pre, 'Recall': rec, 'F1': f1}"
   ]
  },
  {
   "cell_type": "markdown",
   "id": "22c98ac5",
   "metadata": {
    "papermill": {
     "duration": 0.03429,
     "end_time": "2023-03-08T12:30:17.211835",
     "exception": false,
     "start_time": "2023-03-08T12:30:17.177545",
     "status": "completed"
    },
    "tags": []
   },
   "source": [
    "**LightGBM**"
   ]
  },
  {
   "cell_type": "code",
   "execution_count": 32,
   "id": "c93b818c",
   "metadata": {
    "execution": {
     "iopub.execute_input": "2023-03-08T12:30:17.243449Z",
     "iopub.status.busy": "2023-03-08T12:30:17.243136Z",
     "iopub.status.idle": "2023-03-08T12:30:17.509860Z",
     "shell.execute_reply": "2023-03-08T12:30:17.509150Z"
    },
    "papermill": {
     "duration": 0.281774,
     "end_time": "2023-03-08T12:30:17.511452",
     "exception": false,
     "start_time": "2023-03-08T12:30:17.229678",
     "status": "completed"
    },
    "tags": []
   },
   "outputs": [
    {
     "data": {
      "text/html": [
       "<style>#sk-container-id-3 {color: black;background-color: white;}#sk-container-id-3 pre{padding: 0;}#sk-container-id-3 div.sk-toggleable {background-color: white;}#sk-container-id-3 label.sk-toggleable__label {cursor: pointer;display: block;width: 100%;margin-bottom: 0;padding: 0.3em;box-sizing: border-box;text-align: center;}#sk-container-id-3 label.sk-toggleable__label-arrow:before {content: \"▸\";float: left;margin-right: 0.25em;color: #696969;}#sk-container-id-3 label.sk-toggleable__label-arrow:hover:before {color: black;}#sk-container-id-3 div.sk-estimator:hover label.sk-toggleable__label-arrow:before {color: black;}#sk-container-id-3 div.sk-toggleable__content {max-height: 0;max-width: 0;overflow: hidden;text-align: left;background-color: #f0f8ff;}#sk-container-id-3 div.sk-toggleable__content pre {margin: 0.2em;color: black;border-radius: 0.25em;background-color: #f0f8ff;}#sk-container-id-3 input.sk-toggleable__control:checked~div.sk-toggleable__content {max-height: 200px;max-width: 100%;overflow: auto;}#sk-container-id-3 input.sk-toggleable__control:checked~label.sk-toggleable__label-arrow:before {content: \"▾\";}#sk-container-id-3 div.sk-estimator input.sk-toggleable__control:checked~label.sk-toggleable__label {background-color: #d4ebff;}#sk-container-id-3 div.sk-label input.sk-toggleable__control:checked~label.sk-toggleable__label {background-color: #d4ebff;}#sk-container-id-3 input.sk-hidden--visually {border: 0;clip: rect(1px 1px 1px 1px);clip: rect(1px, 1px, 1px, 1px);height: 1px;margin: -1px;overflow: hidden;padding: 0;position: absolute;width: 1px;}#sk-container-id-3 div.sk-estimator {font-family: monospace;background-color: #f0f8ff;border: 1px dotted black;border-radius: 0.25em;box-sizing: border-box;margin-bottom: 0.5em;}#sk-container-id-3 div.sk-estimator:hover {background-color: #d4ebff;}#sk-container-id-3 div.sk-parallel-item::after {content: \"\";width: 100%;border-bottom: 1px solid gray;flex-grow: 1;}#sk-container-id-3 div.sk-label:hover label.sk-toggleable__label {background-color: #d4ebff;}#sk-container-id-3 div.sk-serial::before {content: \"\";position: absolute;border-left: 1px solid gray;box-sizing: border-box;top: 0;bottom: 0;left: 50%;z-index: 0;}#sk-container-id-3 div.sk-serial {display: flex;flex-direction: column;align-items: center;background-color: white;padding-right: 0.2em;padding-left: 0.2em;position: relative;}#sk-container-id-3 div.sk-item {position: relative;z-index: 1;}#sk-container-id-3 div.sk-parallel {display: flex;align-items: stretch;justify-content: center;background-color: white;position: relative;}#sk-container-id-3 div.sk-item::before, #sk-container-id-3 div.sk-parallel-item::before {content: \"\";position: absolute;border-left: 1px solid gray;box-sizing: border-box;top: 0;bottom: 0;left: 50%;z-index: -1;}#sk-container-id-3 div.sk-parallel-item {display: flex;flex-direction: column;z-index: 1;position: relative;background-color: white;}#sk-container-id-3 div.sk-parallel-item:first-child::after {align-self: flex-end;width: 50%;}#sk-container-id-3 div.sk-parallel-item:last-child::after {align-self: flex-start;width: 50%;}#sk-container-id-3 div.sk-parallel-item:only-child::after {width: 0;}#sk-container-id-3 div.sk-dashed-wrapped {border: 1px dashed gray;margin: 0 0.4em 0.5em 0.4em;box-sizing: border-box;padding-bottom: 0.4em;background-color: white;}#sk-container-id-3 div.sk-label label {font-family: monospace;font-weight: bold;display: inline-block;line-height: 1.2em;}#sk-container-id-3 div.sk-label-container {text-align: center;}#sk-container-id-3 div.sk-container {/* jupyter's `normalize.less` sets `[hidden] { display: none; }` but bootstrap.min.css set `[hidden] { display: none !important; }` so we also need the `!important` here to be able to override the default hidden behavior on the sphinx rendered scikit-learn.org. See: https://github.com/scikit-learn/scikit-learn/issues/21755 */display: inline-block !important;position: relative;}#sk-container-id-3 div.sk-text-repr-fallback {display: none;}</style><div id=\"sk-container-id-3\" class=\"sk-top-container\"><div class=\"sk-text-repr-fallback\"><pre>LGBMClassifier(objective=&#x27;multiclass&#x27;)</pre><b>In a Jupyter environment, please rerun this cell to show the HTML representation or trust the notebook. <br />On GitHub, the HTML representation is unable to render, please try loading this page with nbviewer.org.</b></div><div class=\"sk-container\" hidden><div class=\"sk-item\"><div class=\"sk-estimator sk-toggleable\"><input class=\"sk-toggleable__control sk-hidden--visually\" id=\"sk-estimator-id-3\" type=\"checkbox\" checked><label for=\"sk-estimator-id-3\" class=\"sk-toggleable__label sk-toggleable__label-arrow\">LGBMClassifier</label><div class=\"sk-toggleable__content\"><pre>LGBMClassifier(objective=&#x27;multiclass&#x27;)</pre></div></div></div></div></div>"
      ],
      "text/plain": [
       "LGBMClassifier(objective='multiclass')"
      ]
     },
     "execution_count": 32,
     "metadata": {},
     "output_type": "execute_result"
    }
   ],
   "source": [
    "clf = lgbm.LGBMClassifier(objective=obj_par) \n",
    "clf.fit(X_train, y_train)"
   ]
  },
  {
   "cell_type": "code",
   "execution_count": 33,
   "id": "600a663a",
   "metadata": {
    "execution": {
     "iopub.execute_input": "2023-03-08T12:30:17.537768Z",
     "iopub.status.busy": "2023-03-08T12:30:17.537514Z",
     "iopub.status.idle": "2023-03-08T12:30:17.582905Z",
     "shell.execute_reply": "2023-03-08T12:30:17.582011Z"
    },
    "papermill": {
     "duration": 0.060423,
     "end_time": "2023-03-08T12:30:17.584526",
     "exception": false,
     "start_time": "2023-03-08T12:30:17.524103",
     "status": "completed"
    },
    "tags": []
   },
   "outputs": [
    {
     "name": "stdout",
     "output_type": "stream",
     "text": [
      "                                           precision    recall  f1-score   support\n",
      "\n",
      "                    action_thriller_crime       0.33      0.36      0.35       306\n",
      "                                   comedy       0.39      0.44      0.42       404\n",
      "                                    drama       0.37      0.39      0.38       494\n",
      "horror_scifi_mystery_supernatural_fantasy       0.33      0.22      0.26       299\n",
      "\n",
      "                                 accuracy                           0.36      1503\n",
      "                                macro avg       0.36      0.35      0.35      1503\n",
      "                             weighted avg       0.36      0.36      0.36      1503\n",
      "\n"
     ]
    }
   ],
   "source": [
    "y_pred = clf.predict(X_test)\n",
    "print(classification_report(y_test, y_pred))"
   ]
  },
  {
   "cell_type": "code",
   "execution_count": 34,
   "id": "508d831d",
   "metadata": {
    "execution": {
     "iopub.execute_input": "2023-03-08T12:30:17.611123Z",
     "iopub.status.busy": "2023-03-08T12:30:17.610800Z",
     "iopub.status.idle": "2023-03-08T12:30:17.659266Z",
     "shell.execute_reply": "2023-03-08T12:30:17.658456Z"
    },
    "papermill": {
     "duration": 0.06431,
     "end_time": "2023-03-08T12:30:17.661549",
     "exception": false,
     "start_time": "2023-03-08T12:30:17.597239",
     "status": "completed"
    },
    "tags": []
   },
   "outputs": [],
   "source": [
    "acc = accuracy_score(y_test, y_pred)\n",
    "pre = precision_score(y_test, y_pred, average=avg_par)\n",
    "rec = recall_score(y_test, y_pred, average=avg_par)\n",
    "f1 = f1_score(y_test, y_pred, average=avg_par)\n",
    "\n",
    "metrics_data['Global']['LightGBM'] = {'Accuracy': acc, 'Precision': pre, 'Recall': rec, 'F1': f1}"
   ]
  },
  {
   "cell_type": "markdown",
   "id": "14b86894",
   "metadata": {
    "papermill": {
     "duration": 0.031396,
     "end_time": "2023-03-08T12:30:17.725842",
     "exception": false,
     "start_time": "2023-03-08T12:30:17.694446",
     "status": "completed"
    },
    "tags": []
   },
   "source": [
    "### Time Series Classification"
   ]
  },
  {
   "cell_type": "markdown",
   "id": "84c55533",
   "metadata": {
    "papermill": {
     "duration": 0.012171,
     "end_time": "2023-03-08T12:30:17.754059",
     "exception": false,
     "start_time": "2023-03-08T12:30:17.741888",
     "status": "completed"
    },
    "tags": []
   },
   "source": [
    "#### Learning Shapelets"
   ]
  },
  {
   "cell_type": "code",
   "execution_count": 35,
   "id": "488d8eb7",
   "metadata": {
    "execution": {
     "iopub.execute_input": "2023-03-08T12:30:17.782254Z",
     "iopub.status.busy": "2023-03-08T12:30:17.781743Z",
     "iopub.status.idle": "2023-03-08T12:30:19.303758Z",
     "shell.execute_reply": "2023-03-08T12:30:19.302804Z"
    },
    "papermill": {
     "duration": 1.540198,
     "end_time": "2023-03-08T12:30:19.306678",
     "exception": false,
     "start_time": "2023-03-08T12:30:17.766480",
     "status": "completed"
    },
    "tags": []
   },
   "outputs": [
    {
     "name": "stderr",
     "output_type": "stream",
     "text": [
      "2023-03-08 13:30:17.789988: I tensorflow/core/platform/cpu_feature_guard.cc:193] This TensorFlow binary is optimized with oneAPI Deep Neural Network Library (oneDNN) to use the following CPU instructions in performance-critical operations:  AVX2 FMA\n",
      "To enable them in other operations, rebuild TensorFlow with the appropriate compiler flags.\n",
      "2023-03-08 13:30:17.951356: W tensorflow/compiler/xla/stream_executor/platform/default/dso_loader.cc:64] Could not load dynamic library 'libcudart.so.11.0'; dlerror: libcudart.so.11.0: cannot open shared object file: No such file or directory\n",
      "2023-03-08 13:30:17.951378: I tensorflow/compiler/xla/stream_executor/cuda/cudart_stub.cc:29] Ignore above cudart dlerror if you do not have a GPU set up on your machine.\n"
     ]
    },
    {
     "name": "stderr",
     "output_type": "stream",
     "text": [
      "2023-03-08 13:30:18.570809: W tensorflow/compiler/xla/stream_executor/platform/default/dso_loader.cc:64] Could not load dynamic library 'libnvinfer.so.7'; dlerror: libnvinfer.so.7: cannot open shared object file: No such file or directory\n",
      "2023-03-08 13:30:18.570876: W tensorflow/compiler/xla/stream_executor/platform/default/dso_loader.cc:64] Could not load dynamic library 'libnvinfer_plugin.so.7'; dlerror: libnvinfer_plugin.so.7: cannot open shared object file: No such file or directory\n",
      "2023-03-08 13:30:18.570885: W tensorflow/compiler/tf2tensorrt/utils/py_utils.cc:38] TF-TRT Warning: Cannot dlopen some TensorRT libraries. If you would like to use Nvidia GPU with TensorRT, please make sure the missing libraries mentioned above are installed properly.\n"
     ]
    }
   ],
   "source": [
    "from tslearn.shapelets import LearningShapelets, grabocka_params_to_shapelet_size_dict"
   ]
  },
  {
   "cell_type": "code",
   "execution_count": 36,
   "id": "eb677959",
   "metadata": {
    "execution": {
     "iopub.execute_input": "2023-03-08T12:30:19.379270Z",
     "iopub.status.busy": "2023-03-08T12:30:19.378646Z",
     "iopub.status.idle": "2023-03-08T12:30:19.384123Z",
     "shell.execute_reply": "2023-03-08T12:30:19.383122Z"
    },
    "papermill": {
     "duration": 0.043026,
     "end_time": "2023-03-08T12:30:19.386062",
     "exception": false,
     "start_time": "2023-03-08T12:30:19.343036",
     "status": "completed"
    },
    "tags": []
   },
   "outputs": [],
   "source": [
    "n_ts, ts_sz, _ = ts_train.shape\n",
    "n_classes = len(set(y_train))"
   ]
  },
  {
   "cell_type": "code",
   "execution_count": 37,
   "id": "776ed3dd",
   "metadata": {
    "execution": {
     "iopub.execute_input": "2023-03-08T12:30:19.415895Z",
     "iopub.status.busy": "2023-03-08T12:30:19.415414Z",
     "iopub.status.idle": "2023-03-08T12:30:19.423940Z",
     "shell.execute_reply": "2023-03-08T12:30:19.422758Z"
    },
    "papermill": {
     "duration": 0.024532,
     "end_time": "2023-03-08T12:30:19.425648",
     "exception": false,
     "start_time": "2023-03-08T12:30:19.401116",
     "status": "completed"
    },
    "tags": []
   },
   "outputs": [
    {
     "name": "stdout",
     "output_type": "stream",
     "text": [
      "n_ts 6009\n",
      "ts_sz 100\n",
      "n_classes 4\n",
      "shapelet_sizes {10: 6}\n"
     ]
    }
   ],
   "source": [
    "# Set the number of shapelets per size as done in the original paper\n",
    "g_shapelet_sizes = grabocka_params_to_shapelet_size_dict(n_ts=n_ts,\n",
    "                                                         ts_sz=ts_sz,\n",
    "                                                         n_classes=n_classes,\n",
    "                                                         l=0.1,\n",
    "                                                         r=1)\n",
    "\n",
    "print('n_ts', n_ts)\n",
    "print('ts_sz', ts_sz)\n",
    "print('n_classes', n_classes)\n",
    "print('shapelet_sizes', g_shapelet_sizes)"
   ]
  },
  {
   "cell_type": "code",
   "execution_count": 38,
   "id": "90ed707e",
   "metadata": {
    "execution": {
     "iopub.execute_input": "2023-03-08T12:30:19.452811Z",
     "iopub.status.busy": "2023-03-08T12:30:19.452344Z",
     "iopub.status.idle": "2023-03-08T12:30:19.462140Z",
     "shell.execute_reply": "2023-03-08T12:30:19.461012Z"
    },
    "papermill": {
     "duration": 0.025522,
     "end_time": "2023-03-08T12:30:19.463944",
     "exception": false,
     "start_time": "2023-03-08T12:30:19.438422",
     "status": "completed"
    },
    "tags": []
   },
   "outputs": [
    {
     "data": {
      "text/plain": [
       "{10: 6, 20: 6, 5: 6}"
      ]
     },
     "execution_count": 38,
     "metadata": {},
     "output_type": "execute_result"
    }
   ],
   "source": [
    "shapelet_sizes = {}\n",
    "for key in g_shapelet_sizes:\n",
    "    shapelet_sizes[key] = g_shapelet_sizes[key]\n",
    "    shapelet_sizes[key*2] = g_shapelet_sizes[key]\n",
    "    shapelet_sizes[key//2] = g_shapelet_sizes[key]\n",
    "shapelet_sizes"
   ]
  },
  {
   "cell_type": "code",
   "execution_count": 39,
   "id": "3507fb9c",
   "metadata": {
    "execution": {
     "iopub.execute_input": "2023-03-08T12:30:19.492136Z",
     "iopub.status.busy": "2023-03-08T12:30:19.491674Z",
     "iopub.status.idle": "2023-03-08T12:30:19.498932Z",
     "shell.execute_reply": "2023-03-08T12:30:19.497895Z"
    },
    "papermill": {
     "duration": 0.02379,
     "end_time": "2023-03-08T12:30:19.500789",
     "exception": false,
     "start_time": "2023-03-08T12:30:19.476999",
     "status": "completed"
    },
    "tags": []
   },
   "outputs": [
    {
     "name": "stderr",
     "output_type": "stream",
     "text": [
      "/home/mattiapggioli/lyrics2ts/.venv/lib/python3.9/site-packages/tslearn/shapelets/shapelets.py:354: FutureWarning: The default value for 'scale' is set to False in version 0.4 to ensure backward compatibility, but is likely to change in a future version.\n",
      "  warnings.warn(\"The default value for 'scale' is set to False \"\n"
     ]
    }
   ],
   "source": [
    "model = LearningShapelets(n_shapelets_per_size=shapelet_sizes,\n",
    "                          optimizer=\"adam\", \n",
    "                          weight_regularizer=.01, \n",
    "                          max_iter=max_iter, verbose=0, random_state=42)"
   ]
  },
  {
   "cell_type": "code",
   "execution_count": 40,
   "id": "73b1fe2e",
   "metadata": {
    "execution": {
     "iopub.execute_input": "2023-03-08T12:30:19.532613Z",
     "iopub.status.busy": "2023-03-08T12:30:19.531619Z",
     "iopub.status.idle": "2023-03-08T12:38:43.888004Z",
     "shell.execute_reply": "2023-03-08T12:38:43.887270Z"
    },
    "papermill": {
     "duration": 504.389942,
     "end_time": "2023-03-08T12:38:43.905351",
     "exception": false,
     "start_time": "2023-03-08T12:30:19.515409",
     "status": "completed"
    },
    "tags": []
   },
   "outputs": [
    {
     "name": "stderr",
     "output_type": "stream",
     "text": [
      "2023-03-08 13:30:19.725372: W tensorflow/compiler/xla/stream_executor/platform/default/dso_loader.cc:64] Could not load dynamic library 'libcuda.so.1'; dlerror: libcuda.so.1: cannot open shared object file: No such file or directory\n",
      "2023-03-08 13:30:19.725395: W tensorflow/compiler/xla/stream_executor/cuda/cuda_driver.cc:265] failed call to cuInit: UNKNOWN ERROR (303)\n",
      "2023-03-08 13:30:19.725416: I tensorflow/compiler/xla/stream_executor/cuda/cuda_diagnostics.cc:156] kernel driver does not appear to be running on this host (mattiapggioli-ThinkPad-E595): /proc/driver/nvidia/version does not exist\n",
      "2023-03-08 13:30:19.725631: I tensorflow/core/platform/cpu_feature_guard.cc:193] This TensorFlow binary is optimized with oneAPI Deep Neural Network Library (oneDNN) to use the following CPU instructions in performance-critical operations:  AVX2 FMA\n",
      "To enable them in other operations, rebuild TensorFlow with the appropriate compiler flags.\n"
     ]
    },
    {
     "name": "stdout",
     "output_type": "stream",
     "text": [
      "CPU times: user 46min 19s, sys: 2min 35s, total: 48min 55s\n",
      "Wall time: 8min 24s\n"
     ]
    },
    {
     "data": {
      "text/html": [
       "<style>#sk-container-id-4 {color: black;background-color: white;}#sk-container-id-4 pre{padding: 0;}#sk-container-id-4 div.sk-toggleable {background-color: white;}#sk-container-id-4 label.sk-toggleable__label {cursor: pointer;display: block;width: 100%;margin-bottom: 0;padding: 0.3em;box-sizing: border-box;text-align: center;}#sk-container-id-4 label.sk-toggleable__label-arrow:before {content: \"▸\";float: left;margin-right: 0.25em;color: #696969;}#sk-container-id-4 label.sk-toggleable__label-arrow:hover:before {color: black;}#sk-container-id-4 div.sk-estimator:hover label.sk-toggleable__label-arrow:before {color: black;}#sk-container-id-4 div.sk-toggleable__content {max-height: 0;max-width: 0;overflow: hidden;text-align: left;background-color: #f0f8ff;}#sk-container-id-4 div.sk-toggleable__content pre {margin: 0.2em;color: black;border-radius: 0.25em;background-color: #f0f8ff;}#sk-container-id-4 input.sk-toggleable__control:checked~div.sk-toggleable__content {max-height: 200px;max-width: 100%;overflow: auto;}#sk-container-id-4 input.sk-toggleable__control:checked~label.sk-toggleable__label-arrow:before {content: \"▾\";}#sk-container-id-4 div.sk-estimator input.sk-toggleable__control:checked~label.sk-toggleable__label {background-color: #d4ebff;}#sk-container-id-4 div.sk-label input.sk-toggleable__control:checked~label.sk-toggleable__label {background-color: #d4ebff;}#sk-container-id-4 input.sk-hidden--visually {border: 0;clip: rect(1px 1px 1px 1px);clip: rect(1px, 1px, 1px, 1px);height: 1px;margin: -1px;overflow: hidden;padding: 0;position: absolute;width: 1px;}#sk-container-id-4 div.sk-estimator {font-family: monospace;background-color: #f0f8ff;border: 1px dotted black;border-radius: 0.25em;box-sizing: border-box;margin-bottom: 0.5em;}#sk-container-id-4 div.sk-estimator:hover {background-color: #d4ebff;}#sk-container-id-4 div.sk-parallel-item::after {content: \"\";width: 100%;border-bottom: 1px solid gray;flex-grow: 1;}#sk-container-id-4 div.sk-label:hover label.sk-toggleable__label {background-color: #d4ebff;}#sk-container-id-4 div.sk-serial::before {content: \"\";position: absolute;border-left: 1px solid gray;box-sizing: border-box;top: 0;bottom: 0;left: 50%;z-index: 0;}#sk-container-id-4 div.sk-serial {display: flex;flex-direction: column;align-items: center;background-color: white;padding-right: 0.2em;padding-left: 0.2em;position: relative;}#sk-container-id-4 div.sk-item {position: relative;z-index: 1;}#sk-container-id-4 div.sk-parallel {display: flex;align-items: stretch;justify-content: center;background-color: white;position: relative;}#sk-container-id-4 div.sk-item::before, #sk-container-id-4 div.sk-parallel-item::before {content: \"\";position: absolute;border-left: 1px solid gray;box-sizing: border-box;top: 0;bottom: 0;left: 50%;z-index: -1;}#sk-container-id-4 div.sk-parallel-item {display: flex;flex-direction: column;z-index: 1;position: relative;background-color: white;}#sk-container-id-4 div.sk-parallel-item:first-child::after {align-self: flex-end;width: 50%;}#sk-container-id-4 div.sk-parallel-item:last-child::after {align-self: flex-start;width: 50%;}#sk-container-id-4 div.sk-parallel-item:only-child::after {width: 0;}#sk-container-id-4 div.sk-dashed-wrapped {border: 1px dashed gray;margin: 0 0.4em 0.5em 0.4em;box-sizing: border-box;padding-bottom: 0.4em;background-color: white;}#sk-container-id-4 div.sk-label label {font-family: monospace;font-weight: bold;display: inline-block;line-height: 1.2em;}#sk-container-id-4 div.sk-label-container {text-align: center;}#sk-container-id-4 div.sk-container {/* jupyter's `normalize.less` sets `[hidden] { display: none; }` but bootstrap.min.css set `[hidden] { display: none !important; }` so we also need the `!important` here to be able to override the default hidden behavior on the sphinx rendered scikit-learn.org. See: https://github.com/scikit-learn/scikit-learn/issues/21755 */display: inline-block !important;position: relative;}#sk-container-id-4 div.sk-text-repr-fallback {display: none;}</style><div id=\"sk-container-id-4\" class=\"sk-top-container\"><div class=\"sk-text-repr-fallback\"><pre>LearningShapelets(max_iter=2000, n_shapelets_per_size={5: 6, 10: 6, 20: 6},\n",
       "                  optimizer=&#x27;adam&#x27;, random_state=42, weight_regularizer=0.01)</pre><b>In a Jupyter environment, please rerun this cell to show the HTML representation or trust the notebook. <br />On GitHub, the HTML representation is unable to render, please try loading this page with nbviewer.org.</b></div><div class=\"sk-container\" hidden><div class=\"sk-item\"><div class=\"sk-estimator sk-toggleable\"><input class=\"sk-toggleable__control sk-hidden--visually\" id=\"sk-estimator-id-4\" type=\"checkbox\" checked><label for=\"sk-estimator-id-4\" class=\"sk-toggleable__label sk-toggleable__label-arrow\">LearningShapelets</label><div class=\"sk-toggleable__content\"><pre>LearningShapelets(max_iter=2000, n_shapelets_per_size={5: 6, 10: 6, 20: 6},\n",
       "                  optimizer=&#x27;adam&#x27;, random_state=42, weight_regularizer=0.01)</pre></div></div></div></div></div>"
      ],
      "text/plain": [
       "LearningShapelets(max_iter=2000, n_shapelets_per_size={5: 6, 10: 6, 20: 6},\n",
       "                  optimizer='adam', random_state=42, weight_regularizer=0.01)"
      ]
     },
     "execution_count": 40,
     "metadata": {},
     "output_type": "execute_result"
    }
   ],
   "source": [
    "%%time\n",
    "model.fit(ts_train, y_train)"
   ]
  },
  {
   "cell_type": "code",
   "execution_count": 41,
   "id": "51706baa",
   "metadata": {
    "execution": {
     "iopub.execute_input": "2023-03-08T12:38:43.936595Z",
     "iopub.status.busy": "2023-03-08T12:38:43.935610Z",
     "iopub.status.idle": "2023-03-08T12:38:43.972808Z",
     "shell.execute_reply": "2023-03-08T12:38:43.971153Z"
    },
    "papermill": {
     "duration": 0.056068,
     "end_time": "2023-03-08T12:38:43.976524",
     "exception": false,
     "start_time": "2023-03-08T12:38:43.920456",
     "status": "completed"
    },
    "tags": []
   },
   "outputs": [],
   "source": [
    "model.to_pickle(f'{data_path}/shapelets.pkl')"
   ]
  },
  {
   "cell_type": "markdown",
   "id": "309f70dc",
   "metadata": {
    "papermill": {
     "duration": 0.027543,
     "end_time": "2023-03-08T12:38:44.038144",
     "exception": false,
     "start_time": "2023-03-08T12:38:44.010601",
     "status": "completed"
    },
    "tags": []
   },
   "source": [
    "#### Shapelet-Based Classification"
   ]
  },
  {
   "cell_type": "code",
   "execution_count": 42,
   "id": "60125dff",
   "metadata": {
    "execution": {
     "iopub.execute_input": "2023-03-08T12:38:44.072052Z",
     "iopub.status.busy": "2023-03-08T12:38:44.071485Z",
     "iopub.status.idle": "2023-03-08T12:38:44.078162Z",
     "shell.execute_reply": "2023-03-08T12:38:44.076761Z"
    },
    "papermill": {
     "duration": 0.024908,
     "end_time": "2023-03-08T12:38:44.079840",
     "exception": false,
     "start_time": "2023-03-08T12:38:44.054932",
     "status": "completed"
    },
    "tags": []
   },
   "outputs": [],
   "source": [
    "metrics_data['Shapelets'] = {}"
   ]
  },
  {
   "cell_type": "code",
   "execution_count": 43,
   "id": "efb8984d",
   "metadata": {
    "execution": {
     "iopub.execute_input": "2023-03-08T12:38:44.110395Z",
     "iopub.status.busy": "2023-03-08T12:38:44.109333Z",
     "iopub.status.idle": "2023-03-08T12:38:44.917824Z",
     "shell.execute_reply": "2023-03-08T12:38:44.917100Z"
    },
    "papermill": {
     "duration": 0.826655,
     "end_time": "2023-03-08T12:38:44.920369",
     "exception": false,
     "start_time": "2023-03-08T12:38:44.093714",
     "status": "completed"
    },
    "tags": []
   },
   "outputs": [],
   "source": [
    "X_train = model.transform(ts_train)\n",
    "X_test = model.transform(ts_test)"
   ]
  },
  {
   "cell_type": "code",
   "execution_count": 44,
   "id": "2e6c0f22",
   "metadata": {
    "execution": {
     "iopub.execute_input": "2023-03-08T12:38:44.951972Z",
     "iopub.status.busy": "2023-03-08T12:38:44.950821Z",
     "iopub.status.idle": "2023-03-08T12:38:44.991570Z",
     "shell.execute_reply": "2023-03-08T12:38:44.990339Z"
    },
    "papermill": {
     "duration": 0.059298,
     "end_time": "2023-03-08T12:38:44.994811",
     "exception": false,
     "start_time": "2023-03-08T12:38:44.935513",
     "status": "completed"
    },
    "tags": []
   },
   "outputs": [
    {
     "data": {
      "text/html": [
       "<div>\n",
       "<style scoped>\n",
       "    .dataframe tbody tr th:only-of-type {\n",
       "        vertical-align: middle;\n",
       "    }\n",
       "\n",
       "    .dataframe tbody tr th {\n",
       "        vertical-align: top;\n",
       "    }\n",
       "\n",
       "    .dataframe thead th {\n",
       "        text-align: right;\n",
       "    }\n",
       "</style>\n",
       "<table border=\"1\" class=\"dataframe\">\n",
       "  <thead>\n",
       "    <tr style=\"text-align: right;\">\n",
       "      <th></th>\n",
       "      <th>0</th>\n",
       "      <th>1</th>\n",
       "      <th>2</th>\n",
       "      <th>3</th>\n",
       "      <th>4</th>\n",
       "      <th>5</th>\n",
       "      <th>6</th>\n",
       "      <th>7</th>\n",
       "      <th>8</th>\n",
       "      <th>9</th>\n",
       "      <th>10</th>\n",
       "      <th>11</th>\n",
       "      <th>12</th>\n",
       "      <th>13</th>\n",
       "      <th>14</th>\n",
       "      <th>15</th>\n",
       "      <th>16</th>\n",
       "      <th>17</th>\n",
       "    </tr>\n",
       "  </thead>\n",
       "  <tbody>\n",
       "    <tr>\n",
       "      <th>0</th>\n",
       "      <td>0.067096</td>\n",
       "      <td>1.346044</td>\n",
       "      <td>2.817298</td>\n",
       "      <td>2.176456</td>\n",
       "      <td>1.671402</td>\n",
       "      <td>2.838776</td>\n",
       "      <td>2.955918</td>\n",
       "      <td>3.796031</td>\n",
       "      <td>1.491471</td>\n",
       "      <td>3.296463</td>\n",
       "      <td>3.230207</td>\n",
       "      <td>2.877343</td>\n",
       "      <td>3.673584</td>\n",
       "      <td>3.236646</td>\n",
       "      <td>4.670667</td>\n",
       "      <td>3.573690</td>\n",
       "      <td>3.731075</td>\n",
       "      <td>4.687943</td>\n",
       "    </tr>\n",
       "    <tr>\n",
       "      <th>1</th>\n",
       "      <td>0.142631</td>\n",
       "      <td>1.282225</td>\n",
       "      <td>3.142958</td>\n",
       "      <td>2.302227</td>\n",
       "      <td>1.466013</td>\n",
       "      <td>2.845295</td>\n",
       "      <td>3.361708</td>\n",
       "      <td>3.831749</td>\n",
       "      <td>1.308184</td>\n",
       "      <td>3.726276</td>\n",
       "      <td>3.145695</td>\n",
       "      <td>3.085993</td>\n",
       "      <td>3.497568</td>\n",
       "      <td>3.106942</td>\n",
       "      <td>5.350520</td>\n",
       "      <td>3.452234</td>\n",
       "      <td>3.581915</td>\n",
       "      <td>5.367377</td>\n",
       "    </tr>\n",
       "    <tr>\n",
       "      <th>2</th>\n",
       "      <td>0.033240</td>\n",
       "      <td>1.494643</td>\n",
       "      <td>3.090059</td>\n",
       "      <td>2.009599</td>\n",
       "      <td>1.853527</td>\n",
       "      <td>2.436168</td>\n",
       "      <td>2.748242</td>\n",
       "      <td>4.255735</td>\n",
       "      <td>1.695153</td>\n",
       "      <td>2.780200</td>\n",
       "      <td>3.228514</td>\n",
       "      <td>2.446151</td>\n",
       "      <td>3.888424</td>\n",
       "      <td>3.513661</td>\n",
       "      <td>4.313825</td>\n",
       "      <td>3.798000</td>\n",
       "      <td>3.973454</td>\n",
       "      <td>4.317630</td>\n",
       "    </tr>\n",
       "    <tr>\n",
       "      <th>3</th>\n",
       "      <td>0.050712</td>\n",
       "      <td>1.746702</td>\n",
       "      <td>3.037874</td>\n",
       "      <td>1.779478</td>\n",
       "      <td>2.133058</td>\n",
       "      <td>2.105480</td>\n",
       "      <td>2.501962</td>\n",
       "      <td>4.205053</td>\n",
       "      <td>1.850266</td>\n",
       "      <td>2.635365</td>\n",
       "      <td>3.446266</td>\n",
       "      <td>2.526932</td>\n",
       "      <td>4.413370</td>\n",
       "      <td>3.847732</td>\n",
       "      <td>4.382604</td>\n",
       "      <td>4.268828</td>\n",
       "      <td>4.464147</td>\n",
       "      <td>4.393448</td>\n",
       "    </tr>\n",
       "    <tr>\n",
       "      <th>4</th>\n",
       "      <td>0.055633</td>\n",
       "      <td>1.566117</td>\n",
       "      <td>3.112106</td>\n",
       "      <td>2.311930</td>\n",
       "      <td>1.872157</td>\n",
       "      <td>2.549905</td>\n",
       "      <td>3.089920</td>\n",
       "      <td>4.099327</td>\n",
       "      <td>1.650869</td>\n",
       "      <td>3.208239</td>\n",
       "      <td>3.481646</td>\n",
       "      <td>2.663356</td>\n",
       "      <td>3.695142</td>\n",
       "      <td>3.321019</td>\n",
       "      <td>4.554323</td>\n",
       "      <td>3.628292</td>\n",
       "      <td>3.791338</td>\n",
       "      <td>4.569351</td>\n",
       "    </tr>\n",
       "    <tr>\n",
       "      <th>...</th>\n",
       "      <td>...</td>\n",
       "      <td>...</td>\n",
       "      <td>...</td>\n",
       "      <td>...</td>\n",
       "      <td>...</td>\n",
       "      <td>...</td>\n",
       "      <td>...</td>\n",
       "      <td>...</td>\n",
       "      <td>...</td>\n",
       "      <td>...</td>\n",
       "      <td>...</td>\n",
       "      <td>...</td>\n",
       "      <td>...</td>\n",
       "      <td>...</td>\n",
       "      <td>...</td>\n",
       "      <td>...</td>\n",
       "      <td>...</td>\n",
       "      <td>...</td>\n",
       "    </tr>\n",
       "    <tr>\n",
       "      <th>1498</th>\n",
       "      <td>0.093534</td>\n",
       "      <td>1.509109</td>\n",
       "      <td>2.558903</td>\n",
       "      <td>2.024206</td>\n",
       "      <td>1.820215</td>\n",
       "      <td>2.505846</td>\n",
       "      <td>2.625975</td>\n",
       "      <td>4.072569</td>\n",
       "      <td>1.733488</td>\n",
       "      <td>3.080686</td>\n",
       "      <td>3.162539</td>\n",
       "      <td>2.870157</td>\n",
       "      <td>3.960729</td>\n",
       "      <td>3.420479</td>\n",
       "      <td>4.537068</td>\n",
       "      <td>3.786747</td>\n",
       "      <td>3.910461</td>\n",
       "      <td>4.554585</td>\n",
       "    </tr>\n",
       "    <tr>\n",
       "      <th>1499</th>\n",
       "      <td>0.032899</td>\n",
       "      <td>2.320028</td>\n",
       "      <td>3.105523</td>\n",
       "      <td>2.028908</td>\n",
       "      <td>2.761921</td>\n",
       "      <td>3.161557</td>\n",
       "      <td>2.380994</td>\n",
       "      <td>5.032580</td>\n",
       "      <td>2.059000</td>\n",
       "      <td>2.594553</td>\n",
       "      <td>4.187005</td>\n",
       "      <td>2.341213</td>\n",
       "      <td>4.672002</td>\n",
       "      <td>4.277503</td>\n",
       "      <td>3.903077</td>\n",
       "      <td>4.642073</td>\n",
       "      <td>4.801134</td>\n",
       "      <td>3.915890</td>\n",
       "    </tr>\n",
       "    <tr>\n",
       "      <th>1500</th>\n",
       "      <td>0.061766</td>\n",
       "      <td>1.625605</td>\n",
       "      <td>2.715586</td>\n",
       "      <td>1.598999</td>\n",
       "      <td>1.933659</td>\n",
       "      <td>2.615232</td>\n",
       "      <td>2.696263</td>\n",
       "      <td>4.410402</td>\n",
       "      <td>1.567321</td>\n",
       "      <td>2.925211</td>\n",
       "      <td>3.528278</td>\n",
       "      <td>2.556702</td>\n",
       "      <td>4.157846</td>\n",
       "      <td>3.746794</td>\n",
       "      <td>4.409120</td>\n",
       "      <td>4.065219</td>\n",
       "      <td>4.221408</td>\n",
       "      <td>4.436004</td>\n",
       "    </tr>\n",
       "    <tr>\n",
       "      <th>1501</th>\n",
       "      <td>0.034031</td>\n",
       "      <td>1.364441</td>\n",
       "      <td>2.796526</td>\n",
       "      <td>1.609871</td>\n",
       "      <td>1.683520</td>\n",
       "      <td>2.244323</td>\n",
       "      <td>2.402636</td>\n",
       "      <td>4.236285</td>\n",
       "      <td>1.724788</td>\n",
       "      <td>2.686519</td>\n",
       "      <td>3.234972</td>\n",
       "      <td>2.374452</td>\n",
       "      <td>3.998816</td>\n",
       "      <td>3.576867</td>\n",
       "      <td>4.173312</td>\n",
       "      <td>3.867897</td>\n",
       "      <td>3.985481</td>\n",
       "      <td>4.179935</td>\n",
       "    </tr>\n",
       "    <tr>\n",
       "      <th>1502</th>\n",
       "      <td>0.131434</td>\n",
       "      <td>1.060858</td>\n",
       "      <td>2.974839</td>\n",
       "      <td>2.257978</td>\n",
       "      <td>1.373922</td>\n",
       "      <td>2.491594</td>\n",
       "      <td>3.137825</td>\n",
       "      <td>3.409243</td>\n",
       "      <td>1.114593</td>\n",
       "      <td>3.486865</td>\n",
       "      <td>2.935648</td>\n",
       "      <td>3.239932</td>\n",
       "      <td>2.888908</td>\n",
       "      <td>2.729177</td>\n",
       "      <td>5.478174</td>\n",
       "      <td>2.840598</td>\n",
       "      <td>2.951521</td>\n",
       "      <td>5.479576</td>\n",
       "    </tr>\n",
       "  </tbody>\n",
       "</table>\n",
       "<p>1503 rows × 18 columns</p>\n",
       "</div>"
      ],
      "text/plain": [
       "            0         1         2         3         4         5         6   \\\n",
       "0     0.067096  1.346044  2.817298  2.176456  1.671402  2.838776  2.955918   \n",
       "1     0.142631  1.282225  3.142958  2.302227  1.466013  2.845295  3.361708   \n",
       "2     0.033240  1.494643  3.090059  2.009599  1.853527  2.436168  2.748242   \n",
       "3     0.050712  1.746702  3.037874  1.779478  2.133058  2.105480  2.501962   \n",
       "4     0.055633  1.566117  3.112106  2.311930  1.872157  2.549905  3.089920   \n",
       "...        ...       ...       ...       ...       ...       ...       ...   \n",
       "1498  0.093534  1.509109  2.558903  2.024206  1.820215  2.505846  2.625975   \n",
       "1499  0.032899  2.320028  3.105523  2.028908  2.761921  3.161557  2.380994   \n",
       "1500  0.061766  1.625605  2.715586  1.598999  1.933659  2.615232  2.696263   \n",
       "1501  0.034031  1.364441  2.796526  1.609871  1.683520  2.244323  2.402636   \n",
       "1502  0.131434  1.060858  2.974839  2.257978  1.373922  2.491594  3.137825   \n",
       "\n",
       "            7         8         9         10        11        12        13  \\\n",
       "0     3.796031  1.491471  3.296463  3.230207  2.877343  3.673584  3.236646   \n",
       "1     3.831749  1.308184  3.726276  3.145695  3.085993  3.497568  3.106942   \n",
       "2     4.255735  1.695153  2.780200  3.228514  2.446151  3.888424  3.513661   \n",
       "3     4.205053  1.850266  2.635365  3.446266  2.526932  4.413370  3.847732   \n",
       "4     4.099327  1.650869  3.208239  3.481646  2.663356  3.695142  3.321019   \n",
       "...        ...       ...       ...       ...       ...       ...       ...   \n",
       "1498  4.072569  1.733488  3.080686  3.162539  2.870157  3.960729  3.420479   \n",
       "1499  5.032580  2.059000  2.594553  4.187005  2.341213  4.672002  4.277503   \n",
       "1500  4.410402  1.567321  2.925211  3.528278  2.556702  4.157846  3.746794   \n",
       "1501  4.236285  1.724788  2.686519  3.234972  2.374452  3.998816  3.576867   \n",
       "1502  3.409243  1.114593  3.486865  2.935648  3.239932  2.888908  2.729177   \n",
       "\n",
       "            14        15        16        17  \n",
       "0     4.670667  3.573690  3.731075  4.687943  \n",
       "1     5.350520  3.452234  3.581915  5.367377  \n",
       "2     4.313825  3.798000  3.973454  4.317630  \n",
       "3     4.382604  4.268828  4.464147  4.393448  \n",
       "4     4.554323  3.628292  3.791338  4.569351  \n",
       "...        ...       ...       ...       ...  \n",
       "1498  4.537068  3.786747  3.910461  4.554585  \n",
       "1499  3.903077  4.642073  4.801134  3.915890  \n",
       "1500  4.409120  4.065219  4.221408  4.436004  \n",
       "1501  4.173312  3.867897  3.985481  4.179935  \n",
       "1502  5.478174  2.840598  2.951521  5.479576  \n",
       "\n",
       "[1503 rows x 18 columns]"
      ]
     },
     "execution_count": 44,
     "metadata": {},
     "output_type": "execute_result"
    }
   ],
   "source": [
    "pd.DataFrame(X_test)"
   ]
  },
  {
   "cell_type": "markdown",
   "id": "5fa024f7",
   "metadata": {
    "execution": {
     "iopub.execute_input": "2023-02-07T23:47:19.876941Z",
     "iopub.status.busy": "2023-02-07T23:47:19.876424Z",
     "iopub.status.idle": "2023-02-07T23:47:20.399488Z",
     "shell.execute_reply": "2023-02-07T23:47:20.398142Z"
    },
    "papermill": {
     "duration": 0.027251,
     "end_time": "2023-03-08T12:38:45.051445",
     "exception": false,
     "start_time": "2023-03-08T12:38:45.024194",
     "status": "completed"
    },
    "tags": []
   },
   "source": [
    "**Decision Tree**"
   ]
  },
  {
   "cell_type": "code",
   "execution_count": 45,
   "id": "4f5400c9",
   "metadata": {
    "execution": {
     "iopub.execute_input": "2023-03-08T12:38:45.081878Z",
     "iopub.status.busy": "2023-03-08T12:38:45.081383Z",
     "iopub.status.idle": "2023-03-08T12:38:45.272697Z",
     "shell.execute_reply": "2023-03-08T12:38:45.271744Z"
    },
    "papermill": {
     "duration": 0.21017,
     "end_time": "2023-03-08T12:38:45.275601",
     "exception": false,
     "start_time": "2023-03-08T12:38:45.065431",
     "status": "completed"
    },
    "tags": []
   },
   "outputs": [
    {
     "data": {
      "text/html": [
       "<style>#sk-container-id-5 {color: black;background-color: white;}#sk-container-id-5 pre{padding: 0;}#sk-container-id-5 div.sk-toggleable {background-color: white;}#sk-container-id-5 label.sk-toggleable__label {cursor: pointer;display: block;width: 100%;margin-bottom: 0;padding: 0.3em;box-sizing: border-box;text-align: center;}#sk-container-id-5 label.sk-toggleable__label-arrow:before {content: \"▸\";float: left;margin-right: 0.25em;color: #696969;}#sk-container-id-5 label.sk-toggleable__label-arrow:hover:before {color: black;}#sk-container-id-5 div.sk-estimator:hover label.sk-toggleable__label-arrow:before {color: black;}#sk-container-id-5 div.sk-toggleable__content {max-height: 0;max-width: 0;overflow: hidden;text-align: left;background-color: #f0f8ff;}#sk-container-id-5 div.sk-toggleable__content pre {margin: 0.2em;color: black;border-radius: 0.25em;background-color: #f0f8ff;}#sk-container-id-5 input.sk-toggleable__control:checked~div.sk-toggleable__content {max-height: 200px;max-width: 100%;overflow: auto;}#sk-container-id-5 input.sk-toggleable__control:checked~label.sk-toggleable__label-arrow:before {content: \"▾\";}#sk-container-id-5 div.sk-estimator input.sk-toggleable__control:checked~label.sk-toggleable__label {background-color: #d4ebff;}#sk-container-id-5 div.sk-label input.sk-toggleable__control:checked~label.sk-toggleable__label {background-color: #d4ebff;}#sk-container-id-5 input.sk-hidden--visually {border: 0;clip: rect(1px 1px 1px 1px);clip: rect(1px, 1px, 1px, 1px);height: 1px;margin: -1px;overflow: hidden;padding: 0;position: absolute;width: 1px;}#sk-container-id-5 div.sk-estimator {font-family: monospace;background-color: #f0f8ff;border: 1px dotted black;border-radius: 0.25em;box-sizing: border-box;margin-bottom: 0.5em;}#sk-container-id-5 div.sk-estimator:hover {background-color: #d4ebff;}#sk-container-id-5 div.sk-parallel-item::after {content: \"\";width: 100%;border-bottom: 1px solid gray;flex-grow: 1;}#sk-container-id-5 div.sk-label:hover label.sk-toggleable__label {background-color: #d4ebff;}#sk-container-id-5 div.sk-serial::before {content: \"\";position: absolute;border-left: 1px solid gray;box-sizing: border-box;top: 0;bottom: 0;left: 50%;z-index: 0;}#sk-container-id-5 div.sk-serial {display: flex;flex-direction: column;align-items: center;background-color: white;padding-right: 0.2em;padding-left: 0.2em;position: relative;}#sk-container-id-5 div.sk-item {position: relative;z-index: 1;}#sk-container-id-5 div.sk-parallel {display: flex;align-items: stretch;justify-content: center;background-color: white;position: relative;}#sk-container-id-5 div.sk-item::before, #sk-container-id-5 div.sk-parallel-item::before {content: \"\";position: absolute;border-left: 1px solid gray;box-sizing: border-box;top: 0;bottom: 0;left: 50%;z-index: -1;}#sk-container-id-5 div.sk-parallel-item {display: flex;flex-direction: column;z-index: 1;position: relative;background-color: white;}#sk-container-id-5 div.sk-parallel-item:first-child::after {align-self: flex-end;width: 50%;}#sk-container-id-5 div.sk-parallel-item:last-child::after {align-self: flex-start;width: 50%;}#sk-container-id-5 div.sk-parallel-item:only-child::after {width: 0;}#sk-container-id-5 div.sk-dashed-wrapped {border: 1px dashed gray;margin: 0 0.4em 0.5em 0.4em;box-sizing: border-box;padding-bottom: 0.4em;background-color: white;}#sk-container-id-5 div.sk-label label {font-family: monospace;font-weight: bold;display: inline-block;line-height: 1.2em;}#sk-container-id-5 div.sk-label-container {text-align: center;}#sk-container-id-5 div.sk-container {/* jupyter's `normalize.less` sets `[hidden] { display: none; }` but bootstrap.min.css set `[hidden] { display: none !important; }` so we also need the `!important` here to be able to override the default hidden behavior on the sphinx rendered scikit-learn.org. See: https://github.com/scikit-learn/scikit-learn/issues/21755 */display: inline-block !important;position: relative;}#sk-container-id-5 div.sk-text-repr-fallback {display: none;}</style><div id=\"sk-container-id-5\" class=\"sk-top-container\"><div class=\"sk-text-repr-fallback\"><pre>DecisionTreeClassifier(random_state=42)</pre><b>In a Jupyter environment, please rerun this cell to show the HTML representation or trust the notebook. <br />On GitHub, the HTML representation is unable to render, please try loading this page with nbviewer.org.</b></div><div class=\"sk-container\" hidden><div class=\"sk-item\"><div class=\"sk-estimator sk-toggleable\"><input class=\"sk-toggleable__control sk-hidden--visually\" id=\"sk-estimator-id-5\" type=\"checkbox\" checked><label for=\"sk-estimator-id-5\" class=\"sk-toggleable__label sk-toggleable__label-arrow\">DecisionTreeClassifier</label><div class=\"sk-toggleable__content\"><pre>DecisionTreeClassifier(random_state=42)</pre></div></div></div></div></div>"
      ],
      "text/plain": [
       "DecisionTreeClassifier(random_state=42)"
      ]
     },
     "execution_count": 45,
     "metadata": {},
     "output_type": "execute_result"
    }
   ],
   "source": [
    "clf = DecisionTreeClassifier(random_state=42)\n",
    "clf.fit(X_train, y_train)"
   ]
  },
  {
   "cell_type": "code",
   "execution_count": 46,
   "id": "3b56d190",
   "metadata": {
    "execution": {
     "iopub.execute_input": "2023-03-08T12:38:45.336417Z",
     "iopub.status.busy": "2023-03-08T12:38:45.335975Z",
     "iopub.status.idle": "2023-03-08T12:38:45.406875Z",
     "shell.execute_reply": "2023-03-08T12:38:45.405965Z"
    },
    "papermill": {
     "duration": 0.103926,
     "end_time": "2023-03-08T12:38:45.409823",
     "exception": false,
     "start_time": "2023-03-08T12:38:45.305897",
     "status": "completed"
    },
    "tags": []
   },
   "outputs": [
    {
     "name": "stdout",
     "output_type": "stream",
     "text": [
      "                                           precision    recall  f1-score   support\n",
      "\n",
      "                    action_thriller_crime       0.31      0.31      0.31       306\n",
      "                                   comedy       0.37      0.37      0.37       404\n",
      "                                    drama       0.37      0.39      0.38       494\n",
      "horror_scifi_mystery_supernatural_fantasy       0.31      0.28      0.30       299\n",
      "\n",
      "                                 accuracy                           0.35      1503\n",
      "                                macro avg       0.34      0.34      0.34      1503\n",
      "                             weighted avg       0.35      0.35      0.35      1503\n",
      "\n"
     ]
    }
   ],
   "source": [
    "y_pred = clf.predict(X_test)\n",
    "print(classification_report(y_test, y_pred))"
   ]
  },
  {
   "cell_type": "code",
   "execution_count": 47,
   "id": "42bc91ff",
   "metadata": {
    "execution": {
     "iopub.execute_input": "2023-03-08T12:38:45.467763Z",
     "iopub.status.busy": "2023-03-08T12:38:45.467512Z",
     "iopub.status.idle": "2023-03-08T12:38:45.472507Z",
     "shell.execute_reply": "2023-03-08T12:38:45.471705Z"
    },
    "papermill": {
     "duration": 0.034479,
     "end_time": "2023-03-08T12:38:45.474162",
     "exception": false,
     "start_time": "2023-03-08T12:38:45.439683",
     "status": "completed"
    },
    "tags": []
   },
   "outputs": [],
   "source": [
    "pickle.dump(clf, open(f'{data_path}/decision_tree.pkl', 'wb'))"
   ]
  },
  {
   "cell_type": "code",
   "execution_count": 48,
   "id": "ea9be210",
   "metadata": {
    "execution": {
     "iopub.execute_input": "2023-03-08T12:38:45.507421Z",
     "iopub.status.busy": "2023-03-08T12:38:45.507164Z",
     "iopub.status.idle": "2023-03-08T12:38:45.571614Z",
     "shell.execute_reply": "2023-03-08T12:38:45.570287Z"
    },
    "papermill": {
     "duration": 0.084796,
     "end_time": "2023-03-08T12:38:45.574969",
     "exception": false,
     "start_time": "2023-03-08T12:38:45.490173",
     "status": "completed"
    },
    "tags": []
   },
   "outputs": [],
   "source": [
    "acc = accuracy_score(y_test, y_pred)\n",
    "pre = precision_score(y_test, y_pred, average=avg_par)\n",
    "rec = recall_score(y_test, y_pred, average=avg_par)\n",
    "f1 = f1_score(y_test, y_pred, average=avg_par)\n",
    "\n",
    "metrics_data['Shapelets']['DecisionTree'] = {'Accuracy': acc, 'Precision': pre, 'Recall': rec, 'F1': f1}"
   ]
  },
  {
   "cell_type": "markdown",
   "id": "3ca3443b",
   "metadata": {
    "papermill": {
     "duration": 0.016272,
     "end_time": "2023-03-08T12:38:45.608864",
     "exception": false,
     "start_time": "2023-03-08T12:38:45.592592",
     "status": "completed"
    },
    "tags": []
   },
   "source": [
    "**Random Forest**"
   ]
  },
  {
   "cell_type": "code",
   "execution_count": 49,
   "id": "37795e21",
   "metadata": {
    "execution": {
     "iopub.execute_input": "2023-03-08T12:38:45.659359Z",
     "iopub.status.busy": "2023-03-08T12:38:45.658834Z",
     "iopub.status.idle": "2023-03-08T12:38:47.963670Z",
     "shell.execute_reply": "2023-03-08T12:38:47.962735Z"
    },
    "papermill": {
     "duration": 2.323969,
     "end_time": "2023-03-08T12:38:47.966508",
     "exception": false,
     "start_time": "2023-03-08T12:38:45.642539",
     "status": "completed"
    },
    "tags": []
   },
   "outputs": [
    {
     "data": {
      "text/html": [
       "<style>#sk-container-id-6 {color: black;background-color: white;}#sk-container-id-6 pre{padding: 0;}#sk-container-id-6 div.sk-toggleable {background-color: white;}#sk-container-id-6 label.sk-toggleable__label {cursor: pointer;display: block;width: 100%;margin-bottom: 0;padding: 0.3em;box-sizing: border-box;text-align: center;}#sk-container-id-6 label.sk-toggleable__label-arrow:before {content: \"▸\";float: left;margin-right: 0.25em;color: #696969;}#sk-container-id-6 label.sk-toggleable__label-arrow:hover:before {color: black;}#sk-container-id-6 div.sk-estimator:hover label.sk-toggleable__label-arrow:before {color: black;}#sk-container-id-6 div.sk-toggleable__content {max-height: 0;max-width: 0;overflow: hidden;text-align: left;background-color: #f0f8ff;}#sk-container-id-6 div.sk-toggleable__content pre {margin: 0.2em;color: black;border-radius: 0.25em;background-color: #f0f8ff;}#sk-container-id-6 input.sk-toggleable__control:checked~div.sk-toggleable__content {max-height: 200px;max-width: 100%;overflow: auto;}#sk-container-id-6 input.sk-toggleable__control:checked~label.sk-toggleable__label-arrow:before {content: \"▾\";}#sk-container-id-6 div.sk-estimator input.sk-toggleable__control:checked~label.sk-toggleable__label {background-color: #d4ebff;}#sk-container-id-6 div.sk-label input.sk-toggleable__control:checked~label.sk-toggleable__label {background-color: #d4ebff;}#sk-container-id-6 input.sk-hidden--visually {border: 0;clip: rect(1px 1px 1px 1px);clip: rect(1px, 1px, 1px, 1px);height: 1px;margin: -1px;overflow: hidden;padding: 0;position: absolute;width: 1px;}#sk-container-id-6 div.sk-estimator {font-family: monospace;background-color: #f0f8ff;border: 1px dotted black;border-radius: 0.25em;box-sizing: border-box;margin-bottom: 0.5em;}#sk-container-id-6 div.sk-estimator:hover {background-color: #d4ebff;}#sk-container-id-6 div.sk-parallel-item::after {content: \"\";width: 100%;border-bottom: 1px solid gray;flex-grow: 1;}#sk-container-id-6 div.sk-label:hover label.sk-toggleable__label {background-color: #d4ebff;}#sk-container-id-6 div.sk-serial::before {content: \"\";position: absolute;border-left: 1px solid gray;box-sizing: border-box;top: 0;bottom: 0;left: 50%;z-index: 0;}#sk-container-id-6 div.sk-serial {display: flex;flex-direction: column;align-items: center;background-color: white;padding-right: 0.2em;padding-left: 0.2em;position: relative;}#sk-container-id-6 div.sk-item {position: relative;z-index: 1;}#sk-container-id-6 div.sk-parallel {display: flex;align-items: stretch;justify-content: center;background-color: white;position: relative;}#sk-container-id-6 div.sk-item::before, #sk-container-id-6 div.sk-parallel-item::before {content: \"\";position: absolute;border-left: 1px solid gray;box-sizing: border-box;top: 0;bottom: 0;left: 50%;z-index: -1;}#sk-container-id-6 div.sk-parallel-item {display: flex;flex-direction: column;z-index: 1;position: relative;background-color: white;}#sk-container-id-6 div.sk-parallel-item:first-child::after {align-self: flex-end;width: 50%;}#sk-container-id-6 div.sk-parallel-item:last-child::after {align-self: flex-start;width: 50%;}#sk-container-id-6 div.sk-parallel-item:only-child::after {width: 0;}#sk-container-id-6 div.sk-dashed-wrapped {border: 1px dashed gray;margin: 0 0.4em 0.5em 0.4em;box-sizing: border-box;padding-bottom: 0.4em;background-color: white;}#sk-container-id-6 div.sk-label label {font-family: monospace;font-weight: bold;display: inline-block;line-height: 1.2em;}#sk-container-id-6 div.sk-label-container {text-align: center;}#sk-container-id-6 div.sk-container {/* jupyter's `normalize.less` sets `[hidden] { display: none; }` but bootstrap.min.css set `[hidden] { display: none !important; }` so we also need the `!important` here to be able to override the default hidden behavior on the sphinx rendered scikit-learn.org. See: https://github.com/scikit-learn/scikit-learn/issues/21755 */display: inline-block !important;position: relative;}#sk-container-id-6 div.sk-text-repr-fallback {display: none;}</style><div id=\"sk-container-id-6\" class=\"sk-top-container\"><div class=\"sk-text-repr-fallback\"><pre>RandomForestClassifier(random_state=42)</pre><b>In a Jupyter environment, please rerun this cell to show the HTML representation or trust the notebook. <br />On GitHub, the HTML representation is unable to render, please try loading this page with nbviewer.org.</b></div><div class=\"sk-container\" hidden><div class=\"sk-item\"><div class=\"sk-estimator sk-toggleable\"><input class=\"sk-toggleable__control sk-hidden--visually\" id=\"sk-estimator-id-6\" type=\"checkbox\" checked><label for=\"sk-estimator-id-6\" class=\"sk-toggleable__label sk-toggleable__label-arrow\">RandomForestClassifier</label><div class=\"sk-toggleable__content\"><pre>RandomForestClassifier(random_state=42)</pre></div></div></div></div></div>"
      ],
      "text/plain": [
       "RandomForestClassifier(random_state=42)"
      ]
     },
     "execution_count": 49,
     "metadata": {},
     "output_type": "execute_result"
    }
   ],
   "source": [
    "clf = RandomForestClassifier(random_state=42)\n",
    "clf.fit(X_train, y_train)"
   ]
  },
  {
   "cell_type": "code",
   "execution_count": 50,
   "id": "581ab90a",
   "metadata": {
    "execution": {
     "iopub.execute_input": "2023-03-08T12:38:48.027673Z",
     "iopub.status.busy": "2023-03-08T12:38:48.027350Z",
     "iopub.status.idle": "2023-03-08T12:38:48.100460Z",
     "shell.execute_reply": "2023-03-08T12:38:48.099505Z"
    },
    "papermill": {
     "duration": 0.098016,
     "end_time": "2023-03-08T12:38:48.103324",
     "exception": false,
     "start_time": "2023-03-08T12:38:48.005308",
     "status": "completed"
    },
    "tags": []
   },
   "outputs": [
    {
     "name": "stdout",
     "output_type": "stream",
     "text": [
      "                                           precision    recall  f1-score   support\n",
      "\n",
      "                    action_thriller_crime       0.33      0.38      0.36       306\n",
      "                                   comedy       0.44      0.48      0.46       404\n",
      "                                    drama       0.38      0.41      0.40       494\n",
      "horror_scifi_mystery_supernatural_fantasy       0.36      0.22      0.28       299\n",
      "\n",
      "                                 accuracy                           0.38      1503\n",
      "                                macro avg       0.38      0.37      0.37      1503\n",
      "                             weighted avg       0.38      0.38      0.38      1503\n",
      "\n"
     ]
    }
   ],
   "source": [
    "y_pred = clf.predict(X_test)\n",
    "print(classification_report(y_test, y_pred))"
   ]
  },
  {
   "cell_type": "code",
   "execution_count": 51,
   "id": "faf1d7f4",
   "metadata": {
    "execution": {
     "iopub.execute_input": "2023-03-08T12:38:48.164141Z",
     "iopub.status.busy": "2023-03-08T12:38:48.163830Z",
     "iopub.status.idle": "2023-03-08T12:38:48.228257Z",
     "shell.execute_reply": "2023-03-08T12:38:48.226887Z"
    },
    "papermill": {
     "duration": 0.099817,
     "end_time": "2023-03-08T12:38:48.231618",
     "exception": false,
     "start_time": "2023-03-08T12:38:48.131801",
     "status": "completed"
    },
    "tags": []
   },
   "outputs": [],
   "source": [
    "acc = accuracy_score(y_test, y_pred)\n",
    "pre = precision_score(y_test, y_pred, average=avg_par)\n",
    "rec = recall_score(y_test, y_pred, average=avg_par)\n",
    "f1 = f1_score(y_test, y_pred, average=avg_par)\n",
    "\n",
    "metrics_data['Shapelets']['RandomForest'] = {'Accuracy': acc, 'Precision': pre, 'Recall': rec, 'F1': f1}"
   ]
  },
  {
   "cell_type": "markdown",
   "id": "61fceefb",
   "metadata": {
    "papermill": {
     "duration": 0.033452,
     "end_time": "2023-03-08T12:38:48.300580",
     "exception": false,
     "start_time": "2023-03-08T12:38:48.267128",
     "status": "completed"
    },
    "tags": []
   },
   "source": [
    "**LightGBM**"
   ]
  },
  {
   "cell_type": "code",
   "execution_count": 52,
   "id": "194189da",
   "metadata": {
    "execution": {
     "iopub.execute_input": "2023-03-08T12:38:48.330329Z",
     "iopub.status.busy": "2023-03-08T12:38:48.329819Z",
     "iopub.status.idle": "2023-03-08T12:38:48.786131Z",
     "shell.execute_reply": "2023-03-08T12:38:48.785478Z"
    },
    "papermill": {
     "duration": 0.474744,
     "end_time": "2023-03-08T12:38:48.789146",
     "exception": false,
     "start_time": "2023-03-08T12:38:48.314402",
     "status": "completed"
    },
    "tags": []
   },
   "outputs": [
    {
     "data": {
      "text/html": [
       "<style>#sk-container-id-7 {color: black;background-color: white;}#sk-container-id-7 pre{padding: 0;}#sk-container-id-7 div.sk-toggleable {background-color: white;}#sk-container-id-7 label.sk-toggleable__label {cursor: pointer;display: block;width: 100%;margin-bottom: 0;padding: 0.3em;box-sizing: border-box;text-align: center;}#sk-container-id-7 label.sk-toggleable__label-arrow:before {content: \"▸\";float: left;margin-right: 0.25em;color: #696969;}#sk-container-id-7 label.sk-toggleable__label-arrow:hover:before {color: black;}#sk-container-id-7 div.sk-estimator:hover label.sk-toggleable__label-arrow:before {color: black;}#sk-container-id-7 div.sk-toggleable__content {max-height: 0;max-width: 0;overflow: hidden;text-align: left;background-color: #f0f8ff;}#sk-container-id-7 div.sk-toggleable__content pre {margin: 0.2em;color: black;border-radius: 0.25em;background-color: #f0f8ff;}#sk-container-id-7 input.sk-toggleable__control:checked~div.sk-toggleable__content {max-height: 200px;max-width: 100%;overflow: auto;}#sk-container-id-7 input.sk-toggleable__control:checked~label.sk-toggleable__label-arrow:before {content: \"▾\";}#sk-container-id-7 div.sk-estimator input.sk-toggleable__control:checked~label.sk-toggleable__label {background-color: #d4ebff;}#sk-container-id-7 div.sk-label input.sk-toggleable__control:checked~label.sk-toggleable__label {background-color: #d4ebff;}#sk-container-id-7 input.sk-hidden--visually {border: 0;clip: rect(1px 1px 1px 1px);clip: rect(1px, 1px, 1px, 1px);height: 1px;margin: -1px;overflow: hidden;padding: 0;position: absolute;width: 1px;}#sk-container-id-7 div.sk-estimator {font-family: monospace;background-color: #f0f8ff;border: 1px dotted black;border-radius: 0.25em;box-sizing: border-box;margin-bottom: 0.5em;}#sk-container-id-7 div.sk-estimator:hover {background-color: #d4ebff;}#sk-container-id-7 div.sk-parallel-item::after {content: \"\";width: 100%;border-bottom: 1px solid gray;flex-grow: 1;}#sk-container-id-7 div.sk-label:hover label.sk-toggleable__label {background-color: #d4ebff;}#sk-container-id-7 div.sk-serial::before {content: \"\";position: absolute;border-left: 1px solid gray;box-sizing: border-box;top: 0;bottom: 0;left: 50%;z-index: 0;}#sk-container-id-7 div.sk-serial {display: flex;flex-direction: column;align-items: center;background-color: white;padding-right: 0.2em;padding-left: 0.2em;position: relative;}#sk-container-id-7 div.sk-item {position: relative;z-index: 1;}#sk-container-id-7 div.sk-parallel {display: flex;align-items: stretch;justify-content: center;background-color: white;position: relative;}#sk-container-id-7 div.sk-item::before, #sk-container-id-7 div.sk-parallel-item::before {content: \"\";position: absolute;border-left: 1px solid gray;box-sizing: border-box;top: 0;bottom: 0;left: 50%;z-index: -1;}#sk-container-id-7 div.sk-parallel-item {display: flex;flex-direction: column;z-index: 1;position: relative;background-color: white;}#sk-container-id-7 div.sk-parallel-item:first-child::after {align-self: flex-end;width: 50%;}#sk-container-id-7 div.sk-parallel-item:last-child::after {align-self: flex-start;width: 50%;}#sk-container-id-7 div.sk-parallel-item:only-child::after {width: 0;}#sk-container-id-7 div.sk-dashed-wrapped {border: 1px dashed gray;margin: 0 0.4em 0.5em 0.4em;box-sizing: border-box;padding-bottom: 0.4em;background-color: white;}#sk-container-id-7 div.sk-label label {font-family: monospace;font-weight: bold;display: inline-block;line-height: 1.2em;}#sk-container-id-7 div.sk-label-container {text-align: center;}#sk-container-id-7 div.sk-container {/* jupyter's `normalize.less` sets `[hidden] { display: none; }` but bootstrap.min.css set `[hidden] { display: none !important; }` so we also need the `!important` here to be able to override the default hidden behavior on the sphinx rendered scikit-learn.org. See: https://github.com/scikit-learn/scikit-learn/issues/21755 */display: inline-block !important;position: relative;}#sk-container-id-7 div.sk-text-repr-fallback {display: none;}</style><div id=\"sk-container-id-7\" class=\"sk-top-container\"><div class=\"sk-text-repr-fallback\"><pre>LGBMClassifier(objective=&#x27;multiclass&#x27;)</pre><b>In a Jupyter environment, please rerun this cell to show the HTML representation or trust the notebook. <br />On GitHub, the HTML representation is unable to render, please try loading this page with nbviewer.org.</b></div><div class=\"sk-container\" hidden><div class=\"sk-item\"><div class=\"sk-estimator sk-toggleable\"><input class=\"sk-toggleable__control sk-hidden--visually\" id=\"sk-estimator-id-7\" type=\"checkbox\" checked><label for=\"sk-estimator-id-7\" class=\"sk-toggleable__label sk-toggleable__label-arrow\">LGBMClassifier</label><div class=\"sk-toggleable__content\"><pre>LGBMClassifier(objective=&#x27;multiclass&#x27;)</pre></div></div></div></div></div>"
      ],
      "text/plain": [
       "LGBMClassifier(objective='multiclass')"
      ]
     },
     "execution_count": 52,
     "metadata": {},
     "output_type": "execute_result"
    }
   ],
   "source": [
    "clf = lgbm.LGBMClassifier(objective=obj_par) \n",
    "clf.fit(X_train, y_train)"
   ]
  },
  {
   "cell_type": "code",
   "execution_count": 53,
   "id": "355a078b",
   "metadata": {
    "execution": {
     "iopub.execute_input": "2023-03-08T12:38:48.871283Z",
     "iopub.status.busy": "2023-03-08T12:38:48.870311Z",
     "iopub.status.idle": "2023-03-08T12:38:48.929074Z",
     "shell.execute_reply": "2023-03-08T12:38:48.927726Z"
    },
    "papermill": {
     "duration": 0.102236,
     "end_time": "2023-03-08T12:38:48.931320",
     "exception": false,
     "start_time": "2023-03-08T12:38:48.829084",
     "status": "completed"
    },
    "tags": []
   },
   "outputs": [
    {
     "name": "stdout",
     "output_type": "stream",
     "text": [
      "                                           precision    recall  f1-score   support\n",
      "\n",
      "                    action_thriller_crime       0.35      0.40      0.37       306\n",
      "                                   comedy       0.40      0.43      0.41       404\n",
      "                                    drama       0.39      0.42      0.41       494\n",
      "horror_scifi_mystery_supernatural_fantasy       0.35      0.23      0.27       299\n",
      "\n",
      "                                 accuracy                           0.38      1503\n",
      "                                macro avg       0.37      0.37      0.37      1503\n",
      "                             weighted avg       0.38      0.38      0.37      1503\n",
      "\n"
     ]
    }
   ],
   "source": [
    "y_pred = clf.predict(X_test)\n",
    "print(classification_report(y_test, y_pred))"
   ]
  },
  {
   "cell_type": "code",
   "execution_count": 54,
   "id": "f22b911e",
   "metadata": {
    "execution": {
     "iopub.execute_input": "2023-03-08T12:38:49.004240Z",
     "iopub.status.busy": "2023-03-08T12:38:49.003396Z",
     "iopub.status.idle": "2023-03-08T12:38:49.074835Z",
     "shell.execute_reply": "2023-03-08T12:38:49.073610Z"
    },
    "papermill": {
     "duration": 0.090538,
     "end_time": "2023-03-08T12:38:49.078140",
     "exception": false,
     "start_time": "2023-03-08T12:38:48.987602",
     "status": "completed"
    },
    "tags": []
   },
   "outputs": [],
   "source": [
    "acc = accuracy_score(y_test, y_pred)\n",
    "pre = precision_score(y_test, y_pred, average=avg_par)\n",
    "rec = recall_score(y_test, y_pred, average=avg_par)\n",
    "f1 = f1_score(y_test, y_pred, average=avg_par)\n",
    "\n",
    "metrics_data['Shapelets']['LightGBM'] = {'Accuracy': acc, 'Precision': pre, 'Recall': rec, 'F1': f1}"
   ]
  },
  {
   "cell_type": "markdown",
   "id": "0809af9f",
   "metadata": {
    "papermill": {
     "duration": 0.034863,
     "end_time": "2023-03-08T12:38:49.149173",
     "exception": false,
     "start_time": "2023-03-08T12:38:49.114310",
     "status": "completed"
    },
    "tags": []
   },
   "source": [
    "#### KNN"
   ]
  },
  {
   "cell_type": "code",
   "execution_count": 55,
   "id": "1c9237e0",
   "metadata": {
    "execution": {
     "iopub.execute_input": "2023-03-08T12:38:49.179177Z",
     "iopub.status.busy": "2023-03-08T12:38:49.178673Z",
     "iopub.status.idle": "2023-03-08T12:38:49.185218Z",
     "shell.execute_reply": "2023-03-08T12:38:49.184066Z"
    },
    "papermill": {
     "duration": 0.02393,
     "end_time": "2023-03-08T12:38:49.186968",
     "exception": false,
     "start_time": "2023-03-08T12:38:49.163038",
     "status": "completed"
    },
    "tags": []
   },
   "outputs": [],
   "source": [
    "X_train = ts_train.reshape((ts_train.shape[0], ts_train.shape[1]))\n",
    "X_test = ts_test.reshape((ts_test.shape[0], ts_test.shape[1]))"
   ]
  },
  {
   "cell_type": "code",
   "execution_count": 56,
   "id": "192f3c3f",
   "metadata": {
    "execution": {
     "iopub.execute_input": "2023-03-08T12:38:49.217988Z",
     "iopub.status.busy": "2023-03-08T12:38:49.217506Z",
     "iopub.status.idle": "2023-03-08T12:38:49.225092Z",
     "shell.execute_reply": "2023-03-08T12:38:49.224025Z"
    },
    "papermill": {
     "duration": 0.025612,
     "end_time": "2023-03-08T12:38:49.226864",
     "exception": false,
     "start_time": "2023-03-08T12:38:49.201252",
     "status": "completed"
    },
    "tags": []
   },
   "outputs": [
    {
     "data": {
      "text/plain": [
       "(6009, 100)"
      ]
     },
     "execution_count": 56,
     "metadata": {},
     "output_type": "execute_result"
    }
   ],
   "source": [
    "X_train.shape"
   ]
  },
  {
   "cell_type": "code",
   "execution_count": 57,
   "id": "de0e5000",
   "metadata": {
    "execution": {
     "iopub.execute_input": "2023-03-08T12:38:49.259477Z",
     "iopub.status.busy": "2023-03-08T12:38:49.258950Z",
     "iopub.status.idle": "2023-03-08T12:38:49.264650Z",
     "shell.execute_reply": "2023-03-08T12:38:49.263454Z"
    },
    "papermill": {
     "duration": 0.024464,
     "end_time": "2023-03-08T12:38:49.266417",
     "exception": false,
     "start_time": "2023-03-08T12:38:49.241953",
     "status": "completed"
    },
    "tags": []
   },
   "outputs": [],
   "source": [
    "metrics_data['KNN'] = {}"
   ]
  },
  {
   "cell_type": "markdown",
   "id": "8ee39c05",
   "metadata": {
    "papermill": {
     "duration": 0.015322,
     "end_time": "2023-03-08T12:38:49.296821",
     "exception": false,
     "start_time": "2023-03-08T12:38:49.281499",
     "status": "completed"
    },
    "tags": []
   },
   "source": [
    "**Euclidean Distance**"
   ]
  },
  {
   "cell_type": "code",
   "execution_count": 58,
   "id": "55db1f58",
   "metadata": {
    "execution": {
     "iopub.execute_input": "2023-03-08T12:38:49.331019Z",
     "iopub.status.busy": "2023-03-08T12:38:49.330440Z",
     "iopub.status.idle": "2023-03-08T12:38:49.336215Z",
     "shell.execute_reply": "2023-03-08T12:38:49.335048Z"
    },
    "papermill": {
     "duration": 0.025424,
     "end_time": "2023-03-08T12:38:49.337968",
     "exception": false,
     "start_time": "2023-03-08T12:38:49.312544",
     "status": "completed"
    },
    "tags": []
   },
   "outputs": [],
   "source": [
    "from sklearn.neighbors import KNeighborsClassifier"
   ]
  },
  {
   "cell_type": "code",
   "execution_count": 59,
   "id": "132c2537",
   "metadata": {
    "execution": {
     "iopub.execute_input": "2023-03-08T12:38:49.370668Z",
     "iopub.status.busy": "2023-03-08T12:38:49.370138Z",
     "iopub.status.idle": "2023-03-08T12:38:49.393542Z",
     "shell.execute_reply": "2023-03-08T12:38:49.392235Z"
    },
    "papermill": {
     "duration": 0.042341,
     "end_time": "2023-03-08T12:38:49.395682",
     "exception": false,
     "start_time": "2023-03-08T12:38:49.353341",
     "status": "completed"
    },
    "tags": []
   },
   "outputs": [
    {
     "data": {
      "text/html": [
       "<style>#sk-container-id-8 {color: black;background-color: white;}#sk-container-id-8 pre{padding: 0;}#sk-container-id-8 div.sk-toggleable {background-color: white;}#sk-container-id-8 label.sk-toggleable__label {cursor: pointer;display: block;width: 100%;margin-bottom: 0;padding: 0.3em;box-sizing: border-box;text-align: center;}#sk-container-id-8 label.sk-toggleable__label-arrow:before {content: \"▸\";float: left;margin-right: 0.25em;color: #696969;}#sk-container-id-8 label.sk-toggleable__label-arrow:hover:before {color: black;}#sk-container-id-8 div.sk-estimator:hover label.sk-toggleable__label-arrow:before {color: black;}#sk-container-id-8 div.sk-toggleable__content {max-height: 0;max-width: 0;overflow: hidden;text-align: left;background-color: #f0f8ff;}#sk-container-id-8 div.sk-toggleable__content pre {margin: 0.2em;color: black;border-radius: 0.25em;background-color: #f0f8ff;}#sk-container-id-8 input.sk-toggleable__control:checked~div.sk-toggleable__content {max-height: 200px;max-width: 100%;overflow: auto;}#sk-container-id-8 input.sk-toggleable__control:checked~label.sk-toggleable__label-arrow:before {content: \"▾\";}#sk-container-id-8 div.sk-estimator input.sk-toggleable__control:checked~label.sk-toggleable__label {background-color: #d4ebff;}#sk-container-id-8 div.sk-label input.sk-toggleable__control:checked~label.sk-toggleable__label {background-color: #d4ebff;}#sk-container-id-8 input.sk-hidden--visually {border: 0;clip: rect(1px 1px 1px 1px);clip: rect(1px, 1px, 1px, 1px);height: 1px;margin: -1px;overflow: hidden;padding: 0;position: absolute;width: 1px;}#sk-container-id-8 div.sk-estimator {font-family: monospace;background-color: #f0f8ff;border: 1px dotted black;border-radius: 0.25em;box-sizing: border-box;margin-bottom: 0.5em;}#sk-container-id-8 div.sk-estimator:hover {background-color: #d4ebff;}#sk-container-id-8 div.sk-parallel-item::after {content: \"\";width: 100%;border-bottom: 1px solid gray;flex-grow: 1;}#sk-container-id-8 div.sk-label:hover label.sk-toggleable__label {background-color: #d4ebff;}#sk-container-id-8 div.sk-serial::before {content: \"\";position: absolute;border-left: 1px solid gray;box-sizing: border-box;top: 0;bottom: 0;left: 50%;z-index: 0;}#sk-container-id-8 div.sk-serial {display: flex;flex-direction: column;align-items: center;background-color: white;padding-right: 0.2em;padding-left: 0.2em;position: relative;}#sk-container-id-8 div.sk-item {position: relative;z-index: 1;}#sk-container-id-8 div.sk-parallel {display: flex;align-items: stretch;justify-content: center;background-color: white;position: relative;}#sk-container-id-8 div.sk-item::before, #sk-container-id-8 div.sk-parallel-item::before {content: \"\";position: absolute;border-left: 1px solid gray;box-sizing: border-box;top: 0;bottom: 0;left: 50%;z-index: -1;}#sk-container-id-8 div.sk-parallel-item {display: flex;flex-direction: column;z-index: 1;position: relative;background-color: white;}#sk-container-id-8 div.sk-parallel-item:first-child::after {align-self: flex-end;width: 50%;}#sk-container-id-8 div.sk-parallel-item:last-child::after {align-self: flex-start;width: 50%;}#sk-container-id-8 div.sk-parallel-item:only-child::after {width: 0;}#sk-container-id-8 div.sk-dashed-wrapped {border: 1px dashed gray;margin: 0 0.4em 0.5em 0.4em;box-sizing: border-box;padding-bottom: 0.4em;background-color: white;}#sk-container-id-8 div.sk-label label {font-family: monospace;font-weight: bold;display: inline-block;line-height: 1.2em;}#sk-container-id-8 div.sk-label-container {text-align: center;}#sk-container-id-8 div.sk-container {/* jupyter's `normalize.less` sets `[hidden] { display: none; }` but bootstrap.min.css set `[hidden] { display: none !important; }` so we also need the `!important` here to be able to override the default hidden behavior on the sphinx rendered scikit-learn.org. See: https://github.com/scikit-learn/scikit-learn/issues/21755 */display: inline-block !important;position: relative;}#sk-container-id-8 div.sk-text-repr-fallback {display: none;}</style><div id=\"sk-container-id-8\" class=\"sk-top-container\"><div class=\"sk-text-repr-fallback\"><pre>KNeighborsClassifier()</pre><b>In a Jupyter environment, please rerun this cell to show the HTML representation or trust the notebook. <br />On GitHub, the HTML representation is unable to render, please try loading this page with nbviewer.org.</b></div><div class=\"sk-container\" hidden><div class=\"sk-item\"><div class=\"sk-estimator sk-toggleable\"><input class=\"sk-toggleable__control sk-hidden--visually\" id=\"sk-estimator-id-8\" type=\"checkbox\" checked><label for=\"sk-estimator-id-8\" class=\"sk-toggleable__label sk-toggleable__label-arrow\">KNeighborsClassifier</label><div class=\"sk-toggleable__content\"><pre>KNeighborsClassifier()</pre></div></div></div></div></div>"
      ],
      "text/plain": [
       "KNeighborsClassifier()"
      ]
     },
     "execution_count": 59,
     "metadata": {},
     "output_type": "execute_result"
    }
   ],
   "source": [
    "clf = KNeighborsClassifier(n_neighbors=5, weights='uniform')\n",
    "clf.fit(X_train, y_train)"
   ]
  },
  {
   "cell_type": "code",
   "execution_count": 60,
   "id": "0afad62a",
   "metadata": {
    "execution": {
     "iopub.execute_input": "2023-03-08T12:38:49.428764Z",
     "iopub.status.busy": "2023-03-08T12:38:49.428215Z",
     "iopub.status.idle": "2023-03-08T12:38:49.769723Z",
     "shell.execute_reply": "2023-03-08T12:38:49.768592Z"
    },
    "papermill": {
     "duration": 0.359743,
     "end_time": "2023-03-08T12:38:49.771957",
     "exception": false,
     "start_time": "2023-03-08T12:38:49.412214",
     "status": "completed"
    },
    "tags": []
   },
   "outputs": [
    {
     "name": "stdout",
     "output_type": "stream",
     "text": [
      "                                           precision    recall  f1-score   support\n",
      "\n",
      "                    action_thriller_crime       0.30      0.29      0.30       306\n",
      "                                   comedy       0.35      0.47      0.40       404\n",
      "                                    drama       0.37      0.41      0.39       494\n",
      "horror_scifi_mystery_supernatural_fantasy       0.36      0.15      0.21       299\n",
      "\n",
      "                                 accuracy                           0.35      1503\n",
      "                                macro avg       0.35      0.33      0.33      1503\n",
      "                             weighted avg       0.35      0.35      0.34      1503\n",
      "\n"
     ]
    }
   ],
   "source": [
    "y_pred = clf.predict(X_test)\n",
    "print(classification_report(y_test, y_pred))"
   ]
  },
  {
   "cell_type": "code",
   "execution_count": 61,
   "id": "2d709070",
   "metadata": {
    "execution": {
     "iopub.execute_input": "2023-03-08T12:38:49.838495Z",
     "iopub.status.busy": "2023-03-08T12:38:49.838195Z",
     "iopub.status.idle": "2023-03-08T12:38:49.880849Z",
     "shell.execute_reply": "2023-03-08T12:38:49.880053Z"
    },
    "papermill": {
     "duration": 0.078923,
     "end_time": "2023-03-08T12:38:49.883540",
     "exception": false,
     "start_time": "2023-03-08T12:38:49.804617",
     "status": "completed"
    },
    "tags": []
   },
   "outputs": [],
   "source": [
    "acc = accuracy_score(y_test, y_pred)\n",
    "pre = precision_score(y_test, y_pred, average=avg_par)\n",
    "rec = recall_score(y_test, y_pred, average=avg_par)\n",
    "f1 = f1_score(y_test, y_pred, average=avg_par)\n",
    "\n",
    "metrics_data['KNN']['Euclidean'] = {'Accuracy': acc, 'Precision': pre, 'Recall': rec, 'F1': f1}"
   ]
  },
  {
   "cell_type": "markdown",
   "id": "c5ec2a09",
   "metadata": {
    "papermill": {
     "duration": 0.027685,
     "end_time": "2023-03-08T12:38:49.951136",
     "exception": false,
     "start_time": "2023-03-08T12:38:49.923451",
     "status": "completed"
    },
    "tags": []
   },
   "source": [
    "**Dynamic Time Warping**"
   ]
  },
  {
   "cell_type": "code",
   "execution_count": 62,
   "id": "2df913d8",
   "metadata": {
    "execution": {
     "iopub.execute_input": "2023-03-08T12:38:49.981812Z",
     "iopub.status.busy": "2023-03-08T12:38:49.981385Z",
     "iopub.status.idle": "2023-03-08T12:38:50.075090Z",
     "shell.execute_reply": "2023-03-08T12:38:50.074300Z"
    },
    "papermill": {
     "duration": 0.112131,
     "end_time": "2023-03-08T12:38:50.077837",
     "exception": false,
     "start_time": "2023-03-08T12:38:49.965706",
     "status": "completed"
    },
    "tags": []
   },
   "outputs": [],
   "source": [
    "from pyts.classification import KNeighborsClassifier\n",
    "from pyts.approximation import PiecewiseAggregateApproximation\n",
    "from imblearn.under_sampling import ClusterCentroids\n",
    "from sklearn_extra.cluster import KMedoids"
   ]
  },
  {
   "cell_type": "code",
   "execution_count": 63,
   "id": "db1604ec",
   "metadata": {
    "execution": {
     "iopub.execute_input": "2023-03-08T12:38:50.112699Z",
     "iopub.status.busy": "2023-03-08T12:38:50.112286Z",
     "iopub.status.idle": "2023-03-08T12:38:50.117655Z",
     "shell.execute_reply": "2023-03-08T12:38:50.116688Z"
    },
    "papermill": {
     "duration": 0.022872,
     "end_time": "2023-03-08T12:38:50.119343",
     "exception": false,
     "start_time": "2023-03-08T12:38:50.096471",
     "status": "completed"
    },
    "tags": []
   },
   "outputs": [],
   "source": [
    "if paa_window_size:\n",
    "    paa = PiecewiseAggregateApproximation(window_size=paa_window_size)\n",
    "    X_train = paa.transform(X_train)\n",
    "    X_test = paa.transform(X_test)\n",
    "    X_train.shape"
   ]
  },
  {
   "cell_type": "code",
   "execution_count": 64,
   "id": "59fa27aa",
   "metadata": {
    "execution": {
     "iopub.execute_input": "2023-03-08T12:38:50.150515Z",
     "iopub.status.busy": "2023-03-08T12:38:50.150102Z",
     "iopub.status.idle": "2023-03-08T12:38:50.157809Z",
     "shell.execute_reply": "2023-03-08T12:38:50.156669Z"
    },
    "papermill": {
     "duration": 0.025476,
     "end_time": "2023-03-08T12:38:50.159570",
     "exception": false,
     "start_time": "2023-03-08T12:38:50.134094",
     "status": "completed"
    },
    "tags": []
   },
   "outputs": [],
   "source": [
    "if undersampling:\n",
    "    total_samples = len(y_train)\n",
    "    unique_classes, class_counts = np.unique(y_train, return_counts=True)\n",
    "    samp_strat = dict(zip(unique_classes, np.floor(class_counts * undersampling).astype(int)))\n",
    "    print(samp_strat)\n",
    "    cc = ClusterCentroids(estimator=KMedoids(\n",
    "        random_state=42), sampling_strategy=samp_strat, random_state=42)\n",
    "    X_train, y_train = cc.fit_resample(X_train, y_train)\n",
    "    X_train.shape"
   ]
  },
  {
   "cell_type": "code",
   "execution_count": 65,
   "id": "e7ac6b44",
   "metadata": {
    "execution": {
     "iopub.execute_input": "2023-03-08T12:38:50.190361Z",
     "iopub.status.busy": "2023-03-08T12:38:50.189938Z",
     "iopub.status.idle": "2023-03-08T12:38:50.215016Z",
     "shell.execute_reply": "2023-03-08T12:38:50.213809Z"
    },
    "papermill": {
     "duration": 0.042828,
     "end_time": "2023-03-08T12:38:50.217104",
     "exception": false,
     "start_time": "2023-03-08T12:38:50.174276",
     "status": "completed"
    },
    "tags": []
   },
   "outputs": [
    {
     "data": {
      "text/html": [
       "<style>#sk-container-id-9 {color: black;background-color: white;}#sk-container-id-9 pre{padding: 0;}#sk-container-id-9 div.sk-toggleable {background-color: white;}#sk-container-id-9 label.sk-toggleable__label {cursor: pointer;display: block;width: 100%;margin-bottom: 0;padding: 0.3em;box-sizing: border-box;text-align: center;}#sk-container-id-9 label.sk-toggleable__label-arrow:before {content: \"▸\";float: left;margin-right: 0.25em;color: #696969;}#sk-container-id-9 label.sk-toggleable__label-arrow:hover:before {color: black;}#sk-container-id-9 div.sk-estimator:hover label.sk-toggleable__label-arrow:before {color: black;}#sk-container-id-9 div.sk-toggleable__content {max-height: 0;max-width: 0;overflow: hidden;text-align: left;background-color: #f0f8ff;}#sk-container-id-9 div.sk-toggleable__content pre {margin: 0.2em;color: black;border-radius: 0.25em;background-color: #f0f8ff;}#sk-container-id-9 input.sk-toggleable__control:checked~div.sk-toggleable__content {max-height: 200px;max-width: 100%;overflow: auto;}#sk-container-id-9 input.sk-toggleable__control:checked~label.sk-toggleable__label-arrow:before {content: \"▾\";}#sk-container-id-9 div.sk-estimator input.sk-toggleable__control:checked~label.sk-toggleable__label {background-color: #d4ebff;}#sk-container-id-9 div.sk-label input.sk-toggleable__control:checked~label.sk-toggleable__label {background-color: #d4ebff;}#sk-container-id-9 input.sk-hidden--visually {border: 0;clip: rect(1px 1px 1px 1px);clip: rect(1px, 1px, 1px, 1px);height: 1px;margin: -1px;overflow: hidden;padding: 0;position: absolute;width: 1px;}#sk-container-id-9 div.sk-estimator {font-family: monospace;background-color: #f0f8ff;border: 1px dotted black;border-radius: 0.25em;box-sizing: border-box;margin-bottom: 0.5em;}#sk-container-id-9 div.sk-estimator:hover {background-color: #d4ebff;}#sk-container-id-9 div.sk-parallel-item::after {content: \"\";width: 100%;border-bottom: 1px solid gray;flex-grow: 1;}#sk-container-id-9 div.sk-label:hover label.sk-toggleable__label {background-color: #d4ebff;}#sk-container-id-9 div.sk-serial::before {content: \"\";position: absolute;border-left: 1px solid gray;box-sizing: border-box;top: 0;bottom: 0;left: 50%;z-index: 0;}#sk-container-id-9 div.sk-serial {display: flex;flex-direction: column;align-items: center;background-color: white;padding-right: 0.2em;padding-left: 0.2em;position: relative;}#sk-container-id-9 div.sk-item {position: relative;z-index: 1;}#sk-container-id-9 div.sk-parallel {display: flex;align-items: stretch;justify-content: center;background-color: white;position: relative;}#sk-container-id-9 div.sk-item::before, #sk-container-id-9 div.sk-parallel-item::before {content: \"\";position: absolute;border-left: 1px solid gray;box-sizing: border-box;top: 0;bottom: 0;left: 50%;z-index: -1;}#sk-container-id-9 div.sk-parallel-item {display: flex;flex-direction: column;z-index: 1;position: relative;background-color: white;}#sk-container-id-9 div.sk-parallel-item:first-child::after {align-self: flex-end;width: 50%;}#sk-container-id-9 div.sk-parallel-item:last-child::after {align-self: flex-start;width: 50%;}#sk-container-id-9 div.sk-parallel-item:only-child::after {width: 0;}#sk-container-id-9 div.sk-dashed-wrapped {border: 1px dashed gray;margin: 0 0.4em 0.5em 0.4em;box-sizing: border-box;padding-bottom: 0.4em;background-color: white;}#sk-container-id-9 div.sk-label label {font-family: monospace;font-weight: bold;display: inline-block;line-height: 1.2em;}#sk-container-id-9 div.sk-label-container {text-align: center;}#sk-container-id-9 div.sk-container {/* jupyter's `normalize.less` sets `[hidden] { display: none; }` but bootstrap.min.css set `[hidden] { display: none !important; }` so we also need the `!important` here to be able to override the default hidden behavior on the sphinx rendered scikit-learn.org. See: https://github.com/scikit-learn/scikit-learn/issues/21755 */display: inline-block !important;position: relative;}#sk-container-id-9 div.sk-text-repr-fallback {display: none;}</style><div id=\"sk-container-id-9\" class=\"sk-top-container\"><div class=\"sk-text-repr-fallback\"><pre>KNeighborsClassifier(metric=&#x27;dtw_sakoechiba&#x27;, metric_params={&#x27;window_size&#x27;: 3})</pre><b>In a Jupyter environment, please rerun this cell to show the HTML representation or trust the notebook. <br />On GitHub, the HTML representation is unable to render, please try loading this page with nbviewer.org.</b></div><div class=\"sk-container\" hidden><div class=\"sk-item\"><div class=\"sk-estimator sk-toggleable\"><input class=\"sk-toggleable__control sk-hidden--visually\" id=\"sk-estimator-id-9\" type=\"checkbox\" checked><label for=\"sk-estimator-id-9\" class=\"sk-toggleable__label sk-toggleable__label-arrow\">KNeighborsClassifier</label><div class=\"sk-toggleable__content\"><pre>KNeighborsClassifier(metric=&#x27;dtw_sakoechiba&#x27;, metric_params={&#x27;window_size&#x27;: 3})</pre></div></div></div></div></div>"
      ],
      "text/plain": [
       "KNeighborsClassifier(metric='dtw_sakoechiba', metric_params={'window_size': 3})"
      ]
     },
     "execution_count": 65,
     "metadata": {},
     "output_type": "execute_result"
    }
   ],
   "source": [
    "clf = KNeighborsClassifier(metric='dtw_sakoechiba',  metric_params={'window_size':3})\n",
    "\n",
    "clf.fit(X_train, y_train)"
   ]
  },
  {
   "cell_type": "code",
   "execution_count": 66,
   "id": "8109d19d",
   "metadata": {
    "execution": {
     "iopub.execute_input": "2023-03-08T12:38:50.249910Z",
     "iopub.status.busy": "2023-03-08T12:38:50.249491Z",
     "iopub.status.idle": "2023-03-08T13:05:39.853690Z",
     "shell.execute_reply": "2023-03-08T13:05:39.853030Z"
    },
    "papermill": {
     "duration": 1609.664441,
     "end_time": "2023-03-08T13:05:39.898142",
     "exception": false,
     "start_time": "2023-03-08T12:38:50.233701",
     "status": "completed"
    },
    "tags": []
   },
   "outputs": [
    {
     "name": "stdout",
     "output_type": "stream",
     "text": [
      "                                           precision    recall  f1-score   support\n",
      "\n",
      "                    action_thriller_crime       0.33      0.33      0.33       306\n",
      "                                   comedy       0.34      0.37      0.36       404\n",
      "                                    drama       0.36      0.35      0.36       494\n",
      "horror_scifi_mystery_supernatural_fantasy       0.34      0.33      0.34       299\n",
      "\n",
      "                                 accuracy                           0.35      1503\n",
      "                                macro avg       0.35      0.35      0.35      1503\n",
      "                             weighted avg       0.35      0.35      0.35      1503\n",
      "\n",
      "CPU times: user 26min 49s, sys: 152 ms, total: 26min 49s\n",
      "Wall time: 26min 49s\n"
     ]
    }
   ],
   "source": [
    "%%time\n",
    "y_pred = clf.predict(X_test)\n",
    "print(classification_report(y_test, y_pred))"
   ]
  },
  {
   "cell_type": "code",
   "execution_count": 67,
   "id": "b09f5cdf",
   "metadata": {
    "execution": {
     "iopub.execute_input": "2023-03-08T13:05:39.953696Z",
     "iopub.status.busy": "2023-03-08T13:05:39.953103Z",
     "iopub.status.idle": "2023-03-08T13:05:39.985659Z",
     "shell.execute_reply": "2023-03-08T13:05:39.984991Z"
    },
    "papermill": {
     "duration": 0.050932,
     "end_time": "2023-03-08T13:05:39.988011",
     "exception": false,
     "start_time": "2023-03-08T13:05:39.937079",
     "status": "completed"
    },
    "tags": []
   },
   "outputs": [],
   "source": [
    "acc = accuracy_score(y_test, y_pred)\n",
    "pre = precision_score(y_test, y_pred, average=avg_par)\n",
    "rec = recall_score(y_test, y_pred, average=avg_par)\n",
    "f1 = f1_score(y_test, y_pred, average=avg_par)\n",
    "\n",
    "metrics_data['KNN']['DTW'] = {'Accuracy': acc, 'Precision': pre, 'Recall': rec, 'F1': f1}"
   ]
  },
  {
   "cell_type": "markdown",
   "id": "e0e700a7",
   "metadata": {
    "papermill": {
     "duration": 0.014456,
     "end_time": "2023-03-08T13:05:40.019216",
     "exception": false,
     "start_time": "2023-03-08T13:05:40.004760",
     "status": "completed"
    },
    "tags": []
   },
   "source": [
    "## Overall Results"
   ]
  },
  {
   "cell_type": "code",
   "execution_count": 68,
   "id": "d003c193",
   "metadata": {
    "execution": {
     "iopub.execute_input": "2023-03-08T13:05:40.050924Z",
     "iopub.status.busy": "2023-03-08T13:05:40.050032Z",
     "iopub.status.idle": "2023-03-08T13:05:40.061024Z",
     "shell.execute_reply": "2023-03-08T13:05:40.059570Z"
    },
    "papermill": {
     "duration": 0.029324,
     "end_time": "2023-03-08T13:05:40.063102",
     "exception": false,
     "start_time": "2023-03-08T13:05:40.033778",
     "status": "completed"
    },
    "tags": []
   },
   "outputs": [],
   "source": [
    "metrics_data = pd.DataFrame.from_dict({(i,j): metrics_data[i][j] \n",
    "                                       for i in metrics_data.keys() \n",
    "                                       for j in metrics_data[i].keys()},\n",
    "                                       orient='index')"
   ]
  },
  {
   "cell_type": "code",
   "execution_count": 69,
   "id": "0944fe84",
   "metadata": {
    "execution": {
     "iopub.execute_input": "2023-03-08T13:05:40.095360Z",
     "iopub.status.busy": "2023-03-08T13:05:40.094456Z",
     "iopub.status.idle": "2023-03-08T13:05:40.163630Z",
     "shell.execute_reply": "2023-03-08T13:05:40.162356Z"
    },
    "papermill": {
     "duration": 0.088424,
     "end_time": "2023-03-08T13:05:40.166944",
     "exception": false,
     "start_time": "2023-03-08T13:05:40.078520",
     "status": "completed"
    },
    "tags": []
   },
   "outputs": [],
   "source": [
    "acc = accuracy_score(y_test, y_pred)\n",
    "pre = precision_score(y_test, y_pred, average=avg_par)\n",
    "rec = recall_score(y_test, y_pred, average=avg_par)\n",
    "f1 = f1_score(y_test, y_pred, average=avg_par)"
   ]
  },
  {
   "cell_type": "code",
   "execution_count": 70,
   "id": "7ee1b347",
   "metadata": {
    "execution": {
     "iopub.execute_input": "2023-03-08T13:05:40.240444Z",
     "iopub.status.busy": "2023-03-08T13:05:40.239699Z",
     "iopub.status.idle": "2023-03-08T13:05:40.259431Z",
     "shell.execute_reply": "2023-03-08T13:05:40.258158Z"
    },
    "papermill": {
     "duration": 0.058598,
     "end_time": "2023-03-08T13:05:40.262455",
     "exception": false,
     "start_time": "2023-03-08T13:05:40.203857",
     "status": "completed"
    },
    "tags": []
   },
   "outputs": [
    {
     "data": {
      "text/html": [
       "<div>\n",
       "<style scoped>\n",
       "    .dataframe tbody tr th:only-of-type {\n",
       "        vertical-align: middle;\n",
       "    }\n",
       "\n",
       "    .dataframe tbody tr th {\n",
       "        vertical-align: top;\n",
       "    }\n",
       "\n",
       "    .dataframe thead th {\n",
       "        text-align: right;\n",
       "    }\n",
       "</style>\n",
       "<table border=\"1\" class=\"dataframe\">\n",
       "  <thead>\n",
       "    <tr style=\"text-align: right;\">\n",
       "      <th></th>\n",
       "      <th></th>\n",
       "      <th>Accuracy</th>\n",
       "      <th>Precision</th>\n",
       "      <th>Recall</th>\n",
       "      <th>F1</th>\n",
       "    </tr>\n",
       "  </thead>\n",
       "  <tbody>\n",
       "    <tr>\n",
       "      <th rowspan=\"3\" valign=\"top\">Global</th>\n",
       "      <th>DecisionTree</th>\n",
       "      <td>0.310047</td>\n",
       "      <td>0.300935</td>\n",
       "      <td>0.299879</td>\n",
       "      <td>0.299848</td>\n",
       "    </tr>\n",
       "    <tr>\n",
       "      <th>RandomForest</th>\n",
       "      <td>0.368596</td>\n",
       "      <td>0.361830</td>\n",
       "      <td>0.358233</td>\n",
       "      <td>0.357392</td>\n",
       "    </tr>\n",
       "    <tr>\n",
       "      <th>LightGBM</th>\n",
       "      <td>0.363273</td>\n",
       "      <td>0.356482</td>\n",
       "      <td>0.352480</td>\n",
       "      <td>0.351240</td>\n",
       "    </tr>\n",
       "    <tr>\n",
       "      <th rowspan=\"3\" valign=\"top\">Shapelets</th>\n",
       "      <th>DecisionTree</th>\n",
       "      <td>0.346640</td>\n",
       "      <td>0.339963</td>\n",
       "      <td>0.337413</td>\n",
       "      <td>0.338352</td>\n",
       "    </tr>\n",
       "    <tr>\n",
       "      <th>RandomForest</th>\n",
       "      <td>0.384564</td>\n",
       "      <td>0.378369</td>\n",
       "      <td>0.372449</td>\n",
       "      <td>0.370747</td>\n",
       "    </tr>\n",
       "    <tr>\n",
       "      <th>LightGBM</th>\n",
       "      <td>0.377911</td>\n",
       "      <td>0.371289</td>\n",
       "      <td>0.367018</td>\n",
       "      <td>0.365426</td>\n",
       "    </tr>\n",
       "    <tr>\n",
       "      <th rowspan=\"2\" valign=\"top\">KNN</th>\n",
       "      <th>Euclidean</th>\n",
       "      <td>0.349967</td>\n",
       "      <td>0.345888</td>\n",
       "      <td>0.330026</td>\n",
       "      <td>0.325184</td>\n",
       "    </tr>\n",
       "    <tr>\n",
       "      <th>DTW</th>\n",
       "      <td>0.347305</td>\n",
       "      <td>0.345140</td>\n",
       "      <td>0.345263</td>\n",
       "      <td>0.345079</td>\n",
       "    </tr>\n",
       "  </tbody>\n",
       "</table>\n",
       "</div>"
      ],
      "text/plain": [
       "                        Accuracy  Precision    Recall        F1\n",
       "Global    DecisionTree  0.310047   0.300935  0.299879  0.299848\n",
       "          RandomForest  0.368596   0.361830  0.358233  0.357392\n",
       "          LightGBM      0.363273   0.356482  0.352480  0.351240\n",
       "Shapelets DecisionTree  0.346640   0.339963  0.337413  0.338352\n",
       "          RandomForest  0.384564   0.378369  0.372449  0.370747\n",
       "          LightGBM      0.377911   0.371289  0.367018  0.365426\n",
       "KNN       Euclidean     0.349967   0.345888  0.330026  0.325184\n",
       "          DTW           0.347305   0.345140  0.345263  0.345079"
      ]
     },
     "execution_count": 70,
     "metadata": {},
     "output_type": "execute_result"
    }
   ],
   "source": [
    "metrics_data"
   ]
  },
  {
   "cell_type": "code",
   "execution_count": 71,
   "id": "3efc173e",
   "metadata": {
    "execution": {
     "iopub.execute_input": "2023-03-08T13:05:40.314820Z",
     "iopub.status.busy": "2023-03-08T13:05:40.314054Z",
     "iopub.status.idle": "2023-03-08T13:05:40.324088Z",
     "shell.execute_reply": "2023-03-08T13:05:40.322711Z"
    },
    "papermill": {
     "duration": 0.032171,
     "end_time": "2023-03-08T13:05:40.326212",
     "exception": false,
     "start_time": "2023-03-08T13:05:40.294041",
     "status": "completed"
    },
    "tags": []
   },
   "outputs": [],
   "source": [
    "metrics_data.to_csv(f'{data_path}/metrics.csv')"
   ]
  },
  {
   "cell_type": "code",
   "execution_count": null,
   "id": "d21f5304",
   "metadata": {
    "papermill": {
     "duration": 0.01463,
     "end_time": "2023-03-08T13:05:40.356487",
     "exception": false,
     "start_time": "2023-03-08T13:05:40.341857",
     "status": "completed"
    },
    "tags": []
   },
   "outputs": [],
   "source": []
  }
 ],
 "metadata": {
  "celltoolbar": "Tags",
  "kernelspec": {
   "display_name": "Python 3 (ipykernel)",
   "language": "python",
   "name": "python3"
  },
  "language_info": {
   "codemirror_mode": {
    "name": "ipython",
    "version": 3
   },
   "file_extension": ".py",
   "mimetype": "text/x-python",
   "name": "python",
   "nbconvert_exporter": "python",
   "pygments_lexer": "ipython3",
   "version": "3.9.16"
  },
  "papermill": {
   "default_parameters": {},
   "duration": 2155.548506,
   "end_time": "2023-03-08T13:05:43.467472",
   "environment_variables": {},
   "exception": null,
   "input_path": "09_ts_classification.ipynb",
   "output_path": "../clf-reports/movie-plots_sentiment.ipynb",
   "parameters": {
    "data_path": "/home/mattiapggioli/lyrics2ts/data/classification/movie-plots/sentiment/"
   },
   "start_time": "2023-03-08T12:29:47.918966",
   "version": "2.4.0"
  },
  "vscode": {
   "interpreter": {
    "hash": "eb8d1ded7c87c6f9c253b40add648304d6b51d2e38393955e855effc7e6f899a"
   }
  }
 },
 "nbformat": 4,
 "nbformat_minor": 5
}