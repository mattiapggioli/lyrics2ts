{
 "cells": [
  {
   "cell_type": "markdown",
   "id": "d79a68c5",
   "metadata": {
    "papermill": {
     "duration": 0.031316,
     "end_time": "2023-03-20T12:06:51.576532",
     "exception": false,
     "start_time": "2023-03-20T12:06:51.545216",
     "status": "completed"
    },
    "tags": []
   },
   "source": [
    "# Time Series Classification"
   ]
  },
  {
   "cell_type": "code",
   "execution_count": 1,
   "id": "8a0cb2b0",
   "metadata": {
    "execution": {
     "iopub.execute_input": "2023-03-20T12:06:51.632238Z",
     "iopub.status.busy": "2023-03-20T12:06:51.631773Z",
     "iopub.status.idle": "2023-03-20T12:06:52.975999Z",
     "shell.execute_reply": "2023-03-20T12:06:52.975148Z"
    },
    "papermill": {
     "duration": 1.373507,
     "end_time": "2023-03-20T12:06:52.978964",
     "exception": false,
     "start_time": "2023-03-20T12:06:51.605457",
     "status": "completed"
    },
    "tags": []
   },
   "outputs": [],
   "source": [
    "%matplotlib inline\n",
    "import pandas as pd\n",
    "import numpy as np\n",
    "import matplotlib.pyplot as plt\n",
    "import seaborn as sns\n",
    "import re\n",
    "import os\n",
    "from sklearn.preprocessing import StandardScaler\n",
    "from sklearn.decomposition import PCA\n",
    "import joblib\n",
    "from tslearn.utils import to_time_series_dataset, save_time_series_txt, load_time_series_txt\n",
    "import random\n",
    "from sklearn.model_selection import train_test_split\n",
    "from sklearn.metrics import accuracy_score, f1_score, precision_score, recall_score, classification_report\n",
    "import pickle"
   ]
  },
  {
   "cell_type": "code",
   "execution_count": 2,
   "id": "acc03405",
   "metadata": {
    "execution": {
     "iopub.execute_input": "2023-03-20T12:06:53.040193Z",
     "iopub.status.busy": "2023-03-20T12:06:53.039770Z",
     "iopub.status.idle": "2023-03-20T12:06:53.044656Z",
     "shell.execute_reply": "2023-03-20T12:06:53.043698Z"
    },
    "papermill": {
     "duration": 0.038734,
     "end_time": "2023-03-20T12:06:53.047975",
     "exception": false,
     "start_time": "2023-03-20T12:06:53.009241",
     "status": "completed"
    },
    "tags": [
     "parameters"
    ]
   },
   "outputs": [],
   "source": [
    "data_path = '/home/mattiapggioli/lyrics2ts/data/classification/pp-rc/sbert/'\n",
    "truncate=100\n",
    "max_iter = 2000\n",
    "paa_window_size = None\n",
    "undersampling = None"
   ]
  },
  {
   "cell_type": "code",
   "execution_count": 3,
   "id": "596e9c94",
   "metadata": {
    "execution": {
     "iopub.execute_input": "2023-03-20T12:06:53.085677Z",
     "iopub.status.busy": "2023-03-20T12:06:53.085360Z",
     "iopub.status.idle": "2023-03-20T12:06:53.090600Z",
     "shell.execute_reply": "2023-03-20T12:06:53.089366Z"
    },
    "papermill": {
     "duration": 0.01826,
     "end_time": "2023-03-20T12:06:53.092307",
     "exception": false,
     "start_time": "2023-03-20T12:06:53.074047",
     "status": "completed"
    },
    "tags": [
     "injected-parameters"
    ]
   },
   "outputs": [],
   "source": [
    "# Parameters\n",
    "data_path = \"/home/mattiapggioli/lyrics2ts/data/classification/movie-plots/sentiment/\"\n"
   ]
  },
  {
   "cell_type": "code",
   "execution_count": 4,
   "id": "a4f0c774",
   "metadata": {
    "execution": {
     "iopub.execute_input": "2023-03-20T12:06:53.114755Z",
     "iopub.status.busy": "2023-03-20T12:06:53.114267Z",
     "iopub.status.idle": "2023-03-20T12:07:16.609659Z",
     "shell.execute_reply": "2023-03-20T12:07:16.608734Z"
    },
    "papermill": {
     "duration": 23.509835,
     "end_time": "2023-03-20T12:07:16.612554",
     "exception": false,
     "start_time": "2023-03-20T12:06:53.102719",
     "status": "completed"
    },
    "tags": []
   },
   "outputs": [],
   "source": [
    "ts = load_time_series_txt(f'{data_path}/ts.txt')"
   ]
  },
  {
   "cell_type": "code",
   "execution_count": 5,
   "id": "5c48d154",
   "metadata": {
    "execution": {
     "iopub.execute_input": "2023-03-20T12:07:16.672058Z",
     "iopub.status.busy": "2023-03-20T12:07:16.671580Z",
     "iopub.status.idle": "2023-03-20T12:07:16.678611Z",
     "shell.execute_reply": "2023-03-20T12:07:16.677726Z"
    },
    "papermill": {
     "duration": 0.041253,
     "end_time": "2023-03-20T12:07:16.683506",
     "exception": false,
     "start_time": "2023-03-20T12:07:16.642253",
     "status": "completed"
    },
    "tags": []
   },
   "outputs": [
    {
     "data": {
      "text/plain": [
       "(7512, 412, 1)"
      ]
     },
     "execution_count": 5,
     "metadata": {},
     "output_type": "execute_result"
    }
   ],
   "source": [
    "ts.shape"
   ]
  },
  {
   "cell_type": "code",
   "execution_count": 6,
   "id": "f6274d40",
   "metadata": {
    "execution": {
     "iopub.execute_input": "2023-03-20T12:07:16.722913Z",
     "iopub.status.busy": "2023-03-20T12:07:16.722126Z",
     "iopub.status.idle": "2023-03-20T12:07:16.729315Z",
     "shell.execute_reply": "2023-03-20T12:07:16.728163Z"
    },
    "papermill": {
     "duration": 0.021369,
     "end_time": "2023-03-20T12:07:16.731174",
     "exception": false,
     "start_time": "2023-03-20T12:07:16.709805",
     "status": "completed"
    },
    "tags": []
   },
   "outputs": [],
   "source": [
    "with open(f'{data_path}/y_class.npy', 'rb') as f:\n",
    "    y = np.load(f, allow_pickle=True)"
   ]
  },
  {
   "cell_type": "code",
   "execution_count": 7,
   "id": "9d42fa3b",
   "metadata": {
    "execution": {
     "iopub.execute_input": "2023-03-20T12:07:16.754192Z",
     "iopub.status.busy": "2023-03-20T12:07:16.753504Z",
     "iopub.status.idle": "2023-03-20T12:07:16.761318Z",
     "shell.execute_reply": "2023-03-20T12:07:16.760055Z"
    },
    "papermill": {
     "duration": 0.021254,
     "end_time": "2023-03-20T12:07:16.763126",
     "exception": false,
     "start_time": "2023-03-20T12:07:16.741872",
     "status": "completed"
    },
    "tags": []
   },
   "outputs": [],
   "source": [
    "with open(f'{data_path}/X.npy', 'rb') as f:\n",
    "    X = np.load(f, allow_pickle=True)"
   ]
  },
  {
   "cell_type": "code",
   "execution_count": 8,
   "id": "1158a9da",
   "metadata": {
    "execution": {
     "iopub.execute_input": "2023-03-20T12:07:16.787083Z",
     "iopub.status.busy": "2023-03-20T12:07:16.786178Z",
     "iopub.status.idle": "2023-03-20T12:07:16.793799Z",
     "shell.execute_reply": "2023-03-20T12:07:16.792633Z"
    },
    "papermill": {
     "duration": 0.021384,
     "end_time": "2023-03-20T12:07:16.795593",
     "exception": false,
     "start_time": "2023-03-20T12:07:16.774209",
     "status": "completed"
    },
    "tags": []
   },
   "outputs": [
    {
     "data": {
      "text/plain": [
       "(7512, 6)"
      ]
     },
     "execution_count": 8,
     "metadata": {},
     "output_type": "execute_result"
    }
   ],
   "source": [
    "X.shape"
   ]
  },
  {
   "cell_type": "code",
   "execution_count": 9,
   "id": "47239790",
   "metadata": {
    "execution": {
     "iopub.execute_input": "2023-03-20T12:07:16.818403Z",
     "iopub.status.busy": "2023-03-20T12:07:16.817948Z",
     "iopub.status.idle": "2023-03-20T12:07:16.826067Z",
     "shell.execute_reply": "2023-03-20T12:07:16.824931Z"
    },
    "papermill": {
     "duration": 0.021597,
     "end_time": "2023-03-20T12:07:16.827807",
     "exception": false,
     "start_time": "2023-03-20T12:07:16.806210",
     "status": "completed"
    },
    "tags": []
   },
   "outputs": [
    {
     "data": {
      "text/plain": [
       "{'action_thriller_crime',\n",
       " 'comedy',\n",
       " 'drama',\n",
       " 'horror_scifi_mystery_supernatural_fantasy'}"
      ]
     },
     "execution_count": 9,
     "metadata": {},
     "output_type": "execute_result"
    }
   ],
   "source": [
    "set(y)"
   ]
  },
  {
   "cell_type": "code",
   "execution_count": 10,
   "id": "37609992",
   "metadata": {
    "execution": {
     "iopub.execute_input": "2023-03-20T12:07:16.850806Z",
     "iopub.status.busy": "2023-03-20T12:07:16.850355Z",
     "iopub.status.idle": "2023-03-20T12:07:16.879547Z",
     "shell.execute_reply": "2023-03-20T12:07:16.878171Z"
    },
    "papermill": {
     "duration": 0.043222,
     "end_time": "2023-03-20T12:07:16.881709",
     "exception": false,
     "start_time": "2023-03-20T12:07:16.838487",
     "status": "completed"
    },
    "tags": []
   },
   "outputs": [],
   "source": [
    "ts_train, ts_test, y_train, y_test = train_test_split(\n",
    "    ts, y, test_size=0.20, random_state=42, stratify=y)"
   ]
  },
  {
   "cell_type": "code",
   "execution_count": 11,
   "id": "34508fe4",
   "metadata": {
    "execution": {
     "iopub.execute_input": "2023-03-20T12:07:16.907613Z",
     "iopub.status.busy": "2023-03-20T12:07:16.907105Z",
     "iopub.status.idle": "2023-03-20T12:07:16.925905Z",
     "shell.execute_reply": "2023-03-20T12:07:16.924678Z"
    },
    "papermill": {
     "duration": 0.033098,
     "end_time": "2023-03-20T12:07:16.928009",
     "exception": false,
     "start_time": "2023-03-20T12:07:16.894911",
     "status": "completed"
    },
    "tags": []
   },
   "outputs": [],
   "source": [
    "X_train, X_test, y_train, y_test = train_test_split(\n",
    "    X, y, test_size=0.20, random_state=42, stratify=y)"
   ]
  },
  {
   "cell_type": "code",
   "execution_count": 12,
   "id": "076afac9",
   "metadata": {
    "execution": {
     "iopub.execute_input": "2023-03-20T12:07:16.953495Z",
     "iopub.status.busy": "2023-03-20T12:07:16.952703Z",
     "iopub.status.idle": "2023-03-20T12:07:16.978952Z",
     "shell.execute_reply": "2023-03-20T12:07:16.977503Z"
    },
    "papermill": {
     "duration": 0.040194,
     "end_time": "2023-03-20T12:07:16.981199",
     "exception": false,
     "start_time": "2023-03-20T12:07:16.941005",
     "status": "completed"
    },
    "tags": []
   },
   "outputs": [
    {
     "data": {
      "text/plain": [
       "array([[ 0.    ],\n",
       "       [ 0.    ],\n",
       "       [ 0.2617],\n",
       "       [ 0.    ],\n",
       "       [ 0.    ],\n",
       "       [-0.8458],\n",
       "       [ 0.3612],\n",
       "       [ 0.4215],\n",
       "       [ 0.4404],\n",
       "       [-0.5439],\n",
       "       [ 0.6249],\n",
       "       [-0.2263],\n",
       "       [ 0.2023],\n",
       "       [ 0.    ],\n",
       "       [ 0.6486],\n",
       "       [ 0.    ],\n",
       "       [ 0.    ],\n",
       "       [ 0.    ],\n",
       "       [ 0.8166],\n",
       "       [-0.862 ],\n",
       "       [ 0.8327],\n",
       "       [ 0.    ],\n",
       "       [ 0.    ],\n",
       "       [ 0.    ],\n",
       "       [ 0.296 ],\n",
       "       [ 0.5859],\n",
       "       [ 0.    ],\n",
       "       [ 0.7845],\n",
       "       [    nan],\n",
       "       [    nan],\n",
       "       [    nan],\n",
       "       [    nan],\n",
       "       [    nan],\n",
       "       [    nan],\n",
       "       [    nan],\n",
       "       [    nan],\n",
       "       [    nan],\n",
       "       [    nan],\n",
       "       [    nan],\n",
       "       [    nan],\n",
       "       [    nan],\n",
       "       [    nan],\n",
       "       [    nan],\n",
       "       [    nan],\n",
       "       [    nan],\n",
       "       [    nan],\n",
       "       [    nan],\n",
       "       [    nan],\n",
       "       [    nan],\n",
       "       [    nan],\n",
       "       [    nan],\n",
       "       [    nan],\n",
       "       [    nan],\n",
       "       [    nan],\n",
       "       [    nan],\n",
       "       [    nan],\n",
       "       [    nan],\n",
       "       [    nan],\n",
       "       [    nan],\n",
       "       [    nan],\n",
       "       [    nan],\n",
       "       [    nan],\n",
       "       [    nan],\n",
       "       [    nan],\n",
       "       [    nan],\n",
       "       [    nan],\n",
       "       [    nan],\n",
       "       [    nan],\n",
       "       [    nan],\n",
       "       [    nan],\n",
       "       [    nan],\n",
       "       [    nan],\n",
       "       [    nan],\n",
       "       [    nan],\n",
       "       [    nan],\n",
       "       [    nan],\n",
       "       [    nan],\n",
       "       [    nan],\n",
       "       [    nan],\n",
       "       [    nan],\n",
       "       [    nan],\n",
       "       [    nan],\n",
       "       [    nan],\n",
       "       [    nan],\n",
       "       [    nan],\n",
       "       [    nan],\n",
       "       [    nan],\n",
       "       [    nan],\n",
       "       [    nan],\n",
       "       [    nan],\n",
       "       [    nan],\n",
       "       [    nan],\n",
       "       [    nan],\n",
       "       [    nan],\n",
       "       [    nan],\n",
       "       [    nan],\n",
       "       [    nan],\n",
       "       [    nan],\n",
       "       [    nan],\n",
       "       [    nan],\n",
       "       [    nan],\n",
       "       [    nan],\n",
       "       [    nan],\n",
       "       [    nan],\n",
       "       [    nan],\n",
       "       [    nan],\n",
       "       [    nan],\n",
       "       [    nan],\n",
       "       [    nan],\n",
       "       [    nan],\n",
       "       [    nan],\n",
       "       [    nan],\n",
       "       [    nan],\n",
       "       [    nan],\n",
       "       [    nan],\n",
       "       [    nan],\n",
       "       [    nan],\n",
       "       [    nan],\n",
       "       [    nan],\n",
       "       [    nan],\n",
       "       [    nan],\n",
       "       [    nan],\n",
       "       [    nan],\n",
       "       [    nan],\n",
       "       [    nan],\n",
       "       [    nan],\n",
       "       [    nan],\n",
       "       [    nan],\n",
       "       [    nan],\n",
       "       [    nan],\n",
       "       [    nan],\n",
       "       [    nan],\n",
       "       [    nan],\n",
       "       [    nan],\n",
       "       [    nan],\n",
       "       [    nan],\n",
       "       [    nan],\n",
       "       [    nan],\n",
       "       [    nan],\n",
       "       [    nan],\n",
       "       [    nan],\n",
       "       [    nan],\n",
       "       [    nan],\n",
       "       [    nan],\n",
       "       [    nan],\n",
       "       [    nan],\n",
       "       [    nan],\n",
       "       [    nan],\n",
       "       [    nan],\n",
       "       [    nan],\n",
       "       [    nan],\n",
       "       [    nan],\n",
       "       [    nan],\n",
       "       [    nan],\n",
       "       [    nan],\n",
       "       [    nan],\n",
       "       [    nan],\n",
       "       [    nan],\n",
       "       [    nan],\n",
       "       [    nan],\n",
       "       [    nan],\n",
       "       [    nan],\n",
       "       [    nan],\n",
       "       [    nan],\n",
       "       [    nan],\n",
       "       [    nan],\n",
       "       [    nan],\n",
       "       [    nan],\n",
       "       [    nan],\n",
       "       [    nan],\n",
       "       [    nan],\n",
       "       [    nan],\n",
       "       [    nan],\n",
       "       [    nan],\n",
       "       [    nan],\n",
       "       [    nan],\n",
       "       [    nan],\n",
       "       [    nan],\n",
       "       [    nan],\n",
       "       [    nan],\n",
       "       [    nan],\n",
       "       [    nan],\n",
       "       [    nan],\n",
       "       [    nan],\n",
       "       [    nan],\n",
       "       [    nan],\n",
       "       [    nan],\n",
       "       [    nan],\n",
       "       [    nan],\n",
       "       [    nan],\n",
       "       [    nan],\n",
       "       [    nan],\n",
       "       [    nan],\n",
       "       [    nan],\n",
       "       [    nan],\n",
       "       [    nan],\n",
       "       [    nan],\n",
       "       [    nan],\n",
       "       [    nan],\n",
       "       [    nan],\n",
       "       [    nan],\n",
       "       [    nan],\n",
       "       [    nan],\n",
       "       [    nan],\n",
       "       [    nan],\n",
       "       [    nan],\n",
       "       [    nan],\n",
       "       [    nan],\n",
       "       [    nan],\n",
       "       [    nan],\n",
       "       [    nan],\n",
       "       [    nan],\n",
       "       [    nan],\n",
       "       [    nan],\n",
       "       [    nan],\n",
       "       [    nan],\n",
       "       [    nan],\n",
       "       [    nan],\n",
       "       [    nan],\n",
       "       [    nan],\n",
       "       [    nan],\n",
       "       [    nan],\n",
       "       [    nan],\n",
       "       [    nan],\n",
       "       [    nan],\n",
       "       [    nan],\n",
       "       [    nan],\n",
       "       [    nan],\n",
       "       [    nan],\n",
       "       [    nan],\n",
       "       [    nan],\n",
       "       [    nan],\n",
       "       [    nan],\n",
       "       [    nan],\n",
       "       [    nan],\n",
       "       [    nan],\n",
       "       [    nan],\n",
       "       [    nan],\n",
       "       [    nan],\n",
       "       [    nan],\n",
       "       [    nan],\n",
       "       [    nan],\n",
       "       [    nan],\n",
       "       [    nan],\n",
       "       [    nan],\n",
       "       [    nan],\n",
       "       [    nan],\n",
       "       [    nan],\n",
       "       [    nan],\n",
       "       [    nan],\n",
       "       [    nan],\n",
       "       [    nan],\n",
       "       [    nan],\n",
       "       [    nan],\n",
       "       [    nan],\n",
       "       [    nan],\n",
       "       [    nan],\n",
       "       [    nan],\n",
       "       [    nan],\n",
       "       [    nan],\n",
       "       [    nan],\n",
       "       [    nan],\n",
       "       [    nan],\n",
       "       [    nan],\n",
       "       [    nan],\n",
       "       [    nan],\n",
       "       [    nan],\n",
       "       [    nan],\n",
       "       [    nan],\n",
       "       [    nan],\n",
       "       [    nan],\n",
       "       [    nan],\n",
       "       [    nan],\n",
       "       [    nan],\n",
       "       [    nan],\n",
       "       [    nan],\n",
       "       [    nan],\n",
       "       [    nan],\n",
       "       [    nan],\n",
       "       [    nan],\n",
       "       [    nan],\n",
       "       [    nan],\n",
       "       [    nan],\n",
       "       [    nan],\n",
       "       [    nan],\n",
       "       [    nan],\n",
       "       [    nan],\n",
       "       [    nan],\n",
       "       [    nan],\n",
       "       [    nan],\n",
       "       [    nan],\n",
       "       [    nan],\n",
       "       [    nan],\n",
       "       [    nan],\n",
       "       [    nan],\n",
       "       [    nan],\n",
       "       [    nan],\n",
       "       [    nan],\n",
       "       [    nan],\n",
       "       [    nan],\n",
       "       [    nan],\n",
       "       [    nan],\n",
       "       [    nan],\n",
       "       [    nan],\n",
       "       [    nan],\n",
       "       [    nan],\n",
       "       [    nan],\n",
       "       [    nan],\n",
       "       [    nan],\n",
       "       [    nan],\n",
       "       [    nan],\n",
       "       [    nan],\n",
       "       [    nan],\n",
       "       [    nan],\n",
       "       [    nan],\n",
       "       [    nan],\n",
       "       [    nan],\n",
       "       [    nan],\n",
       "       [    nan],\n",
       "       [    nan],\n",
       "       [    nan],\n",
       "       [    nan],\n",
       "       [    nan],\n",
       "       [    nan],\n",
       "       [    nan],\n",
       "       [    nan],\n",
       "       [    nan],\n",
       "       [    nan],\n",
       "       [    nan],\n",
       "       [    nan],\n",
       "       [    nan],\n",
       "       [    nan],\n",
       "       [    nan],\n",
       "       [    nan],\n",
       "       [    nan],\n",
       "       [    nan],\n",
       "       [    nan],\n",
       "       [    nan],\n",
       "       [    nan],\n",
       "       [    nan],\n",
       "       [    nan],\n",
       "       [    nan],\n",
       "       [    nan],\n",
       "       [    nan],\n",
       "       [    nan],\n",
       "       [    nan],\n",
       "       [    nan],\n",
       "       [    nan],\n",
       "       [    nan],\n",
       "       [    nan],\n",
       "       [    nan],\n",
       "       [    nan],\n",
       "       [    nan],\n",
       "       [    nan],\n",
       "       [    nan],\n",
       "       [    nan],\n",
       "       [    nan],\n",
       "       [    nan],\n",
       "       [    nan],\n",
       "       [    nan],\n",
       "       [    nan],\n",
       "       [    nan],\n",
       "       [    nan],\n",
       "       [    nan],\n",
       "       [    nan],\n",
       "       [    nan],\n",
       "       [    nan],\n",
       "       [    nan],\n",
       "       [    nan],\n",
       "       [    nan],\n",
       "       [    nan],\n",
       "       [    nan],\n",
       "       [    nan],\n",
       "       [    nan],\n",
       "       [    nan],\n",
       "       [    nan],\n",
       "       [    nan],\n",
       "       [    nan],\n",
       "       [    nan],\n",
       "       [    nan],\n",
       "       [    nan],\n",
       "       [    nan],\n",
       "       [    nan],\n",
       "       [    nan],\n",
       "       [    nan],\n",
       "       [    nan],\n",
       "       [    nan],\n",
       "       [    nan],\n",
       "       [    nan],\n",
       "       [    nan],\n",
       "       [    nan],\n",
       "       [    nan],\n",
       "       [    nan],\n",
       "       [    nan],\n",
       "       [    nan],\n",
       "       [    nan],\n",
       "       [    nan],\n",
       "       [    nan],\n",
       "       [    nan],\n",
       "       [    nan],\n",
       "       [    nan],\n",
       "       [    nan],\n",
       "       [    nan],\n",
       "       [    nan],\n",
       "       [    nan],\n",
       "       [    nan],\n",
       "       [    nan],\n",
       "       [    nan],\n",
       "       [    nan],\n",
       "       [    nan],\n",
       "       [    nan],\n",
       "       [    nan]])"
      ]
     },
     "execution_count": 12,
     "metadata": {},
     "output_type": "execute_result"
    }
   ],
   "source": [
    "random.choice(ts_train)"
   ]
  },
  {
   "cell_type": "code",
   "execution_count": 13,
   "id": "ca66457a",
   "metadata": {
    "execution": {
     "iopub.execute_input": "2023-03-20T12:07:17.031304Z",
     "iopub.status.busy": "2023-03-20T12:07:17.030212Z",
     "iopub.status.idle": "2023-03-20T12:07:17.590540Z",
     "shell.execute_reply": "2023-03-20T12:07:17.589789Z"
    },
    "papermill": {
     "duration": 0.588789,
     "end_time": "2023-03-20T12:07:17.593470",
     "exception": false,
     "start_time": "2023-03-20T12:07:17.004681",
     "status": "completed"
    },
    "tags": []
   },
   "outputs": [
    {
     "data": {
      "text/plain": [
       "<AxesSubplot:ylabel='Count'>"
      ]
     },
     "execution_count": 13,
     "metadata": {},
     "output_type": "execute_result"
    },
    {
     "data": {
      "image/png": "[encoded data removed]",
      "text/plain": [
       "<Figure size 640x480 with 1 Axes>"
      ]
     },
     "metadata": {},
     "output_type": "display_data"
    }
   ],
   "source": [
    "sns.histplot([t[~np.any(np.isnan(t), axis=1)].shape[0] for t in ts_train])"
   ]
  },
  {
   "cell_type": "code",
   "execution_count": 14,
   "id": "c2ae286f",
   "metadata": {
    "execution": {
     "iopub.execute_input": "2023-03-20T12:07:17.629422Z",
     "iopub.status.busy": "2023-03-20T12:07:17.629073Z",
     "iopub.status.idle": "2023-03-20T12:07:17.633594Z",
     "shell.execute_reply": "2023-03-20T12:07:17.632728Z"
    },
    "papermill": {
     "duration": 0.02912,
     "end_time": "2023-03-20T12:07:17.636731",
     "exception": false,
     "start_time": "2023-03-20T12:07:17.607611",
     "status": "completed"
    },
    "tags": []
   },
   "outputs": [],
   "source": [
    "ts_train = ts_train[:, :truncate, :]\n",
    "ts_test = ts_test[:, :truncate, :]"
   ]
  },
  {
   "cell_type": "code",
   "execution_count": 15,
   "id": "3218baa4",
   "metadata": {
    "execution": {
     "iopub.execute_input": "2023-03-20T12:07:17.688335Z",
     "iopub.status.busy": "2023-03-20T12:07:17.687676Z",
     "iopub.status.idle": "2023-03-20T12:07:17.730840Z",
     "shell.execute_reply": "2023-03-20T12:07:17.729602Z"
    },
    "papermill": {
     "duration": 0.065952,
     "end_time": "2023-03-20T12:07:17.733112",
     "exception": false,
     "start_time": "2023-03-20T12:07:17.667160",
     "status": "completed"
    },
    "tags": []
   },
   "outputs": [],
   "source": [
    "mean_arr = np.nanmean(ts_train, axis=1, keepdims=True)\n",
    "nan_indices = np.isnan(ts_train)\n",
    "ts_train[nan_indices] = np.take(mean_arr, np.nonzero(nan_indices)[0])\n",
    "\n",
    "mean_arr = np.nanmean(ts_test, axis=1, keepdims=True)\n",
    "nan_indices = np.isnan(ts_test)\n",
    "ts_test[nan_indices] = np.take(mean_arr, np.nonzero(nan_indices)[0])"
   ]
  },
  {
   "cell_type": "code",
   "execution_count": 16,
   "id": "d369691b",
   "metadata": {
    "execution": {
     "iopub.execute_input": "2023-03-20T12:07:17.759769Z",
     "iopub.status.busy": "2023-03-20T12:07:17.758954Z",
     "iopub.status.idle": "2023-03-20T12:07:17.766310Z",
     "shell.execute_reply": "2023-03-20T12:07:17.765277Z"
    },
    "papermill": {
     "duration": 0.021407,
     "end_time": "2023-03-20T12:07:17.768008",
     "exception": false,
     "start_time": "2023-03-20T12:07:17.746601",
     "status": "completed"
    },
    "tags": []
   },
   "outputs": [
    {
     "data": {
      "text/plain": [
       "0"
      ]
     },
     "execution_count": 16,
     "metadata": {},
     "output_type": "execute_result"
    }
   ],
   "source": [
    "np.count_nonzero(np.isnan(X_train))"
   ]
  },
  {
   "cell_type": "code",
   "execution_count": 17,
   "id": "0d602e18",
   "metadata": {
    "execution": {
     "iopub.execute_input": "2023-03-20T12:07:17.793028Z",
     "iopub.status.busy": "2023-03-20T12:07:17.792064Z",
     "iopub.status.idle": "2023-03-20T12:07:17.797838Z",
     "shell.execute_reply": "2023-03-20T12:07:17.796812Z"
    },
    "papermill": {
     "duration": 0.020207,
     "end_time": "2023-03-20T12:07:17.799571",
     "exception": false,
     "start_time": "2023-03-20T12:07:17.779364",
     "status": "completed"
    },
    "tags": []
   },
   "outputs": [],
   "source": [
    "X_train[np.isnan(X_train)] = 0\n",
    "X_test[np.isnan(X_test)] = 0"
   ]
  },
  {
   "cell_type": "code",
   "execution_count": 18,
   "id": "45c5102c",
   "metadata": {
    "execution": {
     "iopub.execute_input": "2023-03-20T12:07:17.823887Z",
     "iopub.status.busy": "2023-03-20T12:07:17.823207Z",
     "iopub.status.idle": "2023-03-20T12:07:18.650871Z",
     "shell.execute_reply": "2023-03-20T12:07:18.649933Z"
    },
    "papermill": {
     "duration": 0.842205,
     "end_time": "2023-03-20T12:07:18.653044",
     "exception": false,
     "start_time": "2023-03-20T12:07:17.810839",
     "status": "completed"
    },
    "tags": []
   },
   "outputs": [],
   "source": [
    "save_time_series_txt(f'{data_path}/ts_train.txt', ts_train)\n",
    "save_time_series_txt(f'{data_path}/ts_test.txt', ts_test)"
   ]
  },
  {
   "cell_type": "code",
   "execution_count": 19,
   "id": "39830f37",
   "metadata": {
    "execution": {
     "iopub.execute_input": "2023-03-20T12:07:18.718901Z",
     "iopub.status.busy": "2023-03-20T12:07:18.717932Z",
     "iopub.status.idle": "2023-03-20T12:07:18.728184Z",
     "shell.execute_reply": "2023-03-20T12:07:18.726521Z"
    },
    "papermill": {
     "duration": 0.048137,
     "end_time": "2023-03-20T12:07:18.732643",
     "exception": false,
     "start_time": "2023-03-20T12:07:18.684506",
     "status": "completed"
    },
    "tags": []
   },
   "outputs": [],
   "source": [
    "with open(f'{data_path}/X_train.npy', 'wb') as f:\n",
    "    np.save(f, X_train, allow_pickle=True)\n",
    "\n",
    "with open(f'{data_path}/X_test.npy', 'wb') as f:\n",
    "    np.save(f, X_test, allow_pickle=True)"
   ]
  },
  {
   "cell_type": "code",
   "execution_count": 20,
   "id": "795fd2be",
   "metadata": {
    "execution": {
     "iopub.execute_input": "2023-03-20T12:07:18.776331Z",
     "iopub.status.busy": "2023-03-20T12:07:18.775836Z",
     "iopub.status.idle": "2023-03-20T12:07:18.784348Z",
     "shell.execute_reply": "2023-03-20T12:07:18.783215Z"
    },
    "papermill": {
     "duration": 0.022785,
     "end_time": "2023-03-20T12:07:18.786208",
     "exception": false,
     "start_time": "2023-03-20T12:07:18.763423",
     "status": "completed"
    },
    "tags": []
   },
   "outputs": [],
   "source": [
    "with open(f'{data_path}/y_train.npy', 'wb') as f:\n",
    "    np.save(f, y_train, allow_pickle=True)\n",
    "\n",
    "with open(f'{data_path}/y_test.npy', 'wb') as f:\n",
    "    np.save(f, y_test, allow_pickle=True)"
   ]
  },
  {
   "cell_type": "code",
   "execution_count": 21,
   "id": "08bda153",
   "metadata": {
    "execution": {
     "iopub.execute_input": "2023-03-20T12:07:18.811125Z",
     "iopub.status.busy": "2023-03-20T12:07:18.810632Z",
     "iopub.status.idle": "2023-03-20T12:07:18.965964Z",
     "shell.execute_reply": "2023-03-20T12:07:18.964715Z"
    },
    "papermill": {
     "duration": 0.17145,
     "end_time": "2023-03-20T12:07:18.969432",
     "exception": false,
     "start_time": "2023-03-20T12:07:18.797982",
     "status": "completed"
    },
    "tags": []
   },
   "outputs": [
    {
     "data": {
      "text/plain": [
       "[<matplotlib.lines.Line2D at 0x7f4ecd8bb580>]"
      ]
     },
     "execution_count": 21,
     "metadata": {},
     "output_type": "execute_result"
    },
    {
     "data": {
      "image/png": "[encoded data removed]",
      "text/plain": [
       "<Figure size 640x480 with 1 Axes>"
      ]
     },
     "metadata": {},
     "output_type": "display_data"
    }
   ],
   "source": [
    "plt.plot(random.choice(ts_train))"
   ]
  },
  {
   "cell_type": "code",
   "execution_count": 22,
   "id": "98ce9d63",
   "metadata": {
    "execution": {
     "iopub.execute_input": "2023-03-20T12:07:19.037164Z",
     "iopub.status.busy": "2023-03-20T12:07:19.036712Z",
     "iopub.status.idle": "2023-03-20T12:07:19.044383Z",
     "shell.execute_reply": "2023-03-20T12:07:19.042989Z"
    },
    "papermill": {
     "duration": 0.045585,
     "end_time": "2023-03-20T12:07:19.047604",
     "exception": false,
     "start_time": "2023-03-20T12:07:19.002019",
     "status": "completed"
    },
    "tags": []
   },
   "outputs": [],
   "source": [
    "# Parameters that require knowing if it's binary or multiclass (LightGBM, metrics)\n",
    "if len(set(y)) == 2:\n",
    "    avg_par = 'macro'\n",
    "    obj_par = 'binary'\n",
    "elif len(set(y)) > 2:\n",
    "    avg_par = 'weighted'\n",
    "    obj_par = 'multiclass'"
   ]
  },
  {
   "cell_type": "markdown",
   "id": "228f1b39",
   "metadata": {
    "papermill": {
     "duration": 0.011491,
     "end_time": "2023-03-20T12:07:19.084570",
     "exception": false,
     "start_time": "2023-03-20T12:07:19.073079",
     "status": "completed"
    },
    "tags": []
   },
   "source": [
    "## Classification"
   ]
  },
  {
   "cell_type": "code",
   "execution_count": 23,
   "id": "34bb73ff",
   "metadata": {
    "execution": {
     "iopub.execute_input": "2023-03-20T12:07:19.109388Z",
     "iopub.status.busy": "2023-03-20T12:07:19.108921Z",
     "iopub.status.idle": "2023-03-20T12:07:19.179606Z",
     "shell.execute_reply": "2023-03-20T12:07:19.178738Z"
    },
    "papermill": {
     "duration": 0.086203,
     "end_time": "2023-03-20T12:07:19.182338",
     "exception": false,
     "start_time": "2023-03-20T12:07:19.096135",
     "status": "completed"
    },
    "tags": []
   },
   "outputs": [],
   "source": [
    "from sklearn.tree import DecisionTreeClassifier\n",
    "import lightgbm as lgbm\n",
    "from sklearn.ensemble import RandomForestClassifier"
   ]
  },
  {
   "cell_type": "code",
   "execution_count": 24,
   "id": "02aaee18",
   "metadata": {
    "execution": {
     "iopub.execute_input": "2023-03-20T12:07:19.209965Z",
     "iopub.status.busy": "2023-03-20T12:07:19.209638Z",
     "iopub.status.idle": "2023-03-20T12:07:19.214063Z",
     "shell.execute_reply": "2023-03-20T12:07:19.213221Z"
    },
    "papermill": {
     "duration": 0.018693,
     "end_time": "2023-03-20T12:07:19.215747",
     "exception": false,
     "start_time": "2023-03-20T12:07:19.197054",
     "status": "completed"
    },
    "tags": []
   },
   "outputs": [],
   "source": [
    "metrics_data = {}"
   ]
  },
  {
   "cell_type": "markdown",
   "id": "b49309ed",
   "metadata": {
    "papermill": {
     "duration": 0.011835,
     "end_time": "2023-03-20T12:07:19.239756",
     "exception": false,
     "start_time": "2023-03-20T12:07:19.227921",
     "status": "completed"
    },
    "tags": []
   },
   "source": [
    "### Baseline: global features (No Time Series)"
   ]
  },
  {
   "cell_type": "code",
   "execution_count": 25,
   "id": "35eb9f66",
   "metadata": {
    "execution": {
     "iopub.execute_input": "2023-03-20T12:07:19.264550Z",
     "iopub.status.busy": "2023-03-20T12:07:19.264044Z",
     "iopub.status.idle": "2023-03-20T12:07:19.268070Z",
     "shell.execute_reply": "2023-03-20T12:07:19.267416Z"
    },
    "papermill": {
     "duration": 0.018361,
     "end_time": "2023-03-20T12:07:19.269597",
     "exception": false,
     "start_time": "2023-03-20T12:07:19.251236",
     "status": "completed"
    },
    "tags": []
   },
   "outputs": [],
   "source": [
    "metrics_data['Global'] = {}"
   ]
  },
  {
   "cell_type": "markdown",
   "id": "29cd5044",
   "metadata": {
    "papermill": {
     "duration": 0.011338,
     "end_time": "2023-03-20T12:07:19.292594",
     "exception": false,
     "start_time": "2023-03-20T12:07:19.281256",
     "status": "completed"
    },
    "tags": []
   },
   "source": [
    "**Decision Tree**"
   ]
  },
  {
   "cell_type": "code",
   "execution_count": 26,
   "id": "9ef4f037",
   "metadata": {
    "execution": {
     "iopub.execute_input": "2023-03-20T12:07:19.318054Z",
     "iopub.status.busy": "2023-03-20T12:07:19.317642Z",
     "iopub.status.idle": "2023-03-20T12:07:19.392942Z",
     "shell.execute_reply": "2023-03-20T12:07:19.391944Z"
    },
    "papermill": {
     "duration": 0.090164,
     "end_time": "2023-03-20T12:07:19.394843",
     "exception": false,
     "start_time": "2023-03-20T12:07:19.304679",
     "status": "completed"
    },
    "tags": []
   },
   "outputs": [
    {
     "data": {
      "text/html": [
       "<style>#sk-container-id-1 {color: black;background-color: white;}#sk-container-id-1 pre{padding: 0;}#sk-container-id-1 div.sk-toggleable {background-color: white;}#sk-container-id-1 label.sk-toggleable__label {cursor: pointer;display: block;width: 100%;margin-bottom: 0;padding: 0.3em;box-sizing: border-box;text-align: center;}#sk-container-id-1 label.sk-toggleable__label-arrow:before {content: \"▸\";float: left;margin-right: 0.25em;color: #696969;}#sk-container-id-1 label.sk-toggleable__label-arrow:hover:before {color: black;}#sk-container-id-1 div.sk-estimator:hover label.sk-toggleable__label-arrow:before {color: black;}#sk-container-id-1 div.sk-toggleable__content {max-height: 0;max-width: 0;overflow: hidden;text-align: left;background-color: #f0f8ff;}#sk-container-id-1 div.sk-toggleable__content pre {margin: 0.2em;color: black;border-radius: 0.25em;background-color: #f0f8ff;}#sk-container-id-1 input.sk-toggleable__control:checked~div.sk-toggleable__content {max-height: 200px;max-width: 100%;overflow: auto;}#sk-container-id-1 input.sk-toggleable__control:checked~label.sk-toggleable__label-arrow:before {content: \"▾\";}#sk-container-id-1 div.sk-estimator input.sk-toggleable__control:checked~label.sk-toggleable__label {background-color: #d4ebff;}#sk-container-id-1 div.sk-label input.sk-toggleable__control:checked~label.sk-toggleable__label {background-color: #d4ebff;}#sk-container-id-1 input.sk-hidden--visually {border: 0;clip: rect(1px 1px 1px 1px);clip: rect(1px, 1px, 1px, 1px);height: 1px;margin: -1px;overflow: hidden;padding: 0;position: absolute;width: 1px;}#sk-container-id-1 div.sk-estimator {font-family: monospace;background-color: #f0f8ff;border: 1px dotted black;border-radius: 0.25em;box-sizing: border-box;margin-bottom: 0.5em;}#sk-container-id-1 div.sk-estimator:hover {background-color: #d4ebff;}#sk-container-id-1 div.sk-parallel-item::after {content: \"\";width: 100%;border-bottom: 1px solid gray;flex-grow: 1;}#sk-container-id-1 div.sk-label:hover label.sk-toggleable__label {background-color: #d4ebff;}#sk-container-id-1 div.sk-serial::before {content: \"\";position: absolute;border-left: 1px solid gray;box-sizing: border-box;top: 0;bottom: 0;left: 50%;z-index: 0;}#sk-container-id-1 div.sk-serial {display: flex;flex-direction: column;align-items: center;background-color: white;padding-right: 0.2em;padding-left: 0.2em;position: relative;}#sk-container-id-1 div.sk-item {position: relative;z-index: 1;}#sk-container-id-1 div.sk-parallel {display: flex;align-items: stretch;justify-content: center;background-color: white;position: relative;}#sk-container-id-1 div.sk-item::before, #sk-container-id-1 div.sk-parallel-item::before {content: \"\";position: absolute;border-left: 1px solid gray;box-sizing: border-box;top: 0;bottom: 0;left: 50%;z-index: -1;}#sk-container-id-1 div.sk-parallel-item {display: flex;flex-direction: column;z-index: 1;position: relative;background-color: white;}#sk-container-id-1 div.sk-parallel-item:first-child::after {align-self: flex-end;width: 50%;}#sk-container-id-1 div.sk-parallel-item:last-child::after {align-self: flex-start;width: 50%;}#sk-container-id-1 div.sk-parallel-item:only-child::after {width: 0;}#sk-container-id-1 div.sk-dashed-wrapped {border: 1px dashed gray;margin: 0 0.4em 0.5em 0.4em;box-sizing: border-box;padding-bottom: 0.4em;background-color: white;}#sk-container-id-1 div.sk-label label {font-family: monospace;font-weight: bold;display: inline-block;line-height: 1.2em;}#sk-container-id-1 div.sk-label-container {text-align: center;}#sk-container-id-1 div.sk-container {/* jupyter's `normalize.less` sets `[hidden] { display: none; }` but bootstrap.min.css set `[hidden] { display: none !important; }` so we also need the `!important` here to be able to override the default hidden behavior on the sphinx rendered scikit-learn.org. See: https://github.com/scikit-learn/scikit-learn/issues/21755 */display: inline-block !important;position: relative;}#sk-container-id-1 div.sk-text-repr-fallback {display: none;}</style><div id=\"sk-container-id-1\" class=\"sk-top-container\"><div class=\"sk-text-repr-fallback\"><pre>DecisionTreeClassifier()</pre><b>In a Jupyter environment, please rerun this cell to show the HTML representation or trust the notebook. <br />On GitHub, the HTML representation is unable to render, please try loading this page with nbviewer.org.</b></div><div class=\"sk-container\" hidden><div class=\"sk-item\"><div class=\"sk-estimator sk-toggleable\"><input class=\"sk-toggleable__control sk-hidden--visually\" id=\"sk-estimator-id-1\" type=\"checkbox\" checked><label for=\"sk-estimator-id-1\" class=\"sk-toggleable__label sk-toggleable__label-arrow\">DecisionTreeClassifier</label><div class=\"sk-toggleable__content\"><pre>DecisionTreeClassifier()</pre></div></div></div></div></div>"
      ],
      "text/plain": [
       "DecisionTreeClassifier()"
      ]
     },
     "execution_count": 26,
     "metadata": {},
     "output_type": "execute_result"
    }
   ],
   "source": [
    "clf = DecisionTreeClassifier()\n",
    "clf.fit(X_train, y_train)"
   ]
  },
  {
   "cell_type": "code",
   "execution_count": 27,
   "id": "9c50acc4",
   "metadata": {
    "execution": {
     "iopub.execute_input": "2023-03-20T12:07:19.421739Z",
     "iopub.status.busy": "2023-03-20T12:07:19.421417Z",
     "iopub.status.idle": "2023-03-20T12:07:19.487493Z",
     "shell.execute_reply": "2023-03-20T12:07:19.486304Z"
    },
    "papermill": {
     "duration": 0.081755,
     "end_time": "2023-03-20T12:07:19.490274",
     "exception": false,
     "start_time": "2023-03-20T12:07:19.408519",
     "status": "completed"
    },
    "tags": []
   },
   "outputs": [
    {
     "name": "stdout",
     "output_type": "stream",
     "text": [
      "                                           precision    recall  f1-score   support\n",
      "\n",
      "                    action_thriller_crime       0.30      0.33      0.31       318\n",
      "                                   comedy       0.37      0.36      0.36       423\n",
      "                                    drama       0.37      0.37      0.37       499\n",
      "horror_scifi_mystery_supernatural_fantasy       0.24      0.23      0.24       263\n",
      "\n",
      "                                 accuracy                           0.33      1503\n",
      "                                macro avg       0.32      0.32      0.32      1503\n",
      "                             weighted avg       0.33      0.33      0.33      1503\n",
      "\n"
     ]
    }
   ],
   "source": [
    "y_pred = clf.predict(X_test)\n",
    "print(classification_report(y_test, y_pred))"
   ]
  },
  {
   "cell_type": "code",
   "execution_count": 28,
   "id": "8866c3c3",
   "metadata": {
    "execution": {
     "iopub.execute_input": "2023-03-20T12:07:19.559450Z",
     "iopub.status.busy": "2023-03-20T12:07:19.558650Z",
     "iopub.status.idle": "2023-03-20T12:07:19.592560Z",
     "shell.execute_reply": "2023-03-20T12:07:19.591747Z"
    },
    "papermill": {
     "duration": 0.071769,
     "end_time": "2023-03-20T12:07:19.595680",
     "exception": false,
     "start_time": "2023-03-20T12:07:19.523911",
     "status": "completed"
    },
    "tags": []
   },
   "outputs": [],
   "source": [
    "acc = accuracy_score(y_test, y_pred)\n",
    "pre = precision_score(y_test, y_pred, average=avg_par)\n",
    "rec = recall_score(y_test, y_pred, average=avg_par)\n",
    "f1 = f1_score(y_test, y_pred, average=avg_par)\n",
    "\n",
    "metrics_data['Global']['DecisionTree'] = {'Accuracy': acc, 'Precision': pre, 'Recall': rec, 'F1': f1}"
   ]
  },
  {
   "cell_type": "markdown",
   "id": "28aa5a63",
   "metadata": {
    "papermill": {
     "duration": 0.026116,
     "end_time": "2023-03-20T12:07:19.655961",
     "exception": false,
     "start_time": "2023-03-20T12:07:19.629845",
     "status": "completed"
    },
    "tags": []
   },
   "source": [
    "**Random Forest**"
   ]
  },
  {
   "cell_type": "code",
   "execution_count": 29,
   "id": "0e5e2310",
   "metadata": {
    "execution": {
     "iopub.execute_input": "2023-03-20T12:07:19.681433Z",
     "iopub.status.busy": "2023-03-20T12:07:19.681078Z",
     "iopub.status.idle": "2023-03-20T12:07:20.885093Z",
     "shell.execute_reply": "2023-03-20T12:07:20.883977Z"
    },
    "papermill": {
     "duration": 1.220219,
     "end_time": "2023-03-20T12:07:20.888115",
     "exception": false,
     "start_time": "2023-03-20T12:07:19.667896",
     "status": "completed"
    },
    "tags": []
   },
   "outputs": [
    {
     "data": {
      "text/html": [
       "<style>#sk-container-id-2 {color: black;background-color: white;}#sk-container-id-2 pre{padding: 0;}#sk-container-id-2 div.sk-toggleable {background-color: white;}#sk-container-id-2 label.sk-toggleable__label {cursor: pointer;display: block;width: 100%;margin-bottom: 0;padding: 0.3em;box-sizing: border-box;text-align: center;}#sk-container-id-2 label.sk-toggleable__label-arrow:before {content: \"▸\";float: left;margin-right: 0.25em;color: #696969;}#sk-container-id-2 label.sk-toggleable__label-arrow:hover:before {color: black;}#sk-container-id-2 div.sk-estimator:hover label.sk-toggleable__label-arrow:before {color: black;}#sk-container-id-2 div.sk-toggleable__content {max-height: 0;max-width: 0;overflow: hidden;text-align: left;background-color: #f0f8ff;}#sk-container-id-2 div.sk-toggleable__content pre {margin: 0.2em;color: black;border-radius: 0.25em;background-color: #f0f8ff;}#sk-container-id-2 input.sk-toggleable__control:checked~div.sk-toggleable__content {max-height: 200px;max-width: 100%;overflow: auto;}#sk-container-id-2 input.sk-toggleable__control:checked~label.sk-toggleable__label-arrow:before {content: \"▾\";}#sk-container-id-2 div.sk-estimator input.sk-toggleable__control:checked~label.sk-toggleable__label {background-color: #d4ebff;}#sk-container-id-2 div.sk-label input.sk-toggleable__control:checked~label.sk-toggleable__label {background-color: #d4ebff;}#sk-container-id-2 input.sk-hidden--visually {border: 0;clip: rect(1px 1px 1px 1px);clip: rect(1px, 1px, 1px, 1px);height: 1px;margin: -1px;overflow: hidden;padding: 0;position: absolute;width: 1px;}#sk-container-id-2 div.sk-estimator {font-family: monospace;background-color: #f0f8ff;border: 1px dotted black;border-radius: 0.25em;box-sizing: border-box;margin-bottom: 0.5em;}#sk-container-id-2 div.sk-estimator:hover {background-color: #d4ebff;}#sk-container-id-2 div.sk-parallel-item::after {content: \"\";width: 100%;border-bottom: 1px solid gray;flex-grow: 1;}#sk-container-id-2 div.sk-label:hover label.sk-toggleable__label {background-color: #d4ebff;}#sk-container-id-2 div.sk-serial::before {content: \"\";position: absolute;border-left: 1px solid gray;box-sizing: border-box;top: 0;bottom: 0;left: 50%;z-index: 0;}#sk-container-id-2 div.sk-serial {display: flex;flex-direction: column;align-items: center;background-color: white;padding-right: 0.2em;padding-left: 0.2em;position: relative;}#sk-container-id-2 div.sk-item {position: relative;z-index: 1;}#sk-container-id-2 div.sk-parallel {display: flex;align-items: stretch;justify-content: center;background-color: white;position: relative;}#sk-container-id-2 div.sk-item::before, #sk-container-id-2 div.sk-parallel-item::before {content: \"\";position: absolute;border-left: 1px solid gray;box-sizing: border-box;top: 0;bottom: 0;left: 50%;z-index: -1;}#sk-container-id-2 div.sk-parallel-item {display: flex;flex-direction: column;z-index: 1;position: relative;background-color: white;}#sk-container-id-2 div.sk-parallel-item:first-child::after {align-self: flex-end;width: 50%;}#sk-container-id-2 div.sk-parallel-item:last-child::after {align-self: flex-start;width: 50%;}#sk-container-id-2 div.sk-parallel-item:only-child::after {width: 0;}#sk-container-id-2 div.sk-dashed-wrapped {border: 1px dashed gray;margin: 0 0.4em 0.5em 0.4em;box-sizing: border-box;padding-bottom: 0.4em;background-color: white;}#sk-container-id-2 div.sk-label label {font-family: monospace;font-weight: bold;display: inline-block;line-height: 1.2em;}#sk-container-id-2 div.sk-label-container {text-align: center;}#sk-container-id-2 div.sk-container {/* jupyter's `normalize.less` sets `[hidden] { display: none; }` but bootstrap.min.css set `[hidden] { display: none !important; }` so we also need the `!important` here to be able to override the default hidden behavior on the sphinx rendered scikit-learn.org. See: https://github.com/scikit-learn/scikit-learn/issues/21755 */display: inline-block !important;position: relative;}#sk-container-id-2 div.sk-text-repr-fallback {display: none;}</style><div id=\"sk-container-id-2\" class=\"sk-top-container\"><div class=\"sk-text-repr-fallback\"><pre>RandomForestClassifier(random_state=42)</pre><b>In a Jupyter environment, please rerun this cell to show the HTML representation or trust the notebook. <br />On GitHub, the HTML representation is unable to render, please try loading this page with nbviewer.org.</b></div><div class=\"sk-container\" hidden><div class=\"sk-item\"><div class=\"sk-estimator sk-toggleable\"><input class=\"sk-toggleable__control sk-hidden--visually\" id=\"sk-estimator-id-2\" type=\"checkbox\" checked><label for=\"sk-estimator-id-2\" class=\"sk-toggleable__label sk-toggleable__label-arrow\">RandomForestClassifier</label><div class=\"sk-toggleable__content\"><pre>RandomForestClassifier(random_state=42)</pre></div></div></div></div></div>"
      ],
      "text/plain": [
       "RandomForestClassifier(random_state=42)"
      ]
     },
     "execution_count": 29,
     "metadata": {},
     "output_type": "execute_result"
    }
   ],
   "source": [
    "clf = RandomForestClassifier(random_state=42)\n",
    "clf.fit(X_train, y_train)"
   ]
  },
  {
   "cell_type": "code",
   "execution_count": 30,
   "id": "4bd1304b",
   "metadata": {
    "execution": {
     "iopub.execute_input": "2023-03-20T12:07:20.958142Z",
     "iopub.status.busy": "2023-03-20T12:07:20.957841Z",
     "iopub.status.idle": "2023-03-20T12:07:21.031868Z",
     "shell.execute_reply": "2023-03-20T12:07:21.030692Z"
    },
    "papermill": {
     "duration": 0.112411,
     "end_time": "2023-03-20T12:07:21.034645",
     "exception": false,
     "start_time": "2023-03-20T12:07:20.922234",
     "status": "completed"
    },
    "tags": []
   },
   "outputs": [
    {
     "name": "stdout",
     "output_type": "stream",
     "text": [
      "                                           precision    recall  f1-score   support\n",
      "\n",
      "                    action_thriller_crime       0.36      0.42      0.39       318\n",
      "                                   comedy       0.42      0.44      0.43       423\n",
      "                                    drama       0.39      0.38      0.38       499\n",
      "horror_scifi_mystery_supernatural_fantasy       0.34      0.27      0.30       263\n",
      "\n",
      "                                 accuracy                           0.39      1503\n",
      "                                macro avg       0.38      0.38      0.38      1503\n",
      "                             weighted avg       0.39      0.39      0.38      1503\n",
      "\n"
     ]
    }
   ],
   "source": [
    "y_pred = clf.predict(X_test)\n",
    "print(classification_report(y_test, y_pred))"
   ]
  },
  {
   "cell_type": "code",
   "execution_count": 31,
   "id": "43174ba2",
   "metadata": {
    "execution": {
     "iopub.execute_input": "2023-03-20T12:07:21.104304Z",
     "iopub.status.busy": "2023-03-20T12:07:21.103809Z",
     "iopub.status.idle": "2023-03-20T12:07:21.165220Z",
     "shell.execute_reply": "2023-03-20T12:07:21.164209Z"
    },
    "papermill": {
     "duration": 0.099061,
     "end_time": "2023-03-20T12:07:21.167538",
     "exception": false,
     "start_time": "2023-03-20T12:07:21.068477",
     "status": "completed"
    },
    "tags": []
   },
   "outputs": [],
   "source": [
    "acc = accuracy_score(y_test, y_pred)\n",
    "pre = precision_score(y_test, y_pred, average=avg_par)\n",
    "rec = recall_score(y_test, y_pred, average=avg_par)\n",
    "f1 = f1_score(y_test, y_pred, average=avg_par)\n",
    "\n",
    "metrics_data['Global']['RandomForest'] = {'Accuracy': acc, 'Precision': pre, 'Recall': rec, 'F1': f1}"
   ]
  },
  {
   "cell_type": "markdown",
   "id": "22c98ac5",
   "metadata": {
    "papermill": {
     "duration": 0.011988,
     "end_time": "2023-03-20T12:07:21.194275",
     "exception": false,
     "start_time": "2023-03-20T12:07:21.182287",
     "status": "completed"
    },
    "tags": []
   },
   "source": [
    "**LightGBM**"
   ]
  },
  {
   "cell_type": "code",
   "execution_count": 32,
   "id": "c93b818c",
   "metadata": {
    "execution": {
     "iopub.execute_input": "2023-03-20T12:07:21.220564Z",
     "iopub.status.busy": "2023-03-20T12:07:21.220035Z",
     "iopub.status.idle": "2023-03-20T12:07:21.495510Z",
     "shell.execute_reply": "2023-03-20T12:07:21.494677Z"
    },
    "papermill": {
     "duration": 0.290726,
     "end_time": "2023-03-20T12:07:21.497163",
     "exception": false,
     "start_time": "2023-03-20T12:07:21.206437",
     "status": "completed"
    },
    "tags": []
   },
   "outputs": [
    {
     "data": {
      "text/html": [
       "<style>#sk-container-id-3 {color: black;background-color: white;}#sk-container-id-3 pre{padding: 0;}#sk-container-id-3 div.sk-toggleable {background-color: white;}#sk-container-id-3 label.sk-toggleable__label {cursor: pointer;display: block;width: 100%;margin-bottom: 0;padding: 0.3em;box-sizing: border-box;text-align: center;}#sk-container-id-3 label.sk-toggleable__label-arrow:before {content: \"▸\";float: left;margin-right: 0.25em;color: #696969;}#sk-container-id-3 label.sk-toggleable__label-arrow:hover:before {color: black;}#sk-container-id-3 div.sk-estimator:hover label.sk-toggleable__label-arrow:before {color: black;}#sk-container-id-3 div.sk-toggleable__content {max-height: 0;max-width: 0;overflow: hidden;text-align: left;background-color: #f0f8ff;}#sk-container-id-3 div.sk-toggleable__content pre {margin: 0.2em;color: black;border-radius: 0.25em;background-color: #f0f8ff;}#sk-container-id-3 input.sk-toggleable__control:checked~div.sk-toggleable__content {max-height: 200px;max-width: 100%;overflow: auto;}#sk-container-id-3 input.sk-toggleable__control:checked~label.sk-toggleable__label-arrow:before {content: \"▾\";}#sk-container-id-3 div.sk-estimator input.sk-toggleable__control:checked~label.sk-toggleable__label {background-color: #d4ebff;}#sk-container-id-3 div.sk-label input.sk-toggleable__control:checked~label.sk-toggleable__label {background-color: #d4ebff;}#sk-container-id-3 input.sk-hidden--visually {border: 0;clip: rect(1px 1px 1px 1px);clip: rect(1px, 1px, 1px, 1px);height: 1px;margin: -1px;overflow: hidden;padding: 0;position: absolute;width: 1px;}#sk-container-id-3 div.sk-estimator {font-family: monospace;background-color: #f0f8ff;border: 1px dotted black;border-radius: 0.25em;box-sizing: border-box;margin-bottom: 0.5em;}#sk-container-id-3 div.sk-estimator:hover {background-color: #d4ebff;}#sk-container-id-3 div.sk-parallel-item::after {content: \"\";width: 100%;border-bottom: 1px solid gray;flex-grow: 1;}#sk-container-id-3 div.sk-label:hover label.sk-toggleable__label {background-color: #d4ebff;}#sk-container-id-3 div.sk-serial::before {content: \"\";position: absolute;border-left: 1px solid gray;box-sizing: border-box;top: 0;bottom: 0;left: 50%;z-index: 0;}#sk-container-id-3 div.sk-serial {display: flex;flex-direction: column;align-items: center;background-color: white;padding-right: 0.2em;padding-left: 0.2em;position: relative;}#sk-container-id-3 div.sk-item {position: relative;z-index: 1;}#sk-container-id-3 div.sk-parallel {display: flex;align-items: stretch;justify-content: center;background-color: white;position: relative;}#sk-container-id-3 div.sk-item::before, #sk-container-id-3 div.sk-parallel-item::before {content: \"\";position: absolute;border-left: 1px solid gray;box-sizing: border-box;top: 0;bottom: 0;left: 50%;z-index: -1;}#sk-container-id-3 div.sk-parallel-item {display: flex;flex-direction: column;z-index: 1;position: relative;background-color: white;}#sk-container-id-3 div.sk-parallel-item:first-child::after {align-self: flex-end;width: 50%;}#sk-container-id-3 div.sk-parallel-item:last-child::after {align-self: flex-start;width: 50%;}#sk-container-id-3 div.sk-parallel-item:only-child::after {width: 0;}#sk-container-id-3 div.sk-dashed-wrapped {border: 1px dashed gray;margin: 0 0.4em 0.5em 0.4em;box-sizing: border-box;padding-bottom: 0.4em;background-color: white;}#sk-container-id-3 div.sk-label label {font-family: monospace;font-weight: bold;display: inline-block;line-height: 1.2em;}#sk-container-id-3 div.sk-label-container {text-align: center;}#sk-container-id-3 div.sk-container {/* jupyter's `normalize.less` sets `[hidden] { display: none; }` but bootstrap.min.css set `[hidden] { display: none !important; }` so we also need the `!important` here to be able to override the default hidden behavior on the sphinx rendered scikit-learn.org. See: https://github.com/scikit-learn/scikit-learn/issues/21755 */display: inline-block !important;position: relative;}#sk-container-id-3 div.sk-text-repr-fallback {display: none;}</style><div id=\"sk-container-id-3\" class=\"sk-top-container\"><div class=\"sk-text-repr-fallback\"><pre>LGBMClassifier(objective=&#x27;multiclass&#x27;)</pre><b>In a Jupyter environment, please rerun this cell to show the HTML representation or trust the notebook. <br />On GitHub, the HTML representation is unable to render, please try loading this page with nbviewer.org.</b></div><div class=\"sk-container\" hidden><div class=\"sk-item\"><div class=\"sk-estimator sk-toggleable\"><input class=\"sk-toggleable__control sk-hidden--visually\" id=\"sk-estimator-id-3\" type=\"checkbox\" checked><label for=\"sk-estimator-id-3\" class=\"sk-toggleable__label sk-toggleable__label-arrow\">LGBMClassifier</label><div class=\"sk-toggleable__content\"><pre>LGBMClassifier(objective=&#x27;multiclass&#x27;)</pre></div></div></div></div></div>"
      ],
      "text/plain": [
       "LGBMClassifier(objective='multiclass')"
      ]
     },
     "execution_count": 32,
     "metadata": {},
     "output_type": "execute_result"
    }
   ],
   "source": [
    "clf = lgbm.LGBMClassifier(objective=obj_par) \n",
    "clf.fit(X_train, y_train)"
   ]
  },
  {
   "cell_type": "code",
   "execution_count": 33,
   "id": "600a663a",
   "metadata": {
    "execution": {
     "iopub.execute_input": "2023-03-20T12:07:21.524186Z",
     "iopub.status.busy": "2023-03-20T12:07:21.523776Z",
     "iopub.status.idle": "2023-03-20T12:07:21.569112Z",
     "shell.execute_reply": "2023-03-20T12:07:21.568023Z"
    },
    "papermill": {
     "duration": 0.061828,
     "end_time": "2023-03-20T12:07:21.571947",
     "exception": false,
     "start_time": "2023-03-20T12:07:21.510119",
     "status": "completed"
    },
    "tags": []
   },
   "outputs": [
    {
     "name": "stdout",
     "output_type": "stream",
     "text": [
      "                                           precision    recall  f1-score   support\n",
      "\n",
      "                    action_thriller_crime       0.38      0.41      0.39       318\n",
      "                                   comedy       0.43      0.43      0.43       423\n",
      "                                    drama       0.39      0.42      0.40       499\n",
      "horror_scifi_mystery_supernatural_fantasy       0.36      0.29      0.32       263\n",
      "\n",
      "                                 accuracy                           0.39      1503\n",
      "                                macro avg       0.39      0.38      0.39      1503\n",
      "                             weighted avg       0.39      0.39      0.39      1503\n",
      "\n"
     ]
    }
   ],
   "source": [
    "y_pred = clf.predict(X_test)\n",
    "print(classification_report(y_test, y_pred))"
   ]
  },
  {
   "cell_type": "code",
   "execution_count": 34,
   "id": "508d831d",
   "metadata": {
    "execution": {
     "iopub.execute_input": "2023-03-20T12:07:21.631543Z",
     "iopub.status.busy": "2023-03-20T12:07:21.631182Z",
     "iopub.status.idle": "2023-03-20T12:07:21.688129Z",
     "shell.execute_reply": "2023-03-20T12:07:21.687083Z"
    },
    "papermill": {
     "duration": 0.083305,
     "end_time": "2023-03-20T12:07:21.690063",
     "exception": false,
     "start_time": "2023-03-20T12:07:21.606758",
     "status": "completed"
    },
    "tags": []
   },
   "outputs": [],
   "source": [
    "acc = accuracy_score(y_test, y_pred)\n",
    "pre = precision_score(y_test, y_pred, average=avg_par)\n",
    "rec = recall_score(y_test, y_pred, average=avg_par)\n",
    "f1 = f1_score(y_test, y_pred, average=avg_par)\n",
    "\n",
    "metrics_data['Global']['LightGBM'] = {'Accuracy': acc, 'Precision': pre, 'Recall': rec, 'F1': f1}"
   ]
  },
  {
   "cell_type": "markdown",
   "id": "14b86894",
   "metadata": {
    "papermill": {
     "duration": 0.012176,
     "end_time": "2023-03-20T12:07:21.717005",
     "exception": false,
     "start_time": "2023-03-20T12:07:21.704829",
     "status": "completed"
    },
    "tags": []
   },
   "source": [
    "### Time Series Classification"
   ]
  },
  {
   "cell_type": "markdown",
   "id": "84c55533",
   "metadata": {
    "papermill": {
     "duration": 0.012183,
     "end_time": "2023-03-20T12:07:21.741880",
     "exception": false,
     "start_time": "2023-03-20T12:07:21.729697",
     "status": "completed"
    },
    "tags": []
   },
   "source": [
    "#### Learning Shapelets"
   ]
  },
  {
   "cell_type": "code",
   "execution_count": 35,
   "id": "488d8eb7",
   "metadata": {
    "execution": {
     "iopub.execute_input": "2023-03-20T12:07:21.768293Z",
     "iopub.status.busy": "2023-03-20T12:07:21.767834Z",
     "iopub.status.idle": "2023-03-20T12:07:23.298383Z",
     "shell.execute_reply": "2023-03-20T12:07:23.297559Z"
    },
    "papermill": {
     "duration": 1.547283,
     "end_time": "2023-03-20T12:07:23.301367",
     "exception": false,
     "start_time": "2023-03-20T12:07:21.754084",
     "status": "completed"
    },
    "tags": []
   },
   "outputs": [
    {
     "name": "stderr",
     "output_type": "stream",
     "text": [
      "2023-03-20 13:07:21.775026: I tensorflow/core/platform/cpu_feature_guard.cc:193] This TensorFlow binary is optimized with oneAPI Deep Neural Network Library (oneDNN) to use the following CPU instructions in performance-critical operations:  AVX2 FMA\n",
      "To enable them in other operations, rebuild TensorFlow with the appropriate compiler flags.\n",
      "2023-03-20 13:07:21.923804: W tensorflow/compiler/xla/stream_executor/platform/default/dso_loader.cc:64] Could not load dynamic library 'libcudart.so.11.0'; dlerror: libcudart.so.11.0: cannot open shared object file: No such file or directory\n",
      "2023-03-20 13:07:21.923826: I tensorflow/compiler/xla/stream_executor/cuda/cudart_stub.cc:29] Ignore above cudart dlerror if you do not have a GPU set up on your machine.\n"
     ]
    },
    {
     "name": "stderr",
     "output_type": "stream",
     "text": [
      "2023-03-20 13:07:22.561094: W tensorflow/compiler/xla/stream_executor/platform/default/dso_loader.cc:64] Could not load dynamic library 'libnvinfer.so.7'; dlerror: libnvinfer.so.7: cannot open shared object file: No such file or directory\n",
      "2023-03-20 13:07:22.561170: W tensorflow/compiler/xla/stream_executor/platform/default/dso_loader.cc:64] Could not load dynamic library 'libnvinfer_plugin.so.7'; dlerror: libnvinfer_plugin.so.7: cannot open shared object file: No such file or directory\n",
      "2023-03-20 13:07:22.561178: W tensorflow/compiler/tf2tensorrt/utils/py_utils.cc:38] TF-TRT Warning: Cannot dlopen some TensorRT libraries. If you would like to use Nvidia GPU with TensorRT, please make sure the missing libraries mentioned above are installed properly.\n"
     ]
    }
   ],
   "source": [
    "from tslearn.shapelets import LearningShapelets, grabocka_params_to_shapelet_size_dict"
   ]
  },
  {
   "cell_type": "code",
   "execution_count": 36,
   "id": "eb677959",
   "metadata": {
    "execution": {
     "iopub.execute_input": "2023-03-20T12:07:23.371159Z",
     "iopub.status.busy": "2023-03-20T12:07:23.370679Z",
     "iopub.status.idle": "2023-03-20T12:07:23.376698Z",
     "shell.execute_reply": "2023-03-20T12:07:23.375382Z"
    },
    "papermill": {
     "duration": 0.042663,
     "end_time": "2023-03-20T12:07:23.379878",
     "exception": false,
     "start_time": "2023-03-20T12:07:23.337215",
     "status": "completed"
    },
    "tags": []
   },
   "outputs": [],
   "source": [
    "n_ts, ts_sz, _ = ts_train.shape\n",
    "n_classes = len(set(y_train))"
   ]
  },
  {
   "cell_type": "code",
   "execution_count": 37,
   "id": "776ed3dd",
   "metadata": {
    "execution": {
     "iopub.execute_input": "2023-03-20T12:07:23.416878Z",
     "iopub.status.busy": "2023-03-20T12:07:23.416409Z",
     "iopub.status.idle": "2023-03-20T12:07:23.423930Z",
     "shell.execute_reply": "2023-03-20T12:07:23.422907Z"
    },
    "papermill": {
     "duration": 0.023075,
     "end_time": "2023-03-20T12:07:23.425646",
     "exception": false,
     "start_time": "2023-03-20T12:07:23.402571",
     "status": "completed"
    },
    "tags": []
   },
   "outputs": [
    {
     "name": "stdout",
     "output_type": "stream",
     "text": [
      "n_ts 6009\n",
      "ts_sz 100\n",
      "n_classes 4\n",
      "shapelet_sizes {10: 6}\n"
     ]
    }
   ],
   "source": [
    "# Set the number of shapelets per size as done in the original paper\n",
    "g_shapelet_sizes = grabocka_params_to_shapelet_size_dict(n_ts=n_ts,\n",
    "                                                         ts_sz=ts_sz,\n",
    "                                                         n_classes=n_classes,\n",
    "                                                         l=0.1,\n",
    "                                                         r=1)\n",
    "\n",
    "print('n_ts', n_ts)\n",
    "print('ts_sz', ts_sz)\n",
    "print('n_classes', n_classes)\n",
    "print('shapelet_sizes', g_shapelet_sizes)"
   ]
  },
  {
   "cell_type": "code",
   "execution_count": 38,
   "id": "90ed707e",
   "metadata": {
    "execution": {
     "iopub.execute_input": "2023-03-20T12:07:23.452537Z",
     "iopub.status.busy": "2023-03-20T12:07:23.452083Z",
     "iopub.status.idle": "2023-03-20T12:07:23.460832Z",
     "shell.execute_reply": "2023-03-20T12:07:23.459932Z"
    },
    "papermill": {
     "duration": 0.024312,
     "end_time": "2023-03-20T12:07:23.462538",
     "exception": false,
     "start_time": "2023-03-20T12:07:23.438226",
     "status": "completed"
    },
    "tags": []
   },
   "outputs": [
    {
     "data": {
      "text/plain": [
       "{10: 6, 20: 6, 5: 6}"
      ]
     },
     "execution_count": 38,
     "metadata": {},
     "output_type": "execute_result"
    }
   ],
   "source": [
    "shapelet_sizes = {}\n",
    "for key in g_shapelet_sizes:\n",
    "    shapelet_sizes[key] = g_shapelet_sizes[key]\n",
    "    shapelet_sizes[key*2] = g_shapelet_sizes[key]\n",
    "    shapelet_sizes[key//2] = g_shapelet_sizes[key]\n",
    "shapelet_sizes"
   ]
  },
  {
   "cell_type": "code",
   "execution_count": 39,
   "id": "3507fb9c",
   "metadata": {
    "execution": {
     "iopub.execute_input": "2023-03-20T12:07:23.489357Z",
     "iopub.status.busy": "2023-03-20T12:07:23.488903Z",
     "iopub.status.idle": "2023-03-20T12:07:23.495297Z",
     "shell.execute_reply": "2023-03-20T12:07:23.494404Z"
    },
    "papermill": {
     "duration": 0.021964,
     "end_time": "2023-03-20T12:07:23.496966",
     "exception": false,
     "start_time": "2023-03-20T12:07:23.475002",
     "status": "completed"
    },
    "tags": []
   },
   "outputs": [
    {
     "name": "stderr",
     "output_type": "stream",
     "text": [
      "/home/mattiapggioli/lyrics2ts/.venv/lib/python3.9/site-packages/tslearn/shapelets/shapelets.py:354: FutureWarning: The default value for 'scale' is set to False in version 0.4 to ensure backward compatibility, but is likely to change in a future version.\n",
      "  warnings.warn(\"The default value for 'scale' is set to False \"\n"
     ]
    }
   ],
   "source": [
    "model = LearningShapelets(n_shapelets_per_size=shapelet_sizes,\n",
    "                          optimizer=\"adam\", \n",
    "                          weight_regularizer=.01, \n",
    "                          max_iter=max_iter, verbose=0, random_state=42)"
   ]
  },
  {
   "cell_type": "code",
   "execution_count": 40,
   "id": "73b1fe2e",
   "metadata": {
    "execution": {
     "iopub.execute_input": "2023-03-20T12:07:23.523857Z",
     "iopub.status.busy": "2023-03-20T12:07:23.523401Z",
     "iopub.status.idle": "2023-03-20T12:15:56.395061Z",
     "shell.execute_reply": "2023-03-20T12:15:56.393980Z"
    },
    "papermill": {
     "duration": 512.90209,
     "end_time": "2023-03-20T12:15:56.411567",
     "exception": false,
     "start_time": "2023-03-20T12:07:23.509477",
     "status": "completed"
    },
    "tags": []
   },
   "outputs": [
    {
     "name": "stderr",
     "output_type": "stream",
     "text": [
      "2023-03-20 13:07:23.746208: W tensorflow/compiler/xla/stream_executor/platform/default/dso_loader.cc:64] Could not load dynamic library 'libcuda.so.1'; dlerror: libcuda.so.1: cannot open shared object file: No such file or directory\n",
      "2023-03-20 13:07:23.746234: W tensorflow/compiler/xla/stream_executor/cuda/cuda_driver.cc:265] failed call to cuInit: UNKNOWN ERROR (303)\n",
      "2023-03-20 13:07:23.746255: I tensorflow/compiler/xla/stream_executor/cuda/cuda_diagnostics.cc:156] kernel driver does not appear to be running on this host (mattiapggioli-ThinkPad-E595): /proc/driver/nvidia/version does not exist\n",
      "2023-03-20 13:07:23.746455: I tensorflow/core/platform/cpu_feature_guard.cc:193] This TensorFlow binary is optimized with oneAPI Deep Neural Network Library (oneDNN) to use the following CPU instructions in performance-critical operations:  AVX2 FMA\n",
      "To enable them in other operations, rebuild TensorFlow with the appropriate compiler flags.\n"
     ]
    },
    {
     "name": "stdout",
     "output_type": "stream",
     "text": [
      "CPU times: user 47min 11s, sys: 2min 36s, total: 49min 48s\n",
      "Wall time: 8min 32s\n"
     ]
    },
    {
     "data": {
      "text/html": [
       "<style>#sk-container-id-4 {color: black;background-color: white;}#sk-container-id-4 pre{padding: 0;}#sk-container-id-4 div.sk-toggleable {background-color: white;}#sk-container-id-4 label.sk-toggleable__label {cursor: pointer;display: block;width: 100%;margin-bottom: 0;padding: 0.3em;box-sizing: border-box;text-align: center;}#sk-container-id-4 label.sk-toggleable__label-arrow:before {content: \"▸\";float: left;margin-right: 0.25em;color: #696969;}#sk-container-id-4 label.sk-toggleable__label-arrow:hover:before {color: black;}#sk-container-id-4 div.sk-estimator:hover label.sk-toggleable__label-arrow:before {color: black;}#sk-container-id-4 div.sk-toggleable__content {max-height: 0;max-width: 0;overflow: hidden;text-align: left;background-color: #f0f8ff;}#sk-container-id-4 div.sk-toggleable__content pre {margin: 0.2em;color: black;border-radius: 0.25em;background-color: #f0f8ff;}#sk-container-id-4 input.sk-toggleable__control:checked~div.sk-toggleable__content {max-height: 200px;max-width: 100%;overflow: auto;}#sk-container-id-4 input.sk-toggleable__control:checked~label.sk-toggleable__label-arrow:before {content: \"▾\";}#sk-container-id-4 div.sk-estimator input.sk-toggleable__control:checked~label.sk-toggleable__label {background-color: #d4ebff;}#sk-container-id-4 div.sk-label input.sk-toggleable__control:checked~label.sk-toggleable__label {background-color: #d4ebff;}#sk-container-id-4 input.sk-hidden--visually {border: 0;clip: rect(1px 1px 1px 1px);clip: rect(1px, 1px, 1px, 1px);height: 1px;margin: -1px;overflow: hidden;padding: 0;position: absolute;width: 1px;}#sk-container-id-4 div.sk-estimator {font-family: monospace;background-color: #f0f8ff;border: 1px dotted black;border-radius: 0.25em;box-sizing: border-box;margin-bottom: 0.5em;}#sk-container-id-4 div.sk-estimator:hover {background-color: #d4ebff;}#sk-container-id-4 div.sk-parallel-item::after {content: \"\";width: 100%;border-bottom: 1px solid gray;flex-grow: 1;}#sk-container-id-4 div.sk-label:hover label.sk-toggleable__label {background-color: #d4ebff;}#sk-container-id-4 div.sk-serial::before {content: \"\";position: absolute;border-left: 1px solid gray;box-sizing: border-box;top: 0;bottom: 0;left: 50%;z-index: 0;}#sk-container-id-4 div.sk-serial {display: flex;flex-direction: column;align-items: center;background-color: white;padding-right: 0.2em;padding-left: 0.2em;position: relative;}#sk-container-id-4 div.sk-item {position: relative;z-index: 1;}#sk-container-id-4 div.sk-parallel {display: flex;align-items: stretch;justify-content: center;background-color: white;position: relative;}#sk-container-id-4 div.sk-item::before, #sk-container-id-4 div.sk-parallel-item::before {content: \"\";position: absolute;border-left: 1px solid gray;box-sizing: border-box;top: 0;bottom: 0;left: 50%;z-index: -1;}#sk-container-id-4 div.sk-parallel-item {display: flex;flex-direction: column;z-index: 1;position: relative;background-color: white;}#sk-container-id-4 div.sk-parallel-item:first-child::after {align-self: flex-end;width: 50%;}#sk-container-id-4 div.sk-parallel-item:last-child::after {align-self: flex-start;width: 50%;}#sk-container-id-4 div.sk-parallel-item:only-child::after {width: 0;}#sk-container-id-4 div.sk-dashed-wrapped {border: 1px dashed gray;margin: 0 0.4em 0.5em 0.4em;box-sizing: border-box;padding-bottom: 0.4em;background-color: white;}#sk-container-id-4 div.sk-label label {font-family: monospace;font-weight: bold;display: inline-block;line-height: 1.2em;}#sk-container-id-4 div.sk-label-container {text-align: center;}#sk-container-id-4 div.sk-container {/* jupyter's `normalize.less` sets `[hidden] { display: none; }` but bootstrap.min.css set `[hidden] { display: none !important; }` so we also need the `!important` here to be able to override the default hidden behavior on the sphinx rendered scikit-learn.org. See: https://github.com/scikit-learn/scikit-learn/issues/21755 */display: inline-block !important;position: relative;}#sk-container-id-4 div.sk-text-repr-fallback {display: none;}</style><div id=\"sk-container-id-4\" class=\"sk-top-container\"><div class=\"sk-text-repr-fallback\"><pre>LearningShapelets(max_iter=2000, n_shapelets_per_size={5: 6, 10: 6, 20: 6},\n",
       "                  optimizer=&#x27;adam&#x27;, random_state=42, weight_regularizer=0.01)</pre><b>In a Jupyter environment, please rerun this cell to show the HTML representation or trust the notebook. <br />On GitHub, the HTML representation is unable to render, please try loading this page with nbviewer.org.</b></div><div class=\"sk-container\" hidden><div class=\"sk-item\"><div class=\"sk-estimator sk-toggleable\"><input class=\"sk-toggleable__control sk-hidden--visually\" id=\"sk-estimator-id-4\" type=\"checkbox\" checked><label for=\"sk-estimator-id-4\" class=\"sk-toggleable__label sk-toggleable__label-arrow\">LearningShapelets</label><div class=\"sk-toggleable__content\"><pre>LearningShapelets(max_iter=2000, n_shapelets_per_size={5: 6, 10: 6, 20: 6},\n",
       "                  optimizer=&#x27;adam&#x27;, random_state=42, weight_regularizer=0.01)</pre></div></div></div></div></div>"
      ],
      "text/plain": [
       "LearningShapelets(max_iter=2000, n_shapelets_per_size={5: 6, 10: 6, 20: 6},\n",
       "                  optimizer='adam', random_state=42, weight_regularizer=0.01)"
      ]
     },
     "execution_count": 40,
     "metadata": {},
     "output_type": "execute_result"
    }
   ],
   "source": [
    "%%time\n",
    "model.fit(ts_train, y_train)"
   ]
  },
  {
   "cell_type": "code",
   "execution_count": 41,
   "id": "51706baa",
   "metadata": {
    "execution": {
     "iopub.execute_input": "2023-03-20T12:15:56.443941Z",
     "iopub.status.busy": "2023-03-20T12:15:56.443454Z",
     "iopub.status.idle": "2023-03-20T12:15:56.477700Z",
     "shell.execute_reply": "2023-03-20T12:15:56.476360Z"
    },
    "papermill": {
     "duration": 0.052914,
     "end_time": "2023-03-20T12:15:56.479863",
     "exception": false,
     "start_time": "2023-03-20T12:15:56.426949",
     "status": "completed"
    },
    "tags": []
   },
   "outputs": [],
   "source": [
    "model.to_pickle(f'{data_path}/shapelets.pkl')"
   ]
  },
  {
   "cell_type": "markdown",
   "id": "309f70dc",
   "metadata": {
    "papermill": {
     "duration": 0.012984,
     "end_time": "2023-03-20T12:15:56.508074",
     "exception": false,
     "start_time": "2023-03-20T12:15:56.495090",
     "status": "completed"
    },
    "tags": []
   },
   "source": [
    "#### Shapelet-Based Classification"
   ]
  },
  {
   "cell_type": "code",
   "execution_count": 42,
   "id": "60125dff",
   "metadata": {
    "execution": {
     "iopub.execute_input": "2023-03-20T12:15:56.537409Z",
     "iopub.status.busy": "2023-03-20T12:15:56.536938Z",
     "iopub.status.idle": "2023-03-20T12:15:56.542520Z",
     "shell.execute_reply": "2023-03-20T12:15:56.541340Z"
    },
    "papermill": {
     "duration": 0.022843,
     "end_time": "2023-03-20T12:15:56.544335",
     "exception": false,
     "start_time": "2023-03-20T12:15:56.521492",
     "status": "completed"
    },
    "tags": []
   },
   "outputs": [],
   "source": [
    "metrics_data['Shapelets'] = {}"
   ]
  },
  {
   "cell_type": "code",
   "execution_count": 43,
   "id": "efb8984d",
   "metadata": {
    "execution": {
     "iopub.execute_input": "2023-03-20T12:15:56.574299Z",
     "iopub.status.busy": "2023-03-20T12:15:56.573857Z",
     "iopub.status.idle": "2023-03-20T12:15:57.398527Z",
     "shell.execute_reply": "2023-03-20T12:15:57.397813Z"
    },
    "papermill": {
     "duration": 0.84232,
     "end_time": "2023-03-20T12:15:57.400694",
     "exception": false,
     "start_time": "2023-03-20T12:15:56.558374",
     "status": "completed"
    },
    "tags": []
   },
   "outputs": [],
   "source": [
    "X_train = model.transform(ts_train)\n",
    "X_test = model.transform(ts_test)"
   ]
  },
  {
   "cell_type": "code",
   "execution_count": 44,
   "id": "2e6c0f22",
   "metadata": {
    "execution": {
     "iopub.execute_input": "2023-03-20T12:15:57.430971Z",
     "iopub.status.busy": "2023-03-20T12:15:57.430516Z",
     "iopub.status.idle": "2023-03-20T12:15:57.483339Z",
     "shell.execute_reply": "2023-03-20T12:15:57.481709Z"
    },
    "papermill": {
     "duration": 0.069487,
     "end_time": "2023-03-20T12:15:57.485430",
     "exception": false,
     "start_time": "2023-03-20T12:15:57.415943",
     "status": "completed"
    },
    "tags": []
   },
   "outputs": [
    {
     "data": {
      "text/html": [
       "<div>\n",
       "<style scoped>\n",
       "    .dataframe tbody tr th:only-of-type {\n",
       "        vertical-align: middle;\n",
       "    }\n",
       "\n",
       "    .dataframe tbody tr th {\n",
       "        vertical-align: top;\n",
       "    }\n",
       "\n",
       "    .dataframe thead th {\n",
       "        text-align: right;\n",
       "    }\n",
       "</style>\n",
       "<table border=\"1\" class=\"dataframe\">\n",
       "  <thead>\n",
       "    <tr style=\"text-align: right;\">\n",
       "      <th></th>\n",
       "      <th>0</th>\n",
       "      <th>1</th>\n",
       "      <th>2</th>\n",
       "      <th>3</th>\n",
       "      <th>4</th>\n",
       "      <th>5</th>\n",
       "      <th>6</th>\n",
       "      <th>7</th>\n",
       "      <th>8</th>\n",
       "      <th>9</th>\n",
       "      <th>10</th>\n",
       "      <th>11</th>\n",
       "      <th>12</th>\n",
       "      <th>13</th>\n",
       "      <th>14</th>\n",
       "      <th>15</th>\n",
       "      <th>16</th>\n",
       "      <th>17</th>\n",
       "    </tr>\n",
       "  </thead>\n",
       "  <tbody>\n",
       "    <tr>\n",
       "      <th>0</th>\n",
       "      <td>0.037160</td>\n",
       "      <td>0.781352</td>\n",
       "      <td>0.066282</td>\n",
       "      <td>3.702181</td>\n",
       "      <td>1.672817</td>\n",
       "      <td>0.145825</td>\n",
       "      <td>1.899049</td>\n",
       "      <td>3.576722</td>\n",
       "      <td>3.680116</td>\n",
       "      <td>3.728791</td>\n",
       "      <td>1.958599</td>\n",
       "      <td>1.973750</td>\n",
       "      <td>4.789084</td>\n",
       "      <td>4.306207</td>\n",
       "      <td>4.251588</td>\n",
       "      <td>3.866546</td>\n",
       "      <td>4.496550</td>\n",
       "      <td>4.098424</td>\n",
       "    </tr>\n",
       "    <tr>\n",
       "      <th>1</th>\n",
       "      <td>0.015308</td>\n",
       "      <td>0.816984</td>\n",
       "      <td>0.031593</td>\n",
       "      <td>3.966599</td>\n",
       "      <td>1.833537</td>\n",
       "      <td>0.162666</td>\n",
       "      <td>1.974446</td>\n",
       "      <td>3.685317</td>\n",
       "      <td>3.751067</td>\n",
       "      <td>3.775868</td>\n",
       "      <td>2.031929</td>\n",
       "      <td>2.044736</td>\n",
       "      <td>4.859556</td>\n",
       "      <td>4.342948</td>\n",
       "      <td>4.503298</td>\n",
       "      <td>4.188958</td>\n",
       "      <td>4.534862</td>\n",
       "      <td>4.353107</td>\n",
       "    </tr>\n",
       "    <tr>\n",
       "      <th>2</th>\n",
       "      <td>0.030270</td>\n",
       "      <td>1.118771</td>\n",
       "      <td>0.031690</td>\n",
       "      <td>3.309932</td>\n",
       "      <td>1.522915</td>\n",
       "      <td>0.079483</td>\n",
       "      <td>1.374759</td>\n",
       "      <td>3.623443</td>\n",
       "      <td>3.774949</td>\n",
       "      <td>3.877594</td>\n",
       "      <td>1.534688</td>\n",
       "      <td>1.544348</td>\n",
       "      <td>4.910861</td>\n",
       "      <td>4.402896</td>\n",
       "      <td>3.660635</td>\n",
       "      <td>3.413715</td>\n",
       "      <td>4.598926</td>\n",
       "      <td>3.596411</td>\n",
       "    </tr>\n",
       "    <tr>\n",
       "      <th>3</th>\n",
       "      <td>0.014124</td>\n",
       "      <td>0.891138</td>\n",
       "      <td>0.149446</td>\n",
       "      <td>4.183073</td>\n",
       "      <td>1.565023</td>\n",
       "      <td>0.069515</td>\n",
       "      <td>2.588937</td>\n",
       "      <td>3.304251</td>\n",
       "      <td>3.516764</td>\n",
       "      <td>3.452840</td>\n",
       "      <td>2.819165</td>\n",
       "      <td>2.825500</td>\n",
       "      <td>4.167317</td>\n",
       "      <td>3.675000</td>\n",
       "      <td>5.263524</td>\n",
       "      <td>4.857067</td>\n",
       "      <td>3.855537</td>\n",
       "      <td>5.093222</td>\n",
       "    </tr>\n",
       "    <tr>\n",
       "      <th>4</th>\n",
       "      <td>0.015474</td>\n",
       "      <td>0.819095</td>\n",
       "      <td>0.127733</td>\n",
       "      <td>4.072441</td>\n",
       "      <td>1.757308</td>\n",
       "      <td>0.198578</td>\n",
       "      <td>2.039605</td>\n",
       "      <td>3.199515</td>\n",
       "      <td>3.602589</td>\n",
       "      <td>3.609322</td>\n",
       "      <td>2.315838</td>\n",
       "      <td>2.332282</td>\n",
       "      <td>4.481804</td>\n",
       "      <td>3.967436</td>\n",
       "      <td>4.608057</td>\n",
       "      <td>4.256878</td>\n",
       "      <td>4.149639</td>\n",
       "      <td>4.438957</td>\n",
       "    </tr>\n",
       "    <tr>\n",
       "      <th>...</th>\n",
       "      <td>...</td>\n",
       "      <td>...</td>\n",
       "      <td>...</td>\n",
       "      <td>...</td>\n",
       "      <td>...</td>\n",
       "      <td>...</td>\n",
       "      <td>...</td>\n",
       "      <td>...</td>\n",
       "      <td>...</td>\n",
       "      <td>...</td>\n",
       "      <td>...</td>\n",
       "      <td>...</td>\n",
       "      <td>...</td>\n",
       "      <td>...</td>\n",
       "      <td>...</td>\n",
       "      <td>...</td>\n",
       "      <td>...</td>\n",
       "      <td>...</td>\n",
       "    </tr>\n",
       "    <tr>\n",
       "      <th>1498</th>\n",
       "      <td>0.019451</td>\n",
       "      <td>0.885544</td>\n",
       "      <td>0.091160</td>\n",
       "      <td>3.625657</td>\n",
       "      <td>1.565657</td>\n",
       "      <td>0.166114</td>\n",
       "      <td>1.785159</td>\n",
       "      <td>3.782394</td>\n",
       "      <td>4.200244</td>\n",
       "      <td>4.343761</td>\n",
       "      <td>1.785619</td>\n",
       "      <td>1.792849</td>\n",
       "      <td>5.127681</td>\n",
       "      <td>4.665285</td>\n",
       "      <td>4.055221</td>\n",
       "      <td>3.715976</td>\n",
       "      <td>4.855914</td>\n",
       "      <td>3.918377</td>\n",
       "    </tr>\n",
       "    <tr>\n",
       "      <th>1499</th>\n",
       "      <td>0.062729</td>\n",
       "      <td>1.080181</td>\n",
       "      <td>0.021282</td>\n",
       "      <td>3.354832</td>\n",
       "      <td>1.606298</td>\n",
       "      <td>0.210037</td>\n",
       "      <td>1.431831</td>\n",
       "      <td>3.790744</td>\n",
       "      <td>4.284133</td>\n",
       "      <td>4.309982</td>\n",
       "      <td>1.700202</td>\n",
       "      <td>1.698705</td>\n",
       "      <td>5.551595</td>\n",
       "      <td>4.987006</td>\n",
       "      <td>3.948925</td>\n",
       "      <td>3.579631</td>\n",
       "      <td>5.163031</td>\n",
       "      <td>3.681749</td>\n",
       "    </tr>\n",
       "    <tr>\n",
       "      <th>1500</th>\n",
       "      <td>0.013437</td>\n",
       "      <td>1.080444</td>\n",
       "      <td>0.122376</td>\n",
       "      <td>3.494338</td>\n",
       "      <td>1.986175</td>\n",
       "      <td>0.143469</td>\n",
       "      <td>1.663993</td>\n",
       "      <td>2.996958</td>\n",
       "      <td>3.278787</td>\n",
       "      <td>3.230226</td>\n",
       "      <td>1.764524</td>\n",
       "      <td>1.779177</td>\n",
       "      <td>4.134689</td>\n",
       "      <td>3.689996</td>\n",
       "      <td>4.480623</td>\n",
       "      <td>4.120941</td>\n",
       "      <td>3.874058</td>\n",
       "      <td>4.451108</td>\n",
       "    </tr>\n",
       "    <tr>\n",
       "      <th>1501</th>\n",
       "      <td>0.064368</td>\n",
       "      <td>1.079442</td>\n",
       "      <td>0.038484</td>\n",
       "      <td>3.278059</td>\n",
       "      <td>1.545924</td>\n",
       "      <td>0.095227</td>\n",
       "      <td>1.439045</td>\n",
       "      <td>3.707459</td>\n",
       "      <td>3.566669</td>\n",
       "      <td>3.589939</td>\n",
       "      <td>1.583864</td>\n",
       "      <td>1.585484</td>\n",
       "      <td>5.361286</td>\n",
       "      <td>4.933601</td>\n",
       "      <td>3.714179</td>\n",
       "      <td>3.326915</td>\n",
       "      <td>5.084171</td>\n",
       "      <td>3.484027</td>\n",
       "    </tr>\n",
       "    <tr>\n",
       "      <th>1502</th>\n",
       "      <td>0.045657</td>\n",
       "      <td>0.878859</td>\n",
       "      <td>0.069197</td>\n",
       "      <td>3.584441</td>\n",
       "      <td>1.603381</td>\n",
       "      <td>0.131972</td>\n",
       "      <td>1.523465</td>\n",
       "      <td>3.358046</td>\n",
       "      <td>4.216962</td>\n",
       "      <td>4.330774</td>\n",
       "      <td>1.613438</td>\n",
       "      <td>1.631010</td>\n",
       "      <td>5.528102</td>\n",
       "      <td>4.998048</td>\n",
       "      <td>3.810022</td>\n",
       "      <td>3.513012</td>\n",
       "      <td>5.168567</td>\n",
       "      <td>3.657515</td>\n",
       "    </tr>\n",
       "  </tbody>\n",
       "</table>\n",
       "<p>1503 rows × 18 columns</p>\n",
       "</div>"
      ],
      "text/plain": [
       "            0         1         2         3         4         5         6   \\\n",
       "0     0.037160  0.781352  0.066282  3.702181  1.672817  0.145825  1.899049   \n",
       "1     0.015308  0.816984  0.031593  3.966599  1.833537  0.162666  1.974446   \n",
       "2     0.030270  1.118771  0.031690  3.309932  1.522915  0.079483  1.374759   \n",
       "3     0.014124  0.891138  0.149446  4.183073  1.565023  0.069515  2.588937   \n",
       "4     0.015474  0.819095  0.127733  4.072441  1.757308  0.198578  2.039605   \n",
       "...        ...       ...       ...       ...       ...       ...       ...   \n",
       "1498  0.019451  0.885544  0.091160  3.625657  1.565657  0.166114  1.785159   \n",
       "1499  0.062729  1.080181  0.021282  3.354832  1.606298  0.210037  1.431831   \n",
       "1500  0.013437  1.080444  0.122376  3.494338  1.986175  0.143469  1.663993   \n",
       "1501  0.064368  1.079442  0.038484  3.278059  1.545924  0.095227  1.439045   \n",
       "1502  0.045657  0.878859  0.069197  3.584441  1.603381  0.131972  1.523465   \n",
       "\n",
       "            7         8         9         10        11        12        13  \\\n",
       "0     3.576722  3.680116  3.728791  1.958599  1.973750  4.789084  4.306207   \n",
       "1     3.685317  3.751067  3.775868  2.031929  2.044736  4.859556  4.342948   \n",
       "2     3.623443  3.774949  3.877594  1.534688  1.544348  4.910861  4.402896   \n",
       "3     3.304251  3.516764  3.452840  2.819165  2.825500  4.167317  3.675000   \n",
       "4     3.199515  3.602589  3.609322  2.315838  2.332282  4.481804  3.967436   \n",
       "...        ...       ...       ...       ...       ...       ...       ...   \n",
       "1498  3.782394  4.200244  4.343761  1.785619  1.792849  5.127681  4.665285   \n",
       "1499  3.790744  4.284133  4.309982  1.700202  1.698705  5.551595  4.987006   \n",
       "1500  2.996958  3.278787  3.230226  1.764524  1.779177  4.134689  3.689996   \n",
       "1501  3.707459  3.566669  3.589939  1.583864  1.585484  5.361286  4.933601   \n",
       "1502  3.358046  4.216962  4.330774  1.613438  1.631010  5.528102  4.998048   \n",
       "\n",
       "            14        15        16        17  \n",
       "0     4.251588  3.866546  4.496550  4.098424  \n",
       "1     4.503298  4.188958  4.534862  4.353107  \n",
       "2     3.660635  3.413715  4.598926  3.596411  \n",
       "3     5.263524  4.857067  3.855537  5.093222  \n",
       "4     4.608057  4.256878  4.149639  4.438957  \n",
       "...        ...       ...       ...       ...  \n",
       "1498  4.055221  3.715976  4.855914  3.918377  \n",
       "1499  3.948925  3.579631  5.163031  3.681749  \n",
       "1500  4.480623  4.120941  3.874058  4.451108  \n",
       "1501  3.714179  3.326915  5.084171  3.484027  \n",
       "1502  3.810022  3.513012  5.168567  3.657515  \n",
       "\n",
       "[1503 rows x 18 columns]"
      ]
     },
     "execution_count": 44,
     "metadata": {},
     "output_type": "execute_result"
    }
   ],
   "source": [
    "pd.DataFrame(X_test)"
   ]
  },
  {
   "cell_type": "markdown",
   "id": "5fa024f7",
   "metadata": {
    "execution": {
     "iopub.execute_input": "2023-02-07T23:47:19.876941Z",
     "iopub.status.busy": "2023-02-07T23:47:19.876424Z",
     "iopub.status.idle": "2023-02-07T23:47:20.399488Z",
     "shell.execute_reply": "2023-02-07T23:47:20.398142Z"
    },
    "papermill": {
     "duration": 0.012949,
     "end_time": "2023-03-20T12:15:57.514070",
     "exception": false,
     "start_time": "2023-03-20T12:15:57.501121",
     "status": "completed"
    },
    "tags": []
   },
   "source": [
    "**Decision Tree**"
   ]
  },
  {
   "cell_type": "code",
   "execution_count": 45,
   "id": "4f5400c9",
   "metadata": {
    "execution": {
     "iopub.execute_input": "2023-03-20T12:15:57.543742Z",
     "iopub.status.busy": "2023-03-20T12:15:57.542583Z",
     "iopub.status.idle": "2023-03-20T12:15:57.735077Z",
     "shell.execute_reply": "2023-03-20T12:15:57.734351Z"
    },
    "papermill": {
     "duration": 0.210801,
     "end_time": "2023-03-20T12:15:57.738204",
     "exception": false,
     "start_time": "2023-03-20T12:15:57.527403",
     "status": "completed"
    },
    "tags": []
   },
   "outputs": [
    {
     "data": {
      "text/html": [
       "<style>#sk-container-id-5 {color: black;background-color: white;}#sk-container-id-5 pre{padding: 0;}#sk-container-id-5 div.sk-toggleable {background-color: white;}#sk-container-id-5 label.sk-toggleable__label {cursor: pointer;display: block;width: 100%;margin-bottom: 0;padding: 0.3em;box-sizing: border-box;text-align: center;}#sk-container-id-5 label.sk-toggleable__label-arrow:before {content: \"▸\";float: left;margin-right: 0.25em;color: #696969;}#sk-container-id-5 label.sk-toggleable__label-arrow:hover:before {color: black;}#sk-container-id-5 div.sk-estimator:hover label.sk-toggleable__label-arrow:before {color: black;}#sk-container-id-5 div.sk-toggleable__content {max-height: 0;max-width: 0;overflow: hidden;text-align: left;background-color: #f0f8ff;}#sk-container-id-5 div.sk-toggleable__content pre {margin: 0.2em;color: black;border-radius: 0.25em;background-color: #f0f8ff;}#sk-container-id-5 input.sk-toggleable__control:checked~div.sk-toggleable__content {max-height: 200px;max-width: 100%;overflow: auto;}#sk-container-id-5 input.sk-toggleable__control:checked~label.sk-toggleable__label-arrow:before {content: \"▾\";}#sk-container-id-5 div.sk-estimator input.sk-toggleable__control:checked~label.sk-toggleable__label {background-color: #d4ebff;}#sk-container-id-5 div.sk-label input.sk-toggleable__control:checked~label.sk-toggleable__label {background-color: #d4ebff;}#sk-container-id-5 input.sk-hidden--visually {border: 0;clip: rect(1px 1px 1px 1px);clip: rect(1px, 1px, 1px, 1px);height: 1px;margin: -1px;overflow: hidden;padding: 0;position: absolute;width: 1px;}#sk-container-id-5 div.sk-estimator {font-family: monospace;background-color: #f0f8ff;border: 1px dotted black;border-radius: 0.25em;box-sizing: border-box;margin-bottom: 0.5em;}#sk-container-id-5 div.sk-estimator:hover {background-color: #d4ebff;}#sk-container-id-5 div.sk-parallel-item::after {content: \"\";width: 100%;border-bottom: 1px solid gray;flex-grow: 1;}#sk-container-id-5 div.sk-label:hover label.sk-toggleable__label {background-color: #d4ebff;}#sk-container-id-5 div.sk-serial::before {content: \"\";position: absolute;border-left: 1px solid gray;box-sizing: border-box;top: 0;bottom: 0;left: 50%;z-index: 0;}#sk-container-id-5 div.sk-serial {display: flex;flex-direction: column;align-items: center;background-color: white;padding-right: 0.2em;padding-left: 0.2em;position: relative;}#sk-container-id-5 div.sk-item {position: relative;z-index: 1;}#sk-container-id-5 div.sk-parallel {display: flex;align-items: stretch;justify-content: center;background-color: white;position: relative;}#sk-container-id-5 div.sk-item::before, #sk-container-id-5 div.sk-parallel-item::before {content: \"\";position: absolute;border-left: 1px solid gray;box-sizing: border-box;top: 0;bottom: 0;left: 50%;z-index: -1;}#sk-container-id-5 div.sk-parallel-item {display: flex;flex-direction: column;z-index: 1;position: relative;background-color: white;}#sk-container-id-5 div.sk-parallel-item:first-child::after {align-self: flex-end;width: 50%;}#sk-container-id-5 div.sk-parallel-item:last-child::after {align-self: flex-start;width: 50%;}#sk-container-id-5 div.sk-parallel-item:only-child::after {width: 0;}#sk-container-id-5 div.sk-dashed-wrapped {border: 1px dashed gray;margin: 0 0.4em 0.5em 0.4em;box-sizing: border-box;padding-bottom: 0.4em;background-color: white;}#sk-container-id-5 div.sk-label label {font-family: monospace;font-weight: bold;display: inline-block;line-height: 1.2em;}#sk-container-id-5 div.sk-label-container {text-align: center;}#sk-container-id-5 div.sk-container {/* jupyter's `normalize.less` sets `[hidden] { display: none; }` but bootstrap.min.css set `[hidden] { display: none !important; }` so we also need the `!important` here to be able to override the default hidden behavior on the sphinx rendered scikit-learn.org. See: https://github.com/scikit-learn/scikit-learn/issues/21755 */display: inline-block !important;position: relative;}#sk-container-id-5 div.sk-text-repr-fallback {display: none;}</style><div id=\"sk-container-id-5\" class=\"sk-top-container\"><div class=\"sk-text-repr-fallback\"><pre>DecisionTreeClassifier(random_state=42)</pre><b>In a Jupyter environment, please rerun this cell to show the HTML representation or trust the notebook. <br />On GitHub, the HTML representation is unable to render, please try loading this page with nbviewer.org.</b></div><div class=\"sk-container\" hidden><div class=\"sk-item\"><div class=\"sk-estimator sk-toggleable\"><input class=\"sk-toggleable__control sk-hidden--visually\" id=\"sk-estimator-id-5\" type=\"checkbox\" checked><label for=\"sk-estimator-id-5\" class=\"sk-toggleable__label sk-toggleable__label-arrow\">DecisionTreeClassifier</label><div class=\"sk-toggleable__content\"><pre>DecisionTreeClassifier(random_state=42)</pre></div></div></div></div></div>"
      ],
      "text/plain": [
       "DecisionTreeClassifier(random_state=42)"
      ]
     },
     "execution_count": 45,
     "metadata": {},
     "output_type": "execute_result"
    }
   ],
   "source": [
    "clf = DecisionTreeClassifier(random_state=42)\n",
    "clf.fit(X_train, y_train)"
   ]
  },
  {
   "cell_type": "code",
   "execution_count": 46,
   "id": "3b56d190",
   "metadata": {
    "execution": {
     "iopub.execute_input": "2023-03-20T12:15:57.816993Z",
     "iopub.status.busy": "2023-03-20T12:15:57.816651Z",
     "iopub.status.idle": "2023-03-20T12:15:57.856480Z",
     "shell.execute_reply": "2023-03-20T12:15:57.855147Z"
    },
    "papermill": {
     "duration": 0.083171,
     "end_time": "2023-03-20T12:15:57.859511",
     "exception": false,
     "start_time": "2023-03-20T12:15:57.776340",
     "status": "completed"
    },
    "tags": []
   },
   "outputs": [
    {
     "name": "stdout",
     "output_type": "stream",
     "text": [
      "                                           precision    recall  f1-score   support\n",
      "\n",
      "                    action_thriller_crime       0.28      0.28      0.28       318\n",
      "                                   comedy       0.39      0.41      0.40       423\n",
      "                                    drama       0.37      0.36      0.36       499\n",
      "horror_scifi_mystery_supernatural_fantasy       0.24      0.23      0.23       263\n",
      "\n",
      "                                 accuracy                           0.33      1503\n",
      "                                macro avg       0.32      0.32      0.32      1503\n",
      "                             weighted avg       0.33      0.33      0.33      1503\n",
      "\n"
     ]
    }
   ],
   "source": [
    "y_pred = clf.predict(X_test)\n",
    "print(classification_report(y_test, y_pred))"
   ]
  },
  {
   "cell_type": "code",
   "execution_count": 47,
   "id": "42bc91ff",
   "metadata": {
    "execution": {
     "iopub.execute_input": "2023-03-20T12:15:57.916243Z",
     "iopub.status.busy": "2023-03-20T12:15:57.915965Z",
     "iopub.status.idle": "2023-03-20T12:15:57.921333Z",
     "shell.execute_reply": "2023-03-20T12:15:57.920479Z"
    },
    "papermill": {
     "duration": 0.034981,
     "end_time": "2023-03-20T12:15:57.923085",
     "exception": false,
     "start_time": "2023-03-20T12:15:57.888104",
     "status": "completed"
    },
    "tags": []
   },
   "outputs": [],
   "source": [
    "pickle.dump(clf, open(f'{data_path}/decision_tree.pkl', 'wb'))"
   ]
  },
  {
   "cell_type": "code",
   "execution_count": 48,
   "id": "ea9be210",
   "metadata": {
    "execution": {
     "iopub.execute_input": "2023-03-20T12:15:57.955683Z",
     "iopub.status.busy": "2023-03-20T12:15:57.955385Z",
     "iopub.status.idle": "2023-03-20T12:15:57.992650Z",
     "shell.execute_reply": "2023-03-20T12:15:57.991315Z"
    },
    "papermill": {
     "duration": 0.057038,
     "end_time": "2023-03-20T12:15:57.995767",
     "exception": false,
     "start_time": "2023-03-20T12:15:57.938729",
     "status": "completed"
    },
    "tags": []
   },
   "outputs": [],
   "source": [
    "acc = accuracy_score(y_test, y_pred)\n",
    "pre = precision_score(y_test, y_pred, average=avg_par)\n",
    "rec = recall_score(y_test, y_pred, average=avg_par)\n",
    "f1 = f1_score(y_test, y_pred, average=avg_par)\n",
    "\n",
    "metrics_data['Shapelets']['DecisionTree'] = {'Accuracy': acc, 'Precision': pre, 'Recall': rec, 'F1': f1}"
   ]
  },
  {
   "cell_type": "markdown",
   "id": "3ca3443b",
   "metadata": {
    "papermill": {
     "duration": 0.026718,
     "end_time": "2023-03-20T12:15:58.051097",
     "exception": false,
     "start_time": "2023-03-20T12:15:58.024379",
     "status": "completed"
    },
    "tags": []
   },
   "source": [
    "**Random Forest**"
   ]
  },
  {
   "cell_type": "code",
   "execution_count": 49,
   "id": "37795e21",
   "metadata": {
    "execution": {
     "iopub.execute_input": "2023-03-20T12:15:58.079132Z",
     "iopub.status.busy": "2023-03-20T12:15:58.078850Z",
     "iopub.status.idle": "2023-03-20T12:16:00.339036Z",
     "shell.execute_reply": "2023-03-20T12:16:00.338231Z"
    },
    "papermill": {
     "duration": 2.276528,
     "end_time": "2023-03-20T12:16:00.340920",
     "exception": false,
     "start_time": "2023-03-20T12:15:58.064392",
     "status": "completed"
    },
    "tags": []
   },
   "outputs": [
    {
     "data": {
      "text/html": [
       "<style>#sk-container-id-6 {color: black;background-color: white;}#sk-container-id-6 pre{padding: 0;}#sk-container-id-6 div.sk-toggleable {background-color: white;}#sk-container-id-6 label.sk-toggleable__label {cursor: pointer;display: block;width: 100%;margin-bottom: 0;padding: 0.3em;box-sizing: border-box;text-align: center;}#sk-container-id-6 label.sk-toggleable__label-arrow:before {content: \"▸\";float: left;margin-right: 0.25em;color: #696969;}#sk-container-id-6 label.sk-toggleable__label-arrow:hover:before {color: black;}#sk-container-id-6 div.sk-estimator:hover label.sk-toggleable__label-arrow:before {color: black;}#sk-container-id-6 div.sk-toggleable__content {max-height: 0;max-width: 0;overflow: hidden;text-align: left;background-color: #f0f8ff;}#sk-container-id-6 div.sk-toggleable__content pre {margin: 0.2em;color: black;border-radius: 0.25em;background-color: #f0f8ff;}#sk-container-id-6 input.sk-toggleable__control:checked~div.sk-toggleable__content {max-height: 200px;max-width: 100%;overflow: auto;}#sk-container-id-6 input.sk-toggleable__control:checked~label.sk-toggleable__label-arrow:before {content: \"▾\";}#sk-container-id-6 div.sk-estimator input.sk-toggleable__control:checked~label.sk-toggleable__label {background-color: #d4ebff;}#sk-container-id-6 div.sk-label input.sk-toggleable__control:checked~label.sk-toggleable__label {background-color: #d4ebff;}#sk-container-id-6 input.sk-hidden--visually {border: 0;clip: rect(1px 1px 1px 1px);clip: rect(1px, 1px, 1px, 1px);height: 1px;margin: -1px;overflow: hidden;padding: 0;position: absolute;width: 1px;}#sk-container-id-6 div.sk-estimator {font-family: monospace;background-color: #f0f8ff;border: 1px dotted black;border-radius: 0.25em;box-sizing: border-box;margin-bottom: 0.5em;}#sk-container-id-6 div.sk-estimator:hover {background-color: #d4ebff;}#sk-container-id-6 div.sk-parallel-item::after {content: \"\";width: 100%;border-bottom: 1px solid gray;flex-grow: 1;}#sk-container-id-6 div.sk-label:hover label.sk-toggleable__label {background-color: #d4ebff;}#sk-container-id-6 div.sk-serial::before {content: \"\";position: absolute;border-left: 1px solid gray;box-sizing: border-box;top: 0;bottom: 0;left: 50%;z-index: 0;}#sk-container-id-6 div.sk-serial {display: flex;flex-direction: column;align-items: center;background-color: white;padding-right: 0.2em;padding-left: 0.2em;position: relative;}#sk-container-id-6 div.sk-item {position: relative;z-index: 1;}#sk-container-id-6 div.sk-parallel {display: flex;align-items: stretch;justify-content: center;background-color: white;position: relative;}#sk-container-id-6 div.sk-item::before, #sk-container-id-6 div.sk-parallel-item::before {content: \"\";position: absolute;border-left: 1px solid gray;box-sizing: border-box;top: 0;bottom: 0;left: 50%;z-index: -1;}#sk-container-id-6 div.sk-parallel-item {display: flex;flex-direction: column;z-index: 1;position: relative;background-color: white;}#sk-container-id-6 div.sk-parallel-item:first-child::after {align-self: flex-end;width: 50%;}#sk-container-id-6 div.sk-parallel-item:last-child::after {align-self: flex-start;width: 50%;}#sk-container-id-6 div.sk-parallel-item:only-child::after {width: 0;}#sk-container-id-6 div.sk-dashed-wrapped {border: 1px dashed gray;margin: 0 0.4em 0.5em 0.4em;box-sizing: border-box;padding-bottom: 0.4em;background-color: white;}#sk-container-id-6 div.sk-label label {font-family: monospace;font-weight: bold;display: inline-block;line-height: 1.2em;}#sk-container-id-6 div.sk-label-container {text-align: center;}#sk-container-id-6 div.sk-container {/* jupyter's `normalize.less` sets `[hidden] { display: none; }` but bootstrap.min.css set `[hidden] { display: none !important; }` so we also need the `!important` here to be able to override the default hidden behavior on the sphinx rendered scikit-learn.org. See: https://github.com/scikit-learn/scikit-learn/issues/21755 */display: inline-block !important;position: relative;}#sk-container-id-6 div.sk-text-repr-fallback {display: none;}</style><div id=\"sk-container-id-6\" class=\"sk-top-container\"><div class=\"sk-text-repr-fallback\"><pre>RandomForestClassifier(random_state=42)</pre><b>In a Jupyter environment, please rerun this cell to show the HTML representation or trust the notebook. <br />On GitHub, the HTML representation is unable to render, please try loading this page with nbviewer.org.</b></div><div class=\"sk-container\" hidden><div class=\"sk-item\"><div class=\"sk-estimator sk-toggleable\"><input class=\"sk-toggleable__control sk-hidden--visually\" id=\"sk-estimator-id-6\" type=\"checkbox\" checked><label for=\"sk-estimator-id-6\" class=\"sk-toggleable__label sk-toggleable__label-arrow\">RandomForestClassifier</label><div class=\"sk-toggleable__content\"><pre>RandomForestClassifier(random_state=42)</pre></div></div></div></div></div>"
      ],
      "text/plain": [
       "RandomForestClassifier(random_state=42)"
      ]
     },
     "execution_count": 49,
     "metadata": {},
     "output_type": "execute_result"
    }
   ],
   "source": [
    "clf = RandomForestClassifier(random_state=42)\n",
    "clf.fit(X_train, y_train)"
   ]
  },
  {
   "cell_type": "code",
   "execution_count": 50,
   "id": "581ab90a",
   "metadata": {
    "execution": {
     "iopub.execute_input": "2023-03-20T12:16:00.373407Z",
     "iopub.status.busy": "2023-03-20T12:16:00.373145Z",
     "iopub.status.idle": "2023-03-20T12:16:00.448173Z",
     "shell.execute_reply": "2023-03-20T12:16:00.446991Z"
    },
    "papermill": {
     "duration": 0.09469,
     "end_time": "2023-03-20T12:16:00.450018",
     "exception": false,
     "start_time": "2023-03-20T12:16:00.355328",
     "status": "completed"
    },
    "tags": []
   },
   "outputs": [
    {
     "name": "stdout",
     "output_type": "stream",
     "text": [
      "                                           precision    recall  f1-score   support\n",
      "\n",
      "                    action_thriller_crime       0.37      0.39      0.38       318\n",
      "                                   comedy       0.46      0.43      0.45       423\n",
      "                                    drama       0.37      0.43      0.40       499\n",
      "horror_scifi_mystery_supernatural_fantasy       0.36      0.27      0.31       263\n",
      "\n",
      "                                 accuracy                           0.39      1503\n",
      "                                macro avg       0.39      0.38      0.38      1503\n",
      "                             weighted avg       0.40      0.39      0.39      1503\n",
      "\n"
     ]
    }
   ],
   "source": [
    "y_pred = clf.predict(X_test)\n",
    "print(classification_report(y_test, y_pred))"
   ]
  },
  {
   "cell_type": "code",
   "execution_count": 51,
   "id": "faf1d7f4",
   "metadata": {
    "execution": {
     "iopub.execute_input": "2023-03-20T12:16:00.497375Z",
     "iopub.status.busy": "2023-03-20T12:16:00.496880Z",
     "iopub.status.idle": "2023-03-20T12:16:00.561873Z",
     "shell.execute_reply": "2023-03-20T12:16:00.560563Z"
    },
    "papermill": {
     "duration": 0.100827,
     "end_time": "2023-03-20T12:16:00.565506",
     "exception": false,
     "start_time": "2023-03-20T12:16:00.464679",
     "status": "completed"
    },
    "tags": []
   },
   "outputs": [],
   "source": [
    "acc = accuracy_score(y_test, y_pred)\n",
    "pre = precision_score(y_test, y_pred, average=avg_par)\n",
    "rec = recall_score(y_test, y_pred, average=avg_par)\n",
    "f1 = f1_score(y_test, y_pred, average=avg_par)\n",
    "\n",
    "metrics_data['Shapelets']['RandomForest'] = {'Accuracy': acc, 'Precision': pre, 'Recall': rec, 'F1': f1}"
   ]
  },
  {
   "cell_type": "markdown",
   "id": "61fceefb",
   "metadata": {
    "papermill": {
     "duration": 0.035218,
     "end_time": "2023-03-20T12:16:00.629927",
     "exception": false,
     "start_time": "2023-03-20T12:16:00.594709",
     "status": "completed"
    },
    "tags": []
   },
   "source": [
    "**LightGBM**"
   ]
  },
  {
   "cell_type": "code",
   "execution_count": 52,
   "id": "194189da",
   "metadata": {
    "execution": {
     "iopub.execute_input": "2023-03-20T12:16:00.663178Z",
     "iopub.status.busy": "2023-03-20T12:16:00.662901Z",
     "iopub.status.idle": "2023-03-20T12:16:01.135275Z",
     "shell.execute_reply": "2023-03-20T12:16:01.134188Z"
    },
    "papermill": {
     "duration": 0.489362,
     "end_time": "2023-03-20T12:16:01.137499",
     "exception": false,
     "start_time": "2023-03-20T12:16:00.648137",
     "status": "completed"
    },
    "tags": []
   },
   "outputs": [
    {
     "data": {
      "text/html": [
       "<style>#sk-container-id-7 {color: black;background-color: white;}#sk-container-id-7 pre{padding: 0;}#sk-container-id-7 div.sk-toggleable {background-color: white;}#sk-container-id-7 label.sk-toggleable__label {cursor: pointer;display: block;width: 100%;margin-bottom: 0;padding: 0.3em;box-sizing: border-box;text-align: center;}#sk-container-id-7 label.sk-toggleable__label-arrow:before {content: \"▸\";float: left;margin-right: 0.25em;color: #696969;}#sk-container-id-7 label.sk-toggleable__label-arrow:hover:before {color: black;}#sk-container-id-7 div.sk-estimator:hover label.sk-toggleable__label-arrow:before {color: black;}#sk-container-id-7 div.sk-toggleable__content {max-height: 0;max-width: 0;overflow: hidden;text-align: left;background-color: #f0f8ff;}#sk-container-id-7 div.sk-toggleable__content pre {margin: 0.2em;color: black;border-radius: 0.25em;background-color: #f0f8ff;}#sk-container-id-7 input.sk-toggleable__control:checked~div.sk-toggleable__content {max-height: 200px;max-width: 100%;overflow: auto;}#sk-container-id-7 input.sk-toggleable__control:checked~label.sk-toggleable__label-arrow:before {content: \"▾\";}#sk-container-id-7 div.sk-estimator input.sk-toggleable__control:checked~label.sk-toggleable__label {background-color: #d4ebff;}#sk-container-id-7 div.sk-label input.sk-toggleable__control:checked~label.sk-toggleable__label {background-color: #d4ebff;}#sk-container-id-7 input.sk-hidden--visually {border: 0;clip: rect(1px 1px 1px 1px);clip: rect(1px, 1px, 1px, 1px);height: 1px;margin: -1px;overflow: hidden;padding: 0;position: absolute;width: 1px;}#sk-container-id-7 div.sk-estimator {font-family: monospace;background-color: #f0f8ff;border: 1px dotted black;border-radius: 0.25em;box-sizing: border-box;margin-bottom: 0.5em;}#sk-container-id-7 div.sk-estimator:hover {background-color: #d4ebff;}#sk-container-id-7 div.sk-parallel-item::after {content: \"\";width: 100%;border-bottom: 1px solid gray;flex-grow: 1;}#sk-container-id-7 div.sk-label:hover label.sk-toggleable__label {background-color: #d4ebff;}#sk-container-id-7 div.sk-serial::before {content: \"\";position: absolute;border-left: 1px solid gray;box-sizing: border-box;top: 0;bottom: 0;left: 50%;z-index: 0;}#sk-container-id-7 div.sk-serial {display: flex;flex-direction: column;align-items: center;background-color: white;padding-right: 0.2em;padding-left: 0.2em;position: relative;}#sk-container-id-7 div.sk-item {position: relative;z-index: 1;}#sk-container-id-7 div.sk-parallel {display: flex;align-items: stretch;justify-content: center;background-color: white;position: relative;}#sk-container-id-7 div.sk-item::before, #sk-container-id-7 div.sk-parallel-item::before {content: \"\";position: absolute;border-left: 1px solid gray;box-sizing: border-box;top: 0;bottom: 0;left: 50%;z-index: -1;}#sk-container-id-7 div.sk-parallel-item {display: flex;flex-direction: column;z-index: 1;position: relative;background-color: white;}#sk-container-id-7 div.sk-parallel-item:first-child::after {align-self: flex-end;width: 50%;}#sk-container-id-7 div.sk-parallel-item:last-child::after {align-self: flex-start;width: 50%;}#sk-container-id-7 div.sk-parallel-item:only-child::after {width: 0;}#sk-container-id-7 div.sk-dashed-wrapped {border: 1px dashed gray;margin: 0 0.4em 0.5em 0.4em;box-sizing: border-box;padding-bottom: 0.4em;background-color: white;}#sk-container-id-7 div.sk-label label {font-family: monospace;font-weight: bold;display: inline-block;line-height: 1.2em;}#sk-container-id-7 div.sk-label-container {text-align: center;}#sk-container-id-7 div.sk-container {/* jupyter's `normalize.less` sets `[hidden] { display: none; }` but bootstrap.min.css set `[hidden] { display: none !important; }` so we also need the `!important` here to be able to override the default hidden behavior on the sphinx rendered scikit-learn.org. See: https://github.com/scikit-learn/scikit-learn/issues/21755 */display: inline-block !important;position: relative;}#sk-container-id-7 div.sk-text-repr-fallback {display: none;}</style><div id=\"sk-container-id-7\" class=\"sk-top-container\"><div class=\"sk-text-repr-fallback\"><pre>LGBMClassifier(objective=&#x27;multiclass&#x27;)</pre><b>In a Jupyter environment, please rerun this cell to show the HTML representation or trust the notebook. <br />On GitHub, the HTML representation is unable to render, please try loading this page with nbviewer.org.</b></div><div class=\"sk-container\" hidden><div class=\"sk-item\"><div class=\"sk-estimator sk-toggleable\"><input class=\"sk-toggleable__control sk-hidden--visually\" id=\"sk-estimator-id-7\" type=\"checkbox\" checked><label for=\"sk-estimator-id-7\" class=\"sk-toggleable__label sk-toggleable__label-arrow\">LGBMClassifier</label><div class=\"sk-toggleable__content\"><pre>LGBMClassifier(objective=&#x27;multiclass&#x27;)</pre></div></div></div></div></div>"
      ],
      "text/plain": [
       "LGBMClassifier(objective='multiclass')"
      ]
     },
     "execution_count": 52,
     "metadata": {},
     "output_type": "execute_result"
    }
   ],
   "source": [
    "clf = lgbm.LGBMClassifier(objective=obj_par) \n",
    "clf.fit(X_train, y_train)"
   ]
  },
  {
   "cell_type": "code",
   "execution_count": 53,
   "id": "355a078b",
   "metadata": {
    "execution": {
     "iopub.execute_input": "2023-03-20T12:16:01.173281Z",
     "iopub.status.busy": "2023-03-20T12:16:01.172992Z",
     "iopub.status.idle": "2023-03-20T12:16:01.227061Z",
     "shell.execute_reply": "2023-03-20T12:16:01.225744Z"
    },
    "papermill": {
     "duration": 0.075212,
     "end_time": "2023-03-20T12:16:01.229993",
     "exception": false,
     "start_time": "2023-03-20T12:16:01.154781",
     "status": "completed"
    },
    "tags": []
   },
   "outputs": [
    {
     "name": "stdout",
     "output_type": "stream",
     "text": [
      "                                           precision    recall  f1-score   support\n",
      "\n",
      "                    action_thriller_crime       0.38      0.39      0.38       318\n",
      "                                   comedy       0.42      0.39      0.41       423\n",
      "                                    drama       0.37      0.43      0.40       499\n",
      "horror_scifi_mystery_supernatural_fantasy       0.37      0.29      0.32       263\n",
      "\n",
      "                                 accuracy                           0.39      1503\n",
      "                                macro avg       0.39      0.38      0.38      1503\n",
      "                             weighted avg       0.39      0.39      0.39      1503\n",
      "\n"
     ]
    }
   ],
   "source": [
    "y_pred = clf.predict(X_test)\n",
    "print(classification_report(y_test, y_pred))"
   ]
  },
  {
   "cell_type": "code",
   "execution_count": 54,
   "id": "f22b911e",
   "metadata": {
    "execution": {
     "iopub.execute_input": "2023-03-20T12:16:01.313177Z",
     "iopub.status.busy": "2023-03-20T12:16:01.312916Z",
     "iopub.status.idle": "2023-03-20T12:16:01.348566Z",
     "shell.execute_reply": "2023-03-20T12:16:01.347646Z"
    },
    "papermill": {
     "duration": 0.054479,
     "end_time": "2023-03-20T12:16:01.350569",
     "exception": false,
     "start_time": "2023-03-20T12:16:01.296090",
     "status": "completed"
    },
    "tags": []
   },
   "outputs": [],
   "source": [
    "acc = accuracy_score(y_test, y_pred)\n",
    "pre = precision_score(y_test, y_pred, average=avg_par)\n",
    "rec = recall_score(y_test, y_pred, average=avg_par)\n",
    "f1 = f1_score(y_test, y_pred, average=avg_par)\n",
    "\n",
    "metrics_data['Shapelets']['LightGBM'] = {'Accuracy': acc, 'Precision': pre, 'Recall': rec, 'F1': f1}"
   ]
  },
  {
   "cell_type": "markdown",
   "id": "0809af9f",
   "metadata": {
    "papermill": {
     "duration": 0.01398,
     "end_time": "2023-03-20T12:16:01.381552",
     "exception": false,
     "start_time": "2023-03-20T12:16:01.367572",
     "status": "completed"
    },
    "tags": []
   },
   "source": [
    "#### KNN"
   ]
  },
  {
   "cell_type": "code",
   "execution_count": 55,
   "id": "1c9237e0",
   "metadata": {
    "execution": {
     "iopub.execute_input": "2023-03-20T12:16:01.412323Z",
     "iopub.status.busy": "2023-03-20T12:16:01.411409Z",
     "iopub.status.idle": "2023-03-20T12:16:01.417640Z",
     "shell.execute_reply": "2023-03-20T12:16:01.416530Z"
    },
    "papermill": {
     "duration": 0.023756,
     "end_time": "2023-03-20T12:16:01.419332",
     "exception": false,
     "start_time": "2023-03-20T12:16:01.395576",
     "status": "completed"
    },
    "tags": []
   },
   "outputs": [],
   "source": [
    "X_train = ts_train.reshape((ts_train.shape[0], ts_train.shape[1]))\n",
    "X_test = ts_test.reshape((ts_test.shape[0], ts_test.shape[1]))"
   ]
  },
  {
   "cell_type": "code",
   "execution_count": 56,
   "id": "192f3c3f",
   "metadata": {
    "execution": {
     "iopub.execute_input": "2023-03-20T12:16:01.450348Z",
     "iopub.status.busy": "2023-03-20T12:16:01.449513Z",
     "iopub.status.idle": "2023-03-20T12:16:01.456599Z",
     "shell.execute_reply": "2023-03-20T12:16:01.455555Z"
    },
    "papermill": {
     "duration": 0.024773,
     "end_time": "2023-03-20T12:16:01.458319",
     "exception": false,
     "start_time": "2023-03-20T12:16:01.433546",
     "status": "completed"
    },
    "tags": []
   },
   "outputs": [
    {
     "data": {
      "text/plain": [
       "(6009, 100)"
      ]
     },
     "execution_count": 56,
     "metadata": {},
     "output_type": "execute_result"
    }
   ],
   "source": [
    "X_train.shape"
   ]
  },
  {
   "cell_type": "code",
   "execution_count": 57,
   "id": "de0e5000",
   "metadata": {
    "execution": {
     "iopub.execute_input": "2023-03-20T12:16:01.490540Z",
     "iopub.status.busy": "2023-03-20T12:16:01.489724Z",
     "iopub.status.idle": "2023-03-20T12:16:01.494790Z",
     "shell.execute_reply": "2023-03-20T12:16:01.493740Z"
    },
    "papermill": {
     "duration": 0.022803,
     "end_time": "2023-03-20T12:16:01.496490",
     "exception": false,
     "start_time": "2023-03-20T12:16:01.473687",
     "status": "completed"
    },
    "tags": []
   },
   "outputs": [],
   "source": [
    "metrics_data['KNN'] = {}"
   ]
  },
  {
   "cell_type": "markdown",
   "id": "8ee39c05",
   "metadata": {
    "papermill": {
     "duration": 0.014682,
     "end_time": "2023-03-20T12:16:01.525546",
     "exception": false,
     "start_time": "2023-03-20T12:16:01.510864",
     "status": "completed"
    },
    "tags": []
   },
   "source": [
    "**Euclidean Distance**"
   ]
  },
  {
   "cell_type": "code",
   "execution_count": 58,
   "id": "55db1f58",
   "metadata": {
    "execution": {
     "iopub.execute_input": "2023-03-20T12:16:01.558000Z",
     "iopub.status.busy": "2023-03-20T12:16:01.557353Z",
     "iopub.status.idle": "2023-03-20T12:16:01.562319Z",
     "shell.execute_reply": "2023-03-20T12:16:01.561282Z"
    },
    "papermill": {
     "duration": 0.023125,
     "end_time": "2023-03-20T12:16:01.563964",
     "exception": false,
     "start_time": "2023-03-20T12:16:01.540839",
     "status": "completed"
    },
    "tags": []
   },
   "outputs": [],
   "source": [
    "from sklearn.neighbors import KNeighborsClassifier"
   ]
  },
  {
   "cell_type": "code",
   "execution_count": 59,
   "id": "132c2537",
   "metadata": {
    "execution": {
     "iopub.execute_input": "2023-03-20T12:16:01.594901Z",
     "iopub.status.busy": "2023-03-20T12:16:01.594259Z",
     "iopub.status.idle": "2023-03-20T12:16:01.615005Z",
     "shell.execute_reply": "2023-03-20T12:16:01.613830Z"
    },
    "papermill": {
     "duration": 0.038806,
     "end_time": "2023-03-20T12:16:01.617123",
     "exception": false,
     "start_time": "2023-03-20T12:16:01.578317",
     "status": "completed"
    },
    "tags": []
   },
   "outputs": [
    {
     "data": {
      "text/html": [
       "<style>#sk-container-id-8 {color: black;background-color: white;}#sk-container-id-8 pre{padding: 0;}#sk-container-id-8 div.sk-toggleable {background-color: white;}#sk-container-id-8 label.sk-toggleable__label {cursor: pointer;display: block;width: 100%;margin-bottom: 0;padding: 0.3em;box-sizing: border-box;text-align: center;}#sk-container-id-8 label.sk-toggleable__label-arrow:before {content: \"▸\";float: left;margin-right: 0.25em;color: #696969;}#sk-container-id-8 label.sk-toggleable__label-arrow:hover:before {color: black;}#sk-container-id-8 div.sk-estimator:hover label.sk-toggleable__label-arrow:before {color: black;}#sk-container-id-8 div.sk-toggleable__content {max-height: 0;max-width: 0;overflow: hidden;text-align: left;background-color: #f0f8ff;}#sk-container-id-8 div.sk-toggleable__content pre {margin: 0.2em;color: black;border-radius: 0.25em;background-color: #f0f8ff;}#sk-container-id-8 input.sk-toggleable__control:checked~div.sk-toggleable__content {max-height: 200px;max-width: 100%;overflow: auto;}#sk-container-id-8 input.sk-toggleable__control:checked~label.sk-toggleable__label-arrow:before {content: \"▾\";}#sk-container-id-8 div.sk-estimator input.sk-toggleable__control:checked~label.sk-toggleable__label {background-color: #d4ebff;}#sk-container-id-8 div.sk-label input.sk-toggleable__control:checked~label.sk-toggleable__label {background-color: #d4ebff;}#sk-container-id-8 input.sk-hidden--visually {border: 0;clip: rect(1px 1px 1px 1px);clip: rect(1px, 1px, 1px, 1px);height: 1px;margin: -1px;overflow: hidden;padding: 0;position: absolute;width: 1px;}#sk-container-id-8 div.sk-estimator {font-family: monospace;background-color: #f0f8ff;border: 1px dotted black;border-radius: 0.25em;box-sizing: border-box;margin-bottom: 0.5em;}#sk-container-id-8 div.sk-estimator:hover {background-color: #d4ebff;}#sk-container-id-8 div.sk-parallel-item::after {content: \"\";width: 100%;border-bottom: 1px solid gray;flex-grow: 1;}#sk-container-id-8 div.sk-label:hover label.sk-toggleable__label {background-color: #d4ebff;}#sk-container-id-8 div.sk-serial::before {content: \"\";position: absolute;border-left: 1px solid gray;box-sizing: border-box;top: 0;bottom: 0;left: 50%;z-index: 0;}#sk-container-id-8 div.sk-serial {display: flex;flex-direction: column;align-items: center;background-color: white;padding-right: 0.2em;padding-left: 0.2em;position: relative;}#sk-container-id-8 div.sk-item {position: relative;z-index: 1;}#sk-container-id-8 div.sk-parallel {display: flex;align-items: stretch;justify-content: center;background-color: white;position: relative;}#sk-container-id-8 div.sk-item::before, #sk-container-id-8 div.sk-parallel-item::before {content: \"\";position: absolute;border-left: 1px solid gray;box-sizing: border-box;top: 0;bottom: 0;left: 50%;z-index: -1;}#sk-container-id-8 div.sk-parallel-item {display: flex;flex-direction: column;z-index: 1;position: relative;background-color: white;}#sk-container-id-8 div.sk-parallel-item:first-child::after {align-self: flex-end;width: 50%;}#sk-container-id-8 div.sk-parallel-item:last-child::after {align-self: flex-start;width: 50%;}#sk-container-id-8 div.sk-parallel-item:only-child::after {width: 0;}#sk-container-id-8 div.sk-dashed-wrapped {border: 1px dashed gray;margin: 0 0.4em 0.5em 0.4em;box-sizing: border-box;padding-bottom: 0.4em;background-color: white;}#sk-container-id-8 div.sk-label label {font-family: monospace;font-weight: bold;display: inline-block;line-height: 1.2em;}#sk-container-id-8 div.sk-label-container {text-align: center;}#sk-container-id-8 div.sk-container {/* jupyter's `normalize.less` sets `[hidden] { display: none; }` but bootstrap.min.css set `[hidden] { display: none !important; }` so we also need the `!important` here to be able to override the default hidden behavior on the sphinx rendered scikit-learn.org. See: https://github.com/scikit-learn/scikit-learn/issues/21755 */display: inline-block !important;position: relative;}#sk-container-id-8 div.sk-text-repr-fallback {display: none;}</style><div id=\"sk-container-id-8\" class=\"sk-top-container\"><div class=\"sk-text-repr-fallback\"><pre>KNeighborsClassifier()</pre><b>In a Jupyter environment, please rerun this cell to show the HTML representation or trust the notebook. <br />On GitHub, the HTML representation is unable to render, please try loading this page with nbviewer.org.</b></div><div class=\"sk-container\" hidden><div class=\"sk-item\"><div class=\"sk-estimator sk-toggleable\"><input class=\"sk-toggleable__control sk-hidden--visually\" id=\"sk-estimator-id-8\" type=\"checkbox\" checked><label for=\"sk-estimator-id-8\" class=\"sk-toggleable__label sk-toggleable__label-arrow\">KNeighborsClassifier</label><div class=\"sk-toggleable__content\"><pre>KNeighborsClassifier()</pre></div></div></div></div></div>"
      ],
      "text/plain": [
       "KNeighborsClassifier()"
      ]
     },
     "execution_count": 59,
     "metadata": {},
     "output_type": "execute_result"
    }
   ],
   "source": [
    "clf = KNeighborsClassifier(n_neighbors=5, weights='uniform')\n",
    "clf.fit(X_train, y_train)"
   ]
  },
  {
   "cell_type": "code",
   "execution_count": 60,
   "id": "0afad62a",
   "metadata": {
    "execution": {
     "iopub.execute_input": "2023-03-20T12:16:01.650351Z",
     "iopub.status.busy": "2023-03-20T12:16:01.649520Z",
     "iopub.status.idle": "2023-03-20T12:16:02.034880Z",
     "shell.execute_reply": "2023-03-20T12:16:02.033802Z"
    },
    "papermill": {
     "duration": 0.403407,
     "end_time": "2023-03-20T12:16:02.036893",
     "exception": false,
     "start_time": "2023-03-20T12:16:01.633486",
     "status": "completed"
    },
    "tags": []
   },
   "outputs": [
    {
     "name": "stdout",
     "output_type": "stream",
     "text": [
      "                                           precision    recall  f1-score   support\n",
      "\n",
      "                    action_thriller_crime       0.33      0.29      0.31       318\n",
      "                                   comedy       0.38      0.51      0.44       423\n",
      "                                    drama       0.34      0.37      0.35       499\n",
      "horror_scifi_mystery_supernatural_fantasy       0.28      0.12      0.17       263\n",
      "\n",
      "                                 accuracy                           0.35      1503\n",
      "                                macro avg       0.33      0.32      0.32      1503\n",
      "                             weighted avg       0.34      0.35      0.34      1503\n",
      "\n"
     ]
    }
   ],
   "source": [
    "y_pred = clf.predict(X_test)\n",
    "print(classification_report(y_test, y_pred))"
   ]
  },
  {
   "cell_type": "code",
   "execution_count": 61,
   "id": "2d709070",
   "metadata": {
    "execution": {
     "iopub.execute_input": "2023-03-20T12:16:02.102561Z",
     "iopub.status.busy": "2023-03-20T12:16:02.102112Z",
     "iopub.status.idle": "2023-03-20T12:16:02.151276Z",
     "shell.execute_reply": "2023-03-20T12:16:02.150497Z"
    },
    "papermill": {
     "duration": 0.084225,
     "end_time": "2023-03-20T12:16:02.154066",
     "exception": false,
     "start_time": "2023-03-20T12:16:02.069841",
     "status": "completed"
    },
    "tags": []
   },
   "outputs": [],
   "source": [
    "acc = accuracy_score(y_test, y_pred)\n",
    "pre = precision_score(y_test, y_pred, average=avg_par)\n",
    "rec = recall_score(y_test, y_pred, average=avg_par)\n",
    "f1 = f1_score(y_test, y_pred, average=avg_par)\n",
    "\n",
    "metrics_data['KNN']['Euclidean'] = {'Accuracy': acc, 'Precision': pre, 'Recall': rec, 'F1': f1}"
   ]
  },
  {
   "cell_type": "markdown",
   "id": "c5ec2a09",
   "metadata": {
    "papermill": {
     "duration": 0.031997,
     "end_time": "2023-03-20T12:16:02.222870",
     "exception": false,
     "start_time": "2023-03-20T12:16:02.190873",
     "status": "completed"
    },
    "tags": []
   },
   "source": [
    "**Dynamic Time Warping**"
   ]
  },
  {
   "cell_type": "code",
   "execution_count": 62,
   "id": "2df913d8",
   "metadata": {
    "execution": {
     "iopub.execute_input": "2023-03-20T12:16:02.253332Z",
     "iopub.status.busy": "2023-03-20T12:16:02.252869Z",
     "iopub.status.idle": "2023-03-20T12:16:02.343419Z",
     "shell.execute_reply": "2023-03-20T12:16:02.342621Z"
    },
    "papermill": {
     "duration": 0.109066,
     "end_time": "2023-03-20T12:16:02.346228",
     "exception": false,
     "start_time": "2023-03-20T12:16:02.237162",
     "status": "completed"
    },
    "tags": []
   },
   "outputs": [],
   "source": [
    "from pyts.classification import KNeighborsClassifier\n",
    "from pyts.approximation import PiecewiseAggregateApproximation\n",
    "from imblearn.under_sampling import ClusterCentroids\n",
    "from sklearn_extra.cluster import KMedoids"
   ]
  },
  {
   "cell_type": "code",
   "execution_count": 63,
   "id": "db1604ec",
   "metadata": {
    "execution": {
     "iopub.execute_input": "2023-03-20T12:16:02.383295Z",
     "iopub.status.busy": "2023-03-20T12:16:02.382954Z",
     "iopub.status.idle": "2023-03-20T12:16:02.387866Z",
     "shell.execute_reply": "2023-03-20T12:16:02.386951Z"
    },
    "papermill": {
     "duration": 0.024327,
     "end_time": "2023-03-20T12:16:02.389636",
     "exception": false,
     "start_time": "2023-03-20T12:16:02.365309",
     "status": "completed"
    },
    "tags": []
   },
   "outputs": [],
   "source": [
    "if paa_window_size:\n",
    "    paa = PiecewiseAggregateApproximation(window_size=paa_window_size)\n",
    "    X_train = paa.transform(X_train)\n",
    "    X_test = paa.transform(X_test)\n",
    "    X_train.shape"
   ]
  },
  {
   "cell_type": "code",
   "execution_count": 64,
   "id": "59fa27aa",
   "metadata": {
    "execution": {
     "iopub.execute_input": "2023-03-20T12:16:02.425400Z",
     "iopub.status.busy": "2023-03-20T12:16:02.424938Z",
     "iopub.status.idle": "2023-03-20T12:16:02.433728Z",
     "shell.execute_reply": "2023-03-20T12:16:02.432355Z"
    },
    "papermill": {
     "duration": 0.029131,
     "end_time": "2023-03-20T12:16:02.435713",
     "exception": false,
     "start_time": "2023-03-20T12:16:02.406582",
     "status": "completed"
    },
    "tags": []
   },
   "outputs": [],
   "source": [
    "if undersampling:\n",
    "    total_samples = len(y_train)\n",
    "    unique_classes, class_counts = np.unique(y_train, return_counts=True)\n",
    "    samp_strat = dict(zip(unique_classes, np.floor(class_counts * undersampling).astype(int)))\n",
    "    print(samp_strat)\n",
    "    cc = ClusterCentroids(estimator=KMedoids(\n",
    "        random_state=42), sampling_strategy=samp_strat, random_state=42)\n",
    "    X_train, y_train = cc.fit_resample(X_train, y_train)\n",
    "    X_train.shape"
   ]
  },
  {
   "cell_type": "code",
   "execution_count": 65,
   "id": "e7ac6b44",
   "metadata": {
    "execution": {
     "iopub.execute_input": "2023-03-20T12:16:02.467541Z",
     "iopub.status.busy": "2023-03-20T12:16:02.467023Z",
     "iopub.status.idle": "2023-03-20T12:16:02.493990Z",
     "shell.execute_reply": "2023-03-20T12:16:02.492644Z"
    },
    "papermill": {
     "duration": 0.045173,
     "end_time": "2023-03-20T12:16:02.496055",
     "exception": false,
     "start_time": "2023-03-20T12:16:02.450882",
     "status": "completed"
    },
    "tags": []
   },
   "outputs": [
    {
     "data": {
      "text/html": [
       "<style>#sk-container-id-9 {color: black;background-color: white;}#sk-container-id-9 pre{padding: 0;}#sk-container-id-9 div.sk-toggleable {background-color: white;}#sk-container-id-9 label.sk-toggleable__label {cursor: pointer;display: block;width: 100%;margin-bottom: 0;padding: 0.3em;box-sizing: border-box;text-align: center;}#sk-container-id-9 label.sk-toggleable__label-arrow:before {content: \"▸\";float: left;margin-right: 0.25em;color: #696969;}#sk-container-id-9 label.sk-toggleable__label-arrow:hover:before {color: black;}#sk-container-id-9 div.sk-estimator:hover label.sk-toggleable__label-arrow:before {color: black;}#sk-container-id-9 div.sk-toggleable__content {max-height: 0;max-width: 0;overflow: hidden;text-align: left;background-color: #f0f8ff;}#sk-container-id-9 div.sk-toggleable__content pre {margin: 0.2em;color: black;border-radius: 0.25em;background-color: #f0f8ff;}#sk-container-id-9 input.sk-toggleable__control:checked~div.sk-toggleable__content {max-height: 200px;max-width: 100%;overflow: auto;}#sk-container-id-9 input.sk-toggleable__control:checked~label.sk-toggleable__label-arrow:before {content: \"▾\";}#sk-container-id-9 div.sk-estimator input.sk-toggleable__control:checked~label.sk-toggleable__label {background-color: #d4ebff;}#sk-container-id-9 div.sk-label input.sk-toggleable__control:checked~label.sk-toggleable__label {background-color: #d4ebff;}#sk-container-id-9 input.sk-hidden--visually {border: 0;clip: rect(1px 1px 1px 1px);clip: rect(1px, 1px, 1px, 1px);height: 1px;margin: -1px;overflow: hidden;padding: 0;position: absolute;width: 1px;}#sk-container-id-9 div.sk-estimator {font-family: monospace;background-color: #f0f8ff;border: 1px dotted black;border-radius: 0.25em;box-sizing: border-box;margin-bottom: 0.5em;}#sk-container-id-9 div.sk-estimator:hover {background-color: #d4ebff;}#sk-container-id-9 div.sk-parallel-item::after {content: \"\";width: 100%;border-bottom: 1px solid gray;flex-grow: 1;}#sk-container-id-9 div.sk-label:hover label.sk-toggleable__label {background-color: #d4ebff;}#sk-container-id-9 div.sk-serial::before {content: \"\";position: absolute;border-left: 1px solid gray;box-sizing: border-box;top: 0;bottom: 0;left: 50%;z-index: 0;}#sk-container-id-9 div.sk-serial {display: flex;flex-direction: column;align-items: center;background-color: white;padding-right: 0.2em;padding-left: 0.2em;position: relative;}#sk-container-id-9 div.sk-item {position: relative;z-index: 1;}#sk-container-id-9 div.sk-parallel {display: flex;align-items: stretch;justify-content: center;background-color: white;position: relative;}#sk-container-id-9 div.sk-item::before, #sk-container-id-9 div.sk-parallel-item::before {content: \"\";position: absolute;border-left: 1px solid gray;box-sizing: border-box;top: 0;bottom: 0;left: 50%;z-index: -1;}#sk-container-id-9 div.sk-parallel-item {display: flex;flex-direction: column;z-index: 1;position: relative;background-color: white;}#sk-container-id-9 div.sk-parallel-item:first-child::after {align-self: flex-end;width: 50%;}#sk-container-id-9 div.sk-parallel-item:last-child::after {align-self: flex-start;width: 50%;}#sk-container-id-9 div.sk-parallel-item:only-child::after {width: 0;}#sk-container-id-9 div.sk-dashed-wrapped {border: 1px dashed gray;margin: 0 0.4em 0.5em 0.4em;box-sizing: border-box;padding-bottom: 0.4em;background-color: white;}#sk-container-id-9 div.sk-label label {font-family: monospace;font-weight: bold;display: inline-block;line-height: 1.2em;}#sk-container-id-9 div.sk-label-container {text-align: center;}#sk-container-id-9 div.sk-container {/* jupyter's `normalize.less` sets `[hidden] { display: none; }` but bootstrap.min.css set `[hidden] { display: none !important; }` so we also need the `!important` here to be able to override the default hidden behavior on the sphinx rendered scikit-learn.org. See: https://github.com/scikit-learn/scikit-learn/issues/21755 */display: inline-block !important;position: relative;}#sk-container-id-9 div.sk-text-repr-fallback {display: none;}</style><div id=\"sk-container-id-9\" class=\"sk-top-container\"><div class=\"sk-text-repr-fallback\"><pre>KNeighborsClassifier(metric=&#x27;dtw_sakoechiba&#x27;, metric_params={&#x27;window_size&#x27;: 3})</pre><b>In a Jupyter environment, please rerun this cell to show the HTML representation or trust the notebook. <br />On GitHub, the HTML representation is unable to render, please try loading this page with nbviewer.org.</b></div><div class=\"sk-container\" hidden><div class=\"sk-item\"><div class=\"sk-estimator sk-toggleable\"><input class=\"sk-toggleable__control sk-hidden--visually\" id=\"sk-estimator-id-9\" type=\"checkbox\" checked><label for=\"sk-estimator-id-9\" class=\"sk-toggleable__label sk-toggleable__label-arrow\">KNeighborsClassifier</label><div class=\"sk-toggleable__content\"><pre>KNeighborsClassifier(metric=&#x27;dtw_sakoechiba&#x27;, metric_params={&#x27;window_size&#x27;: 3})</pre></div></div></div></div></div>"
      ],
      "text/plain": [
       "KNeighborsClassifier(metric='dtw_sakoechiba', metric_params={'window_size': 3})"
      ]
     },
     "execution_count": 65,
     "metadata": {},
     "output_type": "execute_result"
    }
   ],
   "source": [
    "clf = KNeighborsClassifier(metric='dtw_sakoechiba',  metric_params={'window_size':3})\n",
    "\n",
    "clf.fit(X_train, y_train)"
   ]
  },
  {
   "cell_type": "code",
   "execution_count": 66,
   "id": "8109d19d",
   "metadata": {
    "execution": {
     "iopub.execute_input": "2023-03-20T12:16:02.529418Z",
     "iopub.status.busy": "2023-03-20T12:16:02.528950Z",
     "iopub.status.idle": "2023-03-20T12:45:48.332291Z",
     "shell.execute_reply": "2023-03-20T12:45:48.331307Z"
    },
    "papermill": {
     "duration": 1785.863358,
     "end_time": "2023-03-20T12:45:48.376141",
     "exception": false,
     "start_time": "2023-03-20T12:16:02.512783",
     "status": "completed"
    },
    "tags": []
   },
   "outputs": [
    {
     "name": "stdout",
     "output_type": "stream",
     "text": [
      "                                           precision    recall  f1-score   support\n",
      "\n",
      "                    action_thriller_crime       0.31      0.32      0.31       318\n",
      "                                   comedy       0.35      0.34      0.34       423\n",
      "                                    drama       0.36      0.36      0.36       499\n",
      "horror_scifi_mystery_supernatural_fantasy       0.25      0.26      0.26       263\n",
      "\n",
      "                                 accuracy                           0.33      1503\n",
      "                                macro avg       0.32      0.32      0.32      1503\n",
      "                             weighted avg       0.33      0.33      0.33      1503\n",
      "\n",
      "CPU times: user 29min 46s, sys: 91.6 ms, total: 29min 46s\n",
      "Wall time: 29min 45s\n"
     ]
    }
   ],
   "source": [
    "%%time\n",
    "y_pred = clf.predict(X_test)\n",
    "print(classification_report(y_test, y_pred))"
   ]
  },
  {
   "cell_type": "code",
   "execution_count": 67,
   "id": "b09f5cdf",
   "metadata": {
    "execution": {
     "iopub.execute_input": "2023-03-20T12:45:48.433551Z",
     "iopub.status.busy": "2023-03-20T12:45:48.433114Z",
     "iopub.status.idle": "2023-03-20T12:45:48.511818Z",
     "shell.execute_reply": "2023-03-20T12:45:48.510978Z"
    },
    "papermill": {
     "duration": 0.099012,
     "end_time": "2023-03-20T12:45:48.514714",
     "exception": false,
     "start_time": "2023-03-20T12:45:48.415702",
     "status": "completed"
    },
    "tags": []
   },
   "outputs": [],
   "source": [
    "acc = accuracy_score(y_test, y_pred)\n",
    "pre = precision_score(y_test, y_pred, average=avg_par)\n",
    "rec = recall_score(y_test, y_pred, average=avg_par)\n",
    "f1 = f1_score(y_test, y_pred, average=avg_par)\n",
    "\n",
    "metrics_data['KNN']['DTW'] = {'Accuracy': acc, 'Precision': pre, 'Recall': rec, 'F1': f1}"
   ]
  },
  {
   "cell_type": "markdown",
   "id": "e0e700a7",
   "metadata": {
    "papermill": {
     "duration": 0.032473,
     "end_time": "2023-03-20T12:45:48.588598",
     "exception": false,
     "start_time": "2023-03-20T12:45:48.556125",
     "status": "completed"
    },
    "tags": []
   },
   "source": [
    "## Overall Results"
   ]
  },
  {
   "cell_type": "code",
   "execution_count": 68,
   "id": "d003c193",
   "metadata": {
    "execution": {
     "iopub.execute_input": "2023-03-20T12:45:48.625660Z",
     "iopub.status.busy": "2023-03-20T12:45:48.625250Z",
     "iopub.status.idle": "2023-03-20T12:45:48.633814Z",
     "shell.execute_reply": "2023-03-20T12:45:48.632602Z"
    },
    "papermill": {
     "duration": 0.028789,
     "end_time": "2023-03-20T12:45:48.635747",
     "exception": false,
     "start_time": "2023-03-20T12:45:48.606958",
     "status": "completed"
    },
    "tags": []
   },
   "outputs": [],
   "source": [
    "metrics_data = pd.DataFrame.from_dict({(i,j): metrics_data[i][j] \n",
    "                                       for i in metrics_data.keys() \n",
    "                                       for j in metrics_data[i].keys()},\n",
    "                                       orient='index')"
   ]
  },
  {
   "cell_type": "code",
   "execution_count": 69,
   "id": "0944fe84",
   "metadata": {
    "execution": {
     "iopub.execute_input": "2023-03-20T12:45:48.667143Z",
     "iopub.status.busy": "2023-03-20T12:45:48.666684Z",
     "iopub.status.idle": "2023-03-20T12:45:48.738888Z",
     "shell.execute_reply": "2023-03-20T12:45:48.737469Z"
    },
    "papermill": {
     "duration": 0.091504,
     "end_time": "2023-03-20T12:45:48.742330",
     "exception": false,
     "start_time": "2023-03-20T12:45:48.650826",
     "status": "completed"
    },
    "tags": []
   },
   "outputs": [],
   "source": [
    "acc = accuracy_score(y_test, y_pred)\n",
    "pre = precision_score(y_test, y_pred, average=avg_par)\n",
    "rec = recall_score(y_test, y_pred, average=avg_par)\n",
    "f1 = f1_score(y_test, y_pred, average=avg_par)"
   ]
  },
  {
   "cell_type": "code",
   "execution_count": 70,
   "id": "7ee1b347",
   "metadata": {
    "execution": {
     "iopub.execute_input": "2023-03-20T12:45:48.818722Z",
     "iopub.status.busy": "2023-03-20T12:45:48.817811Z",
     "iopub.status.idle": "2023-03-20T12:45:48.842040Z",
     "shell.execute_reply": "2023-03-20T12:45:48.840789Z"
    },
    "papermill": {
     "duration": 0.059864,
     "end_time": "2023-03-20T12:45:48.844130",
     "exception": false,
     "start_time": "2023-03-20T12:45:48.784266",
     "status": "completed"
    },
    "tags": []
   },
   "outputs": [
    {
     "data": {
      "text/html": [
       "<div>\n",
       "<style scoped>\n",
       "    .dataframe tbody tr th:only-of-type {\n",
       "        vertical-align: middle;\n",
       "    }\n",
       "\n",
       "    .dataframe tbody tr th {\n",
       "        vertical-align: top;\n",
       "    }\n",
       "\n",
       "    .dataframe thead th {\n",
       "        text-align: right;\n",
       "    }\n",
       "</style>\n",
       "<table border=\"1\" class=\"dataframe\">\n",
       "  <thead>\n",
       "    <tr style=\"text-align: right;\">\n",
       "      <th></th>\n",
       "      <th></th>\n",
       "      <th>Accuracy</th>\n",
       "      <th>Precision</th>\n",
       "      <th>Recall</th>\n",
       "      <th>F1</th>\n",
       "    </tr>\n",
       "  </thead>\n",
       "  <tbody>\n",
       "    <tr>\n",
       "      <th rowspan=\"3\" valign=\"top\">Global</th>\n",
       "      <th>DecisionTree</th>\n",
       "      <td>0.333333</td>\n",
       "      <td>0.333972</td>\n",
       "      <td>0.333333</td>\n",
       "      <td>0.333432</td>\n",
       "    </tr>\n",
       "    <tr>\n",
       "      <th>RandomForest</th>\n",
       "      <td>0.386560</td>\n",
       "      <td>0.385197</td>\n",
       "      <td>0.386560</td>\n",
       "      <td>0.384502</td>\n",
       "    </tr>\n",
       "    <tr>\n",
       "      <th>LightGBM</th>\n",
       "      <td>0.394544</td>\n",
       "      <td>0.393747</td>\n",
       "      <td>0.394544</td>\n",
       "      <td>0.393050</td>\n",
       "    </tr>\n",
       "    <tr>\n",
       "      <th rowspan=\"3\" valign=\"top\">Shapelets</th>\n",
       "      <th>DecisionTree</th>\n",
       "      <td>0.334664</td>\n",
       "      <td>0.334019</td>\n",
       "      <td>0.334664</td>\n",
       "      <td>0.334235</td>\n",
       "    </tr>\n",
       "    <tr>\n",
       "      <th>RandomForest</th>\n",
       "      <td>0.394544</td>\n",
       "      <td>0.395671</td>\n",
       "      <td>0.394544</td>\n",
       "      <td>0.393135</td>\n",
       "    </tr>\n",
       "    <tr>\n",
       "      <th>LightGBM</th>\n",
       "      <td>0.386560</td>\n",
       "      <td>0.387318</td>\n",
       "      <td>0.386560</td>\n",
       "      <td>0.385162</td>\n",
       "    </tr>\n",
       "    <tr>\n",
       "      <th rowspan=\"2\" valign=\"top\">KNN</th>\n",
       "      <th>Euclidean</th>\n",
       "      <td>0.349301</td>\n",
       "      <td>0.339219</td>\n",
       "      <td>0.349301</td>\n",
       "      <td>0.335127</td>\n",
       "    </tr>\n",
       "    <tr>\n",
       "      <th>DTW</th>\n",
       "      <td>0.327345</td>\n",
       "      <td>0.327863</td>\n",
       "      <td>0.327345</td>\n",
       "      <td>0.327582</td>\n",
       "    </tr>\n",
       "  </tbody>\n",
       "</table>\n",
       "</div>"
      ],
      "text/plain": [
       "                        Accuracy  Precision    Recall        F1\n",
       "Global    DecisionTree  0.333333   0.333972  0.333333  0.333432\n",
       "          RandomForest  0.386560   0.385197  0.386560  0.384502\n",
       "          LightGBM      0.394544   0.393747  0.394544  0.393050\n",
       "Shapelets DecisionTree  0.334664   0.334019  0.334664  0.334235\n",
       "          RandomForest  0.394544   0.395671  0.394544  0.393135\n",
       "          LightGBM      0.386560   0.387318  0.386560  0.385162\n",
       "KNN       Euclidean     0.349301   0.339219  0.349301  0.335127\n",
       "          DTW           0.327345   0.327863  0.327345  0.327582"
      ]
     },
     "execution_count": 70,
     "metadata": {},
     "output_type": "execute_result"
    }
   ],
   "source": [
    "metrics_data"
   ]
  },
  {
   "cell_type": "code",
   "execution_count": 71,
   "id": "3efc173e",
   "metadata": {
    "execution": {
     "iopub.execute_input": "2023-03-20T12:45:48.878660Z",
     "iopub.status.busy": "2023-03-20T12:45:48.878045Z",
     "iopub.status.idle": "2023-03-20T12:45:48.887801Z",
     "shell.execute_reply": "2023-03-20T12:45:48.886658Z"
    },
    "papermill": {
     "duration": 0.028705,
     "end_time": "2023-03-20T12:45:48.889701",
     "exception": false,
     "start_time": "2023-03-20T12:45:48.860996",
     "status": "completed"
    },
    "tags": []
   },
   "outputs": [],
   "source": [
    "metrics_data.to_csv(f'{data_path}/metrics.csv')"
   ]
  },
  {
   "cell_type": "code",
   "execution_count": null,
   "id": "d21f5304",
   "metadata": {
    "papermill": {
     "duration": 0.015118,
     "end_time": "2023-03-20T12:45:48.920204",
     "exception": false,
     "start_time": "2023-03-20T12:45:48.905086",
     "status": "completed"
    },
    "tags": []
   },
   "outputs": [],
   "source": []
  }
 ],
 "metadata": {
  "celltoolbar": "Tags",
  "kernelspec": {
   "display_name": "Python 3 (ipykernel)",
   "language": "python",
   "name": "python3"
  },
  "language_info": {
   "codemirror_mode": {
    "name": "ipython",
    "version": 3
   },
   "file_extension": ".py",
   "mimetype": "text/x-python",
   "name": "python",
   "nbconvert_exporter": "python",
   "pygments_lexer": "ipython3",
   "version": "3.9.16"
  },
  "papermill": {
   "default_parameters": {},
   "duration": 2341.624679,
   "end_time": "2023-03-20T12:45:51.958692",
   "environment_variables": {},
   "exception": null,
   "input_path": "09_ts_classification.ipynb",
   "output_path": "../clf-reports/movie-plots_sentiment.ipynb",
   "parameters": {
    "data_path": "/home/mattiapggioli/lyrics2ts/data/classification/movie-plots/sentiment/"
   },
   "start_time": "2023-03-20T12:06:50.334013",
   "version": "2.4.0"
  },
  "vscode": {
   "interpreter": {
    "hash": "eb8d1ded7c87c6f9c253b40add648304d6b51d2e38393955e855effc7e6f899a"
   }
  }
 },
 "nbformat": 4,
 "nbformat_minor": 5
}