{
 "cells": [
  {
   "cell_type": "markdown",
   "id": "d79a68c5",
   "metadata": {
    "papermill": {
     "duration": 0.028074,
     "end_time": "2023-03-20T15:15:32.355529",
     "exception": false,
     "start_time": "2023-03-20T15:15:32.327455",
     "status": "completed"
    },
    "tags": []
   },
   "source": [
    "# Time Series Classification"
   ]
  },
  {
   "cell_type": "code",
   "execution_count": 1,
   "id": "8a0cb2b0",
   "metadata": {
    "execution": {
     "iopub.execute_input": "2023-03-20T15:15:32.411166Z",
     "iopub.status.busy": "2023-03-20T15:15:32.410796Z",
     "iopub.status.idle": "2023-03-20T15:15:34.144083Z",
     "shell.execute_reply": "2023-03-20T15:15:34.143127Z"
    },
    "papermill": {
     "duration": 1.764439,
     "end_time": "2023-03-20T15:15:34.147127",
     "exception": false,
     "start_time": "2023-03-20T15:15:32.382688",
     "status": "completed"
    },
    "tags": []
   },
   "outputs": [],
   "source": [
    "%matplotlib inline\n",
    "import pandas as pd\n",
    "import numpy as np\n",
    "import matplotlib.pyplot as plt\n",
    "import seaborn as sns\n",
    "import re\n",
    "import os\n",
    "from sklearn.preprocessing import StandardScaler\n",
    "from sklearn.decomposition import PCA\n",
    "import joblib\n",
    "from tslearn.utils import to_time_series_dataset, save_time_series_txt, load_time_series_txt\n",
    "import random\n",
    "from sklearn.model_selection import train_test_split\n",
    "from sklearn.metrics import accuracy_score, f1_score, precision_score, recall_score, classification_report\n",
    "import pickle"
   ]
  },
  {
   "cell_type": "code",
   "execution_count": 2,
   "id": "acc03405",
   "metadata": {
    "execution": {
     "iopub.execute_input": "2023-03-20T15:15:34.209395Z",
     "iopub.status.busy": "2023-03-20T15:15:34.208164Z",
     "iopub.status.idle": "2023-03-20T15:15:34.214839Z",
     "shell.execute_reply": "2023-03-20T15:15:34.213695Z"
    },
    "papermill": {
     "duration": 0.040572,
     "end_time": "2023-03-20T15:15:34.217937",
     "exception": false,
     "start_time": "2023-03-20T15:15:34.177365",
     "status": "completed"
    },
    "tags": [
     "parameters"
    ]
   },
   "outputs": [],
   "source": [
    "data_path = '/home/mattiapggioli/lyrics2ts/data/classification/pp-rc/sbert/'\n",
    "truncate=100\n",
    "max_iter = 2000\n",
    "paa_window_size = None\n",
    "undersampling = None"
   ]
  },
  {
   "cell_type": "code",
   "execution_count": 3,
   "id": "7c8b0703",
   "metadata": {
    "execution": {
     "iopub.execute_input": "2023-03-20T15:15:34.259155Z",
     "iopub.status.busy": "2023-03-20T15:15:34.258227Z",
     "iopub.status.idle": "2023-03-20T15:15:34.263841Z",
     "shell.execute_reply": "2023-03-20T15:15:34.262837Z"
    },
    "papermill": {
     "duration": 0.020487,
     "end_time": "2023-03-20T15:15:34.265314",
     "exception": false,
     "start_time": "2023-03-20T15:15:34.244827",
     "status": "completed"
    },
    "tags": [
     "injected-parameters"
    ]
   },
   "outputs": [],
   "source": [
    "# Parameters\n",
    "data_path = \"/home/mattiapggioli/lyrics2ts/data/classification/pp-rc/sentiment/\"\n",
    "paa_window_size = 20\n",
    "undersampling = 0.3\n"
   ]
  },
  {
   "cell_type": "code",
   "execution_count": 4,
   "id": "a4f0c774",
   "metadata": {
    "execution": {
     "iopub.execute_input": "2023-03-20T15:15:34.288379Z",
     "iopub.status.busy": "2023-03-20T15:15:34.287588Z",
     "iopub.status.idle": "2023-03-20T15:15:52.818162Z",
     "shell.execute_reply": "2023-03-20T15:15:52.817234Z"
    },
    "papermill": {
     "duration": 18.545111,
     "end_time": "2023-03-20T15:15:52.821051",
     "exception": false,
     "start_time": "2023-03-20T15:15:34.275940",
     "status": "completed"
    },
    "tags": []
   },
   "outputs": [],
   "source": [
    "ts = load_time_series_txt(f'{data_path}/ts.txt')"
   ]
  },
  {
   "cell_type": "code",
   "execution_count": 5,
   "id": "5c48d154",
   "metadata": {
    "execution": {
     "iopub.execute_input": "2023-03-20T15:15:52.882655Z",
     "iopub.status.busy": "2023-03-20T15:15:52.882351Z",
     "iopub.status.idle": "2023-03-20T15:15:52.890041Z",
     "shell.execute_reply": "2023-03-20T15:15:52.888654Z"
    },
    "papermill": {
     "duration": 0.042708,
     "end_time": "2023-03-20T15:15:52.893763",
     "exception": false,
     "start_time": "2023-03-20T15:15:52.851055",
     "status": "completed"
    },
    "tags": []
   },
   "outputs": [
    {
     "data": {
      "text/plain": [
       "(24000, 130, 1)"
      ]
     },
     "execution_count": 5,
     "metadata": {},
     "output_type": "execute_result"
    }
   ],
   "source": [
    "ts.shape"
   ]
  },
  {
   "cell_type": "code",
   "execution_count": 6,
   "id": "f6274d40",
   "metadata": {
    "execution": {
     "iopub.execute_input": "2023-03-20T15:15:52.930688Z",
     "iopub.status.busy": "2023-03-20T15:15:52.929817Z",
     "iopub.status.idle": "2023-03-20T15:15:52.938086Z",
     "shell.execute_reply": "2023-03-20T15:15:52.936985Z"
    },
    "papermill": {
     "duration": 0.022026,
     "end_time": "2023-03-20T15:15:52.939994",
     "exception": false,
     "start_time": "2023-03-20T15:15:52.917968",
     "status": "completed"
    },
    "tags": []
   },
   "outputs": [],
   "source": [
    "with open(f'{data_path}/y_class.npy', 'rb') as f:\n",
    "    y = np.load(f, allow_pickle=True)"
   ]
  },
  {
   "cell_type": "code",
   "execution_count": 7,
   "id": "9d42fa3b",
   "metadata": {
    "execution": {
     "iopub.execute_input": "2023-03-20T15:15:52.963783Z",
     "iopub.status.busy": "2023-03-20T15:15:52.963047Z",
     "iopub.status.idle": "2023-03-20T15:15:52.971349Z",
     "shell.execute_reply": "2023-03-20T15:15:52.970268Z"
    },
    "papermill": {
     "duration": 0.022144,
     "end_time": "2023-03-20T15:15:52.973151",
     "exception": false,
     "start_time": "2023-03-20T15:15:52.951007",
     "status": "completed"
    },
    "tags": []
   },
   "outputs": [],
   "source": [
    "with open(f'{data_path}/X.npy', 'rb') as f:\n",
    "    X = np.load(f, allow_pickle=True)"
   ]
  },
  {
   "cell_type": "code",
   "execution_count": 8,
   "id": "1158a9da",
   "metadata": {
    "execution": {
     "iopub.execute_input": "2023-03-20T15:15:52.996193Z",
     "iopub.status.busy": "2023-03-20T15:15:52.995598Z",
     "iopub.status.idle": "2023-03-20T15:15:53.002655Z",
     "shell.execute_reply": "2023-03-20T15:15:53.001594Z"
    },
    "papermill": {
     "duration": 0.020358,
     "end_time": "2023-03-20T15:15:53.004270",
     "exception": false,
     "start_time": "2023-03-20T15:15:52.983912",
     "status": "completed"
    },
    "tags": []
   },
   "outputs": [
    {
     "data": {
      "text/plain": [
       "(24000, 6)"
      ]
     },
     "execution_count": 8,
     "metadata": {},
     "output_type": "execute_result"
    }
   ],
   "source": [
    "X.shape"
   ]
  },
  {
   "cell_type": "code",
   "execution_count": 9,
   "id": "47239790",
   "metadata": {
    "execution": {
     "iopub.execute_input": "2023-03-20T15:15:53.027432Z",
     "iopub.status.busy": "2023-03-20T15:15:53.026583Z",
     "iopub.status.idle": "2023-03-20T15:15:53.034448Z",
     "shell.execute_reply": "2023-03-20T15:15:53.033383Z"
    },
    "papermill": {
     "duration": 0.021261,
     "end_time": "2023-03-20T15:15:53.036190",
     "exception": false,
     "start_time": "2023-03-20T15:15:53.014929",
     "status": "completed"
    },
    "tags": []
   },
   "outputs": [
    {
     "data": {
      "text/plain": [
       "{'pop', 'rock'}"
      ]
     },
     "execution_count": 9,
     "metadata": {},
     "output_type": "execute_result"
    }
   ],
   "source": [
    "set(y)"
   ]
  },
  {
   "cell_type": "code",
   "execution_count": 10,
   "id": "37609992",
   "metadata": {
    "execution": {
     "iopub.execute_input": "2023-03-20T15:15:53.059142Z",
     "iopub.status.busy": "2023-03-20T15:15:53.058562Z",
     "iopub.status.idle": "2023-03-20T15:15:53.113997Z",
     "shell.execute_reply": "2023-03-20T15:15:53.112757Z"
    },
    "papermill": {
     "duration": 0.069262,
     "end_time": "2023-03-20T15:15:53.116103",
     "exception": false,
     "start_time": "2023-03-20T15:15:53.046841",
     "status": "completed"
    },
    "tags": []
   },
   "outputs": [],
   "source": [
    "ts_train, ts_test, y_train, y_test = train_test_split(\n",
    "    ts, y, test_size=0.20, random_state=42, stratify=y)"
   ]
  },
  {
   "cell_type": "code",
   "execution_count": 11,
   "id": "34508fe4",
   "metadata": {
    "execution": {
     "iopub.execute_input": "2023-03-20T15:15:53.141804Z",
     "iopub.status.busy": "2023-03-20T15:15:53.141207Z",
     "iopub.status.idle": "2023-03-20T15:15:53.185176Z",
     "shell.execute_reply": "2023-03-20T15:15:53.183834Z"
    },
    "papermill": {
     "duration": 0.058911,
     "end_time": "2023-03-20T15:15:53.188307",
     "exception": false,
     "start_time": "2023-03-20T15:15:53.129396",
     "status": "completed"
    },
    "tags": []
   },
   "outputs": [],
   "source": [
    "X_train, X_test, y_train, y_test = train_test_split(\n",
    "    X, y, test_size=0.20, random_state=42, stratify=y)"
   ]
  },
  {
   "cell_type": "code",
   "execution_count": 12,
   "id": "076afac9",
   "metadata": {
    "execution": {
     "iopub.execute_input": "2023-03-20T15:15:53.246255Z",
     "iopub.status.busy": "2023-03-20T15:15:53.245248Z",
     "iopub.status.idle": "2023-03-20T15:15:53.258279Z",
     "shell.execute_reply": "2023-03-20T15:15:53.257119Z"
    },
    "papermill": {
     "duration": 0.04549,
     "end_time": "2023-03-20T15:15:53.261469",
     "exception": false,
     "start_time": "2023-03-20T15:15:53.215979",
     "status": "completed"
    },
    "tags": []
   },
   "outputs": [
    {
     "data": {
      "text/plain": [
       "array([[ 0.    ],\n",
       "       [ 0.1779],\n",
       "       [ 0.    ],\n",
       "       [ 0.    ],\n",
       "       [ 0.    ],\n",
       "       [ 0.2023],\n",
       "       [ 0.5574],\n",
       "       [ 0.6369],\n",
       "       [ 0.    ],\n",
       "       [ 0.    ],\n",
       "       [ 0.    ],\n",
       "       [ 0.    ],\n",
       "       [ 0.    ],\n",
       "       [ 0.    ],\n",
       "       [ 0.1759],\n",
       "       [ 0.    ],\n",
       "       [ 0.    ],\n",
       "       [ 0.    ],\n",
       "       [ 0.    ],\n",
       "       [ 0.    ],\n",
       "       [ 0.6369],\n",
       "       [ 0.    ],\n",
       "       [ 0.3612],\n",
       "       [ 0.    ],\n",
       "       [ 0.2263],\n",
       "       [-0.4404],\n",
       "       [ 0.3612],\n",
       "       [-0.4767],\n",
       "       [-0.5647],\n",
       "       [ 0.    ],\n",
       "       [ 0.128 ],\n",
       "       [ 0.    ],\n",
       "       [ 0.    ],\n",
       "       [ 0.    ],\n",
       "       [ 0.    ],\n",
       "       [-0.3612],\n",
       "       [ 0.    ],\n",
       "       [-0.5574],\n",
       "       [ 0.1154],\n",
       "       [ 0.    ],\n",
       "       [ 0.3612],\n",
       "       [ 0.3612],\n",
       "       [ 0.3612],\n",
       "       [ 0.3612],\n",
       "       [    nan],\n",
       "       [    nan],\n",
       "       [    nan],\n",
       "       [    nan],\n",
       "       [    nan],\n",
       "       [    nan],\n",
       "       [    nan],\n",
       "       [    nan],\n",
       "       [    nan],\n",
       "       [    nan],\n",
       "       [    nan],\n",
       "       [    nan],\n",
       "       [    nan],\n",
       "       [    nan],\n",
       "       [    nan],\n",
       "       [    nan],\n",
       "       [    nan],\n",
       "       [    nan],\n",
       "       [    nan],\n",
       "       [    nan],\n",
       "       [    nan],\n",
       "       [    nan],\n",
       "       [    nan],\n",
       "       [    nan],\n",
       "       [    nan],\n",
       "       [    nan],\n",
       "       [    nan],\n",
       "       [    nan],\n",
       "       [    nan],\n",
       "       [    nan],\n",
       "       [    nan],\n",
       "       [    nan],\n",
       "       [    nan],\n",
       "       [    nan],\n",
       "       [    nan],\n",
       "       [    nan],\n",
       "       [    nan],\n",
       "       [    nan],\n",
       "       [    nan],\n",
       "       [    nan],\n",
       "       [    nan],\n",
       "       [    nan],\n",
       "       [    nan],\n",
       "       [    nan],\n",
       "       [    nan],\n",
       "       [    nan],\n",
       "       [    nan],\n",
       "       [    nan],\n",
       "       [    nan],\n",
       "       [    nan],\n",
       "       [    nan],\n",
       "       [    nan],\n",
       "       [    nan],\n",
       "       [    nan],\n",
       "       [    nan],\n",
       "       [    nan],\n",
       "       [    nan],\n",
       "       [    nan],\n",
       "       [    nan],\n",
       "       [    nan],\n",
       "       [    nan],\n",
       "       [    nan],\n",
       "       [    nan],\n",
       "       [    nan],\n",
       "       [    nan],\n",
       "       [    nan],\n",
       "       [    nan],\n",
       "       [    nan],\n",
       "       [    nan],\n",
       "       [    nan],\n",
       "       [    nan],\n",
       "       [    nan],\n",
       "       [    nan],\n",
       "       [    nan],\n",
       "       [    nan],\n",
       "       [    nan],\n",
       "       [    nan],\n",
       "       [    nan],\n",
       "       [    nan],\n",
       "       [    nan],\n",
       "       [    nan],\n",
       "       [    nan],\n",
       "       [    nan],\n",
       "       [    nan],\n",
       "       [    nan],\n",
       "       [    nan]])"
      ]
     },
     "execution_count": 12,
     "metadata": {},
     "output_type": "execute_result"
    }
   ],
   "source": [
    "random.choice(ts_train)"
   ]
  },
  {
   "cell_type": "code",
   "execution_count": 13,
   "id": "ca66457a",
   "metadata": {
    "execution": {
     "iopub.execute_input": "2023-03-20T15:15:53.301479Z",
     "iopub.status.busy": "2023-03-20T15:15:53.300737Z",
     "iopub.status.idle": "2023-03-20T15:15:53.722474Z",
     "shell.execute_reply": "2023-03-20T15:15:53.721647Z"
    },
    "papermill": {
     "duration": 0.437246,
     "end_time": "2023-03-20T15:15:53.725738",
     "exception": false,
     "start_time": "2023-03-20T15:15:53.288492",
     "status": "completed"
    },
    "tags": []
   },
   "outputs": [
    {
     "data": {
      "text/plain": [
       "<AxesSubplot:ylabel='Count'>"
      ]
     },
     "execution_count": 13,
     "metadata": {},
     "output_type": "execute_result"
    },
    {
     "data": {
      "image/png": "[encoded data removed]",
      "text/plain": [
       "<Figure size 640x480 with 1 Axes>"
      ]
     },
     "metadata": {},
     "output_type": "display_data"
    }
   ],
   "source": [
    "sns.histplot([t[~np.any(np.isnan(t), axis=1)].shape[0] for t in ts_train])"
   ]
  },
  {
   "cell_type": "code",
   "execution_count": 14,
   "id": "c2ae286f",
   "metadata": {
    "execution": {
     "iopub.execute_input": "2023-03-20T15:15:53.789675Z",
     "iopub.status.busy": "2023-03-20T15:15:53.789376Z",
     "iopub.status.idle": "2023-03-20T15:15:53.794148Z",
     "shell.execute_reply": "2023-03-20T15:15:53.793215Z"
    },
    "papermill": {
     "duration": 0.039654,
     "end_time": "2023-03-20T15:15:53.796758",
     "exception": false,
     "start_time": "2023-03-20T15:15:53.757104",
     "status": "completed"
    },
    "tags": []
   },
   "outputs": [],
   "source": [
    "ts_train = ts_train[:, :truncate, :]\n",
    "ts_test = ts_test[:, :truncate, :]"
   ]
  },
  {
   "cell_type": "code",
   "execution_count": 15,
   "id": "3218baa4",
   "metadata": {
    "execution": {
     "iopub.execute_input": "2023-03-20T15:15:53.823867Z",
     "iopub.status.busy": "2023-03-20T15:15:53.823400Z",
     "iopub.status.idle": "2023-03-20T15:15:53.890042Z",
     "shell.execute_reply": "2023-03-20T15:15:53.889259Z"
    },
    "papermill": {
     "duration": 0.082016,
     "end_time": "2023-03-20T15:15:53.892806",
     "exception": false,
     "start_time": "2023-03-20T15:15:53.810790",
     "status": "completed"
    },
    "tags": []
   },
   "outputs": [],
   "source": [
    "mean_arr = np.nanmean(ts_train, axis=1, keepdims=True)\n",
    "nan_indices = np.isnan(ts_train)\n",
    "ts_train[nan_indices] = np.take(mean_arr, np.nonzero(nan_indices)[0])\n",
    "\n",
    "mean_arr = np.nanmean(ts_test, axis=1, keepdims=True)\n",
    "nan_indices = np.isnan(ts_test)\n",
    "ts_test[nan_indices] = np.take(mean_arr, np.nonzero(nan_indices)[0])"
   ]
  },
  {
   "cell_type": "code",
   "execution_count": 16,
   "id": "d369691b",
   "metadata": {
    "execution": {
     "iopub.execute_input": "2023-03-20T15:15:53.920602Z",
     "iopub.status.busy": "2023-03-20T15:15:53.920206Z",
     "iopub.status.idle": "2023-03-20T15:15:53.927151Z",
     "shell.execute_reply": "2023-03-20T15:15:53.926181Z"
    },
    "papermill": {
     "duration": 0.020782,
     "end_time": "2023-03-20T15:15:53.928769",
     "exception": false,
     "start_time": "2023-03-20T15:15:53.907987",
     "status": "completed"
    },
    "tags": []
   },
   "outputs": [
    {
     "data": {
      "text/plain": [
       "42"
      ]
     },
     "execution_count": 16,
     "metadata": {},
     "output_type": "execute_result"
    }
   ],
   "source": [
    "np.count_nonzero(np.isnan(X_train))"
   ]
  },
  {
   "cell_type": "code",
   "execution_count": 17,
   "id": "0d602e18",
   "metadata": {
    "execution": {
     "iopub.execute_input": "2023-03-20T15:15:53.953140Z",
     "iopub.status.busy": "2023-03-20T15:15:53.952676Z",
     "iopub.status.idle": "2023-03-20T15:15:53.958570Z",
     "shell.execute_reply": "2023-03-20T15:15:53.957536Z"
    },
    "papermill": {
     "duration": 0.020144,
     "end_time": "2023-03-20T15:15:53.960292",
     "exception": false,
     "start_time": "2023-03-20T15:15:53.940148",
     "status": "completed"
    },
    "tags": []
   },
   "outputs": [],
   "source": [
    "X_train[np.isnan(X_train)] = 0\n",
    "X_test[np.isnan(X_test)] = 0"
   ]
  },
  {
   "cell_type": "code",
   "execution_count": 18,
   "id": "45c5102c",
   "metadata": {
    "execution": {
     "iopub.execute_input": "2023-03-20T15:15:53.984616Z",
     "iopub.status.busy": "2023-03-20T15:15:53.983843Z",
     "iopub.status.idle": "2023-03-20T15:15:56.312640Z",
     "shell.execute_reply": "2023-03-20T15:15:56.311503Z"
    },
    "papermill": {
     "duration": 2.344413,
     "end_time": "2023-03-20T15:15:56.315982",
     "exception": false,
     "start_time": "2023-03-20T15:15:53.971569",
     "status": "completed"
    },
    "tags": []
   },
   "outputs": [],
   "source": [
    "save_time_series_txt(f'{data_path}/ts_train.txt', ts_train)\n",
    "save_time_series_txt(f'{data_path}/ts_test.txt', ts_test)"
   ]
  },
  {
   "cell_type": "code",
   "execution_count": 19,
   "id": "39830f37",
   "metadata": {
    "execution": {
     "iopub.execute_input": "2023-03-20T15:15:56.386769Z",
     "iopub.status.busy": "2023-03-20T15:15:56.386475Z",
     "iopub.status.idle": "2023-03-20T15:15:56.395032Z",
     "shell.execute_reply": "2023-03-20T15:15:56.393723Z"
    },
    "papermill": {
     "duration": 0.050578,
     "end_time": "2023-03-20T15:15:56.398272",
     "exception": false,
     "start_time": "2023-03-20T15:15:56.347694",
     "status": "completed"
    },
    "tags": []
   },
   "outputs": [],
   "source": [
    "with open(f'{data_path}/X_train.npy', 'wb') as f:\n",
    "    np.save(f, X_train, allow_pickle=True)\n",
    "\n",
    "with open(f'{data_path}/X_test.npy', 'wb') as f:\n",
    "    np.save(f, X_test, allow_pickle=True)"
   ]
  },
  {
   "cell_type": "code",
   "execution_count": 20,
   "id": "795fd2be",
   "metadata": {
    "execution": {
     "iopub.execute_input": "2023-03-20T15:15:56.438512Z",
     "iopub.status.busy": "2023-03-20T15:15:56.437664Z",
     "iopub.status.idle": "2023-03-20T15:15:56.447318Z",
     "shell.execute_reply": "2023-03-20T15:15:56.446033Z"
    },
    "papermill": {
     "duration": 0.024251,
     "end_time": "2023-03-20T15:15:56.449522",
     "exception": false,
     "start_time": "2023-03-20T15:15:56.425271",
     "status": "completed"
    },
    "tags": []
   },
   "outputs": [],
   "source": [
    "with open(f'{data_path}/y_train.npy', 'wb') as f:\n",
    "    np.save(f, y_train, allow_pickle=True)\n",
    "\n",
    "with open(f'{data_path}/y_test.npy', 'wb') as f:\n",
    "    np.save(f, y_test, allow_pickle=True)"
   ]
  },
  {
   "cell_type": "code",
   "execution_count": 21,
   "id": "08bda153",
   "metadata": {
    "execution": {
     "iopub.execute_input": "2023-03-20T15:15:56.474850Z",
     "iopub.status.busy": "2023-03-20T15:15:56.474380Z",
     "iopub.status.idle": "2023-03-20T15:15:56.623548Z",
     "shell.execute_reply": "2023-03-20T15:15:56.622836Z"
    },
    "papermill": {
     "duration": 0.165651,
     "end_time": "2023-03-20T15:15:56.627309",
     "exception": false,
     "start_time": "2023-03-20T15:15:56.461658",
     "status": "completed"
    },
    "tags": []
   },
   "outputs": [
    {
     "data": {
      "text/plain": [
       "[<matplotlib.lines.Line2D at 0x7f062f7b59a0>]"
      ]
     },
     "execution_count": 21,
     "metadata": {},
     "output_type": "execute_result"
    },
    {
     "data": {
      "image/png": "[encoded data removed]",
      "text/plain": [
       "<Figure size 640x480 with 1 Axes>"
      ]
     },
     "metadata": {},
     "output_type": "display_data"
    }
   ],
   "source": [
    "plt.plot(random.choice(ts_train))"
   ]
  },
  {
   "cell_type": "code",
   "execution_count": 22,
   "id": "98ce9d63",
   "metadata": {
    "execution": {
     "iopub.execute_input": "2023-03-20T15:15:56.694043Z",
     "iopub.status.busy": "2023-03-20T15:15:56.693744Z",
     "iopub.status.idle": "2023-03-20T15:15:56.698377Z",
     "shell.execute_reply": "2023-03-20T15:15:56.697716Z"
    },
    "papermill": {
     "duration": 0.040459,
     "end_time": "2023-03-20T15:15:56.699933",
     "exception": false,
     "start_time": "2023-03-20T15:15:56.659474",
     "status": "completed"
    },
    "tags": []
   },
   "outputs": [],
   "source": [
    "# Parameters that require knowing if it's binary or multiclass (LightGBM, metrics)\n",
    "if len(set(y)) == 2:\n",
    "    avg_par = 'macro'\n",
    "    obj_par = 'binary'\n",
    "elif len(set(y)) > 2:\n",
    "    avg_par = 'weighted'\n",
    "    obj_par = 'multiclass'"
   ]
  },
  {
   "cell_type": "markdown",
   "id": "228f1b39",
   "metadata": {
    "papermill": {
     "duration": 0.011367,
     "end_time": "2023-03-20T15:15:56.723089",
     "exception": false,
     "start_time": "2023-03-20T15:15:56.711722",
     "status": "completed"
    },
    "tags": []
   },
   "source": [
    "## Classification"
   ]
  },
  {
   "cell_type": "code",
   "execution_count": 23,
   "id": "34bb73ff",
   "metadata": {
    "execution": {
     "iopub.execute_input": "2023-03-20T15:15:56.748108Z",
     "iopub.status.busy": "2023-03-20T15:15:56.747689Z",
     "iopub.status.idle": "2023-03-20T15:15:56.873503Z",
     "shell.execute_reply": "2023-03-20T15:15:56.872907Z"
    },
    "papermill": {
     "duration": 0.141255,
     "end_time": "2023-03-20T15:15:56.876069",
     "exception": false,
     "start_time": "2023-03-20T15:15:56.734814",
     "status": "completed"
    },
    "tags": []
   },
   "outputs": [],
   "source": [
    "from sklearn.tree import DecisionTreeClassifier\n",
    "import lightgbm as lgbm\n",
    "from sklearn.ensemble import RandomForestClassifier"
   ]
  },
  {
   "cell_type": "code",
   "execution_count": 24,
   "id": "02aaee18",
   "metadata": {
    "execution": {
     "iopub.execute_input": "2023-03-20T15:15:56.903417Z",
     "iopub.status.busy": "2023-03-20T15:15:56.903061Z",
     "iopub.status.idle": "2023-03-20T15:15:56.907285Z",
     "shell.execute_reply": "2023-03-20T15:15:56.906402Z"
    },
    "papermill": {
     "duration": 0.018096,
     "end_time": "2023-03-20T15:15:56.908677",
     "exception": false,
     "start_time": "2023-03-20T15:15:56.890581",
     "status": "completed"
    },
    "tags": []
   },
   "outputs": [],
   "source": [
    "metrics_data = {}"
   ]
  },
  {
   "cell_type": "markdown",
   "id": "b49309ed",
   "metadata": {
    "papermill": {
     "duration": 0.01128,
     "end_time": "2023-03-20T15:15:56.931552",
     "exception": false,
     "start_time": "2023-03-20T15:15:56.920272",
     "status": "completed"
    },
    "tags": []
   },
   "source": [
    "### Baseline: global features (No Time Series)"
   ]
  },
  {
   "cell_type": "code",
   "execution_count": 25,
   "id": "35eb9f66",
   "metadata": {
    "execution": {
     "iopub.execute_input": "2023-03-20T15:15:56.956082Z",
     "iopub.status.busy": "2023-03-20T15:15:56.955623Z",
     "iopub.status.idle": "2023-03-20T15:15:56.960844Z",
     "shell.execute_reply": "2023-03-20T15:15:56.959775Z"
    },
    "papermill": {
     "duration": 0.019482,
     "end_time": "2023-03-20T15:15:56.962404",
     "exception": false,
     "start_time": "2023-03-20T15:15:56.942922",
     "status": "completed"
    },
    "tags": []
   },
   "outputs": [],
   "source": [
    "metrics_data['Global'] = {}"
   ]
  },
  {
   "cell_type": "markdown",
   "id": "29cd5044",
   "metadata": {
    "papermill": {
     "duration": 0.011317,
     "end_time": "2023-03-20T15:15:56.985309",
     "exception": false,
     "start_time": "2023-03-20T15:15:56.973992",
     "status": "completed"
    },
    "tags": []
   },
   "source": [
    "**Decision Tree**"
   ]
  },
  {
   "cell_type": "code",
   "execution_count": 26,
   "id": "9ef4f037",
   "metadata": {
    "execution": {
     "iopub.execute_input": "2023-03-20T15:15:57.009795Z",
     "iopub.status.busy": "2023-03-20T15:15:57.009482Z",
     "iopub.status.idle": "2023-03-20T15:15:57.199856Z",
     "shell.execute_reply": "2023-03-20T15:15:57.198911Z"
    },
    "papermill": {
     "duration": 0.204971,
     "end_time": "2023-03-20T15:15:57.201844",
     "exception": false,
     "start_time": "2023-03-20T15:15:56.996873",
     "status": "completed"
    },
    "tags": []
   },
   "outputs": [
    {
     "data": {
      "text/html": [
       "<style>#sk-container-id-1 {color: black;background-color: white;}#sk-container-id-1 pre{padding: 0;}#sk-container-id-1 div.sk-toggleable {background-color: white;}#sk-container-id-1 label.sk-toggleable__label {cursor: pointer;display: block;width: 100%;margin-bottom: 0;padding: 0.3em;box-sizing: border-box;text-align: center;}#sk-container-id-1 label.sk-toggleable__label-arrow:before {content: \"▸\";float: left;margin-right: 0.25em;color: #696969;}#sk-container-id-1 label.sk-toggleable__label-arrow:hover:before {color: black;}#sk-container-id-1 div.sk-estimator:hover label.sk-toggleable__label-arrow:before {color: black;}#sk-container-id-1 div.sk-toggleable__content {max-height: 0;max-width: 0;overflow: hidden;text-align: left;background-color: #f0f8ff;}#sk-container-id-1 div.sk-toggleable__content pre {margin: 0.2em;color: black;border-radius: 0.25em;background-color: #f0f8ff;}#sk-container-id-1 input.sk-toggleable__control:checked~div.sk-toggleable__content {max-height: 200px;max-width: 100%;overflow: auto;}#sk-container-id-1 input.sk-toggleable__control:checked~label.sk-toggleable__label-arrow:before {content: \"▾\";}#sk-container-id-1 div.sk-estimator input.sk-toggleable__control:checked~label.sk-toggleable__label {background-color: #d4ebff;}#sk-container-id-1 div.sk-label input.sk-toggleable__control:checked~label.sk-toggleable__label {background-color: #d4ebff;}#sk-container-id-1 input.sk-hidden--visually {border: 0;clip: rect(1px 1px 1px 1px);clip: rect(1px, 1px, 1px, 1px);height: 1px;margin: -1px;overflow: hidden;padding: 0;position: absolute;width: 1px;}#sk-container-id-1 div.sk-estimator {font-family: monospace;background-color: #f0f8ff;border: 1px dotted black;border-radius: 0.25em;box-sizing: border-box;margin-bottom: 0.5em;}#sk-container-id-1 div.sk-estimator:hover {background-color: #d4ebff;}#sk-container-id-1 div.sk-parallel-item::after {content: \"\";width: 100%;border-bottom: 1px solid gray;flex-grow: 1;}#sk-container-id-1 div.sk-label:hover label.sk-toggleable__label {background-color: #d4ebff;}#sk-container-id-1 div.sk-serial::before {content: \"\";position: absolute;border-left: 1px solid gray;box-sizing: border-box;top: 0;bottom: 0;left: 50%;z-index: 0;}#sk-container-id-1 div.sk-serial {display: flex;flex-direction: column;align-items: center;background-color: white;padding-right: 0.2em;padding-left: 0.2em;position: relative;}#sk-container-id-1 div.sk-item {position: relative;z-index: 1;}#sk-container-id-1 div.sk-parallel {display: flex;align-items: stretch;justify-content: center;background-color: white;position: relative;}#sk-container-id-1 div.sk-item::before, #sk-container-id-1 div.sk-parallel-item::before {content: \"\";position: absolute;border-left: 1px solid gray;box-sizing: border-box;top: 0;bottom: 0;left: 50%;z-index: -1;}#sk-container-id-1 div.sk-parallel-item {display: flex;flex-direction: column;z-index: 1;position: relative;background-color: white;}#sk-container-id-1 div.sk-parallel-item:first-child::after {align-self: flex-end;width: 50%;}#sk-container-id-1 div.sk-parallel-item:last-child::after {align-self: flex-start;width: 50%;}#sk-container-id-1 div.sk-parallel-item:only-child::after {width: 0;}#sk-container-id-1 div.sk-dashed-wrapped {border: 1px dashed gray;margin: 0 0.4em 0.5em 0.4em;box-sizing: border-box;padding-bottom: 0.4em;background-color: white;}#sk-container-id-1 div.sk-label label {font-family: monospace;font-weight: bold;display: inline-block;line-height: 1.2em;}#sk-container-id-1 div.sk-label-container {text-align: center;}#sk-container-id-1 div.sk-container {/* jupyter's `normalize.less` sets `[hidden] { display: none; }` but bootstrap.min.css set `[hidden] { display: none !important; }` so we also need the `!important` here to be able to override the default hidden behavior on the sphinx rendered scikit-learn.org. See: https://github.com/scikit-learn/scikit-learn/issues/21755 */display: inline-block !important;position: relative;}#sk-container-id-1 div.sk-text-repr-fallback {display: none;}</style><div id=\"sk-container-id-1\" class=\"sk-top-container\"><div class=\"sk-text-repr-fallback\"><pre>DecisionTreeClassifier()</pre><b>In a Jupyter environment, please rerun this cell to show the HTML representation or trust the notebook. <br />On GitHub, the HTML representation is unable to render, please try loading this page with nbviewer.org.</b></div><div class=\"sk-container\" hidden><div class=\"sk-item\"><div class=\"sk-estimator sk-toggleable\"><input class=\"sk-toggleable__control sk-hidden--visually\" id=\"sk-estimator-id-1\" type=\"checkbox\" checked><label for=\"sk-estimator-id-1\" class=\"sk-toggleable__label sk-toggleable__label-arrow\">DecisionTreeClassifier</label><div class=\"sk-toggleable__content\"><pre>DecisionTreeClassifier()</pre></div></div></div></div></div>"
      ],
      "text/plain": [
       "DecisionTreeClassifier()"
      ]
     },
     "execution_count": 26,
     "metadata": {},
     "output_type": "execute_result"
    }
   ],
   "source": [
    "clf = DecisionTreeClassifier()\n",
    "clf.fit(X_train, y_train)"
   ]
  },
  {
   "cell_type": "code",
   "execution_count": 27,
   "id": "9c50acc4",
   "metadata": {
    "execution": {
     "iopub.execute_input": "2023-03-20T15:15:57.229426Z",
     "iopub.status.busy": "2023-03-20T15:15:57.229116Z",
     "iopub.status.idle": "2023-03-20T15:15:57.359579Z",
     "shell.execute_reply": "2023-03-20T15:15:57.358554Z"
    },
    "papermill": {
     "duration": 0.146469,
     "end_time": "2023-03-20T15:15:57.362423",
     "exception": false,
     "start_time": "2023-03-20T15:15:57.215954",
     "status": "completed"
    },
    "tags": []
   },
   "outputs": [
    {
     "name": "stdout",
     "output_type": "stream",
     "text": [
      "              precision    recall  f1-score   support\n",
      "\n",
      "         pop       0.53      0.54      0.54      2400\n",
      "        rock       0.53      0.52      0.53      2400\n",
      "\n",
      "    accuracy                           0.53      4800\n",
      "   macro avg       0.53      0.53      0.53      4800\n",
      "weighted avg       0.53      0.53      0.53      4800\n",
      "\n"
     ]
    }
   ],
   "source": [
    "y_pred = clf.predict(X_test)\n",
    "print(classification_report(y_test, y_pred))"
   ]
  },
  {
   "cell_type": "code",
   "execution_count": 28,
   "id": "8866c3c3",
   "metadata": {
    "execution": {
     "iopub.execute_input": "2023-03-20T15:15:57.430941Z",
     "iopub.status.busy": "2023-03-20T15:15:57.430494Z",
     "iopub.status.idle": "2023-03-20T15:15:57.559526Z",
     "shell.execute_reply": "2023-03-20T15:15:57.558711Z"
    },
    "papermill": {
     "duration": 0.166184,
     "end_time": "2023-03-20T15:15:57.562334",
     "exception": false,
     "start_time": "2023-03-20T15:15:57.396150",
     "status": "completed"
    },
    "tags": []
   },
   "outputs": [],
   "source": [
    "acc = accuracy_score(y_test, y_pred)\n",
    "pre = precision_score(y_test, y_pred, average=avg_par)\n",
    "rec = recall_score(y_test, y_pred, average=avg_par)\n",
    "f1 = f1_score(y_test, y_pred, average=avg_par)\n",
    "\n",
    "metrics_data['Global']['DecisionTree'] = {'Accuracy': acc, 'Precision': pre, 'Recall': rec, 'F1': f1}"
   ]
  },
  {
   "cell_type": "markdown",
   "id": "28aa5a63",
   "metadata": {
    "papermill": {
     "duration": 0.033367,
     "end_time": "2023-03-20T15:15:57.628997",
     "exception": false,
     "start_time": "2023-03-20T15:15:57.595630",
     "status": "completed"
    },
    "tags": []
   },
   "source": [
    "**Random Forest**"
   ]
  },
  {
   "cell_type": "code",
   "execution_count": 29,
   "id": "0e5e2310",
   "metadata": {
    "execution": {
     "iopub.execute_input": "2023-03-20T15:15:57.662424Z",
     "iopub.status.busy": "2023-03-20T15:15:57.661655Z",
     "iopub.status.idle": "2023-03-20T15:16:01.663851Z",
     "shell.execute_reply": "2023-03-20T15:16:01.662889Z"
    },
    "papermill": {
     "duration": 4.018312,
     "end_time": "2023-03-20T15:16:01.666699",
     "exception": false,
     "start_time": "2023-03-20T15:15:57.648387",
     "status": "completed"
    },
    "tags": []
   },
   "outputs": [
    {
     "data": {
      "text/html": [
       "<style>#sk-container-id-2 {color: black;background-color: white;}#sk-container-id-2 pre{padding: 0;}#sk-container-id-2 div.sk-toggleable {background-color: white;}#sk-container-id-2 label.sk-toggleable__label {cursor: pointer;display: block;width: 100%;margin-bottom: 0;padding: 0.3em;box-sizing: border-box;text-align: center;}#sk-container-id-2 label.sk-toggleable__label-arrow:before {content: \"▸\";float: left;margin-right: 0.25em;color: #696969;}#sk-container-id-2 label.sk-toggleable__label-arrow:hover:before {color: black;}#sk-container-id-2 div.sk-estimator:hover label.sk-toggleable__label-arrow:before {color: black;}#sk-container-id-2 div.sk-toggleable__content {max-height: 0;max-width: 0;overflow: hidden;text-align: left;background-color: #f0f8ff;}#sk-container-id-2 div.sk-toggleable__content pre {margin: 0.2em;color: black;border-radius: 0.25em;background-color: #f0f8ff;}#sk-container-id-2 input.sk-toggleable__control:checked~div.sk-toggleable__content {max-height: 200px;max-width: 100%;overflow: auto;}#sk-container-id-2 input.sk-toggleable__control:checked~label.sk-toggleable__label-arrow:before {content: \"▾\";}#sk-container-id-2 div.sk-estimator input.sk-toggleable__control:checked~label.sk-toggleable__label {background-color: #d4ebff;}#sk-container-id-2 div.sk-label input.sk-toggleable__control:checked~label.sk-toggleable__label {background-color: #d4ebff;}#sk-container-id-2 input.sk-hidden--visually {border: 0;clip: rect(1px 1px 1px 1px);clip: rect(1px, 1px, 1px, 1px);height: 1px;margin: -1px;overflow: hidden;padding: 0;position: absolute;width: 1px;}#sk-container-id-2 div.sk-estimator {font-family: monospace;background-color: #f0f8ff;border: 1px dotted black;border-radius: 0.25em;box-sizing: border-box;margin-bottom: 0.5em;}#sk-container-id-2 div.sk-estimator:hover {background-color: #d4ebff;}#sk-container-id-2 div.sk-parallel-item::after {content: \"\";width: 100%;border-bottom: 1px solid gray;flex-grow: 1;}#sk-container-id-2 div.sk-label:hover label.sk-toggleable__label {background-color: #d4ebff;}#sk-container-id-2 div.sk-serial::before {content: \"\";position: absolute;border-left: 1px solid gray;box-sizing: border-box;top: 0;bottom: 0;left: 50%;z-index: 0;}#sk-container-id-2 div.sk-serial {display: flex;flex-direction: column;align-items: center;background-color: white;padding-right: 0.2em;padding-left: 0.2em;position: relative;}#sk-container-id-2 div.sk-item {position: relative;z-index: 1;}#sk-container-id-2 div.sk-parallel {display: flex;align-items: stretch;justify-content: center;background-color: white;position: relative;}#sk-container-id-2 div.sk-item::before, #sk-container-id-2 div.sk-parallel-item::before {content: \"\";position: absolute;border-left: 1px solid gray;box-sizing: border-box;top: 0;bottom: 0;left: 50%;z-index: -1;}#sk-container-id-2 div.sk-parallel-item {display: flex;flex-direction: column;z-index: 1;position: relative;background-color: white;}#sk-container-id-2 div.sk-parallel-item:first-child::after {align-self: flex-end;width: 50%;}#sk-container-id-2 div.sk-parallel-item:last-child::after {align-self: flex-start;width: 50%;}#sk-container-id-2 div.sk-parallel-item:only-child::after {width: 0;}#sk-container-id-2 div.sk-dashed-wrapped {border: 1px dashed gray;margin: 0 0.4em 0.5em 0.4em;box-sizing: border-box;padding-bottom: 0.4em;background-color: white;}#sk-container-id-2 div.sk-label label {font-family: monospace;font-weight: bold;display: inline-block;line-height: 1.2em;}#sk-container-id-2 div.sk-label-container {text-align: center;}#sk-container-id-2 div.sk-container {/* jupyter's `normalize.less` sets `[hidden] { display: none; }` but bootstrap.min.css set `[hidden] { display: none !important; }` so we also need the `!important` here to be able to override the default hidden behavior on the sphinx rendered scikit-learn.org. See: https://github.com/scikit-learn/scikit-learn/issues/21755 */display: inline-block !important;position: relative;}#sk-container-id-2 div.sk-text-repr-fallback {display: none;}</style><div id=\"sk-container-id-2\" class=\"sk-top-container\"><div class=\"sk-text-repr-fallback\"><pre>RandomForestClassifier(random_state=42)</pre><b>In a Jupyter environment, please rerun this cell to show the HTML representation or trust the notebook. <br />On GitHub, the HTML representation is unable to render, please try loading this page with nbviewer.org.</b></div><div class=\"sk-container\" hidden><div class=\"sk-item\"><div class=\"sk-estimator sk-toggleable\"><input class=\"sk-toggleable__control sk-hidden--visually\" id=\"sk-estimator-id-2\" type=\"checkbox\" checked><label for=\"sk-estimator-id-2\" class=\"sk-toggleable__label sk-toggleable__label-arrow\">RandomForestClassifier</label><div class=\"sk-toggleable__content\"><pre>RandomForestClassifier(random_state=42)</pre></div></div></div></div></div>"
      ],
      "text/plain": [
       "RandomForestClassifier(random_state=42)"
      ]
     },
     "execution_count": 29,
     "metadata": {},
     "output_type": "execute_result"
    }
   ],
   "source": [
    "clf = RandomForestClassifier(random_state=42)\n",
    "clf.fit(X_train, y_train)"
   ]
  },
  {
   "cell_type": "code",
   "execution_count": 30,
   "id": "4bd1304b",
   "metadata": {
    "execution": {
     "iopub.execute_input": "2023-03-20T15:16:01.735313Z",
     "iopub.status.busy": "2023-03-20T15:16:01.734993Z",
     "iopub.status.idle": "2023-03-20T15:16:02.002472Z",
     "shell.execute_reply": "2023-03-20T15:16:02.001516Z"
    },
    "papermill": {
     "duration": 0.305255,
     "end_time": "2023-03-20T15:16:02.005388",
     "exception": false,
     "start_time": "2023-03-20T15:16:01.700133",
     "status": "completed"
    },
    "tags": []
   },
   "outputs": [
    {
     "name": "stdout",
     "output_type": "stream",
     "text": [
      "              precision    recall  f1-score   support\n",
      "\n",
      "         pop       0.56      0.60      0.58      2400\n",
      "        rock       0.57      0.53      0.55      2400\n",
      "\n",
      "    accuracy                           0.57      4800\n",
      "   macro avg       0.57      0.57      0.57      4800\n",
      "weighted avg       0.57      0.57      0.57      4800\n",
      "\n"
     ]
    }
   ],
   "source": [
    "y_pred = clf.predict(X_test)\n",
    "print(classification_report(y_test, y_pred))"
   ]
  },
  {
   "cell_type": "code",
   "execution_count": 31,
   "id": "43174ba2",
   "metadata": {
    "execution": {
     "iopub.execute_input": "2023-03-20T15:16:02.075081Z",
     "iopub.status.busy": "2023-03-20T15:16:02.074791Z",
     "iopub.status.idle": "2023-03-20T15:16:02.192702Z",
     "shell.execute_reply": "2023-03-20T15:16:02.191880Z"
    },
    "papermill": {
     "duration": 0.155369,
     "end_time": "2023-03-20T15:16:02.194754",
     "exception": false,
     "start_time": "2023-03-20T15:16:02.039385",
     "status": "completed"
    },
    "tags": []
   },
   "outputs": [],
   "source": [
    "acc = accuracy_score(y_test, y_pred)\n",
    "pre = precision_score(y_test, y_pred, average=avg_par)\n",
    "rec = recall_score(y_test, y_pred, average=avg_par)\n",
    "f1 = f1_score(y_test, y_pred, average=avg_par)\n",
    "\n",
    "metrics_data['Global']['RandomForest'] = {'Accuracy': acc, 'Precision': pre, 'Recall': rec, 'F1': f1}"
   ]
  },
  {
   "cell_type": "markdown",
   "id": "22c98ac5",
   "metadata": {
    "papermill": {
     "duration": 0.011875,
     "end_time": "2023-03-20T15:16:02.221938",
     "exception": false,
     "start_time": "2023-03-20T15:16:02.210063",
     "status": "completed"
    },
    "tags": []
   },
   "source": [
    "**LightGBM**"
   ]
  },
  {
   "cell_type": "code",
   "execution_count": 32,
   "id": "c93b818c",
   "metadata": {
    "execution": {
     "iopub.execute_input": "2023-03-20T15:16:02.247623Z",
     "iopub.status.busy": "2023-03-20T15:16:02.247301Z",
     "iopub.status.idle": "2023-03-20T15:16:02.384029Z",
     "shell.execute_reply": "2023-03-20T15:16:02.383320Z"
    },
    "papermill": {
     "duration": 0.151665,
     "end_time": "2023-03-20T15:16:02.385703",
     "exception": false,
     "start_time": "2023-03-20T15:16:02.234038",
     "status": "completed"
    },
    "tags": []
   },
   "outputs": [
    {
     "data": {
      "text/html": [
       "<style>#sk-container-id-3 {color: black;background-color: white;}#sk-container-id-3 pre{padding: 0;}#sk-container-id-3 div.sk-toggleable {background-color: white;}#sk-container-id-3 label.sk-toggleable__label {cursor: pointer;display: block;width: 100%;margin-bottom: 0;padding: 0.3em;box-sizing: border-box;text-align: center;}#sk-container-id-3 label.sk-toggleable__label-arrow:before {content: \"▸\";float: left;margin-right: 0.25em;color: #696969;}#sk-container-id-3 label.sk-toggleable__label-arrow:hover:before {color: black;}#sk-container-id-3 div.sk-estimator:hover label.sk-toggleable__label-arrow:before {color: black;}#sk-container-id-3 div.sk-toggleable__content {max-height: 0;max-width: 0;overflow: hidden;text-align: left;background-color: #f0f8ff;}#sk-container-id-3 div.sk-toggleable__content pre {margin: 0.2em;color: black;border-radius: 0.25em;background-color: #f0f8ff;}#sk-container-id-3 input.sk-toggleable__control:checked~div.sk-toggleable__content {max-height: 200px;max-width: 100%;overflow: auto;}#sk-container-id-3 input.sk-toggleable__control:checked~label.sk-toggleable__label-arrow:before {content: \"▾\";}#sk-container-id-3 div.sk-estimator input.sk-toggleable__control:checked~label.sk-toggleable__label {background-color: #d4ebff;}#sk-container-id-3 div.sk-label input.sk-toggleable__control:checked~label.sk-toggleable__label {background-color: #d4ebff;}#sk-container-id-3 input.sk-hidden--visually {border: 0;clip: rect(1px 1px 1px 1px);clip: rect(1px, 1px, 1px, 1px);height: 1px;margin: -1px;overflow: hidden;padding: 0;position: absolute;width: 1px;}#sk-container-id-3 div.sk-estimator {font-family: monospace;background-color: #f0f8ff;border: 1px dotted black;border-radius: 0.25em;box-sizing: border-box;margin-bottom: 0.5em;}#sk-container-id-3 div.sk-estimator:hover {background-color: #d4ebff;}#sk-container-id-3 div.sk-parallel-item::after {content: \"\";width: 100%;border-bottom: 1px solid gray;flex-grow: 1;}#sk-container-id-3 div.sk-label:hover label.sk-toggleable__label {background-color: #d4ebff;}#sk-container-id-3 div.sk-serial::before {content: \"\";position: absolute;border-left: 1px solid gray;box-sizing: border-box;top: 0;bottom: 0;left: 50%;z-index: 0;}#sk-container-id-3 div.sk-serial {display: flex;flex-direction: column;align-items: center;background-color: white;padding-right: 0.2em;padding-left: 0.2em;position: relative;}#sk-container-id-3 div.sk-item {position: relative;z-index: 1;}#sk-container-id-3 div.sk-parallel {display: flex;align-items: stretch;justify-content: center;background-color: white;position: relative;}#sk-container-id-3 div.sk-item::before, #sk-container-id-3 div.sk-parallel-item::before {content: \"\";position: absolute;border-left: 1px solid gray;box-sizing: border-box;top: 0;bottom: 0;left: 50%;z-index: -1;}#sk-container-id-3 div.sk-parallel-item {display: flex;flex-direction: column;z-index: 1;position: relative;background-color: white;}#sk-container-id-3 div.sk-parallel-item:first-child::after {align-self: flex-end;width: 50%;}#sk-container-id-3 div.sk-parallel-item:last-child::after {align-self: flex-start;width: 50%;}#sk-container-id-3 div.sk-parallel-item:only-child::after {width: 0;}#sk-container-id-3 div.sk-dashed-wrapped {border: 1px dashed gray;margin: 0 0.4em 0.5em 0.4em;box-sizing: border-box;padding-bottom: 0.4em;background-color: white;}#sk-container-id-3 div.sk-label label {font-family: monospace;font-weight: bold;display: inline-block;line-height: 1.2em;}#sk-container-id-3 div.sk-label-container {text-align: center;}#sk-container-id-3 div.sk-container {/* jupyter's `normalize.less` sets `[hidden] { display: none; }` but bootstrap.min.css set `[hidden] { display: none !important; }` so we also need the `!important` here to be able to override the default hidden behavior on the sphinx rendered scikit-learn.org. See: https://github.com/scikit-learn/scikit-learn/issues/21755 */display: inline-block !important;position: relative;}#sk-container-id-3 div.sk-text-repr-fallback {display: none;}</style><div id=\"sk-container-id-3\" class=\"sk-top-container\"><div class=\"sk-text-repr-fallback\"><pre>LGBMClassifier(objective=&#x27;binary&#x27;)</pre><b>In a Jupyter environment, please rerun this cell to show the HTML representation or trust the notebook. <br />On GitHub, the HTML representation is unable to render, please try loading this page with nbviewer.org.</b></div><div class=\"sk-container\" hidden><div class=\"sk-item\"><div class=\"sk-estimator sk-toggleable\"><input class=\"sk-toggleable__control sk-hidden--visually\" id=\"sk-estimator-id-3\" type=\"checkbox\" checked><label for=\"sk-estimator-id-3\" class=\"sk-toggleable__label sk-toggleable__label-arrow\">LGBMClassifier</label><div class=\"sk-toggleable__content\"><pre>LGBMClassifier(objective=&#x27;binary&#x27;)</pre></div></div></div></div></div>"
      ],
      "text/plain": [
       "LGBMClassifier(objective='binary')"
      ]
     },
     "execution_count": 32,
     "metadata": {},
     "output_type": "execute_result"
    }
   ],
   "source": [
    "clf = lgbm.LGBMClassifier(objective=obj_par) \n",
    "clf.fit(X_train, y_train)"
   ]
  },
  {
   "cell_type": "code",
   "execution_count": 33,
   "id": "600a663a",
   "metadata": {
    "execution": {
     "iopub.execute_input": "2023-03-20T15:16:02.412276Z",
     "iopub.status.busy": "2023-03-20T15:16:02.411964Z",
     "iopub.status.idle": "2023-03-20T15:16:02.555807Z",
     "shell.execute_reply": "2023-03-20T15:16:02.554888Z"
    },
    "papermill": {
     "duration": 0.159745,
     "end_time": "2023-03-20T15:16:02.558472",
     "exception": false,
     "start_time": "2023-03-20T15:16:02.398727",
     "status": "completed"
    },
    "tags": []
   },
   "outputs": [
    {
     "name": "stdout",
     "output_type": "stream",
     "text": [
      "              precision    recall  f1-score   support\n",
      "\n",
      "         pop       0.58      0.61      0.59      2400\n",
      "        rock       0.59      0.56      0.57      2400\n",
      "\n",
      "    accuracy                           0.58      4800\n",
      "   macro avg       0.58      0.58      0.58      4800\n",
      "weighted avg       0.58      0.58      0.58      4800\n",
      "\n"
     ]
    }
   ],
   "source": [
    "y_pred = clf.predict(X_test)\n",
    "print(classification_report(y_test, y_pred))"
   ]
  },
  {
   "cell_type": "code",
   "execution_count": 34,
   "id": "508d831d",
   "metadata": {
    "execution": {
     "iopub.execute_input": "2023-03-20T15:16:02.629939Z",
     "iopub.status.busy": "2023-03-20T15:16:02.629646Z",
     "iopub.status.idle": "2023-03-20T15:16:02.769446Z",
     "shell.execute_reply": "2023-03-20T15:16:02.768551Z"
    },
    "papermill": {
     "duration": 0.178684,
     "end_time": "2023-03-20T15:16:02.772383",
     "exception": false,
     "start_time": "2023-03-20T15:16:02.593699",
     "status": "completed"
    },
    "tags": []
   },
   "outputs": [],
   "source": [
    "acc = accuracy_score(y_test, y_pred)\n",
    "pre = precision_score(y_test, y_pred, average=avg_par)\n",
    "rec = recall_score(y_test, y_pred, average=avg_par)\n",
    "f1 = f1_score(y_test, y_pred, average=avg_par)\n",
    "\n",
    "metrics_data['Global']['LightGBM'] = {'Accuracy': acc, 'Precision': pre, 'Recall': rec, 'F1': f1}"
   ]
  },
  {
   "cell_type": "markdown",
   "id": "14b86894",
   "metadata": {
    "papermill": {
     "duration": 0.034382,
     "end_time": "2023-03-20T15:16:02.841385",
     "exception": false,
     "start_time": "2023-03-20T15:16:02.807003",
     "status": "completed"
    },
    "tags": []
   },
   "source": [
    "### Time Series Classification"
   ]
  },
  {
   "cell_type": "markdown",
   "id": "84c55533",
   "metadata": {
    "papermill": {
     "duration": 0.011961,
     "end_time": "2023-03-20T15:16:02.872412",
     "exception": false,
     "start_time": "2023-03-20T15:16:02.860451",
     "status": "completed"
    },
    "tags": []
   },
   "source": [
    "#### Learning Shapelets"
   ]
  },
  {
   "cell_type": "code",
   "execution_count": 35,
   "id": "488d8eb7",
   "metadata": {
    "execution": {
     "iopub.execute_input": "2023-03-20T15:16:02.898956Z",
     "iopub.status.busy": "2023-03-20T15:16:02.898038Z",
     "iopub.status.idle": "2023-03-20T15:16:05.105395Z",
     "shell.execute_reply": "2023-03-20T15:16:05.104441Z"
    },
    "papermill": {
     "duration": 2.223744,
     "end_time": "2023-03-20T15:16:05.108343",
     "exception": false,
     "start_time": "2023-03-20T15:16:02.884599",
     "status": "completed"
    },
    "tags": []
   },
   "outputs": [
    {
     "name": "stderr",
     "output_type": "stream",
     "text": [
      "2023-03-20 16:16:02.909154: I tensorflow/core/platform/cpu_feature_guard.cc:193] This TensorFlow binary is optimized with oneAPI Deep Neural Network Library (oneDNN) to use the following CPU instructions in performance-critical operations:  AVX2 FMA\n",
      "To enable them in other operations, rebuild TensorFlow with the appropriate compiler flags.\n",
      "2023-03-20 16:16:03.246443: W tensorflow/compiler/xla/stream_executor/platform/default/dso_loader.cc:64] Could not load dynamic library 'libcudart.so.11.0'; dlerror: libcudart.so.11.0: cannot open shared object file: No such file or directory\n",
      "2023-03-20 16:16:03.246470: I tensorflow/compiler/xla/stream_executor/cuda/cudart_stub.cc:29] Ignore above cudart dlerror if you do not have a GPU set up on your machine.\n"
     ]
    },
    {
     "name": "stderr",
     "output_type": "stream",
     "text": [
      "2023-03-20 16:16:04.039661: W tensorflow/compiler/xla/stream_executor/platform/default/dso_loader.cc:64] Could not load dynamic library 'libnvinfer.so.7'; dlerror: libnvinfer.so.7: cannot open shared object file: No such file or directory\n",
      "2023-03-20 16:16:04.039743: W tensorflow/compiler/xla/stream_executor/platform/default/dso_loader.cc:64] Could not load dynamic library 'libnvinfer_plugin.so.7'; dlerror: libnvinfer_plugin.so.7: cannot open shared object file: No such file or directory\n",
      "2023-03-20 16:16:04.039752: W tensorflow/compiler/tf2tensorrt/utils/py_utils.cc:38] TF-TRT Warning: Cannot dlopen some TensorRT libraries. If you would like to use Nvidia GPU with TensorRT, please make sure the missing libraries mentioned above are installed properly.\n"
     ]
    }
   ],
   "source": [
    "from tslearn.shapelets import LearningShapelets, grabocka_params_to_shapelet_size_dict"
   ]
  },
  {
   "cell_type": "code",
   "execution_count": 36,
   "id": "eb677959",
   "metadata": {
    "execution": {
     "iopub.execute_input": "2023-03-20T15:16:05.183256Z",
     "iopub.status.busy": "2023-03-20T15:16:05.182422Z",
     "iopub.status.idle": "2023-03-20T15:16:05.190189Z",
     "shell.execute_reply": "2023-03-20T15:16:05.188698Z"
    },
    "papermill": {
     "duration": 0.051439,
     "end_time": "2023-03-20T15:16:05.194744",
     "exception": false,
     "start_time": "2023-03-20T15:16:05.143305",
     "status": "completed"
    },
    "tags": []
   },
   "outputs": [],
   "source": [
    "n_ts, ts_sz, _ = ts_train.shape\n",
    "n_classes = len(set(y_train))"
   ]
  },
  {
   "cell_type": "code",
   "execution_count": 37,
   "id": "776ed3dd",
   "metadata": {
    "execution": {
     "iopub.execute_input": "2023-03-20T15:16:05.232876Z",
     "iopub.status.busy": "2023-03-20T15:16:05.232413Z",
     "iopub.status.idle": "2023-03-20T15:16:05.241553Z",
     "shell.execute_reply": "2023-03-20T15:16:05.240071Z"
    },
    "papermill": {
     "duration": 0.024794,
     "end_time": "2023-03-20T15:16:05.243466",
     "exception": false,
     "start_time": "2023-03-20T15:16:05.218672",
     "status": "completed"
    },
    "tags": []
   },
   "outputs": [
    {
     "name": "stdout",
     "output_type": "stream",
     "text": [
      "n_ts 19200\n",
      "ts_sz 100\n",
      "n_classes 2\n",
      "shapelet_sizes {10: 6}\n"
     ]
    }
   ],
   "source": [
    "# Set the number of shapelets per size as done in the original paper\n",
    "g_shapelet_sizes = grabocka_params_to_shapelet_size_dict(n_ts=n_ts,\n",
    "                                                         ts_sz=ts_sz,\n",
    "                                                         n_classes=n_classes,\n",
    "                                                         l=0.1,\n",
    "                                                         r=1)\n",
    "\n",
    "print('n_ts', n_ts)\n",
    "print('ts_sz', ts_sz)\n",
    "print('n_classes', n_classes)\n",
    "print('shapelet_sizes', g_shapelet_sizes)"
   ]
  },
  {
   "cell_type": "code",
   "execution_count": 38,
   "id": "90ed707e",
   "metadata": {
    "execution": {
     "iopub.execute_input": "2023-03-20T15:16:05.270521Z",
     "iopub.status.busy": "2023-03-20T15:16:05.270228Z",
     "iopub.status.idle": "2023-03-20T15:16:05.276777Z",
     "shell.execute_reply": "2023-03-20T15:16:05.275952Z"
    },
    "papermill": {
     "duration": 0.0222,
     "end_time": "2023-03-20T15:16:05.278252",
     "exception": false,
     "start_time": "2023-03-20T15:16:05.256052",
     "status": "completed"
    },
    "tags": []
   },
   "outputs": [
    {
     "data": {
      "text/plain": [
       "{10: 6, 20: 6, 5: 6}"
      ]
     },
     "execution_count": 38,
     "metadata": {},
     "output_type": "execute_result"
    }
   ],
   "source": [
    "shapelet_sizes = {}\n",
    "for key in g_shapelet_sizes:\n",
    "    shapelet_sizes[key] = g_shapelet_sizes[key]\n",
    "    shapelet_sizes[key*2] = g_shapelet_sizes[key]\n",
    "    shapelet_sizes[key//2] = g_shapelet_sizes[key]\n",
    "shapelet_sizes"
   ]
  },
  {
   "cell_type": "code",
   "execution_count": 39,
   "id": "3507fb9c",
   "metadata": {
    "execution": {
     "iopub.execute_input": "2023-03-20T15:16:05.304304Z",
     "iopub.status.busy": "2023-03-20T15:16:05.304043Z",
     "iopub.status.idle": "2023-03-20T15:16:05.308840Z",
     "shell.execute_reply": "2023-03-20T15:16:05.308131Z"
    },
    "papermill": {
     "duration": 0.019921,
     "end_time": "2023-03-20T15:16:05.310646",
     "exception": false,
     "start_time": "2023-03-20T15:16:05.290725",
     "status": "completed"
    },
    "tags": []
   },
   "outputs": [
    {
     "name": "stderr",
     "output_type": "stream",
     "text": [
      "/home/mattiapggioli/lyrics2ts/.venv/lib/python3.9/site-packages/tslearn/shapelets/shapelets.py:354: FutureWarning: The default value for 'scale' is set to False in version 0.4 to ensure backward compatibility, but is likely to change in a future version.\n",
      "  warnings.warn(\"The default value for 'scale' is set to False \"\n"
     ]
    }
   ],
   "source": [
    "model = LearningShapelets(n_shapelets_per_size=shapelet_sizes,\n",
    "                          optimizer=\"adam\", \n",
    "                          weight_regularizer=.01, \n",
    "                          max_iter=max_iter, verbose=0, random_state=42)"
   ]
  },
  {
   "cell_type": "code",
   "execution_count": 40,
   "id": "73b1fe2e",
   "metadata": {
    "execution": {
     "iopub.execute_input": "2023-03-20T15:16:05.339284Z",
     "iopub.status.busy": "2023-03-20T15:16:05.338918Z",
     "iopub.status.idle": "2023-03-20T15:43:49.324893Z",
     "shell.execute_reply": "2023-03-20T15:43:49.324133Z"
    },
    "papermill": {
     "duration": 1664.08457,
     "end_time": "2023-03-20T15:43:49.410045",
     "exception": false,
     "start_time": "2023-03-20T15:16:05.325475",
     "status": "completed"
    },
    "tags": []
   },
   "outputs": [
    {
     "name": "stderr",
     "output_type": "stream",
     "text": [
      "2023-03-20 16:16:05.986730: W tensorflow/compiler/xla/stream_executor/platform/default/dso_loader.cc:64] Could not load dynamic library 'libcuda.so.1'; dlerror: libcuda.so.1: cannot open shared object file: No such file or directory\n",
      "2023-03-20 16:16:05.986753: W tensorflow/compiler/xla/stream_executor/cuda/cuda_driver.cc:265] failed call to cuInit: UNKNOWN ERROR (303)\n",
      "2023-03-20 16:16:05.986773: I tensorflow/compiler/xla/stream_executor/cuda/cuda_diagnostics.cc:156] kernel driver does not appear to be running on this host (mattiapggioli-ThinkPad-E595): /proc/driver/nvidia/version does not exist\n",
      "2023-03-20 16:16:05.986985: I tensorflow/core/platform/cpu_feature_guard.cc:193] This TensorFlow binary is optimized with oneAPI Deep Neural Network Library (oneDNN) to use the following CPU instructions in performance-critical operations:  AVX2 FMA\n",
      "To enable them in other operations, rebuild TensorFlow with the appropriate compiler flags.\n"
     ]
    },
    {
     "name": "stdout",
     "output_type": "stream",
     "text": [
      "CPU times: user 2h 29min 33s, sys: 7min 42s, total: 2h 37min 15s\n",
      "Wall time: 27min 43s\n"
     ]
    },
    {
     "data": {
      "text/html": [
       "<style>#sk-container-id-4 {color: black;background-color: white;}#sk-container-id-4 pre{padding: 0;}#sk-container-id-4 div.sk-toggleable {background-color: white;}#sk-container-id-4 label.sk-toggleable__label {cursor: pointer;display: block;width: 100%;margin-bottom: 0;padding: 0.3em;box-sizing: border-box;text-align: center;}#sk-container-id-4 label.sk-toggleable__label-arrow:before {content: \"▸\";float: left;margin-right: 0.25em;color: #696969;}#sk-container-id-4 label.sk-toggleable__label-arrow:hover:before {color: black;}#sk-container-id-4 div.sk-estimator:hover label.sk-toggleable__label-arrow:before {color: black;}#sk-container-id-4 div.sk-toggleable__content {max-height: 0;max-width: 0;overflow: hidden;text-align: left;background-color: #f0f8ff;}#sk-container-id-4 div.sk-toggleable__content pre {margin: 0.2em;color: black;border-radius: 0.25em;background-color: #f0f8ff;}#sk-container-id-4 input.sk-toggleable__control:checked~div.sk-toggleable__content {max-height: 200px;max-width: 100%;overflow: auto;}#sk-container-id-4 input.sk-toggleable__control:checked~label.sk-toggleable__label-arrow:before {content: \"▾\";}#sk-container-id-4 div.sk-estimator input.sk-toggleable__control:checked~label.sk-toggleable__label {background-color: #d4ebff;}#sk-container-id-4 div.sk-label input.sk-toggleable__control:checked~label.sk-toggleable__label {background-color: #d4ebff;}#sk-container-id-4 input.sk-hidden--visually {border: 0;clip: rect(1px 1px 1px 1px);clip: rect(1px, 1px, 1px, 1px);height: 1px;margin: -1px;overflow: hidden;padding: 0;position: absolute;width: 1px;}#sk-container-id-4 div.sk-estimator {font-family: monospace;background-color: #f0f8ff;border: 1px dotted black;border-radius: 0.25em;box-sizing: border-box;margin-bottom: 0.5em;}#sk-container-id-4 div.sk-estimator:hover {background-color: #d4ebff;}#sk-container-id-4 div.sk-parallel-item::after {content: \"\";width: 100%;border-bottom: 1px solid gray;flex-grow: 1;}#sk-container-id-4 div.sk-label:hover label.sk-toggleable__label {background-color: #d4ebff;}#sk-container-id-4 div.sk-serial::before {content: \"\";position: absolute;border-left: 1px solid gray;box-sizing: border-box;top: 0;bottom: 0;left: 50%;z-index: 0;}#sk-container-id-4 div.sk-serial {display: flex;flex-direction: column;align-items: center;background-color: white;padding-right: 0.2em;padding-left: 0.2em;position: relative;}#sk-container-id-4 div.sk-item {position: relative;z-index: 1;}#sk-container-id-4 div.sk-parallel {display: flex;align-items: stretch;justify-content: center;background-color: white;position: relative;}#sk-container-id-4 div.sk-item::before, #sk-container-id-4 div.sk-parallel-item::before {content: \"\";position: absolute;border-left: 1px solid gray;box-sizing: border-box;top: 0;bottom: 0;left: 50%;z-index: -1;}#sk-container-id-4 div.sk-parallel-item {display: flex;flex-direction: column;z-index: 1;position: relative;background-color: white;}#sk-container-id-4 div.sk-parallel-item:first-child::after {align-self: flex-end;width: 50%;}#sk-container-id-4 div.sk-parallel-item:last-child::after {align-self: flex-start;width: 50%;}#sk-container-id-4 div.sk-parallel-item:only-child::after {width: 0;}#sk-container-id-4 div.sk-dashed-wrapped {border: 1px dashed gray;margin: 0 0.4em 0.5em 0.4em;box-sizing: border-box;padding-bottom: 0.4em;background-color: white;}#sk-container-id-4 div.sk-label label {font-family: monospace;font-weight: bold;display: inline-block;line-height: 1.2em;}#sk-container-id-4 div.sk-label-container {text-align: center;}#sk-container-id-4 div.sk-container {/* jupyter's `normalize.less` sets `[hidden] { display: none; }` but bootstrap.min.css set `[hidden] { display: none !important; }` so we also need the `!important` here to be able to override the default hidden behavior on the sphinx rendered scikit-learn.org. See: https://github.com/scikit-learn/scikit-learn/issues/21755 */display: inline-block !important;position: relative;}#sk-container-id-4 div.sk-text-repr-fallback {display: none;}</style><div id=\"sk-container-id-4\" class=\"sk-top-container\"><div class=\"sk-text-repr-fallback\"><pre>LearningShapelets(max_iter=2000, n_shapelets_per_size={5: 6, 10: 6, 20: 6},\n",
       "                  optimizer=&#x27;adam&#x27;, random_state=42, weight_regularizer=0.01)</pre><b>In a Jupyter environment, please rerun this cell to show the HTML representation or trust the notebook. <br />On GitHub, the HTML representation is unable to render, please try loading this page with nbviewer.org.</b></div><div class=\"sk-container\" hidden><div class=\"sk-item\"><div class=\"sk-estimator sk-toggleable\"><input class=\"sk-toggleable__control sk-hidden--visually\" id=\"sk-estimator-id-4\" type=\"checkbox\" checked><label for=\"sk-estimator-id-4\" class=\"sk-toggleable__label sk-toggleable__label-arrow\">LearningShapelets</label><div class=\"sk-toggleable__content\"><pre>LearningShapelets(max_iter=2000, n_shapelets_per_size={5: 6, 10: 6, 20: 6},\n",
       "                  optimizer=&#x27;adam&#x27;, random_state=42, weight_regularizer=0.01)</pre></div></div></div></div></div>"
      ],
      "text/plain": [
       "LearningShapelets(max_iter=2000, n_shapelets_per_size={5: 6, 10: 6, 20: 6},\n",
       "                  optimizer='adam', random_state=42, weight_regularizer=0.01)"
      ]
     },
     "execution_count": 40,
     "metadata": {},
     "output_type": "execute_result"
    }
   ],
   "source": [
    "%%time\n",
    "model.fit(ts_train, y_train)"
   ]
  },
  {
   "cell_type": "code",
   "execution_count": 41,
   "id": "51706baa",
   "metadata": {
    "execution": {
     "iopub.execute_input": "2023-03-20T15:43:49.441668Z",
     "iopub.status.busy": "2023-03-20T15:43:49.441176Z",
     "iopub.status.idle": "2023-03-20T15:43:49.474980Z",
     "shell.execute_reply": "2023-03-20T15:43:49.473954Z"
    },
    "papermill": {
     "duration": 0.051866,
     "end_time": "2023-03-20T15:43:49.477755",
     "exception": false,
     "start_time": "2023-03-20T15:43:49.425889",
     "status": "completed"
    },
    "tags": []
   },
   "outputs": [],
   "source": [
    "model.to_pickle(f'{data_path}/shapelets.pkl')"
   ]
  },
  {
   "cell_type": "markdown",
   "id": "309f70dc",
   "metadata": {
    "papermill": {
     "duration": 0.020357,
     "end_time": "2023-03-20T15:43:49.521485",
     "exception": false,
     "start_time": "2023-03-20T15:43:49.501128",
     "status": "completed"
    },
    "tags": []
   },
   "source": [
    "#### Shapelet-Based Classification"
   ]
  },
  {
   "cell_type": "code",
   "execution_count": 42,
   "id": "60125dff",
   "metadata": {
    "execution": {
     "iopub.execute_input": "2023-03-20T15:43:49.556317Z",
     "iopub.status.busy": "2023-03-20T15:43:49.555167Z",
     "iopub.status.idle": "2023-03-20T15:43:49.561234Z",
     "shell.execute_reply": "2023-03-20T15:43:49.560060Z"
    },
    "papermill": {
     "duration": 0.024813,
     "end_time": "2023-03-20T15:43:49.563024",
     "exception": false,
     "start_time": "2023-03-20T15:43:49.538211",
     "status": "completed"
    },
    "tags": []
   },
   "outputs": [],
   "source": [
    "metrics_data['Shapelets'] = {}"
   ]
  },
  {
   "cell_type": "code",
   "execution_count": 43,
   "id": "efb8984d",
   "metadata": {
    "execution": {
     "iopub.execute_input": "2023-03-20T15:43:49.594148Z",
     "iopub.status.busy": "2023-03-20T15:43:49.593624Z",
     "iopub.status.idle": "2023-03-20T15:43:51.496813Z",
     "shell.execute_reply": "2023-03-20T15:43:51.495972Z"
    },
    "papermill": {
     "duration": 1.921586,
     "end_time": "2023-03-20T15:43:51.499111",
     "exception": false,
     "start_time": "2023-03-20T15:43:49.577525",
     "status": "completed"
    },
    "tags": []
   },
   "outputs": [],
   "source": [
    "X_train = model.transform(ts_train)\n",
    "X_test = model.transform(ts_test)"
   ]
  },
  {
   "cell_type": "code",
   "execution_count": 44,
   "id": "2e6c0f22",
   "metadata": {
    "execution": {
     "iopub.execute_input": "2023-03-20T15:43:51.531129Z",
     "iopub.status.busy": "2023-03-20T15:43:51.530819Z",
     "iopub.status.idle": "2023-03-20T15:43:51.554583Z",
     "shell.execute_reply": "2023-03-20T15:43:51.553770Z"
    },
    "papermill": {
     "duration": 0.041857,
     "end_time": "2023-03-20T15:43:51.557266",
     "exception": false,
     "start_time": "2023-03-20T15:43:51.515409",
     "status": "completed"
    },
    "tags": []
   },
   "outputs": [
    {
     "data": {
      "text/html": [
       "<div>\n",
       "<style scoped>\n",
       "    .dataframe tbody tr th:only-of-type {\n",
       "        vertical-align: middle;\n",
       "    }\n",
       "\n",
       "    .dataframe tbody tr th {\n",
       "        vertical-align: top;\n",
       "    }\n",
       "\n",
       "    .dataframe thead th {\n",
       "        text-align: right;\n",
       "    }\n",
       "</style>\n",
       "<table border=\"1\" class=\"dataframe\">\n",
       "  <thead>\n",
       "    <tr style=\"text-align: right;\">\n",
       "      <th></th>\n",
       "      <th>0</th>\n",
       "      <th>1</th>\n",
       "      <th>2</th>\n",
       "      <th>3</th>\n",
       "      <th>4</th>\n",
       "      <th>5</th>\n",
       "      <th>6</th>\n",
       "      <th>7</th>\n",
       "      <th>8</th>\n",
       "      <th>9</th>\n",
       "      <th>10</th>\n",
       "      <th>11</th>\n",
       "      <th>12</th>\n",
       "      <th>13</th>\n",
       "      <th>14</th>\n",
       "      <th>15</th>\n",
       "      <th>16</th>\n",
       "      <th>17</th>\n",
       "    </tr>\n",
       "  </thead>\n",
       "  <tbody>\n",
       "    <tr>\n",
       "      <th>0</th>\n",
       "      <td>2.226741</td>\n",
       "      <td>2.332581</td>\n",
       "      <td>1.584603</td>\n",
       "      <td>2.150175</td>\n",
       "      <td>1.581295</td>\n",
       "      <td>0.321897</td>\n",
       "      <td>2.644773</td>\n",
       "      <td>2.440866</td>\n",
       "      <td>2.189384</td>\n",
       "      <td>1.875656</td>\n",
       "      <td>1.954716</td>\n",
       "      <td>2.308261</td>\n",
       "      <td>5.332496</td>\n",
       "      <td>4.816531</td>\n",
       "      <td>4.110094</td>\n",
       "      <td>4.588735</td>\n",
       "      <td>4.350957</td>\n",
       "      <td>4.972763</td>\n",
       "    </tr>\n",
       "    <tr>\n",
       "      <th>1</th>\n",
       "      <td>3.111732</td>\n",
       "      <td>3.205119</td>\n",
       "      <td>2.251483</td>\n",
       "      <td>2.947854</td>\n",
       "      <td>2.411445</td>\n",
       "      <td>0.084999</td>\n",
       "      <td>3.198266</td>\n",
       "      <td>3.127592</td>\n",
       "      <td>2.892143</td>\n",
       "      <td>2.624799</td>\n",
       "      <td>1.872918</td>\n",
       "      <td>3.169791</td>\n",
       "      <td>4.970073</td>\n",
       "      <td>5.725552</td>\n",
       "      <td>3.748694</td>\n",
       "      <td>4.247174</td>\n",
       "      <td>4.017075</td>\n",
       "      <td>4.565396</td>\n",
       "    </tr>\n",
       "    <tr>\n",
       "      <th>2</th>\n",
       "      <td>2.273453</td>\n",
       "      <td>2.349285</td>\n",
       "      <td>1.661932</td>\n",
       "      <td>2.338827</td>\n",
       "      <td>1.772542</td>\n",
       "      <td>0.118929</td>\n",
       "      <td>2.670496</td>\n",
       "      <td>2.560105</td>\n",
       "      <td>2.216208</td>\n",
       "      <td>2.024962</td>\n",
       "      <td>1.849783</td>\n",
       "      <td>2.538893</td>\n",
       "      <td>4.996146</td>\n",
       "      <td>4.916919</td>\n",
       "      <td>3.685926</td>\n",
       "      <td>4.234381</td>\n",
       "      <td>4.056237</td>\n",
       "      <td>4.621160</td>\n",
       "    </tr>\n",
       "    <tr>\n",
       "      <th>3</th>\n",
       "      <td>2.263041</td>\n",
       "      <td>2.480796</td>\n",
       "      <td>1.571096</td>\n",
       "      <td>2.203204</td>\n",
       "      <td>1.703257</td>\n",
       "      <td>0.084540</td>\n",
       "      <td>2.785817</td>\n",
       "      <td>2.795725</td>\n",
       "      <td>2.575969</td>\n",
       "      <td>2.409883</td>\n",
       "      <td>1.615333</td>\n",
       "      <td>2.864253</td>\n",
       "      <td>4.734613</td>\n",
       "      <td>5.143262</td>\n",
       "      <td>3.587383</td>\n",
       "      <td>4.088061</td>\n",
       "      <td>3.797159</td>\n",
       "      <td>4.286518</td>\n",
       "    </tr>\n",
       "    <tr>\n",
       "      <th>4</th>\n",
       "      <td>2.474095</td>\n",
       "      <td>2.541643</td>\n",
       "      <td>1.724908</td>\n",
       "      <td>2.099767</td>\n",
       "      <td>1.806649</td>\n",
       "      <td>0.321897</td>\n",
       "      <td>2.611511</td>\n",
       "      <td>2.422744</td>\n",
       "      <td>2.341431</td>\n",
       "      <td>2.125060</td>\n",
       "      <td>2.034489</td>\n",
       "      <td>2.631168</td>\n",
       "      <td>5.155330</td>\n",
       "      <td>5.542788</td>\n",
       "      <td>4.181902</td>\n",
       "      <td>4.471099</td>\n",
       "      <td>4.263881</td>\n",
       "      <td>4.841973</td>\n",
       "    </tr>\n",
       "    <tr>\n",
       "      <th>...</th>\n",
       "      <td>...</td>\n",
       "      <td>...</td>\n",
       "      <td>...</td>\n",
       "      <td>...</td>\n",
       "      <td>...</td>\n",
       "      <td>...</td>\n",
       "      <td>...</td>\n",
       "      <td>...</td>\n",
       "      <td>...</td>\n",
       "      <td>...</td>\n",
       "      <td>...</td>\n",
       "      <td>...</td>\n",
       "      <td>...</td>\n",
       "      <td>...</td>\n",
       "      <td>...</td>\n",
       "      <td>...</td>\n",
       "      <td>...</td>\n",
       "      <td>...</td>\n",
       "    </tr>\n",
       "    <tr>\n",
       "      <th>4795</th>\n",
       "      <td>2.184237</td>\n",
       "      <td>2.334479</td>\n",
       "      <td>1.635750</td>\n",
       "      <td>2.379096</td>\n",
       "      <td>1.906252</td>\n",
       "      <td>0.064491</td>\n",
       "      <td>2.768332</td>\n",
       "      <td>2.798969</td>\n",
       "      <td>2.419362</td>\n",
       "      <td>2.480027</td>\n",
       "      <td>1.887777</td>\n",
       "      <td>2.990049</td>\n",
       "      <td>5.138179</td>\n",
       "      <td>5.611717</td>\n",
       "      <td>3.889757</td>\n",
       "      <td>4.450099</td>\n",
       "      <td>4.207828</td>\n",
       "      <td>4.747149</td>\n",
       "    </tr>\n",
       "    <tr>\n",
       "      <th>4796</th>\n",
       "      <td>1.828894</td>\n",
       "      <td>1.884603</td>\n",
       "      <td>1.515535</td>\n",
       "      <td>1.593725</td>\n",
       "      <td>1.632044</td>\n",
       "      <td>0.249489</td>\n",
       "      <td>2.330464</td>\n",
       "      <td>2.093600</td>\n",
       "      <td>2.081067</td>\n",
       "      <td>1.396111</td>\n",
       "      <td>1.674950</td>\n",
       "      <td>2.018719</td>\n",
       "      <td>4.705341</td>\n",
       "      <td>4.539745</td>\n",
       "      <td>3.476786</td>\n",
       "      <td>4.080874</td>\n",
       "      <td>3.892008</td>\n",
       "      <td>4.423755</td>\n",
       "    </tr>\n",
       "    <tr>\n",
       "      <th>4797</th>\n",
       "      <td>2.041191</td>\n",
       "      <td>2.044626</td>\n",
       "      <td>1.468954</td>\n",
       "      <td>1.870565</td>\n",
       "      <td>1.594378</td>\n",
       "      <td>0.251033</td>\n",
       "      <td>2.480691</td>\n",
       "      <td>2.483553</td>\n",
       "      <td>2.389273</td>\n",
       "      <td>2.151033</td>\n",
       "      <td>1.983411</td>\n",
       "      <td>2.080819</td>\n",
       "      <td>4.937071</td>\n",
       "      <td>4.820258</td>\n",
       "      <td>4.020550</td>\n",
       "      <td>4.060918</td>\n",
       "      <td>3.887033</td>\n",
       "      <td>4.578727</td>\n",
       "    </tr>\n",
       "    <tr>\n",
       "      <th>4798</th>\n",
       "      <td>2.242412</td>\n",
       "      <td>2.305583</td>\n",
       "      <td>1.681158</td>\n",
       "      <td>2.122058</td>\n",
       "      <td>1.717777</td>\n",
       "      <td>0.130415</td>\n",
       "      <td>2.604113</td>\n",
       "      <td>2.543264</td>\n",
       "      <td>2.349350</td>\n",
       "      <td>2.154301</td>\n",
       "      <td>1.692731</td>\n",
       "      <td>2.405561</td>\n",
       "      <td>4.853386</td>\n",
       "      <td>5.143154</td>\n",
       "      <td>3.687613</td>\n",
       "      <td>4.145714</td>\n",
       "      <td>3.892852</td>\n",
       "      <td>4.485407</td>\n",
       "    </tr>\n",
       "    <tr>\n",
       "      <th>4799</th>\n",
       "      <td>2.888752</td>\n",
       "      <td>2.877827</td>\n",
       "      <td>2.012148</td>\n",
       "      <td>2.537349</td>\n",
       "      <td>2.103612</td>\n",
       "      <td>0.255670</td>\n",
       "      <td>2.737404</td>\n",
       "      <td>2.613832</td>\n",
       "      <td>2.619546</td>\n",
       "      <td>2.260887</td>\n",
       "      <td>2.095899</td>\n",
       "      <td>2.582773</td>\n",
       "      <td>4.986624</td>\n",
       "      <td>5.284040</td>\n",
       "      <td>3.718535</td>\n",
       "      <td>4.331707</td>\n",
       "      <td>4.095907</td>\n",
       "      <td>4.614388</td>\n",
       "    </tr>\n",
       "  </tbody>\n",
       "</table>\n",
       "<p>4800 rows × 18 columns</p>\n",
       "</div>"
      ],
      "text/plain": [
       "            0         1         2         3         4         5         6   \\\n",
       "0     2.226741  2.332581  1.584603  2.150175  1.581295  0.321897  2.644773   \n",
       "1     3.111732  3.205119  2.251483  2.947854  2.411445  0.084999  3.198266   \n",
       "2     2.273453  2.349285  1.661932  2.338827  1.772542  0.118929  2.670496   \n",
       "3     2.263041  2.480796  1.571096  2.203204  1.703257  0.084540  2.785817   \n",
       "4     2.474095  2.541643  1.724908  2.099767  1.806649  0.321897  2.611511   \n",
       "...        ...       ...       ...       ...       ...       ...       ...   \n",
       "4795  2.184237  2.334479  1.635750  2.379096  1.906252  0.064491  2.768332   \n",
       "4796  1.828894  1.884603  1.515535  1.593725  1.632044  0.249489  2.330464   \n",
       "4797  2.041191  2.044626  1.468954  1.870565  1.594378  0.251033  2.480691   \n",
       "4798  2.242412  2.305583  1.681158  2.122058  1.717777  0.130415  2.604113   \n",
       "4799  2.888752  2.877827  2.012148  2.537349  2.103612  0.255670  2.737404   \n",
       "\n",
       "            7         8         9         10        11        12        13  \\\n",
       "0     2.440866  2.189384  1.875656  1.954716  2.308261  5.332496  4.816531   \n",
       "1     3.127592  2.892143  2.624799  1.872918  3.169791  4.970073  5.725552   \n",
       "2     2.560105  2.216208  2.024962  1.849783  2.538893  4.996146  4.916919   \n",
       "3     2.795725  2.575969  2.409883  1.615333  2.864253  4.734613  5.143262   \n",
       "4     2.422744  2.341431  2.125060  2.034489  2.631168  5.155330  5.542788   \n",
       "...        ...       ...       ...       ...       ...       ...       ...   \n",
       "4795  2.798969  2.419362  2.480027  1.887777  2.990049  5.138179  5.611717   \n",
       "4796  2.093600  2.081067  1.396111  1.674950  2.018719  4.705341  4.539745   \n",
       "4797  2.483553  2.389273  2.151033  1.983411  2.080819  4.937071  4.820258   \n",
       "4798  2.543264  2.349350  2.154301  1.692731  2.405561  4.853386  5.143154   \n",
       "4799  2.613832  2.619546  2.260887  2.095899  2.582773  4.986624  5.284040   \n",
       "\n",
       "            14        15        16        17  \n",
       "0     4.110094  4.588735  4.350957  4.972763  \n",
       "1     3.748694  4.247174  4.017075  4.565396  \n",
       "2     3.685926  4.234381  4.056237  4.621160  \n",
       "3     3.587383  4.088061  3.797159  4.286518  \n",
       "4     4.181902  4.471099  4.263881  4.841973  \n",
       "...        ...       ...       ...       ...  \n",
       "4795  3.889757  4.450099  4.207828  4.747149  \n",
       "4796  3.476786  4.080874  3.892008  4.423755  \n",
       "4797  4.020550  4.060918  3.887033  4.578727  \n",
       "4798  3.687613  4.145714  3.892852  4.485407  \n",
       "4799  3.718535  4.331707  4.095907  4.614388  \n",
       "\n",
       "[4800 rows x 18 columns]"
      ]
     },
     "execution_count": 44,
     "metadata": {},
     "output_type": "execute_result"
    }
   ],
   "source": [
    "pd.DataFrame(X_test)"
   ]
  },
  {
   "cell_type": "markdown",
   "id": "5fa024f7",
   "metadata": {
    "execution": {
     "iopub.execute_input": "2023-02-07T23:47:19.876941Z",
     "iopub.status.busy": "2023-02-07T23:47:19.876424Z",
     "iopub.status.idle": "2023-02-07T23:47:20.399488Z",
     "shell.execute_reply": "2023-02-07T23:47:20.398142Z"
    },
    "papermill": {
     "duration": 0.022033,
     "end_time": "2023-03-20T15:43:51.616463",
     "exception": false,
     "start_time": "2023-03-20T15:43:51.594430",
     "status": "completed"
    },
    "tags": []
   },
   "source": [
    "**Decision Tree**"
   ]
  },
  {
   "cell_type": "code",
   "execution_count": 45,
   "id": "4f5400c9",
   "metadata": {
    "execution": {
     "iopub.execute_input": "2023-03-20T15:43:51.645833Z",
     "iopub.status.busy": "2023-03-20T15:43:51.644873Z",
     "iopub.status.idle": "2023-03-20T15:43:52.319294Z",
     "shell.execute_reply": "2023-03-20T15:43:52.318262Z"
    },
    "papermill": {
     "duration": 0.691672,
     "end_time": "2023-03-20T15:43:52.321667",
     "exception": false,
     "start_time": "2023-03-20T15:43:51.629995",
     "status": "completed"
    },
    "tags": []
   },
   "outputs": [
    {
     "data": {
      "text/html": [
       "<style>#sk-container-id-5 {color: black;background-color: white;}#sk-container-id-5 pre{padding: 0;}#sk-container-id-5 div.sk-toggleable {background-color: white;}#sk-container-id-5 label.sk-toggleable__label {cursor: pointer;display: block;width: 100%;margin-bottom: 0;padding: 0.3em;box-sizing: border-box;text-align: center;}#sk-container-id-5 label.sk-toggleable__label-arrow:before {content: \"▸\";float: left;margin-right: 0.25em;color: #696969;}#sk-container-id-5 label.sk-toggleable__label-arrow:hover:before {color: black;}#sk-container-id-5 div.sk-estimator:hover label.sk-toggleable__label-arrow:before {color: black;}#sk-container-id-5 div.sk-toggleable__content {max-height: 0;max-width: 0;overflow: hidden;text-align: left;background-color: #f0f8ff;}#sk-container-id-5 div.sk-toggleable__content pre {margin: 0.2em;color: black;border-radius: 0.25em;background-color: #f0f8ff;}#sk-container-id-5 input.sk-toggleable__control:checked~div.sk-toggleable__content {max-height: 200px;max-width: 100%;overflow: auto;}#sk-container-id-5 input.sk-toggleable__control:checked~label.sk-toggleable__label-arrow:before {content: \"▾\";}#sk-container-id-5 div.sk-estimator input.sk-toggleable__control:checked~label.sk-toggleable__label {background-color: #d4ebff;}#sk-container-id-5 div.sk-label input.sk-toggleable__control:checked~label.sk-toggleable__label {background-color: #d4ebff;}#sk-container-id-5 input.sk-hidden--visually {border: 0;clip: rect(1px 1px 1px 1px);clip: rect(1px, 1px, 1px, 1px);height: 1px;margin: -1px;overflow: hidden;padding: 0;position: absolute;width: 1px;}#sk-container-id-5 div.sk-estimator {font-family: monospace;background-color: #f0f8ff;border: 1px dotted black;border-radius: 0.25em;box-sizing: border-box;margin-bottom: 0.5em;}#sk-container-id-5 div.sk-estimator:hover {background-color: #d4ebff;}#sk-container-id-5 div.sk-parallel-item::after {content: \"\";width: 100%;border-bottom: 1px solid gray;flex-grow: 1;}#sk-container-id-5 div.sk-label:hover label.sk-toggleable__label {background-color: #d4ebff;}#sk-container-id-5 div.sk-serial::before {content: \"\";position: absolute;border-left: 1px solid gray;box-sizing: border-box;top: 0;bottom: 0;left: 50%;z-index: 0;}#sk-container-id-5 div.sk-serial {display: flex;flex-direction: column;align-items: center;background-color: white;padding-right: 0.2em;padding-left: 0.2em;position: relative;}#sk-container-id-5 div.sk-item {position: relative;z-index: 1;}#sk-container-id-5 div.sk-parallel {display: flex;align-items: stretch;justify-content: center;background-color: white;position: relative;}#sk-container-id-5 div.sk-item::before, #sk-container-id-5 div.sk-parallel-item::before {content: \"\";position: absolute;border-left: 1px solid gray;box-sizing: border-box;top: 0;bottom: 0;left: 50%;z-index: -1;}#sk-container-id-5 div.sk-parallel-item {display: flex;flex-direction: column;z-index: 1;position: relative;background-color: white;}#sk-container-id-5 div.sk-parallel-item:first-child::after {align-self: flex-end;width: 50%;}#sk-container-id-5 div.sk-parallel-item:last-child::after {align-self: flex-start;width: 50%;}#sk-container-id-5 div.sk-parallel-item:only-child::after {width: 0;}#sk-container-id-5 div.sk-dashed-wrapped {border: 1px dashed gray;margin: 0 0.4em 0.5em 0.4em;box-sizing: border-box;padding-bottom: 0.4em;background-color: white;}#sk-container-id-5 div.sk-label label {font-family: monospace;font-weight: bold;display: inline-block;line-height: 1.2em;}#sk-container-id-5 div.sk-label-container {text-align: center;}#sk-container-id-5 div.sk-container {/* jupyter's `normalize.less` sets `[hidden] { display: none; }` but bootstrap.min.css set `[hidden] { display: none !important; }` so we also need the `!important` here to be able to override the default hidden behavior on the sphinx rendered scikit-learn.org. See: https://github.com/scikit-learn/scikit-learn/issues/21755 */display: inline-block !important;position: relative;}#sk-container-id-5 div.sk-text-repr-fallback {display: none;}</style><div id=\"sk-container-id-5\" class=\"sk-top-container\"><div class=\"sk-text-repr-fallback\"><pre>DecisionTreeClassifier(random_state=42)</pre><b>In a Jupyter environment, please rerun this cell to show the HTML representation or trust the notebook. <br />On GitHub, the HTML representation is unable to render, please try loading this page with nbviewer.org.</b></div><div class=\"sk-container\" hidden><div class=\"sk-item\"><div class=\"sk-estimator sk-toggleable\"><input class=\"sk-toggleable__control sk-hidden--visually\" id=\"sk-estimator-id-5\" type=\"checkbox\" checked><label for=\"sk-estimator-id-5\" class=\"sk-toggleable__label sk-toggleable__label-arrow\">DecisionTreeClassifier</label><div class=\"sk-toggleable__content\"><pre>DecisionTreeClassifier(random_state=42)</pre></div></div></div></div></div>"
      ],
      "text/plain": [
       "DecisionTreeClassifier(random_state=42)"
      ]
     },
     "execution_count": 45,
     "metadata": {},
     "output_type": "execute_result"
    }
   ],
   "source": [
    "clf = DecisionTreeClassifier(random_state=42)\n",
    "clf.fit(X_train, y_train)"
   ]
  },
  {
   "cell_type": "code",
   "execution_count": 46,
   "id": "3b56d190",
   "metadata": {
    "execution": {
     "iopub.execute_input": "2023-03-20T15:43:52.352313Z",
     "iopub.status.busy": "2023-03-20T15:43:52.351908Z",
     "iopub.status.idle": "2023-03-20T15:43:52.488132Z",
     "shell.execute_reply": "2023-03-20T15:43:52.487206Z"
    },
    "papermill": {
     "duration": 0.153916,
     "end_time": "2023-03-20T15:43:52.491059",
     "exception": false,
     "start_time": "2023-03-20T15:43:52.337143",
     "status": "completed"
    },
    "tags": []
   },
   "outputs": [
    {
     "name": "stdout",
     "output_type": "stream",
     "text": [
      "              precision    recall  f1-score   support\n",
      "\n",
      "         pop       0.54      0.53      0.53      2400\n",
      "        rock       0.54      0.55      0.54      2400\n",
      "\n",
      "    accuracy                           0.54      4800\n",
      "   macro avg       0.54      0.54      0.54      4800\n",
      "weighted avg       0.54      0.54      0.54      4800\n",
      "\n"
     ]
    }
   ],
   "source": [
    "y_pred = clf.predict(X_test)\n",
    "print(classification_report(y_test, y_pred))"
   ]
  },
  {
   "cell_type": "code",
   "execution_count": 47,
   "id": "42bc91ff",
   "metadata": {
    "execution": {
     "iopub.execute_input": "2023-03-20T15:43:52.568528Z",
     "iopub.status.busy": "2023-03-20T15:43:52.568217Z",
     "iopub.status.idle": "2023-03-20T15:43:52.574085Z",
     "shell.execute_reply": "2023-03-20T15:43:52.572991Z"
    },
    "papermill": {
     "duration": 0.046167,
     "end_time": "2023-03-20T15:43:52.575828",
     "exception": false,
     "start_time": "2023-03-20T15:43:52.529661",
     "status": "completed"
    },
    "tags": []
   },
   "outputs": [],
   "source": [
    "pickle.dump(clf, open(f'{data_path}/decision_tree.pkl', 'wb'))"
   ]
  },
  {
   "cell_type": "code",
   "execution_count": 48,
   "id": "ea9be210",
   "metadata": {
    "execution": {
     "iopub.execute_input": "2023-03-20T15:43:52.604640Z",
     "iopub.status.busy": "2023-03-20T15:43:52.603784Z",
     "iopub.status.idle": "2023-03-20T15:43:52.745036Z",
     "shell.execute_reply": "2023-03-20T15:43:52.744159Z"
    },
    "papermill": {
     "duration": 0.159008,
     "end_time": "2023-03-20T15:43:52.748068",
     "exception": false,
     "start_time": "2023-03-20T15:43:52.589060",
     "status": "completed"
    },
    "tags": []
   },
   "outputs": [],
   "source": [
    "acc = accuracy_score(y_test, y_pred)\n",
    "pre = precision_score(y_test, y_pred, average=avg_par)\n",
    "rec = recall_score(y_test, y_pred, average=avg_par)\n",
    "f1 = f1_score(y_test, y_pred, average=avg_par)\n",
    "\n",
    "metrics_data['Shapelets']['DecisionTree'] = {'Accuracy': acc, 'Precision': pre, 'Recall': rec, 'F1': f1}"
   ]
  },
  {
   "cell_type": "markdown",
   "id": "3ca3443b",
   "metadata": {
    "papermill": {
     "duration": 0.035156,
     "end_time": "2023-03-20T15:43:52.821927",
     "exception": false,
     "start_time": "2023-03-20T15:43:52.786771",
     "status": "completed"
    },
    "tags": []
   },
   "source": [
    "**Random Forest**"
   ]
  },
  {
   "cell_type": "code",
   "execution_count": 49,
   "id": "37795e21",
   "metadata": {
    "execution": {
     "iopub.execute_input": "2023-03-20T15:43:52.854875Z",
     "iopub.status.busy": "2023-03-20T15:43:52.854089Z",
     "iopub.status.idle": "2023-03-20T15:44:01.315908Z",
     "shell.execute_reply": "2023-03-20T15:44:01.314905Z"
    },
    "papermill": {
     "duration": 8.479412,
     "end_time": "2023-03-20T15:44:01.318734",
     "exception": false,
     "start_time": "2023-03-20T15:43:52.839322",
     "status": "completed"
    },
    "tags": []
   },
   "outputs": [
    {
     "data": {
      "text/html": [
       "<style>#sk-container-id-6 {color: black;background-color: white;}#sk-container-id-6 pre{padding: 0;}#sk-container-id-6 div.sk-toggleable {background-color: white;}#sk-container-id-6 label.sk-toggleable__label {cursor: pointer;display: block;width: 100%;margin-bottom: 0;padding: 0.3em;box-sizing: border-box;text-align: center;}#sk-container-id-6 label.sk-toggleable__label-arrow:before {content: \"▸\";float: left;margin-right: 0.25em;color: #696969;}#sk-container-id-6 label.sk-toggleable__label-arrow:hover:before {color: black;}#sk-container-id-6 div.sk-estimator:hover label.sk-toggleable__label-arrow:before {color: black;}#sk-container-id-6 div.sk-toggleable__content {max-height: 0;max-width: 0;overflow: hidden;text-align: left;background-color: #f0f8ff;}#sk-container-id-6 div.sk-toggleable__content pre {margin: 0.2em;color: black;border-radius: 0.25em;background-color: #f0f8ff;}#sk-container-id-6 input.sk-toggleable__control:checked~div.sk-toggleable__content {max-height: 200px;max-width: 100%;overflow: auto;}#sk-container-id-6 input.sk-toggleable__control:checked~label.sk-toggleable__label-arrow:before {content: \"▾\";}#sk-container-id-6 div.sk-estimator input.sk-toggleable__control:checked~label.sk-toggleable__label {background-color: #d4ebff;}#sk-container-id-6 div.sk-label input.sk-toggleable__control:checked~label.sk-toggleable__label {background-color: #d4ebff;}#sk-container-id-6 input.sk-hidden--visually {border: 0;clip: rect(1px 1px 1px 1px);clip: rect(1px, 1px, 1px, 1px);height: 1px;margin: -1px;overflow: hidden;padding: 0;position: absolute;width: 1px;}#sk-container-id-6 div.sk-estimator {font-family: monospace;background-color: #f0f8ff;border: 1px dotted black;border-radius: 0.25em;box-sizing: border-box;margin-bottom: 0.5em;}#sk-container-id-6 div.sk-estimator:hover {background-color: #d4ebff;}#sk-container-id-6 div.sk-parallel-item::after {content: \"\";width: 100%;border-bottom: 1px solid gray;flex-grow: 1;}#sk-container-id-6 div.sk-label:hover label.sk-toggleable__label {background-color: #d4ebff;}#sk-container-id-6 div.sk-serial::before {content: \"\";position: absolute;border-left: 1px solid gray;box-sizing: border-box;top: 0;bottom: 0;left: 50%;z-index: 0;}#sk-container-id-6 div.sk-serial {display: flex;flex-direction: column;align-items: center;background-color: white;padding-right: 0.2em;padding-left: 0.2em;position: relative;}#sk-container-id-6 div.sk-item {position: relative;z-index: 1;}#sk-container-id-6 div.sk-parallel {display: flex;align-items: stretch;justify-content: center;background-color: white;position: relative;}#sk-container-id-6 div.sk-item::before, #sk-container-id-6 div.sk-parallel-item::before {content: \"\";position: absolute;border-left: 1px solid gray;box-sizing: border-box;top: 0;bottom: 0;left: 50%;z-index: -1;}#sk-container-id-6 div.sk-parallel-item {display: flex;flex-direction: column;z-index: 1;position: relative;background-color: white;}#sk-container-id-6 div.sk-parallel-item:first-child::after {align-self: flex-end;width: 50%;}#sk-container-id-6 div.sk-parallel-item:last-child::after {align-self: flex-start;width: 50%;}#sk-container-id-6 div.sk-parallel-item:only-child::after {width: 0;}#sk-container-id-6 div.sk-dashed-wrapped {border: 1px dashed gray;margin: 0 0.4em 0.5em 0.4em;box-sizing: border-box;padding-bottom: 0.4em;background-color: white;}#sk-container-id-6 div.sk-label label {font-family: monospace;font-weight: bold;display: inline-block;line-height: 1.2em;}#sk-container-id-6 div.sk-label-container {text-align: center;}#sk-container-id-6 div.sk-container {/* jupyter's `normalize.less` sets `[hidden] { display: none; }` but bootstrap.min.css set `[hidden] { display: none !important; }` so we also need the `!important` here to be able to override the default hidden behavior on the sphinx rendered scikit-learn.org. See: https://github.com/scikit-learn/scikit-learn/issues/21755 */display: inline-block !important;position: relative;}#sk-container-id-6 div.sk-text-repr-fallback {display: none;}</style><div id=\"sk-container-id-6\" class=\"sk-top-container\"><div class=\"sk-text-repr-fallback\"><pre>RandomForestClassifier(random_state=42)</pre><b>In a Jupyter environment, please rerun this cell to show the HTML representation or trust the notebook. <br />On GitHub, the HTML representation is unable to render, please try loading this page with nbviewer.org.</b></div><div class=\"sk-container\" hidden><div class=\"sk-item\"><div class=\"sk-estimator sk-toggleable\"><input class=\"sk-toggleable__control sk-hidden--visually\" id=\"sk-estimator-id-6\" type=\"checkbox\" checked><label for=\"sk-estimator-id-6\" class=\"sk-toggleable__label sk-toggleable__label-arrow\">RandomForestClassifier</label><div class=\"sk-toggleable__content\"><pre>RandomForestClassifier(random_state=42)</pre></div></div></div></div></div>"
      ],
      "text/plain": [
       "RandomForestClassifier(random_state=42)"
      ]
     },
     "execution_count": 49,
     "metadata": {},
     "output_type": "execute_result"
    }
   ],
   "source": [
    "clf = RandomForestClassifier(random_state=42)\n",
    "clf.fit(X_train, y_train)"
   ]
  },
  {
   "cell_type": "code",
   "execution_count": 50,
   "id": "581ab90a",
   "metadata": {
    "execution": {
     "iopub.execute_input": "2023-03-20T15:44:01.397599Z",
     "iopub.status.busy": "2023-03-20T15:44:01.397293Z",
     "iopub.status.idle": "2023-03-20T15:44:01.625469Z",
     "shell.execute_reply": "2023-03-20T15:44:01.624307Z"
    },
    "papermill": {
     "duration": 0.270953,
     "end_time": "2023-03-20T15:44:01.628230",
     "exception": false,
     "start_time": "2023-03-20T15:44:01.357277",
     "status": "completed"
    },
    "tags": []
   },
   "outputs": [
    {
     "name": "stdout",
     "output_type": "stream",
     "text": [
      "              precision    recall  f1-score   support\n",
      "\n",
      "         pop       0.60      0.61      0.61      2400\n",
      "        rock       0.60      0.59      0.60      2400\n",
      "\n",
      "    accuracy                           0.60      4800\n",
      "   macro avg       0.60      0.60      0.60      4800\n",
      "weighted avg       0.60      0.60      0.60      4800\n",
      "\n"
     ]
    }
   ],
   "source": [
    "y_pred = clf.predict(X_test)\n",
    "print(classification_report(y_test, y_pred))"
   ]
  },
  {
   "cell_type": "code",
   "execution_count": 51,
   "id": "faf1d7f4",
   "metadata": {
    "execution": {
     "iopub.execute_input": "2023-03-20T15:44:01.701239Z",
     "iopub.status.busy": "2023-03-20T15:44:01.700790Z",
     "iopub.status.idle": "2023-03-20T15:44:01.837744Z",
     "shell.execute_reply": "2023-03-20T15:44:01.836916Z"
    },
    "papermill": {
     "duration": 0.177532,
     "end_time": "2023-03-20T15:44:01.840682",
     "exception": false,
     "start_time": "2023-03-20T15:44:01.663150",
     "status": "completed"
    },
    "tags": []
   },
   "outputs": [],
   "source": [
    "acc = accuracy_score(y_test, y_pred)\n",
    "pre = precision_score(y_test, y_pred, average=avg_par)\n",
    "rec = recall_score(y_test, y_pred, average=avg_par)\n",
    "f1 = f1_score(y_test, y_pred, average=avg_par)\n",
    "\n",
    "metrics_data['Shapelets']['RandomForest'] = {'Accuracy': acc, 'Precision': pre, 'Recall': rec, 'F1': f1}"
   ]
  },
  {
   "cell_type": "markdown",
   "id": "61fceefb",
   "metadata": {
    "papermill": {
     "duration": 0.038509,
     "end_time": "2023-03-20T15:44:01.918497",
     "exception": false,
     "start_time": "2023-03-20T15:44:01.879988",
     "status": "completed"
    },
    "tags": []
   },
   "source": [
    "**LightGBM**"
   ]
  },
  {
   "cell_type": "code",
   "execution_count": 52,
   "id": "194189da",
   "metadata": {
    "execution": {
     "iopub.execute_input": "2023-03-20T15:44:01.948626Z",
     "iopub.status.busy": "2023-03-20T15:44:01.947868Z",
     "iopub.status.idle": "2023-03-20T15:44:02.149292Z",
     "shell.execute_reply": "2023-03-20T15:44:02.148420Z"
    },
    "papermill": {
     "duration": 0.21798,
     "end_time": "2023-03-20T15:44:02.150940",
     "exception": false,
     "start_time": "2023-03-20T15:44:01.932960",
     "status": "completed"
    },
    "tags": []
   },
   "outputs": [
    {
     "data": {
      "text/html": [
       "<style>#sk-container-id-7 {color: black;background-color: white;}#sk-container-id-7 pre{padding: 0;}#sk-container-id-7 div.sk-toggleable {background-color: white;}#sk-container-id-7 label.sk-toggleable__label {cursor: pointer;display: block;width: 100%;margin-bottom: 0;padding: 0.3em;box-sizing: border-box;text-align: center;}#sk-container-id-7 label.sk-toggleable__label-arrow:before {content: \"▸\";float: left;margin-right: 0.25em;color: #696969;}#sk-container-id-7 label.sk-toggleable__label-arrow:hover:before {color: black;}#sk-container-id-7 div.sk-estimator:hover label.sk-toggleable__label-arrow:before {color: black;}#sk-container-id-7 div.sk-toggleable__content {max-height: 0;max-width: 0;overflow: hidden;text-align: left;background-color: #f0f8ff;}#sk-container-id-7 div.sk-toggleable__content pre {margin: 0.2em;color: black;border-radius: 0.25em;background-color: #f0f8ff;}#sk-container-id-7 input.sk-toggleable__control:checked~div.sk-toggleable__content {max-height: 200px;max-width: 100%;overflow: auto;}#sk-container-id-7 input.sk-toggleable__control:checked~label.sk-toggleable__label-arrow:before {content: \"▾\";}#sk-container-id-7 div.sk-estimator input.sk-toggleable__control:checked~label.sk-toggleable__label {background-color: #d4ebff;}#sk-container-id-7 div.sk-label input.sk-toggleable__control:checked~label.sk-toggleable__label {background-color: #d4ebff;}#sk-container-id-7 input.sk-hidden--visually {border: 0;clip: rect(1px 1px 1px 1px);clip: rect(1px, 1px, 1px, 1px);height: 1px;margin: -1px;overflow: hidden;padding: 0;position: absolute;width: 1px;}#sk-container-id-7 div.sk-estimator {font-family: monospace;background-color: #f0f8ff;border: 1px dotted black;border-radius: 0.25em;box-sizing: border-box;margin-bottom: 0.5em;}#sk-container-id-7 div.sk-estimator:hover {background-color: #d4ebff;}#sk-container-id-7 div.sk-parallel-item::after {content: \"\";width: 100%;border-bottom: 1px solid gray;flex-grow: 1;}#sk-container-id-7 div.sk-label:hover label.sk-toggleable__label {background-color: #d4ebff;}#sk-container-id-7 div.sk-serial::before {content: \"\";position: absolute;border-left: 1px solid gray;box-sizing: border-box;top: 0;bottom: 0;left: 50%;z-index: 0;}#sk-container-id-7 div.sk-serial {display: flex;flex-direction: column;align-items: center;background-color: white;padding-right: 0.2em;padding-left: 0.2em;position: relative;}#sk-container-id-7 div.sk-item {position: relative;z-index: 1;}#sk-container-id-7 div.sk-parallel {display: flex;align-items: stretch;justify-content: center;background-color: white;position: relative;}#sk-container-id-7 div.sk-item::before, #sk-container-id-7 div.sk-parallel-item::before {content: \"\";position: absolute;border-left: 1px solid gray;box-sizing: border-box;top: 0;bottom: 0;left: 50%;z-index: -1;}#sk-container-id-7 div.sk-parallel-item {display: flex;flex-direction: column;z-index: 1;position: relative;background-color: white;}#sk-container-id-7 div.sk-parallel-item:first-child::after {align-self: flex-end;width: 50%;}#sk-container-id-7 div.sk-parallel-item:last-child::after {align-self: flex-start;width: 50%;}#sk-container-id-7 div.sk-parallel-item:only-child::after {width: 0;}#sk-container-id-7 div.sk-dashed-wrapped {border: 1px dashed gray;margin: 0 0.4em 0.5em 0.4em;box-sizing: border-box;padding-bottom: 0.4em;background-color: white;}#sk-container-id-7 div.sk-label label {font-family: monospace;font-weight: bold;display: inline-block;line-height: 1.2em;}#sk-container-id-7 div.sk-label-container {text-align: center;}#sk-container-id-7 div.sk-container {/* jupyter's `normalize.less` sets `[hidden] { display: none; }` but bootstrap.min.css set `[hidden] { display: none !important; }` so we also need the `!important` here to be able to override the default hidden behavior on the sphinx rendered scikit-learn.org. See: https://github.com/scikit-learn/scikit-learn/issues/21755 */display: inline-block !important;position: relative;}#sk-container-id-7 div.sk-text-repr-fallback {display: none;}</style><div id=\"sk-container-id-7\" class=\"sk-top-container\"><div class=\"sk-text-repr-fallback\"><pre>LGBMClassifier(objective=&#x27;binary&#x27;)</pre><b>In a Jupyter environment, please rerun this cell to show the HTML representation or trust the notebook. <br />On GitHub, the HTML representation is unable to render, please try loading this page with nbviewer.org.</b></div><div class=\"sk-container\" hidden><div class=\"sk-item\"><div class=\"sk-estimator sk-toggleable\"><input class=\"sk-toggleable__control sk-hidden--visually\" id=\"sk-estimator-id-7\" type=\"checkbox\" checked><label for=\"sk-estimator-id-7\" class=\"sk-toggleable__label sk-toggleable__label-arrow\">LGBMClassifier</label><div class=\"sk-toggleable__content\"><pre>LGBMClassifier(objective=&#x27;binary&#x27;)</pre></div></div></div></div></div>"
      ],
      "text/plain": [
       "LGBMClassifier(objective='binary')"
      ]
     },
     "execution_count": 52,
     "metadata": {},
     "output_type": "execute_result"
    }
   ],
   "source": [
    "clf = lgbm.LGBMClassifier(objective=obj_par) \n",
    "clf.fit(X_train, y_train)"
   ]
  },
  {
   "cell_type": "code",
   "execution_count": 53,
   "id": "355a078b",
   "metadata": {
    "execution": {
     "iopub.execute_input": "2023-03-20T15:44:02.182043Z",
     "iopub.status.busy": "2023-03-20T15:44:02.181745Z",
     "iopub.status.idle": "2023-03-20T15:44:02.323460Z",
     "shell.execute_reply": "2023-03-20T15:44:02.322509Z"
    },
    "papermill": {
     "duration": 0.160455,
     "end_time": "2023-03-20T15:44:02.326283",
     "exception": false,
     "start_time": "2023-03-20T15:44:02.165828",
     "status": "completed"
    },
    "tags": []
   },
   "outputs": [
    {
     "name": "stdout",
     "output_type": "stream",
     "text": [
      "              precision    recall  f1-score   support\n",
      "\n",
      "         pop       0.60      0.60      0.60      2400\n",
      "        rock       0.60      0.61      0.60      2400\n",
      "\n",
      "    accuracy                           0.60      4800\n",
      "   macro avg       0.60      0.60      0.60      4800\n",
      "weighted avg       0.60      0.60      0.60      4800\n",
      "\n"
     ]
    }
   ],
   "source": [
    "y_pred = clf.predict(X_test)\n",
    "print(classification_report(y_test, y_pred))"
   ]
  },
  {
   "cell_type": "code",
   "execution_count": 54,
   "id": "f22b911e",
   "metadata": {
    "execution": {
     "iopub.execute_input": "2023-03-20T15:44:02.404557Z",
     "iopub.status.busy": "2023-03-20T15:44:02.404075Z",
     "iopub.status.idle": "2023-03-20T15:44:02.538664Z",
     "shell.execute_reply": "2023-03-20T15:44:02.538040Z"
    },
    "papermill": {
     "duration": 0.175506,
     "end_time": "2023-03-20T15:44:02.541521",
     "exception": false,
     "start_time": "2023-03-20T15:44:02.366015",
     "status": "completed"
    },
    "tags": []
   },
   "outputs": [],
   "source": [
    "acc = accuracy_score(y_test, y_pred)\n",
    "pre = precision_score(y_test, y_pred, average=avg_par)\n",
    "rec = recall_score(y_test, y_pred, average=avg_par)\n",
    "f1 = f1_score(y_test, y_pred, average=avg_par)\n",
    "\n",
    "metrics_data['Shapelets']['LightGBM'] = {'Accuracy': acc, 'Precision': pre, 'Recall': rec, 'F1': f1}"
   ]
  },
  {
   "cell_type": "markdown",
   "id": "0809af9f",
   "metadata": {
    "papermill": {
     "duration": 0.038951,
     "end_time": "2023-03-20T15:44:02.620392",
     "exception": false,
     "start_time": "2023-03-20T15:44:02.581441",
     "status": "completed"
    },
    "tags": []
   },
   "source": [
    "#### KNN"
   ]
  },
  {
   "cell_type": "code",
   "execution_count": 55,
   "id": "1c9237e0",
   "metadata": {
    "execution": {
     "iopub.execute_input": "2023-03-20T15:44:02.649511Z",
     "iopub.status.busy": "2023-03-20T15:44:02.649184Z",
     "iopub.status.idle": "2023-03-20T15:44:02.654523Z",
     "shell.execute_reply": "2023-03-20T15:44:02.653446Z"
    },
    "papermill": {
     "duration": 0.022232,
     "end_time": "2023-03-20T15:44:02.656348",
     "exception": false,
     "start_time": "2023-03-20T15:44:02.634116",
     "status": "completed"
    },
    "tags": []
   },
   "outputs": [],
   "source": [
    "X_train = ts_train.reshape((ts_train.shape[0], ts_train.shape[1]))\n",
    "X_test = ts_test.reshape((ts_test.shape[0], ts_test.shape[1]))"
   ]
  },
  {
   "cell_type": "code",
   "execution_count": 56,
   "id": "192f3c3f",
   "metadata": {
    "execution": {
     "iopub.execute_input": "2023-03-20T15:44:02.686923Z",
     "iopub.status.busy": "2023-03-20T15:44:02.685964Z",
     "iopub.status.idle": "2023-03-20T15:44:02.693803Z",
     "shell.execute_reply": "2023-03-20T15:44:02.692581Z"
    },
    "papermill": {
     "duration": 0.025547,
     "end_time": "2023-03-20T15:44:02.695654",
     "exception": false,
     "start_time": "2023-03-20T15:44:02.670107",
     "status": "completed"
    },
    "tags": []
   },
   "outputs": [
    {
     "data": {
      "text/plain": [
       "(19200, 100)"
      ]
     },
     "execution_count": 56,
     "metadata": {},
     "output_type": "execute_result"
    }
   ],
   "source": [
    "X_train.shape"
   ]
  },
  {
   "cell_type": "code",
   "execution_count": 57,
   "id": "de0e5000",
   "metadata": {
    "execution": {
     "iopub.execute_input": "2023-03-20T15:44:02.726653Z",
     "iopub.status.busy": "2023-03-20T15:44:02.725967Z",
     "iopub.status.idle": "2023-03-20T15:44:02.731529Z",
     "shell.execute_reply": "2023-03-20T15:44:02.730302Z"
    },
    "papermill": {
     "duration": 0.023197,
     "end_time": "2023-03-20T15:44:02.733342",
     "exception": false,
     "start_time": "2023-03-20T15:44:02.710145",
     "status": "completed"
    },
    "tags": []
   },
   "outputs": [],
   "source": [
    "metrics_data['KNN'] = {}"
   ]
  },
  {
   "cell_type": "markdown",
   "id": "8ee39c05",
   "metadata": {
    "papermill": {
     "duration": 0.014328,
     "end_time": "2023-03-20T15:44:02.761883",
     "exception": false,
     "start_time": "2023-03-20T15:44:02.747555",
     "status": "completed"
    },
    "tags": []
   },
   "source": [
    "**Euclidean Distance**"
   ]
  },
  {
   "cell_type": "code",
   "execution_count": 58,
   "id": "55db1f58",
   "metadata": {
    "execution": {
     "iopub.execute_input": "2023-03-20T15:44:02.793914Z",
     "iopub.status.busy": "2023-03-20T15:44:02.793146Z",
     "iopub.status.idle": "2023-03-20T15:44:02.798765Z",
     "shell.execute_reply": "2023-03-20T15:44:02.797693Z"
    },
    "papermill": {
     "duration": 0.023533,
     "end_time": "2023-03-20T15:44:02.800279",
     "exception": false,
     "start_time": "2023-03-20T15:44:02.776746",
     "status": "completed"
    },
    "tags": []
   },
   "outputs": [],
   "source": [
    "from sklearn.neighbors import KNeighborsClassifier"
   ]
  },
  {
   "cell_type": "code",
   "execution_count": 59,
   "id": "132c2537",
   "metadata": {
    "execution": {
     "iopub.execute_input": "2023-03-20T15:44:02.831663Z",
     "iopub.status.busy": "2023-03-20T15:44:02.830722Z",
     "iopub.status.idle": "2023-03-20T15:44:02.881591Z",
     "shell.execute_reply": "2023-03-20T15:44:02.880779Z"
    },
    "papermill": {
     "duration": 0.069672,
     "end_time": "2023-03-20T15:44:02.884359",
     "exception": false,
     "start_time": "2023-03-20T15:44:02.814687",
     "status": "completed"
    },
    "tags": []
   },
   "outputs": [
    {
     "data": {
      "text/html": [
       "<style>#sk-container-id-8 {color: black;background-color: white;}#sk-container-id-8 pre{padding: 0;}#sk-container-id-8 div.sk-toggleable {background-color: white;}#sk-container-id-8 label.sk-toggleable__label {cursor: pointer;display: block;width: 100%;margin-bottom: 0;padding: 0.3em;box-sizing: border-box;text-align: center;}#sk-container-id-8 label.sk-toggleable__label-arrow:before {content: \"▸\";float: left;margin-right: 0.25em;color: #696969;}#sk-container-id-8 label.sk-toggleable__label-arrow:hover:before {color: black;}#sk-container-id-8 div.sk-estimator:hover label.sk-toggleable__label-arrow:before {color: black;}#sk-container-id-8 div.sk-toggleable__content {max-height: 0;max-width: 0;overflow: hidden;text-align: left;background-color: #f0f8ff;}#sk-container-id-8 div.sk-toggleable__content pre {margin: 0.2em;color: black;border-radius: 0.25em;background-color: #f0f8ff;}#sk-container-id-8 input.sk-toggleable__control:checked~div.sk-toggleable__content {max-height: 200px;max-width: 100%;overflow: auto;}#sk-container-id-8 input.sk-toggleable__control:checked~label.sk-toggleable__label-arrow:before {content: \"▾\";}#sk-container-id-8 div.sk-estimator input.sk-toggleable__control:checked~label.sk-toggleable__label {background-color: #d4ebff;}#sk-container-id-8 div.sk-label input.sk-toggleable__control:checked~label.sk-toggleable__label {background-color: #d4ebff;}#sk-container-id-8 input.sk-hidden--visually {border: 0;clip: rect(1px 1px 1px 1px);clip: rect(1px, 1px, 1px, 1px);height: 1px;margin: -1px;overflow: hidden;padding: 0;position: absolute;width: 1px;}#sk-container-id-8 div.sk-estimator {font-family: monospace;background-color: #f0f8ff;border: 1px dotted black;border-radius: 0.25em;box-sizing: border-box;margin-bottom: 0.5em;}#sk-container-id-8 div.sk-estimator:hover {background-color: #d4ebff;}#sk-container-id-8 div.sk-parallel-item::after {content: \"\";width: 100%;border-bottom: 1px solid gray;flex-grow: 1;}#sk-container-id-8 div.sk-label:hover label.sk-toggleable__label {background-color: #d4ebff;}#sk-container-id-8 div.sk-serial::before {content: \"\";position: absolute;border-left: 1px solid gray;box-sizing: border-box;top: 0;bottom: 0;left: 50%;z-index: 0;}#sk-container-id-8 div.sk-serial {display: flex;flex-direction: column;align-items: center;background-color: white;padding-right: 0.2em;padding-left: 0.2em;position: relative;}#sk-container-id-8 div.sk-item {position: relative;z-index: 1;}#sk-container-id-8 div.sk-parallel {display: flex;align-items: stretch;justify-content: center;background-color: white;position: relative;}#sk-container-id-8 div.sk-item::before, #sk-container-id-8 div.sk-parallel-item::before {content: \"\";position: absolute;border-left: 1px solid gray;box-sizing: border-box;top: 0;bottom: 0;left: 50%;z-index: -1;}#sk-container-id-8 div.sk-parallel-item {display: flex;flex-direction: column;z-index: 1;position: relative;background-color: white;}#sk-container-id-8 div.sk-parallel-item:first-child::after {align-self: flex-end;width: 50%;}#sk-container-id-8 div.sk-parallel-item:last-child::after {align-self: flex-start;width: 50%;}#sk-container-id-8 div.sk-parallel-item:only-child::after {width: 0;}#sk-container-id-8 div.sk-dashed-wrapped {border: 1px dashed gray;margin: 0 0.4em 0.5em 0.4em;box-sizing: border-box;padding-bottom: 0.4em;background-color: white;}#sk-container-id-8 div.sk-label label {font-family: monospace;font-weight: bold;display: inline-block;line-height: 1.2em;}#sk-container-id-8 div.sk-label-container {text-align: center;}#sk-container-id-8 div.sk-container {/* jupyter's `normalize.less` sets `[hidden] { display: none; }` but bootstrap.min.css set `[hidden] { display: none !important; }` so we also need the `!important` here to be able to override the default hidden behavior on the sphinx rendered scikit-learn.org. See: https://github.com/scikit-learn/scikit-learn/issues/21755 */display: inline-block !important;position: relative;}#sk-container-id-8 div.sk-text-repr-fallback {display: none;}</style><div id=\"sk-container-id-8\" class=\"sk-top-container\"><div class=\"sk-text-repr-fallback\"><pre>KNeighborsClassifier()</pre><b>In a Jupyter environment, please rerun this cell to show the HTML representation or trust the notebook. <br />On GitHub, the HTML representation is unable to render, please try loading this page with nbviewer.org.</b></div><div class=\"sk-container\" hidden><div class=\"sk-item\"><div class=\"sk-estimator sk-toggleable\"><input class=\"sk-toggleable__control sk-hidden--visually\" id=\"sk-estimator-id-8\" type=\"checkbox\" checked><label for=\"sk-estimator-id-8\" class=\"sk-toggleable__label sk-toggleable__label-arrow\">KNeighborsClassifier</label><div class=\"sk-toggleable__content\"><pre>KNeighborsClassifier()</pre></div></div></div></div></div>"
      ],
      "text/plain": [
       "KNeighborsClassifier()"
      ]
     },
     "execution_count": 59,
     "metadata": {},
     "output_type": "execute_result"
    }
   ],
   "source": [
    "clf = KNeighborsClassifier(n_neighbors=5, weights='uniform')\n",
    "clf.fit(X_train, y_train)"
   ]
  },
  {
   "cell_type": "code",
   "execution_count": 60,
   "id": "0afad62a",
   "metadata": {
    "execution": {
     "iopub.execute_input": "2023-03-20T15:44:02.918210Z",
     "iopub.status.busy": "2023-03-20T15:44:02.917898Z",
     "iopub.status.idle": "2023-03-20T15:44:04.038107Z",
     "shell.execute_reply": "2023-03-20T15:44:04.037068Z"
    },
    "papermill": {
     "duration": 1.137673,
     "end_time": "2023-03-20T15:44:04.039876",
     "exception": false,
     "start_time": "2023-03-20T15:44:02.902203",
     "status": "completed"
    },
    "tags": []
   },
   "outputs": [
    {
     "name": "stdout",
     "output_type": "stream",
     "text": [
      "              precision    recall  f1-score   support\n",
      "\n",
      "         pop       0.59      0.35      0.44      2400\n",
      "        rock       0.54      0.75      0.63      2400\n",
      "\n",
      "    accuracy                           0.55      4800\n",
      "   macro avg       0.56      0.55      0.53      4800\n",
      "weighted avg       0.56      0.55      0.53      4800\n",
      "\n"
     ]
    }
   ],
   "source": [
    "y_pred = clf.predict(X_test)\n",
    "print(classification_report(y_test, y_pred))"
   ]
  },
  {
   "cell_type": "code",
   "execution_count": 61,
   "id": "2d709070",
   "metadata": {
    "execution": {
     "iopub.execute_input": "2023-03-20T15:44:04.086164Z",
     "iopub.status.busy": "2023-03-20T15:44:04.085842Z",
     "iopub.status.idle": "2023-03-20T15:44:04.214389Z",
     "shell.execute_reply": "2023-03-20T15:44:04.213524Z"
    },
    "papermill": {
     "duration": 0.15798,
     "end_time": "2023-03-20T15:44:04.216175",
     "exception": false,
     "start_time": "2023-03-20T15:44:04.058195",
     "status": "completed"
    },
    "tags": []
   },
   "outputs": [],
   "source": [
    "acc = accuracy_score(y_test, y_pred)\n",
    "pre = precision_score(y_test, y_pred, average=avg_par)\n",
    "rec = recall_score(y_test, y_pred, average=avg_par)\n",
    "f1 = f1_score(y_test, y_pred, average=avg_par)\n",
    "\n",
    "metrics_data['KNN']['Euclidean'] = {'Accuracy': acc, 'Precision': pre, 'Recall': rec, 'F1': f1}"
   ]
  },
  {
   "cell_type": "markdown",
   "id": "c5ec2a09",
   "metadata": {
    "papermill": {
     "duration": 0.01507,
     "end_time": "2023-03-20T15:44:04.246370",
     "exception": false,
     "start_time": "2023-03-20T15:44:04.231300",
     "status": "completed"
    },
    "tags": []
   },
   "source": [
    "**Dynamic Time Warping**"
   ]
  },
  {
   "cell_type": "code",
   "execution_count": 62,
   "id": "2df913d8",
   "metadata": {
    "execution": {
     "iopub.execute_input": "2023-03-20T15:44:04.303243Z",
     "iopub.status.busy": "2023-03-20T15:44:04.302760Z",
     "iopub.status.idle": "2023-03-20T15:44:04.372804Z",
     "shell.execute_reply": "2023-03-20T15:44:04.371882Z"
    },
    "papermill": {
     "duration": 0.10306,
     "end_time": "2023-03-20T15:44:04.375753",
     "exception": false,
     "start_time": "2023-03-20T15:44:04.272693",
     "status": "completed"
    },
    "tags": []
   },
   "outputs": [],
   "source": [
    "from pyts.classification import KNeighborsClassifier\n",
    "from pyts.approximation import PiecewiseAggregateApproximation\n",
    "from imblearn.under_sampling import ClusterCentroids\n",
    "from sklearn_extra.cluster import KMedoids"
   ]
  },
  {
   "cell_type": "code",
   "execution_count": 63,
   "id": "db1604ec",
   "metadata": {
    "execution": {
     "iopub.execute_input": "2023-03-20T15:44:04.408671Z",
     "iopub.status.busy": "2023-03-20T15:44:04.408206Z",
     "iopub.status.idle": "2023-03-20T15:44:04.942518Z",
     "shell.execute_reply": "2023-03-20T15:44:04.941587Z"
    },
    "papermill": {
     "duration": 0.553261,
     "end_time": "2023-03-20T15:44:04.945734",
     "exception": false,
     "start_time": "2023-03-20T15:44:04.392473",
     "status": "completed"
    },
    "tags": []
   },
   "outputs": [],
   "source": [
    "if paa_window_size:\n",
    "    paa = PiecewiseAggregateApproximation(window_size=paa_window_size)\n",
    "    X_train = paa.transform(X_train)\n",
    "    X_test = paa.transform(X_test)\n",
    "    X_train.shape"
   ]
  },
  {
   "cell_type": "code",
   "execution_count": 64,
   "id": "59fa27aa",
   "metadata": {
    "execution": {
     "iopub.execute_input": "2023-03-20T15:44:05.024881Z",
     "iopub.status.busy": "2023-03-20T15:44:05.024444Z",
     "iopub.status.idle": "2023-03-20T15:44:37.241446Z",
     "shell.execute_reply": "2023-03-20T15:44:37.240666Z"
    },
    "papermill": {
     "duration": 32.256809,
     "end_time": "2023-03-20T15:44:37.243601",
     "exception": false,
     "start_time": "2023-03-20T15:44:04.986792",
     "status": "completed"
    },
    "tags": []
   },
   "outputs": [
    {
     "name": "stdout",
     "output_type": "stream",
     "text": [
      "{'pop': 2880, 'rock': 2880}\n"
     ]
    },
    {
     "name": "stderr",
     "output_type": "stream",
     "text": [
      "/home/mattiapggioli/lyrics2ts/.venv/lib/python3.9/site-packages/sklearn_extra/cluster/_k_medoids.py:275: UserWarning: Cluster 279 is empty! self.labels_[self.medoid_indices_[279]] may not be labeled with its corresponding cluster (279).\n",
      "  warnings.warn(\n",
      "/home/mattiapggioli/lyrics2ts/.venv/lib/python3.9/site-packages/sklearn_extra/cluster/_k_medoids.py:275: UserWarning: Cluster 1608 is empty! self.labels_[self.medoid_indices_[1608]] may not be labeled with its corresponding cluster (1608).\n",
      "  warnings.warn(\n",
      "/home/mattiapggioli/lyrics2ts/.venv/lib/python3.9/site-packages/sklearn_extra/cluster/_k_medoids.py:275: UserWarning: Cluster 1613 is empty! self.labels_[self.medoid_indices_[1613]] may not be labeled with its corresponding cluster (1613).\n",
      "  warnings.warn(\n",
      "/home/mattiapggioli/lyrics2ts/.venv/lib/python3.9/site-packages/sklearn_extra/cluster/_k_medoids.py:275: UserWarning: Cluster 1936 is empty! self.labels_[self.medoid_indices_[1936]] may not be labeled with its corresponding cluster (1936).\n",
      "  warnings.warn(\n",
      "/home/mattiapggioli/lyrics2ts/.venv/lib/python3.9/site-packages/sklearn_extra/cluster/_k_medoids.py:275: UserWarning: Cluster 2382 is empty! self.labels_[self.medoid_indices_[2382]] may not be labeled with its corresponding cluster (2382).\n",
      "  warnings.warn(\n",
      "/home/mattiapggioli/lyrics2ts/.venv/lib/python3.9/site-packages/sklearn_extra/cluster/_k_medoids.py:275: UserWarning: Cluster 2557 is empty! self.labels_[self.medoid_indices_[2557]] may not be labeled with its corresponding cluster (2557).\n",
      "  warnings.warn(\n",
      "/home/mattiapggioli/lyrics2ts/.venv/lib/python3.9/site-packages/sklearn_extra/cluster/_k_medoids.py:275: UserWarning: Cluster 2641 is empty! self.labels_[self.medoid_indices_[2641]] may not be labeled with its corresponding cluster (2641).\n",
      "  warnings.warn(\n",
      "/home/mattiapggioli/lyrics2ts/.venv/lib/python3.9/site-packages/sklearn_extra/cluster/_k_medoids.py:275: UserWarning: Cluster 2771 is empty! self.labels_[self.medoid_indices_[2771]] may not be labeled with its corresponding cluster (2771).\n",
      "  warnings.warn(\n"
     ]
    },
    {
     "name": "stderr",
     "output_type": "stream",
     "text": [
      "/home/mattiapggioli/lyrics2ts/.venv/lib/python3.9/site-packages/sklearn_extra/cluster/_k_medoids.py:275: UserWarning: Cluster 705 is empty! self.labels_[self.medoid_indices_[705]] may not be labeled with its corresponding cluster (705).\n",
      "  warnings.warn(\n",
      "/home/mattiapggioli/lyrics2ts/.venv/lib/python3.9/site-packages/sklearn_extra/cluster/_k_medoids.py:275: UserWarning: Cluster 748 is empty! self.labels_[self.medoid_indices_[748]] may not be labeled with its corresponding cluster (748).\n",
      "  warnings.warn(\n",
      "/home/mattiapggioli/lyrics2ts/.venv/lib/python3.9/site-packages/sklearn_extra/cluster/_k_medoids.py:275: UserWarning: Cluster 845 is empty! self.labels_[self.medoid_indices_[845]] may not be labeled with its corresponding cluster (845).\n",
      "  warnings.warn(\n",
      "/home/mattiapggioli/lyrics2ts/.venv/lib/python3.9/site-packages/sklearn_extra/cluster/_k_medoids.py:275: UserWarning: Cluster 932 is empty! self.labels_[self.medoid_indices_[932]] may not be labeled with its corresponding cluster (932).\n",
      "  warnings.warn(\n",
      "/home/mattiapggioli/lyrics2ts/.venv/lib/python3.9/site-packages/sklearn_extra/cluster/_k_medoids.py:275: UserWarning: Cluster 971 is empty! self.labels_[self.medoid_indices_[971]] may not be labeled with its corresponding cluster (971).\n",
      "  warnings.warn(\n",
      "/home/mattiapggioli/lyrics2ts/.venv/lib/python3.9/site-packages/sklearn_extra/cluster/_k_medoids.py:275: UserWarning: Cluster 972 is empty! self.labels_[self.medoid_indices_[972]] may not be labeled with its corresponding cluster (972).\n",
      "  warnings.warn(\n",
      "/home/mattiapggioli/lyrics2ts/.venv/lib/python3.9/site-packages/sklearn_extra/cluster/_k_medoids.py:275: UserWarning: Cluster 988 is empty! self.labels_[self.medoid_indices_[988]] may not be labeled with its corresponding cluster (988).\n",
      "  warnings.warn(\n",
      "/home/mattiapggioli/lyrics2ts/.venv/lib/python3.9/site-packages/sklearn_extra/cluster/_k_medoids.py:275: UserWarning: Cluster 1055 is empty! self.labels_[self.medoid_indices_[1055]] may not be labeled with its corresponding cluster (1055).\n",
      "  warnings.warn(\n",
      "/home/mattiapggioli/lyrics2ts/.venv/lib/python3.9/site-packages/sklearn_extra/cluster/_k_medoids.py:275: UserWarning: Cluster 1203 is empty! self.labels_[self.medoid_indices_[1203]] may not be labeled with its corresponding cluster (1203).\n",
      "  warnings.warn(\n",
      "/home/mattiapggioli/lyrics2ts/.venv/lib/python3.9/site-packages/sklearn_extra/cluster/_k_medoids.py:275: UserWarning: Cluster 1217 is empty! self.labels_[self.medoid_indices_[1217]] may not be labeled with its corresponding cluster (1217).\n",
      "  warnings.warn(\n",
      "/home/mattiapggioli/lyrics2ts/.venv/lib/python3.9/site-packages/sklearn_extra/cluster/_k_medoids.py:275: UserWarning: Cluster 1232 is empty! self.labels_[self.medoid_indices_[1232]] may not be labeled with its corresponding cluster (1232).\n",
      "  warnings.warn(\n",
      "/home/mattiapggioli/lyrics2ts/.venv/lib/python3.9/site-packages/sklearn_extra/cluster/_k_medoids.py:275: UserWarning: Cluster 1237 is empty! self.labels_[self.medoid_indices_[1237]] may not be labeled with its corresponding cluster (1237).\n",
      "  warnings.warn(\n",
      "/home/mattiapggioli/lyrics2ts/.venv/lib/python3.9/site-packages/sklearn_extra/cluster/_k_medoids.py:275: UserWarning: Cluster 1245 is empty! self.labels_[self.medoid_indices_[1245]] may not be labeled with its corresponding cluster (1245).\n",
      "  warnings.warn(\n",
      "/home/mattiapggioli/lyrics2ts/.venv/lib/python3.9/site-packages/sklearn_extra/cluster/_k_medoids.py:275: UserWarning: Cluster 1335 is empty! self.labels_[self.medoid_indices_[1335]] may not be labeled with its corresponding cluster (1335).\n",
      "  warnings.warn(\n",
      "/home/mattiapggioli/lyrics2ts/.venv/lib/python3.9/site-packages/sklearn_extra/cluster/_k_medoids.py:275: UserWarning: Cluster 1374 is empty! self.labels_[self.medoid_indices_[1374]] may not be labeled with its corresponding cluster (1374).\n",
      "  warnings.warn(\n",
      "/home/mattiapggioli/lyrics2ts/.venv/lib/python3.9/site-packages/sklearn_extra/cluster/_k_medoids.py:275: UserWarning: Cluster 1556 is empty! self.labels_[self.medoid_indices_[1556]] may not be labeled with its corresponding cluster (1556).\n",
      "  warnings.warn(\n",
      "/home/mattiapggioli/lyrics2ts/.venv/lib/python3.9/site-packages/sklearn_extra/cluster/_k_medoids.py:275: UserWarning: Cluster 2553 is empty! self.labels_[self.medoid_indices_[2553]] may not be labeled with its corresponding cluster (2553).\n",
      "  warnings.warn(\n"
     ]
    }
   ],
   "source": [
    "if undersampling:\n",
    "    total_samples = len(y_train)\n",
    "    unique_classes, class_counts = np.unique(y_train, return_counts=True)\n",
    "    samp_strat = dict(zip(unique_classes, np.floor(class_counts * undersampling).astype(int)))\n",
    "    print(samp_strat)\n",
    "    cc = ClusterCentroids(estimator=KMedoids(\n",
    "        random_state=42), sampling_strategy=samp_strat, random_state=42)\n",
    "    X_train, y_train = cc.fit_resample(X_train, y_train)\n",
    "    X_train.shape"
   ]
  },
  {
   "cell_type": "code",
   "execution_count": 65,
   "id": "e7ac6b44",
   "metadata": {
    "execution": {
     "iopub.execute_input": "2023-03-20T15:44:37.278940Z",
     "iopub.status.busy": "2023-03-20T15:44:37.278532Z",
     "iopub.status.idle": "2023-03-20T15:44:37.299689Z",
     "shell.execute_reply": "2023-03-20T15:44:37.298670Z"
    },
    "papermill": {
     "duration": 0.039976,
     "end_time": "2023-03-20T15:44:37.301823",
     "exception": false,
     "start_time": "2023-03-20T15:44:37.261847",
     "status": "completed"
    },
    "tags": []
   },
   "outputs": [
    {
     "data": {
      "text/html": [
       "<style>#sk-container-id-9 {color: black;background-color: white;}#sk-container-id-9 pre{padding: 0;}#sk-container-id-9 div.sk-toggleable {background-color: white;}#sk-container-id-9 label.sk-toggleable__label {cursor: pointer;display: block;width: 100%;margin-bottom: 0;padding: 0.3em;box-sizing: border-box;text-align: center;}#sk-container-id-9 label.sk-toggleable__label-arrow:before {content: \"▸\";float: left;margin-right: 0.25em;color: #696969;}#sk-container-id-9 label.sk-toggleable__label-arrow:hover:before {color: black;}#sk-container-id-9 div.sk-estimator:hover label.sk-toggleable__label-arrow:before {color: black;}#sk-container-id-9 div.sk-toggleable__content {max-height: 0;max-width: 0;overflow: hidden;text-align: left;background-color: #f0f8ff;}#sk-container-id-9 div.sk-toggleable__content pre {margin: 0.2em;color: black;border-radius: 0.25em;background-color: #f0f8ff;}#sk-container-id-9 input.sk-toggleable__control:checked~div.sk-toggleable__content {max-height: 200px;max-width: 100%;overflow: auto;}#sk-container-id-9 input.sk-toggleable__control:checked~label.sk-toggleable__label-arrow:before {content: \"▾\";}#sk-container-id-9 div.sk-estimator input.sk-toggleable__control:checked~label.sk-toggleable__label {background-color: #d4ebff;}#sk-container-id-9 div.sk-label input.sk-toggleable__control:checked~label.sk-toggleable__label {background-color: #d4ebff;}#sk-container-id-9 input.sk-hidden--visually {border: 0;clip: rect(1px 1px 1px 1px);clip: rect(1px, 1px, 1px, 1px);height: 1px;margin: -1px;overflow: hidden;padding: 0;position: absolute;width: 1px;}#sk-container-id-9 div.sk-estimator {font-family: monospace;background-color: #f0f8ff;border: 1px dotted black;border-radius: 0.25em;box-sizing: border-box;margin-bottom: 0.5em;}#sk-container-id-9 div.sk-estimator:hover {background-color: #d4ebff;}#sk-container-id-9 div.sk-parallel-item::after {content: \"\";width: 100%;border-bottom: 1px solid gray;flex-grow: 1;}#sk-container-id-9 div.sk-label:hover label.sk-toggleable__label {background-color: #d4ebff;}#sk-container-id-9 div.sk-serial::before {content: \"\";position: absolute;border-left: 1px solid gray;box-sizing: border-box;top: 0;bottom: 0;left: 50%;z-index: 0;}#sk-container-id-9 div.sk-serial {display: flex;flex-direction: column;align-items: center;background-color: white;padding-right: 0.2em;padding-left: 0.2em;position: relative;}#sk-container-id-9 div.sk-item {position: relative;z-index: 1;}#sk-container-id-9 div.sk-parallel {display: flex;align-items: stretch;justify-content: center;background-color: white;position: relative;}#sk-container-id-9 div.sk-item::before, #sk-container-id-9 div.sk-parallel-item::before {content: \"\";position: absolute;border-left: 1px solid gray;box-sizing: border-box;top: 0;bottom: 0;left: 50%;z-index: -1;}#sk-container-id-9 div.sk-parallel-item {display: flex;flex-direction: column;z-index: 1;position: relative;background-color: white;}#sk-container-id-9 div.sk-parallel-item:first-child::after {align-self: flex-end;width: 50%;}#sk-container-id-9 div.sk-parallel-item:last-child::after {align-self: flex-start;width: 50%;}#sk-container-id-9 div.sk-parallel-item:only-child::after {width: 0;}#sk-container-id-9 div.sk-dashed-wrapped {border: 1px dashed gray;margin: 0 0.4em 0.5em 0.4em;box-sizing: border-box;padding-bottom: 0.4em;background-color: white;}#sk-container-id-9 div.sk-label label {font-family: monospace;font-weight: bold;display: inline-block;line-height: 1.2em;}#sk-container-id-9 div.sk-label-container {text-align: center;}#sk-container-id-9 div.sk-container {/* jupyter's `normalize.less` sets `[hidden] { display: none; }` but bootstrap.min.css set `[hidden] { display: none !important; }` so we also need the `!important` here to be able to override the default hidden behavior on the sphinx rendered scikit-learn.org. See: https://github.com/scikit-learn/scikit-learn/issues/21755 */display: inline-block !important;position: relative;}#sk-container-id-9 div.sk-text-repr-fallback {display: none;}</style><div id=\"sk-container-id-9\" class=\"sk-top-container\"><div class=\"sk-text-repr-fallback\"><pre>KNeighborsClassifier(metric=&#x27;dtw_sakoechiba&#x27;, metric_params={&#x27;window_size&#x27;: 3})</pre><b>In a Jupyter environment, please rerun this cell to show the HTML representation or trust the notebook. <br />On GitHub, the HTML representation is unable to render, please try loading this page with nbviewer.org.</b></div><div class=\"sk-container\" hidden><div class=\"sk-item\"><div class=\"sk-estimator sk-toggleable\"><input class=\"sk-toggleable__control sk-hidden--visually\" id=\"sk-estimator-id-9\" type=\"checkbox\" checked><label for=\"sk-estimator-id-9\" class=\"sk-toggleable__label sk-toggleable__label-arrow\">KNeighborsClassifier</label><div class=\"sk-toggleable__content\"><pre>KNeighborsClassifier(metric=&#x27;dtw_sakoechiba&#x27;, metric_params={&#x27;window_size&#x27;: 3})</pre></div></div></div></div></div>"
      ],
      "text/plain": [
       "KNeighborsClassifier(metric='dtw_sakoechiba', metric_params={'window_size': 3})"
      ]
     },
     "execution_count": 65,
     "metadata": {},
     "output_type": "execute_result"
    }
   ],
   "source": [
    "clf = KNeighborsClassifier(metric='dtw_sakoechiba',  metric_params={'window_size':3})\n",
    "\n",
    "clf.fit(X_train, y_train)"
   ]
  },
  {
   "cell_type": "code",
   "execution_count": 66,
   "id": "8109d19d",
   "metadata": {
    "execution": {
     "iopub.execute_input": "2023-03-20T15:44:37.367089Z",
     "iopub.status.busy": "2023-03-20T15:44:37.366625Z",
     "iopub.status.idle": "2023-03-20T17:05:08.489416Z",
     "shell.execute_reply": "2023-03-20T17:05:08.488386Z"
    },
    "papermill": {
     "duration": 4831.167872,
     "end_time": "2023-03-20T17:05:08.508943",
     "exception": false,
     "start_time": "2023-03-20T15:44:37.341071",
     "status": "completed"
    },
    "tags": []
   },
   "outputs": [
    {
     "name": "stdout",
     "output_type": "stream",
     "text": [
      "              precision    recall  f1-score   support\n",
      "\n",
      "         pop       0.55      0.53      0.54      2400\n",
      "        rock       0.54      0.56      0.55      2400\n",
      "\n",
      "    accuracy                           0.54      4800\n",
      "   macro avg       0.54      0.54      0.54      4800\n",
      "weighted avg       0.54      0.54      0.54      4800\n",
      "\n",
      "CPU times: user 1h 20min 30s, sys: 803 ms, total: 1h 20min 31s\n",
      "Wall time: 1h 20min 31s\n"
     ]
    }
   ],
   "source": [
    "%%time\n",
    "y_pred = clf.predict(X_test)\n",
    "print(classification_report(y_test, y_pred))"
   ]
  },
  {
   "cell_type": "code",
   "execution_count": 67,
   "id": "b09f5cdf",
   "metadata": {
    "execution": {
     "iopub.execute_input": "2023-03-20T17:05:08.567179Z",
     "iopub.status.busy": "2023-03-20T17:05:08.566885Z",
     "iopub.status.idle": "2023-03-20T17:05:08.702816Z",
     "shell.execute_reply": "2023-03-20T17:05:08.702089Z"
    },
    "papermill": {
     "duration": 0.174224,
     "end_time": "2023-03-20T17:05:08.705650",
     "exception": false,
     "start_time": "2023-03-20T17:05:08.531426",
     "status": "completed"
    },
    "tags": []
   },
   "outputs": [],
   "source": [
    "acc = accuracy_score(y_test, y_pred)\n",
    "pre = precision_score(y_test, y_pred, average=avg_par)\n",
    "rec = recall_score(y_test, y_pred, average=avg_par)\n",
    "f1 = f1_score(y_test, y_pred, average=avg_par)\n",
    "\n",
    "metrics_data['KNN']['DTW'] = {'Accuracy': acc, 'Precision': pre, 'Recall': rec, 'F1': f1}"
   ]
  },
  {
   "cell_type": "markdown",
   "id": "e0e700a7",
   "metadata": {
    "papermill": {
     "duration": 0.014488,
     "end_time": "2023-03-20T17:05:08.745817",
     "exception": false,
     "start_time": "2023-03-20T17:05:08.731329",
     "status": "completed"
    },
    "tags": []
   },
   "source": [
    "## Overall Results"
   ]
  },
  {
   "cell_type": "code",
   "execution_count": 68,
   "id": "d003c193",
   "metadata": {
    "execution": {
     "iopub.execute_input": "2023-03-20T17:05:08.777195Z",
     "iopub.status.busy": "2023-03-20T17:05:08.776478Z",
     "iopub.status.idle": "2023-03-20T17:05:08.787097Z",
     "shell.execute_reply": "2023-03-20T17:05:08.785938Z"
    },
    "papermill": {
     "duration": 0.028795,
     "end_time": "2023-03-20T17:05:08.789141",
     "exception": false,
     "start_time": "2023-03-20T17:05:08.760346",
     "status": "completed"
    },
    "tags": []
   },
   "outputs": [],
   "source": [
    "metrics_data = pd.DataFrame.from_dict({(i,j): metrics_data[i][j] \n",
    "                                       for i in metrics_data.keys() \n",
    "                                       for j in metrics_data[i].keys()},\n",
    "                                       orient='index')"
   ]
  },
  {
   "cell_type": "code",
   "execution_count": 69,
   "id": "0944fe84",
   "metadata": {
    "execution": {
     "iopub.execute_input": "2023-03-20T17:05:08.821497Z",
     "iopub.status.busy": "2023-03-20T17:05:08.820827Z",
     "iopub.status.idle": "2023-03-20T17:05:08.956237Z",
     "shell.execute_reply": "2023-03-20T17:05:08.955312Z"
    },
    "papermill": {
     "duration": 0.154181,
     "end_time": "2023-03-20T17:05:08.958723",
     "exception": false,
     "start_time": "2023-03-20T17:05:08.804542",
     "status": "completed"
    },
    "tags": []
   },
   "outputs": [],
   "source": [
    "acc = accuracy_score(y_test, y_pred)\n",
    "pre = precision_score(y_test, y_pred, average=avg_par)\n",
    "rec = recall_score(y_test, y_pred, average=avg_par)\n",
    "f1 = f1_score(y_test, y_pred, average=avg_par)"
   ]
  },
  {
   "cell_type": "code",
   "execution_count": 70,
   "id": "7ee1b347",
   "metadata": {
    "execution": {
     "iopub.execute_input": "2023-03-20T17:05:09.032070Z",
     "iopub.status.busy": "2023-03-20T17:05:09.031755Z",
     "iopub.status.idle": "2023-03-20T17:05:09.046026Z",
     "shell.execute_reply": "2023-03-20T17:05:09.044473Z"
    },
    "papermill": {
     "duration": 0.053573,
     "end_time": "2023-03-20T17:05:09.049443",
     "exception": false,
     "start_time": "2023-03-20T17:05:08.995870",
     "status": "completed"
    },
    "tags": []
   },
   "outputs": [
    {
     "data": {
      "text/html": [
       "<div>\n",
       "<style scoped>\n",
       "    .dataframe tbody tr th:only-of-type {\n",
       "        vertical-align: middle;\n",
       "    }\n",
       "\n",
       "    .dataframe tbody tr th {\n",
       "        vertical-align: top;\n",
       "    }\n",
       "\n",
       "    .dataframe thead th {\n",
       "        text-align: right;\n",
       "    }\n",
       "</style>\n",
       "<table border=\"1\" class=\"dataframe\">\n",
       "  <thead>\n",
       "    <tr style=\"text-align: right;\">\n",
       "      <th></th>\n",
       "      <th></th>\n",
       "      <th>Accuracy</th>\n",
       "      <th>Precision</th>\n",
       "      <th>Recall</th>\n",
       "      <th>F1</th>\n",
       "    </tr>\n",
       "  </thead>\n",
       "  <tbody>\n",
       "    <tr>\n",
       "      <th rowspan=\"3\" valign=\"top\">Global</th>\n",
       "      <th>DecisionTree</th>\n",
       "      <td>0.532708</td>\n",
       "      <td>0.532721</td>\n",
       "      <td>0.532708</td>\n",
       "      <td>0.532664</td>\n",
       "    </tr>\n",
       "    <tr>\n",
       "      <th>RandomForest</th>\n",
       "      <td>0.567500</td>\n",
       "      <td>0.567809</td>\n",
       "      <td>0.567500</td>\n",
       "      <td>0.567007</td>\n",
       "    </tr>\n",
       "    <tr>\n",
       "      <th>LightGBM</th>\n",
       "      <td>0.583750</td>\n",
       "      <td>0.583946</td>\n",
       "      <td>0.583750</td>\n",
       "      <td>0.583507</td>\n",
       "    </tr>\n",
       "    <tr>\n",
       "      <th rowspan=\"3\" valign=\"top\">Shapelets</th>\n",
       "      <th>DecisionTree</th>\n",
       "      <td>0.537083</td>\n",
       "      <td>0.537095</td>\n",
       "      <td>0.537083</td>\n",
       "      <td>0.537048</td>\n",
       "    </tr>\n",
       "    <tr>\n",
       "      <th>RandomForest</th>\n",
       "      <td>0.602083</td>\n",
       "      <td>0.602152</td>\n",
       "      <td>0.602083</td>\n",
       "      <td>0.602017</td>\n",
       "    </tr>\n",
       "    <tr>\n",
       "      <th>LightGBM</th>\n",
       "      <td>0.601667</td>\n",
       "      <td>0.601675</td>\n",
       "      <td>0.601667</td>\n",
       "      <td>0.601658</td>\n",
       "    </tr>\n",
       "    <tr>\n",
       "      <th rowspan=\"2\" valign=\"top\">KNN</th>\n",
       "      <th>Euclidean</th>\n",
       "      <td>0.551042</td>\n",
       "      <td>0.561180</td>\n",
       "      <td>0.551042</td>\n",
       "      <td>0.531638</td>\n",
       "    </tr>\n",
       "    <tr>\n",
       "      <th>DTW</th>\n",
       "      <td>0.544167</td>\n",
       "      <td>0.544218</td>\n",
       "      <td>0.544167</td>\n",
       "      <td>0.544034</td>\n",
       "    </tr>\n",
       "  </tbody>\n",
       "</table>\n",
       "</div>"
      ],
      "text/plain": [
       "                        Accuracy  Precision    Recall        F1\n",
       "Global    DecisionTree  0.532708   0.532721  0.532708  0.532664\n",
       "          RandomForest  0.567500   0.567809  0.567500  0.567007\n",
       "          LightGBM      0.583750   0.583946  0.583750  0.583507\n",
       "Shapelets DecisionTree  0.537083   0.537095  0.537083  0.537048\n",
       "          RandomForest  0.602083   0.602152  0.602083  0.602017\n",
       "          LightGBM      0.601667   0.601675  0.601667  0.601658\n",
       "KNN       Euclidean     0.551042   0.561180  0.551042  0.531638\n",
       "          DTW           0.544167   0.544218  0.544167  0.544034"
      ]
     },
     "execution_count": 70,
     "metadata": {},
     "output_type": "execute_result"
    }
   ],
   "source": [
    "metrics_data"
   ]
  },
  {
   "cell_type": "code",
   "execution_count": 71,
   "id": "3efc173e",
   "metadata": {
    "execution": {
     "iopub.execute_input": "2023-03-20T17:05:09.098799Z",
     "iopub.status.busy": "2023-03-20T17:05:09.097979Z",
     "iopub.status.idle": "2023-03-20T17:05:09.109455Z",
     "shell.execute_reply": "2023-03-20T17:05:09.107879Z"
    },
    "papermill": {
     "duration": 0.029659,
     "end_time": "2023-03-20T17:05:09.111512",
     "exception": false,
     "start_time": "2023-03-20T17:05:09.081853",
     "status": "completed"
    },
    "tags": []
   },
   "outputs": [],
   "source": [
    "metrics_data.to_csv(f'{data_path}/metrics.csv')"
   ]
  },
  {
   "cell_type": "code",
   "execution_count": null,
   "id": "d21f5304",
   "metadata": {
    "papermill": {
     "duration": 0.014713,
     "end_time": "2023-03-20T17:05:09.142600",
     "exception": false,
     "start_time": "2023-03-20T17:05:09.127887",
     "status": "completed"
    },
    "tags": []
   },
   "outputs": [],
   "source": []
  }
 ],
 "metadata": {
  "celltoolbar": "Tags",
  "kernelspec": {
   "display_name": "Python 3 (ipykernel)",
   "language": "python",
   "name": "python3"
  },
  "language_info": {
   "codemirror_mode": {
    "name": "ipython",
    "version": 3
   },
   "file_extension": ".py",
   "mimetype": "text/x-python",
   "name": "python",
   "nbconvert_exporter": "python",
   "pygments_lexer": "ipython3",
   "version": "3.9.16"
  },
  "papermill": {
   "default_parameters": {},
   "duration": 6581.310722,
   "end_time": "2023-03-20T17:05:12.296549",
   "environment_variables": {},
   "exception": null,
   "input_path": "09_ts_classification.ipynb",
   "output_path": "../clf-reports/pp-rc_sentiment.ipynb",
   "parameters": {
    "data_path": "/home/mattiapggioli/lyrics2ts/data/classification/pp-rc/sentiment/",
    "paa_window_size": 20,
    "undersampling": 0.3
   },
   "start_time": "2023-03-20T15:15:30.985827",
   "version": "2.4.0"
  },
  "vscode": {
   "interpreter": {
    "hash": "eb8d1ded7c87c6f9c253b40add648304d6b51d2e38393955e855effc7e6f899a"
   }
  }
 },
 "nbformat": 4,
 "nbformat_minor": 5
}