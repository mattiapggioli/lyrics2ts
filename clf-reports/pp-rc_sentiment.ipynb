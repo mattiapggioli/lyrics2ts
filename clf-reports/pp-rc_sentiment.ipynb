{
 "cells": [
  {
   "cell_type": "markdown",
   "id": "d79a68c5",
   "metadata": {
    "papermill": {
     "duration": 0.034285,
     "end_time": "2023-03-09T14:31:38.169289",
     "exception": false,
     "start_time": "2023-03-09T14:31:38.135004",
     "status": "completed"
    },
    "tags": []
   },
   "source": [
    "# Time Series Classification"
   ]
  },
  {
   "cell_type": "code",
   "execution_count": 1,
   "id": "8a0cb2b0",
   "metadata": {
    "execution": {
     "iopub.execute_input": "2023-03-09T14:31:38.194137Z",
     "iopub.status.busy": "2023-03-09T14:31:38.193656Z",
     "iopub.status.idle": "2023-03-09T14:31:39.851250Z",
     "shell.execute_reply": "2023-03-09T14:31:39.850277Z"
    },
    "papermill": {
     "duration": 1.67277,
     "end_time": "2023-03-09T14:31:39.854252",
     "exception": false,
     "start_time": "2023-03-09T14:31:38.181482",
     "status": "completed"
    },
    "tags": []
   },
   "outputs": [],
   "source": [
    "%matplotlib inline\n",
    "import pandas as pd\n",
    "import numpy as np\n",
    "import matplotlib.pyplot as plt\n",
    "import seaborn as sns\n",
    "import re\n",
    "import os\n",
    "from sklearn.preprocessing import StandardScaler\n",
    "from sklearn.decomposition import PCA\n",
    "import joblib\n",
    "from tslearn.utils import to_time_series_dataset, save_time_series_txt, load_time_series_txt\n",
    "import random\n",
    "from sklearn.model_selection import train_test_split\n",
    "from sklearn.metrics import accuracy_score, f1_score, precision_score, recall_score, classification_report\n",
    "import pickle"
   ]
  },
  {
   "cell_type": "code",
   "execution_count": 2,
   "id": "acc03405",
   "metadata": {
    "execution": {
     "iopub.execute_input": "2023-03-09T14:31:39.912899Z",
     "iopub.status.busy": "2023-03-09T14:31:39.912225Z",
     "iopub.status.idle": "2023-03-09T14:31:39.917944Z",
     "shell.execute_reply": "2023-03-09T14:31:39.916925Z"
    },
    "papermill": {
     "duration": 0.035051,
     "end_time": "2023-03-09T14:31:39.919965",
     "exception": false,
     "start_time": "2023-03-09T14:31:39.884914",
     "status": "completed"
    },
    "tags": [
     "parameters"
    ]
   },
   "outputs": [],
   "source": [
    "data_path = '/home/mattiapggioli/lyrics2ts/data/classification/pp-rc/sbert/'\n",
    "truncate=100\n",
    "max_iter = 2000\n",
    "paa_window_size = None\n",
    "undersampling = None"
   ]
  },
  {
   "cell_type": "code",
   "execution_count": 3,
   "id": "dc1e0e3d",
   "metadata": {
    "execution": {
     "iopub.execute_input": "2023-03-09T14:31:39.950256Z",
     "iopub.status.busy": "2023-03-09T14:31:39.949933Z",
     "iopub.status.idle": "2023-03-09T14:31:39.953734Z",
     "shell.execute_reply": "2023-03-09T14:31:39.953119Z"
    },
    "papermill": {
     "duration": 0.024291,
     "end_time": "2023-03-09T14:31:39.955500",
     "exception": false,
     "start_time": "2023-03-09T14:31:39.931209",
     "status": "completed"
    },
    "tags": [
     "injected-parameters"
    ]
   },
   "outputs": [],
   "source": [
    "# Parameters\n",
    "data_path = \"/home/mattiapggioli/lyrics2ts/data/classification/pp-rc/sentiment/\"\n",
    "paa_window_size = 20\n",
    "undersampling = 0.3\n"
   ]
  },
  {
   "cell_type": "code",
   "execution_count": 4,
   "id": "a4f0c774",
   "metadata": {
    "execution": {
     "iopub.execute_input": "2023-03-09T14:31:39.977732Z",
     "iopub.status.busy": "2023-03-09T14:31:39.977419Z",
     "iopub.status.idle": "2023-03-09T14:31:57.402401Z",
     "shell.execute_reply": "2023-03-09T14:31:57.401553Z"
    },
    "papermill": {
     "duration": 17.439466,
     "end_time": "2023-03-09T14:31:57.405531",
     "exception": false,
     "start_time": "2023-03-09T14:31:39.966065",
     "status": "completed"
    },
    "tags": []
   },
   "outputs": [],
   "source": [
    "ts = load_time_series_txt(f'{data_path}/ts.txt')"
   ]
  },
  {
   "cell_type": "code",
   "execution_count": 5,
   "id": "5c48d154",
   "metadata": {
    "execution": {
     "iopub.execute_input": "2023-03-09T14:31:57.438246Z",
     "iopub.status.busy": "2023-03-09T14:31:57.437920Z",
     "iopub.status.idle": "2023-03-09T14:31:57.444058Z",
     "shell.execute_reply": "2023-03-09T14:31:57.443286Z"
    },
    "papermill": {
     "duration": 0.019382,
     "end_time": "2023-03-09T14:31:57.445784",
     "exception": false,
     "start_time": "2023-03-09T14:31:57.426402",
     "status": "completed"
    },
    "tags": []
   },
   "outputs": [
    {
     "data": {
      "text/plain": [
       "(24000, 130, 1)"
      ]
     },
     "execution_count": 5,
     "metadata": {},
     "output_type": "execute_result"
    }
   ],
   "source": [
    "ts.shape"
   ]
  },
  {
   "cell_type": "code",
   "execution_count": 6,
   "id": "f6274d40",
   "metadata": {
    "execution": {
     "iopub.execute_input": "2023-03-09T14:31:57.469440Z",
     "iopub.status.busy": "2023-03-09T14:31:57.468967Z",
     "iopub.status.idle": "2023-03-09T14:31:57.474921Z",
     "shell.execute_reply": "2023-03-09T14:31:57.474127Z"
    },
    "papermill": {
     "duration": 0.020062,
     "end_time": "2023-03-09T14:31:57.476684",
     "exception": false,
     "start_time": "2023-03-09T14:31:57.456622",
     "status": "completed"
    },
    "tags": []
   },
   "outputs": [],
   "source": [
    "with open(f'{data_path}/y_class.npy', 'rb') as f:\n",
    "    y = np.load(f, allow_pickle=True)"
   ]
  },
  {
   "cell_type": "code",
   "execution_count": 7,
   "id": "9d42fa3b",
   "metadata": {
    "execution": {
     "iopub.execute_input": "2023-03-09T14:31:57.501590Z",
     "iopub.status.busy": "2023-03-09T14:31:57.501340Z",
     "iopub.status.idle": "2023-03-09T14:31:57.507859Z",
     "shell.execute_reply": "2023-03-09T14:31:57.507026Z"
    },
    "papermill": {
     "duration": 0.021467,
     "end_time": "2023-03-09T14:31:57.510110",
     "exception": false,
     "start_time": "2023-03-09T14:31:57.488643",
     "status": "completed"
    },
    "tags": []
   },
   "outputs": [],
   "source": [
    "with open(f'{data_path}/X.npy', 'rb') as f:\n",
    "    X = np.load(f, allow_pickle=True)"
   ]
  },
  {
   "cell_type": "code",
   "execution_count": 8,
   "id": "1158a9da",
   "metadata": {
    "execution": {
     "iopub.execute_input": "2023-03-09T14:31:57.537243Z",
     "iopub.status.busy": "2023-03-09T14:31:57.536972Z",
     "iopub.status.idle": "2023-03-09T14:31:57.542473Z",
     "shell.execute_reply": "2023-03-09T14:31:57.541580Z"
    },
    "papermill": {
     "duration": 0.020199,
     "end_time": "2023-03-09T14:31:57.544094",
     "exception": false,
     "start_time": "2023-03-09T14:31:57.523895",
     "status": "completed"
    },
    "tags": []
   },
   "outputs": [
    {
     "data": {
      "text/plain": [
       "(24000, 6)"
      ]
     },
     "execution_count": 8,
     "metadata": {},
     "output_type": "execute_result"
    }
   ],
   "source": [
    "X.shape"
   ]
  },
  {
   "cell_type": "code",
   "execution_count": 9,
   "id": "47239790",
   "metadata": {
    "execution": {
     "iopub.execute_input": "2023-03-09T14:31:57.568253Z",
     "iopub.status.busy": "2023-03-09T14:31:57.567984Z",
     "iopub.status.idle": "2023-03-09T14:31:57.573883Z",
     "shell.execute_reply": "2023-03-09T14:31:57.572985Z"
    },
    "papermill": {
     "duration": 0.019543,
     "end_time": "2023-03-09T14:31:57.575553",
     "exception": false,
     "start_time": "2023-03-09T14:31:57.556010",
     "status": "completed"
    },
    "tags": []
   },
   "outputs": [
    {
     "data": {
      "text/plain": [
       "{'pop', 'rock'}"
      ]
     },
     "execution_count": 9,
     "metadata": {},
     "output_type": "execute_result"
    }
   ],
   "source": [
    "set(y)"
   ]
  },
  {
   "cell_type": "code",
   "execution_count": 10,
   "id": "37609992",
   "metadata": {
    "execution": {
     "iopub.execute_input": "2023-03-09T14:31:57.599340Z",
     "iopub.status.busy": "2023-03-09T14:31:57.599070Z",
     "iopub.status.idle": "2023-03-09T14:31:57.614044Z",
     "shell.execute_reply": "2023-03-09T14:31:57.613230Z"
    },
    "papermill": {
     "duration": 0.028476,
     "end_time": "2023-03-09T14:31:57.615800",
     "exception": false,
     "start_time": "2023-03-09T14:31:57.587324",
     "status": "completed"
    },
    "tags": []
   },
   "outputs": [],
   "source": [
    "ts_train, ts_test, y_train, y_test = train_test_split(ts, y, test_size=0.20, random_state=42)"
   ]
  },
  {
   "cell_type": "code",
   "execution_count": 11,
   "id": "34508fe4",
   "metadata": {
    "execution": {
     "iopub.execute_input": "2023-03-09T14:31:57.638225Z",
     "iopub.status.busy": "2023-03-09T14:31:57.637958Z",
     "iopub.status.idle": "2023-03-09T14:31:57.644442Z",
     "shell.execute_reply": "2023-03-09T14:31:57.643644Z"
    },
    "papermill": {
     "duration": 0.019658,
     "end_time": "2023-03-09T14:31:57.646050",
     "exception": false,
     "start_time": "2023-03-09T14:31:57.626392",
     "status": "completed"
    },
    "tags": []
   },
   "outputs": [],
   "source": [
    "X_train, X_test, y_train, y_test = train_test_split(X, y, test_size=0.20, random_state=42)"
   ]
  },
  {
   "cell_type": "code",
   "execution_count": 12,
   "id": "076afac9",
   "metadata": {
    "execution": {
     "iopub.execute_input": "2023-03-09T14:31:57.668626Z",
     "iopub.status.busy": "2023-03-09T14:31:57.668329Z",
     "iopub.status.idle": "2023-03-09T14:31:57.675942Z",
     "shell.execute_reply": "2023-03-09T14:31:57.675066Z"
    },
    "papermill": {
     "duration": 0.02072,
     "end_time": "2023-03-09T14:31:57.677501",
     "exception": false,
     "start_time": "2023-03-09T14:31:57.656781",
     "status": "completed"
    },
    "tags": []
   },
   "outputs": [
    {
     "data": {
      "text/plain": [
       "array([[-0.25  ],\n",
       "       [ 0.    ],\n",
       "       [ 0.4939],\n",
       "       [ 0.    ],\n",
       "       [ 0.    ],\n",
       "       [ 0.4215],\n",
       "       [ 0.5949],\n",
       "       [ 0.4019],\n",
       "       [ 0.    ],\n",
       "       [ 0.    ],\n",
       "       [ 0.3818],\n",
       "       [-0.0382],\n",
       "       [ 0.    ],\n",
       "       [ 0.    ],\n",
       "       [ 0.    ],\n",
       "       [ 0.    ],\n",
       "       [ 0.    ],\n",
       "       [ 0.    ],\n",
       "       [ 0.3818],\n",
       "       [-0.0382],\n",
       "       [ 0.    ],\n",
       "       [ 0.    ],\n",
       "       [ 0.    ],\n",
       "       [ 0.    ],\n",
       "       [ 0.    ],\n",
       "       [ 0.    ],\n",
       "       [ 0.    ],\n",
       "       [-0.631 ],\n",
       "       [ 0.    ],\n",
       "       [ 0.    ],\n",
       "       [ 0.4215],\n",
       "       [ 0.5949],\n",
       "       [ 0.4019],\n",
       "       [ 0.    ],\n",
       "       [ 0.    ],\n",
       "       [ 0.3818],\n",
       "       [-0.0382],\n",
       "       [ 0.    ],\n",
       "       [ 0.    ],\n",
       "       [ 0.    ],\n",
       "       [ 0.    ],\n",
       "       [ 0.    ],\n",
       "       [ 0.    ],\n",
       "       [ 0.3818],\n",
       "       [-0.0382],\n",
       "       [ 0.    ],\n",
       "       [ 0.    ],\n",
       "       [ 0.    ],\n",
       "       [ 0.    ],\n",
       "       [ 0.    ],\n",
       "       [ 0.    ],\n",
       "       [ 0.    ],\n",
       "       [ 0.    ],\n",
       "       [ 0.    ],\n",
       "       [ 0.    ],\n",
       "       [ 0.3818],\n",
       "       [-0.0382],\n",
       "       [ 0.    ],\n",
       "       [ 0.    ],\n",
       "       [ 0.    ],\n",
       "       [ 0.    ],\n",
       "       [ 0.    ],\n",
       "       [    nan],\n",
       "       [    nan],\n",
       "       [    nan],\n",
       "       [    nan],\n",
       "       [    nan],\n",
       "       [    nan],\n",
       "       [    nan],\n",
       "       [    nan],\n",
       "       [    nan],\n",
       "       [    nan],\n",
       "       [    nan],\n",
       "       [    nan],\n",
       "       [    nan],\n",
       "       [    nan],\n",
       "       [    nan],\n",
       "       [    nan],\n",
       "       [    nan],\n",
       "       [    nan],\n",
       "       [    nan],\n",
       "       [    nan],\n",
       "       [    nan],\n",
       "       [    nan],\n",
       "       [    nan],\n",
       "       [    nan],\n",
       "       [    nan],\n",
       "       [    nan],\n",
       "       [    nan],\n",
       "       [    nan],\n",
       "       [    nan],\n",
       "       [    nan],\n",
       "       [    nan],\n",
       "       [    nan],\n",
       "       [    nan],\n",
       "       [    nan],\n",
       "       [    nan],\n",
       "       [    nan],\n",
       "       [    nan],\n",
       "       [    nan],\n",
       "       [    nan],\n",
       "       [    nan],\n",
       "       [    nan],\n",
       "       [    nan],\n",
       "       [    nan],\n",
       "       [    nan],\n",
       "       [    nan],\n",
       "       [    nan],\n",
       "       [    nan],\n",
       "       [    nan],\n",
       "       [    nan],\n",
       "       [    nan],\n",
       "       [    nan],\n",
       "       [    nan],\n",
       "       [    nan],\n",
       "       [    nan],\n",
       "       [    nan],\n",
       "       [    nan],\n",
       "       [    nan],\n",
       "       [    nan],\n",
       "       [    nan],\n",
       "       [    nan],\n",
       "       [    nan],\n",
       "       [    nan],\n",
       "       [    nan],\n",
       "       [    nan],\n",
       "       [    nan],\n",
       "       [    nan],\n",
       "       [    nan],\n",
       "       [    nan]])"
      ]
     },
     "execution_count": 12,
     "metadata": {},
     "output_type": "execute_result"
    }
   ],
   "source": [
    "random.choice(ts_train)"
   ]
  },
  {
   "cell_type": "code",
   "execution_count": 13,
   "id": "ca66457a",
   "metadata": {
    "execution": {
     "iopub.execute_input": "2023-03-09T14:31:57.704636Z",
     "iopub.status.busy": "2023-03-09T14:31:57.704222Z",
     "iopub.status.idle": "2023-03-09T14:31:58.105867Z",
     "shell.execute_reply": "2023-03-09T14:31:58.104189Z"
    },
    "papermill": {
     "duration": 0.417861,
     "end_time": "2023-03-09T14:31:58.108635",
     "exception": false,
     "start_time": "2023-03-09T14:31:57.690774",
     "status": "completed"
    },
    "tags": []
   },
   "outputs": [
    {
     "data": {
      "text/plain": [
       "<AxesSubplot:ylabel='Count'>"
      ]
     },
     "execution_count": 13,
     "metadata": {},
     "output_type": "execute_result"
    },
    {
     "data": {
      "image/png": "[encoded data removed]",
      "text/plain": [
       "<Figure size 640x480 with 1 Axes>"
      ]
     },
     "metadata": {},
     "output_type": "display_data"
    }
   ],
   "source": [
    "sns.histplot([t[~np.any(np.isnan(t), axis=1)].shape[0] for t in ts_train])"
   ]
  },
  {
   "cell_type": "code",
   "execution_count": 14,
   "id": "c2ae286f",
   "metadata": {
    "execution": {
     "iopub.execute_input": "2023-03-09T14:31:58.138801Z",
     "iopub.status.busy": "2023-03-09T14:31:58.138073Z",
     "iopub.status.idle": "2023-03-09T14:31:58.143769Z",
     "shell.execute_reply": "2023-03-09T14:31:58.142701Z"
    },
    "papermill": {
     "duration": 0.023118,
     "end_time": "2023-03-09T14:31:58.145430",
     "exception": false,
     "start_time": "2023-03-09T14:31:58.122312",
     "status": "completed"
    },
    "tags": []
   },
   "outputs": [],
   "source": [
    "ts_train = ts_train[:, :truncate, :]\n",
    "ts_test = ts_test[:, :truncate, :]"
   ]
  },
  {
   "cell_type": "code",
   "execution_count": 15,
   "id": "3218baa4",
   "metadata": {
    "execution": {
     "iopub.execute_input": "2023-03-09T14:31:58.171396Z",
     "iopub.status.busy": "2023-03-09T14:31:58.170437Z",
     "iopub.status.idle": "2023-03-09T14:31:58.242771Z",
     "shell.execute_reply": "2023-03-09T14:31:58.242016Z"
    },
    "papermill": {
     "duration": 0.087745,
     "end_time": "2023-03-09T14:31:58.245385",
     "exception": false,
     "start_time": "2023-03-09T14:31:58.157640",
     "status": "completed"
    },
    "tags": []
   },
   "outputs": [],
   "source": [
    "mean_arr = np.nanmean(ts_train, axis=1, keepdims=True)\n",
    "nan_indices = np.isnan(ts_train)\n",
    "ts_train[nan_indices] = np.take(mean_arr, np.nonzero(nan_indices)[0])\n",
    "\n",
    "mean_arr = np.nanmean(ts_test, axis=1, keepdims=True)\n",
    "nan_indices = np.isnan(ts_test)\n",
    "ts_test[nan_indices] = np.take(mean_arr, np.nonzero(nan_indices)[0])"
   ]
  },
  {
   "cell_type": "code",
   "execution_count": 16,
   "id": "d369691b",
   "metadata": {
    "execution": {
     "iopub.execute_input": "2023-03-09T14:31:58.303206Z",
     "iopub.status.busy": "2023-03-09T14:31:58.302905Z",
     "iopub.status.idle": "2023-03-09T14:31:58.309513Z",
     "shell.execute_reply": "2023-03-09T14:31:58.308834Z"
    },
    "papermill": {
     "duration": 0.039421,
     "end_time": "2023-03-09T14:31:58.312730",
     "exception": false,
     "start_time": "2023-03-09T14:31:58.273309",
     "status": "completed"
    },
    "tags": []
   },
   "outputs": [
    {
     "data": {
      "text/plain": [
       "30"
      ]
     },
     "execution_count": 16,
     "metadata": {},
     "output_type": "execute_result"
    }
   ],
   "source": [
    "np.count_nonzero(np.isnan(X_train))"
   ]
  },
  {
   "cell_type": "code",
   "execution_count": 17,
   "id": "0d602e18",
   "metadata": {
    "execution": {
     "iopub.execute_input": "2023-03-09T14:31:58.350597Z",
     "iopub.status.busy": "2023-03-09T14:31:58.349800Z",
     "iopub.status.idle": "2023-03-09T14:31:58.355878Z",
     "shell.execute_reply": "2023-03-09T14:31:58.354742Z"
    },
    "papermill": {
     "duration": 0.021424,
     "end_time": "2023-03-09T14:31:58.358262",
     "exception": false,
     "start_time": "2023-03-09T14:31:58.336838",
     "status": "completed"
    },
    "tags": []
   },
   "outputs": [],
   "source": [
    "X_train[np.isnan(X_train)] = 0\n",
    "X_test[np.isnan(X_test)] = 0"
   ]
  },
  {
   "cell_type": "code",
   "execution_count": 18,
   "id": "45c5102c",
   "metadata": {
    "execution": {
     "iopub.execute_input": "2023-03-09T14:31:58.385391Z",
     "iopub.status.busy": "2023-03-09T14:31:58.385069Z",
     "iopub.status.idle": "2023-03-09T14:32:00.558748Z",
     "shell.execute_reply": "2023-03-09T14:32:00.558064Z"
    },
    "papermill": {
     "duration": 2.190336,
     "end_time": "2023-03-09T14:32:00.562731",
     "exception": false,
     "start_time": "2023-03-09T14:31:58.372395",
     "status": "completed"
    },
    "tags": []
   },
   "outputs": [],
   "source": [
    "save_time_series_txt(f'{data_path}/ts_train.txt', ts_train)\n",
    "save_time_series_txt(f'{data_path}/ts_test.txt', ts_test)"
   ]
  },
  {
   "cell_type": "code",
   "execution_count": 19,
   "id": "39830f37",
   "metadata": {
    "execution": {
     "iopub.execute_input": "2023-03-09T14:32:00.610181Z",
     "iopub.status.busy": "2023-03-09T14:32:00.609819Z",
     "iopub.status.idle": "2023-03-09T14:32:00.616867Z",
     "shell.execute_reply": "2023-03-09T14:32:00.615951Z"
    },
    "papermill": {
     "duration": 0.021322,
     "end_time": "2023-03-09T14:32:00.618426",
     "exception": false,
     "start_time": "2023-03-09T14:32:00.597104",
     "status": "completed"
    },
    "tags": []
   },
   "outputs": [],
   "source": [
    "with open(f'{data_path}/X_train.npy', 'wb') as f:\n",
    "    np.save(f, X_train, allow_pickle=True)\n",
    "\n",
    "with open(f'{data_path}/X_test.npy', 'wb') as f:\n",
    "    np.save(f, X_test, allow_pickle=True)"
   ]
  },
  {
   "cell_type": "code",
   "execution_count": 20,
   "id": "795fd2be",
   "metadata": {
    "execution": {
     "iopub.execute_input": "2023-03-09T14:32:00.645521Z",
     "iopub.status.busy": "2023-03-09T14:32:00.645103Z",
     "iopub.status.idle": "2023-03-09T14:32:00.652296Z",
     "shell.execute_reply": "2023-03-09T14:32:00.651639Z"
    },
    "papermill": {
     "duration": 0.022662,
     "end_time": "2023-03-09T14:32:00.655127",
     "exception": false,
     "start_time": "2023-03-09T14:32:00.632465",
     "status": "completed"
    },
    "tags": []
   },
   "outputs": [],
   "source": [
    "with open(f'{data_path}/y_train.npy', 'wb') as f:\n",
    "    np.save(f, y_train, allow_pickle=True)\n",
    "\n",
    "with open(f'{data_path}/y_test.npy', 'wb') as f:\n",
    "    np.save(f, y_test, allow_pickle=True)"
   ]
  },
  {
   "cell_type": "code",
   "execution_count": 21,
   "id": "08bda153",
   "metadata": {
    "execution": {
     "iopub.execute_input": "2023-03-09T14:32:00.695893Z",
     "iopub.status.busy": "2023-03-09T14:32:00.695265Z",
     "iopub.status.idle": "2023-03-09T14:32:00.844008Z",
     "shell.execute_reply": "2023-03-09T14:32:00.843233Z"
    },
    "papermill": {
     "duration": 0.162923,
     "end_time": "2023-03-09T14:32:00.845893",
     "exception": false,
     "start_time": "2023-03-09T14:32:00.682970",
     "status": "completed"
    },
    "tags": []
   },
   "outputs": [
    {
     "data": {
      "text/plain": [
       "[<matplotlib.lines.Line2D at 0x7ffb0ee21700>]"
      ]
     },
     "execution_count": 21,
     "metadata": {},
     "output_type": "execute_result"
    },
    {
     "data": {
      "image/png": "[encoded data removed]",
      "text/plain": [
       "<Figure size 640x480 with 1 Axes>"
      ]
     },
     "metadata": {},
     "output_type": "display_data"
    }
   ],
   "source": [
    "plt.plot(random.choice(ts_train))"
   ]
  },
  {
   "cell_type": "code",
   "execution_count": 22,
   "id": "98ce9d63",
   "metadata": {
    "execution": {
     "iopub.execute_input": "2023-03-09T14:32:00.877050Z",
     "iopub.status.busy": "2023-03-09T14:32:00.876294Z",
     "iopub.status.idle": "2023-03-09T14:32:00.883404Z",
     "shell.execute_reply": "2023-03-09T14:32:00.882301Z"
    },
    "papermill": {
     "duration": 0.021633,
     "end_time": "2023-03-09T14:32:00.885132",
     "exception": false,
     "start_time": "2023-03-09T14:32:00.863499",
     "status": "completed"
    },
    "tags": []
   },
   "outputs": [],
   "source": [
    "# Parameters that require knowing if it's binary or multiclass (LightGBM, metrics)\n",
    "if len(set(y)) == 2:\n",
    "    avg_par = 'macro'\n",
    "    obj_par = 'binary'\n",
    "elif len(set(y)) > 2:\n",
    "    avg_par = 'macro'\n",
    "    obj_par = 'multiclass'"
   ]
  },
  {
   "cell_type": "markdown",
   "id": "228f1b39",
   "metadata": {
    "papermill": {
     "duration": 0.032214,
     "end_time": "2023-03-09T14:32:00.929200",
     "exception": false,
     "start_time": "2023-03-09T14:32:00.896986",
     "status": "completed"
    },
    "tags": []
   },
   "source": [
    "## Classification"
   ]
  },
  {
   "cell_type": "code",
   "execution_count": 23,
   "id": "34bb73ff",
   "metadata": {
    "execution": {
     "iopub.execute_input": "2023-03-09T14:32:00.959977Z",
     "iopub.status.busy": "2023-03-09T14:32:00.959098Z",
     "iopub.status.idle": "2023-03-09T14:32:01.073979Z",
     "shell.execute_reply": "2023-03-09T14:32:01.073323Z"
    },
    "papermill": {
     "duration": 0.129971,
     "end_time": "2023-03-09T14:32:01.076095",
     "exception": false,
     "start_time": "2023-03-09T14:32:00.946124",
     "status": "completed"
    },
    "tags": []
   },
   "outputs": [],
   "source": [
    "from sklearn.tree import DecisionTreeClassifier\n",
    "import lightgbm as lgbm\n",
    "from sklearn.ensemble import RandomForestClassifier"
   ]
  },
  {
   "cell_type": "code",
   "execution_count": 24,
   "id": "02aaee18",
   "metadata": {
    "execution": {
     "iopub.execute_input": "2023-03-09T14:32:01.105967Z",
     "iopub.status.busy": "2023-03-09T14:32:01.105631Z",
     "iopub.status.idle": "2023-03-09T14:32:01.109321Z",
     "shell.execute_reply": "2023-03-09T14:32:01.108677Z"
    },
    "papermill": {
     "duration": 0.019975,
     "end_time": "2023-03-09T14:32:01.110826",
     "exception": false,
     "start_time": "2023-03-09T14:32:01.090851",
     "status": "completed"
    },
    "tags": []
   },
   "outputs": [],
   "source": [
    "metrics_data = {}"
   ]
  },
  {
   "cell_type": "markdown",
   "id": "b49309ed",
   "metadata": {
    "papermill": {
     "duration": 0.012329,
     "end_time": "2023-03-09T14:32:01.138193",
     "exception": false,
     "start_time": "2023-03-09T14:32:01.125864",
     "status": "completed"
    },
    "tags": []
   },
   "source": [
    "### Baseline: global features (No Time Series)"
   ]
  },
  {
   "cell_type": "code",
   "execution_count": 25,
   "id": "35eb9f66",
   "metadata": {
    "execution": {
     "iopub.execute_input": "2023-03-09T14:32:01.163466Z",
     "iopub.status.busy": "2023-03-09T14:32:01.162962Z",
     "iopub.status.idle": "2023-03-09T14:32:01.168347Z",
     "shell.execute_reply": "2023-03-09T14:32:01.167345Z"
    },
    "papermill": {
     "duration": 0.019802,
     "end_time": "2023-03-09T14:32:01.169995",
     "exception": false,
     "start_time": "2023-03-09T14:32:01.150193",
     "status": "completed"
    },
    "tags": []
   },
   "outputs": [],
   "source": [
    "metrics_data['Global'] = {}"
   ]
  },
  {
   "cell_type": "markdown",
   "id": "29cd5044",
   "metadata": {
    "papermill": {
     "duration": 0.011264,
     "end_time": "2023-03-09T14:32:01.193876",
     "exception": false,
     "start_time": "2023-03-09T14:32:01.182612",
     "status": "completed"
    },
    "tags": []
   },
   "source": [
    "**Decision Tree**"
   ]
  },
  {
   "cell_type": "code",
   "execution_count": 26,
   "id": "9ef4f037",
   "metadata": {
    "execution": {
     "iopub.execute_input": "2023-03-09T14:32:01.219590Z",
     "iopub.status.busy": "2023-03-09T14:32:01.219096Z",
     "iopub.status.idle": "2023-03-09T14:32:01.456661Z",
     "shell.execute_reply": "2023-03-09T14:32:01.455634Z"
    },
    "papermill": {
     "duration": 0.25381,
     "end_time": "2023-03-09T14:32:01.459178",
     "exception": false,
     "start_time": "2023-03-09T14:32:01.205368",
     "status": "completed"
    },
    "tags": []
   },
   "outputs": [
    {
     "data": {
      "text/html": [
       "<style>#sk-container-id-1 {color: black;background-color: white;}#sk-container-id-1 pre{padding: 0;}#sk-container-id-1 div.sk-toggleable {background-color: white;}#sk-container-id-1 label.sk-toggleable__label {cursor: pointer;display: block;width: 100%;margin-bottom: 0;padding: 0.3em;box-sizing: border-box;text-align: center;}#sk-container-id-1 label.sk-toggleable__label-arrow:before {content: \"▸\";float: left;margin-right: 0.25em;color: #696969;}#sk-container-id-1 label.sk-toggleable__label-arrow:hover:before {color: black;}#sk-container-id-1 div.sk-estimator:hover label.sk-toggleable__label-arrow:before {color: black;}#sk-container-id-1 div.sk-toggleable__content {max-height: 0;max-width: 0;overflow: hidden;text-align: left;background-color: #f0f8ff;}#sk-container-id-1 div.sk-toggleable__content pre {margin: 0.2em;color: black;border-radius: 0.25em;background-color: #f0f8ff;}#sk-container-id-1 input.sk-toggleable__control:checked~div.sk-toggleable__content {max-height: 200px;max-width: 100%;overflow: auto;}#sk-container-id-1 input.sk-toggleable__control:checked~label.sk-toggleable__label-arrow:before {content: \"▾\";}#sk-container-id-1 div.sk-estimator input.sk-toggleable__control:checked~label.sk-toggleable__label {background-color: #d4ebff;}#sk-container-id-1 div.sk-label input.sk-toggleable__control:checked~label.sk-toggleable__label {background-color: #d4ebff;}#sk-container-id-1 input.sk-hidden--visually {border: 0;clip: rect(1px 1px 1px 1px);clip: rect(1px, 1px, 1px, 1px);height: 1px;margin: -1px;overflow: hidden;padding: 0;position: absolute;width: 1px;}#sk-container-id-1 div.sk-estimator {font-family: monospace;background-color: #f0f8ff;border: 1px dotted black;border-radius: 0.25em;box-sizing: border-box;margin-bottom: 0.5em;}#sk-container-id-1 div.sk-estimator:hover {background-color: #d4ebff;}#sk-container-id-1 div.sk-parallel-item::after {content: \"\";width: 100%;border-bottom: 1px solid gray;flex-grow: 1;}#sk-container-id-1 div.sk-label:hover label.sk-toggleable__label {background-color: #d4ebff;}#sk-container-id-1 div.sk-serial::before {content: \"\";position: absolute;border-left: 1px solid gray;box-sizing: border-box;top: 0;bottom: 0;left: 50%;z-index: 0;}#sk-container-id-1 div.sk-serial {display: flex;flex-direction: column;align-items: center;background-color: white;padding-right: 0.2em;padding-left: 0.2em;position: relative;}#sk-container-id-1 div.sk-item {position: relative;z-index: 1;}#sk-container-id-1 div.sk-parallel {display: flex;align-items: stretch;justify-content: center;background-color: white;position: relative;}#sk-container-id-1 div.sk-item::before, #sk-container-id-1 div.sk-parallel-item::before {content: \"\";position: absolute;border-left: 1px solid gray;box-sizing: border-box;top: 0;bottom: 0;left: 50%;z-index: -1;}#sk-container-id-1 div.sk-parallel-item {display: flex;flex-direction: column;z-index: 1;position: relative;background-color: white;}#sk-container-id-1 div.sk-parallel-item:first-child::after {align-self: flex-end;width: 50%;}#sk-container-id-1 div.sk-parallel-item:last-child::after {align-self: flex-start;width: 50%;}#sk-container-id-1 div.sk-parallel-item:only-child::after {width: 0;}#sk-container-id-1 div.sk-dashed-wrapped {border: 1px dashed gray;margin: 0 0.4em 0.5em 0.4em;box-sizing: border-box;padding-bottom: 0.4em;background-color: white;}#sk-container-id-1 div.sk-label label {font-family: monospace;font-weight: bold;display: inline-block;line-height: 1.2em;}#sk-container-id-1 div.sk-label-container {text-align: center;}#sk-container-id-1 div.sk-container {/* jupyter's `normalize.less` sets `[hidden] { display: none; }` but bootstrap.min.css set `[hidden] { display: none !important; }` so we also need the `!important` here to be able to override the default hidden behavior on the sphinx rendered scikit-learn.org. See: https://github.com/scikit-learn/scikit-learn/issues/21755 */display: inline-block !important;position: relative;}#sk-container-id-1 div.sk-text-repr-fallback {display: none;}</style><div id=\"sk-container-id-1\" class=\"sk-top-container\"><div class=\"sk-text-repr-fallback\"><pre>DecisionTreeClassifier()</pre><b>In a Jupyter environment, please rerun this cell to show the HTML representation or trust the notebook. <br />On GitHub, the HTML representation is unable to render, please try loading this page with nbviewer.org.</b></div><div class=\"sk-container\" hidden><div class=\"sk-item\"><div class=\"sk-estimator sk-toggleable\"><input class=\"sk-toggleable__control sk-hidden--visually\" id=\"sk-estimator-id-1\" type=\"checkbox\" checked><label for=\"sk-estimator-id-1\" class=\"sk-toggleable__label sk-toggleable__label-arrow\">DecisionTreeClassifier</label><div class=\"sk-toggleable__content\"><pre>DecisionTreeClassifier()</pre></div></div></div></div></div>"
      ],
      "text/plain": [
       "DecisionTreeClassifier()"
      ]
     },
     "execution_count": 26,
     "metadata": {},
     "output_type": "execute_result"
    }
   ],
   "source": [
    "clf = DecisionTreeClassifier()\n",
    "clf.fit(X_train, y_train)"
   ]
  },
  {
   "cell_type": "code",
   "execution_count": 27,
   "id": "9c50acc4",
   "metadata": {
    "execution": {
     "iopub.execute_input": "2023-03-09T14:32:01.488535Z",
     "iopub.status.busy": "2023-03-09T14:32:01.488095Z",
     "iopub.status.idle": "2023-03-09T14:32:01.623064Z",
     "shell.execute_reply": "2023-03-09T14:32:01.622229Z"
    },
    "papermill": {
     "duration": 0.151514,
     "end_time": "2023-03-09T14:32:01.625937",
     "exception": false,
     "start_time": "2023-03-09T14:32:01.474423",
     "status": "completed"
    },
    "tags": []
   },
   "outputs": [
    {
     "name": "stdout",
     "output_type": "stream",
     "text": [
      "              precision    recall  f1-score   support\n",
      "\n",
      "         pop       0.52      0.54      0.53      2391\n",
      "        rock       0.53      0.51      0.52      2409\n",
      "\n",
      "    accuracy                           0.53      4800\n",
      "   macro avg       0.53      0.53      0.53      4800\n",
      "weighted avg       0.53      0.53      0.53      4800\n",
      "\n"
     ]
    }
   ],
   "source": [
    "y_pred = clf.predict(X_test)\n",
    "print(classification_report(y_test, y_pred))"
   ]
  },
  {
   "cell_type": "code",
   "execution_count": 28,
   "id": "8866c3c3",
   "metadata": {
    "execution": {
     "iopub.execute_input": "2023-03-09T14:32:01.694174Z",
     "iopub.status.busy": "2023-03-09T14:32:01.693654Z",
     "iopub.status.idle": "2023-03-09T14:32:01.828466Z",
     "shell.execute_reply": "2023-03-09T14:32:01.827496Z"
    },
    "papermill": {
     "duration": 0.171892,
     "end_time": "2023-03-09T14:32:01.831785",
     "exception": false,
     "start_time": "2023-03-09T14:32:01.659893",
     "status": "completed"
    },
    "tags": []
   },
   "outputs": [],
   "source": [
    "acc = accuracy_score(y_test, y_pred)\n",
    "pre = precision_score(y_test, y_pred, average=avg_par)\n",
    "rec = recall_score(y_test, y_pred, average=avg_par)\n",
    "f1 = f1_score(y_test, y_pred, average=avg_par)\n",
    "\n",
    "metrics_data['Global']['DecisionTree'] = {'Accuracy': acc, 'Precision': pre, 'Recall': rec, 'F1': f1}"
   ]
  },
  {
   "cell_type": "markdown",
   "id": "28aa5a63",
   "metadata": {
    "papermill": {
     "duration": 0.015818,
     "end_time": "2023-03-09T14:32:01.875645",
     "exception": false,
     "start_time": "2023-03-09T14:32:01.859827",
     "status": "completed"
    },
    "tags": []
   },
   "source": [
    "**Random Forest**"
   ]
  },
  {
   "cell_type": "code",
   "execution_count": 29,
   "id": "0e5e2310",
   "metadata": {
    "execution": {
     "iopub.execute_input": "2023-03-09T14:32:01.914379Z",
     "iopub.status.busy": "2023-03-09T14:32:01.913965Z",
     "iopub.status.idle": "2023-03-09T14:32:05.853168Z",
     "shell.execute_reply": "2023-03-09T14:32:05.852531Z"
    },
    "papermill": {
     "duration": 3.95625,
     "end_time": "2023-03-09T14:32:05.856333",
     "exception": false,
     "start_time": "2023-03-09T14:32:01.900083",
     "status": "completed"
    },
    "tags": []
   },
   "outputs": [
    {
     "data": {
      "text/html": [
       "<style>#sk-container-id-2 {color: black;background-color: white;}#sk-container-id-2 pre{padding: 0;}#sk-container-id-2 div.sk-toggleable {background-color: white;}#sk-container-id-2 label.sk-toggleable__label {cursor: pointer;display: block;width: 100%;margin-bottom: 0;padding: 0.3em;box-sizing: border-box;text-align: center;}#sk-container-id-2 label.sk-toggleable__label-arrow:before {content: \"▸\";float: left;margin-right: 0.25em;color: #696969;}#sk-container-id-2 label.sk-toggleable__label-arrow:hover:before {color: black;}#sk-container-id-2 div.sk-estimator:hover label.sk-toggleable__label-arrow:before {color: black;}#sk-container-id-2 div.sk-toggleable__content {max-height: 0;max-width: 0;overflow: hidden;text-align: left;background-color: #f0f8ff;}#sk-container-id-2 div.sk-toggleable__content pre {margin: 0.2em;color: black;border-radius: 0.25em;background-color: #f0f8ff;}#sk-container-id-2 input.sk-toggleable__control:checked~div.sk-toggleable__content {max-height: 200px;max-width: 100%;overflow: auto;}#sk-container-id-2 input.sk-toggleable__control:checked~label.sk-toggleable__label-arrow:before {content: \"▾\";}#sk-container-id-2 div.sk-estimator input.sk-toggleable__control:checked~label.sk-toggleable__label {background-color: #d4ebff;}#sk-container-id-2 div.sk-label input.sk-toggleable__control:checked~label.sk-toggleable__label {background-color: #d4ebff;}#sk-container-id-2 input.sk-hidden--visually {border: 0;clip: rect(1px 1px 1px 1px);clip: rect(1px, 1px, 1px, 1px);height: 1px;margin: -1px;overflow: hidden;padding: 0;position: absolute;width: 1px;}#sk-container-id-2 div.sk-estimator {font-family: monospace;background-color: #f0f8ff;border: 1px dotted black;border-radius: 0.25em;box-sizing: border-box;margin-bottom: 0.5em;}#sk-container-id-2 div.sk-estimator:hover {background-color: #d4ebff;}#sk-container-id-2 div.sk-parallel-item::after {content: \"\";width: 100%;border-bottom: 1px solid gray;flex-grow: 1;}#sk-container-id-2 div.sk-label:hover label.sk-toggleable__label {background-color: #d4ebff;}#sk-container-id-2 div.sk-serial::before {content: \"\";position: absolute;border-left: 1px solid gray;box-sizing: border-box;top: 0;bottom: 0;left: 50%;z-index: 0;}#sk-container-id-2 div.sk-serial {display: flex;flex-direction: column;align-items: center;background-color: white;padding-right: 0.2em;padding-left: 0.2em;position: relative;}#sk-container-id-2 div.sk-item {position: relative;z-index: 1;}#sk-container-id-2 div.sk-parallel {display: flex;align-items: stretch;justify-content: center;background-color: white;position: relative;}#sk-container-id-2 div.sk-item::before, #sk-container-id-2 div.sk-parallel-item::before {content: \"\";position: absolute;border-left: 1px solid gray;box-sizing: border-box;top: 0;bottom: 0;left: 50%;z-index: -1;}#sk-container-id-2 div.sk-parallel-item {display: flex;flex-direction: column;z-index: 1;position: relative;background-color: white;}#sk-container-id-2 div.sk-parallel-item:first-child::after {align-self: flex-end;width: 50%;}#sk-container-id-2 div.sk-parallel-item:last-child::after {align-self: flex-start;width: 50%;}#sk-container-id-2 div.sk-parallel-item:only-child::after {width: 0;}#sk-container-id-2 div.sk-dashed-wrapped {border: 1px dashed gray;margin: 0 0.4em 0.5em 0.4em;box-sizing: border-box;padding-bottom: 0.4em;background-color: white;}#sk-container-id-2 div.sk-label label {font-family: monospace;font-weight: bold;display: inline-block;line-height: 1.2em;}#sk-container-id-2 div.sk-label-container {text-align: center;}#sk-container-id-2 div.sk-container {/* jupyter's `normalize.less` sets `[hidden] { display: none; }` but bootstrap.min.css set `[hidden] { display: none !important; }` so we also need the `!important` here to be able to override the default hidden behavior on the sphinx rendered scikit-learn.org. See: https://github.com/scikit-learn/scikit-learn/issues/21755 */display: inline-block !important;position: relative;}#sk-container-id-2 div.sk-text-repr-fallback {display: none;}</style><div id=\"sk-container-id-2\" class=\"sk-top-container\"><div class=\"sk-text-repr-fallback\"><pre>RandomForestClassifier(random_state=42)</pre><b>In a Jupyter environment, please rerun this cell to show the HTML representation or trust the notebook. <br />On GitHub, the HTML representation is unable to render, please try loading this page with nbviewer.org.</b></div><div class=\"sk-container\" hidden><div class=\"sk-item\"><div class=\"sk-estimator sk-toggleable\"><input class=\"sk-toggleable__control sk-hidden--visually\" id=\"sk-estimator-id-2\" type=\"checkbox\" checked><label for=\"sk-estimator-id-2\" class=\"sk-toggleable__label sk-toggleable__label-arrow\">RandomForestClassifier</label><div class=\"sk-toggleable__content\"><pre>RandomForestClassifier(random_state=42)</pre></div></div></div></div></div>"
      ],
      "text/plain": [
       "RandomForestClassifier(random_state=42)"
      ]
     },
     "execution_count": 29,
     "metadata": {},
     "output_type": "execute_result"
    }
   ],
   "source": [
    "clf = RandomForestClassifier(random_state=42)\n",
    "clf.fit(X_train, y_train)"
   ]
  },
  {
   "cell_type": "code",
   "execution_count": 30,
   "id": "4bd1304b",
   "metadata": {
    "execution": {
     "iopub.execute_input": "2023-03-09T14:32:05.925250Z",
     "iopub.status.busy": "2023-03-09T14:32:05.924923Z",
     "iopub.status.idle": "2023-03-09T14:32:06.146882Z",
     "shell.execute_reply": "2023-03-09T14:32:06.146136Z"
    },
    "papermill": {
     "duration": 0.257896,
     "end_time": "2023-03-09T14:32:06.148809",
     "exception": false,
     "start_time": "2023-03-09T14:32:05.890913",
     "status": "completed"
    },
    "tags": []
   },
   "outputs": [
    {
     "name": "stdout",
     "output_type": "stream",
     "text": [
      "              precision    recall  f1-score   support\n",
      "\n",
      "         pop       0.57      0.60      0.59      2391\n",
      "        rock       0.58      0.56      0.57      2409\n",
      "\n",
      "    accuracy                           0.58      4800\n",
      "   macro avg       0.58      0.58      0.58      4800\n",
      "weighted avg       0.58      0.58      0.58      4800\n",
      "\n"
     ]
    }
   ],
   "source": [
    "y_pred = clf.predict(X_test)\n",
    "print(classification_report(y_test, y_pred))"
   ]
  },
  {
   "cell_type": "code",
   "execution_count": 31,
   "id": "43174ba2",
   "metadata": {
    "execution": {
     "iopub.execute_input": "2023-03-09T14:32:06.176332Z",
     "iopub.status.busy": "2023-03-09T14:32:06.175971Z",
     "iopub.status.idle": "2023-03-09T14:32:06.270436Z",
     "shell.execute_reply": "2023-03-09T14:32:06.269728Z"
    },
    "papermill": {
     "duration": 0.109976,
     "end_time": "2023-03-09T14:32:06.272673",
     "exception": false,
     "start_time": "2023-03-09T14:32:06.162697",
     "status": "completed"
    },
    "tags": []
   },
   "outputs": [],
   "source": [
    "acc = accuracy_score(y_test, y_pred)\n",
    "pre = precision_score(y_test, y_pred, average=avg_par)\n",
    "rec = recall_score(y_test, y_pred, average=avg_par)\n",
    "f1 = f1_score(y_test, y_pred, average=avg_par)\n",
    "\n",
    "metrics_data['Global']['RandomForest'] = {'Accuracy': acc, 'Precision': pre, 'Recall': rec, 'F1': f1}"
   ]
  },
  {
   "cell_type": "markdown",
   "id": "22c98ac5",
   "metadata": {
    "papermill": {
     "duration": 0.030462,
     "end_time": "2023-03-09T14:32:06.333511",
     "exception": false,
     "start_time": "2023-03-09T14:32:06.303049",
     "status": "completed"
    },
    "tags": []
   },
   "source": [
    "**LightGBM**"
   ]
  },
  {
   "cell_type": "code",
   "execution_count": 32,
   "id": "c93b818c",
   "metadata": {
    "execution": {
     "iopub.execute_input": "2023-03-09T14:32:06.370909Z",
     "iopub.status.busy": "2023-03-09T14:32:06.370578Z",
     "iopub.status.idle": "2023-03-09T14:32:06.506847Z",
     "shell.execute_reply": "2023-03-09T14:32:06.505994Z"
    },
    "papermill": {
     "duration": 0.15106,
     "end_time": "2023-03-09T14:32:06.508631",
     "exception": false,
     "start_time": "2023-03-09T14:32:06.357571",
     "status": "completed"
    },
    "tags": []
   },
   "outputs": [
    {
     "data": {
      "text/html": [
       "<style>#sk-container-id-3 {color: black;background-color: white;}#sk-container-id-3 pre{padding: 0;}#sk-container-id-3 div.sk-toggleable {background-color: white;}#sk-container-id-3 label.sk-toggleable__label {cursor: pointer;display: block;width: 100%;margin-bottom: 0;padding: 0.3em;box-sizing: border-box;text-align: center;}#sk-container-id-3 label.sk-toggleable__label-arrow:before {content: \"▸\";float: left;margin-right: 0.25em;color: #696969;}#sk-container-id-3 label.sk-toggleable__label-arrow:hover:before {color: black;}#sk-container-id-3 div.sk-estimator:hover label.sk-toggleable__label-arrow:before {color: black;}#sk-container-id-3 div.sk-toggleable__content {max-height: 0;max-width: 0;overflow: hidden;text-align: left;background-color: #f0f8ff;}#sk-container-id-3 div.sk-toggleable__content pre {margin: 0.2em;color: black;border-radius: 0.25em;background-color: #f0f8ff;}#sk-container-id-3 input.sk-toggleable__control:checked~div.sk-toggleable__content {max-height: 200px;max-width: 100%;overflow: auto;}#sk-container-id-3 input.sk-toggleable__control:checked~label.sk-toggleable__label-arrow:before {content: \"▾\";}#sk-container-id-3 div.sk-estimator input.sk-toggleable__control:checked~label.sk-toggleable__label {background-color: #d4ebff;}#sk-container-id-3 div.sk-label input.sk-toggleable__control:checked~label.sk-toggleable__label {background-color: #d4ebff;}#sk-container-id-3 input.sk-hidden--visually {border: 0;clip: rect(1px 1px 1px 1px);clip: rect(1px, 1px, 1px, 1px);height: 1px;margin: -1px;overflow: hidden;padding: 0;position: absolute;width: 1px;}#sk-container-id-3 div.sk-estimator {font-family: monospace;background-color: #f0f8ff;border: 1px dotted black;border-radius: 0.25em;box-sizing: border-box;margin-bottom: 0.5em;}#sk-container-id-3 div.sk-estimator:hover {background-color: #d4ebff;}#sk-container-id-3 div.sk-parallel-item::after {content: \"\";width: 100%;border-bottom: 1px solid gray;flex-grow: 1;}#sk-container-id-3 div.sk-label:hover label.sk-toggleable__label {background-color: #d4ebff;}#sk-container-id-3 div.sk-serial::before {content: \"\";position: absolute;border-left: 1px solid gray;box-sizing: border-box;top: 0;bottom: 0;left: 50%;z-index: 0;}#sk-container-id-3 div.sk-serial {display: flex;flex-direction: column;align-items: center;background-color: white;padding-right: 0.2em;padding-left: 0.2em;position: relative;}#sk-container-id-3 div.sk-item {position: relative;z-index: 1;}#sk-container-id-3 div.sk-parallel {display: flex;align-items: stretch;justify-content: center;background-color: white;position: relative;}#sk-container-id-3 div.sk-item::before, #sk-container-id-3 div.sk-parallel-item::before {content: \"\";position: absolute;border-left: 1px solid gray;box-sizing: border-box;top: 0;bottom: 0;left: 50%;z-index: -1;}#sk-container-id-3 div.sk-parallel-item {display: flex;flex-direction: column;z-index: 1;position: relative;background-color: white;}#sk-container-id-3 div.sk-parallel-item:first-child::after {align-self: flex-end;width: 50%;}#sk-container-id-3 div.sk-parallel-item:last-child::after {align-self: flex-start;width: 50%;}#sk-container-id-3 div.sk-parallel-item:only-child::after {width: 0;}#sk-container-id-3 div.sk-dashed-wrapped {border: 1px dashed gray;margin: 0 0.4em 0.5em 0.4em;box-sizing: border-box;padding-bottom: 0.4em;background-color: white;}#sk-container-id-3 div.sk-label label {font-family: monospace;font-weight: bold;display: inline-block;line-height: 1.2em;}#sk-container-id-3 div.sk-label-container {text-align: center;}#sk-container-id-3 div.sk-container {/* jupyter's `normalize.less` sets `[hidden] { display: none; }` but bootstrap.min.css set `[hidden] { display: none !important; }` so we also need the `!important` here to be able to override the default hidden behavior on the sphinx rendered scikit-learn.org. See: https://github.com/scikit-learn/scikit-learn/issues/21755 */display: inline-block !important;position: relative;}#sk-container-id-3 div.sk-text-repr-fallback {display: none;}</style><div id=\"sk-container-id-3\" class=\"sk-top-container\"><div class=\"sk-text-repr-fallback\"><pre>LGBMClassifier(objective=&#x27;binary&#x27;)</pre><b>In a Jupyter environment, please rerun this cell to show the HTML representation or trust the notebook. <br />On GitHub, the HTML representation is unable to render, please try loading this page with nbviewer.org.</b></div><div class=\"sk-container\" hidden><div class=\"sk-item\"><div class=\"sk-estimator sk-toggleable\"><input class=\"sk-toggleable__control sk-hidden--visually\" id=\"sk-estimator-id-3\" type=\"checkbox\" checked><label for=\"sk-estimator-id-3\" class=\"sk-toggleable__label sk-toggleable__label-arrow\">LGBMClassifier</label><div class=\"sk-toggleable__content\"><pre>LGBMClassifier(objective=&#x27;binary&#x27;)</pre></div></div></div></div></div>"
      ],
      "text/plain": [
       "LGBMClassifier(objective='binary')"
      ]
     },
     "execution_count": 32,
     "metadata": {},
     "output_type": "execute_result"
    }
   ],
   "source": [
    "clf = lgbm.LGBMClassifier(objective=obj_par) \n",
    "clf.fit(X_train, y_train)"
   ]
  },
  {
   "cell_type": "code",
   "execution_count": 33,
   "id": "600a663a",
   "metadata": {
    "execution": {
     "iopub.execute_input": "2023-03-09T14:32:06.535940Z",
     "iopub.status.busy": "2023-03-09T14:32:06.535312Z",
     "iopub.status.idle": "2023-03-09T14:32:06.668565Z",
     "shell.execute_reply": "2023-03-09T14:32:06.667845Z"
    },
    "papermill": {
     "duration": 0.149477,
     "end_time": "2023-03-09T14:32:06.670951",
     "exception": false,
     "start_time": "2023-03-09T14:32:06.521474",
     "status": "completed"
    },
    "tags": []
   },
   "outputs": [
    {
     "name": "stdout",
     "output_type": "stream",
     "text": [
      "              precision    recall  f1-score   support\n",
      "\n",
      "         pop       0.59      0.61      0.60      2391\n",
      "        rock       0.60      0.58      0.59      2409\n",
      "\n",
      "    accuracy                           0.60      4800\n",
      "   macro avg       0.60      0.60      0.60      4800\n",
      "weighted avg       0.60      0.60      0.60      4800\n",
      "\n"
     ]
    }
   ],
   "source": [
    "y_pred = clf.predict(X_test)\n",
    "print(classification_report(y_test, y_pred))"
   ]
  },
  {
   "cell_type": "code",
   "execution_count": 34,
   "id": "508d831d",
   "metadata": {
    "execution": {
     "iopub.execute_input": "2023-03-09T14:32:06.735997Z",
     "iopub.status.busy": "2023-03-09T14:32:06.735514Z",
     "iopub.status.idle": "2023-03-09T14:32:06.836588Z",
     "shell.execute_reply": "2023-03-09T14:32:06.835921Z"
    },
    "papermill": {
     "duration": 0.136731,
     "end_time": "2023-03-09T14:32:06.839063",
     "exception": false,
     "start_time": "2023-03-09T14:32:06.702332",
     "status": "completed"
    },
    "tags": []
   },
   "outputs": [],
   "source": [
    "acc = accuracy_score(y_test, y_pred)\n",
    "pre = precision_score(y_test, y_pred, average=avg_par)\n",
    "rec = recall_score(y_test, y_pred, average=avg_par)\n",
    "f1 = f1_score(y_test, y_pred, average=avg_par)\n",
    "\n",
    "metrics_data['Global']['LightGBM'] = {'Accuracy': acc, 'Precision': pre, 'Recall': rec, 'F1': f1}"
   ]
  },
  {
   "cell_type": "markdown",
   "id": "14b86894",
   "metadata": {
    "papermill": {
     "duration": 0.034814,
     "end_time": "2023-03-09T14:32:06.900037",
     "exception": false,
     "start_time": "2023-03-09T14:32:06.865223",
     "status": "completed"
    },
    "tags": []
   },
   "source": [
    "### Time Series Classification"
   ]
  },
  {
   "cell_type": "markdown",
   "id": "84c55533",
   "metadata": {
    "papermill": {
     "duration": 0.012102,
     "end_time": "2023-03-09T14:32:06.936627",
     "exception": false,
     "start_time": "2023-03-09T14:32:06.924525",
     "status": "completed"
    },
    "tags": []
   },
   "source": [
    "#### Learning Shapelets"
   ]
  },
  {
   "cell_type": "code",
   "execution_count": 35,
   "id": "488d8eb7",
   "metadata": {
    "execution": {
     "iopub.execute_input": "2023-03-09T14:32:06.962964Z",
     "iopub.status.busy": "2023-03-09T14:32:06.962551Z",
     "iopub.status.idle": "2023-03-09T14:32:09.540449Z",
     "shell.execute_reply": "2023-03-09T14:32:09.539728Z"
    },
    "papermill": {
     "duration": 2.593743,
     "end_time": "2023-03-09T14:32:09.542607",
     "exception": false,
     "start_time": "2023-03-09T14:32:06.948864",
     "status": "completed"
    },
    "tags": []
   },
   "outputs": [
    {
     "name": "stderr",
     "output_type": "stream",
     "text": [
      "2023-03-09 15:32:06.971679: I tensorflow/core/platform/cpu_feature_guard.cc:193] This TensorFlow binary is optimized with oneAPI Deep Neural Network Library (oneDNN) to use the following CPU instructions in performance-critical operations:  AVX2 FMA\n",
      "To enable them in other operations, rebuild TensorFlow with the appropriate compiler flags.\n"
     ]
    },
    {
     "name": "stderr",
     "output_type": "stream",
     "text": [
      "2023-03-09 15:32:07.264165: W tensorflow/compiler/xla/stream_executor/platform/default/dso_loader.cc:64] Could not load dynamic library 'libcudart.so.11.0'; dlerror: libcudart.so.11.0: cannot open shared object file: No such file or directory\n",
      "2023-03-09 15:32:07.264189: I tensorflow/compiler/xla/stream_executor/cuda/cudart_stub.cc:29] Ignore above cudart dlerror if you do not have a GPU set up on your machine.\n"
     ]
    },
    {
     "name": "stderr",
     "output_type": "stream",
     "text": [
      "2023-03-09 15:32:08.318710: W tensorflow/compiler/xla/stream_executor/platform/default/dso_loader.cc:64] Could not load dynamic library 'libnvinfer.so.7'; dlerror: libnvinfer.so.7: cannot open shared object file: No such file or directory\n",
      "2023-03-09 15:32:08.318806: W tensorflow/compiler/xla/stream_executor/platform/default/dso_loader.cc:64] Could not load dynamic library 'libnvinfer_plugin.so.7'; dlerror: libnvinfer_plugin.so.7: cannot open shared object file: No such file or directory\n",
      "2023-03-09 15:32:08.318815: W tensorflow/compiler/tf2tensorrt/utils/py_utils.cc:38] TF-TRT Warning: Cannot dlopen some TensorRT libraries. If you would like to use Nvidia GPU with TensorRT, please make sure the missing libraries mentioned above are installed properly.\n"
     ]
    }
   ],
   "source": [
    "from tslearn.shapelets import LearningShapelets, grabocka_params_to_shapelet_size_dict"
   ]
  },
  {
   "cell_type": "code",
   "execution_count": 36,
   "id": "eb677959",
   "metadata": {
    "execution": {
     "iopub.execute_input": "2023-03-09T14:32:09.613380Z",
     "iopub.status.busy": "2023-03-09T14:32:09.612336Z",
     "iopub.status.idle": "2023-03-09T14:32:09.617884Z",
     "shell.execute_reply": "2023-03-09T14:32:09.616991Z"
    },
    "papermill": {
     "duration": 0.040781,
     "end_time": "2023-03-09T14:32:09.619296",
     "exception": false,
     "start_time": "2023-03-09T14:32:09.578515",
     "status": "completed"
    },
    "tags": []
   },
   "outputs": [],
   "source": [
    "n_ts, ts_sz, _ = ts_train.shape\n",
    "n_classes = len(set(y_train))"
   ]
  },
  {
   "cell_type": "code",
   "execution_count": 37,
   "id": "776ed3dd",
   "metadata": {
    "execution": {
     "iopub.execute_input": "2023-03-09T14:32:09.647297Z",
     "iopub.status.busy": "2023-03-09T14:32:09.646684Z",
     "iopub.status.idle": "2023-03-09T14:32:09.653576Z",
     "shell.execute_reply": "2023-03-09T14:32:09.652613Z"
    },
    "papermill": {
     "duration": 0.022573,
     "end_time": "2023-03-09T14:32:09.655013",
     "exception": false,
     "start_time": "2023-03-09T14:32:09.632440",
     "status": "completed"
    },
    "tags": []
   },
   "outputs": [
    {
     "name": "stdout",
     "output_type": "stream",
     "text": [
      "n_ts 19200\n",
      "ts_sz 100\n",
      "n_classes 2\n",
      "shapelet_sizes {10: 6}\n"
     ]
    }
   ],
   "source": [
    "# Set the number of shapelets per size as done in the original paper\n",
    "g_shapelet_sizes = grabocka_params_to_shapelet_size_dict(n_ts=n_ts,\n",
    "                                                         ts_sz=ts_sz,\n",
    "                                                         n_classes=n_classes,\n",
    "                                                         l=0.1,\n",
    "                                                         r=1)\n",
    "\n",
    "print('n_ts', n_ts)\n",
    "print('ts_sz', ts_sz)\n",
    "print('n_classes', n_classes)\n",
    "print('shapelet_sizes', g_shapelet_sizes)"
   ]
  },
  {
   "cell_type": "code",
   "execution_count": 38,
   "id": "90ed707e",
   "metadata": {
    "execution": {
     "iopub.execute_input": "2023-03-09T14:32:09.682362Z",
     "iopub.status.busy": "2023-03-09T14:32:09.681783Z",
     "iopub.status.idle": "2023-03-09T14:32:09.689406Z",
     "shell.execute_reply": "2023-03-09T14:32:09.688461Z"
    },
    "papermill": {
     "duration": 0.022955,
     "end_time": "2023-03-09T14:32:09.691041",
     "exception": false,
     "start_time": "2023-03-09T14:32:09.668086",
     "status": "completed"
    },
    "tags": []
   },
   "outputs": [
    {
     "data": {
      "text/plain": [
       "{10: 6, 20: 6, 5: 6}"
      ]
     },
     "execution_count": 38,
     "metadata": {},
     "output_type": "execute_result"
    }
   ],
   "source": [
    "shapelet_sizes = {}\n",
    "for key in g_shapelet_sizes:\n",
    "    shapelet_sizes[key] = g_shapelet_sizes[key]\n",
    "    shapelet_sizes[key*2] = g_shapelet_sizes[key]\n",
    "    shapelet_sizes[key//2] = g_shapelet_sizes[key]\n",
    "shapelet_sizes"
   ]
  },
  {
   "cell_type": "code",
   "execution_count": 39,
   "id": "3507fb9c",
   "metadata": {
    "execution": {
     "iopub.execute_input": "2023-03-09T14:32:09.718482Z",
     "iopub.status.busy": "2023-03-09T14:32:09.717491Z",
     "iopub.status.idle": "2023-03-09T14:32:09.726068Z",
     "shell.execute_reply": "2023-03-09T14:32:09.724635Z"
    },
    "papermill": {
     "duration": 0.02421,
     "end_time": "2023-03-09T14:32:09.727729",
     "exception": false,
     "start_time": "2023-03-09T14:32:09.703519",
     "status": "completed"
    },
    "tags": []
   },
   "outputs": [
    {
     "name": "stderr",
     "output_type": "stream",
     "text": [
      "/home/mattiapggioli/lyrics2ts/.venv/lib/python3.9/site-packages/tslearn/shapelets/shapelets.py:354: FutureWarning: The default value for 'scale' is set to False in version 0.4 to ensure backward compatibility, but is likely to change in a future version.\n",
      "  warnings.warn(\"The default value for 'scale' is set to False \"\n"
     ]
    }
   ],
   "source": [
    "model = LearningShapelets(n_shapelets_per_size=shapelet_sizes,\n",
    "                          optimizer=\"adam\", \n",
    "                          weight_regularizer=.01, \n",
    "                          max_iter=max_iter, verbose=0, random_state=42)"
   ]
  },
  {
   "cell_type": "code",
   "execution_count": 40,
   "id": "73b1fe2e",
   "metadata": {
    "execution": {
     "iopub.execute_input": "2023-03-09T14:32:09.755544Z",
     "iopub.status.busy": "2023-03-09T14:32:09.754827Z",
     "iopub.status.idle": "2023-03-09T14:59:50.422499Z",
     "shell.execute_reply": "2023-03-09T14:59:50.421438Z"
    },
    "papermill": {
     "duration": 1660.736915,
     "end_time": "2023-03-09T14:59:50.477512",
     "exception": false,
     "start_time": "2023-03-09T14:32:09.740597",
     "status": "completed"
    },
    "tags": []
   },
   "outputs": [
    {
     "name": "stderr",
     "output_type": "stream",
     "text": [
      "2023-03-09 15:32:10.343995: W tensorflow/compiler/xla/stream_executor/platform/default/dso_loader.cc:64] Could not load dynamic library 'libcuda.so.1'; dlerror: libcuda.so.1: cannot open shared object file: No such file or directory\n",
      "2023-03-09 15:32:10.344021: W tensorflow/compiler/xla/stream_executor/cuda/cuda_driver.cc:265] failed call to cuInit: UNKNOWN ERROR (303)\n",
      "2023-03-09 15:32:10.344038: I tensorflow/compiler/xla/stream_executor/cuda/cuda_diagnostics.cc:156] kernel driver does not appear to be running on this host (mattiapggioli-ThinkPad-E595): /proc/driver/nvidia/version does not exist\n",
      "2023-03-09 15:32:10.344249: I tensorflow/core/platform/cpu_feature_guard.cc:193] This TensorFlow binary is optimized with oneAPI Deep Neural Network Library (oneDNN) to use the following CPU instructions in performance-critical operations:  AVX2 FMA\n",
      "To enable them in other operations, rebuild TensorFlow with the appropriate compiler flags.\n"
     ]
    },
    {
     "name": "stdout",
     "output_type": "stream",
     "text": [
      "CPU times: user 2h 28min 4s, sys: 7min 41s, total: 2h 35min 46s\n",
      "Wall time: 27min 40s\n"
     ]
    },
    {
     "data": {
      "text/html": [
       "<style>#sk-container-id-4 {color: black;background-color: white;}#sk-container-id-4 pre{padding: 0;}#sk-container-id-4 div.sk-toggleable {background-color: white;}#sk-container-id-4 label.sk-toggleable__label {cursor: pointer;display: block;width: 100%;margin-bottom: 0;padding: 0.3em;box-sizing: border-box;text-align: center;}#sk-container-id-4 label.sk-toggleable__label-arrow:before {content: \"▸\";float: left;margin-right: 0.25em;color: #696969;}#sk-container-id-4 label.sk-toggleable__label-arrow:hover:before {color: black;}#sk-container-id-4 div.sk-estimator:hover label.sk-toggleable__label-arrow:before {color: black;}#sk-container-id-4 div.sk-toggleable__content {max-height: 0;max-width: 0;overflow: hidden;text-align: left;background-color: #f0f8ff;}#sk-container-id-4 div.sk-toggleable__content pre {margin: 0.2em;color: black;border-radius: 0.25em;background-color: #f0f8ff;}#sk-container-id-4 input.sk-toggleable__control:checked~div.sk-toggleable__content {max-height: 200px;max-width: 100%;overflow: auto;}#sk-container-id-4 input.sk-toggleable__control:checked~label.sk-toggleable__label-arrow:before {content: \"▾\";}#sk-container-id-4 div.sk-estimator input.sk-toggleable__control:checked~label.sk-toggleable__label {background-color: #d4ebff;}#sk-container-id-4 div.sk-label input.sk-toggleable__control:checked~label.sk-toggleable__label {background-color: #d4ebff;}#sk-container-id-4 input.sk-hidden--visually {border: 0;clip: rect(1px 1px 1px 1px);clip: rect(1px, 1px, 1px, 1px);height: 1px;margin: -1px;overflow: hidden;padding: 0;position: absolute;width: 1px;}#sk-container-id-4 div.sk-estimator {font-family: monospace;background-color: #f0f8ff;border: 1px dotted black;border-radius: 0.25em;box-sizing: border-box;margin-bottom: 0.5em;}#sk-container-id-4 div.sk-estimator:hover {background-color: #d4ebff;}#sk-container-id-4 div.sk-parallel-item::after {content: \"\";width: 100%;border-bottom: 1px solid gray;flex-grow: 1;}#sk-container-id-4 div.sk-label:hover label.sk-toggleable__label {background-color: #d4ebff;}#sk-container-id-4 div.sk-serial::before {content: \"\";position: absolute;border-left: 1px solid gray;box-sizing: border-box;top: 0;bottom: 0;left: 50%;z-index: 0;}#sk-container-id-4 div.sk-serial {display: flex;flex-direction: column;align-items: center;background-color: white;padding-right: 0.2em;padding-left: 0.2em;position: relative;}#sk-container-id-4 div.sk-item {position: relative;z-index: 1;}#sk-container-id-4 div.sk-parallel {display: flex;align-items: stretch;justify-content: center;background-color: white;position: relative;}#sk-container-id-4 div.sk-item::before, #sk-container-id-4 div.sk-parallel-item::before {content: \"\";position: absolute;border-left: 1px solid gray;box-sizing: border-box;top: 0;bottom: 0;left: 50%;z-index: -1;}#sk-container-id-4 div.sk-parallel-item {display: flex;flex-direction: column;z-index: 1;position: relative;background-color: white;}#sk-container-id-4 div.sk-parallel-item:first-child::after {align-self: flex-end;width: 50%;}#sk-container-id-4 div.sk-parallel-item:last-child::after {align-self: flex-start;width: 50%;}#sk-container-id-4 div.sk-parallel-item:only-child::after {width: 0;}#sk-container-id-4 div.sk-dashed-wrapped {border: 1px dashed gray;margin: 0 0.4em 0.5em 0.4em;box-sizing: border-box;padding-bottom: 0.4em;background-color: white;}#sk-container-id-4 div.sk-label label {font-family: monospace;font-weight: bold;display: inline-block;line-height: 1.2em;}#sk-container-id-4 div.sk-label-container {text-align: center;}#sk-container-id-4 div.sk-container {/* jupyter's `normalize.less` sets `[hidden] { display: none; }` but bootstrap.min.css set `[hidden] { display: none !important; }` so we also need the `!important` here to be able to override the default hidden behavior on the sphinx rendered scikit-learn.org. See: https://github.com/scikit-learn/scikit-learn/issues/21755 */display: inline-block !important;position: relative;}#sk-container-id-4 div.sk-text-repr-fallback {display: none;}</style><div id=\"sk-container-id-4\" class=\"sk-top-container\"><div class=\"sk-text-repr-fallback\"><pre>LearningShapelets(max_iter=2000, n_shapelets_per_size={5: 6, 10: 6, 20: 6},\n",
       "                  optimizer=&#x27;adam&#x27;, random_state=42, weight_regularizer=0.01)</pre><b>In a Jupyter environment, please rerun this cell to show the HTML representation or trust the notebook. <br />On GitHub, the HTML representation is unable to render, please try loading this page with nbviewer.org.</b></div><div class=\"sk-container\" hidden><div class=\"sk-item\"><div class=\"sk-estimator sk-toggleable\"><input class=\"sk-toggleable__control sk-hidden--visually\" id=\"sk-estimator-id-4\" type=\"checkbox\" checked><label for=\"sk-estimator-id-4\" class=\"sk-toggleable__label sk-toggleable__label-arrow\">LearningShapelets</label><div class=\"sk-toggleable__content\"><pre>LearningShapelets(max_iter=2000, n_shapelets_per_size={5: 6, 10: 6, 20: 6},\n",
       "                  optimizer=&#x27;adam&#x27;, random_state=42, weight_regularizer=0.01)</pre></div></div></div></div></div>"
      ],
      "text/plain": [
       "LearningShapelets(max_iter=2000, n_shapelets_per_size={5: 6, 10: 6, 20: 6},\n",
       "                  optimizer='adam', random_state=42, weight_regularizer=0.01)"
      ]
     },
     "execution_count": 40,
     "metadata": {},
     "output_type": "execute_result"
    }
   ],
   "source": [
    "%%time\n",
    "model.fit(ts_train, y_train)"
   ]
  },
  {
   "cell_type": "code",
   "execution_count": 41,
   "id": "51706baa",
   "metadata": {
    "execution": {
     "iopub.execute_input": "2023-03-09T14:59:50.506908Z",
     "iopub.status.busy": "2023-03-09T14:59:50.506151Z",
     "iopub.status.idle": "2023-03-09T14:59:50.542573Z",
     "shell.execute_reply": "2023-03-09T14:59:50.541005Z"
    },
    "papermill": {
     "duration": 0.053419,
     "end_time": "2023-03-09T14:59:50.544717",
     "exception": false,
     "start_time": "2023-03-09T14:59:50.491298",
     "status": "completed"
    },
    "tags": []
   },
   "outputs": [],
   "source": [
    "model.to_pickle(f'{data_path}/shapelets.pkl')"
   ]
  },
  {
   "cell_type": "markdown",
   "id": "309f70dc",
   "metadata": {
    "papermill": {
     "duration": 0.012637,
     "end_time": "2023-03-09T14:59:50.572426",
     "exception": false,
     "start_time": "2023-03-09T14:59:50.559789",
     "status": "completed"
    },
    "tags": []
   },
   "source": [
    "#### Shapelet-Based Classification"
   ]
  },
  {
   "cell_type": "code",
   "execution_count": 42,
   "id": "60125dff",
   "metadata": {
    "execution": {
     "iopub.execute_input": "2023-03-09T14:59:50.601135Z",
     "iopub.status.busy": "2023-03-09T14:59:50.600812Z",
     "iopub.status.idle": "2023-03-09T14:59:50.606216Z",
     "shell.execute_reply": "2023-03-09T14:59:50.604734Z"
    },
    "papermill": {
     "duration": 0.022159,
     "end_time": "2023-03-09T14:59:50.608016",
     "exception": false,
     "start_time": "2023-03-09T14:59:50.585857",
     "status": "completed"
    },
    "tags": []
   },
   "outputs": [],
   "source": [
    "metrics_data['Shapelets'] = {}"
   ]
  },
  {
   "cell_type": "code",
   "execution_count": 43,
   "id": "efb8984d",
   "metadata": {
    "execution": {
     "iopub.execute_input": "2023-03-09T14:59:50.639038Z",
     "iopub.status.busy": "2023-03-09T14:59:50.637995Z",
     "iopub.status.idle": "2023-03-09T14:59:52.567792Z",
     "shell.execute_reply": "2023-03-09T14:59:52.566890Z"
    },
    "papermill": {
     "duration": 1.948383,
     "end_time": "2023-03-09T14:59:52.570538",
     "exception": false,
     "start_time": "2023-03-09T14:59:50.622155",
     "status": "completed"
    },
    "tags": []
   },
   "outputs": [],
   "source": [
    "X_train = model.transform(ts_train)\n",
    "X_test = model.transform(ts_test)"
   ]
  },
  {
   "cell_type": "code",
   "execution_count": 44,
   "id": "2e6c0f22",
   "metadata": {
    "execution": {
     "iopub.execute_input": "2023-03-09T14:59:52.600856Z",
     "iopub.status.busy": "2023-03-09T14:59:52.600559Z",
     "iopub.status.idle": "2023-03-09T14:59:52.645183Z",
     "shell.execute_reply": "2023-03-09T14:59:52.643591Z"
    },
    "papermill": {
     "duration": 0.061976,
     "end_time": "2023-03-09T14:59:52.648471",
     "exception": false,
     "start_time": "2023-03-09T14:59:52.586495",
     "status": "completed"
    },
    "tags": []
   },
   "outputs": [
    {
     "data": {
      "text/html": [
       "<div>\n",
       "<style scoped>\n",
       "    .dataframe tbody tr th:only-of-type {\n",
       "        vertical-align: middle;\n",
       "    }\n",
       "\n",
       "    .dataframe tbody tr th {\n",
       "        vertical-align: top;\n",
       "    }\n",
       "\n",
       "    .dataframe thead th {\n",
       "        text-align: right;\n",
       "    }\n",
       "</style>\n",
       "<table border=\"1\" class=\"dataframe\">\n",
       "  <thead>\n",
       "    <tr style=\"text-align: right;\">\n",
       "      <th></th>\n",
       "      <th>0</th>\n",
       "      <th>1</th>\n",
       "      <th>2</th>\n",
       "      <th>3</th>\n",
       "      <th>4</th>\n",
       "      <th>5</th>\n",
       "      <th>6</th>\n",
       "      <th>7</th>\n",
       "      <th>8</th>\n",
       "      <th>9</th>\n",
       "      <th>10</th>\n",
       "      <th>11</th>\n",
       "      <th>12</th>\n",
       "      <th>13</th>\n",
       "      <th>14</th>\n",
       "      <th>15</th>\n",
       "      <th>16</th>\n",
       "      <th>17</th>\n",
       "    </tr>\n",
       "  </thead>\n",
       "  <tbody>\n",
       "    <tr>\n",
       "      <th>0</th>\n",
       "      <td>1.736309</td>\n",
       "      <td>2.711189</td>\n",
       "      <td>1.599732</td>\n",
       "      <td>1.837851</td>\n",
       "      <td>0.068616</td>\n",
       "      <td>2.587881</td>\n",
       "      <td>2.866190</td>\n",
       "      <td>2.871496</td>\n",
       "      <td>2.381603</td>\n",
       "      <td>2.466886</td>\n",
       "      <td>1.306587</td>\n",
       "      <td>2.964690</td>\n",
       "      <td>4.395278</td>\n",
       "      <td>4.571095</td>\n",
       "      <td>5.505516</td>\n",
       "      <td>4.476365</td>\n",
       "      <td>5.259868</td>\n",
       "      <td>4.726801</td>\n",
       "    </tr>\n",
       "    <tr>\n",
       "      <th>1</th>\n",
       "      <td>2.219407</td>\n",
       "      <td>2.666731</td>\n",
       "      <td>2.022638</td>\n",
       "      <td>2.147897</td>\n",
       "      <td>0.017284</td>\n",
       "      <td>2.569921</td>\n",
       "      <td>3.424742</td>\n",
       "      <td>3.539864</td>\n",
       "      <td>0.888707</td>\n",
       "      <td>3.016982</td>\n",
       "      <td>1.445810</td>\n",
       "      <td>3.356858</td>\n",
       "      <td>3.993488</td>\n",
       "      <td>4.108575</td>\n",
       "      <td>6.608398</td>\n",
       "      <td>4.205392</td>\n",
       "      <td>4.901956</td>\n",
       "      <td>4.194648</td>\n",
       "    </tr>\n",
       "    <tr>\n",
       "      <th>2</th>\n",
       "      <td>1.986571</td>\n",
       "      <td>2.607952</td>\n",
       "      <td>1.810917</td>\n",
       "      <td>1.879006</td>\n",
       "      <td>0.133414</td>\n",
       "      <td>2.525110</td>\n",
       "      <td>2.724258</td>\n",
       "      <td>2.934357</td>\n",
       "      <td>2.714205</td>\n",
       "      <td>2.419048</td>\n",
       "      <td>1.403469</td>\n",
       "      <td>2.735333</td>\n",
       "      <td>4.268023</td>\n",
       "      <td>4.414555</td>\n",
       "      <td>5.816562</td>\n",
       "      <td>4.455762</td>\n",
       "      <td>5.092762</td>\n",
       "      <td>4.592347</td>\n",
       "    </tr>\n",
       "    <tr>\n",
       "      <th>3</th>\n",
       "      <td>1.865576</td>\n",
       "      <td>2.347274</td>\n",
       "      <td>1.721559</td>\n",
       "      <td>1.971913</td>\n",
       "      <td>0.119174</td>\n",
       "      <td>2.248674</td>\n",
       "      <td>3.051014</td>\n",
       "      <td>2.742810</td>\n",
       "      <td>2.583583</td>\n",
       "      <td>2.723583</td>\n",
       "      <td>1.428535</td>\n",
       "      <td>3.112778</td>\n",
       "      <td>4.676630</td>\n",
       "      <td>4.826322</td>\n",
       "      <td>5.797175</td>\n",
       "      <td>4.783082</td>\n",
       "      <td>5.367151</td>\n",
       "      <td>4.920337</td>\n",
       "    </tr>\n",
       "    <tr>\n",
       "      <th>4</th>\n",
       "      <td>1.995426</td>\n",
       "      <td>2.758196</td>\n",
       "      <td>1.688428</td>\n",
       "      <td>1.947369</td>\n",
       "      <td>0.069742</td>\n",
       "      <td>2.680191</td>\n",
       "      <td>3.333718</td>\n",
       "      <td>3.627626</td>\n",
       "      <td>2.157736</td>\n",
       "      <td>2.757351</td>\n",
       "      <td>1.425601</td>\n",
       "      <td>3.386841</td>\n",
       "      <td>4.270614</td>\n",
       "      <td>4.370966</td>\n",
       "      <td>6.391231</td>\n",
       "      <td>4.511196</td>\n",
       "      <td>4.713781</td>\n",
       "      <td>4.462203</td>\n",
       "    </tr>\n",
       "    <tr>\n",
       "      <th>...</th>\n",
       "      <td>...</td>\n",
       "      <td>...</td>\n",
       "      <td>...</td>\n",
       "      <td>...</td>\n",
       "      <td>...</td>\n",
       "      <td>...</td>\n",
       "      <td>...</td>\n",
       "      <td>...</td>\n",
       "      <td>...</td>\n",
       "      <td>...</td>\n",
       "      <td>...</td>\n",
       "      <td>...</td>\n",
       "      <td>...</td>\n",
       "      <td>...</td>\n",
       "      <td>...</td>\n",
       "      <td>...</td>\n",
       "      <td>...</td>\n",
       "      <td>...</td>\n",
       "    </tr>\n",
       "    <tr>\n",
       "      <th>4795</th>\n",
       "      <td>2.096933</td>\n",
       "      <td>3.010987</td>\n",
       "      <td>1.952978</td>\n",
       "      <td>2.116539</td>\n",
       "      <td>0.072220</td>\n",
       "      <td>2.894277</td>\n",
       "      <td>3.262274</td>\n",
       "      <td>3.352664</td>\n",
       "      <td>2.372973</td>\n",
       "      <td>2.965132</td>\n",
       "      <td>1.480251</td>\n",
       "      <td>3.386512</td>\n",
       "      <td>4.511777</td>\n",
       "      <td>4.656647</td>\n",
       "      <td>5.871186</td>\n",
       "      <td>4.562500</td>\n",
       "      <td>5.304555</td>\n",
       "      <td>4.758532</td>\n",
       "    </tr>\n",
       "    <tr>\n",
       "      <th>4796</th>\n",
       "      <td>1.786115</td>\n",
       "      <td>2.649632</td>\n",
       "      <td>1.651606</td>\n",
       "      <td>1.826109</td>\n",
       "      <td>0.042178</td>\n",
       "      <td>2.523452</td>\n",
       "      <td>2.960092</td>\n",
       "      <td>3.387705</td>\n",
       "      <td>2.096426</td>\n",
       "      <td>2.604264</td>\n",
       "      <td>1.211514</td>\n",
       "      <td>3.195214</td>\n",
       "      <td>4.131057</td>\n",
       "      <td>4.264019</td>\n",
       "      <td>5.689888</td>\n",
       "      <td>4.241315</td>\n",
       "      <td>4.948831</td>\n",
       "      <td>4.318811</td>\n",
       "    </tr>\n",
       "    <tr>\n",
       "      <th>4797</th>\n",
       "      <td>1.987085</td>\n",
       "      <td>2.886796</td>\n",
       "      <td>1.846665</td>\n",
       "      <td>2.072369</td>\n",
       "      <td>0.096630</td>\n",
       "      <td>2.767446</td>\n",
       "      <td>2.999957</td>\n",
       "      <td>3.163690</td>\n",
       "      <td>2.364389</td>\n",
       "      <td>2.620922</td>\n",
       "      <td>1.405060</td>\n",
       "      <td>3.154302</td>\n",
       "      <td>4.450493</td>\n",
       "      <td>4.573802</td>\n",
       "      <td>5.615869</td>\n",
       "      <td>4.585556</td>\n",
       "      <td>5.187991</td>\n",
       "      <td>4.713260</td>\n",
       "    </tr>\n",
       "    <tr>\n",
       "      <th>4798</th>\n",
       "      <td>2.556114</td>\n",
       "      <td>3.357465</td>\n",
       "      <td>2.400812</td>\n",
       "      <td>2.620699</td>\n",
       "      <td>0.121042</td>\n",
       "      <td>3.247038</td>\n",
       "      <td>3.386253</td>\n",
       "      <td>3.504730</td>\n",
       "      <td>2.574131</td>\n",
       "      <td>2.995257</td>\n",
       "      <td>1.696232</td>\n",
       "      <td>3.485016</td>\n",
       "      <td>4.761204</td>\n",
       "      <td>4.905612</td>\n",
       "      <td>6.089122</td>\n",
       "      <td>4.828491</td>\n",
       "      <td>5.490208</td>\n",
       "      <td>5.019013</td>\n",
       "    </tr>\n",
       "    <tr>\n",
       "      <th>4799</th>\n",
       "      <td>1.903121</td>\n",
       "      <td>2.851183</td>\n",
       "      <td>1.765469</td>\n",
       "      <td>2.081939</td>\n",
       "      <td>0.152217</td>\n",
       "      <td>2.731053</td>\n",
       "      <td>3.015635</td>\n",
       "      <td>3.267880</td>\n",
       "      <td>2.546889</td>\n",
       "      <td>2.596405</td>\n",
       "      <td>1.378737</td>\n",
       "      <td>3.107197</td>\n",
       "      <td>4.561923</td>\n",
       "      <td>4.684825</td>\n",
       "      <td>5.774181</td>\n",
       "      <td>4.644313</td>\n",
       "      <td>5.395866</td>\n",
       "      <td>4.850513</td>\n",
       "    </tr>\n",
       "  </tbody>\n",
       "</table>\n",
       "<p>4800 rows × 18 columns</p>\n",
       "</div>"
      ],
      "text/plain": [
       "            0         1         2         3         4         5         6   \\\n",
       "0     1.736309  2.711189  1.599732  1.837851  0.068616  2.587881  2.866190   \n",
       "1     2.219407  2.666731  2.022638  2.147897  0.017284  2.569921  3.424742   \n",
       "2     1.986571  2.607952  1.810917  1.879006  0.133414  2.525110  2.724258   \n",
       "3     1.865576  2.347274  1.721559  1.971913  0.119174  2.248674  3.051014   \n",
       "4     1.995426  2.758196  1.688428  1.947369  0.069742  2.680191  3.333718   \n",
       "...        ...       ...       ...       ...       ...       ...       ...   \n",
       "4795  2.096933  3.010987  1.952978  2.116539  0.072220  2.894277  3.262274   \n",
       "4796  1.786115  2.649632  1.651606  1.826109  0.042178  2.523452  2.960092   \n",
       "4797  1.987085  2.886796  1.846665  2.072369  0.096630  2.767446  2.999957   \n",
       "4798  2.556114  3.357465  2.400812  2.620699  0.121042  3.247038  3.386253   \n",
       "4799  1.903121  2.851183  1.765469  2.081939  0.152217  2.731053  3.015635   \n",
       "\n",
       "            7         8         9         10        11        12        13  \\\n",
       "0     2.871496  2.381603  2.466886  1.306587  2.964690  4.395278  4.571095   \n",
       "1     3.539864  0.888707  3.016982  1.445810  3.356858  3.993488  4.108575   \n",
       "2     2.934357  2.714205  2.419048  1.403469  2.735333  4.268023  4.414555   \n",
       "3     2.742810  2.583583  2.723583  1.428535  3.112778  4.676630  4.826322   \n",
       "4     3.627626  2.157736  2.757351  1.425601  3.386841  4.270614  4.370966   \n",
       "...        ...       ...       ...       ...       ...       ...       ...   \n",
       "4795  3.352664  2.372973  2.965132  1.480251  3.386512  4.511777  4.656647   \n",
       "4796  3.387705  2.096426  2.604264  1.211514  3.195214  4.131057  4.264019   \n",
       "4797  3.163690  2.364389  2.620922  1.405060  3.154302  4.450493  4.573802   \n",
       "4798  3.504730  2.574131  2.995257  1.696232  3.485016  4.761204  4.905612   \n",
       "4799  3.267880  2.546889  2.596405  1.378737  3.107197  4.561923  4.684825   \n",
       "\n",
       "            14        15        16        17  \n",
       "0     5.505516  4.476365  5.259868  4.726801  \n",
       "1     6.608398  4.205392  4.901956  4.194648  \n",
       "2     5.816562  4.455762  5.092762  4.592347  \n",
       "3     5.797175  4.783082  5.367151  4.920337  \n",
       "4     6.391231  4.511196  4.713781  4.462203  \n",
       "...        ...       ...       ...       ...  \n",
       "4795  5.871186  4.562500  5.304555  4.758532  \n",
       "4796  5.689888  4.241315  4.948831  4.318811  \n",
       "4797  5.615869  4.585556  5.187991  4.713260  \n",
       "4798  6.089122  4.828491  5.490208  5.019013  \n",
       "4799  5.774181  4.644313  5.395866  4.850513  \n",
       "\n",
       "[4800 rows x 18 columns]"
      ]
     },
     "execution_count": 44,
     "metadata": {},
     "output_type": "execute_result"
    }
   ],
   "source": [
    "pd.DataFrame(X_test)"
   ]
  },
  {
   "cell_type": "markdown",
   "id": "5fa024f7",
   "metadata": {
    "execution": {
     "iopub.execute_input": "2023-02-07T23:47:19.876941Z",
     "iopub.status.busy": "2023-02-07T23:47:19.876424Z",
     "iopub.status.idle": "2023-02-07T23:47:20.399488Z",
     "shell.execute_reply": "2023-02-07T23:47:20.398142Z"
    },
    "papermill": {
     "duration": 0.02939,
     "end_time": "2023-03-09T14:59:52.712321",
     "exception": false,
     "start_time": "2023-03-09T14:59:52.682931",
     "status": "completed"
    },
    "tags": []
   },
   "source": [
    "**Decision Tree**"
   ]
  },
  {
   "cell_type": "code",
   "execution_count": 45,
   "id": "4f5400c9",
   "metadata": {
    "execution": {
     "iopub.execute_input": "2023-03-09T14:59:52.740417Z",
     "iopub.status.busy": "2023-03-09T14:59:52.739930Z",
     "iopub.status.idle": "2023-03-09T14:59:53.351504Z",
     "shell.execute_reply": "2023-03-09T14:59:53.350365Z"
    },
    "papermill": {
     "duration": 0.629364,
     "end_time": "2023-03-09T14:59:53.354629",
     "exception": false,
     "start_time": "2023-03-09T14:59:52.725265",
     "status": "completed"
    },
    "tags": []
   },
   "outputs": [
    {
     "data": {
      "text/html": [
       "<style>#sk-container-id-5 {color: black;background-color: white;}#sk-container-id-5 pre{padding: 0;}#sk-container-id-5 div.sk-toggleable {background-color: white;}#sk-container-id-5 label.sk-toggleable__label {cursor: pointer;display: block;width: 100%;margin-bottom: 0;padding: 0.3em;box-sizing: border-box;text-align: center;}#sk-container-id-5 label.sk-toggleable__label-arrow:before {content: \"▸\";float: left;margin-right: 0.25em;color: #696969;}#sk-container-id-5 label.sk-toggleable__label-arrow:hover:before {color: black;}#sk-container-id-5 div.sk-estimator:hover label.sk-toggleable__label-arrow:before {color: black;}#sk-container-id-5 div.sk-toggleable__content {max-height: 0;max-width: 0;overflow: hidden;text-align: left;background-color: #f0f8ff;}#sk-container-id-5 div.sk-toggleable__content pre {margin: 0.2em;color: black;border-radius: 0.25em;background-color: #f0f8ff;}#sk-container-id-5 input.sk-toggleable__control:checked~div.sk-toggleable__content {max-height: 200px;max-width: 100%;overflow: auto;}#sk-container-id-5 input.sk-toggleable__control:checked~label.sk-toggleable__label-arrow:before {content: \"▾\";}#sk-container-id-5 div.sk-estimator input.sk-toggleable__control:checked~label.sk-toggleable__label {background-color: #d4ebff;}#sk-container-id-5 div.sk-label input.sk-toggleable__control:checked~label.sk-toggleable__label {background-color: #d4ebff;}#sk-container-id-5 input.sk-hidden--visually {border: 0;clip: rect(1px 1px 1px 1px);clip: rect(1px, 1px, 1px, 1px);height: 1px;margin: -1px;overflow: hidden;padding: 0;position: absolute;width: 1px;}#sk-container-id-5 div.sk-estimator {font-family: monospace;background-color: #f0f8ff;border: 1px dotted black;border-radius: 0.25em;box-sizing: border-box;margin-bottom: 0.5em;}#sk-container-id-5 div.sk-estimator:hover {background-color: #d4ebff;}#sk-container-id-5 div.sk-parallel-item::after {content: \"\";width: 100%;border-bottom: 1px solid gray;flex-grow: 1;}#sk-container-id-5 div.sk-label:hover label.sk-toggleable__label {background-color: #d4ebff;}#sk-container-id-5 div.sk-serial::before {content: \"\";position: absolute;border-left: 1px solid gray;box-sizing: border-box;top: 0;bottom: 0;left: 50%;z-index: 0;}#sk-container-id-5 div.sk-serial {display: flex;flex-direction: column;align-items: center;background-color: white;padding-right: 0.2em;padding-left: 0.2em;position: relative;}#sk-container-id-5 div.sk-item {position: relative;z-index: 1;}#sk-container-id-5 div.sk-parallel {display: flex;align-items: stretch;justify-content: center;background-color: white;position: relative;}#sk-container-id-5 div.sk-item::before, #sk-container-id-5 div.sk-parallel-item::before {content: \"\";position: absolute;border-left: 1px solid gray;box-sizing: border-box;top: 0;bottom: 0;left: 50%;z-index: -1;}#sk-container-id-5 div.sk-parallel-item {display: flex;flex-direction: column;z-index: 1;position: relative;background-color: white;}#sk-container-id-5 div.sk-parallel-item:first-child::after {align-self: flex-end;width: 50%;}#sk-container-id-5 div.sk-parallel-item:last-child::after {align-self: flex-start;width: 50%;}#sk-container-id-5 div.sk-parallel-item:only-child::after {width: 0;}#sk-container-id-5 div.sk-dashed-wrapped {border: 1px dashed gray;margin: 0 0.4em 0.5em 0.4em;box-sizing: border-box;padding-bottom: 0.4em;background-color: white;}#sk-container-id-5 div.sk-label label {font-family: monospace;font-weight: bold;display: inline-block;line-height: 1.2em;}#sk-container-id-5 div.sk-label-container {text-align: center;}#sk-container-id-5 div.sk-container {/* jupyter's `normalize.less` sets `[hidden] { display: none; }` but bootstrap.min.css set `[hidden] { display: none !important; }` so we also need the `!important` here to be able to override the default hidden behavior on the sphinx rendered scikit-learn.org. See: https://github.com/scikit-learn/scikit-learn/issues/21755 */display: inline-block !important;position: relative;}#sk-container-id-5 div.sk-text-repr-fallback {display: none;}</style><div id=\"sk-container-id-5\" class=\"sk-top-container\"><div class=\"sk-text-repr-fallback\"><pre>DecisionTreeClassifier(random_state=42)</pre><b>In a Jupyter environment, please rerun this cell to show the HTML representation or trust the notebook. <br />On GitHub, the HTML representation is unable to render, please try loading this page with nbviewer.org.</b></div><div class=\"sk-container\" hidden><div class=\"sk-item\"><div class=\"sk-estimator sk-toggleable\"><input class=\"sk-toggleable__control sk-hidden--visually\" id=\"sk-estimator-id-5\" type=\"checkbox\" checked><label for=\"sk-estimator-id-5\" class=\"sk-toggleable__label sk-toggleable__label-arrow\">DecisionTreeClassifier</label><div class=\"sk-toggleable__content\"><pre>DecisionTreeClassifier(random_state=42)</pre></div></div></div></div></div>"
      ],
      "text/plain": [
       "DecisionTreeClassifier(random_state=42)"
      ]
     },
     "execution_count": 45,
     "metadata": {},
     "output_type": "execute_result"
    }
   ],
   "source": [
    "clf = DecisionTreeClassifier(random_state=42)\n",
    "clf.fit(X_train, y_train)"
   ]
  },
  {
   "cell_type": "code",
   "execution_count": 46,
   "id": "3b56d190",
   "metadata": {
    "execution": {
     "iopub.execute_input": "2023-03-09T14:59:53.432790Z",
     "iopub.status.busy": "2023-03-09T14:59:53.432293Z",
     "iopub.status.idle": "2023-03-09T14:59:53.561630Z",
     "shell.execute_reply": "2023-03-09T14:59:53.560710Z"
    },
    "papermill": {
     "duration": 0.171808,
     "end_time": "2023-03-09T14:59:53.564419",
     "exception": false,
     "start_time": "2023-03-09T14:59:53.392611",
     "status": "completed"
    },
    "tags": []
   },
   "outputs": [
    {
     "name": "stdout",
     "output_type": "stream",
     "text": [
      "              precision    recall  f1-score   support\n",
      "\n",
      "         pop       0.55      0.57      0.56      2391\n",
      "        rock       0.56      0.54      0.55      2409\n",
      "\n",
      "    accuracy                           0.55      4800\n",
      "   macro avg       0.55      0.55      0.55      4800\n",
      "weighted avg       0.55      0.55      0.55      4800\n",
      "\n"
     ]
    }
   ],
   "source": [
    "y_pred = clf.predict(X_test)\n",
    "print(classification_report(y_test, y_pred))"
   ]
  },
  {
   "cell_type": "code",
   "execution_count": 47,
   "id": "42bc91ff",
   "metadata": {
    "execution": {
     "iopub.execute_input": "2023-03-09T14:59:53.626979Z",
     "iopub.status.busy": "2023-03-09T14:59:53.626682Z",
     "iopub.status.idle": "2023-03-09T14:59:53.632754Z",
     "shell.execute_reply": "2023-03-09T14:59:53.631787Z"
    },
    "papermill": {
     "duration": 0.040385,
     "end_time": "2023-03-09T14:59:53.635418",
     "exception": false,
     "start_time": "2023-03-09T14:59:53.595033",
     "status": "completed"
    },
    "tags": []
   },
   "outputs": [],
   "source": [
    "pickle.dump(clf, open(f'{data_path}/decision_tree.pkl', 'wb'))"
   ]
  },
  {
   "cell_type": "code",
   "execution_count": 48,
   "id": "ea9be210",
   "metadata": {
    "execution": {
     "iopub.execute_input": "2023-03-09T14:59:53.673420Z",
     "iopub.status.busy": "2023-03-09T14:59:53.672957Z",
     "iopub.status.idle": "2023-03-09T14:59:53.813008Z",
     "shell.execute_reply": "2023-03-09T14:59:53.812151Z"
    },
    "papermill": {
     "duration": 0.15754,
     "end_time": "2023-03-09T14:59:53.815923",
     "exception": false,
     "start_time": "2023-03-09T14:59:53.658383",
     "status": "completed"
    },
    "tags": []
   },
   "outputs": [],
   "source": [
    "acc = accuracy_score(y_test, y_pred)\n",
    "pre = precision_score(y_test, y_pred, average=avg_par)\n",
    "rec = recall_score(y_test, y_pred, average=avg_par)\n",
    "f1 = f1_score(y_test, y_pred, average=avg_par)\n",
    "\n",
    "metrics_data['Shapelets']['DecisionTree'] = {'Accuracy': acc, 'Precision': pre, 'Recall': rec, 'F1': f1}"
   ]
  },
  {
   "cell_type": "markdown",
   "id": "3ca3443b",
   "metadata": {
    "papermill": {
     "duration": 0.028874,
     "end_time": "2023-03-09T14:59:53.875432",
     "exception": false,
     "start_time": "2023-03-09T14:59:53.846558",
     "status": "completed"
    },
    "tags": []
   },
   "source": [
    "**Random Forest**"
   ]
  },
  {
   "cell_type": "code",
   "execution_count": 49,
   "id": "37795e21",
   "metadata": {
    "execution": {
     "iopub.execute_input": "2023-03-09T14:59:53.913825Z",
     "iopub.status.busy": "2023-03-09T14:59:53.913392Z",
     "iopub.status.idle": "2023-03-09T15:00:02.133232Z",
     "shell.execute_reply": "2023-03-09T15:00:02.132040Z"
    },
    "papermill": {
     "duration": 8.237576,
     "end_time": "2023-03-09T15:00:02.136228",
     "exception": false,
     "start_time": "2023-03-09T14:59:53.898652",
     "status": "completed"
    },
    "tags": []
   },
   "outputs": [
    {
     "data": {
      "text/html": [
       "<style>#sk-container-id-6 {color: black;background-color: white;}#sk-container-id-6 pre{padding: 0;}#sk-container-id-6 div.sk-toggleable {background-color: white;}#sk-container-id-6 label.sk-toggleable__label {cursor: pointer;display: block;width: 100%;margin-bottom: 0;padding: 0.3em;box-sizing: border-box;text-align: center;}#sk-container-id-6 label.sk-toggleable__label-arrow:before {content: \"▸\";float: left;margin-right: 0.25em;color: #696969;}#sk-container-id-6 label.sk-toggleable__label-arrow:hover:before {color: black;}#sk-container-id-6 div.sk-estimator:hover label.sk-toggleable__label-arrow:before {color: black;}#sk-container-id-6 div.sk-toggleable__content {max-height: 0;max-width: 0;overflow: hidden;text-align: left;background-color: #f0f8ff;}#sk-container-id-6 div.sk-toggleable__content pre {margin: 0.2em;color: black;border-radius: 0.25em;background-color: #f0f8ff;}#sk-container-id-6 input.sk-toggleable__control:checked~div.sk-toggleable__content {max-height: 200px;max-width: 100%;overflow: auto;}#sk-container-id-6 input.sk-toggleable__control:checked~label.sk-toggleable__label-arrow:before {content: \"▾\";}#sk-container-id-6 div.sk-estimator input.sk-toggleable__control:checked~label.sk-toggleable__label {background-color: #d4ebff;}#sk-container-id-6 div.sk-label input.sk-toggleable__control:checked~label.sk-toggleable__label {background-color: #d4ebff;}#sk-container-id-6 input.sk-hidden--visually {border: 0;clip: rect(1px 1px 1px 1px);clip: rect(1px, 1px, 1px, 1px);height: 1px;margin: -1px;overflow: hidden;padding: 0;position: absolute;width: 1px;}#sk-container-id-6 div.sk-estimator {font-family: monospace;background-color: #f0f8ff;border: 1px dotted black;border-radius: 0.25em;box-sizing: border-box;margin-bottom: 0.5em;}#sk-container-id-6 div.sk-estimator:hover {background-color: #d4ebff;}#sk-container-id-6 div.sk-parallel-item::after {content: \"\";width: 100%;border-bottom: 1px solid gray;flex-grow: 1;}#sk-container-id-6 div.sk-label:hover label.sk-toggleable__label {background-color: #d4ebff;}#sk-container-id-6 div.sk-serial::before {content: \"\";position: absolute;border-left: 1px solid gray;box-sizing: border-box;top: 0;bottom: 0;left: 50%;z-index: 0;}#sk-container-id-6 div.sk-serial {display: flex;flex-direction: column;align-items: center;background-color: white;padding-right: 0.2em;padding-left: 0.2em;position: relative;}#sk-container-id-6 div.sk-item {position: relative;z-index: 1;}#sk-container-id-6 div.sk-parallel {display: flex;align-items: stretch;justify-content: center;background-color: white;position: relative;}#sk-container-id-6 div.sk-item::before, #sk-container-id-6 div.sk-parallel-item::before {content: \"\";position: absolute;border-left: 1px solid gray;box-sizing: border-box;top: 0;bottom: 0;left: 50%;z-index: -1;}#sk-container-id-6 div.sk-parallel-item {display: flex;flex-direction: column;z-index: 1;position: relative;background-color: white;}#sk-container-id-6 div.sk-parallel-item:first-child::after {align-self: flex-end;width: 50%;}#sk-container-id-6 div.sk-parallel-item:last-child::after {align-self: flex-start;width: 50%;}#sk-container-id-6 div.sk-parallel-item:only-child::after {width: 0;}#sk-container-id-6 div.sk-dashed-wrapped {border: 1px dashed gray;margin: 0 0.4em 0.5em 0.4em;box-sizing: border-box;padding-bottom: 0.4em;background-color: white;}#sk-container-id-6 div.sk-label label {font-family: monospace;font-weight: bold;display: inline-block;line-height: 1.2em;}#sk-container-id-6 div.sk-label-container {text-align: center;}#sk-container-id-6 div.sk-container {/* jupyter's `normalize.less` sets `[hidden] { display: none; }` but bootstrap.min.css set `[hidden] { display: none !important; }` so we also need the `!important` here to be able to override the default hidden behavior on the sphinx rendered scikit-learn.org. See: https://github.com/scikit-learn/scikit-learn/issues/21755 */display: inline-block !important;position: relative;}#sk-container-id-6 div.sk-text-repr-fallback {display: none;}</style><div id=\"sk-container-id-6\" class=\"sk-top-container\"><div class=\"sk-text-repr-fallback\"><pre>RandomForestClassifier(random_state=42)</pre><b>In a Jupyter environment, please rerun this cell to show the HTML representation or trust the notebook. <br />On GitHub, the HTML representation is unable to render, please try loading this page with nbviewer.org.</b></div><div class=\"sk-container\" hidden><div class=\"sk-item\"><div class=\"sk-estimator sk-toggleable\"><input class=\"sk-toggleable__control sk-hidden--visually\" id=\"sk-estimator-id-6\" type=\"checkbox\" checked><label for=\"sk-estimator-id-6\" class=\"sk-toggleable__label sk-toggleable__label-arrow\">RandomForestClassifier</label><div class=\"sk-toggleable__content\"><pre>RandomForestClassifier(random_state=42)</pre></div></div></div></div></div>"
      ],
      "text/plain": [
       "RandomForestClassifier(random_state=42)"
      ]
     },
     "execution_count": 49,
     "metadata": {},
     "output_type": "execute_result"
    }
   ],
   "source": [
    "clf = RandomForestClassifier(random_state=42)\n",
    "clf.fit(X_train, y_train)"
   ]
  },
  {
   "cell_type": "code",
   "execution_count": 50,
   "id": "581ab90a",
   "metadata": {
    "execution": {
     "iopub.execute_input": "2023-03-09T15:00:02.214510Z",
     "iopub.status.busy": "2023-03-09T15:00:02.214195Z",
     "iopub.status.idle": "2023-03-09T15:00:02.438147Z",
     "shell.execute_reply": "2023-03-09T15:00:02.437008Z"
    },
    "papermill": {
     "duration": 0.266532,
     "end_time": "2023-03-09T15:00:02.440963",
     "exception": false,
     "start_time": "2023-03-09T15:00:02.174431",
     "status": "completed"
    },
    "tags": []
   },
   "outputs": [
    {
     "name": "stdout",
     "output_type": "stream",
     "text": [
      "              precision    recall  f1-score   support\n",
      "\n",
      "         pop       0.61      0.63      0.62      2391\n",
      "        rock       0.62      0.60      0.61      2409\n",
      "\n",
      "    accuracy                           0.62      4800\n",
      "   macro avg       0.62      0.62      0.62      4800\n",
      "weighted avg       0.62      0.62      0.62      4800\n",
      "\n"
     ]
    }
   ],
   "source": [
    "y_pred = clf.predict(X_test)\n",
    "print(classification_report(y_test, y_pred))"
   ]
  },
  {
   "cell_type": "code",
   "execution_count": 51,
   "id": "faf1d7f4",
   "metadata": {
    "execution": {
     "iopub.execute_input": "2023-03-09T15:00:02.511488Z",
     "iopub.status.busy": "2023-03-09T15:00:02.511190Z",
     "iopub.status.idle": "2023-03-09T15:00:02.643778Z",
     "shell.execute_reply": "2023-03-09T15:00:02.642977Z"
    },
    "papermill": {
     "duration": 0.171357,
     "end_time": "2023-03-09T15:00:02.646597",
     "exception": false,
     "start_time": "2023-03-09T15:00:02.475240",
     "status": "completed"
    },
    "tags": []
   },
   "outputs": [],
   "source": [
    "acc = accuracy_score(y_test, y_pred)\n",
    "pre = precision_score(y_test, y_pred, average=avg_par)\n",
    "rec = recall_score(y_test, y_pred, average=avg_par)\n",
    "f1 = f1_score(y_test, y_pred, average=avg_par)\n",
    "\n",
    "metrics_data['Shapelets']['RandomForest'] = {'Accuracy': acc, 'Precision': pre, 'Recall': rec, 'F1': f1}"
   ]
  },
  {
   "cell_type": "markdown",
   "id": "61fceefb",
   "metadata": {
    "papermill": {
     "duration": 0.039059,
     "end_time": "2023-03-09T15:00:02.724174",
     "exception": false,
     "start_time": "2023-03-09T15:00:02.685115",
     "status": "completed"
    },
    "tags": []
   },
   "source": [
    "**LightGBM**"
   ]
  },
  {
   "cell_type": "code",
   "execution_count": 52,
   "id": "194189da",
   "metadata": {
    "execution": {
     "iopub.execute_input": "2023-03-09T15:00:02.756380Z",
     "iopub.status.busy": "2023-03-09T15:00:02.755910Z",
     "iopub.status.idle": "2023-03-09T15:00:02.951126Z",
     "shell.execute_reply": "2023-03-09T15:00:02.950242Z"
    },
    "papermill": {
     "duration": 0.2121,
     "end_time": "2023-03-09T15:00:02.953095",
     "exception": false,
     "start_time": "2023-03-09T15:00:02.740995",
     "status": "completed"
    },
    "tags": []
   },
   "outputs": [
    {
     "data": {
      "text/html": [
       "<style>#sk-container-id-7 {color: black;background-color: white;}#sk-container-id-7 pre{padding: 0;}#sk-container-id-7 div.sk-toggleable {background-color: white;}#sk-container-id-7 label.sk-toggleable__label {cursor: pointer;display: block;width: 100%;margin-bottom: 0;padding: 0.3em;box-sizing: border-box;text-align: center;}#sk-container-id-7 label.sk-toggleable__label-arrow:before {content: \"▸\";float: left;margin-right: 0.25em;color: #696969;}#sk-container-id-7 label.sk-toggleable__label-arrow:hover:before {color: black;}#sk-container-id-7 div.sk-estimator:hover label.sk-toggleable__label-arrow:before {color: black;}#sk-container-id-7 div.sk-toggleable__content {max-height: 0;max-width: 0;overflow: hidden;text-align: left;background-color: #f0f8ff;}#sk-container-id-7 div.sk-toggleable__content pre {margin: 0.2em;color: black;border-radius: 0.25em;background-color: #f0f8ff;}#sk-container-id-7 input.sk-toggleable__control:checked~div.sk-toggleable__content {max-height: 200px;max-width: 100%;overflow: auto;}#sk-container-id-7 input.sk-toggleable__control:checked~label.sk-toggleable__label-arrow:before {content: \"▾\";}#sk-container-id-7 div.sk-estimator input.sk-toggleable__control:checked~label.sk-toggleable__label {background-color: #d4ebff;}#sk-container-id-7 div.sk-label input.sk-toggleable__control:checked~label.sk-toggleable__label {background-color: #d4ebff;}#sk-container-id-7 input.sk-hidden--visually {border: 0;clip: rect(1px 1px 1px 1px);clip: rect(1px, 1px, 1px, 1px);height: 1px;margin: -1px;overflow: hidden;padding: 0;position: absolute;width: 1px;}#sk-container-id-7 div.sk-estimator {font-family: monospace;background-color: #f0f8ff;border: 1px dotted black;border-radius: 0.25em;box-sizing: border-box;margin-bottom: 0.5em;}#sk-container-id-7 div.sk-estimator:hover {background-color: #d4ebff;}#sk-container-id-7 div.sk-parallel-item::after {content: \"\";width: 100%;border-bottom: 1px solid gray;flex-grow: 1;}#sk-container-id-7 div.sk-label:hover label.sk-toggleable__label {background-color: #d4ebff;}#sk-container-id-7 div.sk-serial::before {content: \"\";position: absolute;border-left: 1px solid gray;box-sizing: border-box;top: 0;bottom: 0;left: 50%;z-index: 0;}#sk-container-id-7 div.sk-serial {display: flex;flex-direction: column;align-items: center;background-color: white;padding-right: 0.2em;padding-left: 0.2em;position: relative;}#sk-container-id-7 div.sk-item {position: relative;z-index: 1;}#sk-container-id-7 div.sk-parallel {display: flex;align-items: stretch;justify-content: center;background-color: white;position: relative;}#sk-container-id-7 div.sk-item::before, #sk-container-id-7 div.sk-parallel-item::before {content: \"\";position: absolute;border-left: 1px solid gray;box-sizing: border-box;top: 0;bottom: 0;left: 50%;z-index: -1;}#sk-container-id-7 div.sk-parallel-item {display: flex;flex-direction: column;z-index: 1;position: relative;background-color: white;}#sk-container-id-7 div.sk-parallel-item:first-child::after {align-self: flex-end;width: 50%;}#sk-container-id-7 div.sk-parallel-item:last-child::after {align-self: flex-start;width: 50%;}#sk-container-id-7 div.sk-parallel-item:only-child::after {width: 0;}#sk-container-id-7 div.sk-dashed-wrapped {border: 1px dashed gray;margin: 0 0.4em 0.5em 0.4em;box-sizing: border-box;padding-bottom: 0.4em;background-color: white;}#sk-container-id-7 div.sk-label label {font-family: monospace;font-weight: bold;display: inline-block;line-height: 1.2em;}#sk-container-id-7 div.sk-label-container {text-align: center;}#sk-container-id-7 div.sk-container {/* jupyter's `normalize.less` sets `[hidden] { display: none; }` but bootstrap.min.css set `[hidden] { display: none !important; }` so we also need the `!important` here to be able to override the default hidden behavior on the sphinx rendered scikit-learn.org. See: https://github.com/scikit-learn/scikit-learn/issues/21755 */display: inline-block !important;position: relative;}#sk-container-id-7 div.sk-text-repr-fallback {display: none;}</style><div id=\"sk-container-id-7\" class=\"sk-top-container\"><div class=\"sk-text-repr-fallback\"><pre>LGBMClassifier(objective=&#x27;binary&#x27;)</pre><b>In a Jupyter environment, please rerun this cell to show the HTML representation or trust the notebook. <br />On GitHub, the HTML representation is unable to render, please try loading this page with nbviewer.org.</b></div><div class=\"sk-container\" hidden><div class=\"sk-item\"><div class=\"sk-estimator sk-toggleable\"><input class=\"sk-toggleable__control sk-hidden--visually\" id=\"sk-estimator-id-7\" type=\"checkbox\" checked><label for=\"sk-estimator-id-7\" class=\"sk-toggleable__label sk-toggleable__label-arrow\">LGBMClassifier</label><div class=\"sk-toggleable__content\"><pre>LGBMClassifier(objective=&#x27;binary&#x27;)</pre></div></div></div></div></div>"
      ],
      "text/plain": [
       "LGBMClassifier(objective='binary')"
      ]
     },
     "execution_count": 52,
     "metadata": {},
     "output_type": "execute_result"
    }
   ],
   "source": [
    "clf = lgbm.LGBMClassifier(objective=obj_par) \n",
    "clf.fit(X_train, y_train)"
   ]
  },
  {
   "cell_type": "code",
   "execution_count": 53,
   "id": "355a078b",
   "metadata": {
    "execution": {
     "iopub.execute_input": "2023-03-09T15:00:02.986133Z",
     "iopub.status.busy": "2023-03-09T15:00:02.985801Z",
     "iopub.status.idle": "2023-03-09T15:00:03.119570Z",
     "shell.execute_reply": "2023-03-09T15:00:03.118727Z"
    },
    "papermill": {
     "duration": 0.152232,
     "end_time": "2023-03-09T15:00:03.122179",
     "exception": false,
     "start_time": "2023-03-09T15:00:02.969947",
     "status": "completed"
    },
    "tags": []
   },
   "outputs": [
    {
     "name": "stdout",
     "output_type": "stream",
     "text": [
      "              precision    recall  f1-score   support\n",
      "\n",
      "         pop       0.60      0.59      0.60      2391\n",
      "        rock       0.60      0.61      0.61      2409\n",
      "\n",
      "    accuracy                           0.60      4800\n",
      "   macro avg       0.60      0.60      0.60      4800\n",
      "weighted avg       0.60      0.60      0.60      4800\n",
      "\n"
     ]
    }
   ],
   "source": [
    "y_pred = clf.predict(X_test)\n",
    "print(classification_report(y_test, y_pred))"
   ]
  },
  {
   "cell_type": "code",
   "execution_count": 54,
   "id": "f22b911e",
   "metadata": {
    "execution": {
     "iopub.execute_input": "2023-03-09T15:00:03.193866Z",
     "iopub.status.busy": "2023-03-09T15:00:03.193568Z",
     "iopub.status.idle": "2023-03-09T15:00:03.325799Z",
     "shell.execute_reply": "2023-03-09T15:00:03.325117Z"
    },
    "papermill": {
     "duration": 0.171171,
     "end_time": "2023-03-09T15:00:03.328586",
     "exception": false,
     "start_time": "2023-03-09T15:00:03.157415",
     "status": "completed"
    },
    "tags": []
   },
   "outputs": [],
   "source": [
    "acc = accuracy_score(y_test, y_pred)\n",
    "pre = precision_score(y_test, y_pred, average=avg_par)\n",
    "rec = recall_score(y_test, y_pred, average=avg_par)\n",
    "f1 = f1_score(y_test, y_pred, average=avg_par)\n",
    "\n",
    "metrics_data['Shapelets']['LightGBM'] = {'Accuracy': acc, 'Precision': pre, 'Recall': rec, 'F1': f1}"
   ]
  },
  {
   "cell_type": "markdown",
   "id": "0809af9f",
   "metadata": {
    "papermill": {
     "duration": 0.039061,
     "end_time": "2023-03-09T15:00:03.407135",
     "exception": false,
     "start_time": "2023-03-09T15:00:03.368074",
     "status": "completed"
    },
    "tags": []
   },
   "source": [
    "#### KNN"
   ]
  },
  {
   "cell_type": "code",
   "execution_count": 55,
   "id": "1c9237e0",
   "metadata": {
    "execution": {
     "iopub.execute_input": "2023-03-09T15:00:03.437444Z",
     "iopub.status.busy": "2023-03-09T15:00:03.437122Z",
     "iopub.status.idle": "2023-03-09T15:00:03.442437Z",
     "shell.execute_reply": "2023-03-09T15:00:03.441423Z"
    },
    "papermill": {
     "duration": 0.022107,
     "end_time": "2023-03-09T15:00:03.443969",
     "exception": false,
     "start_time": "2023-03-09T15:00:03.421862",
     "status": "completed"
    },
    "tags": []
   },
   "outputs": [],
   "source": [
    "X_train = ts_train.reshape((ts_train.shape[0], ts_train.shape[1]))\n",
    "X_test = ts_test.reshape((ts_test.shape[0], ts_test.shape[1]))"
   ]
  },
  {
   "cell_type": "code",
   "execution_count": 56,
   "id": "192f3c3f",
   "metadata": {
    "execution": {
     "iopub.execute_input": "2023-03-09T15:00:03.473437Z",
     "iopub.status.busy": "2023-03-09T15:00:03.473123Z",
     "iopub.status.idle": "2023-03-09T15:00:03.480354Z",
     "shell.execute_reply": "2023-03-09T15:00:03.479338Z"
    },
    "papermill": {
     "duration": 0.024398,
     "end_time": "2023-03-09T15:00:03.482119",
     "exception": false,
     "start_time": "2023-03-09T15:00:03.457721",
     "status": "completed"
    },
    "tags": []
   },
   "outputs": [
    {
     "data": {
      "text/plain": [
       "(19200, 100)"
      ]
     },
     "execution_count": 56,
     "metadata": {},
     "output_type": "execute_result"
    }
   ],
   "source": [
    "X_train.shape"
   ]
  },
  {
   "cell_type": "code",
   "execution_count": 57,
   "id": "de0e5000",
   "metadata": {
    "execution": {
     "iopub.execute_input": "2023-03-09T15:00:03.512472Z",
     "iopub.status.busy": "2023-03-09T15:00:03.512005Z",
     "iopub.status.idle": "2023-03-09T15:00:03.516977Z",
     "shell.execute_reply": "2023-03-09T15:00:03.516045Z"
    },
    "papermill": {
     "duration": 0.022482,
     "end_time": "2023-03-09T15:00:03.518633",
     "exception": false,
     "start_time": "2023-03-09T15:00:03.496151",
     "status": "completed"
    },
    "tags": []
   },
   "outputs": [],
   "source": [
    "metrics_data['KNN'] = {}"
   ]
  },
  {
   "cell_type": "markdown",
   "id": "8ee39c05",
   "metadata": {
    "papermill": {
     "duration": 0.014262,
     "end_time": "2023-03-09T15:00:03.546957",
     "exception": false,
     "start_time": "2023-03-09T15:00:03.532695",
     "status": "completed"
    },
    "tags": []
   },
   "source": [
    "**Euclidean Distance**"
   ]
  },
  {
   "cell_type": "code",
   "execution_count": 58,
   "id": "55db1f58",
   "metadata": {
    "execution": {
     "iopub.execute_input": "2023-03-09T15:00:03.578338Z",
     "iopub.status.busy": "2023-03-09T15:00:03.577851Z",
     "iopub.status.idle": "2023-03-09T15:00:03.582861Z",
     "shell.execute_reply": "2023-03-09T15:00:03.581958Z"
    },
    "papermill": {
     "duration": 0.022983,
     "end_time": "2023-03-09T15:00:03.584603",
     "exception": false,
     "start_time": "2023-03-09T15:00:03.561620",
     "status": "completed"
    },
    "tags": []
   },
   "outputs": [],
   "source": [
    "from sklearn.neighbors import KNeighborsClassifier"
   ]
  },
  {
   "cell_type": "code",
   "execution_count": 59,
   "id": "132c2537",
   "metadata": {
    "execution": {
     "iopub.execute_input": "2023-03-09T15:00:03.616187Z",
     "iopub.status.busy": "2023-03-09T15:00:03.614995Z",
     "iopub.status.idle": "2023-03-09T15:00:03.672930Z",
     "shell.execute_reply": "2023-03-09T15:00:03.671510Z"
    },
    "papermill": {
     "duration": 0.076286,
     "end_time": "2023-03-09T15:00:03.675206",
     "exception": false,
     "start_time": "2023-03-09T15:00:03.598920",
     "status": "completed"
    },
    "tags": []
   },
   "outputs": [
    {
     "data": {
      "text/html": [
       "<style>#sk-container-id-8 {color: black;background-color: white;}#sk-container-id-8 pre{padding: 0;}#sk-container-id-8 div.sk-toggleable {background-color: white;}#sk-container-id-8 label.sk-toggleable__label {cursor: pointer;display: block;width: 100%;margin-bottom: 0;padding: 0.3em;box-sizing: border-box;text-align: center;}#sk-container-id-8 label.sk-toggleable__label-arrow:before {content: \"▸\";float: left;margin-right: 0.25em;color: #696969;}#sk-container-id-8 label.sk-toggleable__label-arrow:hover:before {color: black;}#sk-container-id-8 div.sk-estimator:hover label.sk-toggleable__label-arrow:before {color: black;}#sk-container-id-8 div.sk-toggleable__content {max-height: 0;max-width: 0;overflow: hidden;text-align: left;background-color: #f0f8ff;}#sk-container-id-8 div.sk-toggleable__content pre {margin: 0.2em;color: black;border-radius: 0.25em;background-color: #f0f8ff;}#sk-container-id-8 input.sk-toggleable__control:checked~div.sk-toggleable__content {max-height: 200px;max-width: 100%;overflow: auto;}#sk-container-id-8 input.sk-toggleable__control:checked~label.sk-toggleable__label-arrow:before {content: \"▾\";}#sk-container-id-8 div.sk-estimator input.sk-toggleable__control:checked~label.sk-toggleable__label {background-color: #d4ebff;}#sk-container-id-8 div.sk-label input.sk-toggleable__control:checked~label.sk-toggleable__label {background-color: #d4ebff;}#sk-container-id-8 input.sk-hidden--visually {border: 0;clip: rect(1px 1px 1px 1px);clip: rect(1px, 1px, 1px, 1px);height: 1px;margin: -1px;overflow: hidden;padding: 0;position: absolute;width: 1px;}#sk-container-id-8 div.sk-estimator {font-family: monospace;background-color: #f0f8ff;border: 1px dotted black;border-radius: 0.25em;box-sizing: border-box;margin-bottom: 0.5em;}#sk-container-id-8 div.sk-estimator:hover {background-color: #d4ebff;}#sk-container-id-8 div.sk-parallel-item::after {content: \"\";width: 100%;border-bottom: 1px solid gray;flex-grow: 1;}#sk-container-id-8 div.sk-label:hover label.sk-toggleable__label {background-color: #d4ebff;}#sk-container-id-8 div.sk-serial::before {content: \"\";position: absolute;border-left: 1px solid gray;box-sizing: border-box;top: 0;bottom: 0;left: 50%;z-index: 0;}#sk-container-id-8 div.sk-serial {display: flex;flex-direction: column;align-items: center;background-color: white;padding-right: 0.2em;padding-left: 0.2em;position: relative;}#sk-container-id-8 div.sk-item {position: relative;z-index: 1;}#sk-container-id-8 div.sk-parallel {display: flex;align-items: stretch;justify-content: center;background-color: white;position: relative;}#sk-container-id-8 div.sk-item::before, #sk-container-id-8 div.sk-parallel-item::before {content: \"\";position: absolute;border-left: 1px solid gray;box-sizing: border-box;top: 0;bottom: 0;left: 50%;z-index: -1;}#sk-container-id-8 div.sk-parallel-item {display: flex;flex-direction: column;z-index: 1;position: relative;background-color: white;}#sk-container-id-8 div.sk-parallel-item:first-child::after {align-self: flex-end;width: 50%;}#sk-container-id-8 div.sk-parallel-item:last-child::after {align-self: flex-start;width: 50%;}#sk-container-id-8 div.sk-parallel-item:only-child::after {width: 0;}#sk-container-id-8 div.sk-dashed-wrapped {border: 1px dashed gray;margin: 0 0.4em 0.5em 0.4em;box-sizing: border-box;padding-bottom: 0.4em;background-color: white;}#sk-container-id-8 div.sk-label label {font-family: monospace;font-weight: bold;display: inline-block;line-height: 1.2em;}#sk-container-id-8 div.sk-label-container {text-align: center;}#sk-container-id-8 div.sk-container {/* jupyter's `normalize.less` sets `[hidden] { display: none; }` but bootstrap.min.css set `[hidden] { display: none !important; }` so we also need the `!important` here to be able to override the default hidden behavior on the sphinx rendered scikit-learn.org. See: https://github.com/scikit-learn/scikit-learn/issues/21755 */display: inline-block !important;position: relative;}#sk-container-id-8 div.sk-text-repr-fallback {display: none;}</style><div id=\"sk-container-id-8\" class=\"sk-top-container\"><div class=\"sk-text-repr-fallback\"><pre>KNeighborsClassifier()</pre><b>In a Jupyter environment, please rerun this cell to show the HTML representation or trust the notebook. <br />On GitHub, the HTML representation is unable to render, please try loading this page with nbviewer.org.</b></div><div class=\"sk-container\" hidden><div class=\"sk-item\"><div class=\"sk-estimator sk-toggleable\"><input class=\"sk-toggleable__control sk-hidden--visually\" id=\"sk-estimator-id-8\" type=\"checkbox\" checked><label for=\"sk-estimator-id-8\" class=\"sk-toggleable__label sk-toggleable__label-arrow\">KNeighborsClassifier</label><div class=\"sk-toggleable__content\"><pre>KNeighborsClassifier()</pre></div></div></div></div></div>"
      ],
      "text/plain": [
       "KNeighborsClassifier()"
      ]
     },
     "execution_count": 59,
     "metadata": {},
     "output_type": "execute_result"
    }
   ],
   "source": [
    "clf = KNeighborsClassifier(n_neighbors=5, weights='uniform')\n",
    "clf.fit(X_train, y_train)"
   ]
  },
  {
   "cell_type": "code",
   "execution_count": 60,
   "id": "0afad62a",
   "metadata": {
    "execution": {
     "iopub.execute_input": "2023-03-09T15:00:03.707631Z",
     "iopub.status.busy": "2023-03-09T15:00:03.707164Z",
     "iopub.status.idle": "2023-03-09T15:00:04.899609Z",
     "shell.execute_reply": "2023-03-09T15:00:04.898898Z"
    },
    "papermill": {
     "duration": 1.210934,
     "end_time": "2023-03-09T15:00:04.902506",
     "exception": false,
     "start_time": "2023-03-09T15:00:03.691572",
     "status": "completed"
    },
    "tags": []
   },
   "outputs": [
    {
     "name": "stdout",
     "output_type": "stream",
     "text": [
      "              precision    recall  f1-score   support\n",
      "\n",
      "         pop       0.57      0.34      0.42      2391\n",
      "        rock       0.53      0.74      0.62      2409\n",
      "\n",
      "    accuracy                           0.54      4800\n",
      "   macro avg       0.55      0.54      0.52      4800\n",
      "weighted avg       0.55      0.54      0.52      4800\n",
      "\n"
     ]
    }
   ],
   "source": [
    "y_pred = clf.predict(X_test)\n",
    "print(classification_report(y_test, y_pred))"
   ]
  },
  {
   "cell_type": "code",
   "execution_count": 61,
   "id": "2d709070",
   "metadata": {
    "execution": {
     "iopub.execute_input": "2023-03-09T15:00:04.962890Z",
     "iopub.status.busy": "2023-03-09T15:00:04.962317Z",
     "iopub.status.idle": "2023-03-09T15:00:05.058785Z",
     "shell.execute_reply": "2023-03-09T15:00:05.058155Z"
    },
    "papermill": {
     "duration": 0.134792,
     "end_time": "2023-03-09T15:00:05.060569",
     "exception": false,
     "start_time": "2023-03-09T15:00:04.925777",
     "status": "completed"
    },
    "tags": []
   },
   "outputs": [],
   "source": [
    "acc = accuracy_score(y_test, y_pred)\n",
    "pre = precision_score(y_test, y_pred, average=avg_par)\n",
    "rec = recall_score(y_test, y_pred, average=avg_par)\n",
    "f1 = f1_score(y_test, y_pred, average=avg_par)\n",
    "\n",
    "metrics_data['KNN']['Euclidean'] = {'Accuracy': acc, 'Precision': pre, 'Recall': rec, 'F1': f1}"
   ]
  },
  {
   "cell_type": "markdown",
   "id": "c5ec2a09",
   "metadata": {
    "papermill": {
     "duration": 0.014888,
     "end_time": "2023-03-09T15:00:05.090472",
     "exception": false,
     "start_time": "2023-03-09T15:00:05.075584",
     "status": "completed"
    },
    "tags": []
   },
   "source": [
    "**Dynamic Time Warping**"
   ]
  },
  {
   "cell_type": "code",
   "execution_count": 62,
   "id": "2df913d8",
   "metadata": {
    "execution": {
     "iopub.execute_input": "2023-03-09T15:00:05.140737Z",
     "iopub.status.busy": "2023-03-09T15:00:05.140459Z",
     "iopub.status.idle": "2023-03-09T15:00:05.210549Z",
     "shell.execute_reply": "2023-03-09T15:00:05.209639Z"
    },
    "papermill": {
     "duration": 0.106593,
     "end_time": "2023-03-09T15:00:05.212302",
     "exception": false,
     "start_time": "2023-03-09T15:00:05.105709",
     "status": "completed"
    },
    "tags": []
   },
   "outputs": [],
   "source": [
    "from pyts.classification import KNeighborsClassifier\n",
    "from pyts.approximation import PiecewiseAggregateApproximation\n",
    "from imblearn.under_sampling import ClusterCentroids\n",
    "from sklearn_extra.cluster import KMedoids"
   ]
  },
  {
   "cell_type": "code",
   "execution_count": 63,
   "id": "db1604ec",
   "metadata": {
    "execution": {
     "iopub.execute_input": "2023-03-09T15:00:05.244506Z",
     "iopub.status.busy": "2023-03-09T15:00:05.244202Z",
     "iopub.status.idle": "2023-03-09T15:00:05.741654Z",
     "shell.execute_reply": "2023-03-09T15:00:05.740733Z"
    },
    "papermill": {
     "duration": 0.515212,
     "end_time": "2023-03-09T15:00:05.743582",
     "exception": false,
     "start_time": "2023-03-09T15:00:05.228370",
     "status": "completed"
    },
    "tags": []
   },
   "outputs": [],
   "source": [
    "if paa_window_size:\n",
    "    paa = PiecewiseAggregateApproximation(window_size=paa_window_size)\n",
    "    X_train = paa.transform(X_train)\n",
    "    X_test = paa.transform(X_test)\n",
    "    X_train.shape"
   ]
  },
  {
   "cell_type": "code",
   "execution_count": 64,
   "id": "59fa27aa",
   "metadata": {
    "execution": {
     "iopub.execute_input": "2023-03-09T15:00:05.774457Z",
     "iopub.status.busy": "2023-03-09T15:00:05.774193Z",
     "iopub.status.idle": "2023-03-09T15:00:33.155256Z",
     "shell.execute_reply": "2023-03-09T15:00:33.154403Z"
    },
    "papermill": {
     "duration": 27.400142,
     "end_time": "2023-03-09T15:00:33.158334",
     "exception": false,
     "start_time": "2023-03-09T15:00:05.758192",
     "status": "completed"
    },
    "tags": []
   },
   "outputs": [
    {
     "name": "stdout",
     "output_type": "stream",
     "text": [
      "{'pop': 2882, 'rock': 2877}\n"
     ]
    },
    {
     "name": "stderr",
     "output_type": "stream",
     "text": [
      "/home/mattiapggioli/lyrics2ts/.venv/lib/python3.9/site-packages/sklearn_extra/cluster/_k_medoids.py:275: UserWarning: Cluster 259 is empty! self.labels_[self.medoid_indices_[259]] may not be labeled with its corresponding cluster (259).\n",
      "  warnings.warn(\n",
      "/home/mattiapggioli/lyrics2ts/.venv/lib/python3.9/site-packages/sklearn_extra/cluster/_k_medoids.py:275: UserWarning: Cluster 343 is empty! self.labels_[self.medoid_indices_[343]] may not be labeled with its corresponding cluster (343).\n",
      "  warnings.warn(\n",
      "/home/mattiapggioli/lyrics2ts/.venv/lib/python3.9/site-packages/sklearn_extra/cluster/_k_medoids.py:275: UserWarning: Cluster 1149 is empty! self.labels_[self.medoid_indices_[1149]] may not be labeled with its corresponding cluster (1149).\n",
      "  warnings.warn(\n",
      "/home/mattiapggioli/lyrics2ts/.venv/lib/python3.9/site-packages/sklearn_extra/cluster/_k_medoids.py:275: UserWarning: Cluster 1506 is empty! self.labels_[self.medoid_indices_[1506]] may not be labeled with its corresponding cluster (1506).\n",
      "  warnings.warn(\n",
      "/home/mattiapggioli/lyrics2ts/.venv/lib/python3.9/site-packages/sklearn_extra/cluster/_k_medoids.py:275: UserWarning: Cluster 2062 is empty! self.labels_[self.medoid_indices_[2062]] may not be labeled with its corresponding cluster (2062).\n",
      "  warnings.warn(\n",
      "/home/mattiapggioli/lyrics2ts/.venv/lib/python3.9/site-packages/sklearn_extra/cluster/_k_medoids.py:275: UserWarning: Cluster 2270 is empty! self.labels_[self.medoid_indices_[2270]] may not be labeled with its corresponding cluster (2270).\n",
      "  warnings.warn(\n",
      "/home/mattiapggioli/lyrics2ts/.venv/lib/python3.9/site-packages/sklearn_extra/cluster/_k_medoids.py:275: UserWarning: Cluster 2345 is empty! self.labels_[self.medoid_indices_[2345]] may not be labeled with its corresponding cluster (2345).\n",
      "  warnings.warn(\n"
     ]
    },
    {
     "name": "stderr",
     "output_type": "stream",
     "text": [
      "/home/mattiapggioli/lyrics2ts/.venv/lib/python3.9/site-packages/sklearn_extra/cluster/_k_medoids.py:275: UserWarning: Cluster 686 is empty! self.labels_[self.medoid_indices_[686]] may not be labeled with its corresponding cluster (686).\n",
      "  warnings.warn(\n",
      "/home/mattiapggioli/lyrics2ts/.venv/lib/python3.9/site-packages/sklearn_extra/cluster/_k_medoids.py:275: UserWarning: Cluster 710 is empty! self.labels_[self.medoid_indices_[710]] may not be labeled with its corresponding cluster (710).\n",
      "  warnings.warn(\n",
      "/home/mattiapggioli/lyrics2ts/.venv/lib/python3.9/site-packages/sklearn_extra/cluster/_k_medoids.py:275: UserWarning: Cluster 891 is empty! self.labels_[self.medoid_indices_[891]] may not be labeled with its corresponding cluster (891).\n",
      "  warnings.warn(\n",
      "/home/mattiapggioli/lyrics2ts/.venv/lib/python3.9/site-packages/sklearn_extra/cluster/_k_medoids.py:275: UserWarning: Cluster 1141 is empty! self.labels_[self.medoid_indices_[1141]] may not be labeled with its corresponding cluster (1141).\n",
      "  warnings.warn(\n",
      "/home/mattiapggioli/lyrics2ts/.venv/lib/python3.9/site-packages/sklearn_extra/cluster/_k_medoids.py:275: UserWarning: Cluster 1206 is empty! self.labels_[self.medoid_indices_[1206]] may not be labeled with its corresponding cluster (1206).\n",
      "  warnings.warn(\n",
      "/home/mattiapggioli/lyrics2ts/.venv/lib/python3.9/site-packages/sklearn_extra/cluster/_k_medoids.py:275: UserWarning: Cluster 1224 is empty! self.labels_[self.medoid_indices_[1224]] may not be labeled with its corresponding cluster (1224).\n",
      "  warnings.warn(\n",
      "/home/mattiapggioli/lyrics2ts/.venv/lib/python3.9/site-packages/sklearn_extra/cluster/_k_medoids.py:275: UserWarning: Cluster 1306 is empty! self.labels_[self.medoid_indices_[1306]] may not be labeled with its corresponding cluster (1306).\n",
      "  warnings.warn(\n",
      "/home/mattiapggioli/lyrics2ts/.venv/lib/python3.9/site-packages/sklearn_extra/cluster/_k_medoids.py:275: UserWarning: Cluster 1354 is empty! self.labels_[self.medoid_indices_[1354]] may not be labeled with its corresponding cluster (1354).\n",
      "  warnings.warn(\n",
      "/home/mattiapggioli/lyrics2ts/.venv/lib/python3.9/site-packages/sklearn_extra/cluster/_k_medoids.py:275: UserWarning: Cluster 2516 is empty! self.labels_[self.medoid_indices_[2516]] may not be labeled with its corresponding cluster (2516).\n",
      "  warnings.warn(\n"
     ]
    }
   ],
   "source": [
    "if undersampling:\n",
    "    total_samples = len(y_train)\n",
    "    unique_classes, class_counts = np.unique(y_train, return_counts=True)\n",
    "    samp_strat = dict(zip(unique_classes, np.floor(class_counts * undersampling).astype(int)))\n",
    "    print(samp_strat)\n",
    "    cc = ClusterCentroids(estimator=KMedoids(\n",
    "        random_state=42), sampling_strategy=samp_strat, random_state=42)\n",
    "    X_train, y_train = cc.fit_resample(X_train, y_train)\n",
    "    X_train.shape"
   ]
  },
  {
   "cell_type": "code",
   "execution_count": 65,
   "id": "e7ac6b44",
   "metadata": {
    "execution": {
     "iopub.execute_input": "2023-03-09T15:00:33.241769Z",
     "iopub.status.busy": "2023-03-09T15:00:33.241155Z",
     "iopub.status.idle": "2023-03-09T15:00:33.255968Z",
     "shell.execute_reply": "2023-03-09T15:00:33.254320Z"
    },
    "papermill": {
     "duration": 0.05549,
     "end_time": "2023-03-09T15:00:33.257914",
     "exception": false,
     "start_time": "2023-03-09T15:00:33.202424",
     "status": "completed"
    },
    "tags": []
   },
   "outputs": [
    {
     "data": {
      "text/html": [
       "<style>#sk-container-id-9 {color: black;background-color: white;}#sk-container-id-9 pre{padding: 0;}#sk-container-id-9 div.sk-toggleable {background-color: white;}#sk-container-id-9 label.sk-toggleable__label {cursor: pointer;display: block;width: 100%;margin-bottom: 0;padding: 0.3em;box-sizing: border-box;text-align: center;}#sk-container-id-9 label.sk-toggleable__label-arrow:before {content: \"▸\";float: left;margin-right: 0.25em;color: #696969;}#sk-container-id-9 label.sk-toggleable__label-arrow:hover:before {color: black;}#sk-container-id-9 div.sk-estimator:hover label.sk-toggleable__label-arrow:before {color: black;}#sk-container-id-9 div.sk-toggleable__content {max-height: 0;max-width: 0;overflow: hidden;text-align: left;background-color: #f0f8ff;}#sk-container-id-9 div.sk-toggleable__content pre {margin: 0.2em;color: black;border-radius: 0.25em;background-color: #f0f8ff;}#sk-container-id-9 input.sk-toggleable__control:checked~div.sk-toggleable__content {max-height: 200px;max-width: 100%;overflow: auto;}#sk-container-id-9 input.sk-toggleable__control:checked~label.sk-toggleable__label-arrow:before {content: \"▾\";}#sk-container-id-9 div.sk-estimator input.sk-toggleable__control:checked~label.sk-toggleable__label {background-color: #d4ebff;}#sk-container-id-9 div.sk-label input.sk-toggleable__control:checked~label.sk-toggleable__label {background-color: #d4ebff;}#sk-container-id-9 input.sk-hidden--visually {border: 0;clip: rect(1px 1px 1px 1px);clip: rect(1px, 1px, 1px, 1px);height: 1px;margin: -1px;overflow: hidden;padding: 0;position: absolute;width: 1px;}#sk-container-id-9 div.sk-estimator {font-family: monospace;background-color: #f0f8ff;border: 1px dotted black;border-radius: 0.25em;box-sizing: border-box;margin-bottom: 0.5em;}#sk-container-id-9 div.sk-estimator:hover {background-color: #d4ebff;}#sk-container-id-9 div.sk-parallel-item::after {content: \"\";width: 100%;border-bottom: 1px solid gray;flex-grow: 1;}#sk-container-id-9 div.sk-label:hover label.sk-toggleable__label {background-color: #d4ebff;}#sk-container-id-9 div.sk-serial::before {content: \"\";position: absolute;border-left: 1px solid gray;box-sizing: border-box;top: 0;bottom: 0;left: 50%;z-index: 0;}#sk-container-id-9 div.sk-serial {display: flex;flex-direction: column;align-items: center;background-color: white;padding-right: 0.2em;padding-left: 0.2em;position: relative;}#sk-container-id-9 div.sk-item {position: relative;z-index: 1;}#sk-container-id-9 div.sk-parallel {display: flex;align-items: stretch;justify-content: center;background-color: white;position: relative;}#sk-container-id-9 div.sk-item::before, #sk-container-id-9 div.sk-parallel-item::before {content: \"\";position: absolute;border-left: 1px solid gray;box-sizing: border-box;top: 0;bottom: 0;left: 50%;z-index: -1;}#sk-container-id-9 div.sk-parallel-item {display: flex;flex-direction: column;z-index: 1;position: relative;background-color: white;}#sk-container-id-9 div.sk-parallel-item:first-child::after {align-self: flex-end;width: 50%;}#sk-container-id-9 div.sk-parallel-item:last-child::after {align-self: flex-start;width: 50%;}#sk-container-id-9 div.sk-parallel-item:only-child::after {width: 0;}#sk-container-id-9 div.sk-dashed-wrapped {border: 1px dashed gray;margin: 0 0.4em 0.5em 0.4em;box-sizing: border-box;padding-bottom: 0.4em;background-color: white;}#sk-container-id-9 div.sk-label label {font-family: monospace;font-weight: bold;display: inline-block;line-height: 1.2em;}#sk-container-id-9 div.sk-label-container {text-align: center;}#sk-container-id-9 div.sk-container {/* jupyter's `normalize.less` sets `[hidden] { display: none; }` but bootstrap.min.css set `[hidden] { display: none !important; }` so we also need the `!important` here to be able to override the default hidden behavior on the sphinx rendered scikit-learn.org. See: https://github.com/scikit-learn/scikit-learn/issues/21755 */display: inline-block !important;position: relative;}#sk-container-id-9 div.sk-text-repr-fallback {display: none;}</style><div id=\"sk-container-id-9\" class=\"sk-top-container\"><div class=\"sk-text-repr-fallback\"><pre>KNeighborsClassifier(metric=&#x27;dtw_sakoechiba&#x27;, metric_params={&#x27;window_size&#x27;: 3})</pre><b>In a Jupyter environment, please rerun this cell to show the HTML representation or trust the notebook. <br />On GitHub, the HTML representation is unable to render, please try loading this page with nbviewer.org.</b></div><div class=\"sk-container\" hidden><div class=\"sk-item\"><div class=\"sk-estimator sk-toggleable\"><input class=\"sk-toggleable__control sk-hidden--visually\" id=\"sk-estimator-id-9\" type=\"checkbox\" checked><label for=\"sk-estimator-id-9\" class=\"sk-toggleable__label sk-toggleable__label-arrow\">KNeighborsClassifier</label><div class=\"sk-toggleable__content\"><pre>KNeighborsClassifier(metric=&#x27;dtw_sakoechiba&#x27;, metric_params={&#x27;window_size&#x27;: 3})</pre></div></div></div></div></div>"
      ],
      "text/plain": [
       "KNeighborsClassifier(metric='dtw_sakoechiba', metric_params={'window_size': 3})"
      ]
     },
     "execution_count": 65,
     "metadata": {},
     "output_type": "execute_result"
    }
   ],
   "source": [
    "clf = KNeighborsClassifier(metric='dtw_sakoechiba',  metric_params={'window_size':3})\n",
    "\n",
    "clf.fit(X_train, y_train)"
   ]
  },
  {
   "cell_type": "code",
   "execution_count": 66,
   "id": "8109d19d",
   "metadata": {
    "execution": {
     "iopub.execute_input": "2023-03-09T15:00:33.290495Z",
     "iopub.status.busy": "2023-03-09T15:00:33.289568Z",
     "iopub.status.idle": "2023-03-09T16:26:06.905996Z",
     "shell.execute_reply": "2023-03-09T16:26:06.905323Z"
    },
    "papermill": {
     "duration": 5133.684164,
     "end_time": "2023-03-09T16:26:06.957763",
     "exception": false,
     "start_time": "2023-03-09T15:00:33.273599",
     "status": "completed"
    },
    "tags": []
   },
   "outputs": [
    {
     "name": "stdout",
     "output_type": "stream",
     "text": [
      "              precision    recall  f1-score   support\n",
      "\n",
      "         pop       0.57      0.57      0.57      2391\n",
      "        rock       0.57      0.56      0.57      2409\n",
      "\n",
      "    accuracy                           0.57      4800\n",
      "   macro avg       0.57      0.57      0.57      4800\n",
      "weighted avg       0.57      0.57      0.57      4800\n",
      "\n",
      "CPU times: user 1h 25min 32s, sys: 826 ms, total: 1h 25min 33s\n",
      "Wall time: 1h 25min 33s\n"
     ]
    }
   ],
   "source": [
    "%%time\n",
    "y_pred = clf.predict(X_test)\n",
    "print(classification_report(y_test, y_pred))"
   ]
  },
  {
   "cell_type": "code",
   "execution_count": 67,
   "id": "b09f5cdf",
   "metadata": {
    "execution": {
     "iopub.execute_input": "2023-03-09T16:26:07.014574Z",
     "iopub.status.busy": "2023-03-09T16:26:07.014155Z",
     "iopub.status.idle": "2023-03-09T16:26:07.126279Z",
     "shell.execute_reply": "2023-03-09T16:26:07.125455Z"
    },
    "papermill": {
     "duration": 0.133098,
     "end_time": "2023-03-09T16:26:07.128463",
     "exception": false,
     "start_time": "2023-03-09T16:26:06.995365",
     "status": "completed"
    },
    "tags": []
   },
   "outputs": [],
   "source": [
    "acc = accuracy_score(y_test, y_pred)\n",
    "pre = precision_score(y_test, y_pred, average=avg_par)\n",
    "rec = recall_score(y_test, y_pred, average=avg_par)\n",
    "f1 = f1_score(y_test, y_pred, average=avg_par)\n",
    "\n",
    "metrics_data['KNN']['DTW'] = {'Accuracy': acc, 'Precision': pre, 'Recall': rec, 'F1': f1}"
   ]
  },
  {
   "cell_type": "markdown",
   "id": "e0e700a7",
   "metadata": {
    "papermill": {
     "duration": 0.017022,
     "end_time": "2023-03-09T16:26:07.161970",
     "exception": false,
     "start_time": "2023-03-09T16:26:07.144948",
     "status": "completed"
    },
    "tags": []
   },
   "source": [
    "## Overall Results"
   ]
  },
  {
   "cell_type": "code",
   "execution_count": 68,
   "id": "d003c193",
   "metadata": {
    "execution": {
     "iopub.execute_input": "2023-03-09T16:26:07.201508Z",
     "iopub.status.busy": "2023-03-09T16:26:07.201153Z",
     "iopub.status.idle": "2023-03-09T16:26:07.211299Z",
     "shell.execute_reply": "2023-03-09T16:26:07.210157Z"
    },
    "papermill": {
     "duration": 0.032839,
     "end_time": "2023-03-09T16:26:07.213818",
     "exception": false,
     "start_time": "2023-03-09T16:26:07.180979",
     "status": "completed"
    },
    "tags": []
   },
   "outputs": [],
   "source": [
    "metrics_data = pd.DataFrame.from_dict({(i,j): metrics_data[i][j] \n",
    "                                       for i in metrics_data.keys() \n",
    "                                       for j in metrics_data[i].keys()},\n",
    "                                       orient='index')"
   ]
  },
  {
   "cell_type": "code",
   "execution_count": 69,
   "id": "0944fe84",
   "metadata": {
    "execution": {
     "iopub.execute_input": "2023-03-09T16:26:07.253222Z",
     "iopub.status.busy": "2023-03-09T16:26:07.252289Z",
     "iopub.status.idle": "2023-03-09T16:26:07.392251Z",
     "shell.execute_reply": "2023-03-09T16:26:07.391451Z"
    },
    "papermill": {
     "duration": 0.163074,
     "end_time": "2023-03-09T16:26:07.395206",
     "exception": false,
     "start_time": "2023-03-09T16:26:07.232132",
     "status": "completed"
    },
    "tags": []
   },
   "outputs": [],
   "source": [
    "acc = accuracy_score(y_test, y_pred)\n",
    "pre = precision_score(y_test, y_pred, average=avg_par)\n",
    "rec = recall_score(y_test, y_pred, average=avg_par)\n",
    "f1 = f1_score(y_test, y_pred, average=avg_par)"
   ]
  },
  {
   "cell_type": "code",
   "execution_count": 70,
   "id": "7ee1b347",
   "metadata": {
    "execution": {
     "iopub.execute_input": "2023-03-09T16:26:07.435893Z",
     "iopub.status.busy": "2023-03-09T16:26:07.434605Z",
     "iopub.status.idle": "2023-03-09T16:26:07.447186Z",
     "shell.execute_reply": "2023-03-09T16:26:07.446362Z"
    },
    "papermill": {
     "duration": 0.037738,
     "end_time": "2023-03-09T16:26:07.452373",
     "exception": false,
     "start_time": "2023-03-09T16:26:07.414635",
     "status": "completed"
    },
    "tags": []
   },
   "outputs": [
    {
     "data": {
      "text/html": [
       "<div>\n",
       "<style scoped>\n",
       "    .dataframe tbody tr th:only-of-type {\n",
       "        vertical-align: middle;\n",
       "    }\n",
       "\n",
       "    .dataframe tbody tr th {\n",
       "        vertical-align: top;\n",
       "    }\n",
       "\n",
       "    .dataframe thead th {\n",
       "        text-align: right;\n",
       "    }\n",
       "</style>\n",
       "<table border=\"1\" class=\"dataframe\">\n",
       "  <thead>\n",
       "    <tr style=\"text-align: right;\">\n",
       "      <th></th>\n",
       "      <th></th>\n",
       "      <th>Accuracy</th>\n",
       "      <th>Precision</th>\n",
       "      <th>Recall</th>\n",
       "      <th>F1</th>\n",
       "    </tr>\n",
       "  </thead>\n",
       "  <tbody>\n",
       "    <tr>\n",
       "      <th rowspan=\"3\" valign=\"top\">Global</th>\n",
       "      <th>DecisionTree</th>\n",
       "      <td>0.525833</td>\n",
       "      <td>0.525890</td>\n",
       "      <td>0.525877</td>\n",
       "      <td>0.525790</td>\n",
       "    </tr>\n",
       "    <tr>\n",
       "      <th>RandomForest</th>\n",
       "      <td>0.577917</td>\n",
       "      <td>0.578120</td>\n",
       "      <td>0.577994</td>\n",
       "      <td>0.577775</td>\n",
       "    </tr>\n",
       "    <tr>\n",
       "      <th>LightGBM</th>\n",
       "      <td>0.596458</td>\n",
       "      <td>0.596571</td>\n",
       "      <td>0.596508</td>\n",
       "      <td>0.596409</td>\n",
       "    </tr>\n",
       "    <tr>\n",
       "      <th rowspan=\"3\" valign=\"top\">Shapelets</th>\n",
       "      <th>DecisionTree</th>\n",
       "      <td>0.553125</td>\n",
       "      <td>0.553201</td>\n",
       "      <td>0.553171</td>\n",
       "      <td>0.553078</td>\n",
       "    </tr>\n",
       "    <tr>\n",
       "      <th>RandomForest</th>\n",
       "      <td>0.615208</td>\n",
       "      <td>0.615407</td>\n",
       "      <td>0.615274</td>\n",
       "      <td>0.615119</td>\n",
       "    </tr>\n",
       "    <tr>\n",
       "      <th>LightGBM</th>\n",
       "      <td>0.601875</td>\n",
       "      <td>0.601882</td>\n",
       "      <td>0.601836</td>\n",
       "      <td>0.601811</td>\n",
       "    </tr>\n",
       "    <tr>\n",
       "      <th rowspan=\"2\" valign=\"top\">KNN</th>\n",
       "      <th>Euclidean</th>\n",
       "      <td>0.542292</td>\n",
       "      <td>0.549758</td>\n",
       "      <td>0.541530</td>\n",
       "      <td>0.522170</td>\n",
       "    </tr>\n",
       "    <tr>\n",
       "      <th>DTW</th>\n",
       "      <td>0.569375</td>\n",
       "      <td>0.569395</td>\n",
       "      <td>0.569392</td>\n",
       "      <td>0.569373</td>\n",
       "    </tr>\n",
       "  </tbody>\n",
       "</table>\n",
       "</div>"
      ],
      "text/plain": [
       "                        Accuracy  Precision    Recall        F1\n",
       "Global    DecisionTree  0.525833   0.525890  0.525877  0.525790\n",
       "          RandomForest  0.577917   0.578120  0.577994  0.577775\n",
       "          LightGBM      0.596458   0.596571  0.596508  0.596409\n",
       "Shapelets DecisionTree  0.553125   0.553201  0.553171  0.553078\n",
       "          RandomForest  0.615208   0.615407  0.615274  0.615119\n",
       "          LightGBM      0.601875   0.601882  0.601836  0.601811\n",
       "KNN       Euclidean     0.542292   0.549758  0.541530  0.522170\n",
       "          DTW           0.569375   0.569395  0.569392  0.569373"
      ]
     },
     "execution_count": 70,
     "metadata": {},
     "output_type": "execute_result"
    }
   ],
   "source": [
    "metrics_data"
   ]
  },
  {
   "cell_type": "code",
   "execution_count": 71,
   "id": "3efc173e",
   "metadata": {
    "execution": {
     "iopub.execute_input": "2023-03-09T16:26:07.508270Z",
     "iopub.status.busy": "2023-03-09T16:26:07.507276Z",
     "iopub.status.idle": "2023-03-09T16:26:07.521122Z",
     "shell.execute_reply": "2023-03-09T16:26:07.519395Z"
    },
    "papermill": {
     "duration": 0.033727,
     "end_time": "2023-03-09T16:26:07.523157",
     "exception": false,
     "start_time": "2023-03-09T16:26:07.489430",
     "status": "completed"
    },
    "tags": []
   },
   "outputs": [],
   "source": [
    "metrics_data.to_csv(f'{data_path}/metrics.csv')"
   ]
  },
  {
   "cell_type": "code",
   "execution_count": null,
   "id": "d21f5304",
   "metadata": {
    "papermill": {
     "duration": 0.017261,
     "end_time": "2023-03-09T16:26:07.558937",
     "exception": false,
     "start_time": "2023-03-09T16:26:07.541676",
     "status": "completed"
    },
    "tags": []
   },
   "outputs": [],
   "source": []
  }
 ],
 "metadata": {
  "celltoolbar": "Tags",
  "kernelspec": {
   "display_name": "Python 3 (ipykernel)",
   "language": "python",
   "name": "python3"
  },
  "language_info": {
   "codemirror_mode": {
    "name": "ipython",
    "version": 3
   },
   "file_extension": ".py",
   "mimetype": "text/x-python",
   "name": "python",
   "nbconvert_exporter": "python",
   "pygments_lexer": "ipython3",
   "version": "3.9.16"
  },
  "papermill": {
   "default_parameters": {},
   "duration": 6874.365529,
   "end_time": "2023-03-09T16:26:11.014592",
   "environment_variables": {},
   "exception": null,
   "input_path": "09_ts_classification.ipynb",
   "output_path": "../clf-reports/pp-rc_sentiment.ipynb",
   "parameters": {
    "data_path": "/home/mattiapggioli/lyrics2ts/data/classification/pp-rc/sentiment/",
    "paa_window_size": 20,
    "undersampling": 0.3
   },
   "start_time": "2023-03-09T14:31:36.649063",
   "version": "2.4.0"
  },
  "vscode": {
   "interpreter": {
    "hash": "eb8d1ded7c87c6f9c253b40add648304d6b51d2e38393955e855effc7e6f899a"
   }
  }
 },
 "nbformat": 4,
 "nbformat_minor": 5
}