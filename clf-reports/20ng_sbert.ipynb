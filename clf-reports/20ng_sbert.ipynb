{
 "cells": [
  {
   "cell_type": "markdown",
   "id": "d79a68c5",
   "metadata": {
    "papermill": {
     "duration": 0.014367,
     "end_time": "2023-03-08T11:11:36.332161",
     "exception": false,
     "start_time": "2023-03-08T11:11:36.317794",
     "status": "completed"
    },
    "tags": []
   },
   "source": [
    "# Time Series Classification"
   ]
  },
  {
   "cell_type": "code",
   "execution_count": 1,
   "id": "8a0cb2b0",
   "metadata": {
    "execution": {
     "iopub.execute_input": "2023-03-08T11:11:36.356391Z",
     "iopub.status.busy": "2023-03-08T11:11:36.355920Z",
     "iopub.status.idle": "2023-03-08T11:11:38.094455Z",
     "shell.execute_reply": "2023-03-08T11:11:38.093539Z"
    },
    "papermill": {
     "duration": 1.754742,
     "end_time": "2023-03-08T11:11:38.097857",
     "exception": false,
     "start_time": "2023-03-08T11:11:36.343115",
     "status": "completed"
    },
    "tags": []
   },
   "outputs": [],
   "source": [
    "%matplotlib inline\n",
    "import pandas as pd\n",
    "import numpy as np\n",
    "import matplotlib.pyplot as plt\n",
    "import seaborn as sns\n",
    "import re\n",
    "import os\n",
    "from sklearn.preprocessing import StandardScaler\n",
    "from sklearn.decomposition import PCA\n",
    "import joblib\n",
    "from tslearn.utils import to_time_series_dataset, save_time_series_txt, load_time_series_txt\n",
    "import random\n",
    "from sklearn.model_selection import train_test_split\n",
    "from sklearn.metrics import accuracy_score, f1_score, precision_score, recall_score, classification_report\n",
    "import pickle"
   ]
  },
  {
   "cell_type": "code",
   "execution_count": 2,
   "id": "acc03405",
   "metadata": {
    "execution": {
     "iopub.execute_input": "2023-03-08T11:11:38.127827Z",
     "iopub.status.busy": "2023-03-08T11:11:38.127173Z",
     "iopub.status.idle": "2023-03-08T11:11:38.133412Z",
     "shell.execute_reply": "2023-03-08T11:11:38.132316Z"
    },
    "papermill": {
     "duration": 0.019639,
     "end_time": "2023-03-08T11:11:38.135240",
     "exception": false,
     "start_time": "2023-03-08T11:11:38.115601",
     "status": "completed"
    },
    "tags": [
     "parameters"
    ]
   },
   "outputs": [],
   "source": [
    "data_path = '/home/mattiapggioli/lyrics2ts/data/classification/20ng/sbert/'\n",
    "truncate=100\n",
    "max_iter = 2000\n",
    "paa_window_size = None\n",
    "undersampling = None"
   ]
  },
  {
   "cell_type": "code",
   "execution_count": 3,
   "id": "a4edab38",
   "metadata": {
    "execution": {
     "iopub.execute_input": "2023-03-08T11:11:38.158691Z",
     "iopub.status.busy": "2023-03-08T11:11:38.158232Z",
     "iopub.status.idle": "2023-03-08T11:11:38.163191Z",
     "shell.execute_reply": "2023-03-08T11:11:38.162011Z"
    },
    "papermill": {
     "duration": 0.018856,
     "end_time": "2023-03-08T11:11:38.164902",
     "exception": false,
     "start_time": "2023-03-08T11:11:38.146046",
     "status": "completed"
    },
    "tags": [
     "injected-parameters"
    ]
   },
   "outputs": [],
   "source": [
    "# Parameters\n",
    "data_path = \"/home/mattiapggioli/lyrics2ts/data/classification/20ng/sbert/\"\n"
   ]
  },
  {
   "cell_type": "code",
   "execution_count": 4,
   "id": "a4f0c774",
   "metadata": {
    "execution": {
     "iopub.execute_input": "2023-03-08T11:11:38.187509Z",
     "iopub.status.busy": "2023-03-08T11:11:38.187050Z",
     "iopub.status.idle": "2023-03-08T11:11:54.427713Z",
     "shell.execute_reply": "2023-03-08T11:11:54.426780Z"
    },
    "papermill": {
     "duration": 16.255353,
     "end_time": "2023-03-08T11:11:54.430826",
     "exception": false,
     "start_time": "2023-03-08T11:11:38.175473",
     "status": "completed"
    },
    "tags": []
   },
   "outputs": [],
   "source": [
    "ts = load_time_series_txt(f'{data_path}/ts.txt')"
   ]
  },
  {
   "cell_type": "code",
   "execution_count": 5,
   "id": "5c48d154",
   "metadata": {
    "execution": {
     "iopub.execute_input": "2023-03-08T11:11:54.457752Z",
     "iopub.status.busy": "2023-03-08T11:11:54.457441Z",
     "iopub.status.idle": "2023-03-08T11:11:54.464656Z",
     "shell.execute_reply": "2023-03-08T11:11:54.463537Z"
    },
    "papermill": {
     "duration": 0.019988,
     "end_time": "2023-03-08T11:11:54.466311",
     "exception": false,
     "start_time": "2023-03-08T11:11:54.446323",
     "status": "completed"
    },
    "tags": []
   },
   "outputs": [
    {
     "data": {
      "text/plain": [
       "(1775, 1210, 1)"
      ]
     },
     "execution_count": 5,
     "metadata": {},
     "output_type": "execute_result"
    }
   ],
   "source": [
    "ts.shape"
   ]
  },
  {
   "cell_type": "code",
   "execution_count": 6,
   "id": "f6274d40",
   "metadata": {
    "execution": {
     "iopub.execute_input": "2023-03-08T11:11:54.489694Z",
     "iopub.status.busy": "2023-03-08T11:11:54.489275Z",
     "iopub.status.idle": "2023-03-08T11:11:54.496742Z",
     "shell.execute_reply": "2023-03-08T11:11:54.495531Z"
    },
    "papermill": {
     "duration": 0.021522,
     "end_time": "2023-03-08T11:11:54.498558",
     "exception": false,
     "start_time": "2023-03-08T11:11:54.477036",
     "status": "completed"
    },
    "tags": []
   },
   "outputs": [],
   "source": [
    "with open(f'{data_path}/y_class.npy', 'rb') as f:\n",
    "    y = np.load(f, allow_pickle=True)"
   ]
  },
  {
   "cell_type": "code",
   "execution_count": 7,
   "id": "9d42fa3b",
   "metadata": {
    "execution": {
     "iopub.execute_input": "2023-03-08T11:11:54.520894Z",
     "iopub.status.busy": "2023-03-08T11:11:54.520479Z",
     "iopub.status.idle": "2023-03-08T11:11:54.532425Z",
     "shell.execute_reply": "2023-03-08T11:11:54.531315Z"
    },
    "papermill": {
     "duration": 0.025488,
     "end_time": "2023-03-08T11:11:54.534495",
     "exception": false,
     "start_time": "2023-03-08T11:11:54.509007",
     "status": "completed"
    },
    "tags": []
   },
   "outputs": [],
   "source": [
    "with open(f'{data_path}/X.npy', 'rb') as f:\n",
    "    X = np.load(f, allow_pickle=True)"
   ]
  },
  {
   "cell_type": "code",
   "execution_count": 8,
   "id": "1158a9da",
   "metadata": {
    "execution": {
     "iopub.execute_input": "2023-03-08T11:11:54.558423Z",
     "iopub.status.busy": "2023-03-08T11:11:54.557966Z",
     "iopub.status.idle": "2023-03-08T11:11:54.565473Z",
     "shell.execute_reply": "2023-03-08T11:11:54.564289Z"
    },
    "papermill": {
     "duration": 0.020522,
     "end_time": "2023-03-08T11:11:54.567196",
     "exception": false,
     "start_time": "2023-03-08T11:11:54.546674",
     "status": "completed"
    },
    "tags": []
   },
   "outputs": [
    {
     "data": {
      "text/plain": [
       "(1775, 384)"
      ]
     },
     "execution_count": 8,
     "metadata": {},
     "output_type": "execute_result"
    }
   ],
   "source": [
    "X.shape"
   ]
  },
  {
   "cell_type": "code",
   "execution_count": 9,
   "id": "47239790",
   "metadata": {
    "execution": {
     "iopub.execute_input": "2023-03-08T11:11:54.590756Z",
     "iopub.status.busy": "2023-03-08T11:11:54.590303Z",
     "iopub.status.idle": "2023-03-08T11:11:54.597853Z",
     "shell.execute_reply": "2023-03-08T11:11:54.596833Z"
    },
    "papermill": {
     "duration": 0.02149,
     "end_time": "2023-03-08T11:11:54.599599",
     "exception": false,
     "start_time": "2023-03-08T11:11:54.578109",
     "status": "completed"
    },
    "tags": []
   },
   "outputs": [
    {
     "data": {
      "text/plain": [
       "{'comp', 'misc', 'rec', 'religion', 'sci', 'talk'}"
      ]
     },
     "execution_count": 9,
     "metadata": {},
     "output_type": "execute_result"
    }
   ],
   "source": [
    "set(y)"
   ]
  },
  {
   "cell_type": "code",
   "execution_count": 10,
   "id": "37609992",
   "metadata": {
    "execution": {
     "iopub.execute_input": "2023-03-08T11:11:54.622869Z",
     "iopub.status.busy": "2023-03-08T11:11:54.622416Z",
     "iopub.status.idle": "2023-03-08T11:11:54.636080Z",
     "shell.execute_reply": "2023-03-08T11:11:54.634817Z"
    },
    "papermill": {
     "duration": 0.027659,
     "end_time": "2023-03-08T11:11:54.638287",
     "exception": false,
     "start_time": "2023-03-08T11:11:54.610628",
     "status": "completed"
    },
    "tags": []
   },
   "outputs": [],
   "source": [
    "ts_train, ts_test, y_train, y_test = train_test_split(ts, y, test_size=0.20, random_state=42)"
   ]
  },
  {
   "cell_type": "code",
   "execution_count": 11,
   "id": "34508fe4",
   "metadata": {
    "execution": {
     "iopub.execute_input": "2023-03-08T11:11:54.662902Z",
     "iopub.status.busy": "2023-03-08T11:11:54.662451Z",
     "iopub.status.idle": "2023-03-08T11:11:54.670314Z",
     "shell.execute_reply": "2023-03-08T11:11:54.669263Z"
    },
    "papermill": {
     "duration": 0.021309,
     "end_time": "2023-03-08T11:11:54.672047",
     "exception": false,
     "start_time": "2023-03-08T11:11:54.650738",
     "status": "completed"
    },
    "tags": []
   },
   "outputs": [],
   "source": [
    "X_train, X_test, y_train, y_test = train_test_split(X, y, test_size=0.20, random_state=42)"
   ]
  },
  {
   "cell_type": "code",
   "execution_count": 12,
   "id": "076afac9",
   "metadata": {
    "execution": {
     "iopub.execute_input": "2023-03-08T11:11:54.695597Z",
     "iopub.status.busy": "2023-03-08T11:11:54.695135Z",
     "iopub.status.idle": "2023-03-08T11:11:54.703575Z",
     "shell.execute_reply": "2023-03-08T11:11:54.702525Z"
    },
    "papermill": {
     "duration": 0.021951,
     "end_time": "2023-03-08T11:11:54.705284",
     "exception": false,
     "start_time": "2023-03-08T11:11:54.683333",
     "status": "completed"
    },
    "tags": []
   },
   "outputs": [
    {
     "data": {
      "text/plain": [
       "array([[-0.39985439],\n",
       "       [ 0.46683555],\n",
       "       [ 1.46838411],\n",
       "       ...,\n",
       "       [        nan],\n",
       "       [        nan],\n",
       "       [        nan]])"
      ]
     },
     "execution_count": 12,
     "metadata": {},
     "output_type": "execute_result"
    }
   ],
   "source": [
    "random.choice(ts_train)"
   ]
  },
  {
   "cell_type": "code",
   "execution_count": 13,
   "id": "ca66457a",
   "metadata": {
    "execution": {
     "iopub.execute_input": "2023-03-08T11:11:54.728033Z",
     "iopub.status.busy": "2023-03-08T11:11:54.727584Z",
     "iopub.status.idle": "2023-03-08T11:11:55.246398Z",
     "shell.execute_reply": "2023-03-08T11:11:55.245295Z"
    },
    "papermill": {
     "duration": 0.533366,
     "end_time": "2023-03-08T11:11:55.249260",
     "exception": false,
     "start_time": "2023-03-08T11:11:54.715894",
     "status": "completed"
    },
    "tags": []
   },
   "outputs": [
    {
     "data": {
      "text/plain": [
       "<AxesSubplot:ylabel='Count'>"
      ]
     },
     "execution_count": 13,
     "metadata": {},
     "output_type": "execute_result"
    },
    {
     "data": {
      "image/png": "[encoded data removed]",
      "text/plain": [
       "<Figure size 640x480 with 1 Axes>"
      ]
     },
     "metadata": {},
     "output_type": "display_data"
    }
   ],
   "source": [
    "sns.histplot([t[~np.any(np.isnan(t), axis=1)].shape[0] for t in ts_train])"
   ]
  },
  {
   "cell_type": "code",
   "execution_count": 14,
   "id": "c2ae286f",
   "metadata": {
    "execution": {
     "iopub.execute_input": "2023-03-08T11:11:55.276530Z",
     "iopub.status.busy": "2023-03-08T11:11:55.276218Z",
     "iopub.status.idle": "2023-03-08T11:11:55.280326Z",
     "shell.execute_reply": "2023-03-08T11:11:55.279495Z"
    },
    "papermill": {
     "duration": 0.017568,
     "end_time": "2023-03-08T11:11:55.281956",
     "exception": false,
     "start_time": "2023-03-08T11:11:55.264388",
     "status": "completed"
    },
    "tags": []
   },
   "outputs": [],
   "source": [
    "ts_train = ts_train[:, :truncate, :]\n",
    "ts_test = ts_test[:, :truncate, :]"
   ]
  },
  {
   "cell_type": "code",
   "execution_count": 15,
   "id": "3218baa4",
   "metadata": {
    "execution": {
     "iopub.execute_input": "2023-03-08T11:11:55.306782Z",
     "iopub.status.busy": "2023-03-08T11:11:55.306322Z",
     "iopub.status.idle": "2023-03-08T11:11:55.321112Z",
     "shell.execute_reply": "2023-03-08T11:11:55.320168Z"
    },
    "papermill": {
     "duration": 0.029827,
     "end_time": "2023-03-08T11:11:55.323084",
     "exception": false,
     "start_time": "2023-03-08T11:11:55.293257",
     "status": "completed"
    },
    "tags": []
   },
   "outputs": [],
   "source": [
    "mean_arr = np.nanmean(ts_train, axis=1, keepdims=True)\n",
    "nan_indices = np.isnan(ts_train)\n",
    "ts_train[nan_indices] = np.take(mean_arr, np.nonzero(nan_indices)[0])\n",
    "\n",
    "mean_arr = np.nanmean(ts_test, axis=1, keepdims=True)\n",
    "nan_indices = np.isnan(ts_test)\n",
    "ts_test[nan_indices] = np.take(mean_arr, np.nonzero(nan_indices)[0])"
   ]
  },
  {
   "cell_type": "code",
   "execution_count": 16,
   "id": "d369691b",
   "metadata": {
    "execution": {
     "iopub.execute_input": "2023-03-08T11:11:55.347946Z",
     "iopub.status.busy": "2023-03-08T11:11:55.347491Z",
     "iopub.status.idle": "2023-03-08T11:11:55.354335Z",
     "shell.execute_reply": "2023-03-08T11:11:55.353520Z"
    },
    "papermill": {
     "duration": 0.020339,
     "end_time": "2023-03-08T11:11:55.355847",
     "exception": false,
     "start_time": "2023-03-08T11:11:55.335508",
     "status": "completed"
    },
    "tags": []
   },
   "outputs": [
    {
     "data": {
      "text/plain": [
       "0"
      ]
     },
     "execution_count": 16,
     "metadata": {},
     "output_type": "execute_result"
    }
   ],
   "source": [
    "np.count_nonzero(np.isnan(X_train))"
   ]
  },
  {
   "cell_type": "code",
   "execution_count": 17,
   "id": "0d602e18",
   "metadata": {
    "execution": {
     "iopub.execute_input": "2023-03-08T11:11:55.379577Z",
     "iopub.status.busy": "2023-03-08T11:11:55.379122Z",
     "iopub.status.idle": "2023-03-08T11:11:55.385124Z",
     "shell.execute_reply": "2023-03-08T11:11:55.384137Z"
    },
    "papermill": {
     "duration": 0.019779,
     "end_time": "2023-03-08T11:11:55.386756",
     "exception": false,
     "start_time": "2023-03-08T11:11:55.366977",
     "status": "completed"
    },
    "tags": []
   },
   "outputs": [],
   "source": [
    "X_train[np.isnan(X_train)] = 0\n",
    "X_test[np.isnan(X_test)] = 0"
   ]
  },
  {
   "cell_type": "code",
   "execution_count": 18,
   "id": "45c5102c",
   "metadata": {
    "execution": {
     "iopub.execute_input": "2023-03-08T11:11:55.411619Z",
     "iopub.status.busy": "2023-03-08T11:11:55.411159Z",
     "iopub.status.idle": "2023-03-08T11:11:55.704540Z",
     "shell.execute_reply": "2023-03-08T11:11:55.703633Z"
    },
    "papermill": {
     "duration": 0.308854,
     "end_time": "2023-03-08T11:11:55.707308",
     "exception": false,
     "start_time": "2023-03-08T11:11:55.398454",
     "status": "completed"
    },
    "tags": []
   },
   "outputs": [],
   "source": [
    "save_time_series_txt(f'{data_path}/ts_train.txt', ts_train)\n",
    "save_time_series_txt(f'{data_path}/ts_test.txt', ts_test)"
   ]
  },
  {
   "cell_type": "code",
   "execution_count": 19,
   "id": "39830f37",
   "metadata": {
    "execution": {
     "iopub.execute_input": "2023-03-08T11:11:55.769488Z",
     "iopub.status.busy": "2023-03-08T11:11:55.769078Z",
     "iopub.status.idle": "2023-03-08T11:11:55.781803Z",
     "shell.execute_reply": "2023-03-08T11:11:55.780904Z"
    },
    "papermill": {
     "duration": 0.0455,
     "end_time": "2023-03-08T11:11:55.784116",
     "exception": false,
     "start_time": "2023-03-08T11:11:55.738616",
     "status": "completed"
    },
    "tags": []
   },
   "outputs": [],
   "source": [
    "with open(f'{data_path}/X_train.npy', 'wb') as f:\n",
    "    np.save(f, X_train, allow_pickle=True)\n",
    "\n",
    "with open(f'{data_path}/X_test.npy', 'wb') as f:\n",
    "    np.save(f, X_test, allow_pickle=True)"
   ]
  },
  {
   "cell_type": "code",
   "execution_count": 20,
   "id": "795fd2be",
   "metadata": {
    "execution": {
     "iopub.execute_input": "2023-03-08T11:11:55.810406Z",
     "iopub.status.busy": "2023-03-08T11:11:55.810096Z",
     "iopub.status.idle": "2023-03-08T11:11:55.816326Z",
     "shell.execute_reply": "2023-03-08T11:11:55.815363Z"
    },
    "papermill": {
     "duration": 0.019677,
     "end_time": "2023-03-08T11:11:55.817987",
     "exception": false,
     "start_time": "2023-03-08T11:11:55.798310",
     "status": "completed"
    },
    "tags": []
   },
   "outputs": [],
   "source": [
    "with open(f'{data_path}/y_train.npy', 'wb') as f:\n",
    "    np.save(f, y_train, allow_pickle=True)\n",
    "\n",
    "with open(f'{data_path}/y_test.npy', 'wb') as f:\n",
    "    np.save(f, y_test, allow_pickle=True)"
   ]
  },
  {
   "cell_type": "code",
   "execution_count": 21,
   "id": "08bda153",
   "metadata": {
    "execution": {
     "iopub.execute_input": "2023-03-08T11:11:55.841609Z",
     "iopub.status.busy": "2023-03-08T11:11:55.841149Z",
     "iopub.status.idle": "2023-03-08T11:11:55.988664Z",
     "shell.execute_reply": "2023-03-08T11:11:55.987494Z"
    },
    "papermill": {
     "duration": 0.162721,
     "end_time": "2023-03-08T11:11:55.991770",
     "exception": false,
     "start_time": "2023-03-08T11:11:55.829049",
     "status": "completed"
    },
    "tags": []
   },
   "outputs": [
    {
     "data": {
      "text/plain": [
       "[<matplotlib.lines.Line2D at 0x7f5fd00be880>]"
      ]
     },
     "execution_count": 21,
     "metadata": {},
     "output_type": "execute_result"
    },
    {
     "data": {
      "image/png": "[encoded data removed]",
      "text/plain": [
       "<Figure size 640x480 with 1 Axes>"
      ]
     },
     "metadata": {},
     "output_type": "display_data"
    }
   ],
   "source": [
    "plt.plot(random.choice(ts_train))"
   ]
  },
  {
   "cell_type": "code",
   "execution_count": 22,
   "id": "98ce9d63",
   "metadata": {
    "execution": {
     "iopub.execute_input": "2023-03-08T11:11:56.047755Z",
     "iopub.status.busy": "2023-03-08T11:11:56.047434Z",
     "iopub.status.idle": "2023-03-08T11:11:56.052749Z",
     "shell.execute_reply": "2023-03-08T11:11:56.051734Z"
    },
    "papermill": {
     "duration": 0.035183,
     "end_time": "2023-03-08T11:11:56.055807",
     "exception": false,
     "start_time": "2023-03-08T11:11:56.020624",
     "status": "completed"
    },
    "tags": []
   },
   "outputs": [],
   "source": [
    "# Parameters that require knowing if it's binary or multiclass (LightGBM, metrics)\n",
    "if len(set(y)) == 2:\n",
    "    avg_par = 'binary'\n",
    "    obj_par = 'binary'\n",
    "elif len(set(y)) > 2:\n",
    "    avg_par = 'macro'\n",
    "    obj_par = 'multiclass'"
   ]
  },
  {
   "cell_type": "markdown",
   "id": "228f1b39",
   "metadata": {
    "papermill": {
     "duration": 0.011102,
     "end_time": "2023-03-08T11:11:56.089811",
     "exception": false,
     "start_time": "2023-03-08T11:11:56.078709",
     "status": "completed"
    },
    "tags": []
   },
   "source": [
    "## Classification"
   ]
  },
  {
   "cell_type": "code",
   "execution_count": 23,
   "id": "34bb73ff",
   "metadata": {
    "execution": {
     "iopub.execute_input": "2023-03-08T11:11:56.115344Z",
     "iopub.status.busy": "2023-03-08T11:11:56.114493Z",
     "iopub.status.idle": "2023-03-08T11:11:56.168588Z",
     "shell.execute_reply": "2023-03-08T11:11:56.167821Z"
    },
    "papermill": {
     "duration": 0.069344,
     "end_time": "2023-03-08T11:11:56.170537",
     "exception": false,
     "start_time": "2023-03-08T11:11:56.101193",
     "status": "completed"
    },
    "tags": []
   },
   "outputs": [],
   "source": [
    "from sklearn.tree import DecisionTreeClassifier\n",
    "import lightgbm as lgbm\n",
    "from sklearn.ensemble import RandomForestClassifier"
   ]
  },
  {
   "cell_type": "code",
   "execution_count": 24,
   "id": "02aaee18",
   "metadata": {
    "execution": {
     "iopub.execute_input": "2023-03-08T11:11:56.198149Z",
     "iopub.status.busy": "2023-03-08T11:11:56.197837Z",
     "iopub.status.idle": "2023-03-08T11:11:56.202015Z",
     "shell.execute_reply": "2023-03-08T11:11:56.201098Z"
    },
    "papermill": {
     "duration": 0.018233,
     "end_time": "2023-03-08T11:11:56.203632",
     "exception": false,
     "start_time": "2023-03-08T11:11:56.185399",
     "status": "completed"
    },
    "tags": []
   },
   "outputs": [],
   "source": [
    "metrics_data = {}"
   ]
  },
  {
   "cell_type": "markdown",
   "id": "b49309ed",
   "metadata": {
    "papermill": {
     "duration": 0.011452,
     "end_time": "2023-03-08T11:11:56.226974",
     "exception": false,
     "start_time": "2023-03-08T11:11:56.215522",
     "status": "completed"
    },
    "tags": []
   },
   "source": [
    "### Baseline: global features (No Time Series)"
   ]
  },
  {
   "cell_type": "code",
   "execution_count": 25,
   "id": "35eb9f66",
   "metadata": {
    "execution": {
     "iopub.execute_input": "2023-03-08T11:11:56.252003Z",
     "iopub.status.busy": "2023-03-08T11:11:56.251178Z",
     "iopub.status.idle": "2023-03-08T11:11:56.256248Z",
     "shell.execute_reply": "2023-03-08T11:11:56.255189Z"
    },
    "papermill": {
     "duration": 0.019434,
     "end_time": "2023-03-08T11:11:56.257896",
     "exception": false,
     "start_time": "2023-03-08T11:11:56.238462",
     "status": "completed"
    },
    "tags": []
   },
   "outputs": [],
   "source": [
    "metrics_data['Global'] = {}"
   ]
  },
  {
   "cell_type": "markdown",
   "id": "29cd5044",
   "metadata": {
    "papermill": {
     "duration": 0.011261,
     "end_time": "2023-03-08T11:11:56.280604",
     "exception": false,
     "start_time": "2023-03-08T11:11:56.269343",
     "status": "completed"
    },
    "tags": []
   },
   "source": [
    "**Decision Tree**"
   ]
  },
  {
   "cell_type": "code",
   "execution_count": 26,
   "id": "9ef4f037",
   "metadata": {
    "execution": {
     "iopub.execute_input": "2023-03-08T11:11:56.305430Z",
     "iopub.status.busy": "2023-03-08T11:11:56.304733Z",
     "iopub.status.idle": "2023-03-08T11:11:56.759832Z",
     "shell.execute_reply": "2023-03-08T11:11:56.758898Z"
    },
    "papermill": {
     "duration": 0.469867,
     "end_time": "2023-03-08T11:11:56.761947",
     "exception": false,
     "start_time": "2023-03-08T11:11:56.292080",
     "status": "completed"
    },
    "tags": []
   },
   "outputs": [
    {
     "data": {
      "text/html": [
       "<style>#sk-container-id-1 {color: black;background-color: white;}#sk-container-id-1 pre{padding: 0;}#sk-container-id-1 div.sk-toggleable {background-color: white;}#sk-container-id-1 label.sk-toggleable__label {cursor: pointer;display: block;width: 100%;margin-bottom: 0;padding: 0.3em;box-sizing: border-box;text-align: center;}#sk-container-id-1 label.sk-toggleable__label-arrow:before {content: \"▸\";float: left;margin-right: 0.25em;color: #696969;}#sk-container-id-1 label.sk-toggleable__label-arrow:hover:before {color: black;}#sk-container-id-1 div.sk-estimator:hover label.sk-toggleable__label-arrow:before {color: black;}#sk-container-id-1 div.sk-toggleable__content {max-height: 0;max-width: 0;overflow: hidden;text-align: left;background-color: #f0f8ff;}#sk-container-id-1 div.sk-toggleable__content pre {margin: 0.2em;color: black;border-radius: 0.25em;background-color: #f0f8ff;}#sk-container-id-1 input.sk-toggleable__control:checked~div.sk-toggleable__content {max-height: 200px;max-width: 100%;overflow: auto;}#sk-container-id-1 input.sk-toggleable__control:checked~label.sk-toggleable__label-arrow:before {content: \"▾\";}#sk-container-id-1 div.sk-estimator input.sk-toggleable__control:checked~label.sk-toggleable__label {background-color: #d4ebff;}#sk-container-id-1 div.sk-label input.sk-toggleable__control:checked~label.sk-toggleable__label {background-color: #d4ebff;}#sk-container-id-1 input.sk-hidden--visually {border: 0;clip: rect(1px 1px 1px 1px);clip: rect(1px, 1px, 1px, 1px);height: 1px;margin: -1px;overflow: hidden;padding: 0;position: absolute;width: 1px;}#sk-container-id-1 div.sk-estimator {font-family: monospace;background-color: #f0f8ff;border: 1px dotted black;border-radius: 0.25em;box-sizing: border-box;margin-bottom: 0.5em;}#sk-container-id-1 div.sk-estimator:hover {background-color: #d4ebff;}#sk-container-id-1 div.sk-parallel-item::after {content: \"\";width: 100%;border-bottom: 1px solid gray;flex-grow: 1;}#sk-container-id-1 div.sk-label:hover label.sk-toggleable__label {background-color: #d4ebff;}#sk-container-id-1 div.sk-serial::before {content: \"\";position: absolute;border-left: 1px solid gray;box-sizing: border-box;top: 0;bottom: 0;left: 50%;z-index: 0;}#sk-container-id-1 div.sk-serial {display: flex;flex-direction: column;align-items: center;background-color: white;padding-right: 0.2em;padding-left: 0.2em;position: relative;}#sk-container-id-1 div.sk-item {position: relative;z-index: 1;}#sk-container-id-1 div.sk-parallel {display: flex;align-items: stretch;justify-content: center;background-color: white;position: relative;}#sk-container-id-1 div.sk-item::before, #sk-container-id-1 div.sk-parallel-item::before {content: \"\";position: absolute;border-left: 1px solid gray;box-sizing: border-box;top: 0;bottom: 0;left: 50%;z-index: -1;}#sk-container-id-1 div.sk-parallel-item {display: flex;flex-direction: column;z-index: 1;position: relative;background-color: white;}#sk-container-id-1 div.sk-parallel-item:first-child::after {align-self: flex-end;width: 50%;}#sk-container-id-1 div.sk-parallel-item:last-child::after {align-self: flex-start;width: 50%;}#sk-container-id-1 div.sk-parallel-item:only-child::after {width: 0;}#sk-container-id-1 div.sk-dashed-wrapped {border: 1px dashed gray;margin: 0 0.4em 0.5em 0.4em;box-sizing: border-box;padding-bottom: 0.4em;background-color: white;}#sk-container-id-1 div.sk-label label {font-family: monospace;font-weight: bold;display: inline-block;line-height: 1.2em;}#sk-container-id-1 div.sk-label-container {text-align: center;}#sk-container-id-1 div.sk-container {/* jupyter's `normalize.less` sets `[hidden] { display: none; }` but bootstrap.min.css set `[hidden] { display: none !important; }` so we also need the `!important` here to be able to override the default hidden behavior on the sphinx rendered scikit-learn.org. See: https://github.com/scikit-learn/scikit-learn/issues/21755 */display: inline-block !important;position: relative;}#sk-container-id-1 div.sk-text-repr-fallback {display: none;}</style><div id=\"sk-container-id-1\" class=\"sk-top-container\"><div class=\"sk-text-repr-fallback\"><pre>DecisionTreeClassifier()</pre><b>In a Jupyter environment, please rerun this cell to show the HTML representation or trust the notebook. <br />On GitHub, the HTML representation is unable to render, please try loading this page with nbviewer.org.</b></div><div class=\"sk-container\" hidden><div class=\"sk-item\"><div class=\"sk-estimator sk-toggleable\"><input class=\"sk-toggleable__control sk-hidden--visually\" id=\"sk-estimator-id-1\" type=\"checkbox\" checked><label for=\"sk-estimator-id-1\" class=\"sk-toggleable__label sk-toggleable__label-arrow\">DecisionTreeClassifier</label><div class=\"sk-toggleable__content\"><pre>DecisionTreeClassifier()</pre></div></div></div></div></div>"
      ],
      "text/plain": [
       "DecisionTreeClassifier()"
      ]
     },
     "execution_count": 26,
     "metadata": {},
     "output_type": "execute_result"
    }
   ],
   "source": [
    "clf = DecisionTreeClassifier()\n",
    "clf.fit(X_train, y_train)"
   ]
  },
  {
   "cell_type": "code",
   "execution_count": 27,
   "id": "9c50acc4",
   "metadata": {
    "execution": {
     "iopub.execute_input": "2023-03-08T11:11:56.788883Z",
     "iopub.status.busy": "2023-03-08T11:11:56.788574Z",
     "iopub.status.idle": "2023-03-08T11:11:56.806671Z",
     "shell.execute_reply": "2023-03-08T11:11:56.805727Z"
    },
    "papermill": {
     "duration": 0.033284,
     "end_time": "2023-03-08T11:11:56.809317",
     "exception": false,
     "start_time": "2023-03-08T11:11:56.776033",
     "status": "completed"
    },
    "tags": []
   },
   "outputs": [
    {
     "name": "stdout",
     "output_type": "stream",
     "text": [
      "              precision    recall  f1-score   support\n",
      "\n",
      "        comp       0.68      0.54      0.60        50\n",
      "        misc       0.15      0.25      0.19         8\n",
      "         rec       0.67      0.74      0.71        47\n",
      "    religion       0.78      0.72      0.75        83\n",
      "         sci       0.52      0.60      0.55        77\n",
      "        talk       0.73      0.68      0.70        90\n",
      "\n",
      "    accuracy                           0.65       355\n",
      "   macro avg       0.59      0.59      0.58       355\n",
      "weighted avg       0.67      0.65      0.66       355\n",
      "\n"
     ]
    }
   ],
   "source": [
    "y_pred = clf.predict(X_test)\n",
    "print(classification_report(y_test, y_pred))"
   ]
  },
  {
   "cell_type": "code",
   "execution_count": 28,
   "id": "8866c3c3",
   "metadata": {
    "execution": {
     "iopub.execute_input": "2023-03-08T11:11:56.872058Z",
     "iopub.status.busy": "2023-03-08T11:11:56.871686Z",
     "iopub.status.idle": "2023-03-08T11:11:56.896680Z",
     "shell.execute_reply": "2023-03-08T11:11:56.895345Z"
    },
    "papermill": {
     "duration": 0.055953,
     "end_time": "2023-03-08T11:11:56.898744",
     "exception": false,
     "start_time": "2023-03-08T11:11:56.842791",
     "status": "completed"
    },
    "tags": []
   },
   "outputs": [],
   "source": [
    "acc = accuracy_score(y_test, y_pred)\n",
    "pre = precision_score(y_test, y_pred, average=avg_par)\n",
    "rec = recall_score(y_test, y_pred, average=avg_par)\n",
    "f1 = f1_score(y_test, y_pred, average=avg_par)\n",
    "\n",
    "metrics_data['Global']['DecisionTree'] = {'Accuracy': acc, 'Precision': pre, 'Recall': rec, 'F1': f1}"
   ]
  },
  {
   "cell_type": "markdown",
   "id": "28aa5a63",
   "metadata": {
    "papermill": {
     "duration": 0.011679,
     "end_time": "2023-03-08T11:11:56.924751",
     "exception": false,
     "start_time": "2023-03-08T11:11:56.913072",
     "status": "completed"
    },
    "tags": []
   },
   "source": [
    "**Random Forest**"
   ]
  },
  {
   "cell_type": "code",
   "execution_count": 29,
   "id": "0e5e2310",
   "metadata": {
    "execution": {
     "iopub.execute_input": "2023-03-08T11:11:56.951053Z",
     "iopub.status.busy": "2023-03-08T11:11:56.950582Z",
     "iopub.status.idle": "2023-03-08T11:11:58.419708Z",
     "shell.execute_reply": "2023-03-08T11:11:58.418798Z"
    },
    "papermill": {
     "duration": 1.485945,
     "end_time": "2023-03-08T11:11:58.422584",
     "exception": false,
     "start_time": "2023-03-08T11:11:56.936639",
     "status": "completed"
    },
    "tags": []
   },
   "outputs": [
    {
     "data": {
      "text/html": [
       "<style>#sk-container-id-2 {color: black;background-color: white;}#sk-container-id-2 pre{padding: 0;}#sk-container-id-2 div.sk-toggleable {background-color: white;}#sk-container-id-2 label.sk-toggleable__label {cursor: pointer;display: block;width: 100%;margin-bottom: 0;padding: 0.3em;box-sizing: border-box;text-align: center;}#sk-container-id-2 label.sk-toggleable__label-arrow:before {content: \"▸\";float: left;margin-right: 0.25em;color: #696969;}#sk-container-id-2 label.sk-toggleable__label-arrow:hover:before {color: black;}#sk-container-id-2 div.sk-estimator:hover label.sk-toggleable__label-arrow:before {color: black;}#sk-container-id-2 div.sk-toggleable__content {max-height: 0;max-width: 0;overflow: hidden;text-align: left;background-color: #f0f8ff;}#sk-container-id-2 div.sk-toggleable__content pre {margin: 0.2em;color: black;border-radius: 0.25em;background-color: #f0f8ff;}#sk-container-id-2 input.sk-toggleable__control:checked~div.sk-toggleable__content {max-height: 200px;max-width: 100%;overflow: auto;}#sk-container-id-2 input.sk-toggleable__control:checked~label.sk-toggleable__label-arrow:before {content: \"▾\";}#sk-container-id-2 div.sk-estimator input.sk-toggleable__control:checked~label.sk-toggleable__label {background-color: #d4ebff;}#sk-container-id-2 div.sk-label input.sk-toggleable__control:checked~label.sk-toggleable__label {background-color: #d4ebff;}#sk-container-id-2 input.sk-hidden--visually {border: 0;clip: rect(1px 1px 1px 1px);clip: rect(1px, 1px, 1px, 1px);height: 1px;margin: -1px;overflow: hidden;padding: 0;position: absolute;width: 1px;}#sk-container-id-2 div.sk-estimator {font-family: monospace;background-color: #f0f8ff;border: 1px dotted black;border-radius: 0.25em;box-sizing: border-box;margin-bottom: 0.5em;}#sk-container-id-2 div.sk-estimator:hover {background-color: #d4ebff;}#sk-container-id-2 div.sk-parallel-item::after {content: \"\";width: 100%;border-bottom: 1px solid gray;flex-grow: 1;}#sk-container-id-2 div.sk-label:hover label.sk-toggleable__label {background-color: #d4ebff;}#sk-container-id-2 div.sk-serial::before {content: \"\";position: absolute;border-left: 1px solid gray;box-sizing: border-box;top: 0;bottom: 0;left: 50%;z-index: 0;}#sk-container-id-2 div.sk-serial {display: flex;flex-direction: column;align-items: center;background-color: white;padding-right: 0.2em;padding-left: 0.2em;position: relative;}#sk-container-id-2 div.sk-item {position: relative;z-index: 1;}#sk-container-id-2 div.sk-parallel {display: flex;align-items: stretch;justify-content: center;background-color: white;position: relative;}#sk-container-id-2 div.sk-item::before, #sk-container-id-2 div.sk-parallel-item::before {content: \"\";position: absolute;border-left: 1px solid gray;box-sizing: border-box;top: 0;bottom: 0;left: 50%;z-index: -1;}#sk-container-id-2 div.sk-parallel-item {display: flex;flex-direction: column;z-index: 1;position: relative;background-color: white;}#sk-container-id-2 div.sk-parallel-item:first-child::after {align-self: flex-end;width: 50%;}#sk-container-id-2 div.sk-parallel-item:last-child::after {align-self: flex-start;width: 50%;}#sk-container-id-2 div.sk-parallel-item:only-child::after {width: 0;}#sk-container-id-2 div.sk-dashed-wrapped {border: 1px dashed gray;margin: 0 0.4em 0.5em 0.4em;box-sizing: border-box;padding-bottom: 0.4em;background-color: white;}#sk-container-id-2 div.sk-label label {font-family: monospace;font-weight: bold;display: inline-block;line-height: 1.2em;}#sk-container-id-2 div.sk-label-container {text-align: center;}#sk-container-id-2 div.sk-container {/* jupyter's `normalize.less` sets `[hidden] { display: none; }` but bootstrap.min.css set `[hidden] { display: none !important; }` so we also need the `!important` here to be able to override the default hidden behavior on the sphinx rendered scikit-learn.org. See: https://github.com/scikit-learn/scikit-learn/issues/21755 */display: inline-block !important;position: relative;}#sk-container-id-2 div.sk-text-repr-fallback {display: none;}</style><div id=\"sk-container-id-2\" class=\"sk-top-container\"><div class=\"sk-text-repr-fallback\"><pre>RandomForestClassifier(random_state=42)</pre><b>In a Jupyter environment, please rerun this cell to show the HTML representation or trust the notebook. <br />On GitHub, the HTML representation is unable to render, please try loading this page with nbviewer.org.</b></div><div class=\"sk-container\" hidden><div class=\"sk-item\"><div class=\"sk-estimator sk-toggleable\"><input class=\"sk-toggleable__control sk-hidden--visually\" id=\"sk-estimator-id-2\" type=\"checkbox\" checked><label for=\"sk-estimator-id-2\" class=\"sk-toggleable__label sk-toggleable__label-arrow\">RandomForestClassifier</label><div class=\"sk-toggleable__content\"><pre>RandomForestClassifier(random_state=42)</pre></div></div></div></div></div>"
      ],
      "text/plain": [
       "RandomForestClassifier(random_state=42)"
      ]
     },
     "execution_count": 29,
     "metadata": {},
     "output_type": "execute_result"
    }
   ],
   "source": [
    "clf = RandomForestClassifier(random_state=42)\n",
    "clf.fit(X_train, y_train)"
   ]
  },
  {
   "cell_type": "code",
   "execution_count": 30,
   "id": "4bd1304b",
   "metadata": {
    "execution": {
     "iopub.execute_input": "2023-03-08T11:11:58.492779Z",
     "iopub.status.busy": "2023-03-08T11:11:58.492474Z",
     "iopub.status.idle": "2023-03-08T11:11:58.523239Z",
     "shell.execute_reply": "2023-03-08T11:11:58.522257Z"
    },
    "papermill": {
     "duration": 0.069933,
     "end_time": "2023-03-08T11:11:58.526504",
     "exception": false,
     "start_time": "2023-03-08T11:11:58.456571",
     "status": "completed"
    },
    "tags": []
   },
   "outputs": [
    {
     "name": "stdout",
     "output_type": "stream",
     "text": [
      "              precision    recall  f1-score   support\n",
      "\n",
      "        comp       0.82      0.90      0.86        50\n",
      "        misc       1.00      0.25      0.40         8\n",
      "         rec       0.95      0.89      0.92        47\n",
      "    religion       0.94      0.90      0.92        83\n",
      "         sci       0.84      0.81      0.82        77\n",
      "        talk       0.83      0.92      0.87        90\n",
      "\n",
      "    accuracy                           0.87       355\n",
      "   macro avg       0.90      0.78      0.80       355\n",
      "weighted avg       0.88      0.87      0.87       355\n",
      "\n"
     ]
    }
   ],
   "source": [
    "y_pred = clf.predict(X_test)\n",
    "print(classification_report(y_test, y_pred))"
   ]
  },
  {
   "cell_type": "code",
   "execution_count": 31,
   "id": "43174ba2",
   "metadata": {
    "execution": {
     "iopub.execute_input": "2023-03-08T11:11:58.556919Z",
     "iopub.status.busy": "2023-03-08T11:11:58.556444Z",
     "iopub.status.idle": "2023-03-08T11:11:58.585461Z",
     "shell.execute_reply": "2023-03-08T11:11:58.584027Z"
    },
    "papermill": {
     "duration": 0.044506,
     "end_time": "2023-03-08T11:11:58.587705",
     "exception": false,
     "start_time": "2023-03-08T11:11:58.543199",
     "status": "completed"
    },
    "tags": []
   },
   "outputs": [],
   "source": [
    "acc = accuracy_score(y_test, y_pred)\n",
    "pre = precision_score(y_test, y_pred, average=avg_par)\n",
    "rec = recall_score(y_test, y_pred, average=avg_par)\n",
    "f1 = f1_score(y_test, y_pred, average=avg_par)\n",
    "\n",
    "metrics_data['Global']['RandomForest'] = {'Accuracy': acc, 'Precision': pre, 'Recall': rec, 'F1': f1}"
   ]
  },
  {
   "cell_type": "markdown",
   "id": "22c98ac5",
   "metadata": {
    "papermill": {
     "duration": 0.011783,
     "end_time": "2023-03-08T11:11:58.613792",
     "exception": false,
     "start_time": "2023-03-08T11:11:58.602009",
     "status": "completed"
    },
    "tags": []
   },
   "source": [
    "**LightGBM**"
   ]
  },
  {
   "cell_type": "code",
   "execution_count": 32,
   "id": "c93b818c",
   "metadata": {
    "execution": {
     "iopub.execute_input": "2023-03-08T11:11:58.640052Z",
     "iopub.status.busy": "2023-03-08T11:11:58.639507Z",
     "iopub.status.idle": "2023-03-08T11:12:06.290169Z",
     "shell.execute_reply": "2023-03-08T11:12:06.289560Z"
    },
    "papermill": {
     "duration": 7.666469,
     "end_time": "2023-03-08T11:12:06.292070",
     "exception": false,
     "start_time": "2023-03-08T11:11:58.625601",
     "status": "completed"
    },
    "tags": []
   },
   "outputs": [
    {
     "data": {
      "text/html": [
       "<style>#sk-container-id-3 {color: black;background-color: white;}#sk-container-id-3 pre{padding: 0;}#sk-container-id-3 div.sk-toggleable {background-color: white;}#sk-container-id-3 label.sk-toggleable__label {cursor: pointer;display: block;width: 100%;margin-bottom: 0;padding: 0.3em;box-sizing: border-box;text-align: center;}#sk-container-id-3 label.sk-toggleable__label-arrow:before {content: \"▸\";float: left;margin-right: 0.25em;color: #696969;}#sk-container-id-3 label.sk-toggleable__label-arrow:hover:before {color: black;}#sk-container-id-3 div.sk-estimator:hover label.sk-toggleable__label-arrow:before {color: black;}#sk-container-id-3 div.sk-toggleable__content {max-height: 0;max-width: 0;overflow: hidden;text-align: left;background-color: #f0f8ff;}#sk-container-id-3 div.sk-toggleable__content pre {margin: 0.2em;color: black;border-radius: 0.25em;background-color: #f0f8ff;}#sk-container-id-3 input.sk-toggleable__control:checked~div.sk-toggleable__content {max-height: 200px;max-width: 100%;overflow: auto;}#sk-container-id-3 input.sk-toggleable__control:checked~label.sk-toggleable__label-arrow:before {content: \"▾\";}#sk-container-id-3 div.sk-estimator input.sk-toggleable__control:checked~label.sk-toggleable__label {background-color: #d4ebff;}#sk-container-id-3 div.sk-label input.sk-toggleable__control:checked~label.sk-toggleable__label {background-color: #d4ebff;}#sk-container-id-3 input.sk-hidden--visually {border: 0;clip: rect(1px 1px 1px 1px);clip: rect(1px, 1px, 1px, 1px);height: 1px;margin: -1px;overflow: hidden;padding: 0;position: absolute;width: 1px;}#sk-container-id-3 div.sk-estimator {font-family: monospace;background-color: #f0f8ff;border: 1px dotted black;border-radius: 0.25em;box-sizing: border-box;margin-bottom: 0.5em;}#sk-container-id-3 div.sk-estimator:hover {background-color: #d4ebff;}#sk-container-id-3 div.sk-parallel-item::after {content: \"\";width: 100%;border-bottom: 1px solid gray;flex-grow: 1;}#sk-container-id-3 div.sk-label:hover label.sk-toggleable__label {background-color: #d4ebff;}#sk-container-id-3 div.sk-serial::before {content: \"\";position: absolute;border-left: 1px solid gray;box-sizing: border-box;top: 0;bottom: 0;left: 50%;z-index: 0;}#sk-container-id-3 div.sk-serial {display: flex;flex-direction: column;align-items: center;background-color: white;padding-right: 0.2em;padding-left: 0.2em;position: relative;}#sk-container-id-3 div.sk-item {position: relative;z-index: 1;}#sk-container-id-3 div.sk-parallel {display: flex;align-items: stretch;justify-content: center;background-color: white;position: relative;}#sk-container-id-3 div.sk-item::before, #sk-container-id-3 div.sk-parallel-item::before {content: \"\";position: absolute;border-left: 1px solid gray;box-sizing: border-box;top: 0;bottom: 0;left: 50%;z-index: -1;}#sk-container-id-3 div.sk-parallel-item {display: flex;flex-direction: column;z-index: 1;position: relative;background-color: white;}#sk-container-id-3 div.sk-parallel-item:first-child::after {align-self: flex-end;width: 50%;}#sk-container-id-3 div.sk-parallel-item:last-child::after {align-self: flex-start;width: 50%;}#sk-container-id-3 div.sk-parallel-item:only-child::after {width: 0;}#sk-container-id-3 div.sk-dashed-wrapped {border: 1px dashed gray;margin: 0 0.4em 0.5em 0.4em;box-sizing: border-box;padding-bottom: 0.4em;background-color: white;}#sk-container-id-3 div.sk-label label {font-family: monospace;font-weight: bold;display: inline-block;line-height: 1.2em;}#sk-container-id-3 div.sk-label-container {text-align: center;}#sk-container-id-3 div.sk-container {/* jupyter's `normalize.less` sets `[hidden] { display: none; }` but bootstrap.min.css set `[hidden] { display: none !important; }` so we also need the `!important` here to be able to override the default hidden behavior on the sphinx rendered scikit-learn.org. See: https://github.com/scikit-learn/scikit-learn/issues/21755 */display: inline-block !important;position: relative;}#sk-container-id-3 div.sk-text-repr-fallback {display: none;}</style><div id=\"sk-container-id-3\" class=\"sk-top-container\"><div class=\"sk-text-repr-fallback\"><pre>LGBMClassifier(objective=&#x27;multiclass&#x27;)</pre><b>In a Jupyter environment, please rerun this cell to show the HTML representation or trust the notebook. <br />On GitHub, the HTML representation is unable to render, please try loading this page with nbviewer.org.</b></div><div class=\"sk-container\" hidden><div class=\"sk-item\"><div class=\"sk-estimator sk-toggleable\"><input class=\"sk-toggleable__control sk-hidden--visually\" id=\"sk-estimator-id-3\" type=\"checkbox\" checked><label for=\"sk-estimator-id-3\" class=\"sk-toggleable__label sk-toggleable__label-arrow\">LGBMClassifier</label><div class=\"sk-toggleable__content\"><pre>LGBMClassifier(objective=&#x27;multiclass&#x27;)</pre></div></div></div></div></div>"
      ],
      "text/plain": [
       "LGBMClassifier(objective='multiclass')"
      ]
     },
     "execution_count": 32,
     "metadata": {},
     "output_type": "execute_result"
    }
   ],
   "source": [
    "clf = lgbm.LGBMClassifier(objective=obj_par) \n",
    "clf.fit(X_train, y_train)"
   ]
  },
  {
   "cell_type": "code",
   "execution_count": 33,
   "id": "600a663a",
   "metadata": {
    "execution": {
     "iopub.execute_input": "2023-03-08T11:12:06.320072Z",
     "iopub.status.busy": "2023-03-08T11:12:06.319255Z",
     "iopub.status.idle": "2023-03-08T11:12:06.354434Z",
     "shell.execute_reply": "2023-03-08T11:12:06.353291Z"
    },
    "papermill": {
     "duration": 0.051971,
     "end_time": "2023-03-08T11:12:06.357633",
     "exception": false,
     "start_time": "2023-03-08T11:12:06.305662",
     "status": "completed"
    },
    "tags": []
   },
   "outputs": [
    {
     "name": "stdout",
     "output_type": "stream",
     "text": [
      "              precision    recall  f1-score   support\n",
      "\n",
      "        comp       0.85      0.88      0.86        50\n",
      "        misc       0.50      0.38      0.43         8\n",
      "         rec       0.91      0.89      0.90        47\n",
      "    religion       0.94      0.93      0.93        83\n",
      "         sci       0.90      0.81      0.85        77\n",
      "        talk       0.83      0.92      0.87        90\n",
      "\n",
      "    accuracy                           0.88       355\n",
      "   macro avg       0.82      0.80      0.81       355\n",
      "weighted avg       0.88      0.88      0.87       355\n",
      "\n"
     ]
    }
   ],
   "source": [
    "y_pred = clf.predict(X_test)\n",
    "print(classification_report(y_test, y_pred))"
   ]
  },
  {
   "cell_type": "code",
   "execution_count": 34,
   "id": "508d831d",
   "metadata": {
    "execution": {
     "iopub.execute_input": "2023-03-08T11:12:06.413876Z",
     "iopub.status.busy": "2023-03-08T11:12:06.413170Z",
     "iopub.status.idle": "2023-03-08T11:12:06.435935Z",
     "shell.execute_reply": "2023-03-08T11:12:06.434943Z"
    },
    "papermill": {
     "duration": 0.044445,
     "end_time": "2023-03-08T11:12:06.437727",
     "exception": false,
     "start_time": "2023-03-08T11:12:06.393282",
     "status": "completed"
    },
    "tags": []
   },
   "outputs": [],
   "source": [
    "acc = accuracy_score(y_test, y_pred)\n",
    "pre = precision_score(y_test, y_pred, average=avg_par)\n",
    "rec = recall_score(y_test, y_pred, average=avg_par)\n",
    "f1 = f1_score(y_test, y_pred, average=avg_par)\n",
    "\n",
    "metrics_data['Global']['LightGBM'] = {'Accuracy': acc, 'Precision': pre, 'Recall': rec, 'F1': f1}"
   ]
  },
  {
   "cell_type": "markdown",
   "id": "14b86894",
   "metadata": {
    "papermill": {
     "duration": 0.011982,
     "end_time": "2023-03-08T11:12:06.464268",
     "exception": false,
     "start_time": "2023-03-08T11:12:06.452286",
     "status": "completed"
    },
    "tags": []
   },
   "source": [
    "### Time Series Classification"
   ]
  },
  {
   "cell_type": "markdown",
   "id": "84c55533",
   "metadata": {
    "papermill": {
     "duration": 0.012732,
     "end_time": "2023-03-08T11:12:06.488921",
     "exception": false,
     "start_time": "2023-03-08T11:12:06.476189",
     "status": "completed"
    },
    "tags": []
   },
   "source": [
    "#### Learning Shapelets"
   ]
  },
  {
   "cell_type": "code",
   "execution_count": 35,
   "id": "488d8eb7",
   "metadata": {
    "execution": {
     "iopub.execute_input": "2023-03-08T11:12:06.517213Z",
     "iopub.status.busy": "2023-03-08T11:12:06.516802Z",
     "iopub.status.idle": "2023-03-08T11:12:09.221796Z",
     "shell.execute_reply": "2023-03-08T11:12:09.220877Z"
    },
    "papermill": {
     "duration": 2.722648,
     "end_time": "2023-03-08T11:12:09.224708",
     "exception": false,
     "start_time": "2023-03-08T11:12:06.502060",
     "status": "completed"
    },
    "tags": []
   },
   "outputs": [
    {
     "name": "stderr",
     "output_type": "stream",
     "text": [
      "2023-03-08 12:12:06.528036: I tensorflow/core/platform/cpu_feature_guard.cc:193] This TensorFlow binary is optimized with oneAPI Deep Neural Network Library (oneDNN) to use the following CPU instructions in performance-critical operations:  AVX2 FMA\n",
      "To enable them in other operations, rebuild TensorFlow with the appropriate compiler flags.\n",
      "2023-03-08 12:12:06.879985: W tensorflow/compiler/xla/stream_executor/platform/default/dso_loader.cc:64] Could not load dynamic library 'libcudart.so.11.0'; dlerror: libcudart.so.11.0: cannot open shared object file: No such file or directory\n",
      "2023-03-08 12:12:06.880010: I tensorflow/compiler/xla/stream_executor/cuda/cudart_stub.cc:29] Ignore above cudart dlerror if you do not have a GPU set up on your machine.\n"
     ]
    },
    {
     "name": "stderr",
     "output_type": "stream",
     "text": [
      "2023-03-08 12:12:07.899059: W tensorflow/compiler/xla/stream_executor/platform/default/dso_loader.cc:64] Could not load dynamic library 'libnvinfer.so.7'; dlerror: libnvinfer.so.7: cannot open shared object file: No such file or directory\n",
      "2023-03-08 12:12:07.899158: W tensorflow/compiler/xla/stream_executor/platform/default/dso_loader.cc:64] Could not load dynamic library 'libnvinfer_plugin.so.7'; dlerror: libnvinfer_plugin.so.7: cannot open shared object file: No such file or directory\n",
      "2023-03-08 12:12:07.899173: W tensorflow/compiler/tf2tensorrt/utils/py_utils.cc:38] TF-TRT Warning: Cannot dlopen some TensorRT libraries. If you would like to use Nvidia GPU with TensorRT, please make sure the missing libraries mentioned above are installed properly.\n"
     ]
    }
   ],
   "source": [
    "from tslearn.shapelets import LearningShapelets, grabocka_params_to_shapelet_size_dict"
   ]
  },
  {
   "cell_type": "code",
   "execution_count": 36,
   "id": "eb677959",
   "metadata": {
    "execution": {
     "iopub.execute_input": "2023-03-08T11:12:09.293264Z",
     "iopub.status.busy": "2023-03-08T11:12:09.292360Z",
     "iopub.status.idle": "2023-03-08T11:12:09.299157Z",
     "shell.execute_reply": "2023-03-08T11:12:09.298071Z"
    },
    "papermill": {
     "duration": 0.041633,
     "end_time": "2023-03-08T11:12:09.301298",
     "exception": false,
     "start_time": "2023-03-08T11:12:09.259665",
     "status": "completed"
    },
    "tags": []
   },
   "outputs": [],
   "source": [
    "n_ts, ts_sz, _ = ts_train.shape\n",
    "n_classes = len(set(y_train))"
   ]
  },
  {
   "cell_type": "code",
   "execution_count": 37,
   "id": "776ed3dd",
   "metadata": {
    "execution": {
     "iopub.execute_input": "2023-03-08T11:12:09.330317Z",
     "iopub.status.busy": "2023-03-08T11:12:09.329885Z",
     "iopub.status.idle": "2023-03-08T11:12:09.338689Z",
     "shell.execute_reply": "2023-03-08T11:12:09.337208Z"
    },
    "papermill": {
     "duration": 0.024016,
     "end_time": "2023-03-08T11:12:09.340475",
     "exception": false,
     "start_time": "2023-03-08T11:12:09.316459",
     "status": "completed"
    },
    "tags": []
   },
   "outputs": [
    {
     "name": "stdout",
     "output_type": "stream",
     "text": [
      "n_ts 1420\n",
      "ts_sz 100\n",
      "n_classes 6\n",
      "shapelet_sizes {10: 5}\n"
     ]
    }
   ],
   "source": [
    "# Set the number of shapelets per size as done in the original paper\n",
    "g_shapelet_sizes = grabocka_params_to_shapelet_size_dict(n_ts=n_ts,\n",
    "                                                         ts_sz=ts_sz,\n",
    "                                                         n_classes=n_classes,\n",
    "                                                         l=0.1,\n",
    "                                                         r=1)\n",
    "\n",
    "print('n_ts', n_ts)\n",
    "print('ts_sz', ts_sz)\n",
    "print('n_classes', n_classes)\n",
    "print('shapelet_sizes', g_shapelet_sizes)"
   ]
  },
  {
   "cell_type": "code",
   "execution_count": 38,
   "id": "90ed707e",
   "metadata": {
    "execution": {
     "iopub.execute_input": "2023-03-08T11:12:09.366822Z",
     "iopub.status.busy": "2023-03-08T11:12:09.366422Z",
     "iopub.status.idle": "2023-03-08T11:12:09.374252Z",
     "shell.execute_reply": "2023-03-08T11:12:09.373362Z"
    },
    "papermill": {
     "duration": 0.023063,
     "end_time": "2023-03-08T11:12:09.375904",
     "exception": false,
     "start_time": "2023-03-08T11:12:09.352841",
     "status": "completed"
    },
    "tags": []
   },
   "outputs": [
    {
     "data": {
      "text/plain": [
       "{10: 5, 20: 5, 5: 5}"
      ]
     },
     "execution_count": 38,
     "metadata": {},
     "output_type": "execute_result"
    }
   ],
   "source": [
    "shapelet_sizes = {}\n",
    "for key in g_shapelet_sizes:\n",
    "    shapelet_sizes[key] = g_shapelet_sizes[key]\n",
    "    shapelet_sizes[key*2] = g_shapelet_sizes[key]\n",
    "    shapelet_sizes[key//2] = g_shapelet_sizes[key]\n",
    "shapelet_sizes"
   ]
  },
  {
   "cell_type": "code",
   "execution_count": 39,
   "id": "3507fb9c",
   "metadata": {
    "execution": {
     "iopub.execute_input": "2023-03-08T11:12:09.405378Z",
     "iopub.status.busy": "2023-03-08T11:12:09.404883Z",
     "iopub.status.idle": "2023-03-08T11:12:09.412578Z",
     "shell.execute_reply": "2023-03-08T11:12:09.411404Z"
    },
    "papermill": {
     "duration": 0.026086,
     "end_time": "2023-03-08T11:12:09.414546",
     "exception": false,
     "start_time": "2023-03-08T11:12:09.388460",
     "status": "completed"
    },
    "tags": []
   },
   "outputs": [
    {
     "name": "stderr",
     "output_type": "stream",
     "text": [
      "/home/mattiapggioli/lyrics2ts/.venv/lib/python3.9/site-packages/tslearn/shapelets/shapelets.py:354: FutureWarning: The default value for 'scale' is set to False in version 0.4 to ensure backward compatibility, but is likely to change in a future version.\n",
      "  warnings.warn(\"The default value for 'scale' is set to False \"\n"
     ]
    }
   ],
   "source": [
    "model = LearningShapelets(n_shapelets_per_size=shapelet_sizes,\n",
    "                          optimizer=\"adam\", \n",
    "                          weight_regularizer=.01, \n",
    "                          max_iter=max_iter, verbose=0, random_state=42)"
   ]
  },
  {
   "cell_type": "code",
   "execution_count": 40,
   "id": "73b1fe2e",
   "metadata": {
    "execution": {
     "iopub.execute_input": "2023-03-08T11:12:09.444718Z",
     "iopub.status.busy": "2023-03-08T11:12:09.444328Z",
     "iopub.status.idle": "2023-03-08T11:14:18.826627Z",
     "shell.execute_reply": "2023-03-08T11:14:18.825969Z"
    },
    "papermill": {
     "duration": 129.440448,
     "end_time": "2023-03-08T11:14:18.869785",
     "exception": false,
     "start_time": "2023-03-08T11:12:09.429337",
     "status": "completed"
    },
    "tags": []
   },
   "outputs": [
    {
     "name": "stderr",
     "output_type": "stream",
     "text": [
      "2023-03-08 12:12:09.546682: W tensorflow/compiler/xla/stream_executor/platform/default/dso_loader.cc:64] Could not load dynamic library 'libcuda.so.1'; dlerror: libcuda.so.1: cannot open shared object file: No such file or directory\n",
      "2023-03-08 12:12:09.546707: W tensorflow/compiler/xla/stream_executor/cuda/cuda_driver.cc:265] failed call to cuInit: UNKNOWN ERROR (303)\n",
      "2023-03-08 12:12:09.546727: I tensorflow/compiler/xla/stream_executor/cuda/cuda_diagnostics.cc:156] kernel driver does not appear to be running on this host (mattiapggioli-ThinkPad-E595): /proc/driver/nvidia/version does not exist\n",
      "2023-03-08 12:12:09.547182: I tensorflow/core/platform/cpu_feature_guard.cc:193] This TensorFlow binary is optimized with oneAPI Deep Neural Network Library (oneDNN) to use the following CPU instructions in performance-critical operations:  AVX2 FMA\n",
      "To enable them in other operations, rebuild TensorFlow with the appropriate compiler flags.\n"
     ]
    },
    {
     "name": "stdout",
     "output_type": "stream",
     "text": [
      "CPU times: user 9min 43s, sys: 30.6 s, total: 10min 13s\n",
      "Wall time: 2min 9s\n"
     ]
    },
    {
     "data": {
      "text/html": [
       "<style>#sk-container-id-4 {color: black;background-color: white;}#sk-container-id-4 pre{padding: 0;}#sk-container-id-4 div.sk-toggleable {background-color: white;}#sk-container-id-4 label.sk-toggleable__label {cursor: pointer;display: block;width: 100%;margin-bottom: 0;padding: 0.3em;box-sizing: border-box;text-align: center;}#sk-container-id-4 label.sk-toggleable__label-arrow:before {content: \"▸\";float: left;margin-right: 0.25em;color: #696969;}#sk-container-id-4 label.sk-toggleable__label-arrow:hover:before {color: black;}#sk-container-id-4 div.sk-estimator:hover label.sk-toggleable__label-arrow:before {color: black;}#sk-container-id-4 div.sk-toggleable__content {max-height: 0;max-width: 0;overflow: hidden;text-align: left;background-color: #f0f8ff;}#sk-container-id-4 div.sk-toggleable__content pre {margin: 0.2em;color: black;border-radius: 0.25em;background-color: #f0f8ff;}#sk-container-id-4 input.sk-toggleable__control:checked~div.sk-toggleable__content {max-height: 200px;max-width: 100%;overflow: auto;}#sk-container-id-4 input.sk-toggleable__control:checked~label.sk-toggleable__label-arrow:before {content: \"▾\";}#sk-container-id-4 div.sk-estimator input.sk-toggleable__control:checked~label.sk-toggleable__label {background-color: #d4ebff;}#sk-container-id-4 div.sk-label input.sk-toggleable__control:checked~label.sk-toggleable__label {background-color: #d4ebff;}#sk-container-id-4 input.sk-hidden--visually {border: 0;clip: rect(1px 1px 1px 1px);clip: rect(1px, 1px, 1px, 1px);height: 1px;margin: -1px;overflow: hidden;padding: 0;position: absolute;width: 1px;}#sk-container-id-4 div.sk-estimator {font-family: monospace;background-color: #f0f8ff;border: 1px dotted black;border-radius: 0.25em;box-sizing: border-box;margin-bottom: 0.5em;}#sk-container-id-4 div.sk-estimator:hover {background-color: #d4ebff;}#sk-container-id-4 div.sk-parallel-item::after {content: \"\";width: 100%;border-bottom: 1px solid gray;flex-grow: 1;}#sk-container-id-4 div.sk-label:hover label.sk-toggleable__label {background-color: #d4ebff;}#sk-container-id-4 div.sk-serial::before {content: \"\";position: absolute;border-left: 1px solid gray;box-sizing: border-box;top: 0;bottom: 0;left: 50%;z-index: 0;}#sk-container-id-4 div.sk-serial {display: flex;flex-direction: column;align-items: center;background-color: white;padding-right: 0.2em;padding-left: 0.2em;position: relative;}#sk-container-id-4 div.sk-item {position: relative;z-index: 1;}#sk-container-id-4 div.sk-parallel {display: flex;align-items: stretch;justify-content: center;background-color: white;position: relative;}#sk-container-id-4 div.sk-item::before, #sk-container-id-4 div.sk-parallel-item::before {content: \"\";position: absolute;border-left: 1px solid gray;box-sizing: border-box;top: 0;bottom: 0;left: 50%;z-index: -1;}#sk-container-id-4 div.sk-parallel-item {display: flex;flex-direction: column;z-index: 1;position: relative;background-color: white;}#sk-container-id-4 div.sk-parallel-item:first-child::after {align-self: flex-end;width: 50%;}#sk-container-id-4 div.sk-parallel-item:last-child::after {align-self: flex-start;width: 50%;}#sk-container-id-4 div.sk-parallel-item:only-child::after {width: 0;}#sk-container-id-4 div.sk-dashed-wrapped {border: 1px dashed gray;margin: 0 0.4em 0.5em 0.4em;box-sizing: border-box;padding-bottom: 0.4em;background-color: white;}#sk-container-id-4 div.sk-label label {font-family: monospace;font-weight: bold;display: inline-block;line-height: 1.2em;}#sk-container-id-4 div.sk-label-container {text-align: center;}#sk-container-id-4 div.sk-container {/* jupyter's `normalize.less` sets `[hidden] { display: none; }` but bootstrap.min.css set `[hidden] { display: none !important; }` so we also need the `!important` here to be able to override the default hidden behavior on the sphinx rendered scikit-learn.org. See: https://github.com/scikit-learn/scikit-learn/issues/21755 */display: inline-block !important;position: relative;}#sk-container-id-4 div.sk-text-repr-fallback {display: none;}</style><div id=\"sk-container-id-4\" class=\"sk-top-container\"><div class=\"sk-text-repr-fallback\"><pre>LearningShapelets(max_iter=2000, n_shapelets_per_size={5: 5, 10: 5, 20: 5},\n",
       "                  optimizer=&#x27;adam&#x27;, random_state=42, weight_regularizer=0.01)</pre><b>In a Jupyter environment, please rerun this cell to show the HTML representation or trust the notebook. <br />On GitHub, the HTML representation is unable to render, please try loading this page with nbviewer.org.</b></div><div class=\"sk-container\" hidden><div class=\"sk-item\"><div class=\"sk-estimator sk-toggleable\"><input class=\"sk-toggleable__control sk-hidden--visually\" id=\"sk-estimator-id-4\" type=\"checkbox\" checked><label for=\"sk-estimator-id-4\" class=\"sk-toggleable__label sk-toggleable__label-arrow\">LearningShapelets</label><div class=\"sk-toggleable__content\"><pre>LearningShapelets(max_iter=2000, n_shapelets_per_size={5: 5, 10: 5, 20: 5},\n",
       "                  optimizer=&#x27;adam&#x27;, random_state=42, weight_regularizer=0.01)</pre></div></div></div></div></div>"
      ],
      "text/plain": [
       "LearningShapelets(max_iter=2000, n_shapelets_per_size={5: 5, 10: 5, 20: 5},\n",
       "                  optimizer='adam', random_state=42, weight_regularizer=0.01)"
      ]
     },
     "execution_count": 40,
     "metadata": {},
     "output_type": "execute_result"
    }
   ],
   "source": [
    "%%time\n",
    "model.fit(ts_train, y_train)"
   ]
  },
  {
   "cell_type": "code",
   "execution_count": 41,
   "id": "51706baa",
   "metadata": {
    "execution": {
     "iopub.execute_input": "2023-03-08T11:14:18.949125Z",
     "iopub.status.busy": "2023-03-08T11:14:18.948829Z",
     "iopub.status.idle": "2023-03-08T11:14:18.967510Z",
     "shell.execute_reply": "2023-03-08T11:14:18.966646Z"
    },
    "papermill": {
     "duration": 0.058861,
     "end_time": "2023-03-08T11:14:18.969334",
     "exception": false,
     "start_time": "2023-03-08T11:14:18.910473",
     "status": "completed"
    },
    "tags": []
   },
   "outputs": [],
   "source": [
    "model.to_pickle(f'{data_path}/shapelets.pkl')"
   ]
  },
  {
   "cell_type": "markdown",
   "id": "309f70dc",
   "metadata": {
    "papermill": {
     "duration": 0.014572,
     "end_time": "2023-03-08T11:14:19.000901",
     "exception": false,
     "start_time": "2023-03-08T11:14:18.986329",
     "status": "completed"
    },
    "tags": []
   },
   "source": [
    "#### Shapelet-Based Classification"
   ]
  },
  {
   "cell_type": "code",
   "execution_count": 42,
   "id": "60125dff",
   "metadata": {
    "execution": {
     "iopub.execute_input": "2023-03-08T11:14:19.029933Z",
     "iopub.status.busy": "2023-03-08T11:14:19.029632Z",
     "iopub.status.idle": "2023-03-08T11:14:19.033884Z",
     "shell.execute_reply": "2023-03-08T11:14:19.033001Z"
    },
    "papermill": {
     "duration": 0.020552,
     "end_time": "2023-03-08T11:14:19.035474",
     "exception": false,
     "start_time": "2023-03-08T11:14:19.014922",
     "status": "completed"
    },
    "tags": []
   },
   "outputs": [],
   "source": [
    "metrics_data['Shapelets'] = {}"
   ]
  },
  {
   "cell_type": "code",
   "execution_count": 43,
   "id": "efb8984d",
   "metadata": {
    "execution": {
     "iopub.execute_input": "2023-03-08T11:14:19.063970Z",
     "iopub.status.busy": "2023-03-08T11:14:19.063669Z",
     "iopub.status.idle": "2023-03-08T11:14:19.458135Z",
     "shell.execute_reply": "2023-03-08T11:14:19.457424Z"
    },
    "papermill": {
     "duration": 0.411704,
     "end_time": "2023-03-08T11:14:19.460607",
     "exception": false,
     "start_time": "2023-03-08T11:14:19.048903",
     "status": "completed"
    },
    "tags": []
   },
   "outputs": [],
   "source": [
    "X_train = model.transform(ts_train)\n",
    "X_test = model.transform(ts_test)"
   ]
  },
  {
   "cell_type": "code",
   "execution_count": 44,
   "id": "2e6c0f22",
   "metadata": {
    "execution": {
     "iopub.execute_input": "2023-03-08T11:14:19.490520Z",
     "iopub.status.busy": "2023-03-08T11:14:19.490197Z",
     "iopub.status.idle": "2023-03-08T11:14:19.526416Z",
     "shell.execute_reply": "2023-03-08T11:14:19.525141Z"
    },
    "papermill": {
     "duration": 0.052868,
     "end_time": "2023-03-08T11:14:19.528926",
     "exception": false,
     "start_time": "2023-03-08T11:14:19.476058",
     "status": "completed"
    },
    "tags": []
   },
   "outputs": [
    {
     "data": {
      "text/html": [
       "<div>\n",
       "<style scoped>\n",
       "    .dataframe tbody tr th:only-of-type {\n",
       "        vertical-align: middle;\n",
       "    }\n",
       "\n",
       "    .dataframe tbody tr th {\n",
       "        vertical-align: top;\n",
       "    }\n",
       "\n",
       "    .dataframe thead th {\n",
       "        text-align: right;\n",
       "    }\n",
       "</style>\n",
       "<table border=\"1\" class=\"dataframe\">\n",
       "  <thead>\n",
       "    <tr style=\"text-align: right;\">\n",
       "      <th></th>\n",
       "      <th>0</th>\n",
       "      <th>1</th>\n",
       "      <th>2</th>\n",
       "      <th>3</th>\n",
       "      <th>4</th>\n",
       "      <th>5</th>\n",
       "      <th>6</th>\n",
       "      <th>7</th>\n",
       "      <th>8</th>\n",
       "      <th>9</th>\n",
       "      <th>10</th>\n",
       "      <th>11</th>\n",
       "      <th>12</th>\n",
       "      <th>13</th>\n",
       "      <th>14</th>\n",
       "    </tr>\n",
       "  </thead>\n",
       "  <tbody>\n",
       "    <tr>\n",
       "      <th>0</th>\n",
       "      <td>5.026543</td>\n",
       "      <td>0.087676</td>\n",
       "      <td>5.191195</td>\n",
       "      <td>2.854058</td>\n",
       "      <td>2.178872</td>\n",
       "      <td>1.611033</td>\n",
       "      <td>0.264990</td>\n",
       "      <td>0.972228</td>\n",
       "      <td>1.194421</td>\n",
       "      <td>2.819532</td>\n",
       "      <td>0.626475</td>\n",
       "      <td>1.615675</td>\n",
       "      <td>6.942060</td>\n",
       "      <td>1.356223</td>\n",
       "      <td>0.626834</td>\n",
       "    </tr>\n",
       "    <tr>\n",
       "      <th>1</th>\n",
       "      <td>4.731201</td>\n",
       "      <td>0.160048</td>\n",
       "      <td>3.677343</td>\n",
       "      <td>2.517307</td>\n",
       "      <td>1.728605</td>\n",
       "      <td>1.149547</td>\n",
       "      <td>1.141642</td>\n",
       "      <td>0.404306</td>\n",
       "      <td>1.823735</td>\n",
       "      <td>2.064584</td>\n",
       "      <td>0.143020</td>\n",
       "      <td>2.890171</td>\n",
       "      <td>4.914360</td>\n",
       "      <td>2.613819</td>\n",
       "      <td>0.147406</td>\n",
       "    </tr>\n",
       "    <tr>\n",
       "      <th>2</th>\n",
       "      <td>4.179322</td>\n",
       "      <td>0.197486</td>\n",
       "      <td>4.932279</td>\n",
       "      <td>2.613259</td>\n",
       "      <td>1.130282</td>\n",
       "      <td>1.327111</td>\n",
       "      <td>0.328731</td>\n",
       "      <td>0.583190</td>\n",
       "      <td>1.359877</td>\n",
       "      <td>2.675617</td>\n",
       "      <td>0.277970</td>\n",
       "      <td>1.219624</td>\n",
       "      <td>4.925999</td>\n",
       "      <td>1.260065</td>\n",
       "      <td>0.280438</td>\n",
       "    </tr>\n",
       "    <tr>\n",
       "      <th>3</th>\n",
       "      <td>4.034218</td>\n",
       "      <td>0.026900</td>\n",
       "      <td>3.674574</td>\n",
       "      <td>2.222675</td>\n",
       "      <td>1.382288</td>\n",
       "      <td>0.976608</td>\n",
       "      <td>0.251711</td>\n",
       "      <td>0.688305</td>\n",
       "      <td>1.291086</td>\n",
       "      <td>1.355362</td>\n",
       "      <td>0.807674</td>\n",
       "      <td>1.439548</td>\n",
       "      <td>4.656219</td>\n",
       "      <td>1.678374</td>\n",
       "      <td>0.799194</td>\n",
       "    </tr>\n",
       "    <tr>\n",
       "      <th>4</th>\n",
       "      <td>2.145251</td>\n",
       "      <td>0.167727</td>\n",
       "      <td>3.717519</td>\n",
       "      <td>2.675991</td>\n",
       "      <td>2.926399</td>\n",
       "      <td>2.791556</td>\n",
       "      <td>0.113727</td>\n",
       "      <td>1.811163</td>\n",
       "      <td>0.933513</td>\n",
       "      <td>3.712471</td>\n",
       "      <td>1.376280</td>\n",
       "      <td>0.794241</td>\n",
       "      <td>8.755847</td>\n",
       "      <td>0.628699</td>\n",
       "      <td>1.479159</td>\n",
       "    </tr>\n",
       "    <tr>\n",
       "      <th>...</th>\n",
       "      <td>...</td>\n",
       "      <td>...</td>\n",
       "      <td>...</td>\n",
       "      <td>...</td>\n",
       "      <td>...</td>\n",
       "      <td>...</td>\n",
       "      <td>...</td>\n",
       "      <td>...</td>\n",
       "      <td>...</td>\n",
       "      <td>...</td>\n",
       "      <td>...</td>\n",
       "      <td>...</td>\n",
       "      <td>...</td>\n",
       "      <td>...</td>\n",
       "      <td>...</td>\n",
       "    </tr>\n",
       "    <tr>\n",
       "      <th>350</th>\n",
       "      <td>4.672368</td>\n",
       "      <td>0.136230</td>\n",
       "      <td>4.531002</td>\n",
       "      <td>1.869846</td>\n",
       "      <td>2.253766</td>\n",
       "      <td>1.412271</td>\n",
       "      <td>0.527362</td>\n",
       "      <td>0.746792</td>\n",
       "      <td>1.299480</td>\n",
       "      <td>2.282927</td>\n",
       "      <td>0.477788</td>\n",
       "      <td>1.933459</td>\n",
       "      <td>6.508034</td>\n",
       "      <td>1.690523</td>\n",
       "      <td>0.472442</td>\n",
       "    </tr>\n",
       "    <tr>\n",
       "      <th>351</th>\n",
       "      <td>3.585146</td>\n",
       "      <td>0.185993</td>\n",
       "      <td>1.658987</td>\n",
       "      <td>2.184040</td>\n",
       "      <td>2.097592</td>\n",
       "      <td>1.493391</td>\n",
       "      <td>0.302089</td>\n",
       "      <td>0.727349</td>\n",
       "      <td>1.064547</td>\n",
       "      <td>2.435272</td>\n",
       "      <td>0.354394</td>\n",
       "      <td>2.125704</td>\n",
       "      <td>6.122301</td>\n",
       "      <td>1.878601</td>\n",
       "      <td>0.352485</td>\n",
       "    </tr>\n",
       "    <tr>\n",
       "      <th>352</th>\n",
       "      <td>2.116486</td>\n",
       "      <td>0.131058</td>\n",
       "      <td>2.567962</td>\n",
       "      <td>2.227375</td>\n",
       "      <td>2.630477</td>\n",
       "      <td>1.885394</td>\n",
       "      <td>0.182784</td>\n",
       "      <td>1.227090</td>\n",
       "      <td>0.955413</td>\n",
       "      <td>2.807608</td>\n",
       "      <td>1.269378</td>\n",
       "      <td>0.921616</td>\n",
       "      <td>7.048204</td>\n",
       "      <td>0.749519</td>\n",
       "      <td>1.237677</td>\n",
       "    </tr>\n",
       "    <tr>\n",
       "      <th>353</th>\n",
       "      <td>3.116255</td>\n",
       "      <td>0.066087</td>\n",
       "      <td>3.701839</td>\n",
       "      <td>2.602918</td>\n",
       "      <td>3.168098</td>\n",
       "      <td>2.201842</td>\n",
       "      <td>0.089997</td>\n",
       "      <td>1.453389</td>\n",
       "      <td>0.813850</td>\n",
       "      <td>3.220501</td>\n",
       "      <td>1.081941</td>\n",
       "      <td>0.852658</td>\n",
       "      <td>7.911679</td>\n",
       "      <td>0.574624</td>\n",
       "      <td>0.975967</td>\n",
       "    </tr>\n",
       "    <tr>\n",
       "      <th>354</th>\n",
       "      <td>3.933147</td>\n",
       "      <td>0.048208</td>\n",
       "      <td>3.624260</td>\n",
       "      <td>2.068988</td>\n",
       "      <td>1.780143</td>\n",
       "      <td>1.904917</td>\n",
       "      <td>0.195380</td>\n",
       "      <td>1.019563</td>\n",
       "      <td>0.554697</td>\n",
       "      <td>2.728697</td>\n",
       "      <td>0.933473</td>\n",
       "      <td>1.385558</td>\n",
       "      <td>6.781105</td>\n",
       "      <td>1.285240</td>\n",
       "      <td>0.974163</td>\n",
       "    </tr>\n",
       "  </tbody>\n",
       "</table>\n",
       "<p>355 rows × 15 columns</p>\n",
       "</div>"
      ],
      "text/plain": [
       "           0         1         2         3         4         5         6   \\\n",
       "0    5.026543  0.087676  5.191195  2.854058  2.178872  1.611033  0.264990   \n",
       "1    4.731201  0.160048  3.677343  2.517307  1.728605  1.149547  1.141642   \n",
       "2    4.179322  0.197486  4.932279  2.613259  1.130282  1.327111  0.328731   \n",
       "3    4.034218  0.026900  3.674574  2.222675  1.382288  0.976608  0.251711   \n",
       "4    2.145251  0.167727  3.717519  2.675991  2.926399  2.791556  0.113727   \n",
       "..        ...       ...       ...       ...       ...       ...       ...   \n",
       "350  4.672368  0.136230  4.531002  1.869846  2.253766  1.412271  0.527362   \n",
       "351  3.585146  0.185993  1.658987  2.184040  2.097592  1.493391  0.302089   \n",
       "352  2.116486  0.131058  2.567962  2.227375  2.630477  1.885394  0.182784   \n",
       "353  3.116255  0.066087  3.701839  2.602918  3.168098  2.201842  0.089997   \n",
       "354  3.933147  0.048208  3.624260  2.068988  1.780143  1.904917  0.195380   \n",
       "\n",
       "           7         8         9         10        11        12        13  \\\n",
       "0    0.972228  1.194421  2.819532  0.626475  1.615675  6.942060  1.356223   \n",
       "1    0.404306  1.823735  2.064584  0.143020  2.890171  4.914360  2.613819   \n",
       "2    0.583190  1.359877  2.675617  0.277970  1.219624  4.925999  1.260065   \n",
       "3    0.688305  1.291086  1.355362  0.807674  1.439548  4.656219  1.678374   \n",
       "4    1.811163  0.933513  3.712471  1.376280  0.794241  8.755847  0.628699   \n",
       "..        ...       ...       ...       ...       ...       ...       ...   \n",
       "350  0.746792  1.299480  2.282927  0.477788  1.933459  6.508034  1.690523   \n",
       "351  0.727349  1.064547  2.435272  0.354394  2.125704  6.122301  1.878601   \n",
       "352  1.227090  0.955413  2.807608  1.269378  0.921616  7.048204  0.749519   \n",
       "353  1.453389  0.813850  3.220501  1.081941  0.852658  7.911679  0.574624   \n",
       "354  1.019563  0.554697  2.728697  0.933473  1.385558  6.781105  1.285240   \n",
       "\n",
       "           14  \n",
       "0    0.626834  \n",
       "1    0.147406  \n",
       "2    0.280438  \n",
       "3    0.799194  \n",
       "4    1.479159  \n",
       "..        ...  \n",
       "350  0.472442  \n",
       "351  0.352485  \n",
       "352  1.237677  \n",
       "353  0.975967  \n",
       "354  0.974163  \n",
       "\n",
       "[355 rows x 15 columns]"
      ]
     },
     "execution_count": 44,
     "metadata": {},
     "output_type": "execute_result"
    }
   ],
   "source": [
    "pd.DataFrame(X_test)"
   ]
  },
  {
   "cell_type": "markdown",
   "id": "5fa024f7",
   "metadata": {
    "execution": {
     "iopub.execute_input": "2023-02-07T23:47:19.876941Z",
     "iopub.status.busy": "2023-02-07T23:47:19.876424Z",
     "iopub.status.idle": "2023-02-07T23:47:20.399488Z",
     "shell.execute_reply": "2023-02-07T23:47:20.398142Z"
    },
    "papermill": {
     "duration": 0.026825,
     "end_time": "2023-03-08T11:14:19.582709",
     "exception": false,
     "start_time": "2023-03-08T11:14:19.555884",
     "status": "completed"
    },
    "tags": []
   },
   "source": [
    "**Decision Tree**"
   ]
  },
  {
   "cell_type": "code",
   "execution_count": 45,
   "id": "4f5400c9",
   "metadata": {
    "execution": {
     "iopub.execute_input": "2023-03-08T11:14:19.615708Z",
     "iopub.status.busy": "2023-03-08T11:14:19.614880Z",
     "iopub.status.idle": "2023-03-08T11:14:19.685454Z",
     "shell.execute_reply": "2023-03-08T11:14:19.683809Z"
    },
    "papermill": {
     "duration": 0.087546,
     "end_time": "2023-03-08T11:14:19.688237",
     "exception": false,
     "start_time": "2023-03-08T11:14:19.600691",
     "status": "completed"
    },
    "tags": []
   },
   "outputs": [
    {
     "data": {
      "text/html": [
       "<style>#sk-container-id-5 {color: black;background-color: white;}#sk-container-id-5 pre{padding: 0;}#sk-container-id-5 div.sk-toggleable {background-color: white;}#sk-container-id-5 label.sk-toggleable__label {cursor: pointer;display: block;width: 100%;margin-bottom: 0;padding: 0.3em;box-sizing: border-box;text-align: center;}#sk-container-id-5 label.sk-toggleable__label-arrow:before {content: \"▸\";float: left;margin-right: 0.25em;color: #696969;}#sk-container-id-5 label.sk-toggleable__label-arrow:hover:before {color: black;}#sk-container-id-5 div.sk-estimator:hover label.sk-toggleable__label-arrow:before {color: black;}#sk-container-id-5 div.sk-toggleable__content {max-height: 0;max-width: 0;overflow: hidden;text-align: left;background-color: #f0f8ff;}#sk-container-id-5 div.sk-toggleable__content pre {margin: 0.2em;color: black;border-radius: 0.25em;background-color: #f0f8ff;}#sk-container-id-5 input.sk-toggleable__control:checked~div.sk-toggleable__content {max-height: 200px;max-width: 100%;overflow: auto;}#sk-container-id-5 input.sk-toggleable__control:checked~label.sk-toggleable__label-arrow:before {content: \"▾\";}#sk-container-id-5 div.sk-estimator input.sk-toggleable__control:checked~label.sk-toggleable__label {background-color: #d4ebff;}#sk-container-id-5 div.sk-label input.sk-toggleable__control:checked~label.sk-toggleable__label {background-color: #d4ebff;}#sk-container-id-5 input.sk-hidden--visually {border: 0;clip: rect(1px 1px 1px 1px);clip: rect(1px, 1px, 1px, 1px);height: 1px;margin: -1px;overflow: hidden;padding: 0;position: absolute;width: 1px;}#sk-container-id-5 div.sk-estimator {font-family: monospace;background-color: #f0f8ff;border: 1px dotted black;border-radius: 0.25em;box-sizing: border-box;margin-bottom: 0.5em;}#sk-container-id-5 div.sk-estimator:hover {background-color: #d4ebff;}#sk-container-id-5 div.sk-parallel-item::after {content: \"\";width: 100%;border-bottom: 1px solid gray;flex-grow: 1;}#sk-container-id-5 div.sk-label:hover label.sk-toggleable__label {background-color: #d4ebff;}#sk-container-id-5 div.sk-serial::before {content: \"\";position: absolute;border-left: 1px solid gray;box-sizing: border-box;top: 0;bottom: 0;left: 50%;z-index: 0;}#sk-container-id-5 div.sk-serial {display: flex;flex-direction: column;align-items: center;background-color: white;padding-right: 0.2em;padding-left: 0.2em;position: relative;}#sk-container-id-5 div.sk-item {position: relative;z-index: 1;}#sk-container-id-5 div.sk-parallel {display: flex;align-items: stretch;justify-content: center;background-color: white;position: relative;}#sk-container-id-5 div.sk-item::before, #sk-container-id-5 div.sk-parallel-item::before {content: \"\";position: absolute;border-left: 1px solid gray;box-sizing: border-box;top: 0;bottom: 0;left: 50%;z-index: -1;}#sk-container-id-5 div.sk-parallel-item {display: flex;flex-direction: column;z-index: 1;position: relative;background-color: white;}#sk-container-id-5 div.sk-parallel-item:first-child::after {align-self: flex-end;width: 50%;}#sk-container-id-5 div.sk-parallel-item:last-child::after {align-self: flex-start;width: 50%;}#sk-container-id-5 div.sk-parallel-item:only-child::after {width: 0;}#sk-container-id-5 div.sk-dashed-wrapped {border: 1px dashed gray;margin: 0 0.4em 0.5em 0.4em;box-sizing: border-box;padding-bottom: 0.4em;background-color: white;}#sk-container-id-5 div.sk-label label {font-family: monospace;font-weight: bold;display: inline-block;line-height: 1.2em;}#sk-container-id-5 div.sk-label-container {text-align: center;}#sk-container-id-5 div.sk-container {/* jupyter's `normalize.less` sets `[hidden] { display: none; }` but bootstrap.min.css set `[hidden] { display: none !important; }` so we also need the `!important` here to be able to override the default hidden behavior on the sphinx rendered scikit-learn.org. See: https://github.com/scikit-learn/scikit-learn/issues/21755 */display: inline-block !important;position: relative;}#sk-container-id-5 div.sk-text-repr-fallback {display: none;}</style><div id=\"sk-container-id-5\" class=\"sk-top-container\"><div class=\"sk-text-repr-fallback\"><pre>DecisionTreeClassifier(random_state=42)</pre><b>In a Jupyter environment, please rerun this cell to show the HTML representation or trust the notebook. <br />On GitHub, the HTML representation is unable to render, please try loading this page with nbviewer.org.</b></div><div class=\"sk-container\" hidden><div class=\"sk-item\"><div class=\"sk-estimator sk-toggleable\"><input class=\"sk-toggleable__control sk-hidden--visually\" id=\"sk-estimator-id-5\" type=\"checkbox\" checked><label for=\"sk-estimator-id-5\" class=\"sk-toggleable__label sk-toggleable__label-arrow\">DecisionTreeClassifier</label><div class=\"sk-toggleable__content\"><pre>DecisionTreeClassifier(random_state=42)</pre></div></div></div></div></div>"
      ],
      "text/plain": [
       "DecisionTreeClassifier(random_state=42)"
      ]
     },
     "execution_count": 45,
     "metadata": {},
     "output_type": "execute_result"
    }
   ],
   "source": [
    "clf = DecisionTreeClassifier(random_state=42)\n",
    "clf.fit(X_train, y_train)"
   ]
  },
  {
   "cell_type": "code",
   "execution_count": 46,
   "id": "3b56d190",
   "metadata": {
    "execution": {
     "iopub.execute_input": "2023-03-08T11:14:19.723858Z",
     "iopub.status.busy": "2023-03-08T11:14:19.723318Z",
     "iopub.status.idle": "2023-03-08T11:14:19.760586Z",
     "shell.execute_reply": "2023-03-08T11:14:19.759133Z"
    },
    "papermill": {
     "duration": 0.054688,
     "end_time": "2023-03-08T11:14:19.763769",
     "exception": false,
     "start_time": "2023-03-08T11:14:19.709081",
     "status": "completed"
    },
    "tags": []
   },
   "outputs": [
    {
     "name": "stdout",
     "output_type": "stream",
     "text": [
      "              precision    recall  f1-score   support\n",
      "\n",
      "        comp       0.22      0.22      0.22        50\n",
      "        misc       0.12      0.12      0.12         8\n",
      "         rec       0.48      0.47      0.47        47\n",
      "    religion       0.24      0.25      0.24        83\n",
      "         sci       0.26      0.22      0.24        77\n",
      "        talk       0.34      0.36      0.35        90\n",
      "\n",
      "    accuracy                           0.29       355\n",
      "   macro avg       0.27      0.27      0.27       355\n",
      "weighted avg       0.29      0.29      0.29       355\n",
      "\n"
     ]
    }
   ],
   "source": [
    "y_pred = clf.predict(X_test)\n",
    "print(classification_report(y_test, y_pred))"
   ]
  },
  {
   "cell_type": "code",
   "execution_count": 47,
   "id": "42bc91ff",
   "metadata": {
    "execution": {
     "iopub.execute_input": "2023-03-08T11:14:19.817289Z",
     "iopub.status.busy": "2023-03-08T11:14:19.816719Z",
     "iopub.status.idle": "2023-03-08T11:14:19.824269Z",
     "shell.execute_reply": "2023-03-08T11:14:19.822695Z"
    },
    "papermill": {
     "duration": 0.030024,
     "end_time": "2023-03-08T11:14:19.827463",
     "exception": false,
     "start_time": "2023-03-08T11:14:19.797439",
     "status": "completed"
    },
    "tags": []
   },
   "outputs": [],
   "source": [
    "pickle.dump(clf, open(f'{data_path}/decision_tree.pkl', 'wb'))"
   ]
  },
  {
   "cell_type": "code",
   "execution_count": 48,
   "id": "ea9be210",
   "metadata": {
    "execution": {
     "iopub.execute_input": "2023-03-08T11:14:19.870346Z",
     "iopub.status.busy": "2023-03-08T11:14:19.869536Z",
     "iopub.status.idle": "2023-03-08T11:14:19.900059Z",
     "shell.execute_reply": "2023-03-08T11:14:19.898449Z"
    },
    "papermill": {
     "duration": 0.047284,
     "end_time": "2023-03-08T11:14:19.902404",
     "exception": false,
     "start_time": "2023-03-08T11:14:19.855120",
     "status": "completed"
    },
    "tags": []
   },
   "outputs": [],
   "source": [
    "acc = accuracy_score(y_test, y_pred)\n",
    "pre = precision_score(y_test, y_pred, average=avg_par)\n",
    "rec = recall_score(y_test, y_pred, average=avg_par)\n",
    "f1 = f1_score(y_test, y_pred, average=avg_par)\n",
    "\n",
    "metrics_data['Shapelets']['DecisionTree'] = {'Accuracy': acc, 'Precision': pre, 'Recall': rec, 'F1': f1}"
   ]
  },
  {
   "cell_type": "markdown",
   "id": "3ca3443b",
   "metadata": {
    "papermill": {
     "duration": 0.012869,
     "end_time": "2023-03-08T11:14:19.930879",
     "exception": false,
     "start_time": "2023-03-08T11:14:19.918010",
     "status": "completed"
    },
    "tags": []
   },
   "source": [
    "**Random Forest**"
   ]
  },
  {
   "cell_type": "code",
   "execution_count": 49,
   "id": "37795e21",
   "metadata": {
    "execution": {
     "iopub.execute_input": "2023-03-08T11:14:19.959820Z",
     "iopub.status.busy": "2023-03-08T11:14:19.959285Z",
     "iopub.status.idle": "2023-03-08T11:14:20.409219Z",
     "shell.execute_reply": "2023-03-08T11:14:20.408543Z"
    },
    "papermill": {
     "duration": 0.467034,
     "end_time": "2023-03-08T11:14:20.411280",
     "exception": false,
     "start_time": "2023-03-08T11:14:19.944246",
     "status": "completed"
    },
    "tags": []
   },
   "outputs": [
    {
     "data": {
      "text/html": [
       "<style>#sk-container-id-6 {color: black;background-color: white;}#sk-container-id-6 pre{padding: 0;}#sk-container-id-6 div.sk-toggleable {background-color: white;}#sk-container-id-6 label.sk-toggleable__label {cursor: pointer;display: block;width: 100%;margin-bottom: 0;padding: 0.3em;box-sizing: border-box;text-align: center;}#sk-container-id-6 label.sk-toggleable__label-arrow:before {content: \"▸\";float: left;margin-right: 0.25em;color: #696969;}#sk-container-id-6 label.sk-toggleable__label-arrow:hover:before {color: black;}#sk-container-id-6 div.sk-estimator:hover label.sk-toggleable__label-arrow:before {color: black;}#sk-container-id-6 div.sk-toggleable__content {max-height: 0;max-width: 0;overflow: hidden;text-align: left;background-color: #f0f8ff;}#sk-container-id-6 div.sk-toggleable__content pre {margin: 0.2em;color: black;border-radius: 0.25em;background-color: #f0f8ff;}#sk-container-id-6 input.sk-toggleable__control:checked~div.sk-toggleable__content {max-height: 200px;max-width: 100%;overflow: auto;}#sk-container-id-6 input.sk-toggleable__control:checked~label.sk-toggleable__label-arrow:before {content: \"▾\";}#sk-container-id-6 div.sk-estimator input.sk-toggleable__control:checked~label.sk-toggleable__label {background-color: #d4ebff;}#sk-container-id-6 div.sk-label input.sk-toggleable__control:checked~label.sk-toggleable__label {background-color: #d4ebff;}#sk-container-id-6 input.sk-hidden--visually {border: 0;clip: rect(1px 1px 1px 1px);clip: rect(1px, 1px, 1px, 1px);height: 1px;margin: -1px;overflow: hidden;padding: 0;position: absolute;width: 1px;}#sk-container-id-6 div.sk-estimator {font-family: monospace;background-color: #f0f8ff;border: 1px dotted black;border-radius: 0.25em;box-sizing: border-box;margin-bottom: 0.5em;}#sk-container-id-6 div.sk-estimator:hover {background-color: #d4ebff;}#sk-container-id-6 div.sk-parallel-item::after {content: \"\";width: 100%;border-bottom: 1px solid gray;flex-grow: 1;}#sk-container-id-6 div.sk-label:hover label.sk-toggleable__label {background-color: #d4ebff;}#sk-container-id-6 div.sk-serial::before {content: \"\";position: absolute;border-left: 1px solid gray;box-sizing: border-box;top: 0;bottom: 0;left: 50%;z-index: 0;}#sk-container-id-6 div.sk-serial {display: flex;flex-direction: column;align-items: center;background-color: white;padding-right: 0.2em;padding-left: 0.2em;position: relative;}#sk-container-id-6 div.sk-item {position: relative;z-index: 1;}#sk-container-id-6 div.sk-parallel {display: flex;align-items: stretch;justify-content: center;background-color: white;position: relative;}#sk-container-id-6 div.sk-item::before, #sk-container-id-6 div.sk-parallel-item::before {content: \"\";position: absolute;border-left: 1px solid gray;box-sizing: border-box;top: 0;bottom: 0;left: 50%;z-index: -1;}#sk-container-id-6 div.sk-parallel-item {display: flex;flex-direction: column;z-index: 1;position: relative;background-color: white;}#sk-container-id-6 div.sk-parallel-item:first-child::after {align-self: flex-end;width: 50%;}#sk-container-id-6 div.sk-parallel-item:last-child::after {align-self: flex-start;width: 50%;}#sk-container-id-6 div.sk-parallel-item:only-child::after {width: 0;}#sk-container-id-6 div.sk-dashed-wrapped {border: 1px dashed gray;margin: 0 0.4em 0.5em 0.4em;box-sizing: border-box;padding-bottom: 0.4em;background-color: white;}#sk-container-id-6 div.sk-label label {font-family: monospace;font-weight: bold;display: inline-block;line-height: 1.2em;}#sk-container-id-6 div.sk-label-container {text-align: center;}#sk-container-id-6 div.sk-container {/* jupyter's `normalize.less` sets `[hidden] { display: none; }` but bootstrap.min.css set `[hidden] { display: none !important; }` so we also need the `!important` here to be able to override the default hidden behavior on the sphinx rendered scikit-learn.org. See: https://github.com/scikit-learn/scikit-learn/issues/21755 */display: inline-block !important;position: relative;}#sk-container-id-6 div.sk-text-repr-fallback {display: none;}</style><div id=\"sk-container-id-6\" class=\"sk-top-container\"><div class=\"sk-text-repr-fallback\"><pre>RandomForestClassifier(random_state=42)</pre><b>In a Jupyter environment, please rerun this cell to show the HTML representation or trust the notebook. <br />On GitHub, the HTML representation is unable to render, please try loading this page with nbviewer.org.</b></div><div class=\"sk-container\" hidden><div class=\"sk-item\"><div class=\"sk-estimator sk-toggleable\"><input class=\"sk-toggleable__control sk-hidden--visually\" id=\"sk-estimator-id-6\" type=\"checkbox\" checked><label for=\"sk-estimator-id-6\" class=\"sk-toggleable__label sk-toggleable__label-arrow\">RandomForestClassifier</label><div class=\"sk-toggleable__content\"><pre>RandomForestClassifier(random_state=42)</pre></div></div></div></div></div>"
      ],
      "text/plain": [
       "RandomForestClassifier(random_state=42)"
      ]
     },
     "execution_count": 49,
     "metadata": {},
     "output_type": "execute_result"
    }
   ],
   "source": [
    "clf = RandomForestClassifier(random_state=42)\n",
    "clf.fit(X_train, y_train)"
   ]
  },
  {
   "cell_type": "code",
   "execution_count": 50,
   "id": "581ab90a",
   "metadata": {
    "execution": {
     "iopub.execute_input": "2023-03-08T11:14:20.442285Z",
     "iopub.status.busy": "2023-03-08T11:14:20.441951Z",
     "iopub.status.idle": "2023-03-08T11:14:20.472879Z",
     "shell.execute_reply": "2023-03-08T11:14:20.472247Z"
    },
    "papermill": {
     "duration": 0.048058,
     "end_time": "2023-03-08T11:14:20.475569",
     "exception": false,
     "start_time": "2023-03-08T11:14:20.427511",
     "status": "completed"
    },
    "tags": []
   },
   "outputs": [
    {
     "name": "stdout",
     "output_type": "stream",
     "text": [
      "              precision    recall  f1-score   support\n",
      "\n",
      "        comp       0.47      0.18      0.26        50\n",
      "        misc       1.00      0.12      0.22         8\n",
      "         rec       0.62      0.72      0.67        47\n",
      "    religion       0.32      0.45      0.38        83\n",
      "         sci       0.29      0.18      0.22        77\n",
      "        talk       0.38      0.50      0.43        90\n",
      "\n",
      "    accuracy                           0.39       355\n",
      "   macro avg       0.51      0.36      0.36       355\n",
      "weighted avg       0.41      0.39      0.38       355\n",
      "\n"
     ]
    }
   ],
   "source": [
    "y_pred = clf.predict(X_test)\n",
    "print(classification_report(y_test, y_pred))"
   ]
  },
  {
   "cell_type": "code",
   "execution_count": 51,
   "id": "faf1d7f4",
   "metadata": {
    "execution": {
     "iopub.execute_input": "2023-03-08T11:14:20.545054Z",
     "iopub.status.busy": "2023-03-08T11:14:20.544568Z",
     "iopub.status.idle": "2023-03-08T11:14:20.575950Z",
     "shell.execute_reply": "2023-03-08T11:14:20.574364Z"
    },
    "papermill": {
     "duration": 0.065962,
     "end_time": "2023-03-08T11:14:20.579402",
     "exception": false,
     "start_time": "2023-03-08T11:14:20.513440",
     "status": "completed"
    },
    "tags": []
   },
   "outputs": [],
   "source": [
    "acc = accuracy_score(y_test, y_pred)\n",
    "pre = precision_score(y_test, y_pred, average=avg_par)\n",
    "rec = recall_score(y_test, y_pred, average=avg_par)\n",
    "f1 = f1_score(y_test, y_pred, average=avg_par)\n",
    "\n",
    "metrics_data['Shapelets']['RandomForest'] = {'Accuracy': acc, 'Precision': pre, 'Recall': rec, 'F1': f1}"
   ]
  },
  {
   "cell_type": "markdown",
   "id": "61fceefb",
   "metadata": {
    "papermill": {
     "duration": 0.021137,
     "end_time": "2023-03-08T11:14:20.616987",
     "exception": false,
     "start_time": "2023-03-08T11:14:20.595850",
     "status": "completed"
    },
    "tags": []
   },
   "source": [
    "**LightGBM**"
   ]
  },
  {
   "cell_type": "code",
   "execution_count": 52,
   "id": "194189da",
   "metadata": {
    "execution": {
     "iopub.execute_input": "2023-03-08T11:14:20.645978Z",
     "iopub.status.busy": "2023-03-08T11:14:20.645455Z",
     "iopub.status.idle": "2023-03-08T11:14:21.166917Z",
     "shell.execute_reply": "2023-03-08T11:14:21.166215Z"
    },
    "papermill": {
     "duration": 0.539613,
     "end_time": "2023-03-08T11:14:21.170143",
     "exception": false,
     "start_time": "2023-03-08T11:14:20.630530",
     "status": "completed"
    },
    "tags": []
   },
   "outputs": [
    {
     "data": {
      "text/html": [
       "<style>#sk-container-id-7 {color: black;background-color: white;}#sk-container-id-7 pre{padding: 0;}#sk-container-id-7 div.sk-toggleable {background-color: white;}#sk-container-id-7 label.sk-toggleable__label {cursor: pointer;display: block;width: 100%;margin-bottom: 0;padding: 0.3em;box-sizing: border-box;text-align: center;}#sk-container-id-7 label.sk-toggleable__label-arrow:before {content: \"▸\";float: left;margin-right: 0.25em;color: #696969;}#sk-container-id-7 label.sk-toggleable__label-arrow:hover:before {color: black;}#sk-container-id-7 div.sk-estimator:hover label.sk-toggleable__label-arrow:before {color: black;}#sk-container-id-7 div.sk-toggleable__content {max-height: 0;max-width: 0;overflow: hidden;text-align: left;background-color: #f0f8ff;}#sk-container-id-7 div.sk-toggleable__content pre {margin: 0.2em;color: black;border-radius: 0.25em;background-color: #f0f8ff;}#sk-container-id-7 input.sk-toggleable__control:checked~div.sk-toggleable__content {max-height: 200px;max-width: 100%;overflow: auto;}#sk-container-id-7 input.sk-toggleable__control:checked~label.sk-toggleable__label-arrow:before {content: \"▾\";}#sk-container-id-7 div.sk-estimator input.sk-toggleable__control:checked~label.sk-toggleable__label {background-color: #d4ebff;}#sk-container-id-7 div.sk-label input.sk-toggleable__control:checked~label.sk-toggleable__label {background-color: #d4ebff;}#sk-container-id-7 input.sk-hidden--visually {border: 0;clip: rect(1px 1px 1px 1px);clip: rect(1px, 1px, 1px, 1px);height: 1px;margin: -1px;overflow: hidden;padding: 0;position: absolute;width: 1px;}#sk-container-id-7 div.sk-estimator {font-family: monospace;background-color: #f0f8ff;border: 1px dotted black;border-radius: 0.25em;box-sizing: border-box;margin-bottom: 0.5em;}#sk-container-id-7 div.sk-estimator:hover {background-color: #d4ebff;}#sk-container-id-7 div.sk-parallel-item::after {content: \"\";width: 100%;border-bottom: 1px solid gray;flex-grow: 1;}#sk-container-id-7 div.sk-label:hover label.sk-toggleable__label {background-color: #d4ebff;}#sk-container-id-7 div.sk-serial::before {content: \"\";position: absolute;border-left: 1px solid gray;box-sizing: border-box;top: 0;bottom: 0;left: 50%;z-index: 0;}#sk-container-id-7 div.sk-serial {display: flex;flex-direction: column;align-items: center;background-color: white;padding-right: 0.2em;padding-left: 0.2em;position: relative;}#sk-container-id-7 div.sk-item {position: relative;z-index: 1;}#sk-container-id-7 div.sk-parallel {display: flex;align-items: stretch;justify-content: center;background-color: white;position: relative;}#sk-container-id-7 div.sk-item::before, #sk-container-id-7 div.sk-parallel-item::before {content: \"\";position: absolute;border-left: 1px solid gray;box-sizing: border-box;top: 0;bottom: 0;left: 50%;z-index: -1;}#sk-container-id-7 div.sk-parallel-item {display: flex;flex-direction: column;z-index: 1;position: relative;background-color: white;}#sk-container-id-7 div.sk-parallel-item:first-child::after {align-self: flex-end;width: 50%;}#sk-container-id-7 div.sk-parallel-item:last-child::after {align-self: flex-start;width: 50%;}#sk-container-id-7 div.sk-parallel-item:only-child::after {width: 0;}#sk-container-id-7 div.sk-dashed-wrapped {border: 1px dashed gray;margin: 0 0.4em 0.5em 0.4em;box-sizing: border-box;padding-bottom: 0.4em;background-color: white;}#sk-container-id-7 div.sk-label label {font-family: monospace;font-weight: bold;display: inline-block;line-height: 1.2em;}#sk-container-id-7 div.sk-label-container {text-align: center;}#sk-container-id-7 div.sk-container {/* jupyter's `normalize.less` sets `[hidden] { display: none; }` but bootstrap.min.css set `[hidden] { display: none !important; }` so we also need the `!important` here to be able to override the default hidden behavior on the sphinx rendered scikit-learn.org. See: https://github.com/scikit-learn/scikit-learn/issues/21755 */display: inline-block !important;position: relative;}#sk-container-id-7 div.sk-text-repr-fallback {display: none;}</style><div id=\"sk-container-id-7\" class=\"sk-top-container\"><div class=\"sk-text-repr-fallback\"><pre>LGBMClassifier(objective=&#x27;multiclass&#x27;)</pre><b>In a Jupyter environment, please rerun this cell to show the HTML representation or trust the notebook. <br />On GitHub, the HTML representation is unable to render, please try loading this page with nbviewer.org.</b></div><div class=\"sk-container\" hidden><div class=\"sk-item\"><div class=\"sk-estimator sk-toggleable\"><input class=\"sk-toggleable__control sk-hidden--visually\" id=\"sk-estimator-id-7\" type=\"checkbox\" checked><label for=\"sk-estimator-id-7\" class=\"sk-toggleable__label sk-toggleable__label-arrow\">LGBMClassifier</label><div class=\"sk-toggleable__content\"><pre>LGBMClassifier(objective=&#x27;multiclass&#x27;)</pre></div></div></div></div></div>"
      ],
      "text/plain": [
       "LGBMClassifier(objective='multiclass')"
      ]
     },
     "execution_count": 52,
     "metadata": {},
     "output_type": "execute_result"
    }
   ],
   "source": [
    "clf = lgbm.LGBMClassifier(objective=obj_par) \n",
    "clf.fit(X_train, y_train)"
   ]
  },
  {
   "cell_type": "code",
   "execution_count": 53,
   "id": "355a078b",
   "metadata": {
    "execution": {
     "iopub.execute_input": "2023-03-08T11:14:21.234724Z",
     "iopub.status.busy": "2023-03-08T11:14:21.234417Z",
     "iopub.status.idle": "2023-03-08T11:14:21.255287Z",
     "shell.execute_reply": "2023-03-08T11:14:21.254360Z"
    },
    "papermill": {
     "duration": 0.047975,
     "end_time": "2023-03-08T11:14:21.256993",
     "exception": false,
     "start_time": "2023-03-08T11:14:21.209018",
     "status": "completed"
    },
    "tags": []
   },
   "outputs": [
    {
     "name": "stdout",
     "output_type": "stream",
     "text": [
      "              precision    recall  f1-score   support\n",
      "\n",
      "        comp       0.33      0.20      0.25        50\n",
      "        misc       1.00      0.12      0.22         8\n",
      "         rec       0.60      0.70      0.65        47\n",
      "    religion       0.28      0.33      0.30        83\n",
      "         sci       0.28      0.21      0.24        77\n",
      "        talk       0.35      0.44      0.39        90\n",
      "\n",
      "    accuracy                           0.36       355\n",
      "   macro avg       0.47      0.33      0.34       355\n",
      "weighted avg       0.36      0.36      0.35       355\n",
      "\n"
     ]
    }
   ],
   "source": [
    "y_pred = clf.predict(X_test)\n",
    "print(classification_report(y_test, y_pred))"
   ]
  },
  {
   "cell_type": "code",
   "execution_count": 54,
   "id": "f22b911e",
   "metadata": {
    "execution": {
     "iopub.execute_input": "2023-03-08T11:14:21.286301Z",
     "iopub.status.busy": "2023-03-08T11:14:21.286029Z",
     "iopub.status.idle": "2023-03-08T11:14:21.299255Z",
     "shell.execute_reply": "2023-03-08T11:14:21.298380Z"
    },
    "papermill": {
     "duration": 0.029369,
     "end_time": "2023-03-08T11:14:21.300840",
     "exception": false,
     "start_time": "2023-03-08T11:14:21.271471",
     "status": "completed"
    },
    "tags": []
   },
   "outputs": [],
   "source": [
    "acc = accuracy_score(y_test, y_pred)\n",
    "pre = precision_score(y_test, y_pred, average=avg_par)\n",
    "rec = recall_score(y_test, y_pred, average=avg_par)\n",
    "f1 = f1_score(y_test, y_pred, average=avg_par)\n",
    "\n",
    "metrics_data['Shapelets']['LightGBM'] = {'Accuracy': acc, 'Precision': pre, 'Recall': rec, 'F1': f1}"
   ]
  },
  {
   "cell_type": "markdown",
   "id": "0809af9f",
   "metadata": {
    "papermill": {
     "duration": 0.014019,
     "end_time": "2023-03-08T11:14:21.328695",
     "exception": false,
     "start_time": "2023-03-08T11:14:21.314676",
     "status": "completed"
    },
    "tags": []
   },
   "source": [
    "#### KNN"
   ]
  },
  {
   "cell_type": "code",
   "execution_count": 55,
   "id": "1c9237e0",
   "metadata": {
    "execution": {
     "iopub.execute_input": "2023-03-08T11:14:21.358444Z",
     "iopub.status.busy": "2023-03-08T11:14:21.358157Z",
     "iopub.status.idle": "2023-03-08T11:14:21.362304Z",
     "shell.execute_reply": "2023-03-08T11:14:21.361579Z"
    },
    "papermill": {
     "duration": 0.021355,
     "end_time": "2023-03-08T11:14:21.364282",
     "exception": false,
     "start_time": "2023-03-08T11:14:21.342927",
     "status": "completed"
    },
    "tags": []
   },
   "outputs": [],
   "source": [
    "X_train = ts_train.reshape((ts_train.shape[0], ts_train.shape[1]))\n",
    "X_test = ts_test.reshape((ts_test.shape[0], ts_test.shape[1]))"
   ]
  },
  {
   "cell_type": "code",
   "execution_count": 56,
   "id": "192f3c3f",
   "metadata": {
    "execution": {
     "iopub.execute_input": "2023-03-08T11:14:21.395648Z",
     "iopub.status.busy": "2023-03-08T11:14:21.395302Z",
     "iopub.status.idle": "2023-03-08T11:14:21.402412Z",
     "shell.execute_reply": "2023-03-08T11:14:21.401060Z"
    },
    "papermill": {
     "duration": 0.023699,
     "end_time": "2023-03-08T11:14:21.404103",
     "exception": false,
     "start_time": "2023-03-08T11:14:21.380404",
     "status": "completed"
    },
    "tags": []
   },
   "outputs": [
    {
     "data": {
      "text/plain": [
       "(1420, 100)"
      ]
     },
     "execution_count": 56,
     "metadata": {},
     "output_type": "execute_result"
    }
   ],
   "source": [
    "X_train.shape"
   ]
  },
  {
   "cell_type": "code",
   "execution_count": 57,
   "id": "de0e5000",
   "metadata": {
    "execution": {
     "iopub.execute_input": "2023-03-08T11:14:21.435278Z",
     "iopub.status.busy": "2023-03-08T11:14:21.434422Z",
     "iopub.status.idle": "2023-03-08T11:14:21.440821Z",
     "shell.execute_reply": "2023-03-08T11:14:21.439393Z"
    },
    "papermill": {
     "duration": 0.024201,
     "end_time": "2023-03-08T11:14:21.442493",
     "exception": false,
     "start_time": "2023-03-08T11:14:21.418292",
     "status": "completed"
    },
    "tags": []
   },
   "outputs": [],
   "source": [
    "metrics_data['KNN'] = {}"
   ]
  },
  {
   "cell_type": "markdown",
   "id": "8ee39c05",
   "metadata": {
    "papermill": {
     "duration": 0.014975,
     "end_time": "2023-03-08T11:14:21.472238",
     "exception": false,
     "start_time": "2023-03-08T11:14:21.457263",
     "status": "completed"
    },
    "tags": []
   },
   "source": [
    "**Euclidean Distance**"
   ]
  },
  {
   "cell_type": "code",
   "execution_count": 58,
   "id": "55db1f58",
   "metadata": {
    "execution": {
     "iopub.execute_input": "2023-03-08T11:14:21.505051Z",
     "iopub.status.busy": "2023-03-08T11:14:21.504520Z",
     "iopub.status.idle": "2023-03-08T11:14:21.510797Z",
     "shell.execute_reply": "2023-03-08T11:14:21.509365Z"
    },
    "papermill": {
     "duration": 0.024848,
     "end_time": "2023-03-08T11:14:21.512450",
     "exception": false,
     "start_time": "2023-03-08T11:14:21.487602",
     "status": "completed"
    },
    "tags": []
   },
   "outputs": [],
   "source": [
    "from sklearn.neighbors import KNeighborsClassifier"
   ]
  },
  {
   "cell_type": "code",
   "execution_count": 59,
   "id": "132c2537",
   "metadata": {
    "execution": {
     "iopub.execute_input": "2023-03-08T11:14:21.544850Z",
     "iopub.status.busy": "2023-03-08T11:14:21.544010Z",
     "iopub.status.idle": "2023-03-08T11:14:21.559569Z",
     "shell.execute_reply": "2023-03-08T11:14:21.558016Z"
    },
    "papermill": {
     "duration": 0.0338,
     "end_time": "2023-03-08T11:14:21.561494",
     "exception": false,
     "start_time": "2023-03-08T11:14:21.527694",
     "status": "completed"
    },
    "tags": []
   },
   "outputs": [
    {
     "data": {
      "text/html": [
       "<style>#sk-container-id-8 {color: black;background-color: white;}#sk-container-id-8 pre{padding: 0;}#sk-container-id-8 div.sk-toggleable {background-color: white;}#sk-container-id-8 label.sk-toggleable__label {cursor: pointer;display: block;width: 100%;margin-bottom: 0;padding: 0.3em;box-sizing: border-box;text-align: center;}#sk-container-id-8 label.sk-toggleable__label-arrow:before {content: \"▸\";float: left;margin-right: 0.25em;color: #696969;}#sk-container-id-8 label.sk-toggleable__label-arrow:hover:before {color: black;}#sk-container-id-8 div.sk-estimator:hover label.sk-toggleable__label-arrow:before {color: black;}#sk-container-id-8 div.sk-toggleable__content {max-height: 0;max-width: 0;overflow: hidden;text-align: left;background-color: #f0f8ff;}#sk-container-id-8 div.sk-toggleable__content pre {margin: 0.2em;color: black;border-radius: 0.25em;background-color: #f0f8ff;}#sk-container-id-8 input.sk-toggleable__control:checked~div.sk-toggleable__content {max-height: 200px;max-width: 100%;overflow: auto;}#sk-container-id-8 input.sk-toggleable__control:checked~label.sk-toggleable__label-arrow:before {content: \"▾\";}#sk-container-id-8 div.sk-estimator input.sk-toggleable__control:checked~label.sk-toggleable__label {background-color: #d4ebff;}#sk-container-id-8 div.sk-label input.sk-toggleable__control:checked~label.sk-toggleable__label {background-color: #d4ebff;}#sk-container-id-8 input.sk-hidden--visually {border: 0;clip: rect(1px 1px 1px 1px);clip: rect(1px, 1px, 1px, 1px);height: 1px;margin: -1px;overflow: hidden;padding: 0;position: absolute;width: 1px;}#sk-container-id-8 div.sk-estimator {font-family: monospace;background-color: #f0f8ff;border: 1px dotted black;border-radius: 0.25em;box-sizing: border-box;margin-bottom: 0.5em;}#sk-container-id-8 div.sk-estimator:hover {background-color: #d4ebff;}#sk-container-id-8 div.sk-parallel-item::after {content: \"\";width: 100%;border-bottom: 1px solid gray;flex-grow: 1;}#sk-container-id-8 div.sk-label:hover label.sk-toggleable__label {background-color: #d4ebff;}#sk-container-id-8 div.sk-serial::before {content: \"\";position: absolute;border-left: 1px solid gray;box-sizing: border-box;top: 0;bottom: 0;left: 50%;z-index: 0;}#sk-container-id-8 div.sk-serial {display: flex;flex-direction: column;align-items: center;background-color: white;padding-right: 0.2em;padding-left: 0.2em;position: relative;}#sk-container-id-8 div.sk-item {position: relative;z-index: 1;}#sk-container-id-8 div.sk-parallel {display: flex;align-items: stretch;justify-content: center;background-color: white;position: relative;}#sk-container-id-8 div.sk-item::before, #sk-container-id-8 div.sk-parallel-item::before {content: \"\";position: absolute;border-left: 1px solid gray;box-sizing: border-box;top: 0;bottom: 0;left: 50%;z-index: -1;}#sk-container-id-8 div.sk-parallel-item {display: flex;flex-direction: column;z-index: 1;position: relative;background-color: white;}#sk-container-id-8 div.sk-parallel-item:first-child::after {align-self: flex-end;width: 50%;}#sk-container-id-8 div.sk-parallel-item:last-child::after {align-self: flex-start;width: 50%;}#sk-container-id-8 div.sk-parallel-item:only-child::after {width: 0;}#sk-container-id-8 div.sk-dashed-wrapped {border: 1px dashed gray;margin: 0 0.4em 0.5em 0.4em;box-sizing: border-box;padding-bottom: 0.4em;background-color: white;}#sk-container-id-8 div.sk-label label {font-family: monospace;font-weight: bold;display: inline-block;line-height: 1.2em;}#sk-container-id-8 div.sk-label-container {text-align: center;}#sk-container-id-8 div.sk-container {/* jupyter's `normalize.less` sets `[hidden] { display: none; }` but bootstrap.min.css set `[hidden] { display: none !important; }` so we also need the `!important` here to be able to override the default hidden behavior on the sphinx rendered scikit-learn.org. See: https://github.com/scikit-learn/scikit-learn/issues/21755 */display: inline-block !important;position: relative;}#sk-container-id-8 div.sk-text-repr-fallback {display: none;}</style><div id=\"sk-container-id-8\" class=\"sk-top-container\"><div class=\"sk-text-repr-fallback\"><pre>KNeighborsClassifier()</pre><b>In a Jupyter environment, please rerun this cell to show the HTML representation or trust the notebook. <br />On GitHub, the HTML representation is unable to render, please try loading this page with nbviewer.org.</b></div><div class=\"sk-container\" hidden><div class=\"sk-item\"><div class=\"sk-estimator sk-toggleable\"><input class=\"sk-toggleable__control sk-hidden--visually\" id=\"sk-estimator-id-8\" type=\"checkbox\" checked><label for=\"sk-estimator-id-8\" class=\"sk-toggleable__label sk-toggleable__label-arrow\">KNeighborsClassifier</label><div class=\"sk-toggleable__content\"><pre>KNeighborsClassifier()</pre></div></div></div></div></div>"
      ],
      "text/plain": [
       "KNeighborsClassifier()"
      ]
     },
     "execution_count": 59,
     "metadata": {},
     "output_type": "execute_result"
    }
   ],
   "source": [
    "clf = KNeighborsClassifier(n_neighbors=5, weights='uniform')\n",
    "clf.fit(X_train, y_train)"
   ]
  },
  {
   "cell_type": "code",
   "execution_count": 60,
   "id": "0afad62a",
   "metadata": {
    "execution": {
     "iopub.execute_input": "2023-03-08T11:14:21.593455Z",
     "iopub.status.busy": "2023-03-08T11:14:21.592618Z",
     "iopub.status.idle": "2023-03-08T11:14:21.759284Z",
     "shell.execute_reply": "2023-03-08T11:14:21.758391Z"
    },
    "papermill": {
     "duration": 0.184519,
     "end_time": "2023-03-08T11:14:21.761462",
     "exception": false,
     "start_time": "2023-03-08T11:14:21.576943",
     "status": "completed"
    },
    "tags": []
   },
   "outputs": [
    {
     "name": "stdout",
     "output_type": "stream",
     "text": [
      "              precision    recall  f1-score   support\n",
      "\n",
      "        comp       0.16      0.30      0.21        50\n",
      "        misc       0.17      0.25      0.20         8\n",
      "         rec       0.35      0.81      0.49        47\n",
      "    religion       0.23      0.19      0.21        83\n",
      "         sci       0.23      0.17      0.19        77\n",
      "        talk       0.21      0.03      0.06        90\n",
      "\n",
      "    accuracy                           0.25       355\n",
      "   macro avg       0.22      0.29      0.23       355\n",
      "weighted avg       0.23      0.25      0.20       355\n",
      "\n"
     ]
    }
   ],
   "source": [
    "y_pred = clf.predict(X_test)\n",
    "print(classification_report(y_test, y_pred))"
   ]
  },
  {
   "cell_type": "code",
   "execution_count": 61,
   "id": "2d709070",
   "metadata": {
    "execution": {
     "iopub.execute_input": "2023-03-08T11:14:21.817045Z",
     "iopub.status.busy": "2023-03-08T11:14:21.816730Z",
     "iopub.status.idle": "2023-03-08T11:14:21.831518Z",
     "shell.execute_reply": "2023-03-08T11:14:21.830684Z"
    },
    "papermill": {
     "duration": 0.042012,
     "end_time": "2023-03-08T11:14:21.833536",
     "exception": false,
     "start_time": "2023-03-08T11:14:21.791524",
     "status": "completed"
    },
    "tags": []
   },
   "outputs": [],
   "source": [
    "acc = accuracy_score(y_test, y_pred)\n",
    "pre = precision_score(y_test, y_pred, average=avg_par)\n",
    "rec = recall_score(y_test, y_pred, average=avg_par)\n",
    "f1 = f1_score(y_test, y_pred, average=avg_par)\n",
    "\n",
    "metrics_data['KNN']['Euclidean'] = {'Accuracy': acc, 'Precision': pre, 'Recall': rec, 'F1': f1}"
   ]
  },
  {
   "cell_type": "markdown",
   "id": "c5ec2a09",
   "metadata": {
    "papermill": {
     "duration": 0.018647,
     "end_time": "2023-03-08T11:14:21.869674",
     "exception": false,
     "start_time": "2023-03-08T11:14:21.851027",
     "status": "completed"
    },
    "tags": []
   },
   "source": [
    "**Dynamic Time Warping**"
   ]
  },
  {
   "cell_type": "code",
   "execution_count": 62,
   "id": "2df913d8",
   "metadata": {
    "execution": {
     "iopub.execute_input": "2023-03-08T11:14:21.899937Z",
     "iopub.status.busy": "2023-03-08T11:14:21.899451Z",
     "iopub.status.idle": "2023-03-08T11:14:21.972674Z",
     "shell.execute_reply": "2023-03-08T11:14:21.971942Z"
    },
    "papermill": {
     "duration": 0.091038,
     "end_time": "2023-03-08T11:14:21.974912",
     "exception": false,
     "start_time": "2023-03-08T11:14:21.883874",
     "status": "completed"
    },
    "tags": []
   },
   "outputs": [],
   "source": [
    "from pyts.classification import KNeighborsClassifier\n",
    "from pyts.approximation import PiecewiseAggregateApproximation\n",
    "from imblearn.under_sampling import ClusterCentroids\n",
    "from sklearn_extra.cluster import KMedoids"
   ]
  },
  {
   "cell_type": "code",
   "execution_count": 63,
   "id": "db1604ec",
   "metadata": {
    "execution": {
     "iopub.execute_input": "2023-03-08T11:14:22.009334Z",
     "iopub.status.busy": "2023-03-08T11:14:22.008840Z",
     "iopub.status.idle": "2023-03-08T11:14:22.015256Z",
     "shell.execute_reply": "2023-03-08T11:14:22.014157Z"
    },
    "papermill": {
     "duration": 0.02373,
     "end_time": "2023-03-08T11:14:22.016950",
     "exception": false,
     "start_time": "2023-03-08T11:14:21.993220",
     "status": "completed"
    },
    "tags": []
   },
   "outputs": [],
   "source": [
    "if paa_window_size:\n",
    "    paa = PiecewiseAggregateApproximation(window_size=paa_window_size)\n",
    "    X_train = paa.transform(X_train)\n",
    "    X_test = paa.transform(X_test)\n",
    "    X_train.shape"
   ]
  },
  {
   "cell_type": "code",
   "execution_count": 64,
   "id": "59fa27aa",
   "metadata": {
    "execution": {
     "iopub.execute_input": "2023-03-08T11:14:22.046841Z",
     "iopub.status.busy": "2023-03-08T11:14:22.046350Z",
     "iopub.status.idle": "2023-03-08T11:14:22.054574Z",
     "shell.execute_reply": "2023-03-08T11:14:22.053602Z"
    },
    "papermill": {
     "duration": 0.025175,
     "end_time": "2023-03-08T11:14:22.056311",
     "exception": false,
     "start_time": "2023-03-08T11:14:22.031136",
     "status": "completed"
    },
    "tags": []
   },
   "outputs": [],
   "source": [
    "if undersampling:\n",
    "    total_samples = len(y_train)\n",
    "    unique_classes, class_counts = np.unique(y_train, return_counts=True)\n",
    "    samp_strat = dict(zip(unique_classes, np.floor(class_counts * undersampling).astype(int)))\n",
    "    print(samp_strat)\n",
    "    cc = ClusterCentroids(estimator=KMedoids(\n",
    "        random_state=42), sampling_strategy=samp_strat, random_state=42)\n",
    "    X_train, y_train = cc.fit_resample(X_train, y_train)\n",
    "    X_train.shape"
   ]
  },
  {
   "cell_type": "code",
   "execution_count": 65,
   "id": "e7ac6b44",
   "metadata": {
    "execution": {
     "iopub.execute_input": "2023-03-08T11:14:22.087146Z",
     "iopub.status.busy": "2023-03-08T11:14:22.086609Z",
     "iopub.status.idle": "2023-03-08T11:14:22.100788Z",
     "shell.execute_reply": "2023-03-08T11:14:22.099883Z"
    },
    "papermill": {
     "duration": 0.031556,
     "end_time": "2023-03-08T11:14:22.102628",
     "exception": false,
     "start_time": "2023-03-08T11:14:22.071072",
     "status": "completed"
    },
    "tags": []
   },
   "outputs": [
    {
     "data": {
      "text/html": [
       "<style>#sk-container-id-9 {color: black;background-color: white;}#sk-container-id-9 pre{padding: 0;}#sk-container-id-9 div.sk-toggleable {background-color: white;}#sk-container-id-9 label.sk-toggleable__label {cursor: pointer;display: block;width: 100%;margin-bottom: 0;padding: 0.3em;box-sizing: border-box;text-align: center;}#sk-container-id-9 label.sk-toggleable__label-arrow:before {content: \"▸\";float: left;margin-right: 0.25em;color: #696969;}#sk-container-id-9 label.sk-toggleable__label-arrow:hover:before {color: black;}#sk-container-id-9 div.sk-estimator:hover label.sk-toggleable__label-arrow:before {color: black;}#sk-container-id-9 div.sk-toggleable__content {max-height: 0;max-width: 0;overflow: hidden;text-align: left;background-color: #f0f8ff;}#sk-container-id-9 div.sk-toggleable__content pre {margin: 0.2em;color: black;border-radius: 0.25em;background-color: #f0f8ff;}#sk-container-id-9 input.sk-toggleable__control:checked~div.sk-toggleable__content {max-height: 200px;max-width: 100%;overflow: auto;}#sk-container-id-9 input.sk-toggleable__control:checked~label.sk-toggleable__label-arrow:before {content: \"▾\";}#sk-container-id-9 div.sk-estimator input.sk-toggleable__control:checked~label.sk-toggleable__label {background-color: #d4ebff;}#sk-container-id-9 div.sk-label input.sk-toggleable__control:checked~label.sk-toggleable__label {background-color: #d4ebff;}#sk-container-id-9 input.sk-hidden--visually {border: 0;clip: rect(1px 1px 1px 1px);clip: rect(1px, 1px, 1px, 1px);height: 1px;margin: -1px;overflow: hidden;padding: 0;position: absolute;width: 1px;}#sk-container-id-9 div.sk-estimator {font-family: monospace;background-color: #f0f8ff;border: 1px dotted black;border-radius: 0.25em;box-sizing: border-box;margin-bottom: 0.5em;}#sk-container-id-9 div.sk-estimator:hover {background-color: #d4ebff;}#sk-container-id-9 div.sk-parallel-item::after {content: \"\";width: 100%;border-bottom: 1px solid gray;flex-grow: 1;}#sk-container-id-9 div.sk-label:hover label.sk-toggleable__label {background-color: #d4ebff;}#sk-container-id-9 div.sk-serial::before {content: \"\";position: absolute;border-left: 1px solid gray;box-sizing: border-box;top: 0;bottom: 0;left: 50%;z-index: 0;}#sk-container-id-9 div.sk-serial {display: flex;flex-direction: column;align-items: center;background-color: white;padding-right: 0.2em;padding-left: 0.2em;position: relative;}#sk-container-id-9 div.sk-item {position: relative;z-index: 1;}#sk-container-id-9 div.sk-parallel {display: flex;align-items: stretch;justify-content: center;background-color: white;position: relative;}#sk-container-id-9 div.sk-item::before, #sk-container-id-9 div.sk-parallel-item::before {content: \"\";position: absolute;border-left: 1px solid gray;box-sizing: border-box;top: 0;bottom: 0;left: 50%;z-index: -1;}#sk-container-id-9 div.sk-parallel-item {display: flex;flex-direction: column;z-index: 1;position: relative;background-color: white;}#sk-container-id-9 div.sk-parallel-item:first-child::after {align-self: flex-end;width: 50%;}#sk-container-id-9 div.sk-parallel-item:last-child::after {align-self: flex-start;width: 50%;}#sk-container-id-9 div.sk-parallel-item:only-child::after {width: 0;}#sk-container-id-9 div.sk-dashed-wrapped {border: 1px dashed gray;margin: 0 0.4em 0.5em 0.4em;box-sizing: border-box;padding-bottom: 0.4em;background-color: white;}#sk-container-id-9 div.sk-label label {font-family: monospace;font-weight: bold;display: inline-block;line-height: 1.2em;}#sk-container-id-9 div.sk-label-container {text-align: center;}#sk-container-id-9 div.sk-container {/* jupyter's `normalize.less` sets `[hidden] { display: none; }` but bootstrap.min.css set `[hidden] { display: none !important; }` so we also need the `!important` here to be able to override the default hidden behavior on the sphinx rendered scikit-learn.org. See: https://github.com/scikit-learn/scikit-learn/issues/21755 */display: inline-block !important;position: relative;}#sk-container-id-9 div.sk-text-repr-fallback {display: none;}</style><div id=\"sk-container-id-9\" class=\"sk-top-container\"><div class=\"sk-text-repr-fallback\"><pre>KNeighborsClassifier(metric=&#x27;dtw_sakoechiba&#x27;, metric_params={&#x27;window_size&#x27;: 3})</pre><b>In a Jupyter environment, please rerun this cell to show the HTML representation or trust the notebook. <br />On GitHub, the HTML representation is unable to render, please try loading this page with nbviewer.org.</b></div><div class=\"sk-container\" hidden><div class=\"sk-item\"><div class=\"sk-estimator sk-toggleable\"><input class=\"sk-toggleable__control sk-hidden--visually\" id=\"sk-estimator-id-9\" type=\"checkbox\" checked><label for=\"sk-estimator-id-9\" class=\"sk-toggleable__label sk-toggleable__label-arrow\">KNeighborsClassifier</label><div class=\"sk-toggleable__content\"><pre>KNeighborsClassifier(metric=&#x27;dtw_sakoechiba&#x27;, metric_params={&#x27;window_size&#x27;: 3})</pre></div></div></div></div></div>"
      ],
      "text/plain": [
       "KNeighborsClassifier(metric='dtw_sakoechiba', metric_params={'window_size': 3})"
      ]
     },
     "execution_count": 65,
     "metadata": {},
     "output_type": "execute_result"
    }
   ],
   "source": [
    "clf = KNeighborsClassifier(metric='dtw_sakoechiba',  metric_params={'window_size':3})\n",
    "\n",
    "clf.fit(X_train, y_train)"
   ]
  },
  {
   "cell_type": "code",
   "execution_count": 66,
   "id": "8109d19d",
   "metadata": {
    "execution": {
     "iopub.execute_input": "2023-03-08T11:14:22.134497Z",
     "iopub.status.busy": "2023-03-08T11:14:22.133997Z",
     "iopub.status.idle": "2023-03-08T11:15:52.448969Z",
     "shell.execute_reply": "2023-03-08T11:15:52.448249Z"
    },
    "papermill": {
     "duration": 90.374004,
     "end_time": "2023-03-08T11:15:52.492203",
     "exception": false,
     "start_time": "2023-03-08T11:14:22.118199",
     "status": "completed"
    },
    "tags": []
   },
   "outputs": [
    {
     "name": "stdout",
     "output_type": "stream",
     "text": [
      "              precision    recall  f1-score   support\n",
      "\n",
      "        comp       0.25      0.36      0.29        50\n",
      "        misc       0.12      0.25      0.17         8\n",
      "         rec       0.49      0.64      0.56        47\n",
      "    religion       0.26      0.23      0.25        83\n",
      "         sci       0.25      0.19      0.22        77\n",
      "        talk       0.42      0.33      0.37        90\n",
      "\n",
      "    accuracy                           0.32       355\n",
      "   macro avg       0.30      0.33      0.31       355\n",
      "weighted avg       0.32      0.32      0.32       355\n",
      "\n",
      "CPU times: user 1min 30s, sys: 39.9 ms, total: 1min 30s\n",
      "Wall time: 1min 30s\n"
     ]
    }
   ],
   "source": [
    "%%time\n",
    "y_pred = clf.predict(X_test)\n",
    "print(classification_report(y_test, y_pred))"
   ]
  },
  {
   "cell_type": "code",
   "execution_count": 67,
   "id": "b09f5cdf",
   "metadata": {
    "execution": {
     "iopub.execute_input": "2023-03-08T11:15:52.548881Z",
     "iopub.status.busy": "2023-03-08T11:15:52.548295Z",
     "iopub.status.idle": "2023-03-08T11:15:52.571443Z",
     "shell.execute_reply": "2023-03-08T11:15:52.570433Z"
    },
    "papermill": {
     "duration": 0.041089,
     "end_time": "2023-03-08T11:15:52.573421",
     "exception": false,
     "start_time": "2023-03-08T11:15:52.532332",
     "status": "completed"
    },
    "tags": []
   },
   "outputs": [],
   "source": [
    "acc = accuracy_score(y_test, y_pred)\n",
    "pre = precision_score(y_test, y_pred, average=avg_par)\n",
    "rec = recall_score(y_test, y_pred, average=avg_par)\n",
    "f1 = f1_score(y_test, y_pred, average=avg_par)\n",
    "\n",
    "metrics_data['KNN']['DTW'] = {'Accuracy': acc, 'Precision': pre, 'Recall': rec, 'F1': f1}"
   ]
  },
  {
   "cell_type": "markdown",
   "id": "e0e700a7",
   "metadata": {
    "papermill": {
     "duration": 0.022578,
     "end_time": "2023-03-08T11:15:52.624884",
     "exception": false,
     "start_time": "2023-03-08T11:15:52.602306",
     "status": "completed"
    },
    "tags": []
   },
   "source": [
    "## Overall Results"
   ]
  },
  {
   "cell_type": "code",
   "execution_count": 68,
   "id": "d003c193",
   "metadata": {
    "execution": {
     "iopub.execute_input": "2023-03-08T11:15:52.655817Z",
     "iopub.status.busy": "2023-03-08T11:15:52.655331Z",
     "iopub.status.idle": "2023-03-08T11:15:52.666657Z",
     "shell.execute_reply": "2023-03-08T11:15:52.665218Z"
    },
    "papermill": {
     "duration": 0.029319,
     "end_time": "2023-03-08T11:15:52.668670",
     "exception": false,
     "start_time": "2023-03-08T11:15:52.639351",
     "status": "completed"
    },
    "tags": []
   },
   "outputs": [],
   "source": [
    "metrics_data = pd.DataFrame.from_dict({(i,j): metrics_data[i][j] \n",
    "                                       for i in metrics_data.keys() \n",
    "                                       for j in metrics_data[i].keys()},\n",
    "                                       orient='index')"
   ]
  },
  {
   "cell_type": "code",
   "execution_count": 69,
   "id": "0944fe84",
   "metadata": {
    "execution": {
     "iopub.execute_input": "2023-03-08T11:15:52.702062Z",
     "iopub.status.busy": "2023-03-08T11:15:52.701621Z",
     "iopub.status.idle": "2023-03-08T11:15:52.728854Z",
     "shell.execute_reply": "2023-03-08T11:15:52.727502Z"
    },
    "papermill": {
     "duration": 0.045522,
     "end_time": "2023-03-08T11:15:52.731046",
     "exception": false,
     "start_time": "2023-03-08T11:15:52.685524",
     "status": "completed"
    },
    "tags": []
   },
   "outputs": [],
   "source": [
    "acc = accuracy_score(y_test, y_pred)\n",
    "pre = precision_score(y_test, y_pred, average=avg_par)\n",
    "rec = recall_score(y_test, y_pred, average=avg_par)\n",
    "f1 = f1_score(y_test, y_pred, average=avg_par)"
   ]
  },
  {
   "cell_type": "code",
   "execution_count": 70,
   "id": "7ee1b347",
   "metadata": {
    "execution": {
     "iopub.execute_input": "2023-03-08T11:15:52.764441Z",
     "iopub.status.busy": "2023-03-08T11:15:52.763889Z",
     "iopub.status.idle": "2023-03-08T11:15:52.782877Z",
     "shell.execute_reply": "2023-03-08T11:15:52.782078Z"
    },
    "papermill": {
     "duration": 0.037741,
     "end_time": "2023-03-08T11:15:52.785772",
     "exception": false,
     "start_time": "2023-03-08T11:15:52.748031",
     "status": "completed"
    },
    "tags": []
   },
   "outputs": [
    {
     "data": {
      "text/html": [
       "<div>\n",
       "<style scoped>\n",
       "    .dataframe tbody tr th:only-of-type {\n",
       "        vertical-align: middle;\n",
       "    }\n",
       "\n",
       "    .dataframe tbody tr th {\n",
       "        vertical-align: top;\n",
       "    }\n",
       "\n",
       "    .dataframe thead th {\n",
       "        text-align: right;\n",
       "    }\n",
       "</style>\n",
       "<table border=\"1\" class=\"dataframe\">\n",
       "  <thead>\n",
       "    <tr style=\"text-align: right;\">\n",
       "      <th></th>\n",
       "      <th></th>\n",
       "      <th>Accuracy</th>\n",
       "      <th>Precision</th>\n",
       "      <th>Recall</th>\n",
       "      <th>F1</th>\n",
       "    </tr>\n",
       "  </thead>\n",
       "  <tbody>\n",
       "    <tr>\n",
       "      <th rowspan=\"3\" valign=\"top\">Global</th>\n",
       "      <th>DecisionTree</th>\n",
       "      <td>0.650704</td>\n",
       "      <td>0.587365</td>\n",
       "      <td>0.588792</td>\n",
       "      <td>0.583819</td>\n",
       "    </tr>\n",
       "    <tr>\n",
       "      <th>RandomForest</th>\n",
       "      <td>0.870423</td>\n",
       "      <td>0.896344</td>\n",
       "      <td>0.779108</td>\n",
       "      <td>0.799224</td>\n",
       "    </tr>\n",
       "    <tr>\n",
       "      <th>LightGBM</th>\n",
       "      <td>0.876056</td>\n",
       "      <td>0.821129</td>\n",
       "      <td>0.800624</td>\n",
       "      <td>0.808479</td>\n",
       "    </tr>\n",
       "    <tr>\n",
       "      <th rowspan=\"3\" valign=\"top\">Shapelets</th>\n",
       "      <th>DecisionTree</th>\n",
       "      <td>0.292958</td>\n",
       "      <td>0.274887</td>\n",
       "      <td>0.273739</td>\n",
       "      <td>0.273972</td>\n",
       "    </tr>\n",
       "    <tr>\n",
       "      <th>RandomForest</th>\n",
       "      <td>0.394366</td>\n",
       "      <td>0.514460</td>\n",
       "      <td>0.359334</td>\n",
       "      <td>0.363733</td>\n",
       "    </tr>\n",
       "    <tr>\n",
       "      <th>LightGBM</th>\n",
       "      <td>0.357746</td>\n",
       "      <td>0.473115</td>\n",
       "      <td>0.334111</td>\n",
       "      <td>0.341458</td>\n",
       "    </tr>\n",
       "    <tr>\n",
       "      <th rowspan=\"2\" valign=\"top\">KNN</th>\n",
       "      <th>Euclidean</th>\n",
       "      <td>0.245070</td>\n",
       "      <td>0.224851</td>\n",
       "      <td>0.292241</td>\n",
       "      <td>0.226294</td>\n",
       "    </tr>\n",
       "    <tr>\n",
       "      <th>DTW</th>\n",
       "      <td>0.321127</td>\n",
       "      <td>0.298306</td>\n",
       "      <td>0.334225</td>\n",
       "      <td>0.307971</td>\n",
       "    </tr>\n",
       "  </tbody>\n",
       "</table>\n",
       "</div>"
      ],
      "text/plain": [
       "                        Accuracy  Precision    Recall        F1\n",
       "Global    DecisionTree  0.650704   0.587365  0.588792  0.583819\n",
       "          RandomForest  0.870423   0.896344  0.779108  0.799224\n",
       "          LightGBM      0.876056   0.821129  0.800624  0.808479\n",
       "Shapelets DecisionTree  0.292958   0.274887  0.273739  0.273972\n",
       "          RandomForest  0.394366   0.514460  0.359334  0.363733\n",
       "          LightGBM      0.357746   0.473115  0.334111  0.341458\n",
       "KNN       Euclidean     0.245070   0.224851  0.292241  0.226294\n",
       "          DTW           0.321127   0.298306  0.334225  0.307971"
      ]
     },
     "execution_count": 70,
     "metadata": {},
     "output_type": "execute_result"
    }
   ],
   "source": [
    "metrics_data"
   ]
  },
  {
   "cell_type": "code",
   "execution_count": 71,
   "id": "3efc173e",
   "metadata": {
    "execution": {
     "iopub.execute_input": "2023-03-08T11:15:52.820605Z",
     "iopub.status.busy": "2023-03-08T11:15:52.820174Z",
     "iopub.status.idle": "2023-03-08T11:15:52.829721Z",
     "shell.execute_reply": "2023-03-08T11:15:52.828685Z"
    },
    "papermill": {
     "duration": 0.028811,
     "end_time": "2023-03-08T11:15:52.831884",
     "exception": false,
     "start_time": "2023-03-08T11:15:52.803073",
     "status": "completed"
    },
    "tags": []
   },
   "outputs": [],
   "source": [
    "metrics_data.to_csv(f'{data_path}/metrics.csv')"
   ]
  },
  {
   "cell_type": "code",
   "execution_count": null,
   "id": "d21f5304",
   "metadata": {
    "papermill": {
     "duration": 0.014637,
     "end_time": "2023-03-08T11:15:52.862286",
     "exception": false,
     "start_time": "2023-03-08T11:15:52.847649",
     "status": "completed"
    },
    "tags": []
   },
   "outputs": [],
   "source": []
  }
 ],
 "metadata": {
  "celltoolbar": "Tags",
  "kernelspec": {
   "display_name": "Python 3 (ipykernel)",
   "language": "python",
   "name": "python3"
  },
  "language_info": {
   "codemirror_mode": {
    "name": "ipython",
    "version": 3
   },
   "file_extension": ".py",
   "mimetype": "text/x-python",
   "name": "python",
   "nbconvert_exporter": "python",
   "pygments_lexer": "ipython3",
   "version": "3.9.16"
  },
  "papermill": {
   "default_parameters": {},
   "duration": 260.679569,
   "end_time": "2023-03-08T11:15:55.572033",
   "environment_variables": {},
   "exception": null,
   "input_path": "09_ts_classification.ipynb",
   "output_path": "../clf-reports/20ng_sbert.ipynb",
   "parameters": {
    "data_path": "/home/mattiapggioli/lyrics2ts/data/classification/20ng/sbert/"
   },
   "start_time": "2023-03-08T11:11:34.892464",
   "version": "2.4.0"
  },
  "vscode": {
   "interpreter": {
    "hash": "eb8d1ded7c87c6f9c253b40add648304d6b51d2e38393955e855effc7e6f899a"
   }
  }
 },
 "nbformat": 4,
 "nbformat_minor": 5
}