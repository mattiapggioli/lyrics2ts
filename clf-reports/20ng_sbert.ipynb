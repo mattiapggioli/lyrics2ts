{
 "cells": [
  {
   "cell_type": "markdown",
   "id": "d79a68c5",
   "metadata": {
    "papermill": {
     "duration": 0.028594,
     "end_time": "2023-03-08T10:27:05.860973",
     "exception": false,
     "start_time": "2023-03-08T10:27:05.832379",
     "status": "completed"
    },
    "tags": []
   },
   "source": [
    "# Time Series Classification"
   ]
  },
  {
   "cell_type": "code",
   "execution_count": 1,
   "id": "8a0cb2b0",
   "metadata": {
    "execution": {
     "iopub.execute_input": "2023-03-08T10:27:05.918600Z",
     "iopub.status.busy": "2023-03-08T10:27:05.918319Z",
     "iopub.status.idle": "2023-03-08T10:27:07.693186Z",
     "shell.execute_reply": "2023-03-08T10:27:07.692446Z"
    },
    "papermill": {
     "duration": 1.803983,
     "end_time": "2023-03-08T10:27:07.695560",
     "exception": false,
     "start_time": "2023-03-08T10:27:05.891577",
     "status": "completed"
    },
    "tags": []
   },
   "outputs": [],
   "source": [
    "%matplotlib inline\n",
    "import pandas as pd\n",
    "import numpy as np\n",
    "import matplotlib.pyplot as plt\n",
    "import seaborn as sns\n",
    "import re\n",
    "import os\n",
    "from sklearn.preprocessing import StandardScaler\n",
    "from sklearn.decomposition import PCA\n",
    "import joblib\n",
    "from tslearn.utils import to_time_series_dataset, save_time_series_txt, load_time_series_txt\n",
    "import random\n",
    "from sklearn.model_selection import train_test_split\n",
    "from sklearn.metrics import accuracy_score, f1_score, precision_score, recall_score, classification_report\n",
    "import pickle"
   ]
  },
  {
   "cell_type": "code",
   "execution_count": 2,
   "id": "acc03405",
   "metadata": {
    "execution": {
     "iopub.execute_input": "2023-03-08T10:27:07.757633Z",
     "iopub.status.busy": "2023-03-08T10:27:07.756768Z",
     "iopub.status.idle": "2023-03-08T10:27:07.764569Z",
     "shell.execute_reply": "2023-03-08T10:27:07.762870Z"
    },
    "papermill": {
     "duration": 0.0414,
     "end_time": "2023-03-08T10:27:07.767286",
     "exception": false,
     "start_time": "2023-03-08T10:27:07.725886",
     "status": "completed"
    },
    "tags": [
     "parameters"
    ]
   },
   "outputs": [],
   "source": [
    "data_path = '/home/mattiapggioli/lyrics2ts/data/classification/20ng/sbert/'\n",
    "truncate=100\n",
    "max_iter = 2000\n",
    "paa_window_size = None\n",
    "undersampling = None"
   ]
  },
  {
   "cell_type": "code",
   "execution_count": 3,
   "id": "8bf00fdc",
   "metadata": {
    "execution": {
     "iopub.execute_input": "2023-03-08T10:27:07.791532Z",
     "iopub.status.busy": "2023-03-08T10:27:07.791070Z",
     "iopub.status.idle": "2023-03-08T10:27:07.796340Z",
     "shell.execute_reply": "2023-03-08T10:27:07.795320Z"
    },
    "papermill": {
     "duration": 0.018703,
     "end_time": "2023-03-08T10:27:07.798008",
     "exception": false,
     "start_time": "2023-03-08T10:27:07.779305",
     "status": "completed"
    },
    "tags": [
     "injected-parameters"
    ]
   },
   "outputs": [],
   "source": [
    "# Parameters\n",
    "data_path = \"/home/mattiapggioli/lyrics2ts/data/classification/20ng/sbert/\"\n",
    "paa_window_size = 5\n"
   ]
  },
  {
   "cell_type": "code",
   "execution_count": 4,
   "id": "a4f0c774",
   "metadata": {
    "execution": {
     "iopub.execute_input": "2023-03-08T10:27:07.820376Z",
     "iopub.status.busy": "2023-03-08T10:27:07.819926Z",
     "iopub.status.idle": "2023-03-08T10:27:25.736956Z",
     "shell.execute_reply": "2023-03-08T10:27:25.736036Z"
    },
    "papermill": {
     "duration": 17.931707,
     "end_time": "2023-03-08T10:27:25.740165",
     "exception": false,
     "start_time": "2023-03-08T10:27:07.808458",
     "status": "completed"
    },
    "tags": []
   },
   "outputs": [],
   "source": [
    "ts = load_time_series_txt(f'{data_path}/ts.txt')"
   ]
  },
  {
   "cell_type": "code",
   "execution_count": 5,
   "id": "5c48d154",
   "metadata": {
    "execution": {
     "iopub.execute_input": "2023-03-08T10:27:25.799439Z",
     "iopub.status.busy": "2023-03-08T10:27:25.799080Z",
     "iopub.status.idle": "2023-03-08T10:27:25.807449Z",
     "shell.execute_reply": "2023-03-08T10:27:25.805917Z"
    },
    "papermill": {
     "duration": 0.039696,
     "end_time": "2023-03-08T10:27:25.809474",
     "exception": false,
     "start_time": "2023-03-08T10:27:25.769778",
     "status": "completed"
    },
    "tags": []
   },
   "outputs": [
    {
     "data": {
      "text/plain": [
       "(1775, 1210, 1)"
      ]
     },
     "execution_count": 5,
     "metadata": {},
     "output_type": "execute_result"
    }
   ],
   "source": [
    "ts.shape"
   ]
  },
  {
   "cell_type": "code",
   "execution_count": 6,
   "id": "f6274d40",
   "metadata": {
    "execution": {
     "iopub.execute_input": "2023-03-08T10:27:25.833464Z",
     "iopub.status.busy": "2023-03-08T10:27:25.832689Z",
     "iopub.status.idle": "2023-03-08T10:27:25.840634Z",
     "shell.execute_reply": "2023-03-08T10:27:25.839294Z"
    },
    "papermill": {
     "duration": 0.021474,
     "end_time": "2023-03-08T10:27:25.842481",
     "exception": false,
     "start_time": "2023-03-08T10:27:25.821007",
     "status": "completed"
    },
    "tags": []
   },
   "outputs": [],
   "source": [
    "with open(f'{data_path}/y_class.npy', 'rb') as f:\n",
    "    y = np.load(f, allow_pickle=True)"
   ]
  },
  {
   "cell_type": "code",
   "execution_count": 7,
   "id": "9d42fa3b",
   "metadata": {
    "execution": {
     "iopub.execute_input": "2023-03-08T10:27:25.865176Z",
     "iopub.status.busy": "2023-03-08T10:27:25.864709Z",
     "iopub.status.idle": "2023-03-08T10:27:25.877053Z",
     "shell.execute_reply": "2023-03-08T10:27:25.876303Z"
    },
    "papermill": {
     "duration": 0.025984,
     "end_time": "2023-03-08T10:27:25.879210",
     "exception": false,
     "start_time": "2023-03-08T10:27:25.853226",
     "status": "completed"
    },
    "tags": []
   },
   "outputs": [],
   "source": [
    "with open(f'{data_path}/X.npy', 'rb') as f:\n",
    "    X = np.load(f, allow_pickle=True)"
   ]
  },
  {
   "cell_type": "code",
   "execution_count": 8,
   "id": "1158a9da",
   "metadata": {
    "execution": {
     "iopub.execute_input": "2023-03-08T10:27:25.903946Z",
     "iopub.status.busy": "2023-03-08T10:27:25.903189Z",
     "iopub.status.idle": "2023-03-08T10:27:25.909409Z",
     "shell.execute_reply": "2023-03-08T10:27:25.908637Z"
    },
    "papermill": {
     "duration": 0.019373,
     "end_time": "2023-03-08T10:27:25.911118",
     "exception": false,
     "start_time": "2023-03-08T10:27:25.891745",
     "status": "completed"
    },
    "tags": []
   },
   "outputs": [
    {
     "data": {
      "text/plain": [
       "(1775, 384)"
      ]
     },
     "execution_count": 8,
     "metadata": {},
     "output_type": "execute_result"
    }
   ],
   "source": [
    "X.shape"
   ]
  },
  {
   "cell_type": "code",
   "execution_count": 9,
   "id": "47239790",
   "metadata": {
    "execution": {
     "iopub.execute_input": "2023-03-08T10:27:25.933314Z",
     "iopub.status.busy": "2023-03-08T10:27:25.933068Z",
     "iopub.status.idle": "2023-03-08T10:27:25.938297Z",
     "shell.execute_reply": "2023-03-08T10:27:25.937396Z"
    },
    "papermill": {
     "duration": 0.018416,
     "end_time": "2023-03-08T10:27:25.939967",
     "exception": false,
     "start_time": "2023-03-08T10:27:25.921551",
     "status": "completed"
    },
    "tags": []
   },
   "outputs": [
    {
     "data": {
      "text/plain": [
       "{'comp', 'misc', 'rec', 'religion', 'sci', 'talk'}"
      ]
     },
     "execution_count": 9,
     "metadata": {},
     "output_type": "execute_result"
    }
   ],
   "source": [
    "set(y)"
   ]
  },
  {
   "cell_type": "code",
   "execution_count": 10,
   "id": "37609992",
   "metadata": {
    "execution": {
     "iopub.execute_input": "2023-03-08T10:27:25.962540Z",
     "iopub.status.busy": "2023-03-08T10:27:25.962267Z",
     "iopub.status.idle": "2023-03-08T10:27:25.973135Z",
     "shell.execute_reply": "2023-03-08T10:27:25.972257Z"
    },
    "papermill": {
     "duration": 0.024033,
     "end_time": "2023-03-08T10:27:25.974816",
     "exception": false,
     "start_time": "2023-03-08T10:27:25.950783",
     "status": "completed"
    },
    "tags": []
   },
   "outputs": [],
   "source": [
    "ts_train, ts_test, y_train, y_test = train_test_split(ts, y, test_size=0.20, random_state=42)"
   ]
  },
  {
   "cell_type": "code",
   "execution_count": 11,
   "id": "34508fe4",
   "metadata": {
    "execution": {
     "iopub.execute_input": "2023-03-08T10:27:25.997211Z",
     "iopub.status.busy": "2023-03-08T10:27:25.996963Z",
     "iopub.status.idle": "2023-03-08T10:27:26.003003Z",
     "shell.execute_reply": "2023-03-08T10:27:26.002158Z"
    },
    "papermill": {
     "duration": 0.018848,
     "end_time": "2023-03-08T10:27:26.004541",
     "exception": false,
     "start_time": "2023-03-08T10:27:25.985693",
     "status": "completed"
    },
    "tags": []
   },
   "outputs": [],
   "source": [
    "X_train, X_test, y_train, y_test = train_test_split(X, y, test_size=0.20, random_state=42)"
   ]
  },
  {
   "cell_type": "code",
   "execution_count": 12,
   "id": "076afac9",
   "metadata": {
    "execution": {
     "iopub.execute_input": "2023-03-08T10:27:26.026982Z",
     "iopub.status.busy": "2023-03-08T10:27:26.026732Z",
     "iopub.status.idle": "2023-03-08T10:27:26.032922Z",
     "shell.execute_reply": "2023-03-08T10:27:26.032145Z"
    },
    "papermill": {
     "duration": 0.019245,
     "end_time": "2023-03-08T10:27:26.034609",
     "exception": false,
     "start_time": "2023-03-08T10:27:26.015364",
     "status": "completed"
    },
    "tags": []
   },
   "outputs": [
    {
     "data": {
      "text/plain": [
       "array([[ 0.23915782],\n",
       "       [-0.1234894 ],\n",
       "       [-0.22106318],\n",
       "       ...,\n",
       "       [        nan],\n",
       "       [        nan],\n",
       "       [        nan]])"
      ]
     },
     "execution_count": 12,
     "metadata": {},
     "output_type": "execute_result"
    }
   ],
   "source": [
    "random.choice(ts_train)"
   ]
  },
  {
   "cell_type": "code",
   "execution_count": 13,
   "id": "ca66457a",
   "metadata": {
    "execution": {
     "iopub.execute_input": "2023-03-08T10:27:26.057462Z",
     "iopub.status.busy": "2023-03-08T10:27:26.057193Z",
     "iopub.status.idle": "2023-03-08T10:27:26.537790Z",
     "shell.execute_reply": "2023-03-08T10:27:26.537111Z"
    },
    "papermill": {
     "duration": 0.495871,
     "end_time": "2023-03-08T10:27:26.541173",
     "exception": false,
     "start_time": "2023-03-08T10:27:26.045302",
     "status": "completed"
    },
    "tags": []
   },
   "outputs": [
    {
     "data": {
      "text/plain": [
       "<AxesSubplot:ylabel='Count'>"
      ]
     },
     "execution_count": 13,
     "metadata": {},
     "output_type": "execute_result"
    },
    {
     "data": {
      "image/png": "[encoded data removed]",
      "text/plain": [
       "<Figure size 640x480 with 1 Axes>"
      ]
     },
     "metadata": {},
     "output_type": "display_data"
    }
   ],
   "source": [
    "sns.histplot([t[~np.any(np.isnan(t), axis=1)].shape[0] for t in ts_train])"
   ]
  },
  {
   "cell_type": "code",
   "execution_count": 14,
   "id": "c2ae286f",
   "metadata": {
    "execution": {
     "iopub.execute_input": "2023-03-08T10:27:26.606113Z",
     "iopub.status.busy": "2023-03-08T10:27:26.605170Z",
     "iopub.status.idle": "2023-03-08T10:27:26.611401Z",
     "shell.execute_reply": "2023-03-08T10:27:26.609995Z"
    },
    "papermill": {
     "duration": 0.04193,
     "end_time": "2023-03-08T10:27:26.614527",
     "exception": false,
     "start_time": "2023-03-08T10:27:26.572597",
     "status": "completed"
    },
    "tags": []
   },
   "outputs": [],
   "source": [
    "ts_train = ts_train[:, :truncate, :]\n",
    "ts_test = ts_test[:, :truncate, :]"
   ]
  },
  {
   "cell_type": "code",
   "execution_count": 15,
   "id": "3218baa4",
   "metadata": {
    "execution": {
     "iopub.execute_input": "2023-03-08T10:27:26.653870Z",
     "iopub.status.busy": "2023-03-08T10:27:26.653380Z",
     "iopub.status.idle": "2023-03-08T10:27:26.669528Z",
     "shell.execute_reply": "2023-03-08T10:27:26.667995Z"
    },
    "papermill": {
     "duration": 0.030403,
     "end_time": "2023-03-08T10:27:26.671606",
     "exception": false,
     "start_time": "2023-03-08T10:27:26.641203",
     "status": "completed"
    },
    "tags": []
   },
   "outputs": [],
   "source": [
    "mean_arr = np.nanmean(ts_train, axis=1, keepdims=True)\n",
    "nan_indices = np.isnan(ts_train)\n",
    "ts_train[nan_indices] = np.take(mean_arr, np.nonzero(nan_indices)[0])\n",
    "\n",
    "mean_arr = np.nanmean(ts_test, axis=1, keepdims=True)\n",
    "nan_indices = np.isnan(ts_test)\n",
    "ts_test[nan_indices] = np.take(mean_arr, np.nonzero(nan_indices)[0])"
   ]
  },
  {
   "cell_type": "code",
   "execution_count": 16,
   "id": "d369691b",
   "metadata": {
    "execution": {
     "iopub.execute_input": "2023-03-08T10:27:26.697842Z",
     "iopub.status.busy": "2023-03-08T10:27:26.697352Z",
     "iopub.status.idle": "2023-03-08T10:27:26.706374Z",
     "shell.execute_reply": "2023-03-08T10:27:26.705038Z"
    },
    "papermill": {
     "duration": 0.023202,
     "end_time": "2023-03-08T10:27:26.708335",
     "exception": false,
     "start_time": "2023-03-08T10:27:26.685133",
     "status": "completed"
    },
    "tags": []
   },
   "outputs": [
    {
     "data": {
      "text/plain": [
       "0"
      ]
     },
     "execution_count": 16,
     "metadata": {},
     "output_type": "execute_result"
    }
   ],
   "source": [
    "np.count_nonzero(np.isnan(X_train))"
   ]
  },
  {
   "cell_type": "code",
   "execution_count": 17,
   "id": "0d602e18",
   "metadata": {
    "execution": {
     "iopub.execute_input": "2023-03-08T10:27:26.733386Z",
     "iopub.status.busy": "2023-03-08T10:27:26.732293Z",
     "iopub.status.idle": "2023-03-08T10:27:26.740086Z",
     "shell.execute_reply": "2023-03-08T10:27:26.738777Z"
    },
    "papermill": {
     "duration": 0.022404,
     "end_time": "2023-03-08T10:27:26.742038",
     "exception": false,
     "start_time": "2023-03-08T10:27:26.719634",
     "status": "completed"
    },
    "tags": []
   },
   "outputs": [],
   "source": [
    "X_train[np.isnan(X_train)] = 0\n",
    "X_test[np.isnan(X_test)] = 0"
   ]
  },
  {
   "cell_type": "code",
   "execution_count": 18,
   "id": "45c5102c",
   "metadata": {
    "execution": {
     "iopub.execute_input": "2023-03-08T10:27:26.767222Z",
     "iopub.status.busy": "2023-03-08T10:27:26.766211Z",
     "iopub.status.idle": "2023-03-08T10:27:27.064593Z",
     "shell.execute_reply": "2023-03-08T10:27:27.063662Z"
    },
    "papermill": {
     "duration": 0.314281,
     "end_time": "2023-03-08T10:27:27.067554",
     "exception": false,
     "start_time": "2023-03-08T10:27:26.753273",
     "status": "completed"
    },
    "tags": []
   },
   "outputs": [],
   "source": [
    "save_time_series_txt(f'{data_path}/ts_train.txt', ts_train)\n",
    "save_time_series_txt(f'{data_path}/ts_test.txt', ts_test)"
   ]
  },
  {
   "cell_type": "code",
   "execution_count": 19,
   "id": "39830f37",
   "metadata": {
    "execution": {
     "iopub.execute_input": "2023-03-08T10:27:27.134633Z",
     "iopub.status.busy": "2023-03-08T10:27:27.134234Z",
     "iopub.status.idle": "2023-03-08T10:27:27.146148Z",
     "shell.execute_reply": "2023-03-08T10:27:27.145534Z"
    },
    "papermill": {
     "duration": 0.049171,
     "end_time": "2023-03-08T10:27:27.149035",
     "exception": false,
     "start_time": "2023-03-08T10:27:27.099864",
     "status": "completed"
    },
    "tags": []
   },
   "outputs": [],
   "source": [
    "with open(f'{data_path}/X_train.npy', 'wb') as f:\n",
    "    np.save(f, X_train, allow_pickle=True)\n",
    "\n",
    "with open(f'{data_path}/X_test.npy', 'wb') as f:\n",
    "    np.save(f, X_test, allow_pickle=True)"
   ]
  },
  {
   "cell_type": "code",
   "execution_count": 20,
   "id": "795fd2be",
   "metadata": {
    "execution": {
     "iopub.execute_input": "2023-03-08T10:27:27.194001Z",
     "iopub.status.busy": "2023-03-08T10:27:27.193544Z",
     "iopub.status.idle": "2023-03-08T10:27:27.201524Z",
     "shell.execute_reply": "2023-03-08T10:27:27.200416Z"
    },
    "papermill": {
     "duration": 0.023773,
     "end_time": "2023-03-08T10:27:27.203351",
     "exception": false,
     "start_time": "2023-03-08T10:27:27.179578",
     "status": "completed"
    },
    "tags": []
   },
   "outputs": [],
   "source": [
    "with open(f'{data_path}/y_train.npy', 'wb') as f:\n",
    "    np.save(f, y_train, allow_pickle=True)\n",
    "\n",
    "with open(f'{data_path}/y_test.npy', 'wb') as f:\n",
    "    np.save(f, y_test, allow_pickle=True)"
   ]
  },
  {
   "cell_type": "code",
   "execution_count": 21,
   "id": "08bda153",
   "metadata": {
    "execution": {
     "iopub.execute_input": "2023-03-08T10:27:27.228003Z",
     "iopub.status.busy": "2023-03-08T10:27:27.227218Z",
     "iopub.status.idle": "2023-03-08T10:27:27.395446Z",
     "shell.execute_reply": "2023-03-08T10:27:27.394348Z"
    },
    "papermill": {
     "duration": 0.18249,
     "end_time": "2023-03-08T10:27:27.397308",
     "exception": false,
     "start_time": "2023-03-08T10:27:27.214818",
     "status": "completed"
    },
    "tags": []
   },
   "outputs": [
    {
     "data": {
      "text/plain": [
       "[<matplotlib.lines.Line2D at 0x7f85650eba00>]"
      ]
     },
     "execution_count": 21,
     "metadata": {},
     "output_type": "execute_result"
    },
    {
     "data": {
      "image/png": "[encoded data removed]",
      "text/plain": [
       "<Figure size 640x480 with 1 Axes>"
      ]
     },
     "metadata": {},
     "output_type": "display_data"
    }
   ],
   "source": [
    "plt.plot(random.choice(ts_train))"
   ]
  },
  {
   "cell_type": "code",
   "execution_count": 22,
   "id": "98ce9d63",
   "metadata": {
    "execution": {
     "iopub.execute_input": "2023-03-08T10:27:27.422979Z",
     "iopub.status.busy": "2023-03-08T10:27:27.422703Z",
     "iopub.status.idle": "2023-03-08T10:27:27.427403Z",
     "shell.execute_reply": "2023-03-08T10:27:27.426502Z"
    },
    "papermill": {
     "duration": 0.019218,
     "end_time": "2023-03-08T10:27:27.428809",
     "exception": false,
     "start_time": "2023-03-08T10:27:27.409591",
     "status": "completed"
    },
    "tags": []
   },
   "outputs": [],
   "source": [
    "# Parameters that require knowing if it's binary or multiclass (LightGBM, metrics)\n",
    "if len(set(y)) == 2:\n",
    "    avg_par = 'binary'\n",
    "    obj_par = 'binary'\n",
    "elif len(set(y)) > 2:\n",
    "    avg_par = 'macro'\n",
    "    obj_par = 'multiclass'"
   ]
  },
  {
   "cell_type": "markdown",
   "id": "228f1b39",
   "metadata": {
    "papermill": {
     "duration": 0.011299,
     "end_time": "2023-03-08T10:27:27.451582",
     "exception": false,
     "start_time": "2023-03-08T10:27:27.440283",
     "status": "completed"
    },
    "tags": []
   },
   "source": [
    "## Classification"
   ]
  },
  {
   "cell_type": "code",
   "execution_count": 23,
   "id": "34bb73ff",
   "metadata": {
    "execution": {
     "iopub.execute_input": "2023-03-08T10:27:27.476104Z",
     "iopub.status.busy": "2023-03-08T10:27:27.475572Z",
     "iopub.status.idle": "2023-03-08T10:27:27.524555Z",
     "shell.execute_reply": "2023-03-08T10:27:27.523765Z"
    },
    "papermill": {
     "duration": 0.063231,
     "end_time": "2023-03-08T10:27:27.526382",
     "exception": false,
     "start_time": "2023-03-08T10:27:27.463151",
     "status": "completed"
    },
    "tags": []
   },
   "outputs": [],
   "source": [
    "from sklearn.tree import DecisionTreeClassifier\n",
    "import lightgbm as lgbm\n",
    "from sklearn.ensemble import RandomForestClassifier"
   ]
  },
  {
   "cell_type": "code",
   "execution_count": 24,
   "id": "02aaee18",
   "metadata": {
    "execution": {
     "iopub.execute_input": "2023-03-08T10:27:27.551225Z",
     "iopub.status.busy": "2023-03-08T10:27:27.550950Z",
     "iopub.status.idle": "2023-03-08T10:27:27.554896Z",
     "shell.execute_reply": "2023-03-08T10:27:27.554004Z"
    },
    "papermill": {
     "duration": 0.018872,
     "end_time": "2023-03-08T10:27:27.557646",
     "exception": false,
     "start_time": "2023-03-08T10:27:27.538774",
     "status": "completed"
    },
    "tags": []
   },
   "outputs": [],
   "source": [
    "metrics_data = {}"
   ]
  },
  {
   "cell_type": "markdown",
   "id": "b49309ed",
   "metadata": {
    "papermill": {
     "duration": 0.018427,
     "end_time": "2023-03-08T10:27:27.605634",
     "exception": false,
     "start_time": "2023-03-08T10:27:27.587207",
     "status": "completed"
    },
    "tags": []
   },
   "source": [
    "### Baseline: global features (No Time Series)"
   ]
  },
  {
   "cell_type": "code",
   "execution_count": 25,
   "id": "35eb9f66",
   "metadata": {
    "execution": {
     "iopub.execute_input": "2023-03-08T10:27:27.629358Z",
     "iopub.status.busy": "2023-03-08T10:27:27.629087Z",
     "iopub.status.idle": "2023-03-08T10:27:27.633109Z",
     "shell.execute_reply": "2023-03-08T10:27:27.632230Z"
    },
    "papermill": {
     "duration": 0.017835,
     "end_time": "2023-03-08T10:27:27.634660",
     "exception": false,
     "start_time": "2023-03-08T10:27:27.616825",
     "status": "completed"
    },
    "tags": []
   },
   "outputs": [],
   "source": [
    "metrics_data['Global'] = {}"
   ]
  },
  {
   "cell_type": "markdown",
   "id": "29cd5044",
   "metadata": {
    "papermill": {
     "duration": 0.011263,
     "end_time": "2023-03-08T10:27:27.657258",
     "exception": false,
     "start_time": "2023-03-08T10:27:27.645995",
     "status": "completed"
    },
    "tags": []
   },
   "source": [
    "**Decision Tree**"
   ]
  },
  {
   "cell_type": "code",
   "execution_count": 26,
   "id": "9ef4f037",
   "metadata": {
    "execution": {
     "iopub.execute_input": "2023-03-08T10:27:27.681054Z",
     "iopub.status.busy": "2023-03-08T10:27:27.680790Z",
     "iopub.status.idle": "2023-03-08T10:27:28.083588Z",
     "shell.execute_reply": "2023-03-08T10:27:28.082551Z"
    },
    "papermill": {
     "duration": 0.41677,
     "end_time": "2023-03-08T10:27:28.085298",
     "exception": false,
     "start_time": "2023-03-08T10:27:27.668528",
     "status": "completed"
    },
    "tags": []
   },
   "outputs": [
    {
     "data": {
      "text/html": [
       "<style>#sk-container-id-1 {color: black;background-color: white;}#sk-container-id-1 pre{padding: 0;}#sk-container-id-1 div.sk-toggleable {background-color: white;}#sk-container-id-1 label.sk-toggleable__label {cursor: pointer;display: block;width: 100%;margin-bottom: 0;padding: 0.3em;box-sizing: border-box;text-align: center;}#sk-container-id-1 label.sk-toggleable__label-arrow:before {content: \"▸\";float: left;margin-right: 0.25em;color: #696969;}#sk-container-id-1 label.sk-toggleable__label-arrow:hover:before {color: black;}#sk-container-id-1 div.sk-estimator:hover label.sk-toggleable__label-arrow:before {color: black;}#sk-container-id-1 div.sk-toggleable__content {max-height: 0;max-width: 0;overflow: hidden;text-align: left;background-color: #f0f8ff;}#sk-container-id-1 div.sk-toggleable__content pre {margin: 0.2em;color: black;border-radius: 0.25em;background-color: #f0f8ff;}#sk-container-id-1 input.sk-toggleable__control:checked~div.sk-toggleable__content {max-height: 200px;max-width: 100%;overflow: auto;}#sk-container-id-1 input.sk-toggleable__control:checked~label.sk-toggleable__label-arrow:before {content: \"▾\";}#sk-container-id-1 div.sk-estimator input.sk-toggleable__control:checked~label.sk-toggleable__label {background-color: #d4ebff;}#sk-container-id-1 div.sk-label input.sk-toggleable__control:checked~label.sk-toggleable__label {background-color: #d4ebff;}#sk-container-id-1 input.sk-hidden--visually {border: 0;clip: rect(1px 1px 1px 1px);clip: rect(1px, 1px, 1px, 1px);height: 1px;margin: -1px;overflow: hidden;padding: 0;position: absolute;width: 1px;}#sk-container-id-1 div.sk-estimator {font-family: monospace;background-color: #f0f8ff;border: 1px dotted black;border-radius: 0.25em;box-sizing: border-box;margin-bottom: 0.5em;}#sk-container-id-1 div.sk-estimator:hover {background-color: #d4ebff;}#sk-container-id-1 div.sk-parallel-item::after {content: \"\";width: 100%;border-bottom: 1px solid gray;flex-grow: 1;}#sk-container-id-1 div.sk-label:hover label.sk-toggleable__label {background-color: #d4ebff;}#sk-container-id-1 div.sk-serial::before {content: \"\";position: absolute;border-left: 1px solid gray;box-sizing: border-box;top: 0;bottom: 0;left: 50%;z-index: 0;}#sk-container-id-1 div.sk-serial {display: flex;flex-direction: column;align-items: center;background-color: white;padding-right: 0.2em;padding-left: 0.2em;position: relative;}#sk-container-id-1 div.sk-item {position: relative;z-index: 1;}#sk-container-id-1 div.sk-parallel {display: flex;align-items: stretch;justify-content: center;background-color: white;position: relative;}#sk-container-id-1 div.sk-item::before, #sk-container-id-1 div.sk-parallel-item::before {content: \"\";position: absolute;border-left: 1px solid gray;box-sizing: border-box;top: 0;bottom: 0;left: 50%;z-index: -1;}#sk-container-id-1 div.sk-parallel-item {display: flex;flex-direction: column;z-index: 1;position: relative;background-color: white;}#sk-container-id-1 div.sk-parallel-item:first-child::after {align-self: flex-end;width: 50%;}#sk-container-id-1 div.sk-parallel-item:last-child::after {align-self: flex-start;width: 50%;}#sk-container-id-1 div.sk-parallel-item:only-child::after {width: 0;}#sk-container-id-1 div.sk-dashed-wrapped {border: 1px dashed gray;margin: 0 0.4em 0.5em 0.4em;box-sizing: border-box;padding-bottom: 0.4em;background-color: white;}#sk-container-id-1 div.sk-label label {font-family: monospace;font-weight: bold;display: inline-block;line-height: 1.2em;}#sk-container-id-1 div.sk-label-container {text-align: center;}#sk-container-id-1 div.sk-container {/* jupyter's `normalize.less` sets `[hidden] { display: none; }` but bootstrap.min.css set `[hidden] { display: none !important; }` so we also need the `!important` here to be able to override the default hidden behavior on the sphinx rendered scikit-learn.org. See: https://github.com/scikit-learn/scikit-learn/issues/21755 */display: inline-block !important;position: relative;}#sk-container-id-1 div.sk-text-repr-fallback {display: none;}</style><div id=\"sk-container-id-1\" class=\"sk-top-container\"><div class=\"sk-text-repr-fallback\"><pre>DecisionTreeClassifier()</pre><b>In a Jupyter environment, please rerun this cell to show the HTML representation or trust the notebook. <br />On GitHub, the HTML representation is unable to render, please try loading this page with nbviewer.org.</b></div><div class=\"sk-container\" hidden><div class=\"sk-item\"><div class=\"sk-estimator sk-toggleable\"><input class=\"sk-toggleable__control sk-hidden--visually\" id=\"sk-estimator-id-1\" type=\"checkbox\" checked><label for=\"sk-estimator-id-1\" class=\"sk-toggleable__label sk-toggleable__label-arrow\">DecisionTreeClassifier</label><div class=\"sk-toggleable__content\"><pre>DecisionTreeClassifier()</pre></div></div></div></div></div>"
      ],
      "text/plain": [
       "DecisionTreeClassifier()"
      ]
     },
     "execution_count": 26,
     "metadata": {},
     "output_type": "execute_result"
    }
   ],
   "source": [
    "clf = DecisionTreeClassifier()\n",
    "clf.fit(X_train, y_train)"
   ]
  },
  {
   "cell_type": "code",
   "execution_count": 27,
   "id": "9c50acc4",
   "metadata": {
    "execution": {
     "iopub.execute_input": "2023-03-08T10:27:28.122344Z",
     "iopub.status.busy": "2023-03-08T10:27:28.122051Z",
     "iopub.status.idle": "2023-03-08T10:27:28.149724Z",
     "shell.execute_reply": "2023-03-08T10:27:28.148123Z"
    },
    "papermill": {
     "duration": 0.047547,
     "end_time": "2023-03-08T10:27:28.153426",
     "exception": false,
     "start_time": "2023-03-08T10:27:28.105879",
     "status": "completed"
    },
    "tags": []
   },
   "outputs": [
    {
     "name": "stdout",
     "output_type": "stream",
     "text": [
      "              precision    recall  f1-score   support\n",
      "\n",
      "        comp       0.56      0.50      0.53        50\n",
      "        misc       0.17      0.25      0.20         8\n",
      "         rec       0.71      0.79      0.75        47\n",
      "    religion       0.78      0.71      0.74        83\n",
      "         sci       0.54      0.55      0.54        77\n",
      "        talk       0.67      0.69      0.68        90\n",
      "\n",
      "    accuracy                           0.64       355\n",
      "   macro avg       0.57      0.58      0.57       355\n",
      "weighted avg       0.65      0.64      0.64       355\n",
      "\n"
     ]
    }
   ],
   "source": [
    "y_pred = clf.predict(X_test)\n",
    "print(classification_report(y_test, y_pred))"
   ]
  },
  {
   "cell_type": "code",
   "execution_count": 28,
   "id": "8866c3c3",
   "metadata": {
    "execution": {
     "iopub.execute_input": "2023-03-08T10:27:28.213354Z",
     "iopub.status.busy": "2023-03-08T10:27:28.213113Z",
     "iopub.status.idle": "2023-03-08T10:27:28.225903Z",
     "shell.execute_reply": "2023-03-08T10:27:28.225099Z"
    },
    "papermill": {
     "duration": 0.043464,
     "end_time": "2023-03-08T10:27:28.227568",
     "exception": false,
     "start_time": "2023-03-08T10:27:28.184104",
     "status": "completed"
    },
    "tags": []
   },
   "outputs": [],
   "source": [
    "acc = accuracy_score(y_test, y_pred)\n",
    "pre = precision_score(y_test, y_pred, average=avg_par)\n",
    "rec = recall_score(y_test, y_pred, average=avg_par)\n",
    "f1 = f1_score(y_test, y_pred, average=avg_par)\n",
    "\n",
    "metrics_data['Global']['DecisionTree'] = {'Accuracy': acc, 'Precision': pre, 'Recall': rec, 'F1': f1}"
   ]
  },
  {
   "cell_type": "markdown",
   "id": "28aa5a63",
   "metadata": {
    "papermill": {
     "duration": 0.011612,
     "end_time": "2023-03-08T10:27:28.251055",
     "exception": false,
     "start_time": "2023-03-08T10:27:28.239443",
     "status": "completed"
    },
    "tags": []
   },
   "source": [
    "**Random Forest**"
   ]
  },
  {
   "cell_type": "code",
   "execution_count": 29,
   "id": "0e5e2310",
   "metadata": {
    "execution": {
     "iopub.execute_input": "2023-03-08T10:27:28.275988Z",
     "iopub.status.busy": "2023-03-08T10:27:28.275736Z",
     "iopub.status.idle": "2023-03-08T10:27:29.718583Z",
     "shell.execute_reply": "2023-03-08T10:27:29.717133Z"
    },
    "papermill": {
     "duration": 1.457742,
     "end_time": "2023-03-08T10:27:29.720635",
     "exception": false,
     "start_time": "2023-03-08T10:27:28.262893",
     "status": "completed"
    },
    "tags": []
   },
   "outputs": [
    {
     "data": {
      "text/html": [
       "<style>#sk-container-id-2 {color: black;background-color: white;}#sk-container-id-2 pre{padding: 0;}#sk-container-id-2 div.sk-toggleable {background-color: white;}#sk-container-id-2 label.sk-toggleable__label {cursor: pointer;display: block;width: 100%;margin-bottom: 0;padding: 0.3em;box-sizing: border-box;text-align: center;}#sk-container-id-2 label.sk-toggleable__label-arrow:before {content: \"▸\";float: left;margin-right: 0.25em;color: #696969;}#sk-container-id-2 label.sk-toggleable__label-arrow:hover:before {color: black;}#sk-container-id-2 div.sk-estimator:hover label.sk-toggleable__label-arrow:before {color: black;}#sk-container-id-2 div.sk-toggleable__content {max-height: 0;max-width: 0;overflow: hidden;text-align: left;background-color: #f0f8ff;}#sk-container-id-2 div.sk-toggleable__content pre {margin: 0.2em;color: black;border-radius: 0.25em;background-color: #f0f8ff;}#sk-container-id-2 input.sk-toggleable__control:checked~div.sk-toggleable__content {max-height: 200px;max-width: 100%;overflow: auto;}#sk-container-id-2 input.sk-toggleable__control:checked~label.sk-toggleable__label-arrow:before {content: \"▾\";}#sk-container-id-2 div.sk-estimator input.sk-toggleable__control:checked~label.sk-toggleable__label {background-color: #d4ebff;}#sk-container-id-2 div.sk-label input.sk-toggleable__control:checked~label.sk-toggleable__label {background-color: #d4ebff;}#sk-container-id-2 input.sk-hidden--visually {border: 0;clip: rect(1px 1px 1px 1px);clip: rect(1px, 1px, 1px, 1px);height: 1px;margin: -1px;overflow: hidden;padding: 0;position: absolute;width: 1px;}#sk-container-id-2 div.sk-estimator {font-family: monospace;background-color: #f0f8ff;border: 1px dotted black;border-radius: 0.25em;box-sizing: border-box;margin-bottom: 0.5em;}#sk-container-id-2 div.sk-estimator:hover {background-color: #d4ebff;}#sk-container-id-2 div.sk-parallel-item::after {content: \"\";width: 100%;border-bottom: 1px solid gray;flex-grow: 1;}#sk-container-id-2 div.sk-label:hover label.sk-toggleable__label {background-color: #d4ebff;}#sk-container-id-2 div.sk-serial::before {content: \"\";position: absolute;border-left: 1px solid gray;box-sizing: border-box;top: 0;bottom: 0;left: 50%;z-index: 0;}#sk-container-id-2 div.sk-serial {display: flex;flex-direction: column;align-items: center;background-color: white;padding-right: 0.2em;padding-left: 0.2em;position: relative;}#sk-container-id-2 div.sk-item {position: relative;z-index: 1;}#sk-container-id-2 div.sk-parallel {display: flex;align-items: stretch;justify-content: center;background-color: white;position: relative;}#sk-container-id-2 div.sk-item::before, #sk-container-id-2 div.sk-parallel-item::before {content: \"\";position: absolute;border-left: 1px solid gray;box-sizing: border-box;top: 0;bottom: 0;left: 50%;z-index: -1;}#sk-container-id-2 div.sk-parallel-item {display: flex;flex-direction: column;z-index: 1;position: relative;background-color: white;}#sk-container-id-2 div.sk-parallel-item:first-child::after {align-self: flex-end;width: 50%;}#sk-container-id-2 div.sk-parallel-item:last-child::after {align-self: flex-start;width: 50%;}#sk-container-id-2 div.sk-parallel-item:only-child::after {width: 0;}#sk-container-id-2 div.sk-dashed-wrapped {border: 1px dashed gray;margin: 0 0.4em 0.5em 0.4em;box-sizing: border-box;padding-bottom: 0.4em;background-color: white;}#sk-container-id-2 div.sk-label label {font-family: monospace;font-weight: bold;display: inline-block;line-height: 1.2em;}#sk-container-id-2 div.sk-label-container {text-align: center;}#sk-container-id-2 div.sk-container {/* jupyter's `normalize.less` sets `[hidden] { display: none; }` but bootstrap.min.css set `[hidden] { display: none !important; }` so we also need the `!important` here to be able to override the default hidden behavior on the sphinx rendered scikit-learn.org. See: https://github.com/scikit-learn/scikit-learn/issues/21755 */display: inline-block !important;position: relative;}#sk-container-id-2 div.sk-text-repr-fallback {display: none;}</style><div id=\"sk-container-id-2\" class=\"sk-top-container\"><div class=\"sk-text-repr-fallback\"><pre>RandomForestClassifier(random_state=42)</pre><b>In a Jupyter environment, please rerun this cell to show the HTML representation or trust the notebook. <br />On GitHub, the HTML representation is unable to render, please try loading this page with nbviewer.org.</b></div><div class=\"sk-container\" hidden><div class=\"sk-item\"><div class=\"sk-estimator sk-toggleable\"><input class=\"sk-toggleable__control sk-hidden--visually\" id=\"sk-estimator-id-2\" type=\"checkbox\" checked><label for=\"sk-estimator-id-2\" class=\"sk-toggleable__label sk-toggleable__label-arrow\">RandomForestClassifier</label><div class=\"sk-toggleable__content\"><pre>RandomForestClassifier(random_state=42)</pre></div></div></div></div></div>"
      ],
      "text/plain": [
       "RandomForestClassifier(random_state=42)"
      ]
     },
     "execution_count": 29,
     "metadata": {},
     "output_type": "execute_result"
    }
   ],
   "source": [
    "clf = RandomForestClassifier(random_state=42)\n",
    "clf.fit(X_train, y_train)"
   ]
  },
  {
   "cell_type": "code",
   "execution_count": 30,
   "id": "4bd1304b",
   "metadata": {
    "execution": {
     "iopub.execute_input": "2023-03-08T10:27:29.749705Z",
     "iopub.status.busy": "2023-03-08T10:27:29.749199Z",
     "iopub.status.idle": "2023-03-08T10:27:29.781624Z",
     "shell.execute_reply": "2023-03-08T10:27:29.780839Z"
    },
    "papermill": {
     "duration": 0.049587,
     "end_time": "2023-03-08T10:27:29.784029",
     "exception": false,
     "start_time": "2023-03-08T10:27:29.734442",
     "status": "completed"
    },
    "tags": []
   },
   "outputs": [
    {
     "name": "stdout",
     "output_type": "stream",
     "text": [
      "              precision    recall  f1-score   support\n",
      "\n",
      "        comp       0.82      0.90      0.86        50\n",
      "        misc       1.00      0.25      0.40         8\n",
      "         rec       0.95      0.89      0.92        47\n",
      "    religion       0.94      0.90      0.92        83\n",
      "         sci       0.84      0.81      0.82        77\n",
      "        talk       0.83      0.92      0.87        90\n",
      "\n",
      "    accuracy                           0.87       355\n",
      "   macro avg       0.90      0.78      0.80       355\n",
      "weighted avg       0.88      0.87      0.87       355\n",
      "\n"
     ]
    }
   ],
   "source": [
    "y_pred = clf.predict(X_test)\n",
    "print(classification_report(y_test, y_pred))"
   ]
  },
  {
   "cell_type": "code",
   "execution_count": 31,
   "id": "43174ba2",
   "metadata": {
    "execution": {
     "iopub.execute_input": "2023-03-08T10:27:29.839587Z",
     "iopub.status.busy": "2023-03-08T10:27:29.839281Z",
     "iopub.status.idle": "2023-03-08T10:27:29.860903Z",
     "shell.execute_reply": "2023-03-08T10:27:29.859877Z"
    },
    "papermill": {
     "duration": 0.052837,
     "end_time": "2023-03-08T10:27:29.863526",
     "exception": false,
     "start_time": "2023-03-08T10:27:29.810689",
     "status": "completed"
    },
    "tags": []
   },
   "outputs": [],
   "source": [
    "acc = accuracy_score(y_test, y_pred)\n",
    "pre = precision_score(y_test, y_pred, average=avg_par)\n",
    "rec = recall_score(y_test, y_pred, average=avg_par)\n",
    "f1 = f1_score(y_test, y_pred, average=avg_par)\n",
    "\n",
    "metrics_data['Global']['RandomForest'] = {'Accuracy': acc, 'Precision': pre, 'Recall': rec, 'F1': f1}"
   ]
  },
  {
   "cell_type": "markdown",
   "id": "22c98ac5",
   "metadata": {
    "papermill": {
     "duration": 0.02127,
     "end_time": "2023-03-08T10:27:29.912027",
     "exception": false,
     "start_time": "2023-03-08T10:27:29.890757",
     "status": "completed"
    },
    "tags": []
   },
   "source": [
    "**LightGBM**"
   ]
  },
  {
   "cell_type": "code",
   "execution_count": 32,
   "id": "c93b818c",
   "metadata": {
    "execution": {
     "iopub.execute_input": "2023-03-08T10:27:29.938381Z",
     "iopub.status.busy": "2023-03-08T10:27:29.937433Z",
     "iopub.status.idle": "2023-03-08T10:27:38.171678Z",
     "shell.execute_reply": "2023-03-08T10:27:38.170923Z"
    },
    "papermill": {
     "duration": 8.249862,
     "end_time": "2023-03-08T10:27:38.173786",
     "exception": false,
     "start_time": "2023-03-08T10:27:29.923924",
     "status": "completed"
    },
    "tags": []
   },
   "outputs": [
    {
     "data": {
      "text/html": [
       "<style>#sk-container-id-3 {color: black;background-color: white;}#sk-container-id-3 pre{padding: 0;}#sk-container-id-3 div.sk-toggleable {background-color: white;}#sk-container-id-3 label.sk-toggleable__label {cursor: pointer;display: block;width: 100%;margin-bottom: 0;padding: 0.3em;box-sizing: border-box;text-align: center;}#sk-container-id-3 label.sk-toggleable__label-arrow:before {content: \"▸\";float: left;margin-right: 0.25em;color: #696969;}#sk-container-id-3 label.sk-toggleable__label-arrow:hover:before {color: black;}#sk-container-id-3 div.sk-estimator:hover label.sk-toggleable__label-arrow:before {color: black;}#sk-container-id-3 div.sk-toggleable__content {max-height: 0;max-width: 0;overflow: hidden;text-align: left;background-color: #f0f8ff;}#sk-container-id-3 div.sk-toggleable__content pre {margin: 0.2em;color: black;border-radius: 0.25em;background-color: #f0f8ff;}#sk-container-id-3 input.sk-toggleable__control:checked~div.sk-toggleable__content {max-height: 200px;max-width: 100%;overflow: auto;}#sk-container-id-3 input.sk-toggleable__control:checked~label.sk-toggleable__label-arrow:before {content: \"▾\";}#sk-container-id-3 div.sk-estimator input.sk-toggleable__control:checked~label.sk-toggleable__label {background-color: #d4ebff;}#sk-container-id-3 div.sk-label input.sk-toggleable__control:checked~label.sk-toggleable__label {background-color: #d4ebff;}#sk-container-id-3 input.sk-hidden--visually {border: 0;clip: rect(1px 1px 1px 1px);clip: rect(1px, 1px, 1px, 1px);height: 1px;margin: -1px;overflow: hidden;padding: 0;position: absolute;width: 1px;}#sk-container-id-3 div.sk-estimator {font-family: monospace;background-color: #f0f8ff;border: 1px dotted black;border-radius: 0.25em;box-sizing: border-box;margin-bottom: 0.5em;}#sk-container-id-3 div.sk-estimator:hover {background-color: #d4ebff;}#sk-container-id-3 div.sk-parallel-item::after {content: \"\";width: 100%;border-bottom: 1px solid gray;flex-grow: 1;}#sk-container-id-3 div.sk-label:hover label.sk-toggleable__label {background-color: #d4ebff;}#sk-container-id-3 div.sk-serial::before {content: \"\";position: absolute;border-left: 1px solid gray;box-sizing: border-box;top: 0;bottom: 0;left: 50%;z-index: 0;}#sk-container-id-3 div.sk-serial {display: flex;flex-direction: column;align-items: center;background-color: white;padding-right: 0.2em;padding-left: 0.2em;position: relative;}#sk-container-id-3 div.sk-item {position: relative;z-index: 1;}#sk-container-id-3 div.sk-parallel {display: flex;align-items: stretch;justify-content: center;background-color: white;position: relative;}#sk-container-id-3 div.sk-item::before, #sk-container-id-3 div.sk-parallel-item::before {content: \"\";position: absolute;border-left: 1px solid gray;box-sizing: border-box;top: 0;bottom: 0;left: 50%;z-index: -1;}#sk-container-id-3 div.sk-parallel-item {display: flex;flex-direction: column;z-index: 1;position: relative;background-color: white;}#sk-container-id-3 div.sk-parallel-item:first-child::after {align-self: flex-end;width: 50%;}#sk-container-id-3 div.sk-parallel-item:last-child::after {align-self: flex-start;width: 50%;}#sk-container-id-3 div.sk-parallel-item:only-child::after {width: 0;}#sk-container-id-3 div.sk-dashed-wrapped {border: 1px dashed gray;margin: 0 0.4em 0.5em 0.4em;box-sizing: border-box;padding-bottom: 0.4em;background-color: white;}#sk-container-id-3 div.sk-label label {font-family: monospace;font-weight: bold;display: inline-block;line-height: 1.2em;}#sk-container-id-3 div.sk-label-container {text-align: center;}#sk-container-id-3 div.sk-container {/* jupyter's `normalize.less` sets `[hidden] { display: none; }` but bootstrap.min.css set `[hidden] { display: none !important; }` so we also need the `!important` here to be able to override the default hidden behavior on the sphinx rendered scikit-learn.org. See: https://github.com/scikit-learn/scikit-learn/issues/21755 */display: inline-block !important;position: relative;}#sk-container-id-3 div.sk-text-repr-fallback {display: none;}</style><div id=\"sk-container-id-3\" class=\"sk-top-container\"><div class=\"sk-text-repr-fallback\"><pre>LGBMClassifier(objective=&#x27;multiclass&#x27;)</pre><b>In a Jupyter environment, please rerun this cell to show the HTML representation or trust the notebook. <br />On GitHub, the HTML representation is unable to render, please try loading this page with nbviewer.org.</b></div><div class=\"sk-container\" hidden><div class=\"sk-item\"><div class=\"sk-estimator sk-toggleable\"><input class=\"sk-toggleable__control sk-hidden--visually\" id=\"sk-estimator-id-3\" type=\"checkbox\" checked><label for=\"sk-estimator-id-3\" class=\"sk-toggleable__label sk-toggleable__label-arrow\">LGBMClassifier</label><div class=\"sk-toggleable__content\"><pre>LGBMClassifier(objective=&#x27;multiclass&#x27;)</pre></div></div></div></div></div>"
      ],
      "text/plain": [
       "LGBMClassifier(objective='multiclass')"
      ]
     },
     "execution_count": 32,
     "metadata": {},
     "output_type": "execute_result"
    }
   ],
   "source": [
    "clf = lgbm.LGBMClassifier(objective=obj_par) \n",
    "clf.fit(X_train, y_train)"
   ]
  },
  {
   "cell_type": "code",
   "execution_count": 33,
   "id": "600a663a",
   "metadata": {
    "execution": {
     "iopub.execute_input": "2023-03-08T10:27:38.201903Z",
     "iopub.status.busy": "2023-03-08T10:27:38.201480Z",
     "iopub.status.idle": "2023-03-08T10:27:38.224793Z",
     "shell.execute_reply": "2023-03-08T10:27:38.224067Z"
    },
    "papermill": {
     "duration": 0.038726,
     "end_time": "2023-03-08T10:27:38.226845",
     "exception": false,
     "start_time": "2023-03-08T10:27:38.188119",
     "status": "completed"
    },
    "tags": []
   },
   "outputs": [
    {
     "name": "stdout",
     "output_type": "stream",
     "text": [
      "              precision    recall  f1-score   support\n",
      "\n",
      "        comp       0.85      0.88      0.86        50\n",
      "        misc       0.50      0.38      0.43         8\n",
      "         rec       0.91      0.89      0.90        47\n",
      "    religion       0.94      0.93      0.93        83\n",
      "         sci       0.90      0.81      0.85        77\n",
      "        talk       0.83      0.92      0.87        90\n",
      "\n",
      "    accuracy                           0.88       355\n",
      "   macro avg       0.82      0.80      0.81       355\n",
      "weighted avg       0.88      0.88      0.87       355\n",
      "\n"
     ]
    }
   ],
   "source": [
    "y_pred = clf.predict(X_test)\n",
    "print(classification_report(y_test, y_pred))"
   ]
  },
  {
   "cell_type": "code",
   "execution_count": 34,
   "id": "508d831d",
   "metadata": {
    "execution": {
     "iopub.execute_input": "2023-03-08T10:27:38.255732Z",
     "iopub.status.busy": "2023-03-08T10:27:38.255334Z",
     "iopub.status.idle": "2023-03-08T10:27:38.283774Z",
     "shell.execute_reply": "2023-03-08T10:27:38.282109Z"
    },
    "papermill": {
     "duration": 0.043879,
     "end_time": "2023-03-08T10:27:38.285693",
     "exception": false,
     "start_time": "2023-03-08T10:27:38.241814",
     "status": "completed"
    },
    "tags": []
   },
   "outputs": [],
   "source": [
    "acc = accuracy_score(y_test, y_pred)\n",
    "pre = precision_score(y_test, y_pred, average=avg_par)\n",
    "rec = recall_score(y_test, y_pred, average=avg_par)\n",
    "f1 = f1_score(y_test, y_pred, average=avg_par)\n",
    "\n",
    "metrics_data['Global']['LightGBM'] = {'Accuracy': acc, 'Precision': pre, 'Recall': rec, 'F1': f1}"
   ]
  },
  {
   "cell_type": "markdown",
   "id": "14b86894",
   "metadata": {
    "papermill": {
     "duration": 0.01909,
     "end_time": "2023-03-08T10:27:38.319465",
     "exception": false,
     "start_time": "2023-03-08T10:27:38.300375",
     "status": "completed"
    },
    "tags": []
   },
   "source": [
    "### Time Series Classification"
   ]
  },
  {
   "cell_type": "markdown",
   "id": "84c55533",
   "metadata": {
    "papermill": {
     "duration": 0.012161,
     "end_time": "2023-03-08T10:27:38.343808",
     "exception": false,
     "start_time": "2023-03-08T10:27:38.331647",
     "status": "completed"
    },
    "tags": []
   },
   "source": [
    "#### Learning Shapelets"
   ]
  },
  {
   "cell_type": "code",
   "execution_count": 35,
   "id": "488d8eb7",
   "metadata": {
    "execution": {
     "iopub.execute_input": "2023-03-08T10:27:38.371142Z",
     "iopub.status.busy": "2023-03-08T10:27:38.370310Z",
     "iopub.status.idle": "2023-03-08T10:27:41.030652Z",
     "shell.execute_reply": "2023-03-08T10:27:41.029694Z"
    },
    "papermill": {
     "duration": 2.67712,
     "end_time": "2023-03-08T10:27:41.033405",
     "exception": false,
     "start_time": "2023-03-08T10:27:38.356285",
     "status": "completed"
    },
    "tags": []
   },
   "outputs": [
    {
     "name": "stderr",
     "output_type": "stream",
     "text": [
      "2023-03-08 11:27:38.383462: I tensorflow/core/platform/cpu_feature_guard.cc:193] This TensorFlow binary is optimized with oneAPI Deep Neural Network Library (oneDNN) to use the following CPU instructions in performance-critical operations:  AVX2 FMA\n",
      "To enable them in other operations, rebuild TensorFlow with the appropriate compiler flags.\n"
     ]
    },
    {
     "name": "stderr",
     "output_type": "stream",
     "text": [
      "2023-03-08 11:27:38.709252: W tensorflow/compiler/xla/stream_executor/platform/default/dso_loader.cc:64] Could not load dynamic library 'libcudart.so.11.0'; dlerror: libcudart.so.11.0: cannot open shared object file: No such file or directory\n",
      "2023-03-08 11:27:38.709273: I tensorflow/compiler/xla/stream_executor/cuda/cudart_stub.cc:29] Ignore above cudart dlerror if you do not have a GPU set up on your machine.\n"
     ]
    },
    {
     "name": "stderr",
     "output_type": "stream",
     "text": [
      "2023-03-08 11:27:39.716540: W tensorflow/compiler/xla/stream_executor/platform/default/dso_loader.cc:64] Could not load dynamic library 'libnvinfer.so.7'; dlerror: libnvinfer.so.7: cannot open shared object file: No such file or directory\n",
      "2023-03-08 11:27:39.716643: W tensorflow/compiler/xla/stream_executor/platform/default/dso_loader.cc:64] Could not load dynamic library 'libnvinfer_plugin.so.7'; dlerror: libnvinfer_plugin.so.7: cannot open shared object file: No such file or directory\n",
      "2023-03-08 11:27:39.716653: W tensorflow/compiler/tf2tensorrt/utils/py_utils.cc:38] TF-TRT Warning: Cannot dlopen some TensorRT libraries. If you would like to use Nvidia GPU with TensorRT, please make sure the missing libraries mentioned above are installed properly.\n"
     ]
    }
   ],
   "source": [
    "from tslearn.shapelets import LearningShapelets, grabocka_params_to_shapelet_size_dict"
   ]
  },
  {
   "cell_type": "code",
   "execution_count": 36,
   "id": "eb677959",
   "metadata": {
    "execution": {
     "iopub.execute_input": "2023-03-08T10:27:41.105113Z",
     "iopub.status.busy": "2023-03-08T10:27:41.104256Z",
     "iopub.status.idle": "2023-03-08T10:27:41.110534Z",
     "shell.execute_reply": "2023-03-08T10:27:41.109541Z"
    },
    "papermill": {
     "duration": 0.045652,
     "end_time": "2023-03-08T10:27:41.113652",
     "exception": false,
     "start_time": "2023-03-08T10:27:41.068000",
     "status": "completed"
    },
    "tags": []
   },
   "outputs": [],
   "source": [
    "n_ts, ts_sz, _ = ts_train.shape\n",
    "n_classes = len(set(y_train))"
   ]
  },
  {
   "cell_type": "code",
   "execution_count": 37,
   "id": "776ed3dd",
   "metadata": {
    "execution": {
     "iopub.execute_input": "2023-03-08T10:27:41.153417Z",
     "iopub.status.busy": "2023-03-08T10:27:41.152957Z",
     "iopub.status.idle": "2023-03-08T10:27:41.160554Z",
     "shell.execute_reply": "2023-03-08T10:27:41.159359Z"
    },
    "papermill": {
     "duration": 0.022873,
     "end_time": "2023-03-08T10:27:41.162360",
     "exception": false,
     "start_time": "2023-03-08T10:27:41.139487",
     "status": "completed"
    },
    "tags": []
   },
   "outputs": [
    {
     "name": "stdout",
     "output_type": "stream",
     "text": [
      "n_ts 1420\n",
      "ts_sz 100\n",
      "n_classes 6\n",
      "shapelet_sizes {10: 5}\n"
     ]
    }
   ],
   "source": [
    "# Set the number of shapelets per size as done in the original paper\n",
    "g_shapelet_sizes = grabocka_params_to_shapelet_size_dict(n_ts=n_ts,\n",
    "                                                         ts_sz=ts_sz,\n",
    "                                                         n_classes=n_classes,\n",
    "                                                         l=0.1,\n",
    "                                                         r=1)\n",
    "\n",
    "print('n_ts', n_ts)\n",
    "print('ts_sz', ts_sz)\n",
    "print('n_classes', n_classes)\n",
    "print('shapelet_sizes', g_shapelet_sizes)"
   ]
  },
  {
   "cell_type": "code",
   "execution_count": 38,
   "id": "90ed707e",
   "metadata": {
    "execution": {
     "iopub.execute_input": "2023-03-08T10:27:41.189265Z",
     "iopub.status.busy": "2023-03-08T10:27:41.188810Z",
     "iopub.status.idle": "2023-03-08T10:27:41.198978Z",
     "shell.execute_reply": "2023-03-08T10:27:41.197679Z"
    },
    "papermill": {
     "duration": 0.025846,
     "end_time": "2023-03-08T10:27:41.200875",
     "exception": false,
     "start_time": "2023-03-08T10:27:41.175029",
     "status": "completed"
    },
    "tags": []
   },
   "outputs": [
    {
     "data": {
      "text/plain": [
       "{10: 5, 20: 5, 5: 5}"
      ]
     },
     "execution_count": 38,
     "metadata": {},
     "output_type": "execute_result"
    }
   ],
   "source": [
    "shapelet_sizes = {}\n",
    "for key in g_shapelet_sizes:\n",
    "    shapelet_sizes[key] = g_shapelet_sizes[key]\n",
    "    shapelet_sizes[key*2] = g_shapelet_sizes[key]\n",
    "    shapelet_sizes[key//2] = g_shapelet_sizes[key]\n",
    "shapelet_sizes"
   ]
  },
  {
   "cell_type": "code",
   "execution_count": 39,
   "id": "3507fb9c",
   "metadata": {
    "execution": {
     "iopub.execute_input": "2023-03-08T10:27:41.227862Z",
     "iopub.status.busy": "2023-03-08T10:27:41.227417Z",
     "iopub.status.idle": "2023-03-08T10:27:41.233916Z",
     "shell.execute_reply": "2023-03-08T10:27:41.232994Z"
    },
    "papermill": {
     "duration": 0.021833,
     "end_time": "2023-03-08T10:27:41.235567",
     "exception": false,
     "start_time": "2023-03-08T10:27:41.213734",
     "status": "completed"
    },
    "tags": []
   },
   "outputs": [
    {
     "name": "stderr",
     "output_type": "stream",
     "text": [
      "/home/mattiapggioli/lyrics2ts/.venv/lib/python3.9/site-packages/tslearn/shapelets/shapelets.py:354: FutureWarning: The default value for 'scale' is set to False in version 0.4 to ensure backward compatibility, but is likely to change in a future version.\n",
      "  warnings.warn(\"The default value for 'scale' is set to False \"\n"
     ]
    }
   ],
   "source": [
    "model = LearningShapelets(n_shapelets_per_size=shapelet_sizes,\n",
    "                          optimizer=\"adam\", \n",
    "                          weight_regularizer=.01, \n",
    "                          max_iter=max_iter, verbose=0, random_state=42)"
   ]
  },
  {
   "cell_type": "code",
   "execution_count": 40,
   "id": "73b1fe2e",
   "metadata": {
    "execution": {
     "iopub.execute_input": "2023-03-08T10:27:41.261948Z",
     "iopub.status.busy": "2023-03-08T10:27:41.261495Z",
     "iopub.status.idle": "2023-03-08T10:29:48.758920Z",
     "shell.execute_reply": "2023-03-08T10:29:48.758139Z"
    },
    "papermill": {
     "duration": 127.528881,
     "end_time": "2023-03-08T10:29:48.776775",
     "exception": false,
     "start_time": "2023-03-08T10:27:41.247894",
     "status": "completed"
    },
    "tags": []
   },
   "outputs": [
    {
     "name": "stderr",
     "output_type": "stream",
     "text": [
      "2023-03-08 11:27:41.365670: W tensorflow/compiler/xla/stream_executor/platform/default/dso_loader.cc:64] Could not load dynamic library 'libcuda.so.1'; dlerror: libcuda.so.1: cannot open shared object file: No such file or directory\n",
      "2023-03-08 11:27:41.365694: W tensorflow/compiler/xla/stream_executor/cuda/cuda_driver.cc:265] failed call to cuInit: UNKNOWN ERROR (303)\n",
      "2023-03-08 11:27:41.365712: I tensorflow/compiler/xla/stream_executor/cuda/cuda_diagnostics.cc:156] kernel driver does not appear to be running on this host (mattiapggioli-ThinkPad-E595): /proc/driver/nvidia/version does not exist\n",
      "2023-03-08 11:27:41.366231: I tensorflow/core/platform/cpu_feature_guard.cc:193] This TensorFlow binary is optimized with oneAPI Deep Neural Network Library (oneDNN) to use the following CPU instructions in performance-critical operations:  AVX2 FMA\n",
      "To enable them in other operations, rebuild TensorFlow with the appropriate compiler flags.\n"
     ]
    },
    {
     "name": "stdout",
     "output_type": "stream",
     "text": [
      "CPU times: user 9min 32s, sys: 31.5 s, total: 10min 4s\n",
      "Wall time: 2min 7s\n"
     ]
    },
    {
     "data": {
      "text/html": [
       "<style>#sk-container-id-4 {color: black;background-color: white;}#sk-container-id-4 pre{padding: 0;}#sk-container-id-4 div.sk-toggleable {background-color: white;}#sk-container-id-4 label.sk-toggleable__label {cursor: pointer;display: block;width: 100%;margin-bottom: 0;padding: 0.3em;box-sizing: border-box;text-align: center;}#sk-container-id-4 label.sk-toggleable__label-arrow:before {content: \"▸\";float: left;margin-right: 0.25em;color: #696969;}#sk-container-id-4 label.sk-toggleable__label-arrow:hover:before {color: black;}#sk-container-id-4 div.sk-estimator:hover label.sk-toggleable__label-arrow:before {color: black;}#sk-container-id-4 div.sk-toggleable__content {max-height: 0;max-width: 0;overflow: hidden;text-align: left;background-color: #f0f8ff;}#sk-container-id-4 div.sk-toggleable__content pre {margin: 0.2em;color: black;border-radius: 0.25em;background-color: #f0f8ff;}#sk-container-id-4 input.sk-toggleable__control:checked~div.sk-toggleable__content {max-height: 200px;max-width: 100%;overflow: auto;}#sk-container-id-4 input.sk-toggleable__control:checked~label.sk-toggleable__label-arrow:before {content: \"▾\";}#sk-container-id-4 div.sk-estimator input.sk-toggleable__control:checked~label.sk-toggleable__label {background-color: #d4ebff;}#sk-container-id-4 div.sk-label input.sk-toggleable__control:checked~label.sk-toggleable__label {background-color: #d4ebff;}#sk-container-id-4 input.sk-hidden--visually {border: 0;clip: rect(1px 1px 1px 1px);clip: rect(1px, 1px, 1px, 1px);height: 1px;margin: -1px;overflow: hidden;padding: 0;position: absolute;width: 1px;}#sk-container-id-4 div.sk-estimator {font-family: monospace;background-color: #f0f8ff;border: 1px dotted black;border-radius: 0.25em;box-sizing: border-box;margin-bottom: 0.5em;}#sk-container-id-4 div.sk-estimator:hover {background-color: #d4ebff;}#sk-container-id-4 div.sk-parallel-item::after {content: \"\";width: 100%;border-bottom: 1px solid gray;flex-grow: 1;}#sk-container-id-4 div.sk-label:hover label.sk-toggleable__label {background-color: #d4ebff;}#sk-container-id-4 div.sk-serial::before {content: \"\";position: absolute;border-left: 1px solid gray;box-sizing: border-box;top: 0;bottom: 0;left: 50%;z-index: 0;}#sk-container-id-4 div.sk-serial {display: flex;flex-direction: column;align-items: center;background-color: white;padding-right: 0.2em;padding-left: 0.2em;position: relative;}#sk-container-id-4 div.sk-item {position: relative;z-index: 1;}#sk-container-id-4 div.sk-parallel {display: flex;align-items: stretch;justify-content: center;background-color: white;position: relative;}#sk-container-id-4 div.sk-item::before, #sk-container-id-4 div.sk-parallel-item::before {content: \"\";position: absolute;border-left: 1px solid gray;box-sizing: border-box;top: 0;bottom: 0;left: 50%;z-index: -1;}#sk-container-id-4 div.sk-parallel-item {display: flex;flex-direction: column;z-index: 1;position: relative;background-color: white;}#sk-container-id-4 div.sk-parallel-item:first-child::after {align-self: flex-end;width: 50%;}#sk-container-id-4 div.sk-parallel-item:last-child::after {align-self: flex-start;width: 50%;}#sk-container-id-4 div.sk-parallel-item:only-child::after {width: 0;}#sk-container-id-4 div.sk-dashed-wrapped {border: 1px dashed gray;margin: 0 0.4em 0.5em 0.4em;box-sizing: border-box;padding-bottom: 0.4em;background-color: white;}#sk-container-id-4 div.sk-label label {font-family: monospace;font-weight: bold;display: inline-block;line-height: 1.2em;}#sk-container-id-4 div.sk-label-container {text-align: center;}#sk-container-id-4 div.sk-container {/* jupyter's `normalize.less` sets `[hidden] { display: none; }` but bootstrap.min.css set `[hidden] { display: none !important; }` so we also need the `!important` here to be able to override the default hidden behavior on the sphinx rendered scikit-learn.org. See: https://github.com/scikit-learn/scikit-learn/issues/21755 */display: inline-block !important;position: relative;}#sk-container-id-4 div.sk-text-repr-fallback {display: none;}</style><div id=\"sk-container-id-4\" class=\"sk-top-container\"><div class=\"sk-text-repr-fallback\"><pre>LearningShapelets(max_iter=2000, n_shapelets_per_size={5: 5, 10: 5, 20: 5},\n",
       "                  optimizer=&#x27;adam&#x27;, random_state=42, weight_regularizer=0.01)</pre><b>In a Jupyter environment, please rerun this cell to show the HTML representation or trust the notebook. <br />On GitHub, the HTML representation is unable to render, please try loading this page with nbviewer.org.</b></div><div class=\"sk-container\" hidden><div class=\"sk-item\"><div class=\"sk-estimator sk-toggleable\"><input class=\"sk-toggleable__control sk-hidden--visually\" id=\"sk-estimator-id-4\" type=\"checkbox\" checked><label for=\"sk-estimator-id-4\" class=\"sk-toggleable__label sk-toggleable__label-arrow\">LearningShapelets</label><div class=\"sk-toggleable__content\"><pre>LearningShapelets(max_iter=2000, n_shapelets_per_size={5: 5, 10: 5, 20: 5},\n",
       "                  optimizer=&#x27;adam&#x27;, random_state=42, weight_regularizer=0.01)</pre></div></div></div></div></div>"
      ],
      "text/plain": [
       "LearningShapelets(max_iter=2000, n_shapelets_per_size={5: 5, 10: 5, 20: 5},\n",
       "                  optimizer='adam', random_state=42, weight_regularizer=0.01)"
      ]
     },
     "execution_count": 40,
     "metadata": {},
     "output_type": "execute_result"
    }
   ],
   "source": [
    "%%time\n",
    "model.fit(ts_train, y_train)"
   ]
  },
  {
   "cell_type": "code",
   "execution_count": 41,
   "id": "51706baa",
   "metadata": {
    "execution": {
     "iopub.execute_input": "2023-03-08T10:29:48.805433Z",
     "iopub.status.busy": "2023-03-08T10:29:48.805158Z",
     "iopub.status.idle": "2023-03-08T10:29:48.823897Z",
     "shell.execute_reply": "2023-03-08T10:29:48.823000Z"
    },
    "papermill": {
     "duration": 0.034773,
     "end_time": "2023-03-08T10:29:48.825749",
     "exception": false,
     "start_time": "2023-03-08T10:29:48.790976",
     "status": "completed"
    },
    "tags": []
   },
   "outputs": [],
   "source": [
    "model.to_pickle(f'{data_path}/shapelets.pkl')"
   ]
  },
  {
   "cell_type": "markdown",
   "id": "309f70dc",
   "metadata": {
    "papermill": {
     "duration": 0.01327,
     "end_time": "2023-03-08T10:29:48.853596",
     "exception": false,
     "start_time": "2023-03-08T10:29:48.840326",
     "status": "completed"
    },
    "tags": []
   },
   "source": [
    "#### Shapelet-Based Classification"
   ]
  },
  {
   "cell_type": "code",
   "execution_count": 42,
   "id": "60125dff",
   "metadata": {
    "execution": {
     "iopub.execute_input": "2023-03-08T10:29:48.883002Z",
     "iopub.status.busy": "2023-03-08T10:29:48.882703Z",
     "iopub.status.idle": "2023-03-08T10:29:48.887271Z",
     "shell.execute_reply": "2023-03-08T10:29:48.886231Z"
    },
    "papermill": {
     "duration": 0.02149,
     "end_time": "2023-03-08T10:29:48.888964",
     "exception": false,
     "start_time": "2023-03-08T10:29:48.867474",
     "status": "completed"
    },
    "tags": []
   },
   "outputs": [],
   "source": [
    "metrics_data['Shapelets'] = {}"
   ]
  },
  {
   "cell_type": "code",
   "execution_count": 43,
   "id": "efb8984d",
   "metadata": {
    "execution": {
     "iopub.execute_input": "2023-03-08T10:29:48.918721Z",
     "iopub.status.busy": "2023-03-08T10:29:48.918321Z",
     "iopub.status.idle": "2023-03-08T10:29:49.324440Z",
     "shell.execute_reply": "2023-03-08T10:29:49.323479Z"
    },
    "papermill": {
     "duration": 0.423512,
     "end_time": "2023-03-08T10:29:49.326565",
     "exception": false,
     "start_time": "2023-03-08T10:29:48.903053",
     "status": "completed"
    },
    "tags": []
   },
   "outputs": [],
   "source": [
    "X_train = model.transform(ts_train)\n",
    "X_test = model.transform(ts_test)"
   ]
  },
  {
   "cell_type": "code",
   "execution_count": 44,
   "id": "2e6c0f22",
   "metadata": {
    "execution": {
     "iopub.execute_input": "2023-03-08T10:29:49.355375Z",
     "iopub.status.busy": "2023-03-08T10:29:49.355058Z",
     "iopub.status.idle": "2023-03-08T10:29:49.387209Z",
     "shell.execute_reply": "2023-03-08T10:29:49.386293Z"
    },
    "papermill": {
     "duration": 0.047913,
     "end_time": "2023-03-08T10:29:49.389026",
     "exception": false,
     "start_time": "2023-03-08T10:29:49.341113",
     "status": "completed"
    },
    "tags": []
   },
   "outputs": [
    {
     "data": {
      "text/html": [
       "<div>\n",
       "<style scoped>\n",
       "    .dataframe tbody tr th:only-of-type {\n",
       "        vertical-align: middle;\n",
       "    }\n",
       "\n",
       "    .dataframe tbody tr th {\n",
       "        vertical-align: top;\n",
       "    }\n",
       "\n",
       "    .dataframe thead th {\n",
       "        text-align: right;\n",
       "    }\n",
       "</style>\n",
       "<table border=\"1\" class=\"dataframe\">\n",
       "  <thead>\n",
       "    <tr style=\"text-align: right;\">\n",
       "      <th></th>\n",
       "      <th>0</th>\n",
       "      <th>1</th>\n",
       "      <th>2</th>\n",
       "      <th>3</th>\n",
       "      <th>4</th>\n",
       "      <th>5</th>\n",
       "      <th>6</th>\n",
       "      <th>7</th>\n",
       "      <th>8</th>\n",
       "      <th>9</th>\n",
       "      <th>10</th>\n",
       "      <th>11</th>\n",
       "      <th>12</th>\n",
       "      <th>13</th>\n",
       "      <th>14</th>\n",
       "    </tr>\n",
       "  </thead>\n",
       "  <tbody>\n",
       "    <tr>\n",
       "      <th>0</th>\n",
       "      <td>5.026543</td>\n",
       "      <td>0.087676</td>\n",
       "      <td>5.191195</td>\n",
       "      <td>2.854058</td>\n",
       "      <td>2.178872</td>\n",
       "      <td>1.611033</td>\n",
       "      <td>0.264990</td>\n",
       "      <td>0.972228</td>\n",
       "      <td>1.194421</td>\n",
       "      <td>2.819532</td>\n",
       "      <td>0.626475</td>\n",
       "      <td>1.615675</td>\n",
       "      <td>6.942060</td>\n",
       "      <td>1.356223</td>\n",
       "      <td>0.626834</td>\n",
       "    </tr>\n",
       "    <tr>\n",
       "      <th>1</th>\n",
       "      <td>4.731201</td>\n",
       "      <td>0.160048</td>\n",
       "      <td>3.677343</td>\n",
       "      <td>2.517307</td>\n",
       "      <td>1.728605</td>\n",
       "      <td>1.149547</td>\n",
       "      <td>1.141642</td>\n",
       "      <td>0.404306</td>\n",
       "      <td>1.823735</td>\n",
       "      <td>2.064584</td>\n",
       "      <td>0.143020</td>\n",
       "      <td>2.890171</td>\n",
       "      <td>4.914360</td>\n",
       "      <td>2.613819</td>\n",
       "      <td>0.147406</td>\n",
       "    </tr>\n",
       "    <tr>\n",
       "      <th>2</th>\n",
       "      <td>4.179322</td>\n",
       "      <td>0.197486</td>\n",
       "      <td>4.932279</td>\n",
       "      <td>2.613259</td>\n",
       "      <td>1.130282</td>\n",
       "      <td>1.327111</td>\n",
       "      <td>0.328731</td>\n",
       "      <td>0.583190</td>\n",
       "      <td>1.359877</td>\n",
       "      <td>2.675617</td>\n",
       "      <td>0.277970</td>\n",
       "      <td>1.219624</td>\n",
       "      <td>4.925999</td>\n",
       "      <td>1.260065</td>\n",
       "      <td>0.280438</td>\n",
       "    </tr>\n",
       "    <tr>\n",
       "      <th>3</th>\n",
       "      <td>4.034218</td>\n",
       "      <td>0.026900</td>\n",
       "      <td>3.674574</td>\n",
       "      <td>2.222675</td>\n",
       "      <td>1.382288</td>\n",
       "      <td>0.976608</td>\n",
       "      <td>0.251711</td>\n",
       "      <td>0.688305</td>\n",
       "      <td>1.291086</td>\n",
       "      <td>1.355362</td>\n",
       "      <td>0.807674</td>\n",
       "      <td>1.439548</td>\n",
       "      <td>4.656219</td>\n",
       "      <td>1.678374</td>\n",
       "      <td>0.799194</td>\n",
       "    </tr>\n",
       "    <tr>\n",
       "      <th>4</th>\n",
       "      <td>2.145251</td>\n",
       "      <td>0.167727</td>\n",
       "      <td>3.717519</td>\n",
       "      <td>2.675991</td>\n",
       "      <td>2.926399</td>\n",
       "      <td>2.791556</td>\n",
       "      <td>0.113727</td>\n",
       "      <td>1.811163</td>\n",
       "      <td>0.933513</td>\n",
       "      <td>3.712471</td>\n",
       "      <td>1.376280</td>\n",
       "      <td>0.794241</td>\n",
       "      <td>8.755847</td>\n",
       "      <td>0.628699</td>\n",
       "      <td>1.479159</td>\n",
       "    </tr>\n",
       "    <tr>\n",
       "      <th>...</th>\n",
       "      <td>...</td>\n",
       "      <td>...</td>\n",
       "      <td>...</td>\n",
       "      <td>...</td>\n",
       "      <td>...</td>\n",
       "      <td>...</td>\n",
       "      <td>...</td>\n",
       "      <td>...</td>\n",
       "      <td>...</td>\n",
       "      <td>...</td>\n",
       "      <td>...</td>\n",
       "      <td>...</td>\n",
       "      <td>...</td>\n",
       "      <td>...</td>\n",
       "      <td>...</td>\n",
       "    </tr>\n",
       "    <tr>\n",
       "      <th>350</th>\n",
       "      <td>4.672368</td>\n",
       "      <td>0.136230</td>\n",
       "      <td>4.531002</td>\n",
       "      <td>1.869846</td>\n",
       "      <td>2.253766</td>\n",
       "      <td>1.412271</td>\n",
       "      <td>0.527362</td>\n",
       "      <td>0.746792</td>\n",
       "      <td>1.299480</td>\n",
       "      <td>2.282927</td>\n",
       "      <td>0.477788</td>\n",
       "      <td>1.933459</td>\n",
       "      <td>6.508034</td>\n",
       "      <td>1.690523</td>\n",
       "      <td>0.472442</td>\n",
       "    </tr>\n",
       "    <tr>\n",
       "      <th>351</th>\n",
       "      <td>3.585146</td>\n",
       "      <td>0.185993</td>\n",
       "      <td>1.658987</td>\n",
       "      <td>2.184040</td>\n",
       "      <td>2.097592</td>\n",
       "      <td>1.493391</td>\n",
       "      <td>0.302089</td>\n",
       "      <td>0.727349</td>\n",
       "      <td>1.064547</td>\n",
       "      <td>2.435272</td>\n",
       "      <td>0.354394</td>\n",
       "      <td>2.125704</td>\n",
       "      <td>6.122301</td>\n",
       "      <td>1.878601</td>\n",
       "      <td>0.352485</td>\n",
       "    </tr>\n",
       "    <tr>\n",
       "      <th>352</th>\n",
       "      <td>2.116486</td>\n",
       "      <td>0.131058</td>\n",
       "      <td>2.567962</td>\n",
       "      <td>2.227375</td>\n",
       "      <td>2.630477</td>\n",
       "      <td>1.885394</td>\n",
       "      <td>0.182784</td>\n",
       "      <td>1.227090</td>\n",
       "      <td>0.955413</td>\n",
       "      <td>2.807608</td>\n",
       "      <td>1.269378</td>\n",
       "      <td>0.921616</td>\n",
       "      <td>7.048204</td>\n",
       "      <td>0.749519</td>\n",
       "      <td>1.237677</td>\n",
       "    </tr>\n",
       "    <tr>\n",
       "      <th>353</th>\n",
       "      <td>3.116255</td>\n",
       "      <td>0.066087</td>\n",
       "      <td>3.701839</td>\n",
       "      <td>2.602918</td>\n",
       "      <td>3.168098</td>\n",
       "      <td>2.201842</td>\n",
       "      <td>0.089997</td>\n",
       "      <td>1.453389</td>\n",
       "      <td>0.813850</td>\n",
       "      <td>3.220501</td>\n",
       "      <td>1.081941</td>\n",
       "      <td>0.852658</td>\n",
       "      <td>7.911679</td>\n",
       "      <td>0.574624</td>\n",
       "      <td>0.975967</td>\n",
       "    </tr>\n",
       "    <tr>\n",
       "      <th>354</th>\n",
       "      <td>3.933147</td>\n",
       "      <td>0.048208</td>\n",
       "      <td>3.624260</td>\n",
       "      <td>2.068988</td>\n",
       "      <td>1.780143</td>\n",
       "      <td>1.904917</td>\n",
       "      <td>0.195380</td>\n",
       "      <td>1.019563</td>\n",
       "      <td>0.554697</td>\n",
       "      <td>2.728697</td>\n",
       "      <td>0.933473</td>\n",
       "      <td>1.385558</td>\n",
       "      <td>6.781105</td>\n",
       "      <td>1.285240</td>\n",
       "      <td>0.974163</td>\n",
       "    </tr>\n",
       "  </tbody>\n",
       "</table>\n",
       "<p>355 rows × 15 columns</p>\n",
       "</div>"
      ],
      "text/plain": [
       "           0         1         2         3         4         5         6   \\\n",
       "0    5.026543  0.087676  5.191195  2.854058  2.178872  1.611033  0.264990   \n",
       "1    4.731201  0.160048  3.677343  2.517307  1.728605  1.149547  1.141642   \n",
       "2    4.179322  0.197486  4.932279  2.613259  1.130282  1.327111  0.328731   \n",
       "3    4.034218  0.026900  3.674574  2.222675  1.382288  0.976608  0.251711   \n",
       "4    2.145251  0.167727  3.717519  2.675991  2.926399  2.791556  0.113727   \n",
       "..        ...       ...       ...       ...       ...       ...       ...   \n",
       "350  4.672368  0.136230  4.531002  1.869846  2.253766  1.412271  0.527362   \n",
       "351  3.585146  0.185993  1.658987  2.184040  2.097592  1.493391  0.302089   \n",
       "352  2.116486  0.131058  2.567962  2.227375  2.630477  1.885394  0.182784   \n",
       "353  3.116255  0.066087  3.701839  2.602918  3.168098  2.201842  0.089997   \n",
       "354  3.933147  0.048208  3.624260  2.068988  1.780143  1.904917  0.195380   \n",
       "\n",
       "           7         8         9         10        11        12        13  \\\n",
       "0    0.972228  1.194421  2.819532  0.626475  1.615675  6.942060  1.356223   \n",
       "1    0.404306  1.823735  2.064584  0.143020  2.890171  4.914360  2.613819   \n",
       "2    0.583190  1.359877  2.675617  0.277970  1.219624  4.925999  1.260065   \n",
       "3    0.688305  1.291086  1.355362  0.807674  1.439548  4.656219  1.678374   \n",
       "4    1.811163  0.933513  3.712471  1.376280  0.794241  8.755847  0.628699   \n",
       "..        ...       ...       ...       ...       ...       ...       ...   \n",
       "350  0.746792  1.299480  2.282927  0.477788  1.933459  6.508034  1.690523   \n",
       "351  0.727349  1.064547  2.435272  0.354394  2.125704  6.122301  1.878601   \n",
       "352  1.227090  0.955413  2.807608  1.269378  0.921616  7.048204  0.749519   \n",
       "353  1.453389  0.813850  3.220501  1.081941  0.852658  7.911679  0.574624   \n",
       "354  1.019563  0.554697  2.728697  0.933473  1.385558  6.781105  1.285240   \n",
       "\n",
       "           14  \n",
       "0    0.626834  \n",
       "1    0.147406  \n",
       "2    0.280438  \n",
       "3    0.799194  \n",
       "4    1.479159  \n",
       "..        ...  \n",
       "350  0.472442  \n",
       "351  0.352485  \n",
       "352  1.237677  \n",
       "353  0.975967  \n",
       "354  0.974163  \n",
       "\n",
       "[355 rows x 15 columns]"
      ]
     },
     "execution_count": 44,
     "metadata": {},
     "output_type": "execute_result"
    }
   ],
   "source": [
    "pd.DataFrame(X_test)"
   ]
  },
  {
   "cell_type": "markdown",
   "id": "5fa024f7",
   "metadata": {
    "execution": {
     "iopub.execute_input": "2023-02-07T23:47:19.876941Z",
     "iopub.status.busy": "2023-02-07T23:47:19.876424Z",
     "iopub.status.idle": "2023-02-07T23:47:20.399488Z",
     "shell.execute_reply": "2023-02-07T23:47:20.398142Z"
    },
    "papermill": {
     "duration": 0.01275,
     "end_time": "2023-03-08T10:29:49.416644",
     "exception": false,
     "start_time": "2023-03-08T10:29:49.403894",
     "status": "completed"
    },
    "tags": []
   },
   "source": [
    "**Decision Tree**"
   ]
  },
  {
   "cell_type": "code",
   "execution_count": 45,
   "id": "4f5400c9",
   "metadata": {
    "execution": {
     "iopub.execute_input": "2023-03-08T10:29:49.445676Z",
     "iopub.status.busy": "2023-03-08T10:29:49.444760Z",
     "iopub.status.idle": "2023-03-08T10:29:49.514969Z",
     "shell.execute_reply": "2023-03-08T10:29:49.513397Z"
    },
    "papermill": {
     "duration": 0.088847,
     "end_time": "2023-03-08T10:29:49.518676",
     "exception": false,
     "start_time": "2023-03-08T10:29:49.429829",
     "status": "completed"
    },
    "tags": []
   },
   "outputs": [
    {
     "data": {
      "text/html": [
       "<style>#sk-container-id-5 {color: black;background-color: white;}#sk-container-id-5 pre{padding: 0;}#sk-container-id-5 div.sk-toggleable {background-color: white;}#sk-container-id-5 label.sk-toggleable__label {cursor: pointer;display: block;width: 100%;margin-bottom: 0;padding: 0.3em;box-sizing: border-box;text-align: center;}#sk-container-id-5 label.sk-toggleable__label-arrow:before {content: \"▸\";float: left;margin-right: 0.25em;color: #696969;}#sk-container-id-5 label.sk-toggleable__label-arrow:hover:before {color: black;}#sk-container-id-5 div.sk-estimator:hover label.sk-toggleable__label-arrow:before {color: black;}#sk-container-id-5 div.sk-toggleable__content {max-height: 0;max-width: 0;overflow: hidden;text-align: left;background-color: #f0f8ff;}#sk-container-id-5 div.sk-toggleable__content pre {margin: 0.2em;color: black;border-radius: 0.25em;background-color: #f0f8ff;}#sk-container-id-5 input.sk-toggleable__control:checked~div.sk-toggleable__content {max-height: 200px;max-width: 100%;overflow: auto;}#sk-container-id-5 input.sk-toggleable__control:checked~label.sk-toggleable__label-arrow:before {content: \"▾\";}#sk-container-id-5 div.sk-estimator input.sk-toggleable__control:checked~label.sk-toggleable__label {background-color: #d4ebff;}#sk-container-id-5 div.sk-label input.sk-toggleable__control:checked~label.sk-toggleable__label {background-color: #d4ebff;}#sk-container-id-5 input.sk-hidden--visually {border: 0;clip: rect(1px 1px 1px 1px);clip: rect(1px, 1px, 1px, 1px);height: 1px;margin: -1px;overflow: hidden;padding: 0;position: absolute;width: 1px;}#sk-container-id-5 div.sk-estimator {font-family: monospace;background-color: #f0f8ff;border: 1px dotted black;border-radius: 0.25em;box-sizing: border-box;margin-bottom: 0.5em;}#sk-container-id-5 div.sk-estimator:hover {background-color: #d4ebff;}#sk-container-id-5 div.sk-parallel-item::after {content: \"\";width: 100%;border-bottom: 1px solid gray;flex-grow: 1;}#sk-container-id-5 div.sk-label:hover label.sk-toggleable__label {background-color: #d4ebff;}#sk-container-id-5 div.sk-serial::before {content: \"\";position: absolute;border-left: 1px solid gray;box-sizing: border-box;top: 0;bottom: 0;left: 50%;z-index: 0;}#sk-container-id-5 div.sk-serial {display: flex;flex-direction: column;align-items: center;background-color: white;padding-right: 0.2em;padding-left: 0.2em;position: relative;}#sk-container-id-5 div.sk-item {position: relative;z-index: 1;}#sk-container-id-5 div.sk-parallel {display: flex;align-items: stretch;justify-content: center;background-color: white;position: relative;}#sk-container-id-5 div.sk-item::before, #sk-container-id-5 div.sk-parallel-item::before {content: \"\";position: absolute;border-left: 1px solid gray;box-sizing: border-box;top: 0;bottom: 0;left: 50%;z-index: -1;}#sk-container-id-5 div.sk-parallel-item {display: flex;flex-direction: column;z-index: 1;position: relative;background-color: white;}#sk-container-id-5 div.sk-parallel-item:first-child::after {align-self: flex-end;width: 50%;}#sk-container-id-5 div.sk-parallel-item:last-child::after {align-self: flex-start;width: 50%;}#sk-container-id-5 div.sk-parallel-item:only-child::after {width: 0;}#sk-container-id-5 div.sk-dashed-wrapped {border: 1px dashed gray;margin: 0 0.4em 0.5em 0.4em;box-sizing: border-box;padding-bottom: 0.4em;background-color: white;}#sk-container-id-5 div.sk-label label {font-family: monospace;font-weight: bold;display: inline-block;line-height: 1.2em;}#sk-container-id-5 div.sk-label-container {text-align: center;}#sk-container-id-5 div.sk-container {/* jupyter's `normalize.less` sets `[hidden] { display: none; }` but bootstrap.min.css set `[hidden] { display: none !important; }` so we also need the `!important` here to be able to override the default hidden behavior on the sphinx rendered scikit-learn.org. See: https://github.com/scikit-learn/scikit-learn/issues/21755 */display: inline-block !important;position: relative;}#sk-container-id-5 div.sk-text-repr-fallback {display: none;}</style><div id=\"sk-container-id-5\" class=\"sk-top-container\"><div class=\"sk-text-repr-fallback\"><pre>DecisionTreeClassifier(random_state=42)</pre><b>In a Jupyter environment, please rerun this cell to show the HTML representation or trust the notebook. <br />On GitHub, the HTML representation is unable to render, please try loading this page with nbviewer.org.</b></div><div class=\"sk-container\" hidden><div class=\"sk-item\"><div class=\"sk-estimator sk-toggleable\"><input class=\"sk-toggleable__control sk-hidden--visually\" id=\"sk-estimator-id-5\" type=\"checkbox\" checked><label for=\"sk-estimator-id-5\" class=\"sk-toggleable__label sk-toggleable__label-arrow\">DecisionTreeClassifier</label><div class=\"sk-toggleable__content\"><pre>DecisionTreeClassifier(random_state=42)</pre></div></div></div></div></div>"
      ],
      "text/plain": [
       "DecisionTreeClassifier(random_state=42)"
      ]
     },
     "execution_count": 45,
     "metadata": {},
     "output_type": "execute_result"
    }
   ],
   "source": [
    "clf = DecisionTreeClassifier(random_state=42)\n",
    "clf.fit(X_train, y_train)"
   ]
  },
  {
   "cell_type": "code",
   "execution_count": 46,
   "id": "3b56d190",
   "metadata": {
    "execution": {
     "iopub.execute_input": "2023-03-08T10:29:49.590229Z",
     "iopub.status.busy": "2023-03-08T10:29:49.589773Z",
     "iopub.status.idle": "2023-03-08T10:29:49.620206Z",
     "shell.execute_reply": "2023-03-08T10:29:49.619152Z"
    },
    "papermill": {
     "duration": 0.067517,
     "end_time": "2023-03-08T10:29:49.623652",
     "exception": false,
     "start_time": "2023-03-08T10:29:49.556135",
     "status": "completed"
    },
    "tags": []
   },
   "outputs": [
    {
     "name": "stdout",
     "output_type": "stream",
     "text": [
      "              precision    recall  f1-score   support\n",
      "\n",
      "        comp       0.22      0.22      0.22        50\n",
      "        misc       0.12      0.12      0.12         8\n",
      "         rec       0.48      0.47      0.47        47\n",
      "    religion       0.24      0.25      0.24        83\n",
      "         sci       0.26      0.22      0.24        77\n",
      "        talk       0.34      0.36      0.35        90\n",
      "\n",
      "    accuracy                           0.29       355\n",
      "   macro avg       0.27      0.27      0.27       355\n",
      "weighted avg       0.29      0.29      0.29       355\n",
      "\n"
     ]
    }
   ],
   "source": [
    "y_pred = clf.predict(X_test)\n",
    "print(classification_report(y_test, y_pred))"
   ]
  },
  {
   "cell_type": "code",
   "execution_count": 47,
   "id": "42bc91ff",
   "metadata": {
    "execution": {
     "iopub.execute_input": "2023-03-08T10:29:49.683025Z",
     "iopub.status.busy": "2023-03-08T10:29:49.682557Z",
     "iopub.status.idle": "2023-03-08T10:29:49.688436Z",
     "shell.execute_reply": "2023-03-08T10:29:49.687572Z"
    },
    "papermill": {
     "duration": 0.03272,
     "end_time": "2023-03-08T10:29:49.690120",
     "exception": false,
     "start_time": "2023-03-08T10:29:49.657400",
     "status": "completed"
    },
    "tags": []
   },
   "outputs": [],
   "source": [
    "pickle.dump(clf, open(f'{data_path}/decision_tree.pkl', 'wb'))"
   ]
  },
  {
   "cell_type": "code",
   "execution_count": 48,
   "id": "ea9be210",
   "metadata": {
    "execution": {
     "iopub.execute_input": "2023-03-08T10:29:49.718640Z",
     "iopub.status.busy": "2023-03-08T10:29:49.718137Z",
     "iopub.status.idle": "2023-03-08T10:29:49.745700Z",
     "shell.execute_reply": "2023-03-08T10:29:49.744659Z"
    },
    "papermill": {
     "duration": 0.044316,
     "end_time": "2023-03-08T10:29:49.747721",
     "exception": false,
     "start_time": "2023-03-08T10:29:49.703405",
     "status": "completed"
    },
    "tags": []
   },
   "outputs": [],
   "source": [
    "acc = accuracy_score(y_test, y_pred)\n",
    "pre = precision_score(y_test, y_pred, average=avg_par)\n",
    "rec = recall_score(y_test, y_pred, average=avg_par)\n",
    "f1 = f1_score(y_test, y_pred, average=avg_par)\n",
    "\n",
    "metrics_data['Shapelets']['DecisionTree'] = {'Accuracy': acc, 'Precision': pre, 'Recall': rec, 'F1': f1}"
   ]
  },
  {
   "cell_type": "markdown",
   "id": "3ca3443b",
   "metadata": {
    "papermill": {
     "duration": 0.013032,
     "end_time": "2023-03-08T10:29:49.775759",
     "exception": false,
     "start_time": "2023-03-08T10:29:49.762727",
     "status": "completed"
    },
    "tags": []
   },
   "source": [
    "**Random Forest**"
   ]
  },
  {
   "cell_type": "code",
   "execution_count": 49,
   "id": "37795e21",
   "metadata": {
    "execution": {
     "iopub.execute_input": "2023-03-08T10:29:49.804009Z",
     "iopub.status.busy": "2023-03-08T10:29:49.803541Z",
     "iopub.status.idle": "2023-03-08T10:29:50.256600Z",
     "shell.execute_reply": "2023-03-08T10:29:50.255460Z"
    },
    "papermill": {
     "duration": 0.470482,
     "end_time": "2023-03-08T10:29:50.259423",
     "exception": false,
     "start_time": "2023-03-08T10:29:49.788941",
     "status": "completed"
    },
    "tags": []
   },
   "outputs": [
    {
     "data": {
      "text/html": [
       "<style>#sk-container-id-6 {color: black;background-color: white;}#sk-container-id-6 pre{padding: 0;}#sk-container-id-6 div.sk-toggleable {background-color: white;}#sk-container-id-6 label.sk-toggleable__label {cursor: pointer;display: block;width: 100%;margin-bottom: 0;padding: 0.3em;box-sizing: border-box;text-align: center;}#sk-container-id-6 label.sk-toggleable__label-arrow:before {content: \"▸\";float: left;margin-right: 0.25em;color: #696969;}#sk-container-id-6 label.sk-toggleable__label-arrow:hover:before {color: black;}#sk-container-id-6 div.sk-estimator:hover label.sk-toggleable__label-arrow:before {color: black;}#sk-container-id-6 div.sk-toggleable__content {max-height: 0;max-width: 0;overflow: hidden;text-align: left;background-color: #f0f8ff;}#sk-container-id-6 div.sk-toggleable__content pre {margin: 0.2em;color: black;border-radius: 0.25em;background-color: #f0f8ff;}#sk-container-id-6 input.sk-toggleable__control:checked~div.sk-toggleable__content {max-height: 200px;max-width: 100%;overflow: auto;}#sk-container-id-6 input.sk-toggleable__control:checked~label.sk-toggleable__label-arrow:before {content: \"▾\";}#sk-container-id-6 div.sk-estimator input.sk-toggleable__control:checked~label.sk-toggleable__label {background-color: #d4ebff;}#sk-container-id-6 div.sk-label input.sk-toggleable__control:checked~label.sk-toggleable__label {background-color: #d4ebff;}#sk-container-id-6 input.sk-hidden--visually {border: 0;clip: rect(1px 1px 1px 1px);clip: rect(1px, 1px, 1px, 1px);height: 1px;margin: -1px;overflow: hidden;padding: 0;position: absolute;width: 1px;}#sk-container-id-6 div.sk-estimator {font-family: monospace;background-color: #f0f8ff;border: 1px dotted black;border-radius: 0.25em;box-sizing: border-box;margin-bottom: 0.5em;}#sk-container-id-6 div.sk-estimator:hover {background-color: #d4ebff;}#sk-container-id-6 div.sk-parallel-item::after {content: \"\";width: 100%;border-bottom: 1px solid gray;flex-grow: 1;}#sk-container-id-6 div.sk-label:hover label.sk-toggleable__label {background-color: #d4ebff;}#sk-container-id-6 div.sk-serial::before {content: \"\";position: absolute;border-left: 1px solid gray;box-sizing: border-box;top: 0;bottom: 0;left: 50%;z-index: 0;}#sk-container-id-6 div.sk-serial {display: flex;flex-direction: column;align-items: center;background-color: white;padding-right: 0.2em;padding-left: 0.2em;position: relative;}#sk-container-id-6 div.sk-item {position: relative;z-index: 1;}#sk-container-id-6 div.sk-parallel {display: flex;align-items: stretch;justify-content: center;background-color: white;position: relative;}#sk-container-id-6 div.sk-item::before, #sk-container-id-6 div.sk-parallel-item::before {content: \"\";position: absolute;border-left: 1px solid gray;box-sizing: border-box;top: 0;bottom: 0;left: 50%;z-index: -1;}#sk-container-id-6 div.sk-parallel-item {display: flex;flex-direction: column;z-index: 1;position: relative;background-color: white;}#sk-container-id-6 div.sk-parallel-item:first-child::after {align-self: flex-end;width: 50%;}#sk-container-id-6 div.sk-parallel-item:last-child::after {align-self: flex-start;width: 50%;}#sk-container-id-6 div.sk-parallel-item:only-child::after {width: 0;}#sk-container-id-6 div.sk-dashed-wrapped {border: 1px dashed gray;margin: 0 0.4em 0.5em 0.4em;box-sizing: border-box;padding-bottom: 0.4em;background-color: white;}#sk-container-id-6 div.sk-label label {font-family: monospace;font-weight: bold;display: inline-block;line-height: 1.2em;}#sk-container-id-6 div.sk-label-container {text-align: center;}#sk-container-id-6 div.sk-container {/* jupyter's `normalize.less` sets `[hidden] { display: none; }` but bootstrap.min.css set `[hidden] { display: none !important; }` so we also need the `!important` here to be able to override the default hidden behavior on the sphinx rendered scikit-learn.org. See: https://github.com/scikit-learn/scikit-learn/issues/21755 */display: inline-block !important;position: relative;}#sk-container-id-6 div.sk-text-repr-fallback {display: none;}</style><div id=\"sk-container-id-6\" class=\"sk-top-container\"><div class=\"sk-text-repr-fallback\"><pre>RandomForestClassifier(random_state=42)</pre><b>In a Jupyter environment, please rerun this cell to show the HTML representation or trust the notebook. <br />On GitHub, the HTML representation is unable to render, please try loading this page with nbviewer.org.</b></div><div class=\"sk-container\" hidden><div class=\"sk-item\"><div class=\"sk-estimator sk-toggleable\"><input class=\"sk-toggleable__control sk-hidden--visually\" id=\"sk-estimator-id-6\" type=\"checkbox\" checked><label for=\"sk-estimator-id-6\" class=\"sk-toggleable__label sk-toggleable__label-arrow\">RandomForestClassifier</label><div class=\"sk-toggleable__content\"><pre>RandomForestClassifier(random_state=42)</pre></div></div></div></div></div>"
      ],
      "text/plain": [
       "RandomForestClassifier(random_state=42)"
      ]
     },
     "execution_count": 49,
     "metadata": {},
     "output_type": "execute_result"
    }
   ],
   "source": [
    "clf = RandomForestClassifier(random_state=42)\n",
    "clf.fit(X_train, y_train)"
   ]
  },
  {
   "cell_type": "code",
   "execution_count": 50,
   "id": "581ab90a",
   "metadata": {
    "execution": {
     "iopub.execute_input": "2023-03-08T10:29:50.289319Z",
     "iopub.status.busy": "2023-03-08T10:29:50.289005Z",
     "iopub.status.idle": "2023-03-08T10:29:50.320698Z",
     "shell.execute_reply": "2023-03-08T10:29:50.319916Z"
    },
    "papermill": {
     "duration": 0.048431,
     "end_time": "2023-03-08T10:29:50.322979",
     "exception": false,
     "start_time": "2023-03-08T10:29:50.274548",
     "status": "completed"
    },
    "tags": []
   },
   "outputs": [
    {
     "name": "stdout",
     "output_type": "stream",
     "text": [
      "              precision    recall  f1-score   support\n",
      "\n",
      "        comp       0.47      0.18      0.26        50\n",
      "        misc       1.00      0.12      0.22         8\n",
      "         rec       0.62      0.72      0.67        47\n",
      "    religion       0.32      0.45      0.38        83\n",
      "         sci       0.29      0.18      0.22        77\n",
      "        talk       0.38      0.50      0.43        90\n",
      "\n",
      "    accuracy                           0.39       355\n",
      "   macro avg       0.51      0.36      0.36       355\n",
      "weighted avg       0.41      0.39      0.38       355\n",
      "\n"
     ]
    }
   ],
   "source": [
    "y_pred = clf.predict(X_test)\n",
    "print(classification_report(y_test, y_pred))"
   ]
  },
  {
   "cell_type": "code",
   "execution_count": 51,
   "id": "faf1d7f4",
   "metadata": {
    "execution": {
     "iopub.execute_input": "2023-03-08T10:29:50.385350Z",
     "iopub.status.busy": "2023-03-08T10:29:50.385033Z",
     "iopub.status.idle": "2023-03-08T10:29:50.408474Z",
     "shell.execute_reply": "2023-03-08T10:29:50.407469Z"
    },
    "papermill": {
     "duration": 0.057251,
     "end_time": "2023-03-08T10:29:50.410890",
     "exception": false,
     "start_time": "2023-03-08T10:29:50.353639",
     "status": "completed"
    },
    "tags": []
   },
   "outputs": [],
   "source": [
    "acc = accuracy_score(y_test, y_pred)\n",
    "pre = precision_score(y_test, y_pred, average=avg_par)\n",
    "rec = recall_score(y_test, y_pred, average=avg_par)\n",
    "f1 = f1_score(y_test, y_pred, average=avg_par)\n",
    "\n",
    "metrics_data['Shapelets']['RandomForest'] = {'Accuracy': acc, 'Precision': pre, 'Recall': rec, 'F1': f1}"
   ]
  },
  {
   "cell_type": "markdown",
   "id": "61fceefb",
   "metadata": {
    "papermill": {
     "duration": 0.013301,
     "end_time": "2023-03-08T10:29:50.439889",
     "exception": false,
     "start_time": "2023-03-08T10:29:50.426588",
     "status": "completed"
    },
    "tags": []
   },
   "source": [
    "**LightGBM**"
   ]
  },
  {
   "cell_type": "code",
   "execution_count": 52,
   "id": "194189da",
   "metadata": {
    "execution": {
     "iopub.execute_input": "2023-03-08T10:29:50.469278Z",
     "iopub.status.busy": "2023-03-08T10:29:50.468348Z",
     "iopub.status.idle": "2023-03-08T10:29:50.957922Z",
     "shell.execute_reply": "2023-03-08T10:29:50.957188Z"
    },
    "papermill": {
     "duration": 0.507287,
     "end_time": "2023-03-08T10:29:50.960665",
     "exception": false,
     "start_time": "2023-03-08T10:29:50.453378",
     "status": "completed"
    },
    "tags": []
   },
   "outputs": [
    {
     "data": {
      "text/html": [
       "<style>#sk-container-id-7 {color: black;background-color: white;}#sk-container-id-7 pre{padding: 0;}#sk-container-id-7 div.sk-toggleable {background-color: white;}#sk-container-id-7 label.sk-toggleable__label {cursor: pointer;display: block;width: 100%;margin-bottom: 0;padding: 0.3em;box-sizing: border-box;text-align: center;}#sk-container-id-7 label.sk-toggleable__label-arrow:before {content: \"▸\";float: left;margin-right: 0.25em;color: #696969;}#sk-container-id-7 label.sk-toggleable__label-arrow:hover:before {color: black;}#sk-container-id-7 div.sk-estimator:hover label.sk-toggleable__label-arrow:before {color: black;}#sk-container-id-7 div.sk-toggleable__content {max-height: 0;max-width: 0;overflow: hidden;text-align: left;background-color: #f0f8ff;}#sk-container-id-7 div.sk-toggleable__content pre {margin: 0.2em;color: black;border-radius: 0.25em;background-color: #f0f8ff;}#sk-container-id-7 input.sk-toggleable__control:checked~div.sk-toggleable__content {max-height: 200px;max-width: 100%;overflow: auto;}#sk-container-id-7 input.sk-toggleable__control:checked~label.sk-toggleable__label-arrow:before {content: \"▾\";}#sk-container-id-7 div.sk-estimator input.sk-toggleable__control:checked~label.sk-toggleable__label {background-color: #d4ebff;}#sk-container-id-7 div.sk-label input.sk-toggleable__control:checked~label.sk-toggleable__label {background-color: #d4ebff;}#sk-container-id-7 input.sk-hidden--visually {border: 0;clip: rect(1px 1px 1px 1px);clip: rect(1px, 1px, 1px, 1px);height: 1px;margin: -1px;overflow: hidden;padding: 0;position: absolute;width: 1px;}#sk-container-id-7 div.sk-estimator {font-family: monospace;background-color: #f0f8ff;border: 1px dotted black;border-radius: 0.25em;box-sizing: border-box;margin-bottom: 0.5em;}#sk-container-id-7 div.sk-estimator:hover {background-color: #d4ebff;}#sk-container-id-7 div.sk-parallel-item::after {content: \"\";width: 100%;border-bottom: 1px solid gray;flex-grow: 1;}#sk-container-id-7 div.sk-label:hover label.sk-toggleable__label {background-color: #d4ebff;}#sk-container-id-7 div.sk-serial::before {content: \"\";position: absolute;border-left: 1px solid gray;box-sizing: border-box;top: 0;bottom: 0;left: 50%;z-index: 0;}#sk-container-id-7 div.sk-serial {display: flex;flex-direction: column;align-items: center;background-color: white;padding-right: 0.2em;padding-left: 0.2em;position: relative;}#sk-container-id-7 div.sk-item {position: relative;z-index: 1;}#sk-container-id-7 div.sk-parallel {display: flex;align-items: stretch;justify-content: center;background-color: white;position: relative;}#sk-container-id-7 div.sk-item::before, #sk-container-id-7 div.sk-parallel-item::before {content: \"\";position: absolute;border-left: 1px solid gray;box-sizing: border-box;top: 0;bottom: 0;left: 50%;z-index: -1;}#sk-container-id-7 div.sk-parallel-item {display: flex;flex-direction: column;z-index: 1;position: relative;background-color: white;}#sk-container-id-7 div.sk-parallel-item:first-child::after {align-self: flex-end;width: 50%;}#sk-container-id-7 div.sk-parallel-item:last-child::after {align-self: flex-start;width: 50%;}#sk-container-id-7 div.sk-parallel-item:only-child::after {width: 0;}#sk-container-id-7 div.sk-dashed-wrapped {border: 1px dashed gray;margin: 0 0.4em 0.5em 0.4em;box-sizing: border-box;padding-bottom: 0.4em;background-color: white;}#sk-container-id-7 div.sk-label label {font-family: monospace;font-weight: bold;display: inline-block;line-height: 1.2em;}#sk-container-id-7 div.sk-label-container {text-align: center;}#sk-container-id-7 div.sk-container {/* jupyter's `normalize.less` sets `[hidden] { display: none; }` but bootstrap.min.css set `[hidden] { display: none !important; }` so we also need the `!important` here to be able to override the default hidden behavior on the sphinx rendered scikit-learn.org. See: https://github.com/scikit-learn/scikit-learn/issues/21755 */display: inline-block !important;position: relative;}#sk-container-id-7 div.sk-text-repr-fallback {display: none;}</style><div id=\"sk-container-id-7\" class=\"sk-top-container\"><div class=\"sk-text-repr-fallback\"><pre>LGBMClassifier(objective=&#x27;multiclass&#x27;)</pre><b>In a Jupyter environment, please rerun this cell to show the HTML representation or trust the notebook. <br />On GitHub, the HTML representation is unable to render, please try loading this page with nbviewer.org.</b></div><div class=\"sk-container\" hidden><div class=\"sk-item\"><div class=\"sk-estimator sk-toggleable\"><input class=\"sk-toggleable__control sk-hidden--visually\" id=\"sk-estimator-id-7\" type=\"checkbox\" checked><label for=\"sk-estimator-id-7\" class=\"sk-toggleable__label sk-toggleable__label-arrow\">LGBMClassifier</label><div class=\"sk-toggleable__content\"><pre>LGBMClassifier(objective=&#x27;multiclass&#x27;)</pre></div></div></div></div></div>"
      ],
      "text/plain": [
       "LGBMClassifier(objective='multiclass')"
      ]
     },
     "execution_count": 52,
     "metadata": {},
     "output_type": "execute_result"
    }
   ],
   "source": [
    "clf = lgbm.LGBMClassifier(objective=obj_par) \n",
    "clf.fit(X_train, y_train)"
   ]
  },
  {
   "cell_type": "code",
   "execution_count": 53,
   "id": "355a078b",
   "metadata": {
    "execution": {
     "iopub.execute_input": "2023-03-08T10:29:51.038680Z",
     "iopub.status.busy": "2023-03-08T10:29:51.038377Z",
     "iopub.status.idle": "2023-03-08T10:29:51.061187Z",
     "shell.execute_reply": "2023-03-08T10:29:51.060353Z"
    },
    "papermill": {
     "duration": 0.064819,
     "end_time": "2023-03-08T10:29:51.063250",
     "exception": false,
     "start_time": "2023-03-08T10:29:50.998431",
     "status": "completed"
    },
    "tags": []
   },
   "outputs": [
    {
     "name": "stdout",
     "output_type": "stream",
     "text": [
      "              precision    recall  f1-score   support\n",
      "\n",
      "        comp       0.33      0.20      0.25        50\n",
      "        misc       1.00      0.12      0.22         8\n",
      "         rec       0.60      0.70      0.65        47\n",
      "    religion       0.28      0.33      0.30        83\n",
      "         sci       0.28      0.21      0.24        77\n",
      "        talk       0.35      0.44      0.39        90\n",
      "\n",
      "    accuracy                           0.36       355\n",
      "   macro avg       0.47      0.33      0.34       355\n",
      "weighted avg       0.36      0.36      0.35       355\n",
      "\n"
     ]
    }
   ],
   "source": [
    "y_pred = clf.predict(X_test)\n",
    "print(classification_report(y_test, y_pred))"
   ]
  },
  {
   "cell_type": "code",
   "execution_count": 54,
   "id": "f22b911e",
   "metadata": {
    "execution": {
     "iopub.execute_input": "2023-03-08T10:29:51.100044Z",
     "iopub.status.busy": "2023-03-08T10:29:51.099750Z",
     "iopub.status.idle": "2023-03-08T10:29:51.126999Z",
     "shell.execute_reply": "2023-03-08T10:29:51.125408Z"
    },
    "papermill": {
     "duration": 0.046092,
     "end_time": "2023-03-08T10:29:51.129009",
     "exception": false,
     "start_time": "2023-03-08T10:29:51.082917",
     "status": "completed"
    },
    "tags": []
   },
   "outputs": [],
   "source": [
    "acc = accuracy_score(y_test, y_pred)\n",
    "pre = precision_score(y_test, y_pred, average=avg_par)\n",
    "rec = recall_score(y_test, y_pred, average=avg_par)\n",
    "f1 = f1_score(y_test, y_pred, average=avg_par)\n",
    "\n",
    "metrics_data['Shapelets']['LightGBM'] = {'Accuracy': acc, 'Precision': pre, 'Recall': rec, 'F1': f1}"
   ]
  },
  {
   "cell_type": "markdown",
   "id": "0809af9f",
   "metadata": {
    "papermill": {
     "duration": 0.01369,
     "end_time": "2023-03-08T10:29:51.159010",
     "exception": false,
     "start_time": "2023-03-08T10:29:51.145320",
     "status": "completed"
    },
    "tags": []
   },
   "source": [
    "#### KNN"
   ]
  },
  {
   "cell_type": "code",
   "execution_count": 55,
   "id": "1c9237e0",
   "metadata": {
    "execution": {
     "iopub.execute_input": "2023-03-08T10:29:51.190717Z",
     "iopub.status.busy": "2023-03-08T10:29:51.189590Z",
     "iopub.status.idle": "2023-03-08T10:29:51.197546Z",
     "shell.execute_reply": "2023-03-08T10:29:51.196095Z"
    },
    "papermill": {
     "duration": 0.025995,
     "end_time": "2023-03-08T10:29:51.199248",
     "exception": false,
     "start_time": "2023-03-08T10:29:51.173253",
     "status": "completed"
    },
    "tags": []
   },
   "outputs": [],
   "source": [
    "X_train = ts_train.reshape((ts_train.shape[0], ts_train.shape[1]))\n",
    "X_test = ts_test.reshape((ts_test.shape[0], ts_test.shape[1]))"
   ]
  },
  {
   "cell_type": "code",
   "execution_count": 56,
   "id": "192f3c3f",
   "metadata": {
    "execution": {
     "iopub.execute_input": "2023-03-08T10:29:51.230492Z",
     "iopub.status.busy": "2023-03-08T10:29:51.229833Z",
     "iopub.status.idle": "2023-03-08T10:29:51.238379Z",
     "shell.execute_reply": "2023-03-08T10:29:51.236925Z"
    },
    "papermill": {
     "duration": 0.026332,
     "end_time": "2023-03-08T10:29:51.240171",
     "exception": false,
     "start_time": "2023-03-08T10:29:51.213839",
     "status": "completed"
    },
    "tags": []
   },
   "outputs": [
    {
     "data": {
      "text/plain": [
       "(1420, 100)"
      ]
     },
     "execution_count": 56,
     "metadata": {},
     "output_type": "execute_result"
    }
   ],
   "source": [
    "X_train.shape"
   ]
  },
  {
   "cell_type": "code",
   "execution_count": 57,
   "id": "de0e5000",
   "metadata": {
    "execution": {
     "iopub.execute_input": "2023-03-08T10:29:51.272572Z",
     "iopub.status.busy": "2023-03-08T10:29:51.271588Z",
     "iopub.status.idle": "2023-03-08T10:29:51.278120Z",
     "shell.execute_reply": "2023-03-08T10:29:51.276696Z"
    },
    "papermill": {
     "duration": 0.024641,
     "end_time": "2023-03-08T10:29:51.279879",
     "exception": false,
     "start_time": "2023-03-08T10:29:51.255238",
     "status": "completed"
    },
    "tags": []
   },
   "outputs": [],
   "source": [
    "metrics_data['KNN'] = {}"
   ]
  },
  {
   "cell_type": "markdown",
   "id": "8ee39c05",
   "metadata": {
    "papermill": {
     "duration": 0.014888,
     "end_time": "2023-03-08T10:29:51.309463",
     "exception": false,
     "start_time": "2023-03-08T10:29:51.294575",
     "status": "completed"
    },
    "tags": []
   },
   "source": [
    "**Euclidean Distance**"
   ]
  },
  {
   "cell_type": "code",
   "execution_count": 58,
   "id": "55db1f58",
   "metadata": {
    "execution": {
     "iopub.execute_input": "2023-03-08T10:29:51.342468Z",
     "iopub.status.busy": "2023-03-08T10:29:51.341442Z",
     "iopub.status.idle": "2023-03-08T10:29:51.347772Z",
     "shell.execute_reply": "2023-03-08T10:29:51.346337Z"
    },
    "papermill": {
     "duration": 0.025079,
     "end_time": "2023-03-08T10:29:51.349722",
     "exception": false,
     "start_time": "2023-03-08T10:29:51.324643",
     "status": "completed"
    },
    "tags": []
   },
   "outputs": [],
   "source": [
    "from sklearn.neighbors import KNeighborsClassifier"
   ]
  },
  {
   "cell_type": "code",
   "execution_count": 59,
   "id": "132c2537",
   "metadata": {
    "execution": {
     "iopub.execute_input": "2023-03-08T10:29:51.382241Z",
     "iopub.status.busy": "2023-03-08T10:29:51.381324Z",
     "iopub.status.idle": "2023-03-08T10:29:51.395588Z",
     "shell.execute_reply": "2023-03-08T10:29:51.394007Z"
    },
    "papermill": {
     "duration": 0.032951,
     "end_time": "2023-03-08T10:29:51.397519",
     "exception": false,
     "start_time": "2023-03-08T10:29:51.364568",
     "status": "completed"
    },
    "tags": []
   },
   "outputs": [
    {
     "data": {
      "text/html": [
       "<style>#sk-container-id-8 {color: black;background-color: white;}#sk-container-id-8 pre{padding: 0;}#sk-container-id-8 div.sk-toggleable {background-color: white;}#sk-container-id-8 label.sk-toggleable__label {cursor: pointer;display: block;width: 100%;margin-bottom: 0;padding: 0.3em;box-sizing: border-box;text-align: center;}#sk-container-id-8 label.sk-toggleable__label-arrow:before {content: \"▸\";float: left;margin-right: 0.25em;color: #696969;}#sk-container-id-8 label.sk-toggleable__label-arrow:hover:before {color: black;}#sk-container-id-8 div.sk-estimator:hover label.sk-toggleable__label-arrow:before {color: black;}#sk-container-id-8 div.sk-toggleable__content {max-height: 0;max-width: 0;overflow: hidden;text-align: left;background-color: #f0f8ff;}#sk-container-id-8 div.sk-toggleable__content pre {margin: 0.2em;color: black;border-radius: 0.25em;background-color: #f0f8ff;}#sk-container-id-8 input.sk-toggleable__control:checked~div.sk-toggleable__content {max-height: 200px;max-width: 100%;overflow: auto;}#sk-container-id-8 input.sk-toggleable__control:checked~label.sk-toggleable__label-arrow:before {content: \"▾\";}#sk-container-id-8 div.sk-estimator input.sk-toggleable__control:checked~label.sk-toggleable__label {background-color: #d4ebff;}#sk-container-id-8 div.sk-label input.sk-toggleable__control:checked~label.sk-toggleable__label {background-color: #d4ebff;}#sk-container-id-8 input.sk-hidden--visually {border: 0;clip: rect(1px 1px 1px 1px);clip: rect(1px, 1px, 1px, 1px);height: 1px;margin: -1px;overflow: hidden;padding: 0;position: absolute;width: 1px;}#sk-container-id-8 div.sk-estimator {font-family: monospace;background-color: #f0f8ff;border: 1px dotted black;border-radius: 0.25em;box-sizing: border-box;margin-bottom: 0.5em;}#sk-container-id-8 div.sk-estimator:hover {background-color: #d4ebff;}#sk-container-id-8 div.sk-parallel-item::after {content: \"\";width: 100%;border-bottom: 1px solid gray;flex-grow: 1;}#sk-container-id-8 div.sk-label:hover label.sk-toggleable__label {background-color: #d4ebff;}#sk-container-id-8 div.sk-serial::before {content: \"\";position: absolute;border-left: 1px solid gray;box-sizing: border-box;top: 0;bottom: 0;left: 50%;z-index: 0;}#sk-container-id-8 div.sk-serial {display: flex;flex-direction: column;align-items: center;background-color: white;padding-right: 0.2em;padding-left: 0.2em;position: relative;}#sk-container-id-8 div.sk-item {position: relative;z-index: 1;}#sk-container-id-8 div.sk-parallel {display: flex;align-items: stretch;justify-content: center;background-color: white;position: relative;}#sk-container-id-8 div.sk-item::before, #sk-container-id-8 div.sk-parallel-item::before {content: \"\";position: absolute;border-left: 1px solid gray;box-sizing: border-box;top: 0;bottom: 0;left: 50%;z-index: -1;}#sk-container-id-8 div.sk-parallel-item {display: flex;flex-direction: column;z-index: 1;position: relative;background-color: white;}#sk-container-id-8 div.sk-parallel-item:first-child::after {align-self: flex-end;width: 50%;}#sk-container-id-8 div.sk-parallel-item:last-child::after {align-self: flex-start;width: 50%;}#sk-container-id-8 div.sk-parallel-item:only-child::after {width: 0;}#sk-container-id-8 div.sk-dashed-wrapped {border: 1px dashed gray;margin: 0 0.4em 0.5em 0.4em;box-sizing: border-box;padding-bottom: 0.4em;background-color: white;}#sk-container-id-8 div.sk-label label {font-family: monospace;font-weight: bold;display: inline-block;line-height: 1.2em;}#sk-container-id-8 div.sk-label-container {text-align: center;}#sk-container-id-8 div.sk-container {/* jupyter's `normalize.less` sets `[hidden] { display: none; }` but bootstrap.min.css set `[hidden] { display: none !important; }` so we also need the `!important` here to be able to override the default hidden behavior on the sphinx rendered scikit-learn.org. See: https://github.com/scikit-learn/scikit-learn/issues/21755 */display: inline-block !important;position: relative;}#sk-container-id-8 div.sk-text-repr-fallback {display: none;}</style><div id=\"sk-container-id-8\" class=\"sk-top-container\"><div class=\"sk-text-repr-fallback\"><pre>KNeighborsClassifier()</pre><b>In a Jupyter environment, please rerun this cell to show the HTML representation or trust the notebook. <br />On GitHub, the HTML representation is unable to render, please try loading this page with nbviewer.org.</b></div><div class=\"sk-container\" hidden><div class=\"sk-item\"><div class=\"sk-estimator sk-toggleable\"><input class=\"sk-toggleable__control sk-hidden--visually\" id=\"sk-estimator-id-8\" type=\"checkbox\" checked><label for=\"sk-estimator-id-8\" class=\"sk-toggleable__label sk-toggleable__label-arrow\">KNeighborsClassifier</label><div class=\"sk-toggleable__content\"><pre>KNeighborsClassifier()</pre></div></div></div></div></div>"
      ],
      "text/plain": [
       "KNeighborsClassifier()"
      ]
     },
     "execution_count": 59,
     "metadata": {},
     "output_type": "execute_result"
    }
   ],
   "source": [
    "clf = KNeighborsClassifier(n_neighbors=5, weights='uniform')\n",
    "clf.fit(X_train, y_train)"
   ]
  },
  {
   "cell_type": "code",
   "execution_count": 60,
   "id": "0afad62a",
   "metadata": {
    "execution": {
     "iopub.execute_input": "2023-03-08T10:29:51.430015Z",
     "iopub.status.busy": "2023-03-08T10:29:51.429095Z",
     "iopub.status.idle": "2023-03-08T10:29:51.640464Z",
     "shell.execute_reply": "2023-03-08T10:29:51.639143Z"
    },
    "papermill": {
     "duration": 0.229285,
     "end_time": "2023-03-08T10:29:51.642508",
     "exception": false,
     "start_time": "2023-03-08T10:29:51.413223",
     "status": "completed"
    },
    "tags": []
   },
   "outputs": [
    {
     "name": "stdout",
     "output_type": "stream",
     "text": [
      "              precision    recall  f1-score   support\n",
      "\n",
      "        comp       0.16      0.30      0.21        50\n",
      "        misc       0.17      0.25      0.20         8\n",
      "         rec       0.35      0.81      0.49        47\n",
      "    religion       0.23      0.19      0.21        83\n",
      "         sci       0.23      0.17      0.19        77\n",
      "        talk       0.21      0.03      0.06        90\n",
      "\n",
      "    accuracy                           0.25       355\n",
      "   macro avg       0.22      0.29      0.23       355\n",
      "weighted avg       0.23      0.25      0.20       355\n",
      "\n"
     ]
    }
   ],
   "source": [
    "y_pred = clf.predict(X_test)\n",
    "print(classification_report(y_test, y_pred))"
   ]
  },
  {
   "cell_type": "code",
   "execution_count": 61,
   "id": "2d709070",
   "metadata": {
    "execution": {
     "iopub.execute_input": "2023-03-08T10:29:51.692151Z",
     "iopub.status.busy": "2023-03-08T10:29:51.691853Z",
     "iopub.status.idle": "2023-03-08T10:29:51.706957Z",
     "shell.execute_reply": "2023-03-08T10:29:51.706092Z"
    },
    "papermill": {
     "duration": 0.04106,
     "end_time": "2023-03-08T10:29:51.709202",
     "exception": false,
     "start_time": "2023-03-08T10:29:51.668142",
     "status": "completed"
    },
    "tags": []
   },
   "outputs": [],
   "source": [
    "acc = accuracy_score(y_test, y_pred)\n",
    "pre = precision_score(y_test, y_pred, average=avg_par)\n",
    "rec = recall_score(y_test, y_pred, average=avg_par)\n",
    "f1 = f1_score(y_test, y_pred, average=avg_par)\n",
    "\n",
    "metrics_data['KNN']['Euclidean'] = {'Accuracy': acc, 'Precision': pre, 'Recall': rec, 'F1': f1}"
   ]
  },
  {
   "cell_type": "markdown",
   "id": "c5ec2a09",
   "metadata": {
    "papermill": {
     "duration": 0.01373,
     "end_time": "2023-03-08T10:29:51.740053",
     "exception": false,
     "start_time": "2023-03-08T10:29:51.726323",
     "status": "completed"
    },
    "tags": []
   },
   "source": [
    "**Dynamic Time Warping**"
   ]
  },
  {
   "cell_type": "code",
   "execution_count": 62,
   "id": "2df913d8",
   "metadata": {
    "execution": {
     "iopub.execute_input": "2023-03-08T10:29:51.769967Z",
     "iopub.status.busy": "2023-03-08T10:29:51.769527Z",
     "iopub.status.idle": "2023-03-08T10:29:51.842838Z",
     "shell.execute_reply": "2023-03-08T10:29:51.842021Z"
    },
    "papermill": {
     "duration": 0.091726,
     "end_time": "2023-03-08T10:29:51.845685",
     "exception": false,
     "start_time": "2023-03-08T10:29:51.753959",
     "status": "completed"
    },
    "tags": []
   },
   "outputs": [],
   "source": [
    "from pyts.classification import KNeighborsClassifier\n",
    "from pyts.approximation import PiecewiseAggregateApproximation\n",
    "from imblearn.under_sampling import ClusterCentroids\n",
    "from sklearn_extra.cluster import KMedoids"
   ]
  },
  {
   "cell_type": "code",
   "execution_count": 63,
   "id": "db1604ec",
   "metadata": {
    "execution": {
     "iopub.execute_input": "2023-03-08T10:29:51.878521Z",
     "iopub.status.busy": "2023-03-08T10:29:51.878094Z",
     "iopub.status.idle": "2023-03-08T10:29:52.376378Z",
     "shell.execute_reply": "2023-03-08T10:29:52.375447Z"
    },
    "papermill": {
     "duration": 0.516824,
     "end_time": "2023-03-08T10:29:52.379287",
     "exception": false,
     "start_time": "2023-03-08T10:29:51.862463",
     "status": "completed"
    },
    "tags": []
   },
   "outputs": [],
   "source": [
    "if paa_window_size:\n",
    "    paa = PiecewiseAggregateApproximation(window_size=paa_window_size)\n",
    "    X_train = paa.transform(X_train)\n",
    "    X_test = paa.transform(X_test)\n",
    "    X_train.shape"
   ]
  },
  {
   "cell_type": "code",
   "execution_count": 64,
   "id": "59fa27aa",
   "metadata": {
    "execution": {
     "iopub.execute_input": "2023-03-08T10:29:52.460392Z",
     "iopub.status.busy": "2023-03-08T10:29:52.460051Z",
     "iopub.status.idle": "2023-03-08T10:29:52.466383Z",
     "shell.execute_reply": "2023-03-08T10:29:52.465285Z"
    },
    "papermill": {
     "duration": 0.049151,
     "end_time": "2023-03-08T10:29:52.467946",
     "exception": false,
     "start_time": "2023-03-08T10:29:52.418795",
     "status": "completed"
    },
    "tags": []
   },
   "outputs": [],
   "source": [
    "if undersampling:\n",
    "    total_samples = len(y_train)\n",
    "    unique_classes, class_counts = np.unique(y_train, return_counts=True)\n",
    "    samp_strat = dict(zip(unique_classes, np.floor(class_counts * undersampling).astype(int)))\n",
    "    print(samp_strat)\n",
    "    cc = ClusterCentroids(estimator=KMedoids(\n",
    "        random_state=42), sampling_strategy=samp_strat, random_state=42)\n",
    "    X_train, y_train = cc.fit_resample(X_train, y_train)\n",
    "    X_train.shape"
   ]
  },
  {
   "cell_type": "code",
   "execution_count": 65,
   "id": "e7ac6b44",
   "metadata": {
    "execution": {
     "iopub.execute_input": "2023-03-08T10:29:52.498489Z",
     "iopub.status.busy": "2023-03-08T10:29:52.497965Z",
     "iopub.status.idle": "2023-03-08T10:29:52.513996Z",
     "shell.execute_reply": "2023-03-08T10:29:52.512583Z"
    },
    "papermill": {
     "duration": 0.03377,
     "end_time": "2023-03-08T10:29:52.516000",
     "exception": false,
     "start_time": "2023-03-08T10:29:52.482230",
     "status": "completed"
    },
    "tags": []
   },
   "outputs": [
    {
     "data": {
      "text/html": [
       "<style>#sk-container-id-9 {color: black;background-color: white;}#sk-container-id-9 pre{padding: 0;}#sk-container-id-9 div.sk-toggleable {background-color: white;}#sk-container-id-9 label.sk-toggleable__label {cursor: pointer;display: block;width: 100%;margin-bottom: 0;padding: 0.3em;box-sizing: border-box;text-align: center;}#sk-container-id-9 label.sk-toggleable__label-arrow:before {content: \"▸\";float: left;margin-right: 0.25em;color: #696969;}#sk-container-id-9 label.sk-toggleable__label-arrow:hover:before {color: black;}#sk-container-id-9 div.sk-estimator:hover label.sk-toggleable__label-arrow:before {color: black;}#sk-container-id-9 div.sk-toggleable__content {max-height: 0;max-width: 0;overflow: hidden;text-align: left;background-color: #f0f8ff;}#sk-container-id-9 div.sk-toggleable__content pre {margin: 0.2em;color: black;border-radius: 0.25em;background-color: #f0f8ff;}#sk-container-id-9 input.sk-toggleable__control:checked~div.sk-toggleable__content {max-height: 200px;max-width: 100%;overflow: auto;}#sk-container-id-9 input.sk-toggleable__control:checked~label.sk-toggleable__label-arrow:before {content: \"▾\";}#sk-container-id-9 div.sk-estimator input.sk-toggleable__control:checked~label.sk-toggleable__label {background-color: #d4ebff;}#sk-container-id-9 div.sk-label input.sk-toggleable__control:checked~label.sk-toggleable__label {background-color: #d4ebff;}#sk-container-id-9 input.sk-hidden--visually {border: 0;clip: rect(1px 1px 1px 1px);clip: rect(1px, 1px, 1px, 1px);height: 1px;margin: -1px;overflow: hidden;padding: 0;position: absolute;width: 1px;}#sk-container-id-9 div.sk-estimator {font-family: monospace;background-color: #f0f8ff;border: 1px dotted black;border-radius: 0.25em;box-sizing: border-box;margin-bottom: 0.5em;}#sk-container-id-9 div.sk-estimator:hover {background-color: #d4ebff;}#sk-container-id-9 div.sk-parallel-item::after {content: \"\";width: 100%;border-bottom: 1px solid gray;flex-grow: 1;}#sk-container-id-9 div.sk-label:hover label.sk-toggleable__label {background-color: #d4ebff;}#sk-container-id-9 div.sk-serial::before {content: \"\";position: absolute;border-left: 1px solid gray;box-sizing: border-box;top: 0;bottom: 0;left: 50%;z-index: 0;}#sk-container-id-9 div.sk-serial {display: flex;flex-direction: column;align-items: center;background-color: white;padding-right: 0.2em;padding-left: 0.2em;position: relative;}#sk-container-id-9 div.sk-item {position: relative;z-index: 1;}#sk-container-id-9 div.sk-parallel {display: flex;align-items: stretch;justify-content: center;background-color: white;position: relative;}#sk-container-id-9 div.sk-item::before, #sk-container-id-9 div.sk-parallel-item::before {content: \"\";position: absolute;border-left: 1px solid gray;box-sizing: border-box;top: 0;bottom: 0;left: 50%;z-index: -1;}#sk-container-id-9 div.sk-parallel-item {display: flex;flex-direction: column;z-index: 1;position: relative;background-color: white;}#sk-container-id-9 div.sk-parallel-item:first-child::after {align-self: flex-end;width: 50%;}#sk-container-id-9 div.sk-parallel-item:last-child::after {align-self: flex-start;width: 50%;}#sk-container-id-9 div.sk-parallel-item:only-child::after {width: 0;}#sk-container-id-9 div.sk-dashed-wrapped {border: 1px dashed gray;margin: 0 0.4em 0.5em 0.4em;box-sizing: border-box;padding-bottom: 0.4em;background-color: white;}#sk-container-id-9 div.sk-label label {font-family: monospace;font-weight: bold;display: inline-block;line-height: 1.2em;}#sk-container-id-9 div.sk-label-container {text-align: center;}#sk-container-id-9 div.sk-container {/* jupyter's `normalize.less` sets `[hidden] { display: none; }` but bootstrap.min.css set `[hidden] { display: none !important; }` so we also need the `!important` here to be able to override the default hidden behavior on the sphinx rendered scikit-learn.org. See: https://github.com/scikit-learn/scikit-learn/issues/21755 */display: inline-block !important;position: relative;}#sk-container-id-9 div.sk-text-repr-fallback {display: none;}</style><div id=\"sk-container-id-9\" class=\"sk-top-container\"><div class=\"sk-text-repr-fallback\"><pre>KNeighborsClassifier(metric=&#x27;dtw_sakoechiba&#x27;, metric_params={&#x27;window_size&#x27;: 3})</pre><b>In a Jupyter environment, please rerun this cell to show the HTML representation or trust the notebook. <br />On GitHub, the HTML representation is unable to render, please try loading this page with nbviewer.org.</b></div><div class=\"sk-container\" hidden><div class=\"sk-item\"><div class=\"sk-estimator sk-toggleable\"><input class=\"sk-toggleable__control sk-hidden--visually\" id=\"sk-estimator-id-9\" type=\"checkbox\" checked><label for=\"sk-estimator-id-9\" class=\"sk-toggleable__label sk-toggleable__label-arrow\">KNeighborsClassifier</label><div class=\"sk-toggleable__content\"><pre>KNeighborsClassifier(metric=&#x27;dtw_sakoechiba&#x27;, metric_params={&#x27;window_size&#x27;: 3})</pre></div></div></div></div></div>"
      ],
      "text/plain": [
       "KNeighborsClassifier(metric='dtw_sakoechiba', metric_params={'window_size': 3})"
      ]
     },
     "execution_count": 65,
     "metadata": {},
     "output_type": "execute_result"
    }
   ],
   "source": [
    "clf = KNeighborsClassifier(metric='dtw_sakoechiba',  metric_params={'window_size':3})\n",
    "\n",
    "clf.fit(X_train, y_train)"
   ]
  },
  {
   "cell_type": "code",
   "execution_count": 66,
   "id": "8109d19d",
   "metadata": {
    "execution": {
     "iopub.execute_input": "2023-03-08T10:29:52.547293Z",
     "iopub.status.busy": "2023-03-08T10:29:52.546960Z",
     "iopub.status.idle": "2023-03-08T10:31:19.067074Z",
     "shell.execute_reply": "2023-03-08T10:31:19.066083Z"
    },
    "papermill": {
     "duration": 86.578208,
     "end_time": "2023-03-08T10:31:19.109898",
     "exception": false,
     "start_time": "2023-03-08T10:29:52.531690",
     "status": "completed"
    },
    "tags": []
   },
   "outputs": [
    {
     "name": "stdout",
     "output_type": "stream",
     "text": [
      "              precision    recall  f1-score   support\n",
      "\n",
      "        comp       0.23      0.28      0.25        50\n",
      "        misc       0.06      0.12      0.08         8\n",
      "         rec       0.50      0.53      0.52        47\n",
      "    religion       0.37      0.40      0.38        83\n",
      "         sci       0.31      0.23      0.27        77\n",
      "        talk       0.35      0.31      0.33        90\n",
      "\n",
      "    accuracy                           0.34       355\n",
      "   macro avg       0.30      0.31      0.30       355\n",
      "weighted avg       0.34      0.34      0.34       355\n",
      "\n",
      "CPU times: user 1min 26s, sys: 73.6 ms, total: 1min 26s\n",
      "Wall time: 1min 26s\n"
     ]
    }
   ],
   "source": [
    "%%time\n",
    "y_pred = clf.predict(X_test)\n",
    "print(classification_report(y_test, y_pred))"
   ]
  },
  {
   "cell_type": "code",
   "execution_count": 67,
   "id": "b09f5cdf",
   "metadata": {
    "execution": {
     "iopub.execute_input": "2023-03-08T10:31:19.167222Z",
     "iopub.status.busy": "2023-03-08T10:31:19.166906Z",
     "iopub.status.idle": "2023-03-08T10:31:19.191624Z",
     "shell.execute_reply": "2023-03-08T10:31:19.190566Z"
    },
    "papermill": {
     "duration": 0.043197,
     "end_time": "2023-03-08T10:31:19.193857",
     "exception": false,
     "start_time": "2023-03-08T10:31:19.150660",
     "status": "completed"
    },
    "tags": []
   },
   "outputs": [],
   "source": [
    "acc = accuracy_score(y_test, y_pred)\n",
    "pre = precision_score(y_test, y_pred, average=avg_par)\n",
    "rec = recall_score(y_test, y_pred, average=avg_par)\n",
    "f1 = f1_score(y_test, y_pred, average=avg_par)\n",
    "\n",
    "metrics_data['KNN']['DTW'] = {'Accuracy': acc, 'Precision': pre, 'Recall': rec, 'F1': f1}"
   ]
  },
  {
   "cell_type": "markdown",
   "id": "e0e700a7",
   "metadata": {
    "papermill": {
     "duration": 0.014096,
     "end_time": "2023-03-08T10:31:19.224838",
     "exception": false,
     "start_time": "2023-03-08T10:31:19.210742",
     "status": "completed"
    },
    "tags": []
   },
   "source": [
    "## Overall Results"
   ]
  },
  {
   "cell_type": "code",
   "execution_count": 68,
   "id": "d003c193",
   "metadata": {
    "execution": {
     "iopub.execute_input": "2023-03-08T10:31:19.255812Z",
     "iopub.status.busy": "2023-03-08T10:31:19.255347Z",
     "iopub.status.idle": "2023-03-08T10:31:19.265628Z",
     "shell.execute_reply": "2023-03-08T10:31:19.264409Z"
    },
    "papermill": {
     "duration": 0.028376,
     "end_time": "2023-03-08T10:31:19.267725",
     "exception": false,
     "start_time": "2023-03-08T10:31:19.239349",
     "status": "completed"
    },
    "tags": []
   },
   "outputs": [],
   "source": [
    "metrics_data = pd.DataFrame.from_dict({(i,j): metrics_data[i][j] \n",
    "                                       for i in metrics_data.keys() \n",
    "                                       for j in metrics_data[i].keys()},\n",
    "                                       orient='index')"
   ]
  },
  {
   "cell_type": "code",
   "execution_count": 69,
   "id": "0944fe84",
   "metadata": {
    "execution": {
     "iopub.execute_input": "2023-03-08T10:31:19.299819Z",
     "iopub.status.busy": "2023-03-08T10:31:19.299362Z",
     "iopub.status.idle": "2023-03-08T10:31:19.324756Z",
     "shell.execute_reply": "2023-03-08T10:31:19.323766Z"
    },
    "papermill": {
     "duration": 0.044654,
     "end_time": "2023-03-08T10:31:19.327335",
     "exception": false,
     "start_time": "2023-03-08T10:31:19.282681",
     "status": "completed"
    },
    "tags": []
   },
   "outputs": [],
   "source": [
    "acc = accuracy_score(y_test, y_pred)\n",
    "pre = precision_score(y_test, y_pred, average=avg_par)\n",
    "rec = recall_score(y_test, y_pred, average=avg_par)\n",
    "f1 = f1_score(y_test, y_pred, average=avg_par)"
   ]
  },
  {
   "cell_type": "code",
   "execution_count": 70,
   "id": "7ee1b347",
   "metadata": {
    "execution": {
     "iopub.execute_input": "2023-03-08T10:31:19.360151Z",
     "iopub.status.busy": "2023-03-08T10:31:19.359697Z",
     "iopub.status.idle": "2023-03-08T10:31:19.378992Z",
     "shell.execute_reply": "2023-03-08T10:31:19.377564Z"
    },
    "papermill": {
     "duration": 0.038028,
     "end_time": "2023-03-08T10:31:19.381904",
     "exception": false,
     "start_time": "2023-03-08T10:31:19.343876",
     "status": "completed"
    },
    "tags": []
   },
   "outputs": [
    {
     "data": {
      "text/html": [
       "<div>\n",
       "<style scoped>\n",
       "    .dataframe tbody tr th:only-of-type {\n",
       "        vertical-align: middle;\n",
       "    }\n",
       "\n",
       "    .dataframe tbody tr th {\n",
       "        vertical-align: top;\n",
       "    }\n",
       "\n",
       "    .dataframe thead th {\n",
       "        text-align: right;\n",
       "    }\n",
       "</style>\n",
       "<table border=\"1\" class=\"dataframe\">\n",
       "  <thead>\n",
       "    <tr style=\"text-align: right;\">\n",
       "      <th></th>\n",
       "      <th></th>\n",
       "      <th>Accuracy</th>\n",
       "      <th>Precision</th>\n",
       "      <th>Recall</th>\n",
       "      <th>F1</th>\n",
       "    </tr>\n",
       "  </thead>\n",
       "  <tbody>\n",
       "    <tr>\n",
       "      <th rowspan=\"3\" valign=\"top\">Global</th>\n",
       "      <th>DecisionTree</th>\n",
       "      <td>0.639437</td>\n",
       "      <td>0.570409</td>\n",
       "      <td>0.580403</td>\n",
       "      <td>0.573197</td>\n",
       "    </tr>\n",
       "    <tr>\n",
       "      <th>RandomForest</th>\n",
       "      <td>0.870423</td>\n",
       "      <td>0.896344</td>\n",
       "      <td>0.779108</td>\n",
       "      <td>0.799224</td>\n",
       "    </tr>\n",
       "    <tr>\n",
       "      <th>LightGBM</th>\n",
       "      <td>0.876056</td>\n",
       "      <td>0.821129</td>\n",
       "      <td>0.800624</td>\n",
       "      <td>0.808479</td>\n",
       "    </tr>\n",
       "    <tr>\n",
       "      <th rowspan=\"3\" valign=\"top\">Shapelets</th>\n",
       "      <th>DecisionTree</th>\n",
       "      <td>0.292958</td>\n",
       "      <td>0.274887</td>\n",
       "      <td>0.273739</td>\n",
       "      <td>0.273972</td>\n",
       "    </tr>\n",
       "    <tr>\n",
       "      <th>RandomForest</th>\n",
       "      <td>0.394366</td>\n",
       "      <td>0.514460</td>\n",
       "      <td>0.359334</td>\n",
       "      <td>0.363733</td>\n",
       "    </tr>\n",
       "    <tr>\n",
       "      <th>LightGBM</th>\n",
       "      <td>0.357746</td>\n",
       "      <td>0.473115</td>\n",
       "      <td>0.334111</td>\n",
       "      <td>0.341458</td>\n",
       "    </tr>\n",
       "    <tr>\n",
       "      <th rowspan=\"2\" valign=\"top\">KNN</th>\n",
       "      <th>Euclidean</th>\n",
       "      <td>0.245070</td>\n",
       "      <td>0.224851</td>\n",
       "      <td>0.292241</td>\n",
       "      <td>0.226294</td>\n",
       "    </tr>\n",
       "    <tr>\n",
       "      <th>DTW</th>\n",
       "      <td>0.335211</td>\n",
       "      <td>0.303170</td>\n",
       "      <td>0.313230</td>\n",
       "      <td>0.304772</td>\n",
       "    </tr>\n",
       "  </tbody>\n",
       "</table>\n",
       "</div>"
      ],
      "text/plain": [
       "                        Accuracy  Precision    Recall        F1\n",
       "Global    DecisionTree  0.639437   0.570409  0.580403  0.573197\n",
       "          RandomForest  0.870423   0.896344  0.779108  0.799224\n",
       "          LightGBM      0.876056   0.821129  0.800624  0.808479\n",
       "Shapelets DecisionTree  0.292958   0.274887  0.273739  0.273972\n",
       "          RandomForest  0.394366   0.514460  0.359334  0.363733\n",
       "          LightGBM      0.357746   0.473115  0.334111  0.341458\n",
       "KNN       Euclidean     0.245070   0.224851  0.292241  0.226294\n",
       "          DTW           0.335211   0.303170  0.313230  0.304772"
      ]
     },
     "execution_count": 70,
     "metadata": {},
     "output_type": "execute_result"
    }
   ],
   "source": [
    "metrics_data"
   ]
  },
  {
   "cell_type": "code",
   "execution_count": 71,
   "id": "3efc173e",
   "metadata": {
    "execution": {
     "iopub.execute_input": "2023-03-08T10:31:19.433083Z",
     "iopub.status.busy": "2023-03-08T10:31:19.432624Z",
     "iopub.status.idle": "2023-03-08T10:31:19.441523Z",
     "shell.execute_reply": "2023-03-08T10:31:19.440642Z"
    },
    "papermill": {
     "duration": 0.030316,
     "end_time": "2023-03-08T10:31:19.443318",
     "exception": false,
     "start_time": "2023-03-08T10:31:19.413002",
     "status": "completed"
    },
    "tags": []
   },
   "outputs": [],
   "source": [
    "metrics_data.to_csv(f'{data_path}/metrics.csv')"
   ]
  },
  {
   "cell_type": "code",
   "execution_count": null,
   "id": "d21f5304",
   "metadata": {
    "papermill": {
     "duration": 0.014711,
     "end_time": "2023-03-08T10:31:19.472901",
     "exception": false,
     "start_time": "2023-03-08T10:31:19.458190",
     "status": "completed"
    },
    "tags": []
   },
   "outputs": [],
   "source": []
  }
 ],
 "metadata": {
  "celltoolbar": "Tags",
  "kernelspec": {
   "display_name": "Python 3 (ipykernel)",
   "language": "python",
   "name": "python3"
  },
  "language_info": {
   "codemirror_mode": {
    "name": "ipython",
    "version": 3
   },
   "file_extension": ".py",
   "mimetype": "text/x-python",
   "name": "python",
   "nbconvert_exporter": "python",
   "pygments_lexer": "ipython3",
   "version": "3.9.16"
  },
  "papermill": {
   "default_parameters": {},
   "duration": 258.674514,
   "end_time": "2023-03-08T10:31:23.088211",
   "environment_variables": {},
   "exception": null,
   "input_path": "09_ts_classification.ipynb",
   "output_path": "../clf-reports/20ng_sbert.ipynb",
   "parameters": {
    "data_path": "/home/mattiapggioli/lyrics2ts/data/classification/20ng/sbert/",
    "paa_window_size": 5
   },
   "start_time": "2023-03-08T10:27:04.413697",
   "version": "2.4.0"
  },
  "vscode": {
   "interpreter": {
    "hash": "eb8d1ded7c87c6f9c253b40add648304d6b51d2e38393955e855effc7e6f899a"
   }
  }
 },
 "nbformat": 4,
 "nbformat_minor": 5
}