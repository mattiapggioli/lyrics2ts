{
 "cells": [
  {
   "cell_type": "markdown",
   "id": "d79a68c5",
   "metadata": {
    "papermill": {
     "duration": 0.028706,
     "end_time": "2023-03-20T11:15:57.667842",
     "exception": false,
     "start_time": "2023-03-20T11:15:57.639136",
     "status": "completed"
    },
    "tags": []
   },
   "source": [
    "# Time Series Classification"
   ]
  },
  {
   "cell_type": "code",
   "execution_count": 1,
   "id": "8a0cb2b0",
   "metadata": {
    "execution": {
     "iopub.execute_input": "2023-03-20T11:15:57.729704Z",
     "iopub.status.busy": "2023-03-20T11:15:57.729249Z",
     "iopub.status.idle": "2023-03-20T11:15:59.470811Z",
     "shell.execute_reply": "2023-03-20T11:15:59.469880Z"
    },
    "papermill": {
     "duration": 1.769407,
     "end_time": "2023-03-20T11:15:59.473531",
     "exception": false,
     "start_time": "2023-03-20T11:15:57.704124",
     "status": "completed"
    },
    "tags": []
   },
   "outputs": [],
   "source": [
    "%matplotlib inline\n",
    "import pandas as pd\n",
    "import numpy as np\n",
    "import matplotlib.pyplot as plt\n",
    "import seaborn as sns\n",
    "import re\n",
    "import os\n",
    "from sklearn.preprocessing import StandardScaler\n",
    "from sklearn.decomposition import PCA\n",
    "import joblib\n",
    "from tslearn.utils import to_time_series_dataset, save_time_series_txt, load_time_series_txt\n",
    "import random\n",
    "from sklearn.model_selection import train_test_split\n",
    "from sklearn.metrics import accuracy_score, f1_score, precision_score, recall_score, classification_report\n",
    "import pickle"
   ]
  },
  {
   "cell_type": "code",
   "execution_count": 2,
   "id": "acc03405",
   "metadata": {
    "execution": {
     "iopub.execute_input": "2023-03-20T11:15:59.529602Z",
     "iopub.status.busy": "2023-03-20T11:15:59.529192Z",
     "iopub.status.idle": "2023-03-20T11:15:59.535627Z",
     "shell.execute_reply": "2023-03-20T11:15:59.533864Z"
    },
    "papermill": {
     "duration": 0.038515,
     "end_time": "2023-03-20T11:15:59.539374",
     "exception": false,
     "start_time": "2023-03-20T11:15:59.500859",
     "status": "completed"
    },
    "tags": [
     "parameters"
    ]
   },
   "outputs": [],
   "source": [
    "data_path = '/home/mattiapggioli/lyrics2ts/data/classification/pp-rc/sbert/'\n",
    "truncate=100\n",
    "max_iter = 2000\n",
    "paa_window_size = None\n",
    "undersampling = None"
   ]
  },
  {
   "cell_type": "code",
   "execution_count": 3,
   "id": "3de07d6a",
   "metadata": {
    "execution": {
     "iopub.execute_input": "2023-03-20T11:15:59.581055Z",
     "iopub.status.busy": "2023-03-20T11:15:59.580238Z",
     "iopub.status.idle": "2023-03-20T11:15:59.585215Z",
     "shell.execute_reply": "2023-03-20T11:15:59.584185Z"
    },
    "papermill": {
     "duration": 0.018425,
     "end_time": "2023-03-20T11:15:59.586896",
     "exception": false,
     "start_time": "2023-03-20T11:15:59.568471",
     "status": "completed"
    },
    "tags": [
     "injected-parameters"
    ]
   },
   "outputs": [],
   "source": [
    "# Parameters\n",
    "data_path = \"/home/mattiapggioli/lyrics2ts/data/classification/20ng/sbert/\"\n"
   ]
  },
  {
   "cell_type": "code",
   "execution_count": 4,
   "id": "a4f0c774",
   "metadata": {
    "execution": {
     "iopub.execute_input": "2023-03-20T11:15:59.609962Z",
     "iopub.status.busy": "2023-03-20T11:15:59.609149Z",
     "iopub.status.idle": "2023-03-20T11:16:15.760049Z",
     "shell.execute_reply": "2023-03-20T11:16:15.759100Z"
    },
    "papermill": {
     "duration": 16.165543,
     "end_time": "2023-03-20T11:16:15.763047",
     "exception": false,
     "start_time": "2023-03-20T11:15:59.597504",
     "status": "completed"
    },
    "tags": []
   },
   "outputs": [],
   "source": [
    "ts = load_time_series_txt(f'{data_path}/ts.txt')"
   ]
  },
  {
   "cell_type": "code",
   "execution_count": 5,
   "id": "5c48d154",
   "metadata": {
    "execution": {
     "iopub.execute_input": "2023-03-20T11:16:15.825309Z",
     "iopub.status.busy": "2023-03-20T11:16:15.824934Z",
     "iopub.status.idle": "2023-03-20T11:16:15.834742Z",
     "shell.execute_reply": "2023-03-20T11:16:15.833177Z"
    },
    "papermill": {
     "duration": 0.044139,
     "end_time": "2023-03-20T11:16:15.837304",
     "exception": false,
     "start_time": "2023-03-20T11:16:15.793165",
     "status": "completed"
    },
    "tags": []
   },
   "outputs": [
    {
     "data": {
      "text/plain": [
       "(1775, 1210, 1)"
      ]
     },
     "execution_count": 5,
     "metadata": {},
     "output_type": "execute_result"
    }
   ],
   "source": [
    "ts.shape"
   ]
  },
  {
   "cell_type": "code",
   "execution_count": 6,
   "id": "f6274d40",
   "metadata": {
    "execution": {
     "iopub.execute_input": "2023-03-20T11:16:15.860286Z",
     "iopub.status.busy": "2023-03-20T11:16:15.859825Z",
     "iopub.status.idle": "2023-03-20T11:16:15.867013Z",
     "shell.execute_reply": "2023-03-20T11:16:15.865957Z"
    },
    "papermill": {
     "duration": 0.02088,
     "end_time": "2023-03-20T11:16:15.868893",
     "exception": false,
     "start_time": "2023-03-20T11:16:15.848013",
     "status": "completed"
    },
    "tags": []
   },
   "outputs": [],
   "source": [
    "with open(f'{data_path}/y_class.npy', 'rb') as f:\n",
    "    y = np.load(f, allow_pickle=True)"
   ]
  },
  {
   "cell_type": "code",
   "execution_count": 7,
   "id": "9d42fa3b",
   "metadata": {
    "execution": {
     "iopub.execute_input": "2023-03-20T11:16:15.891810Z",
     "iopub.status.busy": "2023-03-20T11:16:15.891357Z",
     "iopub.status.idle": "2023-03-20T11:16:15.903581Z",
     "shell.execute_reply": "2023-03-20T11:16:15.902649Z"
    },
    "papermill": {
     "duration": 0.025946,
     "end_time": "2023-03-20T11:16:15.905617",
     "exception": false,
     "start_time": "2023-03-20T11:16:15.879671",
     "status": "completed"
    },
    "tags": []
   },
   "outputs": [],
   "source": [
    "with open(f'{data_path}/X.npy', 'rb') as f:\n",
    "    X = np.load(f, allow_pickle=True)"
   ]
  },
  {
   "cell_type": "code",
   "execution_count": 8,
   "id": "1158a9da",
   "metadata": {
    "execution": {
     "iopub.execute_input": "2023-03-20T11:16:15.930237Z",
     "iopub.status.busy": "2023-03-20T11:16:15.929783Z",
     "iopub.status.idle": "2023-03-20T11:16:15.936157Z",
     "shell.execute_reply": "2023-03-20T11:16:15.935335Z"
    },
    "papermill": {
     "duration": 0.019592,
     "end_time": "2023-03-20T11:16:15.937798",
     "exception": false,
     "start_time": "2023-03-20T11:16:15.918206",
     "status": "completed"
    },
    "tags": []
   },
   "outputs": [
    {
     "data": {
      "text/plain": [
       "(1775, 384)"
      ]
     },
     "execution_count": 8,
     "metadata": {},
     "output_type": "execute_result"
    }
   ],
   "source": [
    "X.shape"
   ]
  },
  {
   "cell_type": "code",
   "execution_count": 9,
   "id": "47239790",
   "metadata": {
    "execution": {
     "iopub.execute_input": "2023-03-20T11:16:15.961838Z",
     "iopub.status.busy": "2023-03-20T11:16:15.961367Z",
     "iopub.status.idle": "2023-03-20T11:16:15.969132Z",
     "shell.execute_reply": "2023-03-20T11:16:15.968257Z"
    },
    "papermill": {
     "duration": 0.022639,
     "end_time": "2023-03-20T11:16:15.971193",
     "exception": false,
     "start_time": "2023-03-20T11:16:15.948554",
     "status": "completed"
    },
    "tags": []
   },
   "outputs": [
    {
     "data": {
      "text/plain": [
       "{'comp', 'misc', 'rec', 'religion', 'sci', 'talk'}"
      ]
     },
     "execution_count": 9,
     "metadata": {},
     "output_type": "execute_result"
    }
   ],
   "source": [
    "set(y)"
   ]
  },
  {
   "cell_type": "code",
   "execution_count": 10,
   "id": "37609992",
   "metadata": {
    "execution": {
     "iopub.execute_input": "2023-03-20T11:16:15.995972Z",
     "iopub.status.busy": "2023-03-20T11:16:15.995054Z",
     "iopub.status.idle": "2023-03-20T11:16:16.013540Z",
     "shell.execute_reply": "2023-03-20T11:16:16.012465Z"
    },
    "papermill": {
     "duration": 0.032729,
     "end_time": "2023-03-20T11:16:16.015468",
     "exception": false,
     "start_time": "2023-03-20T11:16:15.982739",
     "status": "completed"
    },
    "tags": []
   },
   "outputs": [],
   "source": [
    "ts_train, ts_test, y_train, y_test = train_test_split(\n",
    "    ts, y, test_size=0.20, random_state=42, stratify=y)"
   ]
  },
  {
   "cell_type": "code",
   "execution_count": 11,
   "id": "34508fe4",
   "metadata": {
    "execution": {
     "iopub.execute_input": "2023-03-20T11:16:16.041981Z",
     "iopub.status.busy": "2023-03-20T11:16:16.041036Z",
     "iopub.status.idle": "2023-03-20T11:16:16.053382Z",
     "shell.execute_reply": "2023-03-20T11:16:16.052151Z"
    },
    "papermill": {
     "duration": 0.026577,
     "end_time": "2023-03-20T11:16:16.055286",
     "exception": false,
     "start_time": "2023-03-20T11:16:16.028709",
     "status": "completed"
    },
    "tags": []
   },
   "outputs": [],
   "source": [
    "X_train, X_test, y_train, y_test = train_test_split(\n",
    "    X, y, test_size=0.20, random_state=42, stratify=y)"
   ]
  },
  {
   "cell_type": "code",
   "execution_count": 12,
   "id": "076afac9",
   "metadata": {
    "execution": {
     "iopub.execute_input": "2023-03-20T11:16:16.080460Z",
     "iopub.status.busy": "2023-03-20T11:16:16.079646Z",
     "iopub.status.idle": "2023-03-20T11:16:16.087532Z",
     "shell.execute_reply": "2023-03-20T11:16:16.086654Z"
    },
    "papermill": {
     "duration": 0.022295,
     "end_time": "2023-03-20T11:16:16.089201",
     "exception": false,
     "start_time": "2023-03-20T11:16:16.066906",
     "status": "completed"
    },
    "tags": []
   },
   "outputs": [
    {
     "data": {
      "text/plain": [
       "array([[ 0.20165408],\n",
       "       [ 0.46901839],\n",
       "       [-0.10688048],\n",
       "       ...,\n",
       "       [        nan],\n",
       "       [        nan],\n",
       "       [        nan]])"
      ]
     },
     "execution_count": 12,
     "metadata": {},
     "output_type": "execute_result"
    }
   ],
   "source": [
    "random.choice(ts_train)"
   ]
  },
  {
   "cell_type": "code",
   "execution_count": 13,
   "id": "ca66457a",
   "metadata": {
    "execution": {
     "iopub.execute_input": "2023-03-20T11:16:16.112562Z",
     "iopub.status.busy": "2023-03-20T11:16:16.111983Z",
     "iopub.status.idle": "2023-03-20T11:16:16.633161Z",
     "shell.execute_reply": "2023-03-20T11:16:16.632272Z"
    },
    "papermill": {
     "duration": 0.536029,
     "end_time": "2023-03-20T11:16:16.636037",
     "exception": false,
     "start_time": "2023-03-20T11:16:16.100008",
     "status": "completed"
    },
    "tags": []
   },
   "outputs": [
    {
     "data": {
      "text/plain": [
       "<AxesSubplot:ylabel='Count'>"
      ]
     },
     "execution_count": 13,
     "metadata": {},
     "output_type": "execute_result"
    },
    {
     "data": {
      "image/png": "[encoded data removed]",
      "text/plain": [
       "<Figure size 640x480 with 1 Axes>"
      ]
     },
     "metadata": {},
     "output_type": "display_data"
    }
   ],
   "source": [
    "sns.histplot([t[~np.any(np.isnan(t), axis=1)].shape[0] for t in ts_train])"
   ]
  },
  {
   "cell_type": "code",
   "execution_count": 14,
   "id": "c2ae286f",
   "metadata": {
    "execution": {
     "iopub.execute_input": "2023-03-20T11:16:16.704421Z",
     "iopub.status.busy": "2023-03-20T11:16:16.704127Z",
     "iopub.status.idle": "2023-03-20T11:16:16.708989Z",
     "shell.execute_reply": "2023-03-20T11:16:16.708064Z"
    },
    "papermill": {
     "duration": 0.046172,
     "end_time": "2023-03-20T11:16:16.714275",
     "exception": false,
     "start_time": "2023-03-20T11:16:16.668103",
     "status": "completed"
    },
    "tags": []
   },
   "outputs": [],
   "source": [
    "ts_train = ts_train[:, :truncate, :]\n",
    "ts_test = ts_test[:, :truncate, :]"
   ]
  },
  {
   "cell_type": "code",
   "execution_count": 15,
   "id": "3218baa4",
   "metadata": {
    "execution": {
     "iopub.execute_input": "2023-03-20T11:16:16.747963Z",
     "iopub.status.busy": "2023-03-20T11:16:16.747085Z",
     "iopub.status.idle": "2023-03-20T11:16:16.762639Z",
     "shell.execute_reply": "2023-03-20T11:16:16.761580Z"
    },
    "papermill": {
     "duration": 0.029869,
     "end_time": "2023-03-20T11:16:16.764669",
     "exception": false,
     "start_time": "2023-03-20T11:16:16.734800",
     "status": "completed"
    },
    "tags": []
   },
   "outputs": [],
   "source": [
    "mean_arr = np.nanmean(ts_train, axis=1, keepdims=True)\n",
    "nan_indices = np.isnan(ts_train)\n",
    "ts_train[nan_indices] = np.take(mean_arr, np.nonzero(nan_indices)[0])\n",
    "\n",
    "mean_arr = np.nanmean(ts_test, axis=1, keepdims=True)\n",
    "nan_indices = np.isnan(ts_test)\n",
    "ts_test[nan_indices] = np.take(mean_arr, np.nonzero(nan_indices)[0])"
   ]
  },
  {
   "cell_type": "code",
   "execution_count": 16,
   "id": "d369691b",
   "metadata": {
    "execution": {
     "iopub.execute_input": "2023-03-20T11:16:16.791472Z",
     "iopub.status.busy": "2023-03-20T11:16:16.790995Z",
     "iopub.status.idle": "2023-03-20T11:16:16.799939Z",
     "shell.execute_reply": "2023-03-20T11:16:16.798649Z"
    },
    "papermill": {
     "duration": 0.02341,
     "end_time": "2023-03-20T11:16:16.801718",
     "exception": false,
     "start_time": "2023-03-20T11:16:16.778308",
     "status": "completed"
    },
    "tags": []
   },
   "outputs": [
    {
     "data": {
      "text/plain": [
       "0"
      ]
     },
     "execution_count": 16,
     "metadata": {},
     "output_type": "execute_result"
    }
   ],
   "source": [
    "np.count_nonzero(np.isnan(X_train))"
   ]
  },
  {
   "cell_type": "code",
   "execution_count": 17,
   "id": "0d602e18",
   "metadata": {
    "execution": {
     "iopub.execute_input": "2023-03-20T11:16:16.830726Z",
     "iopub.status.busy": "2023-03-20T11:16:16.829717Z",
     "iopub.status.idle": "2023-03-20T11:16:16.836279Z",
     "shell.execute_reply": "2023-03-20T11:16:16.835392Z"
    },
    "papermill": {
     "duration": 0.021309,
     "end_time": "2023-03-20T11:16:16.837872",
     "exception": false,
     "start_time": "2023-03-20T11:16:16.816563",
     "status": "completed"
    },
    "tags": []
   },
   "outputs": [],
   "source": [
    "X_train[np.isnan(X_train)] = 0\n",
    "X_test[np.isnan(X_test)] = 0"
   ]
  },
  {
   "cell_type": "code",
   "execution_count": 18,
   "id": "45c5102c",
   "metadata": {
    "execution": {
     "iopub.execute_input": "2023-03-20T11:16:16.861902Z",
     "iopub.status.busy": "2023-03-20T11:16:16.861445Z",
     "iopub.status.idle": "2023-03-20T11:16:17.154665Z",
     "shell.execute_reply": "2023-03-20T11:16:17.153949Z"
    },
    "papermill": {
     "duration": 0.308305,
     "end_time": "2023-03-20T11:16:17.157403",
     "exception": false,
     "start_time": "2023-03-20T11:16:16.849098",
     "status": "completed"
    },
    "tags": []
   },
   "outputs": [],
   "source": [
    "save_time_series_txt(f'{data_path}/ts_train.txt', ts_train)\n",
    "save_time_series_txt(f'{data_path}/ts_test.txt', ts_test)"
   ]
  },
  {
   "cell_type": "code",
   "execution_count": 19,
   "id": "39830f37",
   "metadata": {
    "execution": {
     "iopub.execute_input": "2023-03-20T11:16:17.220933Z",
     "iopub.status.busy": "2023-03-20T11:16:17.220604Z",
     "iopub.status.idle": "2023-03-20T11:16:17.242523Z",
     "shell.execute_reply": "2023-03-20T11:16:17.241460Z"
    },
    "papermill": {
     "duration": 0.056876,
     "end_time": "2023-03-20T11:16:17.245960",
     "exception": false,
     "start_time": "2023-03-20T11:16:17.189084",
     "status": "completed"
    },
    "tags": []
   },
   "outputs": [],
   "source": [
    "with open(f'{data_path}/X_train.npy', 'wb') as f:\n",
    "    np.save(f, X_train, allow_pickle=True)\n",
    "\n",
    "with open(f'{data_path}/X_test.npy', 'wb') as f:\n",
    "    np.save(f, X_test, allow_pickle=True)"
   ]
  },
  {
   "cell_type": "code",
   "execution_count": 20,
   "id": "795fd2be",
   "metadata": {
    "execution": {
     "iopub.execute_input": "2023-03-20T11:16:17.300087Z",
     "iopub.status.busy": "2023-03-20T11:16:17.299628Z",
     "iopub.status.idle": "2023-03-20T11:16:17.307514Z",
     "shell.execute_reply": "2023-03-20T11:16:17.306325Z"
    },
    "papermill": {
     "duration": 0.031648,
     "end_time": "2023-03-20T11:16:17.309451",
     "exception": false,
     "start_time": "2023-03-20T11:16:17.277803",
     "status": "completed"
    },
    "tags": []
   },
   "outputs": [],
   "source": [
    "with open(f'{data_path}/y_train.npy', 'wb') as f:\n",
    "    np.save(f, y_train, allow_pickle=True)\n",
    "\n",
    "with open(f'{data_path}/y_test.npy', 'wb') as f:\n",
    "    np.save(f, y_test, allow_pickle=True)"
   ]
  },
  {
   "cell_type": "code",
   "execution_count": 21,
   "id": "08bda153",
   "metadata": {
    "execution": {
     "iopub.execute_input": "2023-03-20T11:16:17.334492Z",
     "iopub.status.busy": "2023-03-20T11:16:17.334034Z",
     "iopub.status.idle": "2023-03-20T11:16:17.488858Z",
     "shell.execute_reply": "2023-03-20T11:16:17.487622Z"
    },
    "papermill": {
     "duration": 0.169548,
     "end_time": "2023-03-20T11:16:17.490763",
     "exception": false,
     "start_time": "2023-03-20T11:16:17.321215",
     "status": "completed"
    },
    "tags": []
   },
   "outputs": [
    {
     "data": {
      "text/plain": [
       "[<matplotlib.lines.Line2D at 0x7f754d01a190>]"
      ]
     },
     "execution_count": 21,
     "metadata": {},
     "output_type": "execute_result"
    },
    {
     "data": {
      "image/png": "[encoded data removed]",
      "text/plain": [
       "<Figure size 640x480 with 1 Axes>"
      ]
     },
     "metadata": {},
     "output_type": "display_data"
    }
   ],
   "source": [
    "plt.plot(random.choice(ts_train))"
   ]
  },
  {
   "cell_type": "code",
   "execution_count": 22,
   "id": "98ce9d63",
   "metadata": {
    "execution": {
     "iopub.execute_input": "2023-03-20T11:16:17.518066Z",
     "iopub.status.busy": "2023-03-20T11:16:17.517613Z",
     "iopub.status.idle": "2023-03-20T11:16:17.523425Z",
     "shell.execute_reply": "2023-03-20T11:16:17.522591Z"
    },
    "papermill": {
     "duration": 0.022626,
     "end_time": "2023-03-20T11:16:17.526657",
     "exception": false,
     "start_time": "2023-03-20T11:16:17.504031",
     "status": "completed"
    },
    "tags": []
   },
   "outputs": [],
   "source": [
    "# Parameters that require knowing if it's binary or multiclass (LightGBM, metrics)\n",
    "if len(set(y)) == 2:\n",
    "    avg_par = 'macro'\n",
    "    obj_par = 'binary'\n",
    "elif len(set(y)) > 2:\n",
    "    avg_par = 'weighted'\n",
    "    obj_par = 'multiclass'"
   ]
  },
  {
   "cell_type": "markdown",
   "id": "228f1b39",
   "metadata": {
    "papermill": {
     "duration": 0.02353,
     "end_time": "2023-03-20T11:16:17.584078",
     "exception": false,
     "start_time": "2023-03-20T11:16:17.560548",
     "status": "completed"
    },
    "tags": []
   },
   "source": [
    "## Classification"
   ]
  },
  {
   "cell_type": "code",
   "execution_count": 23,
   "id": "34bb73ff",
   "metadata": {
    "execution": {
     "iopub.execute_input": "2023-03-20T11:16:17.610169Z",
     "iopub.status.busy": "2023-03-20T11:16:17.609115Z",
     "iopub.status.idle": "2023-03-20T11:16:17.679641Z",
     "shell.execute_reply": "2023-03-20T11:16:17.678848Z"
    },
    "papermill": {
     "duration": 0.086678,
     "end_time": "2023-03-20T11:16:17.682333",
     "exception": false,
     "start_time": "2023-03-20T11:16:17.595655",
     "status": "completed"
    },
    "tags": []
   },
   "outputs": [],
   "source": [
    "from sklearn.tree import DecisionTreeClassifier\n",
    "import lightgbm as lgbm\n",
    "from sklearn.ensemble import RandomForestClassifier"
   ]
  },
  {
   "cell_type": "code",
   "execution_count": 24,
   "id": "02aaee18",
   "metadata": {
    "execution": {
     "iopub.execute_input": "2023-03-20T11:16:17.712575Z",
     "iopub.status.busy": "2023-03-20T11:16:17.712136Z",
     "iopub.status.idle": "2023-03-20T11:16:17.716982Z",
     "shell.execute_reply": "2023-03-20T11:16:17.716005Z"
    },
    "papermill": {
     "duration": 0.019444,
     "end_time": "2023-03-20T11:16:17.718652",
     "exception": false,
     "start_time": "2023-03-20T11:16:17.699208",
     "status": "completed"
    },
    "tags": []
   },
   "outputs": [],
   "source": [
    "metrics_data = {}"
   ]
  },
  {
   "cell_type": "markdown",
   "id": "b49309ed",
   "metadata": {
    "papermill": {
     "duration": 0.011768,
     "end_time": "2023-03-20T11:16:17.743962",
     "exception": false,
     "start_time": "2023-03-20T11:16:17.732194",
     "status": "completed"
    },
    "tags": []
   },
   "source": [
    "### Baseline: global features (No Time Series)"
   ]
  },
  {
   "cell_type": "code",
   "execution_count": 25,
   "id": "35eb9f66",
   "metadata": {
    "execution": {
     "iopub.execute_input": "2023-03-20T11:16:17.769170Z",
     "iopub.status.busy": "2023-03-20T11:16:17.768401Z",
     "iopub.status.idle": "2023-03-20T11:16:17.773416Z",
     "shell.execute_reply": "2023-03-20T11:16:17.772378Z"
    },
    "papermill": {
     "duration": 0.019378,
     "end_time": "2023-03-20T11:16:17.774934",
     "exception": false,
     "start_time": "2023-03-20T11:16:17.755556",
     "status": "completed"
    },
    "tags": []
   },
   "outputs": [],
   "source": [
    "metrics_data['Global'] = {}"
   ]
  },
  {
   "cell_type": "markdown",
   "id": "29cd5044",
   "metadata": {
    "papermill": {
     "duration": 0.01154,
     "end_time": "2023-03-20T11:16:17.798017",
     "exception": false,
     "start_time": "2023-03-20T11:16:17.786477",
     "status": "completed"
    },
    "tags": []
   },
   "source": [
    "**Decision Tree**"
   ]
  },
  {
   "cell_type": "code",
   "execution_count": 26,
   "id": "9ef4f037",
   "metadata": {
    "execution": {
     "iopub.execute_input": "2023-03-20T11:16:17.827044Z",
     "iopub.status.busy": "2023-03-20T11:16:17.826626Z",
     "iopub.status.idle": "2023-03-20T11:16:18.324626Z",
     "shell.execute_reply": "2023-03-20T11:16:18.323727Z"
    },
    "papermill": {
     "duration": 0.515979,
     "end_time": "2023-03-20T11:16:18.327620",
     "exception": false,
     "start_time": "2023-03-20T11:16:17.811641",
     "status": "completed"
    },
    "tags": []
   },
   "outputs": [
    {
     "data": {
      "text/html": [
       "<style>#sk-container-id-1 {color: black;background-color: white;}#sk-container-id-1 pre{padding: 0;}#sk-container-id-1 div.sk-toggleable {background-color: white;}#sk-container-id-1 label.sk-toggleable__label {cursor: pointer;display: block;width: 100%;margin-bottom: 0;padding: 0.3em;box-sizing: border-box;text-align: center;}#sk-container-id-1 label.sk-toggleable__label-arrow:before {content: \"▸\";float: left;margin-right: 0.25em;color: #696969;}#sk-container-id-1 label.sk-toggleable__label-arrow:hover:before {color: black;}#sk-container-id-1 div.sk-estimator:hover label.sk-toggleable__label-arrow:before {color: black;}#sk-container-id-1 div.sk-toggleable__content {max-height: 0;max-width: 0;overflow: hidden;text-align: left;background-color: #f0f8ff;}#sk-container-id-1 div.sk-toggleable__content pre {margin: 0.2em;color: black;border-radius: 0.25em;background-color: #f0f8ff;}#sk-container-id-1 input.sk-toggleable__control:checked~div.sk-toggleable__content {max-height: 200px;max-width: 100%;overflow: auto;}#sk-container-id-1 input.sk-toggleable__control:checked~label.sk-toggleable__label-arrow:before {content: \"▾\";}#sk-container-id-1 div.sk-estimator input.sk-toggleable__control:checked~label.sk-toggleable__label {background-color: #d4ebff;}#sk-container-id-1 div.sk-label input.sk-toggleable__control:checked~label.sk-toggleable__label {background-color: #d4ebff;}#sk-container-id-1 input.sk-hidden--visually {border: 0;clip: rect(1px 1px 1px 1px);clip: rect(1px, 1px, 1px, 1px);height: 1px;margin: -1px;overflow: hidden;padding: 0;position: absolute;width: 1px;}#sk-container-id-1 div.sk-estimator {font-family: monospace;background-color: #f0f8ff;border: 1px dotted black;border-radius: 0.25em;box-sizing: border-box;margin-bottom: 0.5em;}#sk-container-id-1 div.sk-estimator:hover {background-color: #d4ebff;}#sk-container-id-1 div.sk-parallel-item::after {content: \"\";width: 100%;border-bottom: 1px solid gray;flex-grow: 1;}#sk-container-id-1 div.sk-label:hover label.sk-toggleable__label {background-color: #d4ebff;}#sk-container-id-1 div.sk-serial::before {content: \"\";position: absolute;border-left: 1px solid gray;box-sizing: border-box;top: 0;bottom: 0;left: 50%;z-index: 0;}#sk-container-id-1 div.sk-serial {display: flex;flex-direction: column;align-items: center;background-color: white;padding-right: 0.2em;padding-left: 0.2em;position: relative;}#sk-container-id-1 div.sk-item {position: relative;z-index: 1;}#sk-container-id-1 div.sk-parallel {display: flex;align-items: stretch;justify-content: center;background-color: white;position: relative;}#sk-container-id-1 div.sk-item::before, #sk-container-id-1 div.sk-parallel-item::before {content: \"\";position: absolute;border-left: 1px solid gray;box-sizing: border-box;top: 0;bottom: 0;left: 50%;z-index: -1;}#sk-container-id-1 div.sk-parallel-item {display: flex;flex-direction: column;z-index: 1;position: relative;background-color: white;}#sk-container-id-1 div.sk-parallel-item:first-child::after {align-self: flex-end;width: 50%;}#sk-container-id-1 div.sk-parallel-item:last-child::after {align-self: flex-start;width: 50%;}#sk-container-id-1 div.sk-parallel-item:only-child::after {width: 0;}#sk-container-id-1 div.sk-dashed-wrapped {border: 1px dashed gray;margin: 0 0.4em 0.5em 0.4em;box-sizing: border-box;padding-bottom: 0.4em;background-color: white;}#sk-container-id-1 div.sk-label label {font-family: monospace;font-weight: bold;display: inline-block;line-height: 1.2em;}#sk-container-id-1 div.sk-label-container {text-align: center;}#sk-container-id-1 div.sk-container {/* jupyter's `normalize.less` sets `[hidden] { display: none; }` but bootstrap.min.css set `[hidden] { display: none !important; }` so we also need the `!important` here to be able to override the default hidden behavior on the sphinx rendered scikit-learn.org. See: https://github.com/scikit-learn/scikit-learn/issues/21755 */display: inline-block !important;position: relative;}#sk-container-id-1 div.sk-text-repr-fallback {display: none;}</style><div id=\"sk-container-id-1\" class=\"sk-top-container\"><div class=\"sk-text-repr-fallback\"><pre>DecisionTreeClassifier()</pre><b>In a Jupyter environment, please rerun this cell to show the HTML representation or trust the notebook. <br />On GitHub, the HTML representation is unable to render, please try loading this page with nbviewer.org.</b></div><div class=\"sk-container\" hidden><div class=\"sk-item\"><div class=\"sk-estimator sk-toggleable\"><input class=\"sk-toggleable__control sk-hidden--visually\" id=\"sk-estimator-id-1\" type=\"checkbox\" checked><label for=\"sk-estimator-id-1\" class=\"sk-toggleable__label sk-toggleable__label-arrow\">DecisionTreeClassifier</label><div class=\"sk-toggleable__content\"><pre>DecisionTreeClassifier()</pre></div></div></div></div></div>"
      ],
      "text/plain": [
       "DecisionTreeClassifier()"
      ]
     },
     "execution_count": 26,
     "metadata": {},
     "output_type": "execute_result"
    }
   ],
   "source": [
    "clf = DecisionTreeClassifier()\n",
    "clf.fit(X_train, y_train)"
   ]
  },
  {
   "cell_type": "code",
   "execution_count": 27,
   "id": "9c50acc4",
   "metadata": {
    "execution": {
     "iopub.execute_input": "2023-03-20T11:16:18.357319Z",
     "iopub.status.busy": "2023-03-20T11:16:18.357012Z",
     "iopub.status.idle": "2023-03-20T11:16:18.377006Z",
     "shell.execute_reply": "2023-03-20T11:16:18.376165Z"
    },
    "papermill": {
     "duration": 0.035163,
     "end_time": "2023-03-20T11:16:18.378966",
     "exception": false,
     "start_time": "2023-03-20T11:16:18.343803",
     "status": "completed"
    },
    "tags": []
   },
   "outputs": [
    {
     "name": "stdout",
     "output_type": "stream",
     "text": [
      "              precision    recall  f1-score   support\n",
      "\n",
      "        comp       0.58      0.62      0.60        47\n",
      "        misc       0.11      0.12      0.12         8\n",
      "         rec       0.78      0.59      0.67        49\n",
      "    religion       0.72      0.72      0.72        88\n",
      "         sci       0.63      0.57      0.60        68\n",
      "        talk       0.70      0.80      0.75        95\n",
      "\n",
      "    accuracy                           0.67       355\n",
      "   macro avg       0.59      0.57      0.58       355\n",
      "weighted avg       0.67      0.67      0.67       355\n",
      "\n"
     ]
    }
   ],
   "source": [
    "y_pred = clf.predict(X_test)\n",
    "print(classification_report(y_test, y_pred))"
   ]
  },
  {
   "cell_type": "code",
   "execution_count": 28,
   "id": "8866c3c3",
   "metadata": {
    "execution": {
     "iopub.execute_input": "2023-03-20T11:16:18.405454Z",
     "iopub.status.busy": "2023-03-20T11:16:18.405008Z",
     "iopub.status.idle": "2023-03-20T11:16:18.430694Z",
     "shell.execute_reply": "2023-03-20T11:16:18.429407Z"
    },
    "papermill": {
     "duration": 0.04134,
     "end_time": "2023-03-20T11:16:18.433141",
     "exception": false,
     "start_time": "2023-03-20T11:16:18.391801",
     "status": "completed"
    },
    "tags": []
   },
   "outputs": [],
   "source": [
    "acc = accuracy_score(y_test, y_pred)\n",
    "pre = precision_score(y_test, y_pred, average=avg_par)\n",
    "rec = recall_score(y_test, y_pred, average=avg_par)\n",
    "f1 = f1_score(y_test, y_pred, average=avg_par)\n",
    "\n",
    "metrics_data['Global']['DecisionTree'] = {'Accuracy': acc, 'Precision': pre, 'Recall': rec, 'F1': f1}"
   ]
  },
  {
   "cell_type": "markdown",
   "id": "28aa5a63",
   "metadata": {
    "papermill": {
     "duration": 0.014053,
     "end_time": "2023-03-20T11:16:18.463649",
     "exception": false,
     "start_time": "2023-03-20T11:16:18.449596",
     "status": "completed"
    },
    "tags": []
   },
   "source": [
    "**Random Forest**"
   ]
  },
  {
   "cell_type": "code",
   "execution_count": 29,
   "id": "0e5e2310",
   "metadata": {
    "execution": {
     "iopub.execute_input": "2023-03-20T11:16:18.493750Z",
     "iopub.status.busy": "2023-03-20T11:16:18.493026Z",
     "iopub.status.idle": "2023-03-20T11:16:19.954886Z",
     "shell.execute_reply": "2023-03-20T11:16:19.953911Z"
    },
    "papermill": {
     "duration": 1.479217,
     "end_time": "2023-03-20T11:16:19.956944",
     "exception": false,
     "start_time": "2023-03-20T11:16:18.477727",
     "status": "completed"
    },
    "tags": []
   },
   "outputs": [
    {
     "data": {
      "text/html": [
       "<style>#sk-container-id-2 {color: black;background-color: white;}#sk-container-id-2 pre{padding: 0;}#sk-container-id-2 div.sk-toggleable {background-color: white;}#sk-container-id-2 label.sk-toggleable__label {cursor: pointer;display: block;width: 100%;margin-bottom: 0;padding: 0.3em;box-sizing: border-box;text-align: center;}#sk-container-id-2 label.sk-toggleable__label-arrow:before {content: \"▸\";float: left;margin-right: 0.25em;color: #696969;}#sk-container-id-2 label.sk-toggleable__label-arrow:hover:before {color: black;}#sk-container-id-2 div.sk-estimator:hover label.sk-toggleable__label-arrow:before {color: black;}#sk-container-id-2 div.sk-toggleable__content {max-height: 0;max-width: 0;overflow: hidden;text-align: left;background-color: #f0f8ff;}#sk-container-id-2 div.sk-toggleable__content pre {margin: 0.2em;color: black;border-radius: 0.25em;background-color: #f0f8ff;}#sk-container-id-2 input.sk-toggleable__control:checked~div.sk-toggleable__content {max-height: 200px;max-width: 100%;overflow: auto;}#sk-container-id-2 input.sk-toggleable__control:checked~label.sk-toggleable__label-arrow:before {content: \"▾\";}#sk-container-id-2 div.sk-estimator input.sk-toggleable__control:checked~label.sk-toggleable__label {background-color: #d4ebff;}#sk-container-id-2 div.sk-label input.sk-toggleable__control:checked~label.sk-toggleable__label {background-color: #d4ebff;}#sk-container-id-2 input.sk-hidden--visually {border: 0;clip: rect(1px 1px 1px 1px);clip: rect(1px, 1px, 1px, 1px);height: 1px;margin: -1px;overflow: hidden;padding: 0;position: absolute;width: 1px;}#sk-container-id-2 div.sk-estimator {font-family: monospace;background-color: #f0f8ff;border: 1px dotted black;border-radius: 0.25em;box-sizing: border-box;margin-bottom: 0.5em;}#sk-container-id-2 div.sk-estimator:hover {background-color: #d4ebff;}#sk-container-id-2 div.sk-parallel-item::after {content: \"\";width: 100%;border-bottom: 1px solid gray;flex-grow: 1;}#sk-container-id-2 div.sk-label:hover label.sk-toggleable__label {background-color: #d4ebff;}#sk-container-id-2 div.sk-serial::before {content: \"\";position: absolute;border-left: 1px solid gray;box-sizing: border-box;top: 0;bottom: 0;left: 50%;z-index: 0;}#sk-container-id-2 div.sk-serial {display: flex;flex-direction: column;align-items: center;background-color: white;padding-right: 0.2em;padding-left: 0.2em;position: relative;}#sk-container-id-2 div.sk-item {position: relative;z-index: 1;}#sk-container-id-2 div.sk-parallel {display: flex;align-items: stretch;justify-content: center;background-color: white;position: relative;}#sk-container-id-2 div.sk-item::before, #sk-container-id-2 div.sk-parallel-item::before {content: \"\";position: absolute;border-left: 1px solid gray;box-sizing: border-box;top: 0;bottom: 0;left: 50%;z-index: -1;}#sk-container-id-2 div.sk-parallel-item {display: flex;flex-direction: column;z-index: 1;position: relative;background-color: white;}#sk-container-id-2 div.sk-parallel-item:first-child::after {align-self: flex-end;width: 50%;}#sk-container-id-2 div.sk-parallel-item:last-child::after {align-self: flex-start;width: 50%;}#sk-container-id-2 div.sk-parallel-item:only-child::after {width: 0;}#sk-container-id-2 div.sk-dashed-wrapped {border: 1px dashed gray;margin: 0 0.4em 0.5em 0.4em;box-sizing: border-box;padding-bottom: 0.4em;background-color: white;}#sk-container-id-2 div.sk-label label {font-family: monospace;font-weight: bold;display: inline-block;line-height: 1.2em;}#sk-container-id-2 div.sk-label-container {text-align: center;}#sk-container-id-2 div.sk-container {/* jupyter's `normalize.less` sets `[hidden] { display: none; }` but bootstrap.min.css set `[hidden] { display: none !important; }` so we also need the `!important` here to be able to override the default hidden behavior on the sphinx rendered scikit-learn.org. See: https://github.com/scikit-learn/scikit-learn/issues/21755 */display: inline-block !important;position: relative;}#sk-container-id-2 div.sk-text-repr-fallback {display: none;}</style><div id=\"sk-container-id-2\" class=\"sk-top-container\"><div class=\"sk-text-repr-fallback\"><pre>RandomForestClassifier(random_state=42)</pre><b>In a Jupyter environment, please rerun this cell to show the HTML representation or trust the notebook. <br />On GitHub, the HTML representation is unable to render, please try loading this page with nbviewer.org.</b></div><div class=\"sk-container\" hidden><div class=\"sk-item\"><div class=\"sk-estimator sk-toggleable\"><input class=\"sk-toggleable__control sk-hidden--visually\" id=\"sk-estimator-id-2\" type=\"checkbox\" checked><label for=\"sk-estimator-id-2\" class=\"sk-toggleable__label sk-toggleable__label-arrow\">RandomForestClassifier</label><div class=\"sk-toggleable__content\"><pre>RandomForestClassifier(random_state=42)</pre></div></div></div></div></div>"
      ],
      "text/plain": [
       "RandomForestClassifier(random_state=42)"
      ]
     },
     "execution_count": 29,
     "metadata": {},
     "output_type": "execute_result"
    }
   ],
   "source": [
    "clf = RandomForestClassifier(random_state=42)\n",
    "clf.fit(X_train, y_train)"
   ]
  },
  {
   "cell_type": "code",
   "execution_count": 30,
   "id": "4bd1304b",
   "metadata": {
    "execution": {
     "iopub.execute_input": "2023-03-20T11:16:19.995891Z",
     "iopub.status.busy": "2023-03-20T11:16:19.995600Z",
     "iopub.status.idle": "2023-03-20T11:16:20.060520Z",
     "shell.execute_reply": "2023-03-20T11:16:20.059681Z"
    },
    "papermill": {
     "duration": 0.091354,
     "end_time": "2023-03-20T11:16:20.063114",
     "exception": false,
     "start_time": "2023-03-20T11:16:19.971760",
     "status": "completed"
    },
    "tags": []
   },
   "outputs": [
    {
     "name": "stdout",
     "output_type": "stream",
     "text": [
      "              precision    recall  f1-score   support\n",
      "\n",
      "        comp       0.85      0.94      0.89        47\n",
      "        misc       1.00      0.12      0.22         8\n",
      "         rec       0.96      0.90      0.93        49\n",
      "    religion       0.95      0.86      0.90        88\n",
      "         sci       0.83      0.81      0.82        68\n",
      "        talk       0.85      0.98      0.91        95\n",
      "\n",
      "    accuracy                           0.88       355\n",
      "   macro avg       0.91      0.77      0.78       355\n",
      "weighted avg       0.89      0.88      0.87       355\n",
      "\n"
     ]
    }
   ],
   "source": [
    "y_pred = clf.predict(X_test)\n",
    "print(classification_report(y_test, y_pred))"
   ]
  },
  {
   "cell_type": "code",
   "execution_count": 31,
   "id": "43174ba2",
   "metadata": {
    "execution": {
     "iopub.execute_input": "2023-03-20T11:16:20.132649Z",
     "iopub.status.busy": "2023-03-20T11:16:20.132350Z",
     "iopub.status.idle": "2023-03-20T11:16:20.158791Z",
     "shell.execute_reply": "2023-03-20T11:16:20.157477Z"
    },
    "papermill": {
     "duration": 0.063912,
     "end_time": "2023-03-20T11:16:20.160880",
     "exception": false,
     "start_time": "2023-03-20T11:16:20.096968",
     "status": "completed"
    },
    "tags": []
   },
   "outputs": [],
   "source": [
    "acc = accuracy_score(y_test, y_pred)\n",
    "pre = precision_score(y_test, y_pred, average=avg_par)\n",
    "rec = recall_score(y_test, y_pred, average=avg_par)\n",
    "f1 = f1_score(y_test, y_pred, average=avg_par)\n",
    "\n",
    "metrics_data['Global']['RandomForest'] = {'Accuracy': acc, 'Precision': pre, 'Recall': rec, 'F1': f1}"
   ]
  },
  {
   "cell_type": "markdown",
   "id": "22c98ac5",
   "metadata": {
    "papermill": {
     "duration": 0.012833,
     "end_time": "2023-03-20T11:16:20.188173",
     "exception": false,
     "start_time": "2023-03-20T11:16:20.175340",
     "status": "completed"
    },
    "tags": []
   },
   "source": [
    "**LightGBM**"
   ]
  },
  {
   "cell_type": "code",
   "execution_count": 32,
   "id": "c93b818c",
   "metadata": {
    "execution": {
     "iopub.execute_input": "2023-03-20T11:16:20.217057Z",
     "iopub.status.busy": "2023-03-20T11:16:20.216245Z",
     "iopub.status.idle": "2023-03-20T11:16:28.362306Z",
     "shell.execute_reply": "2023-03-20T11:16:28.361583Z"
    },
    "papermill": {
     "duration": 8.164158,
     "end_time": "2023-03-20T11:16:28.364223",
     "exception": false,
     "start_time": "2023-03-20T11:16:20.200065",
     "status": "completed"
    },
    "tags": []
   },
   "outputs": [
    {
     "data": {
      "text/html": [
       "<style>#sk-container-id-3 {color: black;background-color: white;}#sk-container-id-3 pre{padding: 0;}#sk-container-id-3 div.sk-toggleable {background-color: white;}#sk-container-id-3 label.sk-toggleable__label {cursor: pointer;display: block;width: 100%;margin-bottom: 0;padding: 0.3em;box-sizing: border-box;text-align: center;}#sk-container-id-3 label.sk-toggleable__label-arrow:before {content: \"▸\";float: left;margin-right: 0.25em;color: #696969;}#sk-container-id-3 label.sk-toggleable__label-arrow:hover:before {color: black;}#sk-container-id-3 div.sk-estimator:hover label.sk-toggleable__label-arrow:before {color: black;}#sk-container-id-3 div.sk-toggleable__content {max-height: 0;max-width: 0;overflow: hidden;text-align: left;background-color: #f0f8ff;}#sk-container-id-3 div.sk-toggleable__content pre {margin: 0.2em;color: black;border-radius: 0.25em;background-color: #f0f8ff;}#sk-container-id-3 input.sk-toggleable__control:checked~div.sk-toggleable__content {max-height: 200px;max-width: 100%;overflow: auto;}#sk-container-id-3 input.sk-toggleable__control:checked~label.sk-toggleable__label-arrow:before {content: \"▾\";}#sk-container-id-3 div.sk-estimator input.sk-toggleable__control:checked~label.sk-toggleable__label {background-color: #d4ebff;}#sk-container-id-3 div.sk-label input.sk-toggleable__control:checked~label.sk-toggleable__label {background-color: #d4ebff;}#sk-container-id-3 input.sk-hidden--visually {border: 0;clip: rect(1px 1px 1px 1px);clip: rect(1px, 1px, 1px, 1px);height: 1px;margin: -1px;overflow: hidden;padding: 0;position: absolute;width: 1px;}#sk-container-id-3 div.sk-estimator {font-family: monospace;background-color: #f0f8ff;border: 1px dotted black;border-radius: 0.25em;box-sizing: border-box;margin-bottom: 0.5em;}#sk-container-id-3 div.sk-estimator:hover {background-color: #d4ebff;}#sk-container-id-3 div.sk-parallel-item::after {content: \"\";width: 100%;border-bottom: 1px solid gray;flex-grow: 1;}#sk-container-id-3 div.sk-label:hover label.sk-toggleable__label {background-color: #d4ebff;}#sk-container-id-3 div.sk-serial::before {content: \"\";position: absolute;border-left: 1px solid gray;box-sizing: border-box;top: 0;bottom: 0;left: 50%;z-index: 0;}#sk-container-id-3 div.sk-serial {display: flex;flex-direction: column;align-items: center;background-color: white;padding-right: 0.2em;padding-left: 0.2em;position: relative;}#sk-container-id-3 div.sk-item {position: relative;z-index: 1;}#sk-container-id-3 div.sk-parallel {display: flex;align-items: stretch;justify-content: center;background-color: white;position: relative;}#sk-container-id-3 div.sk-item::before, #sk-container-id-3 div.sk-parallel-item::before {content: \"\";position: absolute;border-left: 1px solid gray;box-sizing: border-box;top: 0;bottom: 0;left: 50%;z-index: -1;}#sk-container-id-3 div.sk-parallel-item {display: flex;flex-direction: column;z-index: 1;position: relative;background-color: white;}#sk-container-id-3 div.sk-parallel-item:first-child::after {align-self: flex-end;width: 50%;}#sk-container-id-3 div.sk-parallel-item:last-child::after {align-self: flex-start;width: 50%;}#sk-container-id-3 div.sk-parallel-item:only-child::after {width: 0;}#sk-container-id-3 div.sk-dashed-wrapped {border: 1px dashed gray;margin: 0 0.4em 0.5em 0.4em;box-sizing: border-box;padding-bottom: 0.4em;background-color: white;}#sk-container-id-3 div.sk-label label {font-family: monospace;font-weight: bold;display: inline-block;line-height: 1.2em;}#sk-container-id-3 div.sk-label-container {text-align: center;}#sk-container-id-3 div.sk-container {/* jupyter's `normalize.less` sets `[hidden] { display: none; }` but bootstrap.min.css set `[hidden] { display: none !important; }` so we also need the `!important` here to be able to override the default hidden behavior on the sphinx rendered scikit-learn.org. See: https://github.com/scikit-learn/scikit-learn/issues/21755 */display: inline-block !important;position: relative;}#sk-container-id-3 div.sk-text-repr-fallback {display: none;}</style><div id=\"sk-container-id-3\" class=\"sk-top-container\"><div class=\"sk-text-repr-fallback\"><pre>LGBMClassifier(objective=&#x27;multiclass&#x27;)</pre><b>In a Jupyter environment, please rerun this cell to show the HTML representation or trust the notebook. <br />On GitHub, the HTML representation is unable to render, please try loading this page with nbviewer.org.</b></div><div class=\"sk-container\" hidden><div class=\"sk-item\"><div class=\"sk-estimator sk-toggleable\"><input class=\"sk-toggleable__control sk-hidden--visually\" id=\"sk-estimator-id-3\" type=\"checkbox\" checked><label for=\"sk-estimator-id-3\" class=\"sk-toggleable__label sk-toggleable__label-arrow\">LGBMClassifier</label><div class=\"sk-toggleable__content\"><pre>LGBMClassifier(objective=&#x27;multiclass&#x27;)</pre></div></div></div></div></div>"
      ],
      "text/plain": [
       "LGBMClassifier(objective='multiclass')"
      ]
     },
     "execution_count": 32,
     "metadata": {},
     "output_type": "execute_result"
    }
   ],
   "source": [
    "clf = lgbm.LGBMClassifier(objective=obj_par) \n",
    "clf.fit(X_train, y_train)"
   ]
  },
  {
   "cell_type": "code",
   "execution_count": 33,
   "id": "600a663a",
   "metadata": {
    "execution": {
     "iopub.execute_input": "2023-03-20T11:16:28.392092Z",
     "iopub.status.busy": "2023-03-20T11:16:28.391759Z",
     "iopub.status.idle": "2023-03-20T11:16:28.414323Z",
     "shell.execute_reply": "2023-03-20T11:16:28.412792Z"
    },
    "papermill": {
     "duration": 0.039615,
     "end_time": "2023-03-20T11:16:28.417608",
     "exception": false,
     "start_time": "2023-03-20T11:16:28.377993",
     "status": "completed"
    },
    "tags": []
   },
   "outputs": [
    {
     "name": "stdout",
     "output_type": "stream",
     "text": [
      "              precision    recall  f1-score   support\n",
      "\n",
      "        comp       0.83      0.85      0.84        47\n",
      "        misc       0.71      0.62      0.67         8\n",
      "         rec       0.95      0.86      0.90        49\n",
      "    religion       0.94      0.88      0.91        88\n",
      "         sci       0.82      0.82      0.82        68\n",
      "        talk       0.88      0.98      0.93        95\n",
      "\n",
      "    accuracy                           0.88       355\n",
      "   macro avg       0.86      0.84      0.84       355\n",
      "weighted avg       0.88      0.88      0.88       355\n",
      "\n"
     ]
    }
   ],
   "source": [
    "y_pred = clf.predict(X_test)\n",
    "print(classification_report(y_test, y_pred))"
   ]
  },
  {
   "cell_type": "code",
   "execution_count": 34,
   "id": "508d831d",
   "metadata": {
    "execution": {
     "iopub.execute_input": "2023-03-20T11:16:28.451174Z",
     "iopub.status.busy": "2023-03-20T11:16:28.450763Z",
     "iopub.status.idle": "2023-03-20T11:16:28.465365Z",
     "shell.execute_reply": "2023-03-20T11:16:28.464616Z"
    },
    "papermill": {
     "duration": 0.034216,
     "end_time": "2023-03-20T11:16:28.467297",
     "exception": false,
     "start_time": "2023-03-20T11:16:28.433081",
     "status": "completed"
    },
    "tags": []
   },
   "outputs": [],
   "source": [
    "acc = accuracy_score(y_test, y_pred)\n",
    "pre = precision_score(y_test, y_pred, average=avg_par)\n",
    "rec = recall_score(y_test, y_pred, average=avg_par)\n",
    "f1 = f1_score(y_test, y_pred, average=avg_par)\n",
    "\n",
    "metrics_data['Global']['LightGBM'] = {'Accuracy': acc, 'Precision': pre, 'Recall': rec, 'F1': f1}"
   ]
  },
  {
   "cell_type": "markdown",
   "id": "14b86894",
   "metadata": {
    "papermill": {
     "duration": 0.013202,
     "end_time": "2023-03-20T11:16:28.496081",
     "exception": false,
     "start_time": "2023-03-20T11:16:28.482879",
     "status": "completed"
    },
    "tags": []
   },
   "source": [
    "### Time Series Classification"
   ]
  },
  {
   "cell_type": "markdown",
   "id": "84c55533",
   "metadata": {
    "papermill": {
     "duration": 0.014354,
     "end_time": "2023-03-20T11:16:28.523471",
     "exception": false,
     "start_time": "2023-03-20T11:16:28.509117",
     "status": "completed"
    },
    "tags": []
   },
   "source": [
    "#### Learning Shapelets"
   ]
  },
  {
   "cell_type": "code",
   "execution_count": 35,
   "id": "488d8eb7",
   "metadata": {
    "execution": {
     "iopub.execute_input": "2023-03-20T11:16:28.550496Z",
     "iopub.status.busy": "2023-03-20T11:16:28.550175Z",
     "iopub.status.idle": "2023-03-20T11:16:31.272379Z",
     "shell.execute_reply": "2023-03-20T11:16:31.271673Z"
    },
    "papermill": {
     "duration": 2.738838,
     "end_time": "2023-03-20T11:16:31.275289",
     "exception": false,
     "start_time": "2023-03-20T11:16:28.536451",
     "status": "completed"
    },
    "tags": []
   },
   "outputs": [
    {
     "name": "stderr",
     "output_type": "stream",
     "text": [
      "2023-03-20 12:16:28.561436: I tensorflow/core/platform/cpu_feature_guard.cc:193] This TensorFlow binary is optimized with oneAPI Deep Neural Network Library (oneDNN) to use the following CPU instructions in performance-critical operations:  AVX2 FMA\n",
      "To enable them in other operations, rebuild TensorFlow with the appropriate compiler flags.\n",
      "2023-03-20 12:16:28.885960: W tensorflow/compiler/xla/stream_executor/platform/default/dso_loader.cc:64] Could not load dynamic library 'libcudart.so.11.0'; dlerror: libcudart.so.11.0: cannot open shared object file: No such file or directory\n",
      "2023-03-20 12:16:28.885984: I tensorflow/compiler/xla/stream_executor/cuda/cudart_stub.cc:29] Ignore above cudart dlerror if you do not have a GPU set up on your machine.\n"
     ]
    },
    {
     "name": "stderr",
     "output_type": "stream",
     "text": [
      "2023-03-20 12:16:29.918696: W tensorflow/compiler/xla/stream_executor/platform/default/dso_loader.cc:64] Could not load dynamic library 'libnvinfer.so.7'; dlerror: libnvinfer.so.7: cannot open shared object file: No such file or directory\n",
      "2023-03-20 12:16:29.918796: W tensorflow/compiler/xla/stream_executor/platform/default/dso_loader.cc:64] Could not load dynamic library 'libnvinfer_plugin.so.7'; dlerror: libnvinfer_plugin.so.7: cannot open shared object file: No such file or directory\n",
      "2023-03-20 12:16:29.918806: W tensorflow/compiler/tf2tensorrt/utils/py_utils.cc:38] TF-TRT Warning: Cannot dlopen some TensorRT libraries. If you would like to use Nvidia GPU with TensorRT, please make sure the missing libraries mentioned above are installed properly.\n"
     ]
    }
   ],
   "source": [
    "from tslearn.shapelets import LearningShapelets, grabocka_params_to_shapelet_size_dict"
   ]
  },
  {
   "cell_type": "code",
   "execution_count": 36,
   "id": "eb677959",
   "metadata": {
    "execution": {
     "iopub.execute_input": "2023-03-20T11:16:31.348818Z",
     "iopub.status.busy": "2023-03-20T11:16:31.347167Z",
     "iopub.status.idle": "2023-03-20T11:16:31.355600Z",
     "shell.execute_reply": "2023-03-20T11:16:31.354482Z"
    },
    "papermill": {
     "duration": 0.047401,
     "end_time": "2023-03-20T11:16:31.357770",
     "exception": false,
     "start_time": "2023-03-20T11:16:31.310369",
     "status": "completed"
    },
    "tags": []
   },
   "outputs": [],
   "source": [
    "n_ts, ts_sz, _ = ts_train.shape\n",
    "n_classes = len(set(y_train))"
   ]
  },
  {
   "cell_type": "code",
   "execution_count": 37,
   "id": "776ed3dd",
   "metadata": {
    "execution": {
     "iopub.execute_input": "2023-03-20T11:16:31.400044Z",
     "iopub.status.busy": "2023-03-20T11:16:31.399116Z",
     "iopub.status.idle": "2023-03-20T11:16:31.406524Z",
     "shell.execute_reply": "2023-03-20T11:16:31.405432Z"
    },
    "papermill": {
     "duration": 0.028307,
     "end_time": "2023-03-20T11:16:31.410035",
     "exception": false,
     "start_time": "2023-03-20T11:16:31.381728",
     "status": "completed"
    },
    "tags": []
   },
   "outputs": [
    {
     "name": "stdout",
     "output_type": "stream",
     "text": [
      "n_ts 1420\n",
      "ts_sz 100\n",
      "n_classes 6\n",
      "shapelet_sizes {10: 5}\n"
     ]
    }
   ],
   "source": [
    "# Set the number of shapelets per size as done in the original paper\n",
    "g_shapelet_sizes = grabocka_params_to_shapelet_size_dict(n_ts=n_ts,\n",
    "                                                         ts_sz=ts_sz,\n",
    "                                                         n_classes=n_classes,\n",
    "                                                         l=0.1,\n",
    "                                                         r=1)\n",
    "\n",
    "print('n_ts', n_ts)\n",
    "print('ts_sz', ts_sz)\n",
    "print('n_classes', n_classes)\n",
    "print('shapelet_sizes', g_shapelet_sizes)"
   ]
  },
  {
   "cell_type": "code",
   "execution_count": 38,
   "id": "90ed707e",
   "metadata": {
    "execution": {
     "iopub.execute_input": "2023-03-20T11:16:31.436328Z",
     "iopub.status.busy": "2023-03-20T11:16:31.436045Z",
     "iopub.status.idle": "2023-03-20T11:16:31.442350Z",
     "shell.execute_reply": "2023-03-20T11:16:31.441463Z"
    },
    "papermill": {
     "duration": 0.021422,
     "end_time": "2023-03-20T11:16:31.444020",
     "exception": false,
     "start_time": "2023-03-20T11:16:31.422598",
     "status": "completed"
    },
    "tags": []
   },
   "outputs": [
    {
     "data": {
      "text/plain": [
       "{10: 5, 20: 5, 5: 5}"
      ]
     },
     "execution_count": 38,
     "metadata": {},
     "output_type": "execute_result"
    }
   ],
   "source": [
    "shapelet_sizes = {}\n",
    "for key in g_shapelet_sizes:\n",
    "    shapelet_sizes[key] = g_shapelet_sizes[key]\n",
    "    shapelet_sizes[key*2] = g_shapelet_sizes[key]\n",
    "    shapelet_sizes[key//2] = g_shapelet_sizes[key]\n",
    "shapelet_sizes"
   ]
  },
  {
   "cell_type": "code",
   "execution_count": 39,
   "id": "3507fb9c",
   "metadata": {
    "execution": {
     "iopub.execute_input": "2023-03-20T11:16:31.474029Z",
     "iopub.status.busy": "2023-03-20T11:16:31.473719Z",
     "iopub.status.idle": "2023-03-20T11:16:31.479091Z",
     "shell.execute_reply": "2023-03-20T11:16:31.478361Z"
    },
    "papermill": {
     "duration": 0.024145,
     "end_time": "2023-03-20T11:16:31.480637",
     "exception": false,
     "start_time": "2023-03-20T11:16:31.456492",
     "status": "completed"
    },
    "tags": []
   },
   "outputs": [
    {
     "name": "stderr",
     "output_type": "stream",
     "text": [
      "/home/mattiapggioli/lyrics2ts/.venv/lib/python3.9/site-packages/tslearn/shapelets/shapelets.py:354: FutureWarning: The default value for 'scale' is set to False in version 0.4 to ensure backward compatibility, but is likely to change in a future version.\n",
      "  warnings.warn(\"The default value for 'scale' is set to False \"\n"
     ]
    }
   ],
   "source": [
    "model = LearningShapelets(n_shapelets_per_size=shapelet_sizes,\n",
    "                          optimizer=\"adam\", \n",
    "                          weight_regularizer=.01, \n",
    "                          max_iter=max_iter, verbose=0, random_state=42)"
   ]
  },
  {
   "cell_type": "code",
   "execution_count": 40,
   "id": "73b1fe2e",
   "metadata": {
    "execution": {
     "iopub.execute_input": "2023-03-20T11:16:31.509032Z",
     "iopub.status.busy": "2023-03-20T11:16:31.508750Z",
     "iopub.status.idle": "2023-03-20T11:18:54.703798Z",
     "shell.execute_reply": "2023-03-20T11:18:54.702728Z"
    },
    "papermill": {
     "duration": 143.222766,
     "end_time": "2023-03-20T11:18:54.717813",
     "exception": false,
     "start_time": "2023-03-20T11:16:31.495047",
     "status": "completed"
    },
    "tags": []
   },
   "outputs": [
    {
     "name": "stderr",
     "output_type": "stream",
     "text": [
      "2023-03-20 12:16:31.564929: W tensorflow/compiler/xla/stream_executor/platform/default/dso_loader.cc:64] Could not load dynamic library 'libcuda.so.1'; dlerror: libcuda.so.1: cannot open shared object file: No such file or directory\n",
      "2023-03-20 12:16:31.564953: W tensorflow/compiler/xla/stream_executor/cuda/cuda_driver.cc:265] failed call to cuInit: UNKNOWN ERROR (303)\n",
      "2023-03-20 12:16:31.564974: I tensorflow/compiler/xla/stream_executor/cuda/cuda_diagnostics.cc:156] kernel driver does not appear to be running on this host (mattiapggioli-ThinkPad-E595): /proc/driver/nvidia/version does not exist\n",
      "2023-03-20 12:16:31.565431: I tensorflow/core/platform/cpu_feature_guard.cc:193] This TensorFlow binary is optimized with oneAPI Deep Neural Network Library (oneDNN) to use the following CPU instructions in performance-critical operations:  AVX2 FMA\n",
      "To enable them in other operations, rebuild TensorFlow with the appropriate compiler flags.\n"
     ]
    },
    {
     "name": "stdout",
     "output_type": "stream",
     "text": [
      "CPU times: user 10min 3s, sys: 31.9 s, total: 10min 35s\n",
      "Wall time: 2min 23s\n"
     ]
    },
    {
     "data": {
      "text/html": [
       "<style>#sk-container-id-4 {color: black;background-color: white;}#sk-container-id-4 pre{padding: 0;}#sk-container-id-4 div.sk-toggleable {background-color: white;}#sk-container-id-4 label.sk-toggleable__label {cursor: pointer;display: block;width: 100%;margin-bottom: 0;padding: 0.3em;box-sizing: border-box;text-align: center;}#sk-container-id-4 label.sk-toggleable__label-arrow:before {content: \"▸\";float: left;margin-right: 0.25em;color: #696969;}#sk-container-id-4 label.sk-toggleable__label-arrow:hover:before {color: black;}#sk-container-id-4 div.sk-estimator:hover label.sk-toggleable__label-arrow:before {color: black;}#sk-container-id-4 div.sk-toggleable__content {max-height: 0;max-width: 0;overflow: hidden;text-align: left;background-color: #f0f8ff;}#sk-container-id-4 div.sk-toggleable__content pre {margin: 0.2em;color: black;border-radius: 0.25em;background-color: #f0f8ff;}#sk-container-id-4 input.sk-toggleable__control:checked~div.sk-toggleable__content {max-height: 200px;max-width: 100%;overflow: auto;}#sk-container-id-4 input.sk-toggleable__control:checked~label.sk-toggleable__label-arrow:before {content: \"▾\";}#sk-container-id-4 div.sk-estimator input.sk-toggleable__control:checked~label.sk-toggleable__label {background-color: #d4ebff;}#sk-container-id-4 div.sk-label input.sk-toggleable__control:checked~label.sk-toggleable__label {background-color: #d4ebff;}#sk-container-id-4 input.sk-hidden--visually {border: 0;clip: rect(1px 1px 1px 1px);clip: rect(1px, 1px, 1px, 1px);height: 1px;margin: -1px;overflow: hidden;padding: 0;position: absolute;width: 1px;}#sk-container-id-4 div.sk-estimator {font-family: monospace;background-color: #f0f8ff;border: 1px dotted black;border-radius: 0.25em;box-sizing: border-box;margin-bottom: 0.5em;}#sk-container-id-4 div.sk-estimator:hover {background-color: #d4ebff;}#sk-container-id-4 div.sk-parallel-item::after {content: \"\";width: 100%;border-bottom: 1px solid gray;flex-grow: 1;}#sk-container-id-4 div.sk-label:hover label.sk-toggleable__label {background-color: #d4ebff;}#sk-container-id-4 div.sk-serial::before {content: \"\";position: absolute;border-left: 1px solid gray;box-sizing: border-box;top: 0;bottom: 0;left: 50%;z-index: 0;}#sk-container-id-4 div.sk-serial {display: flex;flex-direction: column;align-items: center;background-color: white;padding-right: 0.2em;padding-left: 0.2em;position: relative;}#sk-container-id-4 div.sk-item {position: relative;z-index: 1;}#sk-container-id-4 div.sk-parallel {display: flex;align-items: stretch;justify-content: center;background-color: white;position: relative;}#sk-container-id-4 div.sk-item::before, #sk-container-id-4 div.sk-parallel-item::before {content: \"\";position: absolute;border-left: 1px solid gray;box-sizing: border-box;top: 0;bottom: 0;left: 50%;z-index: -1;}#sk-container-id-4 div.sk-parallel-item {display: flex;flex-direction: column;z-index: 1;position: relative;background-color: white;}#sk-container-id-4 div.sk-parallel-item:first-child::after {align-self: flex-end;width: 50%;}#sk-container-id-4 div.sk-parallel-item:last-child::after {align-self: flex-start;width: 50%;}#sk-container-id-4 div.sk-parallel-item:only-child::after {width: 0;}#sk-container-id-4 div.sk-dashed-wrapped {border: 1px dashed gray;margin: 0 0.4em 0.5em 0.4em;box-sizing: border-box;padding-bottom: 0.4em;background-color: white;}#sk-container-id-4 div.sk-label label {font-family: monospace;font-weight: bold;display: inline-block;line-height: 1.2em;}#sk-container-id-4 div.sk-label-container {text-align: center;}#sk-container-id-4 div.sk-container {/* jupyter's `normalize.less` sets `[hidden] { display: none; }` but bootstrap.min.css set `[hidden] { display: none !important; }` so we also need the `!important` here to be able to override the default hidden behavior on the sphinx rendered scikit-learn.org. See: https://github.com/scikit-learn/scikit-learn/issues/21755 */display: inline-block !important;position: relative;}#sk-container-id-4 div.sk-text-repr-fallback {display: none;}</style><div id=\"sk-container-id-4\" class=\"sk-top-container\"><div class=\"sk-text-repr-fallback\"><pre>LearningShapelets(max_iter=2000, n_shapelets_per_size={5: 5, 10: 5, 20: 5},\n",
       "                  optimizer=&#x27;adam&#x27;, random_state=42, weight_regularizer=0.01)</pre><b>In a Jupyter environment, please rerun this cell to show the HTML representation or trust the notebook. <br />On GitHub, the HTML representation is unable to render, please try loading this page with nbviewer.org.</b></div><div class=\"sk-container\" hidden><div class=\"sk-item\"><div class=\"sk-estimator sk-toggleable\"><input class=\"sk-toggleable__control sk-hidden--visually\" id=\"sk-estimator-id-4\" type=\"checkbox\" checked><label for=\"sk-estimator-id-4\" class=\"sk-toggleable__label sk-toggleable__label-arrow\">LearningShapelets</label><div class=\"sk-toggleable__content\"><pre>LearningShapelets(max_iter=2000, n_shapelets_per_size={5: 5, 10: 5, 20: 5},\n",
       "                  optimizer=&#x27;adam&#x27;, random_state=42, weight_regularizer=0.01)</pre></div></div></div></div></div>"
      ],
      "text/plain": [
       "LearningShapelets(max_iter=2000, n_shapelets_per_size={5: 5, 10: 5, 20: 5},\n",
       "                  optimizer='adam', random_state=42, weight_regularizer=0.01)"
      ]
     },
     "execution_count": 40,
     "metadata": {},
     "output_type": "execute_result"
    }
   ],
   "source": [
    "%%time\n",
    "model.fit(ts_train, y_train)"
   ]
  },
  {
   "cell_type": "code",
   "execution_count": 41,
   "id": "51706baa",
   "metadata": {
    "execution": {
     "iopub.execute_input": "2023-03-20T11:18:54.746865Z",
     "iopub.status.busy": "2023-03-20T11:18:54.745934Z",
     "iopub.status.idle": "2023-03-20T11:18:54.787013Z",
     "shell.execute_reply": "2023-03-20T11:18:54.785565Z"
    },
    "papermill": {
     "duration": 0.058074,
     "end_time": "2023-03-20T11:18:54.789379",
     "exception": false,
     "start_time": "2023-03-20T11:18:54.731305",
     "status": "completed"
    },
    "tags": []
   },
   "outputs": [],
   "source": [
    "model.to_pickle(f'{data_path}/shapelets.pkl')"
   ]
  },
  {
   "cell_type": "markdown",
   "id": "309f70dc",
   "metadata": {
    "papermill": {
     "duration": 0.012858,
     "end_time": "2023-03-20T11:18:54.817406",
     "exception": false,
     "start_time": "2023-03-20T11:18:54.804548",
     "status": "completed"
    },
    "tags": []
   },
   "source": [
    "#### Shapelet-Based Classification"
   ]
  },
  {
   "cell_type": "code",
   "execution_count": 42,
   "id": "60125dff",
   "metadata": {
    "execution": {
     "iopub.execute_input": "2023-03-20T11:18:54.846276Z",
     "iopub.status.busy": "2023-03-20T11:18:54.845438Z",
     "iopub.status.idle": "2023-03-20T11:18:54.852221Z",
     "shell.execute_reply": "2023-03-20T11:18:54.850729Z"
    },
    "papermill": {
     "duration": 0.023319,
     "end_time": "2023-03-20T11:18:54.854010",
     "exception": false,
     "start_time": "2023-03-20T11:18:54.830691",
     "status": "completed"
    },
    "tags": []
   },
   "outputs": [],
   "source": [
    "metrics_data['Shapelets'] = {}"
   ]
  },
  {
   "cell_type": "code",
   "execution_count": 43,
   "id": "efb8984d",
   "metadata": {
    "execution": {
     "iopub.execute_input": "2023-03-20T11:18:54.882143Z",
     "iopub.status.busy": "2023-03-20T11:18:54.881792Z",
     "iopub.status.idle": "2023-03-20T11:18:55.320730Z",
     "shell.execute_reply": "2023-03-20T11:18:55.319648Z"
    },
    "papermill": {
     "duration": 0.456474,
     "end_time": "2023-03-20T11:18:55.324003",
     "exception": false,
     "start_time": "2023-03-20T11:18:54.867529",
     "status": "completed"
    },
    "tags": []
   },
   "outputs": [],
   "source": [
    "X_train = model.transform(ts_train)\n",
    "X_test = model.transform(ts_test)"
   ]
  },
  {
   "cell_type": "code",
   "execution_count": 44,
   "id": "2e6c0f22",
   "metadata": {
    "execution": {
     "iopub.execute_input": "2023-03-20T11:18:55.396518Z",
     "iopub.status.busy": "2023-03-20T11:18:55.396227Z",
     "iopub.status.idle": "2023-03-20T11:18:55.419077Z",
     "shell.execute_reply": "2023-03-20T11:18:55.418403Z"
    },
    "papermill": {
     "duration": 0.061083,
     "end_time": "2023-03-20T11:18:55.421108",
     "exception": false,
     "start_time": "2023-03-20T11:18:55.360025",
     "status": "completed"
    },
    "tags": []
   },
   "outputs": [
    {
     "data": {
      "text/html": [
       "<div>\n",
       "<style scoped>\n",
       "    .dataframe tbody tr th:only-of-type {\n",
       "        vertical-align: middle;\n",
       "    }\n",
       "\n",
       "    .dataframe tbody tr th {\n",
       "        vertical-align: top;\n",
       "    }\n",
       "\n",
       "    .dataframe thead th {\n",
       "        text-align: right;\n",
       "    }\n",
       "</style>\n",
       "<table border=\"1\" class=\"dataframe\">\n",
       "  <thead>\n",
       "    <tr style=\"text-align: right;\">\n",
       "      <th></th>\n",
       "      <th>0</th>\n",
       "      <th>1</th>\n",
       "      <th>2</th>\n",
       "      <th>3</th>\n",
       "      <th>4</th>\n",
       "      <th>5</th>\n",
       "      <th>6</th>\n",
       "      <th>7</th>\n",
       "      <th>8</th>\n",
       "      <th>9</th>\n",
       "      <th>10</th>\n",
       "      <th>11</th>\n",
       "      <th>12</th>\n",
       "      <th>13</th>\n",
       "      <th>14</th>\n",
       "    </tr>\n",
       "  </thead>\n",
       "  <tbody>\n",
       "    <tr>\n",
       "      <th>0</th>\n",
       "      <td>0.936378</td>\n",
       "      <td>0.572828</td>\n",
       "      <td>0.978927</td>\n",
       "      <td>2.534697</td>\n",
       "      <td>5.113692</td>\n",
       "      <td>2.699782</td>\n",
       "      <td>4.511510</td>\n",
       "      <td>1.227410</td>\n",
       "      <td>0.045990</td>\n",
       "      <td>0.878862</td>\n",
       "      <td>2.881707</td>\n",
       "      <td>3.541975</td>\n",
       "      <td>0.553832</td>\n",
       "      <td>1.913978</td>\n",
       "      <td>0.087103</td>\n",
       "    </tr>\n",
       "    <tr>\n",
       "      <th>1</th>\n",
       "      <td>0.635403</td>\n",
       "      <td>0.635719</td>\n",
       "      <td>0.287528</td>\n",
       "      <td>3.298290</td>\n",
       "      <td>2.974096</td>\n",
       "      <td>1.489422</td>\n",
       "      <td>2.687347</td>\n",
       "      <td>1.173203</td>\n",
       "      <td>0.032841</td>\n",
       "      <td>0.914576</td>\n",
       "      <td>2.456318</td>\n",
       "      <td>2.436258</td>\n",
       "      <td>0.272123</td>\n",
       "      <td>2.014714</td>\n",
       "      <td>0.095833</td>\n",
       "    </tr>\n",
       "    <tr>\n",
       "      <th>2</th>\n",
       "      <td>0.866309</td>\n",
       "      <td>1.004794</td>\n",
       "      <td>0.308425</td>\n",
       "      <td>1.843314</td>\n",
       "      <td>6.631084</td>\n",
       "      <td>1.612309</td>\n",
       "      <td>7.231016</td>\n",
       "      <td>1.463789</td>\n",
       "      <td>0.473382</td>\n",
       "      <td>0.749340</td>\n",
       "      <td>4.798492</td>\n",
       "      <td>2.133427</td>\n",
       "      <td>0.244151</td>\n",
       "      <td>1.760863</td>\n",
       "      <td>0.086393</td>\n",
       "    </tr>\n",
       "    <tr>\n",
       "      <th>3</th>\n",
       "      <td>0.797797</td>\n",
       "      <td>0.450110</td>\n",
       "      <td>1.465157</td>\n",
       "      <td>2.069923</td>\n",
       "      <td>3.426946</td>\n",
       "      <td>2.936260</td>\n",
       "      <td>3.509636</td>\n",
       "      <td>1.091373</td>\n",
       "      <td>0.009399</td>\n",
       "      <td>1.026617</td>\n",
       "      <td>2.616337</td>\n",
       "      <td>4.539945</td>\n",
       "      <td>0.705774</td>\n",
       "      <td>1.870715</td>\n",
       "      <td>0.245160</td>\n",
       "    </tr>\n",
       "    <tr>\n",
       "      <th>4</th>\n",
       "      <td>0.769290</td>\n",
       "      <td>0.819944</td>\n",
       "      <td>0.833894</td>\n",
       "      <td>2.118428</td>\n",
       "      <td>6.709507</td>\n",
       "      <td>2.356472</td>\n",
       "      <td>6.958712</td>\n",
       "      <td>1.427513</td>\n",
       "      <td>0.193953</td>\n",
       "      <td>0.465343</td>\n",
       "      <td>4.183413</td>\n",
       "      <td>2.921431</td>\n",
       "      <td>0.365480</td>\n",
       "      <td>1.947161</td>\n",
       "      <td>0.027187</td>\n",
       "    </tr>\n",
       "    <tr>\n",
       "      <th>...</th>\n",
       "      <td>...</td>\n",
       "      <td>...</td>\n",
       "      <td>...</td>\n",
       "      <td>...</td>\n",
       "      <td>...</td>\n",
       "      <td>...</td>\n",
       "      <td>...</td>\n",
       "      <td>...</td>\n",
       "      <td>...</td>\n",
       "      <td>...</td>\n",
       "      <td>...</td>\n",
       "      <td>...</td>\n",
       "      <td>...</td>\n",
       "      <td>...</td>\n",
       "      <td>...</td>\n",
       "    </tr>\n",
       "    <tr>\n",
       "      <th>350</th>\n",
       "      <td>1.005491</td>\n",
       "      <td>0.843868</td>\n",
       "      <td>1.792524</td>\n",
       "      <td>3.176455</td>\n",
       "      <td>3.768147</td>\n",
       "      <td>4.244332</td>\n",
       "      <td>2.765791</td>\n",
       "      <td>1.376587</td>\n",
       "      <td>0.025716</td>\n",
       "      <td>1.106180</td>\n",
       "      <td>1.697460</td>\n",
       "      <td>5.042497</td>\n",
       "      <td>0.993531</td>\n",
       "      <td>2.141843</td>\n",
       "      <td>0.351141</td>\n",
       "    </tr>\n",
       "    <tr>\n",
       "      <th>351</th>\n",
       "      <td>0.382061</td>\n",
       "      <td>0.673539</td>\n",
       "      <td>0.775584</td>\n",
       "      <td>2.695964</td>\n",
       "      <td>4.662263</td>\n",
       "      <td>3.098974</td>\n",
       "      <td>3.685724</td>\n",
       "      <td>1.353368</td>\n",
       "      <td>0.052455</td>\n",
       "      <td>0.957286</td>\n",
       "      <td>1.909553</td>\n",
       "      <td>4.509019</td>\n",
       "      <td>0.726368</td>\n",
       "      <td>1.734107</td>\n",
       "      <td>0.356981</td>\n",
       "    </tr>\n",
       "    <tr>\n",
       "      <th>352</th>\n",
       "      <td>0.629727</td>\n",
       "      <td>0.587909</td>\n",
       "      <td>3.587543</td>\n",
       "      <td>5.875390</td>\n",
       "      <td>3.277499</td>\n",
       "      <td>6.813990</td>\n",
       "      <td>2.412879</td>\n",
       "      <td>1.829710</td>\n",
       "      <td>0.572710</td>\n",
       "      <td>2.522461</td>\n",
       "      <td>0.803419</td>\n",
       "      <td>8.222915</td>\n",
       "      <td>2.379796</td>\n",
       "      <td>2.341454</td>\n",
       "      <td>1.533466</td>\n",
       "    </tr>\n",
       "    <tr>\n",
       "      <th>353</th>\n",
       "      <td>0.797594</td>\n",
       "      <td>0.659343</td>\n",
       "      <td>2.539053</td>\n",
       "      <td>4.413628</td>\n",
       "      <td>3.770662</td>\n",
       "      <td>4.481063</td>\n",
       "      <td>3.803571</td>\n",
       "      <td>1.129095</td>\n",
       "      <td>0.073356</td>\n",
       "      <td>1.342315</td>\n",
       "      <td>1.819365</td>\n",
       "      <td>5.594134</td>\n",
       "      <td>1.216476</td>\n",
       "      <td>1.853520</td>\n",
       "      <td>0.507138</td>\n",
       "    </tr>\n",
       "    <tr>\n",
       "      <th>354</th>\n",
       "      <td>0.826257</td>\n",
       "      <td>0.846232</td>\n",
       "      <td>1.872708</td>\n",
       "      <td>3.660719</td>\n",
       "      <td>3.509854</td>\n",
       "      <td>4.197107</td>\n",
       "      <td>3.258967</td>\n",
       "      <td>1.424047</td>\n",
       "      <td>0.082258</td>\n",
       "      <td>1.348779</td>\n",
       "      <td>1.893502</td>\n",
       "      <td>4.964466</td>\n",
       "      <td>1.067543</td>\n",
       "      <td>1.701819</td>\n",
       "      <td>0.511215</td>\n",
       "    </tr>\n",
       "  </tbody>\n",
       "</table>\n",
       "<p>355 rows × 15 columns</p>\n",
       "</div>"
      ],
      "text/plain": [
       "           0         1         2         3         4         5         6   \\\n",
       "0    0.936378  0.572828  0.978927  2.534697  5.113692  2.699782  4.511510   \n",
       "1    0.635403  0.635719  0.287528  3.298290  2.974096  1.489422  2.687347   \n",
       "2    0.866309  1.004794  0.308425  1.843314  6.631084  1.612309  7.231016   \n",
       "3    0.797797  0.450110  1.465157  2.069923  3.426946  2.936260  3.509636   \n",
       "4    0.769290  0.819944  0.833894  2.118428  6.709507  2.356472  6.958712   \n",
       "..        ...       ...       ...       ...       ...       ...       ...   \n",
       "350  1.005491  0.843868  1.792524  3.176455  3.768147  4.244332  2.765791   \n",
       "351  0.382061  0.673539  0.775584  2.695964  4.662263  3.098974  3.685724   \n",
       "352  0.629727  0.587909  3.587543  5.875390  3.277499  6.813990  2.412879   \n",
       "353  0.797594  0.659343  2.539053  4.413628  3.770662  4.481063  3.803571   \n",
       "354  0.826257  0.846232  1.872708  3.660719  3.509854  4.197107  3.258967   \n",
       "\n",
       "           7         8         9         10        11        12        13  \\\n",
       "0    1.227410  0.045990  0.878862  2.881707  3.541975  0.553832  1.913978   \n",
       "1    1.173203  0.032841  0.914576  2.456318  2.436258  0.272123  2.014714   \n",
       "2    1.463789  0.473382  0.749340  4.798492  2.133427  0.244151  1.760863   \n",
       "3    1.091373  0.009399  1.026617  2.616337  4.539945  0.705774  1.870715   \n",
       "4    1.427513  0.193953  0.465343  4.183413  2.921431  0.365480  1.947161   \n",
       "..        ...       ...       ...       ...       ...       ...       ...   \n",
       "350  1.376587  0.025716  1.106180  1.697460  5.042497  0.993531  2.141843   \n",
       "351  1.353368  0.052455  0.957286  1.909553  4.509019  0.726368  1.734107   \n",
       "352  1.829710  0.572710  2.522461  0.803419  8.222915  2.379796  2.341454   \n",
       "353  1.129095  0.073356  1.342315  1.819365  5.594134  1.216476  1.853520   \n",
       "354  1.424047  0.082258  1.348779  1.893502  4.964466  1.067543  1.701819   \n",
       "\n",
       "           14  \n",
       "0    0.087103  \n",
       "1    0.095833  \n",
       "2    0.086393  \n",
       "3    0.245160  \n",
       "4    0.027187  \n",
       "..        ...  \n",
       "350  0.351141  \n",
       "351  0.356981  \n",
       "352  1.533466  \n",
       "353  0.507138  \n",
       "354  0.511215  \n",
       "\n",
       "[355 rows x 15 columns]"
      ]
     },
     "execution_count": 44,
     "metadata": {},
     "output_type": "execute_result"
    }
   ],
   "source": [
    "pd.DataFrame(X_test)"
   ]
  },
  {
   "cell_type": "markdown",
   "id": "5fa024f7",
   "metadata": {
    "execution": {
     "iopub.execute_input": "2023-02-07T23:47:19.876941Z",
     "iopub.status.busy": "2023-02-07T23:47:19.876424Z",
     "iopub.status.idle": "2023-02-07T23:47:20.399488Z",
     "shell.execute_reply": "2023-02-07T23:47:20.398142Z"
    },
    "papermill": {
     "duration": 0.014111,
     "end_time": "2023-03-20T11:18:55.451440",
     "exception": false,
     "start_time": "2023-03-20T11:18:55.437329",
     "status": "completed"
    },
    "tags": []
   },
   "source": [
    "**Decision Tree**"
   ]
  },
  {
   "cell_type": "code",
   "execution_count": 45,
   "id": "4f5400c9",
   "metadata": {
    "execution": {
     "iopub.execute_input": "2023-03-20T11:18:55.483981Z",
     "iopub.status.busy": "2023-03-20T11:18:55.483067Z",
     "iopub.status.idle": "2023-03-20T11:18:55.552970Z",
     "shell.execute_reply": "2023-03-20T11:18:55.551725Z"
    },
    "papermill": {
     "duration": 0.089901,
     "end_time": "2023-03-20T11:18:55.555000",
     "exception": false,
     "start_time": "2023-03-20T11:18:55.465099",
     "status": "completed"
    },
    "tags": []
   },
   "outputs": [
    {
     "data": {
      "text/html": [
       "<style>#sk-container-id-5 {color: black;background-color: white;}#sk-container-id-5 pre{padding: 0;}#sk-container-id-5 div.sk-toggleable {background-color: white;}#sk-container-id-5 label.sk-toggleable__label {cursor: pointer;display: block;width: 100%;margin-bottom: 0;padding: 0.3em;box-sizing: border-box;text-align: center;}#sk-container-id-5 label.sk-toggleable__label-arrow:before {content: \"▸\";float: left;margin-right: 0.25em;color: #696969;}#sk-container-id-5 label.sk-toggleable__label-arrow:hover:before {color: black;}#sk-container-id-5 div.sk-estimator:hover label.sk-toggleable__label-arrow:before {color: black;}#sk-container-id-5 div.sk-toggleable__content {max-height: 0;max-width: 0;overflow: hidden;text-align: left;background-color: #f0f8ff;}#sk-container-id-5 div.sk-toggleable__content pre {margin: 0.2em;color: black;border-radius: 0.25em;background-color: #f0f8ff;}#sk-container-id-5 input.sk-toggleable__control:checked~div.sk-toggleable__content {max-height: 200px;max-width: 100%;overflow: auto;}#sk-container-id-5 input.sk-toggleable__control:checked~label.sk-toggleable__label-arrow:before {content: \"▾\";}#sk-container-id-5 div.sk-estimator input.sk-toggleable__control:checked~label.sk-toggleable__label {background-color: #d4ebff;}#sk-container-id-5 div.sk-label input.sk-toggleable__control:checked~label.sk-toggleable__label {background-color: #d4ebff;}#sk-container-id-5 input.sk-hidden--visually {border: 0;clip: rect(1px 1px 1px 1px);clip: rect(1px, 1px, 1px, 1px);height: 1px;margin: -1px;overflow: hidden;padding: 0;position: absolute;width: 1px;}#sk-container-id-5 div.sk-estimator {font-family: monospace;background-color: #f0f8ff;border: 1px dotted black;border-radius: 0.25em;box-sizing: border-box;margin-bottom: 0.5em;}#sk-container-id-5 div.sk-estimator:hover {background-color: #d4ebff;}#sk-container-id-5 div.sk-parallel-item::after {content: \"\";width: 100%;border-bottom: 1px solid gray;flex-grow: 1;}#sk-container-id-5 div.sk-label:hover label.sk-toggleable__label {background-color: #d4ebff;}#sk-container-id-5 div.sk-serial::before {content: \"\";position: absolute;border-left: 1px solid gray;box-sizing: border-box;top: 0;bottom: 0;left: 50%;z-index: 0;}#sk-container-id-5 div.sk-serial {display: flex;flex-direction: column;align-items: center;background-color: white;padding-right: 0.2em;padding-left: 0.2em;position: relative;}#sk-container-id-5 div.sk-item {position: relative;z-index: 1;}#sk-container-id-5 div.sk-parallel {display: flex;align-items: stretch;justify-content: center;background-color: white;position: relative;}#sk-container-id-5 div.sk-item::before, #sk-container-id-5 div.sk-parallel-item::before {content: \"\";position: absolute;border-left: 1px solid gray;box-sizing: border-box;top: 0;bottom: 0;left: 50%;z-index: -1;}#sk-container-id-5 div.sk-parallel-item {display: flex;flex-direction: column;z-index: 1;position: relative;background-color: white;}#sk-container-id-5 div.sk-parallel-item:first-child::after {align-self: flex-end;width: 50%;}#sk-container-id-5 div.sk-parallel-item:last-child::after {align-self: flex-start;width: 50%;}#sk-container-id-5 div.sk-parallel-item:only-child::after {width: 0;}#sk-container-id-5 div.sk-dashed-wrapped {border: 1px dashed gray;margin: 0 0.4em 0.5em 0.4em;box-sizing: border-box;padding-bottom: 0.4em;background-color: white;}#sk-container-id-5 div.sk-label label {font-family: monospace;font-weight: bold;display: inline-block;line-height: 1.2em;}#sk-container-id-5 div.sk-label-container {text-align: center;}#sk-container-id-5 div.sk-container {/* jupyter's `normalize.less` sets `[hidden] { display: none; }` but bootstrap.min.css set `[hidden] { display: none !important; }` so we also need the `!important` here to be able to override the default hidden behavior on the sphinx rendered scikit-learn.org. See: https://github.com/scikit-learn/scikit-learn/issues/21755 */display: inline-block !important;position: relative;}#sk-container-id-5 div.sk-text-repr-fallback {display: none;}</style><div id=\"sk-container-id-5\" class=\"sk-top-container\"><div class=\"sk-text-repr-fallback\"><pre>DecisionTreeClassifier(random_state=42)</pre><b>In a Jupyter environment, please rerun this cell to show the HTML representation or trust the notebook. <br />On GitHub, the HTML representation is unable to render, please try loading this page with nbviewer.org.</b></div><div class=\"sk-container\" hidden><div class=\"sk-item\"><div class=\"sk-estimator sk-toggleable\"><input class=\"sk-toggleable__control sk-hidden--visually\" id=\"sk-estimator-id-5\" type=\"checkbox\" checked><label for=\"sk-estimator-id-5\" class=\"sk-toggleable__label sk-toggleable__label-arrow\">DecisionTreeClassifier</label><div class=\"sk-toggleable__content\"><pre>DecisionTreeClassifier(random_state=42)</pre></div></div></div></div></div>"
      ],
      "text/plain": [
       "DecisionTreeClassifier(random_state=42)"
      ]
     },
     "execution_count": 45,
     "metadata": {},
     "output_type": "execute_result"
    }
   ],
   "source": [
    "clf = DecisionTreeClassifier(random_state=42)\n",
    "clf.fit(X_train, y_train)"
   ]
  },
  {
   "cell_type": "code",
   "execution_count": 46,
   "id": "3b56d190",
   "metadata": {
    "execution": {
     "iopub.execute_input": "2023-03-20T11:18:55.586372Z",
     "iopub.status.busy": "2023-03-20T11:18:55.585726Z",
     "iopub.status.idle": "2023-03-20T11:18:55.623813Z",
     "shell.execute_reply": "2023-03-20T11:18:55.622426Z"
    },
    "papermill": {
     "duration": 0.056866,
     "end_time": "2023-03-20T11:18:55.627325",
     "exception": false,
     "start_time": "2023-03-20T11:18:55.570459",
     "status": "completed"
    },
    "tags": []
   },
   "outputs": [
    {
     "name": "stdout",
     "output_type": "stream",
     "text": [
      "              precision    recall  f1-score   support\n",
      "\n",
      "        comp       0.13      0.15      0.14        47\n",
      "        misc       0.00      0.00      0.00         8\n",
      "         rec       0.44      0.43      0.43        49\n",
      "    religion       0.28      0.28      0.28        88\n",
      "         sci       0.31      0.28      0.29        68\n",
      "        talk       0.40      0.42      0.41        95\n",
      "\n",
      "    accuracy                           0.32       355\n",
      "   macro avg       0.26      0.26      0.26       355\n",
      "weighted avg       0.31      0.32      0.31       355\n",
      "\n"
     ]
    }
   ],
   "source": [
    "y_pred = clf.predict(X_test)\n",
    "print(classification_report(y_test, y_pred))"
   ]
  },
  {
   "cell_type": "code",
   "execution_count": 47,
   "id": "42bc91ff",
   "metadata": {
    "execution": {
     "iopub.execute_input": "2023-03-20T11:18:55.696242Z",
     "iopub.status.busy": "2023-03-20T11:18:55.695427Z",
     "iopub.status.idle": "2023-03-20T11:18:55.701753Z",
     "shell.execute_reply": "2023-03-20T11:18:55.700644Z"
    },
    "papermill": {
     "duration": 0.04214,
     "end_time": "2023-03-20T11:18:55.703424",
     "exception": false,
     "start_time": "2023-03-20T11:18:55.661284",
     "status": "completed"
    },
    "tags": []
   },
   "outputs": [],
   "source": [
    "pickle.dump(clf, open(f'{data_path}/decision_tree.pkl', 'wb'))"
   ]
  },
  {
   "cell_type": "code",
   "execution_count": 48,
   "id": "ea9be210",
   "metadata": {
    "execution": {
     "iopub.execute_input": "2023-03-20T11:18:55.734457Z",
     "iopub.status.busy": "2023-03-20T11:18:55.733469Z",
     "iopub.status.idle": "2023-03-20T11:18:55.761265Z",
     "shell.execute_reply": "2023-03-20T11:18:55.760210Z"
    },
    "papermill": {
     "duration": 0.046816,
     "end_time": "2023-03-20T11:18:55.763503",
     "exception": false,
     "start_time": "2023-03-20T11:18:55.716687",
     "status": "completed"
    },
    "tags": []
   },
   "outputs": [],
   "source": [
    "acc = accuracy_score(y_test, y_pred)\n",
    "pre = precision_score(y_test, y_pred, average=avg_par)\n",
    "rec = recall_score(y_test, y_pred, average=avg_par)\n",
    "f1 = f1_score(y_test, y_pred, average=avg_par)\n",
    "\n",
    "metrics_data['Shapelets']['DecisionTree'] = {'Accuracy': acc, 'Precision': pre, 'Recall': rec, 'F1': f1}"
   ]
  },
  {
   "cell_type": "markdown",
   "id": "3ca3443b",
   "metadata": {
    "papermill": {
     "duration": 0.012998,
     "end_time": "2023-03-20T11:18:55.791867",
     "exception": false,
     "start_time": "2023-03-20T11:18:55.778869",
     "status": "completed"
    },
    "tags": []
   },
   "source": [
    "**Random Forest**"
   ]
  },
  {
   "cell_type": "code",
   "execution_count": 49,
   "id": "37795e21",
   "metadata": {
    "execution": {
     "iopub.execute_input": "2023-03-20T11:18:55.821388Z",
     "iopub.status.busy": "2023-03-20T11:18:55.820481Z",
     "iopub.status.idle": "2023-03-20T11:18:56.281263Z",
     "shell.execute_reply": "2023-03-20T11:18:56.280514Z"
    },
    "papermill": {
     "duration": 0.479581,
     "end_time": "2023-03-20T11:18:56.284859",
     "exception": false,
     "start_time": "2023-03-20T11:18:55.805278",
     "status": "completed"
    },
    "tags": []
   },
   "outputs": [
    {
     "data": {
      "text/html": [
       "<style>#sk-container-id-6 {color: black;background-color: white;}#sk-container-id-6 pre{padding: 0;}#sk-container-id-6 div.sk-toggleable {background-color: white;}#sk-container-id-6 label.sk-toggleable__label {cursor: pointer;display: block;width: 100%;margin-bottom: 0;padding: 0.3em;box-sizing: border-box;text-align: center;}#sk-container-id-6 label.sk-toggleable__label-arrow:before {content: \"▸\";float: left;margin-right: 0.25em;color: #696969;}#sk-container-id-6 label.sk-toggleable__label-arrow:hover:before {color: black;}#sk-container-id-6 div.sk-estimator:hover label.sk-toggleable__label-arrow:before {color: black;}#sk-container-id-6 div.sk-toggleable__content {max-height: 0;max-width: 0;overflow: hidden;text-align: left;background-color: #f0f8ff;}#sk-container-id-6 div.sk-toggleable__content pre {margin: 0.2em;color: black;border-radius: 0.25em;background-color: #f0f8ff;}#sk-container-id-6 input.sk-toggleable__control:checked~div.sk-toggleable__content {max-height: 200px;max-width: 100%;overflow: auto;}#sk-container-id-6 input.sk-toggleable__control:checked~label.sk-toggleable__label-arrow:before {content: \"▾\";}#sk-container-id-6 div.sk-estimator input.sk-toggleable__control:checked~label.sk-toggleable__label {background-color: #d4ebff;}#sk-container-id-6 div.sk-label input.sk-toggleable__control:checked~label.sk-toggleable__label {background-color: #d4ebff;}#sk-container-id-6 input.sk-hidden--visually {border: 0;clip: rect(1px 1px 1px 1px);clip: rect(1px, 1px, 1px, 1px);height: 1px;margin: -1px;overflow: hidden;padding: 0;position: absolute;width: 1px;}#sk-container-id-6 div.sk-estimator {font-family: monospace;background-color: #f0f8ff;border: 1px dotted black;border-radius: 0.25em;box-sizing: border-box;margin-bottom: 0.5em;}#sk-container-id-6 div.sk-estimator:hover {background-color: #d4ebff;}#sk-container-id-6 div.sk-parallel-item::after {content: \"\";width: 100%;border-bottom: 1px solid gray;flex-grow: 1;}#sk-container-id-6 div.sk-label:hover label.sk-toggleable__label {background-color: #d4ebff;}#sk-container-id-6 div.sk-serial::before {content: \"\";position: absolute;border-left: 1px solid gray;box-sizing: border-box;top: 0;bottom: 0;left: 50%;z-index: 0;}#sk-container-id-6 div.sk-serial {display: flex;flex-direction: column;align-items: center;background-color: white;padding-right: 0.2em;padding-left: 0.2em;position: relative;}#sk-container-id-6 div.sk-item {position: relative;z-index: 1;}#sk-container-id-6 div.sk-parallel {display: flex;align-items: stretch;justify-content: center;background-color: white;position: relative;}#sk-container-id-6 div.sk-item::before, #sk-container-id-6 div.sk-parallel-item::before {content: \"\";position: absolute;border-left: 1px solid gray;box-sizing: border-box;top: 0;bottom: 0;left: 50%;z-index: -1;}#sk-container-id-6 div.sk-parallel-item {display: flex;flex-direction: column;z-index: 1;position: relative;background-color: white;}#sk-container-id-6 div.sk-parallel-item:first-child::after {align-self: flex-end;width: 50%;}#sk-container-id-6 div.sk-parallel-item:last-child::after {align-self: flex-start;width: 50%;}#sk-container-id-6 div.sk-parallel-item:only-child::after {width: 0;}#sk-container-id-6 div.sk-dashed-wrapped {border: 1px dashed gray;margin: 0 0.4em 0.5em 0.4em;box-sizing: border-box;padding-bottom: 0.4em;background-color: white;}#sk-container-id-6 div.sk-label label {font-family: monospace;font-weight: bold;display: inline-block;line-height: 1.2em;}#sk-container-id-6 div.sk-label-container {text-align: center;}#sk-container-id-6 div.sk-container {/* jupyter's `normalize.less` sets `[hidden] { display: none; }` but bootstrap.min.css set `[hidden] { display: none !important; }` so we also need the `!important` here to be able to override the default hidden behavior on the sphinx rendered scikit-learn.org. See: https://github.com/scikit-learn/scikit-learn/issues/21755 */display: inline-block !important;position: relative;}#sk-container-id-6 div.sk-text-repr-fallback {display: none;}</style><div id=\"sk-container-id-6\" class=\"sk-top-container\"><div class=\"sk-text-repr-fallback\"><pre>RandomForestClassifier(random_state=42)</pre><b>In a Jupyter environment, please rerun this cell to show the HTML representation or trust the notebook. <br />On GitHub, the HTML representation is unable to render, please try loading this page with nbviewer.org.</b></div><div class=\"sk-container\" hidden><div class=\"sk-item\"><div class=\"sk-estimator sk-toggleable\"><input class=\"sk-toggleable__control sk-hidden--visually\" id=\"sk-estimator-id-6\" type=\"checkbox\" checked><label for=\"sk-estimator-id-6\" class=\"sk-toggleable__label sk-toggleable__label-arrow\">RandomForestClassifier</label><div class=\"sk-toggleable__content\"><pre>RandomForestClassifier(random_state=42)</pre></div></div></div></div></div>"
      ],
      "text/plain": [
       "RandomForestClassifier(random_state=42)"
      ]
     },
     "execution_count": 49,
     "metadata": {},
     "output_type": "execute_result"
    }
   ],
   "source": [
    "clf = RandomForestClassifier(random_state=42)\n",
    "clf.fit(X_train, y_train)"
   ]
  },
  {
   "cell_type": "code",
   "execution_count": 50,
   "id": "581ab90a",
   "metadata": {
    "execution": {
     "iopub.execute_input": "2023-03-20T11:18:56.316840Z",
     "iopub.status.busy": "2023-03-20T11:18:56.316140Z",
     "iopub.status.idle": "2023-03-20T11:18:56.353161Z",
     "shell.execute_reply": "2023-03-20T11:18:56.352260Z"
    },
    "papermill": {
     "duration": 0.054162,
     "end_time": "2023-03-20T11:18:56.354840",
     "exception": false,
     "start_time": "2023-03-20T11:18:56.300678",
     "status": "completed"
    },
    "tags": []
   },
   "outputs": [
    {
     "name": "stdout",
     "output_type": "stream",
     "text": [
      "              precision    recall  f1-score   support\n",
      "\n",
      "        comp       0.30      0.13      0.18        47\n",
      "        misc       0.00      0.00      0.00         8\n",
      "         rec       0.58      0.61      0.59        49\n",
      "    religion       0.35      0.43      0.39        88\n",
      "         sci       0.30      0.25      0.27        68\n",
      "        talk       0.46      0.57      0.51        95\n",
      "\n",
      "    accuracy                           0.41       355\n",
      "   macro avg       0.33      0.33      0.32       355\n",
      "weighted avg       0.39      0.41      0.39       355\n",
      "\n"
     ]
    },
    {
     "name": "stderr",
     "output_type": "stream",
     "text": [
      "/home/mattiapggioli/lyrics2ts/.venv/lib/python3.9/site-packages/sklearn/metrics/_classification.py:1344: UndefinedMetricWarning: Precision and F-score are ill-defined and being set to 0.0 in labels with no predicted samples. Use `zero_division` parameter to control this behavior.\n",
      "  _warn_prf(average, modifier, msg_start, len(result))\n",
      "/home/mattiapggioli/lyrics2ts/.venv/lib/python3.9/site-packages/sklearn/metrics/_classification.py:1344: UndefinedMetricWarning: Precision and F-score are ill-defined and being set to 0.0 in labels with no predicted samples. Use `zero_division` parameter to control this behavior.\n",
      "  _warn_prf(average, modifier, msg_start, len(result))\n",
      "/home/mattiapggioli/lyrics2ts/.venv/lib/python3.9/site-packages/sklearn/metrics/_classification.py:1344: UndefinedMetricWarning: Precision and F-score are ill-defined and being set to 0.0 in labels with no predicted samples. Use `zero_division` parameter to control this behavior.\n",
      "  _warn_prf(average, modifier, msg_start, len(result))\n"
     ]
    }
   ],
   "source": [
    "y_pred = clf.predict(X_test)\n",
    "print(classification_report(y_test, y_pred))"
   ]
  },
  {
   "cell_type": "code",
   "execution_count": 51,
   "id": "faf1d7f4",
   "metadata": {
    "execution": {
     "iopub.execute_input": "2023-03-20T11:18:56.403868Z",
     "iopub.status.busy": "2023-03-20T11:18:56.403574Z",
     "iopub.status.idle": "2023-03-20T11:18:56.419127Z",
     "shell.execute_reply": "2023-03-20T11:18:56.417964Z"
    },
    "papermill": {
     "duration": 0.050349,
     "end_time": "2023-03-20T11:18:56.420812",
     "exception": false,
     "start_time": "2023-03-20T11:18:56.370463",
     "status": "completed"
    },
    "tags": []
   },
   "outputs": [
    {
     "name": "stderr",
     "output_type": "stream",
     "text": [
      "/home/mattiapggioli/lyrics2ts/.venv/lib/python3.9/site-packages/sklearn/metrics/_classification.py:1344: UndefinedMetricWarning: Precision is ill-defined and being set to 0.0 in labels with no predicted samples. Use `zero_division` parameter to control this behavior.\n",
      "  _warn_prf(average, modifier, msg_start, len(result))\n"
     ]
    }
   ],
   "source": [
    "acc = accuracy_score(y_test, y_pred)\n",
    "pre = precision_score(y_test, y_pred, average=avg_par)\n",
    "rec = recall_score(y_test, y_pred, average=avg_par)\n",
    "f1 = f1_score(y_test, y_pred, average=avg_par)\n",
    "\n",
    "metrics_data['Shapelets']['RandomForest'] = {'Accuracy': acc, 'Precision': pre, 'Recall': rec, 'F1': f1}"
   ]
  },
  {
   "cell_type": "markdown",
   "id": "61fceefb",
   "metadata": {
    "papermill": {
     "duration": 0.014214,
     "end_time": "2023-03-20T11:18:56.449463",
     "exception": false,
     "start_time": "2023-03-20T11:18:56.435249",
     "status": "completed"
    },
    "tags": []
   },
   "source": [
    "**LightGBM**"
   ]
  },
  {
   "cell_type": "code",
   "execution_count": 52,
   "id": "194189da",
   "metadata": {
    "execution": {
     "iopub.execute_input": "2023-03-20T11:18:56.480229Z",
     "iopub.status.busy": "2023-03-20T11:18:56.479939Z",
     "iopub.status.idle": "2023-03-20T11:18:57.099420Z",
     "shell.execute_reply": "2023-03-20T11:18:57.098450Z"
    },
    "papermill": {
     "duration": 0.637692,
     "end_time": "2023-03-20T11:18:57.101365",
     "exception": false,
     "start_time": "2023-03-20T11:18:56.463673",
     "status": "completed"
    },
    "tags": []
   },
   "outputs": [
    {
     "data": {
      "text/html": [
       "<style>#sk-container-id-7 {color: black;background-color: white;}#sk-container-id-7 pre{padding: 0;}#sk-container-id-7 div.sk-toggleable {background-color: white;}#sk-container-id-7 label.sk-toggleable__label {cursor: pointer;display: block;width: 100%;margin-bottom: 0;padding: 0.3em;box-sizing: border-box;text-align: center;}#sk-container-id-7 label.sk-toggleable__label-arrow:before {content: \"▸\";float: left;margin-right: 0.25em;color: #696969;}#sk-container-id-7 label.sk-toggleable__label-arrow:hover:before {color: black;}#sk-container-id-7 div.sk-estimator:hover label.sk-toggleable__label-arrow:before {color: black;}#sk-container-id-7 div.sk-toggleable__content {max-height: 0;max-width: 0;overflow: hidden;text-align: left;background-color: #f0f8ff;}#sk-container-id-7 div.sk-toggleable__content pre {margin: 0.2em;color: black;border-radius: 0.25em;background-color: #f0f8ff;}#sk-container-id-7 input.sk-toggleable__control:checked~div.sk-toggleable__content {max-height: 200px;max-width: 100%;overflow: auto;}#sk-container-id-7 input.sk-toggleable__control:checked~label.sk-toggleable__label-arrow:before {content: \"▾\";}#sk-container-id-7 div.sk-estimator input.sk-toggleable__control:checked~label.sk-toggleable__label {background-color: #d4ebff;}#sk-container-id-7 div.sk-label input.sk-toggleable__control:checked~label.sk-toggleable__label {background-color: #d4ebff;}#sk-container-id-7 input.sk-hidden--visually {border: 0;clip: rect(1px 1px 1px 1px);clip: rect(1px, 1px, 1px, 1px);height: 1px;margin: -1px;overflow: hidden;padding: 0;position: absolute;width: 1px;}#sk-container-id-7 div.sk-estimator {font-family: monospace;background-color: #f0f8ff;border: 1px dotted black;border-radius: 0.25em;box-sizing: border-box;margin-bottom: 0.5em;}#sk-container-id-7 div.sk-estimator:hover {background-color: #d4ebff;}#sk-container-id-7 div.sk-parallel-item::after {content: \"\";width: 100%;border-bottom: 1px solid gray;flex-grow: 1;}#sk-container-id-7 div.sk-label:hover label.sk-toggleable__label {background-color: #d4ebff;}#sk-container-id-7 div.sk-serial::before {content: \"\";position: absolute;border-left: 1px solid gray;box-sizing: border-box;top: 0;bottom: 0;left: 50%;z-index: 0;}#sk-container-id-7 div.sk-serial {display: flex;flex-direction: column;align-items: center;background-color: white;padding-right: 0.2em;padding-left: 0.2em;position: relative;}#sk-container-id-7 div.sk-item {position: relative;z-index: 1;}#sk-container-id-7 div.sk-parallel {display: flex;align-items: stretch;justify-content: center;background-color: white;position: relative;}#sk-container-id-7 div.sk-item::before, #sk-container-id-7 div.sk-parallel-item::before {content: \"\";position: absolute;border-left: 1px solid gray;box-sizing: border-box;top: 0;bottom: 0;left: 50%;z-index: -1;}#sk-container-id-7 div.sk-parallel-item {display: flex;flex-direction: column;z-index: 1;position: relative;background-color: white;}#sk-container-id-7 div.sk-parallel-item:first-child::after {align-self: flex-end;width: 50%;}#sk-container-id-7 div.sk-parallel-item:last-child::after {align-self: flex-start;width: 50%;}#sk-container-id-7 div.sk-parallel-item:only-child::after {width: 0;}#sk-container-id-7 div.sk-dashed-wrapped {border: 1px dashed gray;margin: 0 0.4em 0.5em 0.4em;box-sizing: border-box;padding-bottom: 0.4em;background-color: white;}#sk-container-id-7 div.sk-label label {font-family: monospace;font-weight: bold;display: inline-block;line-height: 1.2em;}#sk-container-id-7 div.sk-label-container {text-align: center;}#sk-container-id-7 div.sk-container {/* jupyter's `normalize.less` sets `[hidden] { display: none; }` but bootstrap.min.css set `[hidden] { display: none !important; }` so we also need the `!important` here to be able to override the default hidden behavior on the sphinx rendered scikit-learn.org. See: https://github.com/scikit-learn/scikit-learn/issues/21755 */display: inline-block !important;position: relative;}#sk-container-id-7 div.sk-text-repr-fallback {display: none;}</style><div id=\"sk-container-id-7\" class=\"sk-top-container\"><div class=\"sk-text-repr-fallback\"><pre>LGBMClassifier(objective=&#x27;multiclass&#x27;)</pre><b>In a Jupyter environment, please rerun this cell to show the HTML representation or trust the notebook. <br />On GitHub, the HTML representation is unable to render, please try loading this page with nbviewer.org.</b></div><div class=\"sk-container\" hidden><div class=\"sk-item\"><div class=\"sk-estimator sk-toggleable\"><input class=\"sk-toggleable__control sk-hidden--visually\" id=\"sk-estimator-id-7\" type=\"checkbox\" checked><label for=\"sk-estimator-id-7\" class=\"sk-toggleable__label sk-toggleable__label-arrow\">LGBMClassifier</label><div class=\"sk-toggleable__content\"><pre>LGBMClassifier(objective=&#x27;multiclass&#x27;)</pre></div></div></div></div></div>"
      ],
      "text/plain": [
       "LGBMClassifier(objective='multiclass')"
      ]
     },
     "execution_count": 52,
     "metadata": {},
     "output_type": "execute_result"
    }
   ],
   "source": [
    "clf = lgbm.LGBMClassifier(objective=obj_par) \n",
    "clf.fit(X_train, y_train)"
   ]
  },
  {
   "cell_type": "code",
   "execution_count": 53,
   "id": "355a078b",
   "metadata": {
    "execution": {
     "iopub.execute_input": "2023-03-20T11:18:57.133706Z",
     "iopub.status.busy": "2023-03-20T11:18:57.133221Z",
     "iopub.status.idle": "2023-03-20T11:18:57.171224Z",
     "shell.execute_reply": "2023-03-20T11:18:57.169664Z"
    },
    "papermill": {
     "duration": 0.057172,
     "end_time": "2023-03-20T11:18:57.175386",
     "exception": false,
     "start_time": "2023-03-20T11:18:57.118214",
     "status": "completed"
    },
    "tags": []
   },
   "outputs": [
    {
     "name": "stdout",
     "output_type": "stream",
     "text": [
      "              precision    recall  f1-score   support\n",
      "\n",
      "        comp       0.30      0.17      0.22        47\n",
      "        misc       0.00      0.00      0.00         8\n",
      "         rec       0.54      0.53      0.54        49\n",
      "    religion       0.34      0.41      0.37        88\n",
      "         sci       0.30      0.24      0.26        68\n",
      "        talk       0.40      0.52      0.45        95\n",
      "\n",
      "    accuracy                           0.38       355\n",
      "   macro avg       0.31      0.31      0.31       355\n",
      "weighted avg       0.36      0.38      0.37       355\n",
      "\n"
     ]
    },
    {
     "name": "stderr",
     "output_type": "stream",
     "text": [
      "/home/mattiapggioli/lyrics2ts/.venv/lib/python3.9/site-packages/sklearn/metrics/_classification.py:1344: UndefinedMetricWarning: Precision and F-score are ill-defined and being set to 0.0 in labels with no predicted samples. Use `zero_division` parameter to control this behavior.\n",
      "  _warn_prf(average, modifier, msg_start, len(result))\n",
      "/home/mattiapggioli/lyrics2ts/.venv/lib/python3.9/site-packages/sklearn/metrics/_classification.py:1344: UndefinedMetricWarning: Precision and F-score are ill-defined and being set to 0.0 in labels with no predicted samples. Use `zero_division` parameter to control this behavior.\n",
      "  _warn_prf(average, modifier, msg_start, len(result))\n",
      "/home/mattiapggioli/lyrics2ts/.venv/lib/python3.9/site-packages/sklearn/metrics/_classification.py:1344: UndefinedMetricWarning: Precision and F-score are ill-defined and being set to 0.0 in labels with no predicted samples. Use `zero_division` parameter to control this behavior.\n",
      "  _warn_prf(average, modifier, msg_start, len(result))\n"
     ]
    }
   ],
   "source": [
    "y_pred = clf.predict(X_test)\n",
    "print(classification_report(y_test, y_pred))"
   ]
  },
  {
   "cell_type": "code",
   "execution_count": 54,
   "id": "f22b911e",
   "metadata": {
    "execution": {
     "iopub.execute_input": "2023-03-20T11:18:57.236573Z",
     "iopub.status.busy": "2023-03-20T11:18:57.236292Z",
     "iopub.status.idle": "2023-03-20T11:18:57.251883Z",
     "shell.execute_reply": "2023-03-20T11:18:57.250748Z"
    },
    "papermill": {
     "duration": 0.038677,
     "end_time": "2023-03-20T11:18:57.253653",
     "exception": false,
     "start_time": "2023-03-20T11:18:57.214976",
     "status": "completed"
    },
    "tags": []
   },
   "outputs": [
    {
     "name": "stderr",
     "output_type": "stream",
     "text": [
      "/home/mattiapggioli/lyrics2ts/.venv/lib/python3.9/site-packages/sklearn/metrics/_classification.py:1344: UndefinedMetricWarning: Precision is ill-defined and being set to 0.0 in labels with no predicted samples. Use `zero_division` parameter to control this behavior.\n",
      "  _warn_prf(average, modifier, msg_start, len(result))\n"
     ]
    }
   ],
   "source": [
    "acc = accuracy_score(y_test, y_pred)\n",
    "pre = precision_score(y_test, y_pred, average=avg_par)\n",
    "rec = recall_score(y_test, y_pred, average=avg_par)\n",
    "f1 = f1_score(y_test, y_pred, average=avg_par)\n",
    "\n",
    "metrics_data['Shapelets']['LightGBM'] = {'Accuracy': acc, 'Precision': pre, 'Recall': rec, 'F1': f1}"
   ]
  },
  {
   "cell_type": "markdown",
   "id": "0809af9f",
   "metadata": {
    "papermill": {
     "duration": 0.015215,
     "end_time": "2023-03-20T11:18:57.283868",
     "exception": false,
     "start_time": "2023-03-20T11:18:57.268653",
     "status": "completed"
    },
    "tags": []
   },
   "source": [
    "#### KNN"
   ]
  },
  {
   "cell_type": "code",
   "execution_count": 55,
   "id": "1c9237e0",
   "metadata": {
    "execution": {
     "iopub.execute_input": "2023-03-20T11:18:57.315902Z",
     "iopub.status.busy": "2023-03-20T11:18:57.315319Z",
     "iopub.status.idle": "2023-03-20T11:18:57.320108Z",
     "shell.execute_reply": "2023-03-20T11:18:57.319115Z"
    },
    "papermill": {
     "duration": 0.023202,
     "end_time": "2023-03-20T11:18:57.321831",
     "exception": false,
     "start_time": "2023-03-20T11:18:57.298629",
     "status": "completed"
    },
    "tags": []
   },
   "outputs": [],
   "source": [
    "X_train = ts_train.reshape((ts_train.shape[0], ts_train.shape[1]))\n",
    "X_test = ts_test.reshape((ts_test.shape[0], ts_test.shape[1]))"
   ]
  },
  {
   "cell_type": "code",
   "execution_count": 56,
   "id": "192f3c3f",
   "metadata": {
    "execution": {
     "iopub.execute_input": "2023-03-20T11:18:57.352699Z",
     "iopub.status.busy": "2023-03-20T11:18:57.352430Z",
     "iopub.status.idle": "2023-03-20T11:18:57.358173Z",
     "shell.execute_reply": "2023-03-20T11:18:57.357245Z"
    },
    "papermill": {
     "duration": 0.022946,
     "end_time": "2023-03-20T11:18:57.359742",
     "exception": false,
     "start_time": "2023-03-20T11:18:57.336796",
     "status": "completed"
    },
    "tags": []
   },
   "outputs": [
    {
     "data": {
      "text/plain": [
       "(1420, 100)"
      ]
     },
     "execution_count": 56,
     "metadata": {},
     "output_type": "execute_result"
    }
   ],
   "source": [
    "X_train.shape"
   ]
  },
  {
   "cell_type": "code",
   "execution_count": 57,
   "id": "de0e5000",
   "metadata": {
    "execution": {
     "iopub.execute_input": "2023-03-20T11:18:57.390052Z",
     "iopub.status.busy": "2023-03-20T11:18:57.389778Z",
     "iopub.status.idle": "2023-03-20T11:18:57.394102Z",
     "shell.execute_reply": "2023-03-20T11:18:57.393150Z"
    },
    "papermill": {
     "duration": 0.021744,
     "end_time": "2023-03-20T11:18:57.395786",
     "exception": false,
     "start_time": "2023-03-20T11:18:57.374042",
     "status": "completed"
    },
    "tags": []
   },
   "outputs": [],
   "source": [
    "metrics_data['KNN'] = {}"
   ]
  },
  {
   "cell_type": "markdown",
   "id": "8ee39c05",
   "metadata": {
    "papermill": {
     "duration": 0.015134,
     "end_time": "2023-03-20T11:18:57.425812",
     "exception": false,
     "start_time": "2023-03-20T11:18:57.410678",
     "status": "completed"
    },
    "tags": []
   },
   "source": [
    "**Euclidean Distance**"
   ]
  },
  {
   "cell_type": "code",
   "execution_count": 58,
   "id": "55db1f58",
   "metadata": {
    "execution": {
     "iopub.execute_input": "2023-03-20T11:18:57.456919Z",
     "iopub.status.busy": "2023-03-20T11:18:57.456646Z",
     "iopub.status.idle": "2023-03-20T11:18:57.460845Z",
     "shell.execute_reply": "2023-03-20T11:18:57.459858Z"
    },
    "papermill": {
     "duration": 0.021585,
     "end_time": "2023-03-20T11:18:57.462338",
     "exception": false,
     "start_time": "2023-03-20T11:18:57.440753",
     "status": "completed"
    },
    "tags": []
   },
   "outputs": [],
   "source": [
    "from sklearn.neighbors import KNeighborsClassifier"
   ]
  },
  {
   "cell_type": "code",
   "execution_count": 59,
   "id": "132c2537",
   "metadata": {
    "execution": {
     "iopub.execute_input": "2023-03-20T11:18:57.493253Z",
     "iopub.status.busy": "2023-03-20T11:18:57.492976Z",
     "iopub.status.idle": "2023-03-20T11:18:57.501805Z",
     "shell.execute_reply": "2023-03-20T11:18:57.500886Z"
    },
    "papermill": {
     "duration": 0.026385,
     "end_time": "2023-03-20T11:18:57.503428",
     "exception": false,
     "start_time": "2023-03-20T11:18:57.477043",
     "status": "completed"
    },
    "tags": []
   },
   "outputs": [
    {
     "data": {
      "text/html": [
       "<style>#sk-container-id-8 {color: black;background-color: white;}#sk-container-id-8 pre{padding: 0;}#sk-container-id-8 div.sk-toggleable {background-color: white;}#sk-container-id-8 label.sk-toggleable__label {cursor: pointer;display: block;width: 100%;margin-bottom: 0;padding: 0.3em;box-sizing: border-box;text-align: center;}#sk-container-id-8 label.sk-toggleable__label-arrow:before {content: \"▸\";float: left;margin-right: 0.25em;color: #696969;}#sk-container-id-8 label.sk-toggleable__label-arrow:hover:before {color: black;}#sk-container-id-8 div.sk-estimator:hover label.sk-toggleable__label-arrow:before {color: black;}#sk-container-id-8 div.sk-toggleable__content {max-height: 0;max-width: 0;overflow: hidden;text-align: left;background-color: #f0f8ff;}#sk-container-id-8 div.sk-toggleable__content pre {margin: 0.2em;color: black;border-radius: 0.25em;background-color: #f0f8ff;}#sk-container-id-8 input.sk-toggleable__control:checked~div.sk-toggleable__content {max-height: 200px;max-width: 100%;overflow: auto;}#sk-container-id-8 input.sk-toggleable__control:checked~label.sk-toggleable__label-arrow:before {content: \"▾\";}#sk-container-id-8 div.sk-estimator input.sk-toggleable__control:checked~label.sk-toggleable__label {background-color: #d4ebff;}#sk-container-id-8 div.sk-label input.sk-toggleable__control:checked~label.sk-toggleable__label {background-color: #d4ebff;}#sk-container-id-8 input.sk-hidden--visually {border: 0;clip: rect(1px 1px 1px 1px);clip: rect(1px, 1px, 1px, 1px);height: 1px;margin: -1px;overflow: hidden;padding: 0;position: absolute;width: 1px;}#sk-container-id-8 div.sk-estimator {font-family: monospace;background-color: #f0f8ff;border: 1px dotted black;border-radius: 0.25em;box-sizing: border-box;margin-bottom: 0.5em;}#sk-container-id-8 div.sk-estimator:hover {background-color: #d4ebff;}#sk-container-id-8 div.sk-parallel-item::after {content: \"\";width: 100%;border-bottom: 1px solid gray;flex-grow: 1;}#sk-container-id-8 div.sk-label:hover label.sk-toggleable__label {background-color: #d4ebff;}#sk-container-id-8 div.sk-serial::before {content: \"\";position: absolute;border-left: 1px solid gray;box-sizing: border-box;top: 0;bottom: 0;left: 50%;z-index: 0;}#sk-container-id-8 div.sk-serial {display: flex;flex-direction: column;align-items: center;background-color: white;padding-right: 0.2em;padding-left: 0.2em;position: relative;}#sk-container-id-8 div.sk-item {position: relative;z-index: 1;}#sk-container-id-8 div.sk-parallel {display: flex;align-items: stretch;justify-content: center;background-color: white;position: relative;}#sk-container-id-8 div.sk-item::before, #sk-container-id-8 div.sk-parallel-item::before {content: \"\";position: absolute;border-left: 1px solid gray;box-sizing: border-box;top: 0;bottom: 0;left: 50%;z-index: -1;}#sk-container-id-8 div.sk-parallel-item {display: flex;flex-direction: column;z-index: 1;position: relative;background-color: white;}#sk-container-id-8 div.sk-parallel-item:first-child::after {align-self: flex-end;width: 50%;}#sk-container-id-8 div.sk-parallel-item:last-child::after {align-self: flex-start;width: 50%;}#sk-container-id-8 div.sk-parallel-item:only-child::after {width: 0;}#sk-container-id-8 div.sk-dashed-wrapped {border: 1px dashed gray;margin: 0 0.4em 0.5em 0.4em;box-sizing: border-box;padding-bottom: 0.4em;background-color: white;}#sk-container-id-8 div.sk-label label {font-family: monospace;font-weight: bold;display: inline-block;line-height: 1.2em;}#sk-container-id-8 div.sk-label-container {text-align: center;}#sk-container-id-8 div.sk-container {/* jupyter's `normalize.less` sets `[hidden] { display: none; }` but bootstrap.min.css set `[hidden] { display: none !important; }` so we also need the `!important` here to be able to override the default hidden behavior on the sphinx rendered scikit-learn.org. See: https://github.com/scikit-learn/scikit-learn/issues/21755 */display: inline-block !important;position: relative;}#sk-container-id-8 div.sk-text-repr-fallback {display: none;}</style><div id=\"sk-container-id-8\" class=\"sk-top-container\"><div class=\"sk-text-repr-fallback\"><pre>KNeighborsClassifier()</pre><b>In a Jupyter environment, please rerun this cell to show the HTML representation or trust the notebook. <br />On GitHub, the HTML representation is unable to render, please try loading this page with nbviewer.org.</b></div><div class=\"sk-container\" hidden><div class=\"sk-item\"><div class=\"sk-estimator sk-toggleable\"><input class=\"sk-toggleable__control sk-hidden--visually\" id=\"sk-estimator-id-8\" type=\"checkbox\" checked><label for=\"sk-estimator-id-8\" class=\"sk-toggleable__label sk-toggleable__label-arrow\">KNeighborsClassifier</label><div class=\"sk-toggleable__content\"><pre>KNeighborsClassifier()</pre></div></div></div></div></div>"
      ],
      "text/plain": [
       "KNeighborsClassifier()"
      ]
     },
     "execution_count": 59,
     "metadata": {},
     "output_type": "execute_result"
    }
   ],
   "source": [
    "clf = KNeighborsClassifier(n_neighbors=5, weights='uniform')\n",
    "clf.fit(X_train, y_train)"
   ]
  },
  {
   "cell_type": "code",
   "execution_count": 60,
   "id": "0afad62a",
   "metadata": {
    "execution": {
     "iopub.execute_input": "2023-03-20T11:18:57.535499Z",
     "iopub.status.busy": "2023-03-20T11:18:57.535198Z",
     "iopub.status.idle": "2023-03-20T11:18:57.721532Z",
     "shell.execute_reply": "2023-03-20T11:18:57.720374Z"
    },
    "papermill": {
     "duration": 0.20458,
     "end_time": "2023-03-20T11:18:57.723430",
     "exception": false,
     "start_time": "2023-03-20T11:18:57.518850",
     "status": "completed"
    },
    "tags": []
   },
   "outputs": [
    {
     "name": "stdout",
     "output_type": "stream",
     "text": [
      "              precision    recall  f1-score   support\n",
      "\n",
      "        comp       0.26      0.49      0.34        47\n",
      "        misc       0.00      0.00      0.00         8\n",
      "         rec       0.36      0.71      0.48        49\n",
      "    religion       0.38      0.40      0.39        88\n",
      "         sci       0.31      0.22      0.26        68\n",
      "        talk       0.53      0.11      0.18        95\n",
      "\n",
      "    accuracy                           0.33       355\n",
      "   macro avg       0.31      0.32      0.27       355\n",
      "weighted avg       0.38      0.33      0.30       355\n",
      "\n"
     ]
    }
   ],
   "source": [
    "y_pred = clf.predict(X_test)\n",
    "print(classification_report(y_test, y_pred))"
   ]
  },
  {
   "cell_type": "code",
   "execution_count": 61,
   "id": "2d709070",
   "metadata": {
    "execution": {
     "iopub.execute_input": "2023-03-20T11:18:57.768363Z",
     "iopub.status.busy": "2023-03-20T11:18:57.767997Z",
     "iopub.status.idle": "2023-03-20T11:18:57.784535Z",
     "shell.execute_reply": "2023-03-20T11:18:57.783654Z"
    },
    "papermill": {
     "duration": 0.040414,
     "end_time": "2023-03-20T11:18:57.787196",
     "exception": false,
     "start_time": "2023-03-20T11:18:57.746782",
     "status": "completed"
    },
    "tags": []
   },
   "outputs": [],
   "source": [
    "acc = accuracy_score(y_test, y_pred)\n",
    "pre = precision_score(y_test, y_pred, average=avg_par)\n",
    "rec = recall_score(y_test, y_pred, average=avg_par)\n",
    "f1 = f1_score(y_test, y_pred, average=avg_par)\n",
    "\n",
    "metrics_data['KNN']['Euclidean'] = {'Accuracy': acc, 'Precision': pre, 'Recall': rec, 'F1': f1}"
   ]
  },
  {
   "cell_type": "markdown",
   "id": "c5ec2a09",
   "metadata": {
    "papermill": {
     "duration": 0.015544,
     "end_time": "2023-03-20T11:18:57.820507",
     "exception": false,
     "start_time": "2023-03-20T11:18:57.804963",
     "status": "completed"
    },
    "tags": []
   },
   "source": [
    "**Dynamic Time Warping**"
   ]
  },
  {
   "cell_type": "code",
   "execution_count": 62,
   "id": "2df913d8",
   "metadata": {
    "execution": {
     "iopub.execute_input": "2023-03-20T11:18:57.852308Z",
     "iopub.status.busy": "2023-03-20T11:18:57.851875Z",
     "iopub.status.idle": "2023-03-20T11:18:57.939378Z",
     "shell.execute_reply": "2023-03-20T11:18:57.937873Z"
    },
    "papermill": {
     "duration": 0.107068,
     "end_time": "2023-03-20T11:18:57.942720",
     "exception": false,
     "start_time": "2023-03-20T11:18:57.835652",
     "status": "completed"
    },
    "tags": []
   },
   "outputs": [],
   "source": [
    "from pyts.classification import KNeighborsClassifier\n",
    "from pyts.approximation import PiecewiseAggregateApproximation\n",
    "from imblearn.under_sampling import ClusterCentroids\n",
    "from sklearn_extra.cluster import KMedoids"
   ]
  },
  {
   "cell_type": "code",
   "execution_count": 63,
   "id": "db1604ec",
   "metadata": {
    "execution": {
     "iopub.execute_input": "2023-03-20T11:18:57.978418Z",
     "iopub.status.busy": "2023-03-20T11:18:57.977400Z",
     "iopub.status.idle": "2023-03-20T11:18:57.983980Z",
     "shell.execute_reply": "2023-03-20T11:18:57.982839Z"
    },
    "papermill": {
     "duration": 0.02505,
     "end_time": "2023-03-20T11:18:57.985701",
     "exception": false,
     "start_time": "2023-03-20T11:18:57.960651",
     "status": "completed"
    },
    "tags": []
   },
   "outputs": [],
   "source": [
    "if paa_window_size:\n",
    "    paa = PiecewiseAggregateApproximation(window_size=paa_window_size)\n",
    "    X_train = paa.transform(X_train)\n",
    "    X_test = paa.transform(X_test)\n",
    "    X_train.shape"
   ]
  },
  {
   "cell_type": "code",
   "execution_count": 64,
   "id": "59fa27aa",
   "metadata": {
    "execution": {
     "iopub.execute_input": "2023-03-20T11:18:58.019243Z",
     "iopub.status.busy": "2023-03-20T11:18:58.018245Z",
     "iopub.status.idle": "2023-03-20T11:18:58.026744Z",
     "shell.execute_reply": "2023-03-20T11:18:58.025621Z"
    },
    "papermill": {
     "duration": 0.026772,
     "end_time": "2023-03-20T11:18:58.028411",
     "exception": false,
     "start_time": "2023-03-20T11:18:58.001639",
     "status": "completed"
    },
    "tags": []
   },
   "outputs": [],
   "source": [
    "if undersampling:\n",
    "    total_samples = len(y_train)\n",
    "    unique_classes, class_counts = np.unique(y_train, return_counts=True)\n",
    "    samp_strat = dict(zip(unique_classes, np.floor(class_counts * undersampling).astype(int)))\n",
    "    print(samp_strat)\n",
    "    cc = ClusterCentroids(estimator=KMedoids(\n",
    "        random_state=42), sampling_strategy=samp_strat, random_state=42)\n",
    "    X_train, y_train = cc.fit_resample(X_train, y_train)\n",
    "    X_train.shape"
   ]
  },
  {
   "cell_type": "code",
   "execution_count": 65,
   "id": "e7ac6b44",
   "metadata": {
    "execution": {
     "iopub.execute_input": "2023-03-20T11:18:58.060559Z",
     "iopub.status.busy": "2023-03-20T11:18:58.060115Z",
     "iopub.status.idle": "2023-03-20T11:18:58.074070Z",
     "shell.execute_reply": "2023-03-20T11:18:58.072911Z"
    },
    "papermill": {
     "duration": 0.032474,
     "end_time": "2023-03-20T11:18:58.076105",
     "exception": false,
     "start_time": "2023-03-20T11:18:58.043631",
     "status": "completed"
    },
    "tags": []
   },
   "outputs": [
    {
     "data": {
      "text/html": [
       "<style>#sk-container-id-9 {color: black;background-color: white;}#sk-container-id-9 pre{padding: 0;}#sk-container-id-9 div.sk-toggleable {background-color: white;}#sk-container-id-9 label.sk-toggleable__label {cursor: pointer;display: block;width: 100%;margin-bottom: 0;padding: 0.3em;box-sizing: border-box;text-align: center;}#sk-container-id-9 label.sk-toggleable__label-arrow:before {content: \"▸\";float: left;margin-right: 0.25em;color: #696969;}#sk-container-id-9 label.sk-toggleable__label-arrow:hover:before {color: black;}#sk-container-id-9 div.sk-estimator:hover label.sk-toggleable__label-arrow:before {color: black;}#sk-container-id-9 div.sk-toggleable__content {max-height: 0;max-width: 0;overflow: hidden;text-align: left;background-color: #f0f8ff;}#sk-container-id-9 div.sk-toggleable__content pre {margin: 0.2em;color: black;border-radius: 0.25em;background-color: #f0f8ff;}#sk-container-id-9 input.sk-toggleable__control:checked~div.sk-toggleable__content {max-height: 200px;max-width: 100%;overflow: auto;}#sk-container-id-9 input.sk-toggleable__control:checked~label.sk-toggleable__label-arrow:before {content: \"▾\";}#sk-container-id-9 div.sk-estimator input.sk-toggleable__control:checked~label.sk-toggleable__label {background-color: #d4ebff;}#sk-container-id-9 div.sk-label input.sk-toggleable__control:checked~label.sk-toggleable__label {background-color: #d4ebff;}#sk-container-id-9 input.sk-hidden--visually {border: 0;clip: rect(1px 1px 1px 1px);clip: rect(1px, 1px, 1px, 1px);height: 1px;margin: -1px;overflow: hidden;padding: 0;position: absolute;width: 1px;}#sk-container-id-9 div.sk-estimator {font-family: monospace;background-color: #f0f8ff;border: 1px dotted black;border-radius: 0.25em;box-sizing: border-box;margin-bottom: 0.5em;}#sk-container-id-9 div.sk-estimator:hover {background-color: #d4ebff;}#sk-container-id-9 div.sk-parallel-item::after {content: \"\";width: 100%;border-bottom: 1px solid gray;flex-grow: 1;}#sk-container-id-9 div.sk-label:hover label.sk-toggleable__label {background-color: #d4ebff;}#sk-container-id-9 div.sk-serial::before {content: \"\";position: absolute;border-left: 1px solid gray;box-sizing: border-box;top: 0;bottom: 0;left: 50%;z-index: 0;}#sk-container-id-9 div.sk-serial {display: flex;flex-direction: column;align-items: center;background-color: white;padding-right: 0.2em;padding-left: 0.2em;position: relative;}#sk-container-id-9 div.sk-item {position: relative;z-index: 1;}#sk-container-id-9 div.sk-parallel {display: flex;align-items: stretch;justify-content: center;background-color: white;position: relative;}#sk-container-id-9 div.sk-item::before, #sk-container-id-9 div.sk-parallel-item::before {content: \"\";position: absolute;border-left: 1px solid gray;box-sizing: border-box;top: 0;bottom: 0;left: 50%;z-index: -1;}#sk-container-id-9 div.sk-parallel-item {display: flex;flex-direction: column;z-index: 1;position: relative;background-color: white;}#sk-container-id-9 div.sk-parallel-item:first-child::after {align-self: flex-end;width: 50%;}#sk-container-id-9 div.sk-parallel-item:last-child::after {align-self: flex-start;width: 50%;}#sk-container-id-9 div.sk-parallel-item:only-child::after {width: 0;}#sk-container-id-9 div.sk-dashed-wrapped {border: 1px dashed gray;margin: 0 0.4em 0.5em 0.4em;box-sizing: border-box;padding-bottom: 0.4em;background-color: white;}#sk-container-id-9 div.sk-label label {font-family: monospace;font-weight: bold;display: inline-block;line-height: 1.2em;}#sk-container-id-9 div.sk-label-container {text-align: center;}#sk-container-id-9 div.sk-container {/* jupyter's `normalize.less` sets `[hidden] { display: none; }` but bootstrap.min.css set `[hidden] { display: none !important; }` so we also need the `!important` here to be able to override the default hidden behavior on the sphinx rendered scikit-learn.org. See: https://github.com/scikit-learn/scikit-learn/issues/21755 */display: inline-block !important;position: relative;}#sk-container-id-9 div.sk-text-repr-fallback {display: none;}</style><div id=\"sk-container-id-9\" class=\"sk-top-container\"><div class=\"sk-text-repr-fallback\"><pre>KNeighborsClassifier(metric=&#x27;dtw_sakoechiba&#x27;, metric_params={&#x27;window_size&#x27;: 3})</pre><b>In a Jupyter environment, please rerun this cell to show the HTML representation or trust the notebook. <br />On GitHub, the HTML representation is unable to render, please try loading this page with nbviewer.org.</b></div><div class=\"sk-container\" hidden><div class=\"sk-item\"><div class=\"sk-estimator sk-toggleable\"><input class=\"sk-toggleable__control sk-hidden--visually\" id=\"sk-estimator-id-9\" type=\"checkbox\" checked><label for=\"sk-estimator-id-9\" class=\"sk-toggleable__label sk-toggleable__label-arrow\">KNeighborsClassifier</label><div class=\"sk-toggleable__content\"><pre>KNeighborsClassifier(metric=&#x27;dtw_sakoechiba&#x27;, metric_params={&#x27;window_size&#x27;: 3})</pre></div></div></div></div></div>"
      ],
      "text/plain": [
       "KNeighborsClassifier(metric='dtw_sakoechiba', metric_params={'window_size': 3})"
      ]
     },
     "execution_count": 65,
     "metadata": {},
     "output_type": "execute_result"
    }
   ],
   "source": [
    "clf = KNeighborsClassifier(metric='dtw_sakoechiba',  metric_params={'window_size':3})\n",
    "\n",
    "clf.fit(X_train, y_train)"
   ]
  },
  {
   "cell_type": "code",
   "execution_count": 66,
   "id": "8109d19d",
   "metadata": {
    "execution": {
     "iopub.execute_input": "2023-03-20T11:18:58.108204Z",
     "iopub.status.busy": "2023-03-20T11:18:58.107770Z",
     "iopub.status.idle": "2023-03-20T11:20:38.729474Z",
     "shell.execute_reply": "2023-03-20T11:20:38.728515Z"
    },
    "papermill": {
     "duration": 100.681278,
     "end_time": "2023-03-20T11:20:38.773023",
     "exception": false,
     "start_time": "2023-03-20T11:18:58.091745",
     "status": "completed"
    },
    "tags": []
   },
   "outputs": [
    {
     "name": "stdout",
     "output_type": "stream",
     "text": [
      "              precision    recall  f1-score   support\n",
      "\n",
      "        comp       0.27      0.34      0.30        47\n",
      "        misc       0.14      0.25      0.18         8\n",
      "         rec       0.44      0.55      0.49        49\n",
      "    religion       0.32      0.34      0.33        88\n",
      "         sci       0.23      0.21      0.22        68\n",
      "        talk       0.38      0.25      0.30        95\n",
      "\n",
      "    accuracy                           0.32       355\n",
      "   macro avg       0.30      0.32      0.30       355\n",
      "weighted avg       0.32      0.32      0.32       355\n",
      "\n",
      "CPU times: user 1min 40s, sys: 95.6 ms, total: 1min 40s\n",
      "Wall time: 1min 40s\n"
     ]
    }
   ],
   "source": [
    "%%time\n",
    "y_pred = clf.predict(X_test)\n",
    "print(classification_report(y_test, y_pred))"
   ]
  },
  {
   "cell_type": "code",
   "execution_count": 67,
   "id": "b09f5cdf",
   "metadata": {
    "execution": {
     "iopub.execute_input": "2023-03-20T11:20:38.829759Z",
     "iopub.status.busy": "2023-03-20T11:20:38.829364Z",
     "iopub.status.idle": "2023-03-20T11:20:38.855223Z",
     "shell.execute_reply": "2023-03-20T11:20:38.853601Z"
    },
    "papermill": {
     "duration": 0.044897,
     "end_time": "2023-03-20T11:20:38.857971",
     "exception": false,
     "start_time": "2023-03-20T11:20:38.813074",
     "status": "completed"
    },
    "tags": []
   },
   "outputs": [],
   "source": [
    "acc = accuracy_score(y_test, y_pred)\n",
    "pre = precision_score(y_test, y_pred, average=avg_par)\n",
    "rec = recall_score(y_test, y_pred, average=avg_par)\n",
    "f1 = f1_score(y_test, y_pred, average=avg_par)\n",
    "\n",
    "metrics_data['KNN']['DTW'] = {'Accuracy': acc, 'Precision': pre, 'Recall': rec, 'F1': f1}"
   ]
  },
  {
   "cell_type": "markdown",
   "id": "e0e700a7",
   "metadata": {
    "papermill": {
     "duration": 0.016773,
     "end_time": "2023-03-20T11:20:38.894077",
     "exception": false,
     "start_time": "2023-03-20T11:20:38.877304",
     "status": "completed"
    },
    "tags": []
   },
   "source": [
    "## Overall Results"
   ]
  },
  {
   "cell_type": "code",
   "execution_count": 68,
   "id": "d003c193",
   "metadata": {
    "execution": {
     "iopub.execute_input": "2023-03-20T11:20:38.927012Z",
     "iopub.status.busy": "2023-03-20T11:20:38.926087Z",
     "iopub.status.idle": "2023-03-20T11:20:38.936793Z",
     "shell.execute_reply": "2023-03-20T11:20:38.935446Z"
    },
    "papermill": {
     "duration": 0.029331,
     "end_time": "2023-03-20T11:20:38.938866",
     "exception": false,
     "start_time": "2023-03-20T11:20:38.909535",
     "status": "completed"
    },
    "tags": []
   },
   "outputs": [],
   "source": [
    "metrics_data = pd.DataFrame.from_dict({(i,j): metrics_data[i][j] \n",
    "                                       for i in metrics_data.keys() \n",
    "                                       for j in metrics_data[i].keys()},\n",
    "                                       orient='index')"
   ]
  },
  {
   "cell_type": "code",
   "execution_count": 69,
   "id": "0944fe84",
   "metadata": {
    "execution": {
     "iopub.execute_input": "2023-03-20T11:20:38.973362Z",
     "iopub.status.busy": "2023-03-20T11:20:38.972523Z",
     "iopub.status.idle": "2023-03-20T11:20:39.000651Z",
     "shell.execute_reply": "2023-03-20T11:20:38.999362Z"
    },
    "papermill": {
     "duration": 0.048377,
     "end_time": "2023-03-20T11:20:39.003709",
     "exception": false,
     "start_time": "2023-03-20T11:20:38.955332",
     "status": "completed"
    },
    "tags": []
   },
   "outputs": [],
   "source": [
    "acc = accuracy_score(y_test, y_pred)\n",
    "pre = precision_score(y_test, y_pred, average=avg_par)\n",
    "rec = recall_score(y_test, y_pred, average=avg_par)\n",
    "f1 = f1_score(y_test, y_pred, average=avg_par)"
   ]
  },
  {
   "cell_type": "code",
   "execution_count": 70,
   "id": "7ee1b347",
   "metadata": {
    "execution": {
     "iopub.execute_input": "2023-03-20T11:20:39.058750Z",
     "iopub.status.busy": "2023-03-20T11:20:39.057877Z",
     "iopub.status.idle": "2023-03-20T11:20:39.076571Z",
     "shell.execute_reply": "2023-03-20T11:20:39.075284Z"
    },
    "papermill": {
     "duration": 0.040095,
     "end_time": "2023-03-20T11:20:39.078683",
     "exception": false,
     "start_time": "2023-03-20T11:20:39.038588",
     "status": "completed"
    },
    "tags": []
   },
   "outputs": [
    {
     "data": {
      "text/html": [
       "<div>\n",
       "<style scoped>\n",
       "    .dataframe tbody tr th:only-of-type {\n",
       "        vertical-align: middle;\n",
       "    }\n",
       "\n",
       "    .dataframe tbody tr th {\n",
       "        vertical-align: top;\n",
       "    }\n",
       "\n",
       "    .dataframe thead th {\n",
       "        text-align: right;\n",
       "    }\n",
       "</style>\n",
       "<table border=\"1\" class=\"dataframe\">\n",
       "  <thead>\n",
       "    <tr style=\"text-align: right;\">\n",
       "      <th></th>\n",
       "      <th></th>\n",
       "      <th>Accuracy</th>\n",
       "      <th>Precision</th>\n",
       "      <th>Recall</th>\n",
       "      <th>F1</th>\n",
       "    </tr>\n",
       "  </thead>\n",
       "  <tbody>\n",
       "    <tr>\n",
       "      <th rowspan=\"3\" valign=\"top\">Global</th>\n",
       "      <th>DecisionTree</th>\n",
       "      <td>0.667606</td>\n",
       "      <td>0.672020</td>\n",
       "      <td>0.667606</td>\n",
       "      <td>0.666690</td>\n",
       "    </tr>\n",
       "    <tr>\n",
       "      <th>RandomForest</th>\n",
       "      <td>0.881690</td>\n",
       "      <td>0.887954</td>\n",
       "      <td>0.881690</td>\n",
       "      <td>0.874874</td>\n",
       "    </tr>\n",
       "    <tr>\n",
       "      <th>LightGBM</th>\n",
       "      <td>0.881690</td>\n",
       "      <td>0.883484</td>\n",
       "      <td>0.881690</td>\n",
       "      <td>0.881122</td>\n",
       "    </tr>\n",
       "    <tr>\n",
       "      <th rowspan=\"3\" valign=\"top\">Shapelets</th>\n",
       "      <th>DecisionTree</th>\n",
       "      <td>0.315493</td>\n",
       "      <td>0.313891</td>\n",
       "      <td>0.315493</td>\n",
       "      <td>0.314463</td>\n",
       "    </tr>\n",
       "    <tr>\n",
       "      <th>RandomForest</th>\n",
       "      <td>0.408451</td>\n",
       "      <td>0.386408</td>\n",
       "      <td>0.408451</td>\n",
       "      <td>0.389770</td>\n",
       "    </tr>\n",
       "    <tr>\n",
       "      <th>LightGBM</th>\n",
       "      <td>0.380282</td>\n",
       "      <td>0.364108</td>\n",
       "      <td>0.380282</td>\n",
       "      <td>0.366752</td>\n",
       "    </tr>\n",
       "    <tr>\n",
       "      <th rowspan=\"2\" valign=\"top\">KNN</th>\n",
       "      <th>Euclidean</th>\n",
       "      <td>0.332394</td>\n",
       "      <td>0.379111</td>\n",
       "      <td>0.332394</td>\n",
       "      <td>0.304547</td>\n",
       "    </tr>\n",
       "    <tr>\n",
       "      <th>DTW</th>\n",
       "      <td>0.318310</td>\n",
       "      <td>0.322213</td>\n",
       "      <td>0.318310</td>\n",
       "      <td>0.315089</td>\n",
       "    </tr>\n",
       "  </tbody>\n",
       "</table>\n",
       "</div>"
      ],
      "text/plain": [
       "                        Accuracy  Precision    Recall        F1\n",
       "Global    DecisionTree  0.667606   0.672020  0.667606  0.666690\n",
       "          RandomForest  0.881690   0.887954  0.881690  0.874874\n",
       "          LightGBM      0.881690   0.883484  0.881690  0.881122\n",
       "Shapelets DecisionTree  0.315493   0.313891  0.315493  0.314463\n",
       "          RandomForest  0.408451   0.386408  0.408451  0.389770\n",
       "          LightGBM      0.380282   0.364108  0.380282  0.366752\n",
       "KNN       Euclidean     0.332394   0.379111  0.332394  0.304547\n",
       "          DTW           0.318310   0.322213  0.318310  0.315089"
      ]
     },
     "execution_count": 70,
     "metadata": {},
     "output_type": "execute_result"
    }
   ],
   "source": [
    "metrics_data"
   ]
  },
  {
   "cell_type": "code",
   "execution_count": 71,
   "id": "3efc173e",
   "metadata": {
    "execution": {
     "iopub.execute_input": "2023-03-20T11:20:39.113583Z",
     "iopub.status.busy": "2023-03-20T11:20:39.112777Z",
     "iopub.status.idle": "2023-03-20T11:20:39.122709Z",
     "shell.execute_reply": "2023-03-20T11:20:39.121589Z"
    },
    "papermill": {
     "duration": 0.028687,
     "end_time": "2023-03-20T11:20:39.124724",
     "exception": false,
     "start_time": "2023-03-20T11:20:39.096037",
     "status": "completed"
    },
    "tags": []
   },
   "outputs": [],
   "source": [
    "metrics_data.to_csv(f'{data_path}/metrics.csv')"
   ]
  },
  {
   "cell_type": "code",
   "execution_count": null,
   "id": "d21f5304",
   "metadata": {
    "papermill": {
     "duration": 0.016032,
     "end_time": "2023-03-20T11:20:39.159385",
     "exception": false,
     "start_time": "2023-03-20T11:20:39.143353",
     "status": "completed"
    },
    "tags": []
   },
   "outputs": [],
   "source": []
  }
 ],
 "metadata": {
  "celltoolbar": "Tags",
  "kernelspec": {
   "display_name": "Python 3 (ipykernel)",
   "language": "python",
   "name": "python3"
  },
  "language_info": {
   "codemirror_mode": {
    "name": "ipython",
    "version": 3
   },
   "file_extension": ".py",
   "mimetype": "text/x-python",
   "name": "python",
   "nbconvert_exporter": "python",
   "pygments_lexer": "ipython3",
   "version": "3.9.16"
  },
  "papermill": {
   "default_parameters": {},
   "duration": 285.672441,
   "end_time": "2023-03-20T11:20:41.979542",
   "environment_variables": {},
   "exception": null,
   "input_path": "09_ts_classification.ipynb",
   "output_path": "../clf-reports/20ng_sbert.ipynb",
   "parameters": {
    "data_path": "/home/mattiapggioli/lyrics2ts/data/classification/20ng/sbert/"
   },
   "start_time": "2023-03-20T11:15:56.307101",
   "version": "2.4.0"
  },
  "vscode": {
   "interpreter": {
    "hash": "eb8d1ded7c87c6f9c253b40add648304d6b51d2e38393955e855effc7e6f899a"
   }
  }
 },
 "nbformat": 4,
 "nbformat_minor": 5
}