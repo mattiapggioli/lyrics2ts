{
 "cells": [
  {
   "cell_type": "markdown",
   "id": "d79a68c5",
   "metadata": {
    "papermill": {
     "duration": 0.021596,
     "end_time": "2023-03-21T11:20:28.983667",
     "exception": false,
     "start_time": "2023-03-21T11:20:28.962071",
     "status": "completed"
    },
    "tags": []
   },
   "source": [
    "# Time Series Classification"
   ]
  },
  {
   "cell_type": "code",
   "execution_count": 1,
   "id": "8a0cb2b0",
   "metadata": {
    "execution": {
     "iopub.execute_input": "2023-03-21T11:20:29.036318Z",
     "iopub.status.busy": "2023-03-21T11:20:29.035382Z",
     "iopub.status.idle": "2023-03-21T11:20:30.777449Z",
     "shell.execute_reply": "2023-03-21T11:20:30.776659Z"
    },
    "papermill": {
     "duration": 1.76578,
     "end_time": "2023-03-21T11:20:30.780840",
     "exception": false,
     "start_time": "2023-03-21T11:20:29.015060",
     "status": "completed"
    },
    "tags": []
   },
   "outputs": [],
   "source": [
    "%matplotlib inline\n",
    "import pandas as pd\n",
    "import numpy as np\n",
    "import matplotlib.pyplot as plt\n",
    "import seaborn as sns\n",
    "import re\n",
    "import os\n",
    "from sklearn.preprocessing import StandardScaler\n",
    "from sklearn.decomposition import PCA\n",
    "import joblib\n",
    "from tslearn.utils import to_time_series_dataset, save_time_series_txt, load_time_series_txt\n",
    "import random\n",
    "from sklearn.model_selection import train_test_split\n",
    "from sklearn.metrics import accuracy_score, f1_score, precision_score, recall_score, classification_report\n",
    "import pickle"
   ]
  },
  {
   "cell_type": "code",
   "execution_count": 2,
   "id": "acc03405",
   "metadata": {
    "execution": {
     "iopub.execute_input": "2023-03-21T11:20:30.843182Z",
     "iopub.status.busy": "2023-03-21T11:20:30.842729Z",
     "iopub.status.idle": "2023-03-21T11:20:30.848405Z",
     "shell.execute_reply": "2023-03-21T11:20:30.847369Z"
    },
    "papermill": {
     "duration": 0.040672,
     "end_time": "2023-03-21T11:20:30.853139",
     "exception": false,
     "start_time": "2023-03-21T11:20:30.812467",
     "status": "completed"
    },
    "tags": [
     "parameters"
    ]
   },
   "outputs": [],
   "source": [
    "data_path = '/home/mattiapggioli/lyrics2ts/data/classification/pp-rc/sbert/'\n",
    "truncate=100\n",
    "max_iter = 2000\n",
    "paa_window_size = None\n",
    "undersampling = None"
   ]
  },
  {
   "cell_type": "code",
   "execution_count": 3,
   "id": "f40d2b05",
   "metadata": {
    "execution": {
     "iopub.execute_input": "2023-03-21T11:20:30.885717Z",
     "iopub.status.busy": "2023-03-21T11:20:30.884965Z",
     "iopub.status.idle": "2023-03-21T11:20:30.890935Z",
     "shell.execute_reply": "2023-03-21T11:20:30.889785Z"
    },
    "papermill": {
     "duration": 0.020165,
     "end_time": "2023-03-21T11:20:30.892666",
     "exception": false,
     "start_time": "2023-03-21T11:20:30.872501",
     "status": "completed"
    },
    "tags": [
     "injected-parameters"
    ]
   },
   "outputs": [],
   "source": [
    "# Parameters\n",
    "data_path = \"/home/mattiapggioli/lyrics2ts/data/classification/rock-subgenres/sbert/\"\n",
    "paa_window_size = 20\n",
    "undersampling = 0.3\n"
   ]
  },
  {
   "cell_type": "code",
   "execution_count": 4,
   "id": "a4f0c774",
   "metadata": {
    "execution": {
     "iopub.execute_input": "2023-03-21T11:20:30.917894Z",
     "iopub.status.busy": "2023-03-21T11:20:30.916771Z",
     "iopub.status.idle": "2023-03-21T11:20:45.572376Z",
     "shell.execute_reply": "2023-03-21T11:20:45.571156Z"
    },
    "papermill": {
     "duration": 14.672908,
     "end_time": "2023-03-21T11:20:45.576686",
     "exception": false,
     "start_time": "2023-03-21T11:20:30.903778",
     "status": "completed"
    },
    "tags": []
   },
   "outputs": [],
   "source": [
    "ts = load_time_series_txt(f'{data_path}/ts.txt')"
   ]
  },
  {
   "cell_type": "code",
   "execution_count": 5,
   "id": "5c48d154",
   "metadata": {
    "execution": {
     "iopub.execute_input": "2023-03-21T11:20:45.644661Z",
     "iopub.status.busy": "2023-03-21T11:20:45.644203Z",
     "iopub.status.idle": "2023-03-21T11:20:45.651157Z",
     "shell.execute_reply": "2023-03-21T11:20:45.650291Z"
    },
    "papermill": {
     "duration": 0.051408,
     "end_time": "2023-03-21T11:20:45.660000",
     "exception": false,
     "start_time": "2023-03-21T11:20:45.608592",
     "status": "completed"
    },
    "tags": []
   },
   "outputs": [
    {
     "data": {
      "text/plain": [
       "(25000, 100, 1)"
      ]
     },
     "execution_count": 5,
     "metadata": {},
     "output_type": "execute_result"
    }
   ],
   "source": [
    "ts.shape"
   ]
  },
  {
   "cell_type": "code",
   "execution_count": 6,
   "id": "f6274d40",
   "metadata": {
    "execution": {
     "iopub.execute_input": "2023-03-21T11:20:45.696833Z",
     "iopub.status.busy": "2023-03-21T11:20:45.696048Z",
     "iopub.status.idle": "2023-03-21T11:20:45.703109Z",
     "shell.execute_reply": "2023-03-21T11:20:45.702178Z"
    },
    "papermill": {
     "duration": 0.022882,
     "end_time": "2023-03-21T11:20:45.704877",
     "exception": false,
     "start_time": "2023-03-21T11:20:45.681995",
     "status": "completed"
    },
    "tags": []
   },
   "outputs": [],
   "source": [
    "with open(f'{data_path}/y_class.npy', 'rb') as f:\n",
    "    y = np.load(f, allow_pickle=True)"
   ]
  },
  {
   "cell_type": "code",
   "execution_count": 7,
   "id": "9d42fa3b",
   "metadata": {
    "execution": {
     "iopub.execute_input": "2023-03-21T11:20:45.735335Z",
     "iopub.status.busy": "2023-03-21T11:20:45.734662Z",
     "iopub.status.idle": "2023-03-21T11:20:45.828924Z",
     "shell.execute_reply": "2023-03-21T11:20:45.827706Z"
    },
    "papermill": {
     "duration": 0.1143,
     "end_time": "2023-03-21T11:20:45.831202",
     "exception": false,
     "start_time": "2023-03-21T11:20:45.716902",
     "status": "completed"
    },
    "tags": []
   },
   "outputs": [],
   "source": [
    "with open(f'{data_path}/X.npy', 'rb') as f:\n",
    "    X = np.load(f, allow_pickle=True)"
   ]
  },
  {
   "cell_type": "code",
   "execution_count": 8,
   "id": "1158a9da",
   "metadata": {
    "execution": {
     "iopub.execute_input": "2023-03-21T11:20:45.860827Z",
     "iopub.status.busy": "2023-03-21T11:20:45.859811Z",
     "iopub.status.idle": "2023-03-21T11:20:45.867623Z",
     "shell.execute_reply": "2023-03-21T11:20:45.866319Z"
    },
    "papermill": {
     "duration": 0.024749,
     "end_time": "2023-03-21T11:20:45.869506",
     "exception": false,
     "start_time": "2023-03-21T11:20:45.844757",
     "status": "completed"
    },
    "tags": []
   },
   "outputs": [
    {
     "data": {
      "text/plain": [
       "(25000, 384)"
      ]
     },
     "execution_count": 8,
     "metadata": {},
     "output_type": "execute_result"
    }
   ],
   "source": [
    "X.shape"
   ]
  },
  {
   "cell_type": "code",
   "execution_count": 9,
   "id": "47239790",
   "metadata": {
    "execution": {
     "iopub.execute_input": "2023-03-21T11:20:45.899939Z",
     "iopub.status.busy": "2023-03-21T11:20:45.899309Z",
     "iopub.status.idle": "2023-03-21T11:20:45.908025Z",
     "shell.execute_reply": "2023-03-21T11:20:45.906660Z"
    },
    "papermill": {
     "duration": 0.026477,
     "end_time": "2023-03-21T11:20:45.910700",
     "exception": false,
     "start_time": "2023-03-21T11:20:45.884223",
     "status": "completed"
    },
    "tags": []
   },
   "outputs": [
    {
     "data": {
      "text/plain": [
       "{'hard-rock', 'heavy-metal', 'indie', 'pop-rock', 'punk-rock'}"
      ]
     },
     "execution_count": 9,
     "metadata": {},
     "output_type": "execute_result"
    }
   ],
   "source": [
    "set(y)"
   ]
  },
  {
   "cell_type": "code",
   "execution_count": 10,
   "id": "37609992",
   "metadata": {
    "execution": {
     "iopub.execute_input": "2023-03-21T11:20:45.941083Z",
     "iopub.status.busy": "2023-03-21T11:20:45.939851Z",
     "iopub.status.idle": "2023-03-21T11:20:45.985896Z",
     "shell.execute_reply": "2023-03-21T11:20:45.985000Z"
    },
    "papermill": {
     "duration": 0.064199,
     "end_time": "2023-03-21T11:20:45.988605",
     "exception": false,
     "start_time": "2023-03-21T11:20:45.924406",
     "status": "completed"
    },
    "tags": []
   },
   "outputs": [],
   "source": [
    "ts_train, ts_test, y_train, y_test = train_test_split(\n",
    "    ts, y, test_size=0.20, random_state=42, stratify=y)"
   ]
  },
  {
   "cell_type": "code",
   "execution_count": 11,
   "id": "34508fe4",
   "metadata": {
    "execution": {
     "iopub.execute_input": "2023-03-21T11:20:46.015802Z",
     "iopub.status.busy": "2023-03-21T11:20:46.015382Z",
     "iopub.status.idle": "2023-03-21T11:20:46.080003Z",
     "shell.execute_reply": "2023-03-21T11:20:46.079315Z"
    },
    "papermill": {
     "duration": 0.081925,
     "end_time": "2023-03-21T11:20:46.082613",
     "exception": false,
     "start_time": "2023-03-21T11:20:46.000688",
     "status": "completed"
    },
    "tags": []
   },
   "outputs": [],
   "source": [
    "X_train, X_test, y_train, y_test = train_test_split(\n",
    "    X, y, test_size=0.20, random_state=42, stratify=y)"
   ]
  },
  {
   "cell_type": "code",
   "execution_count": 12,
   "id": "076afac9",
   "metadata": {
    "execution": {
     "iopub.execute_input": "2023-03-21T11:20:46.114432Z",
     "iopub.status.busy": "2023-03-21T11:20:46.114000Z",
     "iopub.status.idle": "2023-03-21T11:20:46.124169Z",
     "shell.execute_reply": "2023-03-21T11:20:46.122556Z"
    },
    "papermill": {
     "duration": 0.02834,
     "end_time": "2023-03-21T11:20:46.126916",
     "exception": false,
     "start_time": "2023-03-21T11:20:46.098576",
     "status": "completed"
    },
    "tags": []
   },
   "outputs": [
    {
     "data": {
      "text/plain": [
       "array([[ 0.16524947],\n",
       "       [-1.22400902],\n",
       "       [ 0.55963849],\n",
       "       [-0.64323388],\n",
       "       [-1.25433565],\n",
       "       [-0.20050228],\n",
       "       [-0.82336848],\n",
       "       [-0.19760985],\n",
       "       [ 0.83239666],\n",
       "       [ 0.3999715 ],\n",
       "       [ 0.50282122],\n",
       "       [-1.00657895],\n",
       "       [ 0.50282122],\n",
       "       [ 0.0358073 ],\n",
       "       [-0.56960772],\n",
       "       [-2.10033275],\n",
       "       [ 0.79091662],\n",
       "       [ 0.57634642],\n",
       "       [-0.26721085],\n",
       "       [ 0.01580344],\n",
       "       [-0.35587571],\n",
       "       [ 1.29156375],\n",
       "       [-0.9626723 ],\n",
       "       [ 1.68480869],\n",
       "       [-0.46462246],\n",
       "       [-2.21178983],\n",
       "       [        nan],\n",
       "       [        nan],\n",
       "       [        nan],\n",
       "       [        nan],\n",
       "       [        nan],\n",
       "       [        nan],\n",
       "       [        nan],\n",
       "       [        nan],\n",
       "       [        nan],\n",
       "       [        nan],\n",
       "       [        nan],\n",
       "       [        nan],\n",
       "       [        nan],\n",
       "       [        nan],\n",
       "       [        nan],\n",
       "       [        nan],\n",
       "       [        nan],\n",
       "       [        nan],\n",
       "       [        nan],\n",
       "       [        nan],\n",
       "       [        nan],\n",
       "       [        nan],\n",
       "       [        nan],\n",
       "       [        nan],\n",
       "       [        nan],\n",
       "       [        nan],\n",
       "       [        nan],\n",
       "       [        nan],\n",
       "       [        nan],\n",
       "       [        nan],\n",
       "       [        nan],\n",
       "       [        nan],\n",
       "       [        nan],\n",
       "       [        nan],\n",
       "       [        nan],\n",
       "       [        nan],\n",
       "       [        nan],\n",
       "       [        nan],\n",
       "       [        nan],\n",
       "       [        nan],\n",
       "       [        nan],\n",
       "       [        nan],\n",
       "       [        nan],\n",
       "       [        nan],\n",
       "       [        nan],\n",
       "       [        nan],\n",
       "       [        nan],\n",
       "       [        nan],\n",
       "       [        nan],\n",
       "       [        nan],\n",
       "       [        nan],\n",
       "       [        nan],\n",
       "       [        nan],\n",
       "       [        nan],\n",
       "       [        nan],\n",
       "       [        nan],\n",
       "       [        nan],\n",
       "       [        nan],\n",
       "       [        nan],\n",
       "       [        nan],\n",
       "       [        nan],\n",
       "       [        nan],\n",
       "       [        nan],\n",
       "       [        nan],\n",
       "       [        nan],\n",
       "       [        nan],\n",
       "       [        nan],\n",
       "       [        nan],\n",
       "       [        nan],\n",
       "       [        nan],\n",
       "       [        nan],\n",
       "       [        nan],\n",
       "       [        nan],\n",
       "       [        nan]])"
      ]
     },
     "execution_count": 12,
     "metadata": {},
     "output_type": "execute_result"
    }
   ],
   "source": [
    "random.choice(ts_train)"
   ]
  },
  {
   "cell_type": "code",
   "execution_count": 13,
   "id": "ca66457a",
   "metadata": {
    "execution": {
     "iopub.execute_input": "2023-03-21T11:20:46.159737Z",
     "iopub.status.busy": "2023-03-21T11:20:46.159054Z",
     "iopub.status.idle": "2023-03-21T11:20:46.671684Z",
     "shell.execute_reply": "2023-03-21T11:20:46.669765Z"
    },
    "papermill": {
     "duration": 0.532754,
     "end_time": "2023-03-21T11:20:46.675983",
     "exception": false,
     "start_time": "2023-03-21T11:20:46.143229",
     "status": "completed"
    },
    "tags": []
   },
   "outputs": [
    {
     "data": {
      "text/plain": [
       "<AxesSubplot:ylabel='Count'>"
      ]
     },
     "execution_count": 13,
     "metadata": {},
     "output_type": "execute_result"
    },
    {
     "data": {
      "image/png": "[encoded data removed]",
      "text/plain": [
       "<Figure size 640x480 with 1 Axes>"
      ]
     },
     "metadata": {},
     "output_type": "display_data"
    }
   ],
   "source": [
    "sns.histplot([t[~np.any(np.isnan(t), axis=1)].shape[0] for t in ts_train])"
   ]
  },
  {
   "cell_type": "code",
   "execution_count": 14,
   "id": "c2ae286f",
   "metadata": {
    "execution": {
     "iopub.execute_input": "2023-03-21T11:20:46.749616Z",
     "iopub.status.busy": "2023-03-21T11:20:46.749314Z",
     "iopub.status.idle": "2023-03-21T11:20:46.754636Z",
     "shell.execute_reply": "2023-03-21T11:20:46.753259Z"
    },
    "papermill": {
     "duration": 0.046894,
     "end_time": "2023-03-21T11:20:46.757985",
     "exception": false,
     "start_time": "2023-03-21T11:20:46.711091",
     "status": "completed"
    },
    "tags": []
   },
   "outputs": [],
   "source": [
    "ts_train = ts_train[:, :truncate, :]\n",
    "ts_test = ts_test[:, :truncate, :]"
   ]
  },
  {
   "cell_type": "code",
   "execution_count": 15,
   "id": "3218baa4",
   "metadata": {
    "execution": {
     "iopub.execute_input": "2023-03-21T11:20:46.788873Z",
     "iopub.status.busy": "2023-03-21T11:20:46.787632Z",
     "iopub.status.idle": "2023-03-21T11:20:46.891862Z",
     "shell.execute_reply": "2023-03-21T11:20:46.890833Z"
    },
    "papermill": {
     "duration": 0.122939,
     "end_time": "2023-03-21T11:20:46.895081",
     "exception": false,
     "start_time": "2023-03-21T11:20:46.772142",
     "status": "completed"
    },
    "tags": []
   },
   "outputs": [],
   "source": [
    "mean_arr = np.nanmean(ts_train, axis=1, keepdims=True)\n",
    "nan_indices = np.isnan(ts_train)\n",
    "ts_train[nan_indices] = np.take(mean_arr, np.nonzero(nan_indices)[0])\n",
    "\n",
    "mean_arr = np.nanmean(ts_test, axis=1, keepdims=True)\n",
    "nan_indices = np.isnan(ts_test)\n",
    "ts_test[nan_indices] = np.take(mean_arr, np.nonzero(nan_indices)[0])"
   ]
  },
  {
   "cell_type": "code",
   "execution_count": 16,
   "id": "d369691b",
   "metadata": {
    "execution": {
     "iopub.execute_input": "2023-03-21T11:20:46.925506Z",
     "iopub.status.busy": "2023-03-21T11:20:46.924723Z",
     "iopub.status.idle": "2023-03-21T11:20:46.939858Z",
     "shell.execute_reply": "2023-03-21T11:20:46.938235Z"
    },
    "papermill": {
     "duration": 0.032124,
     "end_time": "2023-03-21T11:20:46.942611",
     "exception": false,
     "start_time": "2023-03-21T11:20:46.910487",
     "status": "completed"
    },
    "tags": []
   },
   "outputs": [
    {
     "data": {
      "text/plain": [
       "0"
      ]
     },
     "execution_count": 16,
     "metadata": {},
     "output_type": "execute_result"
    }
   ],
   "source": [
    "np.count_nonzero(np.isnan(X_train))"
   ]
  },
  {
   "cell_type": "code",
   "execution_count": 17,
   "id": "0d602e18",
   "metadata": {
    "execution": {
     "iopub.execute_input": "2023-03-21T11:20:46.977315Z",
     "iopub.status.busy": "2023-03-21T11:20:46.976463Z",
     "iopub.status.idle": "2023-03-21T11:20:46.990781Z",
     "shell.execute_reply": "2023-03-21T11:20:46.989455Z"
    },
    "papermill": {
     "duration": 0.032419,
     "end_time": "2023-03-21T11:20:46.992972",
     "exception": false,
     "start_time": "2023-03-21T11:20:46.960553",
     "status": "completed"
    },
    "tags": []
   },
   "outputs": [],
   "source": [
    "X_train[np.isnan(X_train)] = 0\n",
    "X_test[np.isnan(X_test)] = 0"
   ]
  },
  {
   "cell_type": "code",
   "execution_count": 18,
   "id": "45c5102c",
   "metadata": {
    "execution": {
     "iopub.execute_input": "2023-03-21T11:20:47.024954Z",
     "iopub.status.busy": "2023-03-21T11:20:47.024246Z",
     "iopub.status.idle": "2023-03-21T11:20:49.850155Z",
     "shell.execute_reply": "2023-03-21T11:20:49.849507Z"
    },
    "papermill": {
     "duration": 2.844478,
     "end_time": "2023-03-21T11:20:49.851844",
     "exception": false,
     "start_time": "2023-03-21T11:20:47.007366",
     "status": "completed"
    },
    "tags": []
   },
   "outputs": [],
   "source": [
    "save_time_series_txt(f'{data_path}/ts_train.txt', ts_train)\n",
    "save_time_series_txt(f'{data_path}/ts_test.txt', ts_test)"
   ]
  },
  {
   "cell_type": "code",
   "execution_count": 19,
   "id": "39830f37",
   "metadata": {
    "execution": {
     "iopub.execute_input": "2023-03-21T11:20:49.879391Z",
     "iopub.status.busy": "2023-03-21T11:20:49.878250Z",
     "iopub.status.idle": "2023-03-21T11:20:49.957370Z",
     "shell.execute_reply": "2023-03-21T11:20:49.956492Z"
    },
    "papermill": {
     "duration": 0.095722,
     "end_time": "2023-03-21T11:20:49.960231",
     "exception": false,
     "start_time": "2023-03-21T11:20:49.864509",
     "status": "completed"
    },
    "tags": []
   },
   "outputs": [],
   "source": [
    "with open(f'{data_path}/X_train.npy', 'wb') as f:\n",
    "    np.save(f, X_train, allow_pickle=True)\n",
    "\n",
    "with open(f'{data_path}/X_test.npy', 'wb') as f:\n",
    "    np.save(f, X_test, allow_pickle=True)"
   ]
  },
  {
   "cell_type": "code",
   "execution_count": 20,
   "id": "795fd2be",
   "metadata": {
    "execution": {
     "iopub.execute_input": "2023-03-21T11:20:50.035721Z",
     "iopub.status.busy": "2023-03-21T11:20:50.035403Z",
     "iopub.status.idle": "2023-03-21T11:20:50.043276Z",
     "shell.execute_reply": "2023-03-21T11:20:50.042371Z"
    },
    "papermill": {
     "duration": 0.048792,
     "end_time": "2023-03-21T11:20:50.046809",
     "exception": false,
     "start_time": "2023-03-21T11:20:49.998017",
     "status": "completed"
    },
    "tags": []
   },
   "outputs": [],
   "source": [
    "with open(f'{data_path}/y_train.npy', 'wb') as f:\n",
    "    np.save(f, y_train, allow_pickle=True)\n",
    "\n",
    "with open(f'{data_path}/y_test.npy', 'wb') as f:\n",
    "    np.save(f, y_test, allow_pickle=True)"
   ]
  },
  {
   "cell_type": "code",
   "execution_count": 21,
   "id": "08bda153",
   "metadata": {
    "execution": {
     "iopub.execute_input": "2023-03-21T11:20:50.077267Z",
     "iopub.status.busy": "2023-03-21T11:20:50.076458Z",
     "iopub.status.idle": "2023-03-21T11:20:50.211287Z",
     "shell.execute_reply": "2023-03-21T11:20:50.209915Z"
    },
    "papermill": {
     "duration": 0.150871,
     "end_time": "2023-03-21T11:20:50.213708",
     "exception": false,
     "start_time": "2023-03-21T11:20:50.062837",
     "status": "completed"
    },
    "tags": []
   },
   "outputs": [
    {
     "data": {
      "text/plain": [
       "[<matplotlib.lines.Line2D at 0x7f4aba83a4c0>]"
      ]
     },
     "execution_count": 21,
     "metadata": {},
     "output_type": "execute_result"
    },
    {
     "data": {
      "image/png": "[encoded data removed]",
      "text/plain": [
       "<Figure size 640x480 with 1 Axes>"
      ]
     },
     "metadata": {},
     "output_type": "display_data"
    }
   ],
   "source": [
    "plt.plot(random.choice(ts_train))"
   ]
  },
  {
   "cell_type": "code",
   "execution_count": 22,
   "id": "98ce9d63",
   "metadata": {
    "execution": {
     "iopub.execute_input": "2023-03-21T11:20:50.242489Z",
     "iopub.status.busy": "2023-03-21T11:20:50.242183Z",
     "iopub.status.idle": "2023-03-21T11:20:50.248318Z",
     "shell.execute_reply": "2023-03-21T11:20:50.247251Z"
    },
    "papermill": {
     "duration": 0.022538,
     "end_time": "2023-03-21T11:20:50.250019",
     "exception": false,
     "start_time": "2023-03-21T11:20:50.227481",
     "status": "completed"
    },
    "tags": []
   },
   "outputs": [],
   "source": [
    "# Parameters that require knowing if it's binary or multiclass (LightGBM, metrics)\n",
    "if len(set(y)) == 2:\n",
    "    avg_par = 'macro'\n",
    "    obj_par = 'binary'\n",
    "elif len(set(y)) > 2:\n",
    "    avg_par = 'weighted'\n",
    "    obj_par = 'multiclass'"
   ]
  },
  {
   "cell_type": "markdown",
   "id": "228f1b39",
   "metadata": {
    "papermill": {
     "duration": 0.015493,
     "end_time": "2023-03-21T11:20:50.280141",
     "exception": false,
     "start_time": "2023-03-21T11:20:50.264648",
     "status": "completed"
    },
    "tags": []
   },
   "source": [
    "## Classification"
   ]
  },
  {
   "cell_type": "code",
   "execution_count": 23,
   "id": "34bb73ff",
   "metadata": {
    "execution": {
     "iopub.execute_input": "2023-03-21T11:20:50.312497Z",
     "iopub.status.busy": "2023-03-21T11:20:50.311169Z",
     "iopub.status.idle": "2023-03-21T11:20:50.461316Z",
     "shell.execute_reply": "2023-03-21T11:20:50.460498Z"
    },
    "papermill": {
     "duration": 0.168834,
     "end_time": "2023-03-21T11:20:50.463788",
     "exception": false,
     "start_time": "2023-03-21T11:20:50.294954",
     "status": "completed"
    },
    "tags": []
   },
   "outputs": [],
   "source": [
    "from sklearn.tree import DecisionTreeClassifier\n",
    "import lightgbm as lgbm\n",
    "from sklearn.ensemble import RandomForestClassifier"
   ]
  },
  {
   "cell_type": "code",
   "execution_count": 24,
   "id": "02aaee18",
   "metadata": {
    "execution": {
     "iopub.execute_input": "2023-03-21T11:20:50.495358Z",
     "iopub.status.busy": "2023-03-21T11:20:50.494725Z",
     "iopub.status.idle": "2023-03-21T11:20:50.500024Z",
     "shell.execute_reply": "2023-03-21T11:20:50.498884Z"
    },
    "papermill": {
     "duration": 0.021314,
     "end_time": "2023-03-21T11:20:50.501610",
     "exception": false,
     "start_time": "2023-03-21T11:20:50.480296",
     "status": "completed"
    },
    "tags": []
   },
   "outputs": [],
   "source": [
    "metrics_data = {}"
   ]
  },
  {
   "cell_type": "markdown",
   "id": "b49309ed",
   "metadata": {
    "papermill": {
     "duration": 0.01601,
     "end_time": "2023-03-21T11:20:50.531875",
     "exception": false,
     "start_time": "2023-03-21T11:20:50.515865",
     "status": "completed"
    },
    "tags": []
   },
   "source": [
    "### Baseline: global features (No Time Series)"
   ]
  },
  {
   "cell_type": "code",
   "execution_count": 25,
   "id": "35eb9f66",
   "metadata": {
    "execution": {
     "iopub.execute_input": "2023-03-21T11:20:50.563915Z",
     "iopub.status.busy": "2023-03-21T11:20:50.562885Z",
     "iopub.status.idle": "2023-03-21T11:20:50.568584Z",
     "shell.execute_reply": "2023-03-21T11:20:50.567603Z"
    },
    "papermill": {
     "duration": 0.023691,
     "end_time": "2023-03-21T11:20:50.570324",
     "exception": false,
     "start_time": "2023-03-21T11:20:50.546633",
     "status": "completed"
    },
    "tags": []
   },
   "outputs": [],
   "source": [
    "metrics_data['Global'] = {}"
   ]
  },
  {
   "cell_type": "markdown",
   "id": "29cd5044",
   "metadata": {
    "papermill": {
     "duration": 0.014698,
     "end_time": "2023-03-21T11:20:50.599748",
     "exception": false,
     "start_time": "2023-03-21T11:20:50.585050",
     "status": "completed"
    },
    "tags": []
   },
   "source": [
    "**Decision Tree**"
   ]
  },
  {
   "cell_type": "code",
   "execution_count": 26,
   "id": "9ef4f037",
   "metadata": {
    "execution": {
     "iopub.execute_input": "2023-03-21T11:20:50.632252Z",
     "iopub.status.busy": "2023-03-21T11:20:50.631731Z",
     "iopub.status.idle": "2023-03-21T11:21:02.669812Z",
     "shell.execute_reply": "2023-03-21T11:21:02.668765Z"
    },
    "papermill": {
     "duration": 12.057002,
     "end_time": "2023-03-21T11:21:02.671591",
     "exception": false,
     "start_time": "2023-03-21T11:20:50.614589",
     "status": "completed"
    },
    "tags": []
   },
   "outputs": [
    {
     "data": {
      "text/html": [
       "<style>#sk-container-id-1 {color: black;background-color: white;}#sk-container-id-1 pre{padding: 0;}#sk-container-id-1 div.sk-toggleable {background-color: white;}#sk-container-id-1 label.sk-toggleable__label {cursor: pointer;display: block;width: 100%;margin-bottom: 0;padding: 0.3em;box-sizing: border-box;text-align: center;}#sk-container-id-1 label.sk-toggleable__label-arrow:before {content: \"▸\";float: left;margin-right: 0.25em;color: #696969;}#sk-container-id-1 label.sk-toggleable__label-arrow:hover:before {color: black;}#sk-container-id-1 div.sk-estimator:hover label.sk-toggleable__label-arrow:before {color: black;}#sk-container-id-1 div.sk-toggleable__content {max-height: 0;max-width: 0;overflow: hidden;text-align: left;background-color: #f0f8ff;}#sk-container-id-1 div.sk-toggleable__content pre {margin: 0.2em;color: black;border-radius: 0.25em;background-color: #f0f8ff;}#sk-container-id-1 input.sk-toggleable__control:checked~div.sk-toggleable__content {max-height: 200px;max-width: 100%;overflow: auto;}#sk-container-id-1 input.sk-toggleable__control:checked~label.sk-toggleable__label-arrow:before {content: \"▾\";}#sk-container-id-1 div.sk-estimator input.sk-toggleable__control:checked~label.sk-toggleable__label {background-color: #d4ebff;}#sk-container-id-1 div.sk-label input.sk-toggleable__control:checked~label.sk-toggleable__label {background-color: #d4ebff;}#sk-container-id-1 input.sk-hidden--visually {border: 0;clip: rect(1px 1px 1px 1px);clip: rect(1px, 1px, 1px, 1px);height: 1px;margin: -1px;overflow: hidden;padding: 0;position: absolute;width: 1px;}#sk-container-id-1 div.sk-estimator {font-family: monospace;background-color: #f0f8ff;border: 1px dotted black;border-radius: 0.25em;box-sizing: border-box;margin-bottom: 0.5em;}#sk-container-id-1 div.sk-estimator:hover {background-color: #d4ebff;}#sk-container-id-1 div.sk-parallel-item::after {content: \"\";width: 100%;border-bottom: 1px solid gray;flex-grow: 1;}#sk-container-id-1 div.sk-label:hover label.sk-toggleable__label {background-color: #d4ebff;}#sk-container-id-1 div.sk-serial::before {content: \"\";position: absolute;border-left: 1px solid gray;box-sizing: border-box;top: 0;bottom: 0;left: 50%;z-index: 0;}#sk-container-id-1 div.sk-serial {display: flex;flex-direction: column;align-items: center;background-color: white;padding-right: 0.2em;padding-left: 0.2em;position: relative;}#sk-container-id-1 div.sk-item {position: relative;z-index: 1;}#sk-container-id-1 div.sk-parallel {display: flex;align-items: stretch;justify-content: center;background-color: white;position: relative;}#sk-container-id-1 div.sk-item::before, #sk-container-id-1 div.sk-parallel-item::before {content: \"\";position: absolute;border-left: 1px solid gray;box-sizing: border-box;top: 0;bottom: 0;left: 50%;z-index: -1;}#sk-container-id-1 div.sk-parallel-item {display: flex;flex-direction: column;z-index: 1;position: relative;background-color: white;}#sk-container-id-1 div.sk-parallel-item:first-child::after {align-self: flex-end;width: 50%;}#sk-container-id-1 div.sk-parallel-item:last-child::after {align-self: flex-start;width: 50%;}#sk-container-id-1 div.sk-parallel-item:only-child::after {width: 0;}#sk-container-id-1 div.sk-dashed-wrapped {border: 1px dashed gray;margin: 0 0.4em 0.5em 0.4em;box-sizing: border-box;padding-bottom: 0.4em;background-color: white;}#sk-container-id-1 div.sk-label label {font-family: monospace;font-weight: bold;display: inline-block;line-height: 1.2em;}#sk-container-id-1 div.sk-label-container {text-align: center;}#sk-container-id-1 div.sk-container {/* jupyter's `normalize.less` sets `[hidden] { display: none; }` but bootstrap.min.css set `[hidden] { display: none !important; }` so we also need the `!important` here to be able to override the default hidden behavior on the sphinx rendered scikit-learn.org. See: https://github.com/scikit-learn/scikit-learn/issues/21755 */display: inline-block !important;position: relative;}#sk-container-id-1 div.sk-text-repr-fallback {display: none;}</style><div id=\"sk-container-id-1\" class=\"sk-top-container\"><div class=\"sk-text-repr-fallback\"><pre>DecisionTreeClassifier()</pre><b>In a Jupyter environment, please rerun this cell to show the HTML representation or trust the notebook. <br />On GitHub, the HTML representation is unable to render, please try loading this page with nbviewer.org.</b></div><div class=\"sk-container\" hidden><div class=\"sk-item\"><div class=\"sk-estimator sk-toggleable\"><input class=\"sk-toggleable__control sk-hidden--visually\" id=\"sk-estimator-id-1\" type=\"checkbox\" checked><label for=\"sk-estimator-id-1\" class=\"sk-toggleable__label sk-toggleable__label-arrow\">DecisionTreeClassifier</label><div class=\"sk-toggleable__content\"><pre>DecisionTreeClassifier()</pre></div></div></div></div></div>"
      ],
      "text/plain": [
       "DecisionTreeClassifier()"
      ]
     },
     "execution_count": 26,
     "metadata": {},
     "output_type": "execute_result"
    }
   ],
   "source": [
    "clf = DecisionTreeClassifier()\n",
    "clf.fit(X_train, y_train)"
   ]
  },
  {
   "cell_type": "code",
   "execution_count": 27,
   "id": "9c50acc4",
   "metadata": {
    "execution": {
     "iopub.execute_input": "2023-03-21T11:21:02.702987Z",
     "iopub.status.busy": "2023-03-21T11:21:02.702540Z",
     "iopub.status.idle": "2023-03-21T11:21:02.824036Z",
     "shell.execute_reply": "2023-03-21T11:21:02.823190Z"
    },
    "papermill": {
     "duration": 0.140056,
     "end_time": "2023-03-21T11:21:02.826589",
     "exception": false,
     "start_time": "2023-03-21T11:21:02.686533",
     "status": "completed"
    },
    "tags": []
   },
   "outputs": [
    {
     "name": "stdout",
     "output_type": "stream",
     "text": [
      "              precision    recall  f1-score   support\n",
      "\n",
      "   hard-rock       0.24      0.25      0.24      1000\n",
      " heavy-metal       0.38      0.37      0.38      1000\n",
      "       indie       0.23      0.23      0.23      1000\n",
      "    pop-rock       0.26      0.24      0.25      1000\n",
      "   punk-rock       0.28      0.29      0.28      1000\n",
      "\n",
      "    accuracy                           0.28      5000\n",
      "   macro avg       0.28      0.28      0.28      5000\n",
      "weighted avg       0.28      0.28      0.28      5000\n",
      "\n"
     ]
    }
   ],
   "source": [
    "y_pred = clf.predict(X_test)\n",
    "print(classification_report(y_test, y_pred))"
   ]
  },
  {
   "cell_type": "code",
   "execution_count": 28,
   "id": "8866c3c3",
   "metadata": {
    "execution": {
     "iopub.execute_input": "2023-03-21T11:21:02.856641Z",
     "iopub.status.busy": "2023-03-21T11:21:02.856230Z",
     "iopub.status.idle": "2023-03-21T11:21:02.959104Z",
     "shell.execute_reply": "2023-03-21T11:21:02.957661Z"
    },
    "papermill": {
     "duration": 0.120422,
     "end_time": "2023-03-21T11:21:02.962392",
     "exception": false,
     "start_time": "2023-03-21T11:21:02.841970",
     "status": "completed"
    },
    "tags": []
   },
   "outputs": [],
   "source": [
    "acc = accuracy_score(y_test, y_pred)\n",
    "pre = precision_score(y_test, y_pred, average=avg_par)\n",
    "rec = recall_score(y_test, y_pred, average=avg_par)\n",
    "f1 = f1_score(y_test, y_pred, average=avg_par)\n",
    "\n",
    "metrics_data['Global']['DecisionTree'] = {'Accuracy': acc, 'Precision': pre, 'Recall': rec, 'F1': f1}"
   ]
  },
  {
   "cell_type": "markdown",
   "id": "28aa5a63",
   "metadata": {
    "papermill": {
     "duration": 0.035754,
     "end_time": "2023-03-21T11:21:03.034130",
     "exception": false,
     "start_time": "2023-03-21T11:21:02.998376",
     "status": "completed"
    },
    "tags": []
   },
   "source": [
    "**Random Forest**"
   ]
  },
  {
   "cell_type": "code",
   "execution_count": 29,
   "id": "0e5e2310",
   "metadata": {
    "execution": {
     "iopub.execute_input": "2023-03-21T11:21:03.065020Z",
     "iopub.status.busy": "2023-03-21T11:21:03.063943Z",
     "iopub.status.idle": "2023-03-21T11:21:46.017671Z",
     "shell.execute_reply": "2023-03-21T11:21:46.016649Z"
    },
    "papermill": {
     "duration": 43.006023,
     "end_time": "2023-03-21T11:21:46.053642",
     "exception": false,
     "start_time": "2023-03-21T11:21:03.047619",
     "status": "completed"
    },
    "tags": []
   },
   "outputs": [
    {
     "data": {
      "text/html": [
       "<style>#sk-container-id-2 {color: black;background-color: white;}#sk-container-id-2 pre{padding: 0;}#sk-container-id-2 div.sk-toggleable {background-color: white;}#sk-container-id-2 label.sk-toggleable__label {cursor: pointer;display: block;width: 100%;margin-bottom: 0;padding: 0.3em;box-sizing: border-box;text-align: center;}#sk-container-id-2 label.sk-toggleable__label-arrow:before {content: \"▸\";float: left;margin-right: 0.25em;color: #696969;}#sk-container-id-2 label.sk-toggleable__label-arrow:hover:before {color: black;}#sk-container-id-2 div.sk-estimator:hover label.sk-toggleable__label-arrow:before {color: black;}#sk-container-id-2 div.sk-toggleable__content {max-height: 0;max-width: 0;overflow: hidden;text-align: left;background-color: #f0f8ff;}#sk-container-id-2 div.sk-toggleable__content pre {margin: 0.2em;color: black;border-radius: 0.25em;background-color: #f0f8ff;}#sk-container-id-2 input.sk-toggleable__control:checked~div.sk-toggleable__content {max-height: 200px;max-width: 100%;overflow: auto;}#sk-container-id-2 input.sk-toggleable__control:checked~label.sk-toggleable__label-arrow:before {content: \"▾\";}#sk-container-id-2 div.sk-estimator input.sk-toggleable__control:checked~label.sk-toggleable__label {background-color: #d4ebff;}#sk-container-id-2 div.sk-label input.sk-toggleable__control:checked~label.sk-toggleable__label {background-color: #d4ebff;}#sk-container-id-2 input.sk-hidden--visually {border: 0;clip: rect(1px 1px 1px 1px);clip: rect(1px, 1px, 1px, 1px);height: 1px;margin: -1px;overflow: hidden;padding: 0;position: absolute;width: 1px;}#sk-container-id-2 div.sk-estimator {font-family: monospace;background-color: #f0f8ff;border: 1px dotted black;border-radius: 0.25em;box-sizing: border-box;margin-bottom: 0.5em;}#sk-container-id-2 div.sk-estimator:hover {background-color: #d4ebff;}#sk-container-id-2 div.sk-parallel-item::after {content: \"\";width: 100%;border-bottom: 1px solid gray;flex-grow: 1;}#sk-container-id-2 div.sk-label:hover label.sk-toggleable__label {background-color: #d4ebff;}#sk-container-id-2 div.sk-serial::before {content: \"\";position: absolute;border-left: 1px solid gray;box-sizing: border-box;top: 0;bottom: 0;left: 50%;z-index: 0;}#sk-container-id-2 div.sk-serial {display: flex;flex-direction: column;align-items: center;background-color: white;padding-right: 0.2em;padding-left: 0.2em;position: relative;}#sk-container-id-2 div.sk-item {position: relative;z-index: 1;}#sk-container-id-2 div.sk-parallel {display: flex;align-items: stretch;justify-content: center;background-color: white;position: relative;}#sk-container-id-2 div.sk-item::before, #sk-container-id-2 div.sk-parallel-item::before {content: \"\";position: absolute;border-left: 1px solid gray;box-sizing: border-box;top: 0;bottom: 0;left: 50%;z-index: -1;}#sk-container-id-2 div.sk-parallel-item {display: flex;flex-direction: column;z-index: 1;position: relative;background-color: white;}#sk-container-id-2 div.sk-parallel-item:first-child::after {align-self: flex-end;width: 50%;}#sk-container-id-2 div.sk-parallel-item:last-child::after {align-self: flex-start;width: 50%;}#sk-container-id-2 div.sk-parallel-item:only-child::after {width: 0;}#sk-container-id-2 div.sk-dashed-wrapped {border: 1px dashed gray;margin: 0 0.4em 0.5em 0.4em;box-sizing: border-box;padding-bottom: 0.4em;background-color: white;}#sk-container-id-2 div.sk-label label {font-family: monospace;font-weight: bold;display: inline-block;line-height: 1.2em;}#sk-container-id-2 div.sk-label-container {text-align: center;}#sk-container-id-2 div.sk-container {/* jupyter's `normalize.less` sets `[hidden] { display: none; }` but bootstrap.min.css set `[hidden] { display: none !important; }` so we also need the `!important` here to be able to override the default hidden behavior on the sphinx rendered scikit-learn.org. See: https://github.com/scikit-learn/scikit-learn/issues/21755 */display: inline-block !important;position: relative;}#sk-container-id-2 div.sk-text-repr-fallback {display: none;}</style><div id=\"sk-container-id-2\" class=\"sk-top-container\"><div class=\"sk-text-repr-fallback\"><pre>RandomForestClassifier(random_state=42)</pre><b>In a Jupyter environment, please rerun this cell to show the HTML representation or trust the notebook. <br />On GitHub, the HTML representation is unable to render, please try loading this page with nbviewer.org.</b></div><div class=\"sk-container\" hidden><div class=\"sk-item\"><div class=\"sk-estimator sk-toggleable\"><input class=\"sk-toggleable__control sk-hidden--visually\" id=\"sk-estimator-id-2\" type=\"checkbox\" checked><label for=\"sk-estimator-id-2\" class=\"sk-toggleable__label sk-toggleable__label-arrow\">RandomForestClassifier</label><div class=\"sk-toggleable__content\"><pre>RandomForestClassifier(random_state=42)</pre></div></div></div></div></div>"
      ],
      "text/plain": [
       "RandomForestClassifier(random_state=42)"
      ]
     },
     "execution_count": 29,
     "metadata": {},
     "output_type": "execute_result"
    }
   ],
   "source": [
    "clf = RandomForestClassifier(random_state=42)\n",
    "clf.fit(X_train, y_train)"
   ]
  },
  {
   "cell_type": "code",
   "execution_count": 30,
   "id": "4bd1304b",
   "metadata": {
    "execution": {
     "iopub.execute_input": "2023-03-21T11:21:46.113758Z",
     "iopub.status.busy": "2023-03-21T11:21:46.112895Z",
     "iopub.status.idle": "2023-03-21T11:21:46.467473Z",
     "shell.execute_reply": "2023-03-21T11:21:46.466126Z"
    },
    "papermill": {
     "duration": 0.378773,
     "end_time": "2023-03-21T11:21:46.470082",
     "exception": false,
     "start_time": "2023-03-21T11:21:46.091309",
     "status": "completed"
    },
    "tags": []
   },
   "outputs": [
    {
     "name": "stdout",
     "output_type": "stream",
     "text": [
      "              precision    recall  f1-score   support\n",
      "\n",
      "   hard-rock       0.32      0.26      0.29      1000\n",
      " heavy-metal       0.52      0.55      0.53      1000\n",
      "       indie       0.37      0.35      0.36      1000\n",
      "    pop-rock       0.36      0.43      0.39      1000\n",
      "   punk-rock       0.41      0.40      0.40      1000\n",
      "\n",
      "    accuracy                           0.40      5000\n",
      "   macro avg       0.40      0.40      0.40      5000\n",
      "weighted avg       0.40      0.40      0.40      5000\n",
      "\n"
     ]
    }
   ],
   "source": [
    "y_pred = clf.predict(X_test)\n",
    "print(classification_report(y_test, y_pred))"
   ]
  },
  {
   "cell_type": "code",
   "execution_count": 31,
   "id": "43174ba2",
   "metadata": {
    "execution": {
     "iopub.execute_input": "2023-03-21T11:21:46.509629Z",
     "iopub.status.busy": "2023-03-21T11:21:46.508278Z",
     "iopub.status.idle": "2023-03-21T11:21:46.600825Z",
     "shell.execute_reply": "2023-03-21T11:21:46.599961Z"
    },
    "papermill": {
     "duration": 0.113582,
     "end_time": "2023-03-21T11:21:46.603800",
     "exception": false,
     "start_time": "2023-03-21T11:21:46.490218",
     "status": "completed"
    },
    "tags": []
   },
   "outputs": [],
   "source": [
    "acc = accuracy_score(y_test, y_pred)\n",
    "pre = precision_score(y_test, y_pred, average=avg_par)\n",
    "rec = recall_score(y_test, y_pred, average=avg_par)\n",
    "f1 = f1_score(y_test, y_pred, average=avg_par)\n",
    "\n",
    "metrics_data['Global']['RandomForest'] = {'Accuracy': acc, 'Precision': pre, 'Recall': rec, 'F1': f1}"
   ]
  },
  {
   "cell_type": "markdown",
   "id": "22c98ac5",
   "metadata": {
    "papermill": {
     "duration": 0.039283,
     "end_time": "2023-03-21T11:21:46.681817",
     "exception": false,
     "start_time": "2023-03-21T11:21:46.642534",
     "status": "completed"
    },
    "tags": []
   },
   "source": [
    "**LightGBM**"
   ]
  },
  {
   "cell_type": "code",
   "execution_count": 32,
   "id": "c93b818c",
   "metadata": {
    "execution": {
     "iopub.execute_input": "2023-03-21T11:21:46.713370Z",
     "iopub.status.busy": "2023-03-21T11:21:46.712959Z",
     "iopub.status.idle": "2023-03-21T11:22:26.548334Z",
     "shell.execute_reply": "2023-03-21T11:22:26.547592Z"
    },
    "papermill": {
     "duration": 39.867903,
     "end_time": "2023-03-21T11:22:26.564930",
     "exception": false,
     "start_time": "2023-03-21T11:21:46.697027",
     "status": "completed"
    },
    "tags": []
   },
   "outputs": [
    {
     "data": {
      "text/html": [
       "<style>#sk-container-id-3 {color: black;background-color: white;}#sk-container-id-3 pre{padding: 0;}#sk-container-id-3 div.sk-toggleable {background-color: white;}#sk-container-id-3 label.sk-toggleable__label {cursor: pointer;display: block;width: 100%;margin-bottom: 0;padding: 0.3em;box-sizing: border-box;text-align: center;}#sk-container-id-3 label.sk-toggleable__label-arrow:before {content: \"▸\";float: left;margin-right: 0.25em;color: #696969;}#sk-container-id-3 label.sk-toggleable__label-arrow:hover:before {color: black;}#sk-container-id-3 div.sk-estimator:hover label.sk-toggleable__label-arrow:before {color: black;}#sk-container-id-3 div.sk-toggleable__content {max-height: 0;max-width: 0;overflow: hidden;text-align: left;background-color: #f0f8ff;}#sk-container-id-3 div.sk-toggleable__content pre {margin: 0.2em;color: black;border-radius: 0.25em;background-color: #f0f8ff;}#sk-container-id-3 input.sk-toggleable__control:checked~div.sk-toggleable__content {max-height: 200px;max-width: 100%;overflow: auto;}#sk-container-id-3 input.sk-toggleable__control:checked~label.sk-toggleable__label-arrow:before {content: \"▾\";}#sk-container-id-3 div.sk-estimator input.sk-toggleable__control:checked~label.sk-toggleable__label {background-color: #d4ebff;}#sk-container-id-3 div.sk-label input.sk-toggleable__control:checked~label.sk-toggleable__label {background-color: #d4ebff;}#sk-container-id-3 input.sk-hidden--visually {border: 0;clip: rect(1px 1px 1px 1px);clip: rect(1px, 1px, 1px, 1px);height: 1px;margin: -1px;overflow: hidden;padding: 0;position: absolute;width: 1px;}#sk-container-id-3 div.sk-estimator {font-family: monospace;background-color: #f0f8ff;border: 1px dotted black;border-radius: 0.25em;box-sizing: border-box;margin-bottom: 0.5em;}#sk-container-id-3 div.sk-estimator:hover {background-color: #d4ebff;}#sk-container-id-3 div.sk-parallel-item::after {content: \"\";width: 100%;border-bottom: 1px solid gray;flex-grow: 1;}#sk-container-id-3 div.sk-label:hover label.sk-toggleable__label {background-color: #d4ebff;}#sk-container-id-3 div.sk-serial::before {content: \"\";position: absolute;border-left: 1px solid gray;box-sizing: border-box;top: 0;bottom: 0;left: 50%;z-index: 0;}#sk-container-id-3 div.sk-serial {display: flex;flex-direction: column;align-items: center;background-color: white;padding-right: 0.2em;padding-left: 0.2em;position: relative;}#sk-container-id-3 div.sk-item {position: relative;z-index: 1;}#sk-container-id-3 div.sk-parallel {display: flex;align-items: stretch;justify-content: center;background-color: white;position: relative;}#sk-container-id-3 div.sk-item::before, #sk-container-id-3 div.sk-parallel-item::before {content: \"\";position: absolute;border-left: 1px solid gray;box-sizing: border-box;top: 0;bottom: 0;left: 50%;z-index: -1;}#sk-container-id-3 div.sk-parallel-item {display: flex;flex-direction: column;z-index: 1;position: relative;background-color: white;}#sk-container-id-3 div.sk-parallel-item:first-child::after {align-self: flex-end;width: 50%;}#sk-container-id-3 div.sk-parallel-item:last-child::after {align-self: flex-start;width: 50%;}#sk-container-id-3 div.sk-parallel-item:only-child::after {width: 0;}#sk-container-id-3 div.sk-dashed-wrapped {border: 1px dashed gray;margin: 0 0.4em 0.5em 0.4em;box-sizing: border-box;padding-bottom: 0.4em;background-color: white;}#sk-container-id-3 div.sk-label label {font-family: monospace;font-weight: bold;display: inline-block;line-height: 1.2em;}#sk-container-id-3 div.sk-label-container {text-align: center;}#sk-container-id-3 div.sk-container {/* jupyter's `normalize.less` sets `[hidden] { display: none; }` but bootstrap.min.css set `[hidden] { display: none !important; }` so we also need the `!important` here to be able to override the default hidden behavior on the sphinx rendered scikit-learn.org. See: https://github.com/scikit-learn/scikit-learn/issues/21755 */display: inline-block !important;position: relative;}#sk-container-id-3 div.sk-text-repr-fallback {display: none;}</style><div id=\"sk-container-id-3\" class=\"sk-top-container\"><div class=\"sk-text-repr-fallback\"><pre>LGBMClassifier(objective=&#x27;multiclass&#x27;)</pre><b>In a Jupyter environment, please rerun this cell to show the HTML representation or trust the notebook. <br />On GitHub, the HTML representation is unable to render, please try loading this page with nbviewer.org.</b></div><div class=\"sk-container\" hidden><div class=\"sk-item\"><div class=\"sk-estimator sk-toggleable\"><input class=\"sk-toggleable__control sk-hidden--visually\" id=\"sk-estimator-id-3\" type=\"checkbox\" checked><label for=\"sk-estimator-id-3\" class=\"sk-toggleable__label sk-toggleable__label-arrow\">LGBMClassifier</label><div class=\"sk-toggleable__content\"><pre>LGBMClassifier(objective=&#x27;multiclass&#x27;)</pre></div></div></div></div></div>"
      ],
      "text/plain": [
       "LGBMClassifier(objective='multiclass')"
      ]
     },
     "execution_count": 32,
     "metadata": {},
     "output_type": "execute_result"
    }
   ],
   "source": [
    "clf = lgbm.LGBMClassifier(objective=obj_par) \n",
    "clf.fit(X_train, y_train)"
   ]
  },
  {
   "cell_type": "code",
   "execution_count": 33,
   "id": "600a663a",
   "metadata": {
    "execution": {
     "iopub.execute_input": "2023-03-21T11:22:26.600057Z",
     "iopub.status.busy": "2023-03-21T11:22:26.598898Z",
     "iopub.status.idle": "2023-03-21T11:22:26.805577Z",
     "shell.execute_reply": "2023-03-21T11:22:26.804587Z"
    },
    "papermill": {
     "duration": 0.224241,
     "end_time": "2023-03-21T11:22:26.807167",
     "exception": false,
     "start_time": "2023-03-21T11:22:26.582926",
     "status": "completed"
    },
    "tags": []
   },
   "outputs": [
    {
     "name": "stdout",
     "output_type": "stream",
     "text": [
      "              precision    recall  f1-score   support\n",
      "\n",
      "   hard-rock       0.35      0.28      0.31      1000\n",
      " heavy-metal       0.56      0.56      0.56      1000\n",
      "       indie       0.41      0.41      0.41      1000\n",
      "    pop-rock       0.38      0.43      0.40      1000\n",
      "   punk-rock       0.43      0.45      0.44      1000\n",
      "\n",
      "    accuracy                           0.43      5000\n",
      "   macro avg       0.42      0.43      0.42      5000\n",
      "weighted avg       0.42      0.43      0.42      5000\n",
      "\n"
     ]
    }
   ],
   "source": [
    "y_pred = clf.predict(X_test)\n",
    "print(classification_report(y_test, y_pred))"
   ]
  },
  {
   "cell_type": "code",
   "execution_count": 34,
   "id": "508d831d",
   "metadata": {
    "execution": {
     "iopub.execute_input": "2023-03-21T11:22:26.836712Z",
     "iopub.status.busy": "2023-03-21T11:22:26.836443Z",
     "iopub.status.idle": "2023-03-21T11:22:26.932396Z",
     "shell.execute_reply": "2023-03-21T11:22:26.931445Z"
    },
    "papermill": {
     "duration": 0.112879,
     "end_time": "2023-03-21T11:22:26.934191",
     "exception": false,
     "start_time": "2023-03-21T11:22:26.821312",
     "status": "completed"
    },
    "tags": []
   },
   "outputs": [],
   "source": [
    "acc = accuracy_score(y_test, y_pred)\n",
    "pre = precision_score(y_test, y_pred, average=avg_par)\n",
    "rec = recall_score(y_test, y_pred, average=avg_par)\n",
    "f1 = f1_score(y_test, y_pred, average=avg_par)\n",
    "\n",
    "metrics_data['Global']['LightGBM'] = {'Accuracy': acc, 'Precision': pre, 'Recall': rec, 'F1': f1}"
   ]
  },
  {
   "cell_type": "markdown",
   "id": "14b86894",
   "metadata": {
    "papermill": {
     "duration": 0.017242,
     "end_time": "2023-03-21T11:22:26.966221",
     "exception": false,
     "start_time": "2023-03-21T11:22:26.948979",
     "status": "completed"
    },
    "tags": []
   },
   "source": [
    "### Time Series Classification"
   ]
  },
  {
   "cell_type": "markdown",
   "id": "84c55533",
   "metadata": {
    "papermill": {
     "duration": 0.015155,
     "end_time": "2023-03-21T11:22:26.999468",
     "exception": false,
     "start_time": "2023-03-21T11:22:26.984313",
     "status": "completed"
    },
    "tags": []
   },
   "source": [
    "#### Learning Shapelets"
   ]
  },
  {
   "cell_type": "code",
   "execution_count": 35,
   "id": "488d8eb7",
   "metadata": {
    "execution": {
     "iopub.execute_input": "2023-03-21T11:22:27.032261Z",
     "iopub.status.busy": "2023-03-21T11:22:27.031426Z",
     "iopub.status.idle": "2023-03-21T11:22:29.538944Z",
     "shell.execute_reply": "2023-03-21T11:22:29.537944Z"
    },
    "papermill": {
     "duration": 2.526744,
     "end_time": "2023-03-21T11:22:29.541180",
     "exception": false,
     "start_time": "2023-03-21T11:22:27.014436",
     "status": "completed"
    },
    "tags": []
   },
   "outputs": [
    {
     "name": "stderr",
     "output_type": "stream",
     "text": [
      "2023-03-21 12:22:27.044077: I tensorflow/core/platform/cpu_feature_guard.cc:193] This TensorFlow binary is optimized with oneAPI Deep Neural Network Library (oneDNN) to use the following CPU instructions in performance-critical operations:  AVX2 FMA\n",
      "To enable them in other operations, rebuild TensorFlow with the appropriate compiler flags.\n",
      "2023-03-21 12:22:27.325003: W tensorflow/compiler/xla/stream_executor/platform/default/dso_loader.cc:64] Could not load dynamic library 'libcudart.so.11.0'; dlerror: libcudart.so.11.0: cannot open shared object file: No such file or directory\n",
      "2023-03-21 12:22:27.325028: I tensorflow/compiler/xla/stream_executor/cuda/cudart_stub.cc:29] Ignore above cudart dlerror if you do not have a GPU set up on your machine.\n"
     ]
    },
    {
     "name": "stderr",
     "output_type": "stream",
     "text": [
      "2023-03-21 12:22:28.422928: W tensorflow/compiler/xla/stream_executor/platform/default/dso_loader.cc:64] Could not load dynamic library 'libnvinfer.so.7'; dlerror: libnvinfer.so.7: cannot open shared object file: No such file or directory\n",
      "2023-03-21 12:22:28.423169: W tensorflow/compiler/xla/stream_executor/platform/default/dso_loader.cc:64] Could not load dynamic library 'libnvinfer_plugin.so.7'; dlerror: libnvinfer_plugin.so.7: cannot open shared object file: No such file or directory\n",
      "2023-03-21 12:22:28.423179: W tensorflow/compiler/tf2tensorrt/utils/py_utils.cc:38] TF-TRT Warning: Cannot dlopen some TensorRT libraries. If you would like to use Nvidia GPU with TensorRT, please make sure the missing libraries mentioned above are installed properly.\n"
     ]
    }
   ],
   "source": [
    "from tslearn.shapelets import LearningShapelets, grabocka_params_to_shapelet_size_dict"
   ]
  },
  {
   "cell_type": "code",
   "execution_count": 36,
   "id": "eb677959",
   "metadata": {
    "execution": {
     "iopub.execute_input": "2023-03-21T11:22:29.579700Z",
     "iopub.status.busy": "2023-03-21T11:22:29.578856Z",
     "iopub.status.idle": "2023-03-21T11:22:29.584205Z",
     "shell.execute_reply": "2023-03-21T11:22:29.583329Z"
    },
    "papermill": {
     "duration": 0.028708,
     "end_time": "2023-03-21T11:22:29.586120",
     "exception": false,
     "start_time": "2023-03-21T11:22:29.557412",
     "status": "completed"
    },
    "tags": []
   },
   "outputs": [],
   "source": [
    "n_ts, ts_sz, _ = ts_train.shape\n",
    "n_classes = len(set(y_train))"
   ]
  },
  {
   "cell_type": "code",
   "execution_count": 37,
   "id": "776ed3dd",
   "metadata": {
    "execution": {
     "iopub.execute_input": "2023-03-21T11:22:29.649617Z",
     "iopub.status.busy": "2023-03-21T11:22:29.649122Z",
     "iopub.status.idle": "2023-03-21T11:22:29.656600Z",
     "shell.execute_reply": "2023-03-21T11:22:29.654959Z"
    },
    "papermill": {
     "duration": 0.034421,
     "end_time": "2023-03-21T11:22:29.659138",
     "exception": false,
     "start_time": "2023-03-21T11:22:29.624717",
     "status": "completed"
    },
    "tags": []
   },
   "outputs": [
    {
     "name": "stdout",
     "output_type": "stream",
     "text": [
      "n_ts 20000\n",
      "ts_sz 100\n",
      "n_classes 5\n",
      "shapelet_sizes {10: 6}\n"
     ]
    }
   ],
   "source": [
    "# Set the number of shapelets per size as done in the original paper\n",
    "g_shapelet_sizes = grabocka_params_to_shapelet_size_dict(n_ts=n_ts,\n",
    "                                                         ts_sz=ts_sz,\n",
    "                                                         n_classes=n_classes,\n",
    "                                                         l=0.1,\n",
    "                                                         r=1)\n",
    "\n",
    "print('n_ts', n_ts)\n",
    "print('ts_sz', ts_sz)\n",
    "print('n_classes', n_classes)\n",
    "print('shapelet_sizes', g_shapelet_sizes)"
   ]
  },
  {
   "cell_type": "code",
   "execution_count": 38,
   "id": "90ed707e",
   "metadata": {
    "execution": {
     "iopub.execute_input": "2023-03-21T11:22:29.689856Z",
     "iopub.status.busy": "2023-03-21T11:22:29.688630Z",
     "iopub.status.idle": "2023-03-21T11:22:29.699243Z",
     "shell.execute_reply": "2023-03-21T11:22:29.698078Z"
    },
    "papermill": {
     "duration": 0.027561,
     "end_time": "2023-03-21T11:22:29.701065",
     "exception": false,
     "start_time": "2023-03-21T11:22:29.673504",
     "status": "completed"
    },
    "tags": []
   },
   "outputs": [
    {
     "data": {
      "text/plain": [
       "{10: 6, 20: 6, 5: 6}"
      ]
     },
     "execution_count": 38,
     "metadata": {},
     "output_type": "execute_result"
    }
   ],
   "source": [
    "shapelet_sizes = {}\n",
    "for key in g_shapelet_sizes:\n",
    "    shapelet_sizes[key] = g_shapelet_sizes[key]\n",
    "    shapelet_sizes[key*2] = g_shapelet_sizes[key]\n",
    "    shapelet_sizes[key//2] = g_shapelet_sizes[key]\n",
    "shapelet_sizes"
   ]
  },
  {
   "cell_type": "code",
   "execution_count": 39,
   "id": "3507fb9c",
   "metadata": {
    "execution": {
     "iopub.execute_input": "2023-03-21T11:22:29.730784Z",
     "iopub.status.busy": "2023-03-21T11:22:29.730048Z",
     "iopub.status.idle": "2023-03-21T11:22:29.737250Z",
     "shell.execute_reply": "2023-03-21T11:22:29.736171Z"
    },
    "papermill": {
     "duration": 0.024714,
     "end_time": "2023-03-21T11:22:29.739216",
     "exception": false,
     "start_time": "2023-03-21T11:22:29.714502",
     "status": "completed"
    },
    "tags": []
   },
   "outputs": [
    {
     "name": "stderr",
     "output_type": "stream",
     "text": [
      "/home/mattiapggioli/lyrics2ts/.venv/lib/python3.9/site-packages/tslearn/shapelets/shapelets.py:354: FutureWarning: The default value for 'scale' is set to False in version 0.4 to ensure backward compatibility, but is likely to change in a future version.\n",
      "  warnings.warn(\"The default value for 'scale' is set to False \"\n"
     ]
    }
   ],
   "source": [
    "model = LearningShapelets(n_shapelets_per_size=shapelet_sizes,\n",
    "                          optimizer=\"adam\", \n",
    "                          weight_regularizer=.01, \n",
    "                          max_iter=max_iter, verbose=0, random_state=42)"
   ]
  },
  {
   "cell_type": "code",
   "execution_count": 40,
   "id": "73b1fe2e",
   "metadata": {
    "execution": {
     "iopub.execute_input": "2023-03-21T11:22:29.769189Z",
     "iopub.status.busy": "2023-03-21T11:22:29.768879Z",
     "iopub.status.idle": "2023-03-21T11:54:57.772521Z",
     "shell.execute_reply": "2023-03-21T11:54:57.771464Z"
    },
    "papermill": {
     "duration": 1948.040035,
     "end_time": "2023-03-21T11:54:57.793060",
     "exception": false,
     "start_time": "2023-03-21T11:22:29.753025",
     "status": "completed"
    },
    "tags": []
   },
   "outputs": [
    {
     "name": "stderr",
     "output_type": "stream",
     "text": [
      "2023-03-21 12:22:30.415984: W tensorflow/compiler/xla/stream_executor/platform/default/dso_loader.cc:64] Could not load dynamic library 'libcuda.so.1'; dlerror: libcuda.so.1: cannot open shared object file: No such file or directory\n",
      "2023-03-21 12:22:30.416009: W tensorflow/compiler/xla/stream_executor/cuda/cuda_driver.cc:265] failed call to cuInit: UNKNOWN ERROR (303)\n",
      "2023-03-21 12:22:30.416032: I tensorflow/compiler/xla/stream_executor/cuda/cuda_diagnostics.cc:156] kernel driver does not appear to be running on this host (mattiapggioli-ThinkPad-E595): /proc/driver/nvidia/version does not exist\n",
      "2023-03-21 12:22:30.416258: I tensorflow/core/platform/cpu_feature_guard.cc:193] This TensorFlow binary is optimized with oneAPI Deep Neural Network Library (oneDNN) to use the following CPU instructions in performance-critical operations:  AVX2 FMA\n",
      "To enable them in other operations, rebuild TensorFlow with the appropriate compiler flags.\n"
     ]
    },
    {
     "name": "stdout",
     "output_type": "stream",
     "text": [
      "CPU times: user 2h 47min 24s, sys: 9min 56s, total: 2h 57min 20s\n",
      "Wall time: 32min 27s\n"
     ]
    },
    {
     "data": {
      "text/html": [
       "<style>#sk-container-id-4 {color: black;background-color: white;}#sk-container-id-4 pre{padding: 0;}#sk-container-id-4 div.sk-toggleable {background-color: white;}#sk-container-id-4 label.sk-toggleable__label {cursor: pointer;display: block;width: 100%;margin-bottom: 0;padding: 0.3em;box-sizing: border-box;text-align: center;}#sk-container-id-4 label.sk-toggleable__label-arrow:before {content: \"▸\";float: left;margin-right: 0.25em;color: #696969;}#sk-container-id-4 label.sk-toggleable__label-arrow:hover:before {color: black;}#sk-container-id-4 div.sk-estimator:hover label.sk-toggleable__label-arrow:before {color: black;}#sk-container-id-4 div.sk-toggleable__content {max-height: 0;max-width: 0;overflow: hidden;text-align: left;background-color: #f0f8ff;}#sk-container-id-4 div.sk-toggleable__content pre {margin: 0.2em;color: black;border-radius: 0.25em;background-color: #f0f8ff;}#sk-container-id-4 input.sk-toggleable__control:checked~div.sk-toggleable__content {max-height: 200px;max-width: 100%;overflow: auto;}#sk-container-id-4 input.sk-toggleable__control:checked~label.sk-toggleable__label-arrow:before {content: \"▾\";}#sk-container-id-4 div.sk-estimator input.sk-toggleable__control:checked~label.sk-toggleable__label {background-color: #d4ebff;}#sk-container-id-4 div.sk-label input.sk-toggleable__control:checked~label.sk-toggleable__label {background-color: #d4ebff;}#sk-container-id-4 input.sk-hidden--visually {border: 0;clip: rect(1px 1px 1px 1px);clip: rect(1px, 1px, 1px, 1px);height: 1px;margin: -1px;overflow: hidden;padding: 0;position: absolute;width: 1px;}#sk-container-id-4 div.sk-estimator {font-family: monospace;background-color: #f0f8ff;border: 1px dotted black;border-radius: 0.25em;box-sizing: border-box;margin-bottom: 0.5em;}#sk-container-id-4 div.sk-estimator:hover {background-color: #d4ebff;}#sk-container-id-4 div.sk-parallel-item::after {content: \"\";width: 100%;border-bottom: 1px solid gray;flex-grow: 1;}#sk-container-id-4 div.sk-label:hover label.sk-toggleable__label {background-color: #d4ebff;}#sk-container-id-4 div.sk-serial::before {content: \"\";position: absolute;border-left: 1px solid gray;box-sizing: border-box;top: 0;bottom: 0;left: 50%;z-index: 0;}#sk-container-id-4 div.sk-serial {display: flex;flex-direction: column;align-items: center;background-color: white;padding-right: 0.2em;padding-left: 0.2em;position: relative;}#sk-container-id-4 div.sk-item {position: relative;z-index: 1;}#sk-container-id-4 div.sk-parallel {display: flex;align-items: stretch;justify-content: center;background-color: white;position: relative;}#sk-container-id-4 div.sk-item::before, #sk-container-id-4 div.sk-parallel-item::before {content: \"\";position: absolute;border-left: 1px solid gray;box-sizing: border-box;top: 0;bottom: 0;left: 50%;z-index: -1;}#sk-container-id-4 div.sk-parallel-item {display: flex;flex-direction: column;z-index: 1;position: relative;background-color: white;}#sk-container-id-4 div.sk-parallel-item:first-child::after {align-self: flex-end;width: 50%;}#sk-container-id-4 div.sk-parallel-item:last-child::after {align-self: flex-start;width: 50%;}#sk-container-id-4 div.sk-parallel-item:only-child::after {width: 0;}#sk-container-id-4 div.sk-dashed-wrapped {border: 1px dashed gray;margin: 0 0.4em 0.5em 0.4em;box-sizing: border-box;padding-bottom: 0.4em;background-color: white;}#sk-container-id-4 div.sk-label label {font-family: monospace;font-weight: bold;display: inline-block;line-height: 1.2em;}#sk-container-id-4 div.sk-label-container {text-align: center;}#sk-container-id-4 div.sk-container {/* jupyter's `normalize.less` sets `[hidden] { display: none; }` but bootstrap.min.css set `[hidden] { display: none !important; }` so we also need the `!important` here to be able to override the default hidden behavior on the sphinx rendered scikit-learn.org. See: https://github.com/scikit-learn/scikit-learn/issues/21755 */display: inline-block !important;position: relative;}#sk-container-id-4 div.sk-text-repr-fallback {display: none;}</style><div id=\"sk-container-id-4\" class=\"sk-top-container\"><div class=\"sk-text-repr-fallback\"><pre>LearningShapelets(max_iter=2000, n_shapelets_per_size={5: 6, 10: 6, 20: 6},\n",
       "                  optimizer=&#x27;adam&#x27;, random_state=42, weight_regularizer=0.01)</pre><b>In a Jupyter environment, please rerun this cell to show the HTML representation or trust the notebook. <br />On GitHub, the HTML representation is unable to render, please try loading this page with nbviewer.org.</b></div><div class=\"sk-container\" hidden><div class=\"sk-item\"><div class=\"sk-estimator sk-toggleable\"><input class=\"sk-toggleable__control sk-hidden--visually\" id=\"sk-estimator-id-4\" type=\"checkbox\" checked><label for=\"sk-estimator-id-4\" class=\"sk-toggleable__label sk-toggleable__label-arrow\">LearningShapelets</label><div class=\"sk-toggleable__content\"><pre>LearningShapelets(max_iter=2000, n_shapelets_per_size={5: 6, 10: 6, 20: 6},\n",
       "                  optimizer=&#x27;adam&#x27;, random_state=42, weight_regularizer=0.01)</pre></div></div></div></div></div>"
      ],
      "text/plain": [
       "LearningShapelets(max_iter=2000, n_shapelets_per_size={5: 6, 10: 6, 20: 6},\n",
       "                  optimizer='adam', random_state=42, weight_regularizer=0.01)"
      ]
     },
     "execution_count": 40,
     "metadata": {},
     "output_type": "execute_result"
    }
   ],
   "source": [
    "%%time\n",
    "model.fit(ts_train, y_train)"
   ]
  },
  {
   "cell_type": "code",
   "execution_count": 41,
   "id": "51706baa",
   "metadata": {
    "execution": {
     "iopub.execute_input": "2023-03-21T11:54:57.829187Z",
     "iopub.status.busy": "2023-03-21T11:54:57.828103Z",
     "iopub.status.idle": "2023-03-21T11:54:57.868859Z",
     "shell.execute_reply": "2023-03-21T11:54:57.867330Z"
    },
    "papermill": {
     "duration": 0.061839,
     "end_time": "2023-03-21T11:54:57.872524",
     "exception": false,
     "start_time": "2023-03-21T11:54:57.810685",
     "status": "completed"
    },
    "tags": []
   },
   "outputs": [],
   "source": [
    "model.to_pickle(f'{data_path}/shapelets.pkl')"
   ]
  },
  {
   "cell_type": "markdown",
   "id": "309f70dc",
   "metadata": {
    "papermill": {
     "duration": 0.016504,
     "end_time": "2023-03-21T11:54:57.921767",
     "exception": false,
     "start_time": "2023-03-21T11:54:57.905263",
     "status": "completed"
    },
    "tags": []
   },
   "source": [
    "#### Shapelet-Based Classification"
   ]
  },
  {
   "cell_type": "code",
   "execution_count": 42,
   "id": "60125dff",
   "metadata": {
    "execution": {
     "iopub.execute_input": "2023-03-21T11:54:57.956320Z",
     "iopub.status.busy": "2023-03-21T11:54:57.955417Z",
     "iopub.status.idle": "2023-03-21T11:54:57.961366Z",
     "shell.execute_reply": "2023-03-21T11:54:57.960215Z"
    },
    "papermill": {
     "duration": 0.026089,
     "end_time": "2023-03-21T11:54:57.963563",
     "exception": false,
     "start_time": "2023-03-21T11:54:57.937474",
     "status": "completed"
    },
    "tags": []
   },
   "outputs": [],
   "source": [
    "metrics_data['Shapelets'] = {}"
   ]
  },
  {
   "cell_type": "code",
   "execution_count": 43,
   "id": "efb8984d",
   "metadata": {
    "execution": {
     "iopub.execute_input": "2023-03-21T11:54:58.002560Z",
     "iopub.status.busy": "2023-03-21T11:54:58.001285Z",
     "iopub.status.idle": "2023-03-21T11:55:00.087851Z",
     "shell.execute_reply": "2023-03-21T11:55:00.087070Z"
    },
    "papermill": {
     "duration": 2.111896,
     "end_time": "2023-03-21T11:55:00.091032",
     "exception": false,
     "start_time": "2023-03-21T11:54:57.979136",
     "status": "completed"
    },
    "tags": []
   },
   "outputs": [],
   "source": [
    "X_train = model.transform(ts_train)\n",
    "X_test = model.transform(ts_test)"
   ]
  },
  {
   "cell_type": "code",
   "execution_count": 44,
   "id": "2e6c0f22",
   "metadata": {
    "execution": {
     "iopub.execute_input": "2023-03-21T11:55:00.189861Z",
     "iopub.status.busy": "2023-03-21T11:55:00.189244Z",
     "iopub.status.idle": "2023-03-21T11:55:00.237650Z",
     "shell.execute_reply": "2023-03-21T11:55:00.236682Z"
    },
    "papermill": {
     "duration": 0.102977,
     "end_time": "2023-03-21T11:55:00.241453",
     "exception": false,
     "start_time": "2023-03-21T11:55:00.138476",
     "status": "completed"
    },
    "tags": []
   },
   "outputs": [
    {
     "data": {
      "text/html": [
       "<div>\n",
       "<style scoped>\n",
       "    .dataframe tbody tr th:only-of-type {\n",
       "        vertical-align: middle;\n",
       "    }\n",
       "\n",
       "    .dataframe tbody tr th {\n",
       "        vertical-align: top;\n",
       "    }\n",
       "\n",
       "    .dataframe thead th {\n",
       "        text-align: right;\n",
       "    }\n",
       "</style>\n",
       "<table border=\"1\" class=\"dataframe\">\n",
       "  <thead>\n",
       "    <tr style=\"text-align: right;\">\n",
       "      <th></th>\n",
       "      <th>0</th>\n",
       "      <th>1</th>\n",
       "      <th>2</th>\n",
       "      <th>3</th>\n",
       "      <th>4</th>\n",
       "      <th>5</th>\n",
       "      <th>6</th>\n",
       "      <th>7</th>\n",
       "      <th>8</th>\n",
       "      <th>9</th>\n",
       "      <th>10</th>\n",
       "      <th>11</th>\n",
       "      <th>12</th>\n",
       "      <th>13</th>\n",
       "      <th>14</th>\n",
       "      <th>15</th>\n",
       "      <th>16</th>\n",
       "      <th>17</th>\n",
       "    </tr>\n",
       "  </thead>\n",
       "  <tbody>\n",
       "    <tr>\n",
       "      <th>0</th>\n",
       "      <td>2.561796</td>\n",
       "      <td>0.489794</td>\n",
       "      <td>2.005792</td>\n",
       "      <td>1.960105</td>\n",
       "      <td>9.954030</td>\n",
       "      <td>0.433375</td>\n",
       "      <td>0.896573</td>\n",
       "      <td>0.847456</td>\n",
       "      <td>7.000573</td>\n",
       "      <td>1.727940</td>\n",
       "      <td>1.712793</td>\n",
       "      <td>1.066543</td>\n",
       "      <td>0.235081</td>\n",
       "      <td>2.063320</td>\n",
       "      <td>0.217665</td>\n",
       "      <td>4.733079</td>\n",
       "      <td>0.377858</td>\n",
       "      <td>0.225435</td>\n",
       "    </tr>\n",
       "    <tr>\n",
       "      <th>1</th>\n",
       "      <td>5.142774</td>\n",
       "      <td>0.094817</td>\n",
       "      <td>0.298679</td>\n",
       "      <td>2.035856</td>\n",
       "      <td>4.733151</td>\n",
       "      <td>1.038407</td>\n",
       "      <td>0.040405</td>\n",
       "      <td>0.061776</td>\n",
       "      <td>3.388651</td>\n",
       "      <td>2.206513</td>\n",
       "      <td>3.627019</td>\n",
       "      <td>0.020096</td>\n",
       "      <td>0.608932</td>\n",
       "      <td>0.309280</td>\n",
       "      <td>1.263902</td>\n",
       "      <td>1.496439</td>\n",
       "      <td>0.426142</td>\n",
       "      <td>0.978785</td>\n",
       "    </tr>\n",
       "    <tr>\n",
       "      <th>2</th>\n",
       "      <td>4.419401</td>\n",
       "      <td>0.044748</td>\n",
       "      <td>0.421439</td>\n",
       "      <td>0.733025</td>\n",
       "      <td>6.779316</td>\n",
       "      <td>0.239445</td>\n",
       "      <td>0.154386</td>\n",
       "      <td>0.141660</td>\n",
       "      <td>4.617734</td>\n",
       "      <td>1.870485</td>\n",
       "      <td>2.779000</td>\n",
       "      <td>0.217729</td>\n",
       "      <td>0.211310</td>\n",
       "      <td>0.735370</td>\n",
       "      <td>0.761057</td>\n",
       "      <td>2.461777</td>\n",
       "      <td>0.165943</td>\n",
       "      <td>0.529549</td>\n",
       "    </tr>\n",
       "    <tr>\n",
       "      <th>3</th>\n",
       "      <td>4.648868</td>\n",
       "      <td>0.037000</td>\n",
       "      <td>0.350445</td>\n",
       "      <td>1.660696</td>\n",
       "      <td>4.683021</td>\n",
       "      <td>0.461342</td>\n",
       "      <td>0.058589</td>\n",
       "      <td>0.063816</td>\n",
       "      <td>3.586828</td>\n",
       "      <td>1.507183</td>\n",
       "      <td>2.804690</td>\n",
       "      <td>0.083256</td>\n",
       "      <td>0.356589</td>\n",
       "      <td>0.522443</td>\n",
       "      <td>0.877166</td>\n",
       "      <td>2.034925</td>\n",
       "      <td>0.245184</td>\n",
       "      <td>0.688554</td>\n",
       "    </tr>\n",
       "    <tr>\n",
       "      <th>4</th>\n",
       "      <td>1.036167</td>\n",
       "      <td>0.263795</td>\n",
       "      <td>0.362512</td>\n",
       "      <td>1.280267</td>\n",
       "      <td>4.707231</td>\n",
       "      <td>0.591148</td>\n",
       "      <td>0.540782</td>\n",
       "      <td>0.485291</td>\n",
       "      <td>6.047353</td>\n",
       "      <td>1.775489</td>\n",
       "      <td>1.509512</td>\n",
       "      <td>0.677635</td>\n",
       "      <td>0.139193</td>\n",
       "      <td>1.422462</td>\n",
       "      <td>0.348045</td>\n",
       "      <td>3.632749</td>\n",
       "      <td>0.209645</td>\n",
       "      <td>0.256753</td>\n",
       "    </tr>\n",
       "    <tr>\n",
       "      <th>...</th>\n",
       "      <td>...</td>\n",
       "      <td>...</td>\n",
       "      <td>...</td>\n",
       "      <td>...</td>\n",
       "      <td>...</td>\n",
       "      <td>...</td>\n",
       "      <td>...</td>\n",
       "      <td>...</td>\n",
       "      <td>...</td>\n",
       "      <td>...</td>\n",
       "      <td>...</td>\n",
       "      <td>...</td>\n",
       "      <td>...</td>\n",
       "      <td>...</td>\n",
       "      <td>...</td>\n",
       "      <td>...</td>\n",
       "      <td>...</td>\n",
       "      <td>...</td>\n",
       "    </tr>\n",
       "    <tr>\n",
       "      <th>4995</th>\n",
       "      <td>4.420873</td>\n",
       "      <td>0.040151</td>\n",
       "      <td>0.238371</td>\n",
       "      <td>2.238397</td>\n",
       "      <td>5.019074</td>\n",
       "      <td>0.733300</td>\n",
       "      <td>0.053299</td>\n",
       "      <td>0.065230</td>\n",
       "      <td>1.987480</td>\n",
       "      <td>1.401932</td>\n",
       "      <td>3.180676</td>\n",
       "      <td>0.074257</td>\n",
       "      <td>0.374593</td>\n",
       "      <td>0.501078</td>\n",
       "      <td>1.118305</td>\n",
       "      <td>1.986737</td>\n",
       "      <td>0.256312</td>\n",
       "      <td>0.782191</td>\n",
       "    </tr>\n",
       "    <tr>\n",
       "      <th>4996</th>\n",
       "      <td>8.357825</td>\n",
       "      <td>0.819186</td>\n",
       "      <td>0.999027</td>\n",
       "      <td>1.918924</td>\n",
       "      <td>3.557176</td>\n",
       "      <td>2.001376</td>\n",
       "      <td>0.469601</td>\n",
       "      <td>0.574224</td>\n",
       "      <td>4.839880</td>\n",
       "      <td>3.049453</td>\n",
       "      <td>6.855350</td>\n",
       "      <td>0.331225</td>\n",
       "      <td>1.784732</td>\n",
       "      <td>0.226637</td>\n",
       "      <td>3.269932</td>\n",
       "      <td>0.550118</td>\n",
       "      <td>1.378108</td>\n",
       "      <td>2.653659</td>\n",
       "    </tr>\n",
       "    <tr>\n",
       "      <th>4997</th>\n",
       "      <td>0.613670</td>\n",
       "      <td>0.763672</td>\n",
       "      <td>2.467518</td>\n",
       "      <td>3.015762</td>\n",
       "      <td>11.005756</td>\n",
       "      <td>0.497853</td>\n",
       "      <td>1.892586</td>\n",
       "      <td>1.841048</td>\n",
       "      <td>7.532602</td>\n",
       "      <td>2.684197</td>\n",
       "      <td>1.804514</td>\n",
       "      <td>2.126617</td>\n",
       "      <td>0.741698</td>\n",
       "      <td>3.401175</td>\n",
       "      <td>0.303154</td>\n",
       "      <td>6.461170</td>\n",
       "      <td>0.988489</td>\n",
       "      <td>0.479573</td>\n",
       "    </tr>\n",
       "    <tr>\n",
       "      <th>4998</th>\n",
       "      <td>1.808363</td>\n",
       "      <td>0.043136</td>\n",
       "      <td>0.416500</td>\n",
       "      <td>2.847414</td>\n",
       "      <td>6.487083</td>\n",
       "      <td>0.737618</td>\n",
       "      <td>0.580804</td>\n",
       "      <td>0.527325</td>\n",
       "      <td>5.215219</td>\n",
       "      <td>1.816851</td>\n",
       "      <td>2.256777</td>\n",
       "      <td>0.698334</td>\n",
       "      <td>0.145491</td>\n",
       "      <td>1.217741</td>\n",
       "      <td>0.325042</td>\n",
       "      <td>2.708821</td>\n",
       "      <td>0.225451</td>\n",
       "      <td>0.245640</td>\n",
       "    </tr>\n",
       "    <tr>\n",
       "      <th>4999</th>\n",
       "      <td>5.327735</td>\n",
       "      <td>0.276903</td>\n",
       "      <td>0.070983</td>\n",
       "      <td>1.542252</td>\n",
       "      <td>3.513325</td>\n",
       "      <td>1.402457</td>\n",
       "      <td>0.106606</td>\n",
       "      <td>0.165414</td>\n",
       "      <td>2.896961</td>\n",
       "      <td>1.842950</td>\n",
       "      <td>4.827336</td>\n",
       "      <td>0.046985</td>\n",
       "      <td>0.930511</td>\n",
       "      <td>0.198803</td>\n",
       "      <td>2.050495</td>\n",
       "      <td>1.074207</td>\n",
       "      <td>0.666407</td>\n",
       "      <td>1.584441</td>\n",
       "    </tr>\n",
       "  </tbody>\n",
       "</table>\n",
       "<p>5000 rows × 18 columns</p>\n",
       "</div>"
      ],
      "text/plain": [
       "            0         1         2         3          4         5         6   \\\n",
       "0     2.561796  0.489794  2.005792  1.960105   9.954030  0.433375  0.896573   \n",
       "1     5.142774  0.094817  0.298679  2.035856   4.733151  1.038407  0.040405   \n",
       "2     4.419401  0.044748  0.421439  0.733025   6.779316  0.239445  0.154386   \n",
       "3     4.648868  0.037000  0.350445  1.660696   4.683021  0.461342  0.058589   \n",
       "4     1.036167  0.263795  0.362512  1.280267   4.707231  0.591148  0.540782   \n",
       "...        ...       ...       ...       ...        ...       ...       ...   \n",
       "4995  4.420873  0.040151  0.238371  2.238397   5.019074  0.733300  0.053299   \n",
       "4996  8.357825  0.819186  0.999027  1.918924   3.557176  2.001376  0.469601   \n",
       "4997  0.613670  0.763672  2.467518  3.015762  11.005756  0.497853  1.892586   \n",
       "4998  1.808363  0.043136  0.416500  2.847414   6.487083  0.737618  0.580804   \n",
       "4999  5.327735  0.276903  0.070983  1.542252   3.513325  1.402457  0.106606   \n",
       "\n",
       "            7         8         9         10        11        12        13  \\\n",
       "0     0.847456  7.000573  1.727940  1.712793  1.066543  0.235081  2.063320   \n",
       "1     0.061776  3.388651  2.206513  3.627019  0.020096  0.608932  0.309280   \n",
       "2     0.141660  4.617734  1.870485  2.779000  0.217729  0.211310  0.735370   \n",
       "3     0.063816  3.586828  1.507183  2.804690  0.083256  0.356589  0.522443   \n",
       "4     0.485291  6.047353  1.775489  1.509512  0.677635  0.139193  1.422462   \n",
       "...        ...       ...       ...       ...       ...       ...       ...   \n",
       "4995  0.065230  1.987480  1.401932  3.180676  0.074257  0.374593  0.501078   \n",
       "4996  0.574224  4.839880  3.049453  6.855350  0.331225  1.784732  0.226637   \n",
       "4997  1.841048  7.532602  2.684197  1.804514  2.126617  0.741698  3.401175   \n",
       "4998  0.527325  5.215219  1.816851  2.256777  0.698334  0.145491  1.217741   \n",
       "4999  0.165414  2.896961  1.842950  4.827336  0.046985  0.930511  0.198803   \n",
       "\n",
       "            14        15        16        17  \n",
       "0     0.217665  4.733079  0.377858  0.225435  \n",
       "1     1.263902  1.496439  0.426142  0.978785  \n",
       "2     0.761057  2.461777  0.165943  0.529549  \n",
       "3     0.877166  2.034925  0.245184  0.688554  \n",
       "4     0.348045  3.632749  0.209645  0.256753  \n",
       "...        ...       ...       ...       ...  \n",
       "4995  1.118305  1.986737  0.256312  0.782191  \n",
       "4996  3.269932  0.550118  1.378108  2.653659  \n",
       "4997  0.303154  6.461170  0.988489  0.479573  \n",
       "4998  0.325042  2.708821  0.225451  0.245640  \n",
       "4999  2.050495  1.074207  0.666407  1.584441  \n",
       "\n",
       "[5000 rows x 18 columns]"
      ]
     },
     "execution_count": 44,
     "metadata": {},
     "output_type": "execute_result"
    }
   ],
   "source": [
    "pd.DataFrame(X_test)"
   ]
  },
  {
   "cell_type": "markdown",
   "id": "5fa024f7",
   "metadata": {
    "execution": {
     "iopub.execute_input": "2023-02-07T23:47:19.876941Z",
     "iopub.status.busy": "2023-02-07T23:47:19.876424Z",
     "iopub.status.idle": "2023-02-07T23:47:20.399488Z",
     "shell.execute_reply": "2023-02-07T23:47:20.398142Z"
    },
    "papermill": {
     "duration": 0.032034,
     "end_time": "2023-03-21T11:55:00.318879",
     "exception": false,
     "start_time": "2023-03-21T11:55:00.286845",
     "status": "completed"
    },
    "tags": []
   },
   "source": [
    "**Decision Tree**"
   ]
  },
  {
   "cell_type": "code",
   "execution_count": 45,
   "id": "4f5400c9",
   "metadata": {
    "execution": {
     "iopub.execute_input": "2023-03-21T11:55:00.369664Z",
     "iopub.status.busy": "2023-03-21T11:55:00.368407Z",
     "iopub.status.idle": "2023-03-21T11:55:01.130458Z",
     "shell.execute_reply": "2023-03-21T11:55:01.129869Z"
    },
    "papermill": {
     "duration": 0.789836,
     "end_time": "2023-03-21T11:55:01.132960",
     "exception": false,
     "start_time": "2023-03-21T11:55:00.343124",
     "status": "completed"
    },
    "tags": []
   },
   "outputs": [
    {
     "data": {
      "text/html": [
       "<style>#sk-container-id-5 {color: black;background-color: white;}#sk-container-id-5 pre{padding: 0;}#sk-container-id-5 div.sk-toggleable {background-color: white;}#sk-container-id-5 label.sk-toggleable__label {cursor: pointer;display: block;width: 100%;margin-bottom: 0;padding: 0.3em;box-sizing: border-box;text-align: center;}#sk-container-id-5 label.sk-toggleable__label-arrow:before {content: \"▸\";float: left;margin-right: 0.25em;color: #696969;}#sk-container-id-5 label.sk-toggleable__label-arrow:hover:before {color: black;}#sk-container-id-5 div.sk-estimator:hover label.sk-toggleable__label-arrow:before {color: black;}#sk-container-id-5 div.sk-toggleable__content {max-height: 0;max-width: 0;overflow: hidden;text-align: left;background-color: #f0f8ff;}#sk-container-id-5 div.sk-toggleable__content pre {margin: 0.2em;color: black;border-radius: 0.25em;background-color: #f0f8ff;}#sk-container-id-5 input.sk-toggleable__control:checked~div.sk-toggleable__content {max-height: 200px;max-width: 100%;overflow: auto;}#sk-container-id-5 input.sk-toggleable__control:checked~label.sk-toggleable__label-arrow:before {content: \"▾\";}#sk-container-id-5 div.sk-estimator input.sk-toggleable__control:checked~label.sk-toggleable__label {background-color: #d4ebff;}#sk-container-id-5 div.sk-label input.sk-toggleable__control:checked~label.sk-toggleable__label {background-color: #d4ebff;}#sk-container-id-5 input.sk-hidden--visually {border: 0;clip: rect(1px 1px 1px 1px);clip: rect(1px, 1px, 1px, 1px);height: 1px;margin: -1px;overflow: hidden;padding: 0;position: absolute;width: 1px;}#sk-container-id-5 div.sk-estimator {font-family: monospace;background-color: #f0f8ff;border: 1px dotted black;border-radius: 0.25em;box-sizing: border-box;margin-bottom: 0.5em;}#sk-container-id-5 div.sk-estimator:hover {background-color: #d4ebff;}#sk-container-id-5 div.sk-parallel-item::after {content: \"\";width: 100%;border-bottom: 1px solid gray;flex-grow: 1;}#sk-container-id-5 div.sk-label:hover label.sk-toggleable__label {background-color: #d4ebff;}#sk-container-id-5 div.sk-serial::before {content: \"\";position: absolute;border-left: 1px solid gray;box-sizing: border-box;top: 0;bottom: 0;left: 50%;z-index: 0;}#sk-container-id-5 div.sk-serial {display: flex;flex-direction: column;align-items: center;background-color: white;padding-right: 0.2em;padding-left: 0.2em;position: relative;}#sk-container-id-5 div.sk-item {position: relative;z-index: 1;}#sk-container-id-5 div.sk-parallel {display: flex;align-items: stretch;justify-content: center;background-color: white;position: relative;}#sk-container-id-5 div.sk-item::before, #sk-container-id-5 div.sk-parallel-item::before {content: \"\";position: absolute;border-left: 1px solid gray;box-sizing: border-box;top: 0;bottom: 0;left: 50%;z-index: -1;}#sk-container-id-5 div.sk-parallel-item {display: flex;flex-direction: column;z-index: 1;position: relative;background-color: white;}#sk-container-id-5 div.sk-parallel-item:first-child::after {align-self: flex-end;width: 50%;}#sk-container-id-5 div.sk-parallel-item:last-child::after {align-self: flex-start;width: 50%;}#sk-container-id-5 div.sk-parallel-item:only-child::after {width: 0;}#sk-container-id-5 div.sk-dashed-wrapped {border: 1px dashed gray;margin: 0 0.4em 0.5em 0.4em;box-sizing: border-box;padding-bottom: 0.4em;background-color: white;}#sk-container-id-5 div.sk-label label {font-family: monospace;font-weight: bold;display: inline-block;line-height: 1.2em;}#sk-container-id-5 div.sk-label-container {text-align: center;}#sk-container-id-5 div.sk-container {/* jupyter's `normalize.less` sets `[hidden] { display: none; }` but bootstrap.min.css set `[hidden] { display: none !important; }` so we also need the `!important` here to be able to override the default hidden behavior on the sphinx rendered scikit-learn.org. See: https://github.com/scikit-learn/scikit-learn/issues/21755 */display: inline-block !important;position: relative;}#sk-container-id-5 div.sk-text-repr-fallback {display: none;}</style><div id=\"sk-container-id-5\" class=\"sk-top-container\"><div class=\"sk-text-repr-fallback\"><pre>DecisionTreeClassifier(random_state=42)</pre><b>In a Jupyter environment, please rerun this cell to show the HTML representation or trust the notebook. <br />On GitHub, the HTML representation is unable to render, please try loading this page with nbviewer.org.</b></div><div class=\"sk-container\" hidden><div class=\"sk-item\"><div class=\"sk-estimator sk-toggleable\"><input class=\"sk-toggleable__control sk-hidden--visually\" id=\"sk-estimator-id-5\" type=\"checkbox\" checked><label for=\"sk-estimator-id-5\" class=\"sk-toggleable__label sk-toggleable__label-arrow\">DecisionTreeClassifier</label><div class=\"sk-toggleable__content\"><pre>DecisionTreeClassifier(random_state=42)</pre></div></div></div></div></div>"
      ],
      "text/plain": [
       "DecisionTreeClassifier(random_state=42)"
      ]
     },
     "execution_count": 45,
     "metadata": {},
     "output_type": "execute_result"
    }
   ],
   "source": [
    "clf = DecisionTreeClassifier(random_state=42)\n",
    "clf.fit(X_train, y_train)"
   ]
  },
  {
   "cell_type": "code",
   "execution_count": 46,
   "id": "3b56d190",
   "metadata": {
    "execution": {
     "iopub.execute_input": "2023-03-21T11:55:01.165807Z",
     "iopub.status.busy": "2023-03-21T11:55:01.165497Z",
     "iopub.status.idle": "2023-03-21T11:55:01.292906Z",
     "shell.execute_reply": "2023-03-21T11:55:01.291500Z"
    },
    "papermill": {
     "duration": 0.145827,
     "end_time": "2023-03-21T11:55:01.295166",
     "exception": false,
     "start_time": "2023-03-21T11:55:01.149339",
     "status": "completed"
    },
    "tags": []
   },
   "outputs": [
    {
     "name": "stdout",
     "output_type": "stream",
     "text": [
      "              precision    recall  f1-score   support\n",
      "\n",
      "   hard-rock       0.22      0.22      0.22      1000\n",
      " heavy-metal       0.29      0.28      0.29      1000\n",
      "       indie       0.22      0.22      0.22      1000\n",
      "    pop-rock       0.23      0.22      0.23      1000\n",
      "   punk-rock       0.23      0.24      0.23      1000\n",
      "\n",
      "    accuracy                           0.24      5000\n",
      "   macro avg       0.24      0.24      0.24      5000\n",
      "weighted avg       0.24      0.24      0.24      5000\n",
      "\n"
     ]
    }
   ],
   "source": [
    "y_pred = clf.predict(X_test)\n",
    "print(classification_report(y_test, y_pred))"
   ]
  },
  {
   "cell_type": "code",
   "execution_count": 47,
   "id": "42bc91ff",
   "metadata": {
    "execution": {
     "iopub.execute_input": "2023-03-21T11:55:01.339824Z",
     "iopub.status.busy": "2023-03-21T11:55:01.338665Z",
     "iopub.status.idle": "2023-03-21T11:55:01.350944Z",
     "shell.execute_reply": "2023-03-21T11:55:01.349858Z"
    },
    "papermill": {
     "duration": 0.034333,
     "end_time": "2023-03-21T11:55:01.353137",
     "exception": false,
     "start_time": "2023-03-21T11:55:01.318804",
     "status": "completed"
    },
    "tags": []
   },
   "outputs": [],
   "source": [
    "pickle.dump(clf, open(f'{data_path}/decision_tree.pkl', 'wb'))"
   ]
  },
  {
   "cell_type": "code",
   "execution_count": 48,
   "id": "ea9be210",
   "metadata": {
    "execution": {
     "iopub.execute_input": "2023-03-21T11:55:01.394240Z",
     "iopub.status.busy": "2023-03-21T11:55:01.393548Z",
     "iopub.status.idle": "2023-03-21T11:55:01.529674Z",
     "shell.execute_reply": "2023-03-21T11:55:01.528566Z"
    },
    "papermill": {
     "duration": 0.161625,
     "end_time": "2023-03-21T11:55:01.532684",
     "exception": false,
     "start_time": "2023-03-21T11:55:01.371059",
     "status": "completed"
    },
    "tags": []
   },
   "outputs": [],
   "source": [
    "acc = accuracy_score(y_test, y_pred)\n",
    "pre = precision_score(y_test, y_pred, average=avg_par)\n",
    "rec = recall_score(y_test, y_pred, average=avg_par)\n",
    "f1 = f1_score(y_test, y_pred, average=avg_par)\n",
    "\n",
    "metrics_data['Shapelets']['DecisionTree'] = {'Accuracy': acc, 'Precision': pre, 'Recall': rec, 'F1': f1}"
   ]
  },
  {
   "cell_type": "markdown",
   "id": "3ca3443b",
   "metadata": {
    "papermill": {
     "duration": 0.015165,
     "end_time": "2023-03-21T11:55:01.565107",
     "exception": false,
     "start_time": "2023-03-21T11:55:01.549942",
     "status": "completed"
    },
    "tags": []
   },
   "source": [
    "**Random Forest**"
   ]
  },
  {
   "cell_type": "code",
   "execution_count": 49,
   "id": "37795e21",
   "metadata": {
    "execution": {
     "iopub.execute_input": "2023-03-21T11:55:01.607453Z",
     "iopub.status.busy": "2023-03-21T11:55:01.606005Z",
     "iopub.status.idle": "2023-03-21T11:55:12.792402Z",
     "shell.execute_reply": "2023-03-21T11:55:12.791328Z"
    },
    "papermill": {
     "duration": 11.214496,
     "end_time": "2023-03-21T11:55:12.796587",
     "exception": false,
     "start_time": "2023-03-21T11:55:01.582091",
     "status": "completed"
    },
    "tags": []
   },
   "outputs": [
    {
     "data": {
      "text/html": [
       "<style>#sk-container-id-6 {color: black;background-color: white;}#sk-container-id-6 pre{padding: 0;}#sk-container-id-6 div.sk-toggleable {background-color: white;}#sk-container-id-6 label.sk-toggleable__label {cursor: pointer;display: block;width: 100%;margin-bottom: 0;padding: 0.3em;box-sizing: border-box;text-align: center;}#sk-container-id-6 label.sk-toggleable__label-arrow:before {content: \"▸\";float: left;margin-right: 0.25em;color: #696969;}#sk-container-id-6 label.sk-toggleable__label-arrow:hover:before {color: black;}#sk-container-id-6 div.sk-estimator:hover label.sk-toggleable__label-arrow:before {color: black;}#sk-container-id-6 div.sk-toggleable__content {max-height: 0;max-width: 0;overflow: hidden;text-align: left;background-color: #f0f8ff;}#sk-container-id-6 div.sk-toggleable__content pre {margin: 0.2em;color: black;border-radius: 0.25em;background-color: #f0f8ff;}#sk-container-id-6 input.sk-toggleable__control:checked~div.sk-toggleable__content {max-height: 200px;max-width: 100%;overflow: auto;}#sk-container-id-6 input.sk-toggleable__control:checked~label.sk-toggleable__label-arrow:before {content: \"▾\";}#sk-container-id-6 div.sk-estimator input.sk-toggleable__control:checked~label.sk-toggleable__label {background-color: #d4ebff;}#sk-container-id-6 div.sk-label input.sk-toggleable__control:checked~label.sk-toggleable__label {background-color: #d4ebff;}#sk-container-id-6 input.sk-hidden--visually {border: 0;clip: rect(1px 1px 1px 1px);clip: rect(1px, 1px, 1px, 1px);height: 1px;margin: -1px;overflow: hidden;padding: 0;position: absolute;width: 1px;}#sk-container-id-6 div.sk-estimator {font-family: monospace;background-color: #f0f8ff;border: 1px dotted black;border-radius: 0.25em;box-sizing: border-box;margin-bottom: 0.5em;}#sk-container-id-6 div.sk-estimator:hover {background-color: #d4ebff;}#sk-container-id-6 div.sk-parallel-item::after {content: \"\";width: 100%;border-bottom: 1px solid gray;flex-grow: 1;}#sk-container-id-6 div.sk-label:hover label.sk-toggleable__label {background-color: #d4ebff;}#sk-container-id-6 div.sk-serial::before {content: \"\";position: absolute;border-left: 1px solid gray;box-sizing: border-box;top: 0;bottom: 0;left: 50%;z-index: 0;}#sk-container-id-6 div.sk-serial {display: flex;flex-direction: column;align-items: center;background-color: white;padding-right: 0.2em;padding-left: 0.2em;position: relative;}#sk-container-id-6 div.sk-item {position: relative;z-index: 1;}#sk-container-id-6 div.sk-parallel {display: flex;align-items: stretch;justify-content: center;background-color: white;position: relative;}#sk-container-id-6 div.sk-item::before, #sk-container-id-6 div.sk-parallel-item::before {content: \"\";position: absolute;border-left: 1px solid gray;box-sizing: border-box;top: 0;bottom: 0;left: 50%;z-index: -1;}#sk-container-id-6 div.sk-parallel-item {display: flex;flex-direction: column;z-index: 1;position: relative;background-color: white;}#sk-container-id-6 div.sk-parallel-item:first-child::after {align-self: flex-end;width: 50%;}#sk-container-id-6 div.sk-parallel-item:last-child::after {align-self: flex-start;width: 50%;}#sk-container-id-6 div.sk-parallel-item:only-child::after {width: 0;}#sk-container-id-6 div.sk-dashed-wrapped {border: 1px dashed gray;margin: 0 0.4em 0.5em 0.4em;box-sizing: border-box;padding-bottom: 0.4em;background-color: white;}#sk-container-id-6 div.sk-label label {font-family: monospace;font-weight: bold;display: inline-block;line-height: 1.2em;}#sk-container-id-6 div.sk-label-container {text-align: center;}#sk-container-id-6 div.sk-container {/* jupyter's `normalize.less` sets `[hidden] { display: none; }` but bootstrap.min.css set `[hidden] { display: none !important; }` so we also need the `!important` here to be able to override the default hidden behavior on the sphinx rendered scikit-learn.org. See: https://github.com/scikit-learn/scikit-learn/issues/21755 */display: inline-block !important;position: relative;}#sk-container-id-6 div.sk-text-repr-fallback {display: none;}</style><div id=\"sk-container-id-6\" class=\"sk-top-container\"><div class=\"sk-text-repr-fallback\"><pre>RandomForestClassifier(random_state=42)</pre><b>In a Jupyter environment, please rerun this cell to show the HTML representation or trust the notebook. <br />On GitHub, the HTML representation is unable to render, please try loading this page with nbviewer.org.</b></div><div class=\"sk-container\" hidden><div class=\"sk-item\"><div class=\"sk-estimator sk-toggleable\"><input class=\"sk-toggleable__control sk-hidden--visually\" id=\"sk-estimator-id-6\" type=\"checkbox\" checked><label for=\"sk-estimator-id-6\" class=\"sk-toggleable__label sk-toggleable__label-arrow\">RandomForestClassifier</label><div class=\"sk-toggleable__content\"><pre>RandomForestClassifier(random_state=42)</pre></div></div></div></div></div>"
      ],
      "text/plain": [
       "RandomForestClassifier(random_state=42)"
      ]
     },
     "execution_count": 49,
     "metadata": {},
     "output_type": "execute_result"
    }
   ],
   "source": [
    "clf = RandomForestClassifier(random_state=42)\n",
    "clf.fit(X_train, y_train)"
   ]
  },
  {
   "cell_type": "code",
   "execution_count": 50,
   "id": "581ab90a",
   "metadata": {
    "execution": {
     "iopub.execute_input": "2023-03-21T11:55:12.883215Z",
     "iopub.status.busy": "2023-03-21T11:55:12.882523Z",
     "iopub.status.idle": "2023-03-21T11:55:13.174129Z",
     "shell.execute_reply": "2023-03-21T11:55:13.172760Z"
    },
    "papermill": {
     "duration": 0.335127,
     "end_time": "2023-03-21T11:55:13.179287",
     "exception": false,
     "start_time": "2023-03-21T11:55:12.844160",
     "status": "completed"
    },
    "tags": []
   },
   "outputs": [
    {
     "name": "stdout",
     "output_type": "stream",
     "text": [
      "              precision    recall  f1-score   support\n",
      "\n",
      "   hard-rock       0.24      0.21      0.22      1000\n",
      " heavy-metal       0.37      0.41      0.39      1000\n",
      "       indie       0.24      0.23      0.24      1000\n",
      "    pop-rock       0.29      0.36      0.32      1000\n",
      "   punk-rock       0.23      0.19      0.21      1000\n",
      "\n",
      "    accuracy                           0.28      5000\n",
      "   macro avg       0.27      0.28      0.28      5000\n",
      "weighted avg       0.27      0.28      0.28      5000\n",
      "\n"
     ]
    }
   ],
   "source": [
    "y_pred = clf.predict(X_test)\n",
    "print(classification_report(y_test, y_pred))"
   ]
  },
  {
   "cell_type": "code",
   "execution_count": 51,
   "id": "faf1d7f4",
   "metadata": {
    "execution": {
     "iopub.execute_input": "2023-03-21T11:55:13.231634Z",
     "iopub.status.busy": "2023-03-21T11:55:13.231365Z",
     "iopub.status.idle": "2023-03-21T11:55:13.321006Z",
     "shell.execute_reply": "2023-03-21T11:55:13.320338Z"
    },
    "papermill": {
     "duration": 0.112401,
     "end_time": "2023-03-21T11:55:13.324070",
     "exception": false,
     "start_time": "2023-03-21T11:55:13.211669",
     "status": "completed"
    },
    "tags": []
   },
   "outputs": [],
   "source": [
    "acc = accuracy_score(y_test, y_pred)\n",
    "pre = precision_score(y_test, y_pred, average=avg_par)\n",
    "rec = recall_score(y_test, y_pred, average=avg_par)\n",
    "f1 = f1_score(y_test, y_pred, average=avg_par)\n",
    "\n",
    "metrics_data['Shapelets']['RandomForest'] = {'Accuracy': acc, 'Precision': pre, 'Recall': rec, 'F1': f1}"
   ]
  },
  {
   "cell_type": "markdown",
   "id": "61fceefb",
   "metadata": {
    "papermill": {
     "duration": 0.037419,
     "end_time": "2023-03-21T11:55:13.399995",
     "exception": false,
     "start_time": "2023-03-21T11:55:13.362576",
     "status": "completed"
    },
    "tags": []
   },
   "source": [
    "**LightGBM**"
   ]
  },
  {
   "cell_type": "code",
   "execution_count": 52,
   "id": "194189da",
   "metadata": {
    "execution": {
     "iopub.execute_input": "2023-03-21T11:55:13.434022Z",
     "iopub.status.busy": "2023-03-21T11:55:13.433200Z",
     "iopub.status.idle": "2023-03-21T11:55:16.128949Z",
     "shell.execute_reply": "2023-03-21T11:55:16.128173Z"
    },
    "papermill": {
     "duration": 2.716565,
     "end_time": "2023-03-21T11:55:16.132858",
     "exception": false,
     "start_time": "2023-03-21T11:55:13.416293",
     "status": "completed"
    },
    "tags": []
   },
   "outputs": [
    {
     "data": {
      "text/html": [
       "<style>#sk-container-id-7 {color: black;background-color: white;}#sk-container-id-7 pre{padding: 0;}#sk-container-id-7 div.sk-toggleable {background-color: white;}#sk-container-id-7 label.sk-toggleable__label {cursor: pointer;display: block;width: 100%;margin-bottom: 0;padding: 0.3em;box-sizing: border-box;text-align: center;}#sk-container-id-7 label.sk-toggleable__label-arrow:before {content: \"▸\";float: left;margin-right: 0.25em;color: #696969;}#sk-container-id-7 label.sk-toggleable__label-arrow:hover:before {color: black;}#sk-container-id-7 div.sk-estimator:hover label.sk-toggleable__label-arrow:before {color: black;}#sk-container-id-7 div.sk-toggleable__content {max-height: 0;max-width: 0;overflow: hidden;text-align: left;background-color: #f0f8ff;}#sk-container-id-7 div.sk-toggleable__content pre {margin: 0.2em;color: black;border-radius: 0.25em;background-color: #f0f8ff;}#sk-container-id-7 input.sk-toggleable__control:checked~div.sk-toggleable__content {max-height: 200px;max-width: 100%;overflow: auto;}#sk-container-id-7 input.sk-toggleable__control:checked~label.sk-toggleable__label-arrow:before {content: \"▾\";}#sk-container-id-7 div.sk-estimator input.sk-toggleable__control:checked~label.sk-toggleable__label {background-color: #d4ebff;}#sk-container-id-7 div.sk-label input.sk-toggleable__control:checked~label.sk-toggleable__label {background-color: #d4ebff;}#sk-container-id-7 input.sk-hidden--visually {border: 0;clip: rect(1px 1px 1px 1px);clip: rect(1px, 1px, 1px, 1px);height: 1px;margin: -1px;overflow: hidden;padding: 0;position: absolute;width: 1px;}#sk-container-id-7 div.sk-estimator {font-family: monospace;background-color: #f0f8ff;border: 1px dotted black;border-radius: 0.25em;box-sizing: border-box;margin-bottom: 0.5em;}#sk-container-id-7 div.sk-estimator:hover {background-color: #d4ebff;}#sk-container-id-7 div.sk-parallel-item::after {content: \"\";width: 100%;border-bottom: 1px solid gray;flex-grow: 1;}#sk-container-id-7 div.sk-label:hover label.sk-toggleable__label {background-color: #d4ebff;}#sk-container-id-7 div.sk-serial::before {content: \"\";position: absolute;border-left: 1px solid gray;box-sizing: border-box;top: 0;bottom: 0;left: 50%;z-index: 0;}#sk-container-id-7 div.sk-serial {display: flex;flex-direction: column;align-items: center;background-color: white;padding-right: 0.2em;padding-left: 0.2em;position: relative;}#sk-container-id-7 div.sk-item {position: relative;z-index: 1;}#sk-container-id-7 div.sk-parallel {display: flex;align-items: stretch;justify-content: center;background-color: white;position: relative;}#sk-container-id-7 div.sk-item::before, #sk-container-id-7 div.sk-parallel-item::before {content: \"\";position: absolute;border-left: 1px solid gray;box-sizing: border-box;top: 0;bottom: 0;left: 50%;z-index: -1;}#sk-container-id-7 div.sk-parallel-item {display: flex;flex-direction: column;z-index: 1;position: relative;background-color: white;}#sk-container-id-7 div.sk-parallel-item:first-child::after {align-self: flex-end;width: 50%;}#sk-container-id-7 div.sk-parallel-item:last-child::after {align-self: flex-start;width: 50%;}#sk-container-id-7 div.sk-parallel-item:only-child::after {width: 0;}#sk-container-id-7 div.sk-dashed-wrapped {border: 1px dashed gray;margin: 0 0.4em 0.5em 0.4em;box-sizing: border-box;padding-bottom: 0.4em;background-color: white;}#sk-container-id-7 div.sk-label label {font-family: monospace;font-weight: bold;display: inline-block;line-height: 1.2em;}#sk-container-id-7 div.sk-label-container {text-align: center;}#sk-container-id-7 div.sk-container {/* jupyter's `normalize.less` sets `[hidden] { display: none; }` but bootstrap.min.css set `[hidden] { display: none !important; }` so we also need the `!important` here to be able to override the default hidden behavior on the sphinx rendered scikit-learn.org. See: https://github.com/scikit-learn/scikit-learn/issues/21755 */display: inline-block !important;position: relative;}#sk-container-id-7 div.sk-text-repr-fallback {display: none;}</style><div id=\"sk-container-id-7\" class=\"sk-top-container\"><div class=\"sk-text-repr-fallback\"><pre>LGBMClassifier(objective=&#x27;multiclass&#x27;)</pre><b>In a Jupyter environment, please rerun this cell to show the HTML representation or trust the notebook. <br />On GitHub, the HTML representation is unable to render, please try loading this page with nbviewer.org.</b></div><div class=\"sk-container\" hidden><div class=\"sk-item\"><div class=\"sk-estimator sk-toggleable\"><input class=\"sk-toggleable__control sk-hidden--visually\" id=\"sk-estimator-id-7\" type=\"checkbox\" checked><label for=\"sk-estimator-id-7\" class=\"sk-toggleable__label sk-toggleable__label-arrow\">LGBMClassifier</label><div class=\"sk-toggleable__content\"><pre>LGBMClassifier(objective=&#x27;multiclass&#x27;)</pre></div></div></div></div></div>"
      ],
      "text/plain": [
       "LGBMClassifier(objective='multiclass')"
      ]
     },
     "execution_count": 52,
     "metadata": {},
     "output_type": "execute_result"
    }
   ],
   "source": [
    "clf = lgbm.LGBMClassifier(objective=obj_par) \n",
    "clf.fit(X_train, y_train)"
   ]
  },
  {
   "cell_type": "code",
   "execution_count": 53,
   "id": "355a078b",
   "metadata": {
    "execution": {
     "iopub.execute_input": "2023-03-21T11:55:16.231915Z",
     "iopub.status.busy": "2023-03-21T11:55:16.231465Z",
     "iopub.status.idle": "2023-03-21T11:55:16.414096Z",
     "shell.execute_reply": "2023-03-21T11:55:16.413184Z"
    },
    "papermill": {
     "duration": 0.233835,
     "end_time": "2023-03-21T11:55:16.416046",
     "exception": false,
     "start_time": "2023-03-21T11:55:16.182211",
     "status": "completed"
    },
    "tags": []
   },
   "outputs": [
    {
     "name": "stdout",
     "output_type": "stream",
     "text": [
      "              precision    recall  f1-score   support\n",
      "\n",
      "   hard-rock       0.23      0.18      0.20      1000\n",
      " heavy-metal       0.38      0.42      0.40      1000\n",
      "       indie       0.24      0.21      0.23      1000\n",
      "    pop-rock       0.29      0.38      0.33      1000\n",
      "   punk-rock       0.24      0.21      0.22      1000\n",
      "\n",
      "    accuracy                           0.28      5000\n",
      "   macro avg       0.27      0.28      0.28      5000\n",
      "weighted avg       0.27      0.28      0.28      5000\n",
      "\n"
     ]
    }
   ],
   "source": [
    "y_pred = clf.predict(X_test)\n",
    "print(classification_report(y_test, y_pred))"
   ]
  },
  {
   "cell_type": "code",
   "execution_count": 54,
   "id": "f22b911e",
   "metadata": {
    "execution": {
     "iopub.execute_input": "2023-03-21T11:55:16.452597Z",
     "iopub.status.busy": "2023-03-21T11:55:16.452129Z",
     "iopub.status.idle": "2023-03-21T11:55:16.544157Z",
     "shell.execute_reply": "2023-03-21T11:55:16.543516Z"
    },
    "papermill": {
     "duration": 0.112781,
     "end_time": "2023-03-21T11:55:16.546151",
     "exception": false,
     "start_time": "2023-03-21T11:55:16.433370",
     "status": "completed"
    },
    "tags": []
   },
   "outputs": [],
   "source": [
    "acc = accuracy_score(y_test, y_pred)\n",
    "pre = precision_score(y_test, y_pred, average=avg_par)\n",
    "rec = recall_score(y_test, y_pred, average=avg_par)\n",
    "f1 = f1_score(y_test, y_pred, average=avg_par)\n",
    "\n",
    "metrics_data['Shapelets']['LightGBM'] = {'Accuracy': acc, 'Precision': pre, 'Recall': rec, 'F1': f1}"
   ]
  },
  {
   "cell_type": "markdown",
   "id": "0809af9f",
   "metadata": {
    "papermill": {
     "duration": 0.025004,
     "end_time": "2023-03-21T11:55:16.589691",
     "exception": false,
     "start_time": "2023-03-21T11:55:16.564687",
     "status": "completed"
    },
    "tags": []
   },
   "source": [
    "#### KNN"
   ]
  },
  {
   "cell_type": "code",
   "execution_count": 55,
   "id": "1c9237e0",
   "metadata": {
    "execution": {
     "iopub.execute_input": "2023-03-21T11:55:16.644272Z",
     "iopub.status.busy": "2023-03-21T11:55:16.643761Z",
     "iopub.status.idle": "2023-03-21T11:55:16.650695Z",
     "shell.execute_reply": "2023-03-21T11:55:16.649154Z"
    },
    "papermill": {
     "duration": 0.026455,
     "end_time": "2023-03-21T11:55:16.652890",
     "exception": false,
     "start_time": "2023-03-21T11:55:16.626435",
     "status": "completed"
    },
    "tags": []
   },
   "outputs": [],
   "source": [
    "X_train = ts_train.reshape((ts_train.shape[0], ts_train.shape[1]))\n",
    "X_test = ts_test.reshape((ts_test.shape[0], ts_test.shape[1]))"
   ]
  },
  {
   "cell_type": "code",
   "execution_count": 56,
   "id": "192f3c3f",
   "metadata": {
    "execution": {
     "iopub.execute_input": "2023-03-21T11:55:16.693259Z",
     "iopub.status.busy": "2023-03-21T11:55:16.692715Z",
     "iopub.status.idle": "2023-03-21T11:55:16.701187Z",
     "shell.execute_reply": "2023-03-21T11:55:16.699486Z"
    },
    "papermill": {
     "duration": 0.033372,
     "end_time": "2023-03-21T11:55:16.704174",
     "exception": false,
     "start_time": "2023-03-21T11:55:16.670802",
     "status": "completed"
    },
    "tags": []
   },
   "outputs": [
    {
     "data": {
      "text/plain": [
       "(20000, 100)"
      ]
     },
     "execution_count": 56,
     "metadata": {},
     "output_type": "execute_result"
    }
   ],
   "source": [
    "X_train.shape"
   ]
  },
  {
   "cell_type": "code",
   "execution_count": 57,
   "id": "de0e5000",
   "metadata": {
    "execution": {
     "iopub.execute_input": "2023-03-21T11:55:16.740018Z",
     "iopub.status.busy": "2023-03-21T11:55:16.739736Z",
     "iopub.status.idle": "2023-03-21T11:55:16.743503Z",
     "shell.execute_reply": "2023-03-21T11:55:16.742744Z"
    },
    "papermill": {
     "duration": 0.021735,
     "end_time": "2023-03-21T11:55:16.745025",
     "exception": false,
     "start_time": "2023-03-21T11:55:16.723290",
     "status": "completed"
    },
    "tags": []
   },
   "outputs": [],
   "source": [
    "metrics_data['KNN'] = {}"
   ]
  },
  {
   "cell_type": "markdown",
   "id": "8ee39c05",
   "metadata": {
    "papermill": {
     "duration": 0.015859,
     "end_time": "2023-03-21T11:55:16.777606",
     "exception": false,
     "start_time": "2023-03-21T11:55:16.761747",
     "status": "completed"
    },
    "tags": []
   },
   "source": [
    "**Euclidean Distance**"
   ]
  },
  {
   "cell_type": "code",
   "execution_count": 58,
   "id": "55db1f58",
   "metadata": {
    "execution": {
     "iopub.execute_input": "2023-03-21T11:55:16.816834Z",
     "iopub.status.busy": "2023-03-21T11:55:16.816325Z",
     "iopub.status.idle": "2023-03-21T11:55:16.820386Z",
     "shell.execute_reply": "2023-03-21T11:55:16.819627Z"
    },
    "papermill": {
     "duration": 0.025687,
     "end_time": "2023-03-21T11:55:16.822141",
     "exception": false,
     "start_time": "2023-03-21T11:55:16.796454",
     "status": "completed"
    },
    "tags": []
   },
   "outputs": [],
   "source": [
    "from sklearn.neighbors import KNeighborsClassifier"
   ]
  },
  {
   "cell_type": "code",
   "execution_count": 59,
   "id": "132c2537",
   "metadata": {
    "execution": {
     "iopub.execute_input": "2023-03-21T11:55:16.861154Z",
     "iopub.status.busy": "2023-03-21T11:55:16.860860Z",
     "iopub.status.idle": "2023-03-21T11:55:16.885366Z",
     "shell.execute_reply": "2023-03-21T11:55:16.884413Z"
    },
    "papermill": {
     "duration": 0.045736,
     "end_time": "2023-03-21T11:55:16.887803",
     "exception": false,
     "start_time": "2023-03-21T11:55:16.842067",
     "status": "completed"
    },
    "tags": []
   },
   "outputs": [
    {
     "data": {
      "text/html": [
       "<style>#sk-container-id-8 {color: black;background-color: white;}#sk-container-id-8 pre{padding: 0;}#sk-container-id-8 div.sk-toggleable {background-color: white;}#sk-container-id-8 label.sk-toggleable__label {cursor: pointer;display: block;width: 100%;margin-bottom: 0;padding: 0.3em;box-sizing: border-box;text-align: center;}#sk-container-id-8 label.sk-toggleable__label-arrow:before {content: \"▸\";float: left;margin-right: 0.25em;color: #696969;}#sk-container-id-8 label.sk-toggleable__label-arrow:hover:before {color: black;}#sk-container-id-8 div.sk-estimator:hover label.sk-toggleable__label-arrow:before {color: black;}#sk-container-id-8 div.sk-toggleable__content {max-height: 0;max-width: 0;overflow: hidden;text-align: left;background-color: #f0f8ff;}#sk-container-id-8 div.sk-toggleable__content pre {margin: 0.2em;color: black;border-radius: 0.25em;background-color: #f0f8ff;}#sk-container-id-8 input.sk-toggleable__control:checked~div.sk-toggleable__content {max-height: 200px;max-width: 100%;overflow: auto;}#sk-container-id-8 input.sk-toggleable__control:checked~label.sk-toggleable__label-arrow:before {content: \"▾\";}#sk-container-id-8 div.sk-estimator input.sk-toggleable__control:checked~label.sk-toggleable__label {background-color: #d4ebff;}#sk-container-id-8 div.sk-label input.sk-toggleable__control:checked~label.sk-toggleable__label {background-color: #d4ebff;}#sk-container-id-8 input.sk-hidden--visually {border: 0;clip: rect(1px 1px 1px 1px);clip: rect(1px, 1px, 1px, 1px);height: 1px;margin: -1px;overflow: hidden;padding: 0;position: absolute;width: 1px;}#sk-container-id-8 div.sk-estimator {font-family: monospace;background-color: #f0f8ff;border: 1px dotted black;border-radius: 0.25em;box-sizing: border-box;margin-bottom: 0.5em;}#sk-container-id-8 div.sk-estimator:hover {background-color: #d4ebff;}#sk-container-id-8 div.sk-parallel-item::after {content: \"\";width: 100%;border-bottom: 1px solid gray;flex-grow: 1;}#sk-container-id-8 div.sk-label:hover label.sk-toggleable__label {background-color: #d4ebff;}#sk-container-id-8 div.sk-serial::before {content: \"\";position: absolute;border-left: 1px solid gray;box-sizing: border-box;top: 0;bottom: 0;left: 50%;z-index: 0;}#sk-container-id-8 div.sk-serial {display: flex;flex-direction: column;align-items: center;background-color: white;padding-right: 0.2em;padding-left: 0.2em;position: relative;}#sk-container-id-8 div.sk-item {position: relative;z-index: 1;}#sk-container-id-8 div.sk-parallel {display: flex;align-items: stretch;justify-content: center;background-color: white;position: relative;}#sk-container-id-8 div.sk-item::before, #sk-container-id-8 div.sk-parallel-item::before {content: \"\";position: absolute;border-left: 1px solid gray;box-sizing: border-box;top: 0;bottom: 0;left: 50%;z-index: -1;}#sk-container-id-8 div.sk-parallel-item {display: flex;flex-direction: column;z-index: 1;position: relative;background-color: white;}#sk-container-id-8 div.sk-parallel-item:first-child::after {align-self: flex-end;width: 50%;}#sk-container-id-8 div.sk-parallel-item:last-child::after {align-self: flex-start;width: 50%;}#sk-container-id-8 div.sk-parallel-item:only-child::after {width: 0;}#sk-container-id-8 div.sk-dashed-wrapped {border: 1px dashed gray;margin: 0 0.4em 0.5em 0.4em;box-sizing: border-box;padding-bottom: 0.4em;background-color: white;}#sk-container-id-8 div.sk-label label {font-family: monospace;font-weight: bold;display: inline-block;line-height: 1.2em;}#sk-container-id-8 div.sk-label-container {text-align: center;}#sk-container-id-8 div.sk-container {/* jupyter's `normalize.less` sets `[hidden] { display: none; }` but bootstrap.min.css set `[hidden] { display: none !important; }` so we also need the `!important` here to be able to override the default hidden behavior on the sphinx rendered scikit-learn.org. See: https://github.com/scikit-learn/scikit-learn/issues/21755 */display: inline-block !important;position: relative;}#sk-container-id-8 div.sk-text-repr-fallback {display: none;}</style><div id=\"sk-container-id-8\" class=\"sk-top-container\"><div class=\"sk-text-repr-fallback\"><pre>KNeighborsClassifier()</pre><b>In a Jupyter environment, please rerun this cell to show the HTML representation or trust the notebook. <br />On GitHub, the HTML representation is unable to render, please try loading this page with nbviewer.org.</b></div><div class=\"sk-container\" hidden><div class=\"sk-item\"><div class=\"sk-estimator sk-toggleable\"><input class=\"sk-toggleable__control sk-hidden--visually\" id=\"sk-estimator-id-8\" type=\"checkbox\" checked><label for=\"sk-estimator-id-8\" class=\"sk-toggleable__label sk-toggleable__label-arrow\">KNeighborsClassifier</label><div class=\"sk-toggleable__content\"><pre>KNeighborsClassifier()</pre></div></div></div></div></div>"
      ],
      "text/plain": [
       "KNeighborsClassifier()"
      ]
     },
     "execution_count": 59,
     "metadata": {},
     "output_type": "execute_result"
    }
   ],
   "source": [
    "clf = KNeighborsClassifier(n_neighbors=5, weights='uniform')\n",
    "clf.fit(X_train, y_train)"
   ]
  },
  {
   "cell_type": "code",
   "execution_count": 60,
   "id": "0afad62a",
   "metadata": {
    "execution": {
     "iopub.execute_input": "2023-03-21T11:55:16.927352Z",
     "iopub.status.busy": "2023-03-21T11:55:16.926446Z",
     "iopub.status.idle": "2023-03-21T11:55:18.251752Z",
     "shell.execute_reply": "2023-03-21T11:55:18.250742Z"
    },
    "papermill": {
     "duration": 1.347978,
     "end_time": "2023-03-21T11:55:18.254916",
     "exception": false,
     "start_time": "2023-03-21T11:55:16.906938",
     "status": "completed"
    },
    "tags": []
   },
   "outputs": [
    {
     "name": "stdout",
     "output_type": "stream",
     "text": [
      "              precision    recall  f1-score   support\n",
      "\n",
      "   hard-rock       0.22      0.36      0.27      1000\n",
      " heavy-metal       0.31      0.29      0.30      1000\n",
      "       indie       0.21      0.18      0.20      1000\n",
      "    pop-rock       0.23      0.12      0.16      1000\n",
      "   punk-rock       0.23      0.23      0.23      1000\n",
      "\n",
      "    accuracy                           0.24      5000\n",
      "   macro avg       0.24      0.24      0.23      5000\n",
      "weighted avg       0.24      0.24      0.23      5000\n",
      "\n"
     ]
    }
   ],
   "source": [
    "y_pred = clf.predict(X_test)\n",
    "print(classification_report(y_test, y_pred))"
   ]
  },
  {
   "cell_type": "code",
   "execution_count": 61,
   "id": "2d709070",
   "metadata": {
    "execution": {
     "iopub.execute_input": "2023-03-21T11:55:18.341236Z",
     "iopub.status.busy": "2023-03-21T11:55:18.340761Z",
     "iopub.status.idle": "2023-03-21T11:55:18.447432Z",
     "shell.execute_reply": "2023-03-21T11:55:18.446474Z"
    },
    "papermill": {
     "duration": 0.151697,
     "end_time": "2023-03-21T11:55:18.451966",
     "exception": false,
     "start_time": "2023-03-21T11:55:18.300269",
     "status": "completed"
    },
    "tags": []
   },
   "outputs": [],
   "source": [
    "acc = accuracy_score(y_test, y_pred)\n",
    "pre = precision_score(y_test, y_pred, average=avg_par)\n",
    "rec = recall_score(y_test, y_pred, average=avg_par)\n",
    "f1 = f1_score(y_test, y_pred, average=avg_par)\n",
    "\n",
    "metrics_data['KNN']['Euclidean'] = {'Accuracy': acc, 'Precision': pre, 'Recall': rec, 'F1': f1}"
   ]
  },
  {
   "cell_type": "markdown",
   "id": "c5ec2a09",
   "metadata": {
    "papermill": {
     "duration": 0.016213,
     "end_time": "2023-03-21T11:55:18.485233",
     "exception": false,
     "start_time": "2023-03-21T11:55:18.469020",
     "status": "completed"
    },
    "tags": []
   },
   "source": [
    "**Dynamic Time Warping**"
   ]
  },
  {
   "cell_type": "code",
   "execution_count": 62,
   "id": "2df913d8",
   "metadata": {
    "execution": {
     "iopub.execute_input": "2023-03-21T11:55:18.522343Z",
     "iopub.status.busy": "2023-03-21T11:55:18.522033Z",
     "iopub.status.idle": "2023-03-21T11:55:18.595479Z",
     "shell.execute_reply": "2023-03-21T11:55:18.594472Z"
    },
    "papermill": {
     "duration": 0.097038,
     "end_time": "2023-03-21T11:55:18.598824",
     "exception": false,
     "start_time": "2023-03-21T11:55:18.501786",
     "status": "completed"
    },
    "tags": []
   },
   "outputs": [],
   "source": [
    "from pyts.classification import KNeighborsClassifier\n",
    "from pyts.approximation import PiecewiseAggregateApproximation\n",
    "from imblearn.under_sampling import ClusterCentroids\n",
    "from sklearn_extra.cluster import KMedoids"
   ]
  },
  {
   "cell_type": "code",
   "execution_count": 63,
   "id": "db1604ec",
   "metadata": {
    "execution": {
     "iopub.execute_input": "2023-03-21T11:55:18.635564Z",
     "iopub.status.busy": "2023-03-21T11:55:18.634740Z",
     "iopub.status.idle": "2023-03-21T11:55:19.232138Z",
     "shell.execute_reply": "2023-03-21T11:55:19.231508Z"
    },
    "papermill": {
     "duration": 0.617907,
     "end_time": "2023-03-21T11:55:19.235166",
     "exception": false,
     "start_time": "2023-03-21T11:55:18.617259",
     "status": "completed"
    },
    "tags": []
   },
   "outputs": [],
   "source": [
    "if paa_window_size:\n",
    "    paa = PiecewiseAggregateApproximation(window_size=paa_window_size)\n",
    "    X_train = paa.transform(X_train)\n",
    "    X_test = paa.transform(X_test)\n",
    "    X_train.shape"
   ]
  },
  {
   "cell_type": "code",
   "execution_count": 64,
   "id": "59fa27aa",
   "metadata": {
    "execution": {
     "iopub.execute_input": "2023-03-21T11:55:19.320491Z",
     "iopub.status.busy": "2023-03-21T11:55:19.319645Z",
     "iopub.status.idle": "2023-03-21T11:55:34.732322Z",
     "shell.execute_reply": "2023-03-21T11:55:34.731549Z"
    },
    "papermill": {
     "duration": 15.457018,
     "end_time": "2023-03-21T11:55:34.735071",
     "exception": false,
     "start_time": "2023-03-21T11:55:19.278053",
     "status": "completed"
    },
    "tags": []
   },
   "outputs": [
    {
     "name": "stdout",
     "output_type": "stream",
     "text": [
      "{'hard-rock': 1200, 'heavy-metal': 1200, 'indie': 1200, 'pop-rock': 1200, 'punk-rock': 1200}\n"
     ]
    },
    {
     "name": "stderr",
     "output_type": "stream",
     "text": [
      "/home/mattiapggioli/lyrics2ts/.venv/lib/python3.9/site-packages/sklearn_extra/cluster/_k_medoids.py:275: UserWarning: Cluster 172 is empty! self.labels_[self.medoid_indices_[172]] may not be labeled with its corresponding cluster (172).\n",
      "  warnings.warn(\n",
      "/home/mattiapggioli/lyrics2ts/.venv/lib/python3.9/site-packages/sklearn_extra/cluster/_k_medoids.py:275: UserWarning: Cluster 626 is empty! self.labels_[self.medoid_indices_[626]] may not be labeled with its corresponding cluster (626).\n",
      "  warnings.warn(\n"
     ]
    },
    {
     "name": "stderr",
     "output_type": "stream",
     "text": [
      "/home/mattiapggioli/lyrics2ts/.venv/lib/python3.9/site-packages/sklearn_extra/cluster/_k_medoids.py:275: UserWarning: Cluster 92 is empty! self.labels_[self.medoid_indices_[92]] may not be labeled with its corresponding cluster (92).\n",
      "  warnings.warn(\n"
     ]
    }
   ],
   "source": [
    "if undersampling:\n",
    "    total_samples = len(y_train)\n",
    "    unique_classes, class_counts = np.unique(y_train, return_counts=True)\n",
    "    samp_strat = dict(zip(unique_classes, np.floor(class_counts * undersampling).astype(int)))\n",
    "    print(samp_strat)\n",
    "    cc = ClusterCentroids(estimator=KMedoids(\n",
    "        random_state=42), sampling_strategy=samp_strat, random_state=42)\n",
    "    X_train, y_train = cc.fit_resample(X_train, y_train)\n",
    "    X_train.shape"
   ]
  },
  {
   "cell_type": "code",
   "execution_count": 65,
   "id": "e7ac6b44",
   "metadata": {
    "execution": {
     "iopub.execute_input": "2023-03-21T11:55:34.865226Z",
     "iopub.status.busy": "2023-03-21T11:55:34.864185Z",
     "iopub.status.idle": "2023-03-21T11:55:34.879807Z",
     "shell.execute_reply": "2023-03-21T11:55:34.878827Z"
    },
    "papermill": {
     "duration": 0.086013,
     "end_time": "2023-03-21T11:55:34.882198",
     "exception": false,
     "start_time": "2023-03-21T11:55:34.796185",
     "status": "completed"
    },
    "tags": []
   },
   "outputs": [
    {
     "data": {
      "text/html": [
       "<style>#sk-container-id-9 {color: black;background-color: white;}#sk-container-id-9 pre{padding: 0;}#sk-container-id-9 div.sk-toggleable {background-color: white;}#sk-container-id-9 label.sk-toggleable__label {cursor: pointer;display: block;width: 100%;margin-bottom: 0;padding: 0.3em;box-sizing: border-box;text-align: center;}#sk-container-id-9 label.sk-toggleable__label-arrow:before {content: \"▸\";float: left;margin-right: 0.25em;color: #696969;}#sk-container-id-9 label.sk-toggleable__label-arrow:hover:before {color: black;}#sk-container-id-9 div.sk-estimator:hover label.sk-toggleable__label-arrow:before {color: black;}#sk-container-id-9 div.sk-toggleable__content {max-height: 0;max-width: 0;overflow: hidden;text-align: left;background-color: #f0f8ff;}#sk-container-id-9 div.sk-toggleable__content pre {margin: 0.2em;color: black;border-radius: 0.25em;background-color: #f0f8ff;}#sk-container-id-9 input.sk-toggleable__control:checked~div.sk-toggleable__content {max-height: 200px;max-width: 100%;overflow: auto;}#sk-container-id-9 input.sk-toggleable__control:checked~label.sk-toggleable__label-arrow:before {content: \"▾\";}#sk-container-id-9 div.sk-estimator input.sk-toggleable__control:checked~label.sk-toggleable__label {background-color: #d4ebff;}#sk-container-id-9 div.sk-label input.sk-toggleable__control:checked~label.sk-toggleable__label {background-color: #d4ebff;}#sk-container-id-9 input.sk-hidden--visually {border: 0;clip: rect(1px 1px 1px 1px);clip: rect(1px, 1px, 1px, 1px);height: 1px;margin: -1px;overflow: hidden;padding: 0;position: absolute;width: 1px;}#sk-container-id-9 div.sk-estimator {font-family: monospace;background-color: #f0f8ff;border: 1px dotted black;border-radius: 0.25em;box-sizing: border-box;margin-bottom: 0.5em;}#sk-container-id-9 div.sk-estimator:hover {background-color: #d4ebff;}#sk-container-id-9 div.sk-parallel-item::after {content: \"\";width: 100%;border-bottom: 1px solid gray;flex-grow: 1;}#sk-container-id-9 div.sk-label:hover label.sk-toggleable__label {background-color: #d4ebff;}#sk-container-id-9 div.sk-serial::before {content: \"\";position: absolute;border-left: 1px solid gray;box-sizing: border-box;top: 0;bottom: 0;left: 50%;z-index: 0;}#sk-container-id-9 div.sk-serial {display: flex;flex-direction: column;align-items: center;background-color: white;padding-right: 0.2em;padding-left: 0.2em;position: relative;}#sk-container-id-9 div.sk-item {position: relative;z-index: 1;}#sk-container-id-9 div.sk-parallel {display: flex;align-items: stretch;justify-content: center;background-color: white;position: relative;}#sk-container-id-9 div.sk-item::before, #sk-container-id-9 div.sk-parallel-item::before {content: \"\";position: absolute;border-left: 1px solid gray;box-sizing: border-box;top: 0;bottom: 0;left: 50%;z-index: -1;}#sk-container-id-9 div.sk-parallel-item {display: flex;flex-direction: column;z-index: 1;position: relative;background-color: white;}#sk-container-id-9 div.sk-parallel-item:first-child::after {align-self: flex-end;width: 50%;}#sk-container-id-9 div.sk-parallel-item:last-child::after {align-self: flex-start;width: 50%;}#sk-container-id-9 div.sk-parallel-item:only-child::after {width: 0;}#sk-container-id-9 div.sk-dashed-wrapped {border: 1px dashed gray;margin: 0 0.4em 0.5em 0.4em;box-sizing: border-box;padding-bottom: 0.4em;background-color: white;}#sk-container-id-9 div.sk-label label {font-family: monospace;font-weight: bold;display: inline-block;line-height: 1.2em;}#sk-container-id-9 div.sk-label-container {text-align: center;}#sk-container-id-9 div.sk-container {/* jupyter's `normalize.less` sets `[hidden] { display: none; }` but bootstrap.min.css set `[hidden] { display: none !important; }` so we also need the `!important` here to be able to override the default hidden behavior on the sphinx rendered scikit-learn.org. See: https://github.com/scikit-learn/scikit-learn/issues/21755 */display: inline-block !important;position: relative;}#sk-container-id-9 div.sk-text-repr-fallback {display: none;}</style><div id=\"sk-container-id-9\" class=\"sk-top-container\"><div class=\"sk-text-repr-fallback\"><pre>KNeighborsClassifier(metric=&#x27;dtw_sakoechiba&#x27;, metric_params={&#x27;window_size&#x27;: 3})</pre><b>In a Jupyter environment, please rerun this cell to show the HTML representation or trust the notebook. <br />On GitHub, the HTML representation is unable to render, please try loading this page with nbviewer.org.</b></div><div class=\"sk-container\" hidden><div class=\"sk-item\"><div class=\"sk-estimator sk-toggleable\"><input class=\"sk-toggleable__control sk-hidden--visually\" id=\"sk-estimator-id-9\" type=\"checkbox\" checked><label for=\"sk-estimator-id-9\" class=\"sk-toggleable__label sk-toggleable__label-arrow\">KNeighborsClassifier</label><div class=\"sk-toggleable__content\"><pre>KNeighborsClassifier(metric=&#x27;dtw_sakoechiba&#x27;, metric_params={&#x27;window_size&#x27;: 3})</pre></div></div></div></div></div>"
      ],
      "text/plain": [
       "KNeighborsClassifier(metric='dtw_sakoechiba', metric_params={'window_size': 3})"
      ]
     },
     "execution_count": 65,
     "metadata": {},
     "output_type": "execute_result"
    }
   ],
   "source": [
    "clf = KNeighborsClassifier(metric='dtw_sakoechiba',  metric_params={'window_size':3})\n",
    "\n",
    "clf.fit(X_train, y_train)"
   ]
  },
  {
   "cell_type": "code",
   "execution_count": 66,
   "id": "8109d19d",
   "metadata": {
    "execution": {
     "iopub.execute_input": "2023-03-21T11:55:34.918020Z",
     "iopub.status.busy": "2023-03-21T11:55:34.917318Z",
     "iopub.status.idle": "2023-03-21T13:16:58.589915Z",
     "shell.execute_reply": "2023-03-21T13:16:58.588942Z"
    },
    "papermill": {
     "duration": 4883.733447,
     "end_time": "2023-03-21T13:16:58.634284",
     "exception": false,
     "start_time": "2023-03-21T11:55:34.900837",
     "status": "completed"
    },
    "tags": []
   },
   "outputs": [
    {
     "name": "stdout",
     "output_type": "stream",
     "text": [
      "              precision    recall  f1-score   support\n",
      "\n",
      "   hard-rock       0.21      0.17      0.19      1000\n",
      " heavy-metal       0.31      0.46      0.37      1000\n",
      "       indie       0.24      0.16      0.20      1000\n",
      "    pop-rock       0.27      0.34      0.30      1000\n",
      "   punk-rock       0.23      0.18      0.20      1000\n",
      "\n",
      "    accuracy                           0.26      5000\n",
      "   macro avg       0.25      0.26      0.25      5000\n",
      "weighted avg       0.25      0.26      0.25      5000\n",
      "\n",
      "CPU times: user 1h 21min 23s, sys: 636 ms, total: 1h 21min 23s\n",
      "Wall time: 1h 21min 23s\n"
     ]
    }
   ],
   "source": [
    "%%time\n",
    "y_pred = clf.predict(X_test)\n",
    "print(classification_report(y_test, y_pred))"
   ]
  },
  {
   "cell_type": "code",
   "execution_count": 67,
   "id": "b09f5cdf",
   "metadata": {
    "execution": {
     "iopub.execute_input": "2023-03-21T13:16:58.690562Z",
     "iopub.status.busy": "2023-03-21T13:16:58.690130Z",
     "iopub.status.idle": "2023-03-21T13:16:58.770541Z",
     "shell.execute_reply": "2023-03-21T13:16:58.769624Z"
    },
    "papermill": {
     "duration": 0.099441,
     "end_time": "2023-03-21T13:16:58.773232",
     "exception": false,
     "start_time": "2023-03-21T13:16:58.673791",
     "status": "completed"
    },
    "tags": []
   },
   "outputs": [],
   "source": [
    "acc = accuracy_score(y_test, y_pred)\n",
    "pre = precision_score(y_test, y_pred, average=avg_par)\n",
    "rec = recall_score(y_test, y_pred, average=avg_par)\n",
    "f1 = f1_score(y_test, y_pred, average=avg_par)\n",
    "\n",
    "metrics_data['KNN']['DTW'] = {'Accuracy': acc, 'Precision': pre, 'Recall': rec, 'F1': f1}"
   ]
  },
  {
   "cell_type": "markdown",
   "id": "e0e700a7",
   "metadata": {
    "papermill": {
     "duration": 0.03276,
     "end_time": "2023-03-21T13:16:58.839444",
     "exception": false,
     "start_time": "2023-03-21T13:16:58.806684",
     "status": "completed"
    },
    "tags": []
   },
   "source": [
    "## Overall Results"
   ]
  },
  {
   "cell_type": "code",
   "execution_count": 68,
   "id": "d003c193",
   "metadata": {
    "execution": {
     "iopub.execute_input": "2023-03-21T13:16:58.870983Z",
     "iopub.status.busy": "2023-03-21T13:16:58.870673Z",
     "iopub.status.idle": "2023-03-21T13:16:58.878348Z",
     "shell.execute_reply": "2023-03-21T13:16:58.877162Z"
    },
    "papermill": {
     "duration": 0.025415,
     "end_time": "2023-03-21T13:16:58.880145",
     "exception": false,
     "start_time": "2023-03-21T13:16:58.854730",
     "status": "completed"
    },
    "tags": []
   },
   "outputs": [],
   "source": [
    "metrics_data = pd.DataFrame.from_dict({(i,j): metrics_data[i][j] \n",
    "                                       for i in metrics_data.keys() \n",
    "                                       for j in metrics_data[i].keys()},\n",
    "                                       orient='index')"
   ]
  },
  {
   "cell_type": "code",
   "execution_count": 69,
   "id": "0944fe84",
   "metadata": {
    "execution": {
     "iopub.execute_input": "2023-03-21T13:16:58.911983Z",
     "iopub.status.busy": "2023-03-21T13:16:58.911173Z",
     "iopub.status.idle": "2023-03-21T13:16:59.037513Z",
     "shell.execute_reply": "2023-03-21T13:16:59.036734Z"
    },
    "papermill": {
     "duration": 0.145631,
     "end_time": "2023-03-21T13:16:59.040439",
     "exception": false,
     "start_time": "2023-03-21T13:16:58.894808",
     "status": "completed"
    },
    "tags": []
   },
   "outputs": [],
   "source": [
    "acc = accuracy_score(y_test, y_pred)\n",
    "pre = precision_score(y_test, y_pred, average=avg_par)\n",
    "rec = recall_score(y_test, y_pred, average=avg_par)\n",
    "f1 = f1_score(y_test, y_pred, average=avg_par)"
   ]
  },
  {
   "cell_type": "code",
   "execution_count": 70,
   "id": "7ee1b347",
   "metadata": {
    "execution": {
     "iopub.execute_input": "2023-03-21T13:16:59.123555Z",
     "iopub.status.busy": "2023-03-21T13:16:59.123210Z",
     "iopub.status.idle": "2023-03-21T13:16:59.136671Z",
     "shell.execute_reply": "2023-03-21T13:16:59.135163Z"
    },
    "papermill": {
     "duration": 0.055815,
     "end_time": "2023-03-21T13:16:59.138689",
     "exception": false,
     "start_time": "2023-03-21T13:16:59.082874",
     "status": "completed"
    },
    "tags": []
   },
   "outputs": [
    {
     "data": {
      "text/html": [
       "<div>\n",
       "<style scoped>\n",
       "    .dataframe tbody tr th:only-of-type {\n",
       "        vertical-align: middle;\n",
       "    }\n",
       "\n",
       "    .dataframe tbody tr th {\n",
       "        vertical-align: top;\n",
       "    }\n",
       "\n",
       "    .dataframe thead th {\n",
       "        text-align: right;\n",
       "    }\n",
       "</style>\n",
       "<table border=\"1\" class=\"dataframe\">\n",
       "  <thead>\n",
       "    <tr style=\"text-align: right;\">\n",
       "      <th></th>\n",
       "      <th></th>\n",
       "      <th>Accuracy</th>\n",
       "      <th>Precision</th>\n",
       "      <th>Recall</th>\n",
       "      <th>F1</th>\n",
       "    </tr>\n",
       "  </thead>\n",
       "  <tbody>\n",
       "    <tr>\n",
       "      <th rowspan=\"3\" valign=\"top\">Global</th>\n",
       "      <th>DecisionTree</th>\n",
       "      <td>0.2766</td>\n",
       "      <td>0.276637</td>\n",
       "      <td>0.2766</td>\n",
       "      <td>0.276502</td>\n",
       "    </tr>\n",
       "    <tr>\n",
       "      <th>RandomForest</th>\n",
       "      <td>0.3980</td>\n",
       "      <td>0.395190</td>\n",
       "      <td>0.3980</td>\n",
       "      <td>0.395280</td>\n",
       "    </tr>\n",
       "    <tr>\n",
       "      <th>LightGBM</th>\n",
       "      <td>0.4262</td>\n",
       "      <td>0.423924</td>\n",
       "      <td>0.4262</td>\n",
       "      <td>0.423823</td>\n",
       "    </tr>\n",
       "    <tr>\n",
       "      <th rowspan=\"3\" valign=\"top\">Shapelets</th>\n",
       "      <th>DecisionTree</th>\n",
       "      <td>0.2368</td>\n",
       "      <td>0.237521</td>\n",
       "      <td>0.2368</td>\n",
       "      <td>0.237079</td>\n",
       "    </tr>\n",
       "    <tr>\n",
       "      <th>RandomForest</th>\n",
       "      <td>0.2800</td>\n",
       "      <td>0.274376</td>\n",
       "      <td>0.2800</td>\n",
       "      <td>0.275713</td>\n",
       "    </tr>\n",
       "    <tr>\n",
       "      <th>LightGBM</th>\n",
       "      <td>0.2814</td>\n",
       "      <td>0.274552</td>\n",
       "      <td>0.2814</td>\n",
       "      <td>0.275492</td>\n",
       "    </tr>\n",
       "    <tr>\n",
       "      <th rowspan=\"2\" valign=\"top\">KNN</th>\n",
       "      <th>Euclidean</th>\n",
       "      <td>0.2358</td>\n",
       "      <td>0.237785</td>\n",
       "      <td>0.2358</td>\n",
       "      <td>0.229373</td>\n",
       "    </tr>\n",
       "    <tr>\n",
       "      <th>DTW</th>\n",
       "      <td>0.2632</td>\n",
       "      <td>0.253548</td>\n",
       "      <td>0.2632</td>\n",
       "      <td>0.251540</td>\n",
       "    </tr>\n",
       "  </tbody>\n",
       "</table>\n",
       "</div>"
      ],
      "text/plain": [
       "                        Accuracy  Precision  Recall        F1\n",
       "Global    DecisionTree    0.2766   0.276637  0.2766  0.276502\n",
       "          RandomForest    0.3980   0.395190  0.3980  0.395280\n",
       "          LightGBM        0.4262   0.423924  0.4262  0.423823\n",
       "Shapelets DecisionTree    0.2368   0.237521  0.2368  0.237079\n",
       "          RandomForest    0.2800   0.274376  0.2800  0.275713\n",
       "          LightGBM        0.2814   0.274552  0.2814  0.275492\n",
       "KNN       Euclidean       0.2358   0.237785  0.2358  0.229373\n",
       "          DTW             0.2632   0.253548  0.2632  0.251540"
      ]
     },
     "execution_count": 70,
     "metadata": {},
     "output_type": "execute_result"
    }
   ],
   "source": [
    "metrics_data"
   ]
  },
  {
   "cell_type": "code",
   "execution_count": 71,
   "id": "3efc173e",
   "metadata": {
    "execution": {
     "iopub.execute_input": "2023-03-21T13:16:59.174465Z",
     "iopub.status.busy": "2023-03-21T13:16:59.173592Z",
     "iopub.status.idle": "2023-03-21T13:16:59.183200Z",
     "shell.execute_reply": "2023-03-21T13:16:59.182051Z"
    },
    "papermill": {
     "duration": 0.030947,
     "end_time": "2023-03-21T13:16:59.185399",
     "exception": false,
     "start_time": "2023-03-21T13:16:59.154452",
     "status": "completed"
    },
    "tags": []
   },
   "outputs": [],
   "source": [
    "metrics_data.to_csv(f'{data_path}/metrics.csv')"
   ]
  },
  {
   "cell_type": "code",
   "execution_count": null,
   "id": "d21f5304",
   "metadata": {
    "papermill": {
     "duration": 0.01485,
     "end_time": "2023-03-21T13:16:59.215954",
     "exception": false,
     "start_time": "2023-03-21T13:16:59.201104",
     "status": "completed"
    },
    "tags": []
   },
   "outputs": [],
   "source": []
  }
 ],
 "metadata": {
  "celltoolbar": "Tags",
  "kernelspec": {
   "display_name": "Python 3 (ipykernel)",
   "language": "python",
   "name": "python3"
  },
  "language_info": {
   "codemirror_mode": {
    "name": "ipython",
    "version": 3
   },
   "file_extension": ".py",
   "mimetype": "text/x-python",
   "name": "python",
   "nbconvert_exporter": "python",
   "pygments_lexer": "ipython3",
   "version": "3.9.16"
  },
  "papermill": {
   "default_parameters": {},
   "duration": 6994.708051,
   "end_time": "2023-03-21T13:17:02.359446",
   "environment_variables": {},
   "exception": null,
   "input_path": "09_ts_classification.ipynb",
   "output_path": "../clf-reports/rock-subgenres_sbert.ipynb",
   "parameters": {
    "data_path": "/home/mattiapggioli/lyrics2ts/data/classification/rock-subgenres/sbert/",
    "paa_window_size": 20,
    "undersampling": 0.3
   },
   "start_time": "2023-03-21T11:20:27.651395",
   "version": "2.4.0"
  },
  "vscode": {
   "interpreter": {
    "hash": "eb8d1ded7c87c6f9c253b40add648304d6b51d2e38393955e855effc7e6f899a"
   }
  }
 },
 "nbformat": 4,
 "nbformat_minor": 5
}