{
 "cells": [
  {
   "cell_type": "markdown",
   "id": "d79a68c5",
   "metadata": {
    "papermill": {
     "duration": 0.032294,
     "end_time": "2023-03-21T13:17:04.247881",
     "exception": false,
     "start_time": "2023-03-21T13:17:04.215587",
     "status": "completed"
    },
    "tags": []
   },
   "source": [
    "# Time Series Classification"
   ]
  },
  {
   "cell_type": "code",
   "execution_count": 1,
   "id": "8a0cb2b0",
   "metadata": {
    "execution": {
     "iopub.execute_input": "2023-03-21T13:17:04.303652Z",
     "iopub.status.busy": "2023-03-21T13:17:04.303152Z",
     "iopub.status.idle": "2023-03-21T13:17:05.649398Z",
     "shell.execute_reply": "2023-03-21T13:17:05.648782Z"
    },
    "papermill": {
     "duration": 1.377314,
     "end_time": "2023-03-21T13:17:05.652060",
     "exception": false,
     "start_time": "2023-03-21T13:17:04.274746",
     "status": "completed"
    },
    "tags": []
   },
   "outputs": [],
   "source": [
    "%matplotlib inline\n",
    "import pandas as pd\n",
    "import numpy as np\n",
    "import matplotlib.pyplot as plt\n",
    "import seaborn as sns\n",
    "import re\n",
    "import os\n",
    "from sklearn.preprocessing import StandardScaler\n",
    "from sklearn.decomposition import PCA\n",
    "import joblib\n",
    "from tslearn.utils import to_time_series_dataset, save_time_series_txt, load_time_series_txt\n",
    "import random\n",
    "from sklearn.model_selection import train_test_split\n",
    "from sklearn.metrics import accuracy_score, f1_score, precision_score, recall_score, classification_report\n",
    "import pickle"
   ]
  },
  {
   "cell_type": "code",
   "execution_count": 2,
   "id": "acc03405",
   "metadata": {
    "execution": {
     "iopub.execute_input": "2023-03-21T13:17:05.712448Z",
     "iopub.status.busy": "2023-03-21T13:17:05.711795Z",
     "iopub.status.idle": "2023-03-21T13:17:05.718175Z",
     "shell.execute_reply": "2023-03-21T13:17:05.716973Z"
    },
    "papermill": {
     "duration": 0.041091,
     "end_time": "2023-03-21T13:17:05.721180",
     "exception": false,
     "start_time": "2023-03-21T13:17:05.680089",
     "status": "completed"
    },
    "tags": [
     "parameters"
    ]
   },
   "outputs": [],
   "source": [
    "data_path = '/home/mattiapggioli/lyrics2ts/data/classification/pp-rc/sbert/'\n",
    "truncate=100\n",
    "max_iter = 2000\n",
    "paa_window_size = None\n",
    "undersampling = None"
   ]
  },
  {
   "cell_type": "code",
   "execution_count": 3,
   "id": "788eb6aa",
   "metadata": {
    "execution": {
     "iopub.execute_input": "2023-03-21T13:17:05.762622Z",
     "iopub.status.busy": "2023-03-21T13:17:05.762152Z",
     "iopub.status.idle": "2023-03-21T13:17:05.767973Z",
     "shell.execute_reply": "2023-03-21T13:17:05.766654Z"
    },
    "papermill": {
     "duration": 0.021804,
     "end_time": "2023-03-21T13:17:05.769689",
     "exception": false,
     "start_time": "2023-03-21T13:17:05.747885",
     "status": "completed"
    },
    "tags": [
     "injected-parameters"
    ]
   },
   "outputs": [],
   "source": [
    "# Parameters\n",
    "data_path = (\n",
    "    \"/home/mattiapggioli/lyrics2ts/data/classification/rock-subgenres/sentiment/\"\n",
    ")\n",
    "paa_window_size = 20\n",
    "undersampling = 0.3\n"
   ]
  },
  {
   "cell_type": "code",
   "execution_count": 4,
   "id": "a4f0c774",
   "metadata": {
    "execution": {
     "iopub.execute_input": "2023-03-21T13:17:05.792643Z",
     "iopub.status.busy": "2023-03-21T13:17:05.792184Z",
     "iopub.status.idle": "2023-03-21T13:17:19.095369Z",
     "shell.execute_reply": "2023-03-21T13:17:19.094755Z"
    },
    "papermill": {
     "duration": 13.317843,
     "end_time": "2023-03-21T13:17:19.098242",
     "exception": false,
     "start_time": "2023-03-21T13:17:05.780399",
     "status": "completed"
    },
    "tags": []
   },
   "outputs": [],
   "source": [
    "ts = load_time_series_txt(f'{data_path}/ts.txt')"
   ]
  },
  {
   "cell_type": "code",
   "execution_count": 5,
   "id": "5c48d154",
   "metadata": {
    "execution": {
     "iopub.execute_input": "2023-03-21T13:17:19.162997Z",
     "iopub.status.busy": "2023-03-21T13:17:19.162708Z",
     "iopub.status.idle": "2023-03-21T13:17:19.170153Z",
     "shell.execute_reply": "2023-03-21T13:17:19.169004Z"
    },
    "papermill": {
     "duration": 0.042585,
     "end_time": "2023-03-21T13:17:19.174139",
     "exception": false,
     "start_time": "2023-03-21T13:17:19.131554",
     "status": "completed"
    },
    "tags": []
   },
   "outputs": [
    {
     "data": {
      "text/plain": [
       "(25000, 100, 1)"
      ]
     },
     "execution_count": 5,
     "metadata": {},
     "output_type": "execute_result"
    }
   ],
   "source": [
    "ts.shape"
   ]
  },
  {
   "cell_type": "code",
   "execution_count": 6,
   "id": "f6274d40",
   "metadata": {
    "execution": {
     "iopub.execute_input": "2023-03-21T13:17:19.210525Z",
     "iopub.status.busy": "2023-03-21T13:17:19.210074Z",
     "iopub.status.idle": "2023-03-21T13:17:19.218363Z",
     "shell.execute_reply": "2023-03-21T13:17:19.217232Z"
    },
    "papermill": {
     "duration": 0.021802,
     "end_time": "2023-03-21T13:17:19.220238",
     "exception": false,
     "start_time": "2023-03-21T13:17:19.198436",
     "status": "completed"
    },
    "tags": []
   },
   "outputs": [],
   "source": [
    "with open(f'{data_path}/y_class.npy', 'rb') as f:\n",
    "    y = np.load(f, allow_pickle=True)"
   ]
  },
  {
   "cell_type": "code",
   "execution_count": 7,
   "id": "9d42fa3b",
   "metadata": {
    "execution": {
     "iopub.execute_input": "2023-03-21T13:17:19.244089Z",
     "iopub.status.busy": "2023-03-21T13:17:19.243146Z",
     "iopub.status.idle": "2023-03-21T13:17:19.252255Z",
     "shell.execute_reply": "2023-03-21T13:17:19.251344Z"
    },
    "papermill": {
     "duration": 0.023014,
     "end_time": "2023-03-21T13:17:19.254444",
     "exception": false,
     "start_time": "2023-03-21T13:17:19.231430",
     "status": "completed"
    },
    "tags": []
   },
   "outputs": [],
   "source": [
    "with open(f'{data_path}/X.npy', 'rb') as f:\n",
    "    X = np.load(f, allow_pickle=True)"
   ]
  },
  {
   "cell_type": "code",
   "execution_count": 8,
   "id": "1158a9da",
   "metadata": {
    "execution": {
     "iopub.execute_input": "2023-03-21T13:17:19.279284Z",
     "iopub.status.busy": "2023-03-21T13:17:19.278803Z",
     "iopub.status.idle": "2023-03-21T13:17:19.285912Z",
     "shell.execute_reply": "2023-03-21T13:17:19.284846Z"
    },
    "papermill": {
     "duration": 0.020417,
     "end_time": "2023-03-21T13:17:19.287639",
     "exception": false,
     "start_time": "2023-03-21T13:17:19.267222",
     "status": "completed"
    },
    "tags": []
   },
   "outputs": [
    {
     "data": {
      "text/plain": [
       "(25000, 6)"
      ]
     },
     "execution_count": 8,
     "metadata": {},
     "output_type": "execute_result"
    }
   ],
   "source": [
    "X.shape"
   ]
  },
  {
   "cell_type": "code",
   "execution_count": 9,
   "id": "47239790",
   "metadata": {
    "execution": {
     "iopub.execute_input": "2023-03-21T13:17:19.310537Z",
     "iopub.status.busy": "2023-03-21T13:17:19.310065Z",
     "iopub.status.idle": "2023-03-21T13:17:19.318344Z",
     "shell.execute_reply": "2023-03-21T13:17:19.317265Z"
    },
    "papermill": {
     "duration": 0.021857,
     "end_time": "2023-03-21T13:17:19.320170",
     "exception": false,
     "start_time": "2023-03-21T13:17:19.298313",
     "status": "completed"
    },
    "tags": []
   },
   "outputs": [
    {
     "data": {
      "text/plain": [
       "{'hard-rock', 'heavy-metal', 'indie', 'pop-rock', 'punk-rock'}"
      ]
     },
     "execution_count": 9,
     "metadata": {},
     "output_type": "execute_result"
    }
   ],
   "source": [
    "set(y)"
   ]
  },
  {
   "cell_type": "code",
   "execution_count": 10,
   "id": "37609992",
   "metadata": {
    "execution": {
     "iopub.execute_input": "2023-03-21T13:17:19.343342Z",
     "iopub.status.busy": "2023-03-21T13:17:19.342627Z",
     "iopub.status.idle": "2023-03-21T13:17:19.397219Z",
     "shell.execute_reply": "2023-03-21T13:17:19.395993Z"
    },
    "papermill": {
     "duration": 0.068312,
     "end_time": "2023-03-21T13:17:19.399307",
     "exception": false,
     "start_time": "2023-03-21T13:17:19.330995",
     "status": "completed"
    },
    "tags": []
   },
   "outputs": [],
   "source": [
    "ts_train, ts_test, y_train, y_test = train_test_split(\n",
    "    ts, y, test_size=0.20, random_state=42, stratify=y)"
   ]
  },
  {
   "cell_type": "code",
   "execution_count": 11,
   "id": "34508fe4",
   "metadata": {
    "execution": {
     "iopub.execute_input": "2023-03-21T13:17:19.425045Z",
     "iopub.status.busy": "2023-03-21T13:17:19.424493Z",
     "iopub.status.idle": "2023-03-21T13:17:19.459479Z",
     "shell.execute_reply": "2023-03-21T13:17:19.458681Z"
    },
    "papermill": {
     "duration": 0.049593,
     "end_time": "2023-03-21T13:17:19.462116",
     "exception": false,
     "start_time": "2023-03-21T13:17:19.412523",
     "status": "completed"
    },
    "tags": []
   },
   "outputs": [],
   "source": [
    "X_train, X_test, y_train, y_test = train_test_split(\n",
    "    X, y, test_size=0.20, random_state=42, stratify=y)"
   ]
  },
  {
   "cell_type": "code",
   "execution_count": 12,
   "id": "076afac9",
   "metadata": {
    "execution": {
     "iopub.execute_input": "2023-03-21T13:17:19.522105Z",
     "iopub.status.busy": "2023-03-21T13:17:19.521581Z",
     "iopub.status.idle": "2023-03-21T13:17:19.533403Z",
     "shell.execute_reply": "2023-03-21T13:17:19.532454Z"
    },
    "papermill": {
     "duration": 0.043401,
     "end_time": "2023-03-21T13:17:19.535348",
     "exception": false,
     "start_time": "2023-03-21T13:17:19.491947",
     "status": "completed"
    },
    "tags": []
   },
   "outputs": [
    {
     "data": {
      "text/plain": [
       "array([[ 0.    ],\n",
       "       [ 0.    ],\n",
       "       [-0.1027],\n",
       "       [-0.1027],\n",
       "       [ 0.4215],\n",
       "       [ 0.    ],\n",
       "       [ 0.5719],\n",
       "       [ 0.    ],\n",
       "       [ 0.    ],\n",
       "       [ 0.4939],\n",
       "       [ 0.4939],\n",
       "       [ 0.    ],\n",
       "       [-0.4404],\n",
       "       [ 0.25  ],\n",
       "       [ 0.    ],\n",
       "       [ 0.6486],\n",
       "       [-0.296 ],\n",
       "       [ 0.    ],\n",
       "       [ 0.    ],\n",
       "       [ 0.    ],\n",
       "       [ 0.    ],\n",
       "       [ 0.    ],\n",
       "       [ 0.    ],\n",
       "       [-0.4019],\n",
       "       [ 0.    ],\n",
       "       [ 0.3182],\n",
       "       [-0.5106],\n",
       "       [ 0.    ],\n",
       "       [-0.7351],\n",
       "       [ 0.3612],\n",
       "       [ 0.    ],\n",
       "       [    nan],\n",
       "       [    nan],\n",
       "       [    nan],\n",
       "       [    nan],\n",
       "       [    nan],\n",
       "       [    nan],\n",
       "       [    nan],\n",
       "       [    nan],\n",
       "       [    nan],\n",
       "       [    nan],\n",
       "       [    nan],\n",
       "       [    nan],\n",
       "       [    nan],\n",
       "       [    nan],\n",
       "       [    nan],\n",
       "       [    nan],\n",
       "       [    nan],\n",
       "       [    nan],\n",
       "       [    nan],\n",
       "       [    nan],\n",
       "       [    nan],\n",
       "       [    nan],\n",
       "       [    nan],\n",
       "       [    nan],\n",
       "       [    nan],\n",
       "       [    nan],\n",
       "       [    nan],\n",
       "       [    nan],\n",
       "       [    nan],\n",
       "       [    nan],\n",
       "       [    nan],\n",
       "       [    nan],\n",
       "       [    nan],\n",
       "       [    nan],\n",
       "       [    nan],\n",
       "       [    nan],\n",
       "       [    nan],\n",
       "       [    nan],\n",
       "       [    nan],\n",
       "       [    nan],\n",
       "       [    nan],\n",
       "       [    nan],\n",
       "       [    nan],\n",
       "       [    nan],\n",
       "       [    nan],\n",
       "       [    nan],\n",
       "       [    nan],\n",
       "       [    nan],\n",
       "       [    nan],\n",
       "       [    nan],\n",
       "       [    nan],\n",
       "       [    nan],\n",
       "       [    nan],\n",
       "       [    nan],\n",
       "       [    nan],\n",
       "       [    nan],\n",
       "       [    nan],\n",
       "       [    nan],\n",
       "       [    nan],\n",
       "       [    nan],\n",
       "       [    nan],\n",
       "       [    nan],\n",
       "       [    nan],\n",
       "       [    nan],\n",
       "       [    nan],\n",
       "       [    nan],\n",
       "       [    nan],\n",
       "       [    nan],\n",
       "       [    nan]])"
      ]
     },
     "execution_count": 12,
     "metadata": {},
     "output_type": "execute_result"
    }
   ],
   "source": [
    "random.choice(ts_train)"
   ]
  },
  {
   "cell_type": "code",
   "execution_count": 13,
   "id": "ca66457a",
   "metadata": {
    "execution": {
     "iopub.execute_input": "2023-03-21T13:17:19.559568Z",
     "iopub.status.busy": "2023-03-21T13:17:19.559144Z",
     "iopub.status.idle": "2023-03-21T13:17:20.013750Z",
     "shell.execute_reply": "2023-03-21T13:17:20.012923Z"
    },
    "papermill": {
     "duration": 0.469789,
     "end_time": "2023-03-21T13:17:20.016882",
     "exception": false,
     "start_time": "2023-03-21T13:17:19.547093",
     "status": "completed"
    },
    "tags": []
   },
   "outputs": [
    {
     "data": {
      "text/plain": [
       "<AxesSubplot:ylabel='Count'>"
      ]
     },
     "execution_count": 13,
     "metadata": {},
     "output_type": "execute_result"
    },
    {
     "data": {
      "image/png": "[encoded data removed]",
      "text/plain": [
       "<Figure size 640x480 with 1 Axes>"
      ]
     },
     "metadata": {},
     "output_type": "display_data"
    }
   ],
   "source": [
    "sns.histplot([t[~np.any(np.isnan(t), axis=1)].shape[0] for t in ts_train])"
   ]
  },
  {
   "cell_type": "code",
   "execution_count": 14,
   "id": "c2ae286f",
   "metadata": {
    "execution": {
     "iopub.execute_input": "2023-03-21T13:17:20.080803Z",
     "iopub.status.busy": "2023-03-21T13:17:20.080503Z",
     "iopub.status.idle": "2023-03-21T13:17:20.085210Z",
     "shell.execute_reply": "2023-03-21T13:17:20.084299Z"
    },
    "papermill": {
     "duration": 0.040149,
     "end_time": "2023-03-21T13:17:20.088278",
     "exception": false,
     "start_time": "2023-03-21T13:17:20.048129",
     "status": "completed"
    },
    "tags": []
   },
   "outputs": [],
   "source": [
    "ts_train = ts_train[:, :truncate, :]\n",
    "ts_test = ts_test[:, :truncate, :]"
   ]
  },
  {
   "cell_type": "code",
   "execution_count": 15,
   "id": "3218baa4",
   "metadata": {
    "execution": {
     "iopub.execute_input": "2023-03-21T13:17:20.125136Z",
     "iopub.status.busy": "2023-03-21T13:17:20.124432Z",
     "iopub.status.idle": "2023-03-21T13:17:20.191529Z",
     "shell.execute_reply": "2023-03-21T13:17:20.190737Z"
    },
    "papermill": {
     "duration": 0.081166,
     "end_time": "2023-03-21T13:17:20.193431",
     "exception": false,
     "start_time": "2023-03-21T13:17:20.112265",
     "status": "completed"
    },
    "tags": []
   },
   "outputs": [],
   "source": [
    "mean_arr = np.nanmean(ts_train, axis=1, keepdims=True)\n",
    "nan_indices = np.isnan(ts_train)\n",
    "ts_train[nan_indices] = np.take(mean_arr, np.nonzero(nan_indices)[0])\n",
    "\n",
    "mean_arr = np.nanmean(ts_test, axis=1, keepdims=True)\n",
    "nan_indices = np.isnan(ts_test)\n",
    "ts_test[nan_indices] = np.take(mean_arr, np.nonzero(nan_indices)[0])"
   ]
  },
  {
   "cell_type": "code",
   "execution_count": 16,
   "id": "d369691b",
   "metadata": {
    "execution": {
     "iopub.execute_input": "2023-03-21T13:17:20.219671Z",
     "iopub.status.busy": "2023-03-21T13:17:20.219255Z",
     "iopub.status.idle": "2023-03-21T13:17:20.226297Z",
     "shell.execute_reply": "2023-03-21T13:17:20.225269Z"
    },
    "papermill": {
     "duration": 0.020694,
     "end_time": "2023-03-21T13:17:20.228022",
     "exception": false,
     "start_time": "2023-03-21T13:17:20.207328",
     "status": "completed"
    },
    "tags": []
   },
   "outputs": [
    {
     "data": {
      "text/plain": [
       "46"
      ]
     },
     "execution_count": 16,
     "metadata": {},
     "output_type": "execute_result"
    }
   ],
   "source": [
    "np.count_nonzero(np.isnan(X_train))"
   ]
  },
  {
   "cell_type": "code",
   "execution_count": 17,
   "id": "0d602e18",
   "metadata": {
    "execution": {
     "iopub.execute_input": "2023-03-21T13:17:20.252395Z",
     "iopub.status.busy": "2023-03-21T13:17:20.251942Z",
     "iopub.status.idle": "2023-03-21T13:17:20.257715Z",
     "shell.execute_reply": "2023-03-21T13:17:20.256710Z"
    },
    "papermill": {
     "duration": 0.020159,
     "end_time": "2023-03-21T13:17:20.259346",
     "exception": false,
     "start_time": "2023-03-21T13:17:20.239187",
     "status": "completed"
    },
    "tags": []
   },
   "outputs": [],
   "source": [
    "X_train[np.isnan(X_train)] = 0\n",
    "X_test[np.isnan(X_test)] = 0"
   ]
  },
  {
   "cell_type": "code",
   "execution_count": 18,
   "id": "45c5102c",
   "metadata": {
    "execution": {
     "iopub.execute_input": "2023-03-21T13:17:20.283448Z",
     "iopub.status.busy": "2023-03-21T13:17:20.282556Z",
     "iopub.status.idle": "2023-03-21T13:17:22.668283Z",
     "shell.execute_reply": "2023-03-21T13:17:22.667308Z"
    },
    "papermill": {
     "duration": 2.400936,
     "end_time": "2023-03-21T13:17:22.671349",
     "exception": false,
     "start_time": "2023-03-21T13:17:20.270413",
     "status": "completed"
    },
    "tags": []
   },
   "outputs": [],
   "source": [
    "save_time_series_txt(f'{data_path}/ts_train.txt', ts_train)\n",
    "save_time_series_txt(f'{data_path}/ts_test.txt', ts_test)"
   ]
  },
  {
   "cell_type": "code",
   "execution_count": 19,
   "id": "39830f37",
   "metadata": {
    "execution": {
     "iopub.execute_input": "2023-03-21T13:17:22.735573Z",
     "iopub.status.busy": "2023-03-21T13:17:22.735239Z",
     "iopub.status.idle": "2023-03-21T13:17:22.743610Z",
     "shell.execute_reply": "2023-03-21T13:17:22.742547Z"
    },
    "papermill": {
     "duration": 0.043821,
     "end_time": "2023-03-21T13:17:22.746804",
     "exception": false,
     "start_time": "2023-03-21T13:17:22.702983",
     "status": "completed"
    },
    "tags": []
   },
   "outputs": [],
   "source": [
    "with open(f'{data_path}/X_train.npy', 'wb') as f:\n",
    "    np.save(f, X_train, allow_pickle=True)\n",
    "\n",
    "with open(f'{data_path}/X_test.npy', 'wb') as f:\n",
    "    np.save(f, X_test, allow_pickle=True)"
   ]
  },
  {
   "cell_type": "code",
   "execution_count": 20,
   "id": "795fd2be",
   "metadata": {
    "execution": {
     "iopub.execute_input": "2023-03-21T13:17:22.789581Z",
     "iopub.status.busy": "2023-03-21T13:17:22.789040Z",
     "iopub.status.idle": "2023-03-21T13:17:22.799752Z",
     "shell.execute_reply": "2023-03-21T13:17:22.798390Z"
    },
    "papermill": {
     "duration": 0.025345,
     "end_time": "2023-03-21T13:17:22.802008",
     "exception": false,
     "start_time": "2023-03-21T13:17:22.776663",
     "status": "completed"
    },
    "tags": []
   },
   "outputs": [],
   "source": [
    "with open(f'{data_path}/y_train.npy', 'wb') as f:\n",
    "    np.save(f, y_train, allow_pickle=True)\n",
    "\n",
    "with open(f'{data_path}/y_test.npy', 'wb') as f:\n",
    "    np.save(f, y_test, allow_pickle=True)"
   ]
  },
  {
   "cell_type": "code",
   "execution_count": 21,
   "id": "08bda153",
   "metadata": {
    "execution": {
     "iopub.execute_input": "2023-03-21T13:17:22.828109Z",
     "iopub.status.busy": "2023-03-21T13:17:22.827631Z",
     "iopub.status.idle": "2023-03-21T13:17:22.981500Z",
     "shell.execute_reply": "2023-03-21T13:17:22.980841Z"
    },
    "papermill": {
     "duration": 0.169114,
     "end_time": "2023-03-21T13:17:22.983804",
     "exception": false,
     "start_time": "2023-03-21T13:17:22.814690",
     "status": "completed"
    },
    "tags": []
   },
   "outputs": [
    {
     "data": {
      "text/plain": [
       "[<matplotlib.lines.Line2D at 0x7efc67344730>]"
      ]
     },
     "execution_count": 21,
     "metadata": {},
     "output_type": "execute_result"
    },
    {
     "data": {
      "image/png": "[encoded data removed]",
      "text/plain": [
       "<Figure size 640x480 with 1 Axes>"
      ]
     },
     "metadata": {},
     "output_type": "display_data"
    }
   ],
   "source": [
    "plt.plot(random.choice(ts_train))"
   ]
  },
  {
   "cell_type": "code",
   "execution_count": 22,
   "id": "98ce9d63",
   "metadata": {
    "execution": {
     "iopub.execute_input": "2023-03-21T13:17:23.014300Z",
     "iopub.status.busy": "2023-03-21T13:17:23.013796Z",
     "iopub.status.idle": "2023-03-21T13:17:23.020390Z",
     "shell.execute_reply": "2023-03-21T13:17:23.019727Z"
    },
    "papermill": {
     "duration": 0.022445,
     "end_time": "2023-03-21T13:17:23.021966",
     "exception": false,
     "start_time": "2023-03-21T13:17:22.999521",
     "status": "completed"
    },
    "tags": []
   },
   "outputs": [],
   "source": [
    "# Parameters that require knowing if it's binary or multiclass (LightGBM, metrics)\n",
    "if len(set(y)) == 2:\n",
    "    avg_par = 'macro'\n",
    "    obj_par = 'binary'\n",
    "elif len(set(y)) > 2:\n",
    "    avg_par = 'weighted'\n",
    "    obj_par = 'multiclass'"
   ]
  },
  {
   "cell_type": "markdown",
   "id": "228f1b39",
   "metadata": {
    "papermill": {
     "duration": 0.012602,
     "end_time": "2023-03-21T13:17:23.046862",
     "exception": false,
     "start_time": "2023-03-21T13:17:23.034260",
     "status": "completed"
    },
    "tags": []
   },
   "source": [
    "## Classification"
   ]
  },
  {
   "cell_type": "code",
   "execution_count": 23,
   "id": "34bb73ff",
   "metadata": {
    "execution": {
     "iopub.execute_input": "2023-03-21T13:17:23.072032Z",
     "iopub.status.busy": "2023-03-21T13:17:23.071613Z",
     "iopub.status.idle": "2023-03-21T13:17:23.179523Z",
     "shell.execute_reply": "2023-03-21T13:17:23.178769Z"
    },
    "papermill": {
     "duration": 0.123743,
     "end_time": "2023-03-21T13:17:23.182288",
     "exception": false,
     "start_time": "2023-03-21T13:17:23.058545",
     "status": "completed"
    },
    "tags": []
   },
   "outputs": [],
   "source": [
    "from sklearn.tree import DecisionTreeClassifier\n",
    "import lightgbm as lgbm\n",
    "from sklearn.ensemble import RandomForestClassifier"
   ]
  },
  {
   "cell_type": "code",
   "execution_count": 24,
   "id": "02aaee18",
   "metadata": {
    "execution": {
     "iopub.execute_input": "2023-03-21T13:17:23.250715Z",
     "iopub.status.busy": "2023-03-21T13:17:23.250143Z",
     "iopub.status.idle": "2023-03-21T13:17:23.255066Z",
     "shell.execute_reply": "2023-03-21T13:17:23.254154Z"
    },
    "papermill": {
     "duration": 0.042999,
     "end_time": "2023-03-21T13:17:23.258081",
     "exception": false,
     "start_time": "2023-03-21T13:17:23.215082",
     "status": "completed"
    },
    "tags": []
   },
   "outputs": [],
   "source": [
    "metrics_data = {}"
   ]
  },
  {
   "cell_type": "markdown",
   "id": "b49309ed",
   "metadata": {
    "papermill": {
     "duration": 0.011168,
     "end_time": "2023-03-21T13:17:23.292170",
     "exception": false,
     "start_time": "2023-03-21T13:17:23.281002",
     "status": "completed"
    },
    "tags": []
   },
   "source": [
    "### Baseline: global features (No Time Series)"
   ]
  },
  {
   "cell_type": "code",
   "execution_count": 25,
   "id": "35eb9f66",
   "metadata": {
    "execution": {
     "iopub.execute_input": "2023-03-21T13:17:23.316728Z",
     "iopub.status.busy": "2023-03-21T13:17:23.316217Z",
     "iopub.status.idle": "2023-03-21T13:17:23.321800Z",
     "shell.execute_reply": "2023-03-21T13:17:23.320690Z"
    },
    "papermill": {
     "duration": 0.020019,
     "end_time": "2023-03-21T13:17:23.323587",
     "exception": false,
     "start_time": "2023-03-21T13:17:23.303568",
     "status": "completed"
    },
    "tags": []
   },
   "outputs": [],
   "source": [
    "metrics_data['Global'] = {}"
   ]
  },
  {
   "cell_type": "markdown",
   "id": "29cd5044",
   "metadata": {
    "papermill": {
     "duration": 0.011963,
     "end_time": "2023-03-21T13:17:23.347336",
     "exception": false,
     "start_time": "2023-03-21T13:17:23.335373",
     "status": "completed"
    },
    "tags": []
   },
   "source": [
    "**Decision Tree**"
   ]
  },
  {
   "cell_type": "code",
   "execution_count": 26,
   "id": "9ef4f037",
   "metadata": {
    "execution": {
     "iopub.execute_input": "2023-03-21T13:17:23.372207Z",
     "iopub.status.busy": "2023-03-21T13:17:23.371730Z",
     "iopub.status.idle": "2023-03-21T13:17:23.628177Z",
     "shell.execute_reply": "2023-03-21T13:17:23.627277Z"
    },
    "papermill": {
     "duration": 0.271238,
     "end_time": "2023-03-21T13:17:23.630097",
     "exception": false,
     "start_time": "2023-03-21T13:17:23.358859",
     "status": "completed"
    },
    "tags": []
   },
   "outputs": [
    {
     "data": {
      "text/html": [
       "<style>#sk-container-id-1 {color: black;background-color: white;}#sk-container-id-1 pre{padding: 0;}#sk-container-id-1 div.sk-toggleable {background-color: white;}#sk-container-id-1 label.sk-toggleable__label {cursor: pointer;display: block;width: 100%;margin-bottom: 0;padding: 0.3em;box-sizing: border-box;text-align: center;}#sk-container-id-1 label.sk-toggleable__label-arrow:before {content: \"▸\";float: left;margin-right: 0.25em;color: #696969;}#sk-container-id-1 label.sk-toggleable__label-arrow:hover:before {color: black;}#sk-container-id-1 div.sk-estimator:hover label.sk-toggleable__label-arrow:before {color: black;}#sk-container-id-1 div.sk-toggleable__content {max-height: 0;max-width: 0;overflow: hidden;text-align: left;background-color: #f0f8ff;}#sk-container-id-1 div.sk-toggleable__content pre {margin: 0.2em;color: black;border-radius: 0.25em;background-color: #f0f8ff;}#sk-container-id-1 input.sk-toggleable__control:checked~div.sk-toggleable__content {max-height: 200px;max-width: 100%;overflow: auto;}#sk-container-id-1 input.sk-toggleable__control:checked~label.sk-toggleable__label-arrow:before {content: \"▾\";}#sk-container-id-1 div.sk-estimator input.sk-toggleable__control:checked~label.sk-toggleable__label {background-color: #d4ebff;}#sk-container-id-1 div.sk-label input.sk-toggleable__control:checked~label.sk-toggleable__label {background-color: #d4ebff;}#sk-container-id-1 input.sk-hidden--visually {border: 0;clip: rect(1px 1px 1px 1px);clip: rect(1px, 1px, 1px, 1px);height: 1px;margin: -1px;overflow: hidden;padding: 0;position: absolute;width: 1px;}#sk-container-id-1 div.sk-estimator {font-family: monospace;background-color: #f0f8ff;border: 1px dotted black;border-radius: 0.25em;box-sizing: border-box;margin-bottom: 0.5em;}#sk-container-id-1 div.sk-estimator:hover {background-color: #d4ebff;}#sk-container-id-1 div.sk-parallel-item::after {content: \"\";width: 100%;border-bottom: 1px solid gray;flex-grow: 1;}#sk-container-id-1 div.sk-label:hover label.sk-toggleable__label {background-color: #d4ebff;}#sk-container-id-1 div.sk-serial::before {content: \"\";position: absolute;border-left: 1px solid gray;box-sizing: border-box;top: 0;bottom: 0;left: 50%;z-index: 0;}#sk-container-id-1 div.sk-serial {display: flex;flex-direction: column;align-items: center;background-color: white;padding-right: 0.2em;padding-left: 0.2em;position: relative;}#sk-container-id-1 div.sk-item {position: relative;z-index: 1;}#sk-container-id-1 div.sk-parallel {display: flex;align-items: stretch;justify-content: center;background-color: white;position: relative;}#sk-container-id-1 div.sk-item::before, #sk-container-id-1 div.sk-parallel-item::before {content: \"\";position: absolute;border-left: 1px solid gray;box-sizing: border-box;top: 0;bottom: 0;left: 50%;z-index: -1;}#sk-container-id-1 div.sk-parallel-item {display: flex;flex-direction: column;z-index: 1;position: relative;background-color: white;}#sk-container-id-1 div.sk-parallel-item:first-child::after {align-self: flex-end;width: 50%;}#sk-container-id-1 div.sk-parallel-item:last-child::after {align-self: flex-start;width: 50%;}#sk-container-id-1 div.sk-parallel-item:only-child::after {width: 0;}#sk-container-id-1 div.sk-dashed-wrapped {border: 1px dashed gray;margin: 0 0.4em 0.5em 0.4em;box-sizing: border-box;padding-bottom: 0.4em;background-color: white;}#sk-container-id-1 div.sk-label label {font-family: monospace;font-weight: bold;display: inline-block;line-height: 1.2em;}#sk-container-id-1 div.sk-label-container {text-align: center;}#sk-container-id-1 div.sk-container {/* jupyter's `normalize.less` sets `[hidden] { display: none; }` but bootstrap.min.css set `[hidden] { display: none !important; }` so we also need the `!important` here to be able to override the default hidden behavior on the sphinx rendered scikit-learn.org. See: https://github.com/scikit-learn/scikit-learn/issues/21755 */display: inline-block !important;position: relative;}#sk-container-id-1 div.sk-text-repr-fallback {display: none;}</style><div id=\"sk-container-id-1\" class=\"sk-top-container\"><div class=\"sk-text-repr-fallback\"><pre>DecisionTreeClassifier()</pre><b>In a Jupyter environment, please rerun this cell to show the HTML representation or trust the notebook. <br />On GitHub, the HTML representation is unable to render, please try loading this page with nbviewer.org.</b></div><div class=\"sk-container\" hidden><div class=\"sk-item\"><div class=\"sk-estimator sk-toggleable\"><input class=\"sk-toggleable__control sk-hidden--visually\" id=\"sk-estimator-id-1\" type=\"checkbox\" checked><label for=\"sk-estimator-id-1\" class=\"sk-toggleable__label sk-toggleable__label-arrow\">DecisionTreeClassifier</label><div class=\"sk-toggleable__content\"><pre>DecisionTreeClassifier()</pre></div></div></div></div></div>"
      ],
      "text/plain": [
       "DecisionTreeClassifier()"
      ]
     },
     "execution_count": 26,
     "metadata": {},
     "output_type": "execute_result"
    }
   ],
   "source": [
    "clf = DecisionTreeClassifier()\n",
    "clf.fit(X_train, y_train)"
   ]
  },
  {
   "cell_type": "code",
   "execution_count": 27,
   "id": "9c50acc4",
   "metadata": {
    "execution": {
     "iopub.execute_input": "2023-03-21T13:17:23.658655Z",
     "iopub.status.busy": "2023-03-21T13:17:23.658235Z",
     "iopub.status.idle": "2023-03-21T13:17:23.765581Z",
     "shell.execute_reply": "2023-03-21T13:17:23.764666Z"
    },
    "papermill": {
     "duration": 0.123704,
     "end_time": "2023-03-21T13:17:23.768274",
     "exception": false,
     "start_time": "2023-03-21T13:17:23.644570",
     "status": "completed"
    },
    "tags": []
   },
   "outputs": [
    {
     "name": "stdout",
     "output_type": "stream",
     "text": [
      "              precision    recall  f1-score   support\n",
      "\n",
      "   hard-rock       0.21      0.20      0.21      1000\n",
      " heavy-metal       0.27      0.27      0.27      1000\n",
      "       indie       0.22      0.21      0.22      1000\n",
      "    pop-rock       0.25      0.24      0.24      1000\n",
      "   punk-rock       0.21      0.22      0.21      1000\n",
      "\n",
      "    accuracy                           0.23      5000\n",
      "   macro avg       0.23      0.23      0.23      5000\n",
      "weighted avg       0.23      0.23      0.23      5000\n",
      "\n"
     ]
    }
   ],
   "source": [
    "y_pred = clf.predict(X_test)\n",
    "print(classification_report(y_test, y_pred))"
   ]
  },
  {
   "cell_type": "code",
   "execution_count": 28,
   "id": "8866c3c3",
   "metadata": {
    "execution": {
     "iopub.execute_input": "2023-03-21T13:17:23.836578Z",
     "iopub.status.busy": "2023-03-21T13:17:23.836256Z",
     "iopub.status.idle": "2023-03-21T13:17:23.958899Z",
     "shell.execute_reply": "2023-03-21T13:17:23.958005Z"
    },
    "papermill": {
     "duration": 0.159948,
     "end_time": "2023-03-21T13:17:23.961657",
     "exception": false,
     "start_time": "2023-03-21T13:17:23.801709",
     "status": "completed"
    },
    "tags": []
   },
   "outputs": [],
   "source": [
    "acc = accuracy_score(y_test, y_pred)\n",
    "pre = precision_score(y_test, y_pred, average=avg_par)\n",
    "rec = recall_score(y_test, y_pred, average=avg_par)\n",
    "f1 = f1_score(y_test, y_pred, average=avg_par)\n",
    "\n",
    "metrics_data['Global']['DecisionTree'] = {'Accuracy': acc, 'Precision': pre, 'Recall': rec, 'F1': f1}"
   ]
  },
  {
   "cell_type": "markdown",
   "id": "28aa5a63",
   "metadata": {
    "papermill": {
     "duration": 0.032787,
     "end_time": "2023-03-21T13:17:24.028082",
     "exception": false,
     "start_time": "2023-03-21T13:17:23.995295",
     "status": "completed"
    },
    "tags": []
   },
   "source": [
    "**Random Forest**"
   ]
  },
  {
   "cell_type": "code",
   "execution_count": 29,
   "id": "0e5e2310",
   "metadata": {
    "execution": {
     "iopub.execute_input": "2023-03-21T13:17:24.061023Z",
     "iopub.status.busy": "2023-03-21T13:17:24.060549Z",
     "iopub.status.idle": "2023-03-21T13:17:28.556136Z",
     "shell.execute_reply": "2023-03-21T13:17:28.555215Z"
    },
    "papermill": {
     "duration": 4.511454,
     "end_time": "2023-03-21T13:17:28.558961",
     "exception": false,
     "start_time": "2023-03-21T13:17:24.047507",
     "status": "completed"
    },
    "tags": []
   },
   "outputs": [
    {
     "data": {
      "text/html": [
       "<style>#sk-container-id-2 {color: black;background-color: white;}#sk-container-id-2 pre{padding: 0;}#sk-container-id-2 div.sk-toggleable {background-color: white;}#sk-container-id-2 label.sk-toggleable__label {cursor: pointer;display: block;width: 100%;margin-bottom: 0;padding: 0.3em;box-sizing: border-box;text-align: center;}#sk-container-id-2 label.sk-toggleable__label-arrow:before {content: \"▸\";float: left;margin-right: 0.25em;color: #696969;}#sk-container-id-2 label.sk-toggleable__label-arrow:hover:before {color: black;}#sk-container-id-2 div.sk-estimator:hover label.sk-toggleable__label-arrow:before {color: black;}#sk-container-id-2 div.sk-toggleable__content {max-height: 0;max-width: 0;overflow: hidden;text-align: left;background-color: #f0f8ff;}#sk-container-id-2 div.sk-toggleable__content pre {margin: 0.2em;color: black;border-radius: 0.25em;background-color: #f0f8ff;}#sk-container-id-2 input.sk-toggleable__control:checked~div.sk-toggleable__content {max-height: 200px;max-width: 100%;overflow: auto;}#sk-container-id-2 input.sk-toggleable__control:checked~label.sk-toggleable__label-arrow:before {content: \"▾\";}#sk-container-id-2 div.sk-estimator input.sk-toggleable__control:checked~label.sk-toggleable__label {background-color: #d4ebff;}#sk-container-id-2 div.sk-label input.sk-toggleable__control:checked~label.sk-toggleable__label {background-color: #d4ebff;}#sk-container-id-2 input.sk-hidden--visually {border: 0;clip: rect(1px 1px 1px 1px);clip: rect(1px, 1px, 1px, 1px);height: 1px;margin: -1px;overflow: hidden;padding: 0;position: absolute;width: 1px;}#sk-container-id-2 div.sk-estimator {font-family: monospace;background-color: #f0f8ff;border: 1px dotted black;border-radius: 0.25em;box-sizing: border-box;margin-bottom: 0.5em;}#sk-container-id-2 div.sk-estimator:hover {background-color: #d4ebff;}#sk-container-id-2 div.sk-parallel-item::after {content: \"\";width: 100%;border-bottom: 1px solid gray;flex-grow: 1;}#sk-container-id-2 div.sk-label:hover label.sk-toggleable__label {background-color: #d4ebff;}#sk-container-id-2 div.sk-serial::before {content: \"\";position: absolute;border-left: 1px solid gray;box-sizing: border-box;top: 0;bottom: 0;left: 50%;z-index: 0;}#sk-container-id-2 div.sk-serial {display: flex;flex-direction: column;align-items: center;background-color: white;padding-right: 0.2em;padding-left: 0.2em;position: relative;}#sk-container-id-2 div.sk-item {position: relative;z-index: 1;}#sk-container-id-2 div.sk-parallel {display: flex;align-items: stretch;justify-content: center;background-color: white;position: relative;}#sk-container-id-2 div.sk-item::before, #sk-container-id-2 div.sk-parallel-item::before {content: \"\";position: absolute;border-left: 1px solid gray;box-sizing: border-box;top: 0;bottom: 0;left: 50%;z-index: -1;}#sk-container-id-2 div.sk-parallel-item {display: flex;flex-direction: column;z-index: 1;position: relative;background-color: white;}#sk-container-id-2 div.sk-parallel-item:first-child::after {align-self: flex-end;width: 50%;}#sk-container-id-2 div.sk-parallel-item:last-child::after {align-self: flex-start;width: 50%;}#sk-container-id-2 div.sk-parallel-item:only-child::after {width: 0;}#sk-container-id-2 div.sk-dashed-wrapped {border: 1px dashed gray;margin: 0 0.4em 0.5em 0.4em;box-sizing: border-box;padding-bottom: 0.4em;background-color: white;}#sk-container-id-2 div.sk-label label {font-family: monospace;font-weight: bold;display: inline-block;line-height: 1.2em;}#sk-container-id-2 div.sk-label-container {text-align: center;}#sk-container-id-2 div.sk-container {/* jupyter's `normalize.less` sets `[hidden] { display: none; }` but bootstrap.min.css set `[hidden] { display: none !important; }` so we also need the `!important` here to be able to override the default hidden behavior on the sphinx rendered scikit-learn.org. See: https://github.com/scikit-learn/scikit-learn/issues/21755 */display: inline-block !important;position: relative;}#sk-container-id-2 div.sk-text-repr-fallback {display: none;}</style><div id=\"sk-container-id-2\" class=\"sk-top-container\"><div class=\"sk-text-repr-fallback\"><pre>RandomForestClassifier(random_state=42)</pre><b>In a Jupyter environment, please rerun this cell to show the HTML representation or trust the notebook. <br />On GitHub, the HTML representation is unable to render, please try loading this page with nbviewer.org.</b></div><div class=\"sk-container\" hidden><div class=\"sk-item\"><div class=\"sk-estimator sk-toggleable\"><input class=\"sk-toggleable__control sk-hidden--visually\" id=\"sk-estimator-id-2\" type=\"checkbox\" checked><label for=\"sk-estimator-id-2\" class=\"sk-toggleable__label sk-toggleable__label-arrow\">RandomForestClassifier</label><div class=\"sk-toggleable__content\"><pre>RandomForestClassifier(random_state=42)</pre></div></div></div></div></div>"
      ],
      "text/plain": [
       "RandomForestClassifier(random_state=42)"
      ]
     },
     "execution_count": 29,
     "metadata": {},
     "output_type": "execute_result"
    }
   ],
   "source": [
    "clf = RandomForestClassifier(random_state=42)\n",
    "clf.fit(X_train, y_train)"
   ]
  },
  {
   "cell_type": "code",
   "execution_count": 30,
   "id": "4bd1304b",
   "metadata": {
    "execution": {
     "iopub.execute_input": "2023-03-21T13:17:28.626348Z",
     "iopub.status.busy": "2023-03-21T13:17:28.625914Z",
     "iopub.status.idle": "2023-03-21T13:17:28.859212Z",
     "shell.execute_reply": "2023-03-21T13:17:28.858287Z"
    },
    "papermill": {
     "duration": 0.268969,
     "end_time": "2023-03-21T13:17:28.861832",
     "exception": false,
     "start_time": "2023-03-21T13:17:28.592863",
     "status": "completed"
    },
    "tags": []
   },
   "outputs": [
    {
     "name": "stdout",
     "output_type": "stream",
     "text": [
      "              precision    recall  f1-score   support\n",
      "\n",
      "   hard-rock       0.21      0.19      0.20      1000\n",
      " heavy-metal       0.33      0.39      0.36      1000\n",
      "       indie       0.23      0.23      0.23      1000\n",
      "    pop-rock       0.28      0.30      0.29      1000\n",
      "   punk-rock       0.23      0.20      0.21      1000\n",
      "\n",
      "    accuracy                           0.26      5000\n",
      "   macro avg       0.26      0.26      0.26      5000\n",
      "weighted avg       0.26      0.26      0.26      5000\n",
      "\n"
     ]
    }
   ],
   "source": [
    "y_pred = clf.predict(X_test)\n",
    "print(classification_report(y_test, y_pred))"
   ]
  },
  {
   "cell_type": "code",
   "execution_count": 31,
   "id": "43174ba2",
   "metadata": {
    "execution": {
     "iopub.execute_input": "2023-03-21T13:17:28.930490Z",
     "iopub.status.busy": "2023-03-21T13:17:28.930051Z",
     "iopub.status.idle": "2023-03-21T13:17:29.052593Z",
     "shell.execute_reply": "2023-03-21T13:17:29.051690Z"
    },
    "papermill": {
     "duration": 0.159228,
     "end_time": "2023-03-21T13:17:29.055337",
     "exception": false,
     "start_time": "2023-03-21T13:17:28.896109",
     "status": "completed"
    },
    "tags": []
   },
   "outputs": [],
   "source": [
    "acc = accuracy_score(y_test, y_pred)\n",
    "pre = precision_score(y_test, y_pred, average=avg_par)\n",
    "rec = recall_score(y_test, y_pred, average=avg_par)\n",
    "f1 = f1_score(y_test, y_pred, average=avg_par)\n",
    "\n",
    "metrics_data['Global']['RandomForest'] = {'Accuracy': acc, 'Precision': pre, 'Recall': rec, 'F1': f1}"
   ]
  },
  {
   "cell_type": "markdown",
   "id": "22c98ac5",
   "metadata": {
    "papermill": {
     "duration": 0.032274,
     "end_time": "2023-03-21T13:17:29.121557",
     "exception": false,
     "start_time": "2023-03-21T13:17:29.089283",
     "status": "completed"
    },
    "tags": []
   },
   "source": [
    "**LightGBM**"
   ]
  },
  {
   "cell_type": "code",
   "execution_count": 32,
   "id": "c93b818c",
   "metadata": {
    "execution": {
     "iopub.execute_input": "2023-03-21T13:17:29.154166Z",
     "iopub.status.busy": "2023-03-21T13:17:29.153707Z",
     "iopub.status.idle": "2023-03-21T13:17:29.606583Z",
     "shell.execute_reply": "2023-03-21T13:17:29.605981Z"
    },
    "papermill": {
     "duration": 0.468264,
     "end_time": "2023-03-21T13:17:29.608474",
     "exception": false,
     "start_time": "2023-03-21T13:17:29.140210",
     "status": "completed"
    },
    "tags": []
   },
   "outputs": [
    {
     "data": {
      "text/html": [
       "<style>#sk-container-id-3 {color: black;background-color: white;}#sk-container-id-3 pre{padding: 0;}#sk-container-id-3 div.sk-toggleable {background-color: white;}#sk-container-id-3 label.sk-toggleable__label {cursor: pointer;display: block;width: 100%;margin-bottom: 0;padding: 0.3em;box-sizing: border-box;text-align: center;}#sk-container-id-3 label.sk-toggleable__label-arrow:before {content: \"▸\";float: left;margin-right: 0.25em;color: #696969;}#sk-container-id-3 label.sk-toggleable__label-arrow:hover:before {color: black;}#sk-container-id-3 div.sk-estimator:hover label.sk-toggleable__label-arrow:before {color: black;}#sk-container-id-3 div.sk-toggleable__content {max-height: 0;max-width: 0;overflow: hidden;text-align: left;background-color: #f0f8ff;}#sk-container-id-3 div.sk-toggleable__content pre {margin: 0.2em;color: black;border-radius: 0.25em;background-color: #f0f8ff;}#sk-container-id-3 input.sk-toggleable__control:checked~div.sk-toggleable__content {max-height: 200px;max-width: 100%;overflow: auto;}#sk-container-id-3 input.sk-toggleable__control:checked~label.sk-toggleable__label-arrow:before {content: \"▾\";}#sk-container-id-3 div.sk-estimator input.sk-toggleable__control:checked~label.sk-toggleable__label {background-color: #d4ebff;}#sk-container-id-3 div.sk-label input.sk-toggleable__control:checked~label.sk-toggleable__label {background-color: #d4ebff;}#sk-container-id-3 input.sk-hidden--visually {border: 0;clip: rect(1px 1px 1px 1px);clip: rect(1px, 1px, 1px, 1px);height: 1px;margin: -1px;overflow: hidden;padding: 0;position: absolute;width: 1px;}#sk-container-id-3 div.sk-estimator {font-family: monospace;background-color: #f0f8ff;border: 1px dotted black;border-radius: 0.25em;box-sizing: border-box;margin-bottom: 0.5em;}#sk-container-id-3 div.sk-estimator:hover {background-color: #d4ebff;}#sk-container-id-3 div.sk-parallel-item::after {content: \"\";width: 100%;border-bottom: 1px solid gray;flex-grow: 1;}#sk-container-id-3 div.sk-label:hover label.sk-toggleable__label {background-color: #d4ebff;}#sk-container-id-3 div.sk-serial::before {content: \"\";position: absolute;border-left: 1px solid gray;box-sizing: border-box;top: 0;bottom: 0;left: 50%;z-index: 0;}#sk-container-id-3 div.sk-serial {display: flex;flex-direction: column;align-items: center;background-color: white;padding-right: 0.2em;padding-left: 0.2em;position: relative;}#sk-container-id-3 div.sk-item {position: relative;z-index: 1;}#sk-container-id-3 div.sk-parallel {display: flex;align-items: stretch;justify-content: center;background-color: white;position: relative;}#sk-container-id-3 div.sk-item::before, #sk-container-id-3 div.sk-parallel-item::before {content: \"\";position: absolute;border-left: 1px solid gray;box-sizing: border-box;top: 0;bottom: 0;left: 50%;z-index: -1;}#sk-container-id-3 div.sk-parallel-item {display: flex;flex-direction: column;z-index: 1;position: relative;background-color: white;}#sk-container-id-3 div.sk-parallel-item:first-child::after {align-self: flex-end;width: 50%;}#sk-container-id-3 div.sk-parallel-item:last-child::after {align-self: flex-start;width: 50%;}#sk-container-id-3 div.sk-parallel-item:only-child::after {width: 0;}#sk-container-id-3 div.sk-dashed-wrapped {border: 1px dashed gray;margin: 0 0.4em 0.5em 0.4em;box-sizing: border-box;padding-bottom: 0.4em;background-color: white;}#sk-container-id-3 div.sk-label label {font-family: monospace;font-weight: bold;display: inline-block;line-height: 1.2em;}#sk-container-id-3 div.sk-label-container {text-align: center;}#sk-container-id-3 div.sk-container {/* jupyter's `normalize.less` sets `[hidden] { display: none; }` but bootstrap.min.css set `[hidden] { display: none !important; }` so we also need the `!important` here to be able to override the default hidden behavior on the sphinx rendered scikit-learn.org. See: https://github.com/scikit-learn/scikit-learn/issues/21755 */display: inline-block !important;position: relative;}#sk-container-id-3 div.sk-text-repr-fallback {display: none;}</style><div id=\"sk-container-id-3\" class=\"sk-top-container\"><div class=\"sk-text-repr-fallback\"><pre>LGBMClassifier(objective=&#x27;multiclass&#x27;)</pre><b>In a Jupyter environment, please rerun this cell to show the HTML representation or trust the notebook. <br />On GitHub, the HTML representation is unable to render, please try loading this page with nbviewer.org.</b></div><div class=\"sk-container\" hidden><div class=\"sk-item\"><div class=\"sk-estimator sk-toggleable\"><input class=\"sk-toggleable__control sk-hidden--visually\" id=\"sk-estimator-id-3\" type=\"checkbox\" checked><label for=\"sk-estimator-id-3\" class=\"sk-toggleable__label sk-toggleable__label-arrow\">LGBMClassifier</label><div class=\"sk-toggleable__content\"><pre>LGBMClassifier(objective=&#x27;multiclass&#x27;)</pre></div></div></div></div></div>"
      ],
      "text/plain": [
       "LGBMClassifier(objective='multiclass')"
      ]
     },
     "execution_count": 32,
     "metadata": {},
     "output_type": "execute_result"
    }
   ],
   "source": [
    "clf = lgbm.LGBMClassifier(objective=obj_par) \n",
    "clf.fit(X_train, y_train)"
   ]
  },
  {
   "cell_type": "code",
   "execution_count": 33,
   "id": "600a663a",
   "metadata": {
    "execution": {
     "iopub.execute_input": "2023-03-21T13:17:29.636438Z",
     "iopub.status.busy": "2023-03-21T13:17:29.636025Z",
     "iopub.status.idle": "2023-03-21T13:17:29.773990Z",
     "shell.execute_reply": "2023-03-21T13:17:29.773185Z"
    },
    "papermill": {
     "duration": 0.154532,
     "end_time": "2023-03-21T13:17:29.776585",
     "exception": false,
     "start_time": "2023-03-21T13:17:29.622053",
     "status": "completed"
    },
    "tags": []
   },
   "outputs": [
    {
     "name": "stdout",
     "output_type": "stream",
     "text": [
      "              precision    recall  f1-score   support\n",
      "\n",
      "   hard-rock       0.20      0.12      0.15      1000\n",
      " heavy-metal       0.35      0.45      0.39      1000\n",
      "       indie       0.24      0.25      0.24      1000\n",
      "    pop-rock       0.29      0.36      0.32      1000\n",
      "   punk-rock       0.23      0.19      0.21      1000\n",
      "\n",
      "    accuracy                           0.27      5000\n",
      "   macro avg       0.26      0.27      0.26      5000\n",
      "weighted avg       0.26      0.27      0.26      5000\n",
      "\n"
     ]
    }
   ],
   "source": [
    "y_pred = clf.predict(X_test)\n",
    "print(classification_report(y_test, y_pred))"
   ]
  },
  {
   "cell_type": "code",
   "execution_count": 34,
   "id": "508d831d",
   "metadata": {
    "execution": {
     "iopub.execute_input": "2023-03-21T13:17:29.840928Z",
     "iopub.status.busy": "2023-03-21T13:17:29.840440Z",
     "iopub.status.idle": "2023-03-21T13:17:29.920574Z",
     "shell.execute_reply": "2023-03-21T13:17:29.919757Z"
    },
    "papermill": {
     "duration": 0.115459,
     "end_time": "2023-03-21T13:17:29.923377",
     "exception": false,
     "start_time": "2023-03-21T13:17:29.807918",
     "status": "completed"
    },
    "tags": []
   },
   "outputs": [],
   "source": [
    "acc = accuracy_score(y_test, y_pred)\n",
    "pre = precision_score(y_test, y_pred, average=avg_par)\n",
    "rec = recall_score(y_test, y_pred, average=avg_par)\n",
    "f1 = f1_score(y_test, y_pred, average=avg_par)\n",
    "\n",
    "metrics_data['Global']['LightGBM'] = {'Accuracy': acc, 'Precision': pre, 'Recall': rec, 'F1': f1}"
   ]
  },
  {
   "cell_type": "markdown",
   "id": "14b86894",
   "metadata": {
    "papermill": {
     "duration": 0.031739,
     "end_time": "2023-03-21T13:17:29.989533",
     "exception": false,
     "start_time": "2023-03-21T13:17:29.957794",
     "status": "completed"
    },
    "tags": []
   },
   "source": [
    "### Time Series Classification"
   ]
  },
  {
   "cell_type": "markdown",
   "id": "84c55533",
   "metadata": {
    "papermill": {
     "duration": 0.01192,
     "end_time": "2023-03-21T13:17:30.017949",
     "exception": false,
     "start_time": "2023-03-21T13:17:30.006029",
     "status": "completed"
    },
    "tags": []
   },
   "source": [
    "#### Learning Shapelets"
   ]
  },
  {
   "cell_type": "code",
   "execution_count": 35,
   "id": "488d8eb7",
   "metadata": {
    "execution": {
     "iopub.execute_input": "2023-03-21T13:17:30.043945Z",
     "iopub.status.busy": "2023-03-21T13:17:30.043470Z",
     "iopub.status.idle": "2023-03-21T13:17:31.594754Z",
     "shell.execute_reply": "2023-03-21T13:17:31.593852Z"
    },
    "papermill": {
     "duration": 1.567669,
     "end_time": "2023-03-21T13:17:31.597584",
     "exception": false,
     "start_time": "2023-03-21T13:17:30.029915",
     "status": "completed"
    },
    "tags": []
   },
   "outputs": [
    {
     "name": "stderr",
     "output_type": "stream",
     "text": [
      "2023-03-21 14:17:30.050433: I tensorflow/core/platform/cpu_feature_guard.cc:193] This TensorFlow binary is optimized with oneAPI Deep Neural Network Library (oneDNN) to use the following CPU instructions in performance-critical operations:  AVX2 FMA\n",
      "To enable them in other operations, rebuild TensorFlow with the appropriate compiler flags.\n"
     ]
    },
    {
     "name": "stderr",
     "output_type": "stream",
     "text": [
      "2023-03-21 14:17:30.212533: W tensorflow/compiler/xla/stream_executor/platform/default/dso_loader.cc:64] Could not load dynamic library 'libcudart.so.11.0'; dlerror: libcudart.so.11.0: cannot open shared object file: No such file or directory\n",
      "2023-03-21 14:17:30.212558: I tensorflow/compiler/xla/stream_executor/cuda/cudart_stub.cc:29] Ignore above cudart dlerror if you do not have a GPU set up on your machine.\n"
     ]
    },
    {
     "name": "stderr",
     "output_type": "stream",
     "text": [
      "2023-03-21 14:17:30.831747: W tensorflow/compiler/xla/stream_executor/platform/default/dso_loader.cc:64] Could not load dynamic library 'libnvinfer.so.7'; dlerror: libnvinfer.so.7: cannot open shared object file: No such file or directory\n",
      "2023-03-21 14:17:30.831819: W tensorflow/compiler/xla/stream_executor/platform/default/dso_loader.cc:64] Could not load dynamic library 'libnvinfer_plugin.so.7'; dlerror: libnvinfer_plugin.so.7: cannot open shared object file: No such file or directory\n",
      "2023-03-21 14:17:30.831828: W tensorflow/compiler/tf2tensorrt/utils/py_utils.cc:38] TF-TRT Warning: Cannot dlopen some TensorRT libraries. If you would like to use Nvidia GPU with TensorRT, please make sure the missing libraries mentioned above are installed properly.\n"
     ]
    }
   ],
   "source": [
    "from tslearn.shapelets import LearningShapelets, grabocka_params_to_shapelet_size_dict"
   ]
  },
  {
   "cell_type": "code",
   "execution_count": 36,
   "id": "eb677959",
   "metadata": {
    "execution": {
     "iopub.execute_input": "2023-03-21T13:17:31.669101Z",
     "iopub.status.busy": "2023-03-21T13:17:31.668604Z",
     "iopub.status.idle": "2023-03-21T13:17:31.674067Z",
     "shell.execute_reply": "2023-03-21T13:17:31.673028Z"
    },
    "papermill": {
     "duration": 0.044835,
     "end_time": "2023-03-21T13:17:31.677134",
     "exception": false,
     "start_time": "2023-03-21T13:17:31.632299",
     "status": "completed"
    },
    "tags": []
   },
   "outputs": [],
   "source": [
    "n_ts, ts_sz, _ = ts_train.shape\n",
    "n_classes = len(set(y_train))"
   ]
  },
  {
   "cell_type": "code",
   "execution_count": 37,
   "id": "776ed3dd",
   "metadata": {
    "execution": {
     "iopub.execute_input": "2023-03-21T13:17:31.715193Z",
     "iopub.status.busy": "2023-03-21T13:17:31.714888Z",
     "iopub.status.idle": "2023-03-21T13:17:31.722912Z",
     "shell.execute_reply": "2023-03-21T13:17:31.721590Z"
    },
    "papermill": {
     "duration": 0.022982,
     "end_time": "2023-03-21T13:17:31.724625",
     "exception": false,
     "start_time": "2023-03-21T13:17:31.701643",
     "status": "completed"
    },
    "tags": []
   },
   "outputs": [
    {
     "name": "stdout",
     "output_type": "stream",
     "text": [
      "n_ts 20000\n",
      "ts_sz 100\n",
      "n_classes 5\n",
      "shapelet_sizes {10: 6}\n"
     ]
    }
   ],
   "source": [
    "# Set the number of shapelets per size as done in the original paper\n",
    "g_shapelet_sizes = grabocka_params_to_shapelet_size_dict(n_ts=n_ts,\n",
    "                                                         ts_sz=ts_sz,\n",
    "                                                         n_classes=n_classes,\n",
    "                                                         l=0.1,\n",
    "                                                         r=1)\n",
    "\n",
    "print('n_ts', n_ts)\n",
    "print('ts_sz', ts_sz)\n",
    "print('n_classes', n_classes)\n",
    "print('shapelet_sizes', g_shapelet_sizes)"
   ]
  },
  {
   "cell_type": "code",
   "execution_count": 38,
   "id": "90ed707e",
   "metadata": {
    "execution": {
     "iopub.execute_input": "2023-03-21T13:17:31.751966Z",
     "iopub.status.busy": "2023-03-21T13:17:31.751074Z",
     "iopub.status.idle": "2023-03-21T13:17:31.761057Z",
     "shell.execute_reply": "2023-03-21T13:17:31.759684Z"
    },
    "papermill": {
     "duration": 0.025869,
     "end_time": "2023-03-21T13:17:31.763156",
     "exception": false,
     "start_time": "2023-03-21T13:17:31.737287",
     "status": "completed"
    },
    "tags": []
   },
   "outputs": [
    {
     "data": {
      "text/plain": [
       "{10: 6, 20: 6, 5: 6}"
      ]
     },
     "execution_count": 38,
     "metadata": {},
     "output_type": "execute_result"
    }
   ],
   "source": [
    "shapelet_sizes = {}\n",
    "for key in g_shapelet_sizes:\n",
    "    shapelet_sizes[key] = g_shapelet_sizes[key]\n",
    "    shapelet_sizes[key*2] = g_shapelet_sizes[key]\n",
    "    shapelet_sizes[key//2] = g_shapelet_sizes[key]\n",
    "shapelet_sizes"
   ]
  },
  {
   "cell_type": "code",
   "execution_count": 39,
   "id": "3507fb9c",
   "metadata": {
    "execution": {
     "iopub.execute_input": "2023-03-21T13:17:31.790292Z",
     "iopub.status.busy": "2023-03-21T13:17:31.789831Z",
     "iopub.status.idle": "2023-03-21T13:17:31.797265Z",
     "shell.execute_reply": "2023-03-21T13:17:31.796164Z"
    },
    "papermill": {
     "duration": 0.022839,
     "end_time": "2023-03-21T13:17:31.798967",
     "exception": false,
     "start_time": "2023-03-21T13:17:31.776128",
     "status": "completed"
    },
    "tags": []
   },
   "outputs": [
    {
     "name": "stderr",
     "output_type": "stream",
     "text": [
      "/home/mattiapggioli/lyrics2ts/.venv/lib/python3.9/site-packages/tslearn/shapelets/shapelets.py:354: FutureWarning: The default value for 'scale' is set to False in version 0.4 to ensure backward compatibility, but is likely to change in a future version.\n",
      "  warnings.warn(\"The default value for 'scale' is set to False \"\n"
     ]
    }
   ],
   "source": [
    "model = LearningShapelets(n_shapelets_per_size=shapelet_sizes,\n",
    "                          optimizer=\"adam\", \n",
    "                          weight_regularizer=.01, \n",
    "                          max_iter=max_iter, verbose=0, random_state=42)"
   ]
  },
  {
   "cell_type": "code",
   "execution_count": 40,
   "id": "73b1fe2e",
   "metadata": {
    "execution": {
     "iopub.execute_input": "2023-03-21T13:17:31.825273Z",
     "iopub.status.busy": "2023-03-21T13:17:31.824958Z",
     "iopub.status.idle": "2023-03-21T13:45:53.937361Z",
     "shell.execute_reply": "2023-03-21T13:45:53.936574Z"
    },
    "papermill": {
     "duration": 1702.144588,
     "end_time": "2023-03-21T13:45:53.955945",
     "exception": false,
     "start_time": "2023-03-21T13:17:31.811357",
     "status": "completed"
    },
    "tags": []
   },
   "outputs": [
    {
     "name": "stderr",
     "output_type": "stream",
     "text": [
      "2023-03-21 14:17:32.457203: W tensorflow/compiler/xla/stream_executor/platform/default/dso_loader.cc:64] Could not load dynamic library 'libcuda.so.1'; dlerror: libcuda.so.1: cannot open shared object file: No such file or directory\n",
      "2023-03-21 14:17:32.457239: W tensorflow/compiler/xla/stream_executor/cuda/cuda_driver.cc:265] failed call to cuInit: UNKNOWN ERROR (303)\n",
      "2023-03-21 14:17:32.457261: I tensorflow/compiler/xla/stream_executor/cuda/cuda_diagnostics.cc:156] kernel driver does not appear to be running on this host (mattiapggioli-ThinkPad-E595): /proc/driver/nvidia/version does not exist\n",
      "2023-03-21 14:17:32.457485: I tensorflow/core/platform/cpu_feature_guard.cc:193] This TensorFlow binary is optimized with oneAPI Deep Neural Network Library (oneDNN) to use the following CPU instructions in performance-critical operations:  AVX2 FMA\n",
      "To enable them in other operations, rebuild TensorFlow with the appropriate compiler flags.\n"
     ]
    },
    {
     "name": "stdout",
     "output_type": "stream",
     "text": [
      "CPU times: user 2h 41min 52s, sys: 9min 12s, total: 2h 51min 4s\n",
      "Wall time: 28min 22s\n"
     ]
    },
    {
     "data": {
      "text/html": [
       "<style>#sk-container-id-4 {color: black;background-color: white;}#sk-container-id-4 pre{padding: 0;}#sk-container-id-4 div.sk-toggleable {background-color: white;}#sk-container-id-4 label.sk-toggleable__label {cursor: pointer;display: block;width: 100%;margin-bottom: 0;padding: 0.3em;box-sizing: border-box;text-align: center;}#sk-container-id-4 label.sk-toggleable__label-arrow:before {content: \"▸\";float: left;margin-right: 0.25em;color: #696969;}#sk-container-id-4 label.sk-toggleable__label-arrow:hover:before {color: black;}#sk-container-id-4 div.sk-estimator:hover label.sk-toggleable__label-arrow:before {color: black;}#sk-container-id-4 div.sk-toggleable__content {max-height: 0;max-width: 0;overflow: hidden;text-align: left;background-color: #f0f8ff;}#sk-container-id-4 div.sk-toggleable__content pre {margin: 0.2em;color: black;border-radius: 0.25em;background-color: #f0f8ff;}#sk-container-id-4 input.sk-toggleable__control:checked~div.sk-toggleable__content {max-height: 200px;max-width: 100%;overflow: auto;}#sk-container-id-4 input.sk-toggleable__control:checked~label.sk-toggleable__label-arrow:before {content: \"▾\";}#sk-container-id-4 div.sk-estimator input.sk-toggleable__control:checked~label.sk-toggleable__label {background-color: #d4ebff;}#sk-container-id-4 div.sk-label input.sk-toggleable__control:checked~label.sk-toggleable__label {background-color: #d4ebff;}#sk-container-id-4 input.sk-hidden--visually {border: 0;clip: rect(1px 1px 1px 1px);clip: rect(1px, 1px, 1px, 1px);height: 1px;margin: -1px;overflow: hidden;padding: 0;position: absolute;width: 1px;}#sk-container-id-4 div.sk-estimator {font-family: monospace;background-color: #f0f8ff;border: 1px dotted black;border-radius: 0.25em;box-sizing: border-box;margin-bottom: 0.5em;}#sk-container-id-4 div.sk-estimator:hover {background-color: #d4ebff;}#sk-container-id-4 div.sk-parallel-item::after {content: \"\";width: 100%;border-bottom: 1px solid gray;flex-grow: 1;}#sk-container-id-4 div.sk-label:hover label.sk-toggleable__label {background-color: #d4ebff;}#sk-container-id-4 div.sk-serial::before {content: \"\";position: absolute;border-left: 1px solid gray;box-sizing: border-box;top: 0;bottom: 0;left: 50%;z-index: 0;}#sk-container-id-4 div.sk-serial {display: flex;flex-direction: column;align-items: center;background-color: white;padding-right: 0.2em;padding-left: 0.2em;position: relative;}#sk-container-id-4 div.sk-item {position: relative;z-index: 1;}#sk-container-id-4 div.sk-parallel {display: flex;align-items: stretch;justify-content: center;background-color: white;position: relative;}#sk-container-id-4 div.sk-item::before, #sk-container-id-4 div.sk-parallel-item::before {content: \"\";position: absolute;border-left: 1px solid gray;box-sizing: border-box;top: 0;bottom: 0;left: 50%;z-index: -1;}#sk-container-id-4 div.sk-parallel-item {display: flex;flex-direction: column;z-index: 1;position: relative;background-color: white;}#sk-container-id-4 div.sk-parallel-item:first-child::after {align-self: flex-end;width: 50%;}#sk-container-id-4 div.sk-parallel-item:last-child::after {align-self: flex-start;width: 50%;}#sk-container-id-4 div.sk-parallel-item:only-child::after {width: 0;}#sk-container-id-4 div.sk-dashed-wrapped {border: 1px dashed gray;margin: 0 0.4em 0.5em 0.4em;box-sizing: border-box;padding-bottom: 0.4em;background-color: white;}#sk-container-id-4 div.sk-label label {font-family: monospace;font-weight: bold;display: inline-block;line-height: 1.2em;}#sk-container-id-4 div.sk-label-container {text-align: center;}#sk-container-id-4 div.sk-container {/* jupyter's `normalize.less` sets `[hidden] { display: none; }` but bootstrap.min.css set `[hidden] { display: none !important; }` so we also need the `!important` here to be able to override the default hidden behavior on the sphinx rendered scikit-learn.org. See: https://github.com/scikit-learn/scikit-learn/issues/21755 */display: inline-block !important;position: relative;}#sk-container-id-4 div.sk-text-repr-fallback {display: none;}</style><div id=\"sk-container-id-4\" class=\"sk-top-container\"><div class=\"sk-text-repr-fallback\"><pre>LearningShapelets(max_iter=2000, n_shapelets_per_size={5: 6, 10: 6, 20: 6},\n",
       "                  optimizer=&#x27;adam&#x27;, random_state=42, weight_regularizer=0.01)</pre><b>In a Jupyter environment, please rerun this cell to show the HTML representation or trust the notebook. <br />On GitHub, the HTML representation is unable to render, please try loading this page with nbviewer.org.</b></div><div class=\"sk-container\" hidden><div class=\"sk-item\"><div class=\"sk-estimator sk-toggleable\"><input class=\"sk-toggleable__control sk-hidden--visually\" id=\"sk-estimator-id-4\" type=\"checkbox\" checked><label for=\"sk-estimator-id-4\" class=\"sk-toggleable__label sk-toggleable__label-arrow\">LearningShapelets</label><div class=\"sk-toggleable__content\"><pre>LearningShapelets(max_iter=2000, n_shapelets_per_size={5: 6, 10: 6, 20: 6},\n",
       "                  optimizer=&#x27;adam&#x27;, random_state=42, weight_regularizer=0.01)</pre></div></div></div></div></div>"
      ],
      "text/plain": [
       "LearningShapelets(max_iter=2000, n_shapelets_per_size={5: 6, 10: 6, 20: 6},\n",
       "                  optimizer='adam', random_state=42, weight_regularizer=0.01)"
      ]
     },
     "execution_count": 40,
     "metadata": {},
     "output_type": "execute_result"
    }
   ],
   "source": [
    "%%time\n",
    "model.fit(ts_train, y_train)"
   ]
  },
  {
   "cell_type": "code",
   "execution_count": 41,
   "id": "51706baa",
   "metadata": {
    "execution": {
     "iopub.execute_input": "2023-03-21T13:45:53.989264Z",
     "iopub.status.busy": "2023-03-21T13:45:53.988948Z",
     "iopub.status.idle": "2023-03-21T13:45:54.010539Z",
     "shell.execute_reply": "2023-03-21T13:45:54.009795Z"
    },
    "papermill": {
     "duration": 0.04043,
     "end_time": "2023-03-21T13:45:54.012702",
     "exception": false,
     "start_time": "2023-03-21T13:45:53.972272",
     "status": "completed"
    },
    "tags": []
   },
   "outputs": [],
   "source": [
    "model.to_pickle(f'{data_path}/shapelets.pkl')"
   ]
  },
  {
   "cell_type": "markdown",
   "id": "309f70dc",
   "metadata": {
    "papermill": {
     "duration": 0.01568,
     "end_time": "2023-03-21T13:45:54.045483",
     "exception": false,
     "start_time": "2023-03-21T13:45:54.029803",
     "status": "completed"
    },
    "tags": []
   },
   "source": [
    "#### Shapelet-Based Classification"
   ]
  },
  {
   "cell_type": "code",
   "execution_count": 42,
   "id": "60125dff",
   "metadata": {
    "execution": {
     "iopub.execute_input": "2023-03-21T13:45:54.075598Z",
     "iopub.status.busy": "2023-03-21T13:45:54.075325Z",
     "iopub.status.idle": "2023-03-21T13:45:54.079614Z",
     "shell.execute_reply": "2023-03-21T13:45:54.078599Z"
    },
    "papermill": {
     "duration": 0.020928,
     "end_time": "2023-03-21T13:45:54.081539",
     "exception": false,
     "start_time": "2023-03-21T13:45:54.060611",
     "status": "completed"
    },
    "tags": []
   },
   "outputs": [],
   "source": [
    "metrics_data['Shapelets'] = {}"
   ]
  },
  {
   "cell_type": "code",
   "execution_count": 43,
   "id": "efb8984d",
   "metadata": {
    "execution": {
     "iopub.execute_input": "2023-03-21T13:45:54.115809Z",
     "iopub.status.busy": "2023-03-21T13:45:54.115528Z",
     "iopub.status.idle": "2023-03-21T13:45:56.742973Z",
     "shell.execute_reply": "2023-03-21T13:45:56.741758Z"
    },
    "papermill": {
     "duration": 2.64659,
     "end_time": "2023-03-21T13:45:56.745529",
     "exception": false,
     "start_time": "2023-03-21T13:45:54.098939",
     "status": "completed"
    },
    "tags": []
   },
   "outputs": [],
   "source": [
    "X_train = model.transform(ts_train)\n",
    "X_test = model.transform(ts_test)"
   ]
  },
  {
   "cell_type": "code",
   "execution_count": 44,
   "id": "2e6c0f22",
   "metadata": {
    "execution": {
     "iopub.execute_input": "2023-03-21T13:45:56.791412Z",
     "iopub.status.busy": "2023-03-21T13:45:56.790672Z",
     "iopub.status.idle": "2023-03-21T13:45:56.828730Z",
     "shell.execute_reply": "2023-03-21T13:45:56.827755Z"
    },
    "papermill": {
     "duration": 0.062289,
     "end_time": "2023-03-21T13:45:56.830915",
     "exception": false,
     "start_time": "2023-03-21T13:45:56.768626",
     "status": "completed"
    },
    "tags": []
   },
   "outputs": [
    {
     "data": {
      "text/html": [
       "<div>\n",
       "<style scoped>\n",
       "    .dataframe tbody tr th:only-of-type {\n",
       "        vertical-align: middle;\n",
       "    }\n",
       "\n",
       "    .dataframe tbody tr th {\n",
       "        vertical-align: top;\n",
       "    }\n",
       "\n",
       "    .dataframe thead th {\n",
       "        text-align: right;\n",
       "    }\n",
       "</style>\n",
       "<table border=\"1\" class=\"dataframe\">\n",
       "  <thead>\n",
       "    <tr style=\"text-align: right;\">\n",
       "      <th></th>\n",
       "      <th>0</th>\n",
       "      <th>1</th>\n",
       "      <th>2</th>\n",
       "      <th>3</th>\n",
       "      <th>4</th>\n",
       "      <th>5</th>\n",
       "      <th>6</th>\n",
       "      <th>7</th>\n",
       "      <th>8</th>\n",
       "      <th>9</th>\n",
       "      <th>10</th>\n",
       "      <th>11</th>\n",
       "      <th>12</th>\n",
       "      <th>13</th>\n",
       "      <th>14</th>\n",
       "      <th>15</th>\n",
       "      <th>16</th>\n",
       "      <th>17</th>\n",
       "    </tr>\n",
       "  </thead>\n",
       "  <tbody>\n",
       "    <tr>\n",
       "      <th>0</th>\n",
       "      <td>8.249335</td>\n",
       "      <td>3.611318</td>\n",
       "      <td>2.796391</td>\n",
       "      <td>0.066644</td>\n",
       "      <td>0.001358</td>\n",
       "      <td>0.045446</td>\n",
       "      <td>2.429895</td>\n",
       "      <td>3.323981</td>\n",
       "      <td>3.788157</td>\n",
       "      <td>3.372087</td>\n",
       "      <td>1.057340</td>\n",
       "      <td>5.079569</td>\n",
       "      <td>4.004180</td>\n",
       "      <td>1.941783</td>\n",
       "      <td>1.846655</td>\n",
       "      <td>4.121922</td>\n",
       "      <td>3.374670</td>\n",
       "      <td>4.113391</td>\n",
       "    </tr>\n",
       "    <tr>\n",
       "      <th>1</th>\n",
       "      <td>7.618811</td>\n",
       "      <td>3.073110</td>\n",
       "      <td>2.247232</td>\n",
       "      <td>0.165849</td>\n",
       "      <td>0.019450</td>\n",
       "      <td>0.146845</td>\n",
       "      <td>2.196533</td>\n",
       "      <td>3.377940</td>\n",
       "      <td>3.812111</td>\n",
       "      <td>3.091929</td>\n",
       "      <td>1.341586</td>\n",
       "      <td>4.123682</td>\n",
       "      <td>3.684493</td>\n",
       "      <td>2.259670</td>\n",
       "      <td>2.096949</td>\n",
       "      <td>3.668335</td>\n",
       "      <td>3.002191</td>\n",
       "      <td>3.797429</td>\n",
       "    </tr>\n",
       "    <tr>\n",
       "      <th>2</th>\n",
       "      <td>8.287250</td>\n",
       "      <td>3.195580</td>\n",
       "      <td>2.243573</td>\n",
       "      <td>0.026373</td>\n",
       "      <td>0.000802</td>\n",
       "      <td>0.099436</td>\n",
       "      <td>2.031588</td>\n",
       "      <td>3.478823</td>\n",
       "      <td>3.966679</td>\n",
       "      <td>3.650556</td>\n",
       "      <td>1.081620</td>\n",
       "      <td>4.960857</td>\n",
       "      <td>3.684015</td>\n",
       "      <td>2.109211</td>\n",
       "      <td>2.024766</td>\n",
       "      <td>3.770867</td>\n",
       "      <td>3.082851</td>\n",
       "      <td>3.791200</td>\n",
       "    </tr>\n",
       "    <tr>\n",
       "      <th>3</th>\n",
       "      <td>7.376691</td>\n",
       "      <td>3.054037</td>\n",
       "      <td>2.387881</td>\n",
       "      <td>0.028461</td>\n",
       "      <td>0.000103</td>\n",
       "      <td>0.025451</td>\n",
       "      <td>2.465986</td>\n",
       "      <td>3.301531</td>\n",
       "      <td>3.635683</td>\n",
       "      <td>3.457446</td>\n",
       "      <td>0.907246</td>\n",
       "      <td>4.746076</td>\n",
       "      <td>3.775030</td>\n",
       "      <td>1.713073</td>\n",
       "      <td>1.638579</td>\n",
       "      <td>3.942616</td>\n",
       "      <td>3.143247</td>\n",
       "      <td>3.883000</td>\n",
       "    </tr>\n",
       "    <tr>\n",
       "      <th>4</th>\n",
       "      <td>7.381344</td>\n",
       "      <td>3.146829</td>\n",
       "      <td>2.801500</td>\n",
       "      <td>0.016386</td>\n",
       "      <td>0.002382</td>\n",
       "      <td>0.028698</td>\n",
       "      <td>2.553995</td>\n",
       "      <td>3.224820</td>\n",
       "      <td>3.407670</td>\n",
       "      <td>3.489281</td>\n",
       "      <td>0.899827</td>\n",
       "      <td>4.943593</td>\n",
       "      <td>4.121923</td>\n",
       "      <td>1.737306</td>\n",
       "      <td>1.655873</td>\n",
       "      <td>4.338996</td>\n",
       "      <td>3.532000</td>\n",
       "      <td>4.226434</td>\n",
       "    </tr>\n",
       "    <tr>\n",
       "      <th>...</th>\n",
       "      <td>...</td>\n",
       "      <td>...</td>\n",
       "      <td>...</td>\n",
       "      <td>...</td>\n",
       "      <td>...</td>\n",
       "      <td>...</td>\n",
       "      <td>...</td>\n",
       "      <td>...</td>\n",
       "      <td>...</td>\n",
       "      <td>...</td>\n",
       "      <td>...</td>\n",
       "      <td>...</td>\n",
       "      <td>...</td>\n",
       "      <td>...</td>\n",
       "      <td>...</td>\n",
       "      <td>...</td>\n",
       "      <td>...</td>\n",
       "      <td>...</td>\n",
       "    </tr>\n",
       "    <tr>\n",
       "      <th>4995</th>\n",
       "      <td>6.956993</td>\n",
       "      <td>3.904643</td>\n",
       "      <td>2.814018</td>\n",
       "      <td>0.005363</td>\n",
       "      <td>0.009312</td>\n",
       "      <td>0.026869</td>\n",
       "      <td>2.775910</td>\n",
       "      <td>3.001448</td>\n",
       "      <td>3.344341</td>\n",
       "      <td>3.235052</td>\n",
       "      <td>0.743069</td>\n",
       "      <td>4.743472</td>\n",
       "      <td>4.546862</td>\n",
       "      <td>1.561148</td>\n",
       "      <td>1.543494</td>\n",
       "      <td>4.626707</td>\n",
       "      <td>3.870435</td>\n",
       "      <td>4.673015</td>\n",
       "    </tr>\n",
       "    <tr>\n",
       "      <th>4996</th>\n",
       "      <td>7.449565</td>\n",
       "      <td>3.808816</td>\n",
       "      <td>3.352306</td>\n",
       "      <td>0.029396</td>\n",
       "      <td>0.006749</td>\n",
       "      <td>0.058973</td>\n",
       "      <td>2.755566</td>\n",
       "      <td>3.091988</td>\n",
       "      <td>3.773387</td>\n",
       "      <td>3.489701</td>\n",
       "      <td>0.796193</td>\n",
       "      <td>5.076663</td>\n",
       "      <td>4.586673</td>\n",
       "      <td>1.708944</td>\n",
       "      <td>1.698335</td>\n",
       "      <td>4.699882</td>\n",
       "      <td>3.901682</td>\n",
       "      <td>4.716866</td>\n",
       "    </tr>\n",
       "    <tr>\n",
       "      <th>4997</th>\n",
       "      <td>8.242885</td>\n",
       "      <td>3.246572</td>\n",
       "      <td>2.542107</td>\n",
       "      <td>0.076165</td>\n",
       "      <td>0.000802</td>\n",
       "      <td>0.097618</td>\n",
       "      <td>2.303450</td>\n",
       "      <td>3.366522</td>\n",
       "      <td>3.788593</td>\n",
       "      <td>3.348715</td>\n",
       "      <td>1.130186</td>\n",
       "      <td>4.845490</td>\n",
       "      <td>3.716835</td>\n",
       "      <td>1.990725</td>\n",
       "      <td>1.873339</td>\n",
       "      <td>3.754174</td>\n",
       "      <td>2.978634</td>\n",
       "      <td>3.832455</td>\n",
       "    </tr>\n",
       "    <tr>\n",
       "      <th>4998</th>\n",
       "      <td>8.304624</td>\n",
       "      <td>2.833689</td>\n",
       "      <td>1.979945</td>\n",
       "      <td>0.100526</td>\n",
       "      <td>0.001358</td>\n",
       "      <td>0.029824</td>\n",
       "      <td>1.685824</td>\n",
       "      <td>3.571625</td>\n",
       "      <td>4.055044</td>\n",
       "      <td>3.635544</td>\n",
       "      <td>1.336111</td>\n",
       "      <td>5.238989</td>\n",
       "      <td>3.110342</td>\n",
       "      <td>2.399458</td>\n",
       "      <td>2.298709</td>\n",
       "      <td>3.118658</td>\n",
       "      <td>2.515052</td>\n",
       "      <td>3.210330</td>\n",
       "    </tr>\n",
       "    <tr>\n",
       "      <th>4999</th>\n",
       "      <td>7.442268</td>\n",
       "      <td>3.480605</td>\n",
       "      <td>2.866526</td>\n",
       "      <td>0.025257</td>\n",
       "      <td>0.000738</td>\n",
       "      <td>0.037940</td>\n",
       "      <td>2.349484</td>\n",
       "      <td>3.125147</td>\n",
       "      <td>3.659456</td>\n",
       "      <td>3.521581</td>\n",
       "      <td>0.915878</td>\n",
       "      <td>5.089251</td>\n",
       "      <td>3.875111</td>\n",
       "      <td>1.764322</td>\n",
       "      <td>1.698951</td>\n",
       "      <td>3.964855</td>\n",
       "      <td>3.267592</td>\n",
       "      <td>3.980368</td>\n",
       "    </tr>\n",
       "  </tbody>\n",
       "</table>\n",
       "<p>5000 rows × 18 columns</p>\n",
       "</div>"
      ],
      "text/plain": [
       "            0         1         2         3         4         5         6   \\\n",
       "0     8.249335  3.611318  2.796391  0.066644  0.001358  0.045446  2.429895   \n",
       "1     7.618811  3.073110  2.247232  0.165849  0.019450  0.146845  2.196533   \n",
       "2     8.287250  3.195580  2.243573  0.026373  0.000802  0.099436  2.031588   \n",
       "3     7.376691  3.054037  2.387881  0.028461  0.000103  0.025451  2.465986   \n",
       "4     7.381344  3.146829  2.801500  0.016386  0.002382  0.028698  2.553995   \n",
       "...        ...       ...       ...       ...       ...       ...       ...   \n",
       "4995  6.956993  3.904643  2.814018  0.005363  0.009312  0.026869  2.775910   \n",
       "4996  7.449565  3.808816  3.352306  0.029396  0.006749  0.058973  2.755566   \n",
       "4997  8.242885  3.246572  2.542107  0.076165  0.000802  0.097618  2.303450   \n",
       "4998  8.304624  2.833689  1.979945  0.100526  0.001358  0.029824  1.685824   \n",
       "4999  7.442268  3.480605  2.866526  0.025257  0.000738  0.037940  2.349484   \n",
       "\n",
       "            7         8         9         10        11        12        13  \\\n",
       "0     3.323981  3.788157  3.372087  1.057340  5.079569  4.004180  1.941783   \n",
       "1     3.377940  3.812111  3.091929  1.341586  4.123682  3.684493  2.259670   \n",
       "2     3.478823  3.966679  3.650556  1.081620  4.960857  3.684015  2.109211   \n",
       "3     3.301531  3.635683  3.457446  0.907246  4.746076  3.775030  1.713073   \n",
       "4     3.224820  3.407670  3.489281  0.899827  4.943593  4.121923  1.737306   \n",
       "...        ...       ...       ...       ...       ...       ...       ...   \n",
       "4995  3.001448  3.344341  3.235052  0.743069  4.743472  4.546862  1.561148   \n",
       "4996  3.091988  3.773387  3.489701  0.796193  5.076663  4.586673  1.708944   \n",
       "4997  3.366522  3.788593  3.348715  1.130186  4.845490  3.716835  1.990725   \n",
       "4998  3.571625  4.055044  3.635544  1.336111  5.238989  3.110342  2.399458   \n",
       "4999  3.125147  3.659456  3.521581  0.915878  5.089251  3.875111  1.764322   \n",
       "\n",
       "            14        15        16        17  \n",
       "0     1.846655  4.121922  3.374670  4.113391  \n",
       "1     2.096949  3.668335  3.002191  3.797429  \n",
       "2     2.024766  3.770867  3.082851  3.791200  \n",
       "3     1.638579  3.942616  3.143247  3.883000  \n",
       "4     1.655873  4.338996  3.532000  4.226434  \n",
       "...        ...       ...       ...       ...  \n",
       "4995  1.543494  4.626707  3.870435  4.673015  \n",
       "4996  1.698335  4.699882  3.901682  4.716866  \n",
       "4997  1.873339  3.754174  2.978634  3.832455  \n",
       "4998  2.298709  3.118658  2.515052  3.210330  \n",
       "4999  1.698951  3.964855  3.267592  3.980368  \n",
       "\n",
       "[5000 rows x 18 columns]"
      ]
     },
     "execution_count": 44,
     "metadata": {},
     "output_type": "execute_result"
    }
   ],
   "source": [
    "pd.DataFrame(X_test)"
   ]
  },
  {
   "cell_type": "markdown",
   "id": "5fa024f7",
   "metadata": {
    "execution": {
     "iopub.execute_input": "2023-02-07T23:47:19.876941Z",
     "iopub.status.busy": "2023-02-07T23:47:19.876424Z",
     "iopub.status.idle": "2023-02-07T23:47:20.399488Z",
     "shell.execute_reply": "2023-02-07T23:47:20.398142Z"
    },
    "papermill": {
     "duration": 0.019543,
     "end_time": "2023-03-21T13:45:56.869321",
     "exception": false,
     "start_time": "2023-03-21T13:45:56.849778",
     "status": "completed"
    },
    "tags": []
   },
   "source": [
    "**Decision Tree**"
   ]
  },
  {
   "cell_type": "code",
   "execution_count": 45,
   "id": "4f5400c9",
   "metadata": {
    "execution": {
     "iopub.execute_input": "2023-03-21T13:45:56.911388Z",
     "iopub.status.busy": "2023-03-21T13:45:56.910265Z",
     "iopub.status.idle": "2023-03-21T13:45:57.652203Z",
     "shell.execute_reply": "2023-03-21T13:45:57.651043Z"
    },
    "papermill": {
     "duration": 0.762747,
     "end_time": "2023-03-21T13:45:57.654190",
     "exception": false,
     "start_time": "2023-03-21T13:45:56.891443",
     "status": "completed"
    },
    "tags": []
   },
   "outputs": [
    {
     "data": {
      "text/html": [
       "<style>#sk-container-id-5 {color: black;background-color: white;}#sk-container-id-5 pre{padding: 0;}#sk-container-id-5 div.sk-toggleable {background-color: white;}#sk-container-id-5 label.sk-toggleable__label {cursor: pointer;display: block;width: 100%;margin-bottom: 0;padding: 0.3em;box-sizing: border-box;text-align: center;}#sk-container-id-5 label.sk-toggleable__label-arrow:before {content: \"▸\";float: left;margin-right: 0.25em;color: #696969;}#sk-container-id-5 label.sk-toggleable__label-arrow:hover:before {color: black;}#sk-container-id-5 div.sk-estimator:hover label.sk-toggleable__label-arrow:before {color: black;}#sk-container-id-5 div.sk-toggleable__content {max-height: 0;max-width: 0;overflow: hidden;text-align: left;background-color: #f0f8ff;}#sk-container-id-5 div.sk-toggleable__content pre {margin: 0.2em;color: black;border-radius: 0.25em;background-color: #f0f8ff;}#sk-container-id-5 input.sk-toggleable__control:checked~div.sk-toggleable__content {max-height: 200px;max-width: 100%;overflow: auto;}#sk-container-id-5 input.sk-toggleable__control:checked~label.sk-toggleable__label-arrow:before {content: \"▾\";}#sk-container-id-5 div.sk-estimator input.sk-toggleable__control:checked~label.sk-toggleable__label {background-color: #d4ebff;}#sk-container-id-5 div.sk-label input.sk-toggleable__control:checked~label.sk-toggleable__label {background-color: #d4ebff;}#sk-container-id-5 input.sk-hidden--visually {border: 0;clip: rect(1px 1px 1px 1px);clip: rect(1px, 1px, 1px, 1px);height: 1px;margin: -1px;overflow: hidden;padding: 0;position: absolute;width: 1px;}#sk-container-id-5 div.sk-estimator {font-family: monospace;background-color: #f0f8ff;border: 1px dotted black;border-radius: 0.25em;box-sizing: border-box;margin-bottom: 0.5em;}#sk-container-id-5 div.sk-estimator:hover {background-color: #d4ebff;}#sk-container-id-5 div.sk-parallel-item::after {content: \"\";width: 100%;border-bottom: 1px solid gray;flex-grow: 1;}#sk-container-id-5 div.sk-label:hover label.sk-toggleable__label {background-color: #d4ebff;}#sk-container-id-5 div.sk-serial::before {content: \"\";position: absolute;border-left: 1px solid gray;box-sizing: border-box;top: 0;bottom: 0;left: 50%;z-index: 0;}#sk-container-id-5 div.sk-serial {display: flex;flex-direction: column;align-items: center;background-color: white;padding-right: 0.2em;padding-left: 0.2em;position: relative;}#sk-container-id-5 div.sk-item {position: relative;z-index: 1;}#sk-container-id-5 div.sk-parallel {display: flex;align-items: stretch;justify-content: center;background-color: white;position: relative;}#sk-container-id-5 div.sk-item::before, #sk-container-id-5 div.sk-parallel-item::before {content: \"\";position: absolute;border-left: 1px solid gray;box-sizing: border-box;top: 0;bottom: 0;left: 50%;z-index: -1;}#sk-container-id-5 div.sk-parallel-item {display: flex;flex-direction: column;z-index: 1;position: relative;background-color: white;}#sk-container-id-5 div.sk-parallel-item:first-child::after {align-self: flex-end;width: 50%;}#sk-container-id-5 div.sk-parallel-item:last-child::after {align-self: flex-start;width: 50%;}#sk-container-id-5 div.sk-parallel-item:only-child::after {width: 0;}#sk-container-id-5 div.sk-dashed-wrapped {border: 1px dashed gray;margin: 0 0.4em 0.5em 0.4em;box-sizing: border-box;padding-bottom: 0.4em;background-color: white;}#sk-container-id-5 div.sk-label label {font-family: monospace;font-weight: bold;display: inline-block;line-height: 1.2em;}#sk-container-id-5 div.sk-label-container {text-align: center;}#sk-container-id-5 div.sk-container {/* jupyter's `normalize.less` sets `[hidden] { display: none; }` but bootstrap.min.css set `[hidden] { display: none !important; }` so we also need the `!important` here to be able to override the default hidden behavior on the sphinx rendered scikit-learn.org. See: https://github.com/scikit-learn/scikit-learn/issues/21755 */display: inline-block !important;position: relative;}#sk-container-id-5 div.sk-text-repr-fallback {display: none;}</style><div id=\"sk-container-id-5\" class=\"sk-top-container\"><div class=\"sk-text-repr-fallback\"><pre>DecisionTreeClassifier(random_state=42)</pre><b>In a Jupyter environment, please rerun this cell to show the HTML representation or trust the notebook. <br />On GitHub, the HTML representation is unable to render, please try loading this page with nbviewer.org.</b></div><div class=\"sk-container\" hidden><div class=\"sk-item\"><div class=\"sk-estimator sk-toggleable\"><input class=\"sk-toggleable__control sk-hidden--visually\" id=\"sk-estimator-id-5\" type=\"checkbox\" checked><label for=\"sk-estimator-id-5\" class=\"sk-toggleable__label sk-toggleable__label-arrow\">DecisionTreeClassifier</label><div class=\"sk-toggleable__content\"><pre>DecisionTreeClassifier(random_state=42)</pre></div></div></div></div></div>"
      ],
      "text/plain": [
       "DecisionTreeClassifier(random_state=42)"
      ]
     },
     "execution_count": 45,
     "metadata": {},
     "output_type": "execute_result"
    }
   ],
   "source": [
    "clf = DecisionTreeClassifier(random_state=42)\n",
    "clf.fit(X_train, y_train)"
   ]
  },
  {
   "cell_type": "code",
   "execution_count": 46,
   "id": "3b56d190",
   "metadata": {
    "execution": {
     "iopub.execute_input": "2023-03-21T13:45:57.684394Z",
     "iopub.status.busy": "2023-03-21T13:45:57.684046Z",
     "iopub.status.idle": "2023-03-21T13:45:57.804224Z",
     "shell.execute_reply": "2023-03-21T13:45:57.803510Z"
    },
    "papermill": {
     "duration": 0.137637,
     "end_time": "2023-03-21T13:45:57.807244",
     "exception": false,
     "start_time": "2023-03-21T13:45:57.669607",
     "status": "completed"
    },
    "tags": []
   },
   "outputs": [
    {
     "name": "stdout",
     "output_type": "stream",
     "text": [
      "              precision    recall  f1-score   support\n",
      "\n",
      "   hard-rock       0.22      0.23      0.23      1000\n",
      " heavy-metal       0.26      0.26      0.26      1000\n",
      "       indie       0.20      0.19      0.19      1000\n",
      "    pop-rock       0.23      0.22      0.23      1000\n",
      "   punk-rock       0.22      0.22      0.22      1000\n",
      "\n",
      "    accuracy                           0.23      5000\n",
      "   macro avg       0.22      0.23      0.22      5000\n",
      "weighted avg       0.22      0.23      0.22      5000\n",
      "\n"
     ]
    }
   ],
   "source": [
    "y_pred = clf.predict(X_test)\n",
    "print(classification_report(y_test, y_pred))"
   ]
  },
  {
   "cell_type": "code",
   "execution_count": 47,
   "id": "42bc91ff",
   "metadata": {
    "execution": {
     "iopub.execute_input": "2023-03-21T13:45:57.870314Z",
     "iopub.status.busy": "2023-03-21T13:45:57.869472Z",
     "iopub.status.idle": "2023-03-21T13:45:57.879081Z",
     "shell.execute_reply": "2023-03-21T13:45:57.877978Z"
    },
    "papermill": {
     "duration": 0.043714,
     "end_time": "2023-03-21T13:45:57.881859",
     "exception": false,
     "start_time": "2023-03-21T13:45:57.838145",
     "status": "completed"
    },
    "tags": []
   },
   "outputs": [],
   "source": [
    "pickle.dump(clf, open(f'{data_path}/decision_tree.pkl', 'wb'))"
   ]
  },
  {
   "cell_type": "code",
   "execution_count": 48,
   "id": "ea9be210",
   "metadata": {
    "execution": {
     "iopub.execute_input": "2023-03-21T13:45:57.933337Z",
     "iopub.status.busy": "2023-03-21T13:45:57.932169Z",
     "iopub.status.idle": "2023-03-21T13:45:58.066695Z",
     "shell.execute_reply": "2023-03-21T13:45:58.065548Z"
    },
    "papermill": {
     "duration": 0.159136,
     "end_time": "2023-03-21T13:45:58.071337",
     "exception": false,
     "start_time": "2023-03-21T13:45:57.912201",
     "status": "completed"
    },
    "tags": []
   },
   "outputs": [],
   "source": [
    "acc = accuracy_score(y_test, y_pred)\n",
    "pre = precision_score(y_test, y_pred, average=avg_par)\n",
    "rec = recall_score(y_test, y_pred, average=avg_par)\n",
    "f1 = f1_score(y_test, y_pred, average=avg_par)\n",
    "\n",
    "metrics_data['Shapelets']['DecisionTree'] = {'Accuracy': acc, 'Precision': pre, 'Recall': rec, 'F1': f1}"
   ]
  },
  {
   "cell_type": "markdown",
   "id": "3ca3443b",
   "metadata": {
    "papermill": {
     "duration": 0.016578,
     "end_time": "2023-03-21T13:45:58.106734",
     "exception": false,
     "start_time": "2023-03-21T13:45:58.090156",
     "status": "completed"
    },
    "tags": []
   },
   "source": [
    "**Random Forest**"
   ]
  },
  {
   "cell_type": "code",
   "execution_count": 49,
   "id": "37795e21",
   "metadata": {
    "execution": {
     "iopub.execute_input": "2023-03-21T13:45:58.147892Z",
     "iopub.status.busy": "2023-03-21T13:45:58.147502Z",
     "iopub.status.idle": "2023-03-21T13:46:09.051582Z",
     "shell.execute_reply": "2023-03-21T13:46:09.050639Z"
    },
    "papermill": {
     "duration": 10.929184,
     "end_time": "2023-03-21T13:46:09.054410",
     "exception": false,
     "start_time": "2023-03-21T13:45:58.125226",
     "status": "completed"
    },
    "tags": []
   },
   "outputs": [
    {
     "data": {
      "text/html": [
       "<style>#sk-container-id-6 {color: black;background-color: white;}#sk-container-id-6 pre{padding: 0;}#sk-container-id-6 div.sk-toggleable {background-color: white;}#sk-container-id-6 label.sk-toggleable__label {cursor: pointer;display: block;width: 100%;margin-bottom: 0;padding: 0.3em;box-sizing: border-box;text-align: center;}#sk-container-id-6 label.sk-toggleable__label-arrow:before {content: \"▸\";float: left;margin-right: 0.25em;color: #696969;}#sk-container-id-6 label.sk-toggleable__label-arrow:hover:before {color: black;}#sk-container-id-6 div.sk-estimator:hover label.sk-toggleable__label-arrow:before {color: black;}#sk-container-id-6 div.sk-toggleable__content {max-height: 0;max-width: 0;overflow: hidden;text-align: left;background-color: #f0f8ff;}#sk-container-id-6 div.sk-toggleable__content pre {margin: 0.2em;color: black;border-radius: 0.25em;background-color: #f0f8ff;}#sk-container-id-6 input.sk-toggleable__control:checked~div.sk-toggleable__content {max-height: 200px;max-width: 100%;overflow: auto;}#sk-container-id-6 input.sk-toggleable__control:checked~label.sk-toggleable__label-arrow:before {content: \"▾\";}#sk-container-id-6 div.sk-estimator input.sk-toggleable__control:checked~label.sk-toggleable__label {background-color: #d4ebff;}#sk-container-id-6 div.sk-label input.sk-toggleable__control:checked~label.sk-toggleable__label {background-color: #d4ebff;}#sk-container-id-6 input.sk-hidden--visually {border: 0;clip: rect(1px 1px 1px 1px);clip: rect(1px, 1px, 1px, 1px);height: 1px;margin: -1px;overflow: hidden;padding: 0;position: absolute;width: 1px;}#sk-container-id-6 div.sk-estimator {font-family: monospace;background-color: #f0f8ff;border: 1px dotted black;border-radius: 0.25em;box-sizing: border-box;margin-bottom: 0.5em;}#sk-container-id-6 div.sk-estimator:hover {background-color: #d4ebff;}#sk-container-id-6 div.sk-parallel-item::after {content: \"\";width: 100%;border-bottom: 1px solid gray;flex-grow: 1;}#sk-container-id-6 div.sk-label:hover label.sk-toggleable__label {background-color: #d4ebff;}#sk-container-id-6 div.sk-serial::before {content: \"\";position: absolute;border-left: 1px solid gray;box-sizing: border-box;top: 0;bottom: 0;left: 50%;z-index: 0;}#sk-container-id-6 div.sk-serial {display: flex;flex-direction: column;align-items: center;background-color: white;padding-right: 0.2em;padding-left: 0.2em;position: relative;}#sk-container-id-6 div.sk-item {position: relative;z-index: 1;}#sk-container-id-6 div.sk-parallel {display: flex;align-items: stretch;justify-content: center;background-color: white;position: relative;}#sk-container-id-6 div.sk-item::before, #sk-container-id-6 div.sk-parallel-item::before {content: \"\";position: absolute;border-left: 1px solid gray;box-sizing: border-box;top: 0;bottom: 0;left: 50%;z-index: -1;}#sk-container-id-6 div.sk-parallel-item {display: flex;flex-direction: column;z-index: 1;position: relative;background-color: white;}#sk-container-id-6 div.sk-parallel-item:first-child::after {align-self: flex-end;width: 50%;}#sk-container-id-6 div.sk-parallel-item:last-child::after {align-self: flex-start;width: 50%;}#sk-container-id-6 div.sk-parallel-item:only-child::after {width: 0;}#sk-container-id-6 div.sk-dashed-wrapped {border: 1px dashed gray;margin: 0 0.4em 0.5em 0.4em;box-sizing: border-box;padding-bottom: 0.4em;background-color: white;}#sk-container-id-6 div.sk-label label {font-family: monospace;font-weight: bold;display: inline-block;line-height: 1.2em;}#sk-container-id-6 div.sk-label-container {text-align: center;}#sk-container-id-6 div.sk-container {/* jupyter's `normalize.less` sets `[hidden] { display: none; }` but bootstrap.min.css set `[hidden] { display: none !important; }` so we also need the `!important` here to be able to override the default hidden behavior on the sphinx rendered scikit-learn.org. See: https://github.com/scikit-learn/scikit-learn/issues/21755 */display: inline-block !important;position: relative;}#sk-container-id-6 div.sk-text-repr-fallback {display: none;}</style><div id=\"sk-container-id-6\" class=\"sk-top-container\"><div class=\"sk-text-repr-fallback\"><pre>RandomForestClassifier(random_state=42)</pre><b>In a Jupyter environment, please rerun this cell to show the HTML representation or trust the notebook. <br />On GitHub, the HTML representation is unable to render, please try loading this page with nbviewer.org.</b></div><div class=\"sk-container\" hidden><div class=\"sk-item\"><div class=\"sk-estimator sk-toggleable\"><input class=\"sk-toggleable__control sk-hidden--visually\" id=\"sk-estimator-id-6\" type=\"checkbox\" checked><label for=\"sk-estimator-id-6\" class=\"sk-toggleable__label sk-toggleable__label-arrow\">RandomForestClassifier</label><div class=\"sk-toggleable__content\"><pre>RandomForestClassifier(random_state=42)</pre></div></div></div></div></div>"
      ],
      "text/plain": [
       "RandomForestClassifier(random_state=42)"
      ]
     },
     "execution_count": 49,
     "metadata": {},
     "output_type": "execute_result"
    }
   ],
   "source": [
    "clf = RandomForestClassifier(random_state=42)\n",
    "clf.fit(X_train, y_train)"
   ]
  },
  {
   "cell_type": "code",
   "execution_count": 50,
   "id": "581ab90a",
   "metadata": {
    "execution": {
     "iopub.execute_input": "2023-03-21T13:46:09.136517Z",
     "iopub.status.busy": "2023-03-21T13:46:09.136023Z",
     "iopub.status.idle": "2023-03-21T13:46:09.431311Z",
     "shell.execute_reply": "2023-03-21T13:46:09.430478Z"
    },
    "papermill": {
     "duration": 0.3386,
     "end_time": "2023-03-21T13:46:09.434048",
     "exception": false,
     "start_time": "2023-03-21T13:46:09.095448",
     "status": "completed"
    },
    "tags": []
   },
   "outputs": [
    {
     "name": "stdout",
     "output_type": "stream",
     "text": [
      "              precision    recall  f1-score   support\n",
      "\n",
      "   hard-rock       0.23      0.20      0.22      1000\n",
      " heavy-metal       0.32      0.39      0.35      1000\n",
      "       indie       0.24      0.23      0.23      1000\n",
      "    pop-rock       0.29      0.34      0.31      1000\n",
      "   punk-rock       0.26      0.20      0.22      1000\n",
      "\n",
      "    accuracy                           0.27      5000\n",
      "   macro avg       0.27      0.27      0.27      5000\n",
      "weighted avg       0.27      0.27      0.27      5000\n",
      "\n"
     ]
    }
   ],
   "source": [
    "y_pred = clf.predict(X_test)\n",
    "print(classification_report(y_test, y_pred))"
   ]
  },
  {
   "cell_type": "code",
   "execution_count": 51,
   "id": "faf1d7f4",
   "metadata": {
    "execution": {
     "iopub.execute_input": "2023-03-21T13:46:09.471305Z",
     "iopub.status.busy": "2023-03-21T13:46:09.470209Z",
     "iopub.status.idle": "2023-03-21T13:46:09.590495Z",
     "shell.execute_reply": "2023-03-21T13:46:09.589252Z"
    },
    "papermill": {
     "duration": 0.14215,
     "end_time": "2023-03-21T13:46:09.593471",
     "exception": false,
     "start_time": "2023-03-21T13:46:09.451321",
     "status": "completed"
    },
    "tags": []
   },
   "outputs": [],
   "source": [
    "acc = accuracy_score(y_test, y_pred)\n",
    "pre = precision_score(y_test, y_pred, average=avg_par)\n",
    "rec = recall_score(y_test, y_pred, average=avg_par)\n",
    "f1 = f1_score(y_test, y_pred, average=avg_par)\n",
    "\n",
    "metrics_data['Shapelets']['RandomForest'] = {'Accuracy': acc, 'Precision': pre, 'Recall': rec, 'F1': f1}"
   ]
  },
  {
   "cell_type": "markdown",
   "id": "61fceefb",
   "metadata": {
    "papermill": {
     "duration": 0.057931,
     "end_time": "2023-03-21T13:46:09.671914",
     "exception": false,
     "start_time": "2023-03-21T13:46:09.613983",
     "status": "completed"
    },
    "tags": []
   },
   "source": [
    "**LightGBM**"
   ]
  },
  {
   "cell_type": "code",
   "execution_count": 52,
   "id": "194189da",
   "metadata": {
    "execution": {
     "iopub.execute_input": "2023-03-21T13:46:09.709180Z",
     "iopub.status.busy": "2023-03-21T13:46:09.708470Z",
     "iopub.status.idle": "2023-03-21T13:46:14.325950Z",
     "shell.execute_reply": "2023-03-21T13:46:14.325325Z"
    },
    "papermill": {
     "duration": 4.639673,
     "end_time": "2023-03-21T13:46:14.329872",
     "exception": false,
     "start_time": "2023-03-21T13:46:09.690199",
     "status": "completed"
    },
    "tags": []
   },
   "outputs": [
    {
     "data": {
      "text/html": [
       "<style>#sk-container-id-7 {color: black;background-color: white;}#sk-container-id-7 pre{padding: 0;}#sk-container-id-7 div.sk-toggleable {background-color: white;}#sk-container-id-7 label.sk-toggleable__label {cursor: pointer;display: block;width: 100%;margin-bottom: 0;padding: 0.3em;box-sizing: border-box;text-align: center;}#sk-container-id-7 label.sk-toggleable__label-arrow:before {content: \"▸\";float: left;margin-right: 0.25em;color: #696969;}#sk-container-id-7 label.sk-toggleable__label-arrow:hover:before {color: black;}#sk-container-id-7 div.sk-estimator:hover label.sk-toggleable__label-arrow:before {color: black;}#sk-container-id-7 div.sk-toggleable__content {max-height: 0;max-width: 0;overflow: hidden;text-align: left;background-color: #f0f8ff;}#sk-container-id-7 div.sk-toggleable__content pre {margin: 0.2em;color: black;border-radius: 0.25em;background-color: #f0f8ff;}#sk-container-id-7 input.sk-toggleable__control:checked~div.sk-toggleable__content {max-height: 200px;max-width: 100%;overflow: auto;}#sk-container-id-7 input.sk-toggleable__control:checked~label.sk-toggleable__label-arrow:before {content: \"▾\";}#sk-container-id-7 div.sk-estimator input.sk-toggleable__control:checked~label.sk-toggleable__label {background-color: #d4ebff;}#sk-container-id-7 div.sk-label input.sk-toggleable__control:checked~label.sk-toggleable__label {background-color: #d4ebff;}#sk-container-id-7 input.sk-hidden--visually {border: 0;clip: rect(1px 1px 1px 1px);clip: rect(1px, 1px, 1px, 1px);height: 1px;margin: -1px;overflow: hidden;padding: 0;position: absolute;width: 1px;}#sk-container-id-7 div.sk-estimator {font-family: monospace;background-color: #f0f8ff;border: 1px dotted black;border-radius: 0.25em;box-sizing: border-box;margin-bottom: 0.5em;}#sk-container-id-7 div.sk-estimator:hover {background-color: #d4ebff;}#sk-container-id-7 div.sk-parallel-item::after {content: \"\";width: 100%;border-bottom: 1px solid gray;flex-grow: 1;}#sk-container-id-7 div.sk-label:hover label.sk-toggleable__label {background-color: #d4ebff;}#sk-container-id-7 div.sk-serial::before {content: \"\";position: absolute;border-left: 1px solid gray;box-sizing: border-box;top: 0;bottom: 0;left: 50%;z-index: 0;}#sk-container-id-7 div.sk-serial {display: flex;flex-direction: column;align-items: center;background-color: white;padding-right: 0.2em;padding-left: 0.2em;position: relative;}#sk-container-id-7 div.sk-item {position: relative;z-index: 1;}#sk-container-id-7 div.sk-parallel {display: flex;align-items: stretch;justify-content: center;background-color: white;position: relative;}#sk-container-id-7 div.sk-item::before, #sk-container-id-7 div.sk-parallel-item::before {content: \"\";position: absolute;border-left: 1px solid gray;box-sizing: border-box;top: 0;bottom: 0;left: 50%;z-index: -1;}#sk-container-id-7 div.sk-parallel-item {display: flex;flex-direction: column;z-index: 1;position: relative;background-color: white;}#sk-container-id-7 div.sk-parallel-item:first-child::after {align-self: flex-end;width: 50%;}#sk-container-id-7 div.sk-parallel-item:last-child::after {align-self: flex-start;width: 50%;}#sk-container-id-7 div.sk-parallel-item:only-child::after {width: 0;}#sk-container-id-7 div.sk-dashed-wrapped {border: 1px dashed gray;margin: 0 0.4em 0.5em 0.4em;box-sizing: border-box;padding-bottom: 0.4em;background-color: white;}#sk-container-id-7 div.sk-label label {font-family: monospace;font-weight: bold;display: inline-block;line-height: 1.2em;}#sk-container-id-7 div.sk-label-container {text-align: center;}#sk-container-id-7 div.sk-container {/* jupyter's `normalize.less` sets `[hidden] { display: none; }` but bootstrap.min.css set `[hidden] { display: none !important; }` so we also need the `!important` here to be able to override the default hidden behavior on the sphinx rendered scikit-learn.org. See: https://github.com/scikit-learn/scikit-learn/issues/21755 */display: inline-block !important;position: relative;}#sk-container-id-7 div.sk-text-repr-fallback {display: none;}</style><div id=\"sk-container-id-7\" class=\"sk-top-container\"><div class=\"sk-text-repr-fallback\"><pre>LGBMClassifier(objective=&#x27;multiclass&#x27;)</pre><b>In a Jupyter environment, please rerun this cell to show the HTML representation or trust the notebook. <br />On GitHub, the HTML representation is unable to render, please try loading this page with nbviewer.org.</b></div><div class=\"sk-container\" hidden><div class=\"sk-item\"><div class=\"sk-estimator sk-toggleable\"><input class=\"sk-toggleable__control sk-hidden--visually\" id=\"sk-estimator-id-7\" type=\"checkbox\" checked><label for=\"sk-estimator-id-7\" class=\"sk-toggleable__label sk-toggleable__label-arrow\">LGBMClassifier</label><div class=\"sk-toggleable__content\"><pre>LGBMClassifier(objective=&#x27;multiclass&#x27;)</pre></div></div></div></div></div>"
      ],
      "text/plain": [
       "LGBMClassifier(objective='multiclass')"
      ]
     },
     "execution_count": 52,
     "metadata": {},
     "output_type": "execute_result"
    }
   ],
   "source": [
    "clf = lgbm.LGBMClassifier(objective=obj_par) \n",
    "clf.fit(X_train, y_train)"
   ]
  },
  {
   "cell_type": "code",
   "execution_count": 53,
   "id": "355a078b",
   "metadata": {
    "execution": {
     "iopub.execute_input": "2023-03-21T13:46:14.432573Z",
     "iopub.status.busy": "2023-03-21T13:46:14.430973Z",
     "iopub.status.idle": "2023-03-21T13:46:14.606065Z",
     "shell.execute_reply": "2023-03-21T13:46:14.605121Z"
    },
    "papermill": {
     "duration": 0.231242,
     "end_time": "2023-03-21T13:46:14.609114",
     "exception": false,
     "start_time": "2023-03-21T13:46:14.377872",
     "status": "completed"
    },
    "tags": []
   },
   "outputs": [
    {
     "name": "stdout",
     "output_type": "stream",
     "text": [
      "              precision    recall  f1-score   support\n",
      "\n",
      "   hard-rock       0.23      0.17      0.19      1000\n",
      " heavy-metal       0.33      0.41      0.37      1000\n",
      "       indie       0.26      0.25      0.25      1000\n",
      "    pop-rock       0.29      0.39      0.33      1000\n",
      "   punk-rock       0.23      0.17      0.20      1000\n",
      "\n",
      "    accuracy                           0.28      5000\n",
      "   macro avg       0.27      0.28      0.27      5000\n",
      "weighted avg       0.27      0.28      0.27      5000\n",
      "\n"
     ]
    }
   ],
   "source": [
    "y_pred = clf.predict(X_test)\n",
    "print(classification_report(y_test, y_pred))"
   ]
  },
  {
   "cell_type": "code",
   "execution_count": 54,
   "id": "f22b911e",
   "metadata": {
    "execution": {
     "iopub.execute_input": "2023-03-21T13:46:14.688357Z",
     "iopub.status.busy": "2023-03-21T13:46:14.686837Z",
     "iopub.status.idle": "2023-03-21T13:46:14.811117Z",
     "shell.execute_reply": "2023-03-21T13:46:14.810265Z"
    },
    "papermill": {
     "duration": 0.163586,
     "end_time": "2023-03-21T13:46:14.813045",
     "exception": false,
     "start_time": "2023-03-21T13:46:14.649459",
     "status": "completed"
    },
    "tags": []
   },
   "outputs": [],
   "source": [
    "acc = accuracy_score(y_test, y_pred)\n",
    "pre = precision_score(y_test, y_pred, average=avg_par)\n",
    "rec = recall_score(y_test, y_pred, average=avg_par)\n",
    "f1 = f1_score(y_test, y_pred, average=avg_par)\n",
    "\n",
    "metrics_data['Shapelets']['LightGBM'] = {'Accuracy': acc, 'Precision': pre, 'Recall': rec, 'F1': f1}"
   ]
  },
  {
   "cell_type": "markdown",
   "id": "0809af9f",
   "metadata": {
    "papermill": {
     "duration": 0.017573,
     "end_time": "2023-03-21T13:46:14.861160",
     "exception": false,
     "start_time": "2023-03-21T13:46:14.843587",
     "status": "completed"
    },
    "tags": []
   },
   "source": [
    "#### KNN"
   ]
  },
  {
   "cell_type": "code",
   "execution_count": 55,
   "id": "1c9237e0",
   "metadata": {
    "execution": {
     "iopub.execute_input": "2023-03-21T13:46:14.901339Z",
     "iopub.status.busy": "2023-03-21T13:46:14.900859Z",
     "iopub.status.idle": "2023-03-21T13:46:14.907634Z",
     "shell.execute_reply": "2023-03-21T13:46:14.906779Z"
    },
    "papermill": {
     "duration": 0.028365,
     "end_time": "2023-03-21T13:46:14.909361",
     "exception": false,
     "start_time": "2023-03-21T13:46:14.880996",
     "status": "completed"
    },
    "tags": []
   },
   "outputs": [],
   "source": [
    "X_train = ts_train.reshape((ts_train.shape[0], ts_train.shape[1]))\n",
    "X_test = ts_test.reshape((ts_test.shape[0], ts_test.shape[1]))"
   ]
  },
  {
   "cell_type": "code",
   "execution_count": 56,
   "id": "192f3c3f",
   "metadata": {
    "execution": {
     "iopub.execute_input": "2023-03-21T13:46:14.942260Z",
     "iopub.status.busy": "2023-03-21T13:46:14.941366Z",
     "iopub.status.idle": "2023-03-21T13:46:14.948190Z",
     "shell.execute_reply": "2023-03-21T13:46:14.947321Z"
    },
    "papermill": {
     "duration": 0.025186,
     "end_time": "2023-03-21T13:46:14.949817",
     "exception": false,
     "start_time": "2023-03-21T13:46:14.924631",
     "status": "completed"
    },
    "tags": []
   },
   "outputs": [
    {
     "data": {
      "text/plain": [
       "(20000, 100)"
      ]
     },
     "execution_count": 56,
     "metadata": {},
     "output_type": "execute_result"
    }
   ],
   "source": [
    "X_train.shape"
   ]
  },
  {
   "cell_type": "code",
   "execution_count": 57,
   "id": "de0e5000",
   "metadata": {
    "execution": {
     "iopub.execute_input": "2023-03-21T13:46:14.986947Z",
     "iopub.status.busy": "2023-03-21T13:46:14.985963Z",
     "iopub.status.idle": "2023-03-21T13:46:14.990923Z",
     "shell.execute_reply": "2023-03-21T13:46:14.990056Z"
    },
    "papermill": {
     "duration": 0.025285,
     "end_time": "2023-03-21T13:46:14.992589",
     "exception": false,
     "start_time": "2023-03-21T13:46:14.967304",
     "status": "completed"
    },
    "tags": []
   },
   "outputs": [],
   "source": [
    "metrics_data['KNN'] = {}"
   ]
  },
  {
   "cell_type": "markdown",
   "id": "8ee39c05",
   "metadata": {
    "papermill": {
     "duration": 0.014712,
     "end_time": "2023-03-21T13:46:15.022649",
     "exception": false,
     "start_time": "2023-03-21T13:46:15.007937",
     "status": "completed"
    },
    "tags": []
   },
   "source": [
    "**Euclidean Distance**"
   ]
  },
  {
   "cell_type": "code",
   "execution_count": 58,
   "id": "55db1f58",
   "metadata": {
    "execution": {
     "iopub.execute_input": "2023-03-21T13:46:15.057223Z",
     "iopub.status.busy": "2023-03-21T13:46:15.056607Z",
     "iopub.status.idle": "2023-03-21T13:46:15.062243Z",
     "shell.execute_reply": "2023-03-21T13:46:15.061307Z"
    },
    "papermill": {
     "duration": 0.027643,
     "end_time": "2023-03-21T13:46:15.066566",
     "exception": false,
     "start_time": "2023-03-21T13:46:15.038923",
     "status": "completed"
    },
    "tags": []
   },
   "outputs": [],
   "source": [
    "from sklearn.neighbors import KNeighborsClassifier"
   ]
  },
  {
   "cell_type": "code",
   "execution_count": 59,
   "id": "132c2537",
   "metadata": {
    "execution": {
     "iopub.execute_input": "2023-03-21T13:46:15.107901Z",
     "iopub.status.busy": "2023-03-21T13:46:15.106820Z",
     "iopub.status.idle": "2023-03-21T13:46:15.160088Z",
     "shell.execute_reply": "2023-03-21T13:46:15.159016Z"
    },
    "papermill": {
     "duration": 0.074354,
     "end_time": "2023-03-21T13:46:15.162084",
     "exception": false,
     "start_time": "2023-03-21T13:46:15.087730",
     "status": "completed"
    },
    "tags": []
   },
   "outputs": [
    {
     "data": {
      "text/html": [
       "<style>#sk-container-id-8 {color: black;background-color: white;}#sk-container-id-8 pre{padding: 0;}#sk-container-id-8 div.sk-toggleable {background-color: white;}#sk-container-id-8 label.sk-toggleable__label {cursor: pointer;display: block;width: 100%;margin-bottom: 0;padding: 0.3em;box-sizing: border-box;text-align: center;}#sk-container-id-8 label.sk-toggleable__label-arrow:before {content: \"▸\";float: left;margin-right: 0.25em;color: #696969;}#sk-container-id-8 label.sk-toggleable__label-arrow:hover:before {color: black;}#sk-container-id-8 div.sk-estimator:hover label.sk-toggleable__label-arrow:before {color: black;}#sk-container-id-8 div.sk-toggleable__content {max-height: 0;max-width: 0;overflow: hidden;text-align: left;background-color: #f0f8ff;}#sk-container-id-8 div.sk-toggleable__content pre {margin: 0.2em;color: black;border-radius: 0.25em;background-color: #f0f8ff;}#sk-container-id-8 input.sk-toggleable__control:checked~div.sk-toggleable__content {max-height: 200px;max-width: 100%;overflow: auto;}#sk-container-id-8 input.sk-toggleable__control:checked~label.sk-toggleable__label-arrow:before {content: \"▾\";}#sk-container-id-8 div.sk-estimator input.sk-toggleable__control:checked~label.sk-toggleable__label {background-color: #d4ebff;}#sk-container-id-8 div.sk-label input.sk-toggleable__control:checked~label.sk-toggleable__label {background-color: #d4ebff;}#sk-container-id-8 input.sk-hidden--visually {border: 0;clip: rect(1px 1px 1px 1px);clip: rect(1px, 1px, 1px, 1px);height: 1px;margin: -1px;overflow: hidden;padding: 0;position: absolute;width: 1px;}#sk-container-id-8 div.sk-estimator {font-family: monospace;background-color: #f0f8ff;border: 1px dotted black;border-radius: 0.25em;box-sizing: border-box;margin-bottom: 0.5em;}#sk-container-id-8 div.sk-estimator:hover {background-color: #d4ebff;}#sk-container-id-8 div.sk-parallel-item::after {content: \"\";width: 100%;border-bottom: 1px solid gray;flex-grow: 1;}#sk-container-id-8 div.sk-label:hover label.sk-toggleable__label {background-color: #d4ebff;}#sk-container-id-8 div.sk-serial::before {content: \"\";position: absolute;border-left: 1px solid gray;box-sizing: border-box;top: 0;bottom: 0;left: 50%;z-index: 0;}#sk-container-id-8 div.sk-serial {display: flex;flex-direction: column;align-items: center;background-color: white;padding-right: 0.2em;padding-left: 0.2em;position: relative;}#sk-container-id-8 div.sk-item {position: relative;z-index: 1;}#sk-container-id-8 div.sk-parallel {display: flex;align-items: stretch;justify-content: center;background-color: white;position: relative;}#sk-container-id-8 div.sk-item::before, #sk-container-id-8 div.sk-parallel-item::before {content: \"\";position: absolute;border-left: 1px solid gray;box-sizing: border-box;top: 0;bottom: 0;left: 50%;z-index: -1;}#sk-container-id-8 div.sk-parallel-item {display: flex;flex-direction: column;z-index: 1;position: relative;background-color: white;}#sk-container-id-8 div.sk-parallel-item:first-child::after {align-self: flex-end;width: 50%;}#sk-container-id-8 div.sk-parallel-item:last-child::after {align-self: flex-start;width: 50%;}#sk-container-id-8 div.sk-parallel-item:only-child::after {width: 0;}#sk-container-id-8 div.sk-dashed-wrapped {border: 1px dashed gray;margin: 0 0.4em 0.5em 0.4em;box-sizing: border-box;padding-bottom: 0.4em;background-color: white;}#sk-container-id-8 div.sk-label label {font-family: monospace;font-weight: bold;display: inline-block;line-height: 1.2em;}#sk-container-id-8 div.sk-label-container {text-align: center;}#sk-container-id-8 div.sk-container {/* jupyter's `normalize.less` sets `[hidden] { display: none; }` but bootstrap.min.css set `[hidden] { display: none !important; }` so we also need the `!important` here to be able to override the default hidden behavior on the sphinx rendered scikit-learn.org. See: https://github.com/scikit-learn/scikit-learn/issues/21755 */display: inline-block !important;position: relative;}#sk-container-id-8 div.sk-text-repr-fallback {display: none;}</style><div id=\"sk-container-id-8\" class=\"sk-top-container\"><div class=\"sk-text-repr-fallback\"><pre>KNeighborsClassifier()</pre><b>In a Jupyter environment, please rerun this cell to show the HTML representation or trust the notebook. <br />On GitHub, the HTML representation is unable to render, please try loading this page with nbviewer.org.</b></div><div class=\"sk-container\" hidden><div class=\"sk-item\"><div class=\"sk-estimator sk-toggleable\"><input class=\"sk-toggleable__control sk-hidden--visually\" id=\"sk-estimator-id-8\" type=\"checkbox\" checked><label for=\"sk-estimator-id-8\" class=\"sk-toggleable__label sk-toggleable__label-arrow\">KNeighborsClassifier</label><div class=\"sk-toggleable__content\"><pre>KNeighborsClassifier()</pre></div></div></div></div></div>"
      ],
      "text/plain": [
       "KNeighborsClassifier()"
      ]
     },
     "execution_count": 59,
     "metadata": {},
     "output_type": "execute_result"
    }
   ],
   "source": [
    "clf = KNeighborsClassifier(n_neighbors=5, weights='uniform')\n",
    "clf.fit(X_train, y_train)"
   ]
  },
  {
   "cell_type": "code",
   "execution_count": 60,
   "id": "0afad62a",
   "metadata": {
    "execution": {
     "iopub.execute_input": "2023-03-21T13:46:15.195898Z",
     "iopub.status.busy": "2023-03-21T13:46:15.195419Z",
     "iopub.status.idle": "2023-03-21T13:46:16.553701Z",
     "shell.execute_reply": "2023-03-21T13:46:16.552428Z"
    },
    "papermill": {
     "duration": 1.377906,
     "end_time": "2023-03-21T13:46:16.557108",
     "exception": false,
     "start_time": "2023-03-21T13:46:15.179202",
     "status": "completed"
    },
    "tags": []
   },
   "outputs": [
    {
     "name": "stdout",
     "output_type": "stream",
     "text": [
      "              precision    recall  f1-score   support\n",
      "\n",
      "   hard-rock       0.19      0.26      0.22      1000\n",
      " heavy-metal       0.26      0.23      0.24      1000\n",
      "       indie       0.20      0.29      0.24      1000\n",
      "    pop-rock       0.24      0.16      0.19      1000\n",
      "   punk-rock       0.21      0.15      0.18      1000\n",
      "\n",
      "    accuracy                           0.22      5000\n",
      "   macro avg       0.22      0.22      0.21      5000\n",
      "weighted avg       0.22      0.22      0.21      5000\n",
      "\n"
     ]
    }
   ],
   "source": [
    "y_pred = clf.predict(X_test)\n",
    "print(classification_report(y_test, y_pred))"
   ]
  },
  {
   "cell_type": "code",
   "execution_count": 61,
   "id": "2d709070",
   "metadata": {
    "execution": {
     "iopub.execute_input": "2023-03-21T13:46:16.619151Z",
     "iopub.status.busy": "2023-03-21T13:46:16.618606Z",
     "iopub.status.idle": "2023-03-21T13:46:16.715485Z",
     "shell.execute_reply": "2023-03-21T13:46:16.714344Z"
    },
    "papermill": {
     "duration": 0.121826,
     "end_time": "2023-03-21T13:46:16.719181",
     "exception": false,
     "start_time": "2023-03-21T13:46:16.597355",
     "status": "completed"
    },
    "tags": []
   },
   "outputs": [],
   "source": [
    "acc = accuracy_score(y_test, y_pred)\n",
    "pre = precision_score(y_test, y_pred, average=avg_par)\n",
    "rec = recall_score(y_test, y_pred, average=avg_par)\n",
    "f1 = f1_score(y_test, y_pred, average=avg_par)\n",
    "\n",
    "metrics_data['KNN']['Euclidean'] = {'Accuracy': acc, 'Precision': pre, 'Recall': rec, 'F1': f1}"
   ]
  },
  {
   "cell_type": "markdown",
   "id": "c5ec2a09",
   "metadata": {
    "papermill": {
     "duration": 0.016828,
     "end_time": "2023-03-21T13:46:16.755922",
     "exception": false,
     "start_time": "2023-03-21T13:46:16.739094",
     "status": "completed"
    },
    "tags": []
   },
   "source": [
    "**Dynamic Time Warping**"
   ]
  },
  {
   "cell_type": "code",
   "execution_count": 62,
   "id": "2df913d8",
   "metadata": {
    "execution": {
     "iopub.execute_input": "2023-03-21T13:46:16.790317Z",
     "iopub.status.busy": "2023-03-21T13:46:16.789833Z",
     "iopub.status.idle": "2023-03-21T13:46:16.875063Z",
     "shell.execute_reply": "2023-03-21T13:46:16.874111Z"
    },
    "papermill": {
     "duration": 0.105453,
     "end_time": "2023-03-21T13:46:16.878354",
     "exception": false,
     "start_time": "2023-03-21T13:46:16.772901",
     "status": "completed"
    },
    "tags": []
   },
   "outputs": [],
   "source": [
    "from pyts.classification import KNeighborsClassifier\n",
    "from pyts.approximation import PiecewiseAggregateApproximation\n",
    "from imblearn.under_sampling import ClusterCentroids\n",
    "from sklearn_extra.cluster import KMedoids"
   ]
  },
  {
   "cell_type": "code",
   "execution_count": 63,
   "id": "db1604ec",
   "metadata": {
    "execution": {
     "iopub.execute_input": "2023-03-21T13:46:16.923371Z",
     "iopub.status.busy": "2023-03-21T13:46:16.922098Z",
     "iopub.status.idle": "2023-03-21T13:46:17.527098Z",
     "shell.execute_reply": "2023-03-21T13:46:17.526154Z"
    },
    "papermill": {
     "duration": 0.62754,
     "end_time": "2023-03-21T13:46:17.529622",
     "exception": false,
     "start_time": "2023-03-21T13:46:16.902082",
     "status": "completed"
    },
    "tags": []
   },
   "outputs": [],
   "source": [
    "if paa_window_size:\n",
    "    paa = PiecewiseAggregateApproximation(window_size=paa_window_size)\n",
    "    X_train = paa.transform(X_train)\n",
    "    X_test = paa.transform(X_test)\n",
    "    X_train.shape"
   ]
  },
  {
   "cell_type": "code",
   "execution_count": 64,
   "id": "59fa27aa",
   "metadata": {
    "execution": {
     "iopub.execute_input": "2023-03-21T13:46:17.572277Z",
     "iopub.status.busy": "2023-03-21T13:46:17.571934Z",
     "iopub.status.idle": "2023-03-21T13:46:42.416985Z",
     "shell.execute_reply": "2023-03-21T13:46:42.415993Z"
    },
    "papermill": {
     "duration": 24.87248,
     "end_time": "2023-03-21T13:46:42.420239",
     "exception": false,
     "start_time": "2023-03-21T13:46:17.547759",
     "status": "completed"
    },
    "tags": []
   },
   "outputs": [
    {
     "name": "stdout",
     "output_type": "stream",
     "text": [
      "{'hard-rock': 1200, 'heavy-metal': 1200, 'indie': 1200, 'pop-rock': 1200, 'punk-rock': 1200}\n"
     ]
    },
    {
     "name": "stderr",
     "output_type": "stream",
     "text": [
      "/home/mattiapggioli/lyrics2ts/.venv/lib/python3.9/site-packages/sklearn_extra/cluster/_k_medoids.py:275: UserWarning: Cluster 173 is empty! self.labels_[self.medoid_indices_[173]] may not be labeled with its corresponding cluster (173).\n",
      "  warnings.warn(\n",
      "/home/mattiapggioli/lyrics2ts/.venv/lib/python3.9/site-packages/sklearn_extra/cluster/_k_medoids.py:275: UserWarning: Cluster 626 is empty! self.labels_[self.medoid_indices_[626]] may not be labeled with its corresponding cluster (626).\n",
      "  warnings.warn(\n",
      "/home/mattiapggioli/lyrics2ts/.venv/lib/python3.9/site-packages/sklearn_extra/cluster/_k_medoids.py:275: UserWarning: Cluster 1019 is empty! self.labels_[self.medoid_indices_[1019]] may not be labeled with its corresponding cluster (1019).\n",
      "  warnings.warn(\n",
      "/home/mattiapggioli/lyrics2ts/.venv/lib/python3.9/site-packages/sklearn_extra/cluster/_k_medoids.py:275: UserWarning: Cluster 1064 is empty! self.labels_[self.medoid_indices_[1064]] may not be labeled with its corresponding cluster (1064).\n",
      "  warnings.warn(\n"
     ]
    },
    {
     "name": "stderr",
     "output_type": "stream",
     "text": [
      "/home/mattiapggioli/lyrics2ts/.venv/lib/python3.9/site-packages/sklearn_extra/cluster/_k_medoids.py:275: UserWarning: Cluster 354 is empty! self.labels_[self.medoid_indices_[354]] may not be labeled with its corresponding cluster (354).\n",
      "  warnings.warn(\n",
      "/home/mattiapggioli/lyrics2ts/.venv/lib/python3.9/site-packages/sklearn_extra/cluster/_k_medoids.py:275: UserWarning: Cluster 398 is empty! self.labels_[self.medoid_indices_[398]] may not be labeled with its corresponding cluster (398).\n",
      "  warnings.warn(\n"
     ]
    },
    {
     "name": "stderr",
     "output_type": "stream",
     "text": [
      "/home/mattiapggioli/lyrics2ts/.venv/lib/python3.9/site-packages/sklearn_extra/cluster/_k_medoids.py:275: UserWarning: Cluster 104 is empty! self.labels_[self.medoid_indices_[104]] may not be labeled with its corresponding cluster (104).\n",
      "  warnings.warn(\n",
      "/home/mattiapggioli/lyrics2ts/.venv/lib/python3.9/site-packages/sklearn_extra/cluster/_k_medoids.py:275: UserWarning: Cluster 111 is empty! self.labels_[self.medoid_indices_[111]] may not be labeled with its corresponding cluster (111).\n",
      "  warnings.warn(\n",
      "/home/mattiapggioli/lyrics2ts/.venv/lib/python3.9/site-packages/sklearn_extra/cluster/_k_medoids.py:275: UserWarning: Cluster 304 is empty! self.labels_[self.medoid_indices_[304]] may not be labeled with its corresponding cluster (304).\n",
      "  warnings.warn(\n",
      "/home/mattiapggioli/lyrics2ts/.venv/lib/python3.9/site-packages/sklearn_extra/cluster/_k_medoids.py:275: UserWarning: Cluster 338 is empty! self.labels_[self.medoid_indices_[338]] may not be labeled with its corresponding cluster (338).\n",
      "  warnings.warn(\n",
      "/home/mattiapggioli/lyrics2ts/.venv/lib/python3.9/site-packages/sklearn_extra/cluster/_k_medoids.py:275: UserWarning: Cluster 340 is empty! self.labels_[self.medoid_indices_[340]] may not be labeled with its corresponding cluster (340).\n",
      "  warnings.warn(\n",
      "/home/mattiapggioli/lyrics2ts/.venv/lib/python3.9/site-packages/sklearn_extra/cluster/_k_medoids.py:275: UserWarning: Cluster 418 is empty! self.labels_[self.medoid_indices_[418]] may not be labeled with its corresponding cluster (418).\n",
      "  warnings.warn(\n",
      "/home/mattiapggioli/lyrics2ts/.venv/lib/python3.9/site-packages/sklearn_extra/cluster/_k_medoids.py:275: UserWarning: Cluster 445 is empty! self.labels_[self.medoid_indices_[445]] may not be labeled with its corresponding cluster (445).\n",
      "  warnings.warn(\n",
      "/home/mattiapggioli/lyrics2ts/.venv/lib/python3.9/site-packages/sklearn_extra/cluster/_k_medoids.py:275: UserWarning: Cluster 486 is empty! self.labels_[self.medoid_indices_[486]] may not be labeled with its corresponding cluster (486).\n",
      "  warnings.warn(\n",
      "/home/mattiapggioli/lyrics2ts/.venv/lib/python3.9/site-packages/sklearn_extra/cluster/_k_medoids.py:275: UserWarning: Cluster 545 is empty! self.labels_[self.medoid_indices_[545]] may not be labeled with its corresponding cluster (545).\n",
      "  warnings.warn(\n",
      "/home/mattiapggioli/lyrics2ts/.venv/lib/python3.9/site-packages/sklearn_extra/cluster/_k_medoids.py:275: UserWarning: Cluster 620 is empty! self.labels_[self.medoid_indices_[620]] may not be labeled with its corresponding cluster (620).\n",
      "  warnings.warn(\n",
      "/home/mattiapggioli/lyrics2ts/.venv/lib/python3.9/site-packages/sklearn_extra/cluster/_k_medoids.py:275: UserWarning: Cluster 680 is empty! self.labels_[self.medoid_indices_[680]] may not be labeled with its corresponding cluster (680).\n",
      "  warnings.warn(\n",
      "/home/mattiapggioli/lyrics2ts/.venv/lib/python3.9/site-packages/sklearn_extra/cluster/_k_medoids.py:275: UserWarning: Cluster 813 is empty! self.labels_[self.medoid_indices_[813]] may not be labeled with its corresponding cluster (813).\n",
      "  warnings.warn(\n"
     ]
    },
    {
     "name": "stderr",
     "output_type": "stream",
     "text": [
      "/home/mattiapggioli/lyrics2ts/.venv/lib/python3.9/site-packages/sklearn_extra/cluster/_k_medoids.py:275: UserWarning: Cluster 452 is empty! self.labels_[self.medoid_indices_[452]] may not be labeled with its corresponding cluster (452).\n",
      "  warnings.warn(\n",
      "/home/mattiapggioli/lyrics2ts/.venv/lib/python3.9/site-packages/sklearn_extra/cluster/_k_medoids.py:275: UserWarning: Cluster 1086 is empty! self.labels_[self.medoid_indices_[1086]] may not be labeled with its corresponding cluster (1086).\n",
      "  warnings.warn(\n"
     ]
    },
    {
     "name": "stderr",
     "output_type": "stream",
     "text": [
      "/home/mattiapggioli/lyrics2ts/.venv/lib/python3.9/site-packages/sklearn_extra/cluster/_k_medoids.py:275: UserWarning: Cluster 297 is empty! self.labels_[self.medoid_indices_[297]] may not be labeled with its corresponding cluster (297).\n",
      "  warnings.warn(\n",
      "/home/mattiapggioli/lyrics2ts/.venv/lib/python3.9/site-packages/sklearn_extra/cluster/_k_medoids.py:275: UserWarning: Cluster 328 is empty! self.labels_[self.medoid_indices_[328]] may not be labeled with its corresponding cluster (328).\n",
      "  warnings.warn(\n",
      "/home/mattiapggioli/lyrics2ts/.venv/lib/python3.9/site-packages/sklearn_extra/cluster/_k_medoids.py:275: UserWarning: Cluster 367 is empty! self.labels_[self.medoid_indices_[367]] may not be labeled with its corresponding cluster (367).\n",
      "  warnings.warn(\n",
      "/home/mattiapggioli/lyrics2ts/.venv/lib/python3.9/site-packages/sklearn_extra/cluster/_k_medoids.py:275: UserWarning: Cluster 383 is empty! self.labels_[self.medoid_indices_[383]] may not be labeled with its corresponding cluster (383).\n",
      "  warnings.warn(\n",
      "/home/mattiapggioli/lyrics2ts/.venv/lib/python3.9/site-packages/sklearn_extra/cluster/_k_medoids.py:275: UserWarning: Cluster 551 is empty! self.labels_[self.medoid_indices_[551]] may not be labeled with its corresponding cluster (551).\n",
      "  warnings.warn(\n",
      "/home/mattiapggioli/lyrics2ts/.venv/lib/python3.9/site-packages/sklearn_extra/cluster/_k_medoids.py:275: UserWarning: Cluster 767 is empty! self.labels_[self.medoid_indices_[767]] may not be labeled with its corresponding cluster (767).\n",
      "  warnings.warn(\n",
      "/home/mattiapggioli/lyrics2ts/.venv/lib/python3.9/site-packages/sklearn_extra/cluster/_k_medoids.py:275: UserWarning: Cluster 1194 is empty! self.labels_[self.medoid_indices_[1194]] may not be labeled with its corresponding cluster (1194).\n",
      "  warnings.warn(\n"
     ]
    }
   ],
   "source": [
    "if undersampling:\n",
    "    total_samples = len(y_train)\n",
    "    unique_classes, class_counts = np.unique(y_train, return_counts=True)\n",
    "    samp_strat = dict(zip(unique_classes, np.floor(class_counts * undersampling).astype(int)))\n",
    "    print(samp_strat)\n",
    "    cc = ClusterCentroids(estimator=KMedoids(\n",
    "        random_state=42), sampling_strategy=samp_strat, random_state=42)\n",
    "    X_train, y_train = cc.fit_resample(X_train, y_train)\n",
    "    X_train.shape"
   ]
  },
  {
   "cell_type": "code",
   "execution_count": 65,
   "id": "e7ac6b44",
   "metadata": {
    "execution": {
     "iopub.execute_input": "2023-03-21T13:46:42.481347Z",
     "iopub.status.busy": "2023-03-21T13:46:42.479974Z",
     "iopub.status.idle": "2023-03-21T13:46:42.499132Z",
     "shell.execute_reply": "2023-03-21T13:46:42.498081Z"
    },
    "papermill": {
     "duration": 0.052472,
     "end_time": "2023-03-21T13:46:42.501537",
     "exception": false,
     "start_time": "2023-03-21T13:46:42.449065",
     "status": "completed"
    },
    "tags": []
   },
   "outputs": [
    {
     "data": {
      "text/html": [
       "<style>#sk-container-id-9 {color: black;background-color: white;}#sk-container-id-9 pre{padding: 0;}#sk-container-id-9 div.sk-toggleable {background-color: white;}#sk-container-id-9 label.sk-toggleable__label {cursor: pointer;display: block;width: 100%;margin-bottom: 0;padding: 0.3em;box-sizing: border-box;text-align: center;}#sk-container-id-9 label.sk-toggleable__label-arrow:before {content: \"▸\";float: left;margin-right: 0.25em;color: #696969;}#sk-container-id-9 label.sk-toggleable__label-arrow:hover:before {color: black;}#sk-container-id-9 div.sk-estimator:hover label.sk-toggleable__label-arrow:before {color: black;}#sk-container-id-9 div.sk-toggleable__content {max-height: 0;max-width: 0;overflow: hidden;text-align: left;background-color: #f0f8ff;}#sk-container-id-9 div.sk-toggleable__content pre {margin: 0.2em;color: black;border-radius: 0.25em;background-color: #f0f8ff;}#sk-container-id-9 input.sk-toggleable__control:checked~div.sk-toggleable__content {max-height: 200px;max-width: 100%;overflow: auto;}#sk-container-id-9 input.sk-toggleable__control:checked~label.sk-toggleable__label-arrow:before {content: \"▾\";}#sk-container-id-9 div.sk-estimator input.sk-toggleable__control:checked~label.sk-toggleable__label {background-color: #d4ebff;}#sk-container-id-9 div.sk-label input.sk-toggleable__control:checked~label.sk-toggleable__label {background-color: #d4ebff;}#sk-container-id-9 input.sk-hidden--visually {border: 0;clip: rect(1px 1px 1px 1px);clip: rect(1px, 1px, 1px, 1px);height: 1px;margin: -1px;overflow: hidden;padding: 0;position: absolute;width: 1px;}#sk-container-id-9 div.sk-estimator {font-family: monospace;background-color: #f0f8ff;border: 1px dotted black;border-radius: 0.25em;box-sizing: border-box;margin-bottom: 0.5em;}#sk-container-id-9 div.sk-estimator:hover {background-color: #d4ebff;}#sk-container-id-9 div.sk-parallel-item::after {content: \"\";width: 100%;border-bottom: 1px solid gray;flex-grow: 1;}#sk-container-id-9 div.sk-label:hover label.sk-toggleable__label {background-color: #d4ebff;}#sk-container-id-9 div.sk-serial::before {content: \"\";position: absolute;border-left: 1px solid gray;box-sizing: border-box;top: 0;bottom: 0;left: 50%;z-index: 0;}#sk-container-id-9 div.sk-serial {display: flex;flex-direction: column;align-items: center;background-color: white;padding-right: 0.2em;padding-left: 0.2em;position: relative;}#sk-container-id-9 div.sk-item {position: relative;z-index: 1;}#sk-container-id-9 div.sk-parallel {display: flex;align-items: stretch;justify-content: center;background-color: white;position: relative;}#sk-container-id-9 div.sk-item::before, #sk-container-id-9 div.sk-parallel-item::before {content: \"\";position: absolute;border-left: 1px solid gray;box-sizing: border-box;top: 0;bottom: 0;left: 50%;z-index: -1;}#sk-container-id-9 div.sk-parallel-item {display: flex;flex-direction: column;z-index: 1;position: relative;background-color: white;}#sk-container-id-9 div.sk-parallel-item:first-child::after {align-self: flex-end;width: 50%;}#sk-container-id-9 div.sk-parallel-item:last-child::after {align-self: flex-start;width: 50%;}#sk-container-id-9 div.sk-parallel-item:only-child::after {width: 0;}#sk-container-id-9 div.sk-dashed-wrapped {border: 1px dashed gray;margin: 0 0.4em 0.5em 0.4em;box-sizing: border-box;padding-bottom: 0.4em;background-color: white;}#sk-container-id-9 div.sk-label label {font-family: monospace;font-weight: bold;display: inline-block;line-height: 1.2em;}#sk-container-id-9 div.sk-label-container {text-align: center;}#sk-container-id-9 div.sk-container {/* jupyter's `normalize.less` sets `[hidden] { display: none; }` but bootstrap.min.css set `[hidden] { display: none !important; }` so we also need the `!important` here to be able to override the default hidden behavior on the sphinx rendered scikit-learn.org. See: https://github.com/scikit-learn/scikit-learn/issues/21755 */display: inline-block !important;position: relative;}#sk-container-id-9 div.sk-text-repr-fallback {display: none;}</style><div id=\"sk-container-id-9\" class=\"sk-top-container\"><div class=\"sk-text-repr-fallback\"><pre>KNeighborsClassifier(metric=&#x27;dtw_sakoechiba&#x27;, metric_params={&#x27;window_size&#x27;: 3})</pre><b>In a Jupyter environment, please rerun this cell to show the HTML representation or trust the notebook. <br />On GitHub, the HTML representation is unable to render, please try loading this page with nbviewer.org.</b></div><div class=\"sk-container\" hidden><div class=\"sk-item\"><div class=\"sk-estimator sk-toggleable\"><input class=\"sk-toggleable__control sk-hidden--visually\" id=\"sk-estimator-id-9\" type=\"checkbox\" checked><label for=\"sk-estimator-id-9\" class=\"sk-toggleable__label sk-toggleable__label-arrow\">KNeighborsClassifier</label><div class=\"sk-toggleable__content\"><pre>KNeighborsClassifier(metric=&#x27;dtw_sakoechiba&#x27;, metric_params={&#x27;window_size&#x27;: 3})</pre></div></div></div></div></div>"
      ],
      "text/plain": [
       "KNeighborsClassifier(metric='dtw_sakoechiba', metric_params={'window_size': 3})"
      ]
     },
     "execution_count": 65,
     "metadata": {},
     "output_type": "execute_result"
    }
   ],
   "source": [
    "clf = KNeighborsClassifier(metric='dtw_sakoechiba',  metric_params={'window_size':3})\n",
    "\n",
    "clf.fit(X_train, y_train)"
   ]
  },
  {
   "cell_type": "code",
   "execution_count": 66,
   "id": "8109d19d",
   "metadata": {
    "execution": {
     "iopub.execute_input": "2023-03-21T13:46:42.552567Z",
     "iopub.status.busy": "2023-03-21T13:46:42.552222Z",
     "iopub.status.idle": "2023-03-21T15:14:13.241346Z",
     "shell.execute_reply": "2023-03-21T15:14:13.240451Z"
    },
    "papermill": {
     "duration": 5250.743963,
     "end_time": "2023-03-21T15:14:13.272190",
     "exception": false,
     "start_time": "2023-03-21T13:46:42.528227",
     "status": "completed"
    },
    "tags": []
   },
   "outputs": [
    {
     "name": "stdout",
     "output_type": "stream",
     "text": [
      "              precision    recall  f1-score   support\n",
      "\n",
      "   hard-rock       0.20      0.18      0.19      1000\n",
      " heavy-metal       0.27      0.41      0.32      1000\n",
      "       indie       0.21      0.15      0.17      1000\n",
      "    pop-rock       0.24      0.25      0.24      1000\n",
      "   punk-rock       0.20      0.18      0.19      1000\n",
      "\n",
      "    accuracy                           0.23      5000\n",
      "   macro avg       0.22      0.23      0.22      5000\n",
      "weighted avg       0.22      0.23      0.22      5000\n",
      "\n",
      "CPU times: user 1h 27min 29s, sys: 643 ms, total: 1h 27min 30s\n",
      "Wall time: 1h 27min 30s\n"
     ]
    }
   ],
   "source": [
    "%%time\n",
    "y_pred = clf.predict(X_test)\n",
    "print(classification_report(y_test, y_pred))"
   ]
  },
  {
   "cell_type": "code",
   "execution_count": 67,
   "id": "b09f5cdf",
   "metadata": {
    "execution": {
     "iopub.execute_input": "2023-03-21T15:14:13.308063Z",
     "iopub.status.busy": "2023-03-21T15:14:13.306710Z",
     "iopub.status.idle": "2023-03-21T15:14:13.422253Z",
     "shell.execute_reply": "2023-03-21T15:14:13.421417Z"
    },
    "papermill": {
     "duration": 0.136178,
     "end_time": "2023-03-21T15:14:13.424450",
     "exception": false,
     "start_time": "2023-03-21T15:14:13.288272",
     "status": "completed"
    },
    "tags": []
   },
   "outputs": [],
   "source": [
    "acc = accuracy_score(y_test, y_pred)\n",
    "pre = precision_score(y_test, y_pred, average=avg_par)\n",
    "rec = recall_score(y_test, y_pred, average=avg_par)\n",
    "f1 = f1_score(y_test, y_pred, average=avg_par)\n",
    "\n",
    "metrics_data['KNN']['DTW'] = {'Accuracy': acc, 'Precision': pre, 'Recall': rec, 'F1': f1}"
   ]
  },
  {
   "cell_type": "markdown",
   "id": "e0e700a7",
   "metadata": {
    "papermill": {
     "duration": 0.015745,
     "end_time": "2023-03-21T15:14:13.458448",
     "exception": false,
     "start_time": "2023-03-21T15:14:13.442703",
     "status": "completed"
    },
    "tags": []
   },
   "source": [
    "## Overall Results"
   ]
  },
  {
   "cell_type": "code",
   "execution_count": 68,
   "id": "d003c193",
   "metadata": {
    "execution": {
     "iopub.execute_input": "2023-03-21T15:14:13.496033Z",
     "iopub.status.busy": "2023-03-21T15:14:13.495529Z",
     "iopub.status.idle": "2023-03-21T15:14:13.507908Z",
     "shell.execute_reply": "2023-03-21T15:14:13.506928Z"
    },
    "papermill": {
     "duration": 0.034711,
     "end_time": "2023-03-21T15:14:13.510029",
     "exception": false,
     "start_time": "2023-03-21T15:14:13.475318",
     "status": "completed"
    },
    "tags": []
   },
   "outputs": [],
   "source": [
    "metrics_data = pd.DataFrame.from_dict({(i,j): metrics_data[i][j] \n",
    "                                       for i in metrics_data.keys() \n",
    "                                       for j in metrics_data[i].keys()},\n",
    "                                       orient='index')"
   ]
  },
  {
   "cell_type": "code",
   "execution_count": 69,
   "id": "0944fe84",
   "metadata": {
    "execution": {
     "iopub.execute_input": "2023-03-21T15:14:13.544544Z",
     "iopub.status.busy": "2023-03-21T15:14:13.544085Z",
     "iopub.status.idle": "2023-03-21T15:14:13.667872Z",
     "shell.execute_reply": "2023-03-21T15:14:13.667112Z"
    },
    "papermill": {
     "duration": 0.143638,
     "end_time": "2023-03-21T15:14:13.669903",
     "exception": false,
     "start_time": "2023-03-21T15:14:13.526265",
     "status": "completed"
    },
    "tags": []
   },
   "outputs": [],
   "source": [
    "acc = accuracy_score(y_test, y_pred)\n",
    "pre = precision_score(y_test, y_pred, average=avg_par)\n",
    "rec = recall_score(y_test, y_pred, average=avg_par)\n",
    "f1 = f1_score(y_test, y_pred, average=avg_par)"
   ]
  },
  {
   "cell_type": "code",
   "execution_count": 70,
   "id": "7ee1b347",
   "metadata": {
    "execution": {
     "iopub.execute_input": "2023-03-21T15:14:13.707512Z",
     "iopub.status.busy": "2023-03-21T15:14:13.707135Z",
     "iopub.status.idle": "2023-03-21T15:14:13.720042Z",
     "shell.execute_reply": "2023-03-21T15:14:13.719237Z"
    },
    "papermill": {
     "duration": 0.031481,
     "end_time": "2023-03-21T15:14:13.721849",
     "exception": false,
     "start_time": "2023-03-21T15:14:13.690368",
     "status": "completed"
    },
    "tags": []
   },
   "outputs": [
    {
     "data": {
      "text/html": [
       "<div>\n",
       "<style scoped>\n",
       "    .dataframe tbody tr th:only-of-type {\n",
       "        vertical-align: middle;\n",
       "    }\n",
       "\n",
       "    .dataframe tbody tr th {\n",
       "        vertical-align: top;\n",
       "    }\n",
       "\n",
       "    .dataframe thead th {\n",
       "        text-align: right;\n",
       "    }\n",
       "</style>\n",
       "<table border=\"1\" class=\"dataframe\">\n",
       "  <thead>\n",
       "    <tr style=\"text-align: right;\">\n",
       "      <th></th>\n",
       "      <th></th>\n",
       "      <th>Accuracy</th>\n",
       "      <th>Precision</th>\n",
       "      <th>Recall</th>\n",
       "      <th>F1</th>\n",
       "    </tr>\n",
       "  </thead>\n",
       "  <tbody>\n",
       "    <tr>\n",
       "      <th rowspan=\"3\" valign=\"top\">Global</th>\n",
       "      <th>DecisionTree</th>\n",
       "      <td>0.2300</td>\n",
       "      <td>0.230042</td>\n",
       "      <td>0.2300</td>\n",
       "      <td>0.229887</td>\n",
       "    </tr>\n",
       "    <tr>\n",
       "      <th>RandomForest</th>\n",
       "      <td>0.2620</td>\n",
       "      <td>0.256975</td>\n",
       "      <td>0.2620</td>\n",
       "      <td>0.258364</td>\n",
       "    </tr>\n",
       "    <tr>\n",
       "      <th>LightGBM</th>\n",
       "      <td>0.2730</td>\n",
       "      <td>0.260896</td>\n",
       "      <td>0.2730</td>\n",
       "      <td>0.262111</td>\n",
       "    </tr>\n",
       "    <tr>\n",
       "      <th rowspan=\"3\" valign=\"top\">Shapelets</th>\n",
       "      <th>DecisionTree</th>\n",
       "      <td>0.2250</td>\n",
       "      <td>0.224983</td>\n",
       "      <td>0.2250</td>\n",
       "      <td>0.224913</td>\n",
       "    </tr>\n",
       "    <tr>\n",
       "      <th>RandomForest</th>\n",
       "      <td>0.2722</td>\n",
       "      <td>0.267261</td>\n",
       "      <td>0.2722</td>\n",
       "      <td>0.267489</td>\n",
       "    </tr>\n",
       "    <tr>\n",
       "      <th>LightGBM</th>\n",
       "      <td>0.2772</td>\n",
       "      <td>0.268931</td>\n",
       "      <td>0.2772</td>\n",
       "      <td>0.269046</td>\n",
       "    </tr>\n",
       "    <tr>\n",
       "      <th rowspan=\"2\" valign=\"top\">KNN</th>\n",
       "      <th>Euclidean</th>\n",
       "      <td>0.2164</td>\n",
       "      <td>0.221228</td>\n",
       "      <td>0.2164</td>\n",
       "      <td>0.213493</td>\n",
       "    </tr>\n",
       "    <tr>\n",
       "      <th>DTW</th>\n",
       "      <td>0.2308</td>\n",
       "      <td>0.224268</td>\n",
       "      <td>0.2308</td>\n",
       "      <td>0.223288</td>\n",
       "    </tr>\n",
       "  </tbody>\n",
       "</table>\n",
       "</div>"
      ],
      "text/plain": [
       "                        Accuracy  Precision  Recall        F1\n",
       "Global    DecisionTree    0.2300   0.230042  0.2300  0.229887\n",
       "          RandomForest    0.2620   0.256975  0.2620  0.258364\n",
       "          LightGBM        0.2730   0.260896  0.2730  0.262111\n",
       "Shapelets DecisionTree    0.2250   0.224983  0.2250  0.224913\n",
       "          RandomForest    0.2722   0.267261  0.2722  0.267489\n",
       "          LightGBM        0.2772   0.268931  0.2772  0.269046\n",
       "KNN       Euclidean       0.2164   0.221228  0.2164  0.213493\n",
       "          DTW             0.2308   0.224268  0.2308  0.223288"
      ]
     },
     "execution_count": 70,
     "metadata": {},
     "output_type": "execute_result"
    }
   ],
   "source": [
    "metrics_data"
   ]
  },
  {
   "cell_type": "code",
   "execution_count": 71,
   "id": "3efc173e",
   "metadata": {
    "execution": {
     "iopub.execute_input": "2023-03-21T15:14:13.755403Z",
     "iopub.status.busy": "2023-03-21T15:14:13.754934Z",
     "iopub.status.idle": "2023-03-21T15:14:13.765560Z",
     "shell.execute_reply": "2023-03-21T15:14:13.764462Z"
    },
    "papermill": {
     "duration": 0.029124,
     "end_time": "2023-03-21T15:14:13.767534",
     "exception": false,
     "start_time": "2023-03-21T15:14:13.738410",
     "status": "completed"
    },
    "tags": []
   },
   "outputs": [],
   "source": [
    "metrics_data.to_csv(f'{data_path}/metrics.csv')"
   ]
  },
  {
   "cell_type": "code",
   "execution_count": null,
   "id": "d21f5304",
   "metadata": {
    "papermill": {
     "duration": 0.01511,
     "end_time": "2023-03-21T15:14:13.798848",
     "exception": false,
     "start_time": "2023-03-21T15:14:13.783738",
     "status": "completed"
    },
    "tags": []
   },
   "outputs": [],
   "source": []
  }
 ],
 "metadata": {
  "celltoolbar": "Tags",
  "kernelspec": {
   "display_name": "Python 3 (ipykernel)",
   "language": "python",
   "name": "python3"
  },
  "language_info": {
   "codemirror_mode": {
    "name": "ipython",
    "version": 3
   },
   "file_extension": ".py",
   "mimetype": "text/x-python",
   "name": "python",
   "nbconvert_exporter": "python",
   "pygments_lexer": "ipython3",
   "version": "3.9.16"
  },
  "papermill": {
   "default_parameters": {},
   "duration": 7034.397273,
   "end_time": "2023-03-21T15:14:17.392645",
   "environment_variables": {},
   "exception": null,
   "input_path": "09_ts_classification.ipynb",
   "output_path": "../clf-reports/rock-subgenres_sentiment.ipynb",
   "parameters": {
    "data_path": "/home/mattiapggioli/lyrics2ts/data/classification/rock-subgenres/sentiment/",
    "paa_window_size": 20,
    "undersampling": 0.3
   },
   "start_time": "2023-03-21T13:17:02.995372",
   "version": "2.4.0"
  },
  "vscode": {
   "interpreter": {
    "hash": "eb8d1ded7c87c6f9c253b40add648304d6b51d2e38393955e855effc7e6f899a"
   }
  }
 },
 "nbformat": 4,
 "nbformat_minor": 5
}