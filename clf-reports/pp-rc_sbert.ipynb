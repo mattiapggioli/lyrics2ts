{
 "cells": [
  {
   "cell_type": "markdown",
   "id": "d79a68c5",
   "metadata": {
    "papermill": {
     "duration": 0.027391,
     "end_time": "2023-03-09T09:52:39.604852",
     "exception": false,
     "start_time": "2023-03-09T09:52:39.577461",
     "status": "completed"
    },
    "tags": []
   },
   "source": [
    "# Time Series Classification"
   ]
  },
  {
   "cell_type": "code",
   "execution_count": 1,
   "id": "8a0cb2b0",
   "metadata": {
    "execution": {
     "iopub.execute_input": "2023-03-09T09:52:39.633298Z",
     "iopub.status.busy": "2023-03-09T09:52:39.633018Z",
     "iopub.status.idle": "2023-03-09T09:52:40.988842Z",
     "shell.execute_reply": "2023-03-09T09:52:40.988152Z"
    },
    "papermill": {
     "duration": 1.371921,
     "end_time": "2023-03-09T09:52:40.991550",
     "exception": false,
     "start_time": "2023-03-09T09:52:39.619629",
     "status": "completed"
    },
    "tags": []
   },
   "outputs": [],
   "source": [
    "%matplotlib inline\n",
    "import pandas as pd\n",
    "import numpy as np\n",
    "import matplotlib.pyplot as plt\n",
    "import seaborn as sns\n",
    "import re\n",
    "import os\n",
    "from sklearn.preprocessing import StandardScaler\n",
    "from sklearn.decomposition import PCA\n",
    "import joblib\n",
    "from tslearn.utils import to_time_series_dataset, save_time_series_txt, load_time_series_txt\n",
    "import random\n",
    "from sklearn.model_selection import train_test_split\n",
    "from sklearn.metrics import accuracy_score, f1_score, precision_score, recall_score, classification_report\n",
    "import pickle"
   ]
  },
  {
   "cell_type": "code",
   "execution_count": 2,
   "id": "acc03405",
   "metadata": {
    "execution": {
     "iopub.execute_input": "2023-03-09T09:52:41.052168Z",
     "iopub.status.busy": "2023-03-09T09:52:41.051751Z",
     "iopub.status.idle": "2023-03-09T09:52:41.057320Z",
     "shell.execute_reply": "2023-03-09T09:52:41.056396Z"
    },
    "papermill": {
     "duration": 0.040143,
     "end_time": "2023-03-09T09:52:41.060748",
     "exception": false,
     "start_time": "2023-03-09T09:52:41.020605",
     "status": "completed"
    },
    "tags": [
     "parameters"
    ]
   },
   "outputs": [],
   "source": [
    "data_path = '/home/mattiapggioli/lyrics2ts/data/classification/pp-rc/sbert/'\n",
    "truncate=100\n",
    "max_iter = 2000\n",
    "paa_window_size = None\n",
    "undersampling = None"
   ]
  },
  {
   "cell_type": "code",
   "execution_count": 3,
   "id": "01f8cd2d",
   "metadata": {
    "execution": {
     "iopub.execute_input": "2023-03-09T09:52:41.098823Z",
     "iopub.status.busy": "2023-03-09T09:52:41.098491Z",
     "iopub.status.idle": "2023-03-09T09:52:41.105070Z",
     "shell.execute_reply": "2023-03-09T09:52:41.104145Z"
    },
    "papermill": {
     "duration": 0.019692,
     "end_time": "2023-03-09T09:52:41.106612",
     "exception": false,
     "start_time": "2023-03-09T09:52:41.086920",
     "status": "completed"
    },
    "tags": [
     "injected-parameters"
    ]
   },
   "outputs": [],
   "source": [
    "# Parameters\n",
    "data_path = \"/home/mattiapggioli/lyrics2ts/data/classification/pp-rc/sbert/\"\n",
    "paa_window_size = 20\n",
    "undersampling = 0.3\n"
   ]
  },
  {
   "cell_type": "code",
   "execution_count": 4,
   "id": "a4f0c774",
   "metadata": {
    "execution": {
     "iopub.execute_input": "2023-03-09T09:52:41.129961Z",
     "iopub.status.busy": "2023-03-09T09:52:41.129240Z",
     "iopub.status.idle": "2023-03-09T09:52:59.544754Z",
     "shell.execute_reply": "2023-03-09T09:52:59.543794Z"
    },
    "papermill": {
     "duration": 18.430368,
     "end_time": "2023-03-09T09:52:59.547713",
     "exception": false,
     "start_time": "2023-03-09T09:52:41.117345",
     "status": "completed"
    },
    "tags": []
   },
   "outputs": [],
   "source": [
    "ts = load_time_series_txt(f'{data_path}/ts.txt')"
   ]
  },
  {
   "cell_type": "code",
   "execution_count": 5,
   "id": "5c48d154",
   "metadata": {
    "execution": {
     "iopub.execute_input": "2023-03-09T09:52:59.614587Z",
     "iopub.status.busy": "2023-03-09T09:52:59.614268Z",
     "iopub.status.idle": "2023-03-09T09:52:59.620338Z",
     "shell.execute_reply": "2023-03-09T09:52:59.619480Z"
    },
    "papermill": {
     "duration": 0.03806,
     "end_time": "2023-03-09T09:52:59.622340",
     "exception": false,
     "start_time": "2023-03-09T09:52:59.584280",
     "status": "completed"
    },
    "tags": []
   },
   "outputs": [
    {
     "data": {
      "text/plain": [
       "(24000, 130, 1)"
      ]
     },
     "execution_count": 5,
     "metadata": {},
     "output_type": "execute_result"
    }
   ],
   "source": [
    "ts.shape"
   ]
  },
  {
   "cell_type": "code",
   "execution_count": 6,
   "id": "f6274d40",
   "metadata": {
    "execution": {
     "iopub.execute_input": "2023-03-09T09:52:59.646899Z",
     "iopub.status.busy": "2023-03-09T09:52:59.646397Z",
     "iopub.status.idle": "2023-03-09T09:52:59.654968Z",
     "shell.execute_reply": "2023-03-09T09:52:59.653910Z"
    },
    "papermill": {
     "duration": 0.022786,
     "end_time": "2023-03-09T09:52:59.656863",
     "exception": false,
     "start_time": "2023-03-09T09:52:59.634077",
     "status": "completed"
    },
    "tags": []
   },
   "outputs": [],
   "source": [
    "with open(f'{data_path}/y_class.npy', 'rb') as f:\n",
    "    y = np.load(f, allow_pickle=True)"
   ]
  },
  {
   "cell_type": "code",
   "execution_count": 7,
   "id": "9d42fa3b",
   "metadata": {
    "execution": {
     "iopub.execute_input": "2023-03-09T09:52:59.680451Z",
     "iopub.status.busy": "2023-03-09T09:52:59.679922Z",
     "iopub.status.idle": "2023-03-09T09:52:59.764896Z",
     "shell.execute_reply": "2023-03-09T09:52:59.763362Z"
    },
    "papermill": {
     "duration": 0.09965,
     "end_time": "2023-03-09T09:52:59.767644",
     "exception": false,
     "start_time": "2023-03-09T09:52:59.667994",
     "status": "completed"
    },
    "tags": []
   },
   "outputs": [],
   "source": [
    "with open(f'{data_path}/X.npy', 'rb') as f:\n",
    "    X = np.load(f, allow_pickle=True)"
   ]
  },
  {
   "cell_type": "code",
   "execution_count": 8,
   "id": "1158a9da",
   "metadata": {
    "execution": {
     "iopub.execute_input": "2023-03-09T09:52:59.795872Z",
     "iopub.status.busy": "2023-03-09T09:52:59.794588Z",
     "iopub.status.idle": "2023-03-09T09:52:59.802196Z",
     "shell.execute_reply": "2023-03-09T09:52:59.801372Z"
    },
    "papermill": {
     "duration": 0.022384,
     "end_time": "2023-03-09T09:52:59.803831",
     "exception": false,
     "start_time": "2023-03-09T09:52:59.781447",
     "status": "completed"
    },
    "tags": []
   },
   "outputs": [
    {
     "data": {
      "text/plain": [
       "(24000, 384)"
      ]
     },
     "execution_count": 8,
     "metadata": {},
     "output_type": "execute_result"
    }
   ],
   "source": [
    "X.shape"
   ]
  },
  {
   "cell_type": "code",
   "execution_count": 9,
   "id": "47239790",
   "metadata": {
    "execution": {
     "iopub.execute_input": "2023-03-09T09:52:59.832020Z",
     "iopub.status.busy": "2023-03-09T09:52:59.830969Z",
     "iopub.status.idle": "2023-03-09T09:52:59.839058Z",
     "shell.execute_reply": "2023-03-09T09:52:59.838123Z"
    },
    "papermill": {
     "duration": 0.024095,
     "end_time": "2023-03-09T09:52:59.840782",
     "exception": false,
     "start_time": "2023-03-09T09:52:59.816687",
     "status": "completed"
    },
    "tags": []
   },
   "outputs": [
    {
     "data": {
      "text/plain": [
       "{'pop', 'rock'}"
      ]
     },
     "execution_count": 9,
     "metadata": {},
     "output_type": "execute_result"
    }
   ],
   "source": [
    "set(y)"
   ]
  },
  {
   "cell_type": "code",
   "execution_count": 10,
   "id": "37609992",
   "metadata": {
    "execution": {
     "iopub.execute_input": "2023-03-09T09:52:59.866550Z",
     "iopub.status.busy": "2023-03-09T09:52:59.866062Z",
     "iopub.status.idle": "2023-03-09T09:52:59.890180Z",
     "shell.execute_reply": "2023-03-09T09:52:59.889216Z"
    },
    "papermill": {
     "duration": 0.039765,
     "end_time": "2023-03-09T09:52:59.892390",
     "exception": false,
     "start_time": "2023-03-09T09:52:59.852625",
     "status": "completed"
    },
    "tags": []
   },
   "outputs": [],
   "source": [
    "ts_train, ts_test, y_train, y_test = train_test_split(ts, y, test_size=0.20, random_state=42)"
   ]
  },
  {
   "cell_type": "code",
   "execution_count": 11,
   "id": "34508fe4",
   "metadata": {
    "execution": {
     "iopub.execute_input": "2023-03-09T09:52:59.921670Z",
     "iopub.status.busy": "2023-03-09T09:52:59.920772Z",
     "iopub.status.idle": "2023-03-09T09:52:59.973984Z",
     "shell.execute_reply": "2023-03-09T09:52:59.972939Z"
    },
    "papermill": {
     "duration": 0.07014,
     "end_time": "2023-03-09T09:52:59.976402",
     "exception": false,
     "start_time": "2023-03-09T09:52:59.906262",
     "status": "completed"
    },
    "tags": []
   },
   "outputs": [],
   "source": [
    "X_train, X_test, y_train, y_test = train_test_split(X, y, test_size=0.20, random_state=42)"
   ]
  },
  {
   "cell_type": "code",
   "execution_count": 12,
   "id": "076afac9",
   "metadata": {
    "execution": {
     "iopub.execute_input": "2023-03-09T09:53:00.003215Z",
     "iopub.status.busy": "2023-03-09T09:53:00.002267Z",
     "iopub.status.idle": "2023-03-09T09:53:00.016414Z",
     "shell.execute_reply": "2023-03-09T09:53:00.015350Z"
    },
    "papermill": {
     "duration": 0.028709,
     "end_time": "2023-03-09T09:53:00.018183",
     "exception": false,
     "start_time": "2023-03-09T09:52:59.989474",
     "status": "completed"
    },
    "tags": []
   },
   "outputs": [
    {
     "data": {
      "text/plain": [
       "array([[ 2.02222131],\n",
       "       [ 1.31263147],\n",
       "       [ 0.50753658],\n",
       "       [-1.44399838],\n",
       "       [-1.40881398],\n",
       "       [-1.80746027],\n",
       "       [-1.32820972],\n",
       "       [-2.20413104],\n",
       "       [-2.07841284],\n",
       "       [ 0.20544017],\n",
       "       [-2.18698688],\n",
       "       [-1.1811399 ],\n",
       "       [-1.27777855],\n",
       "       [-1.74294862],\n",
       "       [-1.53325629],\n",
       "       [-0.27132004],\n",
       "       [-2.24661732],\n",
       "       [-1.1811399 ],\n",
       "       [-1.24087902],\n",
       "       [-1.54397783],\n",
       "       [-2.88985183],\n",
       "       [        nan],\n",
       "       [        nan],\n",
       "       [        nan],\n",
       "       [        nan],\n",
       "       [        nan],\n",
       "       [        nan],\n",
       "       [        nan],\n",
       "       [        nan],\n",
       "       [        nan],\n",
       "       [        nan],\n",
       "       [        nan],\n",
       "       [        nan],\n",
       "       [        nan],\n",
       "       [        nan],\n",
       "       [        nan],\n",
       "       [        nan],\n",
       "       [        nan],\n",
       "       [        nan],\n",
       "       [        nan],\n",
       "       [        nan],\n",
       "       [        nan],\n",
       "       [        nan],\n",
       "       [        nan],\n",
       "       [        nan],\n",
       "       [        nan],\n",
       "       [        nan],\n",
       "       [        nan],\n",
       "       [        nan],\n",
       "       [        nan],\n",
       "       [        nan],\n",
       "       [        nan],\n",
       "       [        nan],\n",
       "       [        nan],\n",
       "       [        nan],\n",
       "       [        nan],\n",
       "       [        nan],\n",
       "       [        nan],\n",
       "       [        nan],\n",
       "       [        nan],\n",
       "       [        nan],\n",
       "       [        nan],\n",
       "       [        nan],\n",
       "       [        nan],\n",
       "       [        nan],\n",
       "       [        nan],\n",
       "       [        nan],\n",
       "       [        nan],\n",
       "       [        nan],\n",
       "       [        nan],\n",
       "       [        nan],\n",
       "       [        nan],\n",
       "       [        nan],\n",
       "       [        nan],\n",
       "       [        nan],\n",
       "       [        nan],\n",
       "       [        nan],\n",
       "       [        nan],\n",
       "       [        nan],\n",
       "       [        nan],\n",
       "       [        nan],\n",
       "       [        nan],\n",
       "       [        nan],\n",
       "       [        nan],\n",
       "       [        nan],\n",
       "       [        nan],\n",
       "       [        nan],\n",
       "       [        nan],\n",
       "       [        nan],\n",
       "       [        nan],\n",
       "       [        nan],\n",
       "       [        nan],\n",
       "       [        nan],\n",
       "       [        nan],\n",
       "       [        nan],\n",
       "       [        nan],\n",
       "       [        nan],\n",
       "       [        nan],\n",
       "       [        nan],\n",
       "       [        nan],\n",
       "       [        nan],\n",
       "       [        nan],\n",
       "       [        nan],\n",
       "       [        nan],\n",
       "       [        nan],\n",
       "       [        nan],\n",
       "       [        nan],\n",
       "       [        nan],\n",
       "       [        nan],\n",
       "       [        nan],\n",
       "       [        nan],\n",
       "       [        nan],\n",
       "       [        nan],\n",
       "       [        nan],\n",
       "       [        nan],\n",
       "       [        nan],\n",
       "       [        nan],\n",
       "       [        nan],\n",
       "       [        nan],\n",
       "       [        nan],\n",
       "       [        nan],\n",
       "       [        nan],\n",
       "       [        nan],\n",
       "       [        nan],\n",
       "       [        nan],\n",
       "       [        nan],\n",
       "       [        nan],\n",
       "       [        nan],\n",
       "       [        nan],\n",
       "       [        nan]])"
      ]
     },
     "execution_count": 12,
     "metadata": {},
     "output_type": "execute_result"
    }
   ],
   "source": [
    "random.choice(ts_train)"
   ]
  },
  {
   "cell_type": "code",
   "execution_count": 13,
   "id": "ca66457a",
   "metadata": {
    "execution": {
     "iopub.execute_input": "2023-03-09T09:53:00.046453Z",
     "iopub.status.busy": "2023-03-09T09:53:00.045299Z",
     "iopub.status.idle": "2023-03-09T09:53:00.489643Z",
     "shell.execute_reply": "2023-03-09T09:53:00.488970Z"
    },
    "papermill": {
     "duration": 0.462781,
     "end_time": "2023-03-09T09:53:00.493267",
     "exception": false,
     "start_time": "2023-03-09T09:53:00.030486",
     "status": "completed"
    },
    "tags": []
   },
   "outputs": [
    {
     "data": {
      "text/plain": [
       "<AxesSubplot:ylabel='Count'>"
      ]
     },
     "execution_count": 13,
     "metadata": {},
     "output_type": "execute_result"
    },
    {
     "data": {
      "image/png": "[encoded data removed]",
      "text/plain": [
       "<Figure size 640x480 with 1 Axes>"
      ]
     },
     "metadata": {},
     "output_type": "display_data"
    }
   ],
   "source": [
    "sns.histplot([t[~np.any(np.isnan(t), axis=1)].shape[0] for t in ts_train])"
   ]
  },
  {
   "cell_type": "code",
   "execution_count": 14,
   "id": "c2ae286f",
   "metadata": {
    "execution": {
     "iopub.execute_input": "2023-03-09T09:53:00.558014Z",
     "iopub.status.busy": "2023-03-09T09:53:00.557719Z",
     "iopub.status.idle": "2023-03-09T09:53:00.562338Z",
     "shell.execute_reply": "2023-03-09T09:53:00.561377Z"
    },
    "papermill": {
     "duration": 0.038997,
     "end_time": "2023-03-09T09:53:00.564002",
     "exception": false,
     "start_time": "2023-03-09T09:53:00.525005",
     "status": "completed"
    },
    "tags": []
   },
   "outputs": [],
   "source": [
    "ts_train = ts_train[:, :truncate, :]\n",
    "ts_test = ts_test[:, :truncate, :]"
   ]
  },
  {
   "cell_type": "code",
   "execution_count": 15,
   "id": "3218baa4",
   "metadata": {
    "execution": {
     "iopub.execute_input": "2023-03-09T09:53:00.590157Z",
     "iopub.status.busy": "2023-03-09T09:53:00.589644Z",
     "iopub.status.idle": "2023-03-09T09:53:00.692575Z",
     "shell.execute_reply": "2023-03-09T09:53:00.691752Z"
    },
    "papermill": {
     "duration": 0.117713,
     "end_time": "2023-03-09T09:53:00.695346",
     "exception": false,
     "start_time": "2023-03-09T09:53:00.577633",
     "status": "completed"
    },
    "tags": []
   },
   "outputs": [],
   "source": [
    "mean_arr = np.nanmean(ts_train, axis=1, keepdims=True)\n",
    "nan_indices = np.isnan(ts_train)\n",
    "ts_train[nan_indices] = np.take(mean_arr, np.nonzero(nan_indices)[0])\n",
    "\n",
    "mean_arr = np.nanmean(ts_test, axis=1, keepdims=True)\n",
    "nan_indices = np.isnan(ts_test)\n",
    "ts_test[nan_indices] = np.take(mean_arr, np.nonzero(nan_indices)[0])"
   ]
  },
  {
   "cell_type": "code",
   "execution_count": 16,
   "id": "d369691b",
   "metadata": {
    "execution": {
     "iopub.execute_input": "2023-03-09T09:53:00.721953Z",
     "iopub.status.busy": "2023-03-09T09:53:00.721642Z",
     "iopub.status.idle": "2023-03-09T09:53:00.734096Z",
     "shell.execute_reply": "2023-03-09T09:53:00.733293Z"
    },
    "papermill": {
     "duration": 0.026014,
     "end_time": "2023-03-09T09:53:00.735672",
     "exception": false,
     "start_time": "2023-03-09T09:53:00.709658",
     "status": "completed"
    },
    "tags": []
   },
   "outputs": [
    {
     "data": {
      "text/plain": [
       "0"
      ]
     },
     "execution_count": 16,
     "metadata": {},
     "output_type": "execute_result"
    }
   ],
   "source": [
    "np.count_nonzero(np.isnan(X_train))"
   ]
  },
  {
   "cell_type": "code",
   "execution_count": 17,
   "id": "0d602e18",
   "metadata": {
    "execution": {
     "iopub.execute_input": "2023-03-09T09:53:00.761211Z",
     "iopub.status.busy": "2023-03-09T09:53:00.760286Z",
     "iopub.status.idle": "2023-03-09T09:53:00.775007Z",
     "shell.execute_reply": "2023-03-09T09:53:00.773786Z"
    },
    "papermill": {
     "duration": 0.029445,
     "end_time": "2023-03-09T09:53:00.777208",
     "exception": false,
     "start_time": "2023-03-09T09:53:00.747763",
     "status": "completed"
    },
    "tags": []
   },
   "outputs": [],
   "source": [
    "X_train[np.isnan(X_train)] = 0\n",
    "X_test[np.isnan(X_test)] = 0"
   ]
  },
  {
   "cell_type": "code",
   "execution_count": 18,
   "id": "45c5102c",
   "metadata": {
    "execution": {
     "iopub.execute_input": "2023-03-09T09:53:00.803723Z",
     "iopub.status.busy": "2023-03-09T09:53:00.803085Z",
     "iopub.status.idle": "2023-03-09T09:53:03.234103Z",
     "shell.execute_reply": "2023-03-09T09:53:03.232973Z"
    },
    "papermill": {
     "duration": 2.447077,
     "end_time": "2023-03-09T09:53:03.237671",
     "exception": false,
     "start_time": "2023-03-09T09:53:00.790594",
     "status": "completed"
    },
    "tags": []
   },
   "outputs": [],
   "source": [
    "save_time_series_txt(f'{data_path}/ts_train.txt', ts_train)\n",
    "save_time_series_txt(f'{data_path}/ts_test.txt', ts_test)"
   ]
  },
  {
   "cell_type": "code",
   "execution_count": 19,
   "id": "39830f37",
   "metadata": {
    "execution": {
     "iopub.execute_input": "2023-03-09T09:53:03.302578Z",
     "iopub.status.busy": "2023-03-09T09:53:03.301783Z",
     "iopub.status.idle": "2023-03-09T09:53:03.377090Z",
     "shell.execute_reply": "2023-03-09T09:53:03.375754Z"
    },
    "papermill": {
     "duration": 0.110589,
     "end_time": "2023-03-09T09:53:03.380515",
     "exception": false,
     "start_time": "2023-03-09T09:53:03.269926",
     "status": "completed"
    },
    "tags": []
   },
   "outputs": [],
   "source": [
    "with open(f'{data_path}/X_train.npy', 'wb') as f:\n",
    "    np.save(f, X_train, allow_pickle=True)\n",
    "\n",
    "with open(f'{data_path}/X_test.npy', 'wb') as f:\n",
    "    np.save(f, X_test, allow_pickle=True)"
   ]
  },
  {
   "cell_type": "code",
   "execution_count": 20,
   "id": "795fd2be",
   "metadata": {
    "execution": {
     "iopub.execute_input": "2023-03-09T09:53:03.418969Z",
     "iopub.status.busy": "2023-03-09T09:53:03.418208Z",
     "iopub.status.idle": "2023-03-09T09:53:03.427375Z",
     "shell.execute_reply": "2023-03-09T09:53:03.426278Z"
    },
    "papermill": {
     "duration": 0.023757,
     "end_time": "2023-03-09T09:53:03.429306",
     "exception": false,
     "start_time": "2023-03-09T09:53:03.405549",
     "status": "completed"
    },
    "tags": []
   },
   "outputs": [],
   "source": [
    "with open(f'{data_path}/y_train.npy', 'wb') as f:\n",
    "    np.save(f, y_train, allow_pickle=True)\n",
    "\n",
    "with open(f'{data_path}/y_test.npy', 'wb') as f:\n",
    "    np.save(f, y_test, allow_pickle=True)"
   ]
  },
  {
   "cell_type": "code",
   "execution_count": 21,
   "id": "08bda153",
   "metadata": {
    "execution": {
     "iopub.execute_input": "2023-03-09T09:53:03.454162Z",
     "iopub.status.busy": "2023-03-09T09:53:03.453475Z",
     "iopub.status.idle": "2023-03-09T09:53:03.598604Z",
     "shell.execute_reply": "2023-03-09T09:53:03.597525Z"
    },
    "papermill": {
     "duration": 0.159542,
     "end_time": "2023-03-09T09:53:03.600542",
     "exception": false,
     "start_time": "2023-03-09T09:53:03.441000",
     "status": "completed"
    },
    "tags": []
   },
   "outputs": [
    {
     "data": {
      "text/plain": [
       "[<matplotlib.lines.Line2D at 0x7f49550cc700>]"
      ]
     },
     "execution_count": 21,
     "metadata": {},
     "output_type": "execute_result"
    },
    {
     "data": {
      "image/png": "[encoded data removed]",
      "text/plain": [
       "<Figure size 640x480 with 1 Axes>"
      ]
     },
     "metadata": {},
     "output_type": "display_data"
    }
   ],
   "source": [
    "plt.plot(random.choice(ts_train))"
   ]
  },
  {
   "cell_type": "code",
   "execution_count": 22,
   "id": "98ce9d63",
   "metadata": {
    "execution": {
     "iopub.execute_input": "2023-03-09T09:53:03.628179Z",
     "iopub.status.busy": "2023-03-09T09:53:03.627807Z",
     "iopub.status.idle": "2023-03-09T09:53:03.633504Z",
     "shell.execute_reply": "2023-03-09T09:53:03.632678Z"
    },
    "papermill": {
     "duration": 0.021567,
     "end_time": "2023-03-09T09:53:03.635208",
     "exception": false,
     "start_time": "2023-03-09T09:53:03.613641",
     "status": "completed"
    },
    "tags": []
   },
   "outputs": [],
   "source": [
    "# Parameters that require knowing if it's binary or multiclass (LightGBM, metrics)\n",
    "if len(set(y)) == 2:\n",
    "    avg_par = 'macro'\n",
    "    obj_par = 'binary'\n",
    "elif len(set(y)) > 2:\n",
    "    avg_par = 'macro'\n",
    "    obj_par = 'multiclass'"
   ]
  },
  {
   "cell_type": "markdown",
   "id": "228f1b39",
   "metadata": {
    "papermill": {
     "duration": 0.011738,
     "end_time": "2023-03-09T09:53:03.658942",
     "exception": false,
     "start_time": "2023-03-09T09:53:03.647204",
     "status": "completed"
    },
    "tags": []
   },
   "source": [
    "## Classification"
   ]
  },
  {
   "cell_type": "code",
   "execution_count": 23,
   "id": "34bb73ff",
   "metadata": {
    "execution": {
     "iopub.execute_input": "2023-03-09T09:53:03.684384Z",
     "iopub.status.busy": "2023-03-09T09:53:03.683729Z",
     "iopub.status.idle": "2023-03-09T09:53:03.802547Z",
     "shell.execute_reply": "2023-03-09T09:53:03.801630Z"
    },
    "papermill": {
     "duration": 0.134389,
     "end_time": "2023-03-09T09:53:03.805336",
     "exception": false,
     "start_time": "2023-03-09T09:53:03.670947",
     "status": "completed"
    },
    "tags": []
   },
   "outputs": [],
   "source": [
    "from sklearn.tree import DecisionTreeClassifier\n",
    "import lightgbm as lgbm\n",
    "from sklearn.ensemble import RandomForestClassifier"
   ]
  },
  {
   "cell_type": "code",
   "execution_count": 24,
   "id": "02aaee18",
   "metadata": {
    "execution": {
     "iopub.execute_input": "2023-03-09T09:53:03.873542Z",
     "iopub.status.busy": "2023-03-09T09:53:03.872558Z",
     "iopub.status.idle": "2023-03-09T09:53:03.878546Z",
     "shell.execute_reply": "2023-03-09T09:53:03.877221Z"
    },
    "papermill": {
     "duration": 0.043083,
     "end_time": "2023-03-09T09:53:03.881760",
     "exception": false,
     "start_time": "2023-03-09T09:53:03.838677",
     "status": "completed"
    },
    "tags": []
   },
   "outputs": [],
   "source": [
    "metrics_data = {}"
   ]
  },
  {
   "cell_type": "markdown",
   "id": "b49309ed",
   "metadata": {
    "papermill": {
     "duration": 0.011365,
     "end_time": "2023-03-09T09:53:03.916876",
     "exception": false,
     "start_time": "2023-03-09T09:53:03.905511",
     "status": "completed"
    },
    "tags": []
   },
   "source": [
    "### Baseline: global features (No Time Series)"
   ]
  },
  {
   "cell_type": "code",
   "execution_count": 25,
   "id": "35eb9f66",
   "metadata": {
    "execution": {
     "iopub.execute_input": "2023-03-09T09:53:03.941904Z",
     "iopub.status.busy": "2023-03-09T09:53:03.941441Z",
     "iopub.status.idle": "2023-03-09T09:53:03.947058Z",
     "shell.execute_reply": "2023-03-09T09:53:03.945811Z"
    },
    "papermill": {
     "duration": 0.020435,
     "end_time": "2023-03-09T09:53:03.948848",
     "exception": false,
     "start_time": "2023-03-09T09:53:03.928413",
     "status": "completed"
    },
    "tags": []
   },
   "outputs": [],
   "source": [
    "metrics_data['Global'] = {}"
   ]
  },
  {
   "cell_type": "markdown",
   "id": "29cd5044",
   "metadata": {
    "papermill": {
     "duration": 0.011581,
     "end_time": "2023-03-09T09:53:03.972304",
     "exception": false,
     "start_time": "2023-03-09T09:53:03.960723",
     "status": "completed"
    },
    "tags": []
   },
   "source": [
    "**Decision Tree**"
   ]
  },
  {
   "cell_type": "code",
   "execution_count": 26,
   "id": "9ef4f037",
   "metadata": {
    "execution": {
     "iopub.execute_input": "2023-03-09T09:53:03.997613Z",
     "iopub.status.busy": "2023-03-09T09:53:03.996751Z",
     "iopub.status.idle": "2023-03-09T09:53:15.531978Z",
     "shell.execute_reply": "2023-03-09T09:53:15.531123Z"
    },
    "papermill": {
     "duration": 11.550806,
     "end_time": "2023-03-09T09:53:15.534762",
     "exception": false,
     "start_time": "2023-03-09T09:53:03.983956",
     "status": "completed"
    },
    "tags": []
   },
   "outputs": [
    {
     "data": {
      "text/html": [
       "<style>#sk-container-id-1 {color: black;background-color: white;}#sk-container-id-1 pre{padding: 0;}#sk-container-id-1 div.sk-toggleable {background-color: white;}#sk-container-id-1 label.sk-toggleable__label {cursor: pointer;display: block;width: 100%;margin-bottom: 0;padding: 0.3em;box-sizing: border-box;text-align: center;}#sk-container-id-1 label.sk-toggleable__label-arrow:before {content: \"▸\";float: left;margin-right: 0.25em;color: #696969;}#sk-container-id-1 label.sk-toggleable__label-arrow:hover:before {color: black;}#sk-container-id-1 div.sk-estimator:hover label.sk-toggleable__label-arrow:before {color: black;}#sk-container-id-1 div.sk-toggleable__content {max-height: 0;max-width: 0;overflow: hidden;text-align: left;background-color: #f0f8ff;}#sk-container-id-1 div.sk-toggleable__content pre {margin: 0.2em;color: black;border-radius: 0.25em;background-color: #f0f8ff;}#sk-container-id-1 input.sk-toggleable__control:checked~div.sk-toggleable__content {max-height: 200px;max-width: 100%;overflow: auto;}#sk-container-id-1 input.sk-toggleable__control:checked~label.sk-toggleable__label-arrow:before {content: \"▾\";}#sk-container-id-1 div.sk-estimator input.sk-toggleable__control:checked~label.sk-toggleable__label {background-color: #d4ebff;}#sk-container-id-1 div.sk-label input.sk-toggleable__control:checked~label.sk-toggleable__label {background-color: #d4ebff;}#sk-container-id-1 input.sk-hidden--visually {border: 0;clip: rect(1px 1px 1px 1px);clip: rect(1px, 1px, 1px, 1px);height: 1px;margin: -1px;overflow: hidden;padding: 0;position: absolute;width: 1px;}#sk-container-id-1 div.sk-estimator {font-family: monospace;background-color: #f0f8ff;border: 1px dotted black;border-radius: 0.25em;box-sizing: border-box;margin-bottom: 0.5em;}#sk-container-id-1 div.sk-estimator:hover {background-color: #d4ebff;}#sk-container-id-1 div.sk-parallel-item::after {content: \"\";width: 100%;border-bottom: 1px solid gray;flex-grow: 1;}#sk-container-id-1 div.sk-label:hover label.sk-toggleable__label {background-color: #d4ebff;}#sk-container-id-1 div.sk-serial::before {content: \"\";position: absolute;border-left: 1px solid gray;box-sizing: border-box;top: 0;bottom: 0;left: 50%;z-index: 0;}#sk-container-id-1 div.sk-serial {display: flex;flex-direction: column;align-items: center;background-color: white;padding-right: 0.2em;padding-left: 0.2em;position: relative;}#sk-container-id-1 div.sk-item {position: relative;z-index: 1;}#sk-container-id-1 div.sk-parallel {display: flex;align-items: stretch;justify-content: center;background-color: white;position: relative;}#sk-container-id-1 div.sk-item::before, #sk-container-id-1 div.sk-parallel-item::before {content: \"\";position: absolute;border-left: 1px solid gray;box-sizing: border-box;top: 0;bottom: 0;left: 50%;z-index: -1;}#sk-container-id-1 div.sk-parallel-item {display: flex;flex-direction: column;z-index: 1;position: relative;background-color: white;}#sk-container-id-1 div.sk-parallel-item:first-child::after {align-self: flex-end;width: 50%;}#sk-container-id-1 div.sk-parallel-item:last-child::after {align-self: flex-start;width: 50%;}#sk-container-id-1 div.sk-parallel-item:only-child::after {width: 0;}#sk-container-id-1 div.sk-dashed-wrapped {border: 1px dashed gray;margin: 0 0.4em 0.5em 0.4em;box-sizing: border-box;padding-bottom: 0.4em;background-color: white;}#sk-container-id-1 div.sk-label label {font-family: monospace;font-weight: bold;display: inline-block;line-height: 1.2em;}#sk-container-id-1 div.sk-label-container {text-align: center;}#sk-container-id-1 div.sk-container {/* jupyter's `normalize.less` sets `[hidden] { display: none; }` but bootstrap.min.css set `[hidden] { display: none !important; }` so we also need the `!important` here to be able to override the default hidden behavior on the sphinx rendered scikit-learn.org. See: https://github.com/scikit-learn/scikit-learn/issues/21755 */display: inline-block !important;position: relative;}#sk-container-id-1 div.sk-text-repr-fallback {display: none;}</style><div id=\"sk-container-id-1\" class=\"sk-top-container\"><div class=\"sk-text-repr-fallback\"><pre>DecisionTreeClassifier()</pre><b>In a Jupyter environment, please rerun this cell to show the HTML representation or trust the notebook. <br />On GitHub, the HTML representation is unable to render, please try loading this page with nbviewer.org.</b></div><div class=\"sk-container\" hidden><div class=\"sk-item\"><div class=\"sk-estimator sk-toggleable\"><input class=\"sk-toggleable__control sk-hidden--visually\" id=\"sk-estimator-id-1\" type=\"checkbox\" checked><label for=\"sk-estimator-id-1\" class=\"sk-toggleable__label sk-toggleable__label-arrow\">DecisionTreeClassifier</label><div class=\"sk-toggleable__content\"><pre>DecisionTreeClassifier()</pre></div></div></div></div></div>"
      ],
      "text/plain": [
       "DecisionTreeClassifier()"
      ]
     },
     "execution_count": 26,
     "metadata": {},
     "output_type": "execute_result"
    }
   ],
   "source": [
    "clf = DecisionTreeClassifier()\n",
    "clf.fit(X_train, y_train)"
   ]
  },
  {
   "cell_type": "code",
   "execution_count": 27,
   "id": "9c50acc4",
   "metadata": {
    "execution": {
     "iopub.execute_input": "2023-03-09T09:53:15.594702Z",
     "iopub.status.busy": "2023-03-09T09:53:15.593827Z",
     "iopub.status.idle": "2023-03-09T09:53:15.768630Z",
     "shell.execute_reply": "2023-03-09T09:53:15.767469Z"
    },
    "papermill": {
     "duration": 0.205936,
     "end_time": "2023-03-09T09:53:15.771051",
     "exception": false,
     "start_time": "2023-03-09T09:53:15.565115",
     "status": "completed"
    },
    "tags": []
   },
   "outputs": [
    {
     "name": "stdout",
     "output_type": "stream",
     "text": [
      "              precision    recall  f1-score   support\n",
      "\n",
      "         pop       0.58      0.59      0.58      2391\n",
      "        rock       0.58      0.57      0.58      2409\n",
      "\n",
      "    accuracy                           0.58      4800\n",
      "   macro avg       0.58      0.58      0.58      4800\n",
      "weighted avg       0.58      0.58      0.58      4800\n",
      "\n"
     ]
    }
   ],
   "source": [
    "y_pred = clf.predict(X_test)\n",
    "print(classification_report(y_test, y_pred))"
   ]
  },
  {
   "cell_type": "code",
   "execution_count": 28,
   "id": "8866c3c3",
   "metadata": {
    "execution": {
     "iopub.execute_input": "2023-03-09T09:53:15.811997Z",
     "iopub.status.busy": "2023-03-09T09:53:15.811189Z",
     "iopub.status.idle": "2023-03-09T09:53:15.911678Z",
     "shell.execute_reply": "2023-03-09T09:53:15.910869Z"
    },
    "papermill": {
     "duration": 0.117886,
     "end_time": "2023-03-09T09:53:15.914254",
     "exception": false,
     "start_time": "2023-03-09T09:53:15.796368",
     "status": "completed"
    },
    "tags": []
   },
   "outputs": [],
   "source": [
    "acc = accuracy_score(y_test, y_pred)\n",
    "pre = precision_score(y_test, y_pred, average=avg_par)\n",
    "rec = recall_score(y_test, y_pred, average=avg_par)\n",
    "f1 = f1_score(y_test, y_pred, average=avg_par)\n",
    "\n",
    "metrics_data['Global']['DecisionTree'] = {'Accuracy': acc, 'Precision': pre, 'Recall': rec, 'F1': f1}"
   ]
  },
  {
   "cell_type": "markdown",
   "id": "28aa5a63",
   "metadata": {
    "papermill": {
     "duration": 0.032296,
     "end_time": "2023-03-09T09:53:15.978100",
     "exception": false,
     "start_time": "2023-03-09T09:53:15.945804",
     "status": "completed"
    },
    "tags": []
   },
   "source": [
    "**Random Forest**"
   ]
  },
  {
   "cell_type": "code",
   "execution_count": 29,
   "id": "0e5e2310",
   "metadata": {
    "execution": {
     "iopub.execute_input": "2023-03-09T09:53:16.010234Z",
     "iopub.status.busy": "2023-03-09T09:53:16.009307Z",
     "iopub.status.idle": "2023-03-09T09:53:50.639144Z",
     "shell.execute_reply": "2023-03-09T09:53:50.638232Z"
    },
    "papermill": {
     "duration": 34.675602,
     "end_time": "2023-03-09T09:53:50.668950",
     "exception": false,
     "start_time": "2023-03-09T09:53:15.993348",
     "status": "completed"
    },
    "tags": []
   },
   "outputs": [
    {
     "data": {
      "text/html": [
       "<style>#sk-container-id-2 {color: black;background-color: white;}#sk-container-id-2 pre{padding: 0;}#sk-container-id-2 div.sk-toggleable {background-color: white;}#sk-container-id-2 label.sk-toggleable__label {cursor: pointer;display: block;width: 100%;margin-bottom: 0;padding: 0.3em;box-sizing: border-box;text-align: center;}#sk-container-id-2 label.sk-toggleable__label-arrow:before {content: \"▸\";float: left;margin-right: 0.25em;color: #696969;}#sk-container-id-2 label.sk-toggleable__label-arrow:hover:before {color: black;}#sk-container-id-2 div.sk-estimator:hover label.sk-toggleable__label-arrow:before {color: black;}#sk-container-id-2 div.sk-toggleable__content {max-height: 0;max-width: 0;overflow: hidden;text-align: left;background-color: #f0f8ff;}#sk-container-id-2 div.sk-toggleable__content pre {margin: 0.2em;color: black;border-radius: 0.25em;background-color: #f0f8ff;}#sk-container-id-2 input.sk-toggleable__control:checked~div.sk-toggleable__content {max-height: 200px;max-width: 100%;overflow: auto;}#sk-container-id-2 input.sk-toggleable__control:checked~label.sk-toggleable__label-arrow:before {content: \"▾\";}#sk-container-id-2 div.sk-estimator input.sk-toggleable__control:checked~label.sk-toggleable__label {background-color: #d4ebff;}#sk-container-id-2 div.sk-label input.sk-toggleable__control:checked~label.sk-toggleable__label {background-color: #d4ebff;}#sk-container-id-2 input.sk-hidden--visually {border: 0;clip: rect(1px 1px 1px 1px);clip: rect(1px, 1px, 1px, 1px);height: 1px;margin: -1px;overflow: hidden;padding: 0;position: absolute;width: 1px;}#sk-container-id-2 div.sk-estimator {font-family: monospace;background-color: #f0f8ff;border: 1px dotted black;border-radius: 0.25em;box-sizing: border-box;margin-bottom: 0.5em;}#sk-container-id-2 div.sk-estimator:hover {background-color: #d4ebff;}#sk-container-id-2 div.sk-parallel-item::after {content: \"\";width: 100%;border-bottom: 1px solid gray;flex-grow: 1;}#sk-container-id-2 div.sk-label:hover label.sk-toggleable__label {background-color: #d4ebff;}#sk-container-id-2 div.sk-serial::before {content: \"\";position: absolute;border-left: 1px solid gray;box-sizing: border-box;top: 0;bottom: 0;left: 50%;z-index: 0;}#sk-container-id-2 div.sk-serial {display: flex;flex-direction: column;align-items: center;background-color: white;padding-right: 0.2em;padding-left: 0.2em;position: relative;}#sk-container-id-2 div.sk-item {position: relative;z-index: 1;}#sk-container-id-2 div.sk-parallel {display: flex;align-items: stretch;justify-content: center;background-color: white;position: relative;}#sk-container-id-2 div.sk-item::before, #sk-container-id-2 div.sk-parallel-item::before {content: \"\";position: absolute;border-left: 1px solid gray;box-sizing: border-box;top: 0;bottom: 0;left: 50%;z-index: -1;}#sk-container-id-2 div.sk-parallel-item {display: flex;flex-direction: column;z-index: 1;position: relative;background-color: white;}#sk-container-id-2 div.sk-parallel-item:first-child::after {align-self: flex-end;width: 50%;}#sk-container-id-2 div.sk-parallel-item:last-child::after {align-self: flex-start;width: 50%;}#sk-container-id-2 div.sk-parallel-item:only-child::after {width: 0;}#sk-container-id-2 div.sk-dashed-wrapped {border: 1px dashed gray;margin: 0 0.4em 0.5em 0.4em;box-sizing: border-box;padding-bottom: 0.4em;background-color: white;}#sk-container-id-2 div.sk-label label {font-family: monospace;font-weight: bold;display: inline-block;line-height: 1.2em;}#sk-container-id-2 div.sk-label-container {text-align: center;}#sk-container-id-2 div.sk-container {/* jupyter's `normalize.less` sets `[hidden] { display: none; }` but bootstrap.min.css set `[hidden] { display: none !important; }` so we also need the `!important` here to be able to override the default hidden behavior on the sphinx rendered scikit-learn.org. See: https://github.com/scikit-learn/scikit-learn/issues/21755 */display: inline-block !important;position: relative;}#sk-container-id-2 div.sk-text-repr-fallback {display: none;}</style><div id=\"sk-container-id-2\" class=\"sk-top-container\"><div class=\"sk-text-repr-fallback\"><pre>RandomForestClassifier(random_state=42)</pre><b>In a Jupyter environment, please rerun this cell to show the HTML representation or trust the notebook. <br />On GitHub, the HTML representation is unable to render, please try loading this page with nbviewer.org.</b></div><div class=\"sk-container\" hidden><div class=\"sk-item\"><div class=\"sk-estimator sk-toggleable\"><input class=\"sk-toggleable__control sk-hidden--visually\" id=\"sk-estimator-id-2\" type=\"checkbox\" checked><label for=\"sk-estimator-id-2\" class=\"sk-toggleable__label sk-toggleable__label-arrow\">RandomForestClassifier</label><div class=\"sk-toggleable__content\"><pre>RandomForestClassifier(random_state=42)</pre></div></div></div></div></div>"
      ],
      "text/plain": [
       "RandomForestClassifier(random_state=42)"
      ]
     },
     "execution_count": 29,
     "metadata": {},
     "output_type": "execute_result"
    }
   ],
   "source": [
    "clf = RandomForestClassifier(random_state=42)\n",
    "clf.fit(X_train, y_train)"
   ]
  },
  {
   "cell_type": "code",
   "execution_count": 30,
   "id": "4bd1304b",
   "metadata": {
    "execution": {
     "iopub.execute_input": "2023-03-09T09:53:50.696066Z",
     "iopub.status.busy": "2023-03-09T09:53:50.695631Z",
     "iopub.status.idle": "2023-03-09T09:53:50.973469Z",
     "shell.execute_reply": "2023-03-09T09:53:50.972522Z"
    },
    "papermill": {
     "duration": 0.294397,
     "end_time": "2023-03-09T09:53:50.976283",
     "exception": false,
     "start_time": "2023-03-09T09:53:50.681886",
     "status": "completed"
    },
    "tags": []
   },
   "outputs": [
    {
     "name": "stdout",
     "output_type": "stream",
     "text": [
      "              precision    recall  f1-score   support\n",
      "\n",
      "         pop       0.65      0.67      0.66      2391\n",
      "        rock       0.66      0.65      0.66      2409\n",
      "\n",
      "    accuracy                           0.66      4800\n",
      "   macro avg       0.66      0.66      0.66      4800\n",
      "weighted avg       0.66      0.66      0.66      4800\n",
      "\n"
     ]
    }
   ],
   "source": [
    "y_pred = clf.predict(X_test)\n",
    "print(classification_report(y_test, y_pred))"
   ]
  },
  {
   "cell_type": "code",
   "execution_count": 31,
   "id": "43174ba2",
   "metadata": {
    "execution": {
     "iopub.execute_input": "2023-03-09T09:53:51.044928Z",
     "iopub.status.busy": "2023-03-09T09:53:51.044457Z",
     "iopub.status.idle": "2023-03-09T09:53:51.176120Z",
     "shell.execute_reply": "2023-03-09T09:53:51.175475Z"
    },
    "papermill": {
     "duration": 0.167824,
     "end_time": "2023-03-09T09:53:51.178781",
     "exception": false,
     "start_time": "2023-03-09T09:53:51.010957",
     "status": "completed"
    },
    "tags": []
   },
   "outputs": [],
   "source": [
    "acc = accuracy_score(y_test, y_pred)\n",
    "pre = precision_score(y_test, y_pred, average=avg_par)\n",
    "rec = recall_score(y_test, y_pred, average=avg_par)\n",
    "f1 = f1_score(y_test, y_pred, average=avg_par)\n",
    "\n",
    "metrics_data['Global']['RandomForest'] = {'Accuracy': acc, 'Precision': pre, 'Recall': rec, 'F1': f1}"
   ]
  },
  {
   "cell_type": "markdown",
   "id": "22c98ac5",
   "metadata": {
    "papermill": {
     "duration": 0.032182,
     "end_time": "2023-03-09T09:53:51.245511",
     "exception": false,
     "start_time": "2023-03-09T09:53:51.213329",
     "status": "completed"
    },
    "tags": []
   },
   "source": [
    "**LightGBM**"
   ]
  },
  {
   "cell_type": "code",
   "execution_count": 32,
   "id": "c93b818c",
   "metadata": {
    "execution": {
     "iopub.execute_input": "2023-03-09T09:53:51.274896Z",
     "iopub.status.busy": "2023-03-09T09:53:51.274408Z",
     "iopub.status.idle": "2023-03-09T09:53:55.455163Z",
     "shell.execute_reply": "2023-03-09T09:53:55.454439Z"
    },
    "papermill": {
     "duration": 4.196047,
     "end_time": "2023-03-09T09:53:55.456955",
     "exception": false,
     "start_time": "2023-03-09T09:53:51.260908",
     "status": "completed"
    },
    "tags": []
   },
   "outputs": [
    {
     "data": {
      "text/html": [
       "<style>#sk-container-id-3 {color: black;background-color: white;}#sk-container-id-3 pre{padding: 0;}#sk-container-id-3 div.sk-toggleable {background-color: white;}#sk-container-id-3 label.sk-toggleable__label {cursor: pointer;display: block;width: 100%;margin-bottom: 0;padding: 0.3em;box-sizing: border-box;text-align: center;}#sk-container-id-3 label.sk-toggleable__label-arrow:before {content: \"▸\";float: left;margin-right: 0.25em;color: #696969;}#sk-container-id-3 label.sk-toggleable__label-arrow:hover:before {color: black;}#sk-container-id-3 div.sk-estimator:hover label.sk-toggleable__label-arrow:before {color: black;}#sk-container-id-3 div.sk-toggleable__content {max-height: 0;max-width: 0;overflow: hidden;text-align: left;background-color: #f0f8ff;}#sk-container-id-3 div.sk-toggleable__content pre {margin: 0.2em;color: black;border-radius: 0.25em;background-color: #f0f8ff;}#sk-container-id-3 input.sk-toggleable__control:checked~div.sk-toggleable__content {max-height: 200px;max-width: 100%;overflow: auto;}#sk-container-id-3 input.sk-toggleable__control:checked~label.sk-toggleable__label-arrow:before {content: \"▾\";}#sk-container-id-3 div.sk-estimator input.sk-toggleable__control:checked~label.sk-toggleable__label {background-color: #d4ebff;}#sk-container-id-3 div.sk-label input.sk-toggleable__control:checked~label.sk-toggleable__label {background-color: #d4ebff;}#sk-container-id-3 input.sk-hidden--visually {border: 0;clip: rect(1px 1px 1px 1px);clip: rect(1px, 1px, 1px, 1px);height: 1px;margin: -1px;overflow: hidden;padding: 0;position: absolute;width: 1px;}#sk-container-id-3 div.sk-estimator {font-family: monospace;background-color: #f0f8ff;border: 1px dotted black;border-radius: 0.25em;box-sizing: border-box;margin-bottom: 0.5em;}#sk-container-id-3 div.sk-estimator:hover {background-color: #d4ebff;}#sk-container-id-3 div.sk-parallel-item::after {content: \"\";width: 100%;border-bottom: 1px solid gray;flex-grow: 1;}#sk-container-id-3 div.sk-label:hover label.sk-toggleable__label {background-color: #d4ebff;}#sk-container-id-3 div.sk-serial::before {content: \"\";position: absolute;border-left: 1px solid gray;box-sizing: border-box;top: 0;bottom: 0;left: 50%;z-index: 0;}#sk-container-id-3 div.sk-serial {display: flex;flex-direction: column;align-items: center;background-color: white;padding-right: 0.2em;padding-left: 0.2em;position: relative;}#sk-container-id-3 div.sk-item {position: relative;z-index: 1;}#sk-container-id-3 div.sk-parallel {display: flex;align-items: stretch;justify-content: center;background-color: white;position: relative;}#sk-container-id-3 div.sk-item::before, #sk-container-id-3 div.sk-parallel-item::before {content: \"\";position: absolute;border-left: 1px solid gray;box-sizing: border-box;top: 0;bottom: 0;left: 50%;z-index: -1;}#sk-container-id-3 div.sk-parallel-item {display: flex;flex-direction: column;z-index: 1;position: relative;background-color: white;}#sk-container-id-3 div.sk-parallel-item:first-child::after {align-self: flex-end;width: 50%;}#sk-container-id-3 div.sk-parallel-item:last-child::after {align-self: flex-start;width: 50%;}#sk-container-id-3 div.sk-parallel-item:only-child::after {width: 0;}#sk-container-id-3 div.sk-dashed-wrapped {border: 1px dashed gray;margin: 0 0.4em 0.5em 0.4em;box-sizing: border-box;padding-bottom: 0.4em;background-color: white;}#sk-container-id-3 div.sk-label label {font-family: monospace;font-weight: bold;display: inline-block;line-height: 1.2em;}#sk-container-id-3 div.sk-label-container {text-align: center;}#sk-container-id-3 div.sk-container {/* jupyter's `normalize.less` sets `[hidden] { display: none; }` but bootstrap.min.css set `[hidden] { display: none !important; }` so we also need the `!important` here to be able to override the default hidden behavior on the sphinx rendered scikit-learn.org. See: https://github.com/scikit-learn/scikit-learn/issues/21755 */display: inline-block !important;position: relative;}#sk-container-id-3 div.sk-text-repr-fallback {display: none;}</style><div id=\"sk-container-id-3\" class=\"sk-top-container\"><div class=\"sk-text-repr-fallback\"><pre>LGBMClassifier(objective=&#x27;binary&#x27;)</pre><b>In a Jupyter environment, please rerun this cell to show the HTML representation or trust the notebook. <br />On GitHub, the HTML representation is unable to render, please try loading this page with nbviewer.org.</b></div><div class=\"sk-container\" hidden><div class=\"sk-item\"><div class=\"sk-estimator sk-toggleable\"><input class=\"sk-toggleable__control sk-hidden--visually\" id=\"sk-estimator-id-3\" type=\"checkbox\" checked><label for=\"sk-estimator-id-3\" class=\"sk-toggleable__label sk-toggleable__label-arrow\">LGBMClassifier</label><div class=\"sk-toggleable__content\"><pre>LGBMClassifier(objective=&#x27;binary&#x27;)</pre></div></div></div></div></div>"
      ],
      "text/plain": [
       "LGBMClassifier(objective='binary')"
      ]
     },
     "execution_count": 32,
     "metadata": {},
     "output_type": "execute_result"
    }
   ],
   "source": [
    "clf = lgbm.LGBMClassifier(objective=obj_par) \n",
    "clf.fit(X_train, y_train)"
   ]
  },
  {
   "cell_type": "code",
   "execution_count": 33,
   "id": "600a663a",
   "metadata": {
    "execution": {
     "iopub.execute_input": "2023-03-09T09:53:55.485315Z",
     "iopub.status.busy": "2023-03-09T09:53:55.485026Z",
     "iopub.status.idle": "2023-03-09T09:53:55.623309Z",
     "shell.execute_reply": "2023-03-09T09:53:55.622418Z"
    },
    "papermill": {
     "duration": 0.154487,
     "end_time": "2023-03-09T09:53:55.624895",
     "exception": false,
     "start_time": "2023-03-09T09:53:55.470408",
     "status": "completed"
    },
    "tags": []
   },
   "outputs": [
    {
     "name": "stdout",
     "output_type": "stream",
     "text": [
      "              precision    recall  f1-score   support\n",
      "\n",
      "         pop       0.67      0.69      0.68      2391\n",
      "        rock       0.68      0.66      0.67      2409\n",
      "\n",
      "    accuracy                           0.68      4800\n",
      "   macro avg       0.68      0.68      0.68      4800\n",
      "weighted avg       0.68      0.68      0.68      4800\n",
      "\n"
     ]
    }
   ],
   "source": [
    "y_pred = clf.predict(X_test)\n",
    "print(classification_report(y_test, y_pred))"
   ]
  },
  {
   "cell_type": "code",
   "execution_count": 34,
   "id": "508d831d",
   "metadata": {
    "execution": {
     "iopub.execute_input": "2023-03-09T09:53:55.652027Z",
     "iopub.status.busy": "2023-03-09T09:53:55.651728Z",
     "iopub.status.idle": "2023-03-09T09:53:55.750419Z",
     "shell.execute_reply": "2023-03-09T09:53:55.749742Z"
    },
    "papermill": {
     "duration": 0.115015,
     "end_time": "2023-03-09T09:53:55.753227",
     "exception": false,
     "start_time": "2023-03-09T09:53:55.638212",
     "status": "completed"
    },
    "tags": []
   },
   "outputs": [],
   "source": [
    "acc = accuracy_score(y_test, y_pred)\n",
    "pre = precision_score(y_test, y_pred, average=avg_par)\n",
    "rec = recall_score(y_test, y_pred, average=avg_par)\n",
    "f1 = f1_score(y_test, y_pred, average=avg_par)\n",
    "\n",
    "metrics_data['Global']['LightGBM'] = {'Accuracy': acc, 'Precision': pre, 'Recall': rec, 'F1': f1}"
   ]
  },
  {
   "cell_type": "markdown",
   "id": "14b86894",
   "metadata": {
    "papermill": {
     "duration": 0.036444,
     "end_time": "2023-03-09T09:53:55.828776",
     "exception": false,
     "start_time": "2023-03-09T09:53:55.792332",
     "status": "completed"
    },
    "tags": []
   },
   "source": [
    "### Time Series Classification"
   ]
  },
  {
   "cell_type": "markdown",
   "id": "84c55533",
   "metadata": {
    "papermill": {
     "duration": 0.012461,
     "end_time": "2023-03-09T09:53:55.861764",
     "exception": false,
     "start_time": "2023-03-09T09:53:55.849303",
     "status": "completed"
    },
    "tags": []
   },
   "source": [
    "#### Learning Shapelets"
   ]
  },
  {
   "cell_type": "code",
   "execution_count": 35,
   "id": "488d8eb7",
   "metadata": {
    "execution": {
     "iopub.execute_input": "2023-03-09T09:53:55.888296Z",
     "iopub.status.busy": "2023-03-09T09:53:55.887416Z",
     "iopub.status.idle": "2023-03-09T09:53:57.631473Z",
     "shell.execute_reply": "2023-03-09T09:53:57.630762Z"
    },
    "papermill": {
     "duration": 1.760574,
     "end_time": "2023-03-09T09:53:57.634501",
     "exception": false,
     "start_time": "2023-03-09T09:53:55.873927",
     "status": "completed"
    },
    "tags": []
   },
   "outputs": [
    {
     "name": "stderr",
     "output_type": "stream",
     "text": [
      "2023-03-09 10:53:55.897402: I tensorflow/core/platform/cpu_feature_guard.cc:193] This TensorFlow binary is optimized with oneAPI Deep Neural Network Library (oneDNN) to use the following CPU instructions in performance-critical operations:  AVX2 FMA\n",
      "To enable them in other operations, rebuild TensorFlow with the appropriate compiler flags.\n",
      "2023-03-09 10:53:56.050119: W tensorflow/compiler/xla/stream_executor/platform/default/dso_loader.cc:64] Could not load dynamic library 'libcudart.so.11.0'; dlerror: libcudart.so.11.0: cannot open shared object file: No such file or directory\n",
      "2023-03-09 10:53:56.050141: I tensorflow/compiler/xla/stream_executor/cuda/cudart_stub.cc:29] Ignore above cudart dlerror if you do not have a GPU set up on your machine.\n"
     ]
    },
    {
     "name": "stderr",
     "output_type": "stream",
     "text": [
      "2023-03-09 10:53:56.690668: W tensorflow/compiler/xla/stream_executor/platform/default/dso_loader.cc:64] Could not load dynamic library 'libnvinfer.so.7'; dlerror: libnvinfer.so.7: cannot open shared object file: No such file or directory\n",
      "2023-03-09 10:53:56.690742: W tensorflow/compiler/xla/stream_executor/platform/default/dso_loader.cc:64] Could not load dynamic library 'libnvinfer_plugin.so.7'; dlerror: libnvinfer_plugin.so.7: cannot open shared object file: No such file or directory\n",
      "2023-03-09 10:53:56.690751: W tensorflow/compiler/tf2tensorrt/utils/py_utils.cc:38] TF-TRT Warning: Cannot dlopen some TensorRT libraries. If you would like to use Nvidia GPU with TensorRT, please make sure the missing libraries mentioned above are installed properly.\n"
     ]
    }
   ],
   "source": [
    "from tslearn.shapelets import LearningShapelets, grabocka_params_to_shapelet_size_dict"
   ]
  },
  {
   "cell_type": "code",
   "execution_count": 36,
   "id": "eb677959",
   "metadata": {
    "execution": {
     "iopub.execute_input": "2023-03-09T09:53:57.712930Z",
     "iopub.status.busy": "2023-03-09T09:53:57.712156Z",
     "iopub.status.idle": "2023-03-09T09:53:57.718187Z",
     "shell.execute_reply": "2023-03-09T09:53:57.717053Z"
    },
    "papermill": {
     "duration": 0.050224,
     "end_time": "2023-03-09T09:53:57.720293",
     "exception": false,
     "start_time": "2023-03-09T09:53:57.670069",
     "status": "completed"
    },
    "tags": []
   },
   "outputs": [],
   "source": [
    "n_ts, ts_sz, _ = ts_train.shape\n",
    "n_classes = len(set(y_train))"
   ]
  },
  {
   "cell_type": "code",
   "execution_count": 37,
   "id": "776ed3dd",
   "metadata": {
    "execution": {
     "iopub.execute_input": "2023-03-09T09:53:57.752862Z",
     "iopub.status.busy": "2023-03-09T09:53:57.751938Z",
     "iopub.status.idle": "2023-03-09T09:53:57.760960Z",
     "shell.execute_reply": "2023-03-09T09:53:57.759543Z"
    },
    "papermill": {
     "duration": 0.02684,
     "end_time": "2023-03-09T09:53:57.762893",
     "exception": false,
     "start_time": "2023-03-09T09:53:57.736053",
     "status": "completed"
    },
    "tags": []
   },
   "outputs": [
    {
     "name": "stdout",
     "output_type": "stream",
     "text": [
      "n_ts 19200\n",
      "ts_sz 100\n",
      "n_classes 2\n",
      "shapelet_sizes {10: 6}\n"
     ]
    }
   ],
   "source": [
    "# Set the number of shapelets per size as done in the original paper\n",
    "g_shapelet_sizes = grabocka_params_to_shapelet_size_dict(n_ts=n_ts,\n",
    "                                                         ts_sz=ts_sz,\n",
    "                                                         n_classes=n_classes,\n",
    "                                                         l=0.1,\n",
    "                                                         r=1)\n",
    "\n",
    "print('n_ts', n_ts)\n",
    "print('ts_sz', ts_sz)\n",
    "print('n_classes', n_classes)\n",
    "print('shapelet_sizes', g_shapelet_sizes)"
   ]
  },
  {
   "cell_type": "code",
   "execution_count": 38,
   "id": "90ed707e",
   "metadata": {
    "execution": {
     "iopub.execute_input": "2023-03-09T09:53:57.792083Z",
     "iopub.status.busy": "2023-03-09T09:53:57.791277Z",
     "iopub.status.idle": "2023-03-09T09:53:57.800616Z",
     "shell.execute_reply": "2023-03-09T09:53:57.799445Z"
    },
    "papermill": {
     "duration": 0.026757,
     "end_time": "2023-03-09T09:53:57.802547",
     "exception": false,
     "start_time": "2023-03-09T09:53:57.775790",
     "status": "completed"
    },
    "tags": []
   },
   "outputs": [
    {
     "data": {
      "text/plain": [
       "{10: 6, 20: 6, 5: 6}"
      ]
     },
     "execution_count": 38,
     "metadata": {},
     "output_type": "execute_result"
    }
   ],
   "source": [
    "shapelet_sizes = {}\n",
    "for key in g_shapelet_sizes:\n",
    "    shapelet_sizes[key] = g_shapelet_sizes[key]\n",
    "    shapelet_sizes[key*2] = g_shapelet_sizes[key]\n",
    "    shapelet_sizes[key//2] = g_shapelet_sizes[key]\n",
    "shapelet_sizes"
   ]
  },
  {
   "cell_type": "code",
   "execution_count": 39,
   "id": "3507fb9c",
   "metadata": {
    "execution": {
     "iopub.execute_input": "2023-03-09T09:53:57.831582Z",
     "iopub.status.busy": "2023-03-09T09:53:57.831005Z",
     "iopub.status.idle": "2023-03-09T09:53:57.837037Z",
     "shell.execute_reply": "2023-03-09T09:53:57.836039Z"
    },
    "papermill": {
     "duration": 0.021424,
     "end_time": "2023-03-09T09:53:57.838552",
     "exception": false,
     "start_time": "2023-03-09T09:53:57.817128",
     "status": "completed"
    },
    "tags": []
   },
   "outputs": [
    {
     "name": "stderr",
     "output_type": "stream",
     "text": [
      "/home/mattiapggioli/lyrics2ts/.venv/lib/python3.9/site-packages/tslearn/shapelets/shapelets.py:354: FutureWarning: The default value for 'scale' is set to False in version 0.4 to ensure backward compatibility, but is likely to change in a future version.\n",
      "  warnings.warn(\"The default value for 'scale' is set to False \"\n"
     ]
    }
   ],
   "source": [
    "model = LearningShapelets(n_shapelets_per_size=shapelet_sizes,\n",
    "                          optimizer=\"adam\", \n",
    "                          weight_regularizer=.01, \n",
    "                          max_iter=max_iter, verbose=0, random_state=42)"
   ]
  },
  {
   "cell_type": "code",
   "execution_count": 40,
   "id": "73b1fe2e",
   "metadata": {
    "execution": {
     "iopub.execute_input": "2023-03-09T09:53:57.865464Z",
     "iopub.status.busy": "2023-03-09T09:53:57.865071Z",
     "iopub.status.idle": "2023-03-09T10:19:03.312775Z",
     "shell.execute_reply": "2023-03-09T10:19:03.311887Z"
    },
    "papermill": {
     "duration": 1505.517419,
     "end_time": "2023-03-09T10:19:03.368668",
     "exception": false,
     "start_time": "2023-03-09T09:53:57.851249",
     "status": "completed"
    },
    "tags": []
   },
   "outputs": [
    {
     "name": "stderr",
     "output_type": "stream",
     "text": [
      "2023-03-09 10:53:58.419671: W tensorflow/compiler/xla/stream_executor/platform/default/dso_loader.cc:64] Could not load dynamic library 'libcuda.so.1'; dlerror: libcuda.so.1: cannot open shared object file: No such file or directory\n",
      "2023-03-09 10:53:58.419696: W tensorflow/compiler/xla/stream_executor/cuda/cuda_driver.cc:265] failed call to cuInit: UNKNOWN ERROR (303)\n",
      "2023-03-09 10:53:58.419715: I tensorflow/compiler/xla/stream_executor/cuda/cuda_diagnostics.cc:156] kernel driver does not appear to be running on this host (mattiapggioli-ThinkPad-E595): /proc/driver/nvidia/version does not exist\n",
      "2023-03-09 10:53:58.420804: I tensorflow/core/platform/cpu_feature_guard.cc:193] This TensorFlow binary is optimized with oneAPI Deep Neural Network Library (oneDNN) to use the following CPU instructions in performance-critical operations:  AVX2 FMA\n",
      "To enable them in other operations, rebuild TensorFlow with the appropriate compiler flags.\n"
     ]
    },
    {
     "name": "stdout",
     "output_type": "stream",
     "text": [
      "CPU times: user 2h 23min 3s, sys: 6min 45s, total: 2h 29min 48s\n",
      "Wall time: 25min 5s\n"
     ]
    },
    {
     "data": {
      "text/html": [
       "<style>#sk-container-id-4 {color: black;background-color: white;}#sk-container-id-4 pre{padding: 0;}#sk-container-id-4 div.sk-toggleable {background-color: white;}#sk-container-id-4 label.sk-toggleable__label {cursor: pointer;display: block;width: 100%;margin-bottom: 0;padding: 0.3em;box-sizing: border-box;text-align: center;}#sk-container-id-4 label.sk-toggleable__label-arrow:before {content: \"▸\";float: left;margin-right: 0.25em;color: #696969;}#sk-container-id-4 label.sk-toggleable__label-arrow:hover:before {color: black;}#sk-container-id-4 div.sk-estimator:hover label.sk-toggleable__label-arrow:before {color: black;}#sk-container-id-4 div.sk-toggleable__content {max-height: 0;max-width: 0;overflow: hidden;text-align: left;background-color: #f0f8ff;}#sk-container-id-4 div.sk-toggleable__content pre {margin: 0.2em;color: black;border-radius: 0.25em;background-color: #f0f8ff;}#sk-container-id-4 input.sk-toggleable__control:checked~div.sk-toggleable__content {max-height: 200px;max-width: 100%;overflow: auto;}#sk-container-id-4 input.sk-toggleable__control:checked~label.sk-toggleable__label-arrow:before {content: \"▾\";}#sk-container-id-4 div.sk-estimator input.sk-toggleable__control:checked~label.sk-toggleable__label {background-color: #d4ebff;}#sk-container-id-4 div.sk-label input.sk-toggleable__control:checked~label.sk-toggleable__label {background-color: #d4ebff;}#sk-container-id-4 input.sk-hidden--visually {border: 0;clip: rect(1px 1px 1px 1px);clip: rect(1px, 1px, 1px, 1px);height: 1px;margin: -1px;overflow: hidden;padding: 0;position: absolute;width: 1px;}#sk-container-id-4 div.sk-estimator {font-family: monospace;background-color: #f0f8ff;border: 1px dotted black;border-radius: 0.25em;box-sizing: border-box;margin-bottom: 0.5em;}#sk-container-id-4 div.sk-estimator:hover {background-color: #d4ebff;}#sk-container-id-4 div.sk-parallel-item::after {content: \"\";width: 100%;border-bottom: 1px solid gray;flex-grow: 1;}#sk-container-id-4 div.sk-label:hover label.sk-toggleable__label {background-color: #d4ebff;}#sk-container-id-4 div.sk-serial::before {content: \"\";position: absolute;border-left: 1px solid gray;box-sizing: border-box;top: 0;bottom: 0;left: 50%;z-index: 0;}#sk-container-id-4 div.sk-serial {display: flex;flex-direction: column;align-items: center;background-color: white;padding-right: 0.2em;padding-left: 0.2em;position: relative;}#sk-container-id-4 div.sk-item {position: relative;z-index: 1;}#sk-container-id-4 div.sk-parallel {display: flex;align-items: stretch;justify-content: center;background-color: white;position: relative;}#sk-container-id-4 div.sk-item::before, #sk-container-id-4 div.sk-parallel-item::before {content: \"\";position: absolute;border-left: 1px solid gray;box-sizing: border-box;top: 0;bottom: 0;left: 50%;z-index: -1;}#sk-container-id-4 div.sk-parallel-item {display: flex;flex-direction: column;z-index: 1;position: relative;background-color: white;}#sk-container-id-4 div.sk-parallel-item:first-child::after {align-self: flex-end;width: 50%;}#sk-container-id-4 div.sk-parallel-item:last-child::after {align-self: flex-start;width: 50%;}#sk-container-id-4 div.sk-parallel-item:only-child::after {width: 0;}#sk-container-id-4 div.sk-dashed-wrapped {border: 1px dashed gray;margin: 0 0.4em 0.5em 0.4em;box-sizing: border-box;padding-bottom: 0.4em;background-color: white;}#sk-container-id-4 div.sk-label label {font-family: monospace;font-weight: bold;display: inline-block;line-height: 1.2em;}#sk-container-id-4 div.sk-label-container {text-align: center;}#sk-container-id-4 div.sk-container {/* jupyter's `normalize.less` sets `[hidden] { display: none; }` but bootstrap.min.css set `[hidden] { display: none !important; }` so we also need the `!important` here to be able to override the default hidden behavior on the sphinx rendered scikit-learn.org. See: https://github.com/scikit-learn/scikit-learn/issues/21755 */display: inline-block !important;position: relative;}#sk-container-id-4 div.sk-text-repr-fallback {display: none;}</style><div id=\"sk-container-id-4\" class=\"sk-top-container\"><div class=\"sk-text-repr-fallback\"><pre>LearningShapelets(max_iter=2000, n_shapelets_per_size={5: 6, 10: 6, 20: 6},\n",
       "                  optimizer=&#x27;adam&#x27;, random_state=42, weight_regularizer=0.01)</pre><b>In a Jupyter environment, please rerun this cell to show the HTML representation or trust the notebook. <br />On GitHub, the HTML representation is unable to render, please try loading this page with nbviewer.org.</b></div><div class=\"sk-container\" hidden><div class=\"sk-item\"><div class=\"sk-estimator sk-toggleable\"><input class=\"sk-toggleable__control sk-hidden--visually\" id=\"sk-estimator-id-4\" type=\"checkbox\" checked><label for=\"sk-estimator-id-4\" class=\"sk-toggleable__label sk-toggleable__label-arrow\">LearningShapelets</label><div class=\"sk-toggleable__content\"><pre>LearningShapelets(max_iter=2000, n_shapelets_per_size={5: 6, 10: 6, 20: 6},\n",
       "                  optimizer=&#x27;adam&#x27;, random_state=42, weight_regularizer=0.01)</pre></div></div></div></div></div>"
      ],
      "text/plain": [
       "LearningShapelets(max_iter=2000, n_shapelets_per_size={5: 6, 10: 6, 20: 6},\n",
       "                  optimizer='adam', random_state=42, weight_regularizer=0.01)"
      ]
     },
     "execution_count": 40,
     "metadata": {},
     "output_type": "execute_result"
    }
   ],
   "source": [
    "%%time\n",
    "model.fit(ts_train, y_train)"
   ]
  },
  {
   "cell_type": "code",
   "execution_count": 41,
   "id": "51706baa",
   "metadata": {
    "execution": {
     "iopub.execute_input": "2023-03-09T10:19:03.397632Z",
     "iopub.status.busy": "2023-03-09T10:19:03.396536Z",
     "iopub.status.idle": "2023-03-09T10:19:03.431650Z",
     "shell.execute_reply": "2023-03-09T10:19:03.430095Z"
    },
    "papermill": {
     "duration": 0.05153,
     "end_time": "2023-03-09T10:19:03.433730",
     "exception": false,
     "start_time": "2023-03-09T10:19:03.382200",
     "status": "completed"
    },
    "tags": []
   },
   "outputs": [],
   "source": [
    "model.to_pickle(f'{data_path}/shapelets.pkl')"
   ]
  },
  {
   "cell_type": "markdown",
   "id": "309f70dc",
   "metadata": {
    "papermill": {
     "duration": 0.012848,
     "end_time": "2023-03-09T10:19:03.461700",
     "exception": false,
     "start_time": "2023-03-09T10:19:03.448852",
     "status": "completed"
    },
    "tags": []
   },
   "source": [
    "#### Shapelet-Based Classification"
   ]
  },
  {
   "cell_type": "code",
   "execution_count": 42,
   "id": "60125dff",
   "metadata": {
    "execution": {
     "iopub.execute_input": "2023-03-09T10:19:03.490730Z",
     "iopub.status.busy": "2023-03-09T10:19:03.489903Z",
     "iopub.status.idle": "2023-03-09T10:19:03.496138Z",
     "shell.execute_reply": "2023-03-09T10:19:03.494747Z"
    },
    "papermill": {
     "duration": 0.023157,
     "end_time": "2023-03-09T10:19:03.497977",
     "exception": false,
     "start_time": "2023-03-09T10:19:03.474820",
     "status": "completed"
    },
    "tags": []
   },
   "outputs": [],
   "source": [
    "metrics_data['Shapelets'] = {}"
   ]
  },
  {
   "cell_type": "code",
   "execution_count": 43,
   "id": "efb8984d",
   "metadata": {
    "execution": {
     "iopub.execute_input": "2023-03-09T10:19:03.527696Z",
     "iopub.status.busy": "2023-03-09T10:19:03.526663Z",
     "iopub.status.idle": "2023-03-09T10:19:05.400456Z",
     "shell.execute_reply": "2023-03-09T10:19:05.399617Z"
    },
    "papermill": {
     "duration": 1.891785,
     "end_time": "2023-03-09T10:19:05.403329",
     "exception": false,
     "start_time": "2023-03-09T10:19:03.511544",
     "status": "completed"
    },
    "tags": []
   },
   "outputs": [],
   "source": [
    "X_train = model.transform(ts_train)\n",
    "X_test = model.transform(ts_test)"
   ]
  },
  {
   "cell_type": "code",
   "execution_count": 44,
   "id": "2e6c0f22",
   "metadata": {
    "execution": {
     "iopub.execute_input": "2023-03-09T10:19:05.459311Z",
     "iopub.status.busy": "2023-03-09T10:19:05.458870Z",
     "iopub.status.idle": "2023-03-09T10:19:05.500142Z",
     "shell.execute_reply": "2023-03-09T10:19:05.498897Z"
    },
    "papermill": {
     "duration": 0.064739,
     "end_time": "2023-03-09T10:19:05.502074",
     "exception": false,
     "start_time": "2023-03-09T10:19:05.437335",
     "status": "completed"
    },
    "tags": []
   },
   "outputs": [
    {
     "data": {
      "text/html": [
       "<div>\n",
       "<style scoped>\n",
       "    .dataframe tbody tr th:only-of-type {\n",
       "        vertical-align: middle;\n",
       "    }\n",
       "\n",
       "    .dataframe tbody tr th {\n",
       "        vertical-align: top;\n",
       "    }\n",
       "\n",
       "    .dataframe thead th {\n",
       "        text-align: right;\n",
       "    }\n",
       "</style>\n",
       "<table border=\"1\" class=\"dataframe\">\n",
       "  <thead>\n",
       "    <tr style=\"text-align: right;\">\n",
       "      <th></th>\n",
       "      <th>0</th>\n",
       "      <th>1</th>\n",
       "      <th>2</th>\n",
       "      <th>3</th>\n",
       "      <th>4</th>\n",
       "      <th>5</th>\n",
       "      <th>6</th>\n",
       "      <th>7</th>\n",
       "      <th>8</th>\n",
       "      <th>9</th>\n",
       "      <th>10</th>\n",
       "      <th>11</th>\n",
       "      <th>12</th>\n",
       "      <th>13</th>\n",
       "      <th>14</th>\n",
       "      <th>15</th>\n",
       "      <th>16</th>\n",
       "      <th>17</th>\n",
       "    </tr>\n",
       "  </thead>\n",
       "  <tbody>\n",
       "    <tr>\n",
       "      <th>0</th>\n",
       "      <td>0.395707</td>\n",
       "      <td>0.153565</td>\n",
       "      <td>0.913492</td>\n",
       "      <td>1.064560</td>\n",
       "      <td>2.215511</td>\n",
       "      <td>0.477048</td>\n",
       "      <td>0.272339</td>\n",
       "      <td>1.178593</td>\n",
       "      <td>0.249932</td>\n",
       "      <td>3.169057</td>\n",
       "      <td>1.690190</td>\n",
       "      <td>2.721397</td>\n",
       "      <td>0.816766</td>\n",
       "      <td>6.855949</td>\n",
       "      <td>5.413851</td>\n",
       "      <td>1.103423</td>\n",
       "      <td>0.827893</td>\n",
       "      <td>0.668310</td>\n",
       "    </tr>\n",
       "    <tr>\n",
       "      <th>1</th>\n",
       "      <td>0.870865</td>\n",
       "      <td>0.265486</td>\n",
       "      <td>0.424994</td>\n",
       "      <td>1.760144</td>\n",
       "      <td>4.100632</td>\n",
       "      <td>2.096766</td>\n",
       "      <td>0.054276</td>\n",
       "      <td>0.920196</td>\n",
       "      <td>0.362890</td>\n",
       "      <td>3.279203</td>\n",
       "      <td>1.191002</td>\n",
       "      <td>3.035576</td>\n",
       "      <td>0.284971</td>\n",
       "      <td>7.537632</td>\n",
       "      <td>2.664696</td>\n",
       "      <td>2.144895</td>\n",
       "      <td>0.283650</td>\n",
       "      <td>0.190285</td>\n",
       "    </tr>\n",
       "    <tr>\n",
       "      <th>2</th>\n",
       "      <td>0.649394</td>\n",
       "      <td>0.296515</td>\n",
       "      <td>1.773766</td>\n",
       "      <td>1.909556</td>\n",
       "      <td>5.037292</td>\n",
       "      <td>2.752872</td>\n",
       "      <td>0.038516</td>\n",
       "      <td>1.013739</td>\n",
       "      <td>0.659367</td>\n",
       "      <td>3.445462</td>\n",
       "      <td>1.205410</td>\n",
       "      <td>3.143320</td>\n",
       "      <td>0.170344</td>\n",
       "      <td>8.373440</td>\n",
       "      <td>3.076661</td>\n",
       "      <td>1.911222</td>\n",
       "      <td>0.178527</td>\n",
       "      <td>0.113457</td>\n",
       "    </tr>\n",
       "    <tr>\n",
       "      <th>3</th>\n",
       "      <td>1.364837</td>\n",
       "      <td>0.170783</td>\n",
       "      <td>3.704861</td>\n",
       "      <td>1.973140</td>\n",
       "      <td>2.374425</td>\n",
       "      <td>2.524001</td>\n",
       "      <td>0.837651</td>\n",
       "      <td>2.083552</td>\n",
       "      <td>0.602975</td>\n",
       "      <td>3.229552</td>\n",
       "      <td>1.804021</td>\n",
       "      <td>1.510908</td>\n",
       "      <td>1.763691</td>\n",
       "      <td>5.773141</td>\n",
       "      <td>7.369489</td>\n",
       "      <td>1.415628</td>\n",
       "      <td>1.770764</td>\n",
       "      <td>1.542036</td>\n",
       "    </tr>\n",
       "    <tr>\n",
       "      <th>4</th>\n",
       "      <td>0.909430</td>\n",
       "      <td>0.278423</td>\n",
       "      <td>1.097049</td>\n",
       "      <td>2.188235</td>\n",
       "      <td>5.324576</td>\n",
       "      <td>2.985936</td>\n",
       "      <td>0.158895</td>\n",
       "      <td>0.888259</td>\n",
       "      <td>0.805485</td>\n",
       "      <td>3.282994</td>\n",
       "      <td>0.749718</td>\n",
       "      <td>4.574848</td>\n",
       "      <td>0.068719</td>\n",
       "      <td>9.131518</td>\n",
       "      <td>2.376669</td>\n",
       "      <td>2.543469</td>\n",
       "      <td>0.075332</td>\n",
       "      <td>0.064216</td>\n",
       "    </tr>\n",
       "    <tr>\n",
       "      <th>...</th>\n",
       "      <td>...</td>\n",
       "      <td>...</td>\n",
       "      <td>...</td>\n",
       "      <td>...</td>\n",
       "      <td>...</td>\n",
       "      <td>...</td>\n",
       "      <td>...</td>\n",
       "      <td>...</td>\n",
       "      <td>...</td>\n",
       "      <td>...</td>\n",
       "      <td>...</td>\n",
       "      <td>...</td>\n",
       "      <td>...</td>\n",
       "      <td>...</td>\n",
       "      <td>...</td>\n",
       "      <td>...</td>\n",
       "      <td>...</td>\n",
       "      <td>...</td>\n",
       "    </tr>\n",
       "    <tr>\n",
       "      <th>4795</th>\n",
       "      <td>1.109816</td>\n",
       "      <td>0.392012</td>\n",
       "      <td>3.099391</td>\n",
       "      <td>1.560737</td>\n",
       "      <td>1.471490</td>\n",
       "      <td>1.867590</td>\n",
       "      <td>0.848356</td>\n",
       "      <td>2.171893</td>\n",
       "      <td>0.671286</td>\n",
       "      <td>2.438276</td>\n",
       "      <td>1.386449</td>\n",
       "      <td>2.477173</td>\n",
       "      <td>1.947923</td>\n",
       "      <td>5.988605</td>\n",
       "      <td>7.234877</td>\n",
       "      <td>1.316986</td>\n",
       "      <td>1.961793</td>\n",
       "      <td>1.711984</td>\n",
       "    </tr>\n",
       "    <tr>\n",
       "      <th>4796</th>\n",
       "      <td>0.869854</td>\n",
       "      <td>0.510805</td>\n",
       "      <td>1.450015</td>\n",
       "      <td>1.193721</td>\n",
       "      <td>4.470986</td>\n",
       "      <td>1.696845</td>\n",
       "      <td>0.057577</td>\n",
       "      <td>0.696907</td>\n",
       "      <td>1.079592</td>\n",
       "      <td>2.670050</td>\n",
       "      <td>0.820342</td>\n",
       "      <td>4.268187</td>\n",
       "      <td>0.125629</td>\n",
       "      <td>7.210187</td>\n",
       "      <td>2.586392</td>\n",
       "      <td>2.718678</td>\n",
       "      <td>0.133368</td>\n",
       "      <td>0.085234</td>\n",
       "    </tr>\n",
       "    <tr>\n",
       "      <th>4797</th>\n",
       "      <td>0.586900</td>\n",
       "      <td>0.369740</td>\n",
       "      <td>0.680071</td>\n",
       "      <td>0.352788</td>\n",
       "      <td>3.774818</td>\n",
       "      <td>2.083651</td>\n",
       "      <td>0.051439</td>\n",
       "      <td>0.845415</td>\n",
       "      <td>0.512368</td>\n",
       "      <td>2.960975</td>\n",
       "      <td>0.741237</td>\n",
       "      <td>2.694801</td>\n",
       "      <td>0.137709</td>\n",
       "      <td>6.604646</td>\n",
       "      <td>2.870761</td>\n",
       "      <td>2.296244</td>\n",
       "      <td>0.145577</td>\n",
       "      <td>0.093182</td>\n",
       "    </tr>\n",
       "    <tr>\n",
       "      <th>4798</th>\n",
       "      <td>1.300725</td>\n",
       "      <td>0.554557</td>\n",
       "      <td>1.674919</td>\n",
       "      <td>2.093808</td>\n",
       "      <td>3.401462</td>\n",
       "      <td>2.327947</td>\n",
       "      <td>0.039311</td>\n",
       "      <td>0.268133</td>\n",
       "      <td>0.307028</td>\n",
       "      <td>4.143493</td>\n",
       "      <td>1.425615</td>\n",
       "      <td>2.382977</td>\n",
       "      <td>0.243676</td>\n",
       "      <td>8.144704</td>\n",
       "      <td>3.614459</td>\n",
       "      <td>1.848288</td>\n",
       "      <td>0.252385</td>\n",
       "      <td>0.172264</td>\n",
       "    </tr>\n",
       "    <tr>\n",
       "      <th>4799</th>\n",
       "      <td>1.075968</td>\n",
       "      <td>0.204172</td>\n",
       "      <td>1.249636</td>\n",
       "      <td>2.299682</td>\n",
       "      <td>4.580842</td>\n",
       "      <td>0.695974</td>\n",
       "      <td>0.075138</td>\n",
       "      <td>1.214679</td>\n",
       "      <td>0.721844</td>\n",
       "      <td>3.219514</td>\n",
       "      <td>0.938415</td>\n",
       "      <td>2.941037</td>\n",
       "      <td>0.103034</td>\n",
       "      <td>8.906764</td>\n",
       "      <td>2.715256</td>\n",
       "      <td>2.157627</td>\n",
       "      <td>0.110486</td>\n",
       "      <td>0.071748</td>\n",
       "    </tr>\n",
       "  </tbody>\n",
       "</table>\n",
       "<p>4800 rows × 18 columns</p>\n",
       "</div>"
      ],
      "text/plain": [
       "            0         1         2         3         4         5         6   \\\n",
       "0     0.395707  0.153565  0.913492  1.064560  2.215511  0.477048  0.272339   \n",
       "1     0.870865  0.265486  0.424994  1.760144  4.100632  2.096766  0.054276   \n",
       "2     0.649394  0.296515  1.773766  1.909556  5.037292  2.752872  0.038516   \n",
       "3     1.364837  0.170783  3.704861  1.973140  2.374425  2.524001  0.837651   \n",
       "4     0.909430  0.278423  1.097049  2.188235  5.324576  2.985936  0.158895   \n",
       "...        ...       ...       ...       ...       ...       ...       ...   \n",
       "4795  1.109816  0.392012  3.099391  1.560737  1.471490  1.867590  0.848356   \n",
       "4796  0.869854  0.510805  1.450015  1.193721  4.470986  1.696845  0.057577   \n",
       "4797  0.586900  0.369740  0.680071  0.352788  3.774818  2.083651  0.051439   \n",
       "4798  1.300725  0.554557  1.674919  2.093808  3.401462  2.327947  0.039311   \n",
       "4799  1.075968  0.204172  1.249636  2.299682  4.580842  0.695974  0.075138   \n",
       "\n",
       "            7         8         9         10        11        12        13  \\\n",
       "0     1.178593  0.249932  3.169057  1.690190  2.721397  0.816766  6.855949   \n",
       "1     0.920196  0.362890  3.279203  1.191002  3.035576  0.284971  7.537632   \n",
       "2     1.013739  0.659367  3.445462  1.205410  3.143320  0.170344  8.373440   \n",
       "3     2.083552  0.602975  3.229552  1.804021  1.510908  1.763691  5.773141   \n",
       "4     0.888259  0.805485  3.282994  0.749718  4.574848  0.068719  9.131518   \n",
       "...        ...       ...       ...       ...       ...       ...       ...   \n",
       "4795  2.171893  0.671286  2.438276  1.386449  2.477173  1.947923  5.988605   \n",
       "4796  0.696907  1.079592  2.670050  0.820342  4.268187  0.125629  7.210187   \n",
       "4797  0.845415  0.512368  2.960975  0.741237  2.694801  0.137709  6.604646   \n",
       "4798  0.268133  0.307028  4.143493  1.425615  2.382977  0.243676  8.144704   \n",
       "4799  1.214679  0.721844  3.219514  0.938415  2.941037  0.103034  8.906764   \n",
       "\n",
       "            14        15        16        17  \n",
       "0     5.413851  1.103423  0.827893  0.668310  \n",
       "1     2.664696  2.144895  0.283650  0.190285  \n",
       "2     3.076661  1.911222  0.178527  0.113457  \n",
       "3     7.369489  1.415628  1.770764  1.542036  \n",
       "4     2.376669  2.543469  0.075332  0.064216  \n",
       "...        ...       ...       ...       ...  \n",
       "4795  7.234877  1.316986  1.961793  1.711984  \n",
       "4796  2.586392  2.718678  0.133368  0.085234  \n",
       "4797  2.870761  2.296244  0.145577  0.093182  \n",
       "4798  3.614459  1.848288  0.252385  0.172264  \n",
       "4799  2.715256  2.157627  0.110486  0.071748  \n",
       "\n",
       "[4800 rows x 18 columns]"
      ]
     },
     "execution_count": 44,
     "metadata": {},
     "output_type": "execute_result"
    }
   ],
   "source": [
    "pd.DataFrame(X_test)"
   ]
  },
  {
   "cell_type": "markdown",
   "id": "5fa024f7",
   "metadata": {
    "execution": {
     "iopub.execute_input": "2023-02-07T23:47:19.876941Z",
     "iopub.status.busy": "2023-02-07T23:47:19.876424Z",
     "iopub.status.idle": "2023-02-07T23:47:20.399488Z",
     "shell.execute_reply": "2023-02-07T23:47:20.398142Z"
    },
    "papermill": {
     "duration": 0.029359,
     "end_time": "2023-03-09T10:19:05.557915",
     "exception": false,
     "start_time": "2023-03-09T10:19:05.528556",
     "status": "completed"
    },
    "tags": []
   },
   "source": [
    "**Decision Tree**"
   ]
  },
  {
   "cell_type": "code",
   "execution_count": 45,
   "id": "4f5400c9",
   "metadata": {
    "execution": {
     "iopub.execute_input": "2023-03-09T10:19:05.585997Z",
     "iopub.status.busy": "2023-03-09T10:19:05.585562Z",
     "iopub.status.idle": "2023-03-09T10:19:06.178222Z",
     "shell.execute_reply": "2023-03-09T10:19:06.177275Z"
    },
    "papermill": {
     "duration": 0.609854,
     "end_time": "2023-03-09T10:19:06.181089",
     "exception": false,
     "start_time": "2023-03-09T10:19:05.571235",
     "status": "completed"
    },
    "tags": []
   },
   "outputs": [
    {
     "data": {
      "text/html": [
       "<style>#sk-container-id-5 {color: black;background-color: white;}#sk-container-id-5 pre{padding: 0;}#sk-container-id-5 div.sk-toggleable {background-color: white;}#sk-container-id-5 label.sk-toggleable__label {cursor: pointer;display: block;width: 100%;margin-bottom: 0;padding: 0.3em;box-sizing: border-box;text-align: center;}#sk-container-id-5 label.sk-toggleable__label-arrow:before {content: \"▸\";float: left;margin-right: 0.25em;color: #696969;}#sk-container-id-5 label.sk-toggleable__label-arrow:hover:before {color: black;}#sk-container-id-5 div.sk-estimator:hover label.sk-toggleable__label-arrow:before {color: black;}#sk-container-id-5 div.sk-toggleable__content {max-height: 0;max-width: 0;overflow: hidden;text-align: left;background-color: #f0f8ff;}#sk-container-id-5 div.sk-toggleable__content pre {margin: 0.2em;color: black;border-radius: 0.25em;background-color: #f0f8ff;}#sk-container-id-5 input.sk-toggleable__control:checked~div.sk-toggleable__content {max-height: 200px;max-width: 100%;overflow: auto;}#sk-container-id-5 input.sk-toggleable__control:checked~label.sk-toggleable__label-arrow:before {content: \"▾\";}#sk-container-id-5 div.sk-estimator input.sk-toggleable__control:checked~label.sk-toggleable__label {background-color: #d4ebff;}#sk-container-id-5 div.sk-label input.sk-toggleable__control:checked~label.sk-toggleable__label {background-color: #d4ebff;}#sk-container-id-5 input.sk-hidden--visually {border: 0;clip: rect(1px 1px 1px 1px);clip: rect(1px, 1px, 1px, 1px);height: 1px;margin: -1px;overflow: hidden;padding: 0;position: absolute;width: 1px;}#sk-container-id-5 div.sk-estimator {font-family: monospace;background-color: #f0f8ff;border: 1px dotted black;border-radius: 0.25em;box-sizing: border-box;margin-bottom: 0.5em;}#sk-container-id-5 div.sk-estimator:hover {background-color: #d4ebff;}#sk-container-id-5 div.sk-parallel-item::after {content: \"\";width: 100%;border-bottom: 1px solid gray;flex-grow: 1;}#sk-container-id-5 div.sk-label:hover label.sk-toggleable__label {background-color: #d4ebff;}#sk-container-id-5 div.sk-serial::before {content: \"\";position: absolute;border-left: 1px solid gray;box-sizing: border-box;top: 0;bottom: 0;left: 50%;z-index: 0;}#sk-container-id-5 div.sk-serial {display: flex;flex-direction: column;align-items: center;background-color: white;padding-right: 0.2em;padding-left: 0.2em;position: relative;}#sk-container-id-5 div.sk-item {position: relative;z-index: 1;}#sk-container-id-5 div.sk-parallel {display: flex;align-items: stretch;justify-content: center;background-color: white;position: relative;}#sk-container-id-5 div.sk-item::before, #sk-container-id-5 div.sk-parallel-item::before {content: \"\";position: absolute;border-left: 1px solid gray;box-sizing: border-box;top: 0;bottom: 0;left: 50%;z-index: -1;}#sk-container-id-5 div.sk-parallel-item {display: flex;flex-direction: column;z-index: 1;position: relative;background-color: white;}#sk-container-id-5 div.sk-parallel-item:first-child::after {align-self: flex-end;width: 50%;}#sk-container-id-5 div.sk-parallel-item:last-child::after {align-self: flex-start;width: 50%;}#sk-container-id-5 div.sk-parallel-item:only-child::after {width: 0;}#sk-container-id-5 div.sk-dashed-wrapped {border: 1px dashed gray;margin: 0 0.4em 0.5em 0.4em;box-sizing: border-box;padding-bottom: 0.4em;background-color: white;}#sk-container-id-5 div.sk-label label {font-family: monospace;font-weight: bold;display: inline-block;line-height: 1.2em;}#sk-container-id-5 div.sk-label-container {text-align: center;}#sk-container-id-5 div.sk-container {/* jupyter's `normalize.less` sets `[hidden] { display: none; }` but bootstrap.min.css set `[hidden] { display: none !important; }` so we also need the `!important` here to be able to override the default hidden behavior on the sphinx rendered scikit-learn.org. See: https://github.com/scikit-learn/scikit-learn/issues/21755 */display: inline-block !important;position: relative;}#sk-container-id-5 div.sk-text-repr-fallback {display: none;}</style><div id=\"sk-container-id-5\" class=\"sk-top-container\"><div class=\"sk-text-repr-fallback\"><pre>DecisionTreeClassifier(random_state=42)</pre><b>In a Jupyter environment, please rerun this cell to show the HTML representation or trust the notebook. <br />On GitHub, the HTML representation is unable to render, please try loading this page with nbviewer.org.</b></div><div class=\"sk-container\" hidden><div class=\"sk-item\"><div class=\"sk-estimator sk-toggleable\"><input class=\"sk-toggleable__control sk-hidden--visually\" id=\"sk-estimator-id-5\" type=\"checkbox\" checked><label for=\"sk-estimator-id-5\" class=\"sk-toggleable__label sk-toggleable__label-arrow\">DecisionTreeClassifier</label><div class=\"sk-toggleable__content\"><pre>DecisionTreeClassifier(random_state=42)</pre></div></div></div></div></div>"
      ],
      "text/plain": [
       "DecisionTreeClassifier(random_state=42)"
      ]
     },
     "execution_count": 45,
     "metadata": {},
     "output_type": "execute_result"
    }
   ],
   "source": [
    "clf = DecisionTreeClassifier(random_state=42)\n",
    "clf.fit(X_train, y_train)"
   ]
  },
  {
   "cell_type": "code",
   "execution_count": 46,
   "id": "3b56d190",
   "metadata": {
    "execution": {
     "iopub.execute_input": "2023-03-09T10:19:06.258515Z",
     "iopub.status.busy": "2023-03-09T10:19:06.257971Z",
     "iopub.status.idle": "2023-03-09T10:19:06.389008Z",
     "shell.execute_reply": "2023-03-09T10:19:06.388080Z"
    },
    "papermill": {
     "duration": 0.172973,
     "end_time": "2023-03-09T10:19:06.391772",
     "exception": false,
     "start_time": "2023-03-09T10:19:06.218799",
     "status": "completed"
    },
    "tags": []
   },
   "outputs": [
    {
     "name": "stdout",
     "output_type": "stream",
     "text": [
      "              precision    recall  f1-score   support\n",
      "\n",
      "         pop       0.56      0.56      0.56      2391\n",
      "        rock       0.57      0.57      0.57      2409\n",
      "\n",
      "    accuracy                           0.57      4800\n",
      "   macro avg       0.57      0.57      0.57      4800\n",
      "weighted avg       0.57      0.57      0.57      4800\n",
      "\n"
     ]
    }
   ],
   "source": [
    "y_pred = clf.predict(X_test)\n",
    "print(classification_report(y_test, y_pred))"
   ]
  },
  {
   "cell_type": "code",
   "execution_count": 47,
   "id": "42bc91ff",
   "metadata": {
    "execution": {
     "iopub.execute_input": "2023-03-09T10:19:06.470873Z",
     "iopub.status.busy": "2023-03-09T10:19:06.470456Z",
     "iopub.status.idle": "2023-03-09T10:19:06.476623Z",
     "shell.execute_reply": "2023-03-09T10:19:06.475581Z"
    },
    "papermill": {
     "duration": 0.047832,
     "end_time": "2023-03-09T10:19:06.478152",
     "exception": false,
     "start_time": "2023-03-09T10:19:06.430320",
     "status": "completed"
    },
    "tags": []
   },
   "outputs": [],
   "source": [
    "pickle.dump(clf, open(f'{data_path}/decision_tree.pkl', 'wb'))"
   ]
  },
  {
   "cell_type": "code",
   "execution_count": 48,
   "id": "ea9be210",
   "metadata": {
    "execution": {
     "iopub.execute_input": "2023-03-09T10:19:06.507442Z",
     "iopub.status.busy": "2023-03-09T10:19:06.507038Z",
     "iopub.status.idle": "2023-03-09T10:19:06.643742Z",
     "shell.execute_reply": "2023-03-09T10:19:06.642801Z"
    },
    "papermill": {
     "duration": 0.154704,
     "end_time": "2023-03-09T10:19:06.646641",
     "exception": false,
     "start_time": "2023-03-09T10:19:06.491937",
     "status": "completed"
    },
    "tags": []
   },
   "outputs": [],
   "source": [
    "acc = accuracy_score(y_test, y_pred)\n",
    "pre = precision_score(y_test, y_pred, average=avg_par)\n",
    "rec = recall_score(y_test, y_pred, average=avg_par)\n",
    "f1 = f1_score(y_test, y_pred, average=avg_par)\n",
    "\n",
    "metrics_data['Shapelets']['DecisionTree'] = {'Accuracy': acc, 'Precision': pre, 'Recall': rec, 'F1': f1}"
   ]
  },
  {
   "cell_type": "markdown",
   "id": "3ca3443b",
   "metadata": {
    "papermill": {
     "duration": 0.038576,
     "end_time": "2023-03-09T10:19:06.723610",
     "exception": false,
     "start_time": "2023-03-09T10:19:06.685034",
     "status": "completed"
    },
    "tags": []
   },
   "source": [
    "**Random Forest**"
   ]
  },
  {
   "cell_type": "code",
   "execution_count": 49,
   "id": "37795e21",
   "metadata": {
    "execution": {
     "iopub.execute_input": "2023-03-09T10:19:06.753654Z",
     "iopub.status.busy": "2023-03-09T10:19:06.753248Z",
     "iopub.status.idle": "2023-03-09T10:19:14.564444Z",
     "shell.execute_reply": "2023-03-09T10:19:14.563554Z"
    },
    "papermill": {
     "duration": 7.828911,
     "end_time": "2023-03-09T10:19:14.567200",
     "exception": false,
     "start_time": "2023-03-09T10:19:06.738289",
     "status": "completed"
    },
    "tags": []
   },
   "outputs": [
    {
     "data": {
      "text/html": [
       "<style>#sk-container-id-6 {color: black;background-color: white;}#sk-container-id-6 pre{padding: 0;}#sk-container-id-6 div.sk-toggleable {background-color: white;}#sk-container-id-6 label.sk-toggleable__label {cursor: pointer;display: block;width: 100%;margin-bottom: 0;padding: 0.3em;box-sizing: border-box;text-align: center;}#sk-container-id-6 label.sk-toggleable__label-arrow:before {content: \"▸\";float: left;margin-right: 0.25em;color: #696969;}#sk-container-id-6 label.sk-toggleable__label-arrow:hover:before {color: black;}#sk-container-id-6 div.sk-estimator:hover label.sk-toggleable__label-arrow:before {color: black;}#sk-container-id-6 div.sk-toggleable__content {max-height: 0;max-width: 0;overflow: hidden;text-align: left;background-color: #f0f8ff;}#sk-container-id-6 div.sk-toggleable__content pre {margin: 0.2em;color: black;border-radius: 0.25em;background-color: #f0f8ff;}#sk-container-id-6 input.sk-toggleable__control:checked~div.sk-toggleable__content {max-height: 200px;max-width: 100%;overflow: auto;}#sk-container-id-6 input.sk-toggleable__control:checked~label.sk-toggleable__label-arrow:before {content: \"▾\";}#sk-container-id-6 div.sk-estimator input.sk-toggleable__control:checked~label.sk-toggleable__label {background-color: #d4ebff;}#sk-container-id-6 div.sk-label input.sk-toggleable__control:checked~label.sk-toggleable__label {background-color: #d4ebff;}#sk-container-id-6 input.sk-hidden--visually {border: 0;clip: rect(1px 1px 1px 1px);clip: rect(1px, 1px, 1px, 1px);height: 1px;margin: -1px;overflow: hidden;padding: 0;position: absolute;width: 1px;}#sk-container-id-6 div.sk-estimator {font-family: monospace;background-color: #f0f8ff;border: 1px dotted black;border-radius: 0.25em;box-sizing: border-box;margin-bottom: 0.5em;}#sk-container-id-6 div.sk-estimator:hover {background-color: #d4ebff;}#sk-container-id-6 div.sk-parallel-item::after {content: \"\";width: 100%;border-bottom: 1px solid gray;flex-grow: 1;}#sk-container-id-6 div.sk-label:hover label.sk-toggleable__label {background-color: #d4ebff;}#sk-container-id-6 div.sk-serial::before {content: \"\";position: absolute;border-left: 1px solid gray;box-sizing: border-box;top: 0;bottom: 0;left: 50%;z-index: 0;}#sk-container-id-6 div.sk-serial {display: flex;flex-direction: column;align-items: center;background-color: white;padding-right: 0.2em;padding-left: 0.2em;position: relative;}#sk-container-id-6 div.sk-item {position: relative;z-index: 1;}#sk-container-id-6 div.sk-parallel {display: flex;align-items: stretch;justify-content: center;background-color: white;position: relative;}#sk-container-id-6 div.sk-item::before, #sk-container-id-6 div.sk-parallel-item::before {content: \"\";position: absolute;border-left: 1px solid gray;box-sizing: border-box;top: 0;bottom: 0;left: 50%;z-index: -1;}#sk-container-id-6 div.sk-parallel-item {display: flex;flex-direction: column;z-index: 1;position: relative;background-color: white;}#sk-container-id-6 div.sk-parallel-item:first-child::after {align-self: flex-end;width: 50%;}#sk-container-id-6 div.sk-parallel-item:last-child::after {align-self: flex-start;width: 50%;}#sk-container-id-6 div.sk-parallel-item:only-child::after {width: 0;}#sk-container-id-6 div.sk-dashed-wrapped {border: 1px dashed gray;margin: 0 0.4em 0.5em 0.4em;box-sizing: border-box;padding-bottom: 0.4em;background-color: white;}#sk-container-id-6 div.sk-label label {font-family: monospace;font-weight: bold;display: inline-block;line-height: 1.2em;}#sk-container-id-6 div.sk-label-container {text-align: center;}#sk-container-id-6 div.sk-container {/* jupyter's `normalize.less` sets `[hidden] { display: none; }` but bootstrap.min.css set `[hidden] { display: none !important; }` so we also need the `!important` here to be able to override the default hidden behavior on the sphinx rendered scikit-learn.org. See: https://github.com/scikit-learn/scikit-learn/issues/21755 */display: inline-block !important;position: relative;}#sk-container-id-6 div.sk-text-repr-fallback {display: none;}</style><div id=\"sk-container-id-6\" class=\"sk-top-container\"><div class=\"sk-text-repr-fallback\"><pre>RandomForestClassifier(random_state=42)</pre><b>In a Jupyter environment, please rerun this cell to show the HTML representation or trust the notebook. <br />On GitHub, the HTML representation is unable to render, please try loading this page with nbviewer.org.</b></div><div class=\"sk-container\" hidden><div class=\"sk-item\"><div class=\"sk-estimator sk-toggleable\"><input class=\"sk-toggleable__control sk-hidden--visually\" id=\"sk-estimator-id-6\" type=\"checkbox\" checked><label for=\"sk-estimator-id-6\" class=\"sk-toggleable__label sk-toggleable__label-arrow\">RandomForestClassifier</label><div class=\"sk-toggleable__content\"><pre>RandomForestClassifier(random_state=42)</pre></div></div></div></div></div>"
      ],
      "text/plain": [
       "RandomForestClassifier(random_state=42)"
      ]
     },
     "execution_count": 49,
     "metadata": {},
     "output_type": "execute_result"
    }
   ],
   "source": [
    "clf = RandomForestClassifier(random_state=42)\n",
    "clf.fit(X_train, y_train)"
   ]
  },
  {
   "cell_type": "code",
   "execution_count": 50,
   "id": "581ab90a",
   "metadata": {
    "execution": {
     "iopub.execute_input": "2023-03-09T10:19:14.643225Z",
     "iopub.status.busy": "2023-03-09T10:19:14.642931Z",
     "iopub.status.idle": "2023-03-09T10:19:14.861306Z",
     "shell.execute_reply": "2023-03-09T10:19:14.860307Z"
    },
    "papermill": {
     "duration": 0.258001,
     "end_time": "2023-03-09T10:19:14.864046",
     "exception": false,
     "start_time": "2023-03-09T10:19:14.606045",
     "status": "completed"
    },
    "tags": []
   },
   "outputs": [
    {
     "name": "stdout",
     "output_type": "stream",
     "text": [
      "              precision    recall  f1-score   support\n",
      "\n",
      "         pop       0.64      0.62      0.63      2391\n",
      "        rock       0.63      0.65      0.64      2409\n",
      "\n",
      "    accuracy                           0.64      4800\n",
      "   macro avg       0.64      0.64      0.64      4800\n",
      "weighted avg       0.64      0.64      0.64      4800\n",
      "\n"
     ]
    }
   ],
   "source": [
    "y_pred = clf.predict(X_test)\n",
    "print(classification_report(y_test, y_pred))"
   ]
  },
  {
   "cell_type": "code",
   "execution_count": 51,
   "id": "faf1d7f4",
   "metadata": {
    "execution": {
     "iopub.execute_input": "2023-03-09T10:19:14.943864Z",
     "iopub.status.busy": "2023-03-09T10:19:14.943569Z",
     "iopub.status.idle": "2023-03-09T10:19:15.081910Z",
     "shell.execute_reply": "2023-03-09T10:19:15.080991Z"
    },
    "papermill": {
     "duration": 0.181662,
     "end_time": "2023-03-09T10:19:15.084698",
     "exception": false,
     "start_time": "2023-03-09T10:19:14.903036",
     "status": "completed"
    },
    "tags": []
   },
   "outputs": [],
   "source": [
    "acc = accuracy_score(y_test, y_pred)\n",
    "pre = precision_score(y_test, y_pred, average=avg_par)\n",
    "rec = recall_score(y_test, y_pred, average=avg_par)\n",
    "f1 = f1_score(y_test, y_pred, average=avg_par)\n",
    "\n",
    "metrics_data['Shapelets']['RandomForest'] = {'Accuracy': acc, 'Precision': pre, 'Recall': rec, 'F1': f1}"
   ]
  },
  {
   "cell_type": "markdown",
   "id": "61fceefb",
   "metadata": {
    "papermill": {
     "duration": 0.038888,
     "end_time": "2023-03-09T10:19:15.162680",
     "exception": false,
     "start_time": "2023-03-09T10:19:15.123792",
     "status": "completed"
    },
    "tags": []
   },
   "source": [
    "**LightGBM**"
   ]
  },
  {
   "cell_type": "code",
   "execution_count": 52,
   "id": "194189da",
   "metadata": {
    "execution": {
     "iopub.execute_input": "2023-03-09T10:19:15.193669Z",
     "iopub.status.busy": "2023-03-09T10:19:15.193271Z",
     "iopub.status.idle": "2023-03-09T10:19:15.424781Z",
     "shell.execute_reply": "2023-03-09T10:19:15.423969Z"
    },
    "papermill": {
     "duration": 0.248338,
     "end_time": "2023-03-09T10:19:15.426443",
     "exception": false,
     "start_time": "2023-03-09T10:19:15.178105",
     "status": "completed"
    },
    "tags": []
   },
   "outputs": [
    {
     "data": {
      "text/html": [
       "<style>#sk-container-id-7 {color: black;background-color: white;}#sk-container-id-7 pre{padding: 0;}#sk-container-id-7 div.sk-toggleable {background-color: white;}#sk-container-id-7 label.sk-toggleable__label {cursor: pointer;display: block;width: 100%;margin-bottom: 0;padding: 0.3em;box-sizing: border-box;text-align: center;}#sk-container-id-7 label.sk-toggleable__label-arrow:before {content: \"▸\";float: left;margin-right: 0.25em;color: #696969;}#sk-container-id-7 label.sk-toggleable__label-arrow:hover:before {color: black;}#sk-container-id-7 div.sk-estimator:hover label.sk-toggleable__label-arrow:before {color: black;}#sk-container-id-7 div.sk-toggleable__content {max-height: 0;max-width: 0;overflow: hidden;text-align: left;background-color: #f0f8ff;}#sk-container-id-7 div.sk-toggleable__content pre {margin: 0.2em;color: black;border-radius: 0.25em;background-color: #f0f8ff;}#sk-container-id-7 input.sk-toggleable__control:checked~div.sk-toggleable__content {max-height: 200px;max-width: 100%;overflow: auto;}#sk-container-id-7 input.sk-toggleable__control:checked~label.sk-toggleable__label-arrow:before {content: \"▾\";}#sk-container-id-7 div.sk-estimator input.sk-toggleable__control:checked~label.sk-toggleable__label {background-color: #d4ebff;}#sk-container-id-7 div.sk-label input.sk-toggleable__control:checked~label.sk-toggleable__label {background-color: #d4ebff;}#sk-container-id-7 input.sk-hidden--visually {border: 0;clip: rect(1px 1px 1px 1px);clip: rect(1px, 1px, 1px, 1px);height: 1px;margin: -1px;overflow: hidden;padding: 0;position: absolute;width: 1px;}#sk-container-id-7 div.sk-estimator {font-family: monospace;background-color: #f0f8ff;border: 1px dotted black;border-radius: 0.25em;box-sizing: border-box;margin-bottom: 0.5em;}#sk-container-id-7 div.sk-estimator:hover {background-color: #d4ebff;}#sk-container-id-7 div.sk-parallel-item::after {content: \"\";width: 100%;border-bottom: 1px solid gray;flex-grow: 1;}#sk-container-id-7 div.sk-label:hover label.sk-toggleable__label {background-color: #d4ebff;}#sk-container-id-7 div.sk-serial::before {content: \"\";position: absolute;border-left: 1px solid gray;box-sizing: border-box;top: 0;bottom: 0;left: 50%;z-index: 0;}#sk-container-id-7 div.sk-serial {display: flex;flex-direction: column;align-items: center;background-color: white;padding-right: 0.2em;padding-left: 0.2em;position: relative;}#sk-container-id-7 div.sk-item {position: relative;z-index: 1;}#sk-container-id-7 div.sk-parallel {display: flex;align-items: stretch;justify-content: center;background-color: white;position: relative;}#sk-container-id-7 div.sk-item::before, #sk-container-id-7 div.sk-parallel-item::before {content: \"\";position: absolute;border-left: 1px solid gray;box-sizing: border-box;top: 0;bottom: 0;left: 50%;z-index: -1;}#sk-container-id-7 div.sk-parallel-item {display: flex;flex-direction: column;z-index: 1;position: relative;background-color: white;}#sk-container-id-7 div.sk-parallel-item:first-child::after {align-self: flex-end;width: 50%;}#sk-container-id-7 div.sk-parallel-item:last-child::after {align-self: flex-start;width: 50%;}#sk-container-id-7 div.sk-parallel-item:only-child::after {width: 0;}#sk-container-id-7 div.sk-dashed-wrapped {border: 1px dashed gray;margin: 0 0.4em 0.5em 0.4em;box-sizing: border-box;padding-bottom: 0.4em;background-color: white;}#sk-container-id-7 div.sk-label label {font-family: monospace;font-weight: bold;display: inline-block;line-height: 1.2em;}#sk-container-id-7 div.sk-label-container {text-align: center;}#sk-container-id-7 div.sk-container {/* jupyter's `normalize.less` sets `[hidden] { display: none; }` but bootstrap.min.css set `[hidden] { display: none !important; }` so we also need the `!important` here to be able to override the default hidden behavior on the sphinx rendered scikit-learn.org. See: https://github.com/scikit-learn/scikit-learn/issues/21755 */display: inline-block !important;position: relative;}#sk-container-id-7 div.sk-text-repr-fallback {display: none;}</style><div id=\"sk-container-id-7\" class=\"sk-top-container\"><div class=\"sk-text-repr-fallback\"><pre>LGBMClassifier(objective=&#x27;binary&#x27;)</pre><b>In a Jupyter environment, please rerun this cell to show the HTML representation or trust the notebook. <br />On GitHub, the HTML representation is unable to render, please try loading this page with nbviewer.org.</b></div><div class=\"sk-container\" hidden><div class=\"sk-item\"><div class=\"sk-estimator sk-toggleable\"><input class=\"sk-toggleable__control sk-hidden--visually\" id=\"sk-estimator-id-7\" type=\"checkbox\" checked><label for=\"sk-estimator-id-7\" class=\"sk-toggleable__label sk-toggleable__label-arrow\">LGBMClassifier</label><div class=\"sk-toggleable__content\"><pre>LGBMClassifier(objective=&#x27;binary&#x27;)</pre></div></div></div></div></div>"
      ],
      "text/plain": [
       "LGBMClassifier(objective='binary')"
      ]
     },
     "execution_count": 52,
     "metadata": {},
     "output_type": "execute_result"
    }
   ],
   "source": [
    "clf = lgbm.LGBMClassifier(objective=obj_par) \n",
    "clf.fit(X_train, y_train)"
   ]
  },
  {
   "cell_type": "code",
   "execution_count": 53,
   "id": "355a078b",
   "metadata": {
    "execution": {
     "iopub.execute_input": "2023-03-09T10:19:15.457882Z",
     "iopub.status.busy": "2023-03-09T10:19:15.457478Z",
     "iopub.status.idle": "2023-03-09T10:19:15.591334Z",
     "shell.execute_reply": "2023-03-09T10:19:15.590455Z"
    },
    "papermill": {
     "duration": 0.152682,
     "end_time": "2023-03-09T10:19:15.594022",
     "exception": false,
     "start_time": "2023-03-09T10:19:15.441340",
     "status": "completed"
    },
    "tags": []
   },
   "outputs": [
    {
     "name": "stdout",
     "output_type": "stream",
     "text": [
      "              precision    recall  f1-score   support\n",
      "\n",
      "         pop       0.64      0.61      0.62      2391\n",
      "        rock       0.63      0.67      0.65      2409\n",
      "\n",
      "    accuracy                           0.64      4800\n",
      "   macro avg       0.64      0.64      0.64      4800\n",
      "weighted avg       0.64      0.64      0.64      4800\n",
      "\n"
     ]
    }
   ],
   "source": [
    "y_pred = clf.predict(X_test)\n",
    "print(classification_report(y_test, y_pred))"
   ]
  },
  {
   "cell_type": "code",
   "execution_count": 54,
   "id": "f22b911e",
   "metadata": {
    "execution": {
     "iopub.execute_input": "2023-03-09T10:19:15.672370Z",
     "iopub.status.busy": "2023-03-09T10:19:15.671972Z",
     "iopub.status.idle": "2023-03-09T10:19:15.803706Z",
     "shell.execute_reply": "2023-03-09T10:19:15.802891Z"
    },
    "papermill": {
     "duration": 0.172924,
     "end_time": "2023-03-09T10:19:15.806448",
     "exception": false,
     "start_time": "2023-03-09T10:19:15.633524",
     "status": "completed"
    },
    "tags": []
   },
   "outputs": [],
   "source": [
    "acc = accuracy_score(y_test, y_pred)\n",
    "pre = precision_score(y_test, y_pred, average=avg_par)\n",
    "rec = recall_score(y_test, y_pred, average=avg_par)\n",
    "f1 = f1_score(y_test, y_pred, average=avg_par)\n",
    "\n",
    "metrics_data['Shapelets']['LightGBM'] = {'Accuracy': acc, 'Precision': pre, 'Recall': rec, 'F1': f1}"
   ]
  },
  {
   "cell_type": "markdown",
   "id": "0809af9f",
   "metadata": {
    "papermill": {
     "duration": 0.039316,
     "end_time": "2023-03-09T10:19:15.885454",
     "exception": false,
     "start_time": "2023-03-09T10:19:15.846138",
     "status": "completed"
    },
    "tags": []
   },
   "source": [
    "#### KNN"
   ]
  },
  {
   "cell_type": "code",
   "execution_count": 55,
   "id": "1c9237e0",
   "metadata": {
    "execution": {
     "iopub.execute_input": "2023-03-09T10:19:15.915384Z",
     "iopub.status.busy": "2023-03-09T10:19:15.914953Z",
     "iopub.status.idle": "2023-03-09T10:19:15.921127Z",
     "shell.execute_reply": "2023-03-09T10:19:15.920075Z"
    },
    "papermill": {
     "duration": 0.023045,
     "end_time": "2023-03-09T10:19:15.922710",
     "exception": false,
     "start_time": "2023-03-09T10:19:15.899665",
     "status": "completed"
    },
    "tags": []
   },
   "outputs": [],
   "source": [
    "X_train = ts_train.reshape((ts_train.shape[0], ts_train.shape[1]))\n",
    "X_test = ts_test.reshape((ts_test.shape[0], ts_test.shape[1]))"
   ]
  },
  {
   "cell_type": "code",
   "execution_count": 56,
   "id": "192f3c3f",
   "metadata": {
    "execution": {
     "iopub.execute_input": "2023-03-09T10:19:15.952716Z",
     "iopub.status.busy": "2023-03-09T10:19:15.952264Z",
     "iopub.status.idle": "2023-03-09T10:19:15.959630Z",
     "shell.execute_reply": "2023-03-09T10:19:15.958417Z"
    },
    "papermill": {
     "duration": 0.024507,
     "end_time": "2023-03-09T10:19:15.961356",
     "exception": false,
     "start_time": "2023-03-09T10:19:15.936849",
     "status": "completed"
    },
    "tags": []
   },
   "outputs": [
    {
     "data": {
      "text/plain": [
       "(19200, 100)"
      ]
     },
     "execution_count": 56,
     "metadata": {},
     "output_type": "execute_result"
    }
   ],
   "source": [
    "X_train.shape"
   ]
  },
  {
   "cell_type": "code",
   "execution_count": 57,
   "id": "de0e5000",
   "metadata": {
    "execution": {
     "iopub.execute_input": "2023-03-09T10:19:15.992220Z",
     "iopub.status.busy": "2023-03-09T10:19:15.991792Z",
     "iopub.status.idle": "2023-03-09T10:19:15.997074Z",
     "shell.execute_reply": "2023-03-09T10:19:15.996009Z"
    },
    "papermill": {
     "duration": 0.023102,
     "end_time": "2023-03-09T10:19:15.998715",
     "exception": false,
     "start_time": "2023-03-09T10:19:15.975613",
     "status": "completed"
    },
    "tags": []
   },
   "outputs": [],
   "source": [
    "metrics_data['KNN'] = {}"
   ]
  },
  {
   "cell_type": "markdown",
   "id": "8ee39c05",
   "metadata": {
    "papermill": {
     "duration": 0.013981,
     "end_time": "2023-03-09T10:19:16.026716",
     "exception": false,
     "start_time": "2023-03-09T10:19:16.012735",
     "status": "completed"
    },
    "tags": []
   },
   "source": [
    "**Euclidean Distance**"
   ]
  },
  {
   "cell_type": "code",
   "execution_count": 58,
   "id": "55db1f58",
   "metadata": {
    "execution": {
     "iopub.execute_input": "2023-03-09T10:19:16.057181Z",
     "iopub.status.busy": "2023-03-09T10:19:16.056739Z",
     "iopub.status.idle": "2023-03-09T10:19:16.061991Z",
     "shell.execute_reply": "2023-03-09T10:19:16.060955Z"
    },
    "papermill": {
     "duration": 0.022572,
     "end_time": "2023-03-09T10:19:16.063685",
     "exception": false,
     "start_time": "2023-03-09T10:19:16.041113",
     "status": "completed"
    },
    "tags": []
   },
   "outputs": [],
   "source": [
    "from sklearn.neighbors import KNeighborsClassifier"
   ]
  },
  {
   "cell_type": "code",
   "execution_count": 59,
   "id": "132c2537",
   "metadata": {
    "execution": {
     "iopub.execute_input": "2023-03-09T10:19:16.094564Z",
     "iopub.status.busy": "2023-03-09T10:19:16.094124Z",
     "iopub.status.idle": "2023-03-09T10:19:16.146008Z",
     "shell.execute_reply": "2023-03-09T10:19:16.144419Z"
    },
    "papermill": {
     "duration": 0.070424,
     "end_time": "2023-03-09T10:19:16.148237",
     "exception": false,
     "start_time": "2023-03-09T10:19:16.077813",
     "status": "completed"
    },
    "tags": []
   },
   "outputs": [
    {
     "data": {
      "text/html": [
       "<style>#sk-container-id-8 {color: black;background-color: white;}#sk-container-id-8 pre{padding: 0;}#sk-container-id-8 div.sk-toggleable {background-color: white;}#sk-container-id-8 label.sk-toggleable__label {cursor: pointer;display: block;width: 100%;margin-bottom: 0;padding: 0.3em;box-sizing: border-box;text-align: center;}#sk-container-id-8 label.sk-toggleable__label-arrow:before {content: \"▸\";float: left;margin-right: 0.25em;color: #696969;}#sk-container-id-8 label.sk-toggleable__label-arrow:hover:before {color: black;}#sk-container-id-8 div.sk-estimator:hover label.sk-toggleable__label-arrow:before {color: black;}#sk-container-id-8 div.sk-toggleable__content {max-height: 0;max-width: 0;overflow: hidden;text-align: left;background-color: #f0f8ff;}#sk-container-id-8 div.sk-toggleable__content pre {margin: 0.2em;color: black;border-radius: 0.25em;background-color: #f0f8ff;}#sk-container-id-8 input.sk-toggleable__control:checked~div.sk-toggleable__content {max-height: 200px;max-width: 100%;overflow: auto;}#sk-container-id-8 input.sk-toggleable__control:checked~label.sk-toggleable__label-arrow:before {content: \"▾\";}#sk-container-id-8 div.sk-estimator input.sk-toggleable__control:checked~label.sk-toggleable__label {background-color: #d4ebff;}#sk-container-id-8 div.sk-label input.sk-toggleable__control:checked~label.sk-toggleable__label {background-color: #d4ebff;}#sk-container-id-8 input.sk-hidden--visually {border: 0;clip: rect(1px 1px 1px 1px);clip: rect(1px, 1px, 1px, 1px);height: 1px;margin: -1px;overflow: hidden;padding: 0;position: absolute;width: 1px;}#sk-container-id-8 div.sk-estimator {font-family: monospace;background-color: #f0f8ff;border: 1px dotted black;border-radius: 0.25em;box-sizing: border-box;margin-bottom: 0.5em;}#sk-container-id-8 div.sk-estimator:hover {background-color: #d4ebff;}#sk-container-id-8 div.sk-parallel-item::after {content: \"\";width: 100%;border-bottom: 1px solid gray;flex-grow: 1;}#sk-container-id-8 div.sk-label:hover label.sk-toggleable__label {background-color: #d4ebff;}#sk-container-id-8 div.sk-serial::before {content: \"\";position: absolute;border-left: 1px solid gray;box-sizing: border-box;top: 0;bottom: 0;left: 50%;z-index: 0;}#sk-container-id-8 div.sk-serial {display: flex;flex-direction: column;align-items: center;background-color: white;padding-right: 0.2em;padding-left: 0.2em;position: relative;}#sk-container-id-8 div.sk-item {position: relative;z-index: 1;}#sk-container-id-8 div.sk-parallel {display: flex;align-items: stretch;justify-content: center;background-color: white;position: relative;}#sk-container-id-8 div.sk-item::before, #sk-container-id-8 div.sk-parallel-item::before {content: \"\";position: absolute;border-left: 1px solid gray;box-sizing: border-box;top: 0;bottom: 0;left: 50%;z-index: -1;}#sk-container-id-8 div.sk-parallel-item {display: flex;flex-direction: column;z-index: 1;position: relative;background-color: white;}#sk-container-id-8 div.sk-parallel-item:first-child::after {align-self: flex-end;width: 50%;}#sk-container-id-8 div.sk-parallel-item:last-child::after {align-self: flex-start;width: 50%;}#sk-container-id-8 div.sk-parallel-item:only-child::after {width: 0;}#sk-container-id-8 div.sk-dashed-wrapped {border: 1px dashed gray;margin: 0 0.4em 0.5em 0.4em;box-sizing: border-box;padding-bottom: 0.4em;background-color: white;}#sk-container-id-8 div.sk-label label {font-family: monospace;font-weight: bold;display: inline-block;line-height: 1.2em;}#sk-container-id-8 div.sk-label-container {text-align: center;}#sk-container-id-8 div.sk-container {/* jupyter's `normalize.less` sets `[hidden] { display: none; }` but bootstrap.min.css set `[hidden] { display: none !important; }` so we also need the `!important` here to be able to override the default hidden behavior on the sphinx rendered scikit-learn.org. See: https://github.com/scikit-learn/scikit-learn/issues/21755 */display: inline-block !important;position: relative;}#sk-container-id-8 div.sk-text-repr-fallback {display: none;}</style><div id=\"sk-container-id-8\" class=\"sk-top-container\"><div class=\"sk-text-repr-fallback\"><pre>KNeighborsClassifier()</pre><b>In a Jupyter environment, please rerun this cell to show the HTML representation or trust the notebook. <br />On GitHub, the HTML representation is unable to render, please try loading this page with nbviewer.org.</b></div><div class=\"sk-container\" hidden><div class=\"sk-item\"><div class=\"sk-estimator sk-toggleable\"><input class=\"sk-toggleable__control sk-hidden--visually\" id=\"sk-estimator-id-8\" type=\"checkbox\" checked><label for=\"sk-estimator-id-8\" class=\"sk-toggleable__label sk-toggleable__label-arrow\">KNeighborsClassifier</label><div class=\"sk-toggleable__content\"><pre>KNeighborsClassifier()</pre></div></div></div></div></div>"
      ],
      "text/plain": [
       "KNeighborsClassifier()"
      ]
     },
     "execution_count": 59,
     "metadata": {},
     "output_type": "execute_result"
    }
   ],
   "source": [
    "clf = KNeighborsClassifier(n_neighbors=5, weights='uniform')\n",
    "clf.fit(X_train, y_train)"
   ]
  },
  {
   "cell_type": "code",
   "execution_count": 60,
   "id": "0afad62a",
   "metadata": {
    "execution": {
     "iopub.execute_input": "2023-03-09T10:19:16.180720Z",
     "iopub.status.busy": "2023-03-09T10:19:16.180240Z",
     "iopub.status.idle": "2023-03-09T10:19:17.316191Z",
     "shell.execute_reply": "2023-03-09T10:19:17.315166Z"
    },
    "papermill": {
     "duration": 1.153254,
     "end_time": "2023-03-09T10:19:17.317940",
     "exception": false,
     "start_time": "2023-03-09T10:19:16.164686",
     "status": "completed"
    },
    "tags": []
   },
   "outputs": [
    {
     "name": "stdout",
     "output_type": "stream",
     "text": [
      "              precision    recall  f1-score   support\n",
      "\n",
      "         pop       0.60      0.34      0.43      2391\n",
      "        rock       0.54      0.77      0.64      2409\n",
      "\n",
      "    accuracy                           0.56      4800\n",
      "   macro avg       0.57      0.56      0.53      4800\n",
      "weighted avg       0.57      0.56      0.54      4800\n",
      "\n"
     ]
    }
   ],
   "source": [
    "y_pred = clf.predict(X_test)\n",
    "print(classification_report(y_test, y_pred))"
   ]
  },
  {
   "cell_type": "code",
   "execution_count": 61,
   "id": "2d709070",
   "metadata": {
    "execution": {
     "iopub.execute_input": "2023-03-09T10:19:17.354106Z",
     "iopub.status.busy": "2023-03-09T10:19:17.353809Z",
     "iopub.status.idle": "2023-03-09T10:19:17.463023Z",
     "shell.execute_reply": "2023-03-09T10:19:17.462227Z"
    },
    "papermill": {
     "duration": 0.132225,
     "end_time": "2023-03-09T10:19:17.465054",
     "exception": false,
     "start_time": "2023-03-09T10:19:17.332829",
     "status": "completed"
    },
    "tags": []
   },
   "outputs": [],
   "source": [
    "acc = accuracy_score(y_test, y_pred)\n",
    "pre = precision_score(y_test, y_pred, average=avg_par)\n",
    "rec = recall_score(y_test, y_pred, average=avg_par)\n",
    "f1 = f1_score(y_test, y_pred, average=avg_par)\n",
    "\n",
    "metrics_data['KNN']['Euclidean'] = {'Accuracy': acc, 'Precision': pre, 'Recall': rec, 'F1': f1}"
   ]
  },
  {
   "cell_type": "markdown",
   "id": "c5ec2a09",
   "metadata": {
    "papermill": {
     "duration": 0.01463,
     "end_time": "2023-03-09T10:19:17.494383",
     "exception": false,
     "start_time": "2023-03-09T10:19:17.479753",
     "status": "completed"
    },
    "tags": []
   },
   "source": [
    "**Dynamic Time Warping**"
   ]
  },
  {
   "cell_type": "code",
   "execution_count": 62,
   "id": "2df913d8",
   "metadata": {
    "execution": {
     "iopub.execute_input": "2023-03-09T10:19:17.547579Z",
     "iopub.status.busy": "2023-03-09T10:19:17.547324Z",
     "iopub.status.idle": "2023-03-09T10:19:17.617441Z",
     "shell.execute_reply": "2023-03-09T10:19:17.616528Z"
    },
    "papermill": {
     "duration": 0.110076,
     "end_time": "2023-03-09T10:19:17.619443",
     "exception": false,
     "start_time": "2023-03-09T10:19:17.509367",
     "status": "completed"
    },
    "tags": []
   },
   "outputs": [],
   "source": [
    "from pyts.classification import KNeighborsClassifier\n",
    "from pyts.approximation import PiecewiseAggregateApproximation\n",
    "from imblearn.under_sampling import ClusterCentroids\n",
    "from sklearn_extra.cluster import KMedoids"
   ]
  },
  {
   "cell_type": "code",
   "execution_count": 63,
   "id": "db1604ec",
   "metadata": {
    "execution": {
     "iopub.execute_input": "2023-03-09T10:19:17.653458Z",
     "iopub.status.busy": "2023-03-09T10:19:17.653197Z",
     "iopub.status.idle": "2023-03-09T10:19:18.148192Z",
     "shell.execute_reply": "2023-03-09T10:19:18.147279Z"
    },
    "papermill": {
     "duration": 0.514455,
     "end_time": "2023-03-09T10:19:18.150412",
     "exception": false,
     "start_time": "2023-03-09T10:19:17.635957",
     "status": "completed"
    },
    "tags": []
   },
   "outputs": [],
   "source": [
    "if paa_window_size:\n",
    "    paa = PiecewiseAggregateApproximation(window_size=paa_window_size)\n",
    "    X_train = paa.transform(X_train)\n",
    "    X_test = paa.transform(X_test)\n",
    "    X_train.shape"
   ]
  },
  {
   "cell_type": "code",
   "execution_count": 64,
   "id": "59fa27aa",
   "metadata": {
    "execution": {
     "iopub.execute_input": "2023-03-09T10:19:18.184238Z",
     "iopub.status.busy": "2023-03-09T10:19:18.183955Z",
     "iopub.status.idle": "2023-03-09T10:19:43.048244Z",
     "shell.execute_reply": "2023-03-09T10:19:43.047619Z"
    },
    "papermill": {
     "duration": 24.885192,
     "end_time": "2023-03-09T10:19:43.051140",
     "exception": false,
     "start_time": "2023-03-09T10:19:18.165948",
     "status": "completed"
    },
    "tags": []
   },
   "outputs": [
    {
     "name": "stdout",
     "output_type": "stream",
     "text": [
      "{'pop': 2882, 'rock': 2877}\n"
     ]
    },
    {
     "name": "stderr",
     "output_type": "stream",
     "text": [
      "/home/mattiapggioli/lyrics2ts/.venv/lib/python3.9/site-packages/sklearn_extra/cluster/_k_medoids.py:275: UserWarning: Cluster 1219 is empty! self.labels_[self.medoid_indices_[1219]] may not be labeled with its corresponding cluster (1219).\n",
      "  warnings.warn(\n",
      "/home/mattiapggioli/lyrics2ts/.venv/lib/python3.9/site-packages/sklearn_extra/cluster/_k_medoids.py:275: UserWarning: Cluster 1423 is empty! self.labels_[self.medoid_indices_[1423]] may not be labeled with its corresponding cluster (1423).\n",
      "  warnings.warn(\n",
      "/home/mattiapggioli/lyrics2ts/.venv/lib/python3.9/site-packages/sklearn_extra/cluster/_k_medoids.py:275: UserWarning: Cluster 1676 is empty! self.labels_[self.medoid_indices_[1676]] may not be labeled with its corresponding cluster (1676).\n",
      "  warnings.warn(\n"
     ]
    }
   ],
   "source": [
    "if undersampling:\n",
    "    total_samples = len(y_train)\n",
    "    unique_classes, class_counts = np.unique(y_train, return_counts=True)\n",
    "    samp_strat = dict(zip(unique_classes, np.floor(class_counts * undersampling).astype(int)))\n",
    "    print(samp_strat)\n",
    "    cc = ClusterCentroids(estimator=KMedoids(\n",
    "        random_state=42), sampling_strategy=samp_strat, random_state=42)\n",
    "    X_train, y_train = cc.fit_resample(X_train, y_train)\n",
    "    X_train.shape"
   ]
  },
  {
   "cell_type": "code",
   "execution_count": 65,
   "id": "e7ac6b44",
   "metadata": {
    "execution": {
     "iopub.execute_input": "2023-03-09T10:19:43.129649Z",
     "iopub.status.busy": "2023-03-09T10:19:43.129229Z",
     "iopub.status.idle": "2023-03-09T10:19:43.143106Z",
     "shell.execute_reply": "2023-03-09T10:19:43.142464Z"
    },
    "papermill": {
     "duration": 0.053127,
     "end_time": "2023-03-09T10:19:43.145125",
     "exception": false,
     "start_time": "2023-03-09T10:19:43.091998",
     "status": "completed"
    },
    "tags": []
   },
   "outputs": [
    {
     "data": {
      "text/html": [
       "<style>#sk-container-id-9 {color: black;background-color: white;}#sk-container-id-9 pre{padding: 0;}#sk-container-id-9 div.sk-toggleable {background-color: white;}#sk-container-id-9 label.sk-toggleable__label {cursor: pointer;display: block;width: 100%;margin-bottom: 0;padding: 0.3em;box-sizing: border-box;text-align: center;}#sk-container-id-9 label.sk-toggleable__label-arrow:before {content: \"▸\";float: left;margin-right: 0.25em;color: #696969;}#sk-container-id-9 label.sk-toggleable__label-arrow:hover:before {color: black;}#sk-container-id-9 div.sk-estimator:hover label.sk-toggleable__label-arrow:before {color: black;}#sk-container-id-9 div.sk-toggleable__content {max-height: 0;max-width: 0;overflow: hidden;text-align: left;background-color: #f0f8ff;}#sk-container-id-9 div.sk-toggleable__content pre {margin: 0.2em;color: black;border-radius: 0.25em;background-color: #f0f8ff;}#sk-container-id-9 input.sk-toggleable__control:checked~div.sk-toggleable__content {max-height: 200px;max-width: 100%;overflow: auto;}#sk-container-id-9 input.sk-toggleable__control:checked~label.sk-toggleable__label-arrow:before {content: \"▾\";}#sk-container-id-9 div.sk-estimator input.sk-toggleable__control:checked~label.sk-toggleable__label {background-color: #d4ebff;}#sk-container-id-9 div.sk-label input.sk-toggleable__control:checked~label.sk-toggleable__label {background-color: #d4ebff;}#sk-container-id-9 input.sk-hidden--visually {border: 0;clip: rect(1px 1px 1px 1px);clip: rect(1px, 1px, 1px, 1px);height: 1px;margin: -1px;overflow: hidden;padding: 0;position: absolute;width: 1px;}#sk-container-id-9 div.sk-estimator {font-family: monospace;background-color: #f0f8ff;border: 1px dotted black;border-radius: 0.25em;box-sizing: border-box;margin-bottom: 0.5em;}#sk-container-id-9 div.sk-estimator:hover {background-color: #d4ebff;}#sk-container-id-9 div.sk-parallel-item::after {content: \"\";width: 100%;border-bottom: 1px solid gray;flex-grow: 1;}#sk-container-id-9 div.sk-label:hover label.sk-toggleable__label {background-color: #d4ebff;}#sk-container-id-9 div.sk-serial::before {content: \"\";position: absolute;border-left: 1px solid gray;box-sizing: border-box;top: 0;bottom: 0;left: 50%;z-index: 0;}#sk-container-id-9 div.sk-serial {display: flex;flex-direction: column;align-items: center;background-color: white;padding-right: 0.2em;padding-left: 0.2em;position: relative;}#sk-container-id-9 div.sk-item {position: relative;z-index: 1;}#sk-container-id-9 div.sk-parallel {display: flex;align-items: stretch;justify-content: center;background-color: white;position: relative;}#sk-container-id-9 div.sk-item::before, #sk-container-id-9 div.sk-parallel-item::before {content: \"\";position: absolute;border-left: 1px solid gray;box-sizing: border-box;top: 0;bottom: 0;left: 50%;z-index: -1;}#sk-container-id-9 div.sk-parallel-item {display: flex;flex-direction: column;z-index: 1;position: relative;background-color: white;}#sk-container-id-9 div.sk-parallel-item:first-child::after {align-self: flex-end;width: 50%;}#sk-container-id-9 div.sk-parallel-item:last-child::after {align-self: flex-start;width: 50%;}#sk-container-id-9 div.sk-parallel-item:only-child::after {width: 0;}#sk-container-id-9 div.sk-dashed-wrapped {border: 1px dashed gray;margin: 0 0.4em 0.5em 0.4em;box-sizing: border-box;padding-bottom: 0.4em;background-color: white;}#sk-container-id-9 div.sk-label label {font-family: monospace;font-weight: bold;display: inline-block;line-height: 1.2em;}#sk-container-id-9 div.sk-label-container {text-align: center;}#sk-container-id-9 div.sk-container {/* jupyter's `normalize.less` sets `[hidden] { display: none; }` but bootstrap.min.css set `[hidden] { display: none !important; }` so we also need the `!important` here to be able to override the default hidden behavior on the sphinx rendered scikit-learn.org. See: https://github.com/scikit-learn/scikit-learn/issues/21755 */display: inline-block !important;position: relative;}#sk-container-id-9 div.sk-text-repr-fallback {display: none;}</style><div id=\"sk-container-id-9\" class=\"sk-top-container\"><div class=\"sk-text-repr-fallback\"><pre>KNeighborsClassifier(metric=&#x27;dtw_sakoechiba&#x27;, metric_params={&#x27;window_size&#x27;: 3})</pre><b>In a Jupyter environment, please rerun this cell to show the HTML representation or trust the notebook. <br />On GitHub, the HTML representation is unable to render, please try loading this page with nbviewer.org.</b></div><div class=\"sk-container\" hidden><div class=\"sk-item\"><div class=\"sk-estimator sk-toggleable\"><input class=\"sk-toggleable__control sk-hidden--visually\" id=\"sk-estimator-id-9\" type=\"checkbox\" checked><label for=\"sk-estimator-id-9\" class=\"sk-toggleable__label sk-toggleable__label-arrow\">KNeighborsClassifier</label><div class=\"sk-toggleable__content\"><pre>KNeighborsClassifier(metric=&#x27;dtw_sakoechiba&#x27;, metric_params={&#x27;window_size&#x27;: 3})</pre></div></div></div></div></div>"
      ],
      "text/plain": [
       "KNeighborsClassifier(metric='dtw_sakoechiba', metric_params={'window_size': 3})"
      ]
     },
     "execution_count": 65,
     "metadata": {},
     "output_type": "execute_result"
    }
   ],
   "source": [
    "clf = KNeighborsClassifier(metric='dtw_sakoechiba',  metric_params={'window_size':3})\n",
    "\n",
    "clf.fit(X_train, y_train)"
   ]
  },
  {
   "cell_type": "code",
   "execution_count": 66,
   "id": "8109d19d",
   "metadata": {
    "execution": {
     "iopub.execute_input": "2023-03-09T10:19:43.178763Z",
     "iopub.status.busy": "2023-03-09T10:19:43.178353Z",
     "iopub.status.idle": "2023-03-09T11:34:32.806190Z",
     "shell.execute_reply": "2023-03-09T11:34:32.805245Z"
    },
    "papermill": {
     "duration": 4489.688919,
     "end_time": "2023-03-09T11:34:32.850594",
     "exception": false,
     "start_time": "2023-03-09T10:19:43.161675",
     "status": "completed"
    },
    "tags": []
   },
   "outputs": [
    {
     "name": "stdout",
     "output_type": "stream",
     "text": [
      "              precision    recall  f1-score   support\n",
      "\n",
      "         pop       0.59      0.58      0.59      2391\n",
      "        rock       0.59      0.59      0.59      2409\n",
      "\n",
      "    accuracy                           0.59      4800\n",
      "   macro avg       0.59      0.59      0.59      4800\n",
      "weighted avg       0.59      0.59      0.59      4800\n",
      "\n",
      "CPU times: user 1h 14min 50s, sys: 337 ms, total: 1h 14min 50s\n",
      "Wall time: 1h 14min 49s\n"
     ]
    }
   ],
   "source": [
    "%%time\n",
    "y_pred = clf.predict(X_test)\n",
    "print(classification_report(y_test, y_pred))"
   ]
  },
  {
   "cell_type": "code",
   "execution_count": 67,
   "id": "b09f5cdf",
   "metadata": {
    "execution": {
     "iopub.execute_input": "2023-03-09T11:34:32.906124Z",
     "iopub.status.busy": "2023-03-09T11:34:32.905806Z",
     "iopub.status.idle": "2023-03-09T11:34:33.037179Z",
     "shell.execute_reply": "2023-03-09T11:34:33.036334Z"
    },
    "papermill": {
     "duration": 0.150716,
     "end_time": "2023-03-09T11:34:33.039925",
     "exception": false,
     "start_time": "2023-03-09T11:34:32.889209",
     "status": "completed"
    },
    "tags": []
   },
   "outputs": [],
   "source": [
    "acc = accuracy_score(y_test, y_pred)\n",
    "pre = precision_score(y_test, y_pred, average=avg_par)\n",
    "rec = recall_score(y_test, y_pred, average=avg_par)\n",
    "f1 = f1_score(y_test, y_pred, average=avg_par)\n",
    "\n",
    "metrics_data['KNN']['DTW'] = {'Accuracy': acc, 'Precision': pre, 'Recall': rec, 'F1': f1}"
   ]
  },
  {
   "cell_type": "markdown",
   "id": "e0e700a7",
   "metadata": {
    "papermill": {
     "duration": 0.037846,
     "end_time": "2023-03-09T11:34:33.119205",
     "exception": false,
     "start_time": "2023-03-09T11:34:33.081359",
     "status": "completed"
    },
    "tags": []
   },
   "source": [
    "## Overall Results"
   ]
  },
  {
   "cell_type": "code",
   "execution_count": 68,
   "id": "d003c193",
   "metadata": {
    "execution": {
     "iopub.execute_input": "2023-03-09T11:34:33.149580Z",
     "iopub.status.busy": "2023-03-09T11:34:33.149268Z",
     "iopub.status.idle": "2023-03-09T11:34:33.157826Z",
     "shell.execute_reply": "2023-03-09T11:34:33.156724Z"
    },
    "papermill": {
     "duration": 0.025899,
     "end_time": "2023-03-09T11:34:33.159544",
     "exception": false,
     "start_time": "2023-03-09T11:34:33.133645",
     "status": "completed"
    },
    "tags": []
   },
   "outputs": [],
   "source": [
    "metrics_data = pd.DataFrame.from_dict({(i,j): metrics_data[i][j] \n",
    "                                       for i in metrics_data.keys() \n",
    "                                       for j in metrics_data[i].keys()},\n",
    "                                       orient='index')"
   ]
  },
  {
   "cell_type": "code",
   "execution_count": 69,
   "id": "0944fe84",
   "metadata": {
    "execution": {
     "iopub.execute_input": "2023-03-09T11:34:33.191071Z",
     "iopub.status.busy": "2023-03-09T11:34:33.190219Z",
     "iopub.status.idle": "2023-03-09T11:34:33.333570Z",
     "shell.execute_reply": "2023-03-09T11:34:33.332740Z"
    },
    "papermill": {
     "duration": 0.161903,
     "end_time": "2023-03-09T11:34:33.336334",
     "exception": false,
     "start_time": "2023-03-09T11:34:33.174431",
     "status": "completed"
    },
    "tags": []
   },
   "outputs": [],
   "source": [
    "acc = accuracy_score(y_test, y_pred)\n",
    "pre = precision_score(y_test, y_pred, average=avg_par)\n",
    "rec = recall_score(y_test, y_pred, average=avg_par)\n",
    "f1 = f1_score(y_test, y_pred, average=avg_par)"
   ]
  },
  {
   "cell_type": "code",
   "execution_count": 70,
   "id": "7ee1b347",
   "metadata": {
    "execution": {
     "iopub.execute_input": "2023-03-09T11:34:33.416744Z",
     "iopub.status.busy": "2023-03-09T11:34:33.416203Z",
     "iopub.status.idle": "2023-03-09T11:34:33.429962Z",
     "shell.execute_reply": "2023-03-09T11:34:33.428574Z"
    },
    "papermill": {
     "duration": 0.055506,
     "end_time": "2023-03-09T11:34:33.432116",
     "exception": false,
     "start_time": "2023-03-09T11:34:33.376610",
     "status": "completed"
    },
    "tags": []
   },
   "outputs": [
    {
     "data": {
      "text/html": [
       "<div>\n",
       "<style scoped>\n",
       "    .dataframe tbody tr th:only-of-type {\n",
       "        vertical-align: middle;\n",
       "    }\n",
       "\n",
       "    .dataframe tbody tr th {\n",
       "        vertical-align: top;\n",
       "    }\n",
       "\n",
       "    .dataframe thead th {\n",
       "        text-align: right;\n",
       "    }\n",
       "</style>\n",
       "<table border=\"1\" class=\"dataframe\">\n",
       "  <thead>\n",
       "    <tr style=\"text-align: right;\">\n",
       "      <th></th>\n",
       "      <th></th>\n",
       "      <th>Accuracy</th>\n",
       "      <th>Precision</th>\n",
       "      <th>Recall</th>\n",
       "      <th>F1</th>\n",
       "    </tr>\n",
       "  </thead>\n",
       "  <tbody>\n",
       "    <tr>\n",
       "      <th rowspan=\"3\" valign=\"top\">Global</th>\n",
       "      <th>DecisionTree</th>\n",
       "      <td>0.581250</td>\n",
       "      <td>0.581318</td>\n",
       "      <td>0.581288</td>\n",
       "      <td>0.581224</td>\n",
       "    </tr>\n",
       "    <tr>\n",
       "      <th>RandomForest</th>\n",
       "      <td>0.658333</td>\n",
       "      <td>0.658431</td>\n",
       "      <td>0.658372</td>\n",
       "      <td>0.658312</td>\n",
       "    </tr>\n",
       "    <tr>\n",
       "      <th>LightGBM</th>\n",
       "      <td>0.675208</td>\n",
       "      <td>0.675365</td>\n",
       "      <td>0.675258</td>\n",
       "      <td>0.675172</td>\n",
       "    </tr>\n",
       "    <tr>\n",
       "      <th rowspan=\"3\" valign=\"top\">Shapelets</th>\n",
       "      <th>DecisionTree</th>\n",
       "      <td>0.565625</td>\n",
       "      <td>0.565619</td>\n",
       "      <td>0.565620</td>\n",
       "      <td>0.565620</td>\n",
       "    </tr>\n",
       "    <tr>\n",
       "      <th>RandomForest</th>\n",
       "      <td>0.635625</td>\n",
       "      <td>0.635732</td>\n",
       "      <td>0.635560</td>\n",
       "      <td>0.635482</td>\n",
       "    </tr>\n",
       "    <tr>\n",
       "      <th>LightGBM</th>\n",
       "      <td>0.636042</td>\n",
       "      <td>0.636408</td>\n",
       "      <td>0.635933</td>\n",
       "      <td>0.635681</td>\n",
       "    </tr>\n",
       "    <tr>\n",
       "      <th rowspan=\"2\" valign=\"top\">KNN</th>\n",
       "      <th>Euclidean</th>\n",
       "      <td>0.556875</td>\n",
       "      <td>0.568846</td>\n",
       "      <td>0.556068</td>\n",
       "      <td>0.534916</td>\n",
       "    </tr>\n",
       "    <tr>\n",
       "      <th>DTW</th>\n",
       "      <td>0.587292</td>\n",
       "      <td>0.587283</td>\n",
       "      <td>0.587280</td>\n",
       "      <td>0.587280</td>\n",
       "    </tr>\n",
       "  </tbody>\n",
       "</table>\n",
       "</div>"
      ],
      "text/plain": [
       "                        Accuracy  Precision    Recall        F1\n",
       "Global    DecisionTree  0.581250   0.581318  0.581288  0.581224\n",
       "          RandomForest  0.658333   0.658431  0.658372  0.658312\n",
       "          LightGBM      0.675208   0.675365  0.675258  0.675172\n",
       "Shapelets DecisionTree  0.565625   0.565619  0.565620  0.565620\n",
       "          RandomForest  0.635625   0.635732  0.635560  0.635482\n",
       "          LightGBM      0.636042   0.636408  0.635933  0.635681\n",
       "KNN       Euclidean     0.556875   0.568846  0.556068  0.534916\n",
       "          DTW           0.587292   0.587283  0.587280  0.587280"
      ]
     },
     "execution_count": 70,
     "metadata": {},
     "output_type": "execute_result"
    }
   ],
   "source": [
    "metrics_data"
   ]
  },
  {
   "cell_type": "code",
   "execution_count": 71,
   "id": "3efc173e",
   "metadata": {
    "execution": {
     "iopub.execute_input": "2023-03-09T11:34:33.465018Z",
     "iopub.status.busy": "2023-03-09T11:34:33.464547Z",
     "iopub.status.idle": "2023-03-09T11:34:33.475445Z",
     "shell.execute_reply": "2023-03-09T11:34:33.474129Z"
    },
    "papermill": {
     "duration": 0.029215,
     "end_time": "2023-03-09T11:34:33.477658",
     "exception": false,
     "start_time": "2023-03-09T11:34:33.448443",
     "status": "completed"
    },
    "tags": []
   },
   "outputs": [],
   "source": [
    "metrics_data.to_csv(f'{data_path}/metrics.csv')"
   ]
  },
  {
   "cell_type": "code",
   "execution_count": null,
   "id": "d21f5304",
   "metadata": {
    "papermill": {
     "duration": 0.015051,
     "end_time": "2023-03-09T11:34:33.508986",
     "exception": false,
     "start_time": "2023-03-09T11:34:33.493935",
     "status": "completed"
    },
    "tags": []
   },
   "outputs": [],
   "source": []
  }
 ],
 "metadata": {
  "celltoolbar": "Tags",
  "kernelspec": {
   "display_name": "Python 3 (ipykernel)",
   "language": "python",
   "name": "python3"
  },
  "language_info": {
   "codemirror_mode": {
    "name": "ipython",
    "version": 3
   },
   "file_extension": ".py",
   "mimetype": "text/x-python",
   "name": "python",
   "nbconvert_exporter": "python",
   "pygments_lexer": "ipython3",
   "version": "3.9.16"
  },
  "papermill": {
   "default_parameters": {},
   "duration": 6118.77461,
   "end_time": "2023-03-09T11:34:36.921080",
   "environment_variables": {},
   "exception": null,
   "input_path": "09_ts_classification.ipynb",
   "output_path": "../clf-reports/pp-rc_sbert.ipynb",
   "parameters": {
    "data_path": "/home/mattiapggioli/lyrics2ts/data/classification/pp-rc/sbert/",
    "paa_window_size": 20,
    "undersampling": 0.3
   },
   "start_time": "2023-03-09T09:52:38.146470",
   "version": "2.4.0"
  },
  "vscode": {
   "interpreter": {
    "hash": "eb8d1ded7c87c6f9c253b40add648304d6b51d2e38393955e855effc7e6f899a"
   }
  }
 },
 "nbformat": 4,
 "nbformat_minor": 5
}