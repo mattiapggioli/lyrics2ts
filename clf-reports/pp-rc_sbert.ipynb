{
 "cells": [
  {
   "cell_type": "markdown",
   "id": "d79a68c5",
   "metadata": {
    "papermill": {
     "duration": 0.014607,
     "end_time": "2023-03-20T13:25:27.583555",
     "exception": false,
     "start_time": "2023-03-20T13:25:27.568948",
     "status": "completed"
    },
    "tags": []
   },
   "source": [
    "# Time Series Classification"
   ]
  },
  {
   "cell_type": "code",
   "execution_count": 1,
   "id": "8a0cb2b0",
   "metadata": {
    "execution": {
     "iopub.execute_input": "2023-03-20T13:25:27.614261Z",
     "iopub.status.busy": "2023-03-20T13:25:27.613748Z",
     "iopub.status.idle": "2023-03-20T13:25:29.284238Z",
     "shell.execute_reply": "2023-03-20T13:25:29.283392Z"
    },
    "papermill": {
     "duration": 1.691118,
     "end_time": "2023-03-20T13:25:29.287178",
     "exception": false,
     "start_time": "2023-03-20T13:25:27.596060",
     "status": "completed"
    },
    "tags": []
   },
   "outputs": [],
   "source": [
    "%matplotlib inline\n",
    "import pandas as pd\n",
    "import numpy as np\n",
    "import matplotlib.pyplot as plt\n",
    "import seaborn as sns\n",
    "import re\n",
    "import os\n",
    "from sklearn.preprocessing import StandardScaler\n",
    "from sklearn.decomposition import PCA\n",
    "import joblib\n",
    "from tslearn.utils import to_time_series_dataset, save_time_series_txt, load_time_series_txt\n",
    "import random\n",
    "from sklearn.model_selection import train_test_split\n",
    "from sklearn.metrics import accuracy_score, f1_score, precision_score, recall_score, classification_report\n",
    "import pickle"
   ]
  },
  {
   "cell_type": "code",
   "execution_count": 2,
   "id": "acc03405",
   "metadata": {
    "execution": {
     "iopub.execute_input": "2023-03-20T13:25:29.316848Z",
     "iopub.status.busy": "2023-03-20T13:25:29.316200Z",
     "iopub.status.idle": "2023-03-20T13:25:29.321662Z",
     "shell.execute_reply": "2023-03-20T13:25:29.320460Z"
    },
    "papermill": {
     "duration": 0.021248,
     "end_time": "2023-03-20T13:25:29.323642",
     "exception": false,
     "start_time": "2023-03-20T13:25:29.302394",
     "status": "completed"
    },
    "tags": [
     "parameters"
    ]
   },
   "outputs": [],
   "source": [
    "data_path = '/home/mattiapggioli/lyrics2ts/data/classification/pp-rc/sbert/'\n",
    "truncate=100\n",
    "max_iter = 2000\n",
    "paa_window_size = None\n",
    "undersampling = None"
   ]
  },
  {
   "cell_type": "code",
   "execution_count": 3,
   "id": "83a586bc",
   "metadata": {
    "execution": {
     "iopub.execute_input": "2023-03-20T13:25:29.352109Z",
     "iopub.status.busy": "2023-03-20T13:25:29.351671Z",
     "iopub.status.idle": "2023-03-20T13:25:29.357446Z",
     "shell.execute_reply": "2023-03-20T13:25:29.356370Z"
    },
    "papermill": {
     "duration": 0.023432,
     "end_time": "2023-03-20T13:25:29.359202",
     "exception": false,
     "start_time": "2023-03-20T13:25:29.335770",
     "status": "completed"
    },
    "tags": [
     "injected-parameters"
    ]
   },
   "outputs": [],
   "source": [
    "# Parameters\n",
    "data_path = \"/home/mattiapggioli/lyrics2ts/data/classification/pp-rc/sbert/\"\n",
    "paa_window_size = 20\n",
    "undersampling = 0.3\n"
   ]
  },
  {
   "cell_type": "code",
   "execution_count": 4,
   "id": "a4f0c774",
   "metadata": {
    "execution": {
     "iopub.execute_input": "2023-03-20T13:25:29.388646Z",
     "iopub.status.busy": "2023-03-20T13:25:29.388248Z",
     "iopub.status.idle": "2023-03-20T13:25:50.583728Z",
     "shell.execute_reply": "2023-03-20T13:25:50.582958Z"
    },
    "papermill": {
     "duration": 21.212627,
     "end_time": "2023-03-20T13:25:50.586033",
     "exception": false,
     "start_time": "2023-03-20T13:25:29.373406",
     "status": "completed"
    },
    "tags": []
   },
   "outputs": [],
   "source": [
    "ts = load_time_series_txt(f'{data_path}/ts.txt')"
   ]
  },
  {
   "cell_type": "code",
   "execution_count": 5,
   "id": "5c48d154",
   "metadata": {
    "execution": {
     "iopub.execute_input": "2023-03-20T13:25:50.617321Z",
     "iopub.status.busy": "2023-03-20T13:25:50.616938Z",
     "iopub.status.idle": "2023-03-20T13:25:50.624454Z",
     "shell.execute_reply": "2023-03-20T13:25:50.623593Z"
    },
    "papermill": {
     "duration": 0.024438,
     "end_time": "2023-03-20T13:25:50.626205",
     "exception": false,
     "start_time": "2023-03-20T13:25:50.601767",
     "status": "completed"
    },
    "tags": []
   },
   "outputs": [
    {
     "data": {
      "text/plain": [
       "(24000, 130, 1)"
      ]
     },
     "execution_count": 5,
     "metadata": {},
     "output_type": "execute_result"
    }
   ],
   "source": [
    "ts.shape"
   ]
  },
  {
   "cell_type": "code",
   "execution_count": 6,
   "id": "f6274d40",
   "metadata": {
    "execution": {
     "iopub.execute_input": "2023-03-20T13:25:50.656325Z",
     "iopub.status.busy": "2023-03-20T13:25:50.655805Z",
     "iopub.status.idle": "2023-03-20T13:25:50.665294Z",
     "shell.execute_reply": "2023-03-20T13:25:50.664230Z"
    },
    "papermill": {
     "duration": 0.027079,
     "end_time": "2023-03-20T13:25:50.667354",
     "exception": false,
     "start_time": "2023-03-20T13:25:50.640275",
     "status": "completed"
    },
    "tags": []
   },
   "outputs": [],
   "source": [
    "with open(f'{data_path}/y_class.npy', 'rb') as f:\n",
    "    y = np.load(f, allow_pickle=True)"
   ]
  },
  {
   "cell_type": "code",
   "execution_count": 7,
   "id": "9d42fa3b",
   "metadata": {
    "execution": {
     "iopub.execute_input": "2023-03-20T13:25:50.695244Z",
     "iopub.status.busy": "2023-03-20T13:25:50.694718Z",
     "iopub.status.idle": "2023-03-20T13:25:50.787071Z",
     "shell.execute_reply": "2023-03-20T13:25:50.785889Z"
    },
    "papermill": {
     "duration": 0.109813,
     "end_time": "2023-03-20T13:25:50.790276",
     "exception": false,
     "start_time": "2023-03-20T13:25:50.680463",
     "status": "completed"
    },
    "tags": []
   },
   "outputs": [],
   "source": [
    "with open(f'{data_path}/X.npy', 'rb') as f:\n",
    "    X = np.load(f, allow_pickle=True)"
   ]
  },
  {
   "cell_type": "code",
   "execution_count": 8,
   "id": "1158a9da",
   "metadata": {
    "execution": {
     "iopub.execute_input": "2023-03-20T13:25:50.848537Z",
     "iopub.status.busy": "2023-03-20T13:25:50.847484Z",
     "iopub.status.idle": "2023-03-20T13:25:50.854314Z",
     "shell.execute_reply": "2023-03-20T13:25:50.853549Z"
    },
    "papermill": {
     "duration": 0.041242,
     "end_time": "2023-03-20T13:25:50.859868",
     "exception": false,
     "start_time": "2023-03-20T13:25:50.818626",
     "status": "completed"
    },
    "tags": []
   },
   "outputs": [
    {
     "data": {
      "text/plain": [
       "(24000, 384)"
      ]
     },
     "execution_count": 8,
     "metadata": {},
     "output_type": "execute_result"
    }
   ],
   "source": [
    "X.shape"
   ]
  },
  {
   "cell_type": "code",
   "execution_count": 9,
   "id": "47239790",
   "metadata": {
    "execution": {
     "iopub.execute_input": "2023-03-20T13:25:50.895898Z",
     "iopub.status.busy": "2023-03-20T13:25:50.894843Z",
     "iopub.status.idle": "2023-03-20T13:25:50.903234Z",
     "shell.execute_reply": "2023-03-20T13:25:50.902315Z"
    },
    "papermill": {
     "duration": 0.022876,
     "end_time": "2023-03-20T13:25:50.905111",
     "exception": false,
     "start_time": "2023-03-20T13:25:50.882235",
     "status": "completed"
    },
    "tags": []
   },
   "outputs": [
    {
     "data": {
      "text/plain": [
       "{'pop', 'rock'}"
      ]
     },
     "execution_count": 9,
     "metadata": {},
     "output_type": "execute_result"
    }
   ],
   "source": [
    "set(y)"
   ]
  },
  {
   "cell_type": "code",
   "execution_count": 10,
   "id": "37609992",
   "metadata": {
    "execution": {
     "iopub.execute_input": "2023-03-20T13:25:50.932694Z",
     "iopub.status.busy": "2023-03-20T13:25:50.931984Z",
     "iopub.status.idle": "2023-03-20T13:25:50.992830Z",
     "shell.execute_reply": "2023-03-20T13:25:50.991930Z"
    },
    "papermill": {
     "duration": 0.077845,
     "end_time": "2023-03-20T13:25:50.996345",
     "exception": false,
     "start_time": "2023-03-20T13:25:50.918500",
     "status": "completed"
    },
    "tags": []
   },
   "outputs": [],
   "source": [
    "ts_train, ts_test, y_train, y_test = train_test_split(\n",
    "    ts, y, test_size=0.20, random_state=42, stratify=y)"
   ]
  },
  {
   "cell_type": "code",
   "execution_count": 11,
   "id": "34508fe4",
   "metadata": {
    "execution": {
     "iopub.execute_input": "2023-03-20T13:25:51.025365Z",
     "iopub.status.busy": "2023-03-20T13:25:51.024210Z",
     "iopub.status.idle": "2023-03-20T13:25:51.102581Z",
     "shell.execute_reply": "2023-03-20T13:25:51.101849Z"
    },
    "papermill": {
     "duration": 0.095706,
     "end_time": "2023-03-20T13:25:51.105049",
     "exception": false,
     "start_time": "2023-03-20T13:25:51.009343",
     "status": "completed"
    },
    "tags": []
   },
   "outputs": [],
   "source": [
    "X_train, X_test, y_train, y_test = train_test_split(\n",
    "    X, y, test_size=0.20, random_state=42, stratify=y)"
   ]
  },
  {
   "cell_type": "code",
   "execution_count": 12,
   "id": "076afac9",
   "metadata": {
    "execution": {
     "iopub.execute_input": "2023-03-20T13:25:51.135389Z",
     "iopub.status.busy": "2023-03-20T13:25:51.134513Z",
     "iopub.status.idle": "2023-03-20T13:25:51.145655Z",
     "shell.execute_reply": "2023-03-20T13:25:51.143913Z"
    },
    "papermill": {
     "duration": 0.02848,
     "end_time": "2023-03-20T13:25:51.148592",
     "exception": false,
     "start_time": "2023-03-20T13:25:51.120112",
     "status": "completed"
    },
    "tags": []
   },
   "outputs": [
    {
     "data": {
      "text/plain": [
       "array([[ 1.90004049e+00],\n",
       "       [ 1.17154696e+00],\n",
       "       [ 6.36877229e-01],\n",
       "       [-6.51051727e-01],\n",
       "       [-5.08929427e-01],\n",
       "       [ 1.89186867e+00],\n",
       "       [ 1.45955414e-01],\n",
       "       [ 6.36877481e-01],\n",
       "       [-6.51051727e-01],\n",
       "       [-5.08929427e-01],\n",
       "       [ 6.36877481e-01],\n",
       "       [ 1.39649306e+00],\n",
       "       [ 2.28721886e-01],\n",
       "       [ 1.57422018e+00],\n",
       "       [ 2.58972391e-02],\n",
       "       [ 6.36877481e-01],\n",
       "       [-3.28521056e-01],\n",
       "       [ 6.36877481e-01],\n",
       "       [ 1.39649306e+00],\n",
       "       [ 8.89658739e-04],\n",
       "       [ 6.36877481e-01],\n",
       "       [-6.51051727e-01],\n",
       "       [-5.08929427e-01],\n",
       "       [            nan],\n",
       "       [            nan],\n",
       "       [            nan],\n",
       "       [            nan],\n",
       "       [            nan],\n",
       "       [            nan],\n",
       "       [            nan],\n",
       "       [            nan],\n",
       "       [            nan],\n",
       "       [            nan],\n",
       "       [            nan],\n",
       "       [            nan],\n",
       "       [            nan],\n",
       "       [            nan],\n",
       "       [            nan],\n",
       "       [            nan],\n",
       "       [            nan],\n",
       "       [            nan],\n",
       "       [            nan],\n",
       "       [            nan],\n",
       "       [            nan],\n",
       "       [            nan],\n",
       "       [            nan],\n",
       "       [            nan],\n",
       "       [            nan],\n",
       "       [            nan],\n",
       "       [            nan],\n",
       "       [            nan],\n",
       "       [            nan],\n",
       "       [            nan],\n",
       "       [            nan],\n",
       "       [            nan],\n",
       "       [            nan],\n",
       "       [            nan],\n",
       "       [            nan],\n",
       "       [            nan],\n",
       "       [            nan],\n",
       "       [            nan],\n",
       "       [            nan],\n",
       "       [            nan],\n",
       "       [            nan],\n",
       "       [            nan],\n",
       "       [            nan],\n",
       "       [            nan],\n",
       "       [            nan],\n",
       "       [            nan],\n",
       "       [            nan],\n",
       "       [            nan],\n",
       "       [            nan],\n",
       "       [            nan],\n",
       "       [            nan],\n",
       "       [            nan],\n",
       "       [            nan],\n",
       "       [            nan],\n",
       "       [            nan],\n",
       "       [            nan],\n",
       "       [            nan],\n",
       "       [            nan],\n",
       "       [            nan],\n",
       "       [            nan],\n",
       "       [            nan],\n",
       "       [            nan],\n",
       "       [            nan],\n",
       "       [            nan],\n",
       "       [            nan],\n",
       "       [            nan],\n",
       "       [            nan],\n",
       "       [            nan],\n",
       "       [            nan],\n",
       "       [            nan],\n",
       "       [            nan],\n",
       "       [            nan],\n",
       "       [            nan],\n",
       "       [            nan],\n",
       "       [            nan],\n",
       "       [            nan],\n",
       "       [            nan],\n",
       "       [            nan],\n",
       "       [            nan],\n",
       "       [            nan],\n",
       "       [            nan],\n",
       "       [            nan],\n",
       "       [            nan],\n",
       "       [            nan],\n",
       "       [            nan],\n",
       "       [            nan],\n",
       "       [            nan],\n",
       "       [            nan],\n",
       "       [            nan],\n",
       "       [            nan],\n",
       "       [            nan],\n",
       "       [            nan],\n",
       "       [            nan],\n",
       "       [            nan],\n",
       "       [            nan],\n",
       "       [            nan],\n",
       "       [            nan],\n",
       "       [            nan],\n",
       "       [            nan],\n",
       "       [            nan],\n",
       "       [            nan],\n",
       "       [            nan],\n",
       "       [            nan],\n",
       "       [            nan],\n",
       "       [            nan],\n",
       "       [            nan],\n",
       "       [            nan]])"
      ]
     },
     "execution_count": 12,
     "metadata": {},
     "output_type": "execute_result"
    }
   ],
   "source": [
    "random.choice(ts_train)"
   ]
  },
  {
   "cell_type": "code",
   "execution_count": 13,
   "id": "ca66457a",
   "metadata": {
    "execution": {
     "iopub.execute_input": "2023-03-20T13:25:51.177203Z",
     "iopub.status.busy": "2023-03-20T13:25:51.176291Z",
     "iopub.status.idle": "2023-03-20T13:25:51.692985Z",
     "shell.execute_reply": "2023-03-20T13:25:51.691757Z"
    },
    "papermill": {
     "duration": 0.533605,
     "end_time": "2023-03-20T13:25:51.696584",
     "exception": false,
     "start_time": "2023-03-20T13:25:51.162979",
     "status": "completed"
    },
    "tags": []
   },
   "outputs": [
    {
     "data": {
      "text/plain": [
       "<AxesSubplot:ylabel='Count'>"
      ]
     },
     "execution_count": 13,
     "metadata": {},
     "output_type": "execute_result"
    },
    {
     "data": {
      "image/png": "[encoded data removed]",
      "text/plain": [
       "<Figure size 640x480 with 1 Axes>"
      ]
     },
     "metadata": {},
     "output_type": "display_data"
    }
   ],
   "source": [
    "sns.histplot([t[~np.any(np.isnan(t), axis=1)].shape[0] for t in ts_train])"
   ]
  },
  {
   "cell_type": "code",
   "execution_count": 14,
   "id": "c2ae286f",
   "metadata": {
    "execution": {
     "iopub.execute_input": "2023-03-20T13:25:51.760958Z",
     "iopub.status.busy": "2023-03-20T13:25:51.759870Z",
     "iopub.status.idle": "2023-03-20T13:25:51.765686Z",
     "shell.execute_reply": "2023-03-20T13:25:51.764768Z"
    },
    "papermill": {
     "duration": 0.042594,
     "end_time": "2023-03-20T13:25:51.768786",
     "exception": false,
     "start_time": "2023-03-20T13:25:51.726192",
     "status": "completed"
    },
    "tags": []
   },
   "outputs": [],
   "source": [
    "ts_train = ts_train[:, :truncate, :]\n",
    "ts_test = ts_test[:, :truncate, :]"
   ]
  },
  {
   "cell_type": "code",
   "execution_count": 15,
   "id": "3218baa4",
   "metadata": {
    "execution": {
     "iopub.execute_input": "2023-03-20T13:25:51.802653Z",
     "iopub.status.busy": "2023-03-20T13:25:51.802200Z",
     "iopub.status.idle": "2023-03-20T13:25:51.881129Z",
     "shell.execute_reply": "2023-03-20T13:25:51.880217Z"
    },
    "papermill": {
     "duration": 0.096713,
     "end_time": "2023-03-20T13:25:51.884949",
     "exception": false,
     "start_time": "2023-03-20T13:25:51.788236",
     "status": "completed"
    },
    "tags": []
   },
   "outputs": [],
   "source": [
    "mean_arr = np.nanmean(ts_train, axis=1, keepdims=True)\n",
    "nan_indices = np.isnan(ts_train)\n",
    "ts_train[nan_indices] = np.take(mean_arr, np.nonzero(nan_indices)[0])\n",
    "\n",
    "mean_arr = np.nanmean(ts_test, axis=1, keepdims=True)\n",
    "nan_indices = np.isnan(ts_test)\n",
    "ts_test[nan_indices] = np.take(mean_arr, np.nonzero(nan_indices)[0])"
   ]
  },
  {
   "cell_type": "code",
   "execution_count": 16,
   "id": "d369691b",
   "metadata": {
    "execution": {
     "iopub.execute_input": "2023-03-20T13:25:51.914595Z",
     "iopub.status.busy": "2023-03-20T13:25:51.913924Z",
     "iopub.status.idle": "2023-03-20T13:25:51.927511Z",
     "shell.execute_reply": "2023-03-20T13:25:51.926080Z"
    },
    "papermill": {
     "duration": 0.030726,
     "end_time": "2023-03-20T13:25:51.930920",
     "exception": false,
     "start_time": "2023-03-20T13:25:51.900194",
     "status": "completed"
    },
    "tags": []
   },
   "outputs": [
    {
     "data": {
      "text/plain": [
       "0"
      ]
     },
     "execution_count": 16,
     "metadata": {},
     "output_type": "execute_result"
    }
   ],
   "source": [
    "np.count_nonzero(np.isnan(X_train))"
   ]
  },
  {
   "cell_type": "code",
   "execution_count": 17,
   "id": "0d602e18",
   "metadata": {
    "execution": {
     "iopub.execute_input": "2023-03-20T13:25:51.964869Z",
     "iopub.status.busy": "2023-03-20T13:25:51.963991Z",
     "iopub.status.idle": "2023-03-20T13:25:51.979085Z",
     "shell.execute_reply": "2023-03-20T13:25:51.978044Z"
    },
    "papermill": {
     "duration": 0.032322,
     "end_time": "2023-03-20T13:25:51.981359",
     "exception": false,
     "start_time": "2023-03-20T13:25:51.949037",
     "status": "completed"
    },
    "tags": []
   },
   "outputs": [],
   "source": [
    "X_train[np.isnan(X_train)] = 0\n",
    "X_test[np.isnan(X_test)] = 0"
   ]
  },
  {
   "cell_type": "code",
   "execution_count": 18,
   "id": "45c5102c",
   "metadata": {
    "execution": {
     "iopub.execute_input": "2023-03-20T13:25:52.010315Z",
     "iopub.status.busy": "2023-03-20T13:25:52.009534Z",
     "iopub.status.idle": "2023-03-20T13:25:54.912794Z",
     "shell.execute_reply": "2023-03-20T13:25:54.911854Z"
    },
    "papermill": {
     "duration": 2.920692,
     "end_time": "2023-03-20T13:25:54.916308",
     "exception": false,
     "start_time": "2023-03-20T13:25:51.995616",
     "status": "completed"
    },
    "tags": []
   },
   "outputs": [],
   "source": [
    "save_time_series_txt(f'{data_path}/ts_train.txt', ts_train)\n",
    "save_time_series_txt(f'{data_path}/ts_test.txt', ts_test)"
   ]
  },
  {
   "cell_type": "code",
   "execution_count": 19,
   "id": "39830f37",
   "metadata": {
    "execution": {
     "iopub.execute_input": "2023-03-20T13:25:54.981632Z",
     "iopub.status.busy": "2023-03-20T13:25:54.981086Z",
     "iopub.status.idle": "2023-03-20T13:25:55.092251Z",
     "shell.execute_reply": "2023-03-20T13:25:55.091416Z"
    },
    "papermill": {
     "duration": 0.147281,
     "end_time": "2023-03-20T13:25:55.095536",
     "exception": false,
     "start_time": "2023-03-20T13:25:54.948255",
     "status": "completed"
    },
    "tags": []
   },
   "outputs": [],
   "source": [
    "with open(f'{data_path}/X_train.npy', 'wb') as f:\n",
    "    np.save(f, X_train, allow_pickle=True)\n",
    "\n",
    "with open(f'{data_path}/X_test.npy', 'wb') as f:\n",
    "    np.save(f, X_test, allow_pickle=True)"
   ]
  },
  {
   "cell_type": "code",
   "execution_count": 20,
   "id": "795fd2be",
   "metadata": {
    "execution": {
     "iopub.execute_input": "2023-03-20T13:25:55.158822Z",
     "iopub.status.busy": "2023-03-20T13:25:55.158260Z",
     "iopub.status.idle": "2023-03-20T13:25:55.169023Z",
     "shell.execute_reply": "2023-03-20T13:25:55.167338Z"
    },
    "papermill": {
     "duration": 0.045438,
     "end_time": "2023-03-20T13:25:55.172411",
     "exception": false,
     "start_time": "2023-03-20T13:25:55.126973",
     "status": "completed"
    },
    "tags": []
   },
   "outputs": [],
   "source": [
    "with open(f'{data_path}/y_train.npy', 'wb') as f:\n",
    "    np.save(f, y_train, allow_pickle=True)\n",
    "\n",
    "with open(f'{data_path}/y_test.npy', 'wb') as f:\n",
    "    np.save(f, y_test, allow_pickle=True)"
   ]
  },
  {
   "cell_type": "code",
   "execution_count": 21,
   "id": "08bda153",
   "metadata": {
    "execution": {
     "iopub.execute_input": "2023-03-20T13:25:55.215987Z",
     "iopub.status.busy": "2023-03-20T13:25:55.215489Z",
     "iopub.status.idle": "2023-03-20T13:25:55.349283Z",
     "shell.execute_reply": "2023-03-20T13:25:55.348200Z"
    },
    "papermill": {
     "duration": 0.150752,
     "end_time": "2023-03-20T13:25:55.351387",
     "exception": false,
     "start_time": "2023-03-20T13:25:55.200635",
     "status": "completed"
    },
    "tags": []
   },
   "outputs": [
    {
     "data": {
      "text/plain": [
       "[<matplotlib.lines.Line2D at 0x7f6d23bbb730>]"
      ]
     },
     "execution_count": 21,
     "metadata": {},
     "output_type": "execute_result"
    },
    {
     "data": {
      "image/png": "[encoded data removed]",
      "text/plain": [
       "<Figure size 640x480 with 1 Axes>"
      ]
     },
     "metadata": {},
     "output_type": "display_data"
    }
   ],
   "source": [
    "plt.plot(random.choice(ts_train))"
   ]
  },
  {
   "cell_type": "code",
   "execution_count": 22,
   "id": "98ce9d63",
   "metadata": {
    "execution": {
     "iopub.execute_input": "2023-03-20T13:25:55.377702Z",
     "iopub.status.busy": "2023-03-20T13:25:55.377415Z",
     "iopub.status.idle": "2023-03-20T13:25:55.382870Z",
     "shell.execute_reply": "2023-03-20T13:25:55.381933Z"
    },
    "papermill": {
     "duration": 0.02081,
     "end_time": "2023-03-20T13:25:55.384743",
     "exception": false,
     "start_time": "2023-03-20T13:25:55.363933",
     "status": "completed"
    },
    "tags": []
   },
   "outputs": [],
   "source": [
    "# Parameters that require knowing if it's binary or multiclass (LightGBM, metrics)\n",
    "if len(set(y)) == 2:\n",
    "    avg_par = 'macro'\n",
    "    obj_par = 'binary'\n",
    "elif len(set(y)) > 2:\n",
    "    avg_par = 'weighted'\n",
    "    obj_par = 'multiclass'"
   ]
  },
  {
   "cell_type": "markdown",
   "id": "228f1b39",
   "metadata": {
    "papermill": {
     "duration": 0.011639,
     "end_time": "2023-03-20T13:25:55.408921",
     "exception": false,
     "start_time": "2023-03-20T13:25:55.397282",
     "status": "completed"
    },
    "tags": []
   },
   "source": [
    "## Classification"
   ]
  },
  {
   "cell_type": "code",
   "execution_count": 23,
   "id": "34bb73ff",
   "metadata": {
    "execution": {
     "iopub.execute_input": "2023-03-20T13:25:55.451989Z",
     "iopub.status.busy": "2023-03-20T13:25:55.451707Z",
     "iopub.status.idle": "2023-03-20T13:25:55.585657Z",
     "shell.execute_reply": "2023-03-20T13:25:55.584796Z"
    },
    "papermill": {
     "duration": 0.150375,
     "end_time": "2023-03-20T13:25:55.587498",
     "exception": false,
     "start_time": "2023-03-20T13:25:55.437123",
     "status": "completed"
    },
    "tags": []
   },
   "outputs": [],
   "source": [
    "from sklearn.tree import DecisionTreeClassifier\n",
    "import lightgbm as lgbm\n",
    "from sklearn.ensemble import RandomForestClassifier"
   ]
  },
  {
   "cell_type": "code",
   "execution_count": 24,
   "id": "02aaee18",
   "metadata": {
    "execution": {
     "iopub.execute_input": "2023-03-20T13:25:55.614110Z",
     "iopub.status.busy": "2023-03-20T13:25:55.613818Z",
     "iopub.status.idle": "2023-03-20T13:25:55.618048Z",
     "shell.execute_reply": "2023-03-20T13:25:55.617191Z"
    },
    "papermill": {
     "duration": 0.018688,
     "end_time": "2023-03-20T13:25:55.619727",
     "exception": false,
     "start_time": "2023-03-20T13:25:55.601039",
     "status": "completed"
    },
    "tags": []
   },
   "outputs": [],
   "source": [
    "metrics_data = {}"
   ]
  },
  {
   "cell_type": "markdown",
   "id": "b49309ed",
   "metadata": {
    "papermill": {
     "duration": 0.012885,
     "end_time": "2023-03-20T13:25:55.644702",
     "exception": false,
     "start_time": "2023-03-20T13:25:55.631817",
     "status": "completed"
    },
    "tags": []
   },
   "source": [
    "### Baseline: global features (No Time Series)"
   ]
  },
  {
   "cell_type": "code",
   "execution_count": 25,
   "id": "35eb9f66",
   "metadata": {
    "execution": {
     "iopub.execute_input": "2023-03-20T13:25:55.669984Z",
     "iopub.status.busy": "2023-03-20T13:25:55.669698Z",
     "iopub.status.idle": "2023-03-20T13:25:55.674179Z",
     "shell.execute_reply": "2023-03-20T13:25:55.673285Z"
    },
    "papermill": {
     "duration": 0.019187,
     "end_time": "2023-03-20T13:25:55.675879",
     "exception": false,
     "start_time": "2023-03-20T13:25:55.656692",
     "status": "completed"
    },
    "tags": []
   },
   "outputs": [],
   "source": [
    "metrics_data['Global'] = {}"
   ]
  },
  {
   "cell_type": "markdown",
   "id": "29cd5044",
   "metadata": {
    "papermill": {
     "duration": 0.011723,
     "end_time": "2023-03-20T13:25:55.699656",
     "exception": false,
     "start_time": "2023-03-20T13:25:55.687933",
     "status": "completed"
    },
    "tags": []
   },
   "source": [
    "**Decision Tree**"
   ]
  },
  {
   "cell_type": "code",
   "execution_count": 26,
   "id": "9ef4f037",
   "metadata": {
    "execution": {
     "iopub.execute_input": "2023-03-20T13:25:55.726490Z",
     "iopub.status.busy": "2023-03-20T13:25:55.725331Z",
     "iopub.status.idle": "2023-03-20T13:26:07.249310Z",
     "shell.execute_reply": "2023-03-20T13:26:07.248514Z"
    },
    "papermill": {
     "duration": 11.539185,
     "end_time": "2023-03-20T13:26:07.251106",
     "exception": false,
     "start_time": "2023-03-20T13:25:55.711921",
     "status": "completed"
    },
    "tags": []
   },
   "outputs": [
    {
     "data": {
      "text/html": [
       "<style>#sk-container-id-1 {color: black;background-color: white;}#sk-container-id-1 pre{padding: 0;}#sk-container-id-1 div.sk-toggleable {background-color: white;}#sk-container-id-1 label.sk-toggleable__label {cursor: pointer;display: block;width: 100%;margin-bottom: 0;padding: 0.3em;box-sizing: border-box;text-align: center;}#sk-container-id-1 label.sk-toggleable__label-arrow:before {content: \"▸\";float: left;margin-right: 0.25em;color: #696969;}#sk-container-id-1 label.sk-toggleable__label-arrow:hover:before {color: black;}#sk-container-id-1 div.sk-estimator:hover label.sk-toggleable__label-arrow:before {color: black;}#sk-container-id-1 div.sk-toggleable__content {max-height: 0;max-width: 0;overflow: hidden;text-align: left;background-color: #f0f8ff;}#sk-container-id-1 div.sk-toggleable__content pre {margin: 0.2em;color: black;border-radius: 0.25em;background-color: #f0f8ff;}#sk-container-id-1 input.sk-toggleable__control:checked~div.sk-toggleable__content {max-height: 200px;max-width: 100%;overflow: auto;}#sk-container-id-1 input.sk-toggleable__control:checked~label.sk-toggleable__label-arrow:before {content: \"▾\";}#sk-container-id-1 div.sk-estimator input.sk-toggleable__control:checked~label.sk-toggleable__label {background-color: #d4ebff;}#sk-container-id-1 div.sk-label input.sk-toggleable__control:checked~label.sk-toggleable__label {background-color: #d4ebff;}#sk-container-id-1 input.sk-hidden--visually {border: 0;clip: rect(1px 1px 1px 1px);clip: rect(1px, 1px, 1px, 1px);height: 1px;margin: -1px;overflow: hidden;padding: 0;position: absolute;width: 1px;}#sk-container-id-1 div.sk-estimator {font-family: monospace;background-color: #f0f8ff;border: 1px dotted black;border-radius: 0.25em;box-sizing: border-box;margin-bottom: 0.5em;}#sk-container-id-1 div.sk-estimator:hover {background-color: #d4ebff;}#sk-container-id-1 div.sk-parallel-item::after {content: \"\";width: 100%;border-bottom: 1px solid gray;flex-grow: 1;}#sk-container-id-1 div.sk-label:hover label.sk-toggleable__label {background-color: #d4ebff;}#sk-container-id-1 div.sk-serial::before {content: \"\";position: absolute;border-left: 1px solid gray;box-sizing: border-box;top: 0;bottom: 0;left: 50%;z-index: 0;}#sk-container-id-1 div.sk-serial {display: flex;flex-direction: column;align-items: center;background-color: white;padding-right: 0.2em;padding-left: 0.2em;position: relative;}#sk-container-id-1 div.sk-item {position: relative;z-index: 1;}#sk-container-id-1 div.sk-parallel {display: flex;align-items: stretch;justify-content: center;background-color: white;position: relative;}#sk-container-id-1 div.sk-item::before, #sk-container-id-1 div.sk-parallel-item::before {content: \"\";position: absolute;border-left: 1px solid gray;box-sizing: border-box;top: 0;bottom: 0;left: 50%;z-index: -1;}#sk-container-id-1 div.sk-parallel-item {display: flex;flex-direction: column;z-index: 1;position: relative;background-color: white;}#sk-container-id-1 div.sk-parallel-item:first-child::after {align-self: flex-end;width: 50%;}#sk-container-id-1 div.sk-parallel-item:last-child::after {align-self: flex-start;width: 50%;}#sk-container-id-1 div.sk-parallel-item:only-child::after {width: 0;}#sk-container-id-1 div.sk-dashed-wrapped {border: 1px dashed gray;margin: 0 0.4em 0.5em 0.4em;box-sizing: border-box;padding-bottom: 0.4em;background-color: white;}#sk-container-id-1 div.sk-label label {font-family: monospace;font-weight: bold;display: inline-block;line-height: 1.2em;}#sk-container-id-1 div.sk-label-container {text-align: center;}#sk-container-id-1 div.sk-container {/* jupyter's `normalize.less` sets `[hidden] { display: none; }` but bootstrap.min.css set `[hidden] { display: none !important; }` so we also need the `!important` here to be able to override the default hidden behavior on the sphinx rendered scikit-learn.org. See: https://github.com/scikit-learn/scikit-learn/issues/21755 */display: inline-block !important;position: relative;}#sk-container-id-1 div.sk-text-repr-fallback {display: none;}</style><div id=\"sk-container-id-1\" class=\"sk-top-container\"><div class=\"sk-text-repr-fallback\"><pre>DecisionTreeClassifier()</pre><b>In a Jupyter environment, please rerun this cell to show the HTML representation or trust the notebook. <br />On GitHub, the HTML representation is unable to render, please try loading this page with nbviewer.org.</b></div><div class=\"sk-container\" hidden><div class=\"sk-item\"><div class=\"sk-estimator sk-toggleable\"><input class=\"sk-toggleable__control sk-hidden--visually\" id=\"sk-estimator-id-1\" type=\"checkbox\" checked><label for=\"sk-estimator-id-1\" class=\"sk-toggleable__label sk-toggleable__label-arrow\">DecisionTreeClassifier</label><div class=\"sk-toggleable__content\"><pre>DecisionTreeClassifier()</pre></div></div></div></div></div>"
      ],
      "text/plain": [
       "DecisionTreeClassifier()"
      ]
     },
     "execution_count": 26,
     "metadata": {},
     "output_type": "execute_result"
    }
   ],
   "source": [
    "clf = DecisionTreeClassifier()\n",
    "clf.fit(X_train, y_train)"
   ]
  },
  {
   "cell_type": "code",
   "execution_count": 27,
   "id": "9c50acc4",
   "metadata": {
    "execution": {
     "iopub.execute_input": "2023-03-20T13:26:07.280853Z",
     "iopub.status.busy": "2023-03-20T13:26:07.280441Z",
     "iopub.status.idle": "2023-03-20T13:26:07.410263Z",
     "shell.execute_reply": "2023-03-20T13:26:07.409025Z"
    },
    "papermill": {
     "duration": 0.145847,
     "end_time": "2023-03-20T13:26:07.412429",
     "exception": false,
     "start_time": "2023-03-20T13:26:07.266582",
     "status": "completed"
    },
    "tags": []
   },
   "outputs": [
    {
     "name": "stdout",
     "output_type": "stream",
     "text": [
      "              precision    recall  f1-score   support\n",
      "\n",
      "         pop       0.58      0.59      0.59      2400\n",
      "        rock       0.58      0.58      0.58      2400\n",
      "\n",
      "    accuracy                           0.58      4800\n",
      "   macro avg       0.58      0.58      0.58      4800\n",
      "weighted avg       0.58      0.58      0.58      4800\n",
      "\n"
     ]
    }
   ],
   "source": [
    "y_pred = clf.predict(X_test)\n",
    "print(classification_report(y_test, y_pred))"
   ]
  },
  {
   "cell_type": "code",
   "execution_count": 28,
   "id": "8866c3c3",
   "metadata": {
    "execution": {
     "iopub.execute_input": "2023-03-20T13:26:07.437792Z",
     "iopub.status.busy": "2023-03-20T13:26:07.437513Z",
     "iopub.status.idle": "2023-03-20T13:26:07.555464Z",
     "shell.execute_reply": "2023-03-20T13:26:07.554578Z"
    },
    "papermill": {
     "duration": 0.132802,
     "end_time": "2023-03-20T13:26:07.557208",
     "exception": false,
     "start_time": "2023-03-20T13:26:07.424406",
     "status": "completed"
    },
    "tags": []
   },
   "outputs": [],
   "source": [
    "acc = accuracy_score(y_test, y_pred)\n",
    "pre = precision_score(y_test, y_pred, average=avg_par)\n",
    "rec = recall_score(y_test, y_pred, average=avg_par)\n",
    "f1 = f1_score(y_test, y_pred, average=avg_par)\n",
    "\n",
    "metrics_data['Global']['DecisionTree'] = {'Accuracy': acc, 'Precision': pre, 'Recall': rec, 'F1': f1}"
   ]
  },
  {
   "cell_type": "markdown",
   "id": "28aa5a63",
   "metadata": {
    "papermill": {
     "duration": 0.011812,
     "end_time": "2023-03-20T13:26:07.581158",
     "exception": false,
     "start_time": "2023-03-20T13:26:07.569346",
     "status": "completed"
    },
    "tags": []
   },
   "source": [
    "**Random Forest**"
   ]
  },
  {
   "cell_type": "code",
   "execution_count": 29,
   "id": "0e5e2310",
   "metadata": {
    "execution": {
     "iopub.execute_input": "2023-03-20T13:26:07.607176Z",
     "iopub.status.busy": "2023-03-20T13:26:07.606897Z",
     "iopub.status.idle": "2023-03-20T13:26:43.042782Z",
     "shell.execute_reply": "2023-03-20T13:26:43.041667Z"
    },
    "papermill": {
     "duration": 35.462373,
     "end_time": "2023-03-20T13:26:43.055900",
     "exception": false,
     "start_time": "2023-03-20T13:26:07.593527",
     "status": "completed"
    },
    "tags": []
   },
   "outputs": [
    {
     "data": {
      "text/html": [
       "<style>#sk-container-id-2 {color: black;background-color: white;}#sk-container-id-2 pre{padding: 0;}#sk-container-id-2 div.sk-toggleable {background-color: white;}#sk-container-id-2 label.sk-toggleable__label {cursor: pointer;display: block;width: 100%;margin-bottom: 0;padding: 0.3em;box-sizing: border-box;text-align: center;}#sk-container-id-2 label.sk-toggleable__label-arrow:before {content: \"▸\";float: left;margin-right: 0.25em;color: #696969;}#sk-container-id-2 label.sk-toggleable__label-arrow:hover:before {color: black;}#sk-container-id-2 div.sk-estimator:hover label.sk-toggleable__label-arrow:before {color: black;}#sk-container-id-2 div.sk-toggleable__content {max-height: 0;max-width: 0;overflow: hidden;text-align: left;background-color: #f0f8ff;}#sk-container-id-2 div.sk-toggleable__content pre {margin: 0.2em;color: black;border-radius: 0.25em;background-color: #f0f8ff;}#sk-container-id-2 input.sk-toggleable__control:checked~div.sk-toggleable__content {max-height: 200px;max-width: 100%;overflow: auto;}#sk-container-id-2 input.sk-toggleable__control:checked~label.sk-toggleable__label-arrow:before {content: \"▾\";}#sk-container-id-2 div.sk-estimator input.sk-toggleable__control:checked~label.sk-toggleable__label {background-color: #d4ebff;}#sk-container-id-2 div.sk-label input.sk-toggleable__control:checked~label.sk-toggleable__label {background-color: #d4ebff;}#sk-container-id-2 input.sk-hidden--visually {border: 0;clip: rect(1px 1px 1px 1px);clip: rect(1px, 1px, 1px, 1px);height: 1px;margin: -1px;overflow: hidden;padding: 0;position: absolute;width: 1px;}#sk-container-id-2 div.sk-estimator {font-family: monospace;background-color: #f0f8ff;border: 1px dotted black;border-radius: 0.25em;box-sizing: border-box;margin-bottom: 0.5em;}#sk-container-id-2 div.sk-estimator:hover {background-color: #d4ebff;}#sk-container-id-2 div.sk-parallel-item::after {content: \"\";width: 100%;border-bottom: 1px solid gray;flex-grow: 1;}#sk-container-id-2 div.sk-label:hover label.sk-toggleable__label {background-color: #d4ebff;}#sk-container-id-2 div.sk-serial::before {content: \"\";position: absolute;border-left: 1px solid gray;box-sizing: border-box;top: 0;bottom: 0;left: 50%;z-index: 0;}#sk-container-id-2 div.sk-serial {display: flex;flex-direction: column;align-items: center;background-color: white;padding-right: 0.2em;padding-left: 0.2em;position: relative;}#sk-container-id-2 div.sk-item {position: relative;z-index: 1;}#sk-container-id-2 div.sk-parallel {display: flex;align-items: stretch;justify-content: center;background-color: white;position: relative;}#sk-container-id-2 div.sk-item::before, #sk-container-id-2 div.sk-parallel-item::before {content: \"\";position: absolute;border-left: 1px solid gray;box-sizing: border-box;top: 0;bottom: 0;left: 50%;z-index: -1;}#sk-container-id-2 div.sk-parallel-item {display: flex;flex-direction: column;z-index: 1;position: relative;background-color: white;}#sk-container-id-2 div.sk-parallel-item:first-child::after {align-self: flex-end;width: 50%;}#sk-container-id-2 div.sk-parallel-item:last-child::after {align-self: flex-start;width: 50%;}#sk-container-id-2 div.sk-parallel-item:only-child::after {width: 0;}#sk-container-id-2 div.sk-dashed-wrapped {border: 1px dashed gray;margin: 0 0.4em 0.5em 0.4em;box-sizing: border-box;padding-bottom: 0.4em;background-color: white;}#sk-container-id-2 div.sk-label label {font-family: monospace;font-weight: bold;display: inline-block;line-height: 1.2em;}#sk-container-id-2 div.sk-label-container {text-align: center;}#sk-container-id-2 div.sk-container {/* jupyter's `normalize.less` sets `[hidden] { display: none; }` but bootstrap.min.css set `[hidden] { display: none !important; }` so we also need the `!important` here to be able to override the default hidden behavior on the sphinx rendered scikit-learn.org. See: https://github.com/scikit-learn/scikit-learn/issues/21755 */display: inline-block !important;position: relative;}#sk-container-id-2 div.sk-text-repr-fallback {display: none;}</style><div id=\"sk-container-id-2\" class=\"sk-top-container\"><div class=\"sk-text-repr-fallback\"><pre>RandomForestClassifier(random_state=42)</pre><b>In a Jupyter environment, please rerun this cell to show the HTML representation or trust the notebook. <br />On GitHub, the HTML representation is unable to render, please try loading this page with nbviewer.org.</b></div><div class=\"sk-container\" hidden><div class=\"sk-item\"><div class=\"sk-estimator sk-toggleable\"><input class=\"sk-toggleable__control sk-hidden--visually\" id=\"sk-estimator-id-2\" type=\"checkbox\" checked><label for=\"sk-estimator-id-2\" class=\"sk-toggleable__label sk-toggleable__label-arrow\">RandomForestClassifier</label><div class=\"sk-toggleable__content\"><pre>RandomForestClassifier(random_state=42)</pre></div></div></div></div></div>"
      ],
      "text/plain": [
       "RandomForestClassifier(random_state=42)"
      ]
     },
     "execution_count": 29,
     "metadata": {},
     "output_type": "execute_result"
    }
   ],
   "source": [
    "clf = RandomForestClassifier(random_state=42)\n",
    "clf.fit(X_train, y_train)"
   ]
  },
  {
   "cell_type": "code",
   "execution_count": 30,
   "id": "4bd1304b",
   "metadata": {
    "execution": {
     "iopub.execute_input": "2023-03-20T13:26:43.081388Z",
     "iopub.status.busy": "2023-03-20T13:26:43.081114Z",
     "iopub.status.idle": "2023-03-20T13:26:43.368945Z",
     "shell.execute_reply": "2023-03-20T13:26:43.367911Z"
    },
    "papermill": {
     "duration": 0.302782,
     "end_time": "2023-03-20T13:26:43.370680",
     "exception": false,
     "start_time": "2023-03-20T13:26:43.067898",
     "status": "completed"
    },
    "tags": []
   },
   "outputs": [
    {
     "name": "stdout",
     "output_type": "stream",
     "text": [
      "              precision    recall  f1-score   support\n",
      "\n",
      "         pop       0.67      0.68      0.68      2400\n",
      "        rock       0.68      0.66      0.67      2400\n",
      "\n",
      "    accuracy                           0.67      4800\n",
      "   macro avg       0.67      0.67      0.67      4800\n",
      "weighted avg       0.67      0.67      0.67      4800\n",
      "\n"
     ]
    }
   ],
   "source": [
    "y_pred = clf.predict(X_test)\n",
    "print(classification_report(y_test, y_pred))"
   ]
  },
  {
   "cell_type": "code",
   "execution_count": 31,
   "id": "43174ba2",
   "metadata": {
    "execution": {
     "iopub.execute_input": "2023-03-20T13:26:43.443668Z",
     "iopub.status.busy": "2023-03-20T13:26:43.443329Z",
     "iopub.status.idle": "2023-03-20T13:26:43.573272Z",
     "shell.execute_reply": "2023-03-20T13:26:43.572615Z"
    },
    "papermill": {
     "duration": 0.169732,
     "end_time": "2023-03-20T13:26:43.576011",
     "exception": false,
     "start_time": "2023-03-20T13:26:43.406279",
     "status": "completed"
    },
    "tags": []
   },
   "outputs": [],
   "source": [
    "acc = accuracy_score(y_test, y_pred)\n",
    "pre = precision_score(y_test, y_pred, average=avg_par)\n",
    "rec = recall_score(y_test, y_pred, average=avg_par)\n",
    "f1 = f1_score(y_test, y_pred, average=avg_par)\n",
    "\n",
    "metrics_data['Global']['RandomForest'] = {'Accuracy': acc, 'Precision': pre, 'Recall': rec, 'F1': f1}"
   ]
  },
  {
   "cell_type": "markdown",
   "id": "22c98ac5",
   "metadata": {
    "papermill": {
     "duration": 0.033903,
     "end_time": "2023-03-20T13:26:43.643452",
     "exception": false,
     "start_time": "2023-03-20T13:26:43.609549",
     "status": "completed"
    },
    "tags": []
   },
   "source": [
    "**LightGBM**"
   ]
  },
  {
   "cell_type": "code",
   "execution_count": 32,
   "id": "c93b818c",
   "metadata": {
    "execution": {
     "iopub.execute_input": "2023-03-20T13:26:43.674464Z",
     "iopub.status.busy": "2023-03-20T13:26:43.673796Z",
     "iopub.status.idle": "2023-03-20T13:26:50.405862Z",
     "shell.execute_reply": "2023-03-20T13:26:50.405152Z"
    },
    "papermill": {
     "duration": 6.747214,
     "end_time": "2023-03-20T13:26:50.407627",
     "exception": false,
     "start_time": "2023-03-20T13:26:43.660413",
     "status": "completed"
    },
    "tags": []
   },
   "outputs": [
    {
     "data": {
      "text/html": [
       "<style>#sk-container-id-3 {color: black;background-color: white;}#sk-container-id-3 pre{padding: 0;}#sk-container-id-3 div.sk-toggleable {background-color: white;}#sk-container-id-3 label.sk-toggleable__label {cursor: pointer;display: block;width: 100%;margin-bottom: 0;padding: 0.3em;box-sizing: border-box;text-align: center;}#sk-container-id-3 label.sk-toggleable__label-arrow:before {content: \"▸\";float: left;margin-right: 0.25em;color: #696969;}#sk-container-id-3 label.sk-toggleable__label-arrow:hover:before {color: black;}#sk-container-id-3 div.sk-estimator:hover label.sk-toggleable__label-arrow:before {color: black;}#sk-container-id-3 div.sk-toggleable__content {max-height: 0;max-width: 0;overflow: hidden;text-align: left;background-color: #f0f8ff;}#sk-container-id-3 div.sk-toggleable__content pre {margin: 0.2em;color: black;border-radius: 0.25em;background-color: #f0f8ff;}#sk-container-id-3 input.sk-toggleable__control:checked~div.sk-toggleable__content {max-height: 200px;max-width: 100%;overflow: auto;}#sk-container-id-3 input.sk-toggleable__control:checked~label.sk-toggleable__label-arrow:before {content: \"▾\";}#sk-container-id-3 div.sk-estimator input.sk-toggleable__control:checked~label.sk-toggleable__label {background-color: #d4ebff;}#sk-container-id-3 div.sk-label input.sk-toggleable__control:checked~label.sk-toggleable__label {background-color: #d4ebff;}#sk-container-id-3 input.sk-hidden--visually {border: 0;clip: rect(1px 1px 1px 1px);clip: rect(1px, 1px, 1px, 1px);height: 1px;margin: -1px;overflow: hidden;padding: 0;position: absolute;width: 1px;}#sk-container-id-3 div.sk-estimator {font-family: monospace;background-color: #f0f8ff;border: 1px dotted black;border-radius: 0.25em;box-sizing: border-box;margin-bottom: 0.5em;}#sk-container-id-3 div.sk-estimator:hover {background-color: #d4ebff;}#sk-container-id-3 div.sk-parallel-item::after {content: \"\";width: 100%;border-bottom: 1px solid gray;flex-grow: 1;}#sk-container-id-3 div.sk-label:hover label.sk-toggleable__label {background-color: #d4ebff;}#sk-container-id-3 div.sk-serial::before {content: \"\";position: absolute;border-left: 1px solid gray;box-sizing: border-box;top: 0;bottom: 0;left: 50%;z-index: 0;}#sk-container-id-3 div.sk-serial {display: flex;flex-direction: column;align-items: center;background-color: white;padding-right: 0.2em;padding-left: 0.2em;position: relative;}#sk-container-id-3 div.sk-item {position: relative;z-index: 1;}#sk-container-id-3 div.sk-parallel {display: flex;align-items: stretch;justify-content: center;background-color: white;position: relative;}#sk-container-id-3 div.sk-item::before, #sk-container-id-3 div.sk-parallel-item::before {content: \"\";position: absolute;border-left: 1px solid gray;box-sizing: border-box;top: 0;bottom: 0;left: 50%;z-index: -1;}#sk-container-id-3 div.sk-parallel-item {display: flex;flex-direction: column;z-index: 1;position: relative;background-color: white;}#sk-container-id-3 div.sk-parallel-item:first-child::after {align-self: flex-end;width: 50%;}#sk-container-id-3 div.sk-parallel-item:last-child::after {align-self: flex-start;width: 50%;}#sk-container-id-3 div.sk-parallel-item:only-child::after {width: 0;}#sk-container-id-3 div.sk-dashed-wrapped {border: 1px dashed gray;margin: 0 0.4em 0.5em 0.4em;box-sizing: border-box;padding-bottom: 0.4em;background-color: white;}#sk-container-id-3 div.sk-label label {font-family: monospace;font-weight: bold;display: inline-block;line-height: 1.2em;}#sk-container-id-3 div.sk-label-container {text-align: center;}#sk-container-id-3 div.sk-container {/* jupyter's `normalize.less` sets `[hidden] { display: none; }` but bootstrap.min.css set `[hidden] { display: none !important; }` so we also need the `!important` here to be able to override the default hidden behavior on the sphinx rendered scikit-learn.org. See: https://github.com/scikit-learn/scikit-learn/issues/21755 */display: inline-block !important;position: relative;}#sk-container-id-3 div.sk-text-repr-fallback {display: none;}</style><div id=\"sk-container-id-3\" class=\"sk-top-container\"><div class=\"sk-text-repr-fallback\"><pre>LGBMClassifier(objective=&#x27;binary&#x27;)</pre><b>In a Jupyter environment, please rerun this cell to show the HTML representation or trust the notebook. <br />On GitHub, the HTML representation is unable to render, please try loading this page with nbviewer.org.</b></div><div class=\"sk-container\" hidden><div class=\"sk-item\"><div class=\"sk-estimator sk-toggleable\"><input class=\"sk-toggleable__control sk-hidden--visually\" id=\"sk-estimator-id-3\" type=\"checkbox\" checked><label for=\"sk-estimator-id-3\" class=\"sk-toggleable__label sk-toggleable__label-arrow\">LGBMClassifier</label><div class=\"sk-toggleable__content\"><pre>LGBMClassifier(objective=&#x27;binary&#x27;)</pre></div></div></div></div></div>"
      ],
      "text/plain": [
       "LGBMClassifier(objective='binary')"
      ]
     },
     "execution_count": 32,
     "metadata": {},
     "output_type": "execute_result"
    }
   ],
   "source": [
    "clf = lgbm.LGBMClassifier(objective=obj_par) \n",
    "clf.fit(X_train, y_train)"
   ]
  },
  {
   "cell_type": "code",
   "execution_count": 33,
   "id": "600a663a",
   "metadata": {
    "execution": {
     "iopub.execute_input": "2023-03-20T13:26:50.438308Z",
     "iopub.status.busy": "2023-03-20T13:26:50.437948Z",
     "iopub.status.idle": "2023-03-20T13:26:50.582000Z",
     "shell.execute_reply": "2023-03-20T13:26:50.581237Z"
    },
    "papermill": {
     "duration": 0.162038,
     "end_time": "2023-03-20T13:26:50.584706",
     "exception": false,
     "start_time": "2023-03-20T13:26:50.422668",
     "status": "completed"
    },
    "tags": []
   },
   "outputs": [
    {
     "name": "stdout",
     "output_type": "stream",
     "text": [
      "              precision    recall  f1-score   support\n",
      "\n",
      "         pop       0.68      0.69      0.68      2400\n",
      "        rock       0.68      0.67      0.68      2400\n",
      "\n",
      "    accuracy                           0.68      4800\n",
      "   macro avg       0.68      0.68      0.68      4800\n",
      "weighted avg       0.68      0.68      0.68      4800\n",
      "\n"
     ]
    }
   ],
   "source": [
    "y_pred = clf.predict(X_test)\n",
    "print(classification_report(y_test, y_pred))"
   ]
  },
  {
   "cell_type": "code",
   "execution_count": 34,
   "id": "508d831d",
   "metadata": {
    "execution": {
     "iopub.execute_input": "2023-03-20T13:26:50.649921Z",
     "iopub.status.busy": "2023-03-20T13:26:50.648936Z",
     "iopub.status.idle": "2023-03-20T13:26:50.784954Z",
     "shell.execute_reply": "2023-03-20T13:26:50.783778Z"
    },
    "papermill": {
     "duration": 0.17209,
     "end_time": "2023-03-20T13:26:50.788112",
     "exception": false,
     "start_time": "2023-03-20T13:26:50.616022",
     "status": "completed"
    },
    "tags": []
   },
   "outputs": [],
   "source": [
    "acc = accuracy_score(y_test, y_pred)\n",
    "pre = precision_score(y_test, y_pred, average=avg_par)\n",
    "rec = recall_score(y_test, y_pred, average=avg_par)\n",
    "f1 = f1_score(y_test, y_pred, average=avg_par)\n",
    "\n",
    "metrics_data['Global']['LightGBM'] = {'Accuracy': acc, 'Precision': pre, 'Recall': rec, 'F1': f1}"
   ]
  },
  {
   "cell_type": "markdown",
   "id": "14b86894",
   "metadata": {
    "papermill": {
     "duration": 0.012497,
     "end_time": "2023-03-20T13:26:50.816176",
     "exception": false,
     "start_time": "2023-03-20T13:26:50.803679",
     "status": "completed"
    },
    "tags": []
   },
   "source": [
    "### Time Series Classification"
   ]
  },
  {
   "cell_type": "markdown",
   "id": "84c55533",
   "metadata": {
    "papermill": {
     "duration": 0.030699,
     "end_time": "2023-03-20T13:26:50.867845",
     "exception": false,
     "start_time": "2023-03-20T13:26:50.837146",
     "status": "completed"
    },
    "tags": []
   },
   "source": [
    "#### Learning Shapelets"
   ]
  },
  {
   "cell_type": "code",
   "execution_count": 35,
   "id": "488d8eb7",
   "metadata": {
    "execution": {
     "iopub.execute_input": "2023-03-20T13:26:50.894636Z",
     "iopub.status.busy": "2023-03-20T13:26:50.894166Z",
     "iopub.status.idle": "2023-03-20T13:26:52.498769Z",
     "shell.execute_reply": "2023-03-20T13:26:52.497888Z"
    },
    "papermill": {
     "duration": 1.622018,
     "end_time": "2023-03-20T13:26:52.501980",
     "exception": false,
     "start_time": "2023-03-20T13:26:50.879962",
     "status": "completed"
    },
    "tags": []
   },
   "outputs": [
    {
     "name": "stderr",
     "output_type": "stream",
     "text": [
      "2023-03-20 14:26:50.900188: I tensorflow/core/platform/cpu_feature_guard.cc:193] This TensorFlow binary is optimized with oneAPI Deep Neural Network Library (oneDNN) to use the following CPU instructions in performance-critical operations:  AVX2 FMA\n",
      "To enable them in other operations, rebuild TensorFlow with the appropriate compiler flags.\n",
      "2023-03-20 14:26:51.044624: W tensorflow/compiler/xla/stream_executor/platform/default/dso_loader.cc:64] Could not load dynamic library 'libcudart.so.11.0'; dlerror: libcudart.so.11.0: cannot open shared object file: No such file or directory\n",
      "2023-03-20 14:26:51.044647: I tensorflow/compiler/xla/stream_executor/cuda/cudart_stub.cc:29] Ignore above cudart dlerror if you do not have a GPU set up on your machine.\n"
     ]
    },
    {
     "name": "stderr",
     "output_type": "stream",
     "text": [
      "2023-03-20 14:26:51.700007: W tensorflow/compiler/xla/stream_executor/platform/default/dso_loader.cc:64] Could not load dynamic library 'libnvinfer.so.7'; dlerror: libnvinfer.so.7: cannot open shared object file: No such file or directory\n",
      "2023-03-20 14:26:51.700214: W tensorflow/compiler/xla/stream_executor/platform/default/dso_loader.cc:64] Could not load dynamic library 'libnvinfer_plugin.so.7'; dlerror: libnvinfer_plugin.so.7: cannot open shared object file: No such file or directory\n",
      "2023-03-20 14:26:51.700224: W tensorflow/compiler/tf2tensorrt/utils/py_utils.cc:38] TF-TRT Warning: Cannot dlopen some TensorRT libraries. If you would like to use Nvidia GPU with TensorRT, please make sure the missing libraries mentioned above are installed properly.\n"
     ]
    }
   ],
   "source": [
    "from tslearn.shapelets import LearningShapelets, grabocka_params_to_shapelet_size_dict"
   ]
  },
  {
   "cell_type": "code",
   "execution_count": 36,
   "id": "eb677959",
   "metadata": {
    "execution": {
     "iopub.execute_input": "2023-03-20T13:26:52.557176Z",
     "iopub.status.busy": "2023-03-20T13:26:52.556685Z",
     "iopub.status.idle": "2023-03-20T13:26:52.562225Z",
     "shell.execute_reply": "2023-03-20T13:26:52.561020Z"
    },
    "papermill": {
     "duration": 0.029596,
     "end_time": "2023-03-20T13:26:52.565669",
     "exception": false,
     "start_time": "2023-03-20T13:26:52.536073",
     "status": "completed"
    },
    "tags": []
   },
   "outputs": [],
   "source": [
    "n_ts, ts_sz, _ = ts_train.shape\n",
    "n_classes = len(set(y_train))"
   ]
  },
  {
   "cell_type": "code",
   "execution_count": 37,
   "id": "776ed3dd",
   "metadata": {
    "execution": {
     "iopub.execute_input": "2023-03-20T13:26:52.596479Z",
     "iopub.status.busy": "2023-03-20T13:26:52.594973Z",
     "iopub.status.idle": "2023-03-20T13:26:52.603698Z",
     "shell.execute_reply": "2023-03-20T13:26:52.602831Z"
    },
    "papermill": {
     "duration": 0.025761,
     "end_time": "2023-03-20T13:26:52.605407",
     "exception": false,
     "start_time": "2023-03-20T13:26:52.579646",
     "status": "completed"
    },
    "tags": []
   },
   "outputs": [
    {
     "name": "stdout",
     "output_type": "stream",
     "text": [
      "n_ts 19200\n",
      "ts_sz 100\n",
      "n_classes 2\n",
      "shapelet_sizes {10: 6}\n"
     ]
    }
   ],
   "source": [
    "# Set the number of shapelets per size as done in the original paper\n",
    "g_shapelet_sizes = grabocka_params_to_shapelet_size_dict(n_ts=n_ts,\n",
    "                                                         ts_sz=ts_sz,\n",
    "                                                         n_classes=n_classes,\n",
    "                                                         l=0.1,\n",
    "                                                         r=1)\n",
    "\n",
    "print('n_ts', n_ts)\n",
    "print('ts_sz', ts_sz)\n",
    "print('n_classes', n_classes)\n",
    "print('shapelet_sizes', g_shapelet_sizes)"
   ]
  },
  {
   "cell_type": "code",
   "execution_count": 38,
   "id": "90ed707e",
   "metadata": {
    "execution": {
     "iopub.execute_input": "2023-03-20T13:26:52.635068Z",
     "iopub.status.busy": "2023-03-20T13:26:52.634797Z",
     "iopub.status.idle": "2023-03-20T13:26:52.641652Z",
     "shell.execute_reply": "2023-03-20T13:26:52.640788Z"
    },
    "papermill": {
     "duration": 0.023306,
     "end_time": "2023-03-20T13:26:52.643244",
     "exception": false,
     "start_time": "2023-03-20T13:26:52.619938",
     "status": "completed"
    },
    "tags": []
   },
   "outputs": [
    {
     "data": {
      "text/plain": [
       "{10: 6, 20: 6, 5: 6}"
      ]
     },
     "execution_count": 38,
     "metadata": {},
     "output_type": "execute_result"
    }
   ],
   "source": [
    "shapelet_sizes = {}\n",
    "for key in g_shapelet_sizes:\n",
    "    shapelet_sizes[key] = g_shapelet_sizes[key]\n",
    "    shapelet_sizes[key*2] = g_shapelet_sizes[key]\n",
    "    shapelet_sizes[key//2] = g_shapelet_sizes[key]\n",
    "shapelet_sizes"
   ]
  },
  {
   "cell_type": "code",
   "execution_count": 39,
   "id": "3507fb9c",
   "metadata": {
    "execution": {
     "iopub.execute_input": "2023-03-20T13:26:52.671913Z",
     "iopub.status.busy": "2023-03-20T13:26:52.671622Z",
     "iopub.status.idle": "2023-03-20T13:26:52.677500Z",
     "shell.execute_reply": "2023-03-20T13:26:52.676509Z"
    },
    "papermill": {
     "duration": 0.023421,
     "end_time": "2023-03-20T13:26:52.679497",
     "exception": false,
     "start_time": "2023-03-20T13:26:52.656076",
     "status": "completed"
    },
    "tags": []
   },
   "outputs": [
    {
     "name": "stderr",
     "output_type": "stream",
     "text": [
      "/home/mattiapggioli/lyrics2ts/.venv/lib/python3.9/site-packages/tslearn/shapelets/shapelets.py:354: FutureWarning: The default value for 'scale' is set to False in version 0.4 to ensure backward compatibility, but is likely to change in a future version.\n",
      "  warnings.warn(\"The default value for 'scale' is set to False \"\n"
     ]
    }
   ],
   "source": [
    "model = LearningShapelets(n_shapelets_per_size=shapelet_sizes,\n",
    "                          optimizer=\"adam\", \n",
    "                          weight_regularizer=.01, \n",
    "                          max_iter=max_iter, verbose=0, random_state=42)"
   ]
  },
  {
   "cell_type": "code",
   "execution_count": 40,
   "id": "73b1fe2e",
   "metadata": {
    "execution": {
     "iopub.execute_input": "2023-03-20T13:26:52.710818Z",
     "iopub.status.busy": "2023-03-20T13:26:52.710422Z",
     "iopub.status.idle": "2023-03-20T13:55:29.671662Z",
     "shell.execute_reply": "2023-03-20T13:55:29.670466Z"
    },
    "papermill": {
     "duration": 1716.99263,
     "end_time": "2023-03-20T13:55:29.687483",
     "exception": false,
     "start_time": "2023-03-20T13:26:52.694853",
     "status": "completed"
    },
    "tags": []
   },
   "outputs": [
    {
     "name": "stderr",
     "output_type": "stream",
     "text": [
      "2023-03-20 14:26:53.326286: W tensorflow/compiler/xla/stream_executor/platform/default/dso_loader.cc:64] Could not load dynamic library 'libcuda.so.1'; dlerror: libcuda.so.1: cannot open shared object file: No such file or directory\n",
      "2023-03-20 14:26:53.326312: W tensorflow/compiler/xla/stream_executor/cuda/cuda_driver.cc:265] failed call to cuInit: UNKNOWN ERROR (303)\n",
      "2023-03-20 14:26:53.326334: I tensorflow/compiler/xla/stream_executor/cuda/cuda_diagnostics.cc:156] kernel driver does not appear to be running on this host (mattiapggioli-ThinkPad-E595): /proc/driver/nvidia/version does not exist\n",
      "2023-03-20 14:26:53.326595: I tensorflow/core/platform/cpu_feature_guard.cc:193] This TensorFlow binary is optimized with oneAPI Deep Neural Network Library (oneDNN) to use the following CPU instructions in performance-critical operations:  AVX2 FMA\n",
      "To enable them in other operations, rebuild TensorFlow with the appropriate compiler flags.\n"
     ]
    },
    {
     "name": "stdout",
     "output_type": "stream",
     "text": [
      "CPU times: user 2h 32min 18s, sys: 7min 51s, total: 2h 40min 10s\n",
      "Wall time: 28min 36s\n"
     ]
    },
    {
     "data": {
      "text/html": [
       "<style>#sk-container-id-4 {color: black;background-color: white;}#sk-container-id-4 pre{padding: 0;}#sk-container-id-4 div.sk-toggleable {background-color: white;}#sk-container-id-4 label.sk-toggleable__label {cursor: pointer;display: block;width: 100%;margin-bottom: 0;padding: 0.3em;box-sizing: border-box;text-align: center;}#sk-container-id-4 label.sk-toggleable__label-arrow:before {content: \"▸\";float: left;margin-right: 0.25em;color: #696969;}#sk-container-id-4 label.sk-toggleable__label-arrow:hover:before {color: black;}#sk-container-id-4 div.sk-estimator:hover label.sk-toggleable__label-arrow:before {color: black;}#sk-container-id-4 div.sk-toggleable__content {max-height: 0;max-width: 0;overflow: hidden;text-align: left;background-color: #f0f8ff;}#sk-container-id-4 div.sk-toggleable__content pre {margin: 0.2em;color: black;border-radius: 0.25em;background-color: #f0f8ff;}#sk-container-id-4 input.sk-toggleable__control:checked~div.sk-toggleable__content {max-height: 200px;max-width: 100%;overflow: auto;}#sk-container-id-4 input.sk-toggleable__control:checked~label.sk-toggleable__label-arrow:before {content: \"▾\";}#sk-container-id-4 div.sk-estimator input.sk-toggleable__control:checked~label.sk-toggleable__label {background-color: #d4ebff;}#sk-container-id-4 div.sk-label input.sk-toggleable__control:checked~label.sk-toggleable__label {background-color: #d4ebff;}#sk-container-id-4 input.sk-hidden--visually {border: 0;clip: rect(1px 1px 1px 1px);clip: rect(1px, 1px, 1px, 1px);height: 1px;margin: -1px;overflow: hidden;padding: 0;position: absolute;width: 1px;}#sk-container-id-4 div.sk-estimator {font-family: monospace;background-color: #f0f8ff;border: 1px dotted black;border-radius: 0.25em;box-sizing: border-box;margin-bottom: 0.5em;}#sk-container-id-4 div.sk-estimator:hover {background-color: #d4ebff;}#sk-container-id-4 div.sk-parallel-item::after {content: \"\";width: 100%;border-bottom: 1px solid gray;flex-grow: 1;}#sk-container-id-4 div.sk-label:hover label.sk-toggleable__label {background-color: #d4ebff;}#sk-container-id-4 div.sk-serial::before {content: \"\";position: absolute;border-left: 1px solid gray;box-sizing: border-box;top: 0;bottom: 0;left: 50%;z-index: 0;}#sk-container-id-4 div.sk-serial {display: flex;flex-direction: column;align-items: center;background-color: white;padding-right: 0.2em;padding-left: 0.2em;position: relative;}#sk-container-id-4 div.sk-item {position: relative;z-index: 1;}#sk-container-id-4 div.sk-parallel {display: flex;align-items: stretch;justify-content: center;background-color: white;position: relative;}#sk-container-id-4 div.sk-item::before, #sk-container-id-4 div.sk-parallel-item::before {content: \"\";position: absolute;border-left: 1px solid gray;box-sizing: border-box;top: 0;bottom: 0;left: 50%;z-index: -1;}#sk-container-id-4 div.sk-parallel-item {display: flex;flex-direction: column;z-index: 1;position: relative;background-color: white;}#sk-container-id-4 div.sk-parallel-item:first-child::after {align-self: flex-end;width: 50%;}#sk-container-id-4 div.sk-parallel-item:last-child::after {align-self: flex-start;width: 50%;}#sk-container-id-4 div.sk-parallel-item:only-child::after {width: 0;}#sk-container-id-4 div.sk-dashed-wrapped {border: 1px dashed gray;margin: 0 0.4em 0.5em 0.4em;box-sizing: border-box;padding-bottom: 0.4em;background-color: white;}#sk-container-id-4 div.sk-label label {font-family: monospace;font-weight: bold;display: inline-block;line-height: 1.2em;}#sk-container-id-4 div.sk-label-container {text-align: center;}#sk-container-id-4 div.sk-container {/* jupyter's `normalize.less` sets `[hidden] { display: none; }` but bootstrap.min.css set `[hidden] { display: none !important; }` so we also need the `!important` here to be able to override the default hidden behavior on the sphinx rendered scikit-learn.org. See: https://github.com/scikit-learn/scikit-learn/issues/21755 */display: inline-block !important;position: relative;}#sk-container-id-4 div.sk-text-repr-fallback {display: none;}</style><div id=\"sk-container-id-4\" class=\"sk-top-container\"><div class=\"sk-text-repr-fallback\"><pre>LearningShapelets(max_iter=2000, n_shapelets_per_size={5: 6, 10: 6, 20: 6},\n",
       "                  optimizer=&#x27;adam&#x27;, random_state=42, weight_regularizer=0.01)</pre><b>In a Jupyter environment, please rerun this cell to show the HTML representation or trust the notebook. <br />On GitHub, the HTML representation is unable to render, please try loading this page with nbviewer.org.</b></div><div class=\"sk-container\" hidden><div class=\"sk-item\"><div class=\"sk-estimator sk-toggleable\"><input class=\"sk-toggleable__control sk-hidden--visually\" id=\"sk-estimator-id-4\" type=\"checkbox\" checked><label for=\"sk-estimator-id-4\" class=\"sk-toggleable__label sk-toggleable__label-arrow\">LearningShapelets</label><div class=\"sk-toggleable__content\"><pre>LearningShapelets(max_iter=2000, n_shapelets_per_size={5: 6, 10: 6, 20: 6},\n",
       "                  optimizer=&#x27;adam&#x27;, random_state=42, weight_regularizer=0.01)</pre></div></div></div></div></div>"
      ],
      "text/plain": [
       "LearningShapelets(max_iter=2000, n_shapelets_per_size={5: 6, 10: 6, 20: 6},\n",
       "                  optimizer='adam', random_state=42, weight_regularizer=0.01)"
      ]
     },
     "execution_count": 40,
     "metadata": {},
     "output_type": "execute_result"
    }
   ],
   "source": [
    "%%time\n",
    "model.fit(ts_train, y_train)"
   ]
  },
  {
   "cell_type": "code",
   "execution_count": 41,
   "id": "51706baa",
   "metadata": {
    "execution": {
     "iopub.execute_input": "2023-03-20T13:55:29.718088Z",
     "iopub.status.busy": "2023-03-20T13:55:29.717569Z",
     "iopub.status.idle": "2023-03-20T13:55:29.752552Z",
     "shell.execute_reply": "2023-03-20T13:55:29.751195Z"
    },
    "papermill": {
     "duration": 0.052336,
     "end_time": "2023-03-20T13:55:29.754714",
     "exception": false,
     "start_time": "2023-03-20T13:55:29.702378",
     "status": "completed"
    },
    "tags": []
   },
   "outputs": [],
   "source": [
    "model.to_pickle(f'{data_path}/shapelets.pkl')"
   ]
  },
  {
   "cell_type": "markdown",
   "id": "309f70dc",
   "metadata": {
    "papermill": {
     "duration": 0.012727,
     "end_time": "2023-03-20T13:55:29.782504",
     "exception": false,
     "start_time": "2023-03-20T13:55:29.769777",
     "status": "completed"
    },
    "tags": []
   },
   "source": [
    "#### Shapelet-Based Classification"
   ]
  },
  {
   "cell_type": "code",
   "execution_count": 42,
   "id": "60125dff",
   "metadata": {
    "execution": {
     "iopub.execute_input": "2023-03-20T13:55:29.812147Z",
     "iopub.status.busy": "2023-03-20T13:55:29.811613Z",
     "iopub.status.idle": "2023-03-20T13:55:29.817617Z",
     "shell.execute_reply": "2023-03-20T13:55:29.816400Z"
    },
    "papermill": {
     "duration": 0.02357,
     "end_time": "2023-03-20T13:55:29.819516",
     "exception": false,
     "start_time": "2023-03-20T13:55:29.795946",
     "status": "completed"
    },
    "tags": []
   },
   "outputs": [],
   "source": [
    "metrics_data['Shapelets'] = {}"
   ]
  },
  {
   "cell_type": "code",
   "execution_count": 43,
   "id": "efb8984d",
   "metadata": {
    "execution": {
     "iopub.execute_input": "2023-03-20T13:55:29.850341Z",
     "iopub.status.busy": "2023-03-20T13:55:29.849821Z",
     "iopub.status.idle": "2023-03-20T13:55:31.795068Z",
     "shell.execute_reply": "2023-03-20T13:55:31.794336Z"
    },
    "papermill": {
     "duration": 1.963591,
     "end_time": "2023-03-20T13:55:31.797586",
     "exception": false,
     "start_time": "2023-03-20T13:55:29.833995",
     "status": "completed"
    },
    "tags": []
   },
   "outputs": [],
   "source": [
    "X_train = model.transform(ts_train)\n",
    "X_test = model.transform(ts_test)"
   ]
  },
  {
   "cell_type": "code",
   "execution_count": 44,
   "id": "2e6c0f22",
   "metadata": {
    "execution": {
     "iopub.execute_input": "2023-03-20T13:55:31.828420Z",
     "iopub.status.busy": "2023-03-20T13:55:31.827949Z",
     "iopub.status.idle": "2023-03-20T13:55:31.868464Z",
     "shell.execute_reply": "2023-03-20T13:55:31.867322Z"
    },
    "papermill": {
     "duration": 0.057246,
     "end_time": "2023-03-20T13:55:31.870457",
     "exception": false,
     "start_time": "2023-03-20T13:55:31.813211",
     "status": "completed"
    },
    "tags": []
   },
   "outputs": [
    {
     "data": {
      "text/html": [
       "<div>\n",
       "<style scoped>\n",
       "    .dataframe tbody tr th:only-of-type {\n",
       "        vertical-align: middle;\n",
       "    }\n",
       "\n",
       "    .dataframe tbody tr th {\n",
       "        vertical-align: top;\n",
       "    }\n",
       "\n",
       "    .dataframe thead th {\n",
       "        text-align: right;\n",
       "    }\n",
       "</style>\n",
       "<table border=\"1\" class=\"dataframe\">\n",
       "  <thead>\n",
       "    <tr style=\"text-align: right;\">\n",
       "      <th></th>\n",
       "      <th>0</th>\n",
       "      <th>1</th>\n",
       "      <th>2</th>\n",
       "      <th>3</th>\n",
       "      <th>4</th>\n",
       "      <th>5</th>\n",
       "      <th>6</th>\n",
       "      <th>7</th>\n",
       "      <th>8</th>\n",
       "      <th>9</th>\n",
       "      <th>10</th>\n",
       "      <th>11</th>\n",
       "      <th>12</th>\n",
       "      <th>13</th>\n",
       "      <th>14</th>\n",
       "      <th>15</th>\n",
       "      <th>16</th>\n",
       "      <th>17</th>\n",
       "    </tr>\n",
       "  </thead>\n",
       "  <tbody>\n",
       "    <tr>\n",
       "      <th>0</th>\n",
       "      <td>0.752118</td>\n",
       "      <td>0.460453</td>\n",
       "      <td>1.252442</td>\n",
       "      <td>2.673995</td>\n",
       "      <td>0.429999</td>\n",
       "      <td>2.605914</td>\n",
       "      <td>0.045425</td>\n",
       "      <td>0.861532</td>\n",
       "      <td>2.718651</td>\n",
       "      <td>2.949505</td>\n",
       "      <td>0.045986</td>\n",
       "      <td>3.407270</td>\n",
       "      <td>4.217632</td>\n",
       "      <td>0.407144</td>\n",
       "      <td>5.037633</td>\n",
       "      <td>0.211015</td>\n",
       "      <td>1.252214</td>\n",
       "      <td>0.254059</td>\n",
       "    </tr>\n",
       "    <tr>\n",
       "      <th>1</th>\n",
       "      <td>0.289669</td>\n",
       "      <td>0.101989</td>\n",
       "      <td>0.696728</td>\n",
       "      <td>3.862313</td>\n",
       "      <td>0.757587</td>\n",
       "      <td>3.230802</td>\n",
       "      <td>0.128647</td>\n",
       "      <td>1.225727</td>\n",
       "      <td>3.128632</td>\n",
       "      <td>2.304166</td>\n",
       "      <td>0.129868</td>\n",
       "      <td>3.170516</td>\n",
       "      <td>4.552789</td>\n",
       "      <td>0.635080</td>\n",
       "      <td>5.205466</td>\n",
       "      <td>0.382272</td>\n",
       "      <td>1.256267</td>\n",
       "      <td>0.444241</td>\n",
       "    </tr>\n",
       "    <tr>\n",
       "      <th>2</th>\n",
       "      <td>1.281765</td>\n",
       "      <td>0.222959</td>\n",
       "      <td>1.038700</td>\n",
       "      <td>2.636702</td>\n",
       "      <td>1.757883</td>\n",
       "      <td>1.977255</td>\n",
       "      <td>0.440721</td>\n",
       "      <td>2.432697</td>\n",
       "      <td>2.746111</td>\n",
       "      <td>2.723002</td>\n",
       "      <td>0.441921</td>\n",
       "      <td>3.113511</td>\n",
       "      <td>6.336673</td>\n",
       "      <td>1.282184</td>\n",
       "      <td>4.652783</td>\n",
       "      <td>0.953296</td>\n",
       "      <td>1.000615</td>\n",
       "      <td>1.036499</td>\n",
       "    </tr>\n",
       "    <tr>\n",
       "      <th>3</th>\n",
       "      <td>0.412850</td>\n",
       "      <td>0.634684</td>\n",
       "      <td>0.494756</td>\n",
       "      <td>6.143070</td>\n",
       "      <td>0.313110</td>\n",
       "      <td>2.747035</td>\n",
       "      <td>0.097816</td>\n",
       "      <td>0.733396</td>\n",
       "      <td>3.985667</td>\n",
       "      <td>3.039387</td>\n",
       "      <td>0.096838</td>\n",
       "      <td>3.384470</td>\n",
       "      <td>2.336492</td>\n",
       "      <td>0.121779</td>\n",
       "      <td>6.295761</td>\n",
       "      <td>0.057938</td>\n",
       "      <td>2.530357</td>\n",
       "      <td>0.056810</td>\n",
       "    </tr>\n",
       "    <tr>\n",
       "      <th>4</th>\n",
       "      <td>0.726413</td>\n",
       "      <td>0.467552</td>\n",
       "      <td>1.974648</td>\n",
       "      <td>2.474012</td>\n",
       "      <td>1.225282</td>\n",
       "      <td>2.639302</td>\n",
       "      <td>0.342196</td>\n",
       "      <td>1.548801</td>\n",
       "      <td>2.910787</td>\n",
       "      <td>3.599670</td>\n",
       "      <td>0.343675</td>\n",
       "      <td>3.035752</td>\n",
       "      <td>6.076573</td>\n",
       "      <td>1.087191</td>\n",
       "      <td>5.262153</td>\n",
       "      <td>0.756349</td>\n",
       "      <td>1.235342</td>\n",
       "      <td>0.845443</td>\n",
       "    </tr>\n",
       "    <tr>\n",
       "      <th>...</th>\n",
       "      <td>...</td>\n",
       "      <td>...</td>\n",
       "      <td>...</td>\n",
       "      <td>...</td>\n",
       "      <td>...</td>\n",
       "      <td>...</td>\n",
       "      <td>...</td>\n",
       "      <td>...</td>\n",
       "      <td>...</td>\n",
       "      <td>...</td>\n",
       "      <td>...</td>\n",
       "      <td>...</td>\n",
       "      <td>...</td>\n",
       "      <td>...</td>\n",
       "      <td>...</td>\n",
       "      <td>...</td>\n",
       "      <td>...</td>\n",
       "      <td>...</td>\n",
       "    </tr>\n",
       "    <tr>\n",
       "      <th>4795</th>\n",
       "      <td>0.733270</td>\n",
       "      <td>0.583120</td>\n",
       "      <td>0.799150</td>\n",
       "      <td>5.102165</td>\n",
       "      <td>0.575538</td>\n",
       "      <td>2.904256</td>\n",
       "      <td>0.456127</td>\n",
       "      <td>0.746151</td>\n",
       "      <td>3.639086</td>\n",
       "      <td>3.015795</td>\n",
       "      <td>0.453717</td>\n",
       "      <td>2.648634</td>\n",
       "      <td>1.548958</td>\n",
       "      <td>0.166165</td>\n",
       "      <td>7.725575</td>\n",
       "      <td>0.225278</td>\n",
       "      <td>2.665184</td>\n",
       "      <td>0.183096</td>\n",
       "    </tr>\n",
       "    <tr>\n",
       "      <th>4796</th>\n",
       "      <td>0.739896</td>\n",
       "      <td>0.484933</td>\n",
       "      <td>1.201989</td>\n",
       "      <td>3.049100</td>\n",
       "      <td>0.782748</td>\n",
       "      <td>3.209368</td>\n",
       "      <td>0.247809</td>\n",
       "      <td>1.021696</td>\n",
       "      <td>3.141448</td>\n",
       "      <td>3.252532</td>\n",
       "      <td>0.249585</td>\n",
       "      <td>2.498632</td>\n",
       "      <td>3.734396</td>\n",
       "      <td>0.664526</td>\n",
       "      <td>5.506337</td>\n",
       "      <td>0.562282</td>\n",
       "      <td>1.062572</td>\n",
       "      <td>0.577906</td>\n",
       "    </tr>\n",
       "    <tr>\n",
       "      <th>4797</th>\n",
       "      <td>1.656910</td>\n",
       "      <td>0.335329</td>\n",
       "      <td>1.327441</td>\n",
       "      <td>2.644885</td>\n",
       "      <td>2.459468</td>\n",
       "      <td>3.252396</td>\n",
       "      <td>0.713422</td>\n",
       "      <td>3.065926</td>\n",
       "      <td>2.985482</td>\n",
       "      <td>2.850859</td>\n",
       "      <td>0.716523</td>\n",
       "      <td>3.228382</td>\n",
       "      <td>7.045849</td>\n",
       "      <td>1.632204</td>\n",
       "      <td>5.311151</td>\n",
       "      <td>1.217893</td>\n",
       "      <td>1.051816</td>\n",
       "      <td>1.333788</td>\n",
       "    </tr>\n",
       "    <tr>\n",
       "      <th>4798</th>\n",
       "      <td>0.504330</td>\n",
       "      <td>0.144900</td>\n",
       "      <td>0.905610</td>\n",
       "      <td>3.367060</td>\n",
       "      <td>0.947860</td>\n",
       "      <td>1.316337</td>\n",
       "      <td>0.034071</td>\n",
       "      <td>1.626349</td>\n",
       "      <td>2.997026</td>\n",
       "      <td>2.860346</td>\n",
       "      <td>0.034034</td>\n",
       "      <td>3.393565</td>\n",
       "      <td>3.815658</td>\n",
       "      <td>0.494690</td>\n",
       "      <td>5.516079</td>\n",
       "      <td>0.333734</td>\n",
       "      <td>1.343534</td>\n",
       "      <td>0.393787</td>\n",
       "    </tr>\n",
       "    <tr>\n",
       "      <th>4799</th>\n",
       "      <td>0.498423</td>\n",
       "      <td>0.535810</td>\n",
       "      <td>1.161749</td>\n",
       "      <td>2.860732</td>\n",
       "      <td>1.330290</td>\n",
       "      <td>2.288917</td>\n",
       "      <td>0.237511</td>\n",
       "      <td>1.617723</td>\n",
       "      <td>2.837107</td>\n",
       "      <td>2.779044</td>\n",
       "      <td>0.239246</td>\n",
       "      <td>4.006268</td>\n",
       "      <td>4.294285</td>\n",
       "      <td>0.750830</td>\n",
       "      <td>5.992623</td>\n",
       "      <td>0.533636</td>\n",
       "      <td>1.431655</td>\n",
       "      <td>0.601913</td>\n",
       "    </tr>\n",
       "  </tbody>\n",
       "</table>\n",
       "<p>4800 rows × 18 columns</p>\n",
       "</div>"
      ],
      "text/plain": [
       "            0         1         2         3         4         5         6   \\\n",
       "0     0.752118  0.460453  1.252442  2.673995  0.429999  2.605914  0.045425   \n",
       "1     0.289669  0.101989  0.696728  3.862313  0.757587  3.230802  0.128647   \n",
       "2     1.281765  0.222959  1.038700  2.636702  1.757883  1.977255  0.440721   \n",
       "3     0.412850  0.634684  0.494756  6.143070  0.313110  2.747035  0.097816   \n",
       "4     0.726413  0.467552  1.974648  2.474012  1.225282  2.639302  0.342196   \n",
       "...        ...       ...       ...       ...       ...       ...       ...   \n",
       "4795  0.733270  0.583120  0.799150  5.102165  0.575538  2.904256  0.456127   \n",
       "4796  0.739896  0.484933  1.201989  3.049100  0.782748  3.209368  0.247809   \n",
       "4797  1.656910  0.335329  1.327441  2.644885  2.459468  3.252396  0.713422   \n",
       "4798  0.504330  0.144900  0.905610  3.367060  0.947860  1.316337  0.034071   \n",
       "4799  0.498423  0.535810  1.161749  2.860732  1.330290  2.288917  0.237511   \n",
       "\n",
       "            7         8         9         10        11        12        13  \\\n",
       "0     0.861532  2.718651  2.949505  0.045986  3.407270  4.217632  0.407144   \n",
       "1     1.225727  3.128632  2.304166  0.129868  3.170516  4.552789  0.635080   \n",
       "2     2.432697  2.746111  2.723002  0.441921  3.113511  6.336673  1.282184   \n",
       "3     0.733396  3.985667  3.039387  0.096838  3.384470  2.336492  0.121779   \n",
       "4     1.548801  2.910787  3.599670  0.343675  3.035752  6.076573  1.087191   \n",
       "...        ...       ...       ...       ...       ...       ...       ...   \n",
       "4795  0.746151  3.639086  3.015795  0.453717  2.648634  1.548958  0.166165   \n",
       "4796  1.021696  3.141448  3.252532  0.249585  2.498632  3.734396  0.664526   \n",
       "4797  3.065926  2.985482  2.850859  0.716523  3.228382  7.045849  1.632204   \n",
       "4798  1.626349  2.997026  2.860346  0.034034  3.393565  3.815658  0.494690   \n",
       "4799  1.617723  2.837107  2.779044  0.239246  4.006268  4.294285  0.750830   \n",
       "\n",
       "            14        15        16        17  \n",
       "0     5.037633  0.211015  1.252214  0.254059  \n",
       "1     5.205466  0.382272  1.256267  0.444241  \n",
       "2     4.652783  0.953296  1.000615  1.036499  \n",
       "3     6.295761  0.057938  2.530357  0.056810  \n",
       "4     5.262153  0.756349  1.235342  0.845443  \n",
       "...        ...       ...       ...       ...  \n",
       "4795  7.725575  0.225278  2.665184  0.183096  \n",
       "4796  5.506337  0.562282  1.062572  0.577906  \n",
       "4797  5.311151  1.217893  1.051816  1.333788  \n",
       "4798  5.516079  0.333734  1.343534  0.393787  \n",
       "4799  5.992623  0.533636  1.431655  0.601913  \n",
       "\n",
       "[4800 rows x 18 columns]"
      ]
     },
     "execution_count": 44,
     "metadata": {},
     "output_type": "execute_result"
    }
   ],
   "source": [
    "pd.DataFrame(X_test)"
   ]
  },
  {
   "cell_type": "markdown",
   "id": "5fa024f7",
   "metadata": {
    "execution": {
     "iopub.execute_input": "2023-02-07T23:47:19.876941Z",
     "iopub.status.busy": "2023-02-07T23:47:19.876424Z",
     "iopub.status.idle": "2023-02-07T23:47:20.399488Z",
     "shell.execute_reply": "2023-02-07T23:47:20.398142Z"
    },
    "papermill": {
     "duration": 0.014492,
     "end_time": "2023-03-20T13:55:31.900311",
     "exception": false,
     "start_time": "2023-03-20T13:55:31.885819",
     "status": "completed"
    },
    "tags": []
   },
   "source": [
    "**Decision Tree**"
   ]
  },
  {
   "cell_type": "code",
   "execution_count": 45,
   "id": "4f5400c9",
   "metadata": {
    "execution": {
     "iopub.execute_input": "2023-03-20T13:55:31.936843Z",
     "iopub.status.busy": "2023-03-20T13:55:31.936375Z",
     "iopub.status.idle": "2023-03-20T13:55:32.527697Z",
     "shell.execute_reply": "2023-03-20T13:55:32.526689Z"
    },
    "papermill": {
     "duration": 0.609631,
     "end_time": "2023-03-20T13:55:32.530616",
     "exception": false,
     "start_time": "2023-03-20T13:55:31.920985",
     "status": "completed"
    },
    "tags": []
   },
   "outputs": [
    {
     "data": {
      "text/html": [
       "<style>#sk-container-id-5 {color: black;background-color: white;}#sk-container-id-5 pre{padding: 0;}#sk-container-id-5 div.sk-toggleable {background-color: white;}#sk-container-id-5 label.sk-toggleable__label {cursor: pointer;display: block;width: 100%;margin-bottom: 0;padding: 0.3em;box-sizing: border-box;text-align: center;}#sk-container-id-5 label.sk-toggleable__label-arrow:before {content: \"▸\";float: left;margin-right: 0.25em;color: #696969;}#sk-container-id-5 label.sk-toggleable__label-arrow:hover:before {color: black;}#sk-container-id-5 div.sk-estimator:hover label.sk-toggleable__label-arrow:before {color: black;}#sk-container-id-5 div.sk-toggleable__content {max-height: 0;max-width: 0;overflow: hidden;text-align: left;background-color: #f0f8ff;}#sk-container-id-5 div.sk-toggleable__content pre {margin: 0.2em;color: black;border-radius: 0.25em;background-color: #f0f8ff;}#sk-container-id-5 input.sk-toggleable__control:checked~div.sk-toggleable__content {max-height: 200px;max-width: 100%;overflow: auto;}#sk-container-id-5 input.sk-toggleable__control:checked~label.sk-toggleable__label-arrow:before {content: \"▾\";}#sk-container-id-5 div.sk-estimator input.sk-toggleable__control:checked~label.sk-toggleable__label {background-color: #d4ebff;}#sk-container-id-5 div.sk-label input.sk-toggleable__control:checked~label.sk-toggleable__label {background-color: #d4ebff;}#sk-container-id-5 input.sk-hidden--visually {border: 0;clip: rect(1px 1px 1px 1px);clip: rect(1px, 1px, 1px, 1px);height: 1px;margin: -1px;overflow: hidden;padding: 0;position: absolute;width: 1px;}#sk-container-id-5 div.sk-estimator {font-family: monospace;background-color: #f0f8ff;border: 1px dotted black;border-radius: 0.25em;box-sizing: border-box;margin-bottom: 0.5em;}#sk-container-id-5 div.sk-estimator:hover {background-color: #d4ebff;}#sk-container-id-5 div.sk-parallel-item::after {content: \"\";width: 100%;border-bottom: 1px solid gray;flex-grow: 1;}#sk-container-id-5 div.sk-label:hover label.sk-toggleable__label {background-color: #d4ebff;}#sk-container-id-5 div.sk-serial::before {content: \"\";position: absolute;border-left: 1px solid gray;box-sizing: border-box;top: 0;bottom: 0;left: 50%;z-index: 0;}#sk-container-id-5 div.sk-serial {display: flex;flex-direction: column;align-items: center;background-color: white;padding-right: 0.2em;padding-left: 0.2em;position: relative;}#sk-container-id-5 div.sk-item {position: relative;z-index: 1;}#sk-container-id-5 div.sk-parallel {display: flex;align-items: stretch;justify-content: center;background-color: white;position: relative;}#sk-container-id-5 div.sk-item::before, #sk-container-id-5 div.sk-parallel-item::before {content: \"\";position: absolute;border-left: 1px solid gray;box-sizing: border-box;top: 0;bottom: 0;left: 50%;z-index: -1;}#sk-container-id-5 div.sk-parallel-item {display: flex;flex-direction: column;z-index: 1;position: relative;background-color: white;}#sk-container-id-5 div.sk-parallel-item:first-child::after {align-self: flex-end;width: 50%;}#sk-container-id-5 div.sk-parallel-item:last-child::after {align-self: flex-start;width: 50%;}#sk-container-id-5 div.sk-parallel-item:only-child::after {width: 0;}#sk-container-id-5 div.sk-dashed-wrapped {border: 1px dashed gray;margin: 0 0.4em 0.5em 0.4em;box-sizing: border-box;padding-bottom: 0.4em;background-color: white;}#sk-container-id-5 div.sk-label label {font-family: monospace;font-weight: bold;display: inline-block;line-height: 1.2em;}#sk-container-id-5 div.sk-label-container {text-align: center;}#sk-container-id-5 div.sk-container {/* jupyter's `normalize.less` sets `[hidden] { display: none; }` but bootstrap.min.css set `[hidden] { display: none !important; }` so we also need the `!important` here to be able to override the default hidden behavior on the sphinx rendered scikit-learn.org. See: https://github.com/scikit-learn/scikit-learn/issues/21755 */display: inline-block !important;position: relative;}#sk-container-id-5 div.sk-text-repr-fallback {display: none;}</style><div id=\"sk-container-id-5\" class=\"sk-top-container\"><div class=\"sk-text-repr-fallback\"><pre>DecisionTreeClassifier(random_state=42)</pre><b>In a Jupyter environment, please rerun this cell to show the HTML representation or trust the notebook. <br />On GitHub, the HTML representation is unable to render, please try loading this page with nbviewer.org.</b></div><div class=\"sk-container\" hidden><div class=\"sk-item\"><div class=\"sk-estimator sk-toggleable\"><input class=\"sk-toggleable__control sk-hidden--visually\" id=\"sk-estimator-id-5\" type=\"checkbox\" checked><label for=\"sk-estimator-id-5\" class=\"sk-toggleable__label sk-toggleable__label-arrow\">DecisionTreeClassifier</label><div class=\"sk-toggleable__content\"><pre>DecisionTreeClassifier(random_state=42)</pre></div></div></div></div></div>"
      ],
      "text/plain": [
       "DecisionTreeClassifier(random_state=42)"
      ]
     },
     "execution_count": 45,
     "metadata": {},
     "output_type": "execute_result"
    }
   ],
   "source": [
    "clf = DecisionTreeClassifier(random_state=42)\n",
    "clf.fit(X_train, y_train)"
   ]
  },
  {
   "cell_type": "code",
   "execution_count": 46,
   "id": "3b56d190",
   "metadata": {
    "execution": {
     "iopub.execute_input": "2023-03-20T13:55:32.603983Z",
     "iopub.status.busy": "2023-03-20T13:55:32.603685Z",
     "iopub.status.idle": "2023-03-20T13:55:32.728313Z",
     "shell.execute_reply": "2023-03-20T13:55:32.727424Z"
    },
    "papermill": {
     "duration": 0.162556,
     "end_time": "2023-03-20T13:55:32.731012",
     "exception": false,
     "start_time": "2023-03-20T13:55:32.568456",
     "status": "completed"
    },
    "tags": []
   },
   "outputs": [
    {
     "name": "stdout",
     "output_type": "stream",
     "text": [
      "              precision    recall  f1-score   support\n",
      "\n",
      "         pop       0.57      0.57      0.57      2400\n",
      "        rock       0.57      0.58      0.57      2400\n",
      "\n",
      "    accuracy                           0.57      4800\n",
      "   macro avg       0.57      0.57      0.57      4800\n",
      "weighted avg       0.57      0.57      0.57      4800\n",
      "\n"
     ]
    }
   ],
   "source": [
    "y_pred = clf.predict(X_test)\n",
    "print(classification_report(y_test, y_pred))"
   ]
  },
  {
   "cell_type": "code",
   "execution_count": 47,
   "id": "42bc91ff",
   "metadata": {
    "execution": {
     "iopub.execute_input": "2023-03-20T13:55:32.800409Z",
     "iopub.status.busy": "2023-03-20T13:55:32.799893Z",
     "iopub.status.idle": "2023-03-20T13:55:32.807716Z",
     "shell.execute_reply": "2023-03-20T13:55:32.806315Z"
    },
    "papermill": {
     "duration": 0.045515,
     "end_time": "2023-03-20T13:55:32.810076",
     "exception": false,
     "start_time": "2023-03-20T13:55:32.764561",
     "status": "completed"
    },
    "tags": []
   },
   "outputs": [],
   "source": [
    "pickle.dump(clf, open(f'{data_path}/decision_tree.pkl', 'wb'))"
   ]
  },
  {
   "cell_type": "code",
   "execution_count": 48,
   "id": "ea9be210",
   "metadata": {
    "execution": {
     "iopub.execute_input": "2023-03-20T13:55:32.838395Z",
     "iopub.status.busy": "2023-03-20T13:55:32.837918Z",
     "iopub.status.idle": "2023-03-20T13:55:32.975441Z",
     "shell.execute_reply": "2023-03-20T13:55:32.974451Z"
    },
    "papermill": {
     "duration": 0.155115,
     "end_time": "2023-03-20T13:55:32.978390",
     "exception": false,
     "start_time": "2023-03-20T13:55:32.823275",
     "status": "completed"
    },
    "tags": []
   },
   "outputs": [],
   "source": [
    "acc = accuracy_score(y_test, y_pred)\n",
    "pre = precision_score(y_test, y_pred, average=avg_par)\n",
    "rec = recall_score(y_test, y_pred, average=avg_par)\n",
    "f1 = f1_score(y_test, y_pred, average=avg_par)\n",
    "\n",
    "metrics_data['Shapelets']['DecisionTree'] = {'Accuracy': acc, 'Precision': pre, 'Recall': rec, 'F1': f1}"
   ]
  },
  {
   "cell_type": "markdown",
   "id": "3ca3443b",
   "metadata": {
    "papermill": {
     "duration": 0.034182,
     "end_time": "2023-03-20T13:55:33.048596",
     "exception": false,
     "start_time": "2023-03-20T13:55:33.014414",
     "status": "completed"
    },
    "tags": []
   },
   "source": [
    "**Random Forest**"
   ]
  },
  {
   "cell_type": "code",
   "execution_count": 49,
   "id": "37795e21",
   "metadata": {
    "execution": {
     "iopub.execute_input": "2023-03-20T13:55:33.083702Z",
     "iopub.status.busy": "2023-03-20T13:55:33.083192Z",
     "iopub.status.idle": "2023-03-20T13:55:40.940756Z",
     "shell.execute_reply": "2023-03-20T13:55:40.939606Z"
    },
    "papermill": {
     "duration": 7.875615,
     "end_time": "2023-03-20T13:55:40.944168",
     "exception": false,
     "start_time": "2023-03-20T13:55:33.068553",
     "status": "completed"
    },
    "tags": []
   },
   "outputs": [
    {
     "data": {
      "text/html": [
       "<style>#sk-container-id-6 {color: black;background-color: white;}#sk-container-id-6 pre{padding: 0;}#sk-container-id-6 div.sk-toggleable {background-color: white;}#sk-container-id-6 label.sk-toggleable__label {cursor: pointer;display: block;width: 100%;margin-bottom: 0;padding: 0.3em;box-sizing: border-box;text-align: center;}#sk-container-id-6 label.sk-toggleable__label-arrow:before {content: \"▸\";float: left;margin-right: 0.25em;color: #696969;}#sk-container-id-6 label.sk-toggleable__label-arrow:hover:before {color: black;}#sk-container-id-6 div.sk-estimator:hover label.sk-toggleable__label-arrow:before {color: black;}#sk-container-id-6 div.sk-toggleable__content {max-height: 0;max-width: 0;overflow: hidden;text-align: left;background-color: #f0f8ff;}#sk-container-id-6 div.sk-toggleable__content pre {margin: 0.2em;color: black;border-radius: 0.25em;background-color: #f0f8ff;}#sk-container-id-6 input.sk-toggleable__control:checked~div.sk-toggleable__content {max-height: 200px;max-width: 100%;overflow: auto;}#sk-container-id-6 input.sk-toggleable__control:checked~label.sk-toggleable__label-arrow:before {content: \"▾\";}#sk-container-id-6 div.sk-estimator input.sk-toggleable__control:checked~label.sk-toggleable__label {background-color: #d4ebff;}#sk-container-id-6 div.sk-label input.sk-toggleable__control:checked~label.sk-toggleable__label {background-color: #d4ebff;}#sk-container-id-6 input.sk-hidden--visually {border: 0;clip: rect(1px 1px 1px 1px);clip: rect(1px, 1px, 1px, 1px);height: 1px;margin: -1px;overflow: hidden;padding: 0;position: absolute;width: 1px;}#sk-container-id-6 div.sk-estimator {font-family: monospace;background-color: #f0f8ff;border: 1px dotted black;border-radius: 0.25em;box-sizing: border-box;margin-bottom: 0.5em;}#sk-container-id-6 div.sk-estimator:hover {background-color: #d4ebff;}#sk-container-id-6 div.sk-parallel-item::after {content: \"\";width: 100%;border-bottom: 1px solid gray;flex-grow: 1;}#sk-container-id-6 div.sk-label:hover label.sk-toggleable__label {background-color: #d4ebff;}#sk-container-id-6 div.sk-serial::before {content: \"\";position: absolute;border-left: 1px solid gray;box-sizing: border-box;top: 0;bottom: 0;left: 50%;z-index: 0;}#sk-container-id-6 div.sk-serial {display: flex;flex-direction: column;align-items: center;background-color: white;padding-right: 0.2em;padding-left: 0.2em;position: relative;}#sk-container-id-6 div.sk-item {position: relative;z-index: 1;}#sk-container-id-6 div.sk-parallel {display: flex;align-items: stretch;justify-content: center;background-color: white;position: relative;}#sk-container-id-6 div.sk-item::before, #sk-container-id-6 div.sk-parallel-item::before {content: \"\";position: absolute;border-left: 1px solid gray;box-sizing: border-box;top: 0;bottom: 0;left: 50%;z-index: -1;}#sk-container-id-6 div.sk-parallel-item {display: flex;flex-direction: column;z-index: 1;position: relative;background-color: white;}#sk-container-id-6 div.sk-parallel-item:first-child::after {align-self: flex-end;width: 50%;}#sk-container-id-6 div.sk-parallel-item:last-child::after {align-self: flex-start;width: 50%;}#sk-container-id-6 div.sk-parallel-item:only-child::after {width: 0;}#sk-container-id-6 div.sk-dashed-wrapped {border: 1px dashed gray;margin: 0 0.4em 0.5em 0.4em;box-sizing: border-box;padding-bottom: 0.4em;background-color: white;}#sk-container-id-6 div.sk-label label {font-family: monospace;font-weight: bold;display: inline-block;line-height: 1.2em;}#sk-container-id-6 div.sk-label-container {text-align: center;}#sk-container-id-6 div.sk-container {/* jupyter's `normalize.less` sets `[hidden] { display: none; }` but bootstrap.min.css set `[hidden] { display: none !important; }` so we also need the `!important` here to be able to override the default hidden behavior on the sphinx rendered scikit-learn.org. See: https://github.com/scikit-learn/scikit-learn/issues/21755 */display: inline-block !important;position: relative;}#sk-container-id-6 div.sk-text-repr-fallback {display: none;}</style><div id=\"sk-container-id-6\" class=\"sk-top-container\"><div class=\"sk-text-repr-fallback\"><pre>RandomForestClassifier(random_state=42)</pre><b>In a Jupyter environment, please rerun this cell to show the HTML representation or trust the notebook. <br />On GitHub, the HTML representation is unable to render, please try loading this page with nbviewer.org.</b></div><div class=\"sk-container\" hidden><div class=\"sk-item\"><div class=\"sk-estimator sk-toggleable\"><input class=\"sk-toggleable__control sk-hidden--visually\" id=\"sk-estimator-id-6\" type=\"checkbox\" checked><label for=\"sk-estimator-id-6\" class=\"sk-toggleable__label sk-toggleable__label-arrow\">RandomForestClassifier</label><div class=\"sk-toggleable__content\"><pre>RandomForestClassifier(random_state=42)</pre></div></div></div></div></div>"
      ],
      "text/plain": [
       "RandomForestClassifier(random_state=42)"
      ]
     },
     "execution_count": 49,
     "metadata": {},
     "output_type": "execute_result"
    }
   ],
   "source": [
    "clf = RandomForestClassifier(random_state=42)\n",
    "clf.fit(X_train, y_train)"
   ]
  },
  {
   "cell_type": "code",
   "execution_count": 50,
   "id": "581ab90a",
   "metadata": {
    "execution": {
     "iopub.execute_input": "2023-03-20T13:55:41.018541Z",
     "iopub.status.busy": "2023-03-20T13:55:41.018053Z",
     "iopub.status.idle": "2023-03-20T13:55:41.238993Z",
     "shell.execute_reply": "2023-03-20T13:55:41.238157Z"
    },
    "papermill": {
     "duration": 0.261353,
     "end_time": "2023-03-20T13:55:41.241806",
     "exception": false,
     "start_time": "2023-03-20T13:55:40.980453",
     "status": "completed"
    },
    "tags": []
   },
   "outputs": [
    {
     "name": "stdout",
     "output_type": "stream",
     "text": [
      "              precision    recall  f1-score   support\n",
      "\n",
      "         pop       0.65      0.62      0.63      2400\n",
      "        rock       0.64      0.66      0.65      2400\n",
      "\n",
      "    accuracy                           0.64      4800\n",
      "   macro avg       0.64      0.64      0.64      4800\n",
      "weighted avg       0.64      0.64      0.64      4800\n",
      "\n"
     ]
    }
   ],
   "source": [
    "y_pred = clf.predict(X_test)\n",
    "print(classification_report(y_test, y_pred))"
   ]
  },
  {
   "cell_type": "code",
   "execution_count": 51,
   "id": "faf1d7f4",
   "metadata": {
    "execution": {
     "iopub.execute_input": "2023-03-20T13:55:41.317803Z",
     "iopub.status.busy": "2023-03-20T13:55:41.317358Z",
     "iopub.status.idle": "2023-03-20T13:55:41.451052Z",
     "shell.execute_reply": "2023-03-20T13:55:41.450178Z"
    },
    "papermill": {
     "duration": 0.173724,
     "end_time": "2023-03-20T13:55:41.454143",
     "exception": false,
     "start_time": "2023-03-20T13:55:41.280419",
     "status": "completed"
    },
    "tags": []
   },
   "outputs": [],
   "source": [
    "acc = accuracy_score(y_test, y_pred)\n",
    "pre = precision_score(y_test, y_pred, average=avg_par)\n",
    "rec = recall_score(y_test, y_pred, average=avg_par)\n",
    "f1 = f1_score(y_test, y_pred, average=avg_par)\n",
    "\n",
    "metrics_data['Shapelets']['RandomForest'] = {'Accuracy': acc, 'Precision': pre, 'Recall': rec, 'F1': f1}"
   ]
  },
  {
   "cell_type": "markdown",
   "id": "61fceefb",
   "metadata": {
    "papermill": {
     "duration": 0.03643,
     "end_time": "2023-03-20T13:55:41.532791",
     "exception": false,
     "start_time": "2023-03-20T13:55:41.496361",
     "status": "completed"
    },
    "tags": []
   },
   "source": [
    "**LightGBM**"
   ]
  },
  {
   "cell_type": "code",
   "execution_count": 52,
   "id": "194189da",
   "metadata": {
    "execution": {
     "iopub.execute_input": "2023-03-20T13:55:41.561298Z",
     "iopub.status.busy": "2023-03-20T13:55:41.560818Z",
     "iopub.status.idle": "2023-03-20T13:55:41.773659Z",
     "shell.execute_reply": "2023-03-20T13:55:41.772981Z"
    },
    "papermill": {
     "duration": 0.229461,
     "end_time": "2023-03-20T13:55:41.775606",
     "exception": false,
     "start_time": "2023-03-20T13:55:41.546145",
     "status": "completed"
    },
    "tags": []
   },
   "outputs": [
    {
     "data": {
      "text/html": [
       "<style>#sk-container-id-7 {color: black;background-color: white;}#sk-container-id-7 pre{padding: 0;}#sk-container-id-7 div.sk-toggleable {background-color: white;}#sk-container-id-7 label.sk-toggleable__label {cursor: pointer;display: block;width: 100%;margin-bottom: 0;padding: 0.3em;box-sizing: border-box;text-align: center;}#sk-container-id-7 label.sk-toggleable__label-arrow:before {content: \"▸\";float: left;margin-right: 0.25em;color: #696969;}#sk-container-id-7 label.sk-toggleable__label-arrow:hover:before {color: black;}#sk-container-id-7 div.sk-estimator:hover label.sk-toggleable__label-arrow:before {color: black;}#sk-container-id-7 div.sk-toggleable__content {max-height: 0;max-width: 0;overflow: hidden;text-align: left;background-color: #f0f8ff;}#sk-container-id-7 div.sk-toggleable__content pre {margin: 0.2em;color: black;border-radius: 0.25em;background-color: #f0f8ff;}#sk-container-id-7 input.sk-toggleable__control:checked~div.sk-toggleable__content {max-height: 200px;max-width: 100%;overflow: auto;}#sk-container-id-7 input.sk-toggleable__control:checked~label.sk-toggleable__label-arrow:before {content: \"▾\";}#sk-container-id-7 div.sk-estimator input.sk-toggleable__control:checked~label.sk-toggleable__label {background-color: #d4ebff;}#sk-container-id-7 div.sk-label input.sk-toggleable__control:checked~label.sk-toggleable__label {background-color: #d4ebff;}#sk-container-id-7 input.sk-hidden--visually {border: 0;clip: rect(1px 1px 1px 1px);clip: rect(1px, 1px, 1px, 1px);height: 1px;margin: -1px;overflow: hidden;padding: 0;position: absolute;width: 1px;}#sk-container-id-7 div.sk-estimator {font-family: monospace;background-color: #f0f8ff;border: 1px dotted black;border-radius: 0.25em;box-sizing: border-box;margin-bottom: 0.5em;}#sk-container-id-7 div.sk-estimator:hover {background-color: #d4ebff;}#sk-container-id-7 div.sk-parallel-item::after {content: \"\";width: 100%;border-bottom: 1px solid gray;flex-grow: 1;}#sk-container-id-7 div.sk-label:hover label.sk-toggleable__label {background-color: #d4ebff;}#sk-container-id-7 div.sk-serial::before {content: \"\";position: absolute;border-left: 1px solid gray;box-sizing: border-box;top: 0;bottom: 0;left: 50%;z-index: 0;}#sk-container-id-7 div.sk-serial {display: flex;flex-direction: column;align-items: center;background-color: white;padding-right: 0.2em;padding-left: 0.2em;position: relative;}#sk-container-id-7 div.sk-item {position: relative;z-index: 1;}#sk-container-id-7 div.sk-parallel {display: flex;align-items: stretch;justify-content: center;background-color: white;position: relative;}#sk-container-id-7 div.sk-item::before, #sk-container-id-7 div.sk-parallel-item::before {content: \"\";position: absolute;border-left: 1px solid gray;box-sizing: border-box;top: 0;bottom: 0;left: 50%;z-index: -1;}#sk-container-id-7 div.sk-parallel-item {display: flex;flex-direction: column;z-index: 1;position: relative;background-color: white;}#sk-container-id-7 div.sk-parallel-item:first-child::after {align-self: flex-end;width: 50%;}#sk-container-id-7 div.sk-parallel-item:last-child::after {align-self: flex-start;width: 50%;}#sk-container-id-7 div.sk-parallel-item:only-child::after {width: 0;}#sk-container-id-7 div.sk-dashed-wrapped {border: 1px dashed gray;margin: 0 0.4em 0.5em 0.4em;box-sizing: border-box;padding-bottom: 0.4em;background-color: white;}#sk-container-id-7 div.sk-label label {font-family: monospace;font-weight: bold;display: inline-block;line-height: 1.2em;}#sk-container-id-7 div.sk-label-container {text-align: center;}#sk-container-id-7 div.sk-container {/* jupyter's `normalize.less` sets `[hidden] { display: none; }` but bootstrap.min.css set `[hidden] { display: none !important; }` so we also need the `!important` here to be able to override the default hidden behavior on the sphinx rendered scikit-learn.org. See: https://github.com/scikit-learn/scikit-learn/issues/21755 */display: inline-block !important;position: relative;}#sk-container-id-7 div.sk-text-repr-fallback {display: none;}</style><div id=\"sk-container-id-7\" class=\"sk-top-container\"><div class=\"sk-text-repr-fallback\"><pre>LGBMClassifier(objective=&#x27;binary&#x27;)</pre><b>In a Jupyter environment, please rerun this cell to show the HTML representation or trust the notebook. <br />On GitHub, the HTML representation is unable to render, please try loading this page with nbviewer.org.</b></div><div class=\"sk-container\" hidden><div class=\"sk-item\"><div class=\"sk-estimator sk-toggleable\"><input class=\"sk-toggleable__control sk-hidden--visually\" id=\"sk-estimator-id-7\" type=\"checkbox\" checked><label for=\"sk-estimator-id-7\" class=\"sk-toggleable__label sk-toggleable__label-arrow\">LGBMClassifier</label><div class=\"sk-toggleable__content\"><pre>LGBMClassifier(objective=&#x27;binary&#x27;)</pre></div></div></div></div></div>"
      ],
      "text/plain": [
       "LGBMClassifier(objective='binary')"
      ]
     },
     "execution_count": 52,
     "metadata": {},
     "output_type": "execute_result"
    }
   ],
   "source": [
    "clf = lgbm.LGBMClassifier(objective=obj_par) \n",
    "clf.fit(X_train, y_train)"
   ]
  },
  {
   "cell_type": "code",
   "execution_count": 53,
   "id": "355a078b",
   "metadata": {
    "execution": {
     "iopub.execute_input": "2023-03-20T13:55:41.807030Z",
     "iopub.status.busy": "2023-03-20T13:55:41.806684Z",
     "iopub.status.idle": "2023-03-20T13:55:41.937176Z",
     "shell.execute_reply": "2023-03-20T13:55:41.936478Z"
    },
    "papermill": {
     "duration": 0.149167,
     "end_time": "2023-03-20T13:55:41.939945",
     "exception": false,
     "start_time": "2023-03-20T13:55:41.790778",
     "status": "completed"
    },
    "tags": []
   },
   "outputs": [
    {
     "name": "stdout",
     "output_type": "stream",
     "text": [
      "              precision    recall  f1-score   support\n",
      "\n",
      "         pop       0.65      0.60      0.62      2400\n",
      "        rock       0.63      0.67      0.65      2400\n",
      "\n",
      "    accuracy                           0.64      4800\n",
      "   macro avg       0.64      0.64      0.64      4800\n",
      "weighted avg       0.64      0.64      0.64      4800\n",
      "\n"
     ]
    }
   ],
   "source": [
    "y_pred = clf.predict(X_test)\n",
    "print(classification_report(y_test, y_pred))"
   ]
  },
  {
   "cell_type": "code",
   "execution_count": 54,
   "id": "f22b911e",
   "metadata": {
    "execution": {
     "iopub.execute_input": "2023-03-20T13:55:42.018519Z",
     "iopub.status.busy": "2023-03-20T13:55:42.018023Z",
     "iopub.status.idle": "2023-03-20T13:55:42.114022Z",
     "shell.execute_reply": "2023-03-20T13:55:42.113179Z"
    },
    "papermill": {
     "duration": 0.138232,
     "end_time": "2023-03-20T13:55:42.116903",
     "exception": false,
     "start_time": "2023-03-20T13:55:41.978671",
     "status": "completed"
    },
    "tags": []
   },
   "outputs": [],
   "source": [
    "acc = accuracy_score(y_test, y_pred)\n",
    "pre = precision_score(y_test, y_pred, average=avg_par)\n",
    "rec = recall_score(y_test, y_pred, average=avg_par)\n",
    "f1 = f1_score(y_test, y_pred, average=avg_par)\n",
    "\n",
    "metrics_data['Shapelets']['LightGBM'] = {'Accuracy': acc, 'Precision': pre, 'Recall': rec, 'F1': f1}"
   ]
  },
  {
   "cell_type": "markdown",
   "id": "0809af9f",
   "metadata": {
    "papermill": {
     "duration": 0.036316,
     "end_time": "2023-03-20T13:55:42.191845",
     "exception": false,
     "start_time": "2023-03-20T13:55:42.155529",
     "status": "completed"
    },
    "tags": []
   },
   "source": [
    "#### KNN"
   ]
  },
  {
   "cell_type": "code",
   "execution_count": 55,
   "id": "1c9237e0",
   "metadata": {
    "execution": {
     "iopub.execute_input": "2023-03-20T13:55:42.222374Z",
     "iopub.status.busy": "2023-03-20T13:55:42.221511Z",
     "iopub.status.idle": "2023-03-20T13:55:42.228223Z",
     "shell.execute_reply": "2023-03-20T13:55:42.226871Z"
    },
    "papermill": {
     "duration": 0.02434,
     "end_time": "2023-03-20T13:55:42.230513",
     "exception": false,
     "start_time": "2023-03-20T13:55:42.206173",
     "status": "completed"
    },
    "tags": []
   },
   "outputs": [],
   "source": [
    "X_train = ts_train.reshape((ts_train.shape[0], ts_train.shape[1]))\n",
    "X_test = ts_test.reshape((ts_test.shape[0], ts_test.shape[1]))"
   ]
  },
  {
   "cell_type": "code",
   "execution_count": 56,
   "id": "192f3c3f",
   "metadata": {
    "execution": {
     "iopub.execute_input": "2023-03-20T13:55:42.262157Z",
     "iopub.status.busy": "2023-03-20T13:55:42.261311Z",
     "iopub.status.idle": "2023-03-20T13:55:42.268849Z",
     "shell.execute_reply": "2023-03-20T13:55:42.267677Z"
    },
    "papermill": {
     "duration": 0.02425,
     "end_time": "2023-03-20T13:55:42.270576",
     "exception": false,
     "start_time": "2023-03-20T13:55:42.246326",
     "status": "completed"
    },
    "tags": []
   },
   "outputs": [
    {
     "data": {
      "text/plain": [
       "(19200, 100)"
      ]
     },
     "execution_count": 56,
     "metadata": {},
     "output_type": "execute_result"
    }
   ],
   "source": [
    "X_train.shape"
   ]
  },
  {
   "cell_type": "code",
   "execution_count": 57,
   "id": "de0e5000",
   "metadata": {
    "execution": {
     "iopub.execute_input": "2023-03-20T13:55:42.301341Z",
     "iopub.status.busy": "2023-03-20T13:55:42.300518Z",
     "iopub.status.idle": "2023-03-20T13:55:42.306001Z",
     "shell.execute_reply": "2023-03-20T13:55:42.304914Z"
    },
    "papermill": {
     "duration": 0.023124,
     "end_time": "2023-03-20T13:55:42.307740",
     "exception": false,
     "start_time": "2023-03-20T13:55:42.284616",
     "status": "completed"
    },
    "tags": []
   },
   "outputs": [],
   "source": [
    "metrics_data['KNN'] = {}"
   ]
  },
  {
   "cell_type": "markdown",
   "id": "8ee39c05",
   "metadata": {
    "papermill": {
     "duration": 0.01464,
     "end_time": "2023-03-20T13:55:42.336650",
     "exception": false,
     "start_time": "2023-03-20T13:55:42.322010",
     "status": "completed"
    },
    "tags": []
   },
   "source": [
    "**Euclidean Distance**"
   ]
  },
  {
   "cell_type": "code",
   "execution_count": 58,
   "id": "55db1f58",
   "metadata": {
    "execution": {
     "iopub.execute_input": "2023-03-20T13:55:42.369839Z",
     "iopub.status.busy": "2023-03-20T13:55:42.369324Z",
     "iopub.status.idle": "2023-03-20T13:55:42.375286Z",
     "shell.execute_reply": "2023-03-20T13:55:42.374091Z"
    },
    "papermill": {
     "duration": 0.025173,
     "end_time": "2023-03-20T13:55:42.377151",
     "exception": false,
     "start_time": "2023-03-20T13:55:42.351978",
     "status": "completed"
    },
    "tags": []
   },
   "outputs": [],
   "source": [
    "from sklearn.neighbors import KNeighborsClassifier"
   ]
  },
  {
   "cell_type": "code",
   "execution_count": 59,
   "id": "132c2537",
   "metadata": {
    "execution": {
     "iopub.execute_input": "2023-03-20T13:55:42.409237Z",
     "iopub.status.busy": "2023-03-20T13:55:42.408740Z",
     "iopub.status.idle": "2023-03-20T13:55:42.461651Z",
     "shell.execute_reply": "2023-03-20T13:55:42.460142Z"
    },
    "papermill": {
     "duration": 0.072397,
     "end_time": "2023-03-20T13:55:42.464562",
     "exception": false,
     "start_time": "2023-03-20T13:55:42.392165",
     "status": "completed"
    },
    "tags": []
   },
   "outputs": [
    {
     "data": {
      "text/html": [
       "<style>#sk-container-id-8 {color: black;background-color: white;}#sk-container-id-8 pre{padding: 0;}#sk-container-id-8 div.sk-toggleable {background-color: white;}#sk-container-id-8 label.sk-toggleable__label {cursor: pointer;display: block;width: 100%;margin-bottom: 0;padding: 0.3em;box-sizing: border-box;text-align: center;}#sk-container-id-8 label.sk-toggleable__label-arrow:before {content: \"▸\";float: left;margin-right: 0.25em;color: #696969;}#sk-container-id-8 label.sk-toggleable__label-arrow:hover:before {color: black;}#sk-container-id-8 div.sk-estimator:hover label.sk-toggleable__label-arrow:before {color: black;}#sk-container-id-8 div.sk-toggleable__content {max-height: 0;max-width: 0;overflow: hidden;text-align: left;background-color: #f0f8ff;}#sk-container-id-8 div.sk-toggleable__content pre {margin: 0.2em;color: black;border-radius: 0.25em;background-color: #f0f8ff;}#sk-container-id-8 input.sk-toggleable__control:checked~div.sk-toggleable__content {max-height: 200px;max-width: 100%;overflow: auto;}#sk-container-id-8 input.sk-toggleable__control:checked~label.sk-toggleable__label-arrow:before {content: \"▾\";}#sk-container-id-8 div.sk-estimator input.sk-toggleable__control:checked~label.sk-toggleable__label {background-color: #d4ebff;}#sk-container-id-8 div.sk-label input.sk-toggleable__control:checked~label.sk-toggleable__label {background-color: #d4ebff;}#sk-container-id-8 input.sk-hidden--visually {border: 0;clip: rect(1px 1px 1px 1px);clip: rect(1px, 1px, 1px, 1px);height: 1px;margin: -1px;overflow: hidden;padding: 0;position: absolute;width: 1px;}#sk-container-id-8 div.sk-estimator {font-family: monospace;background-color: #f0f8ff;border: 1px dotted black;border-radius: 0.25em;box-sizing: border-box;margin-bottom: 0.5em;}#sk-container-id-8 div.sk-estimator:hover {background-color: #d4ebff;}#sk-container-id-8 div.sk-parallel-item::after {content: \"\";width: 100%;border-bottom: 1px solid gray;flex-grow: 1;}#sk-container-id-8 div.sk-label:hover label.sk-toggleable__label {background-color: #d4ebff;}#sk-container-id-8 div.sk-serial::before {content: \"\";position: absolute;border-left: 1px solid gray;box-sizing: border-box;top: 0;bottom: 0;left: 50%;z-index: 0;}#sk-container-id-8 div.sk-serial {display: flex;flex-direction: column;align-items: center;background-color: white;padding-right: 0.2em;padding-left: 0.2em;position: relative;}#sk-container-id-8 div.sk-item {position: relative;z-index: 1;}#sk-container-id-8 div.sk-parallel {display: flex;align-items: stretch;justify-content: center;background-color: white;position: relative;}#sk-container-id-8 div.sk-item::before, #sk-container-id-8 div.sk-parallel-item::before {content: \"\";position: absolute;border-left: 1px solid gray;box-sizing: border-box;top: 0;bottom: 0;left: 50%;z-index: -1;}#sk-container-id-8 div.sk-parallel-item {display: flex;flex-direction: column;z-index: 1;position: relative;background-color: white;}#sk-container-id-8 div.sk-parallel-item:first-child::after {align-self: flex-end;width: 50%;}#sk-container-id-8 div.sk-parallel-item:last-child::after {align-self: flex-start;width: 50%;}#sk-container-id-8 div.sk-parallel-item:only-child::after {width: 0;}#sk-container-id-8 div.sk-dashed-wrapped {border: 1px dashed gray;margin: 0 0.4em 0.5em 0.4em;box-sizing: border-box;padding-bottom: 0.4em;background-color: white;}#sk-container-id-8 div.sk-label label {font-family: monospace;font-weight: bold;display: inline-block;line-height: 1.2em;}#sk-container-id-8 div.sk-label-container {text-align: center;}#sk-container-id-8 div.sk-container {/* jupyter's `normalize.less` sets `[hidden] { display: none; }` but bootstrap.min.css set `[hidden] { display: none !important; }` so we also need the `!important` here to be able to override the default hidden behavior on the sphinx rendered scikit-learn.org. See: https://github.com/scikit-learn/scikit-learn/issues/21755 */display: inline-block !important;position: relative;}#sk-container-id-8 div.sk-text-repr-fallback {display: none;}</style><div id=\"sk-container-id-8\" class=\"sk-top-container\"><div class=\"sk-text-repr-fallback\"><pre>KNeighborsClassifier()</pre><b>In a Jupyter environment, please rerun this cell to show the HTML representation or trust the notebook. <br />On GitHub, the HTML representation is unable to render, please try loading this page with nbviewer.org.</b></div><div class=\"sk-container\" hidden><div class=\"sk-item\"><div class=\"sk-estimator sk-toggleable\"><input class=\"sk-toggleable__control sk-hidden--visually\" id=\"sk-estimator-id-8\" type=\"checkbox\" checked><label for=\"sk-estimator-id-8\" class=\"sk-toggleable__label sk-toggleable__label-arrow\">KNeighborsClassifier</label><div class=\"sk-toggleable__content\"><pre>KNeighborsClassifier()</pre></div></div></div></div></div>"
      ],
      "text/plain": [
       "KNeighborsClassifier()"
      ]
     },
     "execution_count": 59,
     "metadata": {},
     "output_type": "execute_result"
    }
   ],
   "source": [
    "clf = KNeighborsClassifier(n_neighbors=5, weights='uniform')\n",
    "clf.fit(X_train, y_train)"
   ]
  },
  {
   "cell_type": "code",
   "execution_count": 60,
   "id": "0afad62a",
   "metadata": {
    "execution": {
     "iopub.execute_input": "2023-03-20T13:55:42.525241Z",
     "iopub.status.busy": "2023-03-20T13:55:42.524774Z",
     "iopub.status.idle": "2023-03-20T13:55:43.768294Z",
     "shell.execute_reply": "2023-03-20T13:55:43.767154Z"
    },
    "papermill": {
     "duration": 1.277624,
     "end_time": "2023-03-20T13:55:43.771453",
     "exception": false,
     "start_time": "2023-03-20T13:55:42.493829",
     "status": "completed"
    },
    "tags": []
   },
   "outputs": [
    {
     "name": "stdout",
     "output_type": "stream",
     "text": [
      "              precision    recall  f1-score   support\n",
      "\n",
      "         pop       0.61      0.34      0.44      2400\n",
      "        rock       0.54      0.78      0.64      2400\n",
      "\n",
      "    accuracy                           0.56      4800\n",
      "   macro avg       0.58      0.56      0.54      4800\n",
      "weighted avg       0.58      0.56      0.54      4800\n",
      "\n"
     ]
    }
   ],
   "source": [
    "y_pred = clf.predict(X_test)\n",
    "print(classification_report(y_test, y_pred))"
   ]
  },
  {
   "cell_type": "code",
   "execution_count": 61,
   "id": "2d709070",
   "metadata": {
    "execution": {
     "iopub.execute_input": "2023-03-20T13:55:43.850156Z",
     "iopub.status.busy": "2023-03-20T13:55:43.849830Z",
     "iopub.status.idle": "2023-03-20T13:55:43.967668Z",
     "shell.execute_reply": "2023-03-20T13:55:43.966646Z"
    },
    "papermill": {
     "duration": 0.159502,
     "end_time": "2023-03-20T13:55:43.970662",
     "exception": false,
     "start_time": "2023-03-20T13:55:43.811160",
     "status": "completed"
    },
    "tags": []
   },
   "outputs": [],
   "source": [
    "acc = accuracy_score(y_test, y_pred)\n",
    "pre = precision_score(y_test, y_pred, average=avg_par)\n",
    "rec = recall_score(y_test, y_pred, average=avg_par)\n",
    "f1 = f1_score(y_test, y_pred, average=avg_par)\n",
    "\n",
    "metrics_data['KNN']['Euclidean'] = {'Accuracy': acc, 'Precision': pre, 'Recall': rec, 'F1': f1}"
   ]
  },
  {
   "cell_type": "markdown",
   "id": "c5ec2a09",
   "metadata": {
    "papermill": {
     "duration": 0.035142,
     "end_time": "2023-03-20T13:55:44.045878",
     "exception": false,
     "start_time": "2023-03-20T13:55:44.010736",
     "status": "completed"
    },
    "tags": []
   },
   "source": [
    "**Dynamic Time Warping**"
   ]
  },
  {
   "cell_type": "code",
   "execution_count": 62,
   "id": "2df913d8",
   "metadata": {
    "execution": {
     "iopub.execute_input": "2023-03-20T13:55:44.077308Z",
     "iopub.status.busy": "2023-03-20T13:55:44.076989Z",
     "iopub.status.idle": "2023-03-20T13:55:44.142791Z",
     "shell.execute_reply": "2023-03-20T13:55:44.141877Z"
    },
    "papermill": {
     "duration": 0.083787,
     "end_time": "2023-03-20T13:55:44.145520",
     "exception": false,
     "start_time": "2023-03-20T13:55:44.061733",
     "status": "completed"
    },
    "tags": []
   },
   "outputs": [],
   "source": [
    "from pyts.classification import KNeighborsClassifier\n",
    "from pyts.approximation import PiecewiseAggregateApproximation\n",
    "from imblearn.under_sampling import ClusterCentroids\n",
    "from sklearn_extra.cluster import KMedoids"
   ]
  },
  {
   "cell_type": "code",
   "execution_count": 63,
   "id": "db1604ec",
   "metadata": {
    "execution": {
     "iopub.execute_input": "2023-03-20T13:55:44.178280Z",
     "iopub.status.busy": "2023-03-20T13:55:44.177902Z",
     "iopub.status.idle": "2023-03-20T13:55:44.710191Z",
     "shell.execute_reply": "2023-03-20T13:55:44.709213Z"
    },
    "papermill": {
     "duration": 0.550761,
     "end_time": "2023-03-20T13:55:44.713358",
     "exception": false,
     "start_time": "2023-03-20T13:55:44.162597",
     "status": "completed"
    },
    "tags": []
   },
   "outputs": [],
   "source": [
    "if paa_window_size:\n",
    "    paa = PiecewiseAggregateApproximation(window_size=paa_window_size)\n",
    "    X_train = paa.transform(X_train)\n",
    "    X_test = paa.transform(X_test)\n",
    "    X_train.shape"
   ]
  },
  {
   "cell_type": "code",
   "execution_count": 64,
   "id": "59fa27aa",
   "metadata": {
    "execution": {
     "iopub.execute_input": "2023-03-20T13:55:44.791029Z",
     "iopub.status.busy": "2023-03-20T13:55:44.790622Z",
     "iopub.status.idle": "2023-03-20T13:56:18.583160Z",
     "shell.execute_reply": "2023-03-20T13:56:18.582500Z"
    },
    "papermill": {
     "duration": 33.832262,
     "end_time": "2023-03-20T13:56:18.585504",
     "exception": false,
     "start_time": "2023-03-20T13:55:44.753242",
     "status": "completed"
    },
    "tags": []
   },
   "outputs": [
    {
     "name": "stdout",
     "output_type": "stream",
     "text": [
      "{'pop': 2880, 'rock': 2880}\n"
     ]
    },
    {
     "name": "stderr",
     "output_type": "stream",
     "text": [
      "/home/mattiapggioli/lyrics2ts/.venv/lib/python3.9/site-packages/sklearn_extra/cluster/_k_medoids.py:275: UserWarning: Cluster 222 is empty! self.labels_[self.medoid_indices_[222]] may not be labeled with its corresponding cluster (222).\n",
      "  warnings.warn(\n",
      "/home/mattiapggioli/lyrics2ts/.venv/lib/python3.9/site-packages/sklearn_extra/cluster/_k_medoids.py:275: UserWarning: Cluster 965 is empty! self.labels_[self.medoid_indices_[965]] may not be labeled with its corresponding cluster (965).\n",
      "  warnings.warn(\n",
      "/home/mattiapggioli/lyrics2ts/.venv/lib/python3.9/site-packages/sklearn_extra/cluster/_k_medoids.py:275: UserWarning: Cluster 1114 is empty! self.labels_[self.medoid_indices_[1114]] may not be labeled with its corresponding cluster (1114).\n",
      "  warnings.warn(\n",
      "/home/mattiapggioli/lyrics2ts/.venv/lib/python3.9/site-packages/sklearn_extra/cluster/_k_medoids.py:275: UserWarning: Cluster 1218 is empty! self.labels_[self.medoid_indices_[1218]] may not be labeled with its corresponding cluster (1218).\n",
      "  warnings.warn(\n",
      "/home/mattiapggioli/lyrics2ts/.venv/lib/python3.9/site-packages/sklearn_extra/cluster/_k_medoids.py:275: UserWarning: Cluster 2514 is empty! self.labels_[self.medoid_indices_[2514]] may not be labeled with its corresponding cluster (2514).\n",
      "  warnings.warn(\n"
     ]
    }
   ],
   "source": [
    "if undersampling:\n",
    "    total_samples = len(y_train)\n",
    "    unique_classes, class_counts = np.unique(y_train, return_counts=True)\n",
    "    samp_strat = dict(zip(unique_classes, np.floor(class_counts * undersampling).astype(int)))\n",
    "    print(samp_strat)\n",
    "    cc = ClusterCentroids(estimator=KMedoids(\n",
    "        random_state=42), sampling_strategy=samp_strat, random_state=42)\n",
    "    X_train, y_train = cc.fit_resample(X_train, y_train)\n",
    "    X_train.shape"
   ]
  },
  {
   "cell_type": "code",
   "execution_count": 65,
   "id": "e7ac6b44",
   "metadata": {
    "execution": {
     "iopub.execute_input": "2023-03-20T13:56:18.671478Z",
     "iopub.status.busy": "2023-03-20T13:56:18.671150Z",
     "iopub.status.idle": "2023-03-20T13:56:18.684726Z",
     "shell.execute_reply": "2023-03-20T13:56:18.683919Z"
    },
    "papermill": {
     "duration": 0.056864,
     "end_time": "2023-03-20T13:56:18.686536",
     "exception": false,
     "start_time": "2023-03-20T13:56:18.629672",
     "status": "completed"
    },
    "tags": []
   },
   "outputs": [
    {
     "data": {
      "text/html": [
       "<style>#sk-container-id-9 {color: black;background-color: white;}#sk-container-id-9 pre{padding: 0;}#sk-container-id-9 div.sk-toggleable {background-color: white;}#sk-container-id-9 label.sk-toggleable__label {cursor: pointer;display: block;width: 100%;margin-bottom: 0;padding: 0.3em;box-sizing: border-box;text-align: center;}#sk-container-id-9 label.sk-toggleable__label-arrow:before {content: \"▸\";float: left;margin-right: 0.25em;color: #696969;}#sk-container-id-9 label.sk-toggleable__label-arrow:hover:before {color: black;}#sk-container-id-9 div.sk-estimator:hover label.sk-toggleable__label-arrow:before {color: black;}#sk-container-id-9 div.sk-toggleable__content {max-height: 0;max-width: 0;overflow: hidden;text-align: left;background-color: #f0f8ff;}#sk-container-id-9 div.sk-toggleable__content pre {margin: 0.2em;color: black;border-radius: 0.25em;background-color: #f0f8ff;}#sk-container-id-9 input.sk-toggleable__control:checked~div.sk-toggleable__content {max-height: 200px;max-width: 100%;overflow: auto;}#sk-container-id-9 input.sk-toggleable__control:checked~label.sk-toggleable__label-arrow:before {content: \"▾\";}#sk-container-id-9 div.sk-estimator input.sk-toggleable__control:checked~label.sk-toggleable__label {background-color: #d4ebff;}#sk-container-id-9 div.sk-label input.sk-toggleable__control:checked~label.sk-toggleable__label {background-color: #d4ebff;}#sk-container-id-9 input.sk-hidden--visually {border: 0;clip: rect(1px 1px 1px 1px);clip: rect(1px, 1px, 1px, 1px);height: 1px;margin: -1px;overflow: hidden;padding: 0;position: absolute;width: 1px;}#sk-container-id-9 div.sk-estimator {font-family: monospace;background-color: #f0f8ff;border: 1px dotted black;border-radius: 0.25em;box-sizing: border-box;margin-bottom: 0.5em;}#sk-container-id-9 div.sk-estimator:hover {background-color: #d4ebff;}#sk-container-id-9 div.sk-parallel-item::after {content: \"\";width: 100%;border-bottom: 1px solid gray;flex-grow: 1;}#sk-container-id-9 div.sk-label:hover label.sk-toggleable__label {background-color: #d4ebff;}#sk-container-id-9 div.sk-serial::before {content: \"\";position: absolute;border-left: 1px solid gray;box-sizing: border-box;top: 0;bottom: 0;left: 50%;z-index: 0;}#sk-container-id-9 div.sk-serial {display: flex;flex-direction: column;align-items: center;background-color: white;padding-right: 0.2em;padding-left: 0.2em;position: relative;}#sk-container-id-9 div.sk-item {position: relative;z-index: 1;}#sk-container-id-9 div.sk-parallel {display: flex;align-items: stretch;justify-content: center;background-color: white;position: relative;}#sk-container-id-9 div.sk-item::before, #sk-container-id-9 div.sk-parallel-item::before {content: \"\";position: absolute;border-left: 1px solid gray;box-sizing: border-box;top: 0;bottom: 0;left: 50%;z-index: -1;}#sk-container-id-9 div.sk-parallel-item {display: flex;flex-direction: column;z-index: 1;position: relative;background-color: white;}#sk-container-id-9 div.sk-parallel-item:first-child::after {align-self: flex-end;width: 50%;}#sk-container-id-9 div.sk-parallel-item:last-child::after {align-self: flex-start;width: 50%;}#sk-container-id-9 div.sk-parallel-item:only-child::after {width: 0;}#sk-container-id-9 div.sk-dashed-wrapped {border: 1px dashed gray;margin: 0 0.4em 0.5em 0.4em;box-sizing: border-box;padding-bottom: 0.4em;background-color: white;}#sk-container-id-9 div.sk-label label {font-family: monospace;font-weight: bold;display: inline-block;line-height: 1.2em;}#sk-container-id-9 div.sk-label-container {text-align: center;}#sk-container-id-9 div.sk-container {/* jupyter's `normalize.less` sets `[hidden] { display: none; }` but bootstrap.min.css set `[hidden] { display: none !important; }` so we also need the `!important` here to be able to override the default hidden behavior on the sphinx rendered scikit-learn.org. See: https://github.com/scikit-learn/scikit-learn/issues/21755 */display: inline-block !important;position: relative;}#sk-container-id-9 div.sk-text-repr-fallback {display: none;}</style><div id=\"sk-container-id-9\" class=\"sk-top-container\"><div class=\"sk-text-repr-fallback\"><pre>KNeighborsClassifier(metric=&#x27;dtw_sakoechiba&#x27;, metric_params={&#x27;window_size&#x27;: 3})</pre><b>In a Jupyter environment, please rerun this cell to show the HTML representation or trust the notebook. <br />On GitHub, the HTML representation is unable to render, please try loading this page with nbviewer.org.</b></div><div class=\"sk-container\" hidden><div class=\"sk-item\"><div class=\"sk-estimator sk-toggleable\"><input class=\"sk-toggleable__control sk-hidden--visually\" id=\"sk-estimator-id-9\" type=\"checkbox\" checked><label for=\"sk-estimator-id-9\" class=\"sk-toggleable__label sk-toggleable__label-arrow\">KNeighborsClassifier</label><div class=\"sk-toggleable__content\"><pre>KNeighborsClassifier(metric=&#x27;dtw_sakoechiba&#x27;, metric_params={&#x27;window_size&#x27;: 3})</pre></div></div></div></div></div>"
      ],
      "text/plain": [
       "KNeighborsClassifier(metric='dtw_sakoechiba', metric_params={'window_size': 3})"
      ]
     },
     "execution_count": 65,
     "metadata": {},
     "output_type": "execute_result"
    }
   ],
   "source": [
    "clf = KNeighborsClassifier(metric='dtw_sakoechiba',  metric_params={'window_size':3})\n",
    "\n",
    "clf.fit(X_train, y_train)"
   ]
  },
  {
   "cell_type": "code",
   "execution_count": 66,
   "id": "8109d19d",
   "metadata": {
    "execution": {
     "iopub.execute_input": "2023-03-20T13:56:18.718371Z",
     "iopub.status.busy": "2023-03-20T13:56:18.717753Z",
     "iopub.status.idle": "2023-03-20T15:15:26.873642Z",
     "shell.execute_reply": "2023-03-20T15:15:26.872582Z"
    },
    "papermill": {
     "duration": 4748.197071,
     "end_time": "2023-03-20T15:15:26.899155",
     "exception": false,
     "start_time": "2023-03-20T13:56:18.702084",
     "status": "completed"
    },
    "tags": []
   },
   "outputs": [
    {
     "name": "stdout",
     "output_type": "stream",
     "text": [
      "              precision    recall  f1-score   support\n",
      "\n",
      "         pop       0.61      0.59      0.60      2400\n",
      "        rock       0.60      0.62      0.61      2400\n",
      "\n",
      "    accuracy                           0.60      4800\n",
      "   macro avg       0.60      0.60      0.60      4800\n",
      "weighted avg       0.60      0.60      0.60      4800\n",
      "\n",
      "CPU times: user 1h 19min 7s, sys: 770 ms, total: 1h 19min 8s\n",
      "Wall time: 1h 19min 8s\n"
     ]
    }
   ],
   "source": [
    "%%time\n",
    "y_pred = clf.predict(X_test)\n",
    "print(classification_report(y_test, y_pred))"
   ]
  },
  {
   "cell_type": "code",
   "execution_count": 67,
   "id": "b09f5cdf",
   "metadata": {
    "execution": {
     "iopub.execute_input": "2023-03-20T15:15:26.954862Z",
     "iopub.status.busy": "2023-03-20T15:15:26.954019Z",
     "iopub.status.idle": "2023-03-20T15:15:27.081069Z",
     "shell.execute_reply": "2023-03-20T15:15:27.080281Z"
    },
    "papermill": {
     "duration": 0.169533,
     "end_time": "2023-03-20T15:15:27.083245",
     "exception": false,
     "start_time": "2023-03-20T15:15:26.913712",
     "status": "completed"
    },
    "tags": []
   },
   "outputs": [],
   "source": [
    "acc = accuracy_score(y_test, y_pred)\n",
    "pre = precision_score(y_test, y_pred, average=avg_par)\n",
    "rec = recall_score(y_test, y_pred, average=avg_par)\n",
    "f1 = f1_score(y_test, y_pred, average=avg_par)\n",
    "\n",
    "metrics_data['KNN']['DTW'] = {'Accuracy': acc, 'Precision': pre, 'Recall': rec, 'F1': f1}"
   ]
  },
  {
   "cell_type": "markdown",
   "id": "e0e700a7",
   "metadata": {
    "papermill": {
     "duration": 0.014464,
     "end_time": "2023-03-20T15:15:27.112179",
     "exception": false,
     "start_time": "2023-03-20T15:15:27.097715",
     "status": "completed"
    },
    "tags": []
   },
   "source": [
    "## Overall Results"
   ]
  },
  {
   "cell_type": "code",
   "execution_count": 68,
   "id": "d003c193",
   "metadata": {
    "execution": {
     "iopub.execute_input": "2023-03-20T15:15:27.143232Z",
     "iopub.status.busy": "2023-03-20T15:15:27.142739Z",
     "iopub.status.idle": "2023-03-20T15:15:27.159827Z",
     "shell.execute_reply": "2023-03-20T15:15:27.159147Z"
    },
    "papermill": {
     "duration": 0.036577,
     "end_time": "2023-03-20T15:15:27.163382",
     "exception": false,
     "start_time": "2023-03-20T15:15:27.126805",
     "status": "completed"
    },
    "tags": []
   },
   "outputs": [],
   "source": [
    "metrics_data = pd.DataFrame.from_dict({(i,j): metrics_data[i][j] \n",
    "                                       for i in metrics_data.keys() \n",
    "                                       for j in metrics_data[i].keys()},\n",
    "                                       orient='index')"
   ]
  },
  {
   "cell_type": "code",
   "execution_count": 69,
   "id": "0944fe84",
   "metadata": {
    "execution": {
     "iopub.execute_input": "2023-03-20T15:15:27.222833Z",
     "iopub.status.busy": "2023-03-20T15:15:27.222555Z",
     "iopub.status.idle": "2023-03-20T15:15:27.314664Z",
     "shell.execute_reply": "2023-03-20T15:15:27.313797Z"
    },
    "papermill": {
     "duration": 0.111527,
     "end_time": "2023-03-20T15:15:27.316774",
     "exception": false,
     "start_time": "2023-03-20T15:15:27.205247",
     "status": "completed"
    },
    "tags": []
   },
   "outputs": [],
   "source": [
    "acc = accuracy_score(y_test, y_pred)\n",
    "pre = precision_score(y_test, y_pred, average=avg_par)\n",
    "rec = recall_score(y_test, y_pred, average=avg_par)\n",
    "f1 = f1_score(y_test, y_pred, average=avg_par)"
   ]
  },
  {
   "cell_type": "code",
   "execution_count": 70,
   "id": "7ee1b347",
   "metadata": {
    "execution": {
     "iopub.execute_input": "2023-03-20T15:15:27.348740Z",
     "iopub.status.busy": "2023-03-20T15:15:27.348441Z",
     "iopub.status.idle": "2023-03-20T15:15:27.361642Z",
     "shell.execute_reply": "2023-03-20T15:15:27.360614Z"
    },
    "papermill": {
     "duration": 0.030933,
     "end_time": "2023-03-20T15:15:27.363354",
     "exception": false,
     "start_time": "2023-03-20T15:15:27.332421",
     "status": "completed"
    },
    "tags": []
   },
   "outputs": [
    {
     "data": {
      "text/html": [
       "<div>\n",
       "<style scoped>\n",
       "    .dataframe tbody tr th:only-of-type {\n",
       "        vertical-align: middle;\n",
       "    }\n",
       "\n",
       "    .dataframe tbody tr th {\n",
       "        vertical-align: top;\n",
       "    }\n",
       "\n",
       "    .dataframe thead th {\n",
       "        text-align: right;\n",
       "    }\n",
       "</style>\n",
       "<table border=\"1\" class=\"dataframe\">\n",
       "  <thead>\n",
       "    <tr style=\"text-align: right;\">\n",
       "      <th></th>\n",
       "      <th></th>\n",
       "      <th>Accuracy</th>\n",
       "      <th>Precision</th>\n",
       "      <th>Recall</th>\n",
       "      <th>F1</th>\n",
       "    </tr>\n",
       "  </thead>\n",
       "  <tbody>\n",
       "    <tr>\n",
       "      <th rowspan=\"3\" valign=\"top\">Global</th>\n",
       "      <th>DecisionTree</th>\n",
       "      <td>0.583542</td>\n",
       "      <td>0.583549</td>\n",
       "      <td>0.583542</td>\n",
       "      <td>0.583532</td>\n",
       "    </tr>\n",
       "    <tr>\n",
       "      <th>RandomForest</th>\n",
       "      <td>0.670417</td>\n",
       "      <td>0.670554</td>\n",
       "      <td>0.670417</td>\n",
       "      <td>0.670351</td>\n",
       "    </tr>\n",
       "    <tr>\n",
       "      <th>LightGBM</th>\n",
       "      <td>0.679375</td>\n",
       "      <td>0.679413</td>\n",
       "      <td>0.679375</td>\n",
       "      <td>0.679358</td>\n",
       "    </tr>\n",
       "    <tr>\n",
       "      <th rowspan=\"3\" valign=\"top\">Shapelets</th>\n",
       "      <th>DecisionTree</th>\n",
       "      <td>0.571458</td>\n",
       "      <td>0.571465</td>\n",
       "      <td>0.571458</td>\n",
       "      <td>0.571448</td>\n",
       "    </tr>\n",
       "    <tr>\n",
       "      <th>RandomForest</th>\n",
       "      <td>0.640833</td>\n",
       "      <td>0.640982</td>\n",
       "      <td>0.640833</td>\n",
       "      <td>0.640738</td>\n",
       "    </tr>\n",
       "    <tr>\n",
       "      <th>LightGBM</th>\n",
       "      <td>0.636875</td>\n",
       "      <td>0.637525</td>\n",
       "      <td>0.636875</td>\n",
       "      <td>0.636445</td>\n",
       "    </tr>\n",
       "    <tr>\n",
       "      <th rowspan=\"2\" valign=\"top\">KNN</th>\n",
       "      <th>Euclidean</th>\n",
       "      <td>0.560833</td>\n",
       "      <td>0.575645</td>\n",
       "      <td>0.560833</td>\n",
       "      <td>0.538229</td>\n",
       "    </tr>\n",
       "    <tr>\n",
       "      <th>DTW</th>\n",
       "      <td>0.601875</td>\n",
       "      <td>0.601975</td>\n",
       "      <td>0.601875</td>\n",
       "      <td>0.601778</td>\n",
       "    </tr>\n",
       "  </tbody>\n",
       "</table>\n",
       "</div>"
      ],
      "text/plain": [
       "                        Accuracy  Precision    Recall        F1\n",
       "Global    DecisionTree  0.583542   0.583549  0.583542  0.583532\n",
       "          RandomForest  0.670417   0.670554  0.670417  0.670351\n",
       "          LightGBM      0.679375   0.679413  0.679375  0.679358\n",
       "Shapelets DecisionTree  0.571458   0.571465  0.571458  0.571448\n",
       "          RandomForest  0.640833   0.640982  0.640833  0.640738\n",
       "          LightGBM      0.636875   0.637525  0.636875  0.636445\n",
       "KNN       Euclidean     0.560833   0.575645  0.560833  0.538229\n",
       "          DTW           0.601875   0.601975  0.601875  0.601778"
      ]
     },
     "execution_count": 70,
     "metadata": {},
     "output_type": "execute_result"
    }
   ],
   "source": [
    "metrics_data"
   ]
  },
  {
   "cell_type": "code",
   "execution_count": 71,
   "id": "3efc173e",
   "metadata": {
    "execution": {
     "iopub.execute_input": "2023-03-20T15:15:27.394772Z",
     "iopub.status.busy": "2023-03-20T15:15:27.394136Z",
     "iopub.status.idle": "2023-03-20T15:15:27.424278Z",
     "shell.execute_reply": "2023-03-20T15:15:27.423507Z"
    },
    "papermill": {
     "duration": 0.04828,
     "end_time": "2023-03-20T15:15:27.426336",
     "exception": false,
     "start_time": "2023-03-20T15:15:27.378056",
     "status": "completed"
    },
    "tags": []
   },
   "outputs": [],
   "source": [
    "metrics_data.to_csv(f'{data_path}/metrics.csv')"
   ]
  },
  {
   "cell_type": "code",
   "execution_count": null,
   "id": "d21f5304",
   "metadata": {
    "papermill": {
     "duration": 0.014742,
     "end_time": "2023-03-20T15:15:27.457885",
     "exception": false,
     "start_time": "2023-03-20T15:15:27.443143",
     "status": "completed"
    },
    "tags": []
   },
   "outputs": [],
   "source": []
  }
 ],
 "metadata": {
  "celltoolbar": "Tags",
  "kernelspec": {
   "display_name": "Python 3 (ipykernel)",
   "language": "python",
   "name": "python3"
  },
  "language_info": {
   "codemirror_mode": {
    "name": "ipython",
    "version": 3
   },
   "file_extension": ".py",
   "mimetype": "text/x-python",
   "name": "python",
   "nbconvert_exporter": "python",
   "pygments_lexer": "ipython3",
   "version": "3.9.16"
  },
  "papermill": {
   "default_parameters": {},
   "duration": 6603.934928,
   "end_time": "2023-03-20T15:15:30.117586",
   "environment_variables": {},
   "exception": null,
   "input_path": "09_ts_classification.ipynb",
   "output_path": "../clf-reports/pp-rc_sbert.ipynb",
   "parameters": {
    "data_path": "/home/mattiapggioli/lyrics2ts/data/classification/pp-rc/sbert/",
    "paa_window_size": 20,
    "undersampling": 0.3
   },
   "start_time": "2023-03-20T13:25:26.182658",
   "version": "2.4.0"
  },
  "vscode": {
   "interpreter": {
    "hash": "eb8d1ded7c87c6f9c253b40add648304d6b51d2e38393955e855effc7e6f899a"
   }
  }
 },
 "nbformat": 4,
 "nbformat_minor": 5
}