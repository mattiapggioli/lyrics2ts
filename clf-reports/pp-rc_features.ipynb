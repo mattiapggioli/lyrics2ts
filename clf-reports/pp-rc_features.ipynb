{
 "cells": [
  {
   "cell_type": "markdown",
   "id": "d79a68c5",
   "metadata": {
    "papermill": {
     "duration": 0.02844,
     "end_time": "2023-03-09T11:42:53.337199",
     "exception": false,
     "start_time": "2023-03-09T11:42:53.308759",
     "status": "completed"
    },
    "tags": []
   },
   "source": [
    "# Time Series Classification"
   ]
  },
  {
   "cell_type": "code",
   "execution_count": 1,
   "id": "8a0cb2b0",
   "metadata": {
    "execution": {
     "iopub.execute_input": "2023-03-09T11:42:53.363754Z",
     "iopub.status.busy": "2023-03-09T11:42:53.363513Z",
     "iopub.status.idle": "2023-03-09T11:42:54.823057Z",
     "shell.execute_reply": "2023-03-09T11:42:54.822124Z"
    },
    "papermill": {
     "duration": 1.473757,
     "end_time": "2023-03-09T11:42:54.825223",
     "exception": false,
     "start_time": "2023-03-09T11:42:53.351466",
     "status": "completed"
    },
    "tags": []
   },
   "outputs": [],
   "source": [
    "%matplotlib inline\n",
    "import pandas as pd\n",
    "import numpy as np\n",
    "import matplotlib.pyplot as plt\n",
    "import seaborn as sns\n",
    "import re\n",
    "import os\n",
    "from sklearn.preprocessing import StandardScaler\n",
    "from sklearn.decomposition import PCA\n",
    "import joblib\n",
    "from tslearn.utils import to_time_series_dataset, save_time_series_txt, load_time_series_txt\n",
    "import random\n",
    "from sklearn.model_selection import train_test_split\n",
    "from sklearn.metrics import accuracy_score, f1_score, precision_score, recall_score, classification_report\n",
    "import pickle"
   ]
  },
  {
   "cell_type": "code",
   "execution_count": 2,
   "id": "acc03405",
   "metadata": {
    "execution": {
     "iopub.execute_input": "2023-03-09T11:42:54.849732Z",
     "iopub.status.busy": "2023-03-09T11:42:54.849366Z",
     "iopub.status.idle": "2023-03-09T11:42:54.854743Z",
     "shell.execute_reply": "2023-03-09T11:42:54.853059Z"
    },
    "papermill": {
     "duration": 0.020694,
     "end_time": "2023-03-09T11:42:54.858417",
     "exception": false,
     "start_time": "2023-03-09T11:42:54.837723",
     "status": "completed"
    },
    "tags": [
     "parameters"
    ]
   },
   "outputs": [],
   "source": [
    "data_path = '/home/mattiapggioli/lyrics2ts/data/classification/pp-rc/sbert/'\n",
    "truncate=100\n",
    "max_iter = 2000\n",
    "paa_window_size = None\n",
    "undersampling = None"
   ]
  },
  {
   "cell_type": "code",
   "execution_count": 3,
   "id": "c510ca3e",
   "metadata": {
    "execution": {
     "iopub.execute_input": "2023-03-09T11:42:54.890644Z",
     "iopub.status.busy": "2023-03-09T11:42:54.890395Z",
     "iopub.status.idle": "2023-03-09T11:42:54.894486Z",
     "shell.execute_reply": "2023-03-09T11:42:54.893613Z"
    },
    "papermill": {
     "duration": 0.018018,
     "end_time": "2023-03-09T11:42:54.896294",
     "exception": false,
     "start_time": "2023-03-09T11:42:54.878276",
     "status": "completed"
    },
    "tags": [
     "injected-parameters"
    ]
   },
   "outputs": [],
   "source": [
    "# Parameters\n",
    "data_path = \"/home/mattiapggioli/lyrics2ts/data/classification/pp-rc/features/\"\n",
    "paa_window_size = 20\n",
    "undersampling = 0.3\n"
   ]
  },
  {
   "cell_type": "code",
   "execution_count": 4,
   "id": "a4f0c774",
   "metadata": {
    "execution": {
     "iopub.execute_input": "2023-03-09T11:42:54.918468Z",
     "iopub.status.busy": "2023-03-09T11:42:54.918212Z",
     "iopub.status.idle": "2023-03-09T11:43:12.879434Z",
     "shell.execute_reply": "2023-03-09T11:43:12.878508Z"
    },
    "papermill": {
     "duration": 17.975624,
     "end_time": "2023-03-09T11:43:12.882444",
     "exception": false,
     "start_time": "2023-03-09T11:42:54.906820",
     "status": "completed"
    },
    "tags": []
   },
   "outputs": [],
   "source": [
    "ts = load_time_series_txt(f'{data_path}/ts.txt')"
   ]
  },
  {
   "cell_type": "code",
   "execution_count": 5,
   "id": "5c48d154",
   "metadata": {
    "execution": {
     "iopub.execute_input": "2023-03-09T11:43:12.940946Z",
     "iopub.status.busy": "2023-03-09T11:43:12.940639Z",
     "iopub.status.idle": "2023-03-09T11:43:12.949197Z",
     "shell.execute_reply": "2023-03-09T11:43:12.947549Z"
    },
    "papermill": {
     "duration": 0.0411,
     "end_time": "2023-03-09T11:43:12.953237",
     "exception": false,
     "start_time": "2023-03-09T11:43:12.912137",
     "status": "completed"
    },
    "tags": []
   },
   "outputs": [
    {
     "data": {
      "text/plain": [
       "(24000, 130, 1)"
      ]
     },
     "execution_count": 5,
     "metadata": {},
     "output_type": "execute_result"
    }
   ],
   "source": [
    "ts.shape"
   ]
  },
  {
   "cell_type": "code",
   "execution_count": 6,
   "id": "f6274d40",
   "metadata": {
    "execution": {
     "iopub.execute_input": "2023-03-09T11:43:12.991816Z",
     "iopub.status.busy": "2023-03-09T11:43:12.991423Z",
     "iopub.status.idle": "2023-03-09T11:43:12.997690Z",
     "shell.execute_reply": "2023-03-09T11:43:12.996997Z"
    },
    "papermill": {
     "duration": 0.019981,
     "end_time": "2023-03-09T11:43:12.999448",
     "exception": false,
     "start_time": "2023-03-09T11:43:12.979467",
     "status": "completed"
    },
    "tags": []
   },
   "outputs": [],
   "source": [
    "with open(f'{data_path}/y_class.npy', 'rb') as f:\n",
    "    y = np.load(f, allow_pickle=True)"
   ]
  },
  {
   "cell_type": "code",
   "execution_count": 7,
   "id": "9d42fa3b",
   "metadata": {
    "execution": {
     "iopub.execute_input": "2023-03-09T11:43:13.021923Z",
     "iopub.status.busy": "2023-03-09T11:43:13.021532Z",
     "iopub.status.idle": "2023-03-09T11:43:13.029727Z",
     "shell.execute_reply": "2023-03-09T11:43:13.029108Z"
    },
    "papermill": {
     "duration": 0.021306,
     "end_time": "2023-03-09T11:43:13.031292",
     "exception": false,
     "start_time": "2023-03-09T11:43:13.009986",
     "status": "completed"
    },
    "tags": []
   },
   "outputs": [],
   "source": [
    "with open(f'{data_path}/X.npy', 'rb') as f:\n",
    "    X = np.load(f, allow_pickle=True)"
   ]
  },
  {
   "cell_type": "code",
   "execution_count": 8,
   "id": "1158a9da",
   "metadata": {
    "execution": {
     "iopub.execute_input": "2023-03-09T11:43:13.053869Z",
     "iopub.status.busy": "2023-03-09T11:43:13.053417Z",
     "iopub.status.idle": "2023-03-09T11:43:13.059809Z",
     "shell.execute_reply": "2023-03-09T11:43:13.059005Z"
    },
    "papermill": {
     "duration": 0.019522,
     "end_time": "2023-03-09T11:43:13.061419",
     "exception": false,
     "start_time": "2023-03-09T11:43:13.041897",
     "status": "completed"
    },
    "tags": []
   },
   "outputs": [
    {
     "data": {
      "text/plain": [
       "(24000, 14)"
      ]
     },
     "execution_count": 8,
     "metadata": {},
     "output_type": "execute_result"
    }
   ],
   "source": [
    "X.shape"
   ]
  },
  {
   "cell_type": "code",
   "execution_count": 9,
   "id": "47239790",
   "metadata": {
    "execution": {
     "iopub.execute_input": "2023-03-09T11:43:13.085106Z",
     "iopub.status.busy": "2023-03-09T11:43:13.084754Z",
     "iopub.status.idle": "2023-03-09T11:43:13.090547Z",
     "shell.execute_reply": "2023-03-09T11:43:13.089866Z"
    },
    "papermill": {
     "duration": 0.02012,
     "end_time": "2023-03-09T11:43:13.092110",
     "exception": false,
     "start_time": "2023-03-09T11:43:13.071990",
     "status": "completed"
    },
    "tags": []
   },
   "outputs": [
    {
     "data": {
      "text/plain": [
       "{'pop', 'rock'}"
      ]
     },
     "execution_count": 9,
     "metadata": {},
     "output_type": "execute_result"
    }
   ],
   "source": [
    "set(y)"
   ]
  },
  {
   "cell_type": "code",
   "execution_count": 10,
   "id": "37609992",
   "metadata": {
    "execution": {
     "iopub.execute_input": "2023-03-09T11:43:13.114851Z",
     "iopub.status.busy": "2023-03-09T11:43:13.114471Z",
     "iopub.status.idle": "2023-03-09T11:43:13.131412Z",
     "shell.execute_reply": "2023-03-09T11:43:13.130730Z"
    },
    "papermill": {
     "duration": 0.030661,
     "end_time": "2023-03-09T11:43:13.133385",
     "exception": false,
     "start_time": "2023-03-09T11:43:13.102724",
     "status": "completed"
    },
    "tags": []
   },
   "outputs": [],
   "source": [
    "ts_train, ts_test, y_train, y_test = train_test_split(ts, y, test_size=0.20, random_state=42)"
   ]
  },
  {
   "cell_type": "code",
   "execution_count": 11,
   "id": "34508fe4",
   "metadata": {
    "execution": {
     "iopub.execute_input": "2023-03-09T11:43:13.157982Z",
     "iopub.status.busy": "2023-03-09T11:43:13.157532Z",
     "iopub.status.idle": "2023-03-09T11:43:13.167216Z",
     "shell.execute_reply": "2023-03-09T11:43:13.166400Z"
    },
    "papermill": {
     "duration": 0.02307,
     "end_time": "2023-03-09T11:43:13.168921",
     "exception": false,
     "start_time": "2023-03-09T11:43:13.145851",
     "status": "completed"
    },
    "tags": []
   },
   "outputs": [],
   "source": [
    "X_train, X_test, y_train, y_test = train_test_split(X, y, test_size=0.20, random_state=42)"
   ]
  },
  {
   "cell_type": "code",
   "execution_count": 12,
   "id": "076afac9",
   "metadata": {
    "execution": {
     "iopub.execute_input": "2023-03-09T11:43:13.192533Z",
     "iopub.status.busy": "2023-03-09T11:43:13.192092Z",
     "iopub.status.idle": "2023-03-09T11:43:13.201363Z",
     "shell.execute_reply": "2023-03-09T11:43:13.200732Z"
    },
    "papermill": {
     "duration": 0.024271,
     "end_time": "2023-03-09T11:43:13.203967",
     "exception": false,
     "start_time": "2023-03-09T11:43:13.179696",
     "status": "completed"
    },
    "tags": []
   },
   "outputs": [
    {
     "data": {
      "text/plain": [
       "array([[-3.30142693],\n",
       "       [-3.4558812 ],\n",
       "       [-2.78929361],\n",
       "       [-3.2508996 ],\n",
       "       [-3.22250271],\n",
       "       [-0.30309739],\n",
       "       [-1.62272765],\n",
       "       [ 1.36609892],\n",
       "       [ 1.14958944],\n",
       "       [-0.42347411],\n",
       "       [ 0.37570013],\n",
       "       [-0.66256494],\n",
       "       [ 0.09365135],\n",
       "       [-0.38686967],\n",
       "       [-4.39984688],\n",
       "       [-3.57605415],\n",
       "       [-3.00215036],\n",
       "       [-0.86667809],\n",
       "       [ 1.36609892],\n",
       "       [ 1.14958944],\n",
       "       [-0.42347411],\n",
       "       [ 0.37570013],\n",
       "       [-0.66256494],\n",
       "       [ 0.09365135],\n",
       "       [-0.38686967],\n",
       "       [-1.97455903],\n",
       "       [-2.00582672],\n",
       "       [-2.92773108],\n",
       "       [ 0.03215938],\n",
       "       [ 1.36609892],\n",
       "       [ 1.14958944],\n",
       "       [-0.42347411],\n",
       "       [ 0.37570013],\n",
       "       [-0.66256494],\n",
       "       [ 0.09365135],\n",
       "       [-0.38686967],\n",
       "       [ 1.36609892],\n",
       "       [ 1.14958944],\n",
       "       [-0.42347411],\n",
       "       [ 0.37570013],\n",
       "       [-0.66256494],\n",
       "       [ 0.09365135],\n",
       "       [-0.38686967],\n",
       "       [ 1.62389967],\n",
       "       [        nan],\n",
       "       [        nan],\n",
       "       [        nan],\n",
       "       [        nan],\n",
       "       [        nan],\n",
       "       [        nan],\n",
       "       [        nan],\n",
       "       [        nan],\n",
       "       [        nan],\n",
       "       [        nan],\n",
       "       [        nan],\n",
       "       [        nan],\n",
       "       [        nan],\n",
       "       [        nan],\n",
       "       [        nan],\n",
       "       [        nan],\n",
       "       [        nan],\n",
       "       [        nan],\n",
       "       [        nan],\n",
       "       [        nan],\n",
       "       [        nan],\n",
       "       [        nan],\n",
       "       [        nan],\n",
       "       [        nan],\n",
       "       [        nan],\n",
       "       [        nan],\n",
       "       [        nan],\n",
       "       [        nan],\n",
       "       [        nan],\n",
       "       [        nan],\n",
       "       [        nan],\n",
       "       [        nan],\n",
       "       [        nan],\n",
       "       [        nan],\n",
       "       [        nan],\n",
       "       [        nan],\n",
       "       [        nan],\n",
       "       [        nan],\n",
       "       [        nan],\n",
       "       [        nan],\n",
       "       [        nan],\n",
       "       [        nan],\n",
       "       [        nan],\n",
       "       [        nan],\n",
       "       [        nan],\n",
       "       [        nan],\n",
       "       [        nan],\n",
       "       [        nan],\n",
       "       [        nan],\n",
       "       [        nan],\n",
       "       [        nan],\n",
       "       [        nan],\n",
       "       [        nan],\n",
       "       [        nan],\n",
       "       [        nan],\n",
       "       [        nan],\n",
       "       [        nan],\n",
       "       [        nan],\n",
       "       [        nan],\n",
       "       [        nan],\n",
       "       [        nan],\n",
       "       [        nan],\n",
       "       [        nan],\n",
       "       [        nan],\n",
       "       [        nan],\n",
       "       [        nan],\n",
       "       [        nan],\n",
       "       [        nan],\n",
       "       [        nan],\n",
       "       [        nan],\n",
       "       [        nan],\n",
       "       [        nan],\n",
       "       [        nan],\n",
       "       [        nan],\n",
       "       [        nan],\n",
       "       [        nan],\n",
       "       [        nan],\n",
       "       [        nan],\n",
       "       [        nan],\n",
       "       [        nan],\n",
       "       [        nan],\n",
       "       [        nan],\n",
       "       [        nan],\n",
       "       [        nan],\n",
       "       [        nan],\n",
       "       [        nan]])"
      ]
     },
     "execution_count": 12,
     "metadata": {},
     "output_type": "execute_result"
    }
   ],
   "source": [
    "random.choice(ts_train)"
   ]
  },
  {
   "cell_type": "code",
   "execution_count": 13,
   "id": "ca66457a",
   "metadata": {
    "execution": {
     "iopub.execute_input": "2023-03-09T11:43:13.229416Z",
     "iopub.status.busy": "2023-03-09T11:43:13.229001Z",
     "iopub.status.idle": "2023-03-09T11:43:13.670023Z",
     "shell.execute_reply": "2023-03-09T11:43:13.669034Z"
    },
    "papermill": {
     "duration": 0.455266,
     "end_time": "2023-03-09T11:43:13.672101",
     "exception": false,
     "start_time": "2023-03-09T11:43:13.216835",
     "status": "completed"
    },
    "tags": []
   },
   "outputs": [
    {
     "data": {
      "text/plain": [
       "<AxesSubplot:ylabel='Count'>"
      ]
     },
     "execution_count": 13,
     "metadata": {},
     "output_type": "execute_result"
    },
    {
     "data": {
      "image/png": "[encoded data removed]",
      "text/plain": [
       "<Figure size 640x480 with 1 Axes>"
      ]
     },
     "metadata": {},
     "output_type": "display_data"
    }
   ],
   "source": [
    "sns.histplot([t[~np.any(np.isnan(t), axis=1)].shape[0] for t in ts_train])"
   ]
  },
  {
   "cell_type": "code",
   "execution_count": 14,
   "id": "c2ae286f",
   "metadata": {
    "execution": {
     "iopub.execute_input": "2023-03-09T11:43:13.698572Z",
     "iopub.status.busy": "2023-03-09T11:43:13.698261Z",
     "iopub.status.idle": "2023-03-09T11:43:13.703280Z",
     "shell.execute_reply": "2023-03-09T11:43:13.702075Z"
    },
    "papermill": {
     "duration": 0.018705,
     "end_time": "2023-03-09T11:43:13.704911",
     "exception": false,
     "start_time": "2023-03-09T11:43:13.686206",
     "status": "completed"
    },
    "tags": []
   },
   "outputs": [],
   "source": [
    "ts_train = ts_train[:, :truncate, :]\n",
    "ts_test = ts_test[:, :truncate, :]"
   ]
  },
  {
   "cell_type": "code",
   "execution_count": 15,
   "id": "3218baa4",
   "metadata": {
    "execution": {
     "iopub.execute_input": "2023-03-09T11:43:13.745656Z",
     "iopub.status.busy": "2023-03-09T11:43:13.745364Z",
     "iopub.status.idle": "2023-03-09T11:43:13.834120Z",
     "shell.execute_reply": "2023-03-09T11:43:13.833334Z"
    },
    "papermill": {
     "duration": 0.120893,
     "end_time": "2023-03-09T11:43:13.836777",
     "exception": false,
     "start_time": "2023-03-09T11:43:13.715884",
     "status": "completed"
    },
    "tags": []
   },
   "outputs": [],
   "source": [
    "mean_arr = np.nanmean(ts_train, axis=1, keepdims=True)\n",
    "nan_indices = np.isnan(ts_train)\n",
    "ts_train[nan_indices] = np.take(mean_arr, np.nonzero(nan_indices)[0])\n",
    "\n",
    "mean_arr = np.nanmean(ts_test, axis=1, keepdims=True)\n",
    "nan_indices = np.isnan(ts_test)\n",
    "ts_test[nan_indices] = np.take(mean_arr, np.nonzero(nan_indices)[0])"
   ]
  },
  {
   "cell_type": "code",
   "execution_count": 16,
   "id": "d369691b",
   "metadata": {
    "execution": {
     "iopub.execute_input": "2023-03-09T11:43:13.901191Z",
     "iopub.status.busy": "2023-03-09T11:43:13.900897Z",
     "iopub.status.idle": "2023-03-09T11:43:13.907875Z",
     "shell.execute_reply": "2023-03-09T11:43:13.906810Z"
    },
    "papermill": {
     "duration": 0.042683,
     "end_time": "2023-03-09T11:43:13.911089",
     "exception": false,
     "start_time": "2023-03-09T11:43:13.868406",
     "status": "completed"
    },
    "tags": []
   },
   "outputs": [
    {
     "data": {
      "text/plain": [
       "0"
      ]
     },
     "execution_count": 16,
     "metadata": {},
     "output_type": "execute_result"
    }
   ],
   "source": [
    "np.count_nonzero(np.isnan(X_train))"
   ]
  },
  {
   "cell_type": "code",
   "execution_count": 17,
   "id": "0d602e18",
   "metadata": {
    "execution": {
     "iopub.execute_input": "2023-03-09T11:43:13.944462Z",
     "iopub.status.busy": "2023-03-09T11:43:13.944013Z",
     "iopub.status.idle": "2023-03-09T11:43:13.950019Z",
     "shell.execute_reply": "2023-03-09T11:43:13.948958Z"
    },
    "papermill": {
     "duration": 0.019883,
     "end_time": "2023-03-09T11:43:13.951658",
     "exception": false,
     "start_time": "2023-03-09T11:43:13.931775",
     "status": "completed"
    },
    "tags": []
   },
   "outputs": [],
   "source": [
    "X_train[np.isnan(X_train)] = 0\n",
    "X_test[np.isnan(X_test)] = 0"
   ]
  },
  {
   "cell_type": "code",
   "execution_count": 18,
   "id": "45c5102c",
   "metadata": {
    "execution": {
     "iopub.execute_input": "2023-03-09T11:43:13.975552Z",
     "iopub.status.busy": "2023-03-09T11:43:13.975093Z",
     "iopub.status.idle": "2023-03-09T11:43:16.331616Z",
     "shell.execute_reply": "2023-03-09T11:43:16.330686Z"
    },
    "papermill": {
     "duration": 2.371981,
     "end_time": "2023-03-09T11:43:16.334792",
     "exception": false,
     "start_time": "2023-03-09T11:43:13.962811",
     "status": "completed"
    },
    "tags": []
   },
   "outputs": [],
   "source": [
    "save_time_series_txt(f'{data_path}/ts_train.txt', ts_train)\n",
    "save_time_series_txt(f'{data_path}/ts_test.txt', ts_test)"
   ]
  },
  {
   "cell_type": "code",
   "execution_count": 19,
   "id": "39830f37",
   "metadata": {
    "execution": {
     "iopub.execute_input": "2023-03-09T11:43:16.400467Z",
     "iopub.status.busy": "2023-03-09T11:43:16.399817Z",
     "iopub.status.idle": "2023-03-09T11:43:16.409728Z",
     "shell.execute_reply": "2023-03-09T11:43:16.408938Z"
    },
    "papermill": {
     "duration": 0.04573,
     "end_time": "2023-03-09T11:43:16.411894",
     "exception": false,
     "start_time": "2023-03-09T11:43:16.366164",
     "status": "completed"
    },
    "tags": []
   },
   "outputs": [],
   "source": [
    "with open(f'{data_path}/X_train.npy', 'wb') as f:\n",
    "    np.save(f, X_train, allow_pickle=True)\n",
    "\n",
    "with open(f'{data_path}/X_test.npy', 'wb') as f:\n",
    "    np.save(f, X_test, allow_pickle=True)"
   ]
  },
  {
   "cell_type": "code",
   "execution_count": 20,
   "id": "795fd2be",
   "metadata": {
    "execution": {
     "iopub.execute_input": "2023-03-09T11:43:16.437851Z",
     "iopub.status.busy": "2023-03-09T11:43:16.436926Z",
     "iopub.status.idle": "2023-03-09T11:43:16.445540Z",
     "shell.execute_reply": "2023-03-09T11:43:16.444441Z"
    },
    "papermill": {
     "duration": 0.023314,
     "end_time": "2023-03-09T11:43:16.447331",
     "exception": false,
     "start_time": "2023-03-09T11:43:16.424017",
     "status": "completed"
    },
    "tags": []
   },
   "outputs": [],
   "source": [
    "with open(f'{data_path}/y_train.npy', 'wb') as f:\n",
    "    np.save(f, y_train, allow_pickle=True)\n",
    "\n",
    "with open(f'{data_path}/y_test.npy', 'wb') as f:\n",
    "    np.save(f, y_test, allow_pickle=True)"
   ]
  },
  {
   "cell_type": "code",
   "execution_count": 21,
   "id": "08bda153",
   "metadata": {
    "execution": {
     "iopub.execute_input": "2023-03-09T11:43:16.471668Z",
     "iopub.status.busy": "2023-03-09T11:43:16.470987Z",
     "iopub.status.idle": "2023-03-09T11:43:16.602711Z",
     "shell.execute_reply": "2023-03-09T11:43:16.601828Z"
    },
    "papermill": {
     "duration": 0.146064,
     "end_time": "2023-03-09T11:43:16.604814",
     "exception": false,
     "start_time": "2023-03-09T11:43:16.458750",
     "status": "completed"
    },
    "tags": []
   },
   "outputs": [
    {
     "data": {
      "text/plain": [
       "[<matplotlib.lines.Line2D at 0x7fc67da84760>]"
      ]
     },
     "execution_count": 21,
     "metadata": {},
     "output_type": "execute_result"
    },
    {
     "data": {
      "image/png": "[encoded data removed]",
      "text/plain": [
       "<Figure size 640x480 with 1 Axes>"
      ]
     },
     "metadata": {},
     "output_type": "display_data"
    }
   ],
   "source": [
    "plt.plot(random.choice(ts_train))"
   ]
  },
  {
   "cell_type": "code",
   "execution_count": 22,
   "id": "98ce9d63",
   "metadata": {
    "execution": {
     "iopub.execute_input": "2023-03-09T11:43:16.641529Z",
     "iopub.status.busy": "2023-03-09T11:43:16.641038Z",
     "iopub.status.idle": "2023-03-09T11:43:16.649050Z",
     "shell.execute_reply": "2023-03-09T11:43:16.648041Z"
    },
    "papermill": {
     "duration": 0.026171,
     "end_time": "2023-03-09T11:43:16.650502",
     "exception": false,
     "start_time": "2023-03-09T11:43:16.624331",
     "status": "completed"
    },
    "tags": []
   },
   "outputs": [],
   "source": [
    "# Parameters that require knowing if it's binary or multiclass (LightGBM, metrics)\n",
    "if len(set(y)) == 2:\n",
    "    avg_par = 'macro'\n",
    "    obj_par = 'binary'\n",
    "elif len(set(y)) > 2:\n",
    "    avg_par = 'macro'\n",
    "    obj_par = 'multiclass'"
   ]
  },
  {
   "cell_type": "markdown",
   "id": "228f1b39",
   "metadata": {
    "papermill": {
     "duration": 0.020631,
     "end_time": "2023-03-09T11:43:16.686970",
     "exception": false,
     "start_time": "2023-03-09T11:43:16.666339",
     "status": "completed"
    },
    "tags": []
   },
   "source": [
    "## Classification"
   ]
  },
  {
   "cell_type": "code",
   "execution_count": 23,
   "id": "34bb73ff",
   "metadata": {
    "execution": {
     "iopub.execute_input": "2023-03-09T11:43:16.718423Z",
     "iopub.status.busy": "2023-03-09T11:43:16.718168Z",
     "iopub.status.idle": "2023-03-09T11:43:16.832823Z",
     "shell.execute_reply": "2023-03-09T11:43:16.831987Z"
    },
    "papermill": {
     "duration": 0.129187,
     "end_time": "2023-03-09T11:43:16.834620",
     "exception": false,
     "start_time": "2023-03-09T11:43:16.705433",
     "status": "completed"
    },
    "tags": []
   },
   "outputs": [],
   "source": [
    "from sklearn.tree import DecisionTreeClassifier\n",
    "import lightgbm as lgbm\n",
    "from sklearn.ensemble import RandomForestClassifier"
   ]
  },
  {
   "cell_type": "code",
   "execution_count": 24,
   "id": "02aaee18",
   "metadata": {
    "execution": {
     "iopub.execute_input": "2023-03-09T11:43:16.862440Z",
     "iopub.status.busy": "2023-03-09T11:43:16.862166Z",
     "iopub.status.idle": "2023-03-09T11:43:16.866071Z",
     "shell.execute_reply": "2023-03-09T11:43:16.865181Z"
    },
    "papermill": {
     "duration": 0.019732,
     "end_time": "2023-03-09T11:43:16.867689",
     "exception": false,
     "start_time": "2023-03-09T11:43:16.847957",
     "status": "completed"
    },
    "tags": []
   },
   "outputs": [],
   "source": [
    "metrics_data = {}"
   ]
  },
  {
   "cell_type": "markdown",
   "id": "b49309ed",
   "metadata": {
    "papermill": {
     "duration": 0.014815,
     "end_time": "2023-03-09T11:43:16.894517",
     "exception": false,
     "start_time": "2023-03-09T11:43:16.879702",
     "status": "completed"
    },
    "tags": []
   },
   "source": [
    "### Baseline: global features (No Time Series)"
   ]
  },
  {
   "cell_type": "code",
   "execution_count": 25,
   "id": "35eb9f66",
   "metadata": {
    "execution": {
     "iopub.execute_input": "2023-03-09T11:43:16.919600Z",
     "iopub.status.busy": "2023-03-09T11:43:16.919332Z",
     "iopub.status.idle": "2023-03-09T11:43:16.923173Z",
     "shell.execute_reply": "2023-03-09T11:43:16.922360Z"
    },
    "papermill": {
     "duration": 0.01841,
     "end_time": "2023-03-09T11:43:16.924749",
     "exception": false,
     "start_time": "2023-03-09T11:43:16.906339",
     "status": "completed"
    },
    "tags": []
   },
   "outputs": [],
   "source": [
    "metrics_data['Global'] = {}"
   ]
  },
  {
   "cell_type": "markdown",
   "id": "29cd5044",
   "metadata": {
    "papermill": {
     "duration": 0.011519,
     "end_time": "2023-03-09T11:43:16.947775",
     "exception": false,
     "start_time": "2023-03-09T11:43:16.936256",
     "status": "completed"
    },
    "tags": []
   },
   "source": [
    "**Decision Tree**"
   ]
  },
  {
   "cell_type": "code",
   "execution_count": 26,
   "id": "9ef4f037",
   "metadata": {
    "execution": {
     "iopub.execute_input": "2023-03-09T11:43:16.975743Z",
     "iopub.status.busy": "2023-03-09T11:43:16.975464Z",
     "iopub.status.idle": "2023-03-09T11:43:17.353790Z",
     "shell.execute_reply": "2023-03-09T11:43:17.352776Z"
    },
    "papermill": {
     "duration": 0.3927,
     "end_time": "2023-03-09T11:43:17.355444",
     "exception": false,
     "start_time": "2023-03-09T11:43:16.962744",
     "status": "completed"
    },
    "tags": []
   },
   "outputs": [
    {
     "data": {
      "text/html": [
       "<style>#sk-container-id-1 {color: black;background-color: white;}#sk-container-id-1 pre{padding: 0;}#sk-container-id-1 div.sk-toggleable {background-color: white;}#sk-container-id-1 label.sk-toggleable__label {cursor: pointer;display: block;width: 100%;margin-bottom: 0;padding: 0.3em;box-sizing: border-box;text-align: center;}#sk-container-id-1 label.sk-toggleable__label-arrow:before {content: \"▸\";float: left;margin-right: 0.25em;color: #696969;}#sk-container-id-1 label.sk-toggleable__label-arrow:hover:before {color: black;}#sk-container-id-1 div.sk-estimator:hover label.sk-toggleable__label-arrow:before {color: black;}#sk-container-id-1 div.sk-toggleable__content {max-height: 0;max-width: 0;overflow: hidden;text-align: left;background-color: #f0f8ff;}#sk-container-id-1 div.sk-toggleable__content pre {margin: 0.2em;color: black;border-radius: 0.25em;background-color: #f0f8ff;}#sk-container-id-1 input.sk-toggleable__control:checked~div.sk-toggleable__content {max-height: 200px;max-width: 100%;overflow: auto;}#sk-container-id-1 input.sk-toggleable__control:checked~label.sk-toggleable__label-arrow:before {content: \"▾\";}#sk-container-id-1 div.sk-estimator input.sk-toggleable__control:checked~label.sk-toggleable__label {background-color: #d4ebff;}#sk-container-id-1 div.sk-label input.sk-toggleable__control:checked~label.sk-toggleable__label {background-color: #d4ebff;}#sk-container-id-1 input.sk-hidden--visually {border: 0;clip: rect(1px 1px 1px 1px);clip: rect(1px, 1px, 1px, 1px);height: 1px;margin: -1px;overflow: hidden;padding: 0;position: absolute;width: 1px;}#sk-container-id-1 div.sk-estimator {font-family: monospace;background-color: #f0f8ff;border: 1px dotted black;border-radius: 0.25em;box-sizing: border-box;margin-bottom: 0.5em;}#sk-container-id-1 div.sk-estimator:hover {background-color: #d4ebff;}#sk-container-id-1 div.sk-parallel-item::after {content: \"\";width: 100%;border-bottom: 1px solid gray;flex-grow: 1;}#sk-container-id-1 div.sk-label:hover label.sk-toggleable__label {background-color: #d4ebff;}#sk-container-id-1 div.sk-serial::before {content: \"\";position: absolute;border-left: 1px solid gray;box-sizing: border-box;top: 0;bottom: 0;left: 50%;z-index: 0;}#sk-container-id-1 div.sk-serial {display: flex;flex-direction: column;align-items: center;background-color: white;padding-right: 0.2em;padding-left: 0.2em;position: relative;}#sk-container-id-1 div.sk-item {position: relative;z-index: 1;}#sk-container-id-1 div.sk-parallel {display: flex;align-items: stretch;justify-content: center;background-color: white;position: relative;}#sk-container-id-1 div.sk-item::before, #sk-container-id-1 div.sk-parallel-item::before {content: \"\";position: absolute;border-left: 1px solid gray;box-sizing: border-box;top: 0;bottom: 0;left: 50%;z-index: -1;}#sk-container-id-1 div.sk-parallel-item {display: flex;flex-direction: column;z-index: 1;position: relative;background-color: white;}#sk-container-id-1 div.sk-parallel-item:first-child::after {align-self: flex-end;width: 50%;}#sk-container-id-1 div.sk-parallel-item:last-child::after {align-self: flex-start;width: 50%;}#sk-container-id-1 div.sk-parallel-item:only-child::after {width: 0;}#sk-container-id-1 div.sk-dashed-wrapped {border: 1px dashed gray;margin: 0 0.4em 0.5em 0.4em;box-sizing: border-box;padding-bottom: 0.4em;background-color: white;}#sk-container-id-1 div.sk-label label {font-family: monospace;font-weight: bold;display: inline-block;line-height: 1.2em;}#sk-container-id-1 div.sk-label-container {text-align: center;}#sk-container-id-1 div.sk-container {/* jupyter's `normalize.less` sets `[hidden] { display: none; }` but bootstrap.min.css set `[hidden] { display: none !important; }` so we also need the `!important` here to be able to override the default hidden behavior on the sphinx rendered scikit-learn.org. See: https://github.com/scikit-learn/scikit-learn/issues/21755 */display: inline-block !important;position: relative;}#sk-container-id-1 div.sk-text-repr-fallback {display: none;}</style><div id=\"sk-container-id-1\" class=\"sk-top-container\"><div class=\"sk-text-repr-fallback\"><pre>DecisionTreeClassifier()</pre><b>In a Jupyter environment, please rerun this cell to show the HTML representation or trust the notebook. <br />On GitHub, the HTML representation is unable to render, please try loading this page with nbviewer.org.</b></div><div class=\"sk-container\" hidden><div class=\"sk-item\"><div class=\"sk-estimator sk-toggleable\"><input class=\"sk-toggleable__control sk-hidden--visually\" id=\"sk-estimator-id-1\" type=\"checkbox\" checked><label for=\"sk-estimator-id-1\" class=\"sk-toggleable__label sk-toggleable__label-arrow\">DecisionTreeClassifier</label><div class=\"sk-toggleable__content\"><pre>DecisionTreeClassifier()</pre></div></div></div></div></div>"
      ],
      "text/plain": [
       "DecisionTreeClassifier()"
      ]
     },
     "execution_count": 26,
     "metadata": {},
     "output_type": "execute_result"
    }
   ],
   "source": [
    "clf = DecisionTreeClassifier()\n",
    "clf.fit(X_train, y_train)"
   ]
  },
  {
   "cell_type": "code",
   "execution_count": 27,
   "id": "9c50acc4",
   "metadata": {
    "execution": {
     "iopub.execute_input": "2023-03-09T11:43:17.381550Z",
     "iopub.status.busy": "2023-03-09T11:43:17.381305Z",
     "iopub.status.idle": "2023-03-09T11:43:17.504393Z",
     "shell.execute_reply": "2023-03-09T11:43:17.503471Z"
    },
    "papermill": {
     "duration": 0.137643,
     "end_time": "2023-03-09T11:43:17.506062",
     "exception": false,
     "start_time": "2023-03-09T11:43:17.368419",
     "status": "completed"
    },
    "tags": []
   },
   "outputs": [
    {
     "name": "stdout",
     "output_type": "stream",
     "text": [
      "              precision    recall  f1-score   support\n",
      "\n",
      "         pop       0.56      0.57      0.56      2391\n",
      "        rock       0.56      0.55      0.56      2409\n",
      "\n",
      "    accuracy                           0.56      4800\n",
      "   macro avg       0.56      0.56      0.56      4800\n",
      "weighted avg       0.56      0.56      0.56      4800\n",
      "\n"
     ]
    }
   ],
   "source": [
    "y_pred = clf.predict(X_test)\n",
    "print(classification_report(y_test, y_pred))"
   ]
  },
  {
   "cell_type": "code",
   "execution_count": 28,
   "id": "8866c3c3",
   "metadata": {
    "execution": {
     "iopub.execute_input": "2023-03-09T11:43:17.531063Z",
     "iopub.status.busy": "2023-03-09T11:43:17.530812Z",
     "iopub.status.idle": "2023-03-09T11:43:17.647031Z",
     "shell.execute_reply": "2023-03-09T11:43:17.646130Z"
    },
    "papermill": {
     "duration": 0.130845,
     "end_time": "2023-03-09T11:43:17.648807",
     "exception": false,
     "start_time": "2023-03-09T11:43:17.517962",
     "status": "completed"
    },
    "tags": []
   },
   "outputs": [],
   "source": [
    "acc = accuracy_score(y_test, y_pred)\n",
    "pre = precision_score(y_test, y_pred, average=avg_par)\n",
    "rec = recall_score(y_test, y_pred, average=avg_par)\n",
    "f1 = f1_score(y_test, y_pred, average=avg_par)\n",
    "\n",
    "metrics_data['Global']['DecisionTree'] = {'Accuracy': acc, 'Precision': pre, 'Recall': rec, 'F1': f1}"
   ]
  },
  {
   "cell_type": "markdown",
   "id": "28aa5a63",
   "metadata": {
    "papermill": {
     "duration": 0.011553,
     "end_time": "2023-03-09T11:43:17.672178",
     "exception": false,
     "start_time": "2023-03-09T11:43:17.660625",
     "status": "completed"
    },
    "tags": []
   },
   "source": [
    "**Random Forest**"
   ]
  },
  {
   "cell_type": "code",
   "execution_count": 29,
   "id": "0e5e2310",
   "metadata": {
    "execution": {
     "iopub.execute_input": "2023-03-09T11:43:17.697213Z",
     "iopub.status.busy": "2023-03-09T11:43:17.696957Z",
     "iopub.status.idle": "2023-03-09T11:43:22.935098Z",
     "shell.execute_reply": "2023-03-09T11:43:22.933928Z"
    },
    "papermill": {
     "duration": 5.252703,
     "end_time": "2023-03-09T11:43:22.936838",
     "exception": false,
     "start_time": "2023-03-09T11:43:17.684135",
     "status": "completed"
    },
    "tags": []
   },
   "outputs": [
    {
     "data": {
      "text/html": [
       "<style>#sk-container-id-2 {color: black;background-color: white;}#sk-container-id-2 pre{padding: 0;}#sk-container-id-2 div.sk-toggleable {background-color: white;}#sk-container-id-2 label.sk-toggleable__label {cursor: pointer;display: block;width: 100%;margin-bottom: 0;padding: 0.3em;box-sizing: border-box;text-align: center;}#sk-container-id-2 label.sk-toggleable__label-arrow:before {content: \"▸\";float: left;margin-right: 0.25em;color: #696969;}#sk-container-id-2 label.sk-toggleable__label-arrow:hover:before {color: black;}#sk-container-id-2 div.sk-estimator:hover label.sk-toggleable__label-arrow:before {color: black;}#sk-container-id-2 div.sk-toggleable__content {max-height: 0;max-width: 0;overflow: hidden;text-align: left;background-color: #f0f8ff;}#sk-container-id-2 div.sk-toggleable__content pre {margin: 0.2em;color: black;border-radius: 0.25em;background-color: #f0f8ff;}#sk-container-id-2 input.sk-toggleable__control:checked~div.sk-toggleable__content {max-height: 200px;max-width: 100%;overflow: auto;}#sk-container-id-2 input.sk-toggleable__control:checked~label.sk-toggleable__label-arrow:before {content: \"▾\";}#sk-container-id-2 div.sk-estimator input.sk-toggleable__control:checked~label.sk-toggleable__label {background-color: #d4ebff;}#sk-container-id-2 div.sk-label input.sk-toggleable__control:checked~label.sk-toggleable__label {background-color: #d4ebff;}#sk-container-id-2 input.sk-hidden--visually {border: 0;clip: rect(1px 1px 1px 1px);clip: rect(1px, 1px, 1px, 1px);height: 1px;margin: -1px;overflow: hidden;padding: 0;position: absolute;width: 1px;}#sk-container-id-2 div.sk-estimator {font-family: monospace;background-color: #f0f8ff;border: 1px dotted black;border-radius: 0.25em;box-sizing: border-box;margin-bottom: 0.5em;}#sk-container-id-2 div.sk-estimator:hover {background-color: #d4ebff;}#sk-container-id-2 div.sk-parallel-item::after {content: \"\";width: 100%;border-bottom: 1px solid gray;flex-grow: 1;}#sk-container-id-2 div.sk-label:hover label.sk-toggleable__label {background-color: #d4ebff;}#sk-container-id-2 div.sk-serial::before {content: \"\";position: absolute;border-left: 1px solid gray;box-sizing: border-box;top: 0;bottom: 0;left: 50%;z-index: 0;}#sk-container-id-2 div.sk-serial {display: flex;flex-direction: column;align-items: center;background-color: white;padding-right: 0.2em;padding-left: 0.2em;position: relative;}#sk-container-id-2 div.sk-item {position: relative;z-index: 1;}#sk-container-id-2 div.sk-parallel {display: flex;align-items: stretch;justify-content: center;background-color: white;position: relative;}#sk-container-id-2 div.sk-item::before, #sk-container-id-2 div.sk-parallel-item::before {content: \"\";position: absolute;border-left: 1px solid gray;box-sizing: border-box;top: 0;bottom: 0;left: 50%;z-index: -1;}#sk-container-id-2 div.sk-parallel-item {display: flex;flex-direction: column;z-index: 1;position: relative;background-color: white;}#sk-container-id-2 div.sk-parallel-item:first-child::after {align-self: flex-end;width: 50%;}#sk-container-id-2 div.sk-parallel-item:last-child::after {align-self: flex-start;width: 50%;}#sk-container-id-2 div.sk-parallel-item:only-child::after {width: 0;}#sk-container-id-2 div.sk-dashed-wrapped {border: 1px dashed gray;margin: 0 0.4em 0.5em 0.4em;box-sizing: border-box;padding-bottom: 0.4em;background-color: white;}#sk-container-id-2 div.sk-label label {font-family: monospace;font-weight: bold;display: inline-block;line-height: 1.2em;}#sk-container-id-2 div.sk-label-container {text-align: center;}#sk-container-id-2 div.sk-container {/* jupyter's `normalize.less` sets `[hidden] { display: none; }` but bootstrap.min.css set `[hidden] { display: none !important; }` so we also need the `!important` here to be able to override the default hidden behavior on the sphinx rendered scikit-learn.org. See: https://github.com/scikit-learn/scikit-learn/issues/21755 */display: inline-block !important;position: relative;}#sk-container-id-2 div.sk-text-repr-fallback {display: none;}</style><div id=\"sk-container-id-2\" class=\"sk-top-container\"><div class=\"sk-text-repr-fallback\"><pre>RandomForestClassifier(random_state=42)</pre><b>In a Jupyter environment, please rerun this cell to show the HTML representation or trust the notebook. <br />On GitHub, the HTML representation is unable to render, please try loading this page with nbviewer.org.</b></div><div class=\"sk-container\" hidden><div class=\"sk-item\"><div class=\"sk-estimator sk-toggleable\"><input class=\"sk-toggleable__control sk-hidden--visually\" id=\"sk-estimator-id-2\" type=\"checkbox\" checked><label for=\"sk-estimator-id-2\" class=\"sk-toggleable__label sk-toggleable__label-arrow\">RandomForestClassifier</label><div class=\"sk-toggleable__content\"><pre>RandomForestClassifier(random_state=42)</pre></div></div></div></div></div>"
      ],
      "text/plain": [
       "RandomForestClassifier(random_state=42)"
      ]
     },
     "execution_count": 29,
     "metadata": {},
     "output_type": "execute_result"
    }
   ],
   "source": [
    "clf = RandomForestClassifier(random_state=42)\n",
    "clf.fit(X_train, y_train)"
   ]
  },
  {
   "cell_type": "code",
   "execution_count": 30,
   "id": "4bd1304b",
   "metadata": {
    "execution": {
     "iopub.execute_input": "2023-03-09T11:43:22.962648Z",
     "iopub.status.busy": "2023-03-09T11:43:22.962178Z",
     "iopub.status.idle": "2023-03-09T11:43:23.182889Z",
     "shell.execute_reply": "2023-03-09T11:43:23.182041Z"
    },
    "papermill": {
     "duration": 0.236801,
     "end_time": "2023-03-09T11:43:23.185635",
     "exception": false,
     "start_time": "2023-03-09T11:43:22.948834",
     "status": "completed"
    },
    "tags": []
   },
   "outputs": [
    {
     "name": "stdout",
     "output_type": "stream",
     "text": [
      "              precision    recall  f1-score   support\n",
      "\n",
      "         pop       0.64      0.59      0.61      2391\n",
      "        rock       0.62      0.67      0.64      2409\n",
      "\n",
      "    accuracy                           0.63      4800\n",
      "   macro avg       0.63      0.63      0.63      4800\n",
      "weighted avg       0.63      0.63      0.63      4800\n",
      "\n"
     ]
    }
   ],
   "source": [
    "y_pred = clf.predict(X_test)\n",
    "print(classification_report(y_test, y_pred))"
   ]
  },
  {
   "cell_type": "code",
   "execution_count": 31,
   "id": "43174ba2",
   "metadata": {
    "execution": {
     "iopub.execute_input": "2023-03-09T11:43:23.255610Z",
     "iopub.status.busy": "2023-03-09T11:43:23.254771Z",
     "iopub.status.idle": "2023-03-09T11:43:23.379730Z",
     "shell.execute_reply": "2023-03-09T11:43:23.378833Z"
    },
    "papermill": {
     "duration": 0.162908,
     "end_time": "2023-03-09T11:43:23.382492",
     "exception": false,
     "start_time": "2023-03-09T11:43:23.219584",
     "status": "completed"
    },
    "tags": []
   },
   "outputs": [],
   "source": [
    "acc = accuracy_score(y_test, y_pred)\n",
    "pre = precision_score(y_test, y_pred, average=avg_par)\n",
    "rec = recall_score(y_test, y_pred, average=avg_par)\n",
    "f1 = f1_score(y_test, y_pred, average=avg_par)\n",
    "\n",
    "metrics_data['Global']['RandomForest'] = {'Accuracy': acc, 'Precision': pre, 'Recall': rec, 'F1': f1}"
   ]
  },
  {
   "cell_type": "markdown",
   "id": "22c98ac5",
   "metadata": {
    "papermill": {
     "duration": 0.030414,
     "end_time": "2023-03-09T11:43:23.447276",
     "exception": false,
     "start_time": "2023-03-09T11:43:23.416862",
     "status": "completed"
    },
    "tags": []
   },
   "source": [
    "**LightGBM**"
   ]
  },
  {
   "cell_type": "code",
   "execution_count": 32,
   "id": "c93b818c",
   "metadata": {
    "execution": {
     "iopub.execute_input": "2023-03-09T11:43:23.487149Z",
     "iopub.status.busy": "2023-03-09T11:43:23.486734Z",
     "iopub.status.idle": "2023-03-09T11:43:23.645504Z",
     "shell.execute_reply": "2023-03-09T11:43:23.644909Z"
    },
    "papermill": {
     "duration": 0.176429,
     "end_time": "2023-03-09T11:43:23.647206",
     "exception": false,
     "start_time": "2023-03-09T11:43:23.470777",
     "status": "completed"
    },
    "tags": []
   },
   "outputs": [
    {
     "data": {
      "text/html": [
       "<style>#sk-container-id-3 {color: black;background-color: white;}#sk-container-id-3 pre{padding: 0;}#sk-container-id-3 div.sk-toggleable {background-color: white;}#sk-container-id-3 label.sk-toggleable__label {cursor: pointer;display: block;width: 100%;margin-bottom: 0;padding: 0.3em;box-sizing: border-box;text-align: center;}#sk-container-id-3 label.sk-toggleable__label-arrow:before {content: \"▸\";float: left;margin-right: 0.25em;color: #696969;}#sk-container-id-3 label.sk-toggleable__label-arrow:hover:before {color: black;}#sk-container-id-3 div.sk-estimator:hover label.sk-toggleable__label-arrow:before {color: black;}#sk-container-id-3 div.sk-toggleable__content {max-height: 0;max-width: 0;overflow: hidden;text-align: left;background-color: #f0f8ff;}#sk-container-id-3 div.sk-toggleable__content pre {margin: 0.2em;color: black;border-radius: 0.25em;background-color: #f0f8ff;}#sk-container-id-3 input.sk-toggleable__control:checked~div.sk-toggleable__content {max-height: 200px;max-width: 100%;overflow: auto;}#sk-container-id-3 input.sk-toggleable__control:checked~label.sk-toggleable__label-arrow:before {content: \"▾\";}#sk-container-id-3 div.sk-estimator input.sk-toggleable__control:checked~label.sk-toggleable__label {background-color: #d4ebff;}#sk-container-id-3 div.sk-label input.sk-toggleable__control:checked~label.sk-toggleable__label {background-color: #d4ebff;}#sk-container-id-3 input.sk-hidden--visually {border: 0;clip: rect(1px 1px 1px 1px);clip: rect(1px, 1px, 1px, 1px);height: 1px;margin: -1px;overflow: hidden;padding: 0;position: absolute;width: 1px;}#sk-container-id-3 div.sk-estimator {font-family: monospace;background-color: #f0f8ff;border: 1px dotted black;border-radius: 0.25em;box-sizing: border-box;margin-bottom: 0.5em;}#sk-container-id-3 div.sk-estimator:hover {background-color: #d4ebff;}#sk-container-id-3 div.sk-parallel-item::after {content: \"\";width: 100%;border-bottom: 1px solid gray;flex-grow: 1;}#sk-container-id-3 div.sk-label:hover label.sk-toggleable__label {background-color: #d4ebff;}#sk-container-id-3 div.sk-serial::before {content: \"\";position: absolute;border-left: 1px solid gray;box-sizing: border-box;top: 0;bottom: 0;left: 50%;z-index: 0;}#sk-container-id-3 div.sk-serial {display: flex;flex-direction: column;align-items: center;background-color: white;padding-right: 0.2em;padding-left: 0.2em;position: relative;}#sk-container-id-3 div.sk-item {position: relative;z-index: 1;}#sk-container-id-3 div.sk-parallel {display: flex;align-items: stretch;justify-content: center;background-color: white;position: relative;}#sk-container-id-3 div.sk-item::before, #sk-container-id-3 div.sk-parallel-item::before {content: \"\";position: absolute;border-left: 1px solid gray;box-sizing: border-box;top: 0;bottom: 0;left: 50%;z-index: -1;}#sk-container-id-3 div.sk-parallel-item {display: flex;flex-direction: column;z-index: 1;position: relative;background-color: white;}#sk-container-id-3 div.sk-parallel-item:first-child::after {align-self: flex-end;width: 50%;}#sk-container-id-3 div.sk-parallel-item:last-child::after {align-self: flex-start;width: 50%;}#sk-container-id-3 div.sk-parallel-item:only-child::after {width: 0;}#sk-container-id-3 div.sk-dashed-wrapped {border: 1px dashed gray;margin: 0 0.4em 0.5em 0.4em;box-sizing: border-box;padding-bottom: 0.4em;background-color: white;}#sk-container-id-3 div.sk-label label {font-family: monospace;font-weight: bold;display: inline-block;line-height: 1.2em;}#sk-container-id-3 div.sk-label-container {text-align: center;}#sk-container-id-3 div.sk-container {/* jupyter's `normalize.less` sets `[hidden] { display: none; }` but bootstrap.min.css set `[hidden] { display: none !important; }` so we also need the `!important` here to be able to override the default hidden behavior on the sphinx rendered scikit-learn.org. See: https://github.com/scikit-learn/scikit-learn/issues/21755 */display: inline-block !important;position: relative;}#sk-container-id-3 div.sk-text-repr-fallback {display: none;}</style><div id=\"sk-container-id-3\" class=\"sk-top-container\"><div class=\"sk-text-repr-fallback\"><pre>LGBMClassifier(objective=&#x27;binary&#x27;)</pre><b>In a Jupyter environment, please rerun this cell to show the HTML representation or trust the notebook. <br />On GitHub, the HTML representation is unable to render, please try loading this page with nbviewer.org.</b></div><div class=\"sk-container\" hidden><div class=\"sk-item\"><div class=\"sk-estimator sk-toggleable\"><input class=\"sk-toggleable__control sk-hidden--visually\" id=\"sk-estimator-id-3\" type=\"checkbox\" checked><label for=\"sk-estimator-id-3\" class=\"sk-toggleable__label sk-toggleable__label-arrow\">LGBMClassifier</label><div class=\"sk-toggleable__content\"><pre>LGBMClassifier(objective=&#x27;binary&#x27;)</pre></div></div></div></div></div>"
      ],
      "text/plain": [
       "LGBMClassifier(objective='binary')"
      ]
     },
     "execution_count": 32,
     "metadata": {},
     "output_type": "execute_result"
    }
   ],
   "source": [
    "clf = lgbm.LGBMClassifier(objective=obj_par) \n",
    "clf.fit(X_train, y_train)"
   ]
  },
  {
   "cell_type": "code",
   "execution_count": 33,
   "id": "600a663a",
   "metadata": {
    "execution": {
     "iopub.execute_input": "2023-03-09T11:43:23.674202Z",
     "iopub.status.busy": "2023-03-09T11:43:23.673804Z",
     "iopub.status.idle": "2023-03-09T11:43:23.804748Z",
     "shell.execute_reply": "2023-03-09T11:43:23.803961Z"
    },
    "papermill": {
     "duration": 0.14819,
     "end_time": "2023-03-09T11:43:23.808308",
     "exception": false,
     "start_time": "2023-03-09T11:43:23.660118",
     "status": "completed"
    },
    "tags": []
   },
   "outputs": [
    {
     "name": "stdout",
     "output_type": "stream",
     "text": [
      "              precision    recall  f1-score   support\n",
      "\n",
      "         pop       0.64      0.59      0.61      2391\n",
      "        rock       0.62      0.67      0.64      2409\n",
      "\n",
      "    accuracy                           0.63      4800\n",
      "   macro avg       0.63      0.63      0.63      4800\n",
      "weighted avg       0.63      0.63      0.63      4800\n",
      "\n"
     ]
    }
   ],
   "source": [
    "y_pred = clf.predict(X_test)\n",
    "print(classification_report(y_test, y_pred))"
   ]
  },
  {
   "cell_type": "code",
   "execution_count": 34,
   "id": "508d831d",
   "metadata": {
    "execution": {
     "iopub.execute_input": "2023-03-09T11:43:23.877531Z",
     "iopub.status.busy": "2023-03-09T11:43:23.876274Z",
     "iopub.status.idle": "2023-03-09T11:43:24.001613Z",
     "shell.execute_reply": "2023-03-09T11:43:24.000799Z"
    },
    "papermill": {
     "duration": 0.162265,
     "end_time": "2023-03-09T11:43:24.004198",
     "exception": false,
     "start_time": "2023-03-09T11:43:23.841933",
     "status": "completed"
    },
    "tags": []
   },
   "outputs": [],
   "source": [
    "acc = accuracy_score(y_test, y_pred)\n",
    "pre = precision_score(y_test, y_pred, average=avg_par)\n",
    "rec = recall_score(y_test, y_pred, average=avg_par)\n",
    "f1 = f1_score(y_test, y_pred, average=avg_par)\n",
    "\n",
    "metrics_data['Global']['LightGBM'] = {'Accuracy': acc, 'Precision': pre, 'Recall': rec, 'F1': f1}"
   ]
  },
  {
   "cell_type": "markdown",
   "id": "14b86894",
   "metadata": {
    "papermill": {
     "duration": 0.039177,
     "end_time": "2023-03-09T11:43:24.077666",
     "exception": false,
     "start_time": "2023-03-09T11:43:24.038489",
     "status": "completed"
    },
    "tags": []
   },
   "source": [
    "### Time Series Classification"
   ]
  },
  {
   "cell_type": "markdown",
   "id": "84c55533",
   "metadata": {
    "papermill": {
     "duration": 0.012258,
     "end_time": "2023-03-09T11:43:24.105858",
     "exception": false,
     "start_time": "2023-03-09T11:43:24.093600",
     "status": "completed"
    },
    "tags": []
   },
   "source": [
    "#### Learning Shapelets"
   ]
  },
  {
   "cell_type": "code",
   "execution_count": 35,
   "id": "488d8eb7",
   "metadata": {
    "execution": {
     "iopub.execute_input": "2023-03-09T11:43:24.136252Z",
     "iopub.status.busy": "2023-03-09T11:43:24.135333Z",
     "iopub.status.idle": "2023-03-09T11:43:25.918645Z",
     "shell.execute_reply": "2023-03-09T11:43:25.917727Z"
    },
    "papermill": {
     "duration": 1.803245,
     "end_time": "2023-03-09T11:43:25.921616",
     "exception": false,
     "start_time": "2023-03-09T11:43:24.118371",
     "status": "completed"
    },
    "tags": []
   },
   "outputs": [
    {
     "name": "stderr",
     "output_type": "stream",
     "text": [
      "2023-03-09 12:43:24.145394: I tensorflow/core/platform/cpu_feature_guard.cc:193] This TensorFlow binary is optimized with oneAPI Deep Neural Network Library (oneDNN) to use the following CPU instructions in performance-critical operations:  AVX2 FMA\n",
      "To enable them in other operations, rebuild TensorFlow with the appropriate compiler flags.\n",
      "2023-03-09 12:43:24.286153: W tensorflow/compiler/xla/stream_executor/platform/default/dso_loader.cc:64] Could not load dynamic library 'libcudart.so.11.0'; dlerror: libcudart.so.11.0: cannot open shared object file: No such file or directory\n",
      "2023-03-09 12:43:24.286176: I tensorflow/compiler/xla/stream_executor/cuda/cudart_stub.cc:29] Ignore above cudart dlerror if you do not have a GPU set up on your machine.\n"
     ]
    },
    {
     "name": "stderr",
     "output_type": "stream",
     "text": [
      "2023-03-09 12:43:24.989786: W tensorflow/compiler/xla/stream_executor/platform/default/dso_loader.cc:64] Could not load dynamic library 'libnvinfer.so.7'; dlerror: libnvinfer.so.7: cannot open shared object file: No such file or directory\n",
      "2023-03-09 12:43:24.989887: W tensorflow/compiler/xla/stream_executor/platform/default/dso_loader.cc:64] Could not load dynamic library 'libnvinfer_plugin.so.7'; dlerror: libnvinfer_plugin.so.7: cannot open shared object file: No such file or directory\n",
      "2023-03-09 12:43:24.989897: W tensorflow/compiler/tf2tensorrt/utils/py_utils.cc:38] TF-TRT Warning: Cannot dlopen some TensorRT libraries. If you would like to use Nvidia GPU with TensorRT, please make sure the missing libraries mentioned above are installed properly.\n"
     ]
    }
   ],
   "source": [
    "from tslearn.shapelets import LearningShapelets, grabocka_params_to_shapelet_size_dict"
   ]
  },
  {
   "cell_type": "code",
   "execution_count": 36,
   "id": "eb677959",
   "metadata": {
    "execution": {
     "iopub.execute_input": "2023-03-09T11:43:25.993910Z",
     "iopub.status.busy": "2023-03-09T11:43:25.993107Z",
     "iopub.status.idle": "2023-03-09T11:43:26.000706Z",
     "shell.execute_reply": "2023-03-09T11:43:25.999368Z"
    },
    "papermill": {
     "duration": 0.045717,
     "end_time": "2023-03-09T11:43:26.002958",
     "exception": false,
     "start_time": "2023-03-09T11:43:25.957241",
     "status": "completed"
    },
    "tags": []
   },
   "outputs": [],
   "source": [
    "n_ts, ts_sz, _ = ts_train.shape\n",
    "n_classes = len(set(y_train))"
   ]
  },
  {
   "cell_type": "code",
   "execution_count": 37,
   "id": "776ed3dd",
   "metadata": {
    "execution": {
     "iopub.execute_input": "2023-03-09T11:43:26.029829Z",
     "iopub.status.busy": "2023-03-09T11:43:26.029578Z",
     "iopub.status.idle": "2023-03-09T11:43:26.035154Z",
     "shell.execute_reply": "2023-03-09T11:43:26.034282Z"
    },
    "papermill": {
     "duration": 0.020646,
     "end_time": "2023-03-09T11:43:26.036827",
     "exception": false,
     "start_time": "2023-03-09T11:43:26.016181",
     "status": "completed"
    },
    "tags": []
   },
   "outputs": [
    {
     "name": "stdout",
     "output_type": "stream",
     "text": [
      "n_ts 19200\n",
      "ts_sz 100\n",
      "n_classes 2\n",
      "shapelet_sizes {10: 6}\n"
     ]
    }
   ],
   "source": [
    "# Set the number of shapelets per size as done in the original paper\n",
    "g_shapelet_sizes = grabocka_params_to_shapelet_size_dict(n_ts=n_ts,\n",
    "                                                         ts_sz=ts_sz,\n",
    "                                                         n_classes=n_classes,\n",
    "                                                         l=0.1,\n",
    "                                                         r=1)\n",
    "\n",
    "print('n_ts', n_ts)\n",
    "print('ts_sz', ts_sz)\n",
    "print('n_classes', n_classes)\n",
    "print('shapelet_sizes', g_shapelet_sizes)"
   ]
  },
  {
   "cell_type": "code",
   "execution_count": 38,
   "id": "90ed707e",
   "metadata": {
    "execution": {
     "iopub.execute_input": "2023-03-09T11:43:26.062781Z",
     "iopub.status.busy": "2023-03-09T11:43:26.062531Z",
     "iopub.status.idle": "2023-03-09T11:43:26.069372Z",
     "shell.execute_reply": "2023-03-09T11:43:26.068187Z"
    },
    "papermill": {
     "duration": 0.021819,
     "end_time": "2023-03-09T11:43:26.070995",
     "exception": false,
     "start_time": "2023-03-09T11:43:26.049176",
     "status": "completed"
    },
    "tags": []
   },
   "outputs": [
    {
     "data": {
      "text/plain": [
       "{10: 6, 20: 6, 5: 6}"
      ]
     },
     "execution_count": 38,
     "metadata": {},
     "output_type": "execute_result"
    }
   ],
   "source": [
    "shapelet_sizes = {}\n",
    "for key in g_shapelet_sizes:\n",
    "    shapelet_sizes[key] = g_shapelet_sizes[key]\n",
    "    shapelet_sizes[key*2] = g_shapelet_sizes[key]\n",
    "    shapelet_sizes[key//2] = g_shapelet_sizes[key]\n",
    "shapelet_sizes"
   ]
  },
  {
   "cell_type": "code",
   "execution_count": 39,
   "id": "3507fb9c",
   "metadata": {
    "execution": {
     "iopub.execute_input": "2023-03-09T11:43:26.098018Z",
     "iopub.status.busy": "2023-03-09T11:43:26.097184Z",
     "iopub.status.idle": "2023-03-09T11:43:26.103897Z",
     "shell.execute_reply": "2023-03-09T11:43:26.102863Z"
    },
    "papermill": {
     "duration": 0.022076,
     "end_time": "2023-03-09T11:43:26.105533",
     "exception": false,
     "start_time": "2023-03-09T11:43:26.083457",
     "status": "completed"
    },
    "tags": []
   },
   "outputs": [
    {
     "name": "stderr",
     "output_type": "stream",
     "text": [
      "/home/mattiapggioli/lyrics2ts/.venv/lib/python3.9/site-packages/tslearn/shapelets/shapelets.py:354: FutureWarning: The default value for 'scale' is set to False in version 0.4 to ensure backward compatibility, but is likely to change in a future version.\n",
      "  warnings.warn(\"The default value for 'scale' is set to False \"\n"
     ]
    }
   ],
   "source": [
    "model = LearningShapelets(n_shapelets_per_size=shapelet_sizes,\n",
    "                          optimizer=\"adam\", \n",
    "                          weight_regularizer=.01, \n",
    "                          max_iter=max_iter, verbose=0, random_state=42)"
   ]
  },
  {
   "cell_type": "code",
   "execution_count": 40,
   "id": "73b1fe2e",
   "metadata": {
    "execution": {
     "iopub.execute_input": "2023-03-09T11:43:26.136653Z",
     "iopub.status.busy": "2023-03-09T11:43:26.135648Z",
     "iopub.status.idle": "2023-03-09T12:08:46.139074Z",
     "shell.execute_reply": "2023-03-09T12:08:46.138031Z"
    },
    "papermill": {
     "duration": 1520.075346,
     "end_time": "2023-03-09T12:08:46.193907",
     "exception": false,
     "start_time": "2023-03-09T11:43:26.118561",
     "status": "completed"
    },
    "tags": []
   },
   "outputs": [
    {
     "name": "stderr",
     "output_type": "stream",
     "text": [
      "2023-03-09 12:43:26.737988: W tensorflow/compiler/xla/stream_executor/platform/default/dso_loader.cc:64] Could not load dynamic library 'libcuda.so.1'; dlerror: libcuda.so.1: cannot open shared object file: No such file or directory\n",
      "2023-03-09 12:43:26.738015: W tensorflow/compiler/xla/stream_executor/cuda/cuda_driver.cc:265] failed call to cuInit: UNKNOWN ERROR (303)\n",
      "2023-03-09 12:43:26.738034: I tensorflow/compiler/xla/stream_executor/cuda/cuda_diagnostics.cc:156] kernel driver does not appear to be running on this host (mattiapggioli-ThinkPad-E595): /proc/driver/nvidia/version does not exist\n",
      "2023-03-09 12:43:26.738249: I tensorflow/core/platform/cpu_feature_guard.cc:193] This TensorFlow binary is optimized with oneAPI Deep Neural Network Library (oneDNN) to use the following CPU instructions in performance-critical operations:  AVX2 FMA\n",
      "To enable them in other operations, rebuild TensorFlow with the appropriate compiler flags.\n"
     ]
    },
    {
     "name": "stdout",
     "output_type": "stream",
     "text": [
      "CPU times: user 2h 23min 50s, sys: 6min 59s, total: 2h 30min 49s\n",
      "Wall time: 25min 19s\n"
     ]
    },
    {
     "data": {
      "text/html": [
       "<style>#sk-container-id-4 {color: black;background-color: white;}#sk-container-id-4 pre{padding: 0;}#sk-container-id-4 div.sk-toggleable {background-color: white;}#sk-container-id-4 label.sk-toggleable__label {cursor: pointer;display: block;width: 100%;margin-bottom: 0;padding: 0.3em;box-sizing: border-box;text-align: center;}#sk-container-id-4 label.sk-toggleable__label-arrow:before {content: \"▸\";float: left;margin-right: 0.25em;color: #696969;}#sk-container-id-4 label.sk-toggleable__label-arrow:hover:before {color: black;}#sk-container-id-4 div.sk-estimator:hover label.sk-toggleable__label-arrow:before {color: black;}#sk-container-id-4 div.sk-toggleable__content {max-height: 0;max-width: 0;overflow: hidden;text-align: left;background-color: #f0f8ff;}#sk-container-id-4 div.sk-toggleable__content pre {margin: 0.2em;color: black;border-radius: 0.25em;background-color: #f0f8ff;}#sk-container-id-4 input.sk-toggleable__control:checked~div.sk-toggleable__content {max-height: 200px;max-width: 100%;overflow: auto;}#sk-container-id-4 input.sk-toggleable__control:checked~label.sk-toggleable__label-arrow:before {content: \"▾\";}#sk-container-id-4 div.sk-estimator input.sk-toggleable__control:checked~label.sk-toggleable__label {background-color: #d4ebff;}#sk-container-id-4 div.sk-label input.sk-toggleable__control:checked~label.sk-toggleable__label {background-color: #d4ebff;}#sk-container-id-4 input.sk-hidden--visually {border: 0;clip: rect(1px 1px 1px 1px);clip: rect(1px, 1px, 1px, 1px);height: 1px;margin: -1px;overflow: hidden;padding: 0;position: absolute;width: 1px;}#sk-container-id-4 div.sk-estimator {font-family: monospace;background-color: #f0f8ff;border: 1px dotted black;border-radius: 0.25em;box-sizing: border-box;margin-bottom: 0.5em;}#sk-container-id-4 div.sk-estimator:hover {background-color: #d4ebff;}#sk-container-id-4 div.sk-parallel-item::after {content: \"\";width: 100%;border-bottom: 1px solid gray;flex-grow: 1;}#sk-container-id-4 div.sk-label:hover label.sk-toggleable__label {background-color: #d4ebff;}#sk-container-id-4 div.sk-serial::before {content: \"\";position: absolute;border-left: 1px solid gray;box-sizing: border-box;top: 0;bottom: 0;left: 50%;z-index: 0;}#sk-container-id-4 div.sk-serial {display: flex;flex-direction: column;align-items: center;background-color: white;padding-right: 0.2em;padding-left: 0.2em;position: relative;}#sk-container-id-4 div.sk-item {position: relative;z-index: 1;}#sk-container-id-4 div.sk-parallel {display: flex;align-items: stretch;justify-content: center;background-color: white;position: relative;}#sk-container-id-4 div.sk-item::before, #sk-container-id-4 div.sk-parallel-item::before {content: \"\";position: absolute;border-left: 1px solid gray;box-sizing: border-box;top: 0;bottom: 0;left: 50%;z-index: -1;}#sk-container-id-4 div.sk-parallel-item {display: flex;flex-direction: column;z-index: 1;position: relative;background-color: white;}#sk-container-id-4 div.sk-parallel-item:first-child::after {align-self: flex-end;width: 50%;}#sk-container-id-4 div.sk-parallel-item:last-child::after {align-self: flex-start;width: 50%;}#sk-container-id-4 div.sk-parallel-item:only-child::after {width: 0;}#sk-container-id-4 div.sk-dashed-wrapped {border: 1px dashed gray;margin: 0 0.4em 0.5em 0.4em;box-sizing: border-box;padding-bottom: 0.4em;background-color: white;}#sk-container-id-4 div.sk-label label {font-family: monospace;font-weight: bold;display: inline-block;line-height: 1.2em;}#sk-container-id-4 div.sk-label-container {text-align: center;}#sk-container-id-4 div.sk-container {/* jupyter's `normalize.less` sets `[hidden] { display: none; }` but bootstrap.min.css set `[hidden] { display: none !important; }` so we also need the `!important` here to be able to override the default hidden behavior on the sphinx rendered scikit-learn.org. See: https://github.com/scikit-learn/scikit-learn/issues/21755 */display: inline-block !important;position: relative;}#sk-container-id-4 div.sk-text-repr-fallback {display: none;}</style><div id=\"sk-container-id-4\" class=\"sk-top-container\"><div class=\"sk-text-repr-fallback\"><pre>LearningShapelets(max_iter=2000, n_shapelets_per_size={5: 6, 10: 6, 20: 6},\n",
       "                  optimizer=&#x27;adam&#x27;, random_state=42, weight_regularizer=0.01)</pre><b>In a Jupyter environment, please rerun this cell to show the HTML representation or trust the notebook. <br />On GitHub, the HTML representation is unable to render, please try loading this page with nbviewer.org.</b></div><div class=\"sk-container\" hidden><div class=\"sk-item\"><div class=\"sk-estimator sk-toggleable\"><input class=\"sk-toggleable__control sk-hidden--visually\" id=\"sk-estimator-id-4\" type=\"checkbox\" checked><label for=\"sk-estimator-id-4\" class=\"sk-toggleable__label sk-toggleable__label-arrow\">LearningShapelets</label><div class=\"sk-toggleable__content\"><pre>LearningShapelets(max_iter=2000, n_shapelets_per_size={5: 6, 10: 6, 20: 6},\n",
       "                  optimizer=&#x27;adam&#x27;, random_state=42, weight_regularizer=0.01)</pre></div></div></div></div></div>"
      ],
      "text/plain": [
       "LearningShapelets(max_iter=2000, n_shapelets_per_size={5: 6, 10: 6, 20: 6},\n",
       "                  optimizer='adam', random_state=42, weight_regularizer=0.01)"
      ]
     },
     "execution_count": 40,
     "metadata": {},
     "output_type": "execute_result"
    }
   ],
   "source": [
    "%%time\n",
    "model.fit(ts_train, y_train)"
   ]
  },
  {
   "cell_type": "code",
   "execution_count": 41,
   "id": "51706baa",
   "metadata": {
    "execution": {
     "iopub.execute_input": "2023-03-09T12:08:46.222973Z",
     "iopub.status.busy": "2023-03-09T12:08:46.222005Z",
     "iopub.status.idle": "2023-03-09T12:08:46.255297Z",
     "shell.execute_reply": "2023-03-09T12:08:46.253999Z"
    },
    "papermill": {
     "duration": 0.049973,
     "end_time": "2023-03-09T12:08:46.257363",
     "exception": false,
     "start_time": "2023-03-09T12:08:46.207390",
     "status": "completed"
    },
    "tags": []
   },
   "outputs": [],
   "source": [
    "model.to_pickle(f'{data_path}/shapelets.pkl')"
   ]
  },
  {
   "cell_type": "markdown",
   "id": "309f70dc",
   "metadata": {
    "papermill": {
     "duration": 0.012595,
     "end_time": "2023-03-09T12:08:46.285162",
     "exception": false,
     "start_time": "2023-03-09T12:08:46.272567",
     "status": "completed"
    },
    "tags": []
   },
   "source": [
    "#### Shapelet-Based Classification"
   ]
  },
  {
   "cell_type": "code",
   "execution_count": 42,
   "id": "60125dff",
   "metadata": {
    "execution": {
     "iopub.execute_input": "2023-03-09T12:08:46.314867Z",
     "iopub.status.busy": "2023-03-09T12:08:46.313916Z",
     "iopub.status.idle": "2023-03-09T12:08:46.319494Z",
     "shell.execute_reply": "2023-03-09T12:08:46.318368Z"
    },
    "papermill": {
     "duration": 0.022688,
     "end_time": "2023-03-09T12:08:46.321288",
     "exception": false,
     "start_time": "2023-03-09T12:08:46.298600",
     "status": "completed"
    },
    "tags": []
   },
   "outputs": [],
   "source": [
    "metrics_data['Shapelets'] = {}"
   ]
  },
  {
   "cell_type": "code",
   "execution_count": 43,
   "id": "efb8984d",
   "metadata": {
    "execution": {
     "iopub.execute_input": "2023-03-09T12:08:46.351996Z",
     "iopub.status.busy": "2023-03-09T12:08:46.350938Z",
     "iopub.status.idle": "2023-03-09T12:08:48.213408Z",
     "shell.execute_reply": "2023-03-09T12:08:48.212463Z"
    },
    "papermill": {
     "duration": 1.880983,
     "end_time": "2023-03-09T12:08:48.216356",
     "exception": false,
     "start_time": "2023-03-09T12:08:46.335373",
     "status": "completed"
    },
    "tags": []
   },
   "outputs": [],
   "source": [
    "X_train = model.transform(ts_train)\n",
    "X_test = model.transform(ts_test)"
   ]
  },
  {
   "cell_type": "code",
   "execution_count": 44,
   "id": "2e6c0f22",
   "metadata": {
    "execution": {
     "iopub.execute_input": "2023-03-09T12:08:48.288765Z",
     "iopub.status.busy": "2023-03-09T12:08:48.288443Z",
     "iopub.status.idle": "2023-03-09T12:08:48.333140Z",
     "shell.execute_reply": "2023-03-09T12:08:48.332070Z"
    },
    "papermill": {
     "duration": 0.083179,
     "end_time": "2023-03-09T12:08:48.335157",
     "exception": false,
     "start_time": "2023-03-09T12:08:48.251978",
     "status": "completed"
    },
    "tags": []
   },
   "outputs": [
    {
     "data": {
      "text/html": [
       "<div>\n",
       "<style scoped>\n",
       "    .dataframe tbody tr th:only-of-type {\n",
       "        vertical-align: middle;\n",
       "    }\n",
       "\n",
       "    .dataframe tbody tr th {\n",
       "        vertical-align: top;\n",
       "    }\n",
       "\n",
       "    .dataframe thead th {\n",
       "        text-align: right;\n",
       "    }\n",
       "</style>\n",
       "<table border=\"1\" class=\"dataframe\">\n",
       "  <thead>\n",
       "    <tr style=\"text-align: right;\">\n",
       "      <th></th>\n",
       "      <th>0</th>\n",
       "      <th>1</th>\n",
       "      <th>2</th>\n",
       "      <th>3</th>\n",
       "      <th>4</th>\n",
       "      <th>5</th>\n",
       "      <th>6</th>\n",
       "      <th>7</th>\n",
       "      <th>8</th>\n",
       "      <th>9</th>\n",
       "      <th>10</th>\n",
       "      <th>11</th>\n",
       "      <th>12</th>\n",
       "      <th>13</th>\n",
       "      <th>14</th>\n",
       "      <th>15</th>\n",
       "      <th>16</th>\n",
       "      <th>17</th>\n",
       "    </tr>\n",
       "  </thead>\n",
       "  <tbody>\n",
       "    <tr>\n",
       "      <th>0</th>\n",
       "      <td>1.043739</td>\n",
       "      <td>0.930027</td>\n",
       "      <td>0.194368</td>\n",
       "      <td>7.682899</td>\n",
       "      <td>7.657040</td>\n",
       "      <td>1.496828</td>\n",
       "      <td>0.326935</td>\n",
       "      <td>6.405332</td>\n",
       "      <td>0.283573</td>\n",
       "      <td>1.581762</td>\n",
       "      <td>2.819279</td>\n",
       "      <td>10.229323</td>\n",
       "      <td>2.921528</td>\n",
       "      <td>1.291005</td>\n",
       "      <td>1.311408</td>\n",
       "      <td>0.369905</td>\n",
       "      <td>4.113320</td>\n",
       "      <td>5.503319</td>\n",
       "    </tr>\n",
       "    <tr>\n",
       "      <th>1</th>\n",
       "      <td>1.035611</td>\n",
       "      <td>0.865258</td>\n",
       "      <td>0.216780</td>\n",
       "      <td>8.364879</td>\n",
       "      <td>6.326170</td>\n",
       "      <td>3.785403</td>\n",
       "      <td>0.125954</td>\n",
       "      <td>7.289954</td>\n",
       "      <td>0.171165</td>\n",
       "      <td>1.603941</td>\n",
       "      <td>3.459922</td>\n",
       "      <td>10.172548</td>\n",
       "      <td>2.879731</td>\n",
       "      <td>1.427028</td>\n",
       "      <td>1.109430</td>\n",
       "      <td>0.518105</td>\n",
       "      <td>3.299217</td>\n",
       "      <td>5.308127</td>\n",
       "    </tr>\n",
       "    <tr>\n",
       "      <th>2</th>\n",
       "      <td>1.040623</td>\n",
       "      <td>0.314361</td>\n",
       "      <td>0.768007</td>\n",
       "      <td>6.928855</td>\n",
       "      <td>2.114786</td>\n",
       "      <td>6.740234</td>\n",
       "      <td>0.696165</td>\n",
       "      <td>6.549002</td>\n",
       "      <td>0.661359</td>\n",
       "      <td>6.528276</td>\n",
       "      <td>5.574415</td>\n",
       "      <td>6.183943</td>\n",
       "      <td>1.669271</td>\n",
       "      <td>4.234692</td>\n",
       "      <td>1.803170</td>\n",
       "      <td>2.642860</td>\n",
       "      <td>6.101016</td>\n",
       "      <td>4.783511</td>\n",
       "    </tr>\n",
       "    <tr>\n",
       "      <th>3</th>\n",
       "      <td>0.865205</td>\n",
       "      <td>0.171862</td>\n",
       "      <td>0.269204</td>\n",
       "      <td>8.936154</td>\n",
       "      <td>2.457109</td>\n",
       "      <td>3.091730</td>\n",
       "      <td>0.341217</td>\n",
       "      <td>8.140983</td>\n",
       "      <td>0.297666</td>\n",
       "      <td>1.897789</td>\n",
       "      <td>2.315567</td>\n",
       "      <td>5.240515</td>\n",
       "      <td>2.209470</td>\n",
       "      <td>1.029825</td>\n",
       "      <td>1.331333</td>\n",
       "      <td>0.403704</td>\n",
       "      <td>4.262354</td>\n",
       "      <td>5.013866</td>\n",
       "    </tr>\n",
       "    <tr>\n",
       "      <th>4</th>\n",
       "      <td>0.324224</td>\n",
       "      <td>0.247130</td>\n",
       "      <td>0.823345</td>\n",
       "      <td>9.870193</td>\n",
       "      <td>3.292540</td>\n",
       "      <td>8.445956</td>\n",
       "      <td>0.604099</td>\n",
       "      <td>5.419465</td>\n",
       "      <td>0.662993</td>\n",
       "      <td>5.811671</td>\n",
       "      <td>6.830494</td>\n",
       "      <td>6.604608</td>\n",
       "      <td>1.481029</td>\n",
       "      <td>6.124897</td>\n",
       "      <td>2.345254</td>\n",
       "      <td>3.575119</td>\n",
       "      <td>6.264359</td>\n",
       "      <td>6.880934</td>\n",
       "    </tr>\n",
       "    <tr>\n",
       "      <th>...</th>\n",
       "      <td>...</td>\n",
       "      <td>...</td>\n",
       "      <td>...</td>\n",
       "      <td>...</td>\n",
       "      <td>...</td>\n",
       "      <td>...</td>\n",
       "      <td>...</td>\n",
       "      <td>...</td>\n",
       "      <td>...</td>\n",
       "      <td>...</td>\n",
       "      <td>...</td>\n",
       "      <td>...</td>\n",
       "      <td>...</td>\n",
       "      <td>...</td>\n",
       "      <td>...</td>\n",
       "      <td>...</td>\n",
       "      <td>...</td>\n",
       "      <td>...</td>\n",
       "    </tr>\n",
       "    <tr>\n",
       "      <th>4795</th>\n",
       "      <td>1.137241</td>\n",
       "      <td>1.872463</td>\n",
       "      <td>0.256632</td>\n",
       "      <td>7.054517</td>\n",
       "      <td>4.765263</td>\n",
       "      <td>3.520922</td>\n",
       "      <td>1.231614</td>\n",
       "      <td>6.881063</td>\n",
       "      <td>1.182633</td>\n",
       "      <td>1.680519</td>\n",
       "      <td>3.931975</td>\n",
       "      <td>11.274531</td>\n",
       "      <td>4.320135</td>\n",
       "      <td>0.647342</td>\n",
       "      <td>2.149165</td>\n",
       "      <td>0.124383</td>\n",
       "      <td>4.260600</td>\n",
       "      <td>6.927374</td>\n",
       "    </tr>\n",
       "    <tr>\n",
       "      <th>4796</th>\n",
       "      <td>1.490712</td>\n",
       "      <td>3.398156</td>\n",
       "      <td>0.238279</td>\n",
       "      <td>6.104405</td>\n",
       "      <td>12.890345</td>\n",
       "      <td>2.547777</td>\n",
       "      <td>1.193603</td>\n",
       "      <td>7.230510</td>\n",
       "      <td>1.144190</td>\n",
       "      <td>1.478813</td>\n",
       "      <td>3.054274</td>\n",
       "      <td>16.274817</td>\n",
       "      <td>6.247715</td>\n",
       "      <td>0.516232</td>\n",
       "      <td>2.105713</td>\n",
       "      <td>0.120146</td>\n",
       "      <td>4.405830</td>\n",
       "      <td>7.277992</td>\n",
       "    </tr>\n",
       "    <tr>\n",
       "      <th>4797</th>\n",
       "      <td>1.082473</td>\n",
       "      <td>0.834669</td>\n",
       "      <td>0.529967</td>\n",
       "      <td>5.269586</td>\n",
       "      <td>4.112579</td>\n",
       "      <td>3.675541</td>\n",
       "      <td>0.250247</td>\n",
       "      <td>4.021459</td>\n",
       "      <td>0.211243</td>\n",
       "      <td>2.729861</td>\n",
       "      <td>4.746040</td>\n",
       "      <td>5.080272</td>\n",
       "      <td>2.029147</td>\n",
       "      <td>2.741442</td>\n",
       "      <td>1.301143</td>\n",
       "      <td>1.292488</td>\n",
       "      <td>5.173868</td>\n",
       "      <td>7.006095</td>\n",
       "    </tr>\n",
       "    <tr>\n",
       "      <th>4798</th>\n",
       "      <td>2.039706</td>\n",
       "      <td>1.462969</td>\n",
       "      <td>0.288262</td>\n",
       "      <td>7.565555</td>\n",
       "      <td>3.930966</td>\n",
       "      <td>4.370544</td>\n",
       "      <td>0.322520</td>\n",
       "      <td>7.801063</td>\n",
       "      <td>0.279196</td>\n",
       "      <td>2.805672</td>\n",
       "      <td>4.285537</td>\n",
       "      <td>8.198567</td>\n",
       "      <td>3.848286</td>\n",
       "      <td>1.271361</td>\n",
       "      <td>1.315670</td>\n",
       "      <td>0.433916</td>\n",
       "      <td>2.655047</td>\n",
       "      <td>7.583881</td>\n",
       "    </tr>\n",
       "    <tr>\n",
       "      <th>4799</th>\n",
       "      <td>1.930280</td>\n",
       "      <td>2.303255</td>\n",
       "      <td>0.120947</td>\n",
       "      <td>9.777048</td>\n",
       "      <td>11.756693</td>\n",
       "      <td>1.913232</td>\n",
       "      <td>1.055288</td>\n",
       "      <td>8.927736</td>\n",
       "      <td>0.990421</td>\n",
       "      <td>2.289407</td>\n",
       "      <td>1.947191</td>\n",
       "      <td>16.326176</td>\n",
       "      <td>5.682260</td>\n",
       "      <td>0.708098</td>\n",
       "      <td>1.900666</td>\n",
       "      <td>0.157566</td>\n",
       "      <td>4.616920</td>\n",
       "      <td>7.600537</td>\n",
       "    </tr>\n",
       "  </tbody>\n",
       "</table>\n",
       "<p>4800 rows × 18 columns</p>\n",
       "</div>"
      ],
      "text/plain": [
       "            0         1         2         3          4         5         6   \\\n",
       "0     1.043739  0.930027  0.194368  7.682899   7.657040  1.496828  0.326935   \n",
       "1     1.035611  0.865258  0.216780  8.364879   6.326170  3.785403  0.125954   \n",
       "2     1.040623  0.314361  0.768007  6.928855   2.114786  6.740234  0.696165   \n",
       "3     0.865205  0.171862  0.269204  8.936154   2.457109  3.091730  0.341217   \n",
       "4     0.324224  0.247130  0.823345  9.870193   3.292540  8.445956  0.604099   \n",
       "...        ...       ...       ...       ...        ...       ...       ...   \n",
       "4795  1.137241  1.872463  0.256632  7.054517   4.765263  3.520922  1.231614   \n",
       "4796  1.490712  3.398156  0.238279  6.104405  12.890345  2.547777  1.193603   \n",
       "4797  1.082473  0.834669  0.529967  5.269586   4.112579  3.675541  0.250247   \n",
       "4798  2.039706  1.462969  0.288262  7.565555   3.930966  4.370544  0.322520   \n",
       "4799  1.930280  2.303255  0.120947  9.777048  11.756693  1.913232  1.055288   \n",
       "\n",
       "            7         8         9         10         11        12        13  \\\n",
       "0     6.405332  0.283573  1.581762  2.819279  10.229323  2.921528  1.291005   \n",
       "1     7.289954  0.171165  1.603941  3.459922  10.172548  2.879731  1.427028   \n",
       "2     6.549002  0.661359  6.528276  5.574415   6.183943  1.669271  4.234692   \n",
       "3     8.140983  0.297666  1.897789  2.315567   5.240515  2.209470  1.029825   \n",
       "4     5.419465  0.662993  5.811671  6.830494   6.604608  1.481029  6.124897   \n",
       "...        ...       ...       ...       ...        ...       ...       ...   \n",
       "4795  6.881063  1.182633  1.680519  3.931975  11.274531  4.320135  0.647342   \n",
       "4796  7.230510  1.144190  1.478813  3.054274  16.274817  6.247715  0.516232   \n",
       "4797  4.021459  0.211243  2.729861  4.746040   5.080272  2.029147  2.741442   \n",
       "4798  7.801063  0.279196  2.805672  4.285537   8.198567  3.848286  1.271361   \n",
       "4799  8.927736  0.990421  2.289407  1.947191  16.326176  5.682260  0.708098   \n",
       "\n",
       "            14        15        16        17  \n",
       "0     1.311408  0.369905  4.113320  5.503319  \n",
       "1     1.109430  0.518105  3.299217  5.308127  \n",
       "2     1.803170  2.642860  6.101016  4.783511  \n",
       "3     1.331333  0.403704  4.262354  5.013866  \n",
       "4     2.345254  3.575119  6.264359  6.880934  \n",
       "...        ...       ...       ...       ...  \n",
       "4795  2.149165  0.124383  4.260600  6.927374  \n",
       "4796  2.105713  0.120146  4.405830  7.277992  \n",
       "4797  1.301143  1.292488  5.173868  7.006095  \n",
       "4798  1.315670  0.433916  2.655047  7.583881  \n",
       "4799  1.900666  0.157566  4.616920  7.600537  \n",
       "\n",
       "[4800 rows x 18 columns]"
      ]
     },
     "execution_count": 44,
     "metadata": {},
     "output_type": "execute_result"
    }
   ],
   "source": [
    "pd.DataFrame(X_test)"
   ]
  },
  {
   "cell_type": "markdown",
   "id": "5fa024f7",
   "metadata": {
    "execution": {
     "iopub.execute_input": "2023-02-07T23:47:19.876941Z",
     "iopub.status.busy": "2023-02-07T23:47:19.876424Z",
     "iopub.status.idle": "2023-02-07T23:47:20.399488Z",
     "shell.execute_reply": "2023-02-07T23:47:20.398142Z"
    },
    "papermill": {
     "duration": 0.014549,
     "end_time": "2023-03-09T12:08:48.365765",
     "exception": false,
     "start_time": "2023-03-09T12:08:48.351216",
     "status": "completed"
    },
    "tags": []
   },
   "source": [
    "**Decision Tree**"
   ]
  },
  {
   "cell_type": "code",
   "execution_count": 45,
   "id": "4f5400c9",
   "metadata": {
    "execution": {
     "iopub.execute_input": "2023-03-09T12:08:48.397360Z",
     "iopub.status.busy": "2023-03-09T12:08:48.396292Z",
     "iopub.status.idle": "2023-03-09T12:08:48.979882Z",
     "shell.execute_reply": "2023-03-09T12:08:48.979102Z"
    },
    "papermill": {
     "duration": 0.601604,
     "end_time": "2023-03-09T12:08:48.981755",
     "exception": false,
     "start_time": "2023-03-09T12:08:48.380151",
     "status": "completed"
    },
    "tags": []
   },
   "outputs": [
    {
     "data": {
      "text/html": [
       "<style>#sk-container-id-5 {color: black;background-color: white;}#sk-container-id-5 pre{padding: 0;}#sk-container-id-5 div.sk-toggleable {background-color: white;}#sk-container-id-5 label.sk-toggleable__label {cursor: pointer;display: block;width: 100%;margin-bottom: 0;padding: 0.3em;box-sizing: border-box;text-align: center;}#sk-container-id-5 label.sk-toggleable__label-arrow:before {content: \"▸\";float: left;margin-right: 0.25em;color: #696969;}#sk-container-id-5 label.sk-toggleable__label-arrow:hover:before {color: black;}#sk-container-id-5 div.sk-estimator:hover label.sk-toggleable__label-arrow:before {color: black;}#sk-container-id-5 div.sk-toggleable__content {max-height: 0;max-width: 0;overflow: hidden;text-align: left;background-color: #f0f8ff;}#sk-container-id-5 div.sk-toggleable__content pre {margin: 0.2em;color: black;border-radius: 0.25em;background-color: #f0f8ff;}#sk-container-id-5 input.sk-toggleable__control:checked~div.sk-toggleable__content {max-height: 200px;max-width: 100%;overflow: auto;}#sk-container-id-5 input.sk-toggleable__control:checked~label.sk-toggleable__label-arrow:before {content: \"▾\";}#sk-container-id-5 div.sk-estimator input.sk-toggleable__control:checked~label.sk-toggleable__label {background-color: #d4ebff;}#sk-container-id-5 div.sk-label input.sk-toggleable__control:checked~label.sk-toggleable__label {background-color: #d4ebff;}#sk-container-id-5 input.sk-hidden--visually {border: 0;clip: rect(1px 1px 1px 1px);clip: rect(1px, 1px, 1px, 1px);height: 1px;margin: -1px;overflow: hidden;padding: 0;position: absolute;width: 1px;}#sk-container-id-5 div.sk-estimator {font-family: monospace;background-color: #f0f8ff;border: 1px dotted black;border-radius: 0.25em;box-sizing: border-box;margin-bottom: 0.5em;}#sk-container-id-5 div.sk-estimator:hover {background-color: #d4ebff;}#sk-container-id-5 div.sk-parallel-item::after {content: \"\";width: 100%;border-bottom: 1px solid gray;flex-grow: 1;}#sk-container-id-5 div.sk-label:hover label.sk-toggleable__label {background-color: #d4ebff;}#sk-container-id-5 div.sk-serial::before {content: \"\";position: absolute;border-left: 1px solid gray;box-sizing: border-box;top: 0;bottom: 0;left: 50%;z-index: 0;}#sk-container-id-5 div.sk-serial {display: flex;flex-direction: column;align-items: center;background-color: white;padding-right: 0.2em;padding-left: 0.2em;position: relative;}#sk-container-id-5 div.sk-item {position: relative;z-index: 1;}#sk-container-id-5 div.sk-parallel {display: flex;align-items: stretch;justify-content: center;background-color: white;position: relative;}#sk-container-id-5 div.sk-item::before, #sk-container-id-5 div.sk-parallel-item::before {content: \"\";position: absolute;border-left: 1px solid gray;box-sizing: border-box;top: 0;bottom: 0;left: 50%;z-index: -1;}#sk-container-id-5 div.sk-parallel-item {display: flex;flex-direction: column;z-index: 1;position: relative;background-color: white;}#sk-container-id-5 div.sk-parallel-item:first-child::after {align-self: flex-end;width: 50%;}#sk-container-id-5 div.sk-parallel-item:last-child::after {align-self: flex-start;width: 50%;}#sk-container-id-5 div.sk-parallel-item:only-child::after {width: 0;}#sk-container-id-5 div.sk-dashed-wrapped {border: 1px dashed gray;margin: 0 0.4em 0.5em 0.4em;box-sizing: border-box;padding-bottom: 0.4em;background-color: white;}#sk-container-id-5 div.sk-label label {font-family: monospace;font-weight: bold;display: inline-block;line-height: 1.2em;}#sk-container-id-5 div.sk-label-container {text-align: center;}#sk-container-id-5 div.sk-container {/* jupyter's `normalize.less` sets `[hidden] { display: none; }` but bootstrap.min.css set `[hidden] { display: none !important; }` so we also need the `!important` here to be able to override the default hidden behavior on the sphinx rendered scikit-learn.org. See: https://github.com/scikit-learn/scikit-learn/issues/21755 */display: inline-block !important;position: relative;}#sk-container-id-5 div.sk-text-repr-fallback {display: none;}</style><div id=\"sk-container-id-5\" class=\"sk-top-container\"><div class=\"sk-text-repr-fallback\"><pre>DecisionTreeClassifier(random_state=42)</pre><b>In a Jupyter environment, please rerun this cell to show the HTML representation or trust the notebook. <br />On GitHub, the HTML representation is unable to render, please try loading this page with nbviewer.org.</b></div><div class=\"sk-container\" hidden><div class=\"sk-item\"><div class=\"sk-estimator sk-toggleable\"><input class=\"sk-toggleable__control sk-hidden--visually\" id=\"sk-estimator-id-5\" type=\"checkbox\" checked><label for=\"sk-estimator-id-5\" class=\"sk-toggleable__label sk-toggleable__label-arrow\">DecisionTreeClassifier</label><div class=\"sk-toggleable__content\"><pre>DecisionTreeClassifier(random_state=42)</pre></div></div></div></div></div>"
      ],
      "text/plain": [
       "DecisionTreeClassifier(random_state=42)"
      ]
     },
     "execution_count": 45,
     "metadata": {},
     "output_type": "execute_result"
    }
   ],
   "source": [
    "clf = DecisionTreeClassifier(random_state=42)\n",
    "clf.fit(X_train, y_train)"
   ]
  },
  {
   "cell_type": "code",
   "execution_count": 46,
   "id": "3b56d190",
   "metadata": {
    "execution": {
     "iopub.execute_input": "2023-03-09T12:08:49.012790Z",
     "iopub.status.busy": "2023-03-09T12:08:49.012439Z",
     "iopub.status.idle": "2023-03-09T12:08:49.144267Z",
     "shell.execute_reply": "2023-03-09T12:08:49.143526Z"
    },
    "papermill": {
     "duration": 0.14904,
     "end_time": "2023-03-09T12:08:49.146459",
     "exception": false,
     "start_time": "2023-03-09T12:08:48.997419",
     "status": "completed"
    },
    "tags": []
   },
   "outputs": [
    {
     "name": "stdout",
     "output_type": "stream",
     "text": [
      "              precision    recall  f1-score   support\n",
      "\n",
      "         pop       0.53      0.53      0.53      2391\n",
      "        rock       0.54      0.54      0.54      2409\n",
      "\n",
      "    accuracy                           0.53      4800\n",
      "   macro avg       0.53      0.53      0.53      4800\n",
      "weighted avg       0.53      0.53      0.53      4800\n",
      "\n"
     ]
    }
   ],
   "source": [
    "y_pred = clf.predict(X_test)\n",
    "print(classification_report(y_test, y_pred))"
   ]
  },
  {
   "cell_type": "code",
   "execution_count": 47,
   "id": "42bc91ff",
   "metadata": {
    "execution": {
     "iopub.execute_input": "2023-03-09T12:08:49.224072Z",
     "iopub.status.busy": "2023-03-09T12:08:49.223616Z",
     "iopub.status.idle": "2023-03-09T12:08:49.229170Z",
     "shell.execute_reply": "2023-03-09T12:08:49.228539Z"
    },
    "papermill": {
     "duration": 0.046724,
     "end_time": "2023-03-09T12:08:49.230878",
     "exception": false,
     "start_time": "2023-03-09T12:08:49.184154",
     "status": "completed"
    },
    "tags": []
   },
   "outputs": [],
   "source": [
    "pickle.dump(clf, open(f'{data_path}/decision_tree.pkl', 'wb'))"
   ]
  },
  {
   "cell_type": "code",
   "execution_count": 48,
   "id": "ea9be210",
   "metadata": {
    "execution": {
     "iopub.execute_input": "2023-03-09T12:08:49.261141Z",
     "iopub.status.busy": "2023-03-09T12:08:49.260664Z",
     "iopub.status.idle": "2023-03-09T12:08:49.402623Z",
     "shell.execute_reply": "2023-03-09T12:08:49.401789Z"
    },
    "papermill": {
     "duration": 0.160387,
     "end_time": "2023-03-09T12:08:49.405878",
     "exception": false,
     "start_time": "2023-03-09T12:08:49.245491",
     "status": "completed"
    },
    "tags": []
   },
   "outputs": [],
   "source": [
    "acc = accuracy_score(y_test, y_pred)\n",
    "pre = precision_score(y_test, y_pred, average=avg_par)\n",
    "rec = recall_score(y_test, y_pred, average=avg_par)\n",
    "f1 = f1_score(y_test, y_pred, average=avg_par)\n",
    "\n",
    "metrics_data['Shapelets']['DecisionTree'] = {'Accuracy': acc, 'Precision': pre, 'Recall': rec, 'F1': f1}"
   ]
  },
  {
   "cell_type": "markdown",
   "id": "3ca3443b",
   "metadata": {
    "papermill": {
     "duration": 0.023683,
     "end_time": "2023-03-09T12:08:49.467881",
     "exception": false,
     "start_time": "2023-03-09T12:08:49.444198",
     "status": "completed"
    },
    "tags": []
   },
   "source": [
    "**Random Forest**"
   ]
  },
  {
   "cell_type": "code",
   "execution_count": 49,
   "id": "37795e21",
   "metadata": {
    "execution": {
     "iopub.execute_input": "2023-03-09T12:08:49.506982Z",
     "iopub.status.busy": "2023-03-09T12:08:49.506667Z",
     "iopub.status.idle": "2023-03-09T12:08:57.624858Z",
     "shell.execute_reply": "2023-03-09T12:08:57.623875Z"
    },
    "papermill": {
     "duration": 8.135365,
     "end_time": "2023-03-09T12:08:57.627659",
     "exception": false,
     "start_time": "2023-03-09T12:08:49.492294",
     "status": "completed"
    },
    "tags": []
   },
   "outputs": [
    {
     "data": {
      "text/html": [
       "<style>#sk-container-id-6 {color: black;background-color: white;}#sk-container-id-6 pre{padding: 0;}#sk-container-id-6 div.sk-toggleable {background-color: white;}#sk-container-id-6 label.sk-toggleable__label {cursor: pointer;display: block;width: 100%;margin-bottom: 0;padding: 0.3em;box-sizing: border-box;text-align: center;}#sk-container-id-6 label.sk-toggleable__label-arrow:before {content: \"▸\";float: left;margin-right: 0.25em;color: #696969;}#sk-container-id-6 label.sk-toggleable__label-arrow:hover:before {color: black;}#sk-container-id-6 div.sk-estimator:hover label.sk-toggleable__label-arrow:before {color: black;}#sk-container-id-6 div.sk-toggleable__content {max-height: 0;max-width: 0;overflow: hidden;text-align: left;background-color: #f0f8ff;}#sk-container-id-6 div.sk-toggleable__content pre {margin: 0.2em;color: black;border-radius: 0.25em;background-color: #f0f8ff;}#sk-container-id-6 input.sk-toggleable__control:checked~div.sk-toggleable__content {max-height: 200px;max-width: 100%;overflow: auto;}#sk-container-id-6 input.sk-toggleable__control:checked~label.sk-toggleable__label-arrow:before {content: \"▾\";}#sk-container-id-6 div.sk-estimator input.sk-toggleable__control:checked~label.sk-toggleable__label {background-color: #d4ebff;}#sk-container-id-6 div.sk-label input.sk-toggleable__control:checked~label.sk-toggleable__label {background-color: #d4ebff;}#sk-container-id-6 input.sk-hidden--visually {border: 0;clip: rect(1px 1px 1px 1px);clip: rect(1px, 1px, 1px, 1px);height: 1px;margin: -1px;overflow: hidden;padding: 0;position: absolute;width: 1px;}#sk-container-id-6 div.sk-estimator {font-family: monospace;background-color: #f0f8ff;border: 1px dotted black;border-radius: 0.25em;box-sizing: border-box;margin-bottom: 0.5em;}#sk-container-id-6 div.sk-estimator:hover {background-color: #d4ebff;}#sk-container-id-6 div.sk-parallel-item::after {content: \"\";width: 100%;border-bottom: 1px solid gray;flex-grow: 1;}#sk-container-id-6 div.sk-label:hover label.sk-toggleable__label {background-color: #d4ebff;}#sk-container-id-6 div.sk-serial::before {content: \"\";position: absolute;border-left: 1px solid gray;box-sizing: border-box;top: 0;bottom: 0;left: 50%;z-index: 0;}#sk-container-id-6 div.sk-serial {display: flex;flex-direction: column;align-items: center;background-color: white;padding-right: 0.2em;padding-left: 0.2em;position: relative;}#sk-container-id-6 div.sk-item {position: relative;z-index: 1;}#sk-container-id-6 div.sk-parallel {display: flex;align-items: stretch;justify-content: center;background-color: white;position: relative;}#sk-container-id-6 div.sk-item::before, #sk-container-id-6 div.sk-parallel-item::before {content: \"\";position: absolute;border-left: 1px solid gray;box-sizing: border-box;top: 0;bottom: 0;left: 50%;z-index: -1;}#sk-container-id-6 div.sk-parallel-item {display: flex;flex-direction: column;z-index: 1;position: relative;background-color: white;}#sk-container-id-6 div.sk-parallel-item:first-child::after {align-self: flex-end;width: 50%;}#sk-container-id-6 div.sk-parallel-item:last-child::after {align-self: flex-start;width: 50%;}#sk-container-id-6 div.sk-parallel-item:only-child::after {width: 0;}#sk-container-id-6 div.sk-dashed-wrapped {border: 1px dashed gray;margin: 0 0.4em 0.5em 0.4em;box-sizing: border-box;padding-bottom: 0.4em;background-color: white;}#sk-container-id-6 div.sk-label label {font-family: monospace;font-weight: bold;display: inline-block;line-height: 1.2em;}#sk-container-id-6 div.sk-label-container {text-align: center;}#sk-container-id-6 div.sk-container {/* jupyter's `normalize.less` sets `[hidden] { display: none; }` but bootstrap.min.css set `[hidden] { display: none !important; }` so we also need the `!important` here to be able to override the default hidden behavior on the sphinx rendered scikit-learn.org. See: https://github.com/scikit-learn/scikit-learn/issues/21755 */display: inline-block !important;position: relative;}#sk-container-id-6 div.sk-text-repr-fallback {display: none;}</style><div id=\"sk-container-id-6\" class=\"sk-top-container\"><div class=\"sk-text-repr-fallback\"><pre>RandomForestClassifier(random_state=42)</pre><b>In a Jupyter environment, please rerun this cell to show the HTML representation or trust the notebook. <br />On GitHub, the HTML representation is unable to render, please try loading this page with nbviewer.org.</b></div><div class=\"sk-container\" hidden><div class=\"sk-item\"><div class=\"sk-estimator sk-toggleable\"><input class=\"sk-toggleable__control sk-hidden--visually\" id=\"sk-estimator-id-6\" type=\"checkbox\" checked><label for=\"sk-estimator-id-6\" class=\"sk-toggleable__label sk-toggleable__label-arrow\">RandomForestClassifier</label><div class=\"sk-toggleable__content\"><pre>RandomForestClassifier(random_state=42)</pre></div></div></div></div></div>"
      ],
      "text/plain": [
       "RandomForestClassifier(random_state=42)"
      ]
     },
     "execution_count": 49,
     "metadata": {},
     "output_type": "execute_result"
    }
   ],
   "source": [
    "clf = RandomForestClassifier(random_state=42)\n",
    "clf.fit(X_train, y_train)"
   ]
  },
  {
   "cell_type": "code",
   "execution_count": 50,
   "id": "581ab90a",
   "metadata": {
    "execution": {
     "iopub.execute_input": "2023-03-09T12:08:57.705201Z",
     "iopub.status.busy": "2023-03-09T12:08:57.704712Z",
     "iopub.status.idle": "2023-03-09T12:08:57.926781Z",
     "shell.execute_reply": "2023-03-09T12:08:57.925755Z"
    },
    "papermill": {
     "duration": 0.262647,
     "end_time": "2023-03-09T12:08:57.929389",
     "exception": false,
     "start_time": "2023-03-09T12:08:57.666742",
     "status": "completed"
    },
    "tags": []
   },
   "outputs": [
    {
     "name": "stdout",
     "output_type": "stream",
     "text": [
      "              precision    recall  f1-score   support\n",
      "\n",
      "         pop       0.58      0.57      0.58      2391\n",
      "        rock       0.58      0.59      0.59      2409\n",
      "\n",
      "    accuracy                           0.58      4800\n",
      "   macro avg       0.58      0.58      0.58      4800\n",
      "weighted avg       0.58      0.58      0.58      4800\n",
      "\n"
     ]
    }
   ],
   "source": [
    "y_pred = clf.predict(X_test)\n",
    "print(classification_report(y_test, y_pred))"
   ]
  },
  {
   "cell_type": "code",
   "execution_count": 51,
   "id": "faf1d7f4",
   "metadata": {
    "execution": {
     "iopub.execute_input": "2023-03-09T12:08:57.998761Z",
     "iopub.status.busy": "2023-03-09T12:08:57.998238Z",
     "iopub.status.idle": "2023-03-09T12:08:58.129588Z",
     "shell.execute_reply": "2023-03-09T12:08:58.128754Z"
    },
    "papermill": {
     "duration": 0.169433,
     "end_time": "2023-03-09T12:08:58.131635",
     "exception": false,
     "start_time": "2023-03-09T12:08:57.962202",
     "status": "completed"
    },
    "tags": []
   },
   "outputs": [],
   "source": [
    "acc = accuracy_score(y_test, y_pred)\n",
    "pre = precision_score(y_test, y_pred, average=avg_par)\n",
    "rec = recall_score(y_test, y_pred, average=avg_par)\n",
    "f1 = f1_score(y_test, y_pred, average=avg_par)\n",
    "\n",
    "metrics_data['Shapelets']['RandomForest'] = {'Accuracy': acc, 'Precision': pre, 'Recall': rec, 'F1': f1}"
   ]
  },
  {
   "cell_type": "markdown",
   "id": "61fceefb",
   "metadata": {
    "papermill": {
     "duration": 0.013873,
     "end_time": "2023-03-09T12:08:58.159613",
     "exception": false,
     "start_time": "2023-03-09T12:08:58.145740",
     "status": "completed"
    },
    "tags": []
   },
   "source": [
    "**LightGBM**"
   ]
  },
  {
   "cell_type": "code",
   "execution_count": 52,
   "id": "194189da",
   "metadata": {
    "execution": {
     "iopub.execute_input": "2023-03-09T12:08:58.189488Z",
     "iopub.status.busy": "2023-03-09T12:08:58.189229Z",
     "iopub.status.idle": "2023-03-09T12:08:58.386395Z",
     "shell.execute_reply": "2023-03-09T12:08:58.385572Z"
    },
    "papermill": {
     "duration": 0.214446,
     "end_time": "2023-03-09T12:08:58.388349",
     "exception": false,
     "start_time": "2023-03-09T12:08:58.173903",
     "status": "completed"
    },
    "tags": []
   },
   "outputs": [
    {
     "data": {
      "text/html": [
       "<style>#sk-container-id-7 {color: black;background-color: white;}#sk-container-id-7 pre{padding: 0;}#sk-container-id-7 div.sk-toggleable {background-color: white;}#sk-container-id-7 label.sk-toggleable__label {cursor: pointer;display: block;width: 100%;margin-bottom: 0;padding: 0.3em;box-sizing: border-box;text-align: center;}#sk-container-id-7 label.sk-toggleable__label-arrow:before {content: \"▸\";float: left;margin-right: 0.25em;color: #696969;}#sk-container-id-7 label.sk-toggleable__label-arrow:hover:before {color: black;}#sk-container-id-7 div.sk-estimator:hover label.sk-toggleable__label-arrow:before {color: black;}#sk-container-id-7 div.sk-toggleable__content {max-height: 0;max-width: 0;overflow: hidden;text-align: left;background-color: #f0f8ff;}#sk-container-id-7 div.sk-toggleable__content pre {margin: 0.2em;color: black;border-radius: 0.25em;background-color: #f0f8ff;}#sk-container-id-7 input.sk-toggleable__control:checked~div.sk-toggleable__content {max-height: 200px;max-width: 100%;overflow: auto;}#sk-container-id-7 input.sk-toggleable__control:checked~label.sk-toggleable__label-arrow:before {content: \"▾\";}#sk-container-id-7 div.sk-estimator input.sk-toggleable__control:checked~label.sk-toggleable__label {background-color: #d4ebff;}#sk-container-id-7 div.sk-label input.sk-toggleable__control:checked~label.sk-toggleable__label {background-color: #d4ebff;}#sk-container-id-7 input.sk-hidden--visually {border: 0;clip: rect(1px 1px 1px 1px);clip: rect(1px, 1px, 1px, 1px);height: 1px;margin: -1px;overflow: hidden;padding: 0;position: absolute;width: 1px;}#sk-container-id-7 div.sk-estimator {font-family: monospace;background-color: #f0f8ff;border: 1px dotted black;border-radius: 0.25em;box-sizing: border-box;margin-bottom: 0.5em;}#sk-container-id-7 div.sk-estimator:hover {background-color: #d4ebff;}#sk-container-id-7 div.sk-parallel-item::after {content: \"\";width: 100%;border-bottom: 1px solid gray;flex-grow: 1;}#sk-container-id-7 div.sk-label:hover label.sk-toggleable__label {background-color: #d4ebff;}#sk-container-id-7 div.sk-serial::before {content: \"\";position: absolute;border-left: 1px solid gray;box-sizing: border-box;top: 0;bottom: 0;left: 50%;z-index: 0;}#sk-container-id-7 div.sk-serial {display: flex;flex-direction: column;align-items: center;background-color: white;padding-right: 0.2em;padding-left: 0.2em;position: relative;}#sk-container-id-7 div.sk-item {position: relative;z-index: 1;}#sk-container-id-7 div.sk-parallel {display: flex;align-items: stretch;justify-content: center;background-color: white;position: relative;}#sk-container-id-7 div.sk-item::before, #sk-container-id-7 div.sk-parallel-item::before {content: \"\";position: absolute;border-left: 1px solid gray;box-sizing: border-box;top: 0;bottom: 0;left: 50%;z-index: -1;}#sk-container-id-7 div.sk-parallel-item {display: flex;flex-direction: column;z-index: 1;position: relative;background-color: white;}#sk-container-id-7 div.sk-parallel-item:first-child::after {align-self: flex-end;width: 50%;}#sk-container-id-7 div.sk-parallel-item:last-child::after {align-self: flex-start;width: 50%;}#sk-container-id-7 div.sk-parallel-item:only-child::after {width: 0;}#sk-container-id-7 div.sk-dashed-wrapped {border: 1px dashed gray;margin: 0 0.4em 0.5em 0.4em;box-sizing: border-box;padding-bottom: 0.4em;background-color: white;}#sk-container-id-7 div.sk-label label {font-family: monospace;font-weight: bold;display: inline-block;line-height: 1.2em;}#sk-container-id-7 div.sk-label-container {text-align: center;}#sk-container-id-7 div.sk-container {/* jupyter's `normalize.less` sets `[hidden] { display: none; }` but bootstrap.min.css set `[hidden] { display: none !important; }` so we also need the `!important` here to be able to override the default hidden behavior on the sphinx rendered scikit-learn.org. See: https://github.com/scikit-learn/scikit-learn/issues/21755 */display: inline-block !important;position: relative;}#sk-container-id-7 div.sk-text-repr-fallback {display: none;}</style><div id=\"sk-container-id-7\" class=\"sk-top-container\"><div class=\"sk-text-repr-fallback\"><pre>LGBMClassifier(objective=&#x27;binary&#x27;)</pre><b>In a Jupyter environment, please rerun this cell to show the HTML representation or trust the notebook. <br />On GitHub, the HTML representation is unable to render, please try loading this page with nbviewer.org.</b></div><div class=\"sk-container\" hidden><div class=\"sk-item\"><div class=\"sk-estimator sk-toggleable\"><input class=\"sk-toggleable__control sk-hidden--visually\" id=\"sk-estimator-id-7\" type=\"checkbox\" checked><label for=\"sk-estimator-id-7\" class=\"sk-toggleable__label sk-toggleable__label-arrow\">LGBMClassifier</label><div class=\"sk-toggleable__content\"><pre>LGBMClassifier(objective=&#x27;binary&#x27;)</pre></div></div></div></div></div>"
      ],
      "text/plain": [
       "LGBMClassifier(objective='binary')"
      ]
     },
     "execution_count": 52,
     "metadata": {},
     "output_type": "execute_result"
    }
   ],
   "source": [
    "clf = lgbm.LGBMClassifier(objective=obj_par) \n",
    "clf.fit(X_train, y_train)"
   ]
  },
  {
   "cell_type": "code",
   "execution_count": 53,
   "id": "355a078b",
   "metadata": {
    "execution": {
     "iopub.execute_input": "2023-03-09T12:08:58.423630Z",
     "iopub.status.busy": "2023-03-09T12:08:58.423354Z",
     "iopub.status.idle": "2023-03-09T12:08:58.566437Z",
     "shell.execute_reply": "2023-03-09T12:08:58.565691Z"
    },
    "papermill": {
     "duration": 0.162091,
     "end_time": "2023-03-09T12:08:58.567988",
     "exception": false,
     "start_time": "2023-03-09T12:08:58.405897",
     "status": "completed"
    },
    "tags": []
   },
   "outputs": [
    {
     "name": "stdout",
     "output_type": "stream",
     "text": [
      "              precision    recall  f1-score   support\n",
      "\n",
      "         pop       0.59      0.53      0.56      2391\n",
      "        rock       0.58      0.63      0.60      2409\n",
      "\n",
      "    accuracy                           0.58      4800\n",
      "   macro avg       0.58      0.58      0.58      4800\n",
      "weighted avg       0.58      0.58      0.58      4800\n",
      "\n"
     ]
    }
   ],
   "source": [
    "y_pred = clf.predict(X_test)\n",
    "print(classification_report(y_test, y_pred))"
   ]
  },
  {
   "cell_type": "code",
   "execution_count": 54,
   "id": "f22b911e",
   "metadata": {
    "execution": {
     "iopub.execute_input": "2023-03-09T12:08:58.598994Z",
     "iopub.status.busy": "2023-03-09T12:08:58.598725Z",
     "iopub.status.idle": "2023-03-09T12:08:58.717350Z",
     "shell.execute_reply": "2023-03-09T12:08:58.716435Z"
    },
    "papermill": {
     "duration": 0.13613,
     "end_time": "2023-03-09T12:08:58.719035",
     "exception": false,
     "start_time": "2023-03-09T12:08:58.582905",
     "status": "completed"
    },
    "tags": []
   },
   "outputs": [],
   "source": [
    "acc = accuracy_score(y_test, y_pred)\n",
    "pre = precision_score(y_test, y_pred, average=avg_par)\n",
    "rec = recall_score(y_test, y_pred, average=avg_par)\n",
    "f1 = f1_score(y_test, y_pred, average=avg_par)\n",
    "\n",
    "metrics_data['Shapelets']['LightGBM'] = {'Accuracy': acc, 'Precision': pre, 'Recall': rec, 'F1': f1}"
   ]
  },
  {
   "cell_type": "markdown",
   "id": "0809af9f",
   "metadata": {
    "papermill": {
     "duration": 0.014636,
     "end_time": "2023-03-09T12:08:58.748905",
     "exception": false,
     "start_time": "2023-03-09T12:08:58.734269",
     "status": "completed"
    },
    "tags": []
   },
   "source": [
    "#### KNN"
   ]
  },
  {
   "cell_type": "code",
   "execution_count": 55,
   "id": "1c9237e0",
   "metadata": {
    "execution": {
     "iopub.execute_input": "2023-03-09T12:08:58.779742Z",
     "iopub.status.busy": "2023-03-09T12:08:58.779475Z",
     "iopub.status.idle": "2023-03-09T12:08:58.783364Z",
     "shell.execute_reply": "2023-03-09T12:08:58.782657Z"
    },
    "papermill": {
     "duration": 0.021546,
     "end_time": "2023-03-09T12:08:58.785112",
     "exception": false,
     "start_time": "2023-03-09T12:08:58.763566",
     "status": "completed"
    },
    "tags": []
   },
   "outputs": [],
   "source": [
    "X_train = ts_train.reshape((ts_train.shape[0], ts_train.shape[1]))\n",
    "X_test = ts_test.reshape((ts_test.shape[0], ts_test.shape[1]))"
   ]
  },
  {
   "cell_type": "code",
   "execution_count": 56,
   "id": "192f3c3f",
   "metadata": {
    "execution": {
     "iopub.execute_input": "2023-03-09T12:08:58.815820Z",
     "iopub.status.busy": "2023-03-09T12:08:58.815561Z",
     "iopub.status.idle": "2023-03-09T12:08:58.820084Z",
     "shell.execute_reply": "2023-03-09T12:08:58.819381Z"
    },
    "papermill": {
     "duration": 0.021909,
     "end_time": "2023-03-09T12:08:58.821946",
     "exception": false,
     "start_time": "2023-03-09T12:08:58.800037",
     "status": "completed"
    },
    "tags": []
   },
   "outputs": [
    {
     "data": {
      "text/plain": [
       "(19200, 100)"
      ]
     },
     "execution_count": 56,
     "metadata": {},
     "output_type": "execute_result"
    }
   ],
   "source": [
    "X_train.shape"
   ]
  },
  {
   "cell_type": "code",
   "execution_count": 57,
   "id": "de0e5000",
   "metadata": {
    "execution": {
     "iopub.execute_input": "2023-03-09T12:08:58.854587Z",
     "iopub.status.busy": "2023-03-09T12:08:58.854321Z",
     "iopub.status.idle": "2023-03-09T12:08:58.858505Z",
     "shell.execute_reply": "2023-03-09T12:08:58.857571Z"
    },
    "papermill": {
     "duration": 0.022785,
     "end_time": "2023-03-09T12:08:58.860107",
     "exception": false,
     "start_time": "2023-03-09T12:08:58.837322",
     "status": "completed"
    },
    "tags": []
   },
   "outputs": [],
   "source": [
    "metrics_data['KNN'] = {}"
   ]
  },
  {
   "cell_type": "markdown",
   "id": "8ee39c05",
   "metadata": {
    "papermill": {
     "duration": 0.014721,
     "end_time": "2023-03-09T12:08:58.889659",
     "exception": false,
     "start_time": "2023-03-09T12:08:58.874938",
     "status": "completed"
    },
    "tags": []
   },
   "source": [
    "**Euclidean Distance**"
   ]
  },
  {
   "cell_type": "code",
   "execution_count": 58,
   "id": "55db1f58",
   "metadata": {
    "execution": {
     "iopub.execute_input": "2023-03-09T12:08:58.921268Z",
     "iopub.status.busy": "2023-03-09T12:08:58.920994Z",
     "iopub.status.idle": "2023-03-09T12:08:58.924473Z",
     "shell.execute_reply": "2023-03-09T12:08:58.923791Z"
    },
    "papermill": {
     "duration": 0.021636,
     "end_time": "2023-03-09T12:08:58.926306",
     "exception": false,
     "start_time": "2023-03-09T12:08:58.904670",
     "status": "completed"
    },
    "tags": []
   },
   "outputs": [],
   "source": [
    "from sklearn.neighbors import KNeighborsClassifier"
   ]
  },
  {
   "cell_type": "code",
   "execution_count": 59,
   "id": "132c2537",
   "metadata": {
    "execution": {
     "iopub.execute_input": "2023-03-09T12:08:58.957788Z",
     "iopub.status.busy": "2023-03-09T12:08:58.957516Z",
     "iopub.status.idle": "2023-03-09T12:08:58.984245Z",
     "shell.execute_reply": "2023-03-09T12:08:58.983316Z"
    },
    "papermill": {
     "duration": 0.044457,
     "end_time": "2023-03-09T12:08:58.986003",
     "exception": false,
     "start_time": "2023-03-09T12:08:58.941546",
     "status": "completed"
    },
    "tags": []
   },
   "outputs": [
    {
     "data": {
      "text/html": [
       "<style>#sk-container-id-8 {color: black;background-color: white;}#sk-container-id-8 pre{padding: 0;}#sk-container-id-8 div.sk-toggleable {background-color: white;}#sk-container-id-8 label.sk-toggleable__label {cursor: pointer;display: block;width: 100%;margin-bottom: 0;padding: 0.3em;box-sizing: border-box;text-align: center;}#sk-container-id-8 label.sk-toggleable__label-arrow:before {content: \"▸\";float: left;margin-right: 0.25em;color: #696969;}#sk-container-id-8 label.sk-toggleable__label-arrow:hover:before {color: black;}#sk-container-id-8 div.sk-estimator:hover label.sk-toggleable__label-arrow:before {color: black;}#sk-container-id-8 div.sk-toggleable__content {max-height: 0;max-width: 0;overflow: hidden;text-align: left;background-color: #f0f8ff;}#sk-container-id-8 div.sk-toggleable__content pre {margin: 0.2em;color: black;border-radius: 0.25em;background-color: #f0f8ff;}#sk-container-id-8 input.sk-toggleable__control:checked~div.sk-toggleable__content {max-height: 200px;max-width: 100%;overflow: auto;}#sk-container-id-8 input.sk-toggleable__control:checked~label.sk-toggleable__label-arrow:before {content: \"▾\";}#sk-container-id-8 div.sk-estimator input.sk-toggleable__control:checked~label.sk-toggleable__label {background-color: #d4ebff;}#sk-container-id-8 div.sk-label input.sk-toggleable__control:checked~label.sk-toggleable__label {background-color: #d4ebff;}#sk-container-id-8 input.sk-hidden--visually {border: 0;clip: rect(1px 1px 1px 1px);clip: rect(1px, 1px, 1px, 1px);height: 1px;margin: -1px;overflow: hidden;padding: 0;position: absolute;width: 1px;}#sk-container-id-8 div.sk-estimator {font-family: monospace;background-color: #f0f8ff;border: 1px dotted black;border-radius: 0.25em;box-sizing: border-box;margin-bottom: 0.5em;}#sk-container-id-8 div.sk-estimator:hover {background-color: #d4ebff;}#sk-container-id-8 div.sk-parallel-item::after {content: \"\";width: 100%;border-bottom: 1px solid gray;flex-grow: 1;}#sk-container-id-8 div.sk-label:hover label.sk-toggleable__label {background-color: #d4ebff;}#sk-container-id-8 div.sk-serial::before {content: \"\";position: absolute;border-left: 1px solid gray;box-sizing: border-box;top: 0;bottom: 0;left: 50%;z-index: 0;}#sk-container-id-8 div.sk-serial {display: flex;flex-direction: column;align-items: center;background-color: white;padding-right: 0.2em;padding-left: 0.2em;position: relative;}#sk-container-id-8 div.sk-item {position: relative;z-index: 1;}#sk-container-id-8 div.sk-parallel {display: flex;align-items: stretch;justify-content: center;background-color: white;position: relative;}#sk-container-id-8 div.sk-item::before, #sk-container-id-8 div.sk-parallel-item::before {content: \"\";position: absolute;border-left: 1px solid gray;box-sizing: border-box;top: 0;bottom: 0;left: 50%;z-index: -1;}#sk-container-id-8 div.sk-parallel-item {display: flex;flex-direction: column;z-index: 1;position: relative;background-color: white;}#sk-container-id-8 div.sk-parallel-item:first-child::after {align-self: flex-end;width: 50%;}#sk-container-id-8 div.sk-parallel-item:last-child::after {align-self: flex-start;width: 50%;}#sk-container-id-8 div.sk-parallel-item:only-child::after {width: 0;}#sk-container-id-8 div.sk-dashed-wrapped {border: 1px dashed gray;margin: 0 0.4em 0.5em 0.4em;box-sizing: border-box;padding-bottom: 0.4em;background-color: white;}#sk-container-id-8 div.sk-label label {font-family: monospace;font-weight: bold;display: inline-block;line-height: 1.2em;}#sk-container-id-8 div.sk-label-container {text-align: center;}#sk-container-id-8 div.sk-container {/* jupyter's `normalize.less` sets `[hidden] { display: none; }` but bootstrap.min.css set `[hidden] { display: none !important; }` so we also need the `!important` here to be able to override the default hidden behavior on the sphinx rendered scikit-learn.org. See: https://github.com/scikit-learn/scikit-learn/issues/21755 */display: inline-block !important;position: relative;}#sk-container-id-8 div.sk-text-repr-fallback {display: none;}</style><div id=\"sk-container-id-8\" class=\"sk-top-container\"><div class=\"sk-text-repr-fallback\"><pre>KNeighborsClassifier()</pre><b>In a Jupyter environment, please rerun this cell to show the HTML representation or trust the notebook. <br />On GitHub, the HTML representation is unable to render, please try loading this page with nbviewer.org.</b></div><div class=\"sk-container\" hidden><div class=\"sk-item\"><div class=\"sk-estimator sk-toggleable\"><input class=\"sk-toggleable__control sk-hidden--visually\" id=\"sk-estimator-id-8\" type=\"checkbox\" checked><label for=\"sk-estimator-id-8\" class=\"sk-toggleable__label sk-toggleable__label-arrow\">KNeighborsClassifier</label><div class=\"sk-toggleable__content\"><pre>KNeighborsClassifier()</pre></div></div></div></div></div>"
      ],
      "text/plain": [
       "KNeighborsClassifier()"
      ]
     },
     "execution_count": 59,
     "metadata": {},
     "output_type": "execute_result"
    }
   ],
   "source": [
    "clf = KNeighborsClassifier(n_neighbors=5, weights='uniform')\n",
    "clf.fit(X_train, y_train)"
   ]
  },
  {
   "cell_type": "code",
   "execution_count": 60,
   "id": "0afad62a",
   "metadata": {
    "execution": {
     "iopub.execute_input": "2023-03-09T12:08:59.019745Z",
     "iopub.status.busy": "2023-03-09T12:08:59.019244Z",
     "iopub.status.idle": "2023-03-09T12:09:00.152948Z",
     "shell.execute_reply": "2023-03-09T12:09:00.152185Z"
    },
    "papermill": {
     "duration": 1.152965,
     "end_time": "2023-03-09T12:09:00.155704",
     "exception": false,
     "start_time": "2023-03-09T12:08:59.002739",
     "status": "completed"
    },
    "tags": []
   },
   "outputs": [
    {
     "name": "stdout",
     "output_type": "stream",
     "text": [
      "              precision    recall  f1-score   support\n",
      "\n",
      "         pop       0.53      0.30      0.38      2391\n",
      "        rock       0.51      0.74      0.61      2409\n",
      "\n",
      "    accuracy                           0.52      4800\n",
      "   macro avg       0.52      0.52      0.50      4800\n",
      "weighted avg       0.52      0.52      0.50      4800\n",
      "\n"
     ]
    }
   ],
   "source": [
    "y_pred = clf.predict(X_test)\n",
    "print(classification_report(y_test, y_pred))"
   ]
  },
  {
   "cell_type": "code",
   "execution_count": 61,
   "id": "2d709070",
   "metadata": {
    "execution": {
     "iopub.execute_input": "2023-03-09T12:09:00.229172Z",
     "iopub.status.busy": "2023-03-09T12:09:00.228867Z",
     "iopub.status.idle": "2023-03-09T12:09:00.325103Z",
     "shell.execute_reply": "2023-03-09T12:09:00.324190Z"
    },
    "papermill": {
     "duration": 0.136781,
     "end_time": "2023-03-09T12:09:00.328057",
     "exception": false,
     "start_time": "2023-03-09T12:09:00.191276",
     "status": "completed"
    },
    "tags": []
   },
   "outputs": [],
   "source": [
    "acc = accuracy_score(y_test, y_pred)\n",
    "pre = precision_score(y_test, y_pred, average=avg_par)\n",
    "rec = recall_score(y_test, y_pred, average=avg_par)\n",
    "f1 = f1_score(y_test, y_pred, average=avg_par)\n",
    "\n",
    "metrics_data['KNN']['Euclidean'] = {'Accuracy': acc, 'Precision': pre, 'Recall': rec, 'F1': f1}"
   ]
  },
  {
   "cell_type": "markdown",
   "id": "c5ec2a09",
   "metadata": {
    "papermill": {
     "duration": 0.034531,
     "end_time": "2023-03-09T12:09:00.402369",
     "exception": false,
     "start_time": "2023-03-09T12:09:00.367838",
     "status": "completed"
    },
    "tags": []
   },
   "source": [
    "**Dynamic Time Warping**"
   ]
  },
  {
   "cell_type": "code",
   "execution_count": 62,
   "id": "2df913d8",
   "metadata": {
    "execution": {
     "iopub.execute_input": "2023-03-09T12:09:00.433058Z",
     "iopub.status.busy": "2023-03-09T12:09:00.432351Z",
     "iopub.status.idle": "2023-03-09T12:09:00.483393Z",
     "shell.execute_reply": "2023-03-09T12:09:00.482646Z"
    },
    "papermill": {
     "duration": 0.0694,
     "end_time": "2023-03-09T12:09:00.486136",
     "exception": false,
     "start_time": "2023-03-09T12:09:00.416736",
     "status": "completed"
    },
    "tags": []
   },
   "outputs": [],
   "source": [
    "from pyts.classification import KNeighborsClassifier\n",
    "from pyts.approximation import PiecewiseAggregateApproximation\n",
    "from imblearn.under_sampling import ClusterCentroids\n",
    "from sklearn_extra.cluster import KMedoids"
   ]
  },
  {
   "cell_type": "code",
   "execution_count": 63,
   "id": "db1604ec",
   "metadata": {
    "execution": {
     "iopub.execute_input": "2023-03-09T12:09:00.521022Z",
     "iopub.status.busy": "2023-03-09T12:09:00.520148Z",
     "iopub.status.idle": "2023-03-09T12:09:01.004974Z",
     "shell.execute_reply": "2023-03-09T12:09:01.003984Z"
    },
    "papermill": {
     "duration": 0.503526,
     "end_time": "2023-03-09T12:09:01.007838",
     "exception": false,
     "start_time": "2023-03-09T12:09:00.504312",
     "status": "completed"
    },
    "tags": []
   },
   "outputs": [],
   "source": [
    "if paa_window_size:\n",
    "    paa = PiecewiseAggregateApproximation(window_size=paa_window_size)\n",
    "    X_train = paa.transform(X_train)\n",
    "    X_test = paa.transform(X_test)\n",
    "    X_train.shape"
   ]
  },
  {
   "cell_type": "code",
   "execution_count": 64,
   "id": "59fa27aa",
   "metadata": {
    "execution": {
     "iopub.execute_input": "2023-03-09T12:09:01.085315Z",
     "iopub.status.busy": "2023-03-09T12:09:01.084865Z",
     "iopub.status.idle": "2023-03-09T12:09:34.570513Z",
     "shell.execute_reply": "2023-03-09T12:09:34.569812Z"
    },
    "papermill": {
     "duration": 33.525987,
     "end_time": "2023-03-09T12:09:34.573101",
     "exception": false,
     "start_time": "2023-03-09T12:09:01.047114",
     "status": "completed"
    },
    "tags": []
   },
   "outputs": [
    {
     "name": "stdout",
     "output_type": "stream",
     "text": [
      "{'pop': 2882, 'rock': 2877}\n"
     ]
    },
    {
     "name": "stderr",
     "output_type": "stream",
     "text": [
      "/home/mattiapggioli/lyrics2ts/.venv/lib/python3.9/site-packages/sklearn_extra/cluster/_k_medoids.py:275: UserWarning: Cluster 1199 is empty! self.labels_[self.medoid_indices_[1199]] may not be labeled with its corresponding cluster (1199).\n",
      "  warnings.warn(\n",
      "/home/mattiapggioli/lyrics2ts/.venv/lib/python3.9/site-packages/sklearn_extra/cluster/_k_medoids.py:275: UserWarning: Cluster 1778 is empty! self.labels_[self.medoid_indices_[1778]] may not be labeled with its corresponding cluster (1778).\n",
      "  warnings.warn(\n",
      "/home/mattiapggioli/lyrics2ts/.venv/lib/python3.9/site-packages/sklearn_extra/cluster/_k_medoids.py:275: UserWarning: Cluster 2872 is empty! self.labels_[self.medoid_indices_[2872]] may not be labeled with its corresponding cluster (2872).\n",
      "  warnings.warn(\n"
     ]
    }
   ],
   "source": [
    "if undersampling:\n",
    "    total_samples = len(y_train)\n",
    "    unique_classes, class_counts = np.unique(y_train, return_counts=True)\n",
    "    samp_strat = dict(zip(unique_classes, np.floor(class_counts * undersampling).astype(int)))\n",
    "    print(samp_strat)\n",
    "    cc = ClusterCentroids(estimator=KMedoids(\n",
    "        random_state=42), sampling_strategy=samp_strat, random_state=42)\n",
    "    X_train, y_train = cc.fit_resample(X_train, y_train)\n",
    "    X_train.shape"
   ]
  },
  {
   "cell_type": "code",
   "execution_count": 65,
   "id": "e7ac6b44",
   "metadata": {
    "execution": {
     "iopub.execute_input": "2023-03-09T12:09:34.652686Z",
     "iopub.status.busy": "2023-03-09T12:09:34.652249Z",
     "iopub.status.idle": "2023-03-09T12:09:34.667076Z",
     "shell.execute_reply": "2023-03-09T12:09:34.665531Z"
    },
    "papermill": {
     "duration": 0.05565,
     "end_time": "2023-03-09T12:09:34.669014",
     "exception": false,
     "start_time": "2023-03-09T12:09:34.613364",
     "status": "completed"
    },
    "tags": []
   },
   "outputs": [
    {
     "data": {
      "text/html": [
       "<style>#sk-container-id-9 {color: black;background-color: white;}#sk-container-id-9 pre{padding: 0;}#sk-container-id-9 div.sk-toggleable {background-color: white;}#sk-container-id-9 label.sk-toggleable__label {cursor: pointer;display: block;width: 100%;margin-bottom: 0;padding: 0.3em;box-sizing: border-box;text-align: center;}#sk-container-id-9 label.sk-toggleable__label-arrow:before {content: \"▸\";float: left;margin-right: 0.25em;color: #696969;}#sk-container-id-9 label.sk-toggleable__label-arrow:hover:before {color: black;}#sk-container-id-9 div.sk-estimator:hover label.sk-toggleable__label-arrow:before {color: black;}#sk-container-id-9 div.sk-toggleable__content {max-height: 0;max-width: 0;overflow: hidden;text-align: left;background-color: #f0f8ff;}#sk-container-id-9 div.sk-toggleable__content pre {margin: 0.2em;color: black;border-radius: 0.25em;background-color: #f0f8ff;}#sk-container-id-9 input.sk-toggleable__control:checked~div.sk-toggleable__content {max-height: 200px;max-width: 100%;overflow: auto;}#sk-container-id-9 input.sk-toggleable__control:checked~label.sk-toggleable__label-arrow:before {content: \"▾\";}#sk-container-id-9 div.sk-estimator input.sk-toggleable__control:checked~label.sk-toggleable__label {background-color: #d4ebff;}#sk-container-id-9 div.sk-label input.sk-toggleable__control:checked~label.sk-toggleable__label {background-color: #d4ebff;}#sk-container-id-9 input.sk-hidden--visually {border: 0;clip: rect(1px 1px 1px 1px);clip: rect(1px, 1px, 1px, 1px);height: 1px;margin: -1px;overflow: hidden;padding: 0;position: absolute;width: 1px;}#sk-container-id-9 div.sk-estimator {font-family: monospace;background-color: #f0f8ff;border: 1px dotted black;border-radius: 0.25em;box-sizing: border-box;margin-bottom: 0.5em;}#sk-container-id-9 div.sk-estimator:hover {background-color: #d4ebff;}#sk-container-id-9 div.sk-parallel-item::after {content: \"\";width: 100%;border-bottom: 1px solid gray;flex-grow: 1;}#sk-container-id-9 div.sk-label:hover label.sk-toggleable__label {background-color: #d4ebff;}#sk-container-id-9 div.sk-serial::before {content: \"\";position: absolute;border-left: 1px solid gray;box-sizing: border-box;top: 0;bottom: 0;left: 50%;z-index: 0;}#sk-container-id-9 div.sk-serial {display: flex;flex-direction: column;align-items: center;background-color: white;padding-right: 0.2em;padding-left: 0.2em;position: relative;}#sk-container-id-9 div.sk-item {position: relative;z-index: 1;}#sk-container-id-9 div.sk-parallel {display: flex;align-items: stretch;justify-content: center;background-color: white;position: relative;}#sk-container-id-9 div.sk-item::before, #sk-container-id-9 div.sk-parallel-item::before {content: \"\";position: absolute;border-left: 1px solid gray;box-sizing: border-box;top: 0;bottom: 0;left: 50%;z-index: -1;}#sk-container-id-9 div.sk-parallel-item {display: flex;flex-direction: column;z-index: 1;position: relative;background-color: white;}#sk-container-id-9 div.sk-parallel-item:first-child::after {align-self: flex-end;width: 50%;}#sk-container-id-9 div.sk-parallel-item:last-child::after {align-self: flex-start;width: 50%;}#sk-container-id-9 div.sk-parallel-item:only-child::after {width: 0;}#sk-container-id-9 div.sk-dashed-wrapped {border: 1px dashed gray;margin: 0 0.4em 0.5em 0.4em;box-sizing: border-box;padding-bottom: 0.4em;background-color: white;}#sk-container-id-9 div.sk-label label {font-family: monospace;font-weight: bold;display: inline-block;line-height: 1.2em;}#sk-container-id-9 div.sk-label-container {text-align: center;}#sk-container-id-9 div.sk-container {/* jupyter's `normalize.less` sets `[hidden] { display: none; }` but bootstrap.min.css set `[hidden] { display: none !important; }` so we also need the `!important` here to be able to override the default hidden behavior on the sphinx rendered scikit-learn.org. See: https://github.com/scikit-learn/scikit-learn/issues/21755 */display: inline-block !important;position: relative;}#sk-container-id-9 div.sk-text-repr-fallback {display: none;}</style><div id=\"sk-container-id-9\" class=\"sk-top-container\"><div class=\"sk-text-repr-fallback\"><pre>KNeighborsClassifier(metric=&#x27;dtw_sakoechiba&#x27;, metric_params={&#x27;window_size&#x27;: 3})</pre><b>In a Jupyter environment, please rerun this cell to show the HTML representation or trust the notebook. <br />On GitHub, the HTML representation is unable to render, please try loading this page with nbviewer.org.</b></div><div class=\"sk-container\" hidden><div class=\"sk-item\"><div class=\"sk-estimator sk-toggleable\"><input class=\"sk-toggleable__control sk-hidden--visually\" id=\"sk-estimator-id-9\" type=\"checkbox\" checked><label for=\"sk-estimator-id-9\" class=\"sk-toggleable__label sk-toggleable__label-arrow\">KNeighborsClassifier</label><div class=\"sk-toggleable__content\"><pre>KNeighborsClassifier(metric=&#x27;dtw_sakoechiba&#x27;, metric_params={&#x27;window_size&#x27;: 3})</pre></div></div></div></div></div>"
      ],
      "text/plain": [
       "KNeighborsClassifier(metric='dtw_sakoechiba', metric_params={'window_size': 3})"
      ]
     },
     "execution_count": 65,
     "metadata": {},
     "output_type": "execute_result"
    }
   ],
   "source": [
    "clf = KNeighborsClassifier(metric='dtw_sakoechiba',  metric_params={'window_size':3})\n",
    "\n",
    "clf.fit(X_train, y_train)"
   ]
  },
  {
   "cell_type": "code",
   "execution_count": 66,
   "id": "8109d19d",
   "metadata": {
    "execution": {
     "iopub.execute_input": "2023-03-09T12:09:34.701738Z",
     "iopub.status.busy": "2023-03-09T12:09:34.701027Z",
     "iopub.status.idle": "2023-03-09T13:32:02.577163Z",
     "shell.execute_reply": "2023-03-09T13:32:02.576458Z"
    },
    "papermill": {
     "duration": 4947.936877,
     "end_time": "2023-03-09T13:32:02.622197",
     "exception": false,
     "start_time": "2023-03-09T12:09:34.685320",
     "status": "completed"
    },
    "tags": []
   },
   "outputs": [
    {
     "name": "stdout",
     "output_type": "stream",
     "text": [
      "              precision    recall  f1-score   support\n",
      "\n",
      "         pop       0.53      0.53      0.53      2391\n",
      "        rock       0.53      0.53      0.53      2409\n",
      "\n",
      "    accuracy                           0.53      4800\n",
      "   macro avg       0.53      0.53      0.53      4800\n",
      "weighted avg       0.53      0.53      0.53      4800\n",
      "\n",
      "CPU times: user 1h 22min 27s, sys: 355 ms, total: 1h 22min 27s\n",
      "Wall time: 1h 22min 27s\n"
     ]
    }
   ],
   "source": [
    "%%time\n",
    "y_pred = clf.predict(X_test)\n",
    "print(classification_report(y_test, y_pred))"
   ]
  },
  {
   "cell_type": "code",
   "execution_count": 67,
   "id": "b09f5cdf",
   "metadata": {
    "execution": {
     "iopub.execute_input": "2023-03-09T13:32:02.678710Z",
     "iopub.status.busy": "2023-03-09T13:32:02.677652Z",
     "iopub.status.idle": "2023-03-09T13:32:02.774500Z",
     "shell.execute_reply": "2023-03-09T13:32:02.773700Z"
    },
    "papermill": {
     "duration": 0.115434,
     "end_time": "2023-03-09T13:32:02.777217",
     "exception": false,
     "start_time": "2023-03-09T13:32:02.661783",
     "status": "completed"
    },
    "tags": []
   },
   "outputs": [],
   "source": [
    "acc = accuracy_score(y_test, y_pred)\n",
    "pre = precision_score(y_test, y_pred, average=avg_par)\n",
    "rec = recall_score(y_test, y_pred, average=avg_par)\n",
    "f1 = f1_score(y_test, y_pred, average=avg_par)\n",
    "\n",
    "metrics_data['KNN']['DTW'] = {'Accuracy': acc, 'Precision': pre, 'Recall': rec, 'F1': f1}"
   ]
  },
  {
   "cell_type": "markdown",
   "id": "e0e700a7",
   "metadata": {
    "papermill": {
     "duration": 0.03519,
     "end_time": "2023-03-09T13:32:02.853967",
     "exception": false,
     "start_time": "2023-03-09T13:32:02.818777",
     "status": "completed"
    },
    "tags": []
   },
   "source": [
    "## Overall Results"
   ]
  },
  {
   "cell_type": "code",
   "execution_count": 68,
   "id": "d003c193",
   "metadata": {
    "execution": {
     "iopub.execute_input": "2023-03-09T13:32:02.884657Z",
     "iopub.status.busy": "2023-03-09T13:32:02.883965Z",
     "iopub.status.idle": "2023-03-09T13:32:02.901291Z",
     "shell.execute_reply": "2023-03-09T13:32:02.900226Z"
    },
    "papermill": {
     "duration": 0.035375,
     "end_time": "2023-03-09T13:32:02.903569",
     "exception": false,
     "start_time": "2023-03-09T13:32:02.868194",
     "status": "completed"
    },
    "tags": []
   },
   "outputs": [],
   "source": [
    "metrics_data = pd.DataFrame.from_dict({(i,j): metrics_data[i][j] \n",
    "                                       for i in metrics_data.keys() \n",
    "                                       for j in metrics_data[i].keys()},\n",
    "                                       orient='index')"
   ]
  },
  {
   "cell_type": "code",
   "execution_count": 69,
   "id": "0944fe84",
   "metadata": {
    "execution": {
     "iopub.execute_input": "2023-03-09T13:32:02.936913Z",
     "iopub.status.busy": "2023-03-09T13:32:02.936125Z",
     "iopub.status.idle": "2023-03-09T13:32:03.080642Z",
     "shell.execute_reply": "2023-03-09T13:32:03.079683Z"
    },
    "papermill": {
     "duration": 0.16321,
     "end_time": "2023-03-09T13:32:03.083466",
     "exception": false,
     "start_time": "2023-03-09T13:32:02.920256",
     "status": "completed"
    },
    "tags": []
   },
   "outputs": [],
   "source": [
    "acc = accuracy_score(y_test, y_pred)\n",
    "pre = precision_score(y_test, y_pred, average=avg_par)\n",
    "rec = recall_score(y_test, y_pred, average=avg_par)\n",
    "f1 = f1_score(y_test, y_pred, average=avg_par)"
   ]
  },
  {
   "cell_type": "code",
   "execution_count": 70,
   "id": "7ee1b347",
   "metadata": {
    "execution": {
     "iopub.execute_input": "2023-03-09T13:32:03.152889Z",
     "iopub.status.busy": "2023-03-09T13:32:03.152385Z",
     "iopub.status.idle": "2023-03-09T13:32:03.170215Z",
     "shell.execute_reply": "2023-03-09T13:32:03.168857Z"
    },
    "papermill": {
     "duration": 0.053169,
     "end_time": "2023-03-09T13:32:03.173302",
     "exception": false,
     "start_time": "2023-03-09T13:32:03.120133",
     "status": "completed"
    },
    "tags": []
   },
   "outputs": [
    {
     "data": {
      "text/html": [
       "<div>\n",
       "<style scoped>\n",
       "    .dataframe tbody tr th:only-of-type {\n",
       "        vertical-align: middle;\n",
       "    }\n",
       "\n",
       "    .dataframe tbody tr th {\n",
       "        vertical-align: top;\n",
       "    }\n",
       "\n",
       "    .dataframe thead th {\n",
       "        text-align: right;\n",
       "    }\n",
       "</style>\n",
       "<table border=\"1\" class=\"dataframe\">\n",
       "  <thead>\n",
       "    <tr style=\"text-align: right;\">\n",
       "      <th></th>\n",
       "      <th></th>\n",
       "      <th>Accuracy</th>\n",
       "      <th>Precision</th>\n",
       "      <th>Recall</th>\n",
       "      <th>F1</th>\n",
       "    </tr>\n",
       "  </thead>\n",
       "  <tbody>\n",
       "    <tr>\n",
       "      <th rowspan=\"3\" valign=\"top\">Global</th>\n",
       "      <th>DecisionTree</th>\n",
       "      <td>0.560417</td>\n",
       "      <td>0.560466</td>\n",
       "      <td>0.560450</td>\n",
       "      <td>0.560397</td>\n",
       "    </tr>\n",
       "    <tr>\n",
       "      <th>RandomForest</th>\n",
       "      <td>0.629167</td>\n",
       "      <td>0.629778</td>\n",
       "      <td>0.629026</td>\n",
       "      <td>0.628572</td>\n",
       "    </tr>\n",
       "    <tr>\n",
       "      <th>LightGBM</th>\n",
       "      <td>0.629583</td>\n",
       "      <td>0.630275</td>\n",
       "      <td>0.629434</td>\n",
       "      <td>0.628926</td>\n",
       "    </tr>\n",
       "    <tr>\n",
       "      <th rowspan=\"3\" valign=\"top\">Shapelets</th>\n",
       "      <th>DecisionTree</th>\n",
       "      <td>0.534375</td>\n",
       "      <td>0.534355</td>\n",
       "      <td>0.534349</td>\n",
       "      <td>0.534338</td>\n",
       "    </tr>\n",
       "    <tr>\n",
       "      <th>RandomForest</th>\n",
       "      <td>0.583333</td>\n",
       "      <td>0.583327</td>\n",
       "      <td>0.583299</td>\n",
       "      <td>0.583281</td>\n",
       "    </tr>\n",
       "    <tr>\n",
       "      <th>LightGBM</th>\n",
       "      <td>0.581250</td>\n",
       "      <td>0.581816</td>\n",
       "      <td>0.581072</td>\n",
       "      <td>0.580218</td>\n",
       "    </tr>\n",
       "    <tr>\n",
       "      <th rowspan=\"2\" valign=\"top\">KNN</th>\n",
       "      <th>Euclidean</th>\n",
       "      <td>0.519375</td>\n",
       "      <td>0.522891</td>\n",
       "      <td>0.518560</td>\n",
       "      <td>0.495075</td>\n",
       "    </tr>\n",
       "    <tr>\n",
       "      <th>DTW</th>\n",
       "      <td>0.528750</td>\n",
       "      <td>0.528748</td>\n",
       "      <td>0.528748</td>\n",
       "      <td>0.528747</td>\n",
       "    </tr>\n",
       "  </tbody>\n",
       "</table>\n",
       "</div>"
      ],
      "text/plain": [
       "                        Accuracy  Precision    Recall        F1\n",
       "Global    DecisionTree  0.560417   0.560466  0.560450  0.560397\n",
       "          RandomForest  0.629167   0.629778  0.629026  0.628572\n",
       "          LightGBM      0.629583   0.630275  0.629434  0.628926\n",
       "Shapelets DecisionTree  0.534375   0.534355  0.534349  0.534338\n",
       "          RandomForest  0.583333   0.583327  0.583299  0.583281\n",
       "          LightGBM      0.581250   0.581816  0.581072  0.580218\n",
       "KNN       Euclidean     0.519375   0.522891  0.518560  0.495075\n",
       "          DTW           0.528750   0.528748  0.528748  0.528747"
      ]
     },
     "execution_count": 70,
     "metadata": {},
     "output_type": "execute_result"
    }
   ],
   "source": [
    "metrics_data"
   ]
  },
  {
   "cell_type": "code",
   "execution_count": 71,
   "id": "3efc173e",
   "metadata": {
    "execution": {
     "iopub.execute_input": "2023-03-09T13:32:03.227409Z",
     "iopub.status.busy": "2023-03-09T13:32:03.226953Z",
     "iopub.status.idle": "2023-03-09T13:32:03.253977Z",
     "shell.execute_reply": "2023-03-09T13:32:03.252905Z"
    },
    "papermill": {
     "duration": 0.046106,
     "end_time": "2023-03-09T13:32:03.255986",
     "exception": false,
     "start_time": "2023-03-09T13:32:03.209880",
     "status": "completed"
    },
    "tags": []
   },
   "outputs": [],
   "source": [
    "metrics_data.to_csv(f'{data_path}/metrics.csv')"
   ]
  },
  {
   "cell_type": "code",
   "execution_count": null,
   "id": "d21f5304",
   "metadata": {
    "papermill": {
     "duration": 0.014263,
     "end_time": "2023-03-09T13:32:03.287403",
     "exception": false,
     "start_time": "2023-03-09T13:32:03.273140",
     "status": "completed"
    },
    "tags": []
   },
   "outputs": [],
   "source": []
  }
 ],
 "metadata": {
  "celltoolbar": "Tags",
  "kernelspec": {
   "display_name": "Python 3 (ipykernel)",
   "language": "python",
   "name": "python3"
  },
  "language_info": {
   "codemirror_mode": {
    "name": "ipython",
    "version": 3
   },
   "file_extension": ".py",
   "mimetype": "text/x-python",
   "name": "python",
   "nbconvert_exporter": "python",
   "pygments_lexer": "ipython3",
   "version": "3.9.16"
  },
  "papermill": {
   "default_parameters": {},
   "duration": 6554.636325,
   "end_time": "2023-03-09T13:32:06.531930",
   "environment_variables": {},
   "exception": null,
   "input_path": "09_ts_classification.ipynb",
   "output_path": "../clf-reports/pp-rc_features.ipynb",
   "parameters": {
    "data_path": "/home/mattiapggioli/lyrics2ts/data/classification/pp-rc/features/",
    "paa_window_size": 20,
    "undersampling": 0.3
   },
   "start_time": "2023-03-09T11:42:51.895605",
   "version": "2.4.0"
  },
  "vscode": {
   "interpreter": {
    "hash": "eb8d1ded7c87c6f9c253b40add648304d6b51d2e38393955e855effc7e6f899a"
   }
  }
 },
 "nbformat": 4,
 "nbformat_minor": 5
}