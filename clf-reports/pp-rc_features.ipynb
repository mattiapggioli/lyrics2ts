{
 "cells": [
  {
   "cell_type": "markdown",
   "id": "d79a68c5",
   "metadata": {
    "papermill": {
     "duration": 0.038396,
     "end_time": "2023-03-20T17:05:14.312130",
     "exception": false,
     "start_time": "2023-03-20T17:05:14.273734",
     "status": "completed"
    },
    "tags": []
   },
   "source": [
    "# Time Series Classification"
   ]
  },
  {
   "cell_type": "code",
   "execution_count": 1,
   "id": "8a0cb2b0",
   "metadata": {
    "execution": {
     "iopub.execute_input": "2023-03-20T17:05:14.361469Z",
     "iopub.status.busy": "2023-03-20T17:05:14.361213Z",
     "iopub.status.idle": "2023-03-20T17:05:15.899861Z",
     "shell.execute_reply": "2023-03-20T17:05:15.899036Z"
    },
    "papermill": {
     "duration": 1.563185,
     "end_time": "2023-03-20T17:05:15.902610",
     "exception": false,
     "start_time": "2023-03-20T17:05:14.339425",
     "status": "completed"
    },
    "tags": []
   },
   "outputs": [],
   "source": [
    "%matplotlib inline\n",
    "import pandas as pd\n",
    "import numpy as np\n",
    "import matplotlib.pyplot as plt\n",
    "import seaborn as sns\n",
    "import re\n",
    "import os\n",
    "from sklearn.preprocessing import StandardScaler\n",
    "from sklearn.decomposition import PCA\n",
    "import joblib\n",
    "from tslearn.utils import to_time_series_dataset, save_time_series_txt, load_time_series_txt\n",
    "import random\n",
    "from sklearn.model_selection import train_test_split\n",
    "from sklearn.metrics import accuracy_score, f1_score, precision_score, recall_score, classification_report\n",
    "import pickle"
   ]
  },
  {
   "cell_type": "code",
   "execution_count": 2,
   "id": "acc03405",
   "metadata": {
    "execution": {
     "iopub.execute_input": "2023-03-20T17:05:15.959977Z",
     "iopub.status.busy": "2023-03-20T17:05:15.959242Z",
     "iopub.status.idle": "2023-03-20T17:05:15.966200Z",
     "shell.execute_reply": "2023-03-20T17:05:15.964734Z"
    },
    "papermill": {
     "duration": 0.039587,
     "end_time": "2023-03-20T17:05:15.969534",
     "exception": false,
     "start_time": "2023-03-20T17:05:15.929947",
     "status": "completed"
    },
    "tags": [
     "parameters"
    ]
   },
   "outputs": [],
   "source": [
    "data_path = '/home/mattiapggioli/lyrics2ts/data/classification/pp-rc/sbert/'\n",
    "truncate=100\n",
    "max_iter = 2000\n",
    "paa_window_size = None\n",
    "undersampling = None"
   ]
  },
  {
   "cell_type": "code",
   "execution_count": 3,
   "id": "e1add7cb",
   "metadata": {
    "execution": {
     "iopub.execute_input": "2023-03-20T17:05:16.010533Z",
     "iopub.status.busy": "2023-03-20T17:05:16.010283Z",
     "iopub.status.idle": "2023-03-20T17:05:16.014176Z",
     "shell.execute_reply": "2023-03-20T17:05:16.013407Z"
    },
    "papermill": {
     "duration": 0.019137,
     "end_time": "2023-03-20T17:05:16.015736",
     "exception": false,
     "start_time": "2023-03-20T17:05:15.996599",
     "status": "completed"
    },
    "tags": [
     "injected-parameters"
    ]
   },
   "outputs": [],
   "source": [
    "# Parameters\n",
    "data_path = \"/home/mattiapggioli/lyrics2ts/data/classification/pp-rc/features/\"\n",
    "paa_window_size = 20\n",
    "undersampling = 0.3\n"
   ]
  },
  {
   "cell_type": "code",
   "execution_count": 4,
   "id": "a4f0c774",
   "metadata": {
    "execution": {
     "iopub.execute_input": "2023-03-20T17:05:16.037657Z",
     "iopub.status.busy": "2023-03-20T17:05:16.037409Z",
     "iopub.status.idle": "2023-03-20T17:05:35.101421Z",
     "shell.execute_reply": "2023-03-20T17:05:35.100511Z"
    },
    "papermill": {
     "duration": 19.078344,
     "end_time": "2023-03-20T17:05:35.104517",
     "exception": false,
     "start_time": "2023-03-20T17:05:16.026173",
     "status": "completed"
    },
    "tags": []
   },
   "outputs": [],
   "source": [
    "ts = load_time_series_txt(f'{data_path}/ts.txt')"
   ]
  },
  {
   "cell_type": "code",
   "execution_count": 5,
   "id": "5c48d154",
   "metadata": {
    "execution": {
     "iopub.execute_input": "2023-03-20T17:05:35.165689Z",
     "iopub.status.busy": "2023-03-20T17:05:35.165225Z",
     "iopub.status.idle": "2023-03-20T17:05:35.173748Z",
     "shell.execute_reply": "2023-03-20T17:05:35.172203Z"
    },
    "papermill": {
     "duration": 0.04363,
     "end_time": "2023-03-20T17:05:35.178240",
     "exception": false,
     "start_time": "2023-03-20T17:05:35.134610",
     "status": "completed"
    },
    "tags": []
   },
   "outputs": [
    {
     "data": {
      "text/plain": [
       "(24000, 130, 1)"
      ]
     },
     "execution_count": 5,
     "metadata": {},
     "output_type": "execute_result"
    }
   ],
   "source": [
    "ts.shape"
   ]
  },
  {
   "cell_type": "code",
   "execution_count": 6,
   "id": "f6274d40",
   "metadata": {
    "execution": {
     "iopub.execute_input": "2023-03-20T17:05:35.214337Z",
     "iopub.status.busy": "2023-03-20T17:05:35.213886Z",
     "iopub.status.idle": "2023-03-20T17:05:35.221320Z",
     "shell.execute_reply": "2023-03-20T17:05:35.220537Z"
    },
    "papermill": {
     "duration": 0.020892,
     "end_time": "2023-03-20T17:05:35.223007",
     "exception": false,
     "start_time": "2023-03-20T17:05:35.202115",
     "status": "completed"
    },
    "tags": []
   },
   "outputs": [],
   "source": [
    "with open(f'{data_path}/y_class.npy', 'rb') as f:\n",
    "    y = np.load(f, allow_pickle=True)"
   ]
  },
  {
   "cell_type": "code",
   "execution_count": 7,
   "id": "9d42fa3b",
   "metadata": {
    "execution": {
     "iopub.execute_input": "2023-03-20T17:05:35.246062Z",
     "iopub.status.busy": "2023-03-20T17:05:35.245167Z",
     "iopub.status.idle": "2023-03-20T17:05:35.255461Z",
     "shell.execute_reply": "2023-03-20T17:05:35.254566Z"
    },
    "papermill": {
     "duration": 0.023901,
     "end_time": "2023-03-20T17:05:35.257302",
     "exception": false,
     "start_time": "2023-03-20T17:05:35.233401",
     "status": "completed"
    },
    "tags": []
   },
   "outputs": [],
   "source": [
    "with open(f'{data_path}/X.npy', 'rb') as f:\n",
    "    X = np.load(f, allow_pickle=True)"
   ]
  },
  {
   "cell_type": "code",
   "execution_count": 8,
   "id": "1158a9da",
   "metadata": {
    "execution": {
     "iopub.execute_input": "2023-03-20T17:05:35.280348Z",
     "iopub.status.busy": "2023-03-20T17:05:35.279885Z",
     "iopub.status.idle": "2023-03-20T17:05:35.286357Z",
     "shell.execute_reply": "2023-03-20T17:05:35.285523Z"
    },
    "papermill": {
     "duration": 0.01993,
     "end_time": "2023-03-20T17:05:35.288070",
     "exception": false,
     "start_time": "2023-03-20T17:05:35.268140",
     "status": "completed"
    },
    "tags": []
   },
   "outputs": [
    {
     "data": {
      "text/plain": [
       "(24000, 14)"
      ]
     },
     "execution_count": 8,
     "metadata": {},
     "output_type": "execute_result"
    }
   ],
   "source": [
    "X.shape"
   ]
  },
  {
   "cell_type": "code",
   "execution_count": 9,
   "id": "47239790",
   "metadata": {
    "execution": {
     "iopub.execute_input": "2023-03-20T17:05:35.310933Z",
     "iopub.status.busy": "2023-03-20T17:05:35.310482Z",
     "iopub.status.idle": "2023-03-20T17:05:35.317620Z",
     "shell.execute_reply": "2023-03-20T17:05:35.316812Z"
    },
    "papermill": {
     "duration": 0.020796,
     "end_time": "2023-03-20T17:05:35.319353",
     "exception": false,
     "start_time": "2023-03-20T17:05:35.298557",
     "status": "completed"
    },
    "tags": []
   },
   "outputs": [
    {
     "data": {
      "text/plain": [
       "{'pop', 'rock'}"
      ]
     },
     "execution_count": 9,
     "metadata": {},
     "output_type": "execute_result"
    }
   ],
   "source": [
    "set(y)"
   ]
  },
  {
   "cell_type": "code",
   "execution_count": 10,
   "id": "37609992",
   "metadata": {
    "execution": {
     "iopub.execute_input": "2023-03-20T17:05:35.342247Z",
     "iopub.status.busy": "2023-03-20T17:05:35.341797Z",
     "iopub.status.idle": "2023-03-20T17:05:35.394503Z",
     "shell.execute_reply": "2023-03-20T17:05:35.393326Z"
    },
    "papermill": {
     "duration": 0.068101,
     "end_time": "2023-03-20T17:05:35.398002",
     "exception": false,
     "start_time": "2023-03-20T17:05:35.329901",
     "status": "completed"
    },
    "tags": []
   },
   "outputs": [],
   "source": [
    "ts_train, ts_test, y_train, y_test = train_test_split(\n",
    "    ts, y, test_size=0.20, random_state=42, stratify=y)"
   ]
  },
  {
   "cell_type": "code",
   "execution_count": 11,
   "id": "34508fe4",
   "metadata": {
    "execution": {
     "iopub.execute_input": "2023-03-20T17:05:35.425122Z",
     "iopub.status.busy": "2023-03-20T17:05:35.424583Z",
     "iopub.status.idle": "2023-03-20T17:05:35.466183Z",
     "shell.execute_reply": "2023-03-20T17:05:35.465215Z"
    },
    "papermill": {
     "duration": 0.055796,
     "end_time": "2023-03-20T17:05:35.468274",
     "exception": false,
     "start_time": "2023-03-20T17:05:35.412478",
     "status": "completed"
    },
    "tags": []
   },
   "outputs": [],
   "source": [
    "X_train, X_test, y_train, y_test = train_test_split(\n",
    "    X, y, test_size=0.20, random_state=42, stratify=y)"
   ]
  },
  {
   "cell_type": "code",
   "execution_count": 12,
   "id": "076afac9",
   "metadata": {
    "execution": {
     "iopub.execute_input": "2023-03-20T17:05:35.493565Z",
     "iopub.status.busy": "2023-03-20T17:05:35.493094Z",
     "iopub.status.idle": "2023-03-20T17:05:35.507700Z",
     "shell.execute_reply": "2023-03-20T17:05:35.506571Z"
    },
    "papermill": {
     "duration": 0.029067,
     "end_time": "2023-03-20T17:05:35.509980",
     "exception": false,
     "start_time": "2023-03-20T17:05:35.480913",
     "status": "completed"
    },
    "tags": []
   },
   "outputs": [
    {
     "data": {
      "text/plain": [
       "array([[-2.7962997 ],\n",
       "       [-1.60663626],\n",
       "       [-0.62753348],\n",
       "       [-1.18264603],\n",
       "       [-2.65375714],\n",
       "       [-1.70422227],\n",
       "       [ 2.74403378],\n",
       "       [-3.10191634],\n",
       "       [ 2.74403378],\n",
       "       [-2.68292316],\n",
       "       [-2.86765461],\n",
       "       [-2.50393101],\n",
       "       [-3.02220723],\n",
       "       [-1.42379419],\n",
       "       [-0.91132902],\n",
       "       [-1.12762331],\n",
       "       [ 0.74370465],\n",
       "       [-1.10037932],\n",
       "       [ 2.2724433 ],\n",
       "       [-2.07089222],\n",
       "       [-1.55673683],\n",
       "       [-1.44797607],\n",
       "       [-4.68101972],\n",
       "       [-5.05161442],\n",
       "       [-1.3041992 ],\n",
       "       [-1.89249754],\n",
       "       [-1.740618  ],\n",
       "       [-2.26613864],\n",
       "       [-0.91132902],\n",
       "       [-0.91132902],\n",
       "       [-0.91132902],\n",
       "       [-0.91132902],\n",
       "       [        nan],\n",
       "       [        nan],\n",
       "       [        nan],\n",
       "       [        nan],\n",
       "       [        nan],\n",
       "       [        nan],\n",
       "       [        nan],\n",
       "       [        nan],\n",
       "       [        nan],\n",
       "       [        nan],\n",
       "       [        nan],\n",
       "       [        nan],\n",
       "       [        nan],\n",
       "       [        nan],\n",
       "       [        nan],\n",
       "       [        nan],\n",
       "       [        nan],\n",
       "       [        nan],\n",
       "       [        nan],\n",
       "       [        nan],\n",
       "       [        nan],\n",
       "       [        nan],\n",
       "       [        nan],\n",
       "       [        nan],\n",
       "       [        nan],\n",
       "       [        nan],\n",
       "       [        nan],\n",
       "       [        nan],\n",
       "       [        nan],\n",
       "       [        nan],\n",
       "       [        nan],\n",
       "       [        nan],\n",
       "       [        nan],\n",
       "       [        nan],\n",
       "       [        nan],\n",
       "       [        nan],\n",
       "       [        nan],\n",
       "       [        nan],\n",
       "       [        nan],\n",
       "       [        nan],\n",
       "       [        nan],\n",
       "       [        nan],\n",
       "       [        nan],\n",
       "       [        nan],\n",
       "       [        nan],\n",
       "       [        nan],\n",
       "       [        nan],\n",
       "       [        nan],\n",
       "       [        nan],\n",
       "       [        nan],\n",
       "       [        nan],\n",
       "       [        nan],\n",
       "       [        nan],\n",
       "       [        nan],\n",
       "       [        nan],\n",
       "       [        nan],\n",
       "       [        nan],\n",
       "       [        nan],\n",
       "       [        nan],\n",
       "       [        nan],\n",
       "       [        nan],\n",
       "       [        nan],\n",
       "       [        nan],\n",
       "       [        nan],\n",
       "       [        nan],\n",
       "       [        nan],\n",
       "       [        nan],\n",
       "       [        nan],\n",
       "       [        nan],\n",
       "       [        nan],\n",
       "       [        nan],\n",
       "       [        nan],\n",
       "       [        nan],\n",
       "       [        nan],\n",
       "       [        nan],\n",
       "       [        nan],\n",
       "       [        nan],\n",
       "       [        nan],\n",
       "       [        nan],\n",
       "       [        nan],\n",
       "       [        nan],\n",
       "       [        nan],\n",
       "       [        nan],\n",
       "       [        nan],\n",
       "       [        nan],\n",
       "       [        nan],\n",
       "       [        nan],\n",
       "       [        nan],\n",
       "       [        nan],\n",
       "       [        nan],\n",
       "       [        nan],\n",
       "       [        nan],\n",
       "       [        nan],\n",
       "       [        nan],\n",
       "       [        nan],\n",
       "       [        nan],\n",
       "       [        nan],\n",
       "       [        nan]])"
      ]
     },
     "execution_count": 12,
     "metadata": {},
     "output_type": "execute_result"
    }
   ],
   "source": [
    "random.choice(ts_train)"
   ]
  },
  {
   "cell_type": "code",
   "execution_count": 13,
   "id": "ca66457a",
   "metadata": {
    "execution": {
     "iopub.execute_input": "2023-03-20T17:05:35.534631Z",
     "iopub.status.busy": "2023-03-20T17:05:35.533928Z",
     "iopub.status.idle": "2023-03-20T17:05:36.004367Z",
     "shell.execute_reply": "2023-03-20T17:05:36.003341Z"
    },
    "papermill": {
     "duration": 0.485613,
     "end_time": "2023-03-20T17:05:36.007109",
     "exception": false,
     "start_time": "2023-03-20T17:05:35.521496",
     "status": "completed"
    },
    "tags": []
   },
   "outputs": [
    {
     "data": {
      "text/plain": [
       "<AxesSubplot:ylabel='Count'>"
      ]
     },
     "execution_count": 13,
     "metadata": {},
     "output_type": "execute_result"
    },
    {
     "data": {
      "image/png": "[encoded data removed]",
      "text/plain": [
       "<Figure size 640x480 with 1 Axes>"
      ]
     },
     "metadata": {},
     "output_type": "display_data"
    }
   ],
   "source": [
    "sns.histplot([t[~np.any(np.isnan(t), axis=1)].shape[0] for t in ts_train])"
   ]
  },
  {
   "cell_type": "code",
   "execution_count": 14,
   "id": "c2ae286f",
   "metadata": {
    "execution": {
     "iopub.execute_input": "2023-03-20T17:05:36.040994Z",
     "iopub.status.busy": "2023-03-20T17:05:36.039899Z",
     "iopub.status.idle": "2023-03-20T17:05:36.046326Z",
     "shell.execute_reply": "2023-03-20T17:05:36.045460Z"
    },
    "papermill": {
     "duration": 0.024657,
     "end_time": "2023-03-20T17:05:36.048008",
     "exception": false,
     "start_time": "2023-03-20T17:05:36.023351",
     "status": "completed"
    },
    "tags": []
   },
   "outputs": [],
   "source": [
    "ts_train = ts_train[:, :truncate, :]\n",
    "ts_test = ts_test[:, :truncate, :]"
   ]
  },
  {
   "cell_type": "code",
   "execution_count": 15,
   "id": "3218baa4",
   "metadata": {
    "execution": {
     "iopub.execute_input": "2023-03-20T17:05:36.075790Z",
     "iopub.status.busy": "2023-03-20T17:05:36.074693Z",
     "iopub.status.idle": "2023-03-20T17:05:36.174912Z",
     "shell.execute_reply": "2023-03-20T17:05:36.174244Z"
    },
    "papermill": {
     "duration": 0.116356,
     "end_time": "2023-03-20T17:05:36.177563",
     "exception": false,
     "start_time": "2023-03-20T17:05:36.061207",
     "status": "completed"
    },
    "tags": []
   },
   "outputs": [],
   "source": [
    "mean_arr = np.nanmean(ts_train, axis=1, keepdims=True)\n",
    "nan_indices = np.isnan(ts_train)\n",
    "ts_train[nan_indices] = np.take(mean_arr, np.nonzero(nan_indices)[0])\n",
    "\n",
    "mean_arr = np.nanmean(ts_test, axis=1, keepdims=True)\n",
    "nan_indices = np.isnan(ts_test)\n",
    "ts_test[nan_indices] = np.take(mean_arr, np.nonzero(nan_indices)[0])"
   ]
  },
  {
   "cell_type": "code",
   "execution_count": 16,
   "id": "d369691b",
   "metadata": {
    "execution": {
     "iopub.execute_input": "2023-03-20T17:05:36.235602Z",
     "iopub.status.busy": "2023-03-20T17:05:36.235068Z",
     "iopub.status.idle": "2023-03-20T17:05:36.242050Z",
     "shell.execute_reply": "2023-03-20T17:05:36.240953Z"
    },
    "papermill": {
     "duration": 0.040314,
     "end_time": "2023-03-20T17:05:36.245566",
     "exception": false,
     "start_time": "2023-03-20T17:05:36.205252",
     "status": "completed"
    },
    "tags": []
   },
   "outputs": [
    {
     "data": {
      "text/plain": [
       "0"
      ]
     },
     "execution_count": 16,
     "metadata": {},
     "output_type": "execute_result"
    }
   ],
   "source": [
    "np.count_nonzero(np.isnan(X_train))"
   ]
  },
  {
   "cell_type": "code",
   "execution_count": 17,
   "id": "0d602e18",
   "metadata": {
    "execution": {
     "iopub.execute_input": "2023-03-20T17:05:36.276489Z",
     "iopub.status.busy": "2023-03-20T17:05:36.276025Z",
     "iopub.status.idle": "2023-03-20T17:05:36.282233Z",
     "shell.execute_reply": "2023-03-20T17:05:36.281178Z"
    },
    "papermill": {
     "duration": 0.021015,
     "end_time": "2023-03-20T17:05:36.284189",
     "exception": false,
     "start_time": "2023-03-20T17:05:36.263174",
     "status": "completed"
    },
    "tags": []
   },
   "outputs": [],
   "source": [
    "X_train[np.isnan(X_train)] = 0\n",
    "X_test[np.isnan(X_test)] = 0"
   ]
  },
  {
   "cell_type": "code",
   "execution_count": 18,
   "id": "45c5102c",
   "metadata": {
    "execution": {
     "iopub.execute_input": "2023-03-20T17:05:36.312551Z",
     "iopub.status.busy": "2023-03-20T17:05:36.311681Z",
     "iopub.status.idle": "2023-03-20T17:05:38.898524Z",
     "shell.execute_reply": "2023-03-20T17:05:38.897650Z"
    },
    "papermill": {
     "duration": 2.605356,
     "end_time": "2023-03-20T17:05:38.901435",
     "exception": false,
     "start_time": "2023-03-20T17:05:36.296079",
     "status": "completed"
    },
    "tags": []
   },
   "outputs": [],
   "source": [
    "save_time_series_txt(f'{data_path}/ts_train.txt', ts_train)\n",
    "save_time_series_txt(f'{data_path}/ts_test.txt', ts_test)"
   ]
  },
  {
   "cell_type": "code",
   "execution_count": 19,
   "id": "39830f37",
   "metadata": {
    "execution": {
     "iopub.execute_input": "2023-03-20T17:05:38.966161Z",
     "iopub.status.busy": "2023-03-20T17:05:38.965862Z",
     "iopub.status.idle": "2023-03-20T17:05:38.974505Z",
     "shell.execute_reply": "2023-03-20T17:05:38.973527Z"
    },
    "papermill": {
     "duration": 0.04479,
     "end_time": "2023-03-20T17:05:38.977704",
     "exception": false,
     "start_time": "2023-03-20T17:05:38.932914",
     "status": "completed"
    },
    "tags": []
   },
   "outputs": [],
   "source": [
    "with open(f'{data_path}/X_train.npy', 'wb') as f:\n",
    "    np.save(f, X_train, allow_pickle=True)\n",
    "\n",
    "with open(f'{data_path}/X_test.npy', 'wb') as f:\n",
    "    np.save(f, X_test, allow_pickle=True)"
   ]
  },
  {
   "cell_type": "code",
   "execution_count": 20,
   "id": "795fd2be",
   "metadata": {
    "execution": {
     "iopub.execute_input": "2023-03-20T17:05:39.014637Z",
     "iopub.status.busy": "2023-03-20T17:05:39.013774Z",
     "iopub.status.idle": "2023-03-20T17:05:39.022914Z",
     "shell.execute_reply": "2023-03-20T17:05:39.022106Z"
    },
    "papermill": {
     "duration": 0.024038,
     "end_time": "2023-03-20T17:05:39.024759",
     "exception": false,
     "start_time": "2023-03-20T17:05:39.000721",
     "status": "completed"
    },
    "tags": []
   },
   "outputs": [],
   "source": [
    "with open(f'{data_path}/y_train.npy', 'wb') as f:\n",
    "    np.save(f, y_train, allow_pickle=True)\n",
    "\n",
    "with open(f'{data_path}/y_test.npy', 'wb') as f:\n",
    "    np.save(f, y_test, allow_pickle=True)"
   ]
  },
  {
   "cell_type": "code",
   "execution_count": 21,
   "id": "08bda153",
   "metadata": {
    "execution": {
     "iopub.execute_input": "2023-03-20T17:05:39.049651Z",
     "iopub.status.busy": "2023-03-20T17:05:39.048812Z",
     "iopub.status.idle": "2023-03-20T17:05:39.219414Z",
     "shell.execute_reply": "2023-03-20T17:05:39.218692Z"
    },
    "papermill": {
     "duration": 0.184878,
     "end_time": "2023-03-20T17:05:39.221000",
     "exception": false,
     "start_time": "2023-03-20T17:05:39.036122",
     "status": "completed"
    },
    "tags": []
   },
   "outputs": [
    {
     "data": {
      "text/plain": [
       "[<matplotlib.lines.Line2D at 0x7f1334b80730>]"
      ]
     },
     "execution_count": 21,
     "metadata": {},
     "output_type": "execute_result"
    },
    {
     "data": {
      "image/png": "[encoded data removed]",
      "text/plain": [
       "<Figure size 640x480 with 1 Axes>"
      ]
     },
     "metadata": {},
     "output_type": "display_data"
    }
   ],
   "source": [
    "plt.plot(random.choice(ts_train))"
   ]
  },
  {
   "cell_type": "code",
   "execution_count": 22,
   "id": "98ce9d63",
   "metadata": {
    "execution": {
     "iopub.execute_input": "2023-03-20T17:05:39.247984Z",
     "iopub.status.busy": "2023-03-20T17:05:39.247593Z",
     "iopub.status.idle": "2023-03-20T17:05:39.253722Z",
     "shell.execute_reply": "2023-03-20T17:05:39.252819Z"
    },
    "papermill": {
     "duration": 0.021272,
     "end_time": "2023-03-20T17:05:39.255127",
     "exception": false,
     "start_time": "2023-03-20T17:05:39.233855",
     "status": "completed"
    },
    "tags": []
   },
   "outputs": [],
   "source": [
    "# Parameters that require knowing if it's binary or multiclass (LightGBM, metrics)\n",
    "if len(set(y)) == 2:\n",
    "    avg_par = 'macro'\n",
    "    obj_par = 'binary'\n",
    "elif len(set(y)) > 2:\n",
    "    avg_par = 'weighted'\n",
    "    obj_par = 'multiclass'"
   ]
  },
  {
   "cell_type": "markdown",
   "id": "228f1b39",
   "metadata": {
    "papermill": {
     "duration": 0.029379,
     "end_time": "2023-03-20T17:05:39.306634",
     "exception": false,
     "start_time": "2023-03-20T17:05:39.277255",
     "status": "completed"
    },
    "tags": []
   },
   "source": [
    "## Classification"
   ]
  },
  {
   "cell_type": "code",
   "execution_count": 23,
   "id": "34bb73ff",
   "metadata": {
    "execution": {
     "iopub.execute_input": "2023-03-20T17:05:39.334796Z",
     "iopub.status.busy": "2023-03-20T17:05:39.334337Z",
     "iopub.status.idle": "2023-03-20T17:05:39.461985Z",
     "shell.execute_reply": "2023-03-20T17:05:39.461227Z"
    },
    "papermill": {
     "duration": 0.143239,
     "end_time": "2023-03-20T17:05:39.464576",
     "exception": false,
     "start_time": "2023-03-20T17:05:39.321337",
     "status": "completed"
    },
    "tags": []
   },
   "outputs": [],
   "source": [
    "from sklearn.tree import DecisionTreeClassifier\n",
    "import lightgbm as lgbm\n",
    "from sklearn.ensemble import RandomForestClassifier"
   ]
  },
  {
   "cell_type": "code",
   "execution_count": 24,
   "id": "02aaee18",
   "metadata": {
    "execution": {
     "iopub.execute_input": "2023-03-20T17:05:39.493235Z",
     "iopub.status.busy": "2023-03-20T17:05:39.492836Z",
     "iopub.status.idle": "2023-03-20T17:05:39.497792Z",
     "shell.execute_reply": "2023-03-20T17:05:39.496765Z"
    },
    "papermill": {
     "duration": 0.019613,
     "end_time": "2023-03-20T17:05:39.499518",
     "exception": false,
     "start_time": "2023-03-20T17:05:39.479905",
     "status": "completed"
    },
    "tags": []
   },
   "outputs": [],
   "source": [
    "metrics_data = {}"
   ]
  },
  {
   "cell_type": "markdown",
   "id": "b49309ed",
   "metadata": {
    "papermill": {
     "duration": 0.011195,
     "end_time": "2023-03-20T17:05:39.522090",
     "exception": false,
     "start_time": "2023-03-20T17:05:39.510895",
     "status": "completed"
    },
    "tags": []
   },
   "source": [
    "### Baseline: global features (No Time Series)"
   ]
  },
  {
   "cell_type": "code",
   "execution_count": 25,
   "id": "35eb9f66",
   "metadata": {
    "execution": {
     "iopub.execute_input": "2023-03-20T17:05:39.546679Z",
     "iopub.status.busy": "2023-03-20T17:05:39.546210Z",
     "iopub.status.idle": "2023-03-20T17:05:39.551778Z",
     "shell.execute_reply": "2023-03-20T17:05:39.550673Z"
    },
    "papermill": {
     "duration": 0.020094,
     "end_time": "2023-03-20T17:05:39.553495",
     "exception": false,
     "start_time": "2023-03-20T17:05:39.533401",
     "status": "completed"
    },
    "tags": []
   },
   "outputs": [],
   "source": [
    "metrics_data['Global'] = {}"
   ]
  },
  {
   "cell_type": "markdown",
   "id": "29cd5044",
   "metadata": {
    "papermill": {
     "duration": 0.011195,
     "end_time": "2023-03-20T17:05:39.576232",
     "exception": false,
     "start_time": "2023-03-20T17:05:39.565037",
     "status": "completed"
    },
    "tags": []
   },
   "source": [
    "**Decision Tree**"
   ]
  },
  {
   "cell_type": "code",
   "execution_count": 26,
   "id": "9ef4f037",
   "metadata": {
    "execution": {
     "iopub.execute_input": "2023-03-20T17:05:39.601304Z",
     "iopub.status.busy": "2023-03-20T17:05:39.600840Z",
     "iopub.status.idle": "2023-03-20T17:05:40.045470Z",
     "shell.execute_reply": "2023-03-20T17:05:40.044687Z"
    },
    "papermill": {
     "duration": 0.460544,
     "end_time": "2023-03-20T17:05:40.048405",
     "exception": false,
     "start_time": "2023-03-20T17:05:39.587861",
     "status": "completed"
    },
    "tags": []
   },
   "outputs": [
    {
     "data": {
      "text/html": [
       "<style>#sk-container-id-1 {color: black;background-color: white;}#sk-container-id-1 pre{padding: 0;}#sk-container-id-1 div.sk-toggleable {background-color: white;}#sk-container-id-1 label.sk-toggleable__label {cursor: pointer;display: block;width: 100%;margin-bottom: 0;padding: 0.3em;box-sizing: border-box;text-align: center;}#sk-container-id-1 label.sk-toggleable__label-arrow:before {content: \"▸\";float: left;margin-right: 0.25em;color: #696969;}#sk-container-id-1 label.sk-toggleable__label-arrow:hover:before {color: black;}#sk-container-id-1 div.sk-estimator:hover label.sk-toggleable__label-arrow:before {color: black;}#sk-container-id-1 div.sk-toggleable__content {max-height: 0;max-width: 0;overflow: hidden;text-align: left;background-color: #f0f8ff;}#sk-container-id-1 div.sk-toggleable__content pre {margin: 0.2em;color: black;border-radius: 0.25em;background-color: #f0f8ff;}#sk-container-id-1 input.sk-toggleable__control:checked~div.sk-toggleable__content {max-height: 200px;max-width: 100%;overflow: auto;}#sk-container-id-1 input.sk-toggleable__control:checked~label.sk-toggleable__label-arrow:before {content: \"▾\";}#sk-container-id-1 div.sk-estimator input.sk-toggleable__control:checked~label.sk-toggleable__label {background-color: #d4ebff;}#sk-container-id-1 div.sk-label input.sk-toggleable__control:checked~label.sk-toggleable__label {background-color: #d4ebff;}#sk-container-id-1 input.sk-hidden--visually {border: 0;clip: rect(1px 1px 1px 1px);clip: rect(1px, 1px, 1px, 1px);height: 1px;margin: -1px;overflow: hidden;padding: 0;position: absolute;width: 1px;}#sk-container-id-1 div.sk-estimator {font-family: monospace;background-color: #f0f8ff;border: 1px dotted black;border-radius: 0.25em;box-sizing: border-box;margin-bottom: 0.5em;}#sk-container-id-1 div.sk-estimator:hover {background-color: #d4ebff;}#sk-container-id-1 div.sk-parallel-item::after {content: \"\";width: 100%;border-bottom: 1px solid gray;flex-grow: 1;}#sk-container-id-1 div.sk-label:hover label.sk-toggleable__label {background-color: #d4ebff;}#sk-container-id-1 div.sk-serial::before {content: \"\";position: absolute;border-left: 1px solid gray;box-sizing: border-box;top: 0;bottom: 0;left: 50%;z-index: 0;}#sk-container-id-1 div.sk-serial {display: flex;flex-direction: column;align-items: center;background-color: white;padding-right: 0.2em;padding-left: 0.2em;position: relative;}#sk-container-id-1 div.sk-item {position: relative;z-index: 1;}#sk-container-id-1 div.sk-parallel {display: flex;align-items: stretch;justify-content: center;background-color: white;position: relative;}#sk-container-id-1 div.sk-item::before, #sk-container-id-1 div.sk-parallel-item::before {content: \"\";position: absolute;border-left: 1px solid gray;box-sizing: border-box;top: 0;bottom: 0;left: 50%;z-index: -1;}#sk-container-id-1 div.sk-parallel-item {display: flex;flex-direction: column;z-index: 1;position: relative;background-color: white;}#sk-container-id-1 div.sk-parallel-item:first-child::after {align-self: flex-end;width: 50%;}#sk-container-id-1 div.sk-parallel-item:last-child::after {align-self: flex-start;width: 50%;}#sk-container-id-1 div.sk-parallel-item:only-child::after {width: 0;}#sk-container-id-1 div.sk-dashed-wrapped {border: 1px dashed gray;margin: 0 0.4em 0.5em 0.4em;box-sizing: border-box;padding-bottom: 0.4em;background-color: white;}#sk-container-id-1 div.sk-label label {font-family: monospace;font-weight: bold;display: inline-block;line-height: 1.2em;}#sk-container-id-1 div.sk-label-container {text-align: center;}#sk-container-id-1 div.sk-container {/* jupyter's `normalize.less` sets `[hidden] { display: none; }` but bootstrap.min.css set `[hidden] { display: none !important; }` so we also need the `!important` here to be able to override the default hidden behavior on the sphinx rendered scikit-learn.org. See: https://github.com/scikit-learn/scikit-learn/issues/21755 */display: inline-block !important;position: relative;}#sk-container-id-1 div.sk-text-repr-fallback {display: none;}</style><div id=\"sk-container-id-1\" class=\"sk-top-container\"><div class=\"sk-text-repr-fallback\"><pre>DecisionTreeClassifier()</pre><b>In a Jupyter environment, please rerun this cell to show the HTML representation or trust the notebook. <br />On GitHub, the HTML representation is unable to render, please try loading this page with nbviewer.org.</b></div><div class=\"sk-container\" hidden><div class=\"sk-item\"><div class=\"sk-estimator sk-toggleable\"><input class=\"sk-toggleable__control sk-hidden--visually\" id=\"sk-estimator-id-1\" type=\"checkbox\" checked><label for=\"sk-estimator-id-1\" class=\"sk-toggleable__label sk-toggleable__label-arrow\">DecisionTreeClassifier</label><div class=\"sk-toggleable__content\"><pre>DecisionTreeClassifier()</pre></div></div></div></div></div>"
      ],
      "text/plain": [
       "DecisionTreeClassifier()"
      ]
     },
     "execution_count": 26,
     "metadata": {},
     "output_type": "execute_result"
    }
   ],
   "source": [
    "clf = DecisionTreeClassifier()\n",
    "clf.fit(X_train, y_train)"
   ]
  },
  {
   "cell_type": "code",
   "execution_count": 27,
   "id": "9c50acc4",
   "metadata": {
    "execution": {
     "iopub.execute_input": "2023-03-20T17:05:40.076386Z",
     "iopub.status.busy": "2023-03-20T17:05:40.075984Z",
     "iopub.status.idle": "2023-03-20T17:05:40.201732Z",
     "shell.execute_reply": "2023-03-20T17:05:40.200717Z"
    },
    "papermill": {
     "duration": 0.141951,
     "end_time": "2023-03-20T17:05:40.204633",
     "exception": false,
     "start_time": "2023-03-20T17:05:40.062682",
     "status": "completed"
    },
    "tags": []
   },
   "outputs": [
    {
     "name": "stdout",
     "output_type": "stream",
     "text": [
      "              precision    recall  f1-score   support\n",
      "\n",
      "         pop       0.58      0.57      0.58      2400\n",
      "        rock       0.58      0.59      0.58      2400\n",
      "\n",
      "    accuracy                           0.58      4800\n",
      "   macro avg       0.58      0.58      0.58      4800\n",
      "weighted avg       0.58      0.58      0.58      4800\n",
      "\n"
     ]
    }
   ],
   "source": [
    "y_pred = clf.predict(X_test)\n",
    "print(classification_report(y_test, y_pred))"
   ]
  },
  {
   "cell_type": "code",
   "execution_count": 28,
   "id": "8866c3c3",
   "metadata": {
    "execution": {
     "iopub.execute_input": "2023-03-20T17:05:40.273213Z",
     "iopub.status.busy": "2023-03-20T17:05:40.272925Z",
     "iopub.status.idle": "2023-03-20T17:05:40.412402Z",
     "shell.execute_reply": "2023-03-20T17:05:40.411626Z"
    },
    "papermill": {
     "duration": 0.177026,
     "end_time": "2023-03-20T17:05:40.415251",
     "exception": false,
     "start_time": "2023-03-20T17:05:40.238225",
     "status": "completed"
    },
    "tags": []
   },
   "outputs": [],
   "source": [
    "acc = accuracy_score(y_test, y_pred)\n",
    "pre = precision_score(y_test, y_pred, average=avg_par)\n",
    "rec = recall_score(y_test, y_pred, average=avg_par)\n",
    "f1 = f1_score(y_test, y_pred, average=avg_par)\n",
    "\n",
    "metrics_data['Global']['DecisionTree'] = {'Accuracy': acc, 'Precision': pre, 'Recall': rec, 'F1': f1}"
   ]
  },
  {
   "cell_type": "markdown",
   "id": "28aa5a63",
   "metadata": {
    "papermill": {
     "duration": 0.035059,
     "end_time": "2023-03-20T17:05:40.484781",
     "exception": false,
     "start_time": "2023-03-20T17:05:40.449722",
     "status": "completed"
    },
    "tags": []
   },
   "source": [
    "**Random Forest**"
   ]
  },
  {
   "cell_type": "code",
   "execution_count": 29,
   "id": "0e5e2310",
   "metadata": {
    "execution": {
     "iopub.execute_input": "2023-03-20T17:05:40.517781Z",
     "iopub.status.busy": "2023-03-20T17:05:40.517315Z",
     "iopub.status.idle": "2023-03-20T17:05:46.006169Z",
     "shell.execute_reply": "2023-03-20T17:05:46.004694Z"
    },
    "papermill": {
     "duration": 5.507678,
     "end_time": "2023-03-20T17:05:46.011611",
     "exception": false,
     "start_time": "2023-03-20T17:05:40.503933",
     "status": "completed"
    },
    "tags": []
   },
   "outputs": [
    {
     "data": {
      "text/html": [
       "<style>#sk-container-id-2 {color: black;background-color: white;}#sk-container-id-2 pre{padding: 0;}#sk-container-id-2 div.sk-toggleable {background-color: white;}#sk-container-id-2 label.sk-toggleable__label {cursor: pointer;display: block;width: 100%;margin-bottom: 0;padding: 0.3em;box-sizing: border-box;text-align: center;}#sk-container-id-2 label.sk-toggleable__label-arrow:before {content: \"▸\";float: left;margin-right: 0.25em;color: #696969;}#sk-container-id-2 label.sk-toggleable__label-arrow:hover:before {color: black;}#sk-container-id-2 div.sk-estimator:hover label.sk-toggleable__label-arrow:before {color: black;}#sk-container-id-2 div.sk-toggleable__content {max-height: 0;max-width: 0;overflow: hidden;text-align: left;background-color: #f0f8ff;}#sk-container-id-2 div.sk-toggleable__content pre {margin: 0.2em;color: black;border-radius: 0.25em;background-color: #f0f8ff;}#sk-container-id-2 input.sk-toggleable__control:checked~div.sk-toggleable__content {max-height: 200px;max-width: 100%;overflow: auto;}#sk-container-id-2 input.sk-toggleable__control:checked~label.sk-toggleable__label-arrow:before {content: \"▾\";}#sk-container-id-2 div.sk-estimator input.sk-toggleable__control:checked~label.sk-toggleable__label {background-color: #d4ebff;}#sk-container-id-2 div.sk-label input.sk-toggleable__control:checked~label.sk-toggleable__label {background-color: #d4ebff;}#sk-container-id-2 input.sk-hidden--visually {border: 0;clip: rect(1px 1px 1px 1px);clip: rect(1px, 1px, 1px, 1px);height: 1px;margin: -1px;overflow: hidden;padding: 0;position: absolute;width: 1px;}#sk-container-id-2 div.sk-estimator {font-family: monospace;background-color: #f0f8ff;border: 1px dotted black;border-radius: 0.25em;box-sizing: border-box;margin-bottom: 0.5em;}#sk-container-id-2 div.sk-estimator:hover {background-color: #d4ebff;}#sk-container-id-2 div.sk-parallel-item::after {content: \"\";width: 100%;border-bottom: 1px solid gray;flex-grow: 1;}#sk-container-id-2 div.sk-label:hover label.sk-toggleable__label {background-color: #d4ebff;}#sk-container-id-2 div.sk-serial::before {content: \"\";position: absolute;border-left: 1px solid gray;box-sizing: border-box;top: 0;bottom: 0;left: 50%;z-index: 0;}#sk-container-id-2 div.sk-serial {display: flex;flex-direction: column;align-items: center;background-color: white;padding-right: 0.2em;padding-left: 0.2em;position: relative;}#sk-container-id-2 div.sk-item {position: relative;z-index: 1;}#sk-container-id-2 div.sk-parallel {display: flex;align-items: stretch;justify-content: center;background-color: white;position: relative;}#sk-container-id-2 div.sk-item::before, #sk-container-id-2 div.sk-parallel-item::before {content: \"\";position: absolute;border-left: 1px solid gray;box-sizing: border-box;top: 0;bottom: 0;left: 50%;z-index: -1;}#sk-container-id-2 div.sk-parallel-item {display: flex;flex-direction: column;z-index: 1;position: relative;background-color: white;}#sk-container-id-2 div.sk-parallel-item:first-child::after {align-self: flex-end;width: 50%;}#sk-container-id-2 div.sk-parallel-item:last-child::after {align-self: flex-start;width: 50%;}#sk-container-id-2 div.sk-parallel-item:only-child::after {width: 0;}#sk-container-id-2 div.sk-dashed-wrapped {border: 1px dashed gray;margin: 0 0.4em 0.5em 0.4em;box-sizing: border-box;padding-bottom: 0.4em;background-color: white;}#sk-container-id-2 div.sk-label label {font-family: monospace;font-weight: bold;display: inline-block;line-height: 1.2em;}#sk-container-id-2 div.sk-label-container {text-align: center;}#sk-container-id-2 div.sk-container {/* jupyter's `normalize.less` sets `[hidden] { display: none; }` but bootstrap.min.css set `[hidden] { display: none !important; }` so we also need the `!important` here to be able to override the default hidden behavior on the sphinx rendered scikit-learn.org. See: https://github.com/scikit-learn/scikit-learn/issues/21755 */display: inline-block !important;position: relative;}#sk-container-id-2 div.sk-text-repr-fallback {display: none;}</style><div id=\"sk-container-id-2\" class=\"sk-top-container\"><div class=\"sk-text-repr-fallback\"><pre>RandomForestClassifier(random_state=42)</pre><b>In a Jupyter environment, please rerun this cell to show the HTML representation or trust the notebook. <br />On GitHub, the HTML representation is unable to render, please try loading this page with nbviewer.org.</b></div><div class=\"sk-container\" hidden><div class=\"sk-item\"><div class=\"sk-estimator sk-toggleable\"><input class=\"sk-toggleable__control sk-hidden--visually\" id=\"sk-estimator-id-2\" type=\"checkbox\" checked><label for=\"sk-estimator-id-2\" class=\"sk-toggleable__label sk-toggleable__label-arrow\">RandomForestClassifier</label><div class=\"sk-toggleable__content\"><pre>RandomForestClassifier(random_state=42)</pre></div></div></div></div></div>"
      ],
      "text/plain": [
       "RandomForestClassifier(random_state=42)"
      ]
     },
     "execution_count": 29,
     "metadata": {},
     "output_type": "execute_result"
    }
   ],
   "source": [
    "clf = RandomForestClassifier(random_state=42)\n",
    "clf.fit(X_train, y_train)"
   ]
  },
  {
   "cell_type": "code",
   "execution_count": 30,
   "id": "4bd1304b",
   "metadata": {
    "execution": {
     "iopub.execute_input": "2023-03-20T17:05:46.084355Z",
     "iopub.status.busy": "2023-03-20T17:05:46.084051Z",
     "iopub.status.idle": "2023-03-20T17:05:46.313578Z",
     "shell.execute_reply": "2023-03-20T17:05:46.312655Z"
    },
    "papermill": {
     "duration": 0.271682,
     "end_time": "2023-03-20T17:05:46.316117",
     "exception": false,
     "start_time": "2023-03-20T17:05:46.044435",
     "status": "completed"
    },
    "tags": []
   },
   "outputs": [
    {
     "name": "stdout",
     "output_type": "stream",
     "text": [
      "              precision    recall  f1-score   support\n",
      "\n",
      "         pop       0.65      0.63      0.64      2400\n",
      "        rock       0.64      0.67      0.65      2400\n",
      "\n",
      "    accuracy                           0.65      4800\n",
      "   macro avg       0.65      0.65      0.65      4800\n",
      "weighted avg       0.65      0.65      0.65      4800\n",
      "\n"
     ]
    }
   ],
   "source": [
    "y_pred = clf.predict(X_test)\n",
    "print(classification_report(y_test, y_pred))"
   ]
  },
  {
   "cell_type": "code",
   "execution_count": 31,
   "id": "43174ba2",
   "metadata": {
    "execution": {
     "iopub.execute_input": "2023-03-20T17:05:46.381271Z",
     "iopub.status.busy": "2023-03-20T17:05:46.380520Z",
     "iopub.status.idle": "2023-03-20T17:05:46.514957Z",
     "shell.execute_reply": "2023-03-20T17:05:46.514117Z"
    },
    "papermill": {
     "duration": 0.170086,
     "end_time": "2023-03-20T17:05:46.518179",
     "exception": false,
     "start_time": "2023-03-20T17:05:46.348093",
     "status": "completed"
    },
    "tags": []
   },
   "outputs": [],
   "source": [
    "acc = accuracy_score(y_test, y_pred)\n",
    "pre = precision_score(y_test, y_pred, average=avg_par)\n",
    "rec = recall_score(y_test, y_pred, average=avg_par)\n",
    "f1 = f1_score(y_test, y_pred, average=avg_par)\n",
    "\n",
    "metrics_data['Global']['RandomForest'] = {'Accuracy': acc, 'Precision': pre, 'Recall': rec, 'F1': f1}"
   ]
  },
  {
   "cell_type": "markdown",
   "id": "22c98ac5",
   "metadata": {
    "papermill": {
     "duration": 0.037454,
     "end_time": "2023-03-20T17:05:46.600507",
     "exception": false,
     "start_time": "2023-03-20T17:05:46.563053",
     "status": "completed"
    },
    "tags": []
   },
   "source": [
    "**LightGBM**"
   ]
  },
  {
   "cell_type": "code",
   "execution_count": 32,
   "id": "c93b818c",
   "metadata": {
    "execution": {
     "iopub.execute_input": "2023-03-20T17:05:46.632155Z",
     "iopub.status.busy": "2023-03-20T17:05:46.631558Z",
     "iopub.status.idle": "2023-03-20T17:05:46.961948Z",
     "shell.execute_reply": "2023-03-20T17:05:46.960956Z"
    },
    "papermill": {
     "duration": 0.348639,
     "end_time": "2023-03-20T17:05:46.963870",
     "exception": false,
     "start_time": "2023-03-20T17:05:46.615231",
     "status": "completed"
    },
    "tags": []
   },
   "outputs": [
    {
     "data": {
      "text/html": [
       "<style>#sk-container-id-3 {color: black;background-color: white;}#sk-container-id-3 pre{padding: 0;}#sk-container-id-3 div.sk-toggleable {background-color: white;}#sk-container-id-3 label.sk-toggleable__label {cursor: pointer;display: block;width: 100%;margin-bottom: 0;padding: 0.3em;box-sizing: border-box;text-align: center;}#sk-container-id-3 label.sk-toggleable__label-arrow:before {content: \"▸\";float: left;margin-right: 0.25em;color: #696969;}#sk-container-id-3 label.sk-toggleable__label-arrow:hover:before {color: black;}#sk-container-id-3 div.sk-estimator:hover label.sk-toggleable__label-arrow:before {color: black;}#sk-container-id-3 div.sk-toggleable__content {max-height: 0;max-width: 0;overflow: hidden;text-align: left;background-color: #f0f8ff;}#sk-container-id-3 div.sk-toggleable__content pre {margin: 0.2em;color: black;border-radius: 0.25em;background-color: #f0f8ff;}#sk-container-id-3 input.sk-toggleable__control:checked~div.sk-toggleable__content {max-height: 200px;max-width: 100%;overflow: auto;}#sk-container-id-3 input.sk-toggleable__control:checked~label.sk-toggleable__label-arrow:before {content: \"▾\";}#sk-container-id-3 div.sk-estimator input.sk-toggleable__control:checked~label.sk-toggleable__label {background-color: #d4ebff;}#sk-container-id-3 div.sk-label input.sk-toggleable__control:checked~label.sk-toggleable__label {background-color: #d4ebff;}#sk-container-id-3 input.sk-hidden--visually {border: 0;clip: rect(1px 1px 1px 1px);clip: rect(1px, 1px, 1px, 1px);height: 1px;margin: -1px;overflow: hidden;padding: 0;position: absolute;width: 1px;}#sk-container-id-3 div.sk-estimator {font-family: monospace;background-color: #f0f8ff;border: 1px dotted black;border-radius: 0.25em;box-sizing: border-box;margin-bottom: 0.5em;}#sk-container-id-3 div.sk-estimator:hover {background-color: #d4ebff;}#sk-container-id-3 div.sk-parallel-item::after {content: \"\";width: 100%;border-bottom: 1px solid gray;flex-grow: 1;}#sk-container-id-3 div.sk-label:hover label.sk-toggleable__label {background-color: #d4ebff;}#sk-container-id-3 div.sk-serial::before {content: \"\";position: absolute;border-left: 1px solid gray;box-sizing: border-box;top: 0;bottom: 0;left: 50%;z-index: 0;}#sk-container-id-3 div.sk-serial {display: flex;flex-direction: column;align-items: center;background-color: white;padding-right: 0.2em;padding-left: 0.2em;position: relative;}#sk-container-id-3 div.sk-item {position: relative;z-index: 1;}#sk-container-id-3 div.sk-parallel {display: flex;align-items: stretch;justify-content: center;background-color: white;position: relative;}#sk-container-id-3 div.sk-item::before, #sk-container-id-3 div.sk-parallel-item::before {content: \"\";position: absolute;border-left: 1px solid gray;box-sizing: border-box;top: 0;bottom: 0;left: 50%;z-index: -1;}#sk-container-id-3 div.sk-parallel-item {display: flex;flex-direction: column;z-index: 1;position: relative;background-color: white;}#sk-container-id-3 div.sk-parallel-item:first-child::after {align-self: flex-end;width: 50%;}#sk-container-id-3 div.sk-parallel-item:last-child::after {align-self: flex-start;width: 50%;}#sk-container-id-3 div.sk-parallel-item:only-child::after {width: 0;}#sk-container-id-3 div.sk-dashed-wrapped {border: 1px dashed gray;margin: 0 0.4em 0.5em 0.4em;box-sizing: border-box;padding-bottom: 0.4em;background-color: white;}#sk-container-id-3 div.sk-label label {font-family: monospace;font-weight: bold;display: inline-block;line-height: 1.2em;}#sk-container-id-3 div.sk-label-container {text-align: center;}#sk-container-id-3 div.sk-container {/* jupyter's `normalize.less` sets `[hidden] { display: none; }` but bootstrap.min.css set `[hidden] { display: none !important; }` so we also need the `!important` here to be able to override the default hidden behavior on the sphinx rendered scikit-learn.org. See: https://github.com/scikit-learn/scikit-learn/issues/21755 */display: inline-block !important;position: relative;}#sk-container-id-3 div.sk-text-repr-fallback {display: none;}</style><div id=\"sk-container-id-3\" class=\"sk-top-container\"><div class=\"sk-text-repr-fallback\"><pre>LGBMClassifier(objective=&#x27;binary&#x27;)</pre><b>In a Jupyter environment, please rerun this cell to show the HTML representation or trust the notebook. <br />On GitHub, the HTML representation is unable to render, please try loading this page with nbviewer.org.</b></div><div class=\"sk-container\" hidden><div class=\"sk-item\"><div class=\"sk-estimator sk-toggleable\"><input class=\"sk-toggleable__control sk-hidden--visually\" id=\"sk-estimator-id-3\" type=\"checkbox\" checked><label for=\"sk-estimator-id-3\" class=\"sk-toggleable__label sk-toggleable__label-arrow\">LGBMClassifier</label><div class=\"sk-toggleable__content\"><pre>LGBMClassifier(objective=&#x27;binary&#x27;)</pre></div></div></div></div></div>"
      ],
      "text/plain": [
       "LGBMClassifier(objective='binary')"
      ]
     },
     "execution_count": 32,
     "metadata": {},
     "output_type": "execute_result"
    }
   ],
   "source": [
    "clf = lgbm.LGBMClassifier(objective=obj_par) \n",
    "clf.fit(X_train, y_train)"
   ]
  },
  {
   "cell_type": "code",
   "execution_count": 33,
   "id": "600a663a",
   "metadata": {
    "execution": {
     "iopub.execute_input": "2023-03-20T17:05:46.993948Z",
     "iopub.status.busy": "2023-03-20T17:05:46.993062Z",
     "iopub.status.idle": "2023-03-20T17:05:47.131076Z",
     "shell.execute_reply": "2023-03-20T17:05:47.129950Z"
    },
    "papermill": {
     "duration": 0.155496,
     "end_time": "2023-03-20T17:05:47.133671",
     "exception": false,
     "start_time": "2023-03-20T17:05:46.978175",
     "status": "completed"
    },
    "tags": []
   },
   "outputs": [
    {
     "name": "stdout",
     "output_type": "stream",
     "text": [
      "              precision    recall  f1-score   support\n",
      "\n",
      "         pop       0.65      0.60      0.63      2400\n",
      "        rock       0.63      0.68      0.65      2400\n",
      "\n",
      "    accuracy                           0.64      4800\n",
      "   macro avg       0.64      0.64      0.64      4800\n",
      "weighted avg       0.64      0.64      0.64      4800\n",
      "\n"
     ]
    }
   ],
   "source": [
    "y_pred = clf.predict(X_test)\n",
    "print(classification_report(y_test, y_pred))"
   ]
  },
  {
   "cell_type": "code",
   "execution_count": 34,
   "id": "508d831d",
   "metadata": {
    "execution": {
     "iopub.execute_input": "2023-03-20T17:05:47.164115Z",
     "iopub.status.busy": "2023-03-20T17:05:47.163860Z",
     "iopub.status.idle": "2023-03-20T17:05:47.255380Z",
     "shell.execute_reply": "2023-03-20T17:05:47.254699Z"
    },
    "papermill": {
     "duration": 0.109356,
     "end_time": "2023-03-20T17:05:47.258148",
     "exception": false,
     "start_time": "2023-03-20T17:05:47.148792",
     "status": "completed"
    },
    "tags": []
   },
   "outputs": [],
   "source": [
    "acc = accuracy_score(y_test, y_pred)\n",
    "pre = precision_score(y_test, y_pred, average=avg_par)\n",
    "rec = recall_score(y_test, y_pred, average=avg_par)\n",
    "f1 = f1_score(y_test, y_pred, average=avg_par)\n",
    "\n",
    "metrics_data['Global']['LightGBM'] = {'Accuracy': acc, 'Precision': pre, 'Recall': rec, 'F1': f1}"
   ]
  },
  {
   "cell_type": "markdown",
   "id": "14b86894",
   "metadata": {
    "papermill": {
     "duration": 0.0345,
     "end_time": "2023-03-20T17:05:47.327451",
     "exception": false,
     "start_time": "2023-03-20T17:05:47.292951",
     "status": "completed"
    },
    "tags": []
   },
   "source": [
    "### Time Series Classification"
   ]
  },
  {
   "cell_type": "markdown",
   "id": "84c55533",
   "metadata": {
    "papermill": {
     "duration": 0.012107,
     "end_time": "2023-03-20T17:05:47.356769",
     "exception": false,
     "start_time": "2023-03-20T17:05:47.344662",
     "status": "completed"
    },
    "tags": []
   },
   "source": [
    "#### Learning Shapelets"
   ]
  },
  {
   "cell_type": "code",
   "execution_count": 35,
   "id": "488d8eb7",
   "metadata": {
    "execution": {
     "iopub.execute_input": "2023-03-20T17:05:47.382539Z",
     "iopub.status.busy": "2023-03-20T17:05:47.382230Z",
     "iopub.status.idle": "2023-03-20T17:05:49.220141Z",
     "shell.execute_reply": "2023-03-20T17:05:49.219329Z"
    },
    "papermill": {
     "duration": 1.853921,
     "end_time": "2023-03-20T17:05:49.222809",
     "exception": false,
     "start_time": "2023-03-20T17:05:47.368888",
     "status": "completed"
    },
    "tags": []
   },
   "outputs": [
    {
     "name": "stderr",
     "output_type": "stream",
     "text": [
      "2023-03-20 18:05:47.387939: I tensorflow/core/platform/cpu_feature_guard.cc:193] This TensorFlow binary is optimized with oneAPI Deep Neural Network Library (oneDNN) to use the following CPU instructions in performance-critical operations:  AVX2 FMA\n",
      "To enable them in other operations, rebuild TensorFlow with the appropriate compiler flags.\n",
      "2023-03-20 18:05:47.529273: W tensorflow/compiler/xla/stream_executor/platform/default/dso_loader.cc:64] Could not load dynamic library 'libcudart.so.11.0'; dlerror: libcudart.so.11.0: cannot open shared object file: No such file or directory\n",
      "2023-03-20 18:05:47.529297: I tensorflow/compiler/xla/stream_executor/cuda/cudart_stub.cc:29] Ignore above cudart dlerror if you do not have a GPU set up on your machine.\n"
     ]
    },
    {
     "name": "stderr",
     "output_type": "stream",
     "text": [
      "2023-03-20 18:05:48.342186: W tensorflow/compiler/xla/stream_executor/platform/default/dso_loader.cc:64] Could not load dynamic library 'libnvinfer.so.7'; dlerror: libnvinfer.so.7: cannot open shared object file: No such file or directory\n",
      "2023-03-20 18:05:48.342280: W tensorflow/compiler/xla/stream_executor/platform/default/dso_loader.cc:64] Could not load dynamic library 'libnvinfer_plugin.so.7'; dlerror: libnvinfer_plugin.so.7: cannot open shared object file: No such file or directory\n",
      "2023-03-20 18:05:48.342291: W tensorflow/compiler/tf2tensorrt/utils/py_utils.cc:38] TF-TRT Warning: Cannot dlopen some TensorRT libraries. If you would like to use Nvidia GPU with TensorRT, please make sure the missing libraries mentioned above are installed properly.\n"
     ]
    }
   ],
   "source": [
    "from tslearn.shapelets import LearningShapelets, grabocka_params_to_shapelet_size_dict"
   ]
  },
  {
   "cell_type": "code",
   "execution_count": 36,
   "id": "eb677959",
   "metadata": {
    "execution": {
     "iopub.execute_input": "2023-03-20T17:05:49.257171Z",
     "iopub.status.busy": "2023-03-20T17:05:49.256547Z",
     "iopub.status.idle": "2023-03-20T17:05:49.261404Z",
     "shell.execute_reply": "2023-03-20T17:05:49.260804Z"
    },
    "papermill": {
     "duration": 0.023924,
     "end_time": "2023-03-20T17:05:49.264275",
     "exception": false,
     "start_time": "2023-03-20T17:05:49.240351",
     "status": "completed"
    },
    "tags": []
   },
   "outputs": [],
   "source": [
    "n_ts, ts_sz, _ = ts_train.shape\n",
    "n_classes = len(set(y_train))"
   ]
  },
  {
   "cell_type": "code",
   "execution_count": 37,
   "id": "776ed3dd",
   "metadata": {
    "execution": {
     "iopub.execute_input": "2023-03-20T17:05:49.314248Z",
     "iopub.status.busy": "2023-03-20T17:05:49.313835Z",
     "iopub.status.idle": "2023-03-20T17:05:49.321605Z",
     "shell.execute_reply": "2023-03-20T17:05:49.320710Z"
    },
    "papermill": {
     "duration": 0.02426,
     "end_time": "2023-03-20T17:05:49.323174",
     "exception": false,
     "start_time": "2023-03-20T17:05:49.298914",
     "status": "completed"
    },
    "tags": []
   },
   "outputs": [
    {
     "name": "stdout",
     "output_type": "stream",
     "text": [
      "n_ts 19200\n",
      "ts_sz 100\n",
      "n_classes 2\n",
      "shapelet_sizes {10: 6}\n"
     ]
    }
   ],
   "source": [
    "# Set the number of shapelets per size as done in the original paper\n",
    "g_shapelet_sizes = grabocka_params_to_shapelet_size_dict(n_ts=n_ts,\n",
    "                                                         ts_sz=ts_sz,\n",
    "                                                         n_classes=n_classes,\n",
    "                                                         l=0.1,\n",
    "                                                         r=1)\n",
    "\n",
    "print('n_ts', n_ts)\n",
    "print('ts_sz', ts_sz)\n",
    "print('n_classes', n_classes)\n",
    "print('shapelet_sizes', g_shapelet_sizes)"
   ]
  },
  {
   "cell_type": "code",
   "execution_count": 38,
   "id": "90ed707e",
   "metadata": {
    "execution": {
     "iopub.execute_input": "2023-03-20T17:05:49.350926Z",
     "iopub.status.busy": "2023-03-20T17:05:49.349878Z",
     "iopub.status.idle": "2023-03-20T17:05:49.358543Z",
     "shell.execute_reply": "2023-03-20T17:05:49.357622Z"
    },
    "papermill": {
     "duration": 0.024414,
     "end_time": "2023-03-20T17:05:49.360260",
     "exception": false,
     "start_time": "2023-03-20T17:05:49.335846",
     "status": "completed"
    },
    "tags": []
   },
   "outputs": [
    {
     "data": {
      "text/plain": [
       "{10: 6, 20: 6, 5: 6}"
      ]
     },
     "execution_count": 38,
     "metadata": {},
     "output_type": "execute_result"
    }
   ],
   "source": [
    "shapelet_sizes = {}\n",
    "for key in g_shapelet_sizes:\n",
    "    shapelet_sizes[key] = g_shapelet_sizes[key]\n",
    "    shapelet_sizes[key*2] = g_shapelet_sizes[key]\n",
    "    shapelet_sizes[key//2] = g_shapelet_sizes[key]\n",
    "shapelet_sizes"
   ]
  },
  {
   "cell_type": "code",
   "execution_count": 39,
   "id": "3507fb9c",
   "metadata": {
    "execution": {
     "iopub.execute_input": "2023-03-20T17:05:49.387994Z",
     "iopub.status.busy": "2023-03-20T17:05:49.387577Z",
     "iopub.status.idle": "2023-03-20T17:05:49.394482Z",
     "shell.execute_reply": "2023-03-20T17:05:49.393375Z"
    },
    "papermill": {
     "duration": 0.022729,
     "end_time": "2023-03-20T17:05:49.396127",
     "exception": false,
     "start_time": "2023-03-20T17:05:49.373398",
     "status": "completed"
    },
    "tags": []
   },
   "outputs": [
    {
     "name": "stderr",
     "output_type": "stream",
     "text": [
      "/home/mattiapggioli/lyrics2ts/.venv/lib/python3.9/site-packages/tslearn/shapelets/shapelets.py:354: FutureWarning: The default value for 'scale' is set to False in version 0.4 to ensure backward compatibility, but is likely to change in a future version.\n",
      "  warnings.warn(\"The default value for 'scale' is set to False \"\n"
     ]
    }
   ],
   "source": [
    "model = LearningShapelets(n_shapelets_per_size=shapelet_sizes,\n",
    "                          optimizer=\"adam\", \n",
    "                          weight_regularizer=.01, \n",
    "                          max_iter=max_iter, verbose=0, random_state=42)"
   ]
  },
  {
   "cell_type": "code",
   "execution_count": 40,
   "id": "73b1fe2e",
   "metadata": {
    "execution": {
     "iopub.execute_input": "2023-03-20T17:05:49.423351Z",
     "iopub.status.busy": "2023-03-20T17:05:49.422602Z",
     "iopub.status.idle": "2023-03-20T17:35:06.628079Z",
     "shell.execute_reply": "2023-03-20T17:35:06.626890Z"
    },
    "papermill": {
     "duration": 1757.273874,
     "end_time": "2023-03-20T17:35:06.682517",
     "exception": false,
     "start_time": "2023-03-20T17:05:49.408643",
     "status": "completed"
    },
    "tags": []
   },
   "outputs": [
    {
     "name": "stderr",
     "output_type": "stream",
     "text": [
      "2023-03-20 18:05:50.016603: W tensorflow/compiler/xla/stream_executor/platform/default/dso_loader.cc:64] Could not load dynamic library 'libcuda.so.1'; dlerror: libcuda.so.1: cannot open shared object file: No such file or directory\n",
      "2023-03-20 18:05:50.016640: W tensorflow/compiler/xla/stream_executor/cuda/cuda_driver.cc:265] failed call to cuInit: UNKNOWN ERROR (303)\n",
      "2023-03-20 18:05:50.016662: I tensorflow/compiler/xla/stream_executor/cuda/cuda_diagnostics.cc:156] kernel driver does not appear to be running on this host (mattiapggioli-ThinkPad-E595): /proc/driver/nvidia/version does not exist\n",
      "2023-03-20 18:05:50.016877: I tensorflow/core/platform/cpu_feature_guard.cc:193] This TensorFlow binary is optimized with oneAPI Deep Neural Network Library (oneDNN) to use the following CPU instructions in performance-critical operations:  AVX2 FMA\n",
      "To enable them in other operations, rebuild TensorFlow with the appropriate compiler flags.\n"
     ]
    },
    {
     "name": "stdout",
     "output_type": "stream",
     "text": [
      "CPU times: user 2h 33min 31s, sys: 8min 1s, total: 2h 41min 33s\n",
      "Wall time: 29min 17s\n"
     ]
    },
    {
     "data": {
      "text/html": [
       "<style>#sk-container-id-4 {color: black;background-color: white;}#sk-container-id-4 pre{padding: 0;}#sk-container-id-4 div.sk-toggleable {background-color: white;}#sk-container-id-4 label.sk-toggleable__label {cursor: pointer;display: block;width: 100%;margin-bottom: 0;padding: 0.3em;box-sizing: border-box;text-align: center;}#sk-container-id-4 label.sk-toggleable__label-arrow:before {content: \"▸\";float: left;margin-right: 0.25em;color: #696969;}#sk-container-id-4 label.sk-toggleable__label-arrow:hover:before {color: black;}#sk-container-id-4 div.sk-estimator:hover label.sk-toggleable__label-arrow:before {color: black;}#sk-container-id-4 div.sk-toggleable__content {max-height: 0;max-width: 0;overflow: hidden;text-align: left;background-color: #f0f8ff;}#sk-container-id-4 div.sk-toggleable__content pre {margin: 0.2em;color: black;border-radius: 0.25em;background-color: #f0f8ff;}#sk-container-id-4 input.sk-toggleable__control:checked~div.sk-toggleable__content {max-height: 200px;max-width: 100%;overflow: auto;}#sk-container-id-4 input.sk-toggleable__control:checked~label.sk-toggleable__label-arrow:before {content: \"▾\";}#sk-container-id-4 div.sk-estimator input.sk-toggleable__control:checked~label.sk-toggleable__label {background-color: #d4ebff;}#sk-container-id-4 div.sk-label input.sk-toggleable__control:checked~label.sk-toggleable__label {background-color: #d4ebff;}#sk-container-id-4 input.sk-hidden--visually {border: 0;clip: rect(1px 1px 1px 1px);clip: rect(1px, 1px, 1px, 1px);height: 1px;margin: -1px;overflow: hidden;padding: 0;position: absolute;width: 1px;}#sk-container-id-4 div.sk-estimator {font-family: monospace;background-color: #f0f8ff;border: 1px dotted black;border-radius: 0.25em;box-sizing: border-box;margin-bottom: 0.5em;}#sk-container-id-4 div.sk-estimator:hover {background-color: #d4ebff;}#sk-container-id-4 div.sk-parallel-item::after {content: \"\";width: 100%;border-bottom: 1px solid gray;flex-grow: 1;}#sk-container-id-4 div.sk-label:hover label.sk-toggleable__label {background-color: #d4ebff;}#sk-container-id-4 div.sk-serial::before {content: \"\";position: absolute;border-left: 1px solid gray;box-sizing: border-box;top: 0;bottom: 0;left: 50%;z-index: 0;}#sk-container-id-4 div.sk-serial {display: flex;flex-direction: column;align-items: center;background-color: white;padding-right: 0.2em;padding-left: 0.2em;position: relative;}#sk-container-id-4 div.sk-item {position: relative;z-index: 1;}#sk-container-id-4 div.sk-parallel {display: flex;align-items: stretch;justify-content: center;background-color: white;position: relative;}#sk-container-id-4 div.sk-item::before, #sk-container-id-4 div.sk-parallel-item::before {content: \"\";position: absolute;border-left: 1px solid gray;box-sizing: border-box;top: 0;bottom: 0;left: 50%;z-index: -1;}#sk-container-id-4 div.sk-parallel-item {display: flex;flex-direction: column;z-index: 1;position: relative;background-color: white;}#sk-container-id-4 div.sk-parallel-item:first-child::after {align-self: flex-end;width: 50%;}#sk-container-id-4 div.sk-parallel-item:last-child::after {align-self: flex-start;width: 50%;}#sk-container-id-4 div.sk-parallel-item:only-child::after {width: 0;}#sk-container-id-4 div.sk-dashed-wrapped {border: 1px dashed gray;margin: 0 0.4em 0.5em 0.4em;box-sizing: border-box;padding-bottom: 0.4em;background-color: white;}#sk-container-id-4 div.sk-label label {font-family: monospace;font-weight: bold;display: inline-block;line-height: 1.2em;}#sk-container-id-4 div.sk-label-container {text-align: center;}#sk-container-id-4 div.sk-container {/* jupyter's `normalize.less` sets `[hidden] { display: none; }` but bootstrap.min.css set `[hidden] { display: none !important; }` so we also need the `!important` here to be able to override the default hidden behavior on the sphinx rendered scikit-learn.org. See: https://github.com/scikit-learn/scikit-learn/issues/21755 */display: inline-block !important;position: relative;}#sk-container-id-4 div.sk-text-repr-fallback {display: none;}</style><div id=\"sk-container-id-4\" class=\"sk-top-container\"><div class=\"sk-text-repr-fallback\"><pre>LearningShapelets(max_iter=2000, n_shapelets_per_size={5: 6, 10: 6, 20: 6},\n",
       "                  optimizer=&#x27;adam&#x27;, random_state=42, weight_regularizer=0.01)</pre><b>In a Jupyter environment, please rerun this cell to show the HTML representation or trust the notebook. <br />On GitHub, the HTML representation is unable to render, please try loading this page with nbviewer.org.</b></div><div class=\"sk-container\" hidden><div class=\"sk-item\"><div class=\"sk-estimator sk-toggleable\"><input class=\"sk-toggleable__control sk-hidden--visually\" id=\"sk-estimator-id-4\" type=\"checkbox\" checked><label for=\"sk-estimator-id-4\" class=\"sk-toggleable__label sk-toggleable__label-arrow\">LearningShapelets</label><div class=\"sk-toggleable__content\"><pre>LearningShapelets(max_iter=2000, n_shapelets_per_size={5: 6, 10: 6, 20: 6},\n",
       "                  optimizer=&#x27;adam&#x27;, random_state=42, weight_regularizer=0.01)</pre></div></div></div></div></div>"
      ],
      "text/plain": [
       "LearningShapelets(max_iter=2000, n_shapelets_per_size={5: 6, 10: 6, 20: 6},\n",
       "                  optimizer='adam', random_state=42, weight_regularizer=0.01)"
      ]
     },
     "execution_count": 40,
     "metadata": {},
     "output_type": "execute_result"
    }
   ],
   "source": [
    "%%time\n",
    "model.fit(ts_train, y_train)"
   ]
  },
  {
   "cell_type": "code",
   "execution_count": 41,
   "id": "51706baa",
   "metadata": {
    "execution": {
     "iopub.execute_input": "2023-03-20T17:35:06.711683Z",
     "iopub.status.busy": "2023-03-20T17:35:06.711126Z",
     "iopub.status.idle": "2023-03-20T17:35:06.747389Z",
     "shell.execute_reply": "2023-03-20T17:35:06.745961Z"
    },
    "papermill": {
     "duration": 0.053341,
     "end_time": "2023-03-20T17:35:06.749668",
     "exception": false,
     "start_time": "2023-03-20T17:35:06.696327",
     "status": "completed"
    },
    "tags": []
   },
   "outputs": [],
   "source": [
    "model.to_pickle(f'{data_path}/shapelets.pkl')"
   ]
  },
  {
   "cell_type": "markdown",
   "id": "309f70dc",
   "metadata": {
    "papermill": {
     "duration": 0.012509,
     "end_time": "2023-03-20T17:35:06.777409",
     "exception": false,
     "start_time": "2023-03-20T17:35:06.764900",
     "status": "completed"
    },
    "tags": []
   },
   "source": [
    "#### Shapelet-Based Classification"
   ]
  },
  {
   "cell_type": "code",
   "execution_count": 42,
   "id": "60125dff",
   "metadata": {
    "execution": {
     "iopub.execute_input": "2023-03-20T17:35:06.806460Z",
     "iopub.status.busy": "2023-03-20T17:35:06.805603Z",
     "iopub.status.idle": "2023-03-20T17:35:06.811313Z",
     "shell.execute_reply": "2023-03-20T17:35:06.810093Z"
    },
    "papermill": {
     "duration": 0.022645,
     "end_time": "2023-03-20T17:35:06.813213",
     "exception": false,
     "start_time": "2023-03-20T17:35:06.790568",
     "status": "completed"
    },
    "tags": []
   },
   "outputs": [],
   "source": [
    "metrics_data['Shapelets'] = {}"
   ]
  },
  {
   "cell_type": "code",
   "execution_count": 43,
   "id": "efb8984d",
   "metadata": {
    "execution": {
     "iopub.execute_input": "2023-03-20T17:35:06.842434Z",
     "iopub.status.busy": "2023-03-20T17:35:06.841944Z",
     "iopub.status.idle": "2023-03-20T17:35:08.875063Z",
     "shell.execute_reply": "2023-03-20T17:35:08.873989Z"
    },
    "papermill": {
     "duration": 2.051005,
     "end_time": "2023-03-20T17:35:08.877680",
     "exception": false,
     "start_time": "2023-03-20T17:35:06.826675",
     "status": "completed"
    },
    "tags": []
   },
   "outputs": [],
   "source": [
    "X_train = model.transform(ts_train)\n",
    "X_test = model.transform(ts_test)"
   ]
  },
  {
   "cell_type": "code",
   "execution_count": 44,
   "id": "2e6c0f22",
   "metadata": {
    "execution": {
     "iopub.execute_input": "2023-03-20T17:35:08.909759Z",
     "iopub.status.busy": "2023-03-20T17:35:08.909435Z",
     "iopub.status.idle": "2023-03-20T17:35:08.931466Z",
     "shell.execute_reply": "2023-03-20T17:35:08.930718Z"
    },
    "papermill": {
     "duration": 0.041393,
     "end_time": "2023-03-20T17:35:08.934688",
     "exception": false,
     "start_time": "2023-03-20T17:35:08.893295",
     "status": "completed"
    },
    "tags": []
   },
   "outputs": [
    {
     "data": {
      "text/html": [
       "<div>\n",
       "<style scoped>\n",
       "    .dataframe tbody tr th:only-of-type {\n",
       "        vertical-align: middle;\n",
       "    }\n",
       "\n",
       "    .dataframe tbody tr th {\n",
       "        vertical-align: top;\n",
       "    }\n",
       "\n",
       "    .dataframe thead th {\n",
       "        text-align: right;\n",
       "    }\n",
       "</style>\n",
       "<table border=\"1\" class=\"dataframe\">\n",
       "  <thead>\n",
       "    <tr style=\"text-align: right;\">\n",
       "      <th></th>\n",
       "      <th>0</th>\n",
       "      <th>1</th>\n",
       "      <th>2</th>\n",
       "      <th>3</th>\n",
       "      <th>4</th>\n",
       "      <th>5</th>\n",
       "      <th>6</th>\n",
       "      <th>7</th>\n",
       "      <th>8</th>\n",
       "      <th>9</th>\n",
       "      <th>10</th>\n",
       "      <th>11</th>\n",
       "      <th>12</th>\n",
       "      <th>13</th>\n",
       "      <th>14</th>\n",
       "      <th>15</th>\n",
       "      <th>16</th>\n",
       "      <th>17</th>\n",
       "    </tr>\n",
       "  </thead>\n",
       "  <tbody>\n",
       "    <tr>\n",
       "      <th>0</th>\n",
       "      <td>1.187166</td>\n",
       "      <td>1.308068</td>\n",
       "      <td>8.351024</td>\n",
       "      <td>0.454091</td>\n",
       "      <td>3.457228</td>\n",
       "      <td>7.486840</td>\n",
       "      <td>2.682910</td>\n",
       "      <td>7.429876</td>\n",
       "      <td>1.902726</td>\n",
       "      <td>1.490582</td>\n",
       "      <td>2.542676</td>\n",
       "      <td>3.313938</td>\n",
       "      <td>6.790330</td>\n",
       "      <td>3.775286</td>\n",
       "      <td>9.457689</td>\n",
       "      <td>0.591040</td>\n",
       "      <td>1.653237</td>\n",
       "      <td>2.212000</td>\n",
       "    </tr>\n",
       "    <tr>\n",
       "      <th>1</th>\n",
       "      <td>0.849222</td>\n",
       "      <td>0.732402</td>\n",
       "      <td>7.021239</td>\n",
       "      <td>0.212954</td>\n",
       "      <td>5.415376</td>\n",
       "      <td>5.298374</td>\n",
       "      <td>2.052315</td>\n",
       "      <td>9.234497</td>\n",
       "      <td>1.101257</td>\n",
       "      <td>0.796323</td>\n",
       "      <td>1.584352</td>\n",
       "      <td>2.856766</td>\n",
       "      <td>5.179640</td>\n",
       "      <td>4.613635</td>\n",
       "      <td>10.434192</td>\n",
       "      <td>0.284093</td>\n",
       "      <td>1.829345</td>\n",
       "      <td>1.246260</td>\n",
       "    </tr>\n",
       "    <tr>\n",
       "      <th>2</th>\n",
       "      <td>1.091631</td>\n",
       "      <td>0.400707</td>\n",
       "      <td>9.569733</td>\n",
       "      <td>0.127326</td>\n",
       "      <td>5.753442</td>\n",
       "      <td>8.958946</td>\n",
       "      <td>1.578527</td>\n",
       "      <td>8.739722</td>\n",
       "      <td>1.745951</td>\n",
       "      <td>1.220323</td>\n",
       "      <td>2.144404</td>\n",
       "      <td>1.934314</td>\n",
       "      <td>6.169788</td>\n",
       "      <td>3.884744</td>\n",
       "      <td>9.972286</td>\n",
       "      <td>0.287202</td>\n",
       "      <td>1.393153</td>\n",
       "      <td>1.596293</td>\n",
       "    </tr>\n",
       "    <tr>\n",
       "      <th>3</th>\n",
       "      <td>0.834384</td>\n",
       "      <td>0.248897</td>\n",
       "      <td>7.498471</td>\n",
       "      <td>0.096995</td>\n",
       "      <td>4.327921</td>\n",
       "      <td>3.005096</td>\n",
       "      <td>1.366415</td>\n",
       "      <td>9.008060</td>\n",
       "      <td>0.606934</td>\n",
       "      <td>1.557007</td>\n",
       "      <td>2.599607</td>\n",
       "      <td>1.286027</td>\n",
       "      <td>5.349490</td>\n",
       "      <td>4.416371</td>\n",
       "      <td>9.527112</td>\n",
       "      <td>0.103688</td>\n",
       "      <td>2.121987</td>\n",
       "      <td>1.118663</td>\n",
       "    </tr>\n",
       "    <tr>\n",
       "      <th>4</th>\n",
       "      <td>1.029772</td>\n",
       "      <td>0.708622</td>\n",
       "      <td>13.998482</td>\n",
       "      <td>0.144202</td>\n",
       "      <td>6.942679</td>\n",
       "      <td>8.931472</td>\n",
       "      <td>3.067590</td>\n",
       "      <td>12.228586</td>\n",
       "      <td>2.282210</td>\n",
       "      <td>1.237114</td>\n",
       "      <td>2.348716</td>\n",
       "      <td>2.271668</td>\n",
       "      <td>5.739697</td>\n",
       "      <td>6.378849</td>\n",
       "      <td>13.812789</td>\n",
       "      <td>0.055204</td>\n",
       "      <td>1.952311</td>\n",
       "      <td>0.678850</td>\n",
       "    </tr>\n",
       "    <tr>\n",
       "      <th>...</th>\n",
       "      <td>...</td>\n",
       "      <td>...</td>\n",
       "      <td>...</td>\n",
       "      <td>...</td>\n",
       "      <td>...</td>\n",
       "      <td>...</td>\n",
       "      <td>...</td>\n",
       "      <td>...</td>\n",
       "      <td>...</td>\n",
       "      <td>...</td>\n",
       "      <td>...</td>\n",
       "      <td>...</td>\n",
       "      <td>...</td>\n",
       "      <td>...</td>\n",
       "      <td>...</td>\n",
       "      <td>...</td>\n",
       "      <td>...</td>\n",
       "      <td>...</td>\n",
       "    </tr>\n",
       "    <tr>\n",
       "      <th>4795</th>\n",
       "      <td>0.530953</td>\n",
       "      <td>0.447315</td>\n",
       "      <td>7.501022</td>\n",
       "      <td>0.220636</td>\n",
       "      <td>4.844771</td>\n",
       "      <td>5.917056</td>\n",
       "      <td>2.859796</td>\n",
       "      <td>10.493665</td>\n",
       "      <td>1.530788</td>\n",
       "      <td>1.204874</td>\n",
       "      <td>1.878661</td>\n",
       "      <td>2.834921</td>\n",
       "      <td>6.470119</td>\n",
       "      <td>3.776520</td>\n",
       "      <td>10.975297</td>\n",
       "      <td>0.406617</td>\n",
       "      <td>1.351151</td>\n",
       "      <td>1.876732</td>\n",
       "    </tr>\n",
       "    <tr>\n",
       "      <th>4796</th>\n",
       "      <td>1.340517</td>\n",
       "      <td>0.341063</td>\n",
       "      <td>19.335131</td>\n",
       "      <td>0.438991</td>\n",
       "      <td>10.103179</td>\n",
       "      <td>6.329978</td>\n",
       "      <td>4.527975</td>\n",
       "      <td>18.250929</td>\n",
       "      <td>4.733998</td>\n",
       "      <td>2.349379</td>\n",
       "      <td>3.788150</td>\n",
       "      <td>0.819246</td>\n",
       "      <td>5.341202</td>\n",
       "      <td>10.152646</td>\n",
       "      <td>17.169271</td>\n",
       "      <td>0.479061</td>\n",
       "      <td>3.876807</td>\n",
       "      <td>0.454354</td>\n",
       "    </tr>\n",
       "    <tr>\n",
       "      <th>4797</th>\n",
       "      <td>4.888638</td>\n",
       "      <td>7.872462</td>\n",
       "      <td>4.609989</td>\n",
       "      <td>5.612768</td>\n",
       "      <td>4.852759</td>\n",
       "      <td>22.459263</td>\n",
       "      <td>6.055019</td>\n",
       "      <td>3.932234</td>\n",
       "      <td>2.772814</td>\n",
       "      <td>7.190201</td>\n",
       "      <td>8.249683</td>\n",
       "      <td>16.068344</td>\n",
       "      <td>17.740726</td>\n",
       "      <td>1.727908</td>\n",
       "      <td>7.799745</td>\n",
       "      <td>9.396464</td>\n",
       "      <td>6.395374</td>\n",
       "      <td>14.124738</td>\n",
       "    </tr>\n",
       "    <tr>\n",
       "      <th>4798</th>\n",
       "      <td>0.378774</td>\n",
       "      <td>0.178035</td>\n",
       "      <td>9.795748</td>\n",
       "      <td>0.083641</td>\n",
       "      <td>3.502798</td>\n",
       "      <td>6.900327</td>\n",
       "      <td>2.819814</td>\n",
       "      <td>6.746028</td>\n",
       "      <td>2.751364</td>\n",
       "      <td>1.104253</td>\n",
       "      <td>2.507077</td>\n",
       "      <td>1.652686</td>\n",
       "      <td>5.403678</td>\n",
       "      <td>6.034749</td>\n",
       "      <td>11.643245</td>\n",
       "      <td>0.061843</td>\n",
       "      <td>2.191898</td>\n",
       "      <td>0.845918</td>\n",
       "    </tr>\n",
       "    <tr>\n",
       "      <th>4799</th>\n",
       "      <td>1.333960</td>\n",
       "      <td>0.429674</td>\n",
       "      <td>8.639170</td>\n",
       "      <td>0.095416</td>\n",
       "      <td>2.617245</td>\n",
       "      <td>8.536238</td>\n",
       "      <td>3.691070</td>\n",
       "      <td>13.135707</td>\n",
       "      <td>2.331734</td>\n",
       "      <td>1.560909</td>\n",
       "      <td>3.060370</td>\n",
       "      <td>2.843920</td>\n",
       "      <td>5.164345</td>\n",
       "      <td>5.679806</td>\n",
       "      <td>12.435061</td>\n",
       "      <td>0.100251</td>\n",
       "      <td>2.132186</td>\n",
       "      <td>0.793827</td>\n",
       "    </tr>\n",
       "  </tbody>\n",
       "</table>\n",
       "<p>4800 rows × 18 columns</p>\n",
       "</div>"
      ],
      "text/plain": [
       "            0         1          2         3          4          5         6   \\\n",
       "0     1.187166  1.308068   8.351024  0.454091   3.457228   7.486840  2.682910   \n",
       "1     0.849222  0.732402   7.021239  0.212954   5.415376   5.298374  2.052315   \n",
       "2     1.091631  0.400707   9.569733  0.127326   5.753442   8.958946  1.578527   \n",
       "3     0.834384  0.248897   7.498471  0.096995   4.327921   3.005096  1.366415   \n",
       "4     1.029772  0.708622  13.998482  0.144202   6.942679   8.931472  3.067590   \n",
       "...        ...       ...        ...       ...        ...        ...       ...   \n",
       "4795  0.530953  0.447315   7.501022  0.220636   4.844771   5.917056  2.859796   \n",
       "4796  1.340517  0.341063  19.335131  0.438991  10.103179   6.329978  4.527975   \n",
       "4797  4.888638  7.872462   4.609989  5.612768   4.852759  22.459263  6.055019   \n",
       "4798  0.378774  0.178035   9.795748  0.083641   3.502798   6.900327  2.819814   \n",
       "4799  1.333960  0.429674   8.639170  0.095416   2.617245   8.536238  3.691070   \n",
       "\n",
       "             7         8         9         10         11         12  \\\n",
       "0      7.429876  1.902726  1.490582  2.542676   3.313938   6.790330   \n",
       "1      9.234497  1.101257  0.796323  1.584352   2.856766   5.179640   \n",
       "2      8.739722  1.745951  1.220323  2.144404   1.934314   6.169788   \n",
       "3      9.008060  0.606934  1.557007  2.599607   1.286027   5.349490   \n",
       "4     12.228586  2.282210  1.237114  2.348716   2.271668   5.739697   \n",
       "...         ...       ...       ...       ...        ...        ...   \n",
       "4795  10.493665  1.530788  1.204874  1.878661   2.834921   6.470119   \n",
       "4796  18.250929  4.733998  2.349379  3.788150   0.819246   5.341202   \n",
       "4797   3.932234  2.772814  7.190201  8.249683  16.068344  17.740726   \n",
       "4798   6.746028  2.751364  1.104253  2.507077   1.652686   5.403678   \n",
       "4799  13.135707  2.331734  1.560909  3.060370   2.843920   5.164345   \n",
       "\n",
       "             13         14        15        16         17  \n",
       "0      3.775286   9.457689  0.591040  1.653237   2.212000  \n",
       "1      4.613635  10.434192  0.284093  1.829345   1.246260  \n",
       "2      3.884744   9.972286  0.287202  1.393153   1.596293  \n",
       "3      4.416371   9.527112  0.103688  2.121987   1.118663  \n",
       "4      6.378849  13.812789  0.055204  1.952311   0.678850  \n",
       "...         ...        ...       ...       ...        ...  \n",
       "4795   3.776520  10.975297  0.406617  1.351151   1.876732  \n",
       "4796  10.152646  17.169271  0.479061  3.876807   0.454354  \n",
       "4797   1.727908   7.799745  9.396464  6.395374  14.124738  \n",
       "4798   6.034749  11.643245  0.061843  2.191898   0.845918  \n",
       "4799   5.679806  12.435061  0.100251  2.132186   0.793827  \n",
       "\n",
       "[4800 rows x 18 columns]"
      ]
     },
     "execution_count": 44,
     "metadata": {},
     "output_type": "execute_result"
    }
   ],
   "source": [
    "pd.DataFrame(X_test)"
   ]
  },
  {
   "cell_type": "markdown",
   "id": "5fa024f7",
   "metadata": {
    "execution": {
     "iopub.execute_input": "2023-02-07T23:47:19.876941Z",
     "iopub.status.busy": "2023-02-07T23:47:19.876424Z",
     "iopub.status.idle": "2023-02-07T23:47:20.399488Z",
     "shell.execute_reply": "2023-02-07T23:47:20.398142Z"
    },
    "papermill": {
     "duration": 0.021205,
     "end_time": "2023-03-20T17:35:08.987682",
     "exception": false,
     "start_time": "2023-03-20T17:35:08.966477",
     "status": "completed"
    },
    "tags": []
   },
   "source": [
    "**Decision Tree**"
   ]
  },
  {
   "cell_type": "code",
   "execution_count": 45,
   "id": "4f5400c9",
   "metadata": {
    "execution": {
     "iopub.execute_input": "2023-03-20T17:35:09.021781Z",
     "iopub.status.busy": "2023-03-20T17:35:09.020846Z",
     "iopub.status.idle": "2023-03-20T17:35:09.619077Z",
     "shell.execute_reply": "2023-03-20T17:35:09.618390Z"
    },
    "papermill": {
     "duration": 0.618697,
     "end_time": "2023-03-20T17:35:09.622622",
     "exception": false,
     "start_time": "2023-03-20T17:35:09.003925",
     "status": "completed"
    },
    "tags": []
   },
   "outputs": [
    {
     "data": {
      "text/html": [
       "<style>#sk-container-id-5 {color: black;background-color: white;}#sk-container-id-5 pre{padding: 0;}#sk-container-id-5 div.sk-toggleable {background-color: white;}#sk-container-id-5 label.sk-toggleable__label {cursor: pointer;display: block;width: 100%;margin-bottom: 0;padding: 0.3em;box-sizing: border-box;text-align: center;}#sk-container-id-5 label.sk-toggleable__label-arrow:before {content: \"▸\";float: left;margin-right: 0.25em;color: #696969;}#sk-container-id-5 label.sk-toggleable__label-arrow:hover:before {color: black;}#sk-container-id-5 div.sk-estimator:hover label.sk-toggleable__label-arrow:before {color: black;}#sk-container-id-5 div.sk-toggleable__content {max-height: 0;max-width: 0;overflow: hidden;text-align: left;background-color: #f0f8ff;}#sk-container-id-5 div.sk-toggleable__content pre {margin: 0.2em;color: black;border-radius: 0.25em;background-color: #f0f8ff;}#sk-container-id-5 input.sk-toggleable__control:checked~div.sk-toggleable__content {max-height: 200px;max-width: 100%;overflow: auto;}#sk-container-id-5 input.sk-toggleable__control:checked~label.sk-toggleable__label-arrow:before {content: \"▾\";}#sk-container-id-5 div.sk-estimator input.sk-toggleable__control:checked~label.sk-toggleable__label {background-color: #d4ebff;}#sk-container-id-5 div.sk-label input.sk-toggleable__control:checked~label.sk-toggleable__label {background-color: #d4ebff;}#sk-container-id-5 input.sk-hidden--visually {border: 0;clip: rect(1px 1px 1px 1px);clip: rect(1px, 1px, 1px, 1px);height: 1px;margin: -1px;overflow: hidden;padding: 0;position: absolute;width: 1px;}#sk-container-id-5 div.sk-estimator {font-family: monospace;background-color: #f0f8ff;border: 1px dotted black;border-radius: 0.25em;box-sizing: border-box;margin-bottom: 0.5em;}#sk-container-id-5 div.sk-estimator:hover {background-color: #d4ebff;}#sk-container-id-5 div.sk-parallel-item::after {content: \"\";width: 100%;border-bottom: 1px solid gray;flex-grow: 1;}#sk-container-id-5 div.sk-label:hover label.sk-toggleable__label {background-color: #d4ebff;}#sk-container-id-5 div.sk-serial::before {content: \"\";position: absolute;border-left: 1px solid gray;box-sizing: border-box;top: 0;bottom: 0;left: 50%;z-index: 0;}#sk-container-id-5 div.sk-serial {display: flex;flex-direction: column;align-items: center;background-color: white;padding-right: 0.2em;padding-left: 0.2em;position: relative;}#sk-container-id-5 div.sk-item {position: relative;z-index: 1;}#sk-container-id-5 div.sk-parallel {display: flex;align-items: stretch;justify-content: center;background-color: white;position: relative;}#sk-container-id-5 div.sk-item::before, #sk-container-id-5 div.sk-parallel-item::before {content: \"\";position: absolute;border-left: 1px solid gray;box-sizing: border-box;top: 0;bottom: 0;left: 50%;z-index: -1;}#sk-container-id-5 div.sk-parallel-item {display: flex;flex-direction: column;z-index: 1;position: relative;background-color: white;}#sk-container-id-5 div.sk-parallel-item:first-child::after {align-self: flex-end;width: 50%;}#sk-container-id-5 div.sk-parallel-item:last-child::after {align-self: flex-start;width: 50%;}#sk-container-id-5 div.sk-parallel-item:only-child::after {width: 0;}#sk-container-id-5 div.sk-dashed-wrapped {border: 1px dashed gray;margin: 0 0.4em 0.5em 0.4em;box-sizing: border-box;padding-bottom: 0.4em;background-color: white;}#sk-container-id-5 div.sk-label label {font-family: monospace;font-weight: bold;display: inline-block;line-height: 1.2em;}#sk-container-id-5 div.sk-label-container {text-align: center;}#sk-container-id-5 div.sk-container {/* jupyter's `normalize.less` sets `[hidden] { display: none; }` but bootstrap.min.css set `[hidden] { display: none !important; }` so we also need the `!important` here to be able to override the default hidden behavior on the sphinx rendered scikit-learn.org. See: https://github.com/scikit-learn/scikit-learn/issues/21755 */display: inline-block !important;position: relative;}#sk-container-id-5 div.sk-text-repr-fallback {display: none;}</style><div id=\"sk-container-id-5\" class=\"sk-top-container\"><div class=\"sk-text-repr-fallback\"><pre>DecisionTreeClassifier(random_state=42)</pre><b>In a Jupyter environment, please rerun this cell to show the HTML representation or trust the notebook. <br />On GitHub, the HTML representation is unable to render, please try loading this page with nbviewer.org.</b></div><div class=\"sk-container\" hidden><div class=\"sk-item\"><div class=\"sk-estimator sk-toggleable\"><input class=\"sk-toggleable__control sk-hidden--visually\" id=\"sk-estimator-id-5\" type=\"checkbox\" checked><label for=\"sk-estimator-id-5\" class=\"sk-toggleable__label sk-toggleable__label-arrow\">DecisionTreeClassifier</label><div class=\"sk-toggleable__content\"><pre>DecisionTreeClassifier(random_state=42)</pre></div></div></div></div></div>"
      ],
      "text/plain": [
       "DecisionTreeClassifier(random_state=42)"
      ]
     },
     "execution_count": 45,
     "metadata": {},
     "output_type": "execute_result"
    }
   ],
   "source": [
    "clf = DecisionTreeClassifier(random_state=42)\n",
    "clf.fit(X_train, y_train)"
   ]
  },
  {
   "cell_type": "code",
   "execution_count": 46,
   "id": "3b56d190",
   "metadata": {
    "execution": {
     "iopub.execute_input": "2023-03-20T17:35:09.685811Z",
     "iopub.status.busy": "2023-03-20T17:35:09.685328Z",
     "iopub.status.idle": "2023-03-20T17:35:09.811339Z",
     "shell.execute_reply": "2023-03-20T17:35:09.810279Z"
    },
    "papermill": {
     "duration": 0.153428,
     "end_time": "2023-03-20T17:35:09.813881",
     "exception": false,
     "start_time": "2023-03-20T17:35:09.660453",
     "status": "completed"
    },
    "tags": []
   },
   "outputs": [
    {
     "name": "stdout",
     "output_type": "stream",
     "text": [
      "              precision    recall  f1-score   support\n",
      "\n",
      "         pop       0.53      0.53      0.53      2400\n",
      "        rock       0.53      0.54      0.53      2400\n",
      "\n",
      "    accuracy                           0.53      4800\n",
      "   macro avg       0.53      0.53      0.53      4800\n",
      "weighted avg       0.53      0.53      0.53      4800\n",
      "\n"
     ]
    }
   ],
   "source": [
    "y_pred = clf.predict(X_test)\n",
    "print(classification_report(y_test, y_pred))"
   ]
  },
  {
   "cell_type": "code",
   "execution_count": 47,
   "id": "42bc91ff",
   "metadata": {
    "execution": {
     "iopub.execute_input": "2023-03-20T17:35:09.882742Z",
     "iopub.status.busy": "2023-03-20T17:35:09.882459Z",
     "iopub.status.idle": "2023-03-20T17:35:09.888837Z",
     "shell.execute_reply": "2023-03-20T17:35:09.887774Z"
    },
    "papermill": {
     "duration": 0.044342,
     "end_time": "2023-03-20T17:35:09.891633",
     "exception": false,
     "start_time": "2023-03-20T17:35:09.847291",
     "status": "completed"
    },
    "tags": []
   },
   "outputs": [],
   "source": [
    "pickle.dump(clf, open(f'{data_path}/decision_tree.pkl', 'wb'))"
   ]
  },
  {
   "cell_type": "code",
   "execution_count": 48,
   "id": "ea9be210",
   "metadata": {
    "execution": {
     "iopub.execute_input": "2023-03-20T17:35:09.932718Z",
     "iopub.status.busy": "2023-03-20T17:35:09.932295Z",
     "iopub.status.idle": "2023-03-20T17:35:10.072579Z",
     "shell.execute_reply": "2023-03-20T17:35:10.071572Z"
    },
    "papermill": {
     "duration": 0.157539,
     "end_time": "2023-03-20T17:35:10.075159",
     "exception": false,
     "start_time": "2023-03-20T17:35:09.917620",
     "status": "completed"
    },
    "tags": []
   },
   "outputs": [],
   "source": [
    "acc = accuracy_score(y_test, y_pred)\n",
    "pre = precision_score(y_test, y_pred, average=avg_par)\n",
    "rec = recall_score(y_test, y_pred, average=avg_par)\n",
    "f1 = f1_score(y_test, y_pred, average=avg_par)\n",
    "\n",
    "metrics_data['Shapelets']['DecisionTree'] = {'Accuracy': acc, 'Precision': pre, 'Recall': rec, 'F1': f1}"
   ]
  },
  {
   "cell_type": "markdown",
   "id": "3ca3443b",
   "metadata": {
    "papermill": {
     "duration": 0.028046,
     "end_time": "2023-03-20T17:35:10.132949",
     "exception": false,
     "start_time": "2023-03-20T17:35:10.104903",
     "status": "completed"
    },
    "tags": []
   },
   "source": [
    "**Random Forest**"
   ]
  },
  {
   "cell_type": "code",
   "execution_count": 49,
   "id": "37795e21",
   "metadata": {
    "execution": {
     "iopub.execute_input": "2023-03-20T17:35:10.183996Z",
     "iopub.status.busy": "2023-03-20T17:35:10.182774Z",
     "iopub.status.idle": "2023-03-20T17:35:18.380453Z",
     "shell.execute_reply": "2023-03-20T17:35:18.379370Z"
    },
    "papermill": {
     "duration": 8.21886,
     "end_time": "2023-03-20T17:35:18.383306",
     "exception": false,
     "start_time": "2023-03-20T17:35:10.164446",
     "status": "completed"
    },
    "tags": []
   },
   "outputs": [
    {
     "data": {
      "text/html": [
       "<style>#sk-container-id-6 {color: black;background-color: white;}#sk-container-id-6 pre{padding: 0;}#sk-container-id-6 div.sk-toggleable {background-color: white;}#sk-container-id-6 label.sk-toggleable__label {cursor: pointer;display: block;width: 100%;margin-bottom: 0;padding: 0.3em;box-sizing: border-box;text-align: center;}#sk-container-id-6 label.sk-toggleable__label-arrow:before {content: \"▸\";float: left;margin-right: 0.25em;color: #696969;}#sk-container-id-6 label.sk-toggleable__label-arrow:hover:before {color: black;}#sk-container-id-6 div.sk-estimator:hover label.sk-toggleable__label-arrow:before {color: black;}#sk-container-id-6 div.sk-toggleable__content {max-height: 0;max-width: 0;overflow: hidden;text-align: left;background-color: #f0f8ff;}#sk-container-id-6 div.sk-toggleable__content pre {margin: 0.2em;color: black;border-radius: 0.25em;background-color: #f0f8ff;}#sk-container-id-6 input.sk-toggleable__control:checked~div.sk-toggleable__content {max-height: 200px;max-width: 100%;overflow: auto;}#sk-container-id-6 input.sk-toggleable__control:checked~label.sk-toggleable__label-arrow:before {content: \"▾\";}#sk-container-id-6 div.sk-estimator input.sk-toggleable__control:checked~label.sk-toggleable__label {background-color: #d4ebff;}#sk-container-id-6 div.sk-label input.sk-toggleable__control:checked~label.sk-toggleable__label {background-color: #d4ebff;}#sk-container-id-6 input.sk-hidden--visually {border: 0;clip: rect(1px 1px 1px 1px);clip: rect(1px, 1px, 1px, 1px);height: 1px;margin: -1px;overflow: hidden;padding: 0;position: absolute;width: 1px;}#sk-container-id-6 div.sk-estimator {font-family: monospace;background-color: #f0f8ff;border: 1px dotted black;border-radius: 0.25em;box-sizing: border-box;margin-bottom: 0.5em;}#sk-container-id-6 div.sk-estimator:hover {background-color: #d4ebff;}#sk-container-id-6 div.sk-parallel-item::after {content: \"\";width: 100%;border-bottom: 1px solid gray;flex-grow: 1;}#sk-container-id-6 div.sk-label:hover label.sk-toggleable__label {background-color: #d4ebff;}#sk-container-id-6 div.sk-serial::before {content: \"\";position: absolute;border-left: 1px solid gray;box-sizing: border-box;top: 0;bottom: 0;left: 50%;z-index: 0;}#sk-container-id-6 div.sk-serial {display: flex;flex-direction: column;align-items: center;background-color: white;padding-right: 0.2em;padding-left: 0.2em;position: relative;}#sk-container-id-6 div.sk-item {position: relative;z-index: 1;}#sk-container-id-6 div.sk-parallel {display: flex;align-items: stretch;justify-content: center;background-color: white;position: relative;}#sk-container-id-6 div.sk-item::before, #sk-container-id-6 div.sk-parallel-item::before {content: \"\";position: absolute;border-left: 1px solid gray;box-sizing: border-box;top: 0;bottom: 0;left: 50%;z-index: -1;}#sk-container-id-6 div.sk-parallel-item {display: flex;flex-direction: column;z-index: 1;position: relative;background-color: white;}#sk-container-id-6 div.sk-parallel-item:first-child::after {align-self: flex-end;width: 50%;}#sk-container-id-6 div.sk-parallel-item:last-child::after {align-self: flex-start;width: 50%;}#sk-container-id-6 div.sk-parallel-item:only-child::after {width: 0;}#sk-container-id-6 div.sk-dashed-wrapped {border: 1px dashed gray;margin: 0 0.4em 0.5em 0.4em;box-sizing: border-box;padding-bottom: 0.4em;background-color: white;}#sk-container-id-6 div.sk-label label {font-family: monospace;font-weight: bold;display: inline-block;line-height: 1.2em;}#sk-container-id-6 div.sk-label-container {text-align: center;}#sk-container-id-6 div.sk-container {/* jupyter's `normalize.less` sets `[hidden] { display: none; }` but bootstrap.min.css set `[hidden] { display: none !important; }` so we also need the `!important` here to be able to override the default hidden behavior on the sphinx rendered scikit-learn.org. See: https://github.com/scikit-learn/scikit-learn/issues/21755 */display: inline-block !important;position: relative;}#sk-container-id-6 div.sk-text-repr-fallback {display: none;}</style><div id=\"sk-container-id-6\" class=\"sk-top-container\"><div class=\"sk-text-repr-fallback\"><pre>RandomForestClassifier(random_state=42)</pre><b>In a Jupyter environment, please rerun this cell to show the HTML representation or trust the notebook. <br />On GitHub, the HTML representation is unable to render, please try loading this page with nbviewer.org.</b></div><div class=\"sk-container\" hidden><div class=\"sk-item\"><div class=\"sk-estimator sk-toggleable\"><input class=\"sk-toggleable__control sk-hidden--visually\" id=\"sk-estimator-id-6\" type=\"checkbox\" checked><label for=\"sk-estimator-id-6\" class=\"sk-toggleable__label sk-toggleable__label-arrow\">RandomForestClassifier</label><div class=\"sk-toggleable__content\"><pre>RandomForestClassifier(random_state=42)</pre></div></div></div></div></div>"
      ],
      "text/plain": [
       "RandomForestClassifier(random_state=42)"
      ]
     },
     "execution_count": 49,
     "metadata": {},
     "output_type": "execute_result"
    }
   ],
   "source": [
    "clf = RandomForestClassifier(random_state=42)\n",
    "clf.fit(X_train, y_train)"
   ]
  },
  {
   "cell_type": "code",
   "execution_count": 50,
   "id": "581ab90a",
   "metadata": {
    "execution": {
     "iopub.execute_input": "2023-03-20T17:35:18.463410Z",
     "iopub.status.busy": "2023-03-20T17:35:18.463028Z",
     "iopub.status.idle": "2023-03-20T17:35:18.689834Z",
     "shell.execute_reply": "2023-03-20T17:35:18.688953Z"
    },
    "papermill": {
     "duration": 0.26978,
     "end_time": "2023-03-20T17:35:18.692439",
     "exception": false,
     "start_time": "2023-03-20T17:35:18.422659",
     "status": "completed"
    },
    "tags": []
   },
   "outputs": [
    {
     "name": "stdout",
     "output_type": "stream",
     "text": [
      "              precision    recall  f1-score   support\n",
      "\n",
      "         pop       0.59      0.59      0.59      2400\n",
      "        rock       0.59      0.60      0.60      2400\n",
      "\n",
      "    accuracy                           0.59      4800\n",
      "   macro avg       0.59      0.59      0.59      4800\n",
      "weighted avg       0.59      0.59      0.59      4800\n",
      "\n"
     ]
    }
   ],
   "source": [
    "y_pred = clf.predict(X_test)\n",
    "print(classification_report(y_test, y_pred))"
   ]
  },
  {
   "cell_type": "code",
   "execution_count": 51,
   "id": "faf1d7f4",
   "metadata": {
    "execution": {
     "iopub.execute_input": "2023-03-20T17:35:18.766833Z",
     "iopub.status.busy": "2023-03-20T17:35:18.766354Z",
     "iopub.status.idle": "2023-03-20T17:35:18.904579Z",
     "shell.execute_reply": "2023-03-20T17:35:18.903736Z"
    },
    "papermill": {
     "duration": 0.18092,
     "end_time": "2023-03-20T17:35:18.907524",
     "exception": false,
     "start_time": "2023-03-20T17:35:18.726604",
     "status": "completed"
    },
    "tags": []
   },
   "outputs": [],
   "source": [
    "acc = accuracy_score(y_test, y_pred)\n",
    "pre = precision_score(y_test, y_pred, average=avg_par)\n",
    "rec = recall_score(y_test, y_pred, average=avg_par)\n",
    "f1 = f1_score(y_test, y_pred, average=avg_par)\n",
    "\n",
    "metrics_data['Shapelets']['RandomForest'] = {'Accuracy': acc, 'Precision': pre, 'Recall': rec, 'F1': f1}"
   ]
  },
  {
   "cell_type": "markdown",
   "id": "61fceefb",
   "metadata": {
    "papermill": {
     "duration": 0.038013,
     "end_time": "2023-03-20T17:35:18.987731",
     "exception": false,
     "start_time": "2023-03-20T17:35:18.949718",
     "status": "completed"
    },
    "tags": []
   },
   "source": [
    "**LightGBM**"
   ]
  },
  {
   "cell_type": "code",
   "execution_count": 52,
   "id": "194189da",
   "metadata": {
    "execution": {
     "iopub.execute_input": "2023-03-20T17:35:19.021931Z",
     "iopub.status.busy": "2023-03-20T17:35:19.021467Z",
     "iopub.status.idle": "2023-03-20T17:35:19.257234Z",
     "shell.execute_reply": "2023-03-20T17:35:19.256468Z"
    },
    "papermill": {
     "duration": 0.252397,
     "end_time": "2023-03-20T17:35:19.258849",
     "exception": false,
     "start_time": "2023-03-20T17:35:19.006452",
     "status": "completed"
    },
    "tags": []
   },
   "outputs": [
    {
     "data": {
      "text/html": [
       "<style>#sk-container-id-7 {color: black;background-color: white;}#sk-container-id-7 pre{padding: 0;}#sk-container-id-7 div.sk-toggleable {background-color: white;}#sk-container-id-7 label.sk-toggleable__label {cursor: pointer;display: block;width: 100%;margin-bottom: 0;padding: 0.3em;box-sizing: border-box;text-align: center;}#sk-container-id-7 label.sk-toggleable__label-arrow:before {content: \"▸\";float: left;margin-right: 0.25em;color: #696969;}#sk-container-id-7 label.sk-toggleable__label-arrow:hover:before {color: black;}#sk-container-id-7 div.sk-estimator:hover label.sk-toggleable__label-arrow:before {color: black;}#sk-container-id-7 div.sk-toggleable__content {max-height: 0;max-width: 0;overflow: hidden;text-align: left;background-color: #f0f8ff;}#sk-container-id-7 div.sk-toggleable__content pre {margin: 0.2em;color: black;border-radius: 0.25em;background-color: #f0f8ff;}#sk-container-id-7 input.sk-toggleable__control:checked~div.sk-toggleable__content {max-height: 200px;max-width: 100%;overflow: auto;}#sk-container-id-7 input.sk-toggleable__control:checked~label.sk-toggleable__label-arrow:before {content: \"▾\";}#sk-container-id-7 div.sk-estimator input.sk-toggleable__control:checked~label.sk-toggleable__label {background-color: #d4ebff;}#sk-container-id-7 div.sk-label input.sk-toggleable__control:checked~label.sk-toggleable__label {background-color: #d4ebff;}#sk-container-id-7 input.sk-hidden--visually {border: 0;clip: rect(1px 1px 1px 1px);clip: rect(1px, 1px, 1px, 1px);height: 1px;margin: -1px;overflow: hidden;padding: 0;position: absolute;width: 1px;}#sk-container-id-7 div.sk-estimator {font-family: monospace;background-color: #f0f8ff;border: 1px dotted black;border-radius: 0.25em;box-sizing: border-box;margin-bottom: 0.5em;}#sk-container-id-7 div.sk-estimator:hover {background-color: #d4ebff;}#sk-container-id-7 div.sk-parallel-item::after {content: \"\";width: 100%;border-bottom: 1px solid gray;flex-grow: 1;}#sk-container-id-7 div.sk-label:hover label.sk-toggleable__label {background-color: #d4ebff;}#sk-container-id-7 div.sk-serial::before {content: \"\";position: absolute;border-left: 1px solid gray;box-sizing: border-box;top: 0;bottom: 0;left: 50%;z-index: 0;}#sk-container-id-7 div.sk-serial {display: flex;flex-direction: column;align-items: center;background-color: white;padding-right: 0.2em;padding-left: 0.2em;position: relative;}#sk-container-id-7 div.sk-item {position: relative;z-index: 1;}#sk-container-id-7 div.sk-parallel {display: flex;align-items: stretch;justify-content: center;background-color: white;position: relative;}#sk-container-id-7 div.sk-item::before, #sk-container-id-7 div.sk-parallel-item::before {content: \"\";position: absolute;border-left: 1px solid gray;box-sizing: border-box;top: 0;bottom: 0;left: 50%;z-index: -1;}#sk-container-id-7 div.sk-parallel-item {display: flex;flex-direction: column;z-index: 1;position: relative;background-color: white;}#sk-container-id-7 div.sk-parallel-item:first-child::after {align-self: flex-end;width: 50%;}#sk-container-id-7 div.sk-parallel-item:last-child::after {align-self: flex-start;width: 50%;}#sk-container-id-7 div.sk-parallel-item:only-child::after {width: 0;}#sk-container-id-7 div.sk-dashed-wrapped {border: 1px dashed gray;margin: 0 0.4em 0.5em 0.4em;box-sizing: border-box;padding-bottom: 0.4em;background-color: white;}#sk-container-id-7 div.sk-label label {font-family: monospace;font-weight: bold;display: inline-block;line-height: 1.2em;}#sk-container-id-7 div.sk-label-container {text-align: center;}#sk-container-id-7 div.sk-container {/* jupyter's `normalize.less` sets `[hidden] { display: none; }` but bootstrap.min.css set `[hidden] { display: none !important; }` so we also need the `!important` here to be able to override the default hidden behavior on the sphinx rendered scikit-learn.org. See: https://github.com/scikit-learn/scikit-learn/issues/21755 */display: inline-block !important;position: relative;}#sk-container-id-7 div.sk-text-repr-fallback {display: none;}</style><div id=\"sk-container-id-7\" class=\"sk-top-container\"><div class=\"sk-text-repr-fallback\"><pre>LGBMClassifier(objective=&#x27;binary&#x27;)</pre><b>In a Jupyter environment, please rerun this cell to show the HTML representation or trust the notebook. <br />On GitHub, the HTML representation is unable to render, please try loading this page with nbviewer.org.</b></div><div class=\"sk-container\" hidden><div class=\"sk-item\"><div class=\"sk-estimator sk-toggleable\"><input class=\"sk-toggleable__control sk-hidden--visually\" id=\"sk-estimator-id-7\" type=\"checkbox\" checked><label for=\"sk-estimator-id-7\" class=\"sk-toggleable__label sk-toggleable__label-arrow\">LGBMClassifier</label><div class=\"sk-toggleable__content\"><pre>LGBMClassifier(objective=&#x27;binary&#x27;)</pre></div></div></div></div></div>"
      ],
      "text/plain": [
       "LGBMClassifier(objective='binary')"
      ]
     },
     "execution_count": 52,
     "metadata": {},
     "output_type": "execute_result"
    }
   ],
   "source": [
    "clf = lgbm.LGBMClassifier(objective=obj_par) \n",
    "clf.fit(X_train, y_train)"
   ]
  },
  {
   "cell_type": "code",
   "execution_count": 53,
   "id": "355a078b",
   "metadata": {
    "execution": {
     "iopub.execute_input": "2023-03-20T17:35:19.289592Z",
     "iopub.status.busy": "2023-03-20T17:35:19.289334Z",
     "iopub.status.idle": "2023-03-20T17:35:19.427651Z",
     "shell.execute_reply": "2023-03-20T17:35:19.426959Z"
    },
    "papermill": {
     "duration": 0.156857,
     "end_time": "2023-03-20T17:35:19.430517",
     "exception": false,
     "start_time": "2023-03-20T17:35:19.273660",
     "status": "completed"
    },
    "tags": []
   },
   "outputs": [
    {
     "name": "stdout",
     "output_type": "stream",
     "text": [
      "              precision    recall  f1-score   support\n",
      "\n",
      "         pop       0.61      0.56      0.58      2400\n",
      "        rock       0.59      0.64      0.62      2400\n",
      "\n",
      "    accuracy                           0.60      4800\n",
      "   macro avg       0.60      0.60      0.60      4800\n",
      "weighted avg       0.60      0.60      0.60      4800\n",
      "\n"
     ]
    }
   ],
   "source": [
    "y_pred = clf.predict(X_test)\n",
    "print(classification_report(y_test, y_pred))"
   ]
  },
  {
   "cell_type": "code",
   "execution_count": 54,
   "id": "f22b911e",
   "metadata": {
    "execution": {
     "iopub.execute_input": "2023-03-20T17:35:19.510160Z",
     "iopub.status.busy": "2023-03-20T17:35:19.509103Z",
     "iopub.status.idle": "2023-03-20T17:35:19.645681Z",
     "shell.execute_reply": "2023-03-20T17:35:19.644842Z"
    },
    "papermill": {
     "duration": 0.178341,
     "end_time": "2023-03-20T17:35:19.648619",
     "exception": false,
     "start_time": "2023-03-20T17:35:19.470278",
     "status": "completed"
    },
    "tags": []
   },
   "outputs": [],
   "source": [
    "acc = accuracy_score(y_test, y_pred)\n",
    "pre = precision_score(y_test, y_pred, average=avg_par)\n",
    "rec = recall_score(y_test, y_pred, average=avg_par)\n",
    "f1 = f1_score(y_test, y_pred, average=avg_par)\n",
    "\n",
    "metrics_data['Shapelets']['LightGBM'] = {'Accuracy': acc, 'Precision': pre, 'Recall': rec, 'F1': f1}"
   ]
  },
  {
   "cell_type": "markdown",
   "id": "0809af9f",
   "metadata": {
    "papermill": {
     "duration": 0.036824,
     "end_time": "2023-03-20T17:35:19.725202",
     "exception": false,
     "start_time": "2023-03-20T17:35:19.688378",
     "status": "completed"
    },
    "tags": []
   },
   "source": [
    "#### KNN"
   ]
  },
  {
   "cell_type": "code",
   "execution_count": 55,
   "id": "1c9237e0",
   "metadata": {
    "execution": {
     "iopub.execute_input": "2023-03-20T17:35:19.757219Z",
     "iopub.status.busy": "2023-03-20T17:35:19.756748Z",
     "iopub.status.idle": "2023-03-20T17:35:19.763465Z",
     "shell.execute_reply": "2023-03-20T17:35:19.762689Z"
    },
    "papermill": {
     "duration": 0.023909,
     "end_time": "2023-03-20T17:35:19.765342",
     "exception": false,
     "start_time": "2023-03-20T17:35:19.741433",
     "status": "completed"
    },
    "tags": []
   },
   "outputs": [],
   "source": [
    "X_train = ts_train.reshape((ts_train.shape[0], ts_train.shape[1]))\n",
    "X_test = ts_test.reshape((ts_test.shape[0], ts_test.shape[1]))"
   ]
  },
  {
   "cell_type": "code",
   "execution_count": 56,
   "id": "192f3c3f",
   "metadata": {
    "execution": {
     "iopub.execute_input": "2023-03-20T17:35:19.801896Z",
     "iopub.status.busy": "2023-03-20T17:35:19.800921Z",
     "iopub.status.idle": "2023-03-20T17:35:19.808527Z",
     "shell.execute_reply": "2023-03-20T17:35:19.807418Z"
    },
    "papermill": {
     "duration": 0.027738,
     "end_time": "2023-03-20T17:35:19.810392",
     "exception": false,
     "start_time": "2023-03-20T17:35:19.782654",
     "status": "completed"
    },
    "tags": []
   },
   "outputs": [
    {
     "data": {
      "text/plain": [
       "(19200, 100)"
      ]
     },
     "execution_count": 56,
     "metadata": {},
     "output_type": "execute_result"
    }
   ],
   "source": [
    "X_train.shape"
   ]
  },
  {
   "cell_type": "code",
   "execution_count": 57,
   "id": "de0e5000",
   "metadata": {
    "execution": {
     "iopub.execute_input": "2023-03-20T17:35:19.840923Z",
     "iopub.status.busy": "2023-03-20T17:35:19.840459Z",
     "iopub.status.idle": "2023-03-20T17:35:19.845642Z",
     "shell.execute_reply": "2023-03-20T17:35:19.844644Z"
    },
    "papermill": {
     "duration": 0.022429,
     "end_time": "2023-03-20T17:35:19.847273",
     "exception": false,
     "start_time": "2023-03-20T17:35:19.824844",
     "status": "completed"
    },
    "tags": []
   },
   "outputs": [],
   "source": [
    "metrics_data['KNN'] = {}"
   ]
  },
  {
   "cell_type": "markdown",
   "id": "8ee39c05",
   "metadata": {
    "papermill": {
     "duration": 0.014933,
     "end_time": "2023-03-20T17:35:19.877121",
     "exception": false,
     "start_time": "2023-03-20T17:35:19.862188",
     "status": "completed"
    },
    "tags": []
   },
   "source": [
    "**Euclidean Distance**"
   ]
  },
  {
   "cell_type": "code",
   "execution_count": 58,
   "id": "55db1f58",
   "metadata": {
    "execution": {
     "iopub.execute_input": "2023-03-20T17:35:19.909032Z",
     "iopub.status.busy": "2023-03-20T17:35:19.908172Z",
     "iopub.status.idle": "2023-03-20T17:35:19.912610Z",
     "shell.execute_reply": "2023-03-20T17:35:19.911725Z"
    },
    "papermill": {
     "duration": 0.022622,
     "end_time": "2023-03-20T17:35:19.914343",
     "exception": false,
     "start_time": "2023-03-20T17:35:19.891721",
     "status": "completed"
    },
    "tags": []
   },
   "outputs": [],
   "source": [
    "from sklearn.neighbors import KNeighborsClassifier"
   ]
  },
  {
   "cell_type": "code",
   "execution_count": 59,
   "id": "132c2537",
   "metadata": {
    "execution": {
     "iopub.execute_input": "2023-03-20T17:35:19.945791Z",
     "iopub.status.busy": "2023-03-20T17:35:19.945086Z",
     "iopub.status.idle": "2023-03-20T17:35:19.973751Z",
     "shell.execute_reply": "2023-03-20T17:35:19.972871Z"
    },
    "papermill": {
     "duration": 0.046448,
     "end_time": "2023-03-20T17:35:19.975537",
     "exception": false,
     "start_time": "2023-03-20T17:35:19.929089",
     "status": "completed"
    },
    "tags": []
   },
   "outputs": [
    {
     "data": {
      "text/html": [
       "<style>#sk-container-id-8 {color: black;background-color: white;}#sk-container-id-8 pre{padding: 0;}#sk-container-id-8 div.sk-toggleable {background-color: white;}#sk-container-id-8 label.sk-toggleable__label {cursor: pointer;display: block;width: 100%;margin-bottom: 0;padding: 0.3em;box-sizing: border-box;text-align: center;}#sk-container-id-8 label.sk-toggleable__label-arrow:before {content: \"▸\";float: left;margin-right: 0.25em;color: #696969;}#sk-container-id-8 label.sk-toggleable__label-arrow:hover:before {color: black;}#sk-container-id-8 div.sk-estimator:hover label.sk-toggleable__label-arrow:before {color: black;}#sk-container-id-8 div.sk-toggleable__content {max-height: 0;max-width: 0;overflow: hidden;text-align: left;background-color: #f0f8ff;}#sk-container-id-8 div.sk-toggleable__content pre {margin: 0.2em;color: black;border-radius: 0.25em;background-color: #f0f8ff;}#sk-container-id-8 input.sk-toggleable__control:checked~div.sk-toggleable__content {max-height: 200px;max-width: 100%;overflow: auto;}#sk-container-id-8 input.sk-toggleable__control:checked~label.sk-toggleable__label-arrow:before {content: \"▾\";}#sk-container-id-8 div.sk-estimator input.sk-toggleable__control:checked~label.sk-toggleable__label {background-color: #d4ebff;}#sk-container-id-8 div.sk-label input.sk-toggleable__control:checked~label.sk-toggleable__label {background-color: #d4ebff;}#sk-container-id-8 input.sk-hidden--visually {border: 0;clip: rect(1px 1px 1px 1px);clip: rect(1px, 1px, 1px, 1px);height: 1px;margin: -1px;overflow: hidden;padding: 0;position: absolute;width: 1px;}#sk-container-id-8 div.sk-estimator {font-family: monospace;background-color: #f0f8ff;border: 1px dotted black;border-radius: 0.25em;box-sizing: border-box;margin-bottom: 0.5em;}#sk-container-id-8 div.sk-estimator:hover {background-color: #d4ebff;}#sk-container-id-8 div.sk-parallel-item::after {content: \"\";width: 100%;border-bottom: 1px solid gray;flex-grow: 1;}#sk-container-id-8 div.sk-label:hover label.sk-toggleable__label {background-color: #d4ebff;}#sk-container-id-8 div.sk-serial::before {content: \"\";position: absolute;border-left: 1px solid gray;box-sizing: border-box;top: 0;bottom: 0;left: 50%;z-index: 0;}#sk-container-id-8 div.sk-serial {display: flex;flex-direction: column;align-items: center;background-color: white;padding-right: 0.2em;padding-left: 0.2em;position: relative;}#sk-container-id-8 div.sk-item {position: relative;z-index: 1;}#sk-container-id-8 div.sk-parallel {display: flex;align-items: stretch;justify-content: center;background-color: white;position: relative;}#sk-container-id-8 div.sk-item::before, #sk-container-id-8 div.sk-parallel-item::before {content: \"\";position: absolute;border-left: 1px solid gray;box-sizing: border-box;top: 0;bottom: 0;left: 50%;z-index: -1;}#sk-container-id-8 div.sk-parallel-item {display: flex;flex-direction: column;z-index: 1;position: relative;background-color: white;}#sk-container-id-8 div.sk-parallel-item:first-child::after {align-self: flex-end;width: 50%;}#sk-container-id-8 div.sk-parallel-item:last-child::after {align-self: flex-start;width: 50%;}#sk-container-id-8 div.sk-parallel-item:only-child::after {width: 0;}#sk-container-id-8 div.sk-dashed-wrapped {border: 1px dashed gray;margin: 0 0.4em 0.5em 0.4em;box-sizing: border-box;padding-bottom: 0.4em;background-color: white;}#sk-container-id-8 div.sk-label label {font-family: monospace;font-weight: bold;display: inline-block;line-height: 1.2em;}#sk-container-id-8 div.sk-label-container {text-align: center;}#sk-container-id-8 div.sk-container {/* jupyter's `normalize.less` sets `[hidden] { display: none; }` but bootstrap.min.css set `[hidden] { display: none !important; }` so we also need the `!important` here to be able to override the default hidden behavior on the sphinx rendered scikit-learn.org. See: https://github.com/scikit-learn/scikit-learn/issues/21755 */display: inline-block !important;position: relative;}#sk-container-id-8 div.sk-text-repr-fallback {display: none;}</style><div id=\"sk-container-id-8\" class=\"sk-top-container\"><div class=\"sk-text-repr-fallback\"><pre>KNeighborsClassifier()</pre><b>In a Jupyter environment, please rerun this cell to show the HTML representation or trust the notebook. <br />On GitHub, the HTML representation is unable to render, please try loading this page with nbviewer.org.</b></div><div class=\"sk-container\" hidden><div class=\"sk-item\"><div class=\"sk-estimator sk-toggleable\"><input class=\"sk-toggleable__control sk-hidden--visually\" id=\"sk-estimator-id-8\" type=\"checkbox\" checked><label for=\"sk-estimator-id-8\" class=\"sk-toggleable__label sk-toggleable__label-arrow\">KNeighborsClassifier</label><div class=\"sk-toggleable__content\"><pre>KNeighborsClassifier()</pre></div></div></div></div></div>"
      ],
      "text/plain": [
       "KNeighborsClassifier()"
      ]
     },
     "execution_count": 59,
     "metadata": {},
     "output_type": "execute_result"
    }
   ],
   "source": [
    "clf = KNeighborsClassifier(n_neighbors=5, weights='uniform')\n",
    "clf.fit(X_train, y_train)"
   ]
  },
  {
   "cell_type": "code",
   "execution_count": 60,
   "id": "0afad62a",
   "metadata": {
    "execution": {
     "iopub.execute_input": "2023-03-20T17:35:20.008146Z",
     "iopub.status.busy": "2023-03-20T17:35:20.007849Z",
     "iopub.status.idle": "2023-03-20T17:35:21.260782Z",
     "shell.execute_reply": "2023-03-20T17:35:21.259946Z"
    },
    "papermill": {
     "duration": 1.271642,
     "end_time": "2023-03-20T17:35:21.263471",
     "exception": false,
     "start_time": "2023-03-20T17:35:19.991829",
     "status": "completed"
    },
    "tags": []
   },
   "outputs": [
    {
     "name": "stdout",
     "output_type": "stream",
     "text": [
      "              precision    recall  f1-score   support\n",
      "\n",
      "         pop       0.53      0.27      0.36      2400\n",
      "        rock       0.51      0.76      0.61      2400\n",
      "\n",
      "    accuracy                           0.52      4800\n",
      "   macro avg       0.52      0.52      0.49      4800\n",
      "weighted avg       0.52      0.52      0.49      4800\n",
      "\n"
     ]
    }
   ],
   "source": [
    "y_pred = clf.predict(X_test)\n",
    "print(classification_report(y_test, y_pred))"
   ]
  },
  {
   "cell_type": "code",
   "execution_count": 61,
   "id": "2d709070",
   "metadata": {
    "execution": {
     "iopub.execute_input": "2023-03-20T17:35:21.339018Z",
     "iopub.status.busy": "2023-03-20T17:35:21.338590Z",
     "iopub.status.idle": "2023-03-20T17:35:21.464708Z",
     "shell.execute_reply": "2023-03-20T17:35:21.463963Z"
    },
    "papermill": {
     "duration": 0.167087,
     "end_time": "2023-03-20T17:35:21.467215",
     "exception": false,
     "start_time": "2023-03-20T17:35:21.300128",
     "status": "completed"
    },
    "tags": []
   },
   "outputs": [],
   "source": [
    "acc = accuracy_score(y_test, y_pred)\n",
    "pre = precision_score(y_test, y_pred, average=avg_par)\n",
    "rec = recall_score(y_test, y_pred, average=avg_par)\n",
    "f1 = f1_score(y_test, y_pred, average=avg_par)\n",
    "\n",
    "metrics_data['KNN']['Euclidean'] = {'Accuracy': acc, 'Precision': pre, 'Recall': rec, 'F1': f1}"
   ]
  },
  {
   "cell_type": "markdown",
   "id": "c5ec2a09",
   "metadata": {
    "papermill": {
     "duration": 0.015351,
     "end_time": "2023-03-20T17:35:21.500450",
     "exception": false,
     "start_time": "2023-03-20T17:35:21.485099",
     "status": "completed"
    },
    "tags": []
   },
   "source": [
    "**Dynamic Time Warping**"
   ]
  },
  {
   "cell_type": "code",
   "execution_count": 62,
   "id": "2df913d8",
   "metadata": {
    "execution": {
     "iopub.execute_input": "2023-03-20T17:35:21.533755Z",
     "iopub.status.busy": "2023-03-20T17:35:21.533251Z",
     "iopub.status.idle": "2023-03-20T17:35:21.614318Z",
     "shell.execute_reply": "2023-03-20T17:35:21.613607Z"
    },
    "papermill": {
     "duration": 0.100503,
     "end_time": "2023-03-20T17:35:21.616605",
     "exception": false,
     "start_time": "2023-03-20T17:35:21.516102",
     "status": "completed"
    },
    "tags": []
   },
   "outputs": [],
   "source": [
    "from pyts.classification import KNeighborsClassifier\n",
    "from pyts.approximation import PiecewiseAggregateApproximation\n",
    "from imblearn.under_sampling import ClusterCentroids\n",
    "from sklearn_extra.cluster import KMedoids"
   ]
  },
  {
   "cell_type": "code",
   "execution_count": 63,
   "id": "db1604ec",
   "metadata": {
    "execution": {
     "iopub.execute_input": "2023-03-20T17:35:21.650935Z",
     "iopub.status.busy": "2023-03-20T17:35:21.650504Z",
     "iopub.status.idle": "2023-03-20T17:35:22.167385Z",
     "shell.execute_reply": "2023-03-20T17:35:22.166497Z"
    },
    "papermill": {
     "duration": 0.536528,
     "end_time": "2023-03-20T17:35:22.170275",
     "exception": false,
     "start_time": "2023-03-20T17:35:21.633747",
     "status": "completed"
    },
    "tags": []
   },
   "outputs": [],
   "source": [
    "if paa_window_size:\n",
    "    paa = PiecewiseAggregateApproximation(window_size=paa_window_size)\n",
    "    X_train = paa.transform(X_train)\n",
    "    X_test = paa.transform(X_test)\n",
    "    X_train.shape"
   ]
  },
  {
   "cell_type": "code",
   "execution_count": 64,
   "id": "59fa27aa",
   "metadata": {
    "execution": {
     "iopub.execute_input": "2023-03-20T17:35:22.207130Z",
     "iopub.status.busy": "2023-03-20T17:35:22.206665Z",
     "iopub.status.idle": "2023-03-20T17:36:02.589107Z",
     "shell.execute_reply": "2023-03-20T17:36:02.588317Z"
    },
    "papermill": {
     "duration": 40.401874,
     "end_time": "2023-03-20T17:36:02.591594",
     "exception": false,
     "start_time": "2023-03-20T17:35:22.189720",
     "status": "completed"
    },
    "tags": []
   },
   "outputs": [
    {
     "name": "stdout",
     "output_type": "stream",
     "text": [
      "{'pop': 2880, 'rock': 2880}\n"
     ]
    },
    {
     "name": "stderr",
     "output_type": "stream",
     "text": [
      "/home/mattiapggioli/lyrics2ts/.venv/lib/python3.9/site-packages/sklearn_extra/cluster/_k_medoids.py:275: UserWarning: Cluster 1361 is empty! self.labels_[self.medoid_indices_[1361]] may not be labeled with its corresponding cluster (1361).\n",
      "  warnings.warn(\n",
      "/home/mattiapggioli/lyrics2ts/.venv/lib/python3.9/site-packages/sklearn_extra/cluster/_k_medoids.py:275: UserWarning: Cluster 2578 is empty! self.labels_[self.medoid_indices_[2578]] may not be labeled with its corresponding cluster (2578).\n",
      "  warnings.warn(\n"
     ]
    },
    {
     "name": "stderr",
     "output_type": "stream",
     "text": [
      "/home/mattiapggioli/lyrics2ts/.venv/lib/python3.9/site-packages/sklearn_extra/cluster/_k_medoids.py:275: UserWarning: Cluster 1108 is empty! self.labels_[self.medoid_indices_[1108]] may not be labeled with its corresponding cluster (1108).\n",
      "  warnings.warn(\n",
      "/home/mattiapggioli/lyrics2ts/.venv/lib/python3.9/site-packages/sklearn_extra/cluster/_k_medoids.py:275: UserWarning: Cluster 1250 is empty! self.labels_[self.medoid_indices_[1250]] may not be labeled with its corresponding cluster (1250).\n",
      "  warnings.warn(\n"
     ]
    }
   ],
   "source": [
    "if undersampling:\n",
    "    total_samples = len(y_train)\n",
    "    unique_classes, class_counts = np.unique(y_train, return_counts=True)\n",
    "    samp_strat = dict(zip(unique_classes, np.floor(class_counts * undersampling).astype(int)))\n",
    "    print(samp_strat)\n",
    "    cc = ClusterCentroids(estimator=KMedoids(\n",
    "        random_state=42), sampling_strategy=samp_strat, random_state=42)\n",
    "    X_train, y_train = cc.fit_resample(X_train, y_train)\n",
    "    X_train.shape"
   ]
  },
  {
   "cell_type": "code",
   "execution_count": 65,
   "id": "e7ac6b44",
   "metadata": {
    "execution": {
     "iopub.execute_input": "2023-03-20T17:36:02.673969Z",
     "iopub.status.busy": "2023-03-20T17:36:02.673606Z",
     "iopub.status.idle": "2023-03-20T17:36:02.687100Z",
     "shell.execute_reply": "2023-03-20T17:36:02.686427Z"
    },
    "papermill": {
     "duration": 0.054003,
     "end_time": "2023-03-20T17:36:02.688987",
     "exception": false,
     "start_time": "2023-03-20T17:36:02.634984",
     "status": "completed"
    },
    "tags": []
   },
   "outputs": [
    {
     "data": {
      "text/html": [
       "<style>#sk-container-id-9 {color: black;background-color: white;}#sk-container-id-9 pre{padding: 0;}#sk-container-id-9 div.sk-toggleable {background-color: white;}#sk-container-id-9 label.sk-toggleable__label {cursor: pointer;display: block;width: 100%;margin-bottom: 0;padding: 0.3em;box-sizing: border-box;text-align: center;}#sk-container-id-9 label.sk-toggleable__label-arrow:before {content: \"▸\";float: left;margin-right: 0.25em;color: #696969;}#sk-container-id-9 label.sk-toggleable__label-arrow:hover:before {color: black;}#sk-container-id-9 div.sk-estimator:hover label.sk-toggleable__label-arrow:before {color: black;}#sk-container-id-9 div.sk-toggleable__content {max-height: 0;max-width: 0;overflow: hidden;text-align: left;background-color: #f0f8ff;}#sk-container-id-9 div.sk-toggleable__content pre {margin: 0.2em;color: black;border-radius: 0.25em;background-color: #f0f8ff;}#sk-container-id-9 input.sk-toggleable__control:checked~div.sk-toggleable__content {max-height: 200px;max-width: 100%;overflow: auto;}#sk-container-id-9 input.sk-toggleable__control:checked~label.sk-toggleable__label-arrow:before {content: \"▾\";}#sk-container-id-9 div.sk-estimator input.sk-toggleable__control:checked~label.sk-toggleable__label {background-color: #d4ebff;}#sk-container-id-9 div.sk-label input.sk-toggleable__control:checked~label.sk-toggleable__label {background-color: #d4ebff;}#sk-container-id-9 input.sk-hidden--visually {border: 0;clip: rect(1px 1px 1px 1px);clip: rect(1px, 1px, 1px, 1px);height: 1px;margin: -1px;overflow: hidden;padding: 0;position: absolute;width: 1px;}#sk-container-id-9 div.sk-estimator {font-family: monospace;background-color: #f0f8ff;border: 1px dotted black;border-radius: 0.25em;box-sizing: border-box;margin-bottom: 0.5em;}#sk-container-id-9 div.sk-estimator:hover {background-color: #d4ebff;}#sk-container-id-9 div.sk-parallel-item::after {content: \"\";width: 100%;border-bottom: 1px solid gray;flex-grow: 1;}#sk-container-id-9 div.sk-label:hover label.sk-toggleable__label {background-color: #d4ebff;}#sk-container-id-9 div.sk-serial::before {content: \"\";position: absolute;border-left: 1px solid gray;box-sizing: border-box;top: 0;bottom: 0;left: 50%;z-index: 0;}#sk-container-id-9 div.sk-serial {display: flex;flex-direction: column;align-items: center;background-color: white;padding-right: 0.2em;padding-left: 0.2em;position: relative;}#sk-container-id-9 div.sk-item {position: relative;z-index: 1;}#sk-container-id-9 div.sk-parallel {display: flex;align-items: stretch;justify-content: center;background-color: white;position: relative;}#sk-container-id-9 div.sk-item::before, #sk-container-id-9 div.sk-parallel-item::before {content: \"\";position: absolute;border-left: 1px solid gray;box-sizing: border-box;top: 0;bottom: 0;left: 50%;z-index: -1;}#sk-container-id-9 div.sk-parallel-item {display: flex;flex-direction: column;z-index: 1;position: relative;background-color: white;}#sk-container-id-9 div.sk-parallel-item:first-child::after {align-self: flex-end;width: 50%;}#sk-container-id-9 div.sk-parallel-item:last-child::after {align-self: flex-start;width: 50%;}#sk-container-id-9 div.sk-parallel-item:only-child::after {width: 0;}#sk-container-id-9 div.sk-dashed-wrapped {border: 1px dashed gray;margin: 0 0.4em 0.5em 0.4em;box-sizing: border-box;padding-bottom: 0.4em;background-color: white;}#sk-container-id-9 div.sk-label label {font-family: monospace;font-weight: bold;display: inline-block;line-height: 1.2em;}#sk-container-id-9 div.sk-label-container {text-align: center;}#sk-container-id-9 div.sk-container {/* jupyter's `normalize.less` sets `[hidden] { display: none; }` but bootstrap.min.css set `[hidden] { display: none !important; }` so we also need the `!important` here to be able to override the default hidden behavior on the sphinx rendered scikit-learn.org. See: https://github.com/scikit-learn/scikit-learn/issues/21755 */display: inline-block !important;position: relative;}#sk-container-id-9 div.sk-text-repr-fallback {display: none;}</style><div id=\"sk-container-id-9\" class=\"sk-top-container\"><div class=\"sk-text-repr-fallback\"><pre>KNeighborsClassifier(metric=&#x27;dtw_sakoechiba&#x27;, metric_params={&#x27;window_size&#x27;: 3})</pre><b>In a Jupyter environment, please rerun this cell to show the HTML representation or trust the notebook. <br />On GitHub, the HTML representation is unable to render, please try loading this page with nbviewer.org.</b></div><div class=\"sk-container\" hidden><div class=\"sk-item\"><div class=\"sk-estimator sk-toggleable\"><input class=\"sk-toggleable__control sk-hidden--visually\" id=\"sk-estimator-id-9\" type=\"checkbox\" checked><label for=\"sk-estimator-id-9\" class=\"sk-toggleable__label sk-toggleable__label-arrow\">KNeighborsClassifier</label><div class=\"sk-toggleable__content\"><pre>KNeighborsClassifier(metric=&#x27;dtw_sakoechiba&#x27;, metric_params={&#x27;window_size&#x27;: 3})</pre></div></div></div></div></div>"
      ],
      "text/plain": [
       "KNeighborsClassifier(metric='dtw_sakoechiba', metric_params={'window_size': 3})"
      ]
     },
     "execution_count": 65,
     "metadata": {},
     "output_type": "execute_result"
    }
   ],
   "source": [
    "clf = KNeighborsClassifier(metric='dtw_sakoechiba',  metric_params={'window_size':3})\n",
    "\n",
    "clf.fit(X_train, y_train)"
   ]
  },
  {
   "cell_type": "code",
   "execution_count": 66,
   "id": "8109d19d",
   "metadata": {
    "execution": {
     "iopub.execute_input": "2023-03-20T17:36:02.721709Z",
     "iopub.status.busy": "2023-03-20T17:36:02.721045Z",
     "iopub.status.idle": "2023-03-20T18:55:50.663006Z",
     "shell.execute_reply": "2023-03-20T18:55:50.662039Z"
    },
    "papermill": {
     "duration": 4788.002225,
     "end_time": "2023-03-20T18:55:50.707758",
     "exception": false,
     "start_time": "2023-03-20T17:36:02.705533",
     "status": "completed"
    },
    "tags": []
   },
   "outputs": [
    {
     "name": "stdout",
     "output_type": "stream",
     "text": [
      "              precision    recall  f1-score   support\n",
      "\n",
      "         pop       0.54      0.51      0.53      2400\n",
      "        rock       0.53      0.56      0.55      2400\n",
      "\n",
      "    accuracy                           0.54      4800\n",
      "   macro avg       0.54      0.54      0.54      4800\n",
      "weighted avg       0.54      0.54      0.54      4800\n",
      "\n",
      "CPU times: user 1h 19min 46s, sys: 966 ms, total: 1h 19min 47s\n",
      "Wall time: 1h 19min 47s\n"
     ]
    }
   ],
   "source": [
    "%%time\n",
    "y_pred = clf.predict(X_test)\n",
    "print(classification_report(y_test, y_pred))"
   ]
  },
  {
   "cell_type": "code",
   "execution_count": 67,
   "id": "b09f5cdf",
   "metadata": {
    "execution": {
     "iopub.execute_input": "2023-03-20T18:55:50.762222Z",
     "iopub.status.busy": "2023-03-20T18:55:50.761907Z",
     "iopub.status.idle": "2023-03-20T18:55:50.900939Z",
     "shell.execute_reply": "2023-03-20T18:55:50.900010Z"
    },
    "papermill": {
     "duration": 0.157624,
     "end_time": "2023-03-20T18:55:50.903654",
     "exception": false,
     "start_time": "2023-03-20T18:55:50.746030",
     "status": "completed"
    },
    "tags": []
   },
   "outputs": [],
   "source": [
    "acc = accuracy_score(y_test, y_pred)\n",
    "pre = precision_score(y_test, y_pred, average=avg_par)\n",
    "rec = recall_score(y_test, y_pred, average=avg_par)\n",
    "f1 = f1_score(y_test, y_pred, average=avg_par)\n",
    "\n",
    "metrics_data['KNN']['DTW'] = {'Accuracy': acc, 'Precision': pre, 'Recall': rec, 'F1': f1}"
   ]
  },
  {
   "cell_type": "markdown",
   "id": "e0e700a7",
   "metadata": {
    "papermill": {
     "duration": 0.039643,
     "end_time": "2023-03-20T18:55:50.984389",
     "exception": false,
     "start_time": "2023-03-20T18:55:50.944746",
     "status": "completed"
    },
    "tags": []
   },
   "source": [
    "## Overall Results"
   ]
  },
  {
   "cell_type": "code",
   "execution_count": 68,
   "id": "d003c193",
   "metadata": {
    "execution": {
     "iopub.execute_input": "2023-03-20T18:55:51.014688Z",
     "iopub.status.busy": "2023-03-20T18:55:51.014123Z",
     "iopub.status.idle": "2023-03-20T18:55:51.026437Z",
     "shell.execute_reply": "2023-03-20T18:55:51.024878Z"
    },
    "papermill": {
     "duration": 0.029889,
     "end_time": "2023-03-20T18:55:51.028534",
     "exception": false,
     "start_time": "2023-03-20T18:55:50.998645",
     "status": "completed"
    },
    "tags": []
   },
   "outputs": [],
   "source": [
    "metrics_data = pd.DataFrame.from_dict({(i,j): metrics_data[i][j] \n",
    "                                       for i in metrics_data.keys() \n",
    "                                       for j in metrics_data[i].keys()},\n",
    "                                       orient='index')"
   ]
  },
  {
   "cell_type": "code",
   "execution_count": 69,
   "id": "0944fe84",
   "metadata": {
    "execution": {
     "iopub.execute_input": "2023-03-20T18:55:51.060749Z",
     "iopub.status.busy": "2023-03-20T18:55:51.060009Z",
     "iopub.status.idle": "2023-03-20T18:55:51.197224Z",
     "shell.execute_reply": "2023-03-20T18:55:51.196303Z"
    },
    "papermill": {
     "duration": 0.156129,
     "end_time": "2023-03-20T18:55:51.200072",
     "exception": false,
     "start_time": "2023-03-20T18:55:51.043943",
     "status": "completed"
    },
    "tags": []
   },
   "outputs": [],
   "source": [
    "acc = accuracy_score(y_test, y_pred)\n",
    "pre = precision_score(y_test, y_pred, average=avg_par)\n",
    "rec = recall_score(y_test, y_pred, average=avg_par)\n",
    "f1 = f1_score(y_test, y_pred, average=avg_par)"
   ]
  },
  {
   "cell_type": "code",
   "execution_count": 70,
   "id": "7ee1b347",
   "metadata": {
    "execution": {
     "iopub.execute_input": "2023-03-20T18:55:51.282039Z",
     "iopub.status.busy": "2023-03-20T18:55:51.281717Z",
     "iopub.status.idle": "2023-03-20T18:55:51.293366Z",
     "shell.execute_reply": "2023-03-20T18:55:51.292313Z"
    },
    "papermill": {
     "duration": 0.054385,
     "end_time": "2023-03-20T18:55:51.295346",
     "exception": false,
     "start_time": "2023-03-20T18:55:51.240961",
     "status": "completed"
    },
    "tags": []
   },
   "outputs": [
    {
     "data": {
      "text/html": [
       "<div>\n",
       "<style scoped>\n",
       "    .dataframe tbody tr th:only-of-type {\n",
       "        vertical-align: middle;\n",
       "    }\n",
       "\n",
       "    .dataframe tbody tr th {\n",
       "        vertical-align: top;\n",
       "    }\n",
       "\n",
       "    .dataframe thead th {\n",
       "        text-align: right;\n",
       "    }\n",
       "</style>\n",
       "<table border=\"1\" class=\"dataframe\">\n",
       "  <thead>\n",
       "    <tr style=\"text-align: right;\">\n",
       "      <th></th>\n",
       "      <th></th>\n",
       "      <th>Accuracy</th>\n",
       "      <th>Precision</th>\n",
       "      <th>Recall</th>\n",
       "      <th>F1</th>\n",
       "    </tr>\n",
       "  </thead>\n",
       "  <tbody>\n",
       "    <tr>\n",
       "      <th rowspan=\"3\" valign=\"top\">Global</th>\n",
       "      <th>DecisionTree</th>\n",
       "      <td>0.579167</td>\n",
       "      <td>0.579179</td>\n",
       "      <td>0.579167</td>\n",
       "      <td>0.579150</td>\n",
       "    </tr>\n",
       "    <tr>\n",
       "      <th>RandomForest</th>\n",
       "      <td>0.645625</td>\n",
       "      <td>0.645844</td>\n",
       "      <td>0.645625</td>\n",
       "      <td>0.645492</td>\n",
       "    </tr>\n",
       "    <tr>\n",
       "      <th>LightGBM</th>\n",
       "      <td>0.640417</td>\n",
       "      <td>0.641340</td>\n",
       "      <td>0.640417</td>\n",
       "      <td>0.639828</td>\n",
       "    </tr>\n",
       "    <tr>\n",
       "      <th rowspan=\"3\" valign=\"top\">Shapelets</th>\n",
       "      <th>DecisionTree</th>\n",
       "      <td>0.532708</td>\n",
       "      <td>0.532710</td>\n",
       "      <td>0.532708</td>\n",
       "      <td>0.532702</td>\n",
       "    </tr>\n",
       "    <tr>\n",
       "      <th>RandomForest</th>\n",
       "      <td>0.594375</td>\n",
       "      <td>0.594378</td>\n",
       "      <td>0.594375</td>\n",
       "      <td>0.594372</td>\n",
       "    </tr>\n",
       "    <tr>\n",
       "      <th>LightGBM</th>\n",
       "      <td>0.599792</td>\n",
       "      <td>0.600428</td>\n",
       "      <td>0.599792</td>\n",
       "      <td>0.599157</td>\n",
       "    </tr>\n",
       "    <tr>\n",
       "      <th rowspan=\"2\" valign=\"top\">KNN</th>\n",
       "      <th>Euclidean</th>\n",
       "      <td>0.516875</td>\n",
       "      <td>0.522315</td>\n",
       "      <td>0.516875</td>\n",
       "      <td>0.485519</td>\n",
       "    </tr>\n",
       "    <tr>\n",
       "      <th>DTW</th>\n",
       "      <td>0.535625</td>\n",
       "      <td>0.535696</td>\n",
       "      <td>0.535625</td>\n",
       "      <td>0.535394</td>\n",
       "    </tr>\n",
       "  </tbody>\n",
       "</table>\n",
       "</div>"
      ],
      "text/plain": [
       "                        Accuracy  Precision    Recall        F1\n",
       "Global    DecisionTree  0.579167   0.579179  0.579167  0.579150\n",
       "          RandomForest  0.645625   0.645844  0.645625  0.645492\n",
       "          LightGBM      0.640417   0.641340  0.640417  0.639828\n",
       "Shapelets DecisionTree  0.532708   0.532710  0.532708  0.532702\n",
       "          RandomForest  0.594375   0.594378  0.594375  0.594372\n",
       "          LightGBM      0.599792   0.600428  0.599792  0.599157\n",
       "KNN       Euclidean     0.516875   0.522315  0.516875  0.485519\n",
       "          DTW           0.535625   0.535696  0.535625  0.535394"
      ]
     },
     "execution_count": 70,
     "metadata": {},
     "output_type": "execute_result"
    }
   ],
   "source": [
    "metrics_data"
   ]
  },
  {
   "cell_type": "code",
   "execution_count": 71,
   "id": "3efc173e",
   "metadata": {
    "execution": {
     "iopub.execute_input": "2023-03-20T18:55:51.327519Z",
     "iopub.status.busy": "2023-03-20T18:55:51.326644Z",
     "iopub.status.idle": "2023-03-20T18:55:51.337263Z",
     "shell.execute_reply": "2023-03-20T18:55:51.335968Z"
    },
    "papermill": {
     "duration": 0.028828,
     "end_time": "2023-03-20T18:55:51.339430",
     "exception": false,
     "start_time": "2023-03-20T18:55:51.310602",
     "status": "completed"
    },
    "tags": []
   },
   "outputs": [],
   "source": [
    "metrics_data.to_csv(f'{data_path}/metrics.csv')"
   ]
  },
  {
   "cell_type": "code",
   "execution_count": null,
   "id": "d21f5304",
   "metadata": {
    "papermill": {
     "duration": 0.014676,
     "end_time": "2023-03-20T18:55:51.369908",
     "exception": false,
     "start_time": "2023-03-20T18:55:51.355232",
     "status": "completed"
    },
    "tags": []
   },
   "outputs": [],
   "source": []
  }
 ],
 "metadata": {
  "celltoolbar": "Tags",
  "kernelspec": {
   "display_name": "Python 3 (ipykernel)",
   "language": "python",
   "name": "python3"
  },
  "language_info": {
   "codemirror_mode": {
    "name": "ipython",
    "version": 3
   },
   "file_extension": ".py",
   "mimetype": "text/x-python",
   "name": "python",
   "nbconvert_exporter": "python",
   "pygments_lexer": "ipython3",
   "version": "3.9.16"
  },
  "papermill": {
   "default_parameters": {},
   "duration": 6641.201756,
   "end_time": "2023-03-20T18:55:54.169744",
   "environment_variables": {},
   "exception": null,
   "input_path": "09_ts_classification.ipynb",
   "output_path": "../clf-reports/pp-rc_features.ipynb",
   "parameters": {
    "data_path": "/home/mattiapggioli/lyrics2ts/data/classification/pp-rc/features/",
    "paa_window_size": 20,
    "undersampling": 0.3
   },
   "start_time": "2023-03-20T17:05:12.967988",
   "version": "2.4.0"
  },
  "vscode": {
   "interpreter": {
    "hash": "eb8d1ded7c87c6f9c253b40add648304d6b51d2e38393955e855effc7e6f899a"
   }
  }
 },
 "nbformat": 4,
 "nbformat_minor": 5
}