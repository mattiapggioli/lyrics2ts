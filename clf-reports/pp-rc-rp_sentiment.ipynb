{
 "cells": [
  {
   "cell_type": "markdown",
   "id": "d79a68c5",
   "metadata": {
    "papermill": {
     "duration": 0.030702,
     "end_time": "2023-03-10T11:25:56.462577",
     "exception": false,
     "start_time": "2023-03-10T11:25:56.431875",
     "status": "completed"
    },
    "tags": []
   },
   "source": [
    "# Time Series Classification"
   ]
  },
  {
   "cell_type": "code",
   "execution_count": 1,
   "id": "8a0cb2b0",
   "metadata": {
    "execution": {
     "iopub.execute_input": "2023-03-10T11:25:56.520248Z",
     "iopub.status.busy": "2023-03-10T11:25:56.519758Z",
     "iopub.status.idle": "2023-03-10T11:25:57.871139Z",
     "shell.execute_reply": "2023-03-10T11:25:57.870063Z"
    },
    "papermill": {
     "duration": 1.380644,
     "end_time": "2023-03-10T11:25:57.873459",
     "exception": false,
     "start_time": "2023-03-10T11:25:56.492815",
     "status": "completed"
    },
    "tags": []
   },
   "outputs": [],
   "source": [
    "%matplotlib inline\n",
    "import pandas as pd\n",
    "import numpy as np\n",
    "import matplotlib.pyplot as plt\n",
    "import seaborn as sns\n",
    "import re\n",
    "import os\n",
    "from sklearn.preprocessing import StandardScaler\n",
    "from sklearn.decomposition import PCA\n",
    "import joblib\n",
    "from tslearn.utils import to_time_series_dataset, save_time_series_txt, load_time_series_txt\n",
    "import random\n",
    "from sklearn.model_selection import train_test_split\n",
    "from sklearn.metrics import accuracy_score, f1_score, precision_score, recall_score, classification_report\n",
    "import pickle"
   ]
  },
  {
   "cell_type": "code",
   "execution_count": 2,
   "id": "acc03405",
   "metadata": {
    "execution": {
     "iopub.execute_input": "2023-03-10T11:25:57.900097Z",
     "iopub.status.busy": "2023-03-10T11:25:57.899033Z",
     "iopub.status.idle": "2023-03-10T11:25:57.905070Z",
     "shell.execute_reply": "2023-03-10T11:25:57.904010Z"
    },
    "papermill": {
     "duration": 0.01943,
     "end_time": "2023-03-10T11:25:57.906757",
     "exception": false,
     "start_time": "2023-03-10T11:25:57.887327",
     "status": "completed"
    },
    "tags": [
     "parameters"
    ]
   },
   "outputs": [],
   "source": [
    "data_path = '/home/mattiapggioli/lyrics2ts/data/classification/pp-rc/sbert/'\n",
    "truncate=100\n",
    "max_iter = 2000\n",
    "paa_window_size = None\n",
    "undersampling = None"
   ]
  },
  {
   "cell_type": "code",
   "execution_count": 3,
   "id": "adb8e62e",
   "metadata": {
    "execution": {
     "iopub.execute_input": "2023-03-10T11:25:57.929952Z",
     "iopub.status.busy": "2023-03-10T11:25:57.929301Z",
     "iopub.status.idle": "2023-03-10T11:25:57.934580Z",
     "shell.execute_reply": "2023-03-10T11:25:57.933545Z"
    },
    "papermill": {
     "duration": 0.01884,
     "end_time": "2023-03-10T11:25:57.936233",
     "exception": false,
     "start_time": "2023-03-10T11:25:57.917393",
     "status": "completed"
    },
    "tags": [
     "injected-parameters"
    ]
   },
   "outputs": [],
   "source": [
    "# Parameters\n",
    "data_path = \"/home/mattiapggioli/lyrics2ts/data/classification/pp-rc-rp/sentiment/\"\n",
    "paa_window_size = 20\n",
    "undersampling = 0.3\n"
   ]
  },
  {
   "cell_type": "code",
   "execution_count": 4,
   "id": "a4f0c774",
   "metadata": {
    "execution": {
     "iopub.execute_input": "2023-03-10T11:25:57.959003Z",
     "iopub.status.busy": "2023-03-10T11:25:57.958200Z",
     "iopub.status.idle": "2023-03-10T11:26:22.666932Z",
     "shell.execute_reply": "2023-03-10T11:26:22.666020Z"
    },
    "papermill": {
     "duration": 24.72344,
     "end_time": "2023-03-10T11:26:22.670170",
     "exception": false,
     "start_time": "2023-03-10T11:25:57.946730",
     "status": "completed"
    },
    "tags": []
   },
   "outputs": [],
   "source": [
    "ts = load_time_series_txt(f'{data_path}/ts.txt')"
   ]
  },
  {
   "cell_type": "code",
   "execution_count": 5,
   "id": "5c48d154",
   "metadata": {
    "execution": {
     "iopub.execute_input": "2023-03-10T11:26:22.729661Z",
     "iopub.status.busy": "2023-03-10T11:26:22.729080Z",
     "iopub.status.idle": "2023-03-10T11:26:22.737913Z",
     "shell.execute_reply": "2023-03-10T11:26:22.736847Z"
    },
    "papermill": {
     "duration": 0.041841,
     "end_time": "2023-03-10T11:26:22.742409",
     "exception": false,
     "start_time": "2023-03-10T11:26:22.700568",
     "status": "completed"
    },
    "tags": []
   },
   "outputs": [
    {
     "data": {
      "text/plain": [
       "(36000, 130, 1)"
      ]
     },
     "execution_count": 5,
     "metadata": {},
     "output_type": "execute_result"
    }
   ],
   "source": [
    "ts.shape"
   ]
  },
  {
   "cell_type": "code",
   "execution_count": 6,
   "id": "f6274d40",
   "metadata": {
    "execution": {
     "iopub.execute_input": "2023-03-10T11:26:22.779613Z",
     "iopub.status.busy": "2023-03-10T11:26:22.779153Z",
     "iopub.status.idle": "2023-03-10T11:26:22.789162Z",
     "shell.execute_reply": "2023-03-10T11:26:22.787790Z"
    },
    "papermill": {
     "duration": 0.023725,
     "end_time": "2023-03-10T11:26:22.791185",
     "exception": false,
     "start_time": "2023-03-10T11:26:22.767460",
     "status": "completed"
    },
    "tags": []
   },
   "outputs": [],
   "source": [
    "with open(f'{data_path}/y_class.npy', 'rb') as f:\n",
    "    y = np.load(f, allow_pickle=True)"
   ]
  },
  {
   "cell_type": "code",
   "execution_count": 7,
   "id": "9d42fa3b",
   "metadata": {
    "execution": {
     "iopub.execute_input": "2023-03-10T11:26:22.814769Z",
     "iopub.status.busy": "2023-03-10T11:26:22.814285Z",
     "iopub.status.idle": "2023-03-10T11:26:22.823913Z",
     "shell.execute_reply": "2023-03-10T11:26:22.822519Z"
    },
    "papermill": {
     "duration": 0.023494,
     "end_time": "2023-03-10T11:26:22.826025",
     "exception": false,
     "start_time": "2023-03-10T11:26:22.802531",
     "status": "completed"
    },
    "tags": []
   },
   "outputs": [],
   "source": [
    "with open(f'{data_path}/X.npy', 'rb') as f:\n",
    "    X = np.load(f, allow_pickle=True)"
   ]
  },
  {
   "cell_type": "code",
   "execution_count": 8,
   "id": "1158a9da",
   "metadata": {
    "execution": {
     "iopub.execute_input": "2023-03-10T11:26:22.850303Z",
     "iopub.status.busy": "2023-03-10T11:26:22.849828Z",
     "iopub.status.idle": "2023-03-10T11:26:22.857234Z",
     "shell.execute_reply": "2023-03-10T11:26:22.856188Z"
    },
    "papermill": {
     "duration": 0.020953,
     "end_time": "2023-03-10T11:26:22.858853",
     "exception": false,
     "start_time": "2023-03-10T11:26:22.837900",
     "status": "completed"
    },
    "tags": []
   },
   "outputs": [
    {
     "data": {
      "text/plain": [
       "(36000, 6)"
      ]
     },
     "execution_count": 8,
     "metadata": {},
     "output_type": "execute_result"
    }
   ],
   "source": [
    "X.shape"
   ]
  },
  {
   "cell_type": "code",
   "execution_count": 9,
   "id": "47239790",
   "metadata": {
    "execution": {
     "iopub.execute_input": "2023-03-10T11:26:22.881588Z",
     "iopub.status.busy": "2023-03-10T11:26:22.881110Z",
     "iopub.status.idle": "2023-03-10T11:26:22.890294Z",
     "shell.execute_reply": "2023-03-10T11:26:22.889144Z"
    },
    "papermill": {
     "duration": 0.022784,
     "end_time": "2023-03-10T11:26:22.892233",
     "exception": false,
     "start_time": "2023-03-10T11:26:22.869449",
     "status": "completed"
    },
    "tags": []
   },
   "outputs": [
    {
     "data": {
      "text/plain": [
       "{'pop', 'rap', 'rock'}"
      ]
     },
     "execution_count": 9,
     "metadata": {},
     "output_type": "execute_result"
    }
   ],
   "source": [
    "set(y)"
   ]
  },
  {
   "cell_type": "code",
   "execution_count": 10,
   "id": "37609992",
   "metadata": {
    "execution": {
     "iopub.execute_input": "2023-03-10T11:26:22.915869Z",
     "iopub.status.busy": "2023-03-10T11:26:22.915323Z",
     "iopub.status.idle": "2023-03-10T11:26:22.946270Z",
     "shell.execute_reply": "2023-03-10T11:26:22.945012Z"
    },
    "papermill": {
     "duration": 0.04516,
     "end_time": "2023-03-10T11:26:22.948483",
     "exception": false,
     "start_time": "2023-03-10T11:26:22.903323",
     "status": "completed"
    },
    "tags": []
   },
   "outputs": [],
   "source": [
    "ts_train, ts_test, y_train, y_test = train_test_split(ts, y, test_size=0.20, random_state=42)"
   ]
  },
  {
   "cell_type": "code",
   "execution_count": 11,
   "id": "34508fe4",
   "metadata": {
    "execution": {
     "iopub.execute_input": "2023-03-10T11:26:22.974037Z",
     "iopub.status.busy": "2023-03-10T11:26:22.973511Z",
     "iopub.status.idle": "2023-03-10T11:26:22.985442Z",
     "shell.execute_reply": "2023-03-10T11:26:22.984161Z"
    },
    "papermill": {
     "duration": 0.026022,
     "end_time": "2023-03-10T11:26:22.987577",
     "exception": false,
     "start_time": "2023-03-10T11:26:22.961555",
     "status": "completed"
    },
    "tags": []
   },
   "outputs": [],
   "source": [
    "X_train, X_test, y_train, y_test = train_test_split(X, y, test_size=0.20, random_state=42)"
   ]
  },
  {
   "cell_type": "code",
   "execution_count": 12,
   "id": "076afac9",
   "metadata": {
    "execution": {
     "iopub.execute_input": "2023-03-10T11:26:23.012121Z",
     "iopub.status.busy": "2023-03-10T11:26:23.011567Z",
     "iopub.status.idle": "2023-03-10T11:26:23.026956Z",
     "shell.execute_reply": "2023-03-10T11:26:23.025703Z"
    },
    "papermill": {
     "duration": 0.030708,
     "end_time": "2023-03-10T11:26:23.030345",
     "exception": false,
     "start_time": "2023-03-10T11:26:22.999637",
     "status": "completed"
    },
    "tags": []
   },
   "outputs": [
    {
     "data": {
      "text/plain": [
       "array([[ 0.    ],\n",
       "       [ 0.7003],\n",
       "       [ 0.    ],\n",
       "       [ 0.    ],\n",
       "       [ 0.3612],\n",
       "       [ 0.    ],\n",
       "       [ 0.    ],\n",
       "       [ 0.6124],\n",
       "       [-0.3843],\n",
       "       [ 0.    ],\n",
       "       [ 0.0258],\n",
       "       [ 0.    ],\n",
       "       [ 0.3612],\n",
       "       [ 0.    ],\n",
       "       [ 0.    ],\n",
       "       [ 0.6124],\n",
       "       [-0.3843],\n",
       "       [ 0.    ],\n",
       "       [ 0.    ],\n",
       "       [ 0.6996],\n",
       "       [ 0.    ],\n",
       "       [ 0.    ],\n",
       "       [ 0.    ],\n",
       "       [ 0.6124],\n",
       "       [-0.3843],\n",
       "       [ 0.6124],\n",
       "       [-0.3843],\n",
       "       [ 0.4404],\n",
       "       [-0.3843],\n",
       "       [    nan],\n",
       "       [    nan],\n",
       "       [    nan],\n",
       "       [    nan],\n",
       "       [    nan],\n",
       "       [    nan],\n",
       "       [    nan],\n",
       "       [    nan],\n",
       "       [    nan],\n",
       "       [    nan],\n",
       "       [    nan],\n",
       "       [    nan],\n",
       "       [    nan],\n",
       "       [    nan],\n",
       "       [    nan],\n",
       "       [    nan],\n",
       "       [    nan],\n",
       "       [    nan],\n",
       "       [    nan],\n",
       "       [    nan],\n",
       "       [    nan],\n",
       "       [    nan],\n",
       "       [    nan],\n",
       "       [    nan],\n",
       "       [    nan],\n",
       "       [    nan],\n",
       "       [    nan],\n",
       "       [    nan],\n",
       "       [    nan],\n",
       "       [    nan],\n",
       "       [    nan],\n",
       "       [    nan],\n",
       "       [    nan],\n",
       "       [    nan],\n",
       "       [    nan],\n",
       "       [    nan],\n",
       "       [    nan],\n",
       "       [    nan],\n",
       "       [    nan],\n",
       "       [    nan],\n",
       "       [    nan],\n",
       "       [    nan],\n",
       "       [    nan],\n",
       "       [    nan],\n",
       "       [    nan],\n",
       "       [    nan],\n",
       "       [    nan],\n",
       "       [    nan],\n",
       "       [    nan],\n",
       "       [    nan],\n",
       "       [    nan],\n",
       "       [    nan],\n",
       "       [    nan],\n",
       "       [    nan],\n",
       "       [    nan],\n",
       "       [    nan],\n",
       "       [    nan],\n",
       "       [    nan],\n",
       "       [    nan],\n",
       "       [    nan],\n",
       "       [    nan],\n",
       "       [    nan],\n",
       "       [    nan],\n",
       "       [    nan],\n",
       "       [    nan],\n",
       "       [    nan],\n",
       "       [    nan],\n",
       "       [    nan],\n",
       "       [    nan],\n",
       "       [    nan],\n",
       "       [    nan],\n",
       "       [    nan],\n",
       "       [    nan],\n",
       "       [    nan],\n",
       "       [    nan],\n",
       "       [    nan],\n",
       "       [    nan],\n",
       "       [    nan],\n",
       "       [    nan],\n",
       "       [    nan],\n",
       "       [    nan],\n",
       "       [    nan],\n",
       "       [    nan],\n",
       "       [    nan],\n",
       "       [    nan],\n",
       "       [    nan],\n",
       "       [    nan],\n",
       "       [    nan],\n",
       "       [    nan],\n",
       "       [    nan],\n",
       "       [    nan],\n",
       "       [    nan],\n",
       "       [    nan],\n",
       "       [    nan],\n",
       "       [    nan],\n",
       "       [    nan],\n",
       "       [    nan],\n",
       "       [    nan],\n",
       "       [    nan],\n",
       "       [    nan],\n",
       "       [    nan]])"
      ]
     },
     "execution_count": 12,
     "metadata": {},
     "output_type": "execute_result"
    }
   ],
   "source": [
    "random.choice(ts_train)"
   ]
  },
  {
   "cell_type": "code",
   "execution_count": 13,
   "id": "ca66457a",
   "metadata": {
    "execution": {
     "iopub.execute_input": "2023-03-10T11:26:23.082283Z",
     "iopub.status.busy": "2023-03-10T11:26:23.081769Z",
     "iopub.status.idle": "2023-03-10T11:26:23.634974Z",
     "shell.execute_reply": "2023-03-10T11:26:23.633861Z"
    },
    "papermill": {
     "duration": 0.57928,
     "end_time": "2023-03-10T11:26:23.637819",
     "exception": false,
     "start_time": "2023-03-10T11:26:23.058539",
     "status": "completed"
    },
    "tags": []
   },
   "outputs": [
    {
     "data": {
      "text/plain": [
       "<AxesSubplot:ylabel='Count'>"
      ]
     },
     "execution_count": 13,
     "metadata": {},
     "output_type": "execute_result"
    },
    {
     "data": {
      "image/png": "[encoded data removed]",
      "text/plain": [
       "<Figure size 640x480 with 1 Axes>"
      ]
     },
     "metadata": {},
     "output_type": "display_data"
    }
   ],
   "source": [
    "sns.histplot([t[~np.any(np.isnan(t), axis=1)].shape[0] for t in ts_train])"
   ]
  },
  {
   "cell_type": "code",
   "execution_count": 14,
   "id": "c2ae286f",
   "metadata": {
    "execution": {
     "iopub.execute_input": "2023-03-10T11:26:23.701147Z",
     "iopub.status.busy": "2023-03-10T11:26:23.700853Z",
     "iopub.status.idle": "2023-03-10T11:26:23.705315Z",
     "shell.execute_reply": "2023-03-10T11:26:23.704486Z"
    },
    "papermill": {
     "duration": 0.039759,
     "end_time": "2023-03-10T11:26:23.708450",
     "exception": false,
     "start_time": "2023-03-10T11:26:23.668691",
     "status": "completed"
    },
    "tags": []
   },
   "outputs": [],
   "source": [
    "ts_train = ts_train[:, :truncate, :]\n",
    "ts_test = ts_test[:, :truncate, :]"
   ]
  },
  {
   "cell_type": "code",
   "execution_count": 15,
   "id": "3218baa4",
   "metadata": {
    "execution": {
     "iopub.execute_input": "2023-03-10T11:26:23.744803Z",
     "iopub.status.busy": "2023-03-10T11:26:23.744472Z",
     "iopub.status.idle": "2023-03-10T11:26:23.838445Z",
     "shell.execute_reply": "2023-03-10T11:26:23.837797Z"
    },
    "papermill": {
     "duration": 0.108745,
     "end_time": "2023-03-10T11:26:23.841221",
     "exception": false,
     "start_time": "2023-03-10T11:26:23.732476",
     "status": "completed"
    },
    "tags": []
   },
   "outputs": [],
   "source": [
    "mean_arr = np.nanmean(ts_train, axis=1, keepdims=True)\n",
    "nan_indices = np.isnan(ts_train)\n",
    "ts_train[nan_indices] = np.take(mean_arr, np.nonzero(nan_indices)[0])\n",
    "\n",
    "mean_arr = np.nanmean(ts_test, axis=1, keepdims=True)\n",
    "nan_indices = np.isnan(ts_test)\n",
    "ts_test[nan_indices] = np.take(mean_arr, np.nonzero(nan_indices)[0])"
   ]
  },
  {
   "cell_type": "code",
   "execution_count": 16,
   "id": "d369691b",
   "metadata": {
    "execution": {
     "iopub.execute_input": "2023-03-10T11:26:23.867874Z",
     "iopub.status.busy": "2023-03-10T11:26:23.867524Z",
     "iopub.status.idle": "2023-03-10T11:26:23.873785Z",
     "shell.execute_reply": "2023-03-10T11:26:23.872963Z"
    },
    "papermill": {
     "duration": 0.019569,
     "end_time": "2023-03-10T11:26:23.875325",
     "exception": false,
     "start_time": "2023-03-10T11:26:23.855756",
     "status": "completed"
    },
    "tags": []
   },
   "outputs": [
    {
     "data": {
      "text/plain": [
       "42"
      ]
     },
     "execution_count": 16,
     "metadata": {},
     "output_type": "execute_result"
    }
   ],
   "source": [
    "np.count_nonzero(np.isnan(X_train))"
   ]
  },
  {
   "cell_type": "code",
   "execution_count": 17,
   "id": "0d602e18",
   "metadata": {
    "execution": {
     "iopub.execute_input": "2023-03-10T11:26:23.899722Z",
     "iopub.status.busy": "2023-03-10T11:26:23.898673Z",
     "iopub.status.idle": "2023-03-10T11:26:23.905416Z",
     "shell.execute_reply": "2023-03-10T11:26:23.904148Z"
    },
    "papermill": {
     "duration": 0.020646,
     "end_time": "2023-03-10T11:26:23.907191",
     "exception": false,
     "start_time": "2023-03-10T11:26:23.886545",
     "status": "completed"
    },
    "tags": []
   },
   "outputs": [],
   "source": [
    "X_train[np.isnan(X_train)] = 0\n",
    "X_test[np.isnan(X_test)] = 0"
   ]
  },
  {
   "cell_type": "code",
   "execution_count": 18,
   "id": "45c5102c",
   "metadata": {
    "execution": {
     "iopub.execute_input": "2023-03-10T11:26:23.932369Z",
     "iopub.status.busy": "2023-03-10T11:26:23.932037Z",
     "iopub.status.idle": "2023-03-10T11:26:27.282419Z",
     "shell.execute_reply": "2023-03-10T11:26:27.281567Z"
    },
    "papermill": {
     "duration": 3.366357,
     "end_time": "2023-03-10T11:26:27.285951",
     "exception": false,
     "start_time": "2023-03-10T11:26:23.919594",
     "status": "completed"
    },
    "tags": []
   },
   "outputs": [],
   "source": [
    "save_time_series_txt(f'{data_path}/ts_train.txt', ts_train)\n",
    "save_time_series_txt(f'{data_path}/ts_test.txt', ts_test)"
   ]
  },
  {
   "cell_type": "code",
   "execution_count": 19,
   "id": "39830f37",
   "metadata": {
    "execution": {
     "iopub.execute_input": "2023-03-10T11:26:27.348973Z",
     "iopub.status.busy": "2023-03-10T11:26:27.348402Z",
     "iopub.status.idle": "2023-03-10T11:26:27.356835Z",
     "shell.execute_reply": "2023-03-10T11:26:27.356008Z"
    },
    "papermill": {
     "duration": 0.042435,
     "end_time": "2023-03-10T11:26:27.360120",
     "exception": false,
     "start_time": "2023-03-10T11:26:27.317685",
     "status": "completed"
    },
    "tags": []
   },
   "outputs": [],
   "source": [
    "with open(f'{data_path}/X_train.npy', 'wb') as f:\n",
    "    np.save(f, X_train, allow_pickle=True)\n",
    "\n",
    "with open(f'{data_path}/X_test.npy', 'wb') as f:\n",
    "    np.save(f, X_test, allow_pickle=True)"
   ]
  },
  {
   "cell_type": "code",
   "execution_count": 20,
   "id": "795fd2be",
   "metadata": {
    "execution": {
     "iopub.execute_input": "2023-03-10T11:26:27.401924Z",
     "iopub.status.busy": "2023-03-10T11:26:27.401588Z",
     "iopub.status.idle": "2023-03-10T11:26:27.411319Z",
     "shell.execute_reply": "2023-03-10T11:26:27.409937Z"
    },
    "papermill": {
     "duration": 0.023705,
     "end_time": "2023-03-10T11:26:27.413263",
     "exception": false,
     "start_time": "2023-03-10T11:26:27.389558",
     "status": "completed"
    },
    "tags": []
   },
   "outputs": [],
   "source": [
    "with open(f'{data_path}/y_train.npy', 'wb') as f:\n",
    "    np.save(f, y_train, allow_pickle=True)\n",
    "\n",
    "with open(f'{data_path}/y_test.npy', 'wb') as f:\n",
    "    np.save(f, y_test, allow_pickle=True)"
   ]
  },
  {
   "cell_type": "code",
   "execution_count": 21,
   "id": "08bda153",
   "metadata": {
    "execution": {
     "iopub.execute_input": "2023-03-10T11:26:27.438349Z",
     "iopub.status.busy": "2023-03-10T11:26:27.437859Z",
     "iopub.status.idle": "2023-03-10T11:26:27.644658Z",
     "shell.execute_reply": "2023-03-10T11:26:27.643949Z"
    },
    "papermill": {
     "duration": 0.221837,
     "end_time": "2023-03-10T11:26:27.647246",
     "exception": false,
     "start_time": "2023-03-10T11:26:27.425409",
     "status": "completed"
    },
    "tags": []
   },
   "outputs": [
    {
     "data": {
      "text/plain": [
       "[<matplotlib.lines.Line2D at 0x7fd9c33dd970>]"
      ]
     },
     "execution_count": 21,
     "metadata": {},
     "output_type": "execute_result"
    },
    {
     "data": {
      "image/png": "[encoded data removed]",
      "text/plain": [
       "<Figure size 640x480 with 1 Axes>"
      ]
     },
     "metadata": {},
     "output_type": "display_data"
    }
   ],
   "source": [
    "plt.plot(random.choice(ts_train))"
   ]
  },
  {
   "cell_type": "code",
   "execution_count": 22,
   "id": "98ce9d63",
   "metadata": {
    "execution": {
     "iopub.execute_input": "2023-03-10T11:26:27.708125Z",
     "iopub.status.busy": "2023-03-10T11:26:27.707812Z",
     "iopub.status.idle": "2023-03-10T11:26:27.713570Z",
     "shell.execute_reply": "2023-03-10T11:26:27.712742Z"
    },
    "papermill": {
     "duration": 0.040106,
     "end_time": "2023-03-10T11:26:27.716692",
     "exception": false,
     "start_time": "2023-03-10T11:26:27.676586",
     "status": "completed"
    },
    "tags": []
   },
   "outputs": [],
   "source": [
    "# Parameters that require knowing if it's binary or multiclass (LightGBM, metrics)\n",
    "if len(set(y)) == 2:\n",
    "    avg_par = 'macro'\n",
    "    obj_par = 'binary'\n",
    "elif len(set(y)) > 2:\n",
    "    avg_par = 'macro'\n",
    "    obj_par = 'multiclass'"
   ]
  },
  {
   "cell_type": "markdown",
   "id": "228f1b39",
   "metadata": {
    "papermill": {
     "duration": 0.011413,
     "end_time": "2023-03-10T11:26:27.757771",
     "exception": false,
     "start_time": "2023-03-10T11:26:27.746358",
     "status": "completed"
    },
    "tags": []
   },
   "source": [
    "## Classification"
   ]
  },
  {
   "cell_type": "code",
   "execution_count": 23,
   "id": "34bb73ff",
   "metadata": {
    "execution": {
     "iopub.execute_input": "2023-03-10T11:26:27.782515Z",
     "iopub.status.busy": "2023-03-10T11:26:27.782182Z",
     "iopub.status.idle": "2023-03-10T11:26:27.835658Z",
     "shell.execute_reply": "2023-03-10T11:26:27.834983Z"
    },
    "papermill": {
     "duration": 0.068491,
     "end_time": "2023-03-10T11:26:27.837640",
     "exception": false,
     "start_time": "2023-03-10T11:26:27.769149",
     "status": "completed"
    },
    "tags": []
   },
   "outputs": [],
   "source": [
    "from sklearn.tree import DecisionTreeClassifier\n",
    "import lightgbm as lgbm\n",
    "from sklearn.ensemble import RandomForestClassifier"
   ]
  },
  {
   "cell_type": "code",
   "execution_count": 24,
   "id": "02aaee18",
   "metadata": {
    "execution": {
     "iopub.execute_input": "2023-03-10T11:26:27.865592Z",
     "iopub.status.busy": "2023-03-10T11:26:27.865102Z",
     "iopub.status.idle": "2023-03-10T11:26:27.870778Z",
     "shell.execute_reply": "2023-03-10T11:26:27.869476Z"
    },
    "papermill": {
     "duration": 0.020223,
     "end_time": "2023-03-10T11:26:27.872548",
     "exception": false,
     "start_time": "2023-03-10T11:26:27.852325",
     "status": "completed"
    },
    "tags": []
   },
   "outputs": [],
   "source": [
    "metrics_data = {}"
   ]
  },
  {
   "cell_type": "markdown",
   "id": "b49309ed",
   "metadata": {
    "papermill": {
     "duration": 0.012258,
     "end_time": "2023-03-10T11:26:27.897911",
     "exception": false,
     "start_time": "2023-03-10T11:26:27.885653",
     "status": "completed"
    },
    "tags": []
   },
   "source": [
    "### Baseline: global features (No Time Series)"
   ]
  },
  {
   "cell_type": "code",
   "execution_count": 25,
   "id": "35eb9f66",
   "metadata": {
    "execution": {
     "iopub.execute_input": "2023-03-10T11:26:27.922591Z",
     "iopub.status.busy": "2023-03-10T11:26:27.922103Z",
     "iopub.status.idle": "2023-03-10T11:26:27.927960Z",
     "shell.execute_reply": "2023-03-10T11:26:27.926615Z"
    },
    "papermill": {
     "duration": 0.020391,
     "end_time": "2023-03-10T11:26:27.929744",
     "exception": false,
     "start_time": "2023-03-10T11:26:27.909353",
     "status": "completed"
    },
    "tags": []
   },
   "outputs": [],
   "source": [
    "metrics_data['Global'] = {}"
   ]
  },
  {
   "cell_type": "markdown",
   "id": "29cd5044",
   "metadata": {
    "papermill": {
     "duration": 0.011343,
     "end_time": "2023-03-10T11:26:27.952766",
     "exception": false,
     "start_time": "2023-03-10T11:26:27.941423",
     "status": "completed"
    },
    "tags": []
   },
   "source": [
    "**Decision Tree**"
   ]
  },
  {
   "cell_type": "code",
   "execution_count": 26,
   "id": "9ef4f037",
   "metadata": {
    "execution": {
     "iopub.execute_input": "2023-03-10T11:26:27.978093Z",
     "iopub.status.busy": "2023-03-10T11:26:27.977149Z",
     "iopub.status.idle": "2023-03-10T11:26:28.235508Z",
     "shell.execute_reply": "2023-03-10T11:26:28.234596Z"
    },
    "papermill": {
     "duration": 0.2735,
     "end_time": "2023-03-10T11:26:28.237863",
     "exception": false,
     "start_time": "2023-03-10T11:26:27.964363",
     "status": "completed"
    },
    "tags": []
   },
   "outputs": [
    {
     "data": {
      "text/html": [
       "<style>#sk-container-id-1 {color: black;background-color: white;}#sk-container-id-1 pre{padding: 0;}#sk-container-id-1 div.sk-toggleable {background-color: white;}#sk-container-id-1 label.sk-toggleable__label {cursor: pointer;display: block;width: 100%;margin-bottom: 0;padding: 0.3em;box-sizing: border-box;text-align: center;}#sk-container-id-1 label.sk-toggleable__label-arrow:before {content: \"▸\";float: left;margin-right: 0.25em;color: #696969;}#sk-container-id-1 label.sk-toggleable__label-arrow:hover:before {color: black;}#sk-container-id-1 div.sk-estimator:hover label.sk-toggleable__label-arrow:before {color: black;}#sk-container-id-1 div.sk-toggleable__content {max-height: 0;max-width: 0;overflow: hidden;text-align: left;background-color: #f0f8ff;}#sk-container-id-1 div.sk-toggleable__content pre {margin: 0.2em;color: black;border-radius: 0.25em;background-color: #f0f8ff;}#sk-container-id-1 input.sk-toggleable__control:checked~div.sk-toggleable__content {max-height: 200px;max-width: 100%;overflow: auto;}#sk-container-id-1 input.sk-toggleable__control:checked~label.sk-toggleable__label-arrow:before {content: \"▾\";}#sk-container-id-1 div.sk-estimator input.sk-toggleable__control:checked~label.sk-toggleable__label {background-color: #d4ebff;}#sk-container-id-1 div.sk-label input.sk-toggleable__control:checked~label.sk-toggleable__label {background-color: #d4ebff;}#sk-container-id-1 input.sk-hidden--visually {border: 0;clip: rect(1px 1px 1px 1px);clip: rect(1px, 1px, 1px, 1px);height: 1px;margin: -1px;overflow: hidden;padding: 0;position: absolute;width: 1px;}#sk-container-id-1 div.sk-estimator {font-family: monospace;background-color: #f0f8ff;border: 1px dotted black;border-radius: 0.25em;box-sizing: border-box;margin-bottom: 0.5em;}#sk-container-id-1 div.sk-estimator:hover {background-color: #d4ebff;}#sk-container-id-1 div.sk-parallel-item::after {content: \"\";width: 100%;border-bottom: 1px solid gray;flex-grow: 1;}#sk-container-id-1 div.sk-label:hover label.sk-toggleable__label {background-color: #d4ebff;}#sk-container-id-1 div.sk-serial::before {content: \"\";position: absolute;border-left: 1px solid gray;box-sizing: border-box;top: 0;bottom: 0;left: 50%;z-index: 0;}#sk-container-id-1 div.sk-serial {display: flex;flex-direction: column;align-items: center;background-color: white;padding-right: 0.2em;padding-left: 0.2em;position: relative;}#sk-container-id-1 div.sk-item {position: relative;z-index: 1;}#sk-container-id-1 div.sk-parallel {display: flex;align-items: stretch;justify-content: center;background-color: white;position: relative;}#sk-container-id-1 div.sk-item::before, #sk-container-id-1 div.sk-parallel-item::before {content: \"\";position: absolute;border-left: 1px solid gray;box-sizing: border-box;top: 0;bottom: 0;left: 50%;z-index: -1;}#sk-container-id-1 div.sk-parallel-item {display: flex;flex-direction: column;z-index: 1;position: relative;background-color: white;}#sk-container-id-1 div.sk-parallel-item:first-child::after {align-self: flex-end;width: 50%;}#sk-container-id-1 div.sk-parallel-item:last-child::after {align-self: flex-start;width: 50%;}#sk-container-id-1 div.sk-parallel-item:only-child::after {width: 0;}#sk-container-id-1 div.sk-dashed-wrapped {border: 1px dashed gray;margin: 0 0.4em 0.5em 0.4em;box-sizing: border-box;padding-bottom: 0.4em;background-color: white;}#sk-container-id-1 div.sk-label label {font-family: monospace;font-weight: bold;display: inline-block;line-height: 1.2em;}#sk-container-id-1 div.sk-label-container {text-align: center;}#sk-container-id-1 div.sk-container {/* jupyter's `normalize.less` sets `[hidden] { display: none; }` but bootstrap.min.css set `[hidden] { display: none !important; }` so we also need the `!important` here to be able to override the default hidden behavior on the sphinx rendered scikit-learn.org. See: https://github.com/scikit-learn/scikit-learn/issues/21755 */display: inline-block !important;position: relative;}#sk-container-id-1 div.sk-text-repr-fallback {display: none;}</style><div id=\"sk-container-id-1\" class=\"sk-top-container\"><div class=\"sk-text-repr-fallback\"><pre>DecisionTreeClassifier()</pre><b>In a Jupyter environment, please rerun this cell to show the HTML representation or trust the notebook. <br />On GitHub, the HTML representation is unable to render, please try loading this page with nbviewer.org.</b></div><div class=\"sk-container\" hidden><div class=\"sk-item\"><div class=\"sk-estimator sk-toggleable\"><input class=\"sk-toggleable__control sk-hidden--visually\" id=\"sk-estimator-id-1\" type=\"checkbox\" checked><label for=\"sk-estimator-id-1\" class=\"sk-toggleable__label sk-toggleable__label-arrow\">DecisionTreeClassifier</label><div class=\"sk-toggleable__content\"><pre>DecisionTreeClassifier()</pre></div></div></div></div></div>"
      ],
      "text/plain": [
       "DecisionTreeClassifier()"
      ]
     },
     "execution_count": 26,
     "metadata": {},
     "output_type": "execute_result"
    }
   ],
   "source": [
    "clf = DecisionTreeClassifier()\n",
    "clf.fit(X_train, y_train)"
   ]
  },
  {
   "cell_type": "code",
   "execution_count": 27,
   "id": "9c50acc4",
   "metadata": {
    "execution": {
     "iopub.execute_input": "2023-03-10T11:26:28.265403Z",
     "iopub.status.busy": "2023-03-10T11:26:28.264933Z",
     "iopub.status.idle": "2023-03-10T11:26:28.414715Z",
     "shell.execute_reply": "2023-03-10T11:26:28.413770Z"
    },
    "papermill": {
     "duration": 0.165263,
     "end_time": "2023-03-10T11:26:28.417195",
     "exception": false,
     "start_time": "2023-03-10T11:26:28.251932",
     "status": "completed"
    },
    "tags": []
   },
   "outputs": [
    {
     "name": "stdout",
     "output_type": "stream",
     "text": [
      "              precision    recall  f1-score   support\n",
      "\n",
      "         pop       0.45      0.45      0.45      2400\n",
      "         rap       0.61      0.62      0.61      2376\n",
      "        rock       0.43      0.42      0.43      2424\n",
      "\n",
      "    accuracy                           0.50      7200\n",
      "   macro avg       0.50      0.50      0.50      7200\n",
      "weighted avg       0.50      0.50      0.50      7200\n",
      "\n"
     ]
    }
   ],
   "source": [
    "y_pred = clf.predict(X_test)\n",
    "print(classification_report(y_test, y_pred))"
   ]
  },
  {
   "cell_type": "code",
   "execution_count": 28,
   "id": "8866c3c3",
   "metadata": {
    "execution": {
     "iopub.execute_input": "2023-03-10T11:26:28.487390Z",
     "iopub.status.busy": "2023-03-10T11:26:28.487096Z",
     "iopub.status.idle": "2023-03-10T11:26:28.633099Z",
     "shell.execute_reply": "2023-03-10T11:26:28.632311Z"
    },
    "papermill": {
     "duration": 0.185906,
     "end_time": "2023-03-10T11:26:28.635916",
     "exception": false,
     "start_time": "2023-03-10T11:26:28.450010",
     "status": "completed"
    },
    "tags": []
   },
   "outputs": [],
   "source": [
    "acc = accuracy_score(y_test, y_pred)\n",
    "pre = precision_score(y_test, y_pred, average=avg_par)\n",
    "rec = recall_score(y_test, y_pred, average=avg_par)\n",
    "f1 = f1_score(y_test, y_pred, average=avg_par)\n",
    "\n",
    "metrics_data['Global']['DecisionTree'] = {'Accuracy': acc, 'Precision': pre, 'Recall': rec, 'F1': f1}"
   ]
  },
  {
   "cell_type": "markdown",
   "id": "28aa5a63",
   "metadata": {
    "papermill": {
     "duration": 0.031006,
     "end_time": "2023-03-10T11:26:28.700147",
     "exception": false,
     "start_time": "2023-03-10T11:26:28.669141",
     "status": "completed"
    },
    "tags": []
   },
   "source": [
    "**Random Forest**"
   ]
  },
  {
   "cell_type": "code",
   "execution_count": 29,
   "id": "0e5e2310",
   "metadata": {
    "execution": {
     "iopub.execute_input": "2023-03-10T11:26:28.736319Z",
     "iopub.status.busy": "2023-03-10T11:26:28.735831Z",
     "iopub.status.idle": "2023-03-10T11:26:34.530936Z",
     "shell.execute_reply": "2023-03-10T11:26:34.530025Z"
    },
    "papermill": {
     "duration": 5.811232,
     "end_time": "2023-03-10T11:26:34.533790",
     "exception": false,
     "start_time": "2023-03-10T11:26:28.722558",
     "status": "completed"
    },
    "tags": []
   },
   "outputs": [
    {
     "data": {
      "text/html": [
       "<style>#sk-container-id-2 {color: black;background-color: white;}#sk-container-id-2 pre{padding: 0;}#sk-container-id-2 div.sk-toggleable {background-color: white;}#sk-container-id-2 label.sk-toggleable__label {cursor: pointer;display: block;width: 100%;margin-bottom: 0;padding: 0.3em;box-sizing: border-box;text-align: center;}#sk-container-id-2 label.sk-toggleable__label-arrow:before {content: \"▸\";float: left;margin-right: 0.25em;color: #696969;}#sk-container-id-2 label.sk-toggleable__label-arrow:hover:before {color: black;}#sk-container-id-2 div.sk-estimator:hover label.sk-toggleable__label-arrow:before {color: black;}#sk-container-id-2 div.sk-toggleable__content {max-height: 0;max-width: 0;overflow: hidden;text-align: left;background-color: #f0f8ff;}#sk-container-id-2 div.sk-toggleable__content pre {margin: 0.2em;color: black;border-radius: 0.25em;background-color: #f0f8ff;}#sk-container-id-2 input.sk-toggleable__control:checked~div.sk-toggleable__content {max-height: 200px;max-width: 100%;overflow: auto;}#sk-container-id-2 input.sk-toggleable__control:checked~label.sk-toggleable__label-arrow:before {content: \"▾\";}#sk-container-id-2 div.sk-estimator input.sk-toggleable__control:checked~label.sk-toggleable__label {background-color: #d4ebff;}#sk-container-id-2 div.sk-label input.sk-toggleable__control:checked~label.sk-toggleable__label {background-color: #d4ebff;}#sk-container-id-2 input.sk-hidden--visually {border: 0;clip: rect(1px 1px 1px 1px);clip: rect(1px, 1px, 1px, 1px);height: 1px;margin: -1px;overflow: hidden;padding: 0;position: absolute;width: 1px;}#sk-container-id-2 div.sk-estimator {font-family: monospace;background-color: #f0f8ff;border: 1px dotted black;border-radius: 0.25em;box-sizing: border-box;margin-bottom: 0.5em;}#sk-container-id-2 div.sk-estimator:hover {background-color: #d4ebff;}#sk-container-id-2 div.sk-parallel-item::after {content: \"\";width: 100%;border-bottom: 1px solid gray;flex-grow: 1;}#sk-container-id-2 div.sk-label:hover label.sk-toggleable__label {background-color: #d4ebff;}#sk-container-id-2 div.sk-serial::before {content: \"\";position: absolute;border-left: 1px solid gray;box-sizing: border-box;top: 0;bottom: 0;left: 50%;z-index: 0;}#sk-container-id-2 div.sk-serial {display: flex;flex-direction: column;align-items: center;background-color: white;padding-right: 0.2em;padding-left: 0.2em;position: relative;}#sk-container-id-2 div.sk-item {position: relative;z-index: 1;}#sk-container-id-2 div.sk-parallel {display: flex;align-items: stretch;justify-content: center;background-color: white;position: relative;}#sk-container-id-2 div.sk-item::before, #sk-container-id-2 div.sk-parallel-item::before {content: \"\";position: absolute;border-left: 1px solid gray;box-sizing: border-box;top: 0;bottom: 0;left: 50%;z-index: -1;}#sk-container-id-2 div.sk-parallel-item {display: flex;flex-direction: column;z-index: 1;position: relative;background-color: white;}#sk-container-id-2 div.sk-parallel-item:first-child::after {align-self: flex-end;width: 50%;}#sk-container-id-2 div.sk-parallel-item:last-child::after {align-self: flex-start;width: 50%;}#sk-container-id-2 div.sk-parallel-item:only-child::after {width: 0;}#sk-container-id-2 div.sk-dashed-wrapped {border: 1px dashed gray;margin: 0 0.4em 0.5em 0.4em;box-sizing: border-box;padding-bottom: 0.4em;background-color: white;}#sk-container-id-2 div.sk-label label {font-family: monospace;font-weight: bold;display: inline-block;line-height: 1.2em;}#sk-container-id-2 div.sk-label-container {text-align: center;}#sk-container-id-2 div.sk-container {/* jupyter's `normalize.less` sets `[hidden] { display: none; }` but bootstrap.min.css set `[hidden] { display: none !important; }` so we also need the `!important` here to be able to override the default hidden behavior on the sphinx rendered scikit-learn.org. See: https://github.com/scikit-learn/scikit-learn/issues/21755 */display: inline-block !important;position: relative;}#sk-container-id-2 div.sk-text-repr-fallback {display: none;}</style><div id=\"sk-container-id-2\" class=\"sk-top-container\"><div class=\"sk-text-repr-fallback\"><pre>RandomForestClassifier(random_state=42)</pre><b>In a Jupyter environment, please rerun this cell to show the HTML representation or trust the notebook. <br />On GitHub, the HTML representation is unable to render, please try loading this page with nbviewer.org.</b></div><div class=\"sk-container\" hidden><div class=\"sk-item\"><div class=\"sk-estimator sk-toggleable\"><input class=\"sk-toggleable__control sk-hidden--visually\" id=\"sk-estimator-id-2\" type=\"checkbox\" checked><label for=\"sk-estimator-id-2\" class=\"sk-toggleable__label sk-toggleable__label-arrow\">RandomForestClassifier</label><div class=\"sk-toggleable__content\"><pre>RandomForestClassifier(random_state=42)</pre></div></div></div></div></div>"
      ],
      "text/plain": [
       "RandomForestClassifier(random_state=42)"
      ]
     },
     "execution_count": 29,
     "metadata": {},
     "output_type": "execute_result"
    }
   ],
   "source": [
    "clf = RandomForestClassifier(random_state=42)\n",
    "clf.fit(X_train, y_train)"
   ]
  },
  {
   "cell_type": "code",
   "execution_count": 30,
   "id": "4bd1304b",
   "metadata": {
    "execution": {
     "iopub.execute_input": "2023-03-10T11:26:34.603847Z",
     "iopub.status.busy": "2023-03-10T11:26:34.603508Z",
     "iopub.status.idle": "2023-03-10T11:26:34.904442Z",
     "shell.execute_reply": "2023-03-10T11:26:34.903477Z"
    },
    "papermill": {
     "duration": 0.339513,
     "end_time": "2023-03-10T11:26:34.907345",
     "exception": false,
     "start_time": "2023-03-10T11:26:34.567832",
     "status": "completed"
    },
    "tags": []
   },
   "outputs": [
    {
     "name": "stdout",
     "output_type": "stream",
     "text": [
      "              precision    recall  f1-score   support\n",
      "\n",
      "         pop       0.50      0.52      0.51      2400\n",
      "         rap       0.70      0.73      0.72      2376\n",
      "        rock       0.50      0.46      0.48      2424\n",
      "\n",
      "    accuracy                           0.57      7200\n",
      "   macro avg       0.57      0.57      0.57      7200\n",
      "weighted avg       0.57      0.57      0.57      7200\n",
      "\n"
     ]
    }
   ],
   "source": [
    "y_pred = clf.predict(X_test)\n",
    "print(classification_report(y_test, y_pred))"
   ]
  },
  {
   "cell_type": "code",
   "execution_count": 31,
   "id": "43174ba2",
   "metadata": {
    "execution": {
     "iopub.execute_input": "2023-03-10T11:26:34.979563Z",
     "iopub.status.busy": "2023-03-10T11:26:34.979272Z",
     "iopub.status.idle": "2023-03-10T11:26:35.085862Z",
     "shell.execute_reply": "2023-03-10T11:26:35.084913Z"
    },
    "papermill": {
     "duration": 0.145628,
     "end_time": "2023-03-10T11:26:35.088489",
     "exception": false,
     "start_time": "2023-03-10T11:26:34.942861",
     "status": "completed"
    },
    "tags": []
   },
   "outputs": [],
   "source": [
    "acc = accuracy_score(y_test, y_pred)\n",
    "pre = precision_score(y_test, y_pred, average=avg_par)\n",
    "rec = recall_score(y_test, y_pred, average=avg_par)\n",
    "f1 = f1_score(y_test, y_pred, average=avg_par)\n",
    "\n",
    "metrics_data['Global']['RandomForest'] = {'Accuracy': acc, 'Precision': pre, 'Recall': rec, 'F1': f1}"
   ]
  },
  {
   "cell_type": "markdown",
   "id": "22c98ac5",
   "metadata": {
    "papermill": {
     "duration": 0.031638,
     "end_time": "2023-03-10T11:26:35.154998",
     "exception": false,
     "start_time": "2023-03-10T11:26:35.123360",
     "status": "completed"
    },
    "tags": []
   },
   "source": [
    "**LightGBM**"
   ]
  },
  {
   "cell_type": "code",
   "execution_count": 32,
   "id": "c93b818c",
   "metadata": {
    "execution": {
     "iopub.execute_input": "2023-03-10T11:26:35.187716Z",
     "iopub.status.busy": "2023-03-10T11:26:35.187225Z",
     "iopub.status.idle": "2023-03-10T11:26:35.561310Z",
     "shell.execute_reply": "2023-03-10T11:26:35.560659Z"
    },
    "papermill": {
     "duration": 0.389655,
     "end_time": "2023-03-10T11:26:35.563300",
     "exception": false,
     "start_time": "2023-03-10T11:26:35.173645",
     "status": "completed"
    },
    "tags": []
   },
   "outputs": [
    {
     "data": {
      "text/html": [
       "<style>#sk-container-id-3 {color: black;background-color: white;}#sk-container-id-3 pre{padding: 0;}#sk-container-id-3 div.sk-toggleable {background-color: white;}#sk-container-id-3 label.sk-toggleable__label {cursor: pointer;display: block;width: 100%;margin-bottom: 0;padding: 0.3em;box-sizing: border-box;text-align: center;}#sk-container-id-3 label.sk-toggleable__label-arrow:before {content: \"▸\";float: left;margin-right: 0.25em;color: #696969;}#sk-container-id-3 label.sk-toggleable__label-arrow:hover:before {color: black;}#sk-container-id-3 div.sk-estimator:hover label.sk-toggleable__label-arrow:before {color: black;}#sk-container-id-3 div.sk-toggleable__content {max-height: 0;max-width: 0;overflow: hidden;text-align: left;background-color: #f0f8ff;}#sk-container-id-3 div.sk-toggleable__content pre {margin: 0.2em;color: black;border-radius: 0.25em;background-color: #f0f8ff;}#sk-container-id-3 input.sk-toggleable__control:checked~div.sk-toggleable__content {max-height: 200px;max-width: 100%;overflow: auto;}#sk-container-id-3 input.sk-toggleable__control:checked~label.sk-toggleable__label-arrow:before {content: \"▾\";}#sk-container-id-3 div.sk-estimator input.sk-toggleable__control:checked~label.sk-toggleable__label {background-color: #d4ebff;}#sk-container-id-3 div.sk-label input.sk-toggleable__control:checked~label.sk-toggleable__label {background-color: #d4ebff;}#sk-container-id-3 input.sk-hidden--visually {border: 0;clip: rect(1px 1px 1px 1px);clip: rect(1px, 1px, 1px, 1px);height: 1px;margin: -1px;overflow: hidden;padding: 0;position: absolute;width: 1px;}#sk-container-id-3 div.sk-estimator {font-family: monospace;background-color: #f0f8ff;border: 1px dotted black;border-radius: 0.25em;box-sizing: border-box;margin-bottom: 0.5em;}#sk-container-id-3 div.sk-estimator:hover {background-color: #d4ebff;}#sk-container-id-3 div.sk-parallel-item::after {content: \"\";width: 100%;border-bottom: 1px solid gray;flex-grow: 1;}#sk-container-id-3 div.sk-label:hover label.sk-toggleable__label {background-color: #d4ebff;}#sk-container-id-3 div.sk-serial::before {content: \"\";position: absolute;border-left: 1px solid gray;box-sizing: border-box;top: 0;bottom: 0;left: 50%;z-index: 0;}#sk-container-id-3 div.sk-serial {display: flex;flex-direction: column;align-items: center;background-color: white;padding-right: 0.2em;padding-left: 0.2em;position: relative;}#sk-container-id-3 div.sk-item {position: relative;z-index: 1;}#sk-container-id-3 div.sk-parallel {display: flex;align-items: stretch;justify-content: center;background-color: white;position: relative;}#sk-container-id-3 div.sk-item::before, #sk-container-id-3 div.sk-parallel-item::before {content: \"\";position: absolute;border-left: 1px solid gray;box-sizing: border-box;top: 0;bottom: 0;left: 50%;z-index: -1;}#sk-container-id-3 div.sk-parallel-item {display: flex;flex-direction: column;z-index: 1;position: relative;background-color: white;}#sk-container-id-3 div.sk-parallel-item:first-child::after {align-self: flex-end;width: 50%;}#sk-container-id-3 div.sk-parallel-item:last-child::after {align-self: flex-start;width: 50%;}#sk-container-id-3 div.sk-parallel-item:only-child::after {width: 0;}#sk-container-id-3 div.sk-dashed-wrapped {border: 1px dashed gray;margin: 0 0.4em 0.5em 0.4em;box-sizing: border-box;padding-bottom: 0.4em;background-color: white;}#sk-container-id-3 div.sk-label label {font-family: monospace;font-weight: bold;display: inline-block;line-height: 1.2em;}#sk-container-id-3 div.sk-label-container {text-align: center;}#sk-container-id-3 div.sk-container {/* jupyter's `normalize.less` sets `[hidden] { display: none; }` but bootstrap.min.css set `[hidden] { display: none !important; }` so we also need the `!important` here to be able to override the default hidden behavior on the sphinx rendered scikit-learn.org. See: https://github.com/scikit-learn/scikit-learn/issues/21755 */display: inline-block !important;position: relative;}#sk-container-id-3 div.sk-text-repr-fallback {display: none;}</style><div id=\"sk-container-id-3\" class=\"sk-top-container\"><div class=\"sk-text-repr-fallback\"><pre>LGBMClassifier(objective=&#x27;multiclass&#x27;)</pre><b>In a Jupyter environment, please rerun this cell to show the HTML representation or trust the notebook. <br />On GitHub, the HTML representation is unable to render, please try loading this page with nbviewer.org.</b></div><div class=\"sk-container\" hidden><div class=\"sk-item\"><div class=\"sk-estimator sk-toggleable\"><input class=\"sk-toggleable__control sk-hidden--visually\" id=\"sk-estimator-id-3\" type=\"checkbox\" checked><label for=\"sk-estimator-id-3\" class=\"sk-toggleable__label sk-toggleable__label-arrow\">LGBMClassifier</label><div class=\"sk-toggleable__content\"><pre>LGBMClassifier(objective=&#x27;multiclass&#x27;)</pre></div></div></div></div></div>"
      ],
      "text/plain": [
       "LGBMClassifier(objective='multiclass')"
      ]
     },
     "execution_count": 32,
     "metadata": {},
     "output_type": "execute_result"
    }
   ],
   "source": [
    "clf = lgbm.LGBMClassifier(objective=obj_par) \n",
    "clf.fit(X_train, y_train)"
   ]
  },
  {
   "cell_type": "code",
   "execution_count": 33,
   "id": "600a663a",
   "metadata": {
    "execution": {
     "iopub.execute_input": "2023-03-10T11:26:35.590973Z",
     "iopub.status.busy": "2023-03-10T11:26:35.590564Z",
     "iopub.status.idle": "2023-03-10T11:26:35.766297Z",
     "shell.execute_reply": "2023-03-10T11:26:35.765516Z"
    },
    "papermill": {
     "duration": 0.192244,
     "end_time": "2023-03-10T11:26:35.768917",
     "exception": false,
     "start_time": "2023-03-10T11:26:35.576673",
     "status": "completed"
    },
    "tags": []
   },
   "outputs": [
    {
     "name": "stdout",
     "output_type": "stream",
     "text": [
      "              precision    recall  f1-score   support\n",
      "\n",
      "         pop       0.51      0.55      0.53      2400\n",
      "         rap       0.71      0.75      0.73      2376\n",
      "        rock       0.52      0.46      0.49      2424\n",
      "\n",
      "    accuracy                           0.59      7200\n",
      "   macro avg       0.58      0.59      0.58      7200\n",
      "weighted avg       0.58      0.59      0.58      7200\n",
      "\n"
     ]
    }
   ],
   "source": [
    "y_pred = clf.predict(X_test)\n",
    "print(classification_report(y_test, y_pred))"
   ]
  },
  {
   "cell_type": "code",
   "execution_count": 34,
   "id": "508d831d",
   "metadata": {
    "execution": {
     "iopub.execute_input": "2023-03-10T11:26:35.842304Z",
     "iopub.status.busy": "2023-03-10T11:26:35.841537Z",
     "iopub.status.idle": "2023-03-10T11:26:35.994727Z",
     "shell.execute_reply": "2023-03-10T11:26:35.993935Z"
    },
    "papermill": {
     "duration": 0.19321,
     "end_time": "2023-03-10T11:26:35.997574",
     "exception": false,
     "start_time": "2023-03-10T11:26:35.804364",
     "status": "completed"
    },
    "tags": []
   },
   "outputs": [],
   "source": [
    "acc = accuracy_score(y_test, y_pred)\n",
    "pre = precision_score(y_test, y_pred, average=avg_par)\n",
    "rec = recall_score(y_test, y_pred, average=avg_par)\n",
    "f1 = f1_score(y_test, y_pred, average=avg_par)\n",
    "\n",
    "metrics_data['Global']['LightGBM'] = {'Accuracy': acc, 'Precision': pre, 'Recall': rec, 'F1': f1}"
   ]
  },
  {
   "cell_type": "markdown",
   "id": "14b86894",
   "metadata": {
    "papermill": {
     "duration": 0.035708,
     "end_time": "2023-03-10T11:26:36.068029",
     "exception": false,
     "start_time": "2023-03-10T11:26:36.032321",
     "status": "completed"
    },
    "tags": []
   },
   "source": [
    "### Time Series Classification"
   ]
  },
  {
   "cell_type": "markdown",
   "id": "84c55533",
   "metadata": {
    "papermill": {
     "duration": 0.012078,
     "end_time": "2023-03-10T11:26:36.097709",
     "exception": false,
     "start_time": "2023-03-10T11:26:36.085631",
     "status": "completed"
    },
    "tags": []
   },
   "source": [
    "#### Learning Shapelets"
   ]
  },
  {
   "cell_type": "code",
   "execution_count": 35,
   "id": "488d8eb7",
   "metadata": {
    "execution": {
     "iopub.execute_input": "2023-03-10T11:26:36.124050Z",
     "iopub.status.busy": "2023-03-10T11:26:36.123520Z",
     "iopub.status.idle": "2023-03-10T11:26:37.830825Z",
     "shell.execute_reply": "2023-03-10T11:26:37.829905Z"
    },
    "papermill": {
     "duration": 1.722902,
     "end_time": "2023-03-10T11:26:37.832773",
     "exception": false,
     "start_time": "2023-03-10T11:26:36.109871",
     "status": "completed"
    },
    "tags": []
   },
   "outputs": [
    {
     "name": "stderr",
     "output_type": "stream",
     "text": [
      "2023-03-10 12:26:36.132393: I tensorflow/core/platform/cpu_feature_guard.cc:193] This TensorFlow binary is optimized with oneAPI Deep Neural Network Library (oneDNN) to use the following CPU instructions in performance-critical operations:  AVX2 FMA\n",
      "To enable them in other operations, rebuild TensorFlow with the appropriate compiler flags.\n",
      "2023-03-10 12:26:36.284495: W tensorflow/compiler/xla/stream_executor/platform/default/dso_loader.cc:64] Could not load dynamic library 'libcudart.so.11.0'; dlerror: libcudart.so.11.0: cannot open shared object file: No such file or directory\n",
      "2023-03-10 12:26:36.284518: I tensorflow/compiler/xla/stream_executor/cuda/cudart_stub.cc:29] Ignore above cudart dlerror if you do not have a GPU set up on your machine.\n"
     ]
    },
    {
     "name": "stderr",
     "output_type": "stream",
     "text": [
      "2023-03-10 12:26:36.889406: W tensorflow/compiler/xla/stream_executor/platform/default/dso_loader.cc:64] Could not load dynamic library 'libnvinfer.so.7'; dlerror: libnvinfer.so.7: cannot open shared object file: No such file or directory\n",
      "2023-03-10 12:26:36.889477: W tensorflow/compiler/xla/stream_executor/platform/default/dso_loader.cc:64] Could not load dynamic library 'libnvinfer_plugin.so.7'; dlerror: libnvinfer_plugin.so.7: cannot open shared object file: No such file or directory\n",
      "2023-03-10 12:26:36.889487: W tensorflow/compiler/tf2tensorrt/utils/py_utils.cc:38] TF-TRT Warning: Cannot dlopen some TensorRT libraries. If you would like to use Nvidia GPU with TensorRT, please make sure the missing libraries mentioned above are installed properly.\n"
     ]
    }
   ],
   "source": [
    "from tslearn.shapelets import LearningShapelets, grabocka_params_to_shapelet_size_dict"
   ]
  },
  {
   "cell_type": "code",
   "execution_count": 36,
   "id": "eb677959",
   "metadata": {
    "execution": {
     "iopub.execute_input": "2023-03-10T11:26:37.863643Z",
     "iopub.status.busy": "2023-03-10T11:26:37.862777Z",
     "iopub.status.idle": "2023-03-10T11:26:37.871894Z",
     "shell.execute_reply": "2023-03-10T11:26:37.870119Z"
    },
    "papermill": {
     "duration": 0.029134,
     "end_time": "2023-03-10T11:26:37.876299",
     "exception": false,
     "start_time": "2023-03-10T11:26:37.847165",
     "status": "completed"
    },
    "tags": []
   },
   "outputs": [],
   "source": [
    "n_ts, ts_sz, _ = ts_train.shape\n",
    "n_classes = len(set(y_train))"
   ]
  },
  {
   "cell_type": "code",
   "execution_count": 37,
   "id": "776ed3dd",
   "metadata": {
    "execution": {
     "iopub.execute_input": "2023-03-10T11:26:37.936560Z",
     "iopub.status.busy": "2023-03-10T11:26:37.936306Z",
     "iopub.status.idle": "2023-03-10T11:26:37.942905Z",
     "shell.execute_reply": "2023-03-10T11:26:37.941733Z"
    },
    "papermill": {
     "duration": 0.032066,
     "end_time": "2023-03-10T11:26:37.944589",
     "exception": false,
     "start_time": "2023-03-10T11:26:37.912523",
     "status": "completed"
    },
    "tags": []
   },
   "outputs": [
    {
     "name": "stdout",
     "output_type": "stream",
     "text": [
      "n_ts 28800\n",
      "ts_sz 100\n",
      "n_classes 3\n",
      "shapelet_sizes {10: 6}\n"
     ]
    }
   ],
   "source": [
    "# Set the number of shapelets per size as done in the original paper\n",
    "g_shapelet_sizes = grabocka_params_to_shapelet_size_dict(n_ts=n_ts,\n",
    "                                                         ts_sz=ts_sz,\n",
    "                                                         n_classes=n_classes,\n",
    "                                                         l=0.1,\n",
    "                                                         r=1)\n",
    "\n",
    "print('n_ts', n_ts)\n",
    "print('ts_sz', ts_sz)\n",
    "print('n_classes', n_classes)\n",
    "print('shapelet_sizes', g_shapelet_sizes)"
   ]
  },
  {
   "cell_type": "code",
   "execution_count": 38,
   "id": "90ed707e",
   "metadata": {
    "execution": {
     "iopub.execute_input": "2023-03-10T11:26:37.973352Z",
     "iopub.status.busy": "2023-03-10T11:26:37.973081Z",
     "iopub.status.idle": "2023-03-10T11:26:37.980334Z",
     "shell.execute_reply": "2023-03-10T11:26:37.979019Z"
    },
    "papermill": {
     "duration": 0.023374,
     "end_time": "2023-03-10T11:26:37.982188",
     "exception": false,
     "start_time": "2023-03-10T11:26:37.958814",
     "status": "completed"
    },
    "tags": []
   },
   "outputs": [
    {
     "data": {
      "text/plain": [
       "{10: 6, 20: 6, 5: 6}"
      ]
     },
     "execution_count": 38,
     "metadata": {},
     "output_type": "execute_result"
    }
   ],
   "source": [
    "shapelet_sizes = {}\n",
    "for key in g_shapelet_sizes:\n",
    "    shapelet_sizes[key] = g_shapelet_sizes[key]\n",
    "    shapelet_sizes[key*2] = g_shapelet_sizes[key]\n",
    "    shapelet_sizes[key//2] = g_shapelet_sizes[key]\n",
    "shapelet_sizes"
   ]
  },
  {
   "cell_type": "code",
   "execution_count": 39,
   "id": "3507fb9c",
   "metadata": {
    "execution": {
     "iopub.execute_input": "2023-03-10T11:26:38.012203Z",
     "iopub.status.busy": "2023-03-10T11:26:38.011719Z",
     "iopub.status.idle": "2023-03-10T11:26:38.019509Z",
     "shell.execute_reply": "2023-03-10T11:26:38.018271Z"
    },
    "papermill": {
     "duration": 0.024216,
     "end_time": "2023-03-10T11:26:38.021376",
     "exception": false,
     "start_time": "2023-03-10T11:26:37.997160",
     "status": "completed"
    },
    "tags": []
   },
   "outputs": [
    {
     "name": "stderr",
     "output_type": "stream",
     "text": [
      "/home/mattiapggioli/lyrics2ts/.venv/lib/python3.9/site-packages/tslearn/shapelets/shapelets.py:354: FutureWarning: The default value for 'scale' is set to False in version 0.4 to ensure backward compatibility, but is likely to change in a future version.\n",
      "  warnings.warn(\"The default value for 'scale' is set to False \"\n"
     ]
    }
   ],
   "source": [
    "model = LearningShapelets(n_shapelets_per_size=shapelet_sizes,\n",
    "                          optimizer=\"adam\", \n",
    "                          weight_regularizer=.01, \n",
    "                          max_iter=max_iter, verbose=0, random_state=42)"
   ]
  },
  {
   "cell_type": "code",
   "execution_count": 40,
   "id": "73b1fe2e",
   "metadata": {
    "execution": {
     "iopub.execute_input": "2023-03-10T11:26:38.048188Z",
     "iopub.status.busy": "2023-03-10T11:26:38.047713Z",
     "iopub.status.idle": "2023-03-10T12:05:23.149419Z",
     "shell.execute_reply": "2023-03-10T12:05:23.148662Z"
    },
    "papermill": {
     "duration": 2325.136598,
     "end_time": "2023-03-10T12:05:23.170491",
     "exception": false,
     "start_time": "2023-03-10T11:26:38.033893",
     "status": "completed"
    },
    "tags": []
   },
   "outputs": [
    {
     "name": "stderr",
     "output_type": "stream",
     "text": [
      "2023-03-10 12:26:38.923046: W tensorflow/compiler/xla/stream_executor/platform/default/dso_loader.cc:64] Could not load dynamic library 'libcuda.so.1'; dlerror: libcuda.so.1: cannot open shared object file: No such file or directory\n",
      "2023-03-10 12:26:38.923072: W tensorflow/compiler/xla/stream_executor/cuda/cuda_driver.cc:265] failed call to cuInit: UNKNOWN ERROR (303)\n",
      "2023-03-10 12:26:38.923093: I tensorflow/compiler/xla/stream_executor/cuda/cuda_diagnostics.cc:156] kernel driver does not appear to be running on this host (mattiapggioli-ThinkPad-E595): /proc/driver/nvidia/version does not exist\n",
      "2023-03-10 12:26:38.923626: I tensorflow/core/platform/cpu_feature_guard.cc:193] This TensorFlow binary is optimized with oneAPI Deep Neural Network Library (oneDNN) to use the following CPU instructions in performance-critical operations:  AVX2 FMA\n",
      "To enable them in other operations, rebuild TensorFlow with the appropriate compiler flags.\n"
     ]
    },
    {
     "name": "stdout",
     "output_type": "stream",
     "text": [
      "CPU times: user 3h 44min 16s, sys: 12min 9s, total: 3h 56min 26s\n",
      "Wall time: 38min 45s\n"
     ]
    },
    {
     "data": {
      "text/html": [
       "<style>#sk-container-id-4 {color: black;background-color: white;}#sk-container-id-4 pre{padding: 0;}#sk-container-id-4 div.sk-toggleable {background-color: white;}#sk-container-id-4 label.sk-toggleable__label {cursor: pointer;display: block;width: 100%;margin-bottom: 0;padding: 0.3em;box-sizing: border-box;text-align: center;}#sk-container-id-4 label.sk-toggleable__label-arrow:before {content: \"▸\";float: left;margin-right: 0.25em;color: #696969;}#sk-container-id-4 label.sk-toggleable__label-arrow:hover:before {color: black;}#sk-container-id-4 div.sk-estimator:hover label.sk-toggleable__label-arrow:before {color: black;}#sk-container-id-4 div.sk-toggleable__content {max-height: 0;max-width: 0;overflow: hidden;text-align: left;background-color: #f0f8ff;}#sk-container-id-4 div.sk-toggleable__content pre {margin: 0.2em;color: black;border-radius: 0.25em;background-color: #f0f8ff;}#sk-container-id-4 input.sk-toggleable__control:checked~div.sk-toggleable__content {max-height: 200px;max-width: 100%;overflow: auto;}#sk-container-id-4 input.sk-toggleable__control:checked~label.sk-toggleable__label-arrow:before {content: \"▾\";}#sk-container-id-4 div.sk-estimator input.sk-toggleable__control:checked~label.sk-toggleable__label {background-color: #d4ebff;}#sk-container-id-4 div.sk-label input.sk-toggleable__control:checked~label.sk-toggleable__label {background-color: #d4ebff;}#sk-container-id-4 input.sk-hidden--visually {border: 0;clip: rect(1px 1px 1px 1px);clip: rect(1px, 1px, 1px, 1px);height: 1px;margin: -1px;overflow: hidden;padding: 0;position: absolute;width: 1px;}#sk-container-id-4 div.sk-estimator {font-family: monospace;background-color: #f0f8ff;border: 1px dotted black;border-radius: 0.25em;box-sizing: border-box;margin-bottom: 0.5em;}#sk-container-id-4 div.sk-estimator:hover {background-color: #d4ebff;}#sk-container-id-4 div.sk-parallel-item::after {content: \"\";width: 100%;border-bottom: 1px solid gray;flex-grow: 1;}#sk-container-id-4 div.sk-label:hover label.sk-toggleable__label {background-color: #d4ebff;}#sk-container-id-4 div.sk-serial::before {content: \"\";position: absolute;border-left: 1px solid gray;box-sizing: border-box;top: 0;bottom: 0;left: 50%;z-index: 0;}#sk-container-id-4 div.sk-serial {display: flex;flex-direction: column;align-items: center;background-color: white;padding-right: 0.2em;padding-left: 0.2em;position: relative;}#sk-container-id-4 div.sk-item {position: relative;z-index: 1;}#sk-container-id-4 div.sk-parallel {display: flex;align-items: stretch;justify-content: center;background-color: white;position: relative;}#sk-container-id-4 div.sk-item::before, #sk-container-id-4 div.sk-parallel-item::before {content: \"\";position: absolute;border-left: 1px solid gray;box-sizing: border-box;top: 0;bottom: 0;left: 50%;z-index: -1;}#sk-container-id-4 div.sk-parallel-item {display: flex;flex-direction: column;z-index: 1;position: relative;background-color: white;}#sk-container-id-4 div.sk-parallel-item:first-child::after {align-self: flex-end;width: 50%;}#sk-container-id-4 div.sk-parallel-item:last-child::after {align-self: flex-start;width: 50%;}#sk-container-id-4 div.sk-parallel-item:only-child::after {width: 0;}#sk-container-id-4 div.sk-dashed-wrapped {border: 1px dashed gray;margin: 0 0.4em 0.5em 0.4em;box-sizing: border-box;padding-bottom: 0.4em;background-color: white;}#sk-container-id-4 div.sk-label label {font-family: monospace;font-weight: bold;display: inline-block;line-height: 1.2em;}#sk-container-id-4 div.sk-label-container {text-align: center;}#sk-container-id-4 div.sk-container {/* jupyter's `normalize.less` sets `[hidden] { display: none; }` but bootstrap.min.css set `[hidden] { display: none !important; }` so we also need the `!important` here to be able to override the default hidden behavior on the sphinx rendered scikit-learn.org. See: https://github.com/scikit-learn/scikit-learn/issues/21755 */display: inline-block !important;position: relative;}#sk-container-id-4 div.sk-text-repr-fallback {display: none;}</style><div id=\"sk-container-id-4\" class=\"sk-top-container\"><div class=\"sk-text-repr-fallback\"><pre>LearningShapelets(max_iter=2000, n_shapelets_per_size={5: 6, 10: 6, 20: 6},\n",
       "                  optimizer=&#x27;adam&#x27;, random_state=42, weight_regularizer=0.01)</pre><b>In a Jupyter environment, please rerun this cell to show the HTML representation or trust the notebook. <br />On GitHub, the HTML representation is unable to render, please try loading this page with nbviewer.org.</b></div><div class=\"sk-container\" hidden><div class=\"sk-item\"><div class=\"sk-estimator sk-toggleable\"><input class=\"sk-toggleable__control sk-hidden--visually\" id=\"sk-estimator-id-4\" type=\"checkbox\" checked><label for=\"sk-estimator-id-4\" class=\"sk-toggleable__label sk-toggleable__label-arrow\">LearningShapelets</label><div class=\"sk-toggleable__content\"><pre>LearningShapelets(max_iter=2000, n_shapelets_per_size={5: 6, 10: 6, 20: 6},\n",
       "                  optimizer=&#x27;adam&#x27;, random_state=42, weight_regularizer=0.01)</pre></div></div></div></div></div>"
      ],
      "text/plain": [
       "LearningShapelets(max_iter=2000, n_shapelets_per_size={5: 6, 10: 6, 20: 6},\n",
       "                  optimizer='adam', random_state=42, weight_regularizer=0.01)"
      ]
     },
     "execution_count": 40,
     "metadata": {},
     "output_type": "execute_result"
    }
   ],
   "source": [
    "%%time\n",
    "model.fit(ts_train, y_train)"
   ]
  },
  {
   "cell_type": "code",
   "execution_count": 41,
   "id": "51706baa",
   "metadata": {
    "execution": {
     "iopub.execute_input": "2023-03-10T12:05:23.204001Z",
     "iopub.status.busy": "2023-03-10T12:05:23.203656Z",
     "iopub.status.idle": "2023-03-10T12:05:23.238309Z",
     "shell.execute_reply": "2023-03-10T12:05:23.237044Z"
    },
    "papermill": {
     "duration": 0.054351,
     "end_time": "2023-03-10T12:05:23.241595",
     "exception": false,
     "start_time": "2023-03-10T12:05:23.187244",
     "status": "completed"
    },
    "tags": []
   },
   "outputs": [],
   "source": [
    "model.to_pickle(f'{data_path}/shapelets.pkl')"
   ]
  },
  {
   "cell_type": "markdown",
   "id": "309f70dc",
   "metadata": {
    "papermill": {
     "duration": 0.02368,
     "end_time": "2023-03-10T12:05:23.298061",
     "exception": false,
     "start_time": "2023-03-10T12:05:23.274381",
     "status": "completed"
    },
    "tags": []
   },
   "source": [
    "#### Shapelet-Based Classification"
   ]
  },
  {
   "cell_type": "code",
   "execution_count": 42,
   "id": "60125dff",
   "metadata": {
    "execution": {
     "iopub.execute_input": "2023-03-10T12:05:23.325733Z",
     "iopub.status.busy": "2023-03-10T12:05:23.325247Z",
     "iopub.status.idle": "2023-03-10T12:05:23.330729Z",
     "shell.execute_reply": "2023-03-10T12:05:23.329648Z"
    },
    "papermill": {
     "duration": 0.021669,
     "end_time": "2023-03-10T12:05:23.332522",
     "exception": false,
     "start_time": "2023-03-10T12:05:23.310853",
     "status": "completed"
    },
    "tags": []
   },
   "outputs": [],
   "source": [
    "metrics_data['Shapelets'] = {}"
   ]
  },
  {
   "cell_type": "code",
   "execution_count": 43,
   "id": "efb8984d",
   "metadata": {
    "execution": {
     "iopub.execute_input": "2023-03-10T12:05:23.360839Z",
     "iopub.status.busy": "2023-03-10T12:05:23.360350Z",
     "iopub.status.idle": "2023-03-10T12:05:25.900048Z",
     "shell.execute_reply": "2023-03-10T12:05:25.899370Z"
    },
    "papermill": {
     "duration": 2.556978,
     "end_time": "2023-03-10T12:05:25.902411",
     "exception": false,
     "start_time": "2023-03-10T12:05:23.345433",
     "status": "completed"
    },
    "tags": []
   },
   "outputs": [],
   "source": [
    "X_train = model.transform(ts_train)\n",
    "X_test = model.transform(ts_test)"
   ]
  },
  {
   "cell_type": "code",
   "execution_count": 44,
   "id": "2e6c0f22",
   "metadata": {
    "execution": {
     "iopub.execute_input": "2023-03-10T12:05:25.934401Z",
     "iopub.status.busy": "2023-03-10T12:05:25.933939Z",
     "iopub.status.idle": "2023-03-10T12:05:25.976457Z",
     "shell.execute_reply": "2023-03-10T12:05:25.974988Z"
    },
    "papermill": {
     "duration": 0.058923,
     "end_time": "2023-03-10T12:05:25.978394",
     "exception": false,
     "start_time": "2023-03-10T12:05:25.919471",
     "status": "completed"
    },
    "tags": []
   },
   "outputs": [
    {
     "data": {
      "text/html": [
       "<div>\n",
       "<style scoped>\n",
       "    .dataframe tbody tr th:only-of-type {\n",
       "        vertical-align: middle;\n",
       "    }\n",
       "\n",
       "    .dataframe tbody tr th {\n",
       "        vertical-align: top;\n",
       "    }\n",
       "\n",
       "    .dataframe thead th {\n",
       "        text-align: right;\n",
       "    }\n",
       "</style>\n",
       "<table border=\"1\" class=\"dataframe\">\n",
       "  <thead>\n",
       "    <tr style=\"text-align: right;\">\n",
       "      <th></th>\n",
       "      <th>0</th>\n",
       "      <th>1</th>\n",
       "      <th>2</th>\n",
       "      <th>3</th>\n",
       "      <th>4</th>\n",
       "      <th>5</th>\n",
       "      <th>6</th>\n",
       "      <th>7</th>\n",
       "      <th>8</th>\n",
       "      <th>9</th>\n",
       "      <th>10</th>\n",
       "      <th>11</th>\n",
       "      <th>12</th>\n",
       "      <th>13</th>\n",
       "      <th>14</th>\n",
       "      <th>15</th>\n",
       "      <th>16</th>\n",
       "      <th>17</th>\n",
       "    </tr>\n",
       "  </thead>\n",
       "  <tbody>\n",
       "    <tr>\n",
       "      <th>0</th>\n",
       "      <td>6.662282</td>\n",
       "      <td>5.523741</td>\n",
       "      <td>3.292470</td>\n",
       "      <td>7.422489</td>\n",
       "      <td>5.888717</td>\n",
       "      <td>2.957287</td>\n",
       "      <td>5.854249</td>\n",
       "      <td>3.231288</td>\n",
       "      <td>3.279649</td>\n",
       "      <td>2.714551</td>\n",
       "      <td>2.760746</td>\n",
       "      <td>3.296390</td>\n",
       "      <td>6.561180</td>\n",
       "      <td>5.379394</td>\n",
       "      <td>43.399841</td>\n",
       "      <td>5.470015</td>\n",
       "      <td>5.497833</td>\n",
       "      <td>6.862443</td>\n",
       "    </tr>\n",
       "    <tr>\n",
       "      <th>1</th>\n",
       "      <td>6.517953</td>\n",
       "      <td>4.915958</td>\n",
       "      <td>3.294261</td>\n",
       "      <td>6.735422</td>\n",
       "      <td>4.818554</td>\n",
       "      <td>2.667261</td>\n",
       "      <td>6.132645</td>\n",
       "      <td>3.418318</td>\n",
       "      <td>3.528390</td>\n",
       "      <td>2.775469</td>\n",
       "      <td>2.712259</td>\n",
       "      <td>3.544681</td>\n",
       "      <td>7.244728</td>\n",
       "      <td>5.008254</td>\n",
       "      <td>43.848076</td>\n",
       "      <td>5.171350</td>\n",
       "      <td>4.824230</td>\n",
       "      <td>7.269975</td>\n",
       "    </tr>\n",
       "    <tr>\n",
       "      <th>2</th>\n",
       "      <td>7.037992</td>\n",
       "      <td>5.687197</td>\n",
       "      <td>4.106562</td>\n",
       "      <td>8.451282</td>\n",
       "      <td>6.169182</td>\n",
       "      <td>2.983976</td>\n",
       "      <td>6.435407</td>\n",
       "      <td>3.874899</td>\n",
       "      <td>3.526426</td>\n",
       "      <td>2.745763</td>\n",
       "      <td>2.858178</td>\n",
       "      <td>3.521083</td>\n",
       "      <td>7.220769</td>\n",
       "      <td>5.694877</td>\n",
       "      <td>44.647018</td>\n",
       "      <td>5.762385</td>\n",
       "      <td>5.919614</td>\n",
       "      <td>7.361225</td>\n",
       "    </tr>\n",
       "    <tr>\n",
       "      <th>3</th>\n",
       "      <td>6.392230</td>\n",
       "      <td>5.218866</td>\n",
       "      <td>3.809686</td>\n",
       "      <td>8.012120</td>\n",
       "      <td>5.505461</td>\n",
       "      <td>2.939744</td>\n",
       "      <td>6.401866</td>\n",
       "      <td>3.562108</td>\n",
       "      <td>3.602288</td>\n",
       "      <td>2.677584</td>\n",
       "      <td>2.913071</td>\n",
       "      <td>3.543126</td>\n",
       "      <td>7.035871</td>\n",
       "      <td>5.694799</td>\n",
       "      <td>44.228088</td>\n",
       "      <td>5.788557</td>\n",
       "      <td>5.750975</td>\n",
       "      <td>7.083966</td>\n",
       "    </tr>\n",
       "    <tr>\n",
       "      <th>4</th>\n",
       "      <td>8.364944</td>\n",
       "      <td>5.535240</td>\n",
       "      <td>3.064540</td>\n",
       "      <td>8.931025</td>\n",
       "      <td>6.241264</td>\n",
       "      <td>2.069019</td>\n",
       "      <td>7.174678</td>\n",
       "      <td>2.877514</td>\n",
       "      <td>2.165159</td>\n",
       "      <td>1.877643</td>\n",
       "      <td>1.852118</td>\n",
       "      <td>2.119174</td>\n",
       "      <td>5.254804</td>\n",
       "      <td>7.111127</td>\n",
       "      <td>39.065598</td>\n",
       "      <td>7.077094</td>\n",
       "      <td>6.835816</td>\n",
       "      <td>5.482317</td>\n",
       "    </tr>\n",
       "    <tr>\n",
       "      <th>...</th>\n",
       "      <td>...</td>\n",
       "      <td>...</td>\n",
       "      <td>...</td>\n",
       "      <td>...</td>\n",
       "      <td>...</td>\n",
       "      <td>...</td>\n",
       "      <td>...</td>\n",
       "      <td>...</td>\n",
       "      <td>...</td>\n",
       "      <td>...</td>\n",
       "      <td>...</td>\n",
       "      <td>...</td>\n",
       "      <td>...</td>\n",
       "      <td>...</td>\n",
       "      <td>...</td>\n",
       "      <td>...</td>\n",
       "      <td>...</td>\n",
       "      <td>...</td>\n",
       "    </tr>\n",
       "    <tr>\n",
       "      <th>7195</th>\n",
       "      <td>7.428640</td>\n",
       "      <td>5.045612</td>\n",
       "      <td>2.893758</td>\n",
       "      <td>8.161864</td>\n",
       "      <td>5.929986</td>\n",
       "      <td>2.412205</td>\n",
       "      <td>6.396420</td>\n",
       "      <td>2.956687</td>\n",
       "      <td>2.980810</td>\n",
       "      <td>2.506999</td>\n",
       "      <td>2.623611</td>\n",
       "      <td>2.964911</td>\n",
       "      <td>6.420388</td>\n",
       "      <td>5.895232</td>\n",
       "      <td>41.931793</td>\n",
       "      <td>5.853682</td>\n",
       "      <td>6.111726</td>\n",
       "      <td>6.697709</td>\n",
       "    </tr>\n",
       "    <tr>\n",
       "      <th>7196</th>\n",
       "      <td>7.002017</td>\n",
       "      <td>5.725966</td>\n",
       "      <td>3.042786</td>\n",
       "      <td>7.139513</td>\n",
       "      <td>5.501321</td>\n",
       "      <td>2.186597</td>\n",
       "      <td>6.233046</td>\n",
       "      <td>3.243282</td>\n",
       "      <td>2.903263</td>\n",
       "      <td>2.259184</td>\n",
       "      <td>2.406770</td>\n",
       "      <td>2.901722</td>\n",
       "      <td>6.320835</td>\n",
       "      <td>5.593498</td>\n",
       "      <td>42.398281</td>\n",
       "      <td>5.799568</td>\n",
       "      <td>5.940485</td>\n",
       "      <td>6.329617</td>\n",
       "    </tr>\n",
       "    <tr>\n",
       "      <th>7197</th>\n",
       "      <td>7.354607</td>\n",
       "      <td>5.574260</td>\n",
       "      <td>2.895782</td>\n",
       "      <td>7.836240</td>\n",
       "      <td>6.059998</td>\n",
       "      <td>2.222797</td>\n",
       "      <td>6.688269</td>\n",
       "      <td>3.165904</td>\n",
       "      <td>2.690587</td>\n",
       "      <td>2.052405</td>\n",
       "      <td>2.087345</td>\n",
       "      <td>2.662144</td>\n",
       "      <td>5.698635</td>\n",
       "      <td>6.307705</td>\n",
       "      <td>40.853451</td>\n",
       "      <td>6.433056</td>\n",
       "      <td>6.326950</td>\n",
       "      <td>5.904438</td>\n",
       "    </tr>\n",
       "    <tr>\n",
       "      <th>7198</th>\n",
       "      <td>8.021232</td>\n",
       "      <td>5.047649</td>\n",
       "      <td>3.239869</td>\n",
       "      <td>8.374660</td>\n",
       "      <td>5.475948</td>\n",
       "      <td>2.394566</td>\n",
       "      <td>7.278851</td>\n",
       "      <td>3.577485</td>\n",
       "      <td>2.607295</td>\n",
       "      <td>2.053325</td>\n",
       "      <td>2.251283</td>\n",
       "      <td>2.626518</td>\n",
       "      <td>6.119936</td>\n",
       "      <td>6.378182</td>\n",
       "      <td>41.454803</td>\n",
       "      <td>6.535767</td>\n",
       "      <td>6.545374</td>\n",
       "      <td>6.115516</td>\n",
       "    </tr>\n",
       "    <tr>\n",
       "      <th>7199</th>\n",
       "      <td>6.229157</td>\n",
       "      <td>5.214194</td>\n",
       "      <td>3.152493</td>\n",
       "      <td>6.844893</td>\n",
       "      <td>4.634208</td>\n",
       "      <td>2.860392</td>\n",
       "      <td>5.848770</td>\n",
       "      <td>3.695975</td>\n",
       "      <td>3.180307</td>\n",
       "      <td>2.602818</td>\n",
       "      <td>2.680468</td>\n",
       "      <td>3.193817</td>\n",
       "      <td>6.917749</td>\n",
       "      <td>5.070072</td>\n",
       "      <td>44.310833</td>\n",
       "      <td>5.109116</td>\n",
       "      <td>4.999132</td>\n",
       "      <td>6.987017</td>\n",
       "    </tr>\n",
       "  </tbody>\n",
       "</table>\n",
       "<p>7200 rows × 18 columns</p>\n",
       "</div>"
      ],
      "text/plain": [
       "            0         1         2         3         4         5         6   \\\n",
       "0     6.662282  5.523741  3.292470  7.422489  5.888717  2.957287  5.854249   \n",
       "1     6.517953  4.915958  3.294261  6.735422  4.818554  2.667261  6.132645   \n",
       "2     7.037992  5.687197  4.106562  8.451282  6.169182  2.983976  6.435407   \n",
       "3     6.392230  5.218866  3.809686  8.012120  5.505461  2.939744  6.401866   \n",
       "4     8.364944  5.535240  3.064540  8.931025  6.241264  2.069019  7.174678   \n",
       "...        ...       ...       ...       ...       ...       ...       ...   \n",
       "7195  7.428640  5.045612  2.893758  8.161864  5.929986  2.412205  6.396420   \n",
       "7196  7.002017  5.725966  3.042786  7.139513  5.501321  2.186597  6.233046   \n",
       "7197  7.354607  5.574260  2.895782  7.836240  6.059998  2.222797  6.688269   \n",
       "7198  8.021232  5.047649  3.239869  8.374660  5.475948  2.394566  7.278851   \n",
       "7199  6.229157  5.214194  3.152493  6.844893  4.634208  2.860392  5.848770   \n",
       "\n",
       "            7         8         9         10        11        12        13  \\\n",
       "0     3.231288  3.279649  2.714551  2.760746  3.296390  6.561180  5.379394   \n",
       "1     3.418318  3.528390  2.775469  2.712259  3.544681  7.244728  5.008254   \n",
       "2     3.874899  3.526426  2.745763  2.858178  3.521083  7.220769  5.694877   \n",
       "3     3.562108  3.602288  2.677584  2.913071  3.543126  7.035871  5.694799   \n",
       "4     2.877514  2.165159  1.877643  1.852118  2.119174  5.254804  7.111127   \n",
       "...        ...       ...       ...       ...       ...       ...       ...   \n",
       "7195  2.956687  2.980810  2.506999  2.623611  2.964911  6.420388  5.895232   \n",
       "7196  3.243282  2.903263  2.259184  2.406770  2.901722  6.320835  5.593498   \n",
       "7197  3.165904  2.690587  2.052405  2.087345  2.662144  5.698635  6.307705   \n",
       "7198  3.577485  2.607295  2.053325  2.251283  2.626518  6.119936  6.378182   \n",
       "7199  3.695975  3.180307  2.602818  2.680468  3.193817  6.917749  5.070072   \n",
       "\n",
       "             14        15        16        17  \n",
       "0     43.399841  5.470015  5.497833  6.862443  \n",
       "1     43.848076  5.171350  4.824230  7.269975  \n",
       "2     44.647018  5.762385  5.919614  7.361225  \n",
       "3     44.228088  5.788557  5.750975  7.083966  \n",
       "4     39.065598  7.077094  6.835816  5.482317  \n",
       "...         ...       ...       ...       ...  \n",
       "7195  41.931793  5.853682  6.111726  6.697709  \n",
       "7196  42.398281  5.799568  5.940485  6.329617  \n",
       "7197  40.853451  6.433056  6.326950  5.904438  \n",
       "7198  41.454803  6.535767  6.545374  6.115516  \n",
       "7199  44.310833  5.109116  4.999132  6.987017  \n",
       "\n",
       "[7200 rows x 18 columns]"
      ]
     },
     "execution_count": 44,
     "metadata": {},
     "output_type": "execute_result"
    }
   ],
   "source": [
    "pd.DataFrame(X_test)"
   ]
  },
  {
   "cell_type": "markdown",
   "id": "5fa024f7",
   "metadata": {
    "execution": {
     "iopub.execute_input": "2023-02-07T23:47:19.876941Z",
     "iopub.status.busy": "2023-02-07T23:47:19.876424Z",
     "iopub.status.idle": "2023-02-07T23:47:20.399488Z",
     "shell.execute_reply": "2023-02-07T23:47:20.398142Z"
    },
    "papermill": {
     "duration": 0.012873,
     "end_time": "2023-03-10T12:05:26.006577",
     "exception": false,
     "start_time": "2023-03-10T12:05:25.993704",
     "status": "completed"
    },
    "tags": []
   },
   "source": [
    "**Decision Tree**"
   ]
  },
  {
   "cell_type": "code",
   "execution_count": 45,
   "id": "4f5400c9",
   "metadata": {
    "execution": {
     "iopub.execute_input": "2023-03-10T12:05:26.035800Z",
     "iopub.status.busy": "2023-03-10T12:05:26.035285Z",
     "iopub.status.idle": "2023-03-10T12:05:26.993357Z",
     "shell.execute_reply": "2023-03-10T12:05:26.992676Z"
    },
    "papermill": {
     "duration": 0.976483,
     "end_time": "2023-03-10T12:05:26.996587",
     "exception": false,
     "start_time": "2023-03-10T12:05:26.020104",
     "status": "completed"
    },
    "tags": []
   },
   "outputs": [
    {
     "data": {
      "text/html": [
       "<style>#sk-container-id-5 {color: black;background-color: white;}#sk-container-id-5 pre{padding: 0;}#sk-container-id-5 div.sk-toggleable {background-color: white;}#sk-container-id-5 label.sk-toggleable__label {cursor: pointer;display: block;width: 100%;margin-bottom: 0;padding: 0.3em;box-sizing: border-box;text-align: center;}#sk-container-id-5 label.sk-toggleable__label-arrow:before {content: \"▸\";float: left;margin-right: 0.25em;color: #696969;}#sk-container-id-5 label.sk-toggleable__label-arrow:hover:before {color: black;}#sk-container-id-5 div.sk-estimator:hover label.sk-toggleable__label-arrow:before {color: black;}#sk-container-id-5 div.sk-toggleable__content {max-height: 0;max-width: 0;overflow: hidden;text-align: left;background-color: #f0f8ff;}#sk-container-id-5 div.sk-toggleable__content pre {margin: 0.2em;color: black;border-radius: 0.25em;background-color: #f0f8ff;}#sk-container-id-5 input.sk-toggleable__control:checked~div.sk-toggleable__content {max-height: 200px;max-width: 100%;overflow: auto;}#sk-container-id-5 input.sk-toggleable__control:checked~label.sk-toggleable__label-arrow:before {content: \"▾\";}#sk-container-id-5 div.sk-estimator input.sk-toggleable__control:checked~label.sk-toggleable__label {background-color: #d4ebff;}#sk-container-id-5 div.sk-label input.sk-toggleable__control:checked~label.sk-toggleable__label {background-color: #d4ebff;}#sk-container-id-5 input.sk-hidden--visually {border: 0;clip: rect(1px 1px 1px 1px);clip: rect(1px, 1px, 1px, 1px);height: 1px;margin: -1px;overflow: hidden;padding: 0;position: absolute;width: 1px;}#sk-container-id-5 div.sk-estimator {font-family: monospace;background-color: #f0f8ff;border: 1px dotted black;border-radius: 0.25em;box-sizing: border-box;margin-bottom: 0.5em;}#sk-container-id-5 div.sk-estimator:hover {background-color: #d4ebff;}#sk-container-id-5 div.sk-parallel-item::after {content: \"\";width: 100%;border-bottom: 1px solid gray;flex-grow: 1;}#sk-container-id-5 div.sk-label:hover label.sk-toggleable__label {background-color: #d4ebff;}#sk-container-id-5 div.sk-serial::before {content: \"\";position: absolute;border-left: 1px solid gray;box-sizing: border-box;top: 0;bottom: 0;left: 50%;z-index: 0;}#sk-container-id-5 div.sk-serial {display: flex;flex-direction: column;align-items: center;background-color: white;padding-right: 0.2em;padding-left: 0.2em;position: relative;}#sk-container-id-5 div.sk-item {position: relative;z-index: 1;}#sk-container-id-5 div.sk-parallel {display: flex;align-items: stretch;justify-content: center;background-color: white;position: relative;}#sk-container-id-5 div.sk-item::before, #sk-container-id-5 div.sk-parallel-item::before {content: \"\";position: absolute;border-left: 1px solid gray;box-sizing: border-box;top: 0;bottom: 0;left: 50%;z-index: -1;}#sk-container-id-5 div.sk-parallel-item {display: flex;flex-direction: column;z-index: 1;position: relative;background-color: white;}#sk-container-id-5 div.sk-parallel-item:first-child::after {align-self: flex-end;width: 50%;}#sk-container-id-5 div.sk-parallel-item:last-child::after {align-self: flex-start;width: 50%;}#sk-container-id-5 div.sk-parallel-item:only-child::after {width: 0;}#sk-container-id-5 div.sk-dashed-wrapped {border: 1px dashed gray;margin: 0 0.4em 0.5em 0.4em;box-sizing: border-box;padding-bottom: 0.4em;background-color: white;}#sk-container-id-5 div.sk-label label {font-family: monospace;font-weight: bold;display: inline-block;line-height: 1.2em;}#sk-container-id-5 div.sk-label-container {text-align: center;}#sk-container-id-5 div.sk-container {/* jupyter's `normalize.less` sets `[hidden] { display: none; }` but bootstrap.min.css set `[hidden] { display: none !important; }` so we also need the `!important` here to be able to override the default hidden behavior on the sphinx rendered scikit-learn.org. See: https://github.com/scikit-learn/scikit-learn/issues/21755 */display: inline-block !important;position: relative;}#sk-container-id-5 div.sk-text-repr-fallback {display: none;}</style><div id=\"sk-container-id-5\" class=\"sk-top-container\"><div class=\"sk-text-repr-fallback\"><pre>DecisionTreeClassifier(random_state=42)</pre><b>In a Jupyter environment, please rerun this cell to show the HTML representation or trust the notebook. <br />On GitHub, the HTML representation is unable to render, please try loading this page with nbviewer.org.</b></div><div class=\"sk-container\" hidden><div class=\"sk-item\"><div class=\"sk-estimator sk-toggleable\"><input class=\"sk-toggleable__control sk-hidden--visually\" id=\"sk-estimator-id-5\" type=\"checkbox\" checked><label for=\"sk-estimator-id-5\" class=\"sk-toggleable__label sk-toggleable__label-arrow\">DecisionTreeClassifier</label><div class=\"sk-toggleable__content\"><pre>DecisionTreeClassifier(random_state=42)</pre></div></div></div></div></div>"
      ],
      "text/plain": [
       "DecisionTreeClassifier(random_state=42)"
      ]
     },
     "execution_count": 45,
     "metadata": {},
     "output_type": "execute_result"
    }
   ],
   "source": [
    "clf = DecisionTreeClassifier(random_state=42)\n",
    "clf.fit(X_train, y_train)"
   ]
  },
  {
   "cell_type": "code",
   "execution_count": 46,
   "id": "3b56d190",
   "metadata": {
    "execution": {
     "iopub.execute_input": "2023-03-10T12:05:27.073486Z",
     "iopub.status.busy": "2023-03-10T12:05:27.073155Z",
     "iopub.status.idle": "2023-03-10T12:05:27.228026Z",
     "shell.execute_reply": "2023-03-10T12:05:27.227267Z"
    },
    "papermill": {
     "duration": 0.195832,
     "end_time": "2023-03-10T12:05:27.229853",
     "exception": false,
     "start_time": "2023-03-10T12:05:27.034021",
     "status": "completed"
    },
    "tags": []
   },
   "outputs": [
    {
     "name": "stdout",
     "output_type": "stream",
     "text": [
      "              precision    recall  f1-score   support\n",
      "\n",
      "         pop       0.43      0.44      0.43      2400\n",
      "         rap       0.63      0.63      0.63      2376\n",
      "        rock       0.47      0.45      0.46      2424\n",
      "\n",
      "    accuracy                           0.51      7200\n",
      "   macro avg       0.51      0.51      0.51      7200\n",
      "weighted avg       0.51      0.51      0.51      7200\n",
      "\n"
     ]
    }
   ],
   "source": [
    "y_pred = clf.predict(X_test)\n",
    "print(classification_report(y_test, y_pred))"
   ]
  },
  {
   "cell_type": "code",
   "execution_count": 47,
   "id": "42bc91ff",
   "metadata": {
    "execution": {
     "iopub.execute_input": "2023-03-10T12:05:27.289768Z",
     "iopub.status.busy": "2023-03-10T12:05:27.289282Z",
     "iopub.status.idle": "2023-03-10T12:05:27.296970Z",
     "shell.execute_reply": "2023-03-10T12:05:27.295761Z"
    },
    "papermill": {
     "duration": 0.041864,
     "end_time": "2023-03-10T12:05:27.299834",
     "exception": false,
     "start_time": "2023-03-10T12:05:27.257970",
     "status": "completed"
    },
    "tags": []
   },
   "outputs": [],
   "source": [
    "pickle.dump(clf, open(f'{data_path}/decision_tree.pkl', 'wb'))"
   ]
  },
  {
   "cell_type": "code",
   "execution_count": 48,
   "id": "ea9be210",
   "metadata": {
    "execution": {
     "iopub.execute_input": "2023-03-10T12:05:27.344175Z",
     "iopub.status.busy": "2023-03-10T12:05:27.343637Z",
     "iopub.status.idle": "2023-03-10T12:05:27.500130Z",
     "shell.execute_reply": "2023-03-10T12:05:27.499443Z"
    },
    "papermill": {
     "duration": 0.174762,
     "end_time": "2023-03-10T12:05:27.502966",
     "exception": false,
     "start_time": "2023-03-10T12:05:27.328204",
     "status": "completed"
    },
    "tags": []
   },
   "outputs": [],
   "source": [
    "acc = accuracy_score(y_test, y_pred)\n",
    "pre = precision_score(y_test, y_pred, average=avg_par)\n",
    "rec = recall_score(y_test, y_pred, average=avg_par)\n",
    "f1 = f1_score(y_test, y_pred, average=avg_par)\n",
    "\n",
    "metrics_data['Shapelets']['DecisionTree'] = {'Accuracy': acc, 'Precision': pre, 'Recall': rec, 'F1': f1}"
   ]
  },
  {
   "cell_type": "markdown",
   "id": "3ca3443b",
   "metadata": {
    "papermill": {
     "duration": 0.03387,
     "end_time": "2023-03-10T12:05:27.575232",
     "exception": false,
     "start_time": "2023-03-10T12:05:27.541362",
     "status": "completed"
    },
    "tags": []
   },
   "source": [
    "**Random Forest**"
   ]
  },
  {
   "cell_type": "code",
   "execution_count": 49,
   "id": "37795e21",
   "metadata": {
    "execution": {
     "iopub.execute_input": "2023-03-10T12:05:27.609373Z",
     "iopub.status.busy": "2023-03-10T12:05:27.608875Z",
     "iopub.status.idle": "2023-03-10T12:05:40.359876Z",
     "shell.execute_reply": "2023-03-10T12:05:40.359196Z"
    },
    "papermill": {
     "duration": 12.768692,
     "end_time": "2023-03-10T12:05:40.362848",
     "exception": false,
     "start_time": "2023-03-10T12:05:27.594156",
     "status": "completed"
    },
    "tags": []
   },
   "outputs": [
    {
     "data": {
      "text/html": [
       "<style>#sk-container-id-6 {color: black;background-color: white;}#sk-container-id-6 pre{padding: 0;}#sk-container-id-6 div.sk-toggleable {background-color: white;}#sk-container-id-6 label.sk-toggleable__label {cursor: pointer;display: block;width: 100%;margin-bottom: 0;padding: 0.3em;box-sizing: border-box;text-align: center;}#sk-container-id-6 label.sk-toggleable__label-arrow:before {content: \"▸\";float: left;margin-right: 0.25em;color: #696969;}#sk-container-id-6 label.sk-toggleable__label-arrow:hover:before {color: black;}#sk-container-id-6 div.sk-estimator:hover label.sk-toggleable__label-arrow:before {color: black;}#sk-container-id-6 div.sk-toggleable__content {max-height: 0;max-width: 0;overflow: hidden;text-align: left;background-color: #f0f8ff;}#sk-container-id-6 div.sk-toggleable__content pre {margin: 0.2em;color: black;border-radius: 0.25em;background-color: #f0f8ff;}#sk-container-id-6 input.sk-toggleable__control:checked~div.sk-toggleable__content {max-height: 200px;max-width: 100%;overflow: auto;}#sk-container-id-6 input.sk-toggleable__control:checked~label.sk-toggleable__label-arrow:before {content: \"▾\";}#sk-container-id-6 div.sk-estimator input.sk-toggleable__control:checked~label.sk-toggleable__label {background-color: #d4ebff;}#sk-container-id-6 div.sk-label input.sk-toggleable__control:checked~label.sk-toggleable__label {background-color: #d4ebff;}#sk-container-id-6 input.sk-hidden--visually {border: 0;clip: rect(1px 1px 1px 1px);clip: rect(1px, 1px, 1px, 1px);height: 1px;margin: -1px;overflow: hidden;padding: 0;position: absolute;width: 1px;}#sk-container-id-6 div.sk-estimator {font-family: monospace;background-color: #f0f8ff;border: 1px dotted black;border-radius: 0.25em;box-sizing: border-box;margin-bottom: 0.5em;}#sk-container-id-6 div.sk-estimator:hover {background-color: #d4ebff;}#sk-container-id-6 div.sk-parallel-item::after {content: \"\";width: 100%;border-bottom: 1px solid gray;flex-grow: 1;}#sk-container-id-6 div.sk-label:hover label.sk-toggleable__label {background-color: #d4ebff;}#sk-container-id-6 div.sk-serial::before {content: \"\";position: absolute;border-left: 1px solid gray;box-sizing: border-box;top: 0;bottom: 0;left: 50%;z-index: 0;}#sk-container-id-6 div.sk-serial {display: flex;flex-direction: column;align-items: center;background-color: white;padding-right: 0.2em;padding-left: 0.2em;position: relative;}#sk-container-id-6 div.sk-item {position: relative;z-index: 1;}#sk-container-id-6 div.sk-parallel {display: flex;align-items: stretch;justify-content: center;background-color: white;position: relative;}#sk-container-id-6 div.sk-item::before, #sk-container-id-6 div.sk-parallel-item::before {content: \"\";position: absolute;border-left: 1px solid gray;box-sizing: border-box;top: 0;bottom: 0;left: 50%;z-index: -1;}#sk-container-id-6 div.sk-parallel-item {display: flex;flex-direction: column;z-index: 1;position: relative;background-color: white;}#sk-container-id-6 div.sk-parallel-item:first-child::after {align-self: flex-end;width: 50%;}#sk-container-id-6 div.sk-parallel-item:last-child::after {align-self: flex-start;width: 50%;}#sk-container-id-6 div.sk-parallel-item:only-child::after {width: 0;}#sk-container-id-6 div.sk-dashed-wrapped {border: 1px dashed gray;margin: 0 0.4em 0.5em 0.4em;box-sizing: border-box;padding-bottom: 0.4em;background-color: white;}#sk-container-id-6 div.sk-label label {font-family: monospace;font-weight: bold;display: inline-block;line-height: 1.2em;}#sk-container-id-6 div.sk-label-container {text-align: center;}#sk-container-id-6 div.sk-container {/* jupyter's `normalize.less` sets `[hidden] { display: none; }` but bootstrap.min.css set `[hidden] { display: none !important; }` so we also need the `!important` here to be able to override the default hidden behavior on the sphinx rendered scikit-learn.org. See: https://github.com/scikit-learn/scikit-learn/issues/21755 */display: inline-block !important;position: relative;}#sk-container-id-6 div.sk-text-repr-fallback {display: none;}</style><div id=\"sk-container-id-6\" class=\"sk-top-container\"><div class=\"sk-text-repr-fallback\"><pre>RandomForestClassifier(random_state=42)</pre><b>In a Jupyter environment, please rerun this cell to show the HTML representation or trust the notebook. <br />On GitHub, the HTML representation is unable to render, please try loading this page with nbviewer.org.</b></div><div class=\"sk-container\" hidden><div class=\"sk-item\"><div class=\"sk-estimator sk-toggleable\"><input class=\"sk-toggleable__control sk-hidden--visually\" id=\"sk-estimator-id-6\" type=\"checkbox\" checked><label for=\"sk-estimator-id-6\" class=\"sk-toggleable__label sk-toggleable__label-arrow\">RandomForestClassifier</label><div class=\"sk-toggleable__content\"><pre>RandomForestClassifier(random_state=42)</pre></div></div></div></div></div>"
      ],
      "text/plain": [
       "RandomForestClassifier(random_state=42)"
      ]
     },
     "execution_count": 49,
     "metadata": {},
     "output_type": "execute_result"
    }
   ],
   "source": [
    "clf = RandomForestClassifier(random_state=42)\n",
    "clf.fit(X_train, y_train)"
   ]
  },
  {
   "cell_type": "code",
   "execution_count": 50,
   "id": "581ab90a",
   "metadata": {
    "execution": {
     "iopub.execute_input": "2023-03-10T12:05:40.438749Z",
     "iopub.status.busy": "2023-03-10T12:05:40.438276Z",
     "iopub.status.idle": "2023-03-10T12:05:40.783417Z",
     "shell.execute_reply": "2023-03-10T12:05:40.782315Z"
    },
    "papermill": {
     "duration": 0.383984,
     "end_time": "2023-03-10T12:05:40.785162",
     "exception": false,
     "start_time": "2023-03-10T12:05:40.401178",
     "status": "completed"
    },
    "tags": []
   },
   "outputs": [
    {
     "name": "stdout",
     "output_type": "stream",
     "text": [
      "              precision    recall  f1-score   support\n",
      "\n",
      "         pop       0.51      0.52      0.52      2400\n",
      "         rap       0.73      0.77      0.75      2376\n",
      "        rock       0.57      0.54      0.55      2424\n",
      "\n",
      "    accuracy                           0.61      7200\n",
      "   macro avg       0.60      0.61      0.61      7200\n",
      "weighted avg       0.60      0.61      0.61      7200\n",
      "\n"
     ]
    }
   ],
   "source": [
    "y_pred = clf.predict(X_test)\n",
    "print(classification_report(y_test, y_pred))"
   ]
  },
  {
   "cell_type": "code",
   "execution_count": 51,
   "id": "faf1d7f4",
   "metadata": {
    "execution": {
     "iopub.execute_input": "2023-03-10T12:05:40.814486Z",
     "iopub.status.busy": "2023-03-10T12:05:40.814188Z",
     "iopub.status.idle": "2023-03-10T12:05:40.950788Z",
     "shell.execute_reply": "2023-03-10T12:05:40.950110Z"
    },
    "papermill": {
     "duration": 0.153688,
     "end_time": "2023-03-10T12:05:40.952763",
     "exception": false,
     "start_time": "2023-03-10T12:05:40.799075",
     "status": "completed"
    },
    "tags": []
   },
   "outputs": [],
   "source": [
    "acc = accuracy_score(y_test, y_pred)\n",
    "pre = precision_score(y_test, y_pred, average=avg_par)\n",
    "rec = recall_score(y_test, y_pred, average=avg_par)\n",
    "f1 = f1_score(y_test, y_pred, average=avg_par)\n",
    "\n",
    "metrics_data['Shapelets']['RandomForest'] = {'Accuracy': acc, 'Precision': pre, 'Recall': rec, 'F1': f1}"
   ]
  },
  {
   "cell_type": "markdown",
   "id": "61fceefb",
   "metadata": {
    "papermill": {
     "duration": 0.013926,
     "end_time": "2023-03-10T12:05:40.980964",
     "exception": false,
     "start_time": "2023-03-10T12:05:40.967038",
     "status": "completed"
    },
    "tags": []
   },
   "source": [
    "**LightGBM**"
   ]
  },
  {
   "cell_type": "code",
   "execution_count": 52,
   "id": "194189da",
   "metadata": {
    "execution": {
     "iopub.execute_input": "2023-03-10T12:05:41.010537Z",
     "iopub.status.busy": "2023-03-10T12:05:41.010239Z",
     "iopub.status.idle": "2023-03-10T12:05:41.676676Z",
     "shell.execute_reply": "2023-03-10T12:05:41.675435Z"
    },
    "papermill": {
     "duration": 0.683917,
     "end_time": "2023-03-10T12:05:41.678907",
     "exception": false,
     "start_time": "2023-03-10T12:05:40.994990",
     "status": "completed"
    },
    "tags": []
   },
   "outputs": [
    {
     "data": {
      "text/html": [
       "<style>#sk-container-id-7 {color: black;background-color: white;}#sk-container-id-7 pre{padding: 0;}#sk-container-id-7 div.sk-toggleable {background-color: white;}#sk-container-id-7 label.sk-toggleable__label {cursor: pointer;display: block;width: 100%;margin-bottom: 0;padding: 0.3em;box-sizing: border-box;text-align: center;}#sk-container-id-7 label.sk-toggleable__label-arrow:before {content: \"▸\";float: left;margin-right: 0.25em;color: #696969;}#sk-container-id-7 label.sk-toggleable__label-arrow:hover:before {color: black;}#sk-container-id-7 div.sk-estimator:hover label.sk-toggleable__label-arrow:before {color: black;}#sk-container-id-7 div.sk-toggleable__content {max-height: 0;max-width: 0;overflow: hidden;text-align: left;background-color: #f0f8ff;}#sk-container-id-7 div.sk-toggleable__content pre {margin: 0.2em;color: black;border-radius: 0.25em;background-color: #f0f8ff;}#sk-container-id-7 input.sk-toggleable__control:checked~div.sk-toggleable__content {max-height: 200px;max-width: 100%;overflow: auto;}#sk-container-id-7 input.sk-toggleable__control:checked~label.sk-toggleable__label-arrow:before {content: \"▾\";}#sk-container-id-7 div.sk-estimator input.sk-toggleable__control:checked~label.sk-toggleable__label {background-color: #d4ebff;}#sk-container-id-7 div.sk-label input.sk-toggleable__control:checked~label.sk-toggleable__label {background-color: #d4ebff;}#sk-container-id-7 input.sk-hidden--visually {border: 0;clip: rect(1px 1px 1px 1px);clip: rect(1px, 1px, 1px, 1px);height: 1px;margin: -1px;overflow: hidden;padding: 0;position: absolute;width: 1px;}#sk-container-id-7 div.sk-estimator {font-family: monospace;background-color: #f0f8ff;border: 1px dotted black;border-radius: 0.25em;box-sizing: border-box;margin-bottom: 0.5em;}#sk-container-id-7 div.sk-estimator:hover {background-color: #d4ebff;}#sk-container-id-7 div.sk-parallel-item::after {content: \"\";width: 100%;border-bottom: 1px solid gray;flex-grow: 1;}#sk-container-id-7 div.sk-label:hover label.sk-toggleable__label {background-color: #d4ebff;}#sk-container-id-7 div.sk-serial::before {content: \"\";position: absolute;border-left: 1px solid gray;box-sizing: border-box;top: 0;bottom: 0;left: 50%;z-index: 0;}#sk-container-id-7 div.sk-serial {display: flex;flex-direction: column;align-items: center;background-color: white;padding-right: 0.2em;padding-left: 0.2em;position: relative;}#sk-container-id-7 div.sk-item {position: relative;z-index: 1;}#sk-container-id-7 div.sk-parallel {display: flex;align-items: stretch;justify-content: center;background-color: white;position: relative;}#sk-container-id-7 div.sk-item::before, #sk-container-id-7 div.sk-parallel-item::before {content: \"\";position: absolute;border-left: 1px solid gray;box-sizing: border-box;top: 0;bottom: 0;left: 50%;z-index: -1;}#sk-container-id-7 div.sk-parallel-item {display: flex;flex-direction: column;z-index: 1;position: relative;background-color: white;}#sk-container-id-7 div.sk-parallel-item:first-child::after {align-self: flex-end;width: 50%;}#sk-container-id-7 div.sk-parallel-item:last-child::after {align-self: flex-start;width: 50%;}#sk-container-id-7 div.sk-parallel-item:only-child::after {width: 0;}#sk-container-id-7 div.sk-dashed-wrapped {border: 1px dashed gray;margin: 0 0.4em 0.5em 0.4em;box-sizing: border-box;padding-bottom: 0.4em;background-color: white;}#sk-container-id-7 div.sk-label label {font-family: monospace;font-weight: bold;display: inline-block;line-height: 1.2em;}#sk-container-id-7 div.sk-label-container {text-align: center;}#sk-container-id-7 div.sk-container {/* jupyter's `normalize.less` sets `[hidden] { display: none; }` but bootstrap.min.css set `[hidden] { display: none !important; }` so we also need the `!important` here to be able to override the default hidden behavior on the sphinx rendered scikit-learn.org. See: https://github.com/scikit-learn/scikit-learn/issues/21755 */display: inline-block !important;position: relative;}#sk-container-id-7 div.sk-text-repr-fallback {display: none;}</style><div id=\"sk-container-id-7\" class=\"sk-top-container\"><div class=\"sk-text-repr-fallback\"><pre>LGBMClassifier(objective=&#x27;multiclass&#x27;)</pre><b>In a Jupyter environment, please rerun this cell to show the HTML representation or trust the notebook. <br />On GitHub, the HTML representation is unable to render, please try loading this page with nbviewer.org.</b></div><div class=\"sk-container\" hidden><div class=\"sk-item\"><div class=\"sk-estimator sk-toggleable\"><input class=\"sk-toggleable__control sk-hidden--visually\" id=\"sk-estimator-id-7\" type=\"checkbox\" checked><label for=\"sk-estimator-id-7\" class=\"sk-toggleable__label sk-toggleable__label-arrow\">LGBMClassifier</label><div class=\"sk-toggleable__content\"><pre>LGBMClassifier(objective=&#x27;multiclass&#x27;)</pre></div></div></div></div></div>"
      ],
      "text/plain": [
       "LGBMClassifier(objective='multiclass')"
      ]
     },
     "execution_count": 52,
     "metadata": {},
     "output_type": "execute_result"
    }
   ],
   "source": [
    "clf = lgbm.LGBMClassifier(objective=obj_par) \n",
    "clf.fit(X_train, y_train)"
   ]
  },
  {
   "cell_type": "code",
   "execution_count": 53,
   "id": "355a078b",
   "metadata": {
    "execution": {
     "iopub.execute_input": "2023-03-10T12:05:41.716340Z",
     "iopub.status.busy": "2023-03-10T12:05:41.716060Z",
     "iopub.status.idle": "2023-03-10T12:05:41.922161Z",
     "shell.execute_reply": "2023-03-10T12:05:41.921404Z"
    },
    "papermill": {
     "duration": 0.224882,
     "end_time": "2023-03-10T12:05:41.923791",
     "exception": false,
     "start_time": "2023-03-10T12:05:41.698909",
     "status": "completed"
    },
    "tags": []
   },
   "outputs": [
    {
     "name": "stdout",
     "output_type": "stream",
     "text": [
      "              precision    recall  f1-score   support\n",
      "\n",
      "         pop       0.52      0.51      0.51      2400\n",
      "         rap       0.73      0.77      0.75      2376\n",
      "        rock       0.57      0.55      0.56      2424\n",
      "\n",
      "    accuracy                           0.61      7200\n",
      "   macro avg       0.61      0.61      0.61      7200\n",
      "weighted avg       0.60      0.61      0.61      7200\n",
      "\n"
     ]
    }
   ],
   "source": [
    "y_pred = clf.predict(X_test)\n",
    "print(classification_report(y_test, y_pred))"
   ]
  },
  {
   "cell_type": "code",
   "execution_count": 54,
   "id": "f22b911e",
   "metadata": {
    "execution": {
     "iopub.execute_input": "2023-03-10T12:05:41.954850Z",
     "iopub.status.busy": "2023-03-10T12:05:41.954577Z",
     "iopub.status.idle": "2023-03-10T12:05:42.087359Z",
     "shell.execute_reply": "2023-03-10T12:05:42.086740Z"
    },
    "papermill": {
     "duration": 0.150395,
     "end_time": "2023-03-10T12:05:42.089185",
     "exception": false,
     "start_time": "2023-03-10T12:05:41.938790",
     "status": "completed"
    },
    "tags": []
   },
   "outputs": [],
   "source": [
    "acc = accuracy_score(y_test, y_pred)\n",
    "pre = precision_score(y_test, y_pred, average=avg_par)\n",
    "rec = recall_score(y_test, y_pred, average=avg_par)\n",
    "f1 = f1_score(y_test, y_pred, average=avg_par)\n",
    "\n",
    "metrics_data['Shapelets']['LightGBM'] = {'Accuracy': acc, 'Precision': pre, 'Recall': rec, 'F1': f1}"
   ]
  },
  {
   "cell_type": "markdown",
   "id": "0809af9f",
   "metadata": {
    "papermill": {
     "duration": 0.014565,
     "end_time": "2023-03-10T12:05:42.118864",
     "exception": false,
     "start_time": "2023-03-10T12:05:42.104299",
     "status": "completed"
    },
    "tags": []
   },
   "source": [
    "#### KNN"
   ]
  },
  {
   "cell_type": "code",
   "execution_count": 55,
   "id": "1c9237e0",
   "metadata": {
    "execution": {
     "iopub.execute_input": "2023-03-10T12:05:42.149526Z",
     "iopub.status.busy": "2023-03-10T12:05:42.149251Z",
     "iopub.status.idle": "2023-03-10T12:05:42.153285Z",
     "shell.execute_reply": "2023-03-10T12:05:42.152521Z"
    },
    "papermill": {
     "duration": 0.022036,
     "end_time": "2023-03-10T12:05:42.155515",
     "exception": false,
     "start_time": "2023-03-10T12:05:42.133479",
     "status": "completed"
    },
    "tags": []
   },
   "outputs": [],
   "source": [
    "X_train = ts_train.reshape((ts_train.shape[0], ts_train.shape[1]))\n",
    "X_test = ts_test.reshape((ts_test.shape[0], ts_test.shape[1]))"
   ]
  },
  {
   "cell_type": "code",
   "execution_count": 56,
   "id": "192f3c3f",
   "metadata": {
    "execution": {
     "iopub.execute_input": "2023-03-10T12:05:42.199878Z",
     "iopub.status.busy": "2023-03-10T12:05:42.199578Z",
     "iopub.status.idle": "2023-03-10T12:05:42.204595Z",
     "shell.execute_reply": "2023-03-10T12:05:42.203757Z"
    },
    "papermill": {
     "duration": 0.021564,
     "end_time": "2023-03-10T12:05:42.206265",
     "exception": false,
     "start_time": "2023-03-10T12:05:42.184701",
     "status": "completed"
    },
    "tags": []
   },
   "outputs": [
    {
     "data": {
      "text/plain": [
       "(28800, 100)"
      ]
     },
     "execution_count": 56,
     "metadata": {},
     "output_type": "execute_result"
    }
   ],
   "source": [
    "X_train.shape"
   ]
  },
  {
   "cell_type": "code",
   "execution_count": 57,
   "id": "de0e5000",
   "metadata": {
    "execution": {
     "iopub.execute_input": "2023-03-10T12:05:42.236581Z",
     "iopub.status.busy": "2023-03-10T12:05:42.236314Z",
     "iopub.status.idle": "2023-03-10T12:05:42.240577Z",
     "shell.execute_reply": "2023-03-10T12:05:42.239593Z"
    },
    "papermill": {
     "duration": 0.021852,
     "end_time": "2023-03-10T12:05:42.242409",
     "exception": false,
     "start_time": "2023-03-10T12:05:42.220557",
     "status": "completed"
    },
    "tags": []
   },
   "outputs": [],
   "source": [
    "metrics_data['KNN'] = {}"
   ]
  },
  {
   "cell_type": "markdown",
   "id": "8ee39c05",
   "metadata": {
    "papermill": {
     "duration": 0.014534,
     "end_time": "2023-03-10T12:05:42.271636",
     "exception": false,
     "start_time": "2023-03-10T12:05:42.257102",
     "status": "completed"
    },
    "tags": []
   },
   "source": [
    "**Euclidean Distance**"
   ]
  },
  {
   "cell_type": "code",
   "execution_count": 58,
   "id": "55db1f58",
   "metadata": {
    "execution": {
     "iopub.execute_input": "2023-03-10T12:05:42.302852Z",
     "iopub.status.busy": "2023-03-10T12:05:42.302587Z",
     "iopub.status.idle": "2023-03-10T12:05:42.306119Z",
     "shell.execute_reply": "2023-03-10T12:05:42.305403Z"
    },
    "papermill": {
     "duration": 0.021588,
     "end_time": "2023-03-10T12:05:42.308123",
     "exception": false,
     "start_time": "2023-03-10T12:05:42.286535",
     "status": "completed"
    },
    "tags": []
   },
   "outputs": [],
   "source": [
    "from sklearn.neighbors import KNeighborsClassifier"
   ]
  },
  {
   "cell_type": "code",
   "execution_count": 59,
   "id": "132c2537",
   "metadata": {
    "execution": {
     "iopub.execute_input": "2023-03-10T12:05:42.338944Z",
     "iopub.status.busy": "2023-03-10T12:05:42.338660Z",
     "iopub.status.idle": "2023-03-10T12:05:42.377737Z",
     "shell.execute_reply": "2023-03-10T12:05:42.376691Z"
    },
    "papermill": {
     "duration": 0.056692,
     "end_time": "2023-03-10T12:05:42.379557",
     "exception": false,
     "start_time": "2023-03-10T12:05:42.322865",
     "status": "completed"
    },
    "tags": []
   },
   "outputs": [
    {
     "data": {
      "text/html": [
       "<style>#sk-container-id-8 {color: black;background-color: white;}#sk-container-id-8 pre{padding: 0;}#sk-container-id-8 div.sk-toggleable {background-color: white;}#sk-container-id-8 label.sk-toggleable__label {cursor: pointer;display: block;width: 100%;margin-bottom: 0;padding: 0.3em;box-sizing: border-box;text-align: center;}#sk-container-id-8 label.sk-toggleable__label-arrow:before {content: \"▸\";float: left;margin-right: 0.25em;color: #696969;}#sk-container-id-8 label.sk-toggleable__label-arrow:hover:before {color: black;}#sk-container-id-8 div.sk-estimator:hover label.sk-toggleable__label-arrow:before {color: black;}#sk-container-id-8 div.sk-toggleable__content {max-height: 0;max-width: 0;overflow: hidden;text-align: left;background-color: #f0f8ff;}#sk-container-id-8 div.sk-toggleable__content pre {margin: 0.2em;color: black;border-radius: 0.25em;background-color: #f0f8ff;}#sk-container-id-8 input.sk-toggleable__control:checked~div.sk-toggleable__content {max-height: 200px;max-width: 100%;overflow: auto;}#sk-container-id-8 input.sk-toggleable__control:checked~label.sk-toggleable__label-arrow:before {content: \"▾\";}#sk-container-id-8 div.sk-estimator input.sk-toggleable__control:checked~label.sk-toggleable__label {background-color: #d4ebff;}#sk-container-id-8 div.sk-label input.sk-toggleable__control:checked~label.sk-toggleable__label {background-color: #d4ebff;}#sk-container-id-8 input.sk-hidden--visually {border: 0;clip: rect(1px 1px 1px 1px);clip: rect(1px, 1px, 1px, 1px);height: 1px;margin: -1px;overflow: hidden;padding: 0;position: absolute;width: 1px;}#sk-container-id-8 div.sk-estimator {font-family: monospace;background-color: #f0f8ff;border: 1px dotted black;border-radius: 0.25em;box-sizing: border-box;margin-bottom: 0.5em;}#sk-container-id-8 div.sk-estimator:hover {background-color: #d4ebff;}#sk-container-id-8 div.sk-parallel-item::after {content: \"\";width: 100%;border-bottom: 1px solid gray;flex-grow: 1;}#sk-container-id-8 div.sk-label:hover label.sk-toggleable__label {background-color: #d4ebff;}#sk-container-id-8 div.sk-serial::before {content: \"\";position: absolute;border-left: 1px solid gray;box-sizing: border-box;top: 0;bottom: 0;left: 50%;z-index: 0;}#sk-container-id-8 div.sk-serial {display: flex;flex-direction: column;align-items: center;background-color: white;padding-right: 0.2em;padding-left: 0.2em;position: relative;}#sk-container-id-8 div.sk-item {position: relative;z-index: 1;}#sk-container-id-8 div.sk-parallel {display: flex;align-items: stretch;justify-content: center;background-color: white;position: relative;}#sk-container-id-8 div.sk-item::before, #sk-container-id-8 div.sk-parallel-item::before {content: \"\";position: absolute;border-left: 1px solid gray;box-sizing: border-box;top: 0;bottom: 0;left: 50%;z-index: -1;}#sk-container-id-8 div.sk-parallel-item {display: flex;flex-direction: column;z-index: 1;position: relative;background-color: white;}#sk-container-id-8 div.sk-parallel-item:first-child::after {align-self: flex-end;width: 50%;}#sk-container-id-8 div.sk-parallel-item:last-child::after {align-self: flex-start;width: 50%;}#sk-container-id-8 div.sk-parallel-item:only-child::after {width: 0;}#sk-container-id-8 div.sk-dashed-wrapped {border: 1px dashed gray;margin: 0 0.4em 0.5em 0.4em;box-sizing: border-box;padding-bottom: 0.4em;background-color: white;}#sk-container-id-8 div.sk-label label {font-family: monospace;font-weight: bold;display: inline-block;line-height: 1.2em;}#sk-container-id-8 div.sk-label-container {text-align: center;}#sk-container-id-8 div.sk-container {/* jupyter's `normalize.less` sets `[hidden] { display: none; }` but bootstrap.min.css set `[hidden] { display: none !important; }` so we also need the `!important` here to be able to override the default hidden behavior on the sphinx rendered scikit-learn.org. See: https://github.com/scikit-learn/scikit-learn/issues/21755 */display: inline-block !important;position: relative;}#sk-container-id-8 div.sk-text-repr-fallback {display: none;}</style><div id=\"sk-container-id-8\" class=\"sk-top-container\"><div class=\"sk-text-repr-fallback\"><pre>KNeighborsClassifier()</pre><b>In a Jupyter environment, please rerun this cell to show the HTML representation or trust the notebook. <br />On GitHub, the HTML representation is unable to render, please try loading this page with nbviewer.org.</b></div><div class=\"sk-container\" hidden><div class=\"sk-item\"><div class=\"sk-estimator sk-toggleable\"><input class=\"sk-toggleable__control sk-hidden--visually\" id=\"sk-estimator-id-8\" type=\"checkbox\" checked><label for=\"sk-estimator-id-8\" class=\"sk-toggleable__label sk-toggleable__label-arrow\">KNeighborsClassifier</label><div class=\"sk-toggleable__content\"><pre>KNeighborsClassifier()</pre></div></div></div></div></div>"
      ],
      "text/plain": [
       "KNeighborsClassifier()"
      ]
     },
     "execution_count": 59,
     "metadata": {},
     "output_type": "execute_result"
    }
   ],
   "source": [
    "clf = KNeighborsClassifier(n_neighbors=5, weights='uniform')\n",
    "clf.fit(X_train, y_train)"
   ]
  },
  {
   "cell_type": "code",
   "execution_count": 60,
   "id": "0afad62a",
   "metadata": {
    "execution": {
     "iopub.execute_input": "2023-03-10T12:05:42.411027Z",
     "iopub.status.busy": "2023-03-10T12:05:42.410752Z",
     "iopub.status.idle": "2023-03-10T12:05:44.463186Z",
     "shell.execute_reply": "2023-03-10T12:05:44.462174Z"
    },
    "papermill": {
     "duration": 2.071745,
     "end_time": "2023-03-10T12:05:44.466266",
     "exception": false,
     "start_time": "2023-03-10T12:05:42.394521",
     "status": "completed"
    },
    "tags": []
   },
   "outputs": [
    {
     "name": "stdout",
     "output_type": "stream",
     "text": [
      "              precision    recall  f1-score   support\n",
      "\n",
      "         pop       0.36      0.38      0.37      2400\n",
      "         rap       0.60      0.03      0.06      2376\n",
      "        rock       0.36      0.67      0.47      2424\n",
      "\n",
      "    accuracy                           0.36      7200\n",
      "   macro avg       0.44      0.36      0.30      7200\n",
      "weighted avg       0.44      0.36      0.30      7200\n",
      "\n"
     ]
    }
   ],
   "source": [
    "y_pred = clf.predict(X_test)\n",
    "print(classification_report(y_test, y_pred))"
   ]
  },
  {
   "cell_type": "code",
   "execution_count": 61,
   "id": "2d709070",
   "metadata": {
    "execution": {
     "iopub.execute_input": "2023-03-10T12:05:44.523302Z",
     "iopub.status.busy": "2023-03-10T12:05:44.522463Z",
     "iopub.status.idle": "2023-03-10T12:05:44.631407Z",
     "shell.execute_reply": "2023-03-10T12:05:44.630534Z"
    },
    "papermill": {
     "duration": 0.128613,
     "end_time": "2023-03-10T12:05:44.634309",
     "exception": false,
     "start_time": "2023-03-10T12:05:44.505696",
     "status": "completed"
    },
    "tags": []
   },
   "outputs": [],
   "source": [
    "acc = accuracy_score(y_test, y_pred)\n",
    "pre = precision_score(y_test, y_pred, average=avg_par)\n",
    "rec = recall_score(y_test, y_pred, average=avg_par)\n",
    "f1 = f1_score(y_test, y_pred, average=avg_par)\n",
    "\n",
    "metrics_data['KNN']['Euclidean'] = {'Accuracy': acc, 'Precision': pre, 'Recall': rec, 'F1': f1}"
   ]
  },
  {
   "cell_type": "markdown",
   "id": "c5ec2a09",
   "metadata": {
    "papermill": {
     "duration": 0.038404,
     "end_time": "2023-03-10T12:05:44.713424",
     "exception": false,
     "start_time": "2023-03-10T12:05:44.675020",
     "status": "completed"
    },
    "tags": []
   },
   "source": [
    "**Dynamic Time Warping**"
   ]
  },
  {
   "cell_type": "code",
   "execution_count": 62,
   "id": "2df913d8",
   "metadata": {
    "execution": {
     "iopub.execute_input": "2023-03-10T12:05:44.743615Z",
     "iopub.status.busy": "2023-03-10T12:05:44.743143Z",
     "iopub.status.idle": "2023-03-10T12:05:44.816380Z",
     "shell.execute_reply": "2023-03-10T12:05:44.815631Z"
    },
    "papermill": {
     "duration": 0.090716,
     "end_time": "2023-03-10T12:05:44.818442",
     "exception": false,
     "start_time": "2023-03-10T12:05:44.727726",
     "status": "completed"
    },
    "tags": []
   },
   "outputs": [],
   "source": [
    "from pyts.classification import KNeighborsClassifier\n",
    "from pyts.approximation import PiecewiseAggregateApproximation\n",
    "from imblearn.under_sampling import ClusterCentroids\n",
    "from sklearn_extra.cluster import KMedoids"
   ]
  },
  {
   "cell_type": "code",
   "execution_count": 63,
   "id": "db1604ec",
   "metadata": {
    "execution": {
     "iopub.execute_input": "2023-03-10T12:05:44.851221Z",
     "iopub.status.busy": "2023-03-10T12:05:44.850829Z",
     "iopub.status.idle": "2023-03-10T12:05:45.342897Z",
     "shell.execute_reply": "2023-03-10T12:05:45.341954Z"
    },
    "papermill": {
     "duration": 0.510535,
     "end_time": "2023-03-10T12:05:45.345980",
     "exception": false,
     "start_time": "2023-03-10T12:05:44.835445",
     "status": "completed"
    },
    "tags": []
   },
   "outputs": [],
   "source": [
    "if paa_window_size:\n",
    "    paa = PiecewiseAggregateApproximation(window_size=paa_window_size)\n",
    "    X_train = paa.transform(X_train)\n",
    "    X_test = paa.transform(X_test)\n",
    "    X_train.shape"
   ]
  },
  {
   "cell_type": "code",
   "execution_count": 64,
   "id": "59fa27aa",
   "metadata": {
    "execution": {
     "iopub.execute_input": "2023-03-10T12:05:45.428262Z",
     "iopub.status.busy": "2023-03-10T12:05:45.427942Z",
     "iopub.status.idle": "2023-03-10T12:06:38.805994Z",
     "shell.execute_reply": "2023-03-10T12:06:38.801227Z"
    },
    "papermill": {
     "duration": 53.431277,
     "end_time": "2023-03-10T12:06:38.817766",
     "exception": false,
     "start_time": "2023-03-10T12:05:45.386489",
     "status": "completed"
    },
    "tags": []
   },
   "outputs": [
    {
     "name": "stdout",
     "output_type": "stream",
     "text": [
      "{'pop': 2880, 'rap': 2887, 'rock': 2872}\n"
     ]
    },
    {
     "name": "stderr",
     "output_type": "stream",
     "text": [
      "/home/mattiapggioli/lyrics2ts/.venv/lib/python3.9/site-packages/sklearn_extra/cluster/_k_medoids.py:275: UserWarning: Cluster 840 is empty! self.labels_[self.medoid_indices_[840]] may not be labeled with its corresponding cluster (840).\n",
      "  warnings.warn(\n",
      "/home/mattiapggioli/lyrics2ts/.venv/lib/python3.9/site-packages/sklearn_extra/cluster/_k_medoids.py:275: UserWarning: Cluster 870 is empty! self.labels_[self.medoid_indices_[870]] may not be labeled with its corresponding cluster (870).\n",
      "  warnings.warn(\n",
      "/home/mattiapggioli/lyrics2ts/.venv/lib/python3.9/site-packages/sklearn_extra/cluster/_k_medoids.py:275: UserWarning: Cluster 1486 is empty! self.labels_[self.medoid_indices_[1486]] may not be labeled with its corresponding cluster (1486).\n",
      "  warnings.warn(\n",
      "/home/mattiapggioli/lyrics2ts/.venv/lib/python3.9/site-packages/sklearn_extra/cluster/_k_medoids.py:275: UserWarning: Cluster 1531 is empty! self.labels_[self.medoid_indices_[1531]] may not be labeled with its corresponding cluster (1531).\n",
      "  warnings.warn(\n",
      "/home/mattiapggioli/lyrics2ts/.venv/lib/python3.9/site-packages/sklearn_extra/cluster/_k_medoids.py:275: UserWarning: Cluster 1762 is empty! self.labels_[self.medoid_indices_[1762]] may not be labeled with its corresponding cluster (1762).\n",
      "  warnings.warn(\n",
      "/home/mattiapggioli/lyrics2ts/.venv/lib/python3.9/site-packages/sklearn_extra/cluster/_k_medoids.py:275: UserWarning: Cluster 2879 is empty! self.labels_[self.medoid_indices_[2879]] may not be labeled with its corresponding cluster (2879).\n",
      "  warnings.warn(\n"
     ]
    },
    {
     "name": "stderr",
     "output_type": "stream",
     "text": [
      "/home/mattiapggioli/lyrics2ts/.venv/lib/python3.9/site-packages/sklearn_extra/cluster/_k_medoids.py:275: UserWarning: Cluster 626 is empty! self.labels_[self.medoid_indices_[626]] may not be labeled with its corresponding cluster (626).\n",
      "  warnings.warn(\n",
      "/home/mattiapggioli/lyrics2ts/.venv/lib/python3.9/site-packages/sklearn_extra/cluster/_k_medoids.py:275: UserWarning: Cluster 789 is empty! self.labels_[self.medoid_indices_[789]] may not be labeled with its corresponding cluster (789).\n",
      "  warnings.warn(\n",
      "/home/mattiapggioli/lyrics2ts/.venv/lib/python3.9/site-packages/sklearn_extra/cluster/_k_medoids.py:275: UserWarning: Cluster 949 is empty! self.labels_[self.medoid_indices_[949]] may not be labeled with its corresponding cluster (949).\n",
      "  warnings.warn(\n",
      "/home/mattiapggioli/lyrics2ts/.venv/lib/python3.9/site-packages/sklearn_extra/cluster/_k_medoids.py:275: UserWarning: Cluster 1120 is empty! self.labels_[self.medoid_indices_[1120]] may not be labeled with its corresponding cluster (1120).\n",
      "  warnings.warn(\n",
      "/home/mattiapggioli/lyrics2ts/.venv/lib/python3.9/site-packages/sklearn_extra/cluster/_k_medoids.py:275: UserWarning: Cluster 1367 is empty! self.labels_[self.medoid_indices_[1367]] may not be labeled with its corresponding cluster (1367).\n",
      "  warnings.warn(\n",
      "/home/mattiapggioli/lyrics2ts/.venv/lib/python3.9/site-packages/sklearn_extra/cluster/_k_medoids.py:275: UserWarning: Cluster 1459 is empty! self.labels_[self.medoid_indices_[1459]] may not be labeled with its corresponding cluster (1459).\n",
      "  warnings.warn(\n",
      "/home/mattiapggioli/lyrics2ts/.venv/lib/python3.9/site-packages/sklearn_extra/cluster/_k_medoids.py:275: UserWarning: Cluster 1526 is empty! self.labels_[self.medoid_indices_[1526]] may not be labeled with its corresponding cluster (1526).\n",
      "  warnings.warn(\n",
      "/home/mattiapggioli/lyrics2ts/.venv/lib/python3.9/site-packages/sklearn_extra/cluster/_k_medoids.py:275: UserWarning: Cluster 1705 is empty! self.labels_[self.medoid_indices_[1705]] may not be labeled with its corresponding cluster (1705).\n",
      "  warnings.warn(\n",
      "/home/mattiapggioli/lyrics2ts/.venv/lib/python3.9/site-packages/sklearn_extra/cluster/_k_medoids.py:275: UserWarning: Cluster 1711 is empty! self.labels_[self.medoid_indices_[1711]] may not be labeled with its corresponding cluster (1711).\n",
      "  warnings.warn(\n",
      "/home/mattiapggioli/lyrics2ts/.venv/lib/python3.9/site-packages/sklearn_extra/cluster/_k_medoids.py:275: UserWarning: Cluster 1868 is empty! self.labels_[self.medoid_indices_[1868]] may not be labeled with its corresponding cluster (1868).\n",
      "  warnings.warn(\n",
      "/home/mattiapggioli/lyrics2ts/.venv/lib/python3.9/site-packages/sklearn_extra/cluster/_k_medoids.py:275: UserWarning: Cluster 2104 is empty! self.labels_[self.medoid_indices_[2104]] may not be labeled with its corresponding cluster (2104).\n",
      "  warnings.warn(\n",
      "/home/mattiapggioli/lyrics2ts/.venv/lib/python3.9/site-packages/sklearn_extra/cluster/_k_medoids.py:275: UserWarning: Cluster 2123 is empty! self.labels_[self.medoid_indices_[2123]] may not be labeled with its corresponding cluster (2123).\n",
      "  warnings.warn(\n",
      "/home/mattiapggioli/lyrics2ts/.venv/lib/python3.9/site-packages/sklearn_extra/cluster/_k_medoids.py:275: UserWarning: Cluster 2312 is empty! self.labels_[self.medoid_indices_[2312]] may not be labeled with its corresponding cluster (2312).\n",
      "  warnings.warn(\n",
      "/home/mattiapggioli/lyrics2ts/.venv/lib/python3.9/site-packages/sklearn_extra/cluster/_k_medoids.py:275: UserWarning: Cluster 2459 is empty! self.labels_[self.medoid_indices_[2459]] may not be labeled with its corresponding cluster (2459).\n",
      "  warnings.warn(\n",
      "/home/mattiapggioli/lyrics2ts/.venv/lib/python3.9/site-packages/sklearn_extra/cluster/_k_medoids.py:275: UserWarning: Cluster 2766 is empty! self.labels_[self.medoid_indices_[2766]] may not be labeled with its corresponding cluster (2766).\n",
      "  warnings.warn(\n",
      "/home/mattiapggioli/lyrics2ts/.venv/lib/python3.9/site-packages/sklearn_extra/cluster/_k_medoids.py:275: UserWarning: Cluster 2778 is empty! self.labels_[self.medoid_indices_[2778]] may not be labeled with its corresponding cluster (2778).\n",
      "  warnings.warn(\n",
      "/home/mattiapggioli/lyrics2ts/.venv/lib/python3.9/site-packages/sklearn_extra/cluster/_k_medoids.py:275: UserWarning: Cluster 2864 is empty! self.labels_[self.medoid_indices_[2864]] may not be labeled with its corresponding cluster (2864).\n",
      "  warnings.warn(\n"
     ]
    },
    {
     "name": "stderr",
     "output_type": "stream",
     "text": [
      "/home/mattiapggioli/lyrics2ts/.venv/lib/python3.9/site-packages/sklearn_extra/cluster/_k_medoids.py:275: UserWarning: Cluster 27 is empty! self.labels_[self.medoid_indices_[27]] may not be labeled with its corresponding cluster (27).\n",
      "  warnings.warn(\n",
      "/home/mattiapggioli/lyrics2ts/.venv/lib/python3.9/site-packages/sklearn_extra/cluster/_k_medoids.py:275: UserWarning: Cluster 55 is empty! self.labels_[self.medoid_indices_[55]] may not be labeled with its corresponding cluster (55).\n",
      "  warnings.warn(\n",
      "/home/mattiapggioli/lyrics2ts/.venv/lib/python3.9/site-packages/sklearn_extra/cluster/_k_medoids.py:275: UserWarning: Cluster 79 is empty! self.labels_[self.medoid_indices_[79]] may not be labeled with its corresponding cluster (79).\n",
      "  warnings.warn(\n",
      "/home/mattiapggioli/lyrics2ts/.venv/lib/python3.9/site-packages/sklearn_extra/cluster/_k_medoids.py:275: UserWarning: Cluster 96 is empty! self.labels_[self.medoid_indices_[96]] may not be labeled with its corresponding cluster (96).\n",
      "  warnings.warn(\n",
      "/home/mattiapggioli/lyrics2ts/.venv/lib/python3.9/site-packages/sklearn_extra/cluster/_k_medoids.py:275: UserWarning: Cluster 136 is empty! self.labels_[self.medoid_indices_[136]] may not be labeled with its corresponding cluster (136).\n",
      "  warnings.warn(\n",
      "/home/mattiapggioli/lyrics2ts/.venv/lib/python3.9/site-packages/sklearn_extra/cluster/_k_medoids.py:275: UserWarning: Cluster 1066 is empty! self.labels_[self.medoid_indices_[1066]] may not be labeled with its corresponding cluster (1066).\n",
      "  warnings.warn(\n",
      "/home/mattiapggioli/lyrics2ts/.venv/lib/python3.9/site-packages/sklearn_extra/cluster/_k_medoids.py:275: UserWarning: Cluster 1129 is empty! self.labels_[self.medoid_indices_[1129]] may not be labeled with its corresponding cluster (1129).\n",
      "  warnings.warn(\n",
      "/home/mattiapggioli/lyrics2ts/.venv/lib/python3.9/site-packages/sklearn_extra/cluster/_k_medoids.py:275: UserWarning: Cluster 1150 is empty! self.labels_[self.medoid_indices_[1150]] may not be labeled with its corresponding cluster (1150).\n",
      "  warnings.warn(\n",
      "/home/mattiapggioli/lyrics2ts/.venv/lib/python3.9/site-packages/sklearn_extra/cluster/_k_medoids.py:275: UserWarning: Cluster 1529 is empty! self.labels_[self.medoid_indices_[1529]] may not be labeled with its corresponding cluster (1529).\n",
      "  warnings.warn(\n",
      "/home/mattiapggioli/lyrics2ts/.venv/lib/python3.9/site-packages/sklearn_extra/cluster/_k_medoids.py:275: UserWarning: Cluster 2022 is empty! self.labels_[self.medoid_indices_[2022]] may not be labeled with its corresponding cluster (2022).\n",
      "  warnings.warn(\n",
      "/home/mattiapggioli/lyrics2ts/.venv/lib/python3.9/site-packages/sklearn_extra/cluster/_k_medoids.py:275: UserWarning: Cluster 2212 is empty! self.labels_[self.medoid_indices_[2212]] may not be labeled with its corresponding cluster (2212).\n",
      "  warnings.warn(\n",
      "/home/mattiapggioli/lyrics2ts/.venv/lib/python3.9/site-packages/sklearn_extra/cluster/_k_medoids.py:275: UserWarning: Cluster 2233 is empty! self.labels_[self.medoid_indices_[2233]] may not be labeled with its corresponding cluster (2233).\n",
      "  warnings.warn(\n",
      "/home/mattiapggioli/lyrics2ts/.venv/lib/python3.9/site-packages/sklearn_extra/cluster/_k_medoids.py:275: UserWarning: Cluster 2524 is empty! self.labels_[self.medoid_indices_[2524]] may not be labeled with its corresponding cluster (2524).\n",
      "  warnings.warn(\n"
     ]
    }
   ],
   "source": [
    "if undersampling:\n",
    "    total_samples = len(y_train)\n",
    "    unique_classes, class_counts = np.unique(y_train, return_counts=True)\n",
    "    samp_strat = dict(zip(unique_classes, np.floor(class_counts * undersampling).astype(int)))\n",
    "    print(samp_strat)\n",
    "    cc = ClusterCentroids(estimator=KMedoids(\n",
    "        random_state=42), sampling_strategy=samp_strat, random_state=42)\n",
    "    X_train, y_train = cc.fit_resample(X_train, y_train)\n",
    "    X_train.shape"
   ]
  },
  {
   "cell_type": "code",
   "execution_count": 65,
   "id": "e7ac6b44",
   "metadata": {
    "execution": {
     "iopub.execute_input": "2023-03-10T12:06:39.082098Z",
     "iopub.status.busy": "2023-03-10T12:06:39.080342Z",
     "iopub.status.idle": "2023-03-10T12:06:39.170346Z",
     "shell.execute_reply": "2023-03-10T12:06:39.165668Z"
    },
    "papermill": {
     "duration": 0.233015,
     "end_time": "2023-03-10T12:06:39.180628",
     "exception": false,
     "start_time": "2023-03-10T12:06:38.947613",
     "status": "completed"
    },
    "tags": []
   },
   "outputs": [
    {
     "data": {
      "text/html": [
       "<style>#sk-container-id-9 {color: black;background-color: white;}#sk-container-id-9 pre{padding: 0;}#sk-container-id-9 div.sk-toggleable {background-color: white;}#sk-container-id-9 label.sk-toggleable__label {cursor: pointer;display: block;width: 100%;margin-bottom: 0;padding: 0.3em;box-sizing: border-box;text-align: center;}#sk-container-id-9 label.sk-toggleable__label-arrow:before {content: \"▸\";float: left;margin-right: 0.25em;color: #696969;}#sk-container-id-9 label.sk-toggleable__label-arrow:hover:before {color: black;}#sk-container-id-9 div.sk-estimator:hover label.sk-toggleable__label-arrow:before {color: black;}#sk-container-id-9 div.sk-toggleable__content {max-height: 0;max-width: 0;overflow: hidden;text-align: left;background-color: #f0f8ff;}#sk-container-id-9 div.sk-toggleable__content pre {margin: 0.2em;color: black;border-radius: 0.25em;background-color: #f0f8ff;}#sk-container-id-9 input.sk-toggleable__control:checked~div.sk-toggleable__content {max-height: 200px;max-width: 100%;overflow: auto;}#sk-container-id-9 input.sk-toggleable__control:checked~label.sk-toggleable__label-arrow:before {content: \"▾\";}#sk-container-id-9 div.sk-estimator input.sk-toggleable__control:checked~label.sk-toggleable__label {background-color: #d4ebff;}#sk-container-id-9 div.sk-label input.sk-toggleable__control:checked~label.sk-toggleable__label {background-color: #d4ebff;}#sk-container-id-9 input.sk-hidden--visually {border: 0;clip: rect(1px 1px 1px 1px);clip: rect(1px, 1px, 1px, 1px);height: 1px;margin: -1px;overflow: hidden;padding: 0;position: absolute;width: 1px;}#sk-container-id-9 div.sk-estimator {font-family: monospace;background-color: #f0f8ff;border: 1px dotted black;border-radius: 0.25em;box-sizing: border-box;margin-bottom: 0.5em;}#sk-container-id-9 div.sk-estimator:hover {background-color: #d4ebff;}#sk-container-id-9 div.sk-parallel-item::after {content: \"\";width: 100%;border-bottom: 1px solid gray;flex-grow: 1;}#sk-container-id-9 div.sk-label:hover label.sk-toggleable__label {background-color: #d4ebff;}#sk-container-id-9 div.sk-serial::before {content: \"\";position: absolute;border-left: 1px solid gray;box-sizing: border-box;top: 0;bottom: 0;left: 50%;z-index: 0;}#sk-container-id-9 div.sk-serial {display: flex;flex-direction: column;align-items: center;background-color: white;padding-right: 0.2em;padding-left: 0.2em;position: relative;}#sk-container-id-9 div.sk-item {position: relative;z-index: 1;}#sk-container-id-9 div.sk-parallel {display: flex;align-items: stretch;justify-content: center;background-color: white;position: relative;}#sk-container-id-9 div.sk-item::before, #sk-container-id-9 div.sk-parallel-item::before {content: \"\";position: absolute;border-left: 1px solid gray;box-sizing: border-box;top: 0;bottom: 0;left: 50%;z-index: -1;}#sk-container-id-9 div.sk-parallel-item {display: flex;flex-direction: column;z-index: 1;position: relative;background-color: white;}#sk-container-id-9 div.sk-parallel-item:first-child::after {align-self: flex-end;width: 50%;}#sk-container-id-9 div.sk-parallel-item:last-child::after {align-self: flex-start;width: 50%;}#sk-container-id-9 div.sk-parallel-item:only-child::after {width: 0;}#sk-container-id-9 div.sk-dashed-wrapped {border: 1px dashed gray;margin: 0 0.4em 0.5em 0.4em;box-sizing: border-box;padding-bottom: 0.4em;background-color: white;}#sk-container-id-9 div.sk-label label {font-family: monospace;font-weight: bold;display: inline-block;line-height: 1.2em;}#sk-container-id-9 div.sk-label-container {text-align: center;}#sk-container-id-9 div.sk-container {/* jupyter's `normalize.less` sets `[hidden] { display: none; }` but bootstrap.min.css set `[hidden] { display: none !important; }` so we also need the `!important` here to be able to override the default hidden behavior on the sphinx rendered scikit-learn.org. See: https://github.com/scikit-learn/scikit-learn/issues/21755 */display: inline-block !important;position: relative;}#sk-container-id-9 div.sk-text-repr-fallback {display: none;}</style><div id=\"sk-container-id-9\" class=\"sk-top-container\"><div class=\"sk-text-repr-fallback\"><pre>KNeighborsClassifier(metric=&#x27;dtw_sakoechiba&#x27;, metric_params={&#x27;window_size&#x27;: 3})</pre><b>In a Jupyter environment, please rerun this cell to show the HTML representation or trust the notebook. <br />On GitHub, the HTML representation is unable to render, please try loading this page with nbviewer.org.</b></div><div class=\"sk-container\" hidden><div class=\"sk-item\"><div class=\"sk-estimator sk-toggleable\"><input class=\"sk-toggleable__control sk-hidden--visually\" id=\"sk-estimator-id-9\" type=\"checkbox\" checked><label for=\"sk-estimator-id-9\" class=\"sk-toggleable__label sk-toggleable__label-arrow\">KNeighborsClassifier</label><div class=\"sk-toggleable__content\"><pre>KNeighborsClassifier(metric=&#x27;dtw_sakoechiba&#x27;, metric_params={&#x27;window_size&#x27;: 3})</pre></div></div></div></div></div>"
      ],
      "text/plain": [
       "KNeighborsClassifier(metric='dtw_sakoechiba', metric_params={'window_size': 3})"
      ]
     },
     "execution_count": 65,
     "metadata": {},
     "output_type": "execute_result"
    }
   ],
   "source": [
    "clf = KNeighborsClassifier(metric='dtw_sakoechiba',  metric_params={'window_size':3})\n",
    "\n",
    "clf.fit(X_train, y_train)"
   ]
  },
  {
   "cell_type": "code",
   "execution_count": 66,
   "id": "8109d19d",
   "metadata": {
    "execution": {
     "iopub.execute_input": "2023-03-10T12:06:39.449222Z",
     "iopub.status.busy": "2023-03-10T12:06:39.447396Z",
     "iopub.status.idle": "2023-03-10T14:55:43.173466Z",
     "shell.execute_reply": "2023-03-10T14:55:43.171921Z"
    },
    "papermill": {
     "duration": 10143.903942,
     "end_time": "2023-03-10T14:55:43.215948",
     "exception": false,
     "start_time": "2023-03-10T12:06:39.312006",
     "status": "completed"
    },
    "tags": []
   },
   "outputs": [
    {
     "name": "stdout",
     "output_type": "stream",
     "text": [
      "              precision    recall  f1-score   support\n",
      "\n",
      "         pop       0.46      0.49      0.47      2400\n",
      "         rap       0.52      0.63      0.57      2376\n",
      "        rock       0.46      0.33      0.39      2424\n",
      "\n",
      "    accuracy                           0.48      7200\n",
      "   macro avg       0.48      0.48      0.48      7200\n",
      "weighted avg       0.48      0.48      0.48      7200\n",
      "\n",
      "CPU times: user 2h 49min 5s, sys: 11.1 ms, total: 2h 49min 5s\n",
      "Wall time: 2h 49min 3s\n"
     ]
    }
   ],
   "source": [
    "%%time\n",
    "y_pred = clf.predict(X_test)\n",
    "print(classification_report(y_test, y_pred))"
   ]
  },
  {
   "cell_type": "code",
   "execution_count": 67,
   "id": "b09f5cdf",
   "metadata": {
    "execution": {
     "iopub.execute_input": "2023-03-10T14:55:43.274705Z",
     "iopub.status.busy": "2023-03-10T14:55:43.273676Z",
     "iopub.status.idle": "2023-03-10T14:55:43.384628Z",
     "shell.execute_reply": "2023-03-10T14:55:43.383972Z"
    },
    "papermill": {
     "duration": 0.129558,
     "end_time": "2023-03-10T14:55:43.386750",
     "exception": false,
     "start_time": "2023-03-10T14:55:43.257192",
     "status": "completed"
    },
    "tags": []
   },
   "outputs": [],
   "source": [
    "acc = accuracy_score(y_test, y_pred)\n",
    "pre = precision_score(y_test, y_pred, average=avg_par)\n",
    "rec = recall_score(y_test, y_pred, average=avg_par)\n",
    "f1 = f1_score(y_test, y_pred, average=avg_par)\n",
    "\n",
    "metrics_data['KNN']['DTW'] = {'Accuracy': acc, 'Precision': pre, 'Recall': rec, 'F1': f1}"
   ]
  },
  {
   "cell_type": "markdown",
   "id": "e0e700a7",
   "metadata": {
    "papermill": {
     "duration": 0.014726,
     "end_time": "2023-03-10T14:55:43.419469",
     "exception": false,
     "start_time": "2023-03-10T14:55:43.404743",
     "status": "completed"
    },
    "tags": []
   },
   "source": [
    "## Overall Results"
   ]
  },
  {
   "cell_type": "code",
   "execution_count": 68,
   "id": "d003c193",
   "metadata": {
    "execution": {
     "iopub.execute_input": "2023-03-10T14:55:43.451157Z",
     "iopub.status.busy": "2023-03-10T14:55:43.450478Z",
     "iopub.status.idle": "2023-03-10T14:55:43.462301Z",
     "shell.execute_reply": "2023-03-10T14:55:43.460714Z"
    },
    "papermill": {
     "duration": 0.029948,
     "end_time": "2023-03-10T14:55:43.464343",
     "exception": false,
     "start_time": "2023-03-10T14:55:43.434395",
     "status": "completed"
    },
    "tags": []
   },
   "outputs": [],
   "source": [
    "metrics_data = pd.DataFrame.from_dict({(i,j): metrics_data[i][j] \n",
    "                                       for i in metrics_data.keys() \n",
    "                                       for j in metrics_data[i].keys()},\n",
    "                                       orient='index')"
   ]
  },
  {
   "cell_type": "code",
   "execution_count": 69,
   "id": "0944fe84",
   "metadata": {
    "execution": {
     "iopub.execute_input": "2023-03-10T14:55:43.497162Z",
     "iopub.status.busy": "2023-03-10T14:55:43.496426Z",
     "iopub.status.idle": "2023-03-10T14:55:43.655305Z",
     "shell.execute_reply": "2023-03-10T14:55:43.654660Z"
    },
    "papermill": {
     "duration": 0.177847,
     "end_time": "2023-03-10T14:55:43.658219",
     "exception": false,
     "start_time": "2023-03-10T14:55:43.480372",
     "status": "completed"
    },
    "tags": []
   },
   "outputs": [],
   "source": [
    "acc = accuracy_score(y_test, y_pred)\n",
    "pre = precision_score(y_test, y_pred, average=avg_par)\n",
    "rec = recall_score(y_test, y_pred, average=avg_par)\n",
    "f1 = f1_score(y_test, y_pred, average=avg_par)"
   ]
  },
  {
   "cell_type": "code",
   "execution_count": 70,
   "id": "7ee1b347",
   "metadata": {
    "execution": {
     "iopub.execute_input": "2023-03-10T14:55:43.742243Z",
     "iopub.status.busy": "2023-03-10T14:55:43.741904Z",
     "iopub.status.idle": "2023-03-10T14:55:43.754537Z",
     "shell.execute_reply": "2023-03-10T14:55:43.753241Z"
    },
    "papermill": {
     "duration": 0.05676,
     "end_time": "2023-03-10T14:55:43.756627",
     "exception": false,
     "start_time": "2023-03-10T14:55:43.699867",
     "status": "completed"
    },
    "tags": []
   },
   "outputs": [
    {
     "data": {
      "text/html": [
       "<div>\n",
       "<style scoped>\n",
       "    .dataframe tbody tr th:only-of-type {\n",
       "        vertical-align: middle;\n",
       "    }\n",
       "\n",
       "    .dataframe tbody tr th {\n",
       "        vertical-align: top;\n",
       "    }\n",
       "\n",
       "    .dataframe thead th {\n",
       "        text-align: right;\n",
       "    }\n",
       "</style>\n",
       "<table border=\"1\" class=\"dataframe\">\n",
       "  <thead>\n",
       "    <tr style=\"text-align: right;\">\n",
       "      <th></th>\n",
       "      <th></th>\n",
       "      <th>Accuracy</th>\n",
       "      <th>Precision</th>\n",
       "      <th>Recall</th>\n",
       "      <th>F1</th>\n",
       "    </tr>\n",
       "  </thead>\n",
       "  <tbody>\n",
       "    <tr>\n",
       "      <th rowspan=\"3\" valign=\"top\">Global</th>\n",
       "      <th>DecisionTree</th>\n",
       "      <td>0.496667</td>\n",
       "      <td>0.496515</td>\n",
       "      <td>0.497315</td>\n",
       "      <td>0.496882</td>\n",
       "    </tr>\n",
       "    <tr>\n",
       "      <th>RandomForest</th>\n",
       "      <td>0.568194</td>\n",
       "      <td>0.566033</td>\n",
       "      <td>0.569109</td>\n",
       "      <td>0.567092</td>\n",
       "    </tr>\n",
       "    <tr>\n",
       "      <th>LightGBM</th>\n",
       "      <td>0.586111</td>\n",
       "      <td>0.583799</td>\n",
       "      <td>0.587072</td>\n",
       "      <td>0.584452</td>\n",
       "    </tr>\n",
       "    <tr>\n",
       "      <th rowspan=\"3\" valign=\"top\">Shapelets</th>\n",
       "      <th>DecisionTree</th>\n",
       "      <td>0.505556</td>\n",
       "      <td>0.506284</td>\n",
       "      <td>0.506147</td>\n",
       "      <td>0.506146</td>\n",
       "    </tr>\n",
       "    <tr>\n",
       "      <th>RandomForest</th>\n",
       "      <td>0.606806</td>\n",
       "      <td>0.604990</td>\n",
       "      <td>0.607578</td>\n",
       "      <td>0.606029</td>\n",
       "    </tr>\n",
       "    <tr>\n",
       "      <th>LightGBM</th>\n",
       "      <td>0.607083</td>\n",
       "      <td>0.605043</td>\n",
       "      <td>0.607816</td>\n",
       "      <td>0.606241</td>\n",
       "    </tr>\n",
       "    <tr>\n",
       "      <th rowspan=\"2\" valign=\"top\">KNN</th>\n",
       "      <th>Euclidean</th>\n",
       "      <td>0.363333</td>\n",
       "      <td>0.440943</td>\n",
       "      <td>0.361201</td>\n",
       "      <td>0.299780</td>\n",
       "    </tr>\n",
       "    <tr>\n",
       "      <th>DTW</th>\n",
       "      <td>0.483194</td>\n",
       "      <td>0.479644</td>\n",
       "      <td>0.484200</td>\n",
       "      <td>0.476078</td>\n",
       "    </tr>\n",
       "  </tbody>\n",
       "</table>\n",
       "</div>"
      ],
      "text/plain": [
       "                        Accuracy  Precision    Recall        F1\n",
       "Global    DecisionTree  0.496667   0.496515  0.497315  0.496882\n",
       "          RandomForest  0.568194   0.566033  0.569109  0.567092\n",
       "          LightGBM      0.586111   0.583799  0.587072  0.584452\n",
       "Shapelets DecisionTree  0.505556   0.506284  0.506147  0.506146\n",
       "          RandomForest  0.606806   0.604990  0.607578  0.606029\n",
       "          LightGBM      0.607083   0.605043  0.607816  0.606241\n",
       "KNN       Euclidean     0.363333   0.440943  0.361201  0.299780\n",
       "          DTW           0.483194   0.479644  0.484200  0.476078"
      ]
     },
     "execution_count": 70,
     "metadata": {},
     "output_type": "execute_result"
    }
   ],
   "source": [
    "metrics_data"
   ]
  },
  {
   "cell_type": "code",
   "execution_count": 71,
   "id": "3efc173e",
   "metadata": {
    "execution": {
     "iopub.execute_input": "2023-03-10T14:55:43.789384Z",
     "iopub.status.busy": "2023-03-10T14:55:43.788805Z",
     "iopub.status.idle": "2023-03-10T14:55:43.799750Z",
     "shell.execute_reply": "2023-03-10T14:55:43.798185Z"
    },
    "papermill": {
     "duration": 0.029672,
     "end_time": "2023-03-10T14:55:43.801929",
     "exception": false,
     "start_time": "2023-03-10T14:55:43.772257",
     "status": "completed"
    },
    "tags": []
   },
   "outputs": [],
   "source": [
    "metrics_data.to_csv(f'{data_path}/metrics.csv')"
   ]
  },
  {
   "cell_type": "code",
   "execution_count": null,
   "id": "d21f5304",
   "metadata": {
    "papermill": {
     "duration": 0.014848,
     "end_time": "2023-03-10T14:55:43.833162",
     "exception": false,
     "start_time": "2023-03-10T14:55:43.818314",
     "status": "completed"
    },
    "tags": []
   },
   "outputs": [],
   "source": []
  }
 ],
 "metadata": {
  "celltoolbar": "Tags",
  "kernelspec": {
   "display_name": "Python 3 (ipykernel)",
   "language": "python",
   "name": "python3"
  },
  "language_info": {
   "codemirror_mode": {
    "name": "ipython",
    "version": 3
   },
   "file_extension": ".py",
   "mimetype": "text/x-python",
   "name": "python",
   "nbconvert_exporter": "python",
   "pygments_lexer": "ipython3",
   "version": "3.9.16"
  },
  "papermill": {
   "default_parameters": {},
   "duration": 12591.953139,
   "end_time": "2023-03-10T14:55:47.048146",
   "environment_variables": {},
   "exception": null,
   "input_path": "09_ts_classification.ipynb",
   "output_path": "../clf-reports/pp-rc-rp_sentiment.ipynb",
   "parameters": {
    "data_path": "/home/mattiapggioli/lyrics2ts/data/classification/pp-rc-rp/sentiment/",
    "paa_window_size": 20,
    "undersampling": 0.3
   },
   "start_time": "2023-03-10T11:25:55.095007",
   "version": "2.4.0"
  },
  "vscode": {
   "interpreter": {
    "hash": "eb8d1ded7c87c6f9c253b40add648304d6b51d2e38393955e855effc7e6f899a"
   }
  }
 },
 "nbformat": 4,
 "nbformat_minor": 5
}