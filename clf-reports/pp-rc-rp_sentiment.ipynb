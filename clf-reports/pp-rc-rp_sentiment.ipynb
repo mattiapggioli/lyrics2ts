{
 "cells": [
  {
   "cell_type": "markdown",
   "id": "d79a68c5",
   "metadata": {
    "papermill": {
     "duration": 0.02084,
     "end_time": "2023-03-20T22:42:53.119417",
     "exception": false,
     "start_time": "2023-03-20T22:42:53.098577",
     "status": "completed"
    },
    "tags": []
   },
   "source": [
    "# Time Series Classification"
   ]
  },
  {
   "cell_type": "code",
   "execution_count": 1,
   "id": "8a0cb2b0",
   "metadata": {
    "execution": {
     "iopub.execute_input": "2023-03-20T22:42:53.151119Z",
     "iopub.status.busy": "2023-03-20T22:42:53.150332Z",
     "iopub.status.idle": "2023-03-20T22:42:55.054059Z",
     "shell.execute_reply": "2023-03-20T22:42:55.053057Z"
    },
    "papermill": {
     "duration": 1.922572,
     "end_time": "2023-03-20T22:42:55.056699",
     "exception": false,
     "start_time": "2023-03-20T22:42:53.134127",
     "status": "completed"
    },
    "tags": []
   },
   "outputs": [],
   "source": [
    "%matplotlib inline\n",
    "import pandas as pd\n",
    "import numpy as np\n",
    "import matplotlib.pyplot as plt\n",
    "import seaborn as sns\n",
    "import re\n",
    "import os\n",
    "from sklearn.preprocessing import StandardScaler\n",
    "from sklearn.decomposition import PCA\n",
    "import joblib\n",
    "from tslearn.utils import to_time_series_dataset, save_time_series_txt, load_time_series_txt\n",
    "import random\n",
    "from sklearn.model_selection import train_test_split\n",
    "from sklearn.metrics import accuracy_score, f1_score, precision_score, recall_score, classification_report\n",
    "import pickle"
   ]
  },
  {
   "cell_type": "code",
   "execution_count": 2,
   "id": "acc03405",
   "metadata": {
    "execution": {
     "iopub.execute_input": "2023-03-20T22:42:55.084017Z",
     "iopub.status.busy": "2023-03-20T22:42:55.083522Z",
     "iopub.status.idle": "2023-03-20T22:42:55.088182Z",
     "shell.execute_reply": "2023-03-20T22:42:55.087317Z"
    },
    "papermill": {
     "duration": 0.020108,
     "end_time": "2023-03-20T22:42:55.091145",
     "exception": false,
     "start_time": "2023-03-20T22:42:55.071037",
     "status": "completed"
    },
    "tags": [
     "parameters"
    ]
   },
   "outputs": [],
   "source": [
    "data_path = '/home/mattiapggioli/lyrics2ts/data/classification/pp-rc/sbert/'\n",
    "truncate=100\n",
    "max_iter = 2000\n",
    "paa_window_size = None\n",
    "undersampling = None"
   ]
  },
  {
   "cell_type": "code",
   "execution_count": 3,
   "id": "5f772a49",
   "metadata": {
    "execution": {
     "iopub.execute_input": "2023-03-20T22:42:55.127665Z",
     "iopub.status.busy": "2023-03-20T22:42:55.126969Z",
     "iopub.status.idle": "2023-03-20T22:42:55.133478Z",
     "shell.execute_reply": "2023-03-20T22:42:55.132034Z"
    },
    "papermill": {
     "duration": 0.022369,
     "end_time": "2023-03-20T22:42:55.135334",
     "exception": false,
     "start_time": "2023-03-20T22:42:55.112965",
     "status": "completed"
    },
    "tags": [
     "injected-parameters"
    ]
   },
   "outputs": [],
   "source": [
    "# Parameters\n",
    "data_path = \"/home/mattiapggioli/lyrics2ts/data/classification/pp-rc-rp/sentiment/\"\n",
    "paa_window_size = 20\n",
    "undersampling = 0.3\n"
   ]
  },
  {
   "cell_type": "code",
   "execution_count": 4,
   "id": "a4f0c774",
   "metadata": {
    "execution": {
     "iopub.execute_input": "2023-03-20T22:42:55.161130Z",
     "iopub.status.busy": "2023-03-20T22:42:55.160236Z",
     "iopub.status.idle": "2023-03-20T22:43:21.254570Z",
     "shell.execute_reply": "2023-03-20T22:43:21.253593Z"
    },
    "papermill": {
     "duration": 26.110397,
     "end_time": "2023-03-20T22:43:21.257955",
     "exception": false,
     "start_time": "2023-03-20T22:42:55.147558",
     "status": "completed"
    },
    "tags": []
   },
   "outputs": [],
   "source": [
    "ts = load_time_series_txt(f'{data_path}/ts.txt')"
   ]
  },
  {
   "cell_type": "code",
   "execution_count": 5,
   "id": "5c48d154",
   "metadata": {
    "execution": {
     "iopub.execute_input": "2023-03-20T22:43:21.320159Z",
     "iopub.status.busy": "2023-03-20T22:43:21.319498Z",
     "iopub.status.idle": "2023-03-20T22:43:21.330114Z",
     "shell.execute_reply": "2023-03-20T22:43:21.328741Z"
    },
    "papermill": {
     "duration": 0.043369,
     "end_time": "2023-03-20T22:43:21.332888",
     "exception": false,
     "start_time": "2023-03-20T22:43:21.289519",
     "status": "completed"
    },
    "tags": []
   },
   "outputs": [
    {
     "data": {
      "text/plain": [
       "(36000, 130, 1)"
      ]
     },
     "execution_count": 5,
     "metadata": {},
     "output_type": "execute_result"
    }
   ],
   "source": [
    "ts.shape"
   ]
  },
  {
   "cell_type": "code",
   "execution_count": 6,
   "id": "f6274d40",
   "metadata": {
    "execution": {
     "iopub.execute_input": "2023-03-20T22:43:21.364915Z",
     "iopub.status.busy": "2023-03-20T22:43:21.364247Z",
     "iopub.status.idle": "2023-03-20T22:43:21.372883Z",
     "shell.execute_reply": "2023-03-20T22:43:21.372090Z"
    },
    "papermill": {
     "duration": 0.028229,
     "end_time": "2023-03-20T22:43:21.375421",
     "exception": false,
     "start_time": "2023-03-20T22:43:21.347192",
     "status": "completed"
    },
    "tags": []
   },
   "outputs": [],
   "source": [
    "with open(f'{data_path}/y_class.npy', 'rb') as f:\n",
    "    y = np.load(f, allow_pickle=True)"
   ]
  },
  {
   "cell_type": "code",
   "execution_count": 7,
   "id": "9d42fa3b",
   "metadata": {
    "execution": {
     "iopub.execute_input": "2023-03-20T22:43:21.408377Z",
     "iopub.status.busy": "2023-03-20T22:43:21.407545Z",
     "iopub.status.idle": "2023-03-20T22:43:21.418502Z",
     "shell.execute_reply": "2023-03-20T22:43:21.417049Z"
    },
    "papermill": {
     "duration": 0.029451,
     "end_time": "2023-03-20T22:43:21.420655",
     "exception": false,
     "start_time": "2023-03-20T22:43:21.391204",
     "status": "completed"
    },
    "tags": []
   },
   "outputs": [],
   "source": [
    "with open(f'{data_path}/X.npy', 'rb') as f:\n",
    "    X = np.load(f, allow_pickle=True)"
   ]
  },
  {
   "cell_type": "code",
   "execution_count": 8,
   "id": "1158a9da",
   "metadata": {
    "execution": {
     "iopub.execute_input": "2023-03-20T22:43:21.452641Z",
     "iopub.status.busy": "2023-03-20T22:43:21.451715Z",
     "iopub.status.idle": "2023-03-20T22:43:21.458963Z",
     "shell.execute_reply": "2023-03-20T22:43:21.457840Z"
    },
    "papermill": {
     "duration": 0.025373,
     "end_time": "2023-03-20T22:43:21.461258",
     "exception": false,
     "start_time": "2023-03-20T22:43:21.435885",
     "status": "completed"
    },
    "tags": []
   },
   "outputs": [
    {
     "data": {
      "text/plain": [
       "(36000, 6)"
      ]
     },
     "execution_count": 8,
     "metadata": {},
     "output_type": "execute_result"
    }
   ],
   "source": [
    "X.shape"
   ]
  },
  {
   "cell_type": "code",
   "execution_count": 9,
   "id": "47239790",
   "metadata": {
    "execution": {
     "iopub.execute_input": "2023-03-20T22:43:21.487080Z",
     "iopub.status.busy": "2023-03-20T22:43:21.486787Z",
     "iopub.status.idle": "2023-03-20T22:43:21.493151Z",
     "shell.execute_reply": "2023-03-20T22:43:21.492044Z"
    },
    "papermill": {
     "duration": 0.023284,
     "end_time": "2023-03-20T22:43:21.496885",
     "exception": false,
     "start_time": "2023-03-20T22:43:21.473601",
     "status": "completed"
    },
    "tags": []
   },
   "outputs": [
    {
     "data": {
      "text/plain": [
       "{'pop', 'rap', 'rock'}"
      ]
     },
     "execution_count": 9,
     "metadata": {},
     "output_type": "execute_result"
    }
   ],
   "source": [
    "set(y)"
   ]
  },
  {
   "cell_type": "code",
   "execution_count": 10,
   "id": "37609992",
   "metadata": {
    "execution": {
     "iopub.execute_input": "2023-03-20T22:43:21.532598Z",
     "iopub.status.busy": "2023-03-20T22:43:21.532233Z",
     "iopub.status.idle": "2023-03-20T22:43:21.573789Z",
     "shell.execute_reply": "2023-03-20T22:43:21.573008Z"
    },
    "papermill": {
     "duration": 0.059756,
     "end_time": "2023-03-20T22:43:21.575861",
     "exception": false,
     "start_time": "2023-03-20T22:43:21.516105",
     "status": "completed"
    },
    "tags": []
   },
   "outputs": [],
   "source": [
    "ts_train, ts_test, y_train, y_test = train_test_split(\n",
    "    ts, y, test_size=0.20, random_state=42, stratify=y)"
   ]
  },
  {
   "cell_type": "code",
   "execution_count": 11,
   "id": "34508fe4",
   "metadata": {
    "execution": {
     "iopub.execute_input": "2023-03-20T22:43:21.602701Z",
     "iopub.status.busy": "2023-03-20T22:43:21.602426Z",
     "iopub.status.idle": "2023-03-20T22:43:21.630095Z",
     "shell.execute_reply": "2023-03-20T22:43:21.629242Z"
    },
    "papermill": {
     "duration": 0.04497,
     "end_time": "2023-03-20T22:43:21.632598",
     "exception": false,
     "start_time": "2023-03-20T22:43:21.587628",
     "status": "completed"
    },
    "tags": []
   },
   "outputs": [],
   "source": [
    "X_train, X_test, y_train, y_test = train_test_split(\n",
    "    X, y, test_size=0.20, random_state=42, stratify=y)"
   ]
  },
  {
   "cell_type": "code",
   "execution_count": 12,
   "id": "076afac9",
   "metadata": {
    "execution": {
     "iopub.execute_input": "2023-03-20T22:43:21.661717Z",
     "iopub.status.busy": "2023-03-20T22:43:21.660968Z",
     "iopub.status.idle": "2023-03-20T22:43:21.676237Z",
     "shell.execute_reply": "2023-03-20T22:43:21.674696Z"
    },
    "papermill": {
     "duration": 0.031359,
     "end_time": "2023-03-20T22:43:21.679240",
     "exception": false,
     "start_time": "2023-03-20T22:43:21.647881",
     "status": "completed"
    },
    "tags": []
   },
   "outputs": [
    {
     "data": {
      "text/plain": [
       "array([[-0.8074],\n",
       "       [-0.5994],\n",
       "       [ 0.5719],\n",
       "       [ 0.    ],\n",
       "       [ 0.431 ],\n",
       "       [-0.1779],\n",
       "       [ 0.2235],\n",
       "       [ 0.    ],\n",
       "       [-0.7184],\n",
       "       [ 0.0772],\n",
       "       [ 0.2287],\n",
       "       [ 0.296 ],\n",
       "       [ 0.2732],\n",
       "       [ 0.    ],\n",
       "       [ 0.7579],\n",
       "       [ 0.    ],\n",
       "       [ 0.    ],\n",
       "       [ 0.4404],\n",
       "       [ 0.    ],\n",
       "       [ 0.4019],\n",
       "       [ 0.5984],\n",
       "       [ 0.    ],\n",
       "       [ 0.    ],\n",
       "       [ 0.    ],\n",
       "       [ 0.    ],\n",
       "       [ 0.    ],\n",
       "       [ 0.    ],\n",
       "       [ 0.    ],\n",
       "       [-0.2411],\n",
       "       [-0.4215],\n",
       "       [-0.2263],\n",
       "       [ 0.    ],\n",
       "       [ 0.    ],\n",
       "       [ 0.    ],\n",
       "       [ 0.0258],\n",
       "       [ 0.7004],\n",
       "       [-0.101 ],\n",
       "       [ 0.2023],\n",
       "       [    nan],\n",
       "       [    nan],\n",
       "       [    nan],\n",
       "       [    nan],\n",
       "       [    nan],\n",
       "       [    nan],\n",
       "       [    nan],\n",
       "       [    nan],\n",
       "       [    nan],\n",
       "       [    nan],\n",
       "       [    nan],\n",
       "       [    nan],\n",
       "       [    nan],\n",
       "       [    nan],\n",
       "       [    nan],\n",
       "       [    nan],\n",
       "       [    nan],\n",
       "       [    nan],\n",
       "       [    nan],\n",
       "       [    nan],\n",
       "       [    nan],\n",
       "       [    nan],\n",
       "       [    nan],\n",
       "       [    nan],\n",
       "       [    nan],\n",
       "       [    nan],\n",
       "       [    nan],\n",
       "       [    nan],\n",
       "       [    nan],\n",
       "       [    nan],\n",
       "       [    nan],\n",
       "       [    nan],\n",
       "       [    nan],\n",
       "       [    nan],\n",
       "       [    nan],\n",
       "       [    nan],\n",
       "       [    nan],\n",
       "       [    nan],\n",
       "       [    nan],\n",
       "       [    nan],\n",
       "       [    nan],\n",
       "       [    nan],\n",
       "       [    nan],\n",
       "       [    nan],\n",
       "       [    nan],\n",
       "       [    nan],\n",
       "       [    nan],\n",
       "       [    nan],\n",
       "       [    nan],\n",
       "       [    nan],\n",
       "       [    nan],\n",
       "       [    nan],\n",
       "       [    nan],\n",
       "       [    nan],\n",
       "       [    nan],\n",
       "       [    nan],\n",
       "       [    nan],\n",
       "       [    nan],\n",
       "       [    nan],\n",
       "       [    nan],\n",
       "       [    nan],\n",
       "       [    nan],\n",
       "       [    nan],\n",
       "       [    nan],\n",
       "       [    nan],\n",
       "       [    nan],\n",
       "       [    nan],\n",
       "       [    nan],\n",
       "       [    nan],\n",
       "       [    nan],\n",
       "       [    nan],\n",
       "       [    nan],\n",
       "       [    nan],\n",
       "       [    nan],\n",
       "       [    nan],\n",
       "       [    nan],\n",
       "       [    nan],\n",
       "       [    nan],\n",
       "       [    nan],\n",
       "       [    nan],\n",
       "       [    nan],\n",
       "       [    nan],\n",
       "       [    nan],\n",
       "       [    nan],\n",
       "       [    nan],\n",
       "       [    nan],\n",
       "       [    nan],\n",
       "       [    nan],\n",
       "       [    nan],\n",
       "       [    nan],\n",
       "       [    nan],\n",
       "       [    nan]])"
      ]
     },
     "execution_count": 12,
     "metadata": {},
     "output_type": "execute_result"
    }
   ],
   "source": [
    "random.choice(ts_train)"
   ]
  },
  {
   "cell_type": "code",
   "execution_count": 13,
   "id": "ca66457a",
   "metadata": {
    "execution": {
     "iopub.execute_input": "2023-03-20T22:43:21.706899Z",
     "iopub.status.busy": "2023-03-20T22:43:21.706524Z",
     "iopub.status.idle": "2023-03-20T22:43:22.322155Z",
     "shell.execute_reply": "2023-03-20T22:43:22.321299Z"
    },
    "papermill": {
     "duration": 0.634201,
     "end_time": "2023-03-20T22:43:22.326933",
     "exception": false,
     "start_time": "2023-03-20T22:43:21.692732",
     "status": "completed"
    },
    "tags": []
   },
   "outputs": [
    {
     "data": {
      "text/plain": [
       "<AxesSubplot:ylabel='Count'>"
      ]
     },
     "execution_count": 13,
     "metadata": {},
     "output_type": "execute_result"
    },
    {
     "data": {
      "image/png": "[encoded data removed]",
      "text/plain": [
       "<Figure size 640x480 with 1 Axes>"
      ]
     },
     "metadata": {},
     "output_type": "display_data"
    }
   ],
   "source": [
    "sns.histplot([t[~np.any(np.isnan(t), axis=1)].shape[0] for t in ts_train])"
   ]
  },
  {
   "cell_type": "code",
   "execution_count": 14,
   "id": "c2ae286f",
   "metadata": {
    "execution": {
     "iopub.execute_input": "2023-03-20T22:43:22.394708Z",
     "iopub.status.busy": "2023-03-20T22:43:22.393332Z",
     "iopub.status.idle": "2023-03-20T22:43:22.401160Z",
     "shell.execute_reply": "2023-03-20T22:43:22.399873Z"
    },
    "papermill": {
     "duration": 0.045655,
     "end_time": "2023-03-20T22:43:22.404305",
     "exception": false,
     "start_time": "2023-03-20T22:43:22.358650",
     "status": "completed"
    },
    "tags": []
   },
   "outputs": [],
   "source": [
    "ts_train = ts_train[:, :truncate, :]\n",
    "ts_test = ts_test[:, :truncate, :]"
   ]
  },
  {
   "cell_type": "code",
   "execution_count": 15,
   "id": "3218baa4",
   "metadata": {
    "execution": {
     "iopub.execute_input": "2023-03-20T22:43:22.442736Z",
     "iopub.status.busy": "2023-03-20T22:43:22.441676Z",
     "iopub.status.idle": "2023-03-20T22:43:22.566792Z",
     "shell.execute_reply": "2023-03-20T22:43:22.565774Z"
    },
    "papermill": {
     "duration": 0.14919,
     "end_time": "2023-03-20T22:43:22.570195",
     "exception": false,
     "start_time": "2023-03-20T22:43:22.421005",
     "status": "completed"
    },
    "tags": []
   },
   "outputs": [],
   "source": [
    "mean_arr = np.nanmean(ts_train, axis=1, keepdims=True)\n",
    "nan_indices = np.isnan(ts_train)\n",
    "ts_train[nan_indices] = np.take(mean_arr, np.nonzero(nan_indices)[0])\n",
    "\n",
    "mean_arr = np.nanmean(ts_test, axis=1, keepdims=True)\n",
    "nan_indices = np.isnan(ts_test)\n",
    "ts_test[nan_indices] = np.take(mean_arr, np.nonzero(nan_indices)[0])"
   ]
  },
  {
   "cell_type": "code",
   "execution_count": 16,
   "id": "d369691b",
   "metadata": {
    "execution": {
     "iopub.execute_input": "2023-03-20T22:43:22.609034Z",
     "iopub.status.busy": "2023-03-20T22:43:22.608477Z",
     "iopub.status.idle": "2023-03-20T22:43:22.615246Z",
     "shell.execute_reply": "2023-03-20T22:43:22.614236Z"
    },
    "papermill": {
     "duration": 0.028053,
     "end_time": "2023-03-20T22:43:22.617456",
     "exception": false,
     "start_time": "2023-03-20T22:43:22.589403",
     "status": "completed"
    },
    "tags": []
   },
   "outputs": [
    {
     "data": {
      "text/plain": [
       "44"
      ]
     },
     "execution_count": 16,
     "metadata": {},
     "output_type": "execute_result"
    }
   ],
   "source": [
    "np.count_nonzero(np.isnan(X_train))"
   ]
  },
  {
   "cell_type": "code",
   "execution_count": 17,
   "id": "0d602e18",
   "metadata": {
    "execution": {
     "iopub.execute_input": "2023-03-20T22:43:22.652183Z",
     "iopub.status.busy": "2023-03-20T22:43:22.651027Z",
     "iopub.status.idle": "2023-03-20T22:43:22.658134Z",
     "shell.execute_reply": "2023-03-20T22:43:22.656582Z"
    },
    "papermill": {
     "duration": 0.027091,
     "end_time": "2023-03-20T22:43:22.660571",
     "exception": false,
     "start_time": "2023-03-20T22:43:22.633480",
     "status": "completed"
    },
    "tags": []
   },
   "outputs": [],
   "source": [
    "X_train[np.isnan(X_train)] = 0\n",
    "X_test[np.isnan(X_test)] = 0"
   ]
  },
  {
   "cell_type": "code",
   "execution_count": 18,
   "id": "45c5102c",
   "metadata": {
    "execution": {
     "iopub.execute_input": "2023-03-20T22:43:22.692940Z",
     "iopub.status.busy": "2023-03-20T22:43:22.691859Z",
     "iopub.status.idle": "2023-03-20T22:43:26.496910Z",
     "shell.execute_reply": "2023-03-20T22:43:26.495533Z"
    },
    "papermill": {
     "duration": 3.827185,
     "end_time": "2023-03-20T22:43:26.501078",
     "exception": false,
     "start_time": "2023-03-20T22:43:22.673893",
     "status": "completed"
    },
    "tags": []
   },
   "outputs": [],
   "source": [
    "save_time_series_txt(f'{data_path}/ts_train.txt', ts_train)\n",
    "save_time_series_txt(f'{data_path}/ts_test.txt', ts_test)"
   ]
  },
  {
   "cell_type": "code",
   "execution_count": 19,
   "id": "39830f37",
   "metadata": {
    "execution": {
     "iopub.execute_input": "2023-03-20T22:43:26.580185Z",
     "iopub.status.busy": "2023-03-20T22:43:26.579168Z",
     "iopub.status.idle": "2023-03-20T22:43:26.588096Z",
     "shell.execute_reply": "2023-03-20T22:43:26.587328Z"
    },
    "papermill": {
     "duration": 0.051618,
     "end_time": "2023-03-20T22:43:26.589966",
     "exception": false,
     "start_time": "2023-03-20T22:43:26.538348",
     "status": "completed"
    },
    "tags": []
   },
   "outputs": [],
   "source": [
    "with open(f'{data_path}/X_train.npy', 'wb') as f:\n",
    "    np.save(f, X_train, allow_pickle=True)\n",
    "\n",
    "with open(f'{data_path}/X_test.npy', 'wb') as f:\n",
    "    np.save(f, X_test, allow_pickle=True)"
   ]
  },
  {
   "cell_type": "code",
   "execution_count": 20,
   "id": "795fd2be",
   "metadata": {
    "execution": {
     "iopub.execute_input": "2023-03-20T22:43:26.620680Z",
     "iopub.status.busy": "2023-03-20T22:43:26.620239Z",
     "iopub.status.idle": "2023-03-20T22:43:26.628232Z",
     "shell.execute_reply": "2023-03-20T22:43:26.627422Z"
    },
    "papermill": {
     "duration": 0.025852,
     "end_time": "2023-03-20T22:43:26.630342",
     "exception": false,
     "start_time": "2023-03-20T22:43:26.604490",
     "status": "completed"
    },
    "tags": []
   },
   "outputs": [],
   "source": [
    "with open(f'{data_path}/y_train.npy', 'wb') as f:\n",
    "    np.save(f, y_train, allow_pickle=True)\n",
    "\n",
    "with open(f'{data_path}/y_test.npy', 'wb') as f:\n",
    "    np.save(f, y_test, allow_pickle=True)"
   ]
  },
  {
   "cell_type": "code",
   "execution_count": 21,
   "id": "08bda153",
   "metadata": {
    "execution": {
     "iopub.execute_input": "2023-03-20T22:43:26.661067Z",
     "iopub.status.busy": "2023-03-20T22:43:26.660650Z",
     "iopub.status.idle": "2023-03-20T22:43:26.910525Z",
     "shell.execute_reply": "2023-03-20T22:43:26.909216Z"
    },
    "papermill": {
     "duration": 0.26865,
     "end_time": "2023-03-20T22:43:26.913733",
     "exception": false,
     "start_time": "2023-03-20T22:43:26.645083",
     "status": "completed"
    },
    "tags": []
   },
   "outputs": [
    {
     "data": {
      "text/plain": [
       "[<matplotlib.lines.Line2D at 0x7ff8ece9bb50>]"
      ]
     },
     "execution_count": 21,
     "metadata": {},
     "output_type": "execute_result"
    },
    {
     "data": {
      "image/png": "[encoded data removed]",
      "text/plain": [
       "<Figure size 640x480 with 1 Axes>"
      ]
     },
     "metadata": {},
     "output_type": "display_data"
    }
   ],
   "source": [
    "plt.plot(random.choice(ts_train))"
   ]
  },
  {
   "cell_type": "code",
   "execution_count": 22,
   "id": "98ce9d63",
   "metadata": {
    "execution": {
     "iopub.execute_input": "2023-03-20T22:43:26.969149Z",
     "iopub.status.busy": "2023-03-20T22:43:26.968044Z",
     "iopub.status.idle": "2023-03-20T22:43:26.977927Z",
     "shell.execute_reply": "2023-03-20T22:43:26.976937Z"
    },
    "papermill": {
     "duration": 0.049651,
     "end_time": "2023-03-20T22:43:26.982103",
     "exception": false,
     "start_time": "2023-03-20T22:43:26.932452",
     "status": "completed"
    },
    "tags": []
   },
   "outputs": [],
   "source": [
    "# Parameters that require knowing if it's binary or multiclass (LightGBM, metrics)\n",
    "if len(set(y)) == 2:\n",
    "    avg_par = 'macro'\n",
    "    obj_par = 'binary'\n",
    "elif len(set(y)) > 2:\n",
    "    avg_par = 'weighted'\n",
    "    obj_par = 'multiclass'"
   ]
  },
  {
   "cell_type": "markdown",
   "id": "228f1b39",
   "metadata": {
    "papermill": {
     "duration": 0.01341,
     "end_time": "2023-03-20T22:43:27.028642",
     "exception": false,
     "start_time": "2023-03-20T22:43:27.015232",
     "status": "completed"
    },
    "tags": []
   },
   "source": [
    "## Classification"
   ]
  },
  {
   "cell_type": "code",
   "execution_count": 23,
   "id": "34bb73ff",
   "metadata": {
    "execution": {
     "iopub.execute_input": "2023-03-20T22:43:27.057370Z",
     "iopub.status.busy": "2023-03-20T22:43:27.056624Z",
     "iopub.status.idle": "2023-03-20T22:43:27.154762Z",
     "shell.execute_reply": "2023-03-20T22:43:27.153728Z"
    },
    "papermill": {
     "duration": 0.115784,
     "end_time": "2023-03-20T22:43:27.157396",
     "exception": false,
     "start_time": "2023-03-20T22:43:27.041612",
     "status": "completed"
    },
    "tags": []
   },
   "outputs": [],
   "source": [
    "from sklearn.tree import DecisionTreeClassifier\n",
    "import lightgbm as lgbm\n",
    "from sklearn.ensemble import RandomForestClassifier"
   ]
  },
  {
   "cell_type": "code",
   "execution_count": 24,
   "id": "02aaee18",
   "metadata": {
    "execution": {
     "iopub.execute_input": "2023-03-20T22:43:27.201791Z",
     "iopub.status.busy": "2023-03-20T22:43:27.201524Z",
     "iopub.status.idle": "2023-03-20T22:43:27.205509Z",
     "shell.execute_reply": "2023-03-20T22:43:27.204594Z"
    },
    "papermill": {
     "duration": 0.026239,
     "end_time": "2023-03-20T22:43:27.207533",
     "exception": false,
     "start_time": "2023-03-20T22:43:27.181294",
     "status": "completed"
    },
    "tags": []
   },
   "outputs": [],
   "source": [
    "metrics_data = {}"
   ]
  },
  {
   "cell_type": "markdown",
   "id": "b49309ed",
   "metadata": {
    "papermill": {
     "duration": 0.01784,
     "end_time": "2023-03-20T22:43:27.240831",
     "exception": false,
     "start_time": "2023-03-20T22:43:27.222991",
     "status": "completed"
    },
    "tags": []
   },
   "source": [
    "### Baseline: global features (No Time Series)"
   ]
  },
  {
   "cell_type": "code",
   "execution_count": 25,
   "id": "35eb9f66",
   "metadata": {
    "execution": {
     "iopub.execute_input": "2023-03-20T22:43:27.280343Z",
     "iopub.status.busy": "2023-03-20T22:43:27.279799Z",
     "iopub.status.idle": "2023-03-20T22:43:27.284699Z",
     "shell.execute_reply": "2023-03-20T22:43:27.283589Z"
    },
    "papermill": {
     "duration": 0.028069,
     "end_time": "2023-03-20T22:43:27.287116",
     "exception": false,
     "start_time": "2023-03-20T22:43:27.259047",
     "status": "completed"
    },
    "tags": []
   },
   "outputs": [],
   "source": [
    "metrics_data['Global'] = {}"
   ]
  },
  {
   "cell_type": "markdown",
   "id": "29cd5044",
   "metadata": {
    "papermill": {
     "duration": 0.017852,
     "end_time": "2023-03-20T22:43:27.323363",
     "exception": false,
     "start_time": "2023-03-20T22:43:27.305511",
     "status": "completed"
    },
    "tags": []
   },
   "source": [
    "**Decision Tree**"
   ]
  },
  {
   "cell_type": "code",
   "execution_count": 26,
   "id": "9ef4f037",
   "metadata": {
    "execution": {
     "iopub.execute_input": "2023-03-20T22:43:27.368423Z",
     "iopub.status.busy": "2023-03-20T22:43:27.368024Z",
     "iopub.status.idle": "2023-03-20T22:43:27.997179Z",
     "shell.execute_reply": "2023-03-20T22:43:27.995970Z"
    },
    "papermill": {
     "duration": 0.659258,
     "end_time": "2023-03-20T22:43:28.001508",
     "exception": false,
     "start_time": "2023-03-20T22:43:27.342250",
     "status": "completed"
    },
    "tags": []
   },
   "outputs": [
    {
     "data": {
      "text/html": [
       "<style>#sk-container-id-1 {color: black;background-color: white;}#sk-container-id-1 pre{padding: 0;}#sk-container-id-1 div.sk-toggleable {background-color: white;}#sk-container-id-1 label.sk-toggleable__label {cursor: pointer;display: block;width: 100%;margin-bottom: 0;padding: 0.3em;box-sizing: border-box;text-align: center;}#sk-container-id-1 label.sk-toggleable__label-arrow:before {content: \"▸\";float: left;margin-right: 0.25em;color: #696969;}#sk-container-id-1 label.sk-toggleable__label-arrow:hover:before {color: black;}#sk-container-id-1 div.sk-estimator:hover label.sk-toggleable__label-arrow:before {color: black;}#sk-container-id-1 div.sk-toggleable__content {max-height: 0;max-width: 0;overflow: hidden;text-align: left;background-color: #f0f8ff;}#sk-container-id-1 div.sk-toggleable__content pre {margin: 0.2em;color: black;border-radius: 0.25em;background-color: #f0f8ff;}#sk-container-id-1 input.sk-toggleable__control:checked~div.sk-toggleable__content {max-height: 200px;max-width: 100%;overflow: auto;}#sk-container-id-1 input.sk-toggleable__control:checked~label.sk-toggleable__label-arrow:before {content: \"▾\";}#sk-container-id-1 div.sk-estimator input.sk-toggleable__control:checked~label.sk-toggleable__label {background-color: #d4ebff;}#sk-container-id-1 div.sk-label input.sk-toggleable__control:checked~label.sk-toggleable__label {background-color: #d4ebff;}#sk-container-id-1 input.sk-hidden--visually {border: 0;clip: rect(1px 1px 1px 1px);clip: rect(1px, 1px, 1px, 1px);height: 1px;margin: -1px;overflow: hidden;padding: 0;position: absolute;width: 1px;}#sk-container-id-1 div.sk-estimator {font-family: monospace;background-color: #f0f8ff;border: 1px dotted black;border-radius: 0.25em;box-sizing: border-box;margin-bottom: 0.5em;}#sk-container-id-1 div.sk-estimator:hover {background-color: #d4ebff;}#sk-container-id-1 div.sk-parallel-item::after {content: \"\";width: 100%;border-bottom: 1px solid gray;flex-grow: 1;}#sk-container-id-1 div.sk-label:hover label.sk-toggleable__label {background-color: #d4ebff;}#sk-container-id-1 div.sk-serial::before {content: \"\";position: absolute;border-left: 1px solid gray;box-sizing: border-box;top: 0;bottom: 0;left: 50%;z-index: 0;}#sk-container-id-1 div.sk-serial {display: flex;flex-direction: column;align-items: center;background-color: white;padding-right: 0.2em;padding-left: 0.2em;position: relative;}#sk-container-id-1 div.sk-item {position: relative;z-index: 1;}#sk-container-id-1 div.sk-parallel {display: flex;align-items: stretch;justify-content: center;background-color: white;position: relative;}#sk-container-id-1 div.sk-item::before, #sk-container-id-1 div.sk-parallel-item::before {content: \"\";position: absolute;border-left: 1px solid gray;box-sizing: border-box;top: 0;bottom: 0;left: 50%;z-index: -1;}#sk-container-id-1 div.sk-parallel-item {display: flex;flex-direction: column;z-index: 1;position: relative;background-color: white;}#sk-container-id-1 div.sk-parallel-item:first-child::after {align-self: flex-end;width: 50%;}#sk-container-id-1 div.sk-parallel-item:last-child::after {align-self: flex-start;width: 50%;}#sk-container-id-1 div.sk-parallel-item:only-child::after {width: 0;}#sk-container-id-1 div.sk-dashed-wrapped {border: 1px dashed gray;margin: 0 0.4em 0.5em 0.4em;box-sizing: border-box;padding-bottom: 0.4em;background-color: white;}#sk-container-id-1 div.sk-label label {font-family: monospace;font-weight: bold;display: inline-block;line-height: 1.2em;}#sk-container-id-1 div.sk-label-container {text-align: center;}#sk-container-id-1 div.sk-container {/* jupyter's `normalize.less` sets `[hidden] { display: none; }` but bootstrap.min.css set `[hidden] { display: none !important; }` so we also need the `!important` here to be able to override the default hidden behavior on the sphinx rendered scikit-learn.org. See: https://github.com/scikit-learn/scikit-learn/issues/21755 */display: inline-block !important;position: relative;}#sk-container-id-1 div.sk-text-repr-fallback {display: none;}</style><div id=\"sk-container-id-1\" class=\"sk-top-container\"><div class=\"sk-text-repr-fallback\"><pre>DecisionTreeClassifier()</pre><b>In a Jupyter environment, please rerun this cell to show the HTML representation or trust the notebook. <br />On GitHub, the HTML representation is unable to render, please try loading this page with nbviewer.org.</b></div><div class=\"sk-container\" hidden><div class=\"sk-item\"><div class=\"sk-estimator sk-toggleable\"><input class=\"sk-toggleable__control sk-hidden--visually\" id=\"sk-estimator-id-1\" type=\"checkbox\" checked><label for=\"sk-estimator-id-1\" class=\"sk-toggleable__label sk-toggleable__label-arrow\">DecisionTreeClassifier</label><div class=\"sk-toggleable__content\"><pre>DecisionTreeClassifier()</pre></div></div></div></div></div>"
      ],
      "text/plain": [
       "DecisionTreeClassifier()"
      ]
     },
     "execution_count": 26,
     "metadata": {},
     "output_type": "execute_result"
    }
   ],
   "source": [
    "clf = DecisionTreeClassifier()\n",
    "clf.fit(X_train, y_train)"
   ]
  },
  {
   "cell_type": "code",
   "execution_count": 27,
   "id": "9c50acc4",
   "metadata": {
    "execution": {
     "iopub.execute_input": "2023-03-20T22:43:28.078410Z",
     "iopub.status.busy": "2023-03-20T22:43:28.077133Z",
     "iopub.status.idle": "2023-03-20T22:43:28.445038Z",
     "shell.execute_reply": "2023-03-20T22:43:28.444178Z"
    },
    "papermill": {
     "duration": 0.408802,
     "end_time": "2023-03-20T22:43:28.447763",
     "exception": false,
     "start_time": "2023-03-20T22:43:28.038961",
     "status": "completed"
    },
    "tags": []
   },
   "outputs": [
    {
     "name": "stdout",
     "output_type": "stream",
     "text": [
      "              precision    recall  f1-score   support\n",
      "\n",
      "         pop       0.42      0.43      0.42      2400\n",
      "         rap       0.60      0.60      0.60      2400\n",
      "        rock       0.43      0.42      0.42      2400\n",
      "\n",
      "    accuracy                           0.48      7200\n",
      "   macro avg       0.48      0.48      0.48      7200\n",
      "weighted avg       0.48      0.48      0.48      7200\n",
      "\n"
     ]
    }
   ],
   "source": [
    "y_pred = clf.predict(X_test)\n",
    "print(classification_report(y_test, y_pred))"
   ]
  },
  {
   "cell_type": "code",
   "execution_count": 28,
   "id": "8866c3c3",
   "metadata": {
    "execution": {
     "iopub.execute_input": "2023-03-20T22:43:28.502388Z",
     "iopub.status.busy": "2023-03-20T22:43:28.502036Z",
     "iopub.status.idle": "2023-03-20T22:43:28.651187Z",
     "shell.execute_reply": "2023-03-20T22:43:28.650405Z"
    },
    "papermill": {
     "duration": 0.179061,
     "end_time": "2023-03-20T22:43:28.653902",
     "exception": false,
     "start_time": "2023-03-20T22:43:28.474841",
     "status": "completed"
    },
    "tags": []
   },
   "outputs": [],
   "source": [
    "acc = accuracy_score(y_test, y_pred)\n",
    "pre = precision_score(y_test, y_pred, average=avg_par)\n",
    "rec = recall_score(y_test, y_pred, average=avg_par)\n",
    "f1 = f1_score(y_test, y_pred, average=avg_par)\n",
    "\n",
    "metrics_data['Global']['DecisionTree'] = {'Accuracy': acc, 'Precision': pre, 'Recall': rec, 'F1': f1}"
   ]
  },
  {
   "cell_type": "markdown",
   "id": "28aa5a63",
   "metadata": {
    "papermill": {
     "duration": 0.030813,
     "end_time": "2023-03-20T22:43:28.718313",
     "exception": false,
     "start_time": "2023-03-20T22:43:28.687500",
     "status": "completed"
    },
    "tags": []
   },
   "source": [
    "**Random Forest**"
   ]
  },
  {
   "cell_type": "code",
   "execution_count": 29,
   "id": "0e5e2310",
   "metadata": {
    "execution": {
     "iopub.execute_input": "2023-03-20T22:43:28.754834Z",
     "iopub.status.busy": "2023-03-20T22:43:28.754309Z",
     "iopub.status.idle": "2023-03-20T22:43:35.431839Z",
     "shell.execute_reply": "2023-03-20T22:43:35.431132Z"
    },
    "papermill": {
     "duration": 6.693433,
     "end_time": "2023-03-20T22:43:35.434492",
     "exception": false,
     "start_time": "2023-03-20T22:43:28.741059",
     "status": "completed"
    },
    "tags": []
   },
   "outputs": [
    {
     "data": {
      "text/html": [
       "<style>#sk-container-id-2 {color: black;background-color: white;}#sk-container-id-2 pre{padding: 0;}#sk-container-id-2 div.sk-toggleable {background-color: white;}#sk-container-id-2 label.sk-toggleable__label {cursor: pointer;display: block;width: 100%;margin-bottom: 0;padding: 0.3em;box-sizing: border-box;text-align: center;}#sk-container-id-2 label.sk-toggleable__label-arrow:before {content: \"▸\";float: left;margin-right: 0.25em;color: #696969;}#sk-container-id-2 label.sk-toggleable__label-arrow:hover:before {color: black;}#sk-container-id-2 div.sk-estimator:hover label.sk-toggleable__label-arrow:before {color: black;}#sk-container-id-2 div.sk-toggleable__content {max-height: 0;max-width: 0;overflow: hidden;text-align: left;background-color: #f0f8ff;}#sk-container-id-2 div.sk-toggleable__content pre {margin: 0.2em;color: black;border-radius: 0.25em;background-color: #f0f8ff;}#sk-container-id-2 input.sk-toggleable__control:checked~div.sk-toggleable__content {max-height: 200px;max-width: 100%;overflow: auto;}#sk-container-id-2 input.sk-toggleable__control:checked~label.sk-toggleable__label-arrow:before {content: \"▾\";}#sk-container-id-2 div.sk-estimator input.sk-toggleable__control:checked~label.sk-toggleable__label {background-color: #d4ebff;}#sk-container-id-2 div.sk-label input.sk-toggleable__control:checked~label.sk-toggleable__label {background-color: #d4ebff;}#sk-container-id-2 input.sk-hidden--visually {border: 0;clip: rect(1px 1px 1px 1px);clip: rect(1px, 1px, 1px, 1px);height: 1px;margin: -1px;overflow: hidden;padding: 0;position: absolute;width: 1px;}#sk-container-id-2 div.sk-estimator {font-family: monospace;background-color: #f0f8ff;border: 1px dotted black;border-radius: 0.25em;box-sizing: border-box;margin-bottom: 0.5em;}#sk-container-id-2 div.sk-estimator:hover {background-color: #d4ebff;}#sk-container-id-2 div.sk-parallel-item::after {content: \"\";width: 100%;border-bottom: 1px solid gray;flex-grow: 1;}#sk-container-id-2 div.sk-label:hover label.sk-toggleable__label {background-color: #d4ebff;}#sk-container-id-2 div.sk-serial::before {content: \"\";position: absolute;border-left: 1px solid gray;box-sizing: border-box;top: 0;bottom: 0;left: 50%;z-index: 0;}#sk-container-id-2 div.sk-serial {display: flex;flex-direction: column;align-items: center;background-color: white;padding-right: 0.2em;padding-left: 0.2em;position: relative;}#sk-container-id-2 div.sk-item {position: relative;z-index: 1;}#sk-container-id-2 div.sk-parallel {display: flex;align-items: stretch;justify-content: center;background-color: white;position: relative;}#sk-container-id-2 div.sk-item::before, #sk-container-id-2 div.sk-parallel-item::before {content: \"\";position: absolute;border-left: 1px solid gray;box-sizing: border-box;top: 0;bottom: 0;left: 50%;z-index: -1;}#sk-container-id-2 div.sk-parallel-item {display: flex;flex-direction: column;z-index: 1;position: relative;background-color: white;}#sk-container-id-2 div.sk-parallel-item:first-child::after {align-self: flex-end;width: 50%;}#sk-container-id-2 div.sk-parallel-item:last-child::after {align-self: flex-start;width: 50%;}#sk-container-id-2 div.sk-parallel-item:only-child::after {width: 0;}#sk-container-id-2 div.sk-dashed-wrapped {border: 1px dashed gray;margin: 0 0.4em 0.5em 0.4em;box-sizing: border-box;padding-bottom: 0.4em;background-color: white;}#sk-container-id-2 div.sk-label label {font-family: monospace;font-weight: bold;display: inline-block;line-height: 1.2em;}#sk-container-id-2 div.sk-label-container {text-align: center;}#sk-container-id-2 div.sk-container {/* jupyter's `normalize.less` sets `[hidden] { display: none; }` but bootstrap.min.css set `[hidden] { display: none !important; }` so we also need the `!important` here to be able to override the default hidden behavior on the sphinx rendered scikit-learn.org. See: https://github.com/scikit-learn/scikit-learn/issues/21755 */display: inline-block !important;position: relative;}#sk-container-id-2 div.sk-text-repr-fallback {display: none;}</style><div id=\"sk-container-id-2\" class=\"sk-top-container\"><div class=\"sk-text-repr-fallback\"><pre>RandomForestClassifier(random_state=42)</pre><b>In a Jupyter environment, please rerun this cell to show the HTML representation or trust the notebook. <br />On GitHub, the HTML representation is unable to render, please try loading this page with nbviewer.org.</b></div><div class=\"sk-container\" hidden><div class=\"sk-item\"><div class=\"sk-estimator sk-toggleable\"><input class=\"sk-toggleable__control sk-hidden--visually\" id=\"sk-estimator-id-2\" type=\"checkbox\" checked><label for=\"sk-estimator-id-2\" class=\"sk-toggleable__label sk-toggleable__label-arrow\">RandomForestClassifier</label><div class=\"sk-toggleable__content\"><pre>RandomForestClassifier(random_state=42)</pre></div></div></div></div></div>"
      ],
      "text/plain": [
       "RandomForestClassifier(random_state=42)"
      ]
     },
     "execution_count": 29,
     "metadata": {},
     "output_type": "execute_result"
    }
   ],
   "source": [
    "clf = RandomForestClassifier(random_state=42)\n",
    "clf.fit(X_train, y_train)"
   ]
  },
  {
   "cell_type": "code",
   "execution_count": 30,
   "id": "4bd1304b",
   "metadata": {
    "execution": {
     "iopub.execute_input": "2023-03-20T22:43:35.503339Z",
     "iopub.status.busy": "2023-03-20T22:43:35.502978Z",
     "iopub.status.idle": "2023-03-20T22:43:35.829132Z",
     "shell.execute_reply": "2023-03-20T22:43:35.828437Z"
    },
    "papermill": {
     "duration": 0.367831,
     "end_time": "2023-03-20T22:43:35.831969",
     "exception": false,
     "start_time": "2023-03-20T22:43:35.464138",
     "status": "completed"
    },
    "tags": []
   },
   "outputs": [
    {
     "name": "stdout",
     "output_type": "stream",
     "text": [
      "              precision    recall  f1-score   support\n",
      "\n",
      "         pop       0.49      0.50      0.49      2400\n",
      "         rap       0.70      0.72      0.71      2400\n",
      "        rock       0.50      0.47      0.48      2400\n",
      "\n",
      "    accuracy                           0.56      7200\n",
      "   macro avg       0.56      0.56      0.56      7200\n",
      "weighted avg       0.56      0.56      0.56      7200\n",
      "\n"
     ]
    }
   ],
   "source": [
    "y_pred = clf.predict(X_test)\n",
    "print(classification_report(y_test, y_pred))"
   ]
  },
  {
   "cell_type": "code",
   "execution_count": 31,
   "id": "43174ba2",
   "metadata": {
    "execution": {
     "iopub.execute_input": "2023-03-20T22:43:35.912159Z",
     "iopub.status.busy": "2023-03-20T22:43:35.911183Z",
     "iopub.status.idle": "2023-03-20T22:43:36.037288Z",
     "shell.execute_reply": "2023-03-20T22:43:36.036342Z"
    },
    "papermill": {
     "duration": 0.172614,
     "end_time": "2023-03-20T22:43:36.042315",
     "exception": false,
     "start_time": "2023-03-20T22:43:35.869701",
     "status": "completed"
    },
    "tags": []
   },
   "outputs": [],
   "source": [
    "acc = accuracy_score(y_test, y_pred)\n",
    "pre = precision_score(y_test, y_pred, average=avg_par)\n",
    "rec = recall_score(y_test, y_pred, average=avg_par)\n",
    "f1 = f1_score(y_test, y_pred, average=avg_par)\n",
    "\n",
    "metrics_data['Global']['RandomForest'] = {'Accuracy': acc, 'Precision': pre, 'Recall': rec, 'F1': f1}"
   ]
  },
  {
   "cell_type": "markdown",
   "id": "22c98ac5",
   "metadata": {
    "papermill": {
     "duration": 0.031196,
     "end_time": "2023-03-20T22:43:36.107637",
     "exception": false,
     "start_time": "2023-03-20T22:43:36.076441",
     "status": "completed"
    },
    "tags": []
   },
   "source": [
    "**LightGBM**"
   ]
  },
  {
   "cell_type": "code",
   "execution_count": 32,
   "id": "c93b818c",
   "metadata": {
    "execution": {
     "iopub.execute_input": "2023-03-20T22:43:36.142456Z",
     "iopub.status.busy": "2023-03-20T22:43:36.142005Z",
     "iopub.status.idle": "2023-03-20T22:43:36.809503Z",
     "shell.execute_reply": "2023-03-20T22:43:36.808923Z"
    },
    "papermill": {
     "duration": 0.683143,
     "end_time": "2023-03-20T22:43:36.811381",
     "exception": false,
     "start_time": "2023-03-20T22:43:36.128238",
     "status": "completed"
    },
    "tags": []
   },
   "outputs": [
    {
     "data": {
      "text/html": [
       "<style>#sk-container-id-3 {color: black;background-color: white;}#sk-container-id-3 pre{padding: 0;}#sk-container-id-3 div.sk-toggleable {background-color: white;}#sk-container-id-3 label.sk-toggleable__label {cursor: pointer;display: block;width: 100%;margin-bottom: 0;padding: 0.3em;box-sizing: border-box;text-align: center;}#sk-container-id-3 label.sk-toggleable__label-arrow:before {content: \"▸\";float: left;margin-right: 0.25em;color: #696969;}#sk-container-id-3 label.sk-toggleable__label-arrow:hover:before {color: black;}#sk-container-id-3 div.sk-estimator:hover label.sk-toggleable__label-arrow:before {color: black;}#sk-container-id-3 div.sk-toggleable__content {max-height: 0;max-width: 0;overflow: hidden;text-align: left;background-color: #f0f8ff;}#sk-container-id-3 div.sk-toggleable__content pre {margin: 0.2em;color: black;border-radius: 0.25em;background-color: #f0f8ff;}#sk-container-id-3 input.sk-toggleable__control:checked~div.sk-toggleable__content {max-height: 200px;max-width: 100%;overflow: auto;}#sk-container-id-3 input.sk-toggleable__control:checked~label.sk-toggleable__label-arrow:before {content: \"▾\";}#sk-container-id-3 div.sk-estimator input.sk-toggleable__control:checked~label.sk-toggleable__label {background-color: #d4ebff;}#sk-container-id-3 div.sk-label input.sk-toggleable__control:checked~label.sk-toggleable__label {background-color: #d4ebff;}#sk-container-id-3 input.sk-hidden--visually {border: 0;clip: rect(1px 1px 1px 1px);clip: rect(1px, 1px, 1px, 1px);height: 1px;margin: -1px;overflow: hidden;padding: 0;position: absolute;width: 1px;}#sk-container-id-3 div.sk-estimator {font-family: monospace;background-color: #f0f8ff;border: 1px dotted black;border-radius: 0.25em;box-sizing: border-box;margin-bottom: 0.5em;}#sk-container-id-3 div.sk-estimator:hover {background-color: #d4ebff;}#sk-container-id-3 div.sk-parallel-item::after {content: \"\";width: 100%;border-bottom: 1px solid gray;flex-grow: 1;}#sk-container-id-3 div.sk-label:hover label.sk-toggleable__label {background-color: #d4ebff;}#sk-container-id-3 div.sk-serial::before {content: \"\";position: absolute;border-left: 1px solid gray;box-sizing: border-box;top: 0;bottom: 0;left: 50%;z-index: 0;}#sk-container-id-3 div.sk-serial {display: flex;flex-direction: column;align-items: center;background-color: white;padding-right: 0.2em;padding-left: 0.2em;position: relative;}#sk-container-id-3 div.sk-item {position: relative;z-index: 1;}#sk-container-id-3 div.sk-parallel {display: flex;align-items: stretch;justify-content: center;background-color: white;position: relative;}#sk-container-id-3 div.sk-item::before, #sk-container-id-3 div.sk-parallel-item::before {content: \"\";position: absolute;border-left: 1px solid gray;box-sizing: border-box;top: 0;bottom: 0;left: 50%;z-index: -1;}#sk-container-id-3 div.sk-parallel-item {display: flex;flex-direction: column;z-index: 1;position: relative;background-color: white;}#sk-container-id-3 div.sk-parallel-item:first-child::after {align-self: flex-end;width: 50%;}#sk-container-id-3 div.sk-parallel-item:last-child::after {align-self: flex-start;width: 50%;}#sk-container-id-3 div.sk-parallel-item:only-child::after {width: 0;}#sk-container-id-3 div.sk-dashed-wrapped {border: 1px dashed gray;margin: 0 0.4em 0.5em 0.4em;box-sizing: border-box;padding-bottom: 0.4em;background-color: white;}#sk-container-id-3 div.sk-label label {font-family: monospace;font-weight: bold;display: inline-block;line-height: 1.2em;}#sk-container-id-3 div.sk-label-container {text-align: center;}#sk-container-id-3 div.sk-container {/* jupyter's `normalize.less` sets `[hidden] { display: none; }` but bootstrap.min.css set `[hidden] { display: none !important; }` so we also need the `!important` here to be able to override the default hidden behavior on the sphinx rendered scikit-learn.org. See: https://github.com/scikit-learn/scikit-learn/issues/21755 */display: inline-block !important;position: relative;}#sk-container-id-3 div.sk-text-repr-fallback {display: none;}</style><div id=\"sk-container-id-3\" class=\"sk-top-container\"><div class=\"sk-text-repr-fallback\"><pre>LGBMClassifier(objective=&#x27;multiclass&#x27;)</pre><b>In a Jupyter environment, please rerun this cell to show the HTML representation or trust the notebook. <br />On GitHub, the HTML representation is unable to render, please try loading this page with nbviewer.org.</b></div><div class=\"sk-container\" hidden><div class=\"sk-item\"><div class=\"sk-estimator sk-toggleable\"><input class=\"sk-toggleable__control sk-hidden--visually\" id=\"sk-estimator-id-3\" type=\"checkbox\" checked><label for=\"sk-estimator-id-3\" class=\"sk-toggleable__label sk-toggleable__label-arrow\">LGBMClassifier</label><div class=\"sk-toggleable__content\"><pre>LGBMClassifier(objective=&#x27;multiclass&#x27;)</pre></div></div></div></div></div>"
      ],
      "text/plain": [
       "LGBMClassifier(objective='multiclass')"
      ]
     },
     "execution_count": 32,
     "metadata": {},
     "output_type": "execute_result"
    }
   ],
   "source": [
    "clf = lgbm.LGBMClassifier(objective=obj_par) \n",
    "clf.fit(X_train, y_train)"
   ]
  },
  {
   "cell_type": "code",
   "execution_count": 33,
   "id": "600a663a",
   "metadata": {
    "execution": {
     "iopub.execute_input": "2023-03-20T22:43:36.851949Z",
     "iopub.status.busy": "2023-03-20T22:43:36.851548Z",
     "iopub.status.idle": "2023-03-20T22:43:37.051328Z",
     "shell.execute_reply": "2023-03-20T22:43:37.050425Z"
    },
    "papermill": {
     "duration": 0.224205,
     "end_time": "2023-03-20T22:43:37.055618",
     "exception": false,
     "start_time": "2023-03-20T22:43:36.831413",
     "status": "completed"
    },
    "tags": []
   },
   "outputs": [
    {
     "name": "stdout",
     "output_type": "stream",
     "text": [
      "              precision    recall  f1-score   support\n",
      "\n",
      "         pop       0.51      0.53      0.52      2400\n",
      "         rap       0.72      0.74      0.73      2400\n",
      "        rock       0.52      0.49      0.50      2400\n",
      "\n",
      "    accuracy                           0.59      7200\n",
      "   macro avg       0.58      0.59      0.58      7200\n",
      "weighted avg       0.58      0.59      0.58      7200\n",
      "\n"
     ]
    }
   ],
   "source": [
    "y_pred = clf.predict(X_test)\n",
    "print(classification_report(y_test, y_pred))"
   ]
  },
  {
   "cell_type": "code",
   "execution_count": 34,
   "id": "508d831d",
   "metadata": {
    "execution": {
     "iopub.execute_input": "2023-03-20T22:43:37.134749Z",
     "iopub.status.busy": "2023-03-20T22:43:37.133197Z",
     "iopub.status.idle": "2023-03-20T22:43:37.293998Z",
     "shell.execute_reply": "2023-03-20T22:43:37.293316Z"
    },
    "papermill": {
     "duration": 0.200577,
     "end_time": "2023-03-20T22:43:37.297268",
     "exception": false,
     "start_time": "2023-03-20T22:43:37.096691",
     "status": "completed"
    },
    "tags": []
   },
   "outputs": [],
   "source": [
    "acc = accuracy_score(y_test, y_pred)\n",
    "pre = precision_score(y_test, y_pred, average=avg_par)\n",
    "rec = recall_score(y_test, y_pred, average=avg_par)\n",
    "f1 = f1_score(y_test, y_pred, average=avg_par)\n",
    "\n",
    "metrics_data['Global']['LightGBM'] = {'Accuracy': acc, 'Precision': pre, 'Recall': rec, 'F1': f1}"
   ]
  },
  {
   "cell_type": "markdown",
   "id": "14b86894",
   "metadata": {
    "papermill": {
     "duration": 0.039573,
     "end_time": "2023-03-20T22:43:37.377117",
     "exception": false,
     "start_time": "2023-03-20T22:43:37.337544",
     "status": "completed"
    },
    "tags": []
   },
   "source": [
    "### Time Series Classification"
   ]
  },
  {
   "cell_type": "markdown",
   "id": "84c55533",
   "metadata": {
    "papermill": {
     "duration": 0.015056,
     "end_time": "2023-03-20T22:43:37.407943",
     "exception": false,
     "start_time": "2023-03-20T22:43:37.392887",
     "status": "completed"
    },
    "tags": []
   },
   "source": [
    "#### Learning Shapelets"
   ]
  },
  {
   "cell_type": "code",
   "execution_count": 35,
   "id": "488d8eb7",
   "metadata": {
    "execution": {
     "iopub.execute_input": "2023-03-20T22:43:37.441216Z",
     "iopub.status.busy": "2023-03-20T22:43:37.440219Z",
     "iopub.status.idle": "2023-03-20T22:43:40.105280Z",
     "shell.execute_reply": "2023-03-20T22:43:40.104415Z"
    },
    "papermill": {
     "duration": 2.68558,
     "end_time": "2023-03-20T22:43:40.108832",
     "exception": false,
     "start_time": "2023-03-20T22:43:37.423252",
     "status": "completed"
    },
    "tags": []
   },
   "outputs": [
    {
     "name": "stderr",
     "output_type": "stream",
     "text": [
      "2023-03-20 23:43:37.453276: I tensorflow/core/platform/cpu_feature_guard.cc:193] This TensorFlow binary is optimized with oneAPI Deep Neural Network Library (oneDNN) to use the following CPU instructions in performance-critical operations:  AVX2 FMA\n",
      "To enable them in other operations, rebuild TensorFlow with the appropriate compiler flags.\n",
      "2023-03-20 23:43:37.788223: W tensorflow/compiler/xla/stream_executor/platform/default/dso_loader.cc:64] Could not load dynamic library 'libcudart.so.11.0'; dlerror: libcudart.so.11.0: cannot open shared object file: No such file or directory\n",
      "2023-03-20 23:43:37.788245: I tensorflow/compiler/xla/stream_executor/cuda/cudart_stub.cc:29] Ignore above cudart dlerror if you do not have a GPU set up on your machine.\n"
     ]
    },
    {
     "name": "stderr",
     "output_type": "stream",
     "text": [
      "2023-03-20 23:43:38.813386: W tensorflow/compiler/xla/stream_executor/platform/default/dso_loader.cc:64] Could not load dynamic library 'libnvinfer.so.7'; dlerror: libnvinfer.so.7: cannot open shared object file: No such file or directory\n",
      "2023-03-20 23:43:38.813614: W tensorflow/compiler/xla/stream_executor/platform/default/dso_loader.cc:64] Could not load dynamic library 'libnvinfer_plugin.so.7'; dlerror: libnvinfer_plugin.so.7: cannot open shared object file: No such file or directory\n",
      "2023-03-20 23:43:38.813626: W tensorflow/compiler/tf2tensorrt/utils/py_utils.cc:38] TF-TRT Warning: Cannot dlopen some TensorRT libraries. If you would like to use Nvidia GPU with TensorRT, please make sure the missing libraries mentioned above are installed properly.\n"
     ]
    }
   ],
   "source": [
    "from tslearn.shapelets import LearningShapelets, grabocka_params_to_shapelet_size_dict"
   ]
  },
  {
   "cell_type": "code",
   "execution_count": 36,
   "id": "eb677959",
   "metadata": {
    "execution": {
     "iopub.execute_input": "2023-03-20T22:43:40.188251Z",
     "iopub.status.busy": "2023-03-20T22:43:40.186775Z",
     "iopub.status.idle": "2023-03-20T22:43:40.195929Z",
     "shell.execute_reply": "2023-03-20T22:43:40.194554Z"
    },
    "papermill": {
     "duration": 0.052301,
     "end_time": "2023-03-20T22:43:40.198099",
     "exception": false,
     "start_time": "2023-03-20T22:43:40.145798",
     "status": "completed"
    },
    "tags": []
   },
   "outputs": [],
   "source": [
    "n_ts, ts_sz, _ = ts_train.shape\n",
    "n_classes = len(set(y_train))"
   ]
  },
  {
   "cell_type": "code",
   "execution_count": 37,
   "id": "776ed3dd",
   "metadata": {
    "execution": {
     "iopub.execute_input": "2023-03-20T22:43:40.229032Z",
     "iopub.status.busy": "2023-03-20T22:43:40.227880Z",
     "iopub.status.idle": "2023-03-20T22:43:40.238546Z",
     "shell.execute_reply": "2023-03-20T22:43:40.236999Z"
    },
    "papermill": {
     "duration": 0.028215,
     "end_time": "2023-03-20T22:43:40.240542",
     "exception": false,
     "start_time": "2023-03-20T22:43:40.212327",
     "status": "completed"
    },
    "tags": []
   },
   "outputs": [
    {
     "name": "stdout",
     "output_type": "stream",
     "text": [
      "n_ts 28800\n",
      "ts_sz 100\n",
      "n_classes 3\n",
      "shapelet_sizes {10: 6}\n"
     ]
    }
   ],
   "source": [
    "# Set the number of shapelets per size as done in the original paper\n",
    "g_shapelet_sizes = grabocka_params_to_shapelet_size_dict(n_ts=n_ts,\n",
    "                                                         ts_sz=ts_sz,\n",
    "                                                         n_classes=n_classes,\n",
    "                                                         l=0.1,\n",
    "                                                         r=1)\n",
    "\n",
    "print('n_ts', n_ts)\n",
    "print('ts_sz', ts_sz)\n",
    "print('n_classes', n_classes)\n",
    "print('shapelet_sizes', g_shapelet_sizes)"
   ]
  },
  {
   "cell_type": "code",
   "execution_count": 38,
   "id": "90ed707e",
   "metadata": {
    "execution": {
     "iopub.execute_input": "2023-03-20T22:43:40.270568Z",
     "iopub.status.busy": "2023-03-20T22:43:40.270275Z",
     "iopub.status.idle": "2023-03-20T22:43:40.278139Z",
     "shell.execute_reply": "2023-03-20T22:43:40.277149Z"
    },
    "papermill": {
     "duration": 0.024437,
     "end_time": "2023-03-20T22:43:40.279785",
     "exception": false,
     "start_time": "2023-03-20T22:43:40.255348",
     "status": "completed"
    },
    "tags": []
   },
   "outputs": [
    {
     "data": {
      "text/plain": [
       "{10: 6, 20: 6, 5: 6}"
      ]
     },
     "execution_count": 38,
     "metadata": {},
     "output_type": "execute_result"
    }
   ],
   "source": [
    "shapelet_sizes = {}\n",
    "for key in g_shapelet_sizes:\n",
    "    shapelet_sizes[key] = g_shapelet_sizes[key]\n",
    "    shapelet_sizes[key*2] = g_shapelet_sizes[key]\n",
    "    shapelet_sizes[key//2] = g_shapelet_sizes[key]\n",
    "shapelet_sizes"
   ]
  },
  {
   "cell_type": "code",
   "execution_count": 39,
   "id": "3507fb9c",
   "metadata": {
    "execution": {
     "iopub.execute_input": "2023-03-20T22:43:40.311559Z",
     "iopub.status.busy": "2023-03-20T22:43:40.311148Z",
     "iopub.status.idle": "2023-03-20T22:43:40.316791Z",
     "shell.execute_reply": "2023-03-20T22:43:40.315830Z"
    },
    "papermill": {
     "duration": 0.022277,
     "end_time": "2023-03-20T22:43:40.318420",
     "exception": false,
     "start_time": "2023-03-20T22:43:40.296143",
     "status": "completed"
    },
    "tags": []
   },
   "outputs": [
    {
     "name": "stderr",
     "output_type": "stream",
     "text": [
      "/home/mattiapggioli/lyrics2ts/.venv/lib/python3.9/site-packages/tslearn/shapelets/shapelets.py:354: FutureWarning: The default value for 'scale' is set to False in version 0.4 to ensure backward compatibility, but is likely to change in a future version.\n",
      "  warnings.warn(\"The default value for 'scale' is set to False \"\n"
     ]
    }
   ],
   "source": [
    "model = LearningShapelets(n_shapelets_per_size=shapelet_sizes,\n",
    "                          optimizer=\"adam\", \n",
    "                          weight_regularizer=.01, \n",
    "                          max_iter=max_iter, verbose=0, random_state=42)"
   ]
  },
  {
   "cell_type": "code",
   "execution_count": 40,
   "id": "73b1fe2e",
   "metadata": {
    "execution": {
     "iopub.execute_input": "2023-03-20T22:43:40.349630Z",
     "iopub.status.busy": "2023-03-20T22:43:40.349340Z",
     "iopub.status.idle": "2023-03-20T23:32:07.920626Z",
     "shell.execute_reply": "2023-03-20T23:32:07.919302Z"
    },
    "papermill": {
     "duration": 2907.607332,
     "end_time": "2023-03-20T23:32:07.941002",
     "exception": false,
     "start_time": "2023-03-20T22:43:40.333670",
     "status": "completed"
    },
    "tags": []
   },
   "outputs": [
    {
     "name": "stderr",
     "output_type": "stream",
     "text": [
      "2023-03-20 23:43:41.284778: W tensorflow/compiler/xla/stream_executor/platform/default/dso_loader.cc:64] Could not load dynamic library 'libcuda.so.1'; dlerror: libcuda.so.1: cannot open shared object file: No such file or directory\n",
      "2023-03-20 23:43:41.284805: W tensorflow/compiler/xla/stream_executor/cuda/cuda_driver.cc:265] failed call to cuInit: UNKNOWN ERROR (303)\n",
      "2023-03-20 23:43:41.284826: I tensorflow/compiler/xla/stream_executor/cuda/cuda_diagnostics.cc:156] kernel driver does not appear to be running on this host (mattiapggioli-ThinkPad-E595): /proc/driver/nvidia/version does not exist\n",
      "2023-03-20 23:43:41.285045: I tensorflow/core/platform/cpu_feature_guard.cc:193] This TensorFlow binary is optimized with oneAPI Deep Neural Network Library (oneDNN) to use the following CPU instructions in performance-critical operations:  AVX2 FMA\n",
      "To enable them in other operations, rebuild TensorFlow with the appropriate compiler flags.\n"
     ]
    },
    {
     "name": "stdout",
     "output_type": "stream",
     "text": [
      "CPU times: user 4h 3min 9s, sys: 14min 41s, total: 4h 17min 50s\n",
      "Wall time: 48min 27s\n"
     ]
    },
    {
     "data": {
      "text/html": [
       "<style>#sk-container-id-4 {color: black;background-color: white;}#sk-container-id-4 pre{padding: 0;}#sk-container-id-4 div.sk-toggleable {background-color: white;}#sk-container-id-4 label.sk-toggleable__label {cursor: pointer;display: block;width: 100%;margin-bottom: 0;padding: 0.3em;box-sizing: border-box;text-align: center;}#sk-container-id-4 label.sk-toggleable__label-arrow:before {content: \"▸\";float: left;margin-right: 0.25em;color: #696969;}#sk-container-id-4 label.sk-toggleable__label-arrow:hover:before {color: black;}#sk-container-id-4 div.sk-estimator:hover label.sk-toggleable__label-arrow:before {color: black;}#sk-container-id-4 div.sk-toggleable__content {max-height: 0;max-width: 0;overflow: hidden;text-align: left;background-color: #f0f8ff;}#sk-container-id-4 div.sk-toggleable__content pre {margin: 0.2em;color: black;border-radius: 0.25em;background-color: #f0f8ff;}#sk-container-id-4 input.sk-toggleable__control:checked~div.sk-toggleable__content {max-height: 200px;max-width: 100%;overflow: auto;}#sk-container-id-4 input.sk-toggleable__control:checked~label.sk-toggleable__label-arrow:before {content: \"▾\";}#sk-container-id-4 div.sk-estimator input.sk-toggleable__control:checked~label.sk-toggleable__label {background-color: #d4ebff;}#sk-container-id-4 div.sk-label input.sk-toggleable__control:checked~label.sk-toggleable__label {background-color: #d4ebff;}#sk-container-id-4 input.sk-hidden--visually {border: 0;clip: rect(1px 1px 1px 1px);clip: rect(1px, 1px, 1px, 1px);height: 1px;margin: -1px;overflow: hidden;padding: 0;position: absolute;width: 1px;}#sk-container-id-4 div.sk-estimator {font-family: monospace;background-color: #f0f8ff;border: 1px dotted black;border-radius: 0.25em;box-sizing: border-box;margin-bottom: 0.5em;}#sk-container-id-4 div.sk-estimator:hover {background-color: #d4ebff;}#sk-container-id-4 div.sk-parallel-item::after {content: \"\";width: 100%;border-bottom: 1px solid gray;flex-grow: 1;}#sk-container-id-4 div.sk-label:hover label.sk-toggleable__label {background-color: #d4ebff;}#sk-container-id-4 div.sk-serial::before {content: \"\";position: absolute;border-left: 1px solid gray;box-sizing: border-box;top: 0;bottom: 0;left: 50%;z-index: 0;}#sk-container-id-4 div.sk-serial {display: flex;flex-direction: column;align-items: center;background-color: white;padding-right: 0.2em;padding-left: 0.2em;position: relative;}#sk-container-id-4 div.sk-item {position: relative;z-index: 1;}#sk-container-id-4 div.sk-parallel {display: flex;align-items: stretch;justify-content: center;background-color: white;position: relative;}#sk-container-id-4 div.sk-item::before, #sk-container-id-4 div.sk-parallel-item::before {content: \"\";position: absolute;border-left: 1px solid gray;box-sizing: border-box;top: 0;bottom: 0;left: 50%;z-index: -1;}#sk-container-id-4 div.sk-parallel-item {display: flex;flex-direction: column;z-index: 1;position: relative;background-color: white;}#sk-container-id-4 div.sk-parallel-item:first-child::after {align-self: flex-end;width: 50%;}#sk-container-id-4 div.sk-parallel-item:last-child::after {align-self: flex-start;width: 50%;}#sk-container-id-4 div.sk-parallel-item:only-child::after {width: 0;}#sk-container-id-4 div.sk-dashed-wrapped {border: 1px dashed gray;margin: 0 0.4em 0.5em 0.4em;box-sizing: border-box;padding-bottom: 0.4em;background-color: white;}#sk-container-id-4 div.sk-label label {font-family: monospace;font-weight: bold;display: inline-block;line-height: 1.2em;}#sk-container-id-4 div.sk-label-container {text-align: center;}#sk-container-id-4 div.sk-container {/* jupyter's `normalize.less` sets `[hidden] { display: none; }` but bootstrap.min.css set `[hidden] { display: none !important; }` so we also need the `!important` here to be able to override the default hidden behavior on the sphinx rendered scikit-learn.org. See: https://github.com/scikit-learn/scikit-learn/issues/21755 */display: inline-block !important;position: relative;}#sk-container-id-4 div.sk-text-repr-fallback {display: none;}</style><div id=\"sk-container-id-4\" class=\"sk-top-container\"><div class=\"sk-text-repr-fallback\"><pre>LearningShapelets(max_iter=2000, n_shapelets_per_size={5: 6, 10: 6, 20: 6},\n",
       "                  optimizer=&#x27;adam&#x27;, random_state=42, weight_regularizer=0.01)</pre><b>In a Jupyter environment, please rerun this cell to show the HTML representation or trust the notebook. <br />On GitHub, the HTML representation is unable to render, please try loading this page with nbviewer.org.</b></div><div class=\"sk-container\" hidden><div class=\"sk-item\"><div class=\"sk-estimator sk-toggleable\"><input class=\"sk-toggleable__control sk-hidden--visually\" id=\"sk-estimator-id-4\" type=\"checkbox\" checked><label for=\"sk-estimator-id-4\" class=\"sk-toggleable__label sk-toggleable__label-arrow\">LearningShapelets</label><div class=\"sk-toggleable__content\"><pre>LearningShapelets(max_iter=2000, n_shapelets_per_size={5: 6, 10: 6, 20: 6},\n",
       "                  optimizer=&#x27;adam&#x27;, random_state=42, weight_regularizer=0.01)</pre></div></div></div></div></div>"
      ],
      "text/plain": [
       "LearningShapelets(max_iter=2000, n_shapelets_per_size={5: 6, 10: 6, 20: 6},\n",
       "                  optimizer='adam', random_state=42, weight_regularizer=0.01)"
      ]
     },
     "execution_count": 40,
     "metadata": {},
     "output_type": "execute_result"
    }
   ],
   "source": [
    "%%time\n",
    "model.fit(ts_train, y_train)"
   ]
  },
  {
   "cell_type": "code",
   "execution_count": 41,
   "id": "51706baa",
   "metadata": {
    "execution": {
     "iopub.execute_input": "2023-03-20T23:32:07.974168Z",
     "iopub.status.busy": "2023-03-20T23:32:07.973302Z",
     "iopub.status.idle": "2023-03-20T23:32:08.010848Z",
     "shell.execute_reply": "2023-03-20T23:32:08.009529Z"
    },
    "papermill": {
     "duration": 0.055791,
     "end_time": "2023-03-20T23:32:08.013031",
     "exception": false,
     "start_time": "2023-03-20T23:32:07.957240",
     "status": "completed"
    },
    "tags": []
   },
   "outputs": [],
   "source": [
    "model.to_pickle(f'{data_path}/shapelets.pkl')"
   ]
  },
  {
   "cell_type": "markdown",
   "id": "309f70dc",
   "metadata": {
    "papermill": {
     "duration": 0.013023,
     "end_time": "2023-03-20T23:32:08.041201",
     "exception": false,
     "start_time": "2023-03-20T23:32:08.028178",
     "status": "completed"
    },
    "tags": []
   },
   "source": [
    "#### Shapelet-Based Classification"
   ]
  },
  {
   "cell_type": "code",
   "execution_count": 42,
   "id": "60125dff",
   "metadata": {
    "execution": {
     "iopub.execute_input": "2023-03-20T23:32:08.069375Z",
     "iopub.status.busy": "2023-03-20T23:32:08.068877Z",
     "iopub.status.idle": "2023-03-20T23:32:08.074623Z",
     "shell.execute_reply": "2023-03-20T23:32:08.073477Z"
    },
    "papermill": {
     "duration": 0.022123,
     "end_time": "2023-03-20T23:32:08.076372",
     "exception": false,
     "start_time": "2023-03-20T23:32:08.054249",
     "status": "completed"
    },
    "tags": []
   },
   "outputs": [],
   "source": [
    "metrics_data['Shapelets'] = {}"
   ]
  },
  {
   "cell_type": "code",
   "execution_count": 43,
   "id": "efb8984d",
   "metadata": {
    "execution": {
     "iopub.execute_input": "2023-03-20T23:32:08.106507Z",
     "iopub.status.busy": "2023-03-20T23:32:08.105350Z",
     "iopub.status.idle": "2023-03-20T23:32:10.736914Z",
     "shell.execute_reply": "2023-03-20T23:32:10.735835Z"
    },
    "papermill": {
     "duration": 2.650026,
     "end_time": "2023-03-20T23:32:10.739819",
     "exception": false,
     "start_time": "2023-03-20T23:32:08.089793",
     "status": "completed"
    },
    "tags": []
   },
   "outputs": [],
   "source": [
    "X_train = model.transform(ts_train)\n",
    "X_test = model.transform(ts_test)"
   ]
  },
  {
   "cell_type": "code",
   "execution_count": 44,
   "id": "2e6c0f22",
   "metadata": {
    "execution": {
     "iopub.execute_input": "2023-03-20T23:32:10.794817Z",
     "iopub.status.busy": "2023-03-20T23:32:10.794267Z",
     "iopub.status.idle": "2023-03-20T23:32:10.824543Z",
     "shell.execute_reply": "2023-03-20T23:32:10.823788Z"
    },
    "papermill": {
     "duration": 0.059956,
     "end_time": "2023-03-20T23:32:10.826554",
     "exception": false,
     "start_time": "2023-03-20T23:32:10.766598",
     "status": "completed"
    },
    "tags": []
   },
   "outputs": [
    {
     "data": {
      "text/html": [
       "<div>\n",
       "<style scoped>\n",
       "    .dataframe tbody tr th:only-of-type {\n",
       "        vertical-align: middle;\n",
       "    }\n",
       "\n",
       "    .dataframe tbody tr th {\n",
       "        vertical-align: top;\n",
       "    }\n",
       "\n",
       "    .dataframe thead th {\n",
       "        text-align: right;\n",
       "    }\n",
       "</style>\n",
       "<table border=\"1\" class=\"dataframe\">\n",
       "  <thead>\n",
       "    <tr style=\"text-align: right;\">\n",
       "      <th></th>\n",
       "      <th>0</th>\n",
       "      <th>1</th>\n",
       "      <th>2</th>\n",
       "      <th>3</th>\n",
       "      <th>4</th>\n",
       "      <th>5</th>\n",
       "      <th>6</th>\n",
       "      <th>7</th>\n",
       "      <th>8</th>\n",
       "      <th>9</th>\n",
       "      <th>10</th>\n",
       "      <th>11</th>\n",
       "      <th>12</th>\n",
       "      <th>13</th>\n",
       "      <th>14</th>\n",
       "      <th>15</th>\n",
       "      <th>16</th>\n",
       "      <th>17</th>\n",
       "    </tr>\n",
       "  </thead>\n",
       "  <tbody>\n",
       "    <tr>\n",
       "      <th>0</th>\n",
       "      <td>8.302983</td>\n",
       "      <td>3.370444</td>\n",
       "      <td>4.298861</td>\n",
       "      <td>9.165389</td>\n",
       "      <td>6.558559</td>\n",
       "      <td>3.466308</td>\n",
       "      <td>7.245085</td>\n",
       "      <td>2.613445</td>\n",
       "      <td>3.778126</td>\n",
       "      <td>3.467117</td>\n",
       "      <td>5.607013</td>\n",
       "      <td>3.345413</td>\n",
       "      <td>25.292891</td>\n",
       "      <td>19.402800</td>\n",
       "      <td>31.045597</td>\n",
       "      <td>6.492610</td>\n",
       "      <td>6.443957</td>\n",
       "      <td>7.142012</td>\n",
       "    </tr>\n",
       "    <tr>\n",
       "      <th>1</th>\n",
       "      <td>7.426263</td>\n",
       "      <td>3.142440</td>\n",
       "      <td>4.412357</td>\n",
       "      <td>7.755499</td>\n",
       "      <td>6.230934</td>\n",
       "      <td>3.213365</td>\n",
       "      <td>6.214963</td>\n",
       "      <td>2.995695</td>\n",
       "      <td>3.991242</td>\n",
       "      <td>3.791856</td>\n",
       "      <td>4.839025</td>\n",
       "      <td>3.321116</td>\n",
       "      <td>25.213224</td>\n",
       "      <td>19.427540</td>\n",
       "      <td>31.973068</td>\n",
       "      <td>5.765049</td>\n",
       "      <td>6.167929</td>\n",
       "      <td>7.701965</td>\n",
       "    </tr>\n",
       "    <tr>\n",
       "      <th>2</th>\n",
       "      <td>8.306594</td>\n",
       "      <td>2.468608</td>\n",
       "      <td>3.895362</td>\n",
       "      <td>8.163999</td>\n",
       "      <td>5.796720</td>\n",
       "      <td>2.525156</td>\n",
       "      <td>6.729578</td>\n",
       "      <td>2.645275</td>\n",
       "      <td>2.946021</td>\n",
       "      <td>2.881791</td>\n",
       "      <td>5.560439</td>\n",
       "      <td>2.805595</td>\n",
       "      <td>22.988205</td>\n",
       "      <td>18.378363</td>\n",
       "      <td>29.202362</td>\n",
       "      <td>6.428276</td>\n",
       "      <td>6.688640</td>\n",
       "      <td>6.313076</td>\n",
       "    </tr>\n",
       "    <tr>\n",
       "      <th>3</th>\n",
       "      <td>8.433494</td>\n",
       "      <td>2.997741</td>\n",
       "      <td>4.452124</td>\n",
       "      <td>8.975719</td>\n",
       "      <td>6.263029</td>\n",
       "      <td>2.988747</td>\n",
       "      <td>7.329569</td>\n",
       "      <td>2.961669</td>\n",
       "      <td>3.741399</td>\n",
       "      <td>3.642852</td>\n",
       "      <td>6.045238</td>\n",
       "      <td>3.373448</td>\n",
       "      <td>24.413567</td>\n",
       "      <td>18.965675</td>\n",
       "      <td>30.370132</td>\n",
       "      <td>6.926456</td>\n",
       "      <td>6.756835</td>\n",
       "      <td>7.168363</td>\n",
       "    </tr>\n",
       "    <tr>\n",
       "      <th>4</th>\n",
       "      <td>8.816075</td>\n",
       "      <td>3.215854</td>\n",
       "      <td>4.797070</td>\n",
       "      <td>9.293550</td>\n",
       "      <td>6.983482</td>\n",
       "      <td>3.377103</td>\n",
       "      <td>7.500962</td>\n",
       "      <td>3.106328</td>\n",
       "      <td>4.102342</td>\n",
       "      <td>3.849656</td>\n",
       "      <td>5.684332</td>\n",
       "      <td>3.706517</td>\n",
       "      <td>25.224213</td>\n",
       "      <td>19.656208</td>\n",
       "      <td>31.368483</td>\n",
       "      <td>6.468716</td>\n",
       "      <td>6.581613</td>\n",
       "      <td>7.515222</td>\n",
       "    </tr>\n",
       "    <tr>\n",
       "      <th>...</th>\n",
       "      <td>...</td>\n",
       "      <td>...</td>\n",
       "      <td>...</td>\n",
       "      <td>...</td>\n",
       "      <td>...</td>\n",
       "      <td>...</td>\n",
       "      <td>...</td>\n",
       "      <td>...</td>\n",
       "      <td>...</td>\n",
       "      <td>...</td>\n",
       "      <td>...</td>\n",
       "      <td>...</td>\n",
       "      <td>...</td>\n",
       "      <td>...</td>\n",
       "      <td>...</td>\n",
       "      <td>...</td>\n",
       "      <td>...</td>\n",
       "      <td>...</td>\n",
       "    </tr>\n",
       "    <tr>\n",
       "      <th>7195</th>\n",
       "      <td>6.883502</td>\n",
       "      <td>3.411067</td>\n",
       "      <td>4.492060</td>\n",
       "      <td>8.469995</td>\n",
       "      <td>6.123120</td>\n",
       "      <td>3.651131</td>\n",
       "      <td>6.624105</td>\n",
       "      <td>3.394627</td>\n",
       "      <td>4.323848</td>\n",
       "      <td>4.070706</td>\n",
       "      <td>5.022873</td>\n",
       "      <td>3.972672</td>\n",
       "      <td>25.534012</td>\n",
       "      <td>19.991745</td>\n",
       "      <td>32.192986</td>\n",
       "      <td>5.820625</td>\n",
       "      <td>6.125369</td>\n",
       "      <td>7.906633</td>\n",
       "    </tr>\n",
       "    <tr>\n",
       "      <th>7196</th>\n",
       "      <td>8.870690</td>\n",
       "      <td>2.445492</td>\n",
       "      <td>4.137175</td>\n",
       "      <td>9.433558</td>\n",
       "      <td>6.938795</td>\n",
       "      <td>2.407718</td>\n",
       "      <td>7.099548</td>\n",
       "      <td>2.803819</td>\n",
       "      <td>2.974651</td>\n",
       "      <td>2.867077</td>\n",
       "      <td>6.206181</td>\n",
       "      <td>2.753497</td>\n",
       "      <td>23.871679</td>\n",
       "      <td>18.744009</td>\n",
       "      <td>28.780289</td>\n",
       "      <td>7.414788</td>\n",
       "      <td>7.373473</td>\n",
       "      <td>6.691208</td>\n",
       "    </tr>\n",
       "    <tr>\n",
       "      <th>7197</th>\n",
       "      <td>8.810570</td>\n",
       "      <td>2.326601</td>\n",
       "      <td>3.501438</td>\n",
       "      <td>7.926543</td>\n",
       "      <td>6.158306</td>\n",
       "      <td>2.470832</td>\n",
       "      <td>6.948472</td>\n",
       "      <td>2.539465</td>\n",
       "      <td>3.005168</td>\n",
       "      <td>2.839385</td>\n",
       "      <td>5.530785</td>\n",
       "      <td>2.814499</td>\n",
       "      <td>23.969450</td>\n",
       "      <td>18.649921</td>\n",
       "      <td>29.427992</td>\n",
       "      <td>6.524601</td>\n",
       "      <td>6.612014</td>\n",
       "      <td>6.576032</td>\n",
       "    </tr>\n",
       "    <tr>\n",
       "      <th>7198</th>\n",
       "      <td>7.001757</td>\n",
       "      <td>2.683968</td>\n",
       "      <td>4.528265</td>\n",
       "      <td>8.166682</td>\n",
       "      <td>6.368040</td>\n",
       "      <td>2.999764</td>\n",
       "      <td>6.624195</td>\n",
       "      <td>3.259159</td>\n",
       "      <td>3.908607</td>\n",
       "      <td>3.832554</td>\n",
       "      <td>4.320422</td>\n",
       "      <td>3.643265</td>\n",
       "      <td>24.865908</td>\n",
       "      <td>19.078638</td>\n",
       "      <td>32.259106</td>\n",
       "      <td>5.251884</td>\n",
       "      <td>5.533134</td>\n",
       "      <td>7.888647</td>\n",
       "    </tr>\n",
       "    <tr>\n",
       "      <th>7199</th>\n",
       "      <td>6.938660</td>\n",
       "      <td>3.254642</td>\n",
       "      <td>4.659455</td>\n",
       "      <td>8.085742</td>\n",
       "      <td>6.397343</td>\n",
       "      <td>3.434561</td>\n",
       "      <td>6.456879</td>\n",
       "      <td>3.708042</td>\n",
       "      <td>4.554105</td>\n",
       "      <td>4.401481</td>\n",
       "      <td>4.594099</td>\n",
       "      <td>4.420511</td>\n",
       "      <td>26.317770</td>\n",
       "      <td>20.225029</td>\n",
       "      <td>33.372181</td>\n",
       "      <td>5.638768</td>\n",
       "      <td>5.852963</td>\n",
       "      <td>8.700262</td>\n",
       "    </tr>\n",
       "  </tbody>\n",
       "</table>\n",
       "<p>7200 rows × 18 columns</p>\n",
       "</div>"
      ],
      "text/plain": [
       "            0         1         2         3         4         5         6   \\\n",
       "0     8.302983  3.370444  4.298861  9.165389  6.558559  3.466308  7.245085   \n",
       "1     7.426263  3.142440  4.412357  7.755499  6.230934  3.213365  6.214963   \n",
       "2     8.306594  2.468608  3.895362  8.163999  5.796720  2.525156  6.729578   \n",
       "3     8.433494  2.997741  4.452124  8.975719  6.263029  2.988747  7.329569   \n",
       "4     8.816075  3.215854  4.797070  9.293550  6.983482  3.377103  7.500962   \n",
       "...        ...       ...       ...       ...       ...       ...       ...   \n",
       "7195  6.883502  3.411067  4.492060  8.469995  6.123120  3.651131  6.624105   \n",
       "7196  8.870690  2.445492  4.137175  9.433558  6.938795  2.407718  7.099548   \n",
       "7197  8.810570  2.326601  3.501438  7.926543  6.158306  2.470832  6.948472   \n",
       "7198  7.001757  2.683968  4.528265  8.166682  6.368040  2.999764  6.624195   \n",
       "7199  6.938660  3.254642  4.659455  8.085742  6.397343  3.434561  6.456879   \n",
       "\n",
       "            7         8         9         10        11         12         13  \\\n",
       "0     2.613445  3.778126  3.467117  5.607013  3.345413  25.292891  19.402800   \n",
       "1     2.995695  3.991242  3.791856  4.839025  3.321116  25.213224  19.427540   \n",
       "2     2.645275  2.946021  2.881791  5.560439  2.805595  22.988205  18.378363   \n",
       "3     2.961669  3.741399  3.642852  6.045238  3.373448  24.413567  18.965675   \n",
       "4     3.106328  4.102342  3.849656  5.684332  3.706517  25.224213  19.656208   \n",
       "...        ...       ...       ...       ...       ...        ...        ...   \n",
       "7195  3.394627  4.323848  4.070706  5.022873  3.972672  25.534012  19.991745   \n",
       "7196  2.803819  2.974651  2.867077  6.206181  2.753497  23.871679  18.744009   \n",
       "7197  2.539465  3.005168  2.839385  5.530785  2.814499  23.969450  18.649921   \n",
       "7198  3.259159  3.908607  3.832554  4.320422  3.643265  24.865908  19.078638   \n",
       "7199  3.708042  4.554105  4.401481  4.594099  4.420511  26.317770  20.225029   \n",
       "\n",
       "             14        15        16        17  \n",
       "0     31.045597  6.492610  6.443957  7.142012  \n",
       "1     31.973068  5.765049  6.167929  7.701965  \n",
       "2     29.202362  6.428276  6.688640  6.313076  \n",
       "3     30.370132  6.926456  6.756835  7.168363  \n",
       "4     31.368483  6.468716  6.581613  7.515222  \n",
       "...         ...       ...       ...       ...  \n",
       "7195  32.192986  5.820625  6.125369  7.906633  \n",
       "7196  28.780289  7.414788  7.373473  6.691208  \n",
       "7197  29.427992  6.524601  6.612014  6.576032  \n",
       "7198  32.259106  5.251884  5.533134  7.888647  \n",
       "7199  33.372181  5.638768  5.852963  8.700262  \n",
       "\n",
       "[7200 rows x 18 columns]"
      ]
     },
     "execution_count": 44,
     "metadata": {},
     "output_type": "execute_result"
    }
   ],
   "source": [
    "pd.DataFrame(X_test)"
   ]
  },
  {
   "cell_type": "markdown",
   "id": "5fa024f7",
   "metadata": {
    "execution": {
     "iopub.execute_input": "2023-02-07T23:47:19.876941Z",
     "iopub.status.busy": "2023-02-07T23:47:19.876424Z",
     "iopub.status.idle": "2023-02-07T23:47:20.399488Z",
     "shell.execute_reply": "2023-02-07T23:47:20.398142Z"
    },
    "papermill": {
     "duration": 0.02282,
     "end_time": "2023-03-20T23:32:10.878768",
     "exception": false,
     "start_time": "2023-03-20T23:32:10.855948",
     "status": "completed"
    },
    "tags": []
   },
   "source": [
    "**Decision Tree**"
   ]
  },
  {
   "cell_type": "code",
   "execution_count": 45,
   "id": "4f5400c9",
   "metadata": {
    "execution": {
     "iopub.execute_input": "2023-03-20T23:32:10.908616Z",
     "iopub.status.busy": "2023-03-20T23:32:10.908315Z",
     "iopub.status.idle": "2023-03-20T23:32:11.914261Z",
     "shell.execute_reply": "2023-03-20T23:32:11.913171Z"
    },
    "papermill": {
     "duration": 1.023947,
     "end_time": "2023-03-20T23:32:11.916990",
     "exception": false,
     "start_time": "2023-03-20T23:32:10.893043",
     "status": "completed"
    },
    "tags": []
   },
   "outputs": [
    {
     "data": {
      "text/html": [
       "<style>#sk-container-id-5 {color: black;background-color: white;}#sk-container-id-5 pre{padding: 0;}#sk-container-id-5 div.sk-toggleable {background-color: white;}#sk-container-id-5 label.sk-toggleable__label {cursor: pointer;display: block;width: 100%;margin-bottom: 0;padding: 0.3em;box-sizing: border-box;text-align: center;}#sk-container-id-5 label.sk-toggleable__label-arrow:before {content: \"▸\";float: left;margin-right: 0.25em;color: #696969;}#sk-container-id-5 label.sk-toggleable__label-arrow:hover:before {color: black;}#sk-container-id-5 div.sk-estimator:hover label.sk-toggleable__label-arrow:before {color: black;}#sk-container-id-5 div.sk-toggleable__content {max-height: 0;max-width: 0;overflow: hidden;text-align: left;background-color: #f0f8ff;}#sk-container-id-5 div.sk-toggleable__content pre {margin: 0.2em;color: black;border-radius: 0.25em;background-color: #f0f8ff;}#sk-container-id-5 input.sk-toggleable__control:checked~div.sk-toggleable__content {max-height: 200px;max-width: 100%;overflow: auto;}#sk-container-id-5 input.sk-toggleable__control:checked~label.sk-toggleable__label-arrow:before {content: \"▾\";}#sk-container-id-5 div.sk-estimator input.sk-toggleable__control:checked~label.sk-toggleable__label {background-color: #d4ebff;}#sk-container-id-5 div.sk-label input.sk-toggleable__control:checked~label.sk-toggleable__label {background-color: #d4ebff;}#sk-container-id-5 input.sk-hidden--visually {border: 0;clip: rect(1px 1px 1px 1px);clip: rect(1px, 1px, 1px, 1px);height: 1px;margin: -1px;overflow: hidden;padding: 0;position: absolute;width: 1px;}#sk-container-id-5 div.sk-estimator {font-family: monospace;background-color: #f0f8ff;border: 1px dotted black;border-radius: 0.25em;box-sizing: border-box;margin-bottom: 0.5em;}#sk-container-id-5 div.sk-estimator:hover {background-color: #d4ebff;}#sk-container-id-5 div.sk-parallel-item::after {content: \"\";width: 100%;border-bottom: 1px solid gray;flex-grow: 1;}#sk-container-id-5 div.sk-label:hover label.sk-toggleable__label {background-color: #d4ebff;}#sk-container-id-5 div.sk-serial::before {content: \"\";position: absolute;border-left: 1px solid gray;box-sizing: border-box;top: 0;bottom: 0;left: 50%;z-index: 0;}#sk-container-id-5 div.sk-serial {display: flex;flex-direction: column;align-items: center;background-color: white;padding-right: 0.2em;padding-left: 0.2em;position: relative;}#sk-container-id-5 div.sk-item {position: relative;z-index: 1;}#sk-container-id-5 div.sk-parallel {display: flex;align-items: stretch;justify-content: center;background-color: white;position: relative;}#sk-container-id-5 div.sk-item::before, #sk-container-id-5 div.sk-parallel-item::before {content: \"\";position: absolute;border-left: 1px solid gray;box-sizing: border-box;top: 0;bottom: 0;left: 50%;z-index: -1;}#sk-container-id-5 div.sk-parallel-item {display: flex;flex-direction: column;z-index: 1;position: relative;background-color: white;}#sk-container-id-5 div.sk-parallel-item:first-child::after {align-self: flex-end;width: 50%;}#sk-container-id-5 div.sk-parallel-item:last-child::after {align-self: flex-start;width: 50%;}#sk-container-id-5 div.sk-parallel-item:only-child::after {width: 0;}#sk-container-id-5 div.sk-dashed-wrapped {border: 1px dashed gray;margin: 0 0.4em 0.5em 0.4em;box-sizing: border-box;padding-bottom: 0.4em;background-color: white;}#sk-container-id-5 div.sk-label label {font-family: monospace;font-weight: bold;display: inline-block;line-height: 1.2em;}#sk-container-id-5 div.sk-label-container {text-align: center;}#sk-container-id-5 div.sk-container {/* jupyter's `normalize.less` sets `[hidden] { display: none; }` but bootstrap.min.css set `[hidden] { display: none !important; }` so we also need the `!important` here to be able to override the default hidden behavior on the sphinx rendered scikit-learn.org. See: https://github.com/scikit-learn/scikit-learn/issues/21755 */display: inline-block !important;position: relative;}#sk-container-id-5 div.sk-text-repr-fallback {display: none;}</style><div id=\"sk-container-id-5\" class=\"sk-top-container\"><div class=\"sk-text-repr-fallback\"><pre>DecisionTreeClassifier(random_state=42)</pre><b>In a Jupyter environment, please rerun this cell to show the HTML representation or trust the notebook. <br />On GitHub, the HTML representation is unable to render, please try loading this page with nbviewer.org.</b></div><div class=\"sk-container\" hidden><div class=\"sk-item\"><div class=\"sk-estimator sk-toggleable\"><input class=\"sk-toggleable__control sk-hidden--visually\" id=\"sk-estimator-id-5\" type=\"checkbox\" checked><label for=\"sk-estimator-id-5\" class=\"sk-toggleable__label sk-toggleable__label-arrow\">DecisionTreeClassifier</label><div class=\"sk-toggleable__content\"><pre>DecisionTreeClassifier(random_state=42)</pre></div></div></div></div></div>"
      ],
      "text/plain": [
       "DecisionTreeClassifier(random_state=42)"
      ]
     },
     "execution_count": 45,
     "metadata": {},
     "output_type": "execute_result"
    }
   ],
   "source": [
    "clf = DecisionTreeClassifier(random_state=42)\n",
    "clf.fit(X_train, y_train)"
   ]
  },
  {
   "cell_type": "code",
   "execution_count": 46,
   "id": "3b56d190",
   "metadata": {
    "execution": {
     "iopub.execute_input": "2023-03-20T23:32:11.954237Z",
     "iopub.status.busy": "2023-03-20T23:32:11.953938Z",
     "iopub.status.idle": "2023-03-20T23:32:12.120006Z",
     "shell.execute_reply": "2023-03-20T23:32:12.118954Z"
    },
    "papermill": {
     "duration": 0.185598,
     "end_time": "2023-03-20T23:32:12.121788",
     "exception": false,
     "start_time": "2023-03-20T23:32:11.936190",
     "status": "completed"
    },
    "tags": []
   },
   "outputs": [
    {
     "name": "stdout",
     "output_type": "stream",
     "text": [
      "              precision    recall  f1-score   support\n",
      "\n",
      "         pop       0.43      0.43      0.43      2400\n",
      "         rap       0.64      0.62      0.63      2400\n",
      "        rock       0.44      0.46      0.45      2400\n",
      "\n",
      "    accuracy                           0.50      7200\n",
      "   macro avg       0.50      0.50      0.50      7200\n",
      "weighted avg       0.50      0.50      0.50      7200\n",
      "\n"
     ]
    }
   ],
   "source": [
    "y_pred = clf.predict(X_test)\n",
    "print(classification_report(y_test, y_pred))"
   ]
  },
  {
   "cell_type": "code",
   "execution_count": 47,
   "id": "42bc91ff",
   "metadata": {
    "execution": {
     "iopub.execute_input": "2023-03-20T23:32:12.155441Z",
     "iopub.status.busy": "2023-03-20T23:32:12.154922Z",
     "iopub.status.idle": "2023-03-20T23:32:12.161126Z",
     "shell.execute_reply": "2023-03-20T23:32:12.160352Z"
    },
    "papermill": {
     "duration": 0.026104,
     "end_time": "2023-03-20T23:32:12.163647",
     "exception": false,
     "start_time": "2023-03-20T23:32:12.137543",
     "status": "completed"
    },
    "tags": []
   },
   "outputs": [],
   "source": [
    "pickle.dump(clf, open(f'{data_path}/decision_tree.pkl', 'wb'))"
   ]
  },
  {
   "cell_type": "code",
   "execution_count": 48,
   "id": "ea9be210",
   "metadata": {
    "execution": {
     "iopub.execute_input": "2023-03-20T23:32:12.212570Z",
     "iopub.status.busy": "2023-03-20T23:32:12.212127Z",
     "iopub.status.idle": "2023-03-20T23:32:12.342578Z",
     "shell.execute_reply": "2023-03-20T23:32:12.341592Z"
    },
    "papermill": {
     "duration": 0.148754,
     "end_time": "2023-03-20T23:32:12.344664",
     "exception": false,
     "start_time": "2023-03-20T23:32:12.195910",
     "status": "completed"
    },
    "tags": []
   },
   "outputs": [],
   "source": [
    "acc = accuracy_score(y_test, y_pred)\n",
    "pre = precision_score(y_test, y_pred, average=avg_par)\n",
    "rec = recall_score(y_test, y_pred, average=avg_par)\n",
    "f1 = f1_score(y_test, y_pred, average=avg_par)\n",
    "\n",
    "metrics_data['Shapelets']['DecisionTree'] = {'Accuracy': acc, 'Precision': pre, 'Recall': rec, 'F1': f1}"
   ]
  },
  {
   "cell_type": "markdown",
   "id": "3ca3443b",
   "metadata": {
    "papermill": {
     "duration": 0.014031,
     "end_time": "2023-03-20T23:32:12.375619",
     "exception": false,
     "start_time": "2023-03-20T23:32:12.361588",
     "status": "completed"
    },
    "tags": []
   },
   "source": [
    "**Random Forest**"
   ]
  },
  {
   "cell_type": "code",
   "execution_count": 49,
   "id": "37795e21",
   "metadata": {
    "execution": {
     "iopub.execute_input": "2023-03-20T23:32:12.406915Z",
     "iopub.status.busy": "2023-03-20T23:32:12.406495Z",
     "iopub.status.idle": "2023-03-20T23:32:27.134568Z",
     "shell.execute_reply": "2023-03-20T23:32:27.133511Z"
    },
    "papermill": {
     "duration": 14.746494,
     "end_time": "2023-03-20T23:32:27.136259",
     "exception": false,
     "start_time": "2023-03-20T23:32:12.389765",
     "status": "completed"
    },
    "tags": []
   },
   "outputs": [
    {
     "data": {
      "text/html": [
       "<style>#sk-container-id-6 {color: black;background-color: white;}#sk-container-id-6 pre{padding: 0;}#sk-container-id-6 div.sk-toggleable {background-color: white;}#sk-container-id-6 label.sk-toggleable__label {cursor: pointer;display: block;width: 100%;margin-bottom: 0;padding: 0.3em;box-sizing: border-box;text-align: center;}#sk-container-id-6 label.sk-toggleable__label-arrow:before {content: \"▸\";float: left;margin-right: 0.25em;color: #696969;}#sk-container-id-6 label.sk-toggleable__label-arrow:hover:before {color: black;}#sk-container-id-6 div.sk-estimator:hover label.sk-toggleable__label-arrow:before {color: black;}#sk-container-id-6 div.sk-toggleable__content {max-height: 0;max-width: 0;overflow: hidden;text-align: left;background-color: #f0f8ff;}#sk-container-id-6 div.sk-toggleable__content pre {margin: 0.2em;color: black;border-radius: 0.25em;background-color: #f0f8ff;}#sk-container-id-6 input.sk-toggleable__control:checked~div.sk-toggleable__content {max-height: 200px;max-width: 100%;overflow: auto;}#sk-container-id-6 input.sk-toggleable__control:checked~label.sk-toggleable__label-arrow:before {content: \"▾\";}#sk-container-id-6 div.sk-estimator input.sk-toggleable__control:checked~label.sk-toggleable__label {background-color: #d4ebff;}#sk-container-id-6 div.sk-label input.sk-toggleable__control:checked~label.sk-toggleable__label {background-color: #d4ebff;}#sk-container-id-6 input.sk-hidden--visually {border: 0;clip: rect(1px 1px 1px 1px);clip: rect(1px, 1px, 1px, 1px);height: 1px;margin: -1px;overflow: hidden;padding: 0;position: absolute;width: 1px;}#sk-container-id-6 div.sk-estimator {font-family: monospace;background-color: #f0f8ff;border: 1px dotted black;border-radius: 0.25em;box-sizing: border-box;margin-bottom: 0.5em;}#sk-container-id-6 div.sk-estimator:hover {background-color: #d4ebff;}#sk-container-id-6 div.sk-parallel-item::after {content: \"\";width: 100%;border-bottom: 1px solid gray;flex-grow: 1;}#sk-container-id-6 div.sk-label:hover label.sk-toggleable__label {background-color: #d4ebff;}#sk-container-id-6 div.sk-serial::before {content: \"\";position: absolute;border-left: 1px solid gray;box-sizing: border-box;top: 0;bottom: 0;left: 50%;z-index: 0;}#sk-container-id-6 div.sk-serial {display: flex;flex-direction: column;align-items: center;background-color: white;padding-right: 0.2em;padding-left: 0.2em;position: relative;}#sk-container-id-6 div.sk-item {position: relative;z-index: 1;}#sk-container-id-6 div.sk-parallel {display: flex;align-items: stretch;justify-content: center;background-color: white;position: relative;}#sk-container-id-6 div.sk-item::before, #sk-container-id-6 div.sk-parallel-item::before {content: \"\";position: absolute;border-left: 1px solid gray;box-sizing: border-box;top: 0;bottom: 0;left: 50%;z-index: -1;}#sk-container-id-6 div.sk-parallel-item {display: flex;flex-direction: column;z-index: 1;position: relative;background-color: white;}#sk-container-id-6 div.sk-parallel-item:first-child::after {align-self: flex-end;width: 50%;}#sk-container-id-6 div.sk-parallel-item:last-child::after {align-self: flex-start;width: 50%;}#sk-container-id-6 div.sk-parallel-item:only-child::after {width: 0;}#sk-container-id-6 div.sk-dashed-wrapped {border: 1px dashed gray;margin: 0 0.4em 0.5em 0.4em;box-sizing: border-box;padding-bottom: 0.4em;background-color: white;}#sk-container-id-6 div.sk-label label {font-family: monospace;font-weight: bold;display: inline-block;line-height: 1.2em;}#sk-container-id-6 div.sk-label-container {text-align: center;}#sk-container-id-6 div.sk-container {/* jupyter's `normalize.less` sets `[hidden] { display: none; }` but bootstrap.min.css set `[hidden] { display: none !important; }` so we also need the `!important` here to be able to override the default hidden behavior on the sphinx rendered scikit-learn.org. See: https://github.com/scikit-learn/scikit-learn/issues/21755 */display: inline-block !important;position: relative;}#sk-container-id-6 div.sk-text-repr-fallback {display: none;}</style><div id=\"sk-container-id-6\" class=\"sk-top-container\"><div class=\"sk-text-repr-fallback\"><pre>RandomForestClassifier(random_state=42)</pre><b>In a Jupyter environment, please rerun this cell to show the HTML representation or trust the notebook. <br />On GitHub, the HTML representation is unable to render, please try loading this page with nbviewer.org.</b></div><div class=\"sk-container\" hidden><div class=\"sk-item\"><div class=\"sk-estimator sk-toggleable\"><input class=\"sk-toggleable__control sk-hidden--visually\" id=\"sk-estimator-id-6\" type=\"checkbox\" checked><label for=\"sk-estimator-id-6\" class=\"sk-toggleable__label sk-toggleable__label-arrow\">RandomForestClassifier</label><div class=\"sk-toggleable__content\"><pre>RandomForestClassifier(random_state=42)</pre></div></div></div></div></div>"
      ],
      "text/plain": [
       "RandomForestClassifier(random_state=42)"
      ]
     },
     "execution_count": 49,
     "metadata": {},
     "output_type": "execute_result"
    }
   ],
   "source": [
    "clf = RandomForestClassifier(random_state=42)\n",
    "clf.fit(X_train, y_train)"
   ]
  },
  {
   "cell_type": "code",
   "execution_count": 50,
   "id": "581ab90a",
   "metadata": {
    "execution": {
     "iopub.execute_input": "2023-03-20T23:32:27.166390Z",
     "iopub.status.busy": "2023-03-20T23:32:27.166105Z",
     "iopub.status.idle": "2023-03-20T23:32:27.490937Z",
     "shell.execute_reply": "2023-03-20T23:32:27.489834Z"
    },
    "papermill": {
     "duration": 0.342114,
     "end_time": "2023-03-20T23:32:27.492680",
     "exception": false,
     "start_time": "2023-03-20T23:32:27.150566",
     "status": "completed"
    },
    "tags": []
   },
   "outputs": [
    {
     "name": "stdout",
     "output_type": "stream",
     "text": [
      "              precision    recall  f1-score   support\n",
      "\n",
      "         pop       0.51      0.51      0.51      2400\n",
      "         rap       0.73      0.74      0.74      2400\n",
      "        rock       0.55      0.54      0.54      2400\n",
      "\n",
      "    accuracy                           0.60      7200\n",
      "   macro avg       0.60      0.60      0.60      7200\n",
      "weighted avg       0.60      0.60      0.60      7200\n",
      "\n"
     ]
    }
   ],
   "source": [
    "y_pred = clf.predict(X_test)\n",
    "print(classification_report(y_test, y_pred))"
   ]
  },
  {
   "cell_type": "code",
   "execution_count": 51,
   "id": "faf1d7f4",
   "metadata": {
    "execution": {
     "iopub.execute_input": "2023-03-20T23:32:27.523417Z",
     "iopub.status.busy": "2023-03-20T23:32:27.522804Z",
     "iopub.status.idle": "2023-03-20T23:32:27.643188Z",
     "shell.execute_reply": "2023-03-20T23:32:27.642269Z"
    },
    "papermill": {
     "duration": 0.137874,
     "end_time": "2023-03-20T23:32:27.645019",
     "exception": false,
     "start_time": "2023-03-20T23:32:27.507145",
     "status": "completed"
    },
    "tags": []
   },
   "outputs": [],
   "source": [
    "acc = accuracy_score(y_test, y_pred)\n",
    "pre = precision_score(y_test, y_pred, average=avg_par)\n",
    "rec = recall_score(y_test, y_pred, average=avg_par)\n",
    "f1 = f1_score(y_test, y_pred, average=avg_par)\n",
    "\n",
    "metrics_data['Shapelets']['RandomForest'] = {'Accuracy': acc, 'Precision': pre, 'Recall': rec, 'F1': f1}"
   ]
  },
  {
   "cell_type": "markdown",
   "id": "61fceefb",
   "metadata": {
    "papermill": {
     "duration": 0.014422,
     "end_time": "2023-03-20T23:32:27.675352",
     "exception": false,
     "start_time": "2023-03-20T23:32:27.660930",
     "status": "completed"
    },
    "tags": []
   },
   "source": [
    "**LightGBM**"
   ]
  },
  {
   "cell_type": "code",
   "execution_count": 52,
   "id": "194189da",
   "metadata": {
    "execution": {
     "iopub.execute_input": "2023-03-20T23:32:27.706704Z",
     "iopub.status.busy": "2023-03-20T23:32:27.706153Z",
     "iopub.status.idle": "2023-03-20T23:32:28.885305Z",
     "shell.execute_reply": "2023-03-20T23:32:28.884402Z"
    },
    "papermill": {
     "duration": 1.198768,
     "end_time": "2023-03-20T23:32:28.888797",
     "exception": false,
     "start_time": "2023-03-20T23:32:27.690029",
     "status": "completed"
    },
    "tags": []
   },
   "outputs": [
    {
     "data": {
      "text/html": [
       "<style>#sk-container-id-7 {color: black;background-color: white;}#sk-container-id-7 pre{padding: 0;}#sk-container-id-7 div.sk-toggleable {background-color: white;}#sk-container-id-7 label.sk-toggleable__label {cursor: pointer;display: block;width: 100%;margin-bottom: 0;padding: 0.3em;box-sizing: border-box;text-align: center;}#sk-container-id-7 label.sk-toggleable__label-arrow:before {content: \"▸\";float: left;margin-right: 0.25em;color: #696969;}#sk-container-id-7 label.sk-toggleable__label-arrow:hover:before {color: black;}#sk-container-id-7 div.sk-estimator:hover label.sk-toggleable__label-arrow:before {color: black;}#sk-container-id-7 div.sk-toggleable__content {max-height: 0;max-width: 0;overflow: hidden;text-align: left;background-color: #f0f8ff;}#sk-container-id-7 div.sk-toggleable__content pre {margin: 0.2em;color: black;border-radius: 0.25em;background-color: #f0f8ff;}#sk-container-id-7 input.sk-toggleable__control:checked~div.sk-toggleable__content {max-height: 200px;max-width: 100%;overflow: auto;}#sk-container-id-7 input.sk-toggleable__control:checked~label.sk-toggleable__label-arrow:before {content: \"▾\";}#sk-container-id-7 div.sk-estimator input.sk-toggleable__control:checked~label.sk-toggleable__label {background-color: #d4ebff;}#sk-container-id-7 div.sk-label input.sk-toggleable__control:checked~label.sk-toggleable__label {background-color: #d4ebff;}#sk-container-id-7 input.sk-hidden--visually {border: 0;clip: rect(1px 1px 1px 1px);clip: rect(1px, 1px, 1px, 1px);height: 1px;margin: -1px;overflow: hidden;padding: 0;position: absolute;width: 1px;}#sk-container-id-7 div.sk-estimator {font-family: monospace;background-color: #f0f8ff;border: 1px dotted black;border-radius: 0.25em;box-sizing: border-box;margin-bottom: 0.5em;}#sk-container-id-7 div.sk-estimator:hover {background-color: #d4ebff;}#sk-container-id-7 div.sk-parallel-item::after {content: \"\";width: 100%;border-bottom: 1px solid gray;flex-grow: 1;}#sk-container-id-7 div.sk-label:hover label.sk-toggleable__label {background-color: #d4ebff;}#sk-container-id-7 div.sk-serial::before {content: \"\";position: absolute;border-left: 1px solid gray;box-sizing: border-box;top: 0;bottom: 0;left: 50%;z-index: 0;}#sk-container-id-7 div.sk-serial {display: flex;flex-direction: column;align-items: center;background-color: white;padding-right: 0.2em;padding-left: 0.2em;position: relative;}#sk-container-id-7 div.sk-item {position: relative;z-index: 1;}#sk-container-id-7 div.sk-parallel {display: flex;align-items: stretch;justify-content: center;background-color: white;position: relative;}#sk-container-id-7 div.sk-item::before, #sk-container-id-7 div.sk-parallel-item::before {content: \"\";position: absolute;border-left: 1px solid gray;box-sizing: border-box;top: 0;bottom: 0;left: 50%;z-index: -1;}#sk-container-id-7 div.sk-parallel-item {display: flex;flex-direction: column;z-index: 1;position: relative;background-color: white;}#sk-container-id-7 div.sk-parallel-item:first-child::after {align-self: flex-end;width: 50%;}#sk-container-id-7 div.sk-parallel-item:last-child::after {align-self: flex-start;width: 50%;}#sk-container-id-7 div.sk-parallel-item:only-child::after {width: 0;}#sk-container-id-7 div.sk-dashed-wrapped {border: 1px dashed gray;margin: 0 0.4em 0.5em 0.4em;box-sizing: border-box;padding-bottom: 0.4em;background-color: white;}#sk-container-id-7 div.sk-label label {font-family: monospace;font-weight: bold;display: inline-block;line-height: 1.2em;}#sk-container-id-7 div.sk-label-container {text-align: center;}#sk-container-id-7 div.sk-container {/* jupyter's `normalize.less` sets `[hidden] { display: none; }` but bootstrap.min.css set `[hidden] { display: none !important; }` so we also need the `!important` here to be able to override the default hidden behavior on the sphinx rendered scikit-learn.org. See: https://github.com/scikit-learn/scikit-learn/issues/21755 */display: inline-block !important;position: relative;}#sk-container-id-7 div.sk-text-repr-fallback {display: none;}</style><div id=\"sk-container-id-7\" class=\"sk-top-container\"><div class=\"sk-text-repr-fallback\"><pre>LGBMClassifier(objective=&#x27;multiclass&#x27;)</pre><b>In a Jupyter environment, please rerun this cell to show the HTML representation or trust the notebook. <br />On GitHub, the HTML representation is unable to render, please try loading this page with nbviewer.org.</b></div><div class=\"sk-container\" hidden><div class=\"sk-item\"><div class=\"sk-estimator sk-toggleable\"><input class=\"sk-toggleable__control sk-hidden--visually\" id=\"sk-estimator-id-7\" type=\"checkbox\" checked><label for=\"sk-estimator-id-7\" class=\"sk-toggleable__label sk-toggleable__label-arrow\">LGBMClassifier</label><div class=\"sk-toggleable__content\"><pre>LGBMClassifier(objective=&#x27;multiclass&#x27;)</pre></div></div></div></div></div>"
      ],
      "text/plain": [
       "LGBMClassifier(objective='multiclass')"
      ]
     },
     "execution_count": 52,
     "metadata": {},
     "output_type": "execute_result"
    }
   ],
   "source": [
    "clf = lgbm.LGBMClassifier(objective=obj_par) \n",
    "clf.fit(X_train, y_train)"
   ]
  },
  {
   "cell_type": "code",
   "execution_count": 53,
   "id": "355a078b",
   "metadata": {
    "execution": {
     "iopub.execute_input": "2023-03-20T23:32:28.955847Z",
     "iopub.status.busy": "2023-03-20T23:32:28.955095Z",
     "iopub.status.idle": "2023-03-20T23:32:29.188429Z",
     "shell.execute_reply": "2023-03-20T23:32:29.186176Z"
    },
    "papermill": {
     "duration": 0.255563,
     "end_time": "2023-03-20T23:32:29.191794",
     "exception": false,
     "start_time": "2023-03-20T23:32:28.936231",
     "status": "completed"
    },
    "tags": []
   },
   "outputs": [
    {
     "name": "stdout",
     "output_type": "stream",
     "text": [
      "              precision    recall  f1-score   support\n",
      "\n",
      "         pop       0.51      0.49      0.50      2400\n",
      "         rap       0.72      0.74      0.73      2400\n",
      "        rock       0.55      0.56      0.55      2400\n",
      "\n",
      "    accuracy                           0.60      7200\n",
      "   macro avg       0.59      0.60      0.59      7200\n",
      "weighted avg       0.59      0.60      0.59      7200\n",
      "\n"
     ]
    }
   ],
   "source": [
    "y_pred = clf.predict(X_test)\n",
    "print(classification_report(y_test, y_pred))"
   ]
  },
  {
   "cell_type": "code",
   "execution_count": 54,
   "id": "f22b911e",
   "metadata": {
    "execution": {
     "iopub.execute_input": "2023-03-20T23:32:29.281049Z",
     "iopub.status.busy": "2023-03-20T23:32:29.280654Z",
     "iopub.status.idle": "2023-03-20T23:32:29.428137Z",
     "shell.execute_reply": "2023-03-20T23:32:29.427428Z"
    },
    "papermill": {
     "duration": 0.190378,
     "end_time": "2023-03-20T23:32:29.430009",
     "exception": false,
     "start_time": "2023-03-20T23:32:29.239631",
     "status": "completed"
    },
    "tags": []
   },
   "outputs": [],
   "source": [
    "acc = accuracy_score(y_test, y_pred)\n",
    "pre = precision_score(y_test, y_pred, average=avg_par)\n",
    "rec = recall_score(y_test, y_pred, average=avg_par)\n",
    "f1 = f1_score(y_test, y_pred, average=avg_par)\n",
    "\n",
    "metrics_data['Shapelets']['LightGBM'] = {'Accuracy': acc, 'Precision': pre, 'Recall': rec, 'F1': f1}"
   ]
  },
  {
   "cell_type": "markdown",
   "id": "0809af9f",
   "metadata": {
    "papermill": {
     "duration": 0.016473,
     "end_time": "2023-03-20T23:32:29.463553",
     "exception": false,
     "start_time": "2023-03-20T23:32:29.447080",
     "status": "completed"
    },
    "tags": []
   },
   "source": [
    "#### KNN"
   ]
  },
  {
   "cell_type": "code",
   "execution_count": 55,
   "id": "1c9237e0",
   "metadata": {
    "execution": {
     "iopub.execute_input": "2023-03-20T23:32:29.522862Z",
     "iopub.status.busy": "2023-03-20T23:32:29.522566Z",
     "iopub.status.idle": "2023-03-20T23:32:29.527139Z",
     "shell.execute_reply": "2023-03-20T23:32:29.526337Z"
    },
    "papermill": {
     "duration": 0.026242,
     "end_time": "2023-03-20T23:32:29.528753",
     "exception": false,
     "start_time": "2023-03-20T23:32:29.502511",
     "status": "completed"
    },
    "tags": []
   },
   "outputs": [],
   "source": [
    "X_train = ts_train.reshape((ts_train.shape[0], ts_train.shape[1]))\n",
    "X_test = ts_test.reshape((ts_test.shape[0], ts_test.shape[1]))"
   ]
  },
  {
   "cell_type": "code",
   "execution_count": 56,
   "id": "192f3c3f",
   "metadata": {
    "execution": {
     "iopub.execute_input": "2023-03-20T23:32:29.560599Z",
     "iopub.status.busy": "2023-03-20T23:32:29.560304Z",
     "iopub.status.idle": "2023-03-20T23:32:29.565418Z",
     "shell.execute_reply": "2023-03-20T23:32:29.564648Z"
    },
    "papermill": {
     "duration": 0.023414,
     "end_time": "2023-03-20T23:32:29.567025",
     "exception": false,
     "start_time": "2023-03-20T23:32:29.543611",
     "status": "completed"
    },
    "tags": []
   },
   "outputs": [
    {
     "data": {
      "text/plain": [
       "(28800, 100)"
      ]
     },
     "execution_count": 56,
     "metadata": {},
     "output_type": "execute_result"
    }
   ],
   "source": [
    "X_train.shape"
   ]
  },
  {
   "cell_type": "code",
   "execution_count": 57,
   "id": "de0e5000",
   "metadata": {
    "execution": {
     "iopub.execute_input": "2023-03-20T23:32:29.606656Z",
     "iopub.status.busy": "2023-03-20T23:32:29.606298Z",
     "iopub.status.idle": "2023-03-20T23:32:29.610421Z",
     "shell.execute_reply": "2023-03-20T23:32:29.609562Z"
    },
    "papermill": {
     "duration": 0.02874,
     "end_time": "2023-03-20T23:32:29.612325",
     "exception": false,
     "start_time": "2023-03-20T23:32:29.583585",
     "status": "completed"
    },
    "tags": []
   },
   "outputs": [],
   "source": [
    "metrics_data['KNN'] = {}"
   ]
  },
  {
   "cell_type": "markdown",
   "id": "8ee39c05",
   "metadata": {
    "papermill": {
     "duration": 0.015541,
     "end_time": "2023-03-20T23:32:29.647824",
     "exception": false,
     "start_time": "2023-03-20T23:32:29.632283",
     "status": "completed"
    },
    "tags": []
   },
   "source": [
    "**Euclidean Distance**"
   ]
  },
  {
   "cell_type": "code",
   "execution_count": 58,
   "id": "55db1f58",
   "metadata": {
    "execution": {
     "iopub.execute_input": "2023-03-20T23:32:29.681208Z",
     "iopub.status.busy": "2023-03-20T23:32:29.680906Z",
     "iopub.status.idle": "2023-03-20T23:32:29.685966Z",
     "shell.execute_reply": "2023-03-20T23:32:29.684615Z"
    },
    "papermill": {
     "duration": 0.024615,
     "end_time": "2023-03-20T23:32:29.688248",
     "exception": false,
     "start_time": "2023-03-20T23:32:29.663633",
     "status": "completed"
    },
    "tags": []
   },
   "outputs": [],
   "source": [
    "from sklearn.neighbors import KNeighborsClassifier"
   ]
  },
  {
   "cell_type": "code",
   "execution_count": 59,
   "id": "132c2537",
   "metadata": {
    "execution": {
     "iopub.execute_input": "2023-03-20T23:32:29.722993Z",
     "iopub.status.busy": "2023-03-20T23:32:29.722694Z",
     "iopub.status.idle": "2023-03-20T23:32:29.771359Z",
     "shell.execute_reply": "2023-03-20T23:32:29.769955Z"
    },
    "papermill": {
     "duration": 0.070999,
     "end_time": "2023-03-20T23:32:29.775980",
     "exception": false,
     "start_time": "2023-03-20T23:32:29.704981",
     "status": "completed"
    },
    "tags": []
   },
   "outputs": [
    {
     "data": {
      "text/html": [
       "<style>#sk-container-id-8 {color: black;background-color: white;}#sk-container-id-8 pre{padding: 0;}#sk-container-id-8 div.sk-toggleable {background-color: white;}#sk-container-id-8 label.sk-toggleable__label {cursor: pointer;display: block;width: 100%;margin-bottom: 0;padding: 0.3em;box-sizing: border-box;text-align: center;}#sk-container-id-8 label.sk-toggleable__label-arrow:before {content: \"▸\";float: left;margin-right: 0.25em;color: #696969;}#sk-container-id-8 label.sk-toggleable__label-arrow:hover:before {color: black;}#sk-container-id-8 div.sk-estimator:hover label.sk-toggleable__label-arrow:before {color: black;}#sk-container-id-8 div.sk-toggleable__content {max-height: 0;max-width: 0;overflow: hidden;text-align: left;background-color: #f0f8ff;}#sk-container-id-8 div.sk-toggleable__content pre {margin: 0.2em;color: black;border-radius: 0.25em;background-color: #f0f8ff;}#sk-container-id-8 input.sk-toggleable__control:checked~div.sk-toggleable__content {max-height: 200px;max-width: 100%;overflow: auto;}#sk-container-id-8 input.sk-toggleable__control:checked~label.sk-toggleable__label-arrow:before {content: \"▾\";}#sk-container-id-8 div.sk-estimator input.sk-toggleable__control:checked~label.sk-toggleable__label {background-color: #d4ebff;}#sk-container-id-8 div.sk-label input.sk-toggleable__control:checked~label.sk-toggleable__label {background-color: #d4ebff;}#sk-container-id-8 input.sk-hidden--visually {border: 0;clip: rect(1px 1px 1px 1px);clip: rect(1px, 1px, 1px, 1px);height: 1px;margin: -1px;overflow: hidden;padding: 0;position: absolute;width: 1px;}#sk-container-id-8 div.sk-estimator {font-family: monospace;background-color: #f0f8ff;border: 1px dotted black;border-radius: 0.25em;box-sizing: border-box;margin-bottom: 0.5em;}#sk-container-id-8 div.sk-estimator:hover {background-color: #d4ebff;}#sk-container-id-8 div.sk-parallel-item::after {content: \"\";width: 100%;border-bottom: 1px solid gray;flex-grow: 1;}#sk-container-id-8 div.sk-label:hover label.sk-toggleable__label {background-color: #d4ebff;}#sk-container-id-8 div.sk-serial::before {content: \"\";position: absolute;border-left: 1px solid gray;box-sizing: border-box;top: 0;bottom: 0;left: 50%;z-index: 0;}#sk-container-id-8 div.sk-serial {display: flex;flex-direction: column;align-items: center;background-color: white;padding-right: 0.2em;padding-left: 0.2em;position: relative;}#sk-container-id-8 div.sk-item {position: relative;z-index: 1;}#sk-container-id-8 div.sk-parallel {display: flex;align-items: stretch;justify-content: center;background-color: white;position: relative;}#sk-container-id-8 div.sk-item::before, #sk-container-id-8 div.sk-parallel-item::before {content: \"\";position: absolute;border-left: 1px solid gray;box-sizing: border-box;top: 0;bottom: 0;left: 50%;z-index: -1;}#sk-container-id-8 div.sk-parallel-item {display: flex;flex-direction: column;z-index: 1;position: relative;background-color: white;}#sk-container-id-8 div.sk-parallel-item:first-child::after {align-self: flex-end;width: 50%;}#sk-container-id-8 div.sk-parallel-item:last-child::after {align-self: flex-start;width: 50%;}#sk-container-id-8 div.sk-parallel-item:only-child::after {width: 0;}#sk-container-id-8 div.sk-dashed-wrapped {border: 1px dashed gray;margin: 0 0.4em 0.5em 0.4em;box-sizing: border-box;padding-bottom: 0.4em;background-color: white;}#sk-container-id-8 div.sk-label label {font-family: monospace;font-weight: bold;display: inline-block;line-height: 1.2em;}#sk-container-id-8 div.sk-label-container {text-align: center;}#sk-container-id-8 div.sk-container {/* jupyter's `normalize.less` sets `[hidden] { display: none; }` but bootstrap.min.css set `[hidden] { display: none !important; }` so we also need the `!important` here to be able to override the default hidden behavior on the sphinx rendered scikit-learn.org. See: https://github.com/scikit-learn/scikit-learn/issues/21755 */display: inline-block !important;position: relative;}#sk-container-id-8 div.sk-text-repr-fallback {display: none;}</style><div id=\"sk-container-id-8\" class=\"sk-top-container\"><div class=\"sk-text-repr-fallback\"><pre>KNeighborsClassifier()</pre><b>In a Jupyter environment, please rerun this cell to show the HTML representation or trust the notebook. <br />On GitHub, the HTML representation is unable to render, please try loading this page with nbviewer.org.</b></div><div class=\"sk-container\" hidden><div class=\"sk-item\"><div class=\"sk-estimator sk-toggleable\"><input class=\"sk-toggleable__control sk-hidden--visually\" id=\"sk-estimator-id-8\" type=\"checkbox\" checked><label for=\"sk-estimator-id-8\" class=\"sk-toggleable__label sk-toggleable__label-arrow\">KNeighborsClassifier</label><div class=\"sk-toggleable__content\"><pre>KNeighborsClassifier()</pre></div></div></div></div></div>"
      ],
      "text/plain": [
       "KNeighborsClassifier()"
      ]
     },
     "execution_count": 59,
     "metadata": {},
     "output_type": "execute_result"
    }
   ],
   "source": [
    "clf = KNeighborsClassifier(n_neighbors=5, weights='uniform')\n",
    "clf.fit(X_train, y_train)"
   ]
  },
  {
   "cell_type": "code",
   "execution_count": 60,
   "id": "0afad62a",
   "metadata": {
    "execution": {
     "iopub.execute_input": "2023-03-20T23:32:29.823655Z",
     "iopub.status.busy": "2023-03-20T23:32:29.823170Z",
     "iopub.status.idle": "2023-03-20T23:32:32.104015Z",
     "shell.execute_reply": "2023-03-20T23:32:32.102554Z"
    },
    "papermill": {
     "duration": 2.305268,
     "end_time": "2023-03-20T23:32:32.107385",
     "exception": false,
     "start_time": "2023-03-20T23:32:29.802117",
     "status": "completed"
    },
    "tags": []
   },
   "outputs": [
    {
     "name": "stdout",
     "output_type": "stream",
     "text": [
      "              precision    recall  f1-score   support\n",
      "\n",
      "         pop       0.38      0.39      0.39      2400\n",
      "         rap       0.70      0.04      0.08      2400\n",
      "        rock       0.36      0.69      0.47      2400\n",
      "\n",
      "    accuracy                           0.37      7200\n",
      "   macro avg       0.48      0.37      0.31      7200\n",
      "weighted avg       0.48      0.37      0.31      7200\n",
      "\n"
     ]
    }
   ],
   "source": [
    "y_pred = clf.predict(X_test)\n",
    "print(classification_report(y_test, y_pred))"
   ]
  },
  {
   "cell_type": "code",
   "execution_count": 61,
   "id": "2d709070",
   "metadata": {
    "execution": {
     "iopub.execute_input": "2023-03-20T23:32:32.191401Z",
     "iopub.status.busy": "2023-03-20T23:32:32.190448Z",
     "iopub.status.idle": "2023-03-20T23:32:32.329802Z",
     "shell.execute_reply": "2023-03-20T23:32:32.328966Z"
    },
    "papermill": {
     "duration": 0.181431,
     "end_time": "2023-03-20T23:32:32.332979",
     "exception": false,
     "start_time": "2023-03-20T23:32:32.151548",
     "status": "completed"
    },
    "tags": []
   },
   "outputs": [],
   "source": [
    "acc = accuracy_score(y_test, y_pred)\n",
    "pre = precision_score(y_test, y_pred, average=avg_par)\n",
    "rec = recall_score(y_test, y_pred, average=avg_par)\n",
    "f1 = f1_score(y_test, y_pred, average=avg_par)\n",
    "\n",
    "metrics_data['KNN']['Euclidean'] = {'Accuracy': acc, 'Precision': pre, 'Recall': rec, 'F1': f1}"
   ]
  },
  {
   "cell_type": "markdown",
   "id": "c5ec2a09",
   "metadata": {
    "papermill": {
     "duration": 0.038827,
     "end_time": "2023-03-20T23:32:32.411558",
     "exception": false,
     "start_time": "2023-03-20T23:32:32.372731",
     "status": "completed"
    },
    "tags": []
   },
   "source": [
    "**Dynamic Time Warping**"
   ]
  },
  {
   "cell_type": "code",
   "execution_count": 62,
   "id": "2df913d8",
   "metadata": {
    "execution": {
     "iopub.execute_input": "2023-03-20T23:32:32.442168Z",
     "iopub.status.busy": "2023-03-20T23:32:32.441845Z",
     "iopub.status.idle": "2023-03-20T23:32:32.518295Z",
     "shell.execute_reply": "2023-03-20T23:32:32.517489Z"
    },
    "papermill": {
     "duration": 0.094681,
     "end_time": "2023-03-20T23:32:32.521233",
     "exception": false,
     "start_time": "2023-03-20T23:32:32.426552",
     "status": "completed"
    },
    "tags": []
   },
   "outputs": [],
   "source": [
    "from pyts.classification import KNeighborsClassifier\n",
    "from pyts.approximation import PiecewiseAggregateApproximation\n",
    "from imblearn.under_sampling import ClusterCentroids\n",
    "from sklearn_extra.cluster import KMedoids"
   ]
  },
  {
   "cell_type": "code",
   "execution_count": 63,
   "id": "db1604ec",
   "metadata": {
    "execution": {
     "iopub.execute_input": "2023-03-20T23:32:32.555100Z",
     "iopub.status.busy": "2023-03-20T23:32:32.554661Z",
     "iopub.status.idle": "2023-03-20T23:32:33.153008Z",
     "shell.execute_reply": "2023-03-20T23:32:33.151651Z"
    },
    "papermill": {
     "duration": 0.617628,
     "end_time": "2023-03-20T23:32:33.156392",
     "exception": false,
     "start_time": "2023-03-20T23:32:32.538764",
     "status": "completed"
    },
    "tags": []
   },
   "outputs": [],
   "source": [
    "if paa_window_size:\n",
    "    paa = PiecewiseAggregateApproximation(window_size=paa_window_size)\n",
    "    X_train = paa.transform(X_train)\n",
    "    X_test = paa.transform(X_test)\n",
    "    X_train.shape"
   ]
  },
  {
   "cell_type": "code",
   "execution_count": 64,
   "id": "59fa27aa",
   "metadata": {
    "execution": {
     "iopub.execute_input": "2023-03-20T23:32:33.237305Z",
     "iopub.status.busy": "2023-03-20T23:32:33.236990Z",
     "iopub.status.idle": "2023-03-20T23:33:29.399501Z",
     "shell.execute_reply": "2023-03-20T23:33:29.385892Z"
    },
    "papermill": {
     "duration": 56.210507,
     "end_time": "2023-03-20T23:33:29.409223",
     "exception": false,
     "start_time": "2023-03-20T23:32:33.198716",
     "status": "completed"
    },
    "tags": []
   },
   "outputs": [
    {
     "name": "stdout",
     "output_type": "stream",
     "text": [
      "{'pop': 2880, 'rap': 2880, 'rock': 2880}\n"
     ]
    },
    {
     "name": "stderr",
     "output_type": "stream",
     "text": [
      "/home/mattiapggioli/lyrics2ts/.venv/lib/python3.9/site-packages/sklearn_extra/cluster/_k_medoids.py:275: UserWarning: Cluster 710 is empty! self.labels_[self.medoid_indices_[710]] may not be labeled with its corresponding cluster (710).\n",
      "  warnings.warn(\n",
      "/home/mattiapggioli/lyrics2ts/.venv/lib/python3.9/site-packages/sklearn_extra/cluster/_k_medoids.py:275: UserWarning: Cluster 724 is empty! self.labels_[self.medoid_indices_[724]] may not be labeled with its corresponding cluster (724).\n",
      "  warnings.warn(\n",
      "/home/mattiapggioli/lyrics2ts/.venv/lib/python3.9/site-packages/sklearn_extra/cluster/_k_medoids.py:275: UserWarning: Cluster 771 is empty! self.labels_[self.medoid_indices_[771]] may not be labeled with its corresponding cluster (771).\n",
      "  warnings.warn(\n",
      "/home/mattiapggioli/lyrics2ts/.venv/lib/python3.9/site-packages/sklearn_extra/cluster/_k_medoids.py:275: UserWarning: Cluster 1294 is empty! self.labels_[self.medoid_indices_[1294]] may not be labeled with its corresponding cluster (1294).\n",
      "  warnings.warn(\n",
      "/home/mattiapggioli/lyrics2ts/.venv/lib/python3.9/site-packages/sklearn_extra/cluster/_k_medoids.py:275: UserWarning: Cluster 1296 is empty! self.labels_[self.medoid_indices_[1296]] may not be labeled with its corresponding cluster (1296).\n",
      "  warnings.warn(\n",
      "/home/mattiapggioli/lyrics2ts/.venv/lib/python3.9/site-packages/sklearn_extra/cluster/_k_medoids.py:275: UserWarning: Cluster 1543 is empty! self.labels_[self.medoid_indices_[1543]] may not be labeled with its corresponding cluster (1543).\n",
      "  warnings.warn(\n",
      "/home/mattiapggioli/lyrics2ts/.venv/lib/python3.9/site-packages/sklearn_extra/cluster/_k_medoids.py:275: UserWarning: Cluster 2486 is empty! self.labels_[self.medoid_indices_[2486]] may not be labeled with its corresponding cluster (2486).\n",
      "  warnings.warn(\n",
      "/home/mattiapggioli/lyrics2ts/.venv/lib/python3.9/site-packages/sklearn_extra/cluster/_k_medoids.py:275: UserWarning: Cluster 2549 is empty! self.labels_[self.medoid_indices_[2549]] may not be labeled with its corresponding cluster (2549).\n",
      "  warnings.warn(\n"
     ]
    },
    {
     "name": "stderr",
     "output_type": "stream",
     "text": [
      "/home/mattiapggioli/lyrics2ts/.venv/lib/python3.9/site-packages/sklearn_extra/cluster/_k_medoids.py:275: UserWarning: Cluster 527 is empty! self.labels_[self.medoid_indices_[527]] may not be labeled with its corresponding cluster (527).\n",
      "  warnings.warn(\n",
      "/home/mattiapggioli/lyrics2ts/.venv/lib/python3.9/site-packages/sklearn_extra/cluster/_k_medoids.py:275: UserWarning: Cluster 726 is empty! self.labels_[self.medoid_indices_[726]] may not be labeled with its corresponding cluster (726).\n",
      "  warnings.warn(\n",
      "/home/mattiapggioli/lyrics2ts/.venv/lib/python3.9/site-packages/sklearn_extra/cluster/_k_medoids.py:275: UserWarning: Cluster 817 is empty! self.labels_[self.medoid_indices_[817]] may not be labeled with its corresponding cluster (817).\n",
      "  warnings.warn(\n",
      "/home/mattiapggioli/lyrics2ts/.venv/lib/python3.9/site-packages/sklearn_extra/cluster/_k_medoids.py:275: UserWarning: Cluster 833 is empty! self.labels_[self.medoid_indices_[833]] may not be labeled with its corresponding cluster (833).\n",
      "  warnings.warn(\n",
      "/home/mattiapggioli/lyrics2ts/.venv/lib/python3.9/site-packages/sklearn_extra/cluster/_k_medoids.py:275: UserWarning: Cluster 1008 is empty! self.labels_[self.medoid_indices_[1008]] may not be labeled with its corresponding cluster (1008).\n",
      "  warnings.warn(\n",
      "/home/mattiapggioli/lyrics2ts/.venv/lib/python3.9/site-packages/sklearn_extra/cluster/_k_medoids.py:275: UserWarning: Cluster 1013 is empty! self.labels_[self.medoid_indices_[1013]] may not be labeled with its corresponding cluster (1013).\n",
      "  warnings.warn(\n",
      "/home/mattiapggioli/lyrics2ts/.venv/lib/python3.9/site-packages/sklearn_extra/cluster/_k_medoids.py:275: UserWarning: Cluster 1088 is empty! self.labels_[self.medoid_indices_[1088]] may not be labeled with its corresponding cluster (1088).\n",
      "  warnings.warn(\n",
      "/home/mattiapggioli/lyrics2ts/.venv/lib/python3.9/site-packages/sklearn_extra/cluster/_k_medoids.py:275: UserWarning: Cluster 1347 is empty! self.labels_[self.medoid_indices_[1347]] may not be labeled with its corresponding cluster (1347).\n",
      "  warnings.warn(\n",
      "/home/mattiapggioli/lyrics2ts/.venv/lib/python3.9/site-packages/sklearn_extra/cluster/_k_medoids.py:275: UserWarning: Cluster 1579 is empty! self.labels_[self.medoid_indices_[1579]] may not be labeled with its corresponding cluster (1579).\n",
      "  warnings.warn(\n",
      "/home/mattiapggioli/lyrics2ts/.venv/lib/python3.9/site-packages/sklearn_extra/cluster/_k_medoids.py:275: UserWarning: Cluster 1628 is empty! self.labels_[self.medoid_indices_[1628]] may not be labeled with its corresponding cluster (1628).\n",
      "  warnings.warn(\n",
      "/home/mattiapggioli/lyrics2ts/.venv/lib/python3.9/site-packages/sklearn_extra/cluster/_k_medoids.py:275: UserWarning: Cluster 1630 is empty! self.labels_[self.medoid_indices_[1630]] may not be labeled with its corresponding cluster (1630).\n",
      "  warnings.warn(\n",
      "/home/mattiapggioli/lyrics2ts/.venv/lib/python3.9/site-packages/sklearn_extra/cluster/_k_medoids.py:275: UserWarning: Cluster 1749 is empty! self.labels_[self.medoid_indices_[1749]] may not be labeled with its corresponding cluster (1749).\n",
      "  warnings.warn(\n",
      "/home/mattiapggioli/lyrics2ts/.venv/lib/python3.9/site-packages/sklearn_extra/cluster/_k_medoids.py:275: UserWarning: Cluster 1798 is empty! self.labels_[self.medoid_indices_[1798]] may not be labeled with its corresponding cluster (1798).\n",
      "  warnings.warn(\n",
      "/home/mattiapggioli/lyrics2ts/.venv/lib/python3.9/site-packages/sklearn_extra/cluster/_k_medoids.py:275: UserWarning: Cluster 2423 is empty! self.labels_[self.medoid_indices_[2423]] may not be labeled with its corresponding cluster (2423).\n",
      "  warnings.warn(\n",
      "/home/mattiapggioli/lyrics2ts/.venv/lib/python3.9/site-packages/sklearn_extra/cluster/_k_medoids.py:275: UserWarning: Cluster 2455 is empty! self.labels_[self.medoid_indices_[2455]] may not be labeled with its corresponding cluster (2455).\n",
      "  warnings.warn(\n",
      "/home/mattiapggioli/lyrics2ts/.venv/lib/python3.9/site-packages/sklearn_extra/cluster/_k_medoids.py:275: UserWarning: Cluster 2600 is empty! self.labels_[self.medoid_indices_[2600]] may not be labeled with its corresponding cluster (2600).\n",
      "  warnings.warn(\n",
      "/home/mattiapggioli/lyrics2ts/.venv/lib/python3.9/site-packages/sklearn_extra/cluster/_k_medoids.py:275: UserWarning: Cluster 2752 is empty! self.labels_[self.medoid_indices_[2752]] may not be labeled with its corresponding cluster (2752).\n",
      "  warnings.warn(\n"
     ]
    },
    {
     "name": "stderr",
     "output_type": "stream",
     "text": [
      "/home/mattiapggioli/lyrics2ts/.venv/lib/python3.9/site-packages/sklearn_extra/cluster/_k_medoids.py:275: UserWarning: Cluster 83 is empty! self.labels_[self.medoid_indices_[83]] may not be labeled with its corresponding cluster (83).\n",
      "  warnings.warn(\n",
      "/home/mattiapggioli/lyrics2ts/.venv/lib/python3.9/site-packages/sklearn_extra/cluster/_k_medoids.py:275: UserWarning: Cluster 109 is empty! self.labels_[self.medoid_indices_[109]] may not be labeled with its corresponding cluster (109).\n",
      "  warnings.warn(\n",
      "/home/mattiapggioli/lyrics2ts/.venv/lib/python3.9/site-packages/sklearn_extra/cluster/_k_medoids.py:275: UserWarning: Cluster 133 is empty! self.labels_[self.medoid_indices_[133]] may not be labeled with its corresponding cluster (133).\n",
      "  warnings.warn(\n",
      "/home/mattiapggioli/lyrics2ts/.venv/lib/python3.9/site-packages/sklearn_extra/cluster/_k_medoids.py:275: UserWarning: Cluster 154 is empty! self.labels_[self.medoid_indices_[154]] may not be labeled with its corresponding cluster (154).\n",
      "  warnings.warn(\n",
      "/home/mattiapggioli/lyrics2ts/.venv/lib/python3.9/site-packages/sklearn_extra/cluster/_k_medoids.py:275: UserWarning: Cluster 181 is empty! self.labels_[self.medoid_indices_[181]] may not be labeled with its corresponding cluster (181).\n",
      "  warnings.warn(\n",
      "/home/mattiapggioli/lyrics2ts/.venv/lib/python3.9/site-packages/sklearn_extra/cluster/_k_medoids.py:275: UserWarning: Cluster 266 is empty! self.labels_[self.medoid_indices_[266]] may not be labeled with its corresponding cluster (266).\n",
      "  warnings.warn(\n",
      "/home/mattiapggioli/lyrics2ts/.venv/lib/python3.9/site-packages/sklearn_extra/cluster/_k_medoids.py:275: UserWarning: Cluster 315 is empty! self.labels_[self.medoid_indices_[315]] may not be labeled with its corresponding cluster (315).\n",
      "  warnings.warn(\n",
      "/home/mattiapggioli/lyrics2ts/.venv/lib/python3.9/site-packages/sklearn_extra/cluster/_k_medoids.py:275: UserWarning: Cluster 355 is empty! self.labels_[self.medoid_indices_[355]] may not be labeled with its corresponding cluster (355).\n",
      "  warnings.warn(\n",
      "/home/mattiapggioli/lyrics2ts/.venv/lib/python3.9/site-packages/sklearn_extra/cluster/_k_medoids.py:275: UserWarning: Cluster 506 is empty! self.labels_[self.medoid_indices_[506]] may not be labeled with its corresponding cluster (506).\n",
      "  warnings.warn(\n",
      "/home/mattiapggioli/lyrics2ts/.venv/lib/python3.9/site-packages/sklearn_extra/cluster/_k_medoids.py:275: UserWarning: Cluster 583 is empty! self.labels_[self.medoid_indices_[583]] may not be labeled with its corresponding cluster (583).\n",
      "  warnings.warn(\n",
      "/home/mattiapggioli/lyrics2ts/.venv/lib/python3.9/site-packages/sklearn_extra/cluster/_k_medoids.py:275: UserWarning: Cluster 627 is empty! self.labels_[self.medoid_indices_[627]] may not be labeled with its corresponding cluster (627).\n",
      "  warnings.warn(\n",
      "/home/mattiapggioli/lyrics2ts/.venv/lib/python3.9/site-packages/sklearn_extra/cluster/_k_medoids.py:275: UserWarning: Cluster 773 is empty! self.labels_[self.medoid_indices_[773]] may not be labeled with its corresponding cluster (773).\n",
      "  warnings.warn(\n",
      "/home/mattiapggioli/lyrics2ts/.venv/lib/python3.9/site-packages/sklearn_extra/cluster/_k_medoids.py:275: UserWarning: Cluster 914 is empty! self.labels_[self.medoid_indices_[914]] may not be labeled with its corresponding cluster (914).\n",
      "  warnings.warn(\n",
      "/home/mattiapggioli/lyrics2ts/.venv/lib/python3.9/site-packages/sklearn_extra/cluster/_k_medoids.py:275: UserWarning: Cluster 1112 is empty! self.labels_[self.medoid_indices_[1112]] may not be labeled with its corresponding cluster (1112).\n",
      "  warnings.warn(\n",
      "/home/mattiapggioli/lyrics2ts/.venv/lib/python3.9/site-packages/sklearn_extra/cluster/_k_medoids.py:275: UserWarning: Cluster 1143 is empty! self.labels_[self.medoid_indices_[1143]] may not be labeled with its corresponding cluster (1143).\n",
      "  warnings.warn(\n",
      "/home/mattiapggioli/lyrics2ts/.venv/lib/python3.9/site-packages/sklearn_extra/cluster/_k_medoids.py:275: UserWarning: Cluster 2485 is empty! self.labels_[self.medoid_indices_[2485]] may not be labeled with its corresponding cluster (2485).\n",
      "  warnings.warn(\n"
     ]
    }
   ],
   "source": [
    "if undersampling:\n",
    "    total_samples = len(y_train)\n",
    "    unique_classes, class_counts = np.unique(y_train, return_counts=True)\n",
    "    samp_strat = dict(zip(unique_classes, np.floor(class_counts * undersampling).astype(int)))\n",
    "    print(samp_strat)\n",
    "    cc = ClusterCentroids(estimator=KMedoids(\n",
    "        random_state=42), sampling_strategy=samp_strat, random_state=42)\n",
    "    X_train, y_train = cc.fit_resample(X_train, y_train)\n",
    "    X_train.shape"
   ]
  },
  {
   "cell_type": "code",
   "execution_count": 65,
   "id": "e7ac6b44",
   "metadata": {
    "execution": {
     "iopub.execute_input": "2023-03-20T23:33:29.508410Z",
     "iopub.status.busy": "2023-03-20T23:33:29.507090Z",
     "iopub.status.idle": "2023-03-20T23:33:29.559580Z",
     "shell.execute_reply": "2023-03-20T23:33:29.558728Z"
    },
    "papermill": {
     "duration": 0.095626,
     "end_time": "2023-03-20T23:33:29.562927",
     "exception": false,
     "start_time": "2023-03-20T23:33:29.467301",
     "status": "completed"
    },
    "tags": []
   },
   "outputs": [
    {
     "data": {
      "text/html": [
       "<style>#sk-container-id-9 {color: black;background-color: white;}#sk-container-id-9 pre{padding: 0;}#sk-container-id-9 div.sk-toggleable {background-color: white;}#sk-container-id-9 label.sk-toggleable__label {cursor: pointer;display: block;width: 100%;margin-bottom: 0;padding: 0.3em;box-sizing: border-box;text-align: center;}#sk-container-id-9 label.sk-toggleable__label-arrow:before {content: \"▸\";float: left;margin-right: 0.25em;color: #696969;}#sk-container-id-9 label.sk-toggleable__label-arrow:hover:before {color: black;}#sk-container-id-9 div.sk-estimator:hover label.sk-toggleable__label-arrow:before {color: black;}#sk-container-id-9 div.sk-toggleable__content {max-height: 0;max-width: 0;overflow: hidden;text-align: left;background-color: #f0f8ff;}#sk-container-id-9 div.sk-toggleable__content pre {margin: 0.2em;color: black;border-radius: 0.25em;background-color: #f0f8ff;}#sk-container-id-9 input.sk-toggleable__control:checked~div.sk-toggleable__content {max-height: 200px;max-width: 100%;overflow: auto;}#sk-container-id-9 input.sk-toggleable__control:checked~label.sk-toggleable__label-arrow:before {content: \"▾\";}#sk-container-id-9 div.sk-estimator input.sk-toggleable__control:checked~label.sk-toggleable__label {background-color: #d4ebff;}#sk-container-id-9 div.sk-label input.sk-toggleable__control:checked~label.sk-toggleable__label {background-color: #d4ebff;}#sk-container-id-9 input.sk-hidden--visually {border: 0;clip: rect(1px 1px 1px 1px);clip: rect(1px, 1px, 1px, 1px);height: 1px;margin: -1px;overflow: hidden;padding: 0;position: absolute;width: 1px;}#sk-container-id-9 div.sk-estimator {font-family: monospace;background-color: #f0f8ff;border: 1px dotted black;border-radius: 0.25em;box-sizing: border-box;margin-bottom: 0.5em;}#sk-container-id-9 div.sk-estimator:hover {background-color: #d4ebff;}#sk-container-id-9 div.sk-parallel-item::after {content: \"\";width: 100%;border-bottom: 1px solid gray;flex-grow: 1;}#sk-container-id-9 div.sk-label:hover label.sk-toggleable__label {background-color: #d4ebff;}#sk-container-id-9 div.sk-serial::before {content: \"\";position: absolute;border-left: 1px solid gray;box-sizing: border-box;top: 0;bottom: 0;left: 50%;z-index: 0;}#sk-container-id-9 div.sk-serial {display: flex;flex-direction: column;align-items: center;background-color: white;padding-right: 0.2em;padding-left: 0.2em;position: relative;}#sk-container-id-9 div.sk-item {position: relative;z-index: 1;}#sk-container-id-9 div.sk-parallel {display: flex;align-items: stretch;justify-content: center;background-color: white;position: relative;}#sk-container-id-9 div.sk-item::before, #sk-container-id-9 div.sk-parallel-item::before {content: \"\";position: absolute;border-left: 1px solid gray;box-sizing: border-box;top: 0;bottom: 0;left: 50%;z-index: -1;}#sk-container-id-9 div.sk-parallel-item {display: flex;flex-direction: column;z-index: 1;position: relative;background-color: white;}#sk-container-id-9 div.sk-parallel-item:first-child::after {align-self: flex-end;width: 50%;}#sk-container-id-9 div.sk-parallel-item:last-child::after {align-self: flex-start;width: 50%;}#sk-container-id-9 div.sk-parallel-item:only-child::after {width: 0;}#sk-container-id-9 div.sk-dashed-wrapped {border: 1px dashed gray;margin: 0 0.4em 0.5em 0.4em;box-sizing: border-box;padding-bottom: 0.4em;background-color: white;}#sk-container-id-9 div.sk-label label {font-family: monospace;font-weight: bold;display: inline-block;line-height: 1.2em;}#sk-container-id-9 div.sk-label-container {text-align: center;}#sk-container-id-9 div.sk-container {/* jupyter's `normalize.less` sets `[hidden] { display: none; }` but bootstrap.min.css set `[hidden] { display: none !important; }` so we also need the `!important` here to be able to override the default hidden behavior on the sphinx rendered scikit-learn.org. See: https://github.com/scikit-learn/scikit-learn/issues/21755 */display: inline-block !important;position: relative;}#sk-container-id-9 div.sk-text-repr-fallback {display: none;}</style><div id=\"sk-container-id-9\" class=\"sk-top-container\"><div class=\"sk-text-repr-fallback\"><pre>KNeighborsClassifier(metric=&#x27;dtw_sakoechiba&#x27;, metric_params={&#x27;window_size&#x27;: 3})</pre><b>In a Jupyter environment, please rerun this cell to show the HTML representation or trust the notebook. <br />On GitHub, the HTML representation is unable to render, please try loading this page with nbviewer.org.</b></div><div class=\"sk-container\" hidden><div class=\"sk-item\"><div class=\"sk-estimator sk-toggleable\"><input class=\"sk-toggleable__control sk-hidden--visually\" id=\"sk-estimator-id-9\" type=\"checkbox\" checked><label for=\"sk-estimator-id-9\" class=\"sk-toggleable__label sk-toggleable__label-arrow\">KNeighborsClassifier</label><div class=\"sk-toggleable__content\"><pre>KNeighborsClassifier(metric=&#x27;dtw_sakoechiba&#x27;, metric_params={&#x27;window_size&#x27;: 3})</pre></div></div></div></div></div>"
      ],
      "text/plain": [
       "KNeighborsClassifier(metric='dtw_sakoechiba', metric_params={'window_size': 3})"
      ]
     },
     "execution_count": 65,
     "metadata": {},
     "output_type": "execute_result"
    }
   ],
   "source": [
    "clf = KNeighborsClassifier(metric='dtw_sakoechiba',  metric_params={'window_size':3})\n",
    "\n",
    "clf.fit(X_train, y_train)"
   ]
  },
  {
   "cell_type": "code",
   "execution_count": 66,
   "id": "8109d19d",
   "metadata": {
    "execution": {
     "iopub.execute_input": "2023-03-20T23:33:29.598824Z",
     "iopub.status.busy": "2023-03-20T23:33:29.598273Z",
     "iopub.status.idle": "2023-03-21T02:30:17.384618Z",
     "shell.execute_reply": "2023-03-21T02:30:17.383620Z"
    },
    "papermill": {
     "duration": 10607.847905,
     "end_time": "2023-03-21T02:30:17.428016",
     "exception": false,
     "start_time": "2023-03-20T23:33:29.580111",
     "status": "completed"
    },
    "tags": []
   },
   "outputs": [
    {
     "name": "stdout",
     "output_type": "stream",
     "text": [
      "              precision    recall  f1-score   support\n",
      "\n",
      "         pop       0.44      0.45      0.45      2400\n",
      "         rap       0.51      0.65      0.57      2400\n",
      "        rock       0.44      0.31      0.36      2400\n",
      "\n",
      "    accuracy                           0.47      7200\n",
      "   macro avg       0.46      0.47      0.46      7200\n",
      "weighted avg       0.46      0.47      0.46      7200\n",
      "\n",
      "CPU times: user 2h 56min 44s, sys: 1.55 s, total: 2h 56min 46s\n",
      "Wall time: 2h 56min 47s\n"
     ]
    }
   ],
   "source": [
    "%%time\n",
    "y_pred = clf.predict(X_test)\n",
    "print(classification_report(y_test, y_pred))"
   ]
  },
  {
   "cell_type": "code",
   "execution_count": 67,
   "id": "b09f5cdf",
   "metadata": {
    "execution": {
     "iopub.execute_input": "2023-03-21T02:30:17.484582Z",
     "iopub.status.busy": "2023-03-21T02:30:17.483880Z",
     "iopub.status.idle": "2023-03-21T02:30:17.640396Z",
     "shell.execute_reply": "2023-03-21T02:30:17.639494Z"
    },
    "papermill": {
     "duration": 0.175739,
     "end_time": "2023-03-21T02:30:17.642488",
     "exception": false,
     "start_time": "2023-03-21T02:30:17.466749",
     "status": "completed"
    },
    "tags": []
   },
   "outputs": [],
   "source": [
    "acc = accuracy_score(y_test, y_pred)\n",
    "pre = precision_score(y_test, y_pred, average=avg_par)\n",
    "rec = recall_score(y_test, y_pred, average=avg_par)\n",
    "f1 = f1_score(y_test, y_pred, average=avg_par)\n",
    "\n",
    "metrics_data['KNN']['DTW'] = {'Accuracy': acc, 'Precision': pre, 'Recall': rec, 'F1': f1}"
   ]
  },
  {
   "cell_type": "markdown",
   "id": "e0e700a7",
   "metadata": {
    "papermill": {
     "duration": 0.014601,
     "end_time": "2023-03-21T02:30:17.674840",
     "exception": false,
     "start_time": "2023-03-21T02:30:17.660239",
     "status": "completed"
    },
    "tags": []
   },
   "source": [
    "## Overall Results"
   ]
  },
  {
   "cell_type": "code",
   "execution_count": 68,
   "id": "d003c193",
   "metadata": {
    "execution": {
     "iopub.execute_input": "2023-03-21T02:30:17.706061Z",
     "iopub.status.busy": "2023-03-21T02:30:17.705217Z",
     "iopub.status.idle": "2023-03-21T02:30:17.718049Z",
     "shell.execute_reply": "2023-03-21T02:30:17.716933Z"
    },
    "papermill": {
     "duration": 0.030585,
     "end_time": "2023-03-21T02:30:17.719894",
     "exception": false,
     "start_time": "2023-03-21T02:30:17.689309",
     "status": "completed"
    },
    "tags": []
   },
   "outputs": [],
   "source": [
    "metrics_data = pd.DataFrame.from_dict({(i,j): metrics_data[i][j] \n",
    "                                       for i in metrics_data.keys() \n",
    "                                       for j in metrics_data[i].keys()},\n",
    "                                       orient='index')"
   ]
  },
  {
   "cell_type": "code",
   "execution_count": 69,
   "id": "0944fe84",
   "metadata": {
    "execution": {
     "iopub.execute_input": "2023-03-21T02:30:17.752124Z",
     "iopub.status.busy": "2023-03-21T02:30:17.751764Z",
     "iopub.status.idle": "2023-03-21T02:30:17.903189Z",
     "shell.execute_reply": "2023-03-21T02:30:17.902298Z"
    },
    "papermill": {
     "duration": 0.168869,
     "end_time": "2023-03-21T02:30:17.904837",
     "exception": false,
     "start_time": "2023-03-21T02:30:17.735968",
     "status": "completed"
    },
    "tags": []
   },
   "outputs": [],
   "source": [
    "acc = accuracy_score(y_test, y_pred)\n",
    "pre = precision_score(y_test, y_pred, average=avg_par)\n",
    "rec = recall_score(y_test, y_pred, average=avg_par)\n",
    "f1 = f1_score(y_test, y_pred, average=avg_par)"
   ]
  },
  {
   "cell_type": "code",
   "execution_count": 70,
   "id": "7ee1b347",
   "metadata": {
    "execution": {
     "iopub.execute_input": "2023-03-21T02:30:17.935870Z",
     "iopub.status.busy": "2023-03-21T02:30:17.935613Z",
     "iopub.status.idle": "2023-03-21T02:30:17.946200Z",
     "shell.execute_reply": "2023-03-21T02:30:17.945288Z"
    },
    "papermill": {
     "duration": 0.028477,
     "end_time": "2023-03-21T02:30:17.948033",
     "exception": false,
     "start_time": "2023-03-21T02:30:17.919556",
     "status": "completed"
    },
    "tags": []
   },
   "outputs": [
    {
     "data": {
      "text/html": [
       "<div>\n",
       "<style scoped>\n",
       "    .dataframe tbody tr th:only-of-type {\n",
       "        vertical-align: middle;\n",
       "    }\n",
       "\n",
       "    .dataframe tbody tr th {\n",
       "        vertical-align: top;\n",
       "    }\n",
       "\n",
       "    .dataframe thead th {\n",
       "        text-align: right;\n",
       "    }\n",
       "</style>\n",
       "<table border=\"1\" class=\"dataframe\">\n",
       "  <thead>\n",
       "    <tr style=\"text-align: right;\">\n",
       "      <th></th>\n",
       "      <th></th>\n",
       "      <th>Accuracy</th>\n",
       "      <th>Precision</th>\n",
       "      <th>Recall</th>\n",
       "      <th>F1</th>\n",
       "    </tr>\n",
       "  </thead>\n",
       "  <tbody>\n",
       "    <tr>\n",
       "      <th rowspan=\"3\" valign=\"top\">Global</th>\n",
       "      <th>DecisionTree</th>\n",
       "      <td>0.483056</td>\n",
       "      <td>0.483103</td>\n",
       "      <td>0.483056</td>\n",
       "      <td>0.483046</td>\n",
       "    </tr>\n",
       "    <tr>\n",
       "      <th>RandomForest</th>\n",
       "      <td>0.563056</td>\n",
       "      <td>0.560386</td>\n",
       "      <td>0.563056</td>\n",
       "      <td>0.561427</td>\n",
       "    </tr>\n",
       "    <tr>\n",
       "      <th>LightGBM</th>\n",
       "      <td>0.585139</td>\n",
       "      <td>0.583503</td>\n",
       "      <td>0.585139</td>\n",
       "      <td>0.584004</td>\n",
       "    </tr>\n",
       "    <tr>\n",
       "      <th rowspan=\"3\" valign=\"top\">Shapelets</th>\n",
       "      <th>DecisionTree</th>\n",
       "      <td>0.502639</td>\n",
       "      <td>0.504373</td>\n",
       "      <td>0.502639</td>\n",
       "      <td>0.503414</td>\n",
       "    </tr>\n",
       "    <tr>\n",
       "      <th>RandomForest</th>\n",
       "      <td>0.597778</td>\n",
       "      <td>0.597048</td>\n",
       "      <td>0.597778</td>\n",
       "      <td>0.597371</td>\n",
       "    </tr>\n",
       "    <tr>\n",
       "      <th>LightGBM</th>\n",
       "      <td>0.596111</td>\n",
       "      <td>0.593853</td>\n",
       "      <td>0.596111</td>\n",
       "      <td>0.594775</td>\n",
       "    </tr>\n",
       "    <tr>\n",
       "      <th rowspan=\"2\" valign=\"top\">KNN</th>\n",
       "      <th>Euclidean</th>\n",
       "      <td>0.374444</td>\n",
       "      <td>0.481787</td>\n",
       "      <td>0.374444</td>\n",
       "      <td>0.312807</td>\n",
       "    </tr>\n",
       "    <tr>\n",
       "      <th>DTW</th>\n",
       "      <td>0.470833</td>\n",
       "      <td>0.464094</td>\n",
       "      <td>0.470833</td>\n",
       "      <td>0.461137</td>\n",
       "    </tr>\n",
       "  </tbody>\n",
       "</table>\n",
       "</div>"
      ],
      "text/plain": [
       "                        Accuracy  Precision    Recall        F1\n",
       "Global    DecisionTree  0.483056   0.483103  0.483056  0.483046\n",
       "          RandomForest  0.563056   0.560386  0.563056  0.561427\n",
       "          LightGBM      0.585139   0.583503  0.585139  0.584004\n",
       "Shapelets DecisionTree  0.502639   0.504373  0.502639  0.503414\n",
       "          RandomForest  0.597778   0.597048  0.597778  0.597371\n",
       "          LightGBM      0.596111   0.593853  0.596111  0.594775\n",
       "KNN       Euclidean     0.374444   0.481787  0.374444  0.312807\n",
       "          DTW           0.470833   0.464094  0.470833  0.461137"
      ]
     },
     "execution_count": 70,
     "metadata": {},
     "output_type": "execute_result"
    }
   ],
   "source": [
    "metrics_data"
   ]
  },
  {
   "cell_type": "code",
   "execution_count": 71,
   "id": "3efc173e",
   "metadata": {
    "execution": {
     "iopub.execute_input": "2023-03-21T02:30:17.988102Z",
     "iopub.status.busy": "2023-03-21T02:30:17.987103Z",
     "iopub.status.idle": "2023-03-21T02:30:17.998034Z",
     "shell.execute_reply": "2023-03-21T02:30:17.997143Z"
    },
    "papermill": {
     "duration": 0.036742,
     "end_time": "2023-03-21T02:30:17.999788",
     "exception": false,
     "start_time": "2023-03-21T02:30:17.963046",
     "status": "completed"
    },
    "tags": []
   },
   "outputs": [],
   "source": [
    "metrics_data.to_csv(f'{data_path}/metrics.csv')"
   ]
  },
  {
   "cell_type": "code",
   "execution_count": null,
   "id": "d21f5304",
   "metadata": {
    "papermill": {
     "duration": 0.014895,
     "end_time": "2023-03-21T02:30:18.031455",
     "exception": false,
     "start_time": "2023-03-21T02:30:18.016560",
     "status": "completed"
    },
    "tags": []
   },
   "outputs": [],
   "source": []
  }
 ],
 "metadata": {
  "celltoolbar": "Tags",
  "kernelspec": {
   "display_name": "Python 3 (ipykernel)",
   "language": "python",
   "name": "python3"
  },
  "language_info": {
   "codemirror_mode": {
    "name": "ipython",
    "version": 3
   },
   "file_extension": ".py",
   "mimetype": "text/x-python",
   "name": "python",
   "nbconvert_exporter": "python",
   "pygments_lexer": "ipython3",
   "version": "3.9.16"
  },
  "papermill": {
   "default_parameters": {},
   "duration": 13649.112668,
   "end_time": "2023-03-21T02:30:20.807975",
   "environment_variables": {},
   "exception": null,
   "input_path": "09_ts_classification.ipynb",
   "output_path": "../clf-reports/pp-rc-rp_sentiment.ipynb",
   "parameters": {
    "data_path": "/home/mattiapggioli/lyrics2ts/data/classification/pp-rc-rp/sentiment/",
    "paa_window_size": 20,
    "undersampling": 0.3
   },
   "start_time": "2023-03-20T22:42:51.695307",
   "version": "2.4.0"
  },
  "vscode": {
   "interpreter": {
    "hash": "eb8d1ded7c87c6f9c253b40add648304d6b51d2e38393955e855effc7e6f899a"
   }
  }
 },
 "nbformat": 4,
 "nbformat_minor": 5
}