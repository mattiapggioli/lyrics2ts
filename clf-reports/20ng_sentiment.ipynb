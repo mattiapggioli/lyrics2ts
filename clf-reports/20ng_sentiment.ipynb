{
 "cells": [
  {
   "cell_type": "markdown",
   "id": "d79a68c5",
   "metadata": {
    "papermill": {
     "duration": 0.023827,
     "end_time": "2023-03-08T11:27:41.820154",
     "exception": false,
     "start_time": "2023-03-08T11:27:41.796327",
     "status": "completed"
    },
    "tags": []
   },
   "source": [
    "# Time Series Classification"
   ]
  },
  {
   "cell_type": "code",
   "execution_count": 1,
   "id": "8a0cb2b0",
   "metadata": {
    "execution": {
     "iopub.execute_input": "2023-03-08T11:27:41.845075Z",
     "iopub.status.busy": "2023-03-08T11:27:41.844130Z",
     "iopub.status.idle": "2023-03-08T11:27:43.146157Z",
     "shell.execute_reply": "2023-03-08T11:27:43.145409Z"
    },
    "papermill": {
     "duration": 1.317084,
     "end_time": "2023-03-08T11:27:43.148983",
     "exception": false,
     "start_time": "2023-03-08T11:27:41.831899",
     "status": "completed"
    },
    "tags": []
   },
   "outputs": [],
   "source": [
    "%matplotlib inline\n",
    "import pandas as pd\n",
    "import numpy as np\n",
    "import matplotlib.pyplot as plt\n",
    "import seaborn as sns\n",
    "import re\n",
    "import os\n",
    "from sklearn.preprocessing import StandardScaler\n",
    "from sklearn.decomposition import PCA\n",
    "import joblib\n",
    "from tslearn.utils import to_time_series_dataset, save_time_series_txt, load_time_series_txt\n",
    "import random\n",
    "from sklearn.model_selection import train_test_split\n",
    "from sklearn.metrics import accuracy_score, f1_score, precision_score, recall_score, classification_report\n",
    "import pickle"
   ]
  },
  {
   "cell_type": "code",
   "execution_count": 2,
   "id": "acc03405",
   "metadata": {
    "execution": {
     "iopub.execute_input": "2023-03-08T11:27:43.205341Z",
     "iopub.status.busy": "2023-03-08T11:27:43.204925Z",
     "iopub.status.idle": "2023-03-08T11:27:43.210545Z",
     "shell.execute_reply": "2023-03-08T11:27:43.209248Z"
    },
    "papermill": {
     "duration": 0.035366,
     "end_time": "2023-03-08T11:27:43.212422",
     "exception": false,
     "start_time": "2023-03-08T11:27:43.177056",
     "status": "completed"
    },
    "tags": [
     "parameters"
    ]
   },
   "outputs": [],
   "source": [
    "data_path = '/home/mattiapggioli/lyrics2ts/data/classification/20ng/sbert/'\n",
    "truncate=100\n",
    "max_iter = 2000\n",
    "paa_window_size = None\n",
    "undersampling = None"
   ]
  },
  {
   "cell_type": "code",
   "execution_count": 3,
   "id": "a08d06a2",
   "metadata": {
    "execution": {
     "iopub.execute_input": "2023-03-08T11:27:43.236919Z",
     "iopub.status.busy": "2023-03-08T11:27:43.236374Z",
     "iopub.status.idle": "2023-03-08T11:27:43.243033Z",
     "shell.execute_reply": "2023-03-08T11:27:43.241448Z"
    },
    "papermill": {
     "duration": 0.021896,
     "end_time": "2023-03-08T11:27:43.246306",
     "exception": false,
     "start_time": "2023-03-08T11:27:43.224410",
     "status": "completed"
    },
    "tags": [
     "injected-parameters"
    ]
   },
   "outputs": [],
   "source": [
    "# Parameters\n",
    "data_path = \"/home/mattiapggioli/lyrics2ts/data/classification/20ng/sentiment/\"\n"
   ]
  },
  {
   "cell_type": "code",
   "execution_count": 4,
   "id": "a4f0c774",
   "metadata": {
    "execution": {
     "iopub.execute_input": "2023-03-08T11:27:43.279667Z",
     "iopub.status.busy": "2023-03-08T11:27:43.279214Z",
     "iopub.status.idle": "2023-03-08T11:27:59.702903Z",
     "shell.execute_reply": "2023-03-08T11:27:59.702017Z"
    },
    "papermill": {
     "duration": 16.437753,
     "end_time": "2023-03-08T11:27:59.705158",
     "exception": false,
     "start_time": "2023-03-08T11:27:43.267405",
     "status": "completed"
    },
    "tags": []
   },
   "outputs": [],
   "source": [
    "ts = load_time_series_txt(f'{data_path}/ts.txt')"
   ]
  },
  {
   "cell_type": "code",
   "execution_count": 5,
   "id": "5c48d154",
   "metadata": {
    "execution": {
     "iopub.execute_input": "2023-03-08T11:27:59.744778Z",
     "iopub.status.busy": "2023-03-08T11:27:59.744478Z",
     "iopub.status.idle": "2023-03-08T11:27:59.752175Z",
     "shell.execute_reply": "2023-03-08T11:27:59.751003Z"
    },
    "papermill": {
     "duration": 0.035191,
     "end_time": "2023-03-08T11:27:59.755667",
     "exception": false,
     "start_time": "2023-03-08T11:27:59.720476",
     "status": "completed"
    },
    "tags": []
   },
   "outputs": [
    {
     "data": {
      "text/plain": [
       "(1775, 1210, 1)"
      ]
     },
     "execution_count": 5,
     "metadata": {},
     "output_type": "execute_result"
    }
   ],
   "source": [
    "ts.shape"
   ]
  },
  {
   "cell_type": "code",
   "execution_count": 6,
   "id": "f6274d40",
   "metadata": {
    "execution": {
     "iopub.execute_input": "2023-03-08T11:27:59.803347Z",
     "iopub.status.busy": "2023-03-08T11:27:59.802854Z",
     "iopub.status.idle": "2023-03-08T11:27:59.810279Z",
     "shell.execute_reply": "2023-03-08T11:27:59.809249Z"
    },
    "papermill": {
     "duration": 0.028058,
     "end_time": "2023-03-08T11:27:59.812022",
     "exception": false,
     "start_time": "2023-03-08T11:27:59.783964",
     "status": "completed"
    },
    "tags": []
   },
   "outputs": [],
   "source": [
    "with open(f'{data_path}/y_class.npy', 'rb') as f:\n",
    "    y = np.load(f, allow_pickle=True)"
   ]
  },
  {
   "cell_type": "code",
   "execution_count": 7,
   "id": "9d42fa3b",
   "metadata": {
    "execution": {
     "iopub.execute_input": "2023-03-08T11:27:59.835831Z",
     "iopub.status.busy": "2023-03-08T11:27:59.834751Z",
     "iopub.status.idle": "2023-03-08T11:27:59.842808Z",
     "shell.execute_reply": "2023-03-08T11:27:59.841640Z"
    },
    "papermill": {
     "duration": 0.021965,
     "end_time": "2023-03-08T11:27:59.844689",
     "exception": false,
     "start_time": "2023-03-08T11:27:59.822724",
     "status": "completed"
    },
    "tags": []
   },
   "outputs": [],
   "source": [
    "with open(f'{data_path}/X.npy', 'rb') as f:\n",
    "    X = np.load(f, allow_pickle=True)"
   ]
  },
  {
   "cell_type": "code",
   "execution_count": 8,
   "id": "1158a9da",
   "metadata": {
    "execution": {
     "iopub.execute_input": "2023-03-08T11:27:59.868353Z",
     "iopub.status.busy": "2023-03-08T11:27:59.867882Z",
     "iopub.status.idle": "2023-03-08T11:27:59.875145Z",
     "shell.execute_reply": "2023-03-08T11:27:59.873864Z"
    },
    "papermill": {
     "duration": 0.021554,
     "end_time": "2023-03-08T11:27:59.877022",
     "exception": false,
     "start_time": "2023-03-08T11:27:59.855468",
     "status": "completed"
    },
    "tags": []
   },
   "outputs": [
    {
     "data": {
      "text/plain": [
       "(1775, 6)"
      ]
     },
     "execution_count": 8,
     "metadata": {},
     "output_type": "execute_result"
    }
   ],
   "source": [
    "X.shape"
   ]
  },
  {
   "cell_type": "code",
   "execution_count": 9,
   "id": "47239790",
   "metadata": {
    "execution": {
     "iopub.execute_input": "2023-03-08T11:27:59.900040Z",
     "iopub.status.busy": "2023-03-08T11:27:59.899574Z",
     "iopub.status.idle": "2023-03-08T11:27:59.907491Z",
     "shell.execute_reply": "2023-03-08T11:27:59.906333Z"
    },
    "papermill": {
     "duration": 0.021776,
     "end_time": "2023-03-08T11:27:59.909295",
     "exception": false,
     "start_time": "2023-03-08T11:27:59.887519",
     "status": "completed"
    },
    "tags": []
   },
   "outputs": [
    {
     "data": {
      "text/plain": [
       "{'comp', 'misc', 'rec', 'religion', 'sci', 'talk'}"
      ]
     },
     "execution_count": 9,
     "metadata": {},
     "output_type": "execute_result"
    }
   ],
   "source": [
    "set(y)"
   ]
  },
  {
   "cell_type": "code",
   "execution_count": 10,
   "id": "37609992",
   "metadata": {
    "execution": {
     "iopub.execute_input": "2023-03-08T11:27:59.933864Z",
     "iopub.status.busy": "2023-03-08T11:27:59.932773Z",
     "iopub.status.idle": "2023-03-08T11:27:59.946785Z",
     "shell.execute_reply": "2023-03-08T11:27:59.945608Z"
    },
    "papermill": {
     "duration": 0.028879,
     "end_time": "2023-03-08T11:27:59.948967",
     "exception": false,
     "start_time": "2023-03-08T11:27:59.920088",
     "status": "completed"
    },
    "tags": []
   },
   "outputs": [],
   "source": [
    "ts_train, ts_test, y_train, y_test = train_test_split(ts, y, test_size=0.20, random_state=42)"
   ]
  },
  {
   "cell_type": "code",
   "execution_count": 11,
   "id": "34508fe4",
   "metadata": {
    "execution": {
     "iopub.execute_input": "2023-03-08T11:27:59.976146Z",
     "iopub.status.busy": "2023-03-08T11:27:59.975674Z",
     "iopub.status.idle": "2023-03-08T11:27:59.982717Z",
     "shell.execute_reply": "2023-03-08T11:27:59.981656Z"
    },
    "papermill": {
     "duration": 0.022056,
     "end_time": "2023-03-08T11:27:59.984403",
     "exception": false,
     "start_time": "2023-03-08T11:27:59.962347",
     "status": "completed"
    },
    "tags": []
   },
   "outputs": [],
   "source": [
    "X_train, X_test, y_train, y_test = train_test_split(X, y, test_size=0.20, random_state=42)"
   ]
  },
  {
   "cell_type": "code",
   "execution_count": 12,
   "id": "076afac9",
   "metadata": {
    "execution": {
     "iopub.execute_input": "2023-03-08T11:28:00.008799Z",
     "iopub.status.busy": "2023-03-08T11:28:00.008325Z",
     "iopub.status.idle": "2023-03-08T11:28:00.016572Z",
     "shell.execute_reply": "2023-03-08T11:28:00.015490Z"
    },
    "papermill": {
     "duration": 0.02247,
     "end_time": "2023-03-08T11:28:00.018322",
     "exception": false,
     "start_time": "2023-03-08T11:27:59.995852",
     "status": "completed"
    },
    "tags": []
   },
   "outputs": [
    {
     "data": {
      "text/plain": [
       "array([[0.    ],\n",
       "       [0.0772],\n",
       "       [0.1901],\n",
       "       ...,\n",
       "       [   nan],\n",
       "       [   nan],\n",
       "       [   nan]])"
      ]
     },
     "execution_count": 12,
     "metadata": {},
     "output_type": "execute_result"
    }
   ],
   "source": [
    "random.choice(ts_train)"
   ]
  },
  {
   "cell_type": "code",
   "execution_count": 13,
   "id": "ca66457a",
   "metadata": {
    "execution": {
     "iopub.execute_input": "2023-03-08T11:28:00.042120Z",
     "iopub.status.busy": "2023-03-08T11:28:00.041693Z",
     "iopub.status.idle": "2023-03-08T11:28:00.547944Z",
     "shell.execute_reply": "2023-03-08T11:28:00.547276Z"
    },
    "papermill": {
     "duration": 0.521386,
     "end_time": "2023-03-08T11:28:00.551063",
     "exception": false,
     "start_time": "2023-03-08T11:28:00.029677",
     "status": "completed"
    },
    "tags": []
   },
   "outputs": [
    {
     "data": {
      "text/plain": [
       "<AxesSubplot:ylabel='Count'>"
      ]
     },
     "execution_count": 13,
     "metadata": {},
     "output_type": "execute_result"
    },
    {
     "data": {
      "image/png": "[encoded data removed]",
      "text/plain": [
       "<Figure size 640x480 with 1 Axes>"
      ]
     },
     "metadata": {},
     "output_type": "display_data"
    }
   ],
   "source": [
    "sns.histplot([t[~np.any(np.isnan(t), axis=1)].shape[0] for t in ts_train])"
   ]
  },
  {
   "cell_type": "code",
   "execution_count": 14,
   "id": "c2ae286f",
   "metadata": {
    "execution": {
     "iopub.execute_input": "2023-03-08T11:28:00.615037Z",
     "iopub.status.busy": "2023-03-08T11:28:00.614499Z",
     "iopub.status.idle": "2023-03-08T11:28:00.619244Z",
     "shell.execute_reply": "2023-03-08T11:28:00.618290Z"
    },
    "papermill": {
     "duration": 0.038537,
     "end_time": "2023-03-08T11:28:00.622322",
     "exception": false,
     "start_time": "2023-03-08T11:28:00.583785",
     "status": "completed"
    },
    "tags": []
   },
   "outputs": [],
   "source": [
    "ts_train = ts_train[:, :truncate, :]\n",
    "ts_test = ts_test[:, :truncate, :]"
   ]
  },
  {
   "cell_type": "code",
   "execution_count": 15,
   "id": "3218baa4",
   "metadata": {
    "execution": {
     "iopub.execute_input": "2023-03-08T11:28:00.648063Z",
     "iopub.status.busy": "2023-03-08T11:28:00.647654Z",
     "iopub.status.idle": "2023-03-08T11:28:00.658545Z",
     "shell.execute_reply": "2023-03-08T11:28:00.657826Z"
    },
    "papermill": {
     "duration": 0.025359,
     "end_time": "2023-03-08T11:28:00.660588",
     "exception": false,
     "start_time": "2023-03-08T11:28:00.635229",
     "status": "completed"
    },
    "tags": []
   },
   "outputs": [],
   "source": [
    "mean_arr = np.nanmean(ts_train, axis=1, keepdims=True)\n",
    "nan_indices = np.isnan(ts_train)\n",
    "ts_train[nan_indices] = np.take(mean_arr, np.nonzero(nan_indices)[0])\n",
    "\n",
    "mean_arr = np.nanmean(ts_test, axis=1, keepdims=True)\n",
    "nan_indices = np.isnan(ts_test)\n",
    "ts_test[nan_indices] = np.take(mean_arr, np.nonzero(nan_indices)[0])"
   ]
  },
  {
   "cell_type": "code",
   "execution_count": 16,
   "id": "d369691b",
   "metadata": {
    "execution": {
     "iopub.execute_input": "2023-03-08T11:28:00.685867Z",
     "iopub.status.busy": "2023-03-08T11:28:00.685297Z",
     "iopub.status.idle": "2023-03-08T11:28:00.693711Z",
     "shell.execute_reply": "2023-03-08T11:28:00.692427Z"
    },
    "papermill": {
     "duration": 0.022229,
     "end_time": "2023-03-08T11:28:00.695384",
     "exception": false,
     "start_time": "2023-03-08T11:28:00.673155",
     "status": "completed"
    },
    "tags": []
   },
   "outputs": [
    {
     "data": {
      "text/plain": [
       "22"
      ]
     },
     "execution_count": 16,
     "metadata": {},
     "output_type": "execute_result"
    }
   ],
   "source": [
    "np.count_nonzero(np.isnan(X_train))"
   ]
  },
  {
   "cell_type": "code",
   "execution_count": 17,
   "id": "0d602e18",
   "metadata": {
    "execution": {
     "iopub.execute_input": "2023-03-08T11:28:00.719967Z",
     "iopub.status.busy": "2023-03-08T11:28:00.719466Z",
     "iopub.status.idle": "2023-03-08T11:28:00.726046Z",
     "shell.execute_reply": "2023-03-08T11:28:00.724772Z"
    },
    "papermill": {
     "duration": 0.02149,
     "end_time": "2023-03-08T11:28:00.728458",
     "exception": false,
     "start_time": "2023-03-08T11:28:00.706968",
     "status": "completed"
    },
    "tags": []
   },
   "outputs": [],
   "source": [
    "X_train[np.isnan(X_train)] = 0\n",
    "X_test[np.isnan(X_test)] = 0"
   ]
  },
  {
   "cell_type": "code",
   "execution_count": 18,
   "id": "45c5102c",
   "metadata": {
    "execution": {
     "iopub.execute_input": "2023-03-08T11:28:00.755124Z",
     "iopub.status.busy": "2023-03-08T11:28:00.754658Z",
     "iopub.status.idle": "2023-03-08T11:28:01.034554Z",
     "shell.execute_reply": "2023-03-08T11:28:01.033539Z"
    },
    "papermill": {
     "duration": 0.295615,
     "end_time": "2023-03-08T11:28:01.037574",
     "exception": false,
     "start_time": "2023-03-08T11:28:00.741959",
     "status": "completed"
    },
    "tags": []
   },
   "outputs": [],
   "source": [
    "save_time_series_txt(f'{data_path}/ts_train.txt', ts_train)\n",
    "save_time_series_txt(f'{data_path}/ts_test.txt', ts_test)"
   ]
  },
  {
   "cell_type": "code",
   "execution_count": 19,
   "id": "39830f37",
   "metadata": {
    "execution": {
     "iopub.execute_input": "2023-03-08T11:28:01.065488Z",
     "iopub.status.busy": "2023-03-08T11:28:01.065000Z",
     "iopub.status.idle": "2023-03-08T11:28:01.071959Z",
     "shell.execute_reply": "2023-03-08T11:28:01.070951Z"
    },
    "papermill": {
     "duration": 0.021715,
     "end_time": "2023-03-08T11:28:01.073722",
     "exception": false,
     "start_time": "2023-03-08T11:28:01.052007",
     "status": "completed"
    },
    "tags": []
   },
   "outputs": [],
   "source": [
    "with open(f'{data_path}/X_train.npy', 'wb') as f:\n",
    "    np.save(f, X_train, allow_pickle=True)\n",
    "\n",
    "with open(f'{data_path}/X_test.npy', 'wb') as f:\n",
    "    np.save(f, X_test, allow_pickle=True)"
   ]
  },
  {
   "cell_type": "code",
   "execution_count": 20,
   "id": "795fd2be",
   "metadata": {
    "execution": {
     "iopub.execute_input": "2023-03-08T11:28:01.098414Z",
     "iopub.status.busy": "2023-03-08T11:28:01.097936Z",
     "iopub.status.idle": "2023-03-08T11:28:01.105441Z",
     "shell.execute_reply": "2023-03-08T11:28:01.104558Z"
    },
    "papermill": {
     "duration": 0.022215,
     "end_time": "2023-03-08T11:28:01.107149",
     "exception": false,
     "start_time": "2023-03-08T11:28:01.084934",
     "status": "completed"
    },
    "tags": []
   },
   "outputs": [],
   "source": [
    "with open(f'{data_path}/y_train.npy', 'wb') as f:\n",
    "    np.save(f, y_train, allow_pickle=True)\n",
    "\n",
    "with open(f'{data_path}/y_test.npy', 'wb') as f:\n",
    "    np.save(f, y_test, allow_pickle=True)"
   ]
  },
  {
   "cell_type": "code",
   "execution_count": 21,
   "id": "08bda153",
   "metadata": {
    "execution": {
     "iopub.execute_input": "2023-03-08T11:28:01.131328Z",
     "iopub.status.busy": "2023-03-08T11:28:01.130838Z",
     "iopub.status.idle": "2023-03-08T11:28:01.282243Z",
     "shell.execute_reply": "2023-03-08T11:28:01.281346Z"
    },
    "papermill": {
     "duration": 0.165732,
     "end_time": "2023-03-08T11:28:01.284088",
     "exception": false,
     "start_time": "2023-03-08T11:28:01.118356",
     "status": "completed"
    },
    "tags": []
   },
   "outputs": [
    {
     "data": {
      "text/plain": [
       "[<matplotlib.lines.Line2D at 0x7f06dec0e700>]"
      ]
     },
     "execution_count": 21,
     "metadata": {},
     "output_type": "execute_result"
    },
    {
     "data": {
      "image/png": "[encoded data removed]",
      "text/plain": [
       "<Figure size 640x480 with 1 Axes>"
      ]
     },
     "metadata": {},
     "output_type": "display_data"
    }
   ],
   "source": [
    "plt.plot(random.choice(ts_train))"
   ]
  },
  {
   "cell_type": "code",
   "execution_count": 22,
   "id": "98ce9d63",
   "metadata": {
    "execution": {
     "iopub.execute_input": "2023-03-08T11:28:01.315149Z",
     "iopub.status.busy": "2023-03-08T11:28:01.314775Z",
     "iopub.status.idle": "2023-03-08T11:28:01.320135Z",
     "shell.execute_reply": "2023-03-08T11:28:01.319166Z"
    },
    "papermill": {
     "duration": 0.021437,
     "end_time": "2023-03-08T11:28:01.323057",
     "exception": false,
     "start_time": "2023-03-08T11:28:01.301620",
     "status": "completed"
    },
    "tags": []
   },
   "outputs": [],
   "source": [
    "# Parameters that require knowing if it's binary or multiclass (LightGBM, metrics)\n",
    "if len(set(y)) == 2:\n",
    "    avg_par = 'binary'\n",
    "    obj_par = 'binary'\n",
    "elif len(set(y)) > 2:\n",
    "    avg_par = 'macro'\n",
    "    obj_par = 'multiclass'"
   ]
  },
  {
   "cell_type": "markdown",
   "id": "228f1b39",
   "metadata": {
    "papermill": {
     "duration": 0.011445,
     "end_time": "2023-03-08T11:28:01.358747",
     "exception": false,
     "start_time": "2023-03-08T11:28:01.347302",
     "status": "completed"
    },
    "tags": []
   },
   "source": [
    "## Classification"
   ]
  },
  {
   "cell_type": "code",
   "execution_count": 23,
   "id": "34bb73ff",
   "metadata": {
    "execution": {
     "iopub.execute_input": "2023-03-08T11:28:01.383586Z",
     "iopub.status.busy": "2023-03-08T11:28:01.383123Z",
     "iopub.status.idle": "2023-03-08T11:28:01.447071Z",
     "shell.execute_reply": "2023-03-08T11:28:01.445771Z"
    },
    "papermill": {
     "duration": 0.079138,
     "end_time": "2023-03-08T11:28:01.449341",
     "exception": false,
     "start_time": "2023-03-08T11:28:01.370203",
     "status": "completed"
    },
    "tags": []
   },
   "outputs": [],
   "source": [
    "from sklearn.tree import DecisionTreeClassifier\n",
    "import lightgbm as lgbm\n",
    "from sklearn.ensemble import RandomForestClassifier"
   ]
  },
  {
   "cell_type": "code",
   "execution_count": 24,
   "id": "02aaee18",
   "metadata": {
    "execution": {
     "iopub.execute_input": "2023-03-08T11:28:01.477338Z",
     "iopub.status.busy": "2023-03-08T11:28:01.476503Z",
     "iopub.status.idle": "2023-03-08T11:28:01.482023Z",
     "shell.execute_reply": "2023-03-08T11:28:01.480968Z"
    },
    "papermill": {
     "duration": 0.020259,
     "end_time": "2023-03-08T11:28:01.483737",
     "exception": false,
     "start_time": "2023-03-08T11:28:01.463478",
     "status": "completed"
    },
    "tags": []
   },
   "outputs": [],
   "source": [
    "metrics_data = {}"
   ]
  },
  {
   "cell_type": "markdown",
   "id": "b49309ed",
   "metadata": {
    "papermill": {
     "duration": 0.011874,
     "end_time": "2023-03-08T11:28:01.507499",
     "exception": false,
     "start_time": "2023-03-08T11:28:01.495625",
     "status": "completed"
    },
    "tags": []
   },
   "source": [
    "### Baseline: global features (No Time Series)"
   ]
  },
  {
   "cell_type": "code",
   "execution_count": 25,
   "id": "35eb9f66",
   "metadata": {
    "execution": {
     "iopub.execute_input": "2023-03-08T11:28:01.532268Z",
     "iopub.status.busy": "2023-03-08T11:28:01.531804Z",
     "iopub.status.idle": "2023-03-08T11:28:01.536976Z",
     "shell.execute_reply": "2023-03-08T11:28:01.535903Z"
    },
    "papermill": {
     "duration": 0.019679,
     "end_time": "2023-03-08T11:28:01.538647",
     "exception": false,
     "start_time": "2023-03-08T11:28:01.518968",
     "status": "completed"
    },
    "tags": []
   },
   "outputs": [],
   "source": [
    "metrics_data['Global'] = {}"
   ]
  },
  {
   "cell_type": "markdown",
   "id": "29cd5044",
   "metadata": {
    "papermill": {
     "duration": 0.011307,
     "end_time": "2023-03-08T11:28:01.561303",
     "exception": false,
     "start_time": "2023-03-08T11:28:01.549996",
     "status": "completed"
    },
    "tags": []
   },
   "source": [
    "**Decision Tree**"
   ]
  },
  {
   "cell_type": "code",
   "execution_count": 26,
   "id": "9ef4f037",
   "metadata": {
    "execution": {
     "iopub.execute_input": "2023-03-08T11:28:01.586171Z",
     "iopub.status.busy": "2023-03-08T11:28:01.585712Z",
     "iopub.status.idle": "2023-03-08T11:28:01.623363Z",
     "shell.execute_reply": "2023-03-08T11:28:01.622122Z"
    },
    "papermill": {
     "duration": 0.052376,
     "end_time": "2023-03-08T11:28:01.625337",
     "exception": false,
     "start_time": "2023-03-08T11:28:01.572961",
     "status": "completed"
    },
    "tags": []
   },
   "outputs": [
    {
     "data": {
      "text/html": [
       "<style>#sk-container-id-1 {color: black;background-color: white;}#sk-container-id-1 pre{padding: 0;}#sk-container-id-1 div.sk-toggleable {background-color: white;}#sk-container-id-1 label.sk-toggleable__label {cursor: pointer;display: block;width: 100%;margin-bottom: 0;padding: 0.3em;box-sizing: border-box;text-align: center;}#sk-container-id-1 label.sk-toggleable__label-arrow:before {content: \"▸\";float: left;margin-right: 0.25em;color: #696969;}#sk-container-id-1 label.sk-toggleable__label-arrow:hover:before {color: black;}#sk-container-id-1 div.sk-estimator:hover label.sk-toggleable__label-arrow:before {color: black;}#sk-container-id-1 div.sk-toggleable__content {max-height: 0;max-width: 0;overflow: hidden;text-align: left;background-color: #f0f8ff;}#sk-container-id-1 div.sk-toggleable__content pre {margin: 0.2em;color: black;border-radius: 0.25em;background-color: #f0f8ff;}#sk-container-id-1 input.sk-toggleable__control:checked~div.sk-toggleable__content {max-height: 200px;max-width: 100%;overflow: auto;}#sk-container-id-1 input.sk-toggleable__control:checked~label.sk-toggleable__label-arrow:before {content: \"▾\";}#sk-container-id-1 div.sk-estimator input.sk-toggleable__control:checked~label.sk-toggleable__label {background-color: #d4ebff;}#sk-container-id-1 div.sk-label input.sk-toggleable__control:checked~label.sk-toggleable__label {background-color: #d4ebff;}#sk-container-id-1 input.sk-hidden--visually {border: 0;clip: rect(1px 1px 1px 1px);clip: rect(1px, 1px, 1px, 1px);height: 1px;margin: -1px;overflow: hidden;padding: 0;position: absolute;width: 1px;}#sk-container-id-1 div.sk-estimator {font-family: monospace;background-color: #f0f8ff;border: 1px dotted black;border-radius: 0.25em;box-sizing: border-box;margin-bottom: 0.5em;}#sk-container-id-1 div.sk-estimator:hover {background-color: #d4ebff;}#sk-container-id-1 div.sk-parallel-item::after {content: \"\";width: 100%;border-bottom: 1px solid gray;flex-grow: 1;}#sk-container-id-1 div.sk-label:hover label.sk-toggleable__label {background-color: #d4ebff;}#sk-container-id-1 div.sk-serial::before {content: \"\";position: absolute;border-left: 1px solid gray;box-sizing: border-box;top: 0;bottom: 0;left: 50%;z-index: 0;}#sk-container-id-1 div.sk-serial {display: flex;flex-direction: column;align-items: center;background-color: white;padding-right: 0.2em;padding-left: 0.2em;position: relative;}#sk-container-id-1 div.sk-item {position: relative;z-index: 1;}#sk-container-id-1 div.sk-parallel {display: flex;align-items: stretch;justify-content: center;background-color: white;position: relative;}#sk-container-id-1 div.sk-item::before, #sk-container-id-1 div.sk-parallel-item::before {content: \"\";position: absolute;border-left: 1px solid gray;box-sizing: border-box;top: 0;bottom: 0;left: 50%;z-index: -1;}#sk-container-id-1 div.sk-parallel-item {display: flex;flex-direction: column;z-index: 1;position: relative;background-color: white;}#sk-container-id-1 div.sk-parallel-item:first-child::after {align-self: flex-end;width: 50%;}#sk-container-id-1 div.sk-parallel-item:last-child::after {align-self: flex-start;width: 50%;}#sk-container-id-1 div.sk-parallel-item:only-child::after {width: 0;}#sk-container-id-1 div.sk-dashed-wrapped {border: 1px dashed gray;margin: 0 0.4em 0.5em 0.4em;box-sizing: border-box;padding-bottom: 0.4em;background-color: white;}#sk-container-id-1 div.sk-label label {font-family: monospace;font-weight: bold;display: inline-block;line-height: 1.2em;}#sk-container-id-1 div.sk-label-container {text-align: center;}#sk-container-id-1 div.sk-container {/* jupyter's `normalize.less` sets `[hidden] { display: none; }` but bootstrap.min.css set `[hidden] { display: none !important; }` so we also need the `!important` here to be able to override the default hidden behavior on the sphinx rendered scikit-learn.org. See: https://github.com/scikit-learn/scikit-learn/issues/21755 */display: inline-block !important;position: relative;}#sk-container-id-1 div.sk-text-repr-fallback {display: none;}</style><div id=\"sk-container-id-1\" class=\"sk-top-container\"><div class=\"sk-text-repr-fallback\"><pre>DecisionTreeClassifier()</pre><b>In a Jupyter environment, please rerun this cell to show the HTML representation or trust the notebook. <br />On GitHub, the HTML representation is unable to render, please try loading this page with nbviewer.org.</b></div><div class=\"sk-container\" hidden><div class=\"sk-item\"><div class=\"sk-estimator sk-toggleable\"><input class=\"sk-toggleable__control sk-hidden--visually\" id=\"sk-estimator-id-1\" type=\"checkbox\" checked><label for=\"sk-estimator-id-1\" class=\"sk-toggleable__label sk-toggleable__label-arrow\">DecisionTreeClassifier</label><div class=\"sk-toggleable__content\"><pre>DecisionTreeClassifier()</pre></div></div></div></div></div>"
      ],
      "text/plain": [
       "DecisionTreeClassifier()"
      ]
     },
     "execution_count": 26,
     "metadata": {},
     "output_type": "execute_result"
    }
   ],
   "source": [
    "clf = DecisionTreeClassifier()\n",
    "clf.fit(X_train, y_train)"
   ]
  },
  {
   "cell_type": "code",
   "execution_count": 27,
   "id": "9c50acc4",
   "metadata": {
    "execution": {
     "iopub.execute_input": "2023-03-08T11:28:01.653444Z",
     "iopub.status.busy": "2023-03-08T11:28:01.652977Z",
     "iopub.status.idle": "2023-03-08T11:28:01.686859Z",
     "shell.execute_reply": "2023-03-08T11:28:01.685416Z"
    },
    "papermill": {
     "duration": 0.049489,
     "end_time": "2023-03-08T11:28:01.689082",
     "exception": false,
     "start_time": "2023-03-08T11:28:01.639593",
     "status": "completed"
    },
    "tags": []
   },
   "outputs": [
    {
     "name": "stdout",
     "output_type": "stream",
     "text": [
      "              precision    recall  f1-score   support\n",
      "\n",
      "        comp       0.37      0.34      0.35        50\n",
      "        misc       0.25      0.12      0.17         8\n",
      "         rec       0.16      0.21      0.19        47\n",
      "    religion       0.40      0.39      0.39        83\n",
      "         sci       0.27      0.29      0.28        77\n",
      "        talk       0.50      0.46      0.48        90\n",
      "\n",
      "    accuracy                           0.35       355\n",
      "   macro avg       0.33      0.30      0.31       355\n",
      "weighted avg       0.36      0.35      0.35       355\n",
      "\n"
     ]
    }
   ],
   "source": [
    "y_pred = clf.predict(X_test)\n",
    "print(classification_report(y_test, y_pred))"
   ]
  },
  {
   "cell_type": "code",
   "execution_count": 28,
   "id": "8866c3c3",
   "metadata": {
    "execution": {
     "iopub.execute_input": "2023-03-08T11:28:01.716817Z",
     "iopub.status.busy": "2023-03-08T11:28:01.716355Z",
     "iopub.status.idle": "2023-03-08T11:28:01.743982Z",
     "shell.execute_reply": "2023-03-08T11:28:01.742691Z"
    },
    "papermill": {
     "duration": 0.042704,
     "end_time": "2023-03-08T11:28:01.745999",
     "exception": false,
     "start_time": "2023-03-08T11:28:01.703295",
     "status": "completed"
    },
    "tags": []
   },
   "outputs": [],
   "source": [
    "acc = accuracy_score(y_test, y_pred)\n",
    "pre = precision_score(y_test, y_pred, average=avg_par)\n",
    "rec = recall_score(y_test, y_pred, average=avg_par)\n",
    "f1 = f1_score(y_test, y_pred, average=avg_par)\n",
    "\n",
    "metrics_data['Global']['DecisionTree'] = {'Accuracy': acc, 'Precision': pre, 'Recall': rec, 'F1': f1}"
   ]
  },
  {
   "cell_type": "markdown",
   "id": "28aa5a63",
   "metadata": {
    "papermill": {
     "duration": 0.013358,
     "end_time": "2023-03-08T11:28:01.776657",
     "exception": false,
     "start_time": "2023-03-08T11:28:01.763299",
     "status": "completed"
    },
    "tags": []
   },
   "source": [
    "**Random Forest**"
   ]
  },
  {
   "cell_type": "code",
   "execution_count": 29,
   "id": "0e5e2310",
   "metadata": {
    "execution": {
     "iopub.execute_input": "2023-03-08T11:28:01.806688Z",
     "iopub.status.busy": "2023-03-08T11:28:01.806045Z",
     "iopub.status.idle": "2023-03-08T11:28:02.169071Z",
     "shell.execute_reply": "2023-03-08T11:28:02.168083Z"
    },
    "papermill": {
     "duration": 0.381614,
     "end_time": "2023-03-08T11:28:02.171957",
     "exception": false,
     "start_time": "2023-03-08T11:28:01.790343",
     "status": "completed"
    },
    "tags": []
   },
   "outputs": [
    {
     "data": {
      "text/html": [
       "<style>#sk-container-id-2 {color: black;background-color: white;}#sk-container-id-2 pre{padding: 0;}#sk-container-id-2 div.sk-toggleable {background-color: white;}#sk-container-id-2 label.sk-toggleable__label {cursor: pointer;display: block;width: 100%;margin-bottom: 0;padding: 0.3em;box-sizing: border-box;text-align: center;}#sk-container-id-2 label.sk-toggleable__label-arrow:before {content: \"▸\";float: left;margin-right: 0.25em;color: #696969;}#sk-container-id-2 label.sk-toggleable__label-arrow:hover:before {color: black;}#sk-container-id-2 div.sk-estimator:hover label.sk-toggleable__label-arrow:before {color: black;}#sk-container-id-2 div.sk-toggleable__content {max-height: 0;max-width: 0;overflow: hidden;text-align: left;background-color: #f0f8ff;}#sk-container-id-2 div.sk-toggleable__content pre {margin: 0.2em;color: black;border-radius: 0.25em;background-color: #f0f8ff;}#sk-container-id-2 input.sk-toggleable__control:checked~div.sk-toggleable__content {max-height: 200px;max-width: 100%;overflow: auto;}#sk-container-id-2 input.sk-toggleable__control:checked~label.sk-toggleable__label-arrow:before {content: \"▾\";}#sk-container-id-2 div.sk-estimator input.sk-toggleable__control:checked~label.sk-toggleable__label {background-color: #d4ebff;}#sk-container-id-2 div.sk-label input.sk-toggleable__control:checked~label.sk-toggleable__label {background-color: #d4ebff;}#sk-container-id-2 input.sk-hidden--visually {border: 0;clip: rect(1px 1px 1px 1px);clip: rect(1px, 1px, 1px, 1px);height: 1px;margin: -1px;overflow: hidden;padding: 0;position: absolute;width: 1px;}#sk-container-id-2 div.sk-estimator {font-family: monospace;background-color: #f0f8ff;border: 1px dotted black;border-radius: 0.25em;box-sizing: border-box;margin-bottom: 0.5em;}#sk-container-id-2 div.sk-estimator:hover {background-color: #d4ebff;}#sk-container-id-2 div.sk-parallel-item::after {content: \"\";width: 100%;border-bottom: 1px solid gray;flex-grow: 1;}#sk-container-id-2 div.sk-label:hover label.sk-toggleable__label {background-color: #d4ebff;}#sk-container-id-2 div.sk-serial::before {content: \"\";position: absolute;border-left: 1px solid gray;box-sizing: border-box;top: 0;bottom: 0;left: 50%;z-index: 0;}#sk-container-id-2 div.sk-serial {display: flex;flex-direction: column;align-items: center;background-color: white;padding-right: 0.2em;padding-left: 0.2em;position: relative;}#sk-container-id-2 div.sk-item {position: relative;z-index: 1;}#sk-container-id-2 div.sk-parallel {display: flex;align-items: stretch;justify-content: center;background-color: white;position: relative;}#sk-container-id-2 div.sk-item::before, #sk-container-id-2 div.sk-parallel-item::before {content: \"\";position: absolute;border-left: 1px solid gray;box-sizing: border-box;top: 0;bottom: 0;left: 50%;z-index: -1;}#sk-container-id-2 div.sk-parallel-item {display: flex;flex-direction: column;z-index: 1;position: relative;background-color: white;}#sk-container-id-2 div.sk-parallel-item:first-child::after {align-self: flex-end;width: 50%;}#sk-container-id-2 div.sk-parallel-item:last-child::after {align-self: flex-start;width: 50%;}#sk-container-id-2 div.sk-parallel-item:only-child::after {width: 0;}#sk-container-id-2 div.sk-dashed-wrapped {border: 1px dashed gray;margin: 0 0.4em 0.5em 0.4em;box-sizing: border-box;padding-bottom: 0.4em;background-color: white;}#sk-container-id-2 div.sk-label label {font-family: monospace;font-weight: bold;display: inline-block;line-height: 1.2em;}#sk-container-id-2 div.sk-label-container {text-align: center;}#sk-container-id-2 div.sk-container {/* jupyter's `normalize.less` sets `[hidden] { display: none; }` but bootstrap.min.css set `[hidden] { display: none !important; }` so we also need the `!important` here to be able to override the default hidden behavior on the sphinx rendered scikit-learn.org. See: https://github.com/scikit-learn/scikit-learn/issues/21755 */display: inline-block !important;position: relative;}#sk-container-id-2 div.sk-text-repr-fallback {display: none;}</style><div id=\"sk-container-id-2\" class=\"sk-top-container\"><div class=\"sk-text-repr-fallback\"><pre>RandomForestClassifier(random_state=42)</pre><b>In a Jupyter environment, please rerun this cell to show the HTML representation or trust the notebook. <br />On GitHub, the HTML representation is unable to render, please try loading this page with nbviewer.org.</b></div><div class=\"sk-container\" hidden><div class=\"sk-item\"><div class=\"sk-estimator sk-toggleable\"><input class=\"sk-toggleable__control sk-hidden--visually\" id=\"sk-estimator-id-2\" type=\"checkbox\" checked><label for=\"sk-estimator-id-2\" class=\"sk-toggleable__label sk-toggleable__label-arrow\">RandomForestClassifier</label><div class=\"sk-toggleable__content\"><pre>RandomForestClassifier(random_state=42)</pre></div></div></div></div></div>"
      ],
      "text/plain": [
       "RandomForestClassifier(random_state=42)"
      ]
     },
     "execution_count": 29,
     "metadata": {},
     "output_type": "execute_result"
    }
   ],
   "source": [
    "clf = RandomForestClassifier(random_state=42)\n",
    "clf.fit(X_train, y_train)"
   ]
  },
  {
   "cell_type": "code",
   "execution_count": 30,
   "id": "4bd1304b",
   "metadata": {
    "execution": {
     "iopub.execute_input": "2023-03-08T11:28:02.241241Z",
     "iopub.status.busy": "2023-03-08T11:28:02.240124Z",
     "iopub.status.idle": "2023-03-08T11:28:02.273389Z",
     "shell.execute_reply": "2023-03-08T11:28:02.272119Z"
    },
    "papermill": {
     "duration": 0.070951,
     "end_time": "2023-03-08T11:28:02.276601",
     "exception": false,
     "start_time": "2023-03-08T11:28:02.205650",
     "status": "completed"
    },
    "tags": []
   },
   "outputs": [
    {
     "name": "stdout",
     "output_type": "stream",
     "text": [
      "              precision    recall  f1-score   support\n",
      "\n",
      "        comp       0.29      0.28      0.29        50\n",
      "        misc       0.33      0.25      0.29         8\n",
      "         rec       0.23      0.13      0.16        47\n",
      "    religion       0.38      0.45      0.41        83\n",
      "         sci       0.24      0.19      0.21        77\n",
      "        talk       0.46      0.59      0.52        90\n",
      "\n",
      "    accuracy                           0.36       355\n",
      "   macro avg       0.32      0.31      0.31       355\n",
      "weighted avg       0.34      0.36      0.34       355\n",
      "\n"
     ]
    }
   ],
   "source": [
    "y_pred = clf.predict(X_test)\n",
    "print(classification_report(y_test, y_pred))"
   ]
  },
  {
   "cell_type": "code",
   "execution_count": 31,
   "id": "43174ba2",
   "metadata": {
    "execution": {
     "iopub.execute_input": "2023-03-08T11:28:02.334008Z",
     "iopub.status.busy": "2023-03-08T11:28:02.333330Z",
     "iopub.status.idle": "2023-03-08T11:28:02.359143Z",
     "shell.execute_reply": "2023-03-08T11:28:02.358320Z"
    },
    "papermill": {
     "duration": 0.05375,
     "end_time": "2023-03-08T11:28:02.361112",
     "exception": false,
     "start_time": "2023-03-08T11:28:02.307362",
     "status": "completed"
    },
    "tags": []
   },
   "outputs": [],
   "source": [
    "acc = accuracy_score(y_test, y_pred)\n",
    "pre = precision_score(y_test, y_pred, average=avg_par)\n",
    "rec = recall_score(y_test, y_pred, average=avg_par)\n",
    "f1 = f1_score(y_test, y_pred, average=avg_par)\n",
    "\n",
    "metrics_data['Global']['RandomForest'] = {'Accuracy': acc, 'Precision': pre, 'Recall': rec, 'F1': f1}"
   ]
  },
  {
   "cell_type": "markdown",
   "id": "22c98ac5",
   "metadata": {
    "papermill": {
     "duration": 0.012481,
     "end_time": "2023-03-08T11:28:02.389391",
     "exception": false,
     "start_time": "2023-03-08T11:28:02.376910",
     "status": "completed"
    },
    "tags": []
   },
   "source": [
    "**LightGBM**"
   ]
  },
  {
   "cell_type": "code",
   "execution_count": 32,
   "id": "c93b818c",
   "metadata": {
    "execution": {
     "iopub.execute_input": "2023-03-08T11:28:02.416944Z",
     "iopub.status.busy": "2023-03-08T11:28:02.416182Z",
     "iopub.status.idle": "2023-03-08T11:28:02.816696Z",
     "shell.execute_reply": "2023-03-08T11:28:02.815916Z"
    },
    "papermill": {
     "duration": 0.416855,
     "end_time": "2023-03-08T11:28:02.818371",
     "exception": false,
     "start_time": "2023-03-08T11:28:02.401516",
     "status": "completed"
    },
    "tags": []
   },
   "outputs": [
    {
     "data": {
      "text/html": [
       "<style>#sk-container-id-3 {color: black;background-color: white;}#sk-container-id-3 pre{padding: 0;}#sk-container-id-3 div.sk-toggleable {background-color: white;}#sk-container-id-3 label.sk-toggleable__label {cursor: pointer;display: block;width: 100%;margin-bottom: 0;padding: 0.3em;box-sizing: border-box;text-align: center;}#sk-container-id-3 label.sk-toggleable__label-arrow:before {content: \"▸\";float: left;margin-right: 0.25em;color: #696969;}#sk-container-id-3 label.sk-toggleable__label-arrow:hover:before {color: black;}#sk-container-id-3 div.sk-estimator:hover label.sk-toggleable__label-arrow:before {color: black;}#sk-container-id-3 div.sk-toggleable__content {max-height: 0;max-width: 0;overflow: hidden;text-align: left;background-color: #f0f8ff;}#sk-container-id-3 div.sk-toggleable__content pre {margin: 0.2em;color: black;border-radius: 0.25em;background-color: #f0f8ff;}#sk-container-id-3 input.sk-toggleable__control:checked~div.sk-toggleable__content {max-height: 200px;max-width: 100%;overflow: auto;}#sk-container-id-3 input.sk-toggleable__control:checked~label.sk-toggleable__label-arrow:before {content: \"▾\";}#sk-container-id-3 div.sk-estimator input.sk-toggleable__control:checked~label.sk-toggleable__label {background-color: #d4ebff;}#sk-container-id-3 div.sk-label input.sk-toggleable__control:checked~label.sk-toggleable__label {background-color: #d4ebff;}#sk-container-id-3 input.sk-hidden--visually {border: 0;clip: rect(1px 1px 1px 1px);clip: rect(1px, 1px, 1px, 1px);height: 1px;margin: -1px;overflow: hidden;padding: 0;position: absolute;width: 1px;}#sk-container-id-3 div.sk-estimator {font-family: monospace;background-color: #f0f8ff;border: 1px dotted black;border-radius: 0.25em;box-sizing: border-box;margin-bottom: 0.5em;}#sk-container-id-3 div.sk-estimator:hover {background-color: #d4ebff;}#sk-container-id-3 div.sk-parallel-item::after {content: \"\";width: 100%;border-bottom: 1px solid gray;flex-grow: 1;}#sk-container-id-3 div.sk-label:hover label.sk-toggleable__label {background-color: #d4ebff;}#sk-container-id-3 div.sk-serial::before {content: \"\";position: absolute;border-left: 1px solid gray;box-sizing: border-box;top: 0;bottom: 0;left: 50%;z-index: 0;}#sk-container-id-3 div.sk-serial {display: flex;flex-direction: column;align-items: center;background-color: white;padding-right: 0.2em;padding-left: 0.2em;position: relative;}#sk-container-id-3 div.sk-item {position: relative;z-index: 1;}#sk-container-id-3 div.sk-parallel {display: flex;align-items: stretch;justify-content: center;background-color: white;position: relative;}#sk-container-id-3 div.sk-item::before, #sk-container-id-3 div.sk-parallel-item::before {content: \"\";position: absolute;border-left: 1px solid gray;box-sizing: border-box;top: 0;bottom: 0;left: 50%;z-index: -1;}#sk-container-id-3 div.sk-parallel-item {display: flex;flex-direction: column;z-index: 1;position: relative;background-color: white;}#sk-container-id-3 div.sk-parallel-item:first-child::after {align-self: flex-end;width: 50%;}#sk-container-id-3 div.sk-parallel-item:last-child::after {align-self: flex-start;width: 50%;}#sk-container-id-3 div.sk-parallel-item:only-child::after {width: 0;}#sk-container-id-3 div.sk-dashed-wrapped {border: 1px dashed gray;margin: 0 0.4em 0.5em 0.4em;box-sizing: border-box;padding-bottom: 0.4em;background-color: white;}#sk-container-id-3 div.sk-label label {font-family: monospace;font-weight: bold;display: inline-block;line-height: 1.2em;}#sk-container-id-3 div.sk-label-container {text-align: center;}#sk-container-id-3 div.sk-container {/* jupyter's `normalize.less` sets `[hidden] { display: none; }` but bootstrap.min.css set `[hidden] { display: none !important; }` so we also need the `!important` here to be able to override the default hidden behavior on the sphinx rendered scikit-learn.org. See: https://github.com/scikit-learn/scikit-learn/issues/21755 */display: inline-block !important;position: relative;}#sk-container-id-3 div.sk-text-repr-fallback {display: none;}</style><div id=\"sk-container-id-3\" class=\"sk-top-container\"><div class=\"sk-text-repr-fallback\"><pre>LGBMClassifier(objective=&#x27;multiclass&#x27;)</pre><b>In a Jupyter environment, please rerun this cell to show the HTML representation or trust the notebook. <br />On GitHub, the HTML representation is unable to render, please try loading this page with nbviewer.org.</b></div><div class=\"sk-container\" hidden><div class=\"sk-item\"><div class=\"sk-estimator sk-toggleable\"><input class=\"sk-toggleable__control sk-hidden--visually\" id=\"sk-estimator-id-3\" type=\"checkbox\" checked><label for=\"sk-estimator-id-3\" class=\"sk-toggleable__label sk-toggleable__label-arrow\">LGBMClassifier</label><div class=\"sk-toggleable__content\"><pre>LGBMClassifier(objective=&#x27;multiclass&#x27;)</pre></div></div></div></div></div>"
      ],
      "text/plain": [
       "LGBMClassifier(objective='multiclass')"
      ]
     },
     "execution_count": 32,
     "metadata": {},
     "output_type": "execute_result"
    }
   ],
   "source": [
    "clf = lgbm.LGBMClassifier(objective=obj_par) \n",
    "clf.fit(X_train, y_train)"
   ]
  },
  {
   "cell_type": "code",
   "execution_count": 33,
   "id": "600a663a",
   "metadata": {
    "execution": {
     "iopub.execute_input": "2023-03-08T11:28:02.845314Z",
     "iopub.status.busy": "2023-03-08T11:28:02.844929Z",
     "iopub.status.idle": "2023-03-08T11:28:02.866859Z",
     "shell.execute_reply": "2023-03-08T11:28:02.866109Z"
    },
    "papermill": {
     "duration": 0.038175,
     "end_time": "2023-03-08T11:28:02.869326",
     "exception": false,
     "start_time": "2023-03-08T11:28:02.831151",
     "status": "completed"
    },
    "tags": []
   },
   "outputs": [
    {
     "name": "stdout",
     "output_type": "stream",
     "text": [
      "              precision    recall  f1-score   support\n",
      "\n",
      "        comp       0.35      0.34      0.34        50\n",
      "        misc       0.25      0.12      0.17         8\n",
      "         rec       0.28      0.17      0.21        47\n",
      "    religion       0.37      0.39      0.38        83\n",
      "         sci       0.32      0.29      0.30        77\n",
      "        talk       0.46      0.60      0.52        90\n",
      "\n",
      "    accuracy                           0.38       355\n",
      "   macro avg       0.34      0.32      0.32       355\n",
      "weighted avg       0.36      0.38      0.37       355\n",
      "\n"
     ]
    }
   ],
   "source": [
    "y_pred = clf.predict(X_test)\n",
    "print(classification_report(y_test, y_pred))"
   ]
  },
  {
   "cell_type": "code",
   "execution_count": 34,
   "id": "508d831d",
   "metadata": {
    "execution": {
     "iopub.execute_input": "2023-03-08T11:28:02.899763Z",
     "iopub.status.busy": "2023-03-08T11:28:02.899416Z",
     "iopub.status.idle": "2023-03-08T11:28:02.914659Z",
     "shell.execute_reply": "2023-03-08T11:28:02.913976Z"
    },
    "papermill": {
     "duration": 0.030666,
     "end_time": "2023-03-08T11:28:02.916620",
     "exception": false,
     "start_time": "2023-03-08T11:28:02.885954",
     "status": "completed"
    },
    "tags": []
   },
   "outputs": [],
   "source": [
    "acc = accuracy_score(y_test, y_pred)\n",
    "pre = precision_score(y_test, y_pred, average=avg_par)\n",
    "rec = recall_score(y_test, y_pred, average=avg_par)\n",
    "f1 = f1_score(y_test, y_pred, average=avg_par)\n",
    "\n",
    "metrics_data['Global']['LightGBM'] = {'Accuracy': acc, 'Precision': pre, 'Recall': rec, 'F1': f1}"
   ]
  },
  {
   "cell_type": "markdown",
   "id": "14b86894",
   "metadata": {
    "papermill": {
     "duration": 0.01225,
     "end_time": "2023-03-08T11:28:02.942749",
     "exception": false,
     "start_time": "2023-03-08T11:28:02.930499",
     "status": "completed"
    },
    "tags": []
   },
   "source": [
    "### Time Series Classification"
   ]
  },
  {
   "cell_type": "markdown",
   "id": "84c55533",
   "metadata": {
    "papermill": {
     "duration": 0.014475,
     "end_time": "2023-03-08T11:28:02.971346",
     "exception": false,
     "start_time": "2023-03-08T11:28:02.956871",
     "status": "completed"
    },
    "tags": []
   },
   "source": [
    "#### Learning Shapelets"
   ]
  },
  {
   "cell_type": "code",
   "execution_count": 35,
   "id": "488d8eb7",
   "metadata": {
    "execution": {
     "iopub.execute_input": "2023-03-08T11:28:02.999474Z",
     "iopub.status.busy": "2023-03-08T11:28:02.998363Z",
     "iopub.status.idle": "2023-03-08T11:28:04.572072Z",
     "shell.execute_reply": "2023-03-08T11:28:04.571203Z"
    },
    "papermill": {
     "duration": 1.590318,
     "end_time": "2023-03-08T11:28:04.574338",
     "exception": false,
     "start_time": "2023-03-08T11:28:02.984020",
     "status": "completed"
    },
    "tags": []
   },
   "outputs": [
    {
     "name": "stderr",
     "output_type": "stream",
     "text": [
      "2023-03-08 12:28:03.006716: I tensorflow/core/platform/cpu_feature_guard.cc:193] This TensorFlow binary is optimized with oneAPI Deep Neural Network Library (oneDNN) to use the following CPU instructions in performance-critical operations:  AVX2 FMA\n",
      "To enable them in other operations, rebuild TensorFlow with the appropriate compiler flags.\n",
      "2023-03-08 12:28:03.166029: W tensorflow/compiler/xla/stream_executor/platform/default/dso_loader.cc:64] Could not load dynamic library 'libcudart.so.11.0'; dlerror: libcudart.so.11.0: cannot open shared object file: No such file or directory\n",
      "2023-03-08 12:28:03.166052: I tensorflow/compiler/xla/stream_executor/cuda/cudart_stub.cc:29] Ignore above cudart dlerror if you do not have a GPU set up on your machine.\n"
     ]
    },
    {
     "name": "stderr",
     "output_type": "stream",
     "text": [
      "2023-03-08 12:28:03.784974: W tensorflow/compiler/xla/stream_executor/platform/default/dso_loader.cc:64] Could not load dynamic library 'libnvinfer.so.7'; dlerror: libnvinfer.so.7: cannot open shared object file: No such file or directory\n",
      "2023-03-08 12:28:03.785045: W tensorflow/compiler/xla/stream_executor/platform/default/dso_loader.cc:64] Could not load dynamic library 'libnvinfer_plugin.so.7'; dlerror: libnvinfer_plugin.so.7: cannot open shared object file: No such file or directory\n",
      "2023-03-08 12:28:03.785053: W tensorflow/compiler/tf2tensorrt/utils/py_utils.cc:38] TF-TRT Warning: Cannot dlopen some TensorRT libraries. If you would like to use Nvidia GPU with TensorRT, please make sure the missing libraries mentioned above are installed properly.\n"
     ]
    }
   ],
   "source": [
    "from tslearn.shapelets import LearningShapelets, grabocka_params_to_shapelet_size_dict"
   ]
  },
  {
   "cell_type": "code",
   "execution_count": 36,
   "id": "eb677959",
   "metadata": {
    "execution": {
     "iopub.execute_input": "2023-03-08T11:28:04.604756Z",
     "iopub.status.busy": "2023-03-08T11:28:04.603909Z",
     "iopub.status.idle": "2023-03-08T11:28:04.608735Z",
     "shell.execute_reply": "2023-03-08T11:28:04.607866Z"
    },
    "papermill": {
     "duration": 0.020046,
     "end_time": "2023-03-08T11:28:04.610141",
     "exception": false,
     "start_time": "2023-03-08T11:28:04.590095",
     "status": "completed"
    },
    "tags": []
   },
   "outputs": [],
   "source": [
    "n_ts, ts_sz, _ = ts_train.shape\n",
    "n_classes = len(set(y_train))"
   ]
  },
  {
   "cell_type": "code",
   "execution_count": 37,
   "id": "776ed3dd",
   "metadata": {
    "execution": {
     "iopub.execute_input": "2023-03-08T11:28:04.638285Z",
     "iopub.status.busy": "2023-03-08T11:28:04.637461Z",
     "iopub.status.idle": "2023-03-08T11:28:04.645669Z",
     "shell.execute_reply": "2023-03-08T11:28:04.644421Z"
    },
    "papermill": {
     "duration": 0.024382,
     "end_time": "2023-03-08T11:28:04.647640",
     "exception": false,
     "start_time": "2023-03-08T11:28:04.623258",
     "status": "completed"
    },
    "tags": []
   },
   "outputs": [
    {
     "name": "stdout",
     "output_type": "stream",
     "text": [
      "n_ts 1420\n",
      "ts_sz 100\n",
      "n_classes 6\n",
      "shapelet_sizes {10: 5}\n"
     ]
    }
   ],
   "source": [
    "# Set the number of shapelets per size as done in the original paper\n",
    "g_shapelet_sizes = grabocka_params_to_shapelet_size_dict(n_ts=n_ts,\n",
    "                                                         ts_sz=ts_sz,\n",
    "                                                         n_classes=n_classes,\n",
    "                                                         l=0.1,\n",
    "                                                         r=1)\n",
    "\n",
    "print('n_ts', n_ts)\n",
    "print('ts_sz', ts_sz)\n",
    "print('n_classes', n_classes)\n",
    "print('shapelet_sizes', g_shapelet_sizes)"
   ]
  },
  {
   "cell_type": "code",
   "execution_count": 38,
   "id": "90ed707e",
   "metadata": {
    "execution": {
     "iopub.execute_input": "2023-03-08T11:28:04.675160Z",
     "iopub.status.busy": "2023-03-08T11:28:04.674513Z",
     "iopub.status.idle": "2023-03-08T11:28:04.683334Z",
     "shell.execute_reply": "2023-03-08T11:28:04.682301Z"
    },
    "papermill": {
     "duration": 0.024437,
     "end_time": "2023-03-08T11:28:04.684961",
     "exception": false,
     "start_time": "2023-03-08T11:28:04.660524",
     "status": "completed"
    },
    "tags": []
   },
   "outputs": [
    {
     "data": {
      "text/plain": [
       "{10: 5, 20: 5, 5: 5}"
      ]
     },
     "execution_count": 38,
     "metadata": {},
     "output_type": "execute_result"
    }
   ],
   "source": [
    "shapelet_sizes = {}\n",
    "for key in g_shapelet_sizes:\n",
    "    shapelet_sizes[key] = g_shapelet_sizes[key]\n",
    "    shapelet_sizes[key*2] = g_shapelet_sizes[key]\n",
    "    shapelet_sizes[key//2] = g_shapelet_sizes[key]\n",
    "shapelet_sizes"
   ]
  },
  {
   "cell_type": "code",
   "execution_count": 39,
   "id": "3507fb9c",
   "metadata": {
    "execution": {
     "iopub.execute_input": "2023-03-08T11:28:04.712054Z",
     "iopub.status.busy": "2023-03-08T11:28:04.711399Z",
     "iopub.status.idle": "2023-03-08T11:28:04.718033Z",
     "shell.execute_reply": "2023-03-08T11:28:04.717004Z"
    },
    "papermill": {
     "duration": 0.022019,
     "end_time": "2023-03-08T11:28:04.719692",
     "exception": false,
     "start_time": "2023-03-08T11:28:04.697673",
     "status": "completed"
    },
    "tags": []
   },
   "outputs": [
    {
     "name": "stderr",
     "output_type": "stream",
     "text": [
      "/home/mattiapggioli/lyrics2ts/.venv/lib/python3.9/site-packages/tslearn/shapelets/shapelets.py:354: FutureWarning: The default value for 'scale' is set to False in version 0.4 to ensure backward compatibility, but is likely to change in a future version.\n",
      "  warnings.warn(\"The default value for 'scale' is set to False \"\n"
     ]
    }
   ],
   "source": [
    "model = LearningShapelets(n_shapelets_per_size=shapelet_sizes,\n",
    "                          optimizer=\"adam\", \n",
    "                          weight_regularizer=.01, \n",
    "                          max_iter=max_iter, verbose=0, random_state=42)"
   ]
  },
  {
   "cell_type": "code",
   "execution_count": 40,
   "id": "73b1fe2e",
   "metadata": {
    "execution": {
     "iopub.execute_input": "2023-03-08T11:28:04.748628Z",
     "iopub.status.busy": "2023-03-08T11:28:04.747718Z",
     "iopub.status.idle": "2023-03-08T11:30:29.516045Z",
     "shell.execute_reply": "2023-03-08T11:30:29.515232Z"
    },
    "papermill": {
     "duration": 144.831613,
     "end_time": "2023-03-08T11:30:29.565132",
     "exception": false,
     "start_time": "2023-03-08T11:28:04.733519",
     "status": "completed"
    },
    "tags": []
   },
   "outputs": [
    {
     "name": "stderr",
     "output_type": "stream",
     "text": [
      "2023-03-08 12:28:04.833793: W tensorflow/compiler/xla/stream_executor/platform/default/dso_loader.cc:64] Could not load dynamic library 'libcuda.so.1'; dlerror: libcuda.so.1: cannot open shared object file: No such file or directory\n",
      "2023-03-08 12:28:04.833817: W tensorflow/compiler/xla/stream_executor/cuda/cuda_driver.cc:265] failed call to cuInit: UNKNOWN ERROR (303)\n",
      "2023-03-08 12:28:04.833839: I tensorflow/compiler/xla/stream_executor/cuda/cuda_diagnostics.cc:156] kernel driver does not appear to be running on this host (mattiapggioli-ThinkPad-E595): /proc/driver/nvidia/version does not exist\n",
      "2023-03-08 12:28:04.834083: I tensorflow/core/platform/cpu_feature_guard.cc:193] This TensorFlow binary is optimized with oneAPI Deep Neural Network Library (oneDNN) to use the following CPU instructions in performance-critical operations:  AVX2 FMA\n",
      "To enable them in other operations, rebuild TensorFlow with the appropriate compiler flags.\n"
     ]
    },
    {
     "name": "stdout",
     "output_type": "stream",
     "text": [
      "CPU times: user 9min 57s, sys: 32.3 s, total: 10min 29s\n",
      "Wall time: 2min 24s\n"
     ]
    },
    {
     "data": {
      "text/html": [
       "<style>#sk-container-id-4 {color: black;background-color: white;}#sk-container-id-4 pre{padding: 0;}#sk-container-id-4 div.sk-toggleable {background-color: white;}#sk-container-id-4 label.sk-toggleable__label {cursor: pointer;display: block;width: 100%;margin-bottom: 0;padding: 0.3em;box-sizing: border-box;text-align: center;}#sk-container-id-4 label.sk-toggleable__label-arrow:before {content: \"▸\";float: left;margin-right: 0.25em;color: #696969;}#sk-container-id-4 label.sk-toggleable__label-arrow:hover:before {color: black;}#sk-container-id-4 div.sk-estimator:hover label.sk-toggleable__label-arrow:before {color: black;}#sk-container-id-4 div.sk-toggleable__content {max-height: 0;max-width: 0;overflow: hidden;text-align: left;background-color: #f0f8ff;}#sk-container-id-4 div.sk-toggleable__content pre {margin: 0.2em;color: black;border-radius: 0.25em;background-color: #f0f8ff;}#sk-container-id-4 input.sk-toggleable__control:checked~div.sk-toggleable__content {max-height: 200px;max-width: 100%;overflow: auto;}#sk-container-id-4 input.sk-toggleable__control:checked~label.sk-toggleable__label-arrow:before {content: \"▾\";}#sk-container-id-4 div.sk-estimator input.sk-toggleable__control:checked~label.sk-toggleable__label {background-color: #d4ebff;}#sk-container-id-4 div.sk-label input.sk-toggleable__control:checked~label.sk-toggleable__label {background-color: #d4ebff;}#sk-container-id-4 input.sk-hidden--visually {border: 0;clip: rect(1px 1px 1px 1px);clip: rect(1px, 1px, 1px, 1px);height: 1px;margin: -1px;overflow: hidden;padding: 0;position: absolute;width: 1px;}#sk-container-id-4 div.sk-estimator {font-family: monospace;background-color: #f0f8ff;border: 1px dotted black;border-radius: 0.25em;box-sizing: border-box;margin-bottom: 0.5em;}#sk-container-id-4 div.sk-estimator:hover {background-color: #d4ebff;}#sk-container-id-4 div.sk-parallel-item::after {content: \"\";width: 100%;border-bottom: 1px solid gray;flex-grow: 1;}#sk-container-id-4 div.sk-label:hover label.sk-toggleable__label {background-color: #d4ebff;}#sk-container-id-4 div.sk-serial::before {content: \"\";position: absolute;border-left: 1px solid gray;box-sizing: border-box;top: 0;bottom: 0;left: 50%;z-index: 0;}#sk-container-id-4 div.sk-serial {display: flex;flex-direction: column;align-items: center;background-color: white;padding-right: 0.2em;padding-left: 0.2em;position: relative;}#sk-container-id-4 div.sk-item {position: relative;z-index: 1;}#sk-container-id-4 div.sk-parallel {display: flex;align-items: stretch;justify-content: center;background-color: white;position: relative;}#sk-container-id-4 div.sk-item::before, #sk-container-id-4 div.sk-parallel-item::before {content: \"\";position: absolute;border-left: 1px solid gray;box-sizing: border-box;top: 0;bottom: 0;left: 50%;z-index: -1;}#sk-container-id-4 div.sk-parallel-item {display: flex;flex-direction: column;z-index: 1;position: relative;background-color: white;}#sk-container-id-4 div.sk-parallel-item:first-child::after {align-self: flex-end;width: 50%;}#sk-container-id-4 div.sk-parallel-item:last-child::after {align-self: flex-start;width: 50%;}#sk-container-id-4 div.sk-parallel-item:only-child::after {width: 0;}#sk-container-id-4 div.sk-dashed-wrapped {border: 1px dashed gray;margin: 0 0.4em 0.5em 0.4em;box-sizing: border-box;padding-bottom: 0.4em;background-color: white;}#sk-container-id-4 div.sk-label label {font-family: monospace;font-weight: bold;display: inline-block;line-height: 1.2em;}#sk-container-id-4 div.sk-label-container {text-align: center;}#sk-container-id-4 div.sk-container {/* jupyter's `normalize.less` sets `[hidden] { display: none; }` but bootstrap.min.css set `[hidden] { display: none !important; }` so we also need the `!important` here to be able to override the default hidden behavior on the sphinx rendered scikit-learn.org. See: https://github.com/scikit-learn/scikit-learn/issues/21755 */display: inline-block !important;position: relative;}#sk-container-id-4 div.sk-text-repr-fallback {display: none;}</style><div id=\"sk-container-id-4\" class=\"sk-top-container\"><div class=\"sk-text-repr-fallback\"><pre>LearningShapelets(max_iter=2000, n_shapelets_per_size={5: 5, 10: 5, 20: 5},\n",
       "                  optimizer=&#x27;adam&#x27;, random_state=42, weight_regularizer=0.01)</pre><b>In a Jupyter environment, please rerun this cell to show the HTML representation or trust the notebook. <br />On GitHub, the HTML representation is unable to render, please try loading this page with nbviewer.org.</b></div><div class=\"sk-container\" hidden><div class=\"sk-item\"><div class=\"sk-estimator sk-toggleable\"><input class=\"sk-toggleable__control sk-hidden--visually\" id=\"sk-estimator-id-4\" type=\"checkbox\" checked><label for=\"sk-estimator-id-4\" class=\"sk-toggleable__label sk-toggleable__label-arrow\">LearningShapelets</label><div class=\"sk-toggleable__content\"><pre>LearningShapelets(max_iter=2000, n_shapelets_per_size={5: 5, 10: 5, 20: 5},\n",
       "                  optimizer=&#x27;adam&#x27;, random_state=42, weight_regularizer=0.01)</pre></div></div></div></div></div>"
      ],
      "text/plain": [
       "LearningShapelets(max_iter=2000, n_shapelets_per_size={5: 5, 10: 5, 20: 5},\n",
       "                  optimizer='adam', random_state=42, weight_regularizer=0.01)"
      ]
     },
     "execution_count": 40,
     "metadata": {},
     "output_type": "execute_result"
    }
   ],
   "source": [
    "%%time\n",
    "model.fit(ts_train, y_train)"
   ]
  },
  {
   "cell_type": "code",
   "execution_count": 41,
   "id": "51706baa",
   "metadata": {
    "execution": {
     "iopub.execute_input": "2023-03-08T11:30:29.643969Z",
     "iopub.status.busy": "2023-03-08T11:30:29.643620Z",
     "iopub.status.idle": "2023-03-08T11:30:29.663330Z",
     "shell.execute_reply": "2023-03-08T11:30:29.662480Z"
    },
    "papermill": {
     "duration": 0.058495,
     "end_time": "2023-03-08T11:30:29.665466",
     "exception": false,
     "start_time": "2023-03-08T11:30:29.606971",
     "status": "completed"
    },
    "tags": []
   },
   "outputs": [],
   "source": [
    "model.to_pickle(f'{data_path}/shapelets.pkl')"
   ]
  },
  {
   "cell_type": "markdown",
   "id": "309f70dc",
   "metadata": {
    "papermill": {
     "duration": 0.013483,
     "end_time": "2023-03-08T11:30:29.694699",
     "exception": false,
     "start_time": "2023-03-08T11:30:29.681216",
     "status": "completed"
    },
    "tags": []
   },
   "source": [
    "#### Shapelet-Based Classification"
   ]
  },
  {
   "cell_type": "code",
   "execution_count": 42,
   "id": "60125dff",
   "metadata": {
    "execution": {
     "iopub.execute_input": "2023-03-08T11:30:29.724348Z",
     "iopub.status.busy": "2023-03-08T11:30:29.723639Z",
     "iopub.status.idle": "2023-03-08T11:30:29.729321Z",
     "shell.execute_reply": "2023-03-08T11:30:29.728172Z"
    },
    "papermill": {
     "duration": 0.022844,
     "end_time": "2023-03-08T11:30:29.731125",
     "exception": false,
     "start_time": "2023-03-08T11:30:29.708281",
     "status": "completed"
    },
    "tags": []
   },
   "outputs": [],
   "source": [
    "metrics_data['Shapelets'] = {}"
   ]
  },
  {
   "cell_type": "code",
   "execution_count": 43,
   "id": "efb8984d",
   "metadata": {
    "execution": {
     "iopub.execute_input": "2023-03-08T11:30:29.761004Z",
     "iopub.status.busy": "2023-03-08T11:30:29.760703Z",
     "iopub.status.idle": "2023-03-08T11:30:30.194081Z",
     "shell.execute_reply": "2023-03-08T11:30:30.193206Z"
    },
    "papermill": {
     "duration": 0.451758,
     "end_time": "2023-03-08T11:30:30.197059",
     "exception": false,
     "start_time": "2023-03-08T11:30:29.745301",
     "status": "completed"
    },
    "tags": []
   },
   "outputs": [],
   "source": [
    "X_train = model.transform(ts_train)\n",
    "X_test = model.transform(ts_test)"
   ]
  },
  {
   "cell_type": "code",
   "execution_count": 44,
   "id": "2e6c0f22",
   "metadata": {
    "execution": {
     "iopub.execute_input": "2023-03-08T11:30:30.227514Z",
     "iopub.status.busy": "2023-03-08T11:30:30.226863Z",
     "iopub.status.idle": "2023-03-08T11:30:30.248042Z",
     "shell.execute_reply": "2023-03-08T11:30:30.246956Z"
    },
    "papermill": {
     "duration": 0.037488,
     "end_time": "2023-03-08T11:30:30.250449",
     "exception": false,
     "start_time": "2023-03-08T11:30:30.212961",
     "status": "completed"
    },
    "tags": []
   },
   "outputs": [
    {
     "data": {
      "text/html": [
       "<div>\n",
       "<style scoped>\n",
       "    .dataframe tbody tr th:only-of-type {\n",
       "        vertical-align: middle;\n",
       "    }\n",
       "\n",
       "    .dataframe tbody tr th {\n",
       "        vertical-align: top;\n",
       "    }\n",
       "\n",
       "    .dataframe thead th {\n",
       "        text-align: right;\n",
       "    }\n",
       "</style>\n",
       "<table border=\"1\" class=\"dataframe\">\n",
       "  <thead>\n",
       "    <tr style=\"text-align: right;\">\n",
       "      <th></th>\n",
       "      <th>0</th>\n",
       "      <th>1</th>\n",
       "      <th>2</th>\n",
       "      <th>3</th>\n",
       "      <th>4</th>\n",
       "      <th>5</th>\n",
       "      <th>6</th>\n",
       "      <th>7</th>\n",
       "      <th>8</th>\n",
       "      <th>9</th>\n",
       "      <th>10</th>\n",
       "      <th>11</th>\n",
       "      <th>12</th>\n",
       "      <th>13</th>\n",
       "      <th>14</th>\n",
       "    </tr>\n",
       "  </thead>\n",
       "  <tbody>\n",
       "    <tr>\n",
       "      <th>0</th>\n",
       "      <td>2.716074</td>\n",
       "      <td>0.013605</td>\n",
       "      <td>1.341437</td>\n",
       "      <td>4.306818</td>\n",
       "      <td>0.073890</td>\n",
       "      <td>1.691845</td>\n",
       "      <td>0.338684</td>\n",
       "      <td>2.939410</td>\n",
       "      <td>3.651063</td>\n",
       "      <td>1.593321</td>\n",
       "      <td>3.259902</td>\n",
       "      <td>3.334395</td>\n",
       "      <td>3.461263</td>\n",
       "      <td>0.700475</td>\n",
       "      <td>3.783192</td>\n",
       "    </tr>\n",
       "    <tr>\n",
       "      <th>1</th>\n",
       "      <td>3.034532</td>\n",
       "      <td>0.042133</td>\n",
       "      <td>2.041426</td>\n",
       "      <td>4.118248</td>\n",
       "      <td>0.041047</td>\n",
       "      <td>1.958957</td>\n",
       "      <td>0.330426</td>\n",
       "      <td>2.860681</td>\n",
       "      <td>3.372937</td>\n",
       "      <td>2.012018</td>\n",
       "      <td>3.406604</td>\n",
       "      <td>3.507000</td>\n",
       "      <td>3.622049</td>\n",
       "      <td>0.730464</td>\n",
       "      <td>3.905253</td>\n",
       "    </tr>\n",
       "    <tr>\n",
       "      <th>2</th>\n",
       "      <td>2.444720</td>\n",
       "      <td>0.087158</td>\n",
       "      <td>2.683060</td>\n",
       "      <td>2.928268</td>\n",
       "      <td>0.025227</td>\n",
       "      <td>2.314481</td>\n",
       "      <td>0.136286</td>\n",
       "      <td>1.932372</td>\n",
       "      <td>2.465432</td>\n",
       "      <td>2.230859</td>\n",
       "      <td>4.278711</td>\n",
       "      <td>4.385475</td>\n",
       "      <td>4.533967</td>\n",
       "      <td>1.097894</td>\n",
       "      <td>4.841006</td>\n",
       "    </tr>\n",
       "    <tr>\n",
       "      <th>3</th>\n",
       "      <td>2.952698</td>\n",
       "      <td>0.012931</td>\n",
       "      <td>2.041159</td>\n",
       "      <td>4.215336</td>\n",
       "      <td>0.008626</td>\n",
       "      <td>1.847431</td>\n",
       "      <td>0.293963</td>\n",
       "      <td>2.683455</td>\n",
       "      <td>3.367093</td>\n",
       "      <td>2.001285</td>\n",
       "      <td>3.431801</td>\n",
       "      <td>3.513959</td>\n",
       "      <td>3.638619</td>\n",
       "      <td>0.766692</td>\n",
       "      <td>3.933697</td>\n",
       "    </tr>\n",
       "    <tr>\n",
       "      <th>4</th>\n",
       "      <td>2.298749</td>\n",
       "      <td>0.037807</td>\n",
       "      <td>1.878178</td>\n",
       "      <td>4.866575</td>\n",
       "      <td>0.040437</td>\n",
       "      <td>1.575195</td>\n",
       "      <td>0.369454</td>\n",
       "      <td>3.043684</td>\n",
       "      <td>4.040675</td>\n",
       "      <td>1.558295</td>\n",
       "      <td>3.079355</td>\n",
       "      <td>3.146288</td>\n",
       "      <td>3.265894</td>\n",
       "      <td>0.593570</td>\n",
       "      <td>3.554067</td>\n",
       "    </tr>\n",
       "    <tr>\n",
       "      <th>...</th>\n",
       "      <td>...</td>\n",
       "      <td>...</td>\n",
       "      <td>...</td>\n",
       "      <td>...</td>\n",
       "      <td>...</td>\n",
       "      <td>...</td>\n",
       "      <td>...</td>\n",
       "      <td>...</td>\n",
       "      <td>...</td>\n",
       "      <td>...</td>\n",
       "      <td>...</td>\n",
       "      <td>...</td>\n",
       "      <td>...</td>\n",
       "      <td>...</td>\n",
       "      <td>...</td>\n",
       "    </tr>\n",
       "    <tr>\n",
       "      <th>350</th>\n",
       "      <td>2.793933</td>\n",
       "      <td>0.039273</td>\n",
       "      <td>2.170800</td>\n",
       "      <td>4.816931</td>\n",
       "      <td>0.046044</td>\n",
       "      <td>1.876254</td>\n",
       "      <td>0.350805</td>\n",
       "      <td>2.799296</td>\n",
       "      <td>3.696451</td>\n",
       "      <td>1.794792</td>\n",
       "      <td>3.608492</td>\n",
       "      <td>3.685897</td>\n",
       "      <td>3.830227</td>\n",
       "      <td>0.785629</td>\n",
       "      <td>4.124905</td>\n",
       "    </tr>\n",
       "    <tr>\n",
       "      <th>351</th>\n",
       "      <td>2.640495</td>\n",
       "      <td>0.050788</td>\n",
       "      <td>2.297983</td>\n",
       "      <td>3.753809</td>\n",
       "      <td>0.021652</td>\n",
       "      <td>1.734200</td>\n",
       "      <td>0.239592</td>\n",
       "      <td>2.371541</td>\n",
       "      <td>2.845615</td>\n",
       "      <td>1.888453</td>\n",
       "      <td>3.894150</td>\n",
       "      <td>3.975357</td>\n",
       "      <td>4.134034</td>\n",
       "      <td>0.906378</td>\n",
       "      <td>4.431640</td>\n",
       "    </tr>\n",
       "    <tr>\n",
       "      <th>352</th>\n",
       "      <td>2.665391</td>\n",
       "      <td>0.004702</td>\n",
       "      <td>1.684811</td>\n",
       "      <td>3.379068</td>\n",
       "      <td>0.036199</td>\n",
       "      <td>1.697337</td>\n",
       "      <td>0.240689</td>\n",
       "      <td>2.074420</td>\n",
       "      <td>2.481601</td>\n",
       "      <td>1.758750</td>\n",
       "      <td>3.457773</td>\n",
       "      <td>3.510777</td>\n",
       "      <td>3.650588</td>\n",
       "      <td>0.713765</td>\n",
       "      <td>3.941224</td>\n",
       "    </tr>\n",
       "    <tr>\n",
       "      <th>353</th>\n",
       "      <td>1.736136</td>\n",
       "      <td>0.014164</td>\n",
       "      <td>1.761193</td>\n",
       "      <td>2.625911</td>\n",
       "      <td>0.012748</td>\n",
       "      <td>1.629735</td>\n",
       "      <td>0.107761</td>\n",
       "      <td>2.122910</td>\n",
       "      <td>2.810987</td>\n",
       "      <td>1.873741</td>\n",
       "      <td>3.349716</td>\n",
       "      <td>3.443133</td>\n",
       "      <td>3.577986</td>\n",
       "      <td>0.700481</td>\n",
       "      <td>3.835438</td>\n",
       "    </tr>\n",
       "    <tr>\n",
       "      <th>354</th>\n",
       "      <td>2.520551</td>\n",
       "      <td>0.046030</td>\n",
       "      <td>2.209667</td>\n",
       "      <td>3.614769</td>\n",
       "      <td>0.015385</td>\n",
       "      <td>2.097345</td>\n",
       "      <td>0.204099</td>\n",
       "      <td>2.511348</td>\n",
       "      <td>2.959782</td>\n",
       "      <td>1.827908</td>\n",
       "      <td>4.035148</td>\n",
       "      <td>4.043955</td>\n",
       "      <td>4.190728</td>\n",
       "      <td>0.952554</td>\n",
       "      <td>4.561069</td>\n",
       "    </tr>\n",
       "  </tbody>\n",
       "</table>\n",
       "<p>355 rows × 15 columns</p>\n",
       "</div>"
      ],
      "text/plain": [
       "           0         1         2         3         4         5         6   \\\n",
       "0    2.716074  0.013605  1.341437  4.306818  0.073890  1.691845  0.338684   \n",
       "1    3.034532  0.042133  2.041426  4.118248  0.041047  1.958957  0.330426   \n",
       "2    2.444720  0.087158  2.683060  2.928268  0.025227  2.314481  0.136286   \n",
       "3    2.952698  0.012931  2.041159  4.215336  0.008626  1.847431  0.293963   \n",
       "4    2.298749  0.037807  1.878178  4.866575  0.040437  1.575195  0.369454   \n",
       "..        ...       ...       ...       ...       ...       ...       ...   \n",
       "350  2.793933  0.039273  2.170800  4.816931  0.046044  1.876254  0.350805   \n",
       "351  2.640495  0.050788  2.297983  3.753809  0.021652  1.734200  0.239592   \n",
       "352  2.665391  0.004702  1.684811  3.379068  0.036199  1.697337  0.240689   \n",
       "353  1.736136  0.014164  1.761193  2.625911  0.012748  1.629735  0.107761   \n",
       "354  2.520551  0.046030  2.209667  3.614769  0.015385  2.097345  0.204099   \n",
       "\n",
       "           7         8         9         10        11        12        13  \\\n",
       "0    2.939410  3.651063  1.593321  3.259902  3.334395  3.461263  0.700475   \n",
       "1    2.860681  3.372937  2.012018  3.406604  3.507000  3.622049  0.730464   \n",
       "2    1.932372  2.465432  2.230859  4.278711  4.385475  4.533967  1.097894   \n",
       "3    2.683455  3.367093  2.001285  3.431801  3.513959  3.638619  0.766692   \n",
       "4    3.043684  4.040675  1.558295  3.079355  3.146288  3.265894  0.593570   \n",
       "..        ...       ...       ...       ...       ...       ...       ...   \n",
       "350  2.799296  3.696451  1.794792  3.608492  3.685897  3.830227  0.785629   \n",
       "351  2.371541  2.845615  1.888453  3.894150  3.975357  4.134034  0.906378   \n",
       "352  2.074420  2.481601  1.758750  3.457773  3.510777  3.650588  0.713765   \n",
       "353  2.122910  2.810987  1.873741  3.349716  3.443133  3.577986  0.700481   \n",
       "354  2.511348  2.959782  1.827908  4.035148  4.043955  4.190728  0.952554   \n",
       "\n",
       "           14  \n",
       "0    3.783192  \n",
       "1    3.905253  \n",
       "2    4.841006  \n",
       "3    3.933697  \n",
       "4    3.554067  \n",
       "..        ...  \n",
       "350  4.124905  \n",
       "351  4.431640  \n",
       "352  3.941224  \n",
       "353  3.835438  \n",
       "354  4.561069  \n",
       "\n",
       "[355 rows x 15 columns]"
      ]
     },
     "execution_count": 44,
     "metadata": {},
     "output_type": "execute_result"
    }
   ],
   "source": [
    "pd.DataFrame(X_test)"
   ]
  },
  {
   "cell_type": "markdown",
   "id": "5fa024f7",
   "metadata": {
    "execution": {
     "iopub.execute_input": "2023-02-07T23:47:19.876941Z",
     "iopub.status.busy": "2023-02-07T23:47:19.876424Z",
     "iopub.status.idle": "2023-02-07T23:47:20.399488Z",
     "shell.execute_reply": "2023-02-07T23:47:20.398142Z"
    },
    "papermill": {
     "duration": 0.012855,
     "end_time": "2023-03-08T11:30:30.279326",
     "exception": false,
     "start_time": "2023-03-08T11:30:30.266471",
     "status": "completed"
    },
    "tags": []
   },
   "source": [
    "**Decision Tree**"
   ]
  },
  {
   "cell_type": "code",
   "execution_count": 45,
   "id": "4f5400c9",
   "metadata": {
    "execution": {
     "iopub.execute_input": "2023-03-08T11:30:30.308281Z",
     "iopub.status.busy": "2023-03-08T11:30:30.307768Z",
     "iopub.status.idle": "2023-03-08T11:30:30.362936Z",
     "shell.execute_reply": "2023-03-08T11:30:30.361709Z"
    },
    "papermill": {
     "duration": 0.073401,
     "end_time": "2023-03-08T11:30:30.365837",
     "exception": false,
     "start_time": "2023-03-08T11:30:30.292436",
     "status": "completed"
    },
    "tags": []
   },
   "outputs": [
    {
     "data": {
      "text/html": [
       "<style>#sk-container-id-5 {color: black;background-color: white;}#sk-container-id-5 pre{padding: 0;}#sk-container-id-5 div.sk-toggleable {background-color: white;}#sk-container-id-5 label.sk-toggleable__label {cursor: pointer;display: block;width: 100%;margin-bottom: 0;padding: 0.3em;box-sizing: border-box;text-align: center;}#sk-container-id-5 label.sk-toggleable__label-arrow:before {content: \"▸\";float: left;margin-right: 0.25em;color: #696969;}#sk-container-id-5 label.sk-toggleable__label-arrow:hover:before {color: black;}#sk-container-id-5 div.sk-estimator:hover label.sk-toggleable__label-arrow:before {color: black;}#sk-container-id-5 div.sk-toggleable__content {max-height: 0;max-width: 0;overflow: hidden;text-align: left;background-color: #f0f8ff;}#sk-container-id-5 div.sk-toggleable__content pre {margin: 0.2em;color: black;border-radius: 0.25em;background-color: #f0f8ff;}#sk-container-id-5 input.sk-toggleable__control:checked~div.sk-toggleable__content {max-height: 200px;max-width: 100%;overflow: auto;}#sk-container-id-5 input.sk-toggleable__control:checked~label.sk-toggleable__label-arrow:before {content: \"▾\";}#sk-container-id-5 div.sk-estimator input.sk-toggleable__control:checked~label.sk-toggleable__label {background-color: #d4ebff;}#sk-container-id-5 div.sk-label input.sk-toggleable__control:checked~label.sk-toggleable__label {background-color: #d4ebff;}#sk-container-id-5 input.sk-hidden--visually {border: 0;clip: rect(1px 1px 1px 1px);clip: rect(1px, 1px, 1px, 1px);height: 1px;margin: -1px;overflow: hidden;padding: 0;position: absolute;width: 1px;}#sk-container-id-5 div.sk-estimator {font-family: monospace;background-color: #f0f8ff;border: 1px dotted black;border-radius: 0.25em;box-sizing: border-box;margin-bottom: 0.5em;}#sk-container-id-5 div.sk-estimator:hover {background-color: #d4ebff;}#sk-container-id-5 div.sk-parallel-item::after {content: \"\";width: 100%;border-bottom: 1px solid gray;flex-grow: 1;}#sk-container-id-5 div.sk-label:hover label.sk-toggleable__label {background-color: #d4ebff;}#sk-container-id-5 div.sk-serial::before {content: \"\";position: absolute;border-left: 1px solid gray;box-sizing: border-box;top: 0;bottom: 0;left: 50%;z-index: 0;}#sk-container-id-5 div.sk-serial {display: flex;flex-direction: column;align-items: center;background-color: white;padding-right: 0.2em;padding-left: 0.2em;position: relative;}#sk-container-id-5 div.sk-item {position: relative;z-index: 1;}#sk-container-id-5 div.sk-parallel {display: flex;align-items: stretch;justify-content: center;background-color: white;position: relative;}#sk-container-id-5 div.sk-item::before, #sk-container-id-5 div.sk-parallel-item::before {content: \"\";position: absolute;border-left: 1px solid gray;box-sizing: border-box;top: 0;bottom: 0;left: 50%;z-index: -1;}#sk-container-id-5 div.sk-parallel-item {display: flex;flex-direction: column;z-index: 1;position: relative;background-color: white;}#sk-container-id-5 div.sk-parallel-item:first-child::after {align-self: flex-end;width: 50%;}#sk-container-id-5 div.sk-parallel-item:last-child::after {align-self: flex-start;width: 50%;}#sk-container-id-5 div.sk-parallel-item:only-child::after {width: 0;}#sk-container-id-5 div.sk-dashed-wrapped {border: 1px dashed gray;margin: 0 0.4em 0.5em 0.4em;box-sizing: border-box;padding-bottom: 0.4em;background-color: white;}#sk-container-id-5 div.sk-label label {font-family: monospace;font-weight: bold;display: inline-block;line-height: 1.2em;}#sk-container-id-5 div.sk-label-container {text-align: center;}#sk-container-id-5 div.sk-container {/* jupyter's `normalize.less` sets `[hidden] { display: none; }` but bootstrap.min.css set `[hidden] { display: none !important; }` so we also need the `!important` here to be able to override the default hidden behavior on the sphinx rendered scikit-learn.org. See: https://github.com/scikit-learn/scikit-learn/issues/21755 */display: inline-block !important;position: relative;}#sk-container-id-5 div.sk-text-repr-fallback {display: none;}</style><div id=\"sk-container-id-5\" class=\"sk-top-container\"><div class=\"sk-text-repr-fallback\"><pre>DecisionTreeClassifier(random_state=42)</pre><b>In a Jupyter environment, please rerun this cell to show the HTML representation or trust the notebook. <br />On GitHub, the HTML representation is unable to render, please try loading this page with nbviewer.org.</b></div><div class=\"sk-container\" hidden><div class=\"sk-item\"><div class=\"sk-estimator sk-toggleable\"><input class=\"sk-toggleable__control sk-hidden--visually\" id=\"sk-estimator-id-5\" type=\"checkbox\" checked><label for=\"sk-estimator-id-5\" class=\"sk-toggleable__label sk-toggleable__label-arrow\">DecisionTreeClassifier</label><div class=\"sk-toggleable__content\"><pre>DecisionTreeClassifier(random_state=42)</pre></div></div></div></div></div>"
      ],
      "text/plain": [
       "DecisionTreeClassifier(random_state=42)"
      ]
     },
     "execution_count": 45,
     "metadata": {},
     "output_type": "execute_result"
    }
   ],
   "source": [
    "clf = DecisionTreeClassifier(random_state=42)\n",
    "clf.fit(X_train, y_train)"
   ]
  },
  {
   "cell_type": "code",
   "execution_count": 46,
   "id": "3b56d190",
   "metadata": {
    "execution": {
     "iopub.execute_input": "2023-03-08T11:30:30.423864Z",
     "iopub.status.busy": "2023-03-08T11:30:30.423206Z",
     "iopub.status.idle": "2023-03-08T11:30:30.457446Z",
     "shell.execute_reply": "2023-03-08T11:30:30.456181Z"
    },
    "papermill": {
     "duration": 0.067015,
     "end_time": "2023-03-08T11:30:30.460743",
     "exception": false,
     "start_time": "2023-03-08T11:30:30.393728",
     "status": "completed"
    },
    "tags": []
   },
   "outputs": [
    {
     "name": "stdout",
     "output_type": "stream",
     "text": [
      "              precision    recall  f1-score   support\n",
      "\n",
      "        comp       0.27      0.24      0.25        50\n",
      "        misc       0.14      0.12      0.13         8\n",
      "         rec       0.12      0.11      0.11        47\n",
      "    religion       0.22      0.20      0.21        83\n",
      "         sci       0.25      0.29      0.27        77\n",
      "        talk       0.40      0.43      0.42        90\n",
      "\n",
      "    accuracy                           0.27       355\n",
      "   macro avg       0.23      0.23      0.23       355\n",
      "weighted avg       0.27      0.27      0.27       355\n",
      "\n"
     ]
    }
   ],
   "source": [
    "y_pred = clf.predict(X_test)\n",
    "print(classification_report(y_test, y_pred))"
   ]
  },
  {
   "cell_type": "code",
   "execution_count": 47,
   "id": "42bc91ff",
   "metadata": {
    "execution": {
     "iopub.execute_input": "2023-03-08T11:30:30.522553Z",
     "iopub.status.busy": "2023-03-08T11:30:30.522046Z",
     "iopub.status.idle": "2023-03-08T11:30:30.528633Z",
     "shell.execute_reply": "2023-03-08T11:30:30.527547Z"
    },
    "papermill": {
     "duration": 0.036333,
     "end_time": "2023-03-08T11:30:30.530483",
     "exception": false,
     "start_time": "2023-03-08T11:30:30.494150",
     "status": "completed"
    },
    "tags": []
   },
   "outputs": [],
   "source": [
    "pickle.dump(clf, open(f'{data_path}/decision_tree.pkl', 'wb'))"
   ]
  },
  {
   "cell_type": "code",
   "execution_count": 48,
   "id": "ea9be210",
   "metadata": {
    "execution": {
     "iopub.execute_input": "2023-03-08T11:30:30.559441Z",
     "iopub.status.busy": "2023-03-08T11:30:30.558835Z",
     "iopub.status.idle": "2023-03-08T11:30:30.573514Z",
     "shell.execute_reply": "2023-03-08T11:30:30.572562Z"
    },
    "papermill": {
     "duration": 0.031419,
     "end_time": "2023-03-08T11:30:30.575567",
     "exception": false,
     "start_time": "2023-03-08T11:30:30.544148",
     "status": "completed"
    },
    "tags": []
   },
   "outputs": [],
   "source": [
    "acc = accuracy_score(y_test, y_pred)\n",
    "pre = precision_score(y_test, y_pred, average=avg_par)\n",
    "rec = recall_score(y_test, y_pred, average=avg_par)\n",
    "f1 = f1_score(y_test, y_pred, average=avg_par)\n",
    "\n",
    "metrics_data['Shapelets']['DecisionTree'] = {'Accuracy': acc, 'Precision': pre, 'Recall': rec, 'F1': f1}"
   ]
  },
  {
   "cell_type": "markdown",
   "id": "3ca3443b",
   "metadata": {
    "papermill": {
     "duration": 0.015214,
     "end_time": "2023-03-08T11:30:30.606863",
     "exception": false,
     "start_time": "2023-03-08T11:30:30.591649",
     "status": "completed"
    },
    "tags": []
   },
   "source": [
    "**Random Forest**"
   ]
  },
  {
   "cell_type": "code",
   "execution_count": 49,
   "id": "37795e21",
   "metadata": {
    "execution": {
     "iopub.execute_input": "2023-03-08T11:30:30.639909Z",
     "iopub.status.busy": "2023-03-08T11:30:30.639415Z",
     "iopub.status.idle": "2023-03-08T11:30:31.084723Z",
     "shell.execute_reply": "2023-03-08T11:30:31.083769Z"
    },
    "papermill": {
     "duration": 0.465478,
     "end_time": "2023-03-08T11:30:31.087643",
     "exception": false,
     "start_time": "2023-03-08T11:30:30.622165",
     "status": "completed"
    },
    "tags": []
   },
   "outputs": [
    {
     "data": {
      "text/html": [
       "<style>#sk-container-id-6 {color: black;background-color: white;}#sk-container-id-6 pre{padding: 0;}#sk-container-id-6 div.sk-toggleable {background-color: white;}#sk-container-id-6 label.sk-toggleable__label {cursor: pointer;display: block;width: 100%;margin-bottom: 0;padding: 0.3em;box-sizing: border-box;text-align: center;}#sk-container-id-6 label.sk-toggleable__label-arrow:before {content: \"▸\";float: left;margin-right: 0.25em;color: #696969;}#sk-container-id-6 label.sk-toggleable__label-arrow:hover:before {color: black;}#sk-container-id-6 div.sk-estimator:hover label.sk-toggleable__label-arrow:before {color: black;}#sk-container-id-6 div.sk-toggleable__content {max-height: 0;max-width: 0;overflow: hidden;text-align: left;background-color: #f0f8ff;}#sk-container-id-6 div.sk-toggleable__content pre {margin: 0.2em;color: black;border-radius: 0.25em;background-color: #f0f8ff;}#sk-container-id-6 input.sk-toggleable__control:checked~div.sk-toggleable__content {max-height: 200px;max-width: 100%;overflow: auto;}#sk-container-id-6 input.sk-toggleable__control:checked~label.sk-toggleable__label-arrow:before {content: \"▾\";}#sk-container-id-6 div.sk-estimator input.sk-toggleable__control:checked~label.sk-toggleable__label {background-color: #d4ebff;}#sk-container-id-6 div.sk-label input.sk-toggleable__control:checked~label.sk-toggleable__label {background-color: #d4ebff;}#sk-container-id-6 input.sk-hidden--visually {border: 0;clip: rect(1px 1px 1px 1px);clip: rect(1px, 1px, 1px, 1px);height: 1px;margin: -1px;overflow: hidden;padding: 0;position: absolute;width: 1px;}#sk-container-id-6 div.sk-estimator {font-family: monospace;background-color: #f0f8ff;border: 1px dotted black;border-radius: 0.25em;box-sizing: border-box;margin-bottom: 0.5em;}#sk-container-id-6 div.sk-estimator:hover {background-color: #d4ebff;}#sk-container-id-6 div.sk-parallel-item::after {content: \"\";width: 100%;border-bottom: 1px solid gray;flex-grow: 1;}#sk-container-id-6 div.sk-label:hover label.sk-toggleable__label {background-color: #d4ebff;}#sk-container-id-6 div.sk-serial::before {content: \"\";position: absolute;border-left: 1px solid gray;box-sizing: border-box;top: 0;bottom: 0;left: 50%;z-index: 0;}#sk-container-id-6 div.sk-serial {display: flex;flex-direction: column;align-items: center;background-color: white;padding-right: 0.2em;padding-left: 0.2em;position: relative;}#sk-container-id-6 div.sk-item {position: relative;z-index: 1;}#sk-container-id-6 div.sk-parallel {display: flex;align-items: stretch;justify-content: center;background-color: white;position: relative;}#sk-container-id-6 div.sk-item::before, #sk-container-id-6 div.sk-parallel-item::before {content: \"\";position: absolute;border-left: 1px solid gray;box-sizing: border-box;top: 0;bottom: 0;left: 50%;z-index: -1;}#sk-container-id-6 div.sk-parallel-item {display: flex;flex-direction: column;z-index: 1;position: relative;background-color: white;}#sk-container-id-6 div.sk-parallel-item:first-child::after {align-self: flex-end;width: 50%;}#sk-container-id-6 div.sk-parallel-item:last-child::after {align-self: flex-start;width: 50%;}#sk-container-id-6 div.sk-parallel-item:only-child::after {width: 0;}#sk-container-id-6 div.sk-dashed-wrapped {border: 1px dashed gray;margin: 0 0.4em 0.5em 0.4em;box-sizing: border-box;padding-bottom: 0.4em;background-color: white;}#sk-container-id-6 div.sk-label label {font-family: monospace;font-weight: bold;display: inline-block;line-height: 1.2em;}#sk-container-id-6 div.sk-label-container {text-align: center;}#sk-container-id-6 div.sk-container {/* jupyter's `normalize.less` sets `[hidden] { display: none; }` but bootstrap.min.css set `[hidden] { display: none !important; }` so we also need the `!important` here to be able to override the default hidden behavior on the sphinx rendered scikit-learn.org. See: https://github.com/scikit-learn/scikit-learn/issues/21755 */display: inline-block !important;position: relative;}#sk-container-id-6 div.sk-text-repr-fallback {display: none;}</style><div id=\"sk-container-id-6\" class=\"sk-top-container\"><div class=\"sk-text-repr-fallback\"><pre>RandomForestClassifier(random_state=42)</pre><b>In a Jupyter environment, please rerun this cell to show the HTML representation or trust the notebook. <br />On GitHub, the HTML representation is unable to render, please try loading this page with nbviewer.org.</b></div><div class=\"sk-container\" hidden><div class=\"sk-item\"><div class=\"sk-estimator sk-toggleable\"><input class=\"sk-toggleable__control sk-hidden--visually\" id=\"sk-estimator-id-6\" type=\"checkbox\" checked><label for=\"sk-estimator-id-6\" class=\"sk-toggleable__label sk-toggleable__label-arrow\">RandomForestClassifier</label><div class=\"sk-toggleable__content\"><pre>RandomForestClassifier(random_state=42)</pre></div></div></div></div></div>"
      ],
      "text/plain": [
       "RandomForestClassifier(random_state=42)"
      ]
     },
     "execution_count": 49,
     "metadata": {},
     "output_type": "execute_result"
    }
   ],
   "source": [
    "clf = RandomForestClassifier(random_state=42)\n",
    "clf.fit(X_train, y_train)"
   ]
  },
  {
   "cell_type": "code",
   "execution_count": 50,
   "id": "581ab90a",
   "metadata": {
    "execution": {
     "iopub.execute_input": "2023-03-08T11:30:31.152996Z",
     "iopub.status.busy": "2023-03-08T11:30:31.152433Z",
     "iopub.status.idle": "2023-03-08T11:30:31.199702Z",
     "shell.execute_reply": "2023-03-08T11:30:31.198723Z"
    },
    "papermill": {
     "duration": 0.080114,
     "end_time": "2023-03-08T11:30:31.202492",
     "exception": false,
     "start_time": "2023-03-08T11:30:31.122378",
     "status": "completed"
    },
    "tags": []
   },
   "outputs": [
    {
     "name": "stdout",
     "output_type": "stream",
     "text": [
      "              precision    recall  f1-score   support\n",
      "\n",
      "        comp       0.36      0.32      0.34        50\n",
      "        misc       1.00      0.25      0.40         8\n",
      "         rec       0.18      0.09      0.12        47\n",
      "    religion       0.34      0.53      0.42        83\n",
      "         sci       0.32      0.18      0.23        77\n",
      "        talk       0.50      0.62      0.55        90\n",
      "\n",
      "    accuracy                           0.38       355\n",
      "   macro avg       0.45      0.33      0.34       355\n",
      "weighted avg       0.37      0.38      0.36       355\n",
      "\n"
     ]
    }
   ],
   "source": [
    "y_pred = clf.predict(X_test)\n",
    "print(classification_report(y_test, y_pred))"
   ]
  },
  {
   "cell_type": "code",
   "execution_count": 51,
   "id": "faf1d7f4",
   "metadata": {
    "execution": {
     "iopub.execute_input": "2023-03-08T11:30:31.271952Z",
     "iopub.status.busy": "2023-03-08T11:30:31.271485Z",
     "iopub.status.idle": "2023-03-08T11:30:31.288790Z",
     "shell.execute_reply": "2023-03-08T11:30:31.287410Z"
    },
    "papermill": {
     "duration": 0.051689,
     "end_time": "2023-03-08T11:30:31.290889",
     "exception": false,
     "start_time": "2023-03-08T11:30:31.239200",
     "status": "completed"
    },
    "tags": []
   },
   "outputs": [],
   "source": [
    "acc = accuracy_score(y_test, y_pred)\n",
    "pre = precision_score(y_test, y_pred, average=avg_par)\n",
    "rec = recall_score(y_test, y_pred, average=avg_par)\n",
    "f1 = f1_score(y_test, y_pred, average=avg_par)\n",
    "\n",
    "metrics_data['Shapelets']['RandomForest'] = {'Accuracy': acc, 'Precision': pre, 'Recall': rec, 'F1': f1}"
   ]
  },
  {
   "cell_type": "markdown",
   "id": "61fceefb",
   "metadata": {
    "papermill": {
     "duration": 0.013701,
     "end_time": "2023-03-08T11:30:31.320767",
     "exception": false,
     "start_time": "2023-03-08T11:30:31.307066",
     "status": "completed"
    },
    "tags": []
   },
   "source": [
    "**LightGBM**"
   ]
  },
  {
   "cell_type": "code",
   "execution_count": 52,
   "id": "194189da",
   "metadata": {
    "execution": {
     "iopub.execute_input": "2023-03-08T11:30:31.351274Z",
     "iopub.status.busy": "2023-03-08T11:30:31.350411Z",
     "iopub.status.idle": "2023-03-08T11:30:31.979200Z",
     "shell.execute_reply": "2023-03-08T11:30:31.977856Z"
    },
    "papermill": {
     "duration": 0.647101,
     "end_time": "2023-03-08T11:30:31.981536",
     "exception": false,
     "start_time": "2023-03-08T11:30:31.334435",
     "status": "completed"
    },
    "tags": []
   },
   "outputs": [
    {
     "data": {
      "text/html": [
       "<style>#sk-container-id-7 {color: black;background-color: white;}#sk-container-id-7 pre{padding: 0;}#sk-container-id-7 div.sk-toggleable {background-color: white;}#sk-container-id-7 label.sk-toggleable__label {cursor: pointer;display: block;width: 100%;margin-bottom: 0;padding: 0.3em;box-sizing: border-box;text-align: center;}#sk-container-id-7 label.sk-toggleable__label-arrow:before {content: \"▸\";float: left;margin-right: 0.25em;color: #696969;}#sk-container-id-7 label.sk-toggleable__label-arrow:hover:before {color: black;}#sk-container-id-7 div.sk-estimator:hover label.sk-toggleable__label-arrow:before {color: black;}#sk-container-id-7 div.sk-toggleable__content {max-height: 0;max-width: 0;overflow: hidden;text-align: left;background-color: #f0f8ff;}#sk-container-id-7 div.sk-toggleable__content pre {margin: 0.2em;color: black;border-radius: 0.25em;background-color: #f0f8ff;}#sk-container-id-7 input.sk-toggleable__control:checked~div.sk-toggleable__content {max-height: 200px;max-width: 100%;overflow: auto;}#sk-container-id-7 input.sk-toggleable__control:checked~label.sk-toggleable__label-arrow:before {content: \"▾\";}#sk-container-id-7 div.sk-estimator input.sk-toggleable__control:checked~label.sk-toggleable__label {background-color: #d4ebff;}#sk-container-id-7 div.sk-label input.sk-toggleable__control:checked~label.sk-toggleable__label {background-color: #d4ebff;}#sk-container-id-7 input.sk-hidden--visually {border: 0;clip: rect(1px 1px 1px 1px);clip: rect(1px, 1px, 1px, 1px);height: 1px;margin: -1px;overflow: hidden;padding: 0;position: absolute;width: 1px;}#sk-container-id-7 div.sk-estimator {font-family: monospace;background-color: #f0f8ff;border: 1px dotted black;border-radius: 0.25em;box-sizing: border-box;margin-bottom: 0.5em;}#sk-container-id-7 div.sk-estimator:hover {background-color: #d4ebff;}#sk-container-id-7 div.sk-parallel-item::after {content: \"\";width: 100%;border-bottom: 1px solid gray;flex-grow: 1;}#sk-container-id-7 div.sk-label:hover label.sk-toggleable__label {background-color: #d4ebff;}#sk-container-id-7 div.sk-serial::before {content: \"\";position: absolute;border-left: 1px solid gray;box-sizing: border-box;top: 0;bottom: 0;left: 50%;z-index: 0;}#sk-container-id-7 div.sk-serial {display: flex;flex-direction: column;align-items: center;background-color: white;padding-right: 0.2em;padding-left: 0.2em;position: relative;}#sk-container-id-7 div.sk-item {position: relative;z-index: 1;}#sk-container-id-7 div.sk-parallel {display: flex;align-items: stretch;justify-content: center;background-color: white;position: relative;}#sk-container-id-7 div.sk-item::before, #sk-container-id-7 div.sk-parallel-item::before {content: \"\";position: absolute;border-left: 1px solid gray;box-sizing: border-box;top: 0;bottom: 0;left: 50%;z-index: -1;}#sk-container-id-7 div.sk-parallel-item {display: flex;flex-direction: column;z-index: 1;position: relative;background-color: white;}#sk-container-id-7 div.sk-parallel-item:first-child::after {align-self: flex-end;width: 50%;}#sk-container-id-7 div.sk-parallel-item:last-child::after {align-self: flex-start;width: 50%;}#sk-container-id-7 div.sk-parallel-item:only-child::after {width: 0;}#sk-container-id-7 div.sk-dashed-wrapped {border: 1px dashed gray;margin: 0 0.4em 0.5em 0.4em;box-sizing: border-box;padding-bottom: 0.4em;background-color: white;}#sk-container-id-7 div.sk-label label {font-family: monospace;font-weight: bold;display: inline-block;line-height: 1.2em;}#sk-container-id-7 div.sk-label-container {text-align: center;}#sk-container-id-7 div.sk-container {/* jupyter's `normalize.less` sets `[hidden] { display: none; }` but bootstrap.min.css set `[hidden] { display: none !important; }` so we also need the `!important` here to be able to override the default hidden behavior on the sphinx rendered scikit-learn.org. See: https://github.com/scikit-learn/scikit-learn/issues/21755 */display: inline-block !important;position: relative;}#sk-container-id-7 div.sk-text-repr-fallback {display: none;}</style><div id=\"sk-container-id-7\" class=\"sk-top-container\"><div class=\"sk-text-repr-fallback\"><pre>LGBMClassifier(objective=&#x27;multiclass&#x27;)</pre><b>In a Jupyter environment, please rerun this cell to show the HTML representation or trust the notebook. <br />On GitHub, the HTML representation is unable to render, please try loading this page with nbviewer.org.</b></div><div class=\"sk-container\" hidden><div class=\"sk-item\"><div class=\"sk-estimator sk-toggleable\"><input class=\"sk-toggleable__control sk-hidden--visually\" id=\"sk-estimator-id-7\" type=\"checkbox\" checked><label for=\"sk-estimator-id-7\" class=\"sk-toggleable__label sk-toggleable__label-arrow\">LGBMClassifier</label><div class=\"sk-toggleable__content\"><pre>LGBMClassifier(objective=&#x27;multiclass&#x27;)</pre></div></div></div></div></div>"
      ],
      "text/plain": [
       "LGBMClassifier(objective='multiclass')"
      ]
     },
     "execution_count": 52,
     "metadata": {},
     "output_type": "execute_result"
    }
   ],
   "source": [
    "clf = lgbm.LGBMClassifier(objective=obj_par) \n",
    "clf.fit(X_train, y_train)"
   ]
  },
  {
   "cell_type": "code",
   "execution_count": 53,
   "id": "355a078b",
   "metadata": {
    "execution": {
     "iopub.execute_input": "2023-03-08T11:30:32.037749Z",
     "iopub.status.busy": "2023-03-08T11:30:32.037388Z",
     "iopub.status.idle": "2023-03-08T11:30:32.077262Z",
     "shell.execute_reply": "2023-03-08T11:30:32.076015Z"
    },
    "papermill": {
     "duration": 0.069614,
     "end_time": "2023-03-08T11:30:32.080279",
     "exception": false,
     "start_time": "2023-03-08T11:30:32.010665",
     "status": "completed"
    },
    "tags": []
   },
   "outputs": [
    {
     "name": "stdout",
     "output_type": "stream",
     "text": [
      "              precision    recall  f1-score   support\n",
      "\n",
      "        comp       0.40      0.32      0.36        50\n",
      "        misc       1.00      0.12      0.22         8\n",
      "         rec       0.43      0.32      0.37        47\n",
      "    religion       0.36      0.51      0.42        83\n",
      "         sci       0.33      0.23      0.27        77\n",
      "        talk       0.47      0.56      0.51        90\n",
      "\n",
      "    accuracy                           0.40       355\n",
      "   macro avg       0.50      0.34      0.36       355\n",
      "weighted avg       0.41      0.40      0.39       355\n",
      "\n"
     ]
    }
   ],
   "source": [
    "y_pred = clf.predict(X_test)\n",
    "print(classification_report(y_test, y_pred))"
   ]
  },
  {
   "cell_type": "code",
   "execution_count": 54,
   "id": "f22b911e",
   "metadata": {
    "execution": {
     "iopub.execute_input": "2023-03-08T11:30:32.141920Z",
     "iopub.status.busy": "2023-03-08T11:30:32.141462Z",
     "iopub.status.idle": "2023-03-08T11:30:32.169275Z",
     "shell.execute_reply": "2023-03-08T11:30:32.168001Z"
    },
    "papermill": {
     "duration": 0.053454,
     "end_time": "2023-03-08T11:30:32.171355",
     "exception": false,
     "start_time": "2023-03-08T11:30:32.117901",
     "status": "completed"
    },
    "tags": []
   },
   "outputs": [],
   "source": [
    "acc = accuracy_score(y_test, y_pred)\n",
    "pre = precision_score(y_test, y_pred, average=avg_par)\n",
    "rec = recall_score(y_test, y_pred, average=avg_par)\n",
    "f1 = f1_score(y_test, y_pred, average=avg_par)\n",
    "\n",
    "metrics_data['Shapelets']['LightGBM'] = {'Accuracy': acc, 'Precision': pre, 'Recall': rec, 'F1': f1}"
   ]
  },
  {
   "cell_type": "markdown",
   "id": "0809af9f",
   "metadata": {
    "papermill": {
     "duration": 0.013705,
     "end_time": "2023-03-08T11:30:32.201288",
     "exception": false,
     "start_time": "2023-03-08T11:30:32.187583",
     "status": "completed"
    },
    "tags": []
   },
   "source": [
    "#### KNN"
   ]
  },
  {
   "cell_type": "code",
   "execution_count": 55,
   "id": "1c9237e0",
   "metadata": {
    "execution": {
     "iopub.execute_input": "2023-03-08T11:30:32.230700Z",
     "iopub.status.busy": "2023-03-08T11:30:32.230370Z",
     "iopub.status.idle": "2023-03-08T11:30:32.236796Z",
     "shell.execute_reply": "2023-03-08T11:30:32.235659Z"
    },
    "papermill": {
     "duration": 0.023432,
     "end_time": "2023-03-08T11:30:32.238531",
     "exception": false,
     "start_time": "2023-03-08T11:30:32.215099",
     "status": "completed"
    },
    "tags": []
   },
   "outputs": [],
   "source": [
    "X_train = ts_train.reshape((ts_train.shape[0], ts_train.shape[1]))\n",
    "X_test = ts_test.reshape((ts_test.shape[0], ts_test.shape[1]))"
   ]
  },
  {
   "cell_type": "code",
   "execution_count": 56,
   "id": "192f3c3f",
   "metadata": {
    "execution": {
     "iopub.execute_input": "2023-03-08T11:30:32.269618Z",
     "iopub.status.busy": "2023-03-08T11:30:32.268767Z",
     "iopub.status.idle": "2023-03-08T11:30:32.276435Z",
     "shell.execute_reply": "2023-03-08T11:30:32.275068Z"
    },
    "papermill": {
     "duration": 0.025426,
     "end_time": "2023-03-08T11:30:32.278232",
     "exception": false,
     "start_time": "2023-03-08T11:30:32.252806",
     "status": "completed"
    },
    "tags": []
   },
   "outputs": [
    {
     "data": {
      "text/plain": [
       "(1420, 100)"
      ]
     },
     "execution_count": 56,
     "metadata": {},
     "output_type": "execute_result"
    }
   ],
   "source": [
    "X_train.shape"
   ]
  },
  {
   "cell_type": "code",
   "execution_count": 57,
   "id": "de0e5000",
   "metadata": {
    "execution": {
     "iopub.execute_input": "2023-03-08T11:30:32.309867Z",
     "iopub.status.busy": "2023-03-08T11:30:32.309387Z",
     "iopub.status.idle": "2023-03-08T11:30:32.315021Z",
     "shell.execute_reply": "2023-03-08T11:30:32.313910Z"
    },
    "papermill": {
     "duration": 0.02338,
     "end_time": "2023-03-08T11:30:32.316702",
     "exception": false,
     "start_time": "2023-03-08T11:30:32.293322",
     "status": "completed"
    },
    "tags": []
   },
   "outputs": [],
   "source": [
    "metrics_data['KNN'] = {}"
   ]
  },
  {
   "cell_type": "markdown",
   "id": "8ee39c05",
   "metadata": {
    "papermill": {
     "duration": 0.01635,
     "end_time": "2023-03-08T11:30:32.348562",
     "exception": false,
     "start_time": "2023-03-08T11:30:32.332212",
     "status": "completed"
    },
    "tags": []
   },
   "source": [
    "**Euclidean Distance**"
   ]
  },
  {
   "cell_type": "code",
   "execution_count": 58,
   "id": "55db1f58",
   "metadata": {
    "execution": {
     "iopub.execute_input": "2023-03-08T11:30:32.384863Z",
     "iopub.status.busy": "2023-03-08T11:30:32.384381Z",
     "iopub.status.idle": "2023-03-08T11:30:32.389748Z",
     "shell.execute_reply": "2023-03-08T11:30:32.388674Z"
    },
    "papermill": {
     "duration": 0.025359,
     "end_time": "2023-03-08T11:30:32.391408",
     "exception": false,
     "start_time": "2023-03-08T11:30:32.366049",
     "status": "completed"
    },
    "tags": []
   },
   "outputs": [],
   "source": [
    "from sklearn.neighbors import KNeighborsClassifier"
   ]
  },
  {
   "cell_type": "code",
   "execution_count": 59,
   "id": "132c2537",
   "metadata": {
    "execution": {
     "iopub.execute_input": "2023-03-08T11:30:32.422380Z",
     "iopub.status.busy": "2023-03-08T11:30:32.421900Z",
     "iopub.status.idle": "2023-03-08T11:30:32.435374Z",
     "shell.execute_reply": "2023-03-08T11:30:32.434089Z"
    },
    "papermill": {
     "duration": 0.031554,
     "end_time": "2023-03-08T11:30:32.437535",
     "exception": false,
     "start_time": "2023-03-08T11:30:32.405981",
     "status": "completed"
    },
    "tags": []
   },
   "outputs": [
    {
     "data": {
      "text/html": [
       "<style>#sk-container-id-8 {color: black;background-color: white;}#sk-container-id-8 pre{padding: 0;}#sk-container-id-8 div.sk-toggleable {background-color: white;}#sk-container-id-8 label.sk-toggleable__label {cursor: pointer;display: block;width: 100%;margin-bottom: 0;padding: 0.3em;box-sizing: border-box;text-align: center;}#sk-container-id-8 label.sk-toggleable__label-arrow:before {content: \"▸\";float: left;margin-right: 0.25em;color: #696969;}#sk-container-id-8 label.sk-toggleable__label-arrow:hover:before {color: black;}#sk-container-id-8 div.sk-estimator:hover label.sk-toggleable__label-arrow:before {color: black;}#sk-container-id-8 div.sk-toggleable__content {max-height: 0;max-width: 0;overflow: hidden;text-align: left;background-color: #f0f8ff;}#sk-container-id-8 div.sk-toggleable__content pre {margin: 0.2em;color: black;border-radius: 0.25em;background-color: #f0f8ff;}#sk-container-id-8 input.sk-toggleable__control:checked~div.sk-toggleable__content {max-height: 200px;max-width: 100%;overflow: auto;}#sk-container-id-8 input.sk-toggleable__control:checked~label.sk-toggleable__label-arrow:before {content: \"▾\";}#sk-container-id-8 div.sk-estimator input.sk-toggleable__control:checked~label.sk-toggleable__label {background-color: #d4ebff;}#sk-container-id-8 div.sk-label input.sk-toggleable__control:checked~label.sk-toggleable__label {background-color: #d4ebff;}#sk-container-id-8 input.sk-hidden--visually {border: 0;clip: rect(1px 1px 1px 1px);clip: rect(1px, 1px, 1px, 1px);height: 1px;margin: -1px;overflow: hidden;padding: 0;position: absolute;width: 1px;}#sk-container-id-8 div.sk-estimator {font-family: monospace;background-color: #f0f8ff;border: 1px dotted black;border-radius: 0.25em;box-sizing: border-box;margin-bottom: 0.5em;}#sk-container-id-8 div.sk-estimator:hover {background-color: #d4ebff;}#sk-container-id-8 div.sk-parallel-item::after {content: \"\";width: 100%;border-bottom: 1px solid gray;flex-grow: 1;}#sk-container-id-8 div.sk-label:hover label.sk-toggleable__label {background-color: #d4ebff;}#sk-container-id-8 div.sk-serial::before {content: \"\";position: absolute;border-left: 1px solid gray;box-sizing: border-box;top: 0;bottom: 0;left: 50%;z-index: 0;}#sk-container-id-8 div.sk-serial {display: flex;flex-direction: column;align-items: center;background-color: white;padding-right: 0.2em;padding-left: 0.2em;position: relative;}#sk-container-id-8 div.sk-item {position: relative;z-index: 1;}#sk-container-id-8 div.sk-parallel {display: flex;align-items: stretch;justify-content: center;background-color: white;position: relative;}#sk-container-id-8 div.sk-item::before, #sk-container-id-8 div.sk-parallel-item::before {content: \"\";position: absolute;border-left: 1px solid gray;box-sizing: border-box;top: 0;bottom: 0;left: 50%;z-index: -1;}#sk-container-id-8 div.sk-parallel-item {display: flex;flex-direction: column;z-index: 1;position: relative;background-color: white;}#sk-container-id-8 div.sk-parallel-item:first-child::after {align-self: flex-end;width: 50%;}#sk-container-id-8 div.sk-parallel-item:last-child::after {align-self: flex-start;width: 50%;}#sk-container-id-8 div.sk-parallel-item:only-child::after {width: 0;}#sk-container-id-8 div.sk-dashed-wrapped {border: 1px dashed gray;margin: 0 0.4em 0.5em 0.4em;box-sizing: border-box;padding-bottom: 0.4em;background-color: white;}#sk-container-id-8 div.sk-label label {font-family: monospace;font-weight: bold;display: inline-block;line-height: 1.2em;}#sk-container-id-8 div.sk-label-container {text-align: center;}#sk-container-id-8 div.sk-container {/* jupyter's `normalize.less` sets `[hidden] { display: none; }` but bootstrap.min.css set `[hidden] { display: none !important; }` so we also need the `!important` here to be able to override the default hidden behavior on the sphinx rendered scikit-learn.org. See: https://github.com/scikit-learn/scikit-learn/issues/21755 */display: inline-block !important;position: relative;}#sk-container-id-8 div.sk-text-repr-fallback {display: none;}</style><div id=\"sk-container-id-8\" class=\"sk-top-container\"><div class=\"sk-text-repr-fallback\"><pre>KNeighborsClassifier()</pre><b>In a Jupyter environment, please rerun this cell to show the HTML representation or trust the notebook. <br />On GitHub, the HTML representation is unable to render, please try loading this page with nbviewer.org.</b></div><div class=\"sk-container\" hidden><div class=\"sk-item\"><div class=\"sk-estimator sk-toggleable\"><input class=\"sk-toggleable__control sk-hidden--visually\" id=\"sk-estimator-id-8\" type=\"checkbox\" checked><label for=\"sk-estimator-id-8\" class=\"sk-toggleable__label sk-toggleable__label-arrow\">KNeighborsClassifier</label><div class=\"sk-toggleable__content\"><pre>KNeighborsClassifier()</pre></div></div></div></div></div>"
      ],
      "text/plain": [
       "KNeighborsClassifier()"
      ]
     },
     "execution_count": 59,
     "metadata": {},
     "output_type": "execute_result"
    }
   ],
   "source": [
    "clf = KNeighborsClassifier(n_neighbors=5, weights='uniform')\n",
    "clf.fit(X_train, y_train)"
   ]
  },
  {
   "cell_type": "code",
   "execution_count": 60,
   "id": "0afad62a",
   "metadata": {
    "execution": {
     "iopub.execute_input": "2023-03-08T11:30:32.469671Z",
     "iopub.status.busy": "2023-03-08T11:30:32.468826Z",
     "iopub.status.idle": "2023-03-08T11:30:32.656371Z",
     "shell.execute_reply": "2023-03-08T11:30:32.655371Z"
    },
    "papermill": {
     "duration": 0.205959,
     "end_time": "2023-03-08T11:30:32.658891",
     "exception": false,
     "start_time": "2023-03-08T11:30:32.452932",
     "status": "completed"
    },
    "tags": []
   },
   "outputs": [
    {
     "name": "stdout",
     "output_type": "stream",
     "text": [
      "              precision    recall  f1-score   support\n",
      "\n",
      "        comp       0.18      0.62      0.28        50\n",
      "        misc       0.11      0.25      0.15         8\n",
      "         rec       0.09      0.09      0.09        47\n",
      "    religion       0.31      0.11      0.16        83\n",
      "         sci       0.20      0.16      0.18        77\n",
      "        talk       0.69      0.27      0.38        90\n",
      "\n",
      "    accuracy                           0.23       355\n",
      "   macro avg       0.26      0.25      0.21       355\n",
      "weighted avg       0.33      0.23      0.23       355\n",
      "\n"
     ]
    }
   ],
   "source": [
    "y_pred = clf.predict(X_test)\n",
    "print(classification_report(y_test, y_pred))"
   ]
  },
  {
   "cell_type": "code",
   "execution_count": 61,
   "id": "2d709070",
   "metadata": {
    "execution": {
     "iopub.execute_input": "2023-03-08T11:30:32.692430Z",
     "iopub.status.busy": "2023-03-08T11:30:32.691521Z",
     "iopub.status.idle": "2023-03-08T11:30:32.715849Z",
     "shell.execute_reply": "2023-03-08T11:30:32.714882Z"
    },
    "papermill": {
     "duration": 0.043267,
     "end_time": "2023-03-08T11:30:32.717721",
     "exception": false,
     "start_time": "2023-03-08T11:30:32.674454",
     "status": "completed"
    },
    "tags": []
   },
   "outputs": [],
   "source": [
    "acc = accuracy_score(y_test, y_pred)\n",
    "pre = precision_score(y_test, y_pred, average=avg_par)\n",
    "rec = recall_score(y_test, y_pred, average=avg_par)\n",
    "f1 = f1_score(y_test, y_pred, average=avg_par)\n",
    "\n",
    "metrics_data['KNN']['Euclidean'] = {'Accuracy': acc, 'Precision': pre, 'Recall': rec, 'F1': f1}"
   ]
  },
  {
   "cell_type": "markdown",
   "id": "c5ec2a09",
   "metadata": {
    "papermill": {
     "duration": 0.018292,
     "end_time": "2023-03-08T11:30:32.753222",
     "exception": false,
     "start_time": "2023-03-08T11:30:32.734930",
     "status": "completed"
    },
    "tags": []
   },
   "source": [
    "**Dynamic Time Warping**"
   ]
  },
  {
   "cell_type": "code",
   "execution_count": 62,
   "id": "2df913d8",
   "metadata": {
    "execution": {
     "iopub.execute_input": "2023-03-08T11:30:32.784279Z",
     "iopub.status.busy": "2023-03-08T11:30:32.783472Z",
     "iopub.status.idle": "2023-03-08T11:30:32.847724Z",
     "shell.execute_reply": "2023-03-08T11:30:32.846456Z"
    },
    "papermill": {
     "duration": 0.083774,
     "end_time": "2023-03-08T11:30:32.851262",
     "exception": false,
     "start_time": "2023-03-08T11:30:32.767488",
     "status": "completed"
    },
    "tags": []
   },
   "outputs": [],
   "source": [
    "from pyts.classification import KNeighborsClassifier\n",
    "from pyts.approximation import PiecewiseAggregateApproximation\n",
    "from imblearn.under_sampling import ClusterCentroids\n",
    "from sklearn_extra.cluster import KMedoids"
   ]
  },
  {
   "cell_type": "code",
   "execution_count": 63,
   "id": "db1604ec",
   "metadata": {
    "execution": {
     "iopub.execute_input": "2023-03-08T11:30:32.883828Z",
     "iopub.status.busy": "2023-03-08T11:30:32.883210Z",
     "iopub.status.idle": "2023-03-08T11:30:32.888731Z",
     "shell.execute_reply": "2023-03-08T11:30:32.887879Z"
    },
    "papermill": {
     "duration": 0.022633,
     "end_time": "2023-03-08T11:30:32.890201",
     "exception": false,
     "start_time": "2023-03-08T11:30:32.867568",
     "status": "completed"
    },
    "tags": []
   },
   "outputs": [],
   "source": [
    "if paa_window_size:\n",
    "    paa = PiecewiseAggregateApproximation(window_size=paa_window_size)\n",
    "    X_train = paa.transform(X_train)\n",
    "    X_test = paa.transform(X_test)\n",
    "    X_train.shape"
   ]
  },
  {
   "cell_type": "code",
   "execution_count": 64,
   "id": "59fa27aa",
   "metadata": {
    "execution": {
     "iopub.execute_input": "2023-03-08T11:30:32.924159Z",
     "iopub.status.busy": "2023-03-08T11:30:32.923413Z",
     "iopub.status.idle": "2023-03-08T11:30:32.932355Z",
     "shell.execute_reply": "2023-03-08T11:30:32.931172Z"
    },
    "papermill": {
     "duration": 0.028574,
     "end_time": "2023-03-08T11:30:32.934289",
     "exception": false,
     "start_time": "2023-03-08T11:30:32.905715",
     "status": "completed"
    },
    "tags": []
   },
   "outputs": [],
   "source": [
    "if undersampling:\n",
    "    total_samples = len(y_train)\n",
    "    unique_classes, class_counts = np.unique(y_train, return_counts=True)\n",
    "    samp_strat = dict(zip(unique_classes, np.floor(class_counts * undersampling).astype(int)))\n",
    "    print(samp_strat)\n",
    "    cc = ClusterCentroids(estimator=KMedoids(\n",
    "        random_state=42), sampling_strategy=samp_strat, random_state=42)\n",
    "    X_train, y_train = cc.fit_resample(X_train, y_train)\n",
    "    X_train.shape"
   ]
  },
  {
   "cell_type": "code",
   "execution_count": 65,
   "id": "e7ac6b44",
   "metadata": {
    "execution": {
     "iopub.execute_input": "2023-03-08T11:30:32.965879Z",
     "iopub.status.busy": "2023-03-08T11:30:32.965018Z",
     "iopub.status.idle": "2023-03-08T11:30:32.979602Z",
     "shell.execute_reply": "2023-03-08T11:30:32.978238Z"
    },
    "papermill": {
     "duration": 0.032719,
     "end_time": "2023-03-08T11:30:32.981560",
     "exception": false,
     "start_time": "2023-03-08T11:30:32.948841",
     "status": "completed"
    },
    "tags": []
   },
   "outputs": [
    {
     "data": {
      "text/html": [
       "<style>#sk-container-id-9 {color: black;background-color: white;}#sk-container-id-9 pre{padding: 0;}#sk-container-id-9 div.sk-toggleable {background-color: white;}#sk-container-id-9 label.sk-toggleable__label {cursor: pointer;display: block;width: 100%;margin-bottom: 0;padding: 0.3em;box-sizing: border-box;text-align: center;}#sk-container-id-9 label.sk-toggleable__label-arrow:before {content: \"▸\";float: left;margin-right: 0.25em;color: #696969;}#sk-container-id-9 label.sk-toggleable__label-arrow:hover:before {color: black;}#sk-container-id-9 div.sk-estimator:hover label.sk-toggleable__label-arrow:before {color: black;}#sk-container-id-9 div.sk-toggleable__content {max-height: 0;max-width: 0;overflow: hidden;text-align: left;background-color: #f0f8ff;}#sk-container-id-9 div.sk-toggleable__content pre {margin: 0.2em;color: black;border-radius: 0.25em;background-color: #f0f8ff;}#sk-container-id-9 input.sk-toggleable__control:checked~div.sk-toggleable__content {max-height: 200px;max-width: 100%;overflow: auto;}#sk-container-id-9 input.sk-toggleable__control:checked~label.sk-toggleable__label-arrow:before {content: \"▾\";}#sk-container-id-9 div.sk-estimator input.sk-toggleable__control:checked~label.sk-toggleable__label {background-color: #d4ebff;}#sk-container-id-9 div.sk-label input.sk-toggleable__control:checked~label.sk-toggleable__label {background-color: #d4ebff;}#sk-container-id-9 input.sk-hidden--visually {border: 0;clip: rect(1px 1px 1px 1px);clip: rect(1px, 1px, 1px, 1px);height: 1px;margin: -1px;overflow: hidden;padding: 0;position: absolute;width: 1px;}#sk-container-id-9 div.sk-estimator {font-family: monospace;background-color: #f0f8ff;border: 1px dotted black;border-radius: 0.25em;box-sizing: border-box;margin-bottom: 0.5em;}#sk-container-id-9 div.sk-estimator:hover {background-color: #d4ebff;}#sk-container-id-9 div.sk-parallel-item::after {content: \"\";width: 100%;border-bottom: 1px solid gray;flex-grow: 1;}#sk-container-id-9 div.sk-label:hover label.sk-toggleable__label {background-color: #d4ebff;}#sk-container-id-9 div.sk-serial::before {content: \"\";position: absolute;border-left: 1px solid gray;box-sizing: border-box;top: 0;bottom: 0;left: 50%;z-index: 0;}#sk-container-id-9 div.sk-serial {display: flex;flex-direction: column;align-items: center;background-color: white;padding-right: 0.2em;padding-left: 0.2em;position: relative;}#sk-container-id-9 div.sk-item {position: relative;z-index: 1;}#sk-container-id-9 div.sk-parallel {display: flex;align-items: stretch;justify-content: center;background-color: white;position: relative;}#sk-container-id-9 div.sk-item::before, #sk-container-id-9 div.sk-parallel-item::before {content: \"\";position: absolute;border-left: 1px solid gray;box-sizing: border-box;top: 0;bottom: 0;left: 50%;z-index: -1;}#sk-container-id-9 div.sk-parallel-item {display: flex;flex-direction: column;z-index: 1;position: relative;background-color: white;}#sk-container-id-9 div.sk-parallel-item:first-child::after {align-self: flex-end;width: 50%;}#sk-container-id-9 div.sk-parallel-item:last-child::after {align-self: flex-start;width: 50%;}#sk-container-id-9 div.sk-parallel-item:only-child::after {width: 0;}#sk-container-id-9 div.sk-dashed-wrapped {border: 1px dashed gray;margin: 0 0.4em 0.5em 0.4em;box-sizing: border-box;padding-bottom: 0.4em;background-color: white;}#sk-container-id-9 div.sk-label label {font-family: monospace;font-weight: bold;display: inline-block;line-height: 1.2em;}#sk-container-id-9 div.sk-label-container {text-align: center;}#sk-container-id-9 div.sk-container {/* jupyter's `normalize.less` sets `[hidden] { display: none; }` but bootstrap.min.css set `[hidden] { display: none !important; }` so we also need the `!important` here to be able to override the default hidden behavior on the sphinx rendered scikit-learn.org. See: https://github.com/scikit-learn/scikit-learn/issues/21755 */display: inline-block !important;position: relative;}#sk-container-id-9 div.sk-text-repr-fallback {display: none;}</style><div id=\"sk-container-id-9\" class=\"sk-top-container\"><div class=\"sk-text-repr-fallback\"><pre>KNeighborsClassifier(metric=&#x27;dtw_sakoechiba&#x27;, metric_params={&#x27;window_size&#x27;: 3})</pre><b>In a Jupyter environment, please rerun this cell to show the HTML representation or trust the notebook. <br />On GitHub, the HTML representation is unable to render, please try loading this page with nbviewer.org.</b></div><div class=\"sk-container\" hidden><div class=\"sk-item\"><div class=\"sk-estimator sk-toggleable\"><input class=\"sk-toggleable__control sk-hidden--visually\" id=\"sk-estimator-id-9\" type=\"checkbox\" checked><label for=\"sk-estimator-id-9\" class=\"sk-toggleable__label sk-toggleable__label-arrow\">KNeighborsClassifier</label><div class=\"sk-toggleable__content\"><pre>KNeighborsClassifier(metric=&#x27;dtw_sakoechiba&#x27;, metric_params={&#x27;window_size&#x27;: 3})</pre></div></div></div></div></div>"
      ],
      "text/plain": [
       "KNeighborsClassifier(metric='dtw_sakoechiba', metric_params={'window_size': 3})"
      ]
     },
     "execution_count": 65,
     "metadata": {},
     "output_type": "execute_result"
    }
   ],
   "source": [
    "clf = KNeighborsClassifier(metric='dtw_sakoechiba',  metric_params={'window_size':3})\n",
    "\n",
    "clf.fit(X_train, y_train)"
   ]
  },
  {
   "cell_type": "code",
   "execution_count": 66,
   "id": "8109d19d",
   "metadata": {
    "execution": {
     "iopub.execute_input": "2023-03-08T11:30:33.014180Z",
     "iopub.status.busy": "2023-03-08T11:30:33.013254Z",
     "iopub.status.idle": "2023-03-08T11:32:05.862174Z",
     "shell.execute_reply": "2023-03-08T11:32:05.861059Z"
    },
    "papermill": {
     "duration": 92.880509,
     "end_time": "2023-03-08T11:32:05.877656",
     "exception": false,
     "start_time": "2023-03-08T11:30:32.997147",
     "status": "completed"
    },
    "tags": []
   },
   "outputs": [
    {
     "name": "stdout",
     "output_type": "stream",
     "text": [
      "              precision    recall  f1-score   support\n",
      "\n",
      "        comp       0.26      0.38      0.31        50\n",
      "        misc       0.24      0.50      0.32         8\n",
      "         rec       0.15      0.15      0.15        47\n",
      "    religion       0.31      0.22      0.26        83\n",
      "         sci       0.19      0.19      0.19        77\n",
      "        talk       0.42      0.38      0.40        90\n",
      "\n",
      "    accuracy                           0.27       355\n",
      "   macro avg       0.26      0.30      0.27       355\n",
      "weighted avg       0.28      0.27      0.27       355\n",
      "\n",
      "CPU times: user 1min 32s, sys: 78.9 ms, total: 1min 32s\n",
      "Wall time: 1min 32s\n"
     ]
    }
   ],
   "source": [
    "%%time\n",
    "y_pred = clf.predict(X_test)\n",
    "print(classification_report(y_test, y_pred))"
   ]
  },
  {
   "cell_type": "code",
   "execution_count": 67,
   "id": "b09f5cdf",
   "metadata": {
    "execution": {
     "iopub.execute_input": "2023-03-08T11:32:05.909514Z",
     "iopub.status.busy": "2023-03-08T11:32:05.908908Z",
     "iopub.status.idle": "2023-03-08T11:32:05.921802Z",
     "shell.execute_reply": "2023-03-08T11:32:05.920735Z"
    },
    "papermill": {
     "duration": 0.030826,
     "end_time": "2023-03-08T11:32:05.923520",
     "exception": false,
     "start_time": "2023-03-08T11:32:05.892694",
     "status": "completed"
    },
    "tags": []
   },
   "outputs": [],
   "source": [
    "acc = accuracy_score(y_test, y_pred)\n",
    "pre = precision_score(y_test, y_pred, average=avg_par)\n",
    "rec = recall_score(y_test, y_pred, average=avg_par)\n",
    "f1 = f1_score(y_test, y_pred, average=avg_par)\n",
    "\n",
    "metrics_data['KNN']['DTW'] = {'Accuracy': acc, 'Precision': pre, 'Recall': rec, 'F1': f1}"
   ]
  },
  {
   "cell_type": "markdown",
   "id": "e0e700a7",
   "metadata": {
    "papermill": {
     "duration": 0.014599,
     "end_time": "2023-03-08T11:32:05.955287",
     "exception": false,
     "start_time": "2023-03-08T11:32:05.940688",
     "status": "completed"
    },
    "tags": []
   },
   "source": [
    "## Overall Results"
   ]
  },
  {
   "cell_type": "code",
   "execution_count": 68,
   "id": "d003c193",
   "metadata": {
    "execution": {
     "iopub.execute_input": "2023-03-08T11:32:05.986479Z",
     "iopub.status.busy": "2023-03-08T11:32:05.986199Z",
     "iopub.status.idle": "2023-03-08T11:32:05.993184Z",
     "shell.execute_reply": "2023-03-08T11:32:05.992171Z"
    },
    "papermill": {
     "duration": 0.024888,
     "end_time": "2023-03-08T11:32:05.994971",
     "exception": false,
     "start_time": "2023-03-08T11:32:05.970083",
     "status": "completed"
    },
    "tags": []
   },
   "outputs": [],
   "source": [
    "metrics_data = pd.DataFrame.from_dict({(i,j): metrics_data[i][j] \n",
    "                                       for i in metrics_data.keys() \n",
    "                                       for j in metrics_data[i].keys()},\n",
    "                                       orient='index')"
   ]
  },
  {
   "cell_type": "code",
   "execution_count": 69,
   "id": "0944fe84",
   "metadata": {
    "execution": {
     "iopub.execute_input": "2023-03-08T11:32:06.026501Z",
     "iopub.status.busy": "2023-03-08T11:32:06.025717Z",
     "iopub.status.idle": "2023-03-08T11:32:06.037988Z",
     "shell.execute_reply": "2023-03-08T11:32:06.037000Z"
    },
    "papermill": {
     "duration": 0.030452,
     "end_time": "2023-03-08T11:32:06.040168",
     "exception": false,
     "start_time": "2023-03-08T11:32:06.009716",
     "status": "completed"
    },
    "tags": []
   },
   "outputs": [],
   "source": [
    "acc = accuracy_score(y_test, y_pred)\n",
    "pre = precision_score(y_test, y_pred, average=avg_par)\n",
    "rec = recall_score(y_test, y_pred, average=avg_par)\n",
    "f1 = f1_score(y_test, y_pred, average=avg_par)"
   ]
  },
  {
   "cell_type": "code",
   "execution_count": 70,
   "id": "7ee1b347",
   "metadata": {
    "execution": {
     "iopub.execute_input": "2023-03-08T11:32:06.075525Z",
     "iopub.status.busy": "2023-03-08T11:32:06.074482Z",
     "iopub.status.idle": "2023-03-08T11:32:06.092532Z",
     "shell.execute_reply": "2023-03-08T11:32:06.091415Z"
    },
    "papermill": {
     "duration": 0.035961,
     "end_time": "2023-03-08T11:32:06.094519",
     "exception": false,
     "start_time": "2023-03-08T11:32:06.058558",
     "status": "completed"
    },
    "tags": []
   },
   "outputs": [
    {
     "data": {
      "text/html": [
       "<div>\n",
       "<style scoped>\n",
       "    .dataframe tbody tr th:only-of-type {\n",
       "        vertical-align: middle;\n",
       "    }\n",
       "\n",
       "    .dataframe tbody tr th {\n",
       "        vertical-align: top;\n",
       "    }\n",
       "\n",
       "    .dataframe thead th {\n",
       "        text-align: right;\n",
       "    }\n",
       "</style>\n",
       "<table border=\"1\" class=\"dataframe\">\n",
       "  <thead>\n",
       "    <tr style=\"text-align: right;\">\n",
       "      <th></th>\n",
       "      <th></th>\n",
       "      <th>Accuracy</th>\n",
       "      <th>Precision</th>\n",
       "      <th>Recall</th>\n",
       "      <th>F1</th>\n",
       "    </tr>\n",
       "  </thead>\n",
       "  <tbody>\n",
       "    <tr>\n",
       "      <th rowspan=\"3\" valign=\"top\">Global</th>\n",
       "      <th>DecisionTree</th>\n",
       "      <td>0.346479</td>\n",
       "      <td>0.325028</td>\n",
       "      <td>0.300763</td>\n",
       "      <td>0.308581</td>\n",
       "    </tr>\n",
       "    <tr>\n",
       "      <th>RandomForest</th>\n",
       "      <td>0.357746</td>\n",
       "      <td>0.322721</td>\n",
       "      <td>0.314523</td>\n",
       "      <td>0.313091</td>\n",
       "    </tr>\n",
       "    <tr>\n",
       "      <th>LightGBM</th>\n",
       "      <td>0.377465</td>\n",
       "      <td>0.336962</td>\n",
       "      <td>0.317745</td>\n",
       "      <td>0.319963</td>\n",
       "    </tr>\n",
       "    <tr>\n",
       "      <th rowspan=\"3\" valign=\"top\">Shapelets</th>\n",
       "      <th>DecisionTree</th>\n",
       "      <td>0.270423</td>\n",
       "      <td>0.234070</td>\n",
       "      <td>0.232542</td>\n",
       "      <td>0.232720</td>\n",
       "    </tr>\n",
       "    <tr>\n",
       "      <th>RandomForest</th>\n",
       "      <td>0.383099</td>\n",
       "      <td>0.448703</td>\n",
       "      <td>0.331545</td>\n",
       "      <td>0.341835</td>\n",
       "    </tr>\n",
       "    <tr>\n",
       "      <th>LightGBM</th>\n",
       "      <td>0.400000</td>\n",
       "      <td>0.497521</td>\n",
       "      <td>0.343249</td>\n",
       "      <td>0.357328</td>\n",
       "    </tr>\n",
       "    <tr>\n",
       "      <th rowspan=\"2\" valign=\"top\">KNN</th>\n",
       "      <th>Euclidean</th>\n",
       "      <td>0.230986</td>\n",
       "      <td>0.263970</td>\n",
       "      <td>0.247675</td>\n",
       "      <td>0.207460</td>\n",
       "    </tr>\n",
       "    <tr>\n",
       "      <th>DTW</th>\n",
       "      <td>0.273239</td>\n",
       "      <td>0.260953</td>\n",
       "      <td>0.303064</td>\n",
       "      <td>0.270746</td>\n",
       "    </tr>\n",
       "  </tbody>\n",
       "</table>\n",
       "</div>"
      ],
      "text/plain": [
       "                        Accuracy  Precision    Recall        F1\n",
       "Global    DecisionTree  0.346479   0.325028  0.300763  0.308581\n",
       "          RandomForest  0.357746   0.322721  0.314523  0.313091\n",
       "          LightGBM      0.377465   0.336962  0.317745  0.319963\n",
       "Shapelets DecisionTree  0.270423   0.234070  0.232542  0.232720\n",
       "          RandomForest  0.383099   0.448703  0.331545  0.341835\n",
       "          LightGBM      0.400000   0.497521  0.343249  0.357328\n",
       "KNN       Euclidean     0.230986   0.263970  0.247675  0.207460\n",
       "          DTW           0.273239   0.260953  0.303064  0.270746"
      ]
     },
     "execution_count": 70,
     "metadata": {},
     "output_type": "execute_result"
    }
   ],
   "source": [
    "metrics_data"
   ]
  },
  {
   "cell_type": "code",
   "execution_count": 71,
   "id": "3efc173e",
   "metadata": {
    "execution": {
     "iopub.execute_input": "2023-03-08T11:32:06.134281Z",
     "iopub.status.busy": "2023-03-08T11:32:06.133414Z",
     "iopub.status.idle": "2023-03-08T11:32:06.143130Z",
     "shell.execute_reply": "2023-03-08T11:32:06.141799Z"
    },
    "papermill": {
     "duration": 0.028024,
     "end_time": "2023-03-08T11:32:06.145000",
     "exception": false,
     "start_time": "2023-03-08T11:32:06.116976",
     "status": "completed"
    },
    "tags": []
   },
   "outputs": [],
   "source": [
    "metrics_data.to_csv(f'{data_path}/metrics.csv')"
   ]
  },
  {
   "cell_type": "code",
   "execution_count": null,
   "id": "d21f5304",
   "metadata": {
    "papermill": {
     "duration": 0.014938,
     "end_time": "2023-03-08T11:32:06.175782",
     "exception": false,
     "start_time": "2023-03-08T11:32:06.160844",
     "status": "completed"
    },
    "tags": []
   },
   "outputs": [],
   "source": []
  }
 ],
 "metadata": {
  "celltoolbar": "Tags",
  "kernelspec": {
   "display_name": "Python 3 (ipykernel)",
   "language": "python",
   "name": "python3"
  },
  "language_info": {
   "codemirror_mode": {
    "name": "ipython",
    "version": 3
   },
   "file_extension": ".py",
   "mimetype": "text/x-python",
   "name": "python",
   "nbconvert_exporter": "python",
   "pygments_lexer": "ipython3",
   "version": "3.9.16"
  },
  "papermill": {
   "default_parameters": {},
   "duration": 268.563974,
   "end_time": "2023-03-08T11:32:09.119779",
   "environment_variables": {},
   "exception": null,
   "input_path": "09_ts_classification.ipynb",
   "output_path": "../clf-reports/20ng_sentiment.ipynb",
   "parameters": {
    "data_path": "/home/mattiapggioli/lyrics2ts/data/classification/20ng/sentiment/"
   },
   "start_time": "2023-03-08T11:27:40.555805",
   "version": "2.4.0"
  },
  "vscode": {
   "interpreter": {
    "hash": "eb8d1ded7c87c6f9c253b40add648304d6b51d2e38393955e855effc7e6f899a"
   }
  }
 },
 "nbformat": 4,
 "nbformat_minor": 5
}