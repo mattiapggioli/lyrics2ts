{
 "cells": [
  {
   "cell_type": "markdown",
   "id": "d79a68c5",
   "metadata": {
    "papermill": {
     "duration": 0.032276,
     "end_time": "2023-03-20T11:20:43.880073",
     "exception": false,
     "start_time": "2023-03-20T11:20:43.847797",
     "status": "completed"
    },
    "tags": []
   },
   "source": [
    "# Time Series Classification"
   ]
  },
  {
   "cell_type": "code",
   "execution_count": 1,
   "id": "8a0cb2b0",
   "metadata": {
    "execution": {
     "iopub.execute_input": "2023-03-20T11:20:43.943696Z",
     "iopub.status.busy": "2023-03-20T11:20:43.942897Z",
     "iopub.status.idle": "2023-03-20T11:20:45.280951Z",
     "shell.execute_reply": "2023-03-20T11:20:45.280181Z"
    },
    "papermill": {
     "duration": 1.368611,
     "end_time": "2023-03-20T11:20:45.283852",
     "exception": false,
     "start_time": "2023-03-20T11:20:43.915241",
     "status": "completed"
    },
    "tags": []
   },
   "outputs": [],
   "source": [
    "%matplotlib inline\n",
    "import pandas as pd\n",
    "import numpy as np\n",
    "import matplotlib.pyplot as plt\n",
    "import seaborn as sns\n",
    "import re\n",
    "import os\n",
    "from sklearn.preprocessing import StandardScaler\n",
    "from sklearn.decomposition import PCA\n",
    "import joblib\n",
    "from tslearn.utils import to_time_series_dataset, save_time_series_txt, load_time_series_txt\n",
    "import random\n",
    "from sklearn.model_selection import train_test_split\n",
    "from sklearn.metrics import accuracy_score, f1_score, precision_score, recall_score, classification_report\n",
    "import pickle"
   ]
  },
  {
   "cell_type": "code",
   "execution_count": 2,
   "id": "acc03405",
   "metadata": {
    "execution": {
     "iopub.execute_input": "2023-03-20T11:20:45.338846Z",
     "iopub.status.busy": "2023-03-20T11:20:45.338173Z",
     "iopub.status.idle": "2023-03-20T11:20:45.343623Z",
     "shell.execute_reply": "2023-03-20T11:20:45.342464Z"
    },
    "papermill": {
     "duration": 0.038228,
     "end_time": "2023-03-20T11:20:45.349340",
     "exception": false,
     "start_time": "2023-03-20T11:20:45.311112",
     "status": "completed"
    },
    "tags": [
     "parameters"
    ]
   },
   "outputs": [],
   "source": [
    "data_path = '/home/mattiapggioli/lyrics2ts/data/classification/pp-rc/sbert/'\n",
    "truncate=100\n",
    "max_iter = 2000\n",
    "paa_window_size = None\n",
    "undersampling = None"
   ]
  },
  {
   "cell_type": "code",
   "execution_count": 3,
   "id": "c0cc445e",
   "metadata": {
    "execution": {
     "iopub.execute_input": "2023-03-20T11:20:45.390795Z",
     "iopub.status.busy": "2023-03-20T11:20:45.390375Z",
     "iopub.status.idle": "2023-03-20T11:20:45.394979Z",
     "shell.execute_reply": "2023-03-20T11:20:45.394012Z"
    },
    "papermill": {
     "duration": 0.017888,
     "end_time": "2023-03-20T11:20:45.396457",
     "exception": false,
     "start_time": "2023-03-20T11:20:45.378569",
     "status": "completed"
    },
    "tags": [
     "injected-parameters"
    ]
   },
   "outputs": [],
   "source": [
    "# Parameters\n",
    "data_path = \"/home/mattiapggioli/lyrics2ts/data/classification/20ng/sentiment/\"\n"
   ]
  },
  {
   "cell_type": "code",
   "execution_count": 4,
   "id": "a4f0c774",
   "metadata": {
    "execution": {
     "iopub.execute_input": "2023-03-20T11:20:45.418835Z",
     "iopub.status.busy": "2023-03-20T11:20:45.418422Z",
     "iopub.status.idle": "2023-03-20T11:21:02.077943Z",
     "shell.execute_reply": "2023-03-20T11:21:02.077110Z"
    },
    "papermill": {
     "duration": 16.674183,
     "end_time": "2023-03-20T11:21:02.081026",
     "exception": false,
     "start_time": "2023-03-20T11:20:45.406843",
     "status": "completed"
    },
    "tags": []
   },
   "outputs": [],
   "source": [
    "ts = load_time_series_txt(f'{data_path}/ts.txt')"
   ]
  },
  {
   "cell_type": "code",
   "execution_count": 5,
   "id": "5c48d154",
   "metadata": {
    "execution": {
     "iopub.execute_input": "2023-03-20T11:21:02.142095Z",
     "iopub.status.busy": "2023-03-20T11:21:02.141676Z",
     "iopub.status.idle": "2023-03-20T11:21:02.150976Z",
     "shell.execute_reply": "2023-03-20T11:21:02.149555Z"
    },
    "papermill": {
     "duration": 0.044354,
     "end_time": "2023-03-20T11:21:02.155675",
     "exception": false,
     "start_time": "2023-03-20T11:21:02.111321",
     "status": "completed"
    },
    "tags": []
   },
   "outputs": [
    {
     "data": {
      "text/plain": [
       "(1775, 1210, 1)"
      ]
     },
     "execution_count": 5,
     "metadata": {},
     "output_type": "execute_result"
    }
   ],
   "source": [
    "ts.shape"
   ]
  },
  {
   "cell_type": "code",
   "execution_count": 6,
   "id": "f6274d40",
   "metadata": {
    "execution": {
     "iopub.execute_input": "2023-03-20T11:21:02.194517Z",
     "iopub.status.busy": "2023-03-20T11:21:02.194062Z",
     "iopub.status.idle": "2023-03-20T11:21:02.200545Z",
     "shell.execute_reply": "2023-03-20T11:21:02.199692Z"
    },
    "papermill": {
     "duration": 0.019899,
     "end_time": "2023-03-20T11:21:02.202159",
     "exception": false,
     "start_time": "2023-03-20T11:21:02.182260",
     "status": "completed"
    },
    "tags": []
   },
   "outputs": [],
   "source": [
    "with open(f'{data_path}/y_class.npy', 'rb') as f:\n",
    "    y = np.load(f, allow_pickle=True)"
   ]
  },
  {
   "cell_type": "code",
   "execution_count": 7,
   "id": "9d42fa3b",
   "metadata": {
    "execution": {
     "iopub.execute_input": "2023-03-20T11:21:02.224911Z",
     "iopub.status.busy": "2023-03-20T11:21:02.224446Z",
     "iopub.status.idle": "2023-03-20T11:21:02.230552Z",
     "shell.execute_reply": "2023-03-20T11:21:02.229730Z"
    },
    "papermill": {
     "duration": 0.019333,
     "end_time": "2023-03-20T11:21:02.232109",
     "exception": false,
     "start_time": "2023-03-20T11:21:02.212776",
     "status": "completed"
    },
    "tags": []
   },
   "outputs": [],
   "source": [
    "with open(f'{data_path}/X.npy', 'rb') as f:\n",
    "    X = np.load(f, allow_pickle=True)"
   ]
  },
  {
   "cell_type": "code",
   "execution_count": 8,
   "id": "1158a9da",
   "metadata": {
    "execution": {
     "iopub.execute_input": "2023-03-20T11:21:02.256400Z",
     "iopub.status.busy": "2023-03-20T11:21:02.255359Z",
     "iopub.status.idle": "2023-03-20T11:21:02.263024Z",
     "shell.execute_reply": "2023-03-20T11:21:02.261999Z"
    },
    "papermill": {
     "duration": 0.02225,
     "end_time": "2023-03-20T11:21:02.264723",
     "exception": false,
     "start_time": "2023-03-20T11:21:02.242473",
     "status": "completed"
    },
    "tags": []
   },
   "outputs": [
    {
     "data": {
      "text/plain": [
       "(1775, 6)"
      ]
     },
     "execution_count": 8,
     "metadata": {},
     "output_type": "execute_result"
    }
   ],
   "source": [
    "X.shape"
   ]
  },
  {
   "cell_type": "code",
   "execution_count": 9,
   "id": "47239790",
   "metadata": {
    "execution": {
     "iopub.execute_input": "2023-03-20T11:21:02.291353Z",
     "iopub.status.busy": "2023-03-20T11:21:02.290526Z",
     "iopub.status.idle": "2023-03-20T11:21:02.298286Z",
     "shell.execute_reply": "2023-03-20T11:21:02.297265Z"
    },
    "papermill": {
     "duration": 0.022838,
     "end_time": "2023-03-20T11:21:02.300068",
     "exception": false,
     "start_time": "2023-03-20T11:21:02.277230",
     "status": "completed"
    },
    "tags": []
   },
   "outputs": [
    {
     "data": {
      "text/plain": [
       "{'comp', 'misc', 'rec', 'religion', 'sci', 'talk'}"
      ]
     },
     "execution_count": 9,
     "metadata": {},
     "output_type": "execute_result"
    }
   ],
   "source": [
    "set(y)"
   ]
  },
  {
   "cell_type": "code",
   "execution_count": 10,
   "id": "37609992",
   "metadata": {
    "execution": {
     "iopub.execute_input": "2023-03-20T11:21:02.325944Z",
     "iopub.status.busy": "2023-03-20T11:21:02.325320Z",
     "iopub.status.idle": "2023-03-20T11:21:02.342146Z",
     "shell.execute_reply": "2023-03-20T11:21:02.340904Z"
    },
    "papermill": {
     "duration": 0.0317,
     "end_time": "2023-03-20T11:21:02.344293",
     "exception": false,
     "start_time": "2023-03-20T11:21:02.312593",
     "status": "completed"
    },
    "tags": []
   },
   "outputs": [],
   "source": [
    "ts_train, ts_test, y_train, y_test = train_test_split(\n",
    "    ts, y, test_size=0.20, random_state=42, stratify=y)"
   ]
  },
  {
   "cell_type": "code",
   "execution_count": 11,
   "id": "34508fe4",
   "metadata": {
    "execution": {
     "iopub.execute_input": "2023-03-20T11:21:02.370405Z",
     "iopub.status.busy": "2023-03-20T11:21:02.369555Z",
     "iopub.status.idle": "2023-03-20T11:21:02.379208Z",
     "shell.execute_reply": "2023-03-20T11:21:02.378055Z"
    },
    "papermill": {
     "duration": 0.023579,
     "end_time": "2023-03-20T11:21:02.381150",
     "exception": false,
     "start_time": "2023-03-20T11:21:02.357571",
     "status": "completed"
    },
    "tags": []
   },
   "outputs": [],
   "source": [
    "X_train, X_test, y_train, y_test = train_test_split(\n",
    "    X, y, test_size=0.20, random_state=42, stratify=y)"
   ]
  },
  {
   "cell_type": "code",
   "execution_count": 12,
   "id": "076afac9",
   "metadata": {
    "execution": {
     "iopub.execute_input": "2023-03-20T11:21:02.406558Z",
     "iopub.status.busy": "2023-03-20T11:21:02.405744Z",
     "iopub.status.idle": "2023-03-20T11:21:02.414352Z",
     "shell.execute_reply": "2023-03-20T11:21:02.413337Z"
    },
    "papermill": {
     "duration": 0.023373,
     "end_time": "2023-03-20T11:21:02.416086",
     "exception": false,
     "start_time": "2023-03-20T11:21:02.392713",
     "status": "completed"
    },
    "tags": []
   },
   "outputs": [
    {
     "data": {
      "text/plain": [
       "array([[0.4588],\n",
       "       [0.2584],\n",
       "       [0.2144],\n",
       "       ...,\n",
       "       [   nan],\n",
       "       [   nan],\n",
       "       [   nan]])"
      ]
     },
     "execution_count": 12,
     "metadata": {},
     "output_type": "execute_result"
    }
   ],
   "source": [
    "random.choice(ts_train)"
   ]
  },
  {
   "cell_type": "code",
   "execution_count": 13,
   "id": "ca66457a",
   "metadata": {
    "execution": {
     "iopub.execute_input": "2023-03-20T11:21:02.439297Z",
     "iopub.status.busy": "2023-03-20T11:21:02.438697Z",
     "iopub.status.idle": "2023-03-20T11:21:02.948833Z",
     "shell.execute_reply": "2023-03-20T11:21:02.948030Z"
    },
    "papermill": {
     "duration": 0.524214,
     "end_time": "2023-03-20T11:21:02.950986",
     "exception": false,
     "start_time": "2023-03-20T11:21:02.426772",
     "status": "completed"
    },
    "tags": []
   },
   "outputs": [
    {
     "data": {
      "text/plain": [
       "<AxesSubplot:ylabel='Count'>"
      ]
     },
     "execution_count": 13,
     "metadata": {},
     "output_type": "execute_result"
    },
    {
     "data": {
      "image/png": "[encoded data removed]",
      "text/plain": [
       "<Figure size 640x480 with 1 Axes>"
      ]
     },
     "metadata": {},
     "output_type": "display_data"
    }
   ],
   "source": [
    "sns.histplot([t[~np.any(np.isnan(t), axis=1)].shape[0] for t in ts_train])"
   ]
  },
  {
   "cell_type": "code",
   "execution_count": 14,
   "id": "c2ae286f",
   "metadata": {
    "execution": {
     "iopub.execute_input": "2023-03-20T11:21:02.989345Z",
     "iopub.status.busy": "2023-03-20T11:21:02.989053Z",
     "iopub.status.idle": "2023-03-20T11:21:02.993718Z",
     "shell.execute_reply": "2023-03-20T11:21:02.992754Z"
    },
    "papermill": {
     "duration": 0.032271,
     "end_time": "2023-03-20T11:21:02.997192",
     "exception": false,
     "start_time": "2023-03-20T11:21:02.964921",
     "status": "completed"
    },
    "tags": []
   },
   "outputs": [],
   "source": [
    "ts_train = ts_train[:, :truncate, :]\n",
    "ts_test = ts_test[:, :truncate, :]"
   ]
  },
  {
   "cell_type": "code",
   "execution_count": 15,
   "id": "3218baa4",
   "metadata": {
    "execution": {
     "iopub.execute_input": "2023-03-20T11:21:03.053843Z",
     "iopub.status.busy": "2023-03-20T11:21:03.053011Z",
     "iopub.status.idle": "2023-03-20T11:21:03.068448Z",
     "shell.execute_reply": "2023-03-20T11:21:03.067173Z"
    },
    "papermill": {
     "duration": 0.035781,
     "end_time": "2023-03-20T11:21:03.070436",
     "exception": false,
     "start_time": "2023-03-20T11:21:03.034655",
     "status": "completed"
    },
    "tags": []
   },
   "outputs": [],
   "source": [
    "mean_arr = np.nanmean(ts_train, axis=1, keepdims=True)\n",
    "nan_indices = np.isnan(ts_train)\n",
    "ts_train[nan_indices] = np.take(mean_arr, np.nonzero(nan_indices)[0])\n",
    "\n",
    "mean_arr = np.nanmean(ts_test, axis=1, keepdims=True)\n",
    "nan_indices = np.isnan(ts_test)\n",
    "ts_test[nan_indices] = np.take(mean_arr, np.nonzero(nan_indices)[0])"
   ]
  },
  {
   "cell_type": "code",
   "execution_count": 16,
   "id": "d369691b",
   "metadata": {
    "execution": {
     "iopub.execute_input": "2023-03-20T11:21:03.096986Z",
     "iopub.status.busy": "2023-03-20T11:21:03.096172Z",
     "iopub.status.idle": "2023-03-20T11:21:03.103554Z",
     "shell.execute_reply": "2023-03-20T11:21:03.102492Z"
    },
    "papermill": {
     "duration": 0.021526,
     "end_time": "2023-03-20T11:21:03.105267",
     "exception": false,
     "start_time": "2023-03-20T11:21:03.083741",
     "status": "completed"
    },
    "tags": []
   },
   "outputs": [
    {
     "data": {
      "text/plain": [
       "20"
      ]
     },
     "execution_count": 16,
     "metadata": {},
     "output_type": "execute_result"
    }
   ],
   "source": [
    "np.count_nonzero(np.isnan(X_train))"
   ]
  },
  {
   "cell_type": "code",
   "execution_count": 17,
   "id": "0d602e18",
   "metadata": {
    "execution": {
     "iopub.execute_input": "2023-03-20T11:21:03.133395Z",
     "iopub.status.busy": "2023-03-20T11:21:03.132538Z",
     "iopub.status.idle": "2023-03-20T11:21:03.138539Z",
     "shell.execute_reply": "2023-03-20T11:21:03.137413Z"
    },
    "papermill": {
     "duration": 0.023252,
     "end_time": "2023-03-20T11:21:03.140296",
     "exception": false,
     "start_time": "2023-03-20T11:21:03.117044",
     "status": "completed"
    },
    "tags": []
   },
   "outputs": [],
   "source": [
    "X_train[np.isnan(X_train)] = 0\n",
    "X_test[np.isnan(X_test)] = 0"
   ]
  },
  {
   "cell_type": "code",
   "execution_count": 18,
   "id": "45c5102c",
   "metadata": {
    "execution": {
     "iopub.execute_input": "2023-03-20T11:21:03.168101Z",
     "iopub.status.busy": "2023-03-20T11:21:03.167452Z",
     "iopub.status.idle": "2023-03-20T11:21:03.450334Z",
     "shell.execute_reply": "2023-03-20T11:21:03.449400Z"
    },
    "papermill": {
     "duration": 0.299765,
     "end_time": "2023-03-20T11:21:03.453076",
     "exception": false,
     "start_time": "2023-03-20T11:21:03.153311",
     "status": "completed"
    },
    "tags": []
   },
   "outputs": [],
   "source": [
    "save_time_series_txt(f'{data_path}/ts_train.txt', ts_train)\n",
    "save_time_series_txt(f'{data_path}/ts_test.txt', ts_test)"
   ]
  },
  {
   "cell_type": "code",
   "execution_count": 19,
   "id": "39830f37",
   "metadata": {
    "execution": {
     "iopub.execute_input": "2023-03-20T11:21:03.480690Z",
     "iopub.status.busy": "2023-03-20T11:21:03.480368Z",
     "iopub.status.idle": "2023-03-20T11:21:03.487718Z",
     "shell.execute_reply": "2023-03-20T11:21:03.486471Z"
    },
    "papermill": {
     "duration": 0.02183,
     "end_time": "2023-03-20T11:21:03.489872",
     "exception": false,
     "start_time": "2023-03-20T11:21:03.468042",
     "status": "completed"
    },
    "tags": []
   },
   "outputs": [],
   "source": [
    "with open(f'{data_path}/X_train.npy', 'wb') as f:\n",
    "    np.save(f, X_train, allow_pickle=True)\n",
    "\n",
    "with open(f'{data_path}/X_test.npy', 'wb') as f:\n",
    "    np.save(f, X_test, allow_pickle=True)"
   ]
  },
  {
   "cell_type": "code",
   "execution_count": 20,
   "id": "795fd2be",
   "metadata": {
    "execution": {
     "iopub.execute_input": "2023-03-20T11:21:03.522230Z",
     "iopub.status.busy": "2023-03-20T11:21:03.521598Z",
     "iopub.status.idle": "2023-03-20T11:21:03.529493Z",
     "shell.execute_reply": "2023-03-20T11:21:03.528158Z"
    },
    "papermill": {
     "duration": 0.026797,
     "end_time": "2023-03-20T11:21:03.531725",
     "exception": false,
     "start_time": "2023-03-20T11:21:03.504928",
     "status": "completed"
    },
    "tags": []
   },
   "outputs": [],
   "source": [
    "with open(f'{data_path}/y_train.npy', 'wb') as f:\n",
    "    np.save(f, y_train, allow_pickle=True)\n",
    "\n",
    "with open(f'{data_path}/y_test.npy', 'wb') as f:\n",
    "    np.save(f, y_test, allow_pickle=True)"
   ]
  },
  {
   "cell_type": "code",
   "execution_count": 21,
   "id": "08bda153",
   "metadata": {
    "execution": {
     "iopub.execute_input": "2023-03-20T11:21:03.559842Z",
     "iopub.status.busy": "2023-03-20T11:21:03.559061Z",
     "iopub.status.idle": "2023-03-20T11:21:03.712891Z",
     "shell.execute_reply": "2023-03-20T11:21:03.712268Z"
    },
    "papermill": {
     "duration": 0.170073,
     "end_time": "2023-03-20T11:21:03.715882",
     "exception": false,
     "start_time": "2023-03-20T11:21:03.545809",
     "status": "completed"
    },
    "tags": []
   },
   "outputs": [
    {
     "data": {
      "text/plain": [
       "[<matplotlib.lines.Line2D at 0x7f2827ac0f70>]"
      ]
     },
     "execution_count": 21,
     "metadata": {},
     "output_type": "execute_result"
    },
    {
     "data": {
      "image/png": "[encoded data removed]",
      "text/plain": [
       "<Figure size 640x480 with 1 Axes>"
      ]
     },
     "metadata": {},
     "output_type": "display_data"
    }
   ],
   "source": [
    "plt.plot(random.choice(ts_train))"
   ]
  },
  {
   "cell_type": "code",
   "execution_count": 22,
   "id": "98ce9d63",
   "metadata": {
    "execution": {
     "iopub.execute_input": "2023-03-20T11:21:03.745113Z",
     "iopub.status.busy": "2023-03-20T11:21:03.744575Z",
     "iopub.status.idle": "2023-03-20T11:21:03.749583Z",
     "shell.execute_reply": "2023-03-20T11:21:03.748802Z"
    },
    "papermill": {
     "duration": 0.020103,
     "end_time": "2023-03-20T11:21:03.751092",
     "exception": false,
     "start_time": "2023-03-20T11:21:03.730989",
     "status": "completed"
    },
    "tags": []
   },
   "outputs": [],
   "source": [
    "# Parameters that require knowing if it's binary or multiclass (LightGBM, metrics)\n",
    "if len(set(y)) == 2:\n",
    "    avg_par = 'macro'\n",
    "    obj_par = 'binary'\n",
    "elif len(set(y)) > 2:\n",
    "    avg_par = 'weighted'\n",
    "    obj_par = 'multiclass'"
   ]
  },
  {
   "cell_type": "markdown",
   "id": "228f1b39",
   "metadata": {
    "papermill": {
     "duration": 0.014218,
     "end_time": "2023-03-20T11:21:03.778196",
     "exception": false,
     "start_time": "2023-03-20T11:21:03.763978",
     "status": "completed"
    },
    "tags": []
   },
   "source": [
    "## Classification"
   ]
  },
  {
   "cell_type": "code",
   "execution_count": 23,
   "id": "34bb73ff",
   "metadata": {
    "execution": {
     "iopub.execute_input": "2023-03-20T11:21:03.804876Z",
     "iopub.status.busy": "2023-03-20T11:21:03.804050Z",
     "iopub.status.idle": "2023-03-20T11:21:03.881969Z",
     "shell.execute_reply": "2023-03-20T11:21:03.881193Z"
    },
    "papermill": {
     "duration": 0.093611,
     "end_time": "2023-03-20T11:21:03.884012",
     "exception": false,
     "start_time": "2023-03-20T11:21:03.790401",
     "status": "completed"
    },
    "tags": []
   },
   "outputs": [],
   "source": [
    "from sklearn.tree import DecisionTreeClassifier\n",
    "import lightgbm as lgbm\n",
    "from sklearn.ensemble import RandomForestClassifier"
   ]
  },
  {
   "cell_type": "code",
   "execution_count": 24,
   "id": "02aaee18",
   "metadata": {
    "execution": {
     "iopub.execute_input": "2023-03-20T11:21:03.911681Z",
     "iopub.status.busy": "2023-03-20T11:21:03.911359Z",
     "iopub.status.idle": "2023-03-20T11:21:03.915477Z",
     "shell.execute_reply": "2023-03-20T11:21:03.914606Z"
    },
    "papermill": {
     "duration": 0.01941,
     "end_time": "2023-03-20T11:21:03.918134",
     "exception": false,
     "start_time": "2023-03-20T11:21:03.898724",
     "status": "completed"
    },
    "tags": []
   },
   "outputs": [],
   "source": [
    "metrics_data = {}"
   ]
  },
  {
   "cell_type": "markdown",
   "id": "b49309ed",
   "metadata": {
    "papermill": {
     "duration": 0.016587,
     "end_time": "2023-03-20T11:21:03.969368",
     "exception": false,
     "start_time": "2023-03-20T11:21:03.952781",
     "status": "completed"
    },
    "tags": []
   },
   "source": [
    "### Baseline: global features (No Time Series)"
   ]
  },
  {
   "cell_type": "code",
   "execution_count": 25,
   "id": "35eb9f66",
   "metadata": {
    "execution": {
     "iopub.execute_input": "2023-03-20T11:21:03.998871Z",
     "iopub.status.busy": "2023-03-20T11:21:03.998067Z",
     "iopub.status.idle": "2023-03-20T11:21:04.004028Z",
     "shell.execute_reply": "2023-03-20T11:21:04.002868Z"
    },
    "papermill": {
     "duration": 0.02287,
     "end_time": "2023-03-20T11:21:04.005819",
     "exception": false,
     "start_time": "2023-03-20T11:21:03.982949",
     "status": "completed"
    },
    "tags": []
   },
   "outputs": [],
   "source": [
    "metrics_data['Global'] = {}"
   ]
  },
  {
   "cell_type": "markdown",
   "id": "29cd5044",
   "metadata": {
    "papermill": {
     "duration": 0.014096,
     "end_time": "2023-03-20T11:21:04.033647",
     "exception": false,
     "start_time": "2023-03-20T11:21:04.019551",
     "status": "completed"
    },
    "tags": []
   },
   "source": [
    "**Decision Tree**"
   ]
  },
  {
   "cell_type": "code",
   "execution_count": 26,
   "id": "9ef4f037",
   "metadata": {
    "execution": {
     "iopub.execute_input": "2023-03-20T11:21:04.066206Z",
     "iopub.status.busy": "2023-03-20T11:21:04.065104Z",
     "iopub.status.idle": "2023-03-20T11:21:04.102911Z",
     "shell.execute_reply": "2023-03-20T11:21:04.101936Z"
    },
    "papermill": {
     "duration": 0.055873,
     "end_time": "2023-03-20T11:21:04.104824",
     "exception": false,
     "start_time": "2023-03-20T11:21:04.048951",
     "status": "completed"
    },
    "tags": []
   },
   "outputs": [
    {
     "data": {
      "text/html": [
       "<style>#sk-container-id-1 {color: black;background-color: white;}#sk-container-id-1 pre{padding: 0;}#sk-container-id-1 div.sk-toggleable {background-color: white;}#sk-container-id-1 label.sk-toggleable__label {cursor: pointer;display: block;width: 100%;margin-bottom: 0;padding: 0.3em;box-sizing: border-box;text-align: center;}#sk-container-id-1 label.sk-toggleable__label-arrow:before {content: \"▸\";float: left;margin-right: 0.25em;color: #696969;}#sk-container-id-1 label.sk-toggleable__label-arrow:hover:before {color: black;}#sk-container-id-1 div.sk-estimator:hover label.sk-toggleable__label-arrow:before {color: black;}#sk-container-id-1 div.sk-toggleable__content {max-height: 0;max-width: 0;overflow: hidden;text-align: left;background-color: #f0f8ff;}#sk-container-id-1 div.sk-toggleable__content pre {margin: 0.2em;color: black;border-radius: 0.25em;background-color: #f0f8ff;}#sk-container-id-1 input.sk-toggleable__control:checked~div.sk-toggleable__content {max-height: 200px;max-width: 100%;overflow: auto;}#sk-container-id-1 input.sk-toggleable__control:checked~label.sk-toggleable__label-arrow:before {content: \"▾\";}#sk-container-id-1 div.sk-estimator input.sk-toggleable__control:checked~label.sk-toggleable__label {background-color: #d4ebff;}#sk-container-id-1 div.sk-label input.sk-toggleable__control:checked~label.sk-toggleable__label {background-color: #d4ebff;}#sk-container-id-1 input.sk-hidden--visually {border: 0;clip: rect(1px 1px 1px 1px);clip: rect(1px, 1px, 1px, 1px);height: 1px;margin: -1px;overflow: hidden;padding: 0;position: absolute;width: 1px;}#sk-container-id-1 div.sk-estimator {font-family: monospace;background-color: #f0f8ff;border: 1px dotted black;border-radius: 0.25em;box-sizing: border-box;margin-bottom: 0.5em;}#sk-container-id-1 div.sk-estimator:hover {background-color: #d4ebff;}#sk-container-id-1 div.sk-parallel-item::after {content: \"\";width: 100%;border-bottom: 1px solid gray;flex-grow: 1;}#sk-container-id-1 div.sk-label:hover label.sk-toggleable__label {background-color: #d4ebff;}#sk-container-id-1 div.sk-serial::before {content: \"\";position: absolute;border-left: 1px solid gray;box-sizing: border-box;top: 0;bottom: 0;left: 50%;z-index: 0;}#sk-container-id-1 div.sk-serial {display: flex;flex-direction: column;align-items: center;background-color: white;padding-right: 0.2em;padding-left: 0.2em;position: relative;}#sk-container-id-1 div.sk-item {position: relative;z-index: 1;}#sk-container-id-1 div.sk-parallel {display: flex;align-items: stretch;justify-content: center;background-color: white;position: relative;}#sk-container-id-1 div.sk-item::before, #sk-container-id-1 div.sk-parallel-item::before {content: \"\";position: absolute;border-left: 1px solid gray;box-sizing: border-box;top: 0;bottom: 0;left: 50%;z-index: -1;}#sk-container-id-1 div.sk-parallel-item {display: flex;flex-direction: column;z-index: 1;position: relative;background-color: white;}#sk-container-id-1 div.sk-parallel-item:first-child::after {align-self: flex-end;width: 50%;}#sk-container-id-1 div.sk-parallel-item:last-child::after {align-self: flex-start;width: 50%;}#sk-container-id-1 div.sk-parallel-item:only-child::after {width: 0;}#sk-container-id-1 div.sk-dashed-wrapped {border: 1px dashed gray;margin: 0 0.4em 0.5em 0.4em;box-sizing: border-box;padding-bottom: 0.4em;background-color: white;}#sk-container-id-1 div.sk-label label {font-family: monospace;font-weight: bold;display: inline-block;line-height: 1.2em;}#sk-container-id-1 div.sk-label-container {text-align: center;}#sk-container-id-1 div.sk-container {/* jupyter's `normalize.less` sets `[hidden] { display: none; }` but bootstrap.min.css set `[hidden] { display: none !important; }` so we also need the `!important` here to be able to override the default hidden behavior on the sphinx rendered scikit-learn.org. See: https://github.com/scikit-learn/scikit-learn/issues/21755 */display: inline-block !important;position: relative;}#sk-container-id-1 div.sk-text-repr-fallback {display: none;}</style><div id=\"sk-container-id-1\" class=\"sk-top-container\"><div class=\"sk-text-repr-fallback\"><pre>DecisionTreeClassifier()</pre><b>In a Jupyter environment, please rerun this cell to show the HTML representation or trust the notebook. <br />On GitHub, the HTML representation is unable to render, please try loading this page with nbviewer.org.</b></div><div class=\"sk-container\" hidden><div class=\"sk-item\"><div class=\"sk-estimator sk-toggleable\"><input class=\"sk-toggleable__control sk-hidden--visually\" id=\"sk-estimator-id-1\" type=\"checkbox\" checked><label for=\"sk-estimator-id-1\" class=\"sk-toggleable__label sk-toggleable__label-arrow\">DecisionTreeClassifier</label><div class=\"sk-toggleable__content\"><pre>DecisionTreeClassifier()</pre></div></div></div></div></div>"
      ],
      "text/plain": [
       "DecisionTreeClassifier()"
      ]
     },
     "execution_count": 26,
     "metadata": {},
     "output_type": "execute_result"
    }
   ],
   "source": [
    "clf = DecisionTreeClassifier()\n",
    "clf.fit(X_train, y_train)"
   ]
  },
  {
   "cell_type": "code",
   "execution_count": 27,
   "id": "9c50acc4",
   "metadata": {
    "execution": {
     "iopub.execute_input": "2023-03-20T11:21:04.132121Z",
     "iopub.status.busy": "2023-03-20T11:21:04.131661Z",
     "iopub.status.idle": "2023-03-20T11:21:04.162749Z",
     "shell.execute_reply": "2023-03-20T11:21:04.161697Z"
    },
    "papermill": {
     "duration": 0.046393,
     "end_time": "2023-03-20T11:21:04.164834",
     "exception": false,
     "start_time": "2023-03-20T11:21:04.118441",
     "status": "completed"
    },
    "tags": []
   },
   "outputs": [
    {
     "name": "stdout",
     "output_type": "stream",
     "text": [
      "              precision    recall  f1-score   support\n",
      "\n",
      "        comp       0.31      0.28      0.29        47\n",
      "        misc       0.50      0.38      0.43         8\n",
      "         rec       0.17      0.18      0.18        49\n",
      "    religion       0.36      0.38      0.37        88\n",
      "         sci       0.22      0.25      0.23        68\n",
      "        talk       0.53      0.47      0.50        95\n",
      "\n",
      "    accuracy                           0.34       355\n",
      "   macro avg       0.35      0.32      0.33       355\n",
      "weighted avg       0.35      0.34      0.34       355\n",
      "\n"
     ]
    }
   ],
   "source": [
    "y_pred = clf.predict(X_test)\n",
    "print(classification_report(y_test, y_pred))"
   ]
  },
  {
   "cell_type": "code",
   "execution_count": 28,
   "id": "8866c3c3",
   "metadata": {
    "execution": {
     "iopub.execute_input": "2023-03-20T11:21:04.194694Z",
     "iopub.status.busy": "2023-03-20T11:21:04.194235Z",
     "iopub.status.idle": "2023-03-20T11:21:04.227076Z",
     "shell.execute_reply": "2023-03-20T11:21:04.225830Z"
    },
    "papermill": {
     "duration": 0.050784,
     "end_time": "2023-03-20T11:21:04.229549",
     "exception": false,
     "start_time": "2023-03-20T11:21:04.178765",
     "status": "completed"
    },
    "tags": []
   },
   "outputs": [],
   "source": [
    "acc = accuracy_score(y_test, y_pred)\n",
    "pre = precision_score(y_test, y_pred, average=avg_par)\n",
    "rec = recall_score(y_test, y_pred, average=avg_par)\n",
    "f1 = f1_score(y_test, y_pred, average=avg_par)\n",
    "\n",
    "metrics_data['Global']['DecisionTree'] = {'Accuracy': acc, 'Precision': pre, 'Recall': rec, 'F1': f1}"
   ]
  },
  {
   "cell_type": "markdown",
   "id": "28aa5a63",
   "metadata": {
    "papermill": {
     "duration": 0.029032,
     "end_time": "2023-03-20T11:21:04.288464",
     "exception": false,
     "start_time": "2023-03-20T11:21:04.259432",
     "status": "completed"
    },
    "tags": []
   },
   "source": [
    "**Random Forest**"
   ]
  },
  {
   "cell_type": "code",
   "execution_count": 29,
   "id": "0e5e2310",
   "metadata": {
    "execution": {
     "iopub.execute_input": "2023-03-20T11:21:04.318995Z",
     "iopub.status.busy": "2023-03-20T11:21:04.317849Z",
     "iopub.status.idle": "2023-03-20T11:21:04.685736Z",
     "shell.execute_reply": "2023-03-20T11:21:04.684702Z"
    },
    "papermill": {
     "duration": 0.386396,
     "end_time": "2023-03-20T11:21:04.688659",
     "exception": false,
     "start_time": "2023-03-20T11:21:04.302263",
     "status": "completed"
    },
    "tags": []
   },
   "outputs": [
    {
     "data": {
      "text/html": [
       "<style>#sk-container-id-2 {color: black;background-color: white;}#sk-container-id-2 pre{padding: 0;}#sk-container-id-2 div.sk-toggleable {background-color: white;}#sk-container-id-2 label.sk-toggleable__label {cursor: pointer;display: block;width: 100%;margin-bottom: 0;padding: 0.3em;box-sizing: border-box;text-align: center;}#sk-container-id-2 label.sk-toggleable__label-arrow:before {content: \"▸\";float: left;margin-right: 0.25em;color: #696969;}#sk-container-id-2 label.sk-toggleable__label-arrow:hover:before {color: black;}#sk-container-id-2 div.sk-estimator:hover label.sk-toggleable__label-arrow:before {color: black;}#sk-container-id-2 div.sk-toggleable__content {max-height: 0;max-width: 0;overflow: hidden;text-align: left;background-color: #f0f8ff;}#sk-container-id-2 div.sk-toggleable__content pre {margin: 0.2em;color: black;border-radius: 0.25em;background-color: #f0f8ff;}#sk-container-id-2 input.sk-toggleable__control:checked~div.sk-toggleable__content {max-height: 200px;max-width: 100%;overflow: auto;}#sk-container-id-2 input.sk-toggleable__control:checked~label.sk-toggleable__label-arrow:before {content: \"▾\";}#sk-container-id-2 div.sk-estimator input.sk-toggleable__control:checked~label.sk-toggleable__label {background-color: #d4ebff;}#sk-container-id-2 div.sk-label input.sk-toggleable__control:checked~label.sk-toggleable__label {background-color: #d4ebff;}#sk-container-id-2 input.sk-hidden--visually {border: 0;clip: rect(1px 1px 1px 1px);clip: rect(1px, 1px, 1px, 1px);height: 1px;margin: -1px;overflow: hidden;padding: 0;position: absolute;width: 1px;}#sk-container-id-2 div.sk-estimator {font-family: monospace;background-color: #f0f8ff;border: 1px dotted black;border-radius: 0.25em;box-sizing: border-box;margin-bottom: 0.5em;}#sk-container-id-2 div.sk-estimator:hover {background-color: #d4ebff;}#sk-container-id-2 div.sk-parallel-item::after {content: \"\";width: 100%;border-bottom: 1px solid gray;flex-grow: 1;}#sk-container-id-2 div.sk-label:hover label.sk-toggleable__label {background-color: #d4ebff;}#sk-container-id-2 div.sk-serial::before {content: \"\";position: absolute;border-left: 1px solid gray;box-sizing: border-box;top: 0;bottom: 0;left: 50%;z-index: 0;}#sk-container-id-2 div.sk-serial {display: flex;flex-direction: column;align-items: center;background-color: white;padding-right: 0.2em;padding-left: 0.2em;position: relative;}#sk-container-id-2 div.sk-item {position: relative;z-index: 1;}#sk-container-id-2 div.sk-parallel {display: flex;align-items: stretch;justify-content: center;background-color: white;position: relative;}#sk-container-id-2 div.sk-item::before, #sk-container-id-2 div.sk-parallel-item::before {content: \"\";position: absolute;border-left: 1px solid gray;box-sizing: border-box;top: 0;bottom: 0;left: 50%;z-index: -1;}#sk-container-id-2 div.sk-parallel-item {display: flex;flex-direction: column;z-index: 1;position: relative;background-color: white;}#sk-container-id-2 div.sk-parallel-item:first-child::after {align-self: flex-end;width: 50%;}#sk-container-id-2 div.sk-parallel-item:last-child::after {align-self: flex-start;width: 50%;}#sk-container-id-2 div.sk-parallel-item:only-child::after {width: 0;}#sk-container-id-2 div.sk-dashed-wrapped {border: 1px dashed gray;margin: 0 0.4em 0.5em 0.4em;box-sizing: border-box;padding-bottom: 0.4em;background-color: white;}#sk-container-id-2 div.sk-label label {font-family: monospace;font-weight: bold;display: inline-block;line-height: 1.2em;}#sk-container-id-2 div.sk-label-container {text-align: center;}#sk-container-id-2 div.sk-container {/* jupyter's `normalize.less` sets `[hidden] { display: none; }` but bootstrap.min.css set `[hidden] { display: none !important; }` so we also need the `!important` here to be able to override the default hidden behavior on the sphinx rendered scikit-learn.org. See: https://github.com/scikit-learn/scikit-learn/issues/21755 */display: inline-block !important;position: relative;}#sk-container-id-2 div.sk-text-repr-fallback {display: none;}</style><div id=\"sk-container-id-2\" class=\"sk-top-container\"><div class=\"sk-text-repr-fallback\"><pre>RandomForestClassifier(random_state=42)</pre><b>In a Jupyter environment, please rerun this cell to show the HTML representation or trust the notebook. <br />On GitHub, the HTML representation is unable to render, please try loading this page with nbviewer.org.</b></div><div class=\"sk-container\" hidden><div class=\"sk-item\"><div class=\"sk-estimator sk-toggleable\"><input class=\"sk-toggleable__control sk-hidden--visually\" id=\"sk-estimator-id-2\" type=\"checkbox\" checked><label for=\"sk-estimator-id-2\" class=\"sk-toggleable__label sk-toggleable__label-arrow\">RandomForestClassifier</label><div class=\"sk-toggleable__content\"><pre>RandomForestClassifier(random_state=42)</pre></div></div></div></div></div>"
      ],
      "text/plain": [
       "RandomForestClassifier(random_state=42)"
      ]
     },
     "execution_count": 29,
     "metadata": {},
     "output_type": "execute_result"
    }
   ],
   "source": [
    "clf = RandomForestClassifier(random_state=42)\n",
    "clf.fit(X_train, y_train)"
   ]
  },
  {
   "cell_type": "code",
   "execution_count": 30,
   "id": "4bd1304b",
   "metadata": {
    "execution": {
     "iopub.execute_input": "2023-03-20T11:21:04.751216Z",
     "iopub.status.busy": "2023-03-20T11:21:04.750929Z",
     "iopub.status.idle": "2023-03-20T11:21:04.784524Z",
     "shell.execute_reply": "2023-03-20T11:21:04.783334Z"
    },
    "papermill": {
     "duration": 0.068126,
     "end_time": "2023-03-20T11:21:04.786927",
     "exception": false,
     "start_time": "2023-03-20T11:21:04.718801",
     "status": "completed"
    },
    "tags": []
   },
   "outputs": [
    {
     "name": "stdout",
     "output_type": "stream",
     "text": [
      "              precision    recall  f1-score   support\n",
      "\n",
      "        comp       0.45      0.38      0.41        47\n",
      "        misc       0.00      0.00      0.00         8\n",
      "         rec       0.21      0.12      0.16        49\n",
      "    religion       0.35      0.47      0.40        88\n",
      "         sci       0.28      0.26      0.27        68\n",
      "        talk       0.56      0.62      0.59        95\n",
      "\n",
      "    accuracy                           0.40       355\n",
      "   macro avg       0.31      0.31      0.31       355\n",
      "weighted avg       0.38      0.40      0.39       355\n",
      "\n"
     ]
    }
   ],
   "source": [
    "y_pred = clf.predict(X_test)\n",
    "print(classification_report(y_test, y_pred))"
   ]
  },
  {
   "cell_type": "code",
   "execution_count": 31,
   "id": "43174ba2",
   "metadata": {
    "execution": {
     "iopub.execute_input": "2023-03-20T11:21:04.830977Z",
     "iopub.status.busy": "2023-03-20T11:21:04.830559Z",
     "iopub.status.idle": "2023-03-20T11:21:04.847760Z",
     "shell.execute_reply": "2023-03-20T11:21:04.846976Z"
    },
    "papermill": {
     "duration": 0.042136,
     "end_time": "2023-03-20T11:21:04.849532",
     "exception": false,
     "start_time": "2023-03-20T11:21:04.807396",
     "status": "completed"
    },
    "tags": []
   },
   "outputs": [],
   "source": [
    "acc = accuracy_score(y_test, y_pred)\n",
    "pre = precision_score(y_test, y_pred, average=avg_par)\n",
    "rec = recall_score(y_test, y_pred, average=avg_par)\n",
    "f1 = f1_score(y_test, y_pred, average=avg_par)\n",
    "\n",
    "metrics_data['Global']['RandomForest'] = {'Accuracy': acc, 'Precision': pre, 'Recall': rec, 'F1': f1}"
   ]
  },
  {
   "cell_type": "markdown",
   "id": "22c98ac5",
   "metadata": {
    "papermill": {
     "duration": 0.014303,
     "end_time": "2023-03-20T11:21:04.878951",
     "exception": false,
     "start_time": "2023-03-20T11:21:04.864648",
     "status": "completed"
    },
    "tags": []
   },
   "source": [
    "**LightGBM**"
   ]
  },
  {
   "cell_type": "code",
   "execution_count": 32,
   "id": "c93b818c",
   "metadata": {
    "execution": {
     "iopub.execute_input": "2023-03-20T11:21:04.907965Z",
     "iopub.status.busy": "2023-03-20T11:21:04.907404Z",
     "iopub.status.idle": "2023-03-20T11:21:05.234676Z",
     "shell.execute_reply": "2023-03-20T11:21:05.234021Z"
    },
    "papermill": {
     "duration": 0.343673,
     "end_time": "2023-03-20T11:21:05.236693",
     "exception": false,
     "start_time": "2023-03-20T11:21:04.893020",
     "status": "completed"
    },
    "tags": []
   },
   "outputs": [
    {
     "data": {
      "text/html": [
       "<style>#sk-container-id-3 {color: black;background-color: white;}#sk-container-id-3 pre{padding: 0;}#sk-container-id-3 div.sk-toggleable {background-color: white;}#sk-container-id-3 label.sk-toggleable__label {cursor: pointer;display: block;width: 100%;margin-bottom: 0;padding: 0.3em;box-sizing: border-box;text-align: center;}#sk-container-id-3 label.sk-toggleable__label-arrow:before {content: \"▸\";float: left;margin-right: 0.25em;color: #696969;}#sk-container-id-3 label.sk-toggleable__label-arrow:hover:before {color: black;}#sk-container-id-3 div.sk-estimator:hover label.sk-toggleable__label-arrow:before {color: black;}#sk-container-id-3 div.sk-toggleable__content {max-height: 0;max-width: 0;overflow: hidden;text-align: left;background-color: #f0f8ff;}#sk-container-id-3 div.sk-toggleable__content pre {margin: 0.2em;color: black;border-radius: 0.25em;background-color: #f0f8ff;}#sk-container-id-3 input.sk-toggleable__control:checked~div.sk-toggleable__content {max-height: 200px;max-width: 100%;overflow: auto;}#sk-container-id-3 input.sk-toggleable__control:checked~label.sk-toggleable__label-arrow:before {content: \"▾\";}#sk-container-id-3 div.sk-estimator input.sk-toggleable__control:checked~label.sk-toggleable__label {background-color: #d4ebff;}#sk-container-id-3 div.sk-label input.sk-toggleable__control:checked~label.sk-toggleable__label {background-color: #d4ebff;}#sk-container-id-3 input.sk-hidden--visually {border: 0;clip: rect(1px 1px 1px 1px);clip: rect(1px, 1px, 1px, 1px);height: 1px;margin: -1px;overflow: hidden;padding: 0;position: absolute;width: 1px;}#sk-container-id-3 div.sk-estimator {font-family: monospace;background-color: #f0f8ff;border: 1px dotted black;border-radius: 0.25em;box-sizing: border-box;margin-bottom: 0.5em;}#sk-container-id-3 div.sk-estimator:hover {background-color: #d4ebff;}#sk-container-id-3 div.sk-parallel-item::after {content: \"\";width: 100%;border-bottom: 1px solid gray;flex-grow: 1;}#sk-container-id-3 div.sk-label:hover label.sk-toggleable__label {background-color: #d4ebff;}#sk-container-id-3 div.sk-serial::before {content: \"\";position: absolute;border-left: 1px solid gray;box-sizing: border-box;top: 0;bottom: 0;left: 50%;z-index: 0;}#sk-container-id-3 div.sk-serial {display: flex;flex-direction: column;align-items: center;background-color: white;padding-right: 0.2em;padding-left: 0.2em;position: relative;}#sk-container-id-3 div.sk-item {position: relative;z-index: 1;}#sk-container-id-3 div.sk-parallel {display: flex;align-items: stretch;justify-content: center;background-color: white;position: relative;}#sk-container-id-3 div.sk-item::before, #sk-container-id-3 div.sk-parallel-item::before {content: \"\";position: absolute;border-left: 1px solid gray;box-sizing: border-box;top: 0;bottom: 0;left: 50%;z-index: -1;}#sk-container-id-3 div.sk-parallel-item {display: flex;flex-direction: column;z-index: 1;position: relative;background-color: white;}#sk-container-id-3 div.sk-parallel-item:first-child::after {align-self: flex-end;width: 50%;}#sk-container-id-3 div.sk-parallel-item:last-child::after {align-self: flex-start;width: 50%;}#sk-container-id-3 div.sk-parallel-item:only-child::after {width: 0;}#sk-container-id-3 div.sk-dashed-wrapped {border: 1px dashed gray;margin: 0 0.4em 0.5em 0.4em;box-sizing: border-box;padding-bottom: 0.4em;background-color: white;}#sk-container-id-3 div.sk-label label {font-family: monospace;font-weight: bold;display: inline-block;line-height: 1.2em;}#sk-container-id-3 div.sk-label-container {text-align: center;}#sk-container-id-3 div.sk-container {/* jupyter's `normalize.less` sets `[hidden] { display: none; }` but bootstrap.min.css set `[hidden] { display: none !important; }` so we also need the `!important` here to be able to override the default hidden behavior on the sphinx rendered scikit-learn.org. See: https://github.com/scikit-learn/scikit-learn/issues/21755 */display: inline-block !important;position: relative;}#sk-container-id-3 div.sk-text-repr-fallback {display: none;}</style><div id=\"sk-container-id-3\" class=\"sk-top-container\"><div class=\"sk-text-repr-fallback\"><pre>LGBMClassifier(objective=&#x27;multiclass&#x27;)</pre><b>In a Jupyter environment, please rerun this cell to show the HTML representation or trust the notebook. <br />On GitHub, the HTML representation is unable to render, please try loading this page with nbviewer.org.</b></div><div class=\"sk-container\" hidden><div class=\"sk-item\"><div class=\"sk-estimator sk-toggleable\"><input class=\"sk-toggleable__control sk-hidden--visually\" id=\"sk-estimator-id-3\" type=\"checkbox\" checked><label for=\"sk-estimator-id-3\" class=\"sk-toggleable__label sk-toggleable__label-arrow\">LGBMClassifier</label><div class=\"sk-toggleable__content\"><pre>LGBMClassifier(objective=&#x27;multiclass&#x27;)</pre></div></div></div></div></div>"
      ],
      "text/plain": [
       "LGBMClassifier(objective='multiclass')"
      ]
     },
     "execution_count": 32,
     "metadata": {},
     "output_type": "execute_result"
    }
   ],
   "source": [
    "clf = lgbm.LGBMClassifier(objective=obj_par) \n",
    "clf.fit(X_train, y_train)"
   ]
  },
  {
   "cell_type": "code",
   "execution_count": 33,
   "id": "600a663a",
   "metadata": {
    "execution": {
     "iopub.execute_input": "2023-03-20T11:21:05.265070Z",
     "iopub.status.busy": "2023-03-20T11:21:05.264763Z",
     "iopub.status.idle": "2023-03-20T11:21:05.290525Z",
     "shell.execute_reply": "2023-03-20T11:21:05.289434Z"
    },
    "papermill": {
     "duration": 0.041717,
     "end_time": "2023-03-20T11:21:05.292625",
     "exception": false,
     "start_time": "2023-03-20T11:21:05.250908",
     "status": "completed"
    },
    "tags": []
   },
   "outputs": [
    {
     "name": "stdout",
     "output_type": "stream",
     "text": [
      "              precision    recall  f1-score   support\n",
      "\n",
      "        comp       0.28      0.26      0.27        47\n",
      "        misc       1.00      0.12      0.22         8\n",
      "         rec       0.20      0.16      0.18        49\n",
      "    religion       0.38      0.44      0.41        88\n",
      "         sci       0.21      0.21      0.21        68\n",
      "        talk       0.53      0.57      0.55        95\n",
      "\n",
      "    accuracy                           0.36       355\n",
      "   macro avg       0.43      0.29      0.31       355\n",
      "weighted avg       0.36      0.36      0.35       355\n",
      "\n"
     ]
    }
   ],
   "source": [
    "y_pred = clf.predict(X_test)\n",
    "print(classification_report(y_test, y_pred))"
   ]
  },
  {
   "cell_type": "code",
   "execution_count": 34,
   "id": "508d831d",
   "metadata": {
    "execution": {
     "iopub.execute_input": "2023-03-20T11:21:05.320511Z",
     "iopub.status.busy": "2023-03-20T11:21:05.319878Z",
     "iopub.status.idle": "2023-03-20T11:21:05.334487Z",
     "shell.execute_reply": "2023-03-20T11:21:05.333870Z"
    },
    "papermill": {
     "duration": 0.03167,
     "end_time": "2023-03-20T11:21:05.337376",
     "exception": false,
     "start_time": "2023-03-20T11:21:05.305706",
     "status": "completed"
    },
    "tags": []
   },
   "outputs": [],
   "source": [
    "acc = accuracy_score(y_test, y_pred)\n",
    "pre = precision_score(y_test, y_pred, average=avg_par)\n",
    "rec = recall_score(y_test, y_pred, average=avg_par)\n",
    "f1 = f1_score(y_test, y_pred, average=avg_par)\n",
    "\n",
    "metrics_data['Global']['LightGBM'] = {'Accuracy': acc, 'Precision': pre, 'Recall': rec, 'F1': f1}"
   ]
  },
  {
   "cell_type": "markdown",
   "id": "14b86894",
   "metadata": {
    "papermill": {
     "duration": 0.013158,
     "end_time": "2023-03-20T11:21:05.379718",
     "exception": false,
     "start_time": "2023-03-20T11:21:05.366560",
     "status": "completed"
    },
    "tags": []
   },
   "source": [
    "### Time Series Classification"
   ]
  },
  {
   "cell_type": "markdown",
   "id": "84c55533",
   "metadata": {
    "papermill": {
     "duration": 0.013027,
     "end_time": "2023-03-20T11:21:05.404939",
     "exception": false,
     "start_time": "2023-03-20T11:21:05.391912",
     "status": "completed"
    },
    "tags": []
   },
   "source": [
    "#### Learning Shapelets"
   ]
  },
  {
   "cell_type": "code",
   "execution_count": 35,
   "id": "488d8eb7",
   "metadata": {
    "execution": {
     "iopub.execute_input": "2023-03-20T11:21:05.432631Z",
     "iopub.status.busy": "2023-03-20T11:21:05.432006Z",
     "iopub.status.idle": "2023-03-20T11:21:06.948370Z",
     "shell.execute_reply": "2023-03-20T11:21:06.947441Z"
    },
    "papermill": {
     "duration": 1.533273,
     "end_time": "2023-03-20T11:21:06.951391",
     "exception": false,
     "start_time": "2023-03-20T11:21:05.418118",
     "status": "completed"
    },
    "tags": []
   },
   "outputs": [
    {
     "name": "stderr",
     "output_type": "stream",
     "text": [
      "2023-03-20 12:21:05.439340: I tensorflow/core/platform/cpu_feature_guard.cc:193] This TensorFlow binary is optimized with oneAPI Deep Neural Network Library (oneDNN) to use the following CPU instructions in performance-critical operations:  AVX2 FMA\n",
      "To enable them in other operations, rebuild TensorFlow with the appropriate compiler flags.\n",
      "2023-03-20 12:21:05.598982: W tensorflow/compiler/xla/stream_executor/platform/default/dso_loader.cc:64] Could not load dynamic library 'libcudart.so.11.0'; dlerror: libcudart.so.11.0: cannot open shared object file: No such file or directory\n",
      "2023-03-20 12:21:05.599005: I tensorflow/compiler/xla/stream_executor/cuda/cudart_stub.cc:29] Ignore above cudart dlerror if you do not have a GPU set up on your machine.\n"
     ]
    },
    {
     "name": "stderr",
     "output_type": "stream",
     "text": [
      "2023-03-20 12:21:06.218722: W tensorflow/compiler/xla/stream_executor/platform/default/dso_loader.cc:64] Could not load dynamic library 'libnvinfer.so.7'; dlerror: libnvinfer.so.7: cannot open shared object file: No such file or directory\n",
      "2023-03-20 12:21:06.218800: W tensorflow/compiler/xla/stream_executor/platform/default/dso_loader.cc:64] Could not load dynamic library 'libnvinfer_plugin.so.7'; dlerror: libnvinfer_plugin.so.7: cannot open shared object file: No such file or directory\n",
      "2023-03-20 12:21:06.218809: W tensorflow/compiler/tf2tensorrt/utils/py_utils.cc:38] TF-TRT Warning: Cannot dlopen some TensorRT libraries. If you would like to use Nvidia GPU with TensorRT, please make sure the missing libraries mentioned above are installed properly.\n"
     ]
    }
   ],
   "source": [
    "from tslearn.shapelets import LearningShapelets, grabocka_params_to_shapelet_size_dict"
   ]
  },
  {
   "cell_type": "code",
   "execution_count": 36,
   "id": "eb677959",
   "metadata": {
    "execution": {
     "iopub.execute_input": "2023-03-20T11:21:07.030661Z",
     "iopub.status.busy": "2023-03-20T11:21:07.029411Z",
     "iopub.status.idle": "2023-03-20T11:21:07.036484Z",
     "shell.execute_reply": "2023-03-20T11:21:07.035049Z"
    },
    "papermill": {
     "duration": 0.050016,
     "end_time": "2023-03-20T11:21:07.038523",
     "exception": false,
     "start_time": "2023-03-20T11:21:06.988507",
     "status": "completed"
    },
    "tags": []
   },
   "outputs": [],
   "source": [
    "n_ts, ts_sz, _ = ts_train.shape\n",
    "n_classes = len(set(y_train))"
   ]
  },
  {
   "cell_type": "code",
   "execution_count": 37,
   "id": "776ed3dd",
   "metadata": {
    "execution": {
     "iopub.execute_input": "2023-03-20T11:21:07.067920Z",
     "iopub.status.busy": "2023-03-20T11:21:07.067182Z",
     "iopub.status.idle": "2023-03-20T11:21:07.076065Z",
     "shell.execute_reply": "2023-03-20T11:21:07.074983Z"
    },
    "papermill": {
     "duration": 0.026161,
     "end_time": "2023-03-20T11:21:07.077863",
     "exception": false,
     "start_time": "2023-03-20T11:21:07.051702",
     "status": "completed"
    },
    "tags": []
   },
   "outputs": [
    {
     "name": "stdout",
     "output_type": "stream",
     "text": [
      "n_ts 1420\n",
      "ts_sz 100\n",
      "n_classes 6\n",
      "shapelet_sizes {10: 5}\n"
     ]
    }
   ],
   "source": [
    "# Set the number of shapelets per size as done in the original paper\n",
    "g_shapelet_sizes = grabocka_params_to_shapelet_size_dict(n_ts=n_ts,\n",
    "                                                         ts_sz=ts_sz,\n",
    "                                                         n_classes=n_classes,\n",
    "                                                         l=0.1,\n",
    "                                                         r=1)\n",
    "\n",
    "print('n_ts', n_ts)\n",
    "print('ts_sz', ts_sz)\n",
    "print('n_classes', n_classes)\n",
    "print('shapelet_sizes', g_shapelet_sizes)"
   ]
  },
  {
   "cell_type": "code",
   "execution_count": 38,
   "id": "90ed707e",
   "metadata": {
    "execution": {
     "iopub.execute_input": "2023-03-20T11:21:07.105870Z",
     "iopub.status.busy": "2023-03-20T11:21:07.105029Z",
     "iopub.status.idle": "2023-03-20T11:21:07.113848Z",
     "shell.execute_reply": "2023-03-20T11:21:07.112924Z"
    },
    "papermill": {
     "duration": 0.024969,
     "end_time": "2023-03-20T11:21:07.115767",
     "exception": false,
     "start_time": "2023-03-20T11:21:07.090798",
     "status": "completed"
    },
    "tags": []
   },
   "outputs": [
    {
     "data": {
      "text/plain": [
       "{10: 5, 20: 5, 5: 5}"
      ]
     },
     "execution_count": 38,
     "metadata": {},
     "output_type": "execute_result"
    }
   ],
   "source": [
    "shapelet_sizes = {}\n",
    "for key in g_shapelet_sizes:\n",
    "    shapelet_sizes[key] = g_shapelet_sizes[key]\n",
    "    shapelet_sizes[key*2] = g_shapelet_sizes[key]\n",
    "    shapelet_sizes[key//2] = g_shapelet_sizes[key]\n",
    "shapelet_sizes"
   ]
  },
  {
   "cell_type": "code",
   "execution_count": 39,
   "id": "3507fb9c",
   "metadata": {
    "execution": {
     "iopub.execute_input": "2023-03-20T11:21:07.145332Z",
     "iopub.status.busy": "2023-03-20T11:21:07.144503Z",
     "iopub.status.idle": "2023-03-20T11:21:07.151601Z",
     "shell.execute_reply": "2023-03-20T11:21:07.150577Z"
    },
    "papermill": {
     "duration": 0.023112,
     "end_time": "2023-03-20T11:21:07.153229",
     "exception": false,
     "start_time": "2023-03-20T11:21:07.130117",
     "status": "completed"
    },
    "tags": []
   },
   "outputs": [
    {
     "name": "stderr",
     "output_type": "stream",
     "text": [
      "/home/mattiapggioli/lyrics2ts/.venv/lib/python3.9/site-packages/tslearn/shapelets/shapelets.py:354: FutureWarning: The default value for 'scale' is set to False in version 0.4 to ensure backward compatibility, but is likely to change in a future version.\n",
      "  warnings.warn(\"The default value for 'scale' is set to False \"\n"
     ]
    }
   ],
   "source": [
    "model = LearningShapelets(n_shapelets_per_size=shapelet_sizes,\n",
    "                          optimizer=\"adam\", \n",
    "                          weight_regularizer=.01, \n",
    "                          max_iter=max_iter, verbose=0, random_state=42)"
   ]
  },
  {
   "cell_type": "code",
   "execution_count": 40,
   "id": "73b1fe2e",
   "metadata": {
    "execution": {
     "iopub.execute_input": "2023-03-20T11:21:07.179949Z",
     "iopub.status.busy": "2023-03-20T11:21:07.179357Z",
     "iopub.status.idle": "2023-03-20T11:23:33.108381Z",
     "shell.execute_reply": "2023-03-20T11:23:33.107424Z"
    },
    "papermill": {
     "duration": 145.982048,
     "end_time": "2023-03-20T11:23:33.147739",
     "exception": false,
     "start_time": "2023-03-20T11:21:07.165691",
     "status": "completed"
    },
    "tags": []
   },
   "outputs": [
    {
     "name": "stderr",
     "output_type": "stream",
     "text": [
      "2023-03-20 12:21:07.280083: W tensorflow/compiler/xla/stream_executor/platform/default/dso_loader.cc:64] Could not load dynamic library 'libcuda.so.1'; dlerror: libcuda.so.1: cannot open shared object file: No such file or directory\n",
      "2023-03-20 12:21:07.280111: W tensorflow/compiler/xla/stream_executor/cuda/cuda_driver.cc:265] failed call to cuInit: UNKNOWN ERROR (303)\n",
      "2023-03-20 12:21:07.280134: I tensorflow/compiler/xla/stream_executor/cuda/cuda_diagnostics.cc:156] kernel driver does not appear to be running on this host (mattiapggioli-ThinkPad-E595): /proc/driver/nvidia/version does not exist\n",
      "2023-03-20 12:21:07.280350: I tensorflow/core/platform/cpu_feature_guard.cc:193] This TensorFlow binary is optimized with oneAPI Deep Neural Network Library (oneDNN) to use the following CPU instructions in performance-critical operations:  AVX2 FMA\n",
      "To enable them in other operations, rebuild TensorFlow with the appropriate compiler flags.\n"
     ]
    },
    {
     "name": "stdout",
     "output_type": "stream",
     "text": [
      "CPU times: user 10min 10s, sys: 32.3 s, total: 10min 42s\n",
      "Wall time: 2min 25s\n"
     ]
    },
    {
     "data": {
      "text/html": [
       "<style>#sk-container-id-4 {color: black;background-color: white;}#sk-container-id-4 pre{padding: 0;}#sk-container-id-4 div.sk-toggleable {background-color: white;}#sk-container-id-4 label.sk-toggleable__label {cursor: pointer;display: block;width: 100%;margin-bottom: 0;padding: 0.3em;box-sizing: border-box;text-align: center;}#sk-container-id-4 label.sk-toggleable__label-arrow:before {content: \"▸\";float: left;margin-right: 0.25em;color: #696969;}#sk-container-id-4 label.sk-toggleable__label-arrow:hover:before {color: black;}#sk-container-id-4 div.sk-estimator:hover label.sk-toggleable__label-arrow:before {color: black;}#sk-container-id-4 div.sk-toggleable__content {max-height: 0;max-width: 0;overflow: hidden;text-align: left;background-color: #f0f8ff;}#sk-container-id-4 div.sk-toggleable__content pre {margin: 0.2em;color: black;border-radius: 0.25em;background-color: #f0f8ff;}#sk-container-id-4 input.sk-toggleable__control:checked~div.sk-toggleable__content {max-height: 200px;max-width: 100%;overflow: auto;}#sk-container-id-4 input.sk-toggleable__control:checked~label.sk-toggleable__label-arrow:before {content: \"▾\";}#sk-container-id-4 div.sk-estimator input.sk-toggleable__control:checked~label.sk-toggleable__label {background-color: #d4ebff;}#sk-container-id-4 div.sk-label input.sk-toggleable__control:checked~label.sk-toggleable__label {background-color: #d4ebff;}#sk-container-id-4 input.sk-hidden--visually {border: 0;clip: rect(1px 1px 1px 1px);clip: rect(1px, 1px, 1px, 1px);height: 1px;margin: -1px;overflow: hidden;padding: 0;position: absolute;width: 1px;}#sk-container-id-4 div.sk-estimator {font-family: monospace;background-color: #f0f8ff;border: 1px dotted black;border-radius: 0.25em;box-sizing: border-box;margin-bottom: 0.5em;}#sk-container-id-4 div.sk-estimator:hover {background-color: #d4ebff;}#sk-container-id-4 div.sk-parallel-item::after {content: \"\";width: 100%;border-bottom: 1px solid gray;flex-grow: 1;}#sk-container-id-4 div.sk-label:hover label.sk-toggleable__label {background-color: #d4ebff;}#sk-container-id-4 div.sk-serial::before {content: \"\";position: absolute;border-left: 1px solid gray;box-sizing: border-box;top: 0;bottom: 0;left: 50%;z-index: 0;}#sk-container-id-4 div.sk-serial {display: flex;flex-direction: column;align-items: center;background-color: white;padding-right: 0.2em;padding-left: 0.2em;position: relative;}#sk-container-id-4 div.sk-item {position: relative;z-index: 1;}#sk-container-id-4 div.sk-parallel {display: flex;align-items: stretch;justify-content: center;background-color: white;position: relative;}#sk-container-id-4 div.sk-item::before, #sk-container-id-4 div.sk-parallel-item::before {content: \"\";position: absolute;border-left: 1px solid gray;box-sizing: border-box;top: 0;bottom: 0;left: 50%;z-index: -1;}#sk-container-id-4 div.sk-parallel-item {display: flex;flex-direction: column;z-index: 1;position: relative;background-color: white;}#sk-container-id-4 div.sk-parallel-item:first-child::after {align-self: flex-end;width: 50%;}#sk-container-id-4 div.sk-parallel-item:last-child::after {align-self: flex-start;width: 50%;}#sk-container-id-4 div.sk-parallel-item:only-child::after {width: 0;}#sk-container-id-4 div.sk-dashed-wrapped {border: 1px dashed gray;margin: 0 0.4em 0.5em 0.4em;box-sizing: border-box;padding-bottom: 0.4em;background-color: white;}#sk-container-id-4 div.sk-label label {font-family: monospace;font-weight: bold;display: inline-block;line-height: 1.2em;}#sk-container-id-4 div.sk-label-container {text-align: center;}#sk-container-id-4 div.sk-container {/* jupyter's `normalize.less` sets `[hidden] { display: none; }` but bootstrap.min.css set `[hidden] { display: none !important; }` so we also need the `!important` here to be able to override the default hidden behavior on the sphinx rendered scikit-learn.org. See: https://github.com/scikit-learn/scikit-learn/issues/21755 */display: inline-block !important;position: relative;}#sk-container-id-4 div.sk-text-repr-fallback {display: none;}</style><div id=\"sk-container-id-4\" class=\"sk-top-container\"><div class=\"sk-text-repr-fallback\"><pre>LearningShapelets(max_iter=2000, n_shapelets_per_size={5: 5, 10: 5, 20: 5},\n",
       "                  optimizer=&#x27;adam&#x27;, random_state=42, weight_regularizer=0.01)</pre><b>In a Jupyter environment, please rerun this cell to show the HTML representation or trust the notebook. <br />On GitHub, the HTML representation is unable to render, please try loading this page with nbviewer.org.</b></div><div class=\"sk-container\" hidden><div class=\"sk-item\"><div class=\"sk-estimator sk-toggleable\"><input class=\"sk-toggleable__control sk-hidden--visually\" id=\"sk-estimator-id-4\" type=\"checkbox\" checked><label for=\"sk-estimator-id-4\" class=\"sk-toggleable__label sk-toggleable__label-arrow\">LearningShapelets</label><div class=\"sk-toggleable__content\"><pre>LearningShapelets(max_iter=2000, n_shapelets_per_size={5: 5, 10: 5, 20: 5},\n",
       "                  optimizer=&#x27;adam&#x27;, random_state=42, weight_regularizer=0.01)</pre></div></div></div></div></div>"
      ],
      "text/plain": [
       "LearningShapelets(max_iter=2000, n_shapelets_per_size={5: 5, 10: 5, 20: 5},\n",
       "                  optimizer='adam', random_state=42, weight_regularizer=0.01)"
      ]
     },
     "execution_count": 40,
     "metadata": {},
     "output_type": "execute_result"
    }
   ],
   "source": [
    "%%time\n",
    "model.fit(ts_train, y_train)"
   ]
  },
  {
   "cell_type": "code",
   "execution_count": 41,
   "id": "51706baa",
   "metadata": {
    "execution": {
     "iopub.execute_input": "2023-03-20T11:23:33.186429Z",
     "iopub.status.busy": "2023-03-20T11:23:33.185533Z",
     "iopub.status.idle": "2023-03-20T11:23:33.217316Z",
     "shell.execute_reply": "2023-03-20T11:23:33.216037Z"
    },
    "papermill": {
     "duration": 0.048422,
     "end_time": "2023-03-20T11:23:33.219447",
     "exception": false,
     "start_time": "2023-03-20T11:23:33.171025",
     "status": "completed"
    },
    "tags": []
   },
   "outputs": [],
   "source": [
    "model.to_pickle(f'{data_path}/shapelets.pkl')"
   ]
  },
  {
   "cell_type": "markdown",
   "id": "309f70dc",
   "metadata": {
    "papermill": {
     "duration": 0.014216,
     "end_time": "2023-03-20T11:23:33.248898",
     "exception": false,
     "start_time": "2023-03-20T11:23:33.234682",
     "status": "completed"
    },
    "tags": []
   },
   "source": [
    "#### Shapelet-Based Classification"
   ]
  },
  {
   "cell_type": "code",
   "execution_count": 42,
   "id": "60125dff",
   "metadata": {
    "execution": {
     "iopub.execute_input": "2023-03-20T11:23:33.279017Z",
     "iopub.status.busy": "2023-03-20T11:23:33.278129Z",
     "iopub.status.idle": "2023-03-20T11:23:33.283382Z",
     "shell.execute_reply": "2023-03-20T11:23:33.282435Z"
    },
    "papermill": {
     "duration": 0.022826,
     "end_time": "2023-03-20T11:23:33.285175",
     "exception": false,
     "start_time": "2023-03-20T11:23:33.262349",
     "status": "completed"
    },
    "tags": []
   },
   "outputs": [],
   "source": [
    "metrics_data['Shapelets'] = {}"
   ]
  },
  {
   "cell_type": "code",
   "execution_count": 43,
   "id": "efb8984d",
   "metadata": {
    "execution": {
     "iopub.execute_input": "2023-03-20T11:23:33.315079Z",
     "iopub.status.busy": "2023-03-20T11:23:33.314620Z",
     "iopub.status.idle": "2023-03-20T11:23:33.746274Z",
     "shell.execute_reply": "2023-03-20T11:23:33.745609Z"
    },
    "papermill": {
     "duration": 0.449792,
     "end_time": "2023-03-20T11:23:33.749002",
     "exception": false,
     "start_time": "2023-03-20T11:23:33.299210",
     "status": "completed"
    },
    "tags": []
   },
   "outputs": [],
   "source": [
    "X_train = model.transform(ts_train)\n",
    "X_test = model.transform(ts_test)"
   ]
  },
  {
   "cell_type": "code",
   "execution_count": 44,
   "id": "2e6c0f22",
   "metadata": {
    "execution": {
     "iopub.execute_input": "2023-03-20T11:23:33.780158Z",
     "iopub.status.busy": "2023-03-20T11:23:33.779746Z",
     "iopub.status.idle": "2023-03-20T11:23:33.801779Z",
     "shell.execute_reply": "2023-03-20T11:23:33.800991Z"
    },
    "papermill": {
     "duration": 0.038863,
     "end_time": "2023-03-20T11:23:33.803901",
     "exception": false,
     "start_time": "2023-03-20T11:23:33.765038",
     "status": "completed"
    },
    "tags": []
   },
   "outputs": [
    {
     "data": {
      "text/html": [
       "<div>\n",
       "<style scoped>\n",
       "    .dataframe tbody tr th:only-of-type {\n",
       "        vertical-align: middle;\n",
       "    }\n",
       "\n",
       "    .dataframe tbody tr th {\n",
       "        vertical-align: top;\n",
       "    }\n",
       "\n",
       "    .dataframe thead th {\n",
       "        text-align: right;\n",
       "    }\n",
       "</style>\n",
       "<table border=\"1\" class=\"dataframe\">\n",
       "  <thead>\n",
       "    <tr style=\"text-align: right;\">\n",
       "      <th></th>\n",
       "      <th>0</th>\n",
       "      <th>1</th>\n",
       "      <th>2</th>\n",
       "      <th>3</th>\n",
       "      <th>4</th>\n",
       "      <th>5</th>\n",
       "      <th>6</th>\n",
       "      <th>7</th>\n",
       "      <th>8</th>\n",
       "      <th>9</th>\n",
       "      <th>10</th>\n",
       "      <th>11</th>\n",
       "      <th>12</th>\n",
       "      <th>13</th>\n",
       "      <th>14</th>\n",
       "    </tr>\n",
       "  </thead>\n",
       "  <tbody>\n",
       "    <tr>\n",
       "      <th>0</th>\n",
       "      <td>2.739296</td>\n",
       "      <td>0.048472</td>\n",
       "      <td>4.195939</td>\n",
       "      <td>1.438014</td>\n",
       "      <td>2.172968</td>\n",
       "      <td>1.467056</td>\n",
       "      <td>3.188551</td>\n",
       "      <td>2.929323</td>\n",
       "      <td>1.486288</td>\n",
       "      <td>3.513220</td>\n",
       "      <td>3.630978</td>\n",
       "      <td>3.913224</td>\n",
       "      <td>0.445186</td>\n",
       "      <td>2.817219</td>\n",
       "      <td>4.274701</td>\n",
       "    </tr>\n",
       "    <tr>\n",
       "      <th>1</th>\n",
       "      <td>2.636907</td>\n",
       "      <td>0.073756</td>\n",
       "      <td>3.089695</td>\n",
       "      <td>2.094285</td>\n",
       "      <td>2.588899</td>\n",
       "      <td>1.965640</td>\n",
       "      <td>2.582522</td>\n",
       "      <td>2.415015</td>\n",
       "      <td>2.333217</td>\n",
       "      <td>2.818460</td>\n",
       "      <td>4.667645</td>\n",
       "      <td>4.910792</td>\n",
       "      <td>0.754813</td>\n",
       "      <td>3.613178</td>\n",
       "      <td>5.397087</td>\n",
       "    </tr>\n",
       "    <tr>\n",
       "      <th>2</th>\n",
       "      <td>3.693684</td>\n",
       "      <td>0.030061</td>\n",
       "      <td>4.011331</td>\n",
       "      <td>2.493528</td>\n",
       "      <td>2.843284</td>\n",
       "      <td>2.104489</td>\n",
       "      <td>3.005494</td>\n",
       "      <td>2.697436</td>\n",
       "      <td>2.068036</td>\n",
       "      <td>3.194296</td>\n",
       "      <td>4.364811</td>\n",
       "      <td>4.595304</td>\n",
       "      <td>0.680038</td>\n",
       "      <td>3.359597</td>\n",
       "      <td>5.069408</td>\n",
       "    </tr>\n",
       "    <tr>\n",
       "      <th>3</th>\n",
       "      <td>2.783647</td>\n",
       "      <td>0.024585</td>\n",
       "      <td>2.943128</td>\n",
       "      <td>1.586481</td>\n",
       "      <td>2.126192</td>\n",
       "      <td>1.617400</td>\n",
       "      <td>2.091778</td>\n",
       "      <td>1.922897</td>\n",
       "      <td>1.450558</td>\n",
       "      <td>2.264197</td>\n",
       "      <td>3.582697</td>\n",
       "      <td>3.736275</td>\n",
       "      <td>0.543433</td>\n",
       "      <td>2.675833</td>\n",
       "      <td>4.221006</td>\n",
       "    </tr>\n",
       "    <tr>\n",
       "      <th>4</th>\n",
       "      <td>2.919305</td>\n",
       "      <td>0.043050</td>\n",
       "      <td>2.949677</td>\n",
       "      <td>2.487181</td>\n",
       "      <td>2.853929</td>\n",
       "      <td>2.186720</td>\n",
       "      <td>2.180920</td>\n",
       "      <td>2.008768</td>\n",
       "      <td>2.230531</td>\n",
       "      <td>2.313263</td>\n",
       "      <td>4.916361</td>\n",
       "      <td>5.164777</td>\n",
       "      <td>0.874110</td>\n",
       "      <td>3.859422</td>\n",
       "      <td>5.673063</td>\n",
       "    </tr>\n",
       "    <tr>\n",
       "      <th>...</th>\n",
       "      <td>...</td>\n",
       "      <td>...</td>\n",
       "      <td>...</td>\n",
       "      <td>...</td>\n",
       "      <td>...</td>\n",
       "      <td>...</td>\n",
       "      <td>...</td>\n",
       "      <td>...</td>\n",
       "      <td>...</td>\n",
       "      <td>...</td>\n",
       "      <td>...</td>\n",
       "      <td>...</td>\n",
       "      <td>...</td>\n",
       "      <td>...</td>\n",
       "      <td>...</td>\n",
       "    </tr>\n",
       "    <tr>\n",
       "      <th>350</th>\n",
       "      <td>2.916853</td>\n",
       "      <td>0.064394</td>\n",
       "      <td>3.114336</td>\n",
       "      <td>2.484538</td>\n",
       "      <td>2.672470</td>\n",
       "      <td>2.132246</td>\n",
       "      <td>2.365728</td>\n",
       "      <td>2.162400</td>\n",
       "      <td>2.191968</td>\n",
       "      <td>2.566847</td>\n",
       "      <td>4.715203</td>\n",
       "      <td>4.970136</td>\n",
       "      <td>0.792450</td>\n",
       "      <td>3.733187</td>\n",
       "      <td>5.457757</td>\n",
       "    </tr>\n",
       "    <tr>\n",
       "      <th>351</th>\n",
       "      <td>3.011707</td>\n",
       "      <td>0.032030</td>\n",
       "      <td>2.805776</td>\n",
       "      <td>1.599836</td>\n",
       "      <td>2.456037</td>\n",
       "      <td>1.680933</td>\n",
       "      <td>2.833954</td>\n",
       "      <td>2.497151</td>\n",
       "      <td>1.442284</td>\n",
       "      <td>2.950276</td>\n",
       "      <td>3.796608</td>\n",
       "      <td>3.953791</td>\n",
       "      <td>0.531065</td>\n",
       "      <td>2.816362</td>\n",
       "      <td>4.447541</td>\n",
       "    </tr>\n",
       "    <tr>\n",
       "      <th>352</th>\n",
       "      <td>2.781123</td>\n",
       "      <td>0.032775</td>\n",
       "      <td>3.202541</td>\n",
       "      <td>1.641232</td>\n",
       "      <td>2.026924</td>\n",
       "      <td>1.358031</td>\n",
       "      <td>2.662529</td>\n",
       "      <td>2.439348</td>\n",
       "      <td>1.499124</td>\n",
       "      <td>2.911848</td>\n",
       "      <td>3.586226</td>\n",
       "      <td>3.829125</td>\n",
       "      <td>0.539278</td>\n",
       "      <td>2.688197</td>\n",
       "      <td>4.229704</td>\n",
       "    </tr>\n",
       "    <tr>\n",
       "      <th>353</th>\n",
       "      <td>3.359635</td>\n",
       "      <td>0.021997</td>\n",
       "      <td>3.431674</td>\n",
       "      <td>1.975188</td>\n",
       "      <td>2.564829</td>\n",
       "      <td>1.937074</td>\n",
       "      <td>2.537390</td>\n",
       "      <td>2.486969</td>\n",
       "      <td>1.654796</td>\n",
       "      <td>2.774821</td>\n",
       "      <td>4.343298</td>\n",
       "      <td>4.637531</td>\n",
       "      <td>0.721174</td>\n",
       "      <td>3.347059</td>\n",
       "      <td>5.050859</td>\n",
       "    </tr>\n",
       "    <tr>\n",
       "      <th>354</th>\n",
       "      <td>2.933389</td>\n",
       "      <td>0.106955</td>\n",
       "      <td>3.268209</td>\n",
       "      <td>1.986426</td>\n",
       "      <td>2.418944</td>\n",
       "      <td>2.044097</td>\n",
       "      <td>2.394861</td>\n",
       "      <td>2.200544</td>\n",
       "      <td>1.919879</td>\n",
       "      <td>2.568388</td>\n",
       "      <td>4.692719</td>\n",
       "      <td>5.023086</td>\n",
       "      <td>0.827001</td>\n",
       "      <td>3.717450</td>\n",
       "      <td>5.421829</td>\n",
       "    </tr>\n",
       "  </tbody>\n",
       "</table>\n",
       "<p>355 rows × 15 columns</p>\n",
       "</div>"
      ],
      "text/plain": [
       "           0         1         2         3         4         5         6   \\\n",
       "0    2.739296  0.048472  4.195939  1.438014  2.172968  1.467056  3.188551   \n",
       "1    2.636907  0.073756  3.089695  2.094285  2.588899  1.965640  2.582522   \n",
       "2    3.693684  0.030061  4.011331  2.493528  2.843284  2.104489  3.005494   \n",
       "3    2.783647  0.024585  2.943128  1.586481  2.126192  1.617400  2.091778   \n",
       "4    2.919305  0.043050  2.949677  2.487181  2.853929  2.186720  2.180920   \n",
       "..        ...       ...       ...       ...       ...       ...       ...   \n",
       "350  2.916853  0.064394  3.114336  2.484538  2.672470  2.132246  2.365728   \n",
       "351  3.011707  0.032030  2.805776  1.599836  2.456037  1.680933  2.833954   \n",
       "352  2.781123  0.032775  3.202541  1.641232  2.026924  1.358031  2.662529   \n",
       "353  3.359635  0.021997  3.431674  1.975188  2.564829  1.937074  2.537390   \n",
       "354  2.933389  0.106955  3.268209  1.986426  2.418944  2.044097  2.394861   \n",
       "\n",
       "           7         8         9         10        11        12        13  \\\n",
       "0    2.929323  1.486288  3.513220  3.630978  3.913224  0.445186  2.817219   \n",
       "1    2.415015  2.333217  2.818460  4.667645  4.910792  0.754813  3.613178   \n",
       "2    2.697436  2.068036  3.194296  4.364811  4.595304  0.680038  3.359597   \n",
       "3    1.922897  1.450558  2.264197  3.582697  3.736275  0.543433  2.675833   \n",
       "4    2.008768  2.230531  2.313263  4.916361  5.164777  0.874110  3.859422   \n",
       "..        ...       ...       ...       ...       ...       ...       ...   \n",
       "350  2.162400  2.191968  2.566847  4.715203  4.970136  0.792450  3.733187   \n",
       "351  2.497151  1.442284  2.950276  3.796608  3.953791  0.531065  2.816362   \n",
       "352  2.439348  1.499124  2.911848  3.586226  3.829125  0.539278  2.688197   \n",
       "353  2.486969  1.654796  2.774821  4.343298  4.637531  0.721174  3.347059   \n",
       "354  2.200544  1.919879  2.568388  4.692719  5.023086  0.827001  3.717450   \n",
       "\n",
       "           14  \n",
       "0    4.274701  \n",
       "1    5.397087  \n",
       "2    5.069408  \n",
       "3    4.221006  \n",
       "4    5.673063  \n",
       "..        ...  \n",
       "350  5.457757  \n",
       "351  4.447541  \n",
       "352  4.229704  \n",
       "353  5.050859  \n",
       "354  5.421829  \n",
       "\n",
       "[355 rows x 15 columns]"
      ]
     },
     "execution_count": 44,
     "metadata": {},
     "output_type": "execute_result"
    }
   ],
   "source": [
    "pd.DataFrame(X_test)"
   ]
  },
  {
   "cell_type": "markdown",
   "id": "5fa024f7",
   "metadata": {
    "execution": {
     "iopub.execute_input": "2023-02-07T23:47:19.876941Z",
     "iopub.status.busy": "2023-02-07T23:47:19.876424Z",
     "iopub.status.idle": "2023-02-07T23:47:20.399488Z",
     "shell.execute_reply": "2023-02-07T23:47:20.398142Z"
    },
    "papermill": {
     "duration": 0.013341,
     "end_time": "2023-03-20T11:23:33.833265",
     "exception": false,
     "start_time": "2023-03-20T11:23:33.819924",
     "status": "completed"
    },
    "tags": []
   },
   "source": [
    "**Decision Tree**"
   ]
  },
  {
   "cell_type": "code",
   "execution_count": 45,
   "id": "4f5400c9",
   "metadata": {
    "execution": {
     "iopub.execute_input": "2023-03-20T11:23:33.861777Z",
     "iopub.status.busy": "2023-03-20T11:23:33.861484Z",
     "iopub.status.idle": "2023-03-20T11:23:33.889793Z",
     "shell.execute_reply": "2023-03-20T11:23:33.889003Z"
    },
    "papermill": {
     "duration": 0.045039,
     "end_time": "2023-03-20T11:23:33.891739",
     "exception": false,
     "start_time": "2023-03-20T11:23:33.846700",
     "status": "completed"
    },
    "tags": []
   },
   "outputs": [
    {
     "data": {
      "text/html": [
       "<style>#sk-container-id-5 {color: black;background-color: white;}#sk-container-id-5 pre{padding: 0;}#sk-container-id-5 div.sk-toggleable {background-color: white;}#sk-container-id-5 label.sk-toggleable__label {cursor: pointer;display: block;width: 100%;margin-bottom: 0;padding: 0.3em;box-sizing: border-box;text-align: center;}#sk-container-id-5 label.sk-toggleable__label-arrow:before {content: \"▸\";float: left;margin-right: 0.25em;color: #696969;}#sk-container-id-5 label.sk-toggleable__label-arrow:hover:before {color: black;}#sk-container-id-5 div.sk-estimator:hover label.sk-toggleable__label-arrow:before {color: black;}#sk-container-id-5 div.sk-toggleable__content {max-height: 0;max-width: 0;overflow: hidden;text-align: left;background-color: #f0f8ff;}#sk-container-id-5 div.sk-toggleable__content pre {margin: 0.2em;color: black;border-radius: 0.25em;background-color: #f0f8ff;}#sk-container-id-5 input.sk-toggleable__control:checked~div.sk-toggleable__content {max-height: 200px;max-width: 100%;overflow: auto;}#sk-container-id-5 input.sk-toggleable__control:checked~label.sk-toggleable__label-arrow:before {content: \"▾\";}#sk-container-id-5 div.sk-estimator input.sk-toggleable__control:checked~label.sk-toggleable__label {background-color: #d4ebff;}#sk-container-id-5 div.sk-label input.sk-toggleable__control:checked~label.sk-toggleable__label {background-color: #d4ebff;}#sk-container-id-5 input.sk-hidden--visually {border: 0;clip: rect(1px 1px 1px 1px);clip: rect(1px, 1px, 1px, 1px);height: 1px;margin: -1px;overflow: hidden;padding: 0;position: absolute;width: 1px;}#sk-container-id-5 div.sk-estimator {font-family: monospace;background-color: #f0f8ff;border: 1px dotted black;border-radius: 0.25em;box-sizing: border-box;margin-bottom: 0.5em;}#sk-container-id-5 div.sk-estimator:hover {background-color: #d4ebff;}#sk-container-id-5 div.sk-parallel-item::after {content: \"\";width: 100%;border-bottom: 1px solid gray;flex-grow: 1;}#sk-container-id-5 div.sk-label:hover label.sk-toggleable__label {background-color: #d4ebff;}#sk-container-id-5 div.sk-serial::before {content: \"\";position: absolute;border-left: 1px solid gray;box-sizing: border-box;top: 0;bottom: 0;left: 50%;z-index: 0;}#sk-container-id-5 div.sk-serial {display: flex;flex-direction: column;align-items: center;background-color: white;padding-right: 0.2em;padding-left: 0.2em;position: relative;}#sk-container-id-5 div.sk-item {position: relative;z-index: 1;}#sk-container-id-5 div.sk-parallel {display: flex;align-items: stretch;justify-content: center;background-color: white;position: relative;}#sk-container-id-5 div.sk-item::before, #sk-container-id-5 div.sk-parallel-item::before {content: \"\";position: absolute;border-left: 1px solid gray;box-sizing: border-box;top: 0;bottom: 0;left: 50%;z-index: -1;}#sk-container-id-5 div.sk-parallel-item {display: flex;flex-direction: column;z-index: 1;position: relative;background-color: white;}#sk-container-id-5 div.sk-parallel-item:first-child::after {align-self: flex-end;width: 50%;}#sk-container-id-5 div.sk-parallel-item:last-child::after {align-self: flex-start;width: 50%;}#sk-container-id-5 div.sk-parallel-item:only-child::after {width: 0;}#sk-container-id-5 div.sk-dashed-wrapped {border: 1px dashed gray;margin: 0 0.4em 0.5em 0.4em;box-sizing: border-box;padding-bottom: 0.4em;background-color: white;}#sk-container-id-5 div.sk-label label {font-family: monospace;font-weight: bold;display: inline-block;line-height: 1.2em;}#sk-container-id-5 div.sk-label-container {text-align: center;}#sk-container-id-5 div.sk-container {/* jupyter's `normalize.less` sets `[hidden] { display: none; }` but bootstrap.min.css set `[hidden] { display: none !important; }` so we also need the `!important` here to be able to override the default hidden behavior on the sphinx rendered scikit-learn.org. See: https://github.com/scikit-learn/scikit-learn/issues/21755 */display: inline-block !important;position: relative;}#sk-container-id-5 div.sk-text-repr-fallback {display: none;}</style><div id=\"sk-container-id-5\" class=\"sk-top-container\"><div class=\"sk-text-repr-fallback\"><pre>DecisionTreeClassifier(random_state=42)</pre><b>In a Jupyter environment, please rerun this cell to show the HTML representation or trust the notebook. <br />On GitHub, the HTML representation is unable to render, please try loading this page with nbviewer.org.</b></div><div class=\"sk-container\" hidden><div class=\"sk-item\"><div class=\"sk-estimator sk-toggleable\"><input class=\"sk-toggleable__control sk-hidden--visually\" id=\"sk-estimator-id-5\" type=\"checkbox\" checked><label for=\"sk-estimator-id-5\" class=\"sk-toggleable__label sk-toggleable__label-arrow\">DecisionTreeClassifier</label><div class=\"sk-toggleable__content\"><pre>DecisionTreeClassifier(random_state=42)</pre></div></div></div></div></div>"
      ],
      "text/plain": [
       "DecisionTreeClassifier(random_state=42)"
      ]
     },
     "execution_count": 45,
     "metadata": {},
     "output_type": "execute_result"
    }
   ],
   "source": [
    "clf = DecisionTreeClassifier(random_state=42)\n",
    "clf.fit(X_train, y_train)"
   ]
  },
  {
   "cell_type": "code",
   "execution_count": 46,
   "id": "3b56d190",
   "metadata": {
    "execution": {
     "iopub.execute_input": "2023-03-20T11:23:33.923796Z",
     "iopub.status.busy": "2023-03-20T11:23:33.922875Z",
     "iopub.status.idle": "2023-03-20T11:23:33.951703Z",
     "shell.execute_reply": "2023-03-20T11:23:33.950434Z"
    },
    "papermill": {
     "duration": 0.045386,
     "end_time": "2023-03-20T11:23:33.953690",
     "exception": false,
     "start_time": "2023-03-20T11:23:33.908304",
     "status": "completed"
    },
    "tags": []
   },
   "outputs": [
    {
     "name": "stdout",
     "output_type": "stream",
     "text": [
      "              precision    recall  f1-score   support\n",
      "\n",
      "        comp       0.33      0.32      0.33        47\n",
      "        misc       0.11      0.12      0.12         8\n",
      "         rec       0.21      0.22      0.22        49\n",
      "    religion       0.27      0.31      0.29        88\n",
      "         sci       0.25      0.26      0.26        68\n",
      "        talk       0.49      0.39      0.43        95\n",
      "\n",
      "    accuracy                           0.31       355\n",
      "   macro avg       0.28      0.27      0.27       355\n",
      "weighted avg       0.32      0.31      0.31       355\n",
      "\n"
     ]
    }
   ],
   "source": [
    "y_pred = clf.predict(X_test)\n",
    "print(classification_report(y_test, y_pred))"
   ]
  },
  {
   "cell_type": "code",
   "execution_count": 47,
   "id": "42bc91ff",
   "metadata": {
    "execution": {
     "iopub.execute_input": "2023-03-20T11:23:33.984663Z",
     "iopub.status.busy": "2023-03-20T11:23:33.984219Z",
     "iopub.status.idle": "2023-03-20T11:23:33.990452Z",
     "shell.execute_reply": "2023-03-20T11:23:33.989379Z"
    },
    "papermill": {
     "duration": 0.022653,
     "end_time": "2023-03-20T11:23:33.992154",
     "exception": false,
     "start_time": "2023-03-20T11:23:33.969501",
     "status": "completed"
    },
    "tags": []
   },
   "outputs": [],
   "source": [
    "pickle.dump(clf, open(f'{data_path}/decision_tree.pkl', 'wb'))"
   ]
  },
  {
   "cell_type": "code",
   "execution_count": 48,
   "id": "ea9be210",
   "metadata": {
    "execution": {
     "iopub.execute_input": "2023-03-20T11:23:34.021379Z",
     "iopub.status.busy": "2023-03-20T11:23:34.020793Z",
     "iopub.status.idle": "2023-03-20T11:23:34.046128Z",
     "shell.execute_reply": "2023-03-20T11:23:34.044916Z"
    },
    "papermill": {
     "duration": 0.042533,
     "end_time": "2023-03-20T11:23:34.048109",
     "exception": false,
     "start_time": "2023-03-20T11:23:34.005576",
     "status": "completed"
    },
    "tags": []
   },
   "outputs": [],
   "source": [
    "acc = accuracy_score(y_test, y_pred)\n",
    "pre = precision_score(y_test, y_pred, average=avg_par)\n",
    "rec = recall_score(y_test, y_pred, average=avg_par)\n",
    "f1 = f1_score(y_test, y_pred, average=avg_par)\n",
    "\n",
    "metrics_data['Shapelets']['DecisionTree'] = {'Accuracy': acc, 'Precision': pre, 'Recall': rec, 'F1': f1}"
   ]
  },
  {
   "cell_type": "markdown",
   "id": "3ca3443b",
   "metadata": {
    "papermill": {
     "duration": 0.013136,
     "end_time": "2023-03-20T11:23:34.076743",
     "exception": false,
     "start_time": "2023-03-20T11:23:34.063607",
     "status": "completed"
    },
    "tags": []
   },
   "source": [
    "**Random Forest**"
   ]
  },
  {
   "cell_type": "code",
   "execution_count": 49,
   "id": "37795e21",
   "metadata": {
    "execution": {
     "iopub.execute_input": "2023-03-20T11:23:34.107570Z",
     "iopub.status.busy": "2023-03-20T11:23:34.106944Z",
     "iopub.status.idle": "2023-03-20T11:23:34.568171Z",
     "shell.execute_reply": "2023-03-20T11:23:34.567240Z"
    },
    "papermill": {
     "duration": 0.480141,
     "end_time": "2023-03-20T11:23:34.571025",
     "exception": false,
     "start_time": "2023-03-20T11:23:34.090884",
     "status": "completed"
    },
    "tags": []
   },
   "outputs": [
    {
     "data": {
      "text/html": [
       "<style>#sk-container-id-6 {color: black;background-color: white;}#sk-container-id-6 pre{padding: 0;}#sk-container-id-6 div.sk-toggleable {background-color: white;}#sk-container-id-6 label.sk-toggleable__label {cursor: pointer;display: block;width: 100%;margin-bottom: 0;padding: 0.3em;box-sizing: border-box;text-align: center;}#sk-container-id-6 label.sk-toggleable__label-arrow:before {content: \"▸\";float: left;margin-right: 0.25em;color: #696969;}#sk-container-id-6 label.sk-toggleable__label-arrow:hover:before {color: black;}#sk-container-id-6 div.sk-estimator:hover label.sk-toggleable__label-arrow:before {color: black;}#sk-container-id-6 div.sk-toggleable__content {max-height: 0;max-width: 0;overflow: hidden;text-align: left;background-color: #f0f8ff;}#sk-container-id-6 div.sk-toggleable__content pre {margin: 0.2em;color: black;border-radius: 0.25em;background-color: #f0f8ff;}#sk-container-id-6 input.sk-toggleable__control:checked~div.sk-toggleable__content {max-height: 200px;max-width: 100%;overflow: auto;}#sk-container-id-6 input.sk-toggleable__control:checked~label.sk-toggleable__label-arrow:before {content: \"▾\";}#sk-container-id-6 div.sk-estimator input.sk-toggleable__control:checked~label.sk-toggleable__label {background-color: #d4ebff;}#sk-container-id-6 div.sk-label input.sk-toggleable__control:checked~label.sk-toggleable__label {background-color: #d4ebff;}#sk-container-id-6 input.sk-hidden--visually {border: 0;clip: rect(1px 1px 1px 1px);clip: rect(1px, 1px, 1px, 1px);height: 1px;margin: -1px;overflow: hidden;padding: 0;position: absolute;width: 1px;}#sk-container-id-6 div.sk-estimator {font-family: monospace;background-color: #f0f8ff;border: 1px dotted black;border-radius: 0.25em;box-sizing: border-box;margin-bottom: 0.5em;}#sk-container-id-6 div.sk-estimator:hover {background-color: #d4ebff;}#sk-container-id-6 div.sk-parallel-item::after {content: \"\";width: 100%;border-bottom: 1px solid gray;flex-grow: 1;}#sk-container-id-6 div.sk-label:hover label.sk-toggleable__label {background-color: #d4ebff;}#sk-container-id-6 div.sk-serial::before {content: \"\";position: absolute;border-left: 1px solid gray;box-sizing: border-box;top: 0;bottom: 0;left: 50%;z-index: 0;}#sk-container-id-6 div.sk-serial {display: flex;flex-direction: column;align-items: center;background-color: white;padding-right: 0.2em;padding-left: 0.2em;position: relative;}#sk-container-id-6 div.sk-item {position: relative;z-index: 1;}#sk-container-id-6 div.sk-parallel {display: flex;align-items: stretch;justify-content: center;background-color: white;position: relative;}#sk-container-id-6 div.sk-item::before, #sk-container-id-6 div.sk-parallel-item::before {content: \"\";position: absolute;border-left: 1px solid gray;box-sizing: border-box;top: 0;bottom: 0;left: 50%;z-index: -1;}#sk-container-id-6 div.sk-parallel-item {display: flex;flex-direction: column;z-index: 1;position: relative;background-color: white;}#sk-container-id-6 div.sk-parallel-item:first-child::after {align-self: flex-end;width: 50%;}#sk-container-id-6 div.sk-parallel-item:last-child::after {align-self: flex-start;width: 50%;}#sk-container-id-6 div.sk-parallel-item:only-child::after {width: 0;}#sk-container-id-6 div.sk-dashed-wrapped {border: 1px dashed gray;margin: 0 0.4em 0.5em 0.4em;box-sizing: border-box;padding-bottom: 0.4em;background-color: white;}#sk-container-id-6 div.sk-label label {font-family: monospace;font-weight: bold;display: inline-block;line-height: 1.2em;}#sk-container-id-6 div.sk-label-container {text-align: center;}#sk-container-id-6 div.sk-container {/* jupyter's `normalize.less` sets `[hidden] { display: none; }` but bootstrap.min.css set `[hidden] { display: none !important; }` so we also need the `!important` here to be able to override the default hidden behavior on the sphinx rendered scikit-learn.org. See: https://github.com/scikit-learn/scikit-learn/issues/21755 */display: inline-block !important;position: relative;}#sk-container-id-6 div.sk-text-repr-fallback {display: none;}</style><div id=\"sk-container-id-6\" class=\"sk-top-container\"><div class=\"sk-text-repr-fallback\"><pre>RandomForestClassifier(random_state=42)</pre><b>In a Jupyter environment, please rerun this cell to show the HTML representation or trust the notebook. <br />On GitHub, the HTML representation is unable to render, please try loading this page with nbviewer.org.</b></div><div class=\"sk-container\" hidden><div class=\"sk-item\"><div class=\"sk-estimator sk-toggleable\"><input class=\"sk-toggleable__control sk-hidden--visually\" id=\"sk-estimator-id-6\" type=\"checkbox\" checked><label for=\"sk-estimator-id-6\" class=\"sk-toggleable__label sk-toggleable__label-arrow\">RandomForestClassifier</label><div class=\"sk-toggleable__content\"><pre>RandomForestClassifier(random_state=42)</pre></div></div></div></div></div>"
      ],
      "text/plain": [
       "RandomForestClassifier(random_state=42)"
      ]
     },
     "execution_count": 49,
     "metadata": {},
     "output_type": "execute_result"
    }
   ],
   "source": [
    "clf = RandomForestClassifier(random_state=42)\n",
    "clf.fit(X_train, y_train)"
   ]
  },
  {
   "cell_type": "code",
   "execution_count": 50,
   "id": "581ab90a",
   "metadata": {
    "execution": {
     "iopub.execute_input": "2023-03-20T11:23:34.601718Z",
     "iopub.status.busy": "2023-03-20T11:23:34.601410Z",
     "iopub.status.idle": "2023-03-20T11:23:34.634530Z",
     "shell.execute_reply": "2023-03-20T11:23:34.633700Z"
    },
    "papermill": {
     "duration": 0.049625,
     "end_time": "2023-03-20T11:23:34.636488",
     "exception": false,
     "start_time": "2023-03-20T11:23:34.586863",
     "status": "completed"
    },
    "tags": []
   },
   "outputs": [
    {
     "name": "stdout",
     "output_type": "stream",
     "text": [
      "              precision    recall  f1-score   support\n",
      "\n",
      "        comp       0.35      0.34      0.34        47\n",
      "        misc       0.00      0.00      0.00         8\n",
      "         rec       0.26      0.12      0.17        49\n",
      "    religion       0.29      0.32      0.30        88\n",
      "         sci       0.11      0.12      0.11        68\n",
      "        talk       0.53      0.64      0.58        95\n",
      "\n",
      "    accuracy                           0.34       355\n",
      "   macro avg       0.26      0.26      0.25       355\n",
      "weighted avg       0.31      0.34      0.32       355\n",
      "\n"
     ]
    },
    {
     "name": "stderr",
     "output_type": "stream",
     "text": [
      "/home/mattiapggioli/lyrics2ts/.venv/lib/python3.9/site-packages/sklearn/metrics/_classification.py:1344: UndefinedMetricWarning: Precision and F-score are ill-defined and being set to 0.0 in labels with no predicted samples. Use `zero_division` parameter to control this behavior.\n",
      "  _warn_prf(average, modifier, msg_start, len(result))\n",
      "/home/mattiapggioli/lyrics2ts/.venv/lib/python3.9/site-packages/sklearn/metrics/_classification.py:1344: UndefinedMetricWarning: Precision and F-score are ill-defined and being set to 0.0 in labels with no predicted samples. Use `zero_division` parameter to control this behavior.\n",
      "  _warn_prf(average, modifier, msg_start, len(result))\n",
      "/home/mattiapggioli/lyrics2ts/.venv/lib/python3.9/site-packages/sklearn/metrics/_classification.py:1344: UndefinedMetricWarning: Precision and F-score are ill-defined and being set to 0.0 in labels with no predicted samples. Use `zero_division` parameter to control this behavior.\n",
      "  _warn_prf(average, modifier, msg_start, len(result))\n"
     ]
    }
   ],
   "source": [
    "y_pred = clf.predict(X_test)\n",
    "print(classification_report(y_test, y_pred))"
   ]
  },
  {
   "cell_type": "code",
   "execution_count": 51,
   "id": "faf1d7f4",
   "metadata": {
    "execution": {
     "iopub.execute_input": "2023-03-20T11:23:34.701193Z",
     "iopub.status.busy": "2023-03-20T11:23:34.700443Z",
     "iopub.status.idle": "2023-03-20T11:23:34.729659Z",
     "shell.execute_reply": "2023-03-20T11:23:34.728117Z"
    },
    "papermill": {
     "duration": 0.065674,
     "end_time": "2023-03-20T11:23:34.733273",
     "exception": false,
     "start_time": "2023-03-20T11:23:34.667599",
     "status": "completed"
    },
    "tags": []
   },
   "outputs": [
    {
     "name": "stderr",
     "output_type": "stream",
     "text": [
      "/home/mattiapggioli/lyrics2ts/.venv/lib/python3.9/site-packages/sklearn/metrics/_classification.py:1344: UndefinedMetricWarning: Precision is ill-defined and being set to 0.0 in labels with no predicted samples. Use `zero_division` parameter to control this behavior.\n",
      "  _warn_prf(average, modifier, msg_start, len(result))\n"
     ]
    }
   ],
   "source": [
    "acc = accuracy_score(y_test, y_pred)\n",
    "pre = precision_score(y_test, y_pred, average=avg_par)\n",
    "rec = recall_score(y_test, y_pred, average=avg_par)\n",
    "f1 = f1_score(y_test, y_pred, average=avg_par)\n",
    "\n",
    "metrics_data['Shapelets']['RandomForest'] = {'Accuracy': acc, 'Precision': pre, 'Recall': rec, 'F1': f1}"
   ]
  },
  {
   "cell_type": "markdown",
   "id": "61fceefb",
   "metadata": {
    "papermill": {
     "duration": 0.021945,
     "end_time": "2023-03-20T11:23:34.792264",
     "exception": false,
     "start_time": "2023-03-20T11:23:34.770319",
     "status": "completed"
    },
    "tags": []
   },
   "source": [
    "**LightGBM**"
   ]
  },
  {
   "cell_type": "code",
   "execution_count": 52,
   "id": "194189da",
   "metadata": {
    "execution": {
     "iopub.execute_input": "2023-03-20T11:23:34.822280Z",
     "iopub.status.busy": "2023-03-20T11:23:34.821813Z",
     "iopub.status.idle": "2023-03-20T11:23:35.392294Z",
     "shell.execute_reply": "2023-03-20T11:23:35.391658Z"
    },
    "papermill": {
     "duration": 0.588802,
     "end_time": "2023-03-20T11:23:35.394979",
     "exception": false,
     "start_time": "2023-03-20T11:23:34.806177",
     "status": "completed"
    },
    "tags": []
   },
   "outputs": [
    {
     "data": {
      "text/html": [
       "<style>#sk-container-id-7 {color: black;background-color: white;}#sk-container-id-7 pre{padding: 0;}#sk-container-id-7 div.sk-toggleable {background-color: white;}#sk-container-id-7 label.sk-toggleable__label {cursor: pointer;display: block;width: 100%;margin-bottom: 0;padding: 0.3em;box-sizing: border-box;text-align: center;}#sk-container-id-7 label.sk-toggleable__label-arrow:before {content: \"▸\";float: left;margin-right: 0.25em;color: #696969;}#sk-container-id-7 label.sk-toggleable__label-arrow:hover:before {color: black;}#sk-container-id-7 div.sk-estimator:hover label.sk-toggleable__label-arrow:before {color: black;}#sk-container-id-7 div.sk-toggleable__content {max-height: 0;max-width: 0;overflow: hidden;text-align: left;background-color: #f0f8ff;}#sk-container-id-7 div.sk-toggleable__content pre {margin: 0.2em;color: black;border-radius: 0.25em;background-color: #f0f8ff;}#sk-container-id-7 input.sk-toggleable__control:checked~div.sk-toggleable__content {max-height: 200px;max-width: 100%;overflow: auto;}#sk-container-id-7 input.sk-toggleable__control:checked~label.sk-toggleable__label-arrow:before {content: \"▾\";}#sk-container-id-7 div.sk-estimator input.sk-toggleable__control:checked~label.sk-toggleable__label {background-color: #d4ebff;}#sk-container-id-7 div.sk-label input.sk-toggleable__control:checked~label.sk-toggleable__label {background-color: #d4ebff;}#sk-container-id-7 input.sk-hidden--visually {border: 0;clip: rect(1px 1px 1px 1px);clip: rect(1px, 1px, 1px, 1px);height: 1px;margin: -1px;overflow: hidden;padding: 0;position: absolute;width: 1px;}#sk-container-id-7 div.sk-estimator {font-family: monospace;background-color: #f0f8ff;border: 1px dotted black;border-radius: 0.25em;box-sizing: border-box;margin-bottom: 0.5em;}#sk-container-id-7 div.sk-estimator:hover {background-color: #d4ebff;}#sk-container-id-7 div.sk-parallel-item::after {content: \"\";width: 100%;border-bottom: 1px solid gray;flex-grow: 1;}#sk-container-id-7 div.sk-label:hover label.sk-toggleable__label {background-color: #d4ebff;}#sk-container-id-7 div.sk-serial::before {content: \"\";position: absolute;border-left: 1px solid gray;box-sizing: border-box;top: 0;bottom: 0;left: 50%;z-index: 0;}#sk-container-id-7 div.sk-serial {display: flex;flex-direction: column;align-items: center;background-color: white;padding-right: 0.2em;padding-left: 0.2em;position: relative;}#sk-container-id-7 div.sk-item {position: relative;z-index: 1;}#sk-container-id-7 div.sk-parallel {display: flex;align-items: stretch;justify-content: center;background-color: white;position: relative;}#sk-container-id-7 div.sk-item::before, #sk-container-id-7 div.sk-parallel-item::before {content: \"\";position: absolute;border-left: 1px solid gray;box-sizing: border-box;top: 0;bottom: 0;left: 50%;z-index: -1;}#sk-container-id-7 div.sk-parallel-item {display: flex;flex-direction: column;z-index: 1;position: relative;background-color: white;}#sk-container-id-7 div.sk-parallel-item:first-child::after {align-self: flex-end;width: 50%;}#sk-container-id-7 div.sk-parallel-item:last-child::after {align-self: flex-start;width: 50%;}#sk-container-id-7 div.sk-parallel-item:only-child::after {width: 0;}#sk-container-id-7 div.sk-dashed-wrapped {border: 1px dashed gray;margin: 0 0.4em 0.5em 0.4em;box-sizing: border-box;padding-bottom: 0.4em;background-color: white;}#sk-container-id-7 div.sk-label label {font-family: monospace;font-weight: bold;display: inline-block;line-height: 1.2em;}#sk-container-id-7 div.sk-label-container {text-align: center;}#sk-container-id-7 div.sk-container {/* jupyter's `normalize.less` sets `[hidden] { display: none; }` but bootstrap.min.css set `[hidden] { display: none !important; }` so we also need the `!important` here to be able to override the default hidden behavior on the sphinx rendered scikit-learn.org. See: https://github.com/scikit-learn/scikit-learn/issues/21755 */display: inline-block !important;position: relative;}#sk-container-id-7 div.sk-text-repr-fallback {display: none;}</style><div id=\"sk-container-id-7\" class=\"sk-top-container\"><div class=\"sk-text-repr-fallback\"><pre>LGBMClassifier(objective=&#x27;multiclass&#x27;)</pre><b>In a Jupyter environment, please rerun this cell to show the HTML representation or trust the notebook. <br />On GitHub, the HTML representation is unable to render, please try loading this page with nbviewer.org.</b></div><div class=\"sk-container\" hidden><div class=\"sk-item\"><div class=\"sk-estimator sk-toggleable\"><input class=\"sk-toggleable__control sk-hidden--visually\" id=\"sk-estimator-id-7\" type=\"checkbox\" checked><label for=\"sk-estimator-id-7\" class=\"sk-toggleable__label sk-toggleable__label-arrow\">LGBMClassifier</label><div class=\"sk-toggleable__content\"><pre>LGBMClassifier(objective=&#x27;multiclass&#x27;)</pre></div></div></div></div></div>"
      ],
      "text/plain": [
       "LGBMClassifier(objective='multiclass')"
      ]
     },
     "execution_count": 52,
     "metadata": {},
     "output_type": "execute_result"
    }
   ],
   "source": [
    "clf = lgbm.LGBMClassifier(objective=obj_par) \n",
    "clf.fit(X_train, y_train)"
   ]
  },
  {
   "cell_type": "code",
   "execution_count": 53,
   "id": "355a078b",
   "metadata": {
    "execution": {
     "iopub.execute_input": "2023-03-20T11:23:35.474619Z",
     "iopub.status.busy": "2023-03-20T11:23:35.474326Z",
     "iopub.status.idle": "2023-03-20T11:23:35.500392Z",
     "shell.execute_reply": "2023-03-20T11:23:35.499181Z"
    },
    "papermill": {
     "duration": 0.070522,
     "end_time": "2023-03-20T11:23:35.504286",
     "exception": false,
     "start_time": "2023-03-20T11:23:35.433764",
     "status": "completed"
    },
    "tags": []
   },
   "outputs": [
    {
     "name": "stdout",
     "output_type": "stream",
     "text": [
      "              precision    recall  f1-score   support\n",
      "\n",
      "        comp       0.32      0.23      0.27        47\n",
      "        misc       0.00      0.00      0.00         8\n",
      "         rec       0.21      0.14      0.17        49\n",
      "    religion       0.34      0.39      0.36        88\n",
      "         sci       0.16      0.18      0.17        68\n",
      "        talk       0.54      0.63      0.58        95\n",
      "\n",
      "    accuracy                           0.35       355\n",
      "   macro avg       0.26      0.26      0.26       355\n",
      "weighted avg       0.33      0.35      0.34       355\n",
      "\n"
     ]
    },
    {
     "name": "stderr",
     "output_type": "stream",
     "text": [
      "/home/mattiapggioli/lyrics2ts/.venv/lib/python3.9/site-packages/sklearn/metrics/_classification.py:1344: UndefinedMetricWarning: Precision and F-score are ill-defined and being set to 0.0 in labels with no predicted samples. Use `zero_division` parameter to control this behavior.\n",
      "  _warn_prf(average, modifier, msg_start, len(result))\n",
      "/home/mattiapggioli/lyrics2ts/.venv/lib/python3.9/site-packages/sklearn/metrics/_classification.py:1344: UndefinedMetricWarning: Precision and F-score are ill-defined and being set to 0.0 in labels with no predicted samples. Use `zero_division` parameter to control this behavior.\n",
      "  _warn_prf(average, modifier, msg_start, len(result))\n",
      "/home/mattiapggioli/lyrics2ts/.venv/lib/python3.9/site-packages/sklearn/metrics/_classification.py:1344: UndefinedMetricWarning: Precision and F-score are ill-defined and being set to 0.0 in labels with no predicted samples. Use `zero_division` parameter to control this behavior.\n",
      "  _warn_prf(average, modifier, msg_start, len(result))\n"
     ]
    }
   ],
   "source": [
    "y_pred = clf.predict(X_test)\n",
    "print(classification_report(y_test, y_pred))"
   ]
  },
  {
   "cell_type": "code",
   "execution_count": 54,
   "id": "f22b911e",
   "metadata": {
    "execution": {
     "iopub.execute_input": "2023-03-20T11:23:35.558366Z",
     "iopub.status.busy": "2023-03-20T11:23:35.557392Z",
     "iopub.status.idle": "2023-03-20T11:23:35.586297Z",
     "shell.execute_reply": "2023-03-20T11:23:35.584988Z"
    },
    "papermill": {
     "duration": 0.054938,
     "end_time": "2023-03-20T11:23:35.588503",
     "exception": false,
     "start_time": "2023-03-20T11:23:35.533565",
     "status": "completed"
    },
    "tags": []
   },
   "outputs": [
    {
     "name": "stderr",
     "output_type": "stream",
     "text": [
      "/home/mattiapggioli/lyrics2ts/.venv/lib/python3.9/site-packages/sklearn/metrics/_classification.py:1344: UndefinedMetricWarning: Precision is ill-defined and being set to 0.0 in labels with no predicted samples. Use `zero_division` parameter to control this behavior.\n",
      "  _warn_prf(average, modifier, msg_start, len(result))\n"
     ]
    }
   ],
   "source": [
    "acc = accuracy_score(y_test, y_pred)\n",
    "pre = precision_score(y_test, y_pred, average=avg_par)\n",
    "rec = recall_score(y_test, y_pred, average=avg_par)\n",
    "f1 = f1_score(y_test, y_pred, average=avg_par)\n",
    "\n",
    "metrics_data['Shapelets']['LightGBM'] = {'Accuracy': acc, 'Precision': pre, 'Recall': rec, 'F1': f1}"
   ]
  },
  {
   "cell_type": "markdown",
   "id": "0809af9f",
   "metadata": {
    "papermill": {
     "duration": 0.013894,
     "end_time": "2023-03-20T11:23:35.618928",
     "exception": false,
     "start_time": "2023-03-20T11:23:35.605034",
     "status": "completed"
    },
    "tags": []
   },
   "source": [
    "#### KNN"
   ]
  },
  {
   "cell_type": "code",
   "execution_count": 55,
   "id": "1c9237e0",
   "metadata": {
    "execution": {
     "iopub.execute_input": "2023-03-20T11:23:35.652459Z",
     "iopub.status.busy": "2023-03-20T11:23:35.651730Z",
     "iopub.status.idle": "2023-03-20T11:23:35.658554Z",
     "shell.execute_reply": "2023-03-20T11:23:35.657348Z"
    },
    "papermill": {
     "duration": 0.026254,
     "end_time": "2023-03-20T11:23:35.660428",
     "exception": false,
     "start_time": "2023-03-20T11:23:35.634174",
     "status": "completed"
    },
    "tags": []
   },
   "outputs": [],
   "source": [
    "X_train = ts_train.reshape((ts_train.shape[0], ts_train.shape[1]))\n",
    "X_test = ts_test.reshape((ts_test.shape[0], ts_test.shape[1]))"
   ]
  },
  {
   "cell_type": "code",
   "execution_count": 56,
   "id": "192f3c3f",
   "metadata": {
    "execution": {
     "iopub.execute_input": "2023-03-20T11:23:35.694041Z",
     "iopub.status.busy": "2023-03-20T11:23:35.693155Z",
     "iopub.status.idle": "2023-03-20T11:23:35.700964Z",
     "shell.execute_reply": "2023-03-20T11:23:35.699761Z"
    },
    "papermill": {
     "duration": 0.026827,
     "end_time": "2023-03-20T11:23:35.702886",
     "exception": false,
     "start_time": "2023-03-20T11:23:35.676059",
     "status": "completed"
    },
    "tags": []
   },
   "outputs": [
    {
     "data": {
      "text/plain": [
       "(1420, 100)"
      ]
     },
     "execution_count": 56,
     "metadata": {},
     "output_type": "execute_result"
    }
   ],
   "source": [
    "X_train.shape"
   ]
  },
  {
   "cell_type": "code",
   "execution_count": 57,
   "id": "de0e5000",
   "metadata": {
    "execution": {
     "iopub.execute_input": "2023-03-20T11:23:35.737752Z",
     "iopub.status.busy": "2023-03-20T11:23:35.737072Z",
     "iopub.status.idle": "2023-03-20T11:23:35.742553Z",
     "shell.execute_reply": "2023-03-20T11:23:35.741361Z"
    },
    "papermill": {
     "duration": 0.026015,
     "end_time": "2023-03-20T11:23:35.744447",
     "exception": false,
     "start_time": "2023-03-20T11:23:35.718432",
     "status": "completed"
    },
    "tags": []
   },
   "outputs": [],
   "source": [
    "metrics_data['KNN'] = {}"
   ]
  },
  {
   "cell_type": "markdown",
   "id": "8ee39c05",
   "metadata": {
    "papermill": {
     "duration": 0.016062,
     "end_time": "2023-03-20T11:23:35.776131",
     "exception": false,
     "start_time": "2023-03-20T11:23:35.760069",
     "status": "completed"
    },
    "tags": []
   },
   "source": [
    "**Euclidean Distance**"
   ]
  },
  {
   "cell_type": "code",
   "execution_count": 58,
   "id": "55db1f58",
   "metadata": {
    "execution": {
     "iopub.execute_input": "2023-03-20T11:23:35.811828Z",
     "iopub.status.busy": "2023-03-20T11:23:35.810913Z",
     "iopub.status.idle": "2023-03-20T11:23:35.816540Z",
     "shell.execute_reply": "2023-03-20T11:23:35.815337Z"
    },
    "papermill": {
     "duration": 0.025624,
     "end_time": "2023-03-20T11:23:35.818386",
     "exception": false,
     "start_time": "2023-03-20T11:23:35.792762",
     "status": "completed"
    },
    "tags": []
   },
   "outputs": [],
   "source": [
    "from sklearn.neighbors import KNeighborsClassifier"
   ]
  },
  {
   "cell_type": "code",
   "execution_count": 59,
   "id": "132c2537",
   "metadata": {
    "execution": {
     "iopub.execute_input": "2023-03-20T11:23:35.852781Z",
     "iopub.status.busy": "2023-03-20T11:23:35.852063Z",
     "iopub.status.idle": "2023-03-20T11:23:35.865297Z",
     "shell.execute_reply": "2023-03-20T11:23:35.863992Z"
    },
    "papermill": {
     "duration": 0.032991,
     "end_time": "2023-03-20T11:23:35.867349",
     "exception": false,
     "start_time": "2023-03-20T11:23:35.834358",
     "status": "completed"
    },
    "tags": []
   },
   "outputs": [
    {
     "data": {
      "text/html": [
       "<style>#sk-container-id-8 {color: black;background-color: white;}#sk-container-id-8 pre{padding: 0;}#sk-container-id-8 div.sk-toggleable {background-color: white;}#sk-container-id-8 label.sk-toggleable__label {cursor: pointer;display: block;width: 100%;margin-bottom: 0;padding: 0.3em;box-sizing: border-box;text-align: center;}#sk-container-id-8 label.sk-toggleable__label-arrow:before {content: \"▸\";float: left;margin-right: 0.25em;color: #696969;}#sk-container-id-8 label.sk-toggleable__label-arrow:hover:before {color: black;}#sk-container-id-8 div.sk-estimator:hover label.sk-toggleable__label-arrow:before {color: black;}#sk-container-id-8 div.sk-toggleable__content {max-height: 0;max-width: 0;overflow: hidden;text-align: left;background-color: #f0f8ff;}#sk-container-id-8 div.sk-toggleable__content pre {margin: 0.2em;color: black;border-radius: 0.25em;background-color: #f0f8ff;}#sk-container-id-8 input.sk-toggleable__control:checked~div.sk-toggleable__content {max-height: 200px;max-width: 100%;overflow: auto;}#sk-container-id-8 input.sk-toggleable__control:checked~label.sk-toggleable__label-arrow:before {content: \"▾\";}#sk-container-id-8 div.sk-estimator input.sk-toggleable__control:checked~label.sk-toggleable__label {background-color: #d4ebff;}#sk-container-id-8 div.sk-label input.sk-toggleable__control:checked~label.sk-toggleable__label {background-color: #d4ebff;}#sk-container-id-8 input.sk-hidden--visually {border: 0;clip: rect(1px 1px 1px 1px);clip: rect(1px, 1px, 1px, 1px);height: 1px;margin: -1px;overflow: hidden;padding: 0;position: absolute;width: 1px;}#sk-container-id-8 div.sk-estimator {font-family: monospace;background-color: #f0f8ff;border: 1px dotted black;border-radius: 0.25em;box-sizing: border-box;margin-bottom: 0.5em;}#sk-container-id-8 div.sk-estimator:hover {background-color: #d4ebff;}#sk-container-id-8 div.sk-parallel-item::after {content: \"\";width: 100%;border-bottom: 1px solid gray;flex-grow: 1;}#sk-container-id-8 div.sk-label:hover label.sk-toggleable__label {background-color: #d4ebff;}#sk-container-id-8 div.sk-serial::before {content: \"\";position: absolute;border-left: 1px solid gray;box-sizing: border-box;top: 0;bottom: 0;left: 50%;z-index: 0;}#sk-container-id-8 div.sk-serial {display: flex;flex-direction: column;align-items: center;background-color: white;padding-right: 0.2em;padding-left: 0.2em;position: relative;}#sk-container-id-8 div.sk-item {position: relative;z-index: 1;}#sk-container-id-8 div.sk-parallel {display: flex;align-items: stretch;justify-content: center;background-color: white;position: relative;}#sk-container-id-8 div.sk-item::before, #sk-container-id-8 div.sk-parallel-item::before {content: \"\";position: absolute;border-left: 1px solid gray;box-sizing: border-box;top: 0;bottom: 0;left: 50%;z-index: -1;}#sk-container-id-8 div.sk-parallel-item {display: flex;flex-direction: column;z-index: 1;position: relative;background-color: white;}#sk-container-id-8 div.sk-parallel-item:first-child::after {align-self: flex-end;width: 50%;}#sk-container-id-8 div.sk-parallel-item:last-child::after {align-self: flex-start;width: 50%;}#sk-container-id-8 div.sk-parallel-item:only-child::after {width: 0;}#sk-container-id-8 div.sk-dashed-wrapped {border: 1px dashed gray;margin: 0 0.4em 0.5em 0.4em;box-sizing: border-box;padding-bottom: 0.4em;background-color: white;}#sk-container-id-8 div.sk-label label {font-family: monospace;font-weight: bold;display: inline-block;line-height: 1.2em;}#sk-container-id-8 div.sk-label-container {text-align: center;}#sk-container-id-8 div.sk-container {/* jupyter's `normalize.less` sets `[hidden] { display: none; }` but bootstrap.min.css set `[hidden] { display: none !important; }` so we also need the `!important` here to be able to override the default hidden behavior on the sphinx rendered scikit-learn.org. See: https://github.com/scikit-learn/scikit-learn/issues/21755 */display: inline-block !important;position: relative;}#sk-container-id-8 div.sk-text-repr-fallback {display: none;}</style><div id=\"sk-container-id-8\" class=\"sk-top-container\"><div class=\"sk-text-repr-fallback\"><pre>KNeighborsClassifier()</pre><b>In a Jupyter environment, please rerun this cell to show the HTML representation or trust the notebook. <br />On GitHub, the HTML representation is unable to render, please try loading this page with nbviewer.org.</b></div><div class=\"sk-container\" hidden><div class=\"sk-item\"><div class=\"sk-estimator sk-toggleable\"><input class=\"sk-toggleable__control sk-hidden--visually\" id=\"sk-estimator-id-8\" type=\"checkbox\" checked><label for=\"sk-estimator-id-8\" class=\"sk-toggleable__label sk-toggleable__label-arrow\">KNeighborsClassifier</label><div class=\"sk-toggleable__content\"><pre>KNeighborsClassifier()</pre></div></div></div></div></div>"
      ],
      "text/plain": [
       "KNeighborsClassifier()"
      ]
     },
     "execution_count": 59,
     "metadata": {},
     "output_type": "execute_result"
    }
   ],
   "source": [
    "clf = KNeighborsClassifier(n_neighbors=5, weights='uniform')\n",
    "clf.fit(X_train, y_train)"
   ]
  },
  {
   "cell_type": "code",
   "execution_count": 60,
   "id": "0afad62a",
   "metadata": {
    "execution": {
     "iopub.execute_input": "2023-03-20T11:23:35.901137Z",
     "iopub.status.busy": "2023-03-20T11:23:35.900421Z",
     "iopub.status.idle": "2023-03-20T11:23:36.055630Z",
     "shell.execute_reply": "2023-03-20T11:23:36.054755Z"
    },
    "papermill": {
     "duration": 0.175341,
     "end_time": "2023-03-20T11:23:36.058169",
     "exception": false,
     "start_time": "2023-03-20T11:23:35.882828",
     "status": "completed"
    },
    "tags": []
   },
   "outputs": [
    {
     "name": "stdout",
     "output_type": "stream",
     "text": [
      "              precision    recall  f1-score   support\n",
      "\n",
      "        comp       0.18      0.74      0.29        47\n",
      "        misc       0.00      0.00      0.00         8\n",
      "         rec       0.17      0.10      0.13        49\n",
      "    religion       0.52      0.14      0.22        88\n",
      "         sci       0.21      0.19      0.20        68\n",
      "        talk       0.54      0.22      0.31        95\n",
      "\n",
      "    accuracy                           0.24       355\n",
      "   macro avg       0.27      0.23      0.19       355\n",
      "weighted avg       0.36      0.24      0.23       355\n",
      "\n"
     ]
    }
   ],
   "source": [
    "y_pred = clf.predict(X_test)\n",
    "print(classification_report(y_test, y_pred))"
   ]
  },
  {
   "cell_type": "code",
   "execution_count": 61,
   "id": "2d709070",
   "metadata": {
    "execution": {
     "iopub.execute_input": "2023-03-20T11:23:36.129390Z",
     "iopub.status.busy": "2023-03-20T11:23:36.129090Z",
     "iopub.status.idle": "2023-03-20T11:23:36.143533Z",
     "shell.execute_reply": "2023-03-20T11:23:36.142872Z"
    },
    "papermill": {
     "duration": 0.049853,
     "end_time": "2023-03-20T11:23:36.145851",
     "exception": false,
     "start_time": "2023-03-20T11:23:36.095998",
     "status": "completed"
    },
    "tags": []
   },
   "outputs": [],
   "source": [
    "acc = accuracy_score(y_test, y_pred)\n",
    "pre = precision_score(y_test, y_pred, average=avg_par)\n",
    "rec = recall_score(y_test, y_pred, average=avg_par)\n",
    "f1 = f1_score(y_test, y_pred, average=avg_par)\n",
    "\n",
    "metrics_data['KNN']['Euclidean'] = {'Accuracy': acc, 'Precision': pre, 'Recall': rec, 'F1': f1}"
   ]
  },
  {
   "cell_type": "markdown",
   "id": "c5ec2a09",
   "metadata": {
    "papermill": {
     "duration": 0.014798,
     "end_time": "2023-03-20T11:23:36.178111",
     "exception": false,
     "start_time": "2023-03-20T11:23:36.163313",
     "status": "completed"
    },
    "tags": []
   },
   "source": [
    "**Dynamic Time Warping**"
   ]
  },
  {
   "cell_type": "code",
   "execution_count": 62,
   "id": "2df913d8",
   "metadata": {
    "execution": {
     "iopub.execute_input": "2023-03-20T11:23:36.209176Z",
     "iopub.status.busy": "2023-03-20T11:23:36.208753Z",
     "iopub.status.idle": "2023-03-20T11:23:36.294552Z",
     "shell.execute_reply": "2023-03-20T11:23:36.293783Z"
    },
    "papermill": {
     "duration": 0.103621,
     "end_time": "2023-03-20T11:23:36.296484",
     "exception": false,
     "start_time": "2023-03-20T11:23:36.192863",
     "status": "completed"
    },
    "tags": []
   },
   "outputs": [],
   "source": [
    "from pyts.classification import KNeighborsClassifier\n",
    "from pyts.approximation import PiecewiseAggregateApproximation\n",
    "from imblearn.under_sampling import ClusterCentroids\n",
    "from sklearn_extra.cluster import KMedoids"
   ]
  },
  {
   "cell_type": "code",
   "execution_count": 63,
   "id": "db1604ec",
   "metadata": {
    "execution": {
     "iopub.execute_input": "2023-03-20T11:23:36.331539Z",
     "iopub.status.busy": "2023-03-20T11:23:36.331104Z",
     "iopub.status.idle": "2023-03-20T11:23:36.336570Z",
     "shell.execute_reply": "2023-03-20T11:23:36.335601Z"
    },
    "papermill": {
     "duration": 0.023152,
     "end_time": "2023-03-20T11:23:36.338060",
     "exception": false,
     "start_time": "2023-03-20T11:23:36.314908",
     "status": "completed"
    },
    "tags": []
   },
   "outputs": [],
   "source": [
    "if paa_window_size:\n",
    "    paa = PiecewiseAggregateApproximation(window_size=paa_window_size)\n",
    "    X_train = paa.transform(X_train)\n",
    "    X_test = paa.transform(X_test)\n",
    "    X_train.shape"
   ]
  },
  {
   "cell_type": "code",
   "execution_count": 64,
   "id": "59fa27aa",
   "metadata": {
    "execution": {
     "iopub.execute_input": "2023-03-20T11:23:36.369089Z",
     "iopub.status.busy": "2023-03-20T11:23:36.368636Z",
     "iopub.status.idle": "2023-03-20T11:23:36.377062Z",
     "shell.execute_reply": "2023-03-20T11:23:36.375803Z"
    },
    "papermill": {
     "duration": 0.026173,
     "end_time": "2023-03-20T11:23:36.378980",
     "exception": false,
     "start_time": "2023-03-20T11:23:36.352807",
     "status": "completed"
    },
    "tags": []
   },
   "outputs": [],
   "source": [
    "if undersampling:\n",
    "    total_samples = len(y_train)\n",
    "    unique_classes, class_counts = np.unique(y_train, return_counts=True)\n",
    "    samp_strat = dict(zip(unique_classes, np.floor(class_counts * undersampling).astype(int)))\n",
    "    print(samp_strat)\n",
    "    cc = ClusterCentroids(estimator=KMedoids(\n",
    "        random_state=42), sampling_strategy=samp_strat, random_state=42)\n",
    "    X_train, y_train = cc.fit_resample(X_train, y_train)\n",
    "    X_train.shape"
   ]
  },
  {
   "cell_type": "code",
   "execution_count": 65,
   "id": "e7ac6b44",
   "metadata": {
    "execution": {
     "iopub.execute_input": "2023-03-20T11:23:36.410654Z",
     "iopub.status.busy": "2023-03-20T11:23:36.410178Z",
     "iopub.status.idle": "2023-03-20T11:23:36.425219Z",
     "shell.execute_reply": "2023-03-20T11:23:36.423974Z"
    },
    "papermill": {
     "duration": 0.032982,
     "end_time": "2023-03-20T11:23:36.427233",
     "exception": false,
     "start_time": "2023-03-20T11:23:36.394251",
     "status": "completed"
    },
    "tags": []
   },
   "outputs": [
    {
     "data": {
      "text/html": [
       "<style>#sk-container-id-9 {color: black;background-color: white;}#sk-container-id-9 pre{padding: 0;}#sk-container-id-9 div.sk-toggleable {background-color: white;}#sk-container-id-9 label.sk-toggleable__label {cursor: pointer;display: block;width: 100%;margin-bottom: 0;padding: 0.3em;box-sizing: border-box;text-align: center;}#sk-container-id-9 label.sk-toggleable__label-arrow:before {content: \"▸\";float: left;margin-right: 0.25em;color: #696969;}#sk-container-id-9 label.sk-toggleable__label-arrow:hover:before {color: black;}#sk-container-id-9 div.sk-estimator:hover label.sk-toggleable__label-arrow:before {color: black;}#sk-container-id-9 div.sk-toggleable__content {max-height: 0;max-width: 0;overflow: hidden;text-align: left;background-color: #f0f8ff;}#sk-container-id-9 div.sk-toggleable__content pre {margin: 0.2em;color: black;border-radius: 0.25em;background-color: #f0f8ff;}#sk-container-id-9 input.sk-toggleable__control:checked~div.sk-toggleable__content {max-height: 200px;max-width: 100%;overflow: auto;}#sk-container-id-9 input.sk-toggleable__control:checked~label.sk-toggleable__label-arrow:before {content: \"▾\";}#sk-container-id-9 div.sk-estimator input.sk-toggleable__control:checked~label.sk-toggleable__label {background-color: #d4ebff;}#sk-container-id-9 div.sk-label input.sk-toggleable__control:checked~label.sk-toggleable__label {background-color: #d4ebff;}#sk-container-id-9 input.sk-hidden--visually {border: 0;clip: rect(1px 1px 1px 1px);clip: rect(1px, 1px, 1px, 1px);height: 1px;margin: -1px;overflow: hidden;padding: 0;position: absolute;width: 1px;}#sk-container-id-9 div.sk-estimator {font-family: monospace;background-color: #f0f8ff;border: 1px dotted black;border-radius: 0.25em;box-sizing: border-box;margin-bottom: 0.5em;}#sk-container-id-9 div.sk-estimator:hover {background-color: #d4ebff;}#sk-container-id-9 div.sk-parallel-item::after {content: \"\";width: 100%;border-bottom: 1px solid gray;flex-grow: 1;}#sk-container-id-9 div.sk-label:hover label.sk-toggleable__label {background-color: #d4ebff;}#sk-container-id-9 div.sk-serial::before {content: \"\";position: absolute;border-left: 1px solid gray;box-sizing: border-box;top: 0;bottom: 0;left: 50%;z-index: 0;}#sk-container-id-9 div.sk-serial {display: flex;flex-direction: column;align-items: center;background-color: white;padding-right: 0.2em;padding-left: 0.2em;position: relative;}#sk-container-id-9 div.sk-item {position: relative;z-index: 1;}#sk-container-id-9 div.sk-parallel {display: flex;align-items: stretch;justify-content: center;background-color: white;position: relative;}#sk-container-id-9 div.sk-item::before, #sk-container-id-9 div.sk-parallel-item::before {content: \"\";position: absolute;border-left: 1px solid gray;box-sizing: border-box;top: 0;bottom: 0;left: 50%;z-index: -1;}#sk-container-id-9 div.sk-parallel-item {display: flex;flex-direction: column;z-index: 1;position: relative;background-color: white;}#sk-container-id-9 div.sk-parallel-item:first-child::after {align-self: flex-end;width: 50%;}#sk-container-id-9 div.sk-parallel-item:last-child::after {align-self: flex-start;width: 50%;}#sk-container-id-9 div.sk-parallel-item:only-child::after {width: 0;}#sk-container-id-9 div.sk-dashed-wrapped {border: 1px dashed gray;margin: 0 0.4em 0.5em 0.4em;box-sizing: border-box;padding-bottom: 0.4em;background-color: white;}#sk-container-id-9 div.sk-label label {font-family: monospace;font-weight: bold;display: inline-block;line-height: 1.2em;}#sk-container-id-9 div.sk-label-container {text-align: center;}#sk-container-id-9 div.sk-container {/* jupyter's `normalize.less` sets `[hidden] { display: none; }` but bootstrap.min.css set `[hidden] { display: none !important; }` so we also need the `!important` here to be able to override the default hidden behavior on the sphinx rendered scikit-learn.org. See: https://github.com/scikit-learn/scikit-learn/issues/21755 */display: inline-block !important;position: relative;}#sk-container-id-9 div.sk-text-repr-fallback {display: none;}</style><div id=\"sk-container-id-9\" class=\"sk-top-container\"><div class=\"sk-text-repr-fallback\"><pre>KNeighborsClassifier(metric=&#x27;dtw_sakoechiba&#x27;, metric_params={&#x27;window_size&#x27;: 3})</pre><b>In a Jupyter environment, please rerun this cell to show the HTML representation or trust the notebook. <br />On GitHub, the HTML representation is unable to render, please try loading this page with nbviewer.org.</b></div><div class=\"sk-container\" hidden><div class=\"sk-item\"><div class=\"sk-estimator sk-toggleable\"><input class=\"sk-toggleable__control sk-hidden--visually\" id=\"sk-estimator-id-9\" type=\"checkbox\" checked><label for=\"sk-estimator-id-9\" class=\"sk-toggleable__label sk-toggleable__label-arrow\">KNeighborsClassifier</label><div class=\"sk-toggleable__content\"><pre>KNeighborsClassifier(metric=&#x27;dtw_sakoechiba&#x27;, metric_params={&#x27;window_size&#x27;: 3})</pre></div></div></div></div></div>"
      ],
      "text/plain": [
       "KNeighborsClassifier(metric='dtw_sakoechiba', metric_params={'window_size': 3})"
      ]
     },
     "execution_count": 65,
     "metadata": {},
     "output_type": "execute_result"
    }
   ],
   "source": [
    "clf = KNeighborsClassifier(metric='dtw_sakoechiba',  metric_params={'window_size':3})\n",
    "\n",
    "clf.fit(X_train, y_train)"
   ]
  },
  {
   "cell_type": "code",
   "execution_count": 66,
   "id": "8109d19d",
   "metadata": {
    "execution": {
     "iopub.execute_input": "2023-03-20T11:23:36.460190Z",
     "iopub.status.busy": "2023-03-20T11:23:36.459713Z",
     "iopub.status.idle": "2023-03-20T11:25:10.199187Z",
     "shell.execute_reply": "2023-03-20T11:25:10.198260Z"
    },
    "papermill": {
     "duration": 93.799609,
     "end_time": "2023-03-20T11:25:10.243124",
     "exception": false,
     "start_time": "2023-03-20T11:23:36.443515",
     "status": "completed"
    },
    "tags": []
   },
   "outputs": [
    {
     "name": "stdout",
     "output_type": "stream",
     "text": [
      "              precision    recall  f1-score   support\n",
      "\n",
      "        comp       0.27      0.45      0.33        47\n",
      "        misc       0.14      0.25      0.18         8\n",
      "         rec       0.12      0.14      0.13        49\n",
      "    religion       0.29      0.17      0.22        88\n",
      "         sci       0.28      0.28      0.28        68\n",
      "        talk       0.50      0.45      0.48        95\n",
      "\n",
      "    accuracy                           0.30       355\n",
      "   macro avg       0.27      0.29      0.27       355\n",
      "weighted avg       0.32      0.30      0.30       355\n",
      "\n",
      "CPU times: user 1min 33s, sys: 55.1 ms, total: 1min 33s\n",
      "Wall time: 1min 33s\n"
     ]
    }
   ],
   "source": [
    "%%time\n",
    "y_pred = clf.predict(X_test)\n",
    "print(classification_report(y_test, y_pred))"
   ]
  },
  {
   "cell_type": "code",
   "execution_count": 67,
   "id": "b09f5cdf",
   "metadata": {
    "execution": {
     "iopub.execute_input": "2023-03-20T11:25:10.301298Z",
     "iopub.status.busy": "2023-03-20T11:25:10.300896Z",
     "iopub.status.idle": "2023-03-20T11:25:10.324435Z",
     "shell.execute_reply": "2023-03-20T11:25:10.323062Z"
    },
    "papermill": {
     "duration": 0.042062,
     "end_time": "2023-03-20T11:25:10.326551",
     "exception": false,
     "start_time": "2023-03-20T11:25:10.284489",
     "status": "completed"
    },
    "tags": []
   },
   "outputs": [],
   "source": [
    "acc = accuracy_score(y_test, y_pred)\n",
    "pre = precision_score(y_test, y_pred, average=avg_par)\n",
    "rec = recall_score(y_test, y_pred, average=avg_par)\n",
    "f1 = f1_score(y_test, y_pred, average=avg_par)\n",
    "\n",
    "metrics_data['KNN']['DTW'] = {'Accuracy': acc, 'Precision': pre, 'Recall': rec, 'F1': f1}"
   ]
  },
  {
   "cell_type": "markdown",
   "id": "e0e700a7",
   "metadata": {
    "papermill": {
     "duration": 0.05123,
     "end_time": "2023-03-20T11:25:10.394828",
     "exception": false,
     "start_time": "2023-03-20T11:25:10.343598",
     "status": "completed"
    },
    "tags": []
   },
   "source": [
    "## Overall Results"
   ]
  },
  {
   "cell_type": "code",
   "execution_count": 68,
   "id": "d003c193",
   "metadata": {
    "execution": {
     "iopub.execute_input": "2023-03-20T11:25:10.426252Z",
     "iopub.status.busy": "2023-03-20T11:25:10.425784Z",
     "iopub.status.idle": "2023-03-20T11:25:10.436735Z",
     "shell.execute_reply": "2023-03-20T11:25:10.435346Z"
    },
    "papermill": {
     "duration": 0.029187,
     "end_time": "2023-03-20T11:25:10.438854",
     "exception": false,
     "start_time": "2023-03-20T11:25:10.409667",
     "status": "completed"
    },
    "tags": []
   },
   "outputs": [],
   "source": [
    "metrics_data = pd.DataFrame.from_dict({(i,j): metrics_data[i][j] \n",
    "                                       for i in metrics_data.keys() \n",
    "                                       for j in metrics_data[i].keys()},\n",
    "                                       orient='index')"
   ]
  },
  {
   "cell_type": "code",
   "execution_count": 69,
   "id": "0944fe84",
   "metadata": {
    "execution": {
     "iopub.execute_input": "2023-03-20T11:25:10.471278Z",
     "iopub.status.busy": "2023-03-20T11:25:10.470799Z",
     "iopub.status.idle": "2023-03-20T11:25:10.498431Z",
     "shell.execute_reply": "2023-03-20T11:25:10.496972Z"
    },
    "papermill": {
     "duration": 0.046802,
     "end_time": "2023-03-20T11:25:10.501649",
     "exception": false,
     "start_time": "2023-03-20T11:25:10.454847",
     "status": "completed"
    },
    "tags": []
   },
   "outputs": [],
   "source": [
    "acc = accuracy_score(y_test, y_pred)\n",
    "pre = precision_score(y_test, y_pred, average=avg_par)\n",
    "rec = recall_score(y_test, y_pred, average=avg_par)\n",
    "f1 = f1_score(y_test, y_pred, average=avg_par)"
   ]
  },
  {
   "cell_type": "code",
   "execution_count": 70,
   "id": "7ee1b347",
   "metadata": {
    "execution": {
     "iopub.execute_input": "2023-03-20T11:25:10.563811Z",
     "iopub.status.busy": "2023-03-20T11:25:10.563339Z",
     "iopub.status.idle": "2023-03-20T11:25:10.582263Z",
     "shell.execute_reply": "2023-03-20T11:25:10.580987Z"
    },
    "papermill": {
     "duration": 0.045183,
     "end_time": "2023-03-20T11:25:10.584398",
     "exception": false,
     "start_time": "2023-03-20T11:25:10.539215",
     "status": "completed"
    },
    "tags": []
   },
   "outputs": [
    {
     "data": {
      "text/html": [
       "<div>\n",
       "<style scoped>\n",
       "    .dataframe tbody tr th:only-of-type {\n",
       "        vertical-align: middle;\n",
       "    }\n",
       "\n",
       "    .dataframe tbody tr th {\n",
       "        vertical-align: top;\n",
       "    }\n",
       "\n",
       "    .dataframe thead th {\n",
       "        text-align: right;\n",
       "    }\n",
       "</style>\n",
       "<table border=\"1\" class=\"dataframe\">\n",
       "  <thead>\n",
       "    <tr style=\"text-align: right;\">\n",
       "      <th></th>\n",
       "      <th></th>\n",
       "      <th>Accuracy</th>\n",
       "      <th>Precision</th>\n",
       "      <th>Recall</th>\n",
       "      <th>F1</th>\n",
       "    </tr>\n",
       "  </thead>\n",
       "  <tbody>\n",
       "    <tr>\n",
       "      <th rowspan=\"3\" valign=\"top\">Global</th>\n",
       "      <th>DecisionTree</th>\n",
       "      <td>0.338028</td>\n",
       "      <td>0.348923</td>\n",
       "      <td>0.338028</td>\n",
       "      <td>0.342441</td>\n",
       "    </tr>\n",
       "    <tr>\n",
       "      <th>RandomForest</th>\n",
       "      <td>0.400000</td>\n",
       "      <td>0.380184</td>\n",
       "      <td>0.400000</td>\n",
       "      <td>0.385671</td>\n",
       "    </tr>\n",
       "    <tr>\n",
       "      <th>LightGBM</th>\n",
       "      <td>0.360563</td>\n",
       "      <td>0.363754</td>\n",
       "      <td>0.360563</td>\n",
       "      <td>0.353313</td>\n",
       "    </tr>\n",
       "    <tr>\n",
       "      <th rowspan=\"3\" valign=\"top\">Shapelets</th>\n",
       "      <th>DecisionTree</th>\n",
       "      <td>0.307042</td>\n",
       "      <td>0.320276</td>\n",
       "      <td>0.307042</td>\n",
       "      <td>0.311803</td>\n",
       "    </tr>\n",
       "    <tr>\n",
       "      <th>RandomForest</th>\n",
       "      <td>0.335211</td>\n",
       "      <td>0.314889</td>\n",
       "      <td>0.335211</td>\n",
       "      <td>0.319813</td>\n",
       "    </tr>\n",
       "    <tr>\n",
       "      <th>LightGBM</th>\n",
       "      <td>0.349296</td>\n",
       "      <td>0.330456</td>\n",
       "      <td>0.349296</td>\n",
       "      <td>0.336523</td>\n",
       "    </tr>\n",
       "    <tr>\n",
       "      <th rowspan=\"2\" valign=\"top\">KNN</th>\n",
       "      <th>Euclidean</th>\n",
       "      <td>0.242254</td>\n",
       "      <td>0.360093</td>\n",
       "      <td>0.242254</td>\n",
       "      <td>0.231740</td>\n",
       "    </tr>\n",
       "    <tr>\n",
       "      <th>DTW</th>\n",
       "      <td>0.301408</td>\n",
       "      <td>0.315596</td>\n",
       "      <td>0.301408</td>\n",
       "      <td>0.300631</td>\n",
       "    </tr>\n",
       "  </tbody>\n",
       "</table>\n",
       "</div>"
      ],
      "text/plain": [
       "                        Accuracy  Precision    Recall        F1\n",
       "Global    DecisionTree  0.338028   0.348923  0.338028  0.342441\n",
       "          RandomForest  0.400000   0.380184  0.400000  0.385671\n",
       "          LightGBM      0.360563   0.363754  0.360563  0.353313\n",
       "Shapelets DecisionTree  0.307042   0.320276  0.307042  0.311803\n",
       "          RandomForest  0.335211   0.314889  0.335211  0.319813\n",
       "          LightGBM      0.349296   0.330456  0.349296  0.336523\n",
       "KNN       Euclidean     0.242254   0.360093  0.242254  0.231740\n",
       "          DTW           0.301408   0.315596  0.301408  0.300631"
      ]
     },
     "execution_count": 70,
     "metadata": {},
     "output_type": "execute_result"
    }
   ],
   "source": [
    "metrics_data"
   ]
  },
  {
   "cell_type": "code",
   "execution_count": 71,
   "id": "3efc173e",
   "metadata": {
    "execution": {
     "iopub.execute_input": "2023-03-20T11:25:10.618056Z",
     "iopub.status.busy": "2023-03-20T11:25:10.617598Z",
     "iopub.status.idle": "2023-03-20T11:25:10.627222Z",
     "shell.execute_reply": "2023-03-20T11:25:10.626098Z"
    },
    "papermill": {
     "duration": 0.027929,
     "end_time": "2023-03-20T11:25:10.629387",
     "exception": false,
     "start_time": "2023-03-20T11:25:10.601458",
     "status": "completed"
    },
    "tags": []
   },
   "outputs": [],
   "source": [
    "metrics_data.to_csv(f'{data_path}/metrics.csv')"
   ]
  },
  {
   "cell_type": "code",
   "execution_count": null,
   "id": "d21f5304",
   "metadata": {
    "papermill": {
     "duration": 0.014765,
     "end_time": "2023-03-20T11:25:10.660068",
     "exception": false,
     "start_time": "2023-03-20T11:25:10.645303",
     "status": "completed"
    },
    "tags": []
   },
   "outputs": [],
   "source": []
  }
 ],
 "metadata": {
  "celltoolbar": "Tags",
  "kernelspec": {
   "display_name": "Python 3 (ipykernel)",
   "language": "python",
   "name": "python3"
  },
  "language_info": {
   "codemirror_mode": {
    "name": "ipython",
    "version": 3
   },
   "file_extension": ".py",
   "mimetype": "text/x-python",
   "name": "python",
   "nbconvert_exporter": "python",
   "pygments_lexer": "ipython3",
   "version": "3.9.16"
  },
  "papermill": {
   "default_parameters": {},
   "duration": 271.564901,
   "end_time": "2023-03-20T11:25:14.191566",
   "environment_variables": {},
   "exception": null,
   "input_path": "09_ts_classification.ipynb",
   "output_path": "../clf-reports/20ng_sentiment.ipynb",
   "parameters": {
    "data_path": "/home/mattiapggioli/lyrics2ts/data/classification/20ng/sentiment/"
   },
   "start_time": "2023-03-20T11:20:42.626665",
   "version": "2.4.0"
  },
  "vscode": {
   "interpreter": {
    "hash": "eb8d1ded7c87c6f9c253b40add648304d6b51d2e38393955e855effc7e6f899a"
   }
  }
 },
 "nbformat": 4,
 "nbformat_minor": 5
}