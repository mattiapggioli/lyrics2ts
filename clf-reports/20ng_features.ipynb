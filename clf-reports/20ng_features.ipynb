{
 "cells": [
  {
   "cell_type": "markdown",
   "id": "d79a68c5",
   "metadata": {
    "papermill": {
     "duration": 0.029727,
     "end_time": "2023-03-08T11:20:59.836934",
     "exception": false,
     "start_time": "2023-03-08T11:20:59.807207",
     "status": "completed"
    },
    "tags": []
   },
   "source": [
    "# Time Series Classification"
   ]
  },
  {
   "cell_type": "code",
   "execution_count": 1,
   "id": "8a0cb2b0",
   "metadata": {
    "execution": {
     "iopub.execute_input": "2023-03-08T11:20:59.864074Z",
     "iopub.status.busy": "2023-03-08T11:20:59.863358Z",
     "iopub.status.idle": "2023-03-08T11:21:01.169830Z",
     "shell.execute_reply": "2023-03-08T11:21:01.169000Z"
    },
    "papermill": {
     "duration": 1.322908,
     "end_time": "2023-03-08T11:21:01.172889",
     "exception": false,
     "start_time": "2023-03-08T11:20:59.849981",
     "status": "completed"
    },
    "tags": []
   },
   "outputs": [],
   "source": [
    "%matplotlib inline\n",
    "import pandas as pd\n",
    "import numpy as np\n",
    "import matplotlib.pyplot as plt\n",
    "import seaborn as sns\n",
    "import re\n",
    "import os\n",
    "from sklearn.preprocessing import StandardScaler\n",
    "from sklearn.decomposition import PCA\n",
    "import joblib\n",
    "from tslearn.utils import to_time_series_dataset, save_time_series_txt, load_time_series_txt\n",
    "import random\n",
    "from sklearn.model_selection import train_test_split\n",
    "from sklearn.metrics import accuracy_score, f1_score, precision_score, recall_score, classification_report\n",
    "import pickle"
   ]
  },
  {
   "cell_type": "code",
   "execution_count": 2,
   "id": "acc03405",
   "metadata": {
    "execution": {
     "iopub.execute_input": "2023-03-08T11:21:01.234364Z",
     "iopub.status.busy": "2023-03-08T11:21:01.233642Z",
     "iopub.status.idle": "2023-03-08T11:21:01.239892Z",
     "shell.execute_reply": "2023-03-08T11:21:01.238743Z"
    },
    "papermill": {
     "duration": 0.038247,
     "end_time": "2023-03-08T11:21:01.242137",
     "exception": false,
     "start_time": "2023-03-08T11:21:01.203890",
     "status": "completed"
    },
    "tags": [
     "parameters"
    ]
   },
   "outputs": [],
   "source": [
    "data_path = '/home/mattiapggioli/lyrics2ts/data/classification/20ng/sbert/'\n",
    "truncate=100\n",
    "max_iter = 2000\n",
    "paa_window_size = None\n",
    "undersampling = None"
   ]
  },
  {
   "cell_type": "code",
   "execution_count": 3,
   "id": "06d5e98d",
   "metadata": {
    "execution": {
     "iopub.execute_input": "2023-03-08T11:21:01.264916Z",
     "iopub.status.busy": "2023-03-08T11:21:01.264348Z",
     "iopub.status.idle": "2023-03-08T11:21:01.270656Z",
     "shell.execute_reply": "2023-03-08T11:21:01.269081Z"
    },
    "papermill": {
     "duration": 0.021426,
     "end_time": "2023-03-08T11:21:01.273972",
     "exception": false,
     "start_time": "2023-03-08T11:21:01.252546",
     "status": "completed"
    },
    "tags": [
     "injected-parameters"
    ]
   },
   "outputs": [],
   "source": [
    "# Parameters\n",
    "data_path = \"/home/mattiapggioli/lyrics2ts/data/classification/20ng/features/\"\n"
   ]
  },
  {
   "cell_type": "code",
   "execution_count": 4,
   "id": "a4f0c774",
   "metadata": {
    "execution": {
     "iopub.execute_input": "2023-03-08T11:21:01.309984Z",
     "iopub.status.busy": "2023-03-08T11:21:01.309514Z",
     "iopub.status.idle": "2023-03-08T11:21:18.664980Z",
     "shell.execute_reply": "2023-03-08T11:21:18.664076Z"
    },
    "papermill": {
     "duration": 17.370205,
     "end_time": "2023-03-08T11:21:18.667981",
     "exception": false,
     "start_time": "2023-03-08T11:21:01.297776",
     "status": "completed"
    },
    "tags": []
   },
   "outputs": [],
   "source": [
    "ts = load_time_series_txt(f'{data_path}/ts.txt')"
   ]
  },
  {
   "cell_type": "code",
   "execution_count": 5,
   "id": "5c48d154",
   "metadata": {
    "execution": {
     "iopub.execute_input": "2023-03-08T11:21:18.727310Z",
     "iopub.status.busy": "2023-03-08T11:21:18.726735Z",
     "iopub.status.idle": "2023-03-08T11:21:18.737355Z",
     "shell.execute_reply": "2023-03-08T11:21:18.735768Z"
    },
    "papermill": {
     "duration": 0.043375,
     "end_time": "2023-03-08T11:21:18.741448",
     "exception": false,
     "start_time": "2023-03-08T11:21:18.698073",
     "status": "completed"
    },
    "tags": []
   },
   "outputs": [
    {
     "data": {
      "text/plain": [
       "(1775, 1210, 1)"
      ]
     },
     "execution_count": 5,
     "metadata": {},
     "output_type": "execute_result"
    }
   ],
   "source": [
    "ts.shape"
   ]
  },
  {
   "cell_type": "code",
   "execution_count": 6,
   "id": "f6274d40",
   "metadata": {
    "execution": {
     "iopub.execute_input": "2023-03-08T11:21:18.781177Z",
     "iopub.status.busy": "2023-03-08T11:21:18.780708Z",
     "iopub.status.idle": "2023-03-08T11:21:18.787340Z",
     "shell.execute_reply": "2023-03-08T11:21:18.786508Z"
    },
    "papermill": {
     "duration": 0.020753,
     "end_time": "2023-03-08T11:21:18.789006",
     "exception": false,
     "start_time": "2023-03-08T11:21:18.768253",
     "status": "completed"
    },
    "tags": []
   },
   "outputs": [],
   "source": [
    "with open(f'{data_path}/y_class.npy', 'rb') as f:\n",
    "    y = np.load(f, allow_pickle=True)"
   ]
  },
  {
   "cell_type": "code",
   "execution_count": 7,
   "id": "9d42fa3b",
   "metadata": {
    "execution": {
     "iopub.execute_input": "2023-03-08T11:21:18.812049Z",
     "iopub.status.busy": "2023-03-08T11:21:18.811583Z",
     "iopub.status.idle": "2023-03-08T11:21:18.818261Z",
     "shell.execute_reply": "2023-03-08T11:21:18.817413Z"
    },
    "papermill": {
     "duration": 0.020322,
     "end_time": "2023-03-08T11:21:18.820001",
     "exception": false,
     "start_time": "2023-03-08T11:21:18.799679",
     "status": "completed"
    },
    "tags": []
   },
   "outputs": [],
   "source": [
    "with open(f'{data_path}/X.npy', 'rb') as f:\n",
    "    X = np.load(f, allow_pickle=True)"
   ]
  },
  {
   "cell_type": "code",
   "execution_count": 8,
   "id": "1158a9da",
   "metadata": {
    "execution": {
     "iopub.execute_input": "2023-03-08T11:21:18.843370Z",
     "iopub.status.busy": "2023-03-08T11:21:18.842859Z",
     "iopub.status.idle": "2023-03-08T11:21:18.849690Z",
     "shell.execute_reply": "2023-03-08T11:21:18.848874Z"
    },
    "papermill": {
     "duration": 0.02094,
     "end_time": "2023-03-08T11:21:18.851454",
     "exception": false,
     "start_time": "2023-03-08T11:21:18.830514",
     "status": "completed"
    },
    "tags": []
   },
   "outputs": [
    {
     "data": {
      "text/plain": [
       "(1775, 14)"
      ]
     },
     "execution_count": 8,
     "metadata": {},
     "output_type": "execute_result"
    }
   ],
   "source": [
    "X.shape"
   ]
  },
  {
   "cell_type": "code",
   "execution_count": 9,
   "id": "47239790",
   "metadata": {
    "execution": {
     "iopub.execute_input": "2023-03-08T11:21:18.874341Z",
     "iopub.status.busy": "2023-03-08T11:21:18.873878Z",
     "iopub.status.idle": "2023-03-08T11:21:18.880979Z",
     "shell.execute_reply": "2023-03-08T11:21:18.880155Z"
    },
    "papermill": {
     "duration": 0.02073,
     "end_time": "2023-03-08T11:21:18.882766",
     "exception": false,
     "start_time": "2023-03-08T11:21:18.862036",
     "status": "completed"
    },
    "tags": []
   },
   "outputs": [
    {
     "data": {
      "text/plain": [
       "{'comp', 'misc', 'rec', 'religion', 'sci', 'talk'}"
      ]
     },
     "execution_count": 9,
     "metadata": {},
     "output_type": "execute_result"
    }
   ],
   "source": [
    "set(y)"
   ]
  },
  {
   "cell_type": "code",
   "execution_count": 10,
   "id": "37609992",
   "metadata": {
    "execution": {
     "iopub.execute_input": "2023-03-08T11:21:18.905929Z",
     "iopub.status.busy": "2023-03-08T11:21:18.905473Z",
     "iopub.status.idle": "2023-03-08T11:21:18.919853Z",
     "shell.execute_reply": "2023-03-08T11:21:18.918860Z"
    },
    "papermill": {
     "duration": 0.028554,
     "end_time": "2023-03-08T11:21:18.921935",
     "exception": false,
     "start_time": "2023-03-08T11:21:18.893381",
     "status": "completed"
    },
    "tags": []
   },
   "outputs": [],
   "source": [
    "ts_train, ts_test, y_train, y_test = train_test_split(ts, y, test_size=0.20, random_state=42)"
   ]
  },
  {
   "cell_type": "code",
   "execution_count": 11,
   "id": "34508fe4",
   "metadata": {
    "execution": {
     "iopub.execute_input": "2023-03-08T11:21:18.947063Z",
     "iopub.status.busy": "2023-03-08T11:21:18.946170Z",
     "iopub.status.idle": "2023-03-08T11:21:18.952483Z",
     "shell.execute_reply": "2023-03-08T11:21:18.951587Z"
    },
    "papermill": {
     "duration": 0.020157,
     "end_time": "2023-03-08T11:21:18.954214",
     "exception": false,
     "start_time": "2023-03-08T11:21:18.934057",
     "status": "completed"
    },
    "tags": []
   },
   "outputs": [],
   "source": [
    "X_train, X_test, y_train, y_test = train_test_split(X, y, test_size=0.20, random_state=42)"
   ]
  },
  {
   "cell_type": "code",
   "execution_count": 12,
   "id": "076afac9",
   "metadata": {
    "execution": {
     "iopub.execute_input": "2023-03-08T11:21:18.977684Z",
     "iopub.status.busy": "2023-03-08T11:21:18.977213Z",
     "iopub.status.idle": "2023-03-08T11:21:18.984928Z",
     "shell.execute_reply": "2023-03-08T11:21:18.983970Z"
    },
    "papermill": {
     "duration": 0.021888,
     "end_time": "2023-03-08T11:21:18.986716",
     "exception": false,
     "start_time": "2023-03-08T11:21:18.964828",
     "status": "completed"
    },
    "tags": []
   },
   "outputs": [
    {
     "data": {
      "text/plain": [
       "array([[ 0.61766041],\n",
       "       [-1.24701974],\n",
       "       [-0.17401455],\n",
       "       ...,\n",
       "       [        nan],\n",
       "       [        nan],\n",
       "       [        nan]])"
      ]
     },
     "execution_count": 12,
     "metadata": {},
     "output_type": "execute_result"
    }
   ],
   "source": [
    "random.choice(ts_train)"
   ]
  },
  {
   "cell_type": "code",
   "execution_count": 13,
   "id": "ca66457a",
   "metadata": {
    "execution": {
     "iopub.execute_input": "2023-03-08T11:21:19.010378Z",
     "iopub.status.busy": "2023-03-08T11:21:19.009516Z",
     "iopub.status.idle": "2023-03-08T11:21:19.512244Z",
     "shell.execute_reply": "2023-03-08T11:21:19.511120Z"
    },
    "papermill": {
     "duration": 0.517752,
     "end_time": "2023-03-08T11:21:19.515122",
     "exception": false,
     "start_time": "2023-03-08T11:21:18.997370",
     "status": "completed"
    },
    "tags": []
   },
   "outputs": [
    {
     "data": {
      "text/plain": [
       "<AxesSubplot:ylabel='Count'>"
      ]
     },
     "execution_count": 13,
     "metadata": {},
     "output_type": "execute_result"
    },
    {
     "data": {
      "image/png": "[encoded data removed]",
      "text/plain": [
       "<Figure size 640x480 with 1 Axes>"
      ]
     },
     "metadata": {},
     "output_type": "display_data"
    }
   ],
   "source": [
    "sns.histplot([t[~np.any(np.isnan(t), axis=1)].shape[0] for t in ts_train])"
   ]
  },
  {
   "cell_type": "code",
   "execution_count": 14,
   "id": "c2ae286f",
   "metadata": {
    "execution": {
     "iopub.execute_input": "2023-03-08T11:21:19.579408Z",
     "iopub.status.busy": "2023-03-08T11:21:19.578914Z",
     "iopub.status.idle": "2023-03-08T11:21:19.585446Z",
     "shell.execute_reply": "2023-03-08T11:21:19.583815Z"
    },
    "papermill": {
     "duration": 0.042778,
     "end_time": "2023-03-08T11:21:19.589233",
     "exception": false,
     "start_time": "2023-03-08T11:21:19.546455",
     "status": "completed"
    },
    "tags": []
   },
   "outputs": [],
   "source": [
    "ts_train = ts_train[:, :truncate, :]\n",
    "ts_test = ts_test[:, :truncate, :]"
   ]
  },
  {
   "cell_type": "code",
   "execution_count": 15,
   "id": "3218baa4",
   "metadata": {
    "execution": {
     "iopub.execute_input": "2023-03-08T11:21:19.625633Z",
     "iopub.status.busy": "2023-03-08T11:21:19.625165Z",
     "iopub.status.idle": "2023-03-08T11:21:19.640074Z",
     "shell.execute_reply": "2023-03-08T11:21:19.639115Z"
    },
    "papermill": {
     "duration": 0.029503,
     "end_time": "2023-03-08T11:21:19.642290",
     "exception": false,
     "start_time": "2023-03-08T11:21:19.612787",
     "status": "completed"
    },
    "tags": []
   },
   "outputs": [],
   "source": [
    "mean_arr = np.nanmean(ts_train, axis=1, keepdims=True)\n",
    "nan_indices = np.isnan(ts_train)\n",
    "ts_train[nan_indices] = np.take(mean_arr, np.nonzero(nan_indices)[0])\n",
    "\n",
    "mean_arr = np.nanmean(ts_test, axis=1, keepdims=True)\n",
    "nan_indices = np.isnan(ts_test)\n",
    "ts_test[nan_indices] = np.take(mean_arr, np.nonzero(nan_indices)[0])"
   ]
  },
  {
   "cell_type": "code",
   "execution_count": 16,
   "id": "d369691b",
   "metadata": {
    "execution": {
     "iopub.execute_input": "2023-03-08T11:21:19.669232Z",
     "iopub.status.busy": "2023-03-08T11:21:19.668351Z",
     "iopub.status.idle": "2023-03-08T11:21:19.675087Z",
     "shell.execute_reply": "2023-03-08T11:21:19.674196Z"
    },
    "papermill": {
     "duration": 0.020995,
     "end_time": "2023-03-08T11:21:19.676647",
     "exception": false,
     "start_time": "2023-03-08T11:21:19.655652",
     "status": "completed"
    },
    "tags": []
   },
   "outputs": [
    {
     "data": {
      "text/plain": [
       "0"
      ]
     },
     "execution_count": 16,
     "metadata": {},
     "output_type": "execute_result"
    }
   ],
   "source": [
    "np.count_nonzero(np.isnan(X_train))"
   ]
  },
  {
   "cell_type": "code",
   "execution_count": 17,
   "id": "0d602e18",
   "metadata": {
    "execution": {
     "iopub.execute_input": "2023-03-08T11:21:19.701927Z",
     "iopub.status.busy": "2023-03-08T11:21:19.701459Z",
     "iopub.status.idle": "2023-03-08T11:21:19.706800Z",
     "shell.execute_reply": "2023-03-08T11:21:19.705936Z"
    },
    "papermill": {
     "duration": 0.019847,
     "end_time": "2023-03-08T11:21:19.708476",
     "exception": false,
     "start_time": "2023-03-08T11:21:19.688629",
     "status": "completed"
    },
    "tags": []
   },
   "outputs": [],
   "source": [
    "X_train[np.isnan(X_train)] = 0\n",
    "X_test[np.isnan(X_test)] = 0"
   ]
  },
  {
   "cell_type": "code",
   "execution_count": 18,
   "id": "45c5102c",
   "metadata": {
    "execution": {
     "iopub.execute_input": "2023-03-08T11:21:19.732440Z",
     "iopub.status.busy": "2023-03-08T11:21:19.731958Z",
     "iopub.status.idle": "2023-03-08T11:21:20.033561Z",
     "shell.execute_reply": "2023-03-08T11:21:20.032750Z"
    },
    "papermill": {
     "duration": 0.316996,
     "end_time": "2023-03-08T11:21:20.036510",
     "exception": false,
     "start_time": "2023-03-08T11:21:19.719514",
     "status": "completed"
    },
    "tags": []
   },
   "outputs": [],
   "source": [
    "save_time_series_txt(f'{data_path}/ts_train.txt', ts_train)\n",
    "save_time_series_txt(f'{data_path}/ts_test.txt', ts_test)"
   ]
  },
  {
   "cell_type": "code",
   "execution_count": 19,
   "id": "39830f37",
   "metadata": {
    "execution": {
     "iopub.execute_input": "2023-03-08T11:21:20.063798Z",
     "iopub.status.busy": "2023-03-08T11:21:20.063443Z",
     "iopub.status.idle": "2023-03-08T11:21:20.069847Z",
     "shell.execute_reply": "2023-03-08T11:21:20.068879Z"
    },
    "papermill": {
     "duration": 0.020493,
     "end_time": "2023-03-08T11:21:20.071365",
     "exception": false,
     "start_time": "2023-03-08T11:21:20.050872",
     "status": "completed"
    },
    "tags": []
   },
   "outputs": [],
   "source": [
    "with open(f'{data_path}/X_train.npy', 'wb') as f:\n",
    "    np.save(f, X_train, allow_pickle=True)\n",
    "\n",
    "with open(f'{data_path}/X_test.npy', 'wb') as f:\n",
    "    np.save(f, X_test, allow_pickle=True)"
   ]
  },
  {
   "cell_type": "code",
   "execution_count": 20,
   "id": "795fd2be",
   "metadata": {
    "execution": {
     "iopub.execute_input": "2023-03-08T11:21:20.121112Z",
     "iopub.status.busy": "2023-03-08T11:21:20.120593Z",
     "iopub.status.idle": "2023-03-08T11:21:20.129292Z",
     "shell.execute_reply": "2023-03-08T11:21:20.127967Z"
    },
    "papermill": {
     "duration": 0.045378,
     "end_time": "2023-03-08T11:21:20.132781",
     "exception": false,
     "start_time": "2023-03-08T11:21:20.087403",
     "status": "completed"
    },
    "tags": []
   },
   "outputs": [],
   "source": [
    "with open(f'{data_path}/y_train.npy', 'wb') as f:\n",
    "    np.save(f, y_train, allow_pickle=True)\n",
    "\n",
    "with open(f'{data_path}/y_test.npy', 'wb') as f:\n",
    "    np.save(f, y_test, allow_pickle=True)"
   ]
  },
  {
   "cell_type": "code",
   "execution_count": 21,
   "id": "08bda153",
   "metadata": {
    "execution": {
     "iopub.execute_input": "2023-03-08T11:21:20.174240Z",
     "iopub.status.busy": "2023-03-08T11:21:20.173438Z",
     "iopub.status.idle": "2023-03-08T11:21:20.327478Z",
     "shell.execute_reply": "2023-03-08T11:21:20.326775Z"
    },
    "papermill": {
     "duration": 0.168567,
     "end_time": "2023-03-08T11:21:20.329439",
     "exception": false,
     "start_time": "2023-03-08T11:21:20.160872",
     "status": "completed"
    },
    "tags": []
   },
   "outputs": [
    {
     "data": {
      "text/plain": [
       "[<matplotlib.lines.Line2D at 0x7f35d910e700>]"
      ]
     },
     "execution_count": 21,
     "metadata": {},
     "output_type": "execute_result"
    },
    {
     "data": {
      "image/png": "[encoded data removed]",
      "text/plain": [
       "<Figure size 640x480 with 1 Axes>"
      ]
     },
     "metadata": {},
     "output_type": "display_data"
    }
   ],
   "source": [
    "plt.plot(random.choice(ts_train))"
   ]
  },
  {
   "cell_type": "code",
   "execution_count": 22,
   "id": "98ce9d63",
   "metadata": {
    "execution": {
     "iopub.execute_input": "2023-03-08T11:21:20.359576Z",
     "iopub.status.busy": "2023-03-08T11:21:20.358815Z",
     "iopub.status.idle": "2023-03-08T11:21:20.364295Z",
     "shell.execute_reply": "2023-03-08T11:21:20.363089Z"
    },
    "papermill": {
     "duration": 0.021446,
     "end_time": "2023-03-08T11:21:20.367219",
     "exception": false,
     "start_time": "2023-03-08T11:21:20.345773",
     "status": "completed"
    },
    "tags": []
   },
   "outputs": [],
   "source": [
    "# Parameters that require knowing if it's binary or multiclass (LightGBM, metrics)\n",
    "if len(set(y)) == 2:\n",
    "    avg_par = 'binary'\n",
    "    obj_par = 'binary'\n",
    "elif len(set(y)) > 2:\n",
    "    avg_par = 'macro'\n",
    "    obj_par = 'multiclass'"
   ]
  },
  {
   "cell_type": "markdown",
   "id": "228f1b39",
   "metadata": {
    "papermill": {
     "duration": 0.026227,
     "end_time": "2023-03-08T11:21:20.422764",
     "exception": false,
     "start_time": "2023-03-08T11:21:20.396537",
     "status": "completed"
    },
    "tags": []
   },
   "source": [
    "## Classification"
   ]
  },
  {
   "cell_type": "code",
   "execution_count": 23,
   "id": "34bb73ff",
   "metadata": {
    "execution": {
     "iopub.execute_input": "2023-03-08T11:21:20.448910Z",
     "iopub.status.busy": "2023-03-08T11:21:20.448021Z",
     "iopub.status.idle": "2023-03-08T11:21:20.499780Z",
     "shell.execute_reply": "2023-03-08T11:21:20.498510Z"
    },
    "papermill": {
     "duration": 0.068113,
     "end_time": "2023-03-08T11:21:20.502777",
     "exception": false,
     "start_time": "2023-03-08T11:21:20.434664",
     "status": "completed"
    },
    "tags": []
   },
   "outputs": [],
   "source": [
    "from sklearn.tree import DecisionTreeClassifier\n",
    "import lightgbm as lgbm\n",
    "from sklearn.ensemble import RandomForestClassifier"
   ]
  },
  {
   "cell_type": "code",
   "execution_count": 24,
   "id": "02aaee18",
   "metadata": {
    "execution": {
     "iopub.execute_input": "2023-03-08T11:21:20.530586Z",
     "iopub.status.busy": "2023-03-08T11:21:20.529668Z",
     "iopub.status.idle": "2023-03-08T11:21:20.534836Z",
     "shell.execute_reply": "2023-03-08T11:21:20.533763Z"
    },
    "papermill": {
     "duration": 0.019563,
     "end_time": "2023-03-08T11:21:20.536491",
     "exception": false,
     "start_time": "2023-03-08T11:21:20.516928",
     "status": "completed"
    },
    "tags": []
   },
   "outputs": [],
   "source": [
    "metrics_data = {}"
   ]
  },
  {
   "cell_type": "markdown",
   "id": "b49309ed",
   "metadata": {
    "papermill": {
     "duration": 0.011904,
     "end_time": "2023-03-08T11:21:20.560455",
     "exception": false,
     "start_time": "2023-03-08T11:21:20.548551",
     "status": "completed"
    },
    "tags": []
   },
   "source": [
    "### Baseline: global features (No Time Series)"
   ]
  },
  {
   "cell_type": "code",
   "execution_count": 25,
   "id": "35eb9f66",
   "metadata": {
    "execution": {
     "iopub.execute_input": "2023-03-08T11:21:20.585992Z",
     "iopub.status.busy": "2023-03-08T11:21:20.585210Z",
     "iopub.status.idle": "2023-03-08T11:21:20.590137Z",
     "shell.execute_reply": "2023-03-08T11:21:20.589116Z"
    },
    "papermill": {
     "duration": 0.019447,
     "end_time": "2023-03-08T11:21:20.591722",
     "exception": false,
     "start_time": "2023-03-08T11:21:20.572275",
     "status": "completed"
    },
    "tags": []
   },
   "outputs": [],
   "source": [
    "metrics_data['Global'] = {}"
   ]
  },
  {
   "cell_type": "markdown",
   "id": "29cd5044",
   "metadata": {
    "papermill": {
     "duration": 0.011184,
     "end_time": "2023-03-08T11:21:20.614343",
     "exception": false,
     "start_time": "2023-03-08T11:21:20.603159",
     "status": "completed"
    },
    "tags": []
   },
   "source": [
    "**Decision Tree**"
   ]
  },
  {
   "cell_type": "code",
   "execution_count": 26,
   "id": "9ef4f037",
   "metadata": {
    "execution": {
     "iopub.execute_input": "2023-03-08T11:21:20.639605Z",
     "iopub.status.busy": "2023-03-08T11:21:20.638727Z",
     "iopub.status.idle": "2023-03-08T11:21:20.671849Z",
     "shell.execute_reply": "2023-03-08T11:21:20.671108Z"
    },
    "papermill": {
     "duration": 0.047936,
     "end_time": "2023-03-08T11:21:20.673692",
     "exception": false,
     "start_time": "2023-03-08T11:21:20.625756",
     "status": "completed"
    },
    "tags": []
   },
   "outputs": [
    {
     "data": {
      "text/html": [
       "<style>#sk-container-id-1 {color: black;background-color: white;}#sk-container-id-1 pre{padding: 0;}#sk-container-id-1 div.sk-toggleable {background-color: white;}#sk-container-id-1 label.sk-toggleable__label {cursor: pointer;display: block;width: 100%;margin-bottom: 0;padding: 0.3em;box-sizing: border-box;text-align: center;}#sk-container-id-1 label.sk-toggleable__label-arrow:before {content: \"▸\";float: left;margin-right: 0.25em;color: #696969;}#sk-container-id-1 label.sk-toggleable__label-arrow:hover:before {color: black;}#sk-container-id-1 div.sk-estimator:hover label.sk-toggleable__label-arrow:before {color: black;}#sk-container-id-1 div.sk-toggleable__content {max-height: 0;max-width: 0;overflow: hidden;text-align: left;background-color: #f0f8ff;}#sk-container-id-1 div.sk-toggleable__content pre {margin: 0.2em;color: black;border-radius: 0.25em;background-color: #f0f8ff;}#sk-container-id-1 input.sk-toggleable__control:checked~div.sk-toggleable__content {max-height: 200px;max-width: 100%;overflow: auto;}#sk-container-id-1 input.sk-toggleable__control:checked~label.sk-toggleable__label-arrow:before {content: \"▾\";}#sk-container-id-1 div.sk-estimator input.sk-toggleable__control:checked~label.sk-toggleable__label {background-color: #d4ebff;}#sk-container-id-1 div.sk-label input.sk-toggleable__control:checked~label.sk-toggleable__label {background-color: #d4ebff;}#sk-container-id-1 input.sk-hidden--visually {border: 0;clip: rect(1px 1px 1px 1px);clip: rect(1px, 1px, 1px, 1px);height: 1px;margin: -1px;overflow: hidden;padding: 0;position: absolute;width: 1px;}#sk-container-id-1 div.sk-estimator {font-family: monospace;background-color: #f0f8ff;border: 1px dotted black;border-radius: 0.25em;box-sizing: border-box;margin-bottom: 0.5em;}#sk-container-id-1 div.sk-estimator:hover {background-color: #d4ebff;}#sk-container-id-1 div.sk-parallel-item::after {content: \"\";width: 100%;border-bottom: 1px solid gray;flex-grow: 1;}#sk-container-id-1 div.sk-label:hover label.sk-toggleable__label {background-color: #d4ebff;}#sk-container-id-1 div.sk-serial::before {content: \"\";position: absolute;border-left: 1px solid gray;box-sizing: border-box;top: 0;bottom: 0;left: 50%;z-index: 0;}#sk-container-id-1 div.sk-serial {display: flex;flex-direction: column;align-items: center;background-color: white;padding-right: 0.2em;padding-left: 0.2em;position: relative;}#sk-container-id-1 div.sk-item {position: relative;z-index: 1;}#sk-container-id-1 div.sk-parallel {display: flex;align-items: stretch;justify-content: center;background-color: white;position: relative;}#sk-container-id-1 div.sk-item::before, #sk-container-id-1 div.sk-parallel-item::before {content: \"\";position: absolute;border-left: 1px solid gray;box-sizing: border-box;top: 0;bottom: 0;left: 50%;z-index: -1;}#sk-container-id-1 div.sk-parallel-item {display: flex;flex-direction: column;z-index: 1;position: relative;background-color: white;}#sk-container-id-1 div.sk-parallel-item:first-child::after {align-self: flex-end;width: 50%;}#sk-container-id-1 div.sk-parallel-item:last-child::after {align-self: flex-start;width: 50%;}#sk-container-id-1 div.sk-parallel-item:only-child::after {width: 0;}#sk-container-id-1 div.sk-dashed-wrapped {border: 1px dashed gray;margin: 0 0.4em 0.5em 0.4em;box-sizing: border-box;padding-bottom: 0.4em;background-color: white;}#sk-container-id-1 div.sk-label label {font-family: monospace;font-weight: bold;display: inline-block;line-height: 1.2em;}#sk-container-id-1 div.sk-label-container {text-align: center;}#sk-container-id-1 div.sk-container {/* jupyter's `normalize.less` sets `[hidden] { display: none; }` but bootstrap.min.css set `[hidden] { display: none !important; }` so we also need the `!important` here to be able to override the default hidden behavior on the sphinx rendered scikit-learn.org. See: https://github.com/scikit-learn/scikit-learn/issues/21755 */display: inline-block !important;position: relative;}#sk-container-id-1 div.sk-text-repr-fallback {display: none;}</style><div id=\"sk-container-id-1\" class=\"sk-top-container\"><div class=\"sk-text-repr-fallback\"><pre>DecisionTreeClassifier()</pre><b>In a Jupyter environment, please rerun this cell to show the HTML representation or trust the notebook. <br />On GitHub, the HTML representation is unable to render, please try loading this page with nbviewer.org.</b></div><div class=\"sk-container\" hidden><div class=\"sk-item\"><div class=\"sk-estimator sk-toggleable\"><input class=\"sk-toggleable__control sk-hidden--visually\" id=\"sk-estimator-id-1\" type=\"checkbox\" checked><label for=\"sk-estimator-id-1\" class=\"sk-toggleable__label sk-toggleable__label-arrow\">DecisionTreeClassifier</label><div class=\"sk-toggleable__content\"><pre>DecisionTreeClassifier()</pre></div></div></div></div></div>"
      ],
      "text/plain": [
       "DecisionTreeClassifier()"
      ]
     },
     "execution_count": 26,
     "metadata": {},
     "output_type": "execute_result"
    }
   ],
   "source": [
    "clf = DecisionTreeClassifier()\n",
    "clf.fit(X_train, y_train)"
   ]
  },
  {
   "cell_type": "code",
   "execution_count": 27,
   "id": "9c50acc4",
   "metadata": {
    "execution": {
     "iopub.execute_input": "2023-03-08T11:21:20.702888Z",
     "iopub.status.busy": "2023-03-08T11:21:20.702052Z",
     "iopub.status.idle": "2023-03-08T11:21:20.735482Z",
     "shell.execute_reply": "2023-03-08T11:21:20.733981Z"
    },
    "papermill": {
     "duration": 0.050335,
     "end_time": "2023-03-08T11:21:20.738788",
     "exception": false,
     "start_time": "2023-03-08T11:21:20.688453",
     "status": "completed"
    },
    "tags": []
   },
   "outputs": [
    {
     "name": "stdout",
     "output_type": "stream",
     "text": [
      "              precision    recall  f1-score   support\n",
      "\n",
      "        comp       0.32      0.30      0.31        50\n",
      "        misc       0.20      0.25      0.22         8\n",
      "         rec       0.37      0.38      0.37        47\n",
      "    religion       0.38      0.47      0.42        83\n",
      "         sci       0.30      0.26      0.28        77\n",
      "        talk       0.36      0.32      0.34        90\n",
      "\n",
      "    accuracy                           0.35       355\n",
      "   macro avg       0.32      0.33      0.32       355\n",
      "weighted avg       0.34      0.35      0.34       355\n",
      "\n"
     ]
    }
   ],
   "source": [
    "y_pred = clf.predict(X_test)\n",
    "print(classification_report(y_test, y_pred))"
   ]
  },
  {
   "cell_type": "code",
   "execution_count": 28,
   "id": "8866c3c3",
   "metadata": {
    "execution": {
     "iopub.execute_input": "2023-03-08T11:21:20.794775Z",
     "iopub.status.busy": "2023-03-08T11:21:20.794171Z",
     "iopub.status.idle": "2023-03-08T11:21:20.822141Z",
     "shell.execute_reply": "2023-03-08T11:21:20.820744Z"
    },
    "papermill": {
     "duration": 0.055709,
     "end_time": "2023-03-08T11:21:20.824965",
     "exception": false,
     "start_time": "2023-03-08T11:21:20.769256",
     "status": "completed"
    },
    "tags": []
   },
   "outputs": [],
   "source": [
    "acc = accuracy_score(y_test, y_pred)\n",
    "pre = precision_score(y_test, y_pred, average=avg_par)\n",
    "rec = recall_score(y_test, y_pred, average=avg_par)\n",
    "f1 = f1_score(y_test, y_pred, average=avg_par)\n",
    "\n",
    "metrics_data['Global']['DecisionTree'] = {'Accuracy': acc, 'Precision': pre, 'Recall': rec, 'F1': f1}"
   ]
  },
  {
   "cell_type": "markdown",
   "id": "28aa5a63",
   "metadata": {
    "papermill": {
     "duration": 0.020842,
     "end_time": "2023-03-08T11:21:20.871795",
     "exception": false,
     "start_time": "2023-03-08T11:21:20.850953",
     "status": "completed"
    },
    "tags": []
   },
   "source": [
    "**Random Forest**"
   ]
  },
  {
   "cell_type": "code",
   "execution_count": 29,
   "id": "0e5e2310",
   "metadata": {
    "execution": {
     "iopub.execute_input": "2023-03-08T11:21:20.898134Z",
     "iopub.status.busy": "2023-03-08T11:21:20.897541Z",
     "iopub.status.idle": "2023-03-08T11:21:21.320382Z",
     "shell.execute_reply": "2023-03-08T11:21:21.319265Z"
    },
    "papermill": {
     "duration": 0.439251,
     "end_time": "2023-03-08T11:21:21.323370",
     "exception": false,
     "start_time": "2023-03-08T11:21:20.884119",
     "status": "completed"
    },
    "tags": []
   },
   "outputs": [
    {
     "data": {
      "text/html": [
       "<style>#sk-container-id-2 {color: black;background-color: white;}#sk-container-id-2 pre{padding: 0;}#sk-container-id-2 div.sk-toggleable {background-color: white;}#sk-container-id-2 label.sk-toggleable__label {cursor: pointer;display: block;width: 100%;margin-bottom: 0;padding: 0.3em;box-sizing: border-box;text-align: center;}#sk-container-id-2 label.sk-toggleable__label-arrow:before {content: \"▸\";float: left;margin-right: 0.25em;color: #696969;}#sk-container-id-2 label.sk-toggleable__label-arrow:hover:before {color: black;}#sk-container-id-2 div.sk-estimator:hover label.sk-toggleable__label-arrow:before {color: black;}#sk-container-id-2 div.sk-toggleable__content {max-height: 0;max-width: 0;overflow: hidden;text-align: left;background-color: #f0f8ff;}#sk-container-id-2 div.sk-toggleable__content pre {margin: 0.2em;color: black;border-radius: 0.25em;background-color: #f0f8ff;}#sk-container-id-2 input.sk-toggleable__control:checked~div.sk-toggleable__content {max-height: 200px;max-width: 100%;overflow: auto;}#sk-container-id-2 input.sk-toggleable__control:checked~label.sk-toggleable__label-arrow:before {content: \"▾\";}#sk-container-id-2 div.sk-estimator input.sk-toggleable__control:checked~label.sk-toggleable__label {background-color: #d4ebff;}#sk-container-id-2 div.sk-label input.sk-toggleable__control:checked~label.sk-toggleable__label {background-color: #d4ebff;}#sk-container-id-2 input.sk-hidden--visually {border: 0;clip: rect(1px 1px 1px 1px);clip: rect(1px, 1px, 1px, 1px);height: 1px;margin: -1px;overflow: hidden;padding: 0;position: absolute;width: 1px;}#sk-container-id-2 div.sk-estimator {font-family: monospace;background-color: #f0f8ff;border: 1px dotted black;border-radius: 0.25em;box-sizing: border-box;margin-bottom: 0.5em;}#sk-container-id-2 div.sk-estimator:hover {background-color: #d4ebff;}#sk-container-id-2 div.sk-parallel-item::after {content: \"\";width: 100%;border-bottom: 1px solid gray;flex-grow: 1;}#sk-container-id-2 div.sk-label:hover label.sk-toggleable__label {background-color: #d4ebff;}#sk-container-id-2 div.sk-serial::before {content: \"\";position: absolute;border-left: 1px solid gray;box-sizing: border-box;top: 0;bottom: 0;left: 50%;z-index: 0;}#sk-container-id-2 div.sk-serial {display: flex;flex-direction: column;align-items: center;background-color: white;padding-right: 0.2em;padding-left: 0.2em;position: relative;}#sk-container-id-2 div.sk-item {position: relative;z-index: 1;}#sk-container-id-2 div.sk-parallel {display: flex;align-items: stretch;justify-content: center;background-color: white;position: relative;}#sk-container-id-2 div.sk-item::before, #sk-container-id-2 div.sk-parallel-item::before {content: \"\";position: absolute;border-left: 1px solid gray;box-sizing: border-box;top: 0;bottom: 0;left: 50%;z-index: -1;}#sk-container-id-2 div.sk-parallel-item {display: flex;flex-direction: column;z-index: 1;position: relative;background-color: white;}#sk-container-id-2 div.sk-parallel-item:first-child::after {align-self: flex-end;width: 50%;}#sk-container-id-2 div.sk-parallel-item:last-child::after {align-self: flex-start;width: 50%;}#sk-container-id-2 div.sk-parallel-item:only-child::after {width: 0;}#sk-container-id-2 div.sk-dashed-wrapped {border: 1px dashed gray;margin: 0 0.4em 0.5em 0.4em;box-sizing: border-box;padding-bottom: 0.4em;background-color: white;}#sk-container-id-2 div.sk-label label {font-family: monospace;font-weight: bold;display: inline-block;line-height: 1.2em;}#sk-container-id-2 div.sk-label-container {text-align: center;}#sk-container-id-2 div.sk-container {/* jupyter's `normalize.less` sets `[hidden] { display: none; }` but bootstrap.min.css set `[hidden] { display: none !important; }` so we also need the `!important` here to be able to override the default hidden behavior on the sphinx rendered scikit-learn.org. See: https://github.com/scikit-learn/scikit-learn/issues/21755 */display: inline-block !important;position: relative;}#sk-container-id-2 div.sk-text-repr-fallback {display: none;}</style><div id=\"sk-container-id-2\" class=\"sk-top-container\"><div class=\"sk-text-repr-fallback\"><pre>RandomForestClassifier(random_state=42)</pre><b>In a Jupyter environment, please rerun this cell to show the HTML representation or trust the notebook. <br />On GitHub, the HTML representation is unable to render, please try loading this page with nbviewer.org.</b></div><div class=\"sk-container\" hidden><div class=\"sk-item\"><div class=\"sk-estimator sk-toggleable\"><input class=\"sk-toggleable__control sk-hidden--visually\" id=\"sk-estimator-id-2\" type=\"checkbox\" checked><label for=\"sk-estimator-id-2\" class=\"sk-toggleable__label sk-toggleable__label-arrow\">RandomForestClassifier</label><div class=\"sk-toggleable__content\"><pre>RandomForestClassifier(random_state=42)</pre></div></div></div></div></div>"
      ],
      "text/plain": [
       "RandomForestClassifier(random_state=42)"
      ]
     },
     "execution_count": 29,
     "metadata": {},
     "output_type": "execute_result"
    }
   ],
   "source": [
    "clf = RandomForestClassifier(random_state=42)\n",
    "clf.fit(X_train, y_train)"
   ]
  },
  {
   "cell_type": "code",
   "execution_count": 30,
   "id": "4bd1304b",
   "metadata": {
    "execution": {
     "iopub.execute_input": "2023-03-08T11:21:21.350883Z",
     "iopub.status.busy": "2023-03-08T11:21:21.350568Z",
     "iopub.status.idle": "2023-03-08T11:21:21.385860Z",
     "shell.execute_reply": "2023-03-08T11:21:21.384633Z"
    },
    "papermill": {
     "duration": 0.051913,
     "end_time": "2023-03-08T11:21:21.389405",
     "exception": false,
     "start_time": "2023-03-08T11:21:21.337492",
     "status": "completed"
    },
    "tags": []
   },
   "outputs": [
    {
     "name": "stdout",
     "output_type": "stream",
     "text": [
      "              precision    recall  f1-score   support\n",
      "\n",
      "        comp       0.57      0.34      0.42        50\n",
      "        misc       0.36      0.50      0.42         8\n",
      "         rec       0.49      0.40      0.44        47\n",
      "    religion       0.41      0.58      0.48        83\n",
      "         sci       0.41      0.27      0.33        77\n",
      "        talk       0.34      0.40      0.37        90\n",
      "\n",
      "    accuracy                           0.41       355\n",
      "   macro avg       0.43      0.42      0.41       355\n",
      "weighted avg       0.42      0.41      0.40       355\n",
      "\n"
     ]
    }
   ],
   "source": [
    "y_pred = clf.predict(X_test)\n",
    "print(classification_report(y_test, y_pred))"
   ]
  },
  {
   "cell_type": "code",
   "execution_count": 31,
   "id": "43174ba2",
   "metadata": {
    "execution": {
     "iopub.execute_input": "2023-03-08T11:21:21.458916Z",
     "iopub.status.busy": "2023-03-08T11:21:21.458232Z",
     "iopub.status.idle": "2023-03-08T11:21:21.474385Z",
     "shell.execute_reply": "2023-03-08T11:21:21.473348Z"
    },
    "papermill": {
     "duration": 0.052923,
     "end_time": "2023-03-08T11:21:21.476597",
     "exception": false,
     "start_time": "2023-03-08T11:21:21.423674",
     "status": "completed"
    },
    "tags": []
   },
   "outputs": [],
   "source": [
    "acc = accuracy_score(y_test, y_pred)\n",
    "pre = precision_score(y_test, y_pred, average=avg_par)\n",
    "rec = recall_score(y_test, y_pred, average=avg_par)\n",
    "f1 = f1_score(y_test, y_pred, average=avg_par)\n",
    "\n",
    "metrics_data['Global']['RandomForest'] = {'Accuracy': acc, 'Precision': pre, 'Recall': rec, 'F1': f1}"
   ]
  },
  {
   "cell_type": "markdown",
   "id": "22c98ac5",
   "metadata": {
    "papermill": {
     "duration": 0.011989,
     "end_time": "2023-03-08T11:21:21.501245",
     "exception": false,
     "start_time": "2023-03-08T11:21:21.489256",
     "status": "completed"
    },
    "tags": []
   },
   "source": [
    "**LightGBM**"
   ]
  },
  {
   "cell_type": "code",
   "execution_count": 32,
   "id": "c93b818c",
   "metadata": {
    "execution": {
     "iopub.execute_input": "2023-03-08T11:21:21.527589Z",
     "iopub.status.busy": "2023-03-08T11:21:21.526785Z",
     "iopub.status.idle": "2023-03-08T11:21:21.907934Z",
     "shell.execute_reply": "2023-03-08T11:21:21.907093Z"
    },
    "papermill": {
     "duration": 0.39665,
     "end_time": "2023-03-08T11:21:21.909881",
     "exception": false,
     "start_time": "2023-03-08T11:21:21.513231",
     "status": "completed"
    },
    "tags": []
   },
   "outputs": [
    {
     "data": {
      "text/html": [
       "<style>#sk-container-id-3 {color: black;background-color: white;}#sk-container-id-3 pre{padding: 0;}#sk-container-id-3 div.sk-toggleable {background-color: white;}#sk-container-id-3 label.sk-toggleable__label {cursor: pointer;display: block;width: 100%;margin-bottom: 0;padding: 0.3em;box-sizing: border-box;text-align: center;}#sk-container-id-3 label.sk-toggleable__label-arrow:before {content: \"▸\";float: left;margin-right: 0.25em;color: #696969;}#sk-container-id-3 label.sk-toggleable__label-arrow:hover:before {color: black;}#sk-container-id-3 div.sk-estimator:hover label.sk-toggleable__label-arrow:before {color: black;}#sk-container-id-3 div.sk-toggleable__content {max-height: 0;max-width: 0;overflow: hidden;text-align: left;background-color: #f0f8ff;}#sk-container-id-3 div.sk-toggleable__content pre {margin: 0.2em;color: black;border-radius: 0.25em;background-color: #f0f8ff;}#sk-container-id-3 input.sk-toggleable__control:checked~div.sk-toggleable__content {max-height: 200px;max-width: 100%;overflow: auto;}#sk-container-id-3 input.sk-toggleable__control:checked~label.sk-toggleable__label-arrow:before {content: \"▾\";}#sk-container-id-3 div.sk-estimator input.sk-toggleable__control:checked~label.sk-toggleable__label {background-color: #d4ebff;}#sk-container-id-3 div.sk-label input.sk-toggleable__control:checked~label.sk-toggleable__label {background-color: #d4ebff;}#sk-container-id-3 input.sk-hidden--visually {border: 0;clip: rect(1px 1px 1px 1px);clip: rect(1px, 1px, 1px, 1px);height: 1px;margin: -1px;overflow: hidden;padding: 0;position: absolute;width: 1px;}#sk-container-id-3 div.sk-estimator {font-family: monospace;background-color: #f0f8ff;border: 1px dotted black;border-radius: 0.25em;box-sizing: border-box;margin-bottom: 0.5em;}#sk-container-id-3 div.sk-estimator:hover {background-color: #d4ebff;}#sk-container-id-3 div.sk-parallel-item::after {content: \"\";width: 100%;border-bottom: 1px solid gray;flex-grow: 1;}#sk-container-id-3 div.sk-label:hover label.sk-toggleable__label {background-color: #d4ebff;}#sk-container-id-3 div.sk-serial::before {content: \"\";position: absolute;border-left: 1px solid gray;box-sizing: border-box;top: 0;bottom: 0;left: 50%;z-index: 0;}#sk-container-id-3 div.sk-serial {display: flex;flex-direction: column;align-items: center;background-color: white;padding-right: 0.2em;padding-left: 0.2em;position: relative;}#sk-container-id-3 div.sk-item {position: relative;z-index: 1;}#sk-container-id-3 div.sk-parallel {display: flex;align-items: stretch;justify-content: center;background-color: white;position: relative;}#sk-container-id-3 div.sk-item::before, #sk-container-id-3 div.sk-parallel-item::before {content: \"\";position: absolute;border-left: 1px solid gray;box-sizing: border-box;top: 0;bottom: 0;left: 50%;z-index: -1;}#sk-container-id-3 div.sk-parallel-item {display: flex;flex-direction: column;z-index: 1;position: relative;background-color: white;}#sk-container-id-3 div.sk-parallel-item:first-child::after {align-self: flex-end;width: 50%;}#sk-container-id-3 div.sk-parallel-item:last-child::after {align-self: flex-start;width: 50%;}#sk-container-id-3 div.sk-parallel-item:only-child::after {width: 0;}#sk-container-id-3 div.sk-dashed-wrapped {border: 1px dashed gray;margin: 0 0.4em 0.5em 0.4em;box-sizing: border-box;padding-bottom: 0.4em;background-color: white;}#sk-container-id-3 div.sk-label label {font-family: monospace;font-weight: bold;display: inline-block;line-height: 1.2em;}#sk-container-id-3 div.sk-label-container {text-align: center;}#sk-container-id-3 div.sk-container {/* jupyter's `normalize.less` sets `[hidden] { display: none; }` but bootstrap.min.css set `[hidden] { display: none !important; }` so we also need the `!important` here to be able to override the default hidden behavior on the sphinx rendered scikit-learn.org. See: https://github.com/scikit-learn/scikit-learn/issues/21755 */display: inline-block !important;position: relative;}#sk-container-id-3 div.sk-text-repr-fallback {display: none;}</style><div id=\"sk-container-id-3\" class=\"sk-top-container\"><div class=\"sk-text-repr-fallback\"><pre>LGBMClassifier(objective=&#x27;multiclass&#x27;)</pre><b>In a Jupyter environment, please rerun this cell to show the HTML representation or trust the notebook. <br />On GitHub, the HTML representation is unable to render, please try loading this page with nbviewer.org.</b></div><div class=\"sk-container\" hidden><div class=\"sk-item\"><div class=\"sk-estimator sk-toggleable\"><input class=\"sk-toggleable__control sk-hidden--visually\" id=\"sk-estimator-id-3\" type=\"checkbox\" checked><label for=\"sk-estimator-id-3\" class=\"sk-toggleable__label sk-toggleable__label-arrow\">LGBMClassifier</label><div class=\"sk-toggleable__content\"><pre>LGBMClassifier(objective=&#x27;multiclass&#x27;)</pre></div></div></div></div></div>"
      ],
      "text/plain": [
       "LGBMClassifier(objective='multiclass')"
      ]
     },
     "execution_count": 32,
     "metadata": {},
     "output_type": "execute_result"
    }
   ],
   "source": [
    "clf = lgbm.LGBMClassifier(objective=obj_par) \n",
    "clf.fit(X_train, y_train)"
   ]
  },
  {
   "cell_type": "code",
   "execution_count": 33,
   "id": "600a663a",
   "metadata": {
    "execution": {
     "iopub.execute_input": "2023-03-08T11:21:21.937228Z",
     "iopub.status.busy": "2023-03-08T11:21:21.936425Z",
     "iopub.status.idle": "2023-03-08T11:21:21.960533Z",
     "shell.execute_reply": "2023-03-08T11:21:21.959346Z"
    },
    "papermill": {
     "duration": 0.040372,
     "end_time": "2023-03-08T11:21:21.963225",
     "exception": false,
     "start_time": "2023-03-08T11:21:21.922853",
     "status": "completed"
    },
    "tags": []
   },
   "outputs": [
    {
     "name": "stdout",
     "output_type": "stream",
     "text": [
      "              precision    recall  f1-score   support\n",
      "\n",
      "        comp       0.49      0.34      0.40        50\n",
      "        misc       0.44      0.50      0.47         8\n",
      "         rec       0.39      0.32      0.35        47\n",
      "    religion       0.45      0.57      0.50        83\n",
      "         sci       0.39      0.35      0.37        77\n",
      "        talk       0.42      0.47      0.44        90\n",
      "\n",
      "    accuracy                           0.43       355\n",
      "   macro avg       0.43      0.42      0.42       355\n",
      "weighted avg       0.43      0.43      0.42       355\n",
      "\n"
     ]
    }
   ],
   "source": [
    "y_pred = clf.predict(X_test)\n",
    "print(classification_report(y_test, y_pred))"
   ]
  },
  {
   "cell_type": "code",
   "execution_count": 34,
   "id": "508d831d",
   "metadata": {
    "execution": {
     "iopub.execute_input": "2023-03-08T11:21:21.993630Z",
     "iopub.status.busy": "2023-03-08T11:21:21.993014Z",
     "iopub.status.idle": "2023-03-08T11:21:22.020193Z",
     "shell.execute_reply": "2023-03-08T11:21:22.019192Z"
    },
    "papermill": {
     "duration": 0.043514,
     "end_time": "2023-03-08T11:21:22.022171",
     "exception": false,
     "start_time": "2023-03-08T11:21:21.978657",
     "status": "completed"
    },
    "tags": []
   },
   "outputs": [],
   "source": [
    "acc = accuracy_score(y_test, y_pred)\n",
    "pre = precision_score(y_test, y_pred, average=avg_par)\n",
    "rec = recall_score(y_test, y_pred, average=avg_par)\n",
    "f1 = f1_score(y_test, y_pred, average=avg_par)\n",
    "\n",
    "metrics_data['Global']['LightGBM'] = {'Accuracy': acc, 'Precision': pre, 'Recall': rec, 'F1': f1}"
   ]
  },
  {
   "cell_type": "markdown",
   "id": "14b86894",
   "metadata": {
    "papermill": {
     "duration": 0.01318,
     "end_time": "2023-03-08T11:21:22.049763",
     "exception": false,
     "start_time": "2023-03-08T11:21:22.036583",
     "status": "completed"
    },
    "tags": []
   },
   "source": [
    "### Time Series Classification"
   ]
  },
  {
   "cell_type": "markdown",
   "id": "84c55533",
   "metadata": {
    "papermill": {
     "duration": 0.012611,
     "end_time": "2023-03-08T11:21:22.074424",
     "exception": false,
     "start_time": "2023-03-08T11:21:22.061813",
     "status": "completed"
    },
    "tags": []
   },
   "source": [
    "#### Learning Shapelets"
   ]
  },
  {
   "cell_type": "code",
   "execution_count": 35,
   "id": "488d8eb7",
   "metadata": {
    "execution": {
     "iopub.execute_input": "2023-03-08T11:21:22.101109Z",
     "iopub.status.busy": "2023-03-08T11:21:22.100441Z",
     "iopub.status.idle": "2023-03-08T11:21:23.647086Z",
     "shell.execute_reply": "2023-03-08T11:21:23.646122Z"
    },
    "papermill": {
     "duration": 1.563276,
     "end_time": "2023-03-08T11:21:23.650014",
     "exception": false,
     "start_time": "2023-03-08T11:21:22.086738",
     "status": "completed"
    },
    "tags": []
   },
   "outputs": [
    {
     "name": "stderr",
     "output_type": "stream",
     "text": [
      "2023-03-08 12:21:22.109790: I tensorflow/core/platform/cpu_feature_guard.cc:193] This TensorFlow binary is optimized with oneAPI Deep Neural Network Library (oneDNN) to use the following CPU instructions in performance-critical operations:  AVX2 FMA\n",
      "To enable them in other operations, rebuild TensorFlow with the appropriate compiler flags.\n",
      "2023-03-08 12:21:22.270942: W tensorflow/compiler/xla/stream_executor/platform/default/dso_loader.cc:64] Could not load dynamic library 'libcudart.so.11.0'; dlerror: libcudart.so.11.0: cannot open shared object file: No such file or directory\n",
      "2023-03-08 12:21:22.270964: I tensorflow/compiler/xla/stream_executor/cuda/cudart_stub.cc:29] Ignore above cudart dlerror if you do not have a GPU set up on your machine.\n"
     ]
    },
    {
     "name": "stderr",
     "output_type": "stream",
     "text": [
      "2023-03-08 12:21:22.898890: W tensorflow/compiler/xla/stream_executor/platform/default/dso_loader.cc:64] Could not load dynamic library 'libnvinfer.so.7'; dlerror: libnvinfer.so.7: cannot open shared object file: No such file or directory\n",
      "2023-03-08 12:21:22.899000: W tensorflow/compiler/xla/stream_executor/platform/default/dso_loader.cc:64] Could not load dynamic library 'libnvinfer_plugin.so.7'; dlerror: libnvinfer_plugin.so.7: cannot open shared object file: No such file or directory\n",
      "2023-03-08 12:21:22.899013: W tensorflow/compiler/tf2tensorrt/utils/py_utils.cc:38] TF-TRT Warning: Cannot dlopen some TensorRT libraries. If you would like to use Nvidia GPU with TensorRT, please make sure the missing libraries mentioned above are installed properly.\n"
     ]
    }
   ],
   "source": [
    "from tslearn.shapelets import LearningShapelets, grabocka_params_to_shapelet_size_dict"
   ]
  },
  {
   "cell_type": "code",
   "execution_count": 36,
   "id": "eb677959",
   "metadata": {
    "execution": {
     "iopub.execute_input": "2023-03-08T11:21:23.722748Z",
     "iopub.status.busy": "2023-03-08T11:21:23.722067Z",
     "iopub.status.idle": "2023-03-08T11:21:23.727691Z",
     "shell.execute_reply": "2023-03-08T11:21:23.726718Z"
    },
    "papermill": {
     "duration": 0.045788,
     "end_time": "2023-03-08T11:21:23.730724",
     "exception": false,
     "start_time": "2023-03-08T11:21:23.684936",
     "status": "completed"
    },
    "tags": []
   },
   "outputs": [],
   "source": [
    "n_ts, ts_sz, _ = ts_train.shape\n",
    "n_classes = len(set(y_train))"
   ]
  },
  {
   "cell_type": "code",
   "execution_count": 37,
   "id": "776ed3dd",
   "metadata": {
    "execution": {
     "iopub.execute_input": "2023-03-08T11:21:23.768189Z",
     "iopub.status.busy": "2023-03-08T11:21:23.767268Z",
     "iopub.status.idle": "2023-03-08T11:21:23.776063Z",
     "shell.execute_reply": "2023-03-08T11:21:23.774784Z"
    },
    "papermill": {
     "duration": 0.024166,
     "end_time": "2023-03-08T11:21:23.777824",
     "exception": false,
     "start_time": "2023-03-08T11:21:23.753658",
     "status": "completed"
    },
    "tags": []
   },
   "outputs": [
    {
     "name": "stdout",
     "output_type": "stream",
     "text": [
      "n_ts 1420\n",
      "ts_sz 100\n",
      "n_classes 6\n",
      "shapelet_sizes {10: 5}\n"
     ]
    }
   ],
   "source": [
    "# Set the number of shapelets per size as done in the original paper\n",
    "g_shapelet_sizes = grabocka_params_to_shapelet_size_dict(n_ts=n_ts,\n",
    "                                                         ts_sz=ts_sz,\n",
    "                                                         n_classes=n_classes,\n",
    "                                                         l=0.1,\n",
    "                                                         r=1)\n",
    "\n",
    "print('n_ts', n_ts)\n",
    "print('ts_sz', ts_sz)\n",
    "print('n_classes', n_classes)\n",
    "print('shapelet_sizes', g_shapelet_sizes)"
   ]
  },
  {
   "cell_type": "code",
   "execution_count": 38,
   "id": "90ed707e",
   "metadata": {
    "execution": {
     "iopub.execute_input": "2023-03-08T11:21:23.804858Z",
     "iopub.status.busy": "2023-03-08T11:21:23.804039Z",
     "iopub.status.idle": "2023-03-08T11:21:23.814479Z",
     "shell.execute_reply": "2023-03-08T11:21:23.813156Z"
    },
    "papermill": {
     "duration": 0.026178,
     "end_time": "2023-03-08T11:21:23.816465",
     "exception": false,
     "start_time": "2023-03-08T11:21:23.790287",
     "status": "completed"
    },
    "tags": []
   },
   "outputs": [
    {
     "data": {
      "text/plain": [
       "{10: 5, 20: 5, 5: 5}"
      ]
     },
     "execution_count": 38,
     "metadata": {},
     "output_type": "execute_result"
    }
   ],
   "source": [
    "shapelet_sizes = {}\n",
    "for key in g_shapelet_sizes:\n",
    "    shapelet_sizes[key] = g_shapelet_sizes[key]\n",
    "    shapelet_sizes[key*2] = g_shapelet_sizes[key]\n",
    "    shapelet_sizes[key//2] = g_shapelet_sizes[key]\n",
    "shapelet_sizes"
   ]
  },
  {
   "cell_type": "code",
   "execution_count": 39,
   "id": "3507fb9c",
   "metadata": {
    "execution": {
     "iopub.execute_input": "2023-03-08T11:21:23.843694Z",
     "iopub.status.busy": "2023-03-08T11:21:23.843226Z",
     "iopub.status.idle": "2023-03-08T11:21:23.851005Z",
     "shell.execute_reply": "2023-03-08T11:21:23.849620Z"
    },
    "papermill": {
     "duration": 0.02416,
     "end_time": "2023-03-08T11:21:23.853673",
     "exception": false,
     "start_time": "2023-03-08T11:21:23.829513",
     "status": "completed"
    },
    "tags": []
   },
   "outputs": [
    {
     "name": "stderr",
     "output_type": "stream",
     "text": [
      "/home/mattiapggioli/lyrics2ts/.venv/lib/python3.9/site-packages/tslearn/shapelets/shapelets.py:354: FutureWarning: The default value for 'scale' is set to False in version 0.4 to ensure backward compatibility, but is likely to change in a future version.\n",
      "  warnings.warn(\"The default value for 'scale' is set to False \"\n"
     ]
    }
   ],
   "source": [
    "model = LearningShapelets(n_shapelets_per_size=shapelet_sizes,\n",
    "                          optimizer=\"adam\", \n",
    "                          weight_regularizer=.01, \n",
    "                          max_iter=max_iter, verbose=0, random_state=42)"
   ]
  },
  {
   "cell_type": "code",
   "execution_count": 40,
   "id": "73b1fe2e",
   "metadata": {
    "execution": {
     "iopub.execute_input": "2023-03-08T11:21:23.881430Z",
     "iopub.status.busy": "2023-03-08T11:21:23.881148Z",
     "iopub.status.idle": "2023-03-08T11:23:43.676506Z",
     "shell.execute_reply": "2023-03-08T11:23:43.675714Z"
    },
    "papermill": {
     "duration": 139.825735,
     "end_time": "2023-03-08T11:23:43.693070",
     "exception": false,
     "start_time": "2023-03-08T11:21:23.867335",
     "status": "completed"
    },
    "tags": []
   },
   "outputs": [
    {
     "name": "stderr",
     "output_type": "stream",
     "text": [
      "2023-03-08 12:21:23.936228: W tensorflow/compiler/xla/stream_executor/platform/default/dso_loader.cc:64] Could not load dynamic library 'libcuda.so.1'; dlerror: libcuda.so.1: cannot open shared object file: No such file or directory\n",
      "2023-03-08 12:21:23.936250: W tensorflow/compiler/xla/stream_executor/cuda/cuda_driver.cc:265] failed call to cuInit: UNKNOWN ERROR (303)\n",
      "2023-03-08 12:21:23.936276: I tensorflow/compiler/xla/stream_executor/cuda/cuda_diagnostics.cc:156] kernel driver does not appear to be running on this host (mattiapggioli-ThinkPad-E595): /proc/driver/nvidia/version does not exist\n",
      "2023-03-08 12:21:23.936503: I tensorflow/core/platform/cpu_feature_guard.cc:193] This TensorFlow binary is optimized with oneAPI Deep Neural Network Library (oneDNN) to use the following CPU instructions in performance-critical operations:  AVX2 FMA\n",
      "To enable them in other operations, rebuild TensorFlow with the appropriate compiler flags.\n"
     ]
    },
    {
     "name": "stdout",
     "output_type": "stream",
     "text": [
      "CPU times: user 9min 52s, sys: 32.4 s, total: 10min 24s\n",
      "Wall time: 2min 19s\n"
     ]
    },
    {
     "data": {
      "text/html": [
       "<style>#sk-container-id-4 {color: black;background-color: white;}#sk-container-id-4 pre{padding: 0;}#sk-container-id-4 div.sk-toggleable {background-color: white;}#sk-container-id-4 label.sk-toggleable__label {cursor: pointer;display: block;width: 100%;margin-bottom: 0;padding: 0.3em;box-sizing: border-box;text-align: center;}#sk-container-id-4 label.sk-toggleable__label-arrow:before {content: \"▸\";float: left;margin-right: 0.25em;color: #696969;}#sk-container-id-4 label.sk-toggleable__label-arrow:hover:before {color: black;}#sk-container-id-4 div.sk-estimator:hover label.sk-toggleable__label-arrow:before {color: black;}#sk-container-id-4 div.sk-toggleable__content {max-height: 0;max-width: 0;overflow: hidden;text-align: left;background-color: #f0f8ff;}#sk-container-id-4 div.sk-toggleable__content pre {margin: 0.2em;color: black;border-radius: 0.25em;background-color: #f0f8ff;}#sk-container-id-4 input.sk-toggleable__control:checked~div.sk-toggleable__content {max-height: 200px;max-width: 100%;overflow: auto;}#sk-container-id-4 input.sk-toggleable__control:checked~label.sk-toggleable__label-arrow:before {content: \"▾\";}#sk-container-id-4 div.sk-estimator input.sk-toggleable__control:checked~label.sk-toggleable__label {background-color: #d4ebff;}#sk-container-id-4 div.sk-label input.sk-toggleable__control:checked~label.sk-toggleable__label {background-color: #d4ebff;}#sk-container-id-4 input.sk-hidden--visually {border: 0;clip: rect(1px 1px 1px 1px);clip: rect(1px, 1px, 1px, 1px);height: 1px;margin: -1px;overflow: hidden;padding: 0;position: absolute;width: 1px;}#sk-container-id-4 div.sk-estimator {font-family: monospace;background-color: #f0f8ff;border: 1px dotted black;border-radius: 0.25em;box-sizing: border-box;margin-bottom: 0.5em;}#sk-container-id-4 div.sk-estimator:hover {background-color: #d4ebff;}#sk-container-id-4 div.sk-parallel-item::after {content: \"\";width: 100%;border-bottom: 1px solid gray;flex-grow: 1;}#sk-container-id-4 div.sk-label:hover label.sk-toggleable__label {background-color: #d4ebff;}#sk-container-id-4 div.sk-serial::before {content: \"\";position: absolute;border-left: 1px solid gray;box-sizing: border-box;top: 0;bottom: 0;left: 50%;z-index: 0;}#sk-container-id-4 div.sk-serial {display: flex;flex-direction: column;align-items: center;background-color: white;padding-right: 0.2em;padding-left: 0.2em;position: relative;}#sk-container-id-4 div.sk-item {position: relative;z-index: 1;}#sk-container-id-4 div.sk-parallel {display: flex;align-items: stretch;justify-content: center;background-color: white;position: relative;}#sk-container-id-4 div.sk-item::before, #sk-container-id-4 div.sk-parallel-item::before {content: \"\";position: absolute;border-left: 1px solid gray;box-sizing: border-box;top: 0;bottom: 0;left: 50%;z-index: -1;}#sk-container-id-4 div.sk-parallel-item {display: flex;flex-direction: column;z-index: 1;position: relative;background-color: white;}#sk-container-id-4 div.sk-parallel-item:first-child::after {align-self: flex-end;width: 50%;}#sk-container-id-4 div.sk-parallel-item:last-child::after {align-self: flex-start;width: 50%;}#sk-container-id-4 div.sk-parallel-item:only-child::after {width: 0;}#sk-container-id-4 div.sk-dashed-wrapped {border: 1px dashed gray;margin: 0 0.4em 0.5em 0.4em;box-sizing: border-box;padding-bottom: 0.4em;background-color: white;}#sk-container-id-4 div.sk-label label {font-family: monospace;font-weight: bold;display: inline-block;line-height: 1.2em;}#sk-container-id-4 div.sk-label-container {text-align: center;}#sk-container-id-4 div.sk-container {/* jupyter's `normalize.less` sets `[hidden] { display: none; }` but bootstrap.min.css set `[hidden] { display: none !important; }` so we also need the `!important` here to be able to override the default hidden behavior on the sphinx rendered scikit-learn.org. See: https://github.com/scikit-learn/scikit-learn/issues/21755 */display: inline-block !important;position: relative;}#sk-container-id-4 div.sk-text-repr-fallback {display: none;}</style><div id=\"sk-container-id-4\" class=\"sk-top-container\"><div class=\"sk-text-repr-fallback\"><pre>LearningShapelets(max_iter=2000, n_shapelets_per_size={5: 5, 10: 5, 20: 5},\n",
       "                  optimizer=&#x27;adam&#x27;, random_state=42, weight_regularizer=0.01)</pre><b>In a Jupyter environment, please rerun this cell to show the HTML representation or trust the notebook. <br />On GitHub, the HTML representation is unable to render, please try loading this page with nbviewer.org.</b></div><div class=\"sk-container\" hidden><div class=\"sk-item\"><div class=\"sk-estimator sk-toggleable\"><input class=\"sk-toggleable__control sk-hidden--visually\" id=\"sk-estimator-id-4\" type=\"checkbox\" checked><label for=\"sk-estimator-id-4\" class=\"sk-toggleable__label sk-toggleable__label-arrow\">LearningShapelets</label><div class=\"sk-toggleable__content\"><pre>LearningShapelets(max_iter=2000, n_shapelets_per_size={5: 5, 10: 5, 20: 5},\n",
       "                  optimizer=&#x27;adam&#x27;, random_state=42, weight_regularizer=0.01)</pre></div></div></div></div></div>"
      ],
      "text/plain": [
       "LearningShapelets(max_iter=2000, n_shapelets_per_size={5: 5, 10: 5, 20: 5},\n",
       "                  optimizer='adam', random_state=42, weight_regularizer=0.01)"
      ]
     },
     "execution_count": 40,
     "metadata": {},
     "output_type": "execute_result"
    }
   ],
   "source": [
    "%%time\n",
    "model.fit(ts_train, y_train)"
   ]
  },
  {
   "cell_type": "code",
   "execution_count": 41,
   "id": "51706baa",
   "metadata": {
    "execution": {
     "iopub.execute_input": "2023-03-08T11:23:43.723214Z",
     "iopub.status.busy": "2023-03-08T11:23:43.722254Z",
     "iopub.status.idle": "2023-03-08T11:23:43.757560Z",
     "shell.execute_reply": "2023-03-08T11:23:43.756554Z"
    },
    "papermill": {
     "duration": 0.052682,
     "end_time": "2023-03-08T11:23:43.759786",
     "exception": false,
     "start_time": "2023-03-08T11:23:43.707104",
     "status": "completed"
    },
    "tags": []
   },
   "outputs": [],
   "source": [
    "model.to_pickle(f'{data_path}/shapelets.pkl')"
   ]
  },
  {
   "cell_type": "markdown",
   "id": "309f70dc",
   "metadata": {
    "papermill": {
     "duration": 0.013292,
     "end_time": "2023-03-08T11:23:43.788168",
     "exception": false,
     "start_time": "2023-03-08T11:23:43.774876",
     "status": "completed"
    },
    "tags": []
   },
   "source": [
    "#### Shapelet-Based Classification"
   ]
  },
  {
   "cell_type": "code",
   "execution_count": 42,
   "id": "60125dff",
   "metadata": {
    "execution": {
     "iopub.execute_input": "2023-03-08T11:23:43.816719Z",
     "iopub.status.busy": "2023-03-08T11:23:43.815827Z",
     "iopub.status.idle": "2023-03-08T11:23:43.820734Z",
     "shell.execute_reply": "2023-03-08T11:23:43.819842Z"
    },
    "papermill": {
     "duration": 0.020866,
     "end_time": "2023-03-08T11:23:43.822197",
     "exception": false,
     "start_time": "2023-03-08T11:23:43.801331",
     "status": "completed"
    },
    "tags": []
   },
   "outputs": [],
   "source": [
    "metrics_data['Shapelets'] = {}"
   ]
  },
  {
   "cell_type": "code",
   "execution_count": 43,
   "id": "efb8984d",
   "metadata": {
    "execution": {
     "iopub.execute_input": "2023-03-08T11:23:43.850069Z",
     "iopub.status.busy": "2023-03-08T11:23:43.849579Z",
     "iopub.status.idle": "2023-03-08T11:23:44.304827Z",
     "shell.execute_reply": "2023-03-08T11:23:44.304064Z"
    },
    "papermill": {
     "duration": 0.472845,
     "end_time": "2023-03-08T11:23:44.307806",
     "exception": false,
     "start_time": "2023-03-08T11:23:43.834961",
     "status": "completed"
    },
    "tags": []
   },
   "outputs": [],
   "source": [
    "X_train = model.transform(ts_train)\n",
    "X_test = model.transform(ts_test)"
   ]
  },
  {
   "cell_type": "code",
   "execution_count": 44,
   "id": "2e6c0f22",
   "metadata": {
    "execution": {
     "iopub.execute_input": "2023-03-08T11:23:44.377241Z",
     "iopub.status.busy": "2023-03-08T11:23:44.376691Z",
     "iopub.status.idle": "2023-03-08T11:23:44.407206Z",
     "shell.execute_reply": "2023-03-08T11:23:44.406041Z"
    },
    "papermill": {
     "duration": 0.067756,
     "end_time": "2023-03-08T11:23:44.410376",
     "exception": false,
     "start_time": "2023-03-08T11:23:44.342620",
     "status": "completed"
    },
    "tags": []
   },
   "outputs": [
    {
     "data": {
      "text/html": [
       "<div>\n",
       "<style scoped>\n",
       "    .dataframe tbody tr th:only-of-type {\n",
       "        vertical-align: middle;\n",
       "    }\n",
       "\n",
       "    .dataframe tbody tr th {\n",
       "        vertical-align: top;\n",
       "    }\n",
       "\n",
       "    .dataframe thead th {\n",
       "        text-align: right;\n",
       "    }\n",
       "</style>\n",
       "<table border=\"1\" class=\"dataframe\">\n",
       "  <thead>\n",
       "    <tr style=\"text-align: right;\">\n",
       "      <th></th>\n",
       "      <th>0</th>\n",
       "      <th>1</th>\n",
       "      <th>2</th>\n",
       "      <th>3</th>\n",
       "      <th>4</th>\n",
       "      <th>5</th>\n",
       "      <th>6</th>\n",
       "      <th>7</th>\n",
       "      <th>8</th>\n",
       "      <th>9</th>\n",
       "      <th>10</th>\n",
       "      <th>11</th>\n",
       "      <th>12</th>\n",
       "      <th>13</th>\n",
       "      <th>14</th>\n",
       "    </tr>\n",
       "  </thead>\n",
       "  <tbody>\n",
       "    <tr>\n",
       "      <th>0</th>\n",
       "      <td>2.618872</td>\n",
       "      <td>4.754654</td>\n",
       "      <td>106.970802</td>\n",
       "      <td>2093.411133</td>\n",
       "      <td>1271.334961</td>\n",
       "      <td>0.268905</td>\n",
       "      <td>7.448616</td>\n",
       "      <td>139.417572</td>\n",
       "      <td>345.131500</td>\n",
       "      <td>0.845090</td>\n",
       "      <td>1.033667</td>\n",
       "      <td>0.246406</td>\n",
       "      <td>155.305466</td>\n",
       "      <td>5.510715</td>\n",
       "      <td>4.289295</td>\n",
       "    </tr>\n",
       "    <tr>\n",
       "      <th>1</th>\n",
       "      <td>8.623594</td>\n",
       "      <td>0.455873</td>\n",
       "      <td>160.378845</td>\n",
       "      <td>2402.137451</td>\n",
       "      <td>1553.859375</td>\n",
       "      <td>5.322123</td>\n",
       "      <td>20.041901</td>\n",
       "      <td>206.315659</td>\n",
       "      <td>484.655579</td>\n",
       "      <td>2.289453</td>\n",
       "      <td>8.528579</td>\n",
       "      <td>4.922593</td>\n",
       "      <td>203.895676</td>\n",
       "      <td>1.229375</td>\n",
       "      <td>15.642577</td>\n",
       "    </tr>\n",
       "    <tr>\n",
       "      <th>2</th>\n",
       "      <td>6.807979</td>\n",
       "      <td>0.466541</td>\n",
       "      <td>149.867310</td>\n",
       "      <td>2422.756836</td>\n",
       "      <td>1577.998535</td>\n",
       "      <td>3.653416</td>\n",
       "      <td>17.399265</td>\n",
       "      <td>197.282913</td>\n",
       "      <td>482.052002</td>\n",
       "      <td>1.467722</td>\n",
       "      <td>7.255531</td>\n",
       "      <td>4.412696</td>\n",
       "      <td>195.634155</td>\n",
       "      <td>1.081879</td>\n",
       "      <td>13.763521</td>\n",
       "    </tr>\n",
       "    <tr>\n",
       "      <th>3</th>\n",
       "      <td>4.978117</td>\n",
       "      <td>0.258811</td>\n",
       "      <td>130.111633</td>\n",
       "      <td>2260.675537</td>\n",
       "      <td>1464.111572</td>\n",
       "      <td>2.413232</td>\n",
       "      <td>11.551464</td>\n",
       "      <td>169.013809</td>\n",
       "      <td>432.177094</td>\n",
       "      <td>1.164232</td>\n",
       "      <td>6.005346</td>\n",
       "      <td>3.345292</td>\n",
       "      <td>178.325684</td>\n",
       "      <td>0.791410</td>\n",
       "      <td>10.714835</td>\n",
       "    </tr>\n",
       "    <tr>\n",
       "      <th>4</th>\n",
       "      <td>4.083610</td>\n",
       "      <td>1.767962</td>\n",
       "      <td>140.772079</td>\n",
       "      <td>2360.796631</td>\n",
       "      <td>1518.714478</td>\n",
       "      <td>2.105727</td>\n",
       "      <td>12.663025</td>\n",
       "      <td>181.709259</td>\n",
       "      <td>467.224365</td>\n",
       "      <td>0.800079</td>\n",
       "      <td>3.990103</td>\n",
       "      <td>1.806375</td>\n",
       "      <td>178.097076</td>\n",
       "      <td>3.256963</td>\n",
       "      <td>9.083205</td>\n",
       "    </tr>\n",
       "    <tr>\n",
       "      <th>...</th>\n",
       "      <td>...</td>\n",
       "      <td>...</td>\n",
       "      <td>...</td>\n",
       "      <td>...</td>\n",
       "      <td>...</td>\n",
       "      <td>...</td>\n",
       "      <td>...</td>\n",
       "      <td>...</td>\n",
       "      <td>...</td>\n",
       "      <td>...</td>\n",
       "      <td>...</td>\n",
       "      <td>...</td>\n",
       "      <td>...</td>\n",
       "      <td>...</td>\n",
       "      <td>...</td>\n",
       "    </tr>\n",
       "    <tr>\n",
       "      <th>350</th>\n",
       "      <td>4.614130</td>\n",
       "      <td>3.902131</td>\n",
       "      <td>110.009209</td>\n",
       "      <td>2243.055176</td>\n",
       "      <td>1396.385010</td>\n",
       "      <td>1.030028</td>\n",
       "      <td>11.137499</td>\n",
       "      <td>173.477692</td>\n",
       "      <td>412.062317</td>\n",
       "      <td>0.553526</td>\n",
       "      <td>2.582637</td>\n",
       "      <td>0.893920</td>\n",
       "      <td>170.531769</td>\n",
       "      <td>4.483175</td>\n",
       "      <td>7.148666</td>\n",
       "    </tr>\n",
       "    <tr>\n",
       "      <th>351</th>\n",
       "      <td>4.598413</td>\n",
       "      <td>0.581029</td>\n",
       "      <td>128.150925</td>\n",
       "      <td>2335.857910</td>\n",
       "      <td>1499.519409</td>\n",
       "      <td>3.286303</td>\n",
       "      <td>13.508693</td>\n",
       "      <td>177.358841</td>\n",
       "      <td>454.522614</td>\n",
       "      <td>1.444226</td>\n",
       "      <td>5.629956</td>\n",
       "      <td>3.143389</td>\n",
       "      <td>180.875839</td>\n",
       "      <td>1.194919</td>\n",
       "      <td>10.561320</td>\n",
       "    </tr>\n",
       "    <tr>\n",
       "      <th>352</th>\n",
       "      <td>0.342165</td>\n",
       "      <td>0.948700</td>\n",
       "      <td>90.569633</td>\n",
       "      <td>2230.831543</td>\n",
       "      <td>1425.589844</td>\n",
       "      <td>1.408979</td>\n",
       "      <td>2.868518</td>\n",
       "      <td>122.648331</td>\n",
       "      <td>392.731567</td>\n",
       "      <td>0.611126</td>\n",
       "      <td>3.140606</td>\n",
       "      <td>2.410983</td>\n",
       "      <td>140.296295</td>\n",
       "      <td>2.621982</td>\n",
       "      <td>4.867257</td>\n",
       "    </tr>\n",
       "    <tr>\n",
       "      <th>353</th>\n",
       "      <td>0.689229</td>\n",
       "      <td>6.742899</td>\n",
       "      <td>90.063637</td>\n",
       "      <td>2124.939697</td>\n",
       "      <td>1334.223999</td>\n",
       "      <td>0.207866</td>\n",
       "      <td>4.433525</td>\n",
       "      <td>125.283646</td>\n",
       "      <td>373.602722</td>\n",
       "      <td>1.783017</td>\n",
       "      <td>1.212350</td>\n",
       "      <td>1.064178</td>\n",
       "      <td>127.452736</td>\n",
       "      <td>9.301917</td>\n",
       "      <td>2.485743</td>\n",
       "    </tr>\n",
       "    <tr>\n",
       "      <th>354</th>\n",
       "      <td>3.961192</td>\n",
       "      <td>1.478975</td>\n",
       "      <td>128.234940</td>\n",
       "      <td>2310.355713</td>\n",
       "      <td>1476.675537</td>\n",
       "      <td>2.255238</td>\n",
       "      <td>11.312718</td>\n",
       "      <td>173.476791</td>\n",
       "      <td>447.875732</td>\n",
       "      <td>0.707968</td>\n",
       "      <td>5.118817</td>\n",
       "      <td>2.584234</td>\n",
       "      <td>179.522354</td>\n",
       "      <td>2.887030</td>\n",
       "      <td>10.063242</td>\n",
       "    </tr>\n",
       "  </tbody>\n",
       "</table>\n",
       "<p>355 rows × 15 columns</p>\n",
       "</div>"
      ],
      "text/plain": [
       "           0         1           2            3            4         5   \\\n",
       "0    2.618872  4.754654  106.970802  2093.411133  1271.334961  0.268905   \n",
       "1    8.623594  0.455873  160.378845  2402.137451  1553.859375  5.322123   \n",
       "2    6.807979  0.466541  149.867310  2422.756836  1577.998535  3.653416   \n",
       "3    4.978117  0.258811  130.111633  2260.675537  1464.111572  2.413232   \n",
       "4    4.083610  1.767962  140.772079  2360.796631  1518.714478  2.105727   \n",
       "..        ...       ...         ...          ...          ...       ...   \n",
       "350  4.614130  3.902131  110.009209  2243.055176  1396.385010  1.030028   \n",
       "351  4.598413  0.581029  128.150925  2335.857910  1499.519409  3.286303   \n",
       "352  0.342165  0.948700   90.569633  2230.831543  1425.589844  1.408979   \n",
       "353  0.689229  6.742899   90.063637  2124.939697  1334.223999  0.207866   \n",
       "354  3.961192  1.478975  128.234940  2310.355713  1476.675537  2.255238   \n",
       "\n",
       "            6           7           8         9         10        11  \\\n",
       "0     7.448616  139.417572  345.131500  0.845090  1.033667  0.246406   \n",
       "1    20.041901  206.315659  484.655579  2.289453  8.528579  4.922593   \n",
       "2    17.399265  197.282913  482.052002  1.467722  7.255531  4.412696   \n",
       "3    11.551464  169.013809  432.177094  1.164232  6.005346  3.345292   \n",
       "4    12.663025  181.709259  467.224365  0.800079  3.990103  1.806375   \n",
       "..         ...         ...         ...       ...       ...       ...   \n",
       "350  11.137499  173.477692  412.062317  0.553526  2.582637  0.893920   \n",
       "351  13.508693  177.358841  454.522614  1.444226  5.629956  3.143389   \n",
       "352   2.868518  122.648331  392.731567  0.611126  3.140606  2.410983   \n",
       "353   4.433525  125.283646  373.602722  1.783017  1.212350  1.064178   \n",
       "354  11.312718  173.476791  447.875732  0.707968  5.118817  2.584234   \n",
       "\n",
       "             12        13         14  \n",
       "0    155.305466  5.510715   4.289295  \n",
       "1    203.895676  1.229375  15.642577  \n",
       "2    195.634155  1.081879  13.763521  \n",
       "3    178.325684  0.791410  10.714835  \n",
       "4    178.097076  3.256963   9.083205  \n",
       "..          ...       ...        ...  \n",
       "350  170.531769  4.483175   7.148666  \n",
       "351  180.875839  1.194919  10.561320  \n",
       "352  140.296295  2.621982   4.867257  \n",
       "353  127.452736  9.301917   2.485743  \n",
       "354  179.522354  2.887030  10.063242  \n",
       "\n",
       "[355 rows x 15 columns]"
      ]
     },
     "execution_count": 44,
     "metadata": {},
     "output_type": "execute_result"
    }
   ],
   "source": [
    "pd.DataFrame(X_test)"
   ]
  },
  {
   "cell_type": "markdown",
   "id": "5fa024f7",
   "metadata": {
    "execution": {
     "iopub.execute_input": "2023-02-07T23:47:19.876941Z",
     "iopub.status.busy": "2023-02-07T23:47:19.876424Z",
     "iopub.status.idle": "2023-02-07T23:47:20.399488Z",
     "shell.execute_reply": "2023-02-07T23:47:20.398142Z"
    },
    "papermill": {
     "duration": 0.022813,
     "end_time": "2023-03-08T11:23:44.466724",
     "exception": false,
     "start_time": "2023-03-08T11:23:44.443911",
     "status": "completed"
    },
    "tags": []
   },
   "source": [
    "**Decision Tree**"
   ]
  },
  {
   "cell_type": "code",
   "execution_count": 45,
   "id": "4f5400c9",
   "metadata": {
    "execution": {
     "iopub.execute_input": "2023-03-08T11:23:44.495781Z",
     "iopub.status.busy": "2023-03-08T11:23:44.495208Z",
     "iopub.status.idle": "2023-03-08T11:23:44.558919Z",
     "shell.execute_reply": "2023-03-08T11:23:44.558140Z"
    },
    "papermill": {
     "duration": 0.081064,
     "end_time": "2023-03-08T11:23:44.560935",
     "exception": false,
     "start_time": "2023-03-08T11:23:44.479871",
     "status": "completed"
    },
    "tags": []
   },
   "outputs": [
    {
     "data": {
      "text/html": [
       "<style>#sk-container-id-5 {color: black;background-color: white;}#sk-container-id-5 pre{padding: 0;}#sk-container-id-5 div.sk-toggleable {background-color: white;}#sk-container-id-5 label.sk-toggleable__label {cursor: pointer;display: block;width: 100%;margin-bottom: 0;padding: 0.3em;box-sizing: border-box;text-align: center;}#sk-container-id-5 label.sk-toggleable__label-arrow:before {content: \"▸\";float: left;margin-right: 0.25em;color: #696969;}#sk-container-id-5 label.sk-toggleable__label-arrow:hover:before {color: black;}#sk-container-id-5 div.sk-estimator:hover label.sk-toggleable__label-arrow:before {color: black;}#sk-container-id-5 div.sk-toggleable__content {max-height: 0;max-width: 0;overflow: hidden;text-align: left;background-color: #f0f8ff;}#sk-container-id-5 div.sk-toggleable__content pre {margin: 0.2em;color: black;border-radius: 0.25em;background-color: #f0f8ff;}#sk-container-id-5 input.sk-toggleable__control:checked~div.sk-toggleable__content {max-height: 200px;max-width: 100%;overflow: auto;}#sk-container-id-5 input.sk-toggleable__control:checked~label.sk-toggleable__label-arrow:before {content: \"▾\";}#sk-container-id-5 div.sk-estimator input.sk-toggleable__control:checked~label.sk-toggleable__label {background-color: #d4ebff;}#sk-container-id-5 div.sk-label input.sk-toggleable__control:checked~label.sk-toggleable__label {background-color: #d4ebff;}#sk-container-id-5 input.sk-hidden--visually {border: 0;clip: rect(1px 1px 1px 1px);clip: rect(1px, 1px, 1px, 1px);height: 1px;margin: -1px;overflow: hidden;padding: 0;position: absolute;width: 1px;}#sk-container-id-5 div.sk-estimator {font-family: monospace;background-color: #f0f8ff;border: 1px dotted black;border-radius: 0.25em;box-sizing: border-box;margin-bottom: 0.5em;}#sk-container-id-5 div.sk-estimator:hover {background-color: #d4ebff;}#sk-container-id-5 div.sk-parallel-item::after {content: \"\";width: 100%;border-bottom: 1px solid gray;flex-grow: 1;}#sk-container-id-5 div.sk-label:hover label.sk-toggleable__label {background-color: #d4ebff;}#sk-container-id-5 div.sk-serial::before {content: \"\";position: absolute;border-left: 1px solid gray;box-sizing: border-box;top: 0;bottom: 0;left: 50%;z-index: 0;}#sk-container-id-5 div.sk-serial {display: flex;flex-direction: column;align-items: center;background-color: white;padding-right: 0.2em;padding-left: 0.2em;position: relative;}#sk-container-id-5 div.sk-item {position: relative;z-index: 1;}#sk-container-id-5 div.sk-parallel {display: flex;align-items: stretch;justify-content: center;background-color: white;position: relative;}#sk-container-id-5 div.sk-item::before, #sk-container-id-5 div.sk-parallel-item::before {content: \"\";position: absolute;border-left: 1px solid gray;box-sizing: border-box;top: 0;bottom: 0;left: 50%;z-index: -1;}#sk-container-id-5 div.sk-parallel-item {display: flex;flex-direction: column;z-index: 1;position: relative;background-color: white;}#sk-container-id-5 div.sk-parallel-item:first-child::after {align-self: flex-end;width: 50%;}#sk-container-id-5 div.sk-parallel-item:last-child::after {align-self: flex-start;width: 50%;}#sk-container-id-5 div.sk-parallel-item:only-child::after {width: 0;}#sk-container-id-5 div.sk-dashed-wrapped {border: 1px dashed gray;margin: 0 0.4em 0.5em 0.4em;box-sizing: border-box;padding-bottom: 0.4em;background-color: white;}#sk-container-id-5 div.sk-label label {font-family: monospace;font-weight: bold;display: inline-block;line-height: 1.2em;}#sk-container-id-5 div.sk-label-container {text-align: center;}#sk-container-id-5 div.sk-container {/* jupyter's `normalize.less` sets `[hidden] { display: none; }` but bootstrap.min.css set `[hidden] { display: none !important; }` so we also need the `!important` here to be able to override the default hidden behavior on the sphinx rendered scikit-learn.org. See: https://github.com/scikit-learn/scikit-learn/issues/21755 */display: inline-block !important;position: relative;}#sk-container-id-5 div.sk-text-repr-fallback {display: none;}</style><div id=\"sk-container-id-5\" class=\"sk-top-container\"><div class=\"sk-text-repr-fallback\"><pre>DecisionTreeClassifier(random_state=42)</pre><b>In a Jupyter environment, please rerun this cell to show the HTML representation or trust the notebook. <br />On GitHub, the HTML representation is unable to render, please try loading this page with nbviewer.org.</b></div><div class=\"sk-container\" hidden><div class=\"sk-item\"><div class=\"sk-estimator sk-toggleable\"><input class=\"sk-toggleable__control sk-hidden--visually\" id=\"sk-estimator-id-5\" type=\"checkbox\" checked><label for=\"sk-estimator-id-5\" class=\"sk-toggleable__label sk-toggleable__label-arrow\">DecisionTreeClassifier</label><div class=\"sk-toggleable__content\"><pre>DecisionTreeClassifier(random_state=42)</pre></div></div></div></div></div>"
      ],
      "text/plain": [
       "DecisionTreeClassifier(random_state=42)"
      ]
     },
     "execution_count": 45,
     "metadata": {},
     "output_type": "execute_result"
    }
   ],
   "source": [
    "clf = DecisionTreeClassifier(random_state=42)\n",
    "clf.fit(X_train, y_train)"
   ]
  },
  {
   "cell_type": "code",
   "execution_count": 46,
   "id": "3b56d190",
   "metadata": {
    "execution": {
     "iopub.execute_input": "2023-03-08T11:23:44.590577Z",
     "iopub.status.busy": "2023-03-08T11:23:44.590227Z",
     "iopub.status.idle": "2023-03-08T11:23:44.607619Z",
     "shell.execute_reply": "2023-03-08T11:23:44.606861Z"
    },
    "papermill": {
     "duration": 0.034565,
     "end_time": "2023-03-08T11:23:44.610597",
     "exception": false,
     "start_time": "2023-03-08T11:23:44.576032",
     "status": "completed"
    },
    "tags": []
   },
   "outputs": [
    {
     "name": "stdout",
     "output_type": "stream",
     "text": [
      "              precision    recall  f1-score   support\n",
      "\n",
      "        comp       0.20      0.18      0.19        50\n",
      "        misc       0.40      0.50      0.44         8\n",
      "         rec       0.20      0.26      0.23        47\n",
      "    religion       0.22      0.22      0.22        83\n",
      "         sci       0.23      0.21      0.22        77\n",
      "        talk       0.28      0.27      0.27        90\n",
      "\n",
      "    accuracy                           0.23       355\n",
      "   macro avg       0.25      0.27      0.26       355\n",
      "weighted avg       0.23      0.23      0.23       355\n",
      "\n"
     ]
    }
   ],
   "source": [
    "y_pred = clf.predict(X_test)\n",
    "print(classification_report(y_test, y_pred))"
   ]
  },
  {
   "cell_type": "code",
   "execution_count": 47,
   "id": "42bc91ff",
   "metadata": {
    "execution": {
     "iopub.execute_input": "2023-03-08T11:23:44.668579Z",
     "iopub.status.busy": "2023-03-08T11:23:44.668089Z",
     "iopub.status.idle": "2023-03-08T11:23:44.674869Z",
     "shell.execute_reply": "2023-03-08T11:23:44.673794Z"
    },
    "papermill": {
     "duration": 0.028031,
     "end_time": "2023-03-08T11:23:44.676620",
     "exception": false,
     "start_time": "2023-03-08T11:23:44.648589",
     "status": "completed"
    },
    "tags": []
   },
   "outputs": [],
   "source": [
    "pickle.dump(clf, open(f'{data_path}/decision_tree.pkl', 'wb'))"
   ]
  },
  {
   "cell_type": "code",
   "execution_count": 48,
   "id": "ea9be210",
   "metadata": {
    "execution": {
     "iopub.execute_input": "2023-03-08T11:23:44.705273Z",
     "iopub.status.busy": "2023-03-08T11:23:44.704855Z",
     "iopub.status.idle": "2023-03-08T11:23:44.721587Z",
     "shell.execute_reply": "2023-03-08T11:23:44.720404Z"
    },
    "papermill": {
     "duration": 0.033776,
     "end_time": "2023-03-08T11:23:44.723911",
     "exception": false,
     "start_time": "2023-03-08T11:23:44.690135",
     "status": "completed"
    },
    "tags": []
   },
   "outputs": [],
   "source": [
    "acc = accuracy_score(y_test, y_pred)\n",
    "pre = precision_score(y_test, y_pred, average=avg_par)\n",
    "rec = recall_score(y_test, y_pred, average=avg_par)\n",
    "f1 = f1_score(y_test, y_pred, average=avg_par)\n",
    "\n",
    "metrics_data['Shapelets']['DecisionTree'] = {'Accuracy': acc, 'Precision': pre, 'Recall': rec, 'F1': f1}"
   ]
  },
  {
   "cell_type": "markdown",
   "id": "3ca3443b",
   "metadata": {
    "papermill": {
     "duration": 0.013781,
     "end_time": "2023-03-08T11:23:44.752811",
     "exception": false,
     "start_time": "2023-03-08T11:23:44.739030",
     "status": "completed"
    },
    "tags": []
   },
   "source": [
    "**Random Forest**"
   ]
  },
  {
   "cell_type": "code",
   "execution_count": 49,
   "id": "37795e21",
   "metadata": {
    "execution": {
     "iopub.execute_input": "2023-03-08T11:23:44.781866Z",
     "iopub.status.busy": "2023-03-08T11:23:44.780988Z",
     "iopub.status.idle": "2023-03-08T11:23:45.260385Z",
     "shell.execute_reply": "2023-03-08T11:23:45.259347Z"
    },
    "papermill": {
     "duration": 0.497292,
     "end_time": "2023-03-08T11:23:45.263416",
     "exception": false,
     "start_time": "2023-03-08T11:23:44.766124",
     "status": "completed"
    },
    "tags": []
   },
   "outputs": [
    {
     "data": {
      "text/html": [
       "<style>#sk-container-id-6 {color: black;background-color: white;}#sk-container-id-6 pre{padding: 0;}#sk-container-id-6 div.sk-toggleable {background-color: white;}#sk-container-id-6 label.sk-toggleable__label {cursor: pointer;display: block;width: 100%;margin-bottom: 0;padding: 0.3em;box-sizing: border-box;text-align: center;}#sk-container-id-6 label.sk-toggleable__label-arrow:before {content: \"▸\";float: left;margin-right: 0.25em;color: #696969;}#sk-container-id-6 label.sk-toggleable__label-arrow:hover:before {color: black;}#sk-container-id-6 div.sk-estimator:hover label.sk-toggleable__label-arrow:before {color: black;}#sk-container-id-6 div.sk-toggleable__content {max-height: 0;max-width: 0;overflow: hidden;text-align: left;background-color: #f0f8ff;}#sk-container-id-6 div.sk-toggleable__content pre {margin: 0.2em;color: black;border-radius: 0.25em;background-color: #f0f8ff;}#sk-container-id-6 input.sk-toggleable__control:checked~div.sk-toggleable__content {max-height: 200px;max-width: 100%;overflow: auto;}#sk-container-id-6 input.sk-toggleable__control:checked~label.sk-toggleable__label-arrow:before {content: \"▾\";}#sk-container-id-6 div.sk-estimator input.sk-toggleable__control:checked~label.sk-toggleable__label {background-color: #d4ebff;}#sk-container-id-6 div.sk-label input.sk-toggleable__control:checked~label.sk-toggleable__label {background-color: #d4ebff;}#sk-container-id-6 input.sk-hidden--visually {border: 0;clip: rect(1px 1px 1px 1px);clip: rect(1px, 1px, 1px, 1px);height: 1px;margin: -1px;overflow: hidden;padding: 0;position: absolute;width: 1px;}#sk-container-id-6 div.sk-estimator {font-family: monospace;background-color: #f0f8ff;border: 1px dotted black;border-radius: 0.25em;box-sizing: border-box;margin-bottom: 0.5em;}#sk-container-id-6 div.sk-estimator:hover {background-color: #d4ebff;}#sk-container-id-6 div.sk-parallel-item::after {content: \"\";width: 100%;border-bottom: 1px solid gray;flex-grow: 1;}#sk-container-id-6 div.sk-label:hover label.sk-toggleable__label {background-color: #d4ebff;}#sk-container-id-6 div.sk-serial::before {content: \"\";position: absolute;border-left: 1px solid gray;box-sizing: border-box;top: 0;bottom: 0;left: 50%;z-index: 0;}#sk-container-id-6 div.sk-serial {display: flex;flex-direction: column;align-items: center;background-color: white;padding-right: 0.2em;padding-left: 0.2em;position: relative;}#sk-container-id-6 div.sk-item {position: relative;z-index: 1;}#sk-container-id-6 div.sk-parallel {display: flex;align-items: stretch;justify-content: center;background-color: white;position: relative;}#sk-container-id-6 div.sk-item::before, #sk-container-id-6 div.sk-parallel-item::before {content: \"\";position: absolute;border-left: 1px solid gray;box-sizing: border-box;top: 0;bottom: 0;left: 50%;z-index: -1;}#sk-container-id-6 div.sk-parallel-item {display: flex;flex-direction: column;z-index: 1;position: relative;background-color: white;}#sk-container-id-6 div.sk-parallel-item:first-child::after {align-self: flex-end;width: 50%;}#sk-container-id-6 div.sk-parallel-item:last-child::after {align-self: flex-start;width: 50%;}#sk-container-id-6 div.sk-parallel-item:only-child::after {width: 0;}#sk-container-id-6 div.sk-dashed-wrapped {border: 1px dashed gray;margin: 0 0.4em 0.5em 0.4em;box-sizing: border-box;padding-bottom: 0.4em;background-color: white;}#sk-container-id-6 div.sk-label label {font-family: monospace;font-weight: bold;display: inline-block;line-height: 1.2em;}#sk-container-id-6 div.sk-label-container {text-align: center;}#sk-container-id-6 div.sk-container {/* jupyter's `normalize.less` sets `[hidden] { display: none; }` but bootstrap.min.css set `[hidden] { display: none !important; }` so we also need the `!important` here to be able to override the default hidden behavior on the sphinx rendered scikit-learn.org. See: https://github.com/scikit-learn/scikit-learn/issues/21755 */display: inline-block !important;position: relative;}#sk-container-id-6 div.sk-text-repr-fallback {display: none;}</style><div id=\"sk-container-id-6\" class=\"sk-top-container\"><div class=\"sk-text-repr-fallback\"><pre>RandomForestClassifier(random_state=42)</pre><b>In a Jupyter environment, please rerun this cell to show the HTML representation or trust the notebook. <br />On GitHub, the HTML representation is unable to render, please try loading this page with nbviewer.org.</b></div><div class=\"sk-container\" hidden><div class=\"sk-item\"><div class=\"sk-estimator sk-toggleable\"><input class=\"sk-toggleable__control sk-hidden--visually\" id=\"sk-estimator-id-6\" type=\"checkbox\" checked><label for=\"sk-estimator-id-6\" class=\"sk-toggleable__label sk-toggleable__label-arrow\">RandomForestClassifier</label><div class=\"sk-toggleable__content\"><pre>RandomForestClassifier(random_state=42)</pre></div></div></div></div></div>"
      ],
      "text/plain": [
       "RandomForestClassifier(random_state=42)"
      ]
     },
     "execution_count": 49,
     "metadata": {},
     "output_type": "execute_result"
    }
   ],
   "source": [
    "clf = RandomForestClassifier(random_state=42)\n",
    "clf.fit(X_train, y_train)"
   ]
  },
  {
   "cell_type": "code",
   "execution_count": 50,
   "id": "581ab90a",
   "metadata": {
    "execution": {
     "iopub.execute_input": "2023-03-08T11:23:45.341364Z",
     "iopub.status.busy": "2023-03-08T11:23:45.341059Z",
     "iopub.status.idle": "2023-03-08T11:23:45.374557Z",
     "shell.execute_reply": "2023-03-08T11:23:45.373828Z"
    },
    "papermill": {
     "duration": 0.076,
     "end_time": "2023-03-08T11:23:45.377480",
     "exception": false,
     "start_time": "2023-03-08T11:23:45.301480",
     "status": "completed"
    },
    "tags": []
   },
   "outputs": [
    {
     "name": "stdout",
     "output_type": "stream",
     "text": [
      "              precision    recall  f1-score   support\n",
      "\n",
      "        comp       0.28      0.16      0.20        50\n",
      "        misc       0.60      0.38      0.46         8\n",
      "         rec       0.26      0.17      0.21        47\n",
      "    religion       0.29      0.37      0.32        83\n",
      "         sci       0.33      0.21      0.26        77\n",
      "        talk       0.28      0.42      0.34        90\n",
      "\n",
      "    accuracy                           0.29       355\n",
      "   macro avg       0.34      0.28      0.30       355\n",
      "weighted avg       0.30      0.29      0.28       355\n",
      "\n"
     ]
    }
   ],
   "source": [
    "y_pred = clf.predict(X_test)\n",
    "print(classification_report(y_test, y_pred))"
   ]
  },
  {
   "cell_type": "code",
   "execution_count": 51,
   "id": "faf1d7f4",
   "metadata": {
    "execution": {
     "iopub.execute_input": "2023-03-08T11:23:45.434801Z",
     "iopub.status.busy": "2023-03-08T11:23:45.433959Z",
     "iopub.status.idle": "2023-03-08T11:23:45.457678Z",
     "shell.execute_reply": "2023-03-08T11:23:45.456358Z"
    },
    "papermill": {
     "duration": 0.052695,
     "end_time": "2023-03-08T11:23:45.460892",
     "exception": false,
     "start_time": "2023-03-08T11:23:45.408197",
     "status": "completed"
    },
    "tags": []
   },
   "outputs": [],
   "source": [
    "acc = accuracy_score(y_test, y_pred)\n",
    "pre = precision_score(y_test, y_pred, average=avg_par)\n",
    "rec = recall_score(y_test, y_pred, average=avg_par)\n",
    "f1 = f1_score(y_test, y_pred, average=avg_par)\n",
    "\n",
    "metrics_data['Shapelets']['RandomForest'] = {'Accuracy': acc, 'Precision': pre, 'Recall': rec, 'F1': f1}"
   ]
  },
  {
   "cell_type": "markdown",
   "id": "61fceefb",
   "metadata": {
    "papermill": {
     "duration": 0.021521,
     "end_time": "2023-03-08T11:23:45.511020",
     "exception": false,
     "start_time": "2023-03-08T11:23:45.489499",
     "status": "completed"
    },
    "tags": []
   },
   "source": [
    "**LightGBM**"
   ]
  },
  {
   "cell_type": "code",
   "execution_count": 52,
   "id": "194189da",
   "metadata": {
    "execution": {
     "iopub.execute_input": "2023-03-08T11:23:45.541717Z",
     "iopub.status.busy": "2023-03-08T11:23:45.540832Z",
     "iopub.status.idle": "2023-03-08T11:23:46.006566Z",
     "shell.execute_reply": "2023-03-08T11:23:46.005484Z"
    },
    "papermill": {
     "duration": 0.484065,
     "end_time": "2023-03-08T11:23:46.009027",
     "exception": false,
     "start_time": "2023-03-08T11:23:45.524962",
     "status": "completed"
    },
    "tags": []
   },
   "outputs": [
    {
     "data": {
      "text/html": [
       "<style>#sk-container-id-7 {color: black;background-color: white;}#sk-container-id-7 pre{padding: 0;}#sk-container-id-7 div.sk-toggleable {background-color: white;}#sk-container-id-7 label.sk-toggleable__label {cursor: pointer;display: block;width: 100%;margin-bottom: 0;padding: 0.3em;box-sizing: border-box;text-align: center;}#sk-container-id-7 label.sk-toggleable__label-arrow:before {content: \"▸\";float: left;margin-right: 0.25em;color: #696969;}#sk-container-id-7 label.sk-toggleable__label-arrow:hover:before {color: black;}#sk-container-id-7 div.sk-estimator:hover label.sk-toggleable__label-arrow:before {color: black;}#sk-container-id-7 div.sk-toggleable__content {max-height: 0;max-width: 0;overflow: hidden;text-align: left;background-color: #f0f8ff;}#sk-container-id-7 div.sk-toggleable__content pre {margin: 0.2em;color: black;border-radius: 0.25em;background-color: #f0f8ff;}#sk-container-id-7 input.sk-toggleable__control:checked~div.sk-toggleable__content {max-height: 200px;max-width: 100%;overflow: auto;}#sk-container-id-7 input.sk-toggleable__control:checked~label.sk-toggleable__label-arrow:before {content: \"▾\";}#sk-container-id-7 div.sk-estimator input.sk-toggleable__control:checked~label.sk-toggleable__label {background-color: #d4ebff;}#sk-container-id-7 div.sk-label input.sk-toggleable__control:checked~label.sk-toggleable__label {background-color: #d4ebff;}#sk-container-id-7 input.sk-hidden--visually {border: 0;clip: rect(1px 1px 1px 1px);clip: rect(1px, 1px, 1px, 1px);height: 1px;margin: -1px;overflow: hidden;padding: 0;position: absolute;width: 1px;}#sk-container-id-7 div.sk-estimator {font-family: monospace;background-color: #f0f8ff;border: 1px dotted black;border-radius: 0.25em;box-sizing: border-box;margin-bottom: 0.5em;}#sk-container-id-7 div.sk-estimator:hover {background-color: #d4ebff;}#sk-container-id-7 div.sk-parallel-item::after {content: \"\";width: 100%;border-bottom: 1px solid gray;flex-grow: 1;}#sk-container-id-7 div.sk-label:hover label.sk-toggleable__label {background-color: #d4ebff;}#sk-container-id-7 div.sk-serial::before {content: \"\";position: absolute;border-left: 1px solid gray;box-sizing: border-box;top: 0;bottom: 0;left: 50%;z-index: 0;}#sk-container-id-7 div.sk-serial {display: flex;flex-direction: column;align-items: center;background-color: white;padding-right: 0.2em;padding-left: 0.2em;position: relative;}#sk-container-id-7 div.sk-item {position: relative;z-index: 1;}#sk-container-id-7 div.sk-parallel {display: flex;align-items: stretch;justify-content: center;background-color: white;position: relative;}#sk-container-id-7 div.sk-item::before, #sk-container-id-7 div.sk-parallel-item::before {content: \"\";position: absolute;border-left: 1px solid gray;box-sizing: border-box;top: 0;bottom: 0;left: 50%;z-index: -1;}#sk-container-id-7 div.sk-parallel-item {display: flex;flex-direction: column;z-index: 1;position: relative;background-color: white;}#sk-container-id-7 div.sk-parallel-item:first-child::after {align-self: flex-end;width: 50%;}#sk-container-id-7 div.sk-parallel-item:last-child::after {align-self: flex-start;width: 50%;}#sk-container-id-7 div.sk-parallel-item:only-child::after {width: 0;}#sk-container-id-7 div.sk-dashed-wrapped {border: 1px dashed gray;margin: 0 0.4em 0.5em 0.4em;box-sizing: border-box;padding-bottom: 0.4em;background-color: white;}#sk-container-id-7 div.sk-label label {font-family: monospace;font-weight: bold;display: inline-block;line-height: 1.2em;}#sk-container-id-7 div.sk-label-container {text-align: center;}#sk-container-id-7 div.sk-container {/* jupyter's `normalize.less` sets `[hidden] { display: none; }` but bootstrap.min.css set `[hidden] { display: none !important; }` so we also need the `!important` here to be able to override the default hidden behavior on the sphinx rendered scikit-learn.org. See: https://github.com/scikit-learn/scikit-learn/issues/21755 */display: inline-block !important;position: relative;}#sk-container-id-7 div.sk-text-repr-fallback {display: none;}</style><div id=\"sk-container-id-7\" class=\"sk-top-container\"><div class=\"sk-text-repr-fallback\"><pre>LGBMClassifier(objective=&#x27;multiclass&#x27;)</pre><b>In a Jupyter environment, please rerun this cell to show the HTML representation or trust the notebook. <br />On GitHub, the HTML representation is unable to render, please try loading this page with nbviewer.org.</b></div><div class=\"sk-container\" hidden><div class=\"sk-item\"><div class=\"sk-estimator sk-toggleable\"><input class=\"sk-toggleable__control sk-hidden--visually\" id=\"sk-estimator-id-7\" type=\"checkbox\" checked><label for=\"sk-estimator-id-7\" class=\"sk-toggleable__label sk-toggleable__label-arrow\">LGBMClassifier</label><div class=\"sk-toggleable__content\"><pre>LGBMClassifier(objective=&#x27;multiclass&#x27;)</pre></div></div></div></div></div>"
      ],
      "text/plain": [
       "LGBMClassifier(objective='multiclass')"
      ]
     },
     "execution_count": 52,
     "metadata": {},
     "output_type": "execute_result"
    }
   ],
   "source": [
    "clf = lgbm.LGBMClassifier(objective=obj_par) \n",
    "clf.fit(X_train, y_train)"
   ]
  },
  {
   "cell_type": "code",
   "execution_count": 53,
   "id": "355a078b",
   "metadata": {
    "execution": {
     "iopub.execute_input": "2023-03-08T11:23:46.041297Z",
     "iopub.status.busy": "2023-03-08T11:23:46.040871Z",
     "iopub.status.idle": "2023-03-08T11:23:46.070198Z",
     "shell.execute_reply": "2023-03-08T11:23:46.069310Z"
    },
    "papermill": {
     "duration": 0.046344,
     "end_time": "2023-03-08T11:23:46.072073",
     "exception": false,
     "start_time": "2023-03-08T11:23:46.025729",
     "status": "completed"
    },
    "tags": []
   },
   "outputs": [
    {
     "name": "stdout",
     "output_type": "stream",
     "text": [
      "              precision    recall  f1-score   support\n",
      "\n",
      "        comp       0.36      0.20      0.26        50\n",
      "        misc       1.00      0.25      0.40         8\n",
      "         rec       0.27      0.17      0.21        47\n",
      "    religion       0.34      0.46      0.39        83\n",
      "         sci       0.30      0.22      0.25        77\n",
      "        talk       0.31      0.43      0.36        90\n",
      "\n",
      "    accuracy                           0.32       355\n",
      "   macro avg       0.43      0.29      0.31       355\n",
      "weighted avg       0.33      0.32      0.31       355\n",
      "\n"
     ]
    }
   ],
   "source": [
    "y_pred = clf.predict(X_test)\n",
    "print(classification_report(y_test, y_pred))"
   ]
  },
  {
   "cell_type": "code",
   "execution_count": 54,
   "id": "f22b911e",
   "metadata": {
    "execution": {
     "iopub.execute_input": "2023-03-08T11:23:46.104908Z",
     "iopub.status.busy": "2023-03-08T11:23:46.104129Z",
     "iopub.status.idle": "2023-03-08T11:23:46.131988Z",
     "shell.execute_reply": "2023-03-08T11:23:46.130920Z"
    },
    "papermill": {
     "duration": 0.046533,
     "end_time": "2023-03-08T11:23:46.134925",
     "exception": false,
     "start_time": "2023-03-08T11:23:46.088392",
     "status": "completed"
    },
    "tags": []
   },
   "outputs": [],
   "source": [
    "acc = accuracy_score(y_test, y_pred)\n",
    "pre = precision_score(y_test, y_pred, average=avg_par)\n",
    "rec = recall_score(y_test, y_pred, average=avg_par)\n",
    "f1 = f1_score(y_test, y_pred, average=avg_par)\n",
    "\n",
    "metrics_data['Shapelets']['LightGBM'] = {'Accuracy': acc, 'Precision': pre, 'Recall': rec, 'F1': f1}"
   ]
  },
  {
   "cell_type": "markdown",
   "id": "0809af9f",
   "metadata": {
    "papermill": {
     "duration": 0.024104,
     "end_time": "2023-03-08T11:23:46.195222",
     "exception": false,
     "start_time": "2023-03-08T11:23:46.171118",
     "status": "completed"
    },
    "tags": []
   },
   "source": [
    "#### KNN"
   ]
  },
  {
   "cell_type": "code",
   "execution_count": 55,
   "id": "1c9237e0",
   "metadata": {
    "execution": {
     "iopub.execute_input": "2023-03-08T11:23:46.226557Z",
     "iopub.status.busy": "2023-03-08T11:23:46.225757Z",
     "iopub.status.idle": "2023-03-08T11:23:46.232795Z",
     "shell.execute_reply": "2023-03-08T11:23:46.231546Z"
    },
    "papermill": {
     "duration": 0.025026,
     "end_time": "2023-03-08T11:23:46.234575",
     "exception": false,
     "start_time": "2023-03-08T11:23:46.209549",
     "status": "completed"
    },
    "tags": []
   },
   "outputs": [],
   "source": [
    "X_train = ts_train.reshape((ts_train.shape[0], ts_train.shape[1]))\n",
    "X_test = ts_test.reshape((ts_test.shape[0], ts_test.shape[1]))"
   ]
  },
  {
   "cell_type": "code",
   "execution_count": 56,
   "id": "192f3c3f",
   "metadata": {
    "execution": {
     "iopub.execute_input": "2023-03-08T11:23:46.264301Z",
     "iopub.status.busy": "2023-03-08T11:23:46.263835Z",
     "iopub.status.idle": "2023-03-08T11:23:46.271155Z",
     "shell.execute_reply": "2023-03-08T11:23:46.270048Z"
    },
    "papermill": {
     "duration": 0.024178,
     "end_time": "2023-03-08T11:23:46.272839",
     "exception": false,
     "start_time": "2023-03-08T11:23:46.248661",
     "status": "completed"
    },
    "tags": []
   },
   "outputs": [
    {
     "data": {
      "text/plain": [
       "(1420, 100)"
      ]
     },
     "execution_count": 56,
     "metadata": {},
     "output_type": "execute_result"
    }
   ],
   "source": [
    "X_train.shape"
   ]
  },
  {
   "cell_type": "code",
   "execution_count": 57,
   "id": "de0e5000",
   "metadata": {
    "execution": {
     "iopub.execute_input": "2023-03-08T11:23:46.302944Z",
     "iopub.status.busy": "2023-03-08T11:23:46.302472Z",
     "iopub.status.idle": "2023-03-08T11:23:46.308026Z",
     "shell.execute_reply": "2023-03-08T11:23:46.306687Z"
    },
    "papermill": {
     "duration": 0.022904,
     "end_time": "2023-03-08T11:23:46.309789",
     "exception": false,
     "start_time": "2023-03-08T11:23:46.286885",
     "status": "completed"
    },
    "tags": []
   },
   "outputs": [],
   "source": [
    "metrics_data['KNN'] = {}"
   ]
  },
  {
   "cell_type": "markdown",
   "id": "8ee39c05",
   "metadata": {
    "papermill": {
     "duration": 0.014368,
     "end_time": "2023-03-08T11:23:46.338554",
     "exception": false,
     "start_time": "2023-03-08T11:23:46.324186",
     "status": "completed"
    },
    "tags": []
   },
   "source": [
    "**Euclidean Distance**"
   ]
  },
  {
   "cell_type": "code",
   "execution_count": 58,
   "id": "55db1f58",
   "metadata": {
    "execution": {
     "iopub.execute_input": "2023-03-08T11:23:46.369335Z",
     "iopub.status.busy": "2023-03-08T11:23:46.368857Z",
     "iopub.status.idle": "2023-03-08T11:23:46.374317Z",
     "shell.execute_reply": "2023-03-08T11:23:46.373078Z"
    },
    "papermill": {
     "duration": 0.022817,
     "end_time": "2023-03-08T11:23:46.376062",
     "exception": false,
     "start_time": "2023-03-08T11:23:46.353245",
     "status": "completed"
    },
    "tags": []
   },
   "outputs": [],
   "source": [
    "from sklearn.neighbors import KNeighborsClassifier"
   ]
  },
  {
   "cell_type": "code",
   "execution_count": 59,
   "id": "132c2537",
   "metadata": {
    "execution": {
     "iopub.execute_input": "2023-03-08T11:23:46.406508Z",
     "iopub.status.busy": "2023-03-08T11:23:46.406002Z",
     "iopub.status.idle": "2023-03-08T11:23:46.419574Z",
     "shell.execute_reply": "2023-03-08T11:23:46.418243Z"
    },
    "papermill": {
     "duration": 0.031729,
     "end_time": "2023-03-08T11:23:46.421751",
     "exception": false,
     "start_time": "2023-03-08T11:23:46.390022",
     "status": "completed"
    },
    "tags": []
   },
   "outputs": [
    {
     "data": {
      "text/html": [
       "<style>#sk-container-id-8 {color: black;background-color: white;}#sk-container-id-8 pre{padding: 0;}#sk-container-id-8 div.sk-toggleable {background-color: white;}#sk-container-id-8 label.sk-toggleable__label {cursor: pointer;display: block;width: 100%;margin-bottom: 0;padding: 0.3em;box-sizing: border-box;text-align: center;}#sk-container-id-8 label.sk-toggleable__label-arrow:before {content: \"▸\";float: left;margin-right: 0.25em;color: #696969;}#sk-container-id-8 label.sk-toggleable__label-arrow:hover:before {color: black;}#sk-container-id-8 div.sk-estimator:hover label.sk-toggleable__label-arrow:before {color: black;}#sk-container-id-8 div.sk-toggleable__content {max-height: 0;max-width: 0;overflow: hidden;text-align: left;background-color: #f0f8ff;}#sk-container-id-8 div.sk-toggleable__content pre {margin: 0.2em;color: black;border-radius: 0.25em;background-color: #f0f8ff;}#sk-container-id-8 input.sk-toggleable__control:checked~div.sk-toggleable__content {max-height: 200px;max-width: 100%;overflow: auto;}#sk-container-id-8 input.sk-toggleable__control:checked~label.sk-toggleable__label-arrow:before {content: \"▾\";}#sk-container-id-8 div.sk-estimator input.sk-toggleable__control:checked~label.sk-toggleable__label {background-color: #d4ebff;}#sk-container-id-8 div.sk-label input.sk-toggleable__control:checked~label.sk-toggleable__label {background-color: #d4ebff;}#sk-container-id-8 input.sk-hidden--visually {border: 0;clip: rect(1px 1px 1px 1px);clip: rect(1px, 1px, 1px, 1px);height: 1px;margin: -1px;overflow: hidden;padding: 0;position: absolute;width: 1px;}#sk-container-id-8 div.sk-estimator {font-family: monospace;background-color: #f0f8ff;border: 1px dotted black;border-radius: 0.25em;box-sizing: border-box;margin-bottom: 0.5em;}#sk-container-id-8 div.sk-estimator:hover {background-color: #d4ebff;}#sk-container-id-8 div.sk-parallel-item::after {content: \"\";width: 100%;border-bottom: 1px solid gray;flex-grow: 1;}#sk-container-id-8 div.sk-label:hover label.sk-toggleable__label {background-color: #d4ebff;}#sk-container-id-8 div.sk-serial::before {content: \"\";position: absolute;border-left: 1px solid gray;box-sizing: border-box;top: 0;bottom: 0;left: 50%;z-index: 0;}#sk-container-id-8 div.sk-serial {display: flex;flex-direction: column;align-items: center;background-color: white;padding-right: 0.2em;padding-left: 0.2em;position: relative;}#sk-container-id-8 div.sk-item {position: relative;z-index: 1;}#sk-container-id-8 div.sk-parallel {display: flex;align-items: stretch;justify-content: center;background-color: white;position: relative;}#sk-container-id-8 div.sk-item::before, #sk-container-id-8 div.sk-parallel-item::before {content: \"\";position: absolute;border-left: 1px solid gray;box-sizing: border-box;top: 0;bottom: 0;left: 50%;z-index: -1;}#sk-container-id-8 div.sk-parallel-item {display: flex;flex-direction: column;z-index: 1;position: relative;background-color: white;}#sk-container-id-8 div.sk-parallel-item:first-child::after {align-self: flex-end;width: 50%;}#sk-container-id-8 div.sk-parallel-item:last-child::after {align-self: flex-start;width: 50%;}#sk-container-id-8 div.sk-parallel-item:only-child::after {width: 0;}#sk-container-id-8 div.sk-dashed-wrapped {border: 1px dashed gray;margin: 0 0.4em 0.5em 0.4em;box-sizing: border-box;padding-bottom: 0.4em;background-color: white;}#sk-container-id-8 div.sk-label label {font-family: monospace;font-weight: bold;display: inline-block;line-height: 1.2em;}#sk-container-id-8 div.sk-label-container {text-align: center;}#sk-container-id-8 div.sk-container {/* jupyter's `normalize.less` sets `[hidden] { display: none; }` but bootstrap.min.css set `[hidden] { display: none !important; }` so we also need the `!important` here to be able to override the default hidden behavior on the sphinx rendered scikit-learn.org. See: https://github.com/scikit-learn/scikit-learn/issues/21755 */display: inline-block !important;position: relative;}#sk-container-id-8 div.sk-text-repr-fallback {display: none;}</style><div id=\"sk-container-id-8\" class=\"sk-top-container\"><div class=\"sk-text-repr-fallback\"><pre>KNeighborsClassifier()</pre><b>In a Jupyter environment, please rerun this cell to show the HTML representation or trust the notebook. <br />On GitHub, the HTML representation is unable to render, please try loading this page with nbviewer.org.</b></div><div class=\"sk-container\" hidden><div class=\"sk-item\"><div class=\"sk-estimator sk-toggleable\"><input class=\"sk-toggleable__control sk-hidden--visually\" id=\"sk-estimator-id-8\" type=\"checkbox\" checked><label for=\"sk-estimator-id-8\" class=\"sk-toggleable__label sk-toggleable__label-arrow\">KNeighborsClassifier</label><div class=\"sk-toggleable__content\"><pre>KNeighborsClassifier()</pre></div></div></div></div></div>"
      ],
      "text/plain": [
       "KNeighborsClassifier()"
      ]
     },
     "execution_count": 59,
     "metadata": {},
     "output_type": "execute_result"
    }
   ],
   "source": [
    "clf = KNeighborsClassifier(n_neighbors=5, weights='uniform')\n",
    "clf.fit(X_train, y_train)"
   ]
  },
  {
   "cell_type": "code",
   "execution_count": 60,
   "id": "0afad62a",
   "metadata": {
    "execution": {
     "iopub.execute_input": "2023-03-08T11:23:46.454243Z",
     "iopub.status.busy": "2023-03-08T11:23:46.453482Z",
     "iopub.status.idle": "2023-03-08T11:23:46.620155Z",
     "shell.execute_reply": "2023-03-08T11:23:46.619245Z"
    },
    "papermill": {
     "duration": 0.184673,
     "end_time": "2023-03-08T11:23:46.622001",
     "exception": false,
     "start_time": "2023-03-08T11:23:46.437328",
     "status": "completed"
    },
    "tags": []
   },
   "outputs": [
    {
     "name": "stdout",
     "output_type": "stream",
     "text": [
      "              precision    recall  f1-score   support\n",
      "\n",
      "        comp       0.14      0.22      0.17        50\n",
      "        misc       0.33      0.38      0.35         8\n",
      "         rec       0.22      0.23      0.23        47\n",
      "    religion       0.26      0.30      0.28        83\n",
      "         sci       0.21      0.18      0.19        77\n",
      "        talk       0.25      0.14      0.18        90\n",
      "\n",
      "    accuracy                           0.22       355\n",
      "   macro avg       0.24      0.24      0.23       355\n",
      "weighted avg       0.23      0.22      0.22       355\n",
      "\n"
     ]
    }
   ],
   "source": [
    "y_pred = clf.predict(X_test)\n",
    "print(classification_report(y_test, y_pred))"
   ]
  },
  {
   "cell_type": "code",
   "execution_count": 61,
   "id": "2d709070",
   "metadata": {
    "execution": {
     "iopub.execute_input": "2023-03-08T11:23:46.671265Z",
     "iopub.status.busy": "2023-03-08T11:23:46.670243Z",
     "iopub.status.idle": "2023-03-08T11:23:46.687285Z",
     "shell.execute_reply": "2023-03-08T11:23:46.686492Z"
    },
    "papermill": {
     "duration": 0.044454,
     "end_time": "2023-03-08T11:23:46.689452",
     "exception": false,
     "start_time": "2023-03-08T11:23:46.644998",
     "status": "completed"
    },
    "tags": []
   },
   "outputs": [],
   "source": [
    "acc = accuracy_score(y_test, y_pred)\n",
    "pre = precision_score(y_test, y_pred, average=avg_par)\n",
    "rec = recall_score(y_test, y_pred, average=avg_par)\n",
    "f1 = f1_score(y_test, y_pred, average=avg_par)\n",
    "\n",
    "metrics_data['KNN']['Euclidean'] = {'Accuracy': acc, 'Precision': pre, 'Recall': rec, 'F1': f1}"
   ]
  },
  {
   "cell_type": "markdown",
   "id": "c5ec2a09",
   "metadata": {
    "papermill": {
     "duration": 0.015314,
     "end_time": "2023-03-08T11:23:46.722567",
     "exception": false,
     "start_time": "2023-03-08T11:23:46.707253",
     "status": "completed"
    },
    "tags": []
   },
   "source": [
    "**Dynamic Time Warping**"
   ]
  },
  {
   "cell_type": "code",
   "execution_count": 62,
   "id": "2df913d8",
   "metadata": {
    "execution": {
     "iopub.execute_input": "2023-03-08T11:23:46.756966Z",
     "iopub.status.busy": "2023-03-08T11:23:46.756411Z",
     "iopub.status.idle": "2023-03-08T11:23:46.848065Z",
     "shell.execute_reply": "2023-03-08T11:23:46.847253Z"
    },
    "papermill": {
     "duration": 0.111921,
     "end_time": "2023-03-08T11:23:46.850417",
     "exception": false,
     "start_time": "2023-03-08T11:23:46.738496",
     "status": "completed"
    },
    "tags": []
   },
   "outputs": [],
   "source": [
    "from pyts.classification import KNeighborsClassifier\n",
    "from pyts.approximation import PiecewiseAggregateApproximation\n",
    "from imblearn.under_sampling import ClusterCentroids\n",
    "from sklearn_extra.cluster import KMedoids"
   ]
  },
  {
   "cell_type": "code",
   "execution_count": 63,
   "id": "db1604ec",
   "metadata": {
    "execution": {
     "iopub.execute_input": "2023-03-08T11:23:46.883575Z",
     "iopub.status.busy": "2023-03-08T11:23:46.883273Z",
     "iopub.status.idle": "2023-03-08T11:23:46.887987Z",
     "shell.execute_reply": "2023-03-08T11:23:46.887103Z"
    },
    "papermill": {
     "duration": 0.022212,
     "end_time": "2023-03-08T11:23:46.889578",
     "exception": false,
     "start_time": "2023-03-08T11:23:46.867366",
     "status": "completed"
    },
    "tags": []
   },
   "outputs": [],
   "source": [
    "if paa_window_size:\n",
    "    paa = PiecewiseAggregateApproximation(window_size=paa_window_size)\n",
    "    X_train = paa.transform(X_train)\n",
    "    X_test = paa.transform(X_test)\n",
    "    X_train.shape"
   ]
  },
  {
   "cell_type": "code",
   "execution_count": 64,
   "id": "59fa27aa",
   "metadata": {
    "execution": {
     "iopub.execute_input": "2023-03-08T11:23:46.923094Z",
     "iopub.status.busy": "2023-03-08T11:23:46.922226Z",
     "iopub.status.idle": "2023-03-08T11:23:46.930375Z",
     "shell.execute_reply": "2023-03-08T11:23:46.929437Z"
    },
    "papermill": {
     "duration": 0.028625,
     "end_time": "2023-03-08T11:23:46.933806",
     "exception": false,
     "start_time": "2023-03-08T11:23:46.905181",
     "status": "completed"
    },
    "tags": []
   },
   "outputs": [],
   "source": [
    "if undersampling:\n",
    "    total_samples = len(y_train)\n",
    "    unique_classes, class_counts = np.unique(y_train, return_counts=True)\n",
    "    samp_strat = dict(zip(unique_classes, np.floor(class_counts * undersampling).astype(int)))\n",
    "    print(samp_strat)\n",
    "    cc = ClusterCentroids(estimator=KMedoids(\n",
    "        random_state=42), sampling_strategy=samp_strat, random_state=42)\n",
    "    X_train, y_train = cc.fit_resample(X_train, y_train)\n",
    "    X_train.shape"
   ]
  },
  {
   "cell_type": "code",
   "execution_count": 65,
   "id": "e7ac6b44",
   "metadata": {
    "execution": {
     "iopub.execute_input": "2023-03-08T11:23:46.978010Z",
     "iopub.status.busy": "2023-03-08T11:23:46.977546Z",
     "iopub.status.idle": "2023-03-08T11:23:46.992813Z",
     "shell.execute_reply": "2023-03-08T11:23:46.991559Z"
    },
    "papermill": {
     "duration": 0.032832,
     "end_time": "2023-03-08T11:23:46.994841",
     "exception": false,
     "start_time": "2023-03-08T11:23:46.962009",
     "status": "completed"
    },
    "tags": []
   },
   "outputs": [
    {
     "data": {
      "text/html": [
       "<style>#sk-container-id-9 {color: black;background-color: white;}#sk-container-id-9 pre{padding: 0;}#sk-container-id-9 div.sk-toggleable {background-color: white;}#sk-container-id-9 label.sk-toggleable__label {cursor: pointer;display: block;width: 100%;margin-bottom: 0;padding: 0.3em;box-sizing: border-box;text-align: center;}#sk-container-id-9 label.sk-toggleable__label-arrow:before {content: \"▸\";float: left;margin-right: 0.25em;color: #696969;}#sk-container-id-9 label.sk-toggleable__label-arrow:hover:before {color: black;}#sk-container-id-9 div.sk-estimator:hover label.sk-toggleable__label-arrow:before {color: black;}#sk-container-id-9 div.sk-toggleable__content {max-height: 0;max-width: 0;overflow: hidden;text-align: left;background-color: #f0f8ff;}#sk-container-id-9 div.sk-toggleable__content pre {margin: 0.2em;color: black;border-radius: 0.25em;background-color: #f0f8ff;}#sk-container-id-9 input.sk-toggleable__control:checked~div.sk-toggleable__content {max-height: 200px;max-width: 100%;overflow: auto;}#sk-container-id-9 input.sk-toggleable__control:checked~label.sk-toggleable__label-arrow:before {content: \"▾\";}#sk-container-id-9 div.sk-estimator input.sk-toggleable__control:checked~label.sk-toggleable__label {background-color: #d4ebff;}#sk-container-id-9 div.sk-label input.sk-toggleable__control:checked~label.sk-toggleable__label {background-color: #d4ebff;}#sk-container-id-9 input.sk-hidden--visually {border: 0;clip: rect(1px 1px 1px 1px);clip: rect(1px, 1px, 1px, 1px);height: 1px;margin: -1px;overflow: hidden;padding: 0;position: absolute;width: 1px;}#sk-container-id-9 div.sk-estimator {font-family: monospace;background-color: #f0f8ff;border: 1px dotted black;border-radius: 0.25em;box-sizing: border-box;margin-bottom: 0.5em;}#sk-container-id-9 div.sk-estimator:hover {background-color: #d4ebff;}#sk-container-id-9 div.sk-parallel-item::after {content: \"\";width: 100%;border-bottom: 1px solid gray;flex-grow: 1;}#sk-container-id-9 div.sk-label:hover label.sk-toggleable__label {background-color: #d4ebff;}#sk-container-id-9 div.sk-serial::before {content: \"\";position: absolute;border-left: 1px solid gray;box-sizing: border-box;top: 0;bottom: 0;left: 50%;z-index: 0;}#sk-container-id-9 div.sk-serial {display: flex;flex-direction: column;align-items: center;background-color: white;padding-right: 0.2em;padding-left: 0.2em;position: relative;}#sk-container-id-9 div.sk-item {position: relative;z-index: 1;}#sk-container-id-9 div.sk-parallel {display: flex;align-items: stretch;justify-content: center;background-color: white;position: relative;}#sk-container-id-9 div.sk-item::before, #sk-container-id-9 div.sk-parallel-item::before {content: \"\";position: absolute;border-left: 1px solid gray;box-sizing: border-box;top: 0;bottom: 0;left: 50%;z-index: -1;}#sk-container-id-9 div.sk-parallel-item {display: flex;flex-direction: column;z-index: 1;position: relative;background-color: white;}#sk-container-id-9 div.sk-parallel-item:first-child::after {align-self: flex-end;width: 50%;}#sk-container-id-9 div.sk-parallel-item:last-child::after {align-self: flex-start;width: 50%;}#sk-container-id-9 div.sk-parallel-item:only-child::after {width: 0;}#sk-container-id-9 div.sk-dashed-wrapped {border: 1px dashed gray;margin: 0 0.4em 0.5em 0.4em;box-sizing: border-box;padding-bottom: 0.4em;background-color: white;}#sk-container-id-9 div.sk-label label {font-family: monospace;font-weight: bold;display: inline-block;line-height: 1.2em;}#sk-container-id-9 div.sk-label-container {text-align: center;}#sk-container-id-9 div.sk-container {/* jupyter's `normalize.less` sets `[hidden] { display: none; }` but bootstrap.min.css set `[hidden] { display: none !important; }` so we also need the `!important` here to be able to override the default hidden behavior on the sphinx rendered scikit-learn.org. See: https://github.com/scikit-learn/scikit-learn/issues/21755 */display: inline-block !important;position: relative;}#sk-container-id-9 div.sk-text-repr-fallback {display: none;}</style><div id=\"sk-container-id-9\" class=\"sk-top-container\"><div class=\"sk-text-repr-fallback\"><pre>KNeighborsClassifier(metric=&#x27;dtw_sakoechiba&#x27;, metric_params={&#x27;window_size&#x27;: 3})</pre><b>In a Jupyter environment, please rerun this cell to show the HTML representation or trust the notebook. <br />On GitHub, the HTML representation is unable to render, please try loading this page with nbviewer.org.</b></div><div class=\"sk-container\" hidden><div class=\"sk-item\"><div class=\"sk-estimator sk-toggleable\"><input class=\"sk-toggleable__control sk-hidden--visually\" id=\"sk-estimator-id-9\" type=\"checkbox\" checked><label for=\"sk-estimator-id-9\" class=\"sk-toggleable__label sk-toggleable__label-arrow\">KNeighborsClassifier</label><div class=\"sk-toggleable__content\"><pre>KNeighborsClassifier(metric=&#x27;dtw_sakoechiba&#x27;, metric_params={&#x27;window_size&#x27;: 3})</pre></div></div></div></div></div>"
      ],
      "text/plain": [
       "KNeighborsClassifier(metric='dtw_sakoechiba', metric_params={'window_size': 3})"
      ]
     },
     "execution_count": 65,
     "metadata": {},
     "output_type": "execute_result"
    }
   ],
   "source": [
    "clf = KNeighborsClassifier(metric='dtw_sakoechiba',  metric_params={'window_size':3})\n",
    "\n",
    "clf.fit(X_train, y_train)"
   ]
  },
  {
   "cell_type": "code",
   "execution_count": 66,
   "id": "8109d19d",
   "metadata": {
    "execution": {
     "iopub.execute_input": "2023-03-08T11:23:47.026691Z",
     "iopub.status.busy": "2023-03-08T11:23:47.026222Z",
     "iopub.status.idle": "2023-03-08T11:25:20.732778Z",
     "shell.execute_reply": "2023-03-08T11:25:20.731820Z"
    },
    "papermill": {
     "duration": 93.766029,
     "end_time": "2023-03-08T11:25:20.776597",
     "exception": false,
     "start_time": "2023-03-08T11:23:47.010568",
     "status": "completed"
    },
    "tags": []
   },
   "outputs": [
    {
     "name": "stdout",
     "output_type": "stream",
     "text": [
      "              precision    recall  f1-score   support\n",
      "\n",
      "        comp       0.20      0.18      0.19        50\n",
      "        misc       0.33      0.25      0.29         8\n",
      "         rec       0.15      0.17      0.16        47\n",
      "    religion       0.25      0.25      0.25        83\n",
      "         sci       0.27      0.29      0.27        77\n",
      "        talk       0.31      0.29      0.30        90\n",
      "\n",
      "    accuracy                           0.25       355\n",
      "   macro avg       0.25      0.24      0.24       355\n",
      "weighted avg       0.25      0.25      0.25       355\n",
      "\n",
      "CPU times: user 1min 33s, sys: 67.2 ms, total: 1min 33s\n",
      "Wall time: 1min 33s\n"
     ]
    }
   ],
   "source": [
    "%%time\n",
    "y_pred = clf.predict(X_test)\n",
    "print(classification_report(y_test, y_pred))"
   ]
  },
  {
   "cell_type": "code",
   "execution_count": 67,
   "id": "b09f5cdf",
   "metadata": {
    "execution": {
     "iopub.execute_input": "2023-03-08T11:25:20.832347Z",
     "iopub.status.busy": "2023-03-08T11:25:20.831426Z",
     "iopub.status.idle": "2023-03-08T11:25:20.860467Z",
     "shell.execute_reply": "2023-03-08T11:25:20.859013Z"
    },
    "papermill": {
     "duration": 0.049105,
     "end_time": "2023-03-08T11:25:20.862726",
     "exception": false,
     "start_time": "2023-03-08T11:25:20.813621",
     "status": "completed"
    },
    "tags": []
   },
   "outputs": [],
   "source": [
    "acc = accuracy_score(y_test, y_pred)\n",
    "pre = precision_score(y_test, y_pred, average=avg_par)\n",
    "rec = recall_score(y_test, y_pred, average=avg_par)\n",
    "f1 = f1_score(y_test, y_pred, average=avg_par)\n",
    "\n",
    "metrics_data['KNN']['DTW'] = {'Accuracy': acc, 'Precision': pre, 'Recall': rec, 'F1': f1}"
   ]
  },
  {
   "cell_type": "markdown",
   "id": "e0e700a7",
   "metadata": {
    "papermill": {
     "duration": 0.026683,
     "end_time": "2023-03-08T11:25:20.914546",
     "exception": false,
     "start_time": "2023-03-08T11:25:20.887863",
     "status": "completed"
    },
    "tags": []
   },
   "source": [
    "## Overall Results"
   ]
  },
  {
   "cell_type": "code",
   "execution_count": 68,
   "id": "d003c193",
   "metadata": {
    "execution": {
     "iopub.execute_input": "2023-03-08T11:25:20.945794Z",
     "iopub.status.busy": "2023-03-08T11:25:20.944954Z",
     "iopub.status.idle": "2023-03-08T11:25:20.956099Z",
     "shell.execute_reply": "2023-03-08T11:25:20.954457Z"
    },
    "papermill": {
     "duration": 0.029405,
     "end_time": "2023-03-08T11:25:20.958386",
     "exception": false,
     "start_time": "2023-03-08T11:25:20.928981",
     "status": "completed"
    },
    "tags": []
   },
   "outputs": [],
   "source": [
    "metrics_data = pd.DataFrame.from_dict({(i,j): metrics_data[i][j] \n",
    "                                       for i in metrics_data.keys() \n",
    "                                       for j in metrics_data[i].keys()},\n",
    "                                       orient='index')"
   ]
  },
  {
   "cell_type": "code",
   "execution_count": 69,
   "id": "0944fe84",
   "metadata": {
    "execution": {
     "iopub.execute_input": "2023-03-08T11:25:20.990820Z",
     "iopub.status.busy": "2023-03-08T11:25:20.990122Z",
     "iopub.status.idle": "2023-03-08T11:25:21.017045Z",
     "shell.execute_reply": "2023-03-08T11:25:21.015772Z"
    },
    "papermill": {
     "duration": 0.045058,
     "end_time": "2023-03-08T11:25:21.019228",
     "exception": false,
     "start_time": "2023-03-08T11:25:20.974170",
     "status": "completed"
    },
    "tags": []
   },
   "outputs": [],
   "source": [
    "acc = accuracy_score(y_test, y_pred)\n",
    "pre = precision_score(y_test, y_pred, average=avg_par)\n",
    "rec = recall_score(y_test, y_pred, average=avg_par)\n",
    "f1 = f1_score(y_test, y_pred, average=avg_par)"
   ]
  },
  {
   "cell_type": "code",
   "execution_count": 70,
   "id": "7ee1b347",
   "metadata": {
    "execution": {
     "iopub.execute_input": "2023-03-08T11:25:21.052791Z",
     "iopub.status.busy": "2023-03-08T11:25:21.052194Z",
     "iopub.status.idle": "2023-03-08T11:25:21.072855Z",
     "shell.execute_reply": "2023-03-08T11:25:21.071538Z"
    },
    "papermill": {
     "duration": 0.03905,
     "end_time": "2023-03-08T11:25:21.075202",
     "exception": false,
     "start_time": "2023-03-08T11:25:21.036152",
     "status": "completed"
    },
    "tags": []
   },
   "outputs": [
    {
     "data": {
      "text/html": [
       "<div>\n",
       "<style scoped>\n",
       "    .dataframe tbody tr th:only-of-type {\n",
       "        vertical-align: middle;\n",
       "    }\n",
       "\n",
       "    .dataframe tbody tr th {\n",
       "        vertical-align: top;\n",
       "    }\n",
       "\n",
       "    .dataframe thead th {\n",
       "        text-align: right;\n",
       "    }\n",
       "</style>\n",
       "<table border=\"1\" class=\"dataframe\">\n",
       "  <thead>\n",
       "    <tr style=\"text-align: right;\">\n",
       "      <th></th>\n",
       "      <th></th>\n",
       "      <th>Accuracy</th>\n",
       "      <th>Precision</th>\n",
       "      <th>Recall</th>\n",
       "      <th>F1</th>\n",
       "    </tr>\n",
       "  </thead>\n",
       "  <tbody>\n",
       "    <tr>\n",
       "      <th rowspan=\"3\" valign=\"top\">Global</th>\n",
       "      <th>DecisionTree</th>\n",
       "      <td>0.346479</td>\n",
       "      <td>0.321643</td>\n",
       "      <td>0.330803</td>\n",
       "      <td>0.324513</td>\n",
       "    </tr>\n",
       "    <tr>\n",
       "      <th>RandomForest</th>\n",
       "      <td>0.408451</td>\n",
       "      <td>0.429325</td>\n",
       "      <td>0.415883</td>\n",
       "      <td>0.410253</td>\n",
       "    </tr>\n",
       "    <tr>\n",
       "      <th>LightGBM</th>\n",
       "      <td>0.428169</td>\n",
       "      <td>0.431129</td>\n",
       "      <td>0.423788</td>\n",
       "      <td>0.422999</td>\n",
       "    </tr>\n",
       "    <tr>\n",
       "      <th rowspan=\"3\" valign=\"top\">Shapelets</th>\n",
       "      <th>DecisionTree</th>\n",
       "      <td>0.233803</td>\n",
       "      <td>0.253295</td>\n",
       "      <td>0.271108</td>\n",
       "      <td>0.260657</td>\n",
       "    </tr>\n",
       "    <tr>\n",
       "      <th>RandomForest</th>\n",
       "      <td>0.292958</td>\n",
       "      <td>0.339647</td>\n",
       "      <td>0.284787</td>\n",
       "      <td>0.298182</td>\n",
       "    </tr>\n",
       "    <tr>\n",
       "      <th>LightGBM</th>\n",
       "      <td>0.321127</td>\n",
       "      <td>0.428581</td>\n",
       "      <td>0.288693</td>\n",
       "      <td>0.311522</td>\n",
       "    </tr>\n",
       "    <tr>\n",
       "      <th rowspan=\"2\" valign=\"top\">KNN</th>\n",
       "      <th>Euclidean</th>\n",
       "      <td>0.216901</td>\n",
       "      <td>0.235357</td>\n",
       "      <td>0.242752</td>\n",
       "      <td>0.234221</td>\n",
       "    </tr>\n",
       "    <tr>\n",
       "      <th>DTW</th>\n",
       "      <td>0.247887</td>\n",
       "      <td>0.251354</td>\n",
       "      <td>0.237971</td>\n",
       "      <td>0.243407</td>\n",
       "    </tr>\n",
       "  </tbody>\n",
       "</table>\n",
       "</div>"
      ],
      "text/plain": [
       "                        Accuracy  Precision    Recall        F1\n",
       "Global    DecisionTree  0.346479   0.321643  0.330803  0.324513\n",
       "          RandomForest  0.408451   0.429325  0.415883  0.410253\n",
       "          LightGBM      0.428169   0.431129  0.423788  0.422999\n",
       "Shapelets DecisionTree  0.233803   0.253295  0.271108  0.260657\n",
       "          RandomForest  0.292958   0.339647  0.284787  0.298182\n",
       "          LightGBM      0.321127   0.428581  0.288693  0.311522\n",
       "KNN       Euclidean     0.216901   0.235357  0.242752  0.234221\n",
       "          DTW           0.247887   0.251354  0.237971  0.243407"
      ]
     },
     "execution_count": 70,
     "metadata": {},
     "output_type": "execute_result"
    }
   ],
   "source": [
    "metrics_data"
   ]
  },
  {
   "cell_type": "code",
   "execution_count": 71,
   "id": "3efc173e",
   "metadata": {
    "execution": {
     "iopub.execute_input": "2023-03-08T11:25:21.108798Z",
     "iopub.status.busy": "2023-03-08T11:25:21.107997Z",
     "iopub.status.idle": "2023-03-08T11:25:21.117251Z",
     "shell.execute_reply": "2023-03-08T11:25:21.116163Z"
    },
    "papermill": {
     "duration": 0.027268,
     "end_time": "2023-03-08T11:25:21.119288",
     "exception": false,
     "start_time": "2023-03-08T11:25:21.092020",
     "status": "completed"
    },
    "tags": []
   },
   "outputs": [],
   "source": [
    "metrics_data.to_csv(f'{data_path}/metrics.csv')"
   ]
  },
  {
   "cell_type": "code",
   "execution_count": null,
   "id": "d21f5304",
   "metadata": {
    "papermill": {
     "duration": 0.014411,
     "end_time": "2023-03-08T11:25:21.148798",
     "exception": false,
     "start_time": "2023-03-08T11:25:21.134387",
     "status": "completed"
    },
    "tags": []
   },
   "outputs": [],
   "source": []
  }
 ],
 "metadata": {
  "celltoolbar": "Tags",
  "kernelspec": {
   "display_name": "Python 3 (ipykernel)",
   "language": "python",
   "name": "python3"
  },
  "language_info": {
   "codemirror_mode": {
    "name": "ipython",
    "version": 3
   },
   "file_extension": ".py",
   "mimetype": "text/x-python",
   "name": "python",
   "nbconvert_exporter": "python",
   "pygments_lexer": "ipython3",
   "version": "3.9.16"
  },
  "papermill": {
   "default_parameters": {},
   "duration": 265.564739,
   "end_time": "2023-03-08T11:25:23.998910",
   "environment_variables": {},
   "exception": null,
   "input_path": "09_ts_classification.ipynb",
   "output_path": "../clf-reports/20ng_features.ipynb",
   "parameters": {
    "data_path": "/home/mattiapggioli/lyrics2ts/data/classification/20ng/features/"
   },
   "start_time": "2023-03-08T11:20:58.434171",
   "version": "2.4.0"
  },
  "vscode": {
   "interpreter": {
    "hash": "eb8d1ded7c87c6f9c253b40add648304d6b51d2e38393955e855effc7e6f899a"
   }
  }
 },
 "nbformat": 4,
 "nbformat_minor": 5
}