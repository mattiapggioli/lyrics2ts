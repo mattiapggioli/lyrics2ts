{
 "cells": [
  {
   "cell_type": "markdown",
   "id": "d79a68c5",
   "metadata": {
    "papermill": {
     "duration": 0.025569,
     "end_time": "2023-03-20T11:25:16.033486",
     "exception": false,
     "start_time": "2023-03-20T11:25:16.007917",
     "status": "completed"
    },
    "tags": []
   },
   "source": [
    "# Time Series Classification"
   ]
  },
  {
   "cell_type": "code",
   "execution_count": 1,
   "id": "8a0cb2b0",
   "metadata": {
    "execution": {
     "iopub.execute_input": "2023-03-20T11:25:16.090764Z",
     "iopub.status.busy": "2023-03-20T11:25:16.089508Z",
     "iopub.status.idle": "2023-03-20T11:25:17.416130Z",
     "shell.execute_reply": "2023-03-20T11:25:17.415326Z"
    },
    "papermill": {
     "duration": 1.358737,
     "end_time": "2023-03-20T11:25:17.419398",
     "exception": false,
     "start_time": "2023-03-20T11:25:16.060661",
     "status": "completed"
    },
    "tags": []
   },
   "outputs": [],
   "source": [
    "%matplotlib inline\n",
    "import pandas as pd\n",
    "import numpy as np\n",
    "import matplotlib.pyplot as plt\n",
    "import seaborn as sns\n",
    "import re\n",
    "import os\n",
    "from sklearn.preprocessing import StandardScaler\n",
    "from sklearn.decomposition import PCA\n",
    "import joblib\n",
    "from tslearn.utils import to_time_series_dataset, save_time_series_txt, load_time_series_txt\n",
    "import random\n",
    "from sklearn.model_selection import train_test_split\n",
    "from sklearn.metrics import accuracy_score, f1_score, precision_score, recall_score, classification_report\n",
    "import pickle"
   ]
  },
  {
   "cell_type": "code",
   "execution_count": 2,
   "id": "acc03405",
   "metadata": {
    "execution": {
     "iopub.execute_input": "2023-03-20T11:25:17.490706Z",
     "iopub.status.busy": "2023-03-20T11:25:17.490004Z",
     "iopub.status.idle": "2023-03-20T11:25:17.496559Z",
     "shell.execute_reply": "2023-03-20T11:25:17.495313Z"
    },
    "papermill": {
     "duration": 0.050119,
     "end_time": "2023-03-20T11:25:17.500107",
     "exception": false,
     "start_time": "2023-03-20T11:25:17.449988",
     "status": "completed"
    },
    "tags": [
     "parameters"
    ]
   },
   "outputs": [],
   "source": [
    "data_path = '/home/mattiapggioli/lyrics2ts/data/classification/pp-rc/sbert/'\n",
    "truncate=100\n",
    "max_iter = 2000\n",
    "paa_window_size = None\n",
    "undersampling = None"
   ]
  },
  {
   "cell_type": "code",
   "execution_count": 3,
   "id": "adaaea77",
   "metadata": {
    "execution": {
     "iopub.execute_input": "2023-03-20T11:25:17.535502Z",
     "iopub.status.busy": "2023-03-20T11:25:17.535021Z",
     "iopub.status.idle": "2023-03-20T11:25:17.539432Z",
     "shell.execute_reply": "2023-03-20T11:25:17.538590Z"
    },
    "papermill": {
     "duration": 0.017665,
     "end_time": "2023-03-20T11:25:17.541113",
     "exception": false,
     "start_time": "2023-03-20T11:25:17.523448",
     "status": "completed"
    },
    "tags": [
     "injected-parameters"
    ]
   },
   "outputs": [],
   "source": [
    "# Parameters\n",
    "data_path = \"/home/mattiapggioli/lyrics2ts/data/classification/20ng/features/\"\n"
   ]
  },
  {
   "cell_type": "code",
   "execution_count": 4,
   "id": "a4f0c774",
   "metadata": {
    "execution": {
     "iopub.execute_input": "2023-03-20T11:25:17.564048Z",
     "iopub.status.busy": "2023-03-20T11:25:17.563583Z",
     "iopub.status.idle": "2023-03-20T11:25:34.373464Z",
     "shell.execute_reply": "2023-03-20T11:25:34.372570Z"
    },
    "papermill": {
     "duration": 16.824715,
     "end_time": "2023-03-20T11:25:34.376542",
     "exception": false,
     "start_time": "2023-03-20T11:25:17.551827",
     "status": "completed"
    },
    "tags": []
   },
   "outputs": [],
   "source": [
    "ts = load_time_series_txt(f'{data_path}/ts.txt')"
   ]
  },
  {
   "cell_type": "code",
   "execution_count": 5,
   "id": "5c48d154",
   "metadata": {
    "execution": {
     "iopub.execute_input": "2023-03-20T11:25:34.438229Z",
     "iopub.status.busy": "2023-03-20T11:25:34.437935Z",
     "iopub.status.idle": "2023-03-20T11:25:34.446340Z",
     "shell.execute_reply": "2023-03-20T11:25:34.444877Z"
    },
    "papermill": {
     "duration": 0.044018,
     "end_time": "2023-03-20T11:25:34.450659",
     "exception": false,
     "start_time": "2023-03-20T11:25:34.406641",
     "status": "completed"
    },
    "tags": []
   },
   "outputs": [
    {
     "data": {
      "text/plain": [
       "(1775, 1210, 1)"
      ]
     },
     "execution_count": 5,
     "metadata": {},
     "output_type": "execute_result"
    }
   ],
   "source": [
    "ts.shape"
   ]
  },
  {
   "cell_type": "code",
   "execution_count": 6,
   "id": "f6274d40",
   "metadata": {
    "execution": {
     "iopub.execute_input": "2023-03-20T11:25:34.488224Z",
     "iopub.status.busy": "2023-03-20T11:25:34.487762Z",
     "iopub.status.idle": "2023-03-20T11:25:34.494314Z",
     "shell.execute_reply": "2023-03-20T11:25:34.493482Z"
    },
    "papermill": {
     "duration": 0.021992,
     "end_time": "2023-03-20T11:25:34.496224",
     "exception": false,
     "start_time": "2023-03-20T11:25:34.474232",
     "status": "completed"
    },
    "tags": []
   },
   "outputs": [],
   "source": [
    "with open(f'{data_path}/y_class.npy', 'rb') as f:\n",
    "    y = np.load(f, allow_pickle=True)"
   ]
  },
  {
   "cell_type": "code",
   "execution_count": 7,
   "id": "9d42fa3b",
   "metadata": {
    "execution": {
     "iopub.execute_input": "2023-03-20T11:25:34.521206Z",
     "iopub.status.busy": "2023-03-20T11:25:34.520797Z",
     "iopub.status.idle": "2023-03-20T11:25:34.528242Z",
     "shell.execute_reply": "2023-03-20T11:25:34.526968Z"
    },
    "papermill": {
     "duration": 0.022259,
     "end_time": "2023-03-20T11:25:34.530038",
     "exception": false,
     "start_time": "2023-03-20T11:25:34.507779",
     "status": "completed"
    },
    "tags": []
   },
   "outputs": [],
   "source": [
    "with open(f'{data_path}/X.npy', 'rb') as f:\n",
    "    X = np.load(f, allow_pickle=True)"
   ]
  },
  {
   "cell_type": "code",
   "execution_count": 8,
   "id": "1158a9da",
   "metadata": {
    "execution": {
     "iopub.execute_input": "2023-03-20T11:25:34.552856Z",
     "iopub.status.busy": "2023-03-20T11:25:34.552396Z",
     "iopub.status.idle": "2023-03-20T11:25:34.560059Z",
     "shell.execute_reply": "2023-03-20T11:25:34.558902Z"
    },
    "papermill": {
     "duration": 0.021275,
     "end_time": "2023-03-20T11:25:34.561830",
     "exception": false,
     "start_time": "2023-03-20T11:25:34.540555",
     "status": "completed"
    },
    "tags": []
   },
   "outputs": [
    {
     "data": {
      "text/plain": [
       "(1775, 14)"
      ]
     },
     "execution_count": 8,
     "metadata": {},
     "output_type": "execute_result"
    }
   ],
   "source": [
    "X.shape"
   ]
  },
  {
   "cell_type": "code",
   "execution_count": 9,
   "id": "47239790",
   "metadata": {
    "execution": {
     "iopub.execute_input": "2023-03-20T11:25:34.585048Z",
     "iopub.status.busy": "2023-03-20T11:25:34.584584Z",
     "iopub.status.idle": "2023-03-20T11:25:34.591919Z",
     "shell.execute_reply": "2023-03-20T11:25:34.591022Z"
    },
    "papermill": {
     "duration": 0.020793,
     "end_time": "2023-03-20T11:25:34.593511",
     "exception": false,
     "start_time": "2023-03-20T11:25:34.572718",
     "status": "completed"
    },
    "tags": []
   },
   "outputs": [
    {
     "data": {
      "text/plain": [
       "{'comp', 'misc', 'rec', 'religion', 'sci', 'talk'}"
      ]
     },
     "execution_count": 9,
     "metadata": {},
     "output_type": "execute_result"
    }
   ],
   "source": [
    "set(y)"
   ]
  },
  {
   "cell_type": "code",
   "execution_count": 10,
   "id": "37609992",
   "metadata": {
    "execution": {
     "iopub.execute_input": "2023-03-20T11:25:34.618516Z",
     "iopub.status.busy": "2023-03-20T11:25:34.618053Z",
     "iopub.status.idle": "2023-03-20T11:25:34.635458Z",
     "shell.execute_reply": "2023-03-20T11:25:34.634130Z"
    },
    "papermill": {
     "duration": 0.032556,
     "end_time": "2023-03-20T11:25:34.637607",
     "exception": false,
     "start_time": "2023-03-20T11:25:34.605051",
     "status": "completed"
    },
    "tags": []
   },
   "outputs": [],
   "source": [
    "ts_train, ts_test, y_train, y_test = train_test_split(\n",
    "    ts, y, test_size=0.20, random_state=42, stratify=y)"
   ]
  },
  {
   "cell_type": "code",
   "execution_count": 11,
   "id": "34508fe4",
   "metadata": {
    "execution": {
     "iopub.execute_input": "2023-03-20T11:25:34.663050Z",
     "iopub.status.busy": "2023-03-20T11:25:34.662650Z",
     "iopub.status.idle": "2023-03-20T11:25:34.672284Z",
     "shell.execute_reply": "2023-03-20T11:25:34.671054Z"
    },
    "papermill": {
     "duration": 0.023422,
     "end_time": "2023-03-20T11:25:34.674269",
     "exception": false,
     "start_time": "2023-03-20T11:25:34.650847",
     "status": "completed"
    },
    "tags": []
   },
   "outputs": [],
   "source": [
    "X_train, X_test, y_train, y_test = train_test_split(\n",
    "    X, y, test_size=0.20, random_state=42, stratify=y)"
   ]
  },
  {
   "cell_type": "code",
   "execution_count": 12,
   "id": "076afac9",
   "metadata": {
    "execution": {
     "iopub.execute_input": "2023-03-20T11:25:34.698836Z",
     "iopub.status.busy": "2023-03-20T11:25:34.698376Z",
     "iopub.status.idle": "2023-03-20T11:25:34.706558Z",
     "shell.execute_reply": "2023-03-20T11:25:34.705463Z"
    },
    "papermill": {
     "duration": 0.022393,
     "end_time": "2023-03-20T11:25:34.708412",
     "exception": false,
     "start_time": "2023-03-20T11:25:34.686019",
     "status": "completed"
    },
    "tags": []
   },
   "outputs": [
    {
     "data": {
      "text/plain": [
       "array([[ 1.58487865],\n",
       "       [ 1.55484544],\n",
       "       [-1.54392123],\n",
       "       ...,\n",
       "       [        nan],\n",
       "       [        nan],\n",
       "       [        nan]])"
      ]
     },
     "execution_count": 12,
     "metadata": {},
     "output_type": "execute_result"
    }
   ],
   "source": [
    "random.choice(ts_train)"
   ]
  },
  {
   "cell_type": "code",
   "execution_count": 13,
   "id": "ca66457a",
   "metadata": {
    "execution": {
     "iopub.execute_input": "2023-03-20T11:25:34.733422Z",
     "iopub.status.busy": "2023-03-20T11:25:34.732961Z",
     "iopub.status.idle": "2023-03-20T11:25:35.238971Z",
     "shell.execute_reply": "2023-03-20T11:25:35.238196Z"
    },
    "papermill": {
     "duration": 0.522778,
     "end_time": "2023-03-20T11:25:35.242005",
     "exception": false,
     "start_time": "2023-03-20T11:25:34.719227",
     "status": "completed"
    },
    "tags": []
   },
   "outputs": [
    {
     "data": {
      "text/plain": [
       "<AxesSubplot:ylabel='Count'>"
      ]
     },
     "execution_count": 13,
     "metadata": {},
     "output_type": "execute_result"
    },
    {
     "data": {
      "image/png": "[encoded data removed]",
      "text/plain": [
       "<Figure size 640x480 with 1 Axes>"
      ]
     },
     "metadata": {},
     "output_type": "display_data"
    }
   ],
   "source": [
    "sns.histplot([t[~np.any(np.isnan(t), axis=1)].shape[0] for t in ts_train])"
   ]
  },
  {
   "cell_type": "code",
   "execution_count": 14,
   "id": "c2ae286f",
   "metadata": {
    "execution": {
     "iopub.execute_input": "2023-03-20T11:25:35.282942Z",
     "iopub.status.busy": "2023-03-20T11:25:35.282615Z",
     "iopub.status.idle": "2023-03-20T11:25:35.287405Z",
     "shell.execute_reply": "2023-03-20T11:25:35.286474Z"
    },
    "papermill": {
     "duration": 0.019807,
     "end_time": "2023-03-20T11:25:35.290491",
     "exception": false,
     "start_time": "2023-03-20T11:25:35.270684",
     "status": "completed"
    },
    "tags": []
   },
   "outputs": [],
   "source": [
    "ts_train = ts_train[:, :truncate, :]\n",
    "ts_test = ts_test[:, :truncate, :]"
   ]
  },
  {
   "cell_type": "code",
   "execution_count": 15,
   "id": "3218baa4",
   "metadata": {
    "execution": {
     "iopub.execute_input": "2023-03-20T11:25:35.338987Z",
     "iopub.status.busy": "2023-03-20T11:25:35.338212Z",
     "iopub.status.idle": "2023-03-20T11:25:35.353368Z",
     "shell.execute_reply": "2023-03-20T11:25:35.352136Z"
    },
    "papermill": {
     "duration": 0.033564,
     "end_time": "2023-03-20T11:25:35.355493",
     "exception": false,
     "start_time": "2023-03-20T11:25:35.321929",
     "status": "completed"
    },
    "tags": []
   },
   "outputs": [],
   "source": [
    "mean_arr = np.nanmean(ts_train, axis=1, keepdims=True)\n",
    "nan_indices = np.isnan(ts_train)\n",
    "ts_train[nan_indices] = np.take(mean_arr, np.nonzero(nan_indices)[0])\n",
    "\n",
    "mean_arr = np.nanmean(ts_test, axis=1, keepdims=True)\n",
    "nan_indices = np.isnan(ts_test)\n",
    "ts_test[nan_indices] = np.take(mean_arr, np.nonzero(nan_indices)[0])"
   ]
  },
  {
   "cell_type": "code",
   "execution_count": 16,
   "id": "d369691b",
   "metadata": {
    "execution": {
     "iopub.execute_input": "2023-03-20T11:25:35.381347Z",
     "iopub.status.busy": "2023-03-20T11:25:35.380707Z",
     "iopub.status.idle": "2023-03-20T11:25:35.387900Z",
     "shell.execute_reply": "2023-03-20T11:25:35.386861Z"
    },
    "papermill": {
     "duration": 0.02075,
     "end_time": "2023-03-20T11:25:35.389393",
     "exception": false,
     "start_time": "2023-03-20T11:25:35.368643",
     "status": "completed"
    },
    "tags": []
   },
   "outputs": [
    {
     "data": {
      "text/plain": [
       "0"
      ]
     },
     "execution_count": 16,
     "metadata": {},
     "output_type": "execute_result"
    }
   ],
   "source": [
    "np.count_nonzero(np.isnan(X_train))"
   ]
  },
  {
   "cell_type": "code",
   "execution_count": 17,
   "id": "0d602e18",
   "metadata": {
    "execution": {
     "iopub.execute_input": "2023-03-20T11:25:35.413925Z",
     "iopub.status.busy": "2023-03-20T11:25:35.413030Z",
     "iopub.status.idle": "2023-03-20T11:25:35.418703Z",
     "shell.execute_reply": "2023-03-20T11:25:35.417653Z"
    },
    "papermill": {
     "duration": 0.019716,
     "end_time": "2023-03-20T11:25:35.420416",
     "exception": false,
     "start_time": "2023-03-20T11:25:35.400700",
     "status": "completed"
    },
    "tags": []
   },
   "outputs": [],
   "source": [
    "X_train[np.isnan(X_train)] = 0\n",
    "X_test[np.isnan(X_test)] = 0"
   ]
  },
  {
   "cell_type": "code",
   "execution_count": 18,
   "id": "45c5102c",
   "metadata": {
    "execution": {
     "iopub.execute_input": "2023-03-20T11:25:35.444664Z",
     "iopub.status.busy": "2023-03-20T11:25:35.443782Z",
     "iopub.status.idle": "2023-03-20T11:25:35.738693Z",
     "shell.execute_reply": "2023-03-20T11:25:35.737758Z"
    },
    "papermill": {
     "duration": 0.310057,
     "end_time": "2023-03-20T11:25:35.741536",
     "exception": false,
     "start_time": "2023-03-20T11:25:35.431479",
     "status": "completed"
    },
    "tags": []
   },
   "outputs": [],
   "source": [
    "save_time_series_txt(f'{data_path}/ts_train.txt', ts_train)\n",
    "save_time_series_txt(f'{data_path}/ts_test.txt', ts_test)"
   ]
  },
  {
   "cell_type": "code",
   "execution_count": 19,
   "id": "39830f37",
   "metadata": {
    "execution": {
     "iopub.execute_input": "2023-03-20T11:25:35.768470Z",
     "iopub.status.busy": "2023-03-20T11:25:35.768146Z",
     "iopub.status.idle": "2023-03-20T11:25:35.774870Z",
     "shell.execute_reply": "2023-03-20T11:25:35.773797Z"
    },
    "papermill": {
     "duration": 0.022139,
     "end_time": "2023-03-20T11:25:35.778148",
     "exception": false,
     "start_time": "2023-03-20T11:25:35.756009",
     "status": "completed"
    },
    "tags": []
   },
   "outputs": [],
   "source": [
    "with open(f'{data_path}/X_train.npy', 'wb') as f:\n",
    "    np.save(f, X_train, allow_pickle=True)\n",
    "\n",
    "with open(f'{data_path}/X_test.npy', 'wb') as f:\n",
    "    np.save(f, X_test, allow_pickle=True)"
   ]
  },
  {
   "cell_type": "code",
   "execution_count": 20,
   "id": "795fd2be",
   "metadata": {
    "execution": {
     "iopub.execute_input": "2023-03-20T11:25:35.836173Z",
     "iopub.status.busy": "2023-03-20T11:25:35.835716Z",
     "iopub.status.idle": "2023-03-20T11:25:35.843962Z",
     "shell.execute_reply": "2023-03-20T11:25:35.842715Z"
    },
    "papermill": {
     "duration": 0.036606,
     "end_time": "2023-03-20T11:25:35.845798",
     "exception": false,
     "start_time": "2023-03-20T11:25:35.809192",
     "status": "completed"
    },
    "tags": []
   },
   "outputs": [],
   "source": [
    "with open(f'{data_path}/y_train.npy', 'wb') as f:\n",
    "    np.save(f, y_train, allow_pickle=True)\n",
    "\n",
    "with open(f'{data_path}/y_test.npy', 'wb') as f:\n",
    "    np.save(f, y_test, allow_pickle=True)"
   ]
  },
  {
   "cell_type": "code",
   "execution_count": 21,
   "id": "08bda153",
   "metadata": {
    "execution": {
     "iopub.execute_input": "2023-03-20T11:25:35.870383Z",
     "iopub.status.busy": "2023-03-20T11:25:35.869917Z",
     "iopub.status.idle": "2023-03-20T11:25:36.033500Z",
     "shell.execute_reply": "2023-03-20T11:25:36.032749Z"
    },
    "papermill": {
     "duration": 0.178003,
     "end_time": "2023-03-20T11:25:36.035508",
     "exception": false,
     "start_time": "2023-03-20T11:25:35.857505",
     "status": "completed"
    },
    "tags": []
   },
   "outputs": [
    {
     "data": {
      "text/plain": [
       "[<matplotlib.lines.Line2D at 0x7f102c950fa0>]"
      ]
     },
     "execution_count": 21,
     "metadata": {},
     "output_type": "execute_result"
    },
    {
     "data": {
      "image/png": "[encoded data removed]",
      "text/plain": [
       "<Figure size 640x480 with 1 Axes>"
      ]
     },
     "metadata": {},
     "output_type": "display_data"
    }
   ],
   "source": [
    "plt.plot(random.choice(ts_train))"
   ]
  },
  {
   "cell_type": "code",
   "execution_count": 22,
   "id": "98ce9d63",
   "metadata": {
    "execution": {
     "iopub.execute_input": "2023-03-20T11:25:36.063536Z",
     "iopub.status.busy": "2023-03-20T11:25:36.063088Z",
     "iopub.status.idle": "2023-03-20T11:25:36.068353Z",
     "shell.execute_reply": "2023-03-20T11:25:36.067548Z"
    },
    "papermill": {
     "duration": 0.021148,
     "end_time": "2023-03-20T11:25:36.071197",
     "exception": false,
     "start_time": "2023-03-20T11:25:36.050049",
     "status": "completed"
    },
    "tags": []
   },
   "outputs": [],
   "source": [
    "# Parameters that require knowing if it's binary or multiclass (LightGBM, metrics)\n",
    "if len(set(y)) == 2:\n",
    "    avg_par = 'macro'\n",
    "    obj_par = 'binary'\n",
    "elif len(set(y)) > 2:\n",
    "    avg_par = 'weighted'\n",
    "    obj_par = 'multiclass'"
   ]
  },
  {
   "cell_type": "markdown",
   "id": "228f1b39",
   "metadata": {
    "papermill": {
     "duration": 0.021984,
     "end_time": "2023-03-20T11:25:36.130269",
     "exception": false,
     "start_time": "2023-03-20T11:25:36.108285",
     "status": "completed"
    },
    "tags": []
   },
   "source": [
    "## Classification"
   ]
  },
  {
   "cell_type": "code",
   "execution_count": 23,
   "id": "34bb73ff",
   "metadata": {
    "execution": {
     "iopub.execute_input": "2023-03-20T11:25:36.155123Z",
     "iopub.status.busy": "2023-03-20T11:25:36.154623Z",
     "iopub.status.idle": "2023-03-20T11:25:36.224240Z",
     "shell.execute_reply": "2023-03-20T11:25:36.222943Z"
    },
    "papermill": {
     "duration": 0.08459,
     "end_time": "2023-03-20T11:25:36.226341",
     "exception": false,
     "start_time": "2023-03-20T11:25:36.141751",
     "status": "completed"
    },
    "tags": []
   },
   "outputs": [],
   "source": [
    "from sklearn.tree import DecisionTreeClassifier\n",
    "import lightgbm as lgbm\n",
    "from sklearn.ensemble import RandomForestClassifier"
   ]
  },
  {
   "cell_type": "code",
   "execution_count": 24,
   "id": "02aaee18",
   "metadata": {
    "execution": {
     "iopub.execute_input": "2023-03-20T11:25:36.254191Z",
     "iopub.status.busy": "2023-03-20T11:25:36.253688Z",
     "iopub.status.idle": "2023-03-20T11:25:36.259487Z",
     "shell.execute_reply": "2023-03-20T11:25:36.258147Z"
    },
    "papermill": {
     "duration": 0.02059,
     "end_time": "2023-03-20T11:25:36.261196",
     "exception": false,
     "start_time": "2023-03-20T11:25:36.240606",
     "status": "completed"
    },
    "tags": []
   },
   "outputs": [],
   "source": [
    "metrics_data = {}"
   ]
  },
  {
   "cell_type": "markdown",
   "id": "b49309ed",
   "metadata": {
    "papermill": {
     "duration": 0.011426,
     "end_time": "2023-03-20T11:25:36.284273",
     "exception": false,
     "start_time": "2023-03-20T11:25:36.272847",
     "status": "completed"
    },
    "tags": []
   },
   "source": [
    "### Baseline: global features (No Time Series)"
   ]
  },
  {
   "cell_type": "code",
   "execution_count": 25,
   "id": "35eb9f66",
   "metadata": {
    "execution": {
     "iopub.execute_input": "2023-03-20T11:25:36.309269Z",
     "iopub.status.busy": "2023-03-20T11:25:36.308766Z",
     "iopub.status.idle": "2023-03-20T11:25:36.314724Z",
     "shell.execute_reply": "2023-03-20T11:25:36.313468Z"
    },
    "papermill": {
     "duration": 0.020485,
     "end_time": "2023-03-20T11:25:36.316364",
     "exception": false,
     "start_time": "2023-03-20T11:25:36.295879",
     "status": "completed"
    },
    "tags": []
   },
   "outputs": [],
   "source": [
    "metrics_data['Global'] = {}"
   ]
  },
  {
   "cell_type": "markdown",
   "id": "29cd5044",
   "metadata": {
    "papermill": {
     "duration": 0.011389,
     "end_time": "2023-03-20T11:25:36.339424",
     "exception": false,
     "start_time": "2023-03-20T11:25:36.328035",
     "status": "completed"
    },
    "tags": []
   },
   "source": [
    "**Decision Tree**"
   ]
  },
  {
   "cell_type": "code",
   "execution_count": 26,
   "id": "9ef4f037",
   "metadata": {
    "execution": {
     "iopub.execute_input": "2023-03-20T11:25:36.364680Z",
     "iopub.status.busy": "2023-03-20T11:25:36.364178Z",
     "iopub.status.idle": "2023-03-20T11:25:36.424217Z",
     "shell.execute_reply": "2023-03-20T11:25:36.422713Z"
    },
    "papermill": {
     "duration": 0.075071,
     "end_time": "2023-03-20T11:25:36.426201",
     "exception": false,
     "start_time": "2023-03-20T11:25:36.351130",
     "status": "completed"
    },
    "tags": []
   },
   "outputs": [
    {
     "data": {
      "text/html": [
       "<style>#sk-container-id-1 {color: black;background-color: white;}#sk-container-id-1 pre{padding: 0;}#sk-container-id-1 div.sk-toggleable {background-color: white;}#sk-container-id-1 label.sk-toggleable__label {cursor: pointer;display: block;width: 100%;margin-bottom: 0;padding: 0.3em;box-sizing: border-box;text-align: center;}#sk-container-id-1 label.sk-toggleable__label-arrow:before {content: \"▸\";float: left;margin-right: 0.25em;color: #696969;}#sk-container-id-1 label.sk-toggleable__label-arrow:hover:before {color: black;}#sk-container-id-1 div.sk-estimator:hover label.sk-toggleable__label-arrow:before {color: black;}#sk-container-id-1 div.sk-toggleable__content {max-height: 0;max-width: 0;overflow: hidden;text-align: left;background-color: #f0f8ff;}#sk-container-id-1 div.sk-toggleable__content pre {margin: 0.2em;color: black;border-radius: 0.25em;background-color: #f0f8ff;}#sk-container-id-1 input.sk-toggleable__control:checked~div.sk-toggleable__content {max-height: 200px;max-width: 100%;overflow: auto;}#sk-container-id-1 input.sk-toggleable__control:checked~label.sk-toggleable__label-arrow:before {content: \"▾\";}#sk-container-id-1 div.sk-estimator input.sk-toggleable__control:checked~label.sk-toggleable__label {background-color: #d4ebff;}#sk-container-id-1 div.sk-label input.sk-toggleable__control:checked~label.sk-toggleable__label {background-color: #d4ebff;}#sk-container-id-1 input.sk-hidden--visually {border: 0;clip: rect(1px 1px 1px 1px);clip: rect(1px, 1px, 1px, 1px);height: 1px;margin: -1px;overflow: hidden;padding: 0;position: absolute;width: 1px;}#sk-container-id-1 div.sk-estimator {font-family: monospace;background-color: #f0f8ff;border: 1px dotted black;border-radius: 0.25em;box-sizing: border-box;margin-bottom: 0.5em;}#sk-container-id-1 div.sk-estimator:hover {background-color: #d4ebff;}#sk-container-id-1 div.sk-parallel-item::after {content: \"\";width: 100%;border-bottom: 1px solid gray;flex-grow: 1;}#sk-container-id-1 div.sk-label:hover label.sk-toggleable__label {background-color: #d4ebff;}#sk-container-id-1 div.sk-serial::before {content: \"\";position: absolute;border-left: 1px solid gray;box-sizing: border-box;top: 0;bottom: 0;left: 50%;z-index: 0;}#sk-container-id-1 div.sk-serial {display: flex;flex-direction: column;align-items: center;background-color: white;padding-right: 0.2em;padding-left: 0.2em;position: relative;}#sk-container-id-1 div.sk-item {position: relative;z-index: 1;}#sk-container-id-1 div.sk-parallel {display: flex;align-items: stretch;justify-content: center;background-color: white;position: relative;}#sk-container-id-1 div.sk-item::before, #sk-container-id-1 div.sk-parallel-item::before {content: \"\";position: absolute;border-left: 1px solid gray;box-sizing: border-box;top: 0;bottom: 0;left: 50%;z-index: -1;}#sk-container-id-1 div.sk-parallel-item {display: flex;flex-direction: column;z-index: 1;position: relative;background-color: white;}#sk-container-id-1 div.sk-parallel-item:first-child::after {align-self: flex-end;width: 50%;}#sk-container-id-1 div.sk-parallel-item:last-child::after {align-self: flex-start;width: 50%;}#sk-container-id-1 div.sk-parallel-item:only-child::after {width: 0;}#sk-container-id-1 div.sk-dashed-wrapped {border: 1px dashed gray;margin: 0 0.4em 0.5em 0.4em;box-sizing: border-box;padding-bottom: 0.4em;background-color: white;}#sk-container-id-1 div.sk-label label {font-family: monospace;font-weight: bold;display: inline-block;line-height: 1.2em;}#sk-container-id-1 div.sk-label-container {text-align: center;}#sk-container-id-1 div.sk-container {/* jupyter's `normalize.less` sets `[hidden] { display: none; }` but bootstrap.min.css set `[hidden] { display: none !important; }` so we also need the `!important` here to be able to override the default hidden behavior on the sphinx rendered scikit-learn.org. See: https://github.com/scikit-learn/scikit-learn/issues/21755 */display: inline-block !important;position: relative;}#sk-container-id-1 div.sk-text-repr-fallback {display: none;}</style><div id=\"sk-container-id-1\" class=\"sk-top-container\"><div class=\"sk-text-repr-fallback\"><pre>DecisionTreeClassifier()</pre><b>In a Jupyter environment, please rerun this cell to show the HTML representation or trust the notebook. <br />On GitHub, the HTML representation is unable to render, please try loading this page with nbviewer.org.</b></div><div class=\"sk-container\" hidden><div class=\"sk-item\"><div class=\"sk-estimator sk-toggleable\"><input class=\"sk-toggleable__control sk-hidden--visually\" id=\"sk-estimator-id-1\" type=\"checkbox\" checked><label for=\"sk-estimator-id-1\" class=\"sk-toggleable__label sk-toggleable__label-arrow\">DecisionTreeClassifier</label><div class=\"sk-toggleable__content\"><pre>DecisionTreeClassifier()</pre></div></div></div></div></div>"
      ],
      "text/plain": [
       "DecisionTreeClassifier()"
      ]
     },
     "execution_count": 26,
     "metadata": {},
     "output_type": "execute_result"
    }
   ],
   "source": [
    "clf = DecisionTreeClassifier()\n",
    "clf.fit(X_train, y_train)"
   ]
  },
  {
   "cell_type": "code",
   "execution_count": 27,
   "id": "9c50acc4",
   "metadata": {
    "execution": {
     "iopub.execute_input": "2023-03-20T11:25:36.454765Z",
     "iopub.status.busy": "2023-03-20T11:25:36.453815Z",
     "iopub.status.idle": "2023-03-20T11:25:36.487217Z",
     "shell.execute_reply": "2023-03-20T11:25:36.485588Z"
    },
    "papermill": {
     "duration": 0.049843,
     "end_time": "2023-03-20T11:25:36.490489",
     "exception": false,
     "start_time": "2023-03-20T11:25:36.440646",
     "status": "completed"
    },
    "tags": []
   },
   "outputs": [
    {
     "name": "stdout",
     "output_type": "stream",
     "text": [
      "              precision    recall  f1-score   support\n",
      "\n",
      "        comp       0.30      0.32      0.31        47\n",
      "        misc       0.00      0.00      0.00         8\n",
      "         rec       0.22      0.22      0.22        49\n",
      "    religion       0.33      0.28      0.30        88\n",
      "         sci       0.29      0.34      0.31        68\n",
      "        talk       0.31      0.31      0.31        95\n",
      "\n",
      "    accuracy                           0.29       355\n",
      "   macro avg       0.24      0.25      0.24       355\n",
      "weighted avg       0.29      0.29      0.29       355\n",
      "\n"
     ]
    }
   ],
   "source": [
    "y_pred = clf.predict(X_test)\n",
    "print(classification_report(y_test, y_pred))"
   ]
  },
  {
   "cell_type": "code",
   "execution_count": 28,
   "id": "8866c3c3",
   "metadata": {
    "execution": {
     "iopub.execute_input": "2023-03-20T11:25:36.553433Z",
     "iopub.status.busy": "2023-03-20T11:25:36.552928Z",
     "iopub.status.idle": "2023-03-20T11:25:36.584139Z",
     "shell.execute_reply": "2023-03-20T11:25:36.582536Z"
    },
    "papermill": {
     "duration": 0.065316,
     "end_time": "2023-03-20T11:25:36.586285",
     "exception": false,
     "start_time": "2023-03-20T11:25:36.520969",
     "status": "completed"
    },
    "tags": []
   },
   "outputs": [],
   "source": [
    "acc = accuracy_score(y_test, y_pred)\n",
    "pre = precision_score(y_test, y_pred, average=avg_par)\n",
    "rec = recall_score(y_test, y_pred, average=avg_par)\n",
    "f1 = f1_score(y_test, y_pred, average=avg_par)\n",
    "\n",
    "metrics_data['Global']['DecisionTree'] = {'Accuracy': acc, 'Precision': pre, 'Recall': rec, 'F1': f1}"
   ]
  },
  {
   "cell_type": "markdown",
   "id": "28aa5a63",
   "metadata": {
    "papermill": {
     "duration": 0.011982,
     "end_time": "2023-03-20T11:25:36.612989",
     "exception": false,
     "start_time": "2023-03-20T11:25:36.601007",
     "status": "completed"
    },
    "tags": []
   },
   "source": [
    "**Random Forest**"
   ]
  },
  {
   "cell_type": "code",
   "execution_count": 29,
   "id": "0e5e2310",
   "metadata": {
    "execution": {
     "iopub.execute_input": "2023-03-20T11:25:36.639227Z",
     "iopub.status.busy": "2023-03-20T11:25:36.638714Z",
     "iopub.status.idle": "2023-03-20T11:25:37.055279Z",
     "shell.execute_reply": "2023-03-20T11:25:37.054634Z"
    },
    "papermill": {
     "duration": 0.433298,
     "end_time": "2023-03-20T11:25:37.058473",
     "exception": false,
     "start_time": "2023-03-20T11:25:36.625175",
     "status": "completed"
    },
    "tags": []
   },
   "outputs": [
    {
     "data": {
      "text/html": [
       "<style>#sk-container-id-2 {color: black;background-color: white;}#sk-container-id-2 pre{padding: 0;}#sk-container-id-2 div.sk-toggleable {background-color: white;}#sk-container-id-2 label.sk-toggleable__label {cursor: pointer;display: block;width: 100%;margin-bottom: 0;padding: 0.3em;box-sizing: border-box;text-align: center;}#sk-container-id-2 label.sk-toggleable__label-arrow:before {content: \"▸\";float: left;margin-right: 0.25em;color: #696969;}#sk-container-id-2 label.sk-toggleable__label-arrow:hover:before {color: black;}#sk-container-id-2 div.sk-estimator:hover label.sk-toggleable__label-arrow:before {color: black;}#sk-container-id-2 div.sk-toggleable__content {max-height: 0;max-width: 0;overflow: hidden;text-align: left;background-color: #f0f8ff;}#sk-container-id-2 div.sk-toggleable__content pre {margin: 0.2em;color: black;border-radius: 0.25em;background-color: #f0f8ff;}#sk-container-id-2 input.sk-toggleable__control:checked~div.sk-toggleable__content {max-height: 200px;max-width: 100%;overflow: auto;}#sk-container-id-2 input.sk-toggleable__control:checked~label.sk-toggleable__label-arrow:before {content: \"▾\";}#sk-container-id-2 div.sk-estimator input.sk-toggleable__control:checked~label.sk-toggleable__label {background-color: #d4ebff;}#sk-container-id-2 div.sk-label input.sk-toggleable__control:checked~label.sk-toggleable__label {background-color: #d4ebff;}#sk-container-id-2 input.sk-hidden--visually {border: 0;clip: rect(1px 1px 1px 1px);clip: rect(1px, 1px, 1px, 1px);height: 1px;margin: -1px;overflow: hidden;padding: 0;position: absolute;width: 1px;}#sk-container-id-2 div.sk-estimator {font-family: monospace;background-color: #f0f8ff;border: 1px dotted black;border-radius: 0.25em;box-sizing: border-box;margin-bottom: 0.5em;}#sk-container-id-2 div.sk-estimator:hover {background-color: #d4ebff;}#sk-container-id-2 div.sk-parallel-item::after {content: \"\";width: 100%;border-bottom: 1px solid gray;flex-grow: 1;}#sk-container-id-2 div.sk-label:hover label.sk-toggleable__label {background-color: #d4ebff;}#sk-container-id-2 div.sk-serial::before {content: \"\";position: absolute;border-left: 1px solid gray;box-sizing: border-box;top: 0;bottom: 0;left: 50%;z-index: 0;}#sk-container-id-2 div.sk-serial {display: flex;flex-direction: column;align-items: center;background-color: white;padding-right: 0.2em;padding-left: 0.2em;position: relative;}#sk-container-id-2 div.sk-item {position: relative;z-index: 1;}#sk-container-id-2 div.sk-parallel {display: flex;align-items: stretch;justify-content: center;background-color: white;position: relative;}#sk-container-id-2 div.sk-item::before, #sk-container-id-2 div.sk-parallel-item::before {content: \"\";position: absolute;border-left: 1px solid gray;box-sizing: border-box;top: 0;bottom: 0;left: 50%;z-index: -1;}#sk-container-id-2 div.sk-parallel-item {display: flex;flex-direction: column;z-index: 1;position: relative;background-color: white;}#sk-container-id-2 div.sk-parallel-item:first-child::after {align-self: flex-end;width: 50%;}#sk-container-id-2 div.sk-parallel-item:last-child::after {align-self: flex-start;width: 50%;}#sk-container-id-2 div.sk-parallel-item:only-child::after {width: 0;}#sk-container-id-2 div.sk-dashed-wrapped {border: 1px dashed gray;margin: 0 0.4em 0.5em 0.4em;box-sizing: border-box;padding-bottom: 0.4em;background-color: white;}#sk-container-id-2 div.sk-label label {font-family: monospace;font-weight: bold;display: inline-block;line-height: 1.2em;}#sk-container-id-2 div.sk-label-container {text-align: center;}#sk-container-id-2 div.sk-container {/* jupyter's `normalize.less` sets `[hidden] { display: none; }` but bootstrap.min.css set `[hidden] { display: none !important; }` so we also need the `!important` here to be able to override the default hidden behavior on the sphinx rendered scikit-learn.org. See: https://github.com/scikit-learn/scikit-learn/issues/21755 */display: inline-block !important;position: relative;}#sk-container-id-2 div.sk-text-repr-fallback {display: none;}</style><div id=\"sk-container-id-2\" class=\"sk-top-container\"><div class=\"sk-text-repr-fallback\"><pre>RandomForestClassifier(random_state=42)</pre><b>In a Jupyter environment, please rerun this cell to show the HTML representation or trust the notebook. <br />On GitHub, the HTML representation is unable to render, please try loading this page with nbviewer.org.</b></div><div class=\"sk-container\" hidden><div class=\"sk-item\"><div class=\"sk-estimator sk-toggleable\"><input class=\"sk-toggleable__control sk-hidden--visually\" id=\"sk-estimator-id-2\" type=\"checkbox\" checked><label for=\"sk-estimator-id-2\" class=\"sk-toggleable__label sk-toggleable__label-arrow\">RandomForestClassifier</label><div class=\"sk-toggleable__content\"><pre>RandomForestClassifier(random_state=42)</pre></div></div></div></div></div>"
      ],
      "text/plain": [
       "RandomForestClassifier(random_state=42)"
      ]
     },
     "execution_count": 29,
     "metadata": {},
     "output_type": "execute_result"
    }
   ],
   "source": [
    "clf = RandomForestClassifier(random_state=42)\n",
    "clf.fit(X_train, y_train)"
   ]
  },
  {
   "cell_type": "code",
   "execution_count": 30,
   "id": "4bd1304b",
   "metadata": {
    "execution": {
     "iopub.execute_input": "2023-03-20T11:25:37.129427Z",
     "iopub.status.busy": "2023-03-20T11:25:37.128923Z",
     "iopub.status.idle": "2023-03-20T11:25:37.160381Z",
     "shell.execute_reply": "2023-03-20T11:25:37.159042Z"
    },
    "papermill": {
     "duration": 0.070208,
     "end_time": "2023-03-20T11:25:37.163800",
     "exception": false,
     "start_time": "2023-03-20T11:25:37.093592",
     "status": "completed"
    },
    "tags": []
   },
   "outputs": [
    {
     "name": "stdout",
     "output_type": "stream",
     "text": [
      "              precision    recall  f1-score   support\n",
      "\n",
      "        comp       0.45      0.28      0.34        47\n",
      "        misc       0.43      0.38      0.40         8\n",
      "         rec       0.49      0.41      0.44        49\n",
      "    religion       0.45      0.57      0.50        88\n",
      "         sci       0.38      0.29      0.33        68\n",
      "        talk       0.43      0.52      0.47        95\n",
      "\n",
      "    accuracy                           0.44       355\n",
      "   macro avg       0.44      0.41      0.41       355\n",
      "weighted avg       0.44      0.44      0.43       355\n",
      "\n"
     ]
    }
   ],
   "source": [
    "y_pred = clf.predict(X_test)\n",
    "print(classification_report(y_test, y_pred))"
   ]
  },
  {
   "cell_type": "code",
   "execution_count": 31,
   "id": "43174ba2",
   "metadata": {
    "execution": {
     "iopub.execute_input": "2023-03-20T11:25:37.222453Z",
     "iopub.status.busy": "2023-03-20T11:25:37.221946Z",
     "iopub.status.idle": "2023-03-20T11:25:37.253595Z",
     "shell.execute_reply": "2023-03-20T11:25:37.252020Z"
    },
    "papermill": {
     "duration": 0.061208,
     "end_time": "2023-03-20T11:25:37.257000",
     "exception": false,
     "start_time": "2023-03-20T11:25:37.195792",
     "status": "completed"
    },
    "tags": []
   },
   "outputs": [],
   "source": [
    "acc = accuracy_score(y_test, y_pred)\n",
    "pre = precision_score(y_test, y_pred, average=avg_par)\n",
    "rec = recall_score(y_test, y_pred, average=avg_par)\n",
    "f1 = f1_score(y_test, y_pred, average=avg_par)\n",
    "\n",
    "metrics_data['Global']['RandomForest'] = {'Accuracy': acc, 'Precision': pre, 'Recall': rec, 'F1': f1}"
   ]
  },
  {
   "cell_type": "markdown",
   "id": "22c98ac5",
   "metadata": {
    "papermill": {
     "duration": 0.026926,
     "end_time": "2023-03-20T11:25:37.315370",
     "exception": false,
     "start_time": "2023-03-20T11:25:37.288444",
     "status": "completed"
    },
    "tags": []
   },
   "source": [
    "**LightGBM**"
   ]
  },
  {
   "cell_type": "code",
   "execution_count": 32,
   "id": "c93b818c",
   "metadata": {
    "execution": {
     "iopub.execute_input": "2023-03-20T11:25:37.341657Z",
     "iopub.status.busy": "2023-03-20T11:25:37.341151Z",
     "iopub.status.idle": "2023-03-20T11:25:37.761901Z",
     "shell.execute_reply": "2023-03-20T11:25:37.761317Z"
    },
    "papermill": {
     "duration": 0.436192,
     "end_time": "2023-03-20T11:25:37.763696",
     "exception": false,
     "start_time": "2023-03-20T11:25:37.327504",
     "status": "completed"
    },
    "tags": []
   },
   "outputs": [
    {
     "data": {
      "text/html": [
       "<style>#sk-container-id-3 {color: black;background-color: white;}#sk-container-id-3 pre{padding: 0;}#sk-container-id-3 div.sk-toggleable {background-color: white;}#sk-container-id-3 label.sk-toggleable__label {cursor: pointer;display: block;width: 100%;margin-bottom: 0;padding: 0.3em;box-sizing: border-box;text-align: center;}#sk-container-id-3 label.sk-toggleable__label-arrow:before {content: \"▸\";float: left;margin-right: 0.25em;color: #696969;}#sk-container-id-3 label.sk-toggleable__label-arrow:hover:before {color: black;}#sk-container-id-3 div.sk-estimator:hover label.sk-toggleable__label-arrow:before {color: black;}#sk-container-id-3 div.sk-toggleable__content {max-height: 0;max-width: 0;overflow: hidden;text-align: left;background-color: #f0f8ff;}#sk-container-id-3 div.sk-toggleable__content pre {margin: 0.2em;color: black;border-radius: 0.25em;background-color: #f0f8ff;}#sk-container-id-3 input.sk-toggleable__control:checked~div.sk-toggleable__content {max-height: 200px;max-width: 100%;overflow: auto;}#sk-container-id-3 input.sk-toggleable__control:checked~label.sk-toggleable__label-arrow:before {content: \"▾\";}#sk-container-id-3 div.sk-estimator input.sk-toggleable__control:checked~label.sk-toggleable__label {background-color: #d4ebff;}#sk-container-id-3 div.sk-label input.sk-toggleable__control:checked~label.sk-toggleable__label {background-color: #d4ebff;}#sk-container-id-3 input.sk-hidden--visually {border: 0;clip: rect(1px 1px 1px 1px);clip: rect(1px, 1px, 1px, 1px);height: 1px;margin: -1px;overflow: hidden;padding: 0;position: absolute;width: 1px;}#sk-container-id-3 div.sk-estimator {font-family: monospace;background-color: #f0f8ff;border: 1px dotted black;border-radius: 0.25em;box-sizing: border-box;margin-bottom: 0.5em;}#sk-container-id-3 div.sk-estimator:hover {background-color: #d4ebff;}#sk-container-id-3 div.sk-parallel-item::after {content: \"\";width: 100%;border-bottom: 1px solid gray;flex-grow: 1;}#sk-container-id-3 div.sk-label:hover label.sk-toggleable__label {background-color: #d4ebff;}#sk-container-id-3 div.sk-serial::before {content: \"\";position: absolute;border-left: 1px solid gray;box-sizing: border-box;top: 0;bottom: 0;left: 50%;z-index: 0;}#sk-container-id-3 div.sk-serial {display: flex;flex-direction: column;align-items: center;background-color: white;padding-right: 0.2em;padding-left: 0.2em;position: relative;}#sk-container-id-3 div.sk-item {position: relative;z-index: 1;}#sk-container-id-3 div.sk-parallel {display: flex;align-items: stretch;justify-content: center;background-color: white;position: relative;}#sk-container-id-3 div.sk-item::before, #sk-container-id-3 div.sk-parallel-item::before {content: \"\";position: absolute;border-left: 1px solid gray;box-sizing: border-box;top: 0;bottom: 0;left: 50%;z-index: -1;}#sk-container-id-3 div.sk-parallel-item {display: flex;flex-direction: column;z-index: 1;position: relative;background-color: white;}#sk-container-id-3 div.sk-parallel-item:first-child::after {align-self: flex-end;width: 50%;}#sk-container-id-3 div.sk-parallel-item:last-child::after {align-self: flex-start;width: 50%;}#sk-container-id-3 div.sk-parallel-item:only-child::after {width: 0;}#sk-container-id-3 div.sk-dashed-wrapped {border: 1px dashed gray;margin: 0 0.4em 0.5em 0.4em;box-sizing: border-box;padding-bottom: 0.4em;background-color: white;}#sk-container-id-3 div.sk-label label {font-family: monospace;font-weight: bold;display: inline-block;line-height: 1.2em;}#sk-container-id-3 div.sk-label-container {text-align: center;}#sk-container-id-3 div.sk-container {/* jupyter's `normalize.less` sets `[hidden] { display: none; }` but bootstrap.min.css set `[hidden] { display: none !important; }` so we also need the `!important` here to be able to override the default hidden behavior on the sphinx rendered scikit-learn.org. See: https://github.com/scikit-learn/scikit-learn/issues/21755 */display: inline-block !important;position: relative;}#sk-container-id-3 div.sk-text-repr-fallback {display: none;}</style><div id=\"sk-container-id-3\" class=\"sk-top-container\"><div class=\"sk-text-repr-fallback\"><pre>LGBMClassifier(objective=&#x27;multiclass&#x27;)</pre><b>In a Jupyter environment, please rerun this cell to show the HTML representation or trust the notebook. <br />On GitHub, the HTML representation is unable to render, please try loading this page with nbviewer.org.</b></div><div class=\"sk-container\" hidden><div class=\"sk-item\"><div class=\"sk-estimator sk-toggleable\"><input class=\"sk-toggleable__control sk-hidden--visually\" id=\"sk-estimator-id-3\" type=\"checkbox\" checked><label for=\"sk-estimator-id-3\" class=\"sk-toggleable__label sk-toggleable__label-arrow\">LGBMClassifier</label><div class=\"sk-toggleable__content\"><pre>LGBMClassifier(objective=&#x27;multiclass&#x27;)</pre></div></div></div></div></div>"
      ],
      "text/plain": [
       "LGBMClassifier(objective='multiclass')"
      ]
     },
     "execution_count": 32,
     "metadata": {},
     "output_type": "execute_result"
    }
   ],
   "source": [
    "clf = lgbm.LGBMClassifier(objective=obj_par) \n",
    "clf.fit(X_train, y_train)"
   ]
  },
  {
   "cell_type": "code",
   "execution_count": 33,
   "id": "600a663a",
   "metadata": {
    "execution": {
     "iopub.execute_input": "2023-03-20T11:25:37.791658Z",
     "iopub.status.busy": "2023-03-20T11:25:37.791237Z",
     "iopub.status.idle": "2023-03-20T11:25:37.812847Z",
     "shell.execute_reply": "2023-03-20T11:25:37.812148Z"
    },
    "papermill": {
     "duration": 0.037741,
     "end_time": "2023-03-20T11:25:37.815036",
     "exception": false,
     "start_time": "2023-03-20T11:25:37.777295",
     "status": "completed"
    },
    "tags": []
   },
   "outputs": [
    {
     "name": "stdout",
     "output_type": "stream",
     "text": [
      "              precision    recall  f1-score   support\n",
      "\n",
      "        comp       0.46      0.38      0.42        47\n",
      "        misc       0.60      0.38      0.46         8\n",
      "         rec       0.40      0.33      0.36        49\n",
      "    religion       0.45      0.50      0.48        88\n",
      "         sci       0.33      0.26      0.29        68\n",
      "        talk       0.41      0.52      0.46        95\n",
      "\n",
      "    accuracy                           0.42       355\n",
      "   macro avg       0.44      0.39      0.41       355\n",
      "weighted avg       0.42      0.42      0.41       355\n",
      "\n"
     ]
    }
   ],
   "source": [
    "y_pred = clf.predict(X_test)\n",
    "print(classification_report(y_test, y_pred))"
   ]
  },
  {
   "cell_type": "code",
   "execution_count": 34,
   "id": "508d831d",
   "metadata": {
    "execution": {
     "iopub.execute_input": "2023-03-20T11:25:37.843627Z",
     "iopub.status.busy": "2023-03-20T11:25:37.843201Z",
     "iopub.status.idle": "2023-03-20T11:25:37.864010Z",
     "shell.execute_reply": "2023-03-20T11:25:37.863104Z"
    },
    "papermill": {
     "duration": 0.036501,
     "end_time": "2023-03-20T11:25:37.866080",
     "exception": false,
     "start_time": "2023-03-20T11:25:37.829579",
     "status": "completed"
    },
    "tags": []
   },
   "outputs": [],
   "source": [
    "acc = accuracy_score(y_test, y_pred)\n",
    "pre = precision_score(y_test, y_pred, average=avg_par)\n",
    "rec = recall_score(y_test, y_pred, average=avg_par)\n",
    "f1 = f1_score(y_test, y_pred, average=avg_par)\n",
    "\n",
    "metrics_data['Global']['LightGBM'] = {'Accuracy': acc, 'Precision': pre, 'Recall': rec, 'F1': f1}"
   ]
  },
  {
   "cell_type": "markdown",
   "id": "14b86894",
   "metadata": {
    "papermill": {
     "duration": 0.018317,
     "end_time": "2023-03-20T11:25:37.912447",
     "exception": false,
     "start_time": "2023-03-20T11:25:37.894130",
     "status": "completed"
    },
    "tags": []
   },
   "source": [
    "### Time Series Classification"
   ]
  },
  {
   "cell_type": "markdown",
   "id": "84c55533",
   "metadata": {
    "papermill": {
     "duration": 0.012098,
     "end_time": "2023-03-20T11:25:37.936781",
     "exception": false,
     "start_time": "2023-03-20T11:25:37.924683",
     "status": "completed"
    },
    "tags": []
   },
   "source": [
    "#### Learning Shapelets"
   ]
  },
  {
   "cell_type": "code",
   "execution_count": 35,
   "id": "488d8eb7",
   "metadata": {
    "execution": {
     "iopub.execute_input": "2023-03-20T11:25:37.963545Z",
     "iopub.status.busy": "2023-03-20T11:25:37.963040Z",
     "iopub.status.idle": "2023-03-20T11:25:39.473085Z",
     "shell.execute_reply": "2023-03-20T11:25:39.472128Z"
    },
    "papermill": {
     "duration": 1.527055,
     "end_time": "2023-03-20T11:25:39.476281",
     "exception": false,
     "start_time": "2023-03-20T11:25:37.949226",
     "status": "completed"
    },
    "tags": []
   },
   "outputs": [
    {
     "name": "stderr",
     "output_type": "stream",
     "text": [
      "2023-03-20 12:25:37.970452: I tensorflow/core/platform/cpu_feature_guard.cc:193] This TensorFlow binary is optimized with oneAPI Deep Neural Network Library (oneDNN) to use the following CPU instructions in performance-critical operations:  AVX2 FMA\n",
      "To enable them in other operations, rebuild TensorFlow with the appropriate compiler flags.\n",
      "2023-03-20 12:25:38.133366: W tensorflow/compiler/xla/stream_executor/platform/default/dso_loader.cc:64] Could not load dynamic library 'libcudart.so.11.0'; dlerror: libcudart.so.11.0: cannot open shared object file: No such file or directory\n",
      "2023-03-20 12:25:38.133387: I tensorflow/compiler/xla/stream_executor/cuda/cudart_stub.cc:29] Ignore above cudart dlerror if you do not have a GPU set up on your machine.\n"
     ]
    },
    {
     "name": "stderr",
     "output_type": "stream",
     "text": [
      "2023-03-20 12:25:38.740334: W tensorflow/compiler/xla/stream_executor/platform/default/dso_loader.cc:64] Could not load dynamic library 'libnvinfer.so.7'; dlerror: libnvinfer.so.7: cannot open shared object file: No such file or directory\n",
      "2023-03-20 12:25:38.740411: W tensorflow/compiler/xla/stream_executor/platform/default/dso_loader.cc:64] Could not load dynamic library 'libnvinfer_plugin.so.7'; dlerror: libnvinfer_plugin.so.7: cannot open shared object file: No such file or directory\n",
      "2023-03-20 12:25:38.740419: W tensorflow/compiler/tf2tensorrt/utils/py_utils.cc:38] TF-TRT Warning: Cannot dlopen some TensorRT libraries. If you would like to use Nvidia GPU with TensorRT, please make sure the missing libraries mentioned above are installed properly.\n"
     ]
    }
   ],
   "source": [
    "from tslearn.shapelets import LearningShapelets, grabocka_params_to_shapelet_size_dict"
   ]
  },
  {
   "cell_type": "code",
   "execution_count": 36,
   "id": "eb677959",
   "metadata": {
    "execution": {
     "iopub.execute_input": "2023-03-20T11:25:39.549745Z",
     "iopub.status.busy": "2023-03-20T11:25:39.549220Z",
     "iopub.status.idle": "2023-03-20T11:25:39.554341Z",
     "shell.execute_reply": "2023-03-20T11:25:39.553410Z"
    },
    "papermill": {
     "duration": 0.042038,
     "end_time": "2023-03-20T11:25:39.557630",
     "exception": false,
     "start_time": "2023-03-20T11:25:39.515592",
     "status": "completed"
    },
    "tags": []
   },
   "outputs": [],
   "source": [
    "n_ts, ts_sz, _ = ts_train.shape\n",
    "n_classes = len(set(y_train))"
   ]
  },
  {
   "cell_type": "code",
   "execution_count": 37,
   "id": "776ed3dd",
   "metadata": {
    "execution": {
     "iopub.execute_input": "2023-03-20T11:25:39.596564Z",
     "iopub.status.busy": "2023-03-20T11:25:39.596082Z",
     "iopub.status.idle": "2023-03-20T11:25:39.604640Z",
     "shell.execute_reply": "2023-03-20T11:25:39.603339Z"
    },
    "papermill": {
     "duration": 0.024438,
     "end_time": "2023-03-20T11:25:39.606631",
     "exception": false,
     "start_time": "2023-03-20T11:25:39.582193",
     "status": "completed"
    },
    "tags": []
   },
   "outputs": [
    {
     "name": "stdout",
     "output_type": "stream",
     "text": [
      "n_ts 1420\n",
      "ts_sz 100\n",
      "n_classes 6\n",
      "shapelet_sizes {10: 5}\n"
     ]
    }
   ],
   "source": [
    "# Set the number of shapelets per size as done in the original paper\n",
    "g_shapelet_sizes = grabocka_params_to_shapelet_size_dict(n_ts=n_ts,\n",
    "                                                         ts_sz=ts_sz,\n",
    "                                                         n_classes=n_classes,\n",
    "                                                         l=0.1,\n",
    "                                                         r=1)\n",
    "\n",
    "print('n_ts', n_ts)\n",
    "print('ts_sz', ts_sz)\n",
    "print('n_classes', n_classes)\n",
    "print('shapelet_sizes', g_shapelet_sizes)"
   ]
  },
  {
   "cell_type": "code",
   "execution_count": 38,
   "id": "90ed707e",
   "metadata": {
    "execution": {
     "iopub.execute_input": "2023-03-20T11:25:39.634562Z",
     "iopub.status.busy": "2023-03-20T11:25:39.634085Z",
     "iopub.status.idle": "2023-03-20T11:25:39.643871Z",
     "shell.execute_reply": "2023-03-20T11:25:39.642743Z"
    },
    "papermill": {
     "duration": 0.025916,
     "end_time": "2023-03-20T11:25:39.646091",
     "exception": false,
     "start_time": "2023-03-20T11:25:39.620175",
     "status": "completed"
    },
    "tags": []
   },
   "outputs": [
    {
     "data": {
      "text/plain": [
       "{10: 5, 20: 5, 5: 5}"
      ]
     },
     "execution_count": 38,
     "metadata": {},
     "output_type": "execute_result"
    }
   ],
   "source": [
    "shapelet_sizes = {}\n",
    "for key in g_shapelet_sizes:\n",
    "    shapelet_sizes[key] = g_shapelet_sizes[key]\n",
    "    shapelet_sizes[key*2] = g_shapelet_sizes[key]\n",
    "    shapelet_sizes[key//2] = g_shapelet_sizes[key]\n",
    "shapelet_sizes"
   ]
  },
  {
   "cell_type": "code",
   "execution_count": 39,
   "id": "3507fb9c",
   "metadata": {
    "execution": {
     "iopub.execute_input": "2023-03-20T11:25:39.673317Z",
     "iopub.status.busy": "2023-03-20T11:25:39.672840Z",
     "iopub.status.idle": "2023-03-20T11:25:39.680362Z",
     "shell.execute_reply": "2023-03-20T11:25:39.679075Z"
    },
    "papermill": {
     "duration": 0.023667,
     "end_time": "2023-03-20T11:25:39.682534",
     "exception": false,
     "start_time": "2023-03-20T11:25:39.658867",
     "status": "completed"
    },
    "tags": []
   },
   "outputs": [
    {
     "name": "stderr",
     "output_type": "stream",
     "text": [
      "/home/mattiapggioli/lyrics2ts/.venv/lib/python3.9/site-packages/tslearn/shapelets/shapelets.py:354: FutureWarning: The default value for 'scale' is set to False in version 0.4 to ensure backward compatibility, but is likely to change in a future version.\n",
      "  warnings.warn(\"The default value for 'scale' is set to False \"\n"
     ]
    }
   ],
   "source": [
    "model = LearningShapelets(n_shapelets_per_size=shapelet_sizes,\n",
    "                          optimizer=\"adam\", \n",
    "                          weight_regularizer=.01, \n",
    "                          max_iter=max_iter, verbose=0, random_state=42)"
   ]
  },
  {
   "cell_type": "code",
   "execution_count": 40,
   "id": "73b1fe2e",
   "metadata": {
    "execution": {
     "iopub.execute_input": "2023-03-20T11:25:39.710440Z",
     "iopub.status.busy": "2023-03-20T11:25:39.709714Z",
     "iopub.status.idle": "2023-03-20T11:28:09.384492Z",
     "shell.execute_reply": "2023-03-20T11:28:09.383346Z"
    },
    "papermill": {
     "duration": 149.706637,
     "end_time": "2023-03-20T11:28:09.402048",
     "exception": false,
     "start_time": "2023-03-20T11:25:39.695411",
     "status": "completed"
    },
    "tags": []
   },
   "outputs": [
    {
     "name": "stderr",
     "output_type": "stream",
     "text": [
      "2023-03-20 12:25:39.811977: W tensorflow/compiler/xla/stream_executor/platform/default/dso_loader.cc:64] Could not load dynamic library 'libcuda.so.1'; dlerror: libcuda.so.1: cannot open shared object file: No such file or directory\n",
      "2023-03-20 12:25:39.812002: W tensorflow/compiler/xla/stream_executor/cuda/cuda_driver.cc:265] failed call to cuInit: UNKNOWN ERROR (303)\n",
      "2023-03-20 12:25:39.812025: I tensorflow/compiler/xla/stream_executor/cuda/cuda_diagnostics.cc:156] kernel driver does not appear to be running on this host (mattiapggioli-ThinkPad-E595): /proc/driver/nvidia/version does not exist\n",
      "2023-03-20 12:25:39.812231: I tensorflow/core/platform/cpu_feature_guard.cc:193] This TensorFlow binary is optimized with oneAPI Deep Neural Network Library (oneDNN) to use the following CPU instructions in performance-critical operations:  AVX2 FMA\n",
      "To enable them in other operations, rebuild TensorFlow with the appropriate compiler flags.\n"
     ]
    },
    {
     "name": "stdout",
     "output_type": "stream",
     "text": [
      "CPU times: user 10min 21s, sys: 32.1 s, total: 10min 53s\n",
      "Wall time: 2min 29s\n"
     ]
    },
    {
     "data": {
      "text/html": [
       "<style>#sk-container-id-4 {color: black;background-color: white;}#sk-container-id-4 pre{padding: 0;}#sk-container-id-4 div.sk-toggleable {background-color: white;}#sk-container-id-4 label.sk-toggleable__label {cursor: pointer;display: block;width: 100%;margin-bottom: 0;padding: 0.3em;box-sizing: border-box;text-align: center;}#sk-container-id-4 label.sk-toggleable__label-arrow:before {content: \"▸\";float: left;margin-right: 0.25em;color: #696969;}#sk-container-id-4 label.sk-toggleable__label-arrow:hover:before {color: black;}#sk-container-id-4 div.sk-estimator:hover label.sk-toggleable__label-arrow:before {color: black;}#sk-container-id-4 div.sk-toggleable__content {max-height: 0;max-width: 0;overflow: hidden;text-align: left;background-color: #f0f8ff;}#sk-container-id-4 div.sk-toggleable__content pre {margin: 0.2em;color: black;border-radius: 0.25em;background-color: #f0f8ff;}#sk-container-id-4 input.sk-toggleable__control:checked~div.sk-toggleable__content {max-height: 200px;max-width: 100%;overflow: auto;}#sk-container-id-4 input.sk-toggleable__control:checked~label.sk-toggleable__label-arrow:before {content: \"▾\";}#sk-container-id-4 div.sk-estimator input.sk-toggleable__control:checked~label.sk-toggleable__label {background-color: #d4ebff;}#sk-container-id-4 div.sk-label input.sk-toggleable__control:checked~label.sk-toggleable__label {background-color: #d4ebff;}#sk-container-id-4 input.sk-hidden--visually {border: 0;clip: rect(1px 1px 1px 1px);clip: rect(1px, 1px, 1px, 1px);height: 1px;margin: -1px;overflow: hidden;padding: 0;position: absolute;width: 1px;}#sk-container-id-4 div.sk-estimator {font-family: monospace;background-color: #f0f8ff;border: 1px dotted black;border-radius: 0.25em;box-sizing: border-box;margin-bottom: 0.5em;}#sk-container-id-4 div.sk-estimator:hover {background-color: #d4ebff;}#sk-container-id-4 div.sk-parallel-item::after {content: \"\";width: 100%;border-bottom: 1px solid gray;flex-grow: 1;}#sk-container-id-4 div.sk-label:hover label.sk-toggleable__label {background-color: #d4ebff;}#sk-container-id-4 div.sk-serial::before {content: \"\";position: absolute;border-left: 1px solid gray;box-sizing: border-box;top: 0;bottom: 0;left: 50%;z-index: 0;}#sk-container-id-4 div.sk-serial {display: flex;flex-direction: column;align-items: center;background-color: white;padding-right: 0.2em;padding-left: 0.2em;position: relative;}#sk-container-id-4 div.sk-item {position: relative;z-index: 1;}#sk-container-id-4 div.sk-parallel {display: flex;align-items: stretch;justify-content: center;background-color: white;position: relative;}#sk-container-id-4 div.sk-item::before, #sk-container-id-4 div.sk-parallel-item::before {content: \"\";position: absolute;border-left: 1px solid gray;box-sizing: border-box;top: 0;bottom: 0;left: 50%;z-index: -1;}#sk-container-id-4 div.sk-parallel-item {display: flex;flex-direction: column;z-index: 1;position: relative;background-color: white;}#sk-container-id-4 div.sk-parallel-item:first-child::after {align-self: flex-end;width: 50%;}#sk-container-id-4 div.sk-parallel-item:last-child::after {align-self: flex-start;width: 50%;}#sk-container-id-4 div.sk-parallel-item:only-child::after {width: 0;}#sk-container-id-4 div.sk-dashed-wrapped {border: 1px dashed gray;margin: 0 0.4em 0.5em 0.4em;box-sizing: border-box;padding-bottom: 0.4em;background-color: white;}#sk-container-id-4 div.sk-label label {font-family: monospace;font-weight: bold;display: inline-block;line-height: 1.2em;}#sk-container-id-4 div.sk-label-container {text-align: center;}#sk-container-id-4 div.sk-container {/* jupyter's `normalize.less` sets `[hidden] { display: none; }` but bootstrap.min.css set `[hidden] { display: none !important; }` so we also need the `!important` here to be able to override the default hidden behavior on the sphinx rendered scikit-learn.org. See: https://github.com/scikit-learn/scikit-learn/issues/21755 */display: inline-block !important;position: relative;}#sk-container-id-4 div.sk-text-repr-fallback {display: none;}</style><div id=\"sk-container-id-4\" class=\"sk-top-container\"><div class=\"sk-text-repr-fallback\"><pre>LearningShapelets(max_iter=2000, n_shapelets_per_size={5: 5, 10: 5, 20: 5},\n",
       "                  optimizer=&#x27;adam&#x27;, random_state=42, weight_regularizer=0.01)</pre><b>In a Jupyter environment, please rerun this cell to show the HTML representation or trust the notebook. <br />On GitHub, the HTML representation is unable to render, please try loading this page with nbviewer.org.</b></div><div class=\"sk-container\" hidden><div class=\"sk-item\"><div class=\"sk-estimator sk-toggleable\"><input class=\"sk-toggleable__control sk-hidden--visually\" id=\"sk-estimator-id-4\" type=\"checkbox\" checked><label for=\"sk-estimator-id-4\" class=\"sk-toggleable__label sk-toggleable__label-arrow\">LearningShapelets</label><div class=\"sk-toggleable__content\"><pre>LearningShapelets(max_iter=2000, n_shapelets_per_size={5: 5, 10: 5, 20: 5},\n",
       "                  optimizer=&#x27;adam&#x27;, random_state=42, weight_regularizer=0.01)</pre></div></div></div></div></div>"
      ],
      "text/plain": [
       "LearningShapelets(max_iter=2000, n_shapelets_per_size={5: 5, 10: 5, 20: 5},\n",
       "                  optimizer='adam', random_state=42, weight_regularizer=0.01)"
      ]
     },
     "execution_count": 40,
     "metadata": {},
     "output_type": "execute_result"
    }
   ],
   "source": [
    "%%time\n",
    "model.fit(ts_train, y_train)"
   ]
  },
  {
   "cell_type": "code",
   "execution_count": 41,
   "id": "51706baa",
   "metadata": {
    "execution": {
     "iopub.execute_input": "2023-03-20T11:28:09.466565Z",
     "iopub.status.busy": "2023-03-20T11:28:09.465656Z",
     "iopub.status.idle": "2023-03-20T11:28:09.499212Z",
     "shell.execute_reply": "2023-03-20T11:28:09.498059Z"
    },
    "papermill": {
     "duration": 0.060478,
     "end_time": "2023-03-20T11:28:09.501139",
     "exception": false,
     "start_time": "2023-03-20T11:28:09.440661",
     "status": "completed"
    },
    "tags": []
   },
   "outputs": [],
   "source": [
    "model.to_pickle(f'{data_path}/shapelets.pkl')"
   ]
  },
  {
   "cell_type": "markdown",
   "id": "309f70dc",
   "metadata": {
    "papermill": {
     "duration": 0.013355,
     "end_time": "2023-03-20T11:28:09.530030",
     "exception": false,
     "start_time": "2023-03-20T11:28:09.516675",
     "status": "completed"
    },
    "tags": []
   },
   "source": [
    "#### Shapelet-Based Classification"
   ]
  },
  {
   "cell_type": "code",
   "execution_count": 42,
   "id": "60125dff",
   "metadata": {
    "execution": {
     "iopub.execute_input": "2023-03-20T11:28:09.558826Z",
     "iopub.status.busy": "2023-03-20T11:28:09.558027Z",
     "iopub.status.idle": "2023-03-20T11:28:09.563110Z",
     "shell.execute_reply": "2023-03-20T11:28:09.562045Z"
    },
    "papermill": {
     "duration": 0.021068,
     "end_time": "2023-03-20T11:28:09.564733",
     "exception": false,
     "start_time": "2023-03-20T11:28:09.543665",
     "status": "completed"
    },
    "tags": []
   },
   "outputs": [],
   "source": [
    "metrics_data['Shapelets'] = {}"
   ]
  },
  {
   "cell_type": "code",
   "execution_count": 43,
   "id": "efb8984d",
   "metadata": {
    "execution": {
     "iopub.execute_input": "2023-03-20T11:28:09.593110Z",
     "iopub.status.busy": "2023-03-20T11:28:09.592273Z",
     "iopub.status.idle": "2023-03-20T11:28:10.069480Z",
     "shell.execute_reply": "2023-03-20T11:28:10.068519Z"
    },
    "papermill": {
     "duration": 0.495299,
     "end_time": "2023-03-20T11:28:10.072902",
     "exception": false,
     "start_time": "2023-03-20T11:28:09.577603",
     "status": "completed"
    },
    "tags": []
   },
   "outputs": [],
   "source": [
    "X_train = model.transform(ts_train)\n",
    "X_test = model.transform(ts_test)"
   ]
  },
  {
   "cell_type": "code",
   "execution_count": 44,
   "id": "2e6c0f22",
   "metadata": {
    "execution": {
     "iopub.execute_input": "2023-03-20T11:28:10.107053Z",
     "iopub.status.busy": "2023-03-20T11:28:10.106057Z",
     "iopub.status.idle": "2023-03-20T11:28:10.133776Z",
     "shell.execute_reply": "2023-03-20T11:28:10.132622Z"
    },
    "papermill": {
     "duration": 0.048279,
     "end_time": "2023-03-20T11:28:10.137239",
     "exception": false,
     "start_time": "2023-03-20T11:28:10.088960",
     "status": "completed"
    },
    "tags": []
   },
   "outputs": [
    {
     "data": {
      "text/html": [
       "<div>\n",
       "<style scoped>\n",
       "    .dataframe tbody tr th:only-of-type {\n",
       "        vertical-align: middle;\n",
       "    }\n",
       "\n",
       "    .dataframe tbody tr th {\n",
       "        vertical-align: top;\n",
       "    }\n",
       "\n",
       "    .dataframe thead th {\n",
       "        text-align: right;\n",
       "    }\n",
       "</style>\n",
       "<table border=\"1\" class=\"dataframe\">\n",
       "  <thead>\n",
       "    <tr style=\"text-align: right;\">\n",
       "      <th></th>\n",
       "      <th>0</th>\n",
       "      <th>1</th>\n",
       "      <th>2</th>\n",
       "      <th>3</th>\n",
       "      <th>4</th>\n",
       "      <th>5</th>\n",
       "      <th>6</th>\n",
       "      <th>7</th>\n",
       "      <th>8</th>\n",
       "      <th>9</th>\n",
       "      <th>10</th>\n",
       "      <th>11</th>\n",
       "      <th>12</th>\n",
       "      <th>13</th>\n",
       "      <th>14</th>\n",
       "    </tr>\n",
       "  </thead>\n",
       "  <tbody>\n",
       "    <tr>\n",
       "      <th>0</th>\n",
       "      <td>3.931186</td>\n",
       "      <td>2.299293</td>\n",
       "      <td>1.578777</td>\n",
       "      <td>0.385674</td>\n",
       "      <td>49.149914</td>\n",
       "      <td>1.617841</td>\n",
       "      <td>2.018322</td>\n",
       "      <td>0.637813</td>\n",
       "      <td>1.880349</td>\n",
       "      <td>5.234818</td>\n",
       "      <td>0.281143</td>\n",
       "      <td>1.620502</td>\n",
       "      <td>1.235982</td>\n",
       "      <td>527.493591</td>\n",
       "      <td>92.010300</td>\n",
       "    </tr>\n",
       "    <tr>\n",
       "      <th>1</th>\n",
       "      <td>1.526415</td>\n",
       "      <td>1.652901</td>\n",
       "      <td>0.227667</td>\n",
       "      <td>0.226946</td>\n",
       "      <td>66.305885</td>\n",
       "      <td>2.044543</td>\n",
       "      <td>2.567139</td>\n",
       "      <td>0.974301</td>\n",
       "      <td>0.191762</td>\n",
       "      <td>4.871377</td>\n",
       "      <td>0.981741</td>\n",
       "      <td>0.182749</td>\n",
       "      <td>3.282977</td>\n",
       "      <td>580.847961</td>\n",
       "      <td>92.510391</td>\n",
       "    </tr>\n",
       "    <tr>\n",
       "      <th>2</th>\n",
       "      <td>10.363986</td>\n",
       "      <td>11.102013</td>\n",
       "      <td>0.200487</td>\n",
       "      <td>2.242444</td>\n",
       "      <td>126.661331</td>\n",
       "      <td>5.414760</td>\n",
       "      <td>3.819590</td>\n",
       "      <td>2.738988</td>\n",
       "      <td>0.557117</td>\n",
       "      <td>17.403883</td>\n",
       "      <td>4.248449</td>\n",
       "      <td>1.099870</td>\n",
       "      <td>8.025380</td>\n",
       "      <td>639.751953</td>\n",
       "      <td>133.838684</td>\n",
       "    </tr>\n",
       "    <tr>\n",
       "      <th>3</th>\n",
       "      <td>3.623340</td>\n",
       "      <td>2.215335</td>\n",
       "      <td>0.349971</td>\n",
       "      <td>0.146693</td>\n",
       "      <td>85.133507</td>\n",
       "      <td>1.589992</td>\n",
       "      <td>2.106172</td>\n",
       "      <td>0.394267</td>\n",
       "      <td>0.958328</td>\n",
       "      <td>6.417423</td>\n",
       "      <td>0.746796</td>\n",
       "      <td>0.364622</td>\n",
       "      <td>2.838776</td>\n",
       "      <td>589.811646</td>\n",
       "      <td>101.714867</td>\n",
       "    </tr>\n",
       "    <tr>\n",
       "      <th>4</th>\n",
       "      <td>2.963896</td>\n",
       "      <td>5.221033</td>\n",
       "      <td>1.312407</td>\n",
       "      <td>0.212790</td>\n",
       "      <td>89.606079</td>\n",
       "      <td>1.420070</td>\n",
       "      <td>1.464688</td>\n",
       "      <td>0.597676</td>\n",
       "      <td>0.787746</td>\n",
       "      <td>9.759630</td>\n",
       "      <td>0.911485</td>\n",
       "      <td>0.271432</td>\n",
       "      <td>3.162574</td>\n",
       "      <td>593.535522</td>\n",
       "      <td>106.917984</td>\n",
       "    </tr>\n",
       "    <tr>\n",
       "      <th>...</th>\n",
       "      <td>...</td>\n",
       "      <td>...</td>\n",
       "      <td>...</td>\n",
       "      <td>...</td>\n",
       "      <td>...</td>\n",
       "      <td>...</td>\n",
       "      <td>...</td>\n",
       "      <td>...</td>\n",
       "      <td>...</td>\n",
       "      <td>...</td>\n",
       "      <td>...</td>\n",
       "      <td>...</td>\n",
       "      <td>...</td>\n",
       "      <td>...</td>\n",
       "      <td>...</td>\n",
       "    </tr>\n",
       "    <tr>\n",
       "      <th>350</th>\n",
       "      <td>2.946079</td>\n",
       "      <td>0.759309</td>\n",
       "      <td>1.227023</td>\n",
       "      <td>0.181729</td>\n",
       "      <td>69.318138</td>\n",
       "      <td>1.359653</td>\n",
       "      <td>1.717600</td>\n",
       "      <td>0.823353</td>\n",
       "      <td>2.021212</td>\n",
       "      <td>4.029926</td>\n",
       "      <td>0.284371</td>\n",
       "      <td>1.121864</td>\n",
       "      <td>1.377848</td>\n",
       "      <td>562.178040</td>\n",
       "      <td>89.242790</td>\n",
       "    </tr>\n",
       "    <tr>\n",
       "      <th>351</th>\n",
       "      <td>1.186996</td>\n",
       "      <td>1.103878</td>\n",
       "      <td>0.689351</td>\n",
       "      <td>0.435966</td>\n",
       "      <td>59.592751</td>\n",
       "      <td>1.612807</td>\n",
       "      <td>0.621559</td>\n",
       "      <td>0.661335</td>\n",
       "      <td>1.864954</td>\n",
       "      <td>4.276906</td>\n",
       "      <td>0.291972</td>\n",
       "      <td>1.446269</td>\n",
       "      <td>1.183124</td>\n",
       "      <td>543.776978</td>\n",
       "      <td>76.240929</td>\n",
       "    </tr>\n",
       "    <tr>\n",
       "      <th>352</th>\n",
       "      <td>1.148460</td>\n",
       "      <td>0.824583</td>\n",
       "      <td>4.893332</td>\n",
       "      <td>1.146886</td>\n",
       "      <td>56.282642</td>\n",
       "      <td>1.829918</td>\n",
       "      <td>2.041164</td>\n",
       "      <td>2.793714</td>\n",
       "      <td>4.170295</td>\n",
       "      <td>2.434669</td>\n",
       "      <td>0.705378</td>\n",
       "      <td>3.594074</td>\n",
       "      <td>0.854654</td>\n",
       "      <td>545.950256</td>\n",
       "      <td>76.274193</td>\n",
       "    </tr>\n",
       "    <tr>\n",
       "      <th>353</th>\n",
       "      <td>5.286504</td>\n",
       "      <td>5.067500</td>\n",
       "      <td>0.766376</td>\n",
       "      <td>0.289209</td>\n",
       "      <td>101.173904</td>\n",
       "      <td>2.548365</td>\n",
       "      <td>2.163638</td>\n",
       "      <td>0.794914</td>\n",
       "      <td>0.494564</td>\n",
       "      <td>10.533422</td>\n",
       "      <td>1.196668</td>\n",
       "      <td>0.162095</td>\n",
       "      <td>3.680867</td>\n",
       "      <td>606.690491</td>\n",
       "      <td>110.546181</td>\n",
       "    </tr>\n",
       "    <tr>\n",
       "      <th>354</th>\n",
       "      <td>6.028141</td>\n",
       "      <td>4.687924</td>\n",
       "      <td>0.351875</td>\n",
       "      <td>0.601196</td>\n",
       "      <td>101.925110</td>\n",
       "      <td>2.317235</td>\n",
       "      <td>2.133711</td>\n",
       "      <td>0.984065</td>\n",
       "      <td>0.365616</td>\n",
       "      <td>10.009812</td>\n",
       "      <td>1.746978</td>\n",
       "      <td>0.155549</td>\n",
       "      <td>4.535340</td>\n",
       "      <td>611.039795</td>\n",
       "      <td>111.991020</td>\n",
       "    </tr>\n",
       "  </tbody>\n",
       "</table>\n",
       "<p>355 rows × 15 columns</p>\n",
       "</div>"
      ],
      "text/plain": [
       "            0          1         2         3           4         5         6   \\\n",
       "0     3.931186   2.299293  1.578777  0.385674   49.149914  1.617841  2.018322   \n",
       "1     1.526415   1.652901  0.227667  0.226946   66.305885  2.044543  2.567139   \n",
       "2    10.363986  11.102013  0.200487  2.242444  126.661331  5.414760  3.819590   \n",
       "3     3.623340   2.215335  0.349971  0.146693   85.133507  1.589992  2.106172   \n",
       "4     2.963896   5.221033  1.312407  0.212790   89.606079  1.420070  1.464688   \n",
       "..         ...        ...       ...       ...         ...       ...       ...   \n",
       "350   2.946079   0.759309  1.227023  0.181729   69.318138  1.359653  1.717600   \n",
       "351   1.186996   1.103878  0.689351  0.435966   59.592751  1.612807  0.621559   \n",
       "352   1.148460   0.824583  4.893332  1.146886   56.282642  1.829918  2.041164   \n",
       "353   5.286504   5.067500  0.766376  0.289209  101.173904  2.548365  2.163638   \n",
       "354   6.028141   4.687924  0.351875  0.601196  101.925110  2.317235  2.133711   \n",
       "\n",
       "           7         8          9         10        11        12          13  \\\n",
       "0    0.637813  1.880349   5.234818  0.281143  1.620502  1.235982  527.493591   \n",
       "1    0.974301  0.191762   4.871377  0.981741  0.182749  3.282977  580.847961   \n",
       "2    2.738988  0.557117  17.403883  4.248449  1.099870  8.025380  639.751953   \n",
       "3    0.394267  0.958328   6.417423  0.746796  0.364622  2.838776  589.811646   \n",
       "4    0.597676  0.787746   9.759630  0.911485  0.271432  3.162574  593.535522   \n",
       "..        ...       ...        ...       ...       ...       ...         ...   \n",
       "350  0.823353  2.021212   4.029926  0.284371  1.121864  1.377848  562.178040   \n",
       "351  0.661335  1.864954   4.276906  0.291972  1.446269  1.183124  543.776978   \n",
       "352  2.793714  4.170295   2.434669  0.705378  3.594074  0.854654  545.950256   \n",
       "353  0.794914  0.494564  10.533422  1.196668  0.162095  3.680867  606.690491   \n",
       "354  0.984065  0.365616  10.009812  1.746978  0.155549  4.535340  611.039795   \n",
       "\n",
       "             14  \n",
       "0     92.010300  \n",
       "1     92.510391  \n",
       "2    133.838684  \n",
       "3    101.714867  \n",
       "4    106.917984  \n",
       "..          ...  \n",
       "350   89.242790  \n",
       "351   76.240929  \n",
       "352   76.274193  \n",
       "353  110.546181  \n",
       "354  111.991020  \n",
       "\n",
       "[355 rows x 15 columns]"
      ]
     },
     "execution_count": 44,
     "metadata": {},
     "output_type": "execute_result"
    }
   ],
   "source": [
    "pd.DataFrame(X_test)"
   ]
  },
  {
   "cell_type": "markdown",
   "id": "5fa024f7",
   "metadata": {
    "execution": {
     "iopub.execute_input": "2023-02-07T23:47:19.876941Z",
     "iopub.status.busy": "2023-02-07T23:47:19.876424Z",
     "iopub.status.idle": "2023-02-07T23:47:20.399488Z",
     "shell.execute_reply": "2023-02-07T23:47:20.398142Z"
    },
    "papermill": {
     "duration": 0.017904,
     "end_time": "2023-03-20T11:28:10.203299",
     "exception": false,
     "start_time": "2023-03-20T11:28:10.185395",
     "status": "completed"
    },
    "tags": []
   },
   "source": [
    "**Decision Tree**"
   ]
  },
  {
   "cell_type": "code",
   "execution_count": 45,
   "id": "4f5400c9",
   "metadata": {
    "execution": {
     "iopub.execute_input": "2023-03-20T11:28:10.235761Z",
     "iopub.status.busy": "2023-03-20T11:28:10.234999Z",
     "iopub.status.idle": "2023-03-20T11:28:10.287410Z",
     "shell.execute_reply": "2023-03-20T11:28:10.286604Z"
    },
    "papermill": {
     "duration": 0.070118,
     "end_time": "2023-03-20T11:28:10.289669",
     "exception": false,
     "start_time": "2023-03-20T11:28:10.219551",
     "status": "completed"
    },
    "tags": []
   },
   "outputs": [
    {
     "data": {
      "text/html": [
       "<style>#sk-container-id-5 {color: black;background-color: white;}#sk-container-id-5 pre{padding: 0;}#sk-container-id-5 div.sk-toggleable {background-color: white;}#sk-container-id-5 label.sk-toggleable__label {cursor: pointer;display: block;width: 100%;margin-bottom: 0;padding: 0.3em;box-sizing: border-box;text-align: center;}#sk-container-id-5 label.sk-toggleable__label-arrow:before {content: \"▸\";float: left;margin-right: 0.25em;color: #696969;}#sk-container-id-5 label.sk-toggleable__label-arrow:hover:before {color: black;}#sk-container-id-5 div.sk-estimator:hover label.sk-toggleable__label-arrow:before {color: black;}#sk-container-id-5 div.sk-toggleable__content {max-height: 0;max-width: 0;overflow: hidden;text-align: left;background-color: #f0f8ff;}#sk-container-id-5 div.sk-toggleable__content pre {margin: 0.2em;color: black;border-radius: 0.25em;background-color: #f0f8ff;}#sk-container-id-5 input.sk-toggleable__control:checked~div.sk-toggleable__content {max-height: 200px;max-width: 100%;overflow: auto;}#sk-container-id-5 input.sk-toggleable__control:checked~label.sk-toggleable__label-arrow:before {content: \"▾\";}#sk-container-id-5 div.sk-estimator input.sk-toggleable__control:checked~label.sk-toggleable__label {background-color: #d4ebff;}#sk-container-id-5 div.sk-label input.sk-toggleable__control:checked~label.sk-toggleable__label {background-color: #d4ebff;}#sk-container-id-5 input.sk-hidden--visually {border: 0;clip: rect(1px 1px 1px 1px);clip: rect(1px, 1px, 1px, 1px);height: 1px;margin: -1px;overflow: hidden;padding: 0;position: absolute;width: 1px;}#sk-container-id-5 div.sk-estimator {font-family: monospace;background-color: #f0f8ff;border: 1px dotted black;border-radius: 0.25em;box-sizing: border-box;margin-bottom: 0.5em;}#sk-container-id-5 div.sk-estimator:hover {background-color: #d4ebff;}#sk-container-id-5 div.sk-parallel-item::after {content: \"\";width: 100%;border-bottom: 1px solid gray;flex-grow: 1;}#sk-container-id-5 div.sk-label:hover label.sk-toggleable__label {background-color: #d4ebff;}#sk-container-id-5 div.sk-serial::before {content: \"\";position: absolute;border-left: 1px solid gray;box-sizing: border-box;top: 0;bottom: 0;left: 50%;z-index: 0;}#sk-container-id-5 div.sk-serial {display: flex;flex-direction: column;align-items: center;background-color: white;padding-right: 0.2em;padding-left: 0.2em;position: relative;}#sk-container-id-5 div.sk-item {position: relative;z-index: 1;}#sk-container-id-5 div.sk-parallel {display: flex;align-items: stretch;justify-content: center;background-color: white;position: relative;}#sk-container-id-5 div.sk-item::before, #sk-container-id-5 div.sk-parallel-item::before {content: \"\";position: absolute;border-left: 1px solid gray;box-sizing: border-box;top: 0;bottom: 0;left: 50%;z-index: -1;}#sk-container-id-5 div.sk-parallel-item {display: flex;flex-direction: column;z-index: 1;position: relative;background-color: white;}#sk-container-id-5 div.sk-parallel-item:first-child::after {align-self: flex-end;width: 50%;}#sk-container-id-5 div.sk-parallel-item:last-child::after {align-self: flex-start;width: 50%;}#sk-container-id-5 div.sk-parallel-item:only-child::after {width: 0;}#sk-container-id-5 div.sk-dashed-wrapped {border: 1px dashed gray;margin: 0 0.4em 0.5em 0.4em;box-sizing: border-box;padding-bottom: 0.4em;background-color: white;}#sk-container-id-5 div.sk-label label {font-family: monospace;font-weight: bold;display: inline-block;line-height: 1.2em;}#sk-container-id-5 div.sk-label-container {text-align: center;}#sk-container-id-5 div.sk-container {/* jupyter's `normalize.less` sets `[hidden] { display: none; }` but bootstrap.min.css set `[hidden] { display: none !important; }` so we also need the `!important` here to be able to override the default hidden behavior on the sphinx rendered scikit-learn.org. See: https://github.com/scikit-learn/scikit-learn/issues/21755 */display: inline-block !important;position: relative;}#sk-container-id-5 div.sk-text-repr-fallback {display: none;}</style><div id=\"sk-container-id-5\" class=\"sk-top-container\"><div class=\"sk-text-repr-fallback\"><pre>DecisionTreeClassifier(random_state=42)</pre><b>In a Jupyter environment, please rerun this cell to show the HTML representation or trust the notebook. <br />On GitHub, the HTML representation is unable to render, please try loading this page with nbviewer.org.</b></div><div class=\"sk-container\" hidden><div class=\"sk-item\"><div class=\"sk-estimator sk-toggleable\"><input class=\"sk-toggleable__control sk-hidden--visually\" id=\"sk-estimator-id-5\" type=\"checkbox\" checked><label for=\"sk-estimator-id-5\" class=\"sk-toggleable__label sk-toggleable__label-arrow\">DecisionTreeClassifier</label><div class=\"sk-toggleable__content\"><pre>DecisionTreeClassifier(random_state=42)</pre></div></div></div></div></div>"
      ],
      "text/plain": [
       "DecisionTreeClassifier(random_state=42)"
      ]
     },
     "execution_count": 45,
     "metadata": {},
     "output_type": "execute_result"
    }
   ],
   "source": [
    "clf = DecisionTreeClassifier(random_state=42)\n",
    "clf.fit(X_train, y_train)"
   ]
  },
  {
   "cell_type": "code",
   "execution_count": 46,
   "id": "3b56d190",
   "metadata": {
    "execution": {
     "iopub.execute_input": "2023-03-20T11:28:10.324129Z",
     "iopub.status.busy": "2023-03-20T11:28:10.323726Z",
     "iopub.status.idle": "2023-03-20T11:28:10.343192Z",
     "shell.execute_reply": "2023-03-20T11:28:10.341850Z"
    },
    "papermill": {
     "duration": 0.038003,
     "end_time": "2023-03-20T11:28:10.345248",
     "exception": false,
     "start_time": "2023-03-20T11:28:10.307245",
     "status": "completed"
    },
    "tags": []
   },
   "outputs": [
    {
     "name": "stdout",
     "output_type": "stream",
     "text": [
      "              precision    recall  f1-score   support\n",
      "\n",
      "        comp       0.15      0.19      0.17        47\n",
      "        misc       0.56      0.62      0.59         8\n",
      "         rec       0.27      0.24      0.26        49\n",
      "    religion       0.29      0.28      0.29        88\n",
      "         sci       0.24      0.25      0.25        68\n",
      "        talk       0.31      0.28      0.30        95\n",
      "\n",
      "    accuracy                           0.27       355\n",
      "   macro avg       0.30      0.31      0.31       355\n",
      "weighted avg       0.27      0.27      0.27       355\n",
      "\n"
     ]
    }
   ],
   "source": [
    "y_pred = clf.predict(X_test)\n",
    "print(classification_report(y_test, y_pred))"
   ]
  },
  {
   "cell_type": "code",
   "execution_count": 47,
   "id": "42bc91ff",
   "metadata": {
    "execution": {
     "iopub.execute_input": "2023-03-20T11:28:10.376304Z",
     "iopub.status.busy": "2023-03-20T11:28:10.375818Z",
     "iopub.status.idle": "2023-03-20T11:28:10.382362Z",
     "shell.execute_reply": "2023-03-20T11:28:10.381268Z"
    },
    "papermill": {
     "duration": 0.023041,
     "end_time": "2023-03-20T11:28:10.384088",
     "exception": false,
     "start_time": "2023-03-20T11:28:10.361047",
     "status": "completed"
    },
    "tags": []
   },
   "outputs": [],
   "source": [
    "pickle.dump(clf, open(f'{data_path}/decision_tree.pkl', 'wb'))"
   ]
  },
  {
   "cell_type": "code",
   "execution_count": 48,
   "id": "ea9be210",
   "metadata": {
    "execution": {
     "iopub.execute_input": "2023-03-20T11:28:10.415724Z",
     "iopub.status.busy": "2023-03-20T11:28:10.414673Z",
     "iopub.status.idle": "2023-03-20T11:28:10.446962Z",
     "shell.execute_reply": "2023-03-20T11:28:10.445650Z"
    },
    "papermill": {
     "duration": 0.051003,
     "end_time": "2023-03-20T11:28:10.449691",
     "exception": false,
     "start_time": "2023-03-20T11:28:10.398688",
     "status": "completed"
    },
    "tags": []
   },
   "outputs": [],
   "source": [
    "acc = accuracy_score(y_test, y_pred)\n",
    "pre = precision_score(y_test, y_pred, average=avg_par)\n",
    "rec = recall_score(y_test, y_pred, average=avg_par)\n",
    "f1 = f1_score(y_test, y_pred, average=avg_par)\n",
    "\n",
    "metrics_data['Shapelets']['DecisionTree'] = {'Accuracy': acc, 'Precision': pre, 'Recall': rec, 'F1': f1}"
   ]
  },
  {
   "cell_type": "markdown",
   "id": "3ca3443b",
   "metadata": {
    "papermill": {
     "duration": 0.016381,
     "end_time": "2023-03-20T11:28:10.483507",
     "exception": false,
     "start_time": "2023-03-20T11:28:10.467126",
     "status": "completed"
    },
    "tags": []
   },
   "source": [
    "**Random Forest**"
   ]
  },
  {
   "cell_type": "code",
   "execution_count": 49,
   "id": "37795e21",
   "metadata": {
    "execution": {
     "iopub.execute_input": "2023-03-20T11:28:10.513990Z",
     "iopub.status.busy": "2023-03-20T11:28:10.513469Z",
     "iopub.status.idle": "2023-03-20T11:28:11.018651Z",
     "shell.execute_reply": "2023-03-20T11:28:11.017976Z"
    },
    "papermill": {
     "duration": 0.524145,
     "end_time": "2023-03-20T11:28:11.021856",
     "exception": false,
     "start_time": "2023-03-20T11:28:10.497711",
     "status": "completed"
    },
    "tags": []
   },
   "outputs": [
    {
     "data": {
      "text/html": [
       "<style>#sk-container-id-6 {color: black;background-color: white;}#sk-container-id-6 pre{padding: 0;}#sk-container-id-6 div.sk-toggleable {background-color: white;}#sk-container-id-6 label.sk-toggleable__label {cursor: pointer;display: block;width: 100%;margin-bottom: 0;padding: 0.3em;box-sizing: border-box;text-align: center;}#sk-container-id-6 label.sk-toggleable__label-arrow:before {content: \"▸\";float: left;margin-right: 0.25em;color: #696969;}#sk-container-id-6 label.sk-toggleable__label-arrow:hover:before {color: black;}#sk-container-id-6 div.sk-estimator:hover label.sk-toggleable__label-arrow:before {color: black;}#sk-container-id-6 div.sk-toggleable__content {max-height: 0;max-width: 0;overflow: hidden;text-align: left;background-color: #f0f8ff;}#sk-container-id-6 div.sk-toggleable__content pre {margin: 0.2em;color: black;border-radius: 0.25em;background-color: #f0f8ff;}#sk-container-id-6 input.sk-toggleable__control:checked~div.sk-toggleable__content {max-height: 200px;max-width: 100%;overflow: auto;}#sk-container-id-6 input.sk-toggleable__control:checked~label.sk-toggleable__label-arrow:before {content: \"▾\";}#sk-container-id-6 div.sk-estimator input.sk-toggleable__control:checked~label.sk-toggleable__label {background-color: #d4ebff;}#sk-container-id-6 div.sk-label input.sk-toggleable__control:checked~label.sk-toggleable__label {background-color: #d4ebff;}#sk-container-id-6 input.sk-hidden--visually {border: 0;clip: rect(1px 1px 1px 1px);clip: rect(1px, 1px, 1px, 1px);height: 1px;margin: -1px;overflow: hidden;padding: 0;position: absolute;width: 1px;}#sk-container-id-6 div.sk-estimator {font-family: monospace;background-color: #f0f8ff;border: 1px dotted black;border-radius: 0.25em;box-sizing: border-box;margin-bottom: 0.5em;}#sk-container-id-6 div.sk-estimator:hover {background-color: #d4ebff;}#sk-container-id-6 div.sk-parallel-item::after {content: \"\";width: 100%;border-bottom: 1px solid gray;flex-grow: 1;}#sk-container-id-6 div.sk-label:hover label.sk-toggleable__label {background-color: #d4ebff;}#sk-container-id-6 div.sk-serial::before {content: \"\";position: absolute;border-left: 1px solid gray;box-sizing: border-box;top: 0;bottom: 0;left: 50%;z-index: 0;}#sk-container-id-6 div.sk-serial {display: flex;flex-direction: column;align-items: center;background-color: white;padding-right: 0.2em;padding-left: 0.2em;position: relative;}#sk-container-id-6 div.sk-item {position: relative;z-index: 1;}#sk-container-id-6 div.sk-parallel {display: flex;align-items: stretch;justify-content: center;background-color: white;position: relative;}#sk-container-id-6 div.sk-item::before, #sk-container-id-6 div.sk-parallel-item::before {content: \"\";position: absolute;border-left: 1px solid gray;box-sizing: border-box;top: 0;bottom: 0;left: 50%;z-index: -1;}#sk-container-id-6 div.sk-parallel-item {display: flex;flex-direction: column;z-index: 1;position: relative;background-color: white;}#sk-container-id-6 div.sk-parallel-item:first-child::after {align-self: flex-end;width: 50%;}#sk-container-id-6 div.sk-parallel-item:last-child::after {align-self: flex-start;width: 50%;}#sk-container-id-6 div.sk-parallel-item:only-child::after {width: 0;}#sk-container-id-6 div.sk-dashed-wrapped {border: 1px dashed gray;margin: 0 0.4em 0.5em 0.4em;box-sizing: border-box;padding-bottom: 0.4em;background-color: white;}#sk-container-id-6 div.sk-label label {font-family: monospace;font-weight: bold;display: inline-block;line-height: 1.2em;}#sk-container-id-6 div.sk-label-container {text-align: center;}#sk-container-id-6 div.sk-container {/* jupyter's `normalize.less` sets `[hidden] { display: none; }` but bootstrap.min.css set `[hidden] { display: none !important; }` so we also need the `!important` here to be able to override the default hidden behavior on the sphinx rendered scikit-learn.org. See: https://github.com/scikit-learn/scikit-learn/issues/21755 */display: inline-block !important;position: relative;}#sk-container-id-6 div.sk-text-repr-fallback {display: none;}</style><div id=\"sk-container-id-6\" class=\"sk-top-container\"><div class=\"sk-text-repr-fallback\"><pre>RandomForestClassifier(random_state=42)</pre><b>In a Jupyter environment, please rerun this cell to show the HTML representation or trust the notebook. <br />On GitHub, the HTML representation is unable to render, please try loading this page with nbviewer.org.</b></div><div class=\"sk-container\" hidden><div class=\"sk-item\"><div class=\"sk-estimator sk-toggleable\"><input class=\"sk-toggleable__control sk-hidden--visually\" id=\"sk-estimator-id-6\" type=\"checkbox\" checked><label for=\"sk-estimator-id-6\" class=\"sk-toggleable__label sk-toggleable__label-arrow\">RandomForestClassifier</label><div class=\"sk-toggleable__content\"><pre>RandomForestClassifier(random_state=42)</pre></div></div></div></div></div>"
      ],
      "text/plain": [
       "RandomForestClassifier(random_state=42)"
      ]
     },
     "execution_count": 49,
     "metadata": {},
     "output_type": "execute_result"
    }
   ],
   "source": [
    "clf = RandomForestClassifier(random_state=42)\n",
    "clf.fit(X_train, y_train)"
   ]
  },
  {
   "cell_type": "code",
   "execution_count": 50,
   "id": "581ab90a",
   "metadata": {
    "execution": {
     "iopub.execute_input": "2023-03-20T11:28:11.101165Z",
     "iopub.status.busy": "2023-03-20T11:28:11.100859Z",
     "iopub.status.idle": "2023-03-20T11:28:11.133081Z",
     "shell.execute_reply": "2023-03-20T11:28:11.132092Z"
    },
    "papermill": {
     "duration": 0.074286,
     "end_time": "2023-03-20T11:28:11.135163",
     "exception": false,
     "start_time": "2023-03-20T11:28:11.060877",
     "status": "completed"
    },
    "tags": []
   },
   "outputs": [
    {
     "name": "stdout",
     "output_type": "stream",
     "text": [
      "              precision    recall  f1-score   support\n",
      "\n",
      "        comp       0.50      0.21      0.30        47\n",
      "        misc       0.50      0.12      0.20         8\n",
      "         rec       0.26      0.18      0.22        49\n",
      "    religion       0.31      0.45      0.37        88\n",
      "         sci       0.30      0.19      0.23        68\n",
      "        talk       0.31      0.42      0.36        95\n",
      "\n",
      "    accuracy                           0.32       355\n",
      "   macro avg       0.37      0.26      0.28       355\n",
      "weighted avg       0.33      0.32      0.31       355\n",
      "\n"
     ]
    }
   ],
   "source": [
    "y_pred = clf.predict(X_test)\n",
    "print(classification_report(y_test, y_pred))"
   ]
  },
  {
   "cell_type": "code",
   "execution_count": 51,
   "id": "faf1d7f4",
   "metadata": {
    "execution": {
     "iopub.execute_input": "2023-03-20T11:28:11.164234Z",
     "iopub.status.busy": "2023-03-20T11:28:11.163948Z",
     "iopub.status.idle": "2023-03-20T11:28:11.177772Z",
     "shell.execute_reply": "2023-03-20T11:28:11.176918Z"
    },
    "papermill": {
     "duration": 0.030743,
     "end_time": "2023-03-20T11:28:11.179520",
     "exception": false,
     "start_time": "2023-03-20T11:28:11.148777",
     "status": "completed"
    },
    "tags": []
   },
   "outputs": [],
   "source": [
    "acc = accuracy_score(y_test, y_pred)\n",
    "pre = precision_score(y_test, y_pred, average=avg_par)\n",
    "rec = recall_score(y_test, y_pred, average=avg_par)\n",
    "f1 = f1_score(y_test, y_pred, average=avg_par)\n",
    "\n",
    "metrics_data['Shapelets']['RandomForest'] = {'Accuracy': acc, 'Precision': pre, 'Recall': rec, 'F1': f1}"
   ]
  },
  {
   "cell_type": "markdown",
   "id": "61fceefb",
   "metadata": {
    "papermill": {
     "duration": 0.016363,
     "end_time": "2023-03-20T11:28:11.211587",
     "exception": false,
     "start_time": "2023-03-20T11:28:11.195224",
     "status": "completed"
    },
    "tags": []
   },
   "source": [
    "**LightGBM**"
   ]
  },
  {
   "cell_type": "code",
   "execution_count": 52,
   "id": "194189da",
   "metadata": {
    "execution": {
     "iopub.execute_input": "2023-03-20T11:28:11.243216Z",
     "iopub.status.busy": "2023-03-20T11:28:11.242655Z",
     "iopub.status.idle": "2023-03-20T11:28:11.990445Z",
     "shell.execute_reply": "2023-03-20T11:28:11.989659Z"
    },
    "papermill": {
     "duration": 0.764769,
     "end_time": "2023-03-20T11:28:11.992337",
     "exception": false,
     "start_time": "2023-03-20T11:28:11.227568",
     "status": "completed"
    },
    "tags": []
   },
   "outputs": [
    {
     "data": {
      "text/html": [
       "<style>#sk-container-id-7 {color: black;background-color: white;}#sk-container-id-7 pre{padding: 0;}#sk-container-id-7 div.sk-toggleable {background-color: white;}#sk-container-id-7 label.sk-toggleable__label {cursor: pointer;display: block;width: 100%;margin-bottom: 0;padding: 0.3em;box-sizing: border-box;text-align: center;}#sk-container-id-7 label.sk-toggleable__label-arrow:before {content: \"▸\";float: left;margin-right: 0.25em;color: #696969;}#sk-container-id-7 label.sk-toggleable__label-arrow:hover:before {color: black;}#sk-container-id-7 div.sk-estimator:hover label.sk-toggleable__label-arrow:before {color: black;}#sk-container-id-7 div.sk-toggleable__content {max-height: 0;max-width: 0;overflow: hidden;text-align: left;background-color: #f0f8ff;}#sk-container-id-7 div.sk-toggleable__content pre {margin: 0.2em;color: black;border-radius: 0.25em;background-color: #f0f8ff;}#sk-container-id-7 input.sk-toggleable__control:checked~div.sk-toggleable__content {max-height: 200px;max-width: 100%;overflow: auto;}#sk-container-id-7 input.sk-toggleable__control:checked~label.sk-toggleable__label-arrow:before {content: \"▾\";}#sk-container-id-7 div.sk-estimator input.sk-toggleable__control:checked~label.sk-toggleable__label {background-color: #d4ebff;}#sk-container-id-7 div.sk-label input.sk-toggleable__control:checked~label.sk-toggleable__label {background-color: #d4ebff;}#sk-container-id-7 input.sk-hidden--visually {border: 0;clip: rect(1px 1px 1px 1px);clip: rect(1px, 1px, 1px, 1px);height: 1px;margin: -1px;overflow: hidden;padding: 0;position: absolute;width: 1px;}#sk-container-id-7 div.sk-estimator {font-family: monospace;background-color: #f0f8ff;border: 1px dotted black;border-radius: 0.25em;box-sizing: border-box;margin-bottom: 0.5em;}#sk-container-id-7 div.sk-estimator:hover {background-color: #d4ebff;}#sk-container-id-7 div.sk-parallel-item::after {content: \"\";width: 100%;border-bottom: 1px solid gray;flex-grow: 1;}#sk-container-id-7 div.sk-label:hover label.sk-toggleable__label {background-color: #d4ebff;}#sk-container-id-7 div.sk-serial::before {content: \"\";position: absolute;border-left: 1px solid gray;box-sizing: border-box;top: 0;bottom: 0;left: 50%;z-index: 0;}#sk-container-id-7 div.sk-serial {display: flex;flex-direction: column;align-items: center;background-color: white;padding-right: 0.2em;padding-left: 0.2em;position: relative;}#sk-container-id-7 div.sk-item {position: relative;z-index: 1;}#sk-container-id-7 div.sk-parallel {display: flex;align-items: stretch;justify-content: center;background-color: white;position: relative;}#sk-container-id-7 div.sk-item::before, #sk-container-id-7 div.sk-parallel-item::before {content: \"\";position: absolute;border-left: 1px solid gray;box-sizing: border-box;top: 0;bottom: 0;left: 50%;z-index: -1;}#sk-container-id-7 div.sk-parallel-item {display: flex;flex-direction: column;z-index: 1;position: relative;background-color: white;}#sk-container-id-7 div.sk-parallel-item:first-child::after {align-self: flex-end;width: 50%;}#sk-container-id-7 div.sk-parallel-item:last-child::after {align-self: flex-start;width: 50%;}#sk-container-id-7 div.sk-parallel-item:only-child::after {width: 0;}#sk-container-id-7 div.sk-dashed-wrapped {border: 1px dashed gray;margin: 0 0.4em 0.5em 0.4em;box-sizing: border-box;padding-bottom: 0.4em;background-color: white;}#sk-container-id-7 div.sk-label label {font-family: monospace;font-weight: bold;display: inline-block;line-height: 1.2em;}#sk-container-id-7 div.sk-label-container {text-align: center;}#sk-container-id-7 div.sk-container {/* jupyter's `normalize.less` sets `[hidden] { display: none; }` but bootstrap.min.css set `[hidden] { display: none !important; }` so we also need the `!important` here to be able to override the default hidden behavior on the sphinx rendered scikit-learn.org. See: https://github.com/scikit-learn/scikit-learn/issues/21755 */display: inline-block !important;position: relative;}#sk-container-id-7 div.sk-text-repr-fallback {display: none;}</style><div id=\"sk-container-id-7\" class=\"sk-top-container\"><div class=\"sk-text-repr-fallback\"><pre>LGBMClassifier(objective=&#x27;multiclass&#x27;)</pre><b>In a Jupyter environment, please rerun this cell to show the HTML representation or trust the notebook. <br />On GitHub, the HTML representation is unable to render, please try loading this page with nbviewer.org.</b></div><div class=\"sk-container\" hidden><div class=\"sk-item\"><div class=\"sk-estimator sk-toggleable\"><input class=\"sk-toggleable__control sk-hidden--visually\" id=\"sk-estimator-id-7\" type=\"checkbox\" checked><label for=\"sk-estimator-id-7\" class=\"sk-toggleable__label sk-toggleable__label-arrow\">LGBMClassifier</label><div class=\"sk-toggleable__content\"><pre>LGBMClassifier(objective=&#x27;multiclass&#x27;)</pre></div></div></div></div></div>"
      ],
      "text/plain": [
       "LGBMClassifier(objective='multiclass')"
      ]
     },
     "execution_count": 52,
     "metadata": {},
     "output_type": "execute_result"
    }
   ],
   "source": [
    "clf = lgbm.LGBMClassifier(objective=obj_par) \n",
    "clf.fit(X_train, y_train)"
   ]
  },
  {
   "cell_type": "code",
   "execution_count": 53,
   "id": "355a078b",
   "metadata": {
    "execution": {
     "iopub.execute_input": "2023-03-20T11:28:12.024924Z",
     "iopub.status.busy": "2023-03-20T11:28:12.024510Z",
     "iopub.status.idle": "2023-03-20T11:28:12.048583Z",
     "shell.execute_reply": "2023-03-20T11:28:12.047772Z"
    },
    "papermill": {
     "duration": 0.041178,
     "end_time": "2023-03-20T11:28:12.050340",
     "exception": false,
     "start_time": "2023-03-20T11:28:12.009162",
     "status": "completed"
    },
    "tags": []
   },
   "outputs": [
    {
     "name": "stdout",
     "output_type": "stream",
     "text": [
      "              precision    recall  f1-score   support\n",
      "\n",
      "        comp       0.31      0.17      0.22        47\n",
      "        misc       0.00      0.00      0.00         8\n",
      "         rec       0.23      0.16      0.19        49\n",
      "    religion       0.34      0.42      0.38        88\n",
      "         sci       0.24      0.26      0.25        68\n",
      "        talk       0.30      0.34      0.32        95\n",
      "\n",
      "    accuracy                           0.29       355\n",
      "   macro avg       0.24      0.23      0.23       355\n",
      "weighted avg       0.28      0.29      0.28       355\n",
      "\n"
     ]
    }
   ],
   "source": [
    "y_pred = clf.predict(X_test)\n",
    "print(classification_report(y_test, y_pred))"
   ]
  },
  {
   "cell_type": "code",
   "execution_count": 54,
   "id": "f22b911e",
   "metadata": {
    "execution": {
     "iopub.execute_input": "2023-03-20T11:28:12.083135Z",
     "iopub.status.busy": "2023-03-20T11:28:12.082041Z",
     "iopub.status.idle": "2023-03-20T11:28:12.110142Z",
     "shell.execute_reply": "2023-03-20T11:28:12.108926Z"
    },
    "papermill": {
     "duration": 0.045939,
     "end_time": "2023-03-20T11:28:12.112162",
     "exception": false,
     "start_time": "2023-03-20T11:28:12.066223",
     "status": "completed"
    },
    "tags": []
   },
   "outputs": [],
   "source": [
    "acc = accuracy_score(y_test, y_pred)\n",
    "pre = precision_score(y_test, y_pred, average=avg_par)\n",
    "rec = recall_score(y_test, y_pred, average=avg_par)\n",
    "f1 = f1_score(y_test, y_pred, average=avg_par)\n",
    "\n",
    "metrics_data['Shapelets']['LightGBM'] = {'Accuracy': acc, 'Precision': pre, 'Recall': rec, 'F1': f1}"
   ]
  },
  {
   "cell_type": "markdown",
   "id": "0809af9f",
   "metadata": {
    "papermill": {
     "duration": 0.014267,
     "end_time": "2023-03-20T11:28:12.143159",
     "exception": false,
     "start_time": "2023-03-20T11:28:12.128892",
     "status": "completed"
    },
    "tags": []
   },
   "source": [
    "#### KNN"
   ]
  },
  {
   "cell_type": "code",
   "execution_count": 55,
   "id": "1c9237e0",
   "metadata": {
    "execution": {
     "iopub.execute_input": "2023-03-20T11:28:12.174746Z",
     "iopub.status.busy": "2023-03-20T11:28:12.173966Z",
     "iopub.status.idle": "2023-03-20T11:28:12.181068Z",
     "shell.execute_reply": "2023-03-20T11:28:12.179901Z"
    },
    "papermill": {
     "duration": 0.025078,
     "end_time": "2023-03-20T11:28:12.182881",
     "exception": false,
     "start_time": "2023-03-20T11:28:12.157803",
     "status": "completed"
    },
    "tags": []
   },
   "outputs": [],
   "source": [
    "X_train = ts_train.reshape((ts_train.shape[0], ts_train.shape[1]))\n",
    "X_test = ts_test.reshape((ts_test.shape[0], ts_test.shape[1]))"
   ]
  },
  {
   "cell_type": "code",
   "execution_count": 56,
   "id": "192f3c3f",
   "metadata": {
    "execution": {
     "iopub.execute_input": "2023-03-20T11:28:12.215789Z",
     "iopub.status.busy": "2023-03-20T11:28:12.214914Z",
     "iopub.status.idle": "2023-03-20T11:28:12.224283Z",
     "shell.execute_reply": "2023-03-20T11:28:12.222605Z"
    },
    "papermill": {
     "duration": 0.030662,
     "end_time": "2023-03-20T11:28:12.228377",
     "exception": false,
     "start_time": "2023-03-20T11:28:12.197715",
     "status": "completed"
    },
    "tags": []
   },
   "outputs": [
    {
     "data": {
      "text/plain": [
       "(1420, 100)"
      ]
     },
     "execution_count": 56,
     "metadata": {},
     "output_type": "execute_result"
    }
   ],
   "source": [
    "X_train.shape"
   ]
  },
  {
   "cell_type": "code",
   "execution_count": 57,
   "id": "de0e5000",
   "metadata": {
    "execution": {
     "iopub.execute_input": "2023-03-20T11:28:12.267745Z",
     "iopub.status.busy": "2023-03-20T11:28:12.266842Z",
     "iopub.status.idle": "2023-03-20T11:28:12.274173Z",
     "shell.execute_reply": "2023-03-20T11:28:12.272585Z"
    },
    "papermill": {
     "duration": 0.028252,
     "end_time": "2023-03-20T11:28:12.276594",
     "exception": false,
     "start_time": "2023-03-20T11:28:12.248342",
     "status": "completed"
    },
    "tags": []
   },
   "outputs": [],
   "source": [
    "metrics_data['KNN'] = {}"
   ]
  },
  {
   "cell_type": "markdown",
   "id": "8ee39c05",
   "metadata": {
    "papermill": {
     "duration": 0.017798,
     "end_time": "2023-03-20T11:28:12.311499",
     "exception": false,
     "start_time": "2023-03-20T11:28:12.293701",
     "status": "completed"
    },
    "tags": []
   },
   "source": [
    "**Euclidean Distance**"
   ]
  },
  {
   "cell_type": "code",
   "execution_count": 58,
   "id": "55db1f58",
   "metadata": {
    "execution": {
     "iopub.execute_input": "2023-03-20T11:28:12.354390Z",
     "iopub.status.busy": "2023-03-20T11:28:12.354054Z",
     "iopub.status.idle": "2023-03-20T11:28:12.359309Z",
     "shell.execute_reply": "2023-03-20T11:28:12.357999Z"
    },
    "papermill": {
     "duration": 0.030493,
     "end_time": "2023-03-20T11:28:12.361294",
     "exception": false,
     "start_time": "2023-03-20T11:28:12.330801",
     "status": "completed"
    },
    "tags": []
   },
   "outputs": [],
   "source": [
    "from sklearn.neighbors import KNeighborsClassifier"
   ]
  },
  {
   "cell_type": "code",
   "execution_count": 59,
   "id": "132c2537",
   "metadata": {
    "execution": {
     "iopub.execute_input": "2023-03-20T11:28:12.401226Z",
     "iopub.status.busy": "2023-03-20T11:28:12.400898Z",
     "iopub.status.idle": "2023-03-20T11:28:12.411625Z",
     "shell.execute_reply": "2023-03-20T11:28:12.410229Z"
    },
    "papermill": {
     "duration": 0.033817,
     "end_time": "2023-03-20T11:28:12.414182",
     "exception": false,
     "start_time": "2023-03-20T11:28:12.380365",
     "status": "completed"
    },
    "tags": []
   },
   "outputs": [
    {
     "data": {
      "text/html": [
       "<style>#sk-container-id-8 {color: black;background-color: white;}#sk-container-id-8 pre{padding: 0;}#sk-container-id-8 div.sk-toggleable {background-color: white;}#sk-container-id-8 label.sk-toggleable__label {cursor: pointer;display: block;width: 100%;margin-bottom: 0;padding: 0.3em;box-sizing: border-box;text-align: center;}#sk-container-id-8 label.sk-toggleable__label-arrow:before {content: \"▸\";float: left;margin-right: 0.25em;color: #696969;}#sk-container-id-8 label.sk-toggleable__label-arrow:hover:before {color: black;}#sk-container-id-8 div.sk-estimator:hover label.sk-toggleable__label-arrow:before {color: black;}#sk-container-id-8 div.sk-toggleable__content {max-height: 0;max-width: 0;overflow: hidden;text-align: left;background-color: #f0f8ff;}#sk-container-id-8 div.sk-toggleable__content pre {margin: 0.2em;color: black;border-radius: 0.25em;background-color: #f0f8ff;}#sk-container-id-8 input.sk-toggleable__control:checked~div.sk-toggleable__content {max-height: 200px;max-width: 100%;overflow: auto;}#sk-container-id-8 input.sk-toggleable__control:checked~label.sk-toggleable__label-arrow:before {content: \"▾\";}#sk-container-id-8 div.sk-estimator input.sk-toggleable__control:checked~label.sk-toggleable__label {background-color: #d4ebff;}#sk-container-id-8 div.sk-label input.sk-toggleable__control:checked~label.sk-toggleable__label {background-color: #d4ebff;}#sk-container-id-8 input.sk-hidden--visually {border: 0;clip: rect(1px 1px 1px 1px);clip: rect(1px, 1px, 1px, 1px);height: 1px;margin: -1px;overflow: hidden;padding: 0;position: absolute;width: 1px;}#sk-container-id-8 div.sk-estimator {font-family: monospace;background-color: #f0f8ff;border: 1px dotted black;border-radius: 0.25em;box-sizing: border-box;margin-bottom: 0.5em;}#sk-container-id-8 div.sk-estimator:hover {background-color: #d4ebff;}#sk-container-id-8 div.sk-parallel-item::after {content: \"\";width: 100%;border-bottom: 1px solid gray;flex-grow: 1;}#sk-container-id-8 div.sk-label:hover label.sk-toggleable__label {background-color: #d4ebff;}#sk-container-id-8 div.sk-serial::before {content: \"\";position: absolute;border-left: 1px solid gray;box-sizing: border-box;top: 0;bottom: 0;left: 50%;z-index: 0;}#sk-container-id-8 div.sk-serial {display: flex;flex-direction: column;align-items: center;background-color: white;padding-right: 0.2em;padding-left: 0.2em;position: relative;}#sk-container-id-8 div.sk-item {position: relative;z-index: 1;}#sk-container-id-8 div.sk-parallel {display: flex;align-items: stretch;justify-content: center;background-color: white;position: relative;}#sk-container-id-8 div.sk-item::before, #sk-container-id-8 div.sk-parallel-item::before {content: \"\";position: absolute;border-left: 1px solid gray;box-sizing: border-box;top: 0;bottom: 0;left: 50%;z-index: -1;}#sk-container-id-8 div.sk-parallel-item {display: flex;flex-direction: column;z-index: 1;position: relative;background-color: white;}#sk-container-id-8 div.sk-parallel-item:first-child::after {align-self: flex-end;width: 50%;}#sk-container-id-8 div.sk-parallel-item:last-child::after {align-self: flex-start;width: 50%;}#sk-container-id-8 div.sk-parallel-item:only-child::after {width: 0;}#sk-container-id-8 div.sk-dashed-wrapped {border: 1px dashed gray;margin: 0 0.4em 0.5em 0.4em;box-sizing: border-box;padding-bottom: 0.4em;background-color: white;}#sk-container-id-8 div.sk-label label {font-family: monospace;font-weight: bold;display: inline-block;line-height: 1.2em;}#sk-container-id-8 div.sk-label-container {text-align: center;}#sk-container-id-8 div.sk-container {/* jupyter's `normalize.less` sets `[hidden] { display: none; }` but bootstrap.min.css set `[hidden] { display: none !important; }` so we also need the `!important` here to be able to override the default hidden behavior on the sphinx rendered scikit-learn.org. See: https://github.com/scikit-learn/scikit-learn/issues/21755 */display: inline-block !important;position: relative;}#sk-container-id-8 div.sk-text-repr-fallback {display: none;}</style><div id=\"sk-container-id-8\" class=\"sk-top-container\"><div class=\"sk-text-repr-fallback\"><pre>KNeighborsClassifier()</pre><b>In a Jupyter environment, please rerun this cell to show the HTML representation or trust the notebook. <br />On GitHub, the HTML representation is unable to render, please try loading this page with nbviewer.org.</b></div><div class=\"sk-container\" hidden><div class=\"sk-item\"><div class=\"sk-estimator sk-toggleable\"><input class=\"sk-toggleable__control sk-hidden--visually\" id=\"sk-estimator-id-8\" type=\"checkbox\" checked><label for=\"sk-estimator-id-8\" class=\"sk-toggleable__label sk-toggleable__label-arrow\">KNeighborsClassifier</label><div class=\"sk-toggleable__content\"><pre>KNeighborsClassifier()</pre></div></div></div></div></div>"
      ],
      "text/plain": [
       "KNeighborsClassifier()"
      ]
     },
     "execution_count": 59,
     "metadata": {},
     "output_type": "execute_result"
    }
   ],
   "source": [
    "clf = KNeighborsClassifier(n_neighbors=5, weights='uniform')\n",
    "clf.fit(X_train, y_train)"
   ]
  },
  {
   "cell_type": "code",
   "execution_count": 60,
   "id": "0afad62a",
   "metadata": {
    "execution": {
     "iopub.execute_input": "2023-03-20T11:28:12.449916Z",
     "iopub.status.busy": "2023-03-20T11:28:12.449541Z",
     "iopub.status.idle": "2023-03-20T11:28:12.626928Z",
     "shell.execute_reply": "2023-03-20T11:28:12.625952Z"
    },
    "papermill": {
     "duration": 0.199039,
     "end_time": "2023-03-20T11:28:12.629184",
     "exception": false,
     "start_time": "2023-03-20T11:28:12.430145",
     "status": "completed"
    },
    "tags": []
   },
   "outputs": [
    {
     "name": "stdout",
     "output_type": "stream",
     "text": [
      "              precision    recall  f1-score   support\n",
      "\n",
      "        comp       0.21      0.38      0.27        47\n",
      "        misc       0.00      0.00      0.00         8\n",
      "         rec       0.19      0.20      0.20        49\n",
      "    religion       0.28      0.28      0.28        88\n",
      "         sci       0.36      0.29      0.33        68\n",
      "        talk       0.35      0.24      0.29        95\n",
      "\n",
      "    accuracy                           0.27       355\n",
      "   macro avg       0.23      0.23      0.23       355\n",
      "weighted avg       0.29      0.27      0.27       355\n",
      "\n"
     ]
    }
   ],
   "source": [
    "y_pred = clf.predict(X_test)\n",
    "print(classification_report(y_test, y_pred))"
   ]
  },
  {
   "cell_type": "code",
   "execution_count": 61,
   "id": "2d709070",
   "metadata": {
    "execution": {
     "iopub.execute_input": "2023-03-20T11:28:12.670256Z",
     "iopub.status.busy": "2023-03-20T11:28:12.669932Z",
     "iopub.status.idle": "2023-03-20T11:28:12.685532Z",
     "shell.execute_reply": "2023-03-20T11:28:12.684520Z"
    },
    "papermill": {
     "duration": 0.037339,
     "end_time": "2023-03-20T11:28:12.687908",
     "exception": false,
     "start_time": "2023-03-20T11:28:12.650569",
     "status": "completed"
    },
    "tags": []
   },
   "outputs": [],
   "source": [
    "acc = accuracy_score(y_test, y_pred)\n",
    "pre = precision_score(y_test, y_pred, average=avg_par)\n",
    "rec = recall_score(y_test, y_pred, average=avg_par)\n",
    "f1 = f1_score(y_test, y_pred, average=avg_par)\n",
    "\n",
    "metrics_data['KNN']['Euclidean'] = {'Accuracy': acc, 'Precision': pre, 'Recall': rec, 'F1': f1}"
   ]
  },
  {
   "cell_type": "markdown",
   "id": "c5ec2a09",
   "metadata": {
    "papermill": {
     "duration": 0.014854,
     "end_time": "2023-03-20T11:28:12.719231",
     "exception": false,
     "start_time": "2023-03-20T11:28:12.704377",
     "status": "completed"
    },
    "tags": []
   },
   "source": [
    "**Dynamic Time Warping**"
   ]
  },
  {
   "cell_type": "code",
   "execution_count": 62,
   "id": "2df913d8",
   "metadata": {
    "execution": {
     "iopub.execute_input": "2023-03-20T11:28:12.756198Z",
     "iopub.status.busy": "2023-03-20T11:28:12.755144Z",
     "iopub.status.idle": "2023-03-20T11:28:12.858739Z",
     "shell.execute_reply": "2023-03-20T11:28:12.857908Z"
    },
    "papermill": {
     "duration": 0.12535,
     "end_time": "2023-03-20T11:28:12.861210",
     "exception": false,
     "start_time": "2023-03-20T11:28:12.735860",
     "status": "completed"
    },
    "tags": []
   },
   "outputs": [],
   "source": [
    "from pyts.classification import KNeighborsClassifier\n",
    "from pyts.approximation import PiecewiseAggregateApproximation\n",
    "from imblearn.under_sampling import ClusterCentroids\n",
    "from sklearn_extra.cluster import KMedoids"
   ]
  },
  {
   "cell_type": "code",
   "execution_count": 63,
   "id": "db1604ec",
   "metadata": {
    "execution": {
     "iopub.execute_input": "2023-03-20T11:28:12.902825Z",
     "iopub.status.busy": "2023-03-20T11:28:12.902032Z",
     "iopub.status.idle": "2023-03-20T11:28:12.909556Z",
     "shell.execute_reply": "2023-03-20T11:28:12.908325Z"
    },
    "papermill": {
     "duration": 0.030646,
     "end_time": "2023-03-20T11:28:12.911789",
     "exception": false,
     "start_time": "2023-03-20T11:28:12.881143",
     "status": "completed"
    },
    "tags": []
   },
   "outputs": [],
   "source": [
    "if paa_window_size:\n",
    "    paa = PiecewiseAggregateApproximation(window_size=paa_window_size)\n",
    "    X_train = paa.transform(X_train)\n",
    "    X_test = paa.transform(X_test)\n",
    "    X_train.shape"
   ]
  },
  {
   "cell_type": "code",
   "execution_count": 64,
   "id": "59fa27aa",
   "metadata": {
    "execution": {
     "iopub.execute_input": "2023-03-20T11:28:12.947001Z",
     "iopub.status.busy": "2023-03-20T11:28:12.946710Z",
     "iopub.status.idle": "2023-03-20T11:28:12.952805Z",
     "shell.execute_reply": "2023-03-20T11:28:12.951736Z"
    },
    "papermill": {
     "duration": 0.02636,
     "end_time": "2023-03-20T11:28:12.954460",
     "exception": false,
     "start_time": "2023-03-20T11:28:12.928100",
     "status": "completed"
    },
    "tags": []
   },
   "outputs": [],
   "source": [
    "if undersampling:\n",
    "    total_samples = len(y_train)\n",
    "    unique_classes, class_counts = np.unique(y_train, return_counts=True)\n",
    "    samp_strat = dict(zip(unique_classes, np.floor(class_counts * undersampling).astype(int)))\n",
    "    print(samp_strat)\n",
    "    cc = ClusterCentroids(estimator=KMedoids(\n",
    "        random_state=42), sampling_strategy=samp_strat, random_state=42)\n",
    "    X_train, y_train = cc.fit_resample(X_train, y_train)\n",
    "    X_train.shape"
   ]
  },
  {
   "cell_type": "code",
   "execution_count": 65,
   "id": "e7ac6b44",
   "metadata": {
    "execution": {
     "iopub.execute_input": "2023-03-20T11:28:12.991634Z",
     "iopub.status.busy": "2023-03-20T11:28:12.990855Z",
     "iopub.status.idle": "2023-03-20T11:28:13.000889Z",
     "shell.execute_reply": "2023-03-20T11:28:12.999940Z"
    },
    "papermill": {
     "duration": 0.030461,
     "end_time": "2023-03-20T11:28:13.002703",
     "exception": false,
     "start_time": "2023-03-20T11:28:12.972242",
     "status": "completed"
    },
    "tags": []
   },
   "outputs": [
    {
     "data": {
      "text/html": [
       "<style>#sk-container-id-9 {color: black;background-color: white;}#sk-container-id-9 pre{padding: 0;}#sk-container-id-9 div.sk-toggleable {background-color: white;}#sk-container-id-9 label.sk-toggleable__label {cursor: pointer;display: block;width: 100%;margin-bottom: 0;padding: 0.3em;box-sizing: border-box;text-align: center;}#sk-container-id-9 label.sk-toggleable__label-arrow:before {content: \"▸\";float: left;margin-right: 0.25em;color: #696969;}#sk-container-id-9 label.sk-toggleable__label-arrow:hover:before {color: black;}#sk-container-id-9 div.sk-estimator:hover label.sk-toggleable__label-arrow:before {color: black;}#sk-container-id-9 div.sk-toggleable__content {max-height: 0;max-width: 0;overflow: hidden;text-align: left;background-color: #f0f8ff;}#sk-container-id-9 div.sk-toggleable__content pre {margin: 0.2em;color: black;border-radius: 0.25em;background-color: #f0f8ff;}#sk-container-id-9 input.sk-toggleable__control:checked~div.sk-toggleable__content {max-height: 200px;max-width: 100%;overflow: auto;}#sk-container-id-9 input.sk-toggleable__control:checked~label.sk-toggleable__label-arrow:before {content: \"▾\";}#sk-container-id-9 div.sk-estimator input.sk-toggleable__control:checked~label.sk-toggleable__label {background-color: #d4ebff;}#sk-container-id-9 div.sk-label input.sk-toggleable__control:checked~label.sk-toggleable__label {background-color: #d4ebff;}#sk-container-id-9 input.sk-hidden--visually {border: 0;clip: rect(1px 1px 1px 1px);clip: rect(1px, 1px, 1px, 1px);height: 1px;margin: -1px;overflow: hidden;padding: 0;position: absolute;width: 1px;}#sk-container-id-9 div.sk-estimator {font-family: monospace;background-color: #f0f8ff;border: 1px dotted black;border-radius: 0.25em;box-sizing: border-box;margin-bottom: 0.5em;}#sk-container-id-9 div.sk-estimator:hover {background-color: #d4ebff;}#sk-container-id-9 div.sk-parallel-item::after {content: \"\";width: 100%;border-bottom: 1px solid gray;flex-grow: 1;}#sk-container-id-9 div.sk-label:hover label.sk-toggleable__label {background-color: #d4ebff;}#sk-container-id-9 div.sk-serial::before {content: \"\";position: absolute;border-left: 1px solid gray;box-sizing: border-box;top: 0;bottom: 0;left: 50%;z-index: 0;}#sk-container-id-9 div.sk-serial {display: flex;flex-direction: column;align-items: center;background-color: white;padding-right: 0.2em;padding-left: 0.2em;position: relative;}#sk-container-id-9 div.sk-item {position: relative;z-index: 1;}#sk-container-id-9 div.sk-parallel {display: flex;align-items: stretch;justify-content: center;background-color: white;position: relative;}#sk-container-id-9 div.sk-item::before, #sk-container-id-9 div.sk-parallel-item::before {content: \"\";position: absolute;border-left: 1px solid gray;box-sizing: border-box;top: 0;bottom: 0;left: 50%;z-index: -1;}#sk-container-id-9 div.sk-parallel-item {display: flex;flex-direction: column;z-index: 1;position: relative;background-color: white;}#sk-container-id-9 div.sk-parallel-item:first-child::after {align-self: flex-end;width: 50%;}#sk-container-id-9 div.sk-parallel-item:last-child::after {align-self: flex-start;width: 50%;}#sk-container-id-9 div.sk-parallel-item:only-child::after {width: 0;}#sk-container-id-9 div.sk-dashed-wrapped {border: 1px dashed gray;margin: 0 0.4em 0.5em 0.4em;box-sizing: border-box;padding-bottom: 0.4em;background-color: white;}#sk-container-id-9 div.sk-label label {font-family: monospace;font-weight: bold;display: inline-block;line-height: 1.2em;}#sk-container-id-9 div.sk-label-container {text-align: center;}#sk-container-id-9 div.sk-container {/* jupyter's `normalize.less` sets `[hidden] { display: none; }` but bootstrap.min.css set `[hidden] { display: none !important; }` so we also need the `!important` here to be able to override the default hidden behavior on the sphinx rendered scikit-learn.org. See: https://github.com/scikit-learn/scikit-learn/issues/21755 */display: inline-block !important;position: relative;}#sk-container-id-9 div.sk-text-repr-fallback {display: none;}</style><div id=\"sk-container-id-9\" class=\"sk-top-container\"><div class=\"sk-text-repr-fallback\"><pre>KNeighborsClassifier(metric=&#x27;dtw_sakoechiba&#x27;, metric_params={&#x27;window_size&#x27;: 3})</pre><b>In a Jupyter environment, please rerun this cell to show the HTML representation or trust the notebook. <br />On GitHub, the HTML representation is unable to render, please try loading this page with nbviewer.org.</b></div><div class=\"sk-container\" hidden><div class=\"sk-item\"><div class=\"sk-estimator sk-toggleable\"><input class=\"sk-toggleable__control sk-hidden--visually\" id=\"sk-estimator-id-9\" type=\"checkbox\" checked><label for=\"sk-estimator-id-9\" class=\"sk-toggleable__label sk-toggleable__label-arrow\">KNeighborsClassifier</label><div class=\"sk-toggleable__content\"><pre>KNeighborsClassifier(metric=&#x27;dtw_sakoechiba&#x27;, metric_params={&#x27;window_size&#x27;: 3})</pre></div></div></div></div></div>"
      ],
      "text/plain": [
       "KNeighborsClassifier(metric='dtw_sakoechiba', metric_params={'window_size': 3})"
      ]
     },
     "execution_count": 65,
     "metadata": {},
     "output_type": "execute_result"
    }
   ],
   "source": [
    "clf = KNeighborsClassifier(metric='dtw_sakoechiba',  metric_params={'window_size':3})\n",
    "\n",
    "clf.fit(X_train, y_train)"
   ]
  },
  {
   "cell_type": "code",
   "execution_count": 66,
   "id": "8109d19d",
   "metadata": {
    "execution": {
     "iopub.execute_input": "2023-03-20T11:28:13.040936Z",
     "iopub.status.busy": "2023-03-20T11:28:13.040641Z",
     "iopub.status.idle": "2023-03-20T11:29:52.809524Z",
     "shell.execute_reply": "2023-03-20T11:29:52.808563Z"
    },
    "papermill": {
     "duration": 99.817733,
     "end_time": "2023-03-20T11:29:52.838828",
     "exception": false,
     "start_time": "2023-03-20T11:28:13.021095",
     "status": "completed"
    },
    "tags": []
   },
   "outputs": [
    {
     "name": "stdout",
     "output_type": "stream",
     "text": [
      "              precision    recall  f1-score   support\n",
      "\n",
      "        comp       0.24      0.21      0.22        47\n",
      "        misc       0.00      0.00      0.00         8\n",
      "         rec       0.25      0.22      0.24        49\n",
      "    religion       0.34      0.34      0.34        88\n",
      "         sci       0.23      0.22      0.22        68\n",
      "        talk       0.31      0.36      0.33        95\n",
      "\n",
      "    accuracy                           0.28       355\n",
      "   macro avg       0.23      0.23      0.23       355\n",
      "weighted avg       0.28      0.28      0.28       355\n",
      "\n",
      "CPU times: user 1min 39s, sys: 67.8 ms, total: 1min 39s\n",
      "Wall time: 1min 39s\n"
     ]
    }
   ],
   "source": [
    "%%time\n",
    "y_pred = clf.predict(X_test)\n",
    "print(classification_report(y_test, y_pred))"
   ]
  },
  {
   "cell_type": "code",
   "execution_count": 67,
   "id": "b09f5cdf",
   "metadata": {
    "execution": {
     "iopub.execute_input": "2023-03-20T11:29:52.904196Z",
     "iopub.status.busy": "2023-03-20T11:29:52.903683Z",
     "iopub.status.idle": "2023-03-20T11:29:52.928262Z",
     "shell.execute_reply": "2023-03-20T11:29:52.927121Z"
    },
    "papermill": {
     "duration": 0.049744,
     "end_time": "2023-03-20T11:29:52.930276",
     "exception": false,
     "start_time": "2023-03-20T11:29:52.880532",
     "status": "completed"
    },
    "tags": []
   },
   "outputs": [],
   "source": [
    "acc = accuracy_score(y_test, y_pred)\n",
    "pre = precision_score(y_test, y_pred, average=avg_par)\n",
    "rec = recall_score(y_test, y_pred, average=avg_par)\n",
    "f1 = f1_score(y_test, y_pred, average=avg_par)\n",
    "\n",
    "metrics_data['KNN']['DTW'] = {'Accuracy': acc, 'Precision': pre, 'Recall': rec, 'F1': f1}"
   ]
  },
  {
   "cell_type": "markdown",
   "id": "e0e700a7",
   "metadata": {
    "papermill": {
     "duration": 0.014686,
     "end_time": "2023-03-20T11:29:52.961144",
     "exception": false,
     "start_time": "2023-03-20T11:29:52.946458",
     "status": "completed"
    },
    "tags": []
   },
   "source": [
    "## Overall Results"
   ]
  },
  {
   "cell_type": "code",
   "execution_count": 68,
   "id": "d003c193",
   "metadata": {
    "execution": {
     "iopub.execute_input": "2023-03-20T11:29:52.994515Z",
     "iopub.status.busy": "2023-03-20T11:29:52.993860Z",
     "iopub.status.idle": "2023-03-20T11:29:53.003744Z",
     "shell.execute_reply": "2023-03-20T11:29:53.002468Z"
    },
    "papermill": {
     "duration": 0.029844,
     "end_time": "2023-03-20T11:29:53.005690",
     "exception": false,
     "start_time": "2023-03-20T11:29:52.975846",
     "status": "completed"
    },
    "tags": []
   },
   "outputs": [],
   "source": [
    "metrics_data = pd.DataFrame.from_dict({(i,j): metrics_data[i][j] \n",
    "                                       for i in metrics_data.keys() \n",
    "                                       for j in metrics_data[i].keys()},\n",
    "                                       orient='index')"
   ]
  },
  {
   "cell_type": "code",
   "execution_count": 69,
   "id": "0944fe84",
   "metadata": {
    "execution": {
     "iopub.execute_input": "2023-03-20T11:29:53.038166Z",
     "iopub.status.busy": "2023-03-20T11:29:53.037573Z",
     "iopub.status.idle": "2023-03-20T11:29:53.062697Z",
     "shell.execute_reply": "2023-03-20T11:29:53.061428Z"
    },
    "papermill": {
     "duration": 0.043349,
     "end_time": "2023-03-20T11:29:53.064718",
     "exception": false,
     "start_time": "2023-03-20T11:29:53.021369",
     "status": "completed"
    },
    "tags": []
   },
   "outputs": [],
   "source": [
    "acc = accuracy_score(y_test, y_pred)\n",
    "pre = precision_score(y_test, y_pred, average=avg_par)\n",
    "rec = recall_score(y_test, y_pred, average=avg_par)\n",
    "f1 = f1_score(y_test, y_pred, average=avg_par)"
   ]
  },
  {
   "cell_type": "code",
   "execution_count": 70,
   "id": "7ee1b347",
   "metadata": {
    "execution": {
     "iopub.execute_input": "2023-03-20T11:29:53.098265Z",
     "iopub.status.busy": "2023-03-20T11:29:53.097526Z",
     "iopub.status.idle": "2023-03-20T11:29:53.116263Z",
     "shell.execute_reply": "2023-03-20T11:29:53.114998Z"
    },
    "papermill": {
     "duration": 0.036761,
     "end_time": "2023-03-20T11:29:53.118317",
     "exception": false,
     "start_time": "2023-03-20T11:29:53.081556",
     "status": "completed"
    },
    "tags": []
   },
   "outputs": [
    {
     "data": {
      "text/html": [
       "<div>\n",
       "<style scoped>\n",
       "    .dataframe tbody tr th:only-of-type {\n",
       "        vertical-align: middle;\n",
       "    }\n",
       "\n",
       "    .dataframe tbody tr th {\n",
       "        vertical-align: top;\n",
       "    }\n",
       "\n",
       "    .dataframe thead th {\n",
       "        text-align: right;\n",
       "    }\n",
       "</style>\n",
       "<table border=\"1\" class=\"dataframe\">\n",
       "  <thead>\n",
       "    <tr style=\"text-align: right;\">\n",
       "      <th></th>\n",
       "      <th></th>\n",
       "      <th>Accuracy</th>\n",
       "      <th>Precision</th>\n",
       "      <th>Recall</th>\n",
       "      <th>F1</th>\n",
       "    </tr>\n",
       "  </thead>\n",
       "  <tbody>\n",
       "    <tr>\n",
       "      <th rowspan=\"3\" valign=\"top\">Global</th>\n",
       "      <th>DecisionTree</th>\n",
       "      <td>0.290141</td>\n",
       "      <td>0.289548</td>\n",
       "      <td>0.290141</td>\n",
       "      <td>0.288983</td>\n",
       "    </tr>\n",
       "    <tr>\n",
       "      <th>RandomForest</th>\n",
       "      <td>0.436620</td>\n",
       "      <td>0.435305</td>\n",
       "      <td>0.436620</td>\n",
       "      <td>0.429021</td>\n",
       "    </tr>\n",
       "    <tr>\n",
       "      <th>LightGBM</th>\n",
       "      <td>0.416901</td>\n",
       "      <td>0.415161</td>\n",
       "      <td>0.416901</td>\n",
       "      <td>0.411975</td>\n",
       "    </tr>\n",
       "    <tr>\n",
       "      <th rowspan=\"3\" valign=\"top\">Shapelets</th>\n",
       "      <th>DecisionTree</th>\n",
       "      <td>0.267606</td>\n",
       "      <td>0.272000</td>\n",
       "      <td>0.267606</td>\n",
       "      <td>0.269216</td>\n",
       "    </tr>\n",
       "    <tr>\n",
       "      <th>RandomForest</th>\n",
       "      <td>0.318310</td>\n",
       "      <td>0.333003</td>\n",
       "      <td>0.318310</td>\n",
       "      <td>0.306641</td>\n",
       "    </tr>\n",
       "    <tr>\n",
       "      <th>LightGBM</th>\n",
       "      <td>0.290141</td>\n",
       "      <td>0.282315</td>\n",
       "      <td>0.290141</td>\n",
       "      <td>0.281354</td>\n",
       "    </tr>\n",
       "    <tr>\n",
       "      <th rowspan=\"2\" valign=\"top\">KNN</th>\n",
       "      <th>Euclidean</th>\n",
       "      <td>0.270423</td>\n",
       "      <td>0.286682</td>\n",
       "      <td>0.270423</td>\n",
       "      <td>0.272098</td>\n",
       "    </tr>\n",
       "    <tr>\n",
       "      <th>DTW</th>\n",
       "      <td>0.281690</td>\n",
       "      <td>0.278317</td>\n",
       "      <td>0.281690</td>\n",
       "      <td>0.279436</td>\n",
       "    </tr>\n",
       "  </tbody>\n",
       "</table>\n",
       "</div>"
      ],
      "text/plain": [
       "                        Accuracy  Precision    Recall        F1\n",
       "Global    DecisionTree  0.290141   0.289548  0.290141  0.288983\n",
       "          RandomForest  0.436620   0.435305  0.436620  0.429021\n",
       "          LightGBM      0.416901   0.415161  0.416901  0.411975\n",
       "Shapelets DecisionTree  0.267606   0.272000  0.267606  0.269216\n",
       "          RandomForest  0.318310   0.333003  0.318310  0.306641\n",
       "          LightGBM      0.290141   0.282315  0.290141  0.281354\n",
       "KNN       Euclidean     0.270423   0.286682  0.270423  0.272098\n",
       "          DTW           0.281690   0.278317  0.281690  0.279436"
      ]
     },
     "execution_count": 70,
     "metadata": {},
     "output_type": "execute_result"
    }
   ],
   "source": [
    "metrics_data"
   ]
  },
  {
   "cell_type": "code",
   "execution_count": 71,
   "id": "3efc173e",
   "metadata": {
    "execution": {
     "iopub.execute_input": "2023-03-20T11:29:53.152617Z",
     "iopub.status.busy": "2023-03-20T11:29:53.151983Z",
     "iopub.status.idle": "2023-03-20T11:29:53.160764Z",
     "shell.execute_reply": "2023-03-20T11:29:53.159681Z"
    },
    "papermill": {
     "duration": 0.026672,
     "end_time": "2023-03-20T11:29:53.162619",
     "exception": false,
     "start_time": "2023-03-20T11:29:53.135947",
     "status": "completed"
    },
    "tags": []
   },
   "outputs": [],
   "source": [
    "metrics_data.to_csv(f'{data_path}/metrics.csv')"
   ]
  },
  {
   "cell_type": "code",
   "execution_count": null,
   "id": "d21f5304",
   "metadata": {
    "papermill": {
     "duration": 0.018407,
     "end_time": "2023-03-20T11:29:53.196225",
     "exception": false,
     "start_time": "2023-03-20T11:29:53.177818",
     "status": "completed"
    },
    "tags": []
   },
   "outputs": [],
   "source": []
  }
 ],
 "metadata": {
  "celltoolbar": "Tags",
  "kernelspec": {
   "display_name": "Python 3 (ipykernel)",
   "language": "python",
   "name": "python3"
  },
  "language_info": {
   "codemirror_mode": {
    "name": "ipython",
    "version": 3
   },
   "file_extension": ".py",
   "mimetype": "text/x-python",
   "name": "python",
   "nbconvert_exporter": "python",
   "pygments_lexer": "ipython3",
   "version": "3.9.16"
  },
  "papermill": {
   "default_parameters": {},
   "duration": 281.542595,
   "end_time": "2023-03-20T11:29:56.341128",
   "environment_variables": {},
   "exception": null,
   "input_path": "09_ts_classification.ipynb",
   "output_path": "../clf-reports/20ng_features.ipynb",
   "parameters": {
    "data_path": "/home/mattiapggioli/lyrics2ts/data/classification/20ng/features/"
   },
   "start_time": "2023-03-20T11:25:14.798533",
   "version": "2.4.0"
  },
  "vscode": {
   "interpreter": {
    "hash": "eb8d1ded7c87c6f9c253b40add648304d6b51d2e38393955e855effc7e6f899a"
   }
  }
 },
 "nbformat": 4,
 "nbformat_minor": 5
}